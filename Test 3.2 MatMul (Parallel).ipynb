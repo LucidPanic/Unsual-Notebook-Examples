{
 "cells": [
  {
   "cell_type": "markdown",
   "metadata": {},
   "source": [
    "# Test 3: Matrix Multiplication\n",
    "\n",
    "$f(\\theta) = A \\theta $\n"
   ]
  },
  {
   "cell_type": "code",
   "execution_count": 1,
   "metadata": {
    "collapsed": false,
    "scrolled": true
   },
   "outputs": [
    {
     "name": "stderr",
     "output_type": "stream",
     "text": [
      "WARNING: rmprocs: process 1 not removed\n"
     ]
    }
   ],
   "source": [
    "rmprocs(procs())\n",
    "workspace()"
   ]
  },
  {
   "cell_type": "markdown",
   "metadata": {},
   "source": [
    "### Parallel RTO"
   ]
  },
  {
   "cell_type": "code",
   "execution_count": 2,
   "metadata": {
    "collapsed": false
   },
   "outputs": [],
   "source": [
    "nsamps = 2000;\n",
    "n = 30;"
   ]
  },
  {
   "cell_type": "code",
   "execution_count": 3,
   "metadata": {
    "collapsed": false
   },
   "outputs": [
    {
     "name": "stderr",
     "output_type": "stream",
     "text": [
      "WARNING: Method definition isnull(Any) in module Compat at /home/zheng_w/.julia/v0.5/Compat/src/Compat.jl:1678 overwritten in module Compat at /home/zheng_w/.julia/v0.5/Compat/src/Compat.jl:1678.\n",
      "WARNING: Method definition redirect_stdin(Function, Any) in module Compat at /home/zheng_w/.julia/v0.5/Compat/src/Compat.jl:1600 overwritten in module Compat at /home/zheng_w/.julia/v0.5/Compat/src/Compat.jl:1600.\n",
      "WARNING: Method definition take!(Main.Base.AbstractIOBuffer) in module Compat at /home/zheng_w/.julia/v0.5/Compat/src/Compat.jl:1698 overwritten in module Compat at /home/zheng_w/.julia/v0.5/Compat/src/Compat.jl:1698.\n",
      "WARNING: Method definition redirect_stderr(Function, Any) in module Compat at /home/zheng_w/.julia/v0.5/Compat/src/Compat.jl:1600 overwritten in module Compat at /home/zheng_w/.julia/v0.5/Compat/src/Compat.jl:1600.\n",
      "WARNING: Method definition redirect_stdout(Function, Any) in module Compat at /home/zheng_w/.julia/v0.5/Compat/src/Compat.jl:1600 overwritten in module Compat at /home/zheng_w/.julia/v0.5/Compat/src/Compat.jl:1600.\n",
      "WARNING: replacing module NLopt.\n",
      "WARNING: replacing module HDF5.\n",
      "WARNING: replacing module JLD.\n",
      "WARNING: Method definition save(FileIO.File{FileIO.DataFormat{:JLD}}, Base.Associative) in module JLD at /home/zheng_w/.julia/v0.5/JLD/src/JLD.jl:1202 overwritten in module JLD at /home/zheng_w/.julia/v0.5/JLD/src/JLD.jl:1202.\n",
      "WARNING: Method definition save(FileIO.File{FileIO.DataFormat{:JLD}}, AbstractString, Any, Any...) in module JLD at /home/zheng_w/.julia/v0.5/JLD/src/JLD.jl:1214 overwritten in module JLD at /home/zheng_w/.julia/v0.5/JLD/src/JLD.jl:1214.\n",
      "WARNING: Method definition save(FileIO.File{FileIO.DataFormat{:JLD}}, Any...) in module JLD at /home/zheng_w/.julia/v0.5/JLD/src/JLD.jl:1225 overwritten in module JLD at /home/zheng_w/.julia/v0.5/JLD/src/JLD.jl:1225.\n",
      "WARNING: Method definition #save(Array{Any, 1}, FileIO.#save, FileIO.File{FileIO.DataFormat{:JLD}}, Base.Associative) in module JLD overwritten in module JLD.\n",
      "WARNING: Method definition #save(Array{Any, 1}, FileIO.#save, FileIO.File{FileIO.DataFormat{:JLD}}, AbstractString, Any, Any...) in module JLD overwritten in module JLD.\n",
      "WARNING: Method definition #save(Array{Any, 1}, FileIO.#save, FileIO.File{FileIO.DataFormat{:JLD}}, Any...) in module JLD overwritten in module JLD.\n",
      "WARNING: Method definition load(FileIO.File{FileIO.DataFormat{:JLD}}) in module JLD at /home/zheng_w/.julia/v0.5/JLD/src/JLD.jl:1229 overwritten in module JLD at /home/zheng_w/.julia/v0.5/JLD/src/JLD.jl:1229.\n",
      "WARNING: Method definition load(FileIO.File{FileIO.DataFormat{:JLD}}, AbstractString) in module JLD at /home/zheng_w/.julia/v0.5/JLD/src/JLD.jl:1235 overwritten in module JLD at /home/zheng_w/.julia/v0.5/JLD/src/JLD.jl:1235.\n",
      "WARNING: Method definition load(FileIO.File{FileIO.DataFormat{:JLD}}, AbstractString...) in module JLD at /home/zheng_w/.julia/v0.5/JLD/src/JLD.jl:1239 overwritten in module JLD at /home/zheng_w/.julia/v0.5/JLD/src/JLD.jl:1239.\n",
      "WARNING: Method definition load(FileIO.File{FileIO.DataFormat{:JLD}}, Tuple{Vararg{AbstractString, N<:Any}}) in module JLD at /home/zheng_w/.julia/v0.5/JLD/src/JLD.jl:1241 overwritten in module JLD at /home/zheng_w/.julia/v0.5/JLD/src/JLD.jl:1241.\n"
     ]
    }
   ],
   "source": [
    "# 1 worker\n",
    "addprocs(1)\n",
    "@everywhere include(\"../RandomizeThenOptimize.jl\")\n",
    "@everywhere using RandomizeThenOptimize, HDF5, JLD\n",
    "@everywhere A = load(\"data.jld\")[\"data\"];\n",
    "@everywhere function ff!(θ::AbstractVector, jac::AbstractMatrix)\n",
    "    if length(jac) > 0\n",
    "        jac[:]=A\n",
    "    end\n",
    "    \n",
    "    return A*θ\n",
    "end\n",
    "\n",
    "p = Problem(n,20)\n",
    "forward_model!(p,ff!)\n",
    "\n",
    "rto_mcmc(p,100);"
   ]
  },
  {
   "cell_type": "code",
   "execution_count": 4,
   "metadata": {
    "collapsed": false
   },
   "outputs": [
    {
     "name": "stdout",
     "output_type": "stream",
     "text": [
      "  5.840868 seconds (945 allocations: 2.789 MB)\n"
     ]
    }
   ],
   "source": [
    "@time rto_mcmc(p,nsamps);"
   ]
  },
  {
   "cell_type": "code",
   "execution_count": 5,
   "metadata": {
    "collapsed": false
   },
   "outputs": [
    {
     "name": "stderr",
     "output_type": "stream",
     "text": [
      "WARNING: replacing module RandomizeThenOptimize\n",
      "WARNING: replacing module RandomizeThenOptimize\n",
      "WARNING: using RandomizeThenOptimize.rto_mcmc in module Main conflicts with an existing identifier.\n",
      "WARNING: using RandomizeThenOptimize.Problem in module Main conflicts with an existing identifier.\n",
      "WARNING: using RandomizeThenOptimize.forward_model! in module Main conflicts with an existing identifier.\n",
      "WARNING: Method definition ff!(AbstractArray{T<:Any, 1}, AbstractArray{T<:Any, 2}) in module Main at In[3]:7 overwritten at In[5]:7.\n",
      "WARNING: Method definition ff!(AbstractArray{T<:Any, 1}, AbstractArray{T<:Any, 2}) in module Main at In[3]:7 overwritten at In[5]:7.\n"
     ]
    }
   ],
   "source": [
    "# 2 workers\n",
    "addprocs(1)\n",
    "@everywhere include(\"../RandomizeThenOptimize.jl\")\n",
    "@everywhere using RandomizeThenOptimize, HDF5, JLD\n",
    "@everywhere A = load(\"data.jld\")[\"data\"];\n",
    "@everywhere function ff!(θ::AbstractVector, jac::AbstractMatrix)\n",
    "    if length(jac) > 0\n",
    "        jac[:]=A\n",
    "    end\n",
    "    \n",
    "    return A*θ\n",
    "end\n",
    "\n",
    "p = Problem(n,20)\n",
    "forward_model!(p,ff!)\n",
    "\n",
    "rto_mcmc(p,100);"
   ]
  },
  {
   "cell_type": "code",
   "execution_count": 6,
   "metadata": {
    "collapsed": false
   },
   "outputs": [
    {
     "name": "stdout",
     "output_type": "stream",
     "text": [
      "  4.724510 seconds (1.04 k allocations: 2.915 MB)\n"
     ]
    }
   ],
   "source": [
    "@time rto_mcmc(p,nsamps);"
   ]
  },
  {
   "cell_type": "code",
   "execution_count": 7,
   "metadata": {
    "collapsed": false
   },
   "outputs": [
    {
     "name": "stderr",
     "output_type": "stream",
     "text": [
      "WARNING: replacing module RandomizeThenOptimize\n",
      "WARNING: replacing module RandomizeThenOptimize\n",
      "WARNING: replacing module RandomizeThenOptimize\n",
      "WARNING: using RandomizeThenOptimize.rto_mcmc in module Main conflicts with an existing identifier.\n",
      "WARNING: using RandomizeThenOptimize.Problem in module Main conflicts with an existing identifier.\n",
      "WARNING: using RandomizeThenOptimize.forward_model! in module Main conflicts with an existing identifier.\n",
      "WARNING: Method definition ff!(AbstractArray{T<:Any, 1}, AbstractArray{T<:Any, 2}) in module Main at In[5]:7 overwritten at In[7]:7.\n",
      "WARNING: Method definition ff!(AbstractArray{T<:Any, 1}, AbstractArray{T<:Any, 2}) in module Main at In[5]:7 overwritten at In[7]:7.\n",
      "WARNING: Method definition ff!(AbstractArray{T<:Any, 1}, AbstractArray{T<:Any, 2}) in module Main at In[5]:7 overwritten at In[7]:7.\n"
     ]
    }
   ],
   "source": [
    "# 3 workers\n",
    "addprocs(1)\n",
    "@everywhere include(\"../RandomizeThenOptimize.jl\")\n",
    "@everywhere using RandomizeThenOptimize, HDF5, JLD\n",
    "@everywhere A = load(\"data.jld\")[\"data\"];\n",
    "@everywhere function ff!(θ::AbstractVector, jac::AbstractMatrix)\n",
    "    if length(jac) > 0\n",
    "        jac[:]=A\n",
    "    end\n",
    "    \n",
    "    return A*θ\n",
    "end\n",
    "\n",
    "p = Problem(n,20)\n",
    "forward_model!(p,ff!)\n",
    "\n",
    "rto_mcmc(p,100);"
   ]
  },
  {
   "cell_type": "code",
   "execution_count": 8,
   "metadata": {
    "collapsed": false
   },
   "outputs": [
    {
     "name": "stdout",
     "output_type": "stream",
     "text": [
      "  3.176644 seconds (1.29 k allocations: 3.266 MB, 0.30% gc time)\n"
     ]
    }
   ],
   "source": [
    "@time rto_mcmc(p,nsamps);"
   ]
  },
  {
   "cell_type": "code",
   "execution_count": 9,
   "metadata": {
    "collapsed": false
   },
   "outputs": [
    {
     "name": "stderr",
     "output_type": "stream",
     "text": [
      "WARNING: replacing module RandomizeThenOptimize\n",
      "WARNING: replacing module RandomizeThenOptimize\n",
      "WARNING: replacing module RandomizeThenOptimize\n",
      "WARNING: replacing module RandomizeThenOptimize\n",
      "WARNING: using RandomizeThenOptimize.rto_mcmc in module Main conflicts with an existing identifier.\n",
      "WARNING: using RandomizeThenOptimize.Problem in module Main conflicts with an existing identifier.\n",
      "WARNING: using RandomizeThenOptimize.forward_model! in module Main conflicts with an existing identifier.\n",
      "WARNING: Method definition ff!(AbstractArray{T<:Any, 1}, AbstractArray{T<:Any, 2}) in module Main at In[7]:7 overwritten at In[9]:7.\n",
      "WARNING: Method definition ff!(AbstractArray{T<:Any, 1}, AbstractArray{T<:Any, 2}) in module Main at In[7]:7 overwritten at In[9]:7.\n",
      "WARNING: Method definition ff!(AbstractArray{T<:Any, 1}, AbstractArray{T<:Any, 2}) in module Main at In[7]:7 overwritten at In[9]:7.\n",
      "WARNING: Method definition ff!(AbstractArray{T<:Any, 1}, AbstractArray{T<:Any, 2}) in module Main at In[7]:7 overwritten at In[9]:7.\n"
     ]
    }
   ],
   "source": [
    "# 4 workers\n",
    "addprocs(1)\n",
    "@everywhere include(\"../RandomizeThenOptimize.jl\")\n",
    "@everywhere using RandomizeThenOptimize, HDF5, JLD\n",
    "@everywhere A = load(\"data.jld\")[\"data\"];\n",
    "@everywhere function ff!(θ::AbstractVector, jac::AbstractMatrix)\n",
    "    if length(jac) > 0\n",
    "        jac[:]=A\n",
    "    end\n",
    "    \n",
    "    return A*θ\n",
    "end\n",
    "\n",
    "p = Problem(n,20)\n",
    "forward_model!(p,ff!)\n",
    "\n",
    "rto_mcmc(p,100);"
   ]
  },
  {
   "cell_type": "code",
   "execution_count": 10,
   "metadata": {
    "collapsed": false
   },
   "outputs": [
    {
     "name": "stdout",
     "output_type": "stream",
     "text": [
      "  1.734321 seconds (1.57 k allocations: 3.328 MB)\n"
     ]
    }
   ],
   "source": [
    "@time rto_mcmc(p,nsamps);"
   ]
  },
  {
   "cell_type": "code",
   "execution_count": 11,
   "metadata": {
    "collapsed": false
   },
   "outputs": [
    {
     "name": "stderr",
     "output_type": "stream",
     "text": [
      "WARNING: replacing module RandomizeThenOptimize\n",
      "WARNING: replacing module RandomizeThenOptimize\n",
      "WARNING: replacing module RandomizeThenOptimize\n",
      "WARNING: replacing module RandomizeThenOptimize\n",
      "WARNING: replacing module RandomizeThenOptimize\n",
      "WARNING: using RandomizeThenOptimize.rto_mcmc in module Main conflicts with an existing identifier.\n",
      "WARNING: using RandomizeThenOptimize.Problem in module Main conflicts with an existing identifier.\n",
      "WARNING: using RandomizeThenOptimize.forward_model! in module Main conflicts with an existing identifier.\n",
      "WARNING: Method definition ff!(AbstractArray{T<:Any, 1}, AbstractArray{T<:Any, 2}) in module Main at In[9]:7 overwritten at In[11]:7.\n",
      "WARNING: Method definition WARNING: Method definition ff!(ff!(AbstractArrayAbstractArray{{T<:AnyT<:Any, , 11}}, , AbstractArrayAbstractArray{{T<:T<:AnyAny, , 22}})) in module Main in module Main at In[9]:7 at In[9]:7 overwritten overwritten at In[11]:7 at In[11]:7.\n",
      ".\n",
      "WARNING: Method definition ff!(AbstractArray{T<:Any, 1}, AbstractArray{T<:Any, 2}) in module Main at In[9]:7 overwritten at In[11]:7.\n",
      "WARNING: Method definition ff!(AbstractArray{T<:Any, 1}, AbstractArray{T<:Any, 2}) in module Main at In[9]:7 overwritten at In[11]:7.\n"
     ]
    }
   ],
   "source": [
    "# 5 workers\n",
    "addprocs(1)\n",
    "@everywhere include(\"../RandomizeThenOptimize.jl\")\n",
    "@everywhere using RandomizeThenOptimize, HDF5, JLD\n",
    "@everywhere A = load(\"data.jld\")[\"data\"];\n",
    "@everywhere function ff!(θ::AbstractVector, jac::AbstractMatrix)\n",
    "    if length(jac) > 0\n",
    "        jac[:]=A\n",
    "    end\n",
    "    \n",
    "    return A*θ\n",
    "end\n",
    "\n",
    "p = Problem(n,20)\n",
    "forward_model!(p,ff!)\n",
    "\n",
    "rto_mcmc(p,100);"
   ]
  },
  {
   "cell_type": "code",
   "execution_count": 12,
   "metadata": {
    "collapsed": false
   },
   "outputs": [
    {
     "name": "stdout",
     "output_type": "stream",
     "text": [
      "  1.298515 seconds (1.78 k allocations: 3.624 MB)\n"
     ]
    }
   ],
   "source": [
    "@time rto_mcmc(p,nsamps);"
   ]
  },
  {
   "cell_type": "code",
   "execution_count": 13,
   "metadata": {
    "collapsed": false
   },
   "outputs": [
    {
     "name": "stderr",
     "output_type": "stream",
     "text": [
      "WARNING: replacing module RandomizeThenOptimize\n",
      "WARNING: replacing module RandomizeThenOptimize\n",
      "WARNING: replacing module RandomizeThenOptimize\n",
      "WARNING: replacing module RandomizeThenOptimize\n",
      "WARNING: replacing module RandomizeThenOptimize\n",
      "WARNING: replacing module RandomizeThenOptimize\n",
      "WARNING: using RandomizeThenOptimize.rto_mcmc in module Main conflicts with an existing identifier.\n",
      "WARNING: using RandomizeThenOptimize.Problem in module Main conflicts with an existing identifier.\n",
      "WARNING: using RandomizeThenOptimize.forward_model! in module Main conflicts with an existing identifier.\n",
      "WARNING: Method definition ff!(AbstractArray{T<:Any, 1}, AbstractArray{T<:Any, 2}) in module Main at In[11]:7 overwritten at In[13]:7.\n",
      "WARNING: Method definition ff!(AbstractArray{T<:Any, 1}, AbstractArray{T<:Any, 2}) in module Main at In[11]:7 overwritten at In[13]:7.\n",
      "WARNING: Method definition ff!(AbstractArray{T<:Any, 1}, AbstractArray{T<:Any, 2}) in module Main at In[11]:7 overwritten at In[13]:7.\n",
      "WARNING: Method definition ff!(AbstractArray{T<:Any, 1}, AbstractArray{T<:Any, 2}) in module Main at In[11]:7 overwritten at In[13]:7.\n",
      "WARNING: Method definition WARNING: Method definition ff!ff!((AbstractArray{T<:Any, AbstractArray{1}T<:, AnyAbstractArray, {T<:Any1, }2}),  in module MainAbstractArray{ at In[11]:7 overwrittenT<: at In[13]:7Any.\n",
      ", 2}) in module Main at In[11]:7 overwritten at In[13]:7.\n"
     ]
    }
   ],
   "source": [
    "# 6 workers\n",
    "addprocs(1)\n",
    "@everywhere include(\"../RandomizeThenOptimize.jl\")\n",
    "@everywhere using RandomizeThenOptimize, HDF5, JLD\n",
    "@everywhere A = load(\"data.jld\")[\"data\"];\n",
    "@everywhere function ff!(θ::AbstractVector, jac::AbstractMatrix)\n",
    "    if length(jac) > 0\n",
    "        jac[:]=A\n",
    "    end\n",
    "    \n",
    "    return A*θ\n",
    "end\n",
    "\n",
    "p = Problem(n,20)\n",
    "forward_model!(p,ff!)\n",
    "\n",
    "rto_mcmc(p,100);"
   ]
  },
  {
   "cell_type": "code",
   "execution_count": 14,
   "metadata": {
    "collapsed": false
   },
   "outputs": [
    {
     "name": "stdout",
     "output_type": "stream",
     "text": [
      "  1.659383 seconds (2.09 k allocations: 4.167 MB, 0.46% gc time)\n"
     ]
    }
   ],
   "source": [
    "@time rto_mcmc(p,nsamps);"
   ]
  }
 ],
 "metadata": {
  "anaconda-cloud": {},
  "kernelspec": {
   "display_name": "Julia 0.5.0",
   "language": "julia",
   "name": "julia-0.5"
  },
  "language_info": {
   "file_extension": ".jl",
   "mimetype": "application/julia",
   "name": "julia",
   "version": "0.5.0"
  }
 },
 "nbformat": 4,
 "nbformat_minor": 1
}
