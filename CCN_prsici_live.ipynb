{
 "cells": [
  {
   "cell_type": "code",
   "execution_count": 6,
   "metadata": {},
   "outputs": [],
   "source": [
    "import numpy as np\n",
    "import h5py\n",
    "from matplotlib import pyplot as plt"
   ]
  },
  {
   "cell_type": "code",
   "execution_count": 30,
   "metadata": {},
   "outputs": [],
   "source": [
    "from keras.layers import *\n",
    "from keras.models import *\n",
    "from keras import optimizers"
   ]
  },
  {
   "cell_type": "code",
   "execution_count": 12,
   "metadata": {},
   "outputs": [],
   "source": [
    "def load_train_dataset(path='datasets/train_signs.h5', preview=5):\n",
    "    train_dataset = h5py.File(path, 'r')\n",
    "    \n",
    "    train_x = np.array(train_dataset['train_set_x'])\n",
    "    train_y = np.array(train_dataset['train_set_y'])\n",
    "    classes = np.array(train_dataset['list_classes'])\n",
    "\n",
    "    print(\"train_x size: {}\".format(train_x.shape))\n",
    "    print(\"train_y size: {}\".format(train_y.shape))\n",
    "    print(classes)\n",
    "\n",
    "    for i in range(0, preview):\n",
    "        index = np.random.randint(train_x.shape[0])\n",
    "        plt.figure()\n",
    "        plt.suptitle(train_y[index])\n",
    "        plt.imshow(train_x[index])\n",
    "\n",
    "    return train_x, train_y, len(classes)"
   ]
  },
  {
   "cell_type": "code",
   "execution_count": 25,
   "metadata": {},
   "outputs": [],
   "source": [
    "def load_test_dataset(path='datasets/test_signs.h5'):\n",
    "    test_dataset = h5py.File(path, 'r')\n",
    "    \n",
    "    test_x = np.array(test_dataset['test_set_x'])\n",
    "    test_y = np.array(test_dataset['test_set_y'])\n",
    "\n",
    "    return test_x, test_y"
   ]
  },
  {
   "cell_type": "code",
   "execution_count": null,
   "metadata": {},
   "outputs": [],
   "source": [
    "def one_hot(y, C):\n",
    "    y_one_hot = np.zeros((y.shape[0], C))\n",
    "    y_one_hot[np.arange(0, y.shape[0]), y] = 1\n",
    "    \n",
    "    return y_one_hot"
   ]
  },
  {
   "cell_type": "code",
   "execution_count": 15,
   "metadata": {},
   "outputs": [
    {
     "name": "stdout",
     "output_type": "stream",
     "text": [
      "train_x size: (1080, 64, 64, 3)\n",
      "train_y size: (1080,)\n",
      "[0 1 2 3 4 5]\n"
     ]
    },
    {
     "data": {
      "image/png": "[encoded data removed]",
      "text/plain": [
       "<matplotlib.figure.Figure at 0x1112d4c88>"
      ]
     },
     "metadata": {},
     "output_type": "display_data"
    }
   ],
   "source": [
    "tix, tiy, C = load_train_dataset(preview=1)"
   ]
  },
  {
   "cell_type": "code",
   "execution_count": 16,
   "metadata": {},
   "outputs": [],
   "source": [
    "tix = tix/255"
   ]
  },
  {
   "cell_type": "code",
   "execution_count": null,
   "metadata": {},
   "outputs": [],
   "source": [
    "tiy = one_hot(tiy, C)"
   ]
  },
  {
   "cell_type": "code",
   "execution_count": 27,
   "metadata": {},
   "outputs": [],
   "source": [
    "test_x, test_y = load_test_dataset()"
   ]
  },
  {
   "cell_type": "code",
   "execution_count": 28,
   "metadata": {},
   "outputs": [],
   "source": [
    "test_x = test_x/255\n",
    "test_y = one_hot(test_y, C)"
   ]
  },
  {
   "cell_type": "code",
   "execution_count": 31,
   "metadata": {},
   "outputs": [],
   "source": [
    "def build_model(image_shape, c):\n",
    "    x_input = Input(image_shape)\n",
    "    \n",
    "    x = ZeroPadding2D(padding=(1,1))(x_input)\n",
    "    x = Conv2D(32, (3, 3), strides=(1, 1))(x)\n",
    "    x = BatchNormalization(axis=3)(x)\n",
    "    x = Activation('relu')(x)\n",
    "    \n",
    "    x = MaxPool2D((2,2))(x)\n",
    "\n",
    "    x = ZeroPadding2D(padding=(1,1))(x_input)\n",
    "    x = Conv2D(64, (3, 3), strides=(1, 1))(x)\n",
    "    x = BatchNormalization(axis=3)(x)\n",
    "    x = Activation('relu')(x)\n",
    "    \n",
    "    x = MaxPool2D((2,2))(x)\n",
    "\n",
    "    x = ZeroPadding2D(padding=(1,1))(x_input)\n",
    "    x = Conv2D(16, (3, 3), strides=(1, 1))(x)\n",
    "    x = BatchNormalization(axis=3)(x)\n",
    "    x = Activation('relu')(x)\n",
    "    \n",
    "    x = Flatten()(x)\n",
    "    \n",
    "    x = Dropout(rate=0.1)(x)\n",
    "    x = Dense(units =1024, activation='relu')(x)\n",
    "    x = Dense(c, activation='softmax')(x)\n",
    "    \n",
    "    return Model(inputs = x_input, outputs=x, name='sign_cnn')\n",
    "    \n",
    "    "
   ]
  },
  {
   "cell_type": "code",
   "execution_count": null,
   "metadata": {},
   "outputs": [],
   "source": []
  },
  {
   "cell_type": "code",
   "execution_count": null,
   "metadata": {},
   "outputs": [],
   "source": []
  }
 ],
 "metadata": {
  "kernelspec": {
   "display_name": "Python 3",
   "language": "python",
   "name": "python3"
  },
  "language_info": {
   "codemirror_mode": {
    "name": "ipython",
    "version": 3
   },
   "file_extension": ".py",
   "mimetype": "text/x-python",
   "name": "python",
   "nbconvert_exporter": "python",
   "pygments_lexer": "ipython3",
   "version": "3.6.4"
  }
 },
 "nbformat": 4,
 "nbformat_minor": 2
}
