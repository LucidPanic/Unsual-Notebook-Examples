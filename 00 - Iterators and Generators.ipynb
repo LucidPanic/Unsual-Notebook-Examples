{
 "cells": [
  {
   "cell_type": "markdown",
   "metadata": {},
   "source": [
    "# Functional Programming in Python\n",
    "## David Mertz\n",
    "### dmertz@continuum.io\n",
    "### 2016-04-22"
   ]
  },
  {
   "cell_type": "markdown",
   "metadata": {},
   "source": [
    "# Table of Contents\n",
    "* [Learning Objectives:](#Learning-Objectives:)\n",
    "* [Iterables, iterators, and generators](#Iterables,-iterators,-and-generators)\n",
    "\t* [Iterators and iterables](#Iterators-and-iterables)\n",
    "\t* [Generators](#Generators)\n",
    "\t\t* [Generator expressions](#Generator-expressions)\n",
    "\t\t* [Generator functions](#Generator-functions)\n",
    "\t* [A digression on the `itertools` module](#A-digression-on-the-itertools-module)\n",
    "* [Large sequences, even if not quite infinitely long](#Large-sequences,-even-if-not-quite-infinitely-long)\n",
    "* [Chaining iterables](#Chaining-iterables)\n",
    "* [Python's nomenclature for virtual sequences](#Python's-nomenclature-for-virtual-sequences)\n",
    "* [Generator functions](#Generator-functions)\n",
    "* [The iterator protocol](#The-iterator-protocol)\n",
    "* [Generators defining iterables](#Generators-defining-iterables)\n",
    "\t* [Generator comprehensions](#Generator-comprehensions)\n",
    "* [Exercise (factorization)](#Exercise-%28factorization%29)\n",
    "* [Exercise (creating iterables)](#Exercise-%28creating-iterables%29)"
   ]
  },
  {
   "cell_type": "markdown",
   "metadata": {},
   "source": [
    "# Learning Objectives:"
   ]
  },
  {
   "cell_type": "markdown",
   "metadata": {},
   "source": [
    "After completion of this module, learners should be able to:\n",
    "\n",
    "* construct & use iterators for sequential tasks\n",
    "* understand the `itertools` module"
   ]
  },
  {
   "cell_type": "markdown",
   "metadata": {},
   "source": [
    "# Iterables, iterators, and generators"
   ]
  },
  {
   "cell_type": "markdown",
   "metadata": {},
   "source": [
    "We have seen many examples of loops over general data collections. We have also seen examples of more general objects (e.g., `range`) that can also be looped over. These are all specific examples of *iterables* in Python.\n",
    "\n",
    "Some reading to extend the discussion here:\n",
    "\n",
    "* [Maximize your program's laziness (slides)](http://gnosis.cx/publish/Laziness.pdf)\n",
    "* [Iterables vs. Iterators vs. Generators](http://nvie.com/posts/iterators-vs-generators/) (A little pocket reference on iterables, iterators and generators.)\n",
    "* [Python and lazy evaluation](http://swizec.com/blog/python-and-lazy-evaluation/swizec/5148)\n",
    "* [Improve Your Python: `yield` and Generators Explained](https://www.jeffknupp.com/blog/2013/04/07/improve-your-python-yield-and-generators-explained/)"
   ]
  },
  {
   "cell_type": "code",
   "execution_count": null,
   "metadata": {
    "collapsed": false
   },
   "outputs": [],
   "source": [
    "for k in [0,1,2,3,4]:\n",
    "    print(k)"
   ]
  },
  {
   "cell_type": "code",
   "execution_count": null,
   "metadata": {
    "collapsed": false
   },
   "outputs": [],
   "source": [
    "for k in range(5): # Equivalent in output but not in execution\n",
    "    print(k)"
   ]
  },
  {
   "cell_type": "code",
   "execution_count": null,
   "metadata": {
    "collapsed": false
   },
   "outputs": [],
   "source": [
    "for ch in \"String\":\n",
    "    print(ch)"
   ]
  },
  {
   "cell_type": "code",
   "execution_count": null,
   "metadata": {
    "collapsed": false
   },
   "outputs": [],
   "source": [
    "for key in {'a':1, 'b':2, 'c':3}:\n",
    "    print(key)"
   ]
  },
  {
   "cell_type": "markdown",
   "metadata": {},
   "source": [
    "## Iterators and iterables"
   ]
  },
  {
   "cell_type": "markdown",
   "metadata": {},
   "source": [
    "In words, a Python *iterator* is\n",
    "\n",
    "* usually an object with *state* that remembers where it paused during iteration\n",
    "* any object with a `__next__` method (or `next` before Python 3) that:\n",
    "    * returns the next value in the iteration\n",
    "    * updates the state to point at the next value\n",
    "    * signals when it is done by raising `StopIteration`\n",
    "* any object that is *self-iterable* (i.e., it has an `__iter__` method that returns `self`).\n",
    "* any object for which the builtin function `next` calls the `__next__` method on the object passed to it.\n",
    "\n",
    "A Python *iterable* is\n",
    "\n",
    "* any object that can be looped over (e.g., a string, a tuple, a list, a dictionary, a file, etc.)\n",
    "* any object that can appear on the right-side of a `for` loop (i.e., `for x in object:`)\n",
    "* any object that can be used within a call to `iter` (i.e., `iter(object)` returns an *iterator*)\n",
    "* any object that has an `__iter__` method that returns an iterator *or* has a`__getitem__` method that permits indexed lookup."
   ]
  },
  {
   "cell_type": "code",
   "execution_count": null,
   "metadata": {
    "collapsed": false,
    "raises": "StopIteration"
   },
   "outputs": [],
   "source": [
    "x = ['a','b','c']\n",
    "print('x is', type(x))\n",
    "iter_x = iter(x)\n",
    "print(\"Idempotency of iter():\", iter(iter_x) is iter_x)\n",
    "print('iter(x) is', type(iter_x))\n",
    "print('next(iter_x) = %s' % next(iter_x))\n",
    "print('next(iter_x) = %s' % next(iter_x))\n",
    "print('next(iter_x) = %s' % next(iter_x))\n",
    "next(iter_x)"
   ]
  },
  {
   "cell_type": "markdown",
   "metadata": {},
   "source": [
    "* Most containers (e.g., `list`, `dict`, `set`, etc.) are iterables.\n",
    "* A `range` object is iterable but not an iterator.\n",
    "* An iterator is always an iterable. The opposite is not true.\n",
    "* Iterables return iterators when `iter` is applied to them. This is what happens when a `for` loop uses an iterable.\n",
    "* Iterators are consumed as they are used. That is, calling `next` produces results in sequence that cannot be retrieved without instantiating a new iterator.\n",
    "* The [Python iterator protocol](https://docs.python.org/3/c-api/iter.html) specifies the behavior of an object's `__iter__` and `__next__` methods.\n",
    "\n",
    "The principal advantage in distinguishing iterators and iterables is the ability to use lazy evaluation to defer generating terms in sequences. For instance, it is possible to loop over the iterable `list(range(10000000))` that explicitly builds the list of ten million elements before looping. But it is also possible to loop over the iterable `range(10000000)` itself which produces the integers in sequence without requiring storage for ten million elements in memory. More abstract iterables (notably files and data streams) can be arbitarily large, so understanding lazy evaluation is extremely useful."
   ]
  },
  {
   "cell_type": "markdown",
   "metadata": {},
   "source": [
    "## Generators"
   ]
  },
  {
   "cell_type": "markdown",
   "metadata": {},
   "source": [
    "The term *generator* is widely but imprecisely used in Python so there is a lot of confusion around this topic (even more so than the confusion around iterators and iterables). There are *generator objects* (that are iterators), *generator functions* (that return generator objects), and *generator expressions* (that evaluate as generator objects and resemble comprehensions). According to the [Python glossary](http://docs.python.org/glossary.html#term-generator), the official terminology is now that *generator* means *\"generator function\"*. Unfortunately, generator objects still belong to the generator class, so this terminology is still not used consistently.\n",
    "\n",
    "We will try to be consistent:\n",
    "\n",
    "* A *generator object* is a special kind of iterator produced either by a *generator expression* or a *generator function*. We will simply call a generator object an iterator (because that is what it is).\n",
    "* A *generator expression* is a comprehension (usually delimited by parentheses) that produces an iterator.\n",
    "* A *generator function* is a function that returns an iterator and uses the `yield` keyword (rather than `return`) to pass values back to the calling namespace."
   ]
  },
  {
   "cell_type": "markdown",
   "metadata": {},
   "source": [
    "### Generator expressions"
   ]
  },
  {
   "cell_type": "markdown",
   "metadata": {},
   "source": [
    "The easiest way to construct a generic iterator is to apply the function `iter` to a collection, e.g.,\n",
    "```python\n",
    ">>> my_string = 'This is a string'\n",
    ">>> my_iter = iter(my_string)\n",
    "```"
   ]
  },
  {
   "cell_type": "markdown",
   "metadata": {},
   "source": [
    "An alternative is to use a *generator expression*&mdash;basically a comprehension delimited by parentheses."
   ]
  },
  {
   "cell_type": "code",
   "execution_count": null,
   "metadata": {
    "collapsed": false
   },
   "outputs": [],
   "source": [
    "# Construction of an iterator using the builtin *iter* function\n",
    "my_string = 'This is a string'\n",
    "my_iter = iter(my_string)\n",
    "print('type(my_iter) = %s' % type(my_iter))\n",
    "print('next(my_iter) = %s' % next(my_iter))\n",
    "print('next(my_iter) = %s' % next(my_iter))\n",
    "print('next(my_iter) = %s' % next(my_iter))\n",
    "print('next(my_iter) = %s' % next(my_iter))\n",
    "print('next(my_iter) = %s' % next(my_iter))"
   ]
  },
  {
   "cell_type": "code",
   "execution_count": null,
   "metadata": {
    "collapsed": false
   },
   "outputs": [],
   "source": [
    "# Construction of an iterator\n",
    "new_iter = (char.upper() for char in my_string)\n",
    "print('type(new_iter) = %s' % type(new_iter))\n",
    "print('next(new_iter) = %s' % next(new_iter))\n",
    "print('next(new_iter) = %s' % next(new_iter))\n",
    "print('next(new_iter) = %s' % next(new_iter))\n",
    "print('next(new_iter) = %s' % next(new_iter))"
   ]
  },
  {
   "cell_type": "code",
   "execution_count": null,
   "metadata": {
    "collapsed": false
   },
   "outputs": [],
   "source": [
    "# Generator comprehensions are similar to tuples in their syntax.\n",
    "# The parenthesis are not always needed, e.g. if they occur inside a function call\n",
    "sum(n**2 for n in range(10))"
   ]
  },
  {
   "cell_type": "markdown",
   "metadata": {},
   "source": [
    "Here is a generator expression that produces a sequence of perfect squares. The important difference to notice between the list comprehension and the generator expression is that former explicitly produces the list while the latter uses *lazy evaluation* to produce elements as they are required. For large values of N, the generator expression is much faster (especially when we time, say, adding up the terms of the sequence)."
   ]
  },
  {
   "cell_type": "code",
   "execution_count": null,
   "metadata": {
    "collapsed": false
   },
   "outputs": [],
   "source": [
    "N = int(1e8)"
   ]
  },
  {
   "cell_type": "code",
   "execution_count": null,
   "metadata": {
    "collapsed": false
   },
   "outputs": [],
   "source": [
    "%%timeit \n",
    "listcomp = [k*k for k in range(N)]\n",
    "sum(listcomp)\n",
    "#print('listcomp = [%d, %d, %d, ... %d, %d]' % tuple(listcomp[:3]+listcomp[-2:]))\n",
    "#print('listcomp is a %s' % type(listcomp))\n"
   ]
  },
  {
   "cell_type": "code",
   "execution_count": null,
   "metadata": {
    "collapsed": false
   },
   "outputs": [],
   "source": [
    "%%timeit\n",
    "genexpr = (k*k for k in range(N) )\n",
    "# Comment this out for large values of N.\n",
    "#print('genexpr = %s' % genexpr)\n",
    "#print('genexpr is a %s' % type(genexpr))\n",
    "sum(genexpr)\n"
   ]
  },
  {
   "cell_type": "markdown",
   "metadata": {},
   "source": [
    "### Generator functions"
   ]
  },
  {
   "cell_type": "markdown",
   "metadata": {},
   "source": [
    "A *generator function* is a function that produces an iterator. The principle difference between a gerator function and a standard function is the use of the keyword `yield` rather than `return` to exit the function."
   ]
  },
  {
   "cell_type": "code",
   "execution_count": null,
   "metadata": {
    "collapsed": true
   },
   "outputs": [],
   "source": [
    "def first_generator_function():\n",
    "    yield 'A'\n",
    "    yield 'B'\n",
    "    yield 'C'"
   ]
  },
  {
   "cell_type": "code",
   "execution_count": null,
   "metadata": {
    "collapsed": false
   },
   "outputs": [],
   "source": [
    "# Invoking first_generator_function gives an iterator\n",
    "for result in first_generator_function():\n",
    "    print('result = %s' % result)"
   ]
  },
  {
   "cell_type": "code",
   "execution_count": null,
   "metadata": {
    "collapsed": false,
    "raises": "StopIteration"
   },
   "outputs": [],
   "source": [
    "# An alternative way to use the iterator produced by first_generator_function\n",
    "g = first_generator_function()\n",
    "print('next(g) = %s' % next(g))\n",
    "print('next(g) = %s' % next(g))\n",
    "print('next(g) = %s' % next(g))\n",
    "print('next(g) = %s' % next(g))"
   ]
  },
  {
   "cell_type": "markdown",
   "metadata": {},
   "source": [
    "This next example produces a generator function `fib_generator` that gives an iterator for an infinite sequence (namely the sequence of Fibonacci numbers)."
   ]
  },
  {
   "cell_type": "code",
   "execution_count": null,
   "metadata": {
    "collapsed": false
   },
   "outputs": [],
   "source": [
    "def fib_generator():\n",
    "    prev, curr = 0, 1\n",
    "    while True:\n",
    "        yield curr\n",
    "        prev, curr = curr, prev + curr\n",
    "        \n",
    "# fib is an iterator created from the generator function fib\n",
    "fibs = fib_generator()\n",
    "for _ in range(5):\n",
    "    print(next(fibs))"
   ]
  },
  {
   "cell_type": "markdown",
   "metadata": {
    "collapsed": false
   },
   "source": [
    "We can in principle use the iterator `fibs` (instantiated by invoking `fib_generator`) as the iterator in a `for` loop.\n",
    "```python\n",
    "fibs = fib_generator() # fib is an iterator created from the generator function fib\n",
    "for result in fibs:\n",
    "    print(result)\n",
    "```"
   ]
  },
  {
   "cell_type": "markdown",
   "metadata": {},
   "source": [
    "*This is an infinite loop!* Do *not* use `fib` as the iterable in a `for` loop *without specifying a `break` condition*."
   ]
  },
  {
   "cell_type": "code",
   "execution_count": null,
   "metadata": {
    "collapsed": false
   },
   "outputs": [],
   "source": [
    "# fibs is an iterator created from the generator function fib\n",
    "fibs = fib_generator()\n",
    "# Safer loop that will break at the first Fibonacci greater than 1000.\n",
    "for k, result in enumerate(fibs):\n",
    "    if result>1000:\n",
    "        break\n",
    "    print('%3d: %d' % (k,result))"
   ]
  },
  {
   "cell_type": "code",
   "execution_count": null,
   "metadata": {
    "collapsed": false
   },
   "outputs": [],
   "source": [
    "next(fibs)"
   ]
  },
  {
   "cell_type": "code",
   "execution_count": null,
   "metadata": {
    "collapsed": false
   },
   "outputs": [],
   "source": [
    "next(fibs), next(fibs)"
   ]
  },
  {
   "cell_type": "markdown",
   "metadata": {},
   "source": [
    "Here is another infinite sequence generating primes using the [sieve of Eratosthenes](https://en.wikipedia.org/wiki/Sieve_of_Eratosthenes)"
   ]
  },
  {
   "cell_type": "code",
   "execution_count": null,
   "metadata": {
    "collapsed": true
   },
   "outputs": [],
   "source": [
    "def sieve_generator():\n",
    "    \"Simple and naive lazy Sieve of Eratosthenes\"\n",
    "    candidate = 2\n",
    "    found = []\n",
    "    while True:\n",
    "        if all(candidate % prime != 0 for prime in found):\n",
    "            yield candidate\n",
    "            found.append(candidate)\n",
    "        candidate += 1"
   ]
  },
  {
   "cell_type": "code",
   "execution_count": null,
   "metadata": {
    "collapsed": false
   },
   "outputs": [],
   "source": [
    "primes = sieve_generator()\n",
    "print(next(primes))\n",
    "print(next(primes))\n",
    "print(next(primes))\n",
    "print(next(primes))\n",
    "# Notice that the numbering in the enumeration below is offset.\n",
    "for k, p in enumerate(primes):\n",
    "    if p>100:\n",
    "        break\n",
    "    print('The %dth prime is %d' % (k+5,p))"
   ]
  },
  {
   "cell_type": "markdown",
   "metadata": {},
   "source": [
    "Just for fun, let's see if we can make the generator more efficient."
   ]
  },
  {
   "cell_type": "code",
   "execution_count": null,
   "metadata": {
    "collapsed": false
   },
   "outputs": [],
   "source": [
    "%%timeit\n",
    "for p, n in zip(sieve_generator(), range(int(1e4))):\n",
    "    pass"
   ]
  },
  {
   "cell_type": "code",
   "execution_count": null,
   "metadata": {
    "collapsed": true
   },
   "outputs": [],
   "source": [
    "def sieve_generator2():\n",
    "    \"Less simple lazy Sieve of Eratosthenes; skip the even numbers\"\n",
    "    yield 2\n",
    "    candidate = 3\n",
    "    found = []\n",
    "    while True:\n",
    "        if all(candidate % prime != 0 for prime in found):\n",
    "            yield candidate\n",
    "            found.append(candidate)\n",
    "        candidate += 2"
   ]
  },
  {
   "cell_type": "code",
   "execution_count": null,
   "metadata": {
    "collapsed": false
   },
   "outputs": [],
   "source": [
    "%%timeit\n",
    "for p, n in zip(sieve_generator2(), range(int(1e4))):\n",
    "    pass"
   ]
  },
  {
   "cell_type": "markdown",
   "metadata": {},
   "source": [
    "Much more significant that skipping the even numbers (or even a [wheel factorization](https://en.wikipedia.org/wiki/Wheel_factorization) to skip various multiples) is simply **not** looking higher than the square root of the candidate prime."
   ]
  },
  {
   "cell_type": "code",
   "execution_count": null,
   "metadata": {
    "collapsed": true
   },
   "outputs": [],
   "source": [
    "from math import sqrt, ceil\n",
    "def up_to(seq, lim):\n",
    "    for n in seq:\n",
    "        if n < lim:\n",
    "            yield n\n",
    "        else:\n",
    "            break\n",
    "            \n",
    "def sieve_generator3():\n",
    "    \"Pretty good Sieve; skip the even numbers, stop at sqrt(candidate)\"\n",
    "    yield 2\n",
    "    candidate = 3\n",
    "    found = []\n",
    "    while True:\n",
    "        lim = int(ceil(sqrt(candidate)))\n",
    "        if all(candidate % prime != 0 for prime in up_to(found, lim)):\n",
    "            yield candidate\n",
    "            found.append(candidate)\n",
    "        candidate += 2"
   ]
  },
  {
   "cell_type": "code",
   "execution_count": null,
   "metadata": {
    "collapsed": false
   },
   "outputs": [],
   "source": [
    "%%timeit\n",
    "for p, n in zip(sieve_generator3(), range(int(1e4))):\n",
    "    pass"
   ]
  },
  {
   "cell_type": "markdown",
   "metadata": {},
   "source": [
    "Another more useful generator function can be used to generate all permutations of a finite string. Notice that this generator function is recursive. Combinatorial functions like this are implemented in the `itertools` module."
   ]
  },
  {
   "cell_type": "code",
   "execution_count": null,
   "metadata": {
    "collapsed": false
   },
   "outputs": [],
   "source": [
    "def permutations(items):\n",
    "    if not items:\n",
    "        yield []\n",
    "    else:\n",
    "        for index in range(len(items)):\n",
    "            for item in permutations(items[:index]+items[index+1:]):\n",
    "                yield [items[index]] + item\n",
    "\n",
    "for p in permutations('ABC'):\n",
    "    print(''.join(p))"
   ]
  },
  {
   "cell_type": "markdown",
   "metadata": {},
   "source": [
    "## A digression on the `itertools` module"
   ]
  },
  {
   "cell_type": "markdown",
   "metadata": {},
   "source": [
    "The module `itertools` is a collection of very powerful—and carefully designed—functions for performing *iterator algebra*.  That is, these permit *function composition* with iterators in sophisticated ways while minimizing concrete instantiation of terms in iterable sequences. In addition to the basic functions in the module itself, the [module documentation](https://docs.python.org/3.5/library/itertools.html) provides a number of short recipes for additional functions using two or three of the basic module functions in combination. *Be aware that it is easy to get these recipes subtly wrong*. The third-party module `more_itertools` provides additional functions that are likewise designed to avoid common pitfalls and edge cases.\n",
    "\n",
    "The basic goal of using the building blocks inside `itertools` is to avoid performing computations before they are required, to avoid the memory requirements of large collections, to avoid potentially slow I/O until strictly necessary, and so on. Iterators are lazy sequences rather than realized collections; when combined with functions or recipes in `itertools`, they retain this property.\n",
    "\n",
    "Here is a quick example of combining a few things. Rather than the stateful `Fibonacci` class to let us keep a running sum, we might simply create a single lazy iterator to generate both the current number and this sum:"
   ]
  },
  {
   "cell_type": "code",
   "execution_count": null,
   "metadata": {
    "collapsed": false
   },
   "outputs": [],
   "source": [
    "from itertools import count, tee\n",
    "mycount = count()\n",
    "next(mycount), next(mycount), next(mycount)"
   ]
  },
  {
   "cell_type": "code",
   "execution_count": null,
   "metadata": {
    "collapsed": false
   },
   "outputs": [],
   "source": [
    "# Assume that this is code we cannot modify ourselves (3rd party, etc.)\n",
    "def fibonacci_gen():\n",
    "    a, b = 1, 1\n",
    "    while True:\n",
    "        yield a\n",
    "        a, b = b, a+b\n",
    "fibonacci = fibonacci_gen()\n",
    "print(next(fibonacci))"
   ]
  },
  {
   "cell_type": "code",
   "execution_count": null,
   "metadata": {
    "collapsed": false
   },
   "outputs": [],
   "source": [
    "list(zip(\"ABC\", [1,2,3], range(100,103)))"
   ]
  },
  {
   "cell_type": "code",
   "execution_count": null,
   "metadata": {
    "collapsed": false,
    "py3_only": true
   },
   "outputs": [],
   "source": [
    "from itertools import accumulate\n",
    "# Iterate over both an iterable of numbers and running total of the sequence\n",
    "def item_with_total(iterable):\n",
    "    \"Generically transform a stream of numbers into a pair of (num, running_sum)\"\n",
    "    s, t = tee(iterable) # unpacking tuples\n",
    "    yield from zip(t, accumulate(s))\n",
    "    # Equivalent to:\n",
    "    # for item, total in zip(t, accumulate(s)):\n",
    "    #     yield item, total\n",
    "\n",
    "fibs = fibonacci_gen()\n",
    "for n, (fib, total) in zip(range(10), item_with_total(fibs)):\n",
    "    print(\"%3d. Item: %3d; Total: %3d\" % (n+1, fib, total))"
   ]
  },
  {
   "cell_type": "markdown",
   "metadata": {},
   "source": [
    "The documentation for the `itertools` module contain details on its combinatorial functions as well as a number of short recipes for combining them. Note that for practical purposes, `zip()`, `map()`, `filter()`, and `range()` (which is, in a sense, just a terminating `itertools.count()`) could well live in `itertools` if they were not built-ins.  That is, all of those functions lazily generate sequential items (mostly based on existing iterables) without creating a concrete sequence. Built-ins like `all()`, `any()`, `sum()`, `min()`, `max()`, and `functools.reduce()` also act on iterables, but all of them, in the general case, need to exhaust the iterator rather than remain lazy."
   ]
  },
  {
   "cell_type": "markdown",
   "metadata": {},
   "source": [
    "# Large sequences, even if not quite infinitely long"
   ]
  },
  {
   "cell_type": "markdown",
   "metadata": {},
   "source": [
    "```python\n",
    "log1 = open('huge.log')\n",
    "seq = itertools.count()\n",
    "rows = db.execute(\"select * from big_data\")\n",
    "z = zip(log1, seq, rows)\n",
    "for line, num, row in z:\n",
    "    if something:\n",
    "        break\n",
    "    something_else(line, num, row)\n",
    "```"
   ]
  },
  {
   "cell_type": "markdown",
   "metadata": {},
   "source": [
    "# Chaining iterables"
   ]
  },
  {
   "cell_type": "markdown",
   "metadata": {},
   "source": [
    "The functions `itertools.chain()` and `itertools.chain.from_iterable()` combine multiple iterables.  Built-in `zip()` and `itertools.zip_longest()` also do this, but in manners that allow incremental advancement through the iterables.  A consequence of this is that while chaining infinite iterables is valid syntactically and semantically, no actual program will exhaust the earlier iterable. For example:\n",
    "\n",
    "```python\n",
    "from itertools import chain, count\n",
    "thrice_to_inf = chain(count(), count(), count())\n",
    "```"
   ]
  },
  {
   "cell_type": "markdown",
   "metadata": {},
   "source": [
    "Conceptually, `thrice_to_inf` will count to infinity three times, but in practice once would always be enough.  However, for merely *large* iterables—not for infinite ones—chaining can be very useful and parsimonious."
   ]
  },
  {
   "cell_type": "code",
   "execution_count": null,
   "metadata": {
    "collapsed": false,
    "py3_only": true
   },
   "outputs": [],
   "source": [
    "from glob import glob\n",
    "from itertools import chain, islice\n",
    "def from_logs(fnames):\n",
    "    yield from (open(file) for file in fnames)\n",
    "\n",
    "# Substitute suitable directory with lots of log files...\n",
    "logdir = '/Users/dmertz/Library/Logs/*.log'\n",
    "logs = glob(logdir)\n",
    "lines = chain.from_iterable(from_logs(logs))\n",
    "for line in islice(lines, 16002, 16006):\n",
    "    print(line, end='')"
   ]
  },
  {
   "cell_type": "code",
   "execution_count": null,
   "metadata": {
    "collapsed": false,
    "py3_only": true,
    "raises": "StopIteration"
   },
   "outputs": [],
   "source": [
    "next(lines)"
   ]
  },
  {
   "cell_type": "code",
   "execution_count": null,
   "metadata": {
    "collapsed": false,
    "py3_only": true,
    "raises": "StopIteration"
   },
   "outputs": [],
   "source": [
    "next(lines)"
   ]
  },
  {
   "cell_type": "code",
   "execution_count": null,
   "metadata": {
    "collapsed": false
   },
   "outputs": [],
   "source": [
    "r = range(100000000)\n",
    "r1, r2 = tee(r)\n",
    "next(r1),next(r1),next(r1),next(r1),next(r1),next(r1)"
   ]
  },
  {
   "cell_type": "code",
   "execution_count": null,
   "metadata": {
    "collapsed": false
   },
   "outputs": [],
   "source": [
    "next(r1)"
   ]
  },
  {
   "cell_type": "code",
   "execution_count": null,
   "metadata": {
    "collapsed": false
   },
   "outputs": [],
   "source": [
    "next(r2)"
   ]
  },
  {
   "cell_type": "markdown",
   "metadata": {},
   "source": [
    "Besides the chaining with `itertools`, we should mention `collections.ChainMap()` in the same breath. Dictionaries (or generally any `collections.abc.Mapping`) are iterable (over their keys). Just as we might want to chain multiple sequence-like iterables, we sometimes want to chain together multiple mappings without needing to create a single larger concrete one. `ChainMap()` is handy, and does not alter the underlying mappings used to construct it."
   ]
  },
  {
   "cell_type": "markdown",
   "metadata": {},
   "source": [
    "# Python's nomenclature for virtual sequences"
   ]
  },
  {
   "cell_type": "markdown",
   "metadata": {},
   "source": [
    "There are several subtly different terms related to \"lazy sequences\" in Python.  A *generator\n",
    "function* is a named function that, when called, returns a *generator*.  In turn, a generator is one particular type of *iterator*.  Other iterators include concrete lists, open file handles, file-like objects like `http.client.HTTPResponse`, views into collections, objects returned by calls to `itertools` functions, etc."
   ]
  },
  {
   "cell_type": "markdown",
   "metadata": {},
   "source": [
    "# Generator functions"
   ]
  },
  {
   "cell_type": "markdown",
   "metadata": {},
   "source": [
    "The simplest generator function possible is:"
   ]
  },
  {
   "cell_type": "code",
   "execution_count": null,
   "metadata": {
    "collapsed": true
   },
   "outputs": [],
   "source": [
    "def simple():\n",
    "    yield"
   ]
  },
  {
   "cell_type": "markdown",
   "metadata": {},
   "source": [
    "What does it do?  Not very much.  The main idea of a generator is that we yield values on demand instead of all at once.  We can yield these values from a value using the `yield` keyword instead of the `return` keyword.  You can think of the `yield` keyword as a \"pause\" button for the function.  It temporarily suspends execution of the function and yields control to the caller.  The calling function can demand another value from the generator using the `next()` function.\n",
    "\n",
    "Note that only one `return` statements can ever be executed within a particular function call (but a function might have multiple potential branches that return).  In contrast, we can have multiple `yield` statements inside the function where each one will be executed on subsequent resumptions of the suspended function."
   ]
  },
  {
   "cell_type": "code",
   "execution_count": null,
   "metadata": {
    "collapsed": true
   },
   "outputs": [],
   "source": [
    "# A generator function that will yields  values  \n",
    "def f():\n",
    "    print(\"I'm going to yield 0\")\n",
    "    yield 0\n",
    "    print(\"I'm going to yield 1\")\n",
    "    yield 1"
   ]
  },
  {
   "cell_type": "code",
   "execution_count": null,
   "metadata": {
    "collapsed": false
   },
   "outputs": [],
   "source": [
    "# This *only* constructs the generator. Nothing in function is executed.\n",
    "x = f()  \n",
    "print(\"Calling next(x)\")\n",
    "# First next() statement executes up to and including first yield\n",
    "print(next(x))  \n",
    "print(next(x))  # Execute up to and including the next yield"
   ]
  },
  {
   "cell_type": "markdown",
   "metadata": {},
   "source": [
    "What happens when a generator runs out of values? It raises an exception, of course.\n",
    "\n",
    "Remember a slogan of Python: \"Exceptions are not that exceptional.\" (this might take some getting used to for programmers coming from, e.g. C)."
   ]
  },
  {
   "cell_type": "code",
   "execution_count": null,
   "metadata": {
    "collapsed": false
   },
   "outputs": [],
   "source": [
    "from traceback import print_exc\n",
    "try:\n",
    "    print(next(x))\n",
    "except Exception:\n",
    "    print_exc()"
   ]
  },
  {
   "cell_type": "markdown",
   "metadata": {},
   "source": [
    "# The iterator protocol"
   ]
  },
  {
   "cell_type": "markdown",
   "metadata": {},
   "source": [
    "There is a protocol for what makes something an *iterator*; and also for what makes it an *iterable* (which are not quite the same thing).  And iterable is simply an object with a `.__iter__()` method, where that method returns an iterator when called.  And iterator is itself an iterable, but one whose `.__iter__()` method generally returns itself.  The extra feature an iterator has over an iterable is that it also requires a `.__next__()` method.\n",
    "\n",
    "These dunder methods might seem obscure and strange.  But most of their work happens \"behind the scenes\" and you do not have to think about them (except when you want to).  Basically, these magic methods are a lot like other Python magic methods, and they control how objects respond to basic syntactic constructs.  \n",
    "\n",
    "Let's illustrate the differences among the types of things:"
   ]
  },
  {
   "cell_type": "code",
   "execution_count": null,
   "metadata": {
    "collapsed": false,
    "py3_only": true
   },
   "outputs": [],
   "source": [
    "from collections.abc import *\n",
    "def simple():\n",
    "    yield True\n",
    "inst = simple()\n",
    "\n",
    "isinstance(simple, Callable), isinstance(inst, Iterator)"
   ]
  },
  {
   "cell_type": "code",
   "execution_count": null,
   "metadata": {
    "collapsed": false,
    "py3_only": true
   },
   "outputs": [],
   "source": [
    "type(simple), type(inst)"
   ]
  },
  {
   "cell_type": "code",
   "execution_count": null,
   "metadata": {
    "collapsed": false,
    "py3_only": true
   },
   "outputs": [],
   "source": [
    "inst.__next__, inst.__iter__"
   ]
  },
  {
   "cell_type": "code",
   "execution_count": null,
   "metadata": {
    "collapsed": false,
    "py3_only": true
   },
   "outputs": [],
   "source": [
    "l = [1,2,3]\n",
    "isinstance(l, Iterable), isinstance(l, Iterator)"
   ]
  },
  {
   "cell_type": "code",
   "execution_count": null,
   "metadata": {
    "collapsed": false,
    "py3_only": true
   },
   "outputs": [],
   "source": [
    "type(l), l.__iter__"
   ]
  },
  {
   "cell_type": "code",
   "execution_count": null,
   "metadata": {
    "collapsed": false,
    "py3_only": true
   },
   "outputs": [],
   "source": [
    "try:\n",
    "    l.__next__\n",
    "except AttributeError as e:\n",
    "    print(\"Lists do not have a .__next__() method\")"
   ]
  },
  {
   "cell_type": "markdown",
   "metadata": {},
   "source": [
    "One powerful use for generators is for representing infinite sequences.  Generators allow us to work with long sequences efficiently.  We can avoid having to calculate and store the sequence all at once in memory.  Below, we represent a common alternating series whose sum converges to $ln(2)$."
   ]
  },
  {
   "cell_type": "code",
   "execution_count": null,
   "metadata": {
    "collapsed": true
   },
   "outputs": [],
   "source": [
    "def ln2():\n",
    "    denom = 1\n",
    "    sign = 1\n",
    "    while True:\n",
    "        yield (1.0/denom)*sign\n",
    "        denom, sign = denom + 1, sign * -1"
   ]
  },
  {
   "cell_type": "code",
   "execution_count": null,
   "metadata": {
    "collapsed": true
   },
   "outputs": [],
   "source": [
    "from itertools import islice # very useful for slicing an iterator an iterator\n",
    "from math import log"
   ]
  },
  {
   "cell_type": "code",
   "execution_count": null,
   "metadata": {
    "collapsed": false
   },
   "outputs": [],
   "source": [
    "# we slice off the first n terms of the sequence.\n",
    "sum(islice(ln2(), 100000)) "
   ]
  },
  {
   "cell_type": "code",
   "execution_count": null,
   "metadata": {
    "collapsed": false
   },
   "outputs": [],
   "source": [
    "log(2)"
   ]
  },
  {
   "cell_type": "markdown",
   "metadata": {},
   "source": [
    "We can call other generators.  Lets create a generator that takes care of the just the sign.  It will yield an unending stream of alternating 1, -1, 1, -1, ..."
   ]
  },
  {
   "cell_type": "code",
   "execution_count": null,
   "metadata": {
    "collapsed": false
   },
   "outputs": [],
   "source": [
    "def altsign(pos=True):\n",
    "    sign = 1 if pos else -1\n",
    "    while True:\n",
    "        yield sign\n",
    "        sign *= -1\n",
    "        \n",
    "def ln2():\n",
    "    sign = altsign()\n",
    "    for denom, sign in enumerate(sign, 1):\n",
    "        yield float(sign)/denom\n",
    "\n",
    "list(islice(ln2(), 1, 10))"
   ]
  },
  {
   "cell_type": "code",
   "execution_count": null,
   "metadata": {
    "collapsed": false
   },
   "outputs": [],
   "source": [
    "from itertools import count\n",
    "altsign2 = ((n%2 * -2)+1 for n in count())\n",
    "list(islice(altsign(), 1, 10)), list(islice(altsign2, 1, 10))"
   ]
  },
  {
   "cell_type": "markdown",
   "metadata": {},
   "source": [
    "Generators can also recieve values from the calling method via the ```send()``` method.  This method will send a single object back into a generator.  This object becomes the return value of the ```yield``` statement inside the generator"
   ]
  },
  {
   "cell_type": "code",
   "execution_count": null,
   "metadata": {
    "collapsed": true
   },
   "outputs": [],
   "source": [
    "def mr_postman():\n",
    "    letter = None\n",
    "    while True:\n",
    "        # Yield, waiting for input\n",
    "        letter = yield letter\n",
    "        if not str(letter).isalpha():\n",
    "            if len(letter) > 1:\n",
    "                print(\"Those are not letters\")\n",
    "            else:\n",
    "                print(\"That is not a letter\")"
   ]
  },
  {
   "cell_type": "code",
   "execution_count": null,
   "metadata": {
    "collapsed": false
   },
   "outputs": [],
   "source": [
    "f = mr_postman()  # Construct the generator object\n",
    "next(f)           # Must call next to execute generator to first yield.  \n",
    "                  # Equivalent to f.send(None)\n",
    "f.send('g')       # Send a value into the generator.  \n",
    "                  #   If our postman doesn't receive a string of only \n",
    "                  #   letter(s), he will complain\n",
    "                  # Otherwise he will return the letter(s) he got."
   ]
  },
  {
   "cell_type": "markdown",
   "metadata": {},
   "source": [
    "# Generators defining iterables"
   ]
  },
  {
   "cell_type": "markdown",
   "metadata": {},
   "source": [
    "While you *can* explicitly call `next(it)` or `it.send(val)` repeatedly on the iterators returned by generator functions, the more common pattern by a large margin is to use iterators as sequences (perhaps large or infinite) that you loop through.\n",
    "\n",
    "In Python, the `StopIteration` exception that we saw is a special signal to loops that a sequence of items is exhausted.  This allows concrete collections like lists to behave the same way as lazy generators for most purposes."
   ]
  },
  {
   "cell_type": "code",
   "execution_count": null,
   "metadata": {
    "collapsed": false
   },
   "outputs": [],
   "source": [
    "# A generator function to return letters of a string multiple times\n",
    "def iterate_letters(s, times=2):\n",
    "    for letter in s:\n",
    "        for _ in range(times):\n",
    "            yield letter\n",
    "            \n",
    "for c in iterate_letters(\"StopIteration\", 3):\n",
    "    print(c, end='_')"
   ]
  },
  {
   "cell_type": "markdown",
   "metadata": {},
   "source": [
    "Or for another example, remember our `ln2()` generator function defined above.  It successively approximates `math.log(2)` in an iterative way.  We might wonder how long it takes these approximations to get \"pretty close\" to the true answer (that is, the nearest IEEE-854 floating point number to the true, irrational, answer)."
   ]
  },
  {
   "cell_type": "code",
   "execution_count": null,
   "metadata": {
    "collapsed": false,
    "py3_only": true
   },
   "outputs": [],
   "source": [
    "import math\n",
    "from itertools import accumulate\n",
    "delta = .01\n",
    "log2 = math.log(2)\n",
    "for i, approx in enumerate(accumulate(ln2())):\n",
    "    print(i+1, \"-\", approx)\n",
    "    if abs(log2-approx) < delta:\n",
    "        break"
   ]
  },
  {
   "cell_type": "markdown",
   "metadata": {},
   "source": [
    "## Generator comprehensions"
   ]
  },
  {
   "cell_type": "markdown",
   "metadata": {},
   "source": [
    "In the Introduction notebooks, we discussed generator comprehensions.  Whether to express a generator as a comprehension or a function is often just a choice of style and readability.  In some sense they are formally equivalent."
   ]
  },
  {
   "cell_type": "code",
   "execution_count": null,
   "metadata": {
    "collapsed": true
   },
   "outputs": [],
   "source": [
    "# A simple generator function\n",
    "def to_upper(s):\n",
    "    for c in s:\n",
    "        yield c.upper()"
   ]
  },
  {
   "cell_type": "code",
   "execution_count": null,
   "metadata": {
    "collapsed": false
   },
   "outputs": [],
   "source": [
    "for c in to_upper(\"Hello world!\"):\n",
    "    print(c, end='')"
   ]
  },
  {
   "cell_type": "code",
   "execution_count": null,
   "metadata": {
    "collapsed": false
   },
   "outputs": [],
   "source": [
    "# The same thing as a generator comprehension (but requires name in scope)\n",
    "s = \"Hello world!\"\n",
    "as_upper = (c.upper() for c in s)\n",
    "for c in as_upper:\n",
    "    print(c, end='')"
   ]
  },
  {
   "cell_type": "code",
   "execution_count": null,
   "metadata": {
    "collapsed": true
   },
   "outputs": [],
   "source": [
    "# But we are free to wrap this in a function if we want...\n",
    "def to_upper2(s):\n",
    "    return (c.upper() for c in s)"
   ]
  },
  {
   "cell_type": "code",
   "execution_count": null,
   "metadata": {
    "collapsed": false
   },
   "outputs": [],
   "source": [
    "for c in to_upper2(\"Hello world!\"):\n",
    "    print(c, end='')"
   ]
  },
  {
   "cell_type": "code",
   "execution_count": null,
   "metadata": {
    "collapsed": false
   },
   "outputs": [],
   "source": [
    "type(to_upper), type(to_upper2)"
   ]
  },
  {
   "cell_type": "code",
   "execution_count": null,
   "metadata": {
    "collapsed": false
   },
   "outputs": [],
   "source": [
    "type(to_upper(s)), type(to_upper2(s))"
   ]
  },
  {
   "cell_type": "markdown",
   "metadata": {},
   "source": [
    "# Exercise (factorization)"
   ]
  },
  {
   "cell_type": "markdown",
   "metadata": {},
   "source": [
    "Write a generator, that given the number $n$, returns the prime factorization of that number.\n",
    "\n",
    "Optional: If you have time, write another generator that returns every factorization of the number."
   ]
  },
  {
   "cell_type": "code",
   "execution_count": null,
   "metadata": {
    "collapsed": false
   },
   "outputs": [],
   "source": [
    "# For a hint, run this cell\n",
    "import codecs\n",
    "print(codecs.encode('''# Hfr fbzr fcrpvny shapgvbaf qrsvarq va nabgure abgrobbx\n",
    "vzcbeg flf\n",
    "flf.cngu.nccraq('./fep')\n",
    "vzcbeg cevzrf''', 'rot13'))"
   ]
  },
  {
   "cell_type": "markdown",
   "metadata": {},
   "source": [
    "# Exercise (creating iterables)"
   ]
  },
  {
   "cell_type": "markdown",
   "metadata": {},
   "source": [
    "Invent a clever iterable using the `yield` keyword to define a generator function.  In fact, invent a couple of them.  See if you can combine or utilize them in interesting ways using the tools in the `itertools` module."
   ]
  },
  {
   "cell_type": "code",
   "execution_count": null,
   "metadata": {
    "collapsed": false
   },
   "outputs": [],
   "source": [
    "import continuum_style; continuum_style.style()"
   ]
  }
 ],
 "metadata": {
  "continuum": {
   "depends": [
    "ip_containers",
    "ip_functions",
    "ip_essentials",
    "ip_flowcontrol",
    "ip_datatypes"
   ],
   "tag": "adv_generators"
  },
  "kernelspec": {
   "display_name": "Python 3",
   "language": "python",
   "name": "python3"
  },
  "language_info": {
   "codemirror_mode": {
    "name": "ipython",
    "version": 3
   },
   "file_extension": ".py",
   "mimetype": "text/x-python",
   "name": "python",
   "nbconvert_exporter": "python",
   "pygments_lexer": "ipython3",
   "version": "3.5.1"
  }
 },
 "nbformat": 4,
 "nbformat_minor": 0
}
