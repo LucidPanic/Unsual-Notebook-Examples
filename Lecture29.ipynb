{
 "cells": [
  {
   "cell_type": "markdown",
   "metadata": {},
   "source": [
    "# Lecture 29\n",
    "\n",
    "\n",
    "### Eigenvalue computation"
   ]
  },
  {
   "cell_type": "markdown",
   "metadata": {},
   "source": [
    "## QR eigenvalue algorithm"
   ]
  },
  {
   "cell_type": "code",
   "execution_count": 7,
   "metadata": {},
   "outputs": [],
   "source": [
    "A = [1, 3; 3, 1];\n",
    "for i = 1:10\n",
    "    [Q,R] = qr(A);\n",
    "    A = R*Q;\n",
    "end"
   ]
  },
  {
   "cell_type": "code",
   "execution_count": 8,
   "metadata": {},
   "outputs": [
    {
     "name": "stdout",
     "output_type": "stream",
     "text": [
      "\n",
      "A =\n",
      "\n",
      "    4.0000    0.0059\n",
      "    0.0059   -2.0000\n",
      "\n"
     ]
    }
   ],
   "source": [
    "A"
   ]
  },
  {
   "cell_type": "code",
   "execution_count": 9,
   "metadata": {},
   "outputs": [
    {
     "name": "stdout",
     "output_type": "stream",
     "text": [
      "\n",
      "ans =\n",
      "\n",
      "    4.0000\n",
      "   -2.0000\n",
      "\n"
     ]
    }
   ],
   "source": [
    "eig(A)"
   ]
  },
  {
   "cell_type": "code",
   "execution_count": 8,
   "metadata": {},
   "outputs": [
    {
     "name": "stdout",
     "output_type": "stream",
     "text": [
      "\n",
      "A =\n",
      "\n",
      "     1     3     1\n",
      "     3     0    -1\n",
      "     1    -1     1\n",
      "\n",
      "\n",
      "A =\n",
      "\n",
      "    3.5475    0.0000    0.0000\n",
      "    0.0000   -3.0340    0.0000\n",
      "    0.0000   -0.0000    1.4865\n",
      "\n"
     ]
    }
   ],
   "source": [
    "A = [1, 3, 1; 3, 0, -1; 1,  -1, 1]\n",
    "for i = 1:100\n",
    "    [Q,R] = qr(A);\n",
    "    A = R*Q;\n",
    "end\n",
    "A"
   ]
  },
  {
   "cell_type": "code",
   "execution_count": 9,
   "metadata": {},
   "outputs": [
    {
     "name": "stdout",
     "output_type": "stream",
     "text": [
      "\n",
      "ans =\n",
      "\n",
      "    3.5475\n",
      "   -3.0340\n",
      "    1.4865\n",
      "\n"
     ]
    }
   ],
   "source": [
    "eig(A)"
   ]
  }
 ],
 "metadata": {
  "kernelspec": {
   "display_name": "Matlab",
   "language": "matlab",
   "name": "matlab"
  },
  "language_info": {
   "codemirror_mode": "octave",
   "file_extension": ".m",
   "help_links": [
    {
     "text": "MetaKernel Magics",
     "url": "https://metakernel.readthedocs.io/en/latest/source/README.html"
    }
   ],
   "mimetype": "text/x-octave",
   "name": "matlab",
   "version": "0.16.7"
  }
 },
 "nbformat": 4,
 "nbformat_minor": 2
}
