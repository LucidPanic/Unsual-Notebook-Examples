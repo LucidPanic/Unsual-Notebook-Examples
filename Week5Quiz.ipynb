{
 "cells": [
  {
   "cell_type": "markdown",
   "metadata": {},
   "source": [
    "# Quiz structured programming\n",
    "\n",
    "1. You have 20 minutes\n",
    "2. Make it in IPython\n",
    "3. ~~Upload the quiz on Blackboard~~\n",
    "4. Grade yourself before and afterwards\n",
    "5. Do you know yourself?\n",
    "\n",
    "\n",
    "**Q1** Write a function `novel10(text)` that returns (as a list or set) any word that appeared in the last 10% of a text that had not been encountered earlier.\n",
    "\n",
    "1. First write down the seperate steps this function needs to do.\n",
    "2. Think how you program each step (hopefully with a one-liner).\n",
    "3. Put them together.\n",
    "\n",
    "**Q2** Can you abstract parts of the function?\n",
    "\n",
    "**Q3** Add assert statements to check the input parameters"
   ]
  },
  {
   "cell_type": "code",
   "execution_count": 1,
   "metadata": {
    "collapsed": false
   },
   "outputs": [
    {
     "name": "stdout",
     "output_type": "stream",
     "text": [
      "total 88\r\n",
      "-rw-r--r--@ 1 admin  staff  2151 Apr 28  2015 QuizResits.ipynb\r\n",
      "-rw-r--r--@ 1 admin  staff  3269 Apr 11 11:52 Week1Quiz.ipynb\r\n",
      "-rw-r--r--@ 1 admin  staff  4280 Jun  1  2015 Week2Quiz.ipynb\r\n",
      "-rw-r--r--@ 1 admin  staff  6070 Apr 20 10:38 Week3Quiz.ipynb\r\n",
      "-rw-r--r--@ 1 admin  staff  3966 Apr 22  2015 Week5Quiz.ipynb\r\n",
      "-rw-r--r--@ 1 admin  staff  5550 Dec 18 18:12 Week6Quiz.ipynb\r\n",
      "-rw-r--r--@ 1 admin  staff  4952 Dec 18 18:11 Week7Quiz.ipynb\r\n"
     ]
    }
   ],
   "source": [
    "ls -l"
   ]
  },
  {
   "cell_type": "code",
   "execution_count": 29,
   "metadata": {
    "collapsed": false
   },
   "outputs": [],
   "source": [
    "!chmod og-r Week5Q*"
   ]
  },
  {
   "cell_type": "code",
   "execution_count": null,
   "metadata": {
    "collapsed": true
   },
   "outputs": [],
   "source": []
  }
 ],
 "metadata": {
  "anaconda-cloud": {},
  "kernelspec": {
   "display_name": "Python [default]",
   "language": "python",
   "name": "python2"
  },
  "language_info": {
   "codemirror_mode": {
    "name": "ipython",
    "version": 2
   },
   "file_extension": ".py",
   "mimetype": "text/x-python",
   "name": "python",
   "nbconvert_exporter": "python",
   "pygments_lexer": "ipython2",
   "version": "2.7.12"
  }
 },
 "nbformat": 4,
 "nbformat_minor": 0
}
