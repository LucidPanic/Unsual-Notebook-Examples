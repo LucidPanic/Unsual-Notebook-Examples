{
 "cells": [
  {
   "cell_type": "markdown",
   "metadata": {},
   "source": [
    "# Table of Contents\n",
    "* [Iterators and Generators](#Iterators-and-Generators)\n",
    "\t* [00 - Iterators and Generators](#00---Iterators-and-Generators)\n",
    "* [Object Oriented Design](#Object-Oriented-Design)\n",
    "\t* [01 - Magic Methods](#01---Magic-Methods)\n",
    "\t* [02 - Iterable Classes](#02---Iterable-Classes)\n",
    "* [Decorators](#Decorators)\n",
    "\t* [03 - Decorators](#03---Decorators)\n",
    "* [Functional Programming](#Functional-Programming)\n",
    "\t* [04 - Functional Programming](#04---Functional-Programming)"
   ]
  },
  {
   "cell_type": "markdown",
   "metadata": {},
   "source": [
    "# Iterators and Generators"
   ]
  },
  {
   "cell_type": "markdown",
   "metadata": {},
   "source": [
    "## 00 - Iterators and Generators"
   ]
  },
  {
   "cell_type": "markdown",
   "metadata": {},
   "source": [
    "[**Start 00 - Iterators and Generators.ipynb**](/notebooks/00 - Iterators and Generators.ipynb)\n",
    "\n",
    "After completion of this module, learners should be able to:\n",
    "\n",
    "* construct & use iterators for sequential tasks\n",
    "* understand the `itertools` module"
   ]
  },
  {
   "cell_type": "markdown",
   "metadata": {},
   "source": [
    "# Object Oriented Design"
   ]
  },
  {
   "cell_type": "markdown",
   "metadata": {},
   "source": [
    "## 01 - Magic Methods"
   ]
  },
  {
   "cell_type": "markdown",
   "metadata": {},
   "source": [
    "[**Start 01 - Magic Methods.ipynb**](/notebooks/01 - Magic Methods.ipynb)\n",
    "\n",
    "* Magic methods and overloading operators\n",
    "* The `__new__()` method, and its difference from `__init__()`\n",
    "* Defining various operators or other syntax sugar, e.g. `__mul__()`, `__call__()`, `__lt__()`\n",
    "* Unicode subtleties\n",
    "* Generators and coroutines\n",
    "* Metaclasses\n",
    "* Decorators\n",
    "* Context managers\n",
    "* C3 MRO linearization\n",
    "* Longer discussion of complexity classes of standard containers\n",
    "* Functional programming techniques\n",
    "* Properties and accessors\n",
    "* Closures and function factories\n",
    "* import hooks\n",
    "\n",
    "Highlighting some standard library modules such as:\n",
    "* asyncore\n",
    "* multiprocessing\n",
    "* subprocess\n",
    "* threading\n",
    "* ast and dis"
   ]
  },
  {
   "cell_type": "markdown",
   "metadata": {},
   "source": [
    "## 02 - Iterable Classes"
   ]
  },
  {
   "cell_type": "markdown",
   "metadata": {},
   "source": [
    "[**Start 02 - Iterable Classes.ipynb**](/notebooks/02 - Iterable Classes.ipynb)\n",
    "\n"
   ]
  },
  {
   "cell_type": "markdown",
   "metadata": {},
   "source": [
    "# Decorators"
   ]
  },
  {
   "cell_type": "markdown",
   "metadata": {},
   "source": [
    "## 03 - Decorators"
   ]
  },
  {
   "cell_type": "markdown",
   "metadata": {},
   "source": [
    "[**Start 03 - Decorators.ipynb**](/notebooks/03 - Decorators.ipynb)\n",
    "\n"
   ]
  },
  {
   "cell_type": "markdown",
   "metadata": {},
   "source": [
    "# Functional Programming"
   ]
  },
  {
   "cell_type": "markdown",
   "metadata": {},
   "source": [
    "## 04 - Functional Programming"
   ]
  },
  {
   "cell_type": "markdown",
   "metadata": {},
   "source": [
    "[**Start 04 - Functional Programming.ipynb**](/notebooks/04 - Functional Programming.ipynb)\n",
    "\n"
   ]
  }
 ],
 "metadata": {},
 "nbformat": 4,
 "nbformat_minor": 0
}
