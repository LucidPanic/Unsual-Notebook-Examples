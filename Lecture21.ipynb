{
 "cells": [
  {
   "cell_type": "markdown",
   "metadata": {},
   "source": [
    "# Lecture 20\n",
    "\n",
    "\n",
    "### Olver and Shakiban 4.3 --- using a different method"
   ]
  },
  {
   "cell_type": "markdown",
   "metadata": {},
   "source": [
    "## Householder reflectors:"
   ]
  },
  {
   "cell_type": "code",
   "execution_count": 5,
   "metadata": {},
   "outputs": [
    {
     "name": "stdout",
     "output_type": "stream",
     "text": [
      "\n",
      "w =\n",
      "\n",
      "    0.7533\n",
      "    0.1790\n",
      "    0.2685\n",
      "    0.3580\n",
      "    0.4475\n",
      "\n"
     ]
    }
   ],
   "source": [
    "x = [1;2;3;4;5];\n",
    "w = x;\n",
    "w(1) = x(1) + sign(x(1))*norm(x);\n",
    "w = w/norm(w)"
   ]
  },
  {
   "cell_type": "code",
   "execution_count": 6,
   "metadata": {},
   "outputs": [
    {
     "name": "stdout",
     "output_type": "stream",
     "text": [
      "\n",
      "H =\n",
      "\n",
      "   -0.1348   -0.2697   -0.4045   -0.5394   -0.6742\n",
      "   -0.2697    0.9359   -0.0961   -0.1282   -0.1602\n",
      "   -0.4045   -0.0961    0.8558   -0.1923   -0.2403\n",
      "   -0.5394   -0.1282   -0.1923    0.7437   -0.3204\n",
      "   -0.6742   -0.1602   -0.2403   -0.3204    0.5995\n",
      "\n"
     ]
    }
   ],
   "source": [
    "H = eye(length(x)) - 2*w*w'"
   ]
  },
  {
   "cell_type": "code",
   "execution_count": 7,
   "metadata": {},
   "outputs": [
    {
     "name": "stdout",
     "output_type": "stream",
     "text": [
      "\n",
      "ans =\n",
      "\n",
      "    1.0000    0.0000    0.0000    0.0000    0.0000\n",
      "    0.0000    1.0000    0.0000    0.0000    0.0000\n",
      "    0.0000    0.0000    1.0000    0.0000    0.0000\n",
      "    0.0000    0.0000    0.0000    1.0000    0.0000\n",
      "    0.0000    0.0000    0.0000    0.0000    1.0000\n",
      "\n"
     ]
    }
   ],
   "source": [
    "H*H'"
   ]
  },
  {
   "cell_type": "code",
   "execution_count": 8,
   "metadata": {},
   "outputs": [
    {
     "name": "stdout",
     "output_type": "stream",
     "text": [
      "\n",
      "ans =\n",
      "\n",
      "    1.0000    0.0000    0.0000    0.0000    0.0000\n",
      "    0.0000    1.0000    0.0000    0.0000    0.0000\n",
      "    0.0000    0.0000    1.0000    0.0000    0.0000\n",
      "    0.0000    0.0000    0.0000    1.0000    0.0000\n",
      "    0.0000    0.0000    0.0000    0.0000    1.0000\n",
      "\n"
     ]
    }
   ],
   "source": [
    "H'*H"
   ]
  },
  {
   "cell_type": "code",
   "execution_count": 9,
   "metadata": {},
   "outputs": [
    {
     "name": "stdout",
     "output_type": "stream",
     "text": [
      "\n",
      "ans =\n",
      "\n",
      "   -7.4162\n",
      "   -0.0000\n",
      "   -0.0000\n",
      "   -0.0000\n",
      "   -0.0000\n",
      "\n"
     ]
    }
   ],
   "source": [
    "H*x"
   ]
  },
  {
   "cell_type": "code",
   "execution_count": 10,
   "metadata": {},
   "outputs": [
    {
     "name": "stdout",
     "output_type": "stream",
     "text": [
      "\n",
      "ans =\n",
      "\n",
      "   -7.4162\n",
      "\n"
     ]
    }
   ],
   "source": [
    "-norm(x)"
   ]
  },
  {
   "cell_type": "code",
   "execution_count": 13,
   "metadata": {},
   "outputs": [
    {
     "name": "stdout",
     "output_type": "stream",
     "text": [
      "\n",
      "w =\n",
      "\n",
      "     1\n",
      "     2\n",
      "\n",
      "\n",
      "ans =\n",
      "\n",
      "     1     2\n",
      "\n"
     ]
    }
   ],
   "source": [
    "w = [1;2]\n",
    "w'"
   ]
  },
  {
   "cell_type": "code",
   "execution_count": 12,
   "metadata": {},
   "outputs": [
    {
     "name": "stdout",
     "output_type": "stream",
     "text": [
      "\n",
      "ans =\n",
      "\n",
      "     1     2\n",
      "     2     4\n",
      "\n"
     ]
    }
   ],
   "source": [
    "(w*w')*x # takes more than n^2 multiplications"
   ]
  },
  {
   "cell_type": "code",
   "execution_count": null,
   "metadata": {},
   "outputs": [],
   "source": [
    "w*(w'*x) # takes 2n multiplications"
   ]
  },
  {
   "cell_type": "markdown",
   "metadata": {},
   "source": [
    "## Using H without ever constructing H!"
   ]
  },
  {
   "cell_type": "code",
   "execution_count": 14,
   "metadata": {},
   "outputs": [
    {
     "name": "stdout",
     "output_type": "stream",
     "text": [
      "\n",
      "x =\n",
      "\n",
      "   -7.4162\n",
      "   -0.0000\n",
      "   -0.0000\n",
      "   -0.0000\n",
      "   -0.0000\n",
      "\n"
     ]
    }
   ],
   "source": [
    "x = [1;2;3;4;5];\n",
    "w = x;\n",
    "w(1) = x(1) + sign(x(1))*norm(x);\n",
    "w = w/norm(w);\n",
    "x = x - 2*w*(w'*x)"
   ]
  },
  {
   "cell_type": "code",
   "execution_count": null,
   "metadata": {},
   "outputs": [],
   "source": []
  }
 ],
 "metadata": {
  "kernelspec": {
   "display_name": "Matlab",
   "language": "matlab",
   "name": "matlab"
  },
  "language_info": {
   "codemirror_mode": "octave",
   "file_extension": ".m",
   "help_links": [
    {
     "text": "MetaKernel Magics",
     "url": "https://metakernel.readthedocs.io/en/latest/source/README.html"
    }
   ],
   "mimetype": "text/x-octave",
   "name": "matlab",
   "version": "0.16.7"
  }
 },
 "nbformat": 4,
 "nbformat_minor": 2
}
