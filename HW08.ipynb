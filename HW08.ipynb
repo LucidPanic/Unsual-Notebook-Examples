{
 "cells": [
  {
   "cell_type": "markdown",
   "metadata": {},
   "source": [
    "# Homework 8\n",
    "\n",
    "## Due Wednesday, Nov. 22 in class\n",
    "\n",
    "* Olver and Shakiban 5.4.4(a)\n",
    "\n",
    "* Compute the Householder relflector matrix $H(\\vec x)$ corresponding to\n",
    "$$\\vec x = \\begin{pmatrix} -1 \\\\ 0 \\\\ 1 \\\\ 1 \\end{pmatrix}.$$\n",
    "Compute $H(\\vec x) \\vec x$.\n",
    "\n",
    "## Suggested problems\n",
    "\n",
    "* Olver and Shakiban 5.4.1, 5.4.4, 5.4.10"
   ]
  }
 ],
 "metadata": {
  "kernelspec": {
   "display_name": "Matlab",
   "language": "matlab",
   "name": "matlab"
  },
  "language_info": {
   "codemirror_mode": "octave",
   "file_extension": ".m",
   "help_links": [
    {
     "text": "MetaKernel Magics",
     "url": "https://metakernel.readthedocs.io/en/latest/source/README.html"
    }
   ],
   "mimetype": "text/x-octave",
   "name": "matlab",
   "version": "0.16.7"
  }
 },
 "nbformat": 4,
 "nbformat_minor": 2
}
