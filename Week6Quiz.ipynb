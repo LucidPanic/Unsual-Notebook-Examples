{
 "cells": [
  {
   "cell_type": "markdown",
   "metadata": {},
   "source": [
    "## Quiz recommender systems\n",
    "\n",
    "Each question is either right or wrong.\n",
    "\n",
    "You need to have 6 questions completely  correct to pass.\n",
    "\n",
    "When we grade, the answers must be almost literally the same as the model-answers.\n",
    "\n",
    "Peer-reviewers/Graders are scored too using a random sample. Reviewers who made a mistake are given a 0 for their quiz. \n",
    "\n",
    "<hr/>"
   ]
  },
  {
   "cell_type": "markdown",
   "metadata": {},
   "source": [
    "**Q1** Collaborative filtering based recommender systems are based on user-rating-item tuples. Describe how such a dataset is represented in Chapter 2 of the collective intelligence book. We ask for a precise description of the data structure."
   ]
  },
  {
   "cell_type": "markdown",
   "metadata": {},
   "source": [
    "**Q2** Describe how you can store these user-rating-item tuples in one spreadheet. \n",
    "1. What represents each row?\n",
    "2. How many columns has the spreadsheet and what are the names of the columns?"
   ]
  },
  {
   "cell_type": "markdown",
   "metadata": {},
   "source": [
    "**Q3** An important aspect of collaborative filtering based recommender systems is to compute the similarity between two users. On the basis of what is this computed?"
   ]
  },
  {
   "cell_type": "markdown",
   "metadata": {},
   "source": [
    "**Q4**  Collaborative filtering based recommender systems, recommend, _given a user_, the \"best item for that user, that she has not (yet) rated\".\n",
    "\n",
    "Actually what do these systems compute/estimate in order to make that recommendation?"
   ]
  },
  {
   "cell_type": "markdown",
   "metadata": {},
   "source": [
    "**Q5** Collaborative recommendations are defined as follows in Adomavicius et al: \n",
    "> The user will be\n",
    "recommended items that people with similar tastes\n",
    "and preferences liked in the past.\n",
    "\n",
    "How do they define \"content-based recommendations\"?"
   ]
  },
  {
   "cell_type": "markdown",
   "metadata": {},
   "source": [
    "**Q6** The Movielens dataset is described as follows:\n",
    ">MovieLens 20M\n",
    "Stable benchmark dataset. 20 million ratings   applied to 27,000 movies by 138,000 users. \n",
    "\n",
    "WE want to calculate the similarities between users. Suppose calculating the  similarity between users x and y takes 1 millisecond. Roughly how long do we need to compute all similarities? \n",
    "\n",
    "\n",
    "We want to express it as a small number of timeunits. So if it is 1000 seconds, we express it in minutes or \"kwartieren\") (because this is 16 minutes, or roughly 1 kwartier). \n",
    "\n",
    "What is the most appropriate temporal unit? (You may use a calculator)."
   ]
  },
  {
   "cell_type": "markdown",
   "metadata": {},
   "source": [
    "**Q7** In the collective intelligence book a snapshot from Amazons website is shown showing the well-known \"Customers who bought this item also bought:\" followed by a list of other _similar_ items to the one you just bought.\n",
    "\n",
    "If the just bought item is brand new (that is, you are the first customer buying it), with what technique can the similarity between that and other items be calculated?"
   ]
  },
  {
   "cell_type": "markdown",
   "metadata": {},
   "source": [
    "**Q8** Compute the dot product of `(1,2,3,4)` and `(4,5,6,7)`.\n",
    "\n",
    "**Q9** What is the TF of the word _as_ in the following document (assume all words are lowercased and interpunction is removed):\n",
    "\n",
    ">Compute the cosine similarity of `(1,2,3,4)` and `(4,5,6,7)`. The formula is also enough, as long as it is 100% correct.\n",
    "\n",
    "**Q10** The word `rendementsdenken` occurs in one of every 100 documents about the UvA. The word `onderwijs` in one in every 100.000. What is the IDF of these two words? You can use logarithm with base 10."
   ]
  },
  {
   "cell_type": "code",
   "execution_count": 2,
   "metadata": {
    "collapsed": false
   },
   "outputs": [],
   "source": [
    "!chmod og+r Week6*"
   ]
  },
  {
   "cell_type": "code",
   "execution_count": 3,
   "metadata": {
    "collapsed": false
   },
   "outputs": [
    {
     "name": "stdout",
     "output_type": "stream",
     "text": [
      "total 88\r\n",
      "-rw-------@ 1 admin  staff  2151 Apr 28  2015 QuizResits.ipynb\r\n",
      "-rw-r--r--@ 1 admin  staff  3236 Jun  1  2015 Week1Quiz.ipynb\r\n",
      "-rw-r--r--@ 1 admin  staff  4280 Jun  1  2015 Week2Quiz.ipynb\r\n",
      "-rw-r--r--@ 1 admin  staff  5462 Apr 14  2015 Week3Quiz.ipynb\r\n",
      "-rw-r--r--@ 1 admin  staff  3966 Apr 22  2015 Week5Quiz.ipynb\r\n",
      "-rw-r--r--@ 1 admin  staff  4757 Mar 21 12:34 Week6Quiz.ipynb\r\n",
      "-rw-------@ 1 admin  staff  4951 May 22  2015 Week7Quiz.ipynb\r\n"
     ]
    }
   ],
   "source": [
    "!ls -l"
   ]
  },
  {
   "cell_type": "code",
   "execution_count": null,
   "metadata": {
    "collapsed": true
   },
   "outputs": [],
   "source": []
  }
 ],
 "metadata": {
  "kernelspec": {
   "display_name": "Python 2",
   "language": "python",
   "name": "python2"
  },
  "language_info": {
   "codemirror_mode": {
    "name": "ipython",
    "version": 2
   },
   "file_extension": ".py",
   "mimetype": "text/x-python",
   "name": "python",
   "nbconvert_exporter": "python",
   "pygments_lexer": "ipython2",
   "version": "2.7.13"
  }
 },
 "nbformat": 4,
 "nbformat_minor": 0
}
