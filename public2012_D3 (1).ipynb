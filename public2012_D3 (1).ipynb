








<!DOCTYPE html>
<html lang="en">

<head>
  <meta charset="utf-8">
  <title>Jupyter Notebook Viewer</title>
  <meta name="viewport" content="width=device-width, initial-scale=1.0">
  <meta name="description" content="">
  <meta name="author" content="">
  
  <meta name="robots" content="noindex,nofollow">
  

  <!--NEW RELIC Start Perf Measurement-->
  
  <!--NREND-->

  <!-- Le styles -->
  <link href="/static/build/styles.css?v=7fe30404aaeedb40bf592c91e1d25a26" rel="stylesheet">

  <!-- Le HTML5 shim, for IE6-8 support of HTML5 elements -->
  <!--[if lt IE 9]>
    <script src="http://html5shim.googlecode.com/svn/trunk/html5.js"></script>
  <![endif]-->

  <!-- Le fav and touch icons -->
  <link rel="shortcut icon" href="/static/ico/ipynb_icon_16x16.png">
  <link rel="apple-touch-icon-precomposed" sizes="144x144"
        href="/static/ico/apple-touch-icon-144-precomposed.png?v=5a3c9ede93e2a8b8ea9e3f8f3da1a905">
  <link rel="apple-touch-icon-precomposed" sizes="114x114"
        href="/static/ico/apple-touch-icon-114-precomposed.png?v=45d86fc8f24dc00638035e1dd7a6d898">
  <link rel="apple-touch-icon-precomposed" sizes="72x72"
        href="/static/ico/apple-touch-icon-72-precomposed.png?v=540b5eb0f3cfd25f1439d1c9bd30e15f">
  <link rel="apple-touch-icon-precomposed"
        href="/static/ico/apple-touch-icon-57-precomposed.png?v=225f0590e187e1458625654f10a28f56">
  
  

  

  
  <meta name="twitter:card" content="summary">
  <meta name="twitter:title" content="Notebook on nbviewer">
  <meta name="twitter:description" content="Check out this Jupyter notebook!">

  
  <meta name="twitter:domain" content="nbviewer.jupyter.org">
  <meta name="twitter:image:src" content="http://ipython.org/ipython-doc/dev/_images/ipynb_icon_128x128.png">

  
    <link href="/static/build/notebook.css?v=b71b4a780ae775fd48f0eead7512c5dd" rel="stylesheet">
  

  

  
    <script src="https://cdnjs.cloudflare.com/ajax/libs/mathjax/2.7.1/MathJax.js?config=TeX-AMS_HTML" type="text/javascript">
    </script>
    <script type="text/javascript">
      init_mathjax = function() {
        if (window.MathJax) {
          // MathJax loaded
          MathJax.Hub.Config({
            TeX: {
              equationNumbers: {
                autoNumber: "AMS",
                useLabelIds: true
              }
            },
            tex2jax: {
              inlineMath: [ ['$','$'], ["\\(","\\)"] ],
              displayMath: [ ['$$','$$'], ["\\[","\\]"] ],
              processEscapes: true,
              processEnvironments: true
            },
            displayAlign: 'center',
            "HTML-CSS": {
              styles: {'.MathJax_Display': {"margin": 0}},
              linebreaks: { automatic: true }
            }
          });
          MathJax.Hub.Queue(["Typeset", MathJax.Hub]);
        }
      }
      init_mathjax();
    </script>
  

  
    <script>
      (function() {
        function addWidgetsRenderer() {
          var mimeElement = document.querySelector('script[type="application/vnd.jupyter.widget-view+json"]');
          var scriptElement = document.createElement('script');
          var widgetRendererSrc = 'https://unpkg.com/@jupyter-widgets/html-manager@0.15/dist/embed-amd.js';
          var widgetState;

          try {
            widgetState = mimeElement && JSON.parse(mimeElement.innerHTML);

            if (widgetState && (widgetState.version_major < 2 || !widgetState.version_major)) {
              widgetRendererSrc = 'https://unpkg.com/jupyter-js-widgets@2.1/dist/embed.js';
            }
          } catch(e) {}

          scriptElement.src = widgetRendererSrc;
          document.body.appendChild(scriptElement);
        }

        document.addEventListener('DOMContentLoaded', addWidgetsRenderer);
      }());
    </script>
  

</head>

<body class="nbviewer">

  <!-- These are loaded at the top of the body so they are available to
       notebook cells when they are loaded below. -->
  <script src="/static/components/jquery/dist/jquery.min.js?v=220afd743d9e9643852e31a135a9f3ae"></script>
  <script src="/static/components/requirejs/require.js?v=6da8be361b9ee26c5e721e76c6d4afce"></script>
  <script src="/static/components/moment/min/moment.min.js?v=89f87298ad94aa1e6b92f42eb66da043"></script>
<!-- Navbar
================================================== -->
  <nav id="menubar" class="navbar navbar-default navbar-fixed-top" data-spy="affix">
    <div class="container">
      <div class="navbar-header">
        <button type="button" class="navbar-toggle collapsed" data-toggle="collapse" data-target=".navbar-collapse">
          <span class="sr-only">Toggle navigation</span>
          <i class="fa fa-bars"></i>
        </button>
        <a class="navbar-brand" href="/">
          <img src="/static/img/nav_logo.svg?v=479cefe8d932fb14a67b93911b97d70f" width="159"/>
        </a>
      </div>

      <div class="collapse navbar-collapse">
        <ul class="nav navbar-nav navbar-right">
          <li>
            <a class="active" href="https://jupyter.org">JUPYTER</a>
          </li>
          <li>
    <a href="/faq" title="FAQ" >
      
        <span>FAQ</span>
      
    </a>
  </li>

          
  
    
  
    
      
        <li>
    <a href="script/github/Naereen/notebooks/blob/master/agreg/public2012_D3.ipynb" title="View as Code" >
      <span class="fa fa-code fa-2x menu-icon"></span>
      <span class="menu-text">View as Code</span>
    </a>
  </li>
      
    
  

  
    <li>
    <a href="#" title="Python 3 Kernel" >
      <span class="fa fa-server fa-2x menu-icon"></span>
      <span class="menu-text">Python 3 Kernel</span>
    </a>
  </li>
  

  
    <li>
    <a href="https://github.com/Naereen/notebooks/blob/master/agreg/public2012_D3.ipynb" title="View on GitHub" >
      <span class="fa fa-github fa-2x menu-icon"></span>
      <span class="menu-text">View on GitHub</span>
    </a>
  </li>
  

  
    <li>
    <a href="https://mybinder.org/v2/gh/Naereen/notebooks/master?filepath=agreg/public2012_D3.ipynb" title="Execute on Binder" >
      <span class="fa fa-icon-binder fa-2x menu-icon"></span>
      <span class="menu-text">Execute on Binder</span>
    </a>
  </li>
  

  <li>
    <a href="https://raw.githubusercontent.com/Naereen/notebooks/master/agreg/public2012_D3.ipynb" title="Download Notebook" download>
      <span class="fa fa-download fa-2x menu-icon"></span>
      <span class="menu-text">Download Notebook</span>
    </a>
  </li>

        </ul>
      </div><!-- /.navbar-collapse -->
      
      
    </div>
  </nav>

  <div class="container container-main">
    
  
  <ol class="breadcrumb">
    
      <li>
        <a href="/github/Naereen/notebooks/tree/master">notebooks</a>
      </li>
    
      <li>
        <a href="/github/Naereen/notebooks/tree/master/agreg">agreg</a>
      </li>
    
  </ol>
  
  <div id="notebook">
    <div id="notebook-container">
      <div class="cell border-box-sizing text_cell rendered"><div class="prompt input_prompt">
</div><div class="inner_cell">
<div class="text_cell_render border-box-sizing rendered_html">
<h1 id="Table-des-mati&#232;res">Table des mati&#232;res<a class="anchor-link" href="#Table-des-mati&#232;res">&#182;</a></h1><ul>
<li><a href="#1.-Agrégation-externe-de-mathématiques,-texte-d’exercice-diffusé-en-2012">1. Agrégation externe de mathématiques, texte d’exercice diffusé en 2012</a><ul>
<li><a href="#1.1-Épreuve-de-modélisation,-option-informatique">1.1 Épreuve de modélisation, option informatique</a></li>
<li><a href="#1.2-*Proposition*-d&#39;implémentation,-en-[Python-3]%28https://docs.python.org/3/%29">1.2 <em>Proposition</em> d'implémentation, en <a href="https://docs.python.org/3/">Python 3</a></a><ul>
<li><a href="#1.2.1-Pour-[l&#39;option-informatique-%28D%29]%28http://www.dit.ens-rennes.fr/agregation-option-d/programme-de-l-option-informatique-de-l-agregation-de-mathematiques-48358.kjsp%29-de-l&#39;[agrégation-de-mathématiques]%28http://agreg.org/%29-%28en-France%29.">1.2.1 Pour <a href="http://www.dit.ens-rennes.fr/agregation-option-d/programme-de-l-option-informatique-de-l-agregation-de-mathematiques-48358.kjsp">l'option informatique (D)</a> de l'<a href="http://agreg.org/">agrégation de mathématiques</a> (en France).</a></li>
</ul>
</li>
<li><a href="#1.3-Dépendances-et-importation-de-modules">1.3 Dépendances et importation de modules</a></li>
<li><a href="#1.4-Jeux-de-Nim">1.4 Jeux de Nim</a><ul>
<li><a href="#1.4.1-Représentation-des-configurations">1.4.1 Représentation des configurations</a></li>
<li><a href="#1.4.2-Fonction-de-Sprague-Grundy-pour-le-jeu-de-Nim">1.4.2 Fonction de Sprague-Grundy pour le jeu de Nim</a></li>
<li><a href="#1.4.3-Déterminer-un-coup-à-jouer-selon-une-stratégie-gagnante-%28s&#39;il-y-en-a-une%29">1.4.3 Déterminer un coup à jouer selon une stratégie gagnante (s'il y en a une)</a><ul>
<li><a href="#1.4.3.1-Stratégie-optimale">1.4.3.1 Stratégie optimale</a></li>
</ul>
</li>
<li><a href="#1.4.4-Stratégie-stupide">1.4.4 Stratégie stupide</a></li>
<li><a href="#1.4.5-Un-bonus-:-*simulation-du-jeu*">1.4.5 Un bonus : <em>simulation du jeu</em></a></li>
<li><a href="#1.4.6-Configuration-aléatoire">1.4.6 Configuration aléatoire</a></li>
</ul>
</li>
<li><a href="#1.5-Conclusion">1.5 Conclusion</a></li>
<li><a href="#1.6-Attention-:">1.6 Attention :</a></li>
</ul>
</li>
</ul>

</div>
</div>
</div>
<div class="cell border-box-sizing text_cell rendered"><div class="prompt input_prompt">
</div><div class="inner_cell">
<div class="text_cell_render border-box-sizing rendered_html">
<h1 id="1.-Agr&#233;gation-externe-de-math&#233;matiques,-texte-d&#8217;exercice-diffus&#233;-en-2012">1. Agr&#233;gation externe de math&#233;matiques, texte d&#8217;exercice diffus&#233; en 2012<a class="anchor-link" href="#1.-Agr&#233;gation-externe-de-math&#233;matiques,-texte-d&#8217;exercice-diffus&#233;-en-2012">&#182;</a></h1>
</div>
</div>
</div>
<div class="cell border-box-sizing text_cell rendered"><div class="prompt input_prompt">
</div><div class="inner_cell">
<div class="text_cell_render border-box-sizing rendered_html">
<h2 id="1.1-&#201;preuve-de-mod&#233;lisation,-option-informatique">1.1 &#201;preuve de mod&#233;lisation, option informatique<a class="anchor-link" href="#1.1-&#201;preuve-de-mod&#233;lisation,-option-informatique">&#182;</a></h2>
</div>
</div>
</div>
<div class="cell border-box-sizing text_cell rendered"><div class="prompt input_prompt">
</div><div class="inner_cell">
<div class="text_cell_render border-box-sizing rendered_html">
<blockquote><ul>
<li>Ce <a href="https://jupyter.org/">notebook Jupyter</a> est une correction <a href="https://github.com/Naereen/notebooks/tree/master/agreg">non officielle</a> d'un texte de modélisation pour l'option informatique de l'agrégation externe de mathématiques.</li>
<li>Il s'agit du texte <a href="http://agreg.org/Textes/public2012-D3.pdf">public2012-D3</a>.</li>
<li>Cette tentative de correction partielle a été rédigée par <a href="http://perso.crans.org/besson/">Lilian Besson</a> (<a href="https://github.com/Naereen/">sur GitHub ?</a>, <a href="https://bitbucket.org/lbesson">sur Bitbucket ?</a>), et <a href="https://github.com/Naereen/notebooks/blob/master/agreg/public2012_D3.ipynb">est open-source</a>.</li>
</ul>
<h4 id="Feedbacks?">Feedbacks?<a class="anchor-link" href="#Feedbacks?">&#182;</a></h4><ul>
<li>Vous avez trouvé un bug ? → <a href="https://github.com/Naereen/notebooks/issues/new">Signalez-le moi svp !</a>, merci d'avance.</li>
<li>Vous avez une question ? → <a href="https://github.com/Naereen/ama.fr">Posez la svp !</a> <a href="https://GitHub.com/Naereen/ama.fr"><img src="https://img.shields.io/badge/Demandez%20moi-n&#39;%20importe%20quoi-1abc9c.svg" alt="Demandez moi n&#39;importe quoi !"></a></li>
</ul>
</blockquote>
<hr>

</div>
</div>
</div>
<div class="cell border-box-sizing text_cell rendered"><div class="prompt input_prompt">
</div><div class="inner_cell">
<div class="text_cell_render border-box-sizing rendered_html">
<h2 id="1.2-Proposition-d'impl&#233;mentation,-en-Python-3">1.2 <em>Proposition</em> d'impl&#233;mentation, en <a href="https://docs.python.org/3/">Python 3</a><a class="anchor-link" href="#1.2-Proposition-d'impl&#233;mentation,-en-Python-3">&#182;</a></h2>
</div>
</div>
</div>
<div class="cell border-box-sizing text_cell rendered"><div class="prompt input_prompt">
</div><div class="inner_cell">
<div class="text_cell_render border-box-sizing rendered_html">
<h3 id="1.2.1-Pour-l'option-informatique-(D)-de-l'agr&#233;gation-de-math&#233;matiques-(en-France).">1.2.1 Pour <a href="http://www.dit.ens-rennes.fr/agregation-option-d/programme-de-l-option-informatique-de-l-agregation-de-mathematiques-48358.kjsp">l'option informatique (D)</a> de l'<a href="http://agreg.org/">agr&#233;gation de math&#233;matiques</a> (en France).<a class="anchor-link" href="#1.2.1-Pour-l'option-informatique-(D)-de-l'agr&#233;gation-de-math&#233;matiques-(en-France).">&#182;</a></h3>
</div>
</div>
</div>
<div class="cell border-box-sizing text_cell rendered"><div class="prompt input_prompt">
</div><div class="inner_cell">
<div class="text_cell_render border-box-sizing rendered_html">
<p><strong>Attention</strong> : ce document ne prétend pas être LA correction du texte, mais <strong>un exemple de solution</strong>.</p>
<hr>

</div>
</div>
</div>
<div class="cell border-box-sizing text_cell rendered"><div class="prompt input_prompt">
</div><div class="inner_cell">
<div class="text_cell_render border-box-sizing rendered_html">
<h2 id="1.3-D&#233;pendances-et-importation-de-modules">1.3 D&#233;pendances et importation de modules<a class="anchor-link" href="#1.3-D&#233;pendances-et-importation-de-modules">&#182;</a></h2>
</div>
</div>
</div>
<div class="cell border-box-sizing code_cell rendered">
<div class="input">
<div class="prompt input_prompt">In&nbsp;[73]:</div>
<div class="inner_cell">
    <div class="input_area">
<div class=" highlight hl-ipython3"><pre><span></span><span class="kn">import</span> <span class="nn">numpy</span> <span class="k">as</span> <span class="nn">np</span>
<span class="kn">import</span> <span class="nn">numpy.random</span> <span class="k">as</span> <span class="nn">random</span>
<span class="kn">import</span> <span class="nn">matplotlib.pyplot</span> <span class="k">as</span> <span class="nn">plt</span>
</pre></div>

    </div>
</div>
</div>

</div>
<div class="cell border-box-sizing text_cell rendered"><div class="prompt input_prompt">
</div><div class="inner_cell">
<div class="text_cell_render border-box-sizing rendered_html">
<h2 id="1.4-Jeux-de-Nim">1.4 Jeux de Nim<a class="anchor-link" href="#1.4-Jeux-de-Nim">&#182;</a></h2>
</div>
</div>
</div>
<div class="cell border-box-sizing text_cell rendered"><div class="prompt input_prompt">
</div><div class="inner_cell">
<div class="text_cell_render border-box-sizing rendered_html">
<h3 id="1.4.1-Repr&#233;sentation-des-configurations">1.4.1 Repr&#233;sentation des configurations<a class="anchor-link" href="#1.4.1-Repr&#233;sentation-des-configurations">&#182;</a></h3><p>On représente une configuration <code>Nim(x1,..,xk)</code> simplement par un tableau qui contient <code>[x1,..,xk]</code> :</p>

</div>
</div>
</div>
<div class="cell border-box-sizing code_cell rendered">
<div class="input">
<div class="prompt input_prompt">In&nbsp;[2]:</div>
<div class="inner_cell">
    <div class="input_area">
<div class=" highlight hl-ipython3"><pre><span></span><span class="n">a</span> <span class="o">=</span> <span class="p">[</span><span class="mi">1</span><span class="p">,</span> <span class="mi">3</span><span class="p">,</span> <span class="mi">5</span><span class="p">]</span>
</pre></div>

    </div>
</div>
</div>

</div>
<div class="cell border-box-sizing text_cell rendered"><div class="prompt input_prompt">
</div><div class="inner_cell">
<div class="text_cell_render border-box-sizing rendered_html">
<p>On va d'abord écrire une fonction toute simple qui affiche une configuration, en mode texte.
Aucune raison de perdre son temps à en faire une plus jolie (par exemple, avec <a href="https://www.matplotlib.org">matplotlib</a> qui utiliserait une fenêtre graphique).</p>

</div>
</div>
</div>
<div class="cell border-box-sizing code_cell rendered">
<div class="input">
<div class="prompt input_prompt">In&nbsp;[7]:</div>
<div class="inner_cell">
    <div class="input_area">
<div class=" highlight hl-ipython3"><pre><span></span><span class="k">def</span> <span class="nf">print_nim</span><span class="p">(</span><span class="n">configuration</span><span class="p">):</span>
    <span class="sd">&quot;&quot;&quot; Affiche une configuration, donnée sous forme d&#39;une liste d&#39;entiers. &quot;&quot;&quot;</span>
    <span class="k">for</span> <span class="n">i</span><span class="p">,</span> <span class="n">nb</span> <span class="ow">in</span> <span class="nb">enumerate</span><span class="p">(</span><span class="n">configuration</span><span class="p">):</span>
        <span class="nb">print</span><span class="p">(</span><span class="n">i</span><span class="p">,</span> <span class="s1">&#39;:&#39;</span><span class="p">,</span> <span class="s1">&#39;! &#39;</span> <span class="o">*</span> <span class="n">nb</span><span class="p">)</span>
</pre></div>

    </div>
</div>
</div>

</div>
<div class="cell border-box-sizing text_cell rendered"><div class="prompt input_prompt">
</div><div class="inner_cell">
<div class="text_cell_render border-box-sizing rendered_html">
<p>On peut définir et afficher deux exemples de configuration d'un jeu de Nim, venant de la figure 1.</p>

</div>
</div>
</div>
<div class="cell border-box-sizing code_cell rendered">
<div class="input">
<div class="prompt input_prompt">In&nbsp;[8]:</div>
<div class="inner_cell">
    <div class="input_area">
<div class=" highlight hl-ipython3"><pre><span></span><span class="n">print_nim</span><span class="p">(</span><span class="n">a</span><span class="p">)</span>
</pre></div>

    </div>
</div>
</div>

<div class="output_wrapper">
<div class="output">


<div class="output_area">

    <div class="prompt"></div>


<div class="output_subarea output_stream output_stdout output_text">
<pre>0 : ! 
1 : ! ! ! 
2 : ! ! ! ! ! 
</pre>
</div>
</div>

</div>
</div>

</div>
<div class="cell border-box-sizing code_cell rendered">
<div class="input">
<div class="prompt input_prompt">In&nbsp;[9]:</div>
<div class="inner_cell">
    <div class="input_area">
<div class=" highlight hl-ipython3"><pre><span></span><span class="n">b</span> <span class="o">=</span> <span class="p">[</span><span class="mi">1</span><span class="p">,</span> <span class="mi">3</span><span class="p">,</span> <span class="mi">2</span><span class="p">]</span>
<span class="n">print_nim</span><span class="p">(</span><span class="n">b</span><span class="p">)</span>
</pre></div>

    </div>
</div>
</div>

<div class="output_wrapper">
<div class="output">


<div class="output_area">

    <div class="prompt"></div>


<div class="output_subarea output_stream output_stdout output_text">
<pre>0 : ! 
1 : ! ! ! 
2 : ! ! 
</pre>
</div>
</div>

</div>
</div>

</div>
<div class="cell border-box-sizing text_cell rendered"><div class="prompt input_prompt">
</div><div class="inner_cell">
<div class="text_cell_render border-box-sizing rendered_html">
<h3 id="1.4.2-Fonction-de-Sprague-Grundy-pour-le-jeu-de-Nim">1.4.2 Fonction de Sprague-Grundy pour le jeu de Nim<a class="anchor-link" href="#1.4.2-Fonction-de-Sprague-Grundy-pour-le-jeu-de-Nim">&#182;</a></h3>
</div>
</div>
</div>
<div class="cell border-box-sizing text_cell rendered"><div class="prompt input_prompt">
</div><div class="inner_cell">
<div class="text_cell_render border-box-sizing rendered_html">
<p>Elle est donnée par le corollaire 1. en page 6/7 du texte.
On a besoin du <strong>xor</strong> (<em>"ou exclusif"</em>, cf <a href="https://fr.wikipedia.org/wiki/Fonction_OU_exclusif">cette page</a>), <strong>bit à bit</strong> (tel que $\oplus$ est défini dans le texte).</p>
<p>Cet opérateur est obtenu en Python avec l'opérateur <code>^</code> :</p>
$$ \gamma(\mathrm{Nim}(x_1, \dots, x_k)) := \bigoplus_{i=1}^{k} x_i = x_1 \oplus \dots \oplus x_k. $$
</div>
</div>
</div>
<div class="cell border-box-sizing text_cell rendered"><div class="prompt input_prompt">
</div><div class="inner_cell">
<div class="text_cell_render border-box-sizing rendered_html">
<p>Petit rappel sur cette fonction <strong>xor</strong> :</p>

</div>
</div>
</div>
<div class="cell border-box-sizing code_cell rendered">
<div class="input">
<div class="prompt input_prompt">In&nbsp;[10]:</div>
<div class="inner_cell">
    <div class="input_area">
<div class=" highlight hl-ipython3"><pre><span></span><span class="kn">from</span> <span class="nn">itertools</span> <span class="k">import</span> <span class="n">product</span>

<span class="k">for</span> <span class="n">b1</span><span class="p">,</span> <span class="n">b2</span> <span class="ow">in</span> <span class="n">product</span><span class="p">([</span><span class="kc">False</span><span class="p">,</span> <span class="kc">True</span><span class="p">],</span> <span class="n">repeat</span><span class="o">=</span><span class="mi">2</span><span class="p">):</span>
    <span class="nb">print</span><span class="p">(</span><span class="s2">&quot;</span><span class="si">{!s:&gt;5}</span><span class="s2"> XOR </span><span class="si">{!s:&gt;5}</span><span class="s2"> = </span><span class="si">{!s:&gt;5}</span><span class="s2"> ^ </span><span class="si">{!s:&gt;5}</span><span class="s2"> = </span><span class="si">{!s:&gt;5}</span><span class="s2">&quot;</span><span class="o">.</span><span class="n">format</span><span class="p">(</span><span class="n">b1</span><span class="p">,</span> <span class="n">b2</span><span class="p">,</span> <span class="n">b1</span><span class="p">,</span> <span class="n">b2</span><span class="p">,</span> <span class="n">b1</span> <span class="o">^</span> <span class="n">b2</span><span class="p">))</span>
<span class="c1"># Ce morceau de code est un peu fancy mais concis et joli, cf. https://pyformat.info/#string_pad_align</span>
</pre></div>

    </div>
</div>
</div>

<div class="output_wrapper">
<div class="output">


<div class="output_area">

    <div class="prompt"></div>


<div class="output_subarea output_stream output_stdout output_text">
<pre>False XOR False = False ^ False = False
False XOR  True = False ^  True =  True
 True XOR False =  True ^ False =  True
 True XOR  True =  True ^  True = False
</pre>
</div>
</div>

</div>
</div>

</div>
<div class="cell border-box-sizing text_cell rendered"><div class="prompt input_prompt">
</div><div class="inner_cell">
<div class="text_cell_render border-box-sizing rendered_html">
<table>
<thead><tr>
<th>Entrée</th>
<th style="text-align:center"></th>
<th>Entrée</th>
<th style="text-align:right">Sortie</th>
</tr>
</thead>
<tbody>
<tr>
<td>False</td>
<td style="text-align:center">$\oplus$</td>
<td>False</td>
<td style="text-align:right">= False</td>
</tr>
<tr>
<td>False</td>
<td style="text-align:center">$\oplus$</td>
<td>True</td>
<td style="text-align:right">= True</td>
</tr>
<tr>
<td>True</td>
<td style="text-align:center">$\oplus$</td>
<td>False</td>
<td style="text-align:right">= True</td>
</tr>
<tr>
<td>True</td>
<td style="text-align:center">$\oplus$</td>
<td>True</td>
<td style="text-align:right">= False</td>
</tr>
</tbody>
</table>

</div>
</div>
</div>
<div class="cell border-box-sizing text_cell rendered"><div class="prompt input_prompt">
</div><div class="inner_cell">
<div class="text_cell_render border-box-sizing rendered_html">
<ul>
<li>Ensuite, d'autres valeurs, juste pour tester :</li>
</ul>

</div>
</div>
</div>
<div class="cell border-box-sizing code_cell rendered">
<div class="input">
<div class="prompt input_prompt">In&nbsp;[12]:</div>
<div class="inner_cell">
    <div class="input_area">
<div class=" highlight hl-ipython3"><pre><span></span><span class="mi">3</span>  <span class="o">^</span> <span class="mi">5</span>  <span class="c1"># 3  xor 5  =  0b011  xor 0b101  = 0b111  = 6</span>
</pre></div>

    </div>
</div>
</div>

<div class="output_wrapper">
<div class="output">


<div class="output_area">

    <div class="prompt output_prompt">Out[12]:</div>




<div class="output_text output_subarea output_execute_result">
<pre>6</pre>
</div>

</div>

</div>
</div>

</div>
<div class="cell border-box-sizing code_cell rendered">
<div class="input">
<div class="prompt input_prompt">In&nbsp;[13]:</div>
<div class="inner_cell">
    <div class="input_area">
<div class=" highlight hl-ipython3"><pre><span></span><span class="mi">5</span>  <span class="o">^</span> <span class="mi">9</span>  <span class="c1"># 5  xor 9  =  0b0101 xor 0b1001 = 0b1100 = 12</span>
</pre></div>

    </div>
</div>
</div>

<div class="output_wrapper">
<div class="output">


<div class="output_area">

    <div class="prompt output_prompt">Out[13]:</div>




<div class="output_text output_subarea output_execute_result">
<pre>12</pre>
</div>

</div>

</div>
</div>

</div>
<div class="cell border-box-sizing code_cell rendered">
<div class="input">
<div class="prompt input_prompt">In&nbsp;[14]:</div>
<div class="inner_cell">
    <div class="input_area">
<div class=" highlight hl-ipython3"><pre><span></span><span class="mi">12</span> <span class="o">^</span> <span class="mi">1</span>  <span class="c1"># 12 xor 1  =  0b1100 xor 0b0001 = 0b1101 = 13</span>
</pre></div>

    </div>
</div>
</div>

<div class="output_wrapper">
<div class="output">


<div class="output_area">

    <div class="prompt output_prompt">Out[14]:</div>




<div class="output_text output_subarea output_execute_result">
<pre>13</pre>
</div>

</div>

</div>
</div>

</div>
<div class="cell border-box-sizing code_cell rendered">
<div class="input">
<div class="prompt input_prompt">In&nbsp;[15]:</div>
<div class="inner_cell">
    <div class="input_area">
<div class=" highlight hl-ipython3"><pre><span></span><span class="mi">12</span> <span class="o">^</span> <span class="mi">2</span>  <span class="c1"># 12 xor 2  =  0b1100 xor 0b0010 = 0b1110 = 14</span>
</pre></div>

    </div>
</div>
</div>

<div class="output_wrapper">
<div class="output">


<div class="output_area">

    <div class="prompt output_prompt">Out[15]:</div>




<div class="output_text output_subarea output_execute_result">
<pre>14</pre>
</div>

</div>

</div>
</div>

</div>
<div class="cell border-box-sizing text_cell rendered"><div class="prompt input_prompt">
</div><div class="inner_cell">
<div class="text_cell_render border-box-sizing rendered_html">
<hr>
<p>D'apres le corollaire 1., il suffit d'appliquer un <strong>xor</strong> à chaque valeur du tableau pour calculer $\gamma$.</p>
<p>On peut faire ça simplement avec une boucle :</p>

</div>
</div>
</div>
<div class="cell border-box-sizing code_cell rendered">
<div class="input">
<div class="prompt input_prompt">In&nbsp;[24]:</div>
<div class="inner_cell">
    <div class="input_area">
<div class=" highlight hl-ipython3"><pre><span></span><span class="k">def</span> <span class="nf">gamma</span><span class="p">(</span><span class="n">configuration</span><span class="p">):</span>
    <span class="sd">&quot;&quot;&quot; Fonction gamma de Sprague-Grundy pour le jeu de Nim. &quot;&quot;&quot;</span>
    <span class="n">resultat</span> <span class="o">=</span> <span class="mi">0</span>
    <span class="k">for</span> <span class="n">nb</span> <span class="ow">in</span> <span class="n">configuration</span><span class="p">:</span>
        <span class="n">resultat</span> <span class="o">=</span> <span class="p">(</span><span class="n">resultat</span> <span class="o">^</span> <span class="n">nb</span><span class="p">)</span>
    <span class="k">return</span> <span class="n">resultat</span>
</pre></div>

    </div>
</div>
</div>

</div>
<div class="cell border-box-sizing code_cell rendered">
<div class="input">
<div class="prompt input_prompt">In&nbsp;[25]:</div>
<div class="inner_cell">
    <div class="input_area">
<div class=" highlight hl-ipython3"><pre><span></span><span class="nb">print</span><span class="p">(</span><span class="s2">&quot;Gamma(a) =&quot;</span><span class="p">,</span> <span class="n">gamma</span><span class="p">(</span><span class="n">a</span><span class="p">))</span>
<span class="nb">print</span><span class="p">(</span><span class="s2">&quot;Gamma(b) =&quot;</span><span class="p">,</span> <span class="n">gamma</span><span class="p">(</span><span class="n">b</span><span class="p">))</span>
</pre></div>

    </div>
</div>
</div>

<div class="output_wrapper">
<div class="output">


<div class="output_area">

    <div class="prompt"></div>


<div class="output_subarea output_stream output_stdout output_text">
<pre>Gamma(a) = 7
Gamma(b) = 0
</pre>
</div>
</div>

</div>
</div>

</div>
<div class="cell border-box-sizing text_cell rendered"><div class="prompt input_prompt">
</div><div class="inner_cell">
<div class="text_cell_render border-box-sizing rendered_html">
<p>On peut aussi obtenir pareil avec la fonction <code>functools.reduce</code>, qui fait comme <code>Array.fold_left</code> en OCaml.</p>

</div>
</div>
</div>
<div class="cell border-box-sizing code_cell rendered">
<div class="input">
<div class="prompt input_prompt">In&nbsp;[28]:</div>
<div class="inner_cell">
    <div class="input_area">
<div class=" highlight hl-ipython3"><pre><span></span><span class="kn">from</span> <span class="nn">functools</span> <span class="k">import</span> <span class="n">reduce</span>  <span class="c1"># Comme Array.fold_left ou List.fold_left en OCaml</span>
<span class="kn">from</span> <span class="nn">operator</span>  <span class="k">import</span> <span class="n">xor</span>     <span class="c1"># Version préfixe de l&#39;opérateur ^ infixe</span>

<span class="k">def</span> <span class="nf">gamma</span><span class="p">(</span><span class="n">configuration</span><span class="p">):</span>
    <span class="sd">&quot;&quot;&quot; Fonction gamma de Sprague-Grundy pour le jeu de Nim. &quot;&quot;&quot;</span>
    <span class="k">return</span> <span class="n">reduce</span><span class="p">(</span><span class="n">xor</span><span class="p">,</span> <span class="n">configuration</span><span class="p">)</span>
</pre></div>

    </div>
</div>
</div>

</div>
<div class="cell border-box-sizing code_cell rendered">
<div class="input">
<div class="prompt input_prompt">In&nbsp;[27]:</div>
<div class="inner_cell">
    <div class="input_area">
<div class=" highlight hl-ipython3"><pre><span></span><span class="nb">print</span><span class="p">(</span><span class="s2">&quot;Gamma(a) =&quot;</span><span class="p">,</span> <span class="n">gamma</span><span class="p">(</span><span class="n">a</span><span class="p">))</span>
<span class="nb">print</span><span class="p">(</span><span class="s2">&quot;Gamma(b) =&quot;</span><span class="p">,</span> <span class="n">gamma</span><span class="p">(</span><span class="n">b</span><span class="p">))</span>
</pre></div>

    </div>
</div>
</div>

<div class="output_wrapper">
<div class="output">


<div class="output_area">

    <div class="prompt"></div>


<div class="output_subarea output_stream output_stdout output_text">
<pre>Gamma(a) = 7
Gamma(b) = 0
</pre>
</div>
</div>

</div>
</div>

</div>
<div class="cell border-box-sizing text_cell rendered"><div class="prompt input_prompt">
</div><div class="inner_cell">
<div class="text_cell_render border-box-sizing rendered_html">
<h3 id="1.4.3-D&#233;terminer-un-coup-&#224;-jouer-selon-une-strat&#233;gie-gagnante-(s'il-y-en-a-une)">1.4.3 D&#233;terminer un coup &#224; jouer selon une strat&#233;gie gagnante (s'il y en a une)<a class="anchor-link" href="#1.4.3-D&#233;terminer-un-coup-&#224;-jouer-selon-une-strat&#233;gie-gagnante-(s'il-y-en-a-une)">&#182;</a></h3>
</div>
</div>
</div>
<div class="cell border-box-sizing text_cell rendered"><div class="prompt input_prompt">
</div><div class="inner_cell">
<div class="text_cell_render border-box-sizing rendered_html">
<p>On suit l'algorithme proposé par le texte, qui utilise la fonction $\gamma$ sur la configuration pour savoir s'il y a une stratégie ou non (d'après la proposition 5.), et ensuite si elle existe on doit trouver un coup qui ammene $\gamma$ à 0.</p>
<p>On a d'abord besoin d'une exception pour signaler s'il n'y a pas de stratégie gagnante, et du calcul du nombre minimal d'allumette à enlever.</p>

</div>
</div>
</div>
<div class="cell border-box-sizing code_cell rendered">
<div class="input">
<div class="prompt input_prompt">In&nbsp;[33]:</div>
<div class="inner_cell">
    <div class="input_area">
<div class=" highlight hl-ipython3"><pre><span></span><span class="k">class</span> <span class="nc">PasDeStratGagnante</span><span class="p">(</span><span class="ne">Exception</span><span class="p">):</span>
    <span class="sd">&quot;&quot;&quot; Exception renvoyée s&#39;il n&#39;y a pas de stratégie gagnante. &quot;&quot;&quot;</span>
    <span class="k">pass</span>
</pre></div>

    </div>
</div>
</div>

</div>
<div class="cell border-box-sizing text_cell rendered"><div class="prompt input_prompt">
</div><div class="inner_cell">
<div class="text_cell_render border-box-sizing rendered_html">
<h4 id="1.4.3.1-Strat&#233;gie-optimale">1.4.3.1 Strat&#233;gie optimale<a class="anchor-link" href="#1.4.3.1-Strat&#233;gie-optimale">&#182;</a></h4><p>L'algorithme va être assez naïf, depuis une configuration actuelle $c$ :</p>
<ul>
<li>si $\gamma(c)$ est $0$, on échoue (<code>PasDeStratGagnante</code>),</li>
<li>sinon, on explore toutes les configurations $c'$ atteignables en un coup depuis $c$, et on choisis la première qui amène à $\gamma(c') = 0$.</li>
</ul>

</div>
</div>
</div>
<div class="cell border-box-sizing code_cell rendered">
<div class="input">
<div class="prompt input_prompt">In&nbsp;[34]:</div>
<div class="inner_cell">
    <div class="input_area">
<div class=" highlight hl-ipython3"><pre><span></span><span class="k">def</span> <span class="nf">optimal</span><span class="p">(</span><span class="n">configuration</span><span class="p">,</span> <span class="n">joueur</span><span class="o">=</span><span class="mi">0</span><span class="p">):</span>
    <span class="sd">&quot;&quot;&quot; Essaie de trouver un coup à jouer pour le joueur 0 ou 1, et renvoit la configuration modifiée.&quot;&quot;&quot;</span>
    <span class="n">g</span> <span class="o">=</span> <span class="n">gamma</span><span class="p">(</span><span class="n">configuration</span><span class="p">)</span>
    <span class="k">if</span> <span class="n">g</span> <span class="o">==</span> <span class="mi">0</span><span class="p">:</span>
        <span class="nb">print</span><span class="p">(</span><span class="s2">&quot;Il n&#39;y a pas de stratégie gagnante !&quot;</span><span class="p">)</span>
        <span class="k">raise</span> <span class="n">PasDeStratGagnante</span>  <span class="c1"># On quitte</span>
    <span class="nb">print</span><span class="p">(</span><span class="s2">&quot;Il y a une stratégie gagnante... Trouvons la !&quot;</span><span class="p">)</span>
    <span class="c1"># On chercher le coup à jouer : il suffit d&#39;explorer tous les coups possibles</span>
    <span class="n">colonne</span> <span class="o">=</span> <span class="mi">0</span>
    <span class="n">nb</span> <span class="o">=</span> <span class="mi">1</span>
    <span class="n">nouvelle_configuration</span> <span class="o">=</span> <span class="n">configuration</span><span class="p">[:]</span>
    <span class="k">for</span> <span class="n">j</span> <span class="ow">in</span> <span class="nb">range</span><span class="p">(</span><span class="nb">len</span><span class="p">(</span><span class="n">configuration</span><span class="p">)):</span>
        <span class="k">for</span> <span class="n">i</span> <span class="ow">in</span> <span class="nb">range</span><span class="p">(</span><span class="mi">1</span><span class="p">,</span> <span class="n">configuration</span><span class="p">[</span><span class="n">j</span><span class="p">]):</span>
            <span class="n">nouvelle_configuration</span><span class="p">[</span><span class="n">j</span><span class="p">]</span> <span class="o">-=</span> <span class="n">i</span>  <span class="c1"># On tente de jouer ce coup</span>
            <span class="k">if</span> <span class="n">gamma</span><span class="p">(</span><span class="n">nouvelle_configuration</span><span class="p">)</span> <span class="o">==</span> <span class="mi">0</span><span class="p">:</span>
                <span class="n">colonne</span><span class="p">,</span> <span class="n">nb</span> <span class="o">=</span> <span class="n">j</span><span class="p">,</span> <span class="n">i</span>  <span class="c1"># On stocke j, i</span>
            <span class="n">nouvelle_configuration</span> <span class="o">=</span> <span class="n">configuration</span><span class="p">[:]</span>  <span class="c1"># On l&#39;annule</span>
    <span class="c1"># On devrait avoir trouver un coup qui amène gamma(nouvelle_configuration) = 0</span>
    <span class="c1"># On applique ce coup</span>
    <span class="nb">print</span><span class="p">(</span><span class="s2">&quot;Le joueur courant&quot;</span><span class="p">,</span> <span class="n">joueur</span><span class="p">,</span> <span class="s2">&quot;a choisi de retirer&quot;</span><span class="p">,</span> <span class="n">nb</span><span class="p">,</span> <span class="s2">&quot;allumettes à la rangée numéro&quot;</span><span class="p">,</span> <span class="n">colonne</span><span class="p">)</span>
    <span class="n">nouvelle_configuration</span> <span class="o">=</span> <span class="n">configuration</span><span class="p">[:]</span>
    <span class="n">nouvelle_configuration</span><span class="p">[</span><span class="n">colonne</span><span class="p">]</span> <span class="o">-=</span> <span class="n">nb</span>
    <span class="k">if</span> <span class="n">gamma</span><span class="p">(</span><span class="n">nouvelle_configuration</span><span class="p">)</span> <span class="o">!=</span> <span class="mi">0</span><span class="p">:</span>
        <span class="nb">print</span><span class="p">(</span><span class="s2">&quot;  Attention, apparemment on a été contraint de choisir un coup qui n&#39;est pas gagnant (n&#39;amène pas à gamma(c&#39;) = 0).&quot;</span><span class="p">)</span>
    <span class="k">return</span> <span class="n">nouvelle_configuration</span>
</pre></div>

    </div>
</div>
</div>

</div>
<div class="cell border-box-sizing text_cell rendered"><div class="prompt input_prompt">
</div><div class="inner_cell">
<div class="text_cell_render border-box-sizing rendered_html">
<p>On peut tester cette fonction sur nos deux configuration a et b :</p>

</div>
</div>
</div>
<div class="cell border-box-sizing code_cell rendered">
<div class="input">
<div class="prompt input_prompt">In&nbsp;[35]:</div>
<div class="inner_cell">
    <div class="input_area">
<div class=" highlight hl-ipython3"><pre><span></span><span class="n">print_nim</span><span class="p">(</span><span class="n">a</span><span class="p">)</span>
<span class="n">print_nim</span><span class="p">(</span><span class="n">optimal</span><span class="p">(</span><span class="n">a</span><span class="p">,</span> <span class="n">joueur</span><span class="o">=</span><span class="mi">0</span><span class="p">))</span>  <span class="c1"># Ça joue</span>
</pre></div>

    </div>
</div>
</div>

<div class="output_wrapper">
<div class="output">


<div class="output_area">

    <div class="prompt"></div>


<div class="output_subarea output_stream output_stdout output_text">
<pre>0 : ! 
1 : ! ! ! 
2 : ! ! ! ! ! 
Il y a une stratégie gagnante... Trouvons la !
Le joueur courant 0 a choisi de retirer 3 allumettes à la rangée numéro 2
0 : ! 
1 : ! ! ! 
2 : ! ! 
</pre>
</div>
</div>

</div>
</div>

</div>
<div class="cell border-box-sizing code_cell rendered">
<div class="input">
<div class="prompt input_prompt">In&nbsp;[36]:</div>
<div class="inner_cell">
    <div class="input_area">
<div class=" highlight hl-ipython3"><pre><span></span><span class="n">print_nim</span><span class="p">(</span><span class="n">b</span><span class="p">)</span>
<span class="n">print_nim</span><span class="p">(</span><span class="n">optimal</span><span class="p">(</span><span class="n">b</span><span class="p">,</span> <span class="n">joueur</span><span class="o">=</span><span class="mi">0</span><span class="p">))</span>  <span class="c1"># Pas de stratégie gagnante ici !</span>
</pre></div>

    </div>
</div>
</div>

<div class="output_wrapper">
<div class="output">


<div class="output_area">

    <div class="prompt"></div>


<div class="output_subarea output_stream output_stdout output_text">
<pre>0 : ! 
1 : ! ! ! 
2 : ! ! 
Il n&#39;y a pas de stratégie gagnante !
</pre>
</div>
</div>

<div class="output_area">

    <div class="prompt"></div>


<div class="output_subarea output_text output_error">
<pre><span class="ansi-red-fg">---------------------------------------------------------------------------</span>
<span class="ansi-red-fg">PasDeStratGagnante</span>                        Traceback (most recent call last)
<span class="ansi-green-fg">&lt;ipython-input-36-47da47747e0e&gt;</span> in <span class="ansi-cyan-fg">&lt;module&gt;</span><span class="ansi-blue-fg">()</span>
<span class="ansi-green-intense-fg ansi-bold">      1</span> print_nim<span class="ansi-blue-fg">(</span>b<span class="ansi-blue-fg">)</span>
<span class="ansi-green-fg">----&gt; 2</span><span class="ansi-red-fg"> </span>print_nim<span class="ansi-blue-fg">(</span>optimal<span class="ansi-blue-fg">(</span>b<span class="ansi-blue-fg">,</span> joueur<span class="ansi-blue-fg">=</span><span class="ansi-cyan-fg">0</span><span class="ansi-blue-fg">)</span><span class="ansi-blue-fg">)</span>  <span class="ansi-red-fg"># Pas de stratégie gagnante ici !</span>

<span class="ansi-green-fg">&lt;ipython-input-34-28fd46156ecb&gt;</span> in <span class="ansi-cyan-fg">optimal</span><span class="ansi-blue-fg">(configuration, joueur)</span>
<span class="ansi-green-intense-fg ansi-bold">      4</span>     <span class="ansi-green-fg">if</span> g <span class="ansi-blue-fg">==</span> <span class="ansi-cyan-fg">0</span><span class="ansi-blue-fg">:</span>
<span class="ansi-green-intense-fg ansi-bold">      5</span>         print<span class="ansi-blue-fg">(</span><span class="ansi-blue-fg">&#34;Il n&#39;y a pas de stratégie gagnante !&#34;</span><span class="ansi-blue-fg">)</span>
<span class="ansi-green-fg">----&gt; 6</span><span class="ansi-red-fg">         </span><span class="ansi-green-fg">raise</span> PasDeStratGagnante  <span class="ansi-red-fg"># On quitte</span>
<span class="ansi-green-intense-fg ansi-bold">      7</span>     print<span class="ansi-blue-fg">(</span><span class="ansi-blue-fg">&#34;Il y a une stratégie gagnante... Trouvons la !&#34;</span><span class="ansi-blue-fg">)</span>
<span class="ansi-green-intense-fg ansi-bold">      8</span>     <span class="ansi-red-fg"># On chercher le coup à jouer : il suffit d&#39;explorer tous les coups possibles</span>

<span class="ansi-red-fg">PasDeStratGagnante</span>: </pre>
</div>
</div>

</div>
</div>

</div>
<div class="cell border-box-sizing text_cell rendered"><div class="prompt input_prompt">
</div><div class="inner_cell">
<div class="text_cell_render border-box-sizing rendered_html">
<h3 id="1.4.4-Strat&#233;gie-stupide">1.4.4 Strat&#233;gie stupide<a class="anchor-link" href="#1.4.4-Strat&#233;gie-stupide">&#182;</a></h3>
</div>
</div>
</div>
<div class="cell border-box-sizing text_cell rendered"><div class="prompt input_prompt">
</div><div class="inner_cell">
<div class="text_cell_render border-box-sizing rendered_html">
<p>Dans le but de comparer cette fonction qui implémente une stratégie optimale, on implémente aussi une stratégie complétement aléatoire ("Dummy player").</p>
<p>La stratégie aléatoire fonctionne en trois étapes :</p>
<ol>
<li>trouve les rangées qui ont encore des allumettes (en calculant leurs indices, via une construction de tableau par compréhension, dans le tableau <code>lignes_non_vides</code>),</li>
<li>choisi une rangée aléatoirement <code>i</code> (uniformément) avec <code>random.choice()</code>,</li>
<li>enlève un nombre aléatoire (uniforme) d'allumette entre <code>1</code> et <code>xi</code>, pour <code>xi</code> le nombre d'allumette dans la rangée <code>i</code> (i.e., <code>xi = config.(i)</code>).</li>
</ol>

</div>
</div>
</div>
<div class="cell border-box-sizing code_cell rendered">
<div class="input">
<div class="prompt input_prompt">In&nbsp;[37]:</div>
<div class="inner_cell">
    <div class="input_area">
<div class=" highlight hl-ipython3"><pre><span></span><span class="k">def</span> <span class="nf">stupide</span><span class="p">(</span><span class="n">configuration</span><span class="p">,</span> <span class="n">joueur</span><span class="o">=</span><span class="mi">0</span><span class="p">):</span>
    <span class="sd">&quot;&quot;&quot; Choisit un coup aléatoire (uniforme) pour le joueur 0 ou 1, et renvoit la configuration modifiée.&quot;&quot;&quot;</span>
    <span class="c1"># On choisit le coup à jouer : ligne random, nb d&#39;allumette(s) random...</span>
    <span class="n">lignes_non_vides</span> <span class="o">=</span> <span class="p">[</span><span class="n">i</span> <span class="k">for</span> <span class="n">i</span><span class="p">,</span> <span class="n">c</span> <span class="ow">in</span> <span class="nb">enumerate</span><span class="p">(</span><span class="n">configuration</span><span class="p">)</span> <span class="k">if</span> <span class="n">c</span> <span class="o">&gt;</span> <span class="mi">0</span><span class="p">]</span>
    <span class="n">position_random</span> <span class="o">=</span> <span class="n">random</span><span class="o">.</span><span class="n">choice</span><span class="p">(</span><span class="n">lignes_non_vides</span><span class="p">)</span>
    <span class="nb">print</span><span class="p">(</span><span class="s2">&quot;Le joueur&quot;</span><span class="p">,</span> <span class="n">joueur</span><span class="p">,</span> <span class="s2">&quot;aléatoire uniforme a choisi de regarder la ligne&quot;</span><span class="p">,</span> <span class="n">position_random</span><span class="p">)</span>
    <span class="n">total</span> <span class="o">=</span> <span class="n">configuration</span><span class="p">[</span><span class="n">position_random</span><span class="p">]</span>
    <span class="n">a_enlever</span> <span class="o">=</span> <span class="n">random</span><span class="o">.</span><span class="n">randint</span><span class="p">(</span><span class="mi">1</span><span class="p">,</span> <span class="mi">1</span> <span class="o">+</span> <span class="n">total</span><span class="p">)</span>
    <span class="nb">print</span><span class="p">(</span><span class="s2">&quot;Le joueur&quot;</span><span class="p">,</span> <span class="n">joueur</span><span class="p">,</span> <span class="s2">&quot;aléatoire uniforme a choisi de retirer&quot;</span><span class="p">,</span> <span class="n">a_enlever</span><span class="p">,</span> <span class="s2">&quot;allumettes parmi les&quot;</span><span class="p">,</span> <span class="n">total</span><span class="p">,</span> <span class="s2">&quot;disponibles&quot;</span><span class="p">)</span>
    <span class="c1"># On applique ce coup</span>
    <span class="n">nouvelle_configuration</span> <span class="o">=</span> <span class="n">configuration</span><span class="p">[:]</span>
    <span class="n">nouvelle_configuration</span><span class="p">[</span><span class="n">position_random</span><span class="p">]</span> <span class="o">-=</span> <span class="n">a_enlever</span>
    <span class="k">return</span> <span class="n">nouvelle_configuration</span>
</pre></div>

    </div>
</div>
</div>

</div>
<div class="cell border-box-sizing text_cell rendered"><div class="prompt input_prompt">
</div><div class="inner_cell">
<div class="text_cell_render border-box-sizing rendered_html">
<p>On peut ainsi faire un exemple de début de partie entre deux joueurs "stupides" :</p>

</div>
</div>
</div>
<div class="cell border-box-sizing code_cell rendered">
<div class="input">
<div class="prompt input_prompt">In&nbsp;[39]:</div>
<div class="inner_cell">
    <div class="input_area">
<div class=" highlight hl-ipython3"><pre><span></span><span class="n">random</span><span class="o">.</span><span class="n">seed</span><span class="p">(</span><span class="mi">0</span><span class="p">)</span>  <span class="c1"># Assure la reproductibilité des résultats.</span>
<span class="n">a0</span> <span class="o">=</span> <span class="n">a</span>  <span class="c1"># Debut du jeu</span>
<span class="n">print_nim</span><span class="p">(</span><span class="n">a0</span><span class="p">)</span>
<span class="n">a1</span> <span class="o">=</span> <span class="n">stupide</span><span class="p">(</span><span class="n">a0</span><span class="p">,</span> <span class="n">joueur</span><span class="o">=</span><span class="mi">0</span><span class="p">)</span>
<span class="n">print_nim</span><span class="p">(</span><span class="n">a1</span><span class="p">)</span>
<span class="n">a2</span> <span class="o">=</span> <span class="n">stupide</span><span class="p">(</span><span class="n">a1</span><span class="p">,</span> <span class="n">joueur</span><span class="o">=</span><span class="mi">1</span><span class="p">)</span>
<span class="n">print_nim</span><span class="p">(</span><span class="n">a2</span><span class="p">)</span>
<span class="n">a3</span> <span class="o">=</span> <span class="n">stupide</span><span class="p">(</span><span class="n">a2</span><span class="p">,</span> <span class="n">joueur</span><span class="o">=</span><span class="mi">0</span><span class="p">)</span>
<span class="n">print_nim</span><span class="p">(</span><span class="n">a3</span><span class="p">)</span>
<span class="c1"># ... etc</span>
</pre></div>

    </div>
</div>
</div>

<div class="output_wrapper">
<div class="output">


<div class="output_area">

    <div class="prompt"></div>


<div class="output_subarea output_stream output_stdout output_text">
<pre>0 : ! 
1 : ! ! ! 
2 : ! ! ! ! ! 
Le joueur 0 aléatoire uniforme a choisi de regarder la ligne 1
Le joueur 0 aléatoire uniforme a choisi de retirer 4 allumettes parmi les 3 disponibles
0 : ! 
1 : 
2 : ! ! ! ! ! 
Le joueur 1 aléatoire uniforme a choisi de regarder la ligne 0
Le joueur 1 aléatoire uniforme a choisi de retirer 2 allumettes parmi les 1 disponibles
0 : 
1 : 
2 : ! ! ! ! ! 
Le joueur 0 aléatoire uniforme a choisi de regarder la ligne 2
Le joueur 0 aléatoire uniforme a choisi de retirer 4 allumettes parmi les 5 disponibles
0 : 
1 : 
2 : ! 
</pre>
</div>
</div>

</div>
</div>

</div>
<div class="cell border-box-sizing text_cell rendered"><div class="prompt input_prompt">
</div><div class="inner_cell">
<div class="text_cell_render border-box-sizing rendered_html">
<p>On peut aussi faire le même exemple de début de partie entre un joueur "optimal" et un joueur "stupide" :</p>

</div>
</div>
</div>
<div class="cell border-box-sizing code_cell rendered">
<div class="input">
<div class="prompt input_prompt">In&nbsp;[40]:</div>
<div class="inner_cell">
    <div class="input_area">
<div class=" highlight hl-ipython3"><pre><span></span><span class="n">random</span><span class="o">.</span><span class="n">seed</span><span class="p">(</span><span class="mi">0</span><span class="p">)</span>  <span class="c1"># Assure la reproductibilité des résultats.</span>
<span class="n">a0</span> <span class="o">=</span> <span class="n">a</span>  <span class="c1"># Debut du jeu</span>
<span class="n">print_nim</span><span class="p">(</span><span class="n">a0</span><span class="p">)</span>
<span class="n">a1</span> <span class="o">=</span> <span class="n">optimal</span><span class="p">(</span><span class="n">a0</span><span class="p">,</span> <span class="n">joueur</span><span class="o">=</span><span class="mi">0</span><span class="p">)</span>
<span class="n">print_nim</span><span class="p">(</span><span class="n">a1</span><span class="p">)</span>
<span class="n">a2</span> <span class="o">=</span> <span class="n">stupide</span><span class="p">(</span><span class="n">a1</span><span class="p">,</span> <span class="n">joueur</span><span class="o">=</span><span class="mi">1</span><span class="p">)</span>
<span class="n">print_nim</span><span class="p">(</span><span class="n">a2</span><span class="p">)</span>
<span class="c1"># ... etc</span>
</pre></div>

    </div>
</div>
</div>

<div class="output_wrapper">
<div class="output">


<div class="output_area">

    <div class="prompt"></div>


<div class="output_subarea output_stream output_stdout output_text">
<pre>0 : ! 
1 : ! ! ! 
2 : ! ! ! ! ! 
Il y a une stratégie gagnante... Trouvons la !
Le joueur courant 0 a choisi de retirer 3 allumettes à la rangée numéro 2
0 : ! 
1 : ! ! ! 
2 : ! ! 
Le joueur 1 aléatoire uniforme a choisi de regarder la ligne 1
Le joueur 1 aléatoire uniforme a choisi de retirer 4 allumettes parmi les 3 disponibles
0 : ! 
1 : 
2 : ! ! 
</pre>
</div>
</div>

</div>
</div>

</div>
<div class="cell border-box-sizing text_cell rendered"><div class="prompt input_prompt">
</div><div class="inner_cell">
<div class="text_cell_render border-box-sizing rendered_html">
<h3 id="1.4.5-Un-bonus-:-simulation-du-jeu">1.4.5 Un bonus : <em>simulation du jeu</em><a class="anchor-link" href="#1.4.5-Un-bonus-:-simulation-du-jeu">&#182;</a></h3>
</div>
</div>
</div>
<div class="cell border-box-sizing text_cell rendered"><div class="prompt input_prompt">
</div><div class="inner_cell">
<div class="text_cell_render border-box-sizing rendered_html">
<p>Maintenant qu'on dispose d'un joueur stupide et d'un joueur optimal, on peut rapidement coder une petite fonction qui les fera s'affronter (même si c'est un peu cruel envers le pauvre joueur "stupide" purement aléatoire !).</p>

</div>
</div>
</div>
<div class="cell border-box-sizing code_cell rendered">
<div class="input">
<div class="prompt input_prompt">In&nbsp;[41]:</div>
<div class="inner_cell">
    <div class="input_area">
<div class=" highlight hl-ipython3"><pre><span></span><span class="k">class</span> <span class="nc">Perdu</span><span class="p">(</span><span class="ne">Exception</span><span class="p">):</span>
    <span class="sd">&quot;&quot;&quot; Représente le joueur numero i qui a perdu.&quot;&quot;&quot;</span>
    <span class="k">def</span> <span class="nf">__init__</span><span class="p">(</span><span class="bp">self</span><span class="p">,</span> <span class="n">numero</span><span class="p">):</span>
        <span class="bp">self</span><span class="o">.</span><span class="n">numero</span> <span class="o">=</span> <span class="n">numero</span>

    <span class="k">def</span> <span class="nf">__str__</span><span class="p">(</span><span class="bp">self</span><span class="p">):</span>
        <span class="k">return</span> <span class="s2">&quot;Le joueur </span><span class="si">{}</span><span class="s2"> a perdu !&quot;</span><span class="o">.</span><span class="n">format</span><span class="p">(</span><span class="bp">self</span><span class="o">.</span><span class="n">numero</span><span class="p">)</span>
</pre></div>

    </div>
</div>
</div>

</div>
<div class="cell border-box-sizing text_cell rendered"><div class="prompt input_prompt">
</div><div class="inner_cell">
<div class="text_cell_render border-box-sizing rendered_html">
<p>La fonction <code>simule</code> va jouer la partie, en partant de la configuration donnée, en commençant par le joueur <code>numero</code> et pour un certain nombre de coups joués (<code>nb_coups</code>).
Si on ne donne pas ce nombre de coups, le nombre total d'allumette est utilisé (sachant qu'une partie se termine souvent par une exception <code>PasDeStratGagnante</code> lorsque le joueur optimal ne peut plus gagner).</p>

</div>
</div>
</div>
<div class="cell border-box-sizing code_cell rendered">
<div class="input">
<div class="prompt input_prompt">In&nbsp;[49]:</div>
<div class="inner_cell">
    <div class="input_area">
<div class=" highlight hl-ipython3"><pre><span></span><span class="k">def</span> <span class="nf">simule</span><span class="p">(</span><span class="n">configuration</span><span class="p">,</span> <span class="n">numero</span><span class="o">=</span><span class="mi">0</span><span class="p">,</span> <span class="n">nb_coups</span><span class="o">=</span><span class="kc">None</span><span class="p">):</span>
    <span class="sd">&quot;&quot;&quot; Simule le jeu de Nim, alternant un joeur malin et un joueur stupide. &quot;&quot;&quot;</span>
    <span class="n">config</span> <span class="o">=</span> <span class="n">configuration</span><span class="p">[:]</span>  <span class="c1"># On ne change pas la liste donnee en argument !</span>
    <span class="c1"># Si on n&#39;a pas donne le nb de coups max, on calcule une borne :</span>
    <span class="k">if</span> <span class="n">nb_coups</span> <span class="ow">is</span> <span class="kc">None</span><span class="p">:</span>
        <span class="n">nb_coups</span> <span class="o">=</span> <span class="nb">sum</span><span class="p">(</span><span class="n">configuration</span><span class="p">)</span>
    <span class="nb">print</span><span class="p">(</span><span class="s2">&quot;Début de la simulation pour maximum&quot;</span><span class="p">,</span> <span class="n">nb_coups</span><span class="p">,</span> <span class="s2">&quot;coups.&quot;</span><span class="p">)</span>
    <span class="c1"># On lance la simulation</span>
    <span class="k">for</span> <span class="n">coup</span> <span class="ow">in</span> <span class="nb">range</span><span class="p">(</span><span class="mi">1</span><span class="p">,</span> <span class="mi">1</span> <span class="o">+</span> <span class="n">nb_coups</span><span class="p">):</span>
        <span class="nb">print</span><span class="p">(</span><span class="s2">&quot;</span><span class="se">\n</span><span class="s2"># Tour numéro&quot;</span><span class="p">,</span> <span class="n">coup</span><span class="p">)</span>
        <span class="n">print_nim</span><span class="p">(</span><span class="n">config</span><span class="p">)</span>
        <span class="c1"># On perd si on ne peut plus enlever d&#39;allumettes</span>
        <span class="k">if</span> <span class="ow">not</span> <span class="n">config</span> <span class="ow">or</span> <span class="nb">sum</span><span class="p">(</span><span class="n">config</span><span class="p">)</span> <span class="o">==</span> <span class="mi">0</span><span class="p">:</span>
            <span class="k">raise</span> <span class="n">Perdu</span><span class="p">(</span><span class="n">numero</span><span class="p">)</span>
        <span class="k">else</span><span class="p">:</span>
            <span class="k">if</span> <span class="n">numero</span> <span class="o">==</span> <span class="mi">0</span><span class="p">:</span>  <span class="c1"># Joueur malin</span>
                <span class="n">config</span> <span class="o">=</span> <span class="n">optimal</span><span class="p">(</span><span class="n">config</span><span class="p">,</span> <span class="n">joueur</span><span class="o">=</span><span class="n">numero</span><span class="p">)</span>
            <span class="k">else</span><span class="p">:</span>  <span class="c1"># Joueur stupide</span>
                <span class="n">config</span> <span class="o">=</span> <span class="n">stupide</span><span class="p">(</span><span class="n">config</span><span class="p">,</span> <span class="n">joueur</span><span class="o">=</span><span class="n">numero</span><span class="p">)</span>
        <span class="c1"># Joueur suivant</span>
        <span class="n">numero</span> <span class="o">=</span> <span class="mi">1</span> <span class="o">-</span> <span class="n">numero</span>  <span class="c1"># 0 -&gt; 1, 1 -&gt; 0</span>
    <span class="c1"># A la fin, la configuration finale est renvoyée.</span>
    <span class="k">return</span> <span class="n">config</span>
</pre></div>

    </div>
</div>
</div>

</div>
<div class="cell border-box-sizing text_cell rendered"><div class="prompt input_prompt">
</div><div class="inner_cell">
<div class="text_cell_render border-box-sizing rendered_html">
<p>On peut finalement implementer une jolie fonction qui simule en partant du joueur <code>0</code> (comme le vrai jeu de Nim) et interprète l'exception renvoyée pour afficher l'issue du jeu :</p>

</div>
</div>
</div>
<div class="cell border-box-sizing code_cell rendered">
<div class="input">
<div class="prompt input_prompt">In&nbsp;[60]:</div>
<div class="inner_cell">
    <div class="input_area">
<div class=" highlight hl-ipython3"><pre><span></span><span class="k">def</span> <span class="nf">nim</span><span class="p">(</span><span class="n">configuration</span><span class="p">):</span>
    <span class="k">try</span><span class="p">:</span>
        <span class="n">simule</span><span class="p">(</span><span class="n">configuration</span><span class="p">)</span>
    <span class="k">except</span> <span class="n">PasDeStratGagnante</span><span class="p">:</span>
        <span class="nb">print</span><span class="p">(</span><span class="s2">&quot;==&gt; Blocage car le joueur 0 n&#39;a pas pu trouver de coup gagnant, il déclare forfait (le pleutre !).&quot;</span><span class="p">)</span>
    <span class="k">except</span> <span class="n">Perdu</span> <span class="k">as</span> <span class="n">e</span><span class="p">:</span>
        <span class="nb">print</span><span class="p">(</span><span class="s2">&quot;==&gt; Le joueur&quot;</span><span class="p">,</span> <span class="n">e</span><span class="o">.</span><span class="n">numero</span><span class="p">,</span> <span class="s2">&quot;a perdu.&quot;</span><span class="p">)</span>
</pre></div>

    </div>
</div>
</div>

</div>
<div class="cell border-box-sizing code_cell rendered">
<div class="input">
<div class="prompt input_prompt">In&nbsp;[62]:</div>
<div class="inner_cell">
    <div class="input_area">
<div class=" highlight hl-ipython3"><pre><span></span><span class="n">nim</span><span class="p">(</span><span class="n">a</span><span class="p">)</span>
</pre></div>

    </div>
</div>
</div>

<div class="output_wrapper">
<div class="output">


<div class="output_area">

    <div class="prompt"></div>


<div class="output_subarea output_stream output_stdout output_text">
<pre>Début de la simulation pour maximum 9 coups.

# Tour numéro 1
0 : ! 
1 : ! ! ! 
2 : ! ! ! ! ! 
Il y a une stratégie gagnante... Trouvons la !
Le joueur courant 0 a choisi de retirer 3 allumettes à la rangée numéro 2

# Tour numéro 2
0 : ! 
1 : ! ! ! 
2 : ! ! 
Le joueur 1 aléatoire uniforme a choisi de regarder la ligne 0
Le joueur 1 aléatoire uniforme a choisi de retirer 1 allumettes parmi les 1 disponibles

# Tour numéro 3
0 : 
1 : ! ! ! 
2 : ! ! 
Il y a une stratégie gagnante... Trouvons la !
Le joueur courant 0 a choisi de retirer 1 allumettes à la rangée numéro 1

# Tour numéro 4
0 : 
1 : ! ! 
2 : ! ! 
Le joueur 1 aléatoire uniforme a choisi de regarder la ligne 1
Le joueur 1 aléatoire uniforme a choisi de retirer 3 allumettes parmi les 2 disponibles

# Tour numéro 5
0 : 
1 : 
2 : ! ! 
Il y a une stratégie gagnante... Trouvons la !
Le joueur courant 0 a choisi de retirer 1 allumettes à la rangée numéro 0
  Attention, apparemment on a été contraint de choisir un coup qui n&#39;est pas gagnant (n&#39;amène pas à gamma(c&#39;) = 0).

# Tour numéro 6
0 : 
1 : 
2 : ! ! 
==&gt; Le joueur 1 a perdu.
</pre>
</div>
</div>

</div>
</div>

</div>
<div class="cell border-box-sizing code_cell rendered">
<div class="input">
<div class="prompt input_prompt">In&nbsp;[64]:</div>
<div class="inner_cell">
    <div class="input_area">
<div class=" highlight hl-ipython3"><pre><span></span><span class="n">nim</span><span class="p">(</span><span class="n">b</span><span class="p">)</span>
</pre></div>

    </div>
</div>
</div>

<div class="output_wrapper">
<div class="output">


<div class="output_area">

    <div class="prompt"></div>


<div class="output_subarea output_stream output_stdout output_text">
<pre>Début de la simulation pour maximum 6 coups.

# Tour numéro 1
0 : ! 
1 : ! ! ! 
2 : ! ! 
Il n&#39;y a pas de stratégie gagnante !
==&gt; Blocage car le joueur 0 n&#39;a pas pu trouver de coup gagnant, il déclare forfait (le pleutre !).
</pre>
</div>
</div>

</div>
</div>

</div>
<div class="cell border-box-sizing text_cell rendered"><div class="prompt input_prompt">
</div><div class="inner_cell">
<div class="text_cell_render border-box-sizing rendered_html">
<h3 id="1.4.6-Configuration-al&#233;atoire">1.4.6 Configuration al&#233;atoire<a class="anchor-link" href="#1.4.6-Configuration-al&#233;atoire">&#182;</a></h3>
</div>
</div>
</div>
<div class="cell border-box-sizing text_cell rendered"><div class="prompt input_prompt">
</div><div class="inner_cell">
<div class="text_cell_render border-box-sizing rendered_html">
<p>On peut écrire une fonction qui génére une configuration aléatoire, et ensuite lancer notre simulation <code>nim()</code> dessus, pour voir ce que ça donne sur une configuration plus grande.</p>
<p>La fonction <code>config_aleatoire(k, p)</code> va générer une configuration aléatoire :</p>
<ul>
<li>avec un nombre de lignes uniforme dans <code>{1, ..., k}</code>,</li>
<li>et un nombre d'allumettes uniforme dans <code>{1, ..., p}</code> pour chaque ligne.</li>
</ul>

</div>
</div>
</div>
<div class="cell border-box-sizing code_cell rendered">
<div class="input">
<div class="prompt input_prompt">In&nbsp;[74]:</div>
<div class="inner_cell">
    <div class="input_area">
<div class=" highlight hl-ipython3"><pre><span></span><span class="k">def</span> <span class="nf">config_aleatoire</span><span class="p">(</span><span class="n">nb_ligne</span><span class="p">,</span> <span class="n">nb_max_allumette</span><span class="p">):</span>
    <span class="sd">&quot;&quot;&quot; Configuration aléatoire, chaque ligne est uniformément tirée dans [1, nb_max_allumette] (bornes incluses).&quot;&quot;&quot;</span>
    <span class="k">return</span> <span class="nb">list</span><span class="p">(</span><span class="n">random</span><span class="o">.</span><span class="n">randint</span><span class="p">(</span><span class="mi">1</span><span class="p">,</span> <span class="mi">1</span> <span class="o">+</span> <span class="n">nb_max_allumette</span><span class="p">,</span> <span class="n">nb_ligne</span><span class="p">))</span>
</pre></div>

    </div>
</div>
</div>

</div>
<div class="cell border-box-sizing code_cell rendered">
<div class="input">
<div class="prompt input_prompt">In&nbsp;[81]:</div>
<div class="inner_cell">
    <div class="input_area">
<div class=" highlight hl-ipython3"><pre><span></span><span class="n">c</span> <span class="o">=</span> <span class="n">config_aleatoire</span><span class="p">(</span><span class="mi">4</span><span class="p">,</span> <span class="mi">4</span><span class="p">)</span>
<span class="nb">print</span><span class="p">(</span><span class="s2">&quot;Configuration random c :&quot;</span><span class="p">)</span>
<span class="n">print_nim</span><span class="p">(</span><span class="n">c</span><span class="p">)</span>
<span class="n">nim</span><span class="p">(</span><span class="n">c</span><span class="p">)</span>
</pre></div>

    </div>
</div>
</div>

<div class="output_wrapper">
<div class="output">


<div class="output_area">

    <div class="prompt"></div>


<div class="output_subarea output_stream output_stdout output_text">
<pre>Configuration random c :
0 : ! ! ! 
1 : ! 
2 : ! ! ! ! 
3 : ! 
Début de la simulation pour maximum 9 coups.

# Tour numéro 1
0 : ! ! ! 
1 : ! 
2 : ! ! ! ! 
3 : ! 
Il y a une stratégie gagnante... Trouvons la !
Le joueur courant 0 a choisi de retirer 1 allumettes à la rangée numéro 2

# Tour numéro 2
0 : ! ! ! 
1 : ! 
2 : ! ! ! 
3 : ! 
Le joueur 1 aléatoire uniforme a choisi de regarder la ligne 0
Le joueur 1 aléatoire uniforme a choisi de retirer 3 allumettes parmi les 3 disponibles

# Tour numéro 3
0 : 
1 : ! 
2 : ! ! ! 
3 : ! 
Il y a une stratégie gagnante... Trouvons la !
Le joueur courant 0 a choisi de retirer 1 allumettes à la rangée numéro 0
  Attention, apparemment on a été contraint de choisir un coup qui n&#39;est pas gagnant (n&#39;amène pas à gamma(c&#39;) = 0).

# Tour numéro 4
0 : 
1 : ! 
2 : ! ! ! 
3 : ! 
Le joueur 1 aléatoire uniforme a choisi de regarder la ligne 3
Le joueur 1 aléatoire uniforme a choisi de retirer 1 allumettes parmi les 1 disponibles

# Tour numéro 5
0 : 
1 : ! 
2 : ! ! ! 
3 : 
Il y a une stratégie gagnante... Trouvons la !
Le joueur courant 0 a choisi de retirer 1 allumettes à la rangée numéro 0
  Attention, apparemment on a été contraint de choisir un coup qui n&#39;est pas gagnant (n&#39;amène pas à gamma(c&#39;) = 0).

# Tour numéro 6
0 : 
1 : ! 
2 : ! ! ! 
3 : 
Le joueur 1 aléatoire uniforme a choisi de regarder la ligne 2
Le joueur 1 aléatoire uniforme a choisi de retirer 1 allumettes parmi les 3 disponibles

# Tour numéro 7
0 : 
1 : ! 
2 : ! ! 
3 : 
Il y a une stratégie gagnante... Trouvons la !
Le joueur courant 0 a choisi de retirer 1 allumettes à la rangée numéro 0
  Attention, apparemment on a été contraint de choisir un coup qui n&#39;est pas gagnant (n&#39;amène pas à gamma(c&#39;) = 0).

# Tour numéro 8
0 : 
1 : ! 
2 : ! ! 
3 : 
==&gt; Le joueur 1 a perdu.
</pre>
</div>
</div>

</div>
</div>

</div>
<div class="cell border-box-sizing text_cell rendered"><div class="prompt input_prompt">
</div><div class="inner_cell">
<div class="text_cell_render border-box-sizing rendered_html">
<hr>

</div>
</div>
</div>
<div class="cell border-box-sizing text_cell rendered"><div class="prompt input_prompt">
</div><div class="inner_cell">
<div class="text_cell_render border-box-sizing rendered_html">
<h2 id="1.5-Conclusion">1.5 Conclusion<a class="anchor-link" href="#1.5-Conclusion">&#182;</a></h2>
</div>
</div>
</div>
<div class="cell border-box-sizing text_cell rendered"><div class="prompt input_prompt">
</div><div class="inner_cell">
<div class="text_cell_render border-box-sizing rendered_html">
<p>C'est tout ce que j'avais eu le temps d'implémenter durant les 4h de préparation (c'est un des textes que j'avais préparé en juin 2014, dans les "vraies" conditions en oraux blanc, à l'ENS Cachan, et le code initial était en OCaml mais je n'ai rien changé à part la conversion en Python3).</p>
<p>Quelques remarques :</p>
<ul>
<li>durant l'épreuve de modélisation, vous êtes libres de faire ce que vous voulez, la seule partie requise est dans le paragraphe <strong>Exercice de programmation</strong> (ici, il s'agissait d'implémenter une fonction similaire à <code>optimal()</code> (cf. plus haut).</li>
<li>les quelques développements supplémentaires traites ci-dessus (stratégie stupide, configuration aléatoire, simulation de jeu), ne sont qu'une suggestion de ce qui pouvait être fait sur ce texte,</li>
<li>d'autres suggestions sont possibles, si vous avez des idées, <a href="https://github.com/Naereen/notebooks/pulls">envoyez-moi vos notebooks !</a>.</li>
</ul>
<blockquote><p><em>Edit :</em> j'avais une erreur dans mon calcul de <code>next</code>, corrigée le 11/01/17.</p>
</blockquote>

</div>
</div>
</div>
<div class="cell border-box-sizing text_cell rendered"><div class="prompt input_prompt">
</div><div class="inner_cell">
<div class="text_cell_render border-box-sizing rendered_html">
<h2 id="1.6-Attention-:">1.6 Attention :<a class="anchor-link" href="#1.6-Attention-:">&#182;</a></h2>
</div>
</div>
</div>
<div class="cell border-box-sizing text_cell rendered"><div class="prompt input_prompt">
</div><div class="inner_cell">
<div class="text_cell_render border-box-sizing rendered_html">
<p>Les 40 minutes de passage au tableau ne doivent PAS être uniquement consacrée à la présentation de vos expériences sur l'ordinateur !</p>
<p>Il faut aussi :</p>
<ul>
<li>faire une introduction générale (citer des mots clés),</li>
<li>présenter le plan de votre présentation,</li>
<li>introduire les notations, les objectifs et les résultats donnés par le texte,</li>
<li>prouver ou exposer des développements <strong>theoriques</strong> personnels (à choisir parmi la liste proposée, mais pas seulement),</li>
<li>etc.</li>
</ul>

</div>
</div>
</div>
<div class="cell border-box-sizing text_cell rendered"><div class="prompt input_prompt">
</div><div class="inner_cell">
<div class="text_cell_render border-box-sizing rendered_html">
<hr>
<blockquote><p><em>C'est tout pour aujourd'hui les amis !</em>
<a href="https://github.com/Naereen/notebooks/tree/master/agreg">Allez voir d'autres notebooks</a> si vous voulez.</p>
</blockquote>

</div>
</div>
</div>
 


    </div>
  </div>

  </div>


  
    <footer class="footer hidden-print">
      <div class="container">
        <div class="col-md-4">
          <p>
            This website does not host notebooks, it only renders notebooks
            available on other websites.
          </p>
        </div>

        <div class="col-md-4">
          <p>
            Delivered by <a href="https://www.fastly.com/">Fastly</a>,
            Rendered by <a href="https://developer.rackspace.com/?nbviewer=awesome">Rackspace</a>
          </p>
          <p>
            nbviewer GitHub <a href="https://github.com/jupyter/nbviewer">repository</a>.
          </p>
        </div>

        <div class="col-md-4">
          
  
            
              <p>
                nbviewer version:
                <a href="https://github.com/jupyter/nbviewer/commit/8a8fd298b446096dddc874da57e99dd22a2d8d97">
                  8a8fd29
                </a>
              </p>
            
          
  
  <p>
    nbconvert version: <a href="https://github.com/jupyter/nbconvert/releases/tag/5.6.1">
      5.6.1
    </a>
  </p>
  

          
  
  
  <p>
    Rendered
    <span class='date' data-date='Mon, 27 Jan 2020 13:31:00 UTC' title='Mon, 27 Jan 2020 13:31:00 UTC'>(Mon, 27 Jan 2020 13:31:00 UTC)</span>
  </p>
  

        </div>
      </div>
    </footer>
  

  <script src="/static/components/bootstrap/js/bootstrap.min.js?v=5869c96cc8f19086aee625d670d741f9"></script>
  <script src="/static/components/headroom.js/dist/headroom.min.js?v=b0a311ea668f8e768ea375f4a7abb81c"></script>
  <script src="/static/components/headroom.js/dist/jQuery.headroom.min.js?v=f3a1bae118315d0c234afc74dc6aab71"></script>

  
  
  <script>
    $(function(){ $("#menubar").headroom({
      tolerance: 5,
      offset: 205,
      classes: {
        initial: "animated",
        pinned: "slideInDown",
        unpinned: "slideOutUp"
      }
    })});
  </script>


  
  <script>
    (function(i,s,o,g,r,a,m){i['GoogleAnalyticsObject']=r;i[r]=i[r]||function(){
      (i[r].q=i[r].q||[]).push(arguments)},i[r].l=1*new Date();a=s.createElement(o),
      m=s.getElementsByTagName(o)[0];a.async=1;a.src=g;m.parentNode.insertBefore(a,m)
    })(window,document,'script','https://www.google-analytics.com/analytics.js','ga');
    ga('create', 'UA-52617120-5', 'auto',
       {'storage': 'none'});
    ga('set', 'anonymizeIp', true);
    ga('send', 'pageview');
  </script>
  
  <script>
    require({
        paths: {
          moment: "/static/components/moment/min/moment.min.js?v=89f87298ad94aa1e6b92f42eb66da043"
        }
      }, ["moment"], function(moment){
      var date = $("footer .date"),
        m = moment(new Date(date.data('date'))),
        update = function(){ date.text(m.fromNow()); };
      setInterval(update, 61*1000);
      update();
      var w = $(window).scroll(function(event){
        $("body").toggleClass("scrolled", w.scrollTop() > 0);
      });
    });
  </script>

  <!--NEW RELIC Stop Perf Measurement-->
  
  <!--NEW RELIC End-->
</body>
</html>