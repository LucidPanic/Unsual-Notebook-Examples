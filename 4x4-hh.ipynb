{
 "cells": [
  {
   "cell_type": "markdown",
   "metadata": {},
   "source": [
    "# 3x3 Householder QR Demo"
   ]
  },
  {
   "cell_type": "markdown",
   "metadata": {},
   "source": [
    "This demo constructs a $3\\times 3$ QR factorization using Householder reflectors."
   ]
  },
  {
   "cell_type": "code",
   "execution_count": 65,
   "metadata": {},
   "outputs": [],
   "source": [
    "import numpy as np\n",
    "import numpy.linalg as la"
   ]
  },
  {
   "cell_type": "code",
   "execution_count": 75,
   "metadata": {},
   "outputs": [
    {
     "data": {
      "text/plain": [
       "array([[-0.30431346,  0.17126633,  0.67160276, -0.70178148],\n",
       "       [ 0.82405851,  1.25941552,  0.54632226, -0.16751628],\n",
       "       [ 0.74840768, -2.04402523,  0.2556131 ,  1.39932852],\n",
       "       [-0.24484575, -0.51119763,  0.35777757, -0.78316031],\n",
       "       [-0.79564562,  0.02910628,  0.27340105,  0.85254303]])"
      ]
     },
     "execution_count": 75,
     "metadata": {},
     "output_type": "execute_result"
    }
   ],
   "source": [
    "A = np.random.randn(5, 4)\n",
    "A"
   ]
  },
  {
   "cell_type": "markdown",
   "metadata": {},
   "source": [
    "Householder reflector:\n",
    "$$I-2\\frac{vv^T}{v^Tv}$$\n",
    "\n",
    "Choose $v=a-\\|a\\|e_1$."
   ]
  },
  {
   "cell_type": "code",
   "execution_count": 78,
   "metadata": {},
   "outputs": [],
   "source": [
    "a = A[:, 0]\n",
    "\n",
    "v = a - la.norm(a, 2)*np.array([1,0,0,0,0])\n",
    "H1 = np.eye(5) - 2*np.outer(v,v)/(v@v)"
   ]
  },
  {
   "cell_type": "code",
   "execution_count": 79,
   "metadata": {},
   "outputs": [
    {
     "data": {
      "text/plain": [
       "array([[ 1.423, -0.311,  0.093,  0.447],\n",
       "       [-0.   ,  1.489,  0.822, -0.716],\n",
       "       [ 0.   , -1.835,  0.506,  0.902],\n",
       "       [-0.   , -0.58 ,  0.276, -0.62 ],\n",
       "       [-0.   , -0.193,  0.007,  1.382]])"
      ]
     },
     "execution_count": 79,
     "metadata": {},
     "output_type": "execute_result"
    }
   ],
   "source": [
    "A1 = H1 @ A\n",
    "A1.round(3)"
   ]
  },
  {
   "cell_type": "markdown",
   "metadata": {},
   "source": [
    "NB: Never build full Householder matrices in actual code! (Why? How?)"
   ]
  },
  {
   "cell_type": "code",
   "execution_count": 80,
   "metadata": {},
   "outputs": [],
   "source": [
    "a = A1[:, 1].copy()\n",
    "a[:1] = 0\n",
    "v = a - la.norm(a, 2)*np.array([0,1,0,0,0])\n",
    "H2 = np.eye(5) - 2*np.outer(v,v)/(v@v)"
   ]
  },
  {
   "cell_type": "code",
   "execution_count": 81,
   "metadata": {},
   "outputs": [
    {
     "data": {
      "text/plain": [
       "array([[ 1.423, -0.311,  0.093,  0.447],\n",
       "       [-0.   ,  2.441,  0.055, -1.076],\n",
       "       [ 0.   ,  0.   , -0.973,  0.206],\n",
       "       [-0.   ,  0.   , -0.192, -0.84 ],\n",
       "       [-0.   ,  0.   , -0.149,  1.309]])"
      ]
     },
     "execution_count": 81,
     "metadata": {},
     "output_type": "execute_result"
    }
   ],
   "source": [
    "A2 = H2 @ A1\n",
    "A2.round(3)"
   ]
  },
  {
   "cell_type": "code",
   "execution_count": 82,
   "metadata": {},
   "outputs": [],
   "source": [
    "a = A2[:, 2].copy()\n",
    "a[:2] = 0\n",
    "v = a - la.norm(a, 2)*np.array([0,0,1,0,0])\n",
    "H3 = np.eye(5) - 2*np.outer(v,v)/(v@v)"
   ]
  },
  {
   "cell_type": "code",
   "execution_count": 83,
   "metadata": {},
   "outputs": [
    {
     "data": {
      "text/plain": [
       "array([[ 1.423, -0.311,  0.093,  0.447],\n",
       "       [-0.   ,  2.441,  0.055, -1.076],\n",
       "       [ 0.   , -0.   ,  1.003, -0.234],\n",
       "       [-0.   ,  0.   , -0.   , -0.883],\n",
       "       [-0.   ,  0.   , -0.   ,  1.276]])"
      ]
     },
     "execution_count": 83,
     "metadata": {},
     "output_type": "execute_result"
    }
   ],
   "source": [
    "A3 = H3 @ A2\n",
    "A3.round(3)"
   ]
  },
  {
   "cell_type": "code",
   "execution_count": 87,
   "metadata": {},
   "outputs": [],
   "source": [
    "R = A3"
   ]
  },
  {
   "cell_type": "code",
   "execution_count": 88,
   "metadata": {
    "scrolled": true
   },
   "outputs": [
    {
     "data": {
      "text/plain": [
       "1.3634220254142561e-15"
      ]
     },
     "execution_count": 88,
     "metadata": {},
     "output_type": "execute_result"
    }
   ],
   "source": [
    "Q = (H3 @ H2 @ H1).T\n",
    "la.norm(np.dot(Q, R) - A)"
   ]
  },
  {
   "cell_type": "code",
   "execution_count": null,
   "metadata": {},
   "outputs": [],
   "source": [
    "# (one more round of Householder would kill the last row entry--but in the interest of keeping the notebook the same as in class, I've left the code way it is)"
   ]
  }
 ],
 "metadata": {
  "kernelspec": {
   "display_name": "Python 3",
   "language": "python",
   "name": "python3"
  },
  "language_info": {
   "codemirror_mode": {
    "name": "ipython",
    "version": 3
   },
   "file_extension": ".py",
   "mimetype": "text/x-python",
   "name": "python",
   "nbconvert_exporter": "python",
   "pygments_lexer": "ipython3",
   "version": "3.7.2+"
  }
 },
 "nbformat": 4,
 "nbformat_minor": 2
}
