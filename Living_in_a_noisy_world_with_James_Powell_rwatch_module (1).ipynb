








<!DOCTYPE html>
<html lang="en">

<head>
  <meta charset="utf-8">
  <title>Jupyter Notebook Viewer</title>
  <meta name="viewport" content="width=device-width, initial-scale=1.0">
  <meta name="description" content="">
  <meta name="author" content="">
  
  <meta name="robots" content="noindex,nofollow">
  

  <!--NEW RELIC Start Perf Measurement-->
  
  <!--NREND-->

  <!-- Le styles -->
  <link href="/static/build/styles.css?v=55ba354138253381d2c0ada9821cd4da" rel="stylesheet">

  <!-- Le HTML5 shim, for IE6-8 support of HTML5 elements -->
  <!--[if lt IE 9]>
    <script src="http://html5shim.googlecode.com/svn/trunk/html5.js"></script>
  <![endif]-->

  <!-- Le fav and touch icons -->
  <link rel="shortcut icon" href="/static/ico/ipynb_icon_16x16.png">
  <link rel="apple-touch-icon-precomposed" sizes="144x144"
        href="/static/ico/apple-touch-icon-144-precomposed.png?v=5a3c9ede93e2a8b8ea9e3f8f3da1a905">
  <link rel="apple-touch-icon-precomposed" sizes="114x114"
        href="/static/ico/apple-touch-icon-114-precomposed.png?v=45d86fc8f24dc00638035e1dd7a6d898">
  <link rel="apple-touch-icon-precomposed" sizes="72x72"
        href="/static/ico/apple-touch-icon-72-precomposed.png?v=540b5eb0f3cfd25f1439d1c9bd30e15f">
  <link rel="apple-touch-icon-precomposed"
        href="/static/ico/apple-touch-icon-57-precomposed.png?v=225f0590e187e1458625654f10a28f56">
  
  

  

  
  <meta name="twitter:card" content="summary">
  <meta name="twitter:title" content="Notebook on nbviewer">
  <meta name="twitter:description" content="Check out this Jupyter notebook!">

  
  <meta name="twitter:domain" content="nbviewer.jupyter.org">
  <meta name="twitter:image:src" content="http://ipython.org/ipython-doc/dev/_images/ipynb_icon_128x128.png">

  
    <link href="/static/build/notebook.css?v=aae8f92f7e80fc468ae446b9d852fe90" rel="stylesheet">
  

  

  
    <script src="https://cdnjs.cloudflare.com/ajax/libs/mathjax/2.7.1/MathJax.js?config=TeX-AMS_HTML" type="text/javascript">
    </script>
    <script type="text/javascript">
      init_mathjax = function() {
        if (window.MathJax) {
          // MathJax loaded
          MathJax.Hub.Config({
            TeX: {
              equationNumbers: {
                autoNumber: "AMS",
                useLabelIds: true
              }
            },
            tex2jax: {
              inlineMath: [ ['$','$'], ["\\(","\\)"] ],
              displayMath: [ ['$$','$$'], ["\\[","\\]"] ],
              processEscapes: true,
              processEnvironments: true
            },
            displayAlign: 'center',
            "HTML-CSS": {
              styles: {'.MathJax_Display': {"margin": 0}},
              linebreaks: { automatic: true }
            }
          });
          MathJax.Hub.Queue(["Typeset", MathJax.Hub]);
        }
      }
      init_mathjax();
    </script>
  

  
    <script>
      (function() {
        function addWidgetsRenderer() {
          var mimeElement = document.querySelector('script[type="application/vnd.jupyter.widget-view+json"]');
          var scriptElement = document.createElement('script');
          var widgetRendererSrc = 'https://unpkg.com/@jupyter-widgets/html-manager@0.15/dist/embed-amd.js';
          var widgetState;

          try {
            widgetState = mimeElement && JSON.parse(mimeElement.innerHTML);

            if (widgetState && (widgetState.version_major < 2 || !widgetState.version_major)) {
              widgetRendererSrc = 'https://unpkg.com/jupyter-js-widgets@2.1/dist/embed.js';
            }
          } catch(e) {}

          scriptElement.src = widgetRendererSrc;
          document.body.appendChild(scriptElement);
        }

        document.addEventListener('DOMContentLoaded', addWidgetsRenderer);
      }());
    </script>
  

</head>

<body class="nbviewer">

  <!-- These are loaded at the top of the body so they are available to
       notebook cells when they are loaded below. -->
  <script src="/static/components/jquery/dist/jquery.min.js?v=220afd743d9e9643852e31a135a9f3ae"></script>
  <script src="/static/components/requirejs/require.js?v=6da8be361b9ee26c5e721e76c6d4afce"></script>
  <script src="/static/components/moment/min/moment.min.js?v=89f87298ad94aa1e6b92f42eb66da043"></script>
<!-- Navbar
================================================== -->
  <nav id="menubar" class="navbar navbar-default navbar-fixed-top" data-spy="affix">
    <div class="container">
      <div class="navbar-header">
        <button type="button" class="navbar-toggle collapsed" data-toggle="collapse" data-target=".navbar-collapse">
          <span class="sr-only">Toggle navigation</span>
          <i class="fa fa-bars"></i>
        </button>
        <a class="navbar-brand" href="/">
          <img src="/static/img/nav_logo.svg?v=479cefe8d932fb14a67b93911b97d70f" width="159"/>
        </a>
      </div>

      <div class="collapse navbar-collapse">
        <ul class="nav navbar-nav navbar-right">
          <li>
            <a class="active" href="https://jupyter.org">JUPYTER</a>
          </li>
          <li>
    <a href="/faq" title="FAQ" >
      
        <span>FAQ</span>
      
    </a>
  </li>

          
  
    
  
    
      
        <li>
    <a href="/format/script/github/Naereen/notebooks/blob/master/Living_in_a_noisy_world_with_James_Powell_rwatch_module.ipynb" title="View as Code" >
      <span class="fa fa-code fa-2x menu-icon"></span>
      <span class="menu-text">View as Code</span>
    </a>
  </li>
      
    
  

  
    <li>
    <a href="#" title="Python [default] Kernel" >
      <span class="fa fa-server fa-2x menu-icon"></span>
      <span class="menu-text">Python [default] Kernel</span>
    </a>
  </li>
  

  
    <li>
    <a href="https://github.com/Naereen/notebooks/blob/master/Living_in_a_noisy_world_with_James_Powell_rwatch_module.ipynb" title="View on GitHub" >
      <span class="fa fa-github fa-2x menu-icon"></span>
      <span class="menu-text">View on GitHub</span>
    </a>
  </li>
  

  
    <li>
    <a href="https://mybinder.org/v2/gh/Naereen/notebooks/master?filepath=Living_in_a_noisy_world_with_James_Powell_rwatch_module.ipynb" title="Execute on Binder" >
      <span class="fa fa-icon-binder fa-2x menu-icon"></span>
      <span class="menu-text">Execute on Binder</span>
    </a>
  </li>
  

  <li>
    <a href="https://raw.githubusercontent.com/Naereen/notebooks/master/Living_in_a_noisy_world_with_James_Powell_rwatch_module.ipynb" title="Download Notebook" download>
      <span class="fa fa-download fa-2x menu-icon"></span>
      <span class="menu-text">Download Notebook</span>
    </a>
  </li>

        </ul>
      </div><!-- /.navbar-collapse -->
      
      
    </div>
  </nav>

  <div class="container container-main">
    
  
  <ol class="breadcrumb">
    
      <li>
        <a href="/github/Naereen/notebooks/tree/master">notebooks</a>
      </li>
    
      <li>
        <a href="/github/Naereen/notebooks/tree/master/Living_in_a_noisy_world_with_James_Powell_rwatch_module.ipynb">Living_in_a_noisy_world_with_James_Powell_rwatch_module.ipynb</a>
      </li>
    
  </ol>
  
  <div id="notebook">
    <div id="notebook-container">
      <div class="cell border-box-sizing text_cell rendered"><div class="prompt input_prompt">
</div><div class="inner_cell">
<div class="text_cell_render border-box-sizing rendered_html">
<h1 id="Table-of-Contents">Table of Contents<a class="anchor-link" href="#Table-of-Contents">&#182;</a></h1><p><p><div class="lev1 toc-item"><a href="#&quot;Living-in-a-noisy-world...&quot;,-using-James-Powell's-(dutc)-rwatch-module" data-toc-modified-id="&quot;Living-in-a-noisy-world...&quot;,-using-James-Powell's-(dutc)-rwatch-module-1"><span class="toc-item-num">1&nbsp;&nbsp;</span><em>"Living in a noisy world..."</em>, using James Powell's (<code>dutc</code>) <code>rwatch</code> module</a></div><div class="lev2 toc-item"><a href="#Requirements-and-links" data-toc-modified-id="Requirements-and-links-11"><span class="toc-item-num">1.1&nbsp;&nbsp;</span>Requirements and links</a></div><div class="lev2 toc-item"><a href="#Defining-a-debugging-context-manager,-just-to-try" data-toc-modified-id="Defining-a-debugging-context-manager,-just-to-try-12"><span class="toc-item-num">1.2&nbsp;&nbsp;</span>Defining a debugging context manager, just to try</a></div><div class="lev3 toc-item"><a href="#Watching-just-one-object" data-toc-modified-id="Watching-just-one-object-121"><span class="toc-item-num">1.2.1&nbsp;&nbsp;</span>Watching just one object</a></div><div class="lev3 toc-item"><a href="#Can-we-delete-the-rwatch-?" data-toc-modified-id="Can-we-delete-the-rwatch-?-122"><span class="toc-item-num">1.2.2&nbsp;&nbsp;</span>Can we delete the <code>rwatch</code> ?</a></div><div class="lev3 toc-item"><a href="#More-useful-debuggin-information" data-toc-modified-id="More-useful-debuggin-information-123"><span class="toc-item-num">1.2.3&nbsp;&nbsp;</span>More useful debuggin information</a></div><div class="lev3 toc-item"><a href="#Watching-any-object" data-toc-modified-id="Watching-any-object-124"><span class="toc-item-num">1.2.4&nbsp;&nbsp;</span>Watching <em>any</em> object</a></div><div class="lev3 toc-item"><a href="#A-first-context-manager-to-have-debugging-for-one-object" data-toc-modified-id="A-first-context-manager-to-have-debugging-for-one-object-125"><span class="toc-item-num">1.2.5&nbsp;&nbsp;</span>A first context manager to have debugging for <em>one</em> object</a></div><div class="lev3 toc-item"><a href="#A-second-context-manager-to-debug-any-object" data-toc-modified-id="A-second-context-manager-to-debug-any-object-126"><span class="toc-item-num">1.2.6&nbsp;&nbsp;</span>A second context manager to debug <em>any</em> object</a></div><div class="lev2 toc-item"><a href="#Defining-a-context-manager-to-add-white-noise" data-toc-modified-id="Defining-a-context-manager-to-add-white-noise-13"><span class="toc-item-num">1.3&nbsp;&nbsp;</span>Defining a context manager to add white noise</a></div><div class="lev3 toc-item"><a href="#Capturing-any-numerical-value" data-toc-modified-id="Capturing-any-numerical-value-131"><span class="toc-item-num">1.3.1&nbsp;&nbsp;</span>Capturing any numerical value</a></div><div class="lev3 toc-item"><a href="#Adding-a-white-noise-for-numbers" data-toc-modified-id="Adding-a-white-noise-for-numbers-132"><span class="toc-item-num">1.3.2&nbsp;&nbsp;</span>Adding a white noise for numbers</a></div><div class="lev3 toc-item"><a href="#WhiteNoiseComplex-context-manager" data-toc-modified-id="WhiteNoiseComplex-context-manager-133"><span class="toc-item-num">1.3.3&nbsp;&nbsp;</span><code>WhiteNoiseComplex</code> context manager</a></div><div class="lev2 toc-item"><a href="#Defining-a-generic-noisy-context-manager" data-toc-modified-id="Defining-a-generic-noisy-context-manager-14"><span class="toc-item-num">1.4&nbsp;&nbsp;</span>Defining a generic <code>noisy</code> context manager</a></div><div class="lev2 toc-item"><a href="#Conclusion" data-toc-modified-id="Conclusion-15"><span class="toc-item-num">1.5&nbsp;&nbsp;</span>Conclusion</a></div></p>

</div>
</div>
</div>
<div class="cell border-box-sizing text_cell rendered"><div class="prompt input_prompt">
</div><div class="inner_cell">
<div class="text_cell_render border-box-sizing rendered_html">
<h1 id="&quot;Living-in-a-noisy-world...&quot;,-using-James-Powell's-(dutc)-rwatch-module"><em>"Living in a noisy world..."</em>, using James Powell's (<code>dutc</code>) <code>rwatch</code> module<a class="anchor-link" href="#&quot;Living-in-a-noisy-world...&quot;,-using-James-Powell's-(dutc)-rwatch-module">&#182;</a></h1><p>Goal : I want to write a <a href="https://docs.python.org/3.5/library/stdtypes.html#typecontextmanager">context manager</a> for <a href="https://www.Python.org/">Python 3.5+</a>, so that inside the context manager, every number is seen noisy (with a white Gaussian noise, for instance).</p>
<blockquote><p>It will be like being drunk, except that your it will be my Python interpretor and not me !</p>
</blockquote>
<p>For instance, I will like to have this feature:</p>

</div>
</div>
</div>
<div class="cell border-box-sizing text_cell rendered"><div class="prompt input_prompt">
</div><div class="inner_cell">
<div class="text_cell_render border-box-sizing rendered_html">
<div class="highlight"><pre><span></span><span class="o">&gt;&gt;&gt;</span> <span class="n">x</span> <span class="o">=</span> <span class="mi">120193</span>
<span class="o">&gt;&gt;&gt;</span> <span class="k">print</span><span class="p">(</span><span class="n">x</span><span class="p">)</span>
<span class="mi">120193</span>
<span class="o">&gt;&gt;&gt;</span> <span class="n">np</span><span class="o">.</span><span class="n">random</span><span class="o">.</span><span class="n">seed</span><span class="p">(</span><span class="mi">1234</span><span class="p">)</span>
<span class="o">&gt;&gt;&gt;</span> <span class="k">with</span> <span class="n">WhiteNoise</span><span class="p">():</span>
<span class="o">&gt;&gt;&gt;</span>    <span class="k">print</span><span class="p">(</span><span class="n">x</span><span class="p">)</span>
<span class="mf">120193.47143516373249306</span>
</pre></div>

</div>
</div>
</div>
<div class="cell border-box-sizing text_cell rendered"><div class="prompt input_prompt">
</div><div class="inner_cell">
<div class="text_cell_render border-box-sizing rendered_html">
<hr>
<h2 id="Requirements-and-links">Requirements and links<a class="anchor-link" href="#Requirements-and-links">&#182;</a></h2>
</div>
</div>
</div>
<div class="cell border-box-sizing text_cell rendered"><div class="prompt input_prompt">
</div><div class="inner_cell">
<div class="text_cell_render border-box-sizing rendered_html">
<p>First, we will need <a href="https://docs.scipy.org/doc/numpy/user/whatisnumpy.html">numpy</a> to have some random number generator, as <code>numpy.random.normal</code> to have some 1D Gaussian noise.</p>

</div>
</div>
</div>
<div class="cell border-box-sizing code_cell rendered">
<div class="input">
<div class="prompt input_prompt">In&nbsp;[1]:</div>
<div class="inner_cell">
    <div class="input_area">
<div class=" highlight hl-ipython3"><pre><span></span><span class="kn">import</span> <span class="nn">numpy</span> <span class="k">as</span> <span class="nn">np</span>
</pre></div>

    </div>
</div>
</div>

</div>
<div class="cell border-box-sizing code_cell rendered">
<div class="input">
<div class="prompt input_prompt">In&nbsp;[2]:</div>
<div class="inner_cell">
    <div class="input_area">
<div class=" highlight hl-ipython3"><pre><span></span><span class="n">np</span><span class="o">.</span><span class="n">random</span><span class="o">.</span><span class="n">seed</span><span class="p">(</span><span class="mi">1234</span><span class="p">)</span>
<span class="n">np</span><span class="o">.</span><span class="n">random</span><span class="o">.</span><span class="n">normal</span><span class="p">()</span>
</pre></div>

    </div>
</div>
</div>

<div class="output_wrapper">
<div class="output">


<div class="output_area">

    <div class="prompt output_prompt">Out[2]:</div>




<div class="output_text output_subarea output_execute_result">
<pre>0.47143516373249306</pre>
</div>

</div>

</div>
</div>

</div>
<div class="cell border-box-sizing text_cell rendered"><div class="prompt input_prompt">
</div><div class="inner_cell">
<div class="text_cell_render border-box-sizing rendered_html">
<p>Then, the core part will be to install and import <a href="https://github.com/dutc/">James Powell (<code>dutc</code>)</a> <a href="https://github.com/dutc/rwatch"><code>rwatch</code></a> module.
If you don't have it installed :</p>
<ol>
<li>Be sure to have CPython 3.5. <code>rwatch</code> patches the CPython eval loop, so it's fixed to specific versions of Python &amp; the author lazy about keeping it updated.</li>
<li>Then <code>pip install dutc-rwatch</code>. It should work, but it fails for me.</li>
<li>(alternative) You can just <code>cd /tmp/ &amp;&amp; git clone https://github.com/dutc/rwatch &amp;&amp; cd rwatch/src/ &amp;&amp; make</code> and copy the <code>rwatch.so</code> dynamic library wherever you need...</li>
</ol>

</div>
</div>
</div>
<div class="cell border-box-sizing code_cell rendered">
<div class="input">
<div class="prompt input_prompt">In&nbsp;[5]:</div>
<div class="inner_cell">
    <div class="input_area">
<div class=" highlight hl-ipython3"><pre><span></span>%%bash
<span class="nv">tmpdir</span><span class="o">=</span><span class="k">$(</span>mktemp -d<span class="k">)</span>
<span class="nb">cd</span> <span class="nv">$tmpdir</span>
git clone https://github.com/dutc/rwatch
<span class="nb">cd</span> rwatch/src/
make
ls -larth ./rwatch.so
file ./rwatch.so
<span class="c1"># cp ./rwatch.so /where/ver/you/need/  # ~/publis/notebook/ for me</span>
</pre></div>

    </div>
</div>
</div>

<div class="output_wrapper">
<div class="output">


<div class="output_area">

    <div class="prompt"></div>


<div class="output_subarea output_stream output_stdout output_text">
<pre>gcc `python3-config --cflags` `python3-config --includes` -fPIC -DPy_BUILD_CORE -c -o ceval.o ceval.c
gcc `python3-config --cflags` `python3-config --includes` -L`python3-config --prefix`/lib -Wl,--export-dynamic -fPIC -shared -o rwatch.so rwatch.c hook.c ceval.o -ldl `python3-config --libs`
-rwxrwxr-x 1 lilian lilian 453K mai   14 01:20 ./rwatch.so
./rwatch.so: ELF 64-bit LSB shared object, x86-64, version 1 (SYSV), dynamically linked, BuildID[sha1]=f41ef744646e6247119bd702039725fc3a1c8e66, not stripped
</pre>
</div>
</div>

<div class="output_area">

    <div class="prompt"></div>


<div class="output_subarea output_stream output_stderr output_text">
<pre>Clonage dans &#39;rwatch&#39;...
In file included from ceval.c:300:0:
ceval_gil.h:114:46: warning: initialization makes integer from pointer without a cast [-Wint-conversion]
 static _Py_atomic_address gil_last_holder = {NULL};
                                              ^~~~
ceval_gil.h:114:46: note: (near initialization for ‘gil_last_holder._value’)
ceval_gil.h: In function ‘create_gil’:
ceval_gil.h:145:5: warning: initialization makes integer from pointer without a cast [-Wint-conversion]
     _Py_atomic_store_relaxed(&amp;gil_last_holder, NULL);
     ^~~~~~~~~~~~~~~~~~~~~~~~
ceval_gil.h: In function ‘drop_gil’:
ceval_gil.h:181:9: warning: initialization makes integer from pointer without a cast [-Wint-conversion]
         _Py_atomic_store_relaxed(&amp;gil_last_holder, tstate);
         ^~~~~~~~~~~~~~~~~~~~~~~~
ceval_gil.h: In function ‘take_gil’:
ceval_gil.h:243:9: warning: initialization makes integer from pointer without a cast [-Wint-conversion]
         _Py_atomic_store_relaxed(&amp;gil_last_holder, tstate);
         ^~~~~~~~~~~~~~~~~~~~~~~~
</pre>
</div>
</div>

</div>
</div>

</div>
<div class="cell border-box-sizing text_cell rendered"><div class="prompt input_prompt">
</div><div class="inner_cell">
<div class="text_cell_render border-box-sizing rendered_html">
<p>Anyhow, if <code>rwatch</code> is installed, we can import it, and it enables two new functions in the <code>sys</code> module:</p>

</div>
</div>
</div>
<div class="cell border-box-sizing code_cell rendered">
<div class="input">
<div class="prompt input_prompt">In&nbsp;[6]:</div>
<div class="inner_cell">
    <div class="input_area">
<div class=" highlight hl-ipython3"><pre><span></span><span class="kn">import</span> <span class="nn">rwatch</span>
<span class="kn">from</span> <span class="nn">sys</span> <span class="k">import</span> <span class="n">setrwatch</span><span class="p">,</span> <span class="n">getrwatch</span>

<span class="n">setrwatch</span><span class="p">({})</span>  <span class="c1"># clean any previously installed rwatch</span>
<span class="n">getrwatch</span><span class="p">()</span>
</pre></div>

    </div>
</div>
</div>

<div class="output_wrapper">
<div class="output">


<div class="output_area">

    <div class="prompt output_prompt">Out[6]:</div>




<div class="output_text output_subarea output_execute_result">
<pre>{}</pre>
</div>

</div>

</div>
</div>

</div>
<div class="cell border-box-sizing text_cell rendered"><div class="prompt input_prompt">
</div><div class="inner_cell">
<div class="text_cell_render border-box-sizing rendered_html">
<p>Finally, we need the <a href="https://docs.python.org/3/library/collections.html"><code>collections</code></a> module and its <a href="https://docs.python.org/3/library/collections.html#collections.defaultdict"><code>defaultdict</code></a> magical datastructure.</p>

</div>
</div>
</div>
<div class="cell border-box-sizing code_cell rendered">
<div class="input">
<div class="prompt input_prompt">In&nbsp;[7]:</div>
<div class="inner_cell">
    <div class="input_area">
<div class=" highlight hl-ipython3"><pre><span></span><span class="kn">from</span> <span class="nn">collections</span> <span class="k">import</span> <span class="n">defaultdict</span>
</pre></div>

    </div>
</div>
</div>

</div>
<div class="cell border-box-sizing text_cell rendered"><div class="prompt input_prompt">
</div><div class="inner_cell">
<div class="text_cell_render border-box-sizing rendered_html">
<hr>
<h2 id="Defining-a-debugging-context-manager,-just-to-try">Defining a debugging context manager, just to try<a class="anchor-link" href="#Defining-a-debugging-context-manager,-just-to-try">&#182;</a></h2><p>This is the first example given in <a href="">James presentation</a> at PyCon Canada 2016.</p>
<p>We will first define and add a <code>rwatch</code> for just one object, let say a variable <code>x</code>, and then for any object using <code>defaultdict</code>.
From there, writing a context manager that enables this feature only locally is easy.</p>

</div>
</div>
</div>
<div class="cell border-box-sizing text_cell rendered"><div class="prompt input_prompt">
</div><div class="inner_cell">
<div class="text_cell_render border-box-sizing rendered_html">
<h3 id="Watching-just-one-object">Watching just one object<a class="anchor-link" href="#Watching-just-one-object">&#182;</a></h3><ol>
<li>Write the function, that needs two argument <code>frame, obj</code>, and should return <code>obj</code>,</li>
<li>Install it...</li>
<li>Check it!</li>
</ol>

</div>
</div>
</div>
<div class="cell border-box-sizing code_cell rendered">
<div class="input">
<div class="prompt input_prompt">In&nbsp;[15]:</div>
<div class="inner_cell">
    <div class="input_area">
<div class=" highlight hl-ipython3"><pre><span></span><span class="k">def</span> <span class="nf">basic_view</span><span class="p">(</span><span class="n">frame</span><span class="p">,</span> <span class="n">obj</span><span class="p">):</span>
    <span class="nb">print</span><span class="p">(</span><span class="s2">&quot;Python saw the object </span><span class="si">{}</span><span class="s2"> from frame </span><span class="si">{}</span><span class="s2">&quot;</span><span class="o">.</span><span class="n">format</span><span class="p">(</span><span class="n">obj</span><span class="p">,</span> <span class="n">frame</span><span class="p">))</span>
    <span class="k">return</span> <span class="n">obj</span>
</pre></div>

    </div>
</div>
</div>

</div>
<div class="cell border-box-sizing code_cell rendered">
<div class="input">
<div class="prompt input_prompt">In&nbsp;[16]:</div>
<div class="inner_cell">
    <div class="input_area">
<div class=" highlight hl-ipython3"><pre><span></span><span class="n">x</span> <span class="o">=</span> <span class="s2">&quot;I am alive!&quot;</span>
</pre></div>

    </div>
</div>
</div>

</div>
<div class="cell border-box-sizing code_cell rendered">
<div class="input">
<div class="prompt input_prompt">In&nbsp;[17]:</div>
<div class="inner_cell">
    <div class="input_area">
<div class=" highlight hl-ipython3"><pre><span></span><span class="n">setrwatch</span><span class="p">({</span>
    <span class="nb">id</span><span class="p">(</span><span class="n">x</span><span class="p">):</span> <span class="n">basic_view</span>
<span class="p">})</span>
</pre></div>

    </div>
</div>
</div>

</div>
<div class="cell border-box-sizing code_cell rendered">
<div class="input">
<div class="prompt input_prompt">In&nbsp;[18]:</div>
<div class="inner_cell">
    <div class="input_area">
<div class=" highlight hl-ipython3"><pre><span></span><span class="nb">print</span><span class="p">(</span><span class="n">x</span><span class="p">)</span>
</pre></div>

    </div>
</div>
</div>

<div class="output_wrapper">
<div class="output">


<div class="output_area">

    <div class="prompt"></div>


<div class="output_subarea output_stream output_stdout output_text">
<pre>Python saw the object I am alive! from frame &lt;frame object at 0x7fe313a70b88&gt;
Python saw the object I am alive! from frame &lt;frame object at 0x7fe32c005258&gt;
I am alive!
</pre>
</div>
</div>

</div>
</div>

</div>
<div class="cell border-box-sizing text_cell rendered"><div class="prompt input_prompt">
</div><div class="inner_cell">
<div class="text_cell_render border-box-sizing rendered_html">
<p>That's awesome, it works!</p>

</div>
</div>
</div>
<div class="cell border-box-sizing text_cell rendered"><div class="prompt input_prompt">
</div><div class="inner_cell">
<div class="text_cell_render border-box-sizing rendered_html">
<h3 id="Can-we-delete-the-rwatch-?">Can we delete the <code>rwatch</code> ?<a class="anchor-link" href="#Can-we-delete-the-rwatch-?">&#182;</a></h3><p>Sure!</p>

</div>
</div>
</div>
<div class="cell border-box-sizing code_cell rendered">
<div class="input">
<div class="prompt input_prompt">In&nbsp;[19]:</div>
<div class="inner_cell">
    <div class="input_area">
<div class=" highlight hl-ipython3"><pre><span></span><span class="k">def</span> <span class="nf">delrwatch</span><span class="p">(</span><span class="n">idobj</span><span class="p">):</span>
    <span class="n">getrwatch</span><span class="p">()</span><span class="o">.</span><span class="n">pop</span><span class="p">(</span><span class="n">idobj</span><span class="p">,</span> <span class="kc">None</span><span class="p">)</span>
</pre></div>

    </div>
</div>
</div>

</div>
<div class="cell border-box-sizing code_cell rendered">
<div class="input">
<div class="prompt input_prompt">In&nbsp;[20]:</div>
<div class="inner_cell">
    <div class="input_area">
<div class=" highlight hl-ipython3"><pre><span></span><span class="nb">print</span><span class="p">(</span><span class="n">x</span><span class="p">)</span>
<span class="n">delrwatch</span><span class="p">(</span><span class="nb">id</span><span class="p">(</span><span class="n">x</span><span class="p">))</span>
<span class="nb">print</span><span class="p">(</span><span class="n">x</span><span class="p">)</span>  <span class="c1"># no more rwatch on this!</span>
<span class="nb">print</span><span class="p">(</span><span class="n">x</span><span class="p">)</span>  <span class="c1"># no more rwatch on this!</span>
</pre></div>

    </div>
</div>
</div>

<div class="output_wrapper">
<div class="output">


<div class="output_area">

    <div class="prompt"></div>


<div class="output_subarea output_stream output_stdout output_text">
<pre>Python saw the object I am alive! from frame &lt;frame object at 0x7fe313a7b9a8&gt;
Python saw the object I am alive! from frame &lt;frame object at 0x7fe32c01a558&gt;
I am alive!
Python saw the object I am alive! from frame &lt;frame object at 0x7fe313a7b7c8&gt;
I am alive!
I am alive!
</pre>
</div>
</div>

</div>
</div>

</div>
<div class="cell border-box-sizing text_cell rendered"><div class="prompt input_prompt">
</div><div class="inner_cell">
<div class="text_cell_render border-box-sizing rendered_html">
<p>We can also delete rwatches that are not defined, without a failure:</p>

</div>
</div>
</div>
<div class="cell border-box-sizing code_cell rendered">
<div class="input">
<div class="prompt input_prompt">In&nbsp;[21]:</div>
<div class="inner_cell">
    <div class="input_area">
<div class=" highlight hl-ipython3"><pre><span></span><span class="n">y</span> <span class="o">=</span> <span class="s2">&quot;I am Zorro !&quot;</span>
<span class="nb">print</span><span class="p">(</span><span class="n">y</span><span class="p">)</span>
<span class="n">delrwatch</span><span class="p">(</span><span class="n">y</span><span class="p">)</span>  <span class="c1"># No issue!</span>
<span class="nb">print</span><span class="p">(</span><span class="n">y</span><span class="p">)</span>
</pre></div>

    </div>
</div>
</div>

<div class="output_wrapper">
<div class="output">


<div class="output_area">

    <div class="prompt"></div>


<div class="output_subarea output_stream output_stdout output_text">
<pre>I am Zorro !
I am Zorro !
</pre>
</div>
</div>

</div>
</div>

</div>
<div class="cell border-box-sizing text_cell rendered"><div class="prompt input_prompt">
</div><div class="inner_cell">
<div class="text_cell_render border-box-sizing rendered_html">
<h3 id="More-useful-debuggin-information">More useful debuggin information<a class="anchor-link" href="#More-useful-debuggin-information">&#182;</a></h3><p>What is this <code>frame</code> thing?
It is described in the documentation of the <a href="https://docs.python.org/3/library/inspect.html"><code>inspect</code></a> module.</p>
<p>We can actually use it to display some useful information about the object and where was it called etc.</p>

</div>
</div>
</div>
<div class="cell border-box-sizing code_cell rendered">
<div class="input">
<div class="prompt input_prompt">In&nbsp;[22]:</div>
<div class="inner_cell">
    <div class="input_area">
<div class=" highlight hl-ipython3"><pre><span></span><span class="kn">from</span> <span class="nn">inspect</span> <span class="k">import</span> <span class="n">getframeinfo</span>

<span class="k">def</span> <span class="nf">debug_view</span><span class="p">(</span><span class="n">frame</span><span class="p">,</span> <span class="n">obj</span><span class="p">):</span>
    <span class="n">info</span> <span class="o">=</span> <span class="n">getframeinfo</span><span class="p">(</span><span class="n">frame</span><span class="p">)</span>
    <span class="n">msg</span> <span class="o">=</span> <span class="s1">&#39;- Access to </span><span class="si">{!r}</span><span class="s1"> (@</span><span class="si">{}</span><span class="s1">) at </span><span class="si">{}</span><span class="s1">:</span><span class="si">{}</span><span class="s1">:</span><span class="si">{}</span><span class="s1">&#39;</span>
    <span class="nb">print</span><span class="p">(</span><span class="n">msg</span><span class="o">.</span><span class="n">format</span><span class="p">(</span><span class="n">obj</span><span class="p">,</span> <span class="nb">hex</span><span class="p">(</span><span class="nb">id</span><span class="p">(</span><span class="n">obj</span><span class="p">)),</span> <span class="n">info</span><span class="o">.</span><span class="n">filename</span><span class="p">,</span> <span class="n">info</span><span class="o">.</span><span class="n">lineno</span><span class="p">,</span> <span class="n">info</span><span class="o">.</span><span class="n">function</span><span class="p">))</span>
    <span class="k">return</span> <span class="n">obj</span>
</pre></div>

    </div>
</div>
</div>

</div>
<div class="cell border-box-sizing code_cell rendered">
<div class="input">
<div class="prompt input_prompt">In&nbsp;[23]:</div>
<div class="inner_cell">
    <div class="input_area">
<div class=" highlight hl-ipython3"><pre><span></span><span class="n">setrwatch</span><span class="p">({})</span>
<span class="n">setrwatch</span><span class="p">({</span>
    <span class="nb">id</span><span class="p">(</span><span class="n">x</span><span class="p">):</span> <span class="n">debug_view</span>
<span class="p">})</span>
<span class="n">getrwatch</span><span class="p">()</span>
</pre></div>

    </div>
</div>
</div>

<div class="output_wrapper">
<div class="output">


<div class="output_area">

    <div class="prompt output_prompt">Out[23]:</div>




<div class="output_text output_subarea output_execute_result">
<pre>{140613264650544: &lt;function __main__.debug_view&gt;}</pre>
</div>

</div>

</div>
</div>

</div>
<div class="cell border-box-sizing code_cell rendered">
<div class="input">
<div class="prompt input_prompt">In&nbsp;[24]:</div>
<div class="inner_cell">
    <div class="input_area">
<div class=" highlight hl-ipython3"><pre><span></span><span class="nb">print</span><span class="p">(</span><span class="n">x</span><span class="p">)</span>
</pre></div>

    </div>
</div>
</div>

<div class="output_wrapper">
<div class="output">


<div class="output_area">

    <div class="prompt"></div>


<div class="output_subarea output_stream output_stdout output_text">
<pre>- Access to &#39;I am alive!&#39; (@0x7fe313b0b130) at &lt;ipython-input-24-81745ac23551&gt;:1:&lt;module&gt;
- Access to &#39;I am alive!&#39; (@0x7fe313b0b130) at /usr/local/lib/python3.5/dist-packages/ipykernel/iostream.py:347:write
I am alive!
</pre>
</div>
</div>

</div>
</div>

</div>
<div class="cell border-box-sizing text_cell rendered"><div class="prompt input_prompt">
</div><div class="inner_cell">
<div class="text_cell_render border-box-sizing rendered_html">
<p>That can be quite useful!</p>

</div>
</div>
</div>
<div class="cell border-box-sizing text_cell rendered"><div class="prompt input_prompt">
</div><div class="inner_cell">
<div class="text_cell_render border-box-sizing rendered_html">
<h3 id="Watching-any-object">Watching <em>any</em> object<a class="anchor-link" href="#Watching-any-object">&#182;</a></h3><p>We can actually pass a <code>defaultdict</code> to the <code>setrwatch</code> function, so that <em>any</em> object will have a rwatch!</p>
<blockquote><p><strong>Warning</strong>: obviously, this will crazily slowdown your interpreter!</p>
</blockquote>
<p>So let be cautious, and only deal with strings here.</p>
<p>But I want to be safe, so it will only works if the frame indicate that the variable does not come from a file.</p>

</div>
</div>
</div>
<div class="cell border-box-sizing code_cell rendered">
<div class="input">
<div class="prompt input_prompt">In&nbsp;[25]:</div>
<div class="inner_cell">
    <div class="input_area">
<div class=" highlight hl-ipython3"><pre><span></span><span class="n">setrwatch</span><span class="p">({})</span>
</pre></div>

    </div>
</div>
</div>

</div>
<div class="cell border-box-sizing code_cell rendered">
<div class="input">
<div class="prompt input_prompt">In&nbsp;[26]:</div>
<div class="inner_cell">
    <div class="input_area">
<div class=" highlight hl-ipython3"><pre><span></span><span class="k">def</span> <span class="nf">debug_view_for_str</span><span class="p">(</span><span class="n">frame</span><span class="p">,</span> <span class="n">obj</span><span class="p">):</span>
    <span class="k">if</span> <span class="nb">isinstance</span><span class="p">(</span><span class="n">obj</span><span class="p">,</span> <span class="nb">str</span><span class="p">):</span>
        <span class="n">info</span> <span class="o">=</span> <span class="n">getframeinfo</span><span class="p">(</span><span class="n">frame</span><span class="p">)</span>
        <span class="k">if</span> <span class="s1">&#39;&lt;stdin&gt;&#39;</span> <span class="ow">in</span> <span class="n">info</span><span class="o">.</span><span class="n">filename</span> <span class="ow">or</span> <span class="s1">&#39;&lt;ipython-&#39;</span> <span class="ow">in</span> <span class="n">info</span><span class="o">.</span><span class="n">filename</span><span class="p">:</span>
            <span class="n">msg</span> <span class="o">=</span> <span class="s1">&#39;- Access to </span><span class="si">{!r}</span><span class="s1"> (@</span><span class="si">{}</span><span class="s1">) at </span><span class="si">{}</span><span class="s1">:</span><span class="si">{}</span><span class="s1">:</span><span class="si">{}</span><span class="s1">&#39;</span>
            <span class="nb">print</span><span class="p">(</span><span class="n">msg</span><span class="o">.</span><span class="n">format</span><span class="p">(</span><span class="n">obj</span><span class="p">,</span> <span class="nb">hex</span><span class="p">(</span><span class="nb">id</span><span class="p">(</span><span class="n">obj</span><span class="p">)),</span> <span class="n">info</span><span class="o">.</span><span class="n">filename</span><span class="p">,</span> <span class="n">info</span><span class="o">.</span><span class="n">lineno</span><span class="p">,</span> <span class="n">info</span><span class="o">.</span><span class="n">function</span><span class="p">))</span>
    <span class="k">return</span> <span class="n">obj</span>
</pre></div>

    </div>
</div>
</div>

</div>
<div class="cell border-box-sizing code_cell rendered">
<div class="input">
<div class="prompt input_prompt">In&nbsp;[27]:</div>
<div class="inner_cell">
    <div class="input_area">
<div class=" highlight hl-ipython3"><pre><span></span><span class="n">setrwatch</span><span class="p">(</span><span class="n">defaultdict</span><span class="p">(</span><span class="k">lambda</span><span class="p">:</span> <span class="n">debug_view_for_str</span><span class="p">))</span>
</pre></div>

    </div>
</div>
</div>

</div>
<div class="cell border-box-sizing code_cell rendered">
<div class="input">
<div class="prompt input_prompt">In&nbsp;[28]:</div>
<div class="inner_cell">
    <div class="input_area">
<div class=" highlight hl-ipython3"><pre><span></span><span class="nb">print</span><span class="p">(</span><span class="n">x</span><span class="p">)</span>
</pre></div>

    </div>
</div>
</div>

<div class="output_wrapper">
<div class="output">


<div class="output_area">

    <div class="prompt"></div>


<div class="output_subarea output_stream output_stdout output_text">
<pre>- Access to &#39;I am alive!&#39; (@0x7fe313b0b130) at &lt;ipython-input-28-81745ac23551&gt;:1:&lt;module&gt;
I am alive!
</pre>
</div>
</div>

</div>
</div>

</div>
<div class="cell border-box-sizing text_cell rendered"><div class="prompt input_prompt">
</div><div class="inner_cell">
<div class="text_cell_render border-box-sizing rendered_html">
<p>Clearly, there is a lot of strings involved, mainly because this is a notebook and not the simple Python interpreter, so filtering on the <code>info.filename</code> as I did was smart.</p>

</div>
</div>
</div>
<div class="cell border-box-sizing code_cell rendered">
<div class="input">
<div class="prompt input_prompt">In&nbsp;[29]:</div>
<div class="inner_cell">
    <div class="input_area">
<div class=" highlight hl-ipython3"><pre><span></span><span class="n">setrwatch</span><span class="p">({})</span>
</pre></div>

    </div>
</div>
</div>

</div>
<div class="cell border-box-sizing text_cell rendered"><div class="prompt input_prompt">
</div><div class="inner_cell">
<div class="text_cell_render border-box-sizing rendered_html">
<p>But obviously, having this for all objects is incredibly verbose!</p>

</div>
</div>
</div>
<div class="cell border-box-sizing code_cell rendered">
<div class="input">
<div class="prompt input_prompt">In&nbsp;[30]:</div>
<div class="inner_cell">
    <div class="input_area">
<div class=" highlight hl-ipython3"><pre><span></span><span class="k">def</span> <span class="nf">debug_view_for_any_object</span><span class="p">(</span><span class="n">frame</span><span class="p">,</span> <span class="n">obj</span><span class="p">):</span>
    <span class="n">info</span> <span class="o">=</span> <span class="n">getframeinfo</span><span class="p">(</span><span class="n">frame</span><span class="p">)</span>
    <span class="k">if</span> <span class="s1">&#39;&lt;stdin&gt;&#39;</span> <span class="ow">in</span> <span class="n">info</span><span class="o">.</span><span class="n">filename</span> <span class="ow">or</span> <span class="s1">&#39;&lt;ipython-&#39;</span> <span class="ow">in</span> <span class="n">info</span><span class="o">.</span><span class="n">filename</span><span class="p">:</span>
        <span class="n">msg</span> <span class="o">=</span> <span class="s1">&#39;- Access to </span><span class="si">{!r}</span><span class="s1"> (@</span><span class="si">{}</span><span class="s1">) at </span><span class="si">{}</span><span class="s1">:</span><span class="si">{}</span><span class="s1">:</span><span class="si">{}</span><span class="s1">&#39;</span>
        <span class="nb">print</span><span class="p">(</span><span class="n">msg</span><span class="o">.</span><span class="n">format</span><span class="p">(</span><span class="n">obj</span><span class="p">,</span> <span class="nb">hex</span><span class="p">(</span><span class="nb">id</span><span class="p">(</span><span class="n">obj</span><span class="p">)),</span> <span class="n">info</span><span class="o">.</span><span class="n">filename</span><span class="p">,</span> <span class="n">info</span><span class="o">.</span><span class="n">lineno</span><span class="p">,</span> <span class="n">info</span><span class="o">.</span><span class="n">function</span><span class="p">))</span>
    <span class="k">return</span> <span class="n">obj</span>
</pre></div>

    </div>
</div>
</div>

</div>
<div class="cell border-box-sizing text_cell rendered"><div class="prompt input_prompt">
</div><div class="inner_cell">
<div class="text_cell_render border-box-sizing rendered_html">
<p>Let check that one, on a very simple example (which runs in less than <code>20</code> micro seconds):</p>

</div>
</div>
</div>
<div class="cell border-box-sizing code_cell rendered">
<div class="input">
<div class="prompt input_prompt">In&nbsp;[52]:</div>
<div class="inner_cell">
    <div class="input_area">
<div class=" highlight hl-ipython3"><pre><span></span><span class="nb">print</span><span class="p">(</span><span class="n">x</span><span class="p">)</span>
<span class="o">%</span><span class="k">time</span> 123 + 134
</pre></div>

    </div>
</div>
</div>

<div class="output_wrapper">
<div class="output">


<div class="output_area">

    <div class="prompt"></div>


<div class="output_subarea output_stream output_stdout output_text">
<pre>I am alive!
CPU times: user 0 ns, sys: 0 ns, total: 0 ns
Wall time: 17.6 µs
</pre>
</div>
</div>

<div class="output_area">

    <div class="prompt output_prompt">Out[52]:</div>




<div class="output_text output_subarea output_execute_result">
<pre>257</pre>
</div>

</div>

</div>
</div>

</div>
<div class="cell border-box-sizing code_cell rendered">
<div class="input">
<div class="prompt input_prompt">In&nbsp;[53]:</div>
<div class="inner_cell">
    <div class="input_area">
<div class=" highlight hl-ipython3"><pre><span></span><span class="n">setrwatch</span><span class="p">({})</span>
<span class="n">setrwatch</span><span class="p">(</span><span class="n">defaultdict</span><span class="p">(</span><span class="k">lambda</span><span class="p">:</span> <span class="n">debug_view_for_any_object</span><span class="p">))</span>
<span class="nb">print</span><span class="p">(</span><span class="n">x</span><span class="p">)</span>
<span class="o">%</span><span class="k">time</span> 123 + 134
<span class="n">setrwatch</span><span class="p">({})</span>
</pre></div>

    </div>
</div>
</div>

<div class="output_wrapper">
<div class="output">


<div class="output_area">

    <div class="prompt"></div>


<div class="output_subarea output_stream output_stdout output_text">
<pre>- Access to None (@0x55feae7373a0) at &lt;ipython-input-53-734484c968c6&gt;:2:&lt;module&gt;
- Access to None (@0x55feae7373a0) at &lt;ipython-input-53-734484c968c6&gt;:2:&lt;module&gt;
- Access to &lt;built-in function print&gt; (@0x7fe342f347e0) at &lt;ipython-input-53-734484c968c6&gt;:3:&lt;module&gt;
- Access to &#39;I am alive!&#39; (@0x7fe313b0b130) at &lt;ipython-input-53-734484c968c6&gt;:3:&lt;module&gt;
I am alive!
- Access to None (@0x55feae7373a0) at &lt;ipython-input-53-734484c968c6&gt;:3:&lt;module&gt;
- Access to None (@0x55feae7373a0) at &lt;ipython-input-53-734484c968c6&gt;:3:&lt;module&gt;
- Access to &lt;bound method InteractiveShell.get_ipython of &lt;ipykernel.zmqshell.ZMQInteractiveShell object at 0x7fe33b56d0b8&gt;&gt; (@0x7fe33b57d548) at &lt;ipython-input-53-734484c968c6&gt;:4:&lt;module&gt;
- Access to &lt;ipykernel.zmqshell.ZMQInteractiveShell object at 0x7fe33b56d0b8&gt; (@0x7fe33b56d0b8) at &lt;ipython-input-53-734484c968c6&gt;:4:&lt;module&gt;
- Access to &#39;time 123 + 134&#39; (@0x7fe312d049b0) at &lt;ipython-input-53-734484c968c6&gt;:4:&lt;module&gt;
CPU times: user 8 ms, sys: 0 ns, total: 8 ms
Wall time: 10.8 ms
- Access to 257 (@0x7fe312c98c70) at &lt;ipython-input-53-734484c968c6&gt;:4:&lt;module&gt;
</pre>
</div>
</div>

<div class="output_area">

    <div class="prompt output_prompt">Out[53]:</div>




<div class="output_text output_subarea output_execute_result">
<pre>257</pre>
</div>

</div>

<div class="output_area">

    <div class="prompt"></div>


<div class="output_subarea output_stream output_stdout output_text">
<pre>- Access to None (@0x55feae7373a0) at &lt;ipython-input-53-734484c968c6&gt;:4:&lt;module&gt;
- Access to &lt;built-in function setrwatch&gt; (@0x7fe328099678) at &lt;ipython-input-53-734484c968c6&gt;:5:&lt;module&gt;
- Access to {} (@0x7fe312d07908) at &lt;ipython-input-53-734484c968c6&gt;:5:&lt;module&gt;
</pre>
</div>
</div>

</div>
</div>

</div>
<div class="cell border-box-sizing text_cell rendered"><div class="prompt input_prompt">
</div><div class="inner_cell">
<div class="text_cell_render border-box-sizing rendered_html">
<p>It seems to work very well!</p>
<p>But it slows down everything, obviously the filtering takes time (for <em>every</em> object!)
Computing <code>123 + 134 = 257</code> took about <code>10</code> miliseconds! That's just CRAZY!</p>

</div>
</div>
</div>
<div class="cell border-box-sizing text_cell rendered"><div class="prompt input_prompt">
</div><div class="inner_cell">
<div class="text_cell_render border-box-sizing rendered_html">
<h3 id="A-first-context-manager-to-have-debugging-for-one-object">A first context manager to have debugging for <em>one</em> object<a class="anchor-link" href="#A-first-context-manager-to-have-debugging-for-one-object">&#182;</a></h3><p>It would be nice to be able to turn on and off this debugging tool whenever you want.</p>
<p>Well, it turns out that <a href="https://docs.python.org/3.5/library/stdtypes.html#typecontextmanager">context managers</a> are exactly meant for that!
They are simple classes with just a <code>__enter__()</code> and <code>__exit__()</code> special methods.</p>
<p>First, let us write a context manager to debug ONE object.</p>

</div>
</div>
</div>
<div class="cell border-box-sizing code_cell rendered">
<div class="input">
<div class="prompt input_prompt">In&nbsp;[54]:</div>
<div class="inner_cell">
    <div class="input_area">
<div class=" highlight hl-ipython3"><pre><span></span><span class="k">class</span> <span class="nc">InspectThisObject</span><span class="p">(</span><span class="nb">object</span><span class="p">):</span>
    <span class="k">def</span> <span class="nf">__init__</span><span class="p">(</span><span class="bp">self</span><span class="p">,</span> <span class="n">obj</span><span class="p">):</span>
        <span class="bp">self</span><span class="o">.</span><span class="n">idobj</span> <span class="o">=</span> <span class="nb">id</span><span class="p">(</span><span class="n">obj</span><span class="p">)</span>
    
    <span class="k">def</span> <span class="nf">__enter__</span><span class="p">(</span><span class="bp">self</span><span class="p">):</span>
        <span class="n">getrwatch</span><span class="p">()[</span><span class="bp">self</span><span class="o">.</span><span class="n">idobj</span><span class="p">]</span> <span class="o">=</span> <span class="n">debug_view</span>

    <span class="k">def</span> <span class="nf">__exit__</span><span class="p">(</span><span class="bp">self</span><span class="p">,</span> <span class="n">exc_type</span><span class="p">,</span> <span class="n">exc_val</span><span class="p">,</span> <span class="n">exc_tb</span><span class="p">):</span>
        <span class="n">delrwatch</span><span class="p">(</span><span class="bp">self</span><span class="o">.</span><span class="n">idobj</span><span class="p">)</span>
</pre></div>

    </div>
</div>
</div>

</div>
<div class="cell border-box-sizing text_cell rendered"><div class="prompt input_prompt">
</div><div class="inner_cell">
<div class="text_cell_render border-box-sizing rendered_html">
<p>We can check it:</p>

</div>
</div>
</div>
<div class="cell border-box-sizing code_cell rendered">
<div class="input">
<div class="prompt input_prompt">In&nbsp;[55]:</div>
<div class="inner_cell">
    <div class="input_area">
<div class=" highlight hl-ipython3"><pre><span></span><span class="n">z</span> <span class="o">=</span> <span class="s2">&quot;I am Batman!&quot;</span>
<span class="nb">print</span><span class="p">(</span><span class="n">z</span><span class="p">)</span>

<span class="k">with</span> <span class="n">InspectThisObject</span><span class="p">(</span><span class="n">z</span><span class="p">):</span>
    <span class="nb">print</span><span class="p">(</span><span class="n">z</span><span class="p">)</span>

<span class="nb">print</span><span class="p">(</span><span class="n">z</span><span class="p">)</span>
</pre></div>

    </div>
</div>
</div>

<div class="output_wrapper">
<div class="output">


<div class="output_area">

    <div class="prompt"></div>


<div class="output_subarea output_stream output_stdout output_text">
<pre>I am Batman!
- Access to &#39;I am Batman!&#39; (@0x7fe312d05af0) at &lt;ipython-input-55-155013540368&gt;:5:&lt;module&gt;
- Access to &#39;I am Batman!&#39; (@0x7fe312d05af0) at /usr/local/lib/python3.5/dist-packages/ipykernel/iostream.py:347:write
I am Batman!
I am Batman!
</pre>
</div>
</div>

</div>
</div>

</div>
<div class="cell border-box-sizing text_cell rendered"><div class="prompt input_prompt">
</div><div class="inner_cell">
<div class="text_cell_render border-box-sizing rendered_html">
<p>The first debug information shows line 5, which is the line where <code>print(z)</code> is.</p>

</div>
</div>
</div>
<div class="cell border-box-sizing text_cell rendered"><div class="prompt input_prompt">
</div><div class="inner_cell">
<div class="text_cell_render border-box-sizing rendered_html">
<h3 id="A-second-context-manager-to-debug-any-object">A second context manager to debug <em>any</em> object<a class="anchor-link" href="#A-second-context-manager-to-debug-any-object">&#182;</a></h3><p>Easy:</p>

</div>
</div>
</div>
<div class="cell border-box-sizing code_cell rendered">
<div class="input">
<div class="prompt input_prompt">In&nbsp;[56]:</div>
<div class="inner_cell">
    <div class="input_area">
<div class=" highlight hl-ipython3"><pre><span></span><span class="k">class</span> <span class="nc">InspectAllObjects</span><span class="p">(</span><span class="nb">object</span><span class="p">):</span>
    <span class="k">def</span> <span class="nf">__init__</span><span class="p">(</span><span class="bp">self</span><span class="p">):</span>
        <span class="k">pass</span>

    <span class="k">def</span> <span class="nf">__enter__</span><span class="p">(</span><span class="bp">self</span><span class="p">):</span>
        <span class="n">setrwatch</span><span class="p">(</span><span class="n">defaultdict</span><span class="p">(</span><span class="k">lambda</span><span class="p">:</span> <span class="n">debug_view_for_any_object</span><span class="p">))</span>

    <span class="k">def</span> <span class="nf">__exit__</span><span class="p">(</span><span class="bp">self</span><span class="p">,</span> <span class="n">exc_type</span><span class="p">,</span> <span class="n">exc_val</span><span class="p">,</span> <span class="n">exc_tb</span><span class="p">):</span>
        <span class="n">setrwatch</span><span class="p">({})</span>
</pre></div>

    </div>
</div>
</div>

</div>
<div class="cell border-box-sizing text_cell rendered"><div class="prompt input_prompt">
</div><div class="inner_cell">
<div class="text_cell_render border-box-sizing rendered_html">
<p>It will probably break everything in the notebook, but works in a basic Python interpreter.</p>

</div>
</div>
</div>
<div class="cell border-box-sizing code_cell rendered">
<div class="input">
<div class="prompt input_prompt">In&nbsp;[57]:</div>
<div class="inner_cell">
    <div class="input_area">
<div class=" highlight hl-ipython3"><pre><span></span><span class="k">with</span> <span class="n">InspectAllObjects</span><span class="p">():</span>
    <span class="nb">print</span><span class="p">(</span><span class="mi">0</span><span class="p">)</span>
</pre></div>

    </div>
</div>
</div>

<div class="output_wrapper">
<div class="output">


<div class="output_area">

    <div class="prompt"></div>


<div class="output_subarea output_stream output_stdout output_text">
<pre>- Access to None (@0x55feae7373a0) at &lt;ipython-input-56-7a0dc9fc43f8&gt;:6:__enter__
- Access to None (@0x55feae7373a0) at &lt;ipython-input-56-7a0dc9fc43f8&gt;:6:__enter__
- Access to None (@0x55feae7373a0) at &lt;ipython-input-57-3ce99ae3e8c0&gt;:1:&lt;module&gt;
- Access to &lt;built-in function print&gt; (@0x7fe342f347e0) at &lt;ipython-input-57-3ce99ae3e8c0&gt;:2:&lt;module&gt;
- Access to 0 (@0x55feae761480) at &lt;ipython-input-57-3ce99ae3e8c0&gt;:2:&lt;module&gt;
0
- Access to None (@0x55feae7373a0) at &lt;ipython-input-57-3ce99ae3e8c0&gt;:2:&lt;module&gt;
- Access to None (@0x55feae7373a0) at &lt;ipython-input-57-3ce99ae3e8c0&gt;:2:&lt;module&gt;
- Access to &lt;built-in function setrwatch&gt; (@0x7fe328099678) at &lt;ipython-input-56-7a0dc9fc43f8&gt;:9:__exit__
- Access to {} (@0x7fe312b08208) at &lt;ipython-input-56-7a0dc9fc43f8&gt;:9:__exit__
</pre>
</div>
</div>

</div>
</div>

</div>
<div class="cell border-box-sizing text_cell rendered"><div class="prompt input_prompt">
</div><div class="inner_cell">
<div class="text_cell_render border-box-sizing rendered_html">
<p>The 5th debug information printed is <code>Access to 0 (@0xXXX) at &lt;ipython-input-41-XXX&gt;:2:&lt;module&gt;</code>, showing the access in line <code>#2</code> of the constant <code>0</code>.</p>

</div>
</div>
</div>
<div class="cell border-box-sizing code_cell rendered">
<div class="input">
<div class="prompt input_prompt">In&nbsp;[58]:</div>
<div class="inner_cell">
    <div class="input_area">
<div class=" highlight hl-ipython3"><pre><span></span><span class="k">with</span> <span class="n">InspectAllObjects</span><span class="p">():</span>
    <span class="nb">print</span><span class="p">(</span><span class="s2">&quot;Darth Vader -- No Luke, I am your Father!&quot;</span><span class="p">)</span>
    <span class="nb">print</span><span class="p">(</span><span class="s2">&quot;Luke -- I have a father? Yay! Let&#39;s eat cookies together!&quot;</span><span class="p">)</span>
</pre></div>

    </div>
</div>
</div>

<div class="output_wrapper">
<div class="output">


<div class="output_area">

    <div class="prompt"></div>


<div class="output_subarea output_stream output_stdout output_text">
<pre>- Access to None (@0x55feae7373a0) at &lt;ipython-input-56-7a0dc9fc43f8&gt;:6:__enter__
- Access to None (@0x55feae7373a0) at &lt;ipython-input-56-7a0dc9fc43f8&gt;:6:__enter__
- Access to None (@0x55feae7373a0) at &lt;ipython-input-58-f38f4c4a3188&gt;:1:&lt;module&gt;
- Access to &lt;built-in function print&gt; (@0x7fe342f347e0) at &lt;ipython-input-58-f38f4c4a3188&gt;:2:&lt;module&gt;
- Access to &#39;Darth Vader -- No Luke, I am your Father!&#39; (@0x7fe312bedf90) at &lt;ipython-input-58-f38f4c4a3188&gt;:2:&lt;module&gt;
Darth Vader -- No Luke, I am your Father!
- Access to None (@0x55feae7373a0) at &lt;ipython-input-58-f38f4c4a3188&gt;:2:&lt;module&gt;
- Access to &lt;built-in function print&gt; (@0x7fe342f347e0) at &lt;ipython-input-58-f38f4c4a3188&gt;:3:&lt;module&gt;
- Access to &#34;Luke -- I have a father? Yay! Let&#39;s eat cookies together!&#34; (@0x7fe312b71f80) at &lt;ipython-input-58-f38f4c4a3188&gt;:3:&lt;module&gt;
Luke -- I have a father? Yay! Let&#39;s eat cookies together!
- Access to None (@0x55feae7373a0) at &lt;ipython-input-58-f38f4c4a3188&gt;:3:&lt;module&gt;
- Access to None (@0x55feae7373a0) at &lt;ipython-input-58-f38f4c4a3188&gt;:3:&lt;module&gt;
- Access to &lt;built-in function setrwatch&gt; (@0x7fe328099678) at &lt;ipython-input-56-7a0dc9fc43f8&gt;:9:__exit__
- Access to {} (@0x7fe312af3f08) at &lt;ipython-input-56-7a0dc9fc43f8&gt;:9:__exit__
</pre>
</div>
</div>

</div>
</div>

</div>
<div class="cell border-box-sizing text_cell rendered"><div class="prompt input_prompt">
</div><div class="inner_cell">
<div class="text_cell_render border-box-sizing rendered_html">
<p>We also see here the <code>None</code> and <code>{}</code> objects being given to the context manager (see the <code>__enter__</code> method at first, and <code>__exit__</code> at the end).</p>

</div>
</div>
</div>
<div class="cell border-box-sizing text_cell rendered"><div class="prompt input_prompt">
</div><div class="inner_cell">
<div class="text_cell_render border-box-sizing rendered_html">
<hr>
<h2 id="Defining-a-context-manager-to-add-white-noise">Defining a context manager to add white noise<a class="anchor-link" href="#Defining-a-context-manager-to-add-white-noise">&#182;</a></h2><p>Basically, we will do as above, but instead of debug information, a white noise sampled from a Normal distribution (i.e., $\sim \mathcal{N}(0, 1)$) will be <em>added</em> to any number.</p>

</div>
</div>
</div>
<div class="cell border-box-sizing text_cell rendered"><div class="prompt input_prompt">
</div><div class="inner_cell">
<div class="text_cell_render border-box-sizing rendered_html">
<h3 id="Capturing-any-numerical-value">Capturing any numerical value<a class="anchor-link" href="#Capturing-any-numerical-value">&#182;</a></h3><p>To capture both integers and float numbers, the <a href="https://docs.python.org/2/library/numbers.html#numbers.Number"><code>numbers.Number</code></a> abstract class is useful.</p>

</div>
</div>
</div>
<div class="cell border-box-sizing code_cell rendered">
<div class="input">
<div class="prompt input_prompt">In&nbsp;[59]:</div>
<div class="inner_cell">
    <div class="input_area">
<div class=" highlight hl-ipython3"><pre><span></span><span class="kn">from</span> <span class="nn">numbers</span> <span class="k">import</span> <span class="n">Number</span>
</pre></div>

    </div>
</div>
</div>

</div>
<div class="cell border-box-sizing text_cell rendered"><div class="prompt input_prompt">
</div><div class="inner_cell">
<div class="text_cell_render border-box-sizing rendered_html">
<h3 id="Adding-a-white-noise-for-numbers">Adding a white noise for numbers<a class="anchor-link" href="#Adding-a-white-noise-for-numbers">&#182;</a></h3><p>This is very simple.</p>
<p>But I want to be safe, so it will only works if the frame indicate that the number does not come from a file, as previously.</p>

</div>
</div>
</div>
<div class="cell border-box-sizing code_cell rendered">
<div class="input">
<div class="prompt input_prompt">In&nbsp;[60]:</div>
<div class="inner_cell">
    <div class="input_area">
<div class=" highlight hl-ipython3"><pre><span></span><span class="k">def</span> <span class="nf">add_white_noise_to_numbers</span><span class="p">(</span><span class="n">frame</span><span class="p">,</span> <span class="n">obj</span><span class="p">):</span>
    <span class="k">if</span> <span class="nb">isinstance</span><span class="p">(</span><span class="n">obj</span><span class="p">,</span> <span class="n">Number</span><span class="p">):</span>
        <span class="n">info</span> <span class="o">=</span> <span class="n">getframeinfo</span><span class="p">(</span><span class="n">frame</span><span class="p">)</span>
        <span class="k">if</span> <span class="s1">&#39;&lt;stdin&gt;&#39;</span> <span class="ow">in</span> <span class="n">info</span><span class="o">.</span><span class="n">filename</span> <span class="ow">or</span> <span class="s1">&#39;&lt;ipython-&#39;</span> <span class="ow">in</span> <span class="n">info</span><span class="o">.</span><span class="n">filename</span><span class="p">:</span>
            <span class="k">return</span> <span class="n">obj</span> <span class="o">+</span> <span class="n">np</span><span class="o">.</span><span class="n">random</span><span class="o">.</span><span class="n">normal</span><span class="p">()</span>
    <span class="k">return</span> <span class="n">obj</span>
</pre></div>

    </div>
</div>
</div>

</div>
<div class="cell border-box-sizing text_cell rendered"><div class="prompt input_prompt">
</div><div class="inner_cell">
<div class="text_cell_render border-box-sizing rendered_html">
<p>Let us try it out!</p>

</div>
</div>
</div>
<div class="cell border-box-sizing code_cell rendered">
<div class="input">
<div class="prompt input_prompt">In&nbsp;[63]:</div>
<div class="inner_cell">
    <div class="input_area">
<div class=" highlight hl-ipython3"><pre><span></span><span class="n">np</span><span class="o">.</span><span class="n">random</span><span class="o">.</span><span class="n">seed</span><span class="p">(</span><span class="mi">1234</span><span class="p">)</span>
<span class="n">setrwatch</span><span class="p">({})</span>
<span class="n">x</span> <span class="o">=</span> <span class="mi">1234</span>
<span class="nb">print</span><span class="p">(</span><span class="n">x</span><span class="p">)</span>
<span class="n">getrwatch</span><span class="p">()[</span><span class="nb">id</span><span class="p">(</span><span class="n">x</span><span class="p">)]</span> <span class="o">=</span> <span class="n">add_white_noise_to_numbers</span>
<span class="nb">print</span><span class="p">(</span><span class="n">x</span><span class="p">)</span>  <span class="c1"># huhoww, that&#39;s noisy!</span>
<span class="nb">print</span><span class="p">(</span><span class="mi">10</span> <span class="o">*</span> <span class="n">x</span> <span class="o">+</span> <span class="n">x</span> <span class="o">+</span> <span class="n">x</span><span class="o">**</span><span class="mi">2</span><span class="p">)</span>  <span class="c1"># and noise propagate!</span>
<span class="n">setrwatch</span><span class="p">({})</span>
<span class="nb">print</span><span class="p">(</span><span class="n">x</span><span class="p">)</span>
<span class="nb">print</span><span class="p">(</span><span class="mi">10</span> <span class="o">*</span> <span class="n">x</span> <span class="o">+</span> <span class="n">x</span> <span class="o">+</span> <span class="n">x</span><span class="o">**</span><span class="mi">2</span><span class="p">)</span>
</pre></div>

    </div>
</div>
</div>

<div class="output_wrapper">
<div class="output">


<div class="output_area">

    <div class="prompt"></div>


<div class="output_subarea output_stream output_stdout output_text">
<pre>1234
1234.4714351637324
1535547.9958216753
1234
1536330
</pre>
</div>
</div>

</div>
</div>

</div>
<div class="cell border-box-sizing text_cell rendered"><div class="prompt input_prompt">
</div><div class="inner_cell">
<div class="text_cell_render border-box-sizing rendered_html">
<p>It seems to work!
Let's do it for any number then...</p>
<p>... Sadly, it's actually breaking the interpreter, which obviously has to have access to non-noisy constants and numbers to work !</p>
<p>We can lower the risk by only adding noise to <em>complex</em> numbers.
I guess the interpreter doesn't need complex numbers, write?</p>

</div>
</div>
</div>
<div class="cell border-box-sizing code_cell rendered">
<div class="input">
<div class="prompt input_prompt">In&nbsp;[64]:</div>
<div class="inner_cell">
    <div class="input_area">
<div class=" highlight hl-ipython3"><pre><span></span><span class="k">def</span> <span class="nf">add_white_noise_to_complex</span><span class="p">(</span><span class="n">frame</span><span class="p">,</span> <span class="n">obj</span><span class="p">):</span>
    <span class="k">if</span> <span class="nb">isinstance</span><span class="p">(</span><span class="n">obj</span><span class="p">,</span> <span class="nb">complex</span><span class="p">):</span>
        <span class="n">info</span> <span class="o">=</span> <span class="n">getframeinfo</span><span class="p">(</span><span class="n">frame</span><span class="p">)</span>
        <span class="k">if</span> <span class="s1">&#39;&lt;stdin&gt;&#39;</span> <span class="ow">in</span> <span class="n">info</span><span class="o">.</span><span class="n">filename</span> <span class="ow">or</span> <span class="s1">&#39;&lt;ipython-&#39;</span> <span class="ow">in</span> <span class="n">info</span><span class="o">.</span><span class="n">filename</span><span class="p">:</span>
            <span class="k">return</span> <span class="n">obj</span> <span class="o">+</span> <span class="n">np</span><span class="o">.</span><span class="n">random</span><span class="o">.</span><span class="n">normal</span><span class="p">()</span> <span class="o">+</span> <span class="n">np</span><span class="o">.</span><span class="n">random</span><span class="o">.</span><span class="n">normal</span><span class="p">()</span> <span class="o">*</span> <span class="mi">1</span><span class="n">j</span>
    <span class="k">return</span> <span class="n">obj</span>
</pre></div>

    </div>
</div>
</div>

</div>
<div class="cell border-box-sizing code_cell rendered">
<div class="input">
<div class="prompt input_prompt">In&nbsp;[65]:</div>
<div class="inner_cell">
    <div class="input_area">
<div class=" highlight hl-ipython3"><pre><span></span><span class="n">np</span><span class="o">.</span><span class="n">random</span><span class="o">.</span><span class="n">seed</span><span class="p">(</span><span class="mi">1234</span><span class="p">)</span>
<span class="n">setrwatch</span><span class="p">({})</span>
<span class="n">y</span> <span class="o">=</span> <span class="mi">1234</span><span class="n">j</span>
<span class="nb">print</span><span class="p">(</span><span class="n">y</span><span class="p">)</span>
<span class="n">setrwatch</span><span class="p">(</span><span class="n">defaultdict</span><span class="p">(</span><span class="k">lambda</span><span class="p">:</span> <span class="n">add_white_noise_to_complex</span><span class="p">))</span>
<span class="nb">print</span><span class="p">(</span><span class="n">y</span><span class="p">)</span>  <span class="c1"># huhoww, that&#39;s noisy!</span>
<span class="n">setrwatch</span><span class="p">({})</span>
<span class="nb">print</span><span class="p">(</span><span class="n">y</span><span class="p">)</span>
</pre></div>

    </div>
</div>
</div>

<div class="output_wrapper">
<div class="output">


<div class="output_area">

    <div class="prompt"></div>


<div class="output_subarea output_stream output_stdout output_text">
<pre>1234j
(0.47143516373249306+1232.8090243052936j)
1234j
</pre>
</div>
</div>

</div>
</div>

</div>
<div class="cell border-box-sizing text_cell rendered"><div class="prompt input_prompt">
</div><div class="inner_cell">
<div class="text_cell_render border-box-sizing rendered_html">
<p>Awesome!</p>
<blockquote><p>« Now, the real world is non noisy, but the complex one is! »</p>
</blockquote>
<p>That's one sentence I thought I would never say!</p>

</div>
</div>
</div>
<div class="cell border-box-sizing text_cell rendered"><div class="prompt input_prompt">
</div><div class="inner_cell">
<div class="text_cell_render border-box-sizing rendered_html">
<h3 id="WhiteNoiseComplex-context-manager"><code>WhiteNoiseComplex</code> context manager<a class="anchor-link" href="#WhiteNoiseComplex-context-manager">&#182;</a></h3><p>To stay cautious, I only add noise to complex numbers.</p>

</div>
</div>
</div>
<div class="cell border-box-sizing code_cell rendered">
<div class="input">
<div class="prompt input_prompt">In&nbsp;[67]:</div>
<div class="inner_cell">
    <div class="input_area">
<div class=" highlight hl-ipython3"><pre><span></span><span class="k">class</span> <span class="nc">WhiteNoiseComplex</span><span class="p">(</span><span class="nb">object</span><span class="p">):</span>
    <span class="k">def</span> <span class="nf">__init__</span><span class="p">(</span><span class="bp">self</span><span class="p">):</span>
        <span class="k">pass</span>

    <span class="k">def</span> <span class="nf">__enter__</span><span class="p">(</span><span class="bp">self</span><span class="p">):</span>
        <span class="n">setrwatch</span><span class="p">(</span><span class="n">defaultdict</span><span class="p">(</span><span class="k">lambda</span><span class="p">:</span> <span class="n">add_white_noise_to_complex</span><span class="p">))</span>

    <span class="k">def</span> <span class="nf">__exit__</span><span class="p">(</span><span class="bp">self</span><span class="p">,</span> <span class="n">exc_type</span><span class="p">,</span> <span class="n">exc_val</span><span class="p">,</span> <span class="n">exc_tb</span><span class="p">):</span>
        <span class="n">setrwatch</span><span class="p">({})</span>
</pre></div>

    </div>
</div>
</div>

</div>
<div class="cell border-box-sizing text_cell rendered"><div class="prompt input_prompt">
</div><div class="inner_cell">
<div class="text_cell_render border-box-sizing rendered_html">
<p>And it works as expected:</p>

</div>
</div>
</div>
<div class="cell border-box-sizing code_cell rendered">
<div class="input">
<div class="prompt input_prompt">In&nbsp;[69]:</div>
<div class="inner_cell">
    <div class="input_area">
<div class=" highlight hl-ipython3"><pre><span></span><span class="n">np</span><span class="o">.</span><span class="n">random</span><span class="o">.</span><span class="n">seed</span><span class="p">(</span><span class="mi">120193</span><span class="p">)</span>
<span class="nb">print</span><span class="p">(</span><span class="mi">120193</span><span class="p">,</span> <span class="mi">120193</span><span class="n">j</span><span class="p">)</span>
<span class="k">with</span> <span class="n">WhiteNoiseComplex</span><span class="p">():</span>
    <span class="nb">print</span><span class="p">(</span><span class="mi">120193</span><span class="p">,</span> <span class="mi">120193</span><span class="n">j</span><span class="p">)</span>  <span class="c1"># Huhoo, noisy!</span>
<span class="nb">print</span><span class="p">(</span><span class="mi">120193</span><span class="p">,</span> <span class="mi">120193</span><span class="n">j</span><span class="p">)</span>

<span class="nb">print</span><span class="p">(</span><span class="mi">0</span><span class="o">*</span><span class="mi">1</span><span class="n">j</span><span class="p">)</span>
<span class="k">with</span> <span class="n">WhiteNoiseComplex</span><span class="p">():</span>
    <span class="nb">print</span><span class="p">(</span><span class="mi">0</span><span class="o">*</span><span class="mi">1</span><span class="n">j</span><span class="p">)</span>  <span class="c1"># Huhoo, noisy!</span>
<span class="nb">print</span><span class="p">(</span><span class="mi">0</span><span class="o">*</span><span class="mi">1</span><span class="n">j</span><span class="p">)</span>
</pre></div>

    </div>
</div>
</div>

<div class="output_wrapper">
<div class="output">


<div class="output_area">

    <div class="prompt"></div>


<div class="output_subarea output_stream output_stdout output_text">
<pre>120193 120193j
120193 (-1.4079099824891002+120192.24863460941j)
120193 120193j
0j
(1.5232719431619033-1.3234485447145865j)
0j
</pre>
</div>
</div>

</div>
</div>

</div>
<div class="cell border-box-sizing text_cell rendered"><div class="prompt input_prompt">
</div><div class="inner_cell">
<div class="text_cell_render border-box-sizing rendered_html">
<hr>
<h2 id="Defining-a-generic-noisy-context-manager">Defining a generic <code>noisy</code> context manager<a class="anchor-link" href="#Defining-a-generic-noisy-context-manager">&#182;</a></h2><p>This will be a very simple change from the previous one, by letting the <code>Noisy</code> class accept <em>any</em> noisy function, which takes <code>obj</code> and return a noisy version of <code>obj</code>, only for complex-valued objects.</p>

</div>
</div>
</div>
<div class="cell border-box-sizing code_cell rendered">
<div class="input">
<div class="prompt input_prompt">In&nbsp;[71]:</div>
<div class="inner_cell">
    <div class="input_area">
<div class=" highlight hl-ipython3"><pre><span></span><span class="k">class</span> <span class="nc">Noisy</span><span class="p">(</span><span class="nb">object</span><span class="p">):</span>
    <span class="k">def</span> <span class="nf">__init__</span><span class="p">(</span><span class="bp">self</span><span class="p">,</span> <span class="n">noise</span><span class="p">):</span>
        <span class="k">def</span> <span class="nf">add_white_noise_to_complex</span><span class="p">(</span><span class="n">frame</span><span class="p">,</span> <span class="n">obj</span><span class="p">):</span>
            <span class="k">if</span> <span class="nb">isinstance</span><span class="p">(</span><span class="n">obj</span><span class="p">,</span> <span class="nb">complex</span><span class="p">):</span>
                <span class="n">info</span> <span class="o">=</span> <span class="n">getframeinfo</span><span class="p">(</span><span class="n">frame</span><span class="p">)</span>
                <span class="k">if</span> <span class="s1">&#39;&lt;stdin&gt;&#39;</span> <span class="ow">in</span> <span class="n">info</span><span class="o">.</span><span class="n">filename</span> <span class="ow">or</span> <span class="s1">&#39;&lt;ipython-&#39;</span> <span class="ow">in</span> <span class="n">info</span><span class="o">.</span><span class="n">filename</span><span class="p">:</span>
                    <span class="k">return</span> <span class="n">noise</span><span class="p">(</span><span class="n">obj</span><span class="p">)</span>
            <span class="k">return</span> <span class="n">obj</span>

        <span class="bp">self</span><span class="o">.</span><span class="n">rwatch</span> <span class="o">=</span> <span class="n">add_white_noise_to_complex</span>

    <span class="k">def</span> <span class="nf">__enter__</span><span class="p">(</span><span class="bp">self</span><span class="p">):</span>
        <span class="n">setrwatch</span><span class="p">(</span><span class="n">defaultdict</span><span class="p">(</span><span class="k">lambda</span><span class="p">:</span> <span class="bp">self</span><span class="o">.</span><span class="n">rwatch</span><span class="p">))</span>

    <span class="k">def</span> <span class="nf">__exit__</span><span class="p">(</span><span class="bp">self</span><span class="p">,</span> <span class="n">exc_type</span><span class="p">,</span> <span class="n">exc_val</span><span class="p">,</span> <span class="n">exc_tb</span><span class="p">):</span>
        <span class="n">setrwatch</span><span class="p">({})</span>
</pre></div>

    </div>
</div>
</div>

</div>
<div class="cell border-box-sizing code_cell rendered">
<div class="input">
<div class="prompt input_prompt">In&nbsp;[73]:</div>
<div class="inner_cell">
    <div class="input_area">
<div class=" highlight hl-ipython3"><pre><span></span><span class="nb">print</span><span class="p">(</span><span class="mi">1</span><span class="n">j</span><span class="p">)</span>
<span class="k">with</span> <span class="n">Noisy</span><span class="p">(</span><span class="k">lambda</span> <span class="n">obj</span><span class="p">:</span> <span class="n">obj</span> <span class="o">+</span> <span class="n">np</span><span class="o">.</span><span class="n">random</span><span class="o">.</span><span class="n">normal</span><span class="p">()):</span>
    <span class="nb">print</span><span class="p">(</span><span class="mi">1</span><span class="n">j</span><span class="p">)</span>
<span class="nb">print</span><span class="p">(</span><span class="mi">1</span><span class="n">j</span><span class="p">)</span>
</pre></div>

    </div>
</div>
</div>

<div class="output_wrapper">
<div class="output">


<div class="output_area">

    <div class="prompt"></div>


<div class="output_subarea output_stream output_stdout output_text">
<pre>1j
(0.5850862095293242+1j)
1j
</pre>
</div>
</div>

</div>
</div>

</div>
<div class="cell border-box-sizing code_cell rendered">
<div class="input">
<div class="prompt input_prompt">In&nbsp;[74]:</div>
<div class="inner_cell">
    <div class="input_area">
<div class=" highlight hl-ipython3"><pre><span></span><span class="nb">print</span><span class="p">(</span><span class="mi">1</span><span class="n">j</span><span class="p">)</span>
<span class="k">with</span> <span class="n">Noisy</span><span class="p">(</span><span class="k">lambda</span> <span class="n">obj</span><span class="p">:</span> <span class="n">obj</span> <span class="o">*</span> <span class="n">np</span><span class="o">.</span><span class="n">random</span><span class="o">.</span><span class="n">normal</span><span class="p">()):</span>
    <span class="nb">print</span><span class="p">(</span><span class="mi">1</span><span class="n">j</span><span class="p">)</span>
<span class="nb">print</span><span class="p">(</span><span class="mi">1</span><span class="n">j</span><span class="p">)</span>
</pre></div>

    </div>
</div>
</div>

<div class="output_wrapper">
<div class="output">


<div class="output_area">

    <div class="prompt"></div>


<div class="output_subarea output_stream output_stdout output_text">
<pre>1j
(-0-0.582727025433589j)
1j
</pre>
</div>
</div>

</div>
</div>

</div>
<div class="cell border-box-sizing code_cell rendered">
<div class="input">
<div class="prompt input_prompt">In&nbsp;[75]:</div>
<div class="inner_cell">
    <div class="input_area">
<div class=" highlight hl-ipython3"><pre><span></span><span class="nb">print</span><span class="p">(</span><span class="mi">1</span><span class="n">j</span><span class="p">)</span>
<span class="k">with</span> <span class="n">Noisy</span><span class="p">(</span><span class="k">lambda</span> <span class="n">obj</span><span class="p">:</span> <span class="n">obj</span> <span class="o">+</span> <span class="n">np</span><span class="o">.</span><span class="n">random</span><span class="o">.</span><span class="n">normal</span><span class="p">(</span><span class="mi">10</span><span class="p">,</span> <span class="mf">0.1</span><span class="p">)</span> <span class="o">+</span> <span class="n">np</span><span class="o">.</span><span class="n">random</span><span class="o">.</span><span class="n">normal</span><span class="p">(</span><span class="mi">10</span><span class="p">,</span> <span class="mf">0.1</span><span class="p">)</span> <span class="o">*</span> <span class="mi">1</span><span class="n">j</span><span class="p">):</span>
    <span class="nb">print</span><span class="p">(</span><span class="mi">1</span><span class="n">j</span><span class="p">)</span>
<span class="nb">print</span><span class="p">(</span><span class="mi">1</span><span class="n">j</span><span class="p">)</span>
</pre></div>

    </div>
</div>
</div>

<div class="output_wrapper">
<div class="output">


<div class="output_area">

    <div class="prompt"></div>


<div class="output_subarea output_stream output_stdout output_text">
<pre>1j
(10.101006520511199+11.184818402012283j)
1j
</pre>
</div>
</div>

</div>
</div>

</div>
<div class="cell border-box-sizing text_cell rendered"><div class="prompt input_prompt">
</div><div class="inner_cell">
<div class="text_cell_render border-box-sizing rendered_html">
<hr>
<h2 id="Conclusion">Conclusion<a class="anchor-link" href="#Conclusion">&#182;</a></h2><p>Clearly, that was a BAD idea, and not so useful.</p>
<p>But it was interesting!</p>
<p>I don't have any idea of a context where this could be useful, but still!</p>

</div>
</div>
</div>
 


    </div>
  </div>

  </div>


  
    <footer class="footer hidden-print">
      <div class="container">
        <div class="col-md-4">
          <p>
            This website does not host notebooks, it only renders notebooks
            available on other websites.
          </p>
        </div>

        <div class="col-md-4">
          <p>
            Delivered by <a href="https://www.fastly.com/">Fastly</a>,
            Rendered by <a href="https://developer.rackspace.com/?nbviewer=awesome">Rackspace</a>
          </p>
          <p>
            nbviewer GitHub <a href="https://github.com/jupyter/nbviewer">repository</a>.
          </p>
        </div>

        <div class="col-md-4">
          
  
            
              <p>
                nbviewer version:
                <a href="https://github.com/jupyter/nbviewer/commit/07b0e305b3254e2280b29f20ceb96c058db2f775">
                  07b0e30
                </a>
              </p>
            
          
  
  <p>
    nbconvert version: <a href="https://github.com/jupyter/nbconvert/releases/tag/5.6.0">
      5.6.0
    </a>
  </p>
  

          
  
  
  <p>
    Rendered
    <span class='date' data-date='Mon, 27 Jan 2020 13:28:02 UTC' title='Mon, 27 Jan 2020 13:28:02 UTC'>(Mon, 27 Jan 2020 13:28:02 UTC)</span>
  </p>
  

        </div>
      </div>
    </footer>
  

  <script src="/static/components/bootstrap/js/bootstrap.min.js?v=5869c96cc8f19086aee625d670d741f9"></script>
  <script src="/static/components/headroom.js/dist/headroom.min.js?v=b0a311ea668f8e768ea375f4a7abb81c"></script>
  <script src="/static/components/headroom.js/dist/jQuery.headroom.min.js?v=f3a1bae118315d0c234afc74dc6aab71"></script>

  
  
  <script>
    $(function(){ $("#menubar").headroom({
      tolerance: 5,
      offset: 205,
      classes: {
        initial: "animated",
        pinned: "slideInDown",
        unpinned: "slideOutUp"
      }
    })});
  </script>


  
  <script>
    (function(i,s,o,g,r,a,m){i['GoogleAnalyticsObject']=r;i[r]=i[r]||function(){
      (i[r].q=i[r].q||[]).push(arguments)},i[r].l=1*new Date();a=s.createElement(o),
      m=s.getElementsByTagName(o)[0];a.async=1;a.src=g;m.parentNode.insertBefore(a,m)
    })(window,document,'script','https://www.google-analytics.com/analytics.js','ga');
    ga('create', 'UA-52617120-5', 'auto',
       {'storage': 'none'});
    ga('set', 'anonymizeIp', true);
    ga('send', 'pageview');
  </script>
  
  <script>
    require({
        paths: {
          moment: "/static/components/moment/min/moment.min.js?v=89f87298ad94aa1e6b92f42eb66da043"
        }
      }, ["moment"], function(moment){
      var date = $("footer .date"),
        m = moment(new Date(date.data('date'))),
        update = function(){ date.text(m.fromNow()); };
      setInterval(update, 61*1000);
      update();
      var w = $(window).scroll(function(event){
        $("body").toggleClass("scrolled", w.scrollTop() > 0);
      });
    });
  </script>

  <!--NEW RELIC Stop Perf Measurement-->
  
  <!--NEW RELIC End-->
</body>
</html>