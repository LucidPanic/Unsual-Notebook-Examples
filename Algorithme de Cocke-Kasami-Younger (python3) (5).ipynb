








<!DOCTYPE html>
<html lang="en">

<head>
  <meta charset="utf-8">
  <title>Jupyter Notebook Viewer</title>
  <meta name="viewport" content="width=device-width, initial-scale=1.0">
  <meta name="description" content="">
  <meta name="author" content="">
  
  <meta name="robots" content="noindex,nofollow">
  

  <!--NEW RELIC Start Perf Measurement-->
  
  <!--NREND-->

  <!-- Le styles -->
  <link href="/static/build/styles.css?v=7fe30404aaeedb40bf592c91e1d25a26" rel="stylesheet">

  <!-- Le HTML5 shim, for IE6-8 support of HTML5 elements -->
  <!--[if lt IE 9]>
    <script src="http://html5shim.googlecode.com/svn/trunk/html5.js"></script>
  <![endif]-->

  <!-- Le fav and touch icons -->
  <link rel="shortcut icon" href="/static/ico/ipynb_icon_16x16.png">
  <link rel="apple-touch-icon-precomposed" sizes="144x144"
        href="/static/ico/apple-touch-icon-144-precomposed.png?v=5a3c9ede93e2a8b8ea9e3f8f3da1a905">
  <link rel="apple-touch-icon-precomposed" sizes="114x114"
        href="/static/ico/apple-touch-icon-114-precomposed.png?v=45d86fc8f24dc00638035e1dd7a6d898">
  <link rel="apple-touch-icon-precomposed" sizes="72x72"
        href="/static/ico/apple-touch-icon-72-precomposed.png?v=540b5eb0f3cfd25f1439d1c9bd30e15f">
  <link rel="apple-touch-icon-precomposed"
        href="/static/ico/apple-touch-icon-57-precomposed.png?v=225f0590e187e1458625654f10a28f56">
  
  

  

  
  <meta name="twitter:card" content="summary">
  <meta name="twitter:title" content="Notebook on nbviewer">
  <meta name="twitter:description" content="Check out this Jupyter notebook!">

  
  <meta name="twitter:domain" content="nbviewer.jupyter.org">
  <meta name="twitter:image:src" content="http://ipython.org/ipython-doc/dev/_images/ipynb_icon_128x128.png">

  
    <link href="/static/build/notebook.css?v=b71b4a780ae775fd48f0eead7512c5dd" rel="stylesheet">
  

  

  
    <script src="https://cdnjs.cloudflare.com/ajax/libs/mathjax/2.7.1/MathJax.js?config=TeX-AMS_HTML" type="text/javascript">
    </script>
    <script type="text/javascript">
      init_mathjax = function() {
        if (window.MathJax) {
          // MathJax loaded
          MathJax.Hub.Config({
            TeX: {
              equationNumbers: {
                autoNumber: "AMS",
                useLabelIds: true
              }
            },
            tex2jax: {
              inlineMath: [ ['$','$'], ["\\(","\\)"] ],
              displayMath: [ ['$$','$$'], ["\\[","\\]"] ],
              processEscapes: true,
              processEnvironments: true
            },
            displayAlign: 'center',
            "HTML-CSS": {
              styles: {'.MathJax_Display': {"margin": 0}},
              linebreaks: { automatic: true }
            }
          });
          MathJax.Hub.Queue(["Typeset", MathJax.Hub]);
        }
      }
      init_mathjax();
    </script>
  

  
    <script>
      (function() {
        function addWidgetsRenderer() {
          var mimeElement = document.querySelector('script[type="application/vnd.jupyter.widget-view+json"]');
          var scriptElement = document.createElement('script');
          var widgetRendererSrc = 'https://unpkg.com/@jupyter-widgets/html-manager@0.15/dist/embed-amd.js';
          var widgetState;

          try {
            widgetState = mimeElement && JSON.parse(mimeElement.innerHTML);

            if (widgetState && (widgetState.version_major < 2 || !widgetState.version_major)) {
              widgetRendererSrc = 'https://unpkg.com/jupyter-js-widgets@2.1/dist/embed.js';
            }
          } catch(e) {}

          scriptElement.src = widgetRendererSrc;
          document.body.appendChild(scriptElement);
        }

        document.addEventListener('DOMContentLoaded', addWidgetsRenderer);
      }());
    </script>
  

</head>

<body class="nbviewer">

  <!-- These are loaded at the top of the body so they are available to
       notebook cells when they are loaded below. -->
  <script src="/static/components/jquery/dist/jquery.min.js?v=220afd743d9e9643852e31a135a9f3ae"></script>
  <script src="/static/components/requirejs/require.js?v=6da8be361b9ee26c5e721e76c6d4afce"></script>
  <script src="/static/components/moment/min/moment.min.js?v=89f87298ad94aa1e6b92f42eb66da043"></script>
<!-- Navbar
================================================== -->
  <nav id="menubar" class="navbar navbar-default navbar-fixed-top" data-spy="affix">
    <div class="container">
      <div class="navbar-header">
        <button type="button" class="navbar-toggle collapsed" data-toggle="collapse" data-target=".navbar-collapse">
          <span class="sr-only">Toggle navigation</span>
          <i class="fa fa-bars"></i>
        </button>
        <a class="navbar-brand" href="/">
          <img src="/static/img/nav_logo.svg?v=479cefe8d932fb14a67b93911b97d70f" width="159"/>
        </a>
      </div>

      <div class="collapse navbar-collapse">
        <ul class="nav navbar-nav navbar-right">
          <li>
            <a class="active" href="https://jupyter.org">JUPYTER</a>
          </li>
          <li>
    <a href="/faq" title="FAQ" >
      
        <span>FAQ</span>
      
    </a>
  </li>

          
  
    
  
    
      
        <li>
    <a href="script/github/Naereen/notebooks/blob/master/agreg/Algorithme%20de%20Cocke-Kasami-Younger%20%28python3%29.ipynb" title="View as Code" >
      <span class="fa fa-code fa-2x menu-icon"></span>
      <span class="menu-text">View as Code</span>
    </a>
  </li>
      
    
  

  
    <li>
    <a href="#" title="Python 3 Kernel" >
      <span class="fa fa-server fa-2x menu-icon"></span>
      <span class="menu-text">Python 3 Kernel</span>
    </a>
  </li>
  

  
    <li>
    <a href="https://github.com/Naereen/notebooks/blob/master/agreg/Algorithme%20de%20Cocke-Kasami-Younger%20%28python3%29.ipynb" title="View on GitHub" >
      <span class="fa fa-github fa-2x menu-icon"></span>
      <span class="menu-text">View on GitHub</span>
    </a>
  </li>
  

  
    <li>
    <a href="https://mybinder.org/v2/gh/Naereen/notebooks/master?filepath=agreg/Algorithme%20de%20Cocke-Kasami-Younger%20%28python3%29.ipynb" title="Execute on Binder" >
      <span class="fa fa-icon-binder fa-2x menu-icon"></span>
      <span class="menu-text">Execute on Binder</span>
    </a>
  </li>
  

  <li>
    <a href="https://raw.githubusercontent.com/Naereen/notebooks/master/agreg/Algorithme%20de%20Cocke-Kasami-Younger%20%28python3%29.ipynb" title="Download Notebook" download>
      <span class="fa fa-download fa-2x menu-icon"></span>
      <span class="menu-text">Download Notebook</span>
    </a>
  </li>

        </ul>
      </div><!-- /.navbar-collapse -->
      
      
    </div>
  </nav>

  <div class="container container-main">
    
  
  <ol class="breadcrumb">
    
      <li>
        <a href="/github/Naereen/notebooks/tree/master">notebooks</a>
      </li>
    
      <li>
        <a href="/github/Naereen/notebooks/tree/master/agreg">agreg</a>
      </li>
    
  </ol>
  
  <div id="notebook">
    <div id="notebook-container">
      <div class="cell border-box-sizing text_cell rendered"><div class="prompt input_prompt">
</div><div class="inner_cell">
<div class="text_cell_render border-box-sizing rendered_html">
<h1 id="Table-of-Contents">Table of Contents<a class="anchor-link" href="#Table-of-Contents">&#182;</a></h1><p><p><div class="lev1 toc-item"><a href="#Table-des-matières" data-toc-modified-id="Table-des-matières-1"><span class="toc-item-num">1&nbsp;&nbsp;</span>Table des matières</a></div><div class="lev1 toc-item"><a href="#1.-Agrégation-externe-de-mathématiques" data-toc-modified-id="1.-Agrégation-externe-de-mathématiques-2"><span class="toc-item-num">2&nbsp;&nbsp;</span>1. Agrégation externe de mathématiques</a></div><div class="lev2 toc-item"><a href="#1.1-Leçon-orale,-option-informatique" data-toc-modified-id="1.1-Leçon-orale,-option-informatique-21"><span class="toc-item-num">2.1&nbsp;&nbsp;</span>1.1 Leçon orale, option informatique</a></div><div class="lev4 toc-item"><a href="#Feedbacks?" data-toc-modified-id="Feedbacks?-2101"><span class="toc-item-num">2.1.0.1&nbsp;&nbsp;</span>Feedbacks?</a></div><div class="lev1 toc-item"><a href="#2.-Algorithme-de-Cocke-Kasami-Younger" data-toc-modified-id="2.-Algorithme-de-Cocke-Kasami-Younger-3"><span class="toc-item-num">3&nbsp;&nbsp;</span>2. Algorithme de Cocke-Kasami-Younger</a></div><div class="lev3 toc-item"><a href="#2.0.1-Implémentation-d'un-développement-pour-les-leçons-906,-907,-910,-923." data-toc-modified-id="2.0.1-Implémentation-d'un-développement-pour-les-leçons-906,-907,-910,-923.-301"><span class="toc-item-num">3.0.1&nbsp;&nbsp;</span>2.0.1 Implémentation d'un développement pour les leçons 906, 907, 910, 923.</a></div><div class="lev3 toc-item"><a href="#2.0.2-Références-:" data-toc-modified-id="2.0.2-Références-:-302"><span class="toc-item-num">3.0.2&nbsp;&nbsp;</span>2.0.2 Références :</a></div><div class="lev2 toc-item"><a href="#2.1-Classes-pour-répresenter-une-grammaire" data-toc-modified-id="2.1-Classes-pour-répresenter-une-grammaire-31"><span class="toc-item-num">3.1&nbsp;&nbsp;</span>2.1 Classes pour répresenter une grammaire</a></div><div class="lev3 toc-item"><a href="#2.1.1-Du-typage-en-Python-?!" data-toc-modified-id="2.1.1-Du-typage-en-Python-?!-311"><span class="toc-item-num">3.1.1&nbsp;&nbsp;</span>2.1.1 Du typage en Python ?!</a></div><div class="lev3 toc-item"><a href="#2.1.2-La-classe-Grammaire" data-toc-modified-id="2.1.2-La-classe-Grammaire-312"><span class="toc-item-num">3.1.2&nbsp;&nbsp;</span>2.1.2 La classe <code>Grammaire</code></a></div><div class="lev3 toc-item"><a href="#2.1.3-Premier-exemple-de-grammaire-(non-Chomsky)" data-toc-modified-id="2.1.3-Premier-exemple-de-grammaire-(non-Chomsky)-313"><span class="toc-item-num">3.1.3&nbsp;&nbsp;</span>2.1.3 Premier exemple de grammaire (non-Chomsky)</a></div><div class="lev3 toc-item"><a href="#2.1.4-Second-exemple-de-grammaire-(non-Chomsky)" data-toc-modified-id="2.1.4-Second-exemple-de-grammaire-(non-Chomsky)-314"><span class="toc-item-num">3.1.4&nbsp;&nbsp;</span>2.1.4 Second exemple de grammaire (non-Chomsky)</a></div><div class="lev3 toc-item"><a href="#2.1.5-Dernier-exemple-de-grammaire" data-toc-modified-id="2.1.5-Dernier-exemple-de-grammaire-315"><span class="toc-item-num">3.1.5&nbsp;&nbsp;</span>2.1.5 Dernier exemple de grammaire</a></div><div class="lev2 toc-item"><a href="#2.2-Vérifier-qu'une-grammaire-est-bien-formée" data-toc-modified-id="2.2-Vérifier-qu'une-grammaire-est-bien-formée-32"><span class="toc-item-num">3.2&nbsp;&nbsp;</span>2.2 Vérifier qu'une grammaire est bien formée</a></div><div class="lev2 toc-item"><a href="#2.3-Vérifier-qu'une-grammaire-est-en-forme-normale-de-Chomsky" data-toc-modified-id="2.3-Vérifier-qu'une-grammaire-est-en-forme-normale-de-Chomsky-33"><span class="toc-item-num">3.3&nbsp;&nbsp;</span>2.3 Vérifier qu'une grammaire est en forme normale de Chomsky</a></div><div class="lev2 toc-item"><a href="#2.4-(enfin)-L'algorithme-de-Cocke-Kasami-Younger" data-toc-modified-id="2.4-(enfin)-L'algorithme-de-Cocke-Kasami-Younger-34"><span class="toc-item-num">3.4&nbsp;&nbsp;</span>2.4 (enfin) L'algorithme de Cocke-Kasami-Younger</a></div><div class="lev2 toc-item"><a href="#2.5-Exemples" data-toc-modified-id="2.5-Exemples-35"><span class="toc-item-num">3.5&nbsp;&nbsp;</span>2.5 Exemples</a></div><div class="lev3 toc-item"><a href="#2.5.1-Avec-$G_3$" data-toc-modified-id="2.5.1-Avec-$G_3$-351"><span class="toc-item-num">3.5.1&nbsp;&nbsp;</span>2.5.1 Avec <span class="MathJax_Preview" style="color: inherit;"><span class="MJXp-math" id="MJXp-Span-545"><span class="MJXp-msubsup" id="MJXp-Span-546"><span class="MJXp-mi MJXp-italic" id="MJXp-Span-547" style="margin-right: 0.05em;">G</span><span class="MJXp-mn MJXp-script" id="MJXp-Span-548" style="vertical-align: -0.4em;">3</span></span></span></span><script type="math/tex" id="MathJax-Element-96">G_3</script></a></div><div class="lev3 toc-item"><a href="#2.5.2-Avec-$G_6$" data-toc-modified-id="2.5.2-Avec-$G_6$-352"><span class="toc-item-num">3.5.2&nbsp;&nbsp;</span>2.5.2 Avec <span class="MathJax_Preview" style="color: inherit;"><span class="MJXp-math" id="MJXp-Span-556"><span class="MJXp-msubsup" id="MJXp-Span-557"><span class="MJXp-mi MJXp-italic" id="MJXp-Span-558" style="margin-right: 0.05em;">G</span><span class="MJXp-mn MJXp-script" id="MJXp-Span-559" style="vertical-align: -0.4em;">6</span></span></span></span><script type="math/tex" id="MathJax-Element-98">G_6</script></a></div><div class="lev2 toc-item"><a href="#2.6-Mise-en-forme-normale-de-Chomsky-(bonus)" data-toc-modified-id="2.6-Mise-en-forme-normale-de-Chomsky-(bonus)-36"><span class="toc-item-num">3.6&nbsp;&nbsp;</span>2.6 Mise en forme normale de Chomsky <em>(bonus)</em></a></div><div class="lev3 toc-item"><a href="#2.6.1-Exemple-pour-$G_1$" data-toc-modified-id="2.6.1-Exemple-pour-$G_1$-361"><span class="toc-item-num">3.6.1&nbsp;&nbsp;</span>2.6.1 Exemple pour <span class="MathJax_Preview">G_1</span><script type="math/tex">G_1</script></a></div><div class="lev3 toc-item"><a href="#2.6.2-Exemple-pour-$G_6$" data-toc-modified-id="2.6.2-Exemple-pour-$G_6$-362"><span class="toc-item-num">3.6.2&nbsp;&nbsp;</span>2.6.2 Exemple pour <span class="MathJax_Preview">G_6</span><script type="math/tex">G_6</script></a></div></p>

</div>
</div>
</div>
<div class="cell border-box-sizing text_cell rendered"><div class="prompt input_prompt">
</div><div class="inner_cell">
<div class="text_cell_render border-box-sizing rendered_html">
<h1 id="Table-des-mati&#232;res">Table des mati&#232;res<a class="anchor-link" href="#Table-des-mati&#232;res">&#182;</a></h1><ul>
<li><a href="#1.-Agrégation-externe-de-mathématiques">1. Agrégation externe de mathématiques</a><ul>
<li><a href="#1.1-Leçon-orale,-option-informatique">1.1 Leçon orale, option informatique</a></li>
</ul>
</li>
<li><a href="#2.-Algorithme-de-Cocke-Kasami-Younger">2. Algorithme de Cocke-Kasami-Younger</a><ul>
<li>&nbsp;<ul>
<li><a href="#2.0.1-Implémentation-d&#39;un-développement-pour-les-leçons-906,-907,-910,-923.">2.0.1 Implémentation d'un développement pour les leçons 906, 907, 910, 923.</a></li>
<li><a href="#2.0.2-Références-:">2.0.2 Références :</a></li>
</ul>
</li>
<li><a href="#2.1-Classes-pour-répresenter-une-grammaire">2.1 Classes pour répresenter une grammaire</a><ul>
<li><a href="#2.1.1-Du-typage-en-Python-?!">2.1.1 Du typage en Python ?!</a></li>
<li><a href="#2.1.2-La-classe-Grammaire">2.1.2 La classe <code>Grammaire</code></a></li>
<li><a href="#2.1.3-Premier-exemple-de-grammaire-%28non-Chomsky%29">2.1.3 Premier exemple de grammaire (non-Chomsky)</a></li>
<li><a href="#2.1.4-Second-exemple-de-grammaire-%28non-Chomsky%29">2.1.4 Second exemple de grammaire (non-Chomsky)</a></li>
<li><a href="#2.1.5-Dernier-exemple-de-grammaire">2.1.5 Dernier exemple de grammaire</a></li>
</ul>
</li>
<li><a href="#2.2-Vérifier-qu&#39;une-grammaire-est-bien-formée">2.2 Vérifier qu'une grammaire est bien formée</a></li>
<li><a href="#2.3-Vérifier-qu&#39;une-grammaire-est-en-forme-normale-de-Chomsky">2.3 Vérifier qu'une grammaire est en forme normale de Chomsky</a></li>
<li><a href="#2.4-%28enfin%29-L&#39;algorithme-de-Cocke-Kasami-Younger">2.4 (enfin) L'algorithme de Cocke-Kasami-Younger</a></li>
<li><a href="#2.5-Exemples">2.5 Exemples</a><ul>
<li><a href="#2.5.1-Avec-$G_3$">2.5.1 Avec $G_3$</a></li>
<li><a href="#2.5.2-Avec-$G_6$">2.5.2 Avec $G_6$</a></li>
</ul>
</li>
<li><a href="#2.6-Mise-en-forme-normale-de-Chomsky-*%28bonus%29*">2.6 Mise en forme normale de Chomsky <em>(bonus)</em></a><ul>
<li><a href="#2.6.1-Exemple-pour-$G_1$">2.6.1 Exemple pour $G_1$</a></li>
<li><a href="#2.6.2-Exemple-pour-$G_6$">2.6.2 Exemple pour $G_6$</a></li>
</ul>
</li>
</ul>
</li>
</ul>

</div>
</div>
</div>
<div class="cell border-box-sizing text_cell rendered"><div class="prompt input_prompt">
</div><div class="inner_cell">
<div class="text_cell_render border-box-sizing rendered_html">
<h1 id="1.-Agr&#233;gation-externe-de-math&#233;matiques">1. Agr&#233;gation externe de math&#233;matiques<a class="anchor-link" href="#1.-Agr&#233;gation-externe-de-math&#233;matiques">&#182;</a></h1>
</div>
</div>
</div>
<div class="cell border-box-sizing text_cell rendered"><div class="prompt input_prompt">
</div><div class="inner_cell">
<div class="text_cell_render border-box-sizing rendered_html">
<h2 id="1.1-Le&#231;on-orale,-option-informatique">1.1 Le&#231;on orale, option informatique<a class="anchor-link" href="#1.1-Le&#231;on-orale,-option-informatique">&#182;</a></h2>
</div>
</div>
</div>
<div class="cell border-box-sizing text_cell rendered"><div class="prompt input_prompt">
</div><div class="inner_cell">
<div class="text_cell_render border-box-sizing rendered_html">
<blockquote><ul>
<li>Ce <a href="https://jupyter.org/">notebook Jupyter</a> est une implémentation d'un algorithme constituant un développement pour l'option informatique de l'agrégation externe de mathématiques.</li>
<li>Il s'agit de l'<a href="https://fr.wikipedia.org/wiki/Algorithme_de_Cocke-Younger-Kasami">algorithme de Cocke-Kasami-Younger</a>.</li>
<li>Cette implémentation (partielle) a été rédigée par <a href="http://perso.crans.org/besson/">Lilian Besson</a> (<a href="https://github.com/Naereen/">sur GitHub ?</a>, <a href="https://bitbucket.org/lbesson">sur Bitbucket ?</a>), et <a href="https://github.com/Naereen/notebooks/blob/master/agreg/Algorithme%20de%20Cocke-Kasami-Younger%20%28python3%29.ipynb">est open-source</a>.</li>
</ul>
<h4 id="Feedbacks?">Feedbacks?<a class="anchor-link" href="#Feedbacks?">&#182;</a></h4><ul>
<li>Vous avez trouvé un bug ? → <a href="https://github.com/Naereen/notebooks/issues/new">Signalez-le moi svp !</a>, merci d'avance.</li>
<li>Vous avez une question ? → <a href="https://github.com/Naereen/ama.fr">Posez la svp !</a> <a href="https://GitHub.com/Naereen/ama.fr"><img src="https://img.shields.io/badge/Demandez%20moi-n&#39;%20importe%20quoi-1abc9c.svg" alt="Demandez moi n&#39;importe quoi !"></a></li>
</ul>
</blockquote>
<hr>

</div>
</div>
</div>
<div class="cell border-box-sizing text_cell rendered"><div class="prompt input_prompt">
</div><div class="inner_cell">
<div class="text_cell_render border-box-sizing rendered_html">
<h1 id="2.-Algorithme-de-Cocke-Kasami-Younger">2. Algorithme de Cocke-Kasami-Younger<a class="anchor-link" href="#2.-Algorithme-de-Cocke-Kasami-Younger">&#182;</a></h1>
</div>
</div>
</div>
<div class="cell border-box-sizing text_cell rendered"><div class="prompt input_prompt">
</div><div class="inner_cell">
<div class="text_cell_render border-box-sizing rendered_html">
<h3 id="2.0.1-Impl&#233;mentation-d'un-d&#233;veloppement-pour-les-le&#231;ons-906,-907,-910,-923.">2.0.1 Impl&#233;mentation d'un d&#233;veloppement pour les le&#231;ons 906, 907, 910, 923.<a class="anchor-link" href="#2.0.1-Impl&#233;mentation-d'un-d&#233;veloppement-pour-les-le&#231;ons-906,-907,-910,-923.">&#182;</a></h3>
</div>
</div>
</div>
<div class="cell border-box-sizing text_cell rendered"><div class="prompt input_prompt">
</div><div class="inner_cell">
<div class="text_cell_render border-box-sizing rendered_html">
<p>L'algorithme de Cocke-Kasami-Younger (CYK) permet de résoudre le problème du mot en temps $\mathcal{O}(|w|^3)$, par programmation dynamique.
La grammaire $G$ doit déjà avoir été mise en forme de <a href="https://fr.wikipedia.org/wiki/Forme_normale_de_Chomsky">forme normale de Chomsky</a>, ce qui prend un temps $\mathcal{O}(|G|^2)$ et produit une grammaire équivalente $G'$ de taille $\mathcal{O}(|G|^2)$ en partant de $G$ (qui doit être bien formée).</p>

</div>
</div>
</div>
<div class="cell border-box-sizing text_cell rendered"><div class="prompt input_prompt">
</div><div class="inner_cell">
<div class="text_cell_render border-box-sizing rendered_html">
<h3 id="2.0.2-R&#233;f&#233;rences-:">2.0.2 R&#233;f&#233;rences :<a class="anchor-link" href="#2.0.2-R&#233;f&#233;rences-:">&#182;</a></h3>
</div>
</div>
</div>
<div class="cell border-box-sizing text_cell rendered"><div class="prompt input_prompt">
</div><div class="inner_cell">
<div class="text_cell_render border-box-sizing rendered_html">
<ul>
<li><a href="https://fr.wikipedia.org/wiki/Algorithme_de_Cocke-Younger-Kasami">Cocke-Kasami-Younger sur Wikipedia</a>,</li>
<li>Bien traité dans <a href="https://catalogue.ens-cachan.fr/cgi-bin/koha/opac-detail.pl?biblionumber=23694">"Hopcroft, Ullman", Ch7.4.4, p298</a>,</li>
<li>Esquissé dans <a href="https://catalogue.ens-cachan.fr/cgi-bin/koha/opac-detail.pl?biblionumber=41719">"Carton", Ex4.7 Fig4.2 p170</a>,</li>
<li><a href="http://perso.eleves.ens-rennes.fr/~tpier758/agreg/dvpt/info/CYK.pdf">Développement tapé en PDF par Theo Pierron (2014)</a>,</li>
<li><a href="http://pageperso.lif.univ-mrs.fr/~alexis.nasr/Ens/M2/pcfg.pdf">Ces slides d'un cours sur les langages et les grammaires</a>.</li>
</ul>
<hr>

</div>
</div>
</div>
<div class="cell border-box-sizing text_cell rendered"><div class="prompt input_prompt">
</div><div class="inner_cell">
<div class="text_cell_render border-box-sizing rendered_html">
<h2 id="2.1-Classes-pour-r&#233;presenter-une-grammaire">2.1 Classes pour r&#233;presenter une grammaire<a class="anchor-link" href="#2.1-Classes-pour-r&#233;presenter-une-grammaire">&#182;</a></h2>
</div>
</div>
</div>
<div class="cell border-box-sizing text_cell rendered"><div class="prompt input_prompt">
</div><div class="inner_cell">
<div class="text_cell_render border-box-sizing rendered_html">
<p>Au lieu de types formels définis en OCaml, on utilise des classes en Python, pour répresenter une grammaire (pas seulement en forme normale de Chomsky mais dans une forme un peu plus générale).</p>

</div>
</div>
</div>
<div class="cell border-box-sizing text_cell rendered"><div class="prompt input_prompt">
</div><div class="inner_cell">
<div class="text_cell_render border-box-sizing rendered_html">
<h3 id="2.1.1-Du-typage-en-Python-?!">2.1.1 Du typage en Python ?!<a class="anchor-link" href="#2.1.1-Du-typage-en-Python-?!">&#182;</a></h3>
</div>
</div>
</div>
<div class="cell border-box-sizing text_cell rendered"><div class="prompt input_prompt">
</div><div class="inner_cell">
<div class="text_cell_render border-box-sizing rendered_html">
<p>Mais comme je veux frimer en utilisant des types formels, on va utiliser des <a href="https://www.python.org/dev/peps/pep-0484/">annotations de types en Python</a>.
C'est assez nouveau, disponible <strong>à partir de Python 3.5</strong>. Si vous voulez en savoir plus, une bonne première lecture peut être <a href="https://mypy.readthedocs.io/en/latest/builtin_types.html">cette page</a>.</p>
<p><em>Note :</em> ces annotations de types ne sont PAS nécessaires.</p>

</div>
</div>
</div>
<div class="cell border-box-sizing code_cell rendered">
<div class="input">
<div class="prompt input_prompt">In&nbsp;[1]:</div>
<div class="inner_cell">
    <div class="input_area">
<div class=" highlight hl-ipython3"><pre><span></span><span class="c1"># On a besoin de listes et de tuples</span>
<span class="kn">from</span> <span class="nn">typing</span> <span class="k">import</span> <span class="n">List</span><span class="p">,</span> <span class="n">Tuple</span>  <span class="c1"># Module disponible en Python version &gt;= 3.5</span>
</pre></div>

    </div>
</div>
</div>

</div>
<div class="cell border-box-sizing text_cell rendered"><div class="prompt input_prompt">
</div><div class="inner_cell">
<div class="text_cell_render border-box-sizing rendered_html">
<p>On définit les types qui nous intéressent :</p>

</div>
</div>
</div>
<div class="cell border-box-sizing code_cell rendered">
<div class="input">
<div class="prompt input_prompt">In&nbsp;[2]:</div>
<div class="inner_cell">
    <div class="input_area">
<div class=" highlight hl-ipython3"><pre><span></span><span class="c1"># Type pour une variable, juste une chaine, e.g. &#39;X&#39; ou &#39;S&#39;</span>
<span class="n">Var</span> <span class="o">=</span> <span class="nb">str</span>
<span class="c1"># Type pour un alphabet</span>
<span class="n">Alphabet</span> <span class="o">=</span> <span class="n">List</span><span class="p">[</span><span class="n">Var</span><span class="p">]</span>
<span class="c1"># Type pour une règle : un symbole transformé en une liste de symboles</span>
<span class="n">Regle</span> <span class="o">=</span> <span class="n">Tuple</span><span class="p">[</span><span class="n">Var</span><span class="p">,</span> <span class="n">List</span><span class="p">[</span><span class="n">Var</span><span class="p">]]</span>
</pre></div>

    </div>
</div>
</div>

</div>
<div class="cell border-box-sizing text_cell rendered"><div class="prompt input_prompt">
</div><div class="inner_cell">
<div class="text_cell_render border-box-sizing rendered_html">
<p><em>Note :</em> ces annotations de types ne sont là que pour illustrer et aider le programmeur, Python reste un langage dynamiquement typé (i.e. on fait ce qu'on veut...).</p>

</div>
</div>
</div>
<div class="cell border-box-sizing text_cell rendered"><div class="prompt input_prompt">
</div><div class="inner_cell">
<div class="text_cell_render border-box-sizing rendered_html">
<h3 id="2.1.2-La-classe-Grammaire">2.1.2 La classe <code>Grammaire</code><a class="anchor-link" href="#2.1.2-La-classe-Grammaire">&#182;</a></h3>
</div>
</div>
</div>
<div class="cell border-box-sizing text_cell rendered"><div class="prompt input_prompt">
</div><div class="inner_cell">
<div class="text_cell_render border-box-sizing rendered_html">
<p>Une grammaire $G$ est définie par :</p>
<ul>
<li>$\Sigma$ son alphabet de production, qui sont les lettres dans les mots produits à la fin, e.g., $\Sigma = \{ a, b\}$,</li>
<li>$V$ son alphabet de travail, qui sont les lettres utilisées dans la génération de mots, mais pas dans les mots à la fin, e.g., $V = \{S, A\}$,</li>
<li>$S$ est le symbole de travail initial,</li>
<li>$R$ est un ensemble de règles, qui sont de la forme $U \rightarrow x_1 \dots x_n$ pour $U \in V$ une variable de travail (<strong><em>pas</em> de production</strong>), et $x_1, \dots, x_n$ sont variables de production ou de travail (dans $\Sigma \cup V$), e.g., $R = \{ S \rightarrow \varepsilon, S \rightarrow A S b, A \rightarrow a, A \rightarrow a a \}$.</li>
</ul>
<p>Et ainsi on peut definir un classe <code>Grammaire</code>, qui n'est rien d'autre qu'un moyen d'encapsuler ces différentes valeurs $\Sigma$, $V$, $S$, et $R$ (en OCaml, ce serait un type avec des champs d'enregistrement, défini par exemple par <code>type grammar = { sigma : string list; v: string list; s: string; r: (string, strin list) list; };;</code>).</p>
<p>On ajoute aussi une méthode <code>__str__</code> à cette classe <code>Grammaire</code> pour afficher la grammaire joliment.</p>

</div>
</div>
</div>
<div class="cell border-box-sizing code_cell rendered">
<div class="input">
<div class="prompt input_prompt">In&nbsp;[3]:</div>
<div class="inner_cell">
    <div class="input_area">
<div class=" highlight hl-ipython3"><pre><span></span><span class="k">class</span> <span class="nc">Grammaire</span><span class="p">(</span><span class="nb">object</span><span class="p">):</span>
    <span class="sd">&quot;&quot;&quot; Type pour les grammaires algébriques (en forme de Chomsky). &quot;&quot;&quot;</span>
    <span class="k">def</span> <span class="nf">__init__</span><span class="p">(</span><span class="bp">self</span><span class="p">,</span> <span class="n">sigma</span><span class="p">:</span> <span class="n">Alphabet</span><span class="p">,</span> <span class="n">v</span><span class="p">:</span> <span class="n">Alphabet</span><span class="p">,</span> <span class="n">s</span><span class="p">:</span> <span class="n">Var</span><span class="p">,</span> <span class="n">r</span><span class="p">:</span> <span class="n">List</span><span class="p">[</span><span class="n">Regle</span><span class="p">],</span> <span class="n">nom</span><span class="o">=</span><span class="s2">&quot;G&quot;</span><span class="p">):</span>
        <span class="sd">&quot;&quot;&quot; Grammaire en forme de Chomsky :</span>
<span class="sd">            - sigma : alphabet de production, type Alphabet,</span>
<span class="sd">            - v : alphabet de travail, type Alphabet,</span>
<span class="sd">            - s : symbol initial, type Var,</span>
<span class="sd">            - r : liste de règles, type List[Regle].</span>
<span class="sd">        &quot;&quot;&quot;</span>
        <span class="c1"># On se contente de stocker les champs :</span>
        <span class="bp">self</span><span class="o">.</span><span class="n">sigma</span> <span class="o">=</span> <span class="n">sigma</span>
        <span class="bp">self</span><span class="o">.</span><span class="n">v</span> <span class="o">=</span> <span class="n">v</span>
        <span class="bp">self</span><span class="o">.</span><span class="n">s</span> <span class="o">=</span> <span class="n">s</span>
        <span class="bp">self</span><span class="o">.</span><span class="n">r</span> <span class="o">=</span> <span class="n">r</span>
        <span class="bp">self</span><span class="o">.</span><span class="n">nom</span> <span class="o">=</span> <span class="n">nom</span>
        
    <span class="k">def</span> <span class="nf">__str__</span><span class="p">(</span><span class="bp">self</span><span class="p">)</span> <span class="o">-&gt;</span> <span class="nb">str</span><span class="p">:</span>
        <span class="sd">&quot;&quot;&quot; Permet d&#39;afficher une grammaire.&quot;&quot;&quot;</span>
        <span class="n">str_regles</span> <span class="o">=</span> <span class="s1">&#39;, &#39;</span><span class="o">.</span><span class="n">join</span><span class="p">(</span>
            <span class="s2">&quot;</span><span class="si">{}</span><span class="s2"> -&gt; </span><span class="si">{}</span><span class="s2">&quot;</span><span class="o">.</span><span class="n">format</span><span class="p">(</span><span class="n">regle</span><span class="p">[</span><span class="mi">0</span><span class="p">],</span> <span class="s1">&#39;&#39;</span><span class="o">.</span><span class="n">join</span><span class="p">(</span><span class="n">regle</span><span class="p">[</span><span class="mi">1</span><span class="p">])</span> <span class="k">if</span> <span class="n">regle</span><span class="p">[</span><span class="mi">1</span><span class="p">]</span> <span class="k">else</span> <span class="s1">&#39;ε&#39;</span><span class="p">)</span>
            <span class="k">for</span> <span class="n">regle</span> <span class="ow">in</span> <span class="bp">self</span><span class="o">.</span><span class="n">r</span>
        <span class="p">)</span>
        <span class="k">return</span> <span class="sa">r</span><span class="s2">&quot;&quot;&quot;Grammaire </span><span class="si">{}</span><span class="s2"> :</span>
<span class="s2">    - Alphabet Σ = </span><span class="si">{}</span><span class="s2">,</span>
<span class="s2">    - Non terminaux V = </span><span class="si">{}</span><span class="s2">,</span>
<span class="s2">    - Symbole initial : &#39;</span><span class="si">{}</span><span class="s2">&#39;,</span>
<span class="s2">    - Règles : </span><span class="si">{}</span><span class="s2">.&quot;&quot;&quot;</span><span class="o">.</span><span class="n">format</span><span class="p">(</span><span class="bp">self</span><span class="o">.</span><span class="n">nom</span><span class="p">,</span> <span class="nb">set</span><span class="p">(</span><span class="bp">self</span><span class="o">.</span><span class="n">sigma</span><span class="p">),</span> <span class="nb">set</span><span class="p">(</span><span class="bp">self</span><span class="o">.</span><span class="n">v</span><span class="p">),</span> <span class="bp">self</span><span class="o">.</span><span class="n">s</span><span class="p">,</span> <span class="n">str_regles</span><span class="p">)</span>
</pre></div>

    </div>
</div>
</div>

</div>
<div class="cell border-box-sizing text_cell rendered"><div class="prompt input_prompt">
</div><div class="inner_cell">
<div class="text_cell_render border-box-sizing rendered_html">
<h3 id="2.1.3-Premier-exemple-de-grammaire-(non-Chomsky)">2.1.3 Premier exemple de grammaire (non-Chomsky)<a class="anchor-link" href="#2.1.3-Premier-exemple-de-grammaire-(non-Chomsky)">&#182;</a></h3>
</div>
</div>
</div>
<div class="cell border-box-sizing text_cell rendered"><div class="prompt input_prompt">
</div><div class="inner_cell">
<div class="text_cell_render border-box-sizing rendered_html">
<p>On commence avec un premier exemple basique, la grammaire $G_1$ avec pour seule règle : $S \rightarrow aSb \;|\; \varepsilon$.
C'est la grammaire naturelle, bien formée, pour les mots de la forme $a^n b^n$ pour tout $n \geq 0$.
Cf. <a href="https://fr.wikipedia.org/wiki/Grammaire_non_contextuelle#Exemple_1">cet exemple sur Wikipedia</a>.
Par contre, elle n'est pas en forme normale de Chomsky.</p>

</div>
</div>
</div>
<div class="cell border-box-sizing code_cell rendered">
<div class="input">
<div class="prompt input_prompt">In&nbsp;[4]:</div>
<div class="inner_cell">
    <div class="input_area">
<div class=" highlight hl-ipython3"><pre><span></span><span class="n">g1</span> <span class="o">=</span> <span class="n">Grammaire</span><span class="p">(</span>
    <span class="p">[</span><span class="s1">&#39;a&#39;</span><span class="p">,</span> <span class="s1">&#39;b&#39;</span><span class="p">],</span>  <span class="c1"># Alphabet de production</span>
    <span class="p">[</span><span class="s1">&#39;S&#39;</span><span class="p">],</span>       <span class="c1"># Alphabet de travail</span>
    <span class="s1">&#39;S&#39;</span><span class="p">,</span>         <span class="c1"># Symbole initial (un seul)</span>
    <span class="p">[</span>            <span class="c1"># Règles</span>
        <span class="p">(</span><span class="s1">&#39;S&#39;</span><span class="p">,</span> <span class="p">[]),</span>  <span class="c1"># S -&gt; ε</span>
        <span class="p">(</span><span class="s1">&#39;S&#39;</span><span class="p">,</span> <span class="p">[</span><span class="s1">&#39;a&#39;</span><span class="p">,</span> <span class="s1">&#39;S&#39;</span><span class="p">,</span> <span class="s1">&#39;b&#39;</span><span class="p">]),</span>  <span class="c1"># S -&gt; a S b</span>
    <span class="p">],</span>
    <span class="n">nom</span><span class="o">=</span><span class="s2">&quot;G1&quot;</span>
<span class="p">)</span>
<span class="nb">print</span><span class="p">(</span><span class="n">g1</span><span class="p">)</span>
</pre></div>

    </div>
</div>
</div>

<div class="output_wrapper">
<div class="output">


<div class="output_area">

    <div class="prompt"></div>


<div class="output_subarea output_stream output_stdout output_text">
<pre>Grammaire G1 :
    - Alphabet Σ = {&#39;b&#39;, &#39;a&#39;},
    - Non terminaux V = {&#39;S&#39;},
    - Symbole initial : &#39;S&#39;,
    - Règles : S -&gt; ε, S -&gt; aSb.
</pre>
</div>
</div>

</div>
</div>

</div>
<div class="cell border-box-sizing text_cell rendered"><div class="prompt input_prompt">
</div><div class="inner_cell">
<div class="text_cell_render border-box-sizing rendered_html">
<h3 id="2.1.4-Second-exemple-de-grammaire-(non-Chomsky)">2.1.4 Second exemple de grammaire (non-Chomsky)<a class="anchor-link" href="#2.1.4-Second-exemple-de-grammaire-(non-Chomsky)">&#182;</a></h3>
</div>
</div>
</div>
<div class="cell border-box-sizing text_cell rendered"><div class="prompt input_prompt">
</div><div class="inner_cell">
<div class="text_cell_render border-box-sizing rendered_html">
<p>Voici un autre exemple basique, la grammaire $G_2$ qui engendre les expressions arithmétiques
en trois variables $x$, $y$ et $z$, correctement parenthésées.
Une seule règle de production, ou une union de règle de production, suffit :
    $$ S \rightarrow x \;|\; y \;|\; z \;|\; S+S \;|\; S-S \;|\; S∗S \;|\; S/S \;|\; (S). $$</p>
<p>Cf. <a href="https://fr.wikipedia.org/wiki/Grammaire_non_contextuelle#Exemple_2">cet autre exemple sur Wikipedia</a>.</p>

</div>
</div>
</div>
<div class="cell border-box-sizing code_cell rendered">
<div class="input">
<div class="prompt input_prompt">In&nbsp;[5]:</div>
<div class="inner_cell">
    <div class="input_area">
<div class=" highlight hl-ipython3"><pre><span></span><span class="n">g2</span> <span class="o">=</span> <span class="n">Grammaire</span><span class="p">(</span>
    <span class="p">[</span><span class="s1">&#39;x&#39;</span><span class="p">,</span> <span class="s1">&#39;y&#39;</span><span class="p">,</span> <span class="s1">&#39;z&#39;</span><span class="p">,</span> <span class="s1">&#39;+&#39;</span><span class="p">,</span> <span class="s1">&#39;-&#39;</span><span class="p">,</span> <span class="s1">&#39;*&#39;</span><span class="p">,</span> <span class="s1">&#39;/&#39;</span><span class="p">,</span> <span class="s1">&#39;(&#39;</span><span class="p">,</span> <span class="s1">&#39;)&#39;</span><span class="p">],</span>  <span class="c1"># Alphabet de production</span>
    <span class="p">[</span><span class="s1">&#39;S&#39;</span><span class="p">],</span>  <span class="c1"># Alphabet de travail</span>
    <span class="s1">&#39;S&#39;</span><span class="p">,</span>    <span class="c1"># Symbole initial (un seul)</span>
    <span class="p">[</span>       <span class="c1"># Règles</span>
        <span class="p">(</span><span class="s1">&#39;S&#39;</span><span class="p">,</span> <span class="p">[</span><span class="s1">&#39;x&#39;</span><span class="p">]),</span>            <span class="c1"># S -&gt; x</span>
        <span class="p">(</span><span class="s1">&#39;S&#39;</span><span class="p">,</span> <span class="p">[</span><span class="s1">&#39;y&#39;</span><span class="p">]),</span>            <span class="c1"># S -&gt; y</span>
        <span class="p">(</span><span class="s1">&#39;S&#39;</span><span class="p">,</span> <span class="p">[</span><span class="s1">&#39;z&#39;</span><span class="p">]),</span>            <span class="c1"># S -&gt; z</span>
        <span class="p">(</span><span class="s1">&#39;S&#39;</span><span class="p">,</span> <span class="p">[</span><span class="s1">&#39;S&#39;</span><span class="p">,</span> <span class="s1">&#39;+&#39;</span><span class="p">,</span> <span class="s1">&#39;S&#39;</span><span class="p">]),</span>  <span class="c1"># S -&gt; S + S</span>
        <span class="p">(</span><span class="s1">&#39;S&#39;</span><span class="p">,</span> <span class="p">[</span><span class="s1">&#39;S&#39;</span><span class="p">,</span> <span class="s1">&#39;-&#39;</span><span class="p">,</span> <span class="s1">&#39;S&#39;</span><span class="p">]),</span>  <span class="c1"># S -&gt; S - S</span>
        <span class="p">(</span><span class="s1">&#39;S&#39;</span><span class="p">,</span> <span class="p">[</span><span class="s1">&#39;S&#39;</span><span class="p">,</span> <span class="s1">&#39;*&#39;</span><span class="p">,</span> <span class="s1">&#39;S&#39;</span><span class="p">]),</span>  <span class="c1"># S -&gt; S * S</span>
        <span class="p">(</span><span class="s1">&#39;S&#39;</span><span class="p">,</span> <span class="p">[</span><span class="s1">&#39;S&#39;</span><span class="p">,</span> <span class="s1">&#39;/&#39;</span><span class="p">,</span> <span class="s1">&#39;S&#39;</span><span class="p">]),</span>  <span class="c1"># S -&gt; S / S</span>
        <span class="p">(</span><span class="s1">&#39;S&#39;</span><span class="p">,</span> <span class="p">[</span><span class="s1">&#39;(&#39;</span><span class="p">,</span> <span class="s1">&#39;S&#39;</span><span class="p">,</span> <span class="s1">&#39;)&#39;</span><span class="p">]),</span>   <span class="c1"># S -&gt; (S)</span>
    <span class="p">],</span>
    <span class="n">nom</span><span class="o">=</span><span class="s2">&quot;G2&quot;</span>
<span class="p">)</span>
<span class="nb">print</span><span class="p">(</span><span class="n">g2</span><span class="p">)</span>
</pre></div>

    </div>
</div>
</div>

<div class="output_wrapper">
<div class="output">


<div class="output_area">

    <div class="prompt"></div>


<div class="output_subarea output_stream output_stdout output_text">
<pre>Grammaire G2 :
    - Alphabet Σ = {&#39;*&#39;, &#39;/&#39;, &#39;z&#39;, &#39;y&#39;, &#39;-&#39;, &#39;x&#39;, &#39;(&#39;, &#39;)&#39;, &#39;+&#39;},
    - Non terminaux V = {&#39;S&#39;},
    - Symbole initial : &#39;S&#39;,
    - Règles : S -&gt; x, S -&gt; y, S -&gt; z, S -&gt; S+S, S -&gt; S-S, S -&gt; S*S, S -&gt; S/S, S -&gt; (S).
</pre>
</div>
</div>

</div>
</div>

</div>
<div class="cell border-box-sizing text_cell rendered"><div class="prompt input_prompt">
</div><div class="inner_cell">
<div class="text_cell_render border-box-sizing rendered_html">
<h3 id="2.1.5-Dernier-exemple-de-grammaire">2.1.5 Dernier exemple de grammaire<a class="anchor-link" href="#2.1.5-Dernier-exemple-de-grammaire">&#182;</a></h3>
</div>
</div>
</div>
<div class="cell border-box-sizing text_cell rendered"><div class="prompt input_prompt">
</div><div class="inner_cell">
<div class="text_cell_render border-box-sizing rendered_html">
<p>Voici un dernier exemple, moins basique, la grammaire $G_3$ qui engendre des phrases "simples" (et très limitées) en anglais.
<a href="https://en.wikipedia.org/wiki/CYK_algorithm#Example">Inspirée de cet exemple sur Wikipedia (en anglais)</a>.
Cette grammaire $G_3$ est sous forme normale de Chomsky.</p>

</div>
</div>
</div>
<div class="cell border-box-sizing code_cell rendered">
<div class="input">
<div class="prompt input_prompt">In&nbsp;[6]:</div>
<div class="inner_cell">
    <div class="input_area">
<div class=" highlight hl-ipython3"><pre><span></span><span class="n">g3</span> <span class="o">=</span> <span class="n">Grammaire</span><span class="p">(</span>
    <span class="c1"># Alphabet de production, des vrais mots anglais (avec une espace pour que la phrase soit lisible</span>
    <span class="p">[</span><span class="s1">&#39;she &#39;</span><span class="p">,</span> <span class="s1">&#39;eats &#39;</span><span class="p">,</span> <span class="s1">&#39;with &#39;</span><span class="p">,</span> <span class="s1">&#39;fish &#39;</span><span class="p">,</span> <span class="s1">&#39;fork &#39;</span><span class="p">,</span> <span class="s1">&#39;a &#39;</span><span class="p">,</span> <span class="s1">&#39;an &#39;</span><span class="p">,</span> <span class="s1">&#39;ork &#39;</span><span class="p">,</span> <span class="s1">&#39;sword &#39;</span><span class="p">],</span>
    <span class="c1"># Alphabet de travail, des catégories de mots : V pour verbes, P pour pronom etc.</span>
    <span class="p">[</span><span class="s1">&#39;S&#39;</span><span class="p">,</span> <span class="s1">&#39;NP &#39;</span><span class="p">,</span> <span class="s1">&#39;VP &#39;</span><span class="p">,</span> <span class="s1">&#39;PP &#39;</span><span class="p">,</span> <span class="s1">&#39;V &#39;</span><span class="p">,</span> <span class="s1">&#39;Det &#39;</span><span class="p">,</span> <span class="s1">&#39;DetVo &#39;</span><span class="p">,</span> <span class="s1">&#39;N &#39;</span><span class="p">,</span> <span class="s1">&#39;NVo &#39;</span><span class="p">,</span> <span class="s1">&#39;P &#39;</span><span class="p">],</span>
    <span class="c1"># Det = a : déterminant</span>
    <span class="c1"># DetVo = an : déterminant avant un nom commençant par une voyelle</span>
    <span class="c1"># N = (fish, fork, sword) : un nom</span>
    <span class="c1"># NVo = ork : un nom commençant par une voyelle</span>
    <span class="c1"># NP = she | a (fish, fork, sword) | an ork : un sujet</span>
    <span class="c1"># V = eats : verbe conjugué</span>
    <span class="c1"># P = with : conjonction de coordination</span>
    <span class="c1"># VP = eats : verbe conjugué suivi d&#39;un objet</span>
    <span class="c1"># PP : with NP : complément d&#39;objet direct</span>
    <span class="s1">&#39;S&#39;</span><span class="p">,</span>    <span class="c1"># Symbole initial (un seul)</span>
    <span class="p">[</span>       <span class="c1"># Règles</span>
        <span class="c1"># Règles de constuction de phrase</span>
        <span class="p">(</span> <span class="s1">&#39;S&#39;</span><span class="p">,</span>      <span class="p">[</span><span class="s1">&#39;NP &#39;</span><span class="p">,</span> <span class="s1">&#39;VP &#39;</span><span class="p">]</span> <span class="p">),</span>      <span class="c1"># &#39;S&#39;  -&gt; &#39;NP&#39; &#39;VP&#39;</span>
        <span class="p">(</span> <span class="s1">&#39;VP &#39;</span><span class="p">,</span>    <span class="p">[</span><span class="s1">&#39;VP &#39;</span><span class="p">,</span> <span class="s1">&#39;PP &#39;</span><span class="p">]</span> <span class="p">),</span>      <span class="c1"># &#39;VP&#39; -&gt; &#39;VP&#39; &#39;PP&#39;</span>
        <span class="p">(</span> <span class="s1">&#39;VP &#39;</span><span class="p">,</span>    <span class="p">[</span><span class="s1">&#39;V &#39;</span><span class="p">,</span> <span class="s1">&#39;NP &#39;</span><span class="p">]</span> <span class="p">),</span>       <span class="c1"># &#39;VP&#39; -&gt; &#39;V&#39; &#39;NP&#39;</span>
        <span class="p">(</span> <span class="s1">&#39;PP &#39;</span><span class="p">,</span>    <span class="p">[</span><span class="s1">&#39;P &#39;</span><span class="p">,</span> <span class="s1">&#39;NP &#39;</span><span class="p">]</span> <span class="p">),</span>       <span class="c1"># &#39;PP&#39; -&gt; &#39;P&#39; &#39;NP&#39;</span>
        <span class="p">(</span> <span class="s1">&#39;NP &#39;</span><span class="p">,</span>    <span class="p">[</span><span class="s1">&#39;Det &#39;</span><span class="p">,</span> <span class="s1">&#39;N &#39;</span><span class="p">]</span> <span class="p">),</span>      <span class="c1"># &#39;NP&#39; -&gt; &#39;Det&#39; &#39;N&#39;</span>
        <span class="p">(</span> <span class="s1">&#39;NP &#39;</span><span class="p">,</span>    <span class="p">[</span><span class="s1">&#39;DetVo &#39;</span><span class="p">,</span> <span class="s1">&#39;NVo &#39;</span><span class="p">]</span> <span class="p">),</span>  <span class="c1"># &#39;NP&#39; -&gt; &#39;DetVo&#39; &#39;NVo&#39;</span>
        <span class="c1"># Règles de création de mots</span>
        <span class="p">(</span> <span class="s1">&#39;VP &#39;</span><span class="p">,</span>    <span class="p">[</span><span class="s1">&#39;eats &#39;</span><span class="p">]</span> <span class="p">),</span>   <span class="c1"># &#39;VP&#39;    -&gt; &#39;eats &#39;</span>
        <span class="p">(</span> <span class="s1">&#39;NP &#39;</span><span class="p">,</span>    <span class="p">[</span><span class="s1">&#39;she &#39;</span><span class="p">]</span> <span class="p">),</span>    <span class="c1"># &#39;NP&#39;    -&gt; &#39;she &#39;</span>
        <span class="p">(</span> <span class="s1">&#39;V &#39;</span><span class="p">,</span>     <span class="p">[</span><span class="s1">&#39;eats &#39;</span><span class="p">]</span> <span class="p">),</span>   <span class="c1"># &#39;V&#39;     -&gt; &#39;eats &#39;</span>
        <span class="p">(</span> <span class="s1">&#39;P &#39;</span><span class="p">,</span>     <span class="p">[</span><span class="s1">&#39;with &#39;</span><span class="p">]</span> <span class="p">),</span>   <span class="c1"># &#39;P&#39;     -&gt; &#39;with &#39;</span>
        <span class="p">(</span> <span class="s1">&#39;N &#39;</span><span class="p">,</span>     <span class="p">[</span><span class="s1">&#39;fish &#39;</span><span class="p">]</span> <span class="p">),</span>   <span class="c1"># &#39;N&#39;     -&gt; &#39;fish &#39;</span>
        <span class="p">(</span> <span class="s1">&#39;N &#39;</span><span class="p">,</span>     <span class="p">[</span><span class="s1">&#39;fork &#39;</span><span class="p">]</span> <span class="p">),</span>   <span class="c1"># &#39;N&#39;     -&gt; &#39;fork &#39;</span>
        <span class="p">(</span> <span class="s1">&#39;N &#39;</span><span class="p">,</span>     <span class="p">[</span><span class="s1">&#39;sword &#39;</span><span class="p">]</span> <span class="p">),</span>  <span class="c1"># &#39;N&#39;     -&gt; &#39;sword &#39;</span>
        <span class="p">(</span> <span class="s1">&#39;NVo &#39;</span><span class="p">,</span>   <span class="p">[</span><span class="s1">&#39;ork &#39;</span><span class="p">]</span> <span class="p">),</span>    <span class="c1"># &#39;NVo&#39;   -&gt; &#39;ork &#39;</span>
        <span class="p">(</span> <span class="s1">&#39;Det &#39;</span><span class="p">,</span>   <span class="p">[</span><span class="s1">&#39;a &#39;</span><span class="p">]</span> <span class="p">),</span>      <span class="c1"># &#39;Det&#39;   -&gt; &#39;a &#39;</span>
        <span class="p">(</span> <span class="s1">&#39;DetVo &#39;</span><span class="p">,</span> <span class="p">[</span><span class="s1">&#39;an &#39;</span><span class="p">]</span> <span class="p">),</span>     <span class="c1"># &#39;DetVo&#39; -&gt; &#39;an &#39;</span>
    <span class="p">],</span>
    <span class="n">nom</span><span class="o">=</span><span class="s2">&quot;G3&quot;</span>
<span class="p">)</span>
<span class="nb">print</span><span class="p">(</span><span class="n">g3</span><span class="p">)</span>
</pre></div>

    </div>
</div>
</div>

<div class="output_wrapper">
<div class="output">


<div class="output_area">

    <div class="prompt"></div>


<div class="output_subarea output_stream output_stdout output_text">
<pre>Grammaire G3 :
    - Alphabet Σ = {&#39;fish &#39;, &#39;fork &#39;, &#39;eats &#39;, &#39;a &#39;, &#39;she &#39;, &#39;an &#39;, &#39;sword &#39;, &#39;ork &#39;, &#39;with &#39;},
    - Non terminaux V = {&#39;PP &#39;, &#39;DetVo &#39;, &#39;S&#39;, &#39;Det &#39;, &#39;N &#39;, &#39;P &#39;, &#39;V &#39;, &#39;NVo &#39;, &#39;NP &#39;, &#39;VP &#39;},
    - Symbole initial : &#39;S&#39;,
    - Règles : S -&gt; NP VP , VP  -&gt; VP PP , VP  -&gt; V NP , PP  -&gt; P NP , NP  -&gt; Det N , NP  -&gt; DetVo NVo , VP  -&gt; eats , NP  -&gt; she , V  -&gt; eats , P  -&gt; with , N  -&gt; fish , N  -&gt; fork , N  -&gt; sword , NVo  -&gt; ork , Det  -&gt; a , DetVo  -&gt; an .
</pre>
</div>
</div>

</div>
</div>

</div>
<div class="cell border-box-sizing text_cell rendered"><div class="prompt input_prompt">
</div><div class="inner_cell">
<div class="text_cell_render border-box-sizing rendered_html">
<p>Nous utiliserons ces exemples de grammaire plus tard, pour vérifier que nos fonctions sont correctement écrites.</p>
<hr>

</div>
</div>
</div>
<div class="cell border-box-sizing text_cell rendered"><div class="prompt input_prompt">
</div><div class="inner_cell">
<div class="text_cell_render border-box-sizing rendered_html">
<h2 id="2.2-V&#233;rifier-qu'une-grammaire-est-bien-form&#233;e">2.2 V&#233;rifier qu'une grammaire est bien form&#233;e<a class="anchor-link" href="#2.2-V&#233;rifier-qu'une-grammaire-est-bien-form&#233;e">&#182;</a></h2>
</div>
</div>
</div>
<div class="cell border-box-sizing text_cell rendered"><div class="prompt input_prompt">
</div><div class="inner_cell">
<div class="text_cell_render border-box-sizing rendered_html">
<p>On veut pouvoir vérifier qu'une grammaire $G$ (i.e., un objet instance de <code>Grammaire</code>) est bien formée (cf. votre cours de langage formel pour une définition propre) :</p>
<ul>
<li>$S$ doit être une variable de travail, i.e., $S \in V$,</li>
<li>Les variables de production et les variables de travail doivent être distinctes, i.e., $\Sigma \cap V = \emptyset$,</li>
<li>Pour chaque règle, $r = A \rightarrow w$, les membres gauches des règles sont réduits à une seule variable de travail, et les membres droits sont des mots, vides ou constitués de variables de production ou de travail, i.e., $A \in V$, et $w \in (\Sigma \cup V)^{\star}$,</li>
</ul>
<p>On vérifie ça facilement avec la fonction suivante :</p>

</div>
</div>
</div>
<div class="cell border-box-sizing code_cell rendered">
<div class="input">
<div class="prompt input_prompt">In&nbsp;[7]:</div>
<div class="inner_cell">
    <div class="input_area">
<div class=" highlight hl-ipython3"><pre><span></span><span class="k">def</span> <span class="nf">estBienFormee</span><span class="p">(</span><span class="bp">self</span><span class="p">:</span> <span class="n">Grammaire</span><span class="p">)</span> <span class="o">-&gt;</span> <span class="nb">bool</span><span class="p">:</span>
    <span class="sd">&quot;&quot;&quot; Vérifie que G est bien formée. &quot;&quot;&quot;</span>
    <span class="n">sigma</span><span class="p">,</span> <span class="n">v</span><span class="p">,</span> <span class="n">s</span><span class="p">,</span> <span class="n">regles</span> <span class="o">=</span> <span class="nb">set</span><span class="p">(</span><span class="bp">self</span><span class="o">.</span><span class="n">sigma</span><span class="p">),</span> <span class="nb">set</span><span class="p">(</span><span class="bp">self</span><span class="o">.</span><span class="n">v</span><span class="p">),</span> <span class="bp">self</span><span class="o">.</span><span class="n">s</span><span class="p">,</span> <span class="bp">self</span><span class="o">.</span><span class="n">r</span>
    <span class="n">tests</span> <span class="o">=</span> <span class="p">[</span>
        <span class="n">s</span> <span class="ow">in</span> <span class="n">v</span><span class="p">,</span>  <span class="c1"># s est bien une variable de travail</span>
        <span class="n">sigma</span><span class="o">.</span><span class="n">isdisjoint</span><span class="p">(</span><span class="n">v</span><span class="p">),</span>  <span class="c1"># Lettres et variables de travail sont disjointes</span>
        <span class="nb">all</span><span class="p">(</span>
            <span class="n">regle</span><span class="p">[</span><span class="mi">0</span><span class="p">]</span> <span class="ow">in</span> <span class="n">v</span>  <span class="c1"># Les membres gauches de règles sont des variables</span>
            <span class="ow">and</span>  <span class="c1"># Les membres droits de règles sont des variables ou des lettres</span>
            <span class="nb">all</span><span class="p">(</span><span class="n">r</span> <span class="ow">in</span> <span class="n">sigma</span> <span class="o">|</span> <span class="n">v</span> <span class="k">for</span> <span class="n">r</span> <span class="ow">in</span> <span class="n">regle</span><span class="p">[</span><span class="mi">1</span><span class="p">])</span>
            <span class="k">for</span> <span class="n">regle</span> <span class="ow">in</span> <span class="n">regles</span>
        <span class="p">)</span>
    <span class="p">]</span>
    <span class="k">return</span> <span class="nb">all</span><span class="p">(</span><span class="n">tests</span><span class="p">)</span>

<span class="c1"># On ajoute la fonction comme une méthode (au cas où...)</span>
<span class="n">Grammaire</span><span class="o">.</span><span class="n">estBienFormee</span> <span class="o">=</span> <span class="n">estBienFormee</span>
</pre></div>

    </div>
</div>
</div>

</div>
<div class="cell border-box-sizing code_cell rendered">
<div class="input">
<div class="prompt input_prompt">In&nbsp;[8]:</div>
<div class="inner_cell">
    <div class="input_area">
<div class=" highlight hl-ipython3"><pre><span></span><span class="k">for</span> <span class="n">g</span> <span class="ow">in</span> <span class="p">[</span><span class="n">g1</span><span class="p">,</span> <span class="n">g2</span><span class="p">,</span> <span class="n">g3</span><span class="p">]:</span>
    <span class="nb">print</span><span class="p">(</span><span class="n">g</span><span class="p">)</span>
    <span class="nb">print</span><span class="p">(</span><span class="s2">&quot;La grammaire&quot;</span><span class="p">,</span> <span class="n">g</span><span class="o">.</span><span class="n">nom</span><span class="p">,</span> <span class="s2">&quot;est-elle bien formée ?&quot;</span><span class="p">,</span> <span class="n">estBienFormee</span><span class="p">(</span><span class="n">g</span><span class="p">))</span>
    <span class="nb">print</span><span class="p">()</span>
</pre></div>

    </div>
</div>
</div>

<div class="output_wrapper">
<div class="output">


<div class="output_area">

    <div class="prompt"></div>


<div class="output_subarea output_stream output_stdout output_text">
<pre>Grammaire G1 :
    - Alphabet Σ = {&#39;b&#39;, &#39;a&#39;},
    - Non terminaux V = {&#39;S&#39;},
    - Symbole initial : &#39;S&#39;,
    - Règles : S -&gt; ε, S -&gt; aSb.
La grammaire G1 est-elle bien formée ? True

Grammaire G2 :
    - Alphabet Σ = {&#39;*&#39;, &#39;/&#39;, &#39;z&#39;, &#39;y&#39;, &#39;-&#39;, &#39;x&#39;, &#39;(&#39;, &#39;)&#39;, &#39;+&#39;},
    - Non terminaux V = {&#39;S&#39;},
    - Symbole initial : &#39;S&#39;,
    - Règles : S -&gt; x, S -&gt; y, S -&gt; z, S -&gt; S+S, S -&gt; S-S, S -&gt; S*S, S -&gt; S/S, S -&gt; (S).
La grammaire G2 est-elle bien formée ? True

Grammaire G3 :
    - Alphabet Σ = {&#39;fish &#39;, &#39;fork &#39;, &#39;eats &#39;, &#39;a &#39;, &#39;she &#39;, &#39;an &#39;, &#39;sword &#39;, &#39;ork &#39;, &#39;with &#39;},
    - Non terminaux V = {&#39;PP &#39;, &#39;DetVo &#39;, &#39;S&#39;, &#39;Det &#39;, &#39;N &#39;, &#39;P &#39;, &#39;V &#39;, &#39;NVo &#39;, &#39;NP &#39;, &#39;VP &#39;},
    - Symbole initial : &#39;S&#39;,
    - Règles : S -&gt; NP VP , VP  -&gt; VP PP , VP  -&gt; V NP , PP  -&gt; P NP , NP  -&gt; Det N , NP  -&gt; DetVo NVo , VP  -&gt; eats , NP  -&gt; she , V  -&gt; eats , P  -&gt; with , N  -&gt; fish , N  -&gt; fork , N  -&gt; sword , NVo  -&gt; ork , Det  -&gt; a , DetVo  -&gt; an .
La grammaire G3 est-elle bien formée ? True

</pre>
</div>
</div>

</div>
</div>

</div>
<div class="cell border-box-sizing text_cell rendered"><div class="prompt input_prompt">
</div><div class="inner_cell">
<div class="text_cell_render border-box-sizing rendered_html">
<p>On peut définir une autre grammaire qui n'est pas bien formée, pour voir.
Cette grammaire $G_4$ engendre les mots de la forme $a^{n+k} b^n$ pour $n,k \in \mathbb{N}$, mais on lui donne une règle de dédoublement des $a$ : $a \rightarrow a a$ (notez que $a$, une variable de production, est à gauche d'une règle).</p>

</div>
</div>
</div>
<div class="cell border-box-sizing code_cell rendered">
<div class="input">
<div class="prompt input_prompt">In&nbsp;[9]:</div>
<div class="inner_cell">
    <div class="input_area">
<div class=" highlight hl-ipython3"><pre><span></span><span class="n">g4</span> <span class="o">=</span> <span class="n">Grammaire</span><span class="p">(</span>
    <span class="p">[</span><span class="s1">&#39;a&#39;</span><span class="p">,</span> <span class="s1">&#39;b&#39;</span><span class="p">],</span>  <span class="c1"># Alphabet de production</span>
    <span class="p">[</span><span class="s1">&#39;S&#39;</span><span class="p">],</span>       <span class="c1"># Alphabet de travail</span>
    <span class="s1">&#39;S&#39;</span><span class="p">,</span>         <span class="c1"># Symbole initial (un seul)</span>
    <span class="p">[</span>            <span class="c1"># Règles</span>
        <span class="p">(</span><span class="s1">&#39;S&#39;</span><span class="p">,</span> <span class="p">[]),</span>               <span class="c1"># S -&gt; ε</span>
        <span class="p">(</span><span class="s1">&#39;S&#39;</span><span class="p">,</span> <span class="p">[</span><span class="s1">&#39;a&#39;</span><span class="p">,</span> <span class="s1">&#39;S&#39;</span><span class="p">,</span> <span class="s1">&#39;b&#39;</span><span class="p">]),</span>  <span class="c1"># S -&gt; a S b</span>
        <span class="p">(</span><span class="s1">&#39;a&#39;</span><span class="p">,</span> <span class="p">[</span><span class="s1">&#39;a&#39;</span><span class="p">,</span> <span class="s1">&#39;a&#39;</span><span class="p">]),</span>       <span class="c1"># a -&gt; a a, cette règle n&#39;est pas en forme normale</span>
    <span class="p">],</span>
    <span class="n">nom</span><span class="o">=</span><span class="s2">&quot;G4&quot;</span>
<span class="p">)</span>
<span class="nb">print</span><span class="p">(</span><span class="n">g4</span><span class="p">)</span>
<span class="nb">print</span><span class="p">(</span><span class="s2">&quot;La grammaire&quot;</span><span class="p">,</span> <span class="n">g4</span><span class="o">.</span><span class="n">nom</span><span class="p">,</span> <span class="s2">&quot;est-elle bien formée ?&quot;</span><span class="p">,</span> <span class="n">estBienFormee</span><span class="p">(</span><span class="n">g4</span><span class="p">))</span>
</pre></div>

    </div>
</div>
</div>

<div class="output_wrapper">
<div class="output">


<div class="output_area">

    <div class="prompt"></div>


<div class="output_subarea output_stream output_stdout output_text">
<pre>Grammaire G4 :
    - Alphabet Σ = {&#39;b&#39;, &#39;a&#39;},
    - Non terminaux V = {&#39;S&#39;},
    - Symbole initial : &#39;S&#39;,
    - Règles : S -&gt; ε, S -&gt; aSb, a -&gt; aa.
La grammaire G4 est-elle bien formée ? False
</pre>
</div>
</div>

</div>
</div>

</div>
<div class="cell border-box-sizing text_cell rendered"><div class="prompt input_prompt">
</div><div class="inner_cell">
<div class="text_cell_render border-box-sizing rendered_html">
<p>Juste par curiosité, la voici transformée pour devenir bien formée, ici on a juste eu besoin d'ajouter une variable de travail $A$ qui peut donner $a$ ou $A A$ :</p>

</div>
</div>
</div>
<div class="cell border-box-sizing code_cell rendered">
<div class="input">
<div class="prompt input_prompt">In&nbsp;[10]:</div>
<div class="inner_cell">
    <div class="input_area">
<div class=" highlight hl-ipython3"><pre><span></span><span class="n">g5</span> <span class="o">=</span> <span class="n">Grammaire</span><span class="p">(</span>
    <span class="p">[</span><span class="s1">&#39;a&#39;</span><span class="p">,</span> <span class="s1">&#39;b&#39;</span><span class="p">],</span>  <span class="c1"># Alphabet de production</span>
    <span class="p">[</span><span class="s1">&#39;S&#39;</span><span class="p">,</span> <span class="s1">&#39;A&#39;</span><span class="p">],</span>  <span class="c1"># Alphabet de travail</span>
    <span class="s1">&#39;S&#39;</span><span class="p">,</span>         <span class="c1"># Symbole initial (un seul)</span>
    <span class="p">[</span>            <span class="c1"># Règles</span>
        <span class="p">(</span><span class="s1">&#39;S&#39;</span><span class="p">,</span> <span class="p">[]),</span>               <span class="c1"># S -&gt; ε</span>
        <span class="p">(</span><span class="s1">&#39;S&#39;</span><span class="p">,</span> <span class="p">[</span><span class="s1">&#39;A&#39;</span><span class="p">,</span> <span class="s1">&#39;S&#39;</span><span class="p">,</span> <span class="s1">&#39;b&#39;</span><span class="p">]),</span>  <span class="c1"># S -&gt; A S b</span>
        <span class="p">(</span><span class="s1">&#39;A&#39;</span><span class="p">,</span> <span class="p">[</span><span class="s1">&#39;A&#39;</span><span class="p">,</span> <span class="s1">&#39;A&#39;</span><span class="p">]),</span>       <span class="c1"># A -&gt; A A, voila comment on gère a -&gt; a a</span>
        <span class="p">(</span><span class="s1">&#39;A&#39;</span><span class="p">,</span> <span class="p">[</span><span class="s1">&#39;a&#39;</span><span class="p">]),</span>            <span class="c1"># A -&gt; a</span>
    <span class="p">],</span>
    <span class="n">nom</span><span class="o">=</span><span class="s2">&quot;G5&quot;</span>
<span class="p">)</span>
<span class="nb">print</span><span class="p">(</span><span class="n">g5</span><span class="p">)</span>
<span class="nb">print</span><span class="p">(</span><span class="s2">&quot;La grammaire&quot;</span><span class="p">,</span> <span class="n">g5</span><span class="o">.</span><span class="n">nom</span><span class="p">,</span> <span class="s2">&quot;est-elle bien formée ?&quot;</span><span class="p">,</span> <span class="n">estBienFormee</span><span class="p">(</span><span class="n">g5</span><span class="p">))</span>
</pre></div>

    </div>
</div>
</div>

<div class="output_wrapper">
<div class="output">


<div class="output_area">

    <div class="prompt"></div>


<div class="output_subarea output_stream output_stdout output_text">
<pre>Grammaire G5 :
    - Alphabet Σ = {&#39;b&#39;, &#39;a&#39;},
    - Non terminaux V = {&#39;S&#39;, &#39;A&#39;},
    - Symbole initial : &#39;S&#39;,
    - Règles : S -&gt; ε, S -&gt; ASb, A -&gt; AA, A -&gt; a.
La grammaire G5 est-elle bien formée ? True
</pre>
</div>
</div>

</div>
</div>

</div>
<div class="cell border-box-sizing text_cell rendered"><div class="prompt input_prompt">
</div><div class="inner_cell">
<div class="text_cell_render border-box-sizing rendered_html">
<h2 id="2.3-V&#233;rifier-qu'une-grammaire-est-en-forme-normale-de-Chomsky">2.3 V&#233;rifier qu'une grammaire est en forme normale de Chomsky<a class="anchor-link" href="#2.3-V&#233;rifier-qu'une-grammaire-est-en-forme-normale-de-Chomsky">&#182;</a></h2>
</div>
</div>
</div>
<div class="cell border-box-sizing text_cell rendered"><div class="prompt input_prompt">
</div><div class="inner_cell">
<div class="text_cell_render border-box-sizing rendered_html">
<p>On veut maintenant pouvoir vérifier qu'une grammaire $G$ (i.e., un objet instance de <code>Grammaire</code>) est bien en forme normale de Chomsky.
En effet, l'algorithme CKY n'a aucune chance de fonctionner si la grammaire n'est pas sous la bonne forme.</p>
<p>Pour que $G$ soit en forme normale de Chomsky :</p>
<ul>
<li>elle doit d'abord être bien formée (cf. ci-dessus),</li>
<li>et chaque règle doit être<ul>
<li>soit de la forme $S \rightarrow \varepsilon$,</li>
<li>soit de la forme $A \rightarrow a$ pour $(A, a)$ dans $V \times \Sigma$,</li>
<li>soit de la forme $A \rightarrow B C$ pour $(A, B, C)$ dans $V^3$ (certains ouvrages demandent à ce qu'il n'y ait aucune production de $S$ le symbole initial, i.e., $B,C \neq S$, mais ça ne change rien pour l'algorithme qu'on implémente plus bas).</li>
</ul>
</li>
</ul>
<p>On vérifie ça facilement, point par point, dans la fonction suivante :</p>

</div>
</div>
</div>
<div class="cell border-box-sizing code_cell rendered">
<div class="input">
<div class="prompt input_prompt">In&nbsp;[11]:</div>
<div class="inner_cell">
    <div class="input_area">
<div class=" highlight hl-ipython3"><pre><span></span><span class="k">def</span> <span class="nf">estChomsky</span><span class="p">(</span><span class="bp">self</span><span class="p">:</span> <span class="n">Grammaire</span><span class="p">)</span> <span class="o">-&gt;</span> <span class="nb">bool</span><span class="p">:</span>
    <span class="sd">&quot;&quot;&quot; Vérifie que G est sous forme normale de Chomksy. &quot;&quot;&quot;</span>
    <span class="n">sigma</span><span class="p">,</span> <span class="n">v</span><span class="p">,</span> <span class="n">s</span><span class="p">,</span> <span class="n">regles</span> <span class="o">=</span> <span class="nb">set</span><span class="p">(</span><span class="bp">self</span><span class="o">.</span><span class="n">sigma</span><span class="p">),</span> <span class="nb">set</span><span class="p">(</span><span class="bp">self</span><span class="o">.</span><span class="n">v</span><span class="p">),</span> <span class="bp">self</span><span class="o">.</span><span class="n">s</span><span class="p">,</span> <span class="bp">self</span><span class="o">.</span><span class="n">r</span>
    <span class="n">estBienChomsky</span> <span class="o">=</span> <span class="nb">all</span><span class="p">(</span>
        <span class="p">(</span>   <span class="c1"># S -&gt; epsilon</span>
            <span class="n">regle</span><span class="p">[</span><span class="mi">0</span><span class="p">]</span> <span class="o">==</span> <span class="n">s</span> <span class="ow">and</span> <span class="ow">not</span> <span class="n">regle</span><span class="p">[</span><span class="mi">1</span><span class="p">]</span>
        <span class="p">)</span> <span class="ow">or</span> <span class="p">(</span>  <span class="c1"># A -&gt; a</span>
            <span class="nb">len</span><span class="p">(</span><span class="n">regle</span><span class="p">[</span><span class="mi">1</span><span class="p">])</span> <span class="o">==</span> <span class="mi">1</span>
            <span class="ow">and</span> <span class="n">regle</span><span class="p">[</span><span class="mi">1</span><span class="p">][</span><span class="mi">0</span><span class="p">]</span> <span class="ow">in</span> <span class="n">sigma</span>  <span class="c1"># a in Sigma</span>
        <span class="p">)</span> <span class="ow">or</span> <span class="p">(</span>  <span class="c1"># A -&gt; B C</span>
            <span class="nb">len</span><span class="p">(</span><span class="n">regle</span><span class="p">[</span><span class="mi">1</span><span class="p">])</span> <span class="o">==</span> <span class="mi">2</span>
            <span class="ow">and</span> <span class="n">regle</span><span class="p">[</span><span class="mi">1</span><span class="p">][</span><span class="mi">0</span><span class="p">]</span> <span class="ow">in</span> <span class="n">v</span>  <span class="c1"># B in V, not Sigma</span>
            <span class="ow">and</span> <span class="n">regle</span><span class="p">[</span><span class="mi">1</span><span class="p">][</span><span class="mi">1</span><span class="p">]</span> <span class="ow">in</span> <span class="n">v</span>  <span class="c1"># C in V, not Sigma</span>
        <span class="p">)</span>
        <span class="k">for</span> <span class="n">regle</span> <span class="ow">in</span> <span class="n">regles</span>
    <span class="p">)</span>
    <span class="k">return</span> <span class="n">estBienChomsky</span> <span class="ow">and</span> <span class="n">estBienFormee</span><span class="p">(</span><span class="bp">self</span><span class="p">)</span>

<span class="c1"># On ajoute la fonction comme une méthode (au cas où...)</span>
<span class="n">Grammaire</span><span class="o">.</span><span class="n">estChomsky</span> <span class="o">=</span> <span class="n">estChomsky</span>
</pre></div>

    </div>
</div>
</div>

</div>
<div class="cell border-box-sizing text_cell rendered"><div class="prompt input_prompt">
</div><div class="inner_cell">
<div class="text_cell_render border-box-sizing rendered_html">
<p>On peut tester avec les cinq grammaires definies plus haut ($G_1$, $G_2$, $G_3$, $G_4$, $G_5$).
Seule la grammaire $G_3$ est de Chomsky.</p>

</div>
</div>
</div>
<div class="cell border-box-sizing code_cell rendered">
<div class="input">
<div class="prompt input_prompt">In&nbsp;[12]:</div>
<div class="inner_cell">
    <div class="input_area">
<div class=" highlight hl-ipython3"><pre><span></span><span class="k">for</span> <span class="n">g</span> <span class="ow">in</span> <span class="p">[</span><span class="n">g1</span><span class="p">,</span> <span class="n">g2</span><span class="p">,</span> <span class="n">g3</span><span class="p">,</span> <span class="n">g4</span><span class="p">,</span> <span class="n">g5</span><span class="p">]:</span>
    <span class="nb">print</span><span class="p">(</span><span class="n">g</span><span class="p">)</span>
    <span class="nb">print</span><span class="p">(</span><span class="s2">&quot;La grammaire&quot;</span><span class="p">,</span> <span class="n">g</span><span class="o">.</span><span class="n">nom</span><span class="p">,</span> <span class="s2">&quot;est-elle de bien formée ?&quot;</span><span class="p">,</span> <span class="n">estBienFormee</span><span class="p">(</span><span class="n">g</span><span class="p">))</span>
    <span class="nb">print</span><span class="p">(</span><span class="s2">&quot;La grammaire&quot;</span><span class="p">,</span> <span class="n">g</span><span class="o">.</span><span class="n">nom</span><span class="p">,</span> <span class="s2">&quot;est-elle de Chomsky ?&quot;</span><span class="p">,</span> <span class="n">estChomsky</span><span class="p">(</span><span class="n">g</span><span class="p">))</span>
    <span class="nb">print</span><span class="p">()</span>
</pre></div>

    </div>
</div>
</div>

<div class="output_wrapper">
<div class="output">


<div class="output_area">

    <div class="prompt"></div>


<div class="output_subarea output_stream output_stdout output_text">
<pre>Grammaire G1 :
    - Alphabet Σ = {&#39;b&#39;, &#39;a&#39;},
    - Non terminaux V = {&#39;S&#39;},
    - Symbole initial : &#39;S&#39;,
    - Règles : S -&gt; ε, S -&gt; aSb.
La grammaire G1 est-elle de bien formée ? True
La grammaire G1 est-elle de Chomsky ? False

Grammaire G2 :
    - Alphabet Σ = {&#39;*&#39;, &#39;/&#39;, &#39;z&#39;, &#39;y&#39;, &#39;-&#39;, &#39;x&#39;, &#39;(&#39;, &#39;)&#39;, &#39;+&#39;},
    - Non terminaux V = {&#39;S&#39;},
    - Symbole initial : &#39;S&#39;,
    - Règles : S -&gt; x, S -&gt; y, S -&gt; z, S -&gt; S+S, S -&gt; S-S, S -&gt; S*S, S -&gt; S/S, S -&gt; (S).
La grammaire G2 est-elle de bien formée ? True
La grammaire G2 est-elle de Chomsky ? False

Grammaire G3 :
    - Alphabet Σ = {&#39;fish &#39;, &#39;fork &#39;, &#39;eats &#39;, &#39;a &#39;, &#39;she &#39;, &#39;an &#39;, &#39;sword &#39;, &#39;ork &#39;, &#39;with &#39;},
    - Non terminaux V = {&#39;PP &#39;, &#39;DetVo &#39;, &#39;S&#39;, &#39;Det &#39;, &#39;N &#39;, &#39;P &#39;, &#39;V &#39;, &#39;NVo &#39;, &#39;NP &#39;, &#39;VP &#39;},
    - Symbole initial : &#39;S&#39;,
    - Règles : S -&gt; NP VP , VP  -&gt; VP PP , VP  -&gt; V NP , PP  -&gt; P NP , NP  -&gt; Det N , NP  -&gt; DetVo NVo , VP  -&gt; eats , NP  -&gt; she , V  -&gt; eats , P  -&gt; with , N  -&gt; fish , N  -&gt; fork , N  -&gt; sword , NVo  -&gt; ork , Det  -&gt; a , DetVo  -&gt; an .
La grammaire G3 est-elle de bien formée ? True
La grammaire G3 est-elle de Chomsky ? True

Grammaire G4 :
    - Alphabet Σ = {&#39;b&#39;, &#39;a&#39;},
    - Non terminaux V = {&#39;S&#39;},
    - Symbole initial : &#39;S&#39;,
    - Règles : S -&gt; ε, S -&gt; aSb, a -&gt; aa.
La grammaire G4 est-elle de bien formée ? False
La grammaire G4 est-elle de Chomsky ? False

Grammaire G5 :
    - Alphabet Σ = {&#39;b&#39;, &#39;a&#39;},
    - Non terminaux V = {&#39;S&#39;, &#39;A&#39;},
    - Symbole initial : &#39;S&#39;,
    - Règles : S -&gt; ε, S -&gt; ASb, A -&gt; AA, A -&gt; a.
La grammaire G5 est-elle de bien formée ? True
La grammaire G5 est-elle de Chomsky ? False

</pre>
</div>
</div>

</div>
</div>

</div>
<div class="cell border-box-sizing text_cell rendered"><div class="prompt input_prompt">
</div><div class="inner_cell">
<div class="text_cell_render border-box-sizing rendered_html">
<p>À la main, on peut transformer $G_5$ pour la mettre en forme de Chomsky (et après, on passe à CYK).
Notez que cette transformation est automatique, elle est implémentée dans le cas general (d'une grammaire $G$ bien formée), ci-dessus en partie 5.</p>

</div>
</div>
</div>
<div class="cell border-box-sizing code_cell rendered">
<div class="input">
<div class="prompt input_prompt">In&nbsp;[13]:</div>
<div class="inner_cell">
    <div class="input_area">
<div class=" highlight hl-ipython3"><pre><span></span><span class="n">g6</span> <span class="o">=</span> <span class="n">Grammaire</span><span class="p">(</span>
    <span class="p">[</span><span class="s1">&#39;a&#39;</span><span class="p">,</span> <span class="s1">&#39;b&#39;</span><span class="p">],</span>            <span class="c1"># Alphabet de production</span>
    <span class="p">[</span><span class="s1">&#39;S&#39;</span><span class="p">,</span> <span class="s1">&#39;T&#39;</span><span class="p">,</span> <span class="s1">&#39;A&#39;</span><span class="p">,</span> <span class="s1">&#39;B&#39;</span><span class="p">],</span>  <span class="c1"># Alphabet de travail</span>
    <span class="s1">&#39;S&#39;</span><span class="p">,</span>                   <span class="c1"># Symbole initial (un seul)</span>
    <span class="p">[</span>                      <span class="c1"># Règles</span>
        <span class="p">(</span><span class="s1">&#39;S&#39;</span><span class="p">,</span> <span class="p">[]),</span>               <span class="c1"># S -&gt; ε, on efface S si on veut produire le mot vide</span>
        <span class="c1"># On coupe la règle S -&gt; A S B en deux :</span>
        <span class="p">(</span><span class="s1">&#39;S&#39;</span><span class="p">,</span> <span class="p">[</span><span class="s1">&#39;A&#39;</span><span class="p">,</span> <span class="s1">&#39;T&#39;</span><span class="p">]),</span>       <span class="c1"># S -&gt; A T</span>
        <span class="p">(</span><span class="s1">&#39;T&#39;</span><span class="p">,</span> <span class="p">[</span><span class="s1">&#39;S&#39;</span><span class="p">,</span> <span class="s1">&#39;B&#39;</span><span class="p">]),</span>       <span class="c1"># T -&gt; S B</span>
        <span class="p">(</span><span class="s1">&#39;A&#39;</span><span class="p">,</span> <span class="p">[</span><span class="s1">&#39;A&#39;</span><span class="p">,</span> <span class="s1">&#39;A&#39;</span><span class="p">]),</span>       <span class="c1"># A -&gt; A A, voilà comment on gère a -&gt; a a</span>
        <span class="c1"># Production de lettres</span>
        <span class="p">(</span><span class="s1">&#39;A&#39;</span><span class="p">,</span> <span class="p">[</span><span class="s1">&#39;a&#39;</span><span class="p">]),</span>            <span class="c1"># A -&gt; a</span>
        <span class="p">(</span><span class="s1">&#39;B&#39;</span><span class="p">,</span> <span class="p">[</span><span class="s1">&#39;b&#39;</span><span class="p">]),</span>            <span class="c1"># B -&gt; b</span>
    <span class="p">],</span>
    <span class="n">nom</span><span class="o">=</span><span class="s2">&quot;G6&quot;</span>
<span class="p">)</span>
<span class="nb">print</span><span class="p">(</span><span class="n">g6</span><span class="p">)</span>
<span class="nb">print</span><span class="p">(</span><span class="s2">&quot;La grammaire&quot;</span><span class="p">,</span> <span class="n">g6</span><span class="o">.</span><span class="n">nom</span><span class="p">,</span> <span class="s2">&quot;est-elle bien formée ?&quot;</span><span class="p">,</span> <span class="n">estBienFormee</span><span class="p">(</span><span class="n">g6</span><span class="p">))</span>
<span class="nb">print</span><span class="p">(</span><span class="s2">&quot;La grammaire&quot;</span><span class="p">,</span> <span class="n">g6</span><span class="o">.</span><span class="n">nom</span><span class="p">,</span> <span class="s2">&quot;est-elle de Chomsky ?&quot;</span><span class="p">,</span> <span class="n">estChomsky</span><span class="p">(</span><span class="n">g6</span><span class="p">))</span>
</pre></div>

    </div>
</div>
</div>

<div class="output_wrapper">
<div class="output">


<div class="output_area">

    <div class="prompt"></div>


<div class="output_subarea output_stream output_stdout output_text">
<pre>Grammaire G6 :
    - Alphabet Σ = {&#39;b&#39;, &#39;a&#39;},
    - Non terminaux V = {&#39;S&#39;, &#39;A&#39;, &#39;T&#39;, &#39;B&#39;},
    - Symbole initial : &#39;S&#39;,
    - Règles : S -&gt; ε, S -&gt; AT, T -&gt; SB, A -&gt; AA, A -&gt; a, B -&gt; b.
La grammaire G6 est-elle bien formée ? True
La grammaire G6 est-elle de Chomsky ? True
</pre>
</div>
</div>

</div>
</div>

</div>
<div class="cell border-box-sizing text_cell rendered"><div class="prompt input_prompt">
</div><div class="inner_cell">
<div class="text_cell_render border-box-sizing rendered_html">
<h2 id="2.4-(enfin)-L'algorithme-de-Cocke-Kasami-Younger">2.4 (enfin) L'algorithme de Cocke-Kasami-Younger<a class="anchor-link" href="#2.4-(enfin)-L'algorithme-de-Cocke-Kasami-Younger">&#182;</a></h2>
</div>
</div>
</div>
<div class="cell border-box-sizing text_cell rendered"><div class="prompt input_prompt">
</div><div class="inner_cell">
<div class="text_cell_render border-box-sizing rendered_html">
<p>On passe <em>enfin</em> à l'algorithme de Cocke-Kasami-Younger.</p>
<p>L'algorithme va prendre une grammaire $G$, bien formée, de taille $|G|$ (definie comme la somme des longueurs de $\Sigma$ et $V$ et la somme des tailles des règles), ainsi qu'un mot $w$ de taille $n = |w|$ (<strong>attention</strong>, ce n'est pas une <code>str</code> mais une liste de variables <code>List[Var]</code>, i.e., une liste de <code>str</code>).</p>
<p>Le but est de vérifier si le mot $w$ peut être engendrée par la grammaire $G$, i.e., de déterminer si $w \in L(G)$.
Pour le détail de fonctionnement, cf. le code Python ci dessous, ou <a href="https://fr.wikipedia.org/wiki/Algorithme_de_Cocke-Younger-Kasami">la page Wikipedia</a>.</p>
<p>L'algorithme aura :</p>
<ul>
<li>une complexité en mémoire en $\mathcal{O}(|G| + |w|^2)$,</li>
<li>une complexité en temps en $\mathcal{O}(|G| \times |w|^3)$, ce qui montrera que le problème du mot pour les grammaires en forme de Chomsky est dans $\mathcal{P}$ (en temps polynomial, c'est déjà cool) et en temps raisonnable (cubique en $n = |w|$, c'est encore mieux !).</li>
</ul>
<p>On va utiliser une table de hachage <code>E</code> contiendra, à la fin du calcul, les $E_{i, j}$ définis par :
$$ E_{i, j} := \{ A \in V : w[i, j] \in L_G(A) \}.$$
Ou l'on a noté $w[i, j] = w_i \dots w_j$ le sous-mot d'indices $i,\dots,j$, et $L_G(A)$ le langage engendré par $G$ en partant du symbole $A$ (et pas du symbole initial $S$).</p>
<p><em>Note :</em> la table de hachage n'est pas vraiment requise, une liste de liste fonctionnerait aussi mais la notation en serait moins proche de celle utilisée en maths.</p>

</div>
</div>
</div>
<div class="cell border-box-sizing code_cell rendered">
<div class="input">
<div class="prompt input_prompt">In&nbsp;[14]:</div>
<div class="inner_cell">
    <div class="input_area">
<div class=" highlight hl-ipython3"><pre><span></span><span class="k">def</span> <span class="nf">cocke_kasami_younger</span><span class="p">(</span><span class="bp">self</span><span class="p">,</span> <span class="n">w</span><span class="p">):</span>
    <span class="sd">&quot;&quot;&quot; Vérifie si le mot w est dans L(G). &quot;&quot;&quot;</span>
    <span class="k">assert</span> <span class="n">estChomsky</span><span class="p">(</span><span class="bp">self</span><span class="p">),</span> <span class="s2">&quot;Erreur : </span><span class="si">{}</span><span class="s2"> n&#39;est pas en forme de Chomsky, l&#39;algorithme de Cocke-Kasami-Younger ne fonctionnera pas.&quot;</span><span class="o">.</span><span class="n">format</span><span class="p">(</span><span class="bp">self</span><span class="o">.</span><span class="n">nom</span><span class="p">)</span>
    <span class="n">sigma</span><span class="p">,</span> <span class="n">v</span><span class="p">,</span> <span class="n">s</span><span class="p">,</span> <span class="n">regles</span> <span class="o">=</span> <span class="nb">set</span><span class="p">(</span><span class="bp">self</span><span class="o">.</span><span class="n">sigma</span><span class="p">),</span> <span class="nb">set</span><span class="p">(</span><span class="bp">self</span><span class="o">.</span><span class="n">v</span><span class="p">),</span> <span class="bp">self</span><span class="o">.</span><span class="n">s</span><span class="p">,</span> <span class="bp">self</span><span class="o">.</span><span class="n">r</span>
    <span class="n">n</span> <span class="o">=</span> <span class="nb">len</span><span class="p">(</span><span class="n">w</span><span class="p">)</span>
    <span class="n">E</span> <span class="o">=</span> <span class="nb">dict</span><span class="p">()</span>  <span class="c1"># De taille n^2</span>
    <span class="c1"># Cas special pour tester si le mot vide est dans L(G)</span>
    <span class="k">if</span> <span class="n">n</span> <span class="o">==</span> <span class="mi">0</span><span class="p">:</span>
        <span class="k">return</span> <span class="p">(</span><span class="n">s</span><span class="p">,</span> <span class="p">[])</span> <span class="ow">in</span> <span class="n">regles</span><span class="p">,</span> <span class="n">E</span>
    <span class="c1"># Boucle en O(n^2)</span>
    <span class="k">for</span> <span class="n">i</span> <span class="ow">in</span> <span class="nb">range</span><span class="p">(</span><span class="n">n</span><span class="p">):</span>
        <span class="k">for</span> <span class="n">j</span> <span class="ow">in</span> <span class="nb">range</span><span class="p">(</span><span class="n">n</span><span class="p">):</span>
            <span class="n">E</span><span class="p">[(</span><span class="n">i</span><span class="p">,</span> <span class="n">j</span><span class="p">)]</span> <span class="o">=</span> <span class="nb">set</span><span class="p">()</span>
    <span class="c1"># Boucle en O(n x |G|)</span>
    <span class="k">for</span> <span class="n">i</span> <span class="ow">in</span> <span class="nb">range</span><span class="p">(</span><span class="n">n</span><span class="p">):</span>
        <span class="k">for</span> <span class="n">regle</span> <span class="ow">in</span> <span class="n">regles</span><span class="p">:</span>
            <span class="c1"># Si regle est de la forme : A -&gt; a</span>
            <span class="k">if</span> <span class="nb">len</span><span class="p">(</span><span class="n">regle</span><span class="p">[</span><span class="mi">1</span><span class="p">])</span> <span class="o">==</span> <span class="mi">1</span><span class="p">:</span>
                <span class="n">A</span> <span class="o">=</span> <span class="n">regle</span><span class="p">[</span><span class="mi">0</span><span class="p">]</span>
                <span class="n">a</span> <span class="o">=</span> <span class="n">regle</span><span class="p">[</span><span class="mi">1</span><span class="p">][</span><span class="mi">0</span><span class="p">]</span>
                <span class="k">if</span> <span class="n">w</span><span class="p">[</span><span class="n">i</span><span class="p">]</span> <span class="o">==</span> <span class="n">a</span><span class="p">:</span>  <span class="c1"># Notez que c&#39;est le seul moment ou utilise le mot w !</span>
                    <span class="n">E</span><span class="p">[(</span><span class="n">i</span><span class="p">,</span> <span class="n">i</span><span class="p">)]</span> <span class="o">=</span> <span class="n">E</span><span class="p">[(</span><span class="n">i</span><span class="p">,</span> <span class="n">i</span><span class="p">)]</span> <span class="o">|</span> <span class="p">{</span><span class="n">A</span><span class="p">}</span>
    <span class="c1"># Boucle en O(n^3 x |G|)</span>
    <span class="k">for</span> <span class="n">d</span> <span class="ow">in</span> <span class="nb">range</span><span class="p">(</span><span class="mi">1</span><span class="p">,</span> <span class="n">n</span><span class="p">):</span>          <span class="c1"># Longueur du morceau</span>
        <span class="k">for</span> <span class="n">i</span> <span class="ow">in</span> <span class="nb">range</span><span class="p">(</span><span class="n">n</span> <span class="o">-</span> <span class="n">d</span><span class="p">):</span>     <span class="c1"># Début du morceau</span>
            <span class="n">j</span> <span class="o">=</span> <span class="n">i</span> <span class="o">+</span> <span class="n">d</span>              <span class="c1"># Fin du morceau, on regarde w[i]..w[j]</span>
            <span class="k">for</span> <span class="n">k</span> <span class="ow">in</span> <span class="nb">range</span><span class="p">(</span><span class="n">i</span><span class="p">,</span> <span class="n">j</span><span class="p">):</span>  <span class="c1"># Parcourt du morceau, ..w[k].., sans la fin</span>
                <span class="k">for</span> <span class="n">regle</span> <span class="ow">in</span> <span class="n">regles</span><span class="p">:</span>
                    <span class="c1"># Si regle est de la forme A -&gt; B C</span>
                    <span class="k">if</span> <span class="nb">len</span><span class="p">(</span><span class="n">regle</span><span class="p">[</span><span class="mi">1</span><span class="p">])</span> <span class="o">==</span> <span class="mi">2</span><span class="p">:</span>
                        <span class="n">A</span> <span class="o">=</span> <span class="n">regle</span><span class="p">[</span><span class="mi">0</span><span class="p">]</span>
                        <span class="n">B</span><span class="p">,</span> <span class="n">C</span> <span class="o">=</span> <span class="n">regle</span><span class="p">[</span><span class="mi">1</span><span class="p">]</span>
                        <span class="k">if</span> <span class="n">B</span> <span class="ow">in</span> <span class="n">E</span><span class="p">[(</span><span class="n">i</span><span class="p">,</span> <span class="n">k</span><span class="p">)]</span> <span class="ow">and</span> <span class="n">C</span> <span class="ow">in</span> <span class="n">E</span><span class="p">[(</span><span class="n">k</span> <span class="o">+</span> <span class="mi">1</span><span class="p">,</span> <span class="n">j</span><span class="p">)]:</span>
                            <span class="n">E</span><span class="p">[(</span><span class="n">i</span><span class="p">,</span> <span class="n">j</span><span class="p">)]</span> <span class="o">=</span> <span class="n">E</span><span class="p">[(</span><span class="n">i</span><span class="p">,</span> <span class="n">j</span><span class="p">)]</span> <span class="o">|</span> <span class="p">{</span><span class="n">A</span><span class="p">}</span>
    <span class="c1"># On a fini, il suffit maintenant d&#39;utiliser la table créée par programmation dynamique</span>
    <span class="k">return</span> <span class="n">s</span> <span class="ow">in</span> <span class="n">E</span><span class="p">[(</span><span class="mi">0</span><span class="p">,</span> <span class="n">n</span> <span class="o">-</span> <span class="mi">1</span><span class="p">)],</span> <span class="n">E</span>

<span class="c1"># On ajoute la fonction comme une méthode (au cas où...)</span>
<span class="n">Grammaire</span><span class="o">.</span><span class="n">genere</span> <span class="o">=</span> <span class="n">cocke_kasami_younger</span>
</pre></div>

    </div>
</div>
</div>

</div>
<div class="cell border-box-sizing text_cell rendered"><div class="prompt input_prompt">
</div><div class="inner_cell">
<div class="text_cell_render border-box-sizing rendered_html">
<hr>

</div>
</div>
</div>
<div class="cell border-box-sizing text_cell rendered"><div class="prompt input_prompt">
</div><div class="inner_cell">
<div class="text_cell_render border-box-sizing rendered_html">
<h2 id="2.5-Exemples">2.5 Exemples<a class="anchor-link" href="#2.5-Exemples">&#182;</a></h2>
</div>
</div>
</div>
<div class="cell border-box-sizing text_cell rendered"><div class="prompt input_prompt">
</div><div class="inner_cell">
<div class="text_cell_render border-box-sizing rendered_html">
<p>On présente ici des exemples d'utilisation de cette fonction <code>cocke_kasami_younger</code> avec les grammaires $G_i$ présentées plus haut et quelques examples de mots $w$.</p>

</div>
</div>
</div>
<div class="cell border-box-sizing code_cell rendered">
<div class="input">
<div class="prompt input_prompt">In&nbsp;[15]:</div>
<div class="inner_cell">
    <div class="input_area">
<div class=" highlight hl-ipython3"><pre><span></span><span class="k">def</span> <span class="nf">testeMot</span><span class="p">(</span><span class="n">g</span><span class="p">,</span> <span class="n">w</span><span class="p">):</span>
    <span class="sd">&quot;&quot;&quot; Joli affichage pour un test &quot;&quot;&quot;</span>
    <span class="nb">print</span><span class="p">(</span><span class="s2">&quot;# Test si w in L(G) :&quot;</span><span class="p">)</span>
    <span class="nb">print</span><span class="p">(</span><span class="s2">&quot;  Pour&quot;</span><span class="p">,</span> <span class="n">g</span><span class="o">.</span><span class="n">nom</span><span class="p">,</span> <span class="s2">&quot;et w =&quot;</span><span class="p">,</span> <span class="n">w</span><span class="p">)</span>
    <span class="n">estDansLG</span><span class="p">,</span> <span class="n">E</span> <span class="o">=</span> <span class="n">cocke_kasami_younger</span><span class="p">(</span><span class="n">g</span><span class="p">,</span> <span class="n">w</span><span class="p">)</span>
    <span class="k">if</span> <span class="n">estDansLG</span><span class="p">:</span>
        <span class="nb">print</span><span class="p">(</span><span class="s2">&quot;  ==&gt; Ce mot est bien engendré par G !&quot;</span><span class="p">)</span>
    <span class="k">else</span><span class="p">:</span>
        <span class="nb">print</span><span class="p">(</span><span class="s2">&quot;  ==&gt; Ce mot n&#39;est pas engendré par G !&quot;</span><span class="p">)</span>
    <span class="k">return</span> <span class="n">estDansLG</span><span class="p">,</span> <span class="n">E</span>
</pre></div>

    </div>
</div>
</div>

</div>
<div class="cell border-box-sizing text_cell rendered"><div class="prompt input_prompt">
</div><div class="inner_cell">
<div class="text_cell_render border-box-sizing rendered_html">
<h3 id="2.5.1-Avec-$G_3$">2.5.1 Avec $G_3$<a class="anchor-link" href="#2.5.1-Avec-$G_3$">&#182;</a></h3>
</div>
</div>
</div>
<div class="cell border-box-sizing code_cell rendered">
<div class="input">
<div class="prompt input_prompt">In&nbsp;[16]:</div>
<div class="inner_cell">
    <div class="input_area">
<div class=" highlight hl-ipython3"><pre><span></span><span class="nb">print</span><span class="p">(</span><span class="n">g3</span><span class="p">)</span>
<span class="nb">print</span><span class="p">(</span><span class="n">estChomsky</span><span class="p">(</span><span class="n">g3</span><span class="p">))</span>
</pre></div>

    </div>
</div>
</div>

<div class="output_wrapper">
<div class="output">


<div class="output_area">

    <div class="prompt"></div>


<div class="output_subarea output_stream output_stdout output_text">
<pre>Grammaire G3 :
    - Alphabet Σ = {&#39;fish &#39;, &#39;fork &#39;, &#39;eats &#39;, &#39;a &#39;, &#39;she &#39;, &#39;an &#39;, &#39;sword &#39;, &#39;ork &#39;, &#39;with &#39;},
    - Non terminaux V = {&#39;PP &#39;, &#39;DetVo &#39;, &#39;S&#39;, &#39;Det &#39;, &#39;N &#39;, &#39;P &#39;, &#39;V &#39;, &#39;NVo &#39;, &#39;NP &#39;, &#39;VP &#39;},
    - Symbole initial : &#39;S&#39;,
    - Règles : S -&gt; NP VP , VP  -&gt; VP PP , VP  -&gt; V NP , PP  -&gt; P NP , NP  -&gt; Det N , NP  -&gt; DetVo NVo , VP  -&gt; eats , NP  -&gt; she , V  -&gt; eats , P  -&gt; with , N  -&gt; fish , N  -&gt; fork , N  -&gt; sword , NVo  -&gt; ork , Det  -&gt; a , DetVo  -&gt; an .
True
</pre>
</div>
</div>

</div>
</div>

</div>
<div class="cell border-box-sizing code_cell rendered">
<div class="input">
<div class="prompt input_prompt">In&nbsp;[17]:</div>
<div class="inner_cell">
    <div class="input_area">
<div class=" highlight hl-ipython3"><pre><span></span><span class="n">w1</span> <span class="o">=</span> <span class="p">[</span> <span class="s2">&quot;she &quot;</span><span class="p">,</span> <span class="s2">&quot;eats &quot;</span><span class="p">,</span> <span class="s2">&quot;a &quot;</span><span class="p">,</span> <span class="s2">&quot;fish &quot;</span><span class="p">,</span> <span class="s2">&quot;with &quot;</span><span class="p">,</span> <span class="s2">&quot;a &quot;</span><span class="p">,</span> <span class="s2">&quot;fork &quot;</span> <span class="p">]</span>  <span class="c1"># True</span>
<span class="n">estDansLG1</span><span class="p">,</span> <span class="n">E1</span> <span class="o">=</span> <span class="n">testeMot</span><span class="p">(</span><span class="n">g3</span><span class="p">,</span> <span class="n">w1</span><span class="p">)</span>
</pre></div>

    </div>
</div>
</div>

<div class="output_wrapper">
<div class="output">


<div class="output_area">

    <div class="prompt"></div>


<div class="output_subarea output_stream output_stdout output_text">
<pre># Test si w in L(G) :
  Pour G3 et w = [&#39;she &#39;, &#39;eats &#39;, &#39;a &#39;, &#39;fish &#39;, &#39;with &#39;, &#39;a &#39;, &#39;fork &#39;]
  ==&gt; Ce mot est bien engendré par G !
</pre>
</div>
</div>

</div>
</div>

</div>
<div class="cell border-box-sizing text_cell rendered"><div class="prompt input_prompt">
</div><div class="inner_cell">
<div class="text_cell_render border-box-sizing rendered_html">
<p>Pour cet exemple, on peut afficher la table <code>E</code> (en ne montrant que les cases qui ont un $E_{i, j}$ non-vide) :</p>

</div>
</div>
</div>
<div class="cell border-box-sizing code_cell rendered">
<div class="input">
<div class="prompt input_prompt">In&nbsp;[18]:</div>
<div class="inner_cell">
    <div class="input_area">
<div class=" highlight hl-ipython3"><pre><span></span><span class="k">for</span> <span class="n">k</span> <span class="ow">in</span> <span class="n">E1</span><span class="o">.</span><span class="n">copy</span><span class="p">():</span>
    <span class="k">if</span> <span class="n">k</span> <span class="ow">in</span> <span class="n">E1</span> <span class="ow">and</span> <span class="ow">not</span> <span class="n">E1</span><span class="p">[</span><span class="n">k</span><span class="p">]:</span>  <span class="c1"># On retire les clés qui ont un E[(i, j)] vide</span>
        <span class="k">del</span><span class="p">(</span><span class="n">E1</span><span class="p">[</span><span class="n">k</span><span class="p">])</span>
<span class="nb">print</span><span class="p">(</span><span class="n">E1</span><span class="p">)</span>
</pre></div>

    </div>
</div>
</div>

<div class="output_wrapper">
<div class="output">


<div class="output_area">

    <div class="prompt"></div>


<div class="output_subarea output_stream output_stdout output_text">
<pre>{(0, 0): {&#39;NP &#39;}, (0, 1): {&#39;S&#39;}, (0, 3): {&#39;S&#39;}, (0, 6): {&#39;S&#39;}, (1, 1): {&#39;V &#39;, &#39;VP &#39;}, (1, 3): {&#39;VP &#39;}, (1, 6): {&#39;VP &#39;}, (2, 2): {&#39;Det &#39;}, (2, 3): {&#39;NP &#39;}, (3, 3): {&#39;N &#39;}, (4, 4): {&#39;P &#39;}, (4, 6): {&#39;PP &#39;}, (5, 5): {&#39;Det &#39;}, (5, 6): {&#39;NP &#39;}, (6, 6): {&#39;N &#39;}}
</pre>
</div>
</div>

</div>
</div>

</div>
<div class="cell border-box-sizing text_cell rendered"><div class="prompt input_prompt">
</div><div class="inner_cell">
<div class="text_cell_render border-box-sizing rendered_html">
<hr>

</div>
</div>
</div>
<div class="cell border-box-sizing code_cell rendered">
<div class="input">
<div class="prompt input_prompt">In&nbsp;[19]:</div>
<div class="inner_cell">
    <div class="input_area">
<div class=" highlight hl-ipython3"><pre><span></span><span class="n">w2</span> <span class="o">=</span> <span class="p">[</span> <span class="s2">&quot;she &quot;</span><span class="p">,</span> <span class="s2">&quot;attacks &quot;</span><span class="p">,</span> <span class="s2">&quot;a &quot;</span><span class="p">,</span> <span class="s2">&quot;fish &quot;</span><span class="p">,</span> <span class="s2">&quot;with &quot;</span><span class="p">,</span> <span class="s2">&quot;a &quot;</span><span class="p">,</span> <span class="s2">&quot;fork &quot;</span> <span class="p">]</span>  <span class="c1"># False</span>
<span class="n">estDansLG2</span><span class="p">,</span> <span class="n">E2</span> <span class="o">=</span> <span class="n">testeMot</span><span class="p">(</span><span class="n">g3</span><span class="p">,</span> <span class="n">w2</span><span class="p">)</span>
</pre></div>

    </div>
</div>
</div>

<div class="output_wrapper">
<div class="output">


<div class="output_area">

    <div class="prompt"></div>


<div class="output_subarea output_stream output_stdout output_text">
<pre># Test si w in L(G) :
  Pour G3 et w = [&#39;she &#39;, &#39;attacks &#39;, &#39;a &#39;, &#39;fish &#39;, &#39;with &#39;, &#39;a &#39;, &#39;fork &#39;]
  ==&gt; Ce mot n&#39;est pas engendré par G !
</pre>
</div>
</div>

</div>
</div>

</div>
<div class="cell border-box-sizing code_cell rendered">
<div class="input">
<div class="prompt input_prompt">In&nbsp;[20]:</div>
<div class="inner_cell">
    <div class="input_area">
<div class=" highlight hl-ipython3"><pre><span></span><span class="n">w3</span> <span class="o">=</span> <span class="p">[</span> <span class="s2">&quot;she &quot;</span><span class="p">,</span> <span class="s2">&quot;eats &quot;</span><span class="p">,</span> <span class="s2">&quot;an &quot;</span><span class="p">,</span> <span class="s2">&quot;ork &quot;</span><span class="p">,</span> <span class="s2">&quot;with &quot;</span><span class="p">,</span> <span class="s2">&quot;a &quot;</span><span class="p">,</span> <span class="s2">&quot;sword &quot;</span> <span class="p">]</span>  <span class="c1"># True</span>
<span class="n">estDansLG3</span><span class="p">,</span> <span class="n">E3</span> <span class="o">=</span> <span class="n">testeMot</span><span class="p">(</span><span class="n">g3</span><span class="p">,</span> <span class="n">w3</span><span class="p">)</span>
</pre></div>

    </div>
</div>
</div>

<div class="output_wrapper">
<div class="output">


<div class="output_area">

    <div class="prompt"></div>


<div class="output_subarea output_stream output_stdout output_text">
<pre># Test si w in L(G) :
  Pour G3 et w = [&#39;she &#39;, &#39;eats &#39;, &#39;an &#39;, &#39;ork &#39;, &#39;with &#39;, &#39;a &#39;, &#39;sword &#39;]
  ==&gt; Ce mot est bien engendré par G !
</pre>
</div>
</div>

</div>
</div>

</div>
<div class="cell border-box-sizing text_cell rendered"><div class="prompt input_prompt">
</div><div class="inner_cell">
<div class="text_cell_render border-box-sizing rendered_html">
<p>D'autres exemples :</p>

</div>
</div>
</div>
<div class="cell border-box-sizing code_cell rendered">
<div class="input">
<div class="prompt input_prompt">In&nbsp;[21]:</div>
<div class="inner_cell">
    <div class="input_area">
<div class=" highlight hl-ipython3"><pre><span></span><span class="n">w4</span> <span class="o">=</span> <span class="p">[</span> <span class="s2">&quot;she &quot;</span><span class="p">,</span> <span class="s2">&quot;eats &quot;</span><span class="p">,</span> <span class="s2">&quot;an &quot;</span><span class="p">,</span> <span class="s2">&quot;fish &quot;</span><span class="p">,</span> <span class="s2">&quot;with &quot;</span><span class="p">,</span> <span class="s2">&quot;a &quot;</span><span class="p">,</span> <span class="s2">&quot;fork &quot;</span> <span class="p">]</span>  <span class="c1"># False</span>
<span class="n">estDansLG4</span><span class="p">,</span> <span class="n">E4</span> <span class="o">=</span> <span class="n">testeMot</span><span class="p">(</span><span class="n">g3</span><span class="p">,</span> <span class="n">w4</span><span class="p">)</span>
<span class="n">w5</span> <span class="o">=</span> <span class="p">[</span> <span class="s2">&quot;she &quot;</span><span class="p">,</span> <span class="s2">&quot;eat &quot;</span><span class="p">,</span> <span class="s2">&quot;a &quot;</span><span class="p">,</span> <span class="s2">&quot;fish &quot;</span><span class="p">,</span> <span class="s2">&quot;with &quot;</span><span class="p">,</span> <span class="s2">&quot;a &quot;</span><span class="p">,</span> <span class="s2">&quot;fork &quot;</span> <span class="p">]</span>  <span class="c1"># False</span>
<span class="n">estDansLG5</span><span class="p">,</span> <span class="n">E5</span> <span class="o">=</span> <span class="n">testeMot</span><span class="p">(</span><span class="n">g3</span><span class="p">,</span> <span class="n">w5</span><span class="p">)</span>
<span class="n">w6</span> <span class="o">=</span> <span class="p">[</span> <span class="s2">&quot;she &quot;</span><span class="p">,</span> <span class="s2">&quot;eats &quot;</span><span class="p">,</span> <span class="s2">&quot;a &quot;</span><span class="p">,</span> <span class="s2">&quot;fish &quot;</span><span class="p">,</span> <span class="s2">&quot;with &quot;</span><span class="p">,</span> <span class="s2">&quot;a &quot;</span><span class="p">,</span> <span class="s2">&quot;fish &quot;</span> <span class="p">,</span> <span class="s2">&quot;with &quot;</span><span class="p">,</span> <span class="s2">&quot;a &quot;</span><span class="p">,</span> <span class="s2">&quot;fish &quot;</span> <span class="p">,</span> <span class="s2">&quot;with &quot;</span><span class="p">,</span> <span class="s2">&quot;a &quot;</span><span class="p">,</span> <span class="s2">&quot;fish &quot;</span> <span class="p">,</span> <span class="s2">&quot;with &quot;</span><span class="p">,</span> <span class="s2">&quot;a &quot;</span><span class="p">,</span> <span class="s2">&quot;fish &quot;</span> <span class="p">]</span>  <span class="c1"># True</span>
<span class="n">estDansLG6</span><span class="p">,</span> <span class="n">E6</span> <span class="o">=</span> <span class="n">testeMot</span><span class="p">(</span><span class="n">g3</span><span class="p">,</span> <span class="n">w6</span><span class="p">)</span>
</pre></div>

    </div>
</div>
</div>

<div class="output_wrapper">
<div class="output">


<div class="output_area">

    <div class="prompt"></div>


<div class="output_subarea output_stream output_stdout output_text">
<pre># Test si w in L(G) :
  Pour G3 et w = [&#39;she &#39;, &#39;eats &#39;, &#39;an &#39;, &#39;fish &#39;, &#39;with &#39;, &#39;a &#39;, &#39;fork &#39;]
  ==&gt; Ce mot n&#39;est pas engendré par G !
# Test si w in L(G) :
  Pour G3 et w = [&#39;she &#39;, &#39;eat &#39;, &#39;a &#39;, &#39;fish &#39;, &#39;with &#39;, &#39;a &#39;, &#39;fork &#39;]
  ==&gt; Ce mot n&#39;est pas engendré par G !
# Test si w in L(G) :
  Pour G3 et w = [&#39;she &#39;, &#39;eats &#39;, &#39;a &#39;, &#39;fish &#39;, &#39;with &#39;, &#39;a &#39;, &#39;fish &#39;, &#39;with &#39;, &#39;a &#39;, &#39;fish &#39;, &#39;with &#39;, &#39;a &#39;, &#39;fish &#39;, &#39;with &#39;, &#39;a &#39;, &#39;fish &#39;]
  ==&gt; Ce mot est bien engendré par G !
</pre>
</div>
</div>

</div>
</div>

</div>
<div class="cell border-box-sizing text_cell rendered"><div class="prompt input_prompt">
</div><div class="inner_cell">
<div class="text_cell_render border-box-sizing rendered_html">
<h3 id="2.5.2-Avec-$G_6$">2.5.2 Avec $G_6$<a class="anchor-link" href="#2.5.2-Avec-$G_6$">&#182;</a></h3>
</div>
</div>
</div>
<div class="cell border-box-sizing code_cell rendered">
<div class="input">
<div class="prompt input_prompt">In&nbsp;[22]:</div>
<div class="inner_cell">
    <div class="input_area">
<div class=" highlight hl-ipython3"><pre><span></span><span class="nb">print</span><span class="p">(</span><span class="n">g6</span><span class="p">)</span>
<span class="k">for</span> <span class="n">w</span> <span class="ow">in</span> <span class="p">[</span> <span class="p">[],</span> <span class="p">[</span><span class="s1">&#39;a&#39;</span><span class="p">,</span> <span class="s1">&#39;b&#39;</span><span class="p">],</span> <span class="p">[</span><span class="s1">&#39;a&#39;</span><span class="p">,</span> <span class="s1">&#39;a&#39;</span><span class="p">,</span> <span class="s1">&#39;a&#39;</span><span class="p">,</span> <span class="s1">&#39;b&#39;</span><span class="p">,</span> <span class="s1">&#39;b&#39;</span><span class="p">,</span> <span class="s1">&#39;b&#39;</span><span class="p">],</span>  <span class="c1"># True, True, True</span>
          <span class="p">[</span><span class="s1">&#39;a&#39;</span><span class="p">,</span> <span class="s1">&#39;a&#39;</span><span class="p">,</span> <span class="s1">&#39;a&#39;</span><span class="p">,</span> <span class="s1">&#39;a&#39;</span><span class="p">,</span> <span class="s1">&#39;b&#39;</span><span class="p">,</span> <span class="s1">&#39;b&#39;</span><span class="p">,</span> <span class="s1">&#39;b&#39;</span><span class="p">],</span>  <span class="c1"># True</span>
          <span class="p">[</span><span class="s1">&#39;a&#39;</span><span class="p">,</span> <span class="s1">&#39;a&#39;</span><span class="p">,</span> <span class="s1">&#39;a&#39;</span><span class="p">,</span> <span class="s1">&#39;a&#39;</span><span class="p">,</span> <span class="s1">&#39;a&#39;</span><span class="p">,</span> <span class="s1">&#39;a&#39;</span><span class="p">,</span> <span class="s1">&#39;a&#39;</span><span class="p">,</span> <span class="s1">&#39;a&#39;</span><span class="p">,</span> <span class="s1">&#39;a&#39;</span><span class="p">,</span> <span class="s1">&#39;a&#39;</span><span class="p">,</span> <span class="s1">&#39;b&#39;</span><span class="p">,</span> <span class="s1">&#39;b&#39;</span><span class="p">,</span> <span class="s1">&#39;b&#39;</span><span class="p">,</span> <span class="s1">&#39;b&#39;</span><span class="p">,</span> <span class="s1">&#39;b&#39;</span><span class="p">,</span> <span class="s1">&#39;b&#39;</span><span class="p">],</span>  <span class="c1"># True</span>
          <span class="p">[</span><span class="s1">&#39;a&#39;</span><span class="p">,</span> <span class="s1">&#39;b&#39;</span><span class="p">,</span> <span class="s1">&#39;a&#39;</span><span class="p">],</span> <span class="p">[</span><span class="s1">&#39;a&#39;</span><span class="p">,</span> <span class="s1">&#39;a&#39;</span><span class="p">,</span> <span class="s1">&#39;a&#39;</span><span class="p">,</span> <span class="s1">&#39;b&#39;</span><span class="p">,</span> <span class="s1">&#39;b&#39;</span><span class="p">,</span> <span class="s1">&#39;b&#39;</span><span class="p">,</span> <span class="s1">&#39;b&#39;</span><span class="p">],</span>  <span class="c1"># False, False</span>
          <span class="p">[</span><span class="s1">&#39;c&#39;</span><span class="p">],</span> <span class="p">[</span><span class="s1">&#39;a&#39;</span><span class="p">,</span> <span class="s1">&#39;a&#39;</span><span class="p">,</span> <span class="s1">&#39;a&#39;</span><span class="p">,</span> <span class="s1">&#39;c&#39;</span><span class="p">],</span>  <span class="c1"># False, False</span>
         <span class="p">]:</span>
    <span class="n">testeMot</span><span class="p">(</span><span class="n">g6</span><span class="p">,</span> <span class="n">w</span><span class="p">)</span>
</pre></div>

    </div>
</div>
</div>

<div class="output_wrapper">
<div class="output">


<div class="output_area">

    <div class="prompt"></div>


<div class="output_subarea output_stream output_stdout output_text">
<pre>Grammaire G6 :
    - Alphabet Σ = {&#39;b&#39;, &#39;a&#39;},
    - Non terminaux V = {&#39;S&#39;, &#39;A&#39;, &#39;T&#39;, &#39;B&#39;},
    - Symbole initial : &#39;S&#39;,
    - Règles : S -&gt; ε, S -&gt; AT, T -&gt; SB, A -&gt; AA, A -&gt; a, B -&gt; b.
# Test si w in L(G) :
  Pour G6 et w = []
  ==&gt; Ce mot est bien engendré par G !
</pre>
</div>
</div>

<div class="output_area">

    <div class="prompt output_prompt">Out[22]:</div>




<div class="output_text output_subarea output_execute_result">
<pre>(True, {})</pre>
</div>

</div>

<div class="output_area">

    <div class="prompt"></div>


<div class="output_subarea output_stream output_stdout output_text">
<pre># Test si w in L(G) :
  Pour G6 et w = [&#39;a&#39;, &#39;b&#39;]
  ==&gt; Ce mot n&#39;est pas engendré par G !
</pre>
</div>
</div>

<div class="output_area">

    <div class="prompt output_prompt">Out[22]:</div>




<div class="output_text output_subarea output_execute_result">
<pre>(False, {(0, 0): {&#39;A&#39;}, (0, 1): set(), (1, 0): set(), (1, 1): {&#39;B&#39;}})</pre>
</div>

</div>

<div class="output_area">

    <div class="prompt"></div>


<div class="output_subarea output_stream output_stdout output_text">
<pre># Test si w in L(G) :
  Pour G6 et w = [&#39;a&#39;, &#39;a&#39;, &#39;a&#39;, &#39;b&#39;, &#39;b&#39;, &#39;b&#39;]
  ==&gt; Ce mot n&#39;est pas engendré par G !
</pre>
</div>
</div>

<div class="output_area">

    <div class="prompt output_prompt">Out[22]:</div>




<div class="output_text output_subarea output_execute_result">
<pre>(False,
 {(0, 0): {&#39;A&#39;},
  (0, 1): {&#39;A&#39;},
  (0, 2): {&#39;A&#39;},
  (0, 3): set(),
  (0, 4): set(),
  (0, 5): set(),
  (1, 0): set(),
  (1, 1): {&#39;A&#39;},
  (1, 2): {&#39;A&#39;},
  (1, 3): set(),
  (1, 4): set(),
  (1, 5): set(),
  (2, 0): set(),
  (2, 1): set(),
  (2, 2): {&#39;A&#39;},
  (2, 3): set(),
  (2, 4): set(),
  (2, 5): set(),
  (3, 0): set(),
  (3, 1): set(),
  (3, 2): set(),
  (3, 3): {&#39;B&#39;},
  (3, 4): set(),
  (3, 5): set(),
  (4, 0): set(),
  (4, 1): set(),
  (4, 2): set(),
  (4, 3): set(),
  (4, 4): {&#39;B&#39;},
  (4, 5): set(),
  (5, 0): set(),
  (5, 1): set(),
  (5, 2): set(),
  (5, 3): set(),
  (5, 4): set(),
  (5, 5): {&#39;B&#39;}})</pre>
</div>

</div>

<div class="output_area">

    <div class="prompt"></div>


<div class="output_subarea output_stream output_stdout output_text">
<pre># Test si w in L(G) :
  Pour G6 et w = [&#39;a&#39;, &#39;a&#39;, &#39;a&#39;, &#39;a&#39;, &#39;b&#39;, &#39;b&#39;, &#39;b&#39;]
  ==&gt; Ce mot n&#39;est pas engendré par G !
</pre>
</div>
</div>

<div class="output_area">

    <div class="prompt output_prompt">Out[22]:</div>




<div class="output_text output_subarea output_execute_result">
<pre>(False,
 {(0, 0): {&#39;A&#39;},
  (0, 1): {&#39;A&#39;},
  (0, 2): {&#39;A&#39;},
  (0, 3): {&#39;A&#39;},
  (0, 4): set(),
  (0, 5): set(),
  (0, 6): set(),
  (1, 0): set(),
  (1, 1): {&#39;A&#39;},
  (1, 2): {&#39;A&#39;},
  (1, 3): {&#39;A&#39;},
  (1, 4): set(),
  (1, 5): set(),
  (1, 6): set(),
  (2, 0): set(),
  (2, 1): set(),
  (2, 2): {&#39;A&#39;},
  (2, 3): {&#39;A&#39;},
  (2, 4): set(),
  (2, 5): set(),
  (2, 6): set(),
  (3, 0): set(),
  (3, 1): set(),
  (3, 2): set(),
  (3, 3): {&#39;A&#39;},
  (3, 4): set(),
  (3, 5): set(),
  (3, 6): set(),
  (4, 0): set(),
  (4, 1): set(),
  (4, 2): set(),
  (4, 3): set(),
  (4, 4): {&#39;B&#39;},
  (4, 5): set(),
  (4, 6): set(),
  (5, 0): set(),
  (5, 1): set(),
  (5, 2): set(),
  (5, 3): set(),
  (5, 4): set(),
  (5, 5): {&#39;B&#39;},
  (5, 6): set(),
  (6, 0): set(),
  (6, 1): set(),
  (6, 2): set(),
  (6, 3): set(),
  (6, 4): set(),
  (6, 5): set(),
  (6, 6): {&#39;B&#39;}})</pre>
</div>

</div>

<div class="output_area">

    <div class="prompt"></div>


<div class="output_subarea output_stream output_stdout output_text">
<pre># Test si w in L(G) :
  Pour G6 et w = [&#39;a&#39;, &#39;a&#39;, &#39;a&#39;, &#39;a&#39;, &#39;a&#39;, &#39;a&#39;, &#39;a&#39;, &#39;a&#39;, &#39;a&#39;, &#39;a&#39;, &#39;b&#39;, &#39;b&#39;, &#39;b&#39;, &#39;b&#39;, &#39;b&#39;, &#39;b&#39;]
  ==&gt; Ce mot n&#39;est pas engendré par G !
</pre>
</div>
</div>

<div class="output_area">

    <div class="prompt output_prompt">Out[22]:</div>




<div class="output_text output_subarea output_execute_result">
<pre>(False,
 {(0, 0): {&#39;A&#39;},
  (0, 1): {&#39;A&#39;},
  (0, 2): {&#39;A&#39;},
  (0, 3): {&#39;A&#39;},
  (0, 4): {&#39;A&#39;},
  (0, 5): {&#39;A&#39;},
  (0, 6): {&#39;A&#39;},
  (0, 7): {&#39;A&#39;},
  (0, 8): {&#39;A&#39;},
  (0, 9): {&#39;A&#39;},
  (0, 10): set(),
  (0, 11): set(),
  (0, 12): set(),
  (0, 13): set(),
  (0, 14): set(),
  (0, 15): set(),
  (1, 0): set(),
  (1, 1): {&#39;A&#39;},
  (1, 2): {&#39;A&#39;},
  (1, 3): {&#39;A&#39;},
  (1, 4): {&#39;A&#39;},
  (1, 5): {&#39;A&#39;},
  (1, 6): {&#39;A&#39;},
  (1, 7): {&#39;A&#39;},
  (1, 8): {&#39;A&#39;},
  (1, 9): {&#39;A&#39;},
  (1, 10): set(),
  (1, 11): set(),
  (1, 12): set(),
  (1, 13): set(),
  (1, 14): set(),
  (1, 15): set(),
  (2, 0): set(),
  (2, 1): set(),
  (2, 2): {&#39;A&#39;},
  (2, 3): {&#39;A&#39;},
  (2, 4): {&#39;A&#39;},
  (2, 5): {&#39;A&#39;},
  (2, 6): {&#39;A&#39;},
  (2, 7): {&#39;A&#39;},
  (2, 8): {&#39;A&#39;},
  (2, 9): {&#39;A&#39;},
  (2, 10): set(),
  (2, 11): set(),
  (2, 12): set(),
  (2, 13): set(),
  (2, 14): set(),
  (2, 15): set(),
  (3, 0): set(),
  (3, 1): set(),
  (3, 2): set(),
  (3, 3): {&#39;A&#39;},
  (3, 4): {&#39;A&#39;},
  (3, 5): {&#39;A&#39;},
  (3, 6): {&#39;A&#39;},
  (3, 7): {&#39;A&#39;},
  (3, 8): {&#39;A&#39;},
  (3, 9): {&#39;A&#39;},
  (3, 10): set(),
  (3, 11): set(),
  (3, 12): set(),
  (3, 13): set(),
  (3, 14): set(),
  (3, 15): set(),
  (4, 0): set(),
  (4, 1): set(),
  (4, 2): set(),
  (4, 3): set(),
  (4, 4): {&#39;A&#39;},
  (4, 5): {&#39;A&#39;},
  (4, 6): {&#39;A&#39;},
  (4, 7): {&#39;A&#39;},
  (4, 8): {&#39;A&#39;},
  (4, 9): {&#39;A&#39;},
  (4, 10): set(),
  (4, 11): set(),
  (4, 12): set(),
  (4, 13): set(),
  (4, 14): set(),
  (4, 15): set(),
  (5, 0): set(),
  (5, 1): set(),
  (5, 2): set(),
  (5, 3): set(),
  (5, 4): set(),
  (5, 5): {&#39;A&#39;},
  (5, 6): {&#39;A&#39;},
  (5, 7): {&#39;A&#39;},
  (5, 8): {&#39;A&#39;},
  (5, 9): {&#39;A&#39;},
  (5, 10): set(),
  (5, 11): set(),
  (5, 12): set(),
  (5, 13): set(),
  (5, 14): set(),
  (5, 15): set(),
  (6, 0): set(),
  (6, 1): set(),
  (6, 2): set(),
  (6, 3): set(),
  (6, 4): set(),
  (6, 5): set(),
  (6, 6): {&#39;A&#39;},
  (6, 7): {&#39;A&#39;},
  (6, 8): {&#39;A&#39;},
  (6, 9): {&#39;A&#39;},
  (6, 10): set(),
  (6, 11): set(),
  (6, 12): set(),
  (6, 13): set(),
  (6, 14): set(),
  (6, 15): set(),
  (7, 0): set(),
  (7, 1): set(),
  (7, 2): set(),
  (7, 3): set(),
  (7, 4): set(),
  (7, 5): set(),
  (7, 6): set(),
  (7, 7): {&#39;A&#39;},
  (7, 8): {&#39;A&#39;},
  (7, 9): {&#39;A&#39;},
  (7, 10): set(),
  (7, 11): set(),
  (7, 12): set(),
  (7, 13): set(),
  (7, 14): set(),
  (7, 15): set(),
  (8, 0): set(),
  (8, 1): set(),
  (8, 2): set(),
  (8, 3): set(),
  (8, 4): set(),
  (8, 5): set(),
  (8, 6): set(),
  (8, 7): set(),
  (8, 8): {&#39;A&#39;},
  (8, 9): {&#39;A&#39;},
  (8, 10): set(),
  (8, 11): set(),
  (8, 12): set(),
  (8, 13): set(),
  (8, 14): set(),
  (8, 15): set(),
  (9, 0): set(),
  (9, 1): set(),
  (9, 2): set(),
  (9, 3): set(),
  (9, 4): set(),
  (9, 5): set(),
  (9, 6): set(),
  (9, 7): set(),
  (9, 8): set(),
  (9, 9): {&#39;A&#39;},
  (9, 10): set(),
  (9, 11): set(),
  (9, 12): set(),
  (9, 13): set(),
  (9, 14): set(),
  (9, 15): set(),
  (10, 0): set(),
  (10, 1): set(),
  (10, 2): set(),
  (10, 3): set(),
  (10, 4): set(),
  (10, 5): set(),
  (10, 6): set(),
  (10, 7): set(),
  (10, 8): set(),
  (10, 9): set(),
  (10, 10): {&#39;B&#39;},
  (10, 11): set(),
  (10, 12): set(),
  (10, 13): set(),
  (10, 14): set(),
  (10, 15): set(),
  (11, 0): set(),
  (11, 1): set(),
  (11, 2): set(),
  (11, 3): set(),
  (11, 4): set(),
  (11, 5): set(),
  (11, 6): set(),
  (11, 7): set(),
  (11, 8): set(),
  (11, 9): set(),
  (11, 10): set(),
  (11, 11): {&#39;B&#39;},
  (11, 12): set(),
  (11, 13): set(),
  (11, 14): set(),
  (11, 15): set(),
  (12, 0): set(),
  (12, 1): set(),
  (12, 2): set(),
  (12, 3): set(),
  (12, 4): set(),
  (12, 5): set(),
  (12, 6): set(),
  (12, 7): set(),
  (12, 8): set(),
  (12, 9): set(),
  (12, 10): set(),
  (12, 11): set(),
  (12, 12): {&#39;B&#39;},
  (12, 13): set(),
  (12, 14): set(),
  (12, 15): set(),
  (13, 0): set(),
  (13, 1): set(),
  (13, 2): set(),
  (13, 3): set(),
  (13, 4): set(),
  (13, 5): set(),
  (13, 6): set(),
  (13, 7): set(),
  (13, 8): set(),
  (13, 9): set(),
  (13, 10): set(),
  (13, 11): set(),
  (13, 12): set(),
  (13, 13): {&#39;B&#39;},
  (13, 14): set(),
  (13, 15): set(),
  (14, 0): set(),
  (14, 1): set(),
  (14, 2): set(),
  (14, 3): set(),
  (14, 4): set(),
  (14, 5): set(),
  (14, 6): set(),
  (14, 7): set(),
  (14, 8): set(),
  (14, 9): set(),
  (14, 10): set(),
  (14, 11): set(),
  (14, 12): set(),
  (14, 13): set(),
  (14, 14): {&#39;B&#39;},
  (14, 15): set(),
  (15, 0): set(),
  (15, 1): set(),
  (15, 2): set(),
  (15, 3): set(),
  (15, 4): set(),
  (15, 5): set(),
  (15, 6): set(),
  (15, 7): set(),
  (15, 8): set(),
  (15, 9): set(),
  (15, 10): set(),
  (15, 11): set(),
  (15, 12): set(),
  (15, 13): set(),
  (15, 14): set(),
  (15, 15): {&#39;B&#39;}})</pre>
</div>

</div>

<div class="output_area">

    <div class="prompt"></div>


<div class="output_subarea output_stream output_stdout output_text">
<pre># Test si w in L(G) :
  Pour G6 et w = [&#39;a&#39;, &#39;b&#39;, &#39;a&#39;]
  ==&gt; Ce mot n&#39;est pas engendré par G !
</pre>
</div>
</div>

<div class="output_area">

    <div class="prompt output_prompt">Out[22]:</div>




<div class="output_text output_subarea output_execute_result">
<pre>(False,
 {(0, 0): {&#39;A&#39;},
  (0, 1): set(),
  (0, 2): set(),
  (1, 0): set(),
  (1, 1): {&#39;B&#39;},
  (1, 2): set(),
  (2, 0): set(),
  (2, 1): set(),
  (2, 2): {&#39;A&#39;}})</pre>
</div>

</div>

<div class="output_area">

    <div class="prompt"></div>


<div class="output_subarea output_stream output_stdout output_text">
<pre># Test si w in L(G) :
  Pour G6 et w = [&#39;a&#39;, &#39;a&#39;, &#39;a&#39;, &#39;b&#39;, &#39;b&#39;, &#39;b&#39;, &#39;b&#39;]
  ==&gt; Ce mot n&#39;est pas engendré par G !
</pre>
</div>
</div>

<div class="output_area">

    <div class="prompt output_prompt">Out[22]:</div>




<div class="output_text output_subarea output_execute_result">
<pre>(False,
 {(0, 0): {&#39;A&#39;},
  (0, 1): {&#39;A&#39;},
  (0, 2): {&#39;A&#39;},
  (0, 3): set(),
  (0, 4): set(),
  (0, 5): set(),
  (0, 6): set(),
  (1, 0): set(),
  (1, 1): {&#39;A&#39;},
  (1, 2): {&#39;A&#39;},
  (1, 3): set(),
  (1, 4): set(),
  (1, 5): set(),
  (1, 6): set(),
  (2, 0): set(),
  (2, 1): set(),
  (2, 2): {&#39;A&#39;},
  (2, 3): set(),
  (2, 4): set(),
  (2, 5): set(),
  (2, 6): set(),
  (3, 0): set(),
  (3, 1): set(),
  (3, 2): set(),
  (3, 3): {&#39;B&#39;},
  (3, 4): set(),
  (3, 5): set(),
  (3, 6): set(),
  (4, 0): set(),
  (4, 1): set(),
  (4, 2): set(),
  (4, 3): set(),
  (4, 4): {&#39;B&#39;},
  (4, 5): set(),
  (4, 6): set(),
  (5, 0): set(),
  (5, 1): set(),
  (5, 2): set(),
  (5, 3): set(),
  (5, 4): set(),
  (5, 5): {&#39;B&#39;},
  (5, 6): set(),
  (6, 0): set(),
  (6, 1): set(),
  (6, 2): set(),
  (6, 3): set(),
  (6, 4): set(),
  (6, 5): set(),
  (6, 6): {&#39;B&#39;}})</pre>
</div>

</div>

<div class="output_area">

    <div class="prompt"></div>


<div class="output_subarea output_stream output_stdout output_text">
<pre># Test si w in L(G) :
  Pour G6 et w = [&#39;c&#39;]
  ==&gt; Ce mot n&#39;est pas engendré par G !
</pre>
</div>
</div>

<div class="output_area">

    <div class="prompt output_prompt">Out[22]:</div>




<div class="output_text output_subarea output_execute_result">
<pre>(False, {(0, 0): set()})</pre>
</div>

</div>

<div class="output_area">

    <div class="prompt"></div>


<div class="output_subarea output_stream output_stdout output_text">
<pre># Test si w in L(G) :
  Pour G6 et w = [&#39;a&#39;, &#39;a&#39;, &#39;a&#39;, &#39;c&#39;]
  ==&gt; Ce mot n&#39;est pas engendré par G !
</pre>
</div>
</div>

<div class="output_area">

    <div class="prompt output_prompt">Out[22]:</div>




<div class="output_text output_subarea output_execute_result">
<pre>(False,
 {(0, 0): {&#39;A&#39;},
  (0, 1): {&#39;A&#39;},
  (0, 2): {&#39;A&#39;},
  (0, 3): set(),
  (1, 0): set(),
  (1, 1): {&#39;A&#39;},
  (1, 2): {&#39;A&#39;},
  (1, 3): set(),
  (2, 0): set(),
  (2, 1): set(),
  (2, 2): {&#39;A&#39;},
  (2, 3): set(),
  (3, 0): set(),
  (3, 1): set(),
  (3, 2): set(),
  (3, 3): set()})</pre>
</div>

</div>

</div>
</div>

</div>
<div class="cell border-box-sizing text_cell rendered"><div class="prompt input_prompt">
</div><div class="inner_cell">
<div class="text_cell_render border-box-sizing rendered_html">
<hr>

</div>
</div>
</div>
<div class="cell border-box-sizing text_cell rendered"><div class="prompt input_prompt">
</div><div class="inner_cell">
<div class="text_cell_render border-box-sizing rendered_html">
<h2 id="2.6-Mise-en-forme-normale-de-Chomsky-(bonus)">2.6 Mise en forme normale de Chomsky <em>(bonus)</em><a class="anchor-link" href="#2.6-Mise-en-forme-normale-de-Chomsky-(bonus)">&#182;</a></h2>
</div>
</div>
</div>
<div class="cell border-box-sizing text_cell rendered"><div class="prompt input_prompt">
</div><div class="inner_cell">
<div class="text_cell_render border-box-sizing rendered_html">
<p>On pourrait aussi implémenter la mise en forme normale de Chomsky, comme exposée et prouvée dans le développement.</p>
<p>La preuve faite dans le développement garantit que la fonction ci-dessous transforme une grammaire $G$ en grammaire équivalente $G'$, avec l'éventuelle perte du mot vide $\varepsilon$ :
$$ L(G') = L(G) \setminus \{ \varepsilon \}. $$</p>
<p>L'algorithme aura :</p>
<ul>
<li>une complexité en mémoire en $\mathcal{O}(|G|)$,</li>
<li>une complexité en temps en $\mathcal{O}(|G| |\Sigma_G|)$.</li>
</ul>
<p>C'est un algorithme en deux étapes :</p>
<ol>
<li>D'abord, on transforme $G$ en $G'$ : on ajoute des variables de travail pour chaque lettre de production, $V_a \in V$ pour $a \in \Sigma$, on remplace chaque $a$ dans des membres gauches de règles par la nouvelle $V_a$, et ensuite on ajoute des règles de production de lettre $V_a \rightarrow a$ dans $R$,</li>
<li>Ensuite, $G''$ est obtenue en découpant les règles de $G$ qui sont de tailles $&gt; 2$ : une règle $S \rightarrow S_1 \dots S_n$ devient $n-1$ règles : $S \rightarrow S_1 S_2'$, $S_i' \rightarrow S_i S_{i+1}'$ (pour $i = 2,\dots,n - 2$), et $S_{n-1}' \rightarrow S_{n-1} S_n$. Il faut aussi ajouter toutes ces nouvelles variables $S_i'$ (en s'assurant qu'elles sont uniques, pour chaque règle), on ajoute pour cela le numéro de la règle : $S_i'=$ <code>A'_k</code> pour la <code>k</code> -ième règle et le symbole $S_i=$ <code>A</code>.</li>
</ol>

</div>
</div>
</div>
<div class="cell border-box-sizing code_cell rendered">
<div class="input">
<div class="prompt input_prompt">In&nbsp;[23]:</div>
<div class="inner_cell">
    <div class="input_area">
<div class=" highlight hl-ipython3"><pre><span></span><span class="k">def</span> <span class="nf">miseChomsky</span><span class="p">(</span><span class="bp">self</span><span class="p">):</span>
    <span class="sd">&quot;&quot;&quot; Met en forme normale de Chomsky la grammaire self, qui doit être bien formée.</span>
<span class="sd">    </span>
<span class="sd">    - On suppose que l&#39;alphabet Sigma est dans {a,..,z},</span>
<span class="sd">    - On suppose que l&#39;alphabet v est dans {A,..,Z}.</span>
<span class="sd">    &quot;&quot;&quot;</span>
    <span class="k">assert</span> <span class="n">estBienFormee</span><span class="p">(</span><span class="bp">self</span><span class="p">),</span> <span class="s2">&quot;Erreur : </span><span class="si">{}</span><span class="s2"> n&#39;est pas en bien formée, la mise en forme normale de Chomsky ne fonctionnera pas.&quot;</span><span class="o">.</span><span class="n">format</span><span class="p">(</span><span class="bp">self</span><span class="o">.</span><span class="n">nom</span><span class="p">)</span>
    <span class="n">sigma</span><span class="p">,</span> <span class="n">v</span><span class="p">,</span> <span class="n">s</span><span class="p">,</span> <span class="n">regles</span> <span class="o">=</span> <span class="nb">set</span><span class="p">(</span><span class="bp">self</span><span class="o">.</span><span class="n">sigma</span><span class="p">),</span> <span class="nb">set</span><span class="p">(</span><span class="bp">self</span><span class="o">.</span><span class="n">v</span><span class="p">),</span> <span class="bp">self</span><span class="o">.</span><span class="n">s</span><span class="p">,</span> <span class="bp">self</span><span class="o">.</span><span class="n">r</span>
    <span class="k">if</span> <span class="n">estChomsky</span><span class="p">(</span><span class="bp">self</span><span class="p">):</span>
        <span class="nb">print</span><span class="p">(</span><span class="s2">&quot;Info : la grammaire </span><span class="si">{}</span><span class="s2"> est déjà en forme normale de Chomsky, il n&#39;y a rien à faire.&quot;</span><span class="o">.</span><span class="n">format</span><span class="p">(</span><span class="bp">self</span><span class="o">.</span><span class="n">nom</span><span class="p">))</span>
        <span class="k">return</span> <span class="n">Grammaire</span><span class="p">(</span><span class="n">sigma</span><span class="p">,</span> <span class="n">v</span><span class="p">,</span> <span class="n">s</span><span class="p">,</span> <span class="n">regles</span><span class="p">)</span>
    <span class="k">assert</span> <span class="n">sigma</span> <span class="o">&lt;</span> <span class="nb">set</span><span class="p">(</span><span class="nb">chr</span><span class="p">(</span><span class="n">i</span><span class="p">)</span> <span class="k">for</span> <span class="n">i</span> <span class="ow">in</span> <span class="nb">range</span><span class="p">(</span><span class="nb">ord</span><span class="p">(</span><span class="s1">&#39;a&#39;</span><span class="p">),</span> <span class="nb">ord</span><span class="p">(</span><span class="s1">&#39;z&#39;</span><span class="p">)</span> <span class="o">+</span> <span class="mi">1</span><span class="p">)),</span> <span class="s2">&quot;Erreur : </span><span class="si">{}</span><span class="s2"> n&#39;a pas ses lettres de production Sigma dans &#39;a&#39;..&#39;z&#39; ...&quot;</span><span class="o">.</span><span class="n">format</span><span class="p">(</span><span class="bp">self</span><span class="o">.</span><span class="n">nom</span><span class="p">)</span>
    <span class="k">assert</span> <span class="n">v</span> <span class="o">&lt;</span> <span class="nb">set</span><span class="p">(</span><span class="nb">chr</span><span class="p">(</span><span class="n">i</span><span class="p">)</span> <span class="k">for</span> <span class="n">i</span> <span class="ow">in</span> <span class="nb">range</span><span class="p">(</span><span class="nb">ord</span><span class="p">(</span><span class="s1">&#39;A&#39;</span><span class="p">),</span> <span class="nb">ord</span><span class="p">(</span><span class="s1">&#39;Z&#39;</span><span class="p">)</span> <span class="o">+</span> <span class="mi">1</span><span class="p">)),</span> <span class="s2">&quot;Erreur : </span><span class="si">{}</span><span class="s2"> n&#39;a pas ses lettres de travail V dans &#39;A&#39;..&#39;Z&#39; ...&quot;</span><span class="o">.</span><span class="n">format</span><span class="p">(</span><span class="bp">self</span><span class="o">.</span><span class="n">nom</span><span class="p">)</span>

    <span class="c1"># Algorithme en deux étapes, G --&gt; G&#39;, puis G&#39; --&gt; G&#39;&#39;</span>
    
    <span class="c1"># 1. G --&gt; G&#39; : On ajoute des variables de travail et on substitue a -&gt; V_a dans les autres règles</span>
    <span class="c1"># On pose les attributs de G&#39;, qui vont être changés</span>
    <span class="n">sigma2</span> <span class="o">=</span> <span class="nb">list</span><span class="p">(</span><span class="n">sigma</span><span class="p">)</span>
    <span class="n">v2</span> <span class="o">=</span> <span class="nb">set</span><span class="p">(</span><span class="n">v</span><span class="p">)</span>
    <span class="n">s2</span> <span class="o">=</span> <span class="n">s</span>
    <span class="n">regles2</span> <span class="o">=</span> <span class="p">[]</span>

    <span class="n">V_</span> <span class="o">=</span> <span class="k">lambda</span> <span class="n">a</span><span class="p">:</span> <span class="s1">&#39;V_</span><span class="si">{}</span><span class="s1">&#39;</span><span class="o">.</span><span class="n">format</span><span class="p">(</span><span class="n">a</span><span class="p">)</span>
    <span class="k">for</span> <span class="n">a</span> <span class="ow">in</span> <span class="n">sigma</span><span class="p">:</span>
        <span class="n">v2</span><span class="o">.</span><span class="n">add</span><span class="p">(</span><span class="n">V_</span><span class="p">(</span><span class="n">a</span><span class="p">))</span>
        <span class="n">regles2</span><span class="o">.</span><span class="n">append</span><span class="p">([</span><span class="n">V_</span><span class="p">(</span><span class="n">a</span><span class="p">),</span> <span class="p">[</span><span class="n">a</span><span class="p">]])</span>  <span class="c1"># Ajout de la règle V_a -&gt; a (production de la lettre correspondante)</span>
    <span class="n">substitutionLettre</span> <span class="o">=</span> <span class="k">lambda</span> <span class="n">b</span><span class="p">:</span> <span class="n">V_</span><span class="p">(</span><span class="n">b</span><span class="p">)</span> <span class="k">if</span> <span class="p">(</span><span class="n">b</span> <span class="ow">in</span> <span class="n">sigma</span><span class="p">)</span> <span class="k">else</span> <span class="n">b</span>
    <span class="n">substitutionMot</span> <span class="o">=</span> <span class="k">lambda</span> <span class="n">lb</span><span class="p">:</span> <span class="p">[</span><span class="n">substitutionLettre</span><span class="p">(</span><span class="n">b</span><span class="p">)</span> <span class="k">for</span> <span class="n">b</span> <span class="ow">in</span> <span class="n">lb</span><span class="p">]</span>
    <span class="k">for</span> <span class="n">regle</span> <span class="ow">in</span> <span class="n">regles</span><span class="p">:</span>
        <span class="n">S</span> <span class="o">=</span> <span class="n">regle</span><span class="p">[</span><span class="mi">0</span><span class="p">]</span>
        <span class="n">w</span> <span class="o">=</span> <span class="n">regle</span><span class="p">[</span><span class="mi">1</span><span class="p">]</span>
        <span class="k">if</span> <span class="nb">len</span><span class="p">(</span><span class="n">w</span><span class="p">)</span> <span class="o">&gt;=</span> <span class="mi">2</span><span class="p">:</span>  <span class="c1"># Si ce n&#39;est pas une règle A -&gt; epsilon</span>
            <span class="n">regles2</span><span class="o">.</span><span class="n">append</span><span class="p">([</span><span class="n">S</span><span class="p">,</span> <span class="n">substitutionMot</span><span class="p">(</span><span class="n">w</span><span class="p">)])</span>
        <span class="k">else</span><span class="p">:</span>  <span class="c1"># Ici on devrait garder la possibilte de creer le mot vide</span>
            <span class="n">regles2</span><span class="o">.</span><span class="n">append</span><span class="p">([</span><span class="n">S</span><span class="p">,</span> <span class="n">w</span><span class="p">])</span>
    <span class="n">nom2</span> <span class="o">=</span> <span class="bp">self</span><span class="o">.</span><span class="n">nom</span> <span class="o">+</span> <span class="s2">&quot;&#39;&quot;</span>
    <span class="nb">print</span><span class="p">(</span><span class="n">Grammaire</span><span class="p">(</span><span class="nb">list</span><span class="p">(</span><span class="n">sigma2</span><span class="p">),</span> <span class="nb">list</span><span class="p">(</span><span class="n">v2</span><span class="p">),</span> <span class="n">s2</span><span class="p">,</span> <span class="n">regles2</span><span class="p">,</span> <span class="n">nom</span><span class="o">=</span><span class="n">nom2</span><span class="p">))</span>
    
    <span class="c1"># 2. G&#39; --&gt; G&#39;&#39; : On découpe les règles A -&gt; A1..An qui ont n &gt; 2</span>
    <span class="c1"># On pose les attributs de G&#39;&#39;, qui vont être changés</span>
    <span class="n">sigma3</span> <span class="o">=</span> <span class="nb">list</span><span class="p">(</span><span class="n">sigma2</span><span class="p">)</span>
    <span class="n">v3</span> <span class="o">=</span> <span class="nb">set</span><span class="p">(</span><span class="n">v2</span><span class="p">)</span>
    <span class="n">s3</span> <span class="o">=</span> <span class="n">s2</span>
    <span class="n">regles3</span> <span class="o">=</span> <span class="p">[]</span>
    
    <span class="k">for</span> <span class="n">k</span><span class="p">,</span> <span class="n">regle</span> <span class="ow">in</span> <span class="nb">enumerate</span><span class="p">(</span><span class="n">regles2</span><span class="p">):</span>
        <span class="n">S</span> <span class="o">=</span> <span class="n">regle</span><span class="p">[</span><span class="mi">0</span><span class="p">]</span>
        <span class="n">w</span> <span class="o">=</span> <span class="n">regle</span><span class="p">[</span><span class="mi">1</span><span class="p">]</span>  <span class="c1"># w = S1 .. Sn</span>
        <span class="n">n</span> <span class="o">=</span> <span class="nb">len</span><span class="p">(</span><span class="n">w</span><span class="p">)</span>
        <span class="k">if</span> <span class="n">n</span> <span class="o">&gt;</span> <span class="mi">2</span><span class="p">:</span>
            <span class="n">prime</span> <span class="o">=</span> <span class="k">lambda</span> <span class="n">Si</span><span class="p">:</span> <span class="s2">&quot;</span><span class="si">%s</span><span class="s2">&#39;_</span><span class="si">%d</span><span class="s2">&quot;</span> <span class="o">%</span> <span class="p">(</span><span class="n">Si</span><span class="p">,</span> <span class="n">k</span><span class="p">)</span>  <span class="c1"># Ajouter le k dans le nom assure que les nouvelles variables de travail sont toutes uniques</span>
            <span class="c1"># Premiere règle : S -&gt; S_1 S&#39;_2</span>
            <span class="n">regles3</span><span class="o">.</span><span class="n">append</span><span class="p">([</span><span class="n">S</span><span class="p">,</span> <span class="p">[</span><span class="n">w</span><span class="p">[</span><span class="mi">0</span><span class="p">],</span> <span class="n">prime</span><span class="p">(</span><span class="n">w</span><span class="p">[</span><span class="mi">1</span><span class="p">])]])</span>
            <span class="n">v3</span><span class="o">.</span><span class="n">add</span><span class="p">(</span><span class="n">prime</span><span class="p">(</span><span class="n">w</span><span class="p">[</span><span class="mi">1</span><span class="p">]))</span>
            <span class="k">for</span> <span class="n">i</span> <span class="ow">in</span> <span class="nb">range</span><span class="p">(</span><span class="mi">1</span><span class="p">,</span> <span class="nb">len</span><span class="p">(</span><span class="n">w</span><span class="p">)</span> <span class="o">-</span> <span class="mi">2</span><span class="p">):</span>
                <span class="c1"># Pour chaque règle intermédiaire : S&#39;_i -&gt; S_i  S&#39;_{i+1}</span>
                <span class="n">regles3</span><span class="o">.</span><span class="n">append</span><span class="p">([</span><span class="n">prime</span><span class="p">(</span><span class="n">w</span><span class="p">[</span><span class="n">i</span><span class="p">]),</span> <span class="p">[</span><span class="n">w</span><span class="p">[</span><span class="n">i</span><span class="p">],</span> <span class="n">prime</span><span class="p">(</span><span class="n">w</span><span class="p">[</span><span class="n">i</span> <span class="o">+</span> <span class="mi">1</span><span class="p">])]])</span>
                <span class="n">v3</span><span class="o">.</span><span class="n">add</span><span class="p">(</span><span class="n">prime</span><span class="p">(</span><span class="n">w</span><span class="p">[</span><span class="n">i</span><span class="p">]))</span>
                <span class="n">v3</span><span class="o">.</span><span class="n">add</span><span class="p">(</span><span class="n">prime</span><span class="p">(</span><span class="n">w</span><span class="p">[</span><span class="n">i</span> <span class="o">+</span> <span class="mi">1</span><span class="p">]))</span>
            <span class="c1"># Dernière règle : S&#39;_{n-1} -&gt; S_{n-1} S_n</span>
            <span class="n">regles3</span><span class="o">.</span><span class="n">append</span><span class="p">([</span><span class="n">prime</span><span class="p">(</span><span class="n">w</span><span class="p">[</span><span class="n">n</span> <span class="o">-</span> <span class="mi">2</span><span class="p">]),</span> <span class="p">[</span><span class="n">w</span><span class="p">[</span><span class="n">n</span> <span class="o">-</span> <span class="mi">2</span><span class="p">],</span> <span class="n">w</span><span class="p">[</span><span class="n">n</span> <span class="o">-</span> <span class="mi">1</span><span class="p">]]])</span>
            <span class="n">v3</span><span class="o">.</span><span class="n">add</span><span class="p">(</span><span class="n">prime</span><span class="p">(</span><span class="n">w</span><span class="p">[</span><span class="n">n</span> <span class="o">-</span> <span class="mi">2</span><span class="p">]))</span>
        <span class="k">else</span><span class="p">:</span>
            <span class="n">regles3</span><span class="o">.</span><span class="n">append</span><span class="p">([</span><span class="n">S</span><span class="p">,</span> <span class="n">w</span><span class="p">])</span>
    <span class="c1"># Terminé</span>
    <span class="n">nom3</span> <span class="o">=</span> <span class="bp">self</span><span class="o">.</span><span class="n">nom</span> <span class="o">+</span> <span class="s2">&quot;&#39;&#39;&quot;</span>
    <span class="k">return</span> <span class="n">Grammaire</span><span class="p">(</span><span class="nb">list</span><span class="p">(</span><span class="n">sigma3</span><span class="p">),</span> <span class="nb">list</span><span class="p">(</span><span class="n">v3</span><span class="p">),</span> <span class="n">s3</span><span class="p">,</span> <span class="n">regles3</span><span class="p">,</span> <span class="n">nom</span><span class="o">=</span><span class="n">nom3</span><span class="p">)</span>

<span class="c1"># On ajoute la fonction comme une méthode (au cas où...)</span>
<span class="n">Grammaire</span><span class="o">.</span><span class="n">miseChomsky</span> <span class="o">=</span> <span class="n">miseChomsky</span>
</pre></div>

    </div>
</div>
</div>

</div>
<div class="cell border-box-sizing text_cell rendered"><div class="prompt input_prompt">
</div><div class="inner_cell">
<div class="text_cell_render border-box-sizing rendered_html">
<h3 id="2.6.1-Exemple-pour-$G_1$">2.6.1 Exemple pour $G_1$<a class="anchor-link" href="#2.6.1-Exemple-pour-$G_1$">&#182;</a></h3>
</div>
</div>
</div>
<div class="cell border-box-sizing code_cell rendered">
<div class="input">
<div class="prompt input_prompt">In&nbsp;[24]:</div>
<div class="inner_cell">
    <div class="input_area">
<div class=" highlight hl-ipython3"><pre><span></span><span class="nb">print</span><span class="p">(</span><span class="n">g1</span><span class="p">)</span>
<span class="nb">print</span><span class="p">(</span><span class="s2">&quot;</span><span class="se">\n</span><span class="s2">(Non) La grammaire&quot;</span><span class="p">,</span> <span class="n">g1</span><span class="o">.</span><span class="n">nom</span><span class="p">,</span> <span class="s2">&quot;est-elle de Chomsky ?&quot;</span><span class="p">,</span> <span class="n">estChomsky</span><span class="p">(</span><span class="n">g1</span><span class="p">))</span>
<span class="nb">print</span><span class="p">(</span><span class="s2">&quot;</span><span class="se">\n</span><span class="s2">On essaie de la mettre sous forme normale de Chomksy...</span><span class="se">\n</span><span class="s2">&quot;</span><span class="p">)</span>
<span class="n">g1_Chom</span> <span class="o">=</span> <span class="n">miseChomsky</span><span class="p">(</span><span class="n">g1</span><span class="p">)</span>
<span class="nb">print</span><span class="p">(</span><span class="n">g1_Chom</span><span class="p">)</span>
<span class="nb">print</span><span class="p">(</span><span class="s2">&quot;</span><span class="se">\n</span><span class="s2">  ==&gt; La grammaire&quot;</span><span class="p">,</span> <span class="n">g1_Chom</span><span class="o">.</span><span class="n">nom</span><span class="p">,</span> <span class="s2">&quot;est-elle de Chomsky ?&quot;</span><span class="p">,</span> <span class="n">estChomsky</span><span class="p">(</span><span class="n">g1_Chom</span><span class="p">))</span>
</pre></div>

    </div>
</div>
</div>

<div class="output_wrapper">
<div class="output">


<div class="output_area">

    <div class="prompt"></div>


<div class="output_subarea output_stream output_stdout output_text">
<pre>Grammaire G1 :
    - Alphabet Σ = {&#39;b&#39;, &#39;a&#39;},
    - Non terminaux V = {&#39;S&#39;},
    - Symbole initial : &#39;S&#39;,
    - Règles : S -&gt; ε, S -&gt; aSb.

(Non) La grammaire G1 est-elle de Chomsky ? False

On essaie de la mettre sous forme normale de Chomksy...

Grammaire G1&#39; :
    - Alphabet Σ = {&#39;b&#39;, &#39;a&#39;},
    - Non terminaux V = {&#39;S&#39;, &#39;V_a&#39;, &#39;V_b&#39;},
    - Symbole initial : &#39;S&#39;,
    - Règles : V_b -&gt; b, V_a -&gt; a, S -&gt; ε, S -&gt; V_aSV_b.
Grammaire G1&#39;&#39; :
    - Alphabet Σ = {&#39;b&#39;, &#39;a&#39;},
    - Non terminaux V = {&#39;S&#39;, &#39;V_a&#39;, &#34;S&#39;_3&#34;, &#39;V_b&#39;},
    - Symbole initial : &#39;S&#39;,
    - Règles : V_b -&gt; b, V_a -&gt; a, S -&gt; ε, S -&gt; V_aS&#39;_3, S&#39;_3 -&gt; SV_b.

  ==&gt; La grammaire G1&#39;&#39; est-elle de Chomsky ? True
</pre>
</div>
</div>

</div>
</div>

</div>
<div class="cell border-box-sizing text_cell rendered"><div class="prompt input_prompt">
</div><div class="inner_cell">
<div class="text_cell_render border-box-sizing rendered_html">
<h3 id="2.6.2-Exemple-pour-$G_6$">2.6.2 Exemple pour $G_6$<a class="anchor-link" href="#2.6.2-Exemple-pour-$G_6$">&#182;</a></h3>
</div>
</div>
</div>
<div class="cell border-box-sizing code_cell rendered">
<div class="input">
<div class="prompt input_prompt">In&nbsp;[25]:</div>
<div class="inner_cell">
    <div class="input_area">
<div class=" highlight hl-ipython3"><pre><span></span><span class="nb">print</span><span class="p">(</span><span class="n">g5</span><span class="p">)</span>
<span class="nb">print</span><span class="p">(</span><span class="s2">&quot;</span><span class="se">\n</span><span class="s2">(Non) La grammaire&quot;</span><span class="p">,</span> <span class="n">g5</span><span class="o">.</span><span class="n">nom</span><span class="p">,</span> <span class="s2">&quot;est-elle de Chomsky ?&quot;</span><span class="p">,</span> <span class="n">estChomsky</span><span class="p">(</span><span class="n">g5</span><span class="p">))</span>
<span class="nb">print</span><span class="p">(</span><span class="s2">&quot;</span><span class="se">\n</span><span class="s2">On essaie de la mettre sous forme normale de Chomksy...</span><span class="se">\n</span><span class="s2">&quot;</span><span class="p">)</span>
<span class="n">g5_Chom</span> <span class="o">=</span> <span class="n">miseChomsky</span><span class="p">(</span><span class="n">g5</span><span class="p">)</span>
<span class="nb">print</span><span class="p">(</span><span class="n">g5_Chom</span><span class="p">)</span>
<span class="nb">print</span><span class="p">(</span><span class="s2">&quot;</span><span class="se">\n</span><span class="s2">  ==&gt; La grammaire&quot;</span><span class="p">,</span> <span class="n">g5_Chom</span><span class="o">.</span><span class="n">nom</span><span class="p">,</span> <span class="s2">&quot;est-elle de Chomsky ?&quot;</span><span class="p">,</span> <span class="n">estChomsky</span><span class="p">(</span><span class="n">g5_Chom</span><span class="p">))</span>
</pre></div>

    </div>
</div>
</div>

<div class="output_wrapper">
<div class="output">


<div class="output_area">

    <div class="prompt"></div>


<div class="output_subarea output_stream output_stdout output_text">
<pre>Grammaire G5 :
    - Alphabet Σ = {&#39;b&#39;, &#39;a&#39;},
    - Non terminaux V = {&#39;S&#39;, &#39;A&#39;},
    - Symbole initial : &#39;S&#39;,
    - Règles : S -&gt; ε, S -&gt; ASb, A -&gt; AA, A -&gt; a.

(Non) La grammaire G5 est-elle de Chomsky ? False

On essaie de la mettre sous forme normale de Chomksy...

Grammaire G5&#39; :
    - Alphabet Σ = {&#39;b&#39;, &#39;a&#39;},
    - Non terminaux V = {&#39;S&#39;, &#39;V_a&#39;, &#39;A&#39;, &#39;V_b&#39;},
    - Symbole initial : &#39;S&#39;,
    - Règles : V_b -&gt; b, V_a -&gt; a, S -&gt; ε, S -&gt; ASV_b, A -&gt; AA, A -&gt; a.
Grammaire G5&#39;&#39; :
    - Alphabet Σ = {&#39;b&#39;, &#39;a&#39;},
    - Non terminaux V = {&#39;V_b&#39;, &#39;S&#39;, &#39;A&#39;, &#39;V_a&#39;, &#34;S&#39;_3&#34;},
    - Symbole initial : &#39;S&#39;,
    - Règles : V_b -&gt; b, V_a -&gt; a, S -&gt; ε, S -&gt; AS&#39;_3, S&#39;_3 -&gt; SV_b, A -&gt; AA, A -&gt; a.

  ==&gt; La grammaire G5&#39;&#39; est-elle de Chomsky ? True
</pre>
</div>
</div>

</div>
</div>

</div>
<div class="cell border-box-sizing text_cell rendered"><div class="prompt input_prompt">
</div><div class="inner_cell">
<div class="text_cell_render border-box-sizing rendered_html">
<hr>
<blockquote><p><em>C'est tout pour aujourd'hui les amis !</em>
<a href="https://github.com/Naereen/notebooks/tree/master/agreg">Allez voir d'autres notebooks</a> si vous voulez.</p>
</blockquote>

</div>
</div>
</div>
 


    </div>
  </div>

  </div>


  
    <footer class="footer hidden-print">
      <div class="container">
        <div class="col-md-4">
          <p>
            This website does not host notebooks, it only renders notebooks
            available on other websites.
          </p>
        </div>

        <div class="col-md-4">
          <p>
            Delivered by <a href="https://www.fastly.com/">Fastly</a>,
            Rendered by <a href="https://developer.rackspace.com/?nbviewer=awesome">Rackspace</a>
          </p>
          <p>
            nbviewer GitHub <a href="https://github.com/jupyter/nbviewer">repository</a>.
          </p>
        </div>

        <div class="col-md-4">
          
  
            
              <p>
                nbviewer version:
                <a href="https://github.com/jupyter/nbviewer/commit/8a8fd298b446096dddc874da57e99dd22a2d8d97">
                  8a8fd29
                </a>
              </p>
            
          
  
  <p>
    nbconvert version: <a href="https://github.com/jupyter/nbconvert/releases/tag/5.6.1">
      5.6.1
    </a>
  </p>
  

          
  
  
  <p>
    Rendered
    <span class='date' data-date='Mon, 27 Jan 2020 13:31:05 UTC' title='Mon, 27 Jan 2020 13:31:05 UTC'>(Mon, 27 Jan 2020 13:31:05 UTC)</span>
  </p>
  

        </div>
      </div>
    </footer>
  

  <script src="/static/components/bootstrap/js/bootstrap.min.js?v=5869c96cc8f19086aee625d670d741f9"></script>
  <script src="/static/components/headroom.js/dist/headroom.min.js?v=b0a311ea668f8e768ea375f4a7abb81c"></script>
  <script src="/static/components/headroom.js/dist/jQuery.headroom.min.js?v=f3a1bae118315d0c234afc74dc6aab71"></script>

  
  
  <script>
    $(function(){ $("#menubar").headroom({
      tolerance: 5,
      offset: 205,
      classes: {
        initial: "animated",
        pinned: "slideInDown",
        unpinned: "slideOutUp"
      }
    })});
  </script>


  
  <script>
    (function(i,s,o,g,r,a,m){i['GoogleAnalyticsObject']=r;i[r]=i[r]||function(){
      (i[r].q=i[r].q||[]).push(arguments)},i[r].l=1*new Date();a=s.createElement(o),
      m=s.getElementsByTagName(o)[0];a.async=1;a.src=g;m.parentNode.insertBefore(a,m)
    })(window,document,'script','https://www.google-analytics.com/analytics.js','ga');
    ga('create', 'UA-52617120-5', 'auto',
       {'storage': 'none'});
    ga('set', 'anonymizeIp', true);
    ga('send', 'pageview');
  </script>
  
  <script>
    require({
        paths: {
          moment: "/static/components/moment/min/moment.min.js?v=89f87298ad94aa1e6b92f42eb66da043"
        }
      }, ["moment"], function(moment){
      var date = $("footer .date"),
        m = moment(new Date(date.data('date'))),
        update = function(){ date.text(m.fromNow()); };
      setInterval(update, 61*1000);
      update();
      var w = $(window).scroll(function(event){
        $("body").toggleClass("scrolled", w.scrollTop() > 0);
      });
    });
  </script>

  <!--NEW RELIC Stop Perf Measurement-->
  
  <!--NEW RELIC End-->
</body>
</html>