








<!DOCTYPE html>
<html lang="en">

<head>
  <meta charset="utf-8">
  <title>Jupyter Notebook Viewer</title>
  <meta name="viewport" content="width=device-width, initial-scale=1.0">
  <meta name="description" content="">
  <meta name="author" content="">
  
  <meta name="robots" content="noindex,nofollow">
  

  <!--NEW RELIC Start Perf Measurement-->
  
  <!--NREND-->

  <!-- Le styles -->
  <link href="/static/build/styles.css?v=55ba354138253381d2c0ada9821cd4da" rel="stylesheet">

  <!-- Le HTML5 shim, for IE6-8 support of HTML5 elements -->
  <!--[if lt IE 9]>
    <script src="http://html5shim.googlecode.com/svn/trunk/html5.js"></script>
  <![endif]-->

  <!-- Le fav and touch icons -->
  <link rel="shortcut icon" href="/static/ico/ipynb_icon_16x16.png">
  <link rel="apple-touch-icon-precomposed" sizes="144x144"
        href="/static/ico/apple-touch-icon-144-precomposed.png?v=5a3c9ede93e2a8b8ea9e3f8f3da1a905">
  <link rel="apple-touch-icon-precomposed" sizes="114x114"
        href="/static/ico/apple-touch-icon-114-precomposed.png?v=45d86fc8f24dc00638035e1dd7a6d898">
  <link rel="apple-touch-icon-precomposed" sizes="72x72"
        href="/static/ico/apple-touch-icon-72-precomposed.png?v=540b5eb0f3cfd25f1439d1c9bd30e15f">
  <link rel="apple-touch-icon-precomposed"
        href="/static/ico/apple-touch-icon-57-precomposed.png?v=225f0590e187e1458625654f10a28f56">
  
  

  

  
  <meta name="twitter:card" content="summary">
  <meta name="twitter:title" content="Notebook on nbviewer">
  <meta name="twitter:description" content="Check out this Jupyter notebook!">

  
  <meta name="twitter:domain" content="nbviewer.jupyter.org">
  <meta name="twitter:image:src" content="http://ipython.org/ipython-doc/dev/_images/ipynb_icon_128x128.png">

  
    <link href="/static/build/notebook.css?v=aae8f92f7e80fc468ae446b9d852fe90" rel="stylesheet">
  

  

  
    <script src="https://cdnjs.cloudflare.com/ajax/libs/mathjax/2.7.1/MathJax.js?config=TeX-AMS_HTML" type="text/javascript">
    </script>
    <script type="text/javascript">
      init_mathjax = function() {
        if (window.MathJax) {
          // MathJax loaded
          MathJax.Hub.Config({
            TeX: {
              equationNumbers: {
                autoNumber: "AMS",
                useLabelIds: true
              }
            },
            tex2jax: {
              inlineMath: [ ['$','$'], ["\\(","\\)"] ],
              displayMath: [ ['$$','$$'], ["\\[","\\]"] ],
              processEscapes: true,
              processEnvironments: true
            },
            displayAlign: 'center',
            "HTML-CSS": {
              styles: {'.MathJax_Display': {"margin": 0}},
              linebreaks: { automatic: true }
            }
          });
          MathJax.Hub.Queue(["Typeset", MathJax.Hub]);
        }
      }
      init_mathjax();
    </script>
  

  
    <script>
      (function() {
        function addWidgetsRenderer() {
          var mimeElement = document.querySelector('script[type="application/vnd.jupyter.widget-view+json"]');
          var scriptElement = document.createElement('script');
          var widgetRendererSrc = 'https://unpkg.com/@jupyter-widgets/html-manager@0.15/dist/embed-amd.js';
          var widgetState;

          try {
            widgetState = mimeElement && JSON.parse(mimeElement.innerHTML);

            if (widgetState && (widgetState.version_major < 2 || !widgetState.version_major)) {
              widgetRendererSrc = 'https://unpkg.com/jupyter-js-widgets@2.1/dist/embed.js';
            }
          } catch(e) {}

          scriptElement.src = widgetRendererSrc;
          document.body.appendChild(scriptElement);
        }

        document.addEventListener('DOMContentLoaded', addWidgetsRenderer);
      }());
    </script>
  

</head>

<body class="nbviewer">

  <!-- These are loaded at the top of the body so they are available to
       notebook cells when they are loaded below. -->
  <script src="/static/components/jquery/dist/jquery.min.js?v=220afd743d9e9643852e31a135a9f3ae"></script>
  <script src="/static/components/requirejs/require.js?v=6da8be361b9ee26c5e721e76c6d4afce"></script>
  <script src="/static/components/moment/min/moment.min.js?v=89f87298ad94aa1e6b92f42eb66da043"></script>
<!-- Navbar
================================================== -->
  <nav id="menubar" class="navbar navbar-default navbar-fixed-top" data-spy="affix">
    <div class="container">
      <div class="navbar-header">
        <button type="button" class="navbar-toggle collapsed" data-toggle="collapse" data-target=".navbar-collapse">
          <span class="sr-only">Toggle navigation</span>
          <i class="fa fa-bars"></i>
        </button>
        <a class="navbar-brand" href="/">
          <img src="/static/img/nav_logo.svg?v=479cefe8d932fb14a67b93911b97d70f" width="159"/>
        </a>
      </div>

      <div class="collapse navbar-collapse">
        <ul class="nav navbar-nav navbar-right">
          <li>
            <a class="active" href="https://jupyter.org">JUPYTER</a>
          </li>
          <li>
    <a href="/faq" title="FAQ" >
      
        <span>FAQ</span>
      
    </a>
  </li>

          
  
    
  
    
      
        <li>
    <a href="/format/script/github/Naereen/notebooks/blob/master/Obfuscated_code_or_piece_of_art.ipynb" title="View as Code" >
      <span class="fa fa-code fa-2x menu-icon"></span>
      <span class="menu-text">View as Code</span>
    </a>
  </li>
      
    
  

  
    <li>
    <a href="#" title="Python 3 Kernel" >
      <span class="fa fa-server fa-2x menu-icon"></span>
      <span class="menu-text">Python 3 Kernel</span>
    </a>
  </li>
  

  
    <li>
    <a href="https://github.com/Naereen/notebooks/blob/master/Obfuscated_code_or_piece_of_art.ipynb" title="View on GitHub" >
      <span class="fa fa-github fa-2x menu-icon"></span>
      <span class="menu-text">View on GitHub</span>
    </a>
  </li>
  

  
    <li>
    <a href="https://mybinder.org/v2/gh/Naereen/notebooks/master?filepath=Obfuscated_code_or_piece_of_art.ipynb" title="Execute on Binder" >
      <span class="fa fa-icon-binder fa-2x menu-icon"></span>
      <span class="menu-text">Execute on Binder</span>
    </a>
  </li>
  

  <li>
    <a href="https://raw.githubusercontent.com/Naereen/notebooks/master/Obfuscated_code_or_piece_of_art.ipynb" title="Download Notebook" download>
      <span class="fa fa-download fa-2x menu-icon"></span>
      <span class="menu-text">Download Notebook</span>
    </a>
  </li>

        </ul>
      </div><!-- /.navbar-collapse -->
      
      
    </div>
  </nav>

  <div class="container container-main">
    
  
  <ol class="breadcrumb">
    
      <li>
        <a href="/github/Naereen/notebooks/tree/master">notebooks</a>
      </li>
    
      <li>
        <a href="/github/Naereen/notebooks/tree/master/Obfuscated_code_or_piece_of_art.ipynb">Obfuscated_code_or_piece_of_art.ipynb</a>
      </li>
    
  </ol>
  
  <div id="notebook">
    <div id="notebook-container">
      <div class="cell border-box-sizing text_cell rendered"><div class="prompt input_prompt">
</div><div class="inner_cell">
<div class="text_cell_render border-box-sizing rendered_html">
<h1 id="Table-of-Contents">Table of Contents<a class="anchor-link" href="#Table-of-Contents">&#182;</a></h1><p><p><div class="lev1 toc-item"><a href="#Obfuscated-code-or-piece-of-art?" data-toc-modified-id="Obfuscated-code-or-piece-of-art?-1"><span class="toc-item-num">1&nbsp;&nbsp;</span>Obfuscated code or piece of art?</a></div><div class="lev2 toc-item"><a href="#Mandelbrot-set" data-toc-modified-id="Mandelbrot-set-11"><span class="toc-item-num">1.1&nbsp;&nbsp;</span>Mandelbrot set</a></div><div class="lev2 toc-item"><a href="#Penrose-patterns" data-toc-modified-id="Penrose-patterns-12"><span class="toc-item-num">1.2&nbsp;&nbsp;</span>Penrose patterns</a></div><div class="lev2 toc-item"><a href="#Bitcoin-address-&amp;-private-key-generator" data-toc-modified-id="Bitcoin-address-&amp;-private-key-generator-13"><span class="toc-item-num">1.3&nbsp;&nbsp;</span>Bitcoin address &amp; private key generator</a></div></p>

</div>
</div>
</div>
<div class="cell border-box-sizing text_cell rendered"><div class="prompt input_prompt">
</div><div class="inner_cell">
<div class="text_cell_render border-box-sizing rendered_html">
<h1 id="Obfuscated-code-or-piece-of-art?">Obfuscated code or piece of art?<a class="anchor-link" href="#Obfuscated-code-or-piece-of-art?">&#182;</a></h1><p>This short notebooks shows a few examples of Python code, designed to draw something, and shaped as what they will draw...</p>

</div>
</div>
</div>
<div class="cell border-box-sizing text_cell rendered"><div class="prompt input_prompt">
</div><div class="inner_cell">
<div class="text_cell_render border-box-sizing rendered_html">
<h2 id="Mandelbrot-set">Mandelbrot set<a class="anchor-link" href="#Mandelbrot-set">&#182;</a></h2><p>This nice little code will write a visualization of the <a href="https://en.wikipedia.org/wiki/Mandelbrot_set">Mandelbrot set</a>, on the domain $[-3, 3] \times [-3i, 3i]$, for $1500 \times 1500$ points, as a Bitmap (written manually in binary).</p>

</div>
</div>
</div>
<div class="cell border-box-sizing code_cell rendered">
<div class="input">
<div class="prompt input_prompt">In&nbsp;[2]:</div>
<div class="inner_cell">
    <div class="input_area">
<div class=" highlight hl-ipython3"><pre><span></span><span class="o">%%time</span>
<span class="n">b_</span>                                      <span class="o">=</span>   <span class="p">(</span>
                                        <span class="mi">255</span><span class="p">,</span>
                                      <span class="k">lambda</span>
                               <span class="n">V</span>       <span class="p">,</span><span class="n">B</span><span class="p">,</span><span class="n">c</span>
                             <span class="p">:</span><span class="n">c</span>   <span class="ow">and</span> <span class="n">Y</span><span class="p">(</span><span class="n">V</span><span class="o">*</span><span class="n">V</span><span class="o">+</span><span class="n">B</span><span class="p">,</span><span class="n">B</span><span class="p">,</span>  <span class="n">c</span>
                               <span class="o">-</span><span class="mi">1</span><span class="p">)</span><span class="k">if</span><span class="p">(</span><span class="nb">abs</span><span class="p">(</span><span class="n">V</span><span class="p">)</span><span class="o">&lt;</span><span class="mi">6</span><span class="p">)</span><span class="k">else</span>
               <span class="p">(</span>              <span class="mi">2</span><span class="o">+</span><span class="n">c</span><span class="o">-</span><span class="mi">4</span><span class="o">*</span><span class="nb">abs</span><span class="p">(</span><span class="n">V</span><span class="p">)</span><span class="o">**-</span><span class="mf">0.4</span><span class="p">)</span><span class="o">/</span><span class="n">i</span>
                 <span class="p">)</span>  <span class="p">;</span><span class="n">v</span><span class="p">,</span>      <span class="n">x</span><span class="o">=</span><span class="mi">1500</span><span class="p">,</span><span class="mi">1000</span><span class="p">;</span><span class="n">C</span><span class="o">=</span><span class="nb">range</span><span class="p">(</span><span class="n">v</span><span class="o">*</span><span class="n">x</span>
                  <span class="p">);</span><span class="kn">import</span>  <span class="nn">struct</span><span class="p">;</span><span class="n">P</span><span class="o">=</span><span class="n">struct</span><span class="o">.</span><span class="n">pack</span><span class="p">;</span><span class="n">M</span><span class="p">,</span>\
            <span class="n">j</span>  <span class="o">=</span><span class="s1">&#39;&lt;QIIHHHH&#39;</span><span class="p">,</span><span class="nb">open</span><span class="p">(</span><span class="s1">&#39;art/M.bmp&#39;</span><span class="p">,</span><span class="s1">&#39;wb&#39;</span><span class="p">)</span><span class="o">.</span><span class="n">write</span>
<span class="k">for</span> <span class="n">X</span> <span class="ow">in</span> <span class="n">j</span><span class="p">(</span><span class="s1">&#39;BM&#39;</span><span class="o">+</span><span class="n">P</span><span class="p">(</span><span class="n">M</span><span class="p">,</span><span class="n">v</span><span class="o">*</span><span class="n">x</span><span class="o">*</span><span class="mi">3</span><span class="o">+</span><span class="mi">26</span><span class="p">,</span><span class="mi">26</span><span class="p">,</span><span class="mi">12</span><span class="p">,</span><span class="n">v</span><span class="p">,</span><span class="n">x</span><span class="p">,</span><span class="mi">1</span><span class="p">,</span><span class="mi">24</span><span class="p">))</span><span class="ow">or</span> <span class="n">C</span><span class="p">:</span>
            <span class="n">i</span>  <span class="p">,</span><span class="n">Y</span><span class="o">=</span><span class="n">_</span><span class="p">;</span><span class="n">j</span><span class="p">(</span><span class="n">P</span><span class="p">(</span><span class="s1">&#39;BBB&#39;</span><span class="p">,</span><span class="o">*</span><span class="p">(</span><span class="k">lambda</span> <span class="n">T</span><span class="p">:(</span><span class="n">T</span><span class="o">*</span><span class="mi">80</span><span class="o">+</span><span class="n">T</span><span class="o">**</span><span class="mi">9</span>
                  <span class="o">*</span><span class="n">i</span><span class="o">-</span><span class="mi">950</span><span class="o">*</span><span class="n">T</span>  <span class="o">**</span><span class="mi">99</span><span class="p">,</span><span class="n">T</span><span class="o">*</span><span class="mi">70</span><span class="o">-</span><span class="mi">880</span><span class="o">*</span><span class="n">T</span><span class="o">**</span><span class="mi">18</span><span class="o">+</span><span class="mi">701</span><span class="o">*</span>
                 <span class="n">T</span>  <span class="o">**</span><span class="mi">9</span>     <span class="p">,</span><span class="n">T</span><span class="o">*</span><span class="n">i</span><span class="o">**</span><span class="p">(</span><span class="mi">1</span><span class="o">-</span><span class="n">T</span><span class="o">**</span><span class="mi">45</span><span class="o">*</span><span class="mi">2</span><span class="p">)))(</span><span class="nb">sum</span><span class="p">(</span>
               <span class="p">[</span>              <span class="n">Y</span><span class="p">(</span><span class="mi">0</span><span class="p">,(</span><span class="n">A</span><span class="o">%</span><span class="mi">3</span><span class="o">/</span><span class="mf">3.</span><span class="o">+</span><span class="n">X</span><span class="o">%</span><span class="n">v</span><span class="o">+</span><span class="p">(</span><span class="n">X</span><span class="o">/</span><span class="n">v</span><span class="o">+</span>
                               <span class="n">A</span><span class="o">/</span><span class="mi">3</span><span class="o">/</span><span class="mf">3.</span><span class="o">-</span><span class="n">x</span><span class="o">/</span><span class="mi">2</span><span class="p">)</span><span class="o">/</span><span class="mi">1</span><span class="n">j</span><span class="p">)</span><span class="o">*</span><span class="mf">2.5</span>
                             <span class="o">/</span><span class="n">x</span>   <span class="o">-</span><span class="mf">2.7</span><span class="p">,</span><span class="n">i</span><span class="p">)</span><span class="o">**</span><span class="mi">2</span> <span class="k">for</span>  \
                               <span class="n">A</span>       <span class="ow">in</span> <span class="n">C</span>
                                      <span class="p">[:</span><span class="mi">9</span><span class="p">]])</span>
                                        <span class="o">/</span><span class="mi">9</span><span class="p">)</span>
                                       <span class="p">)</span>   <span class="p">)</span>
</pre></div>

    </div>
</div>
</div>

<div class="output_wrapper">
<div class="output">


<div class="output_area">

    <div class="prompt"></div>


<div class="output_subarea output_stream output_stderr output_text">
<pre>/usr/local/lib/python2.7/dist-packages/ipykernel/__main__.py:20: DeprecationWarning: integer argument expected, got float
</pre>
</div>
</div>

<div class="output_area">

    <div class="prompt"></div>


<div class="output_subarea output_stream output_stdout output_text">
<pre>CPU times: user 3min 43s, sys: 296 ms, total: 3min 44s
Wall time: 3min 43s
</pre>
</div>
</div>

</div>
</div>

</div>
<div class="cell border-box-sizing text_cell rendered"><div class="prompt input_prompt">
</div><div class="inner_cell">
<div class="text_cell_render border-box-sizing rendered_html">
<p><img src="art/M.bmp" alt=""></p>

</div>
</div>
</div>
<div class="cell border-box-sizing text_cell rendered"><div class="prompt input_prompt">
</div><div class="inner_cell">
<div class="text_cell_render border-box-sizing rendered_html">
<hr>
<h2 id="Penrose-patterns">Penrose patterns<a class="anchor-link" href="#Penrose-patterns">&#182;</a></h2><p>This second nice little code will write a visualization of a <a href="https://en.wikipedia.org/wiki/Penrose_tiling">Penrose tiling (infinite pattern)</a> to a PNG image, of resolution $2000 \times 2000$.</p>

</div>
</div>
</div>
<div class="cell border-box-sizing code_cell rendered">
<div class="input">
<div class="prompt input_prompt">In&nbsp;[3]:</div>
<div class="inner_cell">
    <div class="input_area">
<div class=" highlight hl-ipython3"><pre><span></span><span class="o">%%time</span>
<span class="n">_</span>                                 <span class="o">=</span>\
                                <span class="sd">&quot;&quot;&quot;if!</span>
<span class="sd">                              1:&quot;e,V=200</span>
<span class="sd">                            0,(0j-1)**-.2;</span>
<span class="sd">                           v,S=.5/  V.real,</span>
<span class="sd">                         [(0,0,4      *e,4*e*</span>
<span class="sd">                       V)];w=1          -v&quot;def!</span>
<span class="sd">                      E(T,A,              B,C):P</span>
<span class="sd">                  ,Q,R=B*w+                A*v,B*w+C</span>
<span class="sd">            *v,A*w+B*v;retur              n[(1,Q,C,A),(1,P</span>
<span class="sd">     ,Q,B),(0,Q,P,A)]*T+[(0,C            ,R,B),(1,R,C,A)]*(1-T)&quot;f</span>
<span class="sd">or!i!in!_[:11]:S       =sum([E          (*x)for       !x!in!S],[])&quot;imp</span>
<span class="sd">  ort!cair               o!as!O;      s=O.Ima               geSurfac</span>
<span class="sd">   e(1,e,e)               ;c=O.Con  text(s);               M,L,G=c.</span>
<span class="sd">     move_to                ,c.line_to,c.s                et_sour</span>
<span class="sd">       ce_rgb                a&quot;def!z(f,a)                :f(-a.</span>
<span class="sd">        imag,a.       real-e-e)&quot;for!T,A,B,C!in[i       !for!i!</span>
<span class="sd">          in!S!if!i[&quot;&quot;&quot;</span><span class="p">;</span><span class="n">exec</span><span class="p">(</span><span class="n">reduce</span><span class="p">(</span><span class="k">lambda</span> <span class="n">x</span><span class="p">,</span><span class="n">i</span><span class="p">:</span><span class="n">x</span><span class="o">.</span><span class="n">replace</span><span class="p">(</span><span class="nb">chr</span>
           <span class="p">(</span><span class="n">i</span><span class="p">),</span><span class="s2">&quot;</span><span class="se">\n</span><span class="s2"> &quot;</span><span class="p">[</span><span class="mi">34</span><span class="o">-</span><span class="n">i</span><span class="p">:]),</span>   <span class="nb">range</span><span class="p">(</span>   <span class="mi">35</span><span class="p">),</span><span class="n">_</span><span class="o">+</span><span class="s2">&quot;&quot;&quot;0]]:z(M,A</span>
<span class="s2">             );z(L,B);z         (L,C);         c.close_pa</span>
<span class="s2">             th()&quot;G             (.4,.3             ,1);c.</span>
<span class="s2">             paint(             );G(.7             ,.7,1)</span>
<span class="s2">             ;c.fil             l()&quot;fo             r!i!in</span>
<span class="s2">             !range             (9):&quot;!             g=1-i/</span>
<span class="s2">             8;d=i/          4*g;G(d,d,d,          1-g*.8</span>
<span class="s2">             )&quot;!def     !y(f,a):z(f,a+(1+2j)*(     1j**(i</span>
<span class="s2">             /2.))*g)&quot;!for!T,A,B,C!in!S:y(M,C);y(L,A);y(M</span>
<span class="s2">             ,A);y(L,B)&quot;!c.st            roke()&quot;s.write_t</span>
<span class="s2">             o_png(&#39;art/                    penrose.png&#39;)</span>
<span class="s2">             &quot;&quot;&quot;</span>                                       <span class="p">))</span>
</pre></div>

    </div>
</div>
</div>

<div class="output_wrapper">
<div class="output">


<div class="output_area">

    <div class="prompt"></div>


<div class="output_subarea output_stream output_stdout output_text">
<pre>CPU times: user 4.17 s, sys: 20 ms, total: 4.19 s
Wall time: 4.18 s
</pre>
</div>
</div>

</div>
</div>

</div>
<div class="cell border-box-sizing text_cell rendered"><div class="prompt input_prompt">
</div><div class="inner_cell">
<div class="text_cell_render border-box-sizing rendered_html">
<p><img src="art/penrose.png" alt=""></p>

</div>
</div>
</div>
<div class="cell border-box-sizing text_cell rendered"><div class="prompt input_prompt">
</div><div class="inner_cell">
<div class="text_cell_render border-box-sizing rendered_html">
<hr>
<h2 id="Bitcoin-address-&amp;-private-key-generator">Bitcoin address &amp; private key generator<a class="anchor-link" href="#Bitcoin-address-&amp;-private-key-generator">&#182;</a></h2><p>This is the most concise (and the most sexy!) implementation of the Bitcoin protocol to generate a new address and private key!</p>

</div>
</div>
</div>
<div class="cell border-box-sizing code_cell rendered">
<div class="input">
<div class="prompt input_prompt">In&nbsp;[26]:</div>
<div class="inner_cell">
    <div class="input_area">
<div class=" highlight hl-ipython3"><pre><span></span><span class="o">%%time</span>
<span class="n">_</span>                   <span class="o">=</span><span class="sa">r</span><span class="s2">&quot;&quot;&quot;A(W/2,*M(3*G</span>
<span class="s2">               *G*V(2*J%P),G,J,G)+((M((J-T</span>
<span class="s2">            )*V((G-S)%P),S,T,G)if(<a href="/cdn-cgi/l/email-protection" class="__cf_email__" data-cfemail="84d7c4">[email&#160;protected]</a>(G,J))if(</span>
<span class="s2">         W%<a href="/cdn-cgi/l/email-protection" class="__cf_email__" data-cfemail="8fbdcf">[email&#160;protected]</a>(S,T)))if(<a href="/cdn-cgi/l/email-protection" class="__cf_email__" data-cfemail="7b2c3b">[email&#160;protected]</a>(S,T);H=2**256;import&amp;h</span>
<span class="s2">       ashlib&amp;as&amp;h,os,re,bi    nascii&amp;as&amp;k;J$:int(</span>
<span class="s2">     k.b2a_hex(W),16);C$:C    (W/    58)+[W%58]if(<a href="/cdn-cgi/l/email-protection" class="__cf_email__" data-cfemail="104750">[email&#160;protected]</a></span>
<span class="s2">    [];X=h.new(&quot;rip           em    d160&quot;);Y$:h.sha25</span>
<span class="s2">   6(W).digest();I$                 d=32:I(W/256,d-1)+</span>
<span class="s2">  chr(W%256)if(d&gt;<a href="/cdn-cgi/l/email-protection" class="__cf_email__" data-cfemail="0e3e4e">[email&#160;protected]</a>&quot;&quot;;                  U$:J(k.a2b_base</span>
<span class="s2"> 64(W));f=J(os.urando       m(64))        %(H-U(&quot;AUVRIxl</span>
<span class="s2">Qt1/EQC2hcy/JvsA=&quot;))+      1;M$Q,R,G       :((W*W-Q-G)%P,</span>
<span class="s2">(W*(G+2*Q-W*W)-R)%P)       ;P=H-2**       32-977;V$Q=P,L=</span>
<span class="s2">1,O=0:V(Q%W,W,O-Q/W*                      L,L)if(<a href="/cdn-cgi/l/email-protection" class="__cf_email__" data-cfemail="fea9beb1">[email&#160;protected]</a>%P;S,</span>
<span class="s2">T=A(f,U(&quot;eb5mfvncu6                    xVoGKVzocLBwKb/Nst</span>
<span class="s2">zijZWfKBWxb4F5g=&quot;),      U(&quot;SDra         dyajxGVdpPv8DhEI</span>
<span class="s2">qP0XtEimhVQZnEfQj/       sQ1Lg=&quot;),        0,0);F$:&quot;1&quot;+F(W</span>
<span class="s2"> [1:])if(W[:1           ]==&quot;\0&quot;@&quot;&quot;        .join(map(B,C(</span>
<span class="s2">  J(W))));K$:               F(W          +Y(Y(W))[:4]);</span>
<span class="s2">   X.update(Y(&quot;\4&quot;+                     I(S)+I(T)));B$</span>
<span class="s2">    :re.sub(&quot;[0OIl    _]|            [^\\w]&quot;,&quot;&quot;,&quot;&quot;.jo</span>
<span class="s2">     in(map(chr,ra    nge    (123))))[W];print&quot;Addre</span>
<span class="s2">       ss:&quot;,K(&quot;\0&quot;+X.dig    est())+&quot;\nPrivkey:&quot;,K(</span>
<span class="s2">         &quot;\x80&quot;+I(f))&quot;&quot;&quot;</span><span class="p">;</span><span class="n">exec</span><span class="p">(</span><span class="n">reduce</span><span class="p">(</span><span class="k">lambda</span> <span class="n">W</span><span class="p">,</span><span class="n">X</span><span class="p">:</span>
            <span class="n">W</span><span class="o">.</span><span class="n">replace</span><span class="p">(</span><span class="o">*</span><span class="n">X</span><span class="p">),</span><span class="nb">zip</span><span class="p">(</span><span class="s2">&quot; </span><span class="se">\n</span><span class="s2">&amp;<a href="/cdn-cgi/l/email-protection" class="__cf_email__" data-cfemail="f8dcb8">[email&#160;protected]</a>&quot;</span><span class="p">,[</span><span class="s2">&quot;&quot;</span><span class="p">,</span><span class="s2">&quot;&quot;</span><span class="p">,</span>
               <span class="s2">&quot; &quot;</span><span class="p">,</span><span class="s2">&quot;=lambda W,&quot;</span><span class="p">,</span><span class="s2">&quot;)else &quot;</span><span class="p">])</span>
                    <span class="p">,</span><span class="s2">&quot;A$G,J,S,T:&quot;</span><span class="o">+</span><span class="n">_</span><span class="p">))</span>
</pre></div>

    </div>
</div>
</div>

<div class="output_wrapper">
<div class="output">


<div class="output_area">

    <div class="prompt"></div>


<div class="output_subarea output_stream output_stdout output_text">
<pre>Address: 1PMc1Xt6AMaBhDkX4De6nEPMA8XtDDLJhL
Privkey: 5Jrof4v1UX3X7Zzj724rr6sviw6RhpsczqZEcV8a3MJw1u5eBEb
CPU times: user 64 ms, sys: 24 ms, total: 88 ms
Wall time: 72.9 ms
</pre>
</div>
</div>

</div>
</div>

</div>
<div class="cell border-box-sizing text_cell rendered"><div class="prompt input_prompt">
</div><div class="inner_cell">
<div class="text_cell_render border-box-sizing rendered_html">
<hr>
<p>Disclaimer: I am <em>not</em> the author of these small examples!</p>
<blockquote><p>That's it for today!</p>
</blockquote>

</div>
</div>
</div>
 


    </div>
  </div>

  </div>


  
    <footer class="footer hidden-print">
      <div class="container">
        <div class="col-md-4">
          <p>
            This website does not host notebooks, it only renders notebooks
            available on other websites.
          </p>
        </div>

        <div class="col-md-4">
          <p>
            Delivered by <a href="https://www.fastly.com/">Fastly</a>,
            Rendered by <a href="https://developer.rackspace.com/?nbviewer=awesome">Rackspace</a>
          </p>
          <p>
            nbviewer GitHub <a href="https://github.com/jupyter/nbviewer">repository</a>.
          </p>
        </div>

        <div class="col-md-4">
          
  
            
              <p>
                nbviewer version:
                <a href="https://github.com/jupyter/nbviewer/commit/07b0e305b3254e2280b29f20ceb96c058db2f775">
                  07b0e30
                </a>
              </p>
            
          
  
  <p>
    nbconvert version: <a href="https://github.com/jupyter/nbconvert/releases/tag/5.6.0">
      5.6.0
    </a>
  </p>
  

          
  
  
  <p>
    Rendered
    <span class='date' data-date='Mon, 27 Jan 2020 13:28:02 UTC' title='Mon, 27 Jan 2020 13:28:02 UTC'>(Mon, 27 Jan 2020 13:28:02 UTC)</span>
  </p>
  

        </div>
      </div>
    </footer>
  

  <script data-cfasync="false" src="/cdn-cgi/scripts/5c5dd728/cloudflare-static/email-decode.min.js"></script><script src="/static/components/bootstrap/js/bootstrap.min.js?v=5869c96cc8f19086aee625d670d741f9"></script>
  <script src="/static/components/headroom.js/dist/headroom.min.js?v=b0a311ea668f8e768ea375f4a7abb81c"></script>
  <script src="/static/components/headroom.js/dist/jQuery.headroom.min.js?v=f3a1bae118315d0c234afc74dc6aab71"></script>

  
  
  <script>
    $(function(){ $("#menubar").headroom({
      tolerance: 5,
      offset: 205,
      classes: {
        initial: "animated",
        pinned: "slideInDown",
        unpinned: "slideOutUp"
      }
    })});
  </script>


  
  <script>
    (function(i,s,o,g,r,a,m){i['GoogleAnalyticsObject']=r;i[r]=i[r]||function(){
      (i[r].q=i[r].q||[]).push(arguments)},i[r].l=1*new Date();a=s.createElement(o),
      m=s.getElementsByTagName(o)[0];a.async=1;a.src=g;m.parentNode.insertBefore(a,m)
    })(window,document,'script','https://www.google-analytics.com/analytics.js','ga');
    ga('create', 'UA-52617120-5', 'auto',
       {'storage': 'none'});
    ga('set', 'anonymizeIp', true);
    ga('send', 'pageview');
  </script>
  
  <script>
    require({
        paths: {
          moment: "/static/components/moment/min/moment.min.js?v=89f87298ad94aa1e6b92f42eb66da043"
        }
      }, ["moment"], function(moment){
      var date = $("footer .date"),
        m = moment(new Date(date.data('date'))),
        update = function(){ date.text(m.fromNow()); };
      setInterval(update, 61*1000);
      update();
      var w = $(window).scroll(function(event){
        $("body").toggleClass("scrolled", w.scrollTop() > 0);
      });
    });
  </script>

  <!--NEW RELIC Stop Perf Measurement-->
  
  <!--NEW RELIC End-->
</body>
</html>