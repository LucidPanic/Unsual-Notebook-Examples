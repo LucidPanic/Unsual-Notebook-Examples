








<!DOCTYPE html>
<html lang="en">

<head>
  <meta charset="utf-8">
  <title>Jupyter Notebook Viewer</title>
  <meta name="viewport" content="width=device-width, initial-scale=1.0">
  <meta name="description" content="">
  <meta name="author" content="">
  
  <meta name="robots" content="noindex,nofollow">
  

  <!--NEW RELIC Start Perf Measurement-->
  
  <!--NREND-->

  <!-- Le styles -->
  <link href="/static/build/styles.css?v=7fe30404aaeedb40bf592c91e1d25a26" rel="stylesheet">

  <!-- Le HTML5 shim, for IE6-8 support of HTML5 elements -->
  <!--[if lt IE 9]>
    <script src="http://html5shim.googlecode.com/svn/trunk/html5.js"></script>
  <![endif]-->

  <!-- Le fav and touch icons -->
  <link rel="shortcut icon" href="/static/ico/ipynb_icon_16x16.png">
  <link rel="apple-touch-icon-precomposed" sizes="144x144"
        href="/static/ico/apple-touch-icon-144-precomposed.png?v=5a3c9ede93e2a8b8ea9e3f8f3da1a905">
  <link rel="apple-touch-icon-precomposed" sizes="114x114"
        href="/static/ico/apple-touch-icon-114-precomposed.png?v=45d86fc8f24dc00638035e1dd7a6d898">
  <link rel="apple-touch-icon-precomposed" sizes="72x72"
        href="/static/ico/apple-touch-icon-72-precomposed.png?v=540b5eb0f3cfd25f1439d1c9bd30e15f">
  <link rel="apple-touch-icon-precomposed"
        href="/static/ico/apple-touch-icon-57-precomposed.png?v=225f0590e187e1458625654f10a28f56">
  
  

  

  
  <meta name="twitter:card" content="summary">
  <meta name="twitter:title" content="Notebook on nbviewer">
  <meta name="twitter:description" content="Check out this Jupyter notebook!">

  
  <meta name="twitter:domain" content="nbviewer.jupyter.org">
  <meta name="twitter:image:src" content="http://ipython.org/ipython-doc/dev/_images/ipynb_icon_128x128.png">

  
    <link href="/static/build/notebook.css?v=b71b4a780ae775fd48f0eead7512c5dd" rel="stylesheet">
  

  

  
    <script src="https://cdnjs.cloudflare.com/ajax/libs/mathjax/2.7.1/MathJax.js?config=TeX-AMS_HTML" type="text/javascript">
    </script>
    <script type="text/javascript">
      init_mathjax = function() {
        if (window.MathJax) {
          // MathJax loaded
          MathJax.Hub.Config({
            TeX: {
              equationNumbers: {
                autoNumber: "AMS",
                useLabelIds: true
              }
            },
            tex2jax: {
              inlineMath: [ ['$','$'], ["\\(","\\)"] ],
              displayMath: [ ['$$','$$'], ["\\[","\\]"] ],
              processEscapes: true,
              processEnvironments: true
            },
            displayAlign: 'center',
            "HTML-CSS": {
              styles: {'.MathJax_Display': {"margin": 0}},
              linebreaks: { automatic: true }
            }
          });
          MathJax.Hub.Queue(["Typeset", MathJax.Hub]);
        }
      }
      init_mathjax();
    </script>
  

  
    <script>
      (function() {
        function addWidgetsRenderer() {
          var mimeElement = document.querySelector('script[type="application/vnd.jupyter.widget-view+json"]');
          var scriptElement = document.createElement('script');
          var widgetRendererSrc = 'https://unpkg.com/@jupyter-widgets/html-manager@0.15/dist/embed-amd.js';
          var widgetState;

          try {
            widgetState = mimeElement && JSON.parse(mimeElement.innerHTML);

            if (widgetState && (widgetState.version_major < 2 || !widgetState.version_major)) {
              widgetRendererSrc = 'https://unpkg.com/jupyter-js-widgets@2.1/dist/embed.js';
            }
          } catch(e) {}

          scriptElement.src = widgetRendererSrc;
          document.body.appendChild(scriptElement);
        }

        document.addEventListener('DOMContentLoaded', addWidgetsRenderer);
      }());
    </script>
  

</head>

<body class="nbviewer">

  <!-- These are loaded at the top of the body so they are available to
       notebook cells when they are loaded below. -->
  <script src="/static/components/jquery/dist/jquery.min.js?v=220afd743d9e9643852e31a135a9f3ae"></script>
  <script src="/static/components/requirejs/require.js?v=6da8be361b9ee26c5e721e76c6d4afce"></script>
  <script src="/static/components/moment/min/moment.min.js?v=89f87298ad94aa1e6b92f42eb66da043"></script>
<!-- Navbar
================================================== -->
  <nav id="menubar" class="navbar navbar-default navbar-fixed-top" data-spy="affix">
    <div class="container">
      <div class="navbar-header">
        <button type="button" class="navbar-toggle collapsed" data-toggle="collapse" data-target=".navbar-collapse">
          <span class="sr-only">Toggle navigation</span>
          <i class="fa fa-bars"></i>
        </button>
        <a class="navbar-brand" href="/">
          <img src="/static/img/nav_logo.svg?v=479cefe8d932fb14a67b93911b97d70f" width="159"/>
        </a>
      </div>

      <div class="collapse navbar-collapse">
        <ul class="nav navbar-nav navbar-right">
          <li>
            <a class="active" href="https://jupyter.org">JUPYTER</a>
          </li>
          <li>
    <a href="/faq" title="FAQ" >
      
        <span>FAQ</span>
      
    </a>
  </li>

          
  
    
  
    
      
        <li>
    <a href="script/github/Naereen/notebooks/blob/master/agreg/M%C3%A9moisation_en_Python_et_OCaml.ipynb" title="View as Code" >
      <span class="fa fa-code fa-2x menu-icon"></span>
      <span class="menu-text">View as Code</span>
    </a>
  </li>
      
    
  

  
    <li>
    <a href="#" title="Python 3 Kernel" >
      <span class="fa fa-server fa-2x menu-icon"></span>
      <span class="menu-text">Python 3 Kernel</span>
    </a>
  </li>
  

  
    <li>
    <a href="https://github.com/Naereen/notebooks/blob/master/agreg/M%C3%A9moisation_en_Python_et_OCaml.ipynb" title="View on GitHub" >
      <span class="fa fa-github fa-2x menu-icon"></span>
      <span class="menu-text">View on GitHub</span>
    </a>
  </li>
  

  
    <li>
    <a href="https://mybinder.org/v2/gh/Naereen/notebooks/master?filepath=agreg/M%C3%A9moisation_en_Python_et_OCaml.ipynb" title="Execute on Binder" >
      <span class="fa fa-icon-binder fa-2x menu-icon"></span>
      <span class="menu-text">Execute on Binder</span>
    </a>
  </li>
  

  <li>
    <a href="https://raw.githubusercontent.com/Naereen/notebooks/master/agreg/M%C3%A9moisation_en_Python_et_OCaml.ipynb" title="Download Notebook" download>
      <span class="fa fa-download fa-2x menu-icon"></span>
      <span class="menu-text">Download Notebook</span>
    </a>
  </li>

        </ul>
      </div><!-- /.navbar-collapse -->
      
      
    </div>
  </nav>

  <div class="container container-main">
    
  
  <ol class="breadcrumb">
    
      <li>
        <a href="/github/Naereen/notebooks/tree/master">notebooks</a>
      </li>
    
      <li>
        <a href="/github/Naereen/notebooks/tree/master/agreg">agreg</a>
      </li>
    
  </ol>
  
  <div id="notebook">
    <div id="notebook-container">
      <div class="cell border-box-sizing text_cell rendered"><div class="prompt input_prompt">
</div><div class="inner_cell">
<div class="text_cell_render border-box-sizing rendered_html">
<h1 id="Table-of-Contents">Table of Contents<a class="anchor-link" href="#Table-of-Contents">&#182;</a></h1><p><p><div class="lev1 toc-item"><a href="#Mémoïsation,-en-Python-et-en-OCaml" data-toc-modified-id="Mémoïsation,-en-Python-et-en-OCaml-1"><span class="toc-item-num">1&nbsp;&nbsp;</span>Mémoïsation, en Python et en OCaml</a></div><div class="lev2 toc-item"><a href="#En-Python" data-toc-modified-id="En-Python-11"><span class="toc-item-num">1.1&nbsp;&nbsp;</span>En Python</a></div><div class="lev3 toc-item"><a href="#Exemples-de-fonctions-à-mémoïser" data-toc-modified-id="Exemples-de-fonctions-à-mémoïser-111"><span class="toc-item-num">1.1.1&nbsp;&nbsp;</span>Exemples de fonctions à mémoïser</a></div><div class="lev3 toc-item"><a href="#Mémoïsation-générique,-non-typée" data-toc-modified-id="Mémoïsation-générique,-non-typée-112"><span class="toc-item-num">1.1.2&nbsp;&nbsp;</span>Mémoïsation générique, non typée</a></div><div class="lev3 toc-item"><a href="#Essais" data-toc-modified-id="Essais-113"><span class="toc-item-num">1.1.3&nbsp;&nbsp;</span>Essais</a></div><div class="lev3 toc-item"><a href="#Mémoïsation-générique-et-typée" data-toc-modified-id="Mémoïsation-générique-et-typée-114"><span class="toc-item-num">1.1.4&nbsp;&nbsp;</span>Mémoïsation générique et typée</a></div><div class="lev3 toc-item"><a href="#Bonus-:-on-peut-utiliser-la-syntaxe-d'un-décorateur-en-Python" data-toc-modified-id="Bonus-:-on-peut-utiliser-la-syntaxe-d'un-décorateur-en-Python-115"><span class="toc-item-num">1.1.5&nbsp;&nbsp;</span>Bonus : on peut utiliser la syntaxe d'un décorateur en Python</a></div><div class="lev3 toc-item"><a href="#Conclusion" data-toc-modified-id="Conclusion-116"><span class="toc-item-num">1.1.6&nbsp;&nbsp;</span>Conclusion</a></div><div class="lev2 toc-item"><a href="#En-OCaml" data-toc-modified-id="En-OCaml-12"><span class="toc-item-num">1.2&nbsp;&nbsp;</span>En OCaml</a></div><div class="lev3 toc-item"><a href="#Préliminaires" data-toc-modified-id="Préliminaires-121"><span class="toc-item-num">1.2.1&nbsp;&nbsp;</span>Préliminaires</a></div><div class="lev3 toc-item"><a href="#Exemples-de-fonctions-à-mémoïser" data-toc-modified-id="Exemples-de-fonctions-à-mémoïser-122"><span class="toc-item-num">1.2.2&nbsp;&nbsp;</span>Exemples de fonctions à mémoïser</a></div><div class="lev3 toc-item"><a href="#Mémoïsation-pour-des-fonctions-d'un-argument" data-toc-modified-id="Mémoïsation-pour-des-fonctions-d'un-argument-123"><span class="toc-item-num">1.2.3&nbsp;&nbsp;</span>Mémoïsation pour des fonctions d'un argument</a></div><div class="lev3 toc-item"><a href="#Essais" data-toc-modified-id="Essais-124"><span class="toc-item-num">1.2.4&nbsp;&nbsp;</span>Essais</a></div><div class="lev3 toc-item"><a href="#Exemple-de-la-suite-de-Fibonacci" data-toc-modified-id="Exemple-de-la-suite-de-Fibonacci-125"><span class="toc-item-num">1.2.5&nbsp;&nbsp;</span>Exemple de la suite de Fibonacci</a></div><div class="lev3 toc-item"><a href="#Conclusion" data-toc-modified-id="Conclusion-126"><span class="toc-item-num">1.2.6&nbsp;&nbsp;</span>Conclusion</a></div></p>

</div>
</div>
</div>
<div class="cell border-box-sizing text_cell rendered"><div class="prompt input_prompt">
</div><div class="inner_cell">
<div class="text_cell_render border-box-sizing rendered_html">
<h1 id="M&#233;mo&#239;sation,-en-Python-et-en-OCaml">M&#233;mo&#239;sation, en Python et en OCaml<a class="anchor-link" href="#M&#233;mo&#239;sation,-en-Python-et-en-OCaml">&#182;</a></h1><p>Ce document montre deux exemples d'implémentations d'un procédé générique (mais basique) de <a href="https://fr.wikipedia.org/wiki/M%C3%A9mo%C3%AFsation">mémoïsation</a> en <a href="https://python.org/">Python</a> et en <a href="https://ocaml.org/">OCaml</a></p>

</div>
</div>
</div>
<div class="cell border-box-sizing text_cell rendered"><div class="prompt input_prompt">
</div><div class="inner_cell">
<div class="text_cell_render border-box-sizing rendered_html">
<h2 id="En-Python">En Python<a class="anchor-link" href="#En-Python">&#182;</a></h2>
</div>
</div>
</div>
<div class="cell border-box-sizing text_cell rendered"><div class="prompt input_prompt">
</div><div class="inner_cell">
<div class="text_cell_render border-box-sizing rendered_html">
<h3 id="Exemples-de-fonctions-&#224;-m&#233;mo&#239;ser">Exemples de fonctions &#224; m&#233;mo&#239;ser<a class="anchor-link" href="#Exemples-de-fonctions-&#224;-m&#233;mo&#239;ser">&#182;</a></h3><p>On commence avec des fonctions inutilement lentes :</p>

</div>
</div>
</div>
<div class="cell border-box-sizing code_cell rendered">
<div class="input">
<div class="prompt input_prompt">In&nbsp;[1]:</div>
<div class="inner_cell">
    <div class="input_area">
<div class=" highlight hl-ipython3"><pre><span></span><span class="kn">from</span> <span class="nn">time</span> <span class="k">import</span> <span class="n">sleep</span>
</pre></div>

    </div>
</div>
</div>

</div>
<div class="cell border-box-sizing code_cell rendered">
<div class="input">
<div class="prompt input_prompt">In&nbsp;[2]:</div>
<div class="inner_cell">
    <div class="input_area">
<div class=" highlight hl-ipython3"><pre><span></span><span class="k">def</span> <span class="nf">f1</span><span class="p">(</span><span class="n">n</span><span class="p">):</span>
    <span class="n">sleep</span><span class="p">(</span><span class="mi">3</span><span class="p">)</span>
    <span class="k">return</span> <span class="n">n</span> <span class="o">+</span> <span class="mi">3</span>

<span class="k">def</span> <span class="nf">f2</span><span class="p">(</span><span class="n">n</span><span class="p">):</span>
    <span class="n">sleep</span><span class="p">(</span><span class="mi">4</span><span class="p">)</span>
    <span class="k">return</span> <span class="n">n</span> <span class="o">*</span> <span class="n">n</span>
</pre></div>

    </div>
</div>
</div>

</div>
<div class="cell border-box-sizing code_cell rendered">
<div class="input">
<div class="prompt input_prompt">In&nbsp;[3]:</div>
<div class="inner_cell">
    <div class="input_area">
<div class=" highlight hl-ipython3"><pre><span></span><span class="o">%</span><span class="k">timeit</span> f1(10)
</pre></div>

    </div>
</div>
</div>

<div class="output_wrapper">
<div class="output">


<div class="output_area">

    <div class="prompt"></div>


<div class="output_subarea output_stream output_stdout output_text">
<pre>3 s ± 1.05 ms per loop (mean ± std. dev. of 7 runs, 1 loop each)
</pre>
</div>
</div>

</div>
</div>

</div>
<div class="cell border-box-sizing code_cell rendered">
<div class="input">
<div class="prompt input_prompt">In&nbsp;[4]:</div>
<div class="inner_cell">
    <div class="input_area">
<div class=" highlight hl-ipython3"><pre><span></span><span class="o">%</span><span class="k">timeit</span> f2(10)
</pre></div>

    </div>
</div>
</div>

<div class="output_wrapper">
<div class="output">


<div class="output_area">

    <div class="prompt"></div>


<div class="output_subarea output_stream output_stdout output_text">
<pre>4 s ± 1.25 ms per loop (mean ± std. dev. of 7 runs, 1 loop each)
</pre>
</div>
</div>

</div>
</div>

</div>
<div class="cell border-box-sizing text_cell rendered"><div class="prompt input_prompt">
</div><div class="inner_cell">
<div class="text_cell_render border-box-sizing rendered_html">
<h3 id="M&#233;mo&#239;sation-g&#233;n&#233;rique,-non-typ&#233;e">M&#233;mo&#239;sation g&#233;n&#233;rique, non typ&#233;e<a class="anchor-link" href="#M&#233;mo&#239;sation-g&#233;n&#233;rique,-non-typ&#233;e">&#182;</a></h3><p>C'est étrangement court !</p>

</div>
</div>
</div>
<div class="cell border-box-sizing code_cell rendered">
<div class="input">
<div class="prompt input_prompt">In&nbsp;[5]:</div>
<div class="inner_cell">
    <div class="input_area">
<div class=" highlight hl-ipython3"><pre><span></span><span class="k">def</span> <span class="nf">memo</span><span class="p">(</span><span class="n">f</span><span class="p">):</span>
    <span class="n">memoire</span> <span class="o">=</span> <span class="p">{}</span>  <span class="c1"># dictionnaire vide, {} ou dict()</span>
    <span class="k">def</span> <span class="nf">memo_f</span><span class="p">(</span><span class="n">n</span><span class="p">):</span>              <span class="c1"># nouvelle fonction</span>
        <span class="k">if</span> <span class="n">n</span> <span class="ow">not</span> <span class="ow">in</span> <span class="n">memoire</span><span class="p">:</span>    <span class="c1"># verification</span>
             <span class="n">memoire</span><span class="p">[</span><span class="n">n</span><span class="p">]</span> <span class="o">=</span> <span class="n">f</span><span class="p">(</span><span class="n">n</span><span class="p">)</span>  <span class="c1"># stockage</span>
        <span class="k">return</span> <span class="n">memoire</span><span class="p">[</span><span class="n">n</span><span class="p">]</span>       <span class="c1"># lecture</span>
    <span class="k">return</span> <span class="n">memo_f</span>               <span class="c1"># ==&gt; f memoisée !</span>
</pre></div>

    </div>
</div>
</div>

</div>
<div class="cell border-box-sizing text_cell rendered"><div class="prompt input_prompt">
</div><div class="inner_cell">
<div class="text_cell_render border-box-sizing rendered_html">
<h3 id="Essais">Essais<a class="anchor-link" href="#Essais">&#182;</a></h3>
</div>
</div>
</div>
<div class="cell border-box-sizing code_cell rendered">
<div class="input">
<div class="prompt input_prompt">In&nbsp;[6]:</div>
<div class="inner_cell">
    <div class="input_area">
<div class=" highlight hl-ipython3"><pre><span></span><span class="n">memo_f1</span> <span class="o">=</span> <span class="n">memo</span><span class="p">(</span><span class="n">f1</span><span class="p">)</span>

<span class="nb">print</span><span class="p">(</span><span class="s2">&quot;3 secondes...&quot;</span><span class="p">)</span>
<span class="nb">print</span><span class="p">(</span><span class="n">memo_f1</span><span class="p">(</span><span class="mi">10</span><span class="p">))</span>  <span class="c1"># 13, 3 secondes après</span>
<span class="nb">print</span><span class="p">(</span><span class="s2">&quot;0 secondes !&quot;</span><span class="p">)</span>
<span class="nb">print</span><span class="p">(</span><span class="n">memo_f1</span><span class="p">(</span><span class="mi">10</span><span class="p">))</span>  <span class="c1"># instantanné !</span>

<span class="c1"># différent de ces deux lignes !</span>

<span class="nb">print</span><span class="p">(</span><span class="s2">&quot;3 secondes...&quot;</span><span class="p">)</span>
<span class="nb">print</span><span class="p">(</span><span class="n">memo</span><span class="p">(</span><span class="n">f1</span><span class="p">)(</span><span class="mi">10</span><span class="p">))</span>
<span class="nb">print</span><span class="p">(</span><span class="s2">&quot;3 secondes...&quot;</span><span class="p">)</span>
<span class="nb">print</span><span class="p">(</span><span class="n">memo</span><span class="p">(</span><span class="n">f1</span><span class="p">)(</span><span class="mi">10</span><span class="p">))</span>  <span class="c1"># 3 secondes aussi !</span>
</pre></div>

    </div>
</div>
</div>

<div class="output_wrapper">
<div class="output">


<div class="output_area">

    <div class="prompt"></div>


<div class="output_subarea output_stream output_stdout output_text">
<pre>3 secondes...
13
0 secondes !
13
3 secondes...
13
3 secondes...
13
</pre>
</div>
</div>

</div>
</div>

</div>
<div class="cell border-box-sizing code_cell rendered">
<div class="input">
<div class="prompt input_prompt">In&nbsp;[7]:</div>
<div class="inner_cell">
    <div class="input_area">
<div class=" highlight hl-ipython3"><pre><span></span><span class="o">%</span><span class="k">timeit</span> memo_f1(10)  # instantanné !
</pre></div>

    </div>
</div>
</div>

<div class="output_wrapper">
<div class="output">


<div class="output_area">

    <div class="prompt"></div>


<div class="output_subarea output_stream output_stdout output_text">
<pre>122 ns ± 5.67 ns per loop (mean ± std. dev. of 7 runs, 10000000 loops each)
</pre>
</div>
</div>

</div>
</div>

</div>
<div class="cell border-box-sizing text_cell rendered"><div class="prompt input_prompt">
</div><div class="inner_cell">
<div class="text_cell_render border-box-sizing rendered_html">
<p>Et :</p>

</div>
</div>
</div>
<div class="cell border-box-sizing code_cell rendered">
<div class="input">
<div class="prompt input_prompt">In&nbsp;[8]:</div>
<div class="inner_cell">
    <div class="input_area">
<div class=" highlight hl-ipython3"><pre><span></span><span class="n">memo_f2</span> <span class="o">=</span> <span class="n">memo</span><span class="p">(</span><span class="n">f2</span><span class="p">)</span>

<span class="nb">print</span><span class="p">(</span><span class="s2">&quot;4 secondes...&quot;</span><span class="p">)</span>
<span class="nb">print</span><span class="p">(</span><span class="n">memo_f2</span><span class="p">(</span><span class="mi">10</span><span class="p">))</span>  <span class="c1"># 100, 4 secondes après</span>
<span class="nb">print</span><span class="p">(</span><span class="s2">&quot;0 secondes !&quot;</span><span class="p">)</span>
<span class="nb">print</span><span class="p">(</span><span class="n">memo_f2</span><span class="p">(</span><span class="mi">10</span><span class="p">))</span>  <span class="c1"># instantanné !</span>
</pre></div>

    </div>
</div>
</div>

<div class="output_wrapper">
<div class="output">


<div class="output_area">

    <div class="prompt"></div>


<div class="output_subarea output_stream output_stdout output_text">
<pre>4 secondes...
100
0 secondes !
100
</pre>
</div>
</div>

</div>
</div>

</div>
<div class="cell border-box-sizing code_cell rendered">
<div class="input">
<div class="prompt input_prompt">In&nbsp;[9]:</div>
<div class="inner_cell">
    <div class="input_area">
<div class=" highlight hl-ipython3"><pre><span></span><span class="o">%</span><span class="k">timeit</span> memo_f2(10)  # instantanné !
</pre></div>

    </div>
</div>
</div>

<div class="output_wrapper">
<div class="output">


<div class="output_area">

    <div class="prompt"></div>


<div class="output_subarea output_stream output_stdout output_text">
<pre>120 ns ± 3.43 ns per loop (mean ± std. dev. of 7 runs, 10000000 loops each)
</pre>
</div>
</div>

</div>
</div>

</div>
<div class="cell border-box-sizing text_cell rendered"><div class="prompt input_prompt">
</div><div class="inner_cell">
<div class="text_cell_render border-box-sizing rendered_html">
<h3 id="M&#233;mo&#239;sation-g&#233;n&#233;rique-et-typ&#233;e">M&#233;mo&#239;sation g&#233;n&#233;rique et typ&#233;e<a class="anchor-link" href="#M&#233;mo&#239;sation-g&#233;n&#233;rique-et-typ&#233;e">&#182;</a></h3><p>Ce n'est pas tellement plus compliquée de typer la mémoïsation.</p>

</div>
</div>
</div>
<div class="cell border-box-sizing code_cell rendered">
<div class="input">
<div class="prompt input_prompt">In&nbsp;[10]:</div>
<div class="inner_cell">
    <div class="input_area">
<div class=" highlight hl-ipython3"><pre><span></span><span class="k">def</span> <span class="nf">memo_avec_type</span><span class="p">(</span><span class="n">f</span><span class="p">):</span>
    <span class="n">memoire</span> <span class="o">=</span> <span class="p">{}</span>  <span class="c1"># dictionnaire vide, {} ou dict()</span>
    <span class="k">def</span> <span class="nf">memo_f_avec_type</span><span class="p">(</span><span class="n">n</span><span class="p">):</span>
        <span class="k">if</span> <span class="p">(</span><span class="nb">type</span><span class="p">(</span><span class="n">n</span><span class="p">),</span> <span class="n">n</span><span class="p">)</span> <span class="ow">not</span> <span class="ow">in</span> <span class="n">memoire</span><span class="p">:</span>
             <span class="n">memoire</span><span class="p">[(</span><span class="nb">type</span><span class="p">(</span><span class="n">n</span><span class="p">),</span> <span class="n">n</span><span class="p">)]</span> <span class="o">=</span> <span class="n">f</span><span class="p">(</span><span class="n">n</span><span class="p">)</span>
        <span class="k">return</span> <span class="n">memoire</span><span class="p">[(</span><span class="nb">type</span><span class="p">(</span><span class="n">n</span><span class="p">),</span> <span class="n">n</span><span class="p">)]</span>
    <span class="k">return</span> <span class="n">memo_f_avec_type</span>
</pre></div>

    </div>
</div>
</div>

</div>
<div class="cell border-box-sizing text_cell rendered"><div class="prompt input_prompt">
</div><div class="inner_cell">
<div class="text_cell_render border-box-sizing rendered_html">
<p>Avantage, on obtiens un résultat plus cohérent "au niveau de la reproducibilité des résultats", par exemple :</p>

</div>
</div>
</div>
<div class="cell border-box-sizing code_cell rendered">
<div class="input">
<div class="prompt input_prompt">In&nbsp;[11]:</div>
<div class="inner_cell">
    <div class="input_area">
<div class=" highlight hl-ipython3"><pre><span></span><span class="k">def</span> <span class="nf">fonction_sur_entiers_ou_flottants</span><span class="p">(</span><span class="n">n</span><span class="p">):</span>
    <span class="k">if</span> <span class="nb">isinstance</span><span class="p">(</span><span class="n">n</span><span class="p">,</span> <span class="nb">int</span><span class="p">):</span>
        <span class="k">return</span> <span class="s1">&#39;Int&#39;</span>
    <span class="k">elif</span> <span class="nb">isinstance</span><span class="p">(</span><span class="n">n</span><span class="p">,</span> <span class="nb">float</span><span class="p">):</span>
        <span class="k">return</span> <span class="s1">&#39;Float&#39;</span>
    <span class="k">else</span><span class="p">:</span>
        <span class="k">return</span> <span class="s1">&#39;?&#39;</span>
</pre></div>

    </div>
</div>
</div>

</div>
<div class="cell border-box-sizing code_cell rendered">
<div class="input">
<div class="prompt input_prompt">In&nbsp;[12]:</div>
<div class="inner_cell">
    <div class="input_area">
<div class=" highlight hl-ipython3"><pre><span></span><span class="n">test0</span> <span class="o">=</span> <span class="n">fonction_sur_entiers_ou_flottants</span>
<span class="nb">print</span><span class="p">(</span><span class="n">test0</span><span class="p">(</span><span class="mi">1</span><span class="p">))</span>
<span class="nb">print</span><span class="p">(</span><span class="n">test0</span><span class="p">(</span><span class="mf">1.0</span><span class="p">))</span>  <span class="c1"># résultat correct !</span>
<span class="nb">print</span><span class="p">(</span><span class="n">test0</span><span class="p">(</span><span class="s2">&quot;1&quot;</span><span class="p">))</span>
</pre></div>

    </div>
</div>
</div>

<div class="output_wrapper">
<div class="output">


<div class="output_area">

    <div class="prompt"></div>


<div class="output_subarea output_stream output_stdout output_text">
<pre>Int
Float
?
</pre>
</div>
</div>

</div>
</div>

</div>
<div class="cell border-box-sizing code_cell rendered">
<div class="input">
<div class="prompt input_prompt">In&nbsp;[14]:</div>
<div class="inner_cell">
    <div class="input_area">
<div class=" highlight hl-ipython3"><pre><span></span><span class="n">test1</span> <span class="o">=</span> <span class="n">memo</span><span class="p">(</span><span class="n">fonction_sur_entiers_ou_flottants</span><span class="p">)</span>
<span class="nb">print</span><span class="p">(</span><span class="n">test1</span><span class="p">(</span><span class="mi">1</span><span class="p">))</span>
<span class="nb">print</span><span class="p">(</span><span class="n">test1</span><span class="p">(</span><span class="mf">1.0</span><span class="p">))</span>  <span class="c1"># résultat incorrect !</span>
<span class="nb">print</span><span class="p">(</span><span class="n">test1</span><span class="p">(</span><span class="s2">&quot;1&quot;</span><span class="p">))</span>
</pre></div>

    </div>
</div>
</div>

<div class="output_wrapper">
<div class="output">


<div class="output_area">

    <div class="prompt"></div>


<div class="output_subarea output_stream output_stdout output_text">
<pre>Int
Int
?
</pre>
</div>
</div>

</div>
</div>

</div>
<div class="cell border-box-sizing code_cell rendered">
<div class="input">
<div class="prompt input_prompt">In&nbsp;[15]:</div>
<div class="inner_cell">
    <div class="input_area">
<div class=" highlight hl-ipython3"><pre><span></span><span class="n">test2</span> <span class="o">=</span> <span class="n">memo_avec_type</span><span class="p">(</span><span class="n">fonction_sur_entiers_ou_flottants</span><span class="p">)</span>
<span class="nb">print</span><span class="p">(</span><span class="n">test2</span><span class="p">(</span><span class="mi">1</span><span class="p">))</span>
<span class="nb">print</span><span class="p">(</span><span class="n">test2</span><span class="p">(</span><span class="mf">1.0</span><span class="p">))</span>  <span class="c1"># résultat correct !</span>
<span class="nb">print</span><span class="p">(</span><span class="n">test2</span><span class="p">(</span><span class="s2">&quot;1&quot;</span><span class="p">))</span>
</pre></div>

    </div>
</div>
</div>

<div class="output_wrapper">
<div class="output">


<div class="output_area">

    <div class="prompt"></div>


<div class="output_subarea output_stream output_stdout output_text">
<pre>Int
Float
?
</pre>
</div>
</div>

</div>
</div>

</div>
<div class="cell border-box-sizing text_cell rendered"><div class="prompt input_prompt">
</div><div class="inner_cell">
<div class="text_cell_render border-box-sizing rendered_html">
<h3 id="Bonus-:-on-peut-utiliser-la-syntaxe-d'un-d&#233;corateur-en-Python">Bonus : on peut utiliser la syntaxe d'un d&#233;corateur en Python<a class="anchor-link" href="#Bonus-:-on-peut-utiliser-la-syntaxe-d'un-d&#233;corateur-en-Python">&#182;</a></h3>
</div>
</div>
</div>
<div class="cell border-box-sizing code_cell rendered">
<div class="input">
<div class="prompt input_prompt">In&nbsp;[16]:</div>
<div class="inner_cell">
    <div class="input_area">
<div class=" highlight hl-ipython3"><pre><span></span><span class="k">def</span> <span class="nf">fibo</span><span class="p">(</span><span class="n">n</span><span class="p">):</span>
    <span class="k">if</span> <span class="n">n</span> <span class="o">&lt;=</span> <span class="mi">1</span><span class="p">:</span> <span class="k">return</span> <span class="mi">1</span>
    <span class="k">else</span><span class="p">:</span> <span class="k">return</span> <span class="n">fibo</span><span class="p">(</span><span class="n">n</span><span class="o">-</span><span class="mi">1</span><span class="p">)</span> <span class="o">+</span> <span class="n">fibo</span><span class="p">(</span><span class="n">n</span><span class="o">-</span><span class="mi">2</span><span class="p">)</span>

<span class="nb">print</span><span class="p">(</span><span class="s2">&quot;Test de fibo() non mémoisée :&quot;</span><span class="p">)</span>
<span class="k">for</span> <span class="n">n</span> <span class="ow">in</span> <span class="nb">range</span><span class="p">(</span><span class="mi">10</span><span class="p">):</span>
    <span class="nb">print</span><span class="p">(</span><span class="s2">&quot;F_</span><span class="si">{}</span><span class="s2"> = </span><span class="si">{}</span><span class="s2">&quot;</span><span class="o">.</span><span class="n">format</span><span class="p">(</span><span class="n">n</span><span class="p">,</span> <span class="n">fibo</span><span class="p">(</span><span class="n">n</span><span class="p">)))</span>
</pre></div>

    </div>
</div>
</div>

<div class="output_wrapper">
<div class="output">


<div class="output_area">

    <div class="prompt"></div>


<div class="output_subarea output_stream output_stdout output_text">
<pre>Test de fibo() non mémoisée :
F_0 = 1
F_1 = 1
F_2 = 2
F_3 = 3
F_4 = 5
F_5 = 8
F_6 = 13
F_7 = 21
F_8 = 34
F_9 = 55
</pre>
</div>
</div>

</div>
</div>

</div>
<div class="cell border-box-sizing text_cell rendered"><div class="prompt input_prompt">
</div><div class="inner_cell">
<div class="text_cell_render border-box-sizing rendered_html">
<p>Cette fonction récursive est terriblement lente !</p>

</div>
</div>
</div>
<div class="cell border-box-sizing code_cell rendered">
<div class="input">
<div class="prompt input_prompt">In&nbsp;[18]:</div>
<div class="inner_cell">
    <div class="input_area">
<div class=" highlight hl-ipython3"><pre><span></span><span class="o">%</span><span class="k">timeit</span> fibo(35)
</pre></div>

    </div>
</div>
</div>

<div class="output_wrapper">
<div class="output">


<div class="output_area">

    <div class="prompt"></div>


<div class="output_subarea output_stream output_stdout output_text">
<pre>3.15 s ± 74.8 ms per loop (mean ± std. dev. of 7 runs, 1 loop each)
</pre>
</div>
</div>

</div>
</div>

</div>
<div class="cell border-box-sizing code_cell rendered">
<div class="input">
<div class="prompt input_prompt">In&nbsp;[33]:</div>
<div class="inner_cell">
    <div class="input_area">
<div class=" highlight hl-ipython3"><pre><span></span><span class="c1"># version plus rapide !</span>
<span class="nd">@memo</span>
<span class="k">def</span> <span class="nf">fibo2</span><span class="p">(</span><span class="n">n</span><span class="p">):</span>
    <span class="k">if</span> <span class="n">n</span> <span class="o">&lt;=</span> <span class="mi">1</span><span class="p">:</span> <span class="k">return</span> <span class="mi">1</span>
    <span class="k">else</span><span class="p">:</span> <span class="k">return</span> <span class="n">fibo2</span><span class="p">(</span><span class="n">n</span><span class="o">-</span><span class="mi">1</span><span class="p">)</span> <span class="o">+</span> <span class="n">fibo2</span><span class="p">(</span><span class="n">n</span><span class="o">-</span><span class="mi">2</span><span class="p">)</span>

<span class="nb">print</span><span class="p">(</span><span class="s2">&quot;Test de fibo() mémoisée (plus rapide) :&quot;</span><span class="p">)</span>
<span class="k">for</span> <span class="n">n</span> <span class="ow">in</span> <span class="nb">range</span><span class="p">(</span><span class="mi">10</span><span class="p">):</span>
    <span class="nb">print</span><span class="p">(</span><span class="s2">&quot;F_</span><span class="si">{}</span><span class="s2"> = </span><span class="si">{}</span><span class="s2">&quot;</span><span class="o">.</span><span class="n">format</span><span class="p">(</span><span class="n">n</span><span class="p">,</span> <span class="n">fibo2</span><span class="p">(</span><span class="n">n</span><span class="p">)))</span>
</pre></div>

    </div>
</div>
</div>

<div class="output_wrapper">
<div class="output">


<div class="output_area">

    <div class="prompt"></div>


<div class="output_subarea output_stream output_stdout output_text">
<pre>Test de fibo() mémoisée (plus rapide) :
F_0 = 1
F_1 = 1
F_2 = 2
F_3 = 3
F_4 = 5
F_5 = 8
F_6 = 13
F_7 = 21
F_8 = 34
F_9 = 55
</pre>
</div>
</div>

</div>
</div>

</div>
<div class="cell border-box-sizing code_cell rendered">
<div class="input">
<div class="prompt input_prompt">In&nbsp;[21]:</div>
<div class="inner_cell">
    <div class="input_area">
<div class=" highlight hl-ipython3"><pre><span></span><span class="o">%</span><span class="k">timeit</span> fibo2(35)
</pre></div>

    </div>
</div>
</div>

<div class="output_wrapper">
<div class="output">


<div class="output_area">

    <div class="prompt"></div>


<div class="output_subarea output_stream output_stdout output_text">
<pre>118 ns ± 2.59 ns per loop (mean ± std. dev. of 7 runs, 10000000 loops each)
</pre>
</div>
</div>

</div>
</div>

</div>
<div class="cell border-box-sizing text_cell rendered"><div class="prompt input_prompt">
</div><div class="inner_cell">
<div class="text_cell_render border-box-sizing rendered_html">
<p>Autre exemple, ou le gain de temps est moins significatif.</p>

</div>
</div>
</div>
<div class="cell border-box-sizing code_cell rendered">
<div class="input">
<div class="prompt input_prompt">In&nbsp;[22]:</div>
<div class="inner_cell">
    <div class="input_area">
<div class=" highlight hl-ipython3"><pre><span></span><span class="k">def</span> <span class="nf">factorielle</span><span class="p">(</span><span class="n">n</span><span class="p">):</span>
    <span class="k">if</span> <span class="n">n</span> <span class="o">&lt;=</span> <span class="mi">0</span><span class="p">:</span> <span class="k">return</span> <span class="mi">0</span>
    <span class="k">elif</span> <span class="n">n</span> <span class="o">==</span> <span class="mi">1</span><span class="p">:</span> <span class="k">return</span> <span class="mi">1</span>
    <span class="k">else</span><span class="p">:</span> <span class="k">return</span> <span class="n">n</span> <span class="o">*</span> <span class="n">factorielle</span><span class="p">(</span><span class="n">n</span><span class="o">-</span><span class="mi">1</span><span class="p">)</span>

<span class="nb">print</span><span class="p">(</span><span class="s2">&quot;Test de factorielle() non mémoisée :&quot;</span><span class="p">)</span>
<span class="k">for</span> <span class="n">n</span> <span class="ow">in</span> <span class="nb">range</span><span class="p">(</span><span class="mi">10</span><span class="p">):</span>
    <span class="nb">print</span><span class="p">(</span><span class="s2">&quot;</span><span class="si">{}</span><span class="s2">! = </span><span class="si">{}</span><span class="s2">&quot;</span><span class="o">.</span><span class="n">format</span><span class="p">(</span><span class="n">n</span><span class="p">,</span> <span class="n">factorielle</span><span class="p">(</span><span class="n">n</span><span class="p">)))</span>
</pre></div>

    </div>
</div>
</div>

<div class="output_wrapper">
<div class="output">


<div class="output_area">

    <div class="prompt"></div>


<div class="output_subarea output_stream output_stdout output_text">
<pre>Test de factorielle() non mémoisée :
0! = 0
1! = 1
2! = 2
3! = 6
4! = 24
5! = 120
6! = 720
7! = 5040
8! = 40320
9! = 362880
</pre>
</div>
</div>

</div>
</div>

</div>
<div class="cell border-box-sizing code_cell rendered">
<div class="input">
<div class="prompt input_prompt">In&nbsp;[23]:</div>
<div class="inner_cell">
    <div class="input_area">
<div class=" highlight hl-ipython3"><pre><span></span><span class="o">%</span><span class="k">timeit</span> factorielle(30)
</pre></div>

    </div>
</div>
</div>

<div class="output_wrapper">
<div class="output">


<div class="output_area">

    <div class="prompt"></div>


<div class="output_subarea output_stream output_stdout output_text">
<pre>4.53 µs ± 214 ns per loop (mean ± std. dev. of 7 runs, 100000 loops each)
</pre>
</div>
</div>

</div>
</div>

</div>
<div class="cell border-box-sizing code_cell rendered">
<div class="input">
<div class="prompt input_prompt">In&nbsp;[24]:</div>
<div class="inner_cell">
    <div class="input_area">
<div class=" highlight hl-ipython3"><pre><span></span><span class="nd">@memo</span>
<span class="k">def</span> <span class="nf">factorielle2</span><span class="p">(</span><span class="n">n</span><span class="p">):</span>
    <span class="k">if</span> <span class="n">n</span> <span class="o">&lt;=</span> <span class="mi">0</span><span class="p">:</span> <span class="k">return</span> <span class="mi">0</span>
    <span class="k">elif</span> <span class="n">n</span> <span class="o">==</span> <span class="mi">1</span><span class="p">:</span> <span class="k">return</span> <span class="mi">1</span>
    <span class="k">else</span><span class="p">:</span> <span class="k">return</span> <span class="n">n</span> <span class="o">*</span> <span class="n">factorielle2</span><span class="p">(</span><span class="n">n</span><span class="o">-</span><span class="mi">1</span><span class="p">)</span>

<span class="nb">print</span><span class="p">(</span><span class="s2">&quot;Test de factorielle() mémoisée :&quot;</span><span class="p">)</span>
<span class="k">for</span> <span class="n">n</span> <span class="ow">in</span> <span class="nb">range</span><span class="p">(</span><span class="mi">10</span><span class="p">):</span>
    <span class="nb">print</span><span class="p">(</span><span class="s2">&quot;</span><span class="si">{}</span><span class="s2">! = </span><span class="si">{}</span><span class="s2">&quot;</span><span class="o">.</span><span class="n">format</span><span class="p">(</span><span class="n">n</span><span class="p">,</span> <span class="n">factorielle2</span><span class="p">(</span><span class="n">n</span><span class="p">)))</span>
</pre></div>

    </div>
</div>
</div>

<div class="output_wrapper">
<div class="output">


<div class="output_area">

    <div class="prompt"></div>


<div class="output_subarea output_stream output_stdout output_text">
<pre>Test de factorielle() mémoisée :
0! = 0
1! = 1
2! = 2
3! = 6
4! = 24
5! = 120
6! = 720
7! = 5040
8! = 40320
9! = 362880
</pre>
</div>
</div>

</div>
</div>

</div>
<div class="cell border-box-sizing code_cell rendered">
<div class="input">
<div class="prompt input_prompt">In&nbsp;[25]:</div>
<div class="inner_cell">
    <div class="input_area">
<div class=" highlight hl-ipython3"><pre><span></span><span class="o">%</span><span class="k">timeit</span> factorielle2(30)
</pre></div>

    </div>
</div>
</div>

<div class="output_wrapper">
<div class="output">


<div class="output_area">

    <div class="prompt"></div>


<div class="output_subarea output_stream output_stdout output_text">
<pre>124 ns ± 6.32 ns per loop (mean ± std. dev. of 7 runs, 10000000 loops each)
</pre>
</div>
</div>

</div>
</div>

</div>
<div class="cell border-box-sizing text_cell rendered"><div class="prompt input_prompt">
</div><div class="inner_cell">
<div class="text_cell_render border-box-sizing rendered_html">
<h3 id="Conclusion">Conclusion<a class="anchor-link" href="#Conclusion">&#182;</a></h3><p>En Python, c'est facile, avec des dictionnaires génériques et une syntaxe facilitée avec un décorateur.</p>
<p>Bonus : ce décorateur est dans la <a href="https://docs.python.org/3/library/functools.html#functools.lru_cache">bibliothèque standard</a> dans le <a href="https://docs.python.org/3/library/functools.html">module functools</a> !</p>

</div>
</div>
</div>
<div class="cell border-box-sizing code_cell rendered">
<div class="input">
<div class="prompt input_prompt">In&nbsp;[32]:</div>
<div class="inner_cell">
    <div class="input_area">
<div class=" highlight hl-ipython3"><pre><span></span><span class="kn">from</span> <span class="nn">functools</span> <span class="k">import</span> <span class="n">lru_cache</span>  <span class="c1"># lru = least recently updated</span>
</pre></div>

    </div>
</div>
</div>

</div>
<div class="cell border-box-sizing code_cell rendered">
<div class="input">
<div class="prompt input_prompt">In&nbsp;[34]:</div>
<div class="inner_cell">
    <div class="input_area">
<div class=" highlight hl-ipython3"><pre><span></span><span class="nd">@lru_cache</span><span class="p">(</span><span class="n">maxsize</span><span class="o">=</span><span class="kc">None</span><span class="p">)</span>
<span class="k">def</span> <span class="nf">fibo3</span><span class="p">(</span><span class="n">n</span><span class="p">):</span>
    <span class="k">if</span> <span class="n">n</span> <span class="o">&lt;=</span> <span class="mi">1</span><span class="p">:</span> <span class="k">return</span> <span class="mi">1</span>
    <span class="k">else</span><span class="p">:</span> <span class="k">return</span> <span class="n">fibo3</span><span class="p">(</span><span class="n">n</span><span class="o">-</span><span class="mi">1</span><span class="p">)</span> <span class="o">+</span> <span class="n">fibo3</span><span class="p">(</span><span class="n">n</span><span class="o">-</span><span class="mi">2</span><span class="p">)</span>

<span class="nb">print</span><span class="p">(</span><span class="s2">&quot;Test de fibo() mémoisée avec functools.lru_cache (plus rapide) :&quot;</span><span class="p">)</span>
<span class="k">for</span> <span class="n">n</span> <span class="ow">in</span> <span class="nb">range</span><span class="p">(</span><span class="mi">10</span><span class="p">):</span>
    <span class="nb">print</span><span class="p">(</span><span class="s2">&quot;F_</span><span class="si">{}</span><span class="s2"> = </span><span class="si">{}</span><span class="s2">&quot;</span><span class="o">.</span><span class="n">format</span><span class="p">(</span><span class="n">n</span><span class="p">,</span> <span class="n">fibo3</span><span class="p">(</span><span class="n">n</span><span class="p">)))</span>
</pre></div>

    </div>
</div>
</div>

<div class="output_wrapper">
<div class="output">


<div class="output_area">

    <div class="prompt"></div>


<div class="output_subarea output_stream output_stdout output_text">
<pre>Test de fibo() mémoisée avec functools.lru_cache (plus rapide) :
F_0 = 1
F_1 = 1
F_2 = 2
F_3 = 3
F_4 = 5
F_5 = 8
F_6 = 13
F_7 = 21
F_8 = 34
F_9 = 55
</pre>
</div>
</div>

</div>
</div>

</div>
<div class="cell border-box-sizing code_cell rendered">
<div class="input">
<div class="prompt input_prompt">In&nbsp;[35]:</div>
<div class="inner_cell">
    <div class="input_area">
<div class=" highlight hl-ipython3"><pre><span></span><span class="o">%</span><span class="k">timeit</span> fibo2(35)
</pre></div>

    </div>
</div>
</div>

<div class="output_wrapper">
<div class="output">


<div class="output_area">

    <div class="prompt"></div>


<div class="output_subarea output_stream output_stdout output_text">
<pre>115 ns ± 2.83 ns per loop (mean ± std. dev. of 7 runs, 10000000 loops each)
</pre>
</div>
</div>

</div>
</div>

</div>
<div class="cell border-box-sizing code_cell rendered">
<div class="input">
<div class="prompt input_prompt">In&nbsp;[36]:</div>
<div class="inner_cell">
    <div class="input_area">
<div class=" highlight hl-ipython3"><pre><span></span><span class="o">%</span><span class="k">timeit</span> fibo3(35)
</pre></div>

    </div>
</div>
</div>

<div class="output_wrapper">
<div class="output">


<div class="output_area">

    <div class="prompt"></div>


<div class="output_subarea output_stream output_stdout output_text">
<pre>86.6 ns ± 1.62 ns per loop (mean ± std. dev. of 7 runs, 10000000 loops each)
</pre>
</div>
</div>

</div>
</div>

</div>
<div class="cell border-box-sizing code_cell rendered">
<div class="input">
<div class="prompt input_prompt">In&nbsp;[37]:</div>
<div class="inner_cell">
    <div class="input_area">
<div class=" highlight hl-ipython3"><pre><span></span><span class="o">%</span><span class="k">timeit</span> fibo2(70)
</pre></div>

    </div>
</div>
</div>

<div class="output_wrapper">
<div class="output">


<div class="output_area">

    <div class="prompt"></div>


<div class="output_subarea output_stream output_stdout output_text">
<pre>117 ns ± 1.44 ns per loop (mean ± std. dev. of 7 runs, 10000000 loops each)
</pre>
</div>
</div>

</div>
</div>

</div>
<div class="cell border-box-sizing code_cell rendered">
<div class="input">
<div class="prompt input_prompt">In&nbsp;[38]:</div>
<div class="inner_cell">
    <div class="input_area">
<div class=" highlight hl-ipython3"><pre><span></span><span class="o">%</span><span class="k">timeit</span> fibo3(70)
</pre></div>

    </div>
</div>
</div>

<div class="output_wrapper">
<div class="output">


<div class="output_area">

    <div class="prompt"></div>


<div class="output_subarea output_stream output_stdout output_text">
<pre>86.2 ns ± 1.12 ns per loop (mean ± std. dev. of 7 runs, 10000000 loops each)
</pre>
</div>
</div>

</div>
</div>

</div>
<div class="cell border-box-sizing text_cell rendered"><div class="prompt input_prompt">
</div><div class="inner_cell">
<div class="text_cell_render border-box-sizing rendered_html">
<p>(On obtient presque les mêmes performances que notre implémentation manuelle)</p>

</div>
</div>
</div>
<div class="cell border-box-sizing text_cell rendered"><div class="prompt input_prompt">
</div><div class="inner_cell">
<div class="text_cell_render border-box-sizing rendered_html">
<hr>
<h2 id="En-OCaml">En OCaml<a class="anchor-link" href="#En-OCaml">&#182;</a></h2><p>Je traite exactement les mêmes exemples.</p>
<blockquote><p>J'expérimente l'utilisation de deux kernels Jupyter différents pour afficher des exemples de codes écrits dans deux langages dans le même notebook... Ce n'est pas très propre mais <em>ça marche</em>.</p>
</blockquote>

</div>
</div>
</div>
<div class="cell border-box-sizing text_cell rendered"><div class="prompt input_prompt">
</div><div class="inner_cell">
<div class="text_cell_render border-box-sizing rendered_html">
<h3 id="Pr&#233;liminaires">Pr&#233;liminaires<a class="anchor-link" href="#Pr&#233;liminaires">&#182;</a></h3><p>Quelques fonctions nécessaires pour ces exemples :</p>

</div>
</div>
</div>
<div class="cell border-box-sizing code_cell rendered">
<div class="input">
<div class="prompt input_prompt">In&nbsp;[7]:</div>
<div class="inner_cell">
    <div class="input_area">
<div class=" highlight hl-ipython3"><pre><span></span><span class="n">let</span> <span class="nb">print</span> <span class="o">=</span> <span class="n">Format</span><span class="o">.</span><span class="n">printf</span><span class="p">;;</span>
<span class="n">let</span> <span class="n">sprintf</span> <span class="o">=</span> <span class="n">Format</span><span class="o">.</span><span class="n">sprintf</span><span class="p">;;</span>
<span class="n">let</span> <span class="n">time</span> <span class="o">=</span> <span class="n">Unix</span><span class="o">.</span><span class="n">time</span><span class="p">;;</span>
<span class="n">let</span> <span class="n">sleep</span> <span class="n">n</span> <span class="o">=</span> <span class="n">Sys</span><span class="o">.</span><span class="n">command</span> <span class="p">(</span><span class="n">sprintf</span> <span class="s2">&quot;sleep </span><span class="si">%i</span><span class="s2">&quot;</span> <span class="n">n</span><span class="p">);;</span>
</pre></div>

    </div>
</div>
</div>

<div class="output_wrapper">
<div class="output">


<div class="output_area">

    <div class="prompt output_prompt">Out[7]:</div>




<div class="output_text output_subarea output_execute_result">
<pre>val print : (&#39;a, Format.formatter, unit) format -&gt; &#39;a = &lt;fun&gt;
</pre>
</div>

</div>

<div class="output_area">

    <div class="prompt output_prompt">Out[7]:</div>




<div class="output_text output_subarea output_execute_result">
<pre>val sprintf : (&#39;a, unit, string) format -&gt; &#39;a = &lt;fun&gt;
</pre>
</div>

</div>

<div class="output_area">

    <div class="prompt output_prompt">Out[7]:</div>




<div class="output_text output_subarea output_execute_result">
<pre>val time : unit -&gt; float = &lt;fun&gt;
</pre>
</div>

</div>

<div class="output_area">

    <div class="prompt output_prompt">Out[7]:</div>




<div class="output_text output_subarea output_execute_result">
<pre>val sleep : int -&gt; int = &lt;fun&gt;
</pre>
</div>

</div>

</div>
</div>

</div>
<div class="cell border-box-sizing code_cell rendered">
<div class="input">
<div class="prompt input_prompt">In&nbsp;[11]:</div>
<div class="inner_cell">
    <div class="input_area">
<div class=" highlight hl-ipython3"><pre><span></span><span class="n">let</span> <span class="n">timeit</span> <span class="p">(</span><span class="n">repet</span> <span class="p">:</span> <span class="nb">int</span><span class="p">)</span> <span class="p">(</span><span class="n">f</span> <span class="p">:</span> <span class="s1">&#39;a -&gt; &#39;</span><span class="n">a</span><span class="p">)</span> <span class="p">(</span><span class="n">x</span> <span class="p">:</span> <span class="s1">&#39;a) () : float =</span>
    <span class="n">let</span> <span class="n">time0</span> <span class="o">=</span> <span class="n">time</span> <span class="p">()</span> <span class="ow">in</span>
    <span class="k">for</span> <span class="n">_</span> <span class="o">=</span> <span class="mi">1</span> <span class="n">to</span> <span class="n">repet</span> <span class="n">do</span>
        <span class="n">ignore</span> <span class="p">(</span><span class="n">f</span> <span class="n">x</span><span class="p">);</span>
    <span class="n">done</span><span class="p">;</span>
    <span class="n">let</span> <span class="n">time1</span> <span class="o">=</span> <span class="n">time</span> <span class="p">()</span> <span class="ow">in</span>
    <span class="p">(</span><span class="n">time1</span> <span class="o">-.</span> <span class="n">time0</span> <span class="p">)</span> <span class="o">/.</span> <span class="p">(</span><span class="n">float_of_int</span> <span class="n">repet</span><span class="p">)</span>
<span class="p">;;</span>
</pre></div>

    </div>
</div>
</div>

<div class="output_wrapper">
<div class="output">


<div class="output_area">

    <div class="prompt output_prompt">Out[11]:</div>




<div class="output_text output_subarea output_execute_result">
<pre>val timeit : int -&gt; (&#39;a -&gt; &#39;a) -&gt; &#39;a -&gt; unit -&gt; float = &lt;fun&gt;
</pre>
</div>

</div>

</div>
</div>

</div>
<div class="cell border-box-sizing text_cell rendered"><div class="prompt input_prompt">
</div><div class="inner_cell">
<div class="text_cell_render border-box-sizing rendered_html">
<h3 id="Exemples-de-fonctions-&#224;-m&#233;mo&#239;ser">Exemples de fonctions &#224; m&#233;mo&#239;ser<a class="anchor-link" href="#Exemples-de-fonctions-&#224;-m&#233;mo&#239;ser">&#182;</a></h3>
</div>
</div>
</div>
<div class="cell border-box-sizing code_cell rendered">
<div class="input">
<div class="prompt input_prompt">In&nbsp;[12]:</div>
<div class="inner_cell">
    <div class="input_area">
<div class=" highlight hl-ipython3"><pre><span></span><span class="n">let</span> <span class="n">f1</span> <span class="n">n</span> <span class="o">=</span>
    <span class="n">ignore</span> <span class="p">(</span><span class="n">sleep</span> <span class="mi">3</span><span class="p">);</span>
    <span class="n">n</span> <span class="o">+</span> <span class="mi">2</span>
<span class="p">;;</span>
</pre></div>

    </div>
</div>
</div>

<div class="output_wrapper">
<div class="output">


<div class="output_area">

    <div class="prompt output_prompt">Out[12]:</div>




<div class="output_text output_subarea output_execute_result">
<pre>val f1 : int -&gt; int = &lt;fun&gt;
</pre>
</div>

</div>

</div>
</div>

</div>
<div class="cell border-box-sizing code_cell rendered">
<div class="input">
<div class="prompt input_prompt">In&nbsp;[13]:</div>
<div class="inner_cell">
    <div class="input_area">
<div class=" highlight hl-ipython3"><pre><span></span><span class="n">let</span> <span class="n">_</span> <span class="o">=</span> <span class="n">f1</span> <span class="mi">10</span><span class="p">;;</span> <span class="p">(</span><span class="o">*</span> <span class="mi">13</span><span class="p">,</span> <span class="n">après</span> <span class="mi">3</span> <span class="n">secondes</span> <span class="o">*</span><span class="p">)</span>
</pre></div>

    </div>
</div>
</div>

<div class="output_wrapper">
<div class="output">


<div class="output_area">

    <div class="prompt output_prompt">Out[13]:</div>




<div class="output_text output_subarea output_execute_result">
<pre>- : int = 12
</pre>
</div>

</div>

</div>
</div>

</div>
<div class="cell border-box-sizing code_cell rendered">
<div class="input">
<div class="prompt input_prompt">In&nbsp;[14]:</div>
<div class="inner_cell">
    <div class="input_area">
<div class=" highlight hl-ipython3"><pre><span></span><span class="n">timeit</span> <span class="mi">3</span> <span class="n">f1</span> <span class="mi">10</span> <span class="p">();;</span> <span class="p">(</span><span class="o">*</span> <span class="mi">3</span> <span class="n">secondes</span> <span class="o">*</span><span class="p">)</span>
</pre></div>

    </div>
</div>
</div>

<div class="output_wrapper">
<div class="output">


<div class="output_area">

    <div class="prompt output_prompt">Out[14]:</div>




<div class="output_text output_subarea output_execute_result">
<pre>- : float = 3.
</pre>
</div>

</div>

</div>
</div>

</div>
<div class="cell border-box-sizing text_cell rendered"><div class="prompt input_prompt">
</div><div class="inner_cell">
<div class="text_cell_render border-box-sizing rendered_html">
<p>Et un autre exemple similaire :</p>

</div>
</div>
</div>
<div class="cell border-box-sizing code_cell rendered">
<div class="input">
<div class="prompt input_prompt">In&nbsp;[15]:</div>
<div class="inner_cell">
    <div class="input_area">
<div class=" highlight hl-ipython3"><pre><span></span><span class="n">let</span> <span class="n">f2</span> <span class="n">n</span> <span class="o">=</span>
    <span class="n">ignore</span> <span class="p">(</span><span class="n">sleep</span> <span class="mi">4</span><span class="p">);</span>
    <span class="n">n</span> <span class="o">*</span> <span class="n">n</span>
<span class="p">;;</span>
</pre></div>

    </div>
</div>
</div>

<div class="output_wrapper">
<div class="output">


<div class="output_area">

    <div class="prompt output_prompt">Out[15]:</div>




<div class="output_text output_subarea output_execute_result">
<pre>val f2 : int -&gt; int = &lt;fun&gt;
</pre>
</div>

</div>

</div>
</div>

</div>
<div class="cell border-box-sizing code_cell rendered">
<div class="input">
<div class="prompt input_prompt">In&nbsp;[18]:</div>
<div class="inner_cell">
    <div class="input_area">
<div class=" highlight hl-ipython3"><pre><span></span><span class="n">let</span> <span class="n">_</span> <span class="o">=</span> <span class="n">f2</span> <span class="mi">10</span><span class="p">;;</span> <span class="p">(</span><span class="o">*</span> <span class="mi">100</span><span class="p">,</span> <span class="n">après</span> <span class="mi">3</span> <span class="n">secondes</span> <span class="o">*</span><span class="p">)</span>
</pre></div>

    </div>
</div>
</div>

<div class="output_wrapper">
<div class="output">


<div class="output_area">

    <div class="prompt output_prompt">Out[18]:</div>




<div class="output_text output_subarea output_execute_result">
<pre>- : int = 100
</pre>
</div>

</div>

</div>
</div>

</div>
<div class="cell border-box-sizing code_cell rendered">
<div class="input">
<div class="prompt input_prompt">In&nbsp;[19]:</div>
<div class="inner_cell">
    <div class="input_area">
<div class=" highlight hl-ipython3"><pre><span></span><span class="n">timeit</span> <span class="mi">3</span> <span class="n">f2</span> <span class="mi">10</span> <span class="p">();;</span> <span class="p">(</span><span class="o">*</span> <span class="mi">4</span> <span class="n">secondes</span> <span class="o">*</span><span class="p">)</span>
</pre></div>

    </div>
</div>
</div>

<div class="output_wrapper">
<div class="output">


<div class="output_area">

    <div class="prompt output_prompt">Out[19]:</div>




<div class="output_text output_subarea output_execute_result">
<pre>- : float = 4.
</pre>
</div>

</div>

</div>
</div>

</div>
<div class="cell border-box-sizing text_cell rendered"><div class="prompt input_prompt">
</div><div class="inner_cell">
<div class="text_cell_render border-box-sizing rendered_html">
<h3 id="M&#233;mo&#239;sation-pour-des-fonctions-d'un-argument">M&#233;mo&#239;sation pour des fonctions d'un argument<a class="anchor-link" href="#M&#233;mo&#239;sation-pour-des-fonctions-d'un-argument">&#182;</a></h3>
</div>
</div>
</div>
<div class="cell border-box-sizing text_cell rendered"><div class="prompt input_prompt">
</div><div class="inner_cell">
<div class="text_cell_render border-box-sizing rendered_html">
<p>On utilise le module <a href="http://caml.inria.fr/pub/docs/manual-ocaml/libref/Hashtbl.html#VALcreate">Hashtbl</a> de la bibliothèque standard.</p>

</div>
</div>
</div>
<div class="cell border-box-sizing code_cell rendered">
<div class="input">
<div class="prompt input_prompt">In&nbsp;[20]:</div>
<div class="inner_cell">
    <div class="input_area">
<div class=" highlight hl-ipython3"><pre><span></span><span class="n">let</span> <span class="n">memo</span> <span class="n">f</span> <span class="o">=</span>
    <span class="n">let</span> <span class="n">memoire</span> <span class="o">=</span> <span class="n">Hashtbl</span><span class="o">.</span><span class="n">create</span> <span class="mi">128</span> <span class="ow">in</span> <span class="p">(</span><span class="o">*</span> <span class="n">taille</span> <span class="mi">128</span> <span class="n">par</span> <span class="n">defaut</span> <span class="o">*</span><span class="p">)</span>
    <span class="n">let</span> <span class="n">memo_f</span> <span class="n">n</span> <span class="o">=</span>
        <span class="k">if</span> <span class="n">Hashtbl</span><span class="o">.</span><span class="n">mem</span> <span class="n">memoire</span> <span class="n">n</span> <span class="n">then</span>   <span class="p">(</span><span class="o">*</span> <span class="n">lecture</span> <span class="o">*</span><span class="p">)</span>
            <span class="n">Hashtbl</span><span class="o">.</span><span class="n">find</span> <span class="n">memoire</span> <span class="n">n</span>
        <span class="k">else</span> <span class="n">begin</span>
            <span class="n">let</span> <span class="n">res</span> <span class="o">=</span> <span class="n">f</span> <span class="n">n</span> <span class="ow">in</span>            <span class="p">(</span><span class="o">*</span> <span class="n">calcul</span> <span class="o">*</span><span class="p">)</span>
            <span class="n">Hashtbl</span><span class="o">.</span><span class="n">add</span> <span class="n">memoire</span> <span class="n">n</span> <span class="n">res</span><span class="p">;</span>  <span class="p">(</span><span class="o">*</span> <span class="n">stockage</span> <span class="o">*</span><span class="p">)</span>
            <span class="n">res</span>
        <span class="n">end</span>
    <span class="ow">in</span>
    <span class="n">memo_f</span>  <span class="p">(</span><span class="o">*</span> <span class="n">nouvelle</span> <span class="n">fonction</span> <span class="o">*</span><span class="p">)</span>
<span class="p">;;</span>
</pre></div>

    </div>
</div>
</div>

<div class="output_wrapper">
<div class="output">


<div class="output_area">

    <div class="prompt output_prompt">Out[20]:</div>




<div class="output_text output_subarea output_execute_result">
<pre>val memo : (&#39;a -&gt; &#39;b) -&gt; &#39;a -&gt; &#39;b = &lt;fun&gt;
</pre>
</div>

</div>

</div>
</div>

</div>
<div class="cell border-box-sizing text_cell rendered"><div class="prompt input_prompt">
</div><div class="inner_cell">
<div class="text_cell_render border-box-sizing rendered_html">
<h3 id="Essais">Essais<a class="anchor-link" href="#Essais">&#182;</a></h3>
</div>
</div>
</div>
<div class="cell border-box-sizing text_cell rendered"><div class="prompt input_prompt">
</div><div class="inner_cell">
<div class="text_cell_render border-box-sizing rendered_html">
<p>Deux exemples :</p>

</div>
</div>
</div>
<div class="cell border-box-sizing code_cell rendered">
<div class="input">
<div class="prompt input_prompt">In&nbsp;[21]:</div>
<div class="inner_cell">
    <div class="input_area">
<div class=" highlight hl-ipython3"><pre><span></span><span class="n">let</span> <span class="n">memo_f1</span> <span class="o">=</span> <span class="n">memo</span> <span class="n">f1</span> <span class="p">;;</span>
<span class="n">let</span> <span class="n">_</span> <span class="o">=</span> <span class="n">memo_f1</span> <span class="mi">10</span> <span class="p">;;</span> <span class="p">(</span><span class="o">*</span> <span class="mi">3</span> <span class="n">secondes</span> <span class="o">*</span><span class="p">)</span>
<span class="n">let</span> <span class="n">_</span> <span class="o">=</span> <span class="n">memo_f1</span> <span class="mi">10</span> <span class="p">;;</span> <span class="p">(</span><span class="o">*</span> <span class="n">instantanné</span> <span class="o">*</span><span class="p">)</span>
</pre></div>

    </div>
</div>
</div>

<div class="output_wrapper">
<div class="output">


<div class="output_area">

    <div class="prompt output_prompt">Out[21]:</div>




<div class="output_text output_subarea output_execute_result">
<pre>val memo_f1 : int -&gt; int = &lt;fun&gt;
</pre>
</div>

</div>

<div class="output_area">

    <div class="prompt output_prompt">Out[21]:</div>




<div class="output_text output_subarea output_execute_result">
<pre>- : int = 12
</pre>
</div>

</div>

<div class="output_area">

    <div class="prompt output_prompt">Out[21]:</div>




<div class="output_text output_subarea output_execute_result">
<pre>- : int = 12
</pre>
</div>

</div>

</div>
</div>

</div>
<div class="cell border-box-sizing code_cell rendered">
<div class="input">
<div class="prompt input_prompt">In&nbsp;[24]:</div>
<div class="inner_cell">
    <div class="input_area">
<div class=" highlight hl-ipython3"><pre><span></span><span class="n">timeit</span> <span class="mi">100</span> <span class="n">memo_f1</span> <span class="mi">20</span> <span class="p">();;</span> <span class="p">(</span><span class="o">*</span> <span class="mf">0.03</span> <span class="n">secondes</span> <span class="o">*</span><span class="p">)</span>
</pre></div>

    </div>
</div>
</div>

<div class="output_wrapper">
<div class="output">


<div class="output_area">

    <div class="prompt output_prompt">Out[24]:</div>




<div class="output_text output_subarea output_execute_result">
<pre>- : float = 0.03
</pre>
</div>

</div>

</div>
</div>

</div>
<div class="cell border-box-sizing code_cell rendered">
<div class="input">
<div class="prompt input_prompt">In&nbsp;[28]:</div>
<div class="inner_cell">
    <div class="input_area">
<div class=" highlight hl-ipython3"><pre><span></span><span class="n">let</span> <span class="n">memo_f2</span> <span class="o">=</span> <span class="n">memo</span> <span class="n">f2</span> <span class="p">;;</span>
<span class="n">let</span> <span class="n">_</span> <span class="o">=</span> <span class="n">memo_f2</span> <span class="mi">10</span> <span class="p">;;</span> <span class="p">(</span><span class="o">*</span> <span class="mi">4</span> <span class="n">secondes</span> <span class="o">*</span><span class="p">)</span>
<span class="n">let</span> <span class="n">_</span> <span class="o">=</span> <span class="n">memo_f2</span> <span class="mi">10</span> <span class="p">;;</span> <span class="p">(</span><span class="o">*</span> <span class="n">instantanné</span> <span class="o">*</span><span class="p">)</span>
</pre></div>

    </div>
</div>
</div>

<div class="output_wrapper">
<div class="output">


<div class="output_area">

    <div class="prompt output_prompt">Out[28]:</div>




<div class="output_text output_subarea output_execute_result">
<pre>val memo_f2 : int -&gt; int = &lt;fun&gt;
</pre>
</div>

</div>

<div class="output_area">

    <div class="prompt output_prompt">Out[28]:</div>




<div class="output_text output_subarea output_execute_result">
<pre>- : int = 100
</pre>
</div>

</div>

<div class="output_area">

    <div class="prompt output_prompt">Out[28]:</div>




<div class="output_text output_subarea output_execute_result">
<pre>- : int = 100
</pre>
</div>

</div>

</div>
</div>

</div>
<div class="cell border-box-sizing code_cell rendered">
<div class="input">
<div class="prompt input_prompt">In&nbsp;[29]:</div>
<div class="inner_cell">
    <div class="input_area">
<div class=" highlight hl-ipython3"><pre><span></span><span class="n">timeit</span> <span class="mi">100</span> <span class="n">memo_f2</span> <span class="mi">20</span> <span class="p">();;</span> <span class="p">(</span><span class="o">*</span> <span class="mf">0.04</span> <span class="n">secondes</span> <span class="o">*</span><span class="p">)</span>
</pre></div>

    </div>
</div>
</div>

<div class="output_wrapper">
<div class="output">


<div class="output_area">

    <div class="prompt output_prompt">Out[29]:</div>




<div class="output_text output_subarea output_execute_result">
<pre>- : float = 0.04
</pre>
</div>

</div>

</div>
</div>

</div>
<div class="cell border-box-sizing text_cell rendered"><div class="prompt input_prompt">
</div><div class="inner_cell">
<div class="text_cell_render border-box-sizing rendered_html">
<blockquote><p>Ma fonction <code>timeit</code> fait un nombre paramétrique de répétitions sur des entrées non aléatoires, donc le temps <em>moyen</em> observé dépend du nombre de répétitions !</p>
</blockquote>

</div>
</div>
</div>
<div class="cell border-box-sizing code_cell rendered">
<div class="input">
<div class="prompt input_prompt">In&nbsp;[31]:</div>
<div class="inner_cell">
    <div class="input_area">
<div class=" highlight hl-ipython3"><pre><span></span><span class="n">timeit</span> <span class="mi">10000</span> <span class="n">memo_f2</span> <span class="mi">50</span> <span class="p">();;</span> <span class="p">(</span><span class="o">*</span> <span class="mf">0.04</span> <span class="n">secondes</span> <span class="o">*</span><span class="p">)</span>
</pre></div>

    </div>
</div>
</div>

<div class="output_wrapper">
<div class="output">


<div class="output_area">

    <div class="prompt output_prompt">Out[31]:</div>




<div class="output_text output_subarea output_execute_result">
<pre>- : float = 0.0004
</pre>
</div>

</div>

</div>
</div>

</div>
<div class="cell border-box-sizing text_cell rendered"><div class="prompt input_prompt">
</div><div class="inner_cell">
<div class="text_cell_render border-box-sizing rendered_html">
<h3 id="Exemple-de-la-suite-de-Fibonacci">Exemple de la suite de Fibonacci<a class="anchor-link" href="#Exemple-de-la-suite-de-Fibonacci">&#182;</a></h3>
</div>
</div>
</div>
<div class="cell border-box-sizing code_cell rendered">
<div class="input">
<div class="prompt input_prompt">In&nbsp;[32]:</div>
<div class="inner_cell">
    <div class="input_area">
<div class=" highlight hl-ipython3"><pre><span></span><span class="n">let</span> <span class="n">rec</span> <span class="n">fibo</span> <span class="o">=</span> <span class="n">function</span>
    <span class="o">|</span> <span class="mi">0</span> <span class="o">|</span> <span class="mi">1</span> <span class="o">-&gt;</span> <span class="mi">1</span>
    <span class="o">|</span> <span class="n">n</span> <span class="o">-&gt;</span> <span class="p">(</span><span class="n">fibo</span> <span class="p">(</span><span class="n">n</span> <span class="o">-</span> <span class="mi">1</span><span class="p">))</span> <span class="o">+</span> <span class="p">(</span><span class="n">fibo</span> <span class="p">(</span><span class="n">n</span> <span class="o">-</span> <span class="mi">2</span><span class="p">))</span>
<span class="p">;;</span>
</pre></div>

    </div>
</div>
</div>

<div class="output_wrapper">
<div class="output">


<div class="output_area">

    <div class="prompt output_prompt">Out[32]:</div>




<div class="output_text output_subarea output_execute_result">
<pre>val fibo : int -&gt; int = &lt;fun&gt;
</pre>
</div>

</div>

</div>
</div>

</div>
<div class="cell border-box-sizing code_cell rendered">
<div class="input">
<div class="prompt input_prompt">In&nbsp;[38]:</div>
<div class="inner_cell">
    <div class="input_area">
<div class=" highlight hl-ipython3"><pre><span></span><span class="n">fibo</span> <span class="mi">40</span><span class="p">;;</span>
</pre></div>

    </div>
</div>
</div>

<div class="output_wrapper">
<div class="output">


<div class="output_area">

    <div class="prompt output_prompt">Out[38]:</div>




<div class="output_text output_subarea output_execute_result">
<pre>- : int = 165580141
</pre>
</div>

</div>

</div>
</div>

</div>
<div class="cell border-box-sizing code_cell rendered">
<div class="input">
<div class="prompt input_prompt">In&nbsp;[42]:</div>
<div class="inner_cell">
    <div class="input_area">
<div class=" highlight hl-ipython3"><pre><span></span><span class="n">timeit</span> <span class="mi">10</span> <span class="n">fibo</span> <span class="mi">40</span> <span class="p">();;</span> <span class="p">(</span><span class="o">*</span> <span class="mf">4.2</span> <span class="n">secondes</span> <span class="o">!</span> *<span class="o">)</span>
</pre></div>

    </div>
</div>
</div>

<div class="output_wrapper">
<div class="output">


<div class="output_area">

    <div class="prompt output_prompt">Out[42]:</div>




<div class="output_text output_subarea output_execute_result">
<pre>- : float = 4.2
</pre>
</div>

</div>

</div>
</div>

</div>
<div class="cell border-box-sizing text_cell rendered"><div class="prompt input_prompt">
</div><div class="inner_cell">
<div class="text_cell_render border-box-sizing rendered_html">
<p>Et avec la mémoïsation automatique :</p>

</div>
</div>
</div>
<div class="cell border-box-sizing code_cell rendered">
<div class="input">
<div class="prompt input_prompt">In&nbsp;[48]:</div>
<div class="inner_cell">
    <div class="input_area">
<div class=" highlight hl-ipython3"><pre><span></span><span class="n">let</span> <span class="n">memo_fibo</span> <span class="o">=</span> <span class="n">memo</span> <span class="n">fibo</span><span class="p">;;</span>
</pre></div>

    </div>
</div>
</div>

<div class="output_wrapper">
<div class="output">


<div class="output_area">

    <div class="prompt output_prompt">Out[48]:</div>




<div class="output_text output_subarea output_execute_result">
<pre>val memo_fibo : int -&gt; int = &lt;fun&gt;
</pre>
</div>

</div>

</div>
</div>

</div>
<div class="cell border-box-sizing code_cell rendered">
<div class="input">
<div class="prompt input_prompt">In&nbsp;[49]:</div>
<div class="inner_cell">
    <div class="input_area">
<div class=" highlight hl-ipython3"><pre><span></span><span class="n">memo_fibo</span> <span class="mi">40</span><span class="p">;;</span>
</pre></div>

    </div>
</div>
</div>

<div class="output_wrapper">
<div class="output">


<div class="output_area">

    <div class="prompt output_prompt">Out[49]:</div>




<div class="output_text output_subarea output_execute_result">
<pre>- : int = 165580141
</pre>
</div>

</div>

</div>
</div>

</div>
<div class="cell border-box-sizing code_cell rendered">
<div class="input">
<div class="prompt input_prompt">In&nbsp;[50]:</div>
<div class="inner_cell">
    <div class="input_area">
<div class=" highlight hl-ipython3"><pre><span></span><span class="n">timeit</span> <span class="mi">10</span> <span class="n">memo_fibo</span> <span class="mi">41</span> <span class="p">();;</span> <span class="p">(</span><span class="o">*</span> <span class="mf">0.7</span> <span class="n">secondes</span> <span class="o">!</span> *<span class="o">)</span>
</pre></div>

    </div>
</div>
</div>

<div class="output_wrapper">
<div class="output">


<div class="output_area">

    <div class="prompt output_prompt">Out[50]:</div>




<div class="output_text output_subarea output_execute_result">
<pre>- : float = 0.7
</pre>
</div>

</div>

</div>
</div>

</div>
<div class="cell border-box-sizing text_cell rendered"><div class="prompt input_prompt">
</div><div class="inner_cell">
<div class="text_cell_render border-box-sizing rendered_html">
<h3 id="Conclusion">Conclusion<a class="anchor-link" href="#Conclusion">&#182;</a></h3><p>En OCaml, ce n'était pas trop dur non plus en utilisant une table de hachage (dictionnaire), disponibles dans le module Hashtbl.</p>
<p>On est confronté à une limitation de Caml, à savoir que la la fonction <code>memo_f</code> doit être bien typée pour être renvoyée par <code>memo f</code> donc <code>memo</code> ne peut pas avoir un type générique : il faut écrire un décorateur de fonction pour chaque signature bien connue de la fonction qu'on veut mémoïser...</p>

</div>
</div>
</div>
 


    </div>
  </div>

  </div>


  
    <footer class="footer hidden-print">
      <div class="container">
        <div class="col-md-4">
          <p>
            This website does not host notebooks, it only renders notebooks
            available on other websites.
          </p>
        </div>

        <div class="col-md-4">
          <p>
            Delivered by <a href="https://www.fastly.com/">Fastly</a>,
            Rendered by <a href="https://developer.rackspace.com/?nbviewer=awesome">Rackspace</a>
          </p>
          <p>
            nbviewer GitHub <a href="https://github.com/jupyter/nbviewer">repository</a>.
          </p>
        </div>

        <div class="col-md-4">
          
  
            
              <p>
                nbviewer version:
                <a href="https://github.com/jupyter/nbviewer/commit/8a8fd298b446096dddc874da57e99dd22a2d8d97">
                  8a8fd29
                </a>
              </p>
            
          
  
  <p>
    nbconvert version: <a href="https://github.com/jupyter/nbconvert/releases/tag/5.6.1">
      5.6.1
    </a>
  </p>
  

          
  
  
  <p>
    Rendered
    <span class='date' data-date='Mon, 27 Jan 2020 13:31:01 UTC' title='Mon, 27 Jan 2020 13:31:01 UTC'>(Mon, 27 Jan 2020 13:31:01 UTC)</span>
  </p>
  

        </div>
      </div>
    </footer>
  

  <script src="/static/components/bootstrap/js/bootstrap.min.js?v=5869c96cc8f19086aee625d670d741f9"></script>
  <script src="/static/components/headroom.js/dist/headroom.min.js?v=b0a311ea668f8e768ea375f4a7abb81c"></script>
  <script src="/static/components/headroom.js/dist/jQuery.headroom.min.js?v=f3a1bae118315d0c234afc74dc6aab71"></script>

  
  
  <script>
    $(function(){ $("#menubar").headroom({
      tolerance: 5,
      offset: 205,
      classes: {
        initial: "animated",
        pinned: "slideInDown",
        unpinned: "slideOutUp"
      }
    })});
  </script>


  
  <script>
    (function(i,s,o,g,r,a,m){i['GoogleAnalyticsObject']=r;i[r]=i[r]||function(){
      (i[r].q=i[r].q||[]).push(arguments)},i[r].l=1*new Date();a=s.createElement(o),
      m=s.getElementsByTagName(o)[0];a.async=1;a.src=g;m.parentNode.insertBefore(a,m)
    })(window,document,'script','https://www.google-analytics.com/analytics.js','ga');
    ga('create', 'UA-52617120-5', 'auto',
       {'storage': 'none'});
    ga('set', 'anonymizeIp', true);
    ga('send', 'pageview');
  </script>
  
  <script>
    require({
        paths: {
          moment: "/static/components/moment/min/moment.min.js?v=89f87298ad94aa1e6b92f42eb66da043"
        }
      }, ["moment"], function(moment){
      var date = $("footer .date"),
        m = moment(new Date(date.data('date'))),
        update = function(){ date.text(m.fromNow()); };
      setInterval(update, 61*1000);
      update();
      var w = $(window).scroll(function(event){
        $("body").toggleClass("scrolled", w.scrollTop() > 0);
      });
    });
  </script>

  <!--NEW RELIC Stop Perf Measurement-->
  
  <!--NEW RELIC End-->
</body>
</html>