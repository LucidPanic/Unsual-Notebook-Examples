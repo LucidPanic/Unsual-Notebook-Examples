{
 "cells": [
  {
   "cell_type": "code",
   "execution_count": 15,
   "metadata": {},
   "outputs": [],
   "source": [
    "import pymbolic.primitives as p\n",
    "import pymbolic.mapper as m"
   ]
  },
  {
   "cell_type": "code",
   "execution_count": 6,
   "metadata": {},
   "outputs": [],
   "source": [
    "expr = p.Sum(\n",
    "    (p.Product((3, p.Variable(\"x\"))),\n",
    "                 p.Variable(\"y\"))\n",
    "                )"
   ]
  },
  {
   "cell_type": "code",
   "execution_count": 7,
   "metadata": {},
   "outputs": [
    {
     "name": "stdout",
     "output_type": "stream",
     "text": [
      "Sum((Product((3, Variable('x'))), Variable('y')))\n"
     ]
    }
   ],
   "source": [
    "print(repr(expr))"
   ]
  },
  {
   "cell_type": "code",
   "execution_count": 8,
   "metadata": {},
   "outputs": [
    {
     "name": "stdout",
     "output_type": "stream",
     "text": [
      "3*x + y\n"
     ]
    }
   ],
   "source": [
    "print(expr)"
   ]
  },
  {
   "cell_type": "markdown",
   "metadata": {},
   "source": [
    "https://en.wikipedia.org/wiki/Visitor_pattern"
   ]
  },
  {
   "cell_type": "code",
   "execution_count": 41,
   "metadata": {},
   "outputs": [],
   "source": [
    "class MyMapper(m.RecursiveMapper):\n",
    "     def map_sum(self, expr):\n",
    "         print(\"Got a sum!\")\n",
    "         for ch in expr.children:\n",
    "             self.rec(ch)\n",
    "        \n",
    "         return \"+\".join(self.rec(ch) for ch in expr.children)\n",
    " \n",
    "     def map_product(self, expr):\n",
    "         print(\"Got a product!\")\n",
    "         for ch in expr.children:\n",
    "             self.rec(ch)\n",
    "         return \"*\".join(self.rec(ch) for ch in expr.children)\n",
    "                \n",
    "     def map_constant(self, expr):\n",
    "         print(\"Got a constant!\", expr)\n",
    "         return str(expr)\n",
    "\n",
    "     def map_variable(self, expr):\n",
    "         print(\"Got a variable!\", expr.name)\n",
    "         return expr.name\n",
    "            \n",
    "mpr = MyMapper()"
   ]
  },
  {
   "cell_type": "code",
   "execution_count": 42,
   "metadata": {},
   "outputs": [
    {
     "name": "stdout",
     "output_type": "stream",
     "text": [
      "Got a sum!\n",
      "Got a product!\n",
      "Got a constant! 3\n",
      "Got a variable! x\n",
      "Got a constant! 3\n",
      "Got a variable! x\n",
      "Got a variable! y\n",
      "Got a product!\n",
      "Got a constant! 3\n",
      "Got a variable! x\n",
      "Got a constant! 3\n",
      "Got a variable! x\n",
      "Got a variable! y\n"
     ]
    },
    {
     "data": {
      "text/plain": [
       "'3*x+y'"
      ]
     },
     "execution_count": 42,
     "metadata": {},
     "output_type": "execute_result"
    }
   ],
   "source": [
    "mpr(expr)"
   ]
  },
  {
   "cell_type": "code",
   "execution_count": null,
   "metadata": {},
   "outputs": [],
   "source": []
  }
 ],
 "metadata": {
  "kernelspec": {
   "display_name": "Python 3",
   "language": "python",
   "name": "python3"
  },
  "language_info": {
   "codemirror_mode": {
    "name": "ipython",
    "version": 3
   },
   "file_extension": ".py",
   "mimetype": "text/x-python",
   "name": "python",
   "nbconvert_exporter": "python",
   "pygments_lexer": "ipython3",
   "version": "3.7.4+"
  }
 },
 "nbformat": 4,
 "nbformat_minor": 2
}
