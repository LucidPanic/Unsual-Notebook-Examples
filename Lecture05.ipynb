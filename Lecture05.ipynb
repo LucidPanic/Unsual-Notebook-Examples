{
 "cells": [
  {
   "cell_type": "markdown",
   "metadata": {
    "slideshow": {
     "slide_type": "slide"
    }
   },
   "source": [
    "# Lecture 05\n",
    "\n",
    "### Olver and Shakiban 1.4\n",
    "\n",
    "Check out Piazza for details on the `vertcat` and `horzcat` commands"
   ]
  },
  {
   "cell_type": "markdown",
   "metadata": {
    "slideshow": {
     "slide_type": "slide"
    }
   },
   "source": [
    "### Row operations"
   ]
  },
  {
   "cell_type": "code",
   "execution_count": 9,
   "metadata": {
    "slideshow": {
     "slide_type": "slide"
    }
   },
   "outputs": [
    {
     "name": "stdout",
     "output_type": "stream",
     "text": [
      "\n",
      "A =\n",
      "\n",
      "     1     2     3\n",
      "     4     5     6\n",
      "     7     8     9\n",
      "\n",
      "\n",
      "A =\n",
      "\n",
      "     1     2     3\n",
      "     0    -3    -6\n",
      "     7     8     9\n",
      "\n",
      "\n",
      "A =\n",
      "\n",
      "     1     2     3\n",
      "     0    -3    -6\n",
      "     0    -6   -12\n",
      "\n"
     ]
    }
   ],
   "source": [
    "A = [1, 2, 3;\n",
    "     4, 5, 6;\n",
    "     7, 8, 9]\n",
    "A(2,:) = A(2,:) - 4*A(1,:);\n",
    "A\n",
    "A(3,:) = A(3,:) - 7*A(1,:);\n",
    "A"
   ]
  },
  {
   "cell_type": "code",
   "execution_count": 10,
   "metadata": {
    "scrolled": true,
    "slideshow": {
     "slide_type": "slide"
    }
   },
   "outputs": [
    {
     "name": "stdout",
     "output_type": "stream",
     "text": [
      "\n",
      "A =\n",
      "\n",
      "     1     2     3\n",
      "     4     5     6\n",
      "     7     8     9\n",
      "\n",
      "\n",
      "A =\n",
      "\n",
      "     1     2     3\n",
      "     0    -3    -6\n",
      "     7     8     9\n",
      "\n",
      "\n",
      "A =\n",
      "\n",
      "     1     2     3\n",
      "     0    -3    -6\n",
      "     0    -6   -12\n",
      "\n"
     ]
    }
   ],
   "source": [
    "A = [1, 2, 3;\n",
    "     4, 5, 6;\n",
    "     7, 8, 9]\n",
    "A(2,:) = A(2,:) - (A(2,1)/A(1,1))*A(1,:);\n",
    "A\n",
    "A(3,:) = A(3,:) - (A(3,1)/A(1,1))*A(1,:);\n",
    "A"
   ]
  },
  {
   "cell_type": "code",
   "execution_count": 11,
   "metadata": {
    "slideshow": {
     "slide_type": "slide"
    }
   },
   "outputs": [],
   "source": [
    "A = [3, 2.1, 3;\n",
    "     4.3, 9, 6;\n",
    "     7, 11, 9.4];"
   ]
  },
  {
   "cell_type": "code",
   "execution_count": 12,
   "metadata": {},
   "outputs": [
    {
     "name": "stdout",
     "output_type": "stream",
     "text": [
      "\n",
      "A =\n",
      "\n",
      "    3.0000    2.1000    3.0000\n",
      "    4.3000    9.0000    6.0000\n",
      "    7.0000   11.0000    9.4000\n",
      "\n",
      "\n",
      "A =\n",
      "\n",
      "    3.0000    2.1000    3.0000\n",
      "         0    5.9900    1.7000\n",
      "    7.0000   11.0000    9.4000\n",
      "\n",
      "\n",
      "A =\n",
      "\n",
      "    3.0000    2.1000    3.0000\n",
      "         0    5.9900    1.7000\n",
      "         0    6.1000    2.4000\n",
      "\n"
     ]
    }
   ],
   "source": [
    "A\n",
    "A(2,:) = A(2,:) - (A(2,1)/A(1,1))*A(1,:);\n",
    "A\n",
    "A(3,:) = A(3,:) - (A(3,1)/A(1,1))*A(1,:);\n",
    "A"
   ]
  },
  {
   "cell_type": "markdown",
   "metadata": {
    "slideshow": {
     "slide_type": "slide"
    }
   },
   "source": [
    "### Permutations\n",
    "\n",
    "Matlab allows you to access multiple rows, in different orders."
   ]
  },
  {
   "cell_type": "code",
   "execution_count": 13,
   "metadata": {},
   "outputs": [
    {
     "name": "stdout",
     "output_type": "stream",
     "text": [
      "\n",
      "ans =\n",
      "\n",
      "     1     2     3\n",
      "     4     5     6\n",
      "     7     8     9\n",
      "\n"
     ]
    }
   ],
   "source": [
    "A = [1, 2, 3;\n",
    "     4, 5, 6;\n",
    "     7, 8, 9];\n",
    "p = [1,2,3];\n",
    "A(p,:)"
   ]
  },
  {
   "cell_type": "code",
   "execution_count": 14,
   "metadata": {
    "slideshow": {
     "slide_type": "slide"
    }
   },
   "outputs": [
    {
     "name": "stdout",
     "output_type": "stream",
     "text": [
      "\n",
      "A =\n",
      "\n",
      "     1     2     3\n",
      "     4     5     6\n",
      "     7     8     9\n",
      "\n",
      "\n",
      "ans =\n",
      "\n",
      "     7     8     9\n",
      "     4     5     6\n",
      "     1     2     3\n",
      "\n"
     ]
    }
   ],
   "source": [
    "A = [1, 2, 3;\n",
    "     4, 5, 6;\n",
    "     7, 8, 9]\n",
    "p = [3,2,1];\n",
    "A(p,:)"
   ]
  },
  {
   "cell_type": "code",
   "execution_count": 15,
   "metadata": {
    "slideshow": {
     "slide_type": "slide"
    }
   },
   "outputs": [
    {
     "name": "stdout",
     "output_type": "stream",
     "text": [
      "\n",
      "A =\n",
      "\n",
      "     1     2     3\n",
      "     4     5     6\n",
      "     7     8     9\n",
      "\n",
      "\n",
      "ans =\n",
      "\n",
      "     7     8     9\n",
      "     1     2     3\n",
      "\n"
     ]
    }
   ],
   "source": [
    "A = [1, 2, 3;\n",
    "     4, 5, 6;\n",
    "     7, 8, 9]\n",
    "p = [3,1];\n",
    "A(p,:)"
   ]
  },
  {
   "cell_type": "markdown",
   "metadata": {},
   "source": [
    "Different ways to interchange rows, say $r_1 \\leftrightarrow r_3$:"
   ]
  },
  {
   "cell_type": "code",
   "execution_count": 16,
   "metadata": {},
   "outputs": [
    {
     "name": "stdout",
     "output_type": "stream",
     "text": [
      "\n",
      "A =\n",
      "\n",
      "     7     8     9\n",
      "     4     5     6\n",
      "     1     2     3\n",
      "\n"
     ]
    }
   ],
   "source": [
    "A = [1, 2, 3;\n",
    "     4, 5, 6;\n",
    "     7, 8, 9];\n",
    "rowsave = A(1,:);\n",
    "A(1,:) = A(3,:);\n",
    "A(3,:) = rowsave;\n",
    "A"
   ]
  },
  {
   "cell_type": "code",
   "execution_count": 17,
   "metadata": {},
   "outputs": [
    {
     "name": "stdout",
     "output_type": "stream",
     "text": [
      "\n",
      "A =\n",
      "\n",
      "     7     8     9\n",
      "     4     5     6\n",
      "     1     2     3\n",
      "\n"
     ]
    }
   ],
   "source": [
    "A = [1, 2, 3;\n",
    "     4, 5, 6;\n",
    "     7, 8, 9];\n",
    "A([1,3],:) = A([3,1],:);\n",
    "A"
   ]
  }
 ],
 "metadata": {
  "celltoolbar": "Slideshow",
  "kernelspec": {
   "display_name": "Matlab",
   "language": "matlab",
   "name": "matlab"
  },
  "language_info": {
   "codemirror_mode": "octave",
   "file_extension": ".m",
   "help_links": [
    {
     "text": "MetaKernel Magics",
     "url": "https://metakernel.readthedocs.io/en/latest/source/README.html"
    }
   ],
   "mimetype": "text/x-octave",
   "name": "matlab",
   "version": "0.16.7"
  }
 },
 "nbformat": 4,
 "nbformat_minor": 2
}
