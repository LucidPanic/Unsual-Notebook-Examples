{
 "metadata": {
  "name": ""
 },
 "nbformat": 3,
 "nbformat_minor": 0,
 "worksheets": [
  {
   "cells": [
    {
     "cell_type": "code",
     "collapsed": false,
     "input": [
      "from __future__ import division\n",
      "\n",
      "import numpy as np\n",
      "import numpy.linalg as la"
     ],
     "language": "python",
     "metadata": {},
     "outputs": [],
     "prompt_number": 29
    },
    {
     "cell_type": "code",
     "collapsed": false,
     "input": [
      "n = 5\n",
      "\n",
      "A_dp = np.eye(n) + np.random.randn(n, n)\n",
      "A_sp = A_dp.astype(np.float32)\n",
      "b_dp = np.random.randn(n)\n",
      "b_sp = b_dp.astype(np.float32)"
     ],
     "language": "python",
     "metadata": {},
     "outputs": [],
     "prompt_number": 30
    },
    {
     "cell_type": "markdown",
     "metadata": {},
     "source": [
      "Can we solve $Ax=b$ to DP (double precision) accuracy using only SP matrix operations?"
     ]
    },
    {
     "cell_type": "markdown",
     "metadata": {},
     "source": [
      "1) Solve $Ax=b$ in SP and compute DP residual $r_0=b-Ax_0$"
     ]
    },
    {
     "cell_type": "code",
     "collapsed": false,
     "input": [
      "x0_sp = la.solve(A_sp, b_sp)\n",
      "r0_dp = b_dp - np.dot(A_sp, x0_sp)\n",
      "\n",
      "print la.norm(r0_dp)"
     ],
     "language": "python",
     "metadata": {},
     "outputs": [
      {
       "output_type": "stream",
       "stream": "stdout",
       "text": [
        "2.64801687192e-06\n"
       ]
      }
     ],
     "prompt_number": 36
    },
    {
     "cell_type": "markdown",
     "metadata": {},
     "source": [
      "2) Solve $Az_0=r_0$\n"
     ]
    },
    {
     "cell_type": "code",
     "collapsed": false,
     "input": [
      "z0_sp = la.solve(A_sp, r0_dp.astype(np.float32))\n",
      "\n",
      "print la.norm(z0_sp)"
     ],
     "language": "python",
     "metadata": {},
     "outputs": [
      {
       "output_type": "stream",
       "stream": "stdout",
       "text": [
        "6.92626e-06\n"
       ]
      }
     ],
     "prompt_number": 32
    },
    {
     "cell_type": "markdown",
     "metadata": {},
     "source": [
      "3) Use $x_1 = x_0 + z_0$ as improved solution"
     ]
    },
    {
     "cell_type": "code",
     "collapsed": false,
     "input": [
      "x1_dp = (\n",
      "      x0_sp.astype(np.float64)\n",
      "    + z0_sp.astype(np.float64)\n",
      "    )\n",
      "print repr(float(x0_sp[0]))\n",
      "print repr(float(z0_sp[0]))\n",
      "print repr(float(x1_dp[0]))"
     ],
     "language": "python",
     "metadata": {},
     "outputs": [
      {
       "output_type": "stream",
       "stream": "stdout",
       "text": [
        "-8.702376365661621\n",
        "-2.824943294399418e-06\n",
        "-8.702379190604915\n"
       ]
      }
     ],
     "prompt_number": 39
    },
    {
     "cell_type": "code",
     "collapsed": false,
     "input": [
      "la.norm(np.dot(A_sp, x0_sp) - b_dp)"
     ],
     "language": "python",
     "metadata": {},
     "outputs": [
      {
       "metadata": {},
       "output_type": "pyout",
       "prompt_number": 34,
       "text": [
        "2.6480168719150101e-06"
       ]
      }
     ],
     "prompt_number": 34
    },
    {
     "cell_type": "code",
     "collapsed": false,
     "input": [
      "la.norm(np.dot(A_sp, x1_dp) - b_dp)"
     ],
     "language": "python",
     "metadata": {},
     "outputs": [
      {
       "metadata": {},
       "output_type": "pyout",
       "prompt_number": 35,
       "text": [
        "7.536360584765957e-07"
       ]
      }
     ],
     "prompt_number": 35
    },
    {
     "cell_type": "code",
     "collapsed": false,
     "input": [],
     "language": "python",
     "metadata": {},
     "outputs": []
    }
   ],
   "metadata": {}
  }
 ]
}