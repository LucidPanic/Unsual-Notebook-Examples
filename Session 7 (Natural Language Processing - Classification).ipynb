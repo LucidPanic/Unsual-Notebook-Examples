{
 "metadata": {
  "name": "",
  "signature": "sha256:d409a3ee4ff196ef9766b898b5a34c142eb87d11e1ddf09c5649989964903ae5"
 },
 "nbformat": 3,
 "nbformat_minor": 0,
 "worksheets": [
  {
   "cells": [
    {
     "cell_type": "heading",
     "level": 2,
     "metadata": {},
     "source": [
      "Learning to Classify Text: Supervised Classification"
     ]
    },
    {
     "cell_type": "markdown",
     "metadata": {},
     "source": [
      "For this lesson, we will focus on how to build our first automatic classification algorithms. Since the topic is huge, we will be simply scratching the surface, to get something working. For those interested in learning more, taking the Data Mining course next semester is the natural sequence."
     ]
    },
    {
     "cell_type": "markdown",
     "metadata": {},
     "source": [
      "Classification is the task of choosing the correct class label for a given input. In basic classification tasks, each input is considered in isolation from all other inputs, and the set of labels is defined in advance. Some examples of classification tasks are:\n",
      "\n",
      "* Deciding whether an email is spam or not.\n",
      "* Deciding what the topic of a news article is, from a fixed list of topic areas such as \"sports,\" \"technology,\" and \"politics.\"\n",
      "* Deciding whether a given occurrence of the word bank is used to refer to a river bank, a financial institution, the act of tilting to the side, or the act of depositing something in a financial institution.\n",
      "\n",
      "A classifier is called supervised if it is built based on **training data** containing the correct label for each input. \n",
      "\n",
      "<img src=\"http://www.nltk.org/images/supervised-classification.png\">"
     ]
    },
    {
     "cell_type": "markdown",
     "metadata": {},
     "source": [
      "(a) During training, we have a set of input cases, for which we know their correct label. Then we take each input and we extract a set of _features_, which capture the basic information about each input. Pairs of feature sets and labels are fed into the machine learning algorithm to generate a model. \n",
      "\n",
      "(b) During prediction, we need to classify input for which we do not have the correct label. For that, we extract the  same set of features from the input. we feed these features into the model, which generates predicted labels.\n"
     ]
    },
    {
     "cell_type": "heading",
     "level": 4,
     "metadata": {},
     "source": [
      "Gender Identification"
     ]
    },
    {
     "cell_type": "markdown",
     "metadata": {},
     "source": [
      "Earlier, we have seen how we can generate frequency distribution (`FreqDist`) objects from texts (or collection of texts), and we discussed how such information can be used for identification of important words in a text.\n",
      "\n",
      "Let's see how we can use these frequency distributions for our first task: Identify the gender of a name.\n",
      "\n",
      "One more wordlist corpus is the Names corpus, containing 8,000 first names categorized by gender. The male and female names are stored in separate files. Let's find names which appear in both files, i.e. names that are ambiguous for gender:"
     ]
    },
    {
     "cell_type": "code",
     "collapsed": false,
     "input": [
      "import nltk\n",
      "\n",
      "names = nltk.corpus.names\n",
      "names.fileids()"
     ],
     "language": "python",
     "metadata": {},
     "outputs": [
      {
       "metadata": {},
       "output_type": "pyout",
       "prompt_number": 1,
       "text": [
        "[u'female.txt', u'male.txt']"
       ]
      }
     ],
     "prompt_number": 1
    },
    {
     "cell_type": "code",
     "collapsed": false,
     "input": [
      "male_names = names.words('male.txt')\n",
      "print len(male_names)\n",
      "print(male_names)"
     ],
     "language": "python",
     "metadata": {},
     "outputs": [
      {
       "output_type": "stream",
       "stream": "stdout",
       "text": [
        "2943\n",
        "[u'Aamir', u'Aaron', u'Abbey', u'Abbie', u'Abbot', u'Abbott', u'Abby', u'Abdel', u'Abdul', u'Abdulkarim', u'Abdullah', u'Abe', u'Abel', u'Abelard', u'Abner', u'Abraham', u'Abram', u'Ace', u'Adair', u'Adam', u'Adams', u'Addie', u'Adger', u'Aditya', u'Adlai', u'Adnan', u'Adolf', u'Adolfo', u'Adolph', u'Adolphe', u'Adolpho', u'Adolphus', u'Adrian', u'Adrick', u'Adrien', u'Agamemnon', u'Aguinaldo', u'Aguste', u'Agustin', u'Aharon', u'Ahmad', u'Ahmed', u'Ahmet', u'Ajai', u'Ajay', u'Al', u'Alaa', u'Alain', u'Alan', u'Alasdair', u'Alastair', u'Albatros', u'Albert', u'Alberto', u'Albrecht', u'Alden', u'Aldis', u'Aldo', u'Aldric', u'Aldrich', u'Aldus', u'Aldwin', u'Alec', u'Aleck', u'Alejandro', u'Aleks', u'Aleksandrs', u'Alessandro', u'Alex', u'Alexander', u'Alexei', u'Alexis', u'Alf', u'Alfie', u'Alfonse', u'Alfonso', u'Alfonzo', u'Alford', u'Alfred', u'Alfredo', u'Algernon', u'Ali', u'Alic', u'Alister', u'Alix', u'Allah', u'Allan', u'Allen', u'Alley', u'Allie', u'Allin', u'Allyn', u'Alonso', u'Alonzo', u'Aloysius', u'Alphonse', u'Alphonso', u'Alston', u'Alton', u'Alvin', u'Alwin', u'Amadeus', u'Ambros', u'Ambrose', u'Ambrosi', u'Ambrosio', u'Ambrosius', u'Amery', u'Amory', u'Amos', u'Anatol', u'Anatole', u'Anatollo', u'Anatoly', u'Anders', u'Andie', u'Andonis', u'Andre', u'Andrea', u'Andreas', u'Andrej', u'Andres', u'Andrew', u'Andrey', u'Andri', u'Andros', u'Andrus', u'Andrzej', u'Andy', u'Angel', u'Angelico', u'Angelo', u'Angie', u'Angus', u'Ansel', u'Ansell', u'Anselm', u'Anson', u'Anthony', u'Antin', u'Antoine', u'Anton', u'Antone', u'Antoni', u'Antonin', u'Antonino', u'Antonio', u'Antonius', u'Antony', u'Anurag', u'Apollo', u'Apostolos', u'Aram', u'Archibald', u'Archibold', u'Archie', u'Archon', u'Archy', u'Arel', u'Ari', u'Arie', u'Ariel', u'Aristotle', u'Arlo', u'Armand', u'Armando', u'Armond', u'Armstrong', u'Arne', u'Arnie', u'Arnold', u'Arnoldo', u'Aron', u'Arron', u'Art', u'Arther', u'Arthur', u'Artie', u'Artur', u'Arturo', u'Arvie', u'Arvin', u'Arvind', u'Arvy', u'Ash', u'Ashby', u'Ashish', u'Ashley', u'Ashton', u'Aub', u'Aube', u'Aubert', u'Aubrey', u'Augie', u'August', u'Augustin', u'Augustine', u'Augusto', u'Augustus', u'Austen', u'Austin', u'Ave', u'Averell', u'Averil', u'Averill', u'Avery', u'Avi', u'Avraham', u'Avram', u'Avrom', u'Axel', u'Aylmer', u'Aziz', u'Bailey', u'Bailie', u'Baillie', u'Baily', u'Baird', u'Baldwin', u'Bancroft', u'Barbabas', u'Barclay', u'Bard', u'Barde', u'Barn', u'Barnabas', u'Barnabe', u'Barnaby', u'Barnard', u'Barnebas', u'Barnett', u'Barney', u'Barnie', u'Barny', u'Baron', u'Barr', u'Barret', u'Barrett', u'Barri', u'Barrie', u'Barris', u'Barron', u'Barry', u'Bart', u'Bartel', u'Barth', u'Barthel', u'Bartholemy', u'Bartholomeo', u'Bartholomeus', u'Bartholomew', u'Bartie', u'Bartlet', u'Bartlett', u'Bartolemo', u'Bartolomei', u'Bartolomeo', u'Barton', u'Barty', u'Bary', u'Basil', u'Batholomew', u'Baxter', u'Bay', u'Bayard', u'Beale', u'Bealle', u'Bear', u'Bearnard', u'Beau', u'Beaufort', u'Beauregard', u'Beck', u'Bela', u'Ben', u'Benedict', u'Bengt', u'Benito', u'Benjamen', u'Benjamin', u'Benji', u'Benjie', u'Benjy', u'Benn', u'Bennet', u'Bennett', u'Bennie', u'Benny', u'Benson', u'Bentley', u'Benton', u'Beowulf', u'Berchtold', u'Berk', u'Berke', u'Berkeley', u'Berkie', u'Berkley', u'Bernard', u'Bernardo', u'Bernd', u'Bernhard', u'Bernie', u'Bert', u'Bertie', u'Bertram', u'Bertrand', u'Bharat', u'Biff', u'Bill', u'Billie', u'Billy', u'Bing', u'Binky', u'Bishop', u'Bjorn', u'Bjorne', u'Blaine', u'Blair', u'Blake', u'Blare', u'Blayne', u'Bo', u'Bob', u'Bobbie', u'Bobby', u'Bogart', u'Bogdan', u'Boniface', u'Boris', u'Boyce', u'Boyd', u'Brad', u'Braden', u'Bradford', u'Bradley', u'Bradly', u'Brady', u'Brandon', u'Brandy', u'Brant', u'Brendan', u'Brent', u'Bret', u'Brett', u'Brewer', u'Brewster', u'Brian', u'Brice', u'Briggs', u'Brinkley', u'Britt', u'Brock', u'Broddie', u'Broddy', u'Broderic', u'Broderick', u'Brodie', u'Brody', u'Bronson', u'Brook', u'Brooke', u'Brooks', u'Bruce', u'Bruno', u'Bryan', u'Bryant', u'Bryce', u'Bryn', u'Bryon', u'Bubba', u'Buck', u'Bucky', u'Bud', u'Buddy', u'Burgess', u'Burke', u'Burl', u'Burnaby', u'Burt', u'Burton', u'Buster', u'Butch', u'Butler', u'Byram', u'Byron', u'Caesar', u'Cain', u'Cal', u'Caldwell', u'Caleb', u'Calhoun', u'Calvin', u'Cam', u'Cameron', u'Cammy', u'Carey', u'Carl', u'Carleigh', u'Carlie', u'Carlin', u'Carlo', u'Carlos', u'Carlton', u'Carlyle', u'Carmine', u'Carroll', u'Carson', u'Carsten', u'Carter', u'Cary', u'Caryl', u'Case', u'Casey', u'Caspar', u'Casper', u'Cass', u'Cat', u'Cecil', u'Cesar', u'Chad', u'Chadd', u'Chaddie', u'Chaddy', u'Chadwick', u'Chaim', u'Chalmers', u'Chan', u'Chance', u'Chancey', u'Chanderjit', u'Chandler', u'Chane', u'Chariot', u'Charles', u'Charleton', u'Charley', u'Charlie', u'Charlton', u'Chas', u'Chase', u'Chaunce', u'Chauncey', u'Che', u'Chelton', u'Chen', u'Chester', u'Cheston', u'Chet', u'Chev', u'Chevalier', u'Chevy', u'Chip', u'Chris', u'Chrissy', u'Christ', u'Christian', u'Christiano', u'Christie', u'Christof', u'Christofer', u'Christoph', u'Christophe', u'Christopher', u'Christorpher', u'Christos', u'Christy', u'Chrisy', u'Chuck', u'Churchill', u'Clair', u'Claire', u'Clancy', u'Clarance', u'Clare', u'Clarence', u'Clark', u'Clarke', u'Claude', u'Claudio', u'Claudius', u'Claus', u'Clay', u'Clayborn', u'Clayborne', u'Claybourne', u'Clayton', u'Cleland', u'Clem', u'Clemens', u'Clement', u'Clemente', u'Clemmie', u'Cletus', u'Cleveland', u'Cliff', u'Clifford', u'Clifton', u'Clint', u'Clinten', u'Clinton', u'Clive', u'Clyde', u'Cob', u'Cobb', u'Cobbie', u'Cobby', u'Cody', u'Colbert', u'Cole', u'Coleman', u'Colin', u'Collin', u'Collins', u'Conan', u'Connie', u'Connolly', u'Connor', u'Conrad', u'Conroy', u'Constantin', u'Constantine', u'Constantinos', u'Conway', u'Cooper', u'Corbin', u'Corby', u'Corey', u'Corky', u'Cornelius', u'Cornellis', u'Corrie', u'Cortese', u'Corwin', u'Cory', u'Cosmo', u'Costa', u'Courtney', u'Craig', u'Crawford', u'Creighton', u'Cris', u'Cristopher', u'Curt', u'Curtice', u'Curtis', u'Cy', u'Cyril', u'Cyrill', u'Cyrille', u'Cyrillus', u'Cyrus', u'Dabney', u'Daffy', u'Dale', u'Dallas', u'Dalton', u'Damian', u'Damien', u'Damon', u'Dan', u'Dana', u'Dane', u'Dani', u'Danie', u'Daniel', u'Dannie', u'Danny', u'Dante', u'Darby', u'Darcy', u'Daren', u'Darian', u'Darien', u'Darin', u'Dario', u'Darius', u'Darrel', u'Darrell', u'Darren', u'Darrick', u'Darrin', u'Darryl', u'Darth', u'Darwin', u'Daryl', u'Daryle', u'Dave', u'Davey', u'David', u'Davidde', u'Davide', u'Davidson', u'Davie', u'Davin', u'Davis', u'Davon', u'Davoud', u'Davy', u'Dawson', u'Dean', u'Deane', u'Del', u'Delbert', u'Dell', u'Delmar', u'Demetre', u'Demetri', u'Demetris', u'Demetrius', u'Demosthenis', u'Denis', u'Dennie', u'Dennis', u'Denny', u'Derby', u'Derek', u'Derick', u'Derk', u'Derrek', u'Derrick', u'Derrin', u'Derrol', u'Derron', u'Deryl', u'Desmond', u'Desmund', u'Devin', u'Devon', u'Dewey', u'Dewitt', u'Dexter', u'Dick', u'Dickey', u'Dickie', u'Diego', u'Dieter', u'Dietrich', u'Dillon', u'Dimitri', u'Dimitrios', u'Dimitris', u'Dimitrou', u'Dimitry', u'Dino', u'Dion', u'Dionis', u'Dionysus', u'Dirk', u'Dmitri', u'Dom', u'Domenic', u'Domenico', u'Dominic', u'Dominick', u'Dominique', u'Don', u'Donal', u'Donald', u'Donn', u'Donnie', u'Donny', u'Donovan', u'Dorian', u'Dory', u'Doug', u'Douggie', u'Dougie', u'Douglas', u'Douglass', u'Douglis', u'Dov', u'Doyle', u'Drake', u'Drew', u'Dru', u'Dryke', u'Duane', u'Dudley', u'Duffie', u'Duffy', u'Dugan', u'Duke', u'Dunc', u'Duncan', u'Dunstan', u'Durand', u'Durant', u'Durante', u'Durward', u'Dustin', u'Dwain', u'Dwaine', u'Dwane', u'Dwayne', u'Dwight', u'Dylan', u'Dyson', u'Earl', u'Earle', u'Easton', u'Eben', u'Ebeneser', u'Ebenezer', u'Eberhard', u'Ed', u'Eddie', u'Eddy', u'Edgar', u'Edgardo', u'Edie', u'Edmond', u'Edmund', u'Edouard', u'Edsel', u'Eduard', u'Eduardo', u'Edward', u'Edwin', u'Efram', u'Egbert', u'Ehud', u'Elbert', u'Elden', u'Eldon', u'Eli', u'Elias', u'Elihu', u'Elijah', u'Eliot', u'Eliott', u'Elisha', u'Elliot', u'Elliott', u'Ellis', u'Ellsworth', u'Ellwood', u'Elmer', u'Elmore', u'Elnar', u'Elric', u'Elroy', u'Elton', u'Elvin', u'Elvis', u'Elwin', u'Elwood', u'Elwyn', u'Ely', u'Emanuel', u'Emerson', u'Emery', u'Emil', u'Emile', u'Emilio', u'Emmanuel', u'Emmery', u'Emmet', u'Emmett', u'Emmit', u'Emmott', u'Emmy', u'Emory', u'Ender', u'Engelbart', u'Engelbert', u'Englebart', u'Englebert', u'Enoch', u'Enrico', u'Enrique', u'Ephraim', u'Ephram', u'Ephrayim', u'Ephrem', u'Er', u'Erasmus', u'Erastus', u'Erek', u'Erhard', u'Erhart', u'Eric', u'Erich', u'Erick', u'Erik', u'Erin', u'Erl', u'Ernest', u'Ernesto', u'Ernie', u'Ernst', u'Erny', u'Errol', u'Ervin', u'Erwin', u'Esau', u'Esme', u'Esteban', u'Ethan', u'Ethelbert', u'Ethelred', u'Etienne', u'Euclid', u'Eugen', u'Eugene', u'Eustace', u'Ev', u'Evan', u'Evelyn', u'Everard', u'Everett', u'Ewan', u'Ewart', u'Ez', u'Ezechiel', u'Ezekiel', u'Ezra', u'Fabian', u'Fabio', u'Fairfax', u'Farley', u'Fazeel', u'Federico', u'Felice', u'Felicio', u'Felipe', u'Felix', u'Ferd', u'Ferdie', u'Ferdinand', u'Ferdy', u'Fergus', u'Ferguson', u'Ferinand', u'Fernando', u'Fidel', u'Filbert', u'Filip', u'Filipe', u'Filmore', u'Finley', u'Finn', u'Fitz', u'Fitzgerald', u'Flem', u'Fleming', u'Flemming', u'Fletch', u'Fletcher', u'Flin', u'Flinn', u'Flint', u'Flipper', u'Florian', u'Floyd', u'Flynn', u'Fons', u'Fonsie', u'Fonz', u'Fonzie', u'Forbes', u'Ford', u'Forest', u'Forester', u'Forrest', u'Forrester', u'Forster', u'Foster', u'Fowler', u'Fox', u'Fran', u'Francesco', u'Francis', u'Francisco', u'Francois', u'Frank', u'Frankie', u'Franklin', u'Franklyn', u'Franky', u'Frans', u'Franz', u'Fraser', u'Frazier', u'Fred', u'Freddie', u'Freddy', u'Frederic', u'Frederich', u'Frederick', u'Frederico', u'Frederik', u'Fredric', u'Fredrick', u'Freeman', u'Freemon', u'Fremont', u'French', u'Friedric', u'Friedrich', u'Friedrick', u'Fritz', u'Fulton', u'Fyodor', u'Gabe', u'Gabriel', u'Gabriele', u'Gabriell', u'Gabriello', u'Gail', u'Gale', u'Galen', u'Gallagher', u'Gamaliel', u'Garcia', u'Garcon', u'Gardener', u'Gardiner', u'Gardner', u'Garey', u'Garfield', u'Garfinkel', u'Garold', u'Garp', u'Garret', u'Garrett', u'Garrot', u'Garrott', u'Garry', u'Garth', u'Garv', u'Garvey', u'Garvin', u'Garvy', u'Garwin', u'Garwood', u'Gary', u'Gaspar', u'Gasper', u'Gaston', u'Gav', u'Gaven', u'Gavin', u'Gavriel', u'Gay', u'Gayle', u'Gearard', u'Gene', u'Geo', u'Geof', u'Geoff', u'Geoffrey', u'Geoffry', u'Georg', u'George', u'Georges', u'Georgia', u'Georgie', u'Georgy', u'Gerald', u'Geraldo', u'Gerard', u'Gere', u'Gerhard', u'Gerhardt', u'Geri', u'Germaine', u'Gerold', u'Gerome', u'Gerrard', u'Gerri', u'Gerrit', u'Gerry', u'Gershom', u'Gershon', u'Giacomo', u'Gian', u'Giancarlo', u'Giavani', u'Gibb', u'Gideon', u'Giff', u'Giffard', u'Giffer', u'Giffie', u'Gifford', u'Giffy', u'Gil', u'Gilbert', u'Gilberto', u'Gilburt', u'Giles', u'Gill', u'Gilles', u'Ginger', u'Gino', u'Giordano', u'Giorgi', u'Giorgio', u'Giovanne', u'Giovanni', u'Giraldo', u'Giraud', u'Giuseppe', u'Glen', u'Glenn', u'Glynn', u'Godard', u'Godart', u'Goddard', u'Goddart', u'Godfree', u'Godfrey', u'Godfry', u'Godwin', u'Gomer', u'Gonzales', u'Gonzalo', u'Goober', u'Goose', u'Gordan', u'Gordie', u'Gordon', u'Grace', u'Grady', u'Graehme', u'Graeme', u'Graham', u'Graig', u'Grant', u'Granville', u'Greg', u'Gregg', u'Greggory', u'Gregor', u'Gregorio', u'Gregory', u'Gretchen', u'Griff', u'Griffin', u'Griffith', u'Griswold', u'Grove', u'Grover', u'Guido', u'Guillaume', u'Guillermo', u'Gunner', u'Gunter', u'Gunther', u'Gus', u'Gustaf', u'Gustav', u'Gustave', u'Gustavo', u'Gustavus', u'Guthrey', u'Guthrie', u'Guthry', u'Guy', u'Hadleigh', u'Hadley', u'Hadrian', u'Hagan', u'Hagen', u'Hailey', u'Hakeem', u'Hakim', u'Hal', u'Hale', u'Haleigh', u'Haley', u'Hall', u'Hallam', u'Halvard', u'Ham', u'Hamel', u'Hamid', u'Hamil', u'Hamilton', u'Hamish', u'Hamlen', u'Hamlet', u'Hamlin', u'Hammad', u'Hamnet', u'Han', u'Hanan', u'Hanford', u'Hank', u'Hannibal', u'Hans', u'Hans-Peter', u'Hansel', u'Hanson', u'Harald', u'Harcourt', u'Hari', u'Harlan', u'Harland', u'Harley', u'Harlin', u'Harman', u'Harmon', u'Harold', u'Harris', u'Harrison', u'Harrold', u'Harry', u'Hart', u'Hartley', u'Hartwell', u'Harv', u'Harvard', u'Harvey', u'Harvie', u'Harwell', u'Hasheem', u'Hashim', u'Haskel', u'Haskell', u'Hassan', u'Hastings', u'Hasty', u'Haven', u'Hayden', u'Haydon', u'Hayes', u'Hayward', u'Haywood', u'Hazel', u'Heath', u'Heathcliff', u'Hebert', u'Hector', u'Heinrich', u'Heinz', u'Helmuth', u'Henderson', u'Hendrick', u'Hendrik', u'Henri', u'Henrie', u'Henrik', u'Henrique', u'Henry', u'Herb', u'Herbert', u'Herbie', u'Herby', u'Hercule', u'Hercules', u'Herculie', u'Herman', u'Hermann', u'Hermon', u'Hermy', u'Hernando', u'Herold', u'Herrick', u'Herrmann', u'Hersch', u'Herschel', u'Hersh', u'Hershel', u'Herve', u'Hervey', u'Hew', u'Hewe', u'Hewet', u'Hewett', u'Hewie', u'Hewitt', u'Heywood', u'Hezekiah', u'Higgins', u'Hilary', u'Hilbert', u'Hill', u'Hillard', u'Hillary', u'Hillel', u'Hillery', u'Hilliard', u'Hilton', u'Hiralal', u'Hiram', u'Hiro', u'Hirsch', u'Hobart', u'Hodge', u'Hogan', u'Hollis', u'Holly', u'Homer', u'Horace', u'Horacio', u'Horatio', u'Horatius', u'Horst', u'Howard', u'Howie', u'Hoyt', u'Hubert', u'Hudson', u'Huey', u'Hugh', u'Hugo', u'Humbert', u'Humphrey', u'Hunt', u'Hunter', u'Huntington', u'Huntlee', u'Huntley', u'Hurley', u'Husain', u'Husein', u'Hussein', u'Hy', u'Hyatt', u'Hyman', u'Hymie', u'Iago', u'Iain', u'Ian', u'Ibrahim', u'Ichabod', u'Iggie', u'Iggy', u'Ignace', u'Ignacio', u'Ignacius', u'Ignatius', u'Ignaz', u'Ignazio', u'Igor', u'Ike', u'Ikey', u'Immanuel', u'Ingamar', u'Ingelbert', u'Ingemar', u'Inglebert', u'Ingmar', u'Ingram', u'Inigo', u'Ira', u'Irvin', u'Irvine', u'Irving', u'Irwin', u'Isa', u'Isaac', u'Isaak', u'Isador', u'Isadore', u'Isaiah', u'Ishmael', u'Isidore', u'Ismail', u'Israel', u'Istvan', u'Ivan', u'Ivor', u'Izaak', u'Izak', u'Izzy', u'Jabez', u'Jack', u'Jackie', u'Jackson', u'Jacob', u'Jacques', u'Jae', u'Jaime', u'Jake', u'Jakob', u'James', u'Jameson', u'Jamey', u'Jamie', u'Jan', u'Janos', u'Janus', u'Jared', u'Jarrett', u'Jarvis', u'Jason', u'Jasper', u'Javier', u'Jay', u'Jean', u'Jean-Christophe', u'Jean-Francois', u'Jean-Lou', u'Jean-Luc', u'Jean-Marc', u'Jean-Paul', u'Jean-Pierre', u'Jeb', u'Jed', u'Jedediah', u'Jef', u'Jeff', u'Jefferey', u'Jefferson', u'Jeffery', u'Jeffie', u'Jeffrey', u'Jeffry', u'Jefry', u'Jehu', u'Jennings', u'Jens', u'Jephthah', u'Jerald', u'Jeramie', u'Jere', u'Jereme', u'Jeremiah', u'Jeremias', u'Jeremie', u'Jeremy', u'Jermain', u'Jermaine', u'Jermayne', u'Jerold', u'Jerome', u'Jeromy', u'Jerri', u'Jerrie', u'Jerrold', u'Jerrome', u'Jerry', u'Jervis', u'Jerzy', u'Jess', u'Jesse', u'Jessee', u'Jessey', u'Jessie', u'Jesus', u'Jeth', u'Jethro', u'Jim', u'Jimbo', u'Jimmie', u'Jimmy', u'Jo', u'Joab', u'Joachim', u'Joao', u'Joaquin', u'Job', u'Jock', u'Jodi', u'Jodie', u'Jody', u'Joe', u'Joel', u'Joey', u'Johan', u'Johann', u'Johannes', u'John', u'John-David', u'John-Patrick', u'Johnathan', u'Johnathon', u'Johnnie', u'Johnny', u'Johny', u'Jon', u'Jonah', u'Jonas', u'Jonathan', u'Jonathon', u'Jonny', u'Jordan', u'Jordon', u'Jordy', u'Jorge', u'Jory', u'Jose', u'Josef', u'Joseph', u'Josephus', u'Josh', u'Joshua', u'Joshuah', u'Josiah', u'Jotham', u'Juan', u'Juanita', u'Jud', u'Judah', u'Judas', u'Judd', u'Jude', u'Judith', u'Judson', u'Judy', u'Juergen', u'Jule', u'Jules', u'Julian', u'Julie', u'Julio', u'Julius', u'Justin', u'Justis', u'Kaiser', u'Kaleb', u'Kalil', u'Kalle', u'Kalman', u'Kalvin', u'Kam', u'Kane', u'Kareem', u'Karel', u'Karim', u'Karl', u'Karsten', u'Kaspar', u'Keefe', u'Keenan', u'Keene', u'Keil', u'Keith', u'Kellen', u'Kelley', u'Kelly', u'Kelsey', u'Kelvin', u'Kelwin', u'Ken', u'Kendal', u'Kendall', u'Kendrick', u'Kenn', u'Kennedy', u'Kenneth', u'Kenny', u'Kent', u'Kenton', u'Kenyon', u'Kermie', u'Kermit', u'Kerry', u'Kevan', u'Kevin', u'Kim', u'Kimball', u'Kimmo', u'Kin', u'Kincaid', u'King', u'Kingsley', u'Kingsly', u'Kingston', u'Kip', u'Kirby', u'Kirk', u'Kit', u'Klaus', u'Klee', u'Knox', u'Konrad', u'Konstantin', u'Kory', u'Kostas', u'Kraig', u'Kris', u'Krishna', u'Kristian', u'Kristopher', u'Kristos', u'Kurt', u'Kurtis', u'Kyle', u'Laird', u'Lamar', u'Lambert', u'Lamont', u'Lance', u'Lancelot', u'Lane', u'Langston', u'Lanny', u'Larry', u'Lars', u'Laurance', u'Lauren', u'Laurence', u'Laurens', u'Laurent', u'Laurie', u'Lawerence', u'Lawrence', u'Lawson', u'Lawton', u'Lay', u'Layton', u'Lazar', u'Lazare', u'Lazaro', u'Lazarus', u'Lazlo', u'Lee', u'Lefty', u'Leif', u'Leigh', u'Leighton', u'Leland', u'Lem', u'Lemar', u'Lemmie', u'Lemmy', u'Lemuel', u'Len', u'Lenard', u'Lennie', u'Lenny', u'Leo', u'Leon', u'Leonard', u'Leonardo', u'Leonerd', u'Leonhard', u'Leonid', u'Leonidas', u'Leopold', u'Leroy', u'Les', u'Lesley', u'Leslie', u'Lester', u'Lev', u'Levi', u'Levin', u'Levon', u'Levy', u'Lew', u'Lewis', u'Lex', u'Liam', u'Lin', u'Lincoln', u'Lind', u'Lindsay', u'Lindsey', u'Lindy', u'Linoel', u'Linus', u'Lion', u'Lionel', u'Lionello', u'Llewellyn', u'Lloyd', u'Locke', u'Lockwood', u'Logan', u'Lon', u'Lonnie', u'Lonny', u'Loren', u'Lorenzo', u'Lorne', u'Lorrie', u'Lothar', u'Lou', u'Louie', u'Louis', u'Lovell', u'Lowell', u'Lucas', u'Luce', u'Lucian', u'Luciano', u'Lucien', u'Lucio', u'Lucius', u'Ludvig', u'Ludwig', u'Luigi', u'Luis', u'Lukas', u'Luke', u'Luther', u'Lyle', u'Lyn', u'Lyndon', u'Lynn', u'Mac', u'Mace', u'Mack', u'Mackenzie', u'Maddie', u'Maddy', u'Madison', u'Magnum', u'Magnus', u'Mahesh', u'Mahmoud', u'Mahmud', u'Maison', u'Major', u'Malcolm', u'Manfred', u'Manish', u'Manny', u'Manuel', u'Marc', u'Marcel', u'Marcello', u'Marcellus', u'Marcelo', u'Marchall', u'Marcio', u'Marco', u'Marcos', u'Marcus', u'Marietta', u'Marilu', u'Mario', u'Marion', u'Marius', u'Mark', u'Marko', u'Markos', u'Markus', u'Marlin', u'Marlo', u'Marlon', u'Marlow', u'Marlowe', u'Marmaduke', u'Marsh', u'Marshal', u'Marshall', u'Mart', u'Martainn', u'Marten', u'Martie', u'Martin', u'Martino', u'Marty', u'Martyn', u'Marv', u'Marve', u'Marven', u'Marvin', u'Marwin', u'Mason', u'Mateo', u'Mathew', u'Mathias', u'Matias', u'Matt', u'Matteo', u'Matthaeus', u'Mattheus', u'Matthew', u'Matthias', u'Matthieu', u'Matthiew', u'Matthus', u'Mattias', u'Mattie', u'Matty', u'Maurice', u'Mauricio', u'Maurie', u'Maurise', u'Maurits', u'Mauritz', u'Maury', u'Max', u'Maxfield', u'Maxie', u'Maxim', u'Maximilian', u'Maximilien', u'Maxwell', u'Mayer', u'Maynard', u'Maynord', u'Mayor', u'Mead', u'Meade', u'Meier', u'Meir', u'Mel', u'Melvin', u'Melvyn', u'Menard', u'Mendel', u'Mendie', u'Meredeth', u'Meredith', u'Merell', u'Merill', u'Merle', u'Merlin', u'Merrel', u'Merrick', u'Merril', u'Merrill', u'Merry', u'Merv', u'Mervin', u'Merwin', u'Meryl', u'Meyer', u'Mic', u'Micah', u'Michael', u'Michail', u'Michal', u'Michale', u'Micheal', u'Micheil', u'Michel', u'Michele', u'Mick', u'Mickey', u'Mickie', u'Micky', u'Miguel', u'Mika', u'Mikael', u'Mike', u'Mikel', u'Mikey', u'Mikhail', u'Miles', u'Millicent', u'Milo', u'Milt', u'Milton', u'Mischa', u'Mitch', u'Mitchael', u'Mitchel', u'Mitchell', u'Moe', u'Mohamad', u'Mohamed', u'Mohammad', u'Mohammed', u'Mohan', u'Moise', u'Moises', u'Moishe', u'Monroe', u'Montague', u'Monte', u'Montgomery', u'Monty', u'Moore', u'Mordecai', u'Morgan', u'Morlee', u'Morley', u'Morly', u'Morrie', u'Morris', u'Morry', u'Morse', u'Mort', u'Morten', u'Mortie', u'Mortimer', u'Morton', u'Morty', u'Mose', u'Moses', u'Moshe', u'Moss', u'Muffin', u'Mugsy', u'Muhammad', u'Munmro', u'Munroe', u'Murdoch', u'Murdock', u'Murphy', u'Murray', u'Mustafa', u'Myke', u'Myles', u'Mylo', u'Myron', u'Nahum', u'Napoleon', u'Nat', u'Natale', u'Nate', u'Nathan', u'Nathanael', u'Nathanial', u'Nathaniel', u'Nathanil', u'Neal', u'Neale', u'Neall', u'Nealon', u'Nealson', u'Nealy', u'Ned', u'Neddie', u'Neddy', u'Neel', u'Neil', u'Nels', u'Nelsen', u'Nelson', u'Nero', u'Neron', u'Nester', u'Nestor', u'Nev', u'Nevil', u'Nevile', u'Neville', u'Nevin', u'Nevins', u'Newton', u'Niall', u'Niccolo', u'Nicholas', u'Nichole', u'Nichols', u'Nick', u'Nickey', u'Nickie', u'Nickolas', u'Nicky', u'Nico', u'Nicolas', u'Niels', u'Nigel', u'Niki', u'Nikita', u'Nikki', u'Nikolai', u'Nikos', u'Niles', u'Nils', u'Nilson', u'Niven', u'Noach', u'Noah', u'Noam', u'Noble', u'Noe', u'Noel', u'Nolan', u'Noland', u'Norbert', u'Norm', u'Norman', u'Normand', u'Normie', u'Norris', u'Northrop', u'Northrup', u'Norton', u'Norwood', u'Nunzio', u'Obadiah', u'Obadias', u'Oberon', u'Obie', u'Octavius', u'Odell', u'Odie', u'Odin', u'Odysseus', u'Olaf', u'Olag', u'Ole', u'Oleg', u'Olin', u'Oliver', u'Olivier', u'Olle', u'Ollie', u'Omar', u'Oral', u'Oran', u'Orazio', u'Orbadiah', u'Oren', u'Orin', u'Orion', u'Orlando', u'Orren', u'Orrin', u'Orson', u'Orton', u'Orville', u'Osbert', u'Osborn', u'Osborne', u'Osbourn', u'Osbourne', u'Oscar', u'Osgood', u'Osmond', u'Osmund', u'Ossie', u'Oswald', u'Oswell', u'Otes', u'Othello', u'Otho', u'Otis', u'Otto', u'Owen', u'Ozzie', u'Ozzy', u'Pablo', u'Pace', u'Paco', u'Paddie', u'Paddy', u'Padraig', u'Page', u'Paige', u'Pail', u'Palmer', u'Paolo', u'Park', u'Parke', u'Parker', u'Parnell', u'Parrnell', u'Parry', u'Parsifal', u'Partha', u'Pascal', u'Pascale', u'Pasquale', u'Pat', u'Pate', u'Patel', u'Paten', u'Patin', u'Paton', u'Patric', u'Patrice', u'Patricio', u'Patrick', u'Patrik', u'Patsy', u'Pattie', u'Patty', u'Paul', u'Paulo', u'Pavel', u'Pearce', u'Pedro', u'Peirce', u'Pembroke', u'Pen', u'Penn', u'Pennie', u'Penny', u'Penrod', u'Pepe', u'Pepillo', u'Pepito', u'Perceval', u'Percival', u'Percy', u'Perry', u'Pete', u'Peter', u'Petey', u'Petr', u'Peyter', u'Peyton', u'Phil', u'Philbert', u'Philip', u'Phillip', u'Phillipe', u'Phillipp', u'Phineas', u'Phip', u'Pierce', u'Pierre', u'Pierson', u'Piet', u'Pieter', u'Pietro', u'Piggy', u'Pincas', u'Pinchas', u'Pincus', u'Piotr', u'Pip', u'Plato', u'Pooh', u'Porter', u'Poul', u'Powell', u'Praneetf', u'Prasad', u'Prasun', u'Prent', u'Prentice', u'Prentiss', u'Prescott', u'Preston', u'Price', u'Prince', u'Pryce', u'Puff', u'Purcell', u'Putnam', u'Pyotr', u'Quent', u'Quentin', u'Quiggly', u'Quigly', u'Quigman', u'Quill', u'Quillan', u'Quincey', u'Quincy', u'Quinlan', u'Quinn', u'Quint', u'Quintin', u'Quinton', u'Quintus', u'Rab', u'Rabbi', u'Rabi', u'Rad', u'Radcliffe', u'Rafael', u'Rafe', u'Ragnar', u'Rahul', u'Raimund', u'Rainer', u'Raj', u'Rajeev', u'Raleigh', u'Ralf', u'Ralph', u'Ram', u'Ramesh', u'Ramon', u'Ramsay', u'Ramsey', u'Rand', u'Randal', u'Randall', u'Randell', u'Randi', u'Randie', u'Randolf', u'Randolph', u'Randy', u'Ransell', u'Ransom', u'Raoul', u'Raphael', u'Raul', u'Ravi', u'Ravil', u'Rawley', u'Ray', u'Raymond', u'Raymund', u'Raymundo', u'Raynard', u'Rayner', u'Raynor', u'Reagan', u'Red', u'Redford', u'Redmond', u'Reece', u'Reed', u'Rees', u'Reese', u'Reg', u'Regan', u'Regen', u'Reggie', u'Reggis', u'Reggy', u'Reginald', u'Reginauld', u'Reid', u'Reilly', u'Reinhard', u'Reinhold', u'Rem', u'Remington', u'Remus', u'Renado', u'Renaldo', u'Renard', u'Renato', u'Renaud', u'Renault', u'Rene', u'Reube', u'Reuben', u'Reuven', u'Rex', u'Rey', u'Reynard', u'Reynold', u'Reynolds', u'Reza', u'Rhett', u'Ric', u'Ricard', u'Ricardo', u'Riccardo', u'Rice', u'Rich', u'Richard', u'Richardo', u'Richie', u'Richmond', u'Richy', u'Rick', u'Rickard', u'Rickey', u'Ricki', u'Rickie', u'Ricky', u'Rik', u'Rikki', u'Riley', u'Rinaldo', u'Ripley', u'Ritch', u'Ritchie', u'Roarke', u'Rob', u'Robb', u'Robbert', u'Robbie', u'Robert', u'Roberto', u'Robin', u'Robinson', u'Rochester', u'Rock', u'Rockwell', u'Rocky', u'Rod', u'Rodd', u'Roddie', u'Roddy', u'Roderic', u'Roderich', u'Roderick', u'Roderigo', u'Rodge', u'Rodger', u'Rodney', u'Rodolfo', u'Rodolph', u'Rodolphe', u'Rodrick', u'Rodrigo', u'Rodrique', u'Rog', u'Roger', u'Rogers', u'Roice', u'Roland', u'Rolando', u'Rolf', u'Rolfe', u'Rolland', u'Rollin', u'Rollins', u'Rollo', u'Rolph', u'Romain', u'Roman', u'Romeo', u'Ron', u'Ronald', u'Ronen', u'Roni', u'Ronnie', u'Ronny', u'Roosevelt', u'Rory', u'Roscoe', u'Ross', u'Roth', u'Rourke', u'Rowland', u'Roy', u'Royal', u'Royce', u'Rube', u'Ruben', u'Rubin', u'Ruby', u'Rudd', u'Ruddie', u'Ruddy', u'Rudie', u'Rudiger', u'Rudolf', u'Rudolfo', u'Rudolph', u'Rudy', u'Rudyard', u'Rufe', u'Rufus', u'Rupert', u'Ruperto', u'Russ', u'Russel', u'Russell', u'Rustie', u'Rustin', u'Rusty', u'Rutger', u'Rutherford', u'Rutledge', u'Rutter', u'Ryan', u'Sal', u'Salem', u'Salim', u'Salman', u'Salmon', u'Salomo', u'Salomon', u'Salomone', u'Salvador', u'Salvatore', u'Salvidor', u'Sam', u'Sammie', u'Sammy', u'Sampson', u'Samson', u'Samuel', u'Samuele', u'Sancho', u'Sander', u'Sanders', u'Sanderson', u'Sandor', u'Sandro', u'Sandy', u'Sanford', u'Sanson', u'Sansone', u'Sarge', u'Sargent', u'Sascha', u'Sasha', u'Saul', u'Sauncho', u'Saunder', u'Saunders', u'Saunderson', u'Saundra', u'Saw', u'Sawyer', u'Sawyere', u'Sax', u'Saxe', u'Saxon', u'Say', u'Sayer', u'Sayers', u'Sayre', u'Sayres', u'Scarface', u'Schroeder', u'Schuyler', u'Scot', u'Scott', u'Scotti', u'Scottie', u'Scotty', u'Seamus', u'Sean', u'Sebastian', u'Sebastiano', u'Sebastien', u'See', u'Selby', u'Selig', u'Serge', u'Sergeant', u'Sergei', u'Sergent', u'Sergio', u'Seth', u'Seymour', u'Shadow', u'Shaine', u'Shalom', u'Shamus', u'Shanan', u'Shane', u'Shannan', u'Shannon', u'Shaughn', u'Shaun', u'Shaw', u'Shawn', u'Shay', u'Shayne', u'Shea', u'Sheff', u'Sheffie', u'Sheffield', u'Sheffy', u'Shelby', u'Shelden', u'Sheldon', u'Shell', u'Shelley', u'Shelton', u'Shem', u'Shep', u'Shepard', u'Shepherd', u'Sheppard', u'Shepperd', u'Sheridan', u'Sherlock', u'Sherlocke', u'Sherman', u'Sherwin', u'Sherwood', u'Sherwynd', u'Shimon', u'Shlomo', u'Sholom', u'Shorty', u'Shumeet', u'Shurlock', u'Shurlocke', u'Shurwood', u'Si', u'Sibyl', u'Sid', u'Siddhartha', u'Sidnee', u'Sidney', u'Siegfried', u'Siffre', u'Sig', u'Sigfrid', u'Sigfried', u'Sigmund', u'Silas', u'Silvain', u'Silvan', u'Silvano', u'Silvanus', u'Silvester', u'Silvio', u'Sim', u'Simeon', u'Simmonds', u'Simon', u'Simone', u'Sinclair', u'Sinclare', u'Sivert', u'Siward', u'Skell', u'Skelly', u'Skip', u'Skipp', u'Skipper', u'Skippie', u'Skippy', u'Skipton', u'Sky', u'Skye', u'Skylar', u'Skyler', u'Slade', u'Slim', u'Sloan', u'Sloane', u'Sly', u'Smith', u'Smitty', u'Socrates', u'Sol', u'Sollie', u'Solly', u'Solomon', u'Somerset', u'Son', u'Sonnie', u'Sonny', u'Sparky', u'Spence', u'Spencer', u'Spense', u'Spenser', u'Spike', u'Spiro', u'Spiros', u'Spud', u'Srinivas', u'Stacy', u'Staffard', u'Stafford', u'Staford', u'Stan', u'Standford', u'Stanfield', u'Stanford', u'Stanislaw', u'Stanleigh', u'Stanley', u'Stanly', u'Stanton', u'Stanwood', u'Stavros', u'Stearn', u'Stearne', u'Stefan', u'Stefano', u'Steffen', u'Stephan', u'Stephanus', u'Stephen', u'Sterling', u'Stern', u'Sterne', u'Steve', u'Steven', u'Stevie', u'Stevy', u'Stew', u'Steward', u'Stewart', u'Stig', u'Stillman', u'Stillmann', u'Sting', u'Stinky', u'Stirling', u'Stu', u'Stuart', u'Sturgis', u'Sullivan', u'Sully', u'Sumner', u'Sunny', u'Sutherland', u'Sutton', u'Sven', u'Swen', u'Syd', u'Sydney', u'Sylvan', u'Sylvester', u'Tab', u'Tabb', u'Tabbie', u'Tabby', u'Taber', u'Tabor', u'Tad', u'Tadd', u'Taddeo', u'Taddeus', u'Tadeas', u'Tailor', u'Tait', u'Taite', u'Talbert', u'Talbot', u'Tallie', u'Tally', u'Tam', u'Tamas', u'Tammie', u'Tammy', u'Tan', u'Tann', u'Tanner', u'Tanney', u'Tannie', u'Tanny', u'Tarrance', u'Tarrant', u'Tarzan', u'Tate', u'Taylor', u'Teador', u'Ted', u'Tedd', u'Teddie', u'Teddy', u'Tedie', u'Tedman', u'Tedmund', u'Tedrick', u'Temp', u'Temple', u'Templeton', u'Teodoor', u'Teodor', u'Teodorico', u'Teodoro', u'Terence', u'Terencio', u'Terrance', u'Terrel', u'Terrell', u'Terrence', u'Terri', u'Terrill', u'Terry', u'Thacher', u'Thad', u'Thaddeus', u'Thaddius', u'Thaddus', u'Thadeus', u'Thain', u'Thaine', u'Thane', u'Tharen', u'Thatch', u'Thatcher', u'Thaxter', u'Thayne', u'Thebault', u'Thedric', u'Thedrick', u'Theo', u'Theobald', u'Theodor', u'Theodore', u'Theodoric', u'Theophyllus', u'Thibaud', u'Thibaut', u'Thom', u'Thomas', u'Thor', u'Thorn', u'Thorndike', u'Thornie', u'Thornton', u'Thorny', u'Thorpe', u'Thorstein', u'Thorsten', u'Thorvald', u'Thurstan', u'Thurston', u'Tibold', u'Tiebold', u'Tiebout', u'Tiler', u'Tim', u'Timmie', u'Timmy', u'Timothee', u'Timotheus', u'Timothy', u'Tirrell', u'Tito', u'Titos', u'Titus', u'Tobe', u'Tobiah', u'Tobias', u'Tobie', u'Tobin', u'Tobit', u'Toby', u'Tod', u'Todd', u'Toddie', u'Toddy', u'Tom', u'Tomas', u'Tome', u'Tomkin', u'Tomlin', u'Tommie', u'Tommy', u'Tonnie', u'Tony', u'Tore', u'Torey', u'Torin', u'Torr', u'Torrance', u'Torre', u'Torrence', u'Torrey', u'Torrin', u'Torry', u'Town', u'Towney', u'Townie', u'Townsend', u'Towny', u'Trace', u'Tracey', u'Tracie', u'Tracy', u'Traver', u'Travers', u'Travis', u'Tray', u'Tre', u'Tremain', u'Tremaine', u'Tremayne', u'Trent', u'Trenton', u'Trev', u'Trevar', u'Trever', u'Trevor', u'Trey', u'Trip', u'Tristan', u'Troy', u'Truman', u'Tuck', u'Tucker', u'Tuckie', u'Tucky', u'Tudor', u'Tull', u'Tulley', u'Tully', u'Turner', u'Ty', u'Tybalt', u'Tye', u'Tyler', u'Tymon', u'Tymothy', u'Tynan', u'Tyrone', u'Tyrus', u'Tyson', u'Udale', u'Udall', u'Udell', u'Ugo', u'Ulberto', u'Uli', u'Ulick', u'Ulises', u'Ulric', u'Ulrich', u'Ulrick', u'Ulysses', u'Umberto', u'Upton', u'Urbain', u'Urban', u'Urbano', u'Urbanus', u'Uri', u'Uriah', u'Uriel', u'Urson', u'Vachel', u'Vaclav', u'Vail', u'Val', u'Valdemar', u'Vale', u'Valentin', u'Valentine', u'Van', u'Vance', u'Vasili', u'Vasilis', u'Vasily', u'Vassili', u'Vassily', u'Vaughan', u'Vaughn', u'Venkat', u'Verge', u'Vergil', u'Vern', u'Verne', u'Vernen', u'Verney', u'Vernon', u'Vernor', u'Vibhu', u'Vic', u'Vick', u'Victor', u'Vijay', u'Vilhelm', u'Vin', u'Vince', u'Vincent', u'Vincents', u'Vinnie', u'Vinny', u'Vinod', u'Virge', u'Virgie', u'Virgil', u'Virgilio', u'Vite', u'Vito', u'Vlad', u'Vladamir', u'Vladimir', u'Voltaire', u'Von', u'Wade', u'Wadsworth', u'Wain', u'Waine', u'Wainwright', u'Wait', u'Waite', u'Waiter', u'Wake', u'Wakefield', u'Wald', u'Waldemar', u'Walden', u'Waldo', u'Waldon', u'Waleed', u'Walker', u'Wallace', u'Wallache', u'Wallas', u'Wallie', u'Wallis', u'Wally', u'Walsh', u'Walt', u'Walter', u'Walther', u'Walton', u'Wang', u'Ward', u'Warde', u'Warden', u'Ware', u'Waring', u'Warner', u'Warren', u'Wash', u'Washington', u'Wat', u'Waverley', u'Waverly', u'Way', u'Waylan', u'Wayland', u'Waylen', u'Waylin', u'Waylon', u'Wayne', u'Web', u'Webb', u'Weber', u'Webster', u'Weidar', u'Weider', u'Welbie', u'Welby', u'Welch', u'Wells', u'Welsh', u'Wendall', u'Wendel', u'Wendell', u'Werner', u'Wes', u'Wesley', u'Weslie', u'West', u'Westbrook', u'Westbrooke', u'Westleigh', u'Westley', u'Weston', u'Weylin', u'Wheeler', u'Whit', u'Whitaker', u'Whitby', u'Whitman', u'Whitney', u'Whittaker', u'Wiatt', u'Wilber', u'Wilbert', u'Wilbur', u'Wilburn', u'Wilburt', u'Wilden', u'Wildon', u'Wilek', u'Wiley', u'Wilfred', u'Wilfrid', u'Wilhelm', u'Will', u'Willard', u'Willdon', u'Willem', u'Willey', u'Willi', u'William', u'Willie', u'Willis', u'Willmott', u'Willy', u'Wilmar', u'Wilmer', u'Wilson', u'Wilt', u'Wilton', u'Win', u'Windham', u'Winfield', u'Winford', u'Winfred', u'Winifield', u'Winn', u'Winnie', u'Winny', u'Winslow', u'Winston', u'Winthrop', u'Winton', u'Wit', u'Witold', u'Wittie', u'Witty', u'Wojciech', u'Wolf', u'Wolfgang', u'Wolfie', u'Wolfram', u'Wolfy', u'Woochang', u'Wood', u'Woodie', u'Woodman', u'Woodrow', u'Woody', u'Worden', u'Worth', u'Worthington', u'Worthy', u'Wright', u'Wyatan', u'Wyatt', u'Wye', u'Wylie', u'Wyn', u'Wyndham', u'Wynn', u'Wynton', u'Xavier', u'Xenos', u'Xerxes', u'Xever', u'Ximenes', u'Ximenez', u'Xymenes', u'Yaakov', u'Yacov', u'Yale', u'Yanaton', u'Yance', u'Yancey', u'Yancy', u'Yank', u'Yankee', u'Yard', u'Yardley', u'Yehudi', u'Yigal', u'Yule', u'Yuri', u'Yves', u'Zach', u'Zacharia', u'Zachariah', u'Zacharias', u'Zacharie', u'Zachary', u'Zacherie', u'Zachery', u'Zack', u'Zackariah', u'Zak', u'Zalman', u'Zane', u'Zared', u'Zary', u'Zeb', u'Zebadiah', u'Zebedee', u'Zebulen', u'Zebulon', u'Zechariah', u'Zed', u'Zedekiah', u'Zeke', u'Zelig', u'Zerk', u'Zeus', u'Zippy', u'Zollie', u'Zolly', u'Zorro']\n"
       ]
      }
     ],
     "prompt_number": 2
    },
    {
     "cell_type": "code",
     "collapsed": false,
     "input": [
      "female_names = names.words('female.txt')\n",
      "print len(female_names)\n",
      "print female_names"
     ],
     "language": "python",
     "metadata": {},
     "outputs": [
      {
       "output_type": "stream",
       "stream": "stdout",
       "text": [
        "5001\n",
        "[u'Abagael', u'Abagail', u'Abbe', u'Abbey', u'Abbi', u'Abbie', u'Abby', u'Abigael', u'Abigail', u'Abigale', u'Abra', u'Acacia', u'Ada', u'Adah', u'Adaline', u'Adara', u'Addie', u'Addis', u'Adel', u'Adela', u'Adelaide', u'Adele', u'Adelice', u'Adelina', u'Adelind', u'Adeline', u'Adella', u'Adelle', u'Adena', u'Adey', u'Adi', u'Adiana', u'Adina', u'Adora', u'Adore', u'Adoree', u'Adorne', u'Adrea', u'Adria', u'Adriaens', u'Adrian', u'Adriana', u'Adriane', u'Adrianna', u'Adrianne', u'Adrien', u'Adriena', u'Adrienne', u'Aeriel', u'Aeriela', u'Aeriell', u'Ag', u'Agace', u'Agata', u'Agatha', u'Agathe', u'Aggi', u'Aggie', u'Aggy', u'Agna', u'Agnella', u'Agnes', u'Agnese', u'Agnesse', u'Agneta', u'Agnola', u'Agretha', u'Aida', u'Aidan', u'Aigneis', u'Aila', u'Aile', u'Ailee', u'Aileen', u'Ailene', u'Ailey', u'Aili', u'Ailina', u'Ailyn', u'Aime', u'Aimee', u'Aimil', u'Aina', u'Aindrea', u'Ainslee', u'Ainsley', u'Ainslie', u'Ajay', u'Alaine', u'Alameda', u'Alana', u'Alanah', u'Alane', u'Alanna', u'Alayne', u'Alberta', u'Albertina', u'Albertine', u'Albina', u'Alecia', u'Aleda', u'Aleece', u'Aleecia', u'Aleen', u'Alejandra', u'Alejandrina', u'Alena', u'Alene', u'Alessandra', u'Aleta', u'Alethea', u'Alex', u'Alexa', u'Alexandra', u'Alexandrina', u'Alexi', u'Alexia', u'Alexina', u'Alexine', u'Alexis', u'Alfie', u'Alfreda', u'Ali', u'Alia', u'Alica', u'Alice', u'Alicea', u'Alicia', u'Alida', u'Alidia', u'Alina', u'Aline', u'Alis', u'Alisa', u'Alisha', u'Alison', u'Alissa', u'Alisun', u'Alix', u'Aliza', u'Alla', u'Alleen', u'Allegra', u'Allene', u'Alli', u'Allianora', u'Allie', u'Allina', u'Allis', u'Allison', u'Allissa', u'Allsun', u'Ally', u'Allyce', u'Allyn', u'Allys', u'Allyson', u'Alma', u'Almeda', u'Almeria', u'Almeta', u'Almira', u'Almire', u'Aloise', u'Aloisia', u'Aloysia', u'Alpa', u'Alta', u'Althea', u'Alvera', u'Alvina', u'Alvinia', u'Alvira', u'Alyce', u'Alyda', u'Alys', u'Alysa', u'Alyse', u'Alysia', u'Alyson', u'Alyss', u'Alyssa', u'Amabel', u'Amabelle', u'Amalea', u'Amalee', u'Amaleta', u'Amalia', u'Amalie', u'Amalita', u'Amalle', u'Amanda', u'Amandi', u'Amandie', u'Amandy', u'Amara', u'Amargo', u'Amata', u'Amber', u'Amberly', u'Ambrosia', u'Ambur', u'Ame', u'Amelia', u'Amelie', u'Amelina', u'Ameline', u'Amelita', u'Ami', u'Amie', u'Amity', u'Ammamaria', u'Amy', u'Ana', u'Anabel', u'Anabella', u'Anabelle', u'Anais', u'Analiese', u'Analise', u'Anallese', u'Anallise', u'Anastasia', u'Anastasie', u'Anastassia', u'Anatola', u'Andee', u'Andi', u'Andie', u'Andra', u'Andrea', u'Andreana', u'Andree', u'Andrei', u'Andria', u'Andriana', u'Andriette', u'Andromache', u'Andromeda', u'Andy', u'Anestassia', u'Anet', u'Anett', u'Anetta', u'Anette', u'Ange', u'Angel', u'Angela', u'Angele', u'Angelia', u'Angelica', u'Angelika', u'Angelina', u'Angeline', u'Angelique', u'Angelita', u'Angelle', u'Angie', u'Angil', u'Angy', u'Ania', u'Anica', u'Anissa', u'Anita', u'Anitra', u'Anja', u'Anjanette', u'Anjela', u'Ann', u'Ann-Mari', u'Ann-Marie', u'Anna', u'Anna-Diana', u'Anna-Diane', u'Anna-Maria', u'Annabal', u'Annabel', u'Annabela', u'Annabell', u'Annabella', u'Annabelle', u'Annadiana', u'Annadiane', u'Annalee', u'Annalena', u'Annaliese', u'Annalisa', u'Annalise', u'Annalyse', u'Annamari', u'Annamaria', u'Annamarie', u'Anne', u'Anne-Corinne', u'Anne-Mar', u'Anne-Marie', u'Annecorinne', u'Anneliese', u'Annelise', u'Annemarie', u'Annetta', u'Annette', u'Anni', u'Annice', u'Annie', u'Annissa', u'Annmaria', u'Annmarie', u'Annnora', u'Annora', u'Anny', u'Anselma', u'Ansley', u'Anstice', u'Anthe', u'Anthea', u'Anthia', u'Antoinette', u'Antonella', u'Antonetta', u'Antonia', u'Antonie', u'Antonietta', u'Antonina', u'Anya', u'Aphrodite', u'Appolonia', u'April', u'Aprilette', u'Ara', u'Arabel', u'Arabela', u'Arabele', u'Arabella', u'Arabelle', u'Arda', u'Ardath', u'Ardeen', u'Ardelia', u'Ardelis', u'Ardella', u'Ardelle', u'Arden', u'Ardene', u'Ardenia', u'Ardine', u'Ardis', u'Ardith', u'Ardra', u'Ardyce', u'Ardys', u'Ardyth', u'Aretha', u'Ariadne', u'Ariana', u'Arianne', u'Aridatha', u'Ariel', u'Ariela', u'Ariella', u'Arielle', u'Arlana', u'Arlee', u'Arleen', u'Arlen', u'Arlena', u'Arlene', u'Arleta', u'Arlette', u'Arleyne', u'Arlie', u'Arliene', u'Arlina', u'Arlinda', u'Arline', u'Arly', u'Arlyn', u'Arlyne', u'Aryn', u'Ashely', u'Ashlee', u'Ashleigh', u'Ashlen', u'Ashley', u'Ashli', u'Ashlie', u'Ashly', u'Asia', u'Astra', u'Astrid', u'Astrix', u'Atalanta', u'Athena', u'Athene', u'Atlanta', u'Atlante', u'Auberta', u'Aubine', u'Aubree', u'Aubrette', u'Aubrey', u'Aubrie', u'Aubry', u'Audi', u'Audie', u'Audra', u'Audre', u'Audrey', u'Audrie', u'Audry', u'Audrye', u'Audy', u'Augusta', u'Auguste', u'Augustina', u'Augustine', u'Aura', u'Aurea', u'Aurel', u'Aurelea', u'Aurelia', u'Aurelie', u'Auria', u'Aurie', u'Aurilia', u'Aurlie', u'Auroora', u'Aurora', u'Aurore', u'Austin', u'Austina', u'Austine', u'Ava', u'Aveline', u'Averil', u'Averyl', u'Avie', u'Avis', u'Aviva', u'Avivah', u'Avril', u'Avrit', u'Ayn', u'Bab', u'Babara', u'Babette', u'Babita', u'Babs', u'Bambi', u'Bambie', u'Bamby', u'Barb', u'Barbabra', u'Barbara', u'Barbara-Anne', u'Barbaraanne', u'Barbe', u'Barbee', u'Barbette', u'Barbey', u'Barbi', u'Barbie', u'Barbra', u'Barby', u'Bari', u'Barrie', u'Barry', u'Basia', u'Bathsheba', u'Batsheva', u'Bea', u'Beatrice', u'Beatrisa', u'Beatrix', u'Beatriz', u'Beau', u'Bebe', u'Becca', u'Becka', u'Becki', u'Beckie', u'Becky', u'Bee', u'Beilul', u'Beitris', u'Bekki', u'Bel', u'Belia', u'Belicia', u'Belinda', u'Belita', u'Bell', u'Bella', u'Bellamy', u'Bellanca', u'Belle', u'Bellina', u'Belva', u'Belvia', u'Bendite', u'Benedetta', u'Benedicta', u'Benedikta', u'Benetta', u'Benita', u'Benni', u'Bennie', u'Benny', u'Benoite', u'Berenice', u'Beret', u'Berget', u'Berna', u'Bernadene', u'Bernadette', u'Bernadina', u'Bernadine', u'Bernardina', u'Bernardine', u'Bernelle', u'Bernete', u'Bernetta', u'Bernette', u'Berni', u'Bernice', u'Bernie', u'Bernita', u'Berny', u'Berri', u'Berrie', u'Berry', u'Bert', u'Berta', u'Berte', u'Bertha', u'Berthe', u'Berti', u'Bertie', u'Bertina', u'Bertine', u'Berty', u'Beryl', u'Beryle', u'Bess', u'Bessie', u'Bessy', u'Beth', u'Bethanne', u'Bethany', u'Bethena', u'Bethina', u'Betsey', u'Betsy', u'Betta', u'Bette', u'Bette-Ann', u'Betteann', u'Betteanne', u'Betti', u'Bettie', u'Bettina', u'Bettine', u'Betty', u'Bettye', u'Beulah', u'Bev', u'Beverie', u'Beverlee', u'Beverlie', u'Beverly', u'Bevvy', u'Bianca', u'Bianka', u'Biddy', u'Bidget', u'Bill', u'Billi', u'Billie', u'Billy', u'Binni', u'Binnie', u'Binny', u'Bird', u'Birdie', u'Birgit', u'Birgitta', u'Blair', u'Blaire', u'Blake', u'Blakelee', u'Blakeley', u'Blanca', u'Blanch', u'Blancha', u'Blanche', u'Blinni', u'Blinnie', u'Blinny', u'Bliss', u'Blisse', u'Blithe', u'Blondell', u'Blondelle', u'Blondie', u'Blondy', u'Blythe', u'Bo', u'Bobbette', u'Bobbi', u'Bobbie', u'Bobby', u'Bobette', u'Bobina', u'Bobine', u'Bobinette', u'Bonita', u'Bonnee', u'Bonni', u'Bonnie', u'Bonny', u'Brana', u'Brandais', u'Brande', u'Brandea', u'Brandi', u'Brandice', u'Brandie', u'Brandise', u'Brandy', u'Brea', u'Breanne', u'Brear', u'Bree', u'Breena', u'Bren', u'Brena', u'Brenda', u'Brenn', u'Brenna', u'Brett', u'Bria', u'Briana', u'Brianna', u'Brianne', u'Bride', u'Bridget', u'Bridgett', u'Bridgette', u'Bridie', u'Brier', u'Brietta', u'Brigid', u'Brigida', u'Brigit', u'Brigitta', u'Brigitte', u'Brina', u'Briney', u'Briny', u'Brit', u'Brita', u'Britaney', u'Britani', u'Briteny', u'Britney', u'Britni', u'Britt', u'Britta', u'Brittan', u'Brittany', u'Britte', u'Brittney', u'Brook', u'Brooke', u'Brooks', u'Brunella', u'Brunhilda', u'Brunhilde', u'Bryana', u'Bryn', u'Bryna', u'Brynn', u'Brynna', u'Brynne', u'Buffy', u'Bunni', u'Bunnie', u'Bunny', u'Burta', u'Cabrina', u'Cacilia', u'Cacilie', u'Caitlin', u'Caitrin', u'Cal', u'Calida', u'Calla', u'Calley', u'Calli', u'Callida', u'Callie', u'Cally', u'Calypso', u'Cam', u'Camala', u'Camel', u'Camella', u'Camellia', u'Cameo', u'Cami', u'Camila', u'Camile', u'Camilla', u'Camille', u'Cammi', u'Cammie', u'Cammy', u'Canada', u'Candace', u'Candi', u'Candice', u'Candida', u'Candide', u'Candie', u'Candis', u'Candra', u'Candy', u'Cappella', u'Caprice', u'Cara', u'Caralie', u'Caren', u'Carena', u'Caresa', u'Caressa', u'Caresse', u'Carey', u'Cari', u'Caria', u'Carie', u'Caril', u'Carilyn', u'Carin', u'Carina', u'Carine', u'Cariotta', u'Carissa', u'Carita', u'Caritta', u'Carla', u'Carlee', u'Carleen', u'Carlen', u'Carlena', u'Carlene', u'Carley', u'Carli', u'Carlie', u'Carlin', u'Carlina', u'Carline', u'Carlisle', u'Carlita', u'Carlota', u'Carlotta', u'Carly', u'Carlye', u'Carlyn', u'Carlynn', u'Carlynne', u'Carma', u'Carmel', u'Carmela', u'Carmelia', u'Carmelina', u'Carmelita', u'Carmella', u'Carmelle', u'Carmen', u'Carmina', u'Carmine', u'Carmita', u'Carmon', u'Caro', u'Carol', u'Carol-Jean', u'Carola', u'Carolan', u'Carolann', u'Carole', u'Carolee', u'Caroleen', u'Carolie', u'Carolin', u'Carolina', u'Caroline', u'Caroljean', u'Carolyn', u'Carolyne', u'Carolynn', u'Caron', u'Carree', u'Carri', u'Carrie', u'Carrissa', u'Carrol', u'Carroll', u'Carry', u'Cary', u'Caryl', u'Caryn', u'Casandra', u'Casey', u'Casi', u'Casia', u'Casie', u'Cass', u'Cassandra', u'Cassandre', u'Cassandry', u'Cassaundra', u'Cassey', u'Cassi', u'Cassie', u'Cassondra', u'Cassy', u'Cat', u'Catarina', u'Cate', u'Caterina', u'Catha', u'Catharina', u'Catharine', u'Cathe', u'Cathee', u'Catherin', u'Catherina', u'Catherine', u'Cathi', u'Cathie', u'Cathleen', u'Cathlene', u'Cathrin', u'Cathrine', u'Cathryn', u'Cathy', u'Cathyleen', u'Cati', u'Catie', u'Catina', u'Catlaina', u'Catlee', u'Catlin', u'Catrina', u'Catriona', u'Caty', u'Cayla', u'Cecelia', u'Cecil', u'Cecile', u'Ceciley', u'Cecilia', u'Cecilla', u'Cecily', u'Ceil', u'Cele', u'Celene', u'Celesta', u'Celeste', u'Celestia', u'Celestina', u'Celestine', u'Celestyn', u'Celestyna', u'Celia', u'Celie', u'Celina', u'Celinda', u'Celine', u'Celinka', u'Celisse', u'Celle', u'Cesya', u'Chad', u'Chanda', u'Chandal', u'Chandra', u'Channa', u'Chantal', u'Chantalle', u'Charil', u'Charin', u'Charis', u'Charissa', u'Charisse', u'Charita', u'Charity', u'Charla', u'Charlean', u'Charleen', u'Charlena', u'Charlene', u'Charline', u'Charlot', u'Charlott', u'Charlotta', u'Charlotte', u'Charmain', u'Charmaine', u'Charmane', u'Charmian', u'Charmine', u'Charmion', u'Charo', u'Charyl', u'Chastity', u'Chelsae', u'Chelsea', u'Chelsey', u'Chelsie', u'Chelsy', u'Cher', u'Chere', u'Cherey', u'Cheri', u'Cherianne', u'Cherice', u'Cherida', u'Cherie', u'Cherilyn', u'Cherilynn', u'Cherin', u'Cherise', u'Cherish', u'Cherlyn', u'Cherri', u'Cherrita', u'Cherry', u'Chery', u'Cherye', u'Cheryl', u'Cheslie', u'Chiarra', u'Chickie', u'Chicky', u'Chiquita', u'Chloe', u'Chloette', u'Chloris', u'Chris', u'Chriss', u'Chrissa', u'Chrissie', u'Chrissy', u'Christa', u'Christabel', u'Christabella', u'Christabelle', u'Christal', u'Christalle', u'Christan', u'Christean', u'Christel', u'Christen', u'Christi', u'Christian', u'Christiana', u'Christiane', u'Christie', u'Christin', u'Christina', u'Christine', u'Christy', u'Christyna', u'Chrysa', u'Chrysler', u'Chrystal', u'Chryste', u'Chrystel', u'Ciara', u'Cicely', u'Cicily', u'Ciel', u'Cilka', u'Cinda', u'Cindee', u'Cindelyn', u'Cinderella', u'Cindi', u'Cindie', u'Cindra', u'Cindy', u'Cinnamon', u'Cissie', u'Cissy', u'Clair', u'Claire', u'Clara', u'Clarabelle', u'Clare', u'Claresta', u'Clareta', u'Claretta', u'Clarette', u'Clarey', u'Clari', u'Claribel', u'Clarice', u'Clarie', u'Clarinda', u'Clarine', u'Clarisa', u'Clarissa', u'Clarisse', u'Clarita', u'Clary', u'Claude', u'Claudelle', u'Claudetta', u'Claudette', u'Claudia', u'Claudie', u'Claudina', u'Claudine', u'Clea', u'Clem', u'Clemence', u'Clementia', u'Clementina', u'Clementine', u'Clemmie', u'Clemmy', u'Cleo', u'Cleopatra', u'Clerissa', u'Cleva', u'Clio', u'Clo', u'Cloe', u'Cloris', u'Clotilda', u'Clovis', u'Codee', u'Codi', u'Codie', u'Cody', u'Coleen', u'Colene', u'Coletta', u'Colette', u'Colleen', u'Collete', u'Collette', u'Collie', u'Colline', u'Colly', u'Con', u'Concettina', u'Conchita', u'Concordia', u'Conney', u'Conni', u'Connie', u'Conny', u'Consolata', u'Constance', u'Constancia', u'Constancy', u'Constanta', u'Constantia', u'Constantina', u'Constantine', u'Consuela', u'Consuelo', u'Cookie', u'Cora', u'Corabel', u'Corabella', u'Corabelle', u'Coral', u'Coralie', u'Coraline', u'Coralyn', u'Cordelia', u'Cordelie', u'Cordey', u'Cordie', u'Cordula', u'Cordy', u'Coreen', u'Corella', u'Corena', u'Corenda', u'Corene', u'Coretta', u'Corette', u'Corey', u'Cori', u'Corie', u'Corilla', u'Corina', u'Corine', u'Corinna', u'Corinne', u'Coriss', u'Corissa', u'Corliss', u'Corly', u'Cornela', u'Cornelia', u'Cornelle', u'Cornie', u'Corny', u'Correna', u'Correy', u'Corri', u'Corrianne', u'Corrie', u'Corrina', u'Corrine', u'Corrinne', u'Corry', u'Cortney', u'Cory', u'Cosetta', u'Cosette', u'Courtenay', u'Courtney', u'Cresa', u'Cris', u'Crissie', u'Crissy', u'Crista', u'Cristabel', u'Cristal', u'Cristen', u'Cristi', u'Cristie', u'Cristin', u'Cristina', u'Cristine', u'Cristionna', u'Cristy', u'Crysta', u'Crystal', u'Crystie', u'Cyb', u'Cybal', u'Cybel', u'Cybelle', u'Cybil', u'Cybill', u'Cyndi', u'Cyndy', u'Cynthea', u'Cynthia', u'Cynthie', u'Cynthy', u'Dacey', u'Dacia', u'Dacie', u'Dacy', u'Dael', u'Daffi', u'Daffie', u'Daffy', u'Dafna', u'Dagmar', u'Dahlia', u'Daile', u'Daisey', u'Daisi', u'Daisie', u'Daisy', u'Dale', u'Dalenna', u'Dalia', u'Dalila', u'Dallas', u'Daloris', u'Damara', u'Damaris', u'Damita', u'Dana', u'Danell', u'Danella', u'Danelle', u'Danette', u'Dani', u'Dania', u'Danica', u'Danice', u'Daniel', u'Daniela', u'Daniele', u'Daniella', u'Danielle', u'Danika', u'Danila', u'Danit', u'Danita', u'Danna', u'Danni', u'Dannie', u'Danny', u'Dannye', u'Danya', u'Danyelle', u'Danyette', u'Daphene', u'Daphna', u'Daphne', u'Dara', u'Darb', u'Darbie', u'Darby', u'Darcee', u'Darcey', u'Darci', u'Darcie', u'Darcy', u'Darda', u'Dareen', u'Darell', u'Darelle', u'Dari', u'Daria', u'Darice', u'Darla', u'Darleen', u'Darlene', u'Darline', u'Darryl', u'Darsey', u'Darsie', u'Darya', u'Daryl', u'Daryn', u'Dasha', u'Dasi', u'Dasie', u'Dasya', u'Datha', u'Daune', u'Daveen', u'Daveta', u'Davida', u'Davina', u'Davine', u'Davita', u'Dawn', u'Dawna', u'Dayle', u'Dayna', u'Dea', u'Deana', u'Deane', u'Deanna', u'Deanne', u'Deb', u'Debbi', u'Debbie', u'Debbra', u'Debby', u'Debee', u'Debera', u'Debi', u'Debor', u'Debora', u'Deborah', u'Debra', u'Dede', u'Dedie', u'Dedra', u'Dee', u'Dee Dee', u'Deeann', u'Deeanne', u'Deedee', u'Deena', u'Deerdre', u'Dehlia', u'Deidre', u'Deina', u'Deirdre', u'Del', u'Dela', u'Delaney', u'Delcina', u'Delcine', u'Delia', u'Delila', u'Delilah', u'Delinda', u'Dell', u'Della', u'Delly', u'Delora', u'Delores', u'Deloria', u'Deloris', u'Delphina', u'Delphine', u'Delphinia', u'Demeter', u'Demetra', u'Demetria', u'Demetris', u'Dena', u'Deni', u'Denice', u'Denise', u'Denna', u'Denni', u'Dennie', u'Denny', u'Deny', u'Denys', u'Denyse', u'Deonne', u'Desaree', u'Desdemona', u'Desirae', u'Desiree', u'Desiri', u'Deva', u'Devan', u'Devi', u'Devin', u'Devina', u'Devinne', u'Devon', u'Devondra', u'Devonna', u'Devonne', u'Devora', u'Dew', u'Di', u'Diahann', u'Diamond', u'Dian', u'Diana', u'Diandra', u'Diane', u'Diane-Marie', u'Dianemarie', u'Diann', u'Dianna', u'Dianne', u'Diannne', u'Didi', u'Dido', u'Diena', u'Dierdre', u'Dina', u'Dinah', u'Dinnie', u'Dinny', u'Dion', u'Dione', u'Dionis', u'Dionne', u'Dita', u'Dix', u'Dixie', u'Dode', u'Dodi', u'Dodie', u'Dody', u'Doe', u'Doll', u'Dolley', u'Dolli', u'Dollie', u'Dolly', u'Dolora', u'Dolores', u'Dolorita', u'Doloritas', u'Dominica', u'Dominique', u'Dona', u'Donella', u'Donelle', u'Donetta', u'Donia', u'Donica', u'Donielle', u'Donna', u'Donnajean', u'Donnamarie', u'Donni', u'Donnie', u'Donny', u'Dora', u'Doralia', u'Doralin', u'Doralyn', u'Doralynn', u'Doralynne', u'Dorcas', u'Dore', u'Doreen', u'Dorelia', u'Dorella', u'Dorelle', u'Dorena', u'Dorene', u'Doretta', u'Dorette', u'Dorey', u'Dori', u'Doria', u'Dorian', u'Dorice', u'Dorie', u'Dorine', u'Doris', u'Dorisa', u'Dorise', u'Dorit', u'Dorita', u'Doro', u'Dorolice', u'Dorolisa', u'Dorotea', u'Doroteya', u'Dorothea', u'Dorothee', u'Dorothy', u'Dorree', u'Dorri', u'Dorrie', u'Dorris', u'Dorry', u'Dorthea', u'Dorthy', u'Dory', u'Dosi', u'Dot', u'Doti', u'Dotti', u'Dottie', u'Dotty', u'Dove', u'Drea', u'Drew', u'Dulce', u'Dulcea', u'Dulci', u'Dulcia', u'Dulciana', u'Dulcie', u'Dulcine', u'Dulcinea', u'Dulcy', u'Dulsea', u'Dusty', u'Dyan', u'Dyana', u'Dyane', u'Dyann', u'Dyanna', u'Dyanne', u'Dyna', u'Dynah', u\"E'Lane\", u'Eada', u'Eadie', u'Eadith', u'Ealasaid', u'Eartha', u'Easter', u'Eba', u'Ebba', u'Ebonee', u'Ebony', u'Eda', u'Eddi', u'Eddie', u'Eddy', u'Ede', u'Edee', u'Edeline', u'Eden', u'Edi', u'Edie', u'Edin', u'Edita', u'Edith', u'Editha', u'Edithe', u'Ediva', u'Edna', u'Edwina', u'Edy', u'Edyth', u'Edythe', u'Effie', u'Eileen', u'Eilis', u'Eimile', u'Eirena', u'Ekaterina', u'Elaina', u'Elaine', u'Elana', u'Elane', u'Elayne', u'Elberta', u'Elbertina', u'Elbertine', u'Eleanor', u'Eleanora', u'Eleanore', u'Electra', u'Elena', u'Elene', u'Eleni', u'Elenore', u'Eleonora', u'Eleonore', u'Elfie', u'Elfreda', u'Elfrida', u'Elfrieda', u'Elga', u'Elianora', u'Elianore', u'Elicia', u'Elie', u'Elinor', u'Elinore', u'Elisa', u'Elisabet', u'Elisabeth', u'Elisabetta', u'Elise', u'Elisha', u'Elissa', u'Elita', u'Eliza', u'Elizabet', u'Elizabeth', u'Elka', u'Elke', u'Ella', u'Elladine', u'Elle', u'Ellen', u'Ellene', u'Ellette', u'Elli', u'Ellie', u'Ellissa', u'Elly', u'Ellyn', u'Ellynn', u'Elmira', u'Elna', u'Elnora', u'Elnore', u'Eloisa', u'Eloise', u'Elonore', u'Elora', u'Elsa', u'Elsbeth', u'Else', u'Elsey', u'Elsi', u'Elsie', u'Elsinore', u'Elspeth', u'Elsy', u'Elva', u'Elvera', u'Elvina', u'Elvira', u'Elwina', u'Elwira', u'Elyn', u'Elyse', u'Elysee', u'Elysha', u'Elysia', u'Elyssa', u'Em', u'Ema', u'Emalee', u'Emalia', u'Emanuela', u'Emelda', u'Emelia', u'Emelina', u'Emeline', u'Emelita', u'Emelyne', u'Emera', u'Emilee', u'Emili', u'Emilia', u'Emilie', u'Emiline', u'Emily', u'Emlyn', u'Emlynn', u'Emlynne', u'Emma', u'Emmalee', u'Emmaline', u'Emmalyn', u'Emmalynn', u'Emmalynne', u'Emmeline', u'Emmey', u'Emmi', u'Emmie', u'Emmy', u'Emmye', u'Emogene', u'Emyle', u'Emylee', u'Endora', u'Engracia', u'Enid', u'Enrica', u'Enrichetta', u'Enrika', u'Enriqueta', u'Enya', u'Eolanda', u'Eolande', u'Eran', u'Erda', u'Erena', u'Erica', u'Ericha', u'Ericka', u'Erika', u'Erin', u'Erina', u'Erinn', u'Erinna', u'Erma', u'Ermengarde', u'Ermentrude', u'Ermina', u'Erminia', u'Erminie', u'Erna', u'Ernaline', u'Ernesta', u'Ernestine', u'Ertha', u'Eryn', u'Esma', u'Esmaria', u'Esme', u'Esmeralda', u'Esmerelda', u'Essa', u'Essie', u'Essy', u'Esta', u'Estel', u'Estele', u'Estell', u'Estella', u'Estelle', u'Ester', u'Esther', u'Estrella', u'Estrellita', u'Ethel', u'Ethelda', u'Ethelin', u'Ethelind', u'Etheline', u'Ethelyn', u'Ethyl', u'Etta', u'Etti', u'Ettie', u'Etty', u'Eudora', u'Eugenia', u'Eugenie', u'Eugine', u'Eula', u'Eulalie', u'Eunice', u'Euphemia', u'Eustacia', u'Eva', u'Evaleen', u'Evangelia', u'Evangelin', u'Evangelina', u'Evangeline', u'Evania', u'Evanne', u'Eve', u'Eveleen', u'Evelina', u'Eveline', u'Evelyn', u'Evette', u'Evey', u'Evie', u'Evita', u'Evonne', u'Evvie', u'Evvy', u'Evy', u'Eyde', u'Eydie', u'Fabrianne', u'Fabrice', u'Fae', u'Faina', u'Faith', u'Fallon', u'Fan', u'Fanchette', u'Fanchon', u'Fancie', u'Fancy', u'Fanechka', u'Fania', u'Fanni', u'Fannie', u'Fanny', u'Fanya', u'Fara', u'Farah', u'Farand', u'Farica', u'Farra', u'Farrah', u'Farrand', u'Fatima', u'Faun', u'Faunie', u'Faustina', u'Faustine', u'Fawn', u'Fawna', u'Fawne', u'Fawnia', u'Fay', u'Faydra', u'Faye', u'Fayette', u'Fayina', u'Fayre', u'Fayth', u'Faythe', u'Federica', u'Fedora', u'Felecia', u'Felicdad', u'Felice', u'Felicia', u'Felicity', u'Felicle', u'Felipa', u'Felisha', u'Felita', u'Feliza', u'Fenelia', u'Feodora', u'Ferdinanda', u'Ferdinande', u'Fern', u'Fernanda', u'Fernande', u'Fernandina', u'Ferne', u'Fey', u'Fiann', u'Fianna', u'Fidela', u'Fidelia', u'Fidelity', u'Fifi', u'Fifine', u'Filia', u'Filide', u'Filippa', u'Fina', u'Fiona', u'Fionna', u'Fionnula', u'Fiorenze', u'Fleur', u'Fleurette', u'Flo', u'Flor', u'Flora', u'Florance', u'Flore', u'Florella', u'Florence', u'Florencia', u'Florentia', u'Florenza', u'Florette', u'Flori', u'Floria', u'Florice', u'Florida', u'Florie', u'Florina', u'Florinda', u'Floris', u'Florri', u'Florrie', u'Florry', u'Flory', u'Flossi', u'Flossie', u'Flossy', u'Flower', u'Fortuna', u'Fortune', u'Fran', u'France', u'Francene', u'Frances', u'Francesca', u'Francesmary', u'Francine', u'Francis', u'Francisca', u'Franciska', u'Francoise', u'Francyne', u'Frank', u'Frankie', u'Franky', u'Franni', u'Frannie', u'Franny', u'Frayda', u'Fred', u'Freda', u'Freddi', u'Freddie', u'Freddy', u'Fredelia', u'Frederica', u'Fredericka', u'Fredi', u'Fredia', u'Fredra', u'Fredrika', u'Freida', u'Frieda', u'Friederike', u'Fulvia', u'Gabbey', u'Gabbi', u'Gabbie', u'Gabey', u'Gabi', u'Gabie', u'Gabriel', u'Gabriela', u'Gabriell', u'Gabriella', u'Gabrielle', u'Gabriellia', u'Gabrila', u'Gaby', u'Gae', u'Gael', u'Gail', u'Gale', u'Gale ', u'Galina', u'Garland', u'Garnet', u'Garnette', u'Gates', u'Gavra', u'Gavrielle', u'Gay', u'Gayla', u'Gayle', u'Gayleen', u'Gaylene', u'Gaynor', u'Geeta', u'Gelya', u'Gen', u'Gena', u'Gene', u'Geneva', u'Genevieve', u'Genevra', u'Genia', u'Genna', u'Genni', u'Gennie', u'Gennifer', u'Genny', u'Genovera', u'Genvieve', u'George', u'Georgeanna', u'Georgeanne', u'Georgena', u'Georgeta', u'Georgetta', u'Georgette', u'Georgia', u'Georgiamay', u'Georgiana', u'Georgianna', u'Georgianne', u'Georgie', u'Georgina', u'Georgine', u'Gera', u'Geralda', u'Geraldina', u'Geraldine', u'Gerda', u'Gerhardine', u'Geri', u'Gerianna', u'Gerianne', u'Gerladina', u'Germain', u'Germaine', u'Germana', u'Gerri', u'Gerrie', u'Gerrilee', u'Gerry', u'Gert', u'Gerta', u'Gerti', u'Gertie', u'Gertrud', u'Gertruda', u'Gertrude', u'Gertrudis', u'Gerty', u'Giacinta', u'Giana', u'Gianina', u'Gianna', u'Gigi', u'Gilberta', u'Gilberte', u'Gilbertina', u'Gilbertine', u'Gilda', u'Gill', u'Gillan', u'Gilli', u'Gillian', u'Gillie', u'Gilligan', u'Gilly', u'Gina', u'Ginelle', u'Ginevra', u'Ginger', u'Ginni', u'Ginnie', u'Ginnifer', u'Ginny', u'Giorgia', u'Giovanna', u'Gipsy', u'Giralda', u'Gisela', u'Gisele', u'Gisella', u'Giselle', u'Gita', u'Gizela', u'Glad', u'Gladi', u'Gladis', u'Gladys', u'Gleda', u'Glen', u'Glenda', u'Glenine', u'Glenn', u'Glenna', u'Glennie', u'Glennis', u'Glori', u'Gloria', u'Gloriana', u'Gloriane', u'Glorianna', u'Glory', u'Glyn', u'Glynda', u'Glynis', u'Glynnis', u'Godiva', u'Golda', u'Goldarina', u'Goldi', u'Goldia', u'Goldie', u'Goldina', u'Goldy', u'Grace', u'Gracia', u'Gracie', u'Grata', u'Gratia', u'Gratiana', u'Gray', u'Grayce', u'Grazia', u'Gredel', u'Greer', u'Greta', u'Gretal', u'Gretchen', u'Grete', u'Gretel', u'Grethel', u'Gretna', u'Gretta', u'Grier', u'Griselda', u'Grissel', u'Guendolen', u'Guenevere', u'Guenna', u'Guglielma', u'Gui', u'Guillema', u'Guillemette', u'Guinevere', u'Guinna', u'Gunilla', u'Gunvor', u'Gus', u'Gusella', u'Gussi', u'Gussie', u'Gussy', u'Gusta', u'Gusti', u'Gustie', u'Gusty', u'Gwen', u'Gwendolen', u'Gwendolin', u'Gwendolyn', u'Gweneth', u'Gwenette', u'Gwenn', u'Gwenneth', u'Gwenni', u'Gwennie', u'Gwenny', u'Gwenora', u'Gwenore', u'Gwyn', u'Gwyneth', u'Gwynne', u'Gypsy', u'Hadria', u'Hailee', u'Haily', u'Haleigh', u'Halette', u'Haley', u'Hali', u'Halie', u'Halimeda', u'Halley', u'Halli', u'Hallie', u'Hally', u'Hana', u'Hanna', u'Hannah', u'Hanni', u'Hannibal', u'Hannie', u'Hannis', u'Hanny', u'Happy', u'Harlene', u'Harley', u'Harli', u'Harlie', u'Harmonia', u'Harmonie', u'Harmony', u'Harri', u'Harrie', u'Harriet', u'Harriett', u'Harrietta', u'Harriette', u'Harriot', u'Harriott', u'Hatti', u'Hattie', u'Hatty', u'Havivah', u'Hayley', u'Hazel', u'Heath', u'Heather', u'Heda', u'Hedda', u'Heddi', u'Heddie', u'Hedi', u'Hedvig', u'Hedwig', u'Hedy', u'Heida', u'Heide', u'Heidi', u'Heidie', u'Helaina', u'Helaine', u'Helen', u'Helen-Elizabeth', u'Helena', u'Helene', u'Helga', u'Helge', u'Helise', u'Hellene', u'Helli', u'Heloise', u'Helsa', u'Helyn', u'Hendrika', u'Henka', u'Henrie', u'Henrieta', u'Henrietta', u'Henriette', u'Henryetta', u'Hephzibah', u'Hermia', u'Hermina', u'Hermine', u'Herminia', u'Hermione', u'Herta', u'Hertha', u'Hester', u'Hesther', u'Hestia', u'Hetti', u'Hettie', u'Hetty', u'Hilarie', u'Hilary', u'Hilda', u'Hildagard', u'Hildagarde', u'Hilde', u'Hildegaard', u'Hildegarde', u'Hildy', u'Hillary', u'Hilliary', u'Hinda', u'Holley', u'Holli', u'Hollie', u'Holly', u'Holly-Anne', u'Hollyanne', u'Honey', u'Honor', u'Honoria', u'Hope', u'Horatia', u'Hortense', u'Hortensia', u'Hulda', u'Hyacinth', u'Hyacintha', u'Hyacinthe', u'Hyacinthia', u'Hyacinthie', u'Hynda', u'Ianthe', u'Ibbie', u'Ibby', u'Ida', u'Idalia', u'Idalina', u'Idaline', u'Idell', u'Idelle', u'Idette', u'Ike', u'Ikey', u'Ilana', u'Ileana', u'Ileane', u'Ilene', u'Ilise', u'Ilka', u'Illa', u'Ilona', u'Ilsa', u'Ilse', u'Ilysa', u'Ilyse', u'Ilyssa', u'Imelda', u'Imogen', u'Imogene', u'Imojean', u'Ina', u'Inci', u'Indira', u'Ines', u'Inesita', u'Inessa', u'Inez', u'Inga', u'Ingaberg', u'Ingaborg', u'Inge', u'Ingeberg', u'Ingeborg', u'Inger', u'Ingrid', u'Ingunna', u'Inna', u'Ioana', u'Iolande', u'Iolanthe', u'Iona', u'Iormina', u'Ira', u'Irena', u'Irene', u'Irina', u'Iris', u'Irita', u'Irma', u'Isa', u'Isabeau', u'Isabel', u'Isabelita', u'Isabella', u'Isabelle', u'Isador', u'Isadora', u'Isadore', u'Isahella', u'Iseabal', u'Isidora', u'Isis', u'Isobel', u'Issi', u'Issie', u'Issy', u'Ivett', u'Ivette', u'Ivie', u'Ivonne', u'Ivory', u'Ivy', u'Izabel', u'Izzi', u'Jacenta', u'Jacinda', u'Jacinta', u'Jacintha', u'Jacinthe', u'Jackelyn', u'Jacki', u'Jackie', u'Jacklin', u'Jacklyn', u'Jackquelin', u'Jackqueline', u'Jacky', u'Jaclin', u'Jaclyn', u'Jacquelin', u'Jacqueline', u'Jacquelyn', u'Jacquelynn', u'Jacquenetta', u'Jacquenette', u'Jacquetta', u'Jacquette', u'Jacqui', u'Jacquie', u'Jacynth', u'Jada', u'Jade', u'Jaime', u'Jaimie', u'Jaine', u'Jaleh', u'Jami', u'Jamie', u'Jamima', u'Jammie', u'Jan', u'Jana', u'Janaya', u'Janaye', u'Jandy', u'Jane', u'Janean', u'Janeczka', u'Janeen', u'Janel', u'Janela', u'Janella', u'Janelle', u'Janene', u'Janenna', u'Janessa', u'Janet', u'Janeta', u'Janetta', u'Janette', u'Janeva', u'Janey', u'Jania', u'Janice', u'Janie', u'Janifer', u'Janina', u'Janine', u'Janis', u'Janith', u'Janka', u'Janna', u'Jannel', u'Jannelle', u'Janot', u'Jany', u'Jaquelin', u'Jaquelyn', u'Jaquenetta', u'Jaquenette', u'Jaquith', u'Jasmin', u'Jasmina', u'Jasmine', u'Jayme', u'Jaymee', u'Jayne', u'Jaynell', u'Jazmin', u'Jean', u'Jeana', u'Jeane', u'Jeanelle', u'Jeanette', u'Jeanie', u'Jeanine', u'Jeanna', u'Jeanne', u'Jeannette', u'Jeannie', u'Jeannine', u'Jehanna', u'Jelene', u'Jemie', u'Jemima', u'Jemimah', u'Jemmie', u'Jemmy', u'Jen', u'Jena', u'Jenda', u'Jenelle', u'Jenette', u'Jeni', u'Jenica', u'Jeniece', u'Jenifer', u'Jeniffer', u'Jenilee', u'Jenine', u'Jenn', u'Jenna', u'Jennee', u'Jennette', u'Jenni', u'Jennica', u'Jennie', u'Jennifer', u'Jennilee', u'Jennine', u'Jenny', u'Jeraldine', u'Jeralee', u'Jere', u'Jeri', u'Jermaine', u'Jerrie', u'Jerrilee', u'Jerrilyn', u'Jerrine', u'Jerry', u'Jerrylee', u'Jess', u'Jessa', u'Jessalin', u'Jessalyn', u'Jessamine', u'Jessamyn', u'Jesse', u'Jesselyn', u'Jessi', u'Jessica', u'Jessie', u'Jessika', u'Jessy', u'Jewel', u'Jewell', u'Jewelle', u'Jill', u'Jillana', u'Jillane', u'Jillayne', u'Jilleen', u'Jillene', u'Jilli', u'Jillian', u'Jillie', u'Jilly', u'Jinny', u'Jo', u'Jo Ann', u'Jo-Ann', u'JoAnn', u'Jo-Anne', u'JoAnne', u'Joan', u'Joana', u'Joane', u'Joanie', u'Joann', u'Joanna', u'Joanne', u'Joannes', u'Jobey', u'Jobi', u'Jobie', u'Jobina', u'Joby', u'Jobye', u'Jobyna', u'Jocelin', u'Joceline', u'Jocelyn', u'Jocelyne', u'Jodee', u'Jodi', u'Jodie', u'Jody', u'Joela', u'Joelie', u'Joell', u'Joella', u'Joelle', u'Joellen', u'Joelly', u'Joellyn', u'Joelynn', u'Joete', u'Joey', u'Johanna', u'Johannah', u'Johnette', u'Johnna', u'Joice', u'Jojo', u'Jolee', u'Joleen', u'Jolene', u'Joletta', u'Joli', u'Jolie', u'Joline', u'Joly', u'Jolyn', u'Jolynn', u'Jonell', u'Joni', u'Jonie', u'Jonis', u'Jordain', u'Jordan', u'Jordana', u'Jordanna', u'Jorey', u'Jori', u'Jorie', u'Jorrie', u'Jorry', u'Joscelin', u'Josee', u'Josefa', u'Josefina', u'Joselyn', u'Josepha', u'Josephina', u'Josephine', u'Josey', u'Josi', u'Josie', u'Joslyn', u'Josselyn', u'Josy', u'Jourdan', u'Joy', u'Joya', u'Joyan', u'Joyann', u'Joyce', u'Joycelin', u'Joye', u'Joyous', u'Juana', u'Juanita', u'Jude', u'Judi', u'Judie', u'Judith', u'Juditha', u'Judy', u'Judye', u'Julee', u'Juli', u'Julia', u'Juliana', u'Juliane', u'Juliann', u'Julianna', u'Julianne', u'Julie', u'Julienne', u'Juliet', u'Julieta', u'Julietta', u'Juliette', u'Julina', u'Juline', u'Julissa', u'Julita', u'June', u'Junette', u'Junia', u'Junie', u'Junina', u'Justin', u'Justina', u'Justine', u'Jyoti', u'Kaari', u'Kacey', u'Kacie', u'Kacy', u'Kai', u'Kaia', u'Kaila', u'Kaile', u'Kailey', u'Kaitlin', u'Kaitlyn', u'Kaitlynn', u'Kaja', u'Kakalina', u'Kala', u'Kaleena', u'Kali', u'Kalie', u'Kalila', u'Kalina', u'Kalinda', u'Kalindi', u'Kalli', u'Kally', u'Kameko', u'Kamila', u'Kamilah', u'Kamillah', u'Kandace', u'Kandy', u'Kania', u'Kanya', u'Kara', u'Kara-Lynn', u'Karalee', u'Karalynn', u'Kare', u'Karee', u'Karel', u'Karen', u'Karena', u'Kari', u'Karia', u'Karie', u'Karil', u'Karilynn', u'Karin', u'Karina', u'Karine', u'Kariotta', u'Karisa', u'Karissa', u'Karita', u'Karla', u'Karlee', u'Karleen', u'Karlen', u'Karlene', u'Karlie', u'Karlotta', u'Karlotte', u'Karly', u'Karlyn', u'Karmen', u'Karna', u'Karol', u'Karola', u'Karole', u'Karolina', u'Karoline', u'Karoly', u'Karon', u'Karrah', u'Karrie', u'Karry', u'Kary', u'Karyl', u'Karylin', u'Karyn', u'Kasey', u'Kass', u'Kassandra', u'Kassey', u'Kassi', u'Kassia', u'Kassie', u'Kaster', u'Kat', u'Kata', u'Katalin', u'Kate', u'Katee', u'Katerina', u'Katerine', u'Katey', u'Kath', u'Katha', u'Katharina', u'Katharine', u'Katharyn', u'Kathe', u'Katheleen', u'Katherina', u'Katherine', u'Katheryn', u'Kathi', u'Kathie', u'Kathleen', u'Kathlene', u'Kathlin', u'Kathrine', u'Kathryn', u'Kathryne', u'Kathy', u'Kathye', u'Kati', u'Katie', u'Katina', u'Katine', u'Katinka', u'Katleen', u'Katlin', u'Katrina', u'Katrine', u'Katrinka', u'Katti', u'Kattie', u'Katuscha', u'Katusha', u'Katy', u'Katya', u'Kay', u'Kaycee', u'Kaye', u'Kayla', u'Kayle', u'Kaylee', u'Kayley', u'Kaylil', u'Kaylyn', u'Kee', u'Keeley', u'Keelia', u'Keely', u'Kelcey', u'Kelci', u'Kelcie', u'Kelcy', u'Kelila', u'Kellen', u'Kelley', u'Kelli', u'Kellia', u'Kellie', u'Kellina', u'Kellsie', u'Kelly', u'Kellyann', u'Kelsey', u'Kelsi', u'Kelsy', u'Kendra', u'Kendre', u'Kenna', u'Keren', u'Keri', u'Keriann', u'Kerianne', u'Kerri', u'Kerrie', u'Kerrill', u'Kerrin', u'Kerry', u'Kerstin', u'Kesley', u'Keslie', u'Kessia', u'Kessiah', u'Ketti', u'Kettie', u'Ketty', u'Kevina', u'Kevyn', u'Ki', u'Kia', u'Kiah', u'Kial', u'Kiele', u'Kiersten', u'Kikelia', u'Kiley', u'Kim', u'Kimberlee', u'Kimberley', u'Kimberli', u'Kimberly', u'Kimberlyn', u'Kimbra', u'Kimmi', u'Kimmie', u'Kimmy', u'Kinna', u'Kip', u'Kipp', u'Kippie', u'Kippy', u'Kira', u'Kirbee', u'Kirbie', u'Kirby', u'Kiri', u'Kirsten', u'Kirsteni', u'Kirsti', u'Kirstie', u'Kirstin', u'Kirstyn', u'Kissee', u'Kissiah', u'Kissie', u'Kit', u'Kitti', u'Kittie', u'Kitty', u'Kizzee', u'Kizzie', u'Klara', u'Klarika', u'Klarrisa', u'Konstance', u'Konstanze', u'Koo', u'Kora', u'Koral', u'Koralle', u'Kordula', u'Kore', u'Korella', u'Koren', u'Koressa', u'Kori', u'Korie', u'Korney', u'Korrie', u'Korry', u'Kourtney', u'Kris', u'Krissie', u'Krissy', u'Krista', u'Kristal', u'Kristan', u'Kriste', u'Kristel', u'Kristen', u'Kristi', u'Kristien', u'Kristin', u'Kristina', u'Kristine', u'Kristy', u'Kristyn', u'Krysta', u'Krystal', u'Krystalle', u'Krystle', u'Krystyna', u'Kyla', u'Kyle', u'Kylen', u'Kylie', u'Kylila', u'Kylynn', u'Kym', u'Kynthia', u'Kyrstin', u'La', u'Lacee', u'Lacey', u'Lacie', u'Lacy', u'Ladonna', u'Laetitia', u'Laila', u'Laina', u'Lainey', u'Lamb', u'Lana', u'Lane', u'Lanette', u'Laney', u'Lani', u'Lanie', u'Lanita', u'Lanna', u'Lanni', u'Lanny', u'Lara', u'Laraine', u'Lari', u'Larina', u'Larine', u'Larisa', u'Larissa', u'Lark', u'Laryssa', u'Latashia', u'Latia', u'Latisha', u'Latrena', u'Latrina', u'Laura', u'Lauraine', u'Laural', u'Lauralee', u'Laure', u'Lauree', u'Laureen', u'Laurel', u'Laurella', u'Lauren', u'Laurena', u'Laurene', u'Lauretta', u'Laurette', u'Lauri', u'Laurianne', u'Laurice', u'Laurie', u'Lauryn', u'Lavena', u'Laverna', u'Laverne', u'Lavina', u'Lavinia', u'Lavinie', u'Layla', u'Layne', u'Layney', u'Lea', u'Leah', u'Leandra', u'Leann', u'Leanna', u'Leanne', u'Leanor', u'Leanora', u'Lebbie', u'Leda', u'Lee', u'LeeAnn', u'Leeann', u'Leeanne', u'Leela', u'Leelah', u'Leena', u'Leesa', u'Leese', u'Legra', u'Leia', u'Leiah', u'Leigh', u'Leigha', u'Leila', u'Leilah', u'Leisha', u'Lela', u'Lelah', u'Leland', u'Lelia', u'Lena', u'Lenee', u'Lenette', u'Lenka', u'Lenna', u'Lenora', u'Lenore', u'Leodora', u'Leoine', u'Leola', u'Leoline', u'Leona', u'Leonanie', u'Leone', u'Leonelle', u'Leonie', u'Leonora', u'Leonore', u'Leontine', u'Leontyne', u'Leora', u'Leorah', u'Leshia', u'Lesley', u'Lesli', u'Leslie', u'Lesly', u'Lesya', u'Leta', u'Lethia', u'Leticia', u'Letisha', u'Letitia', u'Letta', u'Letti', u'Lettie', u'Letty', u'Leyla', u'Lezlie', u'Lia', u'Lian', u'Liana', u'Liane', u'Lianna', u'Lianne', u'Lib', u'Libbey', u'Libbi', u'Libbie', u'Libby', u'Licha', u'Lida', u'Lidia', u'Lil', u'Lila', u'Lilah', u'Lilas', u'Lilia', u'Lilian', u'Liliane', u'Lilias', u'Lilith', u'Lilla', u'Lilli', u'Lillian', u'Lillis', u'Lilllie', u'Lilly', u'Lily', u'Lilyan', u'Lin', u'Lina', u'Lind', u'Linda', u'Lindi', u'Lindie', u'Lindsay', u'Lindsey', u'Lindsy', u'Lindy', u'Linea', u'Linell', u'Linet', u'Linette', u'Linn', u'Linnea', u'Linnell', u'Linnet', u'Linnie', u'Linzy', u'Liora', u'Liorah', u'Lira', u'Lisa', u'Lisabeth', u'Lisandra', u'Lisbeth', u'Lise', u'Lisetta', u'Lisette', u'Lisha', u'Lishe', u'Lissa', u'Lissi', u'Lissie', u'Lissy', u'Lita', u'Liuka', u'Livia', u'Liz', u'Liza', u'Lizabeth', u'Lizbeth', u'Lizette', u'Lizzie', u'Lizzy', u'Loella', u'Lois', u'Loise', u'Lola', u'Lolande', u'Loleta', u'Lolita', u'Lolly', u'Lona', u'Lonee', u'Loni', u'Lonna', u'Lonni', u'Lonnie', u'Lora', u'Lorain', u'Loraine', u'Loralee', u'Loralie', u'Loralyn', u'Loree', u'Loreen', u'Lorelei', u'Lorelle', u'Loren', u'Lorena', u'Lorene', u'Lorenza', u'Loretta', u'Lorettalorna', u'Lorette', u'Lori', u'Loria', u'Lorianna', u'Lorianne', u'Lorie', u'Lorilee', u'Lorilyn', u'Lorinda', u'Lorine', u'Lorita', u'Lorna', u'Lorne', u'Lorraine', u'Lorrayne', u'Lorri', u'Lorrie', u'Lorrin', u'Lorry', u'Lory', u'Lotta', u'Lotte', u'Lotti', u'Lottie', u'Lotty', u'Lou', u'Louella', u'Louisa', u'Louise', u'Louisette', u'Love', u'Luana', u'Luanna', u'Luce', u'Luci', u'Lucia', u'Luciana', u'Lucie', u'Lucienne', u'Lucila', u'Lucilia', u'Lucille', u'Lucina', u'Lucinda', u'Lucine', u'Lucita', u'Lucky', u'Lucretia', u'Lucy', u'Luella', u'Luelle', u'Luisa', u'Luise', u'Lula', u'Lulita', u'Lulu', u'Luna', u'Lura', u'Lurette', u'Lurleen', u'Lurlene', u'Lurline', u'Lusa', u'Lust', u'Lyda', u'Lydia', u'Lydie', u'Lyn', u'Lynda', u'Lynde', u'Lyndel', u'Lyndell', u'Lyndsay', u'Lyndsey', u'Lyndsie', u'Lyndy', u'Lynea', u'Lynelle', u'Lynett', u'Lynette', u'Lynn', u'Lynna', u'Lynne', u'Lynnea', u'Lynnell', u'Lynnelle', u'Lynnet', u'Lynnett', u'Lynnette', u'Lynsey', u'Lysandra', u'Lyssa', u'Mab', u'Mabel', u'Mabelle', u'Mable', u'Mada', u'Madalena', u'Madalyn', u'Maddalena', u'Maddi', u'Maddie', u'Maddy', u'Madel', u'Madelaine', u'Madeleine', u'Madelena', u'Madelene', u'Madelin', u'Madelina', u'Madeline', u'Madella', u'Madelle', u'Madelon', u'Madelyn', u'Madge', u'Madlen', u'Madlin', u'Madona', u'Madonna', u'Mady', u'Mae', u'Maegan', u'Mag', u'Magda', u'Magdaia', u'Magdalen', u'Magdalena', u'Magdalene', u'Maggee', u'Maggi', u'Maggie', u'Maggy', u'Magna', u'Mahala', u'Mahalia', u'Maia', u'Maible', u'Maiga', u'Mair', u'Maire', u'Mairead', u'Maisey', u'Maisie', u'Mala', u'Malanie', u'Malcah', u'Malena', u'Malia', u'Malina', u'Malinda', u'Malinde', u'Malissa', u'Malissia', u'Malka', u'Malkah', u'Mallissa', u'Mallorie', u'Mallory', u'Malorie', u'Malory', u'Malva', u'Malvina', u'Malynda', u'Mame', u'Mamie', u'Manda', u'Mandi', u'Mandie', u'Mandy', u'Manon', u'Manya', u'Mara', u'Marabel', u'Marcela', u'Marcelia', u'Marcella', u'Marcelle', u'Marcellina', u'Marcelline', u'Marchelle', u'Marci', u'Marcia', u'Marcie', u'Marcile', u'Marcille', u'Marcy', u'Mareah', u'Maren', u'Marena', u'Maressa', u'Marga', u'Margalit', u'Margalo', u'Margaret', u'Margareta', u'Margarete', u'Margaretha', u'Margarethe', u'Margaretta', u'Margarette', u'Margarita', u'Margaux', u'Marge', u'Margeaux', u'Margery', u'Marget', u'Margette', u'Margi', u'Margie', u'Margit', u'Marglerite', u'Margo', u'Margot', u'Margret', u'Marguerite', u'Margurite', u'Margy', u'Mari', u'Maria', u'Mariam', u'Marian', u'Mariana', u'Mariann', u'Marianna', u'Marianne', u'Maribel', u'Maribelle', u'Maribeth', u'Marice', u'Maridel', u'Marie', u'Marie-Ann', u'Marie-Jeanne', u'Marieann', u'Mariejeanne', u'Mariel', u'Mariele', u'Marielle', u'Mariellen', u'Marietta', u'Mariette', u'Marigold', u'Marijo', u'Marika', u'Marilee', u'Marilin', u'Marillin', u'Marilyn', u'Marin', u'Marina', u'Marinna', u'Marion', u'Mariquilla', u'Maris', u'Marisa', u'Mariska', u'Marissa', u'Marit', u'Marita', u'Maritsa', u'Mariya', u'Marj', u'Marja', u'Marje', u'Marji', u'Marjie', u'Marjorie', u'Marjory', u'Marjy', u'Marketa', u'Marla', u'Marlane', u'Marleah', u'Marlee', u'Marleen', u'Marlena', u'Marlene', u'Marley', u'Marlie', u'Marline', u'Marlo', u'Marlyn', u'Marna', u'Marne', u'Marney', u'Marni', u'Marnia', u'Marnie', u'Marquita', u'Marrilee', u'Marris', u'Marrissa', u'Marry', u'Marsha', u'Marsiella', u'Marta', u'Martelle', u'Martguerita', u'Martha', u'Marthe', u'Marthena', u'Marti', u'Martica', u'Martie', u'Martina', u'Martita', u'Marty', u'Martynne', u'Mary', u'Marya', u'Maryangelyn', u'Maryann', u'Maryanna', u'Maryanne', u'Marybelle', u'Marybeth', u'Maryellen', u'Maryjane', u'Maryjo', u'Maryl', u'Marylee', u'Marylin', u'Marylinda', u'Marylou', u'Marylynne', u'Maryrose', u'Marys', u'Marysa', u'Masha', u'Matelda', u'Mathilda', u'Mathilde', u'Matilda', u'Matilde', u'Matti', u'Mattie', u'Matty', u'Maud', u'Maude', u'Maudie', u'Maura', u'Maure', u'Maureen', u'Maureene', u'Maurene', u'Maurine', u'Maurise', u'Maurita', u'Mavis', u'Mavra', u'Max', u'Maxi', u'Maxie', u'Maxine', u'Maxy', u'May', u'Maya', u'Maybelle', u'Mayda', u'Maye', u'Mead', u'Meade', u'Meagan', u'Meaghan', u'Meara', u'Mechelle', u'Meg', u'Megan', u'Megen', u'Meggan', u'Meggi', u'Meggie', u'Meggy', u'Meghan', u'Meghann', u'Mehetabel', u'Mei', u'Meira', u'Mel', u'Mela', u'Melamie', u'Melania', u'Melanie', u'Melantha', u'Melany', u'Melba', u'Melesa', u'Melessa', u'Melicent', u'Melina', u'Melinda', u'Melinde', u'Melisa', u'Melisande', u'Melisandra', u'Melisenda', u'Melisent', u'Melissa', u'Melisse', u'Melita', u'Melitta', u'Mella', u'Melli', u'Mellicent', u'Mellie', u'Mellisa', u'Mellisent', u'Mellissa', u'Melloney', u'Melly', u'Melodee', u'Melodie', u'Melody', u'Melonie', u'Melony', u'Melosa', u'Melva', u'Mercedes', u'Merci', u'Mercie', u'Mercy', u'Meredith', u'Meredithe', u'Meridel', u'Meridith', u'Meriel', u'Merilee', u'Merilyn', u'Meris', u'Merissa', u'Merl', u'Merla', u'Merle', u'Merlina', u'Merline', u'Merna', u'Merola', u'Merralee', u'Merridie', u'Merrie', u'Merrielle', u'Merrile', u'Merrilee', u'Merrili', u'Merrill', u'Merrily', u'Merry', u'Mersey', u'Meryl', u'Meta', u'Mia', u'Micaela', u'Michaela', u'Michaelina', u'Michaeline', u'Michaella', u'Michal', u'Michel', u'Michele', u'Michelina', u'Micheline', u'Michell', u'Michelle', u'Micki', u'Mickie', u'Micky', u'Midge', u'Mignon', u'Mignonne', u'Miguela', u'Miguelita', u'Mikako', u'Mildred', u'Mildrid', u'Milena', u'Milicent', u'Milissent', u'Milka', u'Milli', u'Millicent', u'Millie', u'Millisent', u'Milly', u'Milzie', u'Mimi', u'Min', u'Mina', u'Minda', u'Mindy', u'Minerva', u'Minetta', u'Minette', u'Minna', u'Minni', u'Minnie', u'Minny', u'Minta', u'Miquela', u'Mira', u'Mirabel', u'Mirabella', u'Mirabelle', u'Miran', u'Miranda', u'Mireielle', u'Mireille', u'Mirella', u'Mirelle', u'Miriam', u'Mirilla', u'Mirna', u'Misha', u'Missie', u'Missy', u'Misti', u'Misty', u'Mitra', u'Mitzi', u'Mmarianne', u'Modesta', u'Modestia', u'Modestine', u'Modesty', u'Moina', u'Moira', u'Moll', u'Mollee', u'Molli', u'Mollie', u'Molly', u'Mommy', u'Mona', u'Monah', u'Monica', u'Monika', u'Monique', u'Mora', u'Moreen', u'Morena', u'Morgan', u'Morgana', u'Morganica', u'Morganne', u'Morgen', u'Moria', u'Morissa', u'Morlee', u'Morna', u'Moselle', u'Moya', u'Moyna', u'Moyra', u'Mozelle', u'Muffin', u'Mufi', u'Mufinella', u'Muire', u'Mureil', u'Murial', u'Muriel', u'Murielle', u'Myna', u'Myra', u'Myrah', u'Myranda', u'Myriam', u'Myrilla', u'Myrle', u'Myrlene', u'Myrna', u'Myrta', u'Myrtia', u'Myrtice', u'Myrtie', u'Myrtle', u'Nada', u'Nadean', u'Nadeen', u'Nadia', u'Nadine', u'Nadiya', u'Nady', u'Nadya', u'Nalani', u'Nan', u'Nana', u'Nananne', u'Nance', u'Nancee', u'Nancey', u'Nanci', u'Nancie', u'Nancy', u'Nanete', u'Nanette', u'Nani', u'Nanice', u'Nanine', u'Nannette', u'Nanni', u'Nannie', u'Nanny', u'Nanon', u'Naoma', u'Naomi', u'Nara', u'Nari', u'Nariko', u'Nat', u'Nata', u'Natala', u'Natalee', u'Natalia', u'Natalie', u'Natalina', u'Nataline', u'Natalya', u'Natasha', u'Natassia', u'Nathalia', u'Nathalie', u'Natka', u'Natty', u'Neala', u'Neda', u'Nedda', u'Nedi', u'Neely', u'Neila', u'Neile', u'Neilla', u'Neille', u'Nela', u'Nelia', u'Nelie', u'Nell', u'Nelle', u'Nelli', u'Nellie', u'Nelly', u'Nena', u'Nerissa', u'Nerita', u'Nert', u'Nerta', u'Nerte', u'Nerti', u'Nertie', u'Nerty', u'Nessa', u'Nessi', u'Nessie', u'Nessy', u'Nesta', u'Netta', u'Netti', u'Nettie', u'Nettle', u'Netty', u'Nevsa', u'Neysa', u'Nichol', u'Nichole', u'Nicholle', u'Nicki', u'Nickie', u'Nicky', u'Nicol', u'Nicola', u'Nicole', u'Nicolea', u'Nicolette', u'Nicoli', u'Nicolina', u'Nicoline', u'Nicolle', u'Nidia', u'Nike', u'Niki', u'Nikki', u'Nikkie', u'Nikoletta', u'Nikolia', u'Nil', u'Nina', u'Ninetta', u'Ninette', u'Ninnetta', u'Ninnette', u'Ninon', u'Nisa', u'Nissa', u'Nisse', u'Nissie', u'Nissy', u'Nita', u'Nitin', u'Nixie', u'Noami', u'Noel', u'Noelani', u'Noell', u'Noella', u'Noelle', u'Noellyn', u'Noelyn', u'Noemi', u'Nola', u'Nolana', u'Nolie', u'Nollie', u'Nomi', u'Nona', u'Nonah', u'Noni', u'Nonie', u'Nonna', u'Nonnah', u'Nora', u'Norah', u'Norean', u'Noreen', u'Norene', u'Norina', u'Norine', u'Norma', u'Norri', u'Norrie', u'Norry', u'Nova', u'Novelia', u'Nydia', u'Nyssa', u'Octavia', u'Odele', u'Odelia', u'Odelinda', u'Odella', u'Odelle', u'Odessa', u'Odetta', u'Odette', u'Odilia', u'Odille', u'Ofelia', u'Ofella', u'Ofilia', u'Ola', u'Olenka', u'Olga', u'Olia', u'Olimpia', u'Olive', u'Olivette', u'Olivia', u'Olivie', u'Oliy', u'Ollie', u'Olly', u'Olva', u'Olwen', u'Olympe', u'Olympia', u'Olympie', u'Ondrea', u'Oneida', u'Onida', u'Onlea', u'Oona', u'Opal', u'Opalina', u'Opaline', u'Ophelia', u'Ophelie', u'Oprah', u'Ora', u'Oralee', u'Oralia', u'Oralie', u'Oralla', u'Oralle', u'Orel', u'Orelee', u'Orelia', u'Orelie', u'Orella', u'Orelle', u'Oreste', u'Oriana', u'Orly', u'Orsa', u'Orsola', u'Ortensia', u'Otha', u'Othelia', u'Othella', u'Othilia', u'Othilie', u'Ottilie', u'Pacifica', u'Page', u'Paige', u'Paloma', u'Pam', u'Pamela', u'Pamelina', u'Pamella', u'Pammi', u'Pammie', u'Pammy', u'Pandora', u'Pansie', u'Pansy', u'Paola', u'Paolina', u'Parwane', u'Pat', u'Patience', u'Patrica', u'Patrice', u'Patricia', u'Patrizia', u'Patsy', u'Patti', u'Pattie', u'Patty', u'Paula', u'Paula-Grace', u'Paule', u'Pauletta', u'Paulette', u'Pauli', u'Paulie', u'Paulina', u'Pauline', u'Paulita', u'Pauly', u'Pavia', u'Pavla', u'Pearl', u'Pearla', u'Pearle', u'Pearline', u'Peg', u'Pegeen', u'Peggi', u'Peggie', u'Peggy', u'Pen', u'Penelopa', u'Penelope', u'Penni', u'Pennie', u'Penny', u'Pepi', u'Pepita', u'Peri', u'Peria', u'Perl', u'Perla', u'Perle', u'Perri', u'Perrine', u'Perry', u'Persis', u'Pet', u'Peta', u'Petra', u'Petrina', u'Petronella', u'Petronia', u'Petronilla', u'Petronille', u'Petunia', u'Phaedra', u'Phaidra', u'Phebe', u'Phedra', u'Phelia', u'Phil', u'Philipa', u'Philippa', u'Philippe', u'Philippine', u'Philis', u'Phillida', u'Phillie', u'Phillis', u'Philly', u'Philomena', u'Phoebe', u'Phylis', u'Phyllida', u'Phyllis', u'Phyllys', u'Phylys', u'Pia', u'Pier', u'Pierette', u'Pierrette', u'Pietra', u'Piper', u'Pippa', u'Pippy', u'Polly', u'Pollyanna', u'Pooh', u'Poppy', u'Portia', u'Pris', u'Prisca', u'Priscella', u'Priscilla', u'Prissie', u'Pru', u'Prudence', u'Prudi', u'Prudy', u'Prue', u'Prunella', u'Queada', u'Queenie', u'Quentin', u'Querida', u'Quinn', u'Quinta', u'Quintana', u'Quintilla', u'Quintina', u'Rachael', u'Rachel', u'Rachele', u'Rachelle', u'Rae', u'Raf', u'Rafa', u'Rafaela', u'Rafaelia', u'Rafaelita', u'Ragnhild', u'Rahal', u'Rahel', u'Raina', u'Raine', u'Rakel', u'Ralina', u'Ramona', u'Ramonda', u'Rana', u'Randa', u'Randee', u'Randene', u'Randi', u'Randie', u'Randy', u'Ranee', u'Rani', u'Rania', u'Ranice', u'Ranique', u'Ranna', u'Raphaela', u'Raquel', u'Raquela', u'Rasia', u'Rasla', u'Raven', u'Ray', u'Raychel', u'Raye', u'Rayna', u'Raynell', u'Rayshell', u'Rea', u'Reba', u'Rebbecca', u'Rebe', u'Rebeca', u'Rebecca', u'Rebecka', u'Rebeka', u'Rebekah', u'Rebekkah', u'Ree', u'Reeba', u'Reena', u'Reeta', u'Reeva', u'Regan', u'Reggi', u'Reggie', u'Regina', u'Regine', u'Reiko', u'Reina', u'Reine', u'Remy', u'Rena', u'Renae', u'Renata', u'Renate', u'Rene', u'Renee', u'Renel', u'Renell', u'Renelle', u'Renie', u'Rennie', u'Reta', u'Retha', u'Revkah', u'Rey', u'Reyna', u'Rhea', u'Rheba', u'Rheta', u'Rhetta', u'Rhiamon', u'Rhianna', u'Rhianon', u'Rhoda', u'Rhodia', u'Rhodie', u'Rhody', u'Rhona', u'Rhonda', u'Riane', u'Riannon', u'Rianon', u'Rica', u'Ricca', u'Rici', u'Ricki', u'Rickie', u'Ricky', u'Riki', u'Rikki', u'Rina', u'Risa', u'Rissa', u'Rita', u'Riva', u'Rivalee', u'Rivi', u'Rivkah', u'Rivy', u'Roana', u'Roanna', u'Roanne', u'Robbi', u'Robbie', u'Robbin', u'Robby', u'Robbyn', u'Robena', u'Robenia', u'Roberta', u'Robin', u'Robina', u'Robinet', u'Robinett', u'Robinetta', u'Robinette', u'Robinia', u'Roby', u'Robyn', u'Roch', u'Rochell', u'Rochella', u'Rochelle', u'Rochette', u'Roda', u'Rodi', u'Rodie', u'Rodina', u'Romola', u'Romona', u'Romonda', u'Romy', u'Rona', u'Ronalda', u'Ronda', u'Ronica', u'Ronna', u'Ronni', u'Ronnica', u'Ronnie', u'Ronny', u'Roobbie', u'Rora', u'Rori', u'Rorie', u'Rory', u'Ros', u'Rosa', u'Rosabel', u'Rosabella', u'Rosabelle', u'Rosaleen', u'Rosalia', u'Rosalie', u'Rosalind', u'Rosalinda', u'Rosalinde', u'Rosaline', u'Rosalyn', u'Rosalynd', u'Rosamond', u'Rosamund', u'Rosana', u'Rosanna', u'Rosanne', u'Rosario', u'Rose', u'Roseann', u'Roseanna', u'Roseanne', u'Roselia', u'Roselin', u'Roseline', u'Rosella', u'Roselle', u'Roselyn', u'Rosemaria', u'Rosemarie', u'Rosemary', u'Rosemonde', u'Rosene', u'Rosetta', u'Rosette', u'Roshelle', u'Rosie', u'Rosina', u'Rosita', u'Roslyn', u'Rosmunda', u'Rosy', u'Row', u'Rowe', u'Rowena', u'Roxana', u'Roxane', u'Roxanna', u'Roxanne', u'Roxi', u'Roxie', u'Roxine', u'Roxy', u'Roz', u'Rozalie', u'Rozalin', u'Rozamond', u'Rozanna', u'Rozanne', u'Roze', u'Rozele', u'Rozella', u'Rozelle', u'Rozina', u'Rubetta', u'Rubi', u'Rubia', u'Rubie', u'Rubina', u'Ruby', u'Ruella', u'Ruperta', u'Ruth', u'Ruthann', u'Ruthanne', u'Ruthe', u'Ruthi', u'Ruthie', u'Ruthy', u'Ryann', u'Rycca', u'Saba', u'Sabina', u'Sabine', u'Sabra', u'Sabrina', u'Sacha', u'Sada', u'Sadella', u'Sadie', u'Sal', u'Sallee', u'Salli', u'Sallie', u'Sally', u'Sallyann', u'Sallyanne', u'Salome', u'Sam', u'Samantha', u'Samara', u'Samaria', u'Sammy', u'Samuela', u'Samuella', u'Sande', u'Sandi', u'Sandie', u'Sandra', u'Sandy', u'Sandye', u'Sapphira', u'Sapphire', u'Sara', u'Sara-Ann', u'Saraann', u'Sarah', u'Sarajane', u'Saree', u'Sarena', u'Sarene', u'Sarette', u'Sari', u'Sarina', u'Sarine', u'Sarita', u'Sascha', u'Sasha', u'Sashenka', u'Saudra', u'Saundra', u'Savina', u'Sayre', u'Scarlet', u'Scarlett', u'Scotty', u'Sean', u'Seana', u'Secunda', u'Seka', u'Sela', u'Selena', u'Selene', u'Selestina', u'Selia', u'Selie', u'Selina', u'Selinda', u'Seline', u'Sella', u'Selle', u'Selma', u'Sena', u'Sephira', u'Serena', u'Serene', u'Shaina', u'Shaine', u'Shalna', u'Shalne', u'Shamit', u'Shana', u'Shanda', u'Shandee', u'Shandie', u'Shandra', u'Shandy', u'Shane', u'Shani', u'Shanie', u'Shanna', u'Shannah', u'Shannen', u'Shannon', u'Shanon', u'Shanta', u'Shantee', u'Shara', u'Sharai', u'Shari', u'Sharia', u'Sharie', u'Sharity', u'Sharl', u'Sharla', u'Sharleen', u'Sharlene', u'Sharline', u'Sharna', u'Sharon', u'Sharona', u'Sharra', u'Sharron', u'Sharyl', u'Shaun', u'Shauna', u'Shawn', u'Shawna', u'Shawnee', u'Shay', u'Shayla', u'Shaylah', u'Shaylyn', u'Shaylynn', u'Shayna', u'Shayne', u'Shea', u'Sheba', u'Sheela', u'Sheelagh', u'Sheelah', u'Sheena', u'Sheeree', u'Sheila', u'Sheila-Kathryn', u'Sheilah', u'Sheilakathryn', u'Shel', u'Shela', u'Shelagh', u'Shelba', u'Shelbi', u'Shelby', u'Shelia', u'Shell', u'Shelley', u'Shelli', u'Shellie', u'Shelly', u'Shena', u'Sher', u'Sheree', u'Sheri', u'Sherie', u'Sheril', u'Sherill', u'Sherilyn', u'Sherline', u'Sherri', u'Sherrie', u'Sherry', u'Sherye', u'Sheryl', u'Shilpa', u'Shina', u'Shir', u'Shira', u'Shirah', u'Shirl', u'Shirlee', u'Shirleen', u'Shirlene', u'Shirley', u'Shirline', u'Shoshana', u'Shoshanna', u'Shoshie', u'Siana', u'Sianna', u'Sib', u'Sibbie', u'Sibby', u'Sibeal', u'Sibel', u'Sibella', u'Sibelle', u'Sibilla', u'Sibley', u'Sibyl', u'Sibylla', u'Sibylle', u'Sidoney', u'Sidonia', u'Sidonnie', u'Sigrid', u'Sile', u'Sileas', u'Silva', u'Silvana', u'Silvia', u'Silvie', u'Simona', u'Simone', u'Simonette', u'Simonne', u'Sindee', u'Sinead', u'Siobhan', u'Sioux', u'Siouxie', u'Sisely', u'Sisile', u'Sissie', u'Sissy', u'Sofia', u'Sofie', u'Solange', u'Sondra', u'Sonia', u'Sonja', u'Sonni', u'Sonnie', u'Sonnnie', u'Sonny', u'Sonya', u'Sophey', u'Sophi', u'Sophia', u'Sophie', u'Sophronia', u'Sorcha', u'Sosanna', u'Stace', u'Stacee', u'Stacey', u'Staci', u'Stacia', u'Stacie', u'Stacy', u'Stafani', u'Star', u'Starla', u'Starlene', u'Starlin', u'Starr', u'Stefa', u'Stefania', u'Stefanie', u'Steffane', u'Steffi', u'Steffie', u'Stella', u'Stepha', u'Stephana', u'Stephani', u'Stephanie', u'Stephannie', u'Stephenie', u'Stephi', u'Stephie', u'Stephine', u'Stesha', u'Stevana', u'Stevena', u'Stoddard', u'Storey', u'Storm', u'Stormi', u'Stormie', u'Stormy', u'Sue', u'Sue-elle', u'Suellen', u'Sukey', u'Suki', u'Sula', u'Sunny', u'Sunshine', u'Susan', u'Susana', u'Susanetta', u'Susann', u'Susanna', u'Susannah', u'Susanne', u'Susette', u'Susi', u'Susie', u'Sussi', u'Susy', u'Suzan', u'Suzann', u'Suzanna', u'Suzanne', u'Suzetta', u'Suzette', u'Suzi', u'Suzie', u'Suzy', u'Suzzy', u'Sybil', u'Sybila', u'Sybilla', u'Sybille', u'Sybyl', u'Sydel', u'Sydelle', u'Sydney', u'Sylvia', u'Sylvie', u'Tabatha', u'Tabbatha', u'Tabbi', u'Tabbie', u'Tabbitha', u'Tabby', u'Tabina', u'Tabitha', u'Taffy', u'Talia', u'Tallia', u'Tallie', u'Tally', u'Talya', u'Talyah', u'Tamar', u'Tamara', u'Tamarah', u'Tamarra', u'Tamera', u'Tami', u'Tamiko', u'Tamma', u'Tammara', u'Tammi', u'Tammie', u'Tammy', u'Tamra', u'Tana', u'Tandi', u'Tandie', u'Tandy', u'Tani', u'Tania', u'Tansy', u'Tanya', u'Tara', u'Tarah', u'Tarra', u'Tarrah', u'Taryn', u'Tasha', u'Tasia', u'Tate', u'Tatiana', u'Tatiania', u'Tatum', u'Tawnya', u'Tawsha', u'Teane', u'Ted', u'Tedda', u'Teddi', u'Teddie', u'Teddy', u'Tedi', u'Tedra', u'Teena', u'Tella', u'Teodora', u'Tera', u'Teresa', u'TeresaAnne', u'Terese', u'Teresina', u'Teresita', u'Teressa', u'Teri', u'Teriann', u'Terina', u'Terra', u'Terri', u'Terri-Jo', u'Terrianne', u'Terrie', u'Terry', u'Terrye', u'Tersina', u'Teryl', u'Terza', u'Tess', u'Tessa', u'Tessi', u'Tessie', u'Tessy', u'Thalia', u'Thea', u'Theada', u'Theadora', u'Theda', u'Thekla', u'Thelma', u'Theo', u'Theodora', u'Theodosia', u'Theresa', u'Theresa-Marie', u'Therese', u'Theresina', u'Theresita', u'Theressa', u'Therine', u'Thia', u'Thomasa', u'Thomasin', u'Thomasina', u'Thomasine', u'Tia', u'Tiana', u'Tiena', u'Tierney', u'Tiertza', u'Tiff', u'Tiffani', u'Tiffanie', u'Tiffany', u'Tiffi', u'Tiffie', u'Tiffy', u'Tilda', u'Tildi', u'Tildie', u'Tildy', u'Tillie', u'Tilly', u'Tim', u'Timi', u'Timmi', u'Timmie', u'Timmy', u'Timothea', u'Tina', u'Tine', u'Tiphani', u'Tiphanie', u'Tiphany', u'Tish', u'Tisha', u'Tobe', u'Tobey', u'Tobi', u'Tobie', u'Toby', u'Tobye', u'Toinette', u'Toma', u'Tomasina', u'Tomasine', u'Tomi', u'Tomiko', u'Tommi', u'Tommie', u'Tommy', u'Toni', u'Tonia', u'Tonie', u'Tony', u'Tonya', u'Tootsie', u'Torey', u'Tori', u'Torie', u'Torrie', u'Tory', u'Tova', u'Tove', u'Trace', u'Tracee', u'Tracey', u'Traci', u'Tracie', u'Tracy', u'Trenna', u'Tresa', u'Trescha', u'Tressa', u'Tricia', u'Trina', u'Trish', u'Trisha', u'Trista', u'Trix', u'Trixi', u'Trixie', u'Trixy', u'Truda', u'Trude', u'Trudey', u'Trudi', u'Trudie', u'Trudy', u'Trula', u'Tuesday', u'Twila', u'Twyla', u'Tybi', u'Tybie', u'Tyne', u'Ula', u'Ulla', u'Ulrica', u'Ulrika', u'Ulrike', u'Umeko', u'Una', u'Ursa', u'Ursala', u'Ursola', u'Ursula', u'Ursulina', u'Ursuline', u'Uta', u'Val', u'Valaree', u'Valaria', u'Vale', u'Valeda', u'Valencia', u'Valene', u'Valenka', u'Valentia', u'Valentina', u'Valentine', u'Valera', u'Valeria', u'Valerie', u'Valery', u'Valerye', u'Valida', u'Valina', u'Valli', u'Vallie', u'Vally', u'Valma', u'Valry', u'Van', u'Vanda', u'Vanessa', u'Vania', u'Vanna', u'Vanni', u'Vannie', u'Vanny', u'Vanya', u'Veda', u'Velma', u'Velvet', u'Vena', u'Venita', u'Ventura', u'Venus', u'Vera', u'Veradis', u'Vere', u'Verena', u'Verene', u'Veriee', u'Verile', u'Verina', u'Verine', u'Verla', u'Verna', u'Vernice', u'Veronica', u'Veronika', u'Veronike', u'Veronique', u'Vi', u'Vicki', u'Vickie', u'Vicky', u'Victoria', u'Vida', u'Viki', u'Vikki', u'Vikkie', u'Vikky', u'Vilhelmina', u'Vilma', u'Vin', u'Vina', u'Vinita', u'Vinni', u'Vinnie', u'Vinny', u'Viola', u'Violante', u'Viole', u'Violet', u'Violetta', u'Violette', u'Virgie', u'Virgina', u'Virginia', u'Virginie', u'Vita', u'Vitia', u'Vitoria', u'Vittoria', u'Viv', u'Viva', u'Vivi', u'Vivia', u'Vivian', u'Viviana', u'Vivianna', u'Vivianne', u'Vivie', u'Vivien', u'Viviene', u'Vivienne', u'Viviyan', u'Vivyan', u'Vivyanne', u'Vonni', u'Vonnie', u'Vonny', u'Wallie', u'Wallis', u'Wally', u'Waly', u'Wanda', u'Wandie', u'Wandis', u'Waneta', u'Wenda', u'Wendeline', u'Wendi', u'Wendie', u'Wendy', u'Wenona', u'Wenonah', u'Whitney', u'Wileen', u'Wilhelmina', u'Wilhelmine', u'Wilie', u'Willa', u'Willabella', u'Willamina', u'Willetta', u'Willette', u'Willi', u'Willie', u'Willow', u'Willy', u'Willyt', u'Wilma', u'Wilmette', u'Wilona', u'Wilone', u'Wilow', u'Windy', u'Wini', u'Winifred', u'Winna', u'Winnah', u'Winne', u'Winni', u'Winnie', u'Winnifred', u'Winny', u'Winona', u'Winonah', u'Wren', u'Wrennie', u'Wylma', u'Wynn', u'Wynne', u'Wynnie', u'Wynny', u'Xaviera', u'Xena', u'Xenia', u'Xylia', u'Xylina', u'Yalonda', u'Yehudit', u'Yelena', u'Yetta', u'Yettie', u'Yetty', u'Yevette', u'Yoko', u'Yolanda', u'Yolande', u'Yolane', u'Yolanthe', u'Yonina', u'Yoshi', u'Yoshiko', u'Yovonnda', u'Yvette', u'Yvonne', u'Zabrina', u'Zahara', u'Zandra', u'Zaneta', u'Zara', u'Zarah', u'Zaria', u'Zarla', u'Zea', u'Zelda', u'Zelma', u'Zena', u'Zenia', u'Zia', u'Zilvia', u'Zita', u'Zitella', u'Zoe', u'Zola', u'Zonda', u'Zondra', u'Zonnya', u'Zora', u'Zorah', u'Zorana', u'Zorina', u'Zorine', u'Zsa Zsa', u'Zsazsa', u'Zulema', u'Zuzana']\n"
       ]
      }
     ],
     "prompt_number": 3
    },
    {
     "cell_type": "markdown",
     "metadata": {},
     "source": [
      "Now, we need to create our training data. For that, we will create a set of tuples, with the *label* for the name and the actual name:"
     ]
    },
    {
     "cell_type": "code",
     "collapsed": false,
     "input": [
      "data = []\n",
      "data += [(\"female\", name) for name in female_names] \n",
      "data += [(\"male\", name) for name in male_names]"
     ],
     "language": "python",
     "metadata": {},
     "outputs": [],
     "prompt_number": 6
    },
    {
     "cell_type": "code",
     "collapsed": false,
     "input": [
      "data[:5]"
     ],
     "language": "python",
     "metadata": {},
     "outputs": [
      {
       "metadata": {},
       "output_type": "pyout",
       "prompt_number": 5,
       "text": [
        "[('female', u'Abagael'),\n",
        " ('female', u'Abagail'),\n",
        " ('female', u'Abbe'),\n",
        " ('female', u'Abbey'),\n",
        " ('female', u'Abbi')]"
       ]
      }
     ],
     "prompt_number": 5
    },
    {
     "cell_type": "code",
     "collapsed": false,
     "input": [
      "data[-5:]"
     ],
     "language": "python",
     "metadata": {},
     "outputs": [
      {
       "metadata": {},
       "output_type": "pyout",
       "prompt_number": 7,
       "text": [
        "[('male', u'Zeus'),\n",
        " ('male', u'Zippy'),\n",
        " ('male', u'Zollie'),\n",
        " ('male', u'Zolly'),\n",
        " ('male', u'Zorro')]"
       ]
      }
     ],
     "prompt_number": 7
    },
    {
     "cell_type": "markdown",
     "metadata": {},
     "source": [
      "Now, we can build our first rudimentary classifier: We lookup a name in the list, and return the gender in the label.\n"
     ]
    },
    {
     "cell_type": "code",
     "collapsed": false,
     "input": [
      "def classify_name(input_name):\n",
      "    for (label, name) in data:\n",
      "        if name == input_name:\n",
      "            print label;"
     ],
     "language": "python",
     "metadata": {},
     "outputs": [],
     "prompt_number": 8
    },
    {
     "cell_type": "markdown",
     "metadata": {},
     "source": [
      "Let's try now our classifier for a few different inputs:"
     ]
    },
    {
     "cell_type": "code",
     "collapsed": false,
     "input": [
      "input_name = \"John\"\n",
      "print \"Trying \", input_name\n",
      "classify_name(input_name)"
     ],
     "language": "python",
     "metadata": {},
     "outputs": [
      {
       "output_type": "stream",
       "stream": "stdout",
       "text": [
        "Trying  John\n",
        "male\n"
       ]
      }
     ],
     "prompt_number": 9
    },
    {
     "cell_type": "code",
     "collapsed": false,
     "input": [
      "input_name = \"Jane\"\n",
      "print \"Trying \", input_name\n",
      "classify_name(input_name)"
     ],
     "language": "python",
     "metadata": {},
     "outputs": [
      {
       "output_type": "stream",
       "stream": "stdout",
       "text": [
        "Trying  Jane\n",
        "female\n"
       ]
      }
     ],
     "prompt_number": 10
    },
    {
     "cell_type": "code",
     "collapsed": false,
     "input": [
      "input_name = \"Leslie\"\n",
      "print \"Trying \", input_name\n",
      "classify_name(input_name)"
     ],
     "language": "python",
     "metadata": {},
     "outputs": [
      {
       "output_type": "stream",
       "stream": "stdout",
       "text": [
        "Trying  Leslie\n",
        "female\n",
        "male\n"
       ]
      }
     ],
     "prompt_number": 11
    },
    {
     "cell_type": "code",
     "collapsed": false,
     "input": [
      "input_name = \"Panos\"\n",
      "print \"Trying \", input_name\n",
      "classify_name(input_name)"
     ],
     "language": "python",
     "metadata": {},
     "outputs": [
      {
       "output_type": "stream",
       "stream": "stdout",
       "text": [
        "Trying  Panos\n"
       ]
      }
     ],
     "prompt_number": 12
    },
    {
     "cell_type": "markdown",
     "metadata": {},
     "source": [
      "Apparently, our classifier has a few problems. Cannot handle at all names that are not in the training data, and has problems when the names appear in both lists. Let's see how many such names there are:"
     ]
    },
    {
     "cell_type": "code",
     "collapsed": false,
     "input": [
      "ambiguous = [w for w in male_names if w in female_names]\n",
      "print len(ambiguous)\n",
      "print ambiguous"
     ],
     "language": "python",
     "metadata": {},
     "outputs": [
      {
       "output_type": "stream",
       "stream": "stdout",
       "text": [
        "365\n",
        "[u'Abbey', u'Abbie', u'Abby', u'Addie', u'Adrian', u'Adrien', u'Ajay', u'Alex', u'Alexis', u'Alfie', u'Ali', u'Alix', u'Allie', u'Allyn', u'Andie', u'Andrea', u'Andy', u'Angel', u'Angie', u'Ariel', u'Ashley', u'Aubrey', u'Augustine', u'Austin', u'Averil', u'Barrie', u'Barry', u'Beau', u'Bennie', u'Benny', u'Bernie', u'Bert', u'Bertie', u'Bill', u'Billie', u'Billy', u'Blair', u'Blake', u'Bo', u'Bobbie', u'Bobby', u'Brandy', u'Brett', u'Britt', u'Brook', u'Brooke', u'Brooks', u'Bryn', u'Cal', u'Cam', u'Cammy', u'Carey', u'Carlie', u'Carlin', u'Carmine', u'Carroll', u'Cary', u'Caryl', u'Casey', u'Cass', u'Cat', u'Cecil', u'Chad', u'Chris', u'Chrissy', u'Christian', u'Christie', u'Christy', u'Clair', u'Claire', u'Clare', u'Claude', u'Clem', u'Clemmie', u'Cody', u'Connie', u'Constantine', u'Corey', u'Corrie', u'Cory', u'Courtney', u'Cris', u'Daffy', u'Dale', u'Dallas', u'Dana', u'Dani', u'Daniel', u'Dannie', u'Danny', u'Darby', u'Darcy', u'Darryl', u'Daryl', u'Deane', u'Del', u'Dell', u'Demetris', u'Dennie', u'Denny', u'Devin', u'Devon', u'Dion', u'Dionis', u'Dominique', u'Donnie', u'Donny', u'Dorian', u'Dory', u'Drew', u'Eddie', u'Eddy', u'Edie', u'Elisha', u'Emmy', u'Erin', u'Esme', u'Evelyn', u'Felice', u'Fran', u'Francis', u'Frank', u'Frankie', u'Franky', u'Fred', u'Freddie', u'Freddy', u'Gabriel', u'Gabriell', u'Gail', u'Gale', u'Gay', u'Gayle', u'Gene', u'George', u'Georgia', u'Georgie', u'Geri', u'Germaine', u'Gerri', u'Gerry', u'Gill', u'Ginger', u'Glen', u'Glenn', u'Grace', u'Gretchen', u'Gus', u'Haleigh', u'Haley', u'Hannibal', u'Harley', u'Hazel', u'Heath', u'Henrie', u'Hilary', u'Hillary', u'Holly', u'Ike', u'Ikey', u'Ira', u'Isa', u'Isador', u'Isadore', u'Jackie', u'Jaime', u'Jamie', u'Jan', u'Jean', u'Jere', u'Jermaine', u'Jerrie', u'Jerry', u'Jess', u'Jesse', u'Jessie', u'Jo', u'Jodi', u'Jodie', u'Jody', u'Joey', u'Jordan', u'Juanita', u'Jude', u'Judith', u'Judy', u'Julie', u'Justin', u'Karel', u'Kellen', u'Kelley', u'Kelly', u'Kelsey', u'Kerry', u'Kim', u'Kip', u'Kirby', u'Kit', u'Kris', u'Kyle', u'Lane', u'Lanny', u'Lauren', u'Laurie', u'Lee', u'Leigh', u'Leland', u'Lesley', u'Leslie', u'Lin', u'Lind', u'Lindsay', u'Lindsey', u'Lindy', u'Lonnie', u'Loren', u'Lorne', u'Lorrie', u'Lou', u'Luce', u'Lyn', u'Lynn', u'Maddie', u'Maddy', u'Marietta', u'Marion', u'Marlo', u'Martie', u'Marty', u'Mattie', u'Matty', u'Maurise', u'Max', u'Maxie', u'Mead', u'Meade', u'Mel', u'Meredith', u'Merle', u'Merrill', u'Merry', u'Meryl', u'Michal', u'Michel', u'Michele', u'Mickie', u'Micky', u'Millicent', u'Morgan', u'Morlee', u'Muffin', u'Nat', u'Nichole', u'Nickie', u'Nicky', u'Niki', u'Nikki', u'Noel', u'Ollie', u'Page', u'Paige', u'Pat', u'Patrice', u'Patsy', u'Pattie', u'Patty', u'Pen', u'Pennie', u'Penny', u'Perry', u'Phil', u'Pooh', u'Quentin', u'Quinn', u'Randi', u'Randie', u'Randy', u'Ray', u'Regan', u'Reggie', u'Rene', u'Rey', u'Ricki', u'Rickie', u'Ricky', u'Rikki', u'Robbie', u'Robin', u'Ronnie', u'Ronny', u'Rory', u'Ruby', u'Sal', u'Sam', u'Sammy', u'Sandy', u'Sascha', u'Sasha', u'Saundra', u'Sayre', u'Scotty', u'Sean', u'Shaine', u'Shane', u'Shannon', u'Shaun', u'Shawn', u'Shay', u'Shayne', u'Shea', u'Shelby', u'Shell', u'Shelley', u'Sibyl', u'Simone', u'Sonnie', u'Sonny', u'Stacy', u'Sunny', u'Sydney', u'Tabbie', u'Tabby', u'Tallie', u'Tally', u'Tammie', u'Tammy', u'Tate', u'Ted', u'Teddie', u'Teddy', u'Terri', u'Terry', u'Theo', u'Tim', u'Timmie', u'Timmy', u'Tobe', u'Tobie', u'Toby', u'Tommie', u'Tommy', u'Tony', u'Torey', u'Trace', u'Tracey', u'Tracie', u'Tracy', u'Val', u'Vale', u'Valentine', u'Van', u'Vin', u'Vinnie', u'Vinny', u'Virgie', u'Wallie', u'Wallis', u'Wally', u'Whitney', u'Willi', u'Willie', u'Willy', u'Winnie', u'Winny', u'Wynn']\n"
       ]
      }
     ],
     "prompt_number": 13
    },
    {
     "cell_type": "markdown",
     "metadata": {},
     "source": [
      "One way to improve our classifier is to use a bigger dataset, or count the actual frequency of each name in female and male versions, instead of having just a list. However, none of these solve the underlying problem that the classifier cannot extend beyond the training data."
     ]
    },
    {
     "cell_type": "markdown",
     "metadata": {},
     "source": [
      "### Featurization\n",
      "\n",
      "Featurization is a process in which we represent an input using a set of values, that are derived from the input. \n",
      "\n",
      "For example, for gender identification, the last character of the name can give hints about the gender. For example, it is well known that names ending in the letter `a` are almost always female. \n",
      "\n",
      "Let's create a revised data set"
     ]
    },
    {
     "cell_type": "code",
     "collapsed": false,
     "input": [
      "last_char_data = [(label, name[-1]) for (label, name) in data]\n",
      "last_char_data[:10]"
     ],
     "language": "python",
     "metadata": {},
     "outputs": [
      {
       "metadata": {},
       "output_type": "pyout",
       "prompt_number": 14,
       "text": [
        "[('female', u'l'),\n",
        " ('female', u'l'),\n",
        " ('female', u'e'),\n",
        " ('female', u'y'),\n",
        " ('female', u'i'),\n",
        " ('female', u'e'),\n",
        " ('female', u'y'),\n",
        " ('female', u'l'),\n",
        " ('female', u'l'),\n",
        " ('female', u'e')]"
       ]
      }
     ],
     "prompt_number": 14
    },
    {
     "cell_type": "code",
     "collapsed": false,
     "input": [
      "last_char_data[-10:]"
     ],
     "language": "python",
     "metadata": {},
     "outputs": [
      {
       "metadata": {},
       "output_type": "pyout",
       "prompt_number": 15,
       "text": [
        "[('male', u'd'),\n",
        " ('male', u'h'),\n",
        " ('male', u'e'),\n",
        " ('male', u'g'),\n",
        " ('male', u'k'),\n",
        " ('male', u's'),\n",
        " ('male', u'y'),\n",
        " ('male', u'e'),\n",
        " ('male', u'y'),\n",
        " ('male', u'o')]"
       ]
      }
     ],
     "prompt_number": 15
    },
    {
     "cell_type": "markdown",
     "metadata": {},
     "source": [
      "Now, we can use the concept of **conditional** frequency distribution, to compare the frequencies of each feature in the two classes:"
     ]
    },
    {
     "cell_type": "code",
     "collapsed": false,
     "input": [
      "cfd = nltk.ConditionalFreqDist(last_char_data)"
     ],
     "language": "python",
     "metadata": {},
     "outputs": [],
     "prompt_number": 16
    },
    {
     "cell_type": "code",
     "collapsed": false,
     "input": [
      "import pandas as pd\n",
      "import matplotlib.pyplot as plt\n",
      "# Make the graphs a bit prettier, and bigger\n",
      "pd.set_option('display.mpl_style', 'default')\n",
      "plt.rcParams['figure.figsize'] = (15, 5)\n",
      "\n",
      "cfd.plot()"
     ],
     "language": "python",
     "metadata": {},
     "outputs": [
      {
       "output_type": "stream",
       "stream": "stderr",
       "text": [
        "/usr/local/lib/python2.7/dist-packages/matplotlib/font_manager.py:1224: UserWarning: findfont: Font family ['monospace'] not found. Falling back to Bitstream Vera Sans\n",
        "  (prop.get_family(), self.defaultFamily[fontext]))\n"
       ]
      },
      {
       "metadata": {},
       "output_type": "display_data",
       "png": "[encoded data removed]",
       "text": [
        "<matplotlib.figure.Figure at 0x2dd8450>"
       ]
      }
     ],
     "prompt_number": 17
    },
    {
     "cell_type": "markdown",
     "metadata": {},
     "source": [
      "This plot shows the number of female and male names ending with each letter of the alphabet; most names ending with a, e or i are female; names ending in h and l are ambiguous and can both male and female; names ending in k, o, r, s, and t are more likely to be male."
     ]
    },
    {
     "cell_type": "markdown",
     "metadata": {},
     "source": [
      "Let's build a classifier to model these differences more precisely.\n",
      "\n",
      "The first step in creating a classifier is deciding what features of the input are relevant, and how to encode those features. For this example, we'll start by just looking at the final letter of a given name. The following feature extractor function builds a dictionary containing relevant information about a given name:"
     ]
    },
    {
     "cell_type": "code",
     "collapsed": false,
     "input": [
      "def gender_features(word):\n",
      "     return {'last_letter': word[-1]}\n",
      "\n",
      "gender_features('Shrek')"
     ],
     "language": "python",
     "metadata": {},
     "outputs": [
      {
       "metadata": {},
       "output_type": "pyout",
       "prompt_number": 18,
       "text": [
        "{'last_letter': 'k'}"
       ]
      }
     ],
     "prompt_number": 18
    },
    {
     "cell_type": "markdown",
     "metadata": {},
     "source": [
      "Of course, we can add more features if we want. (But beware, as this is not always better, as we will see later.)"
     ]
    },
    {
     "cell_type": "code",
     "collapsed": false,
     "input": [
      "def gender_features(word):\n",
      "     return {\n",
      "        'last_letter': word[-1],\n",
      "        'penultimate_letter': word[-2],\n",
      "        'last_two_letters': word[-2:]\n",
      "    }\n",
      "\n",
      "gender_features('Shrek')"
     ],
     "language": "python",
     "metadata": {},
     "outputs": [
      {
       "metadata": {},
       "output_type": "pyout",
       "prompt_number": 19,
       "text": [
        "{'last_letter': 'k', 'last_two_letters': 'ek', 'penultimate_letter': 'e'}"
       ]
      }
     ],
     "prompt_number": 19
    },
    {
     "cell_type": "markdown",
     "metadata": {},
     "source": [
      "The returned dictionary, known as a feature set, maps from features' names to their values. Feature names are case-sensitive strings that typically provide a short human-readable description of the feature. Feature values are values with simple types, such as booleans, numbers, and strings.\n",
      "\n",
      "Now that we've defined a feature extractor, we need to prepare a list of examples and corresponding class labels."
     ]
    },
    {
     "cell_type": "code",
     "collapsed": false,
     "input": [
      "from nltk.corpus import names\n",
      "\n",
      "def gender_features(word):\n",
      "     return {'last_letter': word[-1]}\n",
      "\n",
      "male_names = names.words('male.txt')\n",
      "female_names = names.words('female.txt')\n",
      "\n",
      "labeled_names = []\n",
      "labeled_names += [(\"female\", name) for name in female_names] \n",
      "labeled_names += [(\"male\", name) for name in male_names]\n",
      "\n",
      "labeled_featuresets = [(gender_features(name), gender) for (gender, name) in labeled_names]"
     ],
     "language": "python",
     "metadata": {},
     "outputs": [],
     "prompt_number": 20
    },
    {
     "cell_type": "code",
     "collapsed": false,
     "input": [
      "# We want to randomize the order, before separating into training and test set\n",
      "import random\n",
      "random.shuffle(labeled_featuresets)"
     ],
     "language": "python",
     "metadata": {},
     "outputs": [],
     "prompt_number": 21
    },
    {
     "cell_type": "code",
     "collapsed": false,
     "input": [
      "len(labeled_featuresets)"
     ],
     "language": "python",
     "metadata": {},
     "outputs": [
      {
       "metadata": {},
       "output_type": "pyout",
       "prompt_number": 22,
       "text": [
        "7944"
       ]
      }
     ],
     "prompt_number": 22
    },
    {
     "cell_type": "code",
     "collapsed": false,
     "input": [
      "labeled_featuresets[:5]"
     ],
     "language": "python",
     "metadata": {},
     "outputs": [
      {
       "metadata": {},
       "output_type": "pyout",
       "prompt_number": 27,
       "text": [
        "[({'last_letter': u'n'}, 'female'),\n",
        " ({'last_letter': u'n'}, 'male'),\n",
        " ({'last_letter': u't'}, 'male'),\n",
        " ({'last_letter': u's'}, 'female'),\n",
        " ({'last_letter': u'a'}, 'female')]"
       ]
      }
     ],
     "prompt_number": 27
    },
    {
     "cell_type": "markdown",
     "metadata": {},
     "source": [
      "Next, we divide the resulting list of feature sets into a **training set** and a **test set**. The training set is used to train our classifier. The test set will **not** be used for training but only for evaluating the performance of our classifier for \"unseen\" data that have not been present in the training data."
     ]
    },
    {
     "cell_type": "code",
     "collapsed": false,
     "input": [
      "# We will keep 500 examples for testing and the remaining ones will be training\n",
      "train_set, test_set = labeled_featuresets[500:], labeled_featuresets[:500]"
     ],
     "language": "python",
     "metadata": {},
     "outputs": [],
     "prompt_number": 23
    },
    {
     "cell_type": "markdown",
     "metadata": {},
     "source": [
      "Now that we have our data ready, let's build our classifier. We will use a \"Naive Bayes\" classifier. We are not going to talk about the underlying mathematical details of the classification model, and instead will treat as a black box. Covering how the NB classifier works, its strengths and weaknesses, and learning about alternative classification models (e.g., decision trees, logistic regression, support vector machines, etc) is the topic of the Data Mining class."
     ]
    },
    {
     "cell_type": "code",
     "collapsed": false,
     "input": [
      "classifier = nltk.NaiveBayesClassifier.train(train_set)"
     ],
     "language": "python",
     "metadata": {},
     "outputs": [],
     "prompt_number": 24
    },
    {
     "cell_type": "markdown",
     "metadata": {},
     "source": [
      "Let's just test it out on some names that did not appear in its training data:"
     ]
    },
    {
     "cell_type": "code",
     "collapsed": false,
     "input": [
      "classifier.classify(gender_features('Neo'))"
     ],
     "language": "python",
     "metadata": {},
     "outputs": [
      {
       "metadata": {},
       "output_type": "pyout",
       "prompt_number": 25,
       "text": [
        "'male'"
       ]
      }
     ],
     "prompt_number": 25
    },
    {
     "cell_type": "code",
     "collapsed": false,
     "input": [
      "classifier.classify(gender_features('Trinity'))"
     ],
     "language": "python",
     "metadata": {},
     "outputs": [
      {
       "metadata": {},
       "output_type": "pyout",
       "prompt_number": 26,
       "text": [
        "'female'"
       ]
      }
     ],
     "prompt_number": 26
    },
    {
     "cell_type": "markdown",
     "metadata": {},
     "source": [
      "Observe that these character names from The Matrix are correctly classified. Although this science fiction movie is set in 2199, it still conforms with our expectations about names and genders. \n",
      "\n",
      "Let's check a few more:"
     ]
    },
    {
     "cell_type": "code",
     "collapsed": false,
     "input": [
      "smalltest = {\"Simona\", \"Adam\", \"Sidney\", \"Phillip\", \"Won Jun\", \"Hannah\", \"Panos\", \"Marios\", \"Jonathan\", \"Zhangshuai\", \n",
      " \"John\", \"Sherif\", \"Junghoon\", \"Zhongling\", \"Raffi\", \"Casey\", \"Alexander\" }\n",
      "\n",
      "for name in smalltest:\n",
      "    features = gender_features(name)\n",
      "    print \"Name: \", name, \" ==> \", classifier.classify(features)\n",
      "    "
     ],
     "language": "python",
     "metadata": {},
     "outputs": [
      {
       "output_type": "stream",
       "stream": "stdout",
       "text": [
        "Name:  Raffi  ==>  female\n",
        "Name:  Jonathan  ==>  male\n",
        "Name:  Sidney  ==>  female\n",
        "Name:  Zhangshuai  ==>  female\n",
        "Name:  Hannah  ==>  female\n",
        "Name:  Marios  ==>  male\n",
        "Name:  Sherif  ==>  male\n",
        "Name:  Adam  ==>  male\n",
        "Name:  Casey  ==>  female\n",
        "Name:  Simona  ==>  female\n",
        "Name:  Panos  ==>  male\n",
        "Name:  Phillip  ==>  male\n",
        "Name:  Won Jun  ==>  male\n",
        "Name:  Zhongling  ==>  male\n",
        "Name:  John  ==>  male\n",
        "Name:  Junghoon  ==>  male\n",
        "Name:  Alexander  ==>  male\n"
       ]
      }
     ],
     "prompt_number": 28
    },
    {
     "cell_type": "markdown",
     "metadata": {},
     "source": [
      "We can systematically evaluate the classifier on a much larger quantity of unseen data:"
     ]
    },
    {
     "cell_type": "code",
     "collapsed": false,
     "input": [
      "print(nltk.classify.accuracy(classifier, test_set))"
     ],
     "language": "python",
     "metadata": {},
     "outputs": [
      {
       "output_type": "stream",
       "stream": "stdout",
       "text": [
        "0.758\n"
       ]
      }
     ],
     "prompt_number": 29
    },
    {
     "cell_type": "markdown",
     "metadata": {},
     "source": [
      "Finally, we can examine the classifier to determine which features it found most effective for distinguishing the names' genders:"
     ]
    },
    {
     "cell_type": "code",
     "collapsed": false,
     "input": [
      "classifier.show_most_informative_features(26)"
     ],
     "language": "python",
     "metadata": {},
     "outputs": [
      {
       "output_type": "stream",
       "stream": "stdout",
       "text": [
        "Most Informative Features\n",
        "             last_letter = u'k'             male : female =     43.6 : 1.0\n",
        "             last_letter = u'a'           female : male   =     33.1 : 1.0\n",
        "             last_letter = u'f'             male : female =     17.2 : 1.0\n",
        "             last_letter = u'p'             male : female =     12.5 : 1.0\n",
        "             last_letter = u'm'             male : female =     10.9 : 1.0\n",
        "             last_letter = u'v'             male : female =      9.8 : 1.0\n",
        "             last_letter = u'd'             male : female =      9.5 : 1.0\n",
        "             last_letter = u'o'             male : female =      8.3 : 1.0\n",
        "             last_letter = u'r'             male : female =      6.9 : 1.0\n",
        "             last_letter = u'w'             male : female =      6.6 : 1.0\n",
        "             last_letter = u'g'             male : female =      5.6 : 1.0\n",
        "             last_letter = u'b'             male : female =      4.8 : 1.0\n",
        "             last_letter = u'z'             male : female =      4.3 : 1.0\n",
        "             last_letter = u's'             male : female =      4.2 : 1.0\n",
        "             last_letter = u'j'             male : female =      3.9 : 1.0\n",
        "             last_letter = u't'             male : female =      3.8 : 1.0\n",
        "             last_letter = u'i'           female : male   =      3.7 : 1.0\n",
        "             last_letter = u'u'             male : female =      2.7 : 1.0\n",
        "             last_letter = u'n'             male : female =      2.1 : 1.0\n",
        "             last_letter = u'e'           female : male   =      1.8 : 1.0\n",
        "             last_letter = u'l'             male : female =      1.8 : 1.0\n",
        "             last_letter = u'x'             male : female =      1.5 : 1.0\n",
        "             last_letter = u'h'             male : female =      1.4 : 1.0\n",
        "             last_letter = u'y'             male : female =      1.2 : 1.0\n"
       ]
      }
     ],
     "prompt_number": 30
    },
    {
     "cell_type": "markdown",
     "metadata": {},
     "source": [
      "#### Exercise \n",
      "\n",
      "Modify the gender_features() function to provide the classifier with features encoding the length of the name, its first letter, and any other features that seem like they might be informative. Retrain the classifier with these new features, and test its accuracy."
     ]
    },
    {
     "cell_type": "code",
     "collapsed": false,
     "input": [
      "# your code here\n",
      "from nltk.corpus import names\n",
      "import random\n",
      "\n",
      "# Modify this function to add more features\n",
      "def gender_features(word):\n",
      "\n",
      "    return {\n",
      "        'first_letter': word[0],\n",
      "        'last_letter': word[-1],\n",
      "        'length' : len(word)\n",
      "    }\n",
      "\n",
      "male_names = names.words('male.txt')\n",
      "female_names = names.words('female.txt')\n",
      "\n",
      "labeled_names = []\n",
      "labeled_names += [(\"female\", name) for name in female_names] \n",
      "labeled_names += [(\"male\", name) for name in male_names]\n",
      "\n",
      "labeled_featuresets = [(gender_features(name), gender) for (gender, name) in labeled_names]\n",
      "\n",
      "# We are going to repeat the process multiple times, as the shuffling generates different \n",
      "# sets of training and test data\n",
      "train_set, test_set = [], []\n",
      "trials = 50\n",
      "psum = 0;\n",
      "cnt = 0;\n",
      "for i in range(trials):\n",
      "    random.shuffle(labeled_featuresets)\n",
      "    # We will keep 500 examples for testing and the remaining ones will be training\n",
      "    train_set, test_set = labeled_featuresets[500:], labeled_featuresets[:500]\n",
      "    classifier = nltk.NaiveBayesClassifier.train(train_set)\n",
      "    accuracy = nltk.classify.accuracy(classifier, test_set)\n",
      "    print(\"Trial:\", cnt, \" Accuracy:\", accuracy)\n",
      "    psum += accuracy\n",
      "    cnt += 1\n",
      "    \n",
      "print \"Avg Accuracy: \", (psum/cnt)"
     ],
     "language": "python",
     "metadata": {},
     "outputs": [
      {
       "output_type": "stream",
       "stream": "stdout",
       "text": [
        "('Trial:', 0, ' Accuracy:', 0.756)\n",
        "('Trial:', 1, ' Accuracy:', 0.81)"
       ]
      },
      {
       "output_type": "stream",
       "stream": "stdout",
       "text": [
        "\n",
        "('Trial:', 2, ' Accuracy:', 0.8)"
       ]
      },
      {
       "output_type": "stream",
       "stream": "stdout",
       "text": [
        "\n",
        "('Trial:', 3, ' Accuracy:', 0.8)\n",
        "('Trial:', 4, ' Accuracy:', 0.752)"
       ]
      },
      {
       "output_type": "stream",
       "stream": "stdout",
       "text": [
        "\n",
        "('Trial:', 5, ' Accuracy:', 0.782)\n",
        "('Trial:', 6, ' Accuracy:', 0.764)"
       ]
      },
      {
       "output_type": "stream",
       "stream": "stdout",
       "text": [
        "\n",
        "('Trial:', 7, ' Accuracy:', 0.794)"
       ]
      },
      {
       "output_type": "stream",
       "stream": "stdout",
       "text": [
        "\n",
        "('Trial:', 8, ' Accuracy:', 0.768)\n",
        "('Trial:', 9, ' Accuracy:', 0.81)"
       ]
      },
      {
       "output_type": "stream",
       "stream": "stdout",
       "text": [
        "\n",
        "('Trial:', 10, ' Accuracy:', 0.78)\n",
        "('Trial:', 11, ' Accuracy:', 0.79)"
       ]
      },
      {
       "output_type": "stream",
       "stream": "stdout",
       "text": [
        "\n",
        "('Trial:', 12, ' Accuracy:', 0.746)"
       ]
      },
      {
       "output_type": "stream",
       "stream": "stdout",
       "text": [
        "\n",
        "('Trial:', 13, ' Accuracy:', 0.792)"
       ]
      },
      {
       "output_type": "stream",
       "stream": "stdout",
       "text": [
        "\n",
        "('Trial:', 14, ' Accuracy:', 0.772)"
       ]
      },
      {
       "output_type": "stream",
       "stream": "stdout",
       "text": [
        "\n",
        "('Trial:', 15, ' Accuracy:', 0.792)\n",
        "('Trial:', 16, ' Accuracy:', 0.782)"
       ]
      },
      {
       "output_type": "stream",
       "stream": "stdout",
       "text": [
        "\n",
        "('Trial:', 17, ' Accuracy:', 0.756)\n",
        "('Trial:', 18, ' Accuracy:', 0.77)"
       ]
      },
      {
       "output_type": "stream",
       "stream": "stdout",
       "text": [
        "\n",
        "('Trial:', 19, ' Accuracy:', 0.77)\n",
        "('Trial:', 20, ' Accuracy:', 0.776)"
       ]
      },
      {
       "output_type": "stream",
       "stream": "stdout",
       "text": [
        "\n",
        "('Trial:', 21, ' Accuracy:', 0.752)\n",
        "('Trial:', 22, ' Accuracy:', 0.8)"
       ]
      },
      {
       "output_type": "stream",
       "stream": "stdout",
       "text": [
        "\n",
        "('Trial:', 23, ' Accuracy:', 0.814)\n",
        "('Trial:', 24, ' Accuracy:', 0.83)"
       ]
      },
      {
       "output_type": "stream",
       "stream": "stdout",
       "text": [
        "\n",
        "('Trial:', 25, ' Accuracy:', 0.754)\n",
        "('Trial:', 26, ' Accuracy:', 0.77)"
       ]
      },
      {
       "output_type": "stream",
       "stream": "stdout",
       "text": [
        "\n",
        "('Trial:', 27, ' Accuracy:', 0.82)\n",
        "('Trial:', 28, ' Accuracy:', 0.778)"
       ]
      },
      {
       "output_type": "stream",
       "stream": "stdout",
       "text": [
        "\n",
        "('Trial:', 29, ' Accuracy:', 0.748)"
       ]
      },
      {
       "output_type": "stream",
       "stream": "stdout",
       "text": [
        "\n",
        "('Trial:', 30, ' Accuracy:', 0.774)\n",
        "('Trial:', 31, ' Accuracy:', 0.794)"
       ]
      },
      {
       "output_type": "stream",
       "stream": "stdout",
       "text": [
        "\n",
        "('Trial:', 32, ' Accuracy:', 0.802)\n",
        "('Trial:', 33, ' Accuracy:', 0.774)"
       ]
      },
      {
       "output_type": "stream",
       "stream": "stdout",
       "text": [
        "\n",
        "('Trial:', 34, ' Accuracy:', 0.76)\n",
        "('Trial:', 35, ' Accuracy:', 0.778)"
       ]
      },
      {
       "output_type": "stream",
       "stream": "stdout",
       "text": [
        "\n",
        "('Trial:', 36, ' Accuracy:', 0.782)\n",
        "('Trial:', 37, ' Accuracy:', 0.76)"
       ]
      },
      {
       "output_type": "stream",
       "stream": "stdout",
       "text": [
        "\n",
        "('Trial:', 38, ' Accuracy:', 0.762)\n",
        "('Trial:', 39, ' Accuracy:', 0.788)"
       ]
      },
      {
       "output_type": "stream",
       "stream": "stdout",
       "text": [
        "\n",
        "('Trial:', 40, ' Accuracy:', 0.79)"
       ]
      },
      {
       "output_type": "stream",
       "stream": "stdout",
       "text": [
        "\n",
        "('Trial:', 41, ' Accuracy:', 0.722)\n",
        "('Trial:', 42, ' Accuracy:', 0.772)"
       ]
      },
      {
       "output_type": "stream",
       "stream": "stdout",
       "text": [
        "\n",
        "('Trial:', 43, ' Accuracy:', 0.77)"
       ]
      },
      {
       "output_type": "stream",
       "stream": "stdout",
       "text": [
        "\n",
        "('Trial:', 44, ' Accuracy:', 0.818)\n",
        "('Trial:', 45, ' Accuracy:', 0.762)"
       ]
      },
      {
       "output_type": "stream",
       "stream": "stdout",
       "text": [
        "\n",
        "('Trial:', 46, ' Accuracy:', 0.764)\n",
        "('Trial:', 47, ' Accuracy:', 0.79)"
       ]
      },
      {
       "output_type": "stream",
       "stream": "stdout",
       "text": [
        "\n",
        "('Trial:', 48, ' Accuracy:', 0.782)\n",
        "('Trial:', 49, ' Accuracy:', 0.79)"
       ]
      },
      {
       "output_type": "stream",
       "stream": "stdout",
       "text": [
        "\n",
        "Avg Accuracy:  0.77924\n"
       ]
      }
     ],
     "prompt_number": 34
    },
    {
     "cell_type": "code",
     "collapsed": false,
     "input": [
      "classifier.show_most_informative_features(26)"
     ],
     "language": "python",
     "metadata": {},
     "outputs": [
      {
       "output_type": "stream",
       "stream": "stdout",
       "text": [
        "Most Informative Features\n",
        "             last_letter = u'k'             male : female =     44.6 : 1.0\n",
        "             last_letter = u'a'           female : male   =     36.8 : 1.0\n",
        "             last_letter = u'f'             male : female =     16.7 : 1.0\n",
        "             last_letter = u'p'             male : female =     11.9 : 1.0\n",
        "             last_letter = u'v'             male : female =     11.2 : 1.0\n",
        "             last_letter = u'd'             male : female =     11.2 : 1.0\n",
        "             last_letter = u'm'             male : female =      9.1 : 1.0\n",
        "             last_letter = u'o'             male : female =      8.1 : 1.0\n",
        "             last_letter = u'r'             male : female =      7.0 : 1.0\n",
        "             last_letter = u'w'             male : female =      6.6 : 1.0\n",
        "             last_letter = u'g'             male : female =      4.9 : 1.0\n",
        "            first_letter = u'W'             male : female =      4.6 : 1.0\n",
        "             last_letter = u'z'             male : female =      4.4 : 1.0\n",
        "             last_letter = u's'             male : female =      4.1 : 1.0\n",
        "             last_letter = u'j'             male : female =      4.0 : 1.0\n",
        "             last_letter = u't'             male : female =      3.9 : 1.0\n",
        "             last_letter = u'i'           female : male   =      3.7 : 1.0\n",
        "             last_letter = u'b'             male : female =      3.5 : 1.0\n",
        "             last_letter = u'u'             male : female =      3.3 : 1.0\n",
        "            first_letter = u'X'             male : female =      2.8 : 1.0\n",
        "            first_letter = u'U'             male : female =      2.6 : 1.0\n",
        "            first_letter = u'Q'             male : female =      2.4 : 1.0\n",
        "            first_letter = u'K'           female : male   =      2.3 : 1.0\n",
        "            first_letter = u'H'             male : female =      2.2 : 1.0\n",
        "                  length = 3                male : female =      2.1 : 1.0\n",
        "             last_letter = u'n'             male : female =      2.0 : 1.0\n"
       ]
      }
     ],
     "prompt_number": 35
    },
    {
     "cell_type": "markdown",
     "metadata": {},
     "source": [
      "**\"Big\" data note**: When working with large data sets, constructing a single list that contains the features of _every_ instance can use up a large amount of memory. In these cases, use the function `nltk.classify.apply_features`, which returns an object that acts like a list but does not store all the feature sets in memory:"
     ]
    },
    {
     "cell_type": "code",
     "collapsed": false,
     "input": [
      "from nltk.classify import apply_features\n",
      "random.shuffle(labeled_names)\n",
      "train_set = apply_features(gender_features, labeled_names[500:])\n",
      "test_set = apply_features(gender_features, labeled_names[:500])"
     ],
     "language": "python",
     "metadata": {},
     "outputs": [],
     "prompt_number": 36
    },
    {
     "cell_type": "heading",
     "level": 3,
     "metadata": {},
     "source": [
      "Choosing the right features"
     ]
    },
    {
     "cell_type": "markdown",
     "metadata": {},
     "source": [
      "Selecting relevant features and deciding how to encode them for a learning method can have an enormous impact on the learning method's ability to extract a good model. Much of the interesting work in building a classifier is deciding what features might be relevant, and how we can represent them. Although it's often possible to get decent performance by using a fairly simple and obvious set of features, there are usually significant gains to be had by using carefully constructed features based on a thorough understanding of the task at hand.\n",
      "\n",
      "Typically, feature extractors are built through a process of trial-and-error, guided by intuitions about what information is relevant to the problem. It's common to start with a \"kitchen sink\" approach, including all the features that you can think of, and then checking to see which features actually are helpful."
     ]
    },
    {
     "cell_type": "code",
     "collapsed": false,
     "input": [
      "def gender_features_expanded(name):\n",
      "    features = {}\n",
      "    features[\"first_letter\"] = name[0].lower()\n",
      "    features[\"last_letter\"] = name[-1].lower()\n",
      "    for letter in 'abcdefghijklmnopqrstuvwxyz':\n",
      "        features[\"count(%s)\" % letter] = name.lower().count(letter)\n",
      "        features[\"has(%s)\" % letter] = (letter in name.lower())\n",
      "    return features\n",
      "\n",
      "print gender_features_expanded('Panos')"
     ],
     "language": "python",
     "metadata": {},
     "outputs": [
      {
       "output_type": "stream",
       "stream": "stdout",
       "text": [
        "{'count(u)': 0, 'has(d)': False, 'count(b)': 0, 'count(w)': 0, 'has(b)': False, 'count(l)': 0, 'count(q)': 0, 'count(n)': 1, 'has(j)': False, 'count(s)': 1, 'count(h)': 0, 'has(h)': False, 'has(y)': False, 'count(j)': 0, 'has(f)': False, 'has(o)': True, 'count(x)': 0, 'has(m)': False, 'count(z)': 0, 'has(k)': False, 'has(u)': False, 'count(d)': 0, 'has(s)': True, 'count(m)': 0, 'count(f)': 0, 'has(q)': False, 'has(w)': False, 'has(e)': False, 'has(z)': False, 'count(t)': 0, 'count(c)': 0, 'has(c)': False, 'has(x)': False, 'count(v)': 0, 'has(a)': True, 'last_letter': 's', 'has(v)': False, 'count(p)': 1, 'count(o)': 1, 'first_letter': 'p', 'has(i)': False, 'count(i)': 0, 'has(r)': False, 'has(g)': False, 'count(k)': 0, 'count(y)': 0, 'has(n)': True, 'has(l)': False, 'count(e)': 0, 'has(t)': False, 'count(g)': 0, 'count(r)': 0, 'count(a)': 1, 'has(p)': True}\n"
       ]
      }
     ],
     "prompt_number": 37
    },
    {
     "cell_type": "code",
     "collapsed": false,
     "input": [
      "train_set[:5]"
     ],
     "language": "python",
     "metadata": {},
     "outputs": [
      {
       "metadata": {},
       "output_type": "pyout",
       "prompt_number": 38,
       "text": [
        "[({'first_letter': 'm', 'length': 4, 'last_letter': 'e'}, u'Scarface'), ({'first_letter': 'm', 'length': 4, 'last_letter': 'e'}, u'Broddie'), ...]"
       ]
      }
     ],
     "prompt_number": 38
    },
    {
     "cell_type": "markdown",
     "metadata": {},
     "source": [
      "However, there are usually limits to the number of features that you should use with a given learning algorithm \u2014 if we provide too many features, then the algorithm will have a higher chance of relying on idiosyncrasies of your training data that don't generalize well to new examples. This problem is known as **overfitting**, and can be especially problematic when working with small training sets. \n",
      "\n",
      "For example, if we train a naive Bayes classifier using the feature extractor shown in 1.2, it will overfit relatively small training set, resulting in a system whose accuracy is lower than the accuracy of a classifier that only pays attention to the final letter of each name:"
     ]
    },
    {
     "cell_type": "code",
     "collapsed": false,
     "input": [
      "random.shuffle(labeled_names)\n",
      "featuresets = [(gender_features_expanded(n), gender) for (gender, n) in labeled_names]\n",
      "train_set, test_set = featuresets[500:], featuresets[:500]\n",
      "train_names, test_names = labeled_names[500:], labeled_names[:500]\n",
      "classifier = nltk.NaiveBayesClassifier.train(train_set)\n",
      "print(nltk.classify.accuracy(classifier, test_set))\n",
      "classifier.show_most_informative_features(20)"
     ],
     "language": "python",
     "metadata": {},
     "outputs": [
      {
       "output_type": "stream",
       "stream": "stdout",
       "text": [
        "0.768\n",
        "Most Informative Features\n",
        "             last_letter = u'a'           female : male   =     33.6 : 1.0\n",
        "             last_letter = u'k'             male : female =     31.2 : 1.0\n",
        "             last_letter = u'f'             male : female =     16.6 : 1.0\n",
        "             last_letter = u'm'             male : female =     11.5 : 1.0\n",
        "             last_letter = u'p'             male : female =     11.2 : 1.0\n",
        "             last_letter = u'v'             male : female =     11.2 : 1.0\n",
        "             last_letter = u'd'             male : female =     10.0 : 1.0\n",
        "             last_letter = u'o'             male : female =      8.6 : 1.0\n",
        "                count(v) = 2              female : male   =      8.5 : 1.0\n",
        "             last_letter = u'r'             male : female =      6.9 : 1.0\n",
        "             last_letter = u'z'             male : female =      5.6 : 1.0\n",
        "                count(a) = 3              female : male   =      5.0 : 1.0\n",
        "             last_letter = u'w'             male : female =      4.8 : 1.0\n",
        "             last_letter = u'b'             male : female =      4.6 : 1.0\n",
        "             last_letter = u'g'             male : female =      4.6 : 1.0\n",
        "            first_letter = u'w'             male : female =      4.6 : 1.0\n",
        "             last_letter = u's'             male : female =      4.4 : 1.0\n",
        "                count(w) = 1                male : female =      4.3 : 1.0\n",
        "                  has(w) = True             male : female =      4.3 : 1.0\n",
        "             last_letter = u't'             male : female =      4.0 : 1.0\n"
       ]
      }
     ],
     "prompt_number": 39
    },
    {
     "cell_type": "markdown",
     "metadata": {},
     "source": [
      "So, let's keep our original classifier"
     ]
    },
    {
     "cell_type": "code",
     "collapsed": false,
     "input": [
      "random.shuffle(labeled_names)\n",
      "featuresets = [(gender_features(n), gender) for (gender, n) in labeled_names]\n",
      "train_set, test_set = featuresets[500:], featuresets[:500]\n",
      "train_names, test_names = labeled_names[500:], labeled_names[:500]\n",
      "classifier = nltk.NaiveBayesClassifier.train(train_set)\n",
      "print(nltk.classify.accuracy(classifier, test_set))"
     ],
     "language": "python",
     "metadata": {},
     "outputs": [
      {
       "output_type": "stream",
       "stream": "stdout",
       "text": [
        "0.778\n"
       ]
      }
     ],
     "prompt_number": 40
    },
    {
     "cell_type": "markdown",
     "metadata": {},
     "source": [
      "We can generate a list of the errors that the classifier makes when predicting name genders:"
     ]
    },
    {
     "cell_type": "code",
     "collapsed": false,
     "input": [
      "errors = []\n",
      "for (correct, name) in test_names:\n",
      "    guess = classifier.classify(gender_features(name))\n",
      "    if correct != guess:\n",
      "        errors.append( (correct, guess, name) )"
     ],
     "language": "python",
     "metadata": {},
     "outputs": [],
     "prompt_number": 41
    },
    {
     "cell_type": "code",
     "collapsed": false,
     "input": [
      "len(errors)"
     ],
     "language": "python",
     "metadata": {},
     "outputs": [
      {
       "metadata": {},
       "output_type": "pyout",
       "prompt_number": 42,
       "text": [
        "111"
       ]
      }
     ],
     "prompt_number": 42
    },
    {
     "cell_type": "code",
     "collapsed": false,
     "input": [
      "errors"
     ],
     "language": "python",
     "metadata": {},
     "outputs": [
      {
       "metadata": {},
       "output_type": "pyout",
       "prompt_number": 43,
       "text": [
        "[('female', 'male', u'Rochell'),\n",
        " ('female', 'male', u'Floris'),\n",
        " ('female', 'male', u'Hildy'),\n",
        " ('female', 'male', u'Lilas'),\n",
        " ('female', 'male', u'Fawn'),\n",
        " ('female', 'male', u'Liz'),\n",
        " ('male', 'female', u'Dave'),\n",
        " ('male', 'female', u'Edie'),\n",
        " ('female', 'male', u'Ayn'),\n",
        " ('female', 'male', u'Leland'),\n",
        " ('female', 'male', u'Bridget'),\n",
        " ('male', 'female', u'Kevan'),\n",
        " ('female', 'male', u'Janeen'),\n",
        " ('female', 'male', u'Reiko'),\n",
        " ('male', 'female', u'Devin'),\n",
        " ('male', 'female', u'Johny'),\n",
        " ('female', 'male', u'Anais'),\n",
        " ('male', 'female', u'Jodi'),\n",
        " ('female', 'male', u'Alyss'),\n",
        " ('female', 'male', u'Starr'),\n",
        " ('female', 'male', u'Sherill'),\n",
        " ('male', 'female', u'Arron'),\n",
        " ('male', 'female', u'Deane'),\n",
        " ('male', 'female', u'Konstantin'),\n",
        " ('male', 'female', u'Ikey'),\n",
        " ('female', 'male', u'Kym'),\n",
        " ('male', 'female', u'Cyrille'),\n",
        " ('male', 'female', u'Temple'),\n",
        " ('male', 'female', u'Deryl'),\n",
        " ('female', 'male', u'Hetty'),\n",
        " ('male', 'female', u'Eddy'),\n",
        " ('female', 'male', u'Alleen'),\n",
        " ('male', 'female', u'Antoni'),\n",
        " ('male', 'female', u'Randi'),\n",
        " ('female', 'male', u'Bell'),\n",
        " ('male', 'female', u'Carlton'),\n",
        " ('female', 'male', u'Sheril'),\n",
        " ('male', 'female', u'Dennie'),\n",
        " ('female', 'male', u'Gwenn'),\n",
        " ('male', 'female', u'Morton'),\n",
        " ('male', 'female', u'Gabe'),\n",
        " ('male', 'female', u'Curtice'),\n",
        " ('male', 'female', u'Binky'),\n",
        " ('female', 'male', u'Mellisent'),\n",
        " ('female', 'male', u'Dix'),\n",
        " ('female', 'male', u'Milicent'),\n",
        " ('male', 'female', u'Marty'),\n",
        " ('female', 'male', u'Susannah'),\n",
        " ('female', 'male', u'Marijo'),\n",
        " ('male', 'female', u'Voltaire'),\n",
        " ('male', 'female', u'Moe'),\n",
        " ('male', 'female', u'Erny'),\n",
        " ('male', 'female', u'Alley'),\n",
        " ('male', 'female', u'Andie'),\n",
        " ('female', 'male', u'Ruthann'),\n",
        " ('female', 'male', u'Jo Ann'),\n",
        " ('female', 'male', u'Alisun'),\n",
        " ('male', 'female', u'Morly'),\n",
        " ('male', 'female', u'Emmy'),\n",
        " ('female', 'male', u'Rosamond'),\n",
        " ('female', 'male', u'Aryn'),\n",
        " ('male', 'female', u'Ripley'),\n",
        " ('female', 'male', u'Lin'),\n",
        " ('male', 'female', u'Laurance'),\n",
        " ('male', 'female', u'Frederich'),\n",
        " ('male', 'female', u'Westbrooke'),\n",
        " ('female', 'male', u'Val'),\n",
        " ('female', 'male', u'Ivy'),\n",
        " ('male', 'female', u'Connie'),\n",
        " ('female', 'male', u'Sheelah'),\n",
        " ('male', 'female', u'Michal'),\n",
        " ('female', 'male', u'Demeter'),\n",
        " ('male', 'female', u'Peirce'),\n",
        " ('male', 'female', u'Guthrey'),\n",
        " ('male', 'female', u'Carleigh'),\n",
        " ('male', 'female', u'Donnie'),\n",
        " ('male', 'female', u'Mikey'),\n",
        " ('male', 'female', u'Nikki'),\n",
        " ('male', 'female', u'Fairfax'),\n",
        " ('male', 'female', u'Randolph'),\n",
        " ('male', 'female', u'Neddy'),\n",
        " ('male', 'female', u'Sansone'),\n",
        " ('male', 'female', u'Manny'),\n",
        " ('female', 'male', u'Gray'),\n",
        " ('male', 'female', u'Dimitry'),\n",
        " ('male', 'female', u'Rodrique'),\n",
        " ('male', 'female', u'Marcel'),\n",
        " ('male', 'female', u'Noach'),\n",
        " ('male', 'female', u'Hodge'),\n",
        " ('male', 'female', u'Noah'),\n",
        " ('female', 'male', u'Fleur'),\n",
        " ('male', 'female', u'Miguel'),\n",
        " ('male', 'female', u'Gale'),\n",
        " ('male', 'female', u'Derby'),\n",
        " ('female', 'male', u'Sheelagh'),\n",
        " ('female', 'male', u'Tildy'),\n",
        " ('female', 'male', u'Quinn'),\n",
        " ('male', 'female', u'Adlai'),\n",
        " ('female', 'male', u'Gwendolyn'),\n",
        " ('female', 'male', u'Harriott'),\n",
        " ('female', 'male', u'Sophey'),\n",
        " ('male', 'female', u'Morse'),\n",
        " ('female', 'male', u'Rosabel'),\n",
        " ('male', 'female', u'Vinnie'),\n",
        " ('female', 'male', u'Tierney'),\n",
        " ('female', 'male', u'Eden'),\n",
        " ('male', 'female', u'Rudolph'),\n",
        " ('female', 'male', u'Kit'),\n",
        " ('female', 'male', u'Norean'),\n",
        " ('male', 'female', u'Verne'),\n",
        " ('female', 'male', u'Consuelo')]"
       ]
      }
     ],
     "prompt_number": 43
    },
    {
     "cell_type": "heading",
     "level": 4,
     "metadata": {},
     "source": [
      "Confusion Matrix"
     ]
    },
    {
     "cell_type": "markdown",
     "metadata": {},
     "source": [
      "If we want to learn more about the specific types of errors for our classifier, we can create a \"confusion matrix\". A confusion matrix shows the number of times that a classifier classifies a specific instance into a particular class (E.g., males as males, males as females, etc)."
     ]
    },
    {
     "cell_type": "code",
     "collapsed": false,
     "input": [
      "gold = [gender for (features,gender) in test_set]"
     ],
     "language": "python",
     "metadata": {},
     "outputs": [],
     "prompt_number": 44
    },
    {
     "cell_type": "code",
     "collapsed": false,
     "input": [
      "guess = [classifier.classify(features) for (features, gender) in test_set]"
     ],
     "language": "python",
     "metadata": {},
     "outputs": [],
     "prompt_number": 45
    },
    {
     "cell_type": "code",
     "collapsed": false,
     "input": [
      "gold = [gender for (features,gender) in test_set]\n",
      "guess = [classifier.classify(features) for (features, gender) in test_set]\n",
      "\n",
      "cm = nltk.ConfusionMatrix(gold, guess)\n"
     ],
     "language": "python",
     "metadata": {},
     "outputs": [],
     "prompt_number": 46
    },
    {
     "cell_type": "code",
     "collapsed": false,
     "input": [
      "print(cm.pp(sort_by_count=True, show_percents=False))"
     ],
     "language": "python",
     "metadata": {},
     "outputs": [
      {
       "output_type": "stream",
       "stream": "stdout",
       "text": [
        "       |   f     |\n",
        "       |   e     |\n",
        "       |   m   m |\n",
        "       |   a   a |\n",
        "       |   l   l |\n",
        "       |   e   e |\n",
        "-------+---------+\n",
        "female |<266> 50 |\n",
        "  male |  61<123>|\n",
        "-------+---------+\n",
        "(row = reference; col = test)\n",
        "\n"
       ]
      }
     ],
     "prompt_number": 47
    },
    {
     "cell_type": "code",
     "collapsed": false,
     "input": [
      "print(cm.pp(sort_by_count=True, show_percents=True))"
     ],
     "language": "python",
     "metadata": {},
     "outputs": [
      {
       "output_type": "stream",
       "stream": "stdout",
       "text": [
        "       |      f        |\n",
        "       |      e        |\n",
        "       |      m      m |\n",
        "       |      a      a |\n",
        "       |      l      l |\n",
        "       |      e      e |\n",
        "-------+---------------+\n",
        "female | <53.2%> 10.0% |\n",
        "  male |  12.2% <24.6%>|\n",
        "-------+---------------+\n",
        "(row = reference; col = test)\n",
        "\n"
       ]
      }
     ],
     "prompt_number": 48
    },
    {
     "cell_type": "raw",
     "metadata": {},
     "source": [
      "53.2/(53.2+10) female correct ; incorrect 10/(53.2+10)\n",
      "24.6/(12.2+24.6) male correct; incorrect"
     ]
    },
    {
     "cell_type": "markdown",
     "metadata": {},
     "source": [
      "We can then examine individual error cases where the model predicted the wrong label, and try to determine what additional pieces of information would allow it to make the right decision (or which existing pieces of information are tricking it into making the wrong decision). The feature set can then be adjusted accordingly. The names classifier that we have built generates about 100 errors on the test corpus:"
     ]
    },
    {
     "cell_type": "code",
     "collapsed": false,
     "input": [
      "for (correct, guess, name) in sorted(errors):\n",
      "    print('correct=%-8s guess=%-8s name=%-30s' % (correct, guess, name))"
     ],
     "language": "python",
     "metadata": {},
     "outputs": [
      {
       "output_type": "stream",
       "stream": "stdout",
       "text": [
        "correct=female   guess=male     name=Alisun                        \n",
        "correct=female   guess=male     name=Alleen                        \n",
        "correct=female   guess=male     name=Alyss                         \n",
        "correct=female   guess=male     name=Anais                         \n",
        "correct=female   guess=male     name=Aryn                          \n",
        "correct=female   guess=male     name=Ayn                           \n",
        "correct=female   guess=male     name=Bell                          \n",
        "correct=female   guess=male     name=Bridget                       \n",
        "correct=female   guess=male     name=Consuelo                      \n",
        "correct=female   guess=male     name=Demeter                       \n",
        "correct=female   guess=male     name=Dix                           \n",
        "correct=female   guess=male     name=Eden                          \n",
        "correct=female   guess=male     name=Fawn                          \n",
        "correct=female   guess=male     name=Fleur                         \n",
        "correct=female   guess=male     name=Floris                        \n",
        "correct=female   guess=male     name=Gray                          \n",
        "correct=female   guess=male     name=Gwendolyn                     \n",
        "correct=female   guess=male     name=Gwenn                         \n",
        "correct=female   guess=male     name=Harriott                      \n",
        "correct=female   guess=male     name=Hetty                         \n",
        "correct=female   guess=male     name=Hildy                         \n",
        "correct=female   guess=male     name=Ivy                           \n",
        "correct=female   guess=male     name=Janeen                        \n",
        "correct=female   guess=male     name=Jo Ann                        \n",
        "correct=female   guess=male     name=Kit                           \n",
        "correct=female   guess=male     name=Kym                           \n",
        "correct=female   guess=male     name=Leland                        \n",
        "correct=female   guess=male     name=Lilas                         \n",
        "correct=female   guess=male     name=Lin                           \n",
        "correct=female   guess=male     name=Liz                           \n",
        "correct=female   guess=male     name=Marijo                        \n",
        "correct=female   guess=male     name=Mellisent                     \n",
        "correct=female   guess=male     name=Milicent                      \n",
        "correct=female   guess=male     name=Norean                        \n",
        "correct=female   guess=male     name=Quinn                         \n",
        "correct=female   guess=male     name=Reiko                         \n",
        "correct=female   guess=male     name=Rochell                       \n",
        "correct=female   guess=male     name=Rosabel                       \n",
        "correct=female   guess=male     name=Rosamond                      \n",
        "correct=female   guess=male     name=Ruthann                       \n",
        "correct=female   guess=male     name=Sheelagh                      \n",
        "correct=female   guess=male     name=Sheelah                       \n",
        "correct=female   guess=male     name=Sheril                        \n",
        "correct=female   guess=male     name=Sherill                       \n",
        "correct=female   guess=male     name=Sophey                        \n",
        "correct=female   guess=male     name=Starr                         \n",
        "correct=female   guess=male     name=Susannah                      \n",
        "correct=female   guess=male     name=Tierney                       \n",
        "correct=female   guess=male     name=Tildy                         \n",
        "correct=female   guess=male     name=Val                           \n",
        "correct=male     guess=female   name=Adlai                         \n",
        "correct=male     guess=female   name=Alley                         \n",
        "correct=male     guess=female   name=Andie                         \n",
        "correct=male     guess=female   name=Antoni                        \n",
        "correct=male     guess=female   name=Arron                         \n",
        "correct=male     guess=female   name=Binky                         \n",
        "correct=male     guess=female   name=Carleigh                      \n",
        "correct=male     guess=female   name=Carlton                       \n",
        "correct=male     guess=female   name=Connie                        \n",
        "correct=male     guess=female   name=Curtice                       \n",
        "correct=male     guess=female   name=Cyrille                       \n",
        "correct=male     guess=female   name=Dave                          \n",
        "correct=male     guess=female   name=Deane                         \n",
        "correct=male     guess=female   name=Dennie                        \n",
        "correct=male     guess=female   name=Derby                         \n",
        "correct=male     guess=female   name=Deryl                         \n",
        "correct=male     guess=female   name=Devin                         \n",
        "correct=male     guess=female   name=Dimitry                       \n",
        "correct=male     guess=female   name=Donnie                        \n",
        "correct=male     guess=female   name=Eddy                          \n",
        "correct=male     guess=female   name=Edie                          \n",
        "correct=male     guess=female   name=Emmy                          \n",
        "correct=male     guess=female   name=Erny                          \n",
        "correct=male     guess=female   name=Fairfax                       \n",
        "correct=male     guess=female   name=Frederich                     \n",
        "correct=male     guess=female   name=Gabe                          \n",
        "correct=male     guess=female   name=Gale                          \n",
        "correct=male     guess=female   name=Guthrey                       \n",
        "correct=male     guess=female   name=Hodge                         \n",
        "correct=male     guess=female   name=Ikey                          \n",
        "correct=male     guess=female   name=Jodi                          \n",
        "correct=male     guess=female   name=Johny                         \n",
        "correct=male     guess=female   name=Kevan                         \n",
        "correct=male     guess=female   name=Konstantin                    \n",
        "correct=male     guess=female   name=Laurance                      \n",
        "correct=male     guess=female   name=Manny                         \n",
        "correct=male     guess=female   name=Marcel                        \n",
        "correct=male     guess=female   name=Marty                         \n",
        "correct=male     guess=female   name=Michal                        \n",
        "correct=male     guess=female   name=Miguel                        \n",
        "correct=male     guess=female   name=Mikey                         \n",
        "correct=male     guess=female   name=Moe                           \n",
        "correct=male     guess=female   name=Morly                         \n",
        "correct=male     guess=female   name=Morse                         \n",
        "correct=male     guess=female   name=Morton                        \n",
        "correct=male     guess=female   name=Neddy                         \n",
        "correct=male     guess=female   name=Nikki                         \n",
        "correct=male     guess=female   name=Noach                         \n",
        "correct=male     guess=female   name=Noah                          \n",
        "correct=male     guess=female   name=Peirce                        \n",
        "correct=male     guess=female   name=Randi                         \n",
        "correct=male     guess=female   name=Randolph                      \n",
        "correct=male     guess=female   name=Ripley                        \n",
        "correct=male     guess=female   name=Rodrique                      \n",
        "correct=male     guess=female   name=Rudolph                       \n",
        "correct=male     guess=female   name=Sansone                       \n",
        "correct=male     guess=female   name=Temple                        \n",
        "correct=male     guess=female   name=Verne                         \n",
        "correct=male     guess=female   name=Vinnie                        \n",
        "correct=male     guess=female   name=Voltaire                      \n",
        "correct=male     guess=female   name=Westbrooke                    \n"
       ]
      }
     ],
     "prompt_number": 49
    },
    {
     "cell_type": "markdown",
     "metadata": {},
     "source": [
      "Looking through this list of errors makes it clear that some suffixes that are more than one letter can be indicative of name genders. For example, names ending in yn appear to be predominantly female, despite the fact that names ending in n tend to be male; and names ending in ch are usually male, even though names that end in h tend to be female. We therefore adjust our feature extractor to include features for two-letter suffixes:"
     ]
    },
    {
     "cell_type": "code",
     "collapsed": false,
     "input": [
      "def gender_features(word):\n",
      "    return {'last_letter': word[-1:],\n",
      "           'last_two_letters': word[-2:]}\n",
      "\n",
      "random.shuffle(labeled_names)\n",
      "featuresets = [(gender_features(n), gender) for (gender, n) in labeled_names]\n",
      "train_set, test_set = featuresets[500:], featuresets[:500]\n",
      "train_names, test_names = labeled_names[500:], labeled_names[:500]\n",
      "classifier = nltk.NaiveBayesClassifier.train(train_set)\n",
      "print(nltk.classify.accuracy(classifier, test_set))"
     ],
     "language": "python",
     "metadata": {},
     "outputs": [
      {
       "output_type": "stream",
       "stream": "stdout",
       "text": [
        "0.794\n"
       ]
      }
     ],
     "prompt_number": 50
    },
    {
     "cell_type": "markdown",
     "metadata": {},
     "source": [
      "This error analysis procedure can then be repeated, checking for patterns in the errors that are made by the newly improved classifier. Each time the error analysis procedure is repeated, we should select a different test/training split, to ensure that the classifier does not start to reflect idiosyncrasies in the test set."
     ]
    },
    {
     "cell_type": "code",
     "collapsed": false,
     "input": [],
     "language": "python",
     "metadata": {},
     "outputs": []
    },
    {
     "cell_type": "heading",
     "level": 3,
     "metadata": {},
     "source": [
      "Document Classification"
     ]
    },
    {
     "cell_type": "markdown",
     "metadata": {},
     "source": [
      "A common classification task is to classify documents into categories. Let's use for this the Movie Reviews corpus from NLTK:"
     ]
    },
    {
     "cell_type": "code",
     "collapsed": false,
     "input": [
      "from nltk.corpus import movie_reviews\n",
      "\n",
      "categories = movie_reviews.categories()\n",
      "categories"
     ],
     "language": "python",
     "metadata": {},
     "outputs": [
      {
       "metadata": {},
       "output_type": "pyout",
       "prompt_number": 51,
       "text": [
        "[u'neg', u'pos']"
       ]
      }
     ],
     "prompt_number": 51
    },
    {
     "cell_type": "markdown",
     "metadata": {},
     "source": [
      "Now let's generate the list of files, each with its corresponding category."
     ]
    },
    {
     "cell_type": "code",
     "collapsed": false,
     "input": [
      "labeled_files = []\n",
      "for category in categories:\n",
      "    labeled_files += [(fileid, category) for fileid in movie_reviews.fileids(category)]"
     ],
     "language": "python",
     "metadata": {},
     "outputs": [],
     "prompt_number": 53
    },
    {
     "cell_type": "code",
     "collapsed": false,
     "input": [
      "labeled_files[:5]"
     ],
     "language": "python",
     "metadata": {},
     "outputs": [
      {
       "metadata": {},
       "output_type": "pyout",
       "prompt_number": 54,
       "text": [
        "[(u'neg/cv000_29416.txt', u'neg'),\n",
        " (u'neg/cv001_19502.txt', u'neg'),\n",
        " (u'neg/cv002_17424.txt', u'neg'),\n",
        " (u'neg/cv003_12683.txt', u'neg'),\n",
        " (u'neg/cv004_12641.txt', u'neg')]"
       ]
      }
     ],
     "prompt_number": 54
    },
    {
     "cell_type": "code",
     "collapsed": false,
     "input": [
      "labeled_files[-5:]"
     ],
     "language": "python",
     "metadata": {},
     "outputs": [
      {
       "metadata": {},
       "output_type": "pyout",
       "prompt_number": 55,
       "text": [
        "[(u'pos/cv995_21821.txt', u'pos'),\n",
        " (u'pos/cv996_11592.txt', u'pos'),\n",
        " (u'pos/cv997_5046.txt', u'pos'),\n",
        " (u'pos/cv998_14111.txt', u'pos'),\n",
        " (u'pos/cv999_13106.txt', u'pos')]"
       ]
      }
     ],
     "prompt_number": 55
    },
    {
     "cell_type": "code",
     "collapsed": false,
     "input": [
      "len(labeled_files)"
     ],
     "language": "python",
     "metadata": {},
     "outputs": [
      {
       "metadata": {},
       "output_type": "pyout",
       "prompt_number": 56,
       "text": [
        "2000"
       ]
      }
     ],
     "prompt_number": 56
    },
    {
     "cell_type": "code",
     "collapsed": false,
     "input": [
      "len([l for l in labeled_files if l[1]=='pos'])"
     ],
     "language": "python",
     "metadata": {},
     "outputs": [
      {
       "metadata": {},
       "output_type": "pyout",
       "prompt_number": 57,
       "text": [
        "1000"
       ]
      }
     ],
     "prompt_number": 57
    },
    {
     "cell_type": "code",
     "collapsed": false,
     "input": [
      "len([l for l in labeled_files if l[1]=='neg'])"
     ],
     "language": "python",
     "metadata": {},
     "outputs": [
      {
       "metadata": {},
       "output_type": "pyout",
       "prompt_number": 58,
       "text": [
        "1000"
       ]
      }
     ],
     "prompt_number": 58
    },
    {
     "cell_type": "markdown",
     "metadata": {},
     "source": [
      "Now let's create the features. We will create one feature per word, with a binary value, indicating whether the document contains the word or not. To limit the number of features that the classifier needs to process, we begin by constructing a list of the 2000 most frequent words in the overall corpus"
     ]
    },
    {
     "cell_type": "code",
     "collapsed": false,
     "input": [
      "import nltk\n",
      "\n",
      "all_words = nltk.FreqDist(w.lower() for w in movie_reviews.words() if w.isalpha())\n",
      "word_features = all_words.keys()[:2000]\n",
      "\n",
      "def document_features(fileid):\n",
      "    document_words = set(movie_reviews.words(fileid))\n",
      "    features = {}\n",
      "    for word in word_features:\n",
      "        features['contains(%s)' % word] = (word.lower() in document_words)\n",
      "    return features"
     ],
     "language": "python",
     "metadata": {},
     "outputs": [],
     "prompt_number": 59
    },
    {
     "cell_type": "code",
     "collapsed": false,
     "input": [
      "%timeit  document_features(\"pos/cv995_21821.txt\")"
     ],
     "language": "python",
     "metadata": {},
     "outputs": [
      {
       "output_type": "stream",
       "stream": "stdout",
       "text": [
        "100 loops, best of 3: 4.19 ms per loop\n"
       ]
      }
     ],
     "prompt_number": 60
    },
    {
     "cell_type": "code",
     "collapsed": false,
     "input": [
      "document_features(\"pos/cv995_21821.txt\")"
     ],
     "language": "python",
     "metadata": {},
     "outputs": [
      {
       "metadata": {},
       "output_type": "pyout",
       "prompt_number": 61,
       "text": [
        "{u'contains(aaaaaaaahhhh)': False,\n",
        " u'contains(aatish)': False,\n",
        " u'contains(abandons)': False,\n",
        " u'contains(abbots)': False,\n",
        " u'contains(abbott)': False,\n",
        " u'contains(abbreviated)': False,\n",
        " u'contains(abject)': False,\n",
        " u'contains(abnormally)': False,\n",
        " u'contains(aboard)': False,\n",
        " u'contains(abortion)': False,\n",
        " u'contains(aboslutely)': False,\n",
        " u'contains(abound)': False,\n",
        " u'contains(absense)': False,\n",
        " u'contains(absolute)': False,\n",
        " u'contains(absorbs)': False,\n",
        " u'contains(absurdities)': False,\n",
        " u'contains(abused)': False,\n",
        " u'contains(abuser)': False,\n",
        " u'contains(abuses)': False,\n",
        " u'contains(academia)': False,\n",
        " u'contains(academic)': False,\n",
        " u'contains(accommodations)': False,\n",
        " u'contains(accomplished)': False,\n",
        " u'contains(accomplishes)': False,\n",
        " u'contains(acted)': False,\n",
        " u'contains(activists)': False,\n",
        " u'contains(adapt)': False,\n",
        " u'contains(adaptable)': False,\n",
        " u'contains(adaptation)': False,\n",
        " u'contains(address)': False,\n",
        " u'contains(admire)': False,\n",
        " u'contains(admired)': False,\n",
        " u'contains(admirer)': False,\n",
        " u'contains(admires)': False,\n",
        " u'contains(admitedly)': False,\n",
        " u'contains(adroit)': False,\n",
        " u'contains(advertisement)': False,\n",
        " u'contains(advertisment)': False,\n",
        " u'contains(affairs)': False,\n",
        " u'contains(affiliated)': False,\n",
        " u'contains(afi)': False,\n",
        " u'contains(aggressivelly)': False,\n",
        " u'contains(agitation)': False,\n",
        " u'contains(ahern)': False,\n",
        " u'contains(ahmed)': False,\n",
        " u'contains(ahmet)': False,\n",
        " u'contains(aissa)': False,\n",
        " u'contains(alarming)': False,\n",
        " u'contains(alexandre)': False,\n",
        " u'contains(alice)': False,\n",
        " u'contains(alienbusting)': False,\n",
        " u'contains(allah)': False,\n",
        " u'contains(allan)': False,\n",
        " u'contains(allie)': False,\n",
        " u'contains(almasy)': False,\n",
        " u'contains(also)': True,\n",
        " u'contains(altogether)': False,\n",
        " u'contains(amalgamation)': False,\n",
        " u'contains(amarcord)': False,\n",
        " u'contains(ambiguities)': False,\n",
        " u'contains(ambling)': False,\n",
        " u'contains(americanised)': False,\n",
        " u'contains(amiss)': False,\n",
        " u'contains(amoeba)': False,\n",
        " u'contains(amphibians)': False,\n",
        " u'contains(amuck)': False,\n",
        " u'contains(amusements)': False,\n",
        " u'contains(anette)': False,\n",
        " u'contains(anonymously)': False,\n",
        " u'contains(antagonizes)': False,\n",
        " u'contains(anthesis)': False,\n",
        " u'contains(anthropologists)': False,\n",
        " u'contains(antichrist)': False,\n",
        " u'contains(antidote)': False,\n",
        " u'contains(antwerp)': False,\n",
        " u'contains(apace)': False,\n",
        " u'contains(appropriately)': False,\n",
        " u'contains(apropos)': False,\n",
        " u'contains(arkin)': False,\n",
        " u'contains(arlington)': False,\n",
        " u'contains(arousal)': False,\n",
        " u'contains(arrow)': False,\n",
        " u'contains(askew)': False,\n",
        " u'contains(assigns)': False,\n",
        " u'contains(assimilation)': False,\n",
        " u'contains(associating)': False,\n",
        " u'contains(assuring)': False,\n",
        " u'contains(atlantic)': False,\n",
        " u'contains(atlantis)': False,\n",
        " u'contains(attendance)': False,\n",
        " u'contains(attenuated)': False,\n",
        " u'contains(attorney)': False,\n",
        " u'contains(audaciously)': False,\n",
        " u'contains(aughra)': False,\n",
        " u'contains(aussies)': False,\n",
        " u'contains(automats)': False,\n",
        " u'contains(averse)': False,\n",
        " u'contains(awaiting)': False,\n",
        " u'contains(awake)': False,\n",
        " u'contains(awards)': False,\n",
        " u'contains(awestruck)': False,\n",
        " u'contains(awkwardness)': False,\n",
        " u'contains(ayla)': False,\n",
        " u'contains(babe)': False,\n",
        " u'contains(babs)': False,\n",
        " u'contains(baby)': False,\n",
        " u'contains(bacri)': False,\n",
        " u'contains(bakersfield)': False,\n",
        " u'contains(balaban)': False,\n",
        " u'contains(ballet)': False,\n",
        " u'contains(ballhaus)': False,\n",
        " u'contains(ballisitic)': False,\n",
        " u'contains(balsan)': False,\n",
        " u'contains(bamboo)': False,\n",
        " u'contains(bandaras)': False,\n",
        " u'contains(bandits)': False,\n",
        " u'contains(bannister)': False,\n",
        " u'contains(barbarino)': False,\n",
        " u'contains(barclay)': False,\n",
        " u'contains(barcode)': False,\n",
        " u'contains(barred)': False,\n",
        " u'contains(barrel)': False,\n",
        " u'contains(barren)': False,\n",
        " u'contains(barrymore)': False,\n",
        " u'contains(bartok)': False,\n",
        " u'contains(barton)': False,\n",
        " u'contains(bastad)': False,\n",
        " u'contains(batmans)': False,\n",
        " u'contains(battleships)': False,\n",
        " u'contains(bazooms)': False,\n",
        " u'contains(beaman)': False,\n",
        " u'contains(beatng)': False,\n",
        " u'contains(bedridden)': False,\n",
        " u'contains(beesley)': False,\n",
        " u'contains(behave)': False,\n",
        " u'contains(being)': True,\n",
        " u'contains(beings)': False,\n",
        " u'contains(bell)': False,\n",
        " u'contains(belloq)': False,\n",
        " u'contains(beloved)': False,\n",
        " u'contains(belt)': False,\n",
        " u'contains(benches)': False,\n",
        " u'contains(benefit)': False,\n",
        " u'contains(benigness)': False,\n",
        " u'contains(benson)': False,\n",
        " u'contains(beowolf)': False,\n",
        " u'contains(beristain)': False,\n",
        " u'contains(betraying)': False,\n",
        " u'contains(beware)': False,\n",
        " u'contains(beyer)': False,\n",
        " u'contains(bianca)': False,\n",
        " u'contains(bicentennial)': False,\n",
        " u'contains(biederman)': False,\n",
        " u'contains(bigfoot)': False,\n",
        " u'contains(bigscreen)': False,\n",
        " u'contains(bilingual)': False,\n",
        " u'contains(billboard)': False,\n",
        " u'contains(binding)': False,\n",
        " u'contains(binges)': False,\n",
        " u'contains(bios)': False,\n",
        " u'contains(birdie)': False,\n",
        " u'contains(blended)': False,\n",
        " u'contains(bliss)': False,\n",
        " u'contains(blizzard)': False,\n",
        " u'contains(blond)': False,\n",
        " u'contains(blonde)': False,\n",
        " u'contains(blunderheaded)': False,\n",
        " u'contains(blunted)': False,\n",
        " u'contains(boarded)': True,\n",
        " u'contains(boarder)': False,\n",
        " u'contains(boardroom)': False,\n",
        " u'contains(boatload)': False,\n",
        " u'contains(bogan)': False,\n",
        " u'contains(bogg)': False,\n",
        " u'contains(bogglingly)': False,\n",
        " u'contains(bogie)': False,\n",
        " u'contains(bogs)': False,\n",
        " u'contains(bohemians)': False,\n",
        " u'contains(boiled)': False,\n",
        " u'contains(boiler)': False,\n",
        " u'contains(bolstered)': False,\n",
        " u'contains(bongos)': False,\n",
        " u'contains(books)': False,\n",
        " u'contains(boondocks)': False,\n",
        " u'contains(boorman)': False,\n",
        " u'contains(boozed)': False,\n",
        " u'contains(bottom)': False,\n",
        " u'contains(bounce)': False,\n",
        " u'contains(bouncy)': False,\n",
        " u'contains(bouyant)': False,\n",
        " u'contains(boxing)': False,\n",
        " u'contains(boyum)': False,\n",
        " u'contains(bozo)': False,\n",
        " u'contains(braggarts)': False,\n",
        " u'contains(brainless)': False,\n",
        " u'contains(brassed)': False,\n",
        " u'contains(brazilian)': False,\n",
        " u'contains(breakfast)': False,\n",
        " u'contains(briesewitz)': False,\n",
        " u'contains(bringing)': False,\n",
        " u'contains(broader)': False,\n",
        " u'contains(broiled)': False,\n",
        " u'contains(brotherhood)': False,\n",
        " u'contains(bruckheimer)': False,\n",
        " u'contains(brunette)': False,\n",
        " u'contains(brutally)': False,\n",
        " u'contains(bubble)': False,\n",
        " u'contains(budget)': False,\n",
        " u'contains(bueller)': False,\n",
        " u'contains(buffed)': False,\n",
        " u'contains(buffet)': False,\n",
        " u'contains(bukater)': False,\n",
        " u'contains(buliwyf)': False,\n",
        " u'contains(bulow)': False,\n",
        " u'contains(bummer)': False,\n",
        " u'contains(bumming)': False,\n",
        " u'contains(bump)': False,\n",
        " u'contains(bums)': False,\n",
        " u'contains(bunker)': False,\n",
        " u'contains(bureaucrat)': False,\n",
        " u'contains(burial)': False,\n",
        " u'contains(burke)': False,\n",
        " u'contains(burley)': False,\n",
        " u'contains(bursting)': False,\n",
        " u'contains(busting)': False,\n",
        " u'contains(butchers)': False,\n",
        " u'contains(buzzsaw)': False,\n",
        " u'contains(byline)': False,\n",
        " u'contains(caan)': False,\n",
        " u'contains(cadence)': False,\n",
        " u'contains(caged)': False,\n",
        " u'contains(cages)': False,\n",
        " u'contains(cagey)': False,\n",
        " u'contains(caitlyn)': False,\n",
        " u'contains(calculation)': False,\n",
        " u'contains(cambodia)': False,\n",
        " u'contains(caned)': False,\n",
        " u'contains(canet)': False,\n",
        " u'contains(cannibal)': False,\n",
        " u'contains(cannibals)': False,\n",
        " u'contains(canning)': False,\n",
        " u'contains(canoeing)': False,\n",
        " u'contains(canran)': False,\n",
        " u'contains(capoeira)': False,\n",
        " u'contains(captivatingly)': False,\n",
        " u'contains(captive)': False,\n",
        " u'contains(caraciture)': False,\n",
        " u'contains(carelessly)': False,\n",
        " u'contains(carping)': False,\n",
        " u'contains(carrion)': False,\n",
        " u'contains(carters)': False,\n",
        " u'contains(cartman)': False,\n",
        " u'contains(caruso)': False,\n",
        " u'contains(cassette)': False,\n",
        " u'contains(casualness)': False,\n",
        " u'contains(catchiness)': False,\n",
        " u'contains(catchy)': False,\n",
        " u'contains(caused)': False,\n",
        " u'contains(causes)': False,\n",
        " u'contains(cavanaugh)': False,\n",
        " u'contains(cavity)': False,\n",
        " u'contains(cayman)': False,\n",
        " u'contains(ceasing)': False,\n",
        " u'contains(cecilia)': False,\n",
        " u'contains(celebrated)': False,\n",
        " u'contains(celebrates)': False,\n",
        " u'contains(cerebrally)': False,\n",
        " u'contains(cessation)': False,\n",
        " u'contains(chabert)': False,\n",
        " u'contains(chad)': False,\n",
        " u'contains(chain)': False,\n",
        " u'contains(chair)': False,\n",
        " u'contains(chap)': False,\n",
        " u'contains(chapelle)': False,\n",
        " u'contains(charade)': False,\n",
        " u'contains(charges)': False,\n",
        " u'contains(charmed)': False,\n",
        " u'contains(charnel)': False,\n",
        " u'contains(chat)': False,\n",
        " u'contains(chaz)': False,\n",
        " u'contains(cheaply)': False,\n",
        " u'contains(cheddar)': False,\n",
        " u'contains(cheekbones)': False,\n",
        " u'contains(cherbourg)': False,\n",
        " u'contains(childs)': False,\n",
        " u'contains(china)': False,\n",
        " u'contains(ching)': False,\n",
        " u'contains(chins)': False,\n",
        " u'contains(chirping)': False,\n",
        " u'contains(chlorine)': False,\n",
        " u'contains(choice)': False,\n",
        " u'contains(chomped)': False,\n",
        " u'contains(chopping)': False,\n",
        " u'contains(chorus)': False,\n",
        " u'contains(choudhury)': False,\n",
        " u'contains(chow)': False,\n",
        " u'contains(chrissy)': False,\n",
        " u'contains(chu)': False,\n",
        " u'contains(chucky)': False,\n",
        " u'contains(chyron)': False,\n",
        " u'contains(cigarettes)': False,\n",
        " u'contains(cincinnati)': False,\n",
        " u'contains(cinematic)': False,\n",
        " u'contains(circuitry)': False,\n",
        " u'contains(circumstances)': False,\n",
        " u'contains(civilian)': False,\n",
        " u'contains(civilians)': False,\n",
        " u'contains(clarified)': False,\n",
        " u'contains(clarkson)': False,\n",
        " u'contains(claustral)': False,\n",
        " u'contains(cleon)': False,\n",
        " u'contains(cleverness)': False,\n",
        " u'contains(clicked)': False,\n",
        " u'contains(clients)': False,\n",
        " u'contains(climb)': False,\n",
        " u'contains(climber)': False,\n",
        " u'contains(climbs)': False,\n",
        " u'contains(clock)': False,\n",
        " u'contains(cloris)': False,\n",
        " u'contains(clumsiness)': False,\n",
        " u'contains(coachmen)': False,\n",
        " u'contains(coaxed)': False,\n",
        " u'contains(coaxing)': False,\n",
        " u'contains(cobblers)': False,\n",
        " u'contains(codename)': False,\n",
        " u'contains(colleague)': False,\n",
        " u'contains(collectively)': False,\n",
        " u'contains(collided)': False,\n",
        " u'contains(collides)': False,\n",
        " u'contains(colonists)': False,\n",
        " u'contains(colorfully)': False,\n",
        " u'contains(colorized)': False,\n",
        " u'contains(combatants)': False,\n",
        " u'contains(comedy)': False,\n",
        " u'contains(comely)': False,\n",
        " u'contains(comically)': False,\n",
        " u'contains(commensurately)': False,\n",
        " u'contains(committing)': False,\n",
        " u'contains(company)': False,\n",
        " u'contains(comparitive)': False,\n",
        " u'contains(compass)': False,\n",
        " u'contains(competed)': False,\n",
        " u'contains(complexly)': False,\n",
        " u'contains(complicated)': False,\n",
        " u'contains(complicates)': False,\n",
        " u'contains(complications)': False,\n",
        " u'contains(comprehensible)': False,\n",
        " u'contains(concentrated)': False,\n",
        " u'contains(concentrates)': False,\n",
        " u'contains(conceptions)': False,\n",
        " u'contains(conceptually)': False,\n",
        " u'contains(conciousness)': False,\n",
        " u'contains(concurrence)': False,\n",
        " u'contains(condolences)': False,\n",
        " u'contains(confidence)': False,\n",
        " u'contains(confrontatory)': False,\n",
        " u'contains(confronts)': False,\n",
        " u'contains(congratulations)': False,\n",
        " u'contains(conjure)': False,\n",
        " u'contains(connection)': False,\n",
        " u'contains(conscious)': False,\n",
        " u'contains(conscription)': False,\n",
        " u'contains(consenting)': False,\n",
        " u'contains(considerable)': False,\n",
        " u'contains(considerably)': False,\n",
        " u'contains(consoles)': False,\n",
        " u'contains(continents)': False,\n",
        " u'contains(contrastingly)': False,\n",
        " u'contains(controversies)': False,\n",
        " u'contains(controversy)': False,\n",
        " u'contains(convincingly)': False,\n",
        " u'contains(cooking)': False,\n",
        " u'contains(cooks)': False,\n",
        " u'contains(coolness)': False,\n",
        " u'contains(coordinators)': False,\n",
        " u'contains(copious)': False,\n",
        " u'contains(copulate)': False,\n",
        " u'contains(copyrighted)': False,\n",
        " u'contains(cormack)': False,\n",
        " u'contains(corporate)': False,\n",
        " u'contains(corrected)': False,\n",
        " u'contains(corrects)': False,\n",
        " u'contains(corsucant)': False,\n",
        " u'contains(couple)': False,\n",
        " u'contains(courageously)': False,\n",
        " u'contains(courier)': False,\n",
        " u'contains(courses)': False,\n",
        " u'contains(courtesans)': False,\n",
        " u'contains(crackin)': False,\n",
        " u'contains(crackled)': False,\n",
        " u'contains(crackles)': False,\n",
        " u'contains(cranked)': False,\n",
        " u'contains(crashlands)': False,\n",
        " u'contains(crater)': False,\n",
        " u'contains(crates)': False,\n",
        " u'contains(crazies)': False,\n",
        " u'contains(cream)': False,\n",
        " u'contains(crescendo)': False,\n",
        " u'contains(critter)': False,\n",
        " u'contains(cronenberg)': False,\n",
        " u'contains(crook)': False,\n",
        " u'contains(crookier)': False,\n",
        " u'contains(crooned)': False,\n",
        " u'contains(crossroads)': False,\n",
        " u'contains(crotch)': False,\n",
        " u'contains(crowbar)': False,\n",
        " u'contains(crowd)': False,\n",
        " u'contains(crowdpleasing)': False,\n",
        " u'contains(crowe)': False,\n",
        " u'contains(crown)': False,\n",
        " u'contains(crowned)': False,\n",
        " u'contains(cuffs)': False,\n",
        " u'contains(cuisine)': False,\n",
        " u'contains(cultivating)': False,\n",
        " u'contains(cusack)': True,\n",
        " u'contains(customer)': False,\n",
        " u'contains(cynics)': False,\n",
        " u'contains(czech)': False,\n",
        " u'contains(dahlings)': False,\n",
        " u'contains(damian)': False,\n",
        " u'contains(damning)': False,\n",
        " u'contains(damnit)': False,\n",
        " u'contains(dampens)': False,\n",
        " u'contains(dancefloor)': False,\n",
        " u'contains(dangerfield)': False,\n",
        " u'contains(daqughter)': False,\n",
        " u'contains(dared)': False,\n",
        " u'contains(darnell)': False,\n",
        " u'contains(dave)': False,\n",
        " u'contains(davidovitch)': False,\n",
        " u'contains(deadpan)': False,\n",
        " u'contains(debilitating)': False,\n",
        " u'contains(decapitation)': False,\n",
        " u'contains(decorating)': False,\n",
        " u'contains(deductions)': False,\n",
        " u'contains(defeatist)': False,\n",
        " u'contains(defensively)': False,\n",
        " u'contains(deficiency)': False,\n",
        " u'contains(definition)': False,\n",
        " u'contains(deflate)': False,\n",
        " u'contains(deflection)': False,\n",
        " u'contains(defy)': False,\n",
        " u'contains(delectably)': False,\n",
        " u'contains(delicately)': False,\n",
        " u'contains(deloreans)': False,\n",
        " u'contains(delroy)': False,\n",
        " u'contains(demarco)': False,\n",
        " u'contains(demeaning)': False,\n",
        " u'contains(demolition)': False,\n",
        " u'contains(denny)': False,\n",
        " u'contains(dentures)': False,\n",
        " u'contains(denzel)': False,\n",
        " u'contains(depravity)': False,\n",
        " u'contains(derivative)': False,\n",
        " u'contains(deserved)': False,\n",
        " u'contains(deserves)': False,\n",
        " u'contains(designing)': False,\n",
        " u'contains(desiring)': False,\n",
        " u'contains(despised)': False,\n",
        " u'contains(despises)': False,\n",
        " u'contains(despite)': False,\n",
        " u'contains(detectives)': False,\n",
        " u'contains(detested)': False,\n",
        " u'contains(dethroned)': False,\n",
        " u'contains(dethrones)': False,\n",
        " u'contains(deuteronomy)': False,\n",
        " u'contains(devito)': False,\n",
        " u'contains(devoured)': False,\n",
        " u'contains(dialogueless)': False,\n",
        " u'contains(diapers)': False,\n",
        " u'contains(dickinson)': False,\n",
        " u'contains(dicks)': False,\n",
        " u'contains(didi)': False,\n",
        " u'contains(didn)': False,\n",
        " u'contains(diggler)': False,\n",
        " u'contains(dilbert)': False,\n",
        " u'contains(dilemnas)': False,\n",
        " u'contains(dimension)': False,\n",
        " u'contains(diminishing)': False,\n",
        " u'contains(dinosaurs)': False,\n",
        " u'contains(directs)': False,\n",
        " u'contains(dirtier)': False,\n",
        " u'contains(dirty)': False,\n",
        " u'contains(disasterous)': False,\n",
        " u'contains(disasters)': False,\n",
        " u'contains(discerning)': False,\n",
        " u'contains(disconnect)': False,\n",
        " u'contains(disdains)': False,\n",
        " u'contains(disengaging)': False,\n",
        " u'contains(disfigured)': False,\n",
        " u'contains(disgrace)': False,\n",
        " u'contains(disgraced)': False,\n",
        " u'contains(dishearteningly)': False,\n",
        " u'contains(disheveled)': False,\n",
        " u'contains(disilusioned)': False,\n",
        " u'contains(disintegrated)': False,\n",
        " u'contains(disjointed)': False,\n",
        " u'contains(dismantling)': False,\n",
        " u'contains(dismissed)': False,\n",
        " u'contains(dismisses)': False,\n",
        " u'contains(disobeying)': False,\n",
        " u'contains(dispite)': False,\n",
        " u'contains(displays)': False,\n",
        " u'contains(distractedness)': False,\n",
        " u'contains(distraction)': False,\n",
        " u'contains(disturbed)': False,\n",
        " u'contains(ditching)': False,\n",
        " u'contains(diverse)': False,\n",
        " u'contains(diverted)': False,\n",
        " u'contains(divine)': False,\n",
        " u'contains(diving)': False,\n",
        " u'contains(dna)': False,\n",
        " u'contains(doctoring)': False,\n",
        " u'contains(documentarian)': False,\n",
        " u'contains(dodie)': False,\n",
        " u'contains(dolly)': False,\n",
        " u'contains(dolph)': False,\n",
        " u'contains(domed)': False,\n",
        " u'contains(doom)': False,\n",
        " u'contains(door)': True,\n",
        " u'contains(doos)': False,\n",
        " u'contains(doreen)': False,\n",
        " u'contains(doubts)': True,\n",
        " u'contains(dowling)': False,\n",
        " u'contains(downloading)': False,\n",
        " u'contains(dozen)': False,\n",
        " u'contains(drafted)': False,\n",
        " u'contains(dragonflies)': False,\n",
        " u'contains(drilling)': False,\n",
        " u'contains(droning)': False,\n",
        " u'contains(droppingly)': False,\n",
        " u'contains(droves)': False,\n",
        " u'contains(dryland)': False,\n",
        " u'contains(dubious)': False,\n",
        " u'contains(dues)': False,\n",
        " u'contains(duet)': False,\n",
        " u'contains(dumbest)': False,\n",
        " u'contains(duper)': False,\n",
        " u'contains(dusty)': False,\n",
        " u'contains(dwells)': False,\n",
        " u'contains(dwindling)': False,\n",
        " u'contains(dyed)': False,\n",
        " u'contains(dyer)': False,\n",
        " u'contains(dynamics)': False,\n",
        " u'contains(dysfuntion)': False,\n",
        " u'contains(eddie)': False,\n",
        " u'contains(edgecomb)': False,\n",
        " u'contains(edged)': False,\n",
        " u'contains(edges)': False,\n",
        " u'contains(edouard)': False,\n",
        " u'contains(eduard)': False,\n",
        " u'contains(educational)': False,\n",
        " u'contains(eery)': False,\n",
        " u'contains(effects)': False,\n",
        " u'contains(effortlessly)': False,\n",
        " u'contains(eggar)': False,\n",
        " u'contains(egotistical)': False,\n",
        " u'contains(eighteen)': False,\n",
        " u'contains(elders)': False,\n",
        " u'contains(eleven)': False,\n",
        " u'contains(elgar)': False,\n",
        " u'contains(elisa)': False,\n",
        " u'contains(ellen)': False,\n",
        " u'contains(elmo)': False,\n",
        " u'contains(emanating)': False,\n",
        " u'contains(embark)': False,\n",
        " u'contains(embrassment)': False,\n",
        " u'contains(emergence)': False,\n",
        " u'contains(emergency)': False,\n",
        " u'contains(emerich)': False,\n",
        " u'contains(emmylou)': False,\n",
        " u'contains(emotion)': False,\n",
        " u'contains(employ)': False,\n",
        " u'contains(encourage)': False,\n",
        " u'contains(engaged)': False,\n",
        " u'contains(engages)': False,\n",
        " u'contains(engagingly)': False,\n",
        " u'contains(enjoys)': False,\n",
        " u'contains(enliven)': False,\n",
        " u'contains(enrols)': False,\n",
        " u'contains(entering)': False,\n",
        " u'contains(enthrall)': False,\n",
        " u'contains(episodes)': False,\n",
        " u'contains(eradicate)': False,\n",
        " u'contains(erica)': False,\n",
        " u'contains(erich)': False,\n",
        " u'contains(ernie)': False,\n",
        " u'contains(errors)': False,\n",
        " u'contains(espouses)': False,\n",
        " u'contains(essays)': False,\n",
        " u'contains(estimate)': False,\n",
        " u'contains(ethnocentric)': False,\n",
        " u'contains(euphegenia)': False,\n",
        " u'contains(everclear)': False,\n",
        " u'contains(everytime)': False,\n",
        " u'contains(exact)': False,\n",
        " u'contains(exaggerations)': False,\n",
        " u'contains(exasperating)': False,\n",
        " u'contains(excising)': False,\n",
        " u'contains(excitable)': False,\n",
        " u'contains(exclaimed)': False,\n",
        " u'contains(excuses)': False,\n",
        " u'contains(existential)': False,\n",
        " u'contains(existentialist)': False,\n",
        " u'contains(expanded)': False,\n",
        " u'contains(experience)': False,\n",
        " u'contains(explainable)': False,\n",
        " u'contains(explosions)': False,\n",
        " u'contains(exponential)': False,\n",
        " u'contains(expound)': False,\n",
        " u'contains(expressively)': False,\n",
        " u'contains(extend)': False,\n",
        " u'contains(extent)': False,\n",
        " u'contains(exuberantly)': False,\n",
        " u'contains(eyelids)': False,\n",
        " u'contains(f)': False,\n",
        " u'contains(fabric)': False,\n",
        " u'contains(faceted)': False,\n",
        " u'contains(faded)': False,\n",
        " u'contains(fades)': False,\n",
        " u'contains(fakeouts)': False,\n",
        " u'contains(fakery)': False,\n",
        " u'contains(falstaff)': False,\n",
        " u'contains(familar)': False,\n",
        " u'contains(fanatasies)': False,\n",
        " u'contains(farsical)': False,\n",
        " u'contains(faulkner)': False,\n",
        " u'contains(fearlessly)': False,\n",
        " u'contains(feasibility)': False,\n",
        " u'contains(featherbrained)': False,\n",
        " u'contains(featherweight)': False,\n",
        " u'contains(fecal)': False,\n",
        " u'contains(fedoras)': False,\n",
        " u'contains(feeling)': False,\n",
        " u'contains(festivities)': False,\n",
        " u'contains(feuds)': False,\n",
        " u'contains(fewer)': False,\n",
        " u'contains(fifteen)': True,\n",
        " u'contains(fig)': False,\n",
        " u'contains(filmcritic)': False,\n",
        " u'contains(fin)': False,\n",
        " u'contains(finklestein)': False,\n",
        " u'contains(firorina)': False,\n",
        " u'contains(firth)': False,\n",
        " u'contains(fisherman)': False,\n",
        " u'contains(fistfights)': False,\n",
        " u'contains(fit)': False,\n",
        " u'contains(fix)': False,\n",
        " u'contains(flashback)': False,\n",
        " u'contains(fleischer)': False,\n",
        " u'contains(flipper)': False,\n",
        " u'contains(flits)': False,\n",
        " u'contains(floated)': False,\n",
        " u'contains(flooded)': False,\n",
        " u'contains(flotsam)': False,\n",
        " u'contains(flowing)': False,\n",
        " u'contains(flyboy)': False,\n",
        " u'contains(followed)': False,\n",
        " u'contains(follower)': False,\n",
        " u'contains(following)': False,\n",
        " u'contains(fondled)': False,\n",
        " u'contains(fonzie)': False,\n",
        " u'contains(foregin)': False,\n",
        " u'contains(foregrounds)': False,\n",
        " u'contains(foreheads)': False,\n",
        " u'contains(formed)': False,\n",
        " u'contains(former)': False,\n",
        " u'contains(formulates)': False,\n",
        " u'contains(fornicators)': False,\n",
        " u'contains(forrester)': False,\n",
        " u'contains(forwarned)': False,\n",
        " u'contains(francesca)': False,\n",
        " u'contains(francesco)': False,\n",
        " u'contains(francois)': False,\n",
        " u'contains(freehold)': False,\n",
        " u'contains(freelance)': False,\n",
        " u'contains(frenchmen)': False,\n",
        " u'contains(frewer)': False,\n",
        " u'contains(friction)': False,\n",
        " u'contains(frieberg)': False,\n",
        " u'contains(friend)': False,\n",
        " u'contains(friggin)': False,\n",
        " u'contains(frighteners)': False,\n",
        " u'contains(frights)': False,\n",
        " u'contains(frizzi)': False,\n",
        " u'contains(frizzy)': False,\n",
        " u'contains(fro)': False,\n",
        " u'contains(frontgate)': False,\n",
        " u'contains(frowns)': False,\n",
        " u'contains(fruity)': False,\n",
        " u'contains(fry)': False,\n",
        " u'contains(fueled)': False,\n",
        " u'contains(fugitives)': False,\n",
        " u'contains(full)': False,\n",
        " u'contains(funicello)': False,\n",
        " u'contains(gadget)': False,\n",
        " u'contains(gallagher)': False,\n",
        " u'contains(gardenia)': False,\n",
        " u'contains(gases)': False,\n",
        " u'contains(gavan)': False,\n",
        " u'contains(genesis)': False,\n",
        " u'contains(geography)': False,\n",
        " u'contains(gershon)': False,\n",
        " u'contains(getaway)': False,\n",
        " u'contains(ghostbusters)': False,\n",
        " u'contains(gigolo)': False,\n",
        " u'contains(gisbourne)': False,\n",
        " u'contains(gladys)': False,\n",
        " u'contains(glamor)': False,\n",
        " u'contains(glasses)': False,\n",
        " u'contains(gleam)': False,\n",
        " u'contains(glean)': False,\n",
        " u'contains(glenne)': False,\n",
        " u'contains(gloating)': False,\n",
        " u'contains(globally)': False,\n",
        " u'contains(gloomy)': False,\n",
        " u'contains(glowers)': False,\n",
        " u'contains(goddamn)': False,\n",
        " u'contains(goggins)': False,\n",
        " u'contains(golden)': False,\n",
        " u'contains(goldsman)': False,\n",
        " u'contains(goodman)': False,\n",
        " u'contains(goody)': False,\n",
        " u'contains(gooey)': False,\n",
        " u'contains(goofing)': False,\n",
        " u'contains(gopher)': False,\n",
        " u'contains(goregeous)': False,\n",
        " u'contains(gorman)': False,\n",
        " u'contains(gown)': False,\n",
        " u'contains(graffiti)': False,\n",
        " u'contains(grandma)': False,\n",
        " u'contains(grapples)': False,\n",
        " u'contains(grasping)': False,\n",
        " u'contains(gratuitous)': False,\n",
        " u'contains(greatness)': False,\n",
        " u'contains(greener)': False,\n",
        " u'contains(greenwald)': False,\n",
        " u'contains(gregor)': False,\n",
        " u'contains(gripe)': False,\n",
        " u'contains(grooms)': False,\n",
        " u'contains(grope)': False,\n",
        " u'contains(grotesqe)': False,\n",
        " u'contains(grounded)': False,\n",
        " u'contains(grueling)': False,\n",
        " u'contains(guamo)': False,\n",
        " u'contains(guarded)': False,\n",
        " u'contains(guarding)': False,\n",
        " u'contains(guiler)': False,\n",
        " u'contains(guitry)': False,\n",
        " u'contains(gunshot)': False,\n",
        " u'contains(gypsies)': False,\n",
        " u'contains(hab)': False,\n",
        " u'contains(hackwork)': False,\n",
        " u'contains(had)': True,\n",
        " u'contains(hag)': False,\n",
        " u'contains(hai)': False,\n",
        " u'contains(hairdresser)': False,\n",
        " u'contains(hal)': False,\n",
        " u'contains(hallucinogenic)': False,\n",
        " u'contains(ham)': False,\n",
        " u'contains(han)': False,\n",
        " u'contains(handcuffs)': False,\n",
        " u'contains(hanging)': False,\n",
        " u'contains(hap)': False,\n",
        " u'contains(haplessly)': False,\n",
        " u'contains(har)': False,\n",
        " u'contains(harassing)': False,\n",
        " u'contains(harmonious)': False,\n",
        " u'contains(harnessed)': False,\n",
        " u'contains(harve)': False,\n",
        " u'contains(harvests)': False,\n",
        " u'contains(has)': True,\n",
        " u'contains(hash)': False,\n",
        " u'contains(haskin)': False,\n",
        " u'contains(hasn)': False,\n",
        " u'contains(hass)': False,\n",
        " u'contains(hat)': False,\n",
        " u'contains(hatchette)': False,\n",
        " u'contains(haunt)': False,\n",
        " u'contains(hav)': False,\n",
        " u'contains(haviland)': False,\n",
        " u'contains(haw)': False,\n",
        " u'contains(hawaiian)': False,\n",
        " u'contains(hawkes)': False,\n",
        " u'contains(hay)': False,\n",
        " u'contains(haystack)': False,\n",
        " u'contains(headset)': False,\n",
        " u'contains(healed)': False,\n",
        " u'contains(healer)': False,\n",
        " u'contains(heartedness)': False,\n",
        " u'contains(heavyweight)': False,\n",
        " u'contains(heebie)': False,\n",
        " u'contains(heirloom)': False,\n",
        " u'contains(henceforth)': False,\n",
        " u'contains(hennings)': False,\n",
        " u'contains(henpecked)': False,\n",
        " u'contains(henreid)': False,\n",
        " u'contains(hercules)': False,\n",
        " u'contains(herzfeld)': False,\n",
        " u'contains(hessian)': False,\n",
        " u'contains(hickey)': False,\n",
        " u'contains(hideaway)': False,\n",
        " u'contains(highs)': False,\n",
        " u'contains(himalayas)': False,\n",
        " u'contains(hockley)': False,\n",
        " u'contains(hofstra)': False,\n",
        " u'contains(holdover)': False,\n",
        " u'contains(homogeneity)': False,\n",
        " u'contains(hone)': False,\n",
        " u'contains(honeymoon)': False,\n",
        " u'contains(hong)': False,\n",
        " u'contains(honk)': False,\n",
        " u'contains(hopkins)': False,\n",
        " u'contains(hormones)': False,\n",
        " u'contains(horndog)': False,\n",
        " u'contains(horsing)': False,\n",
        " u'contains(hotcakes)': False,\n",
        " u'contains(hounded)': False,\n",
        " u'contains(hounds)': False,\n",
        " u'contains(houseman)': False,\n",
        " u'contains(houston)': False,\n",
        " u'contains(hoyle)': False,\n",
        " u'contains(huddled)': False,\n",
        " u'contains(huge)': False,\n",
        " u'contains(hugh)': False,\n",
        " u'contains(hugo)': False,\n",
        " u'contains(hugs)': False,\n",
        " u'contains(humbled)': False,\n",
        " u'contains(humbler)': False,\n",
        " u'contains(humpback)': False,\n",
        " u'contains(hunk)': False,\n",
        " u'contains(hurricaine)': False,\n",
        " u'contains(hypnotist)': False,\n",
        " u'contains(hypsy)': False,\n",
        " u'contains(ideally)': False,\n",
        " u'contains(idle)': False,\n",
        " u'contains(idly)': False,\n",
        " u'contains(idols)': False,\n",
        " u'contains(igniting)': False,\n",
        " u'contains(illness)': False,\n",
        " u'contains(imagined)': False,\n",
        " u'contains(imagines)': False,\n",
        " u'contains(impacted)': False,\n",
        " u'contains(impactful)': False,\n",
        " u'contains(impaling)': False,\n",
        " u'contains(implicit)': False,\n",
        " u'contains(impressions)': False,\n",
        " u'contains(improvisationaly)': False,\n",
        " u'contains(inanimate)': False,\n",
        " u'contains(incense)': False,\n",
        " u'contains(incongruent)': False,\n",
        " u'contains(inconsistent)': False,\n",
        " u'contains(indicative)': False,\n",
        " u'contains(indifference)': False,\n",
        " u'contains(indigenous)': False,\n",
        " u'contains(indiscretion)': False,\n",
        " u'contains(individuals)': False,\n",
        " u'contains(ineffable)': False,\n",
        " u'contains(infamous)': False,\n",
        " u'contains(infect)': False,\n",
        " u'contains(influence)': False,\n",
        " u'contains(influx)': False,\n",
        " u'contains(informants)': False,\n",
        " u'contains(ingrained)': False,\n",
        " u'contains(ingrid)': False,\n",
        " u'contains(inhuman)': False,\n",
        " u'contains(initation)': False,\n",
        " u'contains(initiate)': False,\n",
        " u'contains(initiated)': False,\n",
        " u'contains(initiation)': False,\n",
        " u'contains(innuendos)': False,\n",
        " u'contains(inquired)': False,\n",
        " u'contains(inquires)': False,\n",
        " u'contains(insane)': False,\n",
        " u'contains(insecurity)': False,\n",
        " u'contains(inserting)': False,\n",
        " u'contains(insight)': False,\n",
        " u'contains(instability)': False,\n",
        " u'contains(installed)': False,\n",
        " u'contains(insubordinate)': False,\n",
        " u'contains(insubordination)': False,\n",
        " u'contains(integrating)': False,\n",
        " u'contains(intelligent)': False,\n",
        " u'contains(intend)': False,\n",
        " u'contains(intended)': False,\n",
        " u'contains(intent)': False,\n",
        " u'contains(interactivity)': False,\n",
        " u'contains(internalize)': False,\n",
        " u'contains(interned)': False,\n",
        " u'contains(internet)': False,\n",
        " u'contains(interogation)': False,\n",
        " u'contains(interviewed)': False,\n",
        " u'contains(intestines)': False,\n",
        " u'contains(into)': True,\n",
        " u'contains(intoxicating)': False,\n",
        " u'contains(intrepid)': False,\n",
        " u'contains(introspection)': False,\n",
        " u'contains(inventively)': False,\n",
        " u'contains(investment)': False,\n",
        " u'contains(invite)': False,\n",
        " u'contains(ira)': False,\n",
        " u'contains(ire)': False,\n",
        " u'contains(irs)': False,\n",
        " u'contains(isaac)': False,\n",
        " u'contains(isaak)': False,\n",
        " u'contains(isacsson)': False,\n",
        " u'contains(islamic)': False,\n",
        " u'contains(israel)': False,\n",
        " u'contains(issac)': False,\n",
        " u'contains(ivey)': False,\n",
        " u'contains(jacki)': False,\n",
        " u'contains(jacks)': False,\n",
        " u'contains(janusz)': False,\n",
        " u'contains(jargon)': False,\n",
        " u'contains(jere)': False,\n",
        " u'contains(jerk)': False,\n",
        " u'contains(jessalyn)': False,\n",
        " u'contains(jetsons)': False,\n",
        " u'contains(jewels)': False,\n",
        " u'contains(jia)': False,\n",
        " u'contains(jiang)': False,\n",
        " u'contains(jim)': False,\n",
        " u'contains(jip)': False,\n",
        " u'contains(jitters)': False,\n",
        " u'contains(jittery)': False,\n",
        " u'contains(joely)': False,\n",
        " u'contains(johnston)': False,\n",
        " u'contains(jonnie)': False,\n",
        " u'contains(jovivich)': False,\n",
        " u'contains(jovovich)': False,\n",
        " u'contains(jubilantly)': False,\n",
        " u'contains(juergen)': False,\n",
        " u'contains(jugs)': False,\n",
        " u'contains(justly)': False,\n",
        " u'contains(k)': False,\n",
        " u'contains(kaminski)': False,\n",
        " u'contains(kaminsky)': False,\n",
        " u'contains(kasinsky)': False,\n",
        " u'contains(katie)': False,\n",
        " u'contains(keeble)': False,\n",
        " u'contains(kensington)': False,\n",
        " u'contains(kethcum)': False,\n",
        " u'contains(kfc)': False,\n",
        " u'contains(kids)': False,\n",
        " u'contains(kihlstedt)': False,\n",
        " u'contains(kilgore)': False,\n",
        " u'contains(kindergartner)': False,\n",
        " u'contains(kinkiness)': False,\n",
        " u'contains(knocked)': False,\n",
        " u'contains(knowingly)': False,\n",
        " u'contains(koppelman)': False,\n",
        " u'contains(kret)': False,\n",
        " u'contains(krippendorf)': False,\n",
        " u'contains(kriss)': False,\n",
        " u'contains(kroon)': False,\n",
        " u'contains(kuei)': False,\n",
        " u'contains(kyzynski)': False,\n",
        " u'contains(lackies)': False,\n",
        " u'contains(lads)': False,\n",
        " u'contains(lameness)': False,\n",
        " u'contains(lana)': False,\n",
        " u'contains(land)': False,\n",
        " u'contains(landslide)': False,\n",
        " u'contains(lane)': False,\n",
        " u'contains(lang)': False,\n",
        " u'contains(lanky)': False,\n",
        " u'contains(lapping)': False,\n",
        " u'contains(lash)': False,\n",
        " u'contains(lass)': False,\n",
        " u'contains(lasso)': False,\n",
        " u'contains(last)': False,\n",
        " u'contains(laughton)': False,\n",
        " u'contains(lavishness)': False,\n",
        " u'contains(leadership)': False,\n",
        " u'contains(learn)': False,\n",
        " u'contains(leary)': False,\n",
        " u'contains(leeanne)': False,\n",
        " u'contains(legitimately)': False,\n",
        " u'contains(leia)': False,\n",
        " u'contains(leit)': False,\n",
        " u'contains(lengthen)': False,\n",
        " u'contains(leonardi)': False,\n",
        " u'contains(leonardo)': False,\n",
        " u'contains(leplastrier)': False,\n",
        " u'contains(liaisons)': False,\n",
        " u'contains(lick)': False,\n",
        " u'contains(liebes)': False,\n",
        " u'contains(lifeline)': False,\n",
        " u'contains(likeablity)': False,\n",
        " u'contains(limburgher)': False,\n",
        " u'contains(limitless)': False,\n",
        " u'contains(limousines)': False,\n",
        " u'contains(lindner)': False,\n",
        " u'contains(linebackers)': False,\n",
        " u'contains(lingering)': False,\n",
        " u'contains(lipstick)': False,\n",
        " u'contains(listens)': False,\n",
        " u'contains(lively)': False,\n",
        " u'contains(loca)': False,\n",
        " u'contains(localized)': False,\n",
        " u'contains(locations)': False,\n",
        " u'contains(lock)': False,\n",
        " u'contains(locked)': False,\n",
        " u'contains(locker)': False,\n",
        " u'contains(locket)': False,\n",
        " u'contains(locklear)': False,\n",
        " u'contains(locks)': False,\n",
        " u'contains(loco)': False,\n",
        " u'contains(locusts)': False,\n",
        " u'contains(loitered)': False,\n",
        " u'contains(lombard)': False,\n",
        " u'contains(lombardo)': False,\n",
        " u'contains(longo)': False,\n",
        " u'contains(longs)': False,\n",
        " u'contains(lookin)': False,\n",
        " u'contains(looted)': False,\n",
        " u'contains(loren)': False,\n",
        " u'contains(losin)': False,\n",
        " u'contains(loudness)': False,\n",
        " u'contains(lounging)': False,\n",
        " u'contains(loveliest)': False,\n",
        " u'contains(loyalties)': False,\n",
        " u'contains(lunges)': False,\n",
        " u'contains(lydia)': False,\n",
        " u'contains(lyndon)': False,\n",
        " u'contains(lyricized)': False,\n",
        " u'contains(macgowan)': False,\n",
        " u'contains(macho)': False,\n",
        " u'contains(macht)': False,\n",
        " u'contains(mackey)': False,\n",
        " u'contains(maclachlan)': False,\n",
        " u'contains(maclaine)': False,\n",
        " u'contains(mafioso)': False,\n",
        " u'contains(magma)': False,\n",
        " u'contains(magwitch)': False,\n",
        " u'contains(magyuver)': False,\n",
        " u'contains(majestically)': False,\n",
        " u'contains(majorino)': False,\n",
        " u'contains(maker)': False,\n",
        " u'contains(makes)': True,\n",
        " u'contains(malevolent)': False,\n",
        " u'contains(malfunctions)': False,\n",
        " u'contains(maliciously)': False,\n",
        " u'contains(malintentioned)': False,\n",
        " u'contains(maltese)': False,\n",
        " u'contains(manga)': False,\n",
        " u'contains(marched)': False,\n",
        " u'contains(marla)': False,\n",
        " u'contains(marlo)': False,\n",
        " u'contains(marquee)': False,\n",
        " u'contains(marshall)': False,\n",
        " u'contains(marshals)': False,\n",
        " u'contains(marshmallows)': False,\n",
        " u'contains(martineau)': False,\n",
        " u'contains(mason)': False,\n",
        " u'contains(masquerading)': False,\n",
        " u'contains(massaging)': False,\n",
        " u'contains(massironi)': False,\n",
        " u'contains(master)': True,\n",
        " u'contains(masturbates)': False,\n",
        " u'contains(masturbatory)': False,\n",
        " u'contains(mat)': False,\n",
        " u'contains(matchmakers)': False,\n",
        " u'contains(materialized)': False,\n",
        " u'contains(materializes)': False,\n",
        " u'contains(matheson)': False,\n",
        " u'contains(matilda)': False,\n",
        " u'contains(matrix)': False,\n",
        " u'contains(matsumoto)': False,\n",
        " u'contains(maude)': False,\n",
        " u'contains(maxwell)': False,\n",
        " u'contains(mayer)': False,\n",
        " u'contains(mba)': False,\n",
        " u'contains(mccleod)': False,\n",
        " u'contains(mcferran)': False,\n",
        " u'contains(mckidd)': False,\n",
        " u'contains(mcnamara)': False,\n",
        " u'contains(meaner)': False,\n",
        " u'contains(meantime)': False,\n",
        " u'contains(measurements)': False,\n",
        " u'contains(meddled)': False,\n",
        " u'contains(mediocrity)': False,\n",
        " u'contains(meditative)': False,\n",
        " u'contains(megabytes)': False,\n",
        " u'contains(melancholic)': False,\n",
        " u'contains(melbourne)': False,\n",
        " u'contains(melinda)': False,\n",
        " u'contains(memoirs)': False,\n",
        " u'contains(menacing)': False,\n",
        " u'contains(menancing)': False,\n",
        " u'contains(mendes)': False,\n",
        " u'contains(mensch)': False,\n",
        " u'contains(mentors)': False,\n",
        " u'contains(merpeople)': False,\n",
        " u'contains(mesmerize)': False,\n",
        " u'contains(messier)': False,\n",
        " u'contains(metamorphoses)': False,\n",
        " u'contains(meteorologist)': False,\n",
        " u'contains(methodologies)': False,\n",
        " u'contains(methods)': False,\n",
        " u'contains(middleton)': False,\n",
        " u'contains(midget)': False,\n",
        " u'contains(milked)': False,\n",
        " u'contains(millieu)': False,\n",
        " u'contains(millionaire)': False,\n",
        " u'contains(milquetoast)': False,\n",
        " u'contains(minah)': False,\n",
        " u'contains(mindless)': False,\n",
        " u'contains(miniatures)': False,\n",
        " u'contains(minnie)': False,\n",
        " u'contains(mintues)': False,\n",
        " u'contains(minute)': False,\n",
        " u'contains(mirabella)': False,\n",
        " u'contains(mirrors)': False,\n",
        " u'contains(misconstrued)': False,\n",
        " u'contains(misdemeanors)': False,\n",
        " u'contains(mishandle)': False,\n",
        " u'contains(mishap)': False,\n",
        " u'contains(missy)': False,\n",
        " u'contains(mistic)': False,\n",
        " u'contains(mistreated)': False,\n",
        " u'contains(moderately)': False,\n",
        " u'contains(modernizing)': False,\n",
        " u'contains(modest)': False,\n",
        " u'contains(modestly)': False,\n",
        " u'contains(moniker)': False,\n",
        " u'contains(monogamy)': False,\n",
        " u'contains(moons)': False,\n",
        " u'contains(mora)': False,\n",
        " u'contains(morally)': False,\n",
        " u'contains(more)': True,\n",
        " u'contains(mori)': False,\n",
        " u'contains(morose)': False,\n",
        " u'contains(mortified)': False,\n",
        " u'contains(mosques)': False,\n",
        " u'contains(motives)': False,\n",
        " u'contains(mournful)': False,\n",
        " u'contains(mouth)': False,\n",
        " u'contains(much)': True,\n",
        " u'contains(muck)': False,\n",
        " u'contains(multidimensional)': False,\n",
        " u'contains(multiracial)': False,\n",
        " u'contains(multitudes)': False,\n",
        " u'contains(mummified)': False,\n",
        " u'contains(municipality)': False,\n",
        " u'contains(murphy)': False,\n",
        " u'contains(music)': False,\n",
        " u'contains(mussenden)': False,\n",
        " u'contains(mute)': False,\n",
        " u'contains(muth)': False,\n",
        " u'contains(mutilated)': False,\n",
        " u'contains(mutinies)': False,\n",
        " u'contains(mystic)': False,\n",
        " u'contains(mythos)': False,\n",
        " u'contains(namuth)': False,\n",
        " u'contains(naomi)': False,\n",
        " u'contains(narrations)': False,\n",
        " u'contains(narratively)': False,\n",
        " u'contains(natalie)': False,\n",
        " u'contains(nature)': False,\n",
        " u'contains(natured)': False,\n",
        " u'contains(navigators)': False,\n",
        " u'contains(nears)': False,\n",
        " u'contains(neary)': False,\n",
        " u'contains(nebbish)': False,\n",
        " u'contains(needed)': False,\n",
        " u'contains(negativity)': False,\n",
        " u'contains(neglect)': False,\n",
        " u'contains(neilsen)': False,\n",
        " u'contains(neophytes)': False,\n",
        " u'contains(nervousness)': False,\n",
        " u'contains(neurologist)': False,\n",
        " u'contains(newspaper)': False,\n",
        " u'contains(next)': False,\n",
        " u'contains(nfeatured)': False,\n",
        " u'contains(niall)': False,\n",
        " u'contains(nicely)': False,\n",
        " u'contains(nighthawks)': False,\n",
        " u'contains(nirto)': False,\n",
        " u'contains(nntphub)': False,\n",
        " u'contains(noblewoman)': False,\n",
        " u'contains(nomi)': False,\n",
        " u'contains(nonsensical)': False,\n",
        " u'contains(nora)': False,\n",
        " u'contains(nordoff)': False,\n",
        " u'contains(norm)': False,\n",
        " u'contains(norville)': False,\n",
        " u'contains(nosebleeding)': False,\n",
        " u'contains(noteables)': False,\n",
        " u'contains(nothin)': False,\n",
        " u'contains(novelty)': False,\n",
        " u'contains(november)': False,\n",
        " u'contains(nuez)': False,\n",
        " u'contains(numeral)': False,\n",
        " u'contains(numeric)': False,\n",
        " u'contains(nuptials)': False,\n",
        " u'contains(obese)': False,\n",
        " u'contains(oblige)': False,\n",
        " u'contains(obliges)': False,\n",
        " u'contains(obscured)': False,\n",
        " u'contains(obscures)': False,\n",
        " u'contains(obssessed)': False,\n",
        " u'contains(occurs)': False,\n",
        " u'contains(ocious)': False,\n",
        " u'contains(oderkerk)': False,\n",
        " u'contains(odile)': False,\n",
        " u'contains(ofcs)': False,\n",
        " u'contains(ogled)': False,\n",
        " u'contains(oilrig)': False,\n",
        " u'contains(oingo)': False,\n",
        " u'contains(oldham)': False,\n",
        " u'contains(oldies)': False,\n",
        " u'contains(olds)': False,\n",
        " u'contains(omaha)': False,\n",
        " u'contains(one)': True,\n",
        " u'contains(oneness)': False,\n",
        " u'contains(onofrio)': False,\n",
        " u'contains(onw)': False,\n",
        " u'contains(ony)': False,\n",
        " u'contains(ooooooo)': False,\n",
        " u'contains(opal)': False,\n",
        " u'contains(opar)': False,\n",
        " u'contains(operation)': False,\n",
        " u'contains(opportunists)': False,\n",
        " u'contains(opposed)': False,\n",
        " u'contains(opposite)': False,\n",
        " u'contains(oprah)': False,\n",
        " u'contains(organisations)': False,\n",
        " u'contains(originality)': False,\n",
        " u'contains(originally)': False,\n",
        " u'contains(orleans)': False,\n",
        " u'contains(otherworldly)': False,\n",
        " u'contains(otto)': False,\n",
        " u'contains(outburst)': False,\n",
        " u'contains(outraging)': False,\n",
        " u'contains(overal)': False,\n",
        " u'contains(overboard)': False,\n",
        " u'contains(overcooked)': False,\n",
        " u'contains(overlord)': False,\n",
        " u'contains(overpopulated)': False,\n",
        " u'contains(overpowering)': False,\n",
        " u'contains(oversight)': False,\n",
        " u'contains(oversimplified)': False,\n",
        " u'contains(overthrow)': False,\n",
        " u'contains(overturned)': False,\n",
        " u'contains(overwhelmed)': False,\n",
        " u'contains(oxymoron)': False,\n",
        " u'contains(padded)': False,\n",
        " u'contains(painkiller)': False,\n",
        " u'contains(painstakingly)': False,\n",
        " u'contains(paired)': False,\n",
        " u'contains(pairs)': False,\n",
        " u'contains(paled)': False,\n",
        " u'contains(palentologist)': False,\n",
        " u'contains(pales)': False,\n",
        " u'contains(palisades)': False,\n",
        " u'contains(palladino)': False,\n",
        " u'contains(palme)': False,\n",
        " u'contains(palms)': False,\n",
        " u'contains(panicked)': False,\n",
        " u'contains(paper)': False,\n",
        " u'contains(paperwork)': False,\n",
        " u'contains(parachute)': False,\n",
        " u'contains(paraglider)': False,\n",
        " u'contains(parasites)': False,\n",
        " u'contains(parents)': False,\n",
        " u'contains(parlay)': False,\n",
        " u'contains(pasadena)': False,\n",
        " u'contains(pass)': False,\n",
        " u'contains(passenger)': False,\n",
        " u'contains(past)': False,\n",
        " u'contains(patch)': False,\n",
        " u'contains(patois)': False,\n",
        " u'contains(patriarch)': False,\n",
        " u'contains(patrolled)': False,\n",
        " u'contains(paychecks)': False,\n",
        " u'contains(peaceably)': False,\n",
        " u'contains(peculiarities)': False,\n",
        " u'contains(pell)': False,\n",
        " u'contains(pencil)': False,\n",
        " u'contains(penthouse)': False,\n",
        " u'contains(peppy)': False,\n",
        " u'contains(perfect)': False,\n",
        " u'contains(periodic)': False,\n",
        " u'contains(periodical)': False,\n",
        " u'contains(perishes)': False,\n",
        " u'contains(perpetrator)': False,\n",
        " u'contains(persistently)': False,\n",
        " u'contains(perturbed)': False,\n",
        " u'contains(pesimism)': False,\n",
        " u'contains(petey)': False,\n",
        " u'contains(petitions)': False,\n",
        " u'contains(petrice)': False,\n",
        " u'contains(phallus)': False,\n",
        " u'contains(phelps)': False,\n",
        " u'contains(phil)': False,\n",
        " u'contains(photon)': False,\n",
        " u'contains(photos)': False,\n",
        " u'contains(pimp)': False,\n",
        " u'contains(pimple)': False,\n",
        " u'contains(pimply)': False,\n",
        " u'contains(pinon)': False,\n",
        " u'contains(pinto)': False,\n",
        " u'contains(piscapo)': False,\n",
        " u'contains(pissant)': False,\n",
        " u'contains(pivot)': False,\n",
        " u'contains(plate)': False,\n",
        " u'contains(plath)': False,\n",
        " u'contains(plato)': False,\n",
        " u'contains(platt)': False,\n",
        " u'contains(playback)': False,\n",
        " u'contains(playfulness)': False,\n",
        " u'contains(playhouse)': False,\n",
        " u'contains(pleasured)': False,\n",
        " u'contains(pleasures)': False,\n",
        " u'contains(plotless)': False,\n",
        " u'contains(plucked)': False,\n",
        " u'contains(plunges)': False,\n",
        " u'contains(poignantly)': False,\n",
        " u'contains(polemic)': False,\n",
        " u'contains(policed)': False,\n",
        " u'contains(politicos)': False,\n",
        " u'contains(pooper)': False,\n",
        " u'contains(porpoise)': False,\n",
        " u'contains(portait)': False,\n",
        " u'contains(portents)': False,\n",
        " u'contains(portentuous)': False,\n",
        " u'contains(portillo)': False,\n",
        " u'contains(portobello)': False,\n",
        " u'contains(portorican)': False,\n",
        " u'contains(portrayed)': False,\n",
        " u'contains(portrays)': False,\n",
        " u'contains(positively)': False,\n",
        " u'contains(postal)': False,\n",
        " u'contains(powaqqatsi)': False,\n",
        " u'contains(prakazrel)': False,\n",
        " u'contains(prancer)': False,\n",
        " u'contains(prances)': False,\n",
        " u'contains(preciously)': False,\n",
        " u'contains(preference)': False,\n",
        " u'contains(premier)': False,\n",
        " u'contains(prepared)': False,\n",
        " u'contains(prescott)': False,\n",
        " u'contains(preservation)': False,\n",
        " u'contains(pressed)': False,\n",
        " u'contains(pretzel)': False,\n",
        " u'contains(pridefully)': False,\n",
        " u'contains(primeval)': False,\n",
        " u'contains(principals)': False,\n",
        " u'contains(pringles)': False,\n",
        " u'contains(printed)': False,\n",
        " u'contains(prior)': False,\n",
        " u'contains(prizes)': False,\n",
        " u'contains(process)': False,\n",
        " u'contains(procreate)': False,\n",
        " u'contains(procreating)': False,\n",
        " u'contains(procured)': False,\n",
        " u'contains(procures)': False,\n",
        " u'contains(prodigious)': False,\n",
        " u'contains(professionally)': False,\n",
        " u'contains(professors)': False,\n",
        " u'contains(professory)': False,\n",
        " u'contains(project)': False,\n",
        " u'contains(projection)': False,\n",
        " u'contains(promiss)': False,\n",
        " u'contains(promotional)': False,\n",
        " u'contains(proprietor)': False,\n",
        " u'contains(prosper)': False,\n",
        " u'contains(prostitues)': False,\n",
        " u'contains(prostrate)': False,\n",
        " u'contains(prostration)': False,\n",
        " u'contains(protovision)': False,\n",
        " u'contains(pseudonymous)': False,\n",
        " u'contains(psychiatric)': False,\n",
        " u'contains(pull)': False,\n",
        " u'contains(pulled)': False,\n",
        " u'contains(pulp)': False,\n",
        " u'contains(pumpkins)': False,\n",
        " u'contains(punishable)': False,\n",
        " u'contains(punts)': False,\n",
        " u'contains(puppy)': False,\n",
        " u'contains(purged)': False,\n",
        " u'contains(purred)': False,\n",
        " u'contains(puzzling)': False,\n",
        " u'contains(pyroclastic)': False,\n",
        " u'contains(quaint)': False,\n",
        " u'contains(quarter)': False,\n",
        " u'contains(quartet)': False,\n",
        " u'contains(quicker)': False,\n",
        " u'contains(quiclky)': False,\n",
        " u'contains(rabal)': False,\n",
        " u'contains(rabbinical)': False,\n",
        " u'contains(racers)': False,\n",
        " u'contains(raeeyain)': False,\n",
        " u'contains(rage)': False,\n",
        " u'contains(rags)': False,\n",
        " u'contains(raiders)': False,\n",
        " u'contains(rangers)': False,\n",
        " u'contains(raped)': False,\n",
        " u'contains(rapes)': False,\n",
        " u'contains(ratttz)': False,\n",
        " u'contains(raucous)': False,\n",
        " u'contains(rawhide)': False,\n",
        " u'contains(rayden)': False,\n",
        " u'contains(reacquaints)': False,\n",
        " u'contains(reactions)': False,\n",
        " u'contains(readings)': False,\n",
        " u'contains(realisation)': False,\n",
        " u'contains(realize)': False,\n",
        " u'contains(realized)': False,\n",
        " u'contains(realizes)': False,\n",
        " u'contains(reap)': False,\n",
        " u'contains(rebounding)': False,\n",
        " u'contains(rebuilding)': False,\n",
        " u'contains(receipt)': False,\n",
        " u'contains(recipients)': False,\n",
        " u'contains(reclining)': False,\n",
        " u'contains(recognizing)': False,\n",
        " u'contains(recoiling)': False,\n",
        " u'contains(recollections)': False,\n",
        " u'contains(recombination)': False,\n",
        " u'contains(reconciling)': False,\n",
        " u'contains(reconstruction)': False,\n",
        " u'contains(recycled)': False,\n",
        " u'contains(recycles)': False,\n",
        " u'contains(red)': False,\n",
        " u'contains(redirection)': False,\n",
        " u'contains(rediscovers)': False,\n",
        " u'contains(regressive)': False,\n",
        " u'contains(rehab)': False,\n",
        " u'contains(rehabilitation)': False,\n",
        " u'contains(rehash)': False,\n",
        " u'contains(reingold)': False,\n",
        " u'contains(reintroduced)': False,\n",
        " u'contains(reiser)': False,\n",
        " u'contains(rejoiced)': False,\n",
        " u'contains(rejoin)': False,\n",
        " u'contains(remand)': False,\n",
        " u'contains(remaning)': False,\n",
        " u'contains(remastered)': False,\n",
        " u'contains(remedy)': False,\n",
        " u'contains(remembrance)': False,\n",
        " u'contains(renovated)': False,\n",
        " u'contains(reopens)': False,\n",
        " u'contains(repayment)': False,\n",
        " u'contains(replied)': False,\n",
        " u'contains(reprisal)': False,\n",
        " u'contains(research)': False,\n",
        " u'contains(resemblances)': False,\n",
        " u'contains(resemble)': False,\n",
        " u'contains(resonated)': False,\n",
        " u'contains(resonates)': False,\n",
        " u'contains(resorts)': False,\n",
        " u'contains(resources)': False,\n",
        " u'contains(respective)': False,\n",
        " u'contains(respite)': False,\n",
        " u'contains(restlessness)': False,\n",
        " u'contains(restoring)': False,\n",
        " u'contains(restraints)': False,\n",
        " u'contains(resuscitate)': False,\n",
        " u'contains(retains)': False,\n",
        " u'contains(retarded)': False,\n",
        " u'contains(retell)': False,\n",
        " u'contains(retells)': False,\n",
        " u'contains(retrieve)': False,\n",
        " u'contains(retroactive)': False,\n",
        " u'contains(retrograding)': False,\n",
        " u'contains(retrospect)': False,\n",
        " u'contains(reuben)': False,\n",
        " u'contains(revelatory)': False,\n",
        " u'contains(reverence)': False,\n",
        " u'contains(revolutionized)': False,\n",
        " u'contains(rewarded)': False,\n",
        " u'contains(rewards)': False,\n",
        " u'contains(rewatched)': False,\n",
        " u'contains(rhodes)': False,\n",
        " u'contains(rhythmless)': False,\n",
        " u'contains(rica)': False,\n",
        " u'contains(rice)': False,\n",
        " u'contains(rich)': False,\n",
        " u'contains(richelieu)': False,\n",
        " u'contains(rick)': False,\n",
        " u'contains(rickman)': False,\n",
        " u'contains(rico)': False,\n",
        " u'contains(riders)': False,\n",
        " u'contains(rifling)': False,\n",
        " u'contains(rioters)': False,\n",
        " u'contains(riots)': False,\n",
        " u'contains(roadster)': False,\n",
        " u'contains(robot)': False,\n",
        " u'contains(rocque)': False,\n",
        " u'contains(role)': True,\n",
        " u'contains(rolf)': False,\n",
        " u'contains(roll)': False,\n",
        " u'contains(romper)': False,\n",
        " u'contains(rooker)': False,\n",
        " u'contains(rootless)': False,\n",
        " u'contains(roots)': False,\n",
        " u'contains(rosselini)': False,\n",
        " u'contains(rossi)': False,\n",
        " u'contains(rover)': False,\n",
        " u'contains(royalist)': False,\n",
        " u'contains(rudnick)': False,\n",
        " u'contains(rulebook)': False,\n",
        " u'contains(rumored)': False,\n",
        " u'contains(rush)': False,\n",
        " u'contains(russ)': False,\n",
        " u'contains(rza)': False,\n",
        " u'contains(s)': True,\n",
        " u'contains(sabotaging)': False,\n",
        " u'contains(saddened)': False,\n",
        " u'contains(saint)': False,\n",
        " u'contains(salads)': False,\n",
        " u'contains(salva)': False,\n",
        " u'contains(sand)': False,\n",
        " u'contains(sane)': False,\n",
        " u'contains(sang)': False,\n",
        " u'contains(sank)': False,\n",
        " u'contains(sans)': False,\n",
        " u'contains(sant)': False,\n",
        " u'contains(satire)': False,\n",
        " u'contains(satisfactory)': False,\n",
        " u'contains(sauce)': False,\n",
        " u'contains(saucy)': False,\n",
        " u'contains(saving)': False,\n",
        " u'contains(savini)': False,\n",
        " u'contains(saying)': False,\n",
        " u'contains(scalvaging)': False,\n",
        " u'contains(scatter)': False,\n",
        " u'contains(scenic)': False,\n",
        " u'contains(schandling)': False,\n",
        " u'contains(scharzenegger)': False,\n",
        " u'contains(sci)': False,\n",
        " u'contains(sciorra)': False,\n",
        " u'contains(scoffs)': False,\n",
        " u'contains(scold)': False,\n",
        " u'contains(scorces)': False,\n",
        " u'contains(scott)': False,\n",
        " u'contains(scraggly)': False,\n",
        " u'contains(scramble)': False,\n",
        " u'contains(scraped)': False,\n",
        " u'contains(scream)': False,\n",
        " u'contains(screaming)': False,\n",
        " u'contains(scrubs)': False,\n",
        " u'contains(scrumptiously)': False,\n",
        " u'contains(seagrave)': False,\n",
        " u'contains(sealed)': False,\n",
        " u'contains(seaman)': False,\n",
        " u'contains(sebastiano)': False,\n",
        " u'contains(seclusion)': False,\n",
        " u'contains(sects)': False,\n",
        " u'contains(secular)': False,\n",
        " u'contains(sedition)': False,\n",
        " u'contains(seize)': False,\n",
        " u'contains(sela)': False,\n",
        " u'contains(seldes)': False,\n",
        " u'contains(self)': False,\n",
        " u'contains(sell)': False,\n",
        " u'contains(seminal)': False,\n",
        " u'contains(sensational)': False,\n",
        " u'contains(sensitively)': False,\n",
        " u'contains(sensitivity)': False,\n",
        " u'contains(sentencing)': False,\n",
        " u'contains(septic)': False,\n",
        " u'contains(seriously)': False,\n",
        " u'contains(service)': False,\n",
        " u'contains(sever)': False,\n",
        " u'contains(sextette)': False,\n",
        " u'contains(shadow)': False,\n",
        " u'contains(shandling)': False,\n",
        " u'contains(shapely)': False,\n",
        " u'contains(sharpe)': False,\n",
        " u'contains(shawn)': False,\n",
        " u'contains(shenanigans)': False,\n",
        " u'contains(shipments)': False,\n",
        " u'contains(shirts)': False,\n",
        " u'contains(shocking)': False,\n",
        " u'contains(shocks)': False,\n",
        " u'contains(shockwave)': False,\n",
        " u'contains(shootout)': False,\n",
        " u'contains(shoots)': False,\n",
        " u'contains(shortage)': False,\n",
        " u'contains(shows)': False,\n",
        " u'contains(shread)': False,\n",
        " u'contains(sickening)': False,\n",
        " u'contains(sickeningly)': False,\n",
        " u'contains(sickness)': False,\n",
        " u'contains(sidebars)': False,\n",
        " u'contains(sidekicks)': False,\n",
        " u'contains(sierra)': False,\n",
        " u'contains(signs)': False,\n",
        " u'contains(signy)': False,\n",
        " u'contains(sikh)': False,\n",
        " u'contains(silencers)': False,\n",
        " u'contains(silva)': False,\n",
        " u'contains(simplify)': False,\n",
        " u'contains(simplistic)': False,\n",
        " u'contains(singed)': False,\n",
        " u'contains(singer)': False,\n",
        " u'contains(singled)': False,\n",
        " u'contains(singles)': False,\n",
        " u'contains(situation)': False,\n",
        " u'contains(sixteen)': False,\n",
        " u'contains(sked)': False,\n",
        " u'contains(skepticism)': False,\n",
        " u'contains(skewed)': False,\n",
        " u'contains(skewer)': False,\n",
        " u'contains(skirmish)': False,\n",
        " u'contains(skywalker)': False,\n",
        " u'contains(slashfest)': False,\n",
        " u'contains(slaver)': False,\n",
        " u'contains(sleuthing)': False,\n",
        " u'contains(slickster)': False,\n",
        " u'contains(slimeball)': False,\n",
        " u'contains(slothful)': False,\n",
        " u'contains(slurring)': False,\n",
        " u'contains(small)': False,\n",
        " u'contains(smashed)': False,\n",
        " u'contains(smashes)': False,\n",
        " u'contains(smelling)': False,\n",
        " u'contains(smiling)': False,\n",
        " u'contains(smirk)': False,\n",
        " u'contains(snake)': False,\n",
        " u'contains(snatch)': False,\n",
        " u'contains(snickered)': False,\n",
        " u'contains(snobbish)': False,\n",
        " u'contains(snuggles)': False,\n",
        " u'contains(snugly)': False,\n",
        " u'contains(soaked)': False,\n",
        " u'contains(societal)': False,\n",
        " u'contains(sock)': False,\n",
        " u'contains(socking)': False,\n",
        " u'contains(sojourn)': False,\n",
        " u'contains(solaris)': False,\n",
        " u'contains(sometimes)': False,\n",
        " u'contains(sommers)': False,\n",
        " u'contains(sommerset)': False,\n",
        " u'contains(songwriter)': False,\n",
        " u'contains(sonja)': False,\n",
        " u'contains(sonorra)': False,\n",
        " u'contains(sooty)': False,\n",
        " u'contains(sorted)': False,\n",
        " u'contains(soundbite)': False,\n",
        " u'contains(soviets)': False,\n",
        " u'contains(spacemusic)': False,\n",
        " u'contains(spam)': False,\n",
        " u'contains(span)': False,\n",
        " u'contains(spar)': False,\n",
        " u'contains(spat)': False,\n",
        " u'contains(spatula)': False,\n",
        " u'contains(spearing)': False,\n",
        " u'contains(spectrum)': False,\n",
        " u'contains(speedboat)': False,\n",
        " u'contains(spewing)': False,\n",
        " u'contains(spews)': False,\n",
        " u'contains(spiders)': False,\n",
        " u'contains(spielbergization)': False,\n",
        " u'contains(spilling)': False,\n",
        " u'contains(spin)': False,\n",
        " u'contains(spine)': False,\n",
        " u'contains(spins)': False,\n",
        " u'contains(spit)': False,\n",
        " u'contains(splashing)': False,\n",
        " u'contains(split)': False,\n",
        " u'contains(spoken)': False,\n",
        " u'contains(sponsor)': False,\n",
        " u'contains(sponsorship)': False,\n",
        " u'contains(sportsmanship)': False,\n",
        " u'contains(spotty)': False,\n",
        " u'contains(sprinkle)': False,\n",
        " u'contains(sprouted)': False,\n",
        " u'contains(spurting)': False,\n",
        " u'contains(spyglass)': False,\n",
        " u'contains(squabble)': False,\n",
        " u'contains(squeezes)': False,\n",
        " u'contains(squirming)': False,\n",
        " u'contains(squirt)': False,\n",
        " u'contains(stagecoach)': False,\n",
        " u'contains(stamping)': False,\n",
        " u'contains(stanleyville)': False,\n",
        " u'contains(starring)': False,\n",
        " u'contains(stays)': False,\n",
        " u'contains(stereotypical)': False,\n",
        " u'contains(stern)': False,\n",
        " u'contains(stetson)': False,\n",
        " u'contains(stifle)': False,\n",
        " u'contains(stifled)': False,\n",
        " u'contains(stifler)': False,\n",
        " u'contains(stifles)': False,\n",
        " u'contains(stillness)': False,\n",
        " u'contains(stipulate)': False,\n",
        " u'contains(stoically)': False,\n",
        " u'contains(stoicism)': False,\n",
        " u'contains(stoked)': False,\n",
        " u'contains(stoker)': False,\n",
        " u'contains(stormare)': False,\n",
        " u'contains(storyboarded)': False,\n",
        " u'contains(straighten)': False,\n",
        " u'contains(structuring)': False,\n",
        " u'contains(strums)': False,\n",
        " u'contains(studious)': False,\n",
        " u'contains(stylings)': False,\n",
        " u'contains(stylistics)': False,\n",
        " u'contains(subkoff)': False,\n",
        " u'contains(sublimated)': False,\n",
        " u'contains(sublte)': False,\n",
        " u'contains(subplots)': False,\n",
        " u'contains(suburbs)': False,\n",
        " u'contains(succumb)': False,\n",
        " u'contains(sucess)': False,\n",
        " u'contains(suffice)': False,\n",
        " u'contains(sugarplums)': False,\n",
        " u'contains(suitcases)': False,\n",
        " u'contains(suitors)': False,\n",
        " u'contains(sumo)': False,\n",
        " u'contains(sumptuous)': False,\n",
        " u'contains(sums)': False,\n",
        " u'contains(sunny)': False,\n",
        " u'contains(superintendent)': False,\n",
        " u'contains(superiority)': False,\n",
        " u'contains(suppression)': False,\n",
        " u'contains(surfing)': False,\n",
        " u'contains(surges)': False,\n",
        " u'contains(surname)': False,\n",
        " u'contains(survey)': False,\n",
        " u'contains(surveying)': False,\n",
        " u'contains(survival)': False,\n",
        " u'contains(suspensefully)': False,\n",
        " u'contains(suspension)': False,\n",
        " u'contains(sustaining)': False,\n",
        " u'contains(swanky)': False,\n",
        " u'contains(sweats)': False,\n",
        " u'contains(sweaty)': False,\n",
        " u'contains(swigert)': False,\n",
        " u'contains(symbolise)': False,\n",
        " u'contains(symmetry)': False,\n",
        " u'contains(sympathetically)': False,\n",
        " u'contains(sympathize)': False,\n",
        " u'contains(tahoe)': False,\n",
        " u'contains(taj)': False,\n",
        " u'contains(tamahori)': False,\n",
        " u'contains(tamara)': False,\n",
        " u'contains(tanked)': False,\n",
        " u'contains(tanker)': False,\n",
        " u'contains(tantalizingly)': False,\n",
        " u'contains(tardis)': False,\n",
        " u'contains(tarnish)': False,\n",
        " u'contains(tastefully)': False,\n",
        " u'contains(tasting)': False,\n",
        " u'contains(tech)': False,\n",
        " u'contains(teck)': False,\n",
        " u'contains(telefixated)': False,\n",
        " u'contains(telescope)': False,\n",
        " u'contains(tempted)': False,\n",
        " u'contains(tenacious)': False,\n",
        " u'contains(teresa)': False,\n",
        " u'contains(terrifyingly)': False,\n",
        " u'contains(terrorists)': False,\n",
        " u'contains(testament)': False,\n",
        " u'contains(testaments)': False,\n",
        " u'contains(tested)': False,\n",
        " u'contains(thaddeus)': False,\n",
        " u'contains(thai)': False,\n",
        " u'contains(thailand)': False,\n",
        " u'contains(thanking)': False,\n",
        " u'contains(thats)': False,\n",
        " u'contains(theater)': False,\n",
        " u'contains(therefore)': False,\n",
        " u'contains(theroux)': False,\n",
        " u'contains(thickened)': False,\n",
        " u'contains(thieves)': False,\n",
        " u'contains(thigh)': False,\n",
        " u'contains(thivisol)': False,\n",
        " u'contains(thomsen)': False,\n",
        " u'contains(thora)': False,\n",
        " u'contains(thrive)': False,\n",
        " u'contains(thumps)': False,\n",
        " u'contains(thurman)': False,\n",
        " u'contains(tiegs)': False,\n",
        " u'contains(tightened)': False,\n",
        " u'contains(tightrope)': False,\n",
        " u'contains(tilting)': False,\n",
        " u'contains(tingles)': False,\n",
        " u'contains(titanium)': False,\n",
        " u'contains(tolan)': False,\n",
        " u'contains(tomahawk)': False,\n",
        " u'contains(tomei)': False,\n",
        " u'contains(toning)': False,\n",
        " u'contains(tonino)': False,\n",
        " u'contains(toontown)': False,\n",
        " u'contains(toothed)': False,\n",
        " u'contains(topicality)': False,\n",
        " u'contains(topping)': False,\n",
        " u'contains(tornatore)': False,\n",
        " u'contains(torpedoes)': False,\n",
        " u'contains(toucha)': False,\n",
        " u'contains(touchstone)': False,\n",
        " u'contains(touchy)': False,\n",
        " u'contains(touts)': False,\n",
        " u'contains(tracking)': False,\n",
        " u'contains(traffic)': False,\n",
        " u'contains(tragicomic)': False,\n",
        " u'contains(trails)': False,\n",
        " u'contains(transported)': False,\n",
        " u'contains(trauma)': False,\n",
        " u'contains(traumatised)': False,\n",
        " u'contains(traumatized)': False,\n",
        " u'contains(traumatizes)': False,\n",
        " u'contains(travel)': False,\n",
        " u'contains(treason)': False,\n",
        " u'contains(trekkie)': False,\n",
        " u'contains(tremble)': False,\n",
        " u'contains(triangles)': False,\n",
        " u'contains(tribes)': False,\n",
        " u'contains(tricks)': False,\n",
        " u'contains(tricky)': False,\n",
        " u'contains(tripe)': False,\n",
        " u'contains(troubled)': False,\n",
        " u'contains(troubles)': False,\n",
        " u'contains(trys)': False,\n",
        " u'contains(tsui)': False,\n",
        " u'contains(tulip)': False,\n",
        " u'contains(turkish)': False,\n",
        " u'contains(turnaround)': False,\n",
        " u'contains(turned)': False,\n",
        " u'contains(turner)': False,\n",
        " u'contains(turvy)': False,\n",
        " u'contains(tvs)': False,\n",
        " u'contains(twisting)': False,\n",
        " u'contains(twotg)': False,\n",
        " u'contains(typhoon)': False,\n",
        " u'contains(typicalness)': False,\n",
        " u'contains(tyranny)': False,\n",
        " u'contains(ugc)': False,\n",
        " u'contains(ugh)': False,\n",
        " u'contains(ugliness)': False,\n",
        " u'contains(uhhhhhm)': False,\n",
        " u'contains(ulcer)': False,\n",
        " u'contains(unabashedly)': False,\n",
        " u'contains(unarguably)': False,\n",
        " u'contains(unbuttoning)': False,\n",
        " u'contains(uncharacteristically)': False,\n",
        " u'contains(uncouth)': False,\n",
        " u'contains(underbelly)': False,\n",
        " u'contains(underbids)': False,\n",
        " u'contains(underdone)': False,\n",
        " u'contains(undergone)': False,\n",
        " u'contains(underlining)': False,\n",
        " u'contains(understands)': False,\n",
        " u'contains(undeterred)': False,\n",
        " u'contains(undeveloped)': False,\n",
        " u'contains(unequipped)': False,\n",
        " u'contains(unequivocally)': False,\n",
        " u'contains(unintentionally)': False,\n",
        " u'contains(uninterrupted)': False,\n",
        " u'contains(union)': False,\n",
        " u'contains(universality)': False,\n",
        " u'contains(universally)': False,\n",
        " u'contains(unjust)': False,\n",
        " u'contains(unjustifyably)': False,\n",
        " u'contains(unknowns)': False,\n",
        " u'contains(unlikeable)': False,\n",
        " u'contains(unnerve)': False,\n",
        " u'contains(unparalleled)': False,\n",
        " u'contains(unprepared)': False,\n",
        " u'contains(unrecognizable)': False,\n",
        " u'contains(unredeemable)': False,\n",
        " u'contains(unrepentant)': False,\n",
        " u'contains(unsinkable)': False,\n",
        " u'contains(unsubstantial)': False,\n",
        " u'contains(unsworth)': False,\n",
        " u'contains(unthrilling)': False,\n",
        " u'contains(untouched)': False,\n",
        " u'contains(unveil)': False,\n",
        " u'contains(unwelcomed)': False,\n",
        " u'contains(unwieldy)': False,\n",
        " u'contains(unwittingly)': False,\n",
        " u'contains(unwraps)': False,\n",
        " u'contains(uplifting)': False,\n",
        " u'contains(uploaded)': False,\n",
        " u'contains(upstate)': False,\n",
        " u'contains(urinate)': False,\n",
        " u'contains(vainly)': False,\n",
        " u'contains(vamires)': False,\n",
        " u'contains(vaporize)': False,\n",
        " u'contains(vargas)': False,\n",
        " u'contains(variable)': False,\n",
        " u'contains(veer)': False,\n",
        " u'contains(vegetative)': False,\n",
        " u'contains(velda)': False,\n",
        " u'contains(verges)': False,\n",
        " u'contains(vexing)': False,\n",
        " u'contains(vicariously)': False,\n",
        " u'contains(vicent)': False,\n",
        " u'contains(victor)': False,\n",
        " u'contains(video)': False,\n",
        " u'contains(videodrome)': False,\n",
        " u'contains(videoshelves)': False,\n",
        " u'contains(villiany)': False,\n",
        " u'contains(virus)': False,\n",
        " u'contains(vision)': False,\n",
        " u'contains(visually)': False,\n",
        " u'contains(vivien)': False,\n",
        " u'contains(vocalized)': False,\n",
        " u'contains(voe)': False,\n",
        " u'contains(voicework)': False,\n",
        " u'contains(vomits)': False,\n",
        " u'contains(von)': False,\n",
        " u'contains(vow)': False,\n",
        " u'contains(voyeuristic)': False,\n",
        " u'contains(wachowskis)': False,\n",
        " u'contains(waft)': False,\n",
        " u'contains(wage)': False,\n",
        " u'contains(wahlberg)': False,\n",
        " u'contains(waitering)': False,\n",
        " u'contains(wakes)': False,\n",
        " u'contains(wales)': False,\n",
        " u'contains(wandering)': False,\n",
        " u'contains(wane)': False,\n",
        " u'contains(wang)': False,\n",
        " u'contains(waning)': False,\n",
        " u'contains(want)': True,\n",
        " u'contains(wants)': False,\n",
        " u'contains(warfield)': False,\n",
        " u'contains(warriors)': False,\n",
        " u'contains(watched)': False,\n",
        " u'contains(watcher)': False,\n",
        " u'contains(watches)': False,\n",
        " u'contains(waterlogged)': False,\n",
        " u'contains(waving)': False,\n",
        " u'contains(wcw)': False,\n",
        " u'contains(wedge)': False,\n",
        " u'contains(wednesday)': False,\n",
        " u'contains(weeds)': False,\n",
        " u'contains(weendigo)': False,\n",
        " u'contains(weirdoes)': False,\n",
        " u'contains(weismuller)': False,\n",
        " u'contains(welcomed)': False,\n",
        " u'contains(welcomes)': False,\n",
        " u'contains(west)': False,\n",
        " u'contains(westlake)': False,\n",
        " u'contains(whacking)': False,\n",
        " u'contains(whizzing)': False,\n",
        " u'contains(whoaaaaaa)': False,\n",
        " u'contains(whodunit)': False,\n",
        " u'contains(whoever)': False,\n",
        " u'contains(wholesome)': False,\n",
        " u'contains(wickedly)': False,\n",
        " u'contains(wimp)': False,\n",
        " u'contains(windmill)': False,\n",
        " u'contains(wires)': False,\n",
        " u'contains(wiseguy)': False,\n",
        " u'contains(wiseguys)': False,\n",
        " u'contains(with)': False,\n",
        " u'contains(witness)': False,\n",
        " u'contains(wits)': False,\n",
        " u'contains(witt)': False,\n",
        " u'contains(wives)': False,\n",
        " u'contains(wolves)': False,\n",
        " u'contains(wooden)': False,\n",
        " u'contains(woods)': False,\n",
        " u'contains(woody)': False,\n",
        " u'contains(wordlessly)': False,\n",
        " u'contains(working)': False,\n",
        " u'contains(workmanlike)': False,\n",
        " u'contains(workmates)': False,\n",
        " u'contains(workplace)': False,\n",
        " u'contains(world)': True,\n",
        " u'contains(wracked)': False,\n",
        " u'contains(wraps)': False,\n",
        " u'contains(wreaked)': False,\n",
        " u'contains(wrinkled)': False,\n",
        " u'contains(wrinkles)': False,\n",
        " u'contains(wrong)': False,\n",
        " u'contains(wunderkind)': False,\n",
        " u'contains(wyman)': False,\n",
        " u'contains(wynn)': False,\n",
        " u'contains(wynt)': False,\n",
        " u'contains(xenophobe)': False,\n",
        " u'contains(yahoo)': False,\n",
        " u'contains(yakov)': False,\n",
        " u'contains(yankovich)': False,\n",
        " u'contains(yeager)': False,\n",
        " u'contains(years)': False,\n",
        " u'contains(yevgeny)': False,\n",
        " u'contains(yogi)': False,\n",
        " u'contains(yojimbo)': False,\n",
        " u'contains(yugoslavian)': False,\n",
        " u'contains(yugoslavians)': False,\n",
        " u'contains(zahn)': False,\n",
        " u'contains(zappa)': False,\n",
        " u'contains(zeist)': False,\n",
        " u'contains(zellwegger)': False,\n",
        " u'contains(zigged)': False,\n",
        " u'contains(zippers)': False,\n",
        " u'contains(zoe)': False,\n",
        " u'contains(zoo)': False,\n",
        " u'contains(zsigmond)': False,\n",
        " u'contains(zucker)': False,\n",
        " u'contains(zzzzzzz)': False}"
       ]
      }
     ],
     "prompt_number": 61
    },
    {
     "cell_type": "code",
     "collapsed": false,
     "input": [],
     "language": "python",
     "metadata": {},
     "outputs": []
    },
    {
     "cell_type": "markdown",
     "metadata": {},
     "source": [
      "You can see from the result above that the extraction of features from each dcouments can take 10-30 msecs each. So for our dataset of 2000 documents, we can expect a feature extraction time of 20-60 seconds. We will use the \"apply_features\" trick (see above) to avoid doing all the work before actually having to train the classifier."
     ]
    },
    {
     "cell_type": "code",
     "collapsed": false,
     "input": [
      "from nltk.classify import apply_features\n",
      "random.shuffle(labeled_files)\n",
      "train_set = apply_features(document_features, labeled_files[100:])\n",
      "test_set = apply_features(document_features, labeled_files[:100])"
     ],
     "language": "python",
     "metadata": {},
     "outputs": [],
     "prompt_number": 64
    },
    {
     "cell_type": "code",
     "collapsed": false,
     "input": [
      "# Alternatively, to avoid using the \"apply_features\"\n",
      "# labeled_documents = [(document_features(fileid), category) for (fileid, category) in labeled_files]\n",
      "# train_set, test_set = labeled_documents[100:], labeled_documents[:100]"
     ],
     "language": "python",
     "metadata": {},
     "outputs": []
    },
    {
     "cell_type": "code",
     "collapsed": false,
     "input": [],
     "language": "python",
     "metadata": {},
     "outputs": []
    },
    {
     "cell_type": "code",
     "collapsed": false,
     "input": [
      "classifier = nltk.NaiveBayesClassifier.train(train_set)"
     ],
     "language": "python",
     "metadata": {},
     "outputs": [],
     "prompt_number": 63
    },
    {
     "cell_type": "code",
     "collapsed": false,
     "input": [
      "print(nltk.classify.accuracy(classifier, test_set))"
     ],
     "language": "python",
     "metadata": {},
     "outputs": [
      {
       "output_type": "stream",
       "stream": "stdout",
       "text": [
        "0.84\n"
       ]
      }
     ],
     "prompt_number": 65
    },
    {
     "cell_type": "code",
     "collapsed": false,
     "input": [
      "classifier.show_most_informative_features(20)"
     ],
     "language": "python",
     "metadata": {},
     "outputs": [
      {
       "output_type": "stream",
       "stream": "stdout",
       "text": [
        "Most Informative Features\n",
        "          contains(sans) = True              neg : pos    =      8.2 : 1.0\n",
        "    contains(mediocrity) = True              neg : pos    =      7.6 : 1.0\n",
        "   contains(overwhelmed) = True              pos : neg    =      6.4 : 1.0\n",
        "   contains(bruckheimer) = True              neg : pos    =      6.2 : 1.0\n",
        "         contains(wires) = True              neg : pos    =      6.2 : 1.0\n",
        "       contains(topping) = True              pos : neg    =      5.8 : 1.0\n",
        "     contains(dismissed) = True              pos : neg    =      5.8 : 1.0\n",
        "        contains(fabric) = True              pos : neg    =      5.8 : 1.0\n",
        "          contains(bump) = True              neg : pos    =      5.6 : 1.0\n",
        "       contains(admired) = True              pos : neg    =      5.5 : 1.0\n",
        "        contains(doubts) = True              pos : neg    =      5.5 : 1.0\n",
        "     contains(uplifting) = True              pos : neg    =      5.4 : 1.0\n",
        "  contains(effortlessly) = True              pos : neg    =      5.4 : 1.0\n",
        "          contains(wits) = True              pos : neg    =      5.1 : 1.0\n",
        "          contains(lang) = True              pos : neg    =      5.1 : 1.0\n",
        "           contains(ugh) = True              neg : pos    =      4.9 : 1.0\n",
        "         contains(tripe) = True              neg : pos    =      4.5 : 1.0\n",
        "   contains(understands) = True              pos : neg    =      4.5 : 1.0\n",
        "         contains(spins) = True              pos : neg    =      4.4 : 1.0\n",
        "          contains(wang) = True              pos : neg    =      4.4 : 1.0\n"
       ]
      }
     ],
     "prompt_number": 66
    },
    {
     "cell_type": "code",
     "collapsed": false,
     "input": [
      "depravity = [fileid for (fileid, category) in labeled_files \\\n",
      "             if \"depravity\" in movie_reviews.words(fileid)]\n",
      "depravity"
     ],
     "language": "python",
     "metadata": {},
     "outputs": [
      {
       "metadata": {},
       "output_type": "pyout",
       "prompt_number": 67,
       "text": [
        "[u'pos/cv642_29867.txt',\n",
        " u'pos/cv161_11425.txt',\n",
        " u'neg/cv747_18189.txt',\n",
        " u'pos/cv645_15668.txt',\n",
        " u'pos/cv929_16908.txt',\n",
        " u'pos/cv027_25219.txt',\n",
        " u'neg/cv704_17622.txt',\n",
        " u'pos/cv552_10016.txt']"
       ]
      }
     ],
     "prompt_number": 67
    },
    {
     "cell_type": "code",
     "collapsed": false,
     "input": [
      "movie_reviews.raw('pos/cv929_16908.txt')"
     ],
     "language": "python",
     "metadata": {},
     "outputs": [
      {
       "metadata": {},
       "output_type": "pyout",
       "prompt_number": 68,
       "text": [
        "u'one of the more unusual and suggestively violent films ever made , \" se7en \" is just a few steps away from brilliance . \\nhowever , those few steps away are only a few steps from a level of evil and depravity that few people want to discuss . \\nthe film received mixed reviews upon release , but there\\'s an underlying sinister appeal and intrigue to this that many critics perhaps did not notice . \\nat times it gets preachy about the horrors it seems to be criticizing , but the script and the ultimate pay-off are excellent . \\nthe shocking conclusion is just as unpredictable as the endings of most films are predictable . \\nthis piece of work is 100% intensity . \\nit\\'s uncomfortable to watch , yet compelling . \\n \" i want not to look , yet i cannot turn away . \" \\nthe story creeps along slowly and deliberately , crafted by visionary director david fincher . \\nhe has experience in tantalizing his audience with information and visions , but not giving away too much too soon . \\nthis is the guy who directed the ominous \" alien 3 \" . \\n \" se7en \" is even more ominous because the threat is real . \\nit\\'s human and , while the script takes some artistic licence , the way in which the diabolical killer works here is actually realistic . \\nthat is , if a human being could be so intelligent , patient , wealthy , and disillusioned . \\nafter the most bizarre opening credits i\\'ve ever seen ( refreshingly different in editing style and musical accompaniment ) , the initial character development takes place . \\nmorgan freeman stars as detective william somerset , a knowledgeable veteran who is ready to give up on his job and the sickness of society . \\nbrad pitt co-stars as detective david mills , the young hotshot who is brand new to this unnamed city and full of fury to catch the bad guys . \\nthese two fine actors give the film its human qualities ( along with the appealing gwyneth paltrow , who plays tracy , mills\\' wife ) . \\nhowever , none of them stands out above the material . \\nno disrespect intended , but two other actors could have played these parts and the film probably would have been about the same . \\nan ironic note is that somerset has only a week ( or 7 , that\\'s seven , days ) left on the force to train his young protege . \\nthe title of the picture also refers to the 7 deadly sins , as chronicled by john milton in \" paradise lost \" --gluttony , greed , sloth , lust , pride , envy , & wrath . \\nincidentally , i wrote the sins in order of how each victim was found . \\nit\\'s the last two sins that are the most intriguing and shocking , but i won\\'t give that away . \\nas i said , this has a great ending and no one should spoil it . \\nanyway , the brilliant killer sets out to make a statement to the world that these sins will no longer be tolerated and he makes the \" sinners \" suffer for it . \\nthe two partners stumble over the corpse of a grotesquely obese man . \\nthey learn that he was murdered--forced to eat himself to death . \\nthe killer leaves small clues at this and other murders and , of course , somerset and mills are smart enough to stay with him all the way . \\nif they didn\\'t , it would be one short movie ! \\nthe deliberate pace allows for craftsmanship of detail and story . \\nwe see a lot of blood , but it\\'s not especially violent . \\nthe suggestion of what happens is far more disgusting than anything actually shown--like most of the violence in \" pulp fiction \" . \\n \" se7en \" is gory , graphic , and disturbing , but all the gore is post-death . \\nstill , if you tend to get queasy , don\\'t eat food during this film . \\nkevin spacey plays john doe , the avenging angel who claims that he\\'s the messenger who will right the wrongs with his teachings . \\nlike many crazy men , he has some fine ideas , but some sick ways of expressing himself . \\nspacey doesn\\'t appear until the final 30 minutes and also doesn\\'t receive billing in the opening credits . \\nhowever , it\\'s his appearance that turns this film upside down and for that he should have gotten an oscar nomination . \\na great villain manages to make you either root for him or feel compelled to listen to his ramblings regardless of whether you agree with him or not . \\nthis character is so well written that it\\'s hard to disagree when he says that what he is doing will be remembered by everyone . \\nno serial killer has ever been so creative . \\n \" se7en \" is blatantly unsubtle with its messages about the horrors of the world and it\\'s often a little too depressing . \\nwhat it lacks in those areas , it makes up for with believable dialogue , top-notch screenwriting , unexpected twists , and realistic characters . \\nthe technical aspects of the film are unobtrusive . \\nfincher uses lighting , music , and editing quite well , but his story is always the thrust of the film . \\nfortunately , we don\\'t find out what happens to mills and somerset after the closing credits ( which are run backwards up the screen ! ) . \\nit\\'s better to imagine what paths they will follow . \\nthis is not the kind of film you turn away from and quickly forget . \\nit\\'s got a sinister message and john doe is right about one thing--the evils of the world aren\\'t going to cure themselves . \\n \" se7en \" raises some tough questions and it\\'s intelligent enough to allow its audience to answer many of those questions for themselves . \\nuseless trivia--co-stars in 1995\\'s \" se7en \" , brad pitt and kevin spacey also competed for the 1995 best supporting actor oscar--pitt in \" 12 monkeys \" , spacey in \" the usual suspects \" ( for which he won ) . \\n'"
       ]
      }
     ],
     "prompt_number": 68
    },
    {
     "cell_type": "markdown",
     "metadata": {},
     "source": [
      "### Exercise\n",
      "\n",
      "Try to come up with features that will improve the classifier that we discussed above. "
     ]
    },
    {
     "cell_type": "code",
     "collapsed": false,
     "input": [
      "# Modify the code below\n",
      "\n",
      "import nltk\n",
      "from nltk.classify import apply_features\n",
      "\n",
      "all_words = nltk.FreqDist(w.lower() for w in movie_reviews.words() if w.isalpha())\n",
      "word_features = all_words.keys()[200:1800]\n",
      "\n",
      "def document_features(fileid):\n",
      "    # Modify to add your own set of features\n",
      "    document_words = set(movie_reviews.words(fileid))\n",
      "    features = {}\n",
      "    for word in word_features:\n",
      "        features['contains(%s)' % word] = (word.lower() in document_words)\n",
      "    return features\n",
      "\n",
      "\n",
      "random.shuffle(labeled_files)\n",
      "train_set = apply_features(document_features, labeled_files[200:])\n",
      "test_set = apply_features(document_features, labeled_files[:200])\n",
      "classifier = nltk.NaiveBayesClassifier.train(train_set)\n",
      "print \"Accuracy:\", nltk.classify.accuracy(classifier, test_set)\n",
      "classifier.show_most_informative_features(20)"
     ],
     "language": "python",
     "metadata": {},
     "outputs": [
      {
       "output_type": "stream",
       "stream": "stdout",
       "text": [
        "Accuracy: "
       ]
      },
      {
       "output_type": "stream",
       "stream": "stdout",
       "text": [
        "0.69\n",
        "Most Informative Features\n",
        "    contains(mediocrity) = True              neg : pos    =      6.4 : 1.0"
       ]
      },
      {
       "output_type": "stream",
       "stream": "stdout",
       "text": [
        "\n",
        "   contains(overwhelmed) = True              pos : neg    =      6.2 : 1.0\n",
        "           contains(ugh) = True              neg : pos    =      5.9 : 1.0\n",
        "   contains(bruckheimer) = True              neg : pos    =      5.8 : 1.0\n",
        "     contains(dismissed) = True              pos : neg    =      5.6 : 1.0\n",
        "        contains(fabric) = True              pos : neg    =      5.6 : 1.0\n",
        "          contains(lang) = True              pos : neg    =      5.6 : 1.0\n",
        "        contains(doubts) = True              pos : neg    =      5.3 : 1.0\n",
        "  contains(effortlessly) = True              pos : neg    =      5.2 : 1.0\n",
        "        contains(wolves) = True              neg : pos    =      5.1 : 1.0\n",
        "          contains(wits) = True              pos : neg    =      4.9 : 1.0\n",
        "  contains(accomplishes) = True              pos : neg    =      4.9 : 1.0\n",
        "   contains(sensational) = True              pos : neg    =      4.9 : 1.0\n",
        "         contains(tripe) = True              neg : pos    =      4.7 : 1.0\n",
        "          contains(hugo) = True              pos : neg    =      4.5 : 1.0\n",
        "       contains(maxwell) = True              neg : pos    =      4.4 : 1.0\n",
        "       contains(quicker) = True              neg : pos    =      4.4 : 1.0\n",
        "         contains(spins) = True              pos : neg    =      4.3 : 1.0\n",
        "      contains(attorney) = True              pos : neg    =      3.8 : 1.0\n",
        "   contains(understands) = True              pos : neg    =      3.8 : 1.0\n"
       ]
      }
     ],
     "prompt_number": 69
    },
    {
     "cell_type": "code",
     "collapsed": false,
     "input": [
      "# Modify the code below\n",
      "\n",
      "import nltk\n",
      "from nltk.classify import apply_features\n",
      "from nltk.corpus import stopwords\n",
      "\n",
      "stop_words = nltk.corpus.stopwords.words('english')\n",
      "\n",
      "all_words = nltk.FreqDist(w.lower() for w in movie_reviews.words() if w.isalpha())\n",
      "word_features = []\n",
      "for word in all_words.keys():\n",
      "    if all_words[word.lower]\n",
      "\n",
      "def document_features(fileid):\n",
      "    # Modify to add your own set of features\n",
      "    document_words = set(movie_reviews.words(fileid))\n",
      "    features = {}\n",
      "    features['length'] = len(movie_reviews.raw(fileid))\n",
      "    for word in word_features:\n",
      "        features['contains(%s)' % word] = (word.lower() in document_words)\n",
      "    return features"
     ],
     "language": "python",
     "metadata": {},
     "outputs": []
    },
    {
     "cell_type": "code",
     "collapsed": false,
     "input": [
      "%timeit document_features('pos/cv995_21821.txt')"
     ],
     "language": "python",
     "metadata": {},
     "outputs": [
      {
       "output_type": "stream",
       "stream": "stdout",
       "text": [
        "100 loops, best of 3: 3.56 ms per loop\n"
       ]
      }
     ],
     "prompt_number": 75
    },
    {
     "cell_type": "code",
     "collapsed": false,
     "input": [
      "random.shuffle(labeled_files)\n",
      "train_set = apply_features(document_features, labeled_files[200:])\n",
      "test_set = apply_features(document_features, labeled_files[:200])\n",
      "classifier = nltk.NaiveBayesClassifier.train(train_set)\n",
      "print \"Accuracy:\", nltk.classify.accuracy(classifier, test_set)\n",
      "classifier.show_most_informative_features(20)"
     ],
     "language": "python",
     "metadata": {},
     "outputs": [
      {
       "output_type": "stream",
       "stream": "stdout",
       "text": [
        "Accuracy: "
       ]
      },
      {
       "output_type": "stream",
       "stream": "stdout",
       "text": [
        "0.675\n",
        "Most Informative Features"
       ]
      },
      {
       "output_type": "stream",
       "stream": "stdout",
       "text": [
        "\n",
        "          contains(sans) = True              neg : pos    =      8.2 : 1.0\n",
        "    contains(mediocrity) = True              neg : pos    =      6.9 : 1.0\n",
        "   contains(overwhelmed) = True              pos : neg    =      6.4 : 1.0\n",
        "     contains(dismissed) = True              pos : neg    =      6.4 : 1.0\n",
        "   contains(bruckheimer) = True              neg : pos    =      6.2 : 1.0\n",
        "        contains(fabric) = True              pos : neg    =      5.7 : 1.0\n",
        "         contains(wires) = True              neg : pos    =      5.6 : 1.0\n",
        "        contains(doubts) = True              pos : neg    =      5.5 : 1.0\n",
        "       contains(topping) = True              pos : neg    =      5.1 : 1.0\n",
        "          contains(lang) = True              pos : neg    =      5.1 : 1.0\n",
        "      contains(recycles) = True              neg : pos    =      4.9 : 1.0\n",
        "      contains(chopping) = True              neg : pos    =      4.9 : 1.0\n",
        "        contains(bounce) = True              neg : pos    =      4.9 : 1.0\n",
        "    contains(cigarettes) = True              neg : pos    =      4.9 : 1.0\n",
        "           contains(ugh) = True              neg : pos    =      4.9 : 1.0\n",
        "         contains(tripe) = True              neg : pos    =      4.5 : 1.0\n",
        "         contains(edges) = True              pos : neg    =      4.4 : 1.0\n",
        "         contains(spins) = True              pos : neg    =      4.4 : 1.0\n",
        "          contains(wits) = True              pos : neg    =      4.4 : 1.0\n",
        "        contains(gadget) = True              neg : pos    =      4.3 : 1.0\n"
       ]
      }
     ],
     "prompt_number": 76
    },
    {
     "cell_type": "heading",
     "level": 3,
     "metadata": {},
     "source": [
      "Further example: Sentence Segmentation"
     ]
    },
    {
     "cell_type": "markdown",
     "metadata": {},
     "source": [
      "Sentence segmentation can be viewed as a classification task for punctuation: whenever we encounter a symbol that could possibly end a sentence, such as a period or a question mark, we have to decide whether it terminates the preceding sentence.\n",
      "\n",
      "The first step is to obtain some data that has already been segmented into sentences and convert it into a form that is suitable for extracting features:"
     ]
    },
    {
     "cell_type": "code",
     "collapsed": false,
     "input": [
      "sents = nltk.corpus.treebank_raw.sents()\n",
      "tokens = []\n",
      "boundaries = set()\n",
      "offset = 0\n",
      "for sent in sents:\n",
      "    tokens.extend(sent)\n",
      "    offset += len(sent)\n",
      "    boundaries.add(offset-1)"
     ],
     "language": "python",
     "metadata": {},
     "outputs": [],
     "prompt_number": 70
    },
    {
     "cell_type": "markdown",
     "metadata": {},
     "source": [
      "Here, tokens is a merged list of tokens from the individual sentences, and boundaries is a set containing the indexes of all sentence-boundary tokens. Next, we need to specify the features of the data that will be used in order to decide whether punctuation indicates a sentence-boundary:"
     ]
    },
    {
     "cell_type": "code",
     "collapsed": false,
     "input": [
      "def punct_features(tokens, i):\n",
      "    return {'next-word-capitalized': tokens[i+1][0].isupper(),\n",
      "        'prev-word': tokens[i-1].lower(),\n",
      "        'punct': tokens[i],\n",
      "        'prev-word-is-one-char': len(tokens[i-1]) == 1}"
     ],
     "language": "python",
     "metadata": {},
     "outputs": [],
     "prompt_number": 71
    },
    {
     "cell_type": "markdown",
     "metadata": {},
     "source": [
      "Based on this feature extractor, we can create a list of labeled featuresets by selecting all the punctuation tokens, and tagging whether they are boundary tokens or not:"
     ]
    },
    {
     "cell_type": "code",
     "collapsed": false,
     "input": [
      "featuresets = [(punct_features(tokens, i), (i in boundaries))\n",
      "                for i in range(1, len(tokens)-1)\n",
      "                if tokens[i] in '.?!']"
     ],
     "language": "python",
     "metadata": {},
     "outputs": [],
     "prompt_number": 72
    },
    {
     "cell_type": "markdown",
     "metadata": {},
     "source": [
      "Using these featuresets, we can train and evaluate a punctuation classifier:"
     ]
    },
    {
     "cell_type": "code",
     "collapsed": false,
     "input": [
      "size = int(len(featuresets) * 0.1)\n",
      "train_set, test_set = featuresets[size:], featuresets[:size]\n",
      "classifier = nltk.NaiveBayesClassifier.train(train_set)\n",
      "nltk.classify.accuracy(classifier, test_set)"
     ],
     "language": "python",
     "metadata": {},
     "outputs": [
      {
       "metadata": {},
       "output_type": "pyout",
       "prompt_number": 73,
       "text": [
        "0.936026936026936"
       ]
      }
     ],
     "prompt_number": 73
    },
    {
     "cell_type": "markdown",
     "metadata": {},
     "source": [
      "To use this classifier to perform sentence segmentation, we simply check each punctuation mark to see whether it's labeled as a boundary; and divide the list of words at the boundary marks. "
     ]
    },
    {
     "cell_type": "code",
     "collapsed": false,
     "input": [
      "def segment_sentences(words):\n",
      "    start = 0\n",
      "    sents = []\n",
      "    for i, word in enumerate(words):\n",
      "        if word in '.?!' and classifier.classify(punct_features(words, i)) == True:\n",
      "            sents.append(words[start:i+1])\n",
      "            start = i+1\n",
      "    if start < len(words):\n",
      "        sents.append(words[start:])\n",
      "    return sents"
     ],
     "language": "python",
     "metadata": {},
     "outputs": [],
     "prompt_number": 74
    },
    {
     "cell_type": "code",
     "collapsed": false,
     "input": [],
     "language": "python",
     "metadata": {},
     "outputs": []
    }
   ],
   "metadata": {}
  }
 ]
}