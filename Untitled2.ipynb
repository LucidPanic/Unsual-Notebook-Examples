{
 "cells": [
  {
   "cell_type": "code",
   "execution_count": 1,
   "metadata": {},
   "outputs": [
    {
     "ename": "SyntaxError",
     "evalue": "Missing parentheses in call to 'print'. Did you mean print(\"-\" * 60)? (<ipython-input-1-5ce40b9b6f2f>, line 15)",
     "output_type": "error",
     "traceback": [
      "\u001b[1;36m  File \u001b[1;32m\"<ipython-input-1-5ce40b9b6f2f>\"\u001b[1;36m, line \u001b[1;32m15\u001b[0m\n\u001b[1;33m    print \"-\" * 60\u001b[0m\n\u001b[1;37m            ^\u001b[0m\n\u001b[1;31mSyntaxError\u001b[0m\u001b[1;31m:\u001b[0m Missing parentheses in call to 'print'. Did you mean print(\"-\" * 60)?\n"
     ]
    }
   ],
   "source": [
    "#!/usr/bin/env python\n",
    "import socket\n",
    "import subprocess\n",
    "import sys\n",
    "from datetime import datetime\n",
    "\n",
    "# Clear the screen\n",
    "subprocess.call('clear', shell=True)\n",
    "\n",
    "# Ask for input\n",
    "remoteServer    = raw_input(\"Enter a remote host to scan: \")\n",
    "remoteServerIP  = socket.gethostbyname(remoteServer)\n",
    "\n",
    "# Print a nice banner with information on which host we are about to scan\n",
    "print \"-\" * 60\n",
    "print \"Please wait, scanning remote host\", remoteServerIP\n",
    "print \"-\" * 60\n",
    "\n",
    "# Check what time the scan started\n",
    "t1 = datetime.now()\n",
    "\n",
    "# Using the range function to specify ports (here it will scans all ports between 1 and 1024)\n",
    "\n",
    "# We also put in some error handling for catching errors\n",
    "\n",
    "try:\n",
    "    for port in range(1,1025):  \n",
    "        sock = socket.socket(socket.AF_INET, socket.SOCK_STREAM)\n",
    "        result = sock.connect_ex((remoteServerIP, port))\n",
    "        if result == 0:\n",
    "            print \"Port {}: \t Open\".format(port)\n",
    "        sock.close()\n",
    "\n",
    "except KeyboardInterrupt:\n",
    "    print \"You pressed Ctrl+C\"\n",
    "    sys.exit()\n",
    "\n",
    "except socket.gaierror:\n",
    "    print 'Hostname could not be resolved. Exiting'\n",
    "    sys.exit()\n",
    "\n",
    "except socket.error:\n",
    "    print \"Couldn't connect to server\"\n",
    "    sys.exit()\n",
    "\n",
    "# Checking the time again\n",
    "t2 = datetime.now()\n",
    "\n",
    "# Calculates the difference of time, to see how long it took to run the script\n",
    "total =  t2 - t1\n",
    "\n",
    "# Printing the information to screen\n",
    "print 'Scanning Completed in: ', total"
   ]
  },
  {
   "cell_type": "code",
   "execution_count": null,
   "metadata": {},
   "outputs": [],
   "source": []
  }
 ],
 "metadata": {
  "kernelspec": {
   "display_name": "Python [conda env:idp]",
   "language": "python",
   "name": "conda-env-idp-py"
  },
  "language_info": {
   "codemirror_mode": {
    "name": "ipython",
    "version": 3
   },
   "file_extension": ".py",
   "mimetype": "text/x-python",
   "name": "python",
   "nbconvert_exporter": "python",
   "pygments_lexer": "ipython3",
   "version": "3.6.5"
  }
 },
 "nbformat": 4,
 "nbformat_minor": 2
}
