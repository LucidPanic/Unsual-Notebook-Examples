








<!DOCTYPE html>
<html lang="en">

<head>
  <meta charset="utf-8">
  <title>Jupyter Notebook Viewer</title>
  <meta name="viewport" content="width=device-width, initial-scale=1.0">
  <meta name="description" content="">
  <meta name="author" content="">
  
  <meta name="robots" content="noindex,nofollow">
  

  <!--NEW RELIC Start Perf Measurement-->
  
  <!--NREND-->

  <!-- Le styles -->
  <link href="/static/build/styles.css?v=7fe30404aaeedb40bf592c91e1d25a26" rel="stylesheet">

  <!-- Le HTML5 shim, for IE6-8 support of HTML5 elements -->
  <!--[if lt IE 9]>
    <script src="http://html5shim.googlecode.com/svn/trunk/html5.js"></script>
  <![endif]-->

  <!-- Le fav and touch icons -->
  <link rel="shortcut icon" href="/static/ico/ipynb_icon_16x16.png">
  <link rel="apple-touch-icon-precomposed" sizes="144x144"
        href="/static/ico/apple-touch-icon-144-precomposed.png?v=5a3c9ede93e2a8b8ea9e3f8f3da1a905">
  <link rel="apple-touch-icon-precomposed" sizes="114x114"
        href="/static/ico/apple-touch-icon-114-precomposed.png?v=45d86fc8f24dc00638035e1dd7a6d898">
  <link rel="apple-touch-icon-precomposed" sizes="72x72"
        href="/static/ico/apple-touch-icon-72-precomposed.png?v=540b5eb0f3cfd25f1439d1c9bd30e15f">
  <link rel="apple-touch-icon-precomposed"
        href="/static/ico/apple-touch-icon-57-precomposed.png?v=225f0590e187e1458625654f10a28f56">
  
  

  

  
  <meta name="twitter:card" content="summary">
  <meta name="twitter:title" content="Notebook on nbviewer">
  <meta name="twitter:description" content="Check out this Jupyter notebook!">

  
  <meta name="twitter:domain" content="nbviewer.jupyter.org">
  <meta name="twitter:image:src" content="http://ipython.org/ipython-doc/dev/_images/ipynb_icon_128x128.png">

  
    <link href="/static/build/notebook.css?v=b71b4a780ae775fd48f0eead7512c5dd" rel="stylesheet">
  

  

  
    <script src="https://cdnjs.cloudflare.com/ajax/libs/mathjax/2.7.1/MathJax.js?config=TeX-AMS_HTML" type="text/javascript">
    </script>
    <script type="text/javascript">
      init_mathjax = function() {
        if (window.MathJax) {
          // MathJax loaded
          MathJax.Hub.Config({
            TeX: {
              equationNumbers: {
                autoNumber: "AMS",
                useLabelIds: true
              }
            },
            tex2jax: {
              inlineMath: [ ['$','$'], ["\\(","\\)"] ],
              displayMath: [ ['$$','$$'], ["\\[","\\]"] ],
              processEscapes: true,
              processEnvironments: true
            },
            displayAlign: 'center',
            "HTML-CSS": {
              styles: {'.MathJax_Display': {"margin": 0}},
              linebreaks: { automatic: true }
            }
          });
          MathJax.Hub.Queue(["Typeset", MathJax.Hub]);
        }
      }
      init_mathjax();
    </script>
  

  
    <script>
      (function() {
        function addWidgetsRenderer() {
          var mimeElement = document.querySelector('script[type="application/vnd.jupyter.widget-view+json"]');
          var scriptElement = document.createElement('script');
          var widgetRendererSrc = 'https://unpkg.com/@jupyter-widgets/html-manager@0.15/dist/embed-amd.js';
          var widgetState;

          try {
            widgetState = mimeElement && JSON.parse(mimeElement.innerHTML);

            if (widgetState && (widgetState.version_major < 2 || !widgetState.version_major)) {
              widgetRendererSrc = 'https://unpkg.com/jupyter-js-widgets@2.1/dist/embed.js';
            }
          } catch(e) {}

          scriptElement.src = widgetRendererSrc;
          document.body.appendChild(scriptElement);
        }

        document.addEventListener('DOMContentLoaded', addWidgetsRenderer);
      }());
    </script>
  

</head>

<body class="nbviewer">

  <!-- These are loaded at the top of the body so they are available to
       notebook cells when they are loaded below. -->
  <script src="/static/components/jquery/dist/jquery.min.js?v=220afd743d9e9643852e31a135a9f3ae"></script>
  <script src="/static/components/requirejs/require.js?v=6da8be361b9ee26c5e721e76c6d4afce"></script>
  <script src="/static/components/moment/min/moment.min.js?v=89f87298ad94aa1e6b92f42eb66da043"></script>
<!-- Navbar
================================================== -->
  <nav id="menubar" class="navbar navbar-default navbar-fixed-top" data-spy="affix">
    <div class="container">
      <div class="navbar-header">
        <button type="button" class="navbar-toggle collapsed" data-toggle="collapse" data-target=".navbar-collapse">
          <span class="sr-only">Toggle navigation</span>
          <i class="fa fa-bars"></i>
        </button>
        <a class="navbar-brand" href="/">
          <img src="/static/img/nav_logo.svg?v=479cefe8d932fb14a67b93911b97d70f" width="159"/>
        </a>
      </div>

      <div class="collapse navbar-collapse">
        <ul class="nav navbar-nav navbar-right">
          <li>
            <a class="active" href="https://jupyter.org">JUPYTER</a>
          </li>
          <li>
    <a href="/faq" title="FAQ" >
      
        <span>FAQ</span>
      
    </a>
  </li>

          
  
    
  
    
      
        <li>
    <a href="script/github/Naereen/notebooks/blob/master/agreg/Eclairage_graphe.ipynb" title="View as Code" >
      <span class="fa fa-code fa-2x menu-icon"></span>
      <span class="menu-text">View as Code</span>
    </a>
  </li>
      
    
  

  
    <li>
    <a href="#" title="OCaml 4.04.2 Kernel" >
      <span class="fa fa-server fa-2x menu-icon"></span>
      <span class="menu-text">OCaml 4.04.2 Kernel</span>
    </a>
  </li>
  

  
    <li>
    <a href="https://github.com/Naereen/notebooks/blob/master/agreg/Eclairage_graphe.ipynb" title="View on GitHub" >
      <span class="fa fa-github fa-2x menu-icon"></span>
      <span class="menu-text">View on GitHub</span>
    </a>
  </li>
  

  
    <li>
    <a href="https://mybinder.org/v2/gh/Naereen/notebooks/master?filepath=agreg/Eclairage_graphe.ipynb" title="Execute on Binder" >
      <span class="fa fa-icon-binder fa-2x menu-icon"></span>
      <span class="menu-text">Execute on Binder</span>
    </a>
  </li>
  

  <li>
    <a href="https://raw.githubusercontent.com/Naereen/notebooks/master/agreg/Eclairage_graphe.ipynb" title="Download Notebook" download>
      <span class="fa fa-download fa-2x menu-icon"></span>
      <span class="menu-text">Download Notebook</span>
    </a>
  </li>

        </ul>
      </div><!-- /.navbar-collapse -->
      
      
    </div>
  </nav>

  <div class="container container-main">
    
  
  <ol class="breadcrumb">
    
      <li>
        <a href="/github/Naereen/notebooks/tree/master">notebooks</a>
      </li>
    
      <li>
        <a href="/github/Naereen/notebooks/tree/master/agreg">agreg</a>
      </li>
    
  </ol>
  
  <div id="notebook">
    <div id="notebook-container">
      <div class="cell border-box-sizing text_cell rendered"><div class="prompt input_prompt">
</div><div class="inner_cell">
<div class="text_cell_render border-box-sizing rendered_html">
<h1 id="Table-of-Contents">Table of Contents<a class="anchor-link" href="#Table-of-Contents">&#182;</a></h1><p><p><div class="lev1 toc-item"><a href="#Texte-d'oral-de-modélisation---Agrégation-Option-Informatique" data-toc-modified-id="Texte-d'oral-de-modélisation---Agrégation-Option-Informatique-1"><span class="toc-item-num">1&nbsp;&nbsp;</span>Texte d'oral de modélisation - Agrégation Option Informatique</a></div><div class="lev2 toc-item"><a href="#Préparation-à-l'agrégation---ENS-de-Rennes,-2016-17" data-toc-modified-id="Préparation-à-l'agrégation---ENS-de-Rennes,-2016-17-11"><span class="toc-item-num">1.1&nbsp;&nbsp;</span>Préparation à l'agrégation - ENS de Rennes, 2016-17</a></div><div class="lev2 toc-item"><a href="#À-propos-de-ce-document" data-toc-modified-id="À-propos-de-ce-document-12"><span class="toc-item-num">1.2&nbsp;&nbsp;</span>À propos de ce document</a></div><div class="lev2 toc-item"><a href="#Question-de-programmation" data-toc-modified-id="Question-de-programmation-13"><span class="toc-item-num">1.3&nbsp;&nbsp;</span>Question de programmation</a></div><div class="lev3 toc-item"><a href="#Exercice" data-toc-modified-id="Exercice-131"><span class="toc-item-num">1.3.1&nbsp;&nbsp;</span>Exercice</a></div><div class="lev3 toc-item"><a href="#Besoin-de-plusieurs-exemples" data-toc-modified-id="Besoin-de-plusieurs-exemples-132"><span class="toc-item-num">1.3.2&nbsp;&nbsp;</span>Besoin de plusieurs exemples</a></div><div class="lev2 toc-item"><a href="#Solution" data-toc-modified-id="Solution-14"><span class="toc-item-num">1.4&nbsp;&nbsp;</span>Solution</a></div><div class="lev3 toc-item"><a href="#Représentation-du-graphe-et-de-la-proposition-d'éclairage" data-toc-modified-id="Représentation-du-graphe-et-de-la-proposition-d'éclairage-141"><span class="toc-item-num">1.4.1&nbsp;&nbsp;</span>Représentation du graphe et de la proposition d'éclairage</a></div><div class="lev3 toc-item"><a href="#Vérification" data-toc-modified-id="Vérification-142"><span class="toc-item-num">1.4.2&nbsp;&nbsp;</span>Vérification</a></div><div class="lev3 toc-item"><a href="#Exemples" data-toc-modified-id="Exemples-143"><span class="toc-item-num">1.4.3&nbsp;&nbsp;</span>Exemples</a></div><div class="lev4 toc-item"><a href="#Pour-des-éclairages-valides." data-toc-modified-id="Pour-des-éclairages-valides.-1431"><span class="toc-item-num">1.4.3.1&nbsp;&nbsp;</span>Pour des éclairages valides.</a></div><div class="lev4 toc-item"><a href="#Pour-des-éclairages-non-valides-:" data-toc-modified-id="Pour-des-éclairages-non-valides-:-1432"><span class="toc-item-num">1.4.3.2&nbsp;&nbsp;</span>Pour des éclairages non valides :</a></div><div class="lev3 toc-item"><a href="#Bonus-:-vérifier-que-le-graphe-est-valide" data-toc-modified-id="Bonus-:-vérifier-que-le-graphe-est-valide-144"><span class="toc-item-num">1.4.4&nbsp;&nbsp;</span>Bonus : vérifier que le graphe est valide</a></div><div class="lev2 toc-item"><a href="#Bonus-:-énumération-de-tous-les-éclairages-possibles" data-toc-modified-id="Bonus-:-énumération-de-tous-les-éclairages-possibles-15"><span class="toc-item-num">1.5&nbsp;&nbsp;</span>Bonus : énumération de tous les éclairages possibles</a></div><div class="lev3 toc-item"><a href="#Énumération-des-éclairages-possibles" data-toc-modified-id="Énumération-des-éclairages-possibles-151"><span class="toc-item-num">1.5.1&nbsp;&nbsp;</span>Énumération des éclairages possibles</a></div><div class="lev3 toc-item"><a href="#Liste-de-taille-minimale-parmi-une-liste-de-listes" data-toc-modified-id="Liste-de-taille-minimale-parmi-une-liste-de-listes-152"><span class="toc-item-num">1.5.2&nbsp;&nbsp;</span>Liste de taille minimale parmi une liste de listes</a></div><div class="lev3 toc-item"><a href="#Trouver-un-éclairage-optimal" data-toc-modified-id="Trouver-un-éclairage-optimal-153"><span class="toc-item-num">1.5.3&nbsp;&nbsp;</span>Trouver un éclairage optimal</a></div><div class="lev3 toc-item"><a href="#Exemples" data-toc-modified-id="Exemples-154"><span class="toc-item-num">1.5.4&nbsp;&nbsp;</span>Exemples</a></div><div class="lev2 toc-item"><a href="#Complexités-en-temps-et-espace-(bonus)" data-toc-modified-id="Complexités-en-temps-et-espace-(bonus)-16"><span class="toc-item-num">1.6&nbsp;&nbsp;</span>Complexités en temps et espace (bonus)</a></div><div class="lev3 toc-item"><a href="#En-temps" data-toc-modified-id="En-temps-161"><span class="toc-item-num">1.6.1&nbsp;&nbsp;</span>En temps</a></div><div class="lev3 toc-item"><a href="#En-espace" data-toc-modified-id="En-espace-162"><span class="toc-item-num">1.6.2&nbsp;&nbsp;</span>En espace</a></div><div class="lev2 toc-item"><a href="#Conclusion" data-toc-modified-id="Conclusion-17"><span class="toc-item-num">1.7&nbsp;&nbsp;</span>Conclusion</a></div><div class="lev3 toc-item"><a href="#Qualités" data-toc-modified-id="Qualités-171"><span class="toc-item-num">1.7.1&nbsp;&nbsp;</span>Qualités</a></div><div class="lev3 toc-item"><a href="#Défauts" data-toc-modified-id="Défauts-172"><span class="toc-item-num">1.7.2&nbsp;&nbsp;</span>Défauts</a></div><div class="lev3 toc-item"><a href="#Ouverture-?" data-toc-modified-id="Ouverture-?-173"><span class="toc-item-num">1.7.3&nbsp;&nbsp;</span>Ouverture ?</a></div></p>

</div>
</div>
</div>
<div class="cell border-box-sizing text_cell rendered"><div class="prompt input_prompt">
</div><div class="inner_cell">
<div class="text_cell_render border-box-sizing rendered_html">
<h1 id="Texte-d'oral-de-mod&#233;lisation---Agr&#233;gation-Option-Informatique">Texte d'oral de mod&#233;lisation - Agr&#233;gation Option Informatique<a class="anchor-link" href="#Texte-d'oral-de-mod&#233;lisation---Agr&#233;gation-Option-Informatique">&#182;</a></h1><h2 id="Pr&#233;paration-&#224;-l'agr&#233;gation---ENS-de-Rennes,-2016-17">Pr&#233;paration &#224; l'agr&#233;gation - ENS de Rennes, 2016-17<a class="anchor-link" href="#Pr&#233;paration-&#224;-l'agr&#233;gation---ENS-de-Rennes,-2016-17">&#182;</a></h2><ul>
<li><em>Date</em> : 22 mai 2017</li>
<li><em>Auteur</em> : <a href="https://GitHub.com/Naereen/notebooks/">Lilian Besson</a></li>
<li><em>Texte</em>: Annale 2012, <a href="http://agreg.org/Textes/public2012-D1.pdf">"Éclairage graphe" (public2012-D1)</a></li>
</ul>

</div>
</div>
</div>
<div class="cell border-box-sizing text_cell rendered"><div class="prompt input_prompt">
</div><div class="inner_cell">
<div class="text_cell_render border-box-sizing rendered_html">
<h2 id="&#192;-propos-de-ce-document">&#192; propos de ce document<a class="anchor-link" href="#&#192;-propos-de-ce-document">&#182;</a></h2><ul>
<li>Ceci est une <em>proposition</em> de correction, partielle et probablement non-optimale, pour la partie implémentation d'un <a href="http://Agreg.org/Textes/">texte d'annale de l'agrégation de mathématiques, option informatique</a>.</li>
<li>Ce document est un <a href="https://www.Jupyter.org/">notebook Jupyter</a>, et <a href="https://github.com/Naereen/notebooks/tree/master/agreg/">est open-source sous Licence MIT sur GitHub</a>, comme les autres solutions de textes de modélisation que <a href="https://GitHub.com/Naereen">j</a>'ai écrite cette année.</li>
<li>L'implémentation sera faite en OCaml, version 4+ :</li>
</ul>

</div>
</div>
</div>
<div class="cell border-box-sizing code_cell rendered">
<div class="input">
<div class="prompt input_prompt">In&nbsp;[1]:</div>
<div class="inner_cell">
    <div class="input_area">
<div class=" highlight hl-OCaml"><pre><span></span><span class="nn">Sys</span><span class="p">.</span><span class="n">command</span> <span class="s2">&quot;ocaml -version&quot;</span><span class="o">;;</span>
</pre></div>

    </div>
</div>
</div>

<div class="output_wrapper">
<div class="output">


<div class="output_area">

    <div class="prompt"></div>


<div class="output_subarea output_stream output_stdout output_text">
<pre>The OCaml toplevel, version 4.04.2
</pre>
</div>
</div>

<div class="output_area">

    <div class="prompt output_prompt">Out[1]:</div>




<div class="output_text output_subarea output_execute_result">
<pre>- : int = 0
</pre>
</div>

</div>

</div>
</div>

</div>
<div class="cell border-box-sizing text_cell rendered"><div class="prompt input_prompt">
</div><div class="inner_cell">
<div class="text_cell_render border-box-sizing rendered_html">
<hr>
<h2 id="Question-de-programmation">Question de programmation<a class="anchor-link" href="#Question-de-programmation">&#182;</a></h2><p>La question de programmation pour ce texte était donnée au tout début, à la page 2 :</p>
<h3 id="Exercice">Exercice<a class="anchor-link" href="#Exercice">&#182;</a></h3><blockquote><p>Dans le langage de votre choix, implémenter un programme qui étant donnés un graphe et une proposition d’éclairage des lampadaires teste si celle-ci est correcte, <em>i.e.</em>, si toutes les rues sont bien éclairées.</p>
<p>Le tester sur différents exemples bien choisis (on pourra justifier la/les structures de données utilisée).</p>
</blockquote>
<h3 id="Besoin-de-plusieurs-exemples">Besoin de plusieurs exemples<a class="anchor-link" href="#Besoin-de-plusieurs-exemples">&#182;</a></h3><p>Pour une fois, on voit bien que le jury <em>exige</em> de tester la fonction sur <em>plusieurs</em> exemples.</p>

</div>
</div>
</div>
<div class="cell border-box-sizing text_cell rendered"><div class="prompt input_prompt">
</div><div class="inner_cell">
<div class="text_cell_render border-box-sizing rendered_html">
<hr>
<h2 id="Solution">Solution<a class="anchor-link" href="#Solution">&#182;</a></h2>
</div>
</div>
</div>
<div class="cell border-box-sizing text_cell rendered"><div class="prompt input_prompt">
</div><div class="inner_cell">
<div class="text_cell_render border-box-sizing rendered_html">
<h3 id="Repr&#233;sentation-du-graphe-et-de-la-proposition-d'&#233;clairage">Repr&#233;sentation du graphe et de la proposition d'&#233;clairage<a class="anchor-link" href="#Repr&#233;sentation-du-graphe-et-de-la-proposition-d'&#233;clairage">&#182;</a></h3><p>Les graphes ici seront constitués de <em>places</em> (= sommets), reliés entre elles par des <em>rues</em> (= arêtes).</p>
<p>Pour vérifier un éclairage, donné sous forme d'une liste de places, on va devoir vérifier que chaque rue est connectée à une place éclairée.</p>
<p>Une approche très simple, en trois étapes :</p>
<ol>
<li>compter le nombre de rues,</li>
<li>pour chaque place éclairée, compter le nombre de rues qui en partent (et qui sont donc éclairées),</li>
<li>s'il y a (au moins) une rue non éclairée, renvoyer <code>false</code>, sinon renvoyer <code>true</code>.</li>
</ol>
<p>Pour être efficace, il faut pouvoir accéder efficacement aux rues qui partent de chaque place (et il suffit de les compter, si on sait qu'elles sont uniques dans la représentation).</p>
<p>$\implies$ À partir de ce constat, on opte pour une représentation du graphe par <strong>liste d'adjacence</strong>.</p>
<ul>
<li><p>Comme les graphes sont non orientés, chaque arête est présente deux fois dans la représentation du graphe : l'arête $u \leftrightarrow v$ est présente comme $v \in V[u]$ (les places voisines de $u$), et $u \in V[v]$ (les places voisines de $v$).</p>
</li>
<li><p>Le fait que les graphes soient planaires n'apportent rien à la représentation.</p>
</li>
<li><p>Par simplicité, on va représenter les places par leur numéros (on pourra aussi prendre des chaînes de caractères, comme <code>"Place de l'étoile"</code>, <code>"Nation"</code>, <code>"Champd de Mars"</code> etc, mais c'est plus long à écrire).</p>
</li>
</ul>

</div>
</div>
</div>
<div class="cell border-box-sizing code_cell rendered">
<div class="input">
<div class="prompt input_prompt">In&nbsp;[2]:</div>
<div class="inner_cell">
    <div class="input_area">
<div class=" highlight hl-OCaml"><pre><span></span><span class="k">type</span> <span class="n">place</span> <span class="o">=</span> <span class="kt">int</span><span class="o">;;</span>
<span class="k">type</span> <span class="n">rues</span> <span class="o">=</span> <span class="n">place</span> <span class="kt">list</span><span class="o">;;</span>
</pre></div>

    </div>
</div>
</div>

<div class="output_wrapper">
<div class="output">


<div class="output_area">

    <div class="prompt output_prompt">Out[2]:</div>




<div class="output_text output_subarea output_execute_result">
<pre>type place = int
</pre>
</div>

</div>

<div class="output_area">

    <div class="prompt output_prompt">Out[2]:</div>




<div class="output_text output_subarea output_execute_result">
<pre>type rues = place list
</pre>
</div>

</div>

</div>
</div>

</div>
<div class="cell border-box-sizing code_cell rendered">
<div class="input">
<div class="prompt input_prompt">In&nbsp;[3]:</div>
<div class="inner_cell">
    <div class="input_area">
<div class=" highlight hl-OCaml"><pre><span></span><span class="k">type</span> <span class="n">ville</span> <span class="o">=</span> <span class="n">rues</span> <span class="kt">list</span><span class="o">;;</span>
</pre></div>

    </div>
</div>
</div>

<div class="output_wrapper">
<div class="output">


<div class="output_area">

    <div class="prompt output_prompt">Out[3]:</div>




<div class="output_text output_subarea output_execute_result">
<pre>type ville = rues list
</pre>
</div>

</div>

</div>
</div>

</div>
<div class="cell border-box-sizing text_cell rendered"><div class="prompt input_prompt">
</div><div class="inner_cell">
<div class="text_cell_render border-box-sizing rendered_html">
<p>On donne tout de suite un exemple de graphe, en prenant le 3ème exemple de la Figure 1 du texte.</p>
<p><img src="images/ville_eclairee_1.png" alt="Graphes de la Figure 1 du texte"></p>

</div>
</div>
</div>
<div class="cell border-box-sizing code_cell rendered">
<div class="input">
<div class="prompt input_prompt">In&nbsp;[4]:</div>
<div class="inner_cell">
    <div class="input_area">
<div class=" highlight hl-OCaml"><pre><span></span><span class="k">let</span> <span class="n">graphe1</span> <span class="o">:</span> <span class="n">ville</span> <span class="o">=</span> <span class="o">[</span>
    <span class="o">[</span><span class="mi">2</span><span class="o">];</span>           <span class="c">(* place 0 *)</span>
    <span class="o">[</span><span class="mi">2</span><span class="o">;</span> <span class="mi">3</span><span class="o">;</span> <span class="mi">6</span><span class="o">];</span>     <span class="c">(* place 1 *)</span>
    <span class="o">[</span><span class="mi">0</span><span class="o">;</span> <span class="mi">1</span><span class="o">];</span>        <span class="c">(* place 2 *)</span>
    <span class="o">[</span><span class="mi">1</span><span class="o">;</span> <span class="mi">4</span><span class="o">];</span>        <span class="c">(* place 3 *)</span>
    <span class="o">[</span><span class="mi">3</span><span class="o">;</span> <span class="mi">5</span><span class="o">];</span>        <span class="c">(* place 4 *)</span>
    <span class="o">[</span><span class="mi">1</span><span class="o">;</span> <span class="mi">4</span><span class="o">;</span> <span class="mi">6</span><span class="o">;</span> <span class="mi">8</span><span class="o">];</span>  <span class="c">(* place 5 *)</span>
    <span class="o">[</span><span class="mi">1</span><span class="o">;</span> <span class="mi">5</span><span class="o">;</span> <span class="mi">7</span><span class="o">];</span>     <span class="c">(* place 6 *)</span>
    <span class="o">[</span><span class="mi">6</span><span class="o">;</span> <span class="mi">8</span><span class="o">];</span>        <span class="c">(* place 7 *)</span>
    <span class="o">[</span><span class="mi">5</span><span class="o">;</span> <span class="mi">7</span><span class="o">];</span>        <span class="c">(* place 8 *)</span>
<span class="o">];;</span>
</pre></div>

    </div>
</div>
</div>

<div class="output_wrapper">
<div class="output">


<div class="output_area">

    <div class="prompt output_prompt">Out[4]:</div>




<div class="output_text output_subarea output_execute_result">
<pre>val graphe1 : ville =
  [[2]; [2; 3; 6]; [0; 1]; [1; 4]; [3; 5]; [1; 4; 6; 8]; [1; 5; 7]; [6; 8];
   [5; 7]]
</pre>
</div>

</div>

</div>
</div>

</div>
<div class="cell border-box-sizing text_cell rendered"><div class="prompt input_prompt">
</div><div class="inner_cell">
<div class="text_cell_render border-box-sizing rendered_html">
<p>On a besoin que les indices commence à $0$ et jusqu'à $n-1$ (où $n$ est le nombre de places), puisque la liste des rues utilisent implicitement la numérotation des places.</p>

</div>
</div>
</div>
<div class="cell border-box-sizing code_cell rendered">
<div class="input">
<div class="prompt input_prompt">In&nbsp;[5]:</div>
<div class="inner_cell">
    <div class="input_area">
<div class=" highlight hl-OCaml"><pre><span></span><span class="k">type</span> <span class="n">eclairage</span> <span class="o">=</span> <span class="n">place</span> <span class="kt">list</span><span class="o">;;</span>
</pre></div>

    </div>
</div>
</div>

<div class="output_wrapper">
<div class="output">


<div class="output_area">

    <div class="prompt output_prompt">Out[5]:</div>




<div class="output_text output_subarea output_execute_result">
<pre>type eclairage = place list
</pre>
</div>

</div>

</div>
</div>

</div>
<div class="cell border-box-sizing text_cell rendered"><div class="prompt input_prompt">
</div><div class="inner_cell">
<div class="text_cell_render border-box-sizing rendered_html">
<p>Trois exemples d'éclairages, deux satisfaisant donc l'un trivialement, et l'autre non satisfaisant :</p>

</div>
</div>
</div>
<div class="cell border-box-sizing code_cell rendered">
<div class="input">
<div class="prompt input_prompt">In&nbsp;[6]:</div>
<div class="inner_cell">
    <div class="input_area">
<div class=" highlight hl-OCaml"><pre><span></span><span class="k">let</span> <span class="n">eclairage1_sat</span> <span class="o">:</span> <span class="n">eclairage</span> <span class="o">=</span> <span class="o">[</span>
    <span class="mi">0</span><span class="o">;</span> <span class="mi">1</span><span class="o">;</span> <span class="mi">2</span><span class="o">;</span> <span class="mi">3</span><span class="o">;</span> <span class="mi">4</span><span class="o">;</span> <span class="mi">5</span><span class="o">;</span> <span class="mi">6</span><span class="o">;</span> <span class="mi">7</span><span class="o">;</span> <span class="mi">8</span>
<span class="o">];;</span>

<span class="k">let</span> <span class="n">eclairage2_sat</span> <span class="o">:</span> <span class="n">eclairage</span> <span class="o">=</span> <span class="o">[</span>
    <span class="mi">1</span><span class="o">;</span> <span class="mi">2</span><span class="o">;</span> <span class="mi">3</span><span class="o">;</span> <span class="mi">5</span><span class="o">;</span> <span class="mi">6</span><span class="o">;</span> <span class="mi">8</span>
<span class="o">];;</span>
</pre></div>

    </div>
</div>
</div>

<div class="output_wrapper">
<div class="output">


<div class="output_area">

    <div class="prompt output_prompt">Out[6]:</div>




<div class="output_text output_subarea output_execute_result">
<pre>val eclairage1_sat : eclairage = [0; 1; 2; 3; 4; 5; 6; 7; 8]
</pre>
</div>

</div>

<div class="output_area">

    <div class="prompt output_prompt">Out[6]:</div>




<div class="output_text output_subarea output_execute_result">
<pre>val eclairage2_sat : eclairage = [1; 2; 3; 5; 6; 8]
</pre>
</div>

</div>

</div>
</div>

</div>
<div class="cell border-box-sizing code_cell rendered">
<div class="input">
<div class="prompt input_prompt">In&nbsp;[7]:</div>
<div class="inner_cell">
    <div class="input_area">
<div class=" highlight hl-OCaml"><pre><span></span><span class="k">let</span> <span class="n">eclairage1_nonsat</span> <span class="o">:</span> <span class="n">eclairage</span> <span class="o">=</span> <span class="o">[</span>
    <span class="mi">2</span><span class="o">;</span> <span class="mi">4</span><span class="o">;</span> <span class="mi">8</span>
<span class="o">];;</span>

<span class="k">let</span> <span class="n">eclairage2_nonsat</span> <span class="o">:</span> <span class="n">eclairage</span> <span class="o">=</span> <span class="o">[</span>
    <span class="mi">1</span><span class="o">;</span> <span class="mi">2</span><span class="o">;</span> <span class="mi">3</span><span class="o">;</span> <span class="mi">5</span><span class="o">;</span> <span class="mi">6</span>
<span class="o">];;</span>
</pre></div>

    </div>
</div>
</div>

<div class="output_wrapper">
<div class="output">


<div class="output_area">

    <div class="prompt output_prompt">Out[7]:</div>




<div class="output_text output_subarea output_execute_result">
<pre>val eclairage1_nonsat : eclairage = [2; 4; 8]
</pre>
</div>

</div>

<div class="output_area">

    <div class="prompt output_prompt">Out[7]:</div>




<div class="output_text output_subarea output_execute_result">
<pre>val eclairage2_nonsat : eclairage = [1; 2; 3; 5; 6]
</pre>
</div>

</div>

</div>
</div>

</div>
<div class="cell border-box-sizing text_cell rendered"><div class="prompt input_prompt">
</div><div class="inner_cell">
<div class="text_cell_render border-box-sizing rendered_html">
<h3 id="V&#233;rification">V&#233;rification<a class="anchor-link" href="#V&#233;rification">&#182;</a></h3><p>On pourrait écrire une première fonction pour vérifier que le graphe est bien valide, selon la représentation décrite ci-dessus, en vérifiant :</p>
<ul>
<li>que les places forment bien l'ensemble $\{0,\dots,n-1\}$,</li>
<li>que chaque rue n'est présente qu'une fois dans les listes d'adjacences $V[u]$,</li>
<li>qu'aucune place inconnue n'est dans une liste $V[u]$,</li>
<li>et que le graphe est bien symétrique non-orienté, i.e., que $u \in V[u] \Leftrightarrow v \in V[u]$.</li>
</ul>
<p>... Mais le sujet n'exige rien de tout ça, donc on passe directement à la question demandée.</p>

</div>
</div>
</div>
<div class="cell border-box-sizing text_cell rendered"><div class="prompt input_prompt">
</div><div class="inner_cell">
<div class="text_cell_render border-box-sizing rendered_html">
<p>Quelques fonctions utiles :</p>

</div>
</div>
</div>
<div class="cell border-box-sizing code_cell rendered">
<div class="input">
<div class="prompt input_prompt">In&nbsp;[8]:</div>
<div class="inner_cell">
    <div class="input_area">
<div class=" highlight hl-OCaml"><pre><span></span><span class="k">let</span> <span class="n">somme</span> <span class="o">=</span>
    <span class="nn">List</span><span class="p">.</span><span class="n">fold_left</span> <span class="o">(+)</span> <span class="mi">0</span>
<span class="o">;;</span>
</pre></div>

    </div>
</div>
</div>

<div class="output_wrapper">
<div class="output">


<div class="output_area">

    <div class="prompt output_prompt">Out[8]:</div>




<div class="output_text output_subarea output_execute_result">
<pre>val somme : int list -&gt; int = &lt;fun&gt;
</pre>
</div>

</div>

</div>
</div>

</div>
<div class="cell border-box-sizing text_cell rendered"><div class="prompt input_prompt">
</div><div class="inner_cell">
<div class="text_cell_render border-box-sizing rendered_html">
<p>On met en place, facilement, l'algorithme décrit plus haut.
Une approche très simple, en trois étapes :</p>
<ol>
<li>compter le nombre de rues,</li>
<li>pour chaque place éclairée, compter le nombre de rues qui en partent (et qui sont donc éclairées),</li>
<li>s'il y a (au moins) une rue non éclairée, renvoyer <code>false</code>, sinon renvoyer <code>true</code>.</li>
</ol>

</div>
</div>
</div>
<div class="cell border-box-sizing text_cell rendered"><div class="prompt input_prompt">
</div><div class="inner_cell">
<div class="text_cell_render border-box-sizing rendered_html">
<p>Il y a une finesse : en comptant une fois les rues dont les deux côtés sont éclairés, et deux fois les rues dont un seul côté est éclairé, on peut comparer au nombre de rues comptées doubles.</p>
<p>C'est légérement sous-optimal, comme on va devoir vérifier (en temps linéaire en taille la de l'éclairage) si chaque rue a un ou deux côté éclairés.
Mais on gagne en mémoire puisqu'on n'a pas à construire une représentation de toutes les rues.</p>

</div>
</div>
</div>
<div class="cell border-box-sizing code_cell rendered">
<div class="input">
<div class="prompt input_prompt">In&nbsp;[9]:</div>
<div class="inner_cell">
    <div class="input_area">
<div class=" highlight hl-OCaml"><pre><span></span><span class="k">let</span> <span class="n">compte_simple_ou_double_0</span> <span class="o">(</span><span class="n">ici</span> <span class="o">:</span> <span class="n">place</span><span class="o">)</span> <span class="o">(</span><span class="n">voisines</span> <span class="o">:</span> <span class="n">rues</span><span class="o">)</span> <span class="o">(</span><span class="n">proposition</span> <span class="o">:</span> <span class="n">eclairage</span><span class="o">)</span> <span class="o">=</span>
    <span class="n">somme</span>
    <span class="o">(</span><span class="nn">List</span><span class="p">.</span><span class="n">map</span> <span class="o">(</span><span class="k">fun</span> <span class="n">voisine</span> <span class="o">-&gt;</span> 
        <span class="k">if</span> <span class="nn">List</span><span class="p">.</span><span class="n">mem</span> <span class="n">voisine</span> <span class="n">proposition</span>
        <span class="k">then</span> <span class="mi">1</span>
        <span class="k">else</span> <span class="mi">2</span>
    <span class="o">)</span> <span class="n">voisines</span><span class="o">)</span>
<span class="o">;;</span>
</pre></div>

    </div>
</div>
</div>

<div class="output_wrapper">
<div class="output">


<div class="output_area">

    <div class="prompt"></div>


<div class="output_subarea output_stream output_stderr output_text">
<pre>File &#34;[9]&#34;, line 1, characters 31-34:
Warning 27: unused variable ici.
</pre>
</div>
</div>

<div class="output_area">

    <div class="prompt output_prompt">Out[9]:</div>




<div class="output_text output_subarea output_execute_result">
<pre>val compte_simple_ou_double_0 : place -&gt; rues -&gt; eclairage -&gt; int = &lt;fun&gt;
</pre>
</div>

</div>

</div>
</div>

</div>
<div class="cell border-box-sizing code_cell rendered">
<div class="input">
<div class="prompt input_prompt">In&nbsp;[10]:</div>
<div class="inner_cell">
    <div class="input_area">
<div class=" highlight hl-OCaml"><pre><span></span><span class="k">let</span> <span class="n">verifie_eclairage_0</span> <span class="o">(</span><span class="n">graphe</span> <span class="o">:</span> <span class="n">ville</span><span class="o">)</span> <span class="o">(</span><span class="n">proposition</span> <span class="o">:</span> <span class="n">eclairage</span><span class="o">)</span> <span class="o">:</span> <span class="kt">bool</span> <span class="o">=</span>
    <span class="c">(* 1. compter le nombre de rues *)</span>
    <span class="k">let</span> <span class="n">nombre_rues</span> <span class="o">=</span>
        <span class="nn">List</span><span class="p">.</span><span class="n">fold_left</span> <span class="o">(</span><span class="k">fun</span> <span class="n">a</span> <span class="n">b</span> <span class="o">-&gt;</span> <span class="n">a</span> <span class="o">+</span> <span class="o">(</span><span class="nn">List</span><span class="p">.</span><span class="n">length</span> <span class="n">b</span><span class="o">))</span> <span class="mi">0</span> <span class="o">(</span><span class="n">graphe</span><span class="o">)</span>
        <span class="c">(* (List.length (List.flatten graphe)) *)</span>
    <span class="k">in</span>
    <span class="c">(* 2. pour chaque place *éclairée*, compter le nombre de rues qui en partent *)</span>
    <span class="k">let</span> <span class="n">nombre_rues_eclairees</span> <span class="o">=</span>
        <span class="n">somme</span>
        <span class="o">(</span><span class="nn">List</span><span class="p">.</span><span class="n">map</span> <span class="o">(</span><span class="k">fun</span> <span class="n">place_eclairee</span> <span class="o">-&gt;</span>
            <span class="n">compte_simple_ou_double_0</span>
            <span class="n">place_eclairee</span>
            <span class="o">(</span><span class="nn">List</span><span class="p">.</span><span class="n">nth</span> <span class="n">graphe</span> <span class="n">place_eclairee</span><span class="o">)</span>
            <span class="n">proposition</span>
        <span class="o">)</span> <span class="n">proposition</span><span class="o">)</span>
    <span class="k">in</span>
    <span class="c">(* 3. s&#39;il y a (au moins) une rue non éclairée, renvoyer [false], sinon renvoyer [true] *)</span>
    <span class="n">nombre_rues</span> <span class="o">&lt;=</span> <span class="n">nombre_rues_eclairees</span>
<span class="o">;;</span>
</pre></div>

    </div>
</div>
</div>

<div class="output_wrapper">
<div class="output">


<div class="output_area">

    <div class="prompt output_prompt">Out[10]:</div>




<div class="output_text output_subarea output_execute_result">
<pre>val verifie_eclairage_0 : ville -&gt; eclairage -&gt; bool = &lt;fun&gt;
</pre>
</div>

</div>

</div>
</div>

</div>
<div class="cell border-box-sizing text_cell rendered"><div class="prompt input_prompt">
</div><div class="inner_cell">
<div class="text_cell_render border-box-sizing rendered_html">
<p>Notez qu'on peut même faire mieux, puisque cet appel à <code>List.mem voisine proposition</code> est inefficace (au pire il est en $\mathcal{O}(n)$, et on le fait au pire $n-1$ fois).</p>
<p>En effet, on peut précalculer, dans la fonction <code>verifie_eclairage</code> un <em>tableau</em>, de taille $n$ fixée (et connue à l'avance), qui contient en indice $i$ le résultat de <code>List.mem i proposition</code> : sauf qu'au lieu d'appeler plusieurs fois la fonction <code>List.mem</code>, on a qu'à parcourir la liste <code>proposition</code> une fois, et remplir les cases du tableau.</p>

</div>
</div>
</div>
<div class="cell border-box-sizing code_cell rendered">
<div class="input">
<div class="prompt input_prompt">In&nbsp;[14]:</div>
<div class="inner_cell">
    <div class="input_area">
<div class=" highlight hl-OCaml"><pre><span></span><span class="k">let</span> <span class="n">compte_simple_ou_double</span> <span class="o">(_</span> <span class="o">:</span> <span class="n">place</span><span class="o">)</span> <span class="o">(</span><span class="n">voisines</span> <span class="o">:</span> <span class="n">rues</span><span class="o">)</span> <span class="o">(</span><span class="n">est_eclairee</span> <span class="o">:</span> <span class="kt">bool</span> <span class="kt">array</span><span class="o">)</span> <span class="o">=</span>
    <span class="n">somme</span>
    <span class="o">(</span><span class="nn">List</span><span class="p">.</span><span class="n">map</span> <span class="o">(</span><span class="k">fun</span> <span class="n">voisine</span> <span class="o">-&gt;</span> 
        <span class="k">if</span> <span class="n">est_eclairee</span><span class="o">.(</span><span class="n">voisine</span><span class="o">)</span>
        <span class="k">then</span> <span class="mi">1</span>
        <span class="k">else</span> <span class="mi">2</span>
    <span class="o">)</span> <span class="n">voisines</span><span class="o">)</span>
<span class="o">;;</span>
</pre></div>

    </div>
</div>
</div>

<div class="output_wrapper">
<div class="output">


<div class="output_area">

    <div class="prompt output_prompt">Out[14]:</div>




<div class="output_text output_subarea output_execute_result">
<pre>val compte_simple_ou_double : place -&gt; rues -&gt; bool array -&gt; int = &lt;fun&gt;
</pre>
</div>

</div>

</div>
</div>

</div>
<div class="cell border-box-sizing text_cell rendered"><div class="prompt input_prompt">
</div><div class="inner_cell">
<div class="text_cell_render border-box-sizing rendered_html">
<p>Cette fonction précalcule, une seule fois, ce tableau.</p>

</div>
</div>
</div>
<div class="cell border-box-sizing code_cell rendered">
<div class="input">
<div class="prompt input_prompt">In&nbsp;[15]:</div>
<div class="inner_cell">
    <div class="input_area">
<div class=" highlight hl-OCaml"><pre><span></span><span class="k">let</span> <span class="n">precalcule_places_eclairees</span> <span class="o">(</span><span class="n">n</span> <span class="o">:</span> <span class="kt">int</span><span class="o">)</span> <span class="o">(</span><span class="n">proposition</span> <span class="o">:</span> <span class="n">eclairage</span><span class="o">)</span> <span class="o">:</span> <span class="kt">bool</span> <span class="kt">array</span> <span class="o">=</span>
    <span class="k">let</span> <span class="n">resultat</span> <span class="o">=</span> <span class="nn">Array</span><span class="p">.</span><span class="n">make</span> <span class="n">n</span> <span class="bp">false</span> <span class="k">in</span>
    <span class="nn">List</span><span class="p">.</span><span class="n">iter</span> <span class="o">(</span><span class="k">fun</span> <span class="n">i</span> <span class="o">-&gt;</span> 
        <span class="n">resultat</span><span class="o">.(</span><span class="n">i</span><span class="o">)</span> <span class="o">&lt;-</span> <span class="bp">true</span>
    <span class="o">)</span> <span class="n">proposition</span><span class="o">;</span>
    <span class="n">resultat</span>
<span class="o">;;</span>
</pre></div>

    </div>
</div>
</div>

<div class="output_wrapper">
<div class="output">


<div class="output_area">

    <div class="prompt output_prompt">Out[15]:</div>




<div class="output_text output_subarea output_execute_result">
<pre>val precalcule_places_eclairees : int -&gt; eclairage -&gt; bool array = &lt;fun&gt;
</pre>
</div>

</div>

</div>
</div>

</div>
<div class="cell border-box-sizing text_cell rendered"><div class="prompt input_prompt">
</div><div class="inner_cell">
<div class="text_cell_render border-box-sizing rendered_html">
<p>Et enfin, on s'en sert pour la fonction <code>verifie_eclairage</code> plus rapide.</p>

</div>
</div>
</div>
<div class="cell border-box-sizing code_cell rendered">
<div class="input">
<div class="prompt input_prompt">In&nbsp;[16]:</div>
<div class="inner_cell">
    <div class="input_area">
<div class=" highlight hl-OCaml"><pre><span></span><span class="k">let</span> <span class="n">verifie_eclairage</span> <span class="o">(</span><span class="n">graphe</span> <span class="o">:</span> <span class="n">ville</span><span class="o">)</span> <span class="o">(</span><span class="n">proposition</span> <span class="o">:</span> <span class="n">eclairage</span><span class="o">)</span> <span class="o">:</span> <span class="kt">bool</span> <span class="o">=</span>
    <span class="c">(* 0. précalcul *)</span>
    <span class="k">let</span> <span class="n">n</span> <span class="o">=</span> <span class="nn">List</span><span class="p">.</span><span class="n">length</span> <span class="n">graphe</span> <span class="k">in</span>
    <span class="k">let</span> <span class="n">est_eclairee</span> <span class="o">=</span> <span class="n">precalcule_places_eclairees</span> <span class="n">n</span> <span class="n">proposition</span> <span class="k">in</span>
    <span class="c">(* 1. compter le nombre de rues *)</span>
    <span class="k">let</span> <span class="n">nombre_rues</span> <span class="o">=</span>
        <span class="nn">List</span><span class="p">.</span><span class="n">fold_left</span> <span class="o">(</span><span class="k">fun</span> <span class="n">a</span> <span class="n">b</span> <span class="o">-&gt;</span> <span class="n">a</span> <span class="o">+</span> <span class="o">(</span><span class="nn">List</span><span class="p">.</span><span class="n">length</span> <span class="n">b</span><span class="o">))</span> <span class="mi">0</span> <span class="o">(</span><span class="n">graphe</span><span class="o">)</span>
        <span class="c">(* (List.length (List.flatten graphe)) *)</span>
    <span class="k">in</span>
    <span class="c">(* 2. pour chaque place *éclairée*, compter le nombre de rues qui en partent *)</span>
    <span class="k">let</span> <span class="n">nombre_rues_eclairees</span> <span class="o">=</span>
        <span class="n">somme</span>
        <span class="o">(</span><span class="nn">List</span><span class="p">.</span><span class="n">map</span> <span class="o">(</span><span class="k">fun</span> <span class="n">place_eclairee</span> <span class="o">-&gt;</span>
            <span class="n">compte_simple_ou_double</span>
            <span class="n">place_eclairee</span>
            <span class="o">(</span><span class="nn">List</span><span class="p">.</span><span class="n">nth</span> <span class="n">graphe</span> <span class="n">place_eclairee</span><span class="o">)</span>
            <span class="n">est_eclairee</span>
        <span class="o">)</span> <span class="n">proposition</span><span class="o">)</span>
    <span class="k">in</span>
    <span class="c">(* 3. s&#39;il y a (au moins) une rue non éclairée, renvoyer [false], sinon renvoyer [true] *)</span>
    <span class="n">nombre_rues</span> <span class="o">&lt;=</span> <span class="n">nombre_rues_eclairees</span>
<span class="o">;;</span>
</pre></div>

    </div>
</div>
</div>

<div class="output_wrapper">
<div class="output">


<div class="output_area">

    <div class="prompt output_prompt">Out[16]:</div>




<div class="output_text output_subarea output_execute_result">
<pre>val verifie_eclairage : ville -&gt; eclairage -&gt; bool = &lt;fun&gt;
</pre>
</div>

</div>

</div>
</div>

</div>
<div class="cell border-box-sizing text_cell rendered"><div class="prompt input_prompt">
</div><div class="inner_cell">
<div class="text_cell_render border-box-sizing rendered_html">
<h3 id="Exemples">Exemples<a class="anchor-link" href="#Exemples">&#182;</a></h3><p>Avec le graphe définit plus haut, et les deux propositions d'éclairages :</p>

</div>
</div>
</div>
<div class="cell border-box-sizing code_cell rendered">
<div class="input">
<div class="prompt input_prompt">In&nbsp;[17]:</div>
<div class="inner_cell">
    <div class="input_area">
<div class=" highlight hl-OCaml"><pre><span></span><span class="n">graphe1</span><span class="o">;;</span>
</pre></div>

    </div>
</div>
</div>

<div class="output_wrapper">
<div class="output">


<div class="output_area">

    <div class="prompt output_prompt">Out[17]:</div>




<div class="output_text output_subarea output_execute_result">
<pre>- : ville =
[[2]; [2; 3; 6]; [0; 1]; [1; 4]; [3; 5]; [1; 4; 6; 8]; [1; 5; 7]; [6; 8];
 [5; 7]]
</pre>
</div>

</div>

</div>
</div>

</div>
<div class="cell border-box-sizing text_cell rendered"><div class="prompt input_prompt">
</div><div class="inner_cell">
<div class="text_cell_render border-box-sizing rendered_html">
<h4 id="Pour-des-&#233;clairages-valides.">Pour des &#233;clairages valides.<a class="anchor-link" href="#Pour-des-&#233;clairages-valides.">&#182;</a></h4><ul>
<li>Le premier est trivialement valide, on éclaire toutes les places donc toutes les rues sont bien éclairées.</li>
</ul>

</div>
</div>
</div>
<div class="cell border-box-sizing code_cell rendered">
<div class="input">
<div class="prompt input_prompt">In&nbsp;[18]:</div>
<div class="inner_cell">
    <div class="input_area">
<div class=" highlight hl-OCaml"><pre><span></span><span class="n">eclairage1_sat</span><span class="o">;;</span>
<span class="nn">List</span><span class="p">.</span><span class="n">map</span> <span class="o">(</span><span class="k">fun</span> <span class="n">place_eclairee</span> <span class="o">-&gt;</span> <span class="nn">List</span><span class="p">.</span><span class="n">nth</span> <span class="n">graphe1</span> <span class="n">place_eclairee</span><span class="o">)</span> <span class="n">eclairage1_sat</span><span class="o">;;</span>

<span class="n">verifie_eclairage</span> <span class="n">graphe1</span> <span class="n">eclairage1_sat</span><span class="o">;;</span>    <span class="c">(* true *)</span>
</pre></div>

    </div>
</div>
</div>

<div class="output_wrapper">
<div class="output">


<div class="output_area">

    <div class="prompt output_prompt">Out[18]:</div>




<div class="output_text output_subarea output_execute_result">
<pre>- : eclairage = [0; 1; 2; 3; 4; 5; 6; 7; 8]
</pre>
</div>

</div>

<div class="output_area">

    <div class="prompt output_prompt">Out[18]:</div>




<div class="output_text output_subarea output_execute_result">
<pre>- : rues list =
[[2]; [2; 3; 6]; [0; 1]; [1; 4]; [3; 5]; [1; 4; 6; 8]; [1; 5; 7]; [6; 8];
 [5; 7]]
</pre>
</div>

</div>

<div class="output_area">

    <div class="prompt output_prompt">Out[18]:</div>




<div class="output_text output_subarea output_execute_result">
<pre>- : bool = true
</pre>
</div>

</div>

</div>
</div>

</div>
<div class="cell border-box-sizing text_cell rendered"><div class="prompt input_prompt">
</div><div class="inner_cell">
<div class="text_cell_render border-box-sizing rendered_html">
<ul>
<li>Le second est moins trivial, mais en vérifiant à la main sur le graphe on voit qu'il fonctionne.<ul>
<li>On a juste éteint la place $0$, mais l'arête $0-1$ reste éclairée par la place $1$,</li>
<li>la place $4$ mais les arêtes $3-4$ et $4-5$ sont éclairées par les places $3$ et $5$,</li>
<li>et la place $7$ mais les arêtes $6-7$ et $7-8$ sont éclairées par les places $6$ et $8$.</li>
</ul>
</li>
</ul>

</div>
</div>
</div>
<div class="cell border-box-sizing code_cell rendered">
<div class="input">
<div class="prompt input_prompt">In&nbsp;[19]:</div>
<div class="inner_cell">
    <div class="input_area">
<div class=" highlight hl-OCaml"><pre><span></span><span class="n">eclairage2_sat</span><span class="o">;;</span>
<span class="nn">List</span><span class="p">.</span><span class="n">map</span> <span class="o">(</span><span class="k">fun</span> <span class="n">place_eclairee</span> <span class="o">-&gt;</span> <span class="nn">List</span><span class="p">.</span><span class="n">nth</span> <span class="n">graphe1</span> <span class="n">place_eclairee</span><span class="o">)</span> <span class="n">eclairage2_sat</span><span class="o">;;</span>

<span class="n">verifie_eclairage</span> <span class="n">graphe1</span> <span class="n">eclairage2_sat</span><span class="o">;;</span>    <span class="c">(* true *)</span>
</pre></div>

    </div>
</div>
</div>

<div class="output_wrapper">
<div class="output">


<div class="output_area">

    <div class="prompt output_prompt">Out[19]:</div>




<div class="output_text output_subarea output_execute_result">
<pre>- : eclairage = [1; 2; 3; 5; 6; 8]
</pre>
</div>

</div>

<div class="output_area">

    <div class="prompt output_prompt">Out[19]:</div>




<div class="output_text output_subarea output_execute_result">
<pre>- : rues list = [[2; 3; 6]; [0; 1]; [1; 4]; [1; 4; 6; 8]; [1; 5; 7]; [5; 7]]
</pre>
</div>

</div>

<div class="output_area">

    <div class="prompt output_prompt">Out[19]:</div>




<div class="output_text output_subarea output_execute_result">
<pre>- : bool = true
</pre>
</div>

</div>

</div>
</div>

</div>
<div class="cell border-box-sizing text_cell rendered"><div class="prompt input_prompt">
</div><div class="inner_cell">
<div class="text_cell_render border-box-sizing rendered_html">
<ul>
<li>On peut essayer un éclairage de seulement 5 villes. Est-ce optimal ? (on répondra plus tard, mais oui)</li>
</ul>

</div>
</div>
</div>
<div class="cell border-box-sizing code_cell rendered">
<div class="input">
<div class="prompt input_prompt">In&nbsp;[20]:</div>
<div class="inner_cell">
    <div class="input_area">
<div class=" highlight hl-OCaml"><pre><span></span><span class="k">let</span> <span class="n">eclairage3_sat</span> <span class="o">:</span> <span class="n">eclairage</span> <span class="o">=</span> <span class="o">[</span>
    <span class="mi">2</span><span class="o">;</span> <span class="mi">3</span><span class="o">;</span> <span class="mi">5</span><span class="o">;</span> <span class="mi">6</span><span class="o">;</span> <span class="mi">7</span><span class="o">;</span>
<span class="o">];;</span>

<span class="nn">List</span><span class="p">.</span><span class="n">map</span> <span class="o">(</span><span class="k">fun</span> <span class="n">place_eclairee</span> <span class="o">-&gt;</span> <span class="nn">List</span><span class="p">.</span><span class="n">nth</span> <span class="n">graphe1</span> <span class="n">place_eclairee</span><span class="o">)</span> <span class="n">eclairage3_sat</span><span class="o">;;</span>

<span class="n">verifie_eclairage</span> <span class="n">graphe1</span> <span class="n">eclairage3_sat</span><span class="o">;;</span>    <span class="c">(* true *)</span>
</pre></div>

    </div>
</div>
</div>

<div class="output_wrapper">
<div class="output">


<div class="output_area">

    <div class="prompt output_prompt">Out[20]:</div>




<div class="output_text output_subarea output_execute_result">
<pre>val eclairage3_sat : eclairage = [2; 3; 5; 6; 7]
</pre>
</div>

</div>

<div class="output_area">

    <div class="prompt output_prompt">Out[20]:</div>




<div class="output_text output_subarea output_execute_result">
<pre>- : rues list = [[0; 1]; [1; 4]; [1; 4; 6; 8]; [1; 5; 7]; [6; 8]]
</pre>
</div>

</div>

<div class="output_area">

    <div class="prompt output_prompt">Out[20]:</div>




<div class="output_text output_subarea output_execute_result">
<pre>- : bool = true
</pre>
</div>

</div>

</div>
</div>

</div>
<div class="cell border-box-sizing text_cell rendered"><div class="prompt input_prompt">
</div><div class="inner_cell">
<div class="text_cell_render border-box-sizing rendered_html">
<h4 id="Pour-des-&#233;clairages-non-valides-:">Pour des &#233;clairages non valides :<a class="anchor-link" href="#Pour-des-&#233;clairages-non-valides-:">&#182;</a></h4><ul>
<li>Clairement, le premier est trop gourmand et on a éteint trop de place.</li>
</ul>

</div>
</div>
</div>
<div class="cell border-box-sizing code_cell rendered">
<div class="input">
<div class="prompt input_prompt">In&nbsp;[21]:</div>
<div class="inner_cell">
    <div class="input_area">
<div class=" highlight hl-OCaml"><pre><span></span><span class="n">eclairage1_nonsat</span><span class="o">;;</span>
<span class="nn">List</span><span class="p">.</span><span class="n">map</span> <span class="o">(</span><span class="k">fun</span> <span class="n">place_eclairee</span> <span class="o">-&gt;</span> <span class="nn">List</span><span class="p">.</span><span class="n">nth</span> <span class="n">graphe1</span> <span class="n">place_eclairee</span><span class="o">)</span> <span class="n">eclairage1_nonsat</span><span class="o">;;</span>

<span class="n">verifie_eclairage</span> <span class="n">graphe1</span> <span class="n">eclairage1_nonsat</span><span class="o">;;</span>   <span class="c">(* false *)</span>
</pre></div>

    </div>
</div>
</div>

<div class="output_wrapper">
<div class="output">


<div class="output_area">

    <div class="prompt output_prompt">Out[21]:</div>




<div class="output_text output_subarea output_execute_result">
<pre>- : eclairage = [2; 4; 8]
</pre>
</div>

</div>

<div class="output_area">

    <div class="prompt output_prompt">Out[21]:</div>




<div class="output_text output_subarea output_execute_result">
<pre>- : rues list = [[0; 1]; [3; 5]; [5; 7]]
</pre>
</div>

</div>

<div class="output_area">

    <div class="prompt output_prompt">Out[21]:</div>




<div class="output_text output_subarea output_execute_result">
<pre>- : bool = false
</pre>
</div>

</div>

</div>
</div>

</div>
<div class="cell border-box-sizing text_cell rendered"><div class="prompt input_prompt">
</div><div class="inner_cell">
<div class="text_cell_render border-box-sizing rendered_html">
<ul>
<li>Le second semble bon, mais la rue $8-9$ par exemple est éteinte.</li>
</ul>

</div>
</div>
</div>
<div class="cell border-box-sizing code_cell rendered">
<div class="input">
<div class="prompt input_prompt">In&nbsp;[22]:</div>
<div class="inner_cell">
    <div class="input_area">
<div class=" highlight hl-OCaml"><pre><span></span><span class="n">eclairage2_nonsat</span><span class="o">;;</span>
<span class="nn">List</span><span class="p">.</span><span class="n">map</span> <span class="o">(</span><span class="k">fun</span> <span class="n">place_eclairee</span> <span class="o">-&gt;</span> <span class="nn">List</span><span class="p">.</span><span class="n">nth</span> <span class="n">graphe1</span> <span class="n">place_eclairee</span><span class="o">)</span> <span class="n">eclairage2_nonsat</span><span class="o">;;</span>

<span class="n">verifie_eclairage</span> <span class="n">graphe1</span> <span class="n">eclairage2_nonsat</span><span class="o">;;</span>   <span class="c">(* false *)</span>
</pre></div>

    </div>
</div>
</div>

<div class="output_wrapper">
<div class="output">


<div class="output_area">

    <div class="prompt output_prompt">Out[22]:</div>




<div class="output_text output_subarea output_execute_result">
<pre>- : eclairage = [1; 2; 3; 5; 6]
</pre>
</div>

</div>

<div class="output_area">

    <div class="prompt output_prompt">Out[22]:</div>




<div class="output_text output_subarea output_execute_result">
<pre>- : rues list = [[2; 3; 6]; [0; 1]; [1; 4]; [1; 4; 6; 8]; [1; 5; 7]]
</pre>
</div>

</div>

<div class="output_area">

    <div class="prompt output_prompt">Out[22]:</div>




<div class="output_text output_subarea output_execute_result">
<pre>- : bool = false
</pre>
</div>

</div>

</div>
</div>

</div>
<div class="cell border-box-sizing text_cell rendered"><div class="prompt input_prompt">
</div><div class="inner_cell">
<div class="text_cell_render border-box-sizing rendered_html">
<h3 id="Bonus-:-v&#233;rifier-que-le-graphe-est-valide">Bonus : v&#233;rifier que le graphe est valide<a class="anchor-link" href="#Bonus-:-v&#233;rifier-que-le-graphe-est-valide">&#182;</a></h3><p>Bon... par acquis de conscience, on implémente l'étape de vérification évoquée plus haut.</p>
<p>D'abord, quelques fonctions utiles :</p>

</div>
</div>
</div>
<div class="cell border-box-sizing code_cell rendered">
<div class="input">
<div class="prompt input_prompt">In&nbsp;[23]:</div>
<div class="inner_cell">
    <div class="input_area">
<div class=" highlight hl-OCaml"><pre><span></span><span class="k">let</span> <span class="n">max_liste</span> <span class="o">(</span><span class="n">liste</span> <span class="o">:</span> <span class="kt">int</span> <span class="kt">list</span><span class="o">)</span> <span class="o">:</span> <span class="kt">int</span> <span class="o">=</span>
    <span class="nn">List</span><span class="p">.</span><span class="n">fold_left</span> <span class="n">max</span> <span class="o">(-</span><span class="n">max_int</span><span class="o">)</span> <span class="n">liste</span>
<span class="o">;;</span>
</pre></div>

    </div>
</div>
</div>

<div class="output_wrapper">
<div class="output">


<div class="output_area">

    <div class="prompt output_prompt">Out[23]:</div>




<div class="output_text output_subarea output_execute_result">
<pre>val max_liste : int list -&gt; int = &lt;fun&gt;
</pre>
</div>

</div>

</div>
</div>

</div>
<div class="cell border-box-sizing code_cell rendered">
<div class="input">
<div class="prompt input_prompt">In&nbsp;[24]:</div>
<div class="inner_cell">
    <div class="input_area">
<div class=" highlight hl-OCaml"><pre><span></span><span class="n">max_liste</span> <span class="o">[</span><span class="mi">123</span><span class="o">;</span> <span class="mi">12</span><span class="o">;</span> <span class="mi">1</span><span class="o">];;</span>
</pre></div>

    </div>
</div>
</div>

<div class="output_wrapper">
<div class="output">


<div class="output_area">

    <div class="prompt output_prompt">Out[24]:</div>




<div class="output_text output_subarea output_execute_result">
<pre>- : int = 123
</pre>
</div>

</div>

</div>
</div>

</div>
<div class="cell border-box-sizing code_cell rendered">
<div class="input">
<div class="prompt input_prompt">In&nbsp;[25]:</div>
<div class="inner_cell">
    <div class="input_area">
<div class=" highlight hl-OCaml"><pre><span></span><span class="k">let</span> <span class="n">max_liste_liste</span> <span class="o">(</span><span class="n">listeliste</span> <span class="o">:</span> <span class="kt">int</span> <span class="kt">list</span> <span class="kt">list</span><span class="o">)</span> <span class="o">:</span> <span class="kt">int</span> <span class="o">=</span>
    <span class="n">max_liste</span> <span class="o">(</span><span class="nn">List</span><span class="p">.</span><span class="n">map</span> <span class="n">max_liste</span> <span class="n">listeliste</span><span class="o">)</span> 
<span class="o">;;</span>
</pre></div>

    </div>
</div>
</div>

<div class="output_wrapper">
<div class="output">


<div class="output_area">

    <div class="prompt output_prompt">Out[25]:</div>




<div class="output_text output_subarea output_execute_result">
<pre>val max_liste_liste : int list list -&gt; int = &lt;fun&gt;
</pre>
</div>

</div>

</div>
</div>

</div>
<div class="cell border-box-sizing code_cell rendered">
<div class="input">
<div class="prompt input_prompt">In&nbsp;[26]:</div>
<div class="inner_cell">
    <div class="input_area">
<div class=" highlight hl-OCaml"><pre><span></span><span class="n">max_liste_liste</span> <span class="o">[[</span><span class="mi">123</span><span class="o">;</span> <span class="mi">12</span><span class="o">;</span> <span class="mi">1</span><span class="o">];</span> <span class="o">[</span><span class="mi">1234</span><span class="o">;</span> <span class="mi">13</span><span class="o">]];;</span>
</pre></div>

    </div>
</div>
</div>

<div class="output_wrapper">
<div class="output">


<div class="output_area">

    <div class="prompt output_prompt">Out[26]:</div>




<div class="output_text output_subarea output_execute_result">
<pre>- : int = 1234
</pre>
</div>

</div>

</div>
</div>

</div>
<div class="cell border-box-sizing code_cell rendered">
<div class="input">
<div class="prompt input_prompt">In&nbsp;[27]:</div>
<div class="inner_cell">
    <div class="input_area">
<div class=" highlight hl-OCaml"><pre><span></span><span class="nn">List</span><span class="p">.</span><span class="n">for_all</span> <span class="o">(</span><span class="k">fun</span> <span class="n">x</span> <span class="o">-&gt;</span> <span class="o">(</span><span class="mi">0</span> <span class="o">&lt;=</span> <span class="n">x</span><span class="o">)</span> <span class="o">&amp;&amp;</span> <span class="o">(</span><span class="n">x</span> <span class="o">&lt;=</span> <span class="mi">1234</span><span class="o">))</span> <span class="o">(</span><span class="nn">List</span><span class="p">.</span><span class="n">flatten</span> <span class="o">[[</span><span class="mi">123</span><span class="o">;</span> <span class="mi">12</span><span class="o">;</span> <span class="mi">1</span><span class="o">];</span> <span class="o">[</span><span class="mi">1234</span><span class="o">;</span> <span class="mi">13</span><span class="o">]])</span>
</pre></div>

    </div>
</div>
</div>

<div class="output_wrapper">
<div class="output">


<div class="output_area">

    <div class="prompt output_prompt">Out[27]:</div>




<div class="output_text output_subarea output_execute_result">
<pre>- : bool = true
</pre>
</div>

</div>

</div>
</div>

</div>
<div class="cell border-box-sizing code_cell rendered">
<div class="input">
<div class="prompt input_prompt">In&nbsp;[28]:</div>
<div class="inner_cell">
    <div class="input_area">
<div class=" highlight hl-OCaml"><pre><span></span><span class="k">let</span> <span class="n">compte_occurences</span> <span class="o">(</span><span class="n">liste</span> <span class="o">:</span> <span class="kt">int</span> <span class="kt">list</span><span class="o">)</span> <span class="o">(</span><span class="n">x</span> <span class="o">:</span> <span class="kt">int</span><span class="o">)</span> <span class="o">=</span>
    <span class="k">let</span> <span class="k">rec</span> <span class="n">aux</span> <span class="n">xs</span> <span class="n">x</span> <span class="n">acc</span> <span class="o">=</span>
        <span class="k">match</span> <span class="n">xs</span> <span class="k">with</span>
        <span class="o">|</span> <span class="bp">[]</span> <span class="o">-&gt;</span> <span class="n">acc</span>
        <span class="o">|</span> <span class="n">y</span> <span class="o">::</span> <span class="n">ys</span> <span class="k">when</span> <span class="n">y</span> <span class="o">=</span> <span class="n">x</span> <span class="o">-&gt;</span> <span class="n">aux</span> <span class="n">ys</span> <span class="n">x</span> <span class="o">(</span><span class="n">acc</span> <span class="o">+</span> <span class="mi">1</span><span class="o">)</span>
        <span class="o">|</span> <span class="o">_</span> <span class="o">::</span> <span class="n">ys</span> <span class="o">-&gt;</span> <span class="n">aux</span> <span class="n">ys</span> <span class="n">x</span> <span class="n">acc</span>
    <span class="k">in</span>
    <span class="n">aux</span> <span class="n">liste</span> <span class="n">x</span> <span class="mi">0</span>
<span class="o">;;</span>
</pre></div>

    </div>
</div>
</div>

<div class="output_wrapper">
<div class="output">


<div class="output_area">

    <div class="prompt output_prompt">Out[28]:</div>




<div class="output_text output_subarea output_execute_result">
<pre>val compte_occurences : int list -&gt; int -&gt; int = &lt;fun&gt;
</pre>
</div>

</div>

</div>
</div>

</div>
<div class="cell border-box-sizing code_cell rendered">
<div class="input">
<div class="prompt input_prompt">In&nbsp;[29]:</div>
<div class="inner_cell">
    <div class="input_area">
<div class=" highlight hl-OCaml"><pre><span></span><span class="n">compte_occurences</span> <span class="o">[</span><span class="mi">1</span><span class="o">;</span> <span class="mi">2</span><span class="o">;</span> <span class="mi">3</span><span class="o">;</span> <span class="mi">4</span><span class="o">;</span> <span class="mi">5</span><span class="o">]</span> <span class="mi">1</span><span class="o">;;</span>
<span class="n">compte_occurences</span> <span class="o">[</span><span class="mi">1</span><span class="o">;</span> <span class="mi">2</span><span class="o">;</span> <span class="mi">3</span><span class="o">;</span> <span class="mi">4</span><span class="o">;</span> <span class="mi">5</span><span class="o">]</span> <span class="mi">10</span><span class="o">;;</span>
<span class="n">compte_occurences</span> <span class="o">[</span><span class="mi">1</span><span class="o">;</span> <span class="mi">2</span><span class="o">;</span> <span class="mi">3</span><span class="o">;</span> <span class="mi">4</span><span class="o">;</span> <span class="mi">5</span><span class="o">;</span> <span class="mi">1</span><span class="o">;</span> <span class="mi">6</span><span class="o">;</span> <span class="mi">7</span><span class="o">]</span> <span class="mi">1</span><span class="o">;;</span>
</pre></div>

    </div>
</div>
</div>

<div class="output_wrapper">
<div class="output">


<div class="output_area">

    <div class="prompt output_prompt">Out[29]:</div>




<div class="output_text output_subarea output_execute_result">
<pre>- : int = 1
</pre>
</div>

</div>

<div class="output_area">

    <div class="prompt output_prompt">Out[29]:</div>




<div class="output_text output_subarea output_execute_result">
<pre>- : int = 0
</pre>
</div>

</div>

<div class="output_area">

    <div class="prompt output_prompt">Out[29]:</div>




<div class="output_text output_subarea output_execute_result">
<pre>- : int = 2
</pre>
</div>

</div>

</div>
</div>

</div>
<div class="cell border-box-sizing text_cell rendered"><div class="prompt input_prompt">
</div><div class="inner_cell">
<div class="text_cell_render border-box-sizing rendered_html">
<p>Puis, la vérification annoncée :</p>

</div>
</div>
</div>
<div class="cell border-box-sizing code_cell rendered">
<div class="input">
<div class="prompt input_prompt">In&nbsp;[30]:</div>
<div class="inner_cell">
    <div class="input_area">
<div class=" highlight hl-OCaml"><pre><span></span><span class="k">let</span> <span class="n">graphe_valide</span> <span class="o">(</span><span class="n">graphe</span> <span class="o">:</span> <span class="n">ville</span><span class="o">)</span> <span class="o">:</span> <span class="kt">bool</span> <span class="o">=</span>
    <span class="k">let</span> <span class="n">n</span> <span class="o">=</span> <span class="n">max_liste_liste</span> <span class="n">graphe</span> <span class="k">in</span>
    <span class="c">(* D&#39;abord, on vérifie qu&#39;il y a exactement n + 1 listes de places voisines *)</span>
    <span class="k">let</span> <span class="n">test1</span> <span class="o">=</span>
        <span class="o">(</span><span class="nn">List</span><span class="p">.</span><span class="n">length</span> <span class="n">graphe</span><span class="o">)</span> <span class="o">=</span> <span class="o">(</span><span class="n">n</span> <span class="o">+</span> <span class="mi">1</span><span class="o">)</span>
    <span class="k">in</span>
    <span class="c">(* Ensuite, on vérifie que toutes les places voisines sont bien dans des places valides *)</span>
    <span class="k">let</span> <span class="n">test2</span> <span class="o">=</span>
        <span class="nn">List</span><span class="p">.</span><span class="n">for_all</span> <span class="o">(</span>
            <span class="k">fun</span> <span class="n">x</span> <span class="o">-&gt;</span> <span class="o">(</span><span class="mi">0</span> <span class="o">&lt;=</span> <span class="n">x</span><span class="o">)</span> <span class="o">&amp;&amp;</span> <span class="o">(</span><span class="n">x</span> <span class="o">&lt;=</span> <span class="n">n</span><span class="o">)</span>
        <span class="o">)</span> <span class="o">(</span><span class="nn">List</span><span class="p">.</span><span class="n">flatten</span> <span class="n">graphe</span><span class="o">)</span>
    <span class="k">in</span>
    <span class="c">(* Enfin, on vérifie qu&#39;une place voisine v n&#39;est présente qu&#39;une fois dans V[u] *)</span>
    <span class="k">let</span> <span class="n">test3</span> <span class="o">=</span>
        <span class="nn">List</span><span class="p">.</span><span class="n">for_all</span> <span class="o">(</span>
            <span class="k">fun</span> <span class="n">voisines</span> <span class="o">-&gt;</span> <span class="nn">List</span><span class="p">.</span><span class="n">for_all</span> <span class="o">(</span>
                <span class="k">fun</span> <span class="n">place</span> <span class="o">-&gt;</span>
                    <span class="o">(</span><span class="n">compte_occurences</span> <span class="n">voisines</span> <span class="n">place</span><span class="o">)</span> <span class="o">=</span> <span class="mi">1</span>
            <span class="o">)</span> <span class="n">voisines</span>
        <span class="o">)</span> <span class="n">graphe</span>
    <span class="k">in</span>
    <span class="c">(* test1, test2, test3 *)</span>
    <span class="n">test1</span> <span class="o">&amp;&amp;</span> <span class="n">test2</span> <span class="o">&amp;&amp;</span> <span class="n">test3</span>
<span class="o">;;</span>
</pre></div>

    </div>
</div>
</div>

<div class="output_wrapper">
<div class="output">


<div class="output_area">

    <div class="prompt output_prompt">Out[30]:</div>




<div class="output_text output_subarea output_execute_result">
<pre>val graphe_valide : ville -&gt; bool = &lt;fun&gt;
</pre>
</div>

</div>

</div>
</div>

</div>
<div class="cell border-box-sizing code_cell rendered">
<div class="input">
<div class="prompt input_prompt">In&nbsp;[31]:</div>
<div class="inner_cell">
    <div class="input_area">
<div class=" highlight hl-OCaml"><pre><span></span><span class="n">graphe1</span><span class="o">;;</span>
</pre></div>

    </div>
</div>
</div>

<div class="output_wrapper">
<div class="output">


<div class="output_area">

    <div class="prompt output_prompt">Out[31]:</div>




<div class="output_text output_subarea output_execute_result">
<pre>- : ville =
[[2]; [2; 3; 6]; [0; 1]; [1; 4]; [3; 5]; [1; 4; 6; 8]; [1; 5; 7]; [6; 8];
 [5; 7]]
</pre>
</div>

</div>

</div>
</div>

</div>
<div class="cell border-box-sizing code_cell rendered">
<div class="input">
<div class="prompt input_prompt">In&nbsp;[32]:</div>
<div class="inner_cell">
    <div class="input_area">
<div class=" highlight hl-OCaml"><pre><span></span><span class="n">graphe_valide</span> <span class="n">graphe1</span><span class="o">;;</span>
</pre></div>

    </div>
</div>
</div>

<div class="output_wrapper">
<div class="output">


<div class="output_area">

    <div class="prompt output_prompt">Out[32]:</div>




<div class="output_text output_subarea output_execute_result">
<pre>- : bool = true
</pre>
</div>

</div>

</div>
</div>

</div>
<div class="cell border-box-sizing text_cell rendered"><div class="prompt input_prompt">
</div><div class="inner_cell">
<div class="text_cell_render border-box-sizing rendered_html">
<p>On doit aussi tester trois cas de graphes qui contredisent un de chaque test :</p>

</div>
</div>
</div>
<div class="cell border-box-sizing text_cell rendered"><div class="prompt input_prompt">
</div><div class="inner_cell">
<div class="text_cell_render border-box-sizing rendered_html">
<ul>
<li>S'il manque une place dans la liste d'adjacence :</li>
</ul>

</div>
</div>
</div>
<div class="cell border-box-sizing code_cell rendered">
<div class="input">
<div class="prompt input_prompt">In&nbsp;[33]:</div>
<div class="inner_cell">
    <div class="input_area">
<div class=" highlight hl-OCaml"><pre><span></span><span class="k">let</span> <span class="n">graphe2</span> <span class="o">:</span> <span class="n">ville</span> <span class="o">=</span> <span class="o">[</span>
    <span class="o">[</span><span class="mi">2</span><span class="o">];</span>           <span class="c">(* place 0 *)</span>
    <span class="o">[</span><span class="mi">2</span><span class="o">;</span> <span class="mi">3</span><span class="o">;</span> <span class="mi">6</span><span class="o">];</span>     <span class="c">(* place 1 *)</span>
    <span class="o">[</span><span class="mi">0</span><span class="o">;</span> <span class="mi">1</span><span class="o">];</span>        <span class="c">(* place 2 *)</span>
    <span class="o">[</span><span class="mi">1</span><span class="o">;</span> <span class="mi">3</span><span class="o">];</span>        <span class="c">(* place 3 *)</span>
    <span class="o">[</span><span class="mi">3</span><span class="o">;</span> <span class="mi">5</span><span class="o">];</span>        <span class="c">(* place 4 *)</span>
    <span class="o">[</span><span class="mi">1</span><span class="o">;</span> <span class="mi">4</span><span class="o">;</span> <span class="mi">6</span><span class="o">;</span> <span class="mi">8</span><span class="o">];</span>  <span class="c">(* place 5 *)</span>
    <span class="o">[</span><span class="mi">1</span><span class="o">;</span> <span class="mi">5</span><span class="o">;</span> <span class="mi">7</span><span class="o">];</span>     <span class="c">(* place 6 *)</span>
    <span class="o">[</span><span class="mi">6</span><span class="o">;</span> <span class="mi">8</span><span class="o">];</span>        <span class="c">(* place 7 *)</span>
                   <span class="c">(* place 8 absente ! *)</span>
<span class="o">];;</span>
</pre></div>

    </div>
</div>
</div>

<div class="output_wrapper">
<div class="output">


<div class="output_area">

    <div class="prompt output_prompt">Out[33]:</div>




<div class="output_text output_subarea output_execute_result">
<pre>val graphe2 : ville =
  [[2]; [2; 3; 6]; [0; 1]; [1; 3]; [3; 5]; [1; 4; 6; 8]; [1; 5; 7]; [6; 8]]
</pre>
</div>

</div>

</div>
</div>

</div>
<div class="cell border-box-sizing code_cell rendered">
<div class="input">
<div class="prompt input_prompt">In&nbsp;[34]:</div>
<div class="inner_cell">
    <div class="input_area">
<div class=" highlight hl-OCaml"><pre><span></span><span class="n">graphe_valide</span> <span class="n">graphe2</span><span class="o">;;</span>
</pre></div>

    </div>
</div>
</div>

<div class="output_wrapper">
<div class="output">


<div class="output_area">

    <div class="prompt output_prompt">Out[34]:</div>




<div class="output_text output_subarea output_execute_result">
<pre>- : bool = false
</pre>
</div>

</div>

</div>
</div>

</div>
<div class="cell border-box-sizing text_cell rendered"><div class="prompt input_prompt">
</div><div class="inner_cell">
<div class="text_cell_render border-box-sizing rendered_html">
<ul>
<li>Si la liste d'adjacence est trop grande :</li>
</ul>

</div>
</div>
</div>
<div class="cell border-box-sizing code_cell rendered">
<div class="input">
<div class="prompt input_prompt">In&nbsp;[35]:</div>
<div class="inner_cell">
    <div class="input_area">
<div class=" highlight hl-OCaml"><pre><span></span><span class="k">let</span> <span class="n">graphe3</span> <span class="o">:</span> <span class="n">ville</span> <span class="o">=</span> <span class="o">[</span>
    <span class="o">[</span><span class="mi">2</span><span class="o">];</span>           <span class="c">(* place 0 *)</span>
    <span class="o">[</span><span class="mi">2</span><span class="o">;</span> <span class="mi">3</span><span class="o">;</span> <span class="mi">6</span><span class="o">];</span>     <span class="c">(* place 1 *)</span>
    <span class="o">[</span><span class="mi">0</span><span class="o">;</span> <span class="mi">1</span><span class="o">];</span>        <span class="c">(* place 2 *)</span>
    <span class="o">[</span><span class="mi">1</span><span class="o">;</span> <span class="mi">3</span><span class="o">];</span>        <span class="c">(* place 3 *)</span>
    <span class="o">[</span><span class="mi">3</span><span class="o">;</span> <span class="mi">5</span><span class="o">];</span>        <span class="c">(* place 4 *)</span>
    <span class="o">[</span><span class="mi">1</span><span class="o">;</span> <span class="mi">4</span><span class="o">;</span> <span class="mi">6</span><span class="o">;</span> <span class="mi">8</span><span class="o">];</span>  <span class="c">(* place 5 *)</span>
    <span class="o">[</span><span class="mi">1</span><span class="o">;</span> <span class="mi">5</span><span class="o">;</span> <span class="mi">7</span><span class="o">];</span>     <span class="c">(* place 6 *)</span>
    <span class="o">[</span><span class="mi">6</span><span class="o">;</span> <span class="mi">8</span><span class="o">];</span>        <span class="c">(* place 7 *)</span>
    <span class="o">[</span><span class="mi">5</span><span class="o">;</span> <span class="mi">7</span><span class="o">];</span>        <span class="c">(* place 8 absente ! *)</span>
    <span class="o">[</span><span class="mi">5</span><span class="o">;</span> <span class="mi">7</span><span class="o">]</span>         <span class="c">(* place 9 ?! *)</span>
<span class="o">];;</span>
</pre></div>

    </div>
</div>
</div>

<div class="output_wrapper">
<div class="output">


<div class="output_area">

    <div class="prompt output_prompt">Out[35]:</div>




<div class="output_text output_subarea output_execute_result">
<pre>val graphe3 : ville =
  [[2]; [2; 3; 6]; [0; 1]; [1; 3]; [3; 5]; [1; 4; 6; 8]; [1; 5; 7]; [6; 8];
   [5; 7]; [5; 7]]
</pre>
</div>

</div>

</div>
</div>

</div>
<div class="cell border-box-sizing code_cell rendered">
<div class="input">
<div class="prompt input_prompt">In&nbsp;[36]:</div>
<div class="inner_cell">
    <div class="input_area">
<div class=" highlight hl-OCaml"><pre><span></span><span class="n">graphe_valide</span> <span class="n">graphe3</span><span class="o">;;</span>
</pre></div>

    </div>
</div>
</div>

<div class="output_wrapper">
<div class="output">


<div class="output_area">

    <div class="prompt output_prompt">Out[36]:</div>




<div class="output_text output_subarea output_execute_result">
<pre>- : bool = false
</pre>
</div>

</div>

</div>
</div>

</div>
<div class="cell border-box-sizing text_cell rendered"><div class="prompt input_prompt">
</div><div class="inner_cell">
<div class="text_cell_render border-box-sizing rendered_html">
<ul>
<li>Si une des places voisines n'est pas valide :</li>
</ul>

</div>
</div>
</div>
<div class="cell border-box-sizing code_cell rendered">
<div class="input">
<div class="prompt input_prompt">In&nbsp;[37]:</div>
<div class="inner_cell">
    <div class="input_area">
<div class=" highlight hl-OCaml"><pre><span></span><span class="k">let</span> <span class="n">graphe4</span> <span class="o">:</span> <span class="n">ville</span> <span class="o">=</span> <span class="o">[</span>
    <span class="o">[</span><span class="mi">2</span><span class="o">];</span>           <span class="c">(* place 0 *)</span>
    <span class="o">[</span><span class="mi">2</span><span class="o">;</span> <span class="mi">3</span><span class="o">;</span> <span class="mi">6</span><span class="o">];</span>     <span class="c">(* place 1 *)</span>
    <span class="o">[</span><span class="mi">0</span><span class="o">;</span> <span class="mi">1</span><span class="o">];</span>        <span class="c">(* place 2 *)</span>
    <span class="o">[</span><span class="mi">1</span><span class="o">;</span> <span class="mi">3</span><span class="o">];</span>        <span class="c">(* place 3 *)</span>
    <span class="o">[</span><span class="mi">3</span><span class="o">;</span> <span class="mi">5</span><span class="o">];</span>        <span class="c">(* place 4 *)</span>
    <span class="o">[</span><span class="mi">1</span><span class="o">;</span> <span class="mi">4</span><span class="o">;</span> <span class="mi">6</span><span class="o">;</span> <span class="mi">8</span><span class="o">];</span>  <span class="c">(* place 5 *)</span>
    <span class="o">[</span><span class="mi">1</span><span class="o">;</span> <span class="mi">5</span><span class="o">;</span> <span class="mi">7</span><span class="o">];</span>     <span class="c">(* place 6 *)</span>
    <span class="o">[</span><span class="mi">6</span><span class="o">;</span> <span class="mi">8</span><span class="o">];</span>        <span class="c">(* place 7 *)</span>
    <span class="o">[</span><span class="mi">50</span><span class="o">]</span>           <span class="c">(* place 8 -&gt; 50 ?! *)</span>
<span class="o">];;</span>
</pre></div>

    </div>
</div>
</div>

<div class="output_wrapper">
<div class="output">


<div class="output_area">

    <div class="prompt output_prompt">Out[37]:</div>




<div class="output_text output_subarea output_execute_result">
<pre>val graphe4 : ville =
  [[2]; [2; 3; 6]; [0; 1]; [1; 3]; [3; 5]; [1; 4; 6; 8]; [1; 5; 7]; [6; 8];
   [50]]
</pre>
</div>

</div>

</div>
</div>

</div>
<div class="cell border-box-sizing code_cell rendered">
<div class="input">
<div class="prompt input_prompt">In&nbsp;[38]:</div>
<div class="inner_cell">
    <div class="input_area">
<div class=" highlight hl-OCaml"><pre><span></span><span class="n">graphe_valide</span> <span class="n">graphe4</span><span class="o">;;</span>
</pre></div>

    </div>
</div>
</div>

<div class="output_wrapper">
<div class="output">


<div class="output_area">

    <div class="prompt output_prompt">Out[38]:</div>




<div class="output_text output_subarea output_execute_result">
<pre>- : bool = false
</pre>
</div>

</div>

</div>
</div>

</div>
<div class="cell border-box-sizing text_cell rendered"><div class="prompt input_prompt">
</div><div class="inner_cell">
<div class="text_cell_render border-box-sizing rendered_html">
<ul>
<li>Et enfin, si une des listes d'adjacence contient deux fois la même place voisine :</li>
</ul>

</div>
</div>
</div>
<div class="cell border-box-sizing code_cell rendered">
<div class="input">
<div class="prompt input_prompt">In&nbsp;[39]:</div>
<div class="inner_cell">
    <div class="input_area">
<div class=" highlight hl-OCaml"><pre><span></span><span class="k">let</span> <span class="n">graphe5</span> <span class="o">:</span> <span class="n">ville</span> <span class="o">=</span> <span class="o">[</span>
    <span class="o">[</span><span class="mi">2</span><span class="o">];</span>           <span class="c">(* place 0 *)</span>
    <span class="o">[</span><span class="mi">2</span><span class="o">;</span> <span class="mi">3</span><span class="o">;</span> <span class="mi">6</span><span class="o">];</span>     <span class="c">(* place 1 *)</span>
    <span class="o">[</span><span class="mi">0</span><span class="o">;</span> <span class="mi">1</span><span class="o">];</span>        <span class="c">(* place 2 *)</span>
    <span class="o">[</span><span class="mi">1</span><span class="o">;</span> <span class="mi">3</span><span class="o">];</span>        <span class="c">(* place 3 *)</span>
    <span class="o">[</span><span class="mi">3</span><span class="o">;</span> <span class="mi">5</span><span class="o">];</span>        <span class="c">(* place 4 *)</span>
    <span class="o">[</span><span class="mi">1</span><span class="o">;</span> <span class="mi">4</span><span class="o">;</span> <span class="mi">6</span><span class="o">;</span> <span class="mi">8</span><span class="o">];</span>  <span class="c">(* place 5 *)</span>
    <span class="o">[</span><span class="mi">1</span><span class="o">;</span> <span class="mi">5</span><span class="o">;</span> <span class="mi">7</span><span class="o">];</span>     <span class="c">(* place 6 *)</span>
    <span class="o">[</span><span class="mi">6</span><span class="o">;</span> <span class="mi">8</span><span class="o">];</span>        <span class="c">(* place 7 *)</span>
    <span class="o">[</span><span class="mi">5</span><span class="o">;</span> <span class="mi">7</span><span class="o">;</span> <span class="mi">5</span><span class="o">]</span>      <span class="c">(* place 8 -&gt; 5 deux fois ! *)</span>
<span class="o">];;</span>
</pre></div>

    </div>
</div>
</div>

<div class="output_wrapper">
<div class="output">


<div class="output_area">

    <div class="prompt output_prompt">Out[39]:</div>




<div class="output_text output_subarea output_execute_result">
<pre>val graphe5 : ville =
  [[2]; [2; 3; 6]; [0; 1]; [1; 3]; [3; 5]; [1; 4; 6; 8]; [1; 5; 7]; [6; 8];
   [5; 7; 5]]
</pre>
</div>

</div>

</div>
</div>

</div>
<div class="cell border-box-sizing code_cell rendered">
<div class="input">
<div class="prompt input_prompt">In&nbsp;[40]:</div>
<div class="inner_cell">
    <div class="input_area">
<div class=" highlight hl-OCaml"><pre><span></span><span class="n">graphe_valide</span> <span class="n">graphe5</span><span class="o">;;</span>
</pre></div>

    </div>
</div>
</div>

<div class="output_wrapper">
<div class="output">


<div class="output_area">

    <div class="prompt output_prompt">Out[40]:</div>




<div class="output_text output_subarea output_execute_result">
<pre>- : bool = false
</pre>
</div>

</div>

</div>
</div>

</div>
<div class="cell border-box-sizing text_cell rendered"><div class="prompt input_prompt">
</div><div class="inner_cell">
<div class="text_cell_render border-box-sizing rendered_html">
<hr>
<h2 id="Bonus-:-&#233;num&#233;ration-de-tous-les-&#233;clairages-possibles">Bonus : &#233;num&#233;ration de tous les &#233;clairages possibles<a class="anchor-link" href="#Bonus-:-&#233;num&#233;ration-de-tous-les-&#233;clairages-possibles">&#182;</a></h2><p>Pour de tous petits graphes, on peut suivre l'approche naïve qui consiste à énumérer toutes les possibilités, et renvoyer celle de nombre de lampadaires minimal.</p>
<p>On pourra ensuite vérifier avec la fonction précédente que l'éclairage donné est bien valide.</p>

</div>
</div>
</div>
<div class="cell border-box-sizing text_cell rendered"><div class="prompt input_prompt">
</div><div class="inner_cell">
<div class="text_cell_render border-box-sizing rendered_html">
<h3 id="&#201;num&#233;ration-des-&#233;clairages-possibles">&#201;num&#233;ration des &#233;clairages possibles<a class="anchor-link" href="#&#201;num&#233;ration-des-&#233;clairages-possibles">&#182;</a></h3><p>Un éclairage est un sous-ensemble, potentiellement vide, de $\{0,\dots,n-1\}$.
Il y en a $2^n$ en tout.</p>
<p>Comment les générer efficacement ? En fait, on s'en fiche, le reste du code sera déjà exponentiel en $n$...</p>
<ul>
<li>La fonction suivante prend une liste de liste, <code>acc</code>, et la dédouble en ajoutant <code>x</code> aux listes qui ne le contiennent pas encore, et en gardant une copie des listes d'avant.
En travaillant avec des listes toutes distinctes, la liste <code>acc</code> est toujours dédoublée.</li>
</ul>

</div>
</div>
</div>
<div class="cell border-box-sizing code_cell rendered">
<div class="input">
<div class="prompt input_prompt">In&nbsp;[41]:</div>
<div class="inner_cell">
    <div class="input_area">
<div class=" highlight hl-OCaml"><pre><span></span><span class="k">let</span> <span class="n">ajoute_ou_pas</span> <span class="o">(</span><span class="n">x</span> <span class="o">:</span> <span class="k">&#39;</span><span class="n">a</span><span class="o">)</span> <span class="o">(</span><span class="n">acc</span> <span class="o">:</span> <span class="k">&#39;</span><span class="n">a</span> <span class="kt">list</span> <span class="kt">list</span><span class="o">)</span> <span class="o">=</span>
    <span class="o">(</span><span class="nn">List</span><span class="p">.</span><span class="n">map</span> <span class="o">(</span><span class="k">fun</span> <span class="n">liste</span> <span class="o">-&gt;</span>
        <span class="k">if</span> <span class="o">(</span><span class="nn">List</span><span class="p">.</span><span class="n">mem</span> <span class="n">x</span> <span class="n">liste</span><span class="o">)</span>
        <span class="k">then</span> <span class="n">liste</span>
        <span class="k">else</span> <span class="n">x</span> <span class="o">::</span> <span class="n">liste</span>
    <span class="o">)</span> <span class="n">acc</span>
    <span class="o">)</span>
    <span class="o">@</span>
    <span class="o">(</span><span class="nn">List</span><span class="p">.</span><span class="n">filter</span> <span class="o">(</span><span class="k">fun</span> <span class="n">liste</span> <span class="o">-&gt;</span>
        <span class="n">not</span> <span class="o">(</span><span class="nn">List</span><span class="p">.</span><span class="n">mem</span> <span class="n">x</span> <span class="n">liste</span><span class="o">)</span>
    <span class="o">)</span> <span class="n">acc</span>
    <span class="o">)</span>
<span class="o">;;</span>
</pre></div>

    </div>
</div>
</div>

<div class="output_wrapper">
<div class="output">


<div class="output_area">

    <div class="prompt output_prompt">Out[41]:</div>




<div class="output_text output_subarea output_execute_result">
<pre>val ajoute_ou_pas : &#39;a -&gt; &#39;a list list -&gt; &#39;a list list = &lt;fun&gt;
</pre>
</div>

</div>

</div>
</div>

</div>
<div class="cell border-box-sizing code_cell rendered">
<div class="input">
<div class="prompt input_prompt">In&nbsp;[42]:</div>
<div class="inner_cell">
    <div class="input_area">
<div class=" highlight hl-OCaml"><pre><span></span><span class="n">ajoute_ou_pas</span> <span class="mi">1</span> <span class="o">[</span><span class="bp">[]</span><span class="o">];;</span>
<span class="n">ajoute_ou_pas</span> <span class="mi">2</span> <span class="o">[[</span><span class="mi">1</span><span class="o">];</span> <span class="bp">[]</span><span class="o">];;</span>
</pre></div>

    </div>
</div>
</div>

<div class="output_wrapper">
<div class="output">


<div class="output_area">

    <div class="prompt output_prompt">Out[42]:</div>




<div class="output_text output_subarea output_execute_result">
<pre>- : int list list = [[1]; []]
</pre>
</div>

</div>

<div class="output_area">

    <div class="prompt output_prompt">Out[42]:</div>




<div class="output_text output_subarea output_execute_result">
<pre>- : int list list = [[2; 1]; [2]; [1]; []]
</pre>
</div>

</div>

</div>
</div>

</div>
<div class="cell border-box-sizing text_cell rendered"><div class="prompt input_prompt">
</div><div class="inner_cell">
<div class="text_cell_render border-box-sizing rendered_html">
<ul>
<li>Maintenant, il suffit d'itérer cette fonction, depuis la liste <code>[[]]</code> contenant juste la liste vide.</li>
</ul>

</div>
</div>
</div>
<div class="cell border-box-sizing code_cell rendered">
<div class="input">
<div class="prompt input_prompt">In&nbsp;[43]:</div>
<div class="inner_cell">
    <div class="input_area">
<div class=" highlight hl-OCaml"><pre><span></span><span class="k">let</span> <span class="n">tous_sous_ensembles</span> <span class="o">(</span><span class="n">liste</span> <span class="o">:</span> <span class="k">&#39;</span><span class="n">a</span> <span class="kt">list</span><span class="o">)</span> <span class="o">:</span> <span class="k">&#39;</span><span class="n">a</span> <span class="kt">list</span> <span class="kt">list</span> <span class="o">=</span>
    <span class="k">let</span> <span class="k">rec</span> <span class="n">aux</span> <span class="n">xs</span> <span class="n">acc</span> <span class="o">=</span>
        <span class="k">match</span> <span class="n">xs</span> <span class="k">with</span>
        <span class="o">|</span> <span class="bp">[]</span> <span class="o">-&gt;</span> <span class="n">acc</span>
        <span class="o">|</span> <span class="n">y</span> <span class="o">::</span> <span class="n">ys</span> <span class="o">-&gt;</span>
            <span class="n">aux</span> <span class="n">ys</span> <span class="o">(</span><span class="n">ajoute_ou_pas</span> <span class="n">y</span> <span class="n">acc</span><span class="o">)</span>
    <span class="k">in</span>
    <span class="n">aux</span> <span class="n">liste</span> <span class="o">[</span> <span class="bp">[]</span> <span class="o">]</span>
<span class="o">;;</span>
</pre></div>

    </div>
</div>
</div>

<div class="output_wrapper">
<div class="output">


<div class="output_area">

    <div class="prompt output_prompt">Out[43]:</div>




<div class="output_text output_subarea output_execute_result">
<pre>val tous_sous_ensembles : &#39;a list -&gt; &#39;a list list = &lt;fun&gt;
</pre>
</div>

</div>

</div>
</div>

</div>
<div class="cell border-box-sizing code_cell rendered">
<div class="input">
<div class="prompt input_prompt">In&nbsp;[44]:</div>
<div class="inner_cell">
    <div class="input_area">
<div class=" highlight hl-OCaml"><pre><span></span><span class="n">tous_sous_ensembles</span> <span class="bp">[]</span><span class="o">;;</span>
<span class="n">tous_sous_ensembles</span> <span class="o">[</span><span class="mi">1</span><span class="o">];;</span>
<span class="n">tous_sous_ensembles</span> <span class="o">[</span><span class="mi">1</span><span class="o">;</span> <span class="mi">2</span><span class="o">];;</span>
<span class="n">tous_sous_ensembles</span> <span class="o">[</span><span class="mi">1</span><span class="o">;</span> <span class="mi">2</span><span class="o">;</span> <span class="mi">3</span><span class="o">];;</span> <span class="c">(* taille 2^3 = 8 *)</span>
</pre></div>

    </div>
</div>
</div>

<div class="output_wrapper">
<div class="output">


<div class="output_area">

    <div class="prompt output_prompt">Out[44]:</div>




<div class="output_text output_subarea output_execute_result">
<pre>- : &#39;a list list = [[]]
</pre>
</div>

</div>

<div class="output_area">

    <div class="prompt output_prompt">Out[44]:</div>




<div class="output_text output_subarea output_execute_result">
<pre>- : int list list = [[1]; []]
</pre>
</div>

</div>

<div class="output_area">

    <div class="prompt output_prompt">Out[44]:</div>




<div class="output_text output_subarea output_execute_result">
<pre>- : int list list = [[2; 1]; [2]; [1]; []]
</pre>
</div>

</div>

<div class="output_area">

    <div class="prompt output_prompt">Out[44]:</div>




<div class="output_text output_subarea output_execute_result">
<pre>- : int list list = [[3; 2; 1]; [3; 2]; [3; 1]; [3]; [2; 1]; [2]; [1]; []]
</pre>
</div>

</div>

</div>
</div>

</div>
<div class="cell border-box-sizing code_cell rendered">
<div class="input">
<div class="prompt input_prompt">In&nbsp;[45]:</div>
<div class="inner_cell">
    <div class="input_area">
<div class=" highlight hl-OCaml"><pre><span></span><span class="n">tous_sous_ensembles</span> <span class="o">[</span><span class="mi">0</span><span class="o">;</span> <span class="mi">1</span><span class="o">;</span> <span class="mi">2</span><span class="o">;</span> <span class="mi">3</span><span class="o">];;</span> <span class="c">(* taille 2^4 = 16 *)</span>
<span class="n">tous_sous_ensembles</span> <span class="o">[</span><span class="mi">0</span><span class="o">;</span> <span class="mi">1</span><span class="o">;</span> <span class="mi">2</span><span class="o">;</span> <span class="mi">3</span><span class="o">;</span> <span class="mi">4</span><span class="o">];;</span> <span class="c">(* taille 2^5 = 32 *)</span>
<span class="n">tous_sous_ensembles</span> <span class="o">[</span><span class="mi">0</span><span class="o">;</span> <span class="mi">1</span><span class="o">;</span> <span class="mi">2</span><span class="o">;</span> <span class="mi">3</span><span class="o">;</span> <span class="mi">4</span><span class="o">;</span> <span class="mi">5</span><span class="o">];;</span> <span class="c">(* taille 2^6 = 64 *)</span>
<span class="n">tous_sous_ensembles</span> <span class="o">[</span><span class="mi">0</span><span class="o">;</span> <span class="mi">1</span><span class="o">;</span> <span class="mi">2</span><span class="o">;</span> <span class="mi">3</span><span class="o">;</span> <span class="mi">4</span><span class="o">;</span> <span class="mi">5</span><span class="o">;</span> <span class="mi">6</span><span class="o">];;</span> <span class="c">(* taille 2^7 = 128 *)</span>
<span class="n">tous_sous_ensembles</span> <span class="o">[</span><span class="mi">0</span><span class="o">;</span> <span class="mi">1</span><span class="o">;</span> <span class="mi">2</span><span class="o">;</span> <span class="mi">3</span><span class="o">;</span> <span class="mi">4</span><span class="o">;</span> <span class="mi">5</span><span class="o">;</span> <span class="mi">6</span><span class="o">;</span> <span class="mi">7</span><span class="o">];;</span> <span class="c">(* taille 2^8 = 256 *)</span>
<span class="n">tous_sous_ensembles</span> <span class="o">[</span><span class="mi">0</span><span class="o">;</span> <span class="mi">1</span><span class="o">;</span> <span class="mi">2</span><span class="o">;</span> <span class="mi">3</span><span class="o">;</span> <span class="mi">4</span><span class="o">;</span> <span class="mi">5</span><span class="o">;</span> <span class="mi">6</span><span class="o">;</span> <span class="mi">7</span><span class="o">;</span> <span class="mi">8</span><span class="o">];;</span> <span class="c">(* taille 2^9 = 512 *)</span>

<span class="k">assert</span> <span class="o">((</span><span class="nn">List</span><span class="p">.</span><span class="n">length</span> <span class="o">(</span><span class="n">tous_sous_ensembles</span> <span class="o">[</span><span class="mi">0</span><span class="o">;</span> <span class="mi">1</span><span class="o">;</span> <span class="mi">2</span><span class="o">;</span> <span class="mi">3</span><span class="o">;</span> <span class="mi">4</span><span class="o">;</span> <span class="mi">5</span><span class="o">;</span> <span class="mi">6</span><span class="o">;</span> <span class="mi">7</span><span class="o">;</span> <span class="mi">8</span><span class="o">]))</span> <span class="o">=</span> <span class="mi">512</span><span class="o">);;</span>
</pre></div>

    </div>
</div>
</div>

<div class="output_wrapper">
<div class="output">


<div class="output_area">

    <div class="prompt output_prompt">Out[45]:</div>




<div class="output_text output_subarea output_execute_result">
<pre>- : int list list =
[[3; 2; 1; 0]; [3; 2; 1]; [3; 2; 0]; [3; 2]; [3; 1; 0]; [3; 1]; [3; 0]; 
 [3]; [2; 1; 0]; [2; 1]; [2; 0]; [2]; [1; 0]; [1]; [0]; []]
</pre>
</div>

</div>

<div class="output_area">

    <div class="prompt output_prompt">Out[45]:</div>




<div class="output_text output_subarea output_execute_result">
<pre>- : int list list =
[[4; 3; 2; 1; 0]; [4; 3; 2; 1]; [4; 3; 2; 0]; [4; 3; 2]; [4; 3; 1; 0];
 [4; 3; 1]; [4; 3; 0]; [4; 3]; [4; 2; 1; 0]; [4; 2; 1]; [4; 2; 0]; [4; 2];
 [4; 1; 0]; [4; 1]; [4; 0]; [4]; [3; 2; 1; 0]; [3; 2; 1]; [3; 2; 0]; 
 [3; 2]; [3; 1; 0]; [3; 1]; [3; 0]; [3]; [2; 1; 0]; [2; 1]; [2; 0]; [2];
 [1; 0]; [1]; [0]; []]
</pre>
</div>

</div>

<div class="output_area">

    <div class="prompt output_prompt">Out[45]:</div>




<div class="output_text output_subarea output_execute_result">
<pre>- : int list list =
[[5; 4; 3; 2; 1; 0]; [5; 4; 3; 2; 1]; [5; 4; 3; 2; 0]; [5; 4; 3; 2];
 [5; 4; 3; 1; 0]; [5; 4; 3; 1]; [5; 4; 3; 0]; [5; 4; 3]; [5; 4; 2; 1; 0];
 [5; 4; 2; 1]; [5; 4; 2; 0]; [5; 4; 2]; [5; 4; 1; 0]; [5; 4; 1]; [5; 4; 0];
 [5; 4]; [5; 3; 2; 1; 0]; [5; 3; 2; 1]; [5; 3; 2; 0]; [5; 3; 2];
 [5; 3; 1; 0]; [5; 3; 1]; [5; 3; 0]; [5; 3]; [5; 2; 1; 0]; [5; 2; 1];
 [5; 2; 0]; [5; 2]; [5; 1; 0]; [5; 1]; [5; 0]; [5]; [4; 3; 2; 1; 0];
 [4; 3; 2; 1]; [4; 3; 2; 0]; [4; 3; 2]; [4; 3; 1; 0]; [4; 3; 1]; [4; 3; 0];
 [4; 3]; [4; 2; 1; 0]; [4; 2; 1]; [4; 2; 0]; [4; 2]; [4; 1; 0]; [4; 1];
 [4; 0]; [4]; [3; 2; 1; 0]; [3; 2; 1]; [3; 2; 0]; [3; 2]; [3; 1; 0]; 
 [3; 1]; [3; 0]; [3]; [2; 1; 0]; [2; 1]; [2; 0]; [2]; [1; 0]; [1]; [0]; 
 []]
</pre>
</div>

</div>

<div class="output_area">

    <div class="prompt output_prompt">Out[45]:</div>




<div class="output_text output_subarea output_execute_result">
<pre>- : int list list =
[[6; 5; 4; 3; 2; 1; 0]; [6; 5; 4; 3; 2; 1]; [6; 5; 4; 3; 2; 0];
 [6; 5; 4; 3; 2]; [6; 5; 4; 3; 1; 0]; [6; 5; 4; 3; 1]; [6; 5; 4; 3; 0];
 [6; 5; 4; 3]; [6; 5; 4; 2; 1; 0]; [6; 5; 4; 2; 1]; [6; 5; 4; 2; 0];
 [6; 5; 4; 2]; [6; 5; 4; 1; 0]; [6; 5; 4; 1]; [6; 5; 4; 0]; [6; 5; 4];
 [6; 5; 3; 2; 1; 0]; [6; 5; 3; 2; 1]; [6; 5; 3; 2; 0]; [6; 5; 3; 2];
 [6; 5; 3; 1; 0]; [6; 5; 3; 1]; [6; 5; 3; 0]; [6; 5; 3]; [6; 5; 2; 1; 0];
 [6; 5; 2; 1]; [6; 5; 2; 0]; [6; 5; 2]; [6; 5; 1; 0]; [6; 5; 1]; [6; 5; 0];
 [6; 5]; [6; 4; 3; 2; 1; 0]; [6; 4; 3; 2; 1]; [6; 4; 3; 2; 0]; [6; 4; 3; 2];
 [6; 4; 3; 1; 0]; [6; 4; 3; 1]; [6; 4; 3; 0]; [6; 4; 3]; [6; 4; 2; 1; 0];
 [6; 4; 2; 1]; [6; 4; 2; 0]; [6; 4; 2]; [6; 4; 1; 0]; [6; 4; 1]; [6; 4; 0];
 [6; 4]; [6; 3; 2; 1; 0]; [6; 3; 2; 1]; [6; 3; 2; 0]; [6; 3; 2];
 [6; 3; 1; 0]; [6; 3; 1]; [6; 3; 0]; [6; 3]; [6; 2; 1; 0]; [6; ...]; ...]
</pre>
</div>

</div>

<div class="output_area">

    <div class="prompt output_prompt">Out[45]:</div>




<div class="output_text output_subarea output_execute_result">
<pre>- : int list list =
[[7; 6; 5; 4; 3; 2; 1; 0]; [7; 6; 5; 4; 3; 2; 1]; [7; 6; 5; 4; 3; 2; 0];
 [7; 6; 5; 4; 3; 2]; [7; 6; 5; 4; 3; 1; 0]; [7; 6; 5; 4; 3; 1];
 [7; 6; 5; 4; 3; 0]; [7; 6; 5; 4; 3]; [7; 6; 5; 4; 2; 1; 0];
 [7; 6; 5; 4; 2; 1]; [7; 6; 5; 4; 2; 0]; [7; 6; 5; 4; 2]; [7; 6; 5; 4; 1; 0];
 [7; 6; 5; 4; 1]; [7; 6; 5; 4; 0]; [7; 6; 5; 4]; [7; 6; 5; 3; 2; 1; 0];
 [7; 6; 5; 3; 2; 1]; [7; 6; 5; 3; 2; 0]; [7; 6; 5; 3; 2]; [7; 6; 5; 3; 1; 0];
 [7; 6; 5; 3; 1]; [7; 6; 5; 3; 0]; [7; 6; 5; 3]; [7; 6; 5; 2; 1; 0];
 [7; 6; 5; 2; 1]; [7; 6; 5; 2; 0]; [7; 6; 5; 2]; [7; 6; 5; 1; 0];
 [7; 6; 5; 1]; [7; 6; 5; 0]; [7; 6; 5]; [7; 6; 4; 3; 2; 1; 0];
 [7; 6; 4; 3; 2; 1]; [7; 6; 4; 3; 2; 0]; [7; 6; 4; 3; 2]; [7; 6; 4; 3; 1; 0];
 [7; 6; 4; 3; 1]; [7; 6; 4; 3; 0]; [7; 6; 4; 3]; [7; 6; 4; 2; 1; 0];
 [7; 6; 4; 2; 1]; [7; 6; 4; 2; 0]; [7; 6; 4; 2]; [7; 6; 4; 1; 0];
 [7; 6; 4; 1]; [7; 6; 4; ...]; ...]
</pre>
</div>

</div>

<div class="output_area">

    <div class="prompt output_prompt">Out[45]:</div>




<div class="output_text output_subarea output_execute_result">
<pre>- : int list list =
[[8; 7; 6; 5; 4; 3; 2; 1; 0]; [8; 7; 6; 5; 4; 3; 2; 1];
 [8; 7; 6; 5; 4; 3; 2; 0]; [8; 7; 6; 5; 4; 3; 2]; [8; 7; 6; 5; 4; 3; 1; 0];
 [8; 7; 6; 5; 4; 3; 1]; [8; 7; 6; 5; 4; 3; 0]; [8; 7; 6; 5; 4; 3];
 [8; 7; 6; 5; 4; 2; 1; 0]; [8; 7; 6; 5; 4; 2; 1]; [8; 7; 6; 5; 4; 2; 0];
 [8; 7; 6; 5; 4; 2]; [8; 7; 6; 5; 4; 1; 0]; [8; 7; 6; 5; 4; 1];
 [8; 7; 6; 5; 4; 0]; [8; 7; 6; 5; 4]; [8; 7; 6; 5; 3; 2; 1; 0];
 [8; 7; 6; 5; 3; 2; 1]; [8; 7; 6; 5; 3; 2; 0]; [8; 7; 6; 5; 3; 2];
 [8; 7; 6; 5; 3; 1; 0]; [8; 7; 6; 5; 3; 1]; [8; 7; 6; 5; 3; 0];
 [8; 7; 6; 5; 3]; [8; 7; 6; 5; 2; 1; 0]; [8; 7; 6; 5; 2; 1];
 [8; 7; 6; 5; 2; 0]; [8; 7; 6; 5; 2]; [8; 7; 6; 5; 1; 0]; [8; 7; 6; 5; 1];
 [8; 7; 6; 5; 0]; [8; 7; 6; 5]; [8; 7; 6; 4; 3; 2; 1; 0];
 [8; 7; 6; 4; 3; 2; 1]; [8; 7; 6; 4; 3; 2; 0]; [8; 7; 6; 4; 3; 2];
 [8; 7; 6; 4; 3; 1; 0]; [8; 7; 6; 4; 3; 1]; [8; 7; 6; 4; 3; 0];
 [8; 7; 6; 4; ...]; ...]
</pre>
</div>

</div>

<div class="output_area">

    <div class="prompt output_prompt">Out[45]:</div>




<div class="output_text output_subarea output_execute_result">
<pre>- : unit = ()
</pre>
</div>

</div>

</div>
</div>

</div>
<div class="cell border-box-sizing text_cell rendered"><div class="prompt input_prompt">
</div><div class="inner_cell">
<div class="text_cell_render border-box-sizing rendered_html">
<blockquote><p>C'est <a href="https://stackoverflow.com/questions/374626/how-can-i-find-all-the-subsets-of-a-set-with-exactly-n-elements">tellement plus simple en Python</a>...</p>
</blockquote>

</div>
</div>
</div>
<div class="cell border-box-sizing text_cell rendered"><div class="prompt input_prompt">
</div><div class="inner_cell">
<div class="text_cell_render border-box-sizing rendered_html">
<p>Une autre fonction utile :</p>

</div>
</div>
</div>
<div class="cell border-box-sizing code_cell rendered">
<div class="input">
<div class="prompt input_prompt">In&nbsp;[46]:</div>
<div class="inner_cell">
    <div class="input_area">
<div class=" highlight hl-OCaml"><pre><span></span><span class="k">let</span> <span class="n">range</span> <span class="o">(</span><span class="n">n</span> <span class="o">:</span> <span class="kt">int</span><span class="o">)</span> <span class="o">:</span> <span class="o">(</span><span class="kt">int</span> <span class="kt">list</span><span class="o">)</span> <span class="o">=</span>
    <span class="k">let</span> <span class="k">rec</span> <span class="n">range_x</span> <span class="o">(</span><span class="n">n</span> <span class="o">:</span> <span class="kt">int</span><span class="o">)</span> <span class="o">:</span> <span class="o">(</span><span class="kt">int</span> <span class="kt">list</span><span class="o">)</span> <span class="o">=</span>
    <span class="k">match</span> <span class="n">n</span> <span class="k">with</span>
    <span class="o">|</span> <span class="n">n</span> <span class="k">when</span> <span class="n">n</span> <span class="o">&lt;</span> <span class="mi">0</span> <span class="o">-&gt;</span> <span class="bp">[]</span>
    <span class="o">|</span> <span class="mi">0</span> <span class="o">-&gt;</span> <span class="o">[</span><span class="mi">0</span><span class="o">]</span>
    <span class="o">|</span> <span class="n">n</span> <span class="o">-&gt;</span> <span class="n">n</span> <span class="o">::</span> <span class="o">(</span><span class="n">range_x</span> <span class="o">(</span><span class="n">n</span> <span class="o">-</span> <span class="mi">1</span><span class="o">))</span>
    <span class="k">in</span>
    <span class="nn">List</span><span class="p">.</span><span class="n">rev</span> <span class="o">(</span><span class="n">range_x</span> <span class="n">n</span><span class="o">)</span>
<span class="o">;;</span>
</pre></div>

    </div>
</div>
</div>

<div class="output_wrapper">
<div class="output">


<div class="output_area">

    <div class="prompt output_prompt">Out[46]:</div>




<div class="output_text output_subarea output_execute_result">
<pre>val range : int -&gt; int list = &lt;fun&gt;
</pre>
</div>

</div>

</div>
</div>

</div>
<div class="cell border-box-sizing code_cell rendered">
<div class="input">
<div class="prompt input_prompt">In&nbsp;[47]:</div>
<div class="inner_cell">
    <div class="input_area">
<div class=" highlight hl-OCaml"><pre><span></span><span class="n">range</span> <span class="mi">0</span><span class="o">;;</span>
<span class="n">range</span> <span class="mi">1</span><span class="o">;;</span>
<span class="n">range</span> <span class="mi">5</span><span class="o">;;</span>
<span class="n">range</span> <span class="mi">10</span><span class="o">;;</span>
</pre></div>

    </div>
</div>
</div>

<div class="output_wrapper">
<div class="output">


<div class="output_area">

    <div class="prompt output_prompt">Out[47]:</div>




<div class="output_text output_subarea output_execute_result">
<pre>- : int list = [0]
</pre>
</div>

</div>

<div class="output_area">

    <div class="prompt output_prompt">Out[47]:</div>




<div class="output_text output_subarea output_execute_result">
<pre>- : int list = [0; 1]
</pre>
</div>

</div>

<div class="output_area">

    <div class="prompt output_prompt">Out[47]:</div>




<div class="output_text output_subarea output_execute_result">
<pre>- : int list = [0; 1; 2; 3; 4; 5]
</pre>
</div>

</div>

<div class="output_area">

    <div class="prompt output_prompt">Out[47]:</div>




<div class="output_text output_subarea output_execute_result">
<pre>- : int list = [0; 1; 2; 3; 4; 5; 6; 7; 8; 9; 10]
</pre>
</div>

</div>

</div>
</div>

</div>
<div class="cell border-box-sizing code_cell rendered">
<div class="input">
<div class="prompt input_prompt">In&nbsp;[48]:</div>
<div class="inner_cell">
    <div class="input_area">
<div class=" highlight hl-OCaml"><pre><span></span><span class="k">let</span> <span class="n">tous_les_eclairages_possibles</span> <span class="o">(</span><span class="n">graphe</span> <span class="o">:</span> <span class="n">ville</span><span class="o">)</span> <span class="o">:</span> <span class="o">(</span><span class="n">eclairage</span> <span class="kt">list</span><span class="o">)</span> <span class="o">=</span>
    <span class="k">assert</span> <span class="o">(</span><span class="n">graphe_valide</span> <span class="n">graphe</span><span class="o">);</span>
    <span class="k">let</span> <span class="n">n</span> <span class="o">=</span> <span class="o">(</span><span class="nn">List</span><span class="p">.</span><span class="n">length</span> <span class="n">graphe</span><span class="o">)</span> <span class="o">-</span> <span class="mi">1</span> <span class="k">in</span>
    <span class="k">let</span> <span class="n">sommets</span> <span class="o">=</span> <span class="n">range</span> <span class="n">n</span> <span class="k">in</span>
    <span class="n">tous_sous_ensembles</span> <span class="n">sommets</span>    
<span class="o">;;</span>
</pre></div>

    </div>
</div>
</div>

<div class="output_wrapper">
<div class="output">


<div class="output_area">

    <div class="prompt output_prompt">Out[48]:</div>




<div class="output_text output_subarea output_execute_result">
<pre>val tous_les_eclairages_possibles : ville -&gt; eclairage list = &lt;fun&gt;
</pre>
</div>

</div>

</div>
</div>

</div>
<div class="cell border-box-sizing code_cell rendered">
<div class="input">
<div class="prompt input_prompt">In&nbsp;[49]:</div>
<div class="inner_cell">
    <div class="input_area">
<div class=" highlight hl-OCaml"><pre><span></span><span class="n">tous_les_eclairages_possibles</span> <span class="n">graphe1</span><span class="o">;;</span>
</pre></div>

    </div>
</div>
</div>

<div class="output_wrapper">
<div class="output">


<div class="output_area">

    <div class="prompt output_prompt">Out[49]:</div>




<div class="output_text output_subarea output_execute_result">
<pre>- : eclairage list =
[[8; 7; 6; 5; 4; 3; 2; 1; 0]; [8; 7; 6; 5; 4; 3; 2; 1];
 [8; 7; 6; 5; 4; 3; 2; 0]; [8; 7; 6; 5; 4; 3; 2]; [8; 7; 6; 5; 4; 3; 1; 0];
 [8; 7; 6; 5; 4; 3; 1]; [8; 7; 6; 5; 4; 3; 0]; [8; 7; 6; 5; 4; 3];
 [8; 7; 6; 5; 4; 2; 1; 0]; [8; 7; 6; 5; 4; 2; 1]; [8; 7; 6; 5; 4; 2; 0];
 [8; 7; 6; 5; 4; 2]; [8; 7; 6; 5; 4; 1; 0]; [8; 7; 6; 5; 4; 1];
 [8; 7; 6; 5; 4; 0]; [8; 7; 6; 5; 4]; [8; 7; 6; 5; 3; 2; 1; 0];
 [8; 7; 6; 5; 3; 2; 1]; [8; 7; 6; 5; 3; 2; 0]; [8; 7; 6; 5; 3; 2];
 [8; 7; 6; 5; 3; 1; 0]; [8; 7; 6; 5; 3; 1]; [8; 7; 6; 5; 3; 0];
 [8; 7; 6; 5; 3]; [8; 7; 6; 5; 2; 1; 0]; [8; 7; 6; 5; 2; 1];
 [8; 7; 6; 5; 2; 0]; [8; 7; 6; 5; 2]; [8; 7; 6; 5; 1; 0]; [8; 7; 6; 5; 1];
 [8; 7; 6; 5; 0]; [8; 7; 6; 5]; [8; 7; 6; 4; 3; 2; 1; 0];
 [8; 7; 6; 4; 3; 2; 1]; [8; 7; 6; 4; 3; 2; ...]; ...]
</pre>
</div>

</div>

</div>
</div>

</div>
<div class="cell border-box-sizing text_cell rendered"><div class="prompt input_prompt">
</div><div class="inner_cell">
<div class="text_cell_render border-box-sizing rendered_html">
<h3 id="Liste-de-taille-minimale-parmi-une-liste-de-listes">Liste de taille minimale parmi une liste de listes<a class="anchor-link" href="#Liste-de-taille-minimale-parmi-une-liste-de-listes">&#182;</a></h3>
</div>
</div>
</div>
<div class="cell border-box-sizing code_cell rendered">
<div class="input">
<div class="prompt input_prompt">In&nbsp;[50]:</div>
<div class="inner_cell">
    <div class="input_area">
<div class=" highlight hl-OCaml"><pre><span></span><span class="k">let</span> <span class="n">min_liste</span> <span class="o">(</span><span class="n">liste</span> <span class="o">:</span> <span class="kt">int</span> <span class="kt">list</span><span class="o">)</span> <span class="o">:</span> <span class="kt">int</span> <span class="o">=</span>
    <span class="nn">List</span><span class="p">.</span><span class="n">fold_left</span> <span class="n">min</span> <span class="o">(</span><span class="n">max_int</span><span class="o">)</span> <span class="n">liste</span>
<span class="o">;;</span>
</pre></div>

    </div>
</div>
</div>

<div class="output_wrapper">
<div class="output">


<div class="output_area">

    <div class="prompt output_prompt">Out[50]:</div>




<div class="output_text output_subarea output_execute_result">
<pre>val min_liste : int list -&gt; int = &lt;fun&gt;
</pre>
</div>

</div>

</div>
</div>

</div>
<div class="cell border-box-sizing code_cell rendered">
<div class="input">
<div class="prompt input_prompt">In&nbsp;[51]:</div>
<div class="inner_cell">
    <div class="input_area">
<div class=" highlight hl-OCaml"><pre><span></span><span class="n">min_liste</span> <span class="o">[</span><span class="mi">123</span><span class="o">;</span> <span class="mi">12</span><span class="o">;</span> <span class="mi">1</span><span class="o">];;</span>
</pre></div>

    </div>
</div>
</div>

<div class="output_wrapper">
<div class="output">


<div class="output_area">

    <div class="prompt output_prompt">Out[51]:</div>




<div class="output_text output_subarea output_execute_result">
<pre>- : int = 1
</pre>
</div>

</div>

</div>
</div>

</div>
<div class="cell border-box-sizing code_cell rendered">
<div class="input">
<div class="prompt input_prompt">In&nbsp;[52]:</div>
<div class="inner_cell">
    <div class="input_area">
<div class=" highlight hl-OCaml"><pre><span></span><span class="k">let</span> <span class="n">taille_min</span> <span class="o">(</span><span class="n">listes</span> <span class="o">:</span> <span class="kt">int</span> <span class="kt">list</span> <span class="kt">list</span><span class="o">)</span> <span class="o">:</span> <span class="kt">int</span> <span class="o">=</span>
    <span class="n">min_liste</span> <span class="o">(</span><span class="nn">List</span><span class="p">.</span><span class="n">map</span> <span class="nn">List</span><span class="p">.</span><span class="n">length</span> <span class="n">listes</span><span class="o">)</span>
<span class="o">;;</span>
</pre></div>

    </div>
</div>
</div>

<div class="output_wrapper">
<div class="output">


<div class="output_area">

    <div class="prompt output_prompt">Out[52]:</div>




<div class="output_text output_subarea output_execute_result">
<pre>val taille_min : int list list -&gt; int = &lt;fun&gt;
</pre>
</div>

</div>

</div>
</div>

</div>
<div class="cell border-box-sizing text_cell rendered"><div class="prompt input_prompt">
</div><div class="inner_cell">
<div class="text_cell_render border-box-sizing rendered_html">
<h3 id="Trouver-un-&#233;clairage-optimal">Trouver un &#233;clairage optimal<a class="anchor-link" href="#Trouver-un-&#233;clairage-optimal">&#182;</a></h3><p>Ca va être assez naïf :</p>
<ol>
<li>on calcule tous les éclairages possibles,</li>
<li>on filtre les éclairages pour ne garder que ceux qui sont valides,</li>
<li>on calcule la longueur minimale,</li>
<li>tant qu'on y est, on filtre pour ne garder que ceux qui sont de longueur minimale (plutôt que d'en renvoyer un seul).</li>
</ol>

</div>
</div>
</div>
<div class="cell border-box-sizing code_cell rendered">
<div class="input">
<div class="prompt input_prompt">In&nbsp;[53]:</div>
<div class="inner_cell">
    <div class="input_area">
<div class=" highlight hl-OCaml"><pre><span></span><span class="k">let</span> <span class="n">eclairages_optimaux</span> <span class="o">(</span><span class="n">graphe</span> <span class="o">:</span> <span class="n">ville</span><span class="o">)</span> <span class="o">:</span> <span class="o">(</span><span class="n">eclairage</span> <span class="kt">list</span><span class="o">)</span> <span class="o">=</span>
    <span class="k">let</span> <span class="n">propositions</span> <span class="o">=</span>
        <span class="n">tous_les_eclairages_possibles</span> <span class="n">graphe</span>
    <span class="k">in</span>
    <span class="k">let</span> <span class="n">propositions_valides</span> <span class="o">=</span>
        <span class="nn">List</span><span class="p">.</span><span class="n">filter</span> <span class="o">(</span><span class="n">verifie_eclairage</span> <span class="n">graphe</span><span class="o">)</span> <span class="n">propositions</span>
    <span class="k">in</span>
    <span class="k">let</span> <span class="n">taille_minimale</span> <span class="o">=</span> 
        <span class="n">taille_min</span> <span class="n">propositions_valides</span>
    <span class="k">in</span>
    <span class="k">let</span> <span class="n">propositions_minimales</span> <span class="o">=</span>
        <span class="nn">List</span><span class="p">.</span><span class="n">filter</span> <span class="o">(</span><span class="k">fun</span> <span class="n">li</span> <span class="o">-&gt;</span>
            <span class="o">(</span><span class="nn">List</span><span class="p">.</span><span class="n">length</span> <span class="n">li</span><span class="o">)</span> <span class="o">=</span> <span class="n">taille_minimale</span>
        <span class="o">)</span> <span class="n">propositions_valides</span>
    <span class="k">in</span>
    <span class="n">propositions_minimales</span>
<span class="o">;;</span>
</pre></div>

    </div>
</div>
</div>

<div class="output_wrapper">
<div class="output">


<div class="output_area">

    <div class="prompt output_prompt">Out[53]:</div>




<div class="output_text output_subarea output_execute_result">
<pre>val eclairages_optimaux : ville -&gt; eclairage list = &lt;fun&gt;
</pre>
</div>

</div>

</div>
</div>

</div>
<div class="cell border-box-sizing text_cell rendered"><div class="prompt input_prompt">
</div><div class="inner_cell">
<div class="text_cell_render border-box-sizing rendered_html">
<h3 id="Exemples">Exemples<a class="anchor-link" href="#Exemples">&#182;</a></h3><ul>
<li>On commence avec un tout petit graphe, pour vérifier rapidement avant de passer sur un plus gros graphe :</li>
</ul>

</div>
</div>
</div>
<div class="cell border-box-sizing code_cell rendered">
<div class="input">
<div class="prompt input_prompt">In&nbsp;[54]:</div>
<div class="inner_cell">
    <div class="input_area">
<div class=" highlight hl-OCaml"><pre><span></span><span class="k">let</span> <span class="n">graphe2</span> <span class="o">:</span> <span class="n">ville</span> <span class="o">=</span> <span class="o">[</span>
    <span class="o">[</span><span class="mi">1</span><span class="o">;</span> <span class="mi">2</span><span class="o">];</span>  <span class="c">(* place 0 -&gt; 1 2 *)</span>
    <span class="o">[</span><span class="mi">0</span><span class="o">;</span> <span class="mi">2</span><span class="o">];</span>  <span class="c">(* place 1 -&gt; 0 2 *)</span>
    <span class="o">[</span><span class="mi">0</span><span class="o">;</span> <span class="mi">1</span><span class="o">]</span>   <span class="c">(* place 2 -&gt; 0 1 *)</span>
<span class="o">]</span> <span class="o">;;</span>
</pre></div>

    </div>
</div>
</div>

<div class="output_wrapper">
<div class="output">


<div class="output_area">

    <div class="prompt output_prompt">Out[54]:</div>




<div class="output_text output_subarea output_execute_result">
<pre>val graphe2 : ville = [[1; 2]; [0; 2]; [0; 1]]
</pre>
</div>

</div>

</div>
</div>

</div>
<div class="cell border-box-sizing code_cell rendered">
<div class="input">
<div class="prompt input_prompt">In&nbsp;[55]:</div>
<div class="inner_cell">
    <div class="input_area">
<div class=" highlight hl-OCaml"><pre><span></span><span class="n">tous_les_eclairages_possibles</span> <span class="n">graphe2</span><span class="o">;;</span>

<span class="nn">List</span><span class="p">.</span><span class="n">length</span> <span class="o">(</span><span class="n">tous_les_eclairages_possibles</span> <span class="n">graphe2</span><span class="o">);;</span>
</pre></div>

    </div>
</div>
</div>

<div class="output_wrapper">
<div class="output">


<div class="output_area">

    <div class="prompt output_prompt">Out[55]:</div>




<div class="output_text output_subarea output_execute_result">
<pre>- : eclairage list = [[2; 1; 0]; [2; 1]; [2; 0]; [2]; [1; 0]; [1]; [0]; []]
</pre>
</div>

</div>

<div class="output_area">

    <div class="prompt output_prompt">Out[55]:</div>




<div class="output_text output_subarea output_execute_result">
<pre>- : int = 8
</pre>
</div>

</div>

</div>
</div>

</div>
<div class="cell border-box-sizing text_cell rendered"><div class="prompt input_prompt">
</div><div class="inner_cell">
<div class="text_cell_render border-box-sizing rendered_html">
<p>Il y a $8$ éclairages possibles ($2^3$) et les $3$ de taille $2$ sont optimaux : en effet sur un graphe complet à $n$ sommets, il faut et il suffit d'éclairer n'importe quel ensenble de $n-1$ places pour éclairer toutes les $n(n-1)$ arêtes.</p>

</div>
</div>
</div>
<div class="cell border-box-sizing code_cell rendered">
<div class="input">
<div class="prompt input_prompt">In&nbsp;[56]:</div>
<div class="inner_cell">
    <div class="input_area">
<div class=" highlight hl-OCaml"><pre><span></span><span class="n">eclairages_optimaux</span> <span class="n">graphe2</span><span class="o">;;</span>
</pre></div>

    </div>
</div>
</div>

<div class="output_wrapper">
<div class="output">


<div class="output_area">

    <div class="prompt output_prompt">Out[56]:</div>




<div class="output_text output_subarea output_execute_result">
<pre>- : eclairage list = [[2; 1]; [2; 0]; [1; 0]]
</pre>
</div>

</div>

</div>
</div>

</div>
<div class="cell border-box-sizing text_cell rendered"><div class="prompt input_prompt">
</div><div class="inner_cell">
<div class="text_cell_render border-box-sizing rendered_html">
<ul>
<li>Et sur le graphe avec lequel on travaille depuis le début :</li>
</ul>

</div>
</div>
</div>
<div class="cell border-box-sizing code_cell rendered">
<div class="input">
<div class="prompt input_prompt">In&nbsp;[57]:</div>
<div class="inner_cell">
    <div class="input_area">
<div class=" highlight hl-OCaml"><pre><span></span><span class="n">graphe1</span><span class="o">;;</span>
</pre></div>

    </div>
</div>
</div>

<div class="output_wrapper">
<div class="output">


<div class="output_area">

    <div class="prompt output_prompt">Out[57]:</div>




<div class="output_text output_subarea output_execute_result">
<pre>- : ville =
[[2]; [2; 3; 6]; [0; 1]; [1; 4]; [3; 5]; [1; 4; 6; 8]; [1; 5; 7]; [6; 8];
 [5; 7]]
</pre>
</div>

</div>

</div>
</div>

</div>
<div class="cell border-box-sizing code_cell rendered">
<div class="input">
<div class="prompt input_prompt">In&nbsp;[58]:</div>
<div class="inner_cell">
    <div class="input_area">
<div class=" highlight hl-OCaml"><pre><span></span><span class="n">tous_les_eclairages_possibles</span> <span class="n">graphe1</span><span class="o">;;</span>

<span class="nn">List</span><span class="p">.</span><span class="n">length</span> <span class="o">(</span><span class="n">tous_les_eclairages_possibles</span> <span class="n">graphe1</span><span class="o">);;</span>
</pre></div>

    </div>
</div>
</div>

<div class="output_wrapper">
<div class="output">


<div class="output_area">

    <div class="prompt output_prompt">Out[58]:</div>




<div class="output_text output_subarea output_execute_result">
<pre>- : eclairage list =
[[8; 7; 6; 5; 4; 3; 2; 1; 0]; [8; 7; 6; 5; 4; 3; 2; 1];
 [8; 7; 6; 5; 4; 3; 2; 0]; [8; 7; 6; 5; 4; 3; 2]; [8; 7; 6; 5; 4; 3; 1; 0];
 [8; 7; 6; 5; 4; 3; 1]; [8; 7; 6; 5; 4; 3; 0]; [8; 7; 6; 5; 4; 3];
 [8; 7; 6; 5; 4; 2; 1; 0]; [8; 7; 6; 5; 4; 2; 1]; [8; 7; 6; 5; 4; 2; 0];
 [8; 7; 6; 5; 4; 2]; [8; 7; 6; 5; 4; 1; 0]; [8; 7; 6; 5; 4; 1];
 [8; 7; 6; 5; 4; 0]; [8; 7; 6; 5; 4]; [8; 7; 6; 5; 3; 2; 1; 0];
 [8; 7; 6; 5; 3; 2; 1]; [8; 7; 6; 5; 3; 2; 0]; [8; 7; 6; 5; 3; 2];
 [8; 7; 6; 5; 3; 1; 0]; [8; 7; 6; 5; 3; 1]; [8; 7; 6; 5; 3; 0];
 [8; 7; 6; 5; 3]; [8; 7; 6; 5; 2; 1; 0]; [8; 7; 6; 5; 2; 1];
 [8; 7; 6; 5; 2; 0]; [8; 7; 6; 5; 2]; [8; 7; 6; 5; 1; 0]; [8; 7; 6; 5; 1];
 [8; 7; 6; 5; 0]; [8; 7; 6; 5]; [8; 7; 6; 4; 3; 2; 1; 0];
 [8; 7; 6; 4; 3; 2; 1]; [8; 7; 6; 4; 3; 2; ...]; ...]
</pre>
</div>

</div>

<div class="output_area">

    <div class="prompt output_prompt">Out[58]:</div>




<div class="output_text output_subarea output_execute_result">
<pre>- : int = 512
</pre>
</div>

</div>

</div>
</div>

</div>
<div class="cell border-box-sizing code_cell rendered">
<div class="input">
<div class="prompt input_prompt">In&nbsp;[59]:</div>
<div class="inner_cell">
    <div class="input_area">
<div class=" highlight hl-OCaml"><pre><span></span><span class="n">eclairages_optimaux</span> <span class="n">graphe1</span><span class="o">;;</span>
</pre></div>

    </div>
</div>
</div>

<div class="output_wrapper">
<div class="output">


<div class="output_area">

    <div class="prompt output_prompt">Out[59]:</div>




<div class="output_text output_subarea output_execute_result">
<pre>- : eclairage list =
[[8; 6; 5; 3; 2]; [7; 6; 5; 3; 2]; [7; 5; 4; 2; 1]; [7; 5; 4; 1; 0];
 [7; 5; 3; 2; 1]; [7; 5; 3; 1; 0]]
</pre>
</div>

</div>

</div>
</div>

</div>
<div class="cell border-box-sizing text_cell rendered"><div class="prompt input_prompt">
</div><div class="inner_cell">
<div class="text_cell_render border-box-sizing rendered_html">
<p>On vérifie ici que l'éclairage à $5$ places qu'on avait proposé plus haut est bien optimal.</p>

</div>
</div>
</div>
<div class="cell border-box-sizing text_cell rendered"><div class="prompt input_prompt">
</div><div class="inner_cell">
<div class="text_cell_render border-box-sizing rendered_html">
<hr>
<h2 id="Complexit&#233;s-en-temps-et-espace-(bonus)">Complexit&#233;s en temps et espace (bonus)<a class="anchor-link" href="#Complexit&#233;s-en-temps-et-espace-(bonus)">&#182;</a></h2><p>Il est toujours utile de préciser, rapidement à l'oral et/ou dans le code (un commentaire suffit) les complexité (ou ordre de grandeur) des fonctions exigées par l'énoncé.</p>
<blockquote><p>Le<em>s</em> complexité<em>s</em> ? Oui, il ne faut pas oublier l'espace (trop souvent négligé !).</p>
</blockquote>
<p>Si vous n'êtes pas sûr ou ne savez pas comment le justifier, mieux vaut marquer :</p>
<blockquote><p>« En $\mathcal{O}(n^2)$ en temps et en espace. »</p>
</blockquote>
<p>que de marquer quelque chose de difficilement justifiable comme :</p>
<blockquote><p>« Probablement en $\mathcal{O}(n)$ en temps et en espace. »</p>
</blockquote>

</div>
</div>
</div>
<div class="cell border-box-sizing text_cell rendered"><div class="prompt input_prompt">
</div><div class="inner_cell">
<div class="text_cell_render border-box-sizing rendered_html">
<h3 id="En-temps">En temps<a class="anchor-link" href="#En-temps">&#182;</a></h3><ul>
<li><p>La première fonction de vérification proposée <code>verifie_eclairage_0</code> est linéaire en temps, en $m$ le nombre de rues et $p$ le nombre de place éclairées, i.e., est en $\mathcal{O}(m p)$. C'est sous-optimal pour vérifier que toutes les rues sont bien éclairées, on devrait réussir à faire mieux en $\mathcal{O}(\max(n, m))$ !</p>
</li>
<li><p>La deuxième fonction de vérification proposée <code>verifie_eclairage</code> est elle bien linéaire en temps, seulement en $m$ le nombre de rues, i.e., est en $\mathcal{O}(\max(n, m))$ (s'il y a moins de rues que de places, il faut quand même créer le tableau <code>est_eclairee</code> en $\mathcal{O}(n)$). C'est optimal pour vérifier que toutes les rues sont bien éclairées ! <span style="color:cyan;">Youpiiiiiii!!!!!!!!!!!</span></p>
</li>
<li><p>Les deux fonctions <code>tous_les_eclairages_possibles</code> et <code>eclairages_optimaux</code> sont en $\mathcal{O}(2^n)$ en temps, et c'est <em>beaucoup</em> !</p>
</li>
</ul>

</div>
</div>
</div>
<div class="cell border-box-sizing text_cell rendered"><div class="prompt input_prompt">
</div><div class="inner_cell">
<div class="text_cell_render border-box-sizing rendered_html">
<h3 id="En-espace-(ou-en-m&#233;moire)">En espace (ou en m&#233;moire)<a class="anchor-link" href="#En-espace-(ou-en-m&#233;moire)">&#182;</a></h3><ul>
<li>La première fonction de vérification proposée <code>verifie_eclairage</code> est aussi linéaire en espace en la taille du graphe.</li>
<li><p>La deuxième fonction de vérification proposée <code>verifie_eclairage_0</code> est aussi linéaire en espace en la taille du graphe.</p>
</li>
<li><p>Les deux fonctions <code>tous_les_eclairages_possibles</code> et <code>eclairages_optimaux</code> sont aussi en $\mathcal{O}(2^n)$ en mémoire, et c'est <em>beaucoup</em> ! A noter par contre que le résultat renvoyé par <code>eclairages_optimaux</code> est, lui, de taille bien plus raisonnables, mais toujours possiblement exponentielle (si le nombre minimal de places éclairées est $k$, alors ${n \choose k}$).</p>
</li>
</ul>

</div>
</div>
</div>
<div class="cell border-box-sizing text_cell rendered"><div class="prompt input_prompt">
</div><div class="inner_cell">
<div class="text_cell_render border-box-sizing rendered_html">
<hr>
<h2 id="Conclusion">Conclusion<a class="anchor-link" href="#Conclusion">&#182;</a></h2><p>Voilà pour la question obligatoire de programmation, et un gros bonus.</p>
<h3 id="Qualit&#233;s">Qualit&#233;s<a class="anchor-link" href="#Qualit&#233;s">&#182;</a></h3><ul>
<li>On a décomposé le problème en sous-fonctions,</li>
<li>on a fait des exemples et <em>on les garde</em> dans ce qu'on présente au jury,</li>
<li>on a testé la fonction exigée sur différents exemples.</li>
</ul>
<h3 id="D&#233;fauts">D&#233;fauts<a class="anchor-link" href="#D&#233;fauts">&#182;</a></h3><ul>
<li>La première implémentation proposée de <code>verifie_eclairage_0</code> n'est pas optimale,</li>
<li>La deuxième implémentation n'était pas immédiate,</li>
<li>et on a pas testé sur des exemples très ambitieux.</li>
</ul>
<h3 id="Ouverture-?">Ouverture ?<a class="anchor-link" href="#Ouverture-?">&#182;</a></h3><blockquote><p>Bien-sûr, ce petit notebook ne se prétend pas être une solution optimale, ni exhaustive.</p>
</blockquote>

</div>
</div>
</div>
 


    </div>
  </div>

  </div>


  
    <footer class="footer hidden-print">
      <div class="container">
        <div class="col-md-4">
          <p>
            This website does not host notebooks, it only renders notebooks
            available on other websites.
          </p>
        </div>

        <div class="col-md-4">
          <p>
            Delivered by <a href="https://www.fastly.com/">Fastly</a>,
            Rendered by <a href="https://developer.rackspace.com/?nbviewer=awesome">Rackspace</a>
          </p>
          <p>
            nbviewer GitHub <a href="https://github.com/jupyter/nbviewer">repository</a>.
          </p>
        </div>

        <div class="col-md-4">
          
  
            
              <p>
                nbviewer version:
                <a href="https://github.com/jupyter/nbviewer/commit/8a8fd298b446096dddc874da57e99dd22a2d8d97">
                  8a8fd29
                </a>
              </p>
            
          
  
  <p>
    nbconvert version: <a href="https://github.com/jupyter/nbconvert/releases/tag/5.6.1">
      5.6.1
    </a>
  </p>
  

          
  
  
  <p>
    Rendered
    <span class='date' data-date='Mon, 27 Jan 2020 13:30:51 UTC' title='Mon, 27 Jan 2020 13:30:51 UTC'>(Mon, 27 Jan 2020 13:30:51 UTC)</span>
  </p>
  

        </div>
      </div>
    </footer>
  

  <script src="/static/components/bootstrap/js/bootstrap.min.js?v=5869c96cc8f19086aee625d670d741f9"></script>
  <script src="/static/components/headroom.js/dist/headroom.min.js?v=b0a311ea668f8e768ea375f4a7abb81c"></script>
  <script src="/static/components/headroom.js/dist/jQuery.headroom.min.js?v=f3a1bae118315d0c234afc74dc6aab71"></script>

  
  
  <script>
    $(function(){ $("#menubar").headroom({
      tolerance: 5,
      offset: 205,
      classes: {
        initial: "animated",
        pinned: "slideInDown",
        unpinned: "slideOutUp"
      }
    })});
  </script>


  
  <script>
    (function(i,s,o,g,r,a,m){i['GoogleAnalyticsObject']=r;i[r]=i[r]||function(){
      (i[r].q=i[r].q||[]).push(arguments)},i[r].l=1*new Date();a=s.createElement(o),
      m=s.getElementsByTagName(o)[0];a.async=1;a.src=g;m.parentNode.insertBefore(a,m)
    })(window,document,'script','https://www.google-analytics.com/analytics.js','ga');
    ga('create', 'UA-52617120-5', 'auto',
       {'storage': 'none'});
    ga('set', 'anonymizeIp', true);
    ga('send', 'pageview');
  </script>
  
  <script>
    require({
        paths: {
          moment: "/static/components/moment/min/moment.min.js?v=89f87298ad94aa1e6b92f42eb66da043"
        }
      }, ["moment"], function(moment){
      var date = $("footer .date"),
        m = moment(new Date(date.data('date'))),
        update = function(){ date.text(m.fromNow()); };
      setInterval(update, 61*1000);
      update();
      var w = $(window).scroll(function(event){
        $("body").toggleClass("scrolled", w.scrollTop() > 0);
      });
    });
  </script>

  <!--NEW RELIC Stop Perf Measurement-->
  
  <!--NEW RELIC End-->
</body>
</html>