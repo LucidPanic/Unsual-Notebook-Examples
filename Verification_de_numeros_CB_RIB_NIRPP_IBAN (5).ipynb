








<!DOCTYPE html>
<html lang="en">

<head>
  <meta charset="utf-8">
  <title>Jupyter Notebook Viewer</title>
  <meta name="viewport" content="width=device-width, initial-scale=1.0">
  <meta name="description" content="">
  <meta name="author" content="">
  
  <meta name="robots" content="noindex,nofollow">
  

  <!--NEW RELIC Start Perf Measurement-->
  
  <!--NREND-->

  <!-- Le styles -->
  <link href="/static/build/styles.css?v=55ba354138253381d2c0ada9821cd4da" rel="stylesheet">

  <!-- Le HTML5 shim, for IE6-8 support of HTML5 elements -->
  <!--[if lt IE 9]>
    <script src="http://html5shim.googlecode.com/svn/trunk/html5.js"></script>
  <![endif]-->

  <!-- Le fav and touch icons -->
  <link rel="shortcut icon" href="/static/ico/ipynb_icon_16x16.png">
  <link rel="apple-touch-icon-precomposed" sizes="144x144"
        href="/static/ico/apple-touch-icon-144-precomposed.png?v=5a3c9ede93e2a8b8ea9e3f8f3da1a905">
  <link rel="apple-touch-icon-precomposed" sizes="114x114"
        href="/static/ico/apple-touch-icon-114-precomposed.png?v=45d86fc8f24dc00638035e1dd7a6d898">
  <link rel="apple-touch-icon-precomposed" sizes="72x72"
        href="/static/ico/apple-touch-icon-72-precomposed.png?v=540b5eb0f3cfd25f1439d1c9bd30e15f">
  <link rel="apple-touch-icon-precomposed"
        href="/static/ico/apple-touch-icon-57-precomposed.png?v=225f0590e187e1458625654f10a28f56">
  
  

  

  
  <meta name="twitter:card" content="summary">
  <meta name="twitter:title" content="Notebook on nbviewer">
  <meta name="twitter:description" content="Check out this Jupyter notebook!">

  
  <meta name="twitter:domain" content="nbviewer.jupyter.org">
  <meta name="twitter:image:src" content="http://ipython.org/ipython-doc/dev/_images/ipynb_icon_128x128.png">

  
    <link href="/static/build/notebook.css?v=aae8f92f7e80fc468ae446b9d852fe90" rel="stylesheet">
  

  

  
    <script src="https://cdnjs.cloudflare.com/ajax/libs/mathjax/2.7.1/MathJax.js?config=TeX-AMS_HTML" type="text/javascript">
    </script>
    <script type="text/javascript">
      init_mathjax = function() {
        if (window.MathJax) {
          // MathJax loaded
          MathJax.Hub.Config({
            TeX: {
              equationNumbers: {
                autoNumber: "AMS",
                useLabelIds: true
              }
            },
            tex2jax: {
              inlineMath: [ ['$','$'], ["\\(","\\)"] ],
              displayMath: [ ['$$','$$'], ["\\[","\\]"] ],
              processEscapes: true,
              processEnvironments: true
            },
            displayAlign: 'center',
            "HTML-CSS": {
              styles: {'.MathJax_Display': {"margin": 0}},
              linebreaks: { automatic: true }
            }
          });
          MathJax.Hub.Queue(["Typeset", MathJax.Hub]);
        }
      }
      init_mathjax();
    </script>
  

  
    <script>
      (function() {
        function addWidgetsRenderer() {
          var mimeElement = document.querySelector('script[type="application/vnd.jupyter.widget-view+json"]');
          var scriptElement = document.createElement('script');
          var widgetRendererSrc = 'https://unpkg.com/@jupyter-widgets/html-manager@0.15/dist/embed-amd.js';
          var widgetState;

          try {
            widgetState = mimeElement && JSON.parse(mimeElement.innerHTML);

            if (widgetState && (widgetState.version_major < 2 || !widgetState.version_major)) {
              widgetRendererSrc = 'https://unpkg.com/jupyter-js-widgets@2.1/dist/embed.js';
            }
          } catch(e) {}

          scriptElement.src = widgetRendererSrc;
          document.body.appendChild(scriptElement);
        }

        document.addEventListener('DOMContentLoaded', addWidgetsRenderer);
      }());
    </script>
  

</head>

<body class="nbviewer">

  <!-- These are loaded at the top of the body so they are available to
       notebook cells when they are loaded below. -->
  <script src="/static/components/jquery/dist/jquery.min.js?v=220afd743d9e9643852e31a135a9f3ae"></script>
  <script src="/static/components/requirejs/require.js?v=6da8be361b9ee26c5e721e76c6d4afce"></script>
  <script src="/static/components/moment/min/moment.min.js?v=89f87298ad94aa1e6b92f42eb66da043"></script>
<!-- Navbar
================================================== -->
  <nav id="menubar" class="navbar navbar-default navbar-fixed-top" data-spy="affix">
    <div class="container">
      <div class="navbar-header">
        <button type="button" class="navbar-toggle collapsed" data-toggle="collapse" data-target=".navbar-collapse">
          <span class="sr-only">Toggle navigation</span>
          <i class="fa fa-bars"></i>
        </button>
        <a class="navbar-brand" href="/">
          <img src="/static/img/nav_logo.svg?v=479cefe8d932fb14a67b93911b97d70f" width="159"/>
        </a>
      </div>

      <div class="collapse navbar-collapse">
        <ul class="nav navbar-nav navbar-right">
          <li>
            <a class="active" href="https://jupyter.org">JUPYTER</a>
          </li>
          <li>
    <a href="/faq" title="FAQ" >
      
        <span>FAQ</span>
      
    </a>
  </li>

          
  
    
  
    
      
        <li>
    <a href="/format/script/github/Naereen/notebooks/blob/master/Verification_de_numeros_CB_RIB_NIRPP_IBAN.ipynb" title="View as Code" >
      <span class="fa fa-code fa-2x menu-icon"></span>
      <span class="menu-text">View as Code</span>
    </a>
  </li>
      
    
  

  
    <li>
    <a href="#" title="Python 3 Kernel" >
      <span class="fa fa-server fa-2x menu-icon"></span>
      <span class="menu-text">Python 3 Kernel</span>
    </a>
  </li>
  

  
    <li>
    <a href="https://github.com/Naereen/notebooks/blob/master/Verification_de_numeros_CB_RIB_NIRPP_IBAN.ipynb" title="View on GitHub" >
      <span class="fa fa-github fa-2x menu-icon"></span>
      <span class="menu-text">View on GitHub</span>
    </a>
  </li>
  

  
    <li>
    <a href="https://mybinder.org/v2/gh/Naereen/notebooks/master?filepath=Verification_de_numeros_CB_RIB_NIRPP_IBAN.ipynb" title="Execute on Binder" >
      <span class="fa fa-icon-binder fa-2x menu-icon"></span>
      <span class="menu-text">Execute on Binder</span>
    </a>
  </li>
  

  <li>
    <a href="https://raw.githubusercontent.com/Naereen/notebooks/master/Verification_de_numeros_CB_RIB_NIRPP_IBAN.ipynb" title="Download Notebook" download>
      <span class="fa fa-download fa-2x menu-icon"></span>
      <span class="menu-text">Download Notebook</span>
    </a>
  </li>

        </ul>
      </div><!-- /.navbar-collapse -->
      
      
    </div>
  </nav>

  <div class="container container-main">
    
  
  <ol class="breadcrumb">
    
      <li>
        <a href="/github/Naereen/notebooks/tree/master">notebooks</a>
      </li>
    
      <li>
        <a href="/github/Naereen/notebooks/tree/master/Verification_de_numeros_CB_RIB_NIRPP_IBAN.ipynb">Verification_de_numeros_CB_RIB_NIRPP_IBAN.ipynb</a>
      </li>
    
  </ol>
  
  <div id="notebook">
    <div id="notebook-container">
      <div class="cell border-box-sizing text_cell rendered"><div class="prompt input_prompt">
</div><div class="inner_cell">
<div class="text_cell_render border-box-sizing rendered_html">
<h1 id="V&#233;rification-de-num&#233;ros-de-Cartes-Bleues,-RIB-(IBAN)-et-NIRPP-(s&#233;cu)">V&#233;rification de num&#233;ros de Cartes Bleues, RIB (IBAN) et NIRPP (s&#233;cu)<a class="anchor-link" href="#V&#233;rification-de-num&#233;ros-de-Cartes-Bleues,-RIB-(IBAN)-et-NIRPP-(s&#233;cu)">&#182;</a></h1><p>Ce petit notebook va implémenter les algorithmes de vérification des numéros de :</p>
<ul>
<li>cartes bleues, sur $4\times4$ chiffres, avec un chiffre de vérification,</li>
<li>RIB (identifiant de compte, sur les IBAN), avec deux chiffres de vérifications,</li>
<li>NIRPP (numéro de sécurité sociale en France), avec deux chiffres de vérifications.</li>
</ul>
<blockquote><p>J'avais déjà implementé les deux derniers, cf. ces scripts : <a href="https://bitbucket.org/lbesson/bin/src/master/check_IBAN.py">check_IBAN.py</a>, et <a href="https://bitbucket.org/lbesson/bin/src/master/check_NIRPP.py">check_NIRPP.py</a>.</p>
</blockquote>
<p>Si vous êtes curieux de l'aspect historique, <a href="https://spectrum.ieee.org/tech-history/silicon-revolution/hans-peter-luhn-and-the-birth-of-the-hashing-algorithm">ce petit article</a> explique très bien les origines de ces chiffres de contrôles et de la <a href="https://fr.wikipedia.org/wiki/Formule_de_Luhn">formule de Luhn</a>.</p>

</div>
</div>
</div>
<div class="cell border-box-sizing text_cell rendered"><div class="prompt input_prompt">
</div><div class="inner_cell">
<div class="text_cell_render border-box-sizing rendered_html">
<p>Je vais utiliser cette fonction plusieurs fois, qui permet de transformer une lettre 'A',...,'Z' en entier.</p>

</div>
</div>
</div>
<div class="cell border-box-sizing code_cell rendered">
<div class="input">
<div class="prompt input_prompt">In&nbsp;[1]:</div>
<div class="inner_cell">
    <div class="input_area">
<div class=" highlight hl-ipython3"><pre><span></span><span class="k">def</span> <span class="nf">l_to_c</span><span class="p">(</span><span class="n">l</span><span class="p">):</span>
    <span class="k">try</span><span class="p">:</span>
        <span class="k">return</span> <span class="nb">str</span><span class="p">(</span><span class="nb">int</span><span class="p">(</span><span class="n">l</span><span class="p">))</span>
    <span class="k">except</span> <span class="ne">ValueError</span><span class="p">:</span>
        <span class="k">return</span> <span class="nb">str</span><span class="p">(</span><span class="mi">10</span> <span class="o">+</span> <span class="nb">ord</span><span class="p">(</span><span class="n">l</span><span class="o">.</span><span class="n">upper</span><span class="p">())</span> <span class="o">-</span> <span class="nb">ord</span><span class="p">(</span><span class="s1">&#39;A&#39;</span><span class="p">))</span>
</pre></div>

    </div>
</div>
</div>

</div>
<div class="cell border-box-sizing code_cell rendered">
<div class="input">
<div class="prompt input_prompt">In&nbsp;[2]:</div>
<div class="inner_cell">
    <div class="input_area">
<div class=" highlight hl-ipython3"><pre><span></span><span class="k">for</span> <span class="n">l</span> <span class="ow">in</span> <span class="s1">&#39;ABCDEFGHIJKLMNROPQRSTUVWXYZ&#39;</span><span class="p">:</span>
    <span class="nb">print</span><span class="p">(</span><span class="s2">&quot;l = </span><span class="si">{}</span><span class="s2"> --&gt; c = </span><span class="si">{}</span><span class="s2">&quot;</span><span class="o">.</span><span class="n">format</span><span class="p">(</span><span class="n">l</span><span class="p">,</span> <span class="n">l_to_c</span><span class="p">(</span><span class="n">l</span><span class="p">)))</span>
</pre></div>

    </div>
</div>
</div>

<div class="output_wrapper">
<div class="output">


<div class="output_area">

    <div class="prompt"></div>


<div class="output_subarea output_stream output_stdout output_text">
<pre>l = A --&gt; c = 10
l = B --&gt; c = 11
l = C --&gt; c = 12
l = D --&gt; c = 13
l = E --&gt; c = 14
l = F --&gt; c = 15
l = G --&gt; c = 16
l = H --&gt; c = 17
l = I --&gt; c = 18
l = J --&gt; c = 19
l = K --&gt; c = 20
l = L --&gt; c = 21
l = M --&gt; c = 22
l = N --&gt; c = 23
l = R --&gt; c = 27
l = O --&gt; c = 24
l = P --&gt; c = 25
l = Q --&gt; c = 26
l = R --&gt; c = 27
l = S --&gt; c = 28
l = T --&gt; c = 29
l = U --&gt; c = 30
l = V --&gt; c = 31
l = W --&gt; c = 32
l = X --&gt; c = 33
l = Y --&gt; c = 34
l = Z --&gt; c = 35
</pre>
</div>
</div>

</div>
</div>

</div>
<div class="cell border-box-sizing text_cell rendered"><div class="prompt input_prompt">
</div><div class="inner_cell">
<div class="text_cell_render border-box-sizing rendered_html">
<h2 id="Cartes-Bleues">Cartes Bleues<a class="anchor-link" href="#Cartes-Bleues">&#182;</a></h2><ul>
<li>Références : <a href="https://www.hellolife.fr/article/a-quoi-correspondent-les-chiffres-sur-ma-carte-bancaire_a466/1">https://www.hellolife.fr/article/a-quoi-correspondent-les-chiffres-sur-ma-carte-bancaire_a466/1</a> et <a href="https://fr.wikipedia.org/wiki/Carte_de_paiement#Num%C3%A9ro_de_carte_bancaire">https://fr.wikipedia.org/wiki/Carte_de_paiement#Num%C3%A9ro_de_carte_bancaire</a> et <a href="https://fr.wikipedia.org/wiki/Formule_de_Luhn">https://fr.wikipedia.org/wiki/Formule_de_Luhn</a></li>
<li>Exemple :
<img width="65%" src="data/Exemple_CB.jpg"/></li>
</ul>

</div>
</div>
</div>
<div class="cell border-box-sizing code_cell rendered">
<div class="input">
<div class="prompt input_prompt">In&nbsp;[3]:</div>
<div class="inner_cell">
    <div class="input_area">
<div class=" highlight hl-ipython3"><pre><span></span><span class="n">exemple_cb</span> <span class="o">=</span> <span class="s2">&quot;4970 1012 3456 7890&quot;</span>  <span class="c1"># pas valide</span>
</pre></div>

    </div>
</div>
</div>

</div>
<div class="cell border-box-sizing text_cell rendered"><div class="prompt input_prompt">
</div><div class="inner_cell">
<div class="text_cell_render border-box-sizing rendered_html">
<p>D'abord l'algorithme de Luhn :</p>

</div>
</div>
</div>
<div class="cell border-box-sizing code_cell rendered">
<div class="input">
<div class="prompt input_prompt">In&nbsp;[4]:</div>
<div class="inner_cell">
    <div class="input_area">
<div class=" highlight hl-ipython3"><pre><span></span><span class="k">def</span> <span class="nf">verifie_Luhn</span><span class="p">(</span><span class="n">numeros</span><span class="p">):</span>
    <span class="n">numeros</span> <span class="o">=</span> <span class="n">numeros</span><span class="o">.</span><span class="n">replace</span><span class="p">(</span><span class="s1">&#39; &#39;</span><span class="p">,</span> <span class="s1">&#39;&#39;</span><span class="p">)</span>
    <span class="n">nb_chiffres</span> <span class="o">=</span> <span class="nb">len</span><span class="p">(</span><span class="n">numeros</span><span class="p">)</span>
    <span class="n">parite</span> <span class="o">=</span> <span class="n">nb_chiffres</span> <span class="o">%</span> <span class="mi">2</span>
    <span class="n">chiffres</span> <span class="o">=</span> <span class="p">[</span><span class="nb">int</span><span class="p">(</span><span class="n">l_to_c</span><span class="p">(</span><span class="n">l</span><span class="p">))</span> <span class="k">for</span> <span class="n">l</span> <span class="ow">in</span> <span class="n">numeros</span><span class="p">]</span>
    <span class="n">somme</span> <span class="o">=</span> <span class="n">chiffres</span><span class="p">[</span><span class="n">nb_chiffres</span> <span class="o">-</span> <span class="mi">1</span><span class="p">]</span>
    <span class="k">for</span> <span class="n">i</span> <span class="ow">in</span> <span class="nb">range</span><span class="p">(</span><span class="n">nb_chiffres</span> <span class="o">-</span> <span class="mi">2</span><span class="p">,</span> <span class="o">-</span><span class="mi">1</span><span class="p">,</span> <span class="o">-</span><span class="mi">1</span><span class="p">):</span>
        <span class="n">chiffre</span> <span class="o">=</span> <span class="n">chiffres</span><span class="p">[</span><span class="n">i</span><span class="p">]</span>
        <span class="k">if</span> <span class="n">i</span> <span class="o">%</span> <span class="mi">2</span> <span class="o">==</span> <span class="n">parite</span><span class="p">:</span>
            <span class="n">chiffre</span> <span class="o">*=</span> <span class="mi">2</span>
            <span class="k">if</span> <span class="n">chiffre</span> <span class="o">&gt;</span> <span class="mi">9</span><span class="p">:</span>
                <span class="n">chiffre</span> <span class="o">-=</span> <span class="mi">9</span>
        <span class="n">somme</span> <span class="o">+=</span> <span class="n">chiffre</span>
    <span class="k">return</span> <span class="p">(</span><span class="n">somme</span> <span class="o">%</span> <span class="mi">10</span><span class="p">)</span> <span class="o">==</span> <span class="mi">0</span>
</pre></div>

    </div>
</div>
</div>

</div>
<div class="cell border-box-sizing code_cell rendered">
<div class="input">
<div class="prompt input_prompt">In&nbsp;[5]:</div>
<div class="inner_cell">
    <div class="input_area">
<div class=" highlight hl-ipython3"><pre><span></span><span class="n">verifie_Luhn</span><span class="p">(</span><span class="s1">&#39;972 487 086&#39;</span><span class="p">)</span>
</pre></div>

    </div>
</div>
</div>

<div class="output_wrapper">
<div class="output">


<div class="output_area">

    <div class="prompt output_prompt">Out[5]:</div>




<div class="output_text output_subarea output_execute_result">
<pre>True</pre>
</div>

</div>

</div>
</div>

</div>
<div class="cell border-box-sizing code_cell rendered">
<div class="input">
<div class="prompt input_prompt">In&nbsp;[6]:</div>
<div class="inner_cell">
    <div class="input_area">
<div class=" highlight hl-ipython3"><pre><span></span><span class="n">verifie_Luhn</span><span class="p">(</span><span class="s1">&#39;972 487 081&#39;</span><span class="p">)</span>
<span class="n">verifie_Luhn</span><span class="p">(</span><span class="s1">&#39;972 487 082&#39;</span><span class="p">)</span>
<span class="n">verifie_Luhn</span><span class="p">(</span><span class="s1">&#39;972 487 087&#39;</span><span class="p">)</span>
</pre></div>

    </div>
</div>
</div>

<div class="output_wrapper">
<div class="output">


<div class="output_area">

    <div class="prompt output_prompt">Out[6]:</div>




<div class="output_text output_subarea output_execute_result">
<pre>False</pre>
</div>

</div>

<div class="output_area">

    <div class="prompt output_prompt">Out[6]:</div>




<div class="output_text output_subarea output_execute_result">
<pre>False</pre>
</div>

</div>

<div class="output_area">

    <div class="prompt output_prompt">Out[6]:</div>




<div class="output_text output_subarea output_execute_result">
<pre>False</pre>
</div>

</div>

</div>
</div>

</div>
<div class="cell border-box-sizing code_cell rendered">
<div class="input">
<div class="prompt input_prompt">In&nbsp;[7]:</div>
<div class="inner_cell">
    <div class="input_area">
<div class=" highlight hl-ipython3"><pre><span></span><span class="n">verifie_Luhn</span><span class="p">(</span><span class="n">exemple_cb</span><span class="p">)</span>
</pre></div>

    </div>
</div>
</div>

<div class="output_wrapper">
<div class="output">


<div class="output_area">

    <div class="prompt output_prompt">Out[7]:</div>




<div class="output_text output_subarea output_execute_result">
<pre>False</pre>
</div>

</div>

</div>
</div>

</div>
<div class="cell border-box-sizing text_cell rendered"><div class="prompt input_prompt">
</div><div class="inner_cell">
<div class="text_cell_render border-box-sizing rendered_html">
<p>Ensuite la vérification pour un numéro de carte bleue :</p>

</div>
</div>
</div>
<div class="cell border-box-sizing code_cell rendered">
<div class="input">
<div class="prompt input_prompt">In&nbsp;[8]:</div>
<div class="inner_cell">
    <div class="input_area">
<div class=" highlight hl-ipython3"><pre><span></span><span class="k">def</span> <span class="nf">verifie_cb</span><span class="p">(</span><span class="n">cb</span><span class="p">):</span>
    <span class="nb">print</span><span class="p">(</span><span class="s2">&quot;</span><span class="se">\n</span><span class="s2">Vérification du numéro de CB &#39;</span><span class="si">%s</span><span class="s2">&#39;...&quot;</span> <span class="o">%</span> <span class="n">cb</span><span class="p">)</span>
    <span class="n">check</span> <span class="o">=</span> <span class="n">verifie_Luhn</span><span class="p">(</span><span class="n">cb</span><span class="p">)</span>
    <span class="k">if</span> <span class="n">check</span><span class="p">:</span>
        <span class="nb">print</span><span class="p">(</span><span class="s2">&quot;OK &#39;</span><span class="si">%s</span><span class="s2">&#39; semble être un numéro de CB valide.&quot;</span> <span class="o">%</span> <span class="n">cb</span><span class="p">)</span>
    <span class="k">else</span><span class="p">:</span>
        <span class="nb">print</span><span class="p">(</span><span class="s2">&quot;[ATTENTION] PAS OK &#39;</span><span class="si">%s</span><span class="s2">&#39; semble ne pas être un numéro de CB valide!&quot;</span> <span class="o">%</span> <span class="n">cb</span><span class="p">)</span>
    <span class="k">return</span> <span class="n">check</span>
</pre></div>

    </div>
</div>
</div>

</div>
<div class="cell border-box-sizing text_cell rendered"><div class="prompt input_prompt">
</div><div class="inner_cell">
<div class="text_cell_render border-box-sizing rendered_html">
<h3 id="Exemples">Exemples<a class="anchor-link" href="#Exemples">&#182;</a></h3>
</div>
</div>
</div>
<div class="cell border-box-sizing code_cell rendered">
<div class="input">
<div class="prompt input_prompt">In&nbsp;[9]:</div>
<div class="inner_cell">
    <div class="input_area">
<div class=" highlight hl-ipython3"><pre><span></span><span class="n">verifie_cb</span><span class="p">(</span><span class="n">exemple_cb</span><span class="p">)</span>
</pre></div>

    </div>
</div>
</div>

<div class="output_wrapper">
<div class="output">


<div class="output_area">

    <div class="prompt"></div>


<div class="output_subarea output_stream output_stdout output_text">
<pre>Vérification du numéro de CB &#39;4970 1012 3456 7890&#39;...
[ATTENTION] PAS OK &#39;4970 1012 3456 7890&#39; semble ne pas être un numéro de CB valide!
</pre>
</div>
</div>

<div class="output_area">

    <div class="prompt output_prompt">Out[9]:</div>




<div class="output_text output_subarea output_execute_result">
<pre>False</pre>
</div>

</div>

</div>
</div>

</div>
<div class="cell border-box-sizing text_cell rendered"><div class="prompt input_prompt">
</div><div class="inner_cell">
<div class="text_cell_render border-box-sizing rendered_html">
<p>Avec un autre faux numéro mais conçu pour être vrai :</p>

</div>
</div>
</div>
<div class="cell border-box-sizing code_cell rendered">
<div class="input">
<div class="prompt input_prompt">In&nbsp;[10]:</div>
<div class="inner_cell">
    <div class="input_area">
<div class=" highlight hl-ipython3"><pre><span></span><span class="n">verifie_cb</span><span class="p">(</span><span class="s2">&quot;4976 5301 7218 3533&quot;</span><span class="p">)</span>
</pre></div>

    </div>
</div>
</div>

<div class="output_wrapper">
<div class="output">


<div class="output_area">

    <div class="prompt"></div>


<div class="output_subarea output_stream output_stdout output_text">
<pre>Vérification du numéro de CB &#39;4976 5301 7218 3533&#39;...
OK &#39;4976 5301 7218 3533&#39; semble être un numéro de CB valide.
</pre>
</div>
</div>

<div class="output_area">

    <div class="prompt output_prompt">Out[10]:</div>




<div class="output_text output_subarea output_execute_result">
<pre>True</pre>
</div>

</div>

</div>
</div>

</div>
<div class="cell border-box-sizing text_cell rendered"><div class="prompt input_prompt">
</div><div class="inner_cell">
<div class="text_cell_render border-box-sizing rendered_html">
<h2 id="RIB/IBAN">RIB/IBAN<a class="anchor-link" href="#RIB/IBAN">&#182;</a></h2><ul>
<li>Référence : <a href="https://fr.wikipedia.org/wiki/International_Bank_Account_Number#Algorithme_de_v.C3.A9rification_de_l.27IBAN">https://fr.wikipedia.org/wiki/International_Bank_Account_Number#Algorithme_de_v.C3.A9rification_de_l.27IBAN</a></li>
<li>Exemple :
<img width="45%" src="data/Exemple_RIB.jpg"/></li>
</ul>

</div>
</div>
</div>
<div class="cell border-box-sizing code_cell rendered">
<div class="input">
<div class="prompt input_prompt">In&nbsp;[11]:</div>
<div class="inner_cell">
    <div class="input_area">
<div class=" highlight hl-ipython3"><pre><span></span><span class="n">exemple_iban</span> <span class="o">=</span> <span class="s2">&quot;FR76 1254 8029 9838 3759 0150 071&quot;</span>
</pre></div>

    </div>
</div>
</div>

</div>
<div class="cell border-box-sizing code_cell rendered">
<div class="input">
<div class="prompt input_prompt">In&nbsp;[12]:</div>
<div class="inner_cell">
    <div class="input_area">
<div class=" highlight hl-ipython3"><pre><span></span><span class="k">def</span> <span class="nf">verifie_iban</span><span class="p">(</span><span class="n">iban</span><span class="p">):</span>
    <span class="nb">print</span><span class="p">(</span><span class="s2">&quot;</span><span class="se">\n</span><span class="s2">Vérification du nombre IBAN &#39;</span><span class="si">%s</span><span class="s2">&#39;...&quot;</span> <span class="o">%</span> <span class="n">iban</span><span class="p">)</span>
    <span class="n">ib</span> <span class="o">=</span> <span class="n">iban</span><span class="o">.</span><span class="n">replace</span><span class="p">(</span><span class="s1">&#39; &#39;</span><span class="p">,</span> <span class="s1">&#39;&#39;</span><span class="p">)</span>
    <span class="n">ib</span> <span class="o">=</span> <span class="n">ib</span><span class="p">[</span><span class="mi">4</span><span class="p">:]</span> <span class="o">+</span> <span class="n">ib</span><span class="p">[:</span><span class="mi">4</span><span class="p">]</span>
    <span class="nb">print</span><span class="p">(</span><span class="s2">&quot;  De longueur&quot;</span><span class="p">,</span> <span class="nb">len</span><span class="p">(</span><span class="n">ib</span><span class="p">))</span>
    <span class="n">i</span> <span class="o">=</span> <span class="nb">int</span><span class="p">(</span><span class="s1">&#39;&#39;</span><span class="o">.</span><span class="n">join</span><span class="p">(</span><span class="n">l_to_c</span><span class="p">(</span><span class="n">l</span><span class="p">)</span> <span class="k">for</span> <span class="n">l</span> <span class="ow">in</span> <span class="n">ib</span><span class="p">))</span>
    <span class="n">check</span> <span class="o">=</span> <span class="p">(</span><span class="n">i</span> <span class="o">%</span> <span class="mi">97</span><span class="p">)</span> <span class="o">==</span> <span class="mi">1</span>
    <span class="k">if</span> <span class="n">check</span><span class="p">:</span>
        <span class="nb">print</span><span class="p">(</span><span class="s2">&quot;OK &#39;</span><span class="si">%s</span><span class="s2">&#39; semble être un nombre IBAN valide.&quot;</span> <span class="o">%</span> <span class="n">iban</span><span class="p">)</span>
    <span class="k">else</span><span class="p">:</span>
        <span class="nb">print</span><span class="p">(</span><span class="s2">&quot;[ATTENTION] PAS OK &#39;</span><span class="si">%s</span><span class="s2">&#39; semble ne pas être un nombre IBAN valide!&quot;</span> <span class="o">%</span> <span class="n">iban</span><span class="p">)</span>
    <span class="k">return</span> <span class="n">check</span>
</pre></div>

    </div>
</div>
</div>

</div>
<div class="cell border-box-sizing text_cell rendered"><div class="prompt input_prompt">
</div><div class="inner_cell">
<div class="text_cell_render border-box-sizing rendered_html">
<h3 id="Exemples">Exemples<a class="anchor-link" href="#Exemples">&#182;</a></h3>
</div>
</div>
</div>
<div class="cell border-box-sizing text_cell rendered"><div class="prompt input_prompt">
</div><div class="inner_cell">
<div class="text_cell_render border-box-sizing rendered_html">
<h4 id="Compte-fran&#231;ais">Compte fran&#231;ais<a class="anchor-link" href="#Compte-fran&#231;ais">&#182;</a></h4>
</div>
</div>
</div>
<div class="cell border-box-sizing code_cell rendered">
<div class="input">
<div class="prompt input_prompt">In&nbsp;[13]:</div>
<div class="inner_cell">
    <div class="input_area">
<div class=" highlight hl-ipython3"><pre><span></span><span class="n">verifie_iban</span><span class="p">(</span><span class="n">exemple_iban</span><span class="p">)</span>
</pre></div>

    </div>
</div>
</div>

<div class="output_wrapper">
<div class="output">


<div class="output_area">

    <div class="prompt"></div>


<div class="output_subarea output_stream output_stdout output_text">
<pre>Vérification du nombre IBAN &#39;FR76 1254 8029 9838 3759 0150 071&#39;...
  De longueur 27
OK &#39;FR76 1254 8029 9838 3759 0150 071&#39; semble être un nombre IBAN valide.
</pre>
</div>
</div>

<div class="output_area">

    <div class="prompt output_prompt">Out[13]:</div>




<div class="output_text output_subarea output_execute_result">
<pre>True</pre>
</div>

</div>

</div>
</div>

</div>
<div class="cell border-box-sizing text_cell rendered"><div class="prompt input_prompt">
</div><div class="inner_cell">
<div class="text_cell_render border-box-sizing rendered_html">
<h4 id="Compte-anglais">Compte anglais<a class="anchor-link" href="#Compte-anglais">&#182;</a></h4>
</div>
</div>
</div>
<div class="cell border-box-sizing code_cell rendered">
<div class="input">
<div class="prompt input_prompt">In&nbsp;[14]:</div>
<div class="inner_cell">
    <div class="input_area">
<div class=" highlight hl-ipython3"><pre><span></span><span class="n">verifie_iban</span><span class="p">(</span><span class="s2">&quot;GB87 BARC 2065 8244 9716 55&quot;</span><span class="p">)</span>
</pre></div>

    </div>
</div>
</div>

<div class="output_wrapper">
<div class="output">


<div class="output_area">

    <div class="prompt"></div>


<div class="output_subarea output_stream output_stdout output_text">
<pre>Vérification du nombre IBAN &#39;GB87 BARC 2065 8244 9716 55&#39;...
  De longueur 22
OK &#39;GB87 BARC 2065 8244 9716 55&#39; semble être un nombre IBAN valide.
</pre>
</div>
</div>

<div class="output_area">

    <div class="prompt output_prompt">Out[14]:</div>




<div class="output_text output_subarea output_execute_result">
<pre>True</pre>
</div>

</div>

</div>
</div>

</div>
<div class="cell border-box-sizing code_cell rendered">
<div class="input">
<div class="prompt input_prompt">In&nbsp;[15]:</div>
<div class="inner_cell">
    <div class="input_area">
<div class=" highlight hl-ipython3"><pre><span></span><span class="n">verifie_iban</span><span class="p">(</span><span class="s2">&quot;GB87 BARC 2065 8244 9716 51&quot;</span><span class="p">)</span>
</pre></div>

    </div>
</div>
</div>

<div class="output_wrapper">
<div class="output">


<div class="output_area">

    <div class="prompt"></div>


<div class="output_subarea output_stream output_stdout output_text">
<pre>Vérification du nombre IBAN &#39;GB87 BARC 2065 8244 9716 51&#39;...
  De longueur 22
[ATTENTION] PAS OK &#39;GB87 BARC 2065 8244 9716 51&#39; semble ne pas être un nombre IBAN valide!
</pre>
</div>
</div>

<div class="output_area">

    <div class="prompt output_prompt">Out[15]:</div>




<div class="output_text output_subarea output_execute_result">
<pre>False</pre>
</div>

</div>

</div>
</div>

</div>
<div class="cell border-box-sizing text_cell rendered"><div class="prompt input_prompt">
</div><div class="inner_cell">
<div class="text_cell_render border-box-sizing rendered_html">
<h4 id="Compte-belge">Compte belge<a class="anchor-link" href="#Compte-belge">&#182;</a></h4>
</div>
</div>
</div>
<div class="cell border-box-sizing code_cell rendered">
<div class="input">
<div class="prompt input_prompt">In&nbsp;[16]:</div>
<div class="inner_cell">
    <div class="input_area">
<div class=" highlight hl-ipython3"><pre><span></span><span class="n">verifie_iban</span><span class="p">(</span><span class="s2">&quot;BE43 0689 9999 9501&quot;</span><span class="p">)</span>
</pre></div>

    </div>
</div>
</div>

<div class="output_wrapper">
<div class="output">


<div class="output_area">

    <div class="prompt"></div>


<div class="output_subarea output_stream output_stdout output_text">
<pre>Vérification du nombre IBAN &#39;BE43 0689 9999 9501&#39;...
  De longueur 16
OK &#39;BE43 0689 9999 9501&#39; semble être un nombre IBAN valide.
</pre>
</div>
</div>

<div class="output_area">

    <div class="prompt output_prompt">Out[16]:</div>




<div class="output_text output_subarea output_execute_result">
<pre>True</pre>
</div>

</div>

</div>
</div>

</div>
<div class="cell border-box-sizing code_cell rendered">
<div class="input">
<div class="prompt input_prompt">In&nbsp;[17]:</div>
<div class="inner_cell">
    <div class="input_area">
<div class=" highlight hl-ipython3"><pre><span></span><span class="n">verifie_iban</span><span class="p">(</span><span class="s2">&quot;BE43 0689 9999 9500&quot;</span><span class="p">)</span>
</pre></div>

    </div>
</div>
</div>

<div class="output_wrapper">
<div class="output">


<div class="output_area">

    <div class="prompt"></div>


<div class="output_subarea output_stream output_stdout output_text">
<pre>Vérification du nombre IBAN &#39;BE43 0689 9999 9500&#39;...
  De longueur 16
[ATTENTION] PAS OK &#39;BE43 0689 9999 9500&#39; semble ne pas être un nombre IBAN valide!
</pre>
</div>
</div>

<div class="output_area">

    <div class="prompt output_prompt">Out[17]:</div>




<div class="output_text output_subarea output_execute_result">
<pre>False</pre>
</div>

</div>

</div>
</div>

</div>
<div class="cell border-box-sizing text_cell rendered"><div class="prompt input_prompt">
</div><div class="inner_cell">
<div class="text_cell_render border-box-sizing rendered_html">
<h2 id="NIRPP">NIRPP<a class="anchor-link" href="#NIRPP">&#182;</a></h2><ul>
<li>Référence : <a href="https://fr.wikipedia.org/wiki/Num%C3%A9ro_de_s%C3%A9curit%C3%A9_sociale_en_France#cite_note-8">https://fr.wikipedia.org/wiki/Num%C3%A9ro_de_s%C3%A9curit%C3%A9_sociale_en_France#cite_note-8</a></li>
<li>Exemple :
<img width="40%" src="data/Exemple_CarteVitale.jpg"/></li>
</ul>

</div>
</div>
</div>
<div class="cell border-box-sizing code_cell rendered">
<div class="input">
<div class="prompt input_prompt">In&nbsp;[18]:</div>
<div class="inner_cell">
    <div class="input_area">
<div class=" highlight hl-ipython3"><pre><span></span><span class="n">exemple_nirpp</span> <span class="o">=</span> <span class="s2">&quot;2 69 05 49 588 157 80&quot;</span>
</pre></div>

    </div>
</div>
</div>

</div>
<div class="cell border-box-sizing code_cell rendered">
<div class="input">
<div class="prompt input_prompt">In&nbsp;[19]:</div>
<div class="inner_cell">
    <div class="input_area">
<div class=" highlight hl-ipython3"><pre><span></span><span class="n">length_checksum</span> <span class="o">=</span> <span class="mi">2</span>

<span class="k">def</span> <span class="nf">verifie_nirpp</span><span class="p">(</span><span class="n">nirpp</span><span class="p">,</span> <span class="n">length_checksum</span><span class="o">=</span><span class="n">length_checksum</span><span class="p">):</span>
    <span class="nb">print</span><span class="p">(</span><span class="s2">&quot;</span><span class="se">\n</span><span class="s2">Vérification du nombre NIRPP &#39;</span><span class="si">%s</span><span class="s2">&#39; ...&quot;</span> <span class="o">%</span> <span class="n">nirpp</span><span class="p">)</span>
    <span class="n">ib</span> <span class="o">=</span> <span class="n">nirpp</span><span class="o">.</span><span class="n">replace</span><span class="p">(</span><span class="s1">&#39; &#39;</span><span class="p">,</span> <span class="s1">&#39;&#39;</span><span class="p">)</span>
    <span class="n">checksum</span> <span class="o">=</span> <span class="nb">int</span><span class="p">(</span><span class="n">ib</span><span class="p">[</span><span class="o">-</span><span class="n">length_checksum</span><span class="p">:])</span>
    <span class="n">ib</span> <span class="o">=</span> <span class="n">ib</span><span class="p">[:</span><span class="o">-</span><span class="n">length_checksum</span><span class="p">]</span>
    <span class="nb">print</span><span class="p">(</span><span class="s2">&quot;  De longueur&quot;</span><span class="p">,</span> <span class="nb">len</span><span class="p">(</span><span class="n">ib</span><span class="p">))</span>
    <span class="n">num_nirpp</span> <span class="o">=</span> <span class="nb">int</span><span class="p">(</span><span class="s1">&#39;&#39;</span><span class="o">.</span><span class="n">join</span><span class="p">(</span><span class="n">l_to_c</span><span class="p">(</span><span class="n">l</span><span class="p">)</span> <span class="k">for</span> <span class="n">l</span> <span class="ow">in</span> <span class="n">ib</span><span class="p">))</span>
    <span class="nb">print</span><span class="p">(</span><span class="s2">&quot;  De somme de contrôle num_nirpp =&quot;</span><span class="p">,</span> <span class="n">num_nirpp</span><span class="p">)</span>
    <span class="nb">print</span><span class="p">(</span><span class="s2">&quot;  Module à 97 =&quot;</span><span class="p">,</span> <span class="p">(</span><span class="mi">97</span> <span class="o">-</span> <span class="p">(</span><span class="n">num_nirpp</span> <span class="o">%</span> <span class="mi">97</span><span class="p">)))</span>
    <span class="nb">print</span><span class="p">(</span><span class="s2">&quot;  Et la somme de contrôle attendue était&quot;</span><span class="p">,</span> <span class="n">checksum</span><span class="p">)</span>
    <span class="n">check</span> <span class="o">=</span> <span class="p">(</span><span class="mi">97</span> <span class="o">-</span> <span class="p">(</span><span class="n">num_nirpp</span> <span class="o">%</span> <span class="mi">97</span><span class="p">))</span> <span class="o">==</span> <span class="n">checksum</span>
    <span class="k">if</span> <span class="n">check</span><span class="p">:</span>
        <span class="nb">print</span><span class="p">(</span><span class="s2">&quot;OK &#39;</span><span class="si">%s</span><span class="s2">&#39; semble être un nombre NIRPP valide.&quot;</span> <span class="o">%</span> <span class="n">nirpp</span><span class="p">)</span>
    <span class="k">else</span><span class="p">:</span>
        <span class="nb">print</span><span class="p">(</span><span class="s2">&quot;[ATTENTION] PAS OK &#39;</span><span class="si">%s</span><span class="s2">&#39; semble ne pas être un nombre NIRPP valide!&quot;</span> <span class="o">%</span> <span class="n">nirpp</span><span class="p">)</span>
    <span class="k">return</span> <span class="n">check</span>
</pre></div>

    </div>
</div>
</div>

</div>
<div class="cell border-box-sizing text_cell rendered"><div class="prompt input_prompt">
</div><div class="inner_cell">
<div class="text_cell_render border-box-sizing rendered_html">
<h3 id="Exemples">Exemples<a class="anchor-link" href="#Exemples">&#182;</a></h3>
</div>
</div>
</div>
<div class="cell border-box-sizing code_cell rendered">
<div class="input">
<div class="prompt input_prompt">In&nbsp;[20]:</div>
<div class="inner_cell">
    <div class="input_area">
<div class=" highlight hl-ipython3"><pre><span></span><span class="n">verifie_nirpp</span><span class="p">(</span><span class="n">exemple_nirpp</span><span class="p">)</span>
</pre></div>

    </div>
</div>
</div>

<div class="output_wrapper">
<div class="output">


<div class="output_area">

    <div class="prompt"></div>


<div class="output_subarea output_stream output_stdout output_text">
<pre>Vérification du nombre NIRPP &#39;2 69 05 49 588 157 80&#39; ...
  De longueur 13
  De somme de contrôle num_nirpp = 2690549588157
  Module à 97 = 80
  Et la somme de contrôle attendue était 80
OK &#39;2 69 05 49 588 157 80&#39; semble être un nombre NIRPP valide.
</pre>
</div>
</div>

<div class="output_area">

    <div class="prompt output_prompt">Out[20]:</div>




<div class="output_text output_subarea output_execute_result">
<pre>True</pre>
</div>

</div>

</div>
</div>

</div>
<div class="cell border-box-sizing text_cell rendered"><div class="prompt input_prompt">
</div><div class="inner_cell">
<div class="text_cell_render border-box-sizing rendered_html">
<h3 id="Bonus-:-affichage-d'un-NIRPP">Bonus : affichage d'un NIRPP<a class="anchor-link" href="#Bonus-:-affichage-d'un-NIRPP">&#182;</a></h3><ul>
<li>Référence : <a href="https://fr.wikipedia.org/wiki/Num%C3%A9ro_de_s%C3%A9curit%C3%A9_sociale_en_France#Signification_des_chiffres_du_NIR">https://fr.wikipedia.org/wiki/Num%C3%A9ro_de_s%C3%A9curit%C3%A9_sociale_en_France#Signification_des_chiffres_du_NIR</a></li>
</ul>
<p>Il suffit de récupérer les informations de chaque morceau du code NIRPP, et les stocker comme ça :</p>

</div>
</div>
</div>
<div class="cell border-box-sizing code_cell rendered">
<div class="input">
<div class="prompt input_prompt">In&nbsp;[21]:</div>
<div class="inner_cell">
    <div class="input_area">
<div class=" highlight hl-ipython3"><pre><span></span><span class="n">information_nirpp</span> <span class="o">=</span> <span class="p">{</span>
    <span class="p">(</span><span class="mi">0</span><span class="p">,</span> <span class="mi">1</span><span class="p">):</span> <span class="p">{</span>
        <span class="s2">&quot;meaning&quot;</span><span class="p">:</span> <span class="s2">&quot;sexe&quot;</span><span class="p">,</span>
        <span class="s2">&quot;mapping&quot;</span><span class="p">:</span> <span class="p">{</span>
            <span class="s2">&quot;1&quot;</span><span class="p">:</span> <span class="s2">&quot;homme&quot;</span><span class="p">,</span>
            <span class="s2">&quot;2&quot;</span><span class="p">:</span> <span class="s2">&quot;femme&quot;</span><span class="p">,</span>
            <span class="s2">&quot;3&quot;</span><span class="p">:</span> <span class="s2">&quot;personne étrangère de sexe masculin en cours d&#39;immatriculation en France&quot;</span><span class="p">,</span>
            <span class="s2">&quot;4&quot;</span><span class="p">:</span> <span class="s2">&quot;personne étrangère de sexe féminin en cours d&#39;immatriculation en France&quot;</span>
        <span class="p">}</span>
    <span class="p">},</span>
    <span class="p">(</span><span class="mi">1</span><span class="p">,</span> <span class="mi">2</span><span class="p">):</span> <span class="p">{</span>
        <span class="s2">&quot;meaning&quot;</span><span class="p">:</span> <span class="s2">&quot;deux derniers chiffres de l&#39;année de naissance&quot;</span><span class="p">,</span>
        <span class="s2">&quot;mapping&quot;</span><span class="p">:</span> <span class="p">{</span>
            <span class="c1"># DONE nothing to do for this information</span>
        <span class="p">}</span>
    <span class="p">},</span>
    <span class="p">(</span><span class="mi">3</span><span class="p">,</span> <span class="mi">2</span><span class="p">):</span> <span class="p">{</span>
        <span class="s2">&quot;meaning&quot;</span><span class="p">:</span> <span class="s2">&quot;mois de naissance&quot;</span><span class="p">,</span>
        <span class="s2">&quot;mapping&quot;</span><span class="p">:</span> <span class="p">{</span>
            <span class="s2">&quot;01&quot;</span><span class="p">:</span> <span class="s2">&quot;janvier&quot;</span><span class="p">,</span>
            <span class="s2">&quot;02&quot;</span><span class="p">:</span> <span class="s2">&quot;février&quot;</span><span class="p">,</span>
            <span class="s2">&quot;03&quot;</span><span class="p">:</span> <span class="s2">&quot;mars&quot;</span><span class="p">,</span>
            <span class="s2">&quot;04&quot;</span><span class="p">:</span> <span class="s2">&quot;avril&quot;</span><span class="p">,</span>
            <span class="s2">&quot;05&quot;</span><span class="p">:</span> <span class="s2">&quot;mai&quot;</span><span class="p">,</span>
            <span class="s2">&quot;06&quot;</span><span class="p">:</span> <span class="s2">&quot;juin&quot;</span><span class="p">,</span>
            <span class="s2">&quot;07&quot;</span><span class="p">:</span> <span class="s2">&quot;juillet&quot;</span><span class="p">,</span>
            <span class="s2">&quot;08&quot;</span><span class="p">:</span> <span class="s2">&quot;août&quot;</span><span class="p">,</span>
            <span class="s2">&quot;09&quot;</span><span class="p">:</span> <span class="s2">&quot;septembre&quot;</span><span class="p">,</span>
            <span class="s2">&quot;10&quot;</span><span class="p">:</span> <span class="s2">&quot;octobre&quot;</span><span class="p">,</span>
            <span class="s2">&quot;11&quot;</span><span class="p">:</span> <span class="s2">&quot;novembre&quot;</span><span class="p">,</span>
            <span class="s2">&quot;12&quot;</span><span class="p">:</span> <span class="s2">&quot;décembre&quot;</span><span class="p">,</span>
        <span class="p">}</span>
    <span class="p">},</span>
    <span class="c1"># Only case A : TODO implement case B and C</span>
    <span class="p">(</span><span class="mi">5</span><span class="p">,</span> <span class="mi">2</span><span class="p">):</span> <span class="p">{</span>
        <span class="s2">&quot;meaning&quot;</span><span class="p">:</span> <span class="s2">&quot;département de naissance métropolitain&quot;</span><span class="p">,</span>
        <span class="s2">&quot;mapping&quot;</span><span class="p">:</span> <span class="p">{</span>  <span class="c1"># Cf. http://www.insee.fr/fr/methodes/nomenclatures/cog/documentation.asp</span>
            <span class="s2">&quot;01&quot;</span><span class="p">:</span> <span class="s2">&quot;Ain&quot;</span><span class="p">,</span>
            <span class="s2">&quot;02&quot;</span><span class="p">:</span> <span class="s2">&quot;Aisne&quot;</span><span class="p">,</span>
            <span class="s2">&quot;03&quot;</span><span class="p">:</span> <span class="s2">&quot;Allier&quot;</span><span class="p">,</span>
            <span class="s2">&quot;04&quot;</span><span class="p">:</span> <span class="s2">&quot;Alpes-de-Haute-Provence&quot;</span><span class="p">,</span>
            <span class="s2">&quot;05&quot;</span><span class="p">:</span> <span class="s2">&quot;Hautes-Alpes&quot;</span><span class="p">,</span>
            <span class="s2">&quot;06&quot;</span><span class="p">:</span> <span class="s2">&quot;Alpes-Maritimes&quot;</span><span class="p">,</span>
            <span class="s2">&quot;07&quot;</span><span class="p">:</span> <span class="s2">&quot;Ardèche&quot;</span><span class="p">,</span>
            <span class="s2">&quot;08&quot;</span><span class="p">:</span> <span class="s2">&quot;Ardennes&quot;</span><span class="p">,</span>
            <span class="s2">&quot;09&quot;</span><span class="p">:</span> <span class="s2">&quot;Ariège&quot;</span><span class="p">,</span>
            <span class="s2">&quot;10&quot;</span><span class="p">:</span> <span class="s2">&quot;Aube&quot;</span><span class="p">,</span>
            <span class="s2">&quot;11&quot;</span><span class="p">:</span> <span class="s2">&quot;Aude&quot;</span><span class="p">,</span>
            <span class="s2">&quot;12&quot;</span><span class="p">:</span> <span class="s2">&quot;Aveyron&quot;</span><span class="p">,</span>
            <span class="s2">&quot;13&quot;</span><span class="p">:</span> <span class="s2">&quot;Bouches-du-Rhône&quot;</span><span class="p">,</span>
            <span class="s2">&quot;14&quot;</span><span class="p">:</span> <span class="s2">&quot;Calvados&quot;</span><span class="p">,</span>
            <span class="s2">&quot;15&quot;</span><span class="p">:</span> <span class="s2">&quot;Cantal&quot;</span><span class="p">,</span>
            <span class="s2">&quot;16&quot;</span><span class="p">:</span> <span class="s2">&quot;Charente&quot;</span><span class="p">,</span>
            <span class="s2">&quot;17&quot;</span><span class="p">:</span> <span class="s2">&quot;Charente-Maritime&quot;</span><span class="p">,</span>
            <span class="s2">&quot;18&quot;</span><span class="p">:</span> <span class="s2">&quot;Cher&quot;</span><span class="p">,</span>
            <span class="s2">&quot;19&quot;</span><span class="p">:</span> <span class="s2">&quot;Corrèze&quot;</span><span class="p">,</span>
            <span class="s2">&quot;2A&quot;</span><span class="p">:</span> <span class="s2">&quot;Corse-du-Sud&quot;</span><span class="p">,</span>
            <span class="s2">&quot;2B&quot;</span><span class="p">:</span> <span class="s2">&quot;Haute-Corse&quot;</span><span class="p">,</span>
            <span class="s2">&quot;21&quot;</span><span class="p">:</span> <span class="s2">&quot;Côte-d&#39;Or&quot;</span><span class="p">,</span>
            <span class="s2">&quot;22&quot;</span><span class="p">:</span> <span class="s2">&quot;Côtes-d&#39;Armor&quot;</span><span class="p">,</span>
            <span class="s2">&quot;23&quot;</span><span class="p">:</span> <span class="s2">&quot;Creuse&quot;</span><span class="p">,</span>
            <span class="s2">&quot;24&quot;</span><span class="p">:</span> <span class="s2">&quot;Dordogne&quot;</span><span class="p">,</span>
            <span class="s2">&quot;25&quot;</span><span class="p">:</span> <span class="s2">&quot;Doubs&quot;</span><span class="p">,</span>
            <span class="s2">&quot;26&quot;</span><span class="p">:</span> <span class="s2">&quot;Drôme&quot;</span><span class="p">,</span>
            <span class="s2">&quot;27&quot;</span><span class="p">:</span> <span class="s2">&quot;Eure&quot;</span><span class="p">,</span>
            <span class="s2">&quot;28&quot;</span><span class="p">:</span> <span class="s2">&quot;Eure-et-Loir&quot;</span><span class="p">,</span>
            <span class="s2">&quot;29&quot;</span><span class="p">:</span> <span class="s2">&quot;Finistère&quot;</span><span class="p">,</span>
            <span class="s2">&quot;30&quot;</span><span class="p">:</span> <span class="s2">&quot;Gard&quot;</span><span class="p">,</span>
            <span class="s2">&quot;31&quot;</span><span class="p">:</span> <span class="s2">&quot;Haute-Garonne&quot;</span><span class="p">,</span>
            <span class="s2">&quot;32&quot;</span><span class="p">:</span> <span class="s2">&quot;Gers&quot;</span><span class="p">,</span>
            <span class="s2">&quot;33&quot;</span><span class="p">:</span> <span class="s2">&quot;Gironde&quot;</span><span class="p">,</span>
            <span class="s2">&quot;34&quot;</span><span class="p">:</span> <span class="s2">&quot;Hérault&quot;</span><span class="p">,</span>
            <span class="s2">&quot;35&quot;</span><span class="p">:</span> <span class="s2">&quot;Ille-et-Vilaine&quot;</span><span class="p">,</span>
            <span class="s2">&quot;36&quot;</span><span class="p">:</span> <span class="s2">&quot;Indre&quot;</span><span class="p">,</span>
            <span class="s2">&quot;37&quot;</span><span class="p">:</span> <span class="s2">&quot;Indre-et-Loire&quot;</span><span class="p">,</span>
            <span class="s2">&quot;38&quot;</span><span class="p">:</span> <span class="s2">&quot;Isère&quot;</span><span class="p">,</span>
            <span class="s2">&quot;39&quot;</span><span class="p">:</span> <span class="s2">&quot;Jura&quot;</span><span class="p">,</span>
            <span class="s2">&quot;40&quot;</span><span class="p">:</span> <span class="s2">&quot;Landes&quot;</span><span class="p">,</span>
            <span class="s2">&quot;41&quot;</span><span class="p">:</span> <span class="s2">&quot;Loir-et-Cher&quot;</span><span class="p">,</span>
            <span class="s2">&quot;42&quot;</span><span class="p">:</span> <span class="s2">&quot;Loire&quot;</span><span class="p">,</span>
            <span class="s2">&quot;43&quot;</span><span class="p">:</span> <span class="s2">&quot;Haute-Loire&quot;</span><span class="p">,</span>
            <span class="s2">&quot;44&quot;</span><span class="p">:</span> <span class="s2">&quot;Loire-Atlantique&quot;</span><span class="p">,</span>
            <span class="s2">&quot;45&quot;</span><span class="p">:</span> <span class="s2">&quot;Loiret&quot;</span><span class="p">,</span>
            <span class="s2">&quot;46&quot;</span><span class="p">:</span> <span class="s2">&quot;Lot&quot;</span><span class="p">,</span>
            <span class="s2">&quot;47&quot;</span><span class="p">:</span> <span class="s2">&quot;Lot-et-Garonne&quot;</span><span class="p">,</span>
            <span class="s2">&quot;48&quot;</span><span class="p">:</span> <span class="s2">&quot;Lozère&quot;</span><span class="p">,</span>
            <span class="s2">&quot;49&quot;</span><span class="p">:</span> <span class="s2">&quot;Maine-et-Loire&quot;</span><span class="p">,</span>
            <span class="s2">&quot;50&quot;</span><span class="p">:</span> <span class="s2">&quot;Manche&quot;</span><span class="p">,</span>
            <span class="s2">&quot;51&quot;</span><span class="p">:</span> <span class="s2">&quot;Marne&quot;</span><span class="p">,</span>
            <span class="s2">&quot;52&quot;</span><span class="p">:</span> <span class="s2">&quot;Haute-Marne&quot;</span><span class="p">,</span>
            <span class="s2">&quot;53&quot;</span><span class="p">:</span> <span class="s2">&quot;Mayenne&quot;</span><span class="p">,</span>
            <span class="s2">&quot;54&quot;</span><span class="p">:</span> <span class="s2">&quot;Meurthe-et-Moselle&quot;</span><span class="p">,</span>
            <span class="s2">&quot;55&quot;</span><span class="p">:</span> <span class="s2">&quot;Meuse&quot;</span><span class="p">,</span>
            <span class="s2">&quot;56&quot;</span><span class="p">:</span> <span class="s2">&quot;Morbihan&quot;</span><span class="p">,</span>
            <span class="s2">&quot;57&quot;</span><span class="p">:</span> <span class="s2">&quot;Moselle&quot;</span><span class="p">,</span>
            <span class="s2">&quot;58&quot;</span><span class="p">:</span> <span class="s2">&quot;Nièvre&quot;</span><span class="p">,</span>
            <span class="s2">&quot;59&quot;</span><span class="p">:</span> <span class="s2">&quot;Nord&quot;</span><span class="p">,</span>
            <span class="s2">&quot;60&quot;</span><span class="p">:</span> <span class="s2">&quot;Oise&quot;</span><span class="p">,</span>
            <span class="s2">&quot;61&quot;</span><span class="p">:</span> <span class="s2">&quot;Orne&quot;</span><span class="p">,</span>
            <span class="s2">&quot;62&quot;</span><span class="p">:</span> <span class="s2">&quot;Pas-de-Calais&quot;</span><span class="p">,</span>
            <span class="s2">&quot;63&quot;</span><span class="p">:</span> <span class="s2">&quot;Puy-de-Dôme&quot;</span><span class="p">,</span>
            <span class="s2">&quot;64&quot;</span><span class="p">:</span> <span class="s2">&quot;Pyrénées-Atlantiques&quot;</span><span class="p">,</span>
            <span class="s2">&quot;65&quot;</span><span class="p">:</span> <span class="s2">&quot;Hautes-Pyrénées&quot;</span><span class="p">,</span>
            <span class="s2">&quot;66&quot;</span><span class="p">:</span> <span class="s2">&quot;Pyrénées-Orientales&quot;</span><span class="p">,</span>
            <span class="s2">&quot;67&quot;</span><span class="p">:</span> <span class="s2">&quot;Bas-Rhin&quot;</span><span class="p">,</span>
            <span class="s2">&quot;68&quot;</span><span class="p">:</span> <span class="s2">&quot;Haut-Rhin&quot;</span><span class="p">,</span>
            <span class="s2">&quot;69&quot;</span><span class="p">:</span> <span class="s2">&quot;Rhône&quot;</span><span class="p">,</span>
            <span class="s2">&quot;70&quot;</span><span class="p">:</span> <span class="s2">&quot;Haute-Saône&quot;</span><span class="p">,</span>
            <span class="s2">&quot;71&quot;</span><span class="p">:</span> <span class="s2">&quot;Saône-et-Loire&quot;</span><span class="p">,</span>
            <span class="s2">&quot;72&quot;</span><span class="p">:</span> <span class="s2">&quot;Sarthe&quot;</span><span class="p">,</span>
            <span class="s2">&quot;73&quot;</span><span class="p">:</span> <span class="s2">&quot;Savoie&quot;</span><span class="p">,</span>
            <span class="s2">&quot;74&quot;</span><span class="p">:</span> <span class="s2">&quot;Haute-Savoie&quot;</span><span class="p">,</span>
            <span class="s2">&quot;75&quot;</span><span class="p">:</span> <span class="s2">&quot;Paris&quot;</span><span class="p">,</span>
            <span class="s2">&quot;76&quot;</span><span class="p">:</span> <span class="s2">&quot;Seine-Maritime&quot;</span><span class="p">,</span>
            <span class="s2">&quot;77&quot;</span><span class="p">:</span> <span class="s2">&quot;Seine-et-Marne&quot;</span><span class="p">,</span>
            <span class="s2">&quot;78&quot;</span><span class="p">:</span> <span class="s2">&quot;Yvelines&quot;</span><span class="p">,</span>
            <span class="s2">&quot;79&quot;</span><span class="p">:</span> <span class="s2">&quot;Deux-Sèvres&quot;</span><span class="p">,</span>
            <span class="s2">&quot;80&quot;</span><span class="p">:</span> <span class="s2">&quot;Somme&quot;</span><span class="p">,</span>
            <span class="s2">&quot;81&quot;</span><span class="p">:</span> <span class="s2">&quot;Tarn&quot;</span><span class="p">,</span>
            <span class="s2">&quot;82&quot;</span><span class="p">:</span> <span class="s2">&quot;Tarn-et-Garonne&quot;</span><span class="p">,</span>
            <span class="s2">&quot;83&quot;</span><span class="p">:</span> <span class="s2">&quot;Var&quot;</span><span class="p">,</span>
            <span class="s2">&quot;84&quot;</span><span class="p">:</span> <span class="s2">&quot;Vaucluse&quot;</span><span class="p">,</span>
            <span class="s2">&quot;85&quot;</span><span class="p">:</span> <span class="s2">&quot;Vendée&quot;</span><span class="p">,</span>
            <span class="s2">&quot;86&quot;</span><span class="p">:</span> <span class="s2">&quot;Vienne&quot;</span><span class="p">,</span>
            <span class="s2">&quot;87&quot;</span><span class="p">:</span> <span class="s2">&quot;Haute-Vienne&quot;</span><span class="p">,</span>
            <span class="s2">&quot;88&quot;</span><span class="p">:</span> <span class="s2">&quot;Vosges&quot;</span><span class="p">,</span>
            <span class="s2">&quot;89&quot;</span><span class="p">:</span> <span class="s2">&quot;Yonne&quot;</span><span class="p">,</span>
            <span class="s2">&quot;90&quot;</span><span class="p">:</span> <span class="s2">&quot;Territoire de Belfort&quot;</span><span class="p">,</span>
            <span class="s2">&quot;91&quot;</span><span class="p">:</span> <span class="s2">&quot;Essonne&quot;</span><span class="p">,</span>
            <span class="s2">&quot;92&quot;</span><span class="p">:</span> <span class="s2">&quot;Hauts-de-Seine&quot;</span><span class="p">,</span>
            <span class="s2">&quot;93&quot;</span><span class="p">:</span> <span class="s2">&quot;Seine-Saint-Denis&quot;</span><span class="p">,</span>
            <span class="s2">&quot;94&quot;</span><span class="p">:</span> <span class="s2">&quot;Val-de-Marne&quot;</span><span class="p">,</span>
            <span class="s2">&quot;95&quot;</span><span class="p">:</span> <span class="s2">&quot;Val-d&#39;Oise&quot;</span><span class="p">,</span>
            <span class="c1"># TODO support these too</span>
            <span class="s2">&quot;971&quot;</span><span class="p">:</span> <span class="s2">&quot;Guadeloupe&quot;</span><span class="p">,</span>
            <span class="s2">&quot;972&quot;</span><span class="p">:</span> <span class="s2">&quot;Martinique&quot;</span><span class="p">,</span>
            <span class="s2">&quot;973&quot;</span><span class="p">:</span> <span class="s2">&quot;Guyane&quot;</span><span class="p">,</span>
            <span class="s2">&quot;974&quot;</span><span class="p">:</span> <span class="s2">&quot;La Réunion&quot;</span><span class="p">,</span>
            <span class="s2">&quot;975&quot;</span><span class="p">:</span> <span class="s2">&quot;Saint-Pierre-et-Miquelon&quot;</span><span class="p">,</span>
            <span class="s2">&quot;976&quot;</span><span class="p">:</span> <span class="s2">&quot;Mayotte&quot;</span><span class="p">,</span>
            <span class="s2">&quot;977&quot;</span><span class="p">:</span> <span class="s2">&quot;Saint-Barthélemy&quot;</span><span class="p">,</span>
            <span class="s2">&quot;978&quot;</span><span class="p">:</span> <span class="s2">&quot;Saint-Martin&quot;</span><span class="p">,</span>
            <span class="s2">&quot;984&quot;</span><span class="p">:</span> <span class="s2">&quot;Terres australes et antarctiques françaises&quot;</span><span class="p">,</span>
            <span class="s2">&quot;986&quot;</span><span class="p">:</span> <span class="s2">&quot;Wallis-et-Futuna&quot;</span><span class="p">,</span>
            <span class="s2">&quot;987&quot;</span><span class="p">:</span> <span class="s2">&quot;Polynésie française&quot;</span><span class="p">,</span>
            <span class="s2">&quot;988&quot;</span><span class="p">:</span> <span class="s2">&quot;Nouvelle-Calédonie&quot;</span><span class="p">,</span>
            <span class="s2">&quot;989&quot;</span><span class="p">:</span> <span class="s2">&quot;Île de Clipperton&quot;</span>
        <span class="p">}</span>
    <span class="p">},</span>
    <span class="p">(</span><span class="mi">7</span><span class="p">,</span> <span class="mi">3</span><span class="p">):</span> <span class="p">{</span>
        <span class="s2">&quot;meaning&quot;</span><span class="p">:</span> <span class="s2">&quot;code officiel de la commune de naissance&quot;</span><span class="p">,</span>
        <span class="s2">&quot;mapping&quot;</span><span class="p">:</span> <span class="p">{</span>  <span class="c1"># TODO</span>
        <span class="p">}</span>
    <span class="p">},</span>
    <span class="p">(</span><span class="mi">10</span><span class="p">,</span> <span class="mi">3</span><span class="p">):</span> <span class="p">{</span>
        <span class="s2">&quot;meaning&quot;</span><span class="p">:</span> <span class="s2">&quot;numéro d’ordre de la naissance dans le mois et la commune (ou le pays)&quot;</span><span class="p">,</span>
        <span class="s2">&quot;mapping&quot;</span><span class="p">:</span> <span class="p">{</span>
            <span class="c1"># DONE nothing to do for this information</span>
        <span class="p">}</span>
    <span class="p">}</span>
<span class="p">}</span>
</pre></div>

    </div>
</div>
</div>

</div>
<div class="cell border-box-sizing text_cell rendered"><div class="prompt input_prompt">
</div><div class="inner_cell">
<div class="text_cell_render border-box-sizing rendered_html">
<p>Pour les villes, on a besoin d'une base de donnée plus grande. J'ai récupéré <a href="https://bitbucket.org/lbesson/bin/src/master/comsimp2016.txt">ce fichier</a> sur le site de l'INSEE (lien mort).</p>

</div>
</div>
</div>
<div class="cell border-box-sizing code_cell rendered">
<div class="input">
<div class="prompt input_prompt">In&nbsp;[22]:</div>
<div class="inner_cell">
    <div class="input_area">
<div class=" highlight hl-ipython3"><pre><span></span><span class="o">!</span>ls data/
</pre></div>

    </div>
</div>
</div>

<div class="output_wrapper">
<div class="output">


<div class="output_area">

    <div class="prompt"></div>


<div class="output_subarea output_stream output_stdout output_text">
<pre>comsimp2016.txt		 Exemple_CB.jpg    Exemple_RIB.jpg
Exemple_CarteVitale.jpg  Exemple_IMEI.jpg
</pre>
</div>
</div>

</div>
</div>

</div>
<div class="cell border-box-sizing code_cell rendered">
<div class="input">
<div class="prompt input_prompt">In&nbsp;[23]:</div>
<div class="inner_cell">
    <div class="input_area">
<div class=" highlight hl-ipython3"><pre><span></span><span class="o">!</span>wc data/comsimp2016.txt
</pre></div>

    </div>
</div>
</div>

<div class="output_wrapper">
<div class="output">


<div class="output_area">

    <div class="prompt"></div>


<div class="output_subarea output_stream output_stdout output_text">
<pre>  35886   40952 1685861 data/comsimp2016.txt
</pre>
</div>
</div>

</div>
</div>

</div>
<div class="cell border-box-sizing text_cell rendered"><div class="prompt input_prompt">
</div><div class="inner_cell">
<div class="text_cell_render border-box-sizing rendered_html">
<p>Il ressemble à ça :</p>

</div>
</div>
</div>
<div class="cell border-box-sizing code_cell rendered">
<div class="input">
<div class="prompt input_prompt">In&nbsp;[24]:</div>
<div class="inner_cell">
    <div class="input_area">
<div class=" highlight hl-ipython3"><pre><span></span><span class="o">!</span>head data/comsimp2016.txt
</pre></div>

    </div>
</div>
</div>

<div class="output_wrapper">
<div class="output">


<div class="output_area">

    <div class="prompt"></div>


<div class="output_subarea output_stream output_stdout output_text">
<pre>CDC,CHEFLIEU,REG,DEP,COM,AR,CT,TNCC,ARTMAJ,NCC,ARTMIN,NCCENR
0,0,84,01,001,2,08,5,(L&#39;) ABERGEMENT-CLEMENCIAT,(L&#39;) Abergement-Clémenciat
0,0,84,01,002,1,01,5,(L&#39;) ABERGEMENT-DE-VAREY,(L&#39;) Abergement-de-Varey
0,1,84,01,004,1,01,1,AMBERIEU-EN-BUGEY,Ambérieu-en-Bugey
0,0,84,01,005,2,22,1,AMBERIEUX-EN-DOMBES,Ambérieux-en-Dombes
0,0,84,01,006,1,04,1,AMBLEON,Ambléon
0,0,84,01,007,1,01,1,AMBRONAY,Ambronay
0,0,84,01,008,1,01,1,AMBUTRIX,Ambutrix
0,0,84,01,009,1,04,1,ANDERT-ET-CONDON,Andert-et-Condon
0,0,84,01,010,1,10,1,ANGLEFORT,Anglefort
</pre>
</div>
</div>

</div>
</div>

</div>
<div class="cell border-box-sizing text_cell rendered"><div class="prompt input_prompt">
</div><div class="inner_cell">
<div class="text_cell_render border-box-sizing rendered_html">
<p>Briançon est bien dans la liste :</p>

</div>
</div>
</div>
<div class="cell border-box-sizing code_cell rendered">
<div class="input">
<div class="prompt input_prompt">In&nbsp;[25]:</div>
<div class="inner_cell">
    <div class="input_area">
<div class=" highlight hl-ipython3"><pre><span></span><span class="o">!</span>grep <span class="s2">&quot;BRIANCON&quot;</span> data/comsimp2016.txt
</pre></div>

    </div>
</div>
</div>

<div class="output_wrapper">
<div class="output">


<div class="output_area">

    <div class="prompt"></div>


<div class="output_subarea output_stream output_stdout output_text">
<pre>1,2,93,05,023,1,98,0,BRIANCON,Briançon
0,0,93,06,024,1,11,0,BRIANCONNET,Briançonnet
</pre>
</div>
</div>

</div>
</div>

</div>
<div class="cell border-box-sizing text_cell rendered"><div class="prompt input_prompt">
</div><div class="inner_cell">
<div class="text_cell_render border-box-sizing rendered_html">
<p>Allons-y :</p>

</div>
</div>
</div>
<div class="cell border-box-sizing code_cell rendered">
<div class="input">
<div class="prompt input_prompt">In&nbsp;[26]:</div>
<div class="inner_cell">
    <div class="input_area">
<div class=" highlight hl-ipython3"><pre><span></span><span class="kn">import</span> <span class="nn">subprocess</span>
<span class="n">length_checksum</span> <span class="o">=</span> <span class="mi">2</span>


<span class="k">def</span> <span class="nf">pprint_nirpp</span><span class="p">(</span><span class="n">nirpp</span><span class="p">,</span> <span class="n">length_checksum</span><span class="o">=</span><span class="n">length_checksum</span><span class="p">):</span>
    <span class="nb">print</span><span class="p">(</span><span class="s2">&quot;</span><span class="se">\n</span><span class="s2">Affichage d&#39;informations contenues dans le numéro NIRPP &#39;</span><span class="si">%s</span><span class="s2">&#39; ...&quot;</span> <span class="o">%</span> <span class="n">nirpp</span><span class="p">)</span>
    <span class="n">nirpp</span> <span class="o">=</span> <span class="n">nirpp</span><span class="o">.</span><span class="n">replace</span><span class="p">(</span><span class="s1">&#39; &#39;</span><span class="p">,</span> <span class="s1">&#39;&#39;</span><span class="p">)</span>
    <span class="n">ib</span> <span class="o">=</span> <span class="n">nirpp</span><span class="p">[:</span><span class="o">-</span><span class="n">length_checksum</span><span class="p">]</span>
    <span class="c1"># Printing</span>
    <span class="k">for</span> <span class="p">(</span><span class="n">i</span><span class="p">,</span> <span class="n">l</span><span class="p">)</span> <span class="ow">in</span> <span class="nb">sorted</span><span class="p">(</span><span class="n">information_nirpp</span><span class="p">):</span>
        <span class="n">n</span> <span class="o">=</span> <span class="n">nirpp</span><span class="p">[</span><span class="n">i</span><span class="p">:</span> <span class="n">i</span> <span class="o">+</span> <span class="n">l</span><span class="p">]</span>
        <span class="n">info</span> <span class="o">=</span> <span class="n">information_nirpp</span><span class="p">[(</span><span class="n">i</span><span class="p">,</span> <span class="n">l</span><span class="p">)]</span>
        <span class="k">if</span> <span class="n">n</span> <span class="ow">in</span> <span class="n">info</span><span class="p">[</span><span class="s2">&quot;mapping&quot;</span><span class="p">]:</span>
            <span class="n">explain</span> <span class="o">=</span> <span class="s2">&quot;</span><span class="se">\&quot;</span><span class="si">{}</span><span class="se">\&quot;</span><span class="s2">&quot;</span><span class="o">.</span><span class="n">format</span><span class="p">(</span><span class="n">info</span><span class="p">[</span><span class="s2">&quot;mapping&quot;</span><span class="p">][</span><span class="n">n</span><span class="p">])</span>
        <span class="k">else</span><span class="p">:</span>
            <span class="n">explain</span> <span class="o">=</span> <span class="n">n</span>
        <span class="c1"># For towns, durty hack to extract the town from the INSEE database</span>
        <span class="k">if</span> <span class="n">i</span> <span class="o">==</span> <span class="mi">7</span><span class="p">:</span>
            <span class="k">try</span><span class="p">:</span>
                <span class="n">args</span> <span class="o">=</span> <span class="p">[</span>
                    <span class="s2">&quot;grep&quot;</span><span class="p">,</span> <span class="s2">&quot;--&quot;</span><span class="p">,</span> <span class="s2">&quot;&#39;,</span><span class="si">{}</span><span class="s2">,</span><span class="si">{}</span><span class="s2">,&#39;&quot;</span><span class="o">.</span><span class="n">format</span><span class="p">(</span>
                        <span class="n">nirpp</span><span class="p">[</span><span class="mi">5</span><span class="p">:</span> <span class="mi">5</span> <span class="o">+</span> <span class="mi">2</span><span class="p">],</span>
                        <span class="n">nirpp</span><span class="p">[</span><span class="mi">7</span><span class="p">:</span> <span class="mi">7</span> <span class="o">+</span> <span class="mi">3</span><span class="p">]</span>
                    <span class="p">),</span>
                    <span class="s2">&quot;data/comsimp2016.txt&quot;</span><span class="p">,</span>
                    <span class="s2">&quot;|&quot;</span><span class="p">,</span> <span class="s2">&quot;cut&quot;</span><span class="p">,</span> <span class="s2">&quot;-d,&quot;</span><span class="p">,</span> <span class="s2">&quot;-f10&quot;</span>
                <span class="p">]</span>
                <span class="n">command</span> <span class="o">=</span> <span class="s1">&#39; &#39;</span><span class="o">.</span><span class="n">join</span><span class="p">(</span><span class="n">args</span><span class="p">)</span>
                <span class="c1"># print(&quot;Executing subprocess.check_output to \&quot;{}\&quot;&quot;.format(command))</span>
                <span class="n">explain</span> <span class="o">=</span> <span class="n">subprocess</span><span class="o">.</span><span class="n">check_output</span><span class="p">(</span><span class="n">command</span><span class="p">,</span> <span class="n">shell</span><span class="o">=</span><span class="kc">True</span><span class="p">)</span>
                <span class="n">explain</span> <span class="o">=</span> <span class="n">explain</span><span class="p">[:</span><span class="o">-</span><span class="mi">1</span><span class="p">]</span><span class="o">.</span><span class="n">decode</span><span class="p">()</span>
                <span class="c1"># print(&quot;explain =&quot;, explain)</span>
                <span class="n">explain</span> <span class="o">=</span> <span class="s2">&quot;</span><span class="si">{}</span><span class="s2"> (code </span><span class="si">{}</span><span class="s2">)&quot;</span><span class="o">.</span><span class="n">format</span><span class="p">(</span><span class="n">explain</span><span class="p">,</span> <span class="n">nirpp</span><span class="p">[</span><span class="mi">7</span><span class="p">:</span> <span class="mi">7</span> <span class="o">+</span> <span class="mi">3</span><span class="p">])</span>
            <span class="k">except</span> <span class="ne">Exception</span> <span class="k">as</span> <span class="n">e</span><span class="p">:</span>
                <span class="c1"># print(&quot;e =&quot;, e)</span>
                <span class="n">explain</span> <span class="o">=</span> <span class="n">n</span>
        <span class="nb">print</span><span class="p">(</span><span class="s2">&quot;- Le nombre &#39;</span><span class="si">{}</span><span class="s2">&#39; (indice </span><span class="si">{}</span><span class="s2">:</span><span class="si">{}</span><span class="s2">) signifie:</span><span class="se">\n\t\&quot;</span><span class="si">{}</span><span class="se">\&quot;</span><span class="s2"> : </span><span class="se">\t</span><span class="si">{}</span><span class="s2">&quot;</span><span class="o">.</span><span class="n">format</span><span class="p">(</span>
            <span class="n">n</span><span class="p">,</span> <span class="n">i</span><span class="p">,</span> <span class="n">i</span> <span class="o">+</span> <span class="n">l</span><span class="p">,</span> <span class="n">info</span><span class="p">[</span><span class="s2">&quot;meaning&quot;</span><span class="p">],</span> <span class="n">explain</span><span class="p">)</span>
        <span class="p">)</span>
</pre></div>

    </div>
</div>
</div>

</div>
<div class="cell border-box-sizing code_cell rendered">
<div class="input">
<div class="prompt input_prompt">In&nbsp;[27]:</div>
<div class="inner_cell">
    <div class="input_area">
<div class=" highlight hl-ipython3"><pre><span></span><span class="n">pprint_nirpp</span><span class="p">(</span><span class="n">exemple_nirpp</span><span class="p">)</span>
</pre></div>

    </div>
</div>
</div>

<div class="output_wrapper">
<div class="output">


<div class="output_area">

    <div class="prompt"></div>


<div class="output_subarea output_stream output_stdout output_text">
<pre>Affichage d&#39;informations contenues dans le numéro NIRPP &#39;2 69 05 49 588 157 80&#39; ...
- Le nombre &#39;2&#39; (indice 0:1) signifie:
	&#34;sexe&#34; : 	&#34;femme&#34;
- Le nombre &#39;69&#39; (indice 1:3) signifie:
	&#34;deux derniers chiffres de l&#39;année de naissance&#34; : 	69
- Le nombre &#39;05&#39; (indice 3:5) signifie:
	&#34;mois de naissance&#34; : 	&#34;mai&#34;
- Le nombre &#39;49&#39; (indice 5:7) signifie:
	&#34;département de naissance métropolitain&#34; : 	&#34;Maine-et-Loire&#34;
- Le nombre &#39;588&#39; (indice 7:10) signifie:
	&#34;code officiel de la commune de naissance&#34; : 	 (code 588)
- Le nombre &#39;157&#39; (indice 10:13) signifie:
	&#34;numéro d’ordre de la naissance dans le mois et la commune (ou le pays)&#34; : 	157
</pre>
</div>
</div>

</div>
</div>

</div>
<div class="cell border-box-sizing text_cell rendered"><div class="prompt input_prompt">
</div><div class="inner_cell">
<div class="text_cell_render border-box-sizing rendered_html">
<p>Avec un exemple assez proche de mon numéro de sécurité sociale (modifié) :</p>

</div>
</div>
</div>
<div class="cell border-box-sizing code_cell rendered">
<div class="input">
<div class="prompt input_prompt">In&nbsp;[28]:</div>
<div class="inner_cell">
    <div class="input_area">
<div class=" highlight hl-ipython3"><pre><span></span><span class="n">pprint_nirpp</span><span class="p">(</span><span class="s2">&quot;1 93 01 05 023 122 23&quot;</span><span class="p">)</span>
</pre></div>

    </div>
</div>
</div>

<div class="output_wrapper">
<div class="output">


<div class="output_area">

    <div class="prompt"></div>


<div class="output_subarea output_stream output_stdout output_text">
<pre>Affichage d&#39;informations contenues dans le numéro NIRPP &#39;1 93 01 05 023 122 23&#39; ...
- Le nombre &#39;1&#39; (indice 0:1) signifie:
	&#34;sexe&#34; : 	&#34;homme&#34;
- Le nombre &#39;93&#39; (indice 1:3) signifie:
	&#34;deux derniers chiffres de l&#39;année de naissance&#34; : 	93
- Le nombre &#39;01&#39; (indice 3:5) signifie:
	&#34;mois de naissance&#34; : 	&#34;janvier&#34;
- Le nombre &#39;05&#39; (indice 5:7) signifie:
	&#34;département de naissance métropolitain&#34; : 	&#34;Hautes-Alpes&#34;
- Le nombre &#39;023&#39; (indice 7:10) signifie:
	&#34;code officiel de la commune de naissance&#34; : 	Briançon (code 023)
- Le nombre &#39;122&#39; (indice 10:13) signifie:
	&#34;numéro d’ordre de la naissance dans le mois et la commune (ou le pays)&#34; : 	122
</pre>
</div>
</div>

</div>
</div>

</div>
<div class="cell border-box-sizing text_cell rendered"><div class="prompt input_prompt">
</div><div class="inner_cell">
<div class="text_cell_render border-box-sizing rendered_html">
<h2 id="IMEI">IMEI<a class="anchor-link" href="#IMEI">&#182;</a></h2><p>Les numéros d'identification des téléphones portables (<a href="https://fr.wikipedia.org/wiki/International_Mobile_Equipment_Identity#Structure">les IMEI</a>) terminent aussi par un chiffre de contrôle, qui utilise aussi la <a href="https://fr.wikipedia.org/wiki/Formule_de_Luhn">formule de Luhn</a>.
Je termine ce notebook en implémentant aussi cette vérification.</p>
<p><img width="40%" src="data/Exemple_IMEI.jpg"/></p>

</div>
</div>
</div>
<div class="cell border-box-sizing code_cell rendered">
<div class="input">
<div class="prompt input_prompt">In&nbsp;[29]:</div>
<div class="inner_cell">
    <div class="input_area">
<div class=" highlight hl-ipython3"><pre><span></span><span class="n">exemple_imei</span> <span class="o">=</span> <span class="s2">&quot;448674 52 897641 0&quot;</span>  <span class="c1"># avant 2014, 6-2-6-1</span>
</pre></div>

    </div>
</div>
</div>

</div>
<div class="cell border-box-sizing code_cell rendered">
<div class="input">
<div class="prompt input_prompt">In&nbsp;[30]:</div>
<div class="inner_cell">
    <div class="input_area">
<div class=" highlight hl-ipython3"><pre><span></span><span class="k">def</span> <span class="nf">verifie_imei</span><span class="p">(</span><span class="n">imei</span><span class="p">):</span>
    <span class="nb">print</span><span class="p">(</span><span class="s2">&quot;</span><span class="se">\n</span><span class="s2">Vérification du numéro IMEI &#39;</span><span class="si">%s</span><span class="s2">&#39;...&quot;</span> <span class="o">%</span> <span class="n">imei</span><span class="p">)</span>
    <span class="n">check</span> <span class="o">=</span> <span class="n">verifie_Luhn</span><span class="p">(</span><span class="n">imei</span><span class="p">)</span>
    <span class="k">if</span> <span class="n">check</span><span class="p">:</span>
        <span class="nb">print</span><span class="p">(</span><span class="s2">&quot;OK &#39;</span><span class="si">%s</span><span class="s2">&#39; semble être un numéro IMEI valide.&quot;</span> <span class="o">%</span> <span class="n">imei</span><span class="p">)</span>
    <span class="k">else</span><span class="p">:</span>
        <span class="nb">print</span><span class="p">(</span><span class="s2">&quot;[ATTENTION] PAS OK &#39;</span><span class="si">%s</span><span class="s2">&#39; semble ne pas être un numéro IMEI valide!&quot;</span> <span class="o">%</span> <span class="n">imei</span><span class="p">)</span>
    <span class="k">return</span> <span class="n">check</span>
</pre></div>

    </div>
</div>
</div>

</div>
<div class="cell border-box-sizing code_cell rendered">
<div class="input">
<div class="prompt input_prompt">In&nbsp;[32]:</div>
<div class="inner_cell">
    <div class="input_area">
<div class=" highlight hl-ipython3"><pre><span></span><span class="n">verifie_imei</span><span class="p">(</span><span class="n">exemple_imei</span><span class="p">)</span>
</pre></div>

    </div>
</div>
</div>

<div class="output_wrapper">
<div class="output">


<div class="output_area">

    <div class="prompt"></div>


<div class="output_subarea output_stream output_stdout output_text">
<pre>Vérification du numéro IMEI &#39;448674528976410&#39;...
OK &#39;448674528976410&#39; semble être un numéro IMEI valide.
</pre>
</div>
</div>

<div class="output_area">

    <div class="prompt output_prompt">Out[32]:</div>




<div class="output_text output_subarea output_execute_result">
<pre>True</pre>
</div>

</div>

</div>
</div>

</div>
<div class="cell border-box-sizing text_cell rendered"><div class="prompt input_prompt">
</div><div class="inner_cell">
<div class="text_cell_render border-box-sizing rendered_html">
<h3 id="Exemples">Exemples<a class="anchor-link" href="#Exemples">&#182;</a></h3>
</div>
</div>
</div>
<div class="cell border-box-sizing code_cell rendered">
<div class="input">
<div class="prompt input_prompt">In&nbsp;[33]:</div>
<div class="inner_cell">
    <div class="input_area">
<div class=" highlight hl-ipython3"><pre><span></span><span class="n">exemple_imei</span> <span class="o">=</span> <span class="s2">&quot;448674 52 897641 1&quot;</span>
</pre></div>

    </div>
</div>
</div>

</div>
<div class="cell border-box-sizing code_cell rendered">
<div class="input">
<div class="prompt input_prompt">In&nbsp;[34]:</div>
<div class="inner_cell">
    <div class="input_area">
<div class=" highlight hl-ipython3"><pre><span></span><span class="n">verifie_imei</span><span class="p">(</span><span class="n">exemple_imei</span><span class="p">)</span>
</pre></div>

    </div>
</div>
</div>

<div class="output_wrapper">
<div class="output">


<div class="output_area">

    <div class="prompt"></div>


<div class="output_subarea output_stream output_stdout output_text">
<pre>Vérification du numéro IMEI &#39;448674528976411&#39;...
[ATTENTION] PAS OK &#39;448674528976411&#39; semble ne pas être un numéro IMEI valide!
</pre>
</div>
</div>

<div class="output_area">

    <div class="prompt output_prompt">Out[34]:</div>




<div class="output_text output_subarea output_execute_result">
<pre>False</pre>
</div>

</div>

</div>
</div>

</div>
<div class="cell border-box-sizing code_cell rendered">
<div class="input">
<div class="prompt input_prompt">In&nbsp;[35]:</div>
<div class="inner_cell">
    <div class="input_area">
<div class=" highlight hl-ipython3"><pre><span></span><span class="n">exemple_imei</span> <span class="o">=</span> <span class="s2">&quot;468674 52 897641 0&quot;</span>
</pre></div>

    </div>
</div>
</div>

</div>
<div class="cell border-box-sizing code_cell rendered">
<div class="input">
<div class="prompt input_prompt">In&nbsp;[36]:</div>
<div class="inner_cell">
    <div class="input_area">
<div class=" highlight hl-ipython3"><pre><span></span><span class="n">verifie_imei</span><span class="p">(</span><span class="n">exemple_imei</span><span class="p">)</span>
</pre></div>

    </div>
</div>
</div>

<div class="output_wrapper">
<div class="output">


<div class="output_area">

    <div class="prompt"></div>


<div class="output_subarea output_stream output_stdout output_text">
<pre>Vérification du numéro IMEI &#39;468674528976410&#39;...
[ATTENTION] PAS OK &#39;468674528976410&#39; semble ne pas être un numéro IMEI valide!
</pre>
</div>
</div>

<div class="output_area">

    <div class="prompt output_prompt">Out[36]:</div>




<div class="output_text output_subarea output_execute_result">
<pre>False</pre>
</div>

</div>

</div>
</div>

</div>
<div class="cell border-box-sizing text_cell rendered"><div class="prompt input_prompt">
</div><div class="inner_cell">
<div class="text_cell_render border-box-sizing rendered_html">
<p>Avec un IMEI semblable à celui d'un de mes anciens téléphones :</p>

</div>
</div>
</div>
<div class="cell border-box-sizing code_cell rendered">
<div class="input">
<div class="prompt input_prompt">In&nbsp;[39]:</div>
<div class="inner_cell">
    <div class="input_area">
<div class=" highlight hl-ipython3"><pre><span></span><span class="n">mon_faux_imei_1</span> <span class="o">=</span> <span class="s2">&quot;35569508 262195 2&quot;</span>

<span class="n">verifie_imei</span><span class="p">(</span><span class="n">mon_faux_imei_1</span><span class="p">)</span>
</pre></div>

    </div>
</div>
</div>

<div class="output_wrapper">
<div class="output">


<div class="output_area">

    <div class="prompt"></div>


<div class="output_subarea output_stream output_stdout output_text">
<pre>Vérification du numéro IMEI &#39;35569508 262195 2&#39;...
OK &#39;35569508 262195 2&#39; semble être un numéro IMEI valide.
</pre>
</div>
</div>

<div class="output_area">

    <div class="prompt output_prompt">Out[39]:</div>




<div class="output_text output_subarea output_execute_result">
<pre>True</pre>
</div>

</div>

</div>
</div>

</div>
<div class="cell border-box-sizing code_cell rendered">
<div class="input">
<div class="prompt input_prompt">In&nbsp;[40]:</div>
<div class="inner_cell">
    <div class="input_area">
<div class=" highlight hl-ipython3"><pre><span></span><span class="n">mon_faux_imei_2</span> <span class="o">=</span> <span class="s2">&quot;35569508 283295 5&quot;</span>

<span class="n">verifie_imei</span><span class="p">(</span><span class="n">mon_faux_imei_2</span><span class="p">)</span>
</pre></div>

    </div>
</div>
</div>

<div class="output_wrapper">
<div class="output">


<div class="output_area">

    <div class="prompt"></div>


<div class="output_subarea output_stream output_stdout output_text">
<pre>Vérification du numéro IMEI &#39;35569508 283295 5&#39;...
OK &#39;35569508 283295 5&#39; semble être un numéro IMEI valide.
</pre>
</div>
</div>

<div class="output_area">

    <div class="prompt output_prompt">Out[40]:</div>




<div class="output_text output_subarea output_execute_result">
<pre>True</pre>
</div>

</div>

</div>
</div>

</div>
<div class="cell border-box-sizing text_cell rendered"><div class="prompt input_prompt">
</div><div class="inner_cell">
<div class="text_cell_render border-box-sizing rendered_html">
<h2 id="Conclusion">Conclusion<a class="anchor-link" href="#Conclusion">&#182;</a></h2><p>Voilà, c'est tout pour aujourd'hui !</p>
<blockquote><p>Allez lire <a href="https://GitHub.com/Naereen/notebooks">ici pour voir mes autres notebooks</a>.</p>
</blockquote>

</div>
</div>
</div>
 


    </div>
  </div>

  </div>


  
    <footer class="footer hidden-print">
      <div class="container">
        <div class="col-md-4">
          <p>
            This website does not host notebooks, it only renders notebooks
            available on other websites.
          </p>
        </div>

        <div class="col-md-4">
          <p>
            Delivered by <a href="https://www.fastly.com/">Fastly</a>,
            Rendered by <a href="https://developer.rackspace.com/?nbviewer=awesome">Rackspace</a>
          </p>
          <p>
            nbviewer GitHub <a href="https://github.com/jupyter/nbviewer">repository</a>.
          </p>
        </div>

        <div class="col-md-4">
          
  
            
              <p>
                nbviewer version:
                <a href="https://github.com/jupyter/nbviewer/commit/07b0e305b3254e2280b29f20ceb96c058db2f775">
                  07b0e30
                </a>
              </p>
            
          
  
  <p>
    nbconvert version: <a href="https://github.com/jupyter/nbconvert/releases/tag/5.6.0">
      5.6.0
    </a>
  </p>
  

          
  
  
  <p>
    Rendered
    <span class='date' data-date='Mon, 27 Jan 2020 13:28:11 UTC' title='Mon, 27 Jan 2020 13:28:11 UTC'>(Mon, 27 Jan 2020 13:28:11 UTC)</span>
  </p>
  

        </div>
      </div>
    </footer>
  

  <script src="/static/components/bootstrap/js/bootstrap.min.js?v=5869c96cc8f19086aee625d670d741f9"></script>
  <script src="/static/components/headroom.js/dist/headroom.min.js?v=b0a311ea668f8e768ea375f4a7abb81c"></script>
  <script src="/static/components/headroom.js/dist/jQuery.headroom.min.js?v=f3a1bae118315d0c234afc74dc6aab71"></script>

  
  
  <script>
    $(function(){ $("#menubar").headroom({
      tolerance: 5,
      offset: 205,
      classes: {
        initial: "animated",
        pinned: "slideInDown",
        unpinned: "slideOutUp"
      }
    })});
  </script>


  
  <script>
    (function(i,s,o,g,r,a,m){i['GoogleAnalyticsObject']=r;i[r]=i[r]||function(){
      (i[r].q=i[r].q||[]).push(arguments)},i[r].l=1*new Date();a=s.createElement(o),
      m=s.getElementsByTagName(o)[0];a.async=1;a.src=g;m.parentNode.insertBefore(a,m)
    })(window,document,'script','https://www.google-analytics.com/analytics.js','ga');
    ga('create', 'UA-52617120-5', 'auto',
       {'storage': 'none'});
    ga('set', 'anonymizeIp', true);
    ga('send', 'pageview');
  </script>
  
  <script>
    require({
        paths: {
          moment: "/static/components/moment/min/moment.min.js?v=89f87298ad94aa1e6b92f42eb66da043"
        }
      }, ["moment"], function(moment){
      var date = $("footer .date"),
        m = moment(new Date(date.data('date'))),
        update = function(){ date.text(m.fromNow()); };
      setInterval(update, 61*1000);
      update();
      var w = $(window).scroll(function(event){
        $("body").toggleClass("scrolled", w.scrollTop() > 0);
      });
    });
  </script>

  <!--NEW RELIC Stop Perf Measurement-->
  
  <!--NEW RELIC End-->
</body>
</html>