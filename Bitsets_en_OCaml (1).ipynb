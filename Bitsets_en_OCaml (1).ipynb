








<!DOCTYPE html>
<html lang="en">

<head>
  <meta charset="utf-8">
  <title>Jupyter Notebook Viewer</title>
  <meta name="viewport" content="width=device-width, initial-scale=1.0">
  <meta name="description" content="">
  <meta name="author" content="">
  
  <meta name="robots" content="noindex,nofollow">
  

  <!--NEW RELIC Start Perf Measurement-->
  
  <!--NREND-->

  <!-- Le styles -->
  <link href="/static/build/styles.css?v=55ba354138253381d2c0ada9821cd4da" rel="stylesheet">

  <!-- Le HTML5 shim, for IE6-8 support of HTML5 elements -->
  <!--[if lt IE 9]>
    <script src="http://html5shim.googlecode.com/svn/trunk/html5.js"></script>
  <![endif]-->

  <!-- Le fav and touch icons -->
  <link rel="shortcut icon" href="/static/ico/ipynb_icon_16x16.png">
  <link rel="apple-touch-icon-precomposed" sizes="144x144"
        href="/static/ico/apple-touch-icon-144-precomposed.png?v=5a3c9ede93e2a8b8ea9e3f8f3da1a905">
  <link rel="apple-touch-icon-precomposed" sizes="114x114"
        href="/static/ico/apple-touch-icon-114-precomposed.png?v=45d86fc8f24dc00638035e1dd7a6d898">
  <link rel="apple-touch-icon-precomposed" sizes="72x72"
        href="/static/ico/apple-touch-icon-72-precomposed.png?v=540b5eb0f3cfd25f1439d1c9bd30e15f">
  <link rel="apple-touch-icon-precomposed"
        href="/static/ico/apple-touch-icon-57-precomposed.png?v=225f0590e187e1458625654f10a28f56">
  
  

  

  
  <meta name="twitter:card" content="summary">
  <meta name="twitter:title" content="Notebook on nbviewer">
  <meta name="twitter:description" content="Check out this Jupyter notebook!">

  
  <meta name="twitter:domain" content="nbviewer.jupyter.org">
  <meta name="twitter:image:src" content="http://ipython.org/ipython-doc/dev/_images/ipynb_icon_128x128.png">

  
    <link href="/static/build/notebook.css?v=aae8f92f7e80fc468ae446b9d852fe90" rel="stylesheet">
  

  

  
    <script src="https://cdnjs.cloudflare.com/ajax/libs/mathjax/2.7.1/MathJax.js?config=TeX-AMS_HTML" type="text/javascript">
    </script>
    <script type="text/javascript">
      init_mathjax = function() {
        if (window.MathJax) {
          // MathJax loaded
          MathJax.Hub.Config({
            TeX: {
              equationNumbers: {
                autoNumber: "AMS",
                useLabelIds: true
              }
            },
            tex2jax: {
              inlineMath: [ ['$','$'], ["\\(","\\)"] ],
              displayMath: [ ['$$','$$'], ["\\[","\\]"] ],
              processEscapes: true,
              processEnvironments: true
            },
            displayAlign: 'center',
            "HTML-CSS": {
              styles: {'.MathJax_Display': {"margin": 0}},
              linebreaks: { automatic: true }
            }
          });
          MathJax.Hub.Queue(["Typeset", MathJax.Hub]);
        }
      }
      init_mathjax();
    </script>
  

  
    <script>
      (function() {
        function addWidgetsRenderer() {
          var mimeElement = document.querySelector('script[type="application/vnd.jupyter.widget-view+json"]');
          var scriptElement = document.createElement('script');
          var widgetRendererSrc = 'https://unpkg.com/@jupyter-widgets/html-manager@0.15/dist/embed-amd.js';
          var widgetState;

          try {
            widgetState = mimeElement && JSON.parse(mimeElement.innerHTML);

            if (widgetState && (widgetState.version_major < 2 || !widgetState.version_major)) {
              widgetRendererSrc = 'https://unpkg.com/jupyter-js-widgets@2.1/dist/embed.js';
            }
          } catch(e) {}

          scriptElement.src = widgetRendererSrc;
          document.body.appendChild(scriptElement);
        }

        document.addEventListener('DOMContentLoaded', addWidgetsRenderer);
      }());
    </script>
  

</head>

<body class="nbviewer">

  <!-- These are loaded at the top of the body so they are available to
       notebook cells when they are loaded below. -->
  <script src="/static/components/jquery/dist/jquery.min.js?v=220afd743d9e9643852e31a135a9f3ae"></script>
  <script src="/static/components/requirejs/require.js?v=6da8be361b9ee26c5e721e76c6d4afce"></script>
  <script src="/static/components/moment/min/moment.min.js?v=89f87298ad94aa1e6b92f42eb66da043"></script>
<!-- Navbar
================================================== -->
  <nav id="menubar" class="navbar navbar-default navbar-fixed-top" data-spy="affix">
    <div class="container">
      <div class="navbar-header">
        <button type="button" class="navbar-toggle collapsed" data-toggle="collapse" data-target=".navbar-collapse">
          <span class="sr-only">Toggle navigation</span>
          <i class="fa fa-bars"></i>
        </button>
        <a class="navbar-brand" href="/">
          <img src="/static/img/nav_logo.svg?v=479cefe8d932fb14a67b93911b97d70f" width="159"/>
        </a>
      </div>

      <div class="collapse navbar-collapse">
        <ul class="nav navbar-nav navbar-right">
          <li>
            <a class="active" href="https://jupyter.org">JUPYTER</a>
          </li>
          <li>
    <a href="/faq" title="FAQ" >
      
        <span>FAQ</span>
      
    </a>
  </li>

          
  
    
  
    
      
        <li>
    <a href="/format/script/github/Naereen/notebooks/blob/master/agreg/Bitsets_en_OCaml.ipynb" title="View as Code" >
      <span class="fa fa-code fa-2x menu-icon"></span>
      <span class="menu-text">View as Code</span>
    </a>
  </li>
      
    
  

  
    <li>
    <a href="#" title="OCaml 4.04.2 Kernel" >
      <span class="fa fa-server fa-2x menu-icon"></span>
      <span class="menu-text">OCaml 4.04.2 Kernel</span>
    </a>
  </li>
  

  
    <li>
    <a href="https://github.com/Naereen/notebooks/blob/master/agreg/Bitsets_en_OCaml.ipynb" title="View on GitHub" >
      <span class="fa fa-github fa-2x menu-icon"></span>
      <span class="menu-text">View on GitHub</span>
    </a>
  </li>
  

  
    <li>
    <a href="https://mybinder.org/v2/gh/Naereen/notebooks/master?filepath=agreg/Bitsets_en_OCaml.ipynb" title="Execute on Binder" >
      <span class="fa fa-icon-binder fa-2x menu-icon"></span>
      <span class="menu-text">Execute on Binder</span>
    </a>
  </li>
  

  <li>
    <a href="https://raw.githubusercontent.com/Naereen/notebooks/master/agreg/Bitsets_en_OCaml.ipynb" title="Download Notebook" download>
      <span class="fa fa-download fa-2x menu-icon"></span>
      <span class="menu-text">Download Notebook</span>
    </a>
  </li>

        </ul>
      </div><!-- /.navbar-collapse -->
      
      
    </div>
  </nav>

  <div class="container container-main">
    
  
  <ol class="breadcrumb">
    
      <li>
        <a href="/github/Naereen/notebooks/tree/master">notebooks</a>
      </li>
    
      <li>
        <a href="/github/Naereen/notebooks/tree/master/agreg">agreg</a>
      </li>
    
  </ol>
  
  <div id="notebook">
    <div id="notebook-container">
      <div class="cell border-box-sizing text_cell rendered"><div class="prompt input_prompt">
</div><div class="inner_cell">
<div class="text_cell_render border-box-sizing rendered_html">
<h1 id="Table-of-Contents">Table of Contents<a class="anchor-link" href="#Table-of-Contents">&#182;</a></h1><p><p><div class="lev1 toc-item"><a href="#BitSets-en-OCaml" data-toc-modified-id="BitSets-en-OCaml-1"><span class="toc-item-num">1&nbsp;&nbsp;</span>BitSets en OCaml</a></div><div class="lev2 toc-item"><a href="#Type-abstrait" data-toc-modified-id="Type-abstrait-11"><span class="toc-item-num">1.1&nbsp;&nbsp;</span>Type abstrait</a></div><div class="lev2 toc-item"><a href="#Implémentation" data-toc-modified-id="Implémentation-12"><span class="toc-item-num">1.2&nbsp;&nbsp;</span>Implémentation</a></div><div class="lev2 toc-item"><a href="#Exemples" data-toc-modified-id="Exemples-13"><span class="toc-item-num">1.3&nbsp;&nbsp;</span>Exemples</a></div><div class="lev3 toc-item"><a href="#Tests-des-opérations-unaires" data-toc-modified-id="Tests-des-opérations-unaires-131"><span class="toc-item-num">1.3.1&nbsp;&nbsp;</span>Tests des opérations unaires</a></div><div class="lev3 toc-item"><a href="#Tests-des-opérations-binaires" data-toc-modified-id="Tests-des-opérations-binaires-132"><span class="toc-item-num">1.3.2&nbsp;&nbsp;</span>Tests des opérations binaires</a></div><div class="lev2 toc-item"><a href="#Comparaison" data-toc-modified-id="Comparaison-14"><span class="toc-item-num">1.4&nbsp;&nbsp;</span>Comparaison</a></div><div class="lev3 toc-item"><a href="#Mesure-un-temps-d'éxecution" data-toc-modified-id="Mesure-un-temps-d'éxecution-141"><span class="toc-item-num">1.4.1&nbsp;&nbsp;</span>Mesure un temps d'éxecution</a></div><div class="lev3 toc-item"><a href="#Suite-de-test-pour-bit_set_32" data-toc-modified-id="Suite-de-test-pour-bit_set_32-142"><span class="toc-item-num">1.4.2&nbsp;&nbsp;</span>Suite de test pour <code>bit_set_32</code></a></div><div class="lev3 toc-item"><a href="#Suite-de-test-pour-bool-array" data-toc-modified-id="Suite-de-test-pour-bool-array-143"><span class="toc-item-num">1.4.3&nbsp;&nbsp;</span>Suite de test pour <code>bool array</code></a></div><div class="lev3 toc-item"><a href="#Suite-de-test-pour-Set.Make(Int)" data-toc-modified-id="Suite-de-test-pour-Set.Make(Int)-144"><span class="toc-item-num">1.4.4&nbsp;&nbsp;</span>Suite de test pour <code>Set.Make(Int)</code></a></div><div class="lev3 toc-item"><a href="#Mesurer-les-temps-d'exécution" data-toc-modified-id="Mesurer-les-temps-d'exécution-145"><span class="toc-item-num">1.4.5&nbsp;&nbsp;</span>Mesurer les temps d'exécution</a></div><div class="lev2 toc-item"><a href="#Conclusion" data-toc-modified-id="Conclusion-15"><span class="toc-item-num">1.5&nbsp;&nbsp;</span>Conclusion</a></div></p>

</div>
</div>
</div>
<div class="cell border-box-sizing text_cell rendered"><div class="prompt input_prompt">
</div><div class="inner_cell">
<div class="text_cell_render border-box-sizing rendered_html">
<h1 id="BitSets-en-OCaml">BitSets en OCaml<a class="anchor-link" href="#BitSets-en-OCaml">&#182;</a></h1><p>Let <em>BitSets</em> sont une implémentation efficace pour représenter, stocker et manipuler des ensembles de <em>petits</em> entiers.</p>
<p>Avec un seul entier 32 bits, on peut représenter <em>tous</em> les ensembles d'entiers de $\{0,\dots,31\}$.</p>
<p>On utilise les <a href="caml.inria.fr/pub/docs/manual-ocaml/libref/Pervasives.html#VALmin_int">opérations bit à bit ("bitwise")</a> de OCaml pour effectuer les opérations de base sur les ensembles.</p>
<p>Cette implémentation est inspiré de <a href="http://ocaml-lib.sourceforge.net/doc/BitSet.html">celle ci</a>.</p>

</div>
</div>
</div>
<div class="cell border-box-sizing text_cell rendered"><div class="prompt input_prompt">
</div><div class="inner_cell">
<div class="text_cell_render border-box-sizing rendered_html">
<h2 id="Type-abstrait">Type abstrait<a class="anchor-link" href="#Type-abstrait">&#182;</a></h2><p>Je vais faire ça à l'arrache, mais on pourrait faire soit un module qui contient un type interne (caché), soit avec un champ d'enregistrement <code>{ n : int }</code>.</p>
<p>Cette approche est la plus simple, mais montre un peu le fonctionnement interne (on pourrait vouloir l'éviter).</p>

</div>
</div>
</div>
<div class="cell border-box-sizing code_cell rendered">
<div class="input">
<div class="prompt input_prompt">In&nbsp;[1]:</div>
<div class="inner_cell">
    <div class="input_area">
<div class=" highlight hl-OCaml"><pre><span></span><span class="k">type</span> <span class="n">bit_set_32</span> <span class="o">=</span> <span class="kt">int</span><span class="o">;;</span>
</pre></div>

    </div>
</div>
</div>

</div>
<div class="cell border-box-sizing code_cell rendered">
<div class="input">
<div class="prompt input_prompt">In&nbsp;[2]:</div>
<div class="inner_cell">
    <div class="input_area">
<div class=" highlight hl-OCaml"><pre><span></span><span class="k">let</span> <span class="n">max_size_bit_set_32</span> <span class="o">=</span> <span class="mi">32</span><span class="o">;;</span>
</pre></div>

    </div>
</div>
</div>

</div>
<div class="cell border-box-sizing text_cell rendered"><div class="prompt input_prompt">
</div><div class="inner_cell">
<div class="text_cell_render border-box-sizing rendered_html">
<p>Avec <a href="http://caml.inria.fr/pub/docs/manual-ocaml/libref/Int64.html">Int64</a> on pourrait faire la même chose avec des entiers sur 64 bits. La flemme.</p>

</div>
</div>
</div>
<div class="cell border-box-sizing text_cell rendered"><div class="prompt input_prompt">
</div><div class="inner_cell">
<div class="text_cell_render border-box-sizing rendered_html">
<hr>
<h2 id="Impl&#233;mentation">Impl&#233;mentation<a class="anchor-link" href="#Impl&#233;mentation">&#182;</a></h2><p>Les ensembles ne seront pas mutables dynamiquement : comme une liste, toute fonction qui modifie un <code>bit_set_32</code> renvoit un nouveau <code>bit_set_32</code>.</p>

</div>
</div>
</div>
<div class="cell border-box-sizing code_cell rendered">
<div class="input">
<div class="prompt input_prompt">In&nbsp;[3]:</div>
<div class="inner_cell">
    <div class="input_area">
<div class=" highlight hl-OCaml"><pre><span></span><span class="k">let</span> <span class="n">empty</span> <span class="bp">()</span> <span class="o">:</span> <span class="n">bit_set_32</span> <span class="o">=</span> <span class="mi">0</span>
<span class="o">;;</span>
</pre></div>

    </div>
</div>
</div>

</div>
<div class="cell border-box-sizing text_cell rendered"><div class="prompt input_prompt">
</div><div class="inner_cell">
<div class="text_cell_render border-box-sizing rendered_html">
<p>Le singleton $\{i\}$ est codé comme $2^i$ donc $1$ au bit en $i$ème position.
En Python, c'est <code>1 &lt;&lt; i</code> (ou <code>2**i</code>), et en OCaml c'est <code>1 lsl i</code>.</p>

</div>
</div>
</div>
<div class="cell border-box-sizing code_cell rendered">
<div class="input">
<div class="prompt input_prompt">In&nbsp;[4]:</div>
<div class="inner_cell">
    <div class="input_area">
<div class=" highlight hl-OCaml"><pre><span></span><span class="k">let</span> <span class="n">create</span> <span class="o">(</span><span class="n">i</span> <span class="o">:</span> <span class="kt">int</span><span class="o">)</span> <span class="o">:</span> <span class="n">bit_set_32</span> <span class="o">=</span>
    <span class="k">assert</span> <span class="o">((</span><span class="mi">0</span> <span class="o">&lt;=</span> <span class="n">i</span><span class="o">)</span> <span class="o">&amp;&amp;</span> <span class="o">(</span><span class="n">i</span> <span class="o">&lt;</span> <span class="n">max_size_bit_set_32</span><span class="o">));</span>
    <span class="mi">1</span> <span class="ow">lsl</span> <span class="n">i</span>
<span class="o">;;</span>
</pre></div>

    </div>
</div>
</div>

<div class="output_wrapper">
<div class="output">


<div class="output_area">

    <div class="prompt output_prompt">Out[4]:</div>




<div class="output_text output_subarea output_execute_result">
<pre>val create : int -&gt; bit_set_32 = &lt;fun&gt;
</pre>
</div>

</div>

</div>
</div>

</div>
<div class="cell border-box-sizing text_cell rendered"><div class="prompt input_prompt">
</div><div class="inner_cell">
<div class="text_cell_render border-box-sizing rendered_html">
<p>Si on voulait utiliser la syntaxe Python, on pourrait faire ça :</p>

</div>
</div>
</div>
<div class="cell border-box-sizing code_cell rendered">
<div class="input">
<div class="prompt input_prompt">In&nbsp;[5]:</div>
<div class="inner_cell">
    <div class="input_area">
<div class=" highlight hl-OCaml"><pre><span></span><span class="k">let</span> <span class="o">(</span> <span class="o">&lt;&lt;</span> <span class="o">)</span> <span class="o">=</span> <span class="o">(</span> <span class="ow">lsl</span> <span class="o">);;</span>
<span class="k">let</span> <span class="o">(</span> <span class="o">&gt;&gt;</span> <span class="o">)</span> <span class="o">=</span> <span class="o">(</span> <span class="n">lsr</span> <span class="o">);;</span>
</pre></div>

    </div>
</div>
</div>

<div class="output_wrapper">
<div class="output">


<div class="output_area">

    <div class="prompt output_prompt">Out[5]:</div>




<div class="output_text output_subarea output_execute_result">
<pre>val ( &lt;&lt; ) : int -&gt; int -&gt; int = &lt;fun&gt;
</pre>
</div>

</div>

<div class="output_area">

    <div class="prompt output_prompt">Out[5]:</div>




<div class="output_text output_subarea output_execute_result">
<pre>val ( &gt;&gt; ) : int -&gt; int -&gt; int = &lt;fun&gt;
</pre>
</div>

</div>

</div>
</div>

</div>
<div class="cell border-box-sizing text_cell rendered"><div class="prompt input_prompt">
</div><div class="inner_cell">
<div class="text_cell_render border-box-sizing rendered_html">
<p>La copie ne fait pas beaucoup de sens comme la stucture n'est pas mutable... Mais soit.</p>

</div>
</div>
</div>
<div class="cell border-box-sizing code_cell rendered">
<div class="input">
<div class="prompt input_prompt">In&nbsp;[6]:</div>
<div class="inner_cell">
    <div class="input_area">
<div class=" highlight hl-OCaml"><pre><span></span><span class="k">let</span> <span class="n">copy</span> <span class="o">(</span><span class="n">b</span> <span class="o">:</span> <span class="n">bit_set_32</span><span class="o">)</span> <span class="o">:</span> <span class="n">bit_set_32</span> <span class="o">=</span>
    <span class="n">b</span> <span class="o">+</span> <span class="mi">0</span> <span class="c">(* enough ? *)</span>
<span class="o">;;</span>
<span class="k">let</span> <span class="n">clone</span> <span class="o">=</span> <span class="n">copy</span><span class="o">;;</span>
</pre></div>

    </div>
</div>
</div>

<div class="output_wrapper">
<div class="output">


<div class="output_area">

    <div class="prompt output_prompt">Out[6]:</div>




<div class="output_text output_subarea output_execute_result">
<pre>val copy : bit_set_32 -&gt; bit_set_32 = &lt;fun&gt;
</pre>
</div>

</div>

<div class="output_area">

    <div class="prompt output_prompt">Out[6]:</div>




<div class="output_text output_subarea output_execute_result">
<pre>val clone : bit_set_32 -&gt; bit_set_32 = &lt;fun&gt;
</pre>
</div>

</div>

</div>
</div>

</div>
<div class="cell border-box-sizing text_cell rendered"><div class="prompt input_prompt">
</div><div class="inner_cell">
<div class="text_cell_render border-box-sizing rendered_html">
<p><code>set b n</code> permet d'ajouter <code>n</code> dans l'ensemble <code>b</code>, et <code>unset b n</code> permet de l'enlever (peu importe s'il était présent ou non).</p>

</div>
</div>
</div>
<div class="cell border-box-sizing code_cell rendered">
<div class="input">
<div class="prompt input_prompt">In&nbsp;[7]:</div>
<div class="inner_cell">
    <div class="input_area">
<div class=" highlight hl-OCaml"><pre><span></span><span class="k">let</span> <span class="n">set</span> <span class="o">(</span><span class="n">b</span> <span class="o">:</span> <span class="n">bit_set_32</span><span class="o">)</span> <span class="o">(</span><span class="n">n</span> <span class="o">:</span> <span class="kt">int</span><span class="o">)</span> <span class="o">:</span> <span class="n">bit_set_32</span> <span class="o">=</span>
    <span class="n">b</span> <span class="ow">lor</span> <span class="o">(</span><span class="mi">1</span> <span class="ow">lsl</span> <span class="n">n</span><span class="o">)</span>
<span class="o">;;</span>

<span class="k">let</span> <span class="n">add</span> <span class="o">=</span> <span class="n">set</span><span class="o">;;</span>
</pre></div>

    </div>
</div>
</div>

<div class="output_wrapper">
<div class="output">


<div class="output_area">

    <div class="prompt output_prompt">Out[7]:</div>




<div class="output_text output_subarea output_execute_result">
<pre>val set : bit_set_32 -&gt; int -&gt; bit_set_32 = &lt;fun&gt;
</pre>
</div>

</div>

<div class="output_area">

    <div class="prompt output_prompt">Out[7]:</div>




<div class="output_text output_subarea output_execute_result">
<pre>val add : bit_set_32 -&gt; int -&gt; bit_set_32 = &lt;fun&gt;
</pre>
</div>

</div>

</div>
</div>

</div>
<div class="cell border-box-sizing code_cell rendered">
<div class="input">
<div class="prompt input_prompt">In&nbsp;[8]:</div>
<div class="inner_cell">
    <div class="input_area">
<div class=" highlight hl-OCaml"><pre><span></span><span class="k">let</span> <span class="n">unset</span> <span class="o">(</span><span class="n">b</span> <span class="o">:</span> <span class="n">bit_set_32</span><span class="o">)</span> <span class="o">(</span><span class="n">n</span> <span class="o">:</span> <span class="kt">int</span><span class="o">)</span> <span class="o">:</span> <span class="n">bit_set_32</span> <span class="o">=</span>
    <span class="n">b</span> <span class="ow">land</span> <span class="o">(</span><span class="n">lnot</span> <span class="o">(</span><span class="mi">1</span> <span class="ow">lsl</span> <span class="n">n</span><span class="o">))</span>
<span class="o">;;</span>

<span class="k">let</span> <span class="n">remove</span> <span class="o">=</span> <span class="n">unset</span><span class="o">;;</span>
</pre></div>

    </div>
</div>
</div>

<div class="output_wrapper">
<div class="output">


<div class="output_area">

    <div class="prompt output_prompt">Out[8]:</div>




<div class="output_text output_subarea output_execute_result">
<pre>val unset : bit_set_32 -&gt; int -&gt; bit_set_32 = &lt;fun&gt;
</pre>
</div>

</div>

<div class="output_area">

    <div class="prompt output_prompt">Out[8]:</div>




<div class="output_text output_subarea output_execute_result">
<pre>val remove : bit_set_32 -&gt; int -&gt; bit_set_32 = &lt;fun&gt;
</pre>
</div>

</div>

</div>
</div>

</div>
<div class="cell border-box-sizing text_cell rendered"><div class="prompt input_prompt">
</div><div class="inner_cell">
<div class="text_cell_render border-box-sizing rendered_html">
<p>On peut combiner <code>set</code> et <code>unset</code> pour faire :</p>

</div>
</div>
</div>
<div class="cell border-box-sizing code_cell rendered">
<div class="input">
<div class="prompt input_prompt">In&nbsp;[9]:</div>
<div class="inner_cell">
    <div class="input_area">
<div class=" highlight hl-OCaml"><pre><span></span><span class="k">let</span> <span class="n">put</span> <span class="o">(</span><span class="n">b</span> <span class="o">:</span> <span class="n">bit_set_32</span><span class="o">)</span> <span class="o">(</span><span class="n">p</span> <span class="o">:</span> <span class="kt">bool</span><span class="o">)</span> <span class="o">(</span><span class="n">n</span> <span class="o">:</span> <span class="kt">int</span><span class="o">)</span> <span class="o">:</span> <span class="n">bit_set_32</span> <span class="o">=</span>
    <span class="k">if</span> <span class="n">p</span> <span class="k">then</span> <span class="n">set</span> <span class="n">b</span> <span class="n">n</span> <span class="k">else</span> <span class="n">unset</span> <span class="n">b</span> <span class="n">n</span>
<span class="o">;;</span>
</pre></div>

    </div>
</div>
</div>

<div class="output_wrapper">
<div class="output">


<div class="output_area">

    <div class="prompt output_prompt">Out[9]:</div>




<div class="output_text output_subarea output_execute_result">
<pre>val put : bit_set_32 -&gt; bool -&gt; int -&gt; bit_set_32 = &lt;fun&gt;
</pre>
</div>

</div>

</div>
</div>

</div>
<div class="cell border-box-sizing text_cell rendered"><div class="prompt input_prompt">
</div><div class="inner_cell">
<div class="text_cell_render border-box-sizing rendered_html">
<p>Ces deux autres opérations sont rapides :</p>

</div>
</div>
</div>
<div class="cell border-box-sizing code_cell rendered">
<div class="input">
<div class="prompt input_prompt">In&nbsp;[10]:</div>
<div class="inner_cell">
    <div class="input_area">
<div class=" highlight hl-OCaml"><pre><span></span><span class="k">let</span> <span class="n">is_set</span> <span class="o">(</span><span class="n">b</span> <span class="o">:</span> <span class="n">bit_set_32</span><span class="o">)</span> <span class="o">(</span><span class="n">n</span> <span class="o">:</span> <span class="kt">int</span><span class="o">)</span> <span class="o">:</span> <span class="kt">bool</span> <span class="o">=</span>
    <span class="k">let</span> <span class="n">i</span> <span class="o">=</span> <span class="o">(</span><span class="n">b</span> <span class="ow">land</span> <span class="o">(</span><span class="mi">1</span> <span class="ow">lsl</span> <span class="n">n</span><span class="o">))</span> <span class="n">lsr</span> <span class="n">n</span> <span class="k">in</span>
    <span class="n">i</span> <span class="o">=</span> <span class="mi">1</span>
<span class="o">;;</span>

<span class="k">let</span> <span class="n">contains_int</span> <span class="o">=</span> <span class="n">is_set</span><span class="o">;;</span>
<span class="k">let</span> <span class="n">is_in</span> <span class="o">=</span> <span class="n">is_set</span><span class="o">;;</span>
</pre></div>

    </div>
</div>
</div>

<div class="output_wrapper">
<div class="output">


<div class="output_area">

    <div class="prompt output_prompt">Out[10]:</div>




<div class="output_text output_subarea output_execute_result">
<pre>val is_set : bit_set_32 -&gt; int -&gt; bool = &lt;fun&gt;
</pre>
</div>

</div>

<div class="output_area">

    <div class="prompt output_prompt">Out[10]:</div>




<div class="output_text output_subarea output_execute_result">
<pre>val contains_int : bit_set_32 -&gt; int -&gt; bool = &lt;fun&gt;
</pre>
</div>

</div>

<div class="output_area">

    <div class="prompt output_prompt">Out[10]:</div>




<div class="output_text output_subarea output_execute_result">
<pre>val is_in : bit_set_32 -&gt; int -&gt; bool = &lt;fun&gt;
</pre>
</div>

</div>

</div>
</div>

</div>
<div class="cell border-box-sizing code_cell rendered">
<div class="input">
<div class="prompt input_prompt">In&nbsp;[11]:</div>
<div class="inner_cell">
    <div class="input_area">
<div class=" highlight hl-OCaml"><pre><span></span><span class="k">let</span> <span class="n">toggle</span> <span class="o">(</span><span class="n">b</span> <span class="o">:</span> <span class="n">bit_set_32</span><span class="o">)</span> <span class="o">(</span><span class="n">n</span> <span class="o">:</span> <span class="kt">int</span><span class="o">)</span> <span class="o">:</span> <span class="n">bit_set_32</span> <span class="o">=</span>
    <span class="n">put</span> <span class="n">b</span> <span class="o">(</span><span class="n">not</span> <span class="o">(</span><span class="n">is_set</span> <span class="n">b</span> <span class="n">n</span><span class="o">))</span> <span class="n">n</span>
<span class="o">;;</span>
</pre></div>

    </div>
</div>
</div>

<div class="output_wrapper">
<div class="output">


<div class="output_area">

    <div class="prompt output_prompt">Out[11]:</div>




<div class="output_text output_subarea output_execute_result">
<pre>val toggle : bit_set_32 -&gt; int -&gt; bit_set_32 = &lt;fun&gt;
</pre>
</div>

</div>

</div>
</div>

</div>
<div class="cell border-box-sizing text_cell rendered"><div class="prompt input_prompt">
</div><div class="inner_cell">
<div class="text_cell_render border-box-sizing rendered_html">
<p>La comparaison et le test d'égalité sont évidents.</p>

</div>
</div>
</div>
<div class="cell border-box-sizing code_cell rendered">
<div class="input">
<div class="prompt input_prompt">In&nbsp;[12]:</div>
<div class="inner_cell">
    <div class="input_area">
<div class=" highlight hl-OCaml"><pre><span></span><span class="k">let</span> <span class="n">compare</span> <span class="o">(</span><span class="n">b1</span> <span class="o">:</span> <span class="n">bit_set_32</span><span class="o">)</span> <span class="o">(</span><span class="n">b2</span> <span class="o">:</span> <span class="n">bit_set_32</span><span class="o">)</span> <span class="o">:</span> <span class="kt">int</span> <span class="o">=</span>
    <span class="nn">Pervasives</span><span class="p">.</span><span class="n">compare</span> <span class="n">b1</span> <span class="n">b2</span>
<span class="o">;;</span>
</pre></div>

    </div>
</div>
</div>

<div class="output_wrapper">
<div class="output">


<div class="output_area">

    <div class="prompt output_prompt">Out[12]:</div>




<div class="output_text output_subarea output_execute_result">
<pre>val compare : bit_set_32 -&gt; bit_set_32 -&gt; int = &lt;fun&gt;
</pre>
</div>

</div>

</div>
</div>

</div>
<div class="cell border-box-sizing code_cell rendered">
<div class="input">
<div class="prompt input_prompt">In&nbsp;[13]:</div>
<div class="inner_cell">
    <div class="input_area">
<div class=" highlight hl-OCaml"><pre><span></span><span class="k">let</span> <span class="n">equals</span> <span class="o">(</span><span class="n">b1</span> <span class="o">:</span> <span class="n">bit_set_32</span><span class="o">)</span> <span class="o">(</span><span class="n">b2</span> <span class="o">:</span> <span class="n">bit_set_32</span><span class="o">)</span> <span class="o">:</span> <span class="kt">bool</span> <span class="o">=</span>
    <span class="n">b1</span> <span class="o">=</span> <span class="n">b2</span>
<span class="o">;;</span>
</pre></div>

    </div>
</div>
</div>

<div class="output_wrapper">
<div class="output">


<div class="output_area">

    <div class="prompt output_prompt">Out[13]:</div>




<div class="output_text output_subarea output_execute_result">
<pre>val equals : bit_set_32 -&gt; bit_set_32 -&gt; bool = &lt;fun&gt;
</pre>
</div>

</div>

</div>
</div>

</div>
<div class="cell border-box-sizing text_cell rendered"><div class="prompt input_prompt">
</div><div class="inner_cell">
<div class="text_cell_render border-box-sizing rendered_html">
<p>On peut chercher à être plus efficace que cette implémentation impérative et naïve. Essayez !</p>

</div>
</div>
</div>
<div class="cell border-box-sizing code_cell rendered">
<div class="input">
<div class="prompt input_prompt">In&nbsp;[14]:</div>
<div class="inner_cell">
    <div class="input_area">
<div class=" highlight hl-OCaml"><pre><span></span><span class="k">let</span> <span class="n">count</span> <span class="o">(</span><span class="n">b</span> <span class="o">:</span> <span class="n">bit_set_32</span><span class="o">)</span> <span class="o">:</span> <span class="kt">int</span> <span class="o">=</span>
    <span class="k">let</span> <span class="n">s</span> <span class="o">=</span> <span class="n">ref</span> <span class="mi">0</span> <span class="k">in</span>
    <span class="k">for</span> <span class="n">n</span> <span class="o">=</span> <span class="mi">0</span> <span class="k">to</span> <span class="n">max_size_bit_set_32</span> <span class="o">-</span> <span class="mi">1</span> <span class="k">do</span>
        <span class="k">if</span> <span class="n">is_set</span> <span class="n">b</span> <span class="n">n</span> <span class="k">then</span> <span class="n">incr</span> <span class="n">s</span>
    <span class="k">done</span><span class="o">;</span>
    <span class="o">!</span><span class="n">s</span>
<span class="o">;;</span>

<span class="k">let</span> <span class="n">length</span> <span class="o">=</span> <span class="n">count</span><span class="o">;;</span>
</pre></div>

    </div>
</div>
</div>

<div class="output_wrapper">
<div class="output">


<div class="output_area">

    <div class="prompt output_prompt">Out[14]:</div>




<div class="output_text output_subarea output_execute_result">
<pre>val count : bit_set_32 -&gt; int = &lt;fun&gt;
</pre>
</div>

</div>

<div class="output_area">

    <div class="prompt output_prompt">Out[14]:</div>




<div class="output_text output_subarea output_execute_result">
<pre>val length : bit_set_32 -&gt; int = &lt;fun&gt;
</pre>
</div>

</div>

</div>
</div>

</div>
<div class="cell border-box-sizing text_cell rendered"><div class="prompt input_prompt">
</div><div class="inner_cell">
<div class="text_cell_render border-box-sizing rendered_html">
<p>Pour la création des exemples, on va aussi se permettre de convertir un <code>bit_set_32</code> en une <code>int list</code>, et inversement de créer un <code>bit_set_32</code> depuis une <code>int list</code>.</p>

</div>
</div>
</div>
<div class="cell border-box-sizing code_cell rendered">
<div class="input">
<div class="prompt input_prompt">In&nbsp;[15]:</div>
<div class="inner_cell">
    <div class="input_area">
<div class=" highlight hl-OCaml"><pre><span></span><span class="k">let</span> <span class="n">bit_set_32_to_list</span> <span class="o">(</span><span class="n">b</span> <span class="o">:</span> <span class="n">bit_set_32</span><span class="o">)</span> <span class="o">:</span> <span class="o">(</span><span class="kt">int</span> <span class="kt">list</span><span class="o">)</span> <span class="o">=</span>
    <span class="k">let</span> <span class="n">list_of_b</span> <span class="o">=</span> <span class="n">ref</span> <span class="bp">[]</span> <span class="k">in</span>
    <span class="k">for</span> <span class="n">n</span> <span class="o">=</span> <span class="mi">0</span> <span class="k">to</span> <span class="n">max_size_bit_set_32</span> <span class="o">-</span> <span class="mi">1</span> <span class="k">do</span>
        <span class="k">if</span> <span class="n">is_set</span> <span class="n">b</span> <span class="n">n</span> <span class="k">then</span>
        <span class="n">list_of_b</span> <span class="o">:=</span> <span class="n">n</span> <span class="o">::</span> <span class="o">!</span><span class="n">list_of_b</span>
    <span class="k">done</span><span class="o">;</span>
    <span class="nn">List</span><span class="p">.</span><span class="n">rev</span> <span class="o">(!</span><span class="n">list_of_b</span><span class="o">)</span>
<span class="o">;;</span>
</pre></div>

    </div>
</div>
</div>

<div class="output_wrapper">
<div class="output">


<div class="output_area">

    <div class="prompt output_prompt">Out[15]:</div>




<div class="output_text output_subarea output_execute_result">
<pre>val bit_set_32_to_list : bit_set_32 -&gt; int list = &lt;fun&gt;
</pre>
</div>

</div>

</div>
</div>

</div>
<div class="cell border-box-sizing code_cell rendered">
<div class="input">
<div class="prompt input_prompt">In&nbsp;[16]:</div>
<div class="inner_cell">
    <div class="input_area">
<div class=" highlight hl-OCaml"><pre><span></span><span class="k">let</span> <span class="n">bit_set_32_from_list</span> <span class="o">(</span><span class="n">list_of_b</span> <span class="o">:</span> <span class="kt">int</span> <span class="kt">list</span><span class="o">)</span> <span class="o">:</span> <span class="n">bit_set_32</span> <span class="o">=</span>
    <span class="k">let</span> <span class="n">b</span> <span class="o">=</span> <span class="n">ref</span> <span class="o">(</span><span class="n">empty</span><span class="bp">()</span><span class="o">)</span> <span class="k">in</span>
    <span class="nn">List</span><span class="p">.</span><span class="n">iter</span> <span class="o">(</span><span class="k">fun</span> <span class="n">i</span> <span class="o">-&gt;</span> <span class="n">b</span> <span class="o">:=</span> <span class="n">add</span> <span class="o">!</span><span class="n">b</span> <span class="n">i</span><span class="o">)</span> <span class="n">list_of_b</span><span class="o">;</span>
    <span class="o">!</span><span class="n">b</span>
<span class="o">;;</span>
</pre></div>

    </div>
</div>
</div>

<div class="output_wrapper">
<div class="output">


<div class="output_area">

    <div class="prompt output_prompt">Out[16]:</div>




<div class="output_text output_subarea output_execute_result">
<pre>val bit_set_32_from_list : int list -&gt; bit_set_32 = &lt;fun&gt;
</pre>
</div>

</div>

</div>
</div>

</div>
<div class="cell border-box-sizing code_cell rendered">
<div class="input">
<div class="prompt input_prompt">In&nbsp;[17]:</div>
<div class="inner_cell">
    <div class="input_area">
<div class=" highlight hl-OCaml"><pre><span></span><span class="k">let</span> <span class="n">bit_set_32_iter</span> <span class="o">(</span><span class="n">f</span> <span class="o">:</span> <span class="kt">int</span> <span class="o">-&gt;</span> <span class="kt">unit</span><span class="o">)</span> <span class="o">(</span><span class="n">b</span> <span class="o">:</span> <span class="n">bit_set_32</span><span class="o">)</span> <span class="o">:</span> <span class="kt">unit</span> <span class="o">=</span>
    <span class="nn">List</span><span class="p">.</span><span class="n">iter</span> <span class="n">f</span> <span class="o">(</span><span class="n">bit_set_32_iter_to_list</span> <span class="n">b</span><span class="o">)</span>
<span class="o">;;</span>
</pre></div>

    </div>
</div>
</div>

<div class="output_wrapper">
<div class="output">


<div class="output_area">

    <div class="prompt"></div>


<div class="output_subarea output_text output_error">
<pre><span class="ansi-green-fg">File &#34;[17]&#34;, line 2, characters 17-40:
</span><span class="ansi-red-fg">Error: Unbound value bit_set_32_iter_to_list
</span><span class="ansi-cyan-fg">   1: </span><span class="ansi-black-fg">let bit_set_32_iter (f : int -&gt; unit) (b : bit_set_32) : unit =
</span><span class="ansi-cyan-fg">   2: </span><span class="ansi-black-fg">    List.iter f (</span><span class="ansi-black-fg ansi-underline">bit_set_32_iter_to_list</span><span class="ansi-black-fg"> b)
</span><span class="ansi-cyan-fg">   3: </span><span class="ansi-black-fg">;;</span>
</pre>
</div>
</div>

</div>
</div>

</div>
<div class="cell border-box-sizing text_cell rendered"><div class="prompt input_prompt">
</div><div class="inner_cell">
<div class="text_cell_render border-box-sizing rendered_html">
<p>Pour l'affichage des exemples, on va aussi se permettre de convertir un <code>bit_set_32</code> en une <code>string</code>.</p>

</div>
</div>
</div>
<div class="cell border-box-sizing code_cell rendered">
<div class="input">
<div class="prompt input_prompt">In&nbsp;[18]:</div>
<div class="inner_cell">
    <div class="input_area">
<div class=" highlight hl-OCaml"><pre><span></span><span class="k">let</span> <span class="n">bit_set_32_to_string</span> <span class="o">(</span><span class="n">b</span> <span class="o">:</span> <span class="n">bit_set_32</span><span class="o">)</span> <span class="o">:</span> <span class="kt">string</span> <span class="o">=</span>
    <span class="k">let</span> <span class="n">list_of_b</span> <span class="o">=</span> <span class="n">bit_set_32_to_list</span> <span class="n">b</span> <span class="k">in</span>
    <span class="k">match</span> <span class="nn">List</span><span class="p">.</span><span class="n">length</span> <span class="n">list_of_b</span> <span class="k">with</span>
    <span class="o">|</span> <span class="mi">0</span> <span class="o">-&gt;</span> <span class="s2">&quot;{}&quot;</span>
    <span class="o">|</span> <span class="mi">1</span> <span class="o">-&gt;</span> <span class="s2">&quot;{&quot;</span> <span class="o">^</span> <span class="o">(</span><span class="n">string_of_int</span> <span class="o">(</span><span class="nn">List</span><span class="p">.</span><span class="n">hd</span> <span class="n">list_of_b</span><span class="o">))</span> <span class="o">^</span> <span class="s2">&quot;}&quot;</span>
    <span class="o">|</span> <span class="o">_</span> <span class="o">-&gt;</span> <span class="k">begin</span>
        <span class="k">let</span> <span class="n">s</span> <span class="o">=</span> <span class="n">ref</span> <span class="o">(</span><span class="s2">&quot;{&quot;</span> <span class="o">^</span> <span class="o">(</span><span class="n">string_of_int</span> <span class="o">(</span><span class="nn">List</span><span class="p">.</span><span class="n">hd</span> <span class="n">list_of_b</span><span class="o">)))</span> <span class="k">in</span>
        <span class="nn">List</span><span class="p">.</span><span class="n">iter</span> <span class="o">(</span><span class="k">fun</span> <span class="n">i</span> <span class="o">-&gt;</span> <span class="n">s</span> <span class="o">:=</span> <span class="o">!</span><span class="n">s</span> <span class="o">^</span> <span class="s2">&quot;, &quot;</span> <span class="o">^</span> <span class="o">(</span><span class="n">string_of_int</span> <span class="n">i</span><span class="o">))</span> <span class="o">(</span><span class="nn">List</span><span class="p">.</span><span class="n">tl</span> <span class="n">list_of_b</span><span class="o">);</span>
        <span class="o">!</span><span class="n">s</span> <span class="o">^</span> <span class="s2">&quot;}&quot;</span>
    <span class="k">end</span>
<span class="o">;;</span>
</pre></div>

    </div>
</div>
</div>

<div class="output_wrapper">
<div class="output">


<div class="output_area">

    <div class="prompt output_prompt">Out[18]:</div>




<div class="output_text output_subarea output_execute_result">
<pre>val bit_set_32_to_string : bit_set_32 -&gt; string = &lt;fun&gt;
</pre>
</div>

</div>

</div>
</div>

</div>
<div class="cell border-box-sizing code_cell rendered">
<div class="input">
<div class="prompt input_prompt">In&nbsp;[19]:</div>
<div class="inner_cell">
    <div class="input_area">
<div class=" highlight hl-OCaml"><pre><span></span><span class="k">let</span> <span class="n">print_bit_set_32</span> <span class="o">(</span><span class="n">b</span> <span class="o">:</span> <span class="n">bit_set_32</span><span class="o">)</span> <span class="o">:</span> <span class="kt">unit</span> <span class="o">=</span>
    <span class="n">print_endline</span> <span class="o">(</span><span class="n">bit_set_32_to_string</span> <span class="n">b</span><span class="o">)</span>
<span class="o">;;</span>
</pre></div>

    </div>
</div>
</div>

<div class="output_wrapper">
<div class="output">


<div class="output_area">

    <div class="prompt output_prompt">Out[19]:</div>




<div class="output_text output_subarea output_execute_result">
<pre>val print_bit_set_32 : bit_set_32 -&gt; unit = &lt;fun&gt;
</pre>
</div>

</div>

</div>
</div>

</div>
<div class="cell border-box-sizing text_cell rendered"><div class="prompt input_prompt">
</div><div class="inner_cell">
<div class="text_cell_render border-box-sizing rendered_html">
<p>Comme le domaine est fixé (à $\{0,\dots,31\}$), on peut prendre le complémentaire.</p>

</div>
</div>
</div>
<div class="cell border-box-sizing code_cell rendered">
<div class="input">
<div class="prompt input_prompt">In&nbsp;[20]:</div>
<div class="inner_cell">
    <div class="input_area">
<div class=" highlight hl-OCaml"><pre><span></span><span class="k">let</span> <span class="n">complementaire</span> <span class="o">(</span><span class="n">b</span> <span class="o">:</span> <span class="n">bit_set_32</span><span class="o">)</span> <span class="o">:</span> <span class="n">bit_set_32</span> <span class="o">=</span>
    <span class="n">lnot</span> <span class="n">b</span>
<span class="o">;;</span>
</pre></div>

    </div>
</div>
</div>

<div class="output_wrapper">
<div class="output">


<div class="output_area">

    <div class="prompt output_prompt">Out[20]:</div>




<div class="output_text output_subarea output_execute_result">
<pre>val complementaire : bit_set_32 -&gt; bit_set_32 = &lt;fun&gt;
</pre>
</div>

</div>

</div>
</div>

</div>
<div class="cell border-box-sizing text_cell rendered"><div class="prompt input_prompt">
</div><div class="inner_cell">
<div class="text_cell_render border-box-sizing rendered_html">
<p>Les opérations intersection, union, différence et différence symétrique sont très faciles.</p>

</div>
</div>
</div>
<div class="cell border-box-sizing code_cell rendered">
<div class="input">
<div class="prompt input_prompt">In&nbsp;[21]:</div>
<div class="inner_cell">
    <div class="input_area">
<div class=" highlight hl-OCaml"><pre><span></span><span class="k">let</span> <span class="n">intersection</span> <span class="o">(</span><span class="n">b1</span> <span class="o">:</span> <span class="n">bit_set_32</span><span class="o">)</span> <span class="o">(</span><span class="n">b2</span> <span class="o">:</span> <span class="n">bit_set_32</span><span class="o">)</span> <span class="o">:</span> <span class="n">bit_set_32</span> <span class="o">=</span>
    <span class="n">b1</span> <span class="ow">land</span> <span class="n">b2</span>
<span class="o">;;</span>
</pre></div>

    </div>
</div>
</div>

<div class="output_wrapper">
<div class="output">


<div class="output_area">

    <div class="prompt output_prompt">Out[21]:</div>




<div class="output_text output_subarea output_execute_result">
<pre>val intersection : bit_set_32 -&gt; bit_set_32 -&gt; bit_set_32 = &lt;fun&gt;
</pre>
</div>

</div>

</div>
</div>

</div>
<div class="cell border-box-sizing code_cell rendered">
<div class="input">
<div class="prompt input_prompt">In&nbsp;[22]:</div>
<div class="inner_cell">
    <div class="input_area">
<div class=" highlight hl-OCaml"><pre><span></span><span class="k">let</span> <span class="n">union</span> <span class="o">(</span><span class="n">b1</span> <span class="o">:</span> <span class="n">bit_set_32</span><span class="o">)</span> <span class="o">(</span><span class="n">b2</span> <span class="o">:</span> <span class="n">bit_set_32</span><span class="o">)</span> <span class="o">:</span> <span class="n">bit_set_32</span> <span class="o">=</span>
    <span class="n">b1</span> <span class="ow">lor</span> <span class="n">b2</span>
<span class="o">;;</span>
</pre></div>

    </div>
</div>
</div>

<div class="output_wrapper">
<div class="output">


<div class="output_area">

    <div class="prompt output_prompt">Out[22]:</div>




<div class="output_text output_subarea output_execute_result">
<pre>val union : bit_set_32 -&gt; bit_set_32 -&gt; bit_set_32 = &lt;fun&gt;
</pre>
</div>

</div>

</div>
</div>

</div>
<div class="cell border-box-sizing text_cell rendered"><div class="prompt input_prompt">
</div><div class="inner_cell">
<div class="text_cell_render border-box-sizing rendered_html">
<p>Avec l'union on peut facilement tester si <code>b1</code> est contenu dans <code>b2</code> ($b_1 \subset b_2 \equiv (b_1 \cup b_2) = b_2$)</p>

</div>
</div>
</div>
<div class="cell border-box-sizing code_cell rendered">
<div class="input">
<div class="prompt input_prompt">In&nbsp;[23]:</div>
<div class="inner_cell">
    <div class="input_area">
<div class=" highlight hl-OCaml"><pre><span></span><span class="k">let</span> <span class="n">contains</span> <span class="o">(</span><span class="n">b1</span> <span class="o">:</span> <span class="n">bit_set_32</span><span class="o">)</span> <span class="o">(</span><span class="n">b2</span> <span class="o">:</span> <span class="n">bit_set_32</span><span class="o">)</span> <span class="o">:</span> <span class="kt">bool</span> <span class="o">=</span>
    <span class="o">(</span><span class="n">union</span> <span class="n">b1</span> <span class="n">b2</span><span class="o">)</span> <span class="o">=</span> <span class="n">b2</span>
<span class="o">;;</span>
</pre></div>

    </div>
</div>
</div>

<div class="output_wrapper">
<div class="output">


<div class="output_area">

    <div class="prompt output_prompt">Out[23]:</div>




<div class="output_text output_subarea output_execute_result">
<pre>val contains : bit_set_32 -&gt; bit_set_32 -&gt; bool = &lt;fun&gt;
</pre>
</div>

</div>

</div>
</div>

</div>
<div class="cell border-box-sizing code_cell rendered">
<div class="input">
<div class="prompt input_prompt">In&nbsp;[24]:</div>
<div class="inner_cell">
    <div class="input_area">
<div class=" highlight hl-OCaml"><pre><span></span><span class="k">let</span> <span class="n">difference</span> <span class="o">(</span><span class="n">b1</span> <span class="o">:</span> <span class="n">bit_set_32</span><span class="o">)</span> <span class="o">(</span><span class="n">b2</span> <span class="o">:</span> <span class="n">bit_set_32</span><span class="o">)</span> <span class="o">:</span> <span class="n">bit_set_32</span> <span class="o">=</span>
    <span class="n">intersection</span> <span class="n">b1</span> <span class="o">(</span><span class="n">complementaire</span> <span class="n">b2</span><span class="o">)</span>
<span class="o">;;</span>
</pre></div>

    </div>
</div>
</div>

<div class="output_wrapper">
<div class="output">


<div class="output_area">

    <div class="prompt output_prompt">Out[24]:</div>




<div class="output_text output_subarea output_execute_result">
<pre>val difference : bit_set_32 -&gt; bit_set_32 -&gt; bit_set_32 = &lt;fun&gt;
</pre>
</div>

</div>

</div>
</div>

</div>
<div class="cell border-box-sizing code_cell rendered">
<div class="input">
<div class="prompt input_prompt">In&nbsp;[25]:</div>
<div class="inner_cell">
    <div class="input_area">
<div class=" highlight hl-OCaml"><pre><span></span><span class="k">let</span> <span class="n">difference_sym</span> <span class="o">(</span><span class="n">b1</span> <span class="o">:</span> <span class="n">bit_set_32</span><span class="o">)</span> <span class="o">(</span><span class="n">b2</span> <span class="o">:</span> <span class="n">bit_set_32</span><span class="o">)</span> <span class="o">:</span> <span class="n">bit_set_32</span> <span class="o">=</span>
    <span class="n">b1</span> <span class="ow">lxor</span> <span class="n">b2</span>
<span class="o">;;</span>
</pre></div>

    </div>
</div>
</div>

<div class="output_wrapper">
<div class="output">


<div class="output_area">

    <div class="prompt output_prompt">Out[25]:</div>




<div class="output_text output_subarea output_execute_result">
<pre>val difference_sym : bit_set_32 -&gt; bit_set_32 -&gt; bit_set_32 = &lt;fun&gt;
</pre>
</div>

</div>

</div>
</div>

</div>
<div class="cell border-box-sizing text_cell rendered"><div class="prompt input_prompt">
</div><div class="inner_cell">
<div class="text_cell_render border-box-sizing rendered_html">
<hr>
<h2 id="Exemples">Exemples<a class="anchor-link" href="#Exemples">&#182;</a></h2>
</div>
</div>
</div>
<div class="cell border-box-sizing code_cell rendered">
<div class="input">
<div class="prompt input_prompt">In&nbsp;[26]:</div>
<div class="inner_cell">
    <div class="input_area">
<div class=" highlight hl-OCaml"><pre><span></span><span class="n">print_bit_set_32</span> <span class="o">(</span><span class="n">empty</span><span class="bp">()</span><span class="o">);;</span>
</pre></div>

    </div>
</div>
</div>

<div class="output_wrapper">
<div class="output">


<div class="output_area">

    <div class="prompt"></div>


<div class="output_subarea output_stream output_stdout output_text">
<pre>{}
</pre>
</div>
</div>

<div class="output_area">

    <div class="prompt output_prompt">Out[26]:</div>




<div class="output_text output_subarea output_execute_result">
<pre>- : unit = ()
</pre>
</div>

</div>

</div>
</div>

</div>
<div class="cell border-box-sizing code_cell rendered">
<div class="input">
<div class="prompt input_prompt">In&nbsp;[27]:</div>
<div class="inner_cell">
    <div class="input_area">
<div class=" highlight hl-OCaml"><pre><span></span><span class="k">let</span> <span class="n">b1</span> <span class="o">=</span> <span class="n">bit_set_32_from_list</span> <span class="o">[</span><span class="mi">0</span><span class="o">;</span> <span class="mi">12</span><span class="o">]</span>
<span class="ow">and</span> <span class="n">b2</span> <span class="o">=</span> <span class="n">bit_set_32_from_list</span> <span class="o">[</span><span class="mi">1</span><span class="o">;</span> <span class="mi">3</span><span class="o">;</span> <span class="mi">6</span><span class="o">]</span>
<span class="ow">and</span> <span class="n">b3</span> <span class="o">=</span> <span class="n">bit_set_32_from_list</span> <span class="o">[</span><span class="mi">0</span><span class="o">;</span> <span class="mi">3</span><span class="o">;</span> <span class="mi">6</span><span class="o">;</span> <span class="mi">17</span><span class="o">]</span>
<span class="o">;;</span>

<span class="n">print_bit_set_32</span> <span class="n">b1</span><span class="o">;;</span>
<span class="n">print_bit_set_32</span> <span class="n">b2</span><span class="o">;;</span>
<span class="n">print_bit_set_32</span> <span class="n">b3</span><span class="o">;;</span>
</pre></div>

    </div>
</div>
</div>

<div class="output_wrapper">
<div class="output">


<div class="output_area">

    <div class="prompt output_prompt">Out[27]:</div>




<div class="output_text output_subarea output_execute_result">
<pre>val b1 : bit_set_32 = 4097
val b2 : bit_set_32 = 74
val b3 : bit_set_32 = 131145
</pre>
</div>

</div>

<div class="output_area">

    <div class="prompt"></div>


<div class="output_subarea output_stream output_stdout output_text">
<pre>{0, 12}
</pre>
</div>
</div>

<div class="output_area">

    <div class="prompt output_prompt">Out[27]:</div>




<div class="output_text output_subarea output_execute_result">
<pre>- : unit = ()
</pre>
</div>

</div>

<div class="output_area">

    <div class="prompt"></div>


<div class="output_subarea output_stream output_stdout output_text">
<pre>{1, 3, 6}
</pre>
</div>
</div>

<div class="output_area">

    <div class="prompt output_prompt">Out[27]:</div>




<div class="output_text output_subarea output_execute_result">
<pre>- : unit = ()
</pre>
</div>

</div>

<div class="output_area">

    <div class="prompt"></div>


<div class="output_subarea output_stream output_stdout output_text">
<pre>{0, 3, 6, 17}
</pre>
</div>
</div>

<div class="output_area">

    <div class="prompt output_prompt">Out[27]:</div>




<div class="output_text output_subarea output_execute_result">
<pre>- : unit = ()
</pre>
</div>

</div>

</div>
</div>

</div>
<div class="cell border-box-sizing text_cell rendered"><div class="prompt input_prompt">
</div><div class="inner_cell">
<div class="text_cell_render border-box-sizing rendered_html">
<h3 id="Tests-des-op&#233;rations-unaires">Tests des op&#233;rations unaires<a class="anchor-link" href="#Tests-des-op&#233;rations-unaires">&#182;</a></h3>
</div>
</div>
</div>
<div class="cell border-box-sizing text_cell rendered"><div class="prompt input_prompt">
</div><div class="inner_cell">
<div class="text_cell_render border-box-sizing rendered_html">
<p>Tester l'appartenance :</p>

</div>
</div>
</div>
<div class="cell border-box-sizing code_cell rendered">
<div class="input">
<div class="prompt input_prompt">In&nbsp;[28]:</div>
<div class="inner_cell">
    <div class="input_area">
<div class=" highlight hl-OCaml"><pre><span></span><span class="o">(</span><span class="n">is_in</span> <span class="n">b1</span> <span class="mi">3</span><span class="o">);;</span>
<span class="o">(</span><span class="n">is_in</span> <span class="n">b2</span> <span class="mi">3</span><span class="o">);;</span>
<span class="o">(</span><span class="n">is_in</span> <span class="n">b3</span> <span class="mi">3</span><span class="o">);;</span>
</pre></div>

    </div>
</div>
</div>

<div class="output_wrapper">
<div class="output">


<div class="output_area">

    <div class="prompt output_prompt">Out[28]:</div>




<div class="output_text output_subarea output_execute_result">
<pre>- : bool = false
</pre>
</div>

</div>

<div class="output_area">

    <div class="prompt output_prompt">Out[28]:</div>




<div class="output_text output_subarea output_execute_result">
<pre>- : bool = true
</pre>
</div>

</div>

<div class="output_area">

    <div class="prompt output_prompt">Out[28]:</div>




<div class="output_text output_subarea output_execute_result">
<pre>- : bool = true
</pre>
</div>

</div>

</div>
</div>

</div>
<div class="cell border-box-sizing code_cell rendered">
<div class="input">
<div class="prompt input_prompt">In&nbsp;[29]:</div>
<div class="inner_cell">
    <div class="input_area">
<div class=" highlight hl-OCaml"><pre><span></span><span class="o">(</span><span class="n">is_in</span> <span class="n">b1</span> <span class="mi">0</span><span class="o">);;</span>
<span class="o">(</span><span class="n">is_in</span> <span class="n">b2</span> <span class="mi">0</span><span class="o">);;</span>
<span class="o">(</span><span class="n">is_in</span> <span class="n">b3</span> <span class="mi">0</span><span class="o">);;</span>
</pre></div>

    </div>
</div>
</div>

<div class="output_wrapper">
<div class="output">


<div class="output_area">

    <div class="prompt output_prompt">Out[29]:</div>




<div class="output_text output_subarea output_execute_result">
<pre>- : bool = true
</pre>
</div>

</div>

<div class="output_area">

    <div class="prompt output_prompt">Out[29]:</div>




<div class="output_text output_subarea output_execute_result">
<pre>- : bool = false
</pre>
</div>

</div>

<div class="output_area">

    <div class="prompt output_prompt">Out[29]:</div>




<div class="output_text output_subarea output_execute_result">
<pre>- : bool = true
</pre>
</div>

</div>

</div>
</div>

</div>
<div class="cell border-box-sizing text_cell rendered"><div class="prompt input_prompt">
</div><div class="inner_cell">
<div class="text_cell_render border-box-sizing rendered_html">
<p>On peut ajouter une valeur :</p>

</div>
</div>
</div>
<div class="cell border-box-sizing code_cell rendered">
<div class="input">
<div class="prompt input_prompt">In&nbsp;[30]:</div>
<div class="inner_cell">
    <div class="input_area">
<div class=" highlight hl-OCaml"><pre><span></span><span class="n">print_bit_set_32</span> <span class="o">(</span><span class="n">add</span> <span class="n">b1</span> <span class="mi">20</span><span class="o">);;</span>
<span class="n">print_bit_set_32</span> <span class="o">(</span><span class="n">add</span> <span class="n">b2</span> <span class="mi">20</span><span class="o">);;</span>
<span class="n">print_bit_set_32</span> <span class="o">(</span><span class="n">add</span> <span class="n">b3</span> <span class="mi">20</span><span class="o">);;</span>
</pre></div>

    </div>
</div>
</div>

<div class="output_wrapper">
<div class="output">


<div class="output_area">

    <div class="prompt"></div>


<div class="output_subarea output_stream output_stdout output_text">
<pre>{0, 12, 20}
</pre>
</div>
</div>

<div class="output_area">

    <div class="prompt output_prompt">Out[30]:</div>




<div class="output_text output_subarea output_execute_result">
<pre>- : unit = ()
</pre>
</div>

</div>

<div class="output_area">

    <div class="prompt"></div>


<div class="output_subarea output_stream output_stdout output_text">
<pre>{1, 3, 6, 20}
</pre>
</div>
</div>

<div class="output_area">

    <div class="prompt output_prompt">Out[30]:</div>




<div class="output_text output_subarea output_execute_result">
<pre>- : unit = ()
</pre>
</div>

</div>

<div class="output_area">

    <div class="prompt"></div>


<div class="output_subarea output_stream output_stdout output_text">
<pre>{0, 3, 6, 17, 20}
</pre>
</div>
</div>

<div class="output_area">

    <div class="prompt output_prompt">Out[30]:</div>




<div class="output_text output_subarea output_execute_result">
<pre>- : unit = ()
</pre>
</div>

</div>

</div>
</div>

</div>
<div class="cell border-box-sizing text_cell rendered"><div class="prompt input_prompt">
</div><div class="inner_cell">
<div class="text_cell_render border-box-sizing rendered_html">
<p>Ou l'enlever :</p>

</div>
</div>
</div>
<div class="cell border-box-sizing code_cell rendered">
<div class="input">
<div class="prompt input_prompt">In&nbsp;[31]:</div>
<div class="inner_cell">
    <div class="input_area">
<div class=" highlight hl-OCaml"><pre><span></span><span class="n">print_bit_set_32</span> <span class="o">(</span><span class="n">remove</span> <span class="n">b1</span> <span class="mi">3</span><span class="o">);;</span>
<span class="n">print_bit_set_32</span> <span class="o">(</span><span class="n">remove</span> <span class="n">b2</span> <span class="mi">3</span><span class="o">);;</span>
<span class="n">print_bit_set_32</span> <span class="o">(</span><span class="n">remove</span> <span class="n">b3</span> <span class="mi">3</span><span class="o">);;</span>
</pre></div>

    </div>
</div>
</div>

<div class="output_wrapper">
<div class="output">


<div class="output_area">

    <div class="prompt"></div>


<div class="output_subarea output_stream output_stdout output_text">
<pre>{0, 12}
</pre>
</div>
</div>

<div class="output_area">

    <div class="prompt output_prompt">Out[31]:</div>




<div class="output_text output_subarea output_execute_result">
<pre>- : unit = ()
</pre>
</div>

</div>

<div class="output_area">

    <div class="prompt"></div>


<div class="output_subarea output_stream output_stdout output_text">
<pre>{1, 6}
</pre>
</div>
</div>

<div class="output_area">

    <div class="prompt output_prompt">Out[31]:</div>




<div class="output_text output_subarea output_execute_result">
<pre>- : unit = ()
</pre>
</div>

</div>

<div class="output_area">

    <div class="prompt"></div>


<div class="output_subarea output_stream output_stdout output_text">
<pre>{0, 6, 17}
</pre>
</div>
</div>

<div class="output_area">

    <div class="prompt output_prompt">Out[31]:</div>




<div class="output_text output_subarea output_execute_result">
<pre>- : unit = ()
</pre>
</div>

</div>

</div>
</div>

</div>
<div class="cell border-box-sizing code_cell rendered">
<div class="input">
<div class="prompt input_prompt">In&nbsp;[32]:</div>
<div class="inner_cell">
    <div class="input_area">
<div class=" highlight hl-OCaml"><pre><span></span><span class="n">length</span> <span class="n">b1</span><span class="o">;;</span>
<span class="n">length</span> <span class="n">b2</span><span class="o">;;</span>
<span class="n">length</span> <span class="n">b3</span><span class="o">;;</span>
</pre></div>

    </div>
</div>
</div>

<div class="output_wrapper">
<div class="output">


<div class="output_area">

    <div class="prompt output_prompt">Out[32]:</div>




<div class="output_text output_subarea output_execute_result">
<pre>- : int = 2
</pre>
</div>

</div>

<div class="output_area">

    <div class="prompt output_prompt">Out[32]:</div>




<div class="output_text output_subarea output_execute_result">
<pre>- : int = 3
</pre>
</div>

</div>

<div class="output_area">

    <div class="prompt output_prompt">Out[32]:</div>




<div class="output_text output_subarea output_execute_result">
<pre>- : int = 4
</pre>
</div>

</div>

</div>
</div>

</div>
<div class="cell border-box-sizing code_cell rendered">
<div class="input">
<div class="prompt input_prompt">In&nbsp;[33]:</div>
<div class="inner_cell">
    <div class="input_area">
<div class=" highlight hl-OCaml"><pre><span></span><span class="n">print_bit_set_32</span> <span class="o">(</span><span class="n">complementaire</span> <span class="n">b1</span><span class="o">);;</span>
<span class="n">print_bit_set_32</span> <span class="o">(</span><span class="n">complementaire</span> <span class="n">b2</span><span class="o">);;</span>
<span class="n">print_bit_set_32</span> <span class="o">(</span><span class="n">complementaire</span> <span class="n">b3</span><span class="o">);;</span>

<span class="n">print_bit_set_32</span> <span class="o">(</span><span class="n">complementaire</span> <span class="o">(</span><span class="n">union</span> <span class="o">(</span><span class="n">union</span> <span class="n">b1</span> <span class="n">b2</span><span class="o">)</span> <span class="n">b3</span><span class="o">));;</span>
</pre></div>

    </div>
</div>
</div>

<div class="output_wrapper">
<div class="output">


<div class="output_area">

    <div class="prompt"></div>


<div class="output_subarea output_stream output_stdout output_text">
<pre>{1, 2, 3, 4, 5, 6, 7, 8, 9, 10, 11, 13, 14, 15, 16, 17, 18, 19, 20, 21, 22, 23, 24, 25, 26, 27, 28, 29, 30, 31}
</pre>
</div>
</div>

<div class="output_area">

    <div class="prompt output_prompt">Out[33]:</div>




<div class="output_text output_subarea output_execute_result">
<pre>- : unit = ()
</pre>
</div>

</div>

<div class="output_area">

    <div class="prompt"></div>


<div class="output_subarea output_stream output_stdout output_text">
<pre>{0, 2, 4, 5, 7, 8, 9, 10, 11, 12, 13, 14, 15, 16, 17, 18, 19, 20, 21, 22, 23, 24, 25, 26, 27, 28, 29, 30, 31}
</pre>
</div>
</div>

<div class="output_area">

    <div class="prompt output_prompt">Out[33]:</div>




<div class="output_text output_subarea output_execute_result">
<pre>- : unit = ()
</pre>
</div>

</div>

<div class="output_area">

    <div class="prompt"></div>


<div class="output_subarea output_stream output_stdout output_text">
<pre>{1, 2, 4, 5, 7, 8, 9, 10, 11, 12, 13, 14, 15, 16, 18, 19, 20, 21, 22, 23, 24, 25, 26, 27, 28, 29, 30, 31}
</pre>
</div>
</div>

<div class="output_area">

    <div class="prompt output_prompt">Out[33]:</div>




<div class="output_text output_subarea output_execute_result">
<pre>- : unit = ()
</pre>
</div>

</div>

<div class="output_area">

    <div class="prompt"></div>


<div class="output_subarea output_stream output_stdout output_text">
<pre>{2, 4, 5, 7, 8, 9, 10, 11, 13, 14, 15, 16, 18, 19, 20, 21, 22, 23, 24, 25, 26, 27, 28, 29, 30, 31}
</pre>
</div>
</div>

<div class="output_area">

    <div class="prompt output_prompt">Out[33]:</div>




<div class="output_text output_subarea output_execute_result">
<pre>- : unit = ()
</pre>
</div>

</div>

</div>
</div>

</div>
<div class="cell border-box-sizing text_cell rendered"><div class="prompt input_prompt">
</div><div class="inner_cell">
<div class="text_cell_render border-box-sizing rendered_html">
<h3 id="Tests-des-op&#233;rations-binaires">Tests des op&#233;rations binaires<a class="anchor-link" href="#Tests-des-op&#233;rations-binaires">&#182;</a></h3>
</div>
</div>
</div>
<div class="cell border-box-sizing code_cell rendered">
<div class="input">
<div class="prompt input_prompt">In&nbsp;[34]:</div>
<div class="inner_cell">
    <div class="input_area">
<div class=" highlight hl-OCaml"><pre><span></span><span class="n">print_bit_set_32</span> <span class="o">(</span><span class="n">union</span> <span class="n">b1</span> <span class="n">b2</span><span class="o">);;</span>
<span class="n">print_bit_set_32</span> <span class="o">(</span><span class="n">union</span> <span class="n">b1</span> <span class="n">b3</span><span class="o">);;</span>
<span class="n">print_bit_set_32</span> <span class="o">(</span><span class="n">union</span> <span class="n">b2</span> <span class="n">b3</span><span class="o">);;</span>
</pre></div>

    </div>
</div>
</div>

<div class="output_wrapper">
<div class="output">


<div class="output_area">

    <div class="prompt output_prompt">Out[34]:</div>




<div class="output_text output_subarea output_execute_result">
<pre>- : unit = ()
</pre>
</div>

</div>

<div class="output_area">

    <div class="prompt output_prompt">Out[34]:</div>




<div class="output_text output_subarea output_execute_result">
<pre>- : unit = ()
</pre>
</div>

</div>

<div class="output_area">

    <div class="prompt"></div>


<div class="output_subarea output_stream output_stdout output_text">
<pre>{0, 1, 3, 6, 12}
{0, 3, 6, 12, 17}
{0, 1, 3, 6, 17}
</pre>
</div>
</div>

<div class="output_area">

    <div class="prompt output_prompt">Out[34]:</div>




<div class="output_text output_subarea output_execute_result">
<pre>- : unit = ()
</pre>
</div>

</div>

</div>
</div>

</div>
<div class="cell border-box-sizing code_cell rendered">
<div class="input">
<div class="prompt input_prompt">In&nbsp;[35]:</div>
<div class="inner_cell">
    <div class="input_area">
<div class=" highlight hl-OCaml"><pre><span></span><span class="n">contains</span> <span class="n">b1</span> <span class="n">b2</span><span class="o">;;</span>
<span class="n">contains</span> <span class="n">b1</span> <span class="n">b3</span><span class="o">;;</span>
<span class="n">contains</span> <span class="n">b1</span> <span class="o">(</span><span class="n">intersection</span> <span class="n">b1</span> <span class="n">b3</span><span class="o">);;</span>
<span class="n">contains</span> <span class="o">(</span><span class="n">intersection</span> <span class="n">b1</span> <span class="n">b3</span><span class="o">)</span> <span class="n">b1</span><span class="o">;;</span>
<span class="n">contains</span> <span class="n">b1</span> <span class="o">(</span><span class="n">union</span> <span class="n">b1</span> <span class="n">b3</span><span class="o">);;</span>
<span class="n">contains</span> <span class="n">b2</span> <span class="n">b3</span><span class="o">;;</span>
</pre></div>

    </div>
</div>
</div>

<div class="output_wrapper">
<div class="output">


<div class="output_area">

    <div class="prompt output_prompt">Out[35]:</div>




<div class="output_text output_subarea output_execute_result">
<pre>- : bool = false
</pre>
</div>

</div>

<div class="output_area">

    <div class="prompt output_prompt">Out[35]:</div>




<div class="output_text output_subarea output_execute_result">
<pre>- : bool = false
</pre>
</div>

</div>

<div class="output_area">

    <div class="prompt output_prompt">Out[35]:</div>




<div class="output_text output_subarea output_execute_result">
<pre>- : bool = false
</pre>
</div>

</div>

<div class="output_area">

    <div class="prompt output_prompt">Out[35]:</div>




<div class="output_text output_subarea output_execute_result">
<pre>- : bool = true
</pre>
</div>

</div>

<div class="output_area">

    <div class="prompt output_prompt">Out[35]:</div>




<div class="output_text output_subarea output_execute_result">
<pre>- : bool = true
</pre>
</div>

</div>

<div class="output_area">

    <div class="prompt output_prompt">Out[35]:</div>




<div class="output_text output_subarea output_execute_result">
<pre>- : bool = false
</pre>
</div>

</div>

</div>
</div>

</div>
<div class="cell border-box-sizing code_cell rendered">
<div class="input">
<div class="prompt input_prompt">In&nbsp;[36]:</div>
<div class="inner_cell">
    <div class="input_area">
<div class=" highlight hl-OCaml"><pre><span></span><span class="n">print_bit_set_32</span> <span class="o">(</span><span class="n">intersection</span> <span class="n">b1</span> <span class="n">b2</span><span class="o">);;</span>
<span class="n">print_bit_set_32</span> <span class="o">(</span><span class="n">intersection</span> <span class="n">b1</span> <span class="n">b3</span><span class="o">);;</span>
<span class="n">print_bit_set_32</span> <span class="o">(</span><span class="n">intersection</span> <span class="n">b2</span> <span class="n">b3</span><span class="o">);;</span>
</pre></div>

    </div>
</div>
</div>

<div class="output_wrapper">
<div class="output">


<div class="output_area">

    <div class="prompt"></div>


<div class="output_subarea output_stream output_stdout output_text">
<pre>{}
</pre>
</div>
</div>

<div class="output_area">

    <div class="prompt output_prompt">Out[36]:</div>




<div class="output_text output_subarea output_execute_result">
<pre>- : unit = ()
</pre>
</div>

</div>

<div class="output_area">

    <div class="prompt"></div>


<div class="output_subarea output_stream output_stdout output_text">
<pre>{0}
</pre>
</div>
</div>

<div class="output_area">

    <div class="prompt output_prompt">Out[36]:</div>




<div class="output_text output_subarea output_execute_result">
<pre>- : unit = ()
</pre>
</div>

</div>

<div class="output_area">

    <div class="prompt"></div>


<div class="output_subarea output_stream output_stdout output_text">
<pre>{3, 6}
</pre>
</div>
</div>

<div class="output_area">

    <div class="prompt output_prompt">Out[36]:</div>




<div class="output_text output_subarea output_execute_result">
<pre>- : unit = ()
</pre>
</div>

</div>

</div>
</div>

</div>
<div class="cell border-box-sizing code_cell rendered">
<div class="input">
<div class="prompt input_prompt">In&nbsp;[37]:</div>
<div class="inner_cell">
    <div class="input_area">
<div class=" highlight hl-OCaml"><pre><span></span><span class="n">print_bit_set_32</span> <span class="o">(</span><span class="n">difference</span> <span class="n">b1</span> <span class="n">b2</span><span class="o">);;</span>
<span class="n">print_bit_set_32</span> <span class="o">(</span><span class="n">difference</span> <span class="n">b1</span> <span class="n">b3</span><span class="o">);;</span>
<span class="n">print_bit_set_32</span> <span class="o">(</span><span class="n">difference</span> <span class="n">b2</span> <span class="n">b3</span><span class="o">);;</span>
</pre></div>

    </div>
</div>
</div>

<div class="output_wrapper">
<div class="output">


<div class="output_area">

    <div class="prompt"></div>


<div class="output_subarea output_stream output_stdout output_text">
<pre>{0, 12}
</pre>
</div>
</div>

<div class="output_area">

    <div class="prompt output_prompt">Out[37]:</div>




<div class="output_text output_subarea output_execute_result">
<pre>- : unit = ()
</pre>
</div>

</div>

<div class="output_area">

    <div class="prompt"></div>


<div class="output_subarea output_stream output_stdout output_text">
<pre>{12}
</pre>
</div>
</div>

<div class="output_area">

    <div class="prompt output_prompt">Out[37]:</div>




<div class="output_text output_subarea output_execute_result">
<pre>- : unit = ()
</pre>
</div>

</div>

<div class="output_area">

    <div class="prompt"></div>


<div class="output_subarea output_stream output_stdout output_text">
<pre>{1}
</pre>
</div>
</div>

<div class="output_area">

    <div class="prompt output_prompt">Out[37]:</div>




<div class="output_text output_subarea output_execute_result">
<pre>- : unit = ()
</pre>
</div>

</div>

</div>
</div>

</div>
<div class="cell border-box-sizing code_cell rendered">
<div class="input">
<div class="prompt input_prompt">In&nbsp;[38]:</div>
<div class="inner_cell">
    <div class="input_area">
<div class=" highlight hl-OCaml"><pre><span></span><span class="n">print_bit_set_32</span> <span class="o">(</span><span class="n">difference_sym</span> <span class="n">b1</span> <span class="n">b2</span><span class="o">);;</span>
<span class="n">print_bit_set_32</span> <span class="o">(</span><span class="n">difference_sym</span> <span class="n">b1</span> <span class="n">b3</span><span class="o">);;</span>
<span class="n">print_bit_set_32</span> <span class="o">(</span><span class="n">difference_sym</span> <span class="n">b2</span> <span class="n">b3</span><span class="o">);;</span>
</pre></div>

    </div>
</div>
</div>

<div class="output_wrapper">
<div class="output">


<div class="output_area">

    <div class="prompt"></div>


<div class="output_subarea output_stream output_stdout output_text">
<pre>{0, 1, 3, 6, 12}
</pre>
</div>
</div>

<div class="output_area">

    <div class="prompt output_prompt">Out[38]:</div>




<div class="output_text output_subarea output_execute_result">
<pre>- : unit = ()
</pre>
</div>

</div>

<div class="output_area">

    <div class="prompt"></div>


<div class="output_subarea output_stream output_stdout output_text">
<pre>{3, 6, 12, 17}
</pre>
</div>
</div>

<div class="output_area">

    <div class="prompt output_prompt">Out[38]:</div>




<div class="output_text output_subarea output_execute_result">
<pre>- : unit = ()
</pre>
</div>

</div>

<div class="output_area">

    <div class="prompt"></div>


<div class="output_subarea output_stream output_stdout output_text">
<pre>{0, 1, 17}
</pre>
</div>
</div>

<div class="output_area">

    <div class="prompt output_prompt">Out[38]:</div>




<div class="output_text output_subarea output_execute_result">
<pre>- : unit = ()
</pre>
</div>

</div>

</div>
</div>

</div>
<div class="cell border-box-sizing text_cell rendered"><div class="prompt input_prompt">
</div><div class="inner_cell">
<div class="text_cell_render border-box-sizing rendered_html">
<hr>
<h2 id="Comparaison">Comparaison<a class="anchor-link" href="#Comparaison">&#182;</a></h2><p>On va essayer de comparer notre implémentation avec une implémentation naïve utilisant des <code>bool array</code> et une utilisant le <a href="http://caml.inria.fr/pub/docs/manual-ocaml/libref/Set.S.html">module <code>Set</code></a> de la bibliothèque standard.</p>

</div>
</div>
</div>
<div class="cell border-box-sizing text_cell rendered"><div class="prompt input_prompt">
</div><div class="inner_cell">
<div class="text_cell_render border-box-sizing rendered_html">
<h3 id="Mesure-un-temps-d'&#233;xecution">Mesure un temps d'&#233;xecution<a class="anchor-link" href="#Mesure-un-temps-d'&#233;xecution">&#182;</a></h3>
</div>
</div>
</div>
<div class="cell border-box-sizing code_cell rendered">
<div class="input">
<div class="prompt input_prompt">In&nbsp;[132]:</div>
<div class="inner_cell">
    <div class="input_area">
<div class=" highlight hl-OCaml"><pre><span></span><span class="k">let</span> <span class="n">time</span> <span class="o">(</span><span class="n">n</span> <span class="o">:</span> <span class="kt">int</span><span class="o">)</span> <span class="o">(</span><span class="n">f</span> <span class="o">:</span> <span class="kt">unit</span> <span class="o">-&gt;</span> <span class="k">&#39;</span><span class="n">a</span><span class="o">)</span> <span class="o">:</span> <span class="kt">float</span> <span class="o">=</span>
    <span class="k">let</span> <span class="n">t</span> <span class="o">=</span> <span class="nn">Sys</span><span class="p">.</span><span class="n">time</span><span class="bp">()</span> <span class="k">in</span>
    <span class="k">for</span> <span class="o">_</span> <span class="o">=</span> <span class="mi">0</span> <span class="k">to</span> <span class="n">n</span><span class="o">-</span><span class="mi">1</span> <span class="k">do</span>
        <span class="n">ignore</span> <span class="o">(</span><span class="n">f</span> <span class="bp">()</span><span class="o">);</span>
    <span class="k">done</span><span class="o">;</span>
    <span class="k">let</span> <span class="n">delta_t</span> <span class="o">=</span> <span class="nn">Sys</span><span class="p">.</span><span class="n">time</span><span class="bp">()</span> <span class="o">-.</span> <span class="n">t</span> <span class="k">in</span>
    <span class="k">let</span> <span class="n">t_moyen</span> <span class="o">=</span> <span class="n">delta_t</span> <span class="o">/.</span> <span class="o">(</span><span class="n">float_of_int</span> <span class="n">n</span><span class="o">)</span> <span class="k">in</span>
    <span class="nn">Printf</span><span class="p">.</span><span class="n">printf</span> <span class="s2">&quot;    Temps en secondes: %fs</span><span class="se">\n</span><span class="s2">&quot;</span> <span class="n">t_moyen</span><span class="o">;</span>
    <span class="n">flush_all</span> <span class="bp">()</span><span class="o">;</span>
    <span class="n">t_moyen</span>
<span class="o">;;</span>
</pre></div>

    </div>
</div>
</div>

<div class="output_wrapper">
<div class="output">


<div class="output_area">

    <div class="prompt output_prompt">Out[132]:</div>




<div class="output_text output_subarea output_execute_result">
<pre>val time : int -&gt; (unit -&gt; &#39;a) -&gt; float = &lt;fun&gt;
</pre>
</div>

</div>

</div>
</div>

</div>
<div class="cell border-box-sizing code_cell rendered">
<div class="input">
<div class="prompt input_prompt">In&nbsp;[43]:</div>
<div class="inner_cell">
    <div class="input_area">
<div class=" highlight hl-OCaml"><pre><span></span><span class="nn">Random</span><span class="p">.</span><span class="n">self_init</span><span class="bp">()</span><span class="o">;;</span>

<span class="k">let</span> <span class="n">random_int_0_31</span> <span class="bp">()</span> <span class="o">=</span>
    <span class="nn">Random</span><span class="p">.</span><span class="n">int</span> <span class="mi">32</span>
<span class="o">;;</span>
</pre></div>

    </div>
</div>
</div>

<div class="output_wrapper">
<div class="output">


<div class="output_area">

    <div class="prompt output_prompt">Out[43]:</div>




<div class="output_text output_subarea output_execute_result">
<pre>- : unit = ()
</pre>
</div>

</div>

<div class="output_area">

    <div class="prompt output_prompt">Out[43]:</div>




<div class="output_text output_subarea output_execute_result">
<pre>val random_int_0_31 : unit -&gt; int = &lt;fun&gt;
</pre>
</div>

</div>

</div>
</div>

</div>
<div class="cell border-box-sizing text_cell rendered"><div class="prompt input_prompt">
</div><div class="inner_cell">
<div class="text_cell_render border-box-sizing rendered_html">
<h3 id="Suite-de-test-pour-bit_set_32">Suite de test pour <code>bit_set_32</code><a class="anchor-link" href="#Suite-de-test-pour-bit_set_32">&#182;</a></h3>
</div>
</div>
</div>
<div class="cell border-box-sizing text_cell rendered"><div class="prompt input_prompt">
</div><div class="inner_cell">
<div class="text_cell_render border-box-sizing rendered_html">
<p>Notre test va consister à créer un ensemble vide, et ajouter 100 fois de suite des valeurs aléatoires, en enlever d'autres etc.</p>

</div>
</div>
</div>
<div class="cell border-box-sizing code_cell rendered">
<div class="input">
<div class="prompt input_prompt">In&nbsp;[50]:</div>
<div class="inner_cell">
    <div class="input_area">
<div class=" highlight hl-OCaml"><pre><span></span><span class="k">let</span> <span class="n">test_bit_set_32</span> <span class="n">n</span> <span class="n">n1</span> <span class="n">n2</span> <span class="bp">()</span> <span class="o">=</span>
    <span class="k">let</span> <span class="n">b</span> <span class="o">=</span> <span class="n">ref</span> <span class="o">(</span><span class="n">empty</span> <span class="bp">()</span><span class="o">)</span> <span class="k">in</span>
    <span class="k">for</span> <span class="o">_</span> <span class="o">=</span> <span class="mi">0</span> <span class="k">to</span> <span class="n">n</span> <span class="k">do</span>
        <span class="k">let</span> <span class="n">nb_ajout</span> <span class="o">=</span> <span class="nn">Random</span><span class="p">.</span><span class="n">int</span> <span class="n">n1</span> <span class="k">in</span>
        <span class="k">let</span> <span class="n">nb_retrait</span> <span class="o">=</span> <span class="nn">Random</span><span class="p">.</span><span class="n">int</span> <span class="n">n2</span> <span class="k">in</span>
        <span class="k">for</span> <span class="n">i</span> <span class="o">=</span> <span class="mi">0</span> <span class="k">to</span> <span class="n">nb_ajout</span> <span class="o">+</span> <span class="n">nb_retrait</span> <span class="k">do</span>
            <span class="k">let</span> <span class="n">n</span> <span class="o">=</span> <span class="n">random_int_0_31</span> <span class="bp">()</span> <span class="k">in</span>
            <span class="k">if</span> <span class="n">i</span> <span class="ow">mod</span> <span class="mi">2</span> <span class="o">=</span> <span class="mi">0</span> <span class="k">then</span>
                <span class="n">b</span> <span class="o">:=</span> <span class="n">add</span> <span class="o">!</span><span class="n">b</span> <span class="n">n</span>
            <span class="k">else</span>
                <span class="n">b</span> <span class="o">:=</span> <span class="n">remove</span> <span class="o">!</span><span class="n">b</span> <span class="n">n</span><span class="o">;</span>
        <span class="k">done</span>
    <span class="k">done</span><span class="o">;</span>
    <span class="n">length</span> <span class="o">!</span><span class="n">b</span>
<span class="o">;;</span>
</pre></div>

    </div>
</div>
</div>

<div class="output_wrapper">
<div class="output">


<div class="output_area">

    <div class="prompt output_prompt">Out[50]:</div>




<div class="output_text output_subarea output_execute_result">
<pre>val test_bit_set_32 : int -&gt; int -&gt; int -&gt; unit -&gt; int = &lt;fun&gt;
</pre>
</div>

</div>

</div>
</div>

</div>
<div class="cell border-box-sizing code_cell rendered">
<div class="input">
<div class="prompt input_prompt">In&nbsp;[91]:</div>
<div class="inner_cell">
    <div class="input_area">
<div class=" highlight hl-OCaml"><pre><span></span><span class="n">test_bit_set_32</span> <span class="mi">100</span> <span class="mi">20</span> <span class="mi">10</span> <span class="bp">()</span><span class="o">;;</span>
</pre></div>

    </div>
</div>
</div>

<div class="output_wrapper">
<div class="output">


<div class="output_area">

    <div class="prompt output_prompt">Out[91]:</div>




<div class="output_text output_subarea output_execute_result">
<pre>- : int = 13
</pre>
</div>

</div>

</div>
</div>

</div>
<div class="cell border-box-sizing text_cell rendered"><div class="prompt input_prompt">
</div><div class="inner_cell">
<div class="text_cell_render border-box-sizing rendered_html">
<h3 id="Suite-de-test-pour-bool-array">Suite de test pour <code>bool array</code><a class="anchor-link" href="#Suite-de-test-pour-bool-array">&#182;</a></h3>
</div>
</div>
</div>
<div class="cell border-box-sizing text_cell rendered"><div class="prompt input_prompt">
</div><div class="inner_cell">
<div class="text_cell_render border-box-sizing rendered_html">
<p>Avec des <code>bool array</code>, on a l'avantage d'avoir une structure dynamique.</p>

</div>
</div>
</div>
<div class="cell border-box-sizing code_cell rendered">
<div class="input">
<div class="prompt input_prompt">In&nbsp;[99]:</div>
<div class="inner_cell">
    <div class="input_area">
<div class=" highlight hl-OCaml"><pre><span></span><span class="k">let</span> <span class="n">test_boolarray</span> <span class="n">n</span> <span class="n">n1</span> <span class="n">n2</span> <span class="bp">()</span> <span class="o">=</span>
    <span class="k">let</span> <span class="n">b</span> <span class="o">=</span> <span class="nn">Array</span><span class="p">.</span><span class="n">make</span> <span class="n">max_size_bit_set_32</span> <span class="bp">false</span> <span class="k">in</span>
    <span class="k">for</span> <span class="o">_</span> <span class="o">=</span> <span class="mi">0</span> <span class="k">to</span> <span class="n">n</span> <span class="k">do</span>
        <span class="k">let</span> <span class="n">nb_ajout</span> <span class="o">=</span> <span class="nn">Random</span><span class="p">.</span><span class="n">int</span> <span class="n">n1</span> <span class="k">in</span>
        <span class="k">let</span> <span class="n">nb_retrait</span> <span class="o">=</span> <span class="nn">Random</span><span class="p">.</span><span class="n">int</span> <span class="n">n2</span> <span class="k">in</span>
        <span class="k">for</span> <span class="n">i</span> <span class="o">=</span> <span class="mi">0</span> <span class="k">to</span> <span class="n">nb_ajout</span> <span class="o">+</span> <span class="n">nb_retrait</span> <span class="k">do</span>
            <span class="k">let</span> <span class="n">n</span> <span class="o">=</span> <span class="n">random_int_0_31</span> <span class="bp">()</span> <span class="k">in</span>
            <span class="k">if</span> <span class="n">i</span> <span class="ow">mod</span> <span class="mi">2</span> <span class="o">=</span> <span class="mi">0</span> <span class="k">then</span>
                <span class="n">b</span><span class="o">.(</span><span class="n">n</span><span class="o">)</span> <span class="o">&lt;-</span> <span class="bp">true</span>
            <span class="k">else</span>
                <span class="n">b</span><span class="o">.(</span><span class="n">n</span><span class="o">)</span> <span class="o">&lt;-</span> <span class="bp">false</span>
        <span class="k">done</span><span class="o">;</span>
    <span class="k">done</span><span class="o">;</span>
    <span class="nn">Array</span><span class="p">.</span><span class="n">fold_left</span> <span class="o">(+)</span> <span class="mi">0</span> <span class="o">(</span><span class="nn">Array</span><span class="p">.</span><span class="n">map</span> <span class="o">(</span><span class="k">fun</span> <span class="n">x</span> <span class="o">-&gt;</span> <span class="k">if</span> <span class="n">x</span> <span class="k">then</span> <span class="mi">1</span> <span class="k">else</span> <span class="mi">0</span><span class="o">)</span> <span class="n">b</span><span class="o">)</span>
<span class="o">;;</span>
</pre></div>

    </div>
</div>
</div>

<div class="output_wrapper">
<div class="output">


<div class="output_area">

    <div class="prompt output_prompt">Out[99]:</div>




<div class="output_text output_subarea output_execute_result">
<pre>val test_boolarray : int -&gt; int -&gt; int -&gt; unit -&gt; int = &lt;fun&gt;
</pre>
</div>

</div>

</div>
</div>

</div>
<div class="cell border-box-sizing code_cell rendered">
<div class="input">
<div class="prompt input_prompt">In&nbsp;[127]:</div>
<div class="inner_cell">
    <div class="input_area">
<div class=" highlight hl-OCaml"><pre><span></span><span class="n">test_boolarray</span> <span class="mi">100</span> <span class="mi">20</span> <span class="mi">10</span> <span class="bp">()</span><span class="o">;;</span>
</pre></div>

    </div>
</div>
</div>

<div class="output_wrapper">
<div class="output">


<div class="output_area">

    <div class="prompt output_prompt">Out[127]:</div>




<div class="output_text output_subarea output_execute_result">
<pre>- : int = 15
</pre>
</div>

</div>

</div>
</div>

</div>
<div class="cell border-box-sizing text_cell rendered"><div class="prompt input_prompt">
</div><div class="inner_cell">
<div class="text_cell_render border-box-sizing rendered_html">
<h3 id="Suite-de-test-pour-Set.Make(Int)">Suite de test pour <code>Set.Make(Int)</code><a class="anchor-link" href="#Suite-de-test-pour-Set.Make(Int)">&#182;</a></h3>
</div>
</div>
</div>
<div class="cell border-box-sizing code_cell rendered">
<div class="input">
<div class="prompt input_prompt">In&nbsp;[116]:</div>
<div class="inner_cell">
    <div class="input_area">
<div class=" highlight hl-OCaml"><pre><span></span><span class="k">module</span> <span class="nc">Int</span> <span class="o">=</span> <span class="k">struct</span>
   <span class="k">type</span> <span class="n">t</span> <span class="o">=</span> <span class="kt">int</span>
   <span class="k">let</span> <span class="n">compare</span> <span class="o">=</span> <span class="n">compare</span>
 <span class="k">end</span><span class="o">;;</span>

<span class="k">module</span> <span class="nc">Int32Set</span> <span class="o">=</span> <span class="nn">Set</span><span class="p">.</span><span class="nc">Make</span><span class="o">(</span><span class="nc">Int</span><span class="o">);;</span>
</pre></div>

    </div>
</div>
</div>

<div class="output_wrapper">
<div class="output">


<div class="output_area">

    <div class="prompt output_prompt">Out[116]:</div>




<div class="output_text output_subarea output_execute_result">
<pre>module Int :
  sig type t = int val compare : bit_set_32 -&gt; bit_set_32 -&gt; int end
</pre>
</div>

</div>

<div class="output_area">

    <div class="prompt output_prompt">Out[116]:</div>




<div class="output_text output_subarea output_execute_result">
<pre>module Int32Set :
  sig
    type elt = Int.t
    type t = Set.Make(Int).t
    val empty : t
    val is_empty : t -&gt; bool
    val mem : elt -&gt; t -&gt; bool
    val add : elt -&gt; t -&gt; t
    val singleton : elt -&gt; t
    val remove : elt -&gt; t -&gt; t
    val union : t -&gt; t -&gt; t
    val inter : t -&gt; t -&gt; t
    val diff : t -&gt; t -&gt; t
    val compare : t -&gt; t -&gt; int
    val equal : t -&gt; t -&gt; bool
    val subset : t -&gt; t -&gt; bool
    val iter : (elt -&gt; unit) -&gt; t -&gt; unit
    val map : (elt -&gt; elt) -&gt; t -&gt; t
    val fold : (elt -&gt; &#39;a -&gt; &#39;a) -&gt; t -&gt; &#39;a -&gt; &#39;a
    val for_all : (elt -&gt; bool) -&gt; t -&gt; bool
    val exists : (elt -&gt; bool) -&gt; t -&gt; bool
    val filter : (elt -&gt; bool) -&gt; t -&gt; t
    val partition : (elt -&gt; bool) -&gt; t -&gt; t * t
    val cardinal : t -&gt; int
    val elements : t -&gt; elt list
    val min_elt : t -&gt; elt
    val max_elt : t -&gt; elt
    val choose : t -&gt; elt
    val split : elt -&gt; t -&gt; t * bool * t
    val find : elt -&gt; t -&gt; elt
    val of_list : elt list -&gt; t
  end
</pre>
</div>

</div>

</div>
</div>

</div>
<div class="cell border-box-sizing text_cell rendered"><div class="prompt input_prompt">
</div><div class="inner_cell">
<div class="text_cell_render border-box-sizing rendered_html">
<p>Avec des <code>Set</code>, on a l'avantage d'avoir une structure dynamique, mais moins facile à manipuler.</p>

</div>
</div>
</div>
<div class="cell border-box-sizing code_cell rendered">
<div class="input">
<div class="prompt input_prompt">In&nbsp;[125]:</div>
<div class="inner_cell">
    <div class="input_area">
<div class=" highlight hl-OCaml"><pre><span></span><span class="k">let</span> <span class="n">test_Int32Set</span> <span class="n">n</span> <span class="n">n1</span> <span class="n">n2</span> <span class="bp">()</span> <span class="o">=</span>
    <span class="k">let</span> <span class="n">b</span> <span class="o">=</span> <span class="n">ref</span> <span class="o">(</span><span class="nn">Int32Set</span><span class="p">.</span><span class="n">empty</span><span class="o">)</span> <span class="k">in</span>
    <span class="k">for</span> <span class="o">_</span> <span class="o">=</span> <span class="mi">0</span> <span class="k">to</span> <span class="n">n</span> <span class="k">do</span>
        <span class="k">let</span> <span class="n">nb_ajout</span> <span class="o">=</span> <span class="nn">Random</span><span class="p">.</span><span class="n">int</span> <span class="n">n1</span> <span class="k">in</span>
        <span class="k">let</span> <span class="n">nb_retrait</span> <span class="o">=</span> <span class="nn">Random</span><span class="p">.</span><span class="n">int</span> <span class="n">n2</span> <span class="k">in</span>
        <span class="k">for</span> <span class="n">i</span> <span class="o">=</span> <span class="mi">0</span> <span class="k">to</span> <span class="n">nb_ajout</span> <span class="o">+</span> <span class="n">nb_retrait</span> <span class="k">do</span>
            <span class="k">let</span> <span class="n">n</span> <span class="o">=</span> <span class="n">random_int_0_31</span> <span class="bp">()</span> <span class="k">in</span>
            <span class="k">if</span> <span class="n">i</span> <span class="ow">mod</span> <span class="mi">2</span> <span class="o">=</span> <span class="mi">0</span> <span class="k">then</span>
                <span class="n">b</span> <span class="o">:=</span> <span class="nn">Int32Set</span><span class="p">.</span><span class="n">add</span> <span class="n">n</span> <span class="o">!</span><span class="n">b</span>
            <span class="k">else</span>
                <span class="n">b</span> <span class="o">:=</span> <span class="nn">Int32Set</span><span class="p">.</span><span class="n">remove</span> <span class="n">n</span> <span class="o">!</span><span class="n">b</span>
        <span class="k">done</span><span class="o">;</span>
    <span class="k">done</span><span class="o">;</span>
    <span class="nn">Int32Set</span><span class="p">.</span><span class="n">cardinal</span> <span class="o">!</span><span class="n">b</span>
<span class="o">;;</span>
</pre></div>

    </div>
</div>
</div>

<div class="output_wrapper">
<div class="output">


<div class="output_area">

    <div class="prompt output_prompt">Out[125]:</div>




<div class="output_text output_subarea output_execute_result">
<pre>val test_Int32Set : int -&gt; int -&gt; int -&gt; unit -&gt; int = &lt;fun&gt;
</pre>
</div>

</div>

</div>
</div>

</div>
<div class="cell border-box-sizing code_cell rendered">
<div class="input">
<div class="prompt input_prompt">In&nbsp;[126]:</div>
<div class="inner_cell">
    <div class="input_area">
<div class=" highlight hl-OCaml"><pre><span></span><span class="n">test_Int32Set</span> <span class="mi">100</span> <span class="mi">20</span> <span class="mi">10</span> <span class="bp">()</span><span class="o">;;</span>
</pre></div>

    </div>
</div>
</div>

<div class="output_wrapper">
<div class="output">


<div class="output_area">

    <div class="prompt output_prompt">Out[126]:</div>




<div class="output_text output_subarea output_execute_result">
<pre>- : int = 14
</pre>
</div>

</div>

</div>
</div>

</div>
<div class="cell border-box-sizing text_cell rendered"><div class="prompt input_prompt">
</div><div class="inner_cell">
<div class="text_cell_render border-box-sizing rendered_html">
<h3 id="Mesurer-les-temps-d'ex&#233;cution">Mesurer les temps d'ex&#233;cution<a class="anchor-link" href="#Mesurer-les-temps-d'ex&#233;cution">&#182;</a></h3>
</div>
</div>
</div>
<div class="cell border-box-sizing text_cell rendered"><div class="prompt input_prompt">
</div><div class="inner_cell">
<div class="text_cell_render border-box-sizing rendered_html">
<p>On va faire 500 répétitions de ces tests aléatoires, chacun avec 1000 fois des ajouts de 30 valeurs et des retraits de 20 valeurs.</p>

</div>
</div>
</div>
<div class="cell border-box-sizing code_cell rendered">
<div class="input">
<div class="prompt input_prompt">In&nbsp;[134]:</div>
<div class="inner_cell">
    <div class="input_area">
<div class=" highlight hl-OCaml"><pre><span></span><span class="n">time</span> <span class="mi">500</span> <span class="o">(</span><span class="n">test_bit_set_32</span> <span class="mi">1000</span> <span class="mi">30</span> <span class="mi">20</span><span class="o">);;</span>
</pre></div>

    </div>
</div>
</div>

<div class="output_wrapper">
<div class="output">


<div class="output_area">

    <div class="prompt"></div>


<div class="output_subarea output_stream output_stdout output_text">
<pre>    Temps en secondes: 0.004636s
</pre>
</div>
</div>

<div class="output_area">

    <div class="prompt output_prompt">Out[134]:</div>




<div class="output_text output_subarea output_execute_result">
<pre>- : float = 0.00463642199999999768
</pre>
</div>

</div>

</div>
</div>

</div>
<div class="cell border-box-sizing code_cell rendered">
<div class="input">
<div class="prompt input_prompt">In&nbsp;[135]:</div>
<div class="inner_cell">
    <div class="input_area">
<div class=" highlight hl-OCaml"><pre><span></span><span class="n">time</span> <span class="mi">500</span> <span class="o">(</span><span class="n">test_boolarray</span> <span class="mi">1000</span> <span class="mi">30</span> <span class="mi">20</span><span class="o">);;</span>
</pre></div>

    </div>
</div>
</div>

<div class="output_wrapper">
<div class="output">


<div class="output_area">

    <div class="prompt"></div>


<div class="output_subarea output_stream output_stdout output_text">
<pre>    Temps en secondes: 0.004257s
</pre>
</div>
</div>

<div class="output_area">

    <div class="prompt output_prompt">Out[135]:</div>




<div class="output_text output_subarea output_execute_result">
<pre>- : float = 0.00425716600000000146
</pre>
</div>

</div>

</div>
</div>

</div>
<div class="cell border-box-sizing code_cell rendered">
<div class="input">
<div class="prompt input_prompt">In&nbsp;[136]:</div>
<div class="inner_cell">
    <div class="input_area">
<div class=" highlight hl-OCaml"><pre><span></span><span class="n">time</span> <span class="mi">500</span> <span class="o">(</span><span class="n">test_Int32Set</span> <span class="mi">1000</span> <span class="mi">30</span> <span class="mi">20</span><span class="o">);;</span>
</pre></div>

    </div>
</div>
</div>

<div class="output_wrapper">
<div class="output">


<div class="output_area">

    <div class="prompt"></div>


<div class="output_subarea output_stream output_stdout output_text">
<pre>    Temps en secondes: 0.011854s
</pre>
</div>
</div>

<div class="output_area">

    <div class="prompt output_prompt">Out[136]:</div>




<div class="output_text output_subarea output_execute_result">
<pre>- : float = 0.0118542480000000013
</pre>
</div>

</div>

</div>
</div>

</div>
<div class="cell border-box-sizing text_cell rendered"><div class="prompt input_prompt">
</div><div class="inner_cell">
<div class="text_cell_render border-box-sizing rendered_html">
<p>Pour un second et dernier test, on va faire 500 répétitions de ces tests aléatoires, chacun avec 500 fois des ajouts de 100 valeurs et des retraits de 110 valeurs.</p>

</div>
</div>
</div>
<div class="cell border-box-sizing code_cell rendered">
<div class="input">
<div class="prompt input_prompt">In&nbsp;[140]:</div>
<div class="inner_cell">
    <div class="input_area">
<div class=" highlight hl-OCaml"><pre><span></span><span class="n">time</span> <span class="mi">500</span> <span class="o">(</span><span class="n">test_bit_set_32</span> <span class="mi">500</span> <span class="mi">100</span> <span class="mi">110</span><span class="o">);;</span>
</pre></div>

    </div>
</div>
</div>

<div class="output_wrapper">
<div class="output">


<div class="output_area">

    <div class="prompt"></div>


<div class="output_subarea output_stream output_stdout output_text">
<pre>    Temps en secondes: 0.009721s
</pre>
</div>
</div>

<div class="output_area">

    <div class="prompt output_prompt">Out[140]:</div>




<div class="output_text output_subarea output_execute_result">
<pre>- : float = 0.00972052400000000469
</pre>
</div>

</div>

</div>
</div>

</div>
<div class="cell border-box-sizing code_cell rendered">
<div class="input">
<div class="prompt input_prompt">In&nbsp;[141]:</div>
<div class="inner_cell">
    <div class="input_area">
<div class=" highlight hl-OCaml"><pre><span></span><span class="n">time</span> <span class="mi">500</span> <span class="o">(</span><span class="n">test_boolarray</span> <span class="mi">500</span> <span class="mi">100</span> <span class="mi">110</span><span class="o">);;</span>
</pre></div>

    </div>
</div>
</div>

<div class="output_wrapper">
<div class="output">


<div class="output_area">

    <div class="prompt"></div>


<div class="output_subarea output_stream output_stdout output_text">
<pre>    Temps en secondes: 0.008604s
</pre>
</div>
</div>

<div class="output_area">

    <div class="prompt output_prompt">Out[141]:</div>




<div class="output_text output_subarea output_execute_result">
<pre>- : float = 0.00860422200000000685
</pre>
</div>

</div>

</div>
</div>

</div>
<div class="cell border-box-sizing code_cell rendered">
<div class="input">
<div class="prompt input_prompt">In&nbsp;[142]:</div>
<div class="inner_cell">
    <div class="input_area">
<div class=" highlight hl-OCaml"><pre><span></span><span class="n">time</span> <span class="mi">500</span> <span class="o">(</span><span class="n">test_Int32Set</span> <span class="mi">500</span> <span class="mi">100</span> <span class="mi">110</span><span class="o">);;</span>
</pre></div>

    </div>
</div>
</div>

<div class="output_wrapper">
<div class="output">


<div class="output_area">

    <div class="prompt"></div>


<div class="output_subarea output_stream output_stdout output_text">
<pre>    Temps en secondes: 0.024973s
</pre>
</div>
</div>

<div class="output_area">

    <div class="prompt output_prompt">Out[142]:</div>




<div class="output_text output_subarea output_execute_result">
<pre>- : float = 0.024972699999999997
</pre>
</div>

</div>

</div>
</div>

</div>
<div class="cell border-box-sizing text_cell rendered"><div class="prompt input_prompt">
</div><div class="inner_cell">
<div class="text_cell_render border-box-sizing rendered_html">
<hr>
<h2 id="Conclusion">Conclusion<a class="anchor-link" href="#Conclusion">&#182;</a></h2><p>Tout ça n'a pas servi à grand chose, on a réussi à montrer que pour des petits entiers, utiliser un <code>bool array</code> de taille 32 (fixe) est plus efficace qu'utiliser ces <code>bit sets</code>.</p>
<p>Ça suffit pour aujourd'hui !</p>
<blockquote><p>Allez voir <a href="https://github.com/Naereen/notebooks/">d'autres notebooks</a> que j'ai écrit.</p>
</blockquote>

</div>
</div>
</div>
 


    </div>
  </div>

  </div>


  
    <footer class="footer hidden-print">
      <div class="container">
        <div class="col-md-4">
          <p>
            This website does not host notebooks, it only renders notebooks
            available on other websites.
          </p>
        </div>

        <div class="col-md-4">
          <p>
            Delivered by <a href="https://www.fastly.com/">Fastly</a>,
            Rendered by <a href="https://developer.rackspace.com/?nbviewer=awesome">Rackspace</a>
          </p>
          <p>
            nbviewer GitHub <a href="https://github.com/jupyter/nbviewer">repository</a>.
          </p>
        </div>

        <div class="col-md-4">
          
  
            
              <p>
                nbviewer version:
                <a href="https://github.com/jupyter/nbviewer/commit/07b0e305b3254e2280b29f20ceb96c058db2f775">
                  07b0e30
                </a>
              </p>
            
          
  
  <p>
    nbconvert version: <a href="https://github.com/jupyter/nbconvert/releases/tag/5.6.0">
      5.6.0
    </a>
  </p>
  

          
  
  
  <p>
    Rendered
    <span class='date' data-date='Mon, 27 Jan 2020 13:31:01 UTC' title='Mon, 27 Jan 2020 13:31:01 UTC'>(Mon, 27 Jan 2020 13:31:01 UTC)</span>
  </p>
  

        </div>
      </div>
    </footer>
  

  <script src="/static/components/bootstrap/js/bootstrap.min.js?v=5869c96cc8f19086aee625d670d741f9"></script>
  <script src="/static/components/headroom.js/dist/headroom.min.js?v=b0a311ea668f8e768ea375f4a7abb81c"></script>
  <script src="/static/components/headroom.js/dist/jQuery.headroom.min.js?v=f3a1bae118315d0c234afc74dc6aab71"></script>

  
  
  <script>
    $(function(){ $("#menubar").headroom({
      tolerance: 5,
      offset: 205,
      classes: {
        initial: "animated",
        pinned: "slideInDown",
        unpinned: "slideOutUp"
      }
    })});
  </script>


  
  <script>
    (function(i,s,o,g,r,a,m){i['GoogleAnalyticsObject']=r;i[r]=i[r]||function(){
      (i[r].q=i[r].q||[]).push(arguments)},i[r].l=1*new Date();a=s.createElement(o),
      m=s.getElementsByTagName(o)[0];a.async=1;a.src=g;m.parentNode.insertBefore(a,m)
    })(window,document,'script','https://www.google-analytics.com/analytics.js','ga');
    ga('create', 'UA-52617120-5', 'auto',
       {'storage': 'none'});
    ga('set', 'anonymizeIp', true);
    ga('send', 'pageview');
  </script>
  
  <script>
    require({
        paths: {
          moment: "/static/components/moment/min/moment.min.js?v=89f87298ad94aa1e6b92f42eb66da043"
        }
      }, ["moment"], function(moment){
      var date = $("footer .date"),
        m = moment(new Date(date.data('date'))),
        update = function(){ date.text(m.fromNow()); };
      setInterval(update, 61*1000);
      update();
      var w = $(window).scroll(function(event){
        $("body").toggleClass("scrolled", w.scrollTop() > 0);
      });
    });
  </script>

  <!--NEW RELIC Stop Perf Measurement-->
  
  <!--NEW RELIC End-->
</body>
</html>