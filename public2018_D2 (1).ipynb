








<!DOCTYPE html>
<html lang="en">

<head>
  <meta charset="utf-8">
  <title>Jupyter Notebook Viewer</title>
  <meta name="viewport" content="width=device-width, initial-scale=1.0">
  <meta name="description" content="">
  <meta name="author" content="">
  
  <meta name="robots" content="noindex,nofollow">
  

  <!--NEW RELIC Start Perf Measurement-->
  
  <!--NREND-->

  <!-- Le styles -->
  <link href="/static/build/styles.css?v=55ba354138253381d2c0ada9821cd4da" rel="stylesheet">

  <!-- Le HTML5 shim, for IE6-8 support of HTML5 elements -->
  <!--[if lt IE 9]>
    <script src="http://html5shim.googlecode.com/svn/trunk/html5.js"></script>
  <![endif]-->

  <!-- Le fav and touch icons -->
  <link rel="shortcut icon" href="/static/ico/ipynb_icon_16x16.png">
  <link rel="apple-touch-icon-precomposed" sizes="144x144"
        href="/static/ico/apple-touch-icon-144-precomposed.png?v=5a3c9ede93e2a8b8ea9e3f8f3da1a905">
  <link rel="apple-touch-icon-precomposed" sizes="114x114"
        href="/static/ico/apple-touch-icon-114-precomposed.png?v=45d86fc8f24dc00638035e1dd7a6d898">
  <link rel="apple-touch-icon-precomposed" sizes="72x72"
        href="/static/ico/apple-touch-icon-72-precomposed.png?v=540b5eb0f3cfd25f1439d1c9bd30e15f">
  <link rel="apple-touch-icon-precomposed"
        href="/static/ico/apple-touch-icon-57-precomposed.png?v=225f0590e187e1458625654f10a28f56">
  
  

  

  
  <meta name="twitter:card" content="summary">
  <meta name="twitter:title" content="Notebook on nbviewer">
  <meta name="twitter:description" content="Check out this Jupyter notebook!">

  
  <meta name="twitter:domain" content="nbviewer.jupyter.org">
  <meta name="twitter:image:src" content="http://ipython.org/ipython-doc/dev/_images/ipynb_icon_128x128.png">

  
    <link href="/static/build/notebook.css?v=aae8f92f7e80fc468ae446b9d852fe90" rel="stylesheet">
  

  

  
    <script src="https://cdnjs.cloudflare.com/ajax/libs/mathjax/2.7.1/MathJax.js?config=TeX-AMS_HTML" type="text/javascript">
    </script>
    <script type="text/javascript">
      init_mathjax = function() {
        if (window.MathJax) {
          // MathJax loaded
          MathJax.Hub.Config({
            TeX: {
              equationNumbers: {
                autoNumber: "AMS",
                useLabelIds: true
              }
            },
            tex2jax: {
              inlineMath: [ ['$','$'], ["\\(","\\)"] ],
              displayMath: [ ['$$','$$'], ["\\[","\\]"] ],
              processEscapes: true,
              processEnvironments: true
            },
            displayAlign: 'center',
            "HTML-CSS": {
              styles: {'.MathJax_Display': {"margin": 0}},
              linebreaks: { automatic: true }
            }
          });
          MathJax.Hub.Queue(["Typeset", MathJax.Hub]);
        }
      }
      init_mathjax();
    </script>
  

  
    <script>
      (function() {
        function addWidgetsRenderer() {
          var mimeElement = document.querySelector('script[type="application/vnd.jupyter.widget-view+json"]');
          var scriptElement = document.createElement('script');
          var widgetRendererSrc = 'https://unpkg.com/@jupyter-widgets/html-manager@0.15/dist/embed-amd.js';
          var widgetState;

          try {
            widgetState = mimeElement && JSON.parse(mimeElement.innerHTML);

            if (widgetState && (widgetState.version_major < 2 || !widgetState.version_major)) {
              widgetRendererSrc = 'https://unpkg.com/jupyter-js-widgets@2.1/dist/embed.js';
            }
          } catch(e) {}

          scriptElement.src = widgetRendererSrc;
          document.body.appendChild(scriptElement);
        }

        document.addEventListener('DOMContentLoaded', addWidgetsRenderer);
      }());
    </script>
  

</head>

<body class="nbviewer">

  <!-- These are loaded at the top of the body so they are available to
       notebook cells when they are loaded below. -->
  <script src="/static/components/jquery/dist/jquery.min.js?v=220afd743d9e9643852e31a135a9f3ae"></script>
  <script src="/static/components/requirejs/require.js?v=6da8be361b9ee26c5e721e76c6d4afce"></script>
  <script src="/static/components/moment/min/moment.min.js?v=89f87298ad94aa1e6b92f42eb66da043"></script>
<!-- Navbar
================================================== -->
  <nav id="menubar" class="navbar navbar-default navbar-fixed-top" data-spy="affix">
    <div class="container">
      <div class="navbar-header">
        <button type="button" class="navbar-toggle collapsed" data-toggle="collapse" data-target=".navbar-collapse">
          <span class="sr-only">Toggle navigation</span>
          <i class="fa fa-bars"></i>
        </button>
        <a class="navbar-brand" href="/">
          <img src="/static/img/nav_logo.svg?v=479cefe8d932fb14a67b93911b97d70f" width="159"/>
        </a>
      </div>

      <div class="collapse navbar-collapse">
        <ul class="nav navbar-nav navbar-right">
          <li>
            <a class="active" href="https://jupyter.org">JUPYTER</a>
          </li>
          <li>
    <a href="/faq" title="FAQ" >
      
        <span>FAQ</span>
      
    </a>
  </li>

          
  
    
  
    
      
        <li>
    <a href="/format/script/github/Naereen/notebooks/blob/master/agreg/public2018_D2.ipynb" title="View as Code" >
      <span class="fa fa-code fa-2x menu-icon"></span>
      <span class="menu-text">View as Code</span>
    </a>
  </li>
      
    
  

  
    <li>
    <a href="#" title="OCaml 4.04.2 Kernel" >
      <span class="fa fa-server fa-2x menu-icon"></span>
      <span class="menu-text">OCaml 4.04.2 Kernel</span>
    </a>
  </li>
  

  
    <li>
    <a href="https://github.com/Naereen/notebooks/blob/master/agreg/public2018_D2.ipynb" title="View on GitHub" >
      <span class="fa fa-github fa-2x menu-icon"></span>
      <span class="menu-text">View on GitHub</span>
    </a>
  </li>
  

  
    <li>
    <a href="https://mybinder.org/v2/gh/Naereen/notebooks/master?filepath=agreg/public2018_D2.ipynb" title="Execute on Binder" >
      <span class="fa fa-icon-binder fa-2x menu-icon"></span>
      <span class="menu-text">Execute on Binder</span>
    </a>
  </li>
  

  <li>
    <a href="https://raw.githubusercontent.com/Naereen/notebooks/master/agreg/public2018_D2.ipynb" title="Download Notebook" download>
      <span class="fa fa-download fa-2x menu-icon"></span>
      <span class="menu-text">Download Notebook</span>
    </a>
  </li>

        </ul>
      </div><!-- /.navbar-collapse -->
      
      
    </div>
  </nav>

  <div class="container container-main">
    
  
  <ol class="breadcrumb">
    
      <li>
        <a href="/github/Naereen/notebooks/tree/master">notebooks</a>
      </li>
    
      <li>
        <a href="/github/Naereen/notebooks/tree/master/agreg">agreg</a>
      </li>
    
  </ol>
  
  <div id="notebook">
    <div id="notebook-container">
      <div class="cell border-box-sizing text_cell rendered"><div class="prompt input_prompt">
</div><div class="inner_cell">
<div class="text_cell_render border-box-sizing rendered_html">
<h1 id="Table-of-Contents">Table of Contents<a class="anchor-link" href="#Table-of-Contents">&#182;</a></h1><p><p><div class="lev1 toc-item"><a href="#Texte-d'oral-de-modélisation---Agrégation-Option-Informatique" data-toc-modified-id="Texte-d'oral-de-modélisation---Agrégation-Option-Informatique-1"><span class="toc-item-num">1&nbsp;&nbsp;</span>Texte d'oral de modélisation - Agrégation Option Informatique</a></div><div class="lev2 toc-item"><a href="#Préparation-à-l'agrégation---ENS-de-Rennes,-2017-18" data-toc-modified-id="Préparation-à-l'agrégation---ENS-de-Rennes,-2017-18-11"><span class="toc-item-num">1.1&nbsp;&nbsp;</span>Préparation à l'agrégation - ENS de Rennes, 2017-18</a></div><div class="lev2 toc-item"><a href="#À-propos-de-ce-document" data-toc-modified-id="À-propos-de-ce-document-12"><span class="toc-item-num">1.2&nbsp;&nbsp;</span>À propos de ce document</a></div><div class="lev2 toc-item"><a href="#Question-de-programmation" data-toc-modified-id="Question-de-programmation-13"><span class="toc-item-num">1.3&nbsp;&nbsp;</span>Question de programmation</a></div><div class="lev3 toc-item"><a href="#Modélisation" data-toc-modified-id="Modélisation-131"><span class="toc-item-num">1.3.1&nbsp;&nbsp;</span>Modélisation</a></div><div class="lev2 toc-item"><a href="#Solution" data-toc-modified-id="Solution-14"><span class="toc-item-num">1.4&nbsp;&nbsp;</span>Solution</a></div><div class="lev3 toc-item"><a href="#Types-et-représentations" data-toc-modified-id="Types-et-représentations-141"><span class="toc-item-num">1.4.1&nbsp;&nbsp;</span>Types et représentations</a></div><div class="lev3 toc-item"><a href="#Algorithmes" data-toc-modified-id="Algorithmes-142"><span class="toc-item-num">1.4.2&nbsp;&nbsp;</span>Algorithmes</a></div><div class="lev2 toc-item"><a href="#Complexités" data-toc-modified-id="Complexités-15"><span class="toc-item-num">1.5&nbsp;&nbsp;</span>Complexités</a></div><div class="lev3 toc-item"><a href="#En-espace" data-toc-modified-id="En-espace-151"><span class="toc-item-num">1.5.1&nbsp;&nbsp;</span>En espace</a></div><div class="lev3 toc-item"><a href="#En-temps" data-toc-modified-id="En-temps-152"><span class="toc-item-num">1.5.2&nbsp;&nbsp;</span>En temps</a></div><div class="lev2 toc-item"><a href="#Conclusion" data-toc-modified-id="Conclusion-16"><span class="toc-item-num">1.6&nbsp;&nbsp;</span>Conclusion</a></div><div class="lev3 toc-item"><a href="#Qualités" data-toc-modified-id="Qualités-161"><span class="toc-item-num">1.6.1&nbsp;&nbsp;</span>Qualités</a></div><div class="lev3 toc-item"><a href="#Défauts" data-toc-modified-id="Défauts-162"><span class="toc-item-num">1.6.2&nbsp;&nbsp;</span>Défauts</a></div></p>

</div>
</div>
</div>
<div class="cell border-box-sizing text_cell rendered"><div class="prompt input_prompt">
</div><div class="inner_cell">
<div class="text_cell_render border-box-sizing rendered_html">
<h1 id="Texte-d'oral-de-mod&#233;lisation---Agr&#233;gation-Option-Informatique">Texte d'oral de mod&#233;lisation - Agr&#233;gation Option Informatique<a class="anchor-link" href="#Texte-d'oral-de-mod&#233;lisation---Agr&#233;gation-Option-Informatique">&#182;</a></h1><h2 id="Pr&#233;paration-&#224;-l'agr&#233;gation---ENS-de-Rennes,-2017-18">Pr&#233;paration &#224; l'agr&#233;gation - ENS de Rennes, 2017-18<a class="anchor-link" href="#Pr&#233;paration-&#224;-l'agr&#233;gation---ENS-de-Rennes,-2017-18">&#182;</a></h2><ul>
<li><em>Date</em> : 6 décembre 2017</li>
<li><em>Auteur</em> : <a href="https://GitHub.com/Naereen/notebooks/">Lilian Besson</a></li>
<li><em>Texte</em>: Annale 2018, <a href="http://agreg.org/Textes/public2018-D2.pdf">"Polynômes avec des nombres flottants" (public2018-D2)</a></li>
</ul>

</div>
</div>
</div>
<div class="cell border-box-sizing text_cell rendered"><div class="prompt input_prompt">
</div><div class="inner_cell">
<div class="text_cell_render border-box-sizing rendered_html">
<h2 id="&#192;-propos-de-ce-document">&#192; propos de ce document<a class="anchor-link" href="#&#192;-propos-de-ce-document">&#182;</a></h2><ul>
<li>Ceci est une <em>proposition</em> de correction, partielle et probablement non-optimale, pour la partie implémentation d'un <a href="http://Agreg.org/Textes/">texte d'annale de l'agrégation de mathématiques, option informatique</a>.</li>
<li>Ce document est un <a href="https://www.Jupyter.org/">notebook Jupyter</a>, et <a href="https://github.com/Naereen/notebooks/tree/master/agreg/">est open-source sous Licence MIT sur GitHub</a>, comme les autres solutions de textes de modélisation que <a href="https://GitHub.com/Naereen">j</a>'ai écrite cette année.</li>
<li>L'implémentation sera faite en OCaml, version 4+ :</li>
</ul>

</div>
</div>
</div>
<div class="cell border-box-sizing code_cell rendered">
<div class="input">
<div class="prompt input_prompt">In&nbsp;[1]:</div>
<div class="inner_cell">
    <div class="input_area">
<div class=" highlight hl-OCaml"><pre><span></span><span class="nn">Sys</span><span class="p">.</span><span class="n">command</span> <span class="s2">&quot;ocaml -version&quot;</span><span class="o">;;</span>
<span class="n">print_endline</span> <span class="nn">Sys</span><span class="p">.</span><span class="n">ocaml_version</span><span class="o">;;</span>
</pre></div>

    </div>
</div>
</div>

<div class="output_wrapper">
<div class="output">


<div class="output_area">

    <div class="prompt"></div>


<div class="output_subarea output_stream output_stdout output_text">
<pre>The OCaml toplevel, version 4.04.2
</pre>
</div>
</div>

<div class="output_area">

    <div class="prompt output_prompt">Out[1]:</div>




<div class="output_text output_subarea output_execute_result">
<pre>- : int = 0
</pre>
</div>

</div>

<div class="output_area">

    <div class="prompt"></div>


<div class="output_subarea output_stream output_stdout output_text">
<pre>4.04.2
</pre>
</div>
</div>

<div class="output_area">

    <div class="prompt output_prompt">Out[1]:</div>




<div class="output_text output_subarea output_execute_result">
<pre>- : unit = ()
</pre>
</div>

</div>

</div>
</div>

</div>
<div class="cell border-box-sizing code_cell rendered">
<div class="input">
<div class="prompt input_prompt">In&nbsp;[7]:</div>
<div class="inner_cell">
    <div class="input_area">
<div class=" highlight hl-OCaml"><pre><span></span><span class="k">let</span> <span class="n">print</span> <span class="n">f</span> <span class="o">=</span>
    <span class="k">let</span> <span class="n">r</span> <span class="o">=</span> <span class="nn">Printf</span><span class="p">.</span><span class="n">printf</span> <span class="n">f</span> <span class="k">in</span>
    <span class="n">flush_all</span><span class="bp">()</span><span class="o">;</span>
    <span class="n">r</span>
<span class="o">;;</span>
</pre></div>

    </div>
</div>
</div>

<div class="output_wrapper">
<div class="output">


<div class="output_area">

    <div class="prompt output_prompt">Out[7]:</div>




<div class="output_text output_subarea output_execute_result">
<pre>val print : (&#39;a, out_channel, unit) format -&gt; &#39;a = &lt;fun&gt;
</pre>
</div>

</div>

</div>
</div>

</div>
<div class="cell border-box-sizing text_cell rendered"><div class="prompt input_prompt">
</div><div class="inner_cell">
<div class="text_cell_render border-box-sizing rendered_html">
<hr>
<h2 id="Question-de-programmation">Question de programmation<a class="anchor-link" href="#Question-de-programmation">&#182;</a></h2><p>La question de programmation pour ce texte était donnée en page 6 :</p>
<p>Cet exercice consiste à observer le comportement des nombres en virgule flottante de la
machine.
Toutes les variables utilisées seront de type <code>double</code> ou <code>float</code> selon le langage choisi.
On écrit un programme qui évalue $$S = \sum_{i=0}^{\infty} \left(1 - \frac{1}{\rho}\right)^i$$
où $\rho$ est une puissance de $2$ suffisamment grande, par exemple $\rho = 2^{20}$.</p>
<p>Si on calcule naïvement $S_n = \sum_{i=0}^{n} (1 - \frac{1}{\rho})^i$, en ajoutant les termes un par un dans l'ordre des puissances croissantes, on remarque quand $n$ est suffisamment grand, $S_{n+1} = S_n \oplus (1 - \frac{1}{\rho})^{n+1}$
lorsqu’on calcule en <code>double</code> (ou <code>float</code>).</p>
<p>En évaluant $S$ sous la forme $$S = \sum_{j=0}^{\infty} \sum_{k=0}^{K-1} \left(1 - \frac{1}{\rho}\right)^{jK + k}$$
ce phénomène se produit pour des rangs plus grands que précedemment, l'approximation de $S$ calculée est donc meilleure. On pourra essayer plusieurs valeurs de $K$ ($1,10,100,1000,10000$) et comparer. $K = 1$ correspond au calcul naïf de $S$ ci-dessus.
Optionnellement, le programme pourra également calculer une borne sur l’erreur com-
mise sur $S$.</p>
<h3 id="Mod&#233;lisation">Mod&#233;lisation<a class="anchor-link" href="#Mod&#233;lisation">&#182;</a></h3><p>On est libre de choisir l'approche, mais ici il n'y a pas tellement de choix, on va utiliser des <code>float</code> de OCaml.</p>

</div>
</div>
</div>
<div class="cell border-box-sizing text_cell rendered"><div class="prompt input_prompt">
</div><div class="inner_cell">
<div class="text_cell_render border-box-sizing rendered_html">
<hr>
<h2 id="Solution">Solution<a class="anchor-link" href="#Solution">&#182;</a></h2><p>On va essayer d'être rapide et de faire simple.</p>

</div>
</div>
</div>
<div class="cell border-box-sizing text_cell rendered"><div class="prompt input_prompt">
</div><div class="inner_cell">
<div class="text_cell_render border-box-sizing rendered_html">
<h3 id="Types-et-repr&#233;sentations">Types et repr&#233;sentations<a class="anchor-link" href="#Types-et-repr&#233;sentations">&#182;</a></h3><p>Rien à faire ici, on va travailler avec des <code>float</code> de OCaml classiques.</p>

</div>
</div>
</div>
<div class="cell border-box-sizing text_cell rendered"><div class="prompt input_prompt">
</div><div class="inner_cell">
<div class="text_cell_render border-box-sizing rendered_html">
<h3 id="Algorithmes">Algorithmes<a class="anchor-link" href="#Algorithmes">&#182;</a></h3>
</div>
</div>
</div>
<div class="cell border-box-sizing text_cell rendered"><div class="prompt input_prompt">
</div><div class="inner_cell">
<div class="text_cell_render border-box-sizing rendered_html">
<p>Première méthode de calcul. On remarque qu'on est déjà malin, on n'utilise aucune exponentiation mais simplement un accumulateur <code>terme</code> qui vaut $(1-1/\rho)^j$ pour les valeurs successives de $j$, et qu'on met à jour par une simple multiplication.</p>

</div>
</div>
</div>
<div class="cell border-box-sizing code_cell rendered">
<div class="input">
<div class="prompt input_prompt">In&nbsp;[39]:</div>
<div class="inner_cell">
    <div class="input_area">
<div class=" highlight hl-OCaml"><pre><span></span><span class="k">let</span> <span class="n">premiercalcul</span> <span class="o">(</span><span class="n">rho</span> <span class="o">:</span> <span class="kt">float</span><span class="o">)</span> <span class="o">(</span><span class="n">n</span> <span class="o">:</span> <span class="kt">int</span><span class="o">)</span> <span class="o">=</span>
    <span class="k">let</span> <span class="n">somme</span> <span class="o">=</span> <span class="n">ref</span> <span class="mi">0</span><span class="o">.</span> <span class="k">in</span>
    <span class="k">let</span> <span class="n">unmoinsunsurrho</span> <span class="o">=</span> <span class="mi">1</span><span class="o">.</span> <span class="o">-.</span> <span class="o">(</span><span class="mi">1</span><span class="o">.</span> <span class="o">/.</span> <span class="n">rho</span><span class="o">)</span> <span class="k">in</span>
    <span class="k">let</span> <span class="n">terme</span> <span class="o">=</span> <span class="n">ref</span> <span class="mi">1</span><span class="o">.</span> <span class="k">in</span>
    <span class="k">for</span> <span class="o">_</span> <span class="o">=</span> <span class="mi">0</span> <span class="k">to</span> <span class="n">n</span> <span class="k">do</span>  <span class="c">(* terme = (1-1/rho)^j pour j = _ *)</span>
        <span class="n">somme</span> <span class="o">:=</span> <span class="o">!</span><span class="n">somme</span> <span class="o">+.</span> <span class="o">!</span><span class="n">terme</span><span class="o">;</span> <span class="c">(* somme = sum_k=0^j terme_k *)</span>
        <span class="n">terme</span> <span class="o">:=</span> <span class="o">!</span><span class="n">terme</span> <span class="o">*.</span> <span class="n">unmoinsunsurrho</span><span class="o">;</span> <span class="c">(* conserve l&#39;invariant de boucle *)</span>
    <span class="k">done</span><span class="o">;</span>
    <span class="o">!</span><span class="n">somme</span>
<span class="o">;;</span>
</pre></div>

    </div>
</div>
</div>

<div class="output_wrapper">
<div class="output">


<div class="output_area">

    <div class="prompt output_prompt">Out[39]:</div>




<div class="output_text output_subarea output_execute_result">
<pre>val premiercalcul : float -&gt; int -&gt; float = &lt;fun&gt;
</pre>
</div>

</div>

</div>
</div>

</div>
<div class="cell border-box-sizing text_cell rendered"><div class="prompt input_prompt">
</div><div class="inner_cell">
<div class="text_cell_render border-box-sizing rendered_html">
<p>Voyons un exemple :</p>

</div>
</div>
</div>
<div class="cell border-box-sizing code_cell rendered">
<div class="input">
<div class="prompt input_prompt">In&nbsp;[10]:</div>
<div class="inner_cell">
    <div class="input_area">
<div class=" highlight hl-OCaml"><pre><span></span><span class="k">let</span> <span class="n">rho</span> <span class="o">=</span> <span class="mi">2</span><span class="o">.</span> <span class="o">**</span> <span class="mi">20</span><span class="o">.;;</span>
</pre></div>

    </div>
</div>
</div>

<div class="output_wrapper">
<div class="output">


<div class="output_area">

    <div class="prompt output_prompt">Out[10]:</div>




<div class="output_text output_subarea output_execute_result">
<pre>val rho : float = 1048576.
</pre>
</div>

</div>

</div>
</div>

</div>
<div class="cell border-box-sizing code_cell rendered">
<div class="input">
<div class="prompt input_prompt">In&nbsp;[14]:</div>
<div class="inner_cell">
    <div class="input_area">
<div class=" highlight hl-OCaml"><pre><span></span><span class="mi">1</span><span class="o">.</span> <span class="o">-.</span> <span class="mi">1</span><span class="o">.</span> <span class="o">/.</span> <span class="n">rho</span><span class="o">;;</span>
</pre></div>

    </div>
</div>
</div>

<div class="output_wrapper">
<div class="output">


<div class="output_area">

    <div class="prompt output_prompt">Out[14]:</div>




<div class="output_text output_subarea output_execute_result">
<pre>- : float = 0.999999046325683594
</pre>
</div>

</div>

</div>
</div>

</div>
<div class="cell border-box-sizing text_cell rendered"><div class="prompt input_prompt">
</div><div class="inner_cell">
<div class="text_cell_render border-box-sizing rendered_html">
<p>Cette valeur est proche de $1$, mais strictement plus petite que $1$, et donc $(1-1/\rho)^i \to 0$ géométriquement vite, ainsi $S_n$ converge bien vers $S$ pour $n \to \infty$.</p>

</div>
</div>
</div>
<div class="cell border-box-sizing code_cell rendered">
<div class="input">
<div class="prompt input_prompt">In&nbsp;[40]:</div>
<div class="inner_cell">
    <div class="input_area">
<div class=" highlight hl-OCaml"><pre><span></span><span class="k">for</span> <span class="n">n</span> <span class="o">=</span> <span class="mi">0</span> <span class="k">to</span> <span class="mi">10</span> <span class="k">do</span>
    <span class="n">print</span> <span class="s2">&quot;</span><span class="se">\n</span><span class="s2">S_%i </span><span class="se">\t</span><span class="s2">= %g&quot;</span> <span class="n">n</span> <span class="o">(</span><span class="n">premiercalcul</span> <span class="n">rho</span> <span class="n">n</span><span class="o">);</span>
<span class="k">done</span><span class="o">;</span>
</pre></div>

    </div>
</div>
</div>

<div class="output_wrapper">
<div class="output">


<div class="output_area">

    <div class="prompt"></div>


<div class="output_subarea output_stream output_stdout output_text">
<pre>S_10000 	= 1.04847e+06
S_100000 	= 1.04847e+06
S_0 	= 1
S_1 	= 2
S_2 	= 3
S_3 	= 3.99999
S_4 	= 4.99999
S_5 	= 5.99999
S_6 	= 6.99998
S_7 	= 7.99997
S_8 	= 8.99997
</pre>
</div>
</div>

<div class="output_area">

    <div class="prompt output_prompt">Out[40]:</div>




<div class="output_text output_subarea output_execute_result">
<pre>- : unit = ()
</pre>
</div>

</div>

</div>
</div>

</div>
<div class="cell border-box-sizing code_cell rendered">
<div class="input">
<div class="prompt input_prompt">In&nbsp;[42]:</div>
<div class="inner_cell">
    <div class="input_area">
<div class=" highlight hl-OCaml"><pre><span></span><span class="k">for</span> <span class="n">n</span> <span class="o">=</span> <span class="mi">1000</span> <span class="k">to</span> <span class="mi">1010</span> <span class="k">do</span>
    <span class="n">print</span> <span class="s2">&quot;</span><span class="se">\n</span><span class="s2">S_%i </span><span class="se">\t</span><span class="s2">= %g&quot;</span> <span class="n">n</span> <span class="o">(</span><span class="n">premiercalcul</span> <span class="n">rho</span> <span class="n">n</span><span class="o">);</span>
<span class="k">done</span><span class="o">;</span>
</pre></div>

    </div>
</div>
</div>

<div class="output_wrapper">
<div class="output">


<div class="output_area">

    <div class="prompt"></div>


<div class="output_subarea output_stream output_stdout output_text">
<pre>S_1009 	= 1009.51
S_1010 	= 1010.51
S_1000 	= 1000.52
S_1001 	= 1001.52
S_1002 	= 1002.52
S_1003 	= 1003.52
S_1004 	= 1004.52
S_1005 	= 1005.52
S_1006 	= 1006.52
S_1007 	= 1007.52
S_1008 	= 1008.52
</pre>
</div>
</div>

<div class="output_area">

    <div class="prompt output_prompt">Out[42]:</div>




<div class="output_text output_subarea output_execute_result">
<pre>- : unit = ()
</pre>
</div>

</div>

</div>
</div>

</div>
<div class="cell border-box-sizing text_cell rendered"><div class="prompt input_prompt">
</div><div class="inner_cell">
<div class="text_cell_render border-box-sizing rendered_html">
<p>Deuxième méthode de calcul :</p>

</div>
</div>
</div>
<div class="cell border-box-sizing code_cell rendered">
<div class="input">
<div class="prompt input_prompt">In&nbsp;[21]:</div>
<div class="inner_cell">
    <div class="input_area">
<div class=" highlight hl-OCaml"><pre><span></span><span class="k">let</span> <span class="n">deuxiemecalcul</span> <span class="o">(</span><span class="n">rho</span> <span class="o">:</span> <span class="kt">float</span><span class="o">)</span> <span class="o">(</span><span class="n">k</span> <span class="o">:</span> <span class="kt">int</span><span class="o">)</span> <span class="o">(</span><span class="n">n</span> <span class="o">:</span> <span class="kt">int</span><span class="o">)</span> <span class="o">=</span>
    <span class="k">let</span> <span class="n">somme</span> <span class="o">=</span> <span class="n">ref</span> <span class="mi">0</span><span class="o">.</span> <span class="k">in</span>
    <span class="k">let</span> <span class="n">unmoinsunsurrho</span> <span class="o">=</span> <span class="mi">1</span><span class="o">.</span> <span class="o">-.</span> <span class="o">(</span><span class="mi">1</span><span class="o">.</span> <span class="o">/.</span> <span class="n">rho</span><span class="o">)</span> <span class="k">in</span>
    <span class="k">let</span> <span class="n">terme</span> <span class="o">=</span> <span class="n">ref</span> <span class="mi">1</span><span class="o">.</span> <span class="k">in</span>
    <span class="k">for</span> <span class="o">_</span> <span class="o">=</span> <span class="mi">0</span> <span class="k">to</span> <span class="n">n</span> <span class="k">do</span>
        <span class="k">for</span> <span class="o">_</span> <span class="o">=</span> <span class="mi">0</span> <span class="k">to</span> <span class="n">k</span><span class="o">-</span><span class="mi">1</span> <span class="k">do</span>
            <span class="n">somme</span> <span class="o">:=</span> <span class="o">!</span><span class="n">somme</span> <span class="o">+.</span> <span class="o">!</span><span class="n">terme</span><span class="o">;</span>
            <span class="n">terme</span> <span class="o">:=</span> <span class="o">!</span><span class="n">terme</span> <span class="o">*.</span> <span class="n">unmoinsunsurrho</span><span class="o">;</span>
        <span class="k">done</span><span class="o">;</span>
        <span class="n">terme</span> <span class="o">:=</span> <span class="o">!</span><span class="n">terme</span> <span class="o">*.</span> <span class="n">unmoinsunsurrho</span><span class="o">;</span>
    <span class="k">done</span><span class="o">;</span>
    <span class="o">!</span><span class="n">somme</span>
<span class="o">;;</span>
</pre></div>

    </div>
</div>
</div>

<div class="output_wrapper">
<div class="output">


<div class="output_area">

    <div class="prompt output_prompt">Out[21]:</div>




<div class="output_text output_subarea output_execute_result">
<pre>val deuxiemecalcul : float -&gt; int -&gt; int -&gt; float = &lt;fun&gt;
</pre>
</div>

</div>

</div>
</div>

</div>
<div class="cell border-box-sizing text_cell rendered"><div class="prompt input_prompt">
</div><div class="inner_cell">
<div class="text_cell_render border-box-sizing rendered_html">
<p>Voyons le même exemple :</p>

</div>
</div>
</div>
<div class="cell border-box-sizing code_cell rendered">
<div class="input">
<div class="prompt input_prompt">In&nbsp;[27]:</div>
<div class="inner_cell">
    <div class="input_area">
<div class=" highlight hl-OCaml"><pre><span></span><span class="k">let</span> <span class="n">valeurs_k</span> <span class="o">=</span> <span class="o">[|</span><span class="mi">1</span><span class="o">;</span> <span class="mi">10</span><span class="o">;</span> <span class="mi">100</span><span class="o">;</span> <span class="mi">1000</span><span class="o">;</span> <span class="mi">10000</span><span class="o">|]</span> <span class="k">in</span>

<span class="k">for</span> <span class="n">i</span> <span class="o">=</span> <span class="mi">0</span> <span class="k">to</span> <span class="o">(</span><span class="nn">Array</span><span class="p">.</span><span class="n">length</span> <span class="n">valeurs_k</span><span class="o">)</span> <span class="o">-</span> <span class="mi">1</span> <span class="k">do</span>
    <span class="k">let</span> <span class="n">k</span> <span class="o">=</span> <span class="n">valeurs_k</span><span class="o">.(</span><span class="n">i</span><span class="o">)</span> <span class="k">in</span>
    <span class="n">print</span> <span class="s2">&quot;</span><span class="se">\n\n</span><span class="s2">For K = %i ...&quot;</span> <span class="n">k</span><span class="o">;</span>
    <span class="k">for</span> <span class="n">n</span> <span class="o">=</span> <span class="mi">0</span> <span class="k">to</span> <span class="mi">10</span> <span class="k">do</span>
        <span class="n">print</span> <span class="s2">&quot;</span><span class="se">\n</span><span class="s2">S_%i </span><span class="se">\t</span><span class="s2">= %g&quot;</span> <span class="n">n</span> <span class="o">(</span><span class="n">deuxiemecalcul</span> <span class="n">rho</span> <span class="n">k</span> <span class="n">n</span><span class="o">);</span>
    <span class="k">done</span><span class="o">;</span>
<span class="k">done</span><span class="o">;</span>
</pre></div>

    </div>
</div>
</div>

<div class="output_wrapper">
<div class="output">


<div class="output_area">

    <div class="prompt"></div>


<div class="output_subarea output_stream output_stdout output_text">
<pre>S_9 	= 95379.3
S_10 	= 104426

For K = 1 ...
S_0 	= 1
S_1 	= 2
S_2 	= 2.99999
S_3 	= 3.99999
S_4 	= 4.99998
S_5 	= 5.99997
S_6 	= 6.99996
S_7 	= 7.99995
S_8 	= 8.99993
S_9 	= 9.99991
S_10 	= 10.9999

For K = 10 ...
S_0 	= 9.99996
S_1 	= 19.9998
S_2 	= 29.9996
S_3 	= 39.9992
S_4 	= 49.9987
S_5 	= 59.9982
S_6 	= 69.9975
S_7 	= 79.9967
S_8 	= 89.9958
S_9 	= 99.9949
S_10 	= 109.994

For K = 100 ...
S_0 	= 99.9953
S_1 	= 199.981
S_2 	= 299.957
S_3 	= 399.923
S_4 	= 499.88
S_5 	= 599.827
S_6 	= 699.765
S_7 	= 799.693
S_8 	= 899.611
S_9 	= 999.52
S_10 	= 1099.42

For K = 1000 ...
S_0 	= 999.524
S_1 	= 1998.09
S_2 	= 2995.71
S_3 	= 3992.38
S_4 	= 4988.09
S_5 	= 5982.86
S_6 	= 6976.67
S_7 	= 7969.54
S_8 	= 8961.46
S_9 	= 9952.43
S_10 	= 10942.5

For K = 10000 ...
S_0 	= 9952.47
S_1 	= 19810.5
S_2 	= 29574.9
S_3 	= 39246.6
S_4 	= 48826.6
S_5 	= 58315.6
S_6 	= 67714.5
S_7 	= 77024.2
</pre>
</div>
</div>

<div class="output_area">

    <div class="prompt output_prompt">Out[27]:</div>




<div class="output_text output_subarea output_execute_result">
<pre>- : unit = ()
</pre>
</div>

</div>

<div class="output_area">

    <div class="prompt"></div>


<div class="output_subarea output_stream output_stdout output_text">
<pre>S_8 	= 86245.5
</pre>
</div>
</div>

</div>
</div>

</div>
<div class="cell border-box-sizing text_cell rendered"><div class="prompt input_prompt">
</div><div class="inner_cell">
<div class="text_cell_render border-box-sizing rendered_html">
<p>Avec de grandes valeurs de $n$, on semble converger vers la limite $S$, d'autant plus vite que $K$ est grand.</p>

</div>
</div>
</div>
<div class="cell border-box-sizing code_cell rendered">
<div class="input">
<div class="prompt input_prompt">In&nbsp;[38]:</div>
<div class="inner_cell">
    <div class="input_area">
<div class=" highlight hl-OCaml"><pre><span></span><span class="k">let</span> <span class="n">valeurs_n</span> <span class="o">=</span> <span class="o">[|</span><span class="mi">100</span><span class="o">;</span> <span class="mi">1000</span><span class="o">;</span> <span class="mi">10000</span><span class="o">;</span> <span class="mi">100000</span><span class="o">|]</span> <span class="k">in</span>
<span class="k">let</span> <span class="n">valeurs_k</span> <span class="o">=</span> <span class="o">[|</span><span class="mi">1</span><span class="o">;</span> <span class="mi">10</span><span class="o">;</span> <span class="mi">100</span><span class="o">;</span> <span class="mi">1000</span><span class="o">;</span> <span class="mi">10000</span><span class="o">|]</span> <span class="k">in</span>

<span class="k">for</span> <span class="n">i</span> <span class="o">=</span> <span class="mi">0</span> <span class="k">to</span> <span class="o">(</span><span class="nn">Array</span><span class="p">.</span><span class="n">length</span> <span class="n">valeurs_k</span><span class="o">)</span> <span class="o">-</span> <span class="mi">1</span> <span class="k">do</span>
    <span class="k">let</span> <span class="n">k</span> <span class="o">=</span> <span class="n">valeurs_k</span><span class="o">.(</span><span class="n">i</span><span class="o">)</span> <span class="k">in</span>
    <span class="n">print</span> <span class="s2">&quot;</span><span class="se">\n\n</span><span class="s2">For K = %i ...&quot;</span> <span class="n">k</span><span class="o">;</span>
    <span class="k">for</span> <span class="n">j</span> <span class="o">=</span> <span class="mi">0</span> <span class="k">to</span> <span class="o">(</span><span class="nn">Array</span><span class="p">.</span><span class="n">length</span> <span class="n">valeurs_n</span><span class="o">)</span> <span class="o">-</span> <span class="mi">1</span> <span class="k">do</span>
        <span class="k">let</span> <span class="n">n</span> <span class="o">=</span> <span class="n">valeurs_n</span><span class="o">.(</span><span class="n">j</span><span class="o">)</span> <span class="k">in</span>
        <span class="n">print</span> <span class="s2">&quot;</span><span class="se">\n</span><span class="s2">S_%i </span><span class="se">\t</span><span class="s2">= %g&quot;</span> <span class="n">n</span> <span class="o">(</span><span class="n">deuxiemecalcul</span> <span class="n">rho</span> <span class="n">k</span> <span class="n">n</span><span class="o">);</span>
    <span class="k">done</span><span class="o">;</span>
<span class="k">done</span><span class="o">;</span>
</pre></div>

    </div>
</div>
</div>

<div class="output_wrapper">
<div class="output">


<div class="output_area">

    <div class="prompt"></div>


<div class="output_subarea output_stream output_stdout output_text">
<pre>S_10000 	= 1.04847e+06
S_100000 	= 1.04847e+06

For K = 1 ...
S_100 	= 100.99
S_1000 	= 1000.05
S_10000 	= 9906.23
S_100000 	= 91042.7

For K = 10 ...
S_100 	= 1009.47
S_1000 	= 9957.64
S_10000 	= 94942.6
S_100000 	= 619357

For K = 100 ...
S_100 	= 10051
S_1000 	= 95425.8
S_10000 	= 641990
S_100000 	= 1.03813e+06

For K = 1000 ...
S_100 	= 96283.8
S_1000 	= 644662
S_10000 	= 1.04745e+06
S_100000 	= 1.04753e+06

For K = 10000 ...
S_100 	= 648345
S_1000 	= 1.0484e+06
</pre>
</div>
</div>

<div class="output_area">

    <div class="prompt output_prompt">Out[38]:</div>




<div class="output_text output_subarea output_execute_result">
<pre>- : unit = ()
</pre>
</div>

</div>

</div>
</div>

</div>
<div class="cell border-box-sizing text_cell rendered"><div class="prompt input_prompt">
</div><div class="inner_cell">
<div class="text_cell_render border-box-sizing rendered_html">
<h2 id="Complexit&#233;s">Complexit&#233;s<a class="anchor-link" href="#Complexit&#233;s">&#182;</a></h2>
</div>
</div>
</div>
<div class="cell border-box-sizing text_cell rendered"><div class="prompt input_prompt">
</div><div class="inner_cell">
<div class="text_cell_render border-box-sizing rendered_html">
<h3 id="En-espace">En espace<a class="anchor-link" href="#En-espace">&#182;</a></h3><p>Ces calculs coûtent un espace constant en mémoire.</p>
<p>(ou $\log n$ si on considère que stocker des entiers bornés par $n$ coûtent un espace $\log n$)</p>

</div>
</div>
</div>
<div class="cell border-box-sizing text_cell rendered"><div class="prompt input_prompt">
</div><div class="inner_cell">
<div class="text_cell_render border-box-sizing rendered_html">
<h3 id="En-temps">En temps<a class="anchor-link" href="#En-temps">&#182;</a></h3><p>Ces calculs coûtent un temps linéaire en $n$.</p>

</div>
</div>
</div>
<div class="cell border-box-sizing text_cell rendered"><div class="prompt input_prompt">
</div><div class="inner_cell">
<div class="text_cell_render border-box-sizing rendered_html">
<hr>
<h2 id="Conclusion">Conclusion<a class="anchor-link" href="#Conclusion">&#182;</a></h2><p>Voilà pour la question obligatoire de programmation.</p>
<h3 id="Qualit&#233;s">Qualit&#233;s<a class="anchor-link" href="#Qualit&#233;s">&#182;</a></h3><ul>
<li>On a fait des exemples et <em>on les garde</em> dans ce qu'on présente au jury,</li>
<li>On a testé la fonction exigée sur de petits exemples et sur un exemple de taille réelle (venant du texte).</li>
</ul>
<h3 id="D&#233;fauts">D&#233;fauts<a class="anchor-link" href="#D&#233;fauts">&#182;</a></h3><ul>
<li>Par contre, on est un peu pauvre en visualisation et explication,</li>
<li>Et on a implémenté aucun autre développement. A suivre, j'en ajouterai quand je peux.</li>
</ul>
<blockquote><p>Bien-sûr, ce petit notebook ne se prétend pas être une solution optimale, ni exhaustive.</p>
<p>Vous auriez pu choisir de modéliser le problème avec une autre approche, mais je ne vois pas ce qu'on aurait pu faire différement.</p>
</blockquote>

</div>
</div>
</div>
<div class="cell border-box-sizing text_cell rendered"><div class="prompt input_prompt">
</div><div class="inner_cell">
<div class="text_cell_render border-box-sizing rendered_html">
<blockquote><p>C'est tout pour aujourd'hui les amis, allez voir <a href="https://github.com/Naereen/notebooks/tree/master/agreg">ici pour d'autres corrections</a>, et que la force soit avec vous !</p>
</blockquote>

</div>
</div>
</div>
 


    </div>
  </div>

  </div>


  
    <footer class="footer hidden-print">
      <div class="container">
        <div class="col-md-4">
          <p>
            This website does not host notebooks, it only renders notebooks
            available on other websites.
          </p>
        </div>

        <div class="col-md-4">
          <p>
            Delivered by <a href="https://www.fastly.com/">Fastly</a>,
            Rendered by <a href="https://developer.rackspace.com/?nbviewer=awesome">Rackspace</a>
          </p>
          <p>
            nbviewer GitHub <a href="https://github.com/jupyter/nbviewer">repository</a>.
          </p>
        </div>

        <div class="col-md-4">
          
  
            
              <p>
                nbviewer version:
                <a href="https://github.com/jupyter/nbviewer/commit/07b0e305b3254e2280b29f20ceb96c058db2f775">
                  07b0e30
                </a>
              </p>
            
          
  
  <p>
    nbconvert version: <a href="https://github.com/jupyter/nbconvert/releases/tag/5.6.0">
      5.6.0
    </a>
  </p>
  

          
  
  
  <p>
    Rendered
    <span class='date' data-date='Mon, 27 Jan 2020 13:30:57 UTC' title='Mon, 27 Jan 2020 13:30:57 UTC'>(Mon, 27 Jan 2020 13:30:57 UTC)</span>
  </p>
  

        </div>
      </div>
    </footer>
  

  <script src="/static/components/bootstrap/js/bootstrap.min.js?v=5869c96cc8f19086aee625d670d741f9"></script>
  <script src="/static/components/headroom.js/dist/headroom.min.js?v=b0a311ea668f8e768ea375f4a7abb81c"></script>
  <script src="/static/components/headroom.js/dist/jQuery.headroom.min.js?v=f3a1bae118315d0c234afc74dc6aab71"></script>

  
  
  <script>
    $(function(){ $("#menubar").headroom({
      tolerance: 5,
      offset: 205,
      classes: {
        initial: "animated",
        pinned: "slideInDown",
        unpinned: "slideOutUp"
      }
    })});
  </script>


  
  <script>
    (function(i,s,o,g,r,a,m){i['GoogleAnalyticsObject']=r;i[r]=i[r]||function(){
      (i[r].q=i[r].q||[]).push(arguments)},i[r].l=1*new Date();a=s.createElement(o),
      m=s.getElementsByTagName(o)[0];a.async=1;a.src=g;m.parentNode.insertBefore(a,m)
    })(window,document,'script','https://www.google-analytics.com/analytics.js','ga');
    ga('create', 'UA-52617120-5', 'auto',
       {'storage': 'none'});
    ga('set', 'anonymizeIp', true);
    ga('send', 'pageview');
  </script>
  
  <script>
    require({
        paths: {
          moment: "/static/components/moment/min/moment.min.js?v=89f87298ad94aa1e6b92f42eb66da043"
        }
      }, ["moment"], function(moment){
      var date = $("footer .date"),
        m = moment(new Date(date.data('date'))),
        update = function(){ date.text(m.fromNow()); };
      setInterval(update, 61*1000);
      update();
      var w = $(window).scroll(function(event){
        $("body").toggleClass("scrolled", w.scrollTop() > 0);
      });
    });
  </script>

  <!--NEW RELIC Stop Perf Measurement-->
  
  <!--NEW RELIC End-->
</body>
</html>