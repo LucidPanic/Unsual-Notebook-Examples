{
 "cells": [
  {
   "cell_type": "markdown",
   "metadata": {},
   "source": [
    "# Functional Programming in Python\n",
    "## David Mertz\n",
    "### dmertz@continuum.io\n",
    "### 2016-04-22"
   ]
  },
  {
   "cell_type": "markdown",
   "metadata": {},
   "source": [
    "# Table of Contents\n",
    "* [Advanced Python](#Advanced-Python)\n",
    "* [Learning Objectives:](#Learning-Objectives:)\n",
    "\t* [Magic Methods](#Magic-Methods)\n",
    "\t* [Comparison Methods](#Comparison-Methods)\n",
    "\t* [Arithmetic Methods](#Arithmetic-Methods)\n",
    "* [Exercise (create a magic object)](#Exercise-%28create-a-magic-object%29)"
   ]
  },
  {
   "cell_type": "markdown",
   "metadata": {},
   "source": [
    "# Advanced Python"
   ]
  },
  {
   "cell_type": "markdown",
   "metadata": {},
   "source": [
    "# Learning Objectives:"
   ]
  },
  {
   "cell_type": "markdown",
   "metadata": {},
   "source": [
    "* Magic methods and overloading operators\n",
    "* The `__new__()` method, and its difference from `__init__()`\n",
    "* Defining various operators or other syntax sugar, e.g. `__mul__()`, `__call__()`, `__lt__()`\n",
    "* Unicode subtleties\n",
    "* Generators and coroutines\n",
    "* Metaclasses\n",
    "* Decorators\n",
    "* Context managers\n",
    "* C3 MRO linearization\n",
    "* Longer discussion of complexity classes of standard containers\n",
    "* Functional programming techniques\n",
    "* Properties and accessors\n",
    "* Closures and function factories\n",
    "* import hooks\n",
    "\n",
    "Highlighting some standard library modules such as:\n",
    "* asyncore\n",
    "* multiprocessing\n",
    "* subprocess\n",
    "* threading\n",
    "* ast and dis"
   ]
  },
  {
   "cell_type": "markdown",
   "metadata": {},
   "source": [
    "## Magic Methods"
   ]
  },
  {
   "cell_type": "markdown",
   "metadata": {},
   "source": [
    "Python objects have various methods that can be used.  Sometimes called \"dunder\" methods because of the double underscores surrounding the method name, these methods are used internally by Python to manipulate an object.\n",
    "Note that the base object type in Python has generic versions of these methods defined.  Your object will inherit these methods when it inherits from ```object```.\n",
    "\n",
    "Creating vs Initializing an object.\n",
    "There are two methods that Python calls on every object that is created.\n",
    "These methods are ```__new__()``` and ```__init__()```.  In most cases, defining a ```__new__``` method is not necessary.\n",
    "```__new__()``` is called the creation of a new object.  By the time ```__init__()``` is called, the object already exists and only needs to be initialized.  If you're coming from a language like C/C++, ```__init__()``` != object constructor; ```__new__()``` == object constructor."
   ]
  },
  {
   "cell_type": "code",
   "execution_count": null,
   "metadata": {
    "collapsed": false
   },
   "outputs": [],
   "source": [
    "# Create an instance whose type is determined at runtime\n",
    "import numbers\n",
    "import decimal\n",
    "numbers.Real.register(decimal.Decimal)\n",
    "class RealNumber(object):\n",
    "    def __new__(cls, val, style=float):\n",
    "        print(\"Creating the object as type\", style, \"using value\", repr(val))\n",
    "        # Here is where we create the new object.\n",
    "        try:\n",
    "            instance = style.__new__(style, val)\n",
    "        except (decimal.InvalidOperation, ValueError, TypeError) as err:\n",
    "            print(\"... must evaluate expression to float first\")\n",
    "            instance = style.__new__(style, eval(val))\n",
    "        if not isinstance(instance, numbers.Real):\n",
    "            raise TypeError(\"Must create Real number type, not %s\" % style)\n",
    "        # We must return the new object, or our work was for naught.\n",
    "        return instance"
   ]
  },
  {
   "cell_type": "code",
   "execution_count": null,
   "metadata": {
    "collapsed": false
   },
   "outputs": [],
   "source": [
    "from fractions import Fraction\n",
    "from decimal import Decimal\n",
    "x = RealNumber(\"1/3\", style=Fraction)\n",
    "y = RealNumber(\"1/3\", Decimal)\n",
    "z = RealNumber(\"1/3\", float)\n",
    "w = RealNumber(\"1/3\", int)\n",
    "x, y, z, w"
   ]
  },
  {
   "cell_type": "code",
   "execution_count": null,
   "metadata": {
    "collapsed": false
   },
   "outputs": [],
   "source": [
    "RealNumber(\"1/3\")\n",
    "RealNumber(1/3);"
   ]
  },
  {
   "cell_type": "code",
   "execution_count": null,
   "metadata": {
    "collapsed": false,
    "raises": "TypeError"
   },
   "outputs": [],
   "source": [
    "s = RealNumber(\"1/3\", str)"
   ]
  },
  {
   "cell_type": "code",
   "execution_count": null,
   "metadata": {
    "collapsed": false,
    "raises": "TypeError"
   },
   "outputs": [],
   "source": [
    "c = RealNumber(\"1+1j\", complex)"
   ]
  },
  {
   "cell_type": "markdown",
   "metadata": {},
   "source": [
    "## Comparison Methods"
   ]
  },
  {
   "cell_type": "markdown",
   "metadata": {},
   "source": [
    "Sometimes, we may wish to customize how to compare object with other objects.  We can define what different comparison operators mean.  These comparison methods should return a boolean (True/False) value.  All of these methods take one argument, a reference to the object to use for comparing.\n",
    "\n",
    "| Method  | Operator  |\n",
    "|---|---|\n",
    "| ```__lt__```  | <  |\n",
    "| ```__eq__```  | ==  |\n",
    "| ```__le__```  | <=  |\n",
    "| ```__gt__```  | > \n",
    "| ```__ge__``` | >= |\n",
    "| ```__ne__``` | != |"
   ]
  },
  {
   "cell_type": "markdown",
   "metadata": {},
   "source": [
    "Lets create a class knows how to compare itself to sequences by comparing itself to each element of the sequence"
   ]
  },
  {
   "cell_type": "code",
   "execution_count": null,
   "metadata": {
    "collapsed": false,
    "py3_only": true
   },
   "outputs": [],
   "source": [
    "from collections.abc import Iterable\n",
    "\n",
    "class Number(object):\n",
    "    def __init__(self, num):\n",
    "        self.num = num\n",
    "        \n",
    "    def __lt__(self, other):\n",
    "        # Can check whether `other` is iterable\n",
    "        if isinstance(other, Iterable):\n",
    "            return all(self.num < i for i in other)\n",
    "        return self.num < other\n",
    "    \n",
    "    def __eq__(self, other):\n",
    "        # ...Or use Python duck-typing \n",
    "        # (i.e. it's easier to get forgiveness than permission) \n",
    "        try:\n",
    "            return all(self.num == i for i in other)\n",
    "        except TypeError as err:\n",
    "            return self.num == other"
   ]
  },
  {
   "cell_type": "code",
   "execution_count": null,
   "metadata": {
    "collapsed": false,
    "py3_only": true
   },
   "outputs": [],
   "source": [
    "x = Number(3.14)\n",
    "print(x < 2.16)\n",
    "print(x < (.16, 3.14, 9.2))\n",
    "print(x < (20, 30, 40))\n",
    "print(x == [x, x, x, x, 3.14, 3.14])"
   ]
  },
  {
   "cell_type": "code",
   "execution_count": null,
   "metadata": {
    "collapsed": false,
    "py3_only": true
   },
   "outputs": [],
   "source": [
    "# Even though we have an interesting \"compare to all elements,\"\n",
    "# this doesn't assure that comparisons always succeed\n",
    "print(x == ['a', 'b', 'c'])\n",
    "try:\n",
    "    print(x < ['a', 'b', 'c'])\n",
    "except TypeError as e:\n",
    "    print(\"Cannot compare object with elements\")"
   ]
  },
  {
   "cell_type": "markdown",
   "metadata": {
    "py3_only": true
   },
   "source": [
    "Notice that *only* less-than was implemented in `Number`, so other inequality comparisons will fail."
   ]
  },
  {
   "cell_type": "code",
   "execution_count": null,
   "metadata": {
    "collapsed": false,
    "py3_only": true
   },
   "outputs": [],
   "source": [
    "expressions = ['x >= 2.16', 'x <= (.16, 3.14, 9.2)', 'x < (1, 2)', 'x > (20, 30, 40)']\n",
    "x = Number(3.14)\n",
    "for exp in expressions:\n",
    "    try:\n",
    "        print(\"%s: %s\" % (eval(exp), exp))\n",
    "    except TypeError as e:\n",
    "        print(\"TypeError: %s\" % exp)"
   ]
  },
  {
   "cell_type": "markdown",
   "metadata": {
    "py3_only": true
   },
   "source": [
    "We can remedy this by creating a total ordering from implemented comparisons."
   ]
  },
  {
   "cell_type": "code",
   "execution_count": null,
   "metadata": {
    "collapsed": false,
    "py3_only": true
   },
   "outputs": [],
   "source": [
    "import functools\n",
    "@functools.total_ordering\n",
    "class BetterNumber(Number): \n",
    "    pass\n",
    "\n",
    "x = BetterNumber(3.14)\n",
    "for exp in expressions:\n",
    "    try:\n",
    "        print(\"%s: %s\" % (eval(exp), exp))\n",
    "    except TypeError as e:\n",
    "        print(\"TypeError: %s\" % exp)"
   ]
  },
  {
   "cell_type": "code",
   "execution_count": null,
   "metadata": {
    "collapsed": false,
    "py3_only": true
   },
   "outputs": [],
   "source": [
    "class SillyNumber(object):\n",
    "    def __init__(self, num):\n",
    "        self.num = num\n",
    "    def __lt__(self, other):\n",
    "        return True\n",
    "    def __gt__(self, other):\n",
    "        return True\n",
    "        \n",
    "x, y = SillyNumber(3.14), SillyNumber(2.71)"
   ]
  },
  {
   "cell_type": "code",
   "execution_count": null,
   "metadata": {
    "collapsed": false,
    "py3_only": true
   },
   "outputs": [],
   "source": [
    "x < y, x > y"
   ]
  },
  {
   "cell_type": "code",
   "execution_count": null,
   "metadata": {
    "collapsed": false,
    "py3_only": true
   },
   "outputs": [],
   "source": [
    "x < \"Ham sandwich\", x > \"Ham sandwich\""
   ]
  },
  {
   "cell_type": "markdown",
   "metadata": {},
   "source": [
    "When you call ```len()``` or ```str()``` on an object, Python really calls the ```__len__()``` and ```__str__()``` methods of the object."
   ]
  },
  {
   "cell_type": "code",
   "execution_count": null,
   "metadata": {
    "collapsed": true
   },
   "outputs": [],
   "source": [
    "class EmptyThing(object):\n",
    "    def __init__(self, *args):\n",
    "        self.things = args\n",
    "        number = \"s\" if len(args) > 1 else \"\"\n",
    "        print(\"EmptyThing with %d thing%s\" % (len(args), number))\n",
    "        \n",
    "    def __len__(self):\n",
    "        # Must return an integer\n",
    "        return 0  # never has positive length\n",
    "    \n",
    "    def __str__(self):\n",
    "        # this method returns a string; it does not print anything.\n",
    "        return \"Things I have: \" + str(self.things)"
   ]
  },
  {
   "cell_type": "code",
   "execution_count": null,
   "metadata": {
    "collapsed": false
   },
   "outputs": [],
   "source": [
    "x = EmptyThing(3, 5, 2, 1, 9, 0)\n",
    "print(len(x)) # calls EmptyThing.__len__\n",
    "print(str(x)) # calls EmptyThing.__str__\n",
    "print(x)      # also calls EmptyThing.__str__\n"
   ]
  },
  {
   "cell_type": "code",
   "execution_count": null,
   "metadata": {
    "collapsed": true,
    "py3_only": true
   },
   "outputs": [],
   "source": [
    "\n",
    "# Calling .__len__() is one way of determining \"truthiness\" of object\n",
    "print(bool(EmptyThing(3.14)), bool(Number(3.14)))"
   ]
  },
  {
   "cell_type": "markdown",
   "metadata": {},
   "source": [
    "## Arithmetic Methods"
   ]
  },
  {
   "cell_type": "markdown",
   "metadata": {},
   "source": [
    "We can also override what basic arithmetic operations mean to an object.  For instance, we can define what it means to add two instances of a class together with the `+` operator.\n",
    "\n",
    "Python will look at an expression like `x+y` and attempts to resolve the addition operation as follows:\n",
    "\n",
    "1. Try x and see if it can add the object y to itself.  This is called left addition, where the left-side object is responsible for carrying out the operation.\n",
    "2. If that fails, try to see if y knows how to add the object x to itself.  This is right addition, where the right-side object is now responsible for performing the operation.\n",
    "3. If that fails, return an error to the user"
   ]
  },
  {
   "cell_type": "code",
   "execution_count": null,
   "metadata": {
    "collapsed": true
   },
   "outputs": [],
   "source": [
    "# Let's implement a mathematical object called a ring.  \n",
    "# We will implement the ring Z4 (math in the integers mod 4)\n",
    "import numbers\n",
    "\n",
    "class Z4(object):\n",
    "    def __init__(self, a):\n",
    "        if not isinstance(a, numbers.Integral):\n",
    "            raise TypeError(\"Z4 ring only defined on Natural numbers\")\n",
    "        self.a = a % 4\n",
    "        \n",
    "    def __add__(self, other):\n",
    "        # This is left addition for self + other\n",
    "        if isinstance(other, type(self)):\n",
    "            return Z4((self.a + other.a) % 4)\n",
    "        return NotImplemented\n",
    "        \n",
    "    def __sub__(self, other):\n",
    "        # This is for subtraction for self - other\n",
    "        if isinstance(other, type(self)):\n",
    "            return Z4((self.a - other.a) % 4)\n",
    "        return NotImplemented\n",
    "        \n",
    "    def __truediv__(self, other):\n",
    "        # This is for division for self / other\n",
    "        if isinstance(other, type(self)):\n",
    "            return Z4((self.a // other.a) % 4)\n",
    "        return NotImplemented\n",
    "        \n",
    "    def __mul__(self, other):\n",
    "        # This is for multiplication for self * other\n",
    "        if isinstance(other, type(self)):\n",
    "            return Z4((self.a * other.a) % 4)\n",
    "        return NotImplemented\n",
    "        \n",
    "    def __str__(self):\n",
    "        return str(self.a)\n",
    "    \n",
    "    def __repr__(self):\n",
    "        return \"Z4(%s)\" % self.a"
   ]
  },
  {
   "cell_type": "code",
   "execution_count": null,
   "metadata": {
    "collapsed": false
   },
   "outputs": [],
   "source": [
    "v = Z4(2)\n",
    "c = Z4(3)\n",
    "print(v*c, v+c, v-c, v/c)"
   ]
  },
  {
   "cell_type": "markdown",
   "metadata": {},
   "source": [
    "# Exercise (create a magic object)"
   ]
  },
  {
   "cell_type": "markdown",
   "metadata": {},
   "source": [
    "Take a look at the [\"special method names\"](https://docs.python.org/3/reference/datamodel.html) in Python. Create one or more classes, and instances thereof, that respond to the Python syntax we've learned in *special* or surprising ways.  Try to think of something that is actually intuitive or useful in these behaviors."
   ]
  },
  {
   "cell_type": "code",
   "execution_count": null,
   "metadata": {
    "collapsed": false
   },
   "outputs": [],
   "source": [
    "# An example of \"interesting\" special behavior\n",
    "# A very small and terrible \"DSL\" (domain specific language)\n",
    "class PeterPiper(object):\n",
    "    def __init__(self, who=\"Peter Piper\"):\n",
    "        self.who = who\n",
    "    def __call__(self):\n",
    "        return \"%s picked a peck of pickled peppers\" % self.who\n",
    "    def __floordiv__(self, other):\n",
    "        self.who = other\n",
    "    \n",
    "class ShellCat(object):\n",
    "    def __lt__(self, other):\n",
    "        print(other)\n",
    "        \n",
    "david = PeterPiper('David')\n",
    "cat = ShellCat()\n",
    "\n",
    "cat < david()\n",
    "david // \"Bruce\"\n",
    "cat < david()"
   ]
  },
  {
   "cell_type": "code",
   "execution_count": null,
   "metadata": {
    "collapsed": false
   },
   "outputs": [],
   "source": [
    "# People who want Python to be Ada, C#, Haskell, or MATLAB can do this...\n",
    "class MyInt(int):\n",
    "    def __xor__(self, other):\n",
    "        return self ** other\n",
    "    \n",
    "x = MyInt(5)\n",
    "x ^ 3"
   ]
  },
  {
   "cell_type": "code",
   "execution_count": null,
   "metadata": {
    "collapsed": false,
    "raises": "NameError"
   },
   "outputs": [],
   "source": [
    "import sys, webbrowser\n",
    "from time import sleep\n",
    "\n",
    "class StringImpossible(str):\n",
    "    def __str__(self):\n",
    "        webbrowser.open('https://youtu.be/tGSUjuSBt1A')\n",
    "        for name, x in globals().items():\n",
    "            if x is self:\n",
    "                break\n",
    "        del globals()[name]\n",
    "        sleep(10)      \n",
    "        return \"Your mission, should you care to accept it, %s ...\" % self[:]\n",
    "        \n",
    "spy = StringImpossible(\"David\")\n",
    "print(spy)\n",
    "for _ in range(40):\n",
    "    sys.stdout.write('.')\n",
    "    sleep(1)\n",
    "print(spy)"
   ]
  },
  {
   "cell_type": "code",
   "execution_count": null,
   "metadata": {
    "collapsed": true
   },
   "outputs": [],
   "source": []
  },
  {
   "cell_type": "code",
   "execution_count": null,
   "metadata": {
    "collapsed": false
   },
   "outputs": [],
   "source": [
    "import continuum_style; continuum_style.style()"
   ]
  }
 ],
 "metadata": {
  "continuum": {
   "depends": [
    "ip_essentials",
    "adv_classes",
    "adv_exceptions",
    "ip_functions",
    "ip_datatypes",
    "ip_flowcontrol"
   ],
   "tag": "adv_magic"
  },
  "kernelspec": {
   "display_name": "Python 3",
   "language": "python",
   "name": "python3"
  },
  "language_info": {
   "codemirror_mode": {
    "name": "ipython",
    "version": 3
   },
   "file_extension": ".py",
   "mimetype": "text/x-python",
   "name": "python",
   "nbconvert_exporter": "python",
   "pygments_lexer": "ipython3",
   "version": "3.5.1"
  }
 },
 "nbformat": 4,
 "nbformat_minor": 0
}
