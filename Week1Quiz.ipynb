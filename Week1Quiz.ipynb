{
 "cells": [
  {
   "cell_type": "markdown",
   "metadata": {
    "slideshow": {
     "slide_type": "slide"
    }
   },
   "source": [
    "# Quick Quiz\n",
    "\n",
    "1. Each answer is only one line long: \n",
    "    * Answer like this:\n",
    "        * Q1  $\\ldots$\n",
    "        * Q2 ...\n",
    "        * ....\n",
    "1. You have 15 minutes.\n",
    "1. The quiz is obligatory.\n",
    "1. You pass if you have at least 6 of the 10 questions correct.\n",
    "1. All code must be syntactically correct Python code."
   ]
  },
  {
   "cell_type": "markdown",
   "metadata": {
    "slideshow": {
     "slide_type": "slide"
    }
   },
   "source": [
    "## Questions"
   ]
  },
  {
   "cell_type": "markdown",
   "metadata": {
    "slideshow": {
     "slide_type": "slide"
    }
   },
   "source": [
    "Assume variable `s` is defined as follows:\n",
    "```\n",
    "s='Maarten Marx'\n",
    "```\n",
    "\n",
    "* Q1 Write code which produces this output: `'maarten marx'`\n",
    "* Q2 Use slicing to produce this output: `'Marx'`\n",
    "* Q3 Produce this output: `['Maarten', 'Marx']`  \n",
    "* Q4 Produce this output: `['M', 'a', 'a', 'r', 't', 'e', 'n', ' ', 'M', 'a', 'r', 'x']`\n",
    "* Q5 Give the code to compute the length of string `s`. \n",
    "* Q6 Give the code to get the first letter of `s`"
   ]
  },
  {
   "cell_type": "markdown",
   "metadata": {
    "slideshow": {
     "slide_type": "fragment"
    }
   },
   "source": [
    "Q7: rewrite the following code as a list comprehension\n",
    "```\n",
    "lower=[]\n",
    "for i in s:\n",
    "    if i.islower():\n",
    "        lower.append(i)\n",
    "```"
   ]
  },
  {
   "cell_type": "markdown",
   "metadata": {
    "slideshow": {
     "slide_type": "fragment"
    }
   },
   "source": [
    "Q8: Use list comprehension to create from `s` the list\n",
    "```\n",
    "['MM', 'aa', 'aa', 'rr', 'tt', 'ee', 'nn', '  ', 'MM', 'aa', 'rr', 'xx']\n",
    "```"
   ]
  },
  {
   "cell_type": "markdown",
   "metadata": {
    "slideshow": {
     "slide_type": "fragment"
    }
   },
   "source": [
    "Q9: Use dict comprehension to create the dict\n",
    "```\n",
    "{0: 1, 1: 2, 2: 4, 3: 8, 4: 16, 5: 32, 6: 64, 7: 128, 8: 256, 9: 512, 10: 1024}\n",
    "```\n",
    "Recall that `2**k` expresses 2 to the power k and that `range(3)` equals `[0,1,2]`"
   ]
  },
  {
   "cell_type": "markdown",
   "metadata": {
    "slideshow": {
     "slide_type": "fragment"
    }
   },
   "source": [
    "Q10: How many unique letters has `s`?\n",
    "\n",
    "You can assume that variable `q4` contains the list from question 4."
   ]
  },
  {
   "cell_type": "code",
   "execution_count": null,
   "metadata": {
    "collapsed": false
   },
   "outputs": [],
   "source": []
  }
 ],
 "metadata": {
  "anaconda-cloud": {},
  "celltoolbar": "Slideshow",
  "kernelspec": {
   "display_name": "Python [default]",
   "language": "python",
   "name": "python2"
  },
  "language_info": {
   "codemirror_mode": {
    "name": "ipython",
    "version": 2
   },
   "file_extension": ".py",
   "mimetype": "text/x-python",
   "name": "python",
   "nbconvert_exporter": "python",
   "pygments_lexer": "ipython2",
   "version": "2.7.12"
  }
 },
 "nbformat": 4,
 "nbformat_minor": 0
}
