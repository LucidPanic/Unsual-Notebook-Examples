








<!DOCTYPE html>
<html lang="en">

<head>
  <meta charset="utf-8">
  <title>Jupyter Notebook Viewer</title>
  <meta name="viewport" content="width=device-width, initial-scale=1.0">
  <meta name="description" content="">
  <meta name="author" content="">
  
  <meta name="robots" content="noindex,nofollow">
  

  <!--NEW RELIC Start Perf Measurement-->
  
  <!--NREND-->

  <!-- Le styles -->
  <link href="/static/build/styles.css?v=7fe30404aaeedb40bf592c91e1d25a26" rel="stylesheet">

  <!-- Le HTML5 shim, for IE6-8 support of HTML5 elements -->
  <!--[if lt IE 9]>
    <script src="http://html5shim.googlecode.com/svn/trunk/html5.js"></script>
  <![endif]-->

  <!-- Le fav and touch icons -->
  <link rel="shortcut icon" href="/static/ico/ipynb_icon_16x16.png">
  <link rel="apple-touch-icon-precomposed" sizes="144x144"
        href="/static/ico/apple-touch-icon-144-precomposed.png?v=5a3c9ede93e2a8b8ea9e3f8f3da1a905">
  <link rel="apple-touch-icon-precomposed" sizes="114x114"
        href="/static/ico/apple-touch-icon-114-precomposed.png?v=45d86fc8f24dc00638035e1dd7a6d898">
  <link rel="apple-touch-icon-precomposed" sizes="72x72"
        href="/static/ico/apple-touch-icon-72-precomposed.png?v=540b5eb0f3cfd25f1439d1c9bd30e15f">
  <link rel="apple-touch-icon-precomposed"
        href="/static/ico/apple-touch-icon-57-precomposed.png?v=225f0590e187e1458625654f10a28f56">
  
  

  

  
  <meta name="twitter:card" content="summary">
  <meta name="twitter:title" content="Notebook on nbviewer">
  <meta name="twitter:description" content="Check out this Jupyter notebook!">

  
  <meta name="twitter:domain" content="nbviewer.jupyter.org">
  <meta name="twitter:image:src" content="http://ipython.org/ipython-doc/dev/_images/ipynb_icon_128x128.png">

  
    <link href="/static/build/notebook.css?v=b71b4a780ae775fd48f0eead7512c5dd" rel="stylesheet">
  

  

  
    <script src="https://cdnjs.cloudflare.com/ajax/libs/mathjax/2.7.1/MathJax.js?config=TeX-AMS_HTML" type="text/javascript">
    </script>
    <script type="text/javascript">
      init_mathjax = function() {
        if (window.MathJax) {
          // MathJax loaded
          MathJax.Hub.Config({
            TeX: {
              equationNumbers: {
                autoNumber: "AMS",
                useLabelIds: true
              }
            },
            tex2jax: {
              inlineMath: [ ['$','$'], ["\\(","\\)"] ],
              displayMath: [ ['$$','$$'], ["\\[","\\]"] ],
              processEscapes: true,
              processEnvironments: true
            },
            displayAlign: 'center',
            "HTML-CSS": {
              styles: {'.MathJax_Display': {"margin": 0}},
              linebreaks: { automatic: true }
            }
          });
          MathJax.Hub.Queue(["Typeset", MathJax.Hub]);
        }
      }
      init_mathjax();
    </script>
  

  
    <script>
      (function() {
        function addWidgetsRenderer() {
          var mimeElement = document.querySelector('script[type="application/vnd.jupyter.widget-view+json"]');
          var scriptElement = document.createElement('script');
          var widgetRendererSrc = 'https://unpkg.com/@jupyter-widgets/html-manager@0.15/dist/embed-amd.js';
          var widgetState;

          try {
            widgetState = mimeElement && JSON.parse(mimeElement.innerHTML);

            if (widgetState && (widgetState.version_major < 2 || !widgetState.version_major)) {
              widgetRendererSrc = 'https://unpkg.com/jupyter-js-widgets@2.1/dist/embed.js';
            }
          } catch(e) {}

          scriptElement.src = widgetRendererSrc;
          document.body.appendChild(scriptElement);
        }

        document.addEventListener('DOMContentLoaded', addWidgetsRenderer);
      }());
    </script>
  

</head>

<body class="nbviewer">

  <!-- These are loaded at the top of the body so they are available to
       notebook cells when they are loaded below. -->
  <script src="/static/components/jquery/dist/jquery.min.js?v=220afd743d9e9643852e31a135a9f3ae"></script>
  <script src="/static/components/requirejs/require.js?v=6da8be361b9ee26c5e721e76c6d4afce"></script>
  <script src="/static/components/moment/min/moment.min.js?v=89f87298ad94aa1e6b92f42eb66da043"></script>
<!-- Navbar
================================================== -->
  <nav id="menubar" class="navbar navbar-default navbar-fixed-top" data-spy="affix">
    <div class="container">
      <div class="navbar-header">
        <button type="button" class="navbar-toggle collapsed" data-toggle="collapse" data-target=".navbar-collapse">
          <span class="sr-only">Toggle navigation</span>
          <i class="fa fa-bars"></i>
        </button>
        <a class="navbar-brand" href="/">
          <img src="/static/img/nav_logo.svg?v=479cefe8d932fb14a67b93911b97d70f" width="159"/>
        </a>
      </div>

      <div class="collapse navbar-collapse">
        <ul class="nav navbar-nav navbar-right">
          <li>
            <a class="active" href="https://jupyter.org">JUPYTER</a>
          </li>
          <li>
    <a href="/faq" title="FAQ" >
      
        <span>FAQ</span>
      
    </a>
  </li>

          
  
    
  
    
      
        <li>
    <a href="script/github/Naereen/notebooks/blob/master/agreg/Tissu_cellulaire.ipynb" title="View as Code" >
      <span class="fa fa-code fa-2x menu-icon"></span>
      <span class="menu-text">View as Code</span>
    </a>
  </li>
      
    
  

  
    <li>
    <a href="#" title="OCaml 4.04.2 Kernel" >
      <span class="fa fa-server fa-2x menu-icon"></span>
      <span class="menu-text">OCaml 4.04.2 Kernel</span>
    </a>
  </li>
  

  
    <li>
    <a href="https://github.com/Naereen/notebooks/blob/master/agreg/Tissu_cellulaire.ipynb" title="View on GitHub" >
      <span class="fa fa-github fa-2x menu-icon"></span>
      <span class="menu-text">View on GitHub</span>
    </a>
  </li>
  

  
    <li>
    <a href="https://mybinder.org/v2/gh/Naereen/notebooks/master?filepath=agreg/Tissu_cellulaire.ipynb" title="Execute on Binder" >
      <span class="fa fa-icon-binder fa-2x menu-icon"></span>
      <span class="menu-text">Execute on Binder</span>
    </a>
  </li>
  

  <li>
    <a href="https://raw.githubusercontent.com/Naereen/notebooks/master/agreg/Tissu_cellulaire.ipynb" title="Download Notebook" download>
      <span class="fa fa-download fa-2x menu-icon"></span>
      <span class="menu-text">Download Notebook</span>
    </a>
  </li>

        </ul>
      </div><!-- /.navbar-collapse -->
      
      
    </div>
  </nav>

  <div class="container container-main">
    
  
  <ol class="breadcrumb">
    
      <li>
        <a href="/github/Naereen/notebooks/tree/master">notebooks</a>
      </li>
    
      <li>
        <a href="/github/Naereen/notebooks/tree/master/agreg">agreg</a>
      </li>
    
  </ol>
  
  <div id="notebook">
    <div id="notebook-container">
      <div class="cell border-box-sizing text_cell rendered"><div class="prompt input_prompt">
</div><div class="inner_cell">
<div class="text_cell_render border-box-sizing rendered_html">
<h1 id="Table-of-Contents">Table of Contents<a class="anchor-link" href="#Table-of-Contents">&#182;</a></h1><p><p><div class="lev1 toc-item"><a href="#Texte-d'oral-de-modélisation---Agrégation-Option-Informatique" data-toc-modified-id="Texte-d'oral-de-modélisation---Agrégation-Option-Informatique-1"><span class="toc-item-num">1&nbsp;&nbsp;</span>Texte d'oral de modélisation - Agrégation Option Informatique</a></div><div class="lev2 toc-item"><a href="#Préparation-à-l'agrégation---ENS-de-Rennes,-2016-17" data-toc-modified-id="Préparation-à-l'agrégation---ENS-de-Rennes,-2016-17-11"><span class="toc-item-num">1.1&nbsp;&nbsp;</span>Préparation à l'agrégation - ENS de Rennes, 2016-17</a></div><div class="lev2 toc-item"><a href="#À-propos-de-ce-document" data-toc-modified-id="À-propos-de-ce-document-12"><span class="toc-item-num">1.2&nbsp;&nbsp;</span>À propos de ce document</a></div><div class="lev2 toc-item"><a href="#Question-de-programmation" data-toc-modified-id="Question-de-programmation-13"><span class="toc-item-num">1.3&nbsp;&nbsp;</span>Question de programmation</a></div><div class="lev3 toc-item"><a href="#Modélisation" data-toc-modified-id="Modélisation-131"><span class="toc-item-num">1.3.1&nbsp;&nbsp;</span>Modélisation</a></div><div class="lev3 toc-item"><a href="#Exercice" data-toc-modified-id="Exercice-132"><span class="toc-item-num">1.3.2&nbsp;&nbsp;</span>Exercice</a></div><div class="lev2 toc-item"><a href="#Solution" data-toc-modified-id="Solution-14"><span class="toc-item-num">1.4&nbsp;&nbsp;</span>Solution</a></div><div class="lev3 toc-item"><a href="#Pour-une-cellule" data-toc-modified-id="Pour-une-cellule-141"><span class="toc-item-num">1.4.1&nbsp;&nbsp;</span>Pour une cellule</a></div><div class="lev3 toc-item"><a href="#Pour-une-ligne-de-cellule-(un-tissu)" data-toc-modified-id="Pour-une-ligne-de-cellule-(un-tissu)-142"><span class="toc-item-num">1.4.2&nbsp;&nbsp;</span>Pour une ligne de cellule (<em>un tissu</em>)</a></div><div class="lev3 toc-item"><a href="#Évolution-d'une-cellule-qui-n'est-pas-au-bord-en-fonction-de-l'état-précédent-de-ces-deux-voisins-et-de-son-état." data-toc-modified-id="Évolution-d'une-cellule-qui-n'est-pas-au-bord-en-fonction-de-l'état-précédent-de-ces-deux-voisins-et-de-son-état.-143"><span class="toc-item-num">1.4.3&nbsp;&nbsp;</span>Évolution d'une cellule qui n'est pas au bord en fonction de l'état précédent de ces deux voisins et de son état.</a></div><div class="lev3 toc-item"><a href="#Une-fonction-concise-pour-afficher-un-tissu-(ie.-une-ligne-de-cellules)" data-toc-modified-id="Une-fonction-concise-pour-afficher-un-tissu-(ie.-une-ligne-de-cellules)-144"><span class="toc-item-num">1.4.4&nbsp;&nbsp;</span>Une fonction concise pour afficher un tissu (ie. une ligne de cellules)</a></div><div class="lev3 toc-item"><a href="#La-fonction-demandée-pour-faire-évoluer-un-tissu,-étape-par-étape." data-toc-modified-id="La-fonction-demandée-pour-faire-évoluer-un-tissu,-étape-par-étape.-145"><span class="toc-item-num">1.4.5&nbsp;&nbsp;</span>La fonction demandée pour faire évoluer un tissu, étape par étape.</a></div><div class="lev3 toc-item"><a href="#Faire-évoluer-sur-plusieurs-étapes,-en-affichant-les-étapes-intermédiaires" data-toc-modified-id="Faire-évoluer-sur-plusieurs-étapes,-en-affichant-les-étapes-intermédiaires-146"><span class="toc-item-num">1.4.6&nbsp;&nbsp;</span>Faire évoluer sur plusieurs étapes, en affichant les étapes intermédiaires</a></div><div class="lev2 toc-item"><a href="#Complexités-en-temps-et-espace-(bonus)" data-toc-modified-id="Complexités-en-temps-et-espace-(bonus)-15"><span class="toc-item-num">1.5&nbsp;&nbsp;</span>Complexités en temps et espace (bonus)</a></div><div class="lev3 toc-item"><a href="#En-temps" data-toc-modified-id="En-temps-151"><span class="toc-item-num">1.5.1&nbsp;&nbsp;</span>En temps</a></div><div class="lev3 toc-item"><a href="#En-espace" data-toc-modified-id="En-espace-152"><span class="toc-item-num">1.5.2&nbsp;&nbsp;</span>En espace</a></div><div class="lev2 toc-item"><a href="#Conclusion" data-toc-modified-id="Conclusion-16"><span class="toc-item-num">1.6&nbsp;&nbsp;</span>Conclusion</a></div><div class="lev3 toc-item"><a href="#Qualités" data-toc-modified-id="Qualités-161"><span class="toc-item-num">1.6.1&nbsp;&nbsp;</span>Qualités</a></div><div class="lev3 toc-item"><a href="#Défauts" data-toc-modified-id="Défauts-162"><span class="toc-item-num">1.6.2&nbsp;&nbsp;</span>Défauts</a></div></p>

</div>
</div>
</div>
<div class="cell border-box-sizing text_cell rendered"><div class="prompt input_prompt">
</div><div class="inner_cell">
<div class="text_cell_render border-box-sizing rendered_html">
<h1 id="Texte-d'oral-de-mod&#233;lisation---Agr&#233;gation-Option-Informatique">Texte d'oral de mod&#233;lisation - Agr&#233;gation Option Informatique<a class="anchor-link" href="#Texte-d'oral-de-mod&#233;lisation---Agr&#233;gation-Option-Informatique">&#182;</a></h1><h2 id="Pr&#233;paration-&#224;-l'agr&#233;gation---ENS-de-Rennes,-2016-17">Pr&#233;paration &#224; l'agr&#233;gation - ENS de Rennes, 2016-17<a class="anchor-link" href="#Pr&#233;paration-&#224;-l'agr&#233;gation---ENS-de-Rennes,-2016-17">&#182;</a></h2><ul>
<li><em>Date</em> : 22 mai 2017</li>
<li><em>Auteur</em> : <a href="https://GitHub.com/Naereen/notebooks/">Lilian Besson</a></li>
<li><em>Texte</em>: Annale 2010, <a href="http://agreg.org/Textes/public2010-D2.pdf">"Tissus cellulaires" (public2010-D2)</a></li>
</ul>

</div>
</div>
</div>
<div class="cell border-box-sizing text_cell rendered"><div class="prompt input_prompt">
</div><div class="inner_cell">
<div class="text_cell_render border-box-sizing rendered_html">
<h2 id="&#192;-propos-de-ce-document">&#192; propos de ce document<a class="anchor-link" href="#&#192;-propos-de-ce-document">&#182;</a></h2><ul>
<li>Ceci est une <em>proposition</em> de correction, partielle et probablement non-optimale, pour la partie implémentation d'un <a href="http://Agreg.org/Textes/">texte d'annale de l'agrégation de mathématiques, option informatique</a>.</li>
<li>Ce document est un <a href="https://www.Jupyter.org/">notebook Jupyter</a>, et <a href="https://github.com/Naereen/notebooks/tree/master/agreg/">est open-source sous Licence MIT sur GitHub</a>, comme les autres solutions de textes de modélisation que <a href="https://GitHub.com/Naereen">j</a>'ai écrite cette année.</li>
<li>L'implémentation sera faite en OCaml, version 4+ :</li>
</ul>

</div>
</div>
</div>
<div class="cell border-box-sizing code_cell rendered">
<div class="input">
<div class="prompt input_prompt">In&nbsp;[1]:</div>
<div class="inner_cell">
    <div class="input_area">
<div class=" highlight hl-OCaml"><pre><span></span><span class="nn">Sys</span><span class="p">.</span><span class="n">command</span> <span class="s2">&quot;ocaml -version&quot;</span><span class="o">;;</span>
</pre></div>

    </div>
</div>
</div>

<div class="output_wrapper">
<div class="output">


<div class="output_area">

    <div class="prompt"></div>


<div class="output_subarea output_stream output_stdout output_text">
<pre>The OCaml toplevel, version 4.04.2
</pre>
</div>
</div>

<div class="output_area">

    <div class="prompt output_prompt">Out[1]:</div>




<div class="output_text output_subarea output_execute_result">
<pre>- : int = 0
</pre>
</div>

</div>

</div>
</div>

</div>
<div class="cell border-box-sizing text_cell rendered"><div class="prompt input_prompt">
</div><div class="inner_cell">
<div class="text_cell_render border-box-sizing rendered_html">
<hr>
<h2 id="Question-de-programmation">Question de programmation<a class="anchor-link" href="#Question-de-programmation">&#182;</a></h2><p>La question de programmation pour ce texte était donnée au tout début, et occupe toute la page 2 :</p>
<h3 id="Mod&#233;lisation">Mod&#233;lisation<a class="anchor-link" href="#Mod&#233;lisation">&#182;</a></h3><blockquote><p>On veut simuler un phénomène de contamination. L’état d’une cellule est représenté par un
entier compris entre $0$ et $K$ ($K \geq 1$ est un paramètre fixé).</p>
<p>Une cellule est normalement saine, non contaminée, dans l’état $0$ et reste dans cet état tant qu’elle n’est pas infectée.
Tous les autres états représentent différents stades d’infection.
Une cellule infectée commence dans l’état $1$ et à chaque itération passe dans l’état suivant (c.-à-d. $2$ puis $3$ puis...).
Quand elle atteint l’état $K$, elle a remporté sa lutte contre l’infection et retourne à l’état $0$, saine et non infectée à l’itération suivante.</p>
<p>Une cellule infectée n’est pas tout de suite contagieuse (c.-à-d. capable d’infecter ses voisines).
Une cellule devient infectieuse à partir du stade $I$ ($I \leq K$, $I$ est un autre paramètre fixé) et le reste jusqu’à sa guérison (retour à l’état $0$).
Durant cette période, elle peut contaminer chacune de ses deux voisines (les plus proches à droite et à gauche).
Si celles-ci ne sont pas déjà infectées, elles le deviennent automatiquement, au stade $1$; si elles sont déjà infectées, elles le restent.</p>
<p>Les cellules ne bougent pas et on les suppose rangées les unes à côté des autres sur une ligne.
Elles sont toutes mises à jour en même temps, de manière synchrone.
Pour simplifier, on suppose que les première et dernière cellules restent toujours dans le même état $0$.</p>
<p><img src="images/tissu_cellulaire_fig1.png" alt="Figure 1 : tissu cellulaire en ligne, K=5 et I=2"></p>
<p>Tout ceci est schématisé sur la Fig. 1 où l’on voit en haut une configuration et en bas la configuration suivante.
Chaque cellule est mise à jour en fonction de ses deux plus proches voisines, sauf pour les cellules des deux extrémités dont l’état ne change pas.
Après la configuration $(0, 0, 3, 0, 0, 1, 5 ,\dots, 0 )$, le système passe donc à la configuration $(0, 1, 4, 1, 0, 2, 0 ,\dots, 0 )$ pour $K = 5$ et $I = 2$.
Dans cette illustration, l’état de la troisième cellule (3) est en gras pour
indiquer pour quelles cellules il intervient durant la mise à jour.</p>
</blockquote>
<h3 id="Exercice">Exercice<a class="anchor-link" href="#Exercice">&#182;</a></h3><blockquote><p>Écrire un programme permettant d’afficher la progression de la contamination sur une vingtaine d’itérations, par exemple pour les valeurs ($K = 5$ et $I = 2$) en partant d’une seule cellule infectée sur une ligne d’une vingtaine de cellules saines.</p>
<p>Préciser la complexité en temps et en espace de la simulation.</p>
</blockquote>

</div>
</div>
</div>
<div class="cell border-box-sizing text_cell rendered"><div class="prompt input_prompt">
</div><div class="inner_cell">
<div class="text_cell_render border-box-sizing rendered_html">
<hr>
<h2 id="Solution">Solution<a class="anchor-link" href="#Solution">&#182;</a></h2><p>On va essayer d'être rapide et de faire simple, aussi $K=5$ et $I=2$ seront <strong>fixés</strong> et constants dans tout le code suivant.</p>

</div>
</div>
</div>
<div class="cell border-box-sizing text_cell rendered"><div class="prompt input_prompt">
</div><div class="inner_cell">
<div class="text_cell_render border-box-sizing rendered_html">
<p>Les constantes $K$ et $I$ de la simulation sont fixées :</p>
<ul>
<li>$K = 5$ fixe le nombre d'états différents dans lequel peut être une cellule,</li>
<li>$I = 2$ fixe le seuil à partir duquel une cellule devient contagieuse</li>
</ul>

</div>
</div>
</div>
<div class="cell border-box-sizing code_cell rendered">
<div class="input">
<div class="prompt input_prompt">In&nbsp;[2]:</div>
<div class="inner_cell">
    <div class="input_area">
<div class=" highlight hl-OCaml"><pre><span></span><span class="k">let</span> <span class="n">k</span> <span class="o">=</span> <span class="mi">5</span><span class="o">;;</span>

<span class="k">let</span> <span class="n">i</span> <span class="o">=</span> <span class="mi">2</span><span class="o">;;</span>

<span class="k">assert</span> <span class="o">(</span><span class="n">i</span> <span class="o">&lt;=</span> <span class="n">k</span><span class="o">);;</span>
</pre></div>

    </div>
</div>
</div>

<div class="output_wrapper">
<div class="output">


<div class="output_area">

    <div class="prompt output_prompt">Out[2]:</div>




<div class="output_text output_subarea output_execute_result">
<pre>val k : int = 5
</pre>
</div>

</div>

<div class="output_area">

    <div class="prompt output_prompt">Out[2]:</div>




<div class="output_text output_subarea output_execute_result">
<pre>val i : int = 2
</pre>
</div>

</div>

<div class="output_area">

    <div class="prompt output_prompt">Out[2]:</div>




<div class="output_text output_subarea output_execute_result">
<pre>- : unit = ()
</pre>
</div>

</div>

</div>
</div>

</div>
<div class="cell border-box-sizing text_cell rendered"><div class="prompt input_prompt">
</div><div class="inner_cell">
<div class="text_cell_render border-box-sizing rendered_html">
<h3 id="Pour-une-cellule">Pour une cellule<a class="anchor-link" href="#Pour-une-cellule">&#182;</a></h3>
</div>
</div>
</div>
<div class="cell border-box-sizing text_cell rendered"><div class="prompt input_prompt">
</div><div class="inner_cell">
<div class="text_cell_render border-box-sizing rendered_html">
<p>L'état d'une cellule est un entier :</p>

</div>
</div>
</div>
<div class="cell border-box-sizing code_cell rendered">
<div class="input">
<div class="prompt input_prompt">In&nbsp;[3]:</div>
<div class="inner_cell">
    <div class="input_area">
<div class=" highlight hl-OCaml"><pre><span></span><span class="k">type</span> <span class="n">etatcellule</span> <span class="o">=</span> <span class="kt">int</span><span class="o">;;</span>
</pre></div>

    </div>
</div>
</div>

<div class="output_wrapper">
<div class="output">


<div class="output_area">

    <div class="prompt output_prompt">Out[3]:</div>




<div class="output_text output_subarea output_execute_result">
<pre>type etatcellule = int
</pre>
</div>

</div>

</div>
</div>

</div>
<div class="cell border-box-sizing text_cell rendered"><div class="prompt input_prompt">
</div><div class="inner_cell">
<div class="text_cell_render border-box-sizing rendered_html">
<p>Voici quelques fonctions "triviales" pour traduire les propriétés décrites par le texte :</p>

</div>
</div>
</div>
<div class="cell border-box-sizing code_cell rendered">
<div class="input">
<div class="prompt input_prompt">In&nbsp;[4]:</div>
<div class="inner_cell">
    <div class="input_area">
<div class=" highlight hl-OCaml"><pre><span></span><span class="c">(** Une cellule est saine si son état est [0], infectée sinon. *)</span>
<span class="k">let</span> <span class="n">est_saine</span> <span class="o">(</span><span class="n">etat</span> <span class="o">:</span> <span class="n">etatcellule</span><span class="o">)</span> <span class="o">:</span> <span class="kt">bool</span> <span class="o">=</span> 
    <span class="n">etat</span> <span class="o">=</span> <span class="mi">0</span>
<span class="o">;;</span>
</pre></div>

    </div>
</div>
</div>

<div class="output_wrapper">
<div class="output">


<div class="output_area">

    <div class="prompt output_prompt">Out[4]:</div>




<div class="output_text output_subarea output_execute_result">
<pre>val est_saine : etatcellule -&gt; bool = &lt;fun&gt;
</pre>
</div>

</div>

</div>
</div>

</div>
<div class="cell border-box-sizing code_cell rendered">
<div class="input">
<div class="prompt input_prompt">In&nbsp;[5]:</div>
<div class="inner_cell">
    <div class="input_area">
<div class=" highlight hl-OCaml"><pre><span></span><span class="k">let</span> <span class="n">grossir</span> <span class="o">(</span><span class="n">etat</span> <span class="o">:</span> <span class="n">etatcellule</span><span class="o">)</span> <span class="o">:</span> <span class="n">etatcellule</span> <span class="o">=</span>
    <span class="k">if</span> <span class="n">etat</span> <span class="o">&gt;=</span> <span class="n">k</span> <span class="k">then</span> <span class="mi">0</span> <span class="k">else</span> <span class="o">(</span><span class="n">etat</span> <span class="o">+</span> <span class="mi">1</span><span class="o">)</span>
<span class="o">;;</span>
</pre></div>

    </div>
</div>
</div>

<div class="output_wrapper">
<div class="output">


<div class="output_area">

    <div class="prompt output_prompt">Out[5]:</div>




<div class="output_text output_subarea output_execute_result">
<pre>val grossir : etatcellule -&gt; etatcellule = &lt;fun&gt;
</pre>
</div>

</div>

</div>
</div>

</div>
<div class="cell border-box-sizing code_cell rendered">
<div class="input">
<div class="prompt input_prompt">In&nbsp;[6]:</div>
<div class="inner_cell">
    <div class="input_area">
<div class=" highlight hl-OCaml"><pre><span></span><span class="k">let</span> <span class="n">est_contagieuse</span> <span class="o">(</span><span class="n">etat</span> <span class="o">:</span> <span class="n">etatcellule</span><span class="o">)</span> <span class="o">:</span> <span class="kt">bool</span> <span class="o">=</span> 
    <span class="n">etat</span> <span class="o">&gt;=</span> <span class="n">i</span>
<span class="o">;;</span>
</pre></div>

    </div>
</div>
</div>

<div class="output_wrapper">
<div class="output">


<div class="output_area">

    <div class="prompt output_prompt">Out[6]:</div>




<div class="output_text output_subarea output_execute_result">
<pre>val est_contagieuse : etatcellule -&gt; bool = &lt;fun&gt;
</pre>
</div>

</div>

</div>
</div>

</div>
<div class="cell border-box-sizing code_cell rendered">
<div class="input">
<div class="prompt input_prompt">In&nbsp;[7]:</div>
<div class="inner_cell">
    <div class="input_area">
<div class=" highlight hl-OCaml"><pre><span></span><span class="k">let</span> <span class="n">infecte</span> <span class="o">(</span><span class="n">etat</span> <span class="o">:</span> <span class="n">etatcellule</span><span class="o">)</span> <span class="o">:</span> <span class="n">etatcellule</span> <span class="o">=</span>
    <span class="k">if</span> <span class="n">etat</span> <span class="o">=</span> <span class="mi">0</span> <span class="k">then</span> <span class="mi">1</span> <span class="k">else</span> <span class="n">etat</span>
<span class="o">;;</span>
</pre></div>

    </div>
</div>
</div>

<div class="output_wrapper">
<div class="output">


<div class="output_area">

    <div class="prompt output_prompt">Out[7]:</div>




<div class="output_text output_subarea output_execute_result">
<pre>val infecte : etatcellule -&gt; etatcellule = &lt;fun&gt;
</pre>
</div>

</div>

</div>
</div>

</div>
<div class="cell border-box-sizing text_cell rendered"><div class="prompt input_prompt">
</div><div class="inner_cell">
<div class="text_cell_render border-box-sizing rendered_html">
<h3 id="Pour-une-ligne-de-cellule-(un-tissu)">Pour une ligne de cellule (<em>un tissu</em>)<a class="anchor-link" href="#Pour-une-ligne-de-cellule-(un-tissu)">&#182;</a></h3>
</div>
</div>
</div>
<div class="cell border-box-sizing text_cell rendered"><div class="prompt input_prompt">
</div><div class="inner_cell">
<div class="text_cell_render border-box-sizing rendered_html">
<p>Si on voulait représenter des tissus en plusieurs dimensions (2, 3),
ici on devrait utiliser <code>etatcellule array array</code> (ou <code>etatcellule array array array</code>),
mais en 1D, <code>etatcellule array</code> suffit.</p>

</div>
</div>
</div>
<div class="cell border-box-sizing code_cell rendered">
<div class="input">
<div class="prompt input_prompt">In&nbsp;[8]:</div>
<div class="inner_cell">
    <div class="input_area">
<div class=" highlight hl-OCaml"><pre><span></span><span class="k">type</span> <span class="n">tissu</span> <span class="o">=</span> <span class="n">etatcellule</span> <span class="kt">array</span><span class="o">;;</span>
</pre></div>

    </div>
</div>
</div>

<div class="output_wrapper">
<div class="output">


<div class="output_area">

    <div class="prompt output_prompt">Out[8]:</div>




<div class="output_text output_subarea output_execute_result">
<pre>type tissu = etatcellule array
</pre>
</div>

</div>

</div>
</div>

</div>
<div class="cell border-box-sizing text_cell rendered"><div class="prompt input_prompt">
</div><div class="inner_cell">
<div class="text_cell_render border-box-sizing rendered_html">
<p>Pour créer un nouvel organse, constitué uniquement de cellules saines :</p>

</div>
</div>
</div>
<div class="cell border-box-sizing code_cell rendered">
<div class="input">
<div class="prompt input_prompt">In&nbsp;[9]:</div>
<div class="inner_cell">
    <div class="input_area">
<div class=" highlight hl-OCaml"><pre><span></span><span class="k">let</span> <span class="n">nouveau_tissu</span> <span class="o">(</span><span class="n">length</span> <span class="o">:</span> <span class="kt">int</span><span class="o">)</span> <span class="o">:</span> <span class="n">tissu</span> <span class="o">=</span>
    <span class="nn">Array</span><span class="p">.</span><span class="n">make</span> <span class="n">length</span> <span class="o">(</span><span class="mi">0</span> <span class="o">:</span> <span class="n">etatcellule</span><span class="o">)</span>
<span class="o">;;</span>
</pre></div>

    </div>
</div>
</div>

<div class="output_wrapper">
<div class="output">


<div class="output_area">

    <div class="prompt output_prompt">Out[9]:</div>




<div class="output_text output_subarea output_execute_result">
<pre>val nouveau_tissu : int -&gt; tissu = &lt;fun&gt;
</pre>
</div>

</div>

</div>
</div>

</div>
<div class="cell border-box-sizing text_cell rendered"><div class="prompt input_prompt">
</div><div class="inner_cell">
<div class="text_cell_render border-box-sizing rendered_html">
<p>Par exemple, un "muscle", long de 20 cellules, toutes saines :</p>

</div>
</div>
</div>
<div class="cell border-box-sizing code_cell rendered">
<div class="input">
<div class="prompt input_prompt">In&nbsp;[10]:</div>
<div class="inner_cell">
    <div class="input_area">
<div class=" highlight hl-OCaml"><pre><span></span><span class="k">let</span> <span class="n">muscle1</span> <span class="o">:</span> <span class="n">tissu</span> <span class="o">=</span> <span class="n">nouveau_tissu</span> <span class="mi">20</span><span class="o">;;</span>
</pre></div>

    </div>
</div>
</div>

<div class="output_wrapper">
<div class="output">


<div class="output_area">

    <div class="prompt output_prompt">Out[10]:</div>




<div class="output_text output_subarea output_execute_result">
<pre>val muscle1 : tissu =
  [|0; 0; 0; 0; 0; 0; 0; 0; 0; 0; 0; 0; 0; 0; 0; 0; 0; 0; 0; 0|]
</pre>
</div>

</div>

</div>
</div>

</div>
<div class="cell border-box-sizing text_cell rendered"><div class="prompt input_prompt">
</div><div class="inner_cell">
<div class="text_cell_render border-box-sizing rendered_html">
<p>Cette fonction sera un raccourci utile pour infecter une cellule choisie :</p>

</div>
</div>
</div>
<div class="cell border-box-sizing code_cell rendered">
<div class="input">
<div class="prompt input_prompt">In&nbsp;[11]:</div>
<div class="inner_cell">
    <div class="input_area">
<div class=" highlight hl-OCaml"><pre><span></span><span class="k">let</span> <span class="n">infecte_cible</span> <span class="o">(</span><span class="n">org</span> <span class="o">:</span> <span class="n">tissu</span><span class="o">)</span> <span class="o">(</span><span class="n">indice</span> <span class="o">:</span> <span class="kt">int</span><span class="o">)</span> <span class="o">:</span> <span class="kt">unit</span> <span class="o">=</span>
    <span class="n">org</span><span class="o">.(</span><span class="n">indice</span><span class="o">)</span> <span class="o">&lt;-</span> <span class="o">(</span><span class="n">infecte</span> <span class="n">org</span><span class="o">.(</span><span class="n">indice</span><span class="o">))</span>
<span class="o">;;</span>
</pre></div>

    </div>
</div>
</div>

<div class="output_wrapper">
<div class="output">


<div class="output_area">

    <div class="prompt output_prompt">Out[11]:</div>




<div class="output_text output_subarea output_execute_result">
<pre>val infecte_cible : tissu -&gt; int -&gt; unit = &lt;fun&gt;
</pre>
</div>

</div>

</div>
</div>

</div>
<div class="cell border-box-sizing text_cell rendered"><div class="prompt input_prompt">
</div><div class="inner_cell">
<div class="text_cell_render border-box-sizing rendered_html">
<p>Un second muscle, long de 21 cellules, avec une seule cellule malade en indice 11 :</p>

</div>
</div>
</div>
<div class="cell border-box-sizing code_cell rendered">
<div class="input">
<div class="prompt input_prompt">In&nbsp;[12]:</div>
<div class="inner_cell">
    <div class="input_area">
<div class=" highlight hl-OCaml"><pre><span></span><span class="k">let</span> <span class="n">muscle2</span> <span class="o">:</span> <span class="n">tissu</span> <span class="o">=</span>
    <span class="k">let</span> <span class="n">m</span> <span class="o">=</span> <span class="n">nouveau_tissu</span> <span class="mi">21</span> <span class="k">in</span> <span class="k">begin</span>
        <span class="n">infecte_cible</span> <span class="n">m</span> <span class="mi">11</span><span class="o">;</span>
        <span class="n">m</span>
    <span class="k">end</span>
<span class="o">;;</span>
</pre></div>

    </div>
</div>
</div>

<div class="output_wrapper">
<div class="output">


<div class="output_area">

    <div class="prompt output_prompt">Out[12]:</div>




<div class="output_text output_subarea output_execute_result">
<pre>val muscle2 : tissu =
  [|0; 0; 0; 0; 0; 0; 0; 0; 0; 0; 0; 1; 0; 0; 0; 0; 0; 0; 0; 0; 0|]
</pre>
</div>

</div>

</div>
</div>

</div>
<div class="cell border-box-sizing text_cell rendered"><div class="prompt input_prompt">
</div><div class="inner_cell">
<div class="text_cell_render border-box-sizing rendered_html">
<ul>
<li>Toutes ces fonctions s'exécutent en temps constant $\mathcal{O}(1)$.</li>
</ul>

</div>
</div>
</div>
<div class="cell border-box-sizing text_cell rendered"><div class="prompt input_prompt">
</div><div class="inner_cell">
<div class="text_cell_render border-box-sizing rendered_html">
<h3 id="&#201;volution-d'une-cellule-qui-n'est-pas-au-bord-en-fonction-de-l'&#233;tat-pr&#233;c&#233;dent-de-ces-deux-voisins-et-de-son-&#233;tat.">&#201;volution d'une cellule qui n'est pas au bord en fonction de l'&#233;tat pr&#233;c&#233;dent de ces deux voisins et de son &#233;tat.<a class="anchor-link" href="#&#201;volution-d'une-cellule-qui-n'est-pas-au-bord-en-fonction-de-l'&#233;tat-pr&#233;c&#233;dent-de-ces-deux-voisins-et-de-son-&#233;tat.">&#182;</a></h3>
</div>
</div>
</div>
<div class="cell border-box-sizing text_cell rendered"><div class="prompt input_prompt">
</div><div class="inner_cell">
<div class="text_cell_render border-box-sizing rendered_html">
<p>On représente une cellule avec ses deux voisins :</p>

</div>
</div>
</div>
<div class="cell border-box-sizing code_cell rendered">
<div class="input">
<div class="prompt input_prompt">In&nbsp;[13]:</div>
<div class="inner_cell">
    <div class="input_area">
<div class=" highlight hl-OCaml"><pre><span></span><span class="k">type</span> <span class="n">lcor</span> <span class="o">=</span> <span class="o">{</span> <span class="n">l</span> <span class="o">:</span> <span class="n">etatcellule</span><span class="o">;</span>  <span class="n">co</span> <span class="o">:</span> <span class="n">etatcellule</span><span class="o">;</span>  <span class="n">r</span> <span class="o">:</span> <span class="n">etatcellule</span><span class="o">;</span>  <span class="o">};;</span>
</pre></div>

    </div>
</div>
</div>

<div class="output_wrapper">
<div class="output">


<div class="output_area">

    <div class="prompt output_prompt">Out[13]:</div>




<div class="output_text output_subarea output_execute_result">
<pre>type lcor = { l : etatcellule; co : etatcellule; r : etatcellule; }
</pre>
</div>

</div>

</div>
</div>

</div>
<div class="cell border-box-sizing text_cell rendered"><div class="prompt input_prompt">
</div><div class="inner_cell">
<div class="text_cell_render border-box-sizing rendered_html">
<p>On peut ensuite donner l'état de la cellule courante (précédemment dans l'état <code>co</code>) en fonction de l'état de sa voisine de gauche <code>l</code> et de droite <code>r</code> :</p>

</div>
</div>
</div>
<div class="cell border-box-sizing code_cell rendered">
<div class="input">
<div class="prompt input_prompt">In&nbsp;[14]:</div>
<div class="inner_cell">
    <div class="input_area">
<div class=" highlight hl-OCaml"><pre><span></span><span class="k">let</span> <span class="n">nouvel_etat_cellule</span> <span class="o">({</span><span class="n">l</span><span class="o">;</span>  <span class="n">co</span><span class="o">;</span>  <span class="n">r</span><span class="o">}</span> <span class="o">:</span> <span class="n">lcor</span><span class="o">)</span> <span class="bp">()</span> <span class="o">:</span> <span class="n">etatcellule</span> <span class="o">=</span>
    <span class="k">if</span> <span class="n">co</span> <span class="o">=</span> <span class="n">k</span> <span class="k">then</span>
        <span class="c">(* La cellule guérit, ce qu&#39;on autoriserait plus dans le second modèle. *)</span>
        <span class="mi">0</span>
    <span class="k">else</span> <span class="k">begin</span>
        <span class="k">if</span> <span class="o">(</span><span class="n">est_saine</span> <span class="n">co</span><span class="o">)</span> <span class="k">then</span>
            <span class="c">(* Si elle est saine, elle peut devenir infectée : *)</span>
            <span class="k">if</span> <span class="o">(</span> <span class="o">(</span><span class="n">est_contagieuse</span> <span class="n">l</span><span class="o">)</span> <span class="o">||</span> <span class="o">(</span><span class="n">est_contagieuse</span> <span class="n">r</span><span class="o">)</span> <span class="o">)</span>
            <span class="k">then</span>
                <span class="c">(* Devient infectée. *)</span>
                <span class="mi">1</span>
            <span class="k">else</span>
                <span class="n">co</span> 
        <span class="k">else</span>
            <span class="c">(* Si elle est déjà infectée, elle grandit toute seule. *)</span>
            <span class="n">grossir</span> <span class="n">co</span>
    <span class="k">end</span>
<span class="o">;;</span>
</pre></div>

    </div>
</div>
</div>

<div class="output_wrapper">
<div class="output">


<div class="output_area">

    <div class="prompt output_prompt">Out[14]:</div>




<div class="output_text output_subarea output_execute_result">
<pre>val nouvel_etat_cellule : lcor -&gt; unit -&gt; etatcellule = &lt;fun&gt;
</pre>
</div>

</div>

</div>
</div>

</div>
<div class="cell border-box-sizing text_cell rendered"><div class="prompt input_prompt">
</div><div class="inner_cell">
<div class="text_cell_render border-box-sizing rendered_html">
<ul>
<li>Cette fonction s'exécute en temps constant $\mathcal{O}(1)$.</li>
</ul>

</div>
</div>
</div>
<div class="cell border-box-sizing text_cell rendered"><div class="prompt input_prompt">
</div><div class="inner_cell">
<div class="text_cell_render border-box-sizing rendered_html">
<p>Construction du sous-tableau des triplets <code>lcor</code>, en ignorant la première et dernière cellule :</p>

</div>
</div>
</div>
<div class="cell border-box-sizing code_cell rendered">
<div class="input">
<div class="prompt input_prompt">In&nbsp;[15]:</div>
<div class="inner_cell">
    <div class="input_area">
<div class=" highlight hl-OCaml"><pre><span></span><span class="k">let</span> <span class="n">cree_lcor</span> <span class="o">(</span><span class="n">org</span> <span class="o">:</span> <span class="n">tissu</span><span class="o">)</span> <span class="o">:</span> <span class="n">lcor</span> <span class="kt">array</span> <span class="o">=</span>
    <span class="k">let</span> <span class="n">n</span> <span class="o">=</span> <span class="nn">Array</span><span class="p">.</span><span class="n">length</span> <span class="n">org</span> <span class="k">in</span>
    <span class="k">assert</span> <span class="o">(</span><span class="n">n</span> <span class="o">&gt;=</span> <span class="mi">2</span><span class="o">);</span>
    <span class="nn">Array</span><span class="p">.</span><span class="n">init</span> <span class="o">(</span><span class="n">n</span> <span class="o">-</span> <span class="mi">2</span><span class="o">)</span> <span class="o">(</span><span class="k">fun</span> <span class="n">i</span> <span class="o">-&gt;</span> 
        <span class="o">{</span> <span class="n">l</span> <span class="o">=</span> <span class="n">org</span><span class="o">.(</span><span class="n">i</span><span class="o">);</span>  <span class="n">co</span> <span class="o">=</span> <span class="n">org</span><span class="o">.(</span><span class="n">i</span> <span class="o">+</span> <span class="mi">1</span><span class="o">);</span>  <span class="n">r</span> <span class="o">=</span> <span class="n">org</span><span class="o">.(</span><span class="n">i</span> <span class="o">+</span> <span class="mi">2</span><span class="o">)</span> <span class="o">}</span>
    <span class="o">)</span>
<span class="o">;;</span>
</pre></div>

    </div>
</div>
</div>

<div class="output_wrapper">
<div class="output">


<div class="output_area">

    <div class="prompt output_prompt">Out[15]:</div>




<div class="output_text output_subarea output_execute_result">
<pre>val cree_lcor : tissu -&gt; lcor array = &lt;fun&gt;
</pre>
</div>

</div>

</div>
</div>

</div>
<div class="cell border-box-sizing text_cell rendered"><div class="prompt input_prompt">
</div><div class="inner_cell">
<div class="text_cell_render border-box-sizing rendered_html">
<ul>
<li>Cette fonction s'exécute en temps linéaire $\mathcal{O}(n)$.</li>
</ul>

</div>
</div>
</div>
<div class="cell border-box-sizing text_cell rendered"><div class="prompt input_prompt">
</div><div class="inner_cell">
<div class="text_cell_render border-box-sizing rendered_html">
<p>Testons sur les deux exemples précédents :</p>

</div>
</div>
</div>
<div class="cell border-box-sizing code_cell rendered">
<div class="input">
<div class="prompt input_prompt">In&nbsp;[16]:</div>
<div class="inner_cell">
    <div class="input_area">
<div class=" highlight hl-OCaml"><pre><span></span><span class="k">let</span> <span class="n">lcor1</span> <span class="o">=</span> <span class="n">cree_lcor</span> <span class="n">muscle1</span><span class="o">;;</span>
<span class="k">let</span> <span class="n">lcor2</span> <span class="o">=</span> <span class="n">cree_lcor</span> <span class="n">muscle2</span><span class="o">;;</span>
</pre></div>

    </div>
</div>
</div>

<div class="output_wrapper">
<div class="output">


<div class="output_area">

    <div class="prompt output_prompt">Out[16]:</div>




<div class="output_text output_subarea output_execute_result">
<pre>val lcor1 : lcor array =
  [|{l = 0; co = 0; r = 0}; {l = 0; co = 0; r = 0}; {l = 0; co = 0; r = 0};
    {l = 0; co = 0; r = 0}; {l = 0; co = 0; r = 0}; {l = 0; co = 0; r = 0};
    {l = 0; co = 0; r = 0}; {l = 0; co = 0; r = 0}; {l = 0; co = 0; r = 0};
    {l = 0; co = 0; r = 0}; {l = 0; co = 0; r = 0}; {l = 0; co = 0; r = 0};
    {l = 0; co = 0; r = 0}; {l = 0; co = 0; r = 0}; {l = 0; co = 0; r = 0};
    {l = 0; co = 0; r = 0}; {l = 0; co = 0; r = 0}; {l = 0; co = 0; r = 0}|]
</pre>
</div>

</div>

<div class="output_area">

    <div class="prompt output_prompt">Out[16]:</div>




<div class="output_text output_subarea output_execute_result">
<pre>val lcor2 : lcor array =
  [|{l = 0; co = 0; r = 0}; {l = 0; co = 0; r = 0}; {l = 0; co = 0; r = 0};
    {l = 0; co = 0; r = 0}; {l = 0; co = 0; r = 0}; {l = 0; co = 0; r = 0};
    {l = 0; co = 0; r = 0}; {l = 0; co = 0; r = 0}; {l = 0; co = 0; r = 0};
    {l = 0; co = 0; r = 1}; {l = 0; co = 1; r = 0}; {l = 1; co = 0; r = 0};
    {l = 0; co = 0; r = 0}; {l = 0; co = 0; r = 0}; {l = 0; co = 0; r = 0};
    {l = 0; co = 0; r = 0}; {l = 0; co = 0; r = 0}; {l = 0; co = 0; r = 0};
    {l = 0; co = 0; r = 0}|]
</pre>
</div>

</div>

</div>
</div>

</div>
<div class="cell border-box-sizing text_cell rendered"><div class="prompt input_prompt">
</div><div class="inner_cell">
<div class="text_cell_render border-box-sizing rendered_html">
<p>Un troisième exemple plus intéressant sera le tissu de la Figure 1, qu'on supposera de petite taille.
<img src="images/tissu_cellulaire_fig1.png" alt="Figure 1 : tissu cellulaire en ligne, K=5 et I=2"></p>

</div>
</div>
</div>
<div class="cell border-box-sizing code_cell rendered">
<div class="input">
<div class="prompt input_prompt">In&nbsp;[17]:</div>
<div class="inner_cell">
    <div class="input_area">
<div class=" highlight hl-OCaml"><pre><span></span><span class="k">let</span> <span class="n">muscle3</span> <span class="o">=</span> <span class="o">[|</span> <span class="mi">0</span><span class="o">;</span> <span class="mi">0</span><span class="o">;</span> <span class="mi">3</span><span class="o">;</span> <span class="mi">0</span><span class="o">;</span> <span class="mi">0</span><span class="o">;</span> <span class="mi">1</span><span class="o">;</span> <span class="mi">5</span><span class="o">;</span> <span class="mi">0</span><span class="o">;</span> <span class="mi">0</span> <span class="o">|];;</span>

<span class="k">let</span> <span class="n">lcor3</span> <span class="o">=</span> <span class="n">cree_lcor</span> <span class="n">muscle3</span><span class="o">;;</span>
</pre></div>

    </div>
</div>
</div>

<div class="output_wrapper">
<div class="output">


<div class="output_area">

    <div class="prompt output_prompt">Out[17]:</div>




<div class="output_text output_subarea output_execute_result">
<pre>val muscle3 : int array = [|0; 0; 3; 0; 0; 1; 5; 0; 0|]
</pre>
</div>

</div>

<div class="output_area">

    <div class="prompt output_prompt">Out[17]:</div>




<div class="output_text output_subarea output_execute_result">
<pre>val lcor3 : lcor array =
  [|{l = 0; co = 0; r = 3}; {l = 0; co = 3; r = 0}; {l = 3; co = 0; r = 0};
    {l = 0; co = 0; r = 1}; {l = 0; co = 1; r = 5}; {l = 1; co = 5; r = 0};
    {l = 5; co = 0; r = 0}|]
</pre>
</div>

</div>

</div>
</div>

</div>
<div class="cell border-box-sizing text_cell rendered"><div class="prompt input_prompt">
</div><div class="inner_cell">
<div class="text_cell_render border-box-sizing rendered_html">
<h3 id="Une-fonction-concise-pour-afficher-un-tissu-(ie.-une-ligne-de-cellules)">Une fonction concise pour afficher un tissu (ie. une ligne de cellules)<a class="anchor-link" href="#Une-fonction-concise-pour-afficher-un-tissu-(ie.-une-ligne-de-cellules)">&#182;</a></h3>
</div>
</div>
</div>
<div class="cell border-box-sizing code_cell rendered">
<div class="input">
<div class="prompt input_prompt">In&nbsp;[18]:</div>
<div class="inner_cell">
    <div class="input_area">
<div class=" highlight hl-OCaml"><pre><span></span><span class="k">let</span> <span class="n">print</span> <span class="o">=</span> <span class="nn">Format</span><span class="p">.</span><span class="n">printf</span><span class="o">;;</span>
</pre></div>

    </div>
</div>
</div>

<div class="output_wrapper">
<div class="output">


<div class="output_area">

    <div class="prompt output_prompt">Out[18]:</div>




<div class="output_text output_subarea output_execute_result">
<pre>val print : (&#39;a, Format.formatter, unit) format -&gt; &#39;a = &lt;fun&gt;
</pre>
</div>

</div>

</div>
</div>

</div>
<div class="cell border-box-sizing code_cell rendered">
<div class="input">
<div class="prompt input_prompt">In&nbsp;[19]:</div>
<div class="inner_cell">
    <div class="input_area">
<div class=" highlight hl-OCaml"><pre><span></span><span class="k">let</span> <span class="n">print_tissu_x</span> <span class="o">(</span><span class="n">etats</span> <span class="o">:</span> <span class="n">etatcellule</span> <span class="kt">list</span><span class="o">)</span> <span class="o">:</span> <span class="kt">unit</span> <span class="o">=</span>
    <span class="k">match</span> <span class="n">etats</span> <span class="k">with</span>
    <span class="o">|</span> <span class="bp">[]</span> <span class="o">-&gt;</span> <span class="n">print</span> <span class="s2">&quot;&quot;</span><span class="o">;</span>
    <span class="o">|</span> <span class="n">s0</span> <span class="o">::</span> <span class="bp">[]</span> <span class="o">-&gt;</span> <span class="n">print</span> <span class="s2">&quot;[ %i ]&quot;</span> <span class="n">s0</span><span class="o">;</span>
    <span class="o">|</span> <span class="n">s0</span> <span class="o">::</span> <span class="n">l</span> <span class="o">-&gt;</span> <span class="k">begin</span>
        <span class="n">print</span> <span class="s2">&quot;[ %i&quot;</span> <span class="n">s0</span><span class="o">;</span>
        <span class="nn">List</span><span class="p">.</span><span class="n">iter</span> <span class="o">(</span><span class="k">fun</span> <span class="o">(</span><span class="n">s</span> <span class="o">:</span> <span class="n">etatcellule</span><span class="o">)</span> <span class="o">-&gt;</span> <span class="n">print</span> <span class="s2">&quot;-%i&quot;</span> <span class="n">s</span><span class="o">)</span> <span class="n">l</span><span class="o">;</span>
        <span class="n">print</span> <span class="s2">&quot; ]&quot;</span><span class="o">;</span>
    <span class="k">end</span>
<span class="o">;;</span>
</pre></div>

    </div>
</div>
</div>

<div class="output_wrapper">
<div class="output">


<div class="output_area">

    <div class="prompt output_prompt">Out[19]:</div>




<div class="output_text output_subarea output_execute_result">
<pre>val print_tissu_x : etatcellule list -&gt; unit = &lt;fun&gt;
</pre>
</div>

</div>

</div>
</div>

</div>
<div class="cell border-box-sizing text_cell rendered"><div class="prompt input_prompt">
</div><div class="inner_cell">
<div class="text_cell_render border-box-sizing rendered_html">
<ul>
<li>Cette fonction s'exécute en temps linéaire $\mathcal{O}(n)$.</li>
</ul>

</div>
</div>
</div>
<div class="cell border-box-sizing text_cell rendered"><div class="prompt input_prompt">
</div><div class="inner_cell">
<div class="text_cell_render border-box-sizing rendered_html">
<p>Simple fonction pour <em>afficher</em> un <code>tissu</code> (revient à afficher un tableau) :</p>

</div>
</div>
</div>
<div class="cell border-box-sizing code_cell rendered">
<div class="input">
<div class="prompt input_prompt">In&nbsp;[20]:</div>
<div class="inner_cell">
    <div class="input_area">
<div class=" highlight hl-OCaml"><pre><span></span><span class="k">let</span> <span class="n">print_tissu</span> <span class="o">(</span><span class="n">o</span> <span class="o">:</span> <span class="n">tissu</span><span class="o">)</span> <span class="o">:</span> <span class="kt">unit</span> <span class="o">=</span>
    <span class="n">print_tissu_x</span> <span class="o">(</span><span class="nn">Array</span><span class="p">.</span><span class="n">to_list</span> <span class="n">o</span><span class="o">)</span>
<span class="o">;;</span>
</pre></div>

    </div>
</div>
</div>

<div class="output_wrapper">
<div class="output">


<div class="output_area">

    <div class="prompt output_prompt">Out[20]:</div>




<div class="output_text output_subarea output_execute_result">
<pre>val print_tissu : tissu -&gt; unit = &lt;fun&gt;
</pre>
</div>

</div>

</div>
</div>

</div>
<div class="cell border-box-sizing code_cell rendered">
<div class="input">
<div class="prompt input_prompt">In&nbsp;[21]:</div>
<div class="inner_cell">
    <div class="input_area">
<div class=" highlight hl-OCaml"><pre><span></span><span class="n">print_tissu</span> <span class="n">muscle1</span><span class="o">;;</span>
<span class="n">print_endline</span> <span class="s2">&quot; : muscle 1.</span><span class="se">\n</span><span class="s2">&quot;</span><span class="o">;;</span>
<span class="n">flush_all</span> <span class="bp">()</span><span class="o">;;</span>

<span class="n">print_tissu</span> <span class="n">muscle2</span><span class="o">;;</span>
<span class="n">print_endline</span> <span class="s2">&quot; : muscle 2.</span><span class="se">\n</span><span class="s2">&quot;</span><span class="o">;;</span>
<span class="n">flush_all</span> <span class="bp">()</span><span class="o">;;</span>

<span class="n">print_tissu</span> <span class="n">muscle3</span><span class="o">;;</span>
<span class="n">print_endline</span> <span class="s2">&quot; : muscle 3.</span><span class="se">\n</span><span class="s2">&quot;</span><span class="o">;;</span>
<span class="n">flush_all</span> <span class="bp">()</span><span class="o">;;</span>
</pre></div>

    </div>
</div>
</div>

<div class="output_wrapper">
<div class="output">


<div class="output_area">

    <div class="prompt output_prompt">Out[21]:</div>




<div class="output_text output_subarea output_execute_result">
<pre>- : unit = ()
</pre>
</div>

</div>

<div class="output_area">

    <div class="prompt output_prompt">Out[21]:</div>




<div class="output_text output_subarea output_execute_result">
<pre>- : unit = ()
</pre>
</div>

</div>

<div class="output_area">

    <div class="prompt output_prompt">Out[21]:</div>




<div class="output_text output_subarea output_execute_result">
<pre>- : unit = ()
</pre>
</div>

</div>

<div class="output_area">

    <div class="prompt"></div>


<div class="output_subarea output_stream output_stdout output_text">
<pre> : muscle 1.

</pre>
</div>
</div>

<div class="output_area">

    <div class="prompt output_prompt">Out[21]:</div>




<div class="output_text output_subarea output_execute_result">
<pre>- : unit = ()
</pre>
</div>

</div>

<div class="output_area">

    <div class="prompt"></div>


<div class="output_subarea output_stream output_stdout output_text">
<pre>[ 0-0-0-0-0-0-0-0-0-0-0-0-0-0-0-0-0-0-0-0 ][ 0-0-0-0-0-0-0-0-0-0-0-1-0-0-0-0-0-0-0-0-0 ] : muscle 2.

</pre>
</div>
</div>

<div class="output_area">

    <div class="prompt output_prompt">Out[21]:</div>




<div class="output_text output_subarea output_execute_result">
<pre>- : unit = ()
</pre>
</div>

</div>

<div class="output_area">

    <div class="prompt output_prompt">Out[21]:</div>




<div class="output_text output_subarea output_execute_result">
<pre>- : unit = ()
</pre>
</div>

</div>

<div class="output_area">

    <div class="prompt output_prompt">Out[21]:</div>




<div class="output_text output_subarea output_execute_result">
<pre>- : unit = ()
</pre>
</div>

</div>

<div class="output_area">

    <div class="prompt"></div>


<div class="output_subarea output_stream output_stdout output_text">
<pre>[ 0-0-3-0-0-1-5-0-0 ] : muscle 3.

</pre>
</div>
</div>

<div class="output_area">

    <div class="prompt output_prompt">Out[21]:</div>




<div class="output_text output_subarea output_execute_result">
<pre>- : unit = ()
</pre>
</div>

</div>

<div class="output_area">

    <div class="prompt output_prompt">Out[21]:</div>




<div class="output_text output_subarea output_execute_result">
<pre>- : unit = ()
</pre>
</div>

</div>

</div>
</div>

</div>
<div class="cell border-box-sizing text_cell rendered"><div class="prompt input_prompt">
</div><div class="inner_cell">
<div class="text_cell_render border-box-sizing rendered_html">
<h3 id="La-fonction-demand&#233;e-pour-faire-&#233;voluer-un-tissu,-&#233;tape-par-&#233;tape.">La fonction demand&#233;e pour faire &#233;voluer un tissu, &#233;tape par &#233;tape.<a class="anchor-link" href="#La-fonction-demand&#233;e-pour-faire-&#233;voluer-un-tissu,-&#233;tape-par-&#233;tape.">&#182;</a></h3>
</div>
</div>
</div>
<div class="cell border-box-sizing text_cell rendered"><div class="prompt input_prompt">
</div><div class="inner_cell">
<div class="text_cell_render border-box-sizing rendered_html">
<p><strong>Attention</strong>, elle agit par effet de bords ! (i.e., en modifiant <em>en place</em> le tissu donné, c'est pour ça qu'on utilise des tableaux et non des listes).</p>
<p>Cette fonction renvoie la valeur du tissu, pour éventuellement faire des sauvegardes ou l'afficher, mais le tissu est bien modifié en place !</p>

</div>
</div>
</div>
<div class="cell border-box-sizing code_cell rendered">
<div class="input">
<div class="prompt input_prompt">In&nbsp;[22]:</div>
<div class="inner_cell">
    <div class="input_area">
<div class=" highlight hl-OCaml"><pre><span></span><span class="k">let</span> <span class="n">une_etape_infection</span> <span class="o">(</span><span class="n">ti</span> <span class="o">:</span> <span class="n">tissu</span><span class="o">)</span> <span class="o">:</span> <span class="n">tissu</span> <span class="o">=</span>
    <span class="k">let</span> <span class="n">n</span> <span class="o">=</span> <span class="nn">Array</span><span class="p">.</span><span class="n">length</span> <span class="n">ti</span> <span class="k">in</span>
    <span class="k">let</span> <span class="n">lcor_ti</span> <span class="o">=</span> <span class="n">cree_lcor</span> <span class="n">ti</span> <span class="k">in</span>
    <span class="k">for</span> <span class="n">j</span> <span class="o">=</span> <span class="mi">1</span> <span class="k">to</span> <span class="n">n</span> <span class="o">-</span> <span class="mi">2</span> <span class="k">do</span>
        <span class="n">ti</span><span class="o">.(</span><span class="n">j</span><span class="o">)</span> <span class="o">&lt;-</span> <span class="n">nouvel_etat_cellule</span> <span class="n">lcor_ti</span><span class="o">.(</span><span class="n">j</span><span class="o">-</span><span class="mi">1</span><span class="o">)</span> <span class="bp">()</span>
    <span class="k">done</span><span class="o">;</span>
    <span class="n">ti</span>
<span class="o">;;</span>
</pre></div>

    </div>
</div>
</div>

<div class="output_wrapper">
<div class="output">


<div class="output_area">

    <div class="prompt output_prompt">Out[22]:</div>




<div class="output_text output_subarea output_execute_result">
<pre>val une_etape_infection : tissu -&gt; tissu = &lt;fun&gt;
</pre>
</div>

</div>

</div>
</div>

</div>
<div class="cell border-box-sizing text_cell rendered"><div class="prompt input_prompt">
</div><div class="inner_cell">
<div class="text_cell_render border-box-sizing rendered_html">
<ul>
<li>Cette fonction s'exécute en temps linéaire $\mathcal{O}(n)$, puisque <code>cree_lcor</code> l'est, et <code>nouvel_etat_cellule</code> est en temps constant.</li>
</ul>

</div>
</div>
</div>
<div class="cell border-box-sizing text_cell rendered"><div class="prompt input_prompt">
</div><div class="inner_cell">
<div class="text_cell_render border-box-sizing rendered_html">
<p>Un exemple sur le tissu sain, le tissu infecté au milieu et le tissu de la Figure 1.</p>

</div>
</div>
</div>
<div class="cell border-box-sizing code_cell rendered">
<div class="input">
<div class="prompt input_prompt">In&nbsp;[23]:</div>
<div class="inner_cell">
    <div class="input_area">
<div class=" highlight hl-OCaml"><pre><span></span><span class="n">une_etape_infection</span> <span class="n">muscle1</span><span class="o">;;</span>
</pre></div>

    </div>
</div>
</div>

<div class="output_wrapper">
<div class="output">


<div class="output_area">

    <div class="prompt output_prompt">Out[23]:</div>




<div class="output_text output_subarea output_execute_result">
<pre>- : tissu = [|0; 0; 0; 0; 0; 0; 0; 0; 0; 0; 0; 0; 0; 0; 0; 0; 0; 0; 0; 0|]
</pre>
</div>

</div>

</div>
</div>

</div>
<div class="cell border-box-sizing code_cell rendered">
<div class="input">
<div class="prompt input_prompt">In&nbsp;[24]:</div>
<div class="inner_cell">
    <div class="input_area">
<div class=" highlight hl-OCaml"><pre><span></span><span class="n">une_etape_infection</span> <span class="n">muscle2</span><span class="o">;;</span>
</pre></div>

    </div>
</div>
</div>

<div class="output_wrapper">
<div class="output">


<div class="output_area">

    <div class="prompt output_prompt">Out[24]:</div>




<div class="output_text output_subarea output_execute_result">
<pre>- : tissu = [|0; 0; 0; 0; 0; 0; 0; 0; 0; 0; 0; 2; 0; 0; 0; 0; 0; 0; 0; 0; 0|]
</pre>
</div>

</div>

</div>
</div>

</div>
<div class="cell border-box-sizing code_cell rendered">
<div class="input">
<div class="prompt input_prompt">In&nbsp;[25]:</div>
<div class="inner_cell">
    <div class="input_area">
<div class=" highlight hl-OCaml"><pre><span></span><span class="n">une_etape_infection</span> <span class="n">muscle3</span><span class="o">;;</span>
</pre></div>

    </div>
</div>
</div>

<div class="output_wrapper">
<div class="output">


<div class="output_area">

    <div class="prompt output_prompt">Out[25]:</div>




<div class="output_text output_subarea output_execute_result">
<pre>- : tissu = [|0; 1; 4; 1; 0; 2; 0; 1; 0|]
</pre>
</div>

</div>

</div>
</div>

</div>
<div class="cell border-box-sizing text_cell rendered"><div class="prompt input_prompt">
</div><div class="inner_cell">
<div class="text_cell_render border-box-sizing rendered_html">
<h3 id="Faire-&#233;voluer-sur-plusieurs-&#233;tapes,-en-affichant-les-&#233;tapes-interm&#233;diaires">Faire &#233;voluer sur plusieurs &#233;tapes, en affichant les &#233;tapes interm&#233;diaires<a class="anchor-link" href="#Faire-&#233;voluer-sur-plusieurs-&#233;tapes,-en-affichant-les-&#233;tapes-interm&#233;diaires">&#182;</a></h3>
</div>
</div>
</div>
<div class="cell border-box-sizing code_cell rendered">
<div class="input">
<div class="prompt input_prompt">In&nbsp;[26]:</div>
<div class="inner_cell">
    <div class="input_area">
<div class=" highlight hl-OCaml"><pre><span></span><span class="k">let</span> <span class="n">m_etapes_infection</span> <span class="o">(</span><span class="n">ti</span> <span class="o">:</span> <span class="n">tissu</span><span class="o">)</span> <span class="o">(</span><span class="n">m</span> <span class="o">:</span> <span class="kt">int</span><span class="o">)</span> <span class="o">:</span> <span class="n">tissu</span> <span class="o">=</span>
    <span class="n">print</span> <span class="s2">&quot;</span><span class="se">\n\n</span><span class="s2">START : %i étapes de propagation de l&#39;infection.&quot;</span> <span class="n">m</span><span class="o">;</span>
    <span class="n">print</span> <span class="s2">&quot;</span><span class="se">\n</span><span class="s2">Étape  0 : &quot;</span><span class="o">;</span>
    <span class="n">print_tissu</span> <span class="n">ti</span><span class="o">;</span>
    <span class="k">for</span> <span class="n">j</span> <span class="o">=</span> <span class="mi">1</span> <span class="k">to</span> <span class="n">m</span> <span class="k">do</span>
        <span class="n">print</span> <span class="s2">&quot;</span><span class="se">\n</span><span class="s2">Étape %.2i : &quot;</span> <span class="n">j</span><span class="o">;</span>
        <span class="n">print_tissu</span> <span class="o">(</span><span class="n">une_etape_infection</span> <span class="n">ti</span><span class="o">);</span>
    <span class="k">done</span><span class="o">;</span>
    <span class="n">flush_all</span> <span class="bp">()</span><span class="o">;</span>
    <span class="n">ti</span>
<span class="o">;;</span>
</pre></div>

    </div>
</div>
</div>

<div class="output_wrapper">
<div class="output">


<div class="output_area">

    <div class="prompt output_prompt">Out[26]:</div>




<div class="output_text output_subarea output_execute_result">
<pre>val m_etapes_infection : tissu -&gt; int -&gt; tissu = &lt;fun&gt;
</pre>
</div>

</div>

</div>
</div>

</div>
<div class="cell border-box-sizing text_cell rendered"><div class="prompt input_prompt">
</div><div class="inner_cell">
<div class="text_cell_render border-box-sizing rendered_html">
<ul>
<li>Cette fonction s'exécute en temps $\mathcal{O}(n \times m)$, puisqu'elle appelle $m$ fois <code>une_etape_infection</code> qui est en temps linéaire $\mathcal{O}(n)$.</li>
</ul>

</div>
</div>
</div>
<div class="cell border-box-sizing text_cell rendered"><div class="prompt input_prompt">
</div><div class="inner_cell">
<div class="text_cell_render border-box-sizing rendered_html">
<p>On relance les exemples depuis le début :</p>

</div>
</div>
</div>
<div class="cell border-box-sizing code_cell rendered">
<div class="input">
<div class="prompt input_prompt">In&nbsp;[27]:</div>
<div class="inner_cell">
    <div class="input_area">
<div class=" highlight hl-OCaml"><pre><span></span><span class="k">let</span> <span class="n">muscle1</span> <span class="o">=</span> <span class="n">nouveau_tissu</span> <span class="mi">20</span><span class="o">;;</span>
<span class="n">m_etapes_infection</span> <span class="n">muscle1</span> <span class="mi">3</span><span class="o">;;</span>
<span class="c">(* Il n&#39;évolue pas *)</span>
</pre></div>

    </div>
</div>
</div>

<div class="output_wrapper">
<div class="output">


<div class="output_area">

    <div class="prompt output_prompt">Out[27]:</div>




<div class="output_text output_subarea output_execute_result">
<pre>val muscle1 : tissu =
  [|0; 0; 0; 0; 0; 0; 0; 0; 0; 0; 0; 0; 0; 0; 0; 0; 0; 0; 0; 0|]
</pre>
</div>

</div>

<div class="output_area">

    <div class="prompt"></div>


<div class="output_subarea output_stream output_stdout output_text">
<pre>
START : 3 étapes de propagation de l&#39;infection.
Étape  0 : [ 0-0-0-0-0-0-0-0-0-0-0-0-0-0-0-0-0-0-0-0 ]
Étape 01 : [ 0-0-0-0-0-0-0-0-0-0-0-0-0-0-0-0-0-0-0-0 ]
Étape 02 : [ 0-0-0-0-0-0-0-0-0-0-0-0-0-0-0-0-0-0-0-0 ]
</pre>
</div>
</div>

<div class="output_area">

    <div class="prompt output_prompt">Out[27]:</div>




<div class="output_text output_subarea output_execute_result">
<pre>- : tissu = [|0; 0; 0; 0; 0; 0; 0; 0; 0; 0; 0; 0; 0; 0; 0; 0; 0; 0; 0; 0|]
</pre>
</div>

</div>

</div>
</div>

</div>
<div class="cell border-box-sizing code_cell rendered">
<div class="input">
<div class="prompt input_prompt">In&nbsp;[28]:</div>
<div class="inner_cell">
    <div class="input_area">
<div class=" highlight hl-OCaml"><pre><span></span><span class="k">let</span> <span class="n">muscle2</span> <span class="o">=</span> <span class="k">let</span> <span class="n">m</span> <span class="o">=</span> <span class="n">nouveau_tissu</span> <span class="mi">21</span> <span class="k">in</span> <span class="k">begin</span> <span class="n">infecte_cible</span> <span class="n">m</span> <span class="mi">11</span><span class="o">;</span>  <span class="n">m</span> <span class="k">end</span><span class="o">;;</span>
<span class="n">m_etapes_infection</span> <span class="n">muscle2</span> <span class="mi">40</span><span class="o">;;</span>
<span class="c">(* tout le tissu est infecté ! Dès la 20ème étape *)</span>
</pre></div>

    </div>
</div>
</div>

<div class="output_wrapper">
<div class="output">


<div class="output_area">

    <div class="prompt output_prompt">Out[28]:</div>




<div class="output_text output_subarea output_execute_result">
<pre>val muscle2 : tissu =
  [|0; 0; 0; 0; 0; 0; 0; 0; 0; 0; 0; 1; 0; 0; 0; 0; 0; 0; 0; 0; 0|]
</pre>
</div>

</div>

<div class="output_area">

    <div class="prompt"></div>


<div class="output_subarea output_stream output_stdout output_text">
<pre>Étape 03 : [ 0-0-0-0-0-0-0-0-0-0-0-0-0-0-0-0-0-0-0-0 ]

START : 40 étapes de propagation de l&#39;infection.
Étape  0 : [ 0-0-0-0-0-0-0-0-0-0-0-1-0-0-0-0-0-0-0-0-0 ]
Étape 01 : [ 0-0-0-0-0-0-0-0-0-0-0-2-0-0-0-0-0-0-0-0-0 ]
Étape 02 : [ 0-0-0-0-0-0-0-0-0-0-1-3-1-0-0-0-0-0-0-0-0 ]
Étape 03 : [ 0-0-0-0-0-0-0-0-0-0-2-4-2-0-0-0-0-0-0-0-0 ]
Étape 04 : [ 0-0-0-0-0-0-0-0-0-1-3-5-3-1-0-0-0-0-0-0-0 ]
Étape 05 : [ 0-0-0-0-0-0-0-0-0-2-4-0-4-2-0-0-0-0-0-0-0 ]
Étape 06 : [ 0-0-0-0-0-0-0-0-1-3-5-1-5-3-1-0-0-0-0-0-0 ]
Étape 07 : [ 0-0-0-0-0-0-0-0-2-4-0-2-0-4-2-0-0-0-0-0-0 ]
Étape 08 : [ 0-0-0-0-0-0-0-1-3-5-1-3-1-5-3-1-0-0-0-0-0 ]
Étape 09 : [ 0-0-0-0-0-0-0-2-4-0-2-4-2-0-4-2-0-0-0-0-0 ]
Étape 10 : [ 0-0-0-0-0-0-1-3-5-1-3-5-3-1-5-3-1-0-0-0-0 ]
Étape 11 : [ 0-0-0-0-0-0-2-4-0-2-4-0-4-2-0-4-2-0-0-0-0 ]
Étape 12 : [ 0-0-0-0-0-1-3-5-1-3-5-1-5-3-1-5-3-1-0-0-0 ]
Étape 13 : [ 0-0-0-0-0-2-4-0-2-4-0-2-0-4-2-0-4-2-0-0-0 ]
Étape 14 : [ 0-0-0-0-1-3-5-1-3-5-1-3-1-5-3-1-5-3-1-0-0 ]
Étape 15 : [ 0-0-0-0-2-4-0-2-4-0-2-4-2-0-4-2-0-4-2-0-0 ]
Étape 16 : [ 0-0-0-1-3-5-1-3-5-1-3-5-3-1-5-3-1-5-3-1-0 ]
Étape 17 : [ 0-0-0-2-4-0-2-4-0-2-4-0-4-2-0-4-2-0-4-2-0 ]
Étape 18 : [ 0-0-1-3-5-1-3-5-1-3-5-1-5-3-1-5-3-1-5-3-0 ]
Étape 19 : [ 0-0-2-4-0-2-4-0-2-4-0-2-0-4-2-0-4-2-0-4-0 ]
Étape 20 : [ 0-1-3-5-1-3-5-1-3-5-1-3-1-5-3-1-5-3-1-5-0 ]
Étape 21 : [ 0-2-4-0-2-4-0-2-4-0-2-4-2-0-4-2-0-4-2-0-0 ]
Étape 22 : [ 0-3-5-1-3-5-1-3-5-1-3-5-3-1-5-3-1-5-3-1-0 ]
Étape 23 : [ 0-4-0-2-4-0-2-4-0-2-4-0-4-2-0-4-2-0-4-2-0 ]
Étape 24 : [ 0-5-1-3-5-1-3-5-1-3-5-1-5-3-1-5-3-1-5-3-0 ]
Étape 25 : [ 0-0-2-4-0-2-4-0-2-4-0-2-0-4-2-0-4-2-0-4-0 ]
Étape 26 : [ 0-1-3-5-1-3-5-1-3-5-1-3-1-5-3-1-5-3-1-5-0 ]
Étape 27 : [ 0-2-4-0-2-4-0-2-4-0-2-4-2-0-4-2-0-4-2-0-0 ]
Étape 28 : [ 0-3-5-1-3-5-1-3-5-1-3-5-3-1-5-3-1-5-3-1-0 ]
Étape 29 : [ 0-4-0-2-4-0-2-4-0-2-4-0-4-2-0-4-2-0-4-2-0 ]
Étape 30 : [ 0-5-1-3-5-1-3-5-1-3-5-1-5-3-1-5-3-1-5-3-0 ]
Étape 31 : [ 0-0-2-4-0-2-4-0-2-4-0-2-0-4-2-0-4-2-0-4-0 ]
Étape 32 : [ 0-1-3-5-1-3-5-1-3-5-1-3-1-5-3-1-5-3-1-5-0 ]
Étape 33 : [ 0-2-4-0-2-4-0-2-4-0-2-4-2-0-4-2-0-4-2-0-0 ]
Étape 34 : [ 0-3-5-1-3-5-1-3-5-1-3-5-3-1-5-3-1-5-3-1-0 ]
Étape 35 : [ 0-4-0-2-4-0-2-4-0-2-4-0-4-2-0-4-2-0-4-2-0 ]
Étape 36 : [ 0-5-1-3-5-1-3-5-1-3-5-1-5-3-1-5-3-1-5-3-0 ]
Étape 37 : [ 0-0-2-4-0-2-4-0-2-4-0-2-0-4-2-0-4-2-0-4-0 ]
Étape 38 : [ 0-1-3-5-1-3-5-1-3-5-1-3-1-5-3-1-5-3-1-5-0 ]
Étape 39 : [ 0-2-4-0-2-4-0-2-4-0-2-4-2-0-4-2-0-4-2-0-0 ]
</pre>
</div>
</div>

<div class="output_area">

    <div class="prompt output_prompt">Out[28]:</div>




<div class="output_text output_subarea output_execute_result">
<pre>- : tissu = [|0; 3; 5; 1; 3; 5; 1; 3; 5; 1; 3; 5; 3; 1; 5; 3; 1; 5; 3; 1; 0|]
</pre>
</div>

</div>

</div>
</div>

</div>
<div class="cell border-box-sizing code_cell rendered">
<div class="input">
<div class="prompt input_prompt">In&nbsp;[29]:</div>
<div class="inner_cell">
    <div class="input_area">
<div class=" highlight hl-OCaml"><pre><span></span><span class="k">let</span> <span class="n">muscle3</span> <span class="o">=</span> <span class="o">[|</span> <span class="mi">0</span><span class="o">;</span> <span class="mi">0</span><span class="o">;</span> <span class="mi">3</span><span class="o">;</span> <span class="mi">0</span><span class="o">;</span> <span class="mi">0</span><span class="o">;</span> <span class="mi">1</span><span class="o">;</span> <span class="mi">5</span><span class="o">;</span> <span class="mi">0</span><span class="o">;</span> <span class="mi">0</span> <span class="o">|];;</span>
<span class="n">m_etapes_infection</span> <span class="n">muscle3</span> <span class="mi">8</span><span class="o">;;</span>
<span class="c">(* 3 étapes suffisent à tout infecter *)</span>
</pre></div>

    </div>
</div>
</div>

<div class="output_wrapper">
<div class="output">


<div class="output_area">

    <div class="prompt output_prompt">Out[29]:</div>




<div class="output_text output_subarea output_execute_result">
<pre>val muscle3 : int array = [|0; 0; 3; 0; 0; 1; 5; 0; 0|]
</pre>
</div>

</div>

<div class="output_area">

    <div class="prompt output_prompt">Out[29]:</div>




<div class="output_text output_subarea output_execute_result">
<pre>- : tissu = [|0; 2; 5; 2; 1; 3; 1; 2; 0|]
</pre>
</div>

</div>

<div class="output_area">

    <div class="prompt"></div>


<div class="output_subarea output_stream output_stdout output_text">
<pre>Étape 40 : [ 0-3-5-1-3-5-1-3-5-1-3-5-3-1-5-3-1-5-3-1-0 ]

START : 8 étapes de propagation de l&#39;infection.
Étape  0 : [ 0-0-3-0-0-1-5-0-0 ]
Étape 01 : [ 0-1-4-1-0-2-0-1-0 ]
Étape 02 : [ 0-2-5-2-1-3-1-2-0 ]
Étape 03 : [ 0-3-0-3-2-4-2-3-0 ]
Étape 04 : [ 0-4-1-4-3-5-3-4-0 ]
Étape 05 : [ 0-5-2-5-4-0-4-5-0 ]
Étape 06 : [ 0-0-3-0-5-1-5-0-0 ]
Étape 07 : [ 0-1-4-1-0-2-0-1-0 ]
</pre>
</div>
</div>

</div>
</div>

</div>
<div class="cell border-box-sizing text_cell rendered"><div class="prompt input_prompt">
</div><div class="inner_cell">
<div class="text_cell_render border-box-sizing rendered_html">
<blockquote><p>Voilà, ce sera tout pour cette solution.</p>
</blockquote>

</div>
</div>
</div>
<div class="cell border-box-sizing text_cell rendered"><div class="prompt input_prompt">
</div><div class="inner_cell">
<div class="text_cell_render border-box-sizing rendered_html">
<hr>
<h2 id="Complexit&#233;s-en-temps-et-espace-(bonus)">Complexit&#233;s en temps et espace (bonus)<a class="anchor-link" href="#Complexit&#233;s-en-temps-et-espace-(bonus)">&#182;</a></h2><p>Il est toujours utile de préciser, rapidement à l'oral et/ou dans le code (un commentaire suffit) les complexité (ou ordre de grandeur) des fonctions exigées par l'énoncé.</p>

</div>
</div>
</div>
<div class="cell border-box-sizing text_cell rendered"><div class="prompt input_prompt">
</div><div class="inner_cell">
<div class="text_cell_render border-box-sizing rendered_html">
<h3 id="En-temps">En temps<a class="anchor-link" href="#En-temps">&#182;</a></h3><ul>
<li>Une étape d'infection, i.e., <code>une_etape_infection</code>, est en temps linéaire $\mathcal{O}(n)$ (et c'est optimal),</li>
<li>Donc $m$ étapes, i.e., <code>m_etapes_infection</code>, est en temps $\mathcal{O}(n \times m)$ (et c'est optimal).</li>
</ul>

</div>
</div>
</div>
<div class="cell border-box-sizing text_cell rendered"><div class="prompt input_prompt">
</div><div class="inner_cell">
<div class="text_cell_render border-box-sizing rendered_html">
<h3 id="En-espace">En espace<a class="anchor-link" href="#En-espace">&#182;</a></h3><p>Tout est bien évidemment linéaire en $n$ la taille du tissu.</p>

</div>
</div>
</div>
<div class="cell border-box-sizing text_cell rendered"><div class="prompt input_prompt">
</div><div class="inner_cell">
<div class="text_cell_render border-box-sizing rendered_html">
<hr>
<h2 id="Conclusion">Conclusion<a class="anchor-link" href="#Conclusion">&#182;</a></h2><p>Voilà pour la question obligatoire de programmation.</p>
<h3 id="Qualit&#233;s">Qualit&#233;s<a class="anchor-link" href="#Qualit&#233;s">&#182;</a></h3><ul>
<li>On a décomposé le problème en sous-fonctions,</li>
<li>on a fait des exemples et <em>on les garde</em> dans ce qu'on présente au jury,</li>
<li>on a testé la fonction exigée sur de petits exemples et sur un exemple de taille réelle (venant du texte).</li>
</ul>
<h3 id="D&#233;fauts">D&#233;fauts<a class="anchor-link" href="#D&#233;fauts">&#182;</a></h3><ul>
<li>Par contre, on a testé avec uniquement une valeur pour $I$ et $K$ (resp., $2$ et $5$), et les fonctions écrites ne sont pas paramétriques en $I$ et $K$. (notez que ce serait assez trivial de les rendre des paramètres)</li>
</ul>
<blockquote><p>Bien-sûr, ce petit notebook ne se prétend pas être une solution optimale, ni exhaustive.</p>
<p>Vous auriez pu choisir de modéliser le problème avec une autre approche, ou vous auriez pu expérimenter des extensions de cette approche (e.g., des tissus en 2D ou 3D).</p>
</blockquote>

</div>
</div>
</div>
 


    </div>
  </div>

  </div>


  
    <footer class="footer hidden-print">
      <div class="container">
        <div class="col-md-4">
          <p>
            This website does not host notebooks, it only renders notebooks
            available on other websites.
          </p>
        </div>

        <div class="col-md-4">
          <p>
            Delivered by <a href="https://www.fastly.com/">Fastly</a>,
            Rendered by <a href="https://developer.rackspace.com/?nbviewer=awesome">Rackspace</a>
          </p>
          <p>
            nbviewer GitHub <a href="https://github.com/jupyter/nbviewer">repository</a>.
          </p>
        </div>

        <div class="col-md-4">
          
  
            
              <p>
                nbviewer version:
                <a href="https://github.com/jupyter/nbviewer/commit/8a8fd298b446096dddc874da57e99dd22a2d8d97">
                  8a8fd29
                </a>
              </p>
            
          
  
  <p>
    nbconvert version: <a href="https://github.com/jupyter/nbconvert/releases/tag/5.6.1">
      5.6.1
    </a>
  </p>
  

          
  
  
  <p>
    Rendered
    <span class='date' data-date='Mon, 27 Jan 2020 13:30:52 UTC' title='Mon, 27 Jan 2020 13:30:52 UTC'>(Mon, 27 Jan 2020 13:30:52 UTC)</span>
  </p>
  

        </div>
      </div>
    </footer>
  

  <script src="/static/components/bootstrap/js/bootstrap.min.js?v=5869c96cc8f19086aee625d670d741f9"></script>
  <script src="/static/components/headroom.js/dist/headroom.min.js?v=b0a311ea668f8e768ea375f4a7abb81c"></script>
  <script src="/static/components/headroom.js/dist/jQuery.headroom.min.js?v=f3a1bae118315d0c234afc74dc6aab71"></script>

  
  
  <script>
    $(function(){ $("#menubar").headroom({
      tolerance: 5,
      offset: 205,
      classes: {
        initial: "animated",
        pinned: "slideInDown",
        unpinned: "slideOutUp"
      }
    })});
  </script>


  
  <script>
    (function(i,s,o,g,r,a,m){i['GoogleAnalyticsObject']=r;i[r]=i[r]||function(){
      (i[r].q=i[r].q||[]).push(arguments)},i[r].l=1*new Date();a=s.createElement(o),
      m=s.getElementsByTagName(o)[0];a.async=1;a.src=g;m.parentNode.insertBefore(a,m)
    })(window,document,'script','https://www.google-analytics.com/analytics.js','ga');
    ga('create', 'UA-52617120-5', 'auto',
       {'storage': 'none'});
    ga('set', 'anonymizeIp', true);
    ga('send', 'pageview');
  </script>
  
  <script>
    require({
        paths: {
          moment: "/static/components/moment/min/moment.min.js?v=89f87298ad94aa1e6b92f42eb66da043"
        }
      }, ["moment"], function(moment){
      var date = $("footer .date"),
        m = moment(new Date(date.data('date'))),
        update = function(){ date.text(m.fromNow()); };
      setInterval(update, 61*1000);
      update();
      var w = $(window).scroll(function(event){
        $("body").toggleClass("scrolled", w.scrollTop() > 0);
      });
    });
  </script>

  <!--NEW RELIC Stop Perf Measurement-->
  
  <!--NEW RELIC End-->
</body>
</html>