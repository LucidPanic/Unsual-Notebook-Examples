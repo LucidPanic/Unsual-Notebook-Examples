








<!DOCTYPE html>
<html lang="en">

<head>
  <meta charset="utf-8">
  <title>Jupyter Notebook Viewer</title>
  <meta name="viewport" content="width=device-width, initial-scale=1.0">
  <meta name="description" content="">
  <meta name="author" content="">
  
  <meta name="robots" content="noindex,nofollow">
  

  <!--NEW RELIC Start Perf Measurement-->
  
  <!--NREND-->

  <!-- Le styles -->
  <link href="/static/build/styles.css?v=55ba354138253381d2c0ada9821cd4da" rel="stylesheet">

  <!-- Le HTML5 shim, for IE6-8 support of HTML5 elements -->
  <!--[if lt IE 9]>
    <script src="http://html5shim.googlecode.com/svn/trunk/html5.js"></script>
  <![endif]-->

  <!-- Le fav and touch icons -->
  <link rel="shortcut icon" href="/static/ico/ipynb_icon_16x16.png">
  <link rel="apple-touch-icon-precomposed" sizes="144x144"
        href="/static/ico/apple-touch-icon-144-precomposed.png?v=5a3c9ede93e2a8b8ea9e3f8f3da1a905">
  <link rel="apple-touch-icon-precomposed" sizes="114x114"
        href="/static/ico/apple-touch-icon-114-precomposed.png?v=45d86fc8f24dc00638035e1dd7a6d898">
  <link rel="apple-touch-icon-precomposed" sizes="72x72"
        href="/static/ico/apple-touch-icon-72-precomposed.png?v=540b5eb0f3cfd25f1439d1c9bd30e15f">
  <link rel="apple-touch-icon-precomposed"
        href="/static/ico/apple-touch-icon-57-precomposed.png?v=225f0590e187e1458625654f10a28f56">
  
  

  

  
  <meta name="twitter:card" content="summary">
  <meta name="twitter:title" content="Notebook on nbviewer">
  <meta name="twitter:description" content="Check out this Jupyter notebook!">

  
  <meta name="twitter:domain" content="nbviewer.jupyter.org">
  <meta name="twitter:image:src" content="http://ipython.org/ipython-doc/dev/_images/ipynb_icon_128x128.png">

  
    <link href="/static/build/notebook.css?v=aae8f92f7e80fc468ae446b9d852fe90" rel="stylesheet">
  

  

  
    <script src="https://cdnjs.cloudflare.com/ajax/libs/mathjax/2.7.1/MathJax.js?config=TeX-AMS_HTML" type="text/javascript">
    </script>
    <script type="text/javascript">
      init_mathjax = function() {
        if (window.MathJax) {
          // MathJax loaded
          MathJax.Hub.Config({
            TeX: {
              equationNumbers: {
                autoNumber: "AMS",
                useLabelIds: true
              }
            },
            tex2jax: {
              inlineMath: [ ['$','$'], ["\\(","\\)"] ],
              displayMath: [ ['$$','$$'], ["\\[","\\]"] ],
              processEscapes: true,
              processEnvironments: true
            },
            displayAlign: 'center',
            "HTML-CSS": {
              styles: {'.MathJax_Display': {"margin": 0}},
              linebreaks: { automatic: true }
            }
          });
          MathJax.Hub.Queue(["Typeset", MathJax.Hub]);
        }
      }
      init_mathjax();
    </script>
  

  
    <script>
      (function() {
        function addWidgetsRenderer() {
          var mimeElement = document.querySelector('script[type="application/vnd.jupyter.widget-view+json"]');
          var scriptElement = document.createElement('script');
          var widgetRendererSrc = 'https://unpkg.com/@jupyter-widgets/html-manager@0.15/dist/embed-amd.js';
          var widgetState;

          try {
            widgetState = mimeElement && JSON.parse(mimeElement.innerHTML);

            if (widgetState && (widgetState.version_major < 2 || !widgetState.version_major)) {
              widgetRendererSrc = 'https://unpkg.com/jupyter-js-widgets@2.1/dist/embed.js';
            }
          } catch(e) {}

          scriptElement.src = widgetRendererSrc;
          document.body.appendChild(scriptElement);
        }

        document.addEventListener('DOMContentLoaded', addWidgetsRenderer);
      }());
    </script>
  

</head>

<body class="nbviewer">

  <!-- These are loaded at the top of the body so they are available to
       notebook cells when they are loaded below. -->
  <script src="/static/components/jquery/dist/jquery.min.js?v=220afd743d9e9643852e31a135a9f3ae"></script>
  <script src="/static/components/requirejs/require.js?v=6da8be361b9ee26c5e721e76c6d4afce"></script>
  <script src="/static/components/moment/min/moment.min.js?v=89f87298ad94aa1e6b92f42eb66da043"></script>
<!-- Navbar
================================================== -->
  <nav id="menubar" class="navbar navbar-default navbar-fixed-top" data-spy="affix">
    <div class="container">
      <div class="navbar-header">
        <button type="button" class="navbar-toggle collapsed" data-toggle="collapse" data-target=".navbar-collapse">
          <span class="sr-only">Toggle navigation</span>
          <i class="fa fa-bars"></i>
        </button>
        <a class="navbar-brand" href="/">
          <img src="/static/img/nav_logo.svg?v=479cefe8d932fb14a67b93911b97d70f" width="159"/>
        </a>
      </div>

      <div class="collapse navbar-collapse">
        <ul class="nav navbar-nav navbar-right">
          <li>
            <a class="active" href="https://jupyter.org">JUPYTER</a>
          </li>
          <li>
    <a href="/faq" title="FAQ" >
      
        <span>FAQ</span>
      
    </a>
  </li>

          
  
    
  
    
      
        <li>
    <a href="/format/script/github/Naereen/notebooks/blob/master/Generer_des_fausses_citations_latines_du_Roi_Loth.ipynb" title="View as Code" >
      <span class="fa fa-code fa-2x menu-icon"></span>
      <span class="menu-text">View as Code</span>
    </a>
  </li>
      
    
  

  
    <li>
    <a href="#" title="Python 3 Kernel" >
      <span class="fa fa-server fa-2x menu-icon"></span>
      <span class="menu-text">Python 3 Kernel</span>
    </a>
  </li>
  

  
    <li>
    <a href="https://github.com/Naereen/notebooks/blob/master/Generer_des_fausses_citations_latines_du_Roi_Loth.ipynb" title="View on GitHub" >
      <span class="fa fa-github fa-2x menu-icon"></span>
      <span class="menu-text">View on GitHub</span>
    </a>
  </li>
  

  
    <li>
    <a href="https://mybinder.org/v2/gh/Naereen/notebooks/master?filepath=Generer_des_fausses_citations_latines_du_Roi_Loth.ipynb" title="Execute on Binder" >
      <span class="fa fa-icon-binder fa-2x menu-icon"></span>
      <span class="menu-text">Execute on Binder</span>
    </a>
  </li>
  

  <li>
    <a href="https://raw.githubusercontent.com/Naereen/notebooks/master/Generer_des_fausses_citations_latines_du_Roi_Loth.ipynb" title="Download Notebook" download>
      <span class="fa fa-download fa-2x menu-icon"></span>
      <span class="menu-text">Download Notebook</span>
    </a>
  </li>

        </ul>
      </div><!-- /.navbar-collapse -->
      
      
    </div>
  </nav>

  <div class="container container-main">
    
  
  <ol class="breadcrumb">
    
      <li>
        <a href="/github/Naereen/notebooks/tree/master">notebooks</a>
      </li>
    
      <li>
        <a href="/github/Naereen/notebooks/tree/master/Generer_des_fausses_citations_latines_du_Roi_Loth.ipynb">Generer_des_fausses_citations_latines_du_Roi_Loth.ipynb</a>
      </li>
    
  </ol>
  
  <div id="notebook">
    <div id="notebook-container">
      <div class="cell border-box-sizing text_cell rendered"><div class="prompt input_prompt">
</div><div class="inner_cell">
<div class="text_cell_render border-box-sizing rendered_html">
<h1 id="Table-of-Contents">Table of Contents<a class="anchor-link" href="#Table-of-Contents">&#182;</a></h1><p><p><div class="lev1 toc-item"><a href="#Générer-des-fausses-citations-latines-du-Roi-Loth,-avec-Python,-Wikiquote-et-des-chaînes-de-Markov" data-toc-modified-id="Générer-des-fausses-citations-latines-du-Roi-Loth,-avec-Python,-Wikiquote-et-des-chaînes-de-Markov-1"><span class="toc-item-num">1&nbsp;&nbsp;</span>Générer des fausses citations latines du Roi Loth, avec Python, Wikiquote et des chaînes de Markov</a></div><div class="lev2 toc-item"><a href="#Dépendances" data-toc-modified-id="Dépendances-11"><span class="toc-item-num">1.1&nbsp;&nbsp;</span>Dépendances</a></div><div class="lev2 toc-item"><a href="#Récupérer-et-nettoyer-les-données" data-toc-modified-id="Récupérer-et-nettoyer-les-données-12"><span class="toc-item-num">1.2&nbsp;&nbsp;</span>Récupérer et nettoyer les données</a></div><div class="lev2 toc-item"><a href="#Exploration-de-chaînes-de-Markov-pour-la-génération-aléatoire" data-toc-modified-id="Exploration-de-chaînes-de-Markov-pour-la-génération-aléatoire-13"><span class="toc-item-num">1.3&nbsp;&nbsp;</span>Exploration de chaînes de Markov pour la génération aléatoire</a></div><div class="lev2 toc-item"><a href="#Fausses-locutions-latines" data-toc-modified-id="Fausses-locutions-latines-14"><span class="toc-item-num">1.4&nbsp;&nbsp;</span>Fausses locutions latines</a></div><div class="lev2 toc-item"><a href="#Fausses-citations-du-Roi-Loth" data-toc-modified-id="Fausses-citations-du-Roi-Loth-15"><span class="toc-item-num">1.5&nbsp;&nbsp;</span>Fausses citations du Roi Loth</a></div><div class="lev3 toc-item"><a href="#Premier-exemple" data-toc-modified-id="Premier-exemple-151"><span class="toc-item-num">1.5.1&nbsp;&nbsp;</span>Premier exemple</a></div><div class="lev3 toc-item"><a href="#Exemples" data-toc-modified-id="Exemples-152"><span class="toc-item-num">1.5.2&nbsp;&nbsp;</span>Exemples</a></div><div class="lev3 toc-item"><a href="#Générer-aléatoirement-les-métadonnées-de-l'épisode" data-toc-modified-id="Générer-aléatoirement-les-métadonnées-de-l'épisode-153"><span class="toc-item-num">1.5.3&nbsp;&nbsp;</span>Générer aléatoirement les métadonnées de l'épisode</a></div><div class="lev3 toc-item"><a href="#Générer-aléatoirement-les-explications-foireuses-du-Roi-Loth" data-toc-modified-id="Générer-aléatoirement-les-explications-foireuses-du-Roi-Loth-154"><span class="toc-item-num">1.5.4&nbsp;&nbsp;</span>Générer aléatoirement les explications foireuses du Roi Loth</a></div><div class="lev3 toc-item"><a href="#Combiner-le-tout-!" data-toc-modified-id="Combiner-le-tout-!-155"><span class="toc-item-num">1.5.5&nbsp;&nbsp;</span>Combiner le tout !</a></div><div class="lev3 toc-item"><a href="#Exemples" data-toc-modified-id="Exemples-156"><span class="toc-item-num">1.5.6&nbsp;&nbsp;</span>Exemples</a></div><div class="lev3 toc-item"><a href="#Joli-affichage" data-toc-modified-id="Joli-affichage-157"><span class="toc-item-num">1.5.7&nbsp;&nbsp;</span>Joli affichage</a></div><div class="lev3 toc-item"><a href="#Conclusion" data-toc-modified-id="Conclusion-158"><span class="toc-item-num">1.5.8&nbsp;&nbsp;</span>Conclusion</a></div></p>

</div>
</div>
</div>
<div class="cell border-box-sizing text_cell rendered"><div class="prompt input_prompt">
</div><div class="inner_cell">
<div class="text_cell_render border-box-sizing rendered_html">
<h1 id="G&#233;n&#233;rer-des-fausses-citations-latines-du-Roi-Loth,-avec-Python,-Wikiquote-et-des-cha&#238;nes-de-Markov">G&#233;n&#233;rer des fausses citations latines du Roi Loth, avec Python, Wikiquote et des cha&#238;nes de Markov<a class="anchor-link" href="#G&#233;n&#233;rer-des-fausses-citations-latines-du-Roi-Loth,-avec-Python,-Wikiquote-et-des-cha&#238;nes-de-Markov">&#182;</a></h1><p>J'aimerai montrer ici comment générer des fausses citations latines, dignes du <a href="https://fr.wikipedia.org/wiki/Personnages_de_Kaamelott#Loth_d%E2%80%99Orcanie">Roi Loth</a> de <a href="https://fr.wikiquote.org/wiki/Kaamelott">Kaamelott</a>, avec Python, des données extraites de <a href="https://fr.wikiquote.org/wiki/Kaamelott/Loth">sa page Wikiquote</a> et des <a href="https://github.com/jilljenn/markov.py">chaînes de Markov</a>.</p>
<blockquote><p>Cf. <a href="https://github.com/Naereen/notebooks/issues/13">ce ticket</a> pour l'idée initiale.</p>
</blockquote>
<p>Exemple  de sortie :</p>

</div>
</div>
</div>
<div class="cell border-box-sizing code_cell rendered">
<div class="input">
<div class="prompt input_prompt">In&nbsp;[32]:</div>
<div class="inner_cell">
    <div class="input_area">
<div class=" highlight hl-ipython3"><pre><span></span><span class="n">citation</span> <span class="o">=</span> <span class="n">citation_aleatoire</span><span class="p">(</span><span class="n">italic</span><span class="o">=</span><span class="kc">True</span><span class="p">)</span>
<span class="n">display</span><span class="p">(</span><span class="n">Markdown</span><span class="p">(</span><span class="s2">&quot;&gt; </span><span class="si">{}</span><span class="s2">&quot;</span><span class="o">.</span><span class="n">format</span><span class="p">(</span><span class="n">citation</span><span class="p">)))</span>
</pre></div>

    </div>
</div>
</div>

<div class="output_wrapper">
<div class="output">


<div class="output_area">

    <div class="prompt"></div>



<div class="output_markdown rendered_html output_subarea ">
<blockquote><p>"<em>Felix qui trans mare clausum</em>", ça n'a aucun sens, mais je suis très en colère contre moi-même. -- D'après François Rollin, inspiré par Kaamelott, Livre VI, Arturus Rex, écrit par Alexandre Astier.</p>
</blockquote>

</div>

</div>

</div>
</div>

</div>
<div class="cell border-box-sizing text_cell rendered"><div class="prompt input_prompt">
</div><div class="inner_cell">
<div class="text_cell_render border-box-sizing rendered_html">
<h2 id="D&#233;pendances">D&#233;pendances<a class="anchor-link" href="#D&#233;pendances">&#182;</a></h2>
</div>
</div>
</div>
<div class="cell border-box-sizing code_cell rendered">
<div class="input">
<div class="prompt input_prompt">In&nbsp;[2]:</div>
<div class="inner_cell">
    <div class="input_area">
<div class=" highlight hl-ipython3"><pre><span></span><span class="o">%</span><span class="k">load_ext</span> watermark
<span class="o">%</span><span class="k">watermark</span> -v -m -a &quot;Lilian Besson (Naereen)&quot; -p lea -g
</pre></div>

    </div>
</div>
</div>

<div class="output_wrapper">
<div class="output">


<div class="output_area">

    <div class="prompt"></div>


<div class="output_subarea output_stream output_stdout output_text">
<pre>Lilian Besson (Naereen) 

CPython 3.6.3
IPython 6.2.1

lea n

compiler   : GCC 7.2.0
system     : Linux
release    : 4.13.0-32-generic
machine    : x86_64
processor  : x86_64
CPU cores  : 4
interpreter: 64bit
Git hash   : accf6d5e439b9cca048abe23d4a27893cd0c7f9a
</pre>
</div>
</div>

</div>
</div>

</div>
<div class="cell border-box-sizing code_cell rendered">
<div class="input">
<div class="prompt input_prompt">In&nbsp;[3]:</div>
<div class="inner_cell">
    <div class="input_area">
<div class=" highlight hl-ipython3"><pre><span></span><span class="kn">import</span> <span class="nn">os</span>
<span class="kn">import</span> <span class="nn">random</span>

<span class="kn">from</span> <span class="nn">string</span> <span class="k">import</span> <span class="n">ascii_lowercase</span>
<span class="kn">from</span> <span class="nn">collections</span> <span class="k">import</span> <span class="n">Counter</span><span class="p">,</span> <span class="n">defaultdict</span>
</pre></div>

    </div>
</div>
</div>

</div>
<div class="cell border-box-sizing text_cell rendered"><div class="prompt input_prompt">
</div><div class="inner_cell">
<div class="text_cell_render border-box-sizing rendered_html">
<p>Le module <a href="https://bitbucket.org/piedenis/lea">lea</a> sera très pratique pour manipuler les probabilités pour les chaînes de Markov.</p>

</div>
</div>
</div>
<div class="cell border-box-sizing code_cell rendered">
<div class="input">
<div class="prompt input_prompt">In&nbsp;[4]:</div>
<div class="inner_cell">
    <div class="input_area">
<div class=" highlight hl-ipython3"><pre><span></span><span class="kn">from</span> <span class="nn">lea</span> <span class="k">import</span> <span class="n">Lea</span>
</pre></div>

    </div>
</div>
</div>

</div>
<div class="cell border-box-sizing text_cell rendered"><div class="prompt input_prompt">
</div><div class="inner_cell">
<div class="text_cell_render border-box-sizing rendered_html">
<h2 id="R&#233;cup&#233;rer-et-nettoyer-les-donn&#233;es">R&#233;cup&#233;rer et nettoyer les donn&#233;es<a class="anchor-link" href="#R&#233;cup&#233;rer-et-nettoyer-les-donn&#233;es">&#182;</a></h2><p>J'ai utilisé <a href="https://en.wikipedia.org/wiki/List_of_Latin_phrases_%28full%29">cette page Wikipédia</a> et deux lignes de Bash :</p>

</div>
</div>
</div>
<div class="cell border-box-sizing code_cell rendered">
<div class="input">
<div class="prompt input_prompt">In&nbsp;[5]:</div>
<div class="inner_cell">
    <div class="input_area">
<div class=" highlight hl-ipython3"><pre><span></span>%%bash
wget --no-verbose <span class="s2">&quot;https://en.wikipedia.org/wiki/List_of_Latin_phrases_(full)&quot;</span> -O /tmp/latin.html
grep -o <span class="s1">&#39;&lt;b&gt;[^&lt;]*&lt;/b&gt;&#39;</span> /tmp/latin.html <span class="p">|</span> sed s_<span class="s1">&#39;&lt;/\?b&gt;&#39;</span>_<span class="s1">&#39;&#39;</span>_g <span class="p">|</span> sort <span class="p">|</span> uniq <span class="p">|</span> sort <span class="p">|</span> uniq &gt; /tmp/data_latin.txt
</pre></div>

    </div>
</div>
</div>

<div class="output_wrapper">
<div class="output">


<div class="output_area">

    <div class="prompt"></div>


<div class="output_subarea output_stream output_stderr output_text">
<pre>2018-02-08 14:26:26 URL:https://en.wikipedia.org/wiki/List_of_Latin_phrases_(full) [915916/915916] -&gt; &#34;/tmp/latin.html&#34; [1]
</pre>
</div>
</div>

</div>
</div>

</div>
<div class="cell border-box-sizing code_cell rendered">
<div class="input">
<div class="prompt input_prompt">In&nbsp;[6]:</div>
<div class="inner_cell">
    <div class="input_area">
<div class=" highlight hl-ipython3"><pre><span></span><span class="o">!</span>head data/latin.txt
</pre></div>

    </div>
</div>
</div>

<div class="output_wrapper">
<div class="output">


<div class="output_area">

    <div class="prompt"></div>


<div class="output_subarea output_stream output_stdout output_text">
<pre>(oremus) pro invicem
a bene placito
a caelo usque ad centrum
a capite ad calcem
a contrario
a Deucalione
a falsis principiis proficisci
a pedibus usque ad caput
a posse ad esse
ab absurdo
</pre>
</div>
</div>

</div>
</div>

</div>
<div class="cell border-box-sizing text_cell rendered"><div class="prompt input_prompt">
</div><div class="inner_cell">
<div class="text_cell_render border-box-sizing rendered_html">
<p>Ensuite il faut un peu de nettoyage pour enlever les lignes qui ont été incorrectement ajoutées dans le fichier (j'ai fait ça à la main).</p>

</div>
</div>
</div>
<div class="cell border-box-sizing code_cell rendered">
<div class="input">
<div class="prompt input_prompt">In&nbsp;[7]:</div>
<div class="inner_cell">
    <div class="input_area">
<div class=" highlight hl-ipython3"><pre><span></span><span class="o">!</span>head data/latin.txt
</pre></div>

    </div>
</div>
</div>

<div class="output_wrapper">
<div class="output">


<div class="output_area">

    <div class="prompt"></div>


<div class="output_subarea output_stream output_stdout output_text">
<pre>(oremus) pro invicem
a bene placito
a caelo usque ad centrum
a capite ad calcem
a contrario
a Deucalione
a falsis principiis proficisci
a pedibus usque ad caput
a posse ad esse
ab absurdo
</pre>
</div>
</div>

</div>
</div>

</div>
<div class="cell border-box-sizing code_cell rendered">
<div class="input">
<div class="prompt input_prompt">In&nbsp;[8]:</div>
<div class="inner_cell">
    <div class="input_area">
<div class=" highlight hl-ipython3"><pre><span></span><span class="o">!</span>ls -larth data/latin.txt
<span class="o">!</span>wc data/latin.txt
</pre></div>

    </div>
</div>
</div>

<div class="output_wrapper">
<div class="output">


<div class="output_area">

    <div class="prompt"></div>


<div class="output_subarea output_stream output_stdout output_text">
<pre>-rw-r--r-- 1 lilian lilian 34K févr.  8 13:32 data/latin.txt
 1571  5415 34636 data/latin.txt
</pre>
</div>
</div>

</div>
</div>

</div>
<div class="cell border-box-sizing text_cell rendered"><div class="prompt input_prompt">
</div><div class="inner_cell">
<div class="text_cell_render border-box-sizing rendered_html">
<p>On a 1571 citations latines, c'est déjà un corpus conséquent !</p>

</div>
</div>
</div>
<div class="cell border-box-sizing text_cell rendered"><div class="prompt input_prompt">
</div><div class="inner_cell">
<div class="text_cell_render border-box-sizing rendered_html">
<h2 id="Exploration-de-cha&#238;nes-de-Markov-pour-la-g&#233;n&#233;ration-al&#233;atoire">Exploration de cha&#238;nes de Markov pour la g&#233;n&#233;ration al&#233;atoire<a class="anchor-link" href="#Exploration-de-cha&#238;nes-de-Markov-pour-la-g&#233;n&#233;ration-al&#233;atoire">&#182;</a></h2><p>J'utilise cette fonction <a href="https://github.com/jilljenn/markov.py/blob/master/markov.py#L10">markov</a> écrite par <a href="https://jilljenn.github.io/">Jill-Jênn Vie</a>.</p>

</div>
</div>
</div>
<div class="cell border-box-sizing code_cell rendered">
<div class="input">
<div class="prompt input_prompt">In&nbsp;[9]:</div>
<div class="inner_cell">
    <div class="input_area">
<div class=" highlight hl-ipython3"><pre><span></span><span class="k">def</span> <span class="nf">markov</span><span class="p">(</span><span class="n">corpus</span><span class="p">,</span> <span class="n">start</span><span class="p">,</span> <span class="n">length</span><span class="p">):</span>
    <span class="c1"># Counting occurrences</span>
    <span class="n">next_one</span> <span class="o">=</span> <span class="n">defaultdict</span><span class="p">(</span><span class="n">Counter</span><span class="p">)</span>
    <span class="k">for</span> <span class="n">sentence</span> <span class="ow">in</span> <span class="n">corpus</span><span class="p">:</span>
        <span class="n">words</span> <span class="o">=</span> <span class="n">sentence</span><span class="o">.</span><span class="n">split</span><span class="p">()</span>
        <span class="n">nb_words</span> <span class="o">=</span> <span class="nb">len</span><span class="p">(</span><span class="n">words</span><span class="p">)</span>
        <span class="k">for</span> <span class="n">i</span> <span class="ow">in</span> <span class="nb">range</span><span class="p">(</span><span class="n">nb_words</span> <span class="o">-</span> <span class="mi">1</span><span class="p">):</span>
            <span class="n">next_one</span><span class="p">[</span><span class="n">words</span><span class="p">[</span><span class="n">i</span><span class="p">]][</span><span class="n">words</span><span class="p">[</span><span class="n">i</span> <span class="o">+</span> <span class="mi">1</span><span class="p">]]</span> <span class="o">+=</span> <span class="mi">1</span>

    <span class="c1"># Initializing states</span>
    <span class="n">states</span> <span class="o">=</span> <span class="p">{}</span>
    <span class="k">for</span> <span class="n">word</span> <span class="ow">in</span> <span class="n">next_one</span><span class="p">:</span>
        <span class="n">states</span><span class="p">[</span><span class="n">word</span><span class="p">]</span> <span class="o">=</span> <span class="n">Lea</span><span class="o">.</span><span class="n">fromValFreqsDict</span><span class="p">(</span><span class="n">next_one</span><span class="p">[</span><span class="n">word</span><span class="p">])</span>

    <span class="c1"># Outputting visited states</span>
    <span class="n">word</span> <span class="o">=</span> <span class="n">start</span>
    <span class="n">words</span> <span class="o">=</span> <span class="p">[</span><span class="n">word</span><span class="p">]</span>
    <span class="k">for</span> <span class="n">_</span> <span class="ow">in</span> <span class="nb">range</span><span class="p">(</span><span class="n">length</span> <span class="o">-</span> <span class="mi">1</span><span class="p">):</span>
        <span class="n">word</span> <span class="o">=</span> <span class="n">states</span><span class="p">[</span><span class="n">word</span><span class="p">]</span><span class="o">.</span><span class="n">random</span><span class="p">()</span>
        <span class="n">words</span><span class="o">.</span><span class="n">append</span><span class="p">(</span><span class="n">word</span><span class="p">)</span>
    <span class="k">return</span><span class="p">(</span><span class="n">words</span><span class="p">)</span>
</pre></div>

    </div>
</div>
</div>

</div>
<div class="cell border-box-sizing text_cell rendered"><div class="prompt input_prompt">
</div><div class="inner_cell">
<div class="text_cell_render border-box-sizing rendered_html">
<p>Par exemple :</p>

</div>
</div>
</div>
<div class="cell border-box-sizing code_cell rendered">
<div class="input">
<div class="prompt input_prompt">In&nbsp;[10]:</div>
<div class="inner_cell">
    <div class="input_area">
<div class=" highlight hl-ipython3"><pre><span></span><span class="n">corpus</span> <span class="o">=</span> <span class="p">[</span>
    <span class="s1">&#39;je mange des cerises&#39;</span><span class="p">,</span>
    <span class="s1">&#39;je mange des bananes&#39;</span><span class="p">,</span>
    <span class="s1">&#39;je conduis des camions&#39;</span><span class="p">,</span>
<span class="p">]</span>
<span class="n">start</span> <span class="o">=</span> <span class="s1">&#39;je&#39;</span>
<span class="n">length</span> <span class="o">=</span> <span class="mi">4</span>
</pre></div>

    </div>
</div>
</div>

</div>
<div class="cell border-box-sizing text_cell rendered"><div class="prompt input_prompt">
</div><div class="inner_cell">
<div class="text_cell_render border-box-sizing rendered_html">
<p>Et on peut générer 3 phrases aléatoires :</p>

</div>
</div>
</div>
<div class="cell border-box-sizing code_cell rendered">
<div class="input">
<div class="prompt input_prompt">In&nbsp;[11]:</div>
<div class="inner_cell">
    <div class="input_area">
<div class=" highlight hl-ipython3"><pre><span></span><span class="k">for</span> <span class="n">_</span> <span class="ow">in</span> <span class="nb">range</span><span class="p">(</span><span class="mi">3</span><span class="p">):</span>
    <span class="n">words</span> <span class="o">=</span> <span class="n">markov</span><span class="p">(</span><span class="n">corpus</span><span class="p">,</span> <span class="n">start</span><span class="p">,</span> <span class="n">length</span><span class="p">)</span>
    <span class="nb">print</span><span class="p">(</span><span class="s1">&#39; &#39;</span><span class="o">.</span><span class="n">join</span><span class="p">(</span><span class="n">words</span><span class="p">))</span>
</pre></div>

    </div>
</div>
</div>

<div class="output_wrapper">
<div class="output">


<div class="output_area">

    <div class="prompt"></div>


<div class="output_subarea output_stream output_stdout output_text">
<pre>je mange des cerises
je conduis des camions
je mange des bananes
</pre>
</div>
</div>

</div>
</div>

</div>
<div class="cell border-box-sizing text_cell rendered"><div class="prompt input_prompt">
</div><div class="inner_cell">
<div class="text_cell_render border-box-sizing rendered_html">
<h2 id="Fausses-locutions-latines">Fausses locutions latines<a class="anchor-link" href="#Fausses-locutions-latines">&#182;</a></h2><p>On va extraire le corpus, la liste des premiers mots, et la probabilité qu'un mot en début de citation commence par une majuscule.</p>

</div>
</div>
</div>
<div class="cell border-box-sizing code_cell rendered">
<div class="input">
<div class="prompt input_prompt">In&nbsp;[12]:</div>
<div class="inner_cell">
    <div class="input_area">
<div class=" highlight hl-ipython3"><pre><span></span><span class="n">WORD_LIST</span> <span class="o">=</span> <span class="s2">&quot;data/latin.txt&quot;</span>
<span class="n">corpus</span> <span class="o">=</span> <span class="nb">open</span><span class="p">(</span><span class="n">WORD_LIST</span><span class="p">)</span><span class="o">.</span><span class="n">readlines</span><span class="p">()</span>
</pre></div>

    </div>
</div>
</div>

</div>
<div class="cell border-box-sizing code_cell rendered">
<div class="input">
<div class="prompt input_prompt">In&nbsp;[13]:</div>
<div class="inner_cell">
    <div class="input_area">
<div class=" highlight hl-ipython3"><pre><span></span><span class="nb">print</span><span class="p">(</span><span class="s2">&quot;Exemple d&#39;une citation :&quot;</span><span class="p">,</span> <span class="n">corpus</span><span class="p">[</span><span class="mi">0</span><span class="p">])</span>
<span class="nb">print</span><span class="p">(</span><span class="s2">&quot;Il y a&quot;</span><span class="p">,</span> <span class="nb">len</span><span class="p">(</span><span class="n">corpus</span><span class="p">),</span> <span class="s2">&quot;citations.&quot;</span><span class="p">)</span>
</pre></div>

    </div>
</div>
</div>

<div class="output_wrapper">
<div class="output">


<div class="output_area">

    <div class="prompt"></div>


<div class="output_subarea output_stream output_stdout output_text">
<pre>Exemple d&#39;une citation : (oremus) pro invicem

Il y a 1572 citations.
</pre>
</div>
</div>

</div>
</div>

</div>
<div class="cell border-box-sizing code_cell rendered">
<div class="input">
<div class="prompt input_prompt">In&nbsp;[14]:</div>
<div class="inner_cell">
    <div class="input_area">
<div class=" highlight hl-ipython3"><pre><span></span><span class="n">starts</span> <span class="o">=</span> <span class="p">[</span><span class="n">c</span><span class="o">.</span><span class="n">split</span><span class="p">()[</span><span class="mi">0</span><span class="p">]</span> <span class="k">for</span> <span class="n">c</span> <span class="ow">in</span> <span class="n">corpus</span><span class="p">]</span>
<span class="n">start</span> <span class="o">=</span> <span class="n">random</span><span class="o">.</span><span class="n">choice</span><span class="p">(</span><span class="n">starts</span><span class="p">)</span>
<span class="nb">print</span><span class="p">(</span><span class="s2">&quot;Exemple d&#39;un mot de début de citation :&quot;</span><span class="p">,</span> <span class="n">start</span><span class="p">)</span>
<span class="nb">print</span><span class="p">(</span><span class="s2">&quot;Il y a&quot;</span><span class="p">,</span> <span class="nb">len</span><span class="p">(</span><span class="n">starts</span><span class="p">),</span> <span class="s2">&quot;mots de débuts de citations.&quot;</span><span class="p">)</span>
</pre></div>

    </div>
</div>
</div>

<div class="output_wrapper">
<div class="output">


<div class="output_area">

    <div class="prompt"></div>


<div class="output_subarea output_stream output_stdout output_text">
<pre>Exemple d&#39;un mot de début de citation : ad
Il y a 1572 mots de débuts de citations.
</pre>
</div>
</div>

</div>
</div>

</div>
<div class="cell border-box-sizing code_cell rendered">
<div class="input">
<div class="prompt input_prompt">In&nbsp;[15]:</div>
<div class="inner_cell">
    <div class="input_area">
<div class=" highlight hl-ipython3"><pre><span></span><span class="n">proba_title</span> <span class="o">=</span> <span class="nb">len</span><span class="p">([</span><span class="mi">1</span> <span class="k">for</span> <span class="n">s</span> <span class="ow">in</span> <span class="n">starts</span> <span class="k">if</span> <span class="n">s</span><span class="o">.</span><span class="n">istitle</span><span class="p">()])</span> <span class="o">/</span> <span class="nb">len</span><span class="p">(</span><span class="n">starts</span><span class="p">)</span>
<span class="nb">print</span><span class="p">(</span><span class="s2">&quot;Il y a </span><span class="si">{:.3%}</span><span class="s2"> chance de commencer une citation par une majuscule.&quot;</span><span class="o">.</span><span class="n">format</span><span class="p">(</span><span class="n">proba_title</span><span class="p">))</span>
</pre></div>

    </div>
</div>
</div>

<div class="output_wrapper">
<div class="output">


<div class="output_area">

    <div class="prompt"></div>


<div class="output_subarea output_stream output_stdout output_text">
<pre>Il y a 8.142% chance de commencer une citation par une majuscule.
</pre>
</div>
</div>

</div>
</div>

</div>
<div class="cell border-box-sizing text_cell rendered"><div class="prompt input_prompt">
</div><div class="inner_cell">
<div class="text_cell_render border-box-sizing rendered_html">
<p>Mais en fait, le Roi Loth commence toujours ses citations latines par une majuscule :</p>

</div>
</div>
</div>
<div class="cell border-box-sizing code_cell rendered">
<div class="input">
<div class="prompt input_prompt">In&nbsp;[16]:</div>
<div class="inner_cell">
    <div class="input_area">
<div class=" highlight hl-ipython3"><pre><span></span><span class="n">proba_title</span> <span class="o">=</span> <span class="mi">1</span>
</pre></div>

    </div>
</div>
</div>

</div>
<div class="cell border-box-sizing text_cell rendered"><div class="prompt input_prompt">
</div><div class="inner_cell">
<div class="text_cell_render border-box-sizing rendered_html">
<p>On va générer des locutions de 3 à 6 mots :</p>

</div>
</div>
</div>
<div class="cell border-box-sizing code_cell rendered">
<div class="input">
<div class="prompt input_prompt">In&nbsp;[17]:</div>
<div class="inner_cell">
    <div class="input_area">
<div class=" highlight hl-ipython3"><pre><span></span><span class="n">length_min</span> <span class="o">=</span> <span class="mi">3</span>
<span class="n">length_max</span> <span class="o">=</span> <span class="mi">6</span>
</pre></div>

    </div>
</div>
</div>

</div>
<div class="cell border-box-sizing text_cell rendered"><div class="prompt input_prompt">
</div><div class="inner_cell">
<div class="text_cell_render border-box-sizing rendered_html">
<p>On a bientôt ce qu'il faut pour générer une locution latine aléatoire.
Il arrive que la chaîne de Markov se bloque, donc on va juste essayer plusieurs fois avec des débuts différents.</p>

</div>
</div>
</div>
<div class="cell border-box-sizing code_cell rendered">
<div class="input">
<div class="prompt input_prompt">In&nbsp;[18]:</div>
<div class="inner_cell">
    <div class="input_area">
<div class=" highlight hl-ipython3"><pre><span></span><span class="k">def</span> <span class="nf">markov_try_while_failing</span><span class="p">(</span><span class="n">corpus</span><span class="p">,</span> <span class="n">starts</span><span class="p">,</span> <span class="n">length_min</span><span class="p">,</span> <span class="n">length_max</span><span class="p">,</span> <span class="n">proba_title</span><span class="p">,</span> <span class="n">nb_max_trial</span><span class="o">=</span><span class="mi">100</span><span class="p">):</span>
    <span class="c1"># Try 100 times to generate a sentence</span>
    <span class="n">start</span> <span class="o">=</span> <span class="n">random</span><span class="o">.</span><span class="n">choice</span><span class="p">(</span><span class="n">starts</span><span class="p">)</span>
    <span class="n">length</span> <span class="o">=</span> <span class="n">random</span><span class="o">.</span><span class="n">randint</span><span class="p">(</span><span class="n">length_min</span><span class="p">,</span> <span class="n">length_max</span><span class="p">)</span>
    <span class="k">for</span> <span class="n">trial</span> <span class="ow">in</span> <span class="nb">range</span><span class="p">(</span><span class="n">nb_max_trial</span><span class="p">):</span>
        <span class="k">try</span><span class="p">:</span>
            <span class="n">words</span> <span class="o">=</span> <span class="n">markov</span><span class="p">(</span><span class="n">corpus</span><span class="p">,</span> <span class="n">start</span><span class="p">,</span> <span class="n">length</span><span class="p">)</span>
            <span class="k">if</span> <span class="n">random</span><span class="o">.</span><span class="n">random</span><span class="p">()</span> <span class="o">&lt;=</span> <span class="n">proba_title</span><span class="p">:</span>
                <span class="n">words</span><span class="p">[</span><span class="mi">0</span><span class="p">]</span> <span class="o">=</span> <span class="n">words</span><span class="p">[</span><span class="mi">0</span><span class="p">]</span><span class="o">.</span><span class="n">title</span><span class="p">()</span>
            <span class="k">return</span> <span class="n">words</span>  <span class="c1"># comment to debug</span>
            <span class="nb">print</span><span class="p">(</span><span class="s1">&#39; &#39;</span><span class="o">.</span><span class="n">join</span><span class="p">(</span><span class="n">words</span><span class="p">))</span>
            <span class="k">break</span>
        <span class="k">except</span> <span class="ne">KeyError</span><span class="p">:</span>
            <span class="n">start</span> <span class="o">=</span> <span class="n">random</span><span class="o">.</span><span class="n">choice</span><span class="p">(</span><span class="n">starts</span><span class="p">)</span>
            <span class="n">length</span> <span class="o">=</span> <span class="n">random</span><span class="o">.</span><span class="n">randint</span><span class="p">(</span><span class="n">length_min</span><span class="p">,</span> <span class="n">length_max</span><span class="p">)</span>
            <span class="k">continue</span>
    <span class="k">raise</span> <span class="ne">ValueError</span><span class="p">(</span><span class="s2">&quot;Echec&quot;</span><span class="p">)</span>
</pre></div>

    </div>
</div>
</div>

</div>
<div class="cell border-box-sizing text_cell rendered"><div class="prompt input_prompt">
</div><div class="inner_cell">
<div class="text_cell_render border-box-sizing rendered_html">
<p>On peut essayer :</p>

</div>
</div>
</div>
<div class="cell border-box-sizing code_cell rendered">
<div class="input">
<div class="prompt input_prompt">In&nbsp;[19]:</div>
<div class="inner_cell">
    <div class="input_area">
<div class=" highlight hl-ipython3"><pre><span></span><span class="k">for</span> <span class="n">_</span> <span class="ow">in</span> <span class="nb">range</span><span class="p">(</span><span class="mi">10</span><span class="p">):</span>
    <span class="n">words</span> <span class="o">=</span> <span class="n">markov_try_while_failing</span><span class="p">(</span><span class="n">corpus</span><span class="p">,</span> <span class="n">starts</span><span class="p">,</span> <span class="n">length_min</span><span class="p">,</span> <span class="n">length_max</span><span class="p">,</span> <span class="n">proba_title</span><span class="p">)</span>
    <span class="nb">print</span><span class="p">(</span><span class="s1">&#39; &#39;</span><span class="o">.</span><span class="n">join</span><span class="p">(</span><span class="n">words</span><span class="p">))</span>
</pre></div>

    </div>
</div>
</div>

<div class="output_wrapper">
<div class="output">


<div class="output_area">

    <div class="prompt"></div>


<div class="output_subarea output_stream output_stdout output_text">
<pre>Mala tempora mundis lacrima citius
Incepto ne supra principem
Non canimus surdis, respondent
Semper ad sumus animo
Ecce panis angelorum
Non quaerit lucrum
Reductio ad multos annos
Adaequatio intellectus nostri
Ex vulgus et bonum
Feci quod sum quod
</pre>
</div>
</div>

</div>
</div>

</div>
<div class="cell border-box-sizing text_cell rendered"><div class="prompt input_prompt">
</div><div class="inner_cell">
<div class="text_cell_render border-box-sizing rendered_html">
<p>Ça a déjà l'air pas mal latin !</p>

</div>
</div>
</div>
<div class="cell border-box-sizing text_cell rendered"><div class="prompt input_prompt">
</div><div class="inner_cell">
<div class="text_cell_render border-box-sizing rendered_html">
<h2 id="Fausses-citations-du-Roi-Loth">Fausses citations du Roi Loth<a class="anchor-link" href="#Fausses-citations-du-Roi-Loth">&#182;</a></h2><p>Pour générer une citation du Roi Loth, il ne suffit pas d'avoir des locutions latines.
Il faut le contexte, l'explication, une fausse citation d'un épisode de Kaamelott etc...</p>
<h3 id="Premier-exemple">Premier exemple<a class="anchor-link" href="#Premier-exemple">&#182;</a></h3><p>Ecouter celle là : <a href="https://kaamelott-soundboard.2ec0b4.fr/#son/tres_en_colere">Misa brevis, et spiritus maxima</a>.</p>
<audio src="data/tres_en_colere.mp3" controls="controls">Your browser does not support the audio element.</audio><h3 id="Exemples">Exemples<a class="anchor-link" href="#Exemples">&#182;</a></h3><blockquote><p><em>Ave Cesar, rosae rosam, et spiritus rex !</em> Ah non, parce que là, j’en ai marre !
-- François Rollin, Kaamelott, Livre III, L’Assemblée des rois 2e partie, écrit par Alexandre Astier.</p>
<p><em>Tempora mori, tempora mundis recorda</em>. Voilà. Eh bien ça, par exemple, ça veut absolument rien dire, mais l’effet reste le même, et pourtant j’ai jamais foutu les pieds dans une salle de classe attention !
-- François Rollin, Kaamelott, Livre III, L’Assemblée des rois 2e partie, écrit par Alexandre Astier.</p>
<p><em>Victoriae mundis et mundis lacrima.</em> Bon, ça ne veut absolument rien dire, mais je trouve que c’est assez dans le ton.
-- François Rollin, Kaamelott, Livre IV, Le désordre et la nuit, écrit par Alexandre Astier.</p>
<p><em>Misa brevis et spiritus maxima</em>, ça veut rien dire, mais je suis très en colère contre moi-même.
-- François Rollin, Kaamelott, Livre V, Misère noire, écrit par Alexandre Astier.</p>
<p><em>Deus minimi placet</em> : seul les dieux décident.
-- François Rollin, Kaamelott, Livre VI, Arturus Rex, écrit par Alexandre Astier.</p>
<p><em>"Mundi placet et spiritus minima"</em>, ça n'a aucun sens mais on pourrait très bien imaginer une traduction du type : <em>"Le roseau plie, mais ne cède... qu'en cas de pépin"</em> ce qui ne veut rien dire non plus.
-- François Rollin, Kaamelott, Livre VI, Lacrimosa, écrit par Alexandre Astier.</p>
</blockquote>

</div>
</div>
</div>
<div class="cell border-box-sizing text_cell rendered"><div class="prompt input_prompt">
</div><div class="inner_cell">
<div class="text_cell_render border-box-sizing rendered_html">
<h3 id="G&#233;n&#233;rer-al&#233;atoirement-les-m&#233;tadonn&#233;es-de-l'&#233;pisode">G&#233;n&#233;rer al&#233;atoirement les m&#233;tadonn&#233;es de l'&#233;pisode<a class="anchor-link" href="#G&#233;n&#233;rer-al&#233;atoirement-les-m&#233;tadonn&#233;es-de-l'&#233;pisode">&#182;</a></h3><p>C'est facile.</p>

</div>
</div>
</div>
<div class="cell border-box-sizing code_cell rendered">
<div class="input">
<div class="prompt input_prompt">In&nbsp;[20]:</div>
<div class="inner_cell">
    <div class="input_area">
<div class=" highlight hl-ipython3"><pre><span></span><span class="n">episodes</span> <span class="o">=</span> <span class="p">[</span>
    <span class="s2">&quot;Livre III, L’Assemblée des rois 2e partie, écrit par Alexandre Astier.&quot;</span><span class="p">,</span>
    <span class="s2">&quot;Livre III, L’Assemblée des rois 2e partie, écrit par Alexandre Astier.&quot;</span><span class="p">,</span>  <span class="c1"># présent deux fois</span>
    <span class="s2">&quot;Livre IV, Le désordre et la nuit, écrit par Alexandre Astier.&quot;</span><span class="p">,</span>
    <span class="s2">&quot;Livre V, Misère noire, écrit par Alexandre Astier.&quot;</span><span class="p">,</span>
    <span class="s2">&quot;Livre VI, Arturus Rex, écrit par Alexandre Astier.&quot;</span><span class="p">,</span>
    <span class="s2">&quot;Livre VI, Lacrimosa, écrit par Alexandre Astier.&quot;</span>
<span class="p">]</span>
</pre></div>

    </div>
</div>
</div>

</div>
<div class="cell border-box-sizing code_cell rendered">
<div class="input">
<div class="prompt input_prompt">In&nbsp;[21]:</div>
<div class="inner_cell">
    <div class="input_area">
<div class=" highlight hl-ipython3"><pre><span></span><span class="k">def</span> <span class="nf">metadonnee_aleatoire</span><span class="p">(</span><span class="n">episodes</span><span class="o">=</span><span class="n">episodes</span><span class="p">):</span>
    <span class="n">episode</span> <span class="o">=</span> <span class="n">random</span><span class="o">.</span><span class="n">choice</span><span class="p">(</span><span class="n">episodes</span><span class="p">)</span>
    <span class="k">return</span> <span class="s2">&quot;D&#39;après François Rollin, inspiré par Kaamelott, &quot;</span> <span class="o">+</span> <span class="n">episode</span>
</pre></div>

    </div>
</div>
</div>

</div>
<div class="cell border-box-sizing text_cell rendered"><div class="prompt input_prompt">
</div><div class="inner_cell">
<div class="text_cell_render border-box-sizing rendered_html">
<h3 id="G&#233;n&#233;rer-al&#233;atoirement-les-explications-foireuses-du-Roi-Loth">G&#233;n&#233;rer al&#233;atoirement les explications foireuses du Roi Loth<a class="anchor-link" href="#G&#233;n&#233;rer-al&#233;atoirement-les-explications-foireuses-du-Roi-Loth">&#182;</a></h3><p>C'est moins facile... Mais sans chercher à être parfait, on va juste prendre une explication parmi celles qui existent :</p>

</div>
</div>
</div>
<div class="cell border-box-sizing code_cell rendered">
<div class="input">
<div class="prompt input_prompt">In&nbsp;[22]:</div>
<div class="inner_cell">
    <div class="input_area">
<div class=" highlight hl-ipython3"><pre><span></span><span class="n">explications</span> <span class="o">=</span> <span class="p">[</span>
    <span class="s2">&quot;. Ah non, parce que là, j’en ai marre !&quot;</span><span class="p">,</span>
    <span class="s2">&quot;. Voilà. Eh bien ça, par exemple, ça veut absolument rien dire, mais l’effet reste le même, et pourtant j’ai jamais foutu les pieds dans une salle de classe attention !&quot;</span><span class="p">,</span>
    <span class="s2">&quot;. Bon, ça ne veut absolument rien dire, mais je trouve que c’est assez dans le ton.&quot;</span><span class="p">,</span>
    <span class="s2">&quot;, ça veut rien dire, mais je suis très en colère contre moi-même.&quot;</span><span class="p">,</span>
    <span class="s2">&quot; : seul les dieux décident.&quot;</span><span class="p">,</span>
    <span class="sd">&quot;&quot;&quot;, ça n&#39;a aucun sens mais on pourrait très bien imaginer une traduction du type : &quot;Le roseau plie, mais ne cède... qu&#39;en cas de pépin&quot;, ce qui ne veut rien dire non plus.&quot;&quot;&quot;</span><span class="p">,</span>
<span class="p">]</span>
</pre></div>

    </div>
</div>
</div>

</div>
<div class="cell border-box-sizing text_cell rendered"><div class="prompt input_prompt">
</div><div class="inner_cell">
<div class="text_cell_render border-box-sizing rendered_html">
<p>Et quelques variations :</p>

</div>
</div>
</div>
<div class="cell border-box-sizing code_cell rendered">
<div class="input">
<div class="prompt input_prompt">In&nbsp;[23]:</div>
<div class="inner_cell">
    <div class="input_area">
<div class=" highlight hl-ipython3"><pre><span></span><span class="n">explications</span> <span class="o">+=</span> <span class="p">[</span>
    <span class="s2">&quot;. Ah non, parce qu&#39;au bout d&#39;un moment, zut !&quot;</span><span class="p">,</span>
    <span class="s2">&quot;. Voilà, ça ne veut rien dire, mais c&#39;est assez dans le ton !&quot;</span><span class="p">,</span>
    <span class="s2">&quot;. Bon, ça n&#39;a aucun sens, mais j&#39;aime bien ce petit ton décalé.&quot;</span><span class="p">,</span>
    <span class="s2">&quot;. Le latin, ça impressionne ! Surtout les grouillots.&quot;</span><span class="p">,</span>
    <span class="s2">&quot;, ça n&#39;a aucun sens, mais je suis très en colère contre moi-même.&quot;</span><span class="p">,</span>
    <span class="s2">&quot;, ça n&#39;a aucun sens, mais je fais ça par amour.&quot;</span><span class="p">,</span>
    <span class="s2">&quot; : la victoire par la sagesse.&quot;</span><span class="p">,</span>
    <span class="s2">&quot; : les livres contiennent la sagesse des anciens.&quot;</span><span class="p">,</span>
    <span class="s2">&quot; : à Rome seul compte le pouvoir.&quot;</span><span class="p">,</span>
    <span class="s2">&quot; : seul les puissants agissent.&quot;</span><span class="p">,</span>
    <span class="s2">&quot; : le mariage est une bénédiction.&quot;</span><span class="p">,</span>
    <span class="s2">&quot; : ça veut rien dire, mais ça impressionne !&quot;</span><span class="p">,</span>
    <span class="sd">&quot;&quot;&quot;, ça veut rien dire mais on pourrait très bien imaginer une traduction du type : &quot;Le vent tourne pour ceux qui savent écouter&quot;, ce qui ne veut rien dire non plus.&quot;&quot;&quot;</span><span class="p">,</span>
    <span class="sd">&quot;&quot;&quot;, ça n&#39;a aucun sens mais pourquoi pas une traduction du genre : &quot;Les imbéciles dorment, les forts agissent mais dorment aussi&quot;, ce qui n&#39;a aucun sens non plus.&quot;&quot;&quot;</span><span class="p">,</span>
<span class="p">]</span>
</pre></div>

    </div>
</div>
</div>

</div>
<div class="cell border-box-sizing code_cell rendered">
<div class="input">
<div class="prompt input_prompt">In&nbsp;[24]:</div>
<div class="inner_cell">
    <div class="input_area">
<div class=" highlight hl-ipython3"><pre><span></span><span class="k">def</span> <span class="nf">explication_aleatoire</span><span class="p">():</span>
    <span class="k">return</span> <span class="n">random</span><span class="o">.</span><span class="n">choice</span><span class="p">(</span><span class="n">explications</span><span class="p">)</span>
</pre></div>

    </div>
</div>
</div>

</div>
<div class="cell border-box-sizing text_cell rendered"><div class="prompt input_prompt">
</div><div class="inner_cell">
<div class="text_cell_render border-box-sizing rendered_html">
<h3 id="Combiner-le-tout-!">Combiner le tout !<a class="anchor-link" href="#Combiner-le-tout-!">&#182;</a></h3><p>C'est très facile :</p>

</div>
</div>
</div>
<div class="cell border-box-sizing code_cell rendered">
<div class="input">
<div class="prompt input_prompt">In&nbsp;[25]:</div>
<div class="inner_cell">
    <div class="input_area">
<div class=" highlight hl-ipython3"><pre><span></span><span class="k">def</span> <span class="nf">citation_aleatoire</span><span class="p">(</span><span class="n">italic</span><span class="o">=</span><span class="kc">False</span><span class="p">):</span>
    <span class="n">metadonnee</span> <span class="o">=</span> <span class="n">metadonnee_aleatoire</span><span class="p">()</span>
    <span class="n">explication</span> <span class="o">=</span> <span class="n">explication_aleatoire</span><span class="p">()</span>
    <span class="n">words</span> <span class="o">=</span> <span class="n">markov_try_while_failing</span><span class="p">(</span><span class="n">corpus</span><span class="p">,</span> <span class="n">starts</span><span class="p">,</span> <span class="n">length_min</span><span class="p">,</span> <span class="n">length_max</span><span class="p">,</span> <span class="n">proba_title</span><span class="p">)</span>
    <span class="n">locution</span> <span class="o">=</span> <span class="s1">&#39; &#39;</span><span class="o">.</span><span class="n">join</span><span class="p">(</span><span class="n">words</span><span class="p">)</span>
    <span class="k">if</span> <span class="n">italic</span><span class="p">:</span>
        <span class="n">citation</span> <span class="o">=</span> <span class="s1">&#39;&quot;*</span><span class="si">{}</span><span class="s1">*&quot;</span><span class="si">{}</span><span class="s1"> -- </span><span class="si">{}</span><span class="s1">&#39;</span><span class="o">.</span><span class="n">format</span><span class="p">(</span><span class="n">locution</span><span class="p">,</span> <span class="n">explication</span><span class="p">,</span> <span class="n">metadonnee</span><span class="p">)</span>
    <span class="k">else</span><span class="p">:</span>
        <span class="n">citation</span> <span class="o">=</span> <span class="s1">&#39;&quot;</span><span class="si">{}</span><span class="s1">&quot;</span><span class="si">{}</span><span class="s1"> -- </span><span class="si">{}</span><span class="s1">&#39;</span><span class="o">.</span><span class="n">format</span><span class="p">(</span><span class="n">locution</span><span class="p">,</span> <span class="n">explication</span><span class="p">,</span> <span class="n">metadonnee</span><span class="p">)</span>
    <span class="k">return</span> <span class="n">citation</span>
</pre></div>

    </div>
</div>
</div>

</div>
<div class="cell border-box-sizing text_cell rendered"><div class="prompt input_prompt">
</div><div class="inner_cell">
<div class="text_cell_render border-box-sizing rendered_html">
<h3 id="Exemples">Exemples<a class="anchor-link" href="#Exemples">&#182;</a></h3>
</div>
</div>
</div>
<div class="cell border-box-sizing code_cell rendered">
<div class="input">
<div class="prompt input_prompt">In&nbsp;[26]:</div>
<div class="inner_cell">
    <div class="input_area">
<div class=" highlight hl-ipython3"><pre><span></span><span class="k">for</span> <span class="n">_</span> <span class="ow">in</span> <span class="nb">range</span><span class="p">(</span><span class="mi">10</span><span class="p">):</span>
    <span class="nb">print</span><span class="p">(</span><span class="s2">&quot;&gt;&quot;</span><span class="p">,</span> <span class="n">citation_aleatoire</span><span class="p">(</span><span class="n">italic</span><span class="o">=</span><span class="kc">True</span><span class="p">))</span>
</pre></div>

    </div>
</div>
</div>

<div class="output_wrapper">
<div class="output">


<div class="output_area">

    <div class="prompt"></div>


<div class="output_subarea output_stream output_stdout output_text">
<pre>&gt; &#34;*Verba ex supra*&#34;, ça n&#39;a aucun sens, mais je suis très en colère contre moi-même. -- D&#39;après François Rollin, inspiré par Kaamelott, Livre III, L’Assemblée des rois 2e partie, écrit par Alexandre Astier.
&gt; &#34;*Operari sequitur esse est*&#34;, ça n&#39;a aucun sens, mais je suis très en colère contre moi-même. -- D&#39;après François Rollin, inspiré par Kaamelott, Livre IV, Le désordre et la nuit, écrit par Alexandre Astier.
&gt; &#34;*Lectio brevior potior*&#34;, ça veut rien dire, mais je suis très en colère contre moi-même. -- D&#39;après François Rollin, inspiré par Kaamelott, Livre VI, Arturus Rex, écrit par Alexandre Astier.
&gt; &#34;*Parva sub Iove*&#34;, ça veut rien dire, mais je suis très en colère contre moi-même. -- D&#39;après François Rollin, inspiré par Kaamelott, Livre III, L’Assemblée des rois 2e partie, écrit par Alexandre Astier.
&gt; &#34;*Semper victurus, vive ut inde*&#34;. Voilà. Eh bien ça, par exemple, ça veut absolument rien dire, mais l’effet reste le même, et pourtant j’ai jamais foutu les pieds dans une salle de classe attention ! -- D&#39;après François Rollin, inspiré par Kaamelott, Livre V, Misère noire, écrit par Alexandre Astier.
&gt; &#34;*Laudator temporis acti prudentes*&#34;, ça n&#39;a aucun sens, mais je fais ça par amour. -- D&#39;après François Rollin, inspiré par Kaamelott, Livre IV, Le désordre et la nuit, écrit par Alexandre Astier.
&gt; &#34;*Virtus et suppositio nil*&#34;, ça n&#39;a aucun sens, mais je fais ça par amour. -- D&#39;après François Rollin, inspiré par Kaamelott, Livre VI, Lacrimosa, écrit par Alexandre Astier.
&gt; &#34;*Rus in limine*&#34; : la victoire par la sagesse. -- D&#39;après François Rollin, inspiré par Kaamelott, Livre VI, Arturus Rex, écrit par Alexandre Astier.
&gt; &#34;*Labore non tollit*&#34; : à Rome seul compte le pouvoir. -- D&#39;après François Rollin, inspiré par Kaamelott, Livre V, Misère noire, écrit par Alexandre Astier.
&gt; &#34;*Celer - Mortalis*&#34; : les livres contiennent la sagesse des anciens. -- D&#39;après François Rollin, inspiré par Kaamelott, Livre VI, Arturus Rex, écrit par Alexandre Astier.
</pre>
</div>
</div>

</div>
</div>

</div>
<div class="cell border-box-sizing text_cell rendered"><div class="prompt input_prompt">
</div><div class="inner_cell">
<div class="text_cell_render border-box-sizing rendered_html">
<h3 id="Joli-affichage">Joli affichage<a class="anchor-link" href="#Joli-affichage">&#182;</a></h3>
</div>
</div>
</div>
<div class="cell border-box-sizing code_cell rendered">
<div class="input">
<div class="prompt input_prompt">In&nbsp;[27]:</div>
<div class="inner_cell">
    <div class="input_area">
<div class=" highlight hl-ipython3"><pre><span></span><span class="kn">from</span> <span class="nn">IPython.display</span> <span class="k">import</span> <span class="n">display</span><span class="p">,</span> <span class="n">Markdown</span>
</pre></div>

    </div>
</div>
</div>

</div>
<div class="cell border-box-sizing code_cell rendered">
<div class="input">
<div class="prompt input_prompt">In&nbsp;[28]:</div>
<div class="inner_cell">
    <div class="input_area">
<div class=" highlight hl-ipython3"><pre><span></span><span class="k">for</span> <span class="n">_</span> <span class="ow">in</span> <span class="nb">range</span><span class="p">(</span><span class="mi">10</span><span class="p">):</span>
    <span class="n">citation</span> <span class="o">=</span> <span class="n">citation_aleatoire</span><span class="p">(</span><span class="n">italic</span><span class="o">=</span><span class="kc">True</span><span class="p">)</span>
    <span class="n">display</span><span class="p">(</span><span class="n">Markdown</span><span class="p">(</span><span class="s2">&quot;&gt; </span><span class="si">{}</span><span class="s2">&quot;</span><span class="o">.</span><span class="n">format</span><span class="p">(</span><span class="n">citation</span><span class="p">)))</span>
</pre></div>

    </div>
</div>
</div>

<div class="output_wrapper">
<div class="output">


<div class="output_area">

    <div class="prompt"></div>



<div class="output_markdown rendered_html output_subarea ">
<blockquote><p>"<em>Virtus et virtute et patria nostra</em>" : seul les dieux décident. -- D'après François Rollin, inspiré par Kaamelott, Livre VI, Lacrimosa, écrit par Alexandre Astier.</p>
</blockquote>

</div>

</div>

<div class="output_area">

    <div class="prompt"></div>



<div class="output_markdown rendered_html output_subarea ">
<blockquote><p>"<em>Vade ad solem</em>", ça n'a aucun sens, mais je suis très en colère contre moi-même. -- D'après François Rollin, inspiré par Kaamelott, Livre III, L’Assemblée des rois 2e partie, écrit par Alexandre Astier.</p>
</blockquote>

</div>

</div>

<div class="output_area">

    <div class="prompt"></div>



<div class="output_markdown rendered_html output_subarea ">
<blockquote><p>"<em>Omnis vir enim corpus est necessarium</em>", ça veut rien dire mais on pourrait très bien imaginer une traduction du type : "Le vent tourne pour ceux qui savent écouter", ce qui ne veut rien dire non plus. -- D'après François Rollin, inspiré par Kaamelott, Livre VI, Arturus Rex, écrit par Alexandre Astier.</p>
</blockquote>

</div>

</div>

<div class="output_area">

    <div class="prompt"></div>



<div class="output_markdown rendered_html output_subarea ">
<blockquote><p>"<em>Gloriosus et virtus tentamine</em>". Le latin, ça impressionne ! Surtout les grouillots. -- D'après François Rollin, inspiré par Kaamelott, Livre VI, Lacrimosa, écrit par Alexandre Astier.</p>
</blockquote>

</div>

</div>

<div class="output_area">

    <div class="prompt"></div>



<div class="output_markdown rendered_html output_subarea ">
<blockquote><p>"<em>Principia probant non probantur</em>", ça n'a aucun sens, mais je fais ça par amour. -- D'après François Rollin, inspiré par Kaamelott, Livre VI, Arturus Rex, écrit par Alexandre Astier.</p>
</blockquote>

</div>

</div>

<div class="output_area">

    <div class="prompt"></div>



<div class="output_markdown rendered_html output_subarea ">
<blockquote><p>"<em>Sapienti sat celeriter fieri</em>", ça n'a aucun sens mais pourquoi pas une traduction du genre : "Les imbéciles dorment, les forts agissent mais dorment aussi", ce qui n'a aucun sens non plus. -- D'après François Rollin, inspiré par Kaamelott, Livre V, Misère noire, écrit par Alexandre Astier.</p>
</blockquote>

</div>

</div>

<div class="output_area">

    <div class="prompt"></div>



<div class="output_markdown rendered_html output_subarea ">
<blockquote><p>"<em>Ubi non numero et</em>", ça veut rien dire mais on pourrait très bien imaginer une traduction du type : "Le vent tourne pour ceux qui savent écouter", ce qui ne veut rien dire non plus. -- D'après François Rollin, inspiré par Kaamelott, Livre IV, Le désordre et la nuit, écrit par Alexandre Astier.</p>
</blockquote>

</div>

</div>

<div class="output_area">

    <div class="prompt"></div>



<div class="output_markdown rendered_html output_subarea ">
<blockquote><p>"<em>Reginam occidere possunt</em>", ça veut rien dire mais on pourrait très bien imaginer une traduction du type : "Le vent tourne pour ceux qui savent écouter", ce qui ne veut rien dire non plus. -- D'après François Rollin, inspiré par Kaamelott, Livre VI, Lacrimosa, écrit par Alexandre Astier.</p>
</blockquote>

</div>

</div>

<div class="output_area">

    <div class="prompt"></div>



<div class="output_markdown rendered_html output_subarea ">
<blockquote><p>"<em>In ardua virtus junxit mors omnibus</em>". Le latin, ça impressionne ! Surtout les grouillots. -- D'après François Rollin, inspiré par Kaamelott, Livre VI, Lacrimosa, écrit par Alexandre Astier.</p>
</blockquote>

</div>

</div>

<div class="output_area">

    <div class="prompt"></div>



<div class="output_markdown rendered_html output_subarea ">
<blockquote><p>"<em>Libertas Justitia Veritas</em>", ça veut rien dire mais on pourrait très bien imaginer une traduction du type : "Le vent tourne pour ceux qui savent écouter", ce qui ne veut rien dire non plus. -- D'après François Rollin, inspiré par Kaamelott, Livre V, Misère noire, écrit par Alexandre Astier.</p>
</blockquote>

</div>

</div>

</div>
</div>

</div>
<div class="cell border-box-sizing text_cell rendered"><div class="prompt input_prompt">
</div><div class="inner_cell">
<div class="text_cell_render border-box-sizing rendered_html">
<h3 id="Conclusion">Conclusion<a class="anchor-link" href="#Conclusion">&#182;</a></h3><p>Alors, convaincus ?</p>
<blockquote><p><a href="https://kaamelott-soundboard.2ec0b4.fr/#son/wooouuuhouhouhou_c_est_mortel">Whoooo! Whoo! C'est mortel ! Whoua c'est mortel!</a> comme dirait Perceval.</p>
</blockquote>
<p>Allez voir <a href="https://github.com/Naereen/notebooks">ici pour d'autres Notebooks</a> écrits par Lilian Besson.</p>

</div>
</div>
</div>
 


    </div>
  </div>

  </div>


  
    <footer class="footer hidden-print">
      <div class="container">
        <div class="col-md-4">
          <p>
            This website does not host notebooks, it only renders notebooks
            available on other websites.
          </p>
        </div>

        <div class="col-md-4">
          <p>
            Delivered by <a href="https://www.fastly.com/">Fastly</a>,
            Rendered by <a href="https://developer.rackspace.com/?nbviewer=awesome">Rackspace</a>
          </p>
          <p>
            nbviewer GitHub <a href="https://github.com/jupyter/nbviewer">repository</a>.
          </p>
        </div>

        <div class="col-md-4">
          
  
            
              <p>
                nbviewer version:
                <a href="https://github.com/jupyter/nbviewer/commit/07b0e305b3254e2280b29f20ceb96c058db2f775">
                  07b0e30
                </a>
              </p>
            
          
  
  <p>
    nbconvert version: <a href="https://github.com/jupyter/nbconvert/releases/tag/5.6.0">
      5.6.0
    </a>
  </p>
  

          
  
  
  <p>
    Rendered
    <span class='date' data-date='Mon, 27 Jan 2020 13:28:01 UTC' title='Mon, 27 Jan 2020 13:28:01 UTC'>(Mon, 27 Jan 2020 13:28:01 UTC)</span>
  </p>
  

        </div>
      </div>
    </footer>
  

  <script src="/static/components/bootstrap/js/bootstrap.min.js?v=5869c96cc8f19086aee625d670d741f9"></script>
  <script src="/static/components/headroom.js/dist/headroom.min.js?v=b0a311ea668f8e768ea375f4a7abb81c"></script>
  <script src="/static/components/headroom.js/dist/jQuery.headroom.min.js?v=f3a1bae118315d0c234afc74dc6aab71"></script>

  
  
  <script>
    $(function(){ $("#menubar").headroom({
      tolerance: 5,
      offset: 205,
      classes: {
        initial: "animated",
        pinned: "slideInDown",
        unpinned: "slideOutUp"
      }
    })});
  </script>


  
  <script>
    (function(i,s,o,g,r,a,m){i['GoogleAnalyticsObject']=r;i[r]=i[r]||function(){
      (i[r].q=i[r].q||[]).push(arguments)},i[r].l=1*new Date();a=s.createElement(o),
      m=s.getElementsByTagName(o)[0];a.async=1;a.src=g;m.parentNode.insertBefore(a,m)
    })(window,document,'script','https://www.google-analytics.com/analytics.js','ga');
    ga('create', 'UA-52617120-5', 'auto',
       {'storage': 'none'});
    ga('set', 'anonymizeIp', true);
    ga('send', 'pageview');
  </script>
  
  <script>
    require({
        paths: {
          moment: "/static/components/moment/min/moment.min.js?v=89f87298ad94aa1e6b92f42eb66da043"
        }
      }, ["moment"], function(moment){
      var date = $("footer .date"),
        m = moment(new Date(date.data('date'))),
        update = function(){ date.text(m.fromNow()); };
      setInterval(update, 61*1000);
      update();
      var w = $(window).scroll(function(event){
        $("body").toggleClass("scrolled", w.scrollTop() > 0);
      });
    });
  </script>

  <!--NEW RELIC Stop Perf Measurement-->
  
  <!--NEW RELIC End-->
</body>
</html>