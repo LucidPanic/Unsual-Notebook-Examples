{
 "cells": [
  {
   "cell_type": "code",
   "execution_count": 2,
   "metadata": {},
   "outputs": [
    {
     "name": "stdout",
     "output_type": "stream",
     "text": [
      "\n",
      "A =\n",
      "\n",
      "   -0.9472   -0.4449    0.4571   -0.5424   -0.3297    0.3318   -0.2091\n",
      "    0.5401    1.3284    0.9217    0.5676    1.2326   -1.1575    0.4786\n",
      "   -0.2166    0.8338   -0.1973   -2.8197   -0.5427    0.6024   -3.2170\n",
      "    1.1890    0.6044    0.0755   -0.2136    0.1945    0.5431   -1.1963\n",
      "    1.3170   -0.1067    0.0089    1.1732    1.2253   -0.6968   -2.4047\n",
      "   -0.4056    0.0030    0.8388    0.4404   -0.3865    1.8696    0.9132\n",
      "\n"
     ]
    }
   ],
   "source": [
    "r = RandStream('mt19937ar','Seed',1234);\n",
    "A = r.randn(6,7)"
   ]
  },
  {
   "cell_type": "code",
   "execution_count": null,
   "metadata": {},
   "outputs": [],
   "source": []
  }
 ],
 "metadata": {
  "kernelspec": {
   "display_name": "Matlab",
   "language": "matlab",
   "name": "matlab"
  },
  "language_info": {
   "codemirror_mode": "octave",
   "file_extension": ".m",
   "help_links": [
    {
     "text": "MetaKernel Magics",
     "url": "https://metakernel.readthedocs.io/en/latest/source/README.html"
    }
   ],
   "mimetype": "text/x-octave",
   "name": "matlab",
   "version": "0.16.7"
  }
 },
 "nbformat": 4,
 "nbformat_minor": 2
}
