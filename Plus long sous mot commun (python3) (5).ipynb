








<!DOCTYPE html>
<html lang="en">

<head>
  <meta charset="utf-8">
  <title>Jupyter Notebook Viewer</title>
  <meta name="viewport" content="width=device-width, initial-scale=1.0">
  <meta name="description" content="">
  <meta name="author" content="">
  
  <meta name="robots" content="noindex,nofollow">
  

  <!--NEW RELIC Start Perf Measurement-->
  
  <!--NREND-->

  <!-- Le styles -->
  <link href="/static/build/styles.css?v=55ba354138253381d2c0ada9821cd4da" rel="stylesheet">

  <!-- Le HTML5 shim, for IE6-8 support of HTML5 elements -->
  <!--[if lt IE 9]>
    <script src="http://html5shim.googlecode.com/svn/trunk/html5.js"></script>
  <![endif]-->

  <!-- Le fav and touch icons -->
  <link rel="shortcut icon" href="/static/ico/ipynb_icon_16x16.png">
  <link rel="apple-touch-icon-precomposed" sizes="144x144"
        href="/static/ico/apple-touch-icon-144-precomposed.png?v=5a3c9ede93e2a8b8ea9e3f8f3da1a905">
  <link rel="apple-touch-icon-precomposed" sizes="114x114"
        href="/static/ico/apple-touch-icon-114-precomposed.png?v=45d86fc8f24dc00638035e1dd7a6d898">
  <link rel="apple-touch-icon-precomposed" sizes="72x72"
        href="/static/ico/apple-touch-icon-72-precomposed.png?v=540b5eb0f3cfd25f1439d1c9bd30e15f">
  <link rel="apple-touch-icon-precomposed"
        href="/static/ico/apple-touch-icon-57-precomposed.png?v=225f0590e187e1458625654f10a28f56">
  
  

  

  
  <meta name="twitter:card" content="summary">
  <meta name="twitter:title" content="Notebook on nbviewer">
  <meta name="twitter:description" content="Check out this Jupyter notebook!">

  
  <meta name="twitter:domain" content="nbviewer.jupyter.org">
  <meta name="twitter:image:src" content="http://ipython.org/ipython-doc/dev/_images/ipynb_icon_128x128.png">

  
    <link href="/static/build/notebook.css?v=aae8f92f7e80fc468ae446b9d852fe90" rel="stylesheet">
  

  

  
    <script src="https://cdnjs.cloudflare.com/ajax/libs/mathjax/2.7.1/MathJax.js?config=TeX-AMS_HTML" type="text/javascript">
    </script>
    <script type="text/javascript">
      init_mathjax = function() {
        if (window.MathJax) {
          // MathJax loaded
          MathJax.Hub.Config({
            TeX: {
              equationNumbers: {
                autoNumber: "AMS",
                useLabelIds: true
              }
            },
            tex2jax: {
              inlineMath: [ ['$','$'], ["\\(","\\)"] ],
              displayMath: [ ['$$','$$'], ["\\[","\\]"] ],
              processEscapes: true,
              processEnvironments: true
            },
            displayAlign: 'center',
            "HTML-CSS": {
              styles: {'.MathJax_Display': {"margin": 0}},
              linebreaks: { automatic: true }
            }
          });
          MathJax.Hub.Queue(["Typeset", MathJax.Hub]);
        }
      }
      init_mathjax();
    </script>
  

  
    <script>
      (function() {
        function addWidgetsRenderer() {
          var mimeElement = document.querySelector('script[type="application/vnd.jupyter.widget-view+json"]');
          var scriptElement = document.createElement('script');
          var widgetRendererSrc = 'https://unpkg.com/@jupyter-widgets/html-manager@0.15/dist/embed-amd.js';
          var widgetState;

          try {
            widgetState = mimeElement && JSON.parse(mimeElement.innerHTML);

            if (widgetState && (widgetState.version_major < 2 || !widgetState.version_major)) {
              widgetRendererSrc = 'https://unpkg.com/jupyter-js-widgets@2.1/dist/embed.js';
            }
          } catch(e) {}

          scriptElement.src = widgetRendererSrc;
          document.body.appendChild(scriptElement);
        }

        document.addEventListener('DOMContentLoaded', addWidgetsRenderer);
      }());
    </script>
  

</head>

<body class="nbviewer">

  <!-- These are loaded at the top of the body so they are available to
       notebook cells when they are loaded below. -->
  <script src="/static/components/jquery/dist/jquery.min.js?v=220afd743d9e9643852e31a135a9f3ae"></script>
  <script src="/static/components/requirejs/require.js?v=6da8be361b9ee26c5e721e76c6d4afce"></script>
  <script src="/static/components/moment/min/moment.min.js?v=89f87298ad94aa1e6b92f42eb66da043"></script>
<!-- Navbar
================================================== -->
  <nav id="menubar" class="navbar navbar-default navbar-fixed-top" data-spy="affix">
    <div class="container">
      <div class="navbar-header">
        <button type="button" class="navbar-toggle collapsed" data-toggle="collapse" data-target=".navbar-collapse">
          <span class="sr-only">Toggle navigation</span>
          <i class="fa fa-bars"></i>
        </button>
        <a class="navbar-brand" href="/">
          <img src="/static/img/nav_logo.svg?v=479cefe8d932fb14a67b93911b97d70f" width="159"/>
        </a>
      </div>

      <div class="collapse navbar-collapse">
        <ul class="nav navbar-nav navbar-right">
          <li>
            <a class="active" href="https://jupyter.org">JUPYTER</a>
          </li>
          <li>
    <a href="/faq" title="FAQ" >
      
        <span>FAQ</span>
      
    </a>
  </li>

          
  
    
  
    
      
        <li>
    <a href="/format/script/github/Naereen/notebooks/blob/master/agreg/Plus%20long%20sous%20mot%20commun%20%28python3%29.ipynb" title="View as Code" >
      <span class="fa fa-code fa-2x menu-icon"></span>
      <span class="menu-text">View as Code</span>
    </a>
  </li>
      
    
  

  
    <li>
    <a href="#" title="Python 3 Kernel" >
      <span class="fa fa-server fa-2x menu-icon"></span>
      <span class="menu-text">Python 3 Kernel</span>
    </a>
  </li>
  

  
    <li>
    <a href="https://github.com/Naereen/notebooks/blob/master/agreg/Plus%20long%20sous%20mot%20commun%20%28python3%29.ipynb" title="View on GitHub" >
      <span class="fa fa-github fa-2x menu-icon"></span>
      <span class="menu-text">View on GitHub</span>
    </a>
  </li>
  

  
    <li>
    <a href="https://mybinder.org/v2/gh/Naereen/notebooks/master?filepath=agreg/Plus%20long%20sous%20mot%20commun%20%28python3%29.ipynb" title="Execute on Binder" >
      <span class="fa fa-icon-binder fa-2x menu-icon"></span>
      <span class="menu-text">Execute on Binder</span>
    </a>
  </li>
  

  <li>
    <a href="https://raw.githubusercontent.com/Naereen/notebooks/master/agreg/Plus%20long%20sous%20mot%20commun%20%28python3%29.ipynb" title="Download Notebook" download>
      <span class="fa fa-download fa-2x menu-icon"></span>
      <span class="menu-text">Download Notebook</span>
    </a>
  </li>

        </ul>
      </div><!-- /.navbar-collapse -->
      
      
    </div>
  </nav>

  <div class="container container-main">
    
  
  <ol class="breadcrumb">
    
      <li>
        <a href="/github/Naereen/notebooks/tree/master">notebooks</a>
      </li>
    
      <li>
        <a href="/github/Naereen/notebooks/tree/master/agreg">agreg</a>
      </li>
    
  </ol>
  
  <div id="notebook">
    <div id="notebook-container">
      <div class="cell border-box-sizing text_cell rendered"><div class="prompt input_prompt">
</div><div class="inner_cell">
<div class="text_cell_render border-box-sizing rendered_html">
<h1 id="Table-of-Contents">Table of Contents<a class="anchor-link" href="#Table-of-Contents">&#182;</a></h1><p><p><div class="lev1 toc-item"><a href="#Table-des-matières" data-toc-modified-id="Table-des-matières-1"><span class="toc-item-num">1&nbsp;&nbsp;</span>Table des matières</a></div><div class="lev1 toc-item"><a href="#1.-Agrégation-externe-de-mathématiques" data-toc-modified-id="1.-Agrégation-externe-de-mathématiques-2"><span class="toc-item-num">2&nbsp;&nbsp;</span>1. Agrégation externe de mathématiques</a></div><div class="lev2 toc-item"><a href="#1.1-Leçon-orale,-option-informatique" data-toc-modified-id="1.1-Leçon-orale,-option-informatique-21"><span class="toc-item-num">2.1&nbsp;&nbsp;</span>1.1 Leçon orale, option informatique</a></div><div class="lev4 toc-item"><a href="#Feedbacks?" data-toc-modified-id="Feedbacks?-2101"><span class="toc-item-num">2.1.0.1&nbsp;&nbsp;</span>Feedbacks?</a></div><div class="lev1 toc-item"><a href="#2.-Calcul-du-plus-long-sous-mot-commun" data-toc-modified-id="2.-Calcul-du-plus-long-sous-mot-commun-3"><span class="toc-item-num">3&nbsp;&nbsp;</span>2. Calcul du plus long sous mot commun</a></div><div class="lev3 toc-item"><a href="#2.0.1-Implémentation-d'un-développement-pour-les-leçons-906,-907." data-toc-modified-id="2.0.1-Implémentation-d'un-développement-pour-les-leçons-906,-907.-301"><span class="toc-item-num">3.0.1&nbsp;&nbsp;</span>2.0.1 Implémentation d'un développement pour les leçons 906, 907.</a></div><div class="lev3 toc-item"><a href="#2.0.2-Références-:" data-toc-modified-id="2.0.2-Références-:-302"><span class="toc-item-num">3.0.2&nbsp;&nbsp;</span>2.0.2 Références :</a></div><div class="lev3 toc-item"><a href="#2.0.3-Applications,-généralisations-:" data-toc-modified-id="2.0.3-Applications,-généralisations-:-303"><span class="toc-item-num">3.0.3&nbsp;&nbsp;</span>2.0.3 Applications, généralisations :</a></div><div class="lev1 toc-item"><a href="#3.-Algorithme-naïf-(exponentiel)" data-toc-modified-id="3.-Algorithme-naïf-(exponentiel)-4"><span class="toc-item-num">4&nbsp;&nbsp;</span>3. Algorithme naïf (exponentiel)</a></div><div class="lev2 toc-item"><a href="#3.1-Détecter-si-$u$-est-sous-mot-de-$y$" data-toc-modified-id="3.1-Détecter-si-$u$-est-sous-mot-de-$y$-41"><span class="toc-item-num">4.1&nbsp;&nbsp;</span>3.1 Détecter si <span class="MathJax_Preview" style="color: inherit;"><span class="MJXp-math" id="MJXp-Span-112"><span class="MJXp-mi MJXp-italic" id="MJXp-Span-113">u</span></span></span><script type="math/tex" id="MathJax-Element-19">u</script> est sous mot de <span class="MathJax_Preview" style="color: inherit;"><span class="MJXp-math" id="MJXp-Span-114"><span class="MJXp-mi MJXp-italic" id="MJXp-Span-115">y</span></span></span><script type="math/tex" id="MathJax-Element-20">y</script></a></div><div class="lev2 toc-item"><a href="#3.2-Trouver-un-sous-mot-de-longueur-k" data-toc-modified-id="3.2-Trouver-un-sous-mot-de-longueur-k-42"><span class="toc-item-num">4.2&nbsp;&nbsp;</span>3.2 Trouver <em>un</em> sous-mot de longueur <code>k</code></a></div><div class="lev2 toc-item"><a href="#3.3-Sous-mot-de-longueur-maximale-(version-naïve)" data-toc-modified-id="3.3-Sous-mot-de-longueur-maximale-(version-naïve)-43"><span class="toc-item-num">4.3&nbsp;&nbsp;</span>3.3 Sous-mot de longueur maximale (version naïve)</a></div><div class="lev1 toc-item"><a href="#4.-Méthode-gloutonne-(programmation-dynamique)" data-toc-modified-id="4.-Méthode-gloutonne-(programmation-dynamique)-5"><span class="toc-item-num">5&nbsp;&nbsp;</span>4. Méthode gloutonne (programmation dynamique)</a></div><div class="lev2 toc-item"><a href="#4.1-Programmation-dynamique,-sans-optimisation-mémoire" data-toc-modified-id="4.1-Programmation-dynamique,-sans-optimisation-mémoire-51"><span class="toc-item-num">5.1&nbsp;&nbsp;</span>4.1 Programmation dynamique, sans optimisation mémoire</a></div><div class="lev2 toc-item"><a href="#4.2-Utilisation-d'une-matrice-creuse" data-toc-modified-id="4.2-Utilisation-d'une-matrice-creuse-52"><span class="toc-item-num">5.2&nbsp;&nbsp;</span>4.2 Utilisation d'une matrice <em>creuse</em></a></div><div class="lev3 toc-item"><a href="#4.2.1-Version-condensée" data-toc-modified-id="4.2.1-Version-condensée-521"><span class="toc-item-num">5.2.1&nbsp;&nbsp;</span>4.2.1 Version condensée</a></div><div class="lev1 toc-item"><a href="#5.-Calcule-de-la-plus-longue-sous-séquence-commune" data-toc-modified-id="5.-Calcule-de-la-plus-longue-sous-séquence-commune-6"><span class="toc-item-num">6&nbsp;&nbsp;</span>5. Calcule de la plus longue sous-séquence commune</a></div><div class="lev2 toc-item"><a href="#5.1-Vérifier-qu'une-sous-séquence-est-une-bonne-sous-séquence" data-toc-modified-id="5.1-Vérifier-qu'une-sous-séquence-est-une-bonne-sous-séquence-61"><span class="toc-item-num">6.1&nbsp;&nbsp;</span>5.1 Vérifier qu'une sous-séquence est une bonne sous-séquence</a></div><div class="lev2 toc-item"><a href="#5.2-Algorithme-pour-la-plus-longue-sous-séquence" data-toc-modified-id="5.2-Algorithme-pour-la-plus-longue-sous-séquence-62"><span class="toc-item-num">6.2&nbsp;&nbsp;</span>5.2 Algorithme pour la plus longue sous-séquence</a></div><div class="lev3 toc-item"><a href="#5.2.1-Exemple,-venant-du-développement" data-toc-modified-id="5.2.1-Exemple,-venant-du-développement-621"><span class="toc-item-num">6.2.1&nbsp;&nbsp;</span>5.2.1 Exemple, venant du développement</a></div><div class="lev3 toc-item"><a href="#5.2.2-Autres-exemples" data-toc-modified-id="5.2.2-Autres-exemples-622"><span class="toc-item-num">6.2.2&nbsp;&nbsp;</span>5.2.2 Autres exemples</a></div></p>

</div>
</div>
</div>
<div class="cell border-box-sizing text_cell rendered"><div class="prompt input_prompt">
</div><div class="inner_cell">
<div class="text_cell_render border-box-sizing rendered_html">
<h1 id="Table-des-mati&#232;res">Table des mati&#232;res<a class="anchor-link" href="#Table-des-mati&#232;res">&#182;</a></h1><ul>
<li><a href="#1.-Agrégation-externe-de-mathématiques">1. Agrégation externe de mathématiques</a><ul>
<li><a href="#1.1-Leçon-orale,-option-informatique">1.1 Leçon orale, option informatique</a></li>
</ul>
</li>
<li><a href="#2.-Calcul-du-plus-long-sous-mot-commun">2. Calcul du plus long sous mot commun</a><ul>
<li>&nbsp;<ul>
<li><a href="#2.0.1-Implémentation-d&#39;un-développement-pour-les-leçons-906,-907.">2.0.1 Implémentation d'un développement pour les leçons 906, 907.</a></li>
<li><a href="#2.0.2-Références-:">2.0.2 Références :</a></li>
<li><a href="#2.0.3-Applications,-généralisations-:">2.0.3 Applications, généralisations :</a></li>
</ul>
</li>
</ul>
</li>
<li><a href="#3.-Algorithme-naïf-%28exponentiel%29">3. Algorithme naïf (exponentiel)</a><ul>
<li><a href="#3.1-Détecter-si-$u$-est-sous-mot-de-$y$">3.1 Détecter si $u$ est sous mot de $y$</a></li>
<li><a href="#3.2-Trouver-*un*-sous-mot-de-longueur-k">3.2 Trouver <em>un</em> sous-mot de longueur <code>k</code></a></li>
<li><a href="#3.3-Sous-mot-de-longueur-maximale-%28version-naïve%29">3.3 Sous-mot de longueur maximale (version naïve)</a></li>
</ul>
</li>
<li><a href="#4.-Méthode-gloutonne-%28programmation-dynamique%29">4. Méthode gloutonne (programmation dynamique)</a><ul>
<li><a href="#4.1-Programmation-dynamique,-sans-optimisation-mémoire">4.1 Programmation dynamique, sans optimisation mémoire</a></li>
<li><a href="#4.2-Utilisation-d&#39;une-matrice-*creuse*">4.2 Utilisation d'une matrice <em>creuse</em></a><ul>
<li><a href="#4.2.1-Version-condensée">4.2.1 Version condensée</a></li>
</ul>
</li>
</ul>
</li>
<li><a href="#5.-Calcule-de-la-plus-longue-sous-séquence-commune">5. Calcule de la plus longue sous-séquence commune</a><ul>
<li><a href="#5.1-Vérifier-qu&#39;une-sous-séquence-est-une-bonne-sous-séquence">5.1 Vérifier qu'une sous-séquence est une bonne sous-séquence</a></li>
<li><a href="#5.2-Algorithme-pour-la-plus-longue-sous-séquence">5.2 Algorithme pour la plus longue sous-séquence</a><ul>
<li><a href="#5.2.1-Exemple,-venant-du-développement">5.2.1 Exemple, venant du développement</a></li>
<li><a href="#5.2.2-Autres-exemples">5.2.2 Autres exemples</a></li>
</ul>
</li>
</ul>
</li>
</ul>

</div>
</div>
</div>
<div class="cell border-box-sizing text_cell rendered"><div class="prompt input_prompt">
</div><div class="inner_cell">
<div class="text_cell_render border-box-sizing rendered_html">
<h1 id="1.-Agr&#233;gation-externe-de-math&#233;matiques">1. Agr&#233;gation externe de math&#233;matiques<a class="anchor-link" href="#1.-Agr&#233;gation-externe-de-math&#233;matiques">&#182;</a></h1>
</div>
</div>
</div>
<div class="cell border-box-sizing text_cell rendered"><div class="prompt input_prompt">
</div><div class="inner_cell">
<div class="text_cell_render border-box-sizing rendered_html">
<h2 id="1.1-Le&#231;on-orale,-option-informatique">1.1 Le&#231;on orale, option informatique<a class="anchor-link" href="#1.1-Le&#231;on-orale,-option-informatique">&#182;</a></h2>
</div>
</div>
</div>
<div class="cell border-box-sizing text_cell rendered"><div class="prompt input_prompt">
</div><div class="inner_cell">
<div class="text_cell_render border-box-sizing rendered_html">
<blockquote><ul>
<li>Ce <a href="https://jupyter.org/">notebook Jupyter</a> est une implémentation d'un algorithme constituant un développement pour l'option informatique de l'agrégation externe de mathématiques.</li>
<li>Il s'agit du calcul du <a href="https://fr.wikipedia.org/wiki/Plus_longue_sous-séquence_commune">plus long sous mot commun</a>.</li>
<li>Cette implémentation (partielle) a été rédigée par <a href="http://perso.crans.org/besson/">Lilian Besson</a> (<a href="https://github.com/Naereen/">sur GitHub ?</a>, <a href="https://bitbucket.org/lbesson">sur Bitbucket ?</a>), et <a href="https://github.com/Naereen/notebooks/blob/master/agreg/Plus%20long%20sous%20mot%20commun%20%28python3%29.ipynb">est open-source</a>.</li>
</ul>
<h4 id="Feedbacks?">Feedbacks?<a class="anchor-link" href="#Feedbacks?">&#182;</a></h4><ul>
<li>Vous avez trouvé un bug ? → <a href="https://github.com/Naereen/notebooks/issues/new">Signalez-le moi svp !</a>, merci d'avance.</li>
<li>Vous avez une question ? → <a href="https://github.com/Naereen/ama.fr">Posez la svp !</a> <a href="https://GitHub.com/Naereen/ama.fr"><img src="https://img.shields.io/badge/Demandez%20moi-n&#39;%20importe%20quoi-1abc9c.svg" alt="Demandez moi n&#39;importe quoi !"></a></li>
</ul>
</blockquote>
<hr>

</div>
</div>
</div>
<div class="cell border-box-sizing text_cell rendered"><div class="prompt input_prompt">
</div><div class="inner_cell">
<div class="text_cell_render border-box-sizing rendered_html">
<h1 id="2.-Calcul-du-plus-long-sous-mot-commun">2. Calcul du plus long sous mot commun<a class="anchor-link" href="#2.-Calcul-du-plus-long-sous-mot-commun">&#182;</a></h1>
</div>
</div>
</div>
<div class="cell border-box-sizing text_cell rendered"><div class="prompt input_prompt">
</div><div class="inner_cell">
<div class="text_cell_render border-box-sizing rendered_html">
<h3 id="2.0.1-Impl&#233;mentation-d'un-d&#233;veloppement-pour-les-le&#231;ons-906,-907.">2.0.1 Impl&#233;mentation d'un d&#233;veloppement pour les le&#231;ons 906, 907.<a class="anchor-link" href="#2.0.1-Impl&#233;mentation-d'un-d&#233;veloppement-pour-les-le&#231;ons-906,-907.">&#182;</a></h3>
</div>
</div>
</div>
<div class="cell border-box-sizing text_cell rendered"><div class="prompt input_prompt">
</div><div class="inner_cell">
<div class="text_cell_render border-box-sizing rendered_html">
<p>On présente ici un algorithme de programmation dynamique pour <strong>le calcul du plus long sous mot commun</strong> (attention, c'est différent de la plus longue sous séquence commune !).</p>
<p>Étant donnés deux mots $X = x_1 \dots x_m$ et $Y = y_1 \dots y_n$ sur un alphabet $\Sigma$, on cherche à savoir quel est le plus long sous-mot commun à $X$ et $Y$.
Un sous-mot correspond à un morceau commun aux deux mots : on extraie de <strong>façon consécutive</strong> une sous-séquence de $x$ et $y$ et elles doivent être égales : $u = x_{i_0} \dots x_{i_0 + k} = y_{j_0} \dots y_{j_0 + k} = v$ !</p>
<p>La solution naïve est d’énumérer tous les sous-mots de $X$, et de regarder ensuite s'ils sont aussi sous-mots de
$Y$, mais cette solution est inefficace : il y a $\mathcal{O}(2^m)$ sous-mots de X...</p>
<p>L'objectif est donc d'obtenir un algorithme plus efficace, si possible polynomial en $m = |X|$ et $n = |Y|$ (il sera en $\mathcal{O}(m n)$).</p>

</div>
</div>
</div>
<div class="cell border-box-sizing text_cell rendered"><div class="prompt input_prompt">
</div><div class="inner_cell">
<div class="text_cell_render border-box-sizing rendered_html">
<h3 id="2.0.2-R&#233;f&#233;rences-:">2.0.2 R&#233;f&#233;rences :<a class="anchor-link" href="#2.0.2-R&#233;f&#233;rences-:">&#182;</a></h3>
</div>
</div>
</div>
<div class="cell border-box-sizing text_cell rendered"><div class="prompt input_prompt">
</div><div class="inner_cell">
<div class="text_cell_render border-box-sizing rendered_html">
<ul>
<li>Bien traité dans <a href="https://catalogue.ens-cachan.fr/cgi-bin/koha/opac-detail.pl?biblionumber=15671">"Cormen", Ch15.4 p341</a>,</li>
<li>Esquissé dans <a href="https://catalogue.ens-cachan.fr/cgi-bin/koha/opac-detail.pl?biblionumber=35831">"Aho, Hopcroft, Ullman", Ch5.6 p192</a>,</li>
<li><a href="http://minerve.bretagne.ens-cachan.fr/images/Dvt_plsc.pdf">Dévéloppement tapé en PDF ici</a>.</li>
</ul>

</div>
</div>
</div>
<div class="cell border-box-sizing text_cell rendered"><div class="prompt input_prompt">
</div><div class="inner_cell">
<div class="text_cell_render border-box-sizing rendered_html">
<h3 id="2.0.3-Applications,-g&#233;n&#233;ralisations-:">2.0.3 Applications, g&#233;n&#233;ralisations :<a class="anchor-link" href="#2.0.3-Applications,-g&#233;n&#233;ralisations-:">&#182;</a></h3>
</div>
</div>
</div>
<div class="cell border-box-sizing text_cell rendered"><div class="prompt input_prompt">
</div><div class="inner_cell">
<div class="text_cell_render border-box-sizing rendered_html">
<ul>
<li>Un généralisation est le calcul de la plus longue sous-sequence commune, pour lequel on ne se restreint plus à extraire de façon consécutive (ca semble plus compliqué, mais le même algorithme permet de régler le problème avec la même complexité, en fait).</li>
<li>On peut citer en application la comparaison de chaînes d'ADN, mais aussi la commande <code>diff</code> des systèmes GNU/Linux.</li>
<li>Généralisation : aucune chance d'avoir un algorithme aussi efficace s'il s'agit de trouver le plus long sous mot commun à $K$ chaînes de caractères (et en fait, le probleme général est $\mathcal{NP}$, en le nombre de chaînes, <a href="https://en.wikipedia.org/wiki/Longest_common_subsequence_problem#Complexity">comme expliqué ici (en anglais)</a>).</li>
</ul>
<hr>

</div>
</div>
</div>
<div class="cell border-box-sizing text_cell rendered"><div class="prompt input_prompt">
</div><div class="inner_cell">
<div class="text_cell_render border-box-sizing rendered_html">
<h1 id="3.-Algorithme-na&#239;f-(exponentiel)">3. Algorithme na&#239;f (exponentiel)<a class="anchor-link" href="#3.-Algorithme-na&#239;f-(exponentiel)">&#182;</a></h1>
</div>
</div>
</div>
<div class="cell border-box-sizing text_cell rendered"><div class="prompt input_prompt">
</div><div class="inner_cell">
<div class="text_cell_render border-box-sizing rendered_html">
<p>On va d'abord montrer rapidement une implémentation simple de l'algorithme naïf, pour ensuite vérifier que l'algorithme plus complexe fonctionne aussi bien.</p>

</div>
</div>
</div>
<div class="cell border-box-sizing text_cell rendered"><div class="prompt input_prompt">
</div><div class="inner_cell">
<div class="text_cell_render border-box-sizing rendered_html">
<h2 id="3.1-D&#233;tecter-si-$u$-est-sous-mot-de-$y$">3.1 D&#233;tecter si $u$ est sous mot de $y$<a class="anchor-link" href="#3.1-D&#233;tecter-si-$u$-est-sous-mot-de-$y$">&#182;</a></h2>
</div>
</div>
</div>
<div class="cell border-box-sizing text_cell rendered"><div class="prompt input_prompt">
</div><div class="inner_cell">
<div class="text_cell_render border-box-sizing rendered_html">
<p>L'objectif de toutes les fonctions suivantes est de proscrire toute recopie de chaines (<em>slicing</em>, <code>x[i:j]</code>), qui sont très couteuse.</p>

</div>
</div>
</div>
<div class="cell border-box-sizing code_cell rendered">
<div class="input">
<div class="prompt input_prompt">In&nbsp;[1]:</div>
<div class="inner_cell">
    <div class="input_area">
<div class=" highlight hl-ipython3"><pre><span></span><span class="k">def</span> <span class="nf">indiceSousMotAux</span><span class="p">(</span><span class="n">u</span><span class="p">,</span> <span class="n">n</span><span class="p">,</span> <span class="n">k</span><span class="p">,</span> <span class="n">y</span><span class="p">,</span> <span class="n">m</span><span class="p">,</span> <span class="n">i</span><span class="p">,</span> <span class="n">delta</span><span class="o">=</span><span class="mi">0</span><span class="p">):</span>
    <span class="sd">&quot;&quot;&quot; Fonction tail-récursive qui trouve l&#39;indice j tel que u[k:k+n] = y[i+j:i+j+n], ou -1 en cas d&#39;échec.&quot;&quot;&quot;</span>
    <span class="c1"># print(&quot;{}indiceSousMotAux(u = {}, n = {}, k = {}, y = {}, m = {}, i = {}, delta = {})&quot;.format(&#39;  &#39;*delta, u, n, k, y, m, i, delta))  # DEBUG</span>
    <span class="k">if</span> <span class="n">n</span> <span class="o">==</span> <span class="mi">0</span><span class="p">:</span>  <span class="c1"># Mot vide, commun partout, par defaut on donne 0</span>
        <span class="k">return</span> <span class="mi">0</span>
    <span class="k">else</span><span class="p">:</span>       <span class="c1"># Mot pas vide</span>
        <span class="k">if</span> <span class="n">k</span> <span class="o">&gt;=</span> <span class="nb">len</span><span class="p">(</span><span class="n">u</span><span class="p">)</span> <span class="ow">or</span> <span class="n">i</span> <span class="o">&gt;=</span> <span class="n">m</span><span class="p">:</span>  <span class="c1"># On a cherché trop loin, échec</span>
            <span class="k">return</span> <span class="o">-</span><span class="mi">1</span>         <span class="c1"># -1 signifie échec</span>
        <span class="k">elif</span> <span class="n">u</span><span class="p">[</span><span class="n">k</span><span class="p">]</span> <span class="o">==</span> <span class="n">y</span><span class="p">[</span><span class="n">i</span><span class="p">]:</span>    <span class="c1"># Lettre en commun</span>
            <span class="k">if</span> <span class="n">delta</span> <span class="o">==</span> <span class="n">n</span> <span class="o">-</span> <span class="mi">1</span><span class="p">:</span>    <span class="c1"># On a fini, on a trouvé !</span>
                <span class="k">return</span> <span class="n">i</span> <span class="o">-</span> <span class="n">n</span> <span class="o">+</span> <span class="mi">1</span>  <span class="c1"># i est l&#39;indice de la derniere lettre ici</span>
            <span class="k">else</span><span class="p">:</span>  <span class="c1"># On continue de chercher, une lettre de moins</span>
                <span class="k">return</span> <span class="n">indiceSousMotAux</span><span class="p">(</span><span class="n">u</span><span class="p">,</span> <span class="n">n</span><span class="p">,</span> <span class="n">k</span> <span class="o">+</span> <span class="mi">1</span><span class="p">,</span> <span class="n">y</span><span class="p">,</span> <span class="n">m</span><span class="p">,</span> <span class="n">i</span> <span class="o">+</span> <span class="mi">1</span><span class="p">,</span> <span class="n">delta</span><span class="o">=</span><span class="n">delta</span><span class="o">+</span><span class="mi">1</span><span class="p">)</span>
        <span class="k">else</span><span class="p">:</span>      <span class="c1"># On recommence a chercher en i+1</span>
            <span class="k">return</span> <span class="n">indiceSousMotAux</span><span class="p">(</span><span class="n">u</span><span class="p">,</span> <span class="n">n</span><span class="p">,</span> <span class="n">k</span> <span class="o">-</span> <span class="n">delta</span><span class="p">,</span> <span class="n">y</span><span class="p">,</span> <span class="n">m</span><span class="p">,</span> <span class="n">i</span> <span class="o">+</span> <span class="mi">1</span><span class="p">)</span>


<span class="k">def</span> <span class="nf">indiceSousMot</span><span class="p">(</span><span class="n">u</span><span class="p">,</span> <span class="n">y</span><span class="p">):</span>
    <span class="sd">&quot;&quot;&quot; En O(|u|), trouve l&#39;indice j tel que u = y[j:j+|u|], ou -1 en cas d&#39;échec.&quot;&quot;&quot;</span>
    <span class="k">return</span> <span class="n">indiceSousMotAux</span><span class="p">(</span><span class="n">u</span><span class="p">,</span> <span class="nb">len</span><span class="p">(</span><span class="n">u</span><span class="p">),</span> <span class="mi">0</span><span class="p">,</span> <span class="n">y</span><span class="p">,</span> <span class="nb">len</span><span class="p">(</span><span class="n">y</span><span class="p">),</span> <span class="mi">0</span><span class="p">)</span>


<span class="k">def</span> <span class="nf">estSousMot</span><span class="p">(</span><span class="n">u</span><span class="p">,</span> <span class="n">y</span><span class="p">):</span>
    <span class="sd">&quot;&quot;&quot; Vérifie en O(|u|) si u est sous-mot de y.&quot;&quot;&quot;</span>
    <span class="k">return</span> <span class="n">indiceSousMotAux</span><span class="p">(</span><span class="n">u</span><span class="p">,</span> <span class="nb">len</span><span class="p">(</span><span class="n">u</span><span class="p">),</span> <span class="mi">0</span><span class="p">,</span> <span class="n">y</span><span class="p">,</span> <span class="nb">len</span><span class="p">(</span><span class="n">y</span><span class="p">),</span> <span class="mi">0</span><span class="p">)</span> <span class="o">&gt;=</span> <span class="mi">0</span>
</pre></div>

    </div>
</div>
</div>

</div>
<div class="cell border-box-sizing text_cell rendered"><div class="prompt input_prompt">
</div><div class="inner_cell">
<div class="text_cell_render border-box-sizing rendered_html">
<p>Quelques tests :</p>

</div>
</div>
</div>
<div class="cell border-box-sizing code_cell rendered">
<div class="input">
<div class="prompt input_prompt">In&nbsp;[2]:</div>
<div class="inner_cell">
    <div class="input_area">
<div class=" highlight hl-ipython3"><pre><span></span><span class="k">def</span> <span class="nf">test_estSousMot</span><span class="p">(</span><span class="n">u</span><span class="p">,</span> <span class="n">y</span><span class="p">):</span>
    <span class="sd">&quot;&quot;&quot; Teste et affiche. &quot;&quot;&quot;</span>
    <span class="n">i</span> <span class="o">=</span> <span class="n">indiceSousMot</span><span class="p">(</span><span class="n">u</span><span class="p">,</span> <span class="n">y</span><span class="p">)</span>
    <span class="k">if</span> <span class="n">i</span> <span class="o">&gt;=</span> <span class="mi">0</span><span class="p">:</span>
        <span class="nb">print</span><span class="p">(</span><span class="s2">&quot;Le mot u = &#39;</span><span class="si">{}</span><span class="s2">&#39; est sous-mot de y = &#39;</span><span class="si">{}</span><span class="s2">&#39;, a partir de l&#39;indice i = </span><span class="si">{}</span><span class="s2">.&quot;</span><span class="o">.</span><span class="n">format</span><span class="p">(</span><span class="n">u</span><span class="p">,</span> <span class="n">y</span><span class="p">,</span> <span class="n">i</span><span class="p">))</span>
    <span class="k">else</span><span class="p">:</span>
        <span class="nb">print</span><span class="p">(</span><span class="s2">&quot;Le mot u = &#39;</span><span class="si">{}</span><span class="s2">&#39; n&#39;est pas sous-mot de y = &#39;</span><span class="si">{}</span><span class="s2">&#39;.&quot;</span><span class="o">.</span><span class="n">format</span><span class="p">(</span><span class="n">u</span><span class="p">,</span> <span class="n">y</span><span class="p">))</span>        


<span class="n">u</span> <span class="o">=</span> <span class="s2">&quot;cde&quot;</span>
<span class="n">y1</span> <span class="o">=</span> <span class="s2">&quot;abcdefghijklmnopqrstuvwxyz&quot;</span>
<span class="n">test_estSousMot</span><span class="p">(</span><span class="n">u</span><span class="p">,</span> <span class="n">y1</span><span class="p">)</span>  <span class="c1"># True</span>

<span class="n">y2</span> <span class="o">=</span> <span class="s2">&quot;abcDefghijklmnopqrstuvwxyz&quot;</span>
<span class="n">test_estSousMot</span><span class="p">(</span><span class="n">u</span><span class="p">,</span> <span class="n">y2</span><span class="p">)</span>  <span class="c1"># False</span>
</pre></div>

    </div>
</div>
</div>

<div class="output_wrapper">
<div class="output">


<div class="output_area">

    <div class="prompt"></div>


<div class="output_subarea output_stream output_stdout output_text">
<pre>Le mot u = &#39;cde&#39; est sous-mot de y = &#39;abcdefghijklmnopqrstuvwxyz&#39;, a partir de l&#39;indice i = 2.
Le mot u = &#39;cde&#39; n&#39;est pas sous-mot de y = &#39;abcDefghijklmnopqrstuvwxyz&#39;.
</pre>
</div>
</div>

</div>
</div>

</div>
<div class="cell border-box-sizing text_cell rendered"><div class="prompt input_prompt">
</div><div class="inner_cell">
<div class="text_cell_render border-box-sizing rendered_html">
<h2 id="3.2-Trouver-un-sous-mot-de-longueur-k">3.2 Trouver <em>un</em> sous-mot de longueur <code>k</code><a class="anchor-link" href="#3.2-Trouver-un-sous-mot-de-longueur-k">&#182;</a></h2>
</div>
</div>
</div>
<div class="cell border-box-sizing text_cell rendered"><div class="prompt input_prompt">
</div><div class="inner_cell">
<div class="text_cell_render border-box-sizing rendered_html">
<p>On peut chercher <strong>tous</strong> les sous-mots de longueur <code>k</code> dans <code>x</code> et regarder si l'<strong>un d'entre eux</strong> est inclus dans y (on s'arrête dès qu'on en a trouvé un) :</p>

</div>
</div>
</div>
<div class="cell border-box-sizing code_cell rendered">
<div class="input">
<div class="prompt input_prompt">In&nbsp;[3]:</div>
<div class="inner_cell">
    <div class="input_area">
<div class=" highlight hl-ipython3"><pre><span></span><span class="k">def</span> <span class="nf">aSousMotDeLongueur</span><span class="p">(</span><span class="n">x</span><span class="p">,</span> <span class="n">y</span><span class="p">,</span> <span class="n">k</span><span class="p">):</span>
    <span class="sd">&quot;&quot;&quot; Trouve le premier sous-mot de x de longueur k et renvoit i, j, u, ou échoue avec une ValueError. &quot;&quot;&quot;</span>
    <span class="n">imax</span> <span class="o">=</span> <span class="nb">len</span><span class="p">(</span><span class="n">x</span><span class="p">)</span> <span class="o">-</span> <span class="n">k</span> <span class="o">+</span> <span class="mi">1</span>
    <span class="c1"># Les sous mots seront x0..xk-1, .., ximax-1,..,xn-1</span>
    <span class="k">for</span> <span class="n">debut</span> <span class="ow">in</span> <span class="nb">range</span><span class="p">(</span><span class="n">imax</span><span class="p">):</span>
        <span class="n">j</span> <span class="o">=</span> <span class="n">indiceSousMotAux</span><span class="p">(</span><span class="n">x</span><span class="p">,</span> <span class="n">k</span><span class="p">,</span> <span class="n">debut</span><span class="p">,</span> <span class="n">y</span><span class="p">,</span> <span class="nb">len</span><span class="p">(</span><span class="n">y</span><span class="p">),</span> <span class="mi">0</span><span class="p">)</span>
        <span class="k">if</span> <span class="n">j</span> <span class="o">&gt;=</span> <span class="mi">0</span><span class="p">:</span>
            <span class="k">return</span> <span class="n">debut</span><span class="p">,</span> <span class="n">debut</span> <span class="o">+</span> <span class="n">j</span><span class="p">,</span> <span class="n">x</span><span class="p">[</span><span class="n">debut</span><span class="p">:</span><span class="n">debut</span><span class="o">+</span><span class="n">k</span><span class="p">]</span>
    <span class="c1"># Pas trouvé !</span>
    <span class="k">raise</span> <span class="ne">ValueError</span><span class="p">(</span><span class="s2">&quot;Aucun sous-mot de longueur k = </span><span class="si">{}</span><span class="s2"> de x = &#39;</span><span class="si">{}</span><span class="s2">&#39; n&#39;est dans y = &#39;</span><span class="si">{}</span><span class="s2">&#39;.&quot;</span><span class="o">.</span><span class="n">format</span><span class="p">(</span><span class="n">k</span><span class="p">,</span> <span class="n">x</span><span class="p">,</span> <span class="n">y</span><span class="p">))</span>
</pre></div>

    </div>
</div>
</div>

</div>
<div class="cell border-box-sizing text_cell rendered"><div class="prompt input_prompt">
</div><div class="inner_cell">
<div class="text_cell_render border-box-sizing rendered_html">
<p>Un test :</p>

</div>
</div>
</div>
<div class="cell border-box-sizing code_cell rendered">
<div class="input">
<div class="prompt input_prompt">In&nbsp;[4]:</div>
<div class="inner_cell">
    <div class="input_area">
<div class=" highlight hl-ipython3"><pre><span></span><span class="k">def</span> <span class="nf">test_aSousMotDeLongueur</span><span class="p">(</span><span class="n">x</span><span class="p">,</span> <span class="n">y</span><span class="p">,</span> <span class="n">k</span><span class="p">):</span>
    <span class="sd">&quot;&quot;&quot; Teste et affiche. &quot;&quot;&quot;</span>
    <span class="k">try</span><span class="p">:</span>
        <span class="n">i</span><span class="p">,</span> <span class="n">j</span><span class="p">,</span> <span class="n">u</span> <span class="o">=</span> <span class="n">aSousMotDeLongueur</span><span class="p">(</span><span class="n">x</span><span class="p">,</span> <span class="n">y</span><span class="p">,</span> <span class="n">k</span><span class="p">)</span>
        <span class="nb">print</span><span class="p">(</span><span class="s2">&quot;==&gt; Sous-mot de longueur k = </span><span class="si">{}</span><span class="s2"> de x = &#39;</span><span class="si">{}</span><span class="s2">&#39; dans y = &#39;</span><span class="si">{}</span><span class="s2">&#39; : u = &#39;</span><span class="si">{}</span><span class="s2">&#39; en indice i = </span><span class="si">{}</span><span class="s2"> pour x et j = </span><span class="si">{}</span><span class="s2"> pour y.&quot;</span><span class="o">.</span><span class="n">format</span><span class="p">(</span><span class="n">k</span><span class="p">,</span> <span class="n">x</span><span class="p">,</span> <span class="n">y</span><span class="p">,</span> <span class="n">u</span><span class="p">,</span> <span class="n">i</span><span class="p">,</span> <span class="n">j</span><span class="p">))</span>
    <span class="k">except</span> <span class="ne">ValueError</span><span class="p">:</span>
        <span class="nb">print</span><span class="p">(</span><span class="s2">&quot;==&gt; Aucun sous-mot de longueur k = </span><span class="si">{}</span><span class="s2"> de x = &#39;</span><span class="si">{}</span><span class="s2">&#39; n&#39;est dans y = &#39;</span><span class="si">{}</span><span class="s2">&#39;.&quot;</span><span class="o">.</span><span class="n">format</span><span class="p">(</span><span class="n">k</span><span class="p">,</span> <span class="n">x</span><span class="p">,</span> <span class="n">y</span><span class="p">))</span>

<span class="n">x</span> <span class="o">=</span> <span class="s2">&quot;aabcde&quot;</span>
<span class="n">y</span> <span class="o">=</span> <span class="s2">&quot;aABcdE&quot;</span>
<span class="k">for</span> <span class="n">k</span> <span class="ow">in</span> <span class="nb">range</span><span class="p">(</span><span class="mi">0</span><span class="p">,</span> <span class="nb">min</span><span class="p">(</span><span class="nb">len</span><span class="p">(</span><span class="n">x</span><span class="p">),</span> <span class="nb">len</span><span class="p">(</span><span class="n">y</span><span class="p">))</span> <span class="o">+</span> <span class="mi">1</span><span class="p">):</span>
    <span class="n">test_aSousMotDeLongueur</span><span class="p">(</span><span class="n">x</span><span class="p">,</span> <span class="n">y</span><span class="p">,</span> <span class="n">k</span><span class="p">)</span>

<span class="n">x</span> <span class="o">=</span> <span class="s2">&quot;aabffcde&quot;</span>
<span class="n">y</span> <span class="o">=</span> <span class="s2">&quot;aABGGGGGcdE&quot;</span>
<span class="k">for</span> <span class="n">k</span> <span class="ow">in</span> <span class="nb">range</span><span class="p">(</span><span class="mi">0</span><span class="p">,</span> <span class="nb">min</span><span class="p">(</span><span class="nb">len</span><span class="p">(</span><span class="n">x</span><span class="p">),</span> <span class="nb">len</span><span class="p">(</span><span class="n">y</span><span class="p">))</span> <span class="o">+</span> <span class="mi">1</span><span class="p">):</span>
    <span class="n">test_aSousMotDeLongueur</span><span class="p">(</span><span class="n">x</span><span class="p">,</span> <span class="n">y</span><span class="p">,</span> <span class="n">k</span><span class="p">)</span>
</pre></div>

    </div>
</div>
</div>

<div class="output_wrapper">
<div class="output">


<div class="output_area">

    <div class="prompt"></div>


<div class="output_subarea output_stream output_stdout output_text">
<pre>==&gt; Sous-mot de longueur k = 0 de x = &#39;aabcde&#39; dans y = &#39;aABcdE&#39; : u = &#39;&#39; en indice i = 0 pour x et j = 0 pour y.
==&gt; Sous-mot de longueur k = 1 de x = &#39;aabcde&#39; dans y = &#39;aABcdE&#39; : u = &#39;a&#39; en indice i = 0 pour x et j = 0 pour y.
==&gt; Sous-mot de longueur k = 2 de x = &#39;aabcde&#39; dans y = &#39;aABcdE&#39; : u = &#39;cd&#39; en indice i = 3 pour x et j = 6 pour y.
==&gt; Aucun sous-mot de longueur k = 3 de x = &#39;aabcde&#39; n&#39;est dans y = &#39;aABcdE&#39;.
==&gt; Aucun sous-mot de longueur k = 4 de x = &#39;aabcde&#39; n&#39;est dans y = &#39;aABcdE&#39;.
==&gt; Aucun sous-mot de longueur k = 5 de x = &#39;aabcde&#39; n&#39;est dans y = &#39;aABcdE&#39;.
==&gt; Aucun sous-mot de longueur k = 6 de x = &#39;aabcde&#39; n&#39;est dans y = &#39;aABcdE&#39;.
==&gt; Sous-mot de longueur k = 0 de x = &#39;aabffcde&#39; dans y = &#39;aABGGGGGcdE&#39; : u = &#39;&#39; en indice i = 0 pour x et j = 0 pour y.
==&gt; Sous-mot de longueur k = 1 de x = &#39;aabffcde&#39; dans y = &#39;aABGGGGGcdE&#39; : u = &#39;a&#39; en indice i = 0 pour x et j = 0 pour y.
==&gt; Sous-mot de longueur k = 2 de x = &#39;aabffcde&#39; dans y = &#39;aABGGGGGcdE&#39; : u = &#39;cd&#39; en indice i = 5 pour x et j = 13 pour y.
==&gt; Aucun sous-mot de longueur k = 3 de x = &#39;aabffcde&#39; n&#39;est dans y = &#39;aABGGGGGcdE&#39;.
==&gt; Aucun sous-mot de longueur k = 4 de x = &#39;aabffcde&#39; n&#39;est dans y = &#39;aABGGGGGcdE&#39;.
==&gt; Aucun sous-mot de longueur k = 5 de x = &#39;aabffcde&#39; n&#39;est dans y = &#39;aABGGGGGcdE&#39;.
==&gt; Aucun sous-mot de longueur k = 6 de x = &#39;aabffcde&#39; n&#39;est dans y = &#39;aABGGGGGcdE&#39;.
==&gt; Aucun sous-mot de longueur k = 7 de x = &#39;aabffcde&#39; n&#39;est dans y = &#39;aABGGGGGcdE&#39;.
==&gt; Aucun sous-mot de longueur k = 8 de x = &#39;aabffcde&#39; n&#39;est dans y = &#39;aABGGGGGcdE&#39;.
</pre>
</div>
</div>

</div>
</div>

</div>
<div class="cell border-box-sizing text_cell rendered"><div class="prompt input_prompt">
</div><div class="inner_cell">
<div class="text_cell_render border-box-sizing rendered_html">
<h2 id="3.3-Sous-mot-de-longueur-maximale-(version-na&#239;ve)">3.3 Sous-mot de longueur maximale (version na&#239;ve)<a class="anchor-link" href="#3.3-Sous-mot-de-longueur-maximale-(version-na&#239;ve)">&#182;</a></h2>
</div>
</div>
</div>
<div class="cell border-box-sizing code_cell rendered">
<div class="input">
<div class="prompt input_prompt">In&nbsp;[5]:</div>
<div class="inner_cell">
    <div class="input_area">
<div class=" highlight hl-ipython3"><pre><span></span><span class="k">def</span> <span class="nf">_sousMotMax</span><span class="p">(</span><span class="n">x</span><span class="p">,</span> <span class="n">y</span><span class="p">,</span> <span class="n">verb</span><span class="o">=</span><span class="kc">True</span><span class="p">):</span>
    <span class="sd">&quot;&quot;&quot; |x| doit etre plus petit que |y|.&quot;&quot;&quot;</span>
    <span class="n">k</span> <span class="o">=</span> <span class="nb">len</span><span class="p">(</span><span class="n">x</span><span class="p">)</span>
    <span class="k">while</span> <span class="n">k</span> <span class="o">&gt;=</span> <span class="mi">0</span><span class="p">:</span>
        <span class="k">if</span> <span class="n">verb</span><span class="p">:</span>
            <span class="nb">print</span><span class="p">(</span><span class="s2">&quot;  On essaie de trouver un sous-mot commun à x = &#39;</span><span class="si">{}</span><span class="s2">&#39; et y = &#39;</span><span class="si">{}</span><span class="s2">&#39; de taille k = </span><span class="si">{}</span><span class="s2"> ...&quot;</span><span class="o">.</span><span class="n">format</span><span class="p">(</span><span class="n">x</span><span class="p">,</span> <span class="n">y</span><span class="p">,</span> <span class="n">k</span><span class="p">))</span>
        <span class="k">try</span><span class="p">:</span>
            <span class="n">i</span><span class="p">,</span> <span class="n">j</span><span class="p">,</span> <span class="n">u</span> <span class="o">=</span> <span class="n">aSousMotDeLongueur</span><span class="p">(</span><span class="n">x</span><span class="p">,</span> <span class="n">y</span><span class="p">,</span> <span class="n">k</span><span class="p">)</span>
            <span class="k">if</span> <span class="n">verb</span><span class="p">:</span>
                <span class="nb">print</span><span class="p">(</span><span class="s2">&quot;  ==&gt; On a un sous-mot commun à x = &#39;</span><span class="si">{}</span><span class="s2">&#39; et y = &#39;</span><span class="si">{}</span><span class="s2">&#39; de taille k = </span><span class="si">{}</span><span class="s2"> : u = &#39;</span><span class="si">{}</span><span class="s2">&#39; (i = </span><span class="si">{}</span><span class="s2">, j = </span><span class="si">{}</span><span class="s2">) !&quot;</span><span class="o">.</span><span class="n">format</span><span class="p">(</span><span class="n">x</span><span class="p">,</span> <span class="n">y</span><span class="p">,</span> <span class="n">k</span><span class="p">,</span> <span class="n">u</span><span class="p">,</span> <span class="n">i</span><span class="p">,</span> <span class="n">j</span><span class="p">))</span>
            <span class="k">return</span> <span class="n">i</span><span class="p">,</span> <span class="n">j</span><span class="p">,</span> <span class="n">u</span>
        <span class="k">except</span> <span class="ne">ValueError</span><span class="p">:</span>
            <span class="k">if</span> <span class="n">verb</span><span class="p">:</span>
                <span class="nb">print</span><span class="p">(</span><span class="s2">&quot;  ==&gt; Aucun sous-mot commun à x = &#39;</span><span class="si">{}</span><span class="s2">&#39; et y = &#39;</span><span class="si">{}</span><span class="s2">&#39; de taille k = </span><span class="si">{}</span><span class="s2"> ...&quot;</span><span class="o">.</span><span class="n">format</span><span class="p">(</span><span class="n">x</span><span class="p">,</span> <span class="n">y</span><span class="p">,</span> <span class="n">k</span><span class="p">))</span>
        <span class="n">k</span> <span class="o">-=</span> <span class="mi">1</span>

            
<span class="k">def</span> <span class="nf">sousMotMax</span><span class="p">(</span><span class="n">x</span><span class="p">,</span> <span class="n">y</span><span class="p">,</span> <span class="n">verb</span><span class="o">=</span><span class="kc">True</span><span class="p">):</span>
    <span class="sd">&quot;&quot;&quot; Trouve un sous-mot de longueur maximale (le plus à gauche possible de x et y), en temps exponentiel en n = |x|.&quot;&quot;&quot;</span>
    <span class="k">if</span> <span class="nb">len</span><span class="p">(</span><span class="n">x</span><span class="p">)</span> <span class="o">&lt;=</span> <span class="nb">len</span><span class="p">(</span><span class="n">y</span><span class="p">):</span>
        <span class="k">return</span> <span class="n">_sousMotMax</span><span class="p">(</span><span class="n">x</span><span class="p">,</span> <span class="n">y</span><span class="p">,</span> <span class="n">verb</span><span class="o">=</span><span class="n">verb</span><span class="p">)</span>
    <span class="k">else</span><span class="p">:</span>
        <span class="k">return</span> <span class="n">_sousMotMax</span><span class="p">(</span><span class="n">y</span><span class="p">,</span> <span class="n">x</span><span class="p">,</span> <span class="n">verb</span><span class="o">=</span><span class="n">verb</span><span class="p">)</span>
</pre></div>

    </div>
</div>
</div>

</div>
<div class="cell border-box-sizing text_cell rendered"><div class="prompt input_prompt">
</div><div class="inner_cell">
<div class="text_cell_render border-box-sizing rendered_html">
<p>Quelques tests :</p>

</div>
</div>
</div>
<div class="cell border-box-sizing code_cell rendered">
<div class="input">
<div class="prompt input_prompt">In&nbsp;[6]:</div>
<div class="inner_cell">
    <div class="input_area">
<div class=" highlight hl-ipython3"><pre><span></span><span class="n">x</span> <span class="o">=</span> <span class="s2">&quot;abcABCabc123456abcABCabc99&quot;</span>
<span class="n">y</span> <span class="o">=</span> <span class="s2">&quot;abcDEFdef123456abcDEFdef9999&quot;</span>
<span class="n">sousMotMax</span><span class="p">(</span><span class="n">x</span><span class="p">,</span> <span class="n">y</span><span class="p">,</span> <span class="n">verb</span><span class="o">=</span><span class="kc">False</span><span class="p">)</span>
</pre></div>

    </div>
</div>
</div>

<div class="output_wrapper">
<div class="output">


<div class="output_area">

    <div class="prompt output_prompt">Out[6]:</div>




<div class="output_text output_subarea output_execute_result">
<pre>(9, 18, &#39;123456abc&#39;)</pre>
</div>

</div>

</div>
</div>

</div>
<div class="cell border-box-sizing code_cell rendered">
<div class="input">
<div class="prompt input_prompt">In&nbsp;[7]:</div>
<div class="inner_cell">
    <div class="input_area">
<div class=" highlight hl-ipython3"><pre><span></span><span class="n">x</span> <span class="o">=</span> <span class="s2">&quot;abcABCabc&quot;</span>
<span class="n">y</span> <span class="o">=</span> <span class="s2">&quot;abcDEFdef&quot;</span>
<span class="n">sousMotMax</span><span class="p">(</span><span class="n">x</span><span class="p">,</span> <span class="n">y</span><span class="p">)</span>
</pre></div>

    </div>
</div>
</div>

<div class="output_wrapper">
<div class="output">


<div class="output_area">

    <div class="prompt"></div>


<div class="output_subarea output_stream output_stdout output_text">
<pre>  On essaie de trouver un sous-mot commun à x = &#39;abcABCabc&#39; et y = &#39;abcDEFdef&#39; de taille k = 9 ...
  ==&gt; Aucun sous-mot commun à x = &#39;abcABCabc&#39; et y = &#39;abcDEFdef&#39; de taille k = 9 ...
  On essaie de trouver un sous-mot commun à x = &#39;abcABCabc&#39; et y = &#39;abcDEFdef&#39; de taille k = 8 ...
  ==&gt; Aucun sous-mot commun à x = &#39;abcABCabc&#39; et y = &#39;abcDEFdef&#39; de taille k = 8 ...
  On essaie de trouver un sous-mot commun à x = &#39;abcABCabc&#39; et y = &#39;abcDEFdef&#39; de taille k = 7 ...
  ==&gt; Aucun sous-mot commun à x = &#39;abcABCabc&#39; et y = &#39;abcDEFdef&#39; de taille k = 7 ...
  On essaie de trouver un sous-mot commun à x = &#39;abcABCabc&#39; et y = &#39;abcDEFdef&#39; de taille k = 6 ...
  ==&gt; Aucun sous-mot commun à x = &#39;abcABCabc&#39; et y = &#39;abcDEFdef&#39; de taille k = 6 ...
  On essaie de trouver un sous-mot commun à x = &#39;abcABCabc&#39; et y = &#39;abcDEFdef&#39; de taille k = 5 ...
  ==&gt; Aucun sous-mot commun à x = &#39;abcABCabc&#39; et y = &#39;abcDEFdef&#39; de taille k = 5 ...
  On essaie de trouver un sous-mot commun à x = &#39;abcABCabc&#39; et y = &#39;abcDEFdef&#39; de taille k = 4 ...
  ==&gt; Aucun sous-mot commun à x = &#39;abcABCabc&#39; et y = &#39;abcDEFdef&#39; de taille k = 4 ...
  On essaie de trouver un sous-mot commun à x = &#39;abcABCabc&#39; et y = &#39;abcDEFdef&#39; de taille k = 3 ...
  ==&gt; On a un sous-mot commun à x = &#39;abcABCabc&#39; et y = &#39;abcDEFdef&#39; de taille k = 3 : u = &#39;abc&#39; (i = 0, j = 0) !
</pre>
</div>
</div>

<div class="output_area">

    <div class="prompt output_prompt">Out[7]:</div>




<div class="output_text output_subarea output_execute_result">
<pre>(0, 0, &#39;abc&#39;)</pre>
</div>

</div>

</div>
</div>

</div>
<div class="cell border-box-sizing text_cell rendered"><div class="prompt input_prompt">
</div><div class="inner_cell">
<div class="text_cell_render border-box-sizing rendered_html">
<h1 id="4.-M&#233;thode-gloutonne-(programmation-dynamique)">4. M&#233;thode gloutonne (programmation dynamique)<a class="anchor-link" href="#4.-M&#233;thode-gloutonne-(programmation-dynamique)">&#182;</a></h1>
</div>
</div>
</div>
<div class="cell border-box-sizing text_cell rendered"><div class="prompt input_prompt">
</div><div class="inner_cell">
<div class="text_cell_render border-box-sizing rendered_html">
<p>On passe désormais à la seconde approche, qui sera bien plus efficace (et qui montrera que le probleme du plus long sous-mot commun de deux mots est dans $\mathcal{P}$).</p>

</div>
</div>
</div>
<div class="cell border-box-sizing text_cell rendered"><div class="prompt input_prompt">
</div><div class="inner_cell">
<div class="text_cell_render border-box-sizing rendered_html">
<p>Cette approche a l'avantage d'être bien plus efficace, mais aussi plus simple à coder.
On a juste besoin d'une matrice de taille $(|x|+1)(|y|+1)$ (un <code>numpy.array</code>, pour être plus efficace qu'une liste de liste), et quelques boucles <code>for</code>.</p>

</div>
</div>
</div>
<div class="cell border-box-sizing code_cell rendered">
<div class="input">
<div class="prompt input_prompt">In&nbsp;[8]:</div>
<div class="inner_cell">
    <div class="input_area">
<div class=" highlight hl-ipython3"><pre><span></span><span class="c1"># On a besoin du module numpy. Cf. http://numpy.org/ pour l&#39;installer si besoin</span>
<span class="kn">import</span> <span class="nn">numpy</span> <span class="k">as</span> <span class="nn">np</span>
</pre></div>

    </div>
</div>
</div>

</div>
<div class="cell border-box-sizing text_cell rendered"><div class="prompt input_prompt">
</div><div class="inner_cell">
<div class="text_cell_render border-box-sizing rendered_html">
<h2 id="4.1-Programmation-dynamique,-sans-optimisation-m&#233;moire">4.1 Programmation dynamique, sans optimisation m&#233;moire<a class="anchor-link" href="#4.1-Programmation-dynamique,-sans-optimisation-m&#233;moire">&#182;</a></h2>
</div>
</div>
</div>
<div class="cell border-box-sizing text_cell rendered"><div class="prompt input_prompt">
</div><div class="inner_cell">
<div class="text_cell_render border-box-sizing rendered_html">
<p>La fonction ci-dessous procède en 4 étapes :</p>
<ol>
<li>Initialisation de la matrice <code>longueurs</code>, pleine de $0$ et de taille $(n+1) \times (m+1)$ où $y := |x|$ et $m := |y|$,</li>
<li>Calcul "bottom-up" de la matrice <code>longueurs</code>, par l'équation suivante :
 $$ \mathrm{longueurs}[i, j] = 1 + \mathrm{longueurs}[i-1, j-1] \; \text{si} \; x[i-1] = y[i-1]. $$</li>
<li>Calcul de la longueur maximale d'une correspondance entre <code>x</code> et <code>y</code>, par un simple parcours (<code>longueur_max</code>), et calcul des indices de début de cette coresspondance maximale (= plus long sous-mot !), <code>idebut</code> et <code>jdebut</code>.</li>
<li>(optionnel) On vérifie que <code>x[idebut : idebut + longueur_max]</code> = <code>y[jdebut : jdebut + longueur_max]</code>.</li>
</ol>
<p>On commence en utilisant une matrice, pleine de $0$ (ie. une matrice nulle).
Comme on va le voir dans les exemples ci-dessous, en pratique cette matrice restera presque "vide", consommant beaucoup de memoire ($\mathcal{O}(n m)$) inutilement.
La version suivante sera optimisée (en utilisant une matrice <em>sparse</em>, ie. creuse).</p>

</div>
</div>
</div>
<div class="cell border-box-sizing text_cell rendered"><div class="prompt input_prompt">
</div><div class="inner_cell">
<div class="text_cell_render border-box-sizing rendered_html">
<p>Cet algorithme sera en :</p>
<ul>
<li>$\mathcal{O}(n m)$ en mémoire, dans tous les cas (mais on peut faire mieux),</li>
<li>$\mathcal{O}(n m)$ en temps, dans tous les cas (et on ne peut pas faire mieux).</li>
</ul>
<hr>

</div>
</div>
</div>
<div class="cell border-box-sizing code_cell rendered">
<div class="input">
<div class="prompt input_prompt">In&nbsp;[9]:</div>
<div class="inner_cell">
    <div class="input_area">
<div class=" highlight hl-ipython3"><pre><span></span><span class="k">def</span> <span class="nf">sousMotMaxGlouton</span><span class="p">(</span><span class="n">x</span><span class="p">,</span> <span class="n">y</span><span class="p">,</span> <span class="n">verb</span><span class="o">=</span><span class="kc">False</span><span class="p">,</span> <span class="n">verifie</span><span class="o">=</span><span class="kc">True</span><span class="p">):</span>
    <span class="sd">&quot;&quot;&quot; Calcule le plus long sous-mot commun a x et y, par programmation dynamique.</span>
<span class="sd">    </span>
<span class="sd">        - affiche un peu ce qu&#39;il se passe si verb=True,</span>
<span class="sd">        - vérifie que le sous-mot commun est bien un bon sous-mot commun si verifie=True.</span>
<span class="sd">    &quot;&quot;&quot;</span>
    <span class="k">def</span> <span class="nf">message</span><span class="p">(</span><span class="o">*</span><span class="n">args</span><span class="p">):</span>
        <span class="k">if</span> <span class="n">verb</span><span class="p">:</span>
            <span class="nb">print</span><span class="p">(</span><span class="o">*</span><span class="n">args</span><span class="p">)</span> 
    <span class="c1"># 1. et 2. Initialisation et construction Matrice longueurs</span>
    <span class="n">n</span> <span class="o">=</span> <span class="nb">len</span><span class="p">(</span><span class="n">x</span><span class="p">)</span>
    <span class="n">m</span> <span class="o">=</span> <span class="nb">len</span><span class="p">(</span><span class="n">y</span><span class="p">)</span>
    <span class="n">message</span><span class="p">(</span><span class="s2">&quot;</span><span class="se">\n</span><span class="s2">1. Initialisation de la look-up matrice longueurs de taille (n+1, m+1) : n = </span><span class="si">{}</span><span class="s2"> m = </span><span class="si">{}</span><span class="s2"> ...&quot;</span><span class="o">.</span><span class="n">format</span><span class="p">(</span><span class="n">n</span><span class="p">,</span> <span class="n">m</span><span class="p">))</span>
    <span class="n">longueurs</span> <span class="o">=</span> <span class="n">np</span><span class="o">.</span><span class="n">zeros</span><span class="p">((</span><span class="n">n</span><span class="o">+</span><span class="mi">1</span><span class="p">,</span> <span class="n">m</span><span class="o">+</span><span class="mi">1</span><span class="p">),</span> <span class="n">dtype</span><span class="o">=</span><span class="nb">int</span><span class="p">)</span>
    <span class="n">message</span><span class="p">(</span><span class="s2">&quot;2. Construction bottom-up de la loop-up matrice longueurs ...&quot;</span><span class="p">)</span>
    <span class="k">for</span> <span class="n">i</span> <span class="ow">in</span> <span class="nb">range</span><span class="p">(</span><span class="mi">1</span><span class="p">,</span> <span class="n">n</span><span class="o">+</span><span class="mi">1</span><span class="p">):</span>
        <span class="k">for</span> <span class="n">j</span> <span class="ow">in</span> <span class="nb">range</span><span class="p">(</span><span class="mi">1</span><span class="p">,</span> <span class="n">m</span><span class="o">+</span><span class="mi">1</span><span class="p">):</span>
            <span class="k">if</span> <span class="n">x</span><span class="p">[</span><span class="n">i</span><span class="o">-</span><span class="mi">1</span><span class="p">]</span> <span class="o">==</span> <span class="n">y</span><span class="p">[</span><span class="n">j</span><span class="o">-</span><span class="mi">1</span><span class="p">]:</span>
                <span class="n">longueurs</span><span class="p">[</span><span class="n">i</span><span class="p">,</span> <span class="n">j</span><span class="p">]</span> <span class="o">=</span> <span class="mi">1</span> <span class="o">+</span> <span class="n">longueurs</span><span class="p">[</span><span class="n">i</span><span class="o">-</span><span class="mi">1</span><span class="p">,</span> <span class="n">j</span><span class="o">-</span><span class="mi">1</span><span class="p">]</span>
                <span class="n">message</span><span class="p">(</span><span class="s2">&quot;      Correspondance en cours, u[</span><span class="si">{}</span><span class="s2">] = </span><span class="si">{}</span><span class="s2"> et v[</span><span class="si">{}</span><span class="s2">] = </span><span class="si">{}</span><span class="s2">, de longueur courante </span><span class="si">{}</span><span class="s2"> ...&quot;</span><span class="o">.</span><span class="n">format</span><span class="p">(</span><span class="n">i</span><span class="o">-</span><span class="mi">1</span><span class="p">,</span> <span class="n">x</span><span class="p">[</span><span class="n">i</span><span class="o">-</span><span class="mi">1</span><span class="p">],</span> <span class="n">j</span><span class="o">-</span><span class="mi">1</span><span class="p">,</span> <span class="n">y</span><span class="p">[</span><span class="n">j</span><span class="o">-</span><span class="mi">1</span><span class="p">],</span> <span class="n">longueurs</span><span class="p">[</span><span class="n">i</span><span class="p">,</span> <span class="n">j</span><span class="p">]))</span>
    <span class="c1"># 3. Utilisation de la matrice longueurs</span>
    <span class="n">iFin</span><span class="p">,</span> <span class="n">jFin</span> <span class="o">=</span> <span class="mi">0</span><span class="p">,</span> <span class="mi">0</span>
    <span class="n">longueur_max</span> <span class="o">=</span> <span class="o">-</span><span class="mi">1</span>  <span class="c1"># Pas encore</span>
    <span class="n">message</span><span class="p">(</span><span class="s2">&quot;3. Calcul de la position du plus long sous mot via la matrice longueurs ...&quot;</span><span class="p">)</span>
    <span class="k">for</span> <span class="n">i</span> <span class="ow">in</span> <span class="nb">range</span><span class="p">(</span><span class="mi">0</span><span class="p">,</span> <span class="n">n</span><span class="o">+</span><span class="mi">1</span><span class="p">):</span>
        <span class="k">for</span> <span class="n">j</span> <span class="ow">in</span> <span class="nb">range</span><span class="p">(</span><span class="mi">0</span><span class="p">,</span> <span class="n">m</span><span class="o">+</span><span class="mi">1</span><span class="p">):</span>
            <span class="k">if</span> <span class="n">longueur_max</span> <span class="o">&lt;</span> <span class="n">longueurs</span><span class="p">[</span><span class="n">i</span><span class="p">,</span> <span class="n">j</span><span class="p">]:</span>
                <span class="n">longueur_max</span> <span class="o">=</span> <span class="n">longueurs</span><span class="p">[</span><span class="n">i</span><span class="p">,</span> <span class="n">j</span><span class="p">]</span>
                <span class="n">iFin</span><span class="p">,</span> <span class="n">jFin</span> <span class="o">=</span> <span class="n">i</span><span class="p">,</span> <span class="n">j</span>
    <span class="c1"># Note : avec les fonctions numpy np.max et np.argmax on pourrait faire ça plus vite (pour des matrices) :</span>
    <span class="c1"># longueur_max = np.max(longueurs)</span>
    <span class="c1"># iFin, jFin = np.unravel_index(np.argmax(longueurs), np.shape(longueurs))</span>
    <span class="c1"># Calcul des indices de debut</span>
    <span class="n">iDebut</span><span class="p">,</span> <span class="n">jDebut</span> <span class="o">=</span> <span class="n">iFin</span> <span class="o">-</span> <span class="n">longueur_max</span><span class="p">,</span> <span class="n">jFin</span> <span class="o">-</span> <span class="n">longueur_max</span>
    <span class="n">message</span><span class="p">(</span><span class="s2">&quot;4. On a obtenu iDebut = </span><span class="si">{}</span><span class="s2"> et jDebut = </span><span class="si">{}</span><span class="s2"> et longueur_max = </span><span class="si">{}</span><span class="s2"> ...&quot;</span><span class="o">.</span><span class="n">format</span><span class="p">(</span><span class="n">iDebut</span><span class="p">,</span> <span class="n">jDebut</span><span class="p">,</span> <span class="n">longueur_max</span><span class="p">))</span>

    <span class="c1"># 4. Vérification</span>
    <span class="k">if</span> <span class="n">verifie</span><span class="p">:</span>
        <span class="n">xSous</span> <span class="o">=</span> <span class="n">x</span><span class="p">[</span><span class="n">iDebut</span><span class="p">:</span> <span class="n">iDebut</span> <span class="o">+</span> <span class="n">longueur_max</span><span class="p">]</span>
        <span class="n">ySous</span> <span class="o">=</span> <span class="n">y</span><span class="p">[</span><span class="n">jDebut</span><span class="p">:</span> <span class="n">jDebut</span> <span class="o">+</span> <span class="n">longueur_max</span><span class="p">]</span>
        <span class="n">message</span><span class="p">(</span><span class="s2">&quot;      Sous-mot dans x = </span><span class="si">{}</span><span class="s2">, et sous-mot dans y = </span><span class="si">{}</span><span class="s2"> ...&quot;</span><span class="o">.</span><span class="n">format</span><span class="p">(</span><span class="n">xSous</span><span class="p">,</span> <span class="n">ySous</span><span class="p">))</span>
        <span class="k">assert</span> <span class="n">xSous</span> <span class="o">==</span> <span class="n">ySous</span><span class="p">,</span> <span class="s2">&quot;Erreur, xSous et ySous sont différents !&quot;</span>
    
    <span class="n">leSousMot</span> <span class="o">=</span> <span class="n">x</span><span class="p">[</span><span class="n">iDebut</span><span class="p">:</span> <span class="n">iDebut</span> <span class="o">+</span> <span class="n">longueur_max</span><span class="p">]</span>
    <span class="k">return</span> <span class="n">iDebut</span><span class="p">,</span> <span class="n">jDebut</span><span class="p">,</span> <span class="n">leSousMot</span><span class="p">,</span> <span class="n">longueurs</span>
</pre></div>

    </div>
</div>
</div>

</div>
<div class="cell border-box-sizing text_cell rendered"><div class="prompt input_prompt">
</div><div class="inner_cell">
<div class="text_cell_render border-box-sizing rendered_html">
<p>On peut faire quelques tests, comme pour l'approche initiale.</p>

</div>
</div>
</div>
<div class="cell border-box-sizing code_cell rendered">
<div class="input">
<div class="prompt input_prompt">In&nbsp;[10]:</div>
<div class="inner_cell">
    <div class="input_area">
<div class=" highlight hl-ipython3"><pre><span></span><span class="n">x</span> <span class="o">=</span> <span class="s2">&quot;BDCABA&quot;</span>
<span class="n">y</span> <span class="o">=</span> <span class="s2">&quot;ABCBDAB&quot;</span>
<span class="n">sousMotMaxGlouton</span><span class="p">(</span><span class="n">x</span><span class="p">,</span> <span class="n">y</span><span class="p">,</span> <span class="n">verb</span><span class="o">=</span><span class="kc">True</span><span class="p">)</span>
</pre></div>

    </div>
</div>
</div>

<div class="output_wrapper">
<div class="output">


<div class="output_area">

    <div class="prompt"></div>


<div class="output_subarea output_stream output_stdout output_text">
<pre>1. Initialisation de la look-up matrice longueurs de taille (n+1, m+1) : n = 6 m = 7 ...
2. Construction bottom-up de la loop-up matrice longueurs ...
      Correspondance en cours, u[0] = B et v[1] = B, de longueur courante 1 ...
      Correspondance en cours, u[0] = B et v[3] = B, de longueur courante 1 ...
      Correspondance en cours, u[0] = B et v[6] = B, de longueur courante 1 ...
      Correspondance en cours, u[1] = D et v[4] = D, de longueur courante 2 ...
      Correspondance en cours, u[2] = C et v[2] = C, de longueur courante 1 ...
      Correspondance en cours, u[3] = A et v[0] = A, de longueur courante 1 ...
      Correspondance en cours, u[3] = A et v[5] = A, de longueur courante 1 ...
      Correspondance en cours, u[4] = B et v[1] = B, de longueur courante 2 ...
      Correspondance en cours, u[4] = B et v[3] = B, de longueur courante 1 ...
      Correspondance en cours, u[4] = B et v[6] = B, de longueur courante 2 ...
      Correspondance en cours, u[5] = A et v[0] = A, de longueur courante 1 ...
      Correspondance en cours, u[5] = A et v[5] = A, de longueur courante 1 ...
3. Calcul de la position du plus long sous mot via la matrice longueurs ...
4. On a obtenu iDebut = 0 et jDebut = 3 et longueur_max = 2 ...
      Sous-mot dans x = BD, et sous-mot dans y = BD ...
</pre>
</div>
</div>

<div class="output_area">

    <div class="prompt output_prompt">Out[10]:</div>




<div class="output_text output_subarea output_execute_result">
<pre>(0, 3, &#39;BD&#39;, array([[0, 0, 0, 0, 0, 0, 0, 0],
        [0, 0, 1, 0, 1, 0, 0, 1],
        [0, 0, 0, 0, 0, 2, 0, 0],
        [0, 0, 0, 1, 0, 0, 0, 0],
        [0, 1, 0, 0, 0, 0, 1, 0],
        [0, 0, 2, 0, 1, 0, 0, 2],
        [0, 1, 0, 0, 0, 0, 1, 0]]))</pre>
</div>

</div>

</div>
</div>

</div>
<div class="cell border-box-sizing code_cell rendered">
<div class="input">
<div class="prompt input_prompt">In&nbsp;[11]:</div>
<div class="inner_cell">
    <div class="input_area">
<div class=" highlight hl-ipython3"><pre><span></span><span class="n">x</span> <span class="o">=</span> <span class="s2">&quot;abcABCabc123456abcABCabc99&quot;</span>
<span class="n">y</span> <span class="o">=</span> <span class="s2">&quot;abcDEFdef123456abcDEFdef9999&quot;</span>
<span class="n">sousMotMaxGlouton</span><span class="p">(</span><span class="n">x</span><span class="p">,</span> <span class="n">y</span><span class="p">,</span> <span class="n">verb</span><span class="o">=</span><span class="kc">True</span><span class="p">)</span>
</pre></div>

    </div>
</div>
</div>

<div class="output_wrapper">
<div class="output">


<div class="output_area">

    <div class="prompt"></div>


<div class="output_subarea output_stream output_stdout output_text">
<pre>1. Initialisation de la look-up matrice longueurs de taille (n+1, m+1) : n = 26 m = 28 ...
2. Construction bottom-up de la loop-up matrice longueurs ...
      Correspondance en cours, u[0] = a et v[0] = a, de longueur courante 1 ...
      Correspondance en cours, u[0] = a et v[15] = a, de longueur courante 1 ...
      Correspondance en cours, u[1] = b et v[1] = b, de longueur courante 2 ...
      Correspondance en cours, u[1] = b et v[16] = b, de longueur courante 2 ...
      Correspondance en cours, u[2] = c et v[2] = c, de longueur courante 3 ...
      Correspondance en cours, u[2] = c et v[17] = c, de longueur courante 3 ...
      Correspondance en cours, u[6] = a et v[0] = a, de longueur courante 1 ...
      Correspondance en cours, u[6] = a et v[15] = a, de longueur courante 1 ...
      Correspondance en cours, u[7] = b et v[1] = b, de longueur courante 2 ...
      Correspondance en cours, u[7] = b et v[16] = b, de longueur courante 2 ...
      Correspondance en cours, u[8] = c et v[2] = c, de longueur courante 3 ...
      Correspondance en cours, u[8] = c et v[17] = c, de longueur courante 3 ...
      Correspondance en cours, u[9] = 1 et v[9] = 1, de longueur courante 1 ...
      Correspondance en cours, u[10] = 2 et v[10] = 2, de longueur courante 2 ...
      Correspondance en cours, u[11] = 3 et v[11] = 3, de longueur courante 3 ...
      Correspondance en cours, u[12] = 4 et v[12] = 4, de longueur courante 4 ...
      Correspondance en cours, u[13] = 5 et v[13] = 5, de longueur courante 5 ...
      Correspondance en cours, u[14] = 6 et v[14] = 6, de longueur courante 6 ...
      Correspondance en cours, u[15] = a et v[0] = a, de longueur courante 1 ...
      Correspondance en cours, u[15] = a et v[15] = a, de longueur courante 7 ...
      Correspondance en cours, u[16] = b et v[1] = b, de longueur courante 2 ...
      Correspondance en cours, u[16] = b et v[16] = b, de longueur courante 8 ...
      Correspondance en cours, u[17] = c et v[2] = c, de longueur courante 3 ...
      Correspondance en cours, u[17] = c et v[17] = c, de longueur courante 9 ...
      Correspondance en cours, u[21] = a et v[0] = a, de longueur courante 1 ...
      Correspondance en cours, u[21] = a et v[15] = a, de longueur courante 1 ...
      Correspondance en cours, u[22] = b et v[1] = b, de longueur courante 2 ...
      Correspondance en cours, u[22] = b et v[16] = b, de longueur courante 2 ...
      Correspondance en cours, u[23] = c et v[2] = c, de longueur courante 3 ...
      Correspondance en cours, u[23] = c et v[17] = c, de longueur courante 3 ...
      Correspondance en cours, u[24] = 9 et v[24] = 9, de longueur courante 1 ...
      Correspondance en cours, u[24] = 9 et v[25] = 9, de longueur courante 1 ...
      Correspondance en cours, u[24] = 9 et v[26] = 9, de longueur courante 1 ...
      Correspondance en cours, u[24] = 9 et v[27] = 9, de longueur courante 1 ...
      Correspondance en cours, u[25] = 9 et v[24] = 9, de longueur courante 1 ...
      Correspondance en cours, u[25] = 9 et v[25] = 9, de longueur courante 2 ...
      Correspondance en cours, u[25] = 9 et v[26] = 9, de longueur courante 2 ...
      Correspondance en cours, u[25] = 9 et v[27] = 9, de longueur courante 2 ...
3. Calcul de la position du plus long sous mot via la matrice longueurs ...
4. On a obtenu iDebut = 9 et jDebut = 9 et longueur_max = 9 ...
      Sous-mot dans x = 123456abc, et sous-mot dans y = 123456abc ...
</pre>
</div>
</div>

<div class="output_area">

    <div class="prompt output_prompt">Out[11]:</div>




<div class="output_text output_subarea output_execute_result">
<pre>(9,
 9,
 &#39;123456abc&#39;,
 array([[0, 0, 0, 0, 0, 0, 0, 0, 0, 0, 0, 0, 0, 0, 0, 0, 0, 0, 0, 0, 0, 0,
         0, 0, 0, 0, 0, 0, 0],
        [0, 1, 0, 0, 0, 0, 0, 0, 0, 0, 0, 0, 0, 0, 0, 0, 1, 0, 0, 0, 0, 0,
         0, 0, 0, 0, 0, 0, 0],
        [0, 0, 2, 0, 0, 0, 0, 0, 0, 0, 0, 0, 0, 0, 0, 0, 0, 2, 0, 0, 0, 0,
         0, 0, 0, 0, 0, 0, 0],
        [0, 0, 0, 3, 0, 0, 0, 0, 0, 0, 0, 0, 0, 0, 0, 0, 0, 0, 3, 0, 0, 0,
         0, 0, 0, 0, 0, 0, 0],
        [0, 0, 0, 0, 0, 0, 0, 0, 0, 0, 0, 0, 0, 0, 0, 0, 0, 0, 0, 0, 0, 0,
         0, 0, 0, 0, 0, 0, 0],
        [0, 0, 0, 0, 0, 0, 0, 0, 0, 0, 0, 0, 0, 0, 0, 0, 0, 0, 0, 0, 0, 0,
         0, 0, 0, 0, 0, 0, 0],
        [0, 0, 0, 0, 0, 0, 0, 0, 0, 0, 0, 0, 0, 0, 0, 0, 0, 0, 0, 0, 0, 0,
         0, 0, 0, 0, 0, 0, 0],
        [0, 1, 0, 0, 0, 0, 0, 0, 0, 0, 0, 0, 0, 0, 0, 0, 1, 0, 0, 0, 0, 0,
         0, 0, 0, 0, 0, 0, 0],
        [0, 0, 2, 0, 0, 0, 0, 0, 0, 0, 0, 0, 0, 0, 0, 0, 0, 2, 0, 0, 0, 0,
         0, 0, 0, 0, 0, 0, 0],
        [0, 0, 0, 3, 0, 0, 0, 0, 0, 0, 0, 0, 0, 0, 0, 0, 0, 0, 3, 0, 0, 0,
         0, 0, 0, 0, 0, 0, 0],
        [0, 0, 0, 0, 0, 0, 0, 0, 0, 0, 1, 0, 0, 0, 0, 0, 0, 0, 0, 0, 0, 0,
         0, 0, 0, 0, 0, 0, 0],
        [0, 0, 0, 0, 0, 0, 0, 0, 0, 0, 0, 2, 0, 0, 0, 0, 0, 0, 0, 0, 0, 0,
         0, 0, 0, 0, 0, 0, 0],
        [0, 0, 0, 0, 0, 0, 0, 0, 0, 0, 0, 0, 3, 0, 0, 0, 0, 0, 0, 0, 0, 0,
         0, 0, 0, 0, 0, 0, 0],
        [0, 0, 0, 0, 0, 0, 0, 0, 0, 0, 0, 0, 0, 4, 0, 0, 0, 0, 0, 0, 0, 0,
         0, 0, 0, 0, 0, 0, 0],
        [0, 0, 0, 0, 0, 0, 0, 0, 0, 0, 0, 0, 0, 0, 5, 0, 0, 0, 0, 0, 0, 0,
         0, 0, 0, 0, 0, 0, 0],
        [0, 0, 0, 0, 0, 0, 0, 0, 0, 0, 0, 0, 0, 0, 0, 6, 0, 0, 0, 0, 0, 0,
         0, 0, 0, 0, 0, 0, 0],
        [0, 1, 0, 0, 0, 0, 0, 0, 0, 0, 0, 0, 0, 0, 0, 0, 7, 0, 0, 0, 0, 0,
         0, 0, 0, 0, 0, 0, 0],
        [0, 0, 2, 0, 0, 0, 0, 0, 0, 0, 0, 0, 0, 0, 0, 0, 0, 8, 0, 0, 0, 0,
         0, 0, 0, 0, 0, 0, 0],
        [0, 0, 0, 3, 0, 0, 0, 0, 0, 0, 0, 0, 0, 0, 0, 0, 0, 0, 9, 0, 0, 0,
         0, 0, 0, 0, 0, 0, 0],
        [0, 0, 0, 0, 0, 0, 0, 0, 0, 0, 0, 0, 0, 0, 0, 0, 0, 0, 0, 0, 0, 0,
         0, 0, 0, 0, 0, 0, 0],
        [0, 0, 0, 0, 0, 0, 0, 0, 0, 0, 0, 0, 0, 0, 0, 0, 0, 0, 0, 0, 0, 0,
         0, 0, 0, 0, 0, 0, 0],
        [0, 0, 0, 0, 0, 0, 0, 0, 0, 0, 0, 0, 0, 0, 0, 0, 0, 0, 0, 0, 0, 0,
         0, 0, 0, 0, 0, 0, 0],
        [0, 1, 0, 0, 0, 0, 0, 0, 0, 0, 0, 0, 0, 0, 0, 0, 1, 0, 0, 0, 0, 0,
         0, 0, 0, 0, 0, 0, 0],
        [0, 0, 2, 0, 0, 0, 0, 0, 0, 0, 0, 0, 0, 0, 0, 0, 0, 2, 0, 0, 0, 0,
         0, 0, 0, 0, 0, 0, 0],
        [0, 0, 0, 3, 0, 0, 0, 0, 0, 0, 0, 0, 0, 0, 0, 0, 0, 0, 3, 0, 0, 0,
         0, 0, 0, 0, 0, 0, 0],
        [0, 0, 0, 0, 0, 0, 0, 0, 0, 0, 0, 0, 0, 0, 0, 0, 0, 0, 0, 0, 0, 0,
         0, 0, 0, 1, 1, 1, 1],
        [0, 0, 0, 0, 0, 0, 0, 0, 0, 0, 0, 0, 0, 0, 0, 0, 0, 0, 0, 0, 0, 0,
         0, 0, 0, 1, 2, 2, 2]]))</pre>
</div>

</div>

</div>
</div>

</div>
<div class="cell border-box-sizing text_cell rendered"><div class="prompt input_prompt">
</div><div class="inner_cell">
<div class="text_cell_render border-box-sizing rendered_html">
<p>On commence à constater que la matrice <code>longueurs</code> est toujours presque remplie de zéros, même après tous les calculs ! Peut-être qu'on peut faire mieux, niveau espace de stockage (complexité en mémoire), pour éviter de stocker un nombre trop grand de zéros inutiles. Une version améliorée est présentée ci-dessous, on parvient à diminuer grandement la complexité (moyenne) en mémoire en utilisant une structure intelligente de matrice <em>"creuse"</em>.</p>

</div>
</div>
</div>
<div class="cell border-box-sizing code_cell rendered">
<div class="input">
<div class="prompt input_prompt">In&nbsp;[12]:</div>
<div class="inner_cell">
    <div class="input_area">
<div class=" highlight hl-ipython3"><pre><span></span><span class="n">x</span> <span class="o">=</span> <span class="s2">&quot;abcZZdeFG597&quot;</span>
<span class="n">y</span> <span class="o">=</span> <span class="s2">&quot;AbCdEFG413ZAQCWQ&quot;</span>
<span class="n">sousMotMaxGlouton</span><span class="p">(</span><span class="n">x</span><span class="p">,</span> <span class="n">y</span><span class="p">,</span> <span class="n">verb</span><span class="o">=</span><span class="kc">True</span><span class="p">)</span>
</pre></div>

    </div>
</div>
</div>

<div class="output_wrapper">
<div class="output">


<div class="output_area">

    <div class="prompt"></div>


<div class="output_subarea output_stream output_stdout output_text">
<pre>1. Initialisation de la look-up matrice longueurs de taille (n+1, m+1) : n = 12 m = 16 ...
2. Construction bottom-up de la loop-up matrice longueurs ...
      Correspondance en cours, u[1] = b et v[1] = b, de longueur courante 1 ...
      Correspondance en cours, u[3] = Z et v[10] = Z, de longueur courante 1 ...
      Correspondance en cours, u[4] = Z et v[10] = Z, de longueur courante 1 ...
      Correspondance en cours, u[5] = d et v[3] = d, de longueur courante 1 ...
      Correspondance en cours, u[7] = F et v[5] = F, de longueur courante 1 ...
      Correspondance en cours, u[8] = G et v[6] = G, de longueur courante 2 ...
3. Calcul de la position du plus long sous mot via la matrice longueurs ...
4. On a obtenu iDebut = 7 et jDebut = 5 et longueur_max = 2 ...
      Sous-mot dans x = FG, et sous-mot dans y = FG ...
</pre>
</div>
</div>

<div class="output_area">

    <div class="prompt output_prompt">Out[12]:</div>




<div class="output_text output_subarea output_execute_result">
<pre>(7, 5, &#39;FG&#39;, array([[0, 0, 0, 0, 0, 0, 0, 0, 0, 0, 0, 0, 0, 0, 0, 0, 0],
        [0, 0, 0, 0, 0, 0, 0, 0, 0, 0, 0, 0, 0, 0, 0, 0, 0],
        [0, 0, 1, 0, 0, 0, 0, 0, 0, 0, 0, 0, 0, 0, 0, 0, 0],
        [0, 0, 0, 0, 0, 0, 0, 0, 0, 0, 0, 0, 0, 0, 0, 0, 0],
        [0, 0, 0, 0, 0, 0, 0, 0, 0, 0, 0, 1, 0, 0, 0, 0, 0],
        [0, 0, 0, 0, 0, 0, 0, 0, 0, 0, 0, 1, 0, 0, 0, 0, 0],
        [0, 0, 0, 0, 1, 0, 0, 0, 0, 0, 0, 0, 0, 0, 0, 0, 0],
        [0, 0, 0, 0, 0, 0, 0, 0, 0, 0, 0, 0, 0, 0, 0, 0, 0],
        [0, 0, 0, 0, 0, 0, 1, 0, 0, 0, 0, 0, 0, 0, 0, 0, 0],
        [0, 0, 0, 0, 0, 0, 0, 2, 0, 0, 0, 0, 0, 0, 0, 0, 0],
        [0, 0, 0, 0, 0, 0, 0, 0, 0, 0, 0, 0, 0, 0, 0, 0, 0],
        [0, 0, 0, 0, 0, 0, 0, 0, 0, 0, 0, 0, 0, 0, 0, 0, 0],
        [0, 0, 0, 0, 0, 0, 0, 0, 0, 0, 0, 0, 0, 0, 0, 0, 0]]))</pre>
</div>

</div>

</div>
</div>

</div>
<div class="cell border-box-sizing text_cell rendered"><div class="prompt input_prompt">
</div><div class="inner_cell">
<div class="text_cell_render border-box-sizing rendered_html">
<h2 id="4.2-Utilisation-d'une-matrice-creuse">4.2 Utilisation d'une matrice <em>creuse</em><a class="anchor-link" href="#4.2-Utilisation-d'une-matrice-creuse">&#182;</a></h2>
</div>
</div>
</div>
<div class="cell border-box-sizing text_cell rendered"><div class="prompt input_prompt">
</div><div class="inner_cell">
<div class="text_cell_render border-box-sizing rendered_html">
<p>On va utiliser le module <a href="https://docs.scipy.org/doc/scipy/reference/sparse.html"><code>scipy.sparse</code></a> pour utiliser un codage efficace pour cette matrice <code>longueurs</code> : un codage dit creux qui permettra de ne pas stocker tous ces zéros inutiles.</p>

</div>
</div>
</div>
<div class="cell border-box-sizing code_cell rendered">
<div class="input">
<div class="prompt input_prompt">In&nbsp;[13]:</div>
<div class="inner_cell">
    <div class="input_area">
<div class=" highlight hl-ipython3"><pre><span></span><span class="kn">from</span> <span class="nn">scipy.sparse</span> <span class="k">import</span> <span class="n">lil_matrix</span>
</pre></div>

    </div>
</div>
</div>

</div>
<div class="cell border-box-sizing text_cell rendered"><div class="prompt input_prompt">
</div><div class="inner_cell">
<div class="text_cell_render border-box-sizing rendered_html">
<p>On utilise la structure <code>lil_matrix</code> (<code>lil</code> pour <em>"LInked List"</em>), car c'est la plus efficace quant la matrice change de structure <em>sparse</em> (on rajoute des valeurs non-nulles au fur et à mesure de sa construction).</p>
<p>Exemple :</p>

</div>
</div>
</div>
<div class="cell border-box-sizing code_cell rendered">
<div class="input">
<div class="prompt input_prompt">In&nbsp;[14]:</div>
<div class="inner_cell">
    <div class="input_area">
<div class=" highlight hl-ipython3"><pre><span></span><span class="nb">print</span><span class="p">(</span><span class="s2">&quot;I_12 pleine :</span><span class="se">\n</span><span class="s2">&quot;</span><span class="p">,</span> <span class="n">np</span><span class="o">.</span><span class="n">eye</span><span class="p">(</span><span class="mi">12</span><span class="p">))</span>
<span class="n">I12</span> <span class="o">=</span> <span class="n">lil_matrix</span><span class="p">(</span><span class="n">np</span><span class="o">.</span><span class="n">eye</span><span class="p">(</span><span class="mi">12</span><span class="p">))</span>
<span class="nb">print</span><span class="p">(</span><span class="s2">&quot;I_12 creuse :</span><span class="se">\n</span><span class="s2">&quot;</span><span class="p">,</span> <span class="n">I12</span><span class="p">)</span>
<span class="n">I12</span>
</pre></div>

    </div>
</div>
</div>

<div class="output_wrapper">
<div class="output">


<div class="output_area">

    <div class="prompt"></div>


<div class="output_subarea output_stream output_stdout output_text">
<pre>I_12 pleine :
 [[1. 0. 0. 0. 0. 0. 0. 0. 0. 0. 0. 0.]
 [0. 1. 0. 0. 0. 0. 0. 0. 0. 0. 0. 0.]
 [0. 0. 1. 0. 0. 0. 0. 0. 0. 0. 0. 0.]
 [0. 0. 0. 1. 0. 0. 0. 0. 0. 0. 0. 0.]
 [0. 0. 0. 0. 1. 0. 0. 0. 0. 0. 0. 0.]
 [0. 0. 0. 0. 0. 1. 0. 0. 0. 0. 0. 0.]
 [0. 0. 0. 0. 0. 0. 1. 0. 0. 0. 0. 0.]
 [0. 0. 0. 0. 0. 0. 0. 1. 0. 0. 0. 0.]
 [0. 0. 0. 0. 0. 0. 0. 0. 1. 0. 0. 0.]
 [0. 0. 0. 0. 0. 0. 0. 0. 0. 1. 0. 0.]
 [0. 0. 0. 0. 0. 0. 0. 0. 0. 0. 1. 0.]
 [0. 0. 0. 0. 0. 0. 0. 0. 0. 0. 0. 1.]]
I_12 creuse :
   (0, 0)	1.0
  (1, 1)	1.0
  (2, 2)	1.0
  (3, 3)	1.0
  (4, 4)	1.0
  (5, 5)	1.0
  (6, 6)	1.0
  (7, 7)	1.0
  (8, 8)	1.0
  (9, 9)	1.0
  (10, 10)	1.0
  (11, 11)	1.0
</pre>
</div>
</div>

<div class="output_area">

    <div class="prompt output_prompt">Out[14]:</div>




<div class="output_text output_subarea output_execute_result">
<pre>&lt;12x12 sparse matrix of type &#39;&lt;class &#39;numpy.float64&#39;&gt;&#39;
	with 12 stored elements in LInked List format&gt;</pre>
</div>

</div>

</div>
</div>

</div>
<div class="cell border-box-sizing code_cell rendered">
<div class="input">
<div class="prompt input_prompt">In&nbsp;[15]:</div>
<div class="inner_cell">
    <div class="input_area">
<div class=" highlight hl-ipython3"><pre><span></span><span class="nb">print</span><span class="p">(</span><span class="s2">&quot;Taille de I_12 creuse =&quot;</span><span class="p">,</span> <span class="n">I12</span><span class="o">.</span><span class="n">size</span><span class="p">)</span>
</pre></div>

    </div>
</div>
</div>

<div class="output_wrapper">
<div class="output">


<div class="output_area">

    <div class="prompt"></div>


<div class="output_subarea output_stream output_stdout output_text">
<pre>Taille de I_12 creuse = 12
</pre>
</div>
</div>

</div>
</div>

</div>
<div class="cell border-box-sizing text_cell rendered"><div class="prompt input_prompt">
</div><div class="inner_cell">
<div class="text_cell_render border-box-sizing rendered_html">
<p>On peut prendre exactement la même fonction, et changer la ligne qui crée la matrice <code>longueurs</code> : on ajoute un appel à <code>lil_matrix</code> pour en faire une matrice creuse.</p>
<p>Et voilà comment on passe, en une ligne, de $\mathcal{O}(n m)$ en mémoire dans tous les cas à un $\mathcal{O}(n m)$ dans le pire des cas et $\mathcal{O}(\sum \text{longueur des sous-mots de x et y})$ dans tous les cas (en moyenne, ce sera $\mathcal{O}(\min(n, m))$ au pire).
Notez que ce sera un poil moins efficace, mais on garde la complexité en temps en $\mathcal{O}(n m)$ de toute façon.</p>

</div>
</div>
</div>
<div class="cell border-box-sizing code_cell rendered">
<div class="input">
<div class="prompt input_prompt">In&nbsp;[16]:</div>
<div class="inner_cell">
    <div class="input_area">
<div class=" highlight hl-ipython3"><pre><span></span><span class="k">def</span> <span class="nf">sousMotMaxGloutonCreux</span><span class="p">(</span><span class="n">x</span><span class="p">,</span> <span class="n">y</span><span class="p">,</span> <span class="n">verb</span><span class="o">=</span><span class="kc">False</span><span class="p">,</span> <span class="n">verifie</span><span class="o">=</span><span class="kc">True</span><span class="p">):</span>
    <span class="sd">&quot;&quot;&quot; Calcule le plus long sous-mot commun a x et y, par programmation dynamique.</span>
<span class="sd">    </span>
<span class="sd">        - affiche un peu ce qu&#39;il se passe si verb=True,</span>
<span class="sd">        - vérifie que le sous-mot commun est bien un bon sous-mot commun si verifie=True.</span>
<span class="sd">    &quot;&quot;&quot;</span>
    <span class="k">def</span> <span class="nf">message</span><span class="p">(</span><span class="o">*</span><span class="n">args</span><span class="p">):</span>
        <span class="k">if</span> <span class="n">verb</span><span class="p">:</span>
            <span class="nb">print</span><span class="p">(</span><span class="o">*</span><span class="n">args</span><span class="p">)</span> 
    <span class="c1"># 1. et 2. Initialisation et construction Matrice longueurs</span>
    <span class="n">n</span> <span class="o">=</span> <span class="nb">len</span><span class="p">(</span><span class="n">x</span><span class="p">)</span>
    <span class="n">m</span> <span class="o">=</span> <span class="nb">len</span><span class="p">(</span><span class="n">y</span><span class="p">)</span>
    <span class="n">message</span><span class="p">(</span><span class="s2">&quot;</span><span class="se">\n</span><span class="s2">1. Initialisation de la look-up matrice longueurs, creuse de taille (n+1, m+1) : n = </span><span class="si">{}</span><span class="s2"> m = </span><span class="si">{}</span><span class="s2"> ...&quot;</span><span class="o">.</span><span class="n">format</span><span class="p">(</span><span class="n">n</span><span class="p">,</span> <span class="n">m</span><span class="p">))</span>
    <span class="n">longueurs</span> <span class="o">=</span> <span class="n">lil_matrix</span><span class="p">(</span><span class="n">np</span><span class="o">.</span><span class="n">zeros</span><span class="p">((</span><span class="n">n</span><span class="o">+</span><span class="mi">1</span><span class="p">,</span> <span class="n">m</span><span class="o">+</span><span class="mi">1</span><span class="p">),</span> <span class="n">dtype</span><span class="o">=</span><span class="nb">int</span><span class="p">))</span>
    <span class="n">message</span><span class="p">(</span><span class="s2">&quot;2. Construction bottom-up de la loop-up matrice longueurs ...&quot;</span><span class="p">)</span>
    <span class="k">for</span> <span class="n">i</span> <span class="ow">in</span> <span class="nb">range</span><span class="p">(</span><span class="mi">1</span><span class="p">,</span> <span class="n">n</span><span class="o">+</span><span class="mi">1</span><span class="p">):</span>
        <span class="k">for</span> <span class="n">j</span> <span class="ow">in</span> <span class="nb">range</span><span class="p">(</span><span class="mi">1</span><span class="p">,</span> <span class="n">m</span><span class="o">+</span><span class="mi">1</span><span class="p">):</span>
            <span class="k">if</span> <span class="n">x</span><span class="p">[</span><span class="n">i</span><span class="o">-</span><span class="mi">1</span><span class="p">]</span> <span class="o">==</span> <span class="n">y</span><span class="p">[</span><span class="n">j</span><span class="o">-</span><span class="mi">1</span><span class="p">]:</span>
                <span class="n">longueurs</span><span class="p">[</span><span class="n">i</span><span class="p">,</span> <span class="n">j</span><span class="p">]</span> <span class="o">=</span> <span class="mi">1</span> <span class="o">+</span> <span class="n">longueurs</span><span class="p">[</span><span class="n">i</span><span class="o">-</span><span class="mi">1</span><span class="p">,</span> <span class="n">j</span><span class="o">-</span><span class="mi">1</span><span class="p">]</span>
                <span class="n">message</span><span class="p">(</span><span class="s2">&quot;      Correspondance en cours, u[</span><span class="si">{}</span><span class="s2">] = </span><span class="si">{}</span><span class="s2"> et v[</span><span class="si">{}</span><span class="s2">] = </span><span class="si">{}</span><span class="s2">, de longueur courante </span><span class="si">{}</span><span class="s2"> ...&quot;</span><span class="o">.</span><span class="n">format</span><span class="p">(</span><span class="n">i</span><span class="o">-</span><span class="mi">1</span><span class="p">,</span> <span class="n">x</span><span class="p">[</span><span class="n">i</span><span class="o">-</span><span class="mi">1</span><span class="p">],</span> <span class="n">j</span><span class="o">-</span><span class="mi">1</span><span class="p">,</span> <span class="n">y</span><span class="p">[</span><span class="n">j</span><span class="o">-</span><span class="mi">1</span><span class="p">],</span> <span class="n">longueurs</span><span class="p">[</span><span class="n">i</span><span class="p">,</span> <span class="n">j</span><span class="p">]))</span>
    <span class="c1"># 3. Utilisation de la matrice longueurs</span>
    <span class="n">iFin</span><span class="p">,</span> <span class="n">jFin</span> <span class="o">=</span> <span class="mi">0</span><span class="p">,</span> <span class="mi">0</span>
    <span class="n">longueur_max</span> <span class="o">=</span> <span class="o">-</span><span class="mi">1</span>  <span class="c1"># Pas encore</span>
    <span class="n">message</span><span class="p">(</span><span class="s2">&quot;3. Calcul de la position du plus long sous mot via la matrice longueurs ...&quot;</span><span class="p">)</span>
    <span class="k">for</span> <span class="n">i</span> <span class="ow">in</span> <span class="nb">range</span><span class="p">(</span><span class="mi">0</span><span class="p">,</span> <span class="n">n</span><span class="o">+</span><span class="mi">1</span><span class="p">):</span>
        <span class="k">for</span> <span class="n">j</span> <span class="ow">in</span> <span class="nb">range</span><span class="p">(</span><span class="mi">0</span><span class="p">,</span> <span class="n">m</span><span class="o">+</span><span class="mi">1</span><span class="p">):</span>
            <span class="k">if</span> <span class="n">longueur_max</span> <span class="o">&lt;</span> <span class="n">longueurs</span><span class="p">[</span><span class="n">i</span><span class="p">,</span> <span class="n">j</span><span class="p">]:</span>
                <span class="n">longueur_max</span> <span class="o">=</span> <span class="n">longueurs</span><span class="p">[</span><span class="n">i</span><span class="p">,</span> <span class="n">j</span><span class="p">]</span>
                <span class="n">iFin</span><span class="p">,</span> <span class="n">jFin</span> <span class="o">=</span> <span class="n">i</span><span class="p">,</span> <span class="n">j</span>
    <span class="c1"># Calcul des indices de debut</span>
    <span class="n">iDebut</span><span class="p">,</span> <span class="n">jDebut</span> <span class="o">=</span> <span class="n">iFin</span> <span class="o">-</span> <span class="n">longueur_max</span><span class="p">,</span> <span class="n">jFin</span> <span class="o">-</span> <span class="n">longueur_max</span>
    <span class="n">message</span><span class="p">(</span><span class="s2">&quot;4. On a obtenu iDebut = </span><span class="si">{}</span><span class="s2"> et jDebut = </span><span class="si">{}</span><span class="s2"> et longueur_max = </span><span class="si">{}</span><span class="s2"> ...&quot;</span><span class="o">.</span><span class="n">format</span><span class="p">(</span><span class="n">iDebut</span><span class="p">,</span> <span class="n">jDebut</span><span class="p">,</span> <span class="n">longueur_max</span><span class="p">))</span>

    <span class="c1"># 4. Vérification</span>
    <span class="k">if</span> <span class="n">verifie</span><span class="p">:</span>
        <span class="n">xSous</span> <span class="o">=</span> <span class="n">x</span><span class="p">[</span><span class="n">iDebut</span><span class="p">:</span> <span class="n">iDebut</span> <span class="o">+</span> <span class="n">longueur_max</span><span class="p">]</span>
        <span class="n">ySous</span> <span class="o">=</span> <span class="n">y</span><span class="p">[</span><span class="n">jDebut</span><span class="p">:</span> <span class="n">jDebut</span> <span class="o">+</span> <span class="n">longueur_max</span><span class="p">]</span>
        <span class="n">message</span><span class="p">(</span><span class="s2">&quot;      Sous-mot dans x = </span><span class="si">{}</span><span class="s2">, et sous-mot dans y = </span><span class="si">{}</span><span class="s2"> ...&quot;</span><span class="o">.</span><span class="n">format</span><span class="p">(</span><span class="n">xSous</span><span class="p">,</span> <span class="n">ySous</span><span class="p">))</span>
        <span class="k">assert</span> <span class="n">xSous</span> <span class="o">==</span> <span class="n">ySous</span><span class="p">,</span> <span class="s2">&quot;Erreur, xSous et ySous sont différents !&quot;</span>
    
    <span class="n">leSousMot</span> <span class="o">=</span> <span class="n">x</span><span class="p">[</span><span class="n">iDebut</span><span class="p">:</span> <span class="n">iDebut</span> <span class="o">+</span> <span class="n">longueur_max</span><span class="p">]</span>
    <span class="k">return</span> <span class="n">iDebut</span><span class="p">,</span> <span class="n">jDebut</span><span class="p">,</span> <span class="n">leSousMot</span><span class="p">,</span> <span class="n">longueurs</span>
</pre></div>

    </div>
</div>
</div>

</div>
<div class="cell border-box-sizing text_cell rendered"><div class="prompt input_prompt">
</div><div class="inner_cell">
<div class="text_cell_render border-box-sizing rendered_html">
<p>On peut faire quelques exemples en plus, et on calcule aussi la taille de la matrice creuse <code>longueurs</code> (pour comparer a la taille de la matrice pleine de la fonction d'avant) :</p>

</div>
</div>
</div>
<div class="cell border-box-sizing code_cell rendered">
<div class="input">
<div class="prompt input_prompt">In&nbsp;[17]:</div>
<div class="inner_cell">
    <div class="input_area">
<div class=" highlight hl-ipython3"><pre><span></span><span class="n">x</span> <span class="o">=</span> <span class="s2">&quot;ab0cABC0abc123456abcABCabc99&quot;</span>
<span class="n">y</span> <span class="o">=</span> <span class="s2">&quot;abZQXCVQDScD0EFd0ef123456abcDEFdef9999&quot;</span>
<span class="n">iDebut</span><span class="p">,</span> <span class="n">jDebut</span><span class="p">,</span> <span class="n">sousxy</span><span class="p">,</span> <span class="n">longueurs</span> <span class="o">=</span> <span class="n">sousMotMaxGloutonCreux</span><span class="p">(</span><span class="n">x</span><span class="p">,</span> <span class="n">y</span><span class="p">,</span> <span class="n">verb</span><span class="o">=</span><span class="kc">True</span><span class="p">)</span>
<span class="nb">print</span><span class="p">(</span><span class="s2">&quot;Taille de la matrice pleine = (n+1)(m+1) =&quot;</span><span class="p">,</span> <span class="p">(</span><span class="nb">len</span><span class="p">(</span><span class="n">x</span><span class="p">)</span> <span class="o">+</span> <span class="mi">1</span><span class="p">)</span> <span class="o">*</span> <span class="p">(</span><span class="nb">len</span><span class="p">(</span><span class="n">y</span><span class="p">)</span> <span class="o">+</span> <span class="mi">1</span><span class="p">))</span>
<span class="nb">print</span><span class="p">(</span><span class="s2">&quot;Taille de la matrice creuse longueurs =&quot;</span><span class="p">,</span> <span class="n">longueurs</span><span class="o">.</span><span class="n">size</span><span class="p">)</span>
</pre></div>

    </div>
</div>
</div>

<div class="output_wrapper">
<div class="output">


<div class="output_area">

    <div class="prompt"></div>


<div class="output_subarea output_stream output_stdout output_text">
<pre>1. Initialisation de la look-up matrice longueurs, creuse de taille (n+1, m+1) : n = 28 m = 38 ...
2. Construction bottom-up de la loop-up matrice longueurs ...
      Correspondance en cours, u[0] = a et v[0] = a, de longueur courante 1 ...
      Correspondance en cours, u[0] = a et v[25] = a, de longueur courante 1 ...
      Correspondance en cours, u[1] = b et v[1] = b, de longueur courante 2 ...
      Correspondance en cours, u[1] = b et v[26] = b, de longueur courante 2 ...
      Correspondance en cours, u[2] = 0 et v[12] = 0, de longueur courante 1 ...
      Correspondance en cours, u[2] = 0 et v[16] = 0, de longueur courante 1 ...
      Correspondance en cours, u[3] = c et v[10] = c, de longueur courante 1 ...
      Correspondance en cours, u[3] = c et v[27] = c, de longueur courante 1 ...
      Correspondance en cours, u[6] = C et v[5] = C, de longueur courante 1 ...
      Correspondance en cours, u[7] = 0 et v[12] = 0, de longueur courante 1 ...
      Correspondance en cours, u[7] = 0 et v[16] = 0, de longueur courante 1 ...
      Correspondance en cours, u[8] = a et v[0] = a, de longueur courante 1 ...
      Correspondance en cours, u[8] = a et v[25] = a, de longueur courante 1 ...
      Correspondance en cours, u[9] = b et v[1] = b, de longueur courante 2 ...
      Correspondance en cours, u[9] = b et v[26] = b, de longueur courante 2 ...
      Correspondance en cours, u[10] = c et v[10] = c, de longueur courante 1 ...
      Correspondance en cours, u[10] = c et v[27] = c, de longueur courante 3 ...
      Correspondance en cours, u[11] = 1 et v[19] = 1, de longueur courante 1 ...
      Correspondance en cours, u[12] = 2 et v[20] = 2, de longueur courante 2 ...
      Correspondance en cours, u[13] = 3 et v[21] = 3, de longueur courante 3 ...
      Correspondance en cours, u[14] = 4 et v[22] = 4, de longueur courante 4 ...
      Correspondance en cours, u[15] = 5 et v[23] = 5, de longueur courante 5 ...
      Correspondance en cours, u[16] = 6 et v[24] = 6, de longueur courante 6 ...
      Correspondance en cours, u[17] = a et v[0] = a, de longueur courante 1 ...
      Correspondance en cours, u[17] = a et v[25] = a, de longueur courante 7 ...
      Correspondance en cours, u[18] = b et v[1] = b, de longueur courante 2 ...
      Correspondance en cours, u[18] = b et v[26] = b, de longueur courante 8 ...
      Correspondance en cours, u[19] = c et v[10] = c, de longueur courante 1 ...
      Correspondance en cours, u[19] = c et v[27] = c, de longueur courante 9 ...
      Correspondance en cours, u[22] = C et v[5] = C, de longueur courante 1 ...
      Correspondance en cours, u[23] = a et v[0] = a, de longueur courante 1 ...
      Correspondance en cours, u[23] = a et v[25] = a, de longueur courante 1 ...
      Correspondance en cours, u[24] = b et v[1] = b, de longueur courante 2 ...
      Correspondance en cours, u[24] = b et v[26] = b, de longueur courante 2 ...
      Correspondance en cours, u[25] = c et v[10] = c, de longueur courante 1 ...
      Correspondance en cours, u[25] = c et v[27] = c, de longueur courante 3 ...
      Correspondance en cours, u[26] = 9 et v[34] = 9, de longueur courante 1 ...
      Correspondance en cours, u[26] = 9 et v[35] = 9, de longueur courante 1 ...
      Correspondance en cours, u[26] = 9 et v[36] = 9, de longueur courante 1 ...
      Correspondance en cours, u[26] = 9 et v[37] = 9, de longueur courante 1 ...
      Correspondance en cours, u[27] = 9 et v[34] = 9, de longueur courante 1 ...
      Correspondance en cours, u[27] = 9 et v[35] = 9, de longueur courante 2 ...
      Correspondance en cours, u[27] = 9 et v[36] = 9, de longueur courante 2 ...
      Correspondance en cours, u[27] = 9 et v[37] = 9, de longueur courante 2 ...
3. Calcul de la position du plus long sous mot via la matrice longueurs ...
4. On a obtenu iDebut = 11 et jDebut = 19 et longueur_max = 9 ...
      Sous-mot dans x = 123456abc, et sous-mot dans y = 123456abc ...
Taille de la matrice pleine = (n+1)(m+1) = 1131
Taille de la matrice creuse longueurs = 44
</pre>
</div>
</div>

</div>
</div>

</div>
<div class="cell border-box-sizing text_cell rendered"><div class="prompt input_prompt">
</div><div class="inner_cell">
<div class="text_cell_render border-box-sizing rendered_html">
<p>Ici, sur deux mots de tailles raisonnables (<code>x = "ab0cABC0abc123456abcABCabc99"</code> et <code>y = "abZQXCVQDScD0EFd0ef123456abcDEFdef9999"</code>), on passe d'une matrice pleine de taille <code>1131</code> entiers à une matrice creuse de taille <code>44</code> entiers : le gain est considérable !</p>

</div>
</div>
</div>
<div class="cell border-box-sizing code_cell rendered">
<div class="input">
<div class="prompt input_prompt">In&nbsp;[18]:</div>
<div class="inner_cell">
    <div class="input_area">
<div class=" highlight hl-ipython3"><pre><span></span><span class="n">x</span> <span class="o">=</span> <span class="s2">&quot;abcZZdeFG597&quot;</span>
<span class="n">y</span> <span class="o">=</span> <span class="s2">&quot;AbCdEFG413ZAQCWQ&quot;</span>
<span class="n">iDebut</span><span class="p">,</span> <span class="n">jDebut</span><span class="p">,</span> <span class="n">sousxy</span><span class="p">,</span> <span class="n">longueurs</span> <span class="o">=</span> <span class="n">sousMotMaxGloutonCreux</span><span class="p">(</span><span class="n">x</span><span class="p">,</span> <span class="n">y</span><span class="p">,</span> <span class="n">verb</span><span class="o">=</span><span class="kc">True</span><span class="p">)</span>
<span class="nb">print</span><span class="p">(</span><span class="s2">&quot;Taille de la matrice pleine = (n+1)(m+1) =&quot;</span><span class="p">,</span> <span class="p">(</span><span class="nb">len</span><span class="p">(</span><span class="n">x</span><span class="p">)</span> <span class="o">+</span> <span class="mi">1</span><span class="p">)</span> <span class="o">*</span> <span class="p">(</span><span class="nb">len</span><span class="p">(</span><span class="n">y</span><span class="p">)</span> <span class="o">+</span> <span class="mi">1</span><span class="p">))</span>
<span class="nb">print</span><span class="p">(</span><span class="s2">&quot;Taille de la matrice creuse longueurs =&quot;</span><span class="p">,</span> <span class="n">longueurs</span><span class="o">.</span><span class="n">size</span><span class="p">)</span>
</pre></div>

    </div>
</div>
</div>

<div class="output_wrapper">
<div class="output">


<div class="output_area">

    <div class="prompt"></div>


<div class="output_subarea output_stream output_stdout output_text">
<pre>1. Initialisation de la look-up matrice longueurs, creuse de taille (n+1, m+1) : n = 12 m = 16 ...
2. Construction bottom-up de la loop-up matrice longueurs ...
      Correspondance en cours, u[1] = b et v[1] = b, de longueur courante 1 ...
      Correspondance en cours, u[3] = Z et v[10] = Z, de longueur courante 1 ...
      Correspondance en cours, u[4] = Z et v[10] = Z, de longueur courante 1 ...
      Correspondance en cours, u[5] = d et v[3] = d, de longueur courante 1 ...
      Correspondance en cours, u[7] = F et v[5] = F, de longueur courante 1 ...
      Correspondance en cours, u[8] = G et v[6] = G, de longueur courante 2 ...
3. Calcul de la position du plus long sous mot via la matrice longueurs ...
4. On a obtenu iDebut = 7 et jDebut = 5 et longueur_max = 2 ...
      Sous-mot dans x = FG, et sous-mot dans y = FG ...
Taille de la matrice pleine = (n+1)(m+1) = 221
Taille de la matrice creuse longueurs = 6
</pre>
</div>
</div>

</div>
</div>

</div>
<div class="cell border-box-sizing text_cell rendered"><div class="prompt input_prompt">
</div><div class="inner_cell">
<div class="text_cell_render border-box-sizing rendered_html">
<p>Avec des mots <code>x</code> et <code>y</code> plus longs, le gain en mémoire induit par le codage creux est encore plus impressionnant :</p>

</div>
</div>
</div>
<div class="cell border-box-sizing code_cell rendered">
<div class="input">
<div class="prompt input_prompt">In&nbsp;[19]:</div>
<div class="inner_cell">
    <div class="input_area">
<div class=" highlight hl-ipython3"><pre><span></span><span class="n">x</span> <span class="o">=</span> <span class="s2">&quot;ab0cABC0abc123456abcABCabc99abcZZdeFG597abcZZdeFG597abcZZdeFG597abcZZdeFG597aethjrynghù*ejgodknùebjtzinhmodgkùjihrznhumbajzdgihbjmnaekrzùdbnvkzriùnodgkl ojzirnùodk bùgbznùod1249721325414765132486513486565465klfrzinhbùodfskl p*bjùdkl nbdnù&quot;</span>
<span class="n">y</span> <span class="o">=</span> <span class="s2">&quot;abZQXCVQDScD0EFd0ef123456abcDEFdef9999AbCdEFG413ZAQCWQAbCdEFG413ZAQCWQAbCdEFG413ZAQCWQAbCdEFG413ZAQCWQAbCdEFG413ZAQCWQzrthekĝbùpbgmhbgdmv hubznemr1249721325414765132486513486565465ebgd&quot;</span>
<span class="n">iDebut</span><span class="p">,</span> <span class="n">jDebut</span><span class="p">,</span> <span class="n">sousxy</span><span class="p">,</span> <span class="n">longueurs</span> <span class="o">=</span> <span class="n">sousMotMaxGloutonCreux</span><span class="p">(</span><span class="n">x</span><span class="p">,</span> <span class="n">y</span><span class="p">,</span> <span class="n">verb</span><span class="o">=</span><span class="kc">False</span><span class="p">)</span>
<span class="nb">print</span><span class="p">(</span><span class="s2">&quot;Taille de la matrice pleine = (n+1)(m+1) =&quot;</span><span class="p">,</span> <span class="p">(</span><span class="nb">len</span><span class="p">(</span><span class="n">x</span><span class="p">)</span> <span class="o">+</span> <span class="mi">1</span><span class="p">)</span> <span class="o">*</span> <span class="p">(</span><span class="nb">len</span><span class="p">(</span><span class="n">y</span><span class="p">)</span> <span class="o">+</span> <span class="mi">1</span><span class="p">))</span>
<span class="nb">print</span><span class="p">(</span><span class="s2">&quot;Taille de la matrice creuse longueurs =&quot;</span><span class="p">,</span> <span class="n">longueurs</span><span class="o">.</span><span class="n">size</span><span class="p">)</span>
</pre></div>

    </div>
</div>
</div>

<div class="output_wrapper">
<div class="output">


<div class="output_area">

    <div class="prompt"></div>


<div class="output_subarea output_stream output_stdout output_text">
<pre>Taille de la matrice pleine = (n+1)(m+1) = 44215
Taille de la matrice creuse longueurs = 1046
</pre>
</div>
</div>

</div>
</div>

</div>
<div class="cell border-box-sizing text_cell rendered"><div class="prompt input_prompt">
</div><div class="inner_cell">
<div class="text_cell_render border-box-sizing rendered_html">
<h3 id="4.2.1-Version-condens&#233;e">4.2.1 Version condens&#233;e<a class="anchor-link" href="#4.2.1-Version-condens&#233;e">&#182;</a></h3>
</div>
</div>
</div>
<div class="cell border-box-sizing text_cell rendered"><div class="prompt input_prompt">
</div><div class="inner_cell">
<div class="text_cell_render border-box-sizing rendered_html">
<p>Le code de cette fonction <code>sousMotMaxGloutonCreux</code> peut sembler un peu long, mais sans messages ni commentaires il est vraiment court et simple :</p>

</div>
</div>
</div>
<div class="cell border-box-sizing code_cell rendered">
<div class="input">
<div class="prompt input_prompt">In&nbsp;[20]:</div>
<div class="inner_cell">
    <div class="input_area">
<div class=" highlight hl-ipython3"><pre><span></span><span class="k">def</span> <span class="nf">sousMotMaxGloutonCreux2</span><span class="p">(</span><span class="n">x</span><span class="p">,</span> <span class="n">y</span><span class="p">):</span>
    <span class="n">n</span> <span class="o">=</span> <span class="nb">len</span><span class="p">(</span><span class="n">x</span><span class="p">)</span>
    <span class="n">m</span> <span class="o">=</span> <span class="nb">len</span><span class="p">(</span><span class="n">y</span><span class="p">)</span>
    
    <span class="n">longueurs</span> <span class="o">=</span> <span class="n">lil_matrix</span><span class="p">(</span><span class="n">np</span><span class="o">.</span><span class="n">zeros</span><span class="p">((</span><span class="n">n</span><span class="o">+</span><span class="mi">1</span><span class="p">,</span> <span class="n">m</span><span class="o">+</span><span class="mi">1</span><span class="p">),</span> <span class="n">dtype</span><span class="o">=</span><span class="nb">int</span><span class="p">))</span>
    <span class="k">for</span> <span class="n">i</span> <span class="ow">in</span> <span class="nb">range</span><span class="p">(</span><span class="mi">1</span><span class="p">,</span> <span class="n">n</span><span class="o">+</span><span class="mi">1</span><span class="p">):</span>
        <span class="k">for</span> <span class="n">j</span> <span class="ow">in</span> <span class="nb">range</span><span class="p">(</span><span class="mi">1</span><span class="p">,</span> <span class="n">m</span><span class="o">+</span><span class="mi">1</span><span class="p">):</span>
            <span class="k">if</span> <span class="n">x</span><span class="p">[</span><span class="n">i</span><span class="o">-</span><span class="mi">1</span><span class="p">]</span> <span class="o">==</span> <span class="n">y</span><span class="p">[</span><span class="n">j</span><span class="o">-</span><span class="mi">1</span><span class="p">]:</span>
                <span class="n">longueurs</span><span class="p">[</span><span class="n">i</span><span class="p">,</span> <span class="n">j</span><span class="p">]</span> <span class="o">=</span> <span class="mi">1</span> <span class="o">+</span> <span class="n">longueurs</span><span class="p">[</span><span class="n">i</span><span class="o">-</span><span class="mi">1</span><span class="p">,</span> <span class="n">j</span><span class="o">-</span><span class="mi">1</span><span class="p">]</span>
    
    <span class="n">iFin</span><span class="p">,</span> <span class="n">jFin</span> <span class="o">=</span> <span class="mi">0</span><span class="p">,</span> <span class="mi">0</span>
    <span class="n">longueur_max</span> <span class="o">=</span> <span class="o">-</span><span class="mi">1</span>  <span class="c1"># Pas encore</span>
    <span class="k">for</span> <span class="n">i</span> <span class="ow">in</span> <span class="nb">range</span><span class="p">(</span><span class="mi">0</span><span class="p">,</span> <span class="n">n</span><span class="o">+</span><span class="mi">1</span><span class="p">):</span>
        <span class="k">for</span> <span class="n">j</span> <span class="ow">in</span> <span class="nb">range</span><span class="p">(</span><span class="mi">0</span><span class="p">,</span> <span class="n">m</span><span class="o">+</span><span class="mi">1</span><span class="p">):</span>
            <span class="k">if</span> <span class="n">longueur_max</span> <span class="o">&lt;</span> <span class="n">longueurs</span><span class="p">[</span><span class="n">i</span><span class="p">,</span> <span class="n">j</span><span class="p">]:</span>
                <span class="n">longueur_max</span> <span class="o">=</span> <span class="n">longueurs</span><span class="p">[</span><span class="n">i</span><span class="p">,</span> <span class="n">j</span><span class="p">]</span>
                <span class="n">iFin</span><span class="p">,</span> <span class="n">jFin</span> <span class="o">=</span> <span class="n">i</span><span class="p">,</span> <span class="n">j</span>
    <span class="n">iDebut</span><span class="p">,</span> <span class="n">jDebut</span> <span class="o">=</span> <span class="n">iFin</span> <span class="o">-</span> <span class="n">longueur_max</span><span class="p">,</span> <span class="n">jFin</span> <span class="o">-</span> <span class="n">longueur_max</span>

    <span class="n">leSousMot</span> <span class="o">=</span> <span class="n">x</span><span class="p">[</span><span class="n">iDebut</span><span class="p">:</span> <span class="n">iDebut</span> <span class="o">+</span> <span class="n">longueur_max</span><span class="p">]</span>
    <span class="k">return</span> <span class="n">iDebut</span><span class="p">,</span> <span class="n">jDebut</span><span class="p">,</span> <span class="n">leSousMot</span><span class="p">,</span> <span class="n">longueurs</span>
</pre></div>

    </div>
</div>
</div>

</div>
<div class="cell border-box-sizing text_cell rendered"><div class="prompt input_prompt">
</div><div class="inner_cell">
<div class="text_cell_render border-box-sizing rendered_html">
<p>Et le même exemple donne pareil :</p>

</div>
</div>
</div>
<div class="cell border-box-sizing code_cell rendered">
<div class="input">
<div class="prompt input_prompt">In&nbsp;[21]:</div>
<div class="inner_cell">
    <div class="input_area">
<div class=" highlight hl-ipython3"><pre><span></span><span class="n">x</span> <span class="o">=</span> <span class="s2">&quot;ab0cABC0abc123456abcABCabc99abcZZdeFG597abcZZdeFG597abcZZdeFG597abcZZdeFG597aethjrynghù*ejgodknùebjtzinhmodgkùjihrznhumbajzdgihbjmnaekrzùdbnvkzriùnodgkl ojzirnùodk bùgbznùod1249721325414765132486513486565465klfrzinhbùodfskl p*bjùdkl nbdnù&quot;</span>
<span class="n">y</span> <span class="o">=</span> <span class="s2">&quot;abZQXCVQDScD0EFd0ef123456abcDEFdef9999AbCdEFG413ZAQCWQAbCdEFG413ZAQCWQAbCdEFG413ZAQCWQAbCdEFG413ZAQCWQAbCdEFG413ZAQCWQzrthekĝbùpbgmhbgdmv hubznemr1249721325414765132486513486565465ebgd&quot;</span>
<span class="n">iDebut</span><span class="p">,</span> <span class="n">jDebut</span><span class="p">,</span> <span class="n">sousxy</span><span class="p">,</span> <span class="n">longueurs</span> <span class="o">=</span> <span class="n">sousMotMaxGloutonCreux2</span><span class="p">(</span><span class="n">x</span><span class="p">,</span> <span class="n">y</span><span class="p">)</span>
<span class="nb">print</span><span class="p">(</span><span class="s2">&quot;Taille de la matrice pleine = (n+1)(m+1) =&quot;</span><span class="p">,</span> <span class="p">(</span><span class="nb">len</span><span class="p">(</span><span class="n">x</span><span class="p">)</span> <span class="o">+</span> <span class="mi">1</span><span class="p">)</span> <span class="o">*</span> <span class="p">(</span><span class="nb">len</span><span class="p">(</span><span class="n">y</span><span class="p">)</span> <span class="o">+</span> <span class="mi">1</span><span class="p">))</span>
<span class="nb">print</span><span class="p">(</span><span class="s2">&quot;Taille de la matrice creuse longueurs =&quot;</span><span class="p">,</span> <span class="n">longueurs</span><span class="o">.</span><span class="n">size</span><span class="p">)</span>
<span class="nb">print</span><span class="p">(</span><span class="s2">&quot;Sous-mot :&quot;</span><span class="p">,</span> <span class="n">sousxy</span><span class="p">)</span>
</pre></div>

    </div>
</div>
</div>

<div class="output_wrapper">
<div class="output">


<div class="output_area">

    <div class="prompt"></div>


<div class="output_subarea output_stream output_stdout output_text">
<pre>Taille de la matrice pleine = (n+1)(m+1) = 44215
Taille de la matrice creuse longueurs = 1046
Sous-mot : 1249721325414765132486513486565465
</pre>
</div>
</div>

</div>
</div>

</div>
<div class="cell border-box-sizing text_cell rendered"><div class="prompt input_prompt">
</div><div class="inner_cell">
<div class="text_cell_render border-box-sizing rendered_html">
<hr>

</div>
</div>
</div>
<div class="cell border-box-sizing text_cell rendered"><div class="prompt input_prompt">
</div><div class="inner_cell">
<div class="text_cell_render border-box-sizing rendered_html">
<h1 id="5.-Calcule-de-la-plus-longue-sous-s&#233;quence-commune">5. Calcule de la plus longue sous-s&#233;quence commune<a class="anchor-link" href="#5.-Calcule-de-la-plus-longue-sous-s&#233;quence-commune">&#182;</a></h1>
</div>
</div>
</div>
<div class="cell border-box-sizing text_cell rendered"><div class="prompt input_prompt">
</div><div class="inner_cell">
<div class="text_cell_render border-box-sizing rendered_html">
<p>Maintenant qu'on a fait tout ca, on peut implementer, de facon tres semblable, l'algorithme glouton pour le calcul de la plus longue sous-séquence commune.</p>
<p>Dans cet autre problème, on cherche des sous-séquences et plus des sous-mots, donc on peut extraire de facon non consécutives.
Le développement d'agrégation devrait concerner le second problème, qui est plus intéressant:
Par exemple, voici une version tapée en PDF : <a href="http://minerve.bretagne.ens-cachan.fr/images/Dvt_plsc.pdf">http://minerve.bretagne.ens-cachan.fr/images/Dvt_plsc.pdf</a>.</p>

</div>
</div>
</div>
<div class="cell border-box-sizing text_cell rendered"><div class="prompt input_prompt">
</div><div class="inner_cell">
<div class="text_cell_render border-box-sizing rendered_html">
<h2 id="5.1-V&#233;rifier-qu'une-sous-s&#233;quence-est-une-bonne-sous-s&#233;quence">5.1 V&#233;rifier qu'une sous-s&#233;quence est une bonne sous-s&#233;quence<a class="anchor-link" href="#5.1-V&#233;rifier-qu'une-sous-s&#233;quence-est-une-bonne-sous-s&#233;quence">&#182;</a></h2>
</div>
</div>
</div>
<div class="cell border-box-sizing text_cell rendered"><div class="prompt input_prompt">
</div><div class="inner_cell">
<div class="text_cell_render border-box-sizing rendered_html">
<p>On commencer par écrire une petite fonction qui permet de vérifier rapidement qu'une chaine est une sous-séquence d'une autre, juste en regardant la définition.</p>

</div>
</div>
</div>
<div class="cell border-box-sizing code_cell rendered">
<div class="input">
<div class="prompt input_prompt">In&nbsp;[22]:</div>
<div class="inner_cell">
    <div class="input_area">
<div class=" highlight hl-ipython3"><pre><span></span><span class="k">def</span> <span class="nf">estSousSeq</span><span class="p">(</span><span class="n">seq</span><span class="p">,</span> <span class="n">x</span><span class="p">,</span> <span class="n">verb</span><span class="o">=</span><span class="kc">True</span><span class="p">,</span> <span class="n">indices</span><span class="o">=</span><span class="kc">True</span><span class="p">):</span>
    <span class="sd">&quot;&quot;&quot; Verifie en temps O(|seq| |x|) que seq est une bonne sous-sequence de x.</span>
<span class="sd">    &quot;&quot;&quot;</span>
    <span class="n">result</span> <span class="o">=</span> <span class="kc">False</span>
    <span class="n">indices_x</span> <span class="o">=</span> <span class="p">[]</span>
    <span class="k">try</span><span class="p">:</span>
        <span class="n">i</span> <span class="o">=</span> <span class="o">-</span><span class="mi">1</span>
        <span class="k">for</span> <span class="n">l</span> <span class="ow">in</span> <span class="n">seq</span><span class="p">:</span>
            <span class="n">j</span> <span class="o">=</span> <span class="n">i</span><span class="o">+</span><span class="mi">1</span> <span class="o">+</span> <span class="n">x</span><span class="p">[</span><span class="n">i</span><span class="o">+</span><span class="mi">1</span><span class="p">:]</span><span class="o">.</span><span class="n">index</span><span class="p">(</span><span class="n">l</span><span class="p">)</span>
            <span class="n">indices_x</span><span class="o">.</span><span class="n">append</span><span class="p">(</span><span class="n">j</span><span class="p">)</span>
            <span class="n">i</span> <span class="o">=</span> <span class="n">j</span>
        <span class="n">result</span> <span class="o">=</span> <span class="kc">True</span>
    <span class="k">except</span> <span class="ne">Exception</span> <span class="k">as</span> <span class="n">e</span><span class="p">:</span>
        <span class="k">if</span> <span class="n">verb</span><span class="p">:</span>
            <span class="nb">print</span><span class="p">(</span><span class="s2">&quot;Erreur dans estSousSeq(seq = </span><span class="si">{}</span><span class="s2">, x = </span><span class="si">{}</span><span class="s2">):</span><span class="se">\n</span><span class="si">{}</span><span class="s2">&quot;</span><span class="o">.</span><span class="n">format</span><span class="p">(</span><span class="n">seq</span><span class="p">,</span> <span class="n">x</span><span class="p">,</span> <span class="n">e</span><span class="p">))</span>
    <span class="k">if</span> <span class="n">indices</span><span class="p">:</span>
        <span class="k">return</span> <span class="n">result</span><span class="p">,</span> <span class="n">indices_x</span>
    <span class="k">else</span><span class="p">:</span>
        <span class="k">return</span> <span class="n">result</span>
</pre></div>

    </div>
</div>
</div>

</div>
<div class="cell border-box-sizing text_cell rendered"><div class="prompt input_prompt">
</div><div class="inner_cell">
<div class="text_cell_render border-box-sizing rendered_html">
<h2 id="5.2-Algorithme-pour-la-plus-longue-sous-s&#233;quence">5.2 Algorithme pour la plus longue sous-s&#233;quence<a class="anchor-link" href="#5.2-Algorithme-pour-la-plus-longue-sous-s&#233;quence">&#182;</a></h2>
</div>
</div>
</div>
<div class="cell border-box-sizing text_cell rendered"><div class="prompt input_prompt">
</div><div class="inner_cell">
<div class="text_cell_render border-box-sizing rendered_html">
<p>On adapte l'algorithme du plus long sous-mot pour détecter les séquences aussi.
Cf. le PDF page 2/3.</p>
<p>TODO meilleures explications</p>

</div>
</div>
</div>
<div class="cell border-box-sizing code_cell rendered">
<div class="input">
<div class="prompt input_prompt">In&nbsp;[23]:</div>
<div class="inner_cell">
    <div class="input_area">
<div class=" highlight hl-ipython3"><pre><span></span><span class="k">def</span> <span class="nf">utiliseTableOrigines_x</span><span class="p">(</span><span class="n">x</span><span class="p">,</span> <span class="n">origines</span><span class="p">,</span> <span class="n">i</span><span class="p">,</span> <span class="n">j</span><span class="p">,</span> <span class="n">accu</span><span class="o">=</span><span class="s1">&#39;&#39;</span><span class="p">):</span>
    <span class="sd">&quot;&quot;&quot; Renvoie la sous-séquence de x codée dans la table origines. Cf. PDF (Algorithme 2).</span>
<span class="sd">    </span>
<span class="sd">        - Calcul tail récursif (stocké dans la variable accu).</span>
<span class="sd">    &quot;&quot;&quot;</span>
    <span class="c1"># print(&quot;  utiliseTableOrigines(x = {}, origines, i = {}, j = {}, accu = {}) : origines[i, j] = {} ...&quot;.format(x, i, j, accu, origines[i, j]))  # DEBUG</span>
    <span class="k">if</span> <span class="n">i</span> <span class="o">==</span> <span class="mi">0</span> <span class="ow">or</span> <span class="n">j</span> <span class="o">==</span> <span class="mi">0</span><span class="p">:</span>
        <span class="k">return</span> <span class="n">accu</span>
    <span class="k">if</span> <span class="n">origines</span><span class="p">[</span><span class="n">i</span><span class="p">,</span> <span class="n">j</span><span class="p">]</span> <span class="o">==</span> <span class="s1">&#39;↖&#39;</span><span class="p">:</span>    <span class="c1"># Vraie correspondance, on ajoute une lettre !</span>
        <span class="k">return</span> <span class="n">utiliseTableOrigines_x</span><span class="p">(</span><span class="n">x</span><span class="p">,</span> <span class="n">origines</span><span class="p">,</span> <span class="n">i</span><span class="o">-</span><span class="mi">1</span><span class="p">,</span> <span class="n">j</span><span class="o">-</span><span class="mi">1</span><span class="p">,</span> <span class="n">x</span><span class="p">[</span><span class="n">i</span><span class="o">-</span><span class="mi">1</span><span class="p">]</span> <span class="o">+</span> <span class="n">accu</span><span class="p">)</span>
    <span class="k">elif</span> <span class="n">origines</span><span class="p">[</span><span class="n">i</span><span class="p">,</span> <span class="n">j</span><span class="p">]</span> <span class="o">==</span> <span class="s1">&#39;↑&#39;</span><span class="p">:</span>  <span class="c1"># Fausse correspondance, on continue a gauche...</span>
        <span class="k">return</span> <span class="n">utiliseTableOrigines_x</span><span class="p">(</span><span class="n">x</span><span class="p">,</span> <span class="n">origines</span><span class="p">,</span> <span class="n">i</span><span class="o">-</span><span class="mi">1</span><span class="p">,</span> <span class="n">j</span><span class="p">,</span> <span class="n">accu</span><span class="p">)</span>
    <span class="k">elif</span> <span class="n">origines</span><span class="p">[</span><span class="n">i</span><span class="p">,</span> <span class="n">j</span><span class="p">]</span> <span class="o">==</span> <span class="s1">&#39;←&#39;</span><span class="p">:</span>  <span class="c1"># Fausse correspondance, on continue en haut...</span>
        <span class="k">return</span> <span class="n">utiliseTableOrigines_x</span><span class="p">(</span><span class="n">x</span><span class="p">,</span> <span class="n">origines</span><span class="p">,</span> <span class="n">i</span><span class="p">,</span> <span class="n">j</span><span class="o">-</span><span class="mi">1</span><span class="p">,</span> <span class="n">accu</span><span class="p">)</span>
    <span class="k">else</span><span class="p">:</span>
        <span class="k">raise</span> <span class="ne">ValueError</span><span class="p">(</span><span class="s2">&quot;Erreur dans la table &#39;origines&#39;, invalide pour le mot x = </span><span class="si">{}</span><span class="s2"> ...&quot;</span><span class="o">.</span><span class="n">format</span><span class="p">(</span><span class="n">x</span><span class="p">))</span>


<span class="k">def</span> <span class="nf">utiliseTableOrigines_y</span><span class="p">(</span><span class="n">x</span><span class="p">,</span> <span class="n">origines</span><span class="p">,</span> <span class="n">i</span><span class="p">,</span> <span class="n">j</span><span class="p">,</span> <span class="n">accu</span><span class="o">=</span><span class="s1">&#39;&#39;</span><span class="p">):</span>
    <span class="sd">&quot;&quot;&quot; Renvoie la sous-séquence de y codée dans la table origines. Cf. PDF (Algorithme 2).</span>
<span class="sd">    </span>
<span class="sd">        - Calcul tail récursif (stocké dans la variable accu).</span>
<span class="sd">    &quot;&quot;&quot;</span>
    <span class="c1"># print(&quot;  utiliseTableOrigines(y = {}, origines, i = {}, j = {}, accu = {}) : origines[i, j] = {} ...&quot;.format(y, i, j, accu, origines[i, j]))  # DEBUG</span>
    <span class="k">if</span> <span class="n">i</span> <span class="o">==</span> <span class="mi">0</span> <span class="ow">or</span> <span class="n">j</span> <span class="o">==</span> <span class="mi">0</span><span class="p">:</span>
        <span class="k">return</span> <span class="n">accu</span>
    <span class="k">if</span> <span class="n">origines</span><span class="p">[</span><span class="n">i</span><span class="p">,</span> <span class="n">j</span><span class="p">]</span> <span class="o">==</span> <span class="s1">&#39;↖&#39;</span><span class="p">:</span>    <span class="c1"># Vraie correspondance, on ajoute une lettre !</span>
        <span class="k">return</span> <span class="n">utiliseTableOrigines_y</span><span class="p">(</span><span class="n">x</span><span class="p">,</span> <span class="n">origines</span><span class="p">,</span> <span class="n">i</span><span class="o">-</span><span class="mi">1</span><span class="p">,</span> <span class="n">j</span><span class="o">-</span><span class="mi">1</span><span class="p">,</span> <span class="n">y</span><span class="p">[</span><span class="n">j</span><span class="o">-</span><span class="mi">1</span><span class="p">]</span> <span class="o">+</span> <span class="n">accu</span><span class="p">)</span>
    <span class="k">elif</span> <span class="n">origines</span><span class="p">[</span><span class="n">i</span><span class="p">,</span> <span class="n">j</span><span class="p">]</span> <span class="o">==</span> <span class="s1">&#39;↑&#39;</span><span class="p">:</span>  <span class="c1"># Fausse correspondance, on continue a gauche...</span>
        <span class="k">return</span> <span class="n">utiliseTableOrigines_y</span><span class="p">(</span><span class="n">x</span><span class="p">,</span> <span class="n">origines</span><span class="p">,</span> <span class="n">i</span><span class="o">-</span><span class="mi">1</span><span class="p">,</span> <span class="n">j</span><span class="p">,</span> <span class="n">accu</span><span class="p">)</span>
    <span class="k">elif</span> <span class="n">origines</span><span class="p">[</span><span class="n">i</span><span class="p">,</span> <span class="n">j</span><span class="p">]</span> <span class="o">==</span> <span class="s1">&#39;←&#39;</span><span class="p">:</span>  <span class="c1"># Fausse correspondance, on continue en haut...</span>
        <span class="k">return</span> <span class="n">utiliseTableOrigines_y</span><span class="p">(</span><span class="n">x</span><span class="p">,</span> <span class="n">origines</span><span class="p">,</span> <span class="n">i</span><span class="p">,</span> <span class="n">j</span><span class="o">-</span><span class="mi">1</span><span class="p">,</span> <span class="n">accu</span><span class="p">)</span>
    <span class="k">else</span><span class="p">:</span>
        <span class="k">raise</span> <span class="ne">ValueError</span><span class="p">(</span><span class="s2">&quot;Erreur dans la table &#39;origines&#39;, invalide pour le mot y = </span><span class="si">{}</span><span class="s2"> ...&quot;</span><span class="o">.</span><span class="n">format</span><span class="p">(</span><span class="n">y</span><span class="p">))</span>
</pre></div>

    </div>
</div>
</div>

</div>
<div class="cell border-box-sizing text_cell rendered"><div class="prompt input_prompt">
</div><div class="inner_cell">
<div class="text_cell_render border-box-sizing rendered_html">
<p>TODO meilleures explications</p>

</div>
</div>
</div>
<div class="cell border-box-sizing code_cell rendered">
<div class="input">
<div class="prompt input_prompt">In&nbsp;[24]:</div>
<div class="inner_cell">
    <div class="input_area">
<div class=" highlight hl-ipython3"><pre><span></span><span class="k">def</span> <span class="nf">sousMotSeqGlouton</span><span class="p">(</span><span class="n">x</span><span class="p">,</span> <span class="n">y</span><span class="p">,</span> <span class="n">verb</span><span class="o">=</span><span class="kc">False</span><span class="p">,</span> <span class="n">verifie</span><span class="o">=</span><span class="kc">True</span><span class="p">):</span>
    <span class="sd">&quot;&quot;&quot; Calcule la plus longue sous-mot séquence a x et y, par programmation dynamique.</span>
<span class="sd">    </span>
<span class="sd">        - affiche un peu ce qu&#39;il se passe si verb=True,</span>
<span class="sd">        - vérifie que la sous-séquence commun est bien une bonne sous-séquence commune si verifie=True,</span>
<span class="sd">        - renvoie laSousSeq, longueurs, origines, indices_x, indices_y si verifie=False,</span>
<span class="sd">        - renvoie laSousSeq, longueurs, origines, indices_x, indices_y si verifie=True.</span>
<span class="sd">    &quot;&quot;&quot;</span>
    <span class="k">def</span> <span class="nf">message</span><span class="p">(</span><span class="o">*</span><span class="n">args</span><span class="p">):</span>
        <span class="k">if</span> <span class="n">verb</span><span class="p">:</span>
            <span class="nb">print</span><span class="p">(</span><span class="o">*</span><span class="n">args</span><span class="p">)</span> 
    <span class="c1"># 1. et 2. Initialisation et construction Matrice longueurs</span>
    <span class="n">n</span> <span class="o">=</span> <span class="nb">len</span><span class="p">(</span><span class="n">x</span><span class="p">)</span>
    <span class="n">m</span> <span class="o">=</span> <span class="nb">len</span><span class="p">(</span><span class="n">y</span><span class="p">)</span>
    <span class="n">message</span><span class="p">(</span><span class="s2">&quot;</span><span class="se">\n</span><span class="s2">1. Initialisation des look-up matrices longueurs et origines de taille (n+1, m+1) : n = </span><span class="si">{}</span><span class="s2"> m = </span><span class="si">{}</span><span class="s2"> ...&quot;</span><span class="o">.</span><span class="n">format</span><span class="p">(</span><span class="n">n</span><span class="p">,</span> <span class="n">m</span><span class="p">))</span>
    <span class="n">longueurs</span> <span class="o">=</span> <span class="n">np</span><span class="o">.</span><span class="n">zeros</span><span class="p">((</span><span class="n">n</span><span class="o">+</span><span class="mi">1</span><span class="p">,</span> <span class="n">m</span><span class="o">+</span><span class="mi">1</span><span class="p">),</span> <span class="n">dtype</span><span class="o">=</span><span class="nb">int</span><span class="p">)</span>     <span class="c1"># Matrice c du dev en PDF</span>
    <span class="n">origines</span> <span class="o">=</span> <span class="n">np</span><span class="o">.</span><span class="n">array</span><span class="p">([[</span><span class="s1">&#39; &#39;</span><span class="p">]</span> <span class="o">*</span> <span class="p">(</span><span class="n">m</span><span class="o">+</span><span class="mi">1</span><span class="p">)]</span> <span class="o">*</span> <span class="p">(</span><span class="n">n</span><span class="o">+</span><span class="mi">1</span><span class="p">),</span> <span class="n">dtype</span><span class="o">=</span><span class="nb">str</span><span class="p">)</span>  <span class="c1"># Matrice b du dev en PDF</span>
    <span class="c1"># Note : on pourrait utiliser un codage a base d&#39;entier, 0 1 2 3 pour &#39; &#39; &#39;←&#39; &#39;↑&#39; &#39;↖&#39; mais c&#39;est moins joli...</span>
    <span class="n">message</span><span class="p">(</span><span class="s2">&quot;2. Construction bottom-up des loop-up matrices longueurs et origines ...&quot;</span><span class="p">)</span>
    <span class="k">for</span> <span class="n">i</span> <span class="ow">in</span> <span class="nb">range</span><span class="p">(</span><span class="mi">1</span><span class="p">,</span> <span class="n">n</span><span class="o">+</span><span class="mi">1</span><span class="p">):</span>
        <span class="k">for</span> <span class="n">j</span> <span class="ow">in</span> <span class="nb">range</span><span class="p">(</span><span class="mi">1</span><span class="p">,</span> <span class="n">m</span><span class="o">+</span><span class="mi">1</span><span class="p">):</span>
            <span class="k">if</span> <span class="n">x</span><span class="p">[</span><span class="n">i</span><span class="o">-</span><span class="mi">1</span><span class="p">]</span> <span class="o">==</span> <span class="n">y</span><span class="p">[</span><span class="n">j</span><span class="o">-</span><span class="mi">1</span><span class="p">]:</span>
                <span class="n">longueurs</span><span class="p">[</span><span class="n">i</span><span class="p">,</span> <span class="n">j</span><span class="p">]</span> <span class="o">=</span> <span class="mi">1</span> <span class="o">+</span> <span class="n">longueurs</span><span class="p">[</span><span class="n">i</span><span class="o">-</span><span class="mi">1</span><span class="p">,</span> <span class="n">j</span><span class="o">-</span><span class="mi">1</span><span class="p">]</span>
                <span class="n">origines</span><span class="p">[</span><span class="n">i</span><span class="p">,</span> <span class="n">j</span><span class="p">]</span> <span class="o">=</span> <span class="s1">&#39;↖&#39;</span>
                <span class="n">message</span><span class="p">(</span><span class="s2">&quot;      Vraie correspondance en cours, u[</span><span class="si">{}</span><span class="s2">] = </span><span class="si">{}</span><span class="s2"> et v[</span><span class="si">{}</span><span class="s2">] = </span><span class="si">{}</span><span class="s2">, de longueur courante </span><span class="si">{}</span><span class="s2"> ...&quot;</span><span class="o">.</span><span class="n">format</span><span class="p">(</span><span class="n">i</span><span class="o">-</span><span class="mi">1</span><span class="p">,</span> <span class="n">x</span><span class="p">[</span><span class="n">i</span><span class="o">-</span><span class="mi">1</span><span class="p">],</span> <span class="n">j</span><span class="o">-</span><span class="mi">1</span><span class="p">,</span> <span class="n">y</span><span class="p">[</span><span class="n">j</span><span class="o">-</span><span class="mi">1</span><span class="p">],</span> <span class="n">longueurs</span><span class="p">[</span><span class="n">i</span><span class="p">,</span> <span class="n">j</span><span class="p">]))</span>
            <span class="k">elif</span> <span class="n">longueurs</span><span class="p">[</span><span class="n">i</span><span class="o">-</span><span class="mi">1</span><span class="p">,</span> <span class="n">j</span><span class="p">]</span> <span class="o">&gt;=</span> <span class="n">longueurs</span><span class="p">[</span><span class="n">i</span><span class="p">,</span> <span class="n">j</span><span class="o">-</span><span class="mi">1</span><span class="p">]:</span>
                <span class="n">longueurs</span><span class="p">[</span><span class="n">i</span><span class="p">,</span> <span class="n">j</span><span class="p">]</span> <span class="o">=</span> <span class="n">longueurs</span><span class="p">[</span><span class="n">i</span><span class="o">-</span><span class="mi">1</span><span class="p">,</span> <span class="n">j</span><span class="p">]</span>
                <span class="n">origines</span><span class="p">[</span><span class="n">i</span><span class="p">,</span> <span class="n">j</span><span class="p">]</span> <span class="o">=</span> <span class="s1">&#39;↑&#39;</span>
                <span class="n">message</span><span class="p">(</span><span class="s2">&quot;      Correspondance gauche (u) en cours, u[</span><span class="si">{}</span><span class="s2">] = </span><span class="si">{}</span><span class="s2"> et v[</span><span class="si">{}</span><span class="s2">] = </span><span class="si">{}</span><span class="s2">, de pseudo-longueur courante </span><span class="si">{}</span><span class="s2"> ...&quot;</span><span class="o">.</span><span class="n">format</span><span class="p">(</span><span class="n">i</span><span class="o">-</span><span class="mi">1</span><span class="p">,</span> <span class="n">x</span><span class="p">[</span><span class="n">i</span><span class="o">-</span><span class="mi">1</span><span class="p">],</span> <span class="n">j</span><span class="o">-</span><span class="mi">1</span><span class="p">,</span> <span class="n">y</span><span class="p">[</span><span class="n">j</span><span class="o">-</span><span class="mi">1</span><span class="p">],</span> <span class="n">longueurs</span><span class="p">[</span><span class="n">i</span><span class="p">,</span> <span class="n">j</span><span class="p">]))</span>
            <span class="k">else</span><span class="p">:</span>
                <span class="n">longueurs</span><span class="p">[</span><span class="n">i</span><span class="p">,</span> <span class="n">j</span><span class="p">]</span> <span class="o">=</span> <span class="n">longueurs</span><span class="p">[</span><span class="n">i</span><span class="p">,</span> <span class="n">j</span><span class="o">-</span><span class="mi">1</span><span class="p">]</span>
                <span class="n">origines</span><span class="p">[</span><span class="n">i</span><span class="p">,</span> <span class="n">j</span><span class="p">]</span> <span class="o">=</span> <span class="s1">&#39;←&#39;</span>
                <span class="n">message</span><span class="p">(</span><span class="s2">&quot;      Correspondance haute (v) en cours, u[</span><span class="si">{}</span><span class="s2">] = </span><span class="si">{}</span><span class="s2"> et v[</span><span class="si">{}</span><span class="s2">] = </span><span class="si">{}</span><span class="s2">, de pseudo-longueur courante </span><span class="si">{}</span><span class="s2"> ...&quot;</span><span class="o">.</span><span class="n">format</span><span class="p">(</span><span class="n">i</span><span class="o">-</span><span class="mi">1</span><span class="p">,</span> <span class="n">x</span><span class="p">[</span><span class="n">i</span><span class="o">-</span><span class="mi">1</span><span class="p">],</span> <span class="n">j</span><span class="o">-</span><span class="mi">1</span><span class="p">,</span> <span class="n">y</span><span class="p">[</span><span class="n">j</span><span class="o">-</span><span class="mi">1</span><span class="p">],</span> <span class="n">longueurs</span><span class="p">[</span><span class="n">i</span><span class="p">,</span> <span class="n">j</span><span class="p">]))</span>

    <span class="c1"># 3. Utilisation de la matrice longueurs</span>
    <span class="n">laSousSeq</span> <span class="o">=</span> <span class="n">utiliseTableOrigines_x</span><span class="p">(</span><span class="n">x</span><span class="p">,</span> <span class="n">origines</span><span class="p">,</span> <span class="n">n</span><span class="p">,</span> <span class="n">m</span><span class="p">,</span> <span class="n">accu</span><span class="o">=</span><span class="s1">&#39;&#39;</span><span class="p">)</span>

    <span class="c1"># 4. Vérification</span>
    <span class="k">if</span> <span class="n">verifie</span><span class="p">:</span>
        <span class="n">res_x</span><span class="p">,</span> <span class="n">indices_x</span> <span class="o">=</span> <span class="n">estSousSeq</span><span class="p">(</span><span class="n">laSousSeq</span><span class="p">,</span> <span class="n">x</span><span class="p">,</span> <span class="n">indices</span><span class="o">=</span><span class="kc">True</span><span class="p">)</span>
        <span class="k">if</span> <span class="ow">not</span> <span class="n">res_x</span><span class="p">:</span>
            <span class="k">raise</span> <span class="ne">ValueError</span><span class="p">(</span><span class="s2">&quot;Erreur: La séquence </span><span class="si">{}</span><span class="s2"> de x (aux indices </span><span class="si">{}</span><span class="s2">) n&#39;est pas une bonne sous-séquence de x = </span><span class="si">{}</span><span class="s2">.&quot;</span><span class="o">.</span><span class="n">format</span><span class="p">(</span><span class="n">laSousSeq</span><span class="p">,</span> <span class="n">indices_x</span><span class="p">,</span> <span class="n">x</span><span class="p">))</span>
        
        <span class="n">laSousSeq_y</span> <span class="o">=</span> <span class="n">utiliseTableOrigines_y</span><span class="p">(</span><span class="n">y</span><span class="p">,</span> <span class="n">origines</span><span class="p">,</span> <span class="n">n</span><span class="p">,</span> <span class="n">m</span><span class="p">,</span> <span class="n">accu</span><span class="o">=</span><span class="s1">&#39;&#39;</span><span class="p">)</span>
        <span class="k">if</span> <span class="n">laSousSeq</span> <span class="o">!=</span> <span class="n">laSousSeq_y</span><span class="p">:</span>
            <span class="k">raise</span> <span class="ne">ValueError</span><span class="p">(</span><span class="s2">&quot;Erreur: La sous-séquence </span><span class="si">{}</span><span class="s2"> de x est différente de celle de y : </span><span class="si">{}</span><span class="s2"> ...&quot;</span><span class="o">.</span><span class="n">format</span><span class="p">(</span><span class="n">laSousSeq</span><span class="p">,</span> <span class="n">laSousSeq_y</span><span class="p">))</span>

        <span class="n">res_y</span><span class="p">,</span> <span class="n">indices_y</span> <span class="o">=</span> <span class="n">estSousSeq</span><span class="p">(</span><span class="n">laSousSeq</span><span class="p">,</span> <span class="n">y</span><span class="p">,</span> <span class="n">indices</span><span class="o">=</span><span class="kc">True</span><span class="p">)</span>
        <span class="k">if</span> <span class="ow">not</span> <span class="n">res_y</span><span class="p">:</span>
            <span class="k">raise</span> <span class="ne">ValueError</span><span class="p">(</span><span class="s2">&quot;Erreur: La séquence </span><span class="si">{}</span><span class="s2"> de y (aux indices </span><span class="si">{}</span><span class="s2">) n&#39;est pas une bonne sous-séquence de y = </span><span class="si">{}</span><span class="s2">.&quot;</span><span class="o">.</span><span class="n">format</span><span class="p">(</span><span class="n">laSousSeq</span><span class="p">,</span> <span class="n">indices_y</span><span class="p">,</span> <span class="n">y</span><span class="p">))</span>
        
        <span class="c1"># Fini !</span>
        <span class="k">return</span> <span class="n">laSousSeq</span><span class="p">,</span> <span class="n">longueurs</span><span class="p">,</span> <span class="n">origines</span><span class="p">,</span> <span class="n">indices_x</span><span class="p">,</span> <span class="n">indices_y</span>
    <span class="k">else</span><span class="p">:</span>
        <span class="k">return</span> <span class="n">laSousSeq</span><span class="p">,</span> <span class="n">longueurs</span><span class="p">,</span> <span class="n">origines</span>
</pre></div>

    </div>
</div>
</div>

</div>
<div class="cell border-box-sizing text_cell rendered"><div class="prompt input_prompt">
</div><div class="inner_cell">
<div class="text_cell_render border-box-sizing rendered_html">
<hr>

</div>
</div>
</div>
<div class="cell border-box-sizing text_cell rendered"><div class="prompt input_prompt">
</div><div class="inner_cell">
<div class="text_cell_render border-box-sizing rendered_html">
<h3 id="5.2.1-Exemple,-venant-du-d&#233;veloppement">5.2.1 Exemple, venant du d&#233;veloppement<a class="anchor-link" href="#5.2.1-Exemple,-venant-du-d&#233;veloppement">&#182;</a></h3>
</div>
</div>
</div>
<div class="cell border-box-sizing text_cell rendered"><div class="prompt input_prompt">
</div><div class="inner_cell">
<div class="text_cell_render border-box-sizing rendered_html">
<p>Blabla</p>

</div>
</div>
</div>
<div class="cell border-box-sizing code_cell rendered">
<div class="input">
<div class="prompt input_prompt">In&nbsp;[25]:</div>
<div class="inner_cell">
    <div class="input_area">
<div class=" highlight hl-ipython3"><pre><span></span><span class="n">x</span> <span class="o">=</span> <span class="s2">&quot;ABCBDAB&quot;</span>
<span class="n">y</span> <span class="o">=</span> <span class="s2">&quot;BDCABA&quot;</span>
<span class="n">laSousSeq</span><span class="p">,</span> <span class="n">longueurs</span><span class="p">,</span> <span class="n">origines</span><span class="p">,</span> <span class="n">indices_x</span><span class="p">,</span> <span class="n">indices_y</span> <span class="o">=</span> <span class="n">sousMotSeqGlouton</span><span class="p">(</span><span class="n">x</span><span class="p">,</span> <span class="n">y</span><span class="p">,</span> <span class="n">verifie</span><span class="o">=</span><span class="kc">True</span><span class="p">)</span>
<span class="nb">print</span><span class="p">(</span><span class="s2">&quot;Sous-seq de taille&quot;</span><span class="p">,</span> <span class="nb">len</span><span class="p">(</span><span class="n">laSousSeq</span><span class="p">),</span> <span class="s2">&quot;valant&quot;</span><span class="p">,</span> <span class="n">laSousSeq</span><span class="p">,</span> <span class="s2">&quot;...&quot;</span><span class="p">)</span>
<span class="nb">print</span><span class="p">(</span><span class="s2">&quot;   - aux indices&quot;</span><span class="p">,</span> <span class="n">indices_x</span><span class="p">,</span> <span class="s2">&quot;pour x =&quot;</span><span class="p">,</span> <span class="n">x</span><span class="p">,</span> <span class="s2">&quot;...&quot;</span><span class="p">)</span>
<span class="nb">print</span><span class="p">(</span><span class="s2">&quot;   - aux indices&quot;</span><span class="p">,</span> <span class="n">indices_y</span><span class="p">,</span> <span class="s2">&quot;pour y =&quot;</span><span class="p">,</span> <span class="n">y</span><span class="p">,</span> <span class="s2">&quot;...&quot;</span><span class="p">)</span>
<span class="nb">print</span><span class="p">(</span><span class="s2">&quot;Et la table longueurs vaut :</span><span class="se">\n</span><span class="s2">&quot;</span><span class="p">,</span> <span class="n">longueurs</span><span class="p">,</span> <span class="s2">&quot;...&quot;</span><span class="p">)</span>
<span class="nb">print</span><span class="p">(</span><span class="s2">&quot;Et la table origines vaut :</span><span class="se">\n</span><span class="s2">&quot;</span><span class="p">,</span> <span class="n">origines</span><span class="p">,</span> <span class="s2">&quot;...&quot;</span><span class="p">)</span>
</pre></div>

    </div>
</div>
</div>

<div class="output_wrapper">
<div class="output">


<div class="output_area">

    <div class="prompt"></div>


<div class="output_subarea output_stream output_stdout output_text">
<pre>Sous-seq de taille 4 valant BCBA ...
   - aux indices [1, 2, 3, 5] pour x = ABCBDAB ...
   - aux indices [0, 2, 4, 5] pour y = BDCABA ...
Et la table longueurs vaut :
 [[0 0 0 0 0 0 0]
 [0 0 0 0 1 1 1]
 [0 1 1 1 1 2 2]
 [0 1 1 2 2 2 2]
 [0 1 1 2 2 3 3]
 [0 1 2 2 2 3 3]
 [0 1 2 2 3 3 4]
 [0 1 2 2 3 4 4]] ...
Et la table origines vaut :
 [[&#39; &#39; &#39; &#39; &#39; &#39; &#39; &#39; &#39; &#39; &#39; &#39; &#39; &#39;]
 [&#39; &#39; &#39;↑&#39; &#39;↑&#39; &#39;↑&#39; &#39;↖&#39; &#39;←&#39; &#39;↖&#39;]
 [&#39; &#39; &#39;↖&#39; &#39;←&#39; &#39;←&#39; &#39;↑&#39; &#39;↖&#39; &#39;←&#39;]
 [&#39; &#39; &#39;↑&#39; &#39;↑&#39; &#39;↖&#39; &#39;←&#39; &#39;↑&#39; &#39;↑&#39;]
 [&#39; &#39; &#39;↖&#39; &#39;↑&#39; &#39;↑&#39; &#39;↑&#39; &#39;↖&#39; &#39;←&#39;]
 [&#39; &#39; &#39;↑&#39; &#39;↖&#39; &#39;↑&#39; &#39;↑&#39; &#39;↑&#39; &#39;↑&#39;]
 [&#39; &#39; &#39;↑&#39; &#39;↑&#39; &#39;↑&#39; &#39;↖&#39; &#39;↑&#39; &#39;↖&#39;]
 [&#39; &#39; &#39;↖&#39; &#39;↑&#39; &#39;↑&#39; &#39;↑&#39; &#39;↖&#39; &#39;↑&#39;]] ...
</pre>
</div>
</div>

</div>
</div>

</div>
<div class="cell border-box-sizing text_cell rendered"><div class="prompt input_prompt">
</div><div class="inner_cell">
<div class="text_cell_render border-box-sizing rendered_html">
<h3 id="5.2.2-Autres-exemples">5.2.2 Autres exemples<a class="anchor-link" href="#5.2.2-Autres-exemples">&#182;</a></h3>
</div>
</div>
</div>
<div class="cell border-box-sizing text_cell rendered"><div class="prompt input_prompt">
</div><div class="inner_cell">
<div class="text_cell_render border-box-sizing rendered_html">
<p>TODO</p>

</div>
</div>
</div>
<div class="cell border-box-sizing text_cell rendered"><div class="prompt input_prompt">
</div><div class="inner_cell">
<div class="text_cell_render border-box-sizing rendered_html">
<hr>
<blockquote><p><em>C'est tout pour aujourd'hui les amis !</em>
<a href="https://github.com/Naereen/notebooks/tree/master/agreg">Allez voir d'autres notebooks</a> si vous voulez.</p>
</blockquote>

</div>
</div>
</div>
 


    </div>
  </div>

  </div>


  
    <footer class="footer hidden-print">
      <div class="container">
        <div class="col-md-4">
          <p>
            This website does not host notebooks, it only renders notebooks
            available on other websites.
          </p>
        </div>

        <div class="col-md-4">
          <p>
            Delivered by <a href="https://www.fastly.com/">Fastly</a>,
            Rendered by <a href="https://developer.rackspace.com/?nbviewer=awesome">Rackspace</a>
          </p>
          <p>
            nbviewer GitHub <a href="https://github.com/jupyter/nbviewer">repository</a>.
          </p>
        </div>

        <div class="col-md-4">
          
  
            
              <p>
                nbviewer version:
                <a href="https://github.com/jupyter/nbviewer/commit/07b0e305b3254e2280b29f20ceb96c058db2f775">
                  07b0e30
                </a>
              </p>
            
          
  
  <p>
    nbconvert version: <a href="https://github.com/jupyter/nbconvert/releases/tag/5.6.0">
      5.6.0
    </a>
  </p>
  

          
  
  
  <p>
    Rendered
    <span class='date' data-date='Mon, 27 Jan 2020 13:31:05 UTC' title='Mon, 27 Jan 2020 13:31:05 UTC'>(Mon, 27 Jan 2020 13:31:05 UTC)</span>
  </p>
  

        </div>
      </div>
    </footer>
  

  <script src="/static/components/bootstrap/js/bootstrap.min.js?v=5869c96cc8f19086aee625d670d741f9"></script>
  <script src="/static/components/headroom.js/dist/headroom.min.js?v=b0a311ea668f8e768ea375f4a7abb81c"></script>
  <script src="/static/components/headroom.js/dist/jQuery.headroom.min.js?v=f3a1bae118315d0c234afc74dc6aab71"></script>

  
  
  <script>
    $(function(){ $("#menubar").headroom({
      tolerance: 5,
      offset: 205,
      classes: {
        initial: "animated",
        pinned: "slideInDown",
        unpinned: "slideOutUp"
      }
    })});
  </script>


  
  <script>
    (function(i,s,o,g,r,a,m){i['GoogleAnalyticsObject']=r;i[r]=i[r]||function(){
      (i[r].q=i[r].q||[]).push(arguments)},i[r].l=1*new Date();a=s.createElement(o),
      m=s.getElementsByTagName(o)[0];a.async=1;a.src=g;m.parentNode.insertBefore(a,m)
    })(window,document,'script','https://www.google-analytics.com/analytics.js','ga');
    ga('create', 'UA-52617120-5', 'auto',
       {'storage': 'none'});
    ga('set', 'anonymizeIp', true);
    ga('send', 'pageview');
  </script>
  
  <script>
    require({
        paths: {
          moment: "/static/components/moment/min/moment.min.js?v=89f87298ad94aa1e6b92f42eb66da043"
        }
      }, ["moment"], function(moment){
      var date = $("footer .date"),
        m = moment(new Date(date.data('date'))),
        update = function(){ date.text(m.fromNow()); };
      setInterval(update, 61*1000);
      update();
      var w = $(window).scroll(function(event){
        $("body").toggleClass("scrolled", w.scrollTop() > 0);
      });
    });
  </script>

  <!--NEW RELIC Stop Perf Measurement-->
  
  <!--NEW RELIC End-->
</body>
</html>