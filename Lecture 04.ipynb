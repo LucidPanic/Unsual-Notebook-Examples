{
 "cells": [
  {
   "cell_type": "markdown",
   "metadata": {},
   "source": [
    "# Lecture 04\n",
    "\n",
    "### Olver and Shakiban 1.3 continued"
   ]
  },
  {
   "cell_type": "markdown",
   "metadata": {},
   "source": [
    "## Code from Poll Everywhere"
   ]
  },
  {
   "cell_type": "code",
   "execution_count": 2,
   "metadata": {},
   "outputs": [
    {
     "name": "stderr",
     "output_type": "stream",
     "text": [
      "\u001b[0;31mError: Invalid expression. When calling a function or indexing a variable, use parentheses. Otherwise, check for mismatched delimiters.\n",
      "\n",
      "\u001b[0m"
     ]
    }
   ],
   "source": [
    "x = randn(1,10)\n",
    "x[1]"
   ]
  },
  {
   "cell_type": "code",
   "execution_count": 3,
   "metadata": {},
   "outputs": [
    {
     "name": "stdout",
     "output_type": "stream",
     "text": [
      "\n",
      "x =\n",
      "\n",
      "  Columns 1 through 7\n",
      "\n",
      "    0.5377    1.8339   -2.2588    0.8622    0.3188   -1.3077   -0.4336\n",
      "\n",
      "  Columns 8 through 10\n",
      "\n",
      "    0.3426    3.5784    2.7694\n",
      "\n",
      "\n",
      "ans =\n",
      "\n",
      "  logical\n",
      "\n",
      "   0\n",
      "\n",
      "\n",
      "ans =\n",
      "\n",
      "  logical\n",
      "\n",
      "   1\n",
      "\n",
      "\n",
      "ans =\n",
      "\n",
      "  logical\n",
      "\n",
      "   1\n",
      "\n",
      "\n",
      "ans =\n",
      "\n",
      "  logical\n",
      "\n",
      "   1\n",
      "\n",
      "\n",
      "ans =\n",
      "\n",
      "  logical\n",
      "\n",
      "   1\n",
      "\n",
      "\n",
      "ans =\n",
      "\n",
      "  logical\n",
      "\n",
      "   1\n",
      "\n",
      "\n",
      "ans =\n",
      "\n",
      "  logical\n",
      "\n",
      "   1\n",
      "\n",
      "\n",
      "ans =\n",
      "\n",
      "  logical\n",
      "\n",
      "   1\n",
      "\n",
      "\n",
      "ans =\n",
      "\n",
      "  logical\n",
      "\n",
      "   1\n",
      "\n",
      "\n",
      "ans =\n",
      "\n",
      "  logical\n",
      "\n",
      "   1\n",
      "\n"
     ]
    }
   ],
   "source": [
    "x = randn(1,10)\n",
    "SUM = 0;\n",
    "for i = 1:length(x)\n",
    "    if x[i] > 1.\n",
    "        SUM = SUM + 1;\n",
    "    end\n",
    "end    "
   ]
  },
  {
   "cell_type": "code",
   "execution_count": 5,
   "metadata": {},
   "outputs": [
    {
     "name": "stdout",
     "output_type": "stream",
     "text": [
      "\n",
      "x =\n",
      "\n",
      "  Columns 1 through 7\n",
      "\n",
      "    0.6715   -1.2075    0.7172    1.6302    0.4889    1.0347    0.7269\n",
      "\n",
      "  Columns 8 through 10\n",
      "\n",
      "   -0.3034    0.2939   -0.7873\n",
      "\n",
      "\n",
      "SUM =\n",
      "\n",
      "     2\n",
      "\n"
     ]
    }
   ],
   "source": [
    "x = randn(1,10)\n",
    "SUM = 0;\n",
    "for i = 1:length(x)\n",
    "    if x(i) > 1.\n",
    "        SUM = SUM + 1;\n",
    "    end\n",
    "end\n",
    "SUM"
   ]
  },
  {
   "cell_type": "code",
   "execution_count": 6,
   "metadata": {},
   "outputs": [
    {
     "name": "stdout",
     "output_type": "stream",
     "text": [
      "\n",
      "x =\n",
      "\n",
      "  Columns 1 through 7\n",
      "\n",
      "    0.8884   -1.1471   -1.0689   -0.8095   -2.9443    1.4384    0.3252\n",
      "\n",
      "  Columns 8 through 10\n",
      "\n",
      "   -0.7549    1.3703   -1.7115\n",
      "\n",
      "\n",
      "p =\n",
      "\n",
      "    2.9443\n",
      "\n"
     ]
    }
   ],
   "source": [
    "x = randn(1,10)\n",
    "p = 0;\n",
    "for i = 1:length(x)\n",
    "    if abs(x(i)) > p\n",
    "        p = abs(x(i));\n",
    "    end\n",
    "end\n",
    "p"
   ]
  },
  {
   "cell_type": "code",
   "execution_count": 7,
   "metadata": {},
   "outputs": [
    {
     "name": "stdout",
     "output_type": "stream",
     "text": [
      "\n",
      "x =\n",
      "\n",
      "  Columns 1 through 7\n",
      "\n",
      "   -0.1022   -0.2414    0.3192    0.3129   -0.8649   -0.0301   -0.1649\n",
      "\n",
      "  Columns 8 through 10\n",
      "\n",
      "    0.6277    1.0933    1.1093\n",
      "\n",
      "\n",
      "j =\n",
      "\n",
      "    10\n",
      "\n",
      "\n",
      "ans =\n",
      "\n",
      "    1.1093\n",
      "\n"
     ]
    }
   ],
   "source": [
    "x = randn(1,10)\n",
    "j = 1;\n",
    "for i = 2:length(x)\n",
    "    if abs(x(i)) > abs(x(j))\n",
    "        j = i;\n",
    "    end\n",
    "end\n",
    "j\n",
    "x(j)"
   ]
  },
  {
   "cell_type": "code",
   "execution_count": null,
   "metadata": {},
   "outputs": [],
   "source": []
  }
 ],
 "metadata": {
  "kernelspec": {
   "display_name": "Matlab",
   "language": "matlab",
   "name": "matlab"
  },
  "language_info": {
   "codemirror_mode": "octave",
   "file_extension": ".m",
   "help_links": [
    {
     "text": "MetaKernel Magics",
     "url": "https://metakernel.readthedocs.io/en/latest/source/README.html"
    }
   ],
   "mimetype": "text/x-octave",
   "name": "matlab",
   "version": "0.16.7"
  }
 },
 "nbformat": 4,
 "nbformat_minor": 2
}
