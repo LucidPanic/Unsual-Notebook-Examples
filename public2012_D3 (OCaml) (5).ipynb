








<!DOCTYPE html>
<html lang="en">

<head>
  <meta charset="utf-8">
  <title>Jupyter Notebook Viewer</title>
  <meta name="viewport" content="width=device-width, initial-scale=1.0">
  <meta name="description" content="">
  <meta name="author" content="">
  
  <meta name="robots" content="noindex,nofollow">
  

  <!--NEW RELIC Start Perf Measurement-->
  
  <!--NREND-->

  <!-- Le styles -->
  <link href="/static/build/styles.css?v=7fe30404aaeedb40bf592c91e1d25a26" rel="stylesheet">

  <!-- Le HTML5 shim, for IE6-8 support of HTML5 elements -->
  <!--[if lt IE 9]>
    <script src="http://html5shim.googlecode.com/svn/trunk/html5.js"></script>
  <![endif]-->

  <!-- Le fav and touch icons -->
  <link rel="shortcut icon" href="/static/ico/ipynb_icon_16x16.png">
  <link rel="apple-touch-icon-precomposed" sizes="144x144"
        href="/static/ico/apple-touch-icon-144-precomposed.png?v=5a3c9ede93e2a8b8ea9e3f8f3da1a905">
  <link rel="apple-touch-icon-precomposed" sizes="114x114"
        href="/static/ico/apple-touch-icon-114-precomposed.png?v=45d86fc8f24dc00638035e1dd7a6d898">
  <link rel="apple-touch-icon-precomposed" sizes="72x72"
        href="/static/ico/apple-touch-icon-72-precomposed.png?v=540b5eb0f3cfd25f1439d1c9bd30e15f">
  <link rel="apple-touch-icon-precomposed"
        href="/static/ico/apple-touch-icon-57-precomposed.png?v=225f0590e187e1458625654f10a28f56">
  
  

  

  
  <meta name="twitter:card" content="summary">
  <meta name="twitter:title" content="Notebook on nbviewer">
  <meta name="twitter:description" content="Check out this Jupyter notebook!">

  
  <meta name="twitter:domain" content="nbviewer.jupyter.org">
  <meta name="twitter:image:src" content="http://ipython.org/ipython-doc/dev/_images/ipynb_icon_128x128.png">

  
    <link href="/static/build/notebook.css?v=b71b4a780ae775fd48f0eead7512c5dd" rel="stylesheet">
  

  

  
    <script src="https://cdnjs.cloudflare.com/ajax/libs/mathjax/2.7.1/MathJax.js?config=TeX-AMS_HTML" type="text/javascript">
    </script>
    <script type="text/javascript">
      init_mathjax = function() {
        if (window.MathJax) {
          // MathJax loaded
          MathJax.Hub.Config({
            TeX: {
              equationNumbers: {
                autoNumber: "AMS",
                useLabelIds: true
              }
            },
            tex2jax: {
              inlineMath: [ ['$','$'], ["\\(","\\)"] ],
              displayMath: [ ['$$','$$'], ["\\[","\\]"] ],
              processEscapes: true,
              processEnvironments: true
            },
            displayAlign: 'center',
            "HTML-CSS": {
              styles: {'.MathJax_Display': {"margin": 0}},
              linebreaks: { automatic: true }
            }
          });
          MathJax.Hub.Queue(["Typeset", MathJax.Hub]);
        }
      }
      init_mathjax();
    </script>
  

  
    <script>
      (function() {
        function addWidgetsRenderer() {
          var mimeElement = document.querySelector('script[type="application/vnd.jupyter.widget-view+json"]');
          var scriptElement = document.createElement('script');
          var widgetRendererSrc = 'https://unpkg.com/@jupyter-widgets/html-manager@0.15/dist/embed-amd.js';
          var widgetState;

          try {
            widgetState = mimeElement && JSON.parse(mimeElement.innerHTML);

            if (widgetState && (widgetState.version_major < 2 || !widgetState.version_major)) {
              widgetRendererSrc = 'https://unpkg.com/jupyter-js-widgets@2.1/dist/embed.js';
            }
          } catch(e) {}

          scriptElement.src = widgetRendererSrc;
          document.body.appendChild(scriptElement);
        }

        document.addEventListener('DOMContentLoaded', addWidgetsRenderer);
      }());
    </script>
  

</head>

<body class="nbviewer">

  <!-- These are loaded at the top of the body so they are available to
       notebook cells when they are loaded below. -->
  <script src="/static/components/jquery/dist/jquery.min.js?v=220afd743d9e9643852e31a135a9f3ae"></script>
  <script src="/static/components/requirejs/require.js?v=6da8be361b9ee26c5e721e76c6d4afce"></script>
  <script src="/static/components/moment/min/moment.min.js?v=89f87298ad94aa1e6b92f42eb66da043"></script>
<!-- Navbar
================================================== -->
  <nav id="menubar" class="navbar navbar-default navbar-fixed-top" data-spy="affix">
    <div class="container">
      <div class="navbar-header">
        <button type="button" class="navbar-toggle collapsed" data-toggle="collapse" data-target=".navbar-collapse">
          <span class="sr-only">Toggle navigation</span>
          <i class="fa fa-bars"></i>
        </button>
        <a class="navbar-brand" href="/">
          <img src="/static/img/nav_logo.svg?v=479cefe8d932fb14a67b93911b97d70f" width="159"/>
        </a>
      </div>

      <div class="collapse navbar-collapse">
        <ul class="nav navbar-nav navbar-right">
          <li>
            <a class="active" href="https://jupyter.org">JUPYTER</a>
          </li>
          <li>
    <a href="/faq" title="FAQ" >
      
        <span>FAQ</span>
      
    </a>
  </li>

          
  
    
  
    
      
        <li>
    <a href="script/github/Naereen/notebooks/blob/master/agreg/public2012_D3%20%28OCaml%29.ipynb" title="View as Code" >
      <span class="fa fa-code fa-2x menu-icon"></span>
      <span class="menu-text">View as Code</span>
    </a>
  </li>
      
    
  

  
    <li>
    <a href="#" title="OCaml Kernel" >
      <span class="fa fa-server fa-2x menu-icon"></span>
      <span class="menu-text">OCaml Kernel</span>
    </a>
  </li>
  

  
    <li>
    <a href="https://github.com/Naereen/notebooks/blob/master/agreg/public2012_D3%20%28OCaml%29.ipynb" title="View on GitHub" >
      <span class="fa fa-github fa-2x menu-icon"></span>
      <span class="menu-text">View on GitHub</span>
    </a>
  </li>
  

  
    <li>
    <a href="https://mybinder.org/v2/gh/Naereen/notebooks/master?filepath=agreg/public2012_D3%20%28OCaml%29.ipynb" title="Execute on Binder" >
      <span class="fa fa-icon-binder fa-2x menu-icon"></span>
      <span class="menu-text">Execute on Binder</span>
    </a>
  </li>
  

  <li>
    <a href="https://raw.githubusercontent.com/Naereen/notebooks/master/agreg/public2012_D3%20%28OCaml%29.ipynb" title="Download Notebook" download>
      <span class="fa fa-download fa-2x menu-icon"></span>
      <span class="menu-text">Download Notebook</span>
    </a>
  </li>

        </ul>
      </div><!-- /.navbar-collapse -->
      
      
    </div>
  </nav>

  <div class="container container-main">
    
  
  <ol class="breadcrumb">
    
      <li>
        <a href="/github/Naereen/notebooks/tree/master">notebooks</a>
      </li>
    
      <li>
        <a href="/github/Naereen/notebooks/tree/master/agreg">agreg</a>
      </li>
    
  </ol>
  
  <div id="notebook">
    <div id="notebook-container">
      <div class="cell border-box-sizing text_cell rendered"><div class="prompt input_prompt">
</div><div class="inner_cell">
<div class="text_cell_render border-box-sizing rendered_html">
<h1 id="Table-des-Mati&#232;res">Table des Mati&#232;res<a class="anchor-link" href="#Table-des-Mati&#232;res">&#182;</a></h1><ul>
<li><a href="#1.-Agrégation-externe-de-mathématiques,-texte-d’exercice-diffusé-en-2012">1. Agrégation externe de mathématiques, texte d’exercice diffusé en 2012</a><ul>
<li><a href="#1.1-Épreuve-de-modélisation,-option-informatique">1.1 Épreuve de modélisation, option informatique</a></li>
<li><a href="#1.2-*Proposition*-d&#39;implémentation,-en-[OCaml]%28https://ocaml.org/%29">1.2 <em>Proposition</em> d'implémentation, en <a href="https://ocaml.org/">OCaml</a></a><ul>
<li><a href="#1.2.1-Pour-[l&#39;option-informatique-%28D%29]%28http://www.dit.ens-rennes.fr/agregation-option-d/programme-de-l-option-informatique-de-l-agregation-de-mathematiques-48358.kjsp%29-de-l&#39;[agrégation-de-mathématiques]%28http://agreg.org/%29-%28en-France%29.">1.2.1 Pour <a href="http://www.dit.ens-rennes.fr/agregation-option-d/programme-de-l-option-informatique-de-l-agregation-de-mathematiques-48358.kjsp">l'option informatique (D)</a> de l'<a href="http://agreg.org/">agrégation de mathématiques</a> (en France).</a></li>
</ul>
</li>
<li><a href="#1.3-Jeux-de-Nim">1.3 Jeux de Nim</a><ul>
<li><a href="#1.3.1-Représentation-des-configurations">1.3.1 Représentation des configurations</a></li>
<li><a href="#1.3.2-Fonction-de-Sprague-Grundy-pour-le-jeu-de-Nim">1.3.2 Fonction de Sprague-Grundy pour le jeu de Nim</a></li>
<li><a href="#1.3.3-Déterminer-un-coup-à-jouer-selon-une-stratégie-gagnante-%28s&#39;il-y-en-a-une%29">1.3.3 Déterminer un coup à jouer selon une stratégie gagnante (s'il y en a une)</a><ul>
<li><a href="#1.3.3.1-Stratégie-optimale">1.3.3.1 Stratégie optimale</a></li>
</ul>
</li>
<li><a href="#1.3.4-Stratégie-stupide">1.3.4 Stratégie stupide</a></li>
</ul>
</li>
<li><a href="#1.4-Deux-exemples,-manuellement">1.4 Deux exemples, manuellement</a><ul>
<li><a href="#1.4.1-Premier-exemple">1.4.1 Premier exemple</a></li>
<li><a href="#1.4.2-Second-exemple">1.4.2 Second exemple</a></li>
</ul>
</li>
<li><a href="#1.5-Un-bonus-:-*simulation-du-jeu*">1.5 Un bonus : <em>simulation du jeu</em></a><ul>
<li><a href="#1.5.1-Simulation-de-plusieurs-étapes">1.5.1 Simulation de plusieurs étapes</a></li>
<li><a href="#1.5.2-Exemple-:">1.5.2 Exemple :</a></li>
<li><a href="#1.5.3-Configuration-aléatoire">1.5.3 Configuration aléatoire</a><ul>
<li><a href="#Le-joueur-*optimal*-gagne-souvent...">Le joueur <em>optimal</em> gagne souvent...</a></li>
<li><a href="#Le-joueur-*stupide*-peut-quand-même-gagner-?">Le joueur <em>stupide</em> peut quand-même gagner ?</a></li>
</ul>
</li>
</ul>
</li>
<li><a href="#1.5-Conclusion">1.5 Conclusion</a></li>
<li><a href="#1.6-Attention-:">1.6 Attention</a></li>
</ul>
</li>
</ul>

</div>
</div>
</div>
<div class="cell border-box-sizing text_cell rendered"><div class="prompt input_prompt">
</div><div class="inner_cell">
<div class="text_cell_render border-box-sizing rendered_html">
<h1 id="1.-Agr&#233;gation-externe-de-math&#233;matiques,-texte-d&#8217;exercice-diffus&#233;-en-2012">1. Agr&#233;gation externe de math&#233;matiques, texte d&#8217;exercice diffus&#233; en 2012<a class="anchor-link" href="#1.-Agr&#233;gation-externe-de-math&#233;matiques,-texte-d&#8217;exercice-diffus&#233;-en-2012">&#182;</a></h1>
</div>
</div>
</div>
<div class="cell border-box-sizing text_cell rendered"><div class="prompt input_prompt">
</div><div class="inner_cell">
<div class="text_cell_render border-box-sizing rendered_html">
<h2 id="1.1-&#201;preuve-de-mod&#233;lisation,-option-informatique">1.1 &#201;preuve de mod&#233;lisation, option informatique<a class="anchor-link" href="#1.1-&#201;preuve-de-mod&#233;lisation,-option-informatique">&#182;</a></h2>
</div>
</div>
</div>
<div class="cell border-box-sizing text_cell rendered"><div class="prompt input_prompt">
</div><div class="inner_cell">
<div class="text_cell_render border-box-sizing rendered_html">
<blockquote><ul>
<li>Ce <a href="https://jupyter.org/">notebook Jupyter</a>, utilisant <a href="https://ocaml.org/">OCaml</a> (via le <a href="https://github.com/andrewray/iocaml/#installation">kernel IOcaml</a>), est une correction <a href="https://github.com/Naereen/notebooks/tree/master/agreg">non officielle</a> d'un texte de modélisation pour l'option informatique de l'agrégation externe de mathématiques.</li>
<li>Il s'agit du texte <a href="http://agreg.org/Textes/public2012-D3.pdf">public2012-D3</a>.</li>
<li>Cette tentative de correction partielle a été rédigée par <a href="http://perso.crans.org/besson/">Lilian Besson</a> (<a href="https://github.com/Naereen/">sur GitHub ?</a>, <a href="https://bitbucket.org/lbesson">sur Bitbucket ?</a>), et <a href="https://github.com/Naereen/notebooks/blob/master/agreg/public2012_D3%20%28OCaml%29.ipynb">est open-source</a>.</li>
<li>Une autre version, en <a href="https://docs.python.org/3/">Python 3</a>, <a href="https://github.com/Naereen/notebooks/blob/master/agreg/public2012_D3.ipynb">est disponible (aussi sur GitHub)</a>.</li>
</ul>
<h4 id="Feedbacks?">Feedbacks?<a class="anchor-link" href="#Feedbacks?">&#182;</a></h4><ul>
<li>Vous avez trouvé un bug ? → <a href="https://github.com/Naereen/notebooks/issues/new">Signalez-le moi svp !</a>, merci d'avance.</li>
<li>Vous avez une question ? → <a href="https://github.com/Naereen/ama.fr">Posez la svp !</a> <a href="https://GitHub.com/Naereen/ama.fr"><img src="https://img.shields.io/badge/Demandez%20moi-n&#39;%20importe%20quoi-1abc9c.svg" alt="Demandez moi n&#39;importe quoi !"></a></li>
</ul>
</blockquote>
<hr>

</div>
</div>
</div>
<div class="cell border-box-sizing text_cell rendered"><div class="prompt input_prompt">
</div><div class="inner_cell">
<div class="text_cell_render border-box-sizing rendered_html">
<h2 id="1.2-Proposition-d'impl&#233;mentation,-en-OCaml">1.2 <em>Proposition</em> d'impl&#233;mentation, en <a href="https://ocaml.org/">OCaml</a><a class="anchor-link" href="#1.2-Proposition-d'impl&#233;mentation,-en-OCaml">&#182;</a></h2>
</div>
</div>
</div>
<div class="cell border-box-sizing text_cell rendered"><div class="prompt input_prompt">
</div><div class="inner_cell">
<div class="text_cell_render border-box-sizing rendered_html">
<h3 id="1.2.1-Pour-l'option-informatique-(D)-de-l'agr&#233;gation-de-math&#233;matiques-(en-France).">1.2.1 Pour <a href="http://www.dit.ens-rennes.fr/agregation-option-d/programme-de-l-option-informatique-de-l-agregation-de-mathematiques-48358.kjsp">l'option informatique (D)</a> de l'<a href="http://agreg.org/">agr&#233;gation de math&#233;matiques</a> (en France).<a class="anchor-link" href="#1.2.1-Pour-l'option-informatique-(D)-de-l'agr&#233;gation-de-math&#233;matiques-(en-France).">&#182;</a></h3>
</div>
</div>
</div>
<div class="cell border-box-sizing text_cell rendered"><div class="prompt input_prompt">
</div><div class="inner_cell">
<div class="text_cell_render border-box-sizing rendered_html">
<p><strong>Attention</strong> : ce document ne prétend pas être LA correction du texte, mais <strong>un exemple de solution</strong>.</p>
<hr>

</div>
</div>
</div>
<div class="cell border-box-sizing text_cell rendered"><div class="prompt input_prompt">
</div><div class="inner_cell">
<div class="text_cell_render border-box-sizing rendered_html">
<p>Initialisation du <a href="http://caml.inria.fr/pub/docs/manual-ocaml/libref/Random.html#VALinit">générateur de nombres aléatoires</a> et d'une <a href="https://ocaml.org/learn/tutorials/format.html">fonction généralisée</a> d'affichage.</p>

</div>
</div>
</div>
<div class="cell border-box-sizing code_cell rendered">
<div class="input">
<div class="prompt input_prompt">In&nbsp;[1]:</div>
<div class="inner_cell">
    <div class="input_area">
<div class=" highlight hl-ocaml"><pre><span></span><span class="nn">Random</span><span class="p">.</span><span class="n">self_init</span> <span class="bp">()</span><span class="o">;;</span>
<span class="k">let</span> <span class="n">print</span> <span class="o">=</span> <span class="nn">Format</span><span class="p">.</span><span class="n">printf</span><span class="o">;;</span>
</pre></div>

    </div>
</div>
</div>

<div class="output_wrapper">
<div class="output">


<div class="output_area">

    <div class="prompt output_prompt">Out[1]:</div>



<div class="output_html rendered_html output_subarea output_execute_result">
<pre style="color:slategray;max-height:100px;overflow:hidden" 
onclick="
if (this.style.maxHeight === 'none') 
    this.style.maxHeight = '100px';
else
    this.style.maxHeight = 'none'; 
">- : unit = ()
</pre>
</div>

</div>

<div class="output_area">

    <div class="prompt output_prompt">Out[1]:</div>



<div class="output_html rendered_html output_subarea output_execute_result">
<pre style="color:slategray;max-height:100px;overflow:hidden" 
onclick="
if (this.style.maxHeight === 'none') 
    this.style.maxHeight = '100px';
else
    this.style.maxHeight = 'none'; 
">val print : ('a, Format.formatter, unit) format -&gt; 'a = &lt;fun&gt;
</pre>
</div>

</div>

</div>
</div>

</div>
<div class="cell border-box-sizing text_cell rendered"><div class="prompt input_prompt">
</div><div class="inner_cell">
<div class="text_cell_render border-box-sizing rendered_html">
<p>C'est un très bon réflexe d'utiliser <code>print = Format.printf</code> ainsi défini, elle permet d'afficher facilement du texte contenant des paramètres. Pour plus de détails, voir <a href="http://caml.inria.fr/pub/docs/manual-ocaml/libref/Printf.html">la documentation de Printf.printf</a> et <a href="https://ocaml.org/learn/tutorials/format.html#Printingtostdoutusingprintf">des explications sur <code>Format</code></a>.</p>
<p>Il suffit de retenir que <code>printf</code> s'utilise comme ça :</p>

</div>
</div>
</div>
<div class="cell border-box-sizing code_cell rendered">
<div class="input">
<div class="prompt input_prompt">In&nbsp;[2]:</div>
<div class="inner_cell">
    <div class="input_area">
<div class=" highlight hl-ocaml"><pre><span></span><span class="n">print</span> <span class="s2">&quot;Chaine de caractere</span><span class="se">\n</span><span class="s2">&quot;</span><span class="o">;;</span>
</pre></div>

    </div>
</div>
</div>

<div class="output_wrapper">
<div class="output">


<div class="output_area">

    <div class="prompt output_prompt">Out[2]:</div>



<div class="output_html rendered_html output_subarea output_execute_result">
<pre style="color:slategray;max-height:100px;overflow:hidden" 
onclick="
if (this.style.maxHeight === 'none') 
    this.style.maxHeight = '100px';
else
    this.style.maxHeight = 'none'; 
">- : unit = ()
</pre>
</div>

</div>

</div>
</div>

</div>
<div class="cell border-box-sizing code_cell rendered">
<div class="input">
<div class="prompt input_prompt">In&nbsp;[3]:</div>
<div class="inner_cell">
    <div class="input_area">
<div class=" highlight hl-ocaml"><pre><span></span><span class="n">print</span> <span class="s2">&quot;Chaine avec variables : il faut retenir %%i, %%f, %%s et %%c...</span><span class="se">\n</span><span class="s2">&quot;</span> <span class="o">;;</span>
<span class="n">print</span> <span class="s2">&quot;</span><span class="se">\n</span><span class="s2"> - %%i pour un entier : %i, &quot;</span> <span class="mi">1</span> <span class="o">;;</span>
<span class="n">print</span> <span class="s2">&quot;</span><span class="se">\n</span><span class="s2"> - %%f pour un flottant : %f, &quot;</span> <span class="mi">3</span><span class="o">.</span><span class="mi">1415</span> <span class="o">;;</span>
<span class="n">print</span> <span class="s2">&quot;</span><span class="se">\n</span><span class="s2"> - %%s pour une string : %s, &quot;</span> <span class="s2">&quot;OK?&quot;</span> <span class="o">;;</span>
<span class="n">print</span> <span class="s2">&quot;</span><span class="se">\n</span><span class="s2"> - %%c pour un caractère : %c</span><span class="se">\n</span><span class="s2">&quot;</span> <span class="sc">&#39;c&#39;</span> <span class="o">;;</span>
</pre></div>

    </div>
</div>
</div>

<div class="output_wrapper">
<div class="output">


<div class="output_area">

    <div class="prompt"></div>


<div class="output_subarea output_stream output_stdout output_text">
<pre>Chaine de caractere
Chaine avec variables : il faut retenir %i, %f, %s et %c...

 - %i pour un entier : 1, 
 - %f pour un flottant : 3.141500, 
 - %s pour une string : OK?, 
 - %c pour un caractère : c
</pre>
</div>
</div>

<div class="output_area">

    <div class="prompt output_prompt">Out[3]:</div>



<div class="output_html rendered_html output_subarea output_execute_result">
<pre style="color:slategray;max-height:100px;overflow:hidden" 
onclick="
if (this.style.maxHeight === 'none') 
    this.style.maxHeight = '100px';
else
    this.style.maxHeight = 'none'; 
">- : unit = ()
</pre>
</div>

</div>

<div class="output_area">

    <div class="prompt output_prompt">Out[3]:</div>



<div class="output_html rendered_html output_subarea output_execute_result">
<pre style="color:slategray;max-height:100px;overflow:hidden" 
onclick="
if (this.style.maxHeight === 'none') 
    this.style.maxHeight = '100px';
else
    this.style.maxHeight = 'none'; 
">- : unit = ()
</pre>
</div>

</div>

<div class="output_area">

    <div class="prompt output_prompt">Out[3]:</div>



<div class="output_html rendered_html output_subarea output_execute_result">
<pre style="color:slategray;max-height:100px;overflow:hidden" 
onclick="
if (this.style.maxHeight === 'none') 
    this.style.maxHeight = '100px';
else
    this.style.maxHeight = 'none'; 
">- : unit = ()
</pre>
</div>

</div>

<div class="output_area">

    <div class="prompt output_prompt">Out[3]:</div>



<div class="output_html rendered_html output_subarea output_execute_result">
<pre style="color:slategray;max-height:100px;overflow:hidden" 
onclick="
if (this.style.maxHeight === 'none') 
    this.style.maxHeight = '100px';
else
    this.style.maxHeight = 'none'; 
">- : unit = ()
</pre>
</div>

</div>

<div class="output_area">

    <div class="prompt output_prompt">Out[3]:</div>



<div class="output_html rendered_html output_subarea output_execute_result">
<pre style="color:slategray;max-height:100px;overflow:hidden" 
onclick="
if (this.style.maxHeight === 'none') 
    this.style.maxHeight = '100px';
else
    this.style.maxHeight = 'none'; 
">- : unit = ()
</pre>
</div>

</div>

</div>
</div>

</div>
<div class="cell border-box-sizing text_cell rendered"><div class="prompt input_prompt">
</div><div class="inner_cell">
<div class="text_cell_render border-box-sizing rendered_html">
<h2 id="1.3-Jeux-de-Nim">1.3 Jeux de Nim<a class="anchor-link" href="#1.3-Jeux-de-Nim">&#182;</a></h2>
</div>
</div>
</div>
<div class="cell border-box-sizing text_cell rendered"><div class="prompt input_prompt">
</div><div class="inner_cell">
<div class="text_cell_render border-box-sizing rendered_html">
<h3 id="1.3.1-Repr&#233;sentation-des-configurations">1.3.1 Repr&#233;sentation des configurations<a class="anchor-link" href="#1.3.1-Repr&#233;sentation-des-configurations">&#182;</a></h3>
</div>
</div>
</div>
<div class="cell border-box-sizing text_cell rendered"><div class="prompt input_prompt">
</div><div class="inner_cell">
<div class="text_cell_render border-box-sizing rendered_html">
<p>Pas besoin d'un type de données trop complexe :</p>

</div>
</div>
</div>
<div class="cell border-box-sizing code_cell rendered">
<div class="input">
<div class="prompt input_prompt">In&nbsp;[4]:</div>
<div class="inner_cell">
    <div class="input_area">
<div class=" highlight hl-ocaml"><pre><span></span><span class="k">type</span> <span class="n">nim</span> <span class="o">=</span> <span class="kt">int</span> <span class="kt">array</span><span class="o">;;</span>
</pre></div>

    </div>
</div>
</div>

<div class="output_wrapper">
<div class="output">


<div class="output_area">

    <div class="prompt output_prompt">Out[4]:</div>



<div class="output_html rendered_html output_subarea output_execute_result">
<pre style="color:slategray;max-height:100px;overflow:hidden" 
onclick="
if (this.style.maxHeight === 'none') 
    this.style.maxHeight = '100px';
else
    this.style.maxHeight = 'none'; 
">type nim = int array
</pre>
</div>

</div>

</div>
</div>

</div>
<div class="cell border-box-sizing text_cell rendered"><div class="prompt input_prompt">
</div><div class="inner_cell">
<div class="text_cell_render border-box-sizing rendered_html">
<p>On va d'abord écrire une fonction toute simple qui affiche une configuration, en mode texte.</p>

</div>
</div>
</div>
<div class="cell border-box-sizing code_cell rendered">
<div class="input">
<div class="prompt input_prompt">In&nbsp;[5]:</div>
<div class="inner_cell">
    <div class="input_area">
<div class=" highlight hl-ocaml"><pre><span></span><span class="k">let</span> <span class="n">print_nim</span> <span class="o">=</span>
  <span class="nn">Array</span><span class="p">.</span><span class="n">iteri</span> <span class="o">(</span><span class="k">fun</span> <span class="n">case</span> <span class="n">total</span> <span class="o">-&gt;</span> <span class="k">begin</span>
    <span class="n">print</span> <span class="s2">&quot;</span><span class="se">\n</span><span class="s2">%i: &quot;</span> <span class="n">case</span><span class="o">;</span>
    <span class="k">for</span> <span class="n">j</span> <span class="o">=</span> <span class="mi">1</span> <span class="k">to</span> <span class="n">total</span> <span class="k">do</span>
      <span class="n">print</span> <span class="s2">&quot;! &quot;</span><span class="o">;</span>
    <span class="k">done</span><span class="o">;</span>
  <span class="k">end</span><span class="o">);;</span>
</pre></div>

    </div>
</div>
</div>

<div class="output_wrapper">
<div class="output">


<div class="output_area">

    <div class="prompt output_prompt">Out[5]:</div>



<div class="output_html rendered_html output_subarea output_execute_result">
<pre style="color:slategray;max-height:100px;overflow:hidden" 
onclick="
if (this.style.maxHeight === 'none') 
    this.style.maxHeight = '100px';
else
    this.style.maxHeight = 'none'; 
">val print_nim : int array -&gt; unit = &lt;fun&gt;
</pre>
</div>

</div>

</div>
</div>

</div>
<div class="cell border-box-sizing text_cell rendered"><div class="prompt input_prompt">
</div><div class="inner_cell">
<div class="text_cell_render border-box-sizing rendered_html">
<p>On peut définir et afficher deux exemples de configuration d'un jeu de Nim, venant de la figure 1.</p>

</div>
</div>
</div>
<div class="cell border-box-sizing code_cell rendered">
<div class="input">
<div class="prompt input_prompt">In&nbsp;[6]:</div>
<div class="inner_cell">
    <div class="input_area">
<div class=" highlight hl-ocaml"><pre><span></span><span class="k">let</span> <span class="n">a</span> <span class="o">=</span> <span class="o">[|</span> <span class="mi">1</span><span class="o">;</span> <span class="mi">3</span><span class="o">;</span> <span class="mi">5</span> <span class="o">|]</span> <span class="o">;;</span>
<span class="n">print</span> <span class="s2">&quot;</span><span class="se">\n</span><span class="s2"> Configuration (a) de la Figure 1 :&quot;</span><span class="o">;</span>
<span class="n">print_nim</span> <span class="n">a</span><span class="o">;;</span>
</pre></div>

    </div>
</div>
</div>

<div class="output_wrapper">
<div class="output">


<div class="output_area">

    <div class="prompt"></div>


<div class="output_subarea output_stream output_stdout output_text">
<pre> Configuration (a) de la Figure 1 :
0: ! 
1: ! ! ! 
2: ! ! ! ! ! </pre>
</div>
</div>

<div class="output_area">

    <div class="prompt output_prompt">Out[6]:</div>



<div class="output_html rendered_html output_subarea output_execute_result">
<pre style="color:slategray;max-height:100px;overflow:hidden" 
onclick="
if (this.style.maxHeight === 'none') 
    this.style.maxHeight = '100px';
else
    this.style.maxHeight = 'none'; 
">val a : int array = [|1; 3; 5|]
</pre>
</div>

</div>

<div class="output_area">

    <div class="prompt output_prompt">Out[6]:</div>



<div class="output_html rendered_html output_subarea output_execute_result">
<pre style="color:slategray;max-height:100px;overflow:hidden" 
onclick="
if (this.style.maxHeight === 'none') 
    this.style.maxHeight = '100px';
else
    this.style.maxHeight = 'none'; 
">- : unit = ()
</pre>
</div>

</div>

</div>
</div>

</div>
<div class="cell border-box-sizing code_cell rendered">
<div class="input">
<div class="prompt input_prompt">In&nbsp;[7]:</div>
<div class="inner_cell">
    <div class="input_area">
<div class=" highlight hl-ocaml"><pre><span></span><span class="k">let</span> <span class="n">b</span> <span class="o">=</span> <span class="o">[|</span> <span class="mi">1</span><span class="o">;</span> <span class="mi">3</span><span class="o">;</span> <span class="mi">2</span> <span class="o">|]</span> <span class="o">;;</span>
<span class="n">print</span> <span class="s2">&quot;</span><span class="se">\n</span><span class="s2"> Configuration (b) de la Figure 1 :&quot;</span><span class="o">;</span>
<span class="n">print_nim</span> <span class="n">b</span><span class="o">;;</span>
</pre></div>

    </div>
</div>
</div>

<div class="output_wrapper">
<div class="output">


<div class="output_area">

    <div class="prompt"></div>


<div class="output_subarea output_stream output_stdout output_text">
<pre> Configuration (b) de la Figure 1 :
0: ! 
1: ! ! ! 
2: ! ! </pre>
</div>
</div>

<div class="output_area">

    <div class="prompt output_prompt">Out[7]:</div>



<div class="output_html rendered_html output_subarea output_execute_result">
<pre style="color:slategray;max-height:100px;overflow:hidden" 
onclick="
if (this.style.maxHeight === 'none') 
    this.style.maxHeight = '100px';
else
    this.style.maxHeight = 'none'; 
">val b : int array = [|1; 3; 2|]
</pre>
</div>

</div>

<div class="output_area">

    <div class="prompt output_prompt">Out[7]:</div>



<div class="output_html rendered_html output_subarea output_execute_result">
<pre style="color:slategray;max-height:100px;overflow:hidden" 
onclick="
if (this.style.maxHeight === 'none') 
    this.style.maxHeight = '100px';
else
    this.style.maxHeight = 'none'; 
">- : unit = ()
</pre>
</div>

</div>

</div>
</div>

</div>
<div class="cell border-box-sizing text_cell rendered"><div class="prompt input_prompt">
</div><div class="inner_cell">
<div class="text_cell_render border-box-sizing rendered_html">
<h3 id="1.3.2-Fonction-de-Sprague-Grundy-pour-le-jeu-de-Nim">1.3.2 Fonction de Sprague-Grundy pour le jeu de Nim<a class="anchor-link" href="#1.3.2-Fonction-de-Sprague-Grundy-pour-le-jeu-de-Nim">&#182;</a></h3>
</div>
</div>
</div>
<div class="cell border-box-sizing text_cell rendered"><div class="prompt input_prompt">
</div><div class="inner_cell">
<div class="text_cell_render border-box-sizing rendered_html">
<p>Elle est donnée par le corollaire 1. en page 6/7 du texte.
On a besoin du <strong>xor</strong> (<em>"ou exclusif"</em>, cf <a href="https://fr.wikipedia.org/wiki/Fonction_OU_exclusif">cette page</a>) <strong>bit à bit</strong>, obtenu en OCaml avec l'opérateur <a href="http://caml.inria.fr/pub/docs/manual-ocaml/libref/Pervasives.html#VAL(lxor"><code>lxor</code></a>) :</p>
$$ \gamma(\mathrm{Nim}(x_1, \dots, x_k)) := \bigoplus_{i=1}^{k} x_i = x_1 \oplus \dots \oplus x_k. $$
</div>
</div>
</div>
<div class="cell border-box-sizing text_cell rendered"><div class="prompt input_prompt">
</div><div class="inner_cell">
<div class="text_cell_render border-box-sizing rendered_html">
<p>Petit rappel sur cette fonction <strong>xor</strong> :</p>

</div>
</div>
</div>
<div class="cell border-box-sizing text_cell rendered"><div class="prompt input_prompt">
</div><div class="inner_cell">
<div class="text_cell_render border-box-sizing rendered_html">
<table>
<thead><tr>
<th>Entrée</th>
<th style="text-align:center"></th>
<th>Entrée</th>
<th style="text-align:right">Sortie</th>
</tr>
</thead>
<tbody>
<tr>
<td>False</td>
<td style="text-align:center">$\oplus$</td>
<td>False</td>
<td style="text-align:right">= False</td>
</tr>
<tr>
<td>False</td>
<td style="text-align:center">$\oplus$</td>
<td>True</td>
<td style="text-align:right">= True</td>
</tr>
<tr>
<td>True</td>
<td style="text-align:center">$\oplus$</td>
<td>False</td>
<td style="text-align:right">= True</td>
</tr>
<tr>
<td>True</td>
<td style="text-align:center">$\oplus$</td>
<td>True</td>
<td style="text-align:right">= False</td>
</tr>
</tbody>
</table>

</div>
</div>
</div>
<div class="cell border-box-sizing text_cell rendered"><div class="prompt input_prompt">
</div><div class="inner_cell">
<div class="text_cell_render border-box-sizing rendered_html">
<p>On peut la définir avec l'opérateur infixe :</p>

</div>
</div>
</div>
<div class="cell border-box-sizing code_cell rendered">
<div class="input">
<div class="prompt input_prompt">In&nbsp;[8]:</div>
<div class="inner_cell">
    <div class="input_area">
<div class=" highlight hl-ocaml"><pre><span></span><span class="k">let</span> <span class="n">somme_nim</span> <span class="o">=</span> <span class="o">(</span> <span class="ow">lxor</span> <span class="o">)</span> <span class="o">;;</span>
</pre></div>

    </div>
</div>
</div>

<div class="output_wrapper">
<div class="output">


<div class="output_area">

    <div class="prompt output_prompt">Out[8]:</div>



<div class="output_html rendered_html output_subarea output_execute_result">
<pre style="color:slategray;max-height:100px;overflow:hidden" 
onclick="
if (this.style.maxHeight === 'none') 
    this.style.maxHeight = '100px';
else
    this.style.maxHeight = 'none'; 
">val somme_nim : int -&gt; int -&gt; int = &lt;fun&gt;
</pre>
</div>

</div>

</div>
</div>

</div>
<div class="cell border-box-sizing text_cell rendered"><div class="prompt input_prompt">
</div><div class="inner_cell">
<div class="text_cell_render border-box-sizing rendered_html">
<p>Ou bien plus simplement :</p>

</div>
</div>
</div>
<div class="cell border-box-sizing code_cell rendered">
<div class="input">
<div class="prompt input_prompt">In&nbsp;[9]:</div>
<div class="inner_cell">
    <div class="input_area">
<div class=" highlight hl-ocaml"><pre><span></span><span class="k">let</span> <span class="n">somme_nim</span> <span class="n">x</span> <span class="n">y</span> <span class="o">=</span> <span class="n">x</span> <span class="ow">lxor</span> <span class="n">y</span> <span class="o">;;</span>
</pre></div>

    </div>
</div>
</div>

<div class="output_wrapper">
<div class="output">


<div class="output_area">

    <div class="prompt output_prompt">Out[9]:</div>



<div class="output_html rendered_html output_subarea output_execute_result">
<pre style="color:slategray;max-height:100px;overflow:hidden" 
onclick="
if (this.style.maxHeight === 'none') 
    this.style.maxHeight = '100px';
else
    this.style.maxHeight = 'none'; 
">val somme_nim : int -&gt; int -&gt; int = &lt;fun&gt;
</pre>
</div>

</div>

</div>
</div>

</div>
<div class="cell border-box-sizing text_cell rendered"><div class="prompt input_prompt">
</div><div class="inner_cell">
<div class="text_cell_render border-box-sizing rendered_html">
<p>Quelques exemples, juste pour vérifier.</p>
<ul>
<li>D'abord, les valeurs pour les deux entiers <code>0</code> et <code>1</code> :</li>
</ul>

</div>
</div>
</div>
<div class="cell border-box-sizing code_cell rendered">
<div class="input">
<div class="prompt input_prompt">In&nbsp;[10]:</div>
<div class="inner_cell">
    <div class="input_area">
<div class=" highlight hl-ocaml"><pre><span></span><span class="n">somme_nim</span> <span class="mi">0</span> <span class="mi">0</span><span class="o">;;</span> <span class="c">(** = 0 *)</span>
<span class="n">somme_nim</span> <span class="mi">0</span> <span class="mi">1</span><span class="o">;;</span> <span class="c">(** = 1 *)</span>
<span class="n">somme_nim</span> <span class="mi">1</span> <span class="mi">0</span><span class="o">;;</span> <span class="c">(** = 1 *)</span>
<span class="n">somme_nim</span> <span class="mi">1</span> <span class="mi">1</span><span class="o">;;</span> <span class="c">(** = 0 *)</span>
</pre></div>

    </div>
</div>
</div>

<div class="output_wrapper">
<div class="output">


<div class="output_area">

    <div class="prompt output_prompt">Out[10]:</div>



<div class="output_html rendered_html output_subarea output_execute_result">
<pre style="color:slategray;max-height:100px;overflow:hidden" 
onclick="
if (this.style.maxHeight === 'none') 
    this.style.maxHeight = '100px';
else
    this.style.maxHeight = 'none'; 
">- : int = 0
</pre>
</div>

</div>

<div class="output_area">

    <div class="prompt output_prompt">Out[10]:</div>



<div class="output_html rendered_html output_subarea output_execute_result">
<pre style="color:slategray;max-height:100px;overflow:hidden" 
onclick="
if (this.style.maxHeight === 'none') 
    this.style.maxHeight = '100px';
else
    this.style.maxHeight = 'none'; 
">- : int = 1
</pre>
</div>

</div>

<div class="output_area">

    <div class="prompt output_prompt">Out[10]:</div>



<div class="output_html rendered_html output_subarea output_execute_result">
<pre style="color:slategray;max-height:100px;overflow:hidden" 
onclick="
if (this.style.maxHeight === 'none') 
    this.style.maxHeight = '100px';
else
    this.style.maxHeight = 'none'; 
">- : int = 1
</pre>
</div>

</div>

<div class="output_area">

    <div class="prompt output_prompt">Out[10]:</div>



<div class="output_html rendered_html output_subarea output_execute_result">
<pre style="color:slategray;max-height:100px;overflow:hidden" 
onclick="
if (this.style.maxHeight === 'none') 
    this.style.maxHeight = '100px';
else
    this.style.maxHeight = 'none'; 
">- : int = 0
</pre>
</div>

</div>

</div>
</div>

</div>
<div class="cell border-box-sizing text_cell rendered"><div class="prompt input_prompt">
</div><div class="inner_cell">
<div class="text_cell_render border-box-sizing rendered_html">
<ul>
<li>Ensuite, d'autres valeurs, juste pour tester :</li>
</ul>

</div>
</div>
</div>
<div class="cell border-box-sizing code_cell rendered">
<div class="input">
<div class="prompt input_prompt">In&nbsp;[39]:</div>
<div class="inner_cell">
    <div class="input_area">
<div class=" highlight hl-ocaml"><pre><span></span><span class="n">somme_nim</span> <span class="mi">3</span> <span class="mi">5</span><span class="o">;;</span>  <span class="c">(** 3 xor 5  =  011_2 xor 101_2  = 111_2  = 6  *)</span>
<span class="n">somme_nim</span> <span class="mi">5</span> <span class="mi">9</span><span class="o">;;</span>  <span class="c">(** 5 xor 9  = 0101_2 xor 1001_2 = 1100_2 = 12 *)</span>
<span class="n">somme_nim</span> <span class="mi">12</span> <span class="mi">1</span><span class="o">;;</span> <span class="c">(** 12 xor 1 = 1100_2 xor 0001_2 = 1101_2 = 13 *)</span>
<span class="n">somme_nim</span> <span class="mi">12</span> <span class="mi">2</span><span class="o">;;</span> <span class="c">(** 12 xor 2 = 1100_2 xor 0010_2 = 1110_2 = 14 *)</span>
</pre></div>

    </div>
</div>
</div>

<div class="output_wrapper">
<div class="output">


<div class="output_area">

    <div class="prompt output_prompt">Out[39]:</div>



<div class="output_html rendered_html output_subarea output_execute_result">
<pre style="color:slategray;max-height:100px;overflow:hidden" 
onclick="
if (this.style.maxHeight === 'none') 
    this.style.maxHeight = '100px';
else
    this.style.maxHeight = 'none'; 
">- : int = 6
</pre>
</div>

</div>

<div class="output_area">

    <div class="prompt output_prompt">Out[39]:</div>



<div class="output_html rendered_html output_subarea output_execute_result">
<pre style="color:slategray;max-height:100px;overflow:hidden" 
onclick="
if (this.style.maxHeight === 'none') 
    this.style.maxHeight = '100px';
else
    this.style.maxHeight = 'none'; 
">- : int = 12
</pre>
</div>

</div>

<div class="output_area">

    <div class="prompt output_prompt">Out[39]:</div>



<div class="output_html rendered_html output_subarea output_execute_result">
<pre style="color:slategray;max-height:100px;overflow:hidden" 
onclick="
if (this.style.maxHeight === 'none') 
    this.style.maxHeight = '100px';
else
    this.style.maxHeight = 'none'; 
">- : int = 13
</pre>
</div>

</div>

<div class="output_area">

    <div class="prompt output_prompt">Out[39]:</div>



<div class="output_html rendered_html output_subarea output_execute_result">
<pre style="color:slategray;max-height:100px;overflow:hidden" 
onclick="
if (this.style.maxHeight === 'none') 
    this.style.maxHeight = '100px';
else
    this.style.maxHeight = 'none'; 
">- : int = 14
</pre>
</div>

</div>

</div>
</div>

</div>
<div class="cell border-box-sizing text_cell rendered"><div class="prompt input_prompt">
</div><div class="inner_cell">
<div class="text_cell_render border-box-sizing rendered_html">
<p>D'après le corollaire 1., il suffit d'appliquer un <strong>xor</strong> bit à bit à chaque valeur du tableau pour calculer $\gamma$.</p>
<p>En OCaml, on peut faire ça avec une boucle, une fonction récursive, ou plus concisement avec <code>Array.fold_left</code>.</p>

</div>
</div>
</div>
<div class="cell border-box-sizing code_cell rendered">
<div class="input">
<div class="prompt input_prompt">In&nbsp;[12]:</div>
<div class="inner_cell">
    <div class="input_area">
<div class=" highlight hl-ocaml"><pre><span></span><span class="nn">Array</span><span class="p">.</span><span class="n">fold_left</span> <span class="o">;;</span>
</pre></div>

    </div>
</div>
</div>

<div class="output_wrapper">
<div class="output">


<div class="output_area">

    <div class="prompt output_prompt">Out[12]:</div>



<div class="output_html rendered_html output_subarea output_execute_result">
<pre style="color:slategray;max-height:100px;overflow:hidden" 
onclick="
if (this.style.maxHeight === 'none') 
    this.style.maxHeight = '100px';
else
    this.style.maxHeight = 'none'; 
">- : ('a -&gt; 'b -&gt; 'a) -&gt; 'a -&gt; 'b array -&gt; 'a = &lt;fun&gt;
</pre>
</div>

</div>

</div>
</div>

</div>
<div class="cell border-box-sizing text_cell rendered"><div class="prompt input_prompt">
</div><div class="inner_cell">
<div class="text_cell_render border-box-sizing rendered_html">
<p><em>Rappel :</em> <code>fold_left</code> prend une fonction <code>f(x,y)</code> et <code>x0</code> calcule
<code>f( ... f( f( x0, a[0] ), a[1] ), a[n-1] )</code>.
Ici, pour <code>f = somme_nim</code>, il faut donner <code>x0 = 0</code> pour que le premier calcul <code>f(0, a[0]) = a[0]</code>.</p>

</div>
</div>
</div>
<div class="cell border-box-sizing code_cell rendered">
<div class="input">
<div class="prompt input_prompt">In&nbsp;[13]:</div>
<div class="inner_cell">
    <div class="input_area">
<div class=" highlight hl-ocaml"><pre><span></span><span class="k">let</span> <span class="n">gamma</span> <span class="o">=</span> <span class="nn">Array</span><span class="p">.</span><span class="n">fold_left</span> <span class="n">somme_nim</span> <span class="mi">0</span><span class="o">;;</span>
</pre></div>

    </div>
</div>
</div>

<div class="output_wrapper">
<div class="output">


<div class="output_area">

    <div class="prompt output_prompt">Out[13]:</div>



<div class="output_html rendered_html output_subarea output_execute_result">
<pre style="color:slategray;max-height:100px;overflow:hidden" 
onclick="
if (this.style.maxHeight === 'none') 
    this.style.maxHeight = '100px';
else
    this.style.maxHeight = 'none'; 
">val gamma : int array -&gt; int = &lt;fun&gt;
</pre>
</div>

</div>

</div>
</div>

</div>
<div class="cell border-box-sizing code_cell rendered">
<div class="input">
<div class="prompt input_prompt">In&nbsp;[14]:</div>
<div class="inner_cell">
    <div class="input_area">
<div class=" highlight hl-ocaml"><pre><span></span><span class="n">print</span> <span class="s2">&quot;</span><span class="se">\n</span><span class="s2">Gamma(a) = %i&quot;</span> <span class="o">(</span><span class="n">gamma</span><span class="o">(</span><span class="n">a</span><span class="o">));;</span>
<span class="n">print</span> <span class="s2">&quot;</span><span class="se">\n</span><span class="s2">Gamma(b) = %i&quot;</span> <span class="o">(</span><span class="n">gamma</span><span class="o">(</span><span class="n">b</span><span class="o">));;</span>
</pre></div>

    </div>
</div>
</div>

<div class="output_wrapper">
<div class="output">


<div class="output_area">

    <div class="prompt"></div>


<div class="output_subarea output_stream output_stdout output_text">
<pre>Gamma(a) = 7
Gamma(b) = 0</pre>
</div>
</div>

<div class="output_area">

    <div class="prompt output_prompt">Out[14]:</div>



<div class="output_html rendered_html output_subarea output_execute_result">
<pre style="color:slategray;max-height:100px;overflow:hidden" 
onclick="
if (this.style.maxHeight === 'none') 
    this.style.maxHeight = '100px';
else
    this.style.maxHeight = 'none'; 
">- : unit = ()
</pre>
</div>

</div>

<div class="output_area">

    <div class="prompt output_prompt">Out[14]:</div>



<div class="output_html rendered_html output_subarea output_execute_result">
<pre style="color:slategray;max-height:100px;overflow:hidden" 
onclick="
if (this.style.maxHeight === 'none') 
    this.style.maxHeight = '100px';
else
    this.style.maxHeight = 'none'; 
">- : unit = ()
</pre>
</div>

</div>

</div>
</div>

</div>
<div class="cell border-box-sizing text_cell rendered"><div class="prompt input_prompt">
</div><div class="inner_cell">
<div class="text_cell_render border-box-sizing rendered_html">
<h3 id="1.3.3-D&#233;terminer-un-coup-&#224;-jouer-selon-une-strat&#233;gie-gagnante-(s'il-y-en-a-une)">1.3.3 D&#233;terminer un coup &#224; jouer selon une strat&#233;gie gagnante (s'il y en a une)<a class="anchor-link" href="#1.3.3-D&#233;terminer-un-coup-&#224;-jouer-selon-une-strat&#233;gie-gagnante-(s'il-y-en-a-une)">&#182;</a></h3>
</div>
</div>
</div>
<div class="cell border-box-sizing text_cell rendered"><div class="prompt input_prompt">
</div><div class="inner_cell">
<div class="text_cell_render border-box-sizing rendered_html">
<p>On suit l'algorithme proposé par le texte, qui utilise la fonction $\gamma$ sur la configuration pour savoir s'il y a une stratégie ou non (d'après la proposition 5.), et ensuite si elle existe on doit trouver un coup qui ammene $\gamma$ à 0.</p>
<p>On a d'abord besoin d'une exception pour signaler s'il n'y a pas de stratégie gagnante.</p>

</div>
</div>
</div>
<div class="cell border-box-sizing code_cell rendered">
<div class="input">
<div class="prompt input_prompt">In&nbsp;[15]:</div>
<div class="inner_cell">
    <div class="input_area">
<div class=" highlight hl-ocaml"><pre><span></span><span class="k">exception</span> <span class="nc">Pas_de_Strat_Gagnante</span><span class="o">;;</span>
</pre></div>

    </div>
</div>
</div>

<div class="output_wrapper">
<div class="output">


<div class="output_area">

    <div class="prompt output_prompt">Out[15]:</div>



<div class="output_html rendered_html output_subarea output_execute_result">
<pre style="color:slategray;max-height:100px;overflow:hidden" 
onclick="
if (this.style.maxHeight === 'none') 
    this.style.maxHeight = '100px';
else
    this.style.maxHeight = 'none'; 
">exception Pas_de_Strat_Gagnante
</pre>
</div>

</div>

</div>
</div>

</div>
<div class="cell border-box-sizing text_cell rendered"><div class="prompt input_prompt">
</div><div class="inner_cell">
<div class="text_cell_render border-box-sizing rendered_html">
<h4 id="1.3.3.1-Strat&#233;gie-optimale">1.3.3.1 Strat&#233;gie optimale<a class="anchor-link" href="#1.3.3.1-Strat&#233;gie-optimale">&#182;</a></h4><p>L'algorithme va être assez naïf, depuis une configuration actuelle $c$ :</p>
<ul>
<li>si $\gamma(c)$ est $0$, on échoue (<code>Pas_de_Strat_Gagnante</code>),</li>
<li>sinon, on explore toutes les configurations $c'$ atteignables en un coup depuis $c$, et on choisis la première qui amène à $\gamma(c') = 0$.</li>
</ul>

</div>
</div>
</div>
<div class="cell border-box-sizing code_cell rendered">
<div class="input">
<div class="prompt input_prompt">In&nbsp;[40]:</div>
<div class="inner_cell">
    <div class="input_area">
<div class=" highlight hl-ocaml"><pre><span></span><span class="k">let</span> <span class="n">next</span> <span class="o">?(</span><span class="n">id</span><span class="o">=</span><span class="mi">0</span><span class="o">)</span> <span class="n">config</span> <span class="o">=</span>
  <span class="k">let</span> <span class="n">g</span> <span class="o">=</span> <span class="n">gamma</span> <span class="n">config</span> <span class="k">in</span>
  <span class="c">(** La prop. 5 donne directement : si g(s_0) = 0 alors échec. *)</span>
  <span class="k">if</span> <span class="n">g</span> <span class="o">=</span> <span class="mi">0</span> <span class="k">then</span> <span class="k">raise</span> <span class="nc">Pas_de_Strat_Gagnante</span><span class="o">;</span>
  <span class="c">(** Sinon, on calcul les gamma des fils, et on pointe vers le fils avec un gamma nul. *)</span>
  <span class="n">print</span> <span class="s2">&quot;</span><span class="se">\n\n</span><span class="s2">Il y a une stratégie gagnante :</span><span class="se">\n</span><span class="s2">&quot;</span><span class="o">;</span>
  <span class="c">(** En pratique, on aurait pas besoin de calculer chaque fils,</span>
<span class="c">      comme on sait que g != 0, et on doit obtenir g&#39; = 0,</span>
<span class="c">      on peut s&#39;arreter au premier coup qui donne g&#39; = 0.</span>
<span class="c">  *)</span>
  <span class="k">let</span> <span class="n">config&#39;</span> <span class="o">=</span> <span class="nn">Array</span><span class="p">.</span><span class="n">copy</span> <span class="n">config</span> <span class="k">in</span>
  <span class="k">let</span> <span class="n">colonne</span> <span class="o">=</span> <span class="n">ref</span> <span class="mi">0</span> <span class="ow">and</span>
      <span class="n">nb</span>      <span class="o">=</span> <span class="n">ref</span> <span class="mi">1</span> <span class="k">in</span>
  <span class="c">(** Il suffit d&#39;explorer toutes les configurations accessibles depuis l&#39;état actuel : *)</span>
  <span class="k">for</span>   <span class="n">j</span> <span class="o">=</span> <span class="mi">0</span> <span class="k">to</span> <span class="o">(</span><span class="nn">Array</span><span class="p">.</span><span class="n">length</span> <span class="n">config&#39;</span><span class="o">)</span> <span class="o">-</span> <span class="mi">1</span> <span class="k">do</span>
    <span class="k">for</span> <span class="n">i</span> <span class="o">=</span> <span class="mi">1</span> <span class="k">to</span> <span class="n">config&#39;</span><span class="o">.(</span><span class="n">j</span><span class="o">)</span> <span class="k">do</span>
      <span class="n">config&#39;</span><span class="o">.(</span><span class="n">j</span><span class="o">)</span> <span class="o">&lt;-</span> <span class="n">config&#39;</span><span class="o">.(</span><span class="n">j</span><span class="o">)</span> <span class="o">-</span> <span class="n">i</span><span class="o">;</span>  <span class="c">(** On essaie d&#39;appliquer ce coup. *)</span>
      <span class="k">if</span> <span class="o">(</span><span class="n">gamma</span> <span class="n">config&#39;</span><span class="o">)</span> <span class="o">=</span> <span class="mi">0</span> <span class="k">then</span> <span class="k">begin</span>
          <span class="c">(** On a trouvé un coup gagnant, on le stocke. *)</span>
          <span class="n">colonne</span> <span class="o">:=</span> <span class="n">j</span><span class="o">;</span>
          <span class="n">nb</span> <span class="o">:=</span> <span class="n">i</span><span class="o">;</span>
      <span class="k">end</span><span class="o">;</span>
      <span class="n">config&#39;</span><span class="o">.(</span><span class="n">j</span><span class="o">)</span> <span class="o">&lt;-</span> <span class="n">config&#39;</span><span class="o">.(</span><span class="n">j</span><span class="o">)</span> <span class="o">+</span> <span class="n">i</span><span class="o">;</span>  <span class="c">(** On annule ce coup. *)</span>
    <span class="k">done</span><span class="o">;</span>
  <span class="k">done</span><span class="o">;</span>
  <span class="c">(**  On applique le coup retenu, dernier coup à donner gamma(c&#39;) = 0. *)</span>
  <span class="n">print</span> <span class="s2">&quot;</span><span class="se">\n</span><span class="s2">Le joueur courant (numéro %i) doit enlever %i allumette à la %i-ième rangée.&quot;</span> <span class="n">id</span> <span class="o">!</span><span class="n">nb</span> <span class="o">!</span><span class="n">colonne</span><span class="o">;</span>
  <span class="n">config&#39;</span><span class="o">.(!</span><span class="n">colonne</span><span class="o">)</span> <span class="o">&lt;-</span> <span class="n">config</span><span class="o">.(!</span><span class="n">colonne</span><span class="o">)</span> <span class="o">-</span> <span class="o">!</span><span class="n">nb</span><span class="o">;</span> <span class="c">(** On retire nb allumette sur cette colonne. *)</span>
  <span class="c">(* assert ((gamma config&#39;) = 0); (** Si on veut vérifier *)  *)</span>
  <span class="n">config&#39;</span>
<span class="o">;;</span>
</pre></div>

    </div>
</div>
</div>

<div class="output_wrapper">
<div class="output">


<div class="output_area">

    <div class="prompt output_prompt">Out[40]:</div>



<div class="output_html rendered_html output_subarea output_execute_result">
<pre style="color:slategray;max-height:100px;overflow:hidden" 
onclick="
if (this.style.maxHeight === 'none') 
    this.style.maxHeight = '100px';
else
    this.style.maxHeight = 'none'; 
">val next : ?id:int -&gt; int array -&gt; int array = &lt;fun&gt;
</pre>
</div>

</div>

</div>
</div>

</div>
<div class="cell border-box-sizing text_cell rendered"><div class="prompt input_prompt">
</div><div class="inner_cell">
<div class="text_cell_render border-box-sizing rendered_html">
<blockquote><p><em>Note :</em> cette fonction utilise la notation <code>?(id=0)</code> dans sa définition pour définir un <em>argument optionnel avec valeur par défaut</em>.
La fonction <code>next</code> peut être appelée de deux façons :</p>
<ul>
<li><code>next a</code> : sans spécifier <code>id</code>, qui vaudra donc <code>0</code>,</li>
<li><code>next ~id:1 a</code> : en spécifiant <code>id=1</code>, qui vaut ici <code>1</code>.</li>
</ul>
<p>Cette astuce n'est pas requise, et c'est un peu de la "frime", inutile de la retenir et de se forcer à s'en servir. Néanmoins, ça peut être utile dans certaines situations.</p>
</blockquote>

</div>
</div>
</div>
<div class="cell border-box-sizing text_cell rendered"><div class="prompt input_prompt">
</div><div class="inner_cell">
<div class="text_cell_render border-box-sizing rendered_html">
<hr>
<p>On peut tester cette fonction sur nos deux configuration a et b :</p>

</div>
</div>
</div>
<div class="cell border-box-sizing code_cell rendered">
<div class="input">
<div class="prompt input_prompt">In&nbsp;[41]:</div>
<div class="inner_cell">
    <div class="input_area">
<div class=" highlight hl-ocaml"><pre><span></span><span class="k">try</span>
  <span class="n">print_nim</span> <span class="o">(</span><span class="n">next</span> <span class="o">~</span><span class="n">id</span><span class="o">:</span><span class="mi">0</span> <span class="n">a</span><span class="o">);</span>
<span class="k">with</span> <span class="o">_</span> <span class="o">-&gt;</span> <span class="n">print</span> <span class="s2">&quot;</span><span class="se">\n\n</span><span class="s2">Blocage durant la simulation 1 (sur a).&quot;</span><span class="o">;;</span>
</pre></div>

    </div>
</div>
</div>

<div class="output_wrapper">
<div class="output">


<div class="output_area">

    <div class="prompt"></div>


<div class="output_subarea output_stream output_stdout output_text">
<pre>
Il y a une stratégie gagnante :

Le joueur courant (numéro 0) doit enlever 3 allumette à la 2-ième rangée.
0: ! 
1: ! ! ! 
2: ! ! </pre>
</div>
</div>

<div class="output_area">

    <div class="prompt output_prompt">Out[41]:</div>



<div class="output_html rendered_html output_subarea output_execute_result">
<pre style="color:slategray;max-height:100px;overflow:hidden" 
onclick="
if (this.style.maxHeight === 'none') 
    this.style.maxHeight = '100px';
else
    this.style.maxHeight = 'none'; 
">- : unit = ()
</pre>
</div>

</div>

</div>
</div>

</div>
<div class="cell border-box-sizing code_cell rendered">
<div class="input">
<div class="prompt input_prompt">In&nbsp;[42]:</div>
<div class="inner_cell">
    <div class="input_area">
<div class=" highlight hl-ocaml"><pre><span></span><span class="k">try</span>
  <span class="n">print_nim</span> <span class="o">(</span><span class="n">next</span> <span class="o">~</span><span class="n">id</span><span class="o">:</span><span class="mi">1</span> <span class="n">b</span><span class="o">);</span>
<span class="k">with</span> <span class="o">_</span> <span class="o">-&gt;</span> <span class="n">print</span> <span class="s2">&quot;</span><span class="se">\n\n</span><span class="s2">Blocage durant la simulation 2 (sur b).&quot;</span><span class="o">;;</span>
</pre></div>

    </div>
</div>
</div>

<div class="output_wrapper">
<div class="output">


<div class="output_area">

    <div class="prompt"></div>


<div class="output_subarea output_stream output_stdout output_text">
<pre>
Blocage durant la simulation 2 (sur b).</pre>
</div>
</div>

<div class="output_area">

    <div class="prompt output_prompt">Out[42]:</div>



<div class="output_html rendered_html output_subarea output_execute_result">
<pre style="color:slategray;max-height:100px;overflow:hidden" 
onclick="
if (this.style.maxHeight === 'none') 
    this.style.maxHeight = '100px';
else
    this.style.maxHeight = 'none'; 
">- : unit = ()
</pre>
</div>

</div>

</div>
</div>

</div>
<div class="cell border-box-sizing text_cell rendered"><div class="prompt input_prompt">
</div><div class="inner_cell">
<div class="text_cell_render border-box-sizing rendered_html">
<h3 id="1.3.4.-Une-strat&#233;gie-&quot;stupide&quot;-:-compl&#232;tement-al&#233;atoire">1.3.4. Une strat&#233;gie "stupide" : compl&#232;tement al&#233;atoire<a class="anchor-link" href="#1.3.4.-Une-strat&#233;gie-&quot;stupide&quot;-:-compl&#232;tement-al&#233;atoire">&#182;</a></h3>
</div>
</div>
</div>
<div class="cell border-box-sizing text_cell rendered"><div class="prompt input_prompt">
</div><div class="inner_cell">
<div class="text_cell_render border-box-sizing rendered_html">
<p>On a d'abord besoin de deux fonctions utilitaires :</p>
<ul>
<li><code>array_filter</code>, pour filtrer un tableau (comme <a href="http://caml.inria.fr/pub/docs/manual-ocaml/libref/List.html#VALfilter"><code>List.filter</code></a> mais pour un <a href="http://caml.inria.fr/pub/docs/manual-ocaml/libref/Array.html"><code>array</code></a>). On fait ça simplement en transformant le tableau en liste, on filtre la liste, puis la liste en tableau. Attention, la taille du tableau n'est <em>pas</em> préservée. </li>
<li>et <code>choose</code> pour choisir un élément aléatoire (uniforme) dans un tableau. En Python, on aurait <a href="https://docs.python.org/3/library/random.html#random.choice"><code>random.choice</code></a>. On fait ça simplement en tirant un entier <code>i</code> aléatoire uniformément parmi <code>0, ..., n-1</code> pour <code>n = Array.length a</code>, puis en renvoyant <code>a.(i)</code>.</li>
</ul>
<blockquote><p>(Et oui, la libraire standard de OCaml est <a href="http://sucre.syntaxique.fr/doku.php?id=ocaml#bibliotheque_standard">assez limitée</a>)...</p>
</blockquote>

</div>
</div>
</div>
<div class="cell border-box-sizing code_cell rendered">
<div class="input">
<div class="prompt input_prompt">In&nbsp;[19]:</div>
<div class="inner_cell">
    <div class="input_area">
<div class=" highlight hl-ocaml"><pre><span></span><span class="k">let</span> <span class="n">array_filter</span> <span class="n">pred</span> <span class="n">a</span> <span class="o">=</span>
  <span class="nn">Array</span><span class="p">.</span><span class="n">of_list</span> <span class="o">(</span><span class="nn">List</span><span class="p">.</span><span class="n">filter</span> <span class="n">pred</span> <span class="o">(</span><span class="nn">Array</span><span class="p">.</span><span class="n">to_list</span> <span class="n">a</span><span class="o">));;</span>

<span class="k">let</span> <span class="n">choose</span> <span class="n">a</span>
  <span class="o">=</span> <span class="n">a</span><span class="o">.(</span><span class="nn">Random</span><span class="p">.</span><span class="n">int</span> <span class="o">(</span><span class="nn">Array</span><span class="p">.</span><span class="n">length</span> <span class="n">a</span><span class="o">));;</span>
</pre></div>

    </div>
</div>
</div>

<div class="output_wrapper">
<div class="output">


<div class="output_area">

    <div class="prompt output_prompt">Out[19]:</div>



<div class="output_html rendered_html output_subarea output_execute_result">
<pre style="color:slategray;max-height:100px;overflow:hidden" 
onclick="
if (this.style.maxHeight === 'none') 
    this.style.maxHeight = '100px';
else
    this.style.maxHeight = 'none'; 
">val array_filter : ('a -&gt; bool) -&gt; 'a array -&gt; 'a array = &lt;fun&gt;
</pre>
</div>

</div>

<div class="output_area">

    <div class="prompt output_prompt">Out[19]:</div>



<div class="output_html rendered_html output_subarea output_execute_result">
<pre style="color:slategray;max-height:100px;overflow:hidden" 
onclick="
if (this.style.maxHeight === 'none') 
    this.style.maxHeight = '100px';
else
    this.style.maxHeight = 'none'; 
">val choose : 'a array -&gt; 'a = &lt;fun&gt;
</pre>
</div>

</div>

</div>
</div>

</div>
<div class="cell border-box-sizing text_cell rendered"><div class="prompt input_prompt">
</div><div class="inner_cell">
<div class="text_cell_render border-box-sizing rendered_html">
<p>Dans le but de comparer cette fonction <code>next</code>, qui implémente une stratégie optimale, on implémente aussi une stratégie complétement aléatoire ("Dummy player").</p>
<p>La stratégie aléatoire fonctionne en trois étapes :</p>
<ol>
<li>trouve les rangées qui ont encore des allumettes (en calculant leurs indices, via <code>array_filter</code>, dans le tableau <code>indices</code>),</li>
<li>choisi une rangée aléatoirement <code>i</code> (uniformément),</li>
<li>enlève un nombre aléatoire (uniforme) d'allumette entre <code>1</code> et <code>xi</code>, pour <code>xi</code> le nombre d'allumette dans la rangée <code>i</code> (i.e., <code>xi = config.(i)</code>).</li>
</ol>

</div>
</div>
</div>
<div class="cell border-box-sizing code_cell rendered">
<div class="input">
<div class="prompt input_prompt">In&nbsp;[20]:</div>
<div class="inner_cell">
    <div class="input_area">
<div class=" highlight hl-ocaml"><pre><span></span><span class="c">(** Un adversaire stupide qui joue aléatoirement. *)</span>
<span class="k">let</span> <span class="n">random</span> <span class="o">?(</span><span class="n">id</span><span class="o">=</span><span class="mi">1</span><span class="o">)</span> <span class="n">config</span> <span class="o">=</span>
  <span class="n">print</span> <span class="s2">&quot;</span><span class="se">\n</span><span class="s2">Le joueur courant (numéro %i) joue aléatoirement.</span><span class="se">\n</span><span class="s2">&quot;</span> <span class="n">id</span><span class="o">;</span>
  <span class="k">let</span> <span class="n">indices</span> <span class="o">=</span> <span class="n">array_filter</span> <span class="o">(</span> <span class="k">fun</span> <span class="n">i</span> <span class="o">-&gt;</span> <span class="o">(</span><span class="n">config</span><span class="o">.(</span><span class="n">i</span><span class="o">)</span> <span class="o">&gt;</span> <span class="mi">0</span><span class="o">)</span> <span class="o">)</span> <span class="o">(</span><span class="nn">Array</span><span class="p">.</span><span class="n">init</span> <span class="o">(</span><span class="nn">Array</span><span class="p">.</span><span class="n">length</span> <span class="n">config</span><span class="o">)</span> <span class="o">(</span><span class="k">fun</span> <span class="n">i</span> <span class="o">-&gt;</span> <span class="n">i</span><span class="o">))</span> <span class="k">in</span>
  <span class="k">let</span> <span class="n">i</span> <span class="o">=</span> <span class="n">choose</span> <span class="n">indices</span> <span class="k">in</span>
  <span class="n">print</span> <span class="s2">&quot;Le joueur (%i) choisi de regarder la %i-ième rangée.</span><span class="se">\n</span><span class="s2">&quot;</span> <span class="n">id</span> <span class="n">i</span><span class="o">;</span>
  <span class="k">let</span> <span class="n">nbAEnlever</span> <span class="o">=</span> <span class="mi">1</span> <span class="o">+</span> <span class="nn">Random</span><span class="p">.</span><span class="n">int</span> <span class="n">config</span><span class="o">.(</span><span class="n">i</span><span class="o">)</span> <span class="k">in</span>
  <span class="n">print</span> <span class="s2">&quot;Le joueur (%i) choisi d&#39;enlever %i allumettes parmi les %i disponibles.</span><span class="se">\n</span><span class="s2">&quot;</span> <span class="n">id</span> <span class="n">nbAEnlever</span> <span class="n">config</span><span class="o">.(</span><span class="n">i</span><span class="o">);</span>
  <span class="k">let</span> <span class="n">config&#39;</span> <span class="o">=</span> <span class="nn">Array</span><span class="p">.</span><span class="n">copy</span> <span class="n">config</span> <span class="k">in</span>
  <span class="n">config&#39;</span><span class="o">.(</span><span class="n">i</span><span class="o">)</span> <span class="o">&lt;-</span> <span class="n">config</span><span class="o">.(</span><span class="n">i</span><span class="o">)</span> <span class="o">-</span> <span class="n">nbAEnlever</span><span class="o">;</span>
  <span class="n">config&#39;</span><span class="o">;</span>
<span class="o">;;</span>
</pre></div>

    </div>
</div>
</div>

<div class="output_wrapper">
<div class="output">


<div class="output_area">

    <div class="prompt output_prompt">Out[20]:</div>



<div class="output_html rendered_html output_subarea output_execute_result">
<pre style="color:slategray;max-height:100px;overflow:hidden" 
onclick="
if (this.style.maxHeight === 'none') 
    this.style.maxHeight = '100px';
else
    this.style.maxHeight = 'none'; 
">val random : ?id:int -&gt; int array -&gt; int array = &lt;fun&gt;
</pre>
</div>

</div>

</div>
</div>

</div>
<div class="cell border-box-sizing text_cell rendered"><div class="prompt input_prompt">
</div><div class="inner_cell">
<div class="text_cell_render border-box-sizing rendered_html">
<h2 id="1.4-Deux-exemples,-manuellement">1.4 Deux exemples, manuellement<a class="anchor-link" href="#1.4-Deux-exemples,-manuellement">&#182;</a></h2>
</div>
</div>
</div>
<div class="cell border-box-sizing text_cell rendered"><div class="prompt input_prompt">
</div><div class="inner_cell">
<div class="text_cell_render border-box-sizing rendered_html">
<h3 id="1.4.1-Premier-exemple">1.4.1 Premier exemple<a class="anchor-link" href="#1.4.1-Premier-exemple">&#182;</a></h3>
</div>
</div>
</div>
<div class="cell border-box-sizing text_cell rendered"><div class="prompt input_prompt">
</div><div class="inner_cell">
<div class="text_cell_render border-box-sizing rendered_html">
<p>On peut ainsi faire un exemple de début de partie entre deux joueurs "stupides" :</p>

</div>
</div>
</div>
<div class="cell border-box-sizing code_cell rendered">
<div class="input">
<div class="prompt input_prompt">In&nbsp;[43]:</div>
<div class="inner_cell">
    <div class="input_area">
<div class=" highlight hl-ocaml"><pre><span></span><span class="k">let</span> <span class="n">a0</span> <span class="o">=</span> <span class="n">a</span> <span class="o">;;</span> <span class="c">(* Debut du jeu *)</span>
<span class="n">print_nim</span> <span class="n">a0</span> <span class="o">;;</span>
<span class="k">let</span> <span class="n">a1</span> <span class="o">=</span> <span class="n">random</span> <span class="o">~</span><span class="n">id</span><span class="o">:</span><span class="mi">0</span> <span class="n">a0</span> <span class="o">;;</span>
<span class="n">print_nim</span> <span class="n">a1</span> <span class="o">;;</span>
<span class="k">let</span> <span class="n">a2</span> <span class="o">=</span> <span class="n">random</span> <span class="o">~</span><span class="n">id</span><span class="o">:</span><span class="mi">1</span> <span class="n">a1</span> <span class="o">;;</span>
<span class="n">print_nim</span> <span class="n">a2</span> <span class="o">;;</span>
<span class="k">let</span> <span class="n">a3</span> <span class="o">=</span> <span class="n">random</span> <span class="o">~</span><span class="n">id</span><span class="o">:</span><span class="mi">0</span> <span class="n">a2</span> <span class="o">;;</span>
<span class="n">print_nim</span> <span class="n">a3</span> <span class="o">;;</span>
<span class="c">(* ... etc *)</span>
</pre></div>

    </div>
</div>
</div>

<div class="output_wrapper">
<div class="output">


<div class="output_area">

    <div class="prompt"></div>


<div class="output_subarea output_stream output_stdout output_text">
<pre>0: ! 
1: ! ! ! 
2: ! ! ! ! ! 
Le joueur courant (numéro 0) joue aléatoirement.
Le joueur (0) choisi de regarder la 2-ième rangée.
Le joueur (0) choisi d&#39;enlever 1 allumettes parmi les 5 disponibles.

0: ! 
1: ! ! ! 
2: ! ! ! ! 
Le joueur courant (numéro 1) joue aléatoirement.
Le joueur (1) choisi de regarder la 2-ième rangée.
Le joueur (1) choisi d&#39;enlever 2 allumettes parmi les 4 disponibles.

0: ! 
1: ! ! ! 
2: ! ! 
Le joueur courant (numéro 0) joue aléatoirement.
Le joueur (0) choisi de regarder la 0-ième rangée.
Le joueur (0) choisi d&#39;enlever 1 allumettes parmi les 1 disponibles.

0: 
1: ! ! ! 
2: ! ! </pre>
</div>
</div>

<div class="output_area">

    <div class="prompt output_prompt">Out[43]:</div>



<div class="output_html rendered_html output_subarea output_execute_result">
<pre style="color:slategray;max-height:100px;overflow:hidden" 
onclick="
if (this.style.maxHeight === 'none') 
    this.style.maxHeight = '100px';
else
    this.style.maxHeight = 'none'; 
">val a0 : int array = [|1; 3; 5|]
</pre>
</div>

</div>

<div class="output_area">

    <div class="prompt output_prompt">Out[43]:</div>



<div class="output_html rendered_html output_subarea output_execute_result">
<pre style="color:slategray;max-height:100px;overflow:hidden" 
onclick="
if (this.style.maxHeight === 'none') 
    this.style.maxHeight = '100px';
else
    this.style.maxHeight = 'none'; 
">- : unit = ()
</pre>
</div>

</div>

<div class="output_area">

    <div class="prompt output_prompt">Out[43]:</div>



<div class="output_html rendered_html output_subarea output_execute_result">
<pre style="color:slategray;max-height:100px;overflow:hidden" 
onclick="
if (this.style.maxHeight === 'none') 
    this.style.maxHeight = '100px';
else
    this.style.maxHeight = 'none'; 
">val a1 : int array = [|1; 3; 4|]
</pre>
</div>

</div>

<div class="output_area">

    <div class="prompt output_prompt">Out[43]:</div>



<div class="output_html rendered_html output_subarea output_execute_result">
<pre style="color:slategray;max-height:100px;overflow:hidden" 
onclick="
if (this.style.maxHeight === 'none') 
    this.style.maxHeight = '100px';
else
    this.style.maxHeight = 'none'; 
">- : unit = ()
</pre>
</div>

</div>

<div class="output_area">

    <div class="prompt output_prompt">Out[43]:</div>



<div class="output_html rendered_html output_subarea output_execute_result">
<pre style="color:slategray;max-height:100px;overflow:hidden" 
onclick="
if (this.style.maxHeight === 'none') 
    this.style.maxHeight = '100px';
else
    this.style.maxHeight = 'none'; 
">val a2 : int array = [|1; 3; 2|]
</pre>
</div>

</div>

<div class="output_area">

    <div class="prompt output_prompt">Out[43]:</div>



<div class="output_html rendered_html output_subarea output_execute_result">
<pre style="color:slategray;max-height:100px;overflow:hidden" 
onclick="
if (this.style.maxHeight === 'none') 
    this.style.maxHeight = '100px';
else
    this.style.maxHeight = 'none'; 
">- : unit = ()
</pre>
</div>

</div>

<div class="output_area">

    <div class="prompt output_prompt">Out[43]:</div>



<div class="output_html rendered_html output_subarea output_execute_result">
<pre style="color:slategray;max-height:100px;overflow:hidden" 
onclick="
if (this.style.maxHeight === 'none') 
    this.style.maxHeight = '100px';
else
    this.style.maxHeight = 'none'; 
">val a3 : int array = [|0; 3; 2|]
</pre>
</div>

</div>

<div class="output_area">

    <div class="prompt output_prompt">Out[43]:</div>



<div class="output_html rendered_html output_subarea output_execute_result">
<pre style="color:slategray;max-height:100px;overflow:hidden" 
onclick="
if (this.style.maxHeight === 'none') 
    this.style.maxHeight = '100px';
else
    this.style.maxHeight = 'none'; 
">- : unit = ()
</pre>
</div>

</div>

</div>
</div>

</div>
<div class="cell border-box-sizing text_cell rendered"><div class="prompt input_prompt">
</div><div class="inner_cell">
<div class="text_cell_render border-box-sizing rendered_html">
<h3 id="1.4.2-Second-exemple">1.4.2 Second exemple<a class="anchor-link" href="#1.4.2-Second-exemple">&#182;</a></h3>
</div>
</div>
</div>
<div class="cell border-box-sizing text_cell rendered"><div class="prompt input_prompt">
</div><div class="inner_cell">
<div class="text_cell_render border-box-sizing rendered_html">
<p>On peut aussi faire le même exemple de début de partie entre un joueur "optimal" et un joueur "stupide" :</p>

</div>
</div>
</div>
<div class="cell border-box-sizing code_cell rendered">
<div class="input">
<div class="prompt input_prompt">In&nbsp;[44]:</div>
<div class="inner_cell">
    <div class="input_area">
<div class=" highlight hl-ocaml"><pre><span></span><span class="k">let</span> <span class="n">c</span> <span class="o">=</span> <span class="o">[|</span> <span class="mi">2</span><span class="o">;</span> <span class="mi">3</span><span class="o">;</span> <span class="mi">2</span> <span class="o">|]</span> <span class="o">;;</span>
<span class="k">let</span> <span class="n">a0</span> <span class="o">=</span> <span class="n">c</span> <span class="o">;;</span> <span class="c">(* Debut du jeu *)</span>
<span class="n">print_nim</span> <span class="n">a0</span> <span class="o">;;</span>
<span class="k">let</span> <span class="n">a1</span> <span class="o">=</span> <span class="n">next</span> <span class="o">~</span><span class="n">id</span><span class="o">:</span><span class="mi">0</span> <span class="n">a0</span> <span class="o">;;</span>
<span class="n">print_nim</span> <span class="n">a1</span> <span class="o">;;</span>
<span class="k">let</span> <span class="n">a2</span> <span class="o">=</span> <span class="n">random</span> <span class="o">~</span><span class="n">id</span><span class="o">:</span><span class="mi">1</span> <span class="n">a1</span> <span class="o">;;</span>
<span class="n">print_nim</span> <span class="n">a2</span> <span class="o">;;</span>
<span class="k">let</span> <span class="n">a3</span> <span class="o">=</span> <span class="n">next</span> <span class="o">~</span><span class="n">id</span><span class="o">:</span><span class="mi">0</span> <span class="n">a2</span> <span class="o">;;</span>
<span class="n">print_nim</span> <span class="n">a3</span> <span class="o">;;</span>
<span class="c">(* ... etc *)</span>
</pre></div>

    </div>
</div>
</div>

<div class="output_wrapper">
<div class="output">


<div class="output_area">

    <div class="prompt"></div>


<div class="output_subarea output_stream output_stdout output_text">
<pre>0: ! ! 
1: ! ! ! 
2: ! ! 

Il y a une stratégie gagnante :

Le joueur courant (numéro 0) doit enlever 1 allumette à la 2-ième rangée.
0: ! ! 
1: ! ! ! 
2: ! 
Le joueur courant (numéro 1) joue aléatoirement.
Le joueur (1) choisi de regarder la 0-ième rangée.
Le joueur (1) choisi d&#39;enlever 1 allumettes parmi les 2 disponibles.

0: ! 
1: ! ! ! 
2: ! 

Il y a une stratégie gagnante :

Le joueur courant (numéro 0) doit enlever 3 allumette à la 1-ième rangée.
0: ! 
1: 
2: ! </pre>
</div>
</div>

<div class="output_area">

    <div class="prompt output_prompt">Out[44]:</div>



<div class="output_html rendered_html output_subarea output_execute_result">
<pre style="color:slategray;max-height:100px;overflow:hidden" 
onclick="
if (this.style.maxHeight === 'none') 
    this.style.maxHeight = '100px';
else
    this.style.maxHeight = 'none'; 
">val c : int array = [|2; 3; 2|]
</pre>
</div>

</div>

<div class="output_area">

    <div class="prompt output_prompt">Out[44]:</div>



<div class="output_html rendered_html output_subarea output_execute_result">
<pre style="color:slategray;max-height:100px;overflow:hidden" 
onclick="
if (this.style.maxHeight === 'none') 
    this.style.maxHeight = '100px';
else
    this.style.maxHeight = 'none'; 
">val a0 : int array = [|2; 3; 2|]
</pre>
</div>

</div>

<div class="output_area">

    <div class="prompt output_prompt">Out[44]:</div>



<div class="output_html rendered_html output_subarea output_execute_result">
<pre style="color:slategray;max-height:100px;overflow:hidden" 
onclick="
if (this.style.maxHeight === 'none') 
    this.style.maxHeight = '100px';
else
    this.style.maxHeight = 'none'; 
">- : unit = ()
</pre>
</div>

</div>

<div class="output_area">

    <div class="prompt output_prompt">Out[44]:</div>



<div class="output_html rendered_html output_subarea output_execute_result">
<pre style="color:slategray;max-height:100px;overflow:hidden" 
onclick="
if (this.style.maxHeight === 'none') 
    this.style.maxHeight = '100px';
else
    this.style.maxHeight = 'none'; 
">val a1 : int array = [|2; 3; 1|]
</pre>
</div>

</div>

<div class="output_area">

    <div class="prompt output_prompt">Out[44]:</div>



<div class="output_html rendered_html output_subarea output_execute_result">
<pre style="color:slategray;max-height:100px;overflow:hidden" 
onclick="
if (this.style.maxHeight === 'none') 
    this.style.maxHeight = '100px';
else
    this.style.maxHeight = 'none'; 
">- : unit = ()
</pre>
</div>

</div>

<div class="output_area">

    <div class="prompt output_prompt">Out[44]:</div>



<div class="output_html rendered_html output_subarea output_execute_result">
<pre style="color:slategray;max-height:100px;overflow:hidden" 
onclick="
if (this.style.maxHeight === 'none') 
    this.style.maxHeight = '100px';
else
    this.style.maxHeight = 'none'; 
">val a2 : int array = [|1; 3; 1|]
</pre>
</div>

</div>

<div class="output_area">

    <div class="prompt output_prompt">Out[44]:</div>



<div class="output_html rendered_html output_subarea output_execute_result">
<pre style="color:slategray;max-height:100px;overflow:hidden" 
onclick="
if (this.style.maxHeight === 'none') 
    this.style.maxHeight = '100px';
else
    this.style.maxHeight = 'none'; 
">- : unit = ()
</pre>
</div>

</div>

<div class="output_area">

    <div class="prompt output_prompt">Out[44]:</div>



<div class="output_html rendered_html output_subarea output_execute_result">
<pre style="color:slategray;max-height:100px;overflow:hidden" 
onclick="
if (this.style.maxHeight === 'none') 
    this.style.maxHeight = '100px';
else
    this.style.maxHeight = 'none'; 
">val a3 : int array = [|1; 0; 1|]
</pre>
</div>

</div>

<div class="output_area">

    <div class="prompt output_prompt">Out[44]:</div>



<div class="output_html rendered_html output_subarea output_execute_result">
<pre style="color:slategray;max-height:100px;overflow:hidden" 
onclick="
if (this.style.maxHeight === 'none') 
    this.style.maxHeight = '100px';
else
    this.style.maxHeight = 'none'; 
">- : unit = ()
</pre>
</div>

</div>

</div>
</div>

</div>
<div class="cell border-box-sizing text_cell rendered"><div class="prompt input_prompt">
</div><div class="inner_cell">
<div class="text_cell_render border-box-sizing rendered_html">
<h2 id="1.5-Un-bonus-:-simulation-du-jeu">1.5 Un bonus : <em>simulation du jeu</em><a class="anchor-link" href="#1.5-Un-bonus-:-simulation-du-jeu">&#182;</a></h2>
</div>
</div>
</div>
<div class="cell border-box-sizing text_cell rendered"><div class="prompt input_prompt">
</div><div class="inner_cell">
<div class="text_cell_render border-box-sizing rendered_html">
<p>Maintenant qu'on dispose d'un joueur stupide et d'un joueur optimal, on peut rapidement coder une petite fonction qui les fera s'affronter (même si c'est un peu cruel envers le pauvre joueur "stupide" purement aléatoire !).</p>

</div>
</div>
</div>
<div class="cell border-box-sizing code_cell rendered">
<div class="input">
<div class="prompt input_prompt">In&nbsp;[23]:</div>
<div class="inner_cell">
    <div class="input_area">
<div class=" highlight hl-ocaml"><pre><span></span><span class="k">exception</span> <span class="nc">Perdu</span> <span class="k">of</span> <span class="kt">int</span><span class="o">;;</span>
</pre></div>

    </div>
</div>
</div>

<div class="output_wrapper">
<div class="output">


<div class="output_area">

    <div class="prompt output_prompt">Out[23]:</div>



<div class="output_html rendered_html output_subarea output_execute_result">
<pre style="color:slategray;max-height:100px;overflow:hidden" 
onclick="
if (this.style.maxHeight === 'none') 
    this.style.maxHeight = '100px';
else
    this.style.maxHeight = 'none'; 
">exception Perdu of int
</pre>
</div>

</div>

</div>
</div>

</div>
<div class="cell border-box-sizing text_cell rendered"><div class="prompt input_prompt">
</div><div class="inner_cell">
<div class="text_cell_render border-box-sizing rendered_html">
<h3 id="1.5.1-Simulation-de-plusieurs-&#233;tapes">1.5.1 Simulation de plusieurs &#233;tapes<a class="anchor-link" href="#1.5.1-Simulation-de-plusieurs-&#233;tapes">&#182;</a></h3>
</div>
</div>
</div>
<div class="cell border-box-sizing text_cell rendered"><div class="prompt input_prompt">
</div><div class="inner_cell">
<div class="text_cell_render border-box-sizing rendered_html">
<p>La fonction <code>kpas</code> va jouer la partie, en partant de la configuration donnée, en commençant par le joueur <code>id</code> et pour un certain nombre de coups joués (<code>nbPas</code>).
Si on ne donne pas ce nombre de coups, le nombre total d'allumette est utilisé (sachant qu'une partie se termine souvent par une exception <code>Pas_de_Strat_Gagnante</code> lorsque le joueur optimal ne peut plus gagner).</p>

</div>
</div>
</div>
<div class="cell border-box-sizing code_cell rendered">
<div class="input">
<div class="prompt input_prompt">In&nbsp;[45]:</div>
<div class="inner_cell">
    <div class="input_area">
<div class=" highlight hl-ocaml"><pre><span></span><span class="k">let</span> <span class="n">kpas</span> <span class="n">config</span> <span class="n">id</span> <span class="n">nbPas</span> <span class="o">=</span>
  <span class="k">let</span> <span class="n">id</span> <span class="o">=</span> <span class="n">ref</span> <span class="n">id</span> <span class="k">in</span>
  <span class="k">let</span> <span class="n">config&#39;</span> <span class="o">=</span> <span class="n">ref</span> <span class="o">(</span><span class="nn">Array</span><span class="p">.</span><span class="n">copy</span> <span class="n">config</span><span class="o">)</span> <span class="k">in</span>
  <span class="k">for</span> <span class="n">i</span> <span class="o">=</span> <span class="mi">1</span> <span class="k">to</span> <span class="n">nbPas</span> <span class="k">do</span>
    <span class="n">print</span> <span class="s2">&quot;</span><span class="se">\n</span><span class="s2">Tour numéro %i.&quot;</span> <span class="n">i</span><span class="o">;</span>
    <span class="n">print_nim</span> <span class="o">!</span><span class="n">config&#39;</span><span class="o">;</span>
    <span class="n">print</span> <span class="s2">&quot;</span><span class="se">\n</span><span class="s2">&quot;</span><span class="o">;</span>
    <span class="k">if</span> <span class="o">(</span><span class="nn">Array</span><span class="p">.</span><span class="n">fold_left</span> <span class="o">(</span> <span class="o">+</span> <span class="o">)</span> <span class="mi">0</span> <span class="o">!</span><span class="n">config&#39;</span><span class="o">)</span> <span class="o">=</span> <span class="mi">0</span> <span class="k">then</span> <span class="k">raise</span> <span class="o">(</span><span class="nc">Perdu</span> <span class="o">!</span><span class="n">id</span><span class="o">);</span>
    <span class="k">begin</span>
      <span class="k">if</span> <span class="o">!</span><span class="n">id</span> <span class="o">=</span> <span class="mi">0</span> <span class="k">then</span> <span class="c">(** Le joueur 0 joue bien. *)</span>
        <span class="n">config&#39;</span> <span class="o">:=</span> <span class="n">next</span>   <span class="o">~</span><span class="n">id</span><span class="o">:(!</span><span class="n">id</span><span class="o">)</span> <span class="o">!</span><span class="n">config&#39;</span>
      <span class="k">else</span> <span class="c">(** Mais le joueur 1 joue aléatoirement. *)</span>
        <span class="n">config&#39;</span> <span class="o">:=</span> <span class="n">random</span> <span class="o">~</span><span class="n">id</span><span class="o">:(!</span><span class="n">id</span><span class="o">)</span> <span class="o">!</span><span class="n">config&#39;</span>
    <span class="k">end</span><span class="o">;</span>
    <span class="n">id</span> <span class="o">:=</span> <span class="mi">1</span> <span class="o">-</span> <span class="o">!</span><span class="n">id</span><span class="o">;</span> <span class="c">(** Juste pour alterner entre 0 et 1 : 0 -&gt; 1, 1 -&gt; 0 *)</span>
  <span class="k">done</span><span class="o">;</span>
  <span class="o">!</span><span class="n">config&#39;</span><span class="o">;</span>
<span class="o">;;</span>
</pre></div>

    </div>
</div>
</div>

<div class="output_wrapper">
<div class="output">


<div class="output_area">

    <div class="prompt output_prompt">Out[45]:</div>



<div class="output_html rendered_html output_subarea output_execute_result">
<pre style="color:slategray;max-height:100px;overflow:hidden" 
onclick="
if (this.style.maxHeight === 'none') 
    this.style.maxHeight = '100px';
else
    this.style.maxHeight = 'none'; 
">val kpas : int array -&gt; int -&gt; int -&gt; int array = &lt;fun&gt;
</pre>
</div>

</div>

</div>
</div>

</div>
<div class="cell border-box-sizing text_cell rendered"><div class="prompt input_prompt">
</div><div class="inner_cell">
<div class="text_cell_render border-box-sizing rendered_html">
<p>On peut finalement implementer une jolie fonction qui simule en partant du joueur <code>0</code> (comme le vrai jeu de Nim) et interprète l'exception renvoyée pour afficher l'issue du jeu :</p>

</div>
</div>
</div>
<div class="cell border-box-sizing code_cell rendered">
<div class="input">
<div class="prompt input_prompt">In&nbsp;[46]:</div>
<div class="inner_cell">
    <div class="input_area">
<div class=" highlight hl-ocaml"><pre><span></span><span class="k">let</span> <span class="n">simulation</span> <span class="n">config</span> <span class="o">=</span>
  <span class="c">(** On compte le nombre total d&#39;allumettes. *)</span>
  <span class="k">let</span> <span class="n">n</span> <span class="o">=</span> <span class="nn">Array</span><span class="p">.</span><span class="n">fold_left</span> <span class="o">(</span><span class="k">fun</span> <span class="n">i</span> <span class="n">j</span> <span class="o">-&gt;</span> <span class="n">i</span> <span class="o">+</span> <span class="n">j</span> <span class="o">+</span> <span class="mi">1</span><span class="o">)</span> <span class="mi">0</span> <span class="n">config</span> <span class="k">in</span>
  <span class="c">(** Puis on lance le joueur 0 avec au plus [n] pas. *)</span>
  <span class="n">kpas</span> <span class="n">config</span> <span class="mi">0</span> <span class="n">n</span><span class="o">;</span>
<span class="o">;;</span>

<span class="c">(** Dernière fonction, [nim], qui lance [simulation] et rattrape les exceptions. *)</span>
<span class="k">let</span> <span class="n">nim</span> <span class="n">a</span> <span class="o">=</span>
  <span class="k">let</span> <span class="n">resultat</span> <span class="o">=</span>
    <span class="c">(* try ignore (simulation a) with *)</span>
    <span class="k">try</span> <span class="n">ignore</span><span class="o">(</span><span class="n">simulation</span> <span class="n">a</span><span class="o">);</span> <span class="nc">None</span> <span class="k">with</span>
      <span class="o">|</span> <span class="nc">Perdu</span> <span class="n">i</span> <span class="o">-&gt;</span> <span class="o">(</span><span class="nc">Some</span> <span class="n">i</span><span class="o">)</span>
      <span class="o">|</span> <span class="nc">Pas_de_Strat_Gagnante</span> <span class="o">-&gt;</span> <span class="nc">None</span>
  <span class="k">in</span>
  <span class="k">begin</span>
    <span class="k">match</span> <span class="n">resultat</span> <span class="k">with</span>
    <span class="o">|</span> <span class="nc">None</span> <span class="o">-&gt;</span> <span class="n">print</span> <span class="s2">&quot;Blocage à cause de la stratégie optimisée.</span><span class="se">\n\n</span><span class="s2">&quot;</span>
    <span class="o">|</span> <span class="nc">Some</span> <span class="n">i</span> <span class="o">-&gt;</span> <span class="n">print</span> <span class="s2">&quot;</span><span class="se">\n</span><span class="s2"> ==&gt; Le joueur %i a perdu !</span><span class="se">\n\n</span><span class="s2">&quot;</span> <span class="n">i</span>
  <span class="k">end</span><span class="o">;</span>
  <span class="n">resultat</span>
<span class="o">;;</span>
</pre></div>

    </div>
</div>
</div>

<div class="output_wrapper">
<div class="output">


<div class="output_area">

    <div class="prompt output_prompt">Out[46]:</div>



<div class="output_html rendered_html output_subarea output_execute_result">
<pre style="color:slategray;max-height:100px;overflow:hidden" 
onclick="
if (this.style.maxHeight === 'none') 
    this.style.maxHeight = '100px';
else
    this.style.maxHeight = 'none'; 
">val simulation : int array -&gt; int array = &lt;fun&gt;
</pre>
</div>

</div>

<div class="output_area">

    <div class="prompt output_prompt">Out[46]:</div>



<div class="output_html rendered_html output_subarea output_execute_result">
<pre style="color:slategray;max-height:100px;overflow:hidden" 
onclick="
if (this.style.maxHeight === 'none') 
    this.style.maxHeight = '100px';
else
    this.style.maxHeight = 'none'; 
">val nim : int array -&gt; int option = &lt;fun&gt;
</pre>
</div>

</div>

</div>
</div>

</div>
<div class="cell border-box-sizing text_cell rendered"><div class="prompt input_prompt">
</div><div class="inner_cell">
<div class="text_cell_render border-box-sizing rendered_html">
<h3 id="1.5.2-Exemple-:">1.5.2 Exemple :<a class="anchor-link" href="#1.5.2-Exemple-:">&#182;</a></h3>
</div>
</div>
</div>
<div class="cell border-box-sizing code_cell rendered">
<div class="input">
<div class="prompt input_prompt">In&nbsp;[47]:</div>
<div class="inner_cell">
    <div class="input_area">
<div class=" highlight hl-ocaml"><pre><span></span><span class="n">nim</span> <span class="n">a</span><span class="o">;;</span>
</pre></div>

    </div>
</div>
</div>

<div class="output_wrapper">
<div class="output">


<div class="output_area">

    <div class="prompt"></div>


<div class="output_subarea output_stream output_stdout output_text">
<pre>Tour numéro 1.
0: ! 
1: ! ! ! 
2: ! ! ! ! ! 


Il y a une stratégie gagnante :

Le joueur courant (numéro 0) doit enlever 3 allumette à la 2-ième rangée.
Tour numéro 2.
0: ! 
1: ! ! ! 
2: ! ! 

Le joueur courant (numéro 1) joue aléatoirement.
Le joueur (1) choisi de regarder la 2-ième rangée.
Le joueur (1) choisi d&#39;enlever 2 allumettes parmi les 2 disponibles.

Tour numéro 3.
0: ! 
1: ! ! ! 
2: 


Il y a une stratégie gagnante :

Le joueur courant (numéro 0) doit enlever 2 allumette à la 1-ième rangée.
Tour numéro 4.
0: ! 
1: ! 
2: 

Le joueur courant (numéro 1) joue aléatoirement.
Le joueur (1) choisi de regarder la 1-ième rangée.
Le joueur (1) choisi d&#39;enlever 1 allumettes parmi les 1 disponibles.

Tour numéro 5.
0: ! 
1: 
2: 


Il y a une stratégie gagnante :

Le joueur courant (numéro 0) doit enlever 1 allumette à la 0-ième rangée.
Tour numéro 6.
0: 
1: 
2: 

 ==&gt; Le joueur 1 a perdu !

</pre>
</div>
</div>

<div class="output_area">

    <div class="prompt output_prompt">Out[47]:</div>



<div class="output_html rendered_html output_subarea output_execute_result">
<pre style="color:slategray;max-height:100px;overflow:hidden" 
onclick="
if (this.style.maxHeight === 'none') 
    this.style.maxHeight = '100px';
else
    this.style.maxHeight = 'none'; 
">- : int option = Some 1
</pre>
</div>

</div>

</div>
</div>

</div>
<div class="cell border-box-sizing code_cell rendered">
<div class="input">
<div class="prompt input_prompt">In&nbsp;[48]:</div>
<div class="inner_cell">
    <div class="input_area">
<div class=" highlight hl-ocaml"><pre><span></span><span class="n">nim</span> <span class="n">b</span><span class="o">;;</span>
</pre></div>

    </div>
</div>
</div>

<div class="output_wrapper">
<div class="output">


<div class="output_area">

    <div class="prompt"></div>


<div class="output_subarea output_stream output_stdout output_text">
<pre>Tour numéro 1.
0: ! 
1: ! ! ! 
2: ! ! 
Blocage à cause de la stratégie optimisée.

</pre>
</div>
</div>

<div class="output_area">

    <div class="prompt output_prompt">Out[48]:</div>



<div class="output_html rendered_html output_subarea output_execute_result">
<pre style="color:slategray;max-height:100px;overflow:hidden" 
onclick="
if (this.style.maxHeight === 'none') 
    this.style.maxHeight = '100px';
else
    this.style.maxHeight = 'none'; 
">- : int option = None
</pre>
</div>

</div>

</div>
</div>

</div>
<div class="cell border-box-sizing text_cell rendered"><div class="prompt input_prompt">
</div><div class="inner_cell">
<div class="text_cell_render border-box-sizing rendered_html">
<blockquote><p>Pas très utile jusqu'ici...</p>
</blockquote>

</div>
</div>
</div>
<div class="cell border-box-sizing code_cell rendered">
<div class="input">
<div class="prompt input_prompt">In&nbsp;[49]:</div>
<div class="inner_cell">
    <div class="input_area">
<div class=" highlight hl-ocaml"><pre><span></span><span class="n">nim</span> <span class="n">c</span><span class="o">;;</span>
</pre></div>

    </div>
</div>
</div>

<div class="output_wrapper">
<div class="output">


<div class="output_area">

    <div class="prompt"></div>


<div class="output_subarea output_stream output_stdout output_text">
<pre>Tour numéro 1.
0: ! ! 
1: ! ! ! 
2: ! ! 


Il y a une stratégie gagnante :

Le joueur courant (numéro 0) doit enlever 1 allumette à la 2-ième rangée.
Tour numéro 2.
0: ! ! 
1: ! ! ! 
2: ! 

Le joueur courant (numéro 1) joue aléatoirement.
Le joueur (1) choisi de regarder la 0-ième rangée.
Le joueur (1) choisi d&#39;enlever 2 allumettes parmi les 2 disponibles.

Tour numéro 3.
0: 
1: ! ! ! 
2: ! 


Il y a une stratégie gagnante :

Le joueur courant (numéro 0) doit enlever 2 allumette à la 1-ième rangée.
Tour numéro 4.
0: 
1: ! 
2: ! 

Le joueur courant (numéro 1) joue aléatoirement.
Le joueur (1) choisi de regarder la 1-ième rangée.
Le joueur (1) choisi d&#39;enlever 1 allumettes parmi les 1 disponibles.

Tour numéro 5.
0: 
1: 
2: ! 


Il y a une stratégie gagnante :

Le joueur courant (numéro 0) doit enlever 1 allumette à la 2-ième rangée.
Tour numéro 6.
0: 
1: 
2: 

 ==&gt; Le joueur 1 a perdu !

</pre>
</div>
</div>

<div class="output_area">

    <div class="prompt output_prompt">Out[49]:</div>



<div class="output_html rendered_html output_subarea output_execute_result">
<pre style="color:slategray;max-height:100px;overflow:hidden" 
onclick="
if (this.style.maxHeight === 'none') 
    this.style.maxHeight = '100px';
else
    this.style.maxHeight = 'none'; 
">- : int option = Some 1
</pre>
</div>

</div>

</div>
</div>

</div>
<div class="cell border-box-sizing text_cell rendered"><div class="prompt input_prompt">
</div><div class="inner_cell">
<div class="text_cell_render border-box-sizing rendered_html">
<h3 id="1.5.3-G&#233;n&#233;rer-des-configurations-al&#233;atoires">1.5.3 G&#233;n&#233;rer des configurations al&#233;atoires<a class="anchor-link" href="#1.5.3-G&#233;n&#233;rer-des-configurations-al&#233;atoires">&#182;</a></h3>
</div>
</div>
</div>
<div class="cell border-box-sizing text_cell rendered"><div class="prompt input_prompt">
</div><div class="inner_cell">
<div class="text_cell_render border-box-sizing rendered_html">
<p>On peut écrire une fonction qui génére une configuration aléatoire, et ensuite lancer notre simulation <code>nim()</code> dessus, pour voir ce que ça donne sur une configuration plus grande.</p>
<p>La fonction <code>randomstart(k, p)</code> va générer une configuration aléatoire :</p>
<ul>
<li>avec un nombre de lignes uniforme dans <code>{1, ..., k}</code>,</li>
<li>et un nombre d'allumettes uniforme dans <code>{1, ..., p}</code> pour chaque ligne.</li>
</ul>

</div>
</div>
</div>
<div class="cell border-box-sizing code_cell rendered">
<div class="input">
<div class="prompt input_prompt">In&nbsp;[29]:</div>
<div class="inner_cell">
    <div class="input_area">
<div class=" highlight hl-ocaml"><pre><span></span><span class="k">let</span> <span class="n">randomstart</span> <span class="n">k</span> <span class="n">p</span> <span class="bp">()</span> <span class="o">=</span> <span class="nn">Array</span><span class="p">.</span><span class="n">init</span> <span class="o">(</span><span class="mi">1</span> <span class="o">+</span> <span class="nn">Random</span><span class="p">.</span><span class="n">int</span> <span class="n">k</span><span class="o">)</span> <span class="o">(</span><span class="k">fun</span> <span class="n">i</span> <span class="o">-&gt;</span> <span class="mi">1</span> <span class="o">+</span> <span class="nn">Random</span><span class="p">.</span><span class="n">int</span> <span class="n">p</span><span class="o">);;</span>
</pre></div>

    </div>
</div>
</div>

<div class="output_wrapper">
<div class="output">


<div class="output_area">

    <div class="prompt output_prompt">Out[29]:</div>



<div class="output_html rendered_html output_subarea output_execute_result">
<pre style="color:slategray;max-height:100px;overflow:hidden" 
onclick="
if (this.style.maxHeight === 'none') 
    this.style.maxHeight = '100px';
else
    this.style.maxHeight = 'none'; 
">val randomstart : int -&gt; int -&gt; unit -&gt; int array = &lt;fun&gt;
</pre>
</div>

</div>

</div>
</div>

</div>
<div class="cell border-box-sizing text_cell rendered"><div class="prompt input_prompt">
</div><div class="inner_cell">
<div class="text_cell_render border-box-sizing rendered_html">
<p>Par exemple :</p>

</div>
</div>
</div>
<div class="cell border-box-sizing code_cell rendered">
<div class="input">
<div class="prompt input_prompt">In&nbsp;[30]:</div>
<div class="inner_cell">
    <div class="input_area">
<div class=" highlight hl-ocaml"><pre><span></span><span class="k">let</span> <span class="n">c</span> <span class="o">=</span> <span class="n">randomstart</span> <span class="mi">5</span> <span class="mi">8</span> <span class="bp">()</span><span class="o">;;</span>
<span class="n">print_nim</span> <span class="n">c</span><span class="o">;;</span>
</pre></div>

    </div>
</div>
</div>

<div class="output_wrapper">
<div class="output">


<div class="output_area">

    <div class="prompt"></div>


<div class="output_subarea output_stream output_stdout output_text">
<pre>0: ! ! ! ! ! 
1: ! ! 
2: ! ! ! ! ! ! 
3: ! ! </pre>
</div>
</div>

<div class="output_area">

    <div class="prompt output_prompt">Out[30]:</div>



<div class="output_html rendered_html output_subarea output_execute_result">
<pre style="color:slategray;max-height:100px;overflow:hidden" 
onclick="
if (this.style.maxHeight === 'none') 
    this.style.maxHeight = '100px';
else
    this.style.maxHeight = 'none'; 
">val c : int array = [|5; 2; 6; 2|]
</pre>
</div>

</div>

<div class="output_area">

    <div class="prompt output_prompt">Out[30]:</div>



<div class="output_html rendered_html output_subarea output_execute_result">
<pre style="color:slategray;max-height:100px;overflow:hidden" 
onclick="
if (this.style.maxHeight === 'none') 
    this.style.maxHeight = '100px';
else
    this.style.maxHeight = 'none'; 
">- : unit = ()
</pre>
</div>

</div>

</div>
</div>

</div>
<div class="cell border-box-sizing text_cell rendered"><div class="prompt input_prompt">
</div><div class="inner_cell">
<div class="text_cell_render border-box-sizing rendered_html">
<h4 id="Le-joueur-optimal-(d'indice-0)-gagne-toujours">Le joueur <em>optimal</em> (d'indice <code>0</code>) gagne toujours<a class="anchor-link" href="#Le-joueur-optimal-(d'indice-0)-gagne-toujours">&#182;</a></h4>
</div>
</div>
</div>
<div class="cell border-box-sizing code_cell rendered">
<div class="input">
<div class="prompt input_prompt">In&nbsp;[31]:</div>
<div class="inner_cell">
    <div class="input_area">
<div class=" highlight hl-ocaml"><pre><span></span><span class="k">let</span> <span class="n">c</span> <span class="o">=</span> <span class="n">randomstart</span> <span class="mi">5</span> <span class="mi">8</span> <span class="bp">()</span> <span class="o">;;</span>
<span class="n">print</span> <span class="s2">&quot;Configuration random c :&quot;</span> <span class="o">;;</span>
<span class="n">print_nim</span> <span class="n">c</span><span class="o">;;</span>
<span class="n">nim</span> <span class="n">c</span><span class="o">;;</span>
</pre></div>

    </div>
</div>
</div>

<div class="output_wrapper">
<div class="output">


<div class="output_area">

    <div class="prompt"></div>


<div class="output_subarea output_stream output_stdout output_text">
<pre>Configuration random c :
0: ! ! 
1: ! ! ! ! ! ! 
Tour numéro 1.
0: ! ! 
1: ! ! ! ! ! ! 


Il y a une stratégie gagnante :

Le joueur courant (numéro 0) doit enlever 4 allumette à la 1-ième rangée.
Tour numéro 2.
0: ! ! 
1: ! ! 

Le joueur courant (numéro 1) joue aléatoirement.
Le joueur (1) choisi de regarder la 0-ième rangée.
Le joueur (1) choisi d&#39;enlever 2 allumettes parmi les 2 disponibles.

Tour numéro 3.
0: 
1: ! ! 


Il y a une stratégie gagnante :

Le joueur courant (numéro 0) doit enlever 2 allumette à la 1-ième rangée.
Tour numéro 4.
0: 
1: 

 ==&gt; Le joueur 1 a perdu !

</pre>
</div>
</div>

<div class="output_area">

    <div class="prompt output_prompt">Out[31]:</div>



<div class="output_html rendered_html output_subarea output_execute_result">
<pre style="color:slategray;max-height:100px;overflow:hidden" 
onclick="
if (this.style.maxHeight === 'none') 
    this.style.maxHeight = '100px';
else
    this.style.maxHeight = 'none'; 
">val c : int array = [|2; 6|]
</pre>
</div>

</div>

<div class="output_area">

    <div class="prompt output_prompt">Out[31]:</div>



<div class="output_html rendered_html output_subarea output_execute_result">
<pre style="color:slategray;max-height:100px;overflow:hidden" 
onclick="
if (this.style.maxHeight === 'none') 
    this.style.maxHeight = '100px';
else
    this.style.maxHeight = 'none'; 
">- : unit = ()
</pre>
</div>

</div>

<div class="output_area">

    <div class="prompt output_prompt">Out[31]:</div>



<div class="output_html rendered_html output_subarea output_execute_result">
<pre style="color:slategray;max-height:100px;overflow:hidden" 
onclick="
if (this.style.maxHeight === 'none') 
    this.style.maxHeight = '100px';
else
    this.style.maxHeight = 'none'; 
">- : unit = ()
</pre>
</div>

</div>

<div class="output_area">

    <div class="prompt output_prompt">Out[31]:</div>



<div class="output_html rendered_html output_subarea output_execute_result">
<pre style="color:slategray;max-height:100px;overflow:hidden" 
onclick="
if (this.style.maxHeight === 'none') 
    this.style.maxHeight = '100px';
else
    this.style.maxHeight = 'none'; 
">- : int option = Some 1
</pre>
</div>

</div>

</div>
</div>

</div>
<div class="cell border-box-sizing text_cell rendered"><div class="prompt input_prompt">
</div><div class="inner_cell">
<div class="text_cell_render border-box-sizing rendered_html">
<h4 id="Le-joueur-stupide-peut-il-quand-m&#234;me-gagner-?">Le joueur <em>stupide</em> peut-il quand-m&#234;me gagner ?<a class="anchor-link" href="#Le-joueur-stupide-peut-il-quand-m&#234;me-gagner-?">&#182;</a></h4>
</div>
</div>
</div>
<div class="cell border-box-sizing code_cell rendered">
<div class="input">
<div class="prompt input_prompt">In&nbsp;[37]:</div>
<div class="inner_cell">
    <div class="input_area">
<div class=" highlight hl-ocaml"><pre><span></span><span class="n">c</span> <span class="o">=</span> <span class="n">randomstart</span> <span class="mi">5</span> <span class="mi">8</span> <span class="bp">()</span> <span class="o">;;</span>
<span class="n">print</span> <span class="s2">&quot;Configuration random c :&quot;</span> <span class="o">;;</span>
<span class="n">print_nim</span> <span class="n">c</span> <span class="o">;;</span>
<span class="n">nim</span> <span class="n">c</span> <span class="o">;;</span>
</pre></div>

    </div>
</div>
</div>

<div class="output_wrapper">
<div class="output">


<div class="output_area">

    <div class="prompt"></div>


<div class="output_subarea output_stream output_stdout output_text">
<pre>Configuration random c :
0: ! ! 
1: ! ! ! ! ! ! 
Tour numéro 1.
0: ! ! 
1: ! ! ! ! ! ! 


Il y a une stratégie gagnante :

Le joueur courant (numéro 0) doit enlever 4 allumette à la 1-ième rangée.
Tour numéro 2.
0: ! ! 
1: ! ! 

Le joueur courant (numéro 1) joue aléatoirement.
Le joueur (1) choisi de regarder la 1-ième rangée.
Le joueur (1) choisi d&#39;enlever 2 allumettes parmi les 2 disponibles.

Tour numéro 3.
0: ! ! 
1: 


Il y a une stratégie gagnante :

Le joueur courant (numéro 0) doit enlever 1 allumette à la 0-ième rangée.
Tour numéro 4.
0: ! 
1: 

Le joueur courant (numéro 1) joue aléatoirement.
Le joueur (1) choisi de regarder la 0-ième rangée.
Le joueur (1) choisi d&#39;enlever 1 allumettes parmi les 1 disponibles.

Tour numéro 5.
0: 
1: 

 ==&gt; Le joueur 0 a perdu !

</pre>
</div>
</div>

<div class="output_area">

    <div class="prompt output_prompt">Out[37]:</div>



<div class="output_html rendered_html output_subarea output_execute_result">
<pre style="color:slategray;max-height:100px;overflow:hidden" 
onclick="
if (this.style.maxHeight === 'none') 
    this.style.maxHeight = '100px';
else
    this.style.maxHeight = 'none'; 
">- : bool = false
</pre>
</div>

</div>

<div class="output_area">

    <div class="prompt output_prompt">Out[37]:</div>



<div class="output_html rendered_html output_subarea output_execute_result">
<pre style="color:slategray;max-height:100px;overflow:hidden" 
onclick="
if (this.style.maxHeight === 'none') 
    this.style.maxHeight = '100px';
else
    this.style.maxHeight = 'none'; 
">- : unit = ()
</pre>
</div>

</div>

<div class="output_area">

    <div class="prompt output_prompt">Out[37]:</div>



<div class="output_html rendered_html output_subarea output_execute_result">
<pre style="color:slategray;max-height:100px;overflow:hidden" 
onclick="
if (this.style.maxHeight === 'none') 
    this.style.maxHeight = '100px';
else
    this.style.maxHeight = 'none'; 
">- : unit = ()
</pre>
</div>

</div>

<div class="output_area">

    <div class="prompt output_prompt">Out[37]:</div>



<div class="output_html rendered_html output_subarea output_execute_result">
<pre style="color:slategray;max-height:100px;overflow:hidden" 
onclick="
if (this.style.maxHeight === 'none') 
    this.style.maxHeight = '100px';
else
    this.style.maxHeight = 'none'; 
">- : int option = Some 0
</pre>
</div>

</div>

</div>
</div>

</div>
<div class="cell border-box-sizing text_cell rendered"><div class="prompt input_prompt">
</div><div class="inner_cell">
<div class="text_cell_render border-box-sizing rendered_html">
<p>C'est effectivement possible que le joueur <code>0</code> (celui qui commence) perde, même en suivant sa stratégie gagnante.
Si le joueur aléatoire <code>1</code> a de la chance...</p>

</div>
</div>
</div>
<div class="cell border-box-sizing text_cell rendered"><div class="prompt input_prompt">
</div><div class="inner_cell">
<div class="text_cell_render border-box-sizing rendered_html">
<hr>

</div>
</div>
</div>
<div class="cell border-box-sizing text_cell rendered"><div class="prompt input_prompt">
</div><div class="inner_cell">
<div class="text_cell_render border-box-sizing rendered_html">
<h2 id="1.5-Conclusion">1.5 Conclusion<a class="anchor-link" href="#1.5-Conclusion">&#182;</a></h2>
</div>
</div>
</div>
<div class="cell border-box-sizing text_cell rendered"><div class="prompt input_prompt">
</div><div class="inner_cell">
<div class="text_cell_render border-box-sizing rendered_html">
<p>C'est tout ce que j'avais eu le temps d'implémenter durant les 4h de préparation (c'est un des textes que j'avais préparé en juin 2014, dans les "vraies" conditions en oraux blanc, à l'ENS Cachan, et le code initial était en OCaml mais je n'ai rien changé à part l'écriture du notebook Jupyter).</p>
<p>Quelques remarques :</p>
<ul>
<li>durant l'épreuve de modélisation, vous êtes libres de faire ce que vous voulez, la seule partie requise est dans le paragraphe <strong>Exercice de programmation</strong> (ici, il s'agissait d'implémenter une fonction similaire à <code>optimal()</code> (cf. plus haut).</li>
<li>les quelques développements supplémentaires traites ci-dessus (stratégie stupide, configuration aléatoire, simulation de jeu), ne sont qu'une suggestion de ce qui pouvait être fait sur ce texte,</li>
<li>d'autres suggestions sont possibles, si vous avez des idées, <a href="https://github.com/Naereen/notebooks/pulls">envoyez-moi vos notebooks !</a>.</li>
</ul>
<blockquote><p><em>Edit :</em> j'avais une erreur dans mon calcul de <code>next</code>, corrigée le 11/01/17.</p>
</blockquote>

</div>
</div>
</div>
<div class="cell border-box-sizing text_cell rendered"><div class="prompt input_prompt">
</div><div class="inner_cell">
<div class="text_cell_render border-box-sizing rendered_html">
<h2 id="1.6-Attention-:">1.6 Attention :<a class="anchor-link" href="#1.6-Attention-:">&#182;</a></h2>
</div>
</div>
</div>
<div class="cell border-box-sizing text_cell rendered"><div class="prompt input_prompt">
</div><div class="inner_cell">
<div class="text_cell_render border-box-sizing rendered_html">
<p>Les 35/40 minutes de passage au tableau ne doivent PAS être uniquement consacrée à la présentation de vos expériences sur l'ordinateur !</p>
<p>Il faut aussi :</p>
<ul>
<li>faire une introduction générale (citer des mots clés),</li>
<li>présenter le plan de votre présentation,</li>
<li>introduire les notations, les objectifs et les résultats donnés par le texte,</li>
<li>prouver ou exposer des développements <strong>theoriques</strong> personnels (à choisir parmi la liste proposée, mais pas seulement),</li>
<li>etc.</li>
</ul>

</div>
</div>
</div>
<div class="cell border-box-sizing text_cell rendered"><div class="prompt input_prompt">
</div><div class="inner_cell">
<div class="text_cell_render border-box-sizing rendered_html">
<hr>
<blockquote><p><em>C'est tout pour aujourd'hui les amis !</em>
<a href="https://github.com/Naereen/notebooks/tree/master/agreg">Allez voir d'autres notebooks</a> si vous voulez.</p>
</blockquote>

</div>
</div>
</div>
 


    </div>
  </div>

  </div>


  
    <footer class="footer hidden-print">
      <div class="container">
        <div class="col-md-4">
          <p>
            This website does not host notebooks, it only renders notebooks
            available on other websites.
          </p>
        </div>

        <div class="col-md-4">
          <p>
            Delivered by <a href="https://www.fastly.com/">Fastly</a>,
            Rendered by <a href="https://developer.rackspace.com/?nbviewer=awesome">Rackspace</a>
          </p>
          <p>
            nbviewer GitHub <a href="https://github.com/jupyter/nbviewer">repository</a>.
          </p>
        </div>

        <div class="col-md-4">
          
  
            
              <p>
                nbviewer version:
                <a href="https://github.com/jupyter/nbviewer/commit/8a8fd298b446096dddc874da57e99dd22a2d8d97">
                  8a8fd29
                </a>
              </p>
            
          
  
  <p>
    nbconvert version: <a href="https://github.com/jupyter/nbconvert/releases/tag/5.6.1">
      5.6.1
    </a>
  </p>
  

          
  
  
  <p>
    Rendered
    <span class='date' data-date='Mon, 27 Jan 2020 13:30:59 UTC' title='Mon, 27 Jan 2020 13:30:59 UTC'>(Mon, 27 Jan 2020 13:30:59 UTC)</span>
  </p>
  

        </div>
      </div>
    </footer>
  

  <script src="/static/components/bootstrap/js/bootstrap.min.js?v=5869c96cc8f19086aee625d670d741f9"></script>
  <script src="/static/components/headroom.js/dist/headroom.min.js?v=b0a311ea668f8e768ea375f4a7abb81c"></script>
  <script src="/static/components/headroom.js/dist/jQuery.headroom.min.js?v=f3a1bae118315d0c234afc74dc6aab71"></script>

  
  
  <script>
    $(function(){ $("#menubar").headroom({
      tolerance: 5,
      offset: 205,
      classes: {
        initial: "animated",
        pinned: "slideInDown",
        unpinned: "slideOutUp"
      }
    })});
  </script>


  
  <script>
    (function(i,s,o,g,r,a,m){i['GoogleAnalyticsObject']=r;i[r]=i[r]||function(){
      (i[r].q=i[r].q||[]).push(arguments)},i[r].l=1*new Date();a=s.createElement(o),
      m=s.getElementsByTagName(o)[0];a.async=1;a.src=g;m.parentNode.insertBefore(a,m)
    })(window,document,'script','https://www.google-analytics.com/analytics.js','ga');
    ga('create', 'UA-52617120-5', 'auto',
       {'storage': 'none'});
    ga('set', 'anonymizeIp', true);
    ga('send', 'pageview');
  </script>
  
  <script>
    require({
        paths: {
          moment: "/static/components/moment/min/moment.min.js?v=89f87298ad94aa1e6b92f42eb66da043"
        }
      }, ["moment"], function(moment){
      var date = $("footer .date"),
        m = moment(new Date(date.data('date'))),
        update = function(){ date.text(m.fromNow()); };
      setInterval(update, 61*1000);
      update();
      var w = $(window).scroll(function(event){
        $("body").toggleClass("scrolled", w.scrollTop() > 0);
      });
    });
  </script>

  <!--NEW RELIC Stop Perf Measurement-->
  
  <!--NEW RELIC End-->
</body>
</html>