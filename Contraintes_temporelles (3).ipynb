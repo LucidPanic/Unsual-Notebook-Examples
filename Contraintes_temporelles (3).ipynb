








<!DOCTYPE html>
<html lang="en">

<head>
  <meta charset="utf-8">
  <title>Jupyter Notebook Viewer</title>
  <meta name="viewport" content="width=device-width, initial-scale=1.0">
  <meta name="description" content="">
  <meta name="author" content="">
  
  <meta name="robots" content="noindex,nofollow">
  

  <!--NEW RELIC Start Perf Measurement-->
  
  <!--NREND-->

  <!-- Le styles -->
  <link href="/static/build/styles.css?v=55ba354138253381d2c0ada9821cd4da" rel="stylesheet">

  <!-- Le HTML5 shim, for IE6-8 support of HTML5 elements -->
  <!--[if lt IE 9]>
    <script src="http://html5shim.googlecode.com/svn/trunk/html5.js"></script>
  <![endif]-->

  <!-- Le fav and touch icons -->
  <link rel="shortcut icon" href="/static/ico/ipynb_icon_16x16.png">
  <link rel="apple-touch-icon-precomposed" sizes="144x144"
        href="/static/ico/apple-touch-icon-144-precomposed.png?v=5a3c9ede93e2a8b8ea9e3f8f3da1a905">
  <link rel="apple-touch-icon-precomposed" sizes="114x114"
        href="/static/ico/apple-touch-icon-114-precomposed.png?v=45d86fc8f24dc00638035e1dd7a6d898">
  <link rel="apple-touch-icon-precomposed" sizes="72x72"
        href="/static/ico/apple-touch-icon-72-precomposed.png?v=540b5eb0f3cfd25f1439d1c9bd30e15f">
  <link rel="apple-touch-icon-precomposed"
        href="/static/ico/apple-touch-icon-57-precomposed.png?v=225f0590e187e1458625654f10a28f56">
  
  

  

  
  <meta name="twitter:card" content="summary">
  <meta name="twitter:title" content="Notebook on nbviewer">
  <meta name="twitter:description" content="Check out this Jupyter notebook!">

  
  <meta name="twitter:domain" content="nbviewer.jupyter.org">
  <meta name="twitter:image:src" content="http://ipython.org/ipython-doc/dev/_images/ipynb_icon_128x128.png">

  
    <link href="/static/build/notebook.css?v=aae8f92f7e80fc468ae446b9d852fe90" rel="stylesheet">
  

  

  
    <script src="https://cdnjs.cloudflare.com/ajax/libs/mathjax/2.7.1/MathJax.js?config=TeX-AMS_HTML" type="text/javascript">
    </script>
    <script type="text/javascript">
      init_mathjax = function() {
        if (window.MathJax) {
          // MathJax loaded
          MathJax.Hub.Config({
            TeX: {
              equationNumbers: {
                autoNumber: "AMS",
                useLabelIds: true
              }
            },
            tex2jax: {
              inlineMath: [ ['$','$'], ["\\(","\\)"] ],
              displayMath: [ ['$$','$$'], ["\\[","\\]"] ],
              processEscapes: true,
              processEnvironments: true
            },
            displayAlign: 'center',
            "HTML-CSS": {
              styles: {'.MathJax_Display': {"margin": 0}},
              linebreaks: { automatic: true }
            }
          });
          MathJax.Hub.Queue(["Typeset", MathJax.Hub]);
        }
      }
      init_mathjax();
    </script>
  

  
    <script>
      (function() {
        function addWidgetsRenderer() {
          var mimeElement = document.querySelector('script[type="application/vnd.jupyter.widget-view+json"]');
          var scriptElement = document.createElement('script');
          var widgetRendererSrc = 'https://unpkg.com/@jupyter-widgets/html-manager@0.15/dist/embed-amd.js';
          var widgetState;

          try {
            widgetState = mimeElement && JSON.parse(mimeElement.innerHTML);

            if (widgetState && (widgetState.version_major < 2 || !widgetState.version_major)) {
              widgetRendererSrc = 'https://unpkg.com/jupyter-js-widgets@2.1/dist/embed.js';
            }
          } catch(e) {}

          scriptElement.src = widgetRendererSrc;
          document.body.appendChild(scriptElement);
        }

        document.addEventListener('DOMContentLoaded', addWidgetsRenderer);
      }());
    </script>
  

</head>

<body class="nbviewer">

  <!-- These are loaded at the top of the body so they are available to
       notebook cells when they are loaded below. -->
  <script src="/static/components/jquery/dist/jquery.min.js?v=220afd743d9e9643852e31a135a9f3ae"></script>
  <script src="/static/components/requirejs/require.js?v=6da8be361b9ee26c5e721e76c6d4afce"></script>
  <script src="/static/components/moment/min/moment.min.js?v=89f87298ad94aa1e6b92f42eb66da043"></script>
<!-- Navbar
================================================== -->
  <nav id="menubar" class="navbar navbar-default navbar-fixed-top" data-spy="affix">
    <div class="container">
      <div class="navbar-header">
        <button type="button" class="navbar-toggle collapsed" data-toggle="collapse" data-target=".navbar-collapse">
          <span class="sr-only">Toggle navigation</span>
          <i class="fa fa-bars"></i>
        </button>
        <a class="navbar-brand" href="/">
          <img src="/static/img/nav_logo.svg?v=479cefe8d932fb14a67b93911b97d70f" width="159"/>
        </a>
      </div>

      <div class="collapse navbar-collapse">
        <ul class="nav navbar-nav navbar-right">
          <li>
            <a class="active" href="https://jupyter.org">JUPYTER</a>
          </li>
          <li>
    <a href="/faq" title="FAQ" >
      
        <span>FAQ</span>
      
    </a>
  </li>

          
  
    
  
    
      
        <li>
    <a href="/format/script/github/Naereen/notebooks/blob/master/agreg/Contraintes_temporelles.ipynb" title="View as Code" >
      <span class="fa fa-code fa-2x menu-icon"></span>
      <span class="menu-text">View as Code</span>
    </a>
  </li>
      
    
  

  
    <li>
    <a href="#" title="OCaml 4.04.2 Kernel" >
      <span class="fa fa-server fa-2x menu-icon"></span>
      <span class="menu-text">OCaml 4.04.2 Kernel</span>
    </a>
  </li>
  

  
    <li>
    <a href="https://github.com/Naereen/notebooks/blob/master/agreg/Contraintes_temporelles.ipynb" title="View on GitHub" >
      <span class="fa fa-github fa-2x menu-icon"></span>
      <span class="menu-text">View on GitHub</span>
    </a>
  </li>
  

  
    <li>
    <a href="https://mybinder.org/v2/gh/Naereen/notebooks/master?filepath=agreg/Contraintes_temporelles.ipynb" title="Execute on Binder" >
      <span class="fa fa-icon-binder fa-2x menu-icon"></span>
      <span class="menu-text">Execute on Binder</span>
    </a>
  </li>
  

  <li>
    <a href="https://raw.githubusercontent.com/Naereen/notebooks/master/agreg/Contraintes_temporelles.ipynb" title="Download Notebook" download>
      <span class="fa fa-download fa-2x menu-icon"></span>
      <span class="menu-text">Download Notebook</span>
    </a>
  </li>

        </ul>
      </div><!-- /.navbar-collapse -->
      
      
    </div>
  </nav>

  <div class="container container-main">
    
  
  <ol class="breadcrumb">
    
      <li>
        <a href="/github/Naereen/notebooks/tree/master">notebooks</a>
      </li>
    
      <li>
        <a href="/github/Naereen/notebooks/tree/master/agreg">agreg</a>
      </li>
    
  </ol>
  
  <div id="notebook">
    <div id="notebook-container">
      <div class="cell border-box-sizing text_cell rendered"><div class="prompt input_prompt">
</div><div class="inner_cell">
<div class="text_cell_render border-box-sizing rendered_html">
<h1 id="Table-of-Contents">Table of Contents<a class="anchor-link" href="#Table-of-Contents">&#182;</a></h1><p><p><div class="lev1 toc-item"><a href="#Texte-d'oral-de-modélisation---Agrégation-Option-Informatique" data-toc-modified-id="Texte-d'oral-de-modélisation---Agrégation-Option-Informatique-1"><span class="toc-item-num">1&nbsp;&nbsp;</span>Texte d'oral de modélisation - Agrégation Option Informatique</a></div><div class="lev2 toc-item"><a href="#Préparation-à-l'agrégation---ENS-de-Rennes,-2016-17" data-toc-modified-id="Préparation-à-l'agrégation---ENS-de-Rennes,-2016-17-11"><span class="toc-item-num">1.1&nbsp;&nbsp;</span>Préparation à l'agrégation - ENS de Rennes, 2016-17</a></div><div class="lev2 toc-item"><a href="#À-propos-de-ce-document" data-toc-modified-id="À-propos-de-ce-document-12"><span class="toc-item-num">1.2&nbsp;&nbsp;</span>À propos de ce document</a></div><div class="lev2 toc-item"><a href="#Question-de-programmation" data-toc-modified-id="Question-de-programmation-13"><span class="toc-item-num">1.3&nbsp;&nbsp;</span>Question de programmation</a></div><div class="lev2 toc-item"><a href="#Réponse-à-l'exercice-requis" data-toc-modified-id="Réponse-à-l'exercice-requis-14"><span class="toc-item-num">1.4&nbsp;&nbsp;</span>Réponse à l'exercice requis</a></div><div class="lev3 toc-item"><a href="#Structures-de-données" data-toc-modified-id="Structures-de-données-141"><span class="toc-item-num">1.4.1&nbsp;&nbsp;</span>Structures de données</a></div><div class="lev3 toc-item"><a href="#Arithmétiques-sur-nos-entiers-étendus" data-toc-modified-id="Arithmétiques-sur-nos-entiers-étendus-142"><span class="toc-item-num">1.4.2&nbsp;&nbsp;</span>Arithmétiques sur nos entiers étendus</a></div><div class="lev4 toc-item"><a href="#Max/min" data-toc-modified-id="Max/min-1421"><span class="toc-item-num">1.4.2.1&nbsp;&nbsp;</span>Max/min</a></div><div class="lev4 toc-item"><a href="#Somme/produit" data-toc-modified-id="Somme/produit-1422"><span class="toc-item-num">1.4.2.2&nbsp;&nbsp;</span>Somme/produit</a></div><div class="lev3 toc-item"><a href="#Opérations-de-base,-$\oplus$-et-$\otimes$" data-toc-modified-id="Opérations-de-base,-$\oplus$-et-$\otimes$-143"><span class="toc-item-num">1.4.3&nbsp;&nbsp;</span>Opérations de base, <span class="MathJax_Preview" style="color: inherit;"></span><span class="MathJax" id="MathJax-Element-391-Frame" tabindex="0" style="position: relative;" data-mathml="<math xmlns=&quot;http://www.w3.org/1998/Math/MathML&quot;><mo>&amp;#x2295;</mo></math>" role="presentation"><nobr aria-hidden="true"><span class="math" id="MathJax-Span-2835" style="width: 1.038em; display: inline-block;"><span style="display: inline-block; position: relative; width: 0.847em; height: 0px; font-size: 118%;"><span style="position: absolute; clip: rect(1.872em, 1000.8em, 2.897em, -1000em); top: -2.637em; left: 0em;"><span class="mrow" id="MathJax-Span-2836"><span class="mo" id="MathJax-Span-2837" style="font-family: STIXMathJax_Main;">⊕</span></span><span style="display: inline-block; width: 0px; height: 2.637em;"></span></span></span><span style="display: inline-block; overflow: hidden; vertical-align: -0.196em; border-left: 0px solid; width: 0px; height: 0.987em;"></span></span></nobr><span class="MJX_Assistive_MathML" role="presentation"><math xmlns="http://www.w3.org/1998/Math/MathML"><mo>⊕</mo></math></span></span><script type="math/tex" id="MathJax-Element-391">\oplus</script> et <span class="MathJax_Preview" style="color: inherit;"></span><span class="MathJax" id="MathJax-Element-392-Frame" tabindex="0" style="position: relative;" data-mathml="<math xmlns=&quot;http://www.w3.org/1998/Math/MathML&quot;><mo>&amp;#x2297;</mo></math>" role="presentation"><nobr aria-hidden="true"><span class="math" id="MathJax-Span-2838" style="width: 1.038em; display: inline-block;"><span style="display: inline-block; position: relative; width: 0.847em; height: 0px; font-size: 118%;"><span style="position: absolute; clip: rect(1.872em, 1000.8em, 2.897em, -1000em); top: -2.637em; left: 0em;"><span class="mrow" id="MathJax-Span-2839"><span class="mo" id="MathJax-Span-2840" style="font-family: STIXMathJax_Main;">⊗</span></span><span style="display: inline-block; width: 0px; height: 2.637em;"></span></span></span><span style="display: inline-block; overflow: hidden; vertical-align: -0.196em; border-left: 0px solid; width: 0px; height: 0.987em;"></span></span></nobr><span class="MJX_Assistive_MathML" role="presentation"><math xmlns="http://www.w3.org/1998/Math/MathML"><mo>⊗</mo></math></span></span><script type="math/tex" id="MathJax-Element-392">\otimes</script></a></div><div class="lev4 toc-item"><a href="#Intersection" data-toc-modified-id="Intersection-1431"><span class="toc-item-num">1.4.3.1&nbsp;&nbsp;</span>Intersection</a></div><div class="lev4 toc-item"><a href="#Composition" data-toc-modified-id="Composition-1432"><span class="toc-item-num">1.4.3.2&nbsp;&nbsp;</span>Composition</a></div><div class="lev4 toc-item"><a href="#Union" data-toc-modified-id="Union-1433"><span class="toc-item-num">1.4.3.3&nbsp;&nbsp;</span>Union</a></div><div class="lev4 toc-item"><a href="#Exemples" data-toc-modified-id="Exemples-1434"><span class="toc-item-num">1.4.3.4&nbsp;&nbsp;</span>Exemples</a></div><div class="lev4 toc-item"><a href="#Une-étape-de-plus-:-ne-pas-inclure-des-intervalles-inclus-dans-ceux-déjà-présents" data-toc-modified-id="Une-étape-de-plus-:-ne-pas-inclure-des-intervalles-inclus-dans-ceux-déjà-présents-1435"><span class="toc-item-num">1.4.3.5&nbsp;&nbsp;</span>Une étape de plus : ne pas inclure des intervalles inclus dans ceux déjà présents</a></div><div class="lev3 toc-item"><a href="#L'algorithme-PC" data-toc-modified-id="L'algorithme-PC-144"><span class="toc-item-num">1.4.4&nbsp;&nbsp;</span>L'algorithme PC</a></div><div class="lev4 toc-item"><a href="#Structure-de-données-pour-les-réseaux-STP" data-toc-modified-id="Structure-de-données-pour-les-réseaux-STP-1441"><span class="toc-item-num">1.4.4.1&nbsp;&nbsp;</span>Structure de données pour les réseaux STP</a></div><div class="lev4 toc-item"><a href="#L'algorithme-PC" data-toc-modified-id="L'algorithme-PC-1442"><span class="toc-item-num">1.4.4.2&nbsp;&nbsp;</span>L'algorithme PC</a></div><div class="lev3 toc-item"><a href="#Exemple-de-réseau-non-distributif" data-toc-modified-id="Exemple-de-réseau-non-distributif-145"><span class="toc-item-num">1.4.5&nbsp;&nbsp;</span>Exemple de réseau non distributif</a></div><div class="lev3 toc-item"><a href="#D'autres-exemples" data-toc-modified-id="D'autres-exemples-146"><span class="toc-item-num">1.4.6&nbsp;&nbsp;</span>D'autres exemples</a></div><div class="lev2 toc-item"><a href="#Conclusion" data-toc-modified-id="Conclusion-15"><span class="toc-item-num">1.5&nbsp;&nbsp;</span>Conclusion</a></div></p>

</div>
</div>
</div>
<div class="cell border-box-sizing text_cell rendered"><div class="prompt input_prompt">
</div><div class="inner_cell">
<div class="text_cell_render border-box-sizing rendered_html">
<h1 id="Texte-d'oral-de-mod&#233;lisation---Agr&#233;gation-Option-Informatique">Texte d'oral de mod&#233;lisation - Agr&#233;gation Option Informatique<a class="anchor-link" href="#Texte-d'oral-de-mod&#233;lisation---Agr&#233;gation-Option-Informatique">&#182;</a></h1><h2 id="Pr&#233;paration-&#224;-l'agr&#233;gation---ENS-de-Rennes,-2016-17">Pr&#233;paration &#224; l'agr&#233;gation - ENS de Rennes, 2016-17<a class="anchor-link" href="#Pr&#233;paration-&#224;-l'agr&#233;gation---ENS-de-Rennes,-2016-17">&#182;</a></h2><ul>
<li><em>Date</em> : 7 avril 2017</li>
<li><em>Auteur</em> : <a href="https://GitHub.com/Naereen/notebooks/">Lilian Besson</a></li>
<li><em>Texte</em>: Annale 2009, "Contraintes temporelles"</li>
</ul>

</div>
</div>
</div>
<div class="cell border-box-sizing text_cell rendered"><div class="prompt input_prompt">
</div><div class="inner_cell">
<div class="text_cell_render border-box-sizing rendered_html">
<h2 id="&#192;-propos-de-ce-document">&#192; propos de ce document<a class="anchor-link" href="#&#192;-propos-de-ce-document">&#182;</a></h2><ul>
<li>Ceci est une <em>proposition</em> de correction, partielle et probablement non-optimale, pour la partie implémentation d'un <a href="http://Agreg.org/Textes/">texte d'annale de l'agrégation de mathématiques, option informatique</a>.</li>
<li>Ce document est un <a href="https://www.Jupyter.org/">notebook Jupyter</a>, et <a href="https://github.com/Naereen/notebooks/tree/master/agreg/">est open-source sous Licence MIT sur GitHub</a>, comme les autres solutions de textes de modélisation que <a href="https://GitHub.com/Naereen">j</a>'ai écrite cette année.</li>
<li>L'implémentation sera faite en OCaml, version 4+ :</li>
</ul>

</div>
</div>
</div>
<div class="cell border-box-sizing code_cell rendered">
<div class="input">
<div class="prompt input_prompt">In&nbsp;[2]:</div>
<div class="inner_cell">
    <div class="input_area">
<div class=" highlight hl-OCaml"><pre><span></span><span class="nn">Sys</span><span class="p">.</span><span class="n">command</span> <span class="s2">&quot;ocaml -version&quot;</span><span class="o">;;</span>
</pre></div>

    </div>
</div>
</div>

<div class="output_wrapper">
<div class="output">


<div class="output_area">

    <div class="prompt"></div>


<div class="output_subarea output_stream output_stdout output_text">
<pre>The OCaml toplevel, version 4.04.2
</pre>
</div>
</div>

<div class="output_area">

    <div class="prompt output_prompt">Out[2]:</div>




<div class="output_text output_subarea output_execute_result">
<pre>- : int = 0
</pre>
</div>

</div>

</div>
</div>

</div>
<div class="cell border-box-sizing text_cell rendered"><div class="prompt input_prompt">
</div><div class="inner_cell">
<div class="text_cell_render border-box-sizing rendered_html">
<blockquote><p>Notez que certaines fonctions des modules usuels <a href="http://caml.inria.fr/pub/docs/manual-ocaml/libref/List.html"><code>List</code></a> et <a href="http://caml.inria.fr/pub/docs/manual-ocaml/libref/List.html"><code>Array</code></a> ne sont pas disponibles en OCaml 3.12.
J'essaie autant que possible de ne pas les utiliser, ou alors de les redéfinir si je m'en sers.</p>
</blockquote>

</div>
</div>
</div>
<div class="cell border-box-sizing text_cell rendered"><div class="prompt input_prompt">
</div><div class="inner_cell">
<div class="text_cell_render border-box-sizing rendered_html">
<hr>
<h2 id="Question-de-programmation">Question de programmation<a class="anchor-link" href="#Question-de-programmation">&#182;</a></h2><p>La question de programmation pour ce texte était donnée en question 1 en page 9 :</p>
<blockquote><p>"Programmer l'algorithme PC. Faites le tourner sur l'exemple de réseau non distributif."</p>
</blockquote>
<p>La consigne était très courte, mais avec aucune indication.
Notez qu'il est rare que le texte exige un exemple particulier.</p>

</div>
</div>
</div>
<div class="cell border-box-sizing text_cell rendered"><div class="prompt input_prompt">
</div><div class="inner_cell">
<div class="text_cell_render border-box-sizing rendered_html">
<hr>
<h2 id="R&#233;ponse-&#224;-l'exercice-requis">R&#233;ponse &#224; l'exercice requis<a class="anchor-link" href="#R&#233;ponse-&#224;-l'exercice-requis">&#182;</a></h2><p>Ça va être assez long, en fait...</p>
<ol>
<li>D'abord, il faut définir les types de données avec lesquels on va travailler,</li>
<li>Ensuite, implémenter les deux opérations $\oplus$ et $\otimes$ sur les ensembles d'intervalles,</li>
<li>Puis implémenter l'algorithme PC (similaire à Floyd-Warshall),</li>
<li>Et enfin, l'exécuter sur l'exemple de réseau non distributif donné en page 8.</li>
</ol>
<p>Si possible, on va essayer de faire des <em>tests</em> pour chaque fonction intermédiaire, et un exemple de plus à la fin.</p>
<p>Un des problèmes que l'on va rencontrer est le fait que l'on doit manipuler $-\infty$ et $+\infty$, pour pouvoir gérer une contrainte qui n'est pas une contrainte, à savoir l'interavalle $(-\infty, +\infty)$.</p>

</div>
</div>
</div>
<div class="cell border-box-sizing text_cell rendered"><div class="prompt input_prompt">
</div><div class="inner_cell">
<div class="text_cell_render border-box-sizing rendered_html">
<hr>
<h3 id="Structures-de-donn&#233;es">Structures de donn&#233;es<a class="anchor-link" href="#Structures-de-donn&#233;es">&#182;</a></h3><p>On va travailler avec des valeurs entières ou $\pm\infty$. En écrivant nous même les opérations arithmétiques ($+,max$) sur les entiers "étendus" on obtiendra ce qu'on veut.</p>

</div>
</div>
</div>
<div class="cell border-box-sizing code_cell rendered">
<div class="input">
<div class="prompt input_prompt">In&nbsp;[75]:</div>
<div class="inner_cell">
    <div class="input_area">
<div class=" highlight hl-OCaml"><pre><span></span><span class="k">type</span> <span class="n">entier_etendu</span> <span class="o">=</span> <span class="nc">MInf</span> <span class="o">|</span> <span class="nc">PInf</span> <span class="o">|</span> <span class="nc">E</span> <span class="k">of</span> <span class="kt">int</span><span class="o">;;</span>
</pre></div>

    </div>
</div>
</div>

<div class="output_wrapper">
<div class="output">


<div class="output_area">

    <div class="prompt output_prompt">Out[75]:</div>




<div class="output_text output_subarea output_execute_result">
<pre>type entier_etendu = MInf | PInf | E of int
</pre>
</div>

</div>

</div>
</div>

</div>
<div class="cell border-box-sizing text_cell rendered"><div class="prompt input_prompt">
</div><div class="inner_cell">
<div class="text_cell_render border-box-sizing rendered_html">
<p>On se restreint aux intervalles à coordonnées <em>entières</em>, et on considère des listes d'intervalles.
Tous les intervalles sont fermés à gauche et à droite.</p>

</div>
</div>
</div>
<div class="cell border-box-sizing code_cell rendered">
<div class="input">
<div class="prompt input_prompt">In&nbsp;[76]:</div>
<div class="inner_cell">
    <div class="input_area">
<div class=" highlight hl-OCaml"><pre><span></span><span class="k">type</span> <span class="n">intervalle</span> <span class="o">=</span> <span class="o">(</span><span class="n">entier_etendu</span> <span class="o">*</span> <span class="n">entier_etendu</span><span class="o">);;</span>  <span class="c">(* (a, b) représente l&#39;intervalle [a, b] *)</span>
</pre></div>

    </div>
</div>
</div>

<div class="output_wrapper">
<div class="output">


<div class="output_area">

    <div class="prompt output_prompt">Out[76]:</div>




<div class="output_text output_subarea output_execute_result">
<pre>type intervalle = entier_etendu * entier_etendu
</pre>
</div>

</div>

</div>
</div>

</div>
<div class="cell border-box-sizing code_cell rendered">
<div class="input">
<div class="prompt input_prompt">In&nbsp;[77]:</div>
<div class="inner_cell">
    <div class="input_area">
<div class=" highlight hl-OCaml"><pre><span></span><span class="k">type</span> <span class="n">intervalles</span> <span class="o">=</span> <span class="n">intervalle</span> <span class="kt">list</span><span class="o">;;</span>
</pre></div>

    </div>
</div>
</div>

<div class="output_wrapper">
<div class="output">


<div class="output_area">

    <div class="prompt output_prompt">Out[77]:</div>




<div class="output_text output_subarea output_execute_result">
<pre>type intervalles = intervalle list
</pre>
</div>

</div>

</div>
</div>

</div>
<div class="cell border-box-sizing text_cell rendered"><div class="prompt input_prompt">
</div><div class="inner_cell">
<div class="text_cell_render border-box-sizing rendered_html">
<p>On définit tout de suite deux exemples, $T_a$ et $S_a$ tirés de la Figure 2.a) et $T_b,S_b$ de la Figure 2.b).
Cela permettra de vérifier les opérations $\oplus$ et $\otimes$.</p>

</div>
</div>
</div>
<div class="cell border-box-sizing text_cell rendered"><div class="prompt input_prompt">
</div><div class="inner_cell">
<div class="text_cell_render border-box-sizing rendered_html">
<ul>
<li>$T_a = \{ [1, 4], [6, 8] \}$ et $S_a = \{ [0, 1], [3, 5], [6, 7] \}$.</li>
</ul>

</div>
</div>
</div>
<div class="cell border-box-sizing code_cell rendered">
<div class="input">
<div class="prompt input_prompt">In&nbsp;[78]:</div>
<div class="inner_cell">
    <div class="input_area">
<div class=" highlight hl-OCaml"><pre><span></span><span class="k">let</span> <span class="n">t_a</span> <span class="o">:</span> <span class="n">intervalles</span> <span class="o">=</span> <span class="o">[</span>
    <span class="o">(</span><span class="nc">E</span><span class="o">(</span><span class="mi">1</span><span class="o">),</span> <span class="nc">E</span><span class="o">(</span><span class="mi">4</span><span class="o">));</span>
    <span class="o">(</span><span class="nc">E</span><span class="o">(</span><span class="mi">6</span><span class="o">),</span> <span class="nc">E</span><span class="o">(</span><span class="mi">8</span><span class="o">))</span>
<span class="o">];;</span>

<span class="k">let</span> <span class="n">s_a</span> <span class="o">:</span> <span class="n">intervalles</span> <span class="o">=</span> <span class="o">[</span>
    <span class="o">(</span><span class="nc">E</span><span class="o">(</span><span class="mi">0</span><span class="o">),</span> <span class="nc">E</span><span class="o">(</span><span class="mi">1</span><span class="o">));</span>
    <span class="o">(</span><span class="nc">E</span><span class="o">(</span><span class="mi">3</span><span class="o">),</span> <span class="nc">E</span><span class="o">(</span><span class="mi">5</span><span class="o">));</span>
    <span class="o">(</span><span class="nc">E</span><span class="o">(</span><span class="mi">6</span><span class="o">),</span> <span class="nc">E</span><span class="o">(</span><span class="mi">7</span><span class="o">))</span>
<span class="o">];;</span>
</pre></div>

    </div>
</div>
</div>

<div class="output_wrapper">
<div class="output">


<div class="output_area">

    <div class="prompt output_prompt">Out[78]:</div>




<div class="output_text output_subarea output_execute_result">
<pre>val t_a : intervalles = [(E 1, E 4); (E 6, E 8)]
</pre>
</div>

</div>

<div class="output_area">

    <div class="prompt output_prompt">Out[78]:</div>




<div class="output_text output_subarea output_execute_result">
<pre>val s_a : intervalles = [(E 0, E 1); (E 3, E 5); (E 6, E 7)]
</pre>
</div>

</div>

</div>
</div>

</div>
<div class="cell border-box-sizing text_cell rendered"><div class="prompt input_prompt">
</div><div class="inner_cell">
<div class="text_cell_render border-box-sizing rendered_html">
<ul>
<li>$T_b = \{ [-1, 0], [2, 4] \}$ et $S_b = \{ [0, 1], [4, 4] \}$.</li>
</ul>

</div>
</div>
</div>
<div class="cell border-box-sizing code_cell rendered">
<div class="input">
<div class="prompt input_prompt">In&nbsp;[80]:</div>
<div class="inner_cell">
    <div class="input_area">
<div class=" highlight hl-OCaml"><pre><span></span><span class="k">let</span> <span class="n">t_b</span> <span class="o">:</span> <span class="n">intervalles</span> <span class="o">=</span> <span class="o">[</span>
    <span class="o">(</span><span class="nc">E</span><span class="o">(-</span><span class="mi">1</span><span class="o">),</span> <span class="nc">E</span><span class="o">(</span><span class="mi">0</span><span class="o">));</span>
    <span class="o">(</span><span class="nc">E</span><span class="o">(</span><span class="mi">2</span><span class="o">),</span> <span class="nc">E</span><span class="o">(</span><span class="mi">4</span><span class="o">))</span>
<span class="o">];;</span>

<span class="k">let</span> <span class="n">s_b</span> <span class="o">:</span> <span class="n">intervalles</span> <span class="o">=</span> <span class="o">[</span>
    <span class="o">(</span><span class="nc">E</span><span class="o">(</span><span class="mi">0</span><span class="o">),</span> <span class="nc">E</span><span class="o">(</span><span class="mi">1</span><span class="o">));</span>
    <span class="o">(</span><span class="nc">E</span><span class="o">(</span><span class="mi">4</span><span class="o">),</span> <span class="nc">E</span><span class="o">(</span><span class="mi">4</span><span class="o">))</span>  <span class="c">(* Intervalle de longueur nulle *)</span>
<span class="o">];;</span>
</pre></div>

    </div>
</div>
</div>

<div class="output_wrapper">
<div class="output">


<div class="output_area">

    <div class="prompt output_prompt">Out[80]:</div>




<div class="output_text output_subarea output_execute_result">
<pre>val t_b : intervalles = [(E (-1), E 0); (E 2, E 4)]
</pre>
</div>

</div>

<div class="output_area">

    <div class="prompt output_prompt">Out[80]:</div>




<div class="output_text output_subarea output_execute_result">
<pre>val s_b : intervalles = [(E 0, E 1); (E 4, E 4)]
</pre>
</div>

</div>

</div>
</div>

</div>
<div class="cell border-box-sizing text_cell rendered"><div class="prompt input_prompt">
</div><div class="inner_cell">
<div class="text_cell_render border-box-sizing rendered_html">
<ul>
<li>Et la contrainte vide, $T = \{[-\infty, +\infty\}$ :</li>
</ul>

</div>
</div>
</div>
<div class="cell border-box-sizing code_cell rendered">
<div class="input">
<div class="prompt input_prompt">In&nbsp;[79]:</div>
<div class="inner_cell">
    <div class="input_area">
<div class=" highlight hl-OCaml"><pre><span></span><span class="k">let</span> <span class="n">t_vide</span> <span class="o">:</span> <span class="n">intervalles</span> <span class="o">=</span> <span class="o">[</span>
    <span class="o">(</span><span class="nc">MInf</span><span class="o">,</span> <span class="nc">PInf</span><span class="o">)</span>
<span class="o">];;</span>
</pre></div>

    </div>
</div>
</div>

<div class="output_wrapper">
<div class="output">


<div class="output_area">

    <div class="prompt output_prompt">Out[79]:</div>




<div class="output_text output_subarea output_execute_result">
<pre>val t_vide : intervalles = [(MInf, PInf)]
</pre>
</div>

</div>

</div>
</div>

</div>
<div class="cell border-box-sizing text_cell rendered"><div class="prompt input_prompt">
</div><div class="inner_cell">
<div class="text_cell_render border-box-sizing rendered_html">
<hr>
<h3 id="Arithm&#233;tiques-sur-nos-entiers-&#233;tendus">Arithm&#233;tiques sur nos entiers &#233;tendus<a class="anchor-link" href="#Arithm&#233;tiques-sur-nos-entiers-&#233;tendus">&#182;</a></h3>
</div>
</div>
</div>
<div class="cell border-box-sizing text_cell rendered"><div class="prompt input_prompt">
</div><div class="inner_cell">
<div class="text_cell_render border-box-sizing rendered_html">
<h4 id="Max/min">Max/min<a class="anchor-link" href="#Max/min">&#182;</a></h4>
</div>
</div>
</div>
<div class="cell border-box-sizing code_cell rendered">
<div class="input">
<div class="prompt input_prompt">In&nbsp;[81]:</div>
<div class="inner_cell">
    <div class="input_area">
<div class=" highlight hl-OCaml"><pre><span></span><span class="k">let</span> <span class="n">max_ee</span> <span class="n">x</span> <span class="n">y</span> <span class="o">=</span>
    <span class="k">match</span> <span class="n">x</span><span class="o">,</span> <span class="n">y</span> <span class="k">with</span>
    <span class="o">|</span> <span class="nc">MInf</span><span class="o">,</span> <span class="o">_</span> <span class="o">-&gt;</span> <span class="n">y</span>
    <span class="o">|</span> <span class="nc">PInf</span><span class="o">,</span> <span class="o">_</span> <span class="o">-&gt;</span> <span class="nc">PInf</span>
    <span class="o">|</span> <span class="o">_,</span> <span class="nc">MInf</span> <span class="o">-&gt;</span> <span class="n">x</span>
    <span class="o">|</span> <span class="o">_,</span> <span class="nc">PInf</span> <span class="o">-&gt;</span> <span class="nc">PInf</span>
    <span class="o">|</span> <span class="nc">E</span><span class="o">(</span><span class="n">vx</span><span class="o">),</span> <span class="nc">E</span><span class="o">(</span><span class="n">vy</span><span class="o">)</span> <span class="o">-&gt;</span> <span class="nc">E</span><span class="o">(</span><span class="n">max</span> <span class="n">vx</span> <span class="n">vy</span><span class="o">)</span>
<span class="o">;;</span>
</pre></div>

    </div>
</div>
</div>

<div class="output_wrapper">
<div class="output">


<div class="output_area">

    <div class="prompt output_prompt">Out[81]:</div>




<div class="output_text output_subarea output_execute_result">
<pre>val max_ee : entier_etendu -&gt; entier_etendu -&gt; entier_etendu = &lt;fun&gt;
</pre>
</div>

</div>

</div>
</div>

</div>
<div class="cell border-box-sizing code_cell rendered">
<div class="input">
<div class="prompt input_prompt">In&nbsp;[86]:</div>
<div class="inner_cell">
    <div class="input_area">
<div class=" highlight hl-OCaml"><pre><span></span><span class="n">max_ee</span> <span class="nc">MInf</span> <span class="o">(</span><span class="nc">E</span><span class="o">(</span><span class="mi">10</span><span class="o">));;</span>
<span class="n">max_ee</span> <span class="nc">PInf</span> <span class="o">(</span><span class="nc">E</span><span class="o">(</span><span class="mi">10</span><span class="o">));;</span>
<span class="n">max_ee</span> <span class="o">(</span><span class="nc">E</span><span class="o">(</span><span class="mi">10</span><span class="o">))</span> <span class="nc">MInf</span><span class="o">;;</span>
<span class="n">max_ee</span> <span class="o">(</span><span class="nc">E</span><span class="o">(</span><span class="mi">10</span><span class="o">))</span> <span class="nc">PInf</span><span class="o">;;</span>
<span class="n">max_ee</span> <span class="o">(</span><span class="nc">E</span><span class="o">(-</span><span class="mi">10</span><span class="o">))</span> <span class="o">(</span><span class="nc">E</span><span class="o">(</span><span class="mi">10</span><span class="o">));;</span>
<span class="n">max_ee</span> <span class="o">(</span><span class="nc">E</span><span class="o">(</span><span class="mi">10</span><span class="o">))</span> <span class="o">(</span><span class="nc">E</span><span class="o">(-</span><span class="mi">10</span><span class="o">));;</span>
</pre></div>

    </div>
</div>
</div>

<div class="output_wrapper">
<div class="output">


<div class="output_area">

    <div class="prompt output_prompt">Out[86]:</div>




<div class="output_text output_subarea output_execute_result">
<pre>- : entier_etendu = E 10
</pre>
</div>

</div>

<div class="output_area">

    <div class="prompt output_prompt">Out[86]:</div>




<div class="output_text output_subarea output_execute_result">
<pre>- : entier_etendu = PInf
</pre>
</div>

</div>

<div class="output_area">

    <div class="prompt output_prompt">Out[86]:</div>




<div class="output_text output_subarea output_execute_result">
<pre>- : entier_etendu = E 10
</pre>
</div>

</div>

<div class="output_area">

    <div class="prompt output_prompt">Out[86]:</div>




<div class="output_text output_subarea output_execute_result">
<pre>- : entier_etendu = PInf
</pre>
</div>

</div>

<div class="output_area">

    <div class="prompt output_prompt">Out[86]:</div>




<div class="output_text output_subarea output_execute_result">
<pre>- : entier_etendu = E 10
</pre>
</div>

</div>

<div class="output_area">

    <div class="prompt output_prompt">Out[86]:</div>




<div class="output_text output_subarea output_execute_result">
<pre>- : entier_etendu = E 10
</pre>
</div>

</div>

</div>
</div>

</div>
<div class="cell border-box-sizing code_cell rendered">
<div class="input">
<div class="prompt input_prompt">In&nbsp;[87]:</div>
<div class="inner_cell">
    <div class="input_area">
<div class=" highlight hl-OCaml"><pre><span></span><span class="k">let</span> <span class="n">min_ee</span> <span class="n">x</span> <span class="n">y</span> <span class="o">=</span>
    <span class="k">match</span> <span class="n">x</span><span class="o">,</span> <span class="n">y</span> <span class="k">with</span>
    <span class="o">|</span> <span class="nc">PInf</span><span class="o">,</span> <span class="o">_</span> <span class="o">-&gt;</span> <span class="n">y</span>
    <span class="o">|</span> <span class="nc">MInf</span><span class="o">,</span> <span class="o">_</span> <span class="o">-&gt;</span> <span class="nc">MInf</span>
    <span class="o">|</span> <span class="o">_,</span> <span class="nc">PInf</span> <span class="o">-&gt;</span> <span class="n">x</span>
    <span class="o">|</span> <span class="o">_,</span> <span class="nc">MInf</span> <span class="o">-&gt;</span> <span class="nc">MInf</span>
    <span class="o">|</span> <span class="nc">E</span><span class="o">(</span><span class="n">vx</span><span class="o">),</span> <span class="nc">E</span><span class="o">(</span><span class="n">vy</span><span class="o">)</span> <span class="o">-&gt;</span> <span class="nc">E</span><span class="o">(</span><span class="n">min</span> <span class="n">vx</span> <span class="n">vy</span><span class="o">)</span>
<span class="o">;;</span>
</pre></div>

    </div>
</div>
</div>

<div class="output_wrapper">
<div class="output">


<div class="output_area">

    <div class="prompt output_prompt">Out[87]:</div>




<div class="output_text output_subarea output_execute_result">
<pre>val min_ee : entier_etendu -&gt; entier_etendu -&gt; entier_etendu = &lt;fun&gt;
</pre>
</div>

</div>

</div>
</div>

</div>
<div class="cell border-box-sizing code_cell rendered">
<div class="input">
<div class="prompt input_prompt">In&nbsp;[90]:</div>
<div class="inner_cell">
    <div class="input_area">
<div class=" highlight hl-OCaml"><pre><span></span><span class="n">min_ee</span> <span class="nc">MInf</span> <span class="o">(</span><span class="nc">E</span><span class="o">(</span><span class="mi">10</span><span class="o">));;</span>
<span class="n">min_ee</span> <span class="nc">PInf</span> <span class="o">(</span><span class="nc">E</span><span class="o">(</span><span class="mi">10</span><span class="o">));;</span>
<span class="n">min_ee</span> <span class="o">(</span><span class="nc">E</span><span class="o">(</span><span class="mi">10</span><span class="o">))</span> <span class="nc">MInf</span><span class="o">;;</span>
<span class="n">min_ee</span> <span class="o">(</span><span class="nc">E</span><span class="o">(</span><span class="mi">10</span><span class="o">))</span> <span class="nc">PInf</span><span class="o">;;</span>
<span class="n">min_ee</span> <span class="o">(</span><span class="nc">E</span><span class="o">(-</span><span class="mi">10</span><span class="o">))</span> <span class="o">(</span><span class="nc">E</span><span class="o">(</span><span class="mi">10</span><span class="o">));;</span>
<span class="n">min_ee</span> <span class="o">(</span><span class="nc">E</span><span class="o">(</span><span class="mi">10</span><span class="o">))</span> <span class="o">(</span><span class="nc">E</span><span class="o">(-</span><span class="mi">10</span><span class="o">));;</span>
</pre></div>

    </div>
</div>
</div>

<div class="output_wrapper">
<div class="output">


<div class="output_area">

    <div class="prompt output_prompt">Out[90]:</div>




<div class="output_text output_subarea output_execute_result">
<pre>- : entier_etendu = MInf
</pre>
</div>

</div>

<div class="output_area">

    <div class="prompt output_prompt">Out[90]:</div>




<div class="output_text output_subarea output_execute_result">
<pre>- : entier_etendu = E 10
</pre>
</div>

</div>

<div class="output_area">

    <div class="prompt output_prompt">Out[90]:</div>




<div class="output_text output_subarea output_execute_result">
<pre>- : entier_etendu = MInf
</pre>
</div>

</div>

<div class="output_area">

    <div class="prompt output_prompt">Out[90]:</div>




<div class="output_text output_subarea output_execute_result">
<pre>- : entier_etendu = E 10
</pre>
</div>

</div>

<div class="output_area">

    <div class="prompt output_prompt">Out[90]:</div>




<div class="output_text output_subarea output_execute_result">
<pre>- : entier_etendu = E (-10)
</pre>
</div>

</div>

<div class="output_area">

    <div class="prompt output_prompt">Out[90]:</div>




<div class="output_text output_subarea output_execute_result">
<pre>- : entier_etendu = E (-10)
</pre>
</div>

</div>

</div>
</div>

</div>
<div class="cell border-box-sizing text_cell rendered"><div class="prompt input_prompt">
</div><div class="inner_cell">
<div class="text_cell_render border-box-sizing rendered_html">
<p>On peut utiliser la fonction minimum pour trier deux entiers étendus :</p>

</div>
</div>
</div>
<div class="cell border-box-sizing code_cell rendered">
<div class="input">
<div class="prompt input_prompt">In&nbsp;[115]:</div>
<div class="inner_cell">
    <div class="input_area">
<div class=" highlight hl-OCaml"><pre><span></span><span class="k">let</span> <span class="n">pluspetiteq_ee</span> <span class="n">x</span> <span class="n">y</span> <span class="o">=</span>
    <span class="k">let</span> <span class="n">m</span> <span class="o">=</span> <span class="n">min_ee</span> <span class="n">x</span> <span class="n">y</span> <span class="k">in</span>
    <span class="n">m</span> <span class="o">=</span> <span class="n">x</span> <span class="o">||</span> <span class="n">x</span> <span class="o">=</span> <span class="n">y</span>
<span class="o">;;</span>
</pre></div>

    </div>
</div>
</div>

<div class="output_wrapper">
<div class="output">


<div class="output_area">

    <div class="prompt output_prompt">Out[115]:</div>




<div class="output_text output_subarea output_execute_result">
<pre>val pluspetiteq_ee : entier_etendu -&gt; entier_etendu -&gt; bool = &lt;fun&gt;
</pre>
</div>

</div>

</div>
</div>

</div>
<div class="cell border-box-sizing code_cell rendered">
<div class="input">
<div class="prompt input_prompt">In&nbsp;[116]:</div>
<div class="inner_cell">
    <div class="input_area">
<div class=" highlight hl-OCaml"><pre><span></span><span class="k">let</span> <span class="n">pluspetit_ee</span> <span class="n">x</span> <span class="n">y</span> <span class="o">=</span>
    <span class="k">let</span> <span class="n">m</span> <span class="o">=</span> <span class="n">min_ee</span> <span class="n">x</span> <span class="n">y</span> <span class="k">in</span>
    <span class="n">m</span> <span class="o">=</span> <span class="n">x</span> <span class="o">&amp;&amp;</span> <span class="n">x</span> <span class="o">!=</span> <span class="n">y</span>
<span class="o">;;</span>
</pre></div>

    </div>
</div>
</div>

<div class="output_wrapper">
<div class="output">


<div class="output_area">

    <div class="prompt output_prompt">Out[116]:</div>




<div class="output_text output_subarea output_execute_result">
<pre>val pluspetit_ee : entier_etendu -&gt; entier_etendu -&gt; bool = &lt;fun&gt;
</pre>
</div>

</div>

</div>
</div>

</div>
<div class="cell border-box-sizing text_cell rendered"><div class="prompt input_prompt">
</div><div class="inner_cell">
<div class="text_cell_render border-box-sizing rendered_html">
<h4 id="Somme/produit">Somme/produit<a class="anchor-link" href="#Somme/produit">&#182;</a></h4>
</div>
</div>
</div>
<div class="cell border-box-sizing code_cell rendered">
<div class="input">
<div class="prompt input_prompt">In&nbsp;[88]:</div>
<div class="inner_cell">
    <div class="input_area">
<div class=" highlight hl-OCaml"><pre><span></span><span class="k">let</span> <span class="n">plus_ee</span> <span class="n">x</span> <span class="n">y</span> <span class="o">=</span>
    <span class="k">match</span> <span class="n">x</span><span class="o">,</span> <span class="n">y</span> <span class="k">with</span>
    <span class="o">|</span> <span class="nc">MInf</span><span class="o">,</span> <span class="nc">PInf</span> <span class="o">-&gt;</span> <span class="n">failwith</span> <span class="s2">&quot;-inf + +inf = ?&quot;</span>
    <span class="o">|</span> <span class="nc">PInf</span><span class="o">,</span> <span class="nc">MInf</span> <span class="o">-&gt;</span> <span class="n">failwith</span> <span class="s2">&quot;-inf + +inf = ?&quot;</span>
    <span class="o">|</span> <span class="nc">PInf</span><span class="o">,</span> <span class="o">_</span> <span class="o">-&gt;</span> <span class="nc">PInf</span>
    <span class="o">|</span> <span class="nc">MInf</span><span class="o">,</span> <span class="o">_</span> <span class="o">-&gt;</span> <span class="nc">MInf</span>
    <span class="o">|</span> <span class="o">_,</span> <span class="nc">MInf</span> <span class="o">-&gt;</span> <span class="nc">MInf</span>
    <span class="o">|</span> <span class="o">_,</span> <span class="nc">PInf</span> <span class="o">-&gt;</span> <span class="nc">PInf</span>
    <span class="o">|</span> <span class="nc">E</span><span class="o">(</span><span class="n">vx</span><span class="o">),</span> <span class="nc">E</span><span class="o">(</span><span class="n">vy</span><span class="o">)</span> <span class="o">-&gt;</span> <span class="nc">E</span><span class="o">(</span><span class="n">vx</span> <span class="o">+</span> <span class="n">vy</span><span class="o">)</span>
<span class="o">;;</span>
</pre></div>

    </div>
</div>
</div>

<div class="output_wrapper">
<div class="output">


<div class="output_area">

    <div class="prompt output_prompt">Out[88]:</div>




<div class="output_text output_subarea output_execute_result">
<pre>val plus_ee : entier_etendu -&gt; entier_etendu -&gt; entier_etendu = &lt;fun&gt;
</pre>
</div>

</div>

</div>
</div>

</div>
<div class="cell border-box-sizing code_cell rendered">
<div class="input">
<div class="prompt input_prompt">In&nbsp;[92]:</div>
<div class="inner_cell">
    <div class="input_area">
<div class=" highlight hl-OCaml"><pre><span></span><span class="n">plus_ee</span> <span class="nc">MInf</span> <span class="o">(</span><span class="nc">E</span><span class="o">(</span><span class="mi">10</span><span class="o">));;</span>
<span class="n">plus_ee</span> <span class="nc">PInf</span> <span class="o">(</span><span class="nc">E</span><span class="o">(</span><span class="mi">10</span><span class="o">));;</span>
<span class="n">plus_ee</span> <span class="o">(</span><span class="nc">E</span><span class="o">(</span><span class="mi">10</span><span class="o">))</span> <span class="nc">MInf</span><span class="o">;;</span>
<span class="n">plus_ee</span> <span class="o">(</span><span class="nc">E</span><span class="o">(</span><span class="mi">10</span><span class="o">))</span> <span class="nc">PInf</span><span class="o">;;</span>
<span class="n">plus_ee</span> <span class="o">(</span><span class="nc">E</span><span class="o">(-</span><span class="mi">10</span><span class="o">))</span> <span class="o">(</span><span class="nc">E</span><span class="o">(</span><span class="mi">10</span><span class="o">));;</span>
<span class="n">plus_ee</span> <span class="o">(</span><span class="nc">E</span><span class="o">(</span><span class="mi">10</span><span class="o">))</span> <span class="o">(</span><span class="nc">E</span><span class="o">(-</span><span class="mi">10</span><span class="o">));;</span>
<span class="n">plus_ee</span> <span class="o">(</span><span class="nc">E</span><span class="o">(</span><span class="mi">10</span><span class="o">))</span> <span class="o">(</span><span class="nc">E</span><span class="o">(</span><span class="mi">10</span><span class="o">));;</span>
<span class="n">plus_ee</span> <span class="o">(</span><span class="nc">E</span><span class="o">(-</span><span class="mi">10</span><span class="o">))</span> <span class="o">(</span><span class="nc">E</span><span class="o">(-</span><span class="mi">10</span><span class="o">));;</span>
</pre></div>

    </div>
</div>
</div>

<div class="output_wrapper">
<div class="output">


<div class="output_area">

    <div class="prompt output_prompt">Out[92]:</div>




<div class="output_text output_subarea output_execute_result">
<pre>- : entier_etendu = MInf
</pre>
</div>

</div>

<div class="output_area">

    <div class="prompt output_prompt">Out[92]:</div>




<div class="output_text output_subarea output_execute_result">
<pre>- : entier_etendu = PInf
</pre>
</div>

</div>

<div class="output_area">

    <div class="prompt output_prompt">Out[92]:</div>




<div class="output_text output_subarea output_execute_result">
<pre>- : entier_etendu = MInf
</pre>
</div>

</div>

<div class="output_area">

    <div class="prompt output_prompt">Out[92]:</div>




<div class="output_text output_subarea output_execute_result">
<pre>- : entier_etendu = PInf
</pre>
</div>

</div>

<div class="output_area">

    <div class="prompt output_prompt">Out[92]:</div>




<div class="output_text output_subarea output_execute_result">
<pre>- : entier_etendu = E 0
</pre>
</div>

</div>

<div class="output_area">

    <div class="prompt output_prompt">Out[92]:</div>




<div class="output_text output_subarea output_execute_result">
<pre>- : entier_etendu = E 0
</pre>
</div>

</div>

<div class="output_area">

    <div class="prompt output_prompt">Out[92]:</div>




<div class="output_text output_subarea output_execute_result">
<pre>- : entier_etendu = E 20
</pre>
</div>

</div>

<div class="output_area">

    <div class="prompt output_prompt">Out[92]:</div>




<div class="output_text output_subarea output_execute_result">
<pre>- : entier_etendu = E (-20)
</pre>
</div>

</div>

</div>
</div>

</div>
<div class="cell border-box-sizing code_cell rendered">
<div class="input">
<div class="prompt input_prompt">In&nbsp;[93]:</div>
<div class="inner_cell">
    <div class="input_area">
<div class=" highlight hl-OCaml"><pre><span></span><span class="k">let</span> <span class="n">produit_ee</span> <span class="n">x</span> <span class="n">y</span> <span class="o">=</span>
    <span class="k">match</span> <span class="n">x</span><span class="o">,</span> <span class="n">y</span> <span class="k">with</span>
    <span class="o">|</span> <span class="nc">MInf</span><span class="o">,</span> <span class="nc">PInf</span> <span class="o">-&gt;</span> <span class="nc">MInf</span>
    <span class="o">|</span> <span class="nc">PInf</span><span class="o">,</span> <span class="nc">MInf</span> <span class="o">-&gt;</span> <span class="nc">PInf</span>
    <span class="o">|</span> <span class="nc">PInf</span><span class="o">,</span> <span class="nc">E</span><span class="o">(</span><span class="n">vy</span><span class="o">)</span> <span class="k">when</span> <span class="n">vy</span> <span class="o">&lt;</span> <span class="mi">0</span> <span class="o">-&gt;</span> <span class="nc">MInf</span>
    <span class="o">|</span> <span class="nc">PInf</span><span class="o">,</span> <span class="o">_</span> <span class="o">-&gt;</span> <span class="nc">PInf</span>
    <span class="o">|</span> <span class="nc">MInf</span><span class="o">,</span> <span class="nc">E</span><span class="o">(</span><span class="n">vy</span><span class="o">)</span> <span class="k">when</span> <span class="n">vy</span> <span class="o">&lt;</span> <span class="mi">0</span> <span class="o">-&gt;</span> <span class="nc">PInf</span>
    <span class="o">|</span> <span class="nc">MInf</span><span class="o">,</span> <span class="o">_</span> <span class="o">-&gt;</span> <span class="nc">MInf</span>
    <span class="o">|</span> <span class="nc">E</span><span class="o">(</span><span class="n">vx</span><span class="o">),</span> <span class="nc">PInf</span> <span class="k">when</span> <span class="n">vx</span> <span class="o">&lt;</span> <span class="mi">0</span> <span class="o">-&gt;</span> <span class="nc">MInf</span>
    <span class="o">|</span> <span class="o">_,</span> <span class="nc">PInf</span> <span class="o">-&gt;</span> <span class="nc">PInf</span>
    <span class="o">|</span> <span class="nc">E</span><span class="o">(</span><span class="n">vx</span><span class="o">),</span> <span class="nc">MInf</span> <span class="k">when</span> <span class="n">vx</span> <span class="o">&lt;</span> <span class="mi">0</span> <span class="o">-&gt;</span> <span class="nc">PInf</span>
    <span class="o">|</span> <span class="o">_,</span> <span class="nc">MInf</span> <span class="o">-&gt;</span> <span class="nc">MInf</span>
    <span class="o">|</span> <span class="nc">E</span><span class="o">(</span><span class="n">vx</span><span class="o">),</span> <span class="nc">E</span><span class="o">(</span><span class="n">vy</span><span class="o">)</span> <span class="o">-&gt;</span> <span class="nc">E</span><span class="o">(</span><span class="n">vx</span> <span class="o">*</span> <span class="n">vy</span><span class="o">)</span>
<span class="o">;;</span>
</pre></div>

    </div>
</div>
</div>

<div class="output_wrapper">
<div class="output">


<div class="output_area">

    <div class="prompt output_prompt">Out[93]:</div>




<div class="output_text output_subarea output_execute_result">
<pre>val produit_ee : entier_etendu -&gt; entier_etendu -&gt; entier_etendu = &lt;fun&gt;
</pre>
</div>

</div>

</div>
</div>

</div>
<div class="cell border-box-sizing code_cell rendered">
<div class="input">
<div class="prompt input_prompt">In&nbsp;[94]:</div>
<div class="inner_cell">
    <div class="input_area">
<div class=" highlight hl-OCaml"><pre><span></span><span class="n">produit_ee</span> <span class="nc">MInf</span> <span class="o">(</span><span class="nc">E</span><span class="o">(</span><span class="mi">10</span><span class="o">));;</span>
<span class="n">produit_ee</span> <span class="nc">PInf</span> <span class="o">(</span><span class="nc">E</span><span class="o">(</span><span class="mi">10</span><span class="o">));;</span>
<span class="n">produit_ee</span> <span class="o">(</span><span class="nc">E</span><span class="o">(</span><span class="mi">10</span><span class="o">))</span> <span class="nc">MInf</span><span class="o">;;</span>
<span class="n">produit_ee</span> <span class="o">(</span><span class="nc">E</span><span class="o">(</span><span class="mi">10</span><span class="o">))</span> <span class="nc">PInf</span><span class="o">;;</span>
<span class="n">produit_ee</span> <span class="o">(</span><span class="nc">E</span><span class="o">(-</span><span class="mi">10</span><span class="o">))</span> <span class="o">(</span><span class="nc">E</span><span class="o">(</span><span class="mi">10</span><span class="o">));;</span>
<span class="n">produit_ee</span> <span class="o">(</span><span class="nc">E</span><span class="o">(</span><span class="mi">10</span><span class="o">))</span> <span class="o">(</span><span class="nc">E</span><span class="o">(-</span><span class="mi">10</span><span class="o">));;</span>
<span class="n">produit_ee</span> <span class="o">(</span><span class="nc">E</span><span class="o">(</span><span class="mi">10</span><span class="o">))</span> <span class="o">(</span><span class="nc">E</span><span class="o">(</span><span class="mi">10</span><span class="o">));;</span>
<span class="n">produit_ee</span> <span class="o">(</span><span class="nc">E</span><span class="o">(-</span><span class="mi">10</span><span class="o">))</span> <span class="o">(</span><span class="nc">E</span><span class="o">(-</span><span class="mi">10</span><span class="o">));;</span>
</pre></div>

    </div>
</div>
</div>

<div class="output_wrapper">
<div class="output">


<div class="output_area">

    <div class="prompt output_prompt">Out[94]:</div>




<div class="output_text output_subarea output_execute_result">
<pre>- : entier_etendu = MInf
</pre>
</div>

</div>

<div class="output_area">

    <div class="prompt output_prompt">Out[94]:</div>




<div class="output_text output_subarea output_execute_result">
<pre>- : entier_etendu = PInf
</pre>
</div>

</div>

<div class="output_area">

    <div class="prompt output_prompt">Out[94]:</div>




<div class="output_text output_subarea output_execute_result">
<pre>- : entier_etendu = MInf
</pre>
</div>

</div>

<div class="output_area">

    <div class="prompt output_prompt">Out[94]:</div>




<div class="output_text output_subarea output_execute_result">
<pre>- : entier_etendu = PInf
</pre>
</div>

</div>

<div class="output_area">

    <div class="prompt output_prompt">Out[94]:</div>




<div class="output_text output_subarea output_execute_result">
<pre>- : entier_etendu = E (-100)
</pre>
</div>

</div>

<div class="output_area">

    <div class="prompt output_prompt">Out[94]:</div>




<div class="output_text output_subarea output_execute_result">
<pre>- : entier_etendu = E (-100)
</pre>
</div>

</div>

<div class="output_area">

    <div class="prompt output_prompt">Out[94]:</div>




<div class="output_text output_subarea output_execute_result">
<pre>- : entier_etendu = E 100
</pre>
</div>

</div>

<div class="output_area">

    <div class="prompt output_prompt">Out[94]:</div>




<div class="output_text output_subarea output_execute_result">
<pre>- : entier_etendu = E 100
</pre>
</div>

</div>

</div>
</div>

</div>
<div class="cell border-box-sizing text_cell rendered"><div class="prompt input_prompt">
</div><div class="inner_cell">
<div class="text_cell_render border-box-sizing rendered_html">
<hr>
<h3 id="Op&#233;rations-de-base,-$\oplus$-et-$\otimes$">Op&#233;rations de base, $\oplus$ et $\otimes$<a class="anchor-link" href="#Op&#233;rations-de-base,-$\oplus$-et-$\otimes$">&#182;</a></h3><p>On peut écrire des opérations d'intersection et de composition sur deux intervalles, ensuite il suffira de les généraliser à un ensemble d'intervalle.</p>
<p>On suit les définitions de l'énoncé.</p>
<h4 id="Intersection">Intersection<a class="anchor-link" href="#Intersection">&#182;</a></h4>$$
\forall T = (I_1,\dots,I_l),
\forall S = (J_1,\dots,J_m),\\
T \oplus S := \{ K_1, \dots, K_n\}
\;\;\text{Où}\;\; K_k = I_i \cap J_j.
$$<p>Notez que $n \leq l + m$ ici.</p>

</div>
</div>
</div>
<div class="cell border-box-sizing text_cell rendered"><div class="prompt input_prompt">
</div><div class="inner_cell">
<div class="text_cell_render border-box-sizing rendered_html">
<p>Pour l'intersection de deux intervalles, l'intervalle vide $\emptyset$ peut être obtenu, donc la fonction suivante renvoie un type <code>intervalle option</code> : soit <code>None</code> si $I \cap J = \emptyset$, soit <code>Some (x, y)</code> si $I \cap J = [x, y]$.</p>

</div>
</div>
</div>
<div class="cell border-box-sizing code_cell rendered">
<div class="input">
<div class="prompt input_prompt">In&nbsp;[96]:</div>
<div class="inner_cell">
    <div class="input_area">
<div class=" highlight hl-OCaml"><pre><span></span><span class="k">let</span> <span class="n">intersection</span> <span class="o">(</span><span class="n">i</span> <span class="o">:</span> <span class="n">intervalle</span><span class="o">)</span> <span class="o">(</span><span class="n">j</span> <span class="o">:</span> <span class="n">intervalle</span><span class="o">)</span> <span class="o">:</span> <span class="n">intervalle</span> <span class="n">option</span> <span class="o">=</span>
    <span class="k">let</span> <span class="n">a</span> <span class="o">=</span> <span class="n">fst</span> <span class="n">i</span> <span class="ow">and</span> <span class="n">b</span> <span class="o">=</span> <span class="n">snd</span> <span class="n">i</span> <span class="k">in</span>
    <span class="k">let</span> <span class="n">c</span> <span class="o">=</span> <span class="n">fst</span> <span class="n">j</span> <span class="ow">and</span> <span class="n">d</span> <span class="o">=</span> <span class="n">snd</span> <span class="n">j</span> <span class="k">in</span>
    <span class="k">if</span> <span class="n">pluspetit_ee</span> <span class="n">b</span> <span class="n">c</span> <span class="o">||</span> <span class="n">pluspetit_ee</span> <span class="n">d</span> <span class="n">a</span> <span class="k">then</span>
        <span class="nc">None</span>
    <span class="k">else</span>
        <span class="nc">Some</span> <span class="o">(</span><span class="n">max_ee</span> <span class="n">a</span> <span class="n">c</span><span class="o">,</span> <span class="n">min_ee</span> <span class="n">b</span> <span class="n">d</span><span class="o">)</span>
<span class="o">;;</span>
</pre></div>

    </div>
</div>
</div>

<div class="output_wrapper">
<div class="output">


<div class="output_area">

    <div class="prompt output_prompt">Out[96]:</div>




<div class="output_text output_subarea output_execute_result">
<pre>val intersection : intervalle -&gt; intervalle -&gt; intervalle option = &lt;fun&gt;
</pre>
</div>

</div>

</div>
</div>

</div>
<div class="cell border-box-sizing text_cell rendered"><div class="prompt input_prompt">
</div><div class="inner_cell">
<div class="text_cell_render border-box-sizing rendered_html">
<p>Ensuite, il suffit d'explorer tous les couples $(I, J)$ possible, et de ne garder que ceux qui donnent un intervalle.
On supprimera les doublons en vérifiant au fur et à mesure (ça a la même complexité que si on le fait à la fin).</p>
<p>En manipulant une liste d'intervalle <code>option</code>, on doit ruser un peu pour n'ajouter que ceux qui ne sont pas dans <code>acc</code> et qui sont des vrais intervalles.</p>

</div>
</div>
</div>
<div class="cell border-box-sizing code_cell rendered">
<div class="input">
<div class="prompt input_prompt">In&nbsp;[98]:</div>
<div class="inner_cell">
    <div class="input_area">
<div class=" highlight hl-OCaml"><pre><span></span><span class="k">let</span> <span class="n">ajoute_nouveaux_option</span> <span class="o">(</span><span class="n">acc</span> <span class="o">:</span> <span class="n">intervalles</span><span class="o">)</span> <span class="o">(</span><span class="n">liste_option</span> <span class="o">:</span> <span class="n">intervalle</span> <span class="n">option</span> <span class="kt">list</span><span class="o">)</span> <span class="o">=</span>
    <span class="nn">List</span><span class="p">.</span><span class="n">map</span>
    <span class="o">(</span><span class="k">fun</span> <span class="n">i</span> <span class="o">-&gt;</span> <span class="k">match</span> <span class="n">i</span> <span class="k">with</span> <span class="nc">Some</span> <span class="n">i2</span> <span class="o">-&gt;</span> <span class="n">i2</span> <span class="o">|</span> <span class="nc">None</span> <span class="o">-&gt;</span> <span class="o">(</span><span class="nc">MInf</span><span class="o">,</span> <span class="nc">PInf</span><span class="o">))</span>
    <span class="o">(</span><span class="nn">List</span><span class="p">.</span><span class="n">filter</span> <span class="o">(</span><span class="k">fun</span> <span class="n">i</span> <span class="o">-&gt;</span>
        <span class="k">match</span> <span class="n">i</span> <span class="k">with</span>
        <span class="o">|</span> <span class="nc">None</span> <span class="o">-&gt;</span> <span class="bp">false</span>
        <span class="o">|</span> <span class="nc">Some</span> <span class="n">i2</span> <span class="o">-&gt;</span> <span class="n">not</span> <span class="o">(</span><span class="nn">List</span><span class="p">.</span><span class="n">mem</span> <span class="n">i2</span> <span class="n">acc</span><span class="o">)</span>
    <span class="o">)</span> <span class="n">liste_option</span><span class="o">)</span>
<span class="o">;;</span>
</pre></div>

    </div>
</div>
</div>

<div class="output_wrapper">
<div class="output">


<div class="output_area">

    <div class="prompt output_prompt">Out[98]:</div>




<div class="output_text output_subarea output_execute_result">
<pre>val ajoute_nouveaux_option :
  intervalles -&gt; intervalle option list -&gt; intervalle list = &lt;fun&gt;
</pre>
</div>

</div>

</div>
</div>

</div>
<div class="cell border-box-sizing text_cell rendered"><div class="prompt input_prompt">
</div><div class="inner_cell">
<div class="text_cell_render border-box-sizing rendered_html">
<p>Avec tout ça, on a une belle fonction récursive, avec un accumulateur <code>acc</code> qui contient la liste des intervalles dans $T \oplus S$, construite en considérant les intervalles de $S$ les un après les autres.</p>
<p>On s'assure de n'avoir ni intervalles vide, ni doublon, grâce à <code>ajoute_nouveaux_option</code>.</p>

</div>
</div>
</div>
<div class="cell border-box-sizing code_cell rendered">
<div class="input">
<div class="prompt input_prompt">In&nbsp;[101]:</div>
<div class="inner_cell">
    <div class="input_area">
<div class=" highlight hl-OCaml"><pre><span></span><span class="k">let</span> <span class="n">intersections</span> <span class="o">(</span><span class="n">t</span> <span class="o">:</span> <span class="n">intervalles</span><span class="o">)</span> <span class="o">(</span><span class="n">s</span> <span class="o">:</span> <span class="n">intervalles</span><span class="o">)</span> <span class="o">:</span> <span class="n">intervalles</span> <span class="o">=</span>
    <span class="k">let</span> <span class="k">rec</span> <span class="n">inter_aux</span> <span class="n">acc</span> <span class="n">tx</span> <span class="n">sx</span> <span class="o">=</span>
        <span class="k">match</span> <span class="n">sx</span> <span class="k">with</span>
        <span class="o">|</span> <span class="bp">[]</span> <span class="o">-&gt;</span> <span class="n">acc</span>    <span class="c">(* Plus rien à ajouter *)</span>
        <span class="o">|</span> <span class="n">j</span> <span class="o">::</span> <span class="n">s2</span> <span class="o">-&gt;</span>   <span class="c">(* On traite j, puis récursivement la suite de s *)</span>
            <span class="k">let</span> <span class="n">t_inter_j</span> <span class="o">=</span> <span class="nn">List</span><span class="p">.</span><span class="n">map</span> <span class="o">(</span><span class="n">intersection</span> <span class="n">j</span><span class="o">)</span> <span class="n">tx</span> <span class="k">in</span>
            <span class="n">inter_aux</span> <span class="o">((</span><span class="n">ajoute_nouveaux_option</span> <span class="n">acc</span> <span class="n">t_inter_j</span><span class="o">)</span> <span class="o">@</span> <span class="n">acc</span><span class="o">)</span> <span class="n">tx</span> <span class="n">s2</span>
    <span class="k">in</span>
    <span class="nn">List</span><span class="p">.</span><span class="n">sort</span> <span class="n">compare</span> <span class="o">(</span><span class="n">inter_aux</span> <span class="bp">[]</span> <span class="n">t</span> <span class="n">s</span><span class="o">)</span>
    <span class="c">(* On trie pour les avoir en ordre croissant, c&#39;est tout *)</span>
<span class="o">;;</span>
</pre></div>

    </div>
</div>
</div>

<div class="output_wrapper">
<div class="output">


<div class="output_area">

    <div class="prompt output_prompt">Out[101]:</div>




<div class="output_text output_subarea output_execute_result">
<pre>val intersections : intervalles -&gt; intervalles -&gt; intervalles = &lt;fun&gt;
</pre>
</div>

</div>

</div>
</div>

</div>
<div class="cell border-box-sizing text_cell rendered"><div class="prompt input_prompt">
</div><div class="inner_cell">
<div class="text_cell_render border-box-sizing rendered_html">
<p>Pour frimer un peu et simplifier l'écriture de l'algorithme PC, on peut définir une opération infixe en raccourci :
$$ T \oplus S = \texttt{t ++ s}.$$</p>

</div>
</div>
</div>
<div class="cell border-box-sizing code_cell rendered">
<div class="input">
<div class="prompt input_prompt">In&nbsp;[102]:</div>
<div class="inner_cell">
    <div class="input_area">
<div class=" highlight hl-OCaml"><pre><span></span><span class="k">let</span> <span class="o">(</span> <span class="o">++</span> <span class="o">)</span> <span class="o">=</span> <span class="n">intersections</span><span class="o">;;</span>
</pre></div>

    </div>
</div>
</div>

<div class="output_wrapper">
<div class="output">


<div class="output_area">

    <div class="prompt output_prompt">Out[102]:</div>




<div class="output_text output_subarea output_execute_result">
<pre>val ( ++ ) : intervalles -&gt; intervalles -&gt; intervalles = &lt;fun&gt;
</pre>
</div>

</div>

</div>
</div>

</div>
<div class="cell border-box-sizing text_cell rendered"><div class="prompt input_prompt">
</div><div class="inner_cell">
<div class="text_cell_render border-box-sizing rendered_html">
<h4 id="Composition">Composition<a class="anchor-link" href="#Composition">&#182;</a></h4><p>Ce sera plus facile.
$$
\forall T = (I_1,\dots,I_l),
\forall S = (J_1,\dots,J_m),\\
T \otimes S := \{ K_1, \dots, K_n\}
\;\;\text{Où}\;\; K_k = [a + c, b + d], \;\text{si}\; I_i = [a, b], J_j = [c, d].
$$
Notez que $n \leq l \times m$ ici.</p>

</div>
</div>
</div>
<div class="cell border-box-sizing text_cell rendered"><div class="prompt input_prompt">
</div><div class="inner_cell">
<div class="text_cell_render border-box-sizing rendered_html">
<p>Pour la composition de deux intervalles, il n'y pas de difficulté particulière :</p>

</div>
</div>
</div>
<div class="cell border-box-sizing code_cell rendered">
<div class="input">
<div class="prompt input_prompt">In&nbsp;[103]:</div>
<div class="inner_cell">
    <div class="input_area">
<div class=" highlight hl-OCaml"><pre><span></span><span class="k">let</span> <span class="n">composition</span> <span class="o">(</span><span class="n">i</span> <span class="o">:</span> <span class="n">intervalle</span><span class="o">)</span> <span class="o">(</span><span class="n">j</span> <span class="o">:</span> <span class="n">intervalle</span><span class="o">)</span> <span class="o">:</span> <span class="n">intervalle</span> <span class="o">=</span>
    <span class="k">let</span> <span class="n">a</span> <span class="o">=</span> <span class="n">fst</span> <span class="n">i</span> <span class="ow">and</span> <span class="n">b</span> <span class="o">=</span> <span class="n">snd</span> <span class="n">i</span> <span class="k">in</span>
    <span class="k">let</span> <span class="n">c</span> <span class="o">=</span> <span class="n">fst</span> <span class="n">j</span> <span class="ow">and</span> <span class="n">d</span> <span class="o">=</span> <span class="n">snd</span> <span class="n">j</span> <span class="k">in</span>
    <span class="c">(* (a + c, b + d) *)</span>
    <span class="o">((</span><span class="n">plus_ee</span> <span class="n">a</span> <span class="n">c</span><span class="o">),</span> <span class="o">(</span><span class="n">plus_ee</span> <span class="n">d</span> <span class="n">b</span><span class="o">))</span>
<span class="o">;;</span>
</pre></div>

    </div>
</div>
</div>

<div class="output_wrapper">
<div class="output">


<div class="output_area">

    <div class="prompt output_prompt">Out[103]:</div>




<div class="output_text output_subarea output_execute_result">
<pre>val composition : intervalle -&gt; intervalle -&gt; intervalle = &lt;fun&gt;
</pre>
</div>

</div>

</div>
</div>

</div>
<div class="cell border-box-sizing text_cell rendered"><div class="prompt input_prompt">
</div><div class="inner_cell">
<div class="text_cell_render border-box-sizing rendered_html">
<p>Et on les combine facilement, en gardant la même architecture que pour <code>intersections</code>.</p>

</div>
</div>
</div>
<div class="cell border-box-sizing code_cell rendered">
<div class="input">
<div class="prompt input_prompt">In&nbsp;[104]:</div>
<div class="inner_cell">
    <div class="input_area">
<div class=" highlight hl-OCaml"><pre><span></span><span class="k">let</span> <span class="n">ajoute_nouveaux</span> <span class="o">(</span><span class="n">acc</span> <span class="o">:</span> <span class="n">intervalles</span><span class="o">)</span> <span class="o">(</span><span class="n">liste</span> <span class="o">:</span> <span class="n">intervalles</span><span class="o">)</span> <span class="o">:</span> <span class="n">intervalles</span> <span class="o">=</span>
    <span class="nn">List</span><span class="p">.</span><span class="n">filter</span> <span class="o">(</span><span class="k">fun</span> <span class="n">i</span> <span class="o">-&gt;</span> <span class="n">not</span> <span class="o">(</span><span class="nn">List</span><span class="p">.</span><span class="n">mem</span> <span class="n">i</span> <span class="n">acc</span><span class="o">))</span> <span class="n">liste</span>
<span class="o">;;</span>
</pre></div>

    </div>
</div>
</div>

<div class="output_wrapper">
<div class="output">


<div class="output_area">

    <div class="prompt output_prompt">Out[104]:</div>




<div class="output_text output_subarea output_execute_result">
<pre>val ajoute_nouveaux : intervalles -&gt; intervalles -&gt; intervalles = &lt;fun&gt;
</pre>
</div>

</div>

</div>
</div>

</div>
<div class="cell border-box-sizing code_cell rendered">
<div class="input">
<div class="prompt input_prompt">In&nbsp;[105]:</div>
<div class="inner_cell">
    <div class="input_area">
<div class=" highlight hl-OCaml"><pre><span></span><span class="k">let</span> <span class="n">compositions</span> <span class="o">(</span><span class="n">t</span> <span class="o">:</span> <span class="n">intervalles</span><span class="o">)</span> <span class="o">(</span><span class="n">s</span> <span class="o">:</span> <span class="n">intervalles</span><span class="o">)</span> <span class="o">:</span> <span class="n">intervalles</span> <span class="o">=</span>
    <span class="k">let</span> <span class="k">rec</span> <span class="n">compo_aux</span> <span class="n">acc</span> <span class="n">tx</span> <span class="n">sx</span> <span class="o">=</span>
        <span class="k">match</span> <span class="n">sx</span> <span class="k">with</span>
        <span class="o">|</span> <span class="bp">[]</span> <span class="o">-&gt;</span> <span class="n">acc</span>    <span class="c">(* Plus rien à ajouter *)</span>
        <span class="o">|</span> <span class="n">j</span> <span class="o">::</span> <span class="n">s2</span> <span class="o">-&gt;</span>   <span class="c">(* On traite j, puis récursivement la suite de s *)</span>
            <span class="k">let</span> <span class="n">t_compo_j</span> <span class="o">=</span> <span class="nn">List</span><span class="p">.</span><span class="n">map</span> <span class="o">(</span><span class="n">composition</span> <span class="n">j</span><span class="o">)</span> <span class="n">tx</span> <span class="k">in</span>
            <span class="n">compo_aux</span> <span class="o">((</span><span class="n">ajoute_nouveaux</span> <span class="n">acc</span> <span class="n">t_compo_j</span><span class="o">)</span> <span class="o">@</span> <span class="n">acc</span><span class="o">)</span> <span class="n">tx</span> <span class="n">s2</span>
    <span class="k">in</span>
    <span class="nn">List</span><span class="p">.</span><span class="n">sort</span> <span class="n">compare</span> <span class="o">(</span><span class="n">compo_aux</span> <span class="bp">[]</span> <span class="n">t</span> <span class="n">s</span><span class="o">)</span>
    <span class="c">(* On trie pour les avoir en ordre croissant, c&#39;est tout *)</span>
<span class="o">;;</span>
</pre></div>

    </div>
</div>
</div>

<div class="output_wrapper">
<div class="output">


<div class="output_area">

    <div class="prompt output_prompt">Out[105]:</div>




<div class="output_text output_subarea output_execute_result">
<pre>val compositions : intervalles -&gt; intervalles -&gt; intervalles = &lt;fun&gt;
</pre>
</div>

</div>

</div>
</div>

</div>
<div class="cell border-box-sizing text_cell rendered"><div class="prompt input_prompt">
</div><div class="inner_cell">
<div class="text_cell_render border-box-sizing rendered_html">
<p>Pour frimer un peu et simplifier l'écriture de l'algorithme PC, on peut définir une opération infixe en raccourci :
$$ T \otimes S = \texttt{t ** s}.$$</p>

</div>
</div>
</div>
<div class="cell border-box-sizing code_cell rendered">
<div class="input">
<div class="prompt input_prompt">In&nbsp;[106]:</div>
<div class="inner_cell">
    <div class="input_area">
<div class=" highlight hl-OCaml"><pre><span></span><span class="k">let</span> <span class="o">(</span> <span class="o">**</span> <span class="o">)</span> <span class="o">=</span> <span class="n">compositions</span><span class="o">;;</span>
</pre></div>

    </div>
</div>
</div>

<div class="output_wrapper">
<div class="output">


<div class="output_area">

    <div class="prompt output_prompt">Out[106]:</div>




<div class="output_text output_subarea output_execute_result">
<pre>val ( ** ) : intervalles -&gt; intervalles -&gt; intervalles = &lt;fun&gt;
</pre>
</div>

</div>

</div>
</div>

</div>
<div class="cell border-box-sizing text_cell rendered"><div class="prompt input_prompt">
</div><div class="inner_cell">
<div class="text_cell_render border-box-sizing rendered_html">
<h4 id="Union">Union<a class="anchor-link" href="#Union">&#182;</a></h4><p>On peut aussi rapidement définier $T \cup S$, pour l'union. C'est très facile.</p>

</div>
</div>
</div>
<div class="cell border-box-sizing code_cell rendered">
<div class="input">
<div class="prompt input_prompt">In&nbsp;[107]:</div>
<div class="inner_cell">
    <div class="input_area">
<div class=" highlight hl-OCaml"><pre><span></span><span class="k">let</span> <span class="n">union</span> <span class="o">(</span><span class="n">t</span> <span class="o">:</span> <span class="n">intervalles</span><span class="o">)</span> <span class="o">(</span><span class="n">s</span> <span class="o">:</span> <span class="n">intervalles</span><span class="o">)</span> <span class="o">:</span> <span class="n">intervalles</span> <span class="o">=</span>
    <span class="nn">List</span><span class="p">.</span><span class="n">append</span> <span class="n">t</span> <span class="n">s</span>
<span class="o">;;</span>
</pre></div>

    </div>
</div>
</div>

<div class="output_wrapper">
<div class="output">


<div class="output_area">

    <div class="prompt output_prompt">Out[107]:</div>




<div class="output_text output_subarea output_execute_result">
<pre>val union : intervalles -&gt; intervalles -&gt; intervalles = &lt;fun&gt;
</pre>
</div>

</div>

</div>
</div>

</div>
<div class="cell border-box-sizing text_cell rendered"><div class="prompt input_prompt">
</div><div class="inner_cell">
<div class="text_cell_render border-box-sizing rendered_html">
<h4 id="Exemples">Exemples<a class="anchor-link" href="#Exemples">&#182;</a></h4><p>On aimerait reproduire les exemples de la Figure 2 du texte.
<img src="images/intersection_composition_contraintes.png" alt="images/intersection_composition_contraintes.png"></p>

</div>
</div>
</div>
<div class="cell border-box-sizing text_cell rendered"><div class="prompt input_prompt">
</div><div class="inner_cell">
<div class="text_cell_render border-box-sizing rendered_html">
<ul>
<li>Pour les deux intervalles de la Figure 2.a) : $T_a = \{ [1, 4], [6, 8] \}$ et $S_a = \{ [0, 1], [3, 5], [6, 7] \}$.</li>
</ul>

</div>
</div>
</div>
<div class="cell border-box-sizing code_cell rendered">
<div class="input">
<div class="prompt input_prompt">In&nbsp;[108]:</div>
<div class="inner_cell">
    <div class="input_area">
<div class=" highlight hl-OCaml"><pre><span></span><span class="n">t_a</span> <span class="o">++</span> <span class="n">s_a</span><span class="o">;;</span>
</pre></div>

    </div>
</div>
</div>

<div class="output_wrapper">
<div class="output">


<div class="output_area">

    <div class="prompt output_prompt">Out[108]:</div>




<div class="output_text output_subarea output_execute_result">
<pre>- : intervalles = [(E 3, E 4); (E 6, E 7)]
</pre>
</div>

</div>

</div>
</div>

</div>
<div class="cell border-box-sizing text_cell rendered"><div class="prompt input_prompt">
</div><div class="inner_cell">
<div class="text_cell_render border-box-sizing rendered_html">
<p>On retrouve bien le résultat de la Figure 2.a).</p>

</div>
</div>
</div>
<div class="cell border-box-sizing code_cell rendered">
<div class="input">
<div class="prompt input_prompt">In&nbsp;[109]:</div>
<div class="inner_cell">
    <div class="input_area">
<div class=" highlight hl-OCaml"><pre><span></span><span class="n">t_a</span> <span class="o">**</span> <span class="n">s_a</span><span class="o">;;</span>
<span class="n">union</span> <span class="n">t_a</span> <span class="n">s_a</span><span class="o">;;</span>
</pre></div>

    </div>
</div>
</div>

<div class="output_wrapper">
<div class="output">


<div class="output_area">

    <div class="prompt output_prompt">Out[109]:</div>




<div class="output_text output_subarea output_execute_result">
<pre>- : intervalles =
[(E 1, E 5); (E 4, E 9); (E 6, E 9); (E 7, E 11); (E 9, E 13); (E 12, E 15)]
</pre>
</div>

</div>

<div class="output_area">

    <div class="prompt output_prompt">Out[109]:</div>




<div class="output_text output_subarea output_execute_result">
<pre>- : intervalles =
[(E 1, E 4); (E 6, E 8); (E 0, E 1); (E 3, E 5); (E 6, E 7)]
</pre>
</div>

</div>

</div>
</div>

</div>
<div class="cell border-box-sizing text_cell rendered"><div class="prompt input_prompt">
</div><div class="inner_cell">
<div class="text_cell_render border-box-sizing rendered_html">
<ul>
<li>Pour les deux intervalles de la Figure 2.b) : $T_b = \{ [-1, 0], [2, 4] \}$ et $S_b = \{ [0, 1], [4, 4] \}$.</li>
</ul>

</div>
</div>
</div>
<div class="cell border-box-sizing code_cell rendered">
<div class="input">
<div class="prompt input_prompt">In&nbsp;[110]:</div>
<div class="inner_cell">
    <div class="input_area">
<div class=" highlight hl-OCaml"><pre><span></span><span class="n">t_b</span> <span class="o">**</span> <span class="n">s_b</span><span class="o">;;</span>
</pre></div>

    </div>
</div>
</div>

<div class="output_wrapper">
<div class="output">


<div class="output_area">

    <div class="prompt output_prompt">Out[110]:</div>




<div class="output_text output_subarea output_execute_result">
<pre>- : intervalles = [(E (-1), E 1); (E 2, E 5); (E 3, E 4); (E 6, E 8)]
</pre>
</div>

</div>

</div>
</div>

</div>
<div class="cell border-box-sizing text_cell rendered"><div class="prompt input_prompt">
</div><div class="inner_cell">
<div class="text_cell_render border-box-sizing rendered_html">
<p>On retrouve bien le résultat de la Figure 2.b).</p>
<p>L'intervalle $[3, 4]$ est inclus dans $[2, 5]$, donc on devrait ajouter une étape de nettoyage pour donner une forme canonique aux intervalles produit par <code>composition</code>. On le fait plus bas.</p>

</div>
</div>
</div>
<div class="cell border-box-sizing code_cell rendered">
<div class="input">
<div class="prompt input_prompt">In&nbsp;[113]:</div>
<div class="inner_cell">
    <div class="input_area">
<div class=" highlight hl-OCaml"><pre><span></span><span class="n">t_b</span><span class="o">;;</span>
<span class="n">s_b</span><span class="o">;;</span>
</pre></div>

    </div>
</div>
</div>

<div class="output_wrapper">
<div class="output">


<div class="output_area">

    <div class="prompt output_prompt">Out[113]:</div>




<div class="output_text output_subarea output_execute_result">
<pre>- : intervalles = [(E (-1), E 0); (E 2, E 4)]
</pre>
</div>

</div>

<div class="output_area">

    <div class="prompt output_prompt">Out[113]:</div>




<div class="output_text output_subarea output_execute_result">
<pre>- : intervalles = [(E 0, E 1); (E 4, E 4)]
</pre>
</div>

</div>

</div>
</div>

</div>
<div class="cell border-box-sizing code_cell rendered">
<div class="input">
<div class="prompt input_prompt">In&nbsp;[114]:</div>
<div class="inner_cell">
    <div class="input_area">
<div class=" highlight hl-OCaml"><pre><span></span><span class="n">t_b</span> <span class="o">++</span> <span class="n">s_b</span><span class="o">;;</span>
<span class="n">union</span> <span class="n">t_b</span> <span class="n">s_b</span><span class="o">;;</span>
</pre></div>

    </div>
</div>
</div>

<div class="output_wrapper">
<div class="output">


<div class="output_area">

    <div class="prompt output_prompt">Out[114]:</div>




<div class="output_text output_subarea output_execute_result">
<pre>- : intervalles = []
</pre>
</div>

</div>

<div class="output_area">

    <div class="prompt output_prompt">Out[114]:</div>




<div class="output_text output_subarea output_execute_result">
<pre>- : intervalles = [(E (-1), E 0); (E 2, E 4); (E 0, E 1); (E 4, E 4)]
</pre>
</div>

</div>

</div>
</div>

</div>
<div class="cell border-box-sizing text_cell rendered"><div class="prompt input_prompt">
</div><div class="inner_cell">
<div class="text_cell_render border-box-sizing rendered_html">
<p>On remarque que les intervalles sont bien donnés dans l'ordre croissant, puisqu'on a pensé à trier la sortie des deux fonctions, mais ça ne change rien.</p>

</div>
</div>
</div>
<div class="cell border-box-sizing text_cell rendered"><div class="prompt input_prompt">
</div><div class="inner_cell">
<div class="text_cell_render border-box-sizing rendered_html">
<h4 id="Une-&#233;tape-de-plus-:-ne-pas-inclure-des-intervalles-inclus-dans-ceux-d&#233;j&#224;-pr&#233;sents">Une &#233;tape de plus : ne pas inclure des intervalles inclus dans ceux d&#233;j&#224; pr&#233;sents<a class="anchor-link" href="#Une-&#233;tape-de-plus-:-ne-pas-inclure-des-intervalles-inclus-dans-ceux-d&#233;j&#224;-pr&#233;sents">&#182;</a></h4><p>On va raffiner les fonctions définis ci-dessus en ajoutant un test, sur leur résultat final.</p>
<ul>
<li><code>est_inclus i j</code> teste si $I \subseteq J$.</li>
</ul>

</div>
</div>
</div>
<div class="cell border-box-sizing code_cell rendered">
<div class="input">
<div class="prompt input_prompt">In&nbsp;[119]:</div>
<div class="inner_cell">
    <div class="input_area">
<div class=" highlight hl-OCaml"><pre><span></span><span class="k">let</span> <span class="n">est_inclus</span> <span class="o">(</span><span class="n">i</span> <span class="o">:</span> <span class="n">intervalle</span><span class="o">)</span> <span class="o">(</span><span class="n">j</span> <span class="o">:</span> <span class="n">intervalle</span><span class="o">)</span> <span class="o">:</span> <span class="kt">bool</span> <span class="o">=</span>
    <span class="k">let</span> <span class="n">a</span> <span class="o">=</span> <span class="n">fst</span> <span class="n">i</span> <span class="ow">and</span> <span class="n">b</span> <span class="o">=</span> <span class="n">snd</span> <span class="n">i</span> <span class="k">in</span>
    <span class="k">let</span> <span class="n">c</span> <span class="o">=</span> <span class="n">fst</span> <span class="n">j</span> <span class="ow">and</span> <span class="n">d</span> <span class="o">=</span> <span class="n">snd</span> <span class="n">j</span> <span class="k">in</span>
    <span class="c">(* on peut aussi écrire directement</span>
<span class="c">    let a, b = i and c, d = j in</span>
<span class="c">    pour extraire les valeurs d&#39;un coupe i=(a,b) et j=(c,d)</span>
<span class="c">    *)</span>
    <span class="c">(* c &lt;= a &amp;&amp; b &lt;= d *)</span>
    <span class="o">(</span><span class="n">pluspetiteq_ee</span> <span class="n">c</span> <span class="n">a</span><span class="o">)</span> <span class="o">&amp;&amp;</span> <span class="o">(</span><span class="n">pluspetiteq_ee</span> <span class="n">b</span> <span class="n">d</span><span class="o">)</span>
<span class="o">;;</span>
</pre></div>

    </div>
</div>
</div>

<div class="output_wrapper">
<div class="output">


<div class="output_area">

    <div class="prompt output_prompt">Out[119]:</div>




<div class="output_text output_subarea output_execute_result">
<pre>val est_inclus : intervalle -&gt; intervalle -&gt; bool = &lt;fun&gt;
</pre>
</div>

</div>

</div>
</div>

</div>
<div class="cell border-box-sizing code_cell rendered">
<div class="input">
<div class="prompt input_prompt">In&nbsp;[121]:</div>
<div class="inner_cell">
    <div class="input_area">
<div class=" highlight hl-OCaml"><pre><span></span><span class="n">est_inclus</span> <span class="o">(</span><span class="nc">E</span><span class="o">(</span><span class="mi">3</span><span class="o">),</span> <span class="nc">E</span><span class="o">(</span><span class="mi">4</span><span class="o">))</span> <span class="o">(</span><span class="nc">E</span><span class="o">(</span><span class="mi">2</span><span class="o">),</span> <span class="nc">E</span><span class="o">(</span><span class="mi">5</span><span class="o">));;</span> <span class="c">(* true *)</span>
<span class="n">est_inclus</span> <span class="o">(</span><span class="nc">E</span><span class="o">(</span><span class="mi">2</span><span class="o">),</span> <span class="nc">E</span><span class="o">(</span><span class="mi">5</span><span class="o">))</span> <span class="o">(</span><span class="nc">E</span><span class="o">(</span><span class="mi">3</span><span class="o">),</span> <span class="nc">E</span><span class="o">(</span><span class="mi">4</span><span class="o">));;</span> <span class="c">(* false *)</span>
<span class="n">est_inclus</span> <span class="o">(</span><span class="nc">E</span><span class="o">(</span><span class="mi">1</span><span class="o">),</span> <span class="nc">E</span><span class="o">(</span><span class="mi">1</span><span class="o">))</span> <span class="o">(</span><span class="nc">E</span><span class="o">(</span><span class="mi">1</span><span class="o">),</span> <span class="nc">E</span><span class="o">(</span><span class="mi">1</span><span class="o">));;</span> <span class="c">(* true *)</span>
</pre></div>

    </div>
</div>
</div>

<div class="output_wrapper">
<div class="output">


<div class="output_area">

    <div class="prompt output_prompt">Out[121]:</div>




<div class="output_text output_subarea output_execute_result">
<pre>- : bool = true
</pre>
</div>

</div>

<div class="output_area">

    <div class="prompt output_prompt">Out[121]:</div>




<div class="output_text output_subarea output_execute_result">
<pre>- : bool = false
</pre>
</div>

</div>

<div class="output_area">

    <div class="prompt output_prompt">Out[121]:</div>




<div class="output_text output_subarea output_execute_result">
<pre>- : bool = true
</pre>
</div>

</div>

</div>
</div>

</div>
<div class="cell border-box-sizing text_cell rendered"><div class="prompt input_prompt">
</div><div class="inner_cell">
<div class="text_cell_render border-box-sizing rendered_html">
<ul>
<li><code>est_inclus_dans_un i acc</code> teste si $I \subseteq J$ pour <strong>un</strong> $J \neq I \in \mathrm{Acc}$.</li>
</ul>

</div>
</div>
</div>
<div class="cell border-box-sizing code_cell rendered">
<div class="input">
<div class="prompt input_prompt">In&nbsp;[122]:</div>
<div class="inner_cell">
    <div class="input_area">
<div class=" highlight hl-OCaml"><pre><span></span><span class="k">let</span> <span class="n">est_inclus_dans_un</span> <span class="o">(</span><span class="n">i</span> <span class="o">:</span> <span class="n">intervalle</span><span class="o">)</span> <span class="o">(</span><span class="n">acc</span> <span class="o">:</span> <span class="n">intervalles</span><span class="o">)</span> <span class="o">:</span> <span class="kt">bool</span> <span class="o">=</span>
    <span class="nn">List</span><span class="p">.</span><span class="n">exists</span> <span class="o">(</span><span class="k">fun</span> <span class="n">j</span> <span class="o">-&gt;</span> <span class="o">(</span><span class="n">i</span> <span class="o">!=</span> <span class="n">j</span><span class="o">)</span> <span class="o">&amp;&amp;</span> <span class="o">(</span><span class="n">est_inclus</span> <span class="n">i</span> <span class="n">j</span><span class="o">))</span> <span class="n">acc</span>
<span class="o">;;</span>
</pre></div>

    </div>
</div>
</div>

<div class="output_wrapper">
<div class="output">


<div class="output_area">

    <div class="prompt output_prompt">Out[122]:</div>




<div class="output_text output_subarea output_execute_result">
<pre>val est_inclus_dans_un : intervalle -&gt; intervalles -&gt; bool = &lt;fun&gt;
</pre>
</div>

</div>

</div>
</div>

</div>
<div class="cell border-box-sizing text_cell rendered"><div class="prompt input_prompt">
</div><div class="inner_cell">
<div class="text_cell_render border-box-sizing rendered_html">
<ul>
<li>On peut écrire une fonction <code>filtre</code> qui retire les intervalles inclus dans d'autres, puis retire les doublons.</li>
</ul>

</div>
</div>
</div>
<div class="cell border-box-sizing code_cell rendered">
<div class="input">
<div class="prompt input_prompt">In&nbsp;[123]:</div>
<div class="inner_cell">
    <div class="input_area">
<div class=" highlight hl-OCaml"><pre><span></span><span class="k">let</span> <span class="n">retire_les_inclus</span> <span class="o">(</span><span class="n">liste</span> <span class="o">:</span> <span class="n">intervalles</span><span class="o">)</span> <span class="o">:</span> <span class="n">intervalles</span> <span class="o">=</span>
    <span class="nn">List</span><span class="p">.</span><span class="n">filter</span> <span class="o">(</span><span class="k">fun</span> <span class="n">i</span> <span class="o">-&gt;</span> <span class="n">not</span> <span class="o">(</span><span class="n">est_inclus_dans_un</span> <span class="n">i</span> <span class="n">liste</span><span class="o">))</span> <span class="n">liste</span>
<span class="o">;;</span>

<span class="k">let</span> <span class="n">retire_les_doublons</span> <span class="o">(</span><span class="n">liste</span> <span class="o">:</span> <span class="n">intervalles</span><span class="o">)</span> <span class="o">:</span> <span class="n">intervalles</span> <span class="o">=</span>
    <span class="k">let</span> <span class="n">reponse</span> <span class="o">=</span> <span class="n">ref</span> <span class="bp">[]</span> <span class="k">in</span>
    <span class="nn">List</span><span class="p">.</span><span class="n">iter</span> <span class="o">(</span><span class="k">fun</span> <span class="n">i</span> <span class="o">-&gt;</span>
        <span class="k">if</span> <span class="n">not</span> <span class="o">(</span><span class="nn">List</span><span class="p">.</span><span class="n">mem</span> <span class="n">i</span> <span class="o">!</span><span class="n">reponse</span><span class="o">)</span> <span class="k">then</span>
        <span class="n">reponse</span> <span class="o">:=</span> <span class="n">i</span> <span class="o">::</span> <span class="o">!</span><span class="n">reponse</span>
    <span class="o">)</span> <span class="n">liste</span><span class="o">;</span>
    <span class="o">!</span><span class="n">reponse</span>
<span class="o">;;</span>

<span class="k">let</span> <span class="n">filtre</span> <span class="n">liste</span> <span class="o">=</span>
    <span class="n">retire_les_doublons</span> <span class="o">(</span><span class="n">retire_les_inclus</span> <span class="n">liste</span><span class="o">)</span>
<span class="o">;;</span>
</pre></div>

    </div>
</div>
</div>

<div class="output_wrapper">
<div class="output">


<div class="output_area">

    <div class="prompt output_prompt">Out[123]:</div>




<div class="output_text output_subarea output_execute_result">
<pre>val retire_les_inclus : intervalles -&gt; intervalles = &lt;fun&gt;
</pre>
</div>

</div>

<div class="output_area">

    <div class="prompt output_prompt">Out[123]:</div>




<div class="output_text output_subarea output_execute_result">
<pre>val retire_les_doublons : intervalles -&gt; intervalles = &lt;fun&gt;
</pre>
</div>

</div>

<div class="output_area">

    <div class="prompt output_prompt">Out[123]:</div>




<div class="output_text output_subarea output_execute_result">
<pre>val filtre : intervalles -&gt; intervalles = &lt;fun&gt;
</pre>
</div>

</div>

</div>
</div>

</div>
<div class="cell border-box-sizing text_cell rendered"><div class="prompt input_prompt">
</div><div class="inner_cell">
<div class="text_cell_render border-box-sizing rendered_html">
<ul>
<li>L'intersection ne devrait pas être impactée.</li>
</ul>

</div>
</div>
</div>
<div class="cell border-box-sizing code_cell rendered">
<div class="input">
<div class="prompt input_prompt">In&nbsp;[124]:</div>
<div class="inner_cell">
    <div class="input_area">
<div class=" highlight hl-OCaml"><pre><span></span><span class="k">let</span> <span class="n">intersections2</span> <span class="o">(</span><span class="n">t</span> <span class="o">:</span> <span class="n">intervalles</span><span class="o">)</span> <span class="o">(</span><span class="n">s</span> <span class="o">:</span> <span class="n">intervalles</span><span class="o">)</span> <span class="o">:</span> <span class="n">intervalles</span> <span class="o">=</span>
    <span class="nn">List</span><span class="p">.</span><span class="n">sort</span> <span class="n">compare</span> <span class="o">(</span><span class="n">filtre</span> <span class="o">(</span><span class="n">intersections</span> <span class="n">t</span> <span class="n">s</span><span class="o">))</span>
    <span class="c">(* On trie pour les avoir en ordre croissant, c&#39;est tout *)</span>
<span class="o">;;</span>
</pre></div>

    </div>
</div>
</div>

<div class="output_wrapper">
<div class="output">


<div class="output_area">

    <div class="prompt output_prompt">Out[124]:</div>




<div class="output_text output_subarea output_execute_result">
<pre>val intersections2 : intervalles -&gt; intervalles -&gt; intervalles = &lt;fun&gt;
</pre>
</div>

</div>

</div>
</div>

</div>
<div class="cell border-box-sizing code_cell rendered">
<div class="input">
<div class="prompt input_prompt">In&nbsp;[125]:</div>
<div class="inner_cell">
    <div class="input_area">
<div class=" highlight hl-OCaml"><pre><span></span><span class="k">let</span> <span class="o">(</span> <span class="o">++</span> <span class="o">)</span> <span class="o">=</span> <span class="n">intersections2</span><span class="o">;;</span>

<span class="n">t_a</span> <span class="o">++</span> <span class="n">s_a</span><span class="o">;;</span>
</pre></div>

    </div>
</div>
</div>

<div class="output_wrapper">
<div class="output">


<div class="output_area">

    <div class="prompt output_prompt">Out[125]:</div>




<div class="output_text output_subarea output_execute_result">
<pre>val ( ++ ) : intervalles -&gt; intervalles -&gt; intervalles = &lt;fun&gt;
</pre>
</div>

</div>

<div class="output_area">

    <div class="prompt output_prompt">Out[125]:</div>




<div class="output_text output_subarea output_execute_result">
<pre>- : intervalles = [(E 3, E 4); (E 6, E 7)]
</pre>
</div>

</div>

</div>
</div>

</div>
<div class="cell border-box-sizing text_cell rendered"><div class="prompt input_prompt">
</div><div class="inner_cell">
<div class="text_cell_render border-box-sizing rendered_html">
<ul>
<li>Mais la composition va donner la bonne réponse désormais pour l'exemple de la figure 2.b).</li>
</ul>

</div>
</div>
</div>
<div class="cell border-box-sizing code_cell rendered">
<div class="input">
<div class="prompt input_prompt">In&nbsp;[126]:</div>
<div class="inner_cell">
    <div class="input_area">
<div class=" highlight hl-OCaml"><pre><span></span><span class="k">let</span> <span class="n">compositions2</span> <span class="o">(</span><span class="n">t</span> <span class="o">:</span> <span class="n">intervalles</span><span class="o">)</span> <span class="o">(</span><span class="n">s</span> <span class="o">:</span> <span class="n">intervalles</span><span class="o">)</span> <span class="o">:</span> <span class="n">intervalles</span> <span class="o">=</span>
    <span class="nn">List</span><span class="p">.</span><span class="n">sort</span> <span class="n">compare</span> <span class="o">(</span><span class="n">filtre</span> <span class="o">(</span><span class="n">compositions</span> <span class="n">t</span> <span class="n">s</span><span class="o">))</span>
    <span class="c">(* On trie pour les avoir en ordre croissant, c&#39;est tout *)</span>
<span class="o">;;</span>
</pre></div>

    </div>
</div>
</div>

<div class="output_wrapper">
<div class="output">


<div class="output_area">

    <div class="prompt output_prompt">Out[126]:</div>




<div class="output_text output_subarea output_execute_result">
<pre>val compositions2 : intervalles -&gt; intervalles -&gt; intervalles = &lt;fun&gt;
</pre>
</div>

</div>

</div>
</div>

</div>
<div class="cell border-box-sizing code_cell rendered">
<div class="input">
<div class="prompt input_prompt">In&nbsp;[127]:</div>
<div class="inner_cell">
    <div class="input_area">
<div class=" highlight hl-OCaml"><pre><span></span><span class="k">let</span> <span class="o">(</span> <span class="o">**</span> <span class="o">)</span> <span class="o">=</span> <span class="n">compositions2</span><span class="o">;;</span>

<span class="n">t_b</span> <span class="o">**</span> <span class="n">s_b</span><span class="o">;;</span>
</pre></div>

    </div>
</div>
</div>

<div class="output_wrapper">
<div class="output">


<div class="output_area">

    <div class="prompt output_prompt">Out[127]:</div>




<div class="output_text output_subarea output_execute_result">
<pre>val ( ** ) : intervalles -&gt; intervalles -&gt; intervalles = &lt;fun&gt;
</pre>
</div>

</div>

<div class="output_area">

    <div class="prompt output_prompt">Out[127]:</div>




<div class="output_text output_subarea output_execute_result">
<pre>- : intervalles = [(E (-1), E 1); (E 2, E 5); (E 6, E 8)]
</pre>
</div>

</div>

</div>
</div>

</div>
<div class="cell border-box-sizing text_cell rendered"><div class="prompt input_prompt">
</div><div class="inner_cell">
<div class="text_cell_render border-box-sizing rendered_html">
<blockquote><p>C'était un peu long, mais c'est propre au moins.</p>
</blockquote>

</div>
</div>
</div>
<div class="cell border-box-sizing text_cell rendered"><div class="prompt input_prompt">
</div><div class="inner_cell">
<div class="text_cell_render border-box-sizing rendered_html">
<p>Notez que pour obtenir une vraie forme canonique, il faudrait aussi rassembler les intervalles consécutifs ($\{ [0, 1], [1, 2] \} \rightarrow \{ [0, 1] \}$) et se recoupant ($\{ [0, 3], [2, 4] \} \rightarrow \{ [0, 4] \}$).</p>
<blockquote><p>Ça prendrait trop de temps. Et ce n'était pas exigé.</p>
</blockquote>

</div>
</div>
</div>
<div class="cell border-box-sizing text_cell rendered"><div class="prompt input_prompt">
</div><div class="inner_cell">
<div class="text_cell_render border-box-sizing rendered_html">
<hr>
<h3 id="L'algorithme-PC">L'algorithme PC<a class="anchor-link" href="#L'algorithme-PC">&#182;</a></h3>
</div>
</div>
</div>
<div class="cell border-box-sizing text_cell rendered"><div class="prompt input_prompt">
</div><div class="inner_cell">
<div class="text_cell_render border-box-sizing rendered_html">
<h4 id="Structure-de-donn&#233;es-pour-les-r&#233;seaux-STP">Structure de donn&#233;es pour les r&#233;seaux STP<a class="anchor-link" href="#Structure-de-donn&#233;es-pour-les-r&#233;seaux-STP">&#182;</a></h4><p>On a besoin désormais de considérer des réseaux STP, qui sont des graphes dont les sommets sont des entiers, et dont les arêtes sont étiquetées par des <em>listes</em> (non vides) d'intervalles.</p>
<p>L'algorithme PC demande de pouvoir accéder rapidement et facilement à l'arête entre deux sommets $x,y$, $T_{x,y}$.
Ainsi, la structure de matrice d'adjacence semble appropriée.
Les arêtes inexistantes dans le réseau auront simplement $T_{x,y} = \emptyset$, c'est-à-dire <code>[]</code> (liste vide).</p>
<blockquote><p>On supposera que toutes les matrices données aux différentes fonctions définies plus bas sont carrées, on ne le vérifie pas (mais ce serait facile).</p>
</blockquote>

</div>
</div>
</div>
<div class="cell border-box-sizing code_cell rendered">
<div class="input">
<div class="prompt input_prompt">In&nbsp;[128]:</div>
<div class="inner_cell">
    <div class="input_area">
<div class=" highlight hl-OCaml"><pre><span></span><span class="k">type</span> <span class="n">sommet</span> <span class="o">=</span> <span class="kt">int</span><span class="o">;;</span>
<span class="k">type</span> <span class="n">arete</span> <span class="o">=</span> <span class="n">intervalles</span><span class="o">;;</span> <span class="c">(* c&#39;est l&#39;idée *)</span>

<span class="k">type</span> <span class="n">reseauSTP</span> <span class="o">=</span> <span class="n">intervalles</span> <span class="kt">array</span> <span class="kt">array</span><span class="o">;;</span>
</pre></div>

    </div>
</div>
</div>

<div class="output_wrapper">
<div class="output">


<div class="output_area">

    <div class="prompt output_prompt">Out[128]:</div>




<div class="output_text output_subarea output_execute_result">
<pre>type sommet = int
</pre>
</div>

</div>

<div class="output_area">

    <div class="prompt output_prompt">Out[128]:</div>




<div class="output_text output_subarea output_execute_result">
<pre>type arete = intervalles
</pre>
</div>

</div>

<div class="output_area">

    <div class="prompt output_prompt">Out[128]:</div>




<div class="output_text output_subarea output_execute_result">
<pre>type reseauSTP = intervalles array array
</pre>
</div>

</div>

</div>
</div>

</div>
<div class="cell border-box-sizing text_cell rendered"><div class="prompt input_prompt">
</div><div class="inner_cell">
<div class="text_cell_render border-box-sizing rendered_html">
<p>On essaie tout de suite notre structure de données avec l'exemple du réseau STP de la figure 4 :</p>

</div>
</div>
</div>
<div class="cell border-box-sizing code_cell rendered">
<div class="input">
<div class="prompt input_prompt">In&nbsp;[235]:</div>
<div class="inner_cell">
    <div class="input_area">
<div class=" highlight hl-OCaml"><pre><span></span><span class="k">let</span> <span class="n">t_01</span> <span class="o">:</span> <span class="n">intervalles</span> <span class="o">=</span> <span class="o">[(</span><span class="nc">E</span><span class="o">(</span><span class="mi">0</span><span class="o">),</span> <span class="nc">E</span><span class="o">(</span><span class="mi">1</span><span class="o">));</span> <span class="o">(</span><span class="nc">E</span><span class="o">(</span><span class="mi">10</span><span class="o">),</span> <span class="nc">E</span><span class="o">(</span><span class="mi">20</span><span class="o">))];;</span>
<span class="k">let</span> <span class="n">t_12</span> <span class="o">:</span> <span class="n">intervalles</span> <span class="o">=</span> <span class="o">[(</span><span class="nc">E</span><span class="o">(</span><span class="mi">0</span><span class="o">),</span> <span class="nc">E</span><span class="o">(</span><span class="mi">10</span><span class="o">))];;</span>
<span class="k">let</span> <span class="n">t_13</span> <span class="o">:</span> <span class="n">intervalles</span> <span class="o">=</span> <span class="o">[(</span><span class="nc">E</span><span class="o">(</span><span class="mi">25</span><span class="o">),</span> <span class="nc">E</span><span class="o">(</span><span class="mi">50</span><span class="o">))];;</span>
<span class="k">let</span> <span class="n">t_23</span> <span class="o">:</span> <span class="n">intervalles</span> <span class="o">=</span> <span class="o">[(</span><span class="nc">E</span><span class="o">(</span><span class="mi">0</span><span class="o">),</span> <span class="nc">E</span><span class="o">(</span><span class="mi">20</span><span class="o">));</span> <span class="o">(</span><span class="nc">E</span><span class="o">(</span><span class="mi">40</span><span class="o">),</span> <span class="nc">E</span><span class="o">(</span><span class="mi">40</span><span class="o">))];;</span>

<span class="k">let</span> <span class="n">t_vide</span> <span class="o">=</span> <span class="o">[(</span><span class="nc">MInf</span><span class="o">,</span> <span class="nc">PInf</span><span class="o">)];;</span>

<span class="k">let</span> <span class="n">stp_4</span> <span class="o">:</span> <span class="n">reseauSTP</span> <span class="o">=</span> <span class="o">[|</span>
    <span class="o">[|</span> <span class="n">t_vide</span><span class="o">;</span> <span class="n">t_01</span><span class="o">;</span>   <span class="n">t_vide</span><span class="o">;</span> <span class="n">t_vide</span> <span class="o">|];</span>
    <span class="o">[|</span> <span class="n">t_vide</span><span class="o">;</span> <span class="n">t_vide</span><span class="o">;</span> <span class="n">t_12</span><span class="o">;</span>   <span class="n">t_13</span> <span class="o">|];</span>
    <span class="o">[|</span> <span class="n">t_vide</span><span class="o">;</span> <span class="n">t_vide</span><span class="o">;</span> <span class="n">t_vide</span><span class="o">;</span> <span class="n">t_23</span> <span class="o">|];</span>
    <span class="o">[|</span> <span class="n">t_vide</span><span class="o">;</span> <span class="n">t_vide</span><span class="o">;</span> <span class="n">t_vide</span><span class="o">;</span> <span class="n">t_vide</span> <span class="o">|];</span>
<span class="o">|];;</span>
</pre></div>

    </div>
</div>
</div>

<div class="output_wrapper">
<div class="output">


<div class="output_area">

    <div class="prompt output_prompt">Out[235]:</div>




<div class="output_text output_subarea output_execute_result">
<pre>val t_01 : intervalles = [(E 0, E 1); (E 10, E 20)]
</pre>
</div>

</div>

<div class="output_area">

    <div class="prompt output_prompt">Out[235]:</div>




<div class="output_text output_subarea output_execute_result">
<pre>val t_12 : intervalles = [(E 0, E 10)]
</pre>
</div>

</div>

<div class="output_area">

    <div class="prompt output_prompt">Out[235]:</div>




<div class="output_text output_subarea output_execute_result">
<pre>val t_13 : intervalles = [(E 25, E 50)]
</pre>
</div>

</div>

<div class="output_area">

    <div class="prompt output_prompt">Out[235]:</div>




<div class="output_text output_subarea output_execute_result">
<pre>val t_23 : intervalles = [(E 0, E 20); (E 40, E 40)]
</pre>
</div>

</div>

<div class="output_area">

    <div class="prompt output_prompt">Out[235]:</div>




<div class="output_text output_subarea output_execute_result">
<pre>val t_vide : (entier_etendu * entier_etendu) list = [(MInf, PInf)]
</pre>
</div>

</div>

<div class="output_area">

    <div class="prompt output_prompt">Out[235]:</div>




<div class="output_text output_subarea output_execute_result">
<pre>val stp_4 : reseauSTP =
  [|[|[(MInf, PInf)]; [(E 0, E 1); (E 10, E 20)]; [(MInf, PInf)];
      [(MInf, PInf)]|];
    [|[(MInf, PInf)]; [(MInf, PInf)]; [(E 0, E 10)]; [(E 25, E 50)]|];
    [|[(MInf, PInf)]; [(MInf, PInf)]; [(MInf, PInf)];
      [(E 0, E 20); (E 40, E 40)]|];
    [|[(MInf, PInf)]; [(MInf, PInf)]; [(MInf, PInf)]; [(MInf, PInf)]|]|]
</pre>
</div>

</div>

</div>
</div>

</div>
<div class="cell border-box-sizing text_cell rendered"><div class="prompt input_prompt">
</div><div class="inner_cell">
<div class="text_cell_render border-box-sizing rendered_html">
<p>On peut vérifier qu'il n'est pas distributif, en prenant l'exemple du texte (fin page 8) :</p>

</div>
</div>
</div>
<div class="cell border-box-sizing code_cell rendered">
<div class="input">
<div class="prompt input_prompt">In&nbsp;[236]:</div>
<div class="inner_cell">
    <div class="input_area">
<div class=" highlight hl-OCaml"><pre><span></span><span class="k">let</span> <span class="n">s_13</span> <span class="o">=</span> <span class="n">t_12</span> <span class="o">**</span> <span class="n">t_23</span><span class="o">;;</span>

<span class="n">t_13</span> <span class="o">++</span> <span class="n">s_13</span><span class="o">;;</span>
<span class="n">t_01</span> <span class="o">**</span> <span class="o">(</span><span class="n">t_13</span> <span class="o">++</span> <span class="n">s_13</span><span class="o">);;</span>  <span class="c">(* 1er cas *)</span>

<span class="n">t_01</span> <span class="o">**</span> <span class="n">t_13</span><span class="o">;;</span>
<span class="n">t_01</span> <span class="o">**</span> <span class="n">s_13</span><span class="o">;;</span>
<span class="o">(</span><span class="n">t_01</span> <span class="o">**</span> <span class="n">t_13</span><span class="o">)</span> <span class="o">++</span> <span class="o">(</span><span class="n">t_01</span> <span class="o">**</span> <span class="n">s_13</span><span class="o">);;</span> <span class="c">(* 2nd cas *)</span>
</pre></div>

    </div>
</div>
</div>

<div class="output_wrapper">
<div class="output">


<div class="output_area">

    <div class="prompt output_prompt">Out[236]:</div>




<div class="output_text output_subarea output_execute_result">
<pre>val s_13 : intervalles = [(E 0, E 30); (E 40, E 50)]
</pre>
</div>

</div>

<div class="output_area">

    <div class="prompt output_prompt">Out[236]:</div>




<div class="output_text output_subarea output_execute_result">
<pre>- : intervalles = [(E 25, E 30); (E 40, E 50)]
</pre>
</div>

</div>

<div class="output_area">

    <div class="prompt output_prompt">Out[236]:</div>




<div class="output_text output_subarea output_execute_result">
<pre>- : intervalles = [(E 25, E 31); (E 35, E 50); (E 40, E 51); (E 50, E 70)]
</pre>
</div>

</div>

<div class="output_area">

    <div class="prompt output_prompt">Out[236]:</div>




<div class="output_text output_subarea output_execute_result">
<pre>- : intervalles = [(E 25, E 51); (E 35, E 70)]
</pre>
</div>

</div>

<div class="output_area">

    <div class="prompt output_prompt">Out[236]:</div>




<div class="output_text output_subarea output_execute_result">
<pre>- : intervalles = [(E 0, E 31); (E 10, E 50); (E 40, E 51); (E 50, E 70)]
</pre>
</div>

</div>

<div class="output_area">

    <div class="prompt output_prompt">Out[236]:</div>




<div class="output_text output_subarea output_execute_result">
<pre>- : intervalles = [(E 25, E 50); (E 50, E 70)]
</pre>
</div>

</div>

</div>
</div>

</div>
<div class="cell border-box-sizing text_cell rendered"><div class="prompt input_prompt">
</div><div class="inner_cell">
<div class="text_cell_render border-box-sizing rendered_html">
<p>En simplifiant, on obtient :</p>
<ul>
<li>$T_{01} \otimes (T_{13} \oplus S_{13} = \{ [25, 31], [35, 70] \}$,</li>
<li>$(T_{01} \otimes T_{13}) \oplus (T_{01} \otimes S_{13}) = \{ [25, 70] \}$,</li>
</ul>
<p>qui sont bien différents.</p>

</div>
</div>
</div>
<div class="cell border-box-sizing text_cell rendered"><div class="prompt input_prompt">
</div><div class="inner_cell">
<div class="text_cell_render border-box-sizing rendered_html">
<p>Enfin, on peut rapidement vérifier si la matrice d'un graphe est bien carrée :</p>

</div>
</div>
</div>
<div class="cell border-box-sizing code_cell rendered">
<div class="input">
<div class="prompt input_prompt">In&nbsp;[237]:</div>
<div class="inner_cell">
    <div class="input_area">
<div class=" highlight hl-OCaml"><pre><span></span><span class="k">let</span> <span class="n">est_carree</span> <span class="n">matrice</span> <span class="o">=</span>
    <span class="k">let</span> <span class="n">n</span> <span class="o">=</span> <span class="nn">Array</span><span class="p">.</span><span class="n">length</span> <span class="n">matrice</span> <span class="k">in</span>
    <span class="nn">Array</span><span class="p">.</span><span class="n">fold_left</span> <span class="o">(</span><span class="k">fun</span> <span class="n">b</span> <span class="n">x</span> <span class="o">-&gt;</span> <span class="n">b</span> <span class="o">&amp;&amp;</span> <span class="o">(</span><span class="n">n</span> <span class="o">=</span> <span class="o">(</span><span class="nn">Array</span><span class="p">.</span><span class="n">length</span> <span class="n">x</span><span class="o">)))</span> <span class="bp">true</span> <span class="n">matrice</span>
<span class="o">;;</span>
</pre></div>

    </div>
</div>
</div>

<div class="output_wrapper">
<div class="output">


<div class="output_area">

    <div class="prompt output_prompt">Out[237]:</div>




<div class="output_text output_subarea output_execute_result">
<pre>val est_carree : &#39;a array array -&gt; bool = &lt;fun&gt;
</pre>
</div>

</div>

</div>
</div>

</div>
<div class="cell border-box-sizing code_cell rendered">
<div class="input">
<div class="prompt input_prompt">In&nbsp;[238]:</div>
<div class="inner_cell">
    <div class="input_area">
<div class=" highlight hl-OCaml"><pre><span></span><span class="n">est_carree</span> <span class="n">stp_4</span><span class="o">;;</span>
</pre></div>

    </div>
</div>
</div>

<div class="output_wrapper">
<div class="output">


<div class="output_area">

    <div class="prompt output_prompt">Out[238]:</div>




<div class="output_text output_subarea output_execute_result">
<pre>- : bool = true
</pre>
</div>

</div>

</div>
</div>

</div>
<div class="cell border-box-sizing text_cell rendered"><div class="prompt input_prompt">
</div><div class="inner_cell">
<div class="text_cell_render border-box-sizing rendered_html">
<h4 id="L'algorithme-PC">L'algorithme PC<a class="anchor-link" href="#L'algorithme-PC">&#182;</a></h4><p>Ça semble être un bon choix.
Maintenant, passons à l'algorithme PC.</p>
<p><img src="images/algorithme_PC.png" alt="images/algorithme_PC.png">.</p>

</div>
</div>
</div>
<div class="cell border-box-sizing text_cell rendered"><div class="prompt input_prompt">
</div><div class="inner_cell">
<div class="text_cell_render border-box-sizing rendered_html">
<p>Il n'y a pas de boucle <code>until</code> en Caml, mais avec une boucle <code>while</code> on arrivera presque à la même chose.</p>

</div>
</div>
</div>
<div class="cell border-box-sizing code_cell rendered">
<div class="input">
<div class="prompt input_prompt">In&nbsp;[239]:</div>
<div class="inner_cell">
    <div class="input_area">
<div class=" highlight hl-OCaml"><pre><span></span><span class="k">exception</span> <span class="nc">Fini</span><span class="o">;;</span> <span class="c">(* Pour faire le [exit]. *)</span>
</pre></div>

    </div>
</div>
</div>

<div class="output_wrapper">
<div class="output">


<div class="output_area">

    <div class="prompt output_prompt">Out[239]:</div>




<div class="output_text output_subarea output_execute_result">
<pre>exception Fini
</pre>
</div>

</div>

</div>
</div>

</div>
<div class="cell border-box-sizing text_cell rendered"><div class="prompt input_prompt">
</div><div class="inner_cell">
<div class="text_cell_render border-box-sizing rendered_html">
<p>On peut l'écrire avant pour la rendre plus claire, mais l'étape clé de l'algorithme PC (et Floyd-Warshall) est une opération dite de <em>relaxation</em> :
$$ T_{i,j} \oplus (T_{i,k} \otimes T_{k,j}).$$</p>

</div>
</div>
</div>
<div class="cell border-box-sizing code_cell rendered">
<div class="input">
<div class="prompt input_prompt">In&nbsp;[240]:</div>
<div class="inner_cell">
    <div class="input_area">
<div class=" highlight hl-OCaml"><pre><span></span><span class="k">let</span> <span class="n">relaxe</span> <span class="o">(</span><span class="n">reseau</span> <span class="o">:</span> <span class="n">reseauSTP</span><span class="o">)</span> <span class="n">i</span> <span class="n">j</span> <span class="n">k</span> <span class="o">=</span>
    <span class="k">let</span> <span class="n">t_ij</span> <span class="o">=</span> <span class="n">reseau</span><span class="o">.(</span><span class="n">i</span><span class="o">).(</span><span class="n">j</span><span class="o">)</span>
    <span class="ow">and</span> <span class="n">t_ik</span> <span class="o">=</span> <span class="n">reseau</span><span class="o">.(</span><span class="n">i</span><span class="o">).(</span><span class="n">k</span><span class="o">)</span>
    <span class="ow">and</span> <span class="n">t_kj</span> <span class="o">=</span> <span class="n">reseau</span><span class="o">.(</span><span class="n">k</span><span class="o">).(</span><span class="n">j</span><span class="o">)</span>
    <span class="k">in</span> <span class="n">t_ij</span> <span class="o">++</span> <span class="o">(</span><span class="n">t_ik</span> <span class="o">**</span> <span class="n">t_kj</span><span class="o">)</span>
<span class="o">;;</span>
</pre></div>

    </div>
</div>
</div>

<div class="output_wrapper">
<div class="output">


<div class="output_area">

    <div class="prompt output_prompt">Out[240]:</div>




<div class="output_text output_subarea output_execute_result">
<pre>val relaxe : reseauSTP -&gt; int -&gt; int -&gt; int -&gt; intervalles = &lt;fun&gt;
</pre>
</div>

</div>

</div>
</div>

</div>
<div class="cell border-box-sizing text_cell rendered"><div class="prompt input_prompt">
</div><div class="inner_cell">
<div class="text_cell_render border-box-sizing rendered_html">
<p>On a tout ce qu'il faut pour écrire l'algorithme.
Mais comme il ne marche pas encore, on va le débogguer.</p>

</div>
</div>
</div>
<div class="cell border-box-sizing code_cell rendered">
<div class="input">
<div class="prompt input_prompt">In&nbsp;[241]:</div>
<div class="inner_cell">
    <div class="input_area">
<div class=" highlight hl-OCaml"><pre><span></span><span class="k">let</span> <span class="n">string_of_entieretendu</span> <span class="o">=</span> <span class="k">function</span>
    <span class="o">|</span> <span class="nc">MInf</span> <span class="o">-&gt;</span> <span class="s2">&quot;-oo&quot;</span>
    <span class="o">|</span> <span class="nc">PInf</span> <span class="o">-&gt;</span> <span class="s2">&quot;+oo&quot;</span>
    <span class="o">|</span> <span class="nc">E</span><span class="o">(</span><span class="n">x</span><span class="o">)</span> <span class="o">-&gt;</span> <span class="n">string_of_int</span> <span class="n">x</span>
<span class="o">;;</span>
</pre></div>

    </div>
</div>
</div>

<div class="output_wrapper">
<div class="output">


<div class="output_area">

    <div class="prompt output_prompt">Out[241]:</div>




<div class="output_text output_subarea output_execute_result">
<pre>val string_of_entieretendu : entier_etendu -&gt; string = &lt;fun&gt;
</pre>
</div>

</div>

</div>
</div>

</div>
<div class="cell border-box-sizing code_cell rendered">
<div class="input">
<div class="prompt input_prompt">In&nbsp;[242]:</div>
<div class="inner_cell">
    <div class="input_area">
<div class=" highlight hl-OCaml"><pre><span></span><span class="k">let</span> <span class="n">print_intervalle</span> <span class="o">(</span><span class="n">une_contrainte</span> <span class="o">:</span> <span class="n">intervalle</span><span class="o">)</span> <span class="o">=</span>
    <span class="k">let</span> <span class="n">a</span><span class="o">,</span> <span class="n">b</span> <span class="o">=</span> <span class="n">une_contrainte</span> <span class="k">in</span>
    <span class="nn">Printf</span><span class="p">.</span><span class="n">printf</span> <span class="s2">&quot;(%s, %s) &quot;</span> <span class="o">(</span><span class="n">string_of_entieretendu</span> <span class="n">a</span><span class="o">)</span> <span class="o">(</span><span class="n">string_of_entieretendu</span> <span class="n">b</span><span class="o">)</span>
<span class="o">;;</span>
</pre></div>

    </div>
</div>
</div>

<div class="output_wrapper">
<div class="output">


<div class="output_area">

    <div class="prompt output_prompt">Out[242]:</div>




<div class="output_text output_subarea output_execute_result">
<pre>val print_intervalle : intervalle -&gt; unit = &lt;fun&gt;
</pre>
</div>

</div>

</div>
</div>

</div>
<div class="cell border-box-sizing code_cell rendered">
<div class="input">
<div class="prompt input_prompt">In&nbsp;[243]:</div>
<div class="inner_cell">
    <div class="input_area">
<div class=" highlight hl-OCaml"><pre><span></span><span class="k">let</span> <span class="n">print_intervalles</span> <span class="o">(</span><span class="n">contraintes</span> <span class="o">:</span> <span class="n">intervalles</span><span class="o">)</span> <span class="o">=</span>
    <span class="nn">List</span><span class="p">.</span><span class="n">iter</span> <span class="n">print_intervalle</span> <span class="n">contraintes</span>
<span class="o">;;</span>
</pre></div>

    </div>
</div>
</div>

<div class="output_wrapper">
<div class="output">


<div class="output_area">

    <div class="prompt output_prompt">Out[243]:</div>




<div class="output_text output_subarea output_execute_result">
<pre>val print_intervalles : intervalles -&gt; unit = &lt;fun&gt;
</pre>
</div>

</div>

</div>
</div>

</div>
<div class="cell border-box-sizing code_cell rendered">
<div class="input">
<div class="prompt input_prompt">In&nbsp;[244]:</div>
<div class="inner_cell">
    <div class="input_area">
<div class=" highlight hl-OCaml"><pre><span></span><span class="k">let</span> <span class="n">flush_force</span> <span class="bp">()</span> <span class="o">=</span>
    <span class="nn">Printf</span><span class="p">.</span><span class="n">printf</span> <span class="s2">&quot;</span><span class="se">\n</span><span class="s2">&quot;</span><span class="o">;</span>
    <span class="n">flush_all</span><span class="bp">()</span><span class="o">;</span>
    <span class="nn">Printf</span><span class="p">.</span><span class="n">printf</span> <span class="s2">&quot;</span><span class="se">\n</span><span class="s2">&quot;</span><span class="o">;</span>
    <span class="n">flush_all</span><span class="bp">()</span><span class="o">;</span>
    <span class="nn">Printf</span><span class="p">.</span><span class="n">printf</span> <span class="s2">&quot;</span><span class="se">\n</span><span class="s2">&quot;</span><span class="o">;</span>
    <span class="n">flush_all</span><span class="bp">()</span><span class="o">;</span>
<span class="o">;;</span>
</pre></div>

    </div>
</div>
</div>

<div class="output_wrapper">
<div class="output">


<div class="output_area">

    <div class="prompt output_prompt">Out[244]:</div>




<div class="output_text output_subarea output_execute_result">
<pre>val flush_force : unit -&gt; unit = &lt;fun&gt;
</pre>
</div>

</div>

</div>
</div>

</div>
<div class="cell border-box-sizing code_cell rendered">
<div class="input">
<div class="prompt input_prompt">In&nbsp;[245]:</div>
<div class="inner_cell">
    <div class="input_area">
<div class=" highlight hl-OCaml"><pre><span></span><span class="k">let</span> <span class="n">print_reseau</span> <span class="o">(</span><span class="n">reseau</span> <span class="o">:</span> <span class="n">reseauSTP</span><span class="o">)</span> <span class="o">:</span> <span class="kt">unit</span> <span class="o">=</span>
    <span class="n">flush_force</span> <span class="bp">()</span><span class="o">;</span>
    <span class="nn">Printf</span><span class="p">.</span><span class="n">printf</span> <span class="s2">&quot;</span><span class="se">\n</span><span class="s2">Reseau =</span><span class="se">\n</span><span class="s2">&quot;</span><span class="o">;</span>
    <span class="nn">Array</span><span class="p">.</span><span class="n">iteri</span> <span class="o">(</span><span class="k">fun</span> <span class="n">i</span> <span class="n">ligne</span> <span class="o">-&gt;</span>
        <span class="nn">Array</span><span class="p">.</span><span class="n">iteri</span> <span class="o">(</span><span class="k">fun</span> <span class="n">j</span> <span class="n">case</span> <span class="o">-&gt;</span>
            <span class="k">if</span> <span class="n">case</span> <span class="o">!=</span> <span class="o">[(</span><span class="nc">MInf</span><span class="o">,</span> <span class="nc">PInf</span><span class="o">)]</span> <span class="k">then</span> <span class="k">begin</span>
            <span class="nn">Printf</span><span class="p">.</span><span class="n">printf</span> <span class="s2">&quot;</span><span class="se">\n</span><span class="s2">    T[i=%i, j=%i] = [&quot;</span> <span class="n">i</span> <span class="n">j</span><span class="o">;</span>
            <span class="n">print_intervalles</span> <span class="n">case</span><span class="o">;</span>
            <span class="nn">Printf</span><span class="p">.</span><span class="n">printf</span> <span class="s2">&quot;]&quot;</span><span class="o">;</span>
        <span class="k">end</span><span class="o">)</span> <span class="n">ligne</span>
    <span class="o">)</span> <span class="n">reseau</span><span class="o">;</span>
    <span class="n">flush_all</span> <span class="bp">()</span><span class="o">;</span>
<span class="o">;;</span>
</pre></div>

    </div>
</div>
</div>

<div class="output_wrapper">
<div class="output">


<div class="output_area">

    <div class="prompt output_prompt">Out[245]:</div>




<div class="output_text output_subarea output_execute_result">
<pre>val print_reseau : reseauSTP -&gt; unit = &lt;fun&gt;
</pre>
</div>

</div>

</div>
</div>

</div>
<div class="cell border-box-sizing code_cell rendered">
<div class="input">
<div class="prompt input_prompt">In&nbsp;[246]:</div>
<div class="inner_cell">
    <div class="input_area">
<div class=" highlight hl-OCaml"><pre><span></span><span class="n">stp_4</span><span class="o">;;</span>
</pre></div>

    </div>
</div>
</div>

<div class="output_wrapper">
<div class="output">


<div class="output_area">

    <div class="prompt output_prompt">Out[246]:</div>




<div class="output_text output_subarea output_execute_result">
<pre>- : reseauSTP =
[|[|[(MInf, PInf)]; [(E 0, E 1); (E 10, E 20)]; [(MInf, PInf)];
    [(MInf, PInf)]|];
  [|[(MInf, PInf)]; [(MInf, PInf)]; [(E 0, E 10)]; [(E 25, E 50)]|];
  [|[(MInf, PInf)]; [(MInf, PInf)]; [(MInf, PInf)];
    [(E 0, E 20); (E 40, E 40)]|];
  [|[(MInf, PInf)]; [(MInf, PInf)]; [(MInf, PInf)]; [(MInf, PInf)]|]|]
</pre>
</div>

</div>

</div>
</div>

</div>
<div class="cell border-box-sizing code_cell rendered">
<div class="input">
<div class="prompt input_prompt">In&nbsp;[247]:</div>
<div class="inner_cell">
    <div class="input_area">
<div class=" highlight hl-OCaml"><pre><span></span><span class="n">flush_force</span><span class="bp">()</span><span class="o">;;</span>
</pre></div>

    </div>
</div>
</div>

<div class="output_wrapper">
<div class="output">


<div class="output_area">

    <div class="prompt"></div>


<div class="output_subarea output_stream output_stdout output_text">
<pre>    T[i=3, j=3] = [(-oo, +oo) ]


</pre>
</div>
</div>

<div class="output_area">

    <div class="prompt output_prompt">Out[247]:</div>




<div class="output_text output_subarea output_execute_result">
<pre>- : unit = ()
</pre>
</div>

</div>

</div>
</div>

</div>
<div class="cell border-box-sizing code_cell rendered">
<div class="input">
<div class="prompt input_prompt">In&nbsp;[248]:</div>
<div class="inner_cell">
    <div class="input_area">
<div class=" highlight hl-OCaml"><pre><span></span><span class="n">print_reseau</span> <span class="n">stp_4</span><span class="o">;;</span>
</pre></div>

    </div>
</div>
</div>

<div class="output_wrapper">
<div class="output">


<div class="output_area">

    <div class="prompt"></div>


<div class="output_subarea output_stream output_stdout output_text">
<pre>


Reseau =

    T[i=0, j=0] = [(-oo, +oo) ]
    T[i=0, j=1] = [(0, 1) (10, 20) ]
    T[i=0, j=2] = [(-oo, +oo) ]
    T[i=0, j=3] = [(-oo, +oo) ]
    T[i=1, j=0] = [(-oo, +oo) ]
    T[i=1, j=1] = [(-oo, +oo) ]
    T[i=1, j=2] = [(0, 10) ]
    T[i=1, j=3] = [(25, 50) ]
    T[i=2, j=0] = [(-oo, +oo) ]
    T[i=2, j=1] = [(-oo, +oo) ]
    T[i=2, j=2] = [(-oo, +oo) ]
    T[i=2, j=3] = [(0, 20) (40, 40) ]
    T[i=3, j=0] = [(-oo, +oo) ]
    T[i=3, j=1] = [(-oo, +oo) ]
    T[i=3, j=2] = [(-oo, +oo) ]
</pre>
</div>
</div>

<div class="output_area">

    <div class="prompt output_prompt">Out[248]:</div>




<div class="output_text output_subarea output_execute_result">
<pre>- : unit = ()
</pre>
</div>

</div>

</div>
</div>

</div>
<div class="cell border-box-sizing text_cell rendered"><div class="prompt input_prompt">
</div><div class="inner_cell">
<div class="text_cell_render border-box-sizing rendered_html">
<p>On est prêt à écrire l'algorithme :</p>

</div>
</div>
</div>
<div class="cell border-box-sizing code_cell rendered">
<div class="input">
<div class="prompt input_prompt">In&nbsp;[249]:</div>
<div class="inner_cell">
    <div class="input_area">
<div class=" highlight hl-OCaml"><pre><span></span><span class="k">let</span> <span class="n">algorithmePC</span> <span class="o">?(</span><span class="n">max_etape</span><span class="o">=</span><span class="mi">10</span><span class="o">)</span> <span class="o">(</span><span class="n">reseau</span> <span class="o">:</span> <span class="n">reseauSTP</span><span class="o">)</span> <span class="o">:</span> <span class="o">(</span><span class="n">reseauSTP</span> <span class="o">*</span> <span class="n">intervalles</span> <span class="kt">list</span><span class="o">)</span> <span class="o">=</span>
    <span class="k">let</span> <span class="n">resT</span> <span class="o">=</span> <span class="nn">Array</span><span class="p">.</span><span class="n">map</span> <span class="nn">Array</span><span class="p">.</span><span class="n">copy</span> <span class="n">reseau</span> <span class="k">in</span> <span class="c">(* on ne modifie pas l&#39;entrée *)</span>
    <span class="k">let</span> <span class="n">resS</span> <span class="o">=</span> <span class="n">ref</span> <span class="o">[||]</span> <span class="k">in</span>
    <span class="k">let</span> <span class="n">n</span> <span class="o">=</span> <span class="nn">Array</span><span class="p">.</span><span class="n">length</span> <span class="n">resT</span> <span class="k">in</span>
    <span class="k">let</span> <span class="n">allseen</span> <span class="o">=</span> <span class="n">ref</span> <span class="bp">[]</span> <span class="k">in</span> <span class="c">(* Pour débogguer, je veux la liste des Tij vus *)</span>
    <span class="k">let</span> <span class="n">etape</span> <span class="o">=</span> <span class="n">ref</span> <span class="mi">0</span> <span class="k">in</span>
    <span class="k">begin</span>
        <span class="k">try</span> <span class="k">begin</span>
        <span class="k">while</span> <span class="o">!</span><span class="n">etape</span> <span class="o">&lt;</span> <span class="n">max_etape</span> <span class="o">&amp;&amp;</span> <span class="o">!</span><span class="n">resS</span> <span class="o">!=</span> <span class="n">resT</span> <span class="k">do</span>
            <span class="n">incr</span> <span class="n">etape</span><span class="o">;</span>
            <span class="n">resS</span> <span class="o">:=</span> <span class="nn">Array</span><span class="p">.</span><span class="n">map</span> <span class="nn">Array</span><span class="p">.</span><span class="n">copy</span> <span class="n">resT</span><span class="o">;</span> <span class="c">(* S := T *)</span>
            <span class="k">for</span> <span class="n">k</span> <span class="o">=</span> <span class="mi">0</span> <span class="k">to</span> <span class="n">n</span> <span class="o">-</span> <span class="mi">1</span> <span class="k">do</span>
                <span class="k">for</span> <span class="n">i</span> <span class="o">=</span> <span class="mi">0</span> <span class="k">to</span> <span class="n">n</span> <span class="o">-</span> <span class="mi">1</span> <span class="k">do</span>
                    <span class="k">for</span> <span class="n">j</span> <span class="o">=</span> <span class="mi">0</span> <span class="k">to</span> <span class="n">n</span> <span class="o">-</span> <span class="mi">1</span> <span class="k">do</span>
                        <span class="nn">Printf</span><span class="p">.</span><span class="n">printf</span> <span class="s2">&quot;</span><span class="se">\n\n</span><span class="s2">Etape %i, k = %i, i = %i, j = %i.</span><span class="se">\n</span><span class="s2">&quot;</span> <span class="o">!</span><span class="n">etape</span> <span class="n">k</span> <span class="n">i</span> <span class="n">j</span><span class="o">;</span>
                        <span class="n">print_string</span> <span class="s2">&quot;Contraintes :&quot;</span><span class="o">;</span>
                        <span class="n">print_reseau</span> <span class="n">resT</span><span class="o">;</span>
                        <span class="n">resT</span><span class="o">.(</span><span class="n">i</span><span class="o">).(</span><span class="n">j</span><span class="o">)</span> <span class="o">&lt;-</span> <span class="n">relaxe</span> <span class="n">resT</span> <span class="n">i</span> <span class="n">j</span> <span class="n">k</span><span class="o">;</span>
                        <span class="n">allseen</span> <span class="o">:=</span> <span class="o">(</span><span class="n">resT</span><span class="o">.(</span><span class="n">i</span><span class="o">).(</span><span class="n">j</span><span class="o">))</span> <span class="o">::</span> <span class="o">!</span><span class="n">allseen</span><span class="o">;</span> <span class="c">(* on l&#39;ajoute *)</span>
                        <span class="k">if</span> <span class="n">resT</span><span class="o">.(</span><span class="n">i</span><span class="o">).(</span><span class="n">j</span><span class="o">)</span> <span class="o">=</span> <span class="bp">[]</span> <span class="k">then</span>
                            <span class="k">raise</span> <span class="nc">Fini</span>
                    <span class="k">done</span>
                <span class="k">done</span>
            <span class="k">done</span>
        <span class="k">done</span><span class="o">;</span>
        <span class="k">end</span>
        <span class="k">with</span> <span class="nc">Fini</span> <span class="o">-&gt;</span> <span class="bp">()</span> <span class="c">(* On ignore l&#39;exception, on a juste terminé. *)</span>
    <span class="k">end</span><span class="o">;</span>
    <span class="n">resT</span><span class="o">,</span> <span class="o">!</span><span class="n">allseen</span>
<span class="o">;;</span>
</pre></div>

    </div>
</div>
</div>

<div class="output_wrapper">
<div class="output">


<div class="output_area">

    <div class="prompt output_prompt">Out[249]:</div>




<div class="output_text output_subarea output_execute_result">
<pre>val algorithmePC :
  ?max_etape:int -&gt; reseauSTP -&gt; reseauSTP * intervalles list = &lt;fun&gt;
</pre>
</div>

</div>

</div>
</div>

</div>
<div class="cell border-box-sizing text_cell rendered"><div class="prompt input_prompt">
</div><div class="inner_cell">
<div class="text_cell_render border-box-sizing rendered_html">
<hr>
<h3 id="Exemple-de-r&#233;seau-non-distributif">Exemple de r&#233;seau non distributif<a class="anchor-link" href="#Exemple-de-r&#233;seau-non-distributif">&#182;</a></h3><p>On va traiter l'exemple de la Figure 4 du texte, comme défini plus haut :</p>
<p><img src="images/reseau_distributif.png" alt="images/reseau_distributif.png"></p>

</div>
</div>
</div>
<div class="cell border-box-sizing code_cell rendered">
<div class="input">
<div class="prompt input_prompt">In&nbsp;[250]:</div>
<div class="inner_cell">
    <div class="input_area">
<div class=" highlight hl-OCaml"><pre><span></span><span class="n">stp_4</span><span class="o">;;</span>
</pre></div>

    </div>
</div>
</div>

<div class="output_wrapper">
<div class="output">


<div class="output_area">

    <div class="prompt output_prompt">Out[250]:</div>




<div class="output_text output_subarea output_execute_result">
<pre>- : reseauSTP =
[|[|[(MInf, PInf)]; [(E 0, E 1); (E 10, E 20)]; [(MInf, PInf)];
    [(MInf, PInf)]|];
  [|[(MInf, PInf)]; [(MInf, PInf)]; [(E 0, E 10)]; [(E 25, E 50)]|];
  [|[(MInf, PInf)]; [(MInf, PInf)]; [(MInf, PInf)];
    [(E 0, E 20); (E 40, E 40)]|];
  [|[(MInf, PInf)]; [(MInf, PInf)]; [(MInf, PInf)]; [(MInf, PInf)]|]|]
</pre>
</div>

</div>

</div>
</div>

</div>
<div class="cell border-box-sizing code_cell rendered">
<div class="input">
<div class="prompt input_prompt">In&nbsp;[251]:</div>
<div class="inner_cell">
    <div class="input_area">
<div class=" highlight hl-OCaml"><pre><span></span><span class="n">relaxe</span> <span class="n">stp_4</span> <span class="mi">1</span> <span class="mi">2</span> <span class="mi">3</span><span class="o">;;</span>
</pre></div>

    </div>
</div>
</div>

<div class="output_wrapper">
<div class="output">


<div class="output_area">

    <div class="prompt output_prompt">Out[251]:</div>




<div class="output_text output_subarea output_execute_result">
<pre>- : intervalles = [(E 0, E 10)]
</pre>
</div>

</div>

</div>
</div>

</div>
<div class="cell border-box-sizing code_cell rendered">
<div class="input">
<div class="prompt input_prompt">In&nbsp;[252]:</div>
<div class="inner_cell">
    <div class="input_area">
<div class=" highlight hl-OCaml"><pre><span></span><span class="n">stp_4</span><span class="o">.(</span><span class="mi">1</span><span class="o">).(</span><span class="mi">3</span><span class="o">)</span>
</pre></div>

    </div>
</div>
</div>

<div class="output_wrapper">
<div class="output">


<div class="output_area">

    <div class="prompt output_prompt">Out[252]:</div>




<div class="output_text output_subarea output_execute_result">
<pre>- : intervalles = [(E 25, E 50)]
</pre>
</div>

</div>

</div>
</div>

</div>
<div class="cell border-box-sizing code_cell rendered">
<div class="input">
<div class="prompt input_prompt">In&nbsp;[&nbsp;]:</div>
<div class="inner_cell">
    <div class="input_area">
<div class=" highlight hl-OCaml"><pre><span></span>
</pre></div>

    </div>
</div>
</div>

</div>
<div class="cell border-box-sizing code_cell rendered">
<div class="input">
<div class="prompt input_prompt">In&nbsp;[253]:</div>
<div class="inner_cell">
    <div class="input_area">
<div class=" highlight hl-OCaml"><pre><span></span><span class="n">algorithmePC</span> <span class="n">stp_4</span><span class="o">;;</span>
</pre></div>

    </div>
</div>
</div>

<div class="output_wrapper">
<div class="output">


<div class="output_area">

    <div class="prompt"></div>


<div class="output_subarea output_stream output_stdout output_text">
<pre>    T[i=3, j=3] = [(-oo, +oo) ]

Etape 1, k = 0, i = 0, j = 0.
Contraintes :



Reseau =

    T[i=0, j=0] = [(-oo, +oo) ]
    T[i=0, j=1] = [(0, 1) (10, 20) ]
    T[i=0, j=2] = [(-oo, +oo) ]
    T[i=0, j=3] = [(-oo, +oo) ]
    T[i=1, j=0] = [(-oo, +oo) ]
    T[i=1, j=1] = [(-oo, +oo) ]
    T[i=1, j=2] = [(0, 10) ]
    T[i=1, j=3] = [(25, 50) ]
    T[i=2, j=0] = [(-oo, +oo) ]
    T[i=2, j=1] = [(-oo, +oo) ]
    T[i=2, j=2] = [(-oo, +oo) ]
    T[i=2, j=3] = [(0, 20) (40, 40) ]
    T[i=3, j=0] = [(-oo, +oo) ]
    T[i=3, j=1] = [(-oo, +oo) ]
    T[i=3, j=2] = [(-oo, +oo) ]
    T[i=3, j=3] = [(-oo, +oo) ]

Etape 1, k = 0, i = 0, j = 1.
Contraintes :



Reseau =

    T[i=0, j=0] = [(-oo, +oo) ]
    T[i=0, j=1] = [(0, 1) (10, 20) ]
    T[i=0, j=2] = [(-oo, +oo) ]
    T[i=0, j=3] = [(-oo, +oo) ]
    T[i=1, j=0] = [(-oo, +oo) ]
    T[i=1, j=1] = [(-oo, +oo) ]
    T[i=1, j=2] = [(0, 10) ]
    T[i=1, j=3] = [(25, 50) ]
    T[i=2, j=0] = [(-oo, +oo) ]
    T[i=2, j=1] = [(-oo, +oo) ]
    T[i=2, j=2] = [(-oo, +oo) ]
    T[i=2, j=3] = [(0, 20) (40, 40) ]
    T[i=3, j=0] = [(-oo, +oo) ]
    T[i=3, j=1] = [(-oo, +oo) ]
    T[i=3, j=2] = [(-oo, +oo) ]
    T[i=3, j=3] = [(-oo, +oo) ]

Etape 1, k = 0, i = 0, j = 2.
Contraintes :



Reseau =

    T[i=0, j=0] = [(-oo, +oo) ]
    T[i=0, j=1] = [(0, 1) (10, 20) ]
    T[i=0, j=2] = [(-oo, +oo) ]
    T[i=0, j=3] = [(-oo, +oo) ]
    T[i=1, j=0] = [(-oo, +oo) ]
    T[i=1, j=1] = [(-oo, +oo) ]
    T[i=1, j=2] = [(0, 10) ]
    T[i=1, j=3] = [(25, 50) ]
    T[i=2, j=0] = [(-oo, +oo) ]
    T[i=2, j=1] = [(-oo, +oo) ]
    T[i=2, j=2] = [(-oo, +oo) ]
    T[i=2, j=3] = [(0, 20) (40, 40) ]
    T[i=3, j=0] = [(-oo, +oo) ]
    T[i=3, j=1] = [(-oo, +oo) ]
    T[i=3, j=2] = [(-oo, +oo) ]
    T[i=3, j=3] = [(-oo, +oo) ]

Etape 1, k = 0, i = 0, j = 3.
Contraintes :



Reseau =

    T[i=0, j=0] = [(-oo, +oo) ]
    T[i=0, j=1] = [(0, 1) (10, 20) ]
    T[i=0, j=2] = [(-oo, +oo) ]
    T[i=0, j=3] = [(-oo, +oo) ]
    T[i=1, j=0] = [(-oo, +oo) ]
    T[i=1, j=1] = [(-oo, +oo) ]
    T[i=1, j=2] = [(0, 10) ]
    T[i=1, j=3] = [(25, 50) ]
    T[i=2, j=0] = [(-oo, +oo) ]
    T[i=2, j=1] = [(-oo, +oo) ]
    T[i=2, j=2] = [(-oo, +oo) ]
    T[i=2, j=3] = [(0, 20) (40, 40) ]
    T[i=3, j=0] = [(-oo, +oo) ]
    T[i=3, j=1] = [(-oo, +oo) ]
    T[i=3, j=2] = [(-oo, +oo) ]
    T[i=3, j=3] = [(-oo, +oo) ]

Etape 1, k = 0, i = 1, j = 0.
Contraintes :



Reseau =

    T[i=0, j=0] = [(-oo, +oo) ]
    T[i=0, j=1] = [(0, 1) (10, 20) ]
    T[i=0, j=2] = [(-oo, +oo) ]
    T[i=0, j=3] = [(-oo, +oo) ]
    T[i=1, j=0] = [(-oo, +oo) ]
    T[i=1, j=1] = [(-oo, +oo) ]
    T[i=1, j=2] = [(0, 10) ]
    T[i=1, j=3] = [(25, 50) ]
    T[i=2, j=0] = [(-oo, +oo) ]
    T[i=2, j=1] = [(-oo, +oo) ]
    T[i=2, j=2] = [(-oo, +oo) ]
    T[i=2, j=3] = [(0, 20) (40, 40) ]
    T[i=3, j=0] = [(-oo, +oo) ]
    T[i=3, j=1] = [(-oo, +oo) ]
    T[i=3, j=2] = [(-oo, +oo) ]
    T[i=3, j=3] = [(-oo, +oo) ]

Etape 1, k = 0, i = 1, j = 1.
Contraintes :



Reseau =

    T[i=0, j=0] = [(-oo, +oo) ]
    T[i=0, j=1] = [(0, 1) (10, 20) ]
    T[i=0, j=2] = [(-oo, +oo) ]
    T[i=0, j=3] = [(-oo, +oo) ]
    T[i=1, j=0] = [(-oo, +oo) ]
    T[i=1, j=1] = [(-oo, +oo) ]
    T[i=1, j=2] = [(0, 10) ]
    T[i=1, j=3] = [(25, 50) ]
    T[i=2, j=0] = [(-oo, +oo) ]
    T[i=2, j=1] = [(-oo, +oo) ]
    T[i=2, j=2] = [(-oo, +oo) ]
    T[i=2, j=3] = [(0, 20) (40, 40) ]
    T[i=3, j=0] = [(-oo, +oo) ]
    T[i=3, j=1] = [(-oo, +oo) ]
    T[i=3, j=2] = [(-oo, +oo) ]
    T[i=3, j=3] = [(-oo, +oo) ]

Etape 1, k = 0, i = 1, j = 2.
Contraintes :



Reseau =

    T[i=0, j=0] = [(-oo, +oo) ]
    T[i=0, j=1] = [(0, 1) (10, 20) ]
    T[i=0, j=2] = [(-oo, +oo) ]
    T[i=0, j=3] = [(-oo, +oo) ]
    T[i=1, j=0] = [(-oo, +oo) ]
    T[i=1, j=1] = [(-oo, +oo) ]
    T[i=1, j=2] = [(0, 10) ]
    T[i=1, j=3] = [(25, 50) ]
    T[i=2, j=0] = [(-oo, +oo) ]
    T[i=2, j=1] = [(-oo, +oo) ]
    T[i=2, j=2] = [(-oo, +oo) ]
    T[i=2, j=3] = [(0, 20) (40, 40) ]
    T[i=3, j=0] = [(-oo, +oo) ]
    T[i=3, j=1] = [(-oo, +oo) ]
    T[i=3, j=2] = [(-oo, +oo) ]
    T[i=3, j=3] = [(-oo, +oo) ]

Etape 1, k = 0, i = 1, j = 3.
Contraintes :



Reseau =

    T[i=0, j=0] = [(-oo, +oo) ]
    T[i=0, j=1] = [(0, 1) (10, 20) ]
    T[i=0, j=2] = [(-oo, +oo) ]
    T[i=0, j=3] = [(-oo, +oo) ]
    T[i=1, j=0] = [(-oo, +oo) ]
    T[i=1, j=1] = [(-oo, +oo) ]
    T[i=1, j=2] = [(0, 10) ]
    T[i=1, j=3] = [(25, 50) ]
    T[i=2, j=0] = [(-oo, +oo) ]
    T[i=2, j=1] = [(-oo, +oo) ]
    T[i=2, j=2] = [(-oo, +oo) ]
    T[i=2, j=3] = [(0, 20) (40, 40) ]
    T[i=3, j=0] = [(-oo, +oo) ]
    T[i=3, j=1] = [(-oo, +oo) ]
    T[i=3, j=2] = [(-oo, +oo) ]
    T[i=3, j=3] = [(-oo, +oo) ]

Etape 1, k = 0, i = 2, j = 0.
Contraintes :



Reseau =

    T[i=0, j=0] = [(-oo, +oo) ]
    T[i=0, j=1] = [(0, 1) (10, 20) ]
    T[i=0, j=2] = [(-oo, +oo) ]
    T[i=0, j=3] = [(-oo, +oo) ]
    T[i=1, j=0] = [(-oo, +oo) ]
    T[i=1, j=1] = [(-oo, +oo) ]
    T[i=1, j=2] = [(0, 10) ]
    T[i=1, j=3] = [(25, 50) ]
    T[i=2, j=0] = [(-oo, +oo) ]
    T[i=2, j=1] = [(-oo, +oo) ]
    T[i=2, j=2] = [(-oo, +oo) ]
    T[i=2, j=3] = [(0, 20) (40, 40) ]
    T[i=3, j=0] = [(-oo, +oo) ]
    T[i=3, j=1] = [(-oo, +oo) ]
    T[i=3, j=2] = [(-oo, +oo) ]
    T[i=3, j=3] = [(-oo, +oo) ]

Etape 1, k = 0, i = 2, j = 1.
Contraintes :



Reseau =

    T[i=0, j=0] = [(-oo, +oo) ]
    T[i=0, j=1] = [(0, 1) (10, 20) ]
    T[i=0, j=2] = [(-oo, +oo) ]
    T[i=0, j=3] = [(-oo, +oo) ]
    T[i=1, j=0] = [(-oo, +oo) ]
    T[i=1, j=1] = [(-oo, +oo) ]
    T[i=1, j=2] = [(0, 10) ]
    T[i=1, j=3] = [(25, 50) ]
    T[i=2, j=0] = [(-oo, +oo) ]
    T[i=2, j=1] = [(-oo, +oo) ]
    T[i=2, j=2] = [(-oo, +oo) ]
    T[i=2, j=3] = [(0, 20) (40, 40) ]
    T[i=3, j=0] = [(-oo, +oo) ]
    T[i=3, j=1] = [(-oo, +oo) ]
    T[i=3, j=2] = [(-oo, +oo) ]
    T[i=3, j=3] = [(-oo, +oo) ]

Etape 1, k = 0, i = 2, j = 2.
Contraintes :



Reseau =

    T[i=0, j=0] = [(-oo, +oo) ]
    T[i=0, j=1] = [(0, 1) (10, 20) ]
    T[i=0, j=2] = [(-oo, +oo) ]
    T[i=0, j=3] = [(-oo, +oo) ]
    T[i=1, j=0] = [(-oo, +oo) ]
    T[i=1, j=1] = [(-oo, +oo) ]
    T[i=1, j=2] = [(0, 10) ]
    T[i=1, j=3] = [(25, 50) ]
    T[i=2, j=0] = [(-oo, +oo) ]
    T[i=2, j=1] = [(-oo, +oo) ]
    T[i=2, j=2] = [(-oo, +oo) ]
    T[i=2, j=3] = [(0, 20) (40, 40) ]
    T[i=3, j=0] = [(-oo, +oo) ]
    T[i=3, j=1] = [(-oo, +oo) ]
    T[i=3, j=2] = [(-oo, +oo) ]
    T[i=3, j=3] = [(-oo, +oo) ]

Etape 1, k = 0, i = 2, j = 3.
Contraintes :



Reseau =

    T[i=0, j=0] = [(-oo, +oo) ]
    T[i=0, j=1] = [(0, 1) (10, 20) ]
    T[i=0, j=2] = [(-oo, +oo) ]
    T[i=0, j=3] = [(-oo, +oo) ]
    T[i=1, j=0] = [(-oo, +oo) ]
    T[i=1, j=1] = [(-oo, +oo) ]
    T[i=1, j=2] = [(0, 10) ]
    T[i=1, j=3] = [(25, 50) ]
    T[i=2, j=0] = [(-oo, +oo) ]
    T[i=2, j=1] = [(-oo, +oo) ]
    T[i=2, j=2] = [(-oo, +oo) ]
    T[i=2, j=3] = [(0, 20) (40, 40) ]
    T[i=3, j=0] = [(-oo, +oo) ]
    T[i=3, j=1] = [(-oo, +oo) ]
    T[i=3, j=2] = [(-oo, +oo) ]
    T[i=3, j=3] = [(-oo, +oo) ]

Etape 1, k = 0, i = 3, j = 0.
Contraintes :



Reseau =

    T[i=0, j=0] = [(-oo, +oo) ]
    T[i=0, j=1] = [(0, 1) (10, 20) ]
    T[i=0, j=2] = [(-oo, +oo) ]
    T[i=0, j=3] = [(-oo, +oo) ]
    T[i=1, j=0] = [(-oo, +oo) ]
    T[i=1, j=1] = [(-oo, +oo) ]
    T[i=1, j=2] = [(0, 10) ]
    T[i=1, j=3] = [(25, 50) ]
    T[i=2, j=0] = [(-oo, +oo) ]
    T[i=2, j=1] = [(-oo, +oo) ]
    T[i=2, j=2] = [(-oo, +oo) ]
    T[i=2, j=3] = [(0, 20) (40, 40) ]
    T[i=3, j=0] = [(-oo, +oo) ]
    T[i=3, j=1] = [(-oo, +oo) ]
    T[i=3, j=2] = [(-oo, +oo) ]
    T[i=3, j=3] = [(-oo, +oo) ]

Etape 1, k = 0, i = 3, j = 1.
Contraintes :



Reseau =

    T[i=0, j=0] = [(-oo, +oo) ]
    T[i=0, j=1] = [(0, 1) (10, 20) ]
    T[i=0, j=2] = [(-oo, +oo) ]
    T[i=0, j=3] = [(-oo, +oo) ]
    T[i=1, j=0] = [(-oo, +oo) ]
    T[i=1, j=1] = [(-oo, +oo) ]
    T[i=1, j=2] = [(0, 10) ]
    T[i=1, j=3] = [(25, 50) ]
    T[i=2, j=0] = [(-oo, +oo) ]
    T[i=2, j=1] = [(-oo, +oo) ]
    T[i=2, j=2] = [(-oo, +oo) ]
    T[i=2, j=3] = [(0, 20) (40, 40) ]
    T[i=3, j=0] = [(-oo, +oo) ]
    T[i=3, j=1] = [(-oo, +oo) ]
    T[i=3, j=2] = [(-oo, +oo) ]
    T[i=3, j=3] = [(-oo, +oo) ]

Etape 1, k = 0, i = 3, j = 2.
Contraintes :



Reseau =

    T[i=0, j=0] = [(-oo, +oo) ]
    T[i=0, j=1] = [(0, 1) (10, 20) ]
    T[i=0, j=2] = [(-oo, +oo) ]
    T[i=0, j=3] = [(-oo, +oo) ]
    T[i=1, j=0] = [(-oo, +oo) ]
    T[i=1, j=1] = [(-oo, +oo) ]
    T[i=1, j=2] = [(0, 10) ]
    T[i=1, j=3] = [(25, 50) ]
    T[i=2, j=0] = [(-oo, +oo) ]
    T[i=2, j=1] = [(-oo, +oo) ]
    T[i=2, j=2] = [(-oo, +oo) ]
    T[i=2, j=3] = [(0, 20) (40, 40) ]
    T[i=3, j=0] = [(-oo, +oo) ]
    T[i=3, j=1] = [(-oo, +oo) ]
    T[i=3, j=2] = [(-oo, +oo) ]
    T[i=3, j=3] = [(-oo, +oo) ]

Etape 1, k = 0, i = 3, j = 3.
Contraintes :



Reseau =

    T[i=0, j=0] = [(-oo, +oo) ]
    T[i=0, j=1] = [(0, 1) (10, 20) ]
    T[i=0, j=2] = [(-oo, +oo) ]
    T[i=0, j=3] = [(-oo, +oo) ]
    T[i=1, j=0] = [(-oo, +oo) ]
    T[i=1, j=1] = [(-oo, +oo) ]
    T[i=1, j=2] = [(0, 10) ]
    T[i=1, j=3] = [(25, 50) ]
    T[i=2, j=0] = [(-oo, +oo) ]
    T[i=2, j=1] = [(-oo, +oo) ]
    T[i=2, j=2] = [(-oo, +oo) ]
    T[i=2, j=3] = [(0, 20) (40, 40) ]
    T[i=3, j=0] = [(-oo, +oo) ]
    T[i=3, j=1] = [(-oo, +oo) ]
    T[i=3, j=2] = [(-oo, +oo) ]
    T[i=3, j=3] = [(-oo, +oo) ]

Etape 1, k = 1, i = 0, j = 0.
Contraintes :



Reseau =

    T[i=0, j=0] = [(-oo, +oo) ]
    T[i=0, j=1] = [(0, 1) (10, 20) ]
    T[i=0, j=2] = [(-oo, +oo) ]
    T[i=0, j=3] = [(-oo, +oo) ]
    T[i=1, j=0] = [(-oo, +oo) ]
    T[i=1, j=1] = [(-oo, +oo) ]
    T[i=1, j=2] = [(0, 10) ]
    T[i=1, j=3] = [(25, 50) ]
    T[i=2, j=0] = [(-oo, +oo) ]
    T[i=2, j=1] = [(-oo, +oo) ]
    T[i=2, j=2] = [(-oo, +oo) ]
    T[i=2, j=3] = [(0, 20) (40, 40) ]
    T[i=3, j=0] = [(-oo, +oo) ]
    T[i=3, j=1] = [(-oo, +oo) ]
    T[i=3, j=2] = [(-oo, +oo) ]
</pre>
</div>
</div>

<div class="output_area">

    <div class="prompt output_prompt">Out[253]:</div>




<div class="output_text output_subarea output_execute_result">
<pre>- : reseauSTP * intervalles list =
([|[|[]; [(E 0, E 1); (E 10, E 20)]; [(MInf, PInf)]; [(MInf, PInf)]|];
   [|[(MInf, PInf)]; [(MInf, PInf)]; [(E 0, E 10)]; [(E 25, E 50)]|];
   [|[(MInf, PInf)]; [(MInf, PInf)]; [(MInf, PInf)];
     [(E 0, E 20); (E 40, E 40)]|];
   [|[(MInf, PInf)]; [(MInf, PInf)]; [(MInf, PInf)]; [(MInf, PInf)]|]|],
 [[]; [(MInf, PInf)]; [(MInf, PInf)]; [(MInf, PInf)]; [(MInf, PInf)];
  [(E 0, E 20); (E 40, E 40)]; [(MInf, PInf)]; [(MInf, PInf)];
  [(MInf, PInf)]; [(E 25, E 50)]; [(E 0, E 10)]; [(MInf, PInf)];
  [(MInf, PInf)]; [(MInf, PInf)]; [(MInf, PInf)]; [(E 0, E 1); (E 10, E 20)];
  [(MInf, PInf)]])
</pre>
</div>

</div>

</div>
</div>

</div>
<div class="cell border-box-sizing text_cell rendered"><div class="prompt input_prompt">
</div><div class="inner_cell">
<div class="text_cell_render border-box-sizing rendered_html">
<blockquote><p>Je ne suis pas sûr de comment interprêter ce résultat...</p>
<ul>
<li>soit j'ai fait une erreur dans l'implémentation,</li>
<li>soit l'algorithme PC devait ne rien modifier à $T$ sur cet exemple...</li>
</ul>
</blockquote>

</div>
</div>
</div>
<div class="cell border-box-sizing text_cell rendered"><div class="prompt input_prompt">
</div><div class="inner_cell">
<div class="text_cell_render border-box-sizing rendered_html">
<hr>
<h3 id="D'autres-exemples">D'autres exemples<a class="anchor-link" href="#D'autres-exemples">&#182;</a></h3><p>On peut étudier le STP de la Figure 1., en enlevant la contrainte $[60, \infty)$, qui ne rentre pas dans notre implémentation.</p>
<p><img src="images/stp_figure1.png" alt="images/stp_figure1.png">.</p>

</div>
</div>
</div>
<div class="cell border-box-sizing code_cell rendered">
<div class="input">
<div class="prompt input_prompt">In&nbsp;[254]:</div>
<div class="inner_cell">
    <div class="input_area">
<div class=" highlight hl-OCaml"><pre><span></span><span class="k">let</span> <span class="n">t_01</span> <span class="o">:</span> <span class="n">intervalles</span> <span class="o">=</span> <span class="o">[(</span><span class="nc">E</span><span class="o">(</span><span class="mi">10</span><span class="o">),</span> <span class="nc">E</span><span class="o">(</span><span class="mi">20</span><span class="o">))];;</span>
<span class="k">let</span> <span class="n">t_12</span> <span class="o">:</span> <span class="n">intervalles</span> <span class="o">=</span> <span class="o">[(</span><span class="nc">E</span><span class="o">(</span><span class="mi">30</span><span class="o">),</span> <span class="nc">E</span><span class="o">(</span><span class="mi">40</span><span class="o">))];;</span>
<span class="k">let</span> <span class="n">t_32</span> <span class="o">:</span> <span class="n">intervalles</span> <span class="o">=</span> <span class="o">[(</span><span class="nc">E</span><span class="o">(</span><span class="mi">10</span><span class="o">),</span> <span class="nc">E</span><span class="o">(</span><span class="mi">20</span><span class="o">))];;</span>
<span class="k">let</span> <span class="n">t_34</span> <span class="o">:</span> <span class="n">intervalles</span> <span class="o">=</span> <span class="o">[(</span><span class="nc">E</span><span class="o">(</span><span class="mi">20</span><span class="o">),</span> <span class="nc">E</span><span class="o">(</span><span class="mi">30</span><span class="o">));</span> <span class="o">(</span><span class="nc">E</span><span class="o">(</span><span class="mi">40</span><span class="o">),</span> <span class="nc">E</span><span class="o">(</span><span class="mi">50</span><span class="o">))];;</span>
<span class="k">let</span> <span class="n">t_40</span> <span class="o">:</span> <span class="n">intervalles</span> <span class="o">=</span> <span class="o">[(</span><span class="nc">E</span><span class="o">(</span><span class="mi">60</span><span class="o">),</span> <span class="nc">E</span><span class="o">(</span><span class="mi">70</span><span class="o">))];;</span>

<span class="k">let</span> <span class="n">stp_1</span> <span class="o">:</span> <span class="n">reseauSTP</span> <span class="o">=</span> <span class="o">[|</span>
    <span class="o">[|</span> <span class="n">t_vide</span><span class="o">;</span> <span class="n">t_01</span><span class="o">;</span> <span class="n">t_vide</span><span class="o">;</span> <span class="n">t_vide</span><span class="o">;</span> <span class="n">t_vide</span> <span class="o">|];</span>
    <span class="o">[|</span> <span class="n">t_vide</span><span class="o">;</span> <span class="n">t_vide</span><span class="o">;</span> <span class="n">t_12</span><span class="o">;</span> <span class="n">t_vide</span><span class="o">;</span> <span class="n">t_vide</span> <span class="o">|];</span>
    <span class="o">[|</span> <span class="n">t_vide</span><span class="o">;</span> <span class="n">t_vide</span><span class="o">;</span> <span class="n">t_vide</span><span class="o">;</span> <span class="n">t_vide</span><span class="o">;</span> <span class="n">t_vide</span>   <span class="o">|];</span>
    <span class="o">[|</span> <span class="n">t_vide</span><span class="o">;</span> <span class="n">t_vide</span><span class="o">;</span> <span class="n">t_32</span><span class="o">;</span> <span class="n">t_vide</span><span class="o">;</span> <span class="n">t_34</span> <span class="o">|];</span>
    <span class="o">[|</span> <span class="n">t_40</span><span class="o">;</span> <span class="n">t_vide</span><span class="o">;</span> <span class="n">t_vide</span><span class="o">;</span> <span class="n">t_vide</span><span class="o">;</span> <span class="n">t_vide</span> <span class="o">|];</span>
<span class="o">|];;</span>
</pre></div>

    </div>
</div>
</div>

<div class="output_wrapper">
<div class="output">


<div class="output_area">

    <div class="prompt output_prompt">Out[254]:</div>




<div class="output_text output_subarea output_execute_result">
<pre>val t_01 : intervalles = [(E 10, E 20)]
</pre>
</div>

</div>

<div class="output_area">

    <div class="prompt output_prompt">Out[254]:</div>




<div class="output_text output_subarea output_execute_result">
<pre>val t_12 : intervalles = [(E 30, E 40)]
</pre>
</div>

</div>

<div class="output_area">

    <div class="prompt output_prompt">Out[254]:</div>




<div class="output_text output_subarea output_execute_result">
<pre>val t_32 : intervalles = [(E 10, E 20)]
</pre>
</div>

</div>

<div class="output_area">

    <div class="prompt output_prompt">Out[254]:</div>




<div class="output_text output_subarea output_execute_result">
<pre>val t_34 : intervalles = [(E 20, E 30); (E 40, E 50)]
</pre>
</div>

</div>

<div class="output_area">

    <div class="prompt output_prompt">Out[254]:</div>




<div class="output_text output_subarea output_execute_result">
<pre>val t_40 : intervalles = [(E 60, E 70)]
</pre>
</div>

</div>

<div class="output_area">

    <div class="prompt output_prompt">Out[254]:</div>




<div class="output_text output_subarea output_execute_result">
<pre>val stp_1 : reseauSTP =
  [|[|[(MInf, PInf)]; [(E 10, E 20)]; [(MInf, PInf)]; [(MInf, PInf)];
      [(MInf, PInf)]|];
    [|[(MInf, PInf)]; [(MInf, PInf)]; [(E 30, E 40)]; [(MInf, PInf)];
      [(MInf, PInf)]|];
    [|[(MInf, PInf)]; [(MInf, PInf)]; [(MInf, PInf)]; [(MInf, PInf)];
      [(MInf, PInf)]|];
    [|[(MInf, PInf)]; [(MInf, PInf)]; [(E 10, E 20)]; [(MInf, PInf)];
      [(E 20, E 30); (E 40, E 50)]|];
    [|[(E 60, E 70)]; [(MInf, PInf)]; [(MInf, PInf)]; [(MInf, PInf)];
      [(MInf, PInf)]|]|]
</pre>
</div>

</div>

</div>
</div>

</div>
<div class="cell border-box-sizing code_cell rendered">
<div class="input">
<div class="prompt input_prompt">In&nbsp;[255]:</div>
<div class="inner_cell">
    <div class="input_area">
<div class=" highlight hl-OCaml"><pre><span></span><span class="n">print_reseau</span> <span class="n">stp_1</span><span class="o">;;</span>
</pre></div>

    </div>
</div>
</div>

<div class="output_wrapper">
<div class="output">


<div class="output_area">

    <div class="prompt output_prompt">Out[255]:</div>




<div class="output_text output_subarea output_execute_result">
<pre>- : unit = ()
</pre>
</div>

</div>

<div class="output_area">

    <div class="prompt"></div>


<div class="output_subarea output_stream output_stdout output_text">
<pre>    T[i=3, j=3] = [(-oo, +oo) ]



Reseau =

    T[i=0, j=0] = [(-oo, +oo) ]
    T[i=0, j=1] = [(10, 20) ]
    T[i=0, j=2] = [(-oo, +oo) ]
    T[i=0, j=3] = [(-oo, +oo) ]
    T[i=0, j=4] = [(-oo, +oo) ]
    T[i=1, j=0] = [(-oo, +oo) ]
    T[i=1, j=1] = [(-oo, +oo) ]
    T[i=1, j=2] = [(30, 40) ]
    T[i=1, j=3] = [(-oo, +oo) ]
    T[i=1, j=4] = [(-oo, +oo) ]
    T[i=2, j=0] = [(-oo, +oo) ]
    T[i=2, j=1] = [(-oo, +oo) ]
    T[i=2, j=2] = [(-oo, +oo) ]
    T[i=2, j=3] = [(-oo, +oo) ]
    T[i=2, j=4] = [(-oo, +oo) ]
    T[i=3, j=0] = [(-oo, +oo) ]
    T[i=3, j=1] = [(-oo, +oo) ]
    T[i=3, j=2] = [(10, 20) ]
    T[i=3, j=3] = [(-oo, +oo) ]
    T[i=3, j=4] = [(20, 30) (40, 50) ]
    T[i=4, j=0] = [(60, 70) ]
    T[i=4, j=1] = [(-oo, +oo) ]
    T[i=4, j=2] = [(-oo, +oo) ]
    T[i=4, j=3] = [(-oo, +oo) ]
</pre>
</div>
</div>

</div>
</div>

</div>
<div class="cell border-box-sizing code_cell rendered">
<div class="input">
<div class="prompt input_prompt">In&nbsp;[256]:</div>
<div class="inner_cell">
    <div class="input_area">
<div class=" highlight hl-OCaml"><pre><span></span><span class="n">algorithmePC</span> <span class="n">stp_1</span><span class="o">;;</span>
</pre></div>

    </div>
</div>
</div>

<div class="output_wrapper">
<div class="output">


<div class="output_area">

    <div class="prompt"></div>


<div class="output_subarea output_stream output_stdout output_text">
<pre>    T[i=4, j=4] = [(-oo, +oo) ]

Etape 1, k = 0, i = 0, j = 0.
Contraintes :



Reseau =

    T[i=0, j=0] = [(-oo, +oo) ]
    T[i=0, j=1] = [(10, 20) ]
    T[i=0, j=2] = [(-oo, +oo) ]
    T[i=0, j=3] = [(-oo, +oo) ]
    T[i=0, j=4] = [(-oo, +oo) ]
    T[i=1, j=0] = [(-oo, +oo) ]
    T[i=1, j=1] = [(-oo, +oo) ]
    T[i=1, j=2] = [(30, 40) ]
    T[i=1, j=3] = [(-oo, +oo) ]
    T[i=1, j=4] = [(-oo, +oo) ]
    T[i=2, j=0] = [(-oo, +oo) ]
    T[i=2, j=1] = [(-oo, +oo) ]
    T[i=2, j=2] = [(-oo, +oo) ]
    T[i=2, j=3] = [(-oo, +oo) ]
    T[i=2, j=4] = [(-oo, +oo) ]
    T[i=3, j=0] = [(-oo, +oo) ]
    T[i=3, j=1] = [(-oo, +oo) ]
    T[i=3, j=2] = [(10, 20) ]
    T[i=3, j=3] = [(-oo, +oo) ]
    T[i=3, j=4] = [(20, 30) (40, 50) ]
    T[i=4, j=0] = [(60, 70) ]
    T[i=4, j=1] = [(-oo, +oo) ]
    T[i=4, j=2] = [(-oo, +oo) ]
    T[i=4, j=3] = [(-oo, +oo) ]
    T[i=4, j=4] = [(-oo, +oo) ]

Etape 1, k = 0, i = 0, j = 1.
Contraintes :



Reseau =

    T[i=0, j=0] = [(-oo, +oo) ]
    T[i=0, j=1] = [(10, 20) ]
    T[i=0, j=2] = [(-oo, +oo) ]
    T[i=0, j=3] = [(-oo, +oo) ]
    T[i=0, j=4] = [(-oo, +oo) ]
    T[i=1, j=0] = [(-oo, +oo) ]
    T[i=1, j=1] = [(-oo, +oo) ]
    T[i=1, j=2] = [(30, 40) ]
    T[i=1, j=3] = [(-oo, +oo) ]
    T[i=1, j=4] = [(-oo, +oo) ]
    T[i=2, j=0] = [(-oo, +oo) ]
    T[i=2, j=1] = [(-oo, +oo) ]
    T[i=2, j=2] = [(-oo, +oo) ]
    T[i=2, j=3] = [(-oo, +oo) ]
    T[i=2, j=4] = [(-oo, +oo) ]
    T[i=3, j=0] = [(-oo, +oo) ]
    T[i=3, j=1] = [(-oo, +oo) ]
    T[i=3, j=2] = [(10, 20) ]
    T[i=3, j=3] = [(-oo, +oo) ]
    T[i=3, j=4] = [(20, 30) (40, 50) ]
    T[i=4, j=0] = [(60, 70) ]
    T[i=4, j=1] = [(-oo, +oo) ]
    T[i=4, j=2] = [(-oo, +oo) ]
    T[i=4, j=3] = [(-oo, +oo) ]
    T[i=4, j=4] = [(-oo, +oo) ]

Etape 1, k = 0, i = 0, j = 2.
Contraintes :



Reseau =

    T[i=0, j=0] = [(-oo, +oo) ]
    T[i=0, j=1] = [(10, 20) ]
    T[i=0, j=2] = [(-oo, +oo) ]
    T[i=0, j=3] = [(-oo, +oo) ]
    T[i=0, j=4] = [(-oo, +oo) ]
    T[i=1, j=0] = [(-oo, +oo) ]
    T[i=1, j=1] = [(-oo, +oo) ]
    T[i=1, j=2] = [(30, 40) ]
    T[i=1, j=3] = [(-oo, +oo) ]
    T[i=1, j=4] = [(-oo, +oo) ]
    T[i=2, j=0] = [(-oo, +oo) ]
    T[i=2, j=1] = [(-oo, +oo) ]
    T[i=2, j=2] = [(-oo, +oo) ]
    T[i=2, j=3] = [(-oo, +oo) ]
    T[i=2, j=4] = [(-oo, +oo) ]
    T[i=3, j=0] = [(-oo, +oo) ]
    T[i=3, j=1] = [(-oo, +oo) ]
    T[i=3, j=2] = [(10, 20) ]
    T[i=3, j=3] = [(-oo, +oo) ]
    T[i=3, j=4] = [(20, 30) (40, 50) ]
    T[i=4, j=0] = [(60, 70) ]
    T[i=4, j=1] = [(-oo, +oo) ]
    T[i=4, j=2] = [(-oo, +oo) ]
    T[i=4, j=3] = [(-oo, +oo) ]
    T[i=4, j=4] = [(-oo, +oo) ]

Etape 1, k = 0, i = 0, j = 3.
Contraintes :



Reseau =

    T[i=0, j=0] = [(-oo, +oo) ]
    T[i=0, j=1] = [(10, 20) ]
    T[i=0, j=2] = [(-oo, +oo) ]
    T[i=0, j=3] = [(-oo, +oo) ]
    T[i=0, j=4] = [(-oo, +oo) ]
    T[i=1, j=0] = [(-oo, +oo) ]
    T[i=1, j=1] = [(-oo, +oo) ]
    T[i=1, j=2] = [(30, 40) ]
    T[i=1, j=3] = [(-oo, +oo) ]
    T[i=1, j=4] = [(-oo, +oo) ]
    T[i=2, j=0] = [(-oo, +oo) ]
    T[i=2, j=1] = [(-oo, +oo) ]
    T[i=2, j=2] = [(-oo, +oo) ]
    T[i=2, j=3] = [(-oo, +oo) ]
    T[i=2, j=4] = [(-oo, +oo) ]
    T[i=3, j=0] = [(-oo, +oo) ]
    T[i=3, j=1] = [(-oo, +oo) ]
    T[i=3, j=2] = [(10, 20) ]
    T[i=3, j=3] = [(-oo, +oo) ]
    T[i=3, j=4] = [(20, 30) (40, 50) ]
    T[i=4, j=0] = [(60, 70) ]
    T[i=4, j=1] = [(-oo, +oo) ]
    T[i=4, j=2] = [(-oo, +oo) ]
    T[i=4, j=3] = [(-oo, +oo) ]
    T[i=4, j=4] = [(-oo, +oo) ]

Etape 1, k = 0, i = 0, j = 4.
Contraintes :



Reseau =

    T[i=0, j=0] = [(-oo, +oo) ]
    T[i=0, j=1] = [(10, 20) ]
    T[i=0, j=2] = [(-oo, +oo) ]
    T[i=0, j=3] = [(-oo, +oo) ]
    T[i=0, j=4] = [(-oo, +oo) ]
    T[i=1, j=0] = [(-oo, +oo) ]
    T[i=1, j=1] = [(-oo, +oo) ]
    T[i=1, j=2] = [(30, 40) ]
    T[i=1, j=3] = [(-oo, +oo) ]
    T[i=1, j=4] = [(-oo, +oo) ]
    T[i=2, j=0] = [(-oo, +oo) ]
    T[i=2, j=1] = [(-oo, +oo) ]
    T[i=2, j=2] = [(-oo, +oo) ]
    T[i=2, j=3] = [(-oo, +oo) ]
    T[i=2, j=4] = [(-oo, +oo) ]
    T[i=3, j=0] = [(-oo, +oo) ]
    T[i=3, j=1] = [(-oo, +oo) ]
    T[i=3, j=2] = [(10, 20) ]
    T[i=3, j=3] = [(-oo, +oo) ]
    T[i=3, j=4] = [(20, 30) (40, 50) ]
    T[i=4, j=0] = [(60, 70) ]
    T[i=4, j=1] = [(-oo, +oo) ]
    T[i=4, j=2] = [(-oo, +oo) ]
    T[i=4, j=3] = [(-oo, +oo) ]
    T[i=4, j=4] = [(-oo, +oo) ]

Etape 1, k = 0, i = 1, j = 0.
Contraintes :



Reseau =

    T[i=0, j=0] = [(-oo, +oo) ]
    T[i=0, j=1] = [(10, 20) ]
    T[i=0, j=2] = [(-oo, +oo) ]
    T[i=0, j=3] = [(-oo, +oo) ]
    T[i=0, j=4] = [(-oo, +oo) ]
    T[i=1, j=0] = [(-oo, +oo) ]
    T[i=1, j=1] = [(-oo, +oo) ]
    T[i=1, j=2] = [(30, 40) ]
    T[i=1, j=3] = [(-oo, +oo) ]
    T[i=1, j=4] = [(-oo, +oo) ]
    T[i=2, j=0] = [(-oo, +oo) ]
    T[i=2, j=1] = [(-oo, +oo) ]
    T[i=2, j=2] = [(-oo, +oo) ]
    T[i=2, j=3] = [(-oo, +oo) ]
    T[i=2, j=4] = [(-oo, +oo) ]
    T[i=3, j=0] = [(-oo, +oo) ]
    T[i=3, j=1] = [(-oo, +oo) ]
    T[i=3, j=2] = [(10, 20) ]
    T[i=3, j=3] = [(-oo, +oo) ]
    T[i=3, j=4] = [(20, 30) (40, 50) ]
    T[i=4, j=0] = [(60, 70) ]
    T[i=4, j=1] = [(-oo, +oo) ]
    T[i=4, j=2] = [(-oo, +oo) ]
    T[i=4, j=3] = [(-oo, +oo) ]
    T[i=4, j=4] = [(-oo, +oo) ]

Etape 1, k = 0, i = 1, j = 1.
Contraintes :



Reseau =

    T[i=0, j=0] = [(-oo, +oo) ]
    T[i=0, j=1] = [(10, 20) ]
    T[i=0, j=2] = [(-oo, +oo) ]
    T[i=0, j=3] = [(-oo, +oo) ]
    T[i=0, j=4] = [(-oo, +oo) ]
    T[i=1, j=0] = [(-oo, +oo) ]
    T[i=1, j=1] = [(-oo, +oo) ]
    T[i=1, j=2] = [(30, 40) ]
    T[i=1, j=3] = [(-oo, +oo) ]
    T[i=1, j=4] = [(-oo, +oo) ]
    T[i=2, j=0] = [(-oo, +oo) ]
    T[i=2, j=1] = [(-oo, +oo) ]
    T[i=2, j=2] = [(-oo, +oo) ]
    T[i=2, j=3] = [(-oo, +oo) ]
    T[i=2, j=4] = [(-oo, +oo) ]
    T[i=3, j=0] = [(-oo, +oo) ]
    T[i=3, j=1] = [(-oo, +oo) ]
    T[i=3, j=2] = [(10, 20) ]
    T[i=3, j=3] = [(-oo, +oo) ]
    T[i=3, j=4] = [(20, 30) (40, 50) ]
    T[i=4, j=0] = [(60, 70) ]
    T[i=4, j=1] = [(-oo, +oo) ]
    T[i=4, j=2] = [(-oo, +oo) ]
    T[i=4, j=3] = [(-oo, +oo) ]
    T[i=4, j=4] = [(-oo, +oo) ]

Etape 1, k = 0, i = 1, j = 2.
Contraintes :



Reseau =

    T[i=0, j=0] = [(-oo, +oo) ]
    T[i=0, j=1] = [(10, 20) ]
    T[i=0, j=2] = [(-oo, +oo) ]
    T[i=0, j=3] = [(-oo, +oo) ]
    T[i=0, j=4] = [(-oo, +oo) ]
    T[i=1, j=0] = [(-oo, +oo) ]
    T[i=1, j=1] = [(-oo, +oo) ]
    T[i=1, j=2] = [(30, 40) ]
    T[i=1, j=3] = [(-oo, +oo) ]
    T[i=1, j=4] = [(-oo, +oo) ]
    T[i=2, j=0] = [(-oo, +oo) ]
    T[i=2, j=1] = [(-oo, +oo) ]
    T[i=2, j=2] = [(-oo, +oo) ]
    T[i=2, j=3] = [(-oo, +oo) ]
    T[i=2, j=4] = [(-oo, +oo) ]
    T[i=3, j=0] = [(-oo, +oo) ]
    T[i=3, j=1] = [(-oo, +oo) ]
    T[i=3, j=2] = [(10, 20) ]
    T[i=3, j=3] = [(-oo, +oo) ]
    T[i=3, j=4] = [(20, 30) (40, 50) ]
    T[i=4, j=0] = [(60, 70) ]
    T[i=4, j=1] = [(-oo, +oo) ]
    T[i=4, j=2] = [(-oo, +oo) ]
    T[i=4, j=3] = [(-oo, +oo) ]
    T[i=4, j=4] = [(-oo, +oo) ]

Etape 1, k = 0, i = 1, j = 3.
Contraintes :



Reseau =

    T[i=0, j=0] = [(-oo, +oo) ]
    T[i=0, j=1] = [(10, 20) ]
    T[i=0, j=2] = [(-oo, +oo) ]
    T[i=0, j=3] = [(-oo, +oo) ]
    T[i=0, j=4] = [(-oo, +oo) ]
    T[i=1, j=0] = [(-oo, +oo) ]
    T[i=1, j=1] = [(-oo, +oo) ]
    T[i=1, j=2] = [(30, 40) ]
    T[i=1, j=3] = [(-oo, +oo) ]
    T[i=1, j=4] = [(-oo, +oo) ]
    T[i=2, j=0] = [(-oo, +oo) ]
    T[i=2, j=1] = [(-oo, +oo) ]
    T[i=2, j=2] = [(-oo, +oo) ]
    T[i=2, j=3] = [(-oo, +oo) ]
    T[i=2, j=4] = [(-oo, +oo) ]
    T[i=3, j=0] = [(-oo, +oo) ]
    T[i=3, j=1] = [(-oo, +oo) ]
    T[i=3, j=2] = [(10, 20) ]
    T[i=3, j=3] = [(-oo, +oo) ]
    T[i=3, j=4] = [(20, 30) (40, 50) ]
    T[i=4, j=0] = [(60, 70) ]
    T[i=4, j=1] = [(-oo, +oo) ]
    T[i=4, j=2] = [(-oo, +oo) ]
    T[i=4, j=3] = [(-oo, +oo) ]
    T[i=4, j=4] = [(-oo, +oo) ]

Etape 1, k = 0, i = 1, j = 4.
Contraintes :



Reseau =

    T[i=0, j=0] = [(-oo, +oo) ]
    T[i=0, j=1] = [(10, 20) ]
    T[i=0, j=2] = [(-oo, +oo) ]
    T[i=0, j=3] = [(-oo, +oo) ]
    T[i=0, j=4] = [(-oo, +oo) ]
    T[i=1, j=0] = [(-oo, +oo) ]
    T[i=1, j=1] = [(-oo, +oo) ]
    T[i=1, j=2] = [(30, 40) ]
    T[i=1, j=3] = [(-oo, +oo) ]
    T[i=1, j=4] = [(-oo, +oo) ]
    T[i=2, j=0] = [(-oo, +oo) ]
    T[i=2, j=1] = [(-oo, +oo) ]
    T[i=2, j=2] = [(-oo, +oo) ]
    T[i=2, j=3] = [(-oo, +oo) ]
    T[i=2, j=4] = [(-oo, +oo) ]
    T[i=3, j=0] = [(-oo, +oo) ]
    T[i=3, j=1] = [(-oo, +oo) ]
    T[i=3, j=2] = [(10, 20) ]
    T[i=3, j=3] = [(-oo, +oo) ]
    T[i=3, j=4] = [(20, 30) (40, 50) ]
    T[i=4, j=0] = [(60, 70) ]
    T[i=4, j=1] = [(-oo, +oo) ]
    T[i=4, j=2] = [(-oo, +oo) ]
    T[i=4, j=3] = [(-oo, +oo) ]
    T[i=4, j=4] = [(-oo, +oo) ]

Etape 1, k = 0, i = 2, j = 0.
Contraintes :



Reseau =

    T[i=0, j=0] = [(-oo, +oo) ]
    T[i=0, j=1] = [(10, 20) ]
    T[i=0, j=2] = [(-oo, +oo) ]
    T[i=0, j=3] = [(-oo, +oo) ]
    T[i=0, j=4] = [(-oo, +oo) ]
    T[i=1, j=0] = [(-oo, +oo) ]
    T[i=1, j=1] = [(-oo, +oo) ]
    T[i=1, j=2] = [(30, 40) ]
    T[i=1, j=3] = [(-oo, +oo) ]
    T[i=1, j=4] = [(-oo, +oo) ]
    T[i=2, j=0] = [(-oo, +oo) ]
    T[i=2, j=1] = [(-oo, +oo) ]
    T[i=2, j=2] = [(-oo, +oo) ]
    T[i=2, j=3] = [(-oo, +oo) ]
    T[i=2, j=4] = [(-oo, +oo) ]
    T[i=3, j=0] = [(-oo, +oo) ]
    T[i=3, j=1] = [(-oo, +oo) ]
    T[i=3, j=2] = [(10, 20) ]
    T[i=3, j=3] = [(-oo, +oo) ]
    T[i=3, j=4] = [(20, 30) (40, 50) ]
    T[i=4, j=0] = [(60, 70) ]
    T[i=4, j=1] = [(-oo, +oo) ]
    T[i=4, j=2] = [(-oo, +oo) ]
    T[i=4, j=3] = [(-oo, +oo) ]
    T[i=4, j=4] = [(-oo, +oo) ]

Etape 1, k = 0, i = 2, j = 1.
Contraintes :



Reseau =

    T[i=0, j=0] = [(-oo, +oo) ]
    T[i=0, j=1] = [(10, 20) ]
    T[i=0, j=2] = [(-oo, +oo) ]
    T[i=0, j=3] = [(-oo, +oo) ]
    T[i=0, j=4] = [(-oo, +oo) ]
    T[i=1, j=0] = [(-oo, +oo) ]
    T[i=1, j=1] = [(-oo, +oo) ]
    T[i=1, j=2] = [(30, 40) ]
    T[i=1, j=3] = [(-oo, +oo) ]
    T[i=1, j=4] = [(-oo, +oo) ]
    T[i=2, j=0] = [(-oo, +oo) ]
    T[i=2, j=1] = [(-oo, +oo) ]
    T[i=2, j=2] = [(-oo, +oo) ]
    T[i=2, j=3] = [(-oo, +oo) ]
    T[i=2, j=4] = [(-oo, +oo) ]
    T[i=3, j=0] = [(-oo, +oo) ]
    T[i=3, j=1] = [(-oo, +oo) ]
    T[i=3, j=2] = [(10, 20) ]
    T[i=3, j=3] = [(-oo, +oo) ]
    T[i=3, j=4] = [(20, 30) (40, 50) ]
    T[i=4, j=0] = [(60, 70) ]
    T[i=4, j=1] = [(-oo, +oo) ]
    T[i=4, j=2] = [(-oo, +oo) ]
    T[i=4, j=3] = [(-oo, +oo) ]
    T[i=4, j=4] = [(-oo, +oo) ]

Etape 1, k = 0, i = 2, j = 2.
Contraintes :



Reseau =

    T[i=0, j=0] = [(-oo, +oo) ]
    T[i=0, j=1] = [(10, 20) ]
    T[i=0, j=2] = [(-oo, +oo) ]
    T[i=0, j=3] = [(-oo, +oo) ]
    T[i=0, j=4] = [(-oo, +oo) ]
    T[i=1, j=0] = [(-oo, +oo) ]
    T[i=1, j=1] = [(-oo, +oo) ]
    T[i=1, j=2] = [(30, 40) ]
    T[i=1, j=3] = [(-oo, +oo) ]
    T[i=1, j=4] = [(-oo, +oo) ]
    T[i=2, j=0] = [(-oo, +oo) ]
    T[i=2, j=1] = [(-oo, +oo) ]
    T[i=2, j=2] = [(-oo, +oo) ]
    T[i=2, j=3] = [(-oo, +oo) ]
    T[i=2, j=4] = [(-oo, +oo) ]
    T[i=3, j=0] = [(-oo, +oo) ]
    T[i=3, j=1] = [(-oo, +oo) ]
    T[i=3, j=2] = [(10, 20) ]
    T[i=3, j=3] = [(-oo, +oo) ]
    T[i=3, j=4] = [(20, 30) (40, 50) ]
    T[i=4, j=0] = [(60, 70) ]
    T[i=4, j=1] = [(-oo, +oo) ]
    T[i=4, j=2] = [(-oo, +oo) ]
    T[i=4, j=3] = [(-oo, +oo) ]
    T[i=4, j=4] = [(-oo, +oo) ]

Etape 1, k = 0, i = 2, j = 3.
Contraintes :



Reseau =

    T[i=0, j=0] = [(-oo, +oo) ]
    T[i=0, j=1] = [(10, 20) ]
    T[i=0, j=2] = [(-oo, +oo) ]
    T[i=0, j=3] = [(-oo, +oo) ]
    T[i=0, j=4] = [(-oo, +oo) ]
    T[i=1, j=0] = [(-oo, +oo) ]
    T[i=1, j=1] = [(-oo, +oo) ]
    T[i=1, j=2] = [(30, 40) ]
    T[i=1, j=3] = [(-oo, +oo) ]
    T[i=1, j=4] = [(-oo, +oo) ]
    T[i=2, j=0] = [(-oo, +oo) ]
    T[i=2, j=1] = [(-oo, +oo) ]
    T[i=2, j=2] = [(-oo, +oo) ]
    T[i=2, j=3] = [(-oo, +oo) ]
    T[i=2, j=4] = [(-oo, +oo) ]
    T[i=3, j=0] = [(-oo, +oo) ]
    T[i=3, j=1] = [(-oo, +oo) ]
    T[i=3, j=2] = [(10, 20) ]
    T[i=3, j=3] = [(-oo, +oo) ]
    T[i=3, j=4] = [(20, 30) (40, 50) ]
    T[i=4, j=0] = [(60, 70) ]
    T[i=4, j=1] = [(-oo, +oo) ]
    T[i=4, j=2] = [(-oo, +oo) ]
    T[i=4, j=3] = [(-oo, +oo) ]
    T[i=4, j=4] = [(-oo, +oo) ]

Etape 1, k = 0, i = 2, j = 4.
Contraintes :



Reseau =

    T[i=0, j=0] = [(-oo, +oo) ]
    T[i=0, j=1] = [(10, 20) ]
    T[i=0, j=2] = [(-oo, +oo) ]
    T[i=0, j=3] = [(-oo, +oo) ]
    T[i=0, j=4] = [(-oo, +oo) ]
    T[i=1, j=0] = [(-oo, +oo) ]
    T[i=1, j=1] = [(-oo, +oo) ]
    T[i=1, j=2] = [(30, 40) ]
    T[i=1, j=3] = [(-oo, +oo) ]
    T[i=1, j=4] = [(-oo, +oo) ]
    T[i=2, j=0] = [(-oo, +oo) ]
    T[i=2, j=1] = [(-oo, +oo) ]
    T[i=2, j=2] = [(-oo, +oo) ]
    T[i=2, j=3] = [(-oo, +oo) ]
    T[i=2, j=4] = [(-oo, +oo) ]
    T[i=3, j=0] = [(-oo, +oo) ]
    T[i=3, j=1] = [(-oo, +oo) ]
    T[i=3, j=2] = [(10, 20) ]
    T[i=3, j=3] = [(-oo, +oo) ]
    T[i=3, j=4] = [(20, 30) (40, 50) ]
    T[i=4, j=0] = [(60, 70) ]
    T[i=4, j=1] = [(-oo, +oo) ]
    T[i=4, j=2] = [(-oo, +oo) ]
    T[i=4, j=3] = [(-oo, +oo) ]
    T[i=4, j=4] = [(-oo, +oo) ]

Etape 1, k = 0, i = 3, j = 0.
Contraintes :



Reseau =

    T[i=0, j=0] = [(-oo, +oo) ]
    T[i=0, j=1] = [(10, 20) ]
    T[i=0, j=2] = [(-oo, +oo) ]
    T[i=0, j=3] = [(-oo, +oo) ]
    T[i=0, j=4] = [(-oo, +oo) ]
    T[i=1, j=0] = [(-oo, +oo) ]
    T[i=1, j=1] = [(-oo, +oo) ]
    T[i=1, j=2] = [(30, 40) ]
    T[i=1, j=3] = [(-oo, +oo) ]
    T[i=1, j=4] = [(-oo, +oo) ]
    T[i=2, j=0] = [(-oo, +oo) ]
    T[i=2, j=1] = [(-oo, +oo) ]
    T[i=2, j=2] = [(-oo, +oo) ]
    T[i=2, j=3] = [(-oo, +oo) ]
    T[i=2, j=4] = [(-oo, +oo) ]
    T[i=3, j=0] = [(-oo, +oo) ]
    T[i=3, j=1] = [(-oo, +oo) ]
    T[i=3, j=2] = [(10, 20) ]
    T[i=3, j=3] = [(-oo, +oo) ]
    T[i=3, j=4] = [(20, 30) (40, 50) ]
    T[i=4, j=0] = [(60, 70) ]
    T[i=4, j=1] = [(-oo, +oo) ]
    T[i=4, j=2] = [(-oo, +oo) ]
    T[i=4, j=3] = [(-oo, +oo) ]
    T[i=4, j=4] = [(-oo, +oo) ]

Etape 1, k = 0, i = 3, j = 1.
Contraintes :



Reseau =

    T[i=0, j=0] = [(-oo, +oo) ]
    T[i=0, j=1] = [(10, 20) ]
    T[i=0, j=2] = [(-oo, +oo) ]
    T[i=0, j=3] = [(-oo, +oo) ]
    T[i=0, j=4] = [(-oo, +oo) ]
    T[i=1, j=0] = [(-oo, +oo) ]
    T[i=1, j=1] = [(-oo, +oo) ]
    T[i=1, j=2] = [(30, 40) ]
    T[i=1, j=3] = [(-oo, +oo) ]
    T[i=1, j=4] = [(-oo, +oo) ]
    T[i=2, j=0] = [(-oo, +oo) ]
    T[i=2, j=1] = [(-oo, +oo) ]
    T[i=2, j=2] = [(-oo, +oo) ]
    T[i=2, j=3] = [(-oo, +oo) ]
    T[i=2, j=4] = [(-oo, +oo) ]
    T[i=3, j=0] = [(-oo, +oo) ]
    T[i=3, j=1] = [(-oo, +oo) ]
    T[i=3, j=2] = [(10, 20) ]
    T[i=3, j=3] = [(-oo, +oo) ]
    T[i=3, j=4] = [(20, 30) (40, 50) ]
    T[i=4, j=0] = [(60, 70) ]
    T[i=4, j=1] = [(-oo, +oo) ]
    T[i=4, j=2] = [(-oo, +oo) ]
    T[i=4, j=3] = [(-oo, +oo) ]
    T[i=4, j=4] = [(-oo, +oo) ]

Etape 1, k = 0, i = 3, j = 2.
Contraintes :



Reseau =

    T[i=0, j=0] = [(-oo, +oo) ]
    T[i=0, j=1] = [(10, 20) ]
    T[i=0, j=2] = [(-oo, +oo) ]
    T[i=0, j=3] = [(-oo, +oo) ]
    T[i=0, j=4] = [(-oo, +oo) ]
    T[i=1, j=0] = [(-oo, +oo) ]
    T[i=1, j=1] = [(-oo, +oo) ]
    T[i=1, j=2] = [(30, 40) ]
    T[i=1, j=3] = [(-oo, +oo) ]
    T[i=1, j=4] = [(-oo, +oo) ]
    T[i=2, j=0] = [(-oo, +oo) ]
    T[i=2, j=1] = [(-oo, +oo) ]
    T[i=2, j=2] = [(-oo, +oo) ]
    T[i=2, j=3] = [(-oo, +oo) ]
    T[i=2, j=4] = [(-oo, +oo) ]
    T[i=3, j=0] = [(-oo, +oo) ]
    T[i=3, j=1] = [(-oo, +oo) ]
    T[i=3, j=2] = [(10, 20) ]
    T[i=3, j=3] = [(-oo, +oo) ]
    T[i=3, j=4] = [(20, 30) (40, 50) ]
    T[i=4, j=0] = [(60, 70) ]
    T[i=4, j=1] = [(-oo, +oo) ]
    T[i=4, j=2] = [(-oo, +oo) ]
    T[i=4, j=3] = [(-oo, +oo) ]
    T[i=4, j=4] = [(-oo, +oo) ]

Etape 1, k = 0, i = 3, j = 3.
Contraintes :



Reseau =

    T[i=0, j=0] = [(-oo, +oo) ]
    T[i=0, j=1] = [(10, 20) ]
    T[i=0, j=2] = [(-oo, +oo) ]
    T[i=0, j=3] = [(-oo, +oo) ]
    T[i=0, j=4] = [(-oo, +oo) ]
    T[i=1, j=0] = [(-oo, +oo) ]
    T[i=1, j=1] = [(-oo, +oo) ]
    T[i=1, j=2] = [(30, 40) ]
    T[i=1, j=3] = [(-oo, +oo) ]
    T[i=1, j=4] = [(-oo, +oo) ]
    T[i=2, j=0] = [(-oo, +oo) ]
    T[i=2, j=1] = [(-oo, +oo) ]
    T[i=2, j=2] = [(-oo, +oo) ]
    T[i=2, j=3] = [(-oo, +oo) ]
    T[i=2, j=4] = [(-oo, +oo) ]
    T[i=3, j=0] = [(-oo, +oo) ]
    T[i=3, j=1] = [(-oo, +oo) ]
    T[i=3, j=2] = [(10, 20) ]
    T[i=3, j=3] = [(-oo, +oo) ]
    T[i=3, j=4] = [(20, 30) (40, 50) ]
    T[i=4, j=0] = [(60, 70) ]
    T[i=4, j=1] = [(-oo, +oo) ]
    T[i=4, j=2] = [(-oo, +oo) ]
    T[i=4, j=3] = [(-oo, +oo) ]
    T[i=4, j=4] = [(-oo, +oo) ]

Etape 1, k = 0, i = 3, j = 4.
Contraintes :



Reseau =

    T[i=0, j=0] = [(-oo, +oo) ]
    T[i=0, j=1] = [(10, 20) ]
    T[i=0, j=2] = [(-oo, +oo) ]
    T[i=0, j=3] = [(-oo, +oo) ]
    T[i=0, j=4] = [(-oo, +oo) ]
    T[i=1, j=0] = [(-oo, +oo) ]
    T[i=1, j=1] = [(-oo, +oo) ]
    T[i=1, j=2] = [(30, 40) ]
    T[i=1, j=3] = [(-oo, +oo) ]
    T[i=1, j=4] = [(-oo, +oo) ]
    T[i=2, j=0] = [(-oo, +oo) ]
    T[i=2, j=1] = [(-oo, +oo) ]
    T[i=2, j=2] = [(-oo, +oo) ]
    T[i=2, j=3] = [(-oo, +oo) ]
    T[i=2, j=4] = [(-oo, +oo) ]
    T[i=3, j=0] = [(-oo, +oo) ]
    T[i=3, j=1] = [(-oo, +oo) ]
    T[i=3, j=2] = [(10, 20) ]
    T[i=3, j=3] = [(-oo, +oo) ]
    T[i=3, j=4] = [(20, 30) (40, 50) ]
    T[i=4, j=0] = [(60, 70) ]
    T[i=4, j=1] = [(-oo, +oo) ]
    T[i=4, j=2] = [(-oo, +oo) ]
    T[i=4, j=3] = [(-oo, +oo) ]
    T[i=4, j=4] = [(-oo, +oo) ]

Etape 1, k = 0, i = 4, j = 0.
Contraintes :



Reseau =

    T[i=0, j=0] = [(-oo, +oo) ]
    T[i=0, j=1] = [(10, 20) ]
    T[i=0, j=2] = [(-oo, +oo) ]
    T[i=0, j=3] = [(-oo, +oo) ]
    T[i=0, j=4] = [(-oo, +oo) ]
    T[i=1, j=0] = [(-oo, +oo) ]
    T[i=1, j=1] = [(-oo, +oo) ]
    T[i=1, j=2] = [(30, 40) ]
    T[i=1, j=3] = [(-oo, +oo) ]
    T[i=1, j=4] = [(-oo, +oo) ]
    T[i=2, j=0] = [(-oo, +oo) ]
    T[i=2, j=1] = [(-oo, +oo) ]
    T[i=2, j=2] = [(-oo, +oo) ]
    T[i=2, j=3] = [(-oo, +oo) ]
    T[i=2, j=4] = [(-oo, +oo) ]
    T[i=3, j=0] = [(-oo, +oo) ]
    T[i=3, j=1] = [(-oo, +oo) ]
    T[i=3, j=2] = [(10, 20) ]
    T[i=3, j=3] = [(-oo, +oo) ]
    T[i=3, j=4] = [(20, 30) (40, 50) ]
    T[i=4, j=0] = [(60, 70) ]
    T[i=4, j=1] = [(-oo, +oo) ]
    T[i=4, j=2] = [(-oo, +oo) ]
    T[i=4, j=3] = [(-oo, +oo) ]
    T[i=4, j=4] = [(-oo, +oo) ]

Etape 1, k = 0, i = 4, j = 1.
Contraintes :



Reseau =

    T[i=0, j=0] = [(-oo, +oo) ]
    T[i=0, j=1] = [(10, 20) ]
    T[i=0, j=2] = [(-oo, +oo) ]
    T[i=0, j=3] = [(-oo, +oo) ]
    T[i=0, j=4] = [(-oo, +oo) ]
    T[i=1, j=0] = [(-oo, +oo) ]
    T[i=1, j=1] = [(-oo, +oo) ]
    T[i=1, j=2] = [(30, 40) ]
    T[i=1, j=3] = [(-oo, +oo) ]
    T[i=1, j=4] = [(-oo, +oo) ]
    T[i=2, j=0] = [(-oo, +oo) ]
    T[i=2, j=1] = [(-oo, +oo) ]
    T[i=2, j=2] = [(-oo, +oo) ]
    T[i=2, j=3] = [(-oo, +oo) ]
    T[i=2, j=4] = [(-oo, +oo) ]
    T[i=3, j=0] = [(-oo, +oo) ]
    T[i=3, j=1] = [(-oo, +oo) ]
    T[i=3, j=2] = [(10, 20) ]
    T[i=3, j=3] = [(-oo, +oo) ]
    T[i=3, j=4] = [(20, 30) (40, 50) ]
    T[i=4, j=0] = [(60, 70) ]
    T[i=4, j=1] = [(-oo, +oo) ]
    T[i=4, j=2] = [(-oo, +oo) ]
    T[i=4, j=3] = [(-oo, +oo) ]
    T[i=4, j=4] = [(-oo, +oo) ]

Etape 1, k = 0, i = 4, j = 2.
Contraintes :



Reseau =

    T[i=0, j=0] = [(-oo, +oo) ]
    T[i=0, j=1] = [(10, 20) ]
    T[i=0, j=2] = [(-oo, +oo) ]
    T[i=0, j=3] = [(-oo, +oo) ]
    T[i=0, j=4] = [(-oo, +oo) ]
    T[i=1, j=0] = [(-oo, +oo) ]
    T[i=1, j=1] = [(-oo, +oo) ]
    T[i=1, j=2] = [(30, 40) ]
    T[i=1, j=3] = [(-oo, +oo) ]
    T[i=1, j=4] = [(-oo, +oo) ]
    T[i=2, j=0] = [(-oo, +oo) ]
    T[i=2, j=1] = [(-oo, +oo) ]
    T[i=2, j=2] = [(-oo, +oo) ]
    T[i=2, j=3] = [(-oo, +oo) ]
    T[i=2, j=4] = [(-oo, +oo) ]
    T[i=3, j=0] = [(-oo, +oo) ]
    T[i=3, j=1] = [(-oo, +oo) ]
    T[i=3, j=2] = [(10, 20) ]
    T[i=3, j=3] = [(-oo, +oo) ]
    T[i=3, j=4] = [(20, 30) (40, 50) ]
    T[i=4, j=0] = [(60, 70) ]
    T[i=4, j=1] = [(70, 90) ]
    T[i=4, j=2] = [(-oo, +oo) ]
    T[i=4, j=3] = [(-oo, +oo) ]
    T[i=4, j=4] = [(-oo, +oo) ]

Etape 1, k = 0, i = 4, j = 3.
Contraintes :



Reseau =

    T[i=0, j=0] = [(-oo, +oo) ]
    T[i=0, j=1] = [(10, 20) ]
    T[i=0, j=2] = [(-oo, +oo) ]
    T[i=0, j=3] = [(-oo, +oo) ]
    T[i=0, j=4] = [(-oo, +oo) ]
    T[i=1, j=0] = [(-oo, +oo) ]
    T[i=1, j=1] = [(-oo, +oo) ]
    T[i=1, j=2] = [(30, 40) ]
    T[i=1, j=3] = [(-oo, +oo) ]
    T[i=1, j=4] = [(-oo, +oo) ]
    T[i=2, j=0] = [(-oo, +oo) ]
    T[i=2, j=1] = [(-oo, +oo) ]
    T[i=2, j=2] = [(-oo, +oo) ]
    T[i=2, j=3] = [(-oo, +oo) ]
    T[i=2, j=4] = [(-oo, +oo) ]
    T[i=3, j=0] = [(-oo, +oo) ]
    T[i=3, j=1] = [(-oo, +oo) ]
    T[i=3, j=2] = [(10, 20) ]
    T[i=3, j=3] = [(-oo, +oo) ]
    T[i=3, j=4] = [(20, 30) (40, 50) ]
    T[i=4, j=0] = [(60, 70) ]
    T[i=4, j=1] = [(70, 90) ]
    T[i=4, j=2] = [(-oo, +oo) ]
    T[i=4, j=3] = [(-oo, +oo) ]
    T[i=4, j=4] = [(-oo, +oo) ]

Etape 1, k = 0, i = 4, j = 4.
Contraintes :



Reseau =

    T[i=0, j=0] = [(-oo, +oo) ]
    T[i=0, j=1] = [(10, 20) ]
    T[i=0, j=2] = [(-oo, +oo) ]
    T[i=0, j=3] = [(-oo, +oo) ]
    T[i=0, j=4] = [(-oo, +oo) ]
    T[i=1, j=0] = [(-oo, +oo) ]
    T[i=1, j=1] = [(-oo, +oo) ]
    T[i=1, j=2] = [(30, 40) ]
    T[i=1, j=3] = [(-oo, +oo) ]
    T[i=1, j=4] = [(-oo, +oo) ]
    T[i=2, j=0] = [(-oo, +oo) ]
    T[i=2, j=1] = [(-oo, +oo) ]
    T[i=2, j=2] = [(-oo, +oo) ]
    T[i=2, j=3] = [(-oo, +oo) ]
    T[i=2, j=4] = [(-oo, +oo) ]
    T[i=3, j=0] = [(-oo, +oo) ]
    T[i=3, j=1] = [(-oo, +oo) ]
    T[i=3, j=2] = [(10, 20) ]
    T[i=3, j=3] = [(-oo, +oo) ]
    T[i=3, j=4] = [(20, 30) (40, 50) ]
    T[i=4, j=0] = [(60, 70) ]
    T[i=4, j=1] = [(70, 90) ]
    T[i=4, j=2] = [(-oo, +oo) ]
    T[i=4, j=3] = [(-oo, +oo) ]
    T[i=4, j=4] = [(-oo, +oo) ]

Etape 1, k = 1, i = 0, j = 0.
Contraintes :



Reseau =

    T[i=0, j=0] = [(-oo, +oo) ]
    T[i=0, j=1] = [(10, 20) ]
    T[i=0, j=2] = [(-oo, +oo) ]
    T[i=0, j=3] = [(-oo, +oo) ]
    T[i=0, j=4] = [(-oo, +oo) ]
    T[i=1, j=0] = [(-oo, +oo) ]
    T[i=1, j=1] = [(-oo, +oo) ]
    T[i=1, j=2] = [(30, 40) ]
    T[i=1, j=3] = [(-oo, +oo) ]
    T[i=1, j=4] = [(-oo, +oo) ]
    T[i=2, j=0] = [(-oo, +oo) ]
    T[i=2, j=1] = [(-oo, +oo) ]
    T[i=2, j=2] = [(-oo, +oo) ]
    T[i=2, j=3] = [(-oo, +oo) ]
    T[i=2, j=4] = [(-oo, +oo) ]
    T[i=3, j=0] = [(-oo, +oo) ]
    T[i=3, j=1] = [(-oo, +oo) ]
    T[i=3, j=2] = [(10, 20) ]
    T[i=3, j=3] = [(-oo, +oo) ]
    T[i=3, j=4] = [(20, 30) (40, 50) ]
    T[i=4, j=0] = [(60, 70) ]
    T[i=4, j=1] = [(70, 90) ]
    T[i=4, j=2] = [(-oo, +oo) ]
    T[i=4, j=3] = [(-oo, +oo) ]
    T[i=4, j=4] = [(-oo, +oo) ]

Etape 1, k = 1, i = 0, j = 1.
Contraintes :



Reseau =

    T[i=0, j=0] = [(-oo, +oo) ]
    T[i=0, j=1] = [(10, 20) ]
    T[i=0, j=2] = [(-oo, +oo) ]
    T[i=0, j=3] = [(-oo, +oo) ]
    T[i=0, j=4] = [(-oo, +oo) ]
    T[i=1, j=0] = [(-oo, +oo) ]
    T[i=1, j=1] = [(-oo, +oo) ]
    T[i=1, j=2] = [(30, 40) ]
    T[i=1, j=3] = [(-oo, +oo) ]
    T[i=1, j=4] = [(-oo, +oo) ]
    T[i=2, j=0] = [(-oo, +oo) ]
    T[i=2, j=1] = [(-oo, +oo) ]
    T[i=2, j=2] = [(-oo, +oo) ]
    T[i=2, j=3] = [(-oo, +oo) ]
    T[i=2, j=4] = [(-oo, +oo) ]
    T[i=3, j=0] = [(-oo, +oo) ]
    T[i=3, j=1] = [(-oo, +oo) ]
    T[i=3, j=2] = [(10, 20) ]
    T[i=3, j=3] = [(-oo, +oo) ]
    T[i=3, j=4] = [(20, 30) (40, 50) ]
    T[i=4, j=0] = [(60, 70) ]
    T[i=4, j=1] = [(70, 90) ]
    T[i=4, j=2] = [(-oo, +oo) ]
    T[i=4, j=3] = [(-oo, +oo) ]
    T[i=4, j=4] = [(-oo, +oo) ]

Etape 1, k = 1, i = 0, j = 2.
Contraintes :



Reseau =

    T[i=0, j=0] = [(-oo, +oo) ]
    T[i=0, j=1] = [(10, 20) ]
    T[i=0, j=2] = [(-oo, +oo) ]
    T[i=0, j=3] = [(-oo, +oo) ]
    T[i=0, j=4] = [(-oo, +oo) ]
    T[i=1, j=0] = [(-oo, +oo) ]
    T[i=1, j=1] = [(-oo, +oo) ]
    T[i=1, j=2] = [(30, 40) ]
    T[i=1, j=3] = [(-oo, +oo) ]
    T[i=1, j=4] = [(-oo, +oo) ]
    T[i=2, j=0] = [(-oo, +oo) ]
    T[i=2, j=1] = [(-oo, +oo) ]
    T[i=2, j=2] = [(-oo, +oo) ]
    T[i=2, j=3] = [(-oo, +oo) ]
    T[i=2, j=4] = [(-oo, +oo) ]
    T[i=3, j=0] = [(-oo, +oo) ]
    T[i=3, j=1] = [(-oo, +oo) ]
    T[i=3, j=2] = [(10, 20) ]
    T[i=3, j=3] = [(-oo, +oo) ]
    T[i=3, j=4] = [(20, 30) (40, 50) ]
    T[i=4, j=0] = [(60, 70) ]
    T[i=4, j=1] = [(70, 90) ]
    T[i=4, j=2] = [(-oo, +oo) ]
    T[i=4, j=3] = [(-oo, +oo) ]
    T[i=4, j=4] = [(-oo, +oo) ]

Etape 1, k = 1, i = 0, j = 3.
Contraintes :



Reseau =

    T[i=0, j=0] = [(-oo, +oo) ]
    T[i=0, j=1] = [(10, 20) ]
    T[i=0, j=2] = [(40, 60) ]
    T[i=0, j=3] = [(-oo, +oo) ]
    T[i=0, j=4] = [(-oo, +oo) ]
    T[i=1, j=0] = [(-oo, +oo) ]
    T[i=1, j=1] = [(-oo, +oo) ]
    T[i=1, j=2] = [(30, 40) ]
    T[i=1, j=3] = [(-oo, +oo) ]
    T[i=1, j=4] = [(-oo, +oo) ]
    T[i=2, j=0] = [(-oo, +oo) ]
    T[i=2, j=1] = [(-oo, +oo) ]
    T[i=2, j=2] = [(-oo, +oo) ]
    T[i=2, j=3] = [(-oo, +oo) ]
    T[i=2, j=4] = [(-oo, +oo) ]
    T[i=3, j=0] = [(-oo, +oo) ]
    T[i=3, j=1] = [(-oo, +oo) ]
    T[i=3, j=2] = [(10, 20) ]
    T[i=3, j=3] = [(-oo, +oo) ]
    T[i=3, j=4] = [(20, 30) (40, 50) ]
    T[i=4, j=0] = [(60, 70) ]
    T[i=4, j=1] = [(70, 90) ]
    T[i=4, j=2] = [(-oo, +oo) ]
    T[i=4, j=3] = [(-oo, +oo) ]
    T[i=4, j=4] = [(-oo, +oo) ]

Etape 1, k = 1, i = 0, j = 4.
Contraintes :



Reseau =

    T[i=0, j=0] = [(-oo, +oo) ]
    T[i=0, j=1] = [(10, 20) ]
    T[i=0, j=2] = [(40, 60) ]
    T[i=0, j=3] = [(-oo, +oo) ]
    T[i=0, j=4] = [(-oo, +oo) ]
    T[i=1, j=0] = [(-oo, +oo) ]
    T[i=1, j=1] = [(-oo, +oo) ]
    T[i=1, j=2] = [(30, 40) ]
    T[i=1, j=3] = [(-oo, +oo) ]
    T[i=1, j=4] = [(-oo, +oo) ]
    T[i=2, j=0] = [(-oo, +oo) ]
    T[i=2, j=1] = [(-oo, +oo) ]
    T[i=2, j=2] = [(-oo, +oo) ]
    T[i=2, j=3] = [(-oo, +oo) ]
    T[i=2, j=4] = [(-oo, +oo) ]
    T[i=3, j=0] = [(-oo, +oo) ]
    T[i=3, j=1] = [(-oo, +oo) ]
    T[i=3, j=2] = [(10, 20) ]
    T[i=3, j=3] = [(-oo, +oo) ]
    T[i=3, j=4] = [(20, 30) (40, 50) ]
    T[i=4, j=0] = [(60, 70) ]
    T[i=4, j=1] = [(70, 90) ]
    T[i=4, j=2] = [(-oo, +oo) ]
    T[i=4, j=3] = [(-oo, +oo) ]
    T[i=4, j=4] = [(-oo, +oo) ]

Etape 1, k = 1, i = 1, j = 0.
Contraintes :



Reseau =

    T[i=0, j=0] = [(-oo, +oo) ]
    T[i=0, j=1] = [(10, 20) ]
    T[i=0, j=2] = [(40, 60) ]
    T[i=0, j=3] = [(-oo, +oo) ]
    T[i=0, j=4] = [(-oo, +oo) ]
    T[i=1, j=0] = [(-oo, +oo) ]
    T[i=1, j=1] = [(-oo, +oo) ]
    T[i=1, j=2] = [(30, 40) ]
    T[i=1, j=3] = [(-oo, +oo) ]
    T[i=1, j=4] = [(-oo, +oo) ]
    T[i=2, j=0] = [(-oo, +oo) ]
    T[i=2, j=1] = [(-oo, +oo) ]
    T[i=2, j=2] = [(-oo, +oo) ]
    T[i=2, j=3] = [(-oo, +oo) ]
    T[i=2, j=4] = [(-oo, +oo) ]
    T[i=3, j=0] = [(-oo, +oo) ]
    T[i=3, j=1] = [(-oo, +oo) ]
    T[i=3, j=2] = [(10, 20) ]
    T[i=3, j=3] = [(-oo, +oo) ]
    T[i=3, j=4] = [(20, 30) (40, 50) ]
    T[i=4, j=0] = [(60, 70) ]
    T[i=4, j=1] = [(70, 90) ]
    T[i=4, j=2] = [(-oo, +oo) ]
    T[i=4, j=3] = [(-oo, +oo) ]
    T[i=4, j=4] = [(-oo, +oo) ]

Etape 1, k = 1, i = 1, j = 1.
Contraintes :



Reseau =

    T[i=0, j=0] = [(-oo, +oo) ]
    T[i=0, j=1] = [(10, 20) ]
    T[i=0, j=2] = [(40, 60) ]
    T[i=0, j=3] = [(-oo, +oo) ]
    T[i=0, j=4] = [(-oo, +oo) ]
    T[i=1, j=0] = [(-oo, +oo) ]
    T[i=1, j=1] = [(-oo, +oo) ]
    T[i=1, j=2] = [(30, 40) ]
    T[i=1, j=3] = [(-oo, +oo) ]
    T[i=1, j=4] = [(-oo, +oo) ]
    T[i=2, j=0] = [(-oo, +oo) ]
    T[i=2, j=1] = [(-oo, +oo) ]
    T[i=2, j=2] = [(-oo, +oo) ]
    T[i=2, j=3] = [(-oo, +oo) ]
    T[i=2, j=4] = [(-oo, +oo) ]
    T[i=3, j=0] = [(-oo, +oo) ]
    T[i=3, j=1] = [(-oo, +oo) ]
    T[i=3, j=2] = [(10, 20) ]
    T[i=3, j=3] = [(-oo, +oo) ]
    T[i=3, j=4] = [(20, 30) (40, 50) ]
    T[i=4, j=0] = [(60, 70) ]
    T[i=4, j=1] = [(70, 90) ]
    T[i=4, j=2] = [(-oo, +oo) ]
    T[i=4, j=3] = [(-oo, +oo) ]
    T[i=4, j=4] = [(-oo, +oo) ]

Etape 1, k = 1, i = 1, j = 2.
Contraintes :



Reseau =

    T[i=0, j=0] = [(-oo, +oo) ]
    T[i=0, j=1] = [(10, 20) ]
    T[i=0, j=2] = [(40, 60) ]
    T[i=0, j=3] = [(-oo, +oo) ]
    T[i=0, j=4] = [(-oo, +oo) ]
    T[i=1, j=0] = [(-oo, +oo) ]
    T[i=1, j=1] = [(-oo, +oo) ]
    T[i=1, j=2] = [(30, 40) ]
    T[i=1, j=3] = [(-oo, +oo) ]
    T[i=1, j=4] = [(-oo, +oo) ]
    T[i=2, j=0] = [(-oo, +oo) ]
    T[i=2, j=1] = [(-oo, +oo) ]
    T[i=2, j=2] = [(-oo, +oo) ]
    T[i=2, j=3] = [(-oo, +oo) ]
    T[i=2, j=4] = [(-oo, +oo) ]
    T[i=3, j=0] = [(-oo, +oo) ]
    T[i=3, j=1] = [(-oo, +oo) ]
    T[i=3, j=2] = [(10, 20) ]
    T[i=3, j=3] = [(-oo, +oo) ]
    T[i=3, j=4] = [(20, 30) (40, 50) ]
    T[i=4, j=0] = [(60, 70) ]
    T[i=4, j=1] = [(70, 90) ]
    T[i=4, j=2] = [(-oo, +oo) ]
    T[i=4, j=3] = [(-oo, +oo) ]
    T[i=4, j=4] = [(-oo, +oo) ]

Etape 1, k = 1, i = 1, j = 3.
Contraintes :



Reseau =

    T[i=0, j=0] = [(-oo, +oo) ]
    T[i=0, j=1] = [(10, 20) ]
    T[i=0, j=2] = [(40, 60) ]
    T[i=0, j=3] = [(-oo, +oo) ]
    T[i=0, j=4] = [(-oo, +oo) ]
    T[i=1, j=0] = [(-oo, +oo) ]
    T[i=1, j=1] = [(-oo, +oo) ]
    T[i=1, j=2] = [(30, 40) ]
    T[i=1, j=3] = [(-oo, +oo) ]
    T[i=1, j=4] = [(-oo, +oo) ]
    T[i=2, j=0] = [(-oo, +oo) ]
    T[i=2, j=1] = [(-oo, +oo) ]
    T[i=2, j=2] = [(-oo, +oo) ]
    T[i=2, j=3] = [(-oo, +oo) ]
    T[i=2, j=4] = [(-oo, +oo) ]
    T[i=3, j=0] = [(-oo, +oo) ]
    T[i=3, j=1] = [(-oo, +oo) ]
    T[i=3, j=2] = [(10, 20) ]
    T[i=3, j=3] = [(-oo, +oo) ]
    T[i=3, j=4] = [(20, 30) (40, 50) ]
    T[i=4, j=0] = [(60, 70) ]
    T[i=4, j=1] = [(70, 90) ]
    T[i=4, j=2] = [(-oo, +oo) ]
    T[i=4, j=3] = [(-oo, +oo) ]
    T[i=4, j=4] = [(-oo, +oo) ]

Etape 1, k = 1, i = 1, j = 4.
Contraintes :



Reseau =

    T[i=0, j=0] = [(-oo, +oo) ]
    T[i=0, j=1] = [(10, 20) ]
    T[i=0, j=2] = [(40, 60) ]
    T[i=0, j=3] = [(-oo, +oo) ]
    T[i=0, j=4] = [(-oo, +oo) ]
    T[i=1, j=0] = [(-oo, +oo) ]
    T[i=1, j=1] = [(-oo, +oo) ]
    T[i=1, j=2] = [(30, 40) ]
    T[i=1, j=3] = [(-oo, +oo) ]
    T[i=1, j=4] = [(-oo, +oo) ]
    T[i=2, j=0] = [(-oo, +oo) ]
    T[i=2, j=1] = [(-oo, +oo) ]
    T[i=2, j=2] = [(-oo, +oo) ]
    T[i=2, j=3] = [(-oo, +oo) ]
    T[i=2, j=4] = [(-oo, +oo) ]
    T[i=3, j=0] = [(-oo, +oo) ]
    T[i=3, j=1] = [(-oo, +oo) ]
    T[i=3, j=2] = [(10, 20) ]
    T[i=3, j=3] = [(-oo, +oo) ]
    T[i=3, j=4] = [(20, 30) (40, 50) ]
    T[i=4, j=0] = [(60, 70) ]
    T[i=4, j=1] = [(70, 90) ]
    T[i=4, j=2] = [(-oo, +oo) ]
    T[i=4, j=3] = [(-oo, +oo) ]
    T[i=4, j=4] = [(-oo, +oo) ]

Etape 1, k = 1, i = 2, j = 0.
Contraintes :



Reseau =

    T[i=0, j=0] = [(-oo, +oo) ]
    T[i=0, j=1] = [(10, 20) ]
    T[i=0, j=2] = [(40, 60) ]
    T[i=0, j=3] = [(-oo, +oo) ]
    T[i=0, j=4] = [(-oo, +oo) ]
    T[i=1, j=0] = [(-oo, +oo) ]
    T[i=1, j=1] = [(-oo, +oo) ]
    T[i=1, j=2] = [(30, 40) ]
    T[i=1, j=3] = [(-oo, +oo) ]
    T[i=1, j=4] = [(-oo, +oo) ]
    T[i=2, j=0] = [(-oo, +oo) ]
    T[i=2, j=1] = [(-oo, +oo) ]
    T[i=2, j=2] = [(-oo, +oo) ]
    T[i=2, j=3] = [(-oo, +oo) ]
    T[i=2, j=4] = [(-oo, +oo) ]
    T[i=3, j=0] = [(-oo, +oo) ]
    T[i=3, j=1] = [(-oo, +oo) ]
    T[i=3, j=2] = [(10, 20) ]
    T[i=3, j=3] = [(-oo, +oo) ]
    T[i=3, j=4] = [(20, 30) (40, 50) ]
    T[i=4, j=0] = [(60, 70) ]
    T[i=4, j=1] = [(70, 90) ]
    T[i=4, j=2] = [(-oo, +oo) ]
    T[i=4, j=3] = [(-oo, +oo) ]
    T[i=4, j=4] = [(-oo, +oo) ]

Etape 1, k = 1, i = 2, j = 1.
Contraintes :



Reseau =

    T[i=0, j=0] = [(-oo, +oo) ]
    T[i=0, j=1] = [(10, 20) ]
    T[i=0, j=2] = [(40, 60) ]
    T[i=0, j=3] = [(-oo, +oo) ]
    T[i=0, j=4] = [(-oo, +oo) ]
    T[i=1, j=0] = [(-oo, +oo) ]
    T[i=1, j=1] = [(-oo, +oo) ]
    T[i=1, j=2] = [(30, 40) ]
    T[i=1, j=3] = [(-oo, +oo) ]
    T[i=1, j=4] = [(-oo, +oo) ]
    T[i=2, j=0] = [(-oo, +oo) ]
    T[i=2, j=1] = [(-oo, +oo) ]
    T[i=2, j=2] = [(-oo, +oo) ]
    T[i=2, j=3] = [(-oo, +oo) ]
    T[i=2, j=4] = [(-oo, +oo) ]
    T[i=3, j=0] = [(-oo, +oo) ]
    T[i=3, j=1] = [(-oo, +oo) ]
    T[i=3, j=2] = [(10, 20) ]
    T[i=3, j=3] = [(-oo, +oo) ]
    T[i=3, j=4] = [(20, 30) (40, 50) ]
    T[i=4, j=0] = [(60, 70) ]
    T[i=4, j=1] = [(70, 90) ]
    T[i=4, j=2] = [(-oo, +oo) ]
    T[i=4, j=3] = [(-oo, +oo) ]
    T[i=4, j=4] = [(-oo, +oo) ]

Etape 1, k = 1, i = 2, j = 2.
Contraintes :



Reseau =

    T[i=0, j=0] = [(-oo, +oo) ]
    T[i=0, j=1] = [(10, 20) ]
    T[i=0, j=2] = [(40, 60) ]
    T[i=0, j=3] = [(-oo, +oo) ]
    T[i=0, j=4] = [(-oo, +oo) ]
    T[i=1, j=0] = [(-oo, +oo) ]
    T[i=1, j=1] = [(-oo, +oo) ]
    T[i=1, j=2] = [(30, 40) ]
    T[i=1, j=3] = [(-oo, +oo) ]
    T[i=1, j=4] = [(-oo, +oo) ]
    T[i=2, j=0] = [(-oo, +oo) ]
    T[i=2, j=1] = [(-oo, +oo) ]
    T[i=2, j=2] = [(-oo, +oo) ]
    T[i=2, j=3] = [(-oo, +oo) ]
    T[i=2, j=4] = [(-oo, +oo) ]
    T[i=3, j=0] = [(-oo, +oo) ]
    T[i=3, j=1] = [(-oo, +oo) ]
    T[i=3, j=2] = [(10, 20) ]
    T[i=3, j=3] = [(-oo, +oo) ]
    T[i=3, j=4] = [(20, 30) (40, 50) ]
    T[i=4, j=0] = [(60, 70) ]
    T[i=4, j=1] = [(70, 90) ]
    T[i=4, j=2] = [(-oo, +oo) ]
    T[i=4, j=3] = [(-oo, +oo) ]
    T[i=4, j=4] = [(-oo, +oo) ]

Etape 1, k = 1, i = 2, j = 3.
Contraintes :



Reseau =

    T[i=0, j=0] = [(-oo, +oo) ]
    T[i=0, j=1] = [(10, 20) ]
    T[i=0, j=2] = [(40, 60) ]
    T[i=0, j=3] = [(-oo, +oo) ]
    T[i=0, j=4] = [(-oo, +oo) ]
    T[i=1, j=0] = [(-oo, +oo) ]
    T[i=1, j=1] = [(-oo, +oo) ]
    T[i=1, j=2] = [(30, 40) ]
    T[i=1, j=3] = [(-oo, +oo) ]
    T[i=1, j=4] = [(-oo, +oo) ]
    T[i=2, j=0] = [(-oo, +oo) ]
    T[i=2, j=1] = [(-oo, +oo) ]
    T[i=2, j=2] = [(-oo, +oo) ]
    T[i=2, j=3] = [(-oo, +oo) ]
    T[i=2, j=4] = [(-oo, +oo) ]
    T[i=3, j=0] = [(-oo, +oo) ]
    T[i=3, j=1] = [(-oo, +oo) ]
    T[i=3, j=2] = [(10, 20) ]
    T[i=3, j=3] = [(-oo, +oo) ]
    T[i=3, j=4] = [(20, 30) (40, 50) ]
    T[i=4, j=0] = [(60, 70) ]
    T[i=4, j=1] = [(70, 90) ]
    T[i=4, j=2] = [(-oo, +oo) ]
    T[i=4, j=3] = [(-oo, +oo) ]
    T[i=4, j=4] = [(-oo, +oo) ]

Etape 1, k = 1, i = 2, j = 4.
Contraintes :



Reseau =

    T[i=0, j=0] = [(-oo, +oo) ]
    T[i=0, j=1] = [(10, 20) ]
    T[i=0, j=2] = [(40, 60) ]
    T[i=0, j=3] = [(-oo, +oo) ]
    T[i=0, j=4] = [(-oo, +oo) ]
    T[i=1, j=0] = [(-oo, +oo) ]
    T[i=1, j=1] = [(-oo, +oo) ]
    T[i=1, j=2] = [(30, 40) ]
    T[i=1, j=3] = [(-oo, +oo) ]
    T[i=1, j=4] = [(-oo, +oo) ]
    T[i=2, j=0] = [(-oo, +oo) ]
    T[i=2, j=1] = [(-oo, +oo) ]
    T[i=2, j=2] = [(-oo, +oo) ]
    T[i=2, j=3] = [(-oo, +oo) ]
    T[i=2, j=4] = [(-oo, +oo) ]
    T[i=3, j=0] = [(-oo, +oo) ]
    T[i=3, j=1] = [(-oo, +oo) ]
    T[i=3, j=2] = [(10, 20) ]
    T[i=3, j=3] = [(-oo, +oo) ]
    T[i=3, j=4] = [(20, 30) (40, 50) ]
    T[i=4, j=0] = [(60, 70) ]
    T[i=4, j=1] = [(70, 90) ]
    T[i=4, j=2] = [(-oo, +oo) ]
    T[i=4, j=3] = [(-oo, +oo) ]
    T[i=4, j=4] = [(-oo, +oo) ]

Etape 1, k = 1, i = 3, j = 0.
Contraintes :



Reseau =

    T[i=0, j=0] = [(-oo, +oo) ]
    T[i=0, j=1] = [(10, 20) ]
    T[i=0, j=2] = [(40, 60) ]
    T[i=0, j=3] = [(-oo, +oo) ]
    T[i=0, j=4] = [(-oo, +oo) ]
    T[i=1, j=0] = [(-oo, +oo) ]
    T[i=1, j=1] = [(-oo, +oo) ]
    T[i=1, j=2] = [(30, 40) ]
    T[i=1, j=3] = [(-oo, +oo) ]
    T[i=1, j=4] = [(-oo, +oo) ]
    T[i=2, j=0] = [(-oo, +oo) ]
    T[i=2, j=1] = [(-oo, +oo) ]
    T[i=2, j=2] = [(-oo, +oo) ]
    T[i=2, j=3] = [(-oo, +oo) ]
    T[i=2, j=4] = [(-oo, +oo) ]
    T[i=3, j=0] = [(-oo, +oo) ]
    T[i=3, j=1] = [(-oo, +oo) ]
    T[i=3, j=2] = [(10, 20) ]
    T[i=3, j=3] = [(-oo, +oo) ]
    T[i=3, j=4] = [(20, 30) (40, 50) ]
    T[i=4, j=0] = [(60, 70) ]
    T[i=4, j=1] = [(70, 90) ]
    T[i=4, j=2] = [(-oo, +oo) ]
    T[i=4, j=3] = [(-oo, +oo) ]
    T[i=4, j=4] = [(-oo, +oo) ]

Etape 1, k = 1, i = 3, j = 1.
Contraintes :



Reseau =

    T[i=0, j=0] = [(-oo, +oo) ]
    T[i=0, j=1] = [(10, 20) ]
    T[i=0, j=2] = [(40, 60) ]
    T[i=0, j=3] = [(-oo, +oo) ]
    T[i=0, j=4] = [(-oo, +oo) ]
    T[i=1, j=0] = [(-oo, +oo) ]
    T[i=1, j=1] = [(-oo, +oo) ]
    T[i=1, j=2] = [(30, 40) ]
    T[i=1, j=3] = [(-oo, +oo) ]
    T[i=1, j=4] = [(-oo, +oo) ]
    T[i=2, j=0] = [(-oo, +oo) ]
    T[i=2, j=1] = [(-oo, +oo) ]
    T[i=2, j=2] = [(-oo, +oo) ]
    T[i=2, j=3] = [(-oo, +oo) ]
    T[i=2, j=4] = [(-oo, +oo) ]
    T[i=3, j=0] = [(-oo, +oo) ]
    T[i=3, j=1] = [(-oo, +oo) ]
    T[i=3, j=2] = [(10, 20) ]
    T[i=3, j=3] = [(-oo, +oo) ]
    T[i=3, j=4] = [(20, 30) (40, 50) ]
    T[i=4, j=0] = [(60, 70) ]
    T[i=4, j=1] = [(70, 90) ]
    T[i=4, j=2] = [(-oo, +oo) ]
    T[i=4, j=3] = [(-oo, +oo) ]
    T[i=4, j=4] = [(-oo, +oo) ]

Etape 1, k = 1, i = 3, j = 2.
Contraintes :



Reseau =

    T[i=0, j=0] = [(-oo, +oo) ]
    T[i=0, j=1] = [(10, 20) ]
    T[i=0, j=2] = [(40, 60) ]
    T[i=0, j=3] = [(-oo, +oo) ]
    T[i=0, j=4] = [(-oo, +oo) ]
    T[i=1, j=0] = [(-oo, +oo) ]
    T[i=1, j=1] = [(-oo, +oo) ]
    T[i=1, j=2] = [(30, 40) ]
    T[i=1, j=3] = [(-oo, +oo) ]
    T[i=1, j=4] = [(-oo, +oo) ]
    T[i=2, j=0] = [(-oo, +oo) ]
    T[i=2, j=1] = [(-oo, +oo) ]
    T[i=2, j=2] = [(-oo, +oo) ]
    T[i=2, j=3] = [(-oo, +oo) ]
    T[i=2, j=4] = [(-oo, +oo) ]
    T[i=3, j=0] = [(-oo, +oo) ]
    T[i=3, j=1] = [(-oo, +oo) ]
    T[i=3, j=2] = [(10, 20) ]
    T[i=3, j=3] = [(-oo, +oo) ]
    T[i=3, j=4] = [(20, 30) (40, 50) ]
    T[i=4, j=0] = [(60, 70) ]
    T[i=4, j=1] = [(70, 90) ]
    T[i=4, j=2] = [(-oo, +oo) ]
    T[i=4, j=3] = [(-oo, +oo) ]
    T[i=4, j=4] = [(-oo, +oo) ]

Etape 1, k = 1, i = 3, j = 3.
Contraintes :



Reseau =

    T[i=0, j=0] = [(-oo, +oo) ]
    T[i=0, j=1] = [(10, 20) ]
    T[i=0, j=2] = [(40, 60) ]
    T[i=0, j=3] = [(-oo, +oo) ]
    T[i=0, j=4] = [(-oo, +oo) ]
    T[i=1, j=0] = [(-oo, +oo) ]
    T[i=1, j=1] = [(-oo, +oo) ]
    T[i=1, j=2] = [(30, 40) ]
    T[i=1, j=3] = [(-oo, +oo) ]
    T[i=1, j=4] = [(-oo, +oo) ]
    T[i=2, j=0] = [(-oo, +oo) ]
    T[i=2, j=1] = [(-oo, +oo) ]
    T[i=2, j=2] = [(-oo, +oo) ]
    T[i=2, j=3] = [(-oo, +oo) ]
    T[i=2, j=4] = [(-oo, +oo) ]
    T[i=3, j=0] = [(-oo, +oo) ]
    T[i=3, j=1] = [(-oo, +oo) ]
    T[i=3, j=2] = [(10, 20) ]
    T[i=3, j=3] = [(-oo, +oo) ]
    T[i=3, j=4] = [(20, 30) (40, 50) ]
    T[i=4, j=0] = [(60, 70) ]
    T[i=4, j=1] = [(70, 90) ]
    T[i=4, j=2] = [(-oo, +oo) ]
    T[i=4, j=3] = [(-oo, +oo) ]
    T[i=4, j=4] = [(-oo, +oo) ]

Etape 1, k = 1, i = 3, j = 4.
Contraintes :



Reseau =

    T[i=0, j=0] = [(-oo, +oo) ]
    T[i=0, j=1] = [(10, 20) ]
    T[i=0, j=2] = [(40, 60) ]
    T[i=0, j=3] = [(-oo, +oo) ]
    T[i=0, j=4] = [(-oo, +oo) ]
    T[i=1, j=0] = [(-oo, +oo) ]
    T[i=1, j=1] = [(-oo, +oo) ]
    T[i=1, j=2] = [(30, 40) ]
    T[i=1, j=3] = [(-oo, +oo) ]
    T[i=1, j=4] = [(-oo, +oo) ]
    T[i=2, j=0] = [(-oo, +oo) ]
    T[i=2, j=1] = [(-oo, +oo) ]
    T[i=2, j=2] = [(-oo, +oo) ]
    T[i=2, j=3] = [(-oo, +oo) ]
    T[i=2, j=4] = [(-oo, +oo) ]
    T[i=3, j=0] = [(-oo, +oo) ]
    T[i=3, j=1] = [(-oo, +oo) ]
    T[i=3, j=2] = [(10, 20) ]
    T[i=3, j=3] = [(-oo, +oo) ]
    T[i=3, j=4] = [(20, 30) (40, 50) ]
    T[i=4, j=0] = [(60, 70) ]
    T[i=4, j=1] = [(70, 90) ]
    T[i=4, j=2] = [(-oo, +oo) ]
    T[i=4, j=3] = [(-oo, +oo) ]
    T[i=4, j=4] = [(-oo, +oo) ]

Etape 1, k = 1, i = 4, j = 0.
Contraintes :



Reseau =

    T[i=0, j=0] = [(-oo, +oo) ]
    T[i=0, j=1] = [(10, 20) ]
    T[i=0, j=2] = [(40, 60) ]
    T[i=0, j=3] = [(-oo, +oo) ]
    T[i=0, j=4] = [(-oo, +oo) ]
    T[i=1, j=0] = [(-oo, +oo) ]
    T[i=1, j=1] = [(-oo, +oo) ]
    T[i=1, j=2] = [(30, 40) ]
    T[i=1, j=3] = [(-oo, +oo) ]
    T[i=1, j=4] = [(-oo, +oo) ]
    T[i=2, j=0] = [(-oo, +oo) ]
    T[i=2, j=1] = [(-oo, +oo) ]
    T[i=2, j=2] = [(-oo, +oo) ]
    T[i=2, j=3] = [(-oo, +oo) ]
    T[i=2, j=4] = [(-oo, +oo) ]
    T[i=3, j=0] = [(-oo, +oo) ]
    T[i=3, j=1] = [(-oo, +oo) ]
    T[i=3, j=2] = [(10, 20) ]
    T[i=3, j=3] = [(-oo, +oo) ]
    T[i=3, j=4] = [(20, 30) (40, 50) ]
    T[i=4, j=0] = [(60, 70) ]
    T[i=4, j=1] = [(70, 90) ]
    T[i=4, j=2] = [(-oo, +oo) ]
    T[i=4, j=3] = [(-oo, +oo) ]
    T[i=4, j=4] = [(-oo, +oo) ]

Etape 1, k = 1, i = 4, j = 1.
Contraintes :



Reseau =

    T[i=0, j=0] = [(-oo, +oo) ]
    T[i=0, j=1] = [(10, 20) ]
    T[i=0, j=2] = [(40, 60) ]
    T[i=0, j=3] = [(-oo, +oo) ]
    T[i=0, j=4] = [(-oo, +oo) ]
    T[i=1, j=0] = [(-oo, +oo) ]
    T[i=1, j=1] = [(-oo, +oo) ]
    T[i=1, j=2] = [(30, 40) ]
    T[i=1, j=3] = [(-oo, +oo) ]
    T[i=1, j=4] = [(-oo, +oo) ]
    T[i=2, j=0] = [(-oo, +oo) ]
    T[i=2, j=1] = [(-oo, +oo) ]
    T[i=2, j=2] = [(-oo, +oo) ]
    T[i=2, j=3] = [(-oo, +oo) ]
    T[i=2, j=4] = [(-oo, +oo) ]
    T[i=3, j=0] = [(-oo, +oo) ]
    T[i=3, j=1] = [(-oo, +oo) ]
    T[i=3, j=2] = [(10, 20) ]
    T[i=3, j=3] = [(-oo, +oo) ]
    T[i=3, j=4] = [(20, 30) (40, 50) ]
    T[i=4, j=0] = [(60, 70) ]
    T[i=4, j=1] = [(70, 90) ]
    T[i=4, j=2] = [(-oo, +oo) ]
    T[i=4, j=3] = [(-oo, +oo) ]
    T[i=4, j=4] = [(-oo, +oo) ]

Etape 1, k = 1, i = 4, j = 2.
Contraintes :



Reseau =

    T[i=0, j=0] = [(-oo, +oo) ]
    T[i=0, j=1] = [(10, 20) ]
    T[i=0, j=2] = [(40, 60) ]
    T[i=0, j=3] = [(-oo, +oo) ]
    T[i=0, j=4] = [(-oo, +oo) ]
    T[i=1, j=0] = [(-oo, +oo) ]
    T[i=1, j=1] = [(-oo, +oo) ]
    T[i=1, j=2] = [(30, 40) ]
    T[i=1, j=3] = [(-oo, +oo) ]
    T[i=1, j=4] = [(-oo, +oo) ]
    T[i=2, j=0] = [(-oo, +oo) ]
    T[i=2, j=1] = [(-oo, +oo) ]
    T[i=2, j=2] = [(-oo, +oo) ]
    T[i=2, j=3] = [(-oo, +oo) ]
    T[i=2, j=4] = [(-oo, +oo) ]
    T[i=3, j=0] = [(-oo, +oo) ]
    T[i=3, j=1] = [(-oo, +oo) ]
    T[i=3, j=2] = [(10, 20) ]
    T[i=3, j=3] = [(-oo, +oo) ]
    T[i=3, j=4] = [(20, 30) (40, 50) ]
    T[i=4, j=0] = [(60, 70) ]
    T[i=4, j=1] = [(70, 90) ]
    T[i=4, j=2] = [(-oo, +oo) ]
    T[i=4, j=3] = [(-oo, +oo) ]
    T[i=4, j=4] = [(-oo, +oo) ]

Etape 1, k = 1, i = 4, j = 3.
Contraintes :



Reseau =

    T[i=0, j=0] = [(-oo, +oo) ]
    T[i=0, j=1] = [(10, 20) ]
    T[i=0, j=2] = [(40, 60) ]
    T[i=0, j=3] = [(-oo, +oo) ]
    T[i=0, j=4] = [(-oo, +oo) ]
    T[i=1, j=0] = [(-oo, +oo) ]
    T[i=1, j=1] = [(-oo, +oo) ]
    T[i=1, j=2] = [(30, 40) ]
    T[i=1, j=3] = [(-oo, +oo) ]
    T[i=1, j=4] = [(-oo, +oo) ]
    T[i=2, j=0] = [(-oo, +oo) ]
    T[i=2, j=1] = [(-oo, +oo) ]
    T[i=2, j=2] = [(-oo, +oo) ]
    T[i=2, j=3] = [(-oo, +oo) ]
    T[i=2, j=4] = [(-oo, +oo) ]
    T[i=3, j=0] = [(-oo, +oo) ]
    T[i=3, j=1] = [(-oo, +oo) ]
    T[i=3, j=2] = [(10, 20) ]
    T[i=3, j=3] = [(-oo, +oo) ]
    T[i=3, j=4] = [(20, 30) (40, 50) ]
    T[i=4, j=0] = [(60, 70) ]
    T[i=4, j=1] = [(70, 90) ]
    T[i=4, j=2] = [(100, 130) ]
    T[i=4, j=3] = [(-oo, +oo) ]
    T[i=4, j=4] = [(-oo, +oo) ]

Etape 1, k = 1, i = 4, j = 4.
Contraintes :



Reseau =

    T[i=0, j=0] = [(-oo, +oo) ]
    T[i=0, j=1] = [(10, 20) ]
    T[i=0, j=2] = [(40, 60) ]
    T[i=0, j=3] = [(-oo, +oo) ]
    T[i=0, j=4] = [(-oo, +oo) ]
    T[i=1, j=0] = [(-oo, +oo) ]
    T[i=1, j=1] = [(-oo, +oo) ]
    T[i=1, j=2] = [(30, 40) ]
    T[i=1, j=3] = [(-oo, +oo) ]
    T[i=1, j=4] = [(-oo, +oo) ]
    T[i=2, j=0] = [(-oo, +oo) ]
    T[i=2, j=1] = [(-oo, +oo) ]
    T[i=2, j=2] = [(-oo, +oo) ]
    T[i=2, j=3] = [(-oo, +oo) ]
    T[i=2, j=4] = [(-oo, +oo) ]
    T[i=3, j=0] = [(-oo, +oo) ]
    T[i=3, j=1] = [(-oo, +oo) ]
    T[i=3, j=2] = [(10, 20) ]
    T[i=3, j=3] = [(-oo, +oo) ]
    T[i=3, j=4] = [(20, 30) (40, 50) ]
    T[i=4, j=0] = [(60, 70) ]
    T[i=4, j=1] = [(70, 90) ]
    T[i=4, j=2] = [(100, 130) ]
    T[i=4, j=3] = [(-oo, +oo) ]
    T[i=4, j=4] = [(-oo, +oo) ]

Etape 1, k = 2, i = 0, j = 0.
Contraintes :



Reseau =

    T[i=0, j=0] = [(-oo, +oo) ]
    T[i=0, j=1] = [(10, 20) ]
    T[i=0, j=2] = [(40, 60) ]
    T[i=0, j=3] = [(-oo, +oo) ]
    T[i=0, j=4] = [(-oo, +oo) ]
    T[i=1, j=0] = [(-oo, +oo) ]
    T[i=1, j=1] = [(-oo, +oo) ]
    T[i=1, j=2] = [(30, 40) ]
    T[i=1, j=3] = [(-oo, +oo) ]
    T[i=1, j=4] = [(-oo, +oo) ]
    T[i=2, j=0] = [(-oo, +oo) ]
    T[i=2, j=1] = [(-oo, +oo) ]
    T[i=2, j=2] = [(-oo, +oo) ]
    T[i=2, j=3] = [(-oo, +oo) ]
    T[i=2, j=4] = [(-oo, +oo) ]
    T[i=3, j=0] = [(-oo, +oo) ]
    T[i=3, j=1] = [(-oo, +oo) ]
    T[i=3, j=2] = [(10, 20) ]
    T[i=3, j=3] = [(-oo, +oo) ]
    T[i=3, j=4] = [(20, 30) (40, 50) ]
    T[i=4, j=0] = [(60, 70) ]
    T[i=4, j=1] = [(70, 90) ]
    T[i=4, j=2] = [(100, 130) ]
    T[i=4, j=3] = [(-oo, +oo) ]
    T[i=4, j=4] = [(-oo, +oo) ]

Etape 1, k = 2, i = 0, j = 1.
Contraintes :



Reseau =

    T[i=0, j=0] = [(-oo, +oo) ]
    T[i=0, j=1] = [(10, 20) ]
    T[i=0, j=2] = [(40, 60) ]
    T[i=0, j=3] = [(-oo, +oo) ]
    T[i=0, j=4] = [(-oo, +oo) ]
    T[i=1, j=0] = [(-oo, +oo) ]
    T[i=1, j=1] = [(-oo, +oo) ]
    T[i=1, j=2] = [(30, 40) ]
    T[i=1, j=3] = [(-oo, +oo) ]
    T[i=1, j=4] = [(-oo, +oo) ]
    T[i=2, j=0] = [(-oo, +oo) ]
    T[i=2, j=1] = [(-oo, +oo) ]
    T[i=2, j=2] = [(-oo, +oo) ]
    T[i=2, j=3] = [(-oo, +oo) ]
    T[i=2, j=4] = [(-oo, +oo) ]
    T[i=3, j=0] = [(-oo, +oo) ]
    T[i=3, j=1] = [(-oo, +oo) ]
    T[i=3, j=2] = [(10, 20) ]
    T[i=3, j=3] = [(-oo, +oo) ]
    T[i=3, j=4] = [(20, 30) (40, 50) ]
    T[i=4, j=0] = [(60, 70) ]
    T[i=4, j=1] = [(70, 90) ]
    T[i=4, j=2] = [(100, 130) ]
    T[i=4, j=3] = [(-oo, +oo) ]
    T[i=4, j=4] = [(-oo, +oo) ]

Etape 1, k = 2, i = 0, j = 2.
Contraintes :



Reseau =

    T[i=0, j=0] = [(-oo, +oo) ]
    T[i=0, j=1] = [(10, 20) ]
    T[i=0, j=2] = [(40, 60) ]
    T[i=0, j=3] = [(-oo, +oo) ]
    T[i=0, j=4] = [(-oo, +oo) ]
    T[i=1, j=0] = [(-oo, +oo) ]
    T[i=1, j=1] = [(-oo, +oo) ]
    T[i=1, j=2] = [(30, 40) ]
    T[i=1, j=3] = [(-oo, +oo) ]
    T[i=1, j=4] = [(-oo, +oo) ]
    T[i=2, j=0] = [(-oo, +oo) ]
    T[i=2, j=1] = [(-oo, +oo) ]
    T[i=2, j=2] = [(-oo, +oo) ]
    T[i=2, j=3] = [(-oo, +oo) ]
    T[i=2, j=4] = [(-oo, +oo) ]
    T[i=3, j=0] = [(-oo, +oo) ]
    T[i=3, j=1] = [(-oo, +oo) ]
    T[i=3, j=2] = [(10, 20) ]
    T[i=3, j=3] = [(-oo, +oo) ]
    T[i=3, j=4] = [(20, 30) (40, 50) ]
    T[i=4, j=0] = [(60, 70) ]
    T[i=4, j=1] = [(70, 90) ]
    T[i=4, j=2] = [(100, 130) ]
    T[i=4, j=3] = [(-oo, +oo) ]
    T[i=4, j=4] = [(-oo, +oo) ]

Etape 1, k = 2, i = 0, j = 3.
Contraintes :



Reseau =

    T[i=0, j=0] = [(-oo, +oo) ]
    T[i=0, j=1] = [(10, 20) ]
    T[i=0, j=2] = [(40, 60) ]
    T[i=0, j=3] = [(-oo, +oo) ]
    T[i=0, j=4] = [(-oo, +oo) ]
    T[i=1, j=0] = [(-oo, +oo) ]
    T[i=1, j=1] = [(-oo, +oo) ]
    T[i=1, j=2] = [(30, 40) ]
    T[i=1, j=3] = [(-oo, +oo) ]
    T[i=1, j=4] = [(-oo, +oo) ]
    T[i=2, j=0] = [(-oo, +oo) ]
    T[i=2, j=1] = [(-oo, +oo) ]
    T[i=2, j=2] = [(-oo, +oo) ]
    T[i=2, j=3] = [(-oo, +oo) ]
    T[i=2, j=4] = [(-oo, +oo) ]
    T[i=3, j=0] = [(-oo, +oo) ]
    T[i=3, j=1] = [(-oo, +oo) ]
    T[i=3, j=2] = [(10, 20) ]
    T[i=3, j=3] = [(-oo, +oo) ]
    T[i=3, j=4] = [(20, 30) (40, 50) ]
    T[i=4, j=0] = [(60, 70) ]
    T[i=4, j=1] = [(70, 90) ]
    T[i=4, j=2] = [(100, 130) ]
    T[i=4, j=3] = [(-oo, +oo) ]
    T[i=4, j=4] = [(-oo, +oo) ]

Etape 1, k = 2, i = 0, j = 4.
Contraintes :



Reseau =

    T[i=0, j=0] = [(-oo, +oo) ]
    T[i=0, j=1] = [(10, 20) ]
    T[i=0, j=2] = [(40, 60) ]
    T[i=0, j=3] = [(-oo, +oo) ]
    T[i=0, j=4] = [(-oo, +oo) ]
    T[i=1, j=0] = [(-oo, +oo) ]
    T[i=1, j=1] = [(-oo, +oo) ]
    T[i=1, j=2] = [(30, 40) ]
    T[i=1, j=3] = [(-oo, +oo) ]
    T[i=1, j=4] = [(-oo, +oo) ]
    T[i=2, j=0] = [(-oo, +oo) ]
    T[i=2, j=1] = [(-oo, +oo) ]
    T[i=2, j=2] = [(-oo, +oo) ]
    T[i=2, j=3] = [(-oo, +oo) ]
    T[i=2, j=4] = [(-oo, +oo) ]
    T[i=3, j=0] = [(-oo, +oo) ]
    T[i=3, j=1] = [(-oo, +oo) ]
    T[i=3, j=2] = [(10, 20) ]
    T[i=3, j=3] = [(-oo, +oo) ]
    T[i=3, j=4] = [(20, 30) (40, 50) ]
    T[i=4, j=0] = [(60, 70) ]
    T[i=4, j=1] = [(70, 90) ]
    T[i=4, j=2] = [(100, 130) ]
    T[i=4, j=3] = [(-oo, +oo) ]
    T[i=4, j=4] = [(-oo, +oo) ]

Etape 1, k = 2, i = 1, j = 0.
Contraintes :



Reseau =

    T[i=0, j=0] = [(-oo, +oo) ]
    T[i=0, j=1] = [(10, 20) ]
    T[i=0, j=2] = [(40, 60) ]
    T[i=0, j=3] = [(-oo, +oo) ]
    T[i=0, j=4] = [(-oo, +oo) ]
    T[i=1, j=0] = [(-oo, +oo) ]
    T[i=1, j=1] = [(-oo, +oo) ]
    T[i=1, j=2] = [(30, 40) ]
    T[i=1, j=3] = [(-oo, +oo) ]
    T[i=1, j=4] = [(-oo, +oo) ]
    T[i=2, j=0] = [(-oo, +oo) ]
    T[i=2, j=1] = [(-oo, +oo) ]
    T[i=2, j=2] = [(-oo, +oo) ]
    T[i=2, j=3] = [(-oo, +oo) ]
    T[i=2, j=4] = [(-oo, +oo) ]
    T[i=3, j=0] = [(-oo, +oo) ]
    T[i=3, j=1] = [(-oo, +oo) ]
    T[i=3, j=2] = [(10, 20) ]
    T[i=3, j=3] = [(-oo, +oo) ]
    T[i=3, j=4] = [(20, 30) (40, 50) ]
    T[i=4, j=0] = [(60, 70) ]
    T[i=4, j=1] = [(70, 90) ]
    T[i=4, j=2] = [(100, 130) ]
    T[i=4, j=3] = [(-oo, +oo) ]
    T[i=4, j=4] = [(-oo, +oo) ]

Etape 1, k = 2, i = 1, j = 1.
Contraintes :



Reseau =

    T[i=0, j=0] = [(-oo, +oo) ]
    T[i=0, j=1] = [(10, 20) ]
    T[i=0, j=2] = [(40, 60) ]
    T[i=0, j=3] = [(-oo, +oo) ]
    T[i=0, j=4] = [(-oo, +oo) ]
    T[i=1, j=0] = [(-oo, +oo) ]
    T[i=1, j=1] = [(-oo, +oo) ]
    T[i=1, j=2] = [(30, 40) ]
    T[i=1, j=3] = [(-oo, +oo) ]
    T[i=1, j=4] = [(-oo, +oo) ]
    T[i=2, j=0] = [(-oo, +oo) ]
    T[i=2, j=1] = [(-oo, +oo) ]
    T[i=2, j=2] = [(-oo, +oo) ]
    T[i=2, j=3] = [(-oo, +oo) ]
    T[i=2, j=4] = [(-oo, +oo) ]
    T[i=3, j=0] = [(-oo, +oo) ]
    T[i=3, j=1] = [(-oo, +oo) ]
    T[i=3, j=2] = [(10, 20) ]
    T[i=3, j=3] = [(-oo, +oo) ]
    T[i=3, j=4] = [(20, 30) (40, 50) ]
    T[i=4, j=0] = [(60, 70) ]
    T[i=4, j=1] = [(70, 90) ]
    T[i=4, j=2] = [(100, 130) ]
    T[i=4, j=3] = [(-oo, +oo) ]
    T[i=4, j=4] = [(-oo, +oo) ]

Etape 1, k = 2, i = 1, j = 2.
Contraintes :



Reseau =

    T[i=0, j=0] = [(-oo, +oo) ]
    T[i=0, j=1] = [(10, 20) ]
    T[i=0, j=2] = [(40, 60) ]
    T[i=0, j=3] = [(-oo, +oo) ]
    T[i=0, j=4] = [(-oo, +oo) ]
    T[i=1, j=0] = [(-oo, +oo) ]
    T[i=1, j=1] = [(-oo, +oo) ]
    T[i=1, j=2] = [(30, 40) ]
    T[i=1, j=3] = [(-oo, +oo) ]
    T[i=1, j=4] = [(-oo, +oo) ]
    T[i=2, j=0] = [(-oo, +oo) ]
    T[i=2, j=1] = [(-oo, +oo) ]
    T[i=2, j=2] = [(-oo, +oo) ]
    T[i=2, j=3] = [(-oo, +oo) ]
    T[i=2, j=4] = [(-oo, +oo) ]
    T[i=3, j=0] = [(-oo, +oo) ]
    T[i=3, j=1] = [(-oo, +oo) ]
    T[i=3, j=2] = [(10, 20) ]
    T[i=3, j=3] = [(-oo, +oo) ]
    T[i=3, j=4] = [(20, 30) (40, 50) ]
    T[i=4, j=0] = [(60, 70) ]
    T[i=4, j=1] = [(70, 90) ]
    T[i=4, j=2] = [(100, 130) ]
    T[i=4, j=3] = [(-oo, +oo) ]
    T[i=4, j=4] = [(-oo, +oo) ]

Etape 1, k = 2, i = 1, j = 3.
Contraintes :



Reseau =

    T[i=0, j=0] = [(-oo, +oo) ]
    T[i=0, j=1] = [(10, 20) ]
    T[i=0, j=2] = [(40, 60) ]
    T[i=0, j=3] = [(-oo, +oo) ]
    T[i=0, j=4] = [(-oo, +oo) ]
    T[i=1, j=0] = [(-oo, +oo) ]
    T[i=1, j=1] = [(-oo, +oo) ]
    T[i=1, j=2] = [(30, 40) ]
    T[i=1, j=3] = [(-oo, +oo) ]
    T[i=1, j=4] = [(-oo, +oo) ]
    T[i=2, j=0] = [(-oo, +oo) ]
    T[i=2, j=1] = [(-oo, +oo) ]
    T[i=2, j=2] = [(-oo, +oo) ]
    T[i=2, j=3] = [(-oo, +oo) ]
    T[i=2, j=4] = [(-oo, +oo) ]
    T[i=3, j=0] = [(-oo, +oo) ]
    T[i=3, j=1] = [(-oo, +oo) ]
    T[i=3, j=2] = [(10, 20) ]
    T[i=3, j=3] = [(-oo, +oo) ]
    T[i=3, j=4] = [(20, 30) (40, 50) ]
    T[i=4, j=0] = [(60, 70) ]
    T[i=4, j=1] = [(70, 90) ]
    T[i=4, j=2] = [(100, 130) ]
    T[i=4, j=3] = [(-oo, +oo) ]
    T[i=4, j=4] = [(-oo, +oo) ]

Etape 1, k = 2, i = 1, j = 4.
Contraintes :



Reseau =

    T[i=0, j=0] = [(-oo, +oo) ]
    T[i=0, j=1] = [(10, 20) ]
    T[i=0, j=2] = [(40, 60) ]
    T[i=0, j=3] = [(-oo, +oo) ]
    T[i=0, j=4] = [(-oo, +oo) ]
    T[i=1, j=0] = [(-oo, +oo) ]
    T[i=1, j=1] = [(-oo, +oo) ]
    T[i=1, j=2] = [(30, 40) ]
    T[i=1, j=3] = [(-oo, +oo) ]
    T[i=1, j=4] = [(-oo, +oo) ]
    T[i=2, j=0] = [(-oo, +oo) ]
    T[i=2, j=1] = [(-oo, +oo) ]
    T[i=2, j=2] = [(-oo, +oo) ]
    T[i=2, j=3] = [(-oo, +oo) ]
    T[i=2, j=4] = [(-oo, +oo) ]
    T[i=3, j=0] = [(-oo, +oo) ]
    T[i=3, j=1] = [(-oo, +oo) ]
    T[i=3, j=2] = [(10, 20) ]
    T[i=3, j=3] = [(-oo, +oo) ]
    T[i=3, j=4] = [(20, 30) (40, 50) ]
    T[i=4, j=0] = [(60, 70) ]
    T[i=4, j=1] = [(70, 90) ]
    T[i=4, j=2] = [(100, 130) ]
    T[i=4, j=3] = [(-oo, +oo) ]
    T[i=4, j=4] = [(-oo, +oo) ]

Etape 1, k = 2, i = 2, j = 0.
Contraintes :



Reseau =

    T[i=0, j=0] = [(-oo, +oo) ]
    T[i=0, j=1] = [(10, 20) ]
    T[i=0, j=2] = [(40, 60) ]
    T[i=0, j=3] = [(-oo, +oo) ]
    T[i=0, j=4] = [(-oo, +oo) ]
    T[i=1, j=0] = [(-oo, +oo) ]
    T[i=1, j=1] = [(-oo, +oo) ]
    T[i=1, j=2] = [(30, 40) ]
    T[i=1, j=3] = [(-oo, +oo) ]
    T[i=1, j=4] = [(-oo, +oo) ]
    T[i=2, j=0] = [(-oo, +oo) ]
    T[i=2, j=1] = [(-oo, +oo) ]
    T[i=2, j=2] = [(-oo, +oo) ]
    T[i=2, j=3] = [(-oo, +oo) ]
    T[i=2, j=4] = [(-oo, +oo) ]
    T[i=3, j=0] = [(-oo, +oo) ]
    T[i=3, j=1] = [(-oo, +oo) ]
    T[i=3, j=2] = [(10, 20) ]
    T[i=3, j=3] = [(-oo, +oo) ]
    T[i=3, j=4] = [(20, 30) (40, 50) ]
    T[i=4, j=0] = [(60, 70) ]
    T[i=4, j=1] = [(70, 90) ]
    T[i=4, j=2] = [(100, 130) ]
    T[i=4, j=3] = [(-oo, +oo) ]
    T[i=4, j=4] = [(-oo, +oo) ]

Etape 1, k = 2, i = 2, j = 1.
Contraintes :



Reseau =

    T[i=0, j=0] = [(-oo, +oo) ]
    T[i=0, j=1] = [(10, 20) ]
    T[i=0, j=2] = [(40, 60) ]
    T[i=0, j=3] = [(-oo, +oo) ]
    T[i=0, j=4] = [(-oo, +oo) ]
    T[i=1, j=0] = [(-oo, +oo) ]
    T[i=1, j=1] = [(-oo, +oo) ]
    T[i=1, j=2] = [(30, 40) ]
    T[i=1, j=3] = [(-oo, +oo) ]
    T[i=1, j=4] = [(-oo, +oo) ]
    T[i=2, j=0] = [(-oo, +oo) ]
    T[i=2, j=1] = [(-oo, +oo) ]
    T[i=2, j=2] = [(-oo, +oo) ]
    T[i=2, j=3] = [(-oo, +oo) ]
    T[i=2, j=4] = [(-oo, +oo) ]
    T[i=3, j=0] = [(-oo, +oo) ]
    T[i=3, j=1] = [(-oo, +oo) ]
    T[i=3, j=2] = [(10, 20) ]
    T[i=3, j=3] = [(-oo, +oo) ]
    T[i=3, j=4] = [(20, 30) (40, 50) ]
    T[i=4, j=0] = [(60, 70) ]
    T[i=4, j=1] = [(70, 90) ]
    T[i=4, j=2] = [(100, 130) ]
    T[i=4, j=3] = [(-oo, +oo) ]
    T[i=4, j=4] = [(-oo, +oo) ]

Etape 1, k = 2, i = 2, j = 2.
Contraintes :



Reseau =

    T[i=0, j=0] = [(-oo, +oo) ]
    T[i=0, j=1] = [(10, 20) ]
    T[i=0, j=2] = [(40, 60) ]
    T[i=0, j=3] = [(-oo, +oo) ]
    T[i=0, j=4] = [(-oo, +oo) ]
    T[i=1, j=0] = [(-oo, +oo) ]
    T[i=1, j=1] = [(-oo, +oo) ]
    T[i=1, j=2] = [(30, 40) ]
    T[i=1, j=3] = [(-oo, +oo) ]
    T[i=1, j=4] = [(-oo, +oo) ]
    T[i=2, j=0] = [(-oo, +oo) ]
    T[i=2, j=1] = [(-oo, +oo) ]
    T[i=2, j=2] = [(-oo, +oo) ]
    T[i=2, j=3] = [(-oo, +oo) ]
    T[i=2, j=4] = [(-oo, +oo) ]
    T[i=3, j=0] = [(-oo, +oo) ]
    T[i=3, j=1] = [(-oo, +oo) ]
    T[i=3, j=2] = [(10, 20) ]
    T[i=3, j=3] = [(-oo, +oo) ]
    T[i=3, j=4] = [(20, 30) (40, 50) ]
    T[i=4, j=0] = [(60, 70) ]
    T[i=4, j=1] = [(70, 90) ]
    T[i=4, j=2] = [(100, 130) ]
    T[i=4, j=3] = [(-oo, +oo) ]
    T[i=4, j=4] = [(-oo, +oo) ]

Etape 1, k = 2, i = 2, j = 3.
Contraintes :



Reseau =

    T[i=0, j=0] = [(-oo, +oo) ]
    T[i=0, j=1] = [(10, 20) ]
    T[i=0, j=2] = [(40, 60) ]
    T[i=0, j=3] = [(-oo, +oo) ]
    T[i=0, j=4] = [(-oo, +oo) ]
    T[i=1, j=0] = [(-oo, +oo) ]
    T[i=1, j=1] = [(-oo, +oo) ]
    T[i=1, j=2] = [(30, 40) ]
    T[i=1, j=3] = [(-oo, +oo) ]
    T[i=1, j=4] = [(-oo, +oo) ]
    T[i=2, j=0] = [(-oo, +oo) ]
    T[i=2, j=1] = [(-oo, +oo) ]
    T[i=2, j=2] = [(-oo, +oo) ]
    T[i=2, j=3] = [(-oo, +oo) ]
    T[i=2, j=4] = [(-oo, +oo) ]
    T[i=3, j=0] = [(-oo, +oo) ]
    T[i=3, j=1] = [(-oo, +oo) ]
    T[i=3, j=2] = [(10, 20) ]
    T[i=3, j=3] = [(-oo, +oo) ]
    T[i=3, j=4] = [(20, 30) (40, 50) ]
    T[i=4, j=0] = [(60, 70) ]
    T[i=4, j=1] = [(70, 90) ]
    T[i=4, j=2] = [(100, 130) ]
    T[i=4, j=3] = [(-oo, +oo) ]
    T[i=4, j=4] = [(-oo, +oo) ]

Etape 1, k = 2, i = 2, j = 4.
Contraintes :



Reseau =

    T[i=0, j=0] = [(-oo, +oo) ]
    T[i=0, j=1] = [(10, 20) ]
    T[i=0, j=2] = [(40, 60) ]
    T[i=0, j=3] = [(-oo, +oo) ]
    T[i=0, j=4] = [(-oo, +oo) ]
    T[i=1, j=0] = [(-oo, +oo) ]
    T[i=1, j=1] = [(-oo, +oo) ]
    T[i=1, j=2] = [(30, 40) ]
    T[i=1, j=3] = [(-oo, +oo) ]
    T[i=1, j=4] = [(-oo, +oo) ]
    T[i=2, j=0] = [(-oo, +oo) ]
    T[i=2, j=1] = [(-oo, +oo) ]
    T[i=2, j=2] = [(-oo, +oo) ]
    T[i=2, j=3] = [(-oo, +oo) ]
    T[i=2, j=4] = [(-oo, +oo) ]
    T[i=3, j=0] = [(-oo, +oo) ]
    T[i=3, j=1] = [(-oo, +oo) ]
    T[i=3, j=2] = [(10, 20) ]
    T[i=3, j=3] = [(-oo, +oo) ]
    T[i=3, j=4] = [(20, 30) (40, 50) ]
    T[i=4, j=0] = [(60, 70) ]
    T[i=4, j=1] = [(70, 90) ]
    T[i=4, j=2] = [(100, 130) ]
    T[i=4, j=3] = [(-oo, +oo) ]
    T[i=4, j=4] = [(-oo, +oo) ]

Etape 1, k = 2, i = 3, j = 0.
Contraintes :



Reseau =

    T[i=0, j=0] = [(-oo, +oo) ]
    T[i=0, j=1] = [(10, 20) ]
    T[i=0, j=2] = [(40, 60) ]
    T[i=0, j=3] = [(-oo, +oo) ]
    T[i=0, j=4] = [(-oo, +oo) ]
    T[i=1, j=0] = [(-oo, +oo) ]
    T[i=1, j=1] = [(-oo, +oo) ]
    T[i=1, j=2] = [(30, 40) ]
    T[i=1, j=3] = [(-oo, +oo) ]
    T[i=1, j=4] = [(-oo, +oo) ]
    T[i=2, j=0] = [(-oo, +oo) ]
    T[i=2, j=1] = [(-oo, +oo) ]
    T[i=2, j=2] = [(-oo, +oo) ]
    T[i=2, j=3] = [(-oo, +oo) ]
    T[i=2, j=4] = [(-oo, +oo) ]
    T[i=3, j=0] = [(-oo, +oo) ]
    T[i=3, j=1] = [(-oo, +oo) ]
    T[i=3, j=2] = [(10, 20) ]
    T[i=3, j=3] = [(-oo, +oo) ]
    T[i=3, j=4] = [(20, 30) (40, 50) ]
    T[i=4, j=0] = [(60, 70) ]
    T[i=4, j=1] = [(70, 90) ]
    T[i=4, j=2] = [(100, 130) ]
    T[i=4, j=3] = [(-oo, +oo) ]
    T[i=4, j=4] = [(-oo, +oo) ]

Etape 1, k = 2, i = 3, j = 1.
Contraintes :



Reseau =

    T[i=0, j=0] = [(-oo, +oo) ]
    T[i=0, j=1] = [(10, 20) ]
    T[i=0, j=2] = [(40, 60) ]
    T[i=0, j=3] = [(-oo, +oo) ]
    T[i=0, j=4] = [(-oo, +oo) ]
    T[i=1, j=0] = [(-oo, +oo) ]
    T[i=1, j=1] = [(-oo, +oo) ]
    T[i=1, j=2] = [(30, 40) ]
    T[i=1, j=3] = [(-oo, +oo) ]
    T[i=1, j=4] = [(-oo, +oo) ]
    T[i=2, j=0] = [(-oo, +oo) ]
    T[i=2, j=1] = [(-oo, +oo) ]
    T[i=2, j=2] = [(-oo, +oo) ]
    T[i=2, j=3] = [(-oo, +oo) ]
    T[i=2, j=4] = [(-oo, +oo) ]
    T[i=3, j=0] = [(-oo, +oo) ]
    T[i=3, j=1] = [(-oo, +oo) ]
    T[i=3, j=2] = [(10, 20) ]
    T[i=3, j=3] = [(-oo, +oo) ]
    T[i=3, j=4] = [(20, 30) (40, 50) ]
    T[i=4, j=0] = [(60, 70) ]
    T[i=4, j=1] = [(70, 90) ]
    T[i=4, j=2] = [(100, 130) ]
    T[i=4, j=3] = [(-oo, +oo) ]
    T[i=4, j=4] = [(-oo, +oo) ]

Etape 1, k = 2, i = 3, j = 2.
Contraintes :



Reseau =

    T[i=0, j=0] = [(-oo, +oo) ]
    T[i=0, j=1] = [(10, 20) ]
    T[i=0, j=2] = [(40, 60) ]
    T[i=0, j=3] = [(-oo, +oo) ]
    T[i=0, j=4] = [(-oo, +oo) ]
    T[i=1, j=0] = [(-oo, +oo) ]
    T[i=1, j=1] = [(-oo, +oo) ]
    T[i=1, j=2] = [(30, 40) ]
    T[i=1, j=3] = [(-oo, +oo) ]
    T[i=1, j=4] = [(-oo, +oo) ]
    T[i=2, j=0] = [(-oo, +oo) ]
    T[i=2, j=1] = [(-oo, +oo) ]
    T[i=2, j=2] = [(-oo, +oo) ]
    T[i=2, j=3] = [(-oo, +oo) ]
    T[i=2, j=4] = [(-oo, +oo) ]
    T[i=3, j=0] = [(-oo, +oo) ]
    T[i=3, j=1] = [(-oo, +oo) ]
    T[i=3, j=2] = [(10, 20) ]
    T[i=3, j=3] = [(-oo, +oo) ]
    T[i=3, j=4] = [(20, 30) (40, 50) ]
    T[i=4, j=0] = [(60, 70) ]
    T[i=4, j=1] = [(70, 90) ]
    T[i=4, j=2] = [(100, 130) ]
    T[i=4, j=3] = [(-oo, +oo) ]
    T[i=4, j=4] = [(-oo, +oo) ]

Etape 1, k = 2, i = 3, j = 3.
Contraintes :



Reseau =

    T[i=0, j=0] = [(-oo, +oo) ]
    T[i=0, j=1] = [(10, 20) ]
    T[i=0, j=2] = [(40, 60) ]
    T[i=0, j=3] = [(-oo, +oo) ]
    T[i=0, j=4] = [(-oo, +oo) ]
    T[i=1, j=0] = [(-oo, +oo) ]
    T[i=1, j=1] = [(-oo, +oo) ]
    T[i=1, j=2] = [(30, 40) ]
    T[i=1, j=3] = [(-oo, +oo) ]
    T[i=1, j=4] = [(-oo, +oo) ]
    T[i=2, j=0] = [(-oo, +oo) ]
    T[i=2, j=1] = [(-oo, +oo) ]
    T[i=2, j=2] = [(-oo, +oo) ]
    T[i=2, j=3] = [(-oo, +oo) ]
    T[i=2, j=4] = [(-oo, +oo) ]
    T[i=3, j=0] = [(-oo, +oo) ]
    T[i=3, j=1] = [(-oo, +oo) ]
    T[i=3, j=2] = [(10, 20) ]
    T[i=3, j=3] = [(-oo, +oo) ]
    T[i=3, j=4] = [(20, 30) (40, 50) ]
    T[i=4, j=0] = [(60, 70) ]
    T[i=4, j=1] = [(70, 90) ]
    T[i=4, j=2] = [(100, 130) ]
    T[i=4, j=3] = [(-oo, +oo) ]
    T[i=4, j=4] = [(-oo, +oo) ]

Etape 1, k = 2, i = 3, j = 4.
Contraintes :



Reseau =

    T[i=0, j=0] = [(-oo, +oo) ]
    T[i=0, j=1] = [(10, 20) ]
    T[i=0, j=2] = [(40, 60) ]
    T[i=0, j=3] = [(-oo, +oo) ]
    T[i=0, j=4] = [(-oo, +oo) ]
    T[i=1, j=0] = [(-oo, +oo) ]
    T[i=1, j=1] = [(-oo, +oo) ]
    T[i=1, j=2] = [(30, 40) ]
    T[i=1, j=3] = [(-oo, +oo) ]
    T[i=1, j=4] = [(-oo, +oo) ]
    T[i=2, j=0] = [(-oo, +oo) ]
    T[i=2, j=1] = [(-oo, +oo) ]
    T[i=2, j=2] = [(-oo, +oo) ]
    T[i=2, j=3] = [(-oo, +oo) ]
    T[i=2, j=4] = [(-oo, +oo) ]
    T[i=3, j=0] = [(-oo, +oo) ]
    T[i=3, j=1] = [(-oo, +oo) ]
    T[i=3, j=2] = [(10, 20) ]
    T[i=3, j=3] = [(-oo, +oo) ]
    T[i=3, j=4] = [(20, 30) (40, 50) ]
    T[i=4, j=0] = [(60, 70) ]
    T[i=4, j=1] = [(70, 90) ]
    T[i=4, j=2] = [(100, 130) ]
    T[i=4, j=3] = [(-oo, +oo) ]
    T[i=4, j=4] = [(-oo, +oo) ]

Etape 1, k = 2, i = 4, j = 0.
Contraintes :



Reseau =

    T[i=0, j=0] = [(-oo, +oo) ]
    T[i=0, j=1] = [(10, 20) ]
    T[i=0, j=2] = [(40, 60) ]
    T[i=0, j=3] = [(-oo, +oo) ]
    T[i=0, j=4] = [(-oo, +oo) ]
    T[i=1, j=0] = [(-oo, +oo) ]
    T[i=1, j=1] = [(-oo, +oo) ]
    T[i=1, j=2] = [(30, 40) ]
    T[i=1, j=3] = [(-oo, +oo) ]
    T[i=1, j=4] = [(-oo, +oo) ]
    T[i=2, j=0] = [(-oo, +oo) ]
    T[i=2, j=1] = [(-oo, +oo) ]
    T[i=2, j=2] = [(-oo, +oo) ]
    T[i=2, j=3] = [(-oo, +oo) ]
    T[i=2, j=4] = [(-oo, +oo) ]
    T[i=3, j=0] = [(-oo, +oo) ]
    T[i=3, j=1] = [(-oo, +oo) ]
    T[i=3, j=2] = [(10, 20) ]
    T[i=3, j=3] = [(-oo, +oo) ]
    T[i=3, j=4] = [(20, 30) (40, 50) ]
    T[i=4, j=0] = [(60, 70) ]
    T[i=4, j=1] = [(70, 90) ]
    T[i=4, j=2] = [(100, 130) ]
    T[i=4, j=3] = [(-oo, +oo) ]
    T[i=4, j=4] = [(-oo, +oo) ]

Etape 1, k = 2, i = 4, j = 1.
Contraintes :



Reseau =

    T[i=0, j=0] = [(-oo, +oo) ]
    T[i=0, j=1] = [(10, 20) ]
    T[i=0, j=2] = [(40, 60) ]
    T[i=0, j=3] = [(-oo, +oo) ]
    T[i=0, j=4] = [(-oo, +oo) ]
    T[i=1, j=0] = [(-oo, +oo) ]
    T[i=1, j=1] = [(-oo, +oo) ]
    T[i=1, j=2] = [(30, 40) ]
    T[i=1, j=3] = [(-oo, +oo) ]
    T[i=1, j=4] = [(-oo, +oo) ]
    T[i=2, j=0] = [(-oo, +oo) ]
    T[i=2, j=1] = [(-oo, +oo) ]
    T[i=2, j=2] = [(-oo, +oo) ]
    T[i=2, j=3] = [(-oo, +oo) ]
    T[i=2, j=4] = [(-oo, +oo) ]
    T[i=3, j=0] = [(-oo, +oo) ]
    T[i=3, j=1] = [(-oo, +oo) ]
    T[i=3, j=2] = [(10, 20) ]
    T[i=3, j=3] = [(-oo, +oo) ]
    T[i=3, j=4] = [(20, 30) (40, 50) ]
    T[i=4, j=0] = [(60, 70) ]
    T[i=4, j=1] = [(70, 90) ]
    T[i=4, j=2] = [(100, 130) ]
    T[i=4, j=3] = [(-oo, +oo) ]
    T[i=4, j=4] = [(-oo, +oo) ]

Etape 1, k = 2, i = 4, j = 2.
Contraintes :



Reseau =

    T[i=0, j=0] = [(-oo, +oo) ]
    T[i=0, j=1] = [(10, 20) ]
    T[i=0, j=2] = [(40, 60) ]
    T[i=0, j=3] = [(-oo, +oo) ]
    T[i=0, j=4] = [(-oo, +oo) ]
    T[i=1, j=0] = [(-oo, +oo) ]
    T[i=1, j=1] = [(-oo, +oo) ]
    T[i=1, j=2] = [(30, 40) ]
    T[i=1, j=3] = [(-oo, +oo) ]
    T[i=1, j=4] = [(-oo, +oo) ]
    T[i=2, j=0] = [(-oo, +oo) ]
    T[i=2, j=1] = [(-oo, +oo) ]
    T[i=2, j=2] = [(-oo, +oo) ]
    T[i=2, j=3] = [(-oo, +oo) ]
    T[i=2, j=4] = [(-oo, +oo) ]
    T[i=3, j=0] = [(-oo, +oo) ]
    T[i=3, j=1] = [(-oo, +oo) ]
    T[i=3, j=2] = [(10, 20) ]
    T[i=3, j=3] = [(-oo, +oo) ]
    T[i=3, j=4] = [(20, 30) (40, 50) ]
    T[i=4, j=0] = [(60, 70) ]
    T[i=4, j=1] = [(70, 90) ]
    T[i=4, j=2] = [(100, 130) ]
    T[i=4, j=3] = [(-oo, +oo) ]
    T[i=4, j=4] = [(-oo, +oo) ]

Etape 1, k = 2, i = 4, j = 3.
Contraintes :



Reseau =

    T[i=0, j=0] = [(-oo, +oo) ]
    T[i=0, j=1] = [(10, 20) ]
    T[i=0, j=2] = [(40, 60) ]
    T[i=0, j=3] = [(-oo, +oo) ]
    T[i=0, j=4] = [(-oo, +oo) ]
    T[i=1, j=0] = [(-oo, +oo) ]
    T[i=1, j=1] = [(-oo, +oo) ]
    T[i=1, j=2] = [(30, 40) ]
    T[i=1, j=3] = [(-oo, +oo) ]
    T[i=1, j=4] = [(-oo, +oo) ]
    T[i=2, j=0] = [(-oo, +oo) ]
    T[i=2, j=1] = [(-oo, +oo) ]
    T[i=2, j=2] = [(-oo, +oo) ]
    T[i=2, j=3] = [(-oo, +oo) ]
    T[i=2, j=4] = [(-oo, +oo) ]
    T[i=3, j=0] = [(-oo, +oo) ]
    T[i=3, j=1] = [(-oo, +oo) ]
    T[i=3, j=2] = [(10, 20) ]
    T[i=3, j=3] = [(-oo, +oo) ]
    T[i=3, j=4] = [(20, 30) (40, 50) ]
    T[i=4, j=0] = [(60, 70) ]
    T[i=4, j=1] = [(70, 90) ]
    T[i=4, j=2] = [(100, 130) ]
    T[i=4, j=3] = [(-oo, +oo) ]
    T[i=4, j=4] = [(-oo, +oo) ]

Etape 1, k = 2, i = 4, j = 4.
Contraintes :



Reseau =

    T[i=0, j=0] = [(-oo, +oo) ]
    T[i=0, j=1] = [(10, 20) ]
    T[i=0, j=2] = [(40, 60) ]
    T[i=0, j=3] = [(-oo, +oo) ]
    T[i=0, j=4] = [(-oo, +oo) ]
    T[i=1, j=0] = [(-oo, +oo) ]
    T[i=1, j=1] = [(-oo, +oo) ]
    T[i=1, j=2] = [(30, 40) ]
    T[i=1, j=3] = [(-oo, +oo) ]
    T[i=1, j=4] = [(-oo, +oo) ]
    T[i=2, j=0] = [(-oo, +oo) ]
    T[i=2, j=1] = [(-oo, +oo) ]
    T[i=2, j=2] = [(-oo, +oo) ]
    T[i=2, j=3] = [(-oo, +oo) ]
    T[i=2, j=4] = [(-oo, +oo) ]
    T[i=3, j=0] = [(-oo, +oo) ]
    T[i=3, j=1] = [(-oo, +oo) ]
    T[i=3, j=2] = [(10, 20) ]
    T[i=3, j=3] = [(-oo, +oo) ]
    T[i=3, j=4] = [(20, 30) (40, 50) ]
    T[i=4, j=0] = [(60, 70) ]
    T[i=4, j=1] = [(70, 90) ]
    T[i=4, j=2] = [(100, 130) ]
    T[i=4, j=3] = [(-oo, +oo) ]
    T[i=4, j=4] = [(-oo, +oo) ]

Etape 1, k = 3, i = 0, j = 0.
Contraintes :



Reseau =

    T[i=0, j=0] = [(-oo, +oo) ]
    T[i=0, j=1] = [(10, 20) ]
    T[i=0, j=2] = [(40, 60) ]
    T[i=0, j=3] = [(-oo, +oo) ]
    T[i=0, j=4] = [(-oo, +oo) ]
    T[i=1, j=0] = [(-oo, +oo) ]
    T[i=1, j=1] = [(-oo, +oo) ]
    T[i=1, j=2] = [(30, 40) ]
    T[i=1, j=3] = [(-oo, +oo) ]
    T[i=1, j=4] = [(-oo, +oo) ]
    T[i=2, j=0] = [(-oo, +oo) ]
    T[i=2, j=1] = [(-oo, +oo) ]
    T[i=2, j=2] = [(-oo, +oo) ]
    T[i=2, j=3] = [(-oo, +oo) ]
    T[i=2, j=4] = [(-oo, +oo) ]
    T[i=3, j=0] = [(-oo, +oo) ]
    T[i=3, j=1] = [(-oo, +oo) ]
    T[i=3, j=2] = [(10, 20) ]
    T[i=3, j=3] = [(-oo, +oo) ]
    T[i=3, j=4] = [(20, 30) (40, 50) ]
    T[i=4, j=0] = [(60, 70) ]
    T[i=4, j=1] = [(70, 90) ]
    T[i=4, j=2] = [(100, 130) ]
    T[i=4, j=3] = [(-oo, +oo) ]
    T[i=4, j=4] = [(-oo, +oo) ]

Etape 1, k = 3, i = 0, j = 1.
Contraintes :



Reseau =

    T[i=0, j=0] = [(-oo, +oo) ]
    T[i=0, j=1] = [(10, 20) ]
    T[i=0, j=2] = [(40, 60) ]
    T[i=0, j=3] = [(-oo, +oo) ]
    T[i=0, j=4] = [(-oo, +oo) ]
    T[i=1, j=0] = [(-oo, +oo) ]
    T[i=1, j=1] = [(-oo, +oo) ]
    T[i=1, j=2] = [(30, 40) ]
    T[i=1, j=3] = [(-oo, +oo) ]
    T[i=1, j=4] = [(-oo, +oo) ]
    T[i=2, j=0] = [(-oo, +oo) ]
    T[i=2, j=1] = [(-oo, +oo) ]
    T[i=2, j=2] = [(-oo, +oo) ]
    T[i=2, j=3] = [(-oo, +oo) ]
    T[i=2, j=4] = [(-oo, +oo) ]
    T[i=3, j=0] = [(-oo, +oo) ]
    T[i=3, j=1] = [(-oo, +oo) ]
    T[i=3, j=2] = [(10, 20) ]
    T[i=3, j=3] = [(-oo, +oo) ]
    T[i=3, j=4] = [(20, 30) (40, 50) ]
    T[i=4, j=0] = [(60, 70) ]
    T[i=4, j=1] = [(70, 90) ]
    T[i=4, j=2] = [(100, 130) ]
    T[i=4, j=3] = [(-oo, +oo) ]
    T[i=4, j=4] = [(-oo, +oo) ]

Etape 1, k = 3, i = 0, j = 2.
Contraintes :



Reseau =

    T[i=0, j=0] = [(-oo, +oo) ]
    T[i=0, j=1] = [(10, 20) ]
    T[i=0, j=2] = [(40, 60) ]
    T[i=0, j=3] = [(-oo, +oo) ]
    T[i=0, j=4] = [(-oo, +oo) ]
    T[i=1, j=0] = [(-oo, +oo) ]
    T[i=1, j=1] = [(-oo, +oo) ]
    T[i=1, j=2] = [(30, 40) ]
    T[i=1, j=3] = [(-oo, +oo) ]
    T[i=1, j=4] = [(-oo, +oo) ]
    T[i=2, j=0] = [(-oo, +oo) ]
    T[i=2, j=1] = [(-oo, +oo) ]
    T[i=2, j=2] = [(-oo, +oo) ]
    T[i=2, j=3] = [(-oo, +oo) ]
    T[i=2, j=4] = [(-oo, +oo) ]
    T[i=3, j=0] = [(-oo, +oo) ]
    T[i=3, j=1] = [(-oo, +oo) ]
    T[i=3, j=2] = [(10, 20) ]
    T[i=3, j=3] = [(-oo, +oo) ]
    T[i=3, j=4] = [(20, 30) (40, 50) ]
    T[i=4, j=0] = [(60, 70) ]
    T[i=4, j=1] = [(70, 90) ]
    T[i=4, j=2] = [(100, 130) ]
    T[i=4, j=3] = [(-oo, +oo) ]
    T[i=4, j=4] = [(-oo, +oo) ]

Etape 1, k = 3, i = 0, j = 3.
Contraintes :



Reseau =

    T[i=0, j=0] = [(-oo, +oo) ]
    T[i=0, j=1] = [(10, 20) ]
    T[i=0, j=2] = [(40, 60) ]
    T[i=0, j=3] = [(-oo, +oo) ]
    T[i=0, j=4] = [(-oo, +oo) ]
    T[i=1, j=0] = [(-oo, +oo) ]
    T[i=1, j=1] = [(-oo, +oo) ]
    T[i=1, j=2] = [(30, 40) ]
    T[i=1, j=3] = [(-oo, +oo) ]
    T[i=1, j=4] = [(-oo, +oo) ]
    T[i=2, j=0] = [(-oo, +oo) ]
    T[i=2, j=1] = [(-oo, +oo) ]
    T[i=2, j=2] = [(-oo, +oo) ]
    T[i=2, j=3] = [(-oo, +oo) ]
    T[i=2, j=4] = [(-oo, +oo) ]
    T[i=3, j=0] = [(-oo, +oo) ]
    T[i=3, j=1] = [(-oo, +oo) ]
    T[i=3, j=2] = [(10, 20) ]
    T[i=3, j=3] = [(-oo, +oo) ]
    T[i=3, j=4] = [(20, 30) (40, 50) ]
    T[i=4, j=0] = [(60, 70) ]
    T[i=4, j=1] = [(70, 90) ]
    T[i=4, j=2] = [(100, 130) ]
    T[i=4, j=3] = [(-oo, +oo) ]
    T[i=4, j=4] = [(-oo, +oo) ]

Etape 1, k = 3, i = 0, j = 4.
Contraintes :



Reseau =

    T[i=0, j=0] = [(-oo, +oo) ]
    T[i=0, j=1] = [(10, 20) ]
    T[i=0, j=2] = [(40, 60) ]
    T[i=0, j=3] = [(-oo, +oo) ]
    T[i=0, j=4] = [(-oo, +oo) ]
    T[i=1, j=0] = [(-oo, +oo) ]
    T[i=1, j=1] = [(-oo, +oo) ]
    T[i=1, j=2] = [(30, 40) ]
    T[i=1, j=3] = [(-oo, +oo) ]
    T[i=1, j=4] = [(-oo, +oo) ]
    T[i=2, j=0] = [(-oo, +oo) ]
    T[i=2, j=1] = [(-oo, +oo) ]
    T[i=2, j=2] = [(-oo, +oo) ]
    T[i=2, j=3] = [(-oo, +oo) ]
    T[i=2, j=4] = [(-oo, +oo) ]
    T[i=3, j=0] = [(-oo, +oo) ]
    T[i=3, j=1] = [(-oo, +oo) ]
    T[i=3, j=2] = [(10, 20) ]
    T[i=3, j=3] = [(-oo, +oo) ]
    T[i=3, j=4] = [(20, 30) (40, 50) ]
    T[i=4, j=0] = [(60, 70) ]
    T[i=4, j=1] = [(70, 90) ]
    T[i=4, j=2] = [(100, 130) ]
    T[i=4, j=3] = [(-oo, +oo) ]
    T[i=4, j=4] = [(-oo, +oo) ]

Etape 1, k = 3, i = 1, j = 0.
Contraintes :



Reseau =

    T[i=0, j=0] = [(-oo, +oo) ]
    T[i=0, j=1] = [(10, 20) ]
    T[i=0, j=2] = [(40, 60) ]
    T[i=0, j=3] = [(-oo, +oo) ]
    T[i=0, j=4] = [(-oo, +oo) ]
    T[i=1, j=0] = [(-oo, +oo) ]
    T[i=1, j=1] = [(-oo, +oo) ]
    T[i=1, j=2] = [(30, 40) ]
    T[i=1, j=3] = [(-oo, +oo) ]
    T[i=1, j=4] = [(-oo, +oo) ]
    T[i=2, j=0] = [(-oo, +oo) ]
    T[i=2, j=1] = [(-oo, +oo) ]
    T[i=2, j=2] = [(-oo, +oo) ]
    T[i=2, j=3] = [(-oo, +oo) ]
    T[i=2, j=4] = [(-oo, +oo) ]
    T[i=3, j=0] = [(-oo, +oo) ]
    T[i=3, j=1] = [(-oo, +oo) ]
    T[i=3, j=2] = [(10, 20) ]
    T[i=3, j=3] = [(-oo, +oo) ]
    T[i=3, j=4] = [(20, 30) (40, 50) ]
    T[i=4, j=0] = [(60, 70) ]
    T[i=4, j=1] = [(70, 90) ]
    T[i=4, j=2] = [(100, 130) ]
    T[i=4, j=3] = [(-oo, +oo) ]
    T[i=4, j=4] = [(-oo, +oo) ]

Etape 1, k = 3, i = 1, j = 1.
Contraintes :



Reseau =

    T[i=0, j=0] = [(-oo, +oo) ]
    T[i=0, j=1] = [(10, 20) ]
    T[i=0, j=2] = [(40, 60) ]
    T[i=0, j=3] = [(-oo, +oo) ]
    T[i=0, j=4] = [(-oo, +oo) ]
    T[i=1, j=0] = [(-oo, +oo) ]
    T[i=1, j=1] = [(-oo, +oo) ]
    T[i=1, j=2] = [(30, 40) ]
    T[i=1, j=3] = [(-oo, +oo) ]
    T[i=1, j=4] = [(-oo, +oo) ]
    T[i=2, j=0] = [(-oo, +oo) ]
    T[i=2, j=1] = [(-oo, +oo) ]
    T[i=2, j=2] = [(-oo, +oo) ]
    T[i=2, j=3] = [(-oo, +oo) ]
    T[i=2, j=4] = [(-oo, +oo) ]
    T[i=3, j=0] = [(-oo, +oo) ]
    T[i=3, j=1] = [(-oo, +oo) ]
    T[i=3, j=2] = [(10, 20) ]
    T[i=3, j=3] = [(-oo, +oo) ]
    T[i=3, j=4] = [(20, 30) (40, 50) ]
    T[i=4, j=0] = [(60, 70) ]
    T[i=4, j=1] = [(70, 90) ]
    T[i=4, j=2] = [(100, 130) ]
    T[i=4, j=3] = [(-oo, +oo) ]
    T[i=4, j=4] = [(-oo, +oo) ]

Etape 1, k = 3, i = 1, j = 2.
Contraintes :



Reseau =

    T[i=0, j=0] = [(-oo, +oo) ]
    T[i=0, j=1] = [(10, 20) ]
    T[i=0, j=2] = [(40, 60) ]
    T[i=0, j=3] = [(-oo, +oo) ]
    T[i=0, j=4] = [(-oo, +oo) ]
    T[i=1, j=0] = [(-oo, +oo) ]
    T[i=1, j=1] = [(-oo, +oo) ]
    T[i=1, j=2] = [(30, 40) ]
    T[i=1, j=3] = [(-oo, +oo) ]
    T[i=1, j=4] = [(-oo, +oo) ]
    T[i=2, j=0] = [(-oo, +oo) ]
    T[i=2, j=1] = [(-oo, +oo) ]
    T[i=2, j=2] = [(-oo, +oo) ]
    T[i=2, j=3] = [(-oo, +oo) ]
    T[i=2, j=4] = [(-oo, +oo) ]
    T[i=3, j=0] = [(-oo, +oo) ]
    T[i=3, j=1] = [(-oo, +oo) ]
    T[i=3, j=2] = [(10, 20) ]
    T[i=3, j=3] = [(-oo, +oo) ]
    T[i=3, j=4] = [(20, 30) (40, 50) ]
    T[i=4, j=0] = [(60, 70) ]
    T[i=4, j=1] = [(70, 90) ]
    T[i=4, j=2] = [(100, 130) ]
    T[i=4, j=3] = [(-oo, +oo) ]
    T[i=4, j=4] = [(-oo, +oo) ]

Etape 1, k = 3, i = 1, j = 3.
Contraintes :



Reseau =

    T[i=0, j=0] = [(-oo, +oo) ]
    T[i=0, j=1] = [(10, 20) ]
    T[i=0, j=2] = [(40, 60) ]
    T[i=0, j=3] = [(-oo, +oo) ]
    T[i=0, j=4] = [(-oo, +oo) ]
    T[i=1, j=0] = [(-oo, +oo) ]
    T[i=1, j=1] = [(-oo, +oo) ]
    T[i=1, j=2] = [(30, 40) ]
    T[i=1, j=3] = [(-oo, +oo) ]
    T[i=1, j=4] = [(-oo, +oo) ]
    T[i=2, j=0] = [(-oo, +oo) ]
    T[i=2, j=1] = [(-oo, +oo) ]
    T[i=2, j=2] = [(-oo, +oo) ]
    T[i=2, j=3] = [(-oo, +oo) ]
    T[i=2, j=4] = [(-oo, +oo) ]
    T[i=3, j=0] = [(-oo, +oo) ]
    T[i=3, j=1] = [(-oo, +oo) ]
    T[i=3, j=2] = [(10, 20) ]
    T[i=3, j=3] = [(-oo, +oo) ]
    T[i=3, j=4] = [(20, 30) (40, 50) ]
    T[i=4, j=0] = [(60, 70) ]
    T[i=4, j=1] = [(70, 90) ]
    T[i=4, j=2] = [(100, 130) ]
    T[i=4, j=3] = [(-oo, +oo) ]
    T[i=4, j=4] = [(-oo, +oo) ]

Etape 1, k = 3, i = 1, j = 4.
Contraintes :



Reseau =

    T[i=0, j=0] = [(-oo, +oo) ]
    T[i=0, j=1] = [(10, 20) ]
    T[i=0, j=2] = [(40, 60) ]
    T[i=0, j=3] = [(-oo, +oo) ]
    T[i=0, j=4] = [(-oo, +oo) ]
    T[i=1, j=0] = [(-oo, +oo) ]
    T[i=1, j=1] = [(-oo, +oo) ]
    T[i=1, j=2] = [(30, 40) ]
    T[i=1, j=3] = [(-oo, +oo) ]
    T[i=1, j=4] = [(-oo, +oo) ]
    T[i=2, j=0] = [(-oo, +oo) ]
    T[i=2, j=1] = [(-oo, +oo) ]
    T[i=2, j=2] = [(-oo, +oo) ]
    T[i=2, j=3] = [(-oo, +oo) ]
    T[i=2, j=4] = [(-oo, +oo) ]
    T[i=3, j=0] = [(-oo, +oo) ]
    T[i=3, j=1] = [(-oo, +oo) ]
    T[i=3, j=2] = [(10, 20) ]
    T[i=3, j=3] = [(-oo, +oo) ]
    T[i=3, j=4] = [(20, 30) (40, 50) ]
    T[i=4, j=0] = [(60, 70) ]
    T[i=4, j=1] = [(70, 90) ]
    T[i=4, j=2] = [(100, 130) ]
    T[i=4, j=3] = [(-oo, +oo) ]
    T[i=4, j=4] = [(-oo, +oo) ]

Etape 1, k = 3, i = 2, j = 0.
Contraintes :



Reseau =

    T[i=0, j=0] = [(-oo, +oo) ]
    T[i=0, j=1] = [(10, 20) ]
    T[i=0, j=2] = [(40, 60) ]
    T[i=0, j=3] = [(-oo, +oo) ]
    T[i=0, j=4] = [(-oo, +oo) ]
    T[i=1, j=0] = [(-oo, +oo) ]
    T[i=1, j=1] = [(-oo, +oo) ]
    T[i=1, j=2] = [(30, 40) ]
    T[i=1, j=3] = [(-oo, +oo) ]
    T[i=1, j=4] = [(-oo, +oo) ]
    T[i=2, j=0] = [(-oo, +oo) ]
    T[i=2, j=1] = [(-oo, +oo) ]
    T[i=2, j=2] = [(-oo, +oo) ]
    T[i=2, j=3] = [(-oo, +oo) ]
    T[i=2, j=4] = [(-oo, +oo) ]
    T[i=3, j=0] = [(-oo, +oo) ]
    T[i=3, j=1] = [(-oo, +oo) ]
    T[i=3, j=2] = [(10, 20) ]
    T[i=3, j=3] = [(-oo, +oo) ]
    T[i=3, j=4] = [(20, 30) (40, 50) ]
    T[i=4, j=0] = [(60, 70) ]
    T[i=4, j=1] = [(70, 90) ]
    T[i=4, j=2] = [(100, 130) ]
    T[i=4, j=3] = [(-oo, +oo) ]
    T[i=4, j=4] = [(-oo, +oo) ]

Etape 1, k = 3, i = 2, j = 1.
Contraintes :



Reseau =

    T[i=0, j=0] = [(-oo, +oo) ]
    T[i=0, j=1] = [(10, 20) ]
    T[i=0, j=2] = [(40, 60) ]
    T[i=0, j=3] = [(-oo, +oo) ]
    T[i=0, j=4] = [(-oo, +oo) ]
    T[i=1, j=0] = [(-oo, +oo) ]
    T[i=1, j=1] = [(-oo, +oo) ]
    T[i=1, j=2] = [(30, 40) ]
    T[i=1, j=3] = [(-oo, +oo) ]
    T[i=1, j=4] = [(-oo, +oo) ]
    T[i=2, j=0] = [(-oo, +oo) ]
    T[i=2, j=1] = [(-oo, +oo) ]
    T[i=2, j=2] = [(-oo, +oo) ]
    T[i=2, j=3] = [(-oo, +oo) ]
    T[i=2, j=4] = [(-oo, +oo) ]
    T[i=3, j=0] = [(-oo, +oo) ]
    T[i=3, j=1] = [(-oo, +oo) ]
    T[i=3, j=2] = [(10, 20) ]
    T[i=3, j=3] = [(-oo, +oo) ]
    T[i=3, j=4] = [(20, 30) (40, 50) ]
    T[i=4, j=0] = [(60, 70) ]
    T[i=4, j=1] = [(70, 90) ]
    T[i=4, j=2] = [(100, 130) ]
    T[i=4, j=3] = [(-oo, +oo) ]
    T[i=4, j=4] = [(-oo, +oo) ]

Etape 1, k = 3, i = 2, j = 2.
Contraintes :



Reseau =

    T[i=0, j=0] = [(-oo, +oo) ]
    T[i=0, j=1] = [(10, 20) ]
    T[i=0, j=2] = [(40, 60) ]
    T[i=0, j=3] = [(-oo, +oo) ]
    T[i=0, j=4] = [(-oo, +oo) ]
    T[i=1, j=0] = [(-oo, +oo) ]
    T[i=1, j=1] = [(-oo, +oo) ]
    T[i=1, j=2] = [(30, 40) ]
    T[i=1, j=3] = [(-oo, +oo) ]
    T[i=1, j=4] = [(-oo, +oo) ]
    T[i=2, j=0] = [(-oo, +oo) ]
    T[i=2, j=1] = [(-oo, +oo) ]
    T[i=2, j=2] = [(-oo, +oo) ]
    T[i=2, j=3] = [(-oo, +oo) ]
    T[i=2, j=4] = [(-oo, +oo) ]
    T[i=3, j=0] = [(-oo, +oo) ]
    T[i=3, j=1] = [(-oo, +oo) ]
    T[i=3, j=2] = [(10, 20) ]
    T[i=3, j=3] = [(-oo, +oo) ]
    T[i=3, j=4] = [(20, 30) (40, 50) ]
    T[i=4, j=0] = [(60, 70) ]
    T[i=4, j=1] = [(70, 90) ]
    T[i=4, j=2] = [(100, 130) ]
    T[i=4, j=3] = [(-oo, +oo) ]
    T[i=4, j=4] = [(-oo, +oo) ]

Etape 1, k = 3, i = 2, j = 3.
Contraintes :



Reseau =

    T[i=0, j=0] = [(-oo, +oo) ]
    T[i=0, j=1] = [(10, 20) ]
    T[i=0, j=2] = [(40, 60) ]
    T[i=0, j=3] = [(-oo, +oo) ]
    T[i=0, j=4] = [(-oo, +oo) ]
    T[i=1, j=0] = [(-oo, +oo) ]
    T[i=1, j=1] = [(-oo, +oo) ]
    T[i=1, j=2] = [(30, 40) ]
    T[i=1, j=3] = [(-oo, +oo) ]
    T[i=1, j=4] = [(-oo, +oo) ]
    T[i=2, j=0] = [(-oo, +oo) ]
    T[i=2, j=1] = [(-oo, +oo) ]
    T[i=2, j=2] = [(-oo, +oo) ]
    T[i=2, j=3] = [(-oo, +oo) ]
    T[i=2, j=4] = [(-oo, +oo) ]
    T[i=3, j=0] = [(-oo, +oo) ]
    T[i=3, j=1] = [(-oo, +oo) ]
    T[i=3, j=2] = [(10, 20) ]
    T[i=3, j=3] = [(-oo, +oo) ]
    T[i=3, j=4] = [(20, 30) (40, 50) ]
    T[i=4, j=0] = [(60, 70) ]
    T[i=4, j=1] = [(70, 90) ]
    T[i=4, j=2] = [(100, 130) ]
    T[i=4, j=3] = [(-oo, +oo) ]
    T[i=4, j=4] = [(-oo, +oo) ]

Etape 1, k = 3, i = 2, j = 4.
Contraintes :



Reseau =

    T[i=0, j=0] = [(-oo, +oo) ]
    T[i=0, j=1] = [(10, 20) ]
    T[i=0, j=2] = [(40, 60) ]
    T[i=0, j=3] = [(-oo, +oo) ]
    T[i=0, j=4] = [(-oo, +oo) ]
    T[i=1, j=0] = [(-oo, +oo) ]
    T[i=1, j=1] = [(-oo, +oo) ]
    T[i=1, j=2] = [(30, 40) ]
    T[i=1, j=3] = [(-oo, +oo) ]
    T[i=1, j=4] = [(-oo, +oo) ]
    T[i=2, j=0] = [(-oo, +oo) ]
    T[i=2, j=1] = [(-oo, +oo) ]
    T[i=2, j=2] = [(-oo, +oo) ]
    T[i=2, j=3] = [(-oo, +oo) ]
    T[i=2, j=4] = [(-oo, +oo) ]
    T[i=3, j=0] = [(-oo, +oo) ]
    T[i=3, j=1] = [(-oo, +oo) ]
    T[i=3, j=2] = [(10, 20) ]
    T[i=3, j=3] = [(-oo, +oo) ]
    T[i=3, j=4] = [(20, 30) (40, 50) ]
    T[i=4, j=0] = [(60, 70) ]
    T[i=4, j=1] = [(70, 90) ]
    T[i=4, j=2] = [(100, 130) ]
    T[i=4, j=3] = [(-oo, +oo) ]
    T[i=4, j=4] = [(-oo, +oo) ]

Etape 1, k = 3, i = 3, j = 0.
Contraintes :



Reseau =

    T[i=0, j=0] = [(-oo, +oo) ]
    T[i=0, j=1] = [(10, 20) ]
    T[i=0, j=2] = [(40, 60) ]
    T[i=0, j=3] = [(-oo, +oo) ]
    T[i=0, j=4] = [(-oo, +oo) ]
    T[i=1, j=0] = [(-oo, +oo) ]
    T[i=1, j=1] = [(-oo, +oo) ]
    T[i=1, j=2] = [(30, 40) ]
    T[i=1, j=3] = [(-oo, +oo) ]
    T[i=1, j=4] = [(-oo, +oo) ]
    T[i=2, j=0] = [(-oo, +oo) ]
    T[i=2, j=1] = [(-oo, +oo) ]
    T[i=2, j=2] = [(-oo, +oo) ]
    T[i=2, j=3] = [(-oo, +oo) ]
    T[i=2, j=4] = [(-oo, +oo) ]
    T[i=3, j=0] = [(-oo, +oo) ]
    T[i=3, j=1] = [(-oo, +oo) ]
    T[i=3, j=2] = [(10, 20) ]
    T[i=3, j=3] = [(-oo, +oo) ]
    T[i=3, j=4] = [(20, 30) (40, 50) ]
    T[i=4, j=0] = [(60, 70) ]
    T[i=4, j=1] = [(70, 90) ]
    T[i=4, j=2] = [(100, 130) ]
    T[i=4, j=3] = [(-oo, +oo) ]
    T[i=4, j=4] = [(-oo, +oo) ]

Etape 1, k = 3, i = 3, j = 1.
Contraintes :



Reseau =

    T[i=0, j=0] = [(-oo, +oo) ]
    T[i=0, j=1] = [(10, 20) ]
    T[i=0, j=2] = [(40, 60) ]
    T[i=0, j=3] = [(-oo, +oo) ]
    T[i=0, j=4] = [(-oo, +oo) ]
    T[i=1, j=0] = [(-oo, +oo) ]
    T[i=1, j=1] = [(-oo, +oo) ]
    T[i=1, j=2] = [(30, 40) ]
    T[i=1, j=3] = [(-oo, +oo) ]
    T[i=1, j=4] = [(-oo, +oo) ]
    T[i=2, j=0] = [(-oo, +oo) ]
    T[i=2, j=1] = [(-oo, +oo) ]
    T[i=2, j=2] = [(-oo, +oo) ]
    T[i=2, j=3] = [(-oo, +oo) ]
    T[i=2, j=4] = [(-oo, +oo) ]
    T[i=3, j=0] = [(-oo, +oo) ]
    T[i=3, j=1] = [(-oo, +oo) ]
    T[i=3, j=2] = [(10, 20) ]
    T[i=3, j=3] = [(-oo, +oo) ]
    T[i=3, j=4] = [(20, 30) (40, 50) ]
    T[i=4, j=0] = [(60, 70) ]
    T[i=4, j=1] = [(70, 90) ]
    T[i=4, j=2] = [(100, 130) ]
    T[i=4, j=3] = [(-oo, +oo) ]
    T[i=4, j=4] = [(-oo, +oo) ]

Etape 1, k = 3, i = 3, j = 2.
Contraintes :



Reseau =

    T[i=0, j=0] = [(-oo, +oo) ]
    T[i=0, j=1] = [(10, 20) ]
    T[i=0, j=2] = [(40, 60) ]
    T[i=0, j=3] = [(-oo, +oo) ]
    T[i=0, j=4] = [(-oo, +oo) ]
    T[i=1, j=0] = [(-oo, +oo) ]
    T[i=1, j=1] = [(-oo, +oo) ]
    T[i=1, j=2] = [(30, 40) ]
    T[i=1, j=3] = [(-oo, +oo) ]
    T[i=1, j=4] = [(-oo, +oo) ]
    T[i=2, j=0] = [(-oo, +oo) ]
    T[i=2, j=1] = [(-oo, +oo) ]
    T[i=2, j=2] = [(-oo, +oo) ]
    T[i=2, j=3] = [(-oo, +oo) ]
    T[i=2, j=4] = [(-oo, +oo) ]
    T[i=3, j=0] = [(-oo, +oo) ]
    T[i=3, j=1] = [(-oo, +oo) ]
    T[i=3, j=2] = [(10, 20) ]
    T[i=3, j=3] = [(-oo, +oo) ]
    T[i=3, j=4] = [(20, 30) (40, 50) ]
    T[i=4, j=0] = [(60, 70) ]
    T[i=4, j=1] = [(70, 90) ]
    T[i=4, j=2] = [(100, 130) ]
    T[i=4, j=3] = [(-oo, +oo) ]
    T[i=4, j=4] = [(-oo, +oo) ]

Etape 1, k = 3, i = 3, j = 3.
Contraintes :



Reseau =

    T[i=0, j=0] = [(-oo, +oo) ]
    T[i=0, j=1] = [(10, 20) ]
    T[i=0, j=2] = [(40, 60) ]
    T[i=0, j=3] = [(-oo, +oo) ]
    T[i=0, j=4] = [(-oo, +oo) ]
    T[i=1, j=0] = [(-oo, +oo) ]
    T[i=1, j=1] = [(-oo, +oo) ]
    T[i=1, j=2] = [(30, 40) ]
    T[i=1, j=3] = [(-oo, +oo) ]
    T[i=1, j=4] = [(-oo, +oo) ]
    T[i=2, j=0] = [(-oo, +oo) ]
    T[i=2, j=1] = [(-oo, +oo) ]
    T[i=2, j=2] = [(-oo, +oo) ]
    T[i=2, j=3] = [(-oo, +oo) ]
    T[i=2, j=4] = [(-oo, +oo) ]
    T[i=3, j=0] = [(-oo, +oo) ]
    T[i=3, j=1] = [(-oo, +oo) ]
    T[i=3, j=2] = [(10, 20) ]
    T[i=3, j=3] = [(-oo, +oo) ]
    T[i=3, j=4] = [(20, 30) (40, 50) ]
    T[i=4, j=0] = [(60, 70) ]
    T[i=4, j=1] = [(70, 90) ]
    T[i=4, j=2] = [(100, 130) ]
    T[i=4, j=3] = [(-oo, +oo) ]
    T[i=4, j=4] = [(-oo, +oo) ]

Etape 1, k = 3, i = 3, j = 4.
Contraintes :



Reseau =

    T[i=0, j=0] = [(-oo, +oo) ]
    T[i=0, j=1] = [(10, 20) ]
    T[i=0, j=2] = [(40, 60) ]
    T[i=0, j=3] = [(-oo, +oo) ]
    T[i=0, j=4] = [(-oo, +oo) ]
    T[i=1, j=0] = [(-oo, +oo) ]
    T[i=1, j=1] = [(-oo, +oo) ]
    T[i=1, j=2] = [(30, 40) ]
    T[i=1, j=3] = [(-oo, +oo) ]
    T[i=1, j=4] = [(-oo, +oo) ]
    T[i=2, j=0] = [(-oo, +oo) ]
    T[i=2, j=1] = [(-oo, +oo) ]
    T[i=2, j=2] = [(-oo, +oo) ]
    T[i=2, j=3] = [(-oo, +oo) ]
    T[i=2, j=4] = [(-oo, +oo) ]
    T[i=3, j=0] = [(-oo, +oo) ]
    T[i=3, j=1] = [(-oo, +oo) ]
    T[i=3, j=2] = [(10, 20) ]
    T[i=3, j=3] = [(-oo, +oo) ]
    T[i=3, j=4] = [(20, 30) (40, 50) ]
    T[i=4, j=0] = [(60, 70) ]
    T[i=4, j=1] = [(70, 90) ]
    T[i=4, j=2] = [(100, 130) ]
    T[i=4, j=3] = [(-oo, +oo) ]
    T[i=4, j=4] = [(-oo, +oo) ]

Etape 1, k = 3, i = 4, j = 0.
Contraintes :



Reseau =

    T[i=0, j=0] = [(-oo, +oo) ]
    T[i=0, j=1] = [(10, 20) ]
    T[i=0, j=2] = [(40, 60) ]
    T[i=0, j=3] = [(-oo, +oo) ]
    T[i=0, j=4] = [(-oo, +oo) ]
    T[i=1, j=0] = [(-oo, +oo) ]
    T[i=1, j=1] = [(-oo, +oo) ]
    T[i=1, j=2] = [(30, 40) ]
    T[i=1, j=3] = [(-oo, +oo) ]
    T[i=1, j=4] = [(-oo, +oo) ]
    T[i=2, j=0] = [(-oo, +oo) ]
    T[i=2, j=1] = [(-oo, +oo) ]
    T[i=2, j=2] = [(-oo, +oo) ]
    T[i=2, j=3] = [(-oo, +oo) ]
    T[i=2, j=4] = [(-oo, +oo) ]
    T[i=3, j=0] = [(-oo, +oo) ]
    T[i=3, j=1] = [(-oo, +oo) ]
    T[i=3, j=2] = [(10, 20) ]
    T[i=3, j=3] = [(-oo, +oo) ]
    T[i=3, j=4] = [(20, 30) (40, 50) ]
    T[i=4, j=0] = [(60, 70) ]
    T[i=4, j=1] = [(70, 90) ]
    T[i=4, j=2] = [(100, 130) ]
    T[i=4, j=3] = [(-oo, +oo) ]
    T[i=4, j=4] = [(-oo, +oo) ]

Etape 1, k = 3, i = 4, j = 1.
Contraintes :



Reseau =

    T[i=0, j=0] = [(-oo, +oo) ]
    T[i=0, j=1] = [(10, 20) ]
    T[i=0, j=2] = [(40, 60) ]
    T[i=0, j=3] = [(-oo, +oo) ]
    T[i=0, j=4] = [(-oo, +oo) ]
    T[i=1, j=0] = [(-oo, +oo) ]
    T[i=1, j=1] = [(-oo, +oo) ]
    T[i=1, j=2] = [(30, 40) ]
    T[i=1, j=3] = [(-oo, +oo) ]
    T[i=1, j=4] = [(-oo, +oo) ]
    T[i=2, j=0] = [(-oo, +oo) ]
    T[i=2, j=1] = [(-oo, +oo) ]
    T[i=2, j=2] = [(-oo, +oo) ]
    T[i=2, j=3] = [(-oo, +oo) ]
    T[i=2, j=4] = [(-oo, +oo) ]
    T[i=3, j=0] = [(-oo, +oo) ]
    T[i=3, j=1] = [(-oo, +oo) ]
    T[i=3, j=2] = [(10, 20) ]
    T[i=3, j=3] = [(-oo, +oo) ]
    T[i=3, j=4] = [(20, 30) (40, 50) ]
    T[i=4, j=0] = [(60, 70) ]
    T[i=4, j=1] = [(70, 90) ]
    T[i=4, j=2] = [(100, 130) ]
    T[i=4, j=3] = [(-oo, +oo) ]
    T[i=4, j=4] = [(-oo, +oo) ]

Etape 1, k = 3, i = 4, j = 2.
Contraintes :



Reseau =

    T[i=0, j=0] = [(-oo, +oo) ]
    T[i=0, j=1] = [(10, 20) ]
    T[i=0, j=2] = [(40, 60) ]
    T[i=0, j=3] = [(-oo, +oo) ]
    T[i=0, j=4] = [(-oo, +oo) ]
    T[i=1, j=0] = [(-oo, +oo) ]
    T[i=1, j=1] = [(-oo, +oo) ]
    T[i=1, j=2] = [(30, 40) ]
    T[i=1, j=3] = [(-oo, +oo) ]
    T[i=1, j=4] = [(-oo, +oo) ]
    T[i=2, j=0] = [(-oo, +oo) ]
    T[i=2, j=1] = [(-oo, +oo) ]
    T[i=2, j=2] = [(-oo, +oo) ]
    T[i=2, j=3] = [(-oo, +oo) ]
    T[i=2, j=4] = [(-oo, +oo) ]
    T[i=3, j=0] = [(-oo, +oo) ]
    T[i=3, j=1] = [(-oo, +oo) ]
    T[i=3, j=2] = [(10, 20) ]
    T[i=3, j=3] = [(-oo, +oo) ]
    T[i=3, j=4] = [(20, 30) (40, 50) ]
    T[i=4, j=0] = [(60, 70) ]
    T[i=4, j=1] = [(70, 90) ]
    T[i=4, j=2] = [(100, 130) ]
    T[i=4, j=3] = [(-oo, +oo) ]
    T[i=4, j=4] = [(-oo, +oo) ]

Etape 1, k = 3, i = 4, j = 3.
Contraintes :



Reseau =

    T[i=0, j=0] = [(-oo, +oo) ]
    T[i=0, j=1] = [(10, 20) ]
    T[i=0, j=2] = [(40, 60) ]
    T[i=0, j=3] = [(-oo, +oo) ]
    T[i=0, j=4] = [(-oo, +oo) ]
    T[i=1, j=0] = [(-oo, +oo) ]
    T[i=1, j=1] = [(-oo, +oo) ]
    T[i=1, j=2] = [(30, 40) ]
    T[i=1, j=3] = [(-oo, +oo) ]
    T[i=1, j=4] = [(-oo, +oo) ]
    T[i=2, j=0] = [(-oo, +oo) ]
    T[i=2, j=1] = [(-oo, +oo) ]
    T[i=2, j=2] = [(-oo, +oo) ]
    T[i=2, j=3] = [(-oo, +oo) ]
    T[i=2, j=4] = [(-oo, +oo) ]
    T[i=3, j=0] = [(-oo, +oo) ]
    T[i=3, j=1] = [(-oo, +oo) ]
    T[i=3, j=2] = [(10, 20) ]
    T[i=3, j=3] = [(-oo, +oo) ]
    T[i=3, j=4] = [(20, 30) (40, 50) ]
    T[i=4, j=0] = [(60, 70) ]
    T[i=4, j=1] = [(70, 90) ]
    T[i=4, j=2] = [(100, 130) ]
    T[i=4, j=3] = [(-oo, +oo) ]
    T[i=4, j=4] = [(-oo, +oo) ]

Etape 1, k = 3, i = 4, j = 4.
Contraintes :



Reseau =

    T[i=0, j=0] = [(-oo, +oo) ]
    T[i=0, j=1] = [(10, 20) ]
    T[i=0, j=2] = [(40, 60) ]
    T[i=0, j=3] = [(-oo, +oo) ]
    T[i=0, j=4] = [(-oo, +oo) ]
    T[i=1, j=0] = [(-oo, +oo) ]
    T[i=1, j=1] = [(-oo, +oo) ]
    T[i=1, j=2] = [(30, 40) ]
    T[i=1, j=3] = [(-oo, +oo) ]
    T[i=1, j=4] = [(-oo, +oo) ]
    T[i=2, j=0] = [(-oo, +oo) ]
    T[i=2, j=1] = [(-oo, +oo) ]
    T[i=2, j=2] = [(-oo, +oo) ]
    T[i=2, j=3] = [(-oo, +oo) ]
    T[i=2, j=4] = [(-oo, +oo) ]
    T[i=3, j=0] = [(-oo, +oo) ]
    T[i=3, j=1] = [(-oo, +oo) ]
    T[i=3, j=2] = [(10, 20) ]
    T[i=3, j=3] = [(-oo, +oo) ]
    T[i=3, j=4] = [(20, 30) (40, 50) ]
    T[i=4, j=0] = [(60, 70) ]
    T[i=4, j=1] = [(70, 90) ]
    T[i=4, j=2] = [(100, 130) ]
    T[i=4, j=3] = [(-oo, +oo) ]
    T[i=4, j=4] = [(-oo, +oo) ]

Etape 1, k = 4, i = 0, j = 0.
Contraintes :



Reseau =

    T[i=0, j=0] = [(-oo, +oo) ]
    T[i=0, j=1] = [(10, 20) ]
    T[i=0, j=2] = [(40, 60) ]
    T[i=0, j=3] = [(-oo, +oo) ]
    T[i=0, j=4] = [(-oo, +oo) ]
    T[i=1, j=0] = [(-oo, +oo) ]
    T[i=1, j=1] = [(-oo, +oo) ]
    T[i=1, j=2] = [(30, 40) ]
    T[i=1, j=3] = [(-oo, +oo) ]
    T[i=1, j=4] = [(-oo, +oo) ]
    T[i=2, j=0] = [(-oo, +oo) ]
    T[i=2, j=1] = [(-oo, +oo) ]
    T[i=2, j=2] = [(-oo, +oo) ]
    T[i=2, j=3] = [(-oo, +oo) ]
    T[i=2, j=4] = [(-oo, +oo) ]
    T[i=3, j=0] = [(-oo, +oo) ]
    T[i=3, j=1] = [(-oo, +oo) ]
    T[i=3, j=2] = [(10, 20) ]
    T[i=3, j=3] = [(-oo, +oo) ]
    T[i=3, j=4] = [(20, 30) (40, 50) ]
    T[i=4, j=0] = [(60, 70) ]
    T[i=4, j=1] = [(70, 90) ]
    T[i=4, j=2] = [(100, 130) ]
    T[i=4, j=3] = [(-oo, +oo) ]
    T[i=4, j=4] = [(-oo, +oo) ]

Etape 1, k = 4, i = 0, j = 1.
Contraintes :



Reseau =

    T[i=0, j=0] = [(-oo, +oo) ]
    T[i=0, j=1] = [(10, 20) ]
    T[i=0, j=2] = [(40, 60) ]
    T[i=0, j=3] = [(-oo, +oo) ]
    T[i=0, j=4] = [(-oo, +oo) ]
    T[i=1, j=0] = [(-oo, +oo) ]
    T[i=1, j=1] = [(-oo, +oo) ]
    T[i=1, j=2] = [(30, 40) ]
    T[i=1, j=3] = [(-oo, +oo) ]
    T[i=1, j=4] = [(-oo, +oo) ]
    T[i=2, j=0] = [(-oo, +oo) ]
    T[i=2, j=1] = [(-oo, +oo) ]
    T[i=2, j=2] = [(-oo, +oo) ]
    T[i=2, j=3] = [(-oo, +oo) ]
    T[i=2, j=4] = [(-oo, +oo) ]
    T[i=3, j=0] = [(-oo, +oo) ]
    T[i=3, j=1] = [(-oo, +oo) ]
    T[i=3, j=2] = [(10, 20) ]
    T[i=3, j=3] = [(-oo, +oo) ]
    T[i=3, j=4] = [(20, 30) (40, 50) ]
    T[i=4, j=0] = [(60, 70) ]
    T[i=4, j=1] = [(70, 90) ]
    T[i=4, j=2] = [(100, 130) ]
    T[i=4, j=3] = [(-oo, +oo) ]
    T[i=4, j=4] = [(-oo, +oo) ]

Etape 1, k = 4, i = 0, j = 2.
Contraintes :



Reseau =

    T[i=0, j=0] = [(-oo, +oo) ]
    T[i=0, j=1] = [(10, 20) ]
    T[i=0, j=2] = [(40, 60) ]
    T[i=0, j=3] = [(-oo, +oo) ]
    T[i=0, j=4] = [(-oo, +oo) ]
    T[i=1, j=0] = [(-oo, +oo) ]
    T[i=1, j=1] = [(-oo, +oo) ]
    T[i=1, j=2] = [(30, 40) ]
    T[i=1, j=3] = [(-oo, +oo) ]
    T[i=1, j=4] = [(-oo, +oo) ]
    T[i=2, j=0] = [(-oo, +oo) ]
    T[i=2, j=1] = [(-oo, +oo) ]
    T[i=2, j=2] = [(-oo, +oo) ]
    T[i=2, j=3] = [(-oo, +oo) ]
    T[i=2, j=4] = [(-oo, +oo) ]
    T[i=3, j=0] = [(-oo, +oo) ]
    T[i=3, j=1] = [(-oo, +oo) ]
    T[i=3, j=2] = [(10, 20) ]
    T[i=3, j=3] = [(-oo, +oo) ]
    T[i=3, j=4] = [(20, 30) (40, 50) ]
    T[i=4, j=0] = [(60, 70) ]
    T[i=4, j=1] = [(70, 90) ]
    T[i=4, j=2] = [(100, 130) ]
    T[i=4, j=3] = [(-oo, +oo) ]
    T[i=4, j=4] = [(-oo, +oo) ]

Etape 1, k = 4, i = 0, j = 3.
Contraintes :



Reseau =

    T[i=0, j=0] = [(-oo, +oo) ]
    T[i=0, j=1] = [(10, 20) ]
    T[i=0, j=2] = [(40, 60) ]
    T[i=0, j=3] = [(-oo, +oo) ]
    T[i=0, j=4] = [(-oo, +oo) ]
    T[i=1, j=0] = [(-oo, +oo) ]
    T[i=1, j=1] = [(-oo, +oo) ]
    T[i=1, j=2] = [(30, 40) ]
    T[i=1, j=3] = [(-oo, +oo) ]
    T[i=1, j=4] = [(-oo, +oo) ]
    T[i=2, j=0] = [(-oo, +oo) ]
    T[i=2, j=1] = [(-oo, +oo) ]
    T[i=2, j=2] = [(-oo, +oo) ]
    T[i=2, j=3] = [(-oo, +oo) ]
    T[i=2, j=4] = [(-oo, +oo) ]
    T[i=3, j=0] = [(-oo, +oo) ]
    T[i=3, j=1] = [(-oo, +oo) ]
    T[i=3, j=2] = [(10, 20) ]
    T[i=3, j=3] = [(-oo, +oo) ]
    T[i=3, j=4] = [(20, 30) (40, 50) ]
    T[i=4, j=0] = [(60, 70) ]
    T[i=4, j=1] = [(70, 90) ]
    T[i=4, j=2] = [(100, 130) ]
    T[i=4, j=3] = [(-oo, +oo) ]
    T[i=4, j=4] = [(-oo, +oo) ]

Etape 1, k = 4, i = 0, j = 4.
Contraintes :



Reseau =

    T[i=0, j=0] = [(-oo, +oo) ]
    T[i=0, j=1] = [(10, 20) ]
    T[i=0, j=2] = [(40, 60) ]
    T[i=0, j=3] = [(-oo, +oo) ]
    T[i=0, j=4] = [(-oo, +oo) ]
    T[i=1, j=0] = [(-oo, +oo) ]
    T[i=1, j=1] = [(-oo, +oo) ]
    T[i=1, j=2] = [(30, 40) ]
    T[i=1, j=3] = [(-oo, +oo) ]
    T[i=1, j=4] = [(-oo, +oo) ]
    T[i=2, j=0] = [(-oo, +oo) ]
    T[i=2, j=1] = [(-oo, +oo) ]
    T[i=2, j=2] = [(-oo, +oo) ]
    T[i=2, j=3] = [(-oo, +oo) ]
    T[i=2, j=4] = [(-oo, +oo) ]
    T[i=3, j=0] = [(-oo, +oo) ]
    T[i=3, j=1] = [(-oo, +oo) ]
    T[i=3, j=2] = [(10, 20) ]
    T[i=3, j=3] = [(-oo, +oo) ]
    T[i=3, j=4] = [(20, 30) (40, 50) ]
    T[i=4, j=0] = [(60, 70) ]
    T[i=4, j=1] = [(70, 90) ]
    T[i=4, j=2] = [(100, 130) ]
    T[i=4, j=3] = [(-oo, +oo) ]
    T[i=4, j=4] = [(-oo, +oo) ]

Etape 1, k = 4, i = 1, j = 0.
Contraintes :



Reseau =

    T[i=0, j=0] = [(-oo, +oo) ]
    T[i=0, j=1] = [(10, 20) ]
    T[i=0, j=2] = [(40, 60) ]
    T[i=0, j=3] = [(-oo, +oo) ]
    T[i=0, j=4] = [(-oo, +oo) ]
    T[i=1, j=0] = [(-oo, +oo) ]
    T[i=1, j=1] = [(-oo, +oo) ]
    T[i=1, j=2] = [(30, 40) ]
    T[i=1, j=3] = [(-oo, +oo) ]
    T[i=1, j=4] = [(-oo, +oo) ]
    T[i=2, j=0] = [(-oo, +oo) ]
    T[i=2, j=1] = [(-oo, +oo) ]
    T[i=2, j=2] = [(-oo, +oo) ]
    T[i=2, j=3] = [(-oo, +oo) ]
    T[i=2, j=4] = [(-oo, +oo) ]
    T[i=3, j=0] = [(-oo, +oo) ]
    T[i=3, j=1] = [(-oo, +oo) ]
    T[i=3, j=2] = [(10, 20) ]
    T[i=3, j=3] = [(-oo, +oo) ]
    T[i=3, j=4] = [(20, 30) (40, 50) ]
    T[i=4, j=0] = [(60, 70) ]
    T[i=4, j=1] = [(70, 90) ]
    T[i=4, j=2] = [(100, 130) ]
    T[i=4, j=3] = [(-oo, +oo) ]
    T[i=4, j=4] = [(-oo, +oo) ]

Etape 1, k = 4, i = 1, j = 1.
Contraintes :



Reseau =

    T[i=0, j=0] = [(-oo, +oo) ]
    T[i=0, j=1] = [(10, 20) ]
    T[i=0, j=2] = [(40, 60) ]
    T[i=0, j=3] = [(-oo, +oo) ]
    T[i=0, j=4] = [(-oo, +oo) ]
    T[i=1, j=0] = [(-oo, +oo) ]
    T[i=1, j=1] = [(-oo, +oo) ]
    T[i=1, j=2] = [(30, 40) ]
    T[i=1, j=3] = [(-oo, +oo) ]
    T[i=1, j=4] = [(-oo, +oo) ]
    T[i=2, j=0] = [(-oo, +oo) ]
    T[i=2, j=1] = [(-oo, +oo) ]
    T[i=2, j=2] = [(-oo, +oo) ]
    T[i=2, j=3] = [(-oo, +oo) ]
    T[i=2, j=4] = [(-oo, +oo) ]
    T[i=3, j=0] = [(-oo, +oo) ]
    T[i=3, j=1] = [(-oo, +oo) ]
    T[i=3, j=2] = [(10, 20) ]
    T[i=3, j=3] = [(-oo, +oo) ]
    T[i=3, j=4] = [(20, 30) (40, 50) ]
    T[i=4, j=0] = [(60, 70) ]
    T[i=4, j=1] = [(70, 90) ]
    T[i=4, j=2] = [(100, 130) ]
    T[i=4, j=3] = [(-oo, +oo) ]
    T[i=4, j=4] = [(-oo, +oo) ]

Etape 1, k = 4, i = 1, j = 2.
Contraintes :



Reseau =

    T[i=0, j=0] = [(-oo, +oo) ]
    T[i=0, j=1] = [(10, 20) ]
    T[i=0, j=2] = [(40, 60) ]
    T[i=0, j=3] = [(-oo, +oo) ]
    T[i=0, j=4] = [(-oo, +oo) ]
    T[i=1, j=0] = [(-oo, +oo) ]
    T[i=1, j=1] = [(-oo, +oo) ]
    T[i=1, j=2] = [(30, 40) ]
    T[i=1, j=3] = [(-oo, +oo) ]
    T[i=1, j=4] = [(-oo, +oo) ]
    T[i=2, j=0] = [(-oo, +oo) ]
    T[i=2, j=1] = [(-oo, +oo) ]
    T[i=2, j=2] = [(-oo, +oo) ]
    T[i=2, j=3] = [(-oo, +oo) ]
    T[i=2, j=4] = [(-oo, +oo) ]
    T[i=3, j=0] = [(-oo, +oo) ]
    T[i=3, j=1] = [(-oo, +oo) ]
    T[i=3, j=2] = [(10, 20) ]
    T[i=3, j=3] = [(-oo, +oo) ]
    T[i=3, j=4] = [(20, 30) (40, 50) ]
    T[i=4, j=0] = [(60, 70) ]
    T[i=4, j=1] = [(70, 90) ]
    T[i=4, j=2] = [(100, 130) ]
    T[i=4, j=3] = [(-oo, +oo) ]
    T[i=4, j=4] = [(-oo, +oo) ]

Etape 1, k = 4, i = 1, j = 3.
Contraintes :



Reseau =

    T[i=0, j=0] = [(-oo, +oo) ]
    T[i=0, j=1] = [(10, 20) ]
    T[i=0, j=2] = [(40, 60) ]
    T[i=0, j=3] = [(-oo, +oo) ]
    T[i=0, j=4] = [(-oo, +oo) ]
    T[i=1, j=0] = [(-oo, +oo) ]
    T[i=1, j=1] = [(-oo, +oo) ]
    T[i=1, j=2] = [(30, 40) ]
    T[i=1, j=3] = [(-oo, +oo) ]
    T[i=1, j=4] = [(-oo, +oo) ]
    T[i=2, j=0] = [(-oo, +oo) ]
    T[i=2, j=1] = [(-oo, +oo) ]
    T[i=2, j=2] = [(-oo, +oo) ]
    T[i=2, j=3] = [(-oo, +oo) ]
    T[i=2, j=4] = [(-oo, +oo) ]
    T[i=3, j=0] = [(-oo, +oo) ]
    T[i=3, j=1] = [(-oo, +oo) ]
    T[i=3, j=2] = [(10, 20) ]
    T[i=3, j=3] = [(-oo, +oo) ]
    T[i=3, j=4] = [(20, 30) (40, 50) ]
    T[i=4, j=0] = [(60, 70) ]
    T[i=4, j=1] = [(70, 90) ]
    T[i=4, j=2] = [(100, 130) ]
    T[i=4, j=3] = [(-oo, +oo) ]
    T[i=4, j=4] = [(-oo, +oo) ]

Etape 1, k = 4, i = 1, j = 4.
Contraintes :



Reseau =

    T[i=0, j=0] = [(-oo, +oo) ]
    T[i=0, j=1] = [(10, 20) ]
    T[i=0, j=2] = [(40, 60) ]
    T[i=0, j=3] = [(-oo, +oo) ]
    T[i=0, j=4] = [(-oo, +oo) ]
    T[i=1, j=0] = [(-oo, +oo) ]
    T[i=1, j=1] = [(-oo, +oo) ]
    T[i=1, j=2] = [(30, 40) ]
    T[i=1, j=3] = [(-oo, +oo) ]
    T[i=1, j=4] = [(-oo, +oo) ]
    T[i=2, j=0] = [(-oo, +oo) ]
    T[i=2, j=1] = [(-oo, +oo) ]
    T[i=2, j=2] = [(-oo, +oo) ]
    T[i=2, j=3] = [(-oo, +oo) ]
    T[i=2, j=4] = [(-oo, +oo) ]
    T[i=3, j=0] = [(-oo, +oo) ]
    T[i=3, j=1] = [(-oo, +oo) ]
    T[i=3, j=2] = [(10, 20) ]
    T[i=3, j=3] = [(-oo, +oo) ]
    T[i=3, j=4] = [(20, 30) (40, 50) ]
    T[i=4, j=0] = [(60, 70) ]
    T[i=4, j=1] = [(70, 90) ]
    T[i=4, j=2] = [(100, 130) ]
    T[i=4, j=3] = [(-oo, +oo) ]
    T[i=4, j=4] = [(-oo, +oo) ]

Etape 1, k = 4, i = 2, j = 0.
Contraintes :



Reseau =

    T[i=0, j=0] = [(-oo, +oo) ]
    T[i=0, j=1] = [(10, 20) ]
    T[i=0, j=2] = [(40, 60) ]
    T[i=0, j=3] = [(-oo, +oo) ]
    T[i=0, j=4] = [(-oo, +oo) ]
    T[i=1, j=0] = [(-oo, +oo) ]
    T[i=1, j=1] = [(-oo, +oo) ]
    T[i=1, j=2] = [(30, 40) ]
    T[i=1, j=3] = [(-oo, +oo) ]
    T[i=1, j=4] = [(-oo, +oo) ]
    T[i=2, j=0] = [(-oo, +oo) ]
    T[i=2, j=1] = [(-oo, +oo) ]
    T[i=2, j=2] = [(-oo, +oo) ]
    T[i=2, j=3] = [(-oo, +oo) ]
    T[i=2, j=4] = [(-oo, +oo) ]
    T[i=3, j=0] = [(-oo, +oo) ]
    T[i=3, j=1] = [(-oo, +oo) ]
    T[i=3, j=2] = [(10, 20) ]
    T[i=3, j=3] = [(-oo, +oo) ]
    T[i=3, j=4] = [(20, 30) (40, 50) ]
    T[i=4, j=0] = [(60, 70) ]
    T[i=4, j=1] = [(70, 90) ]
    T[i=4, j=2] = [(100, 130) ]
    T[i=4, j=3] = [(-oo, +oo) ]
    T[i=4, j=4] = [(-oo, +oo) ]

Etape 1, k = 4, i = 2, j = 1.
Contraintes :



Reseau =

    T[i=0, j=0] = [(-oo, +oo) ]
    T[i=0, j=1] = [(10, 20) ]
    T[i=0, j=2] = [(40, 60) ]
    T[i=0, j=3] = [(-oo, +oo) ]
    T[i=0, j=4] = [(-oo, +oo) ]
    T[i=1, j=0] = [(-oo, +oo) ]
    T[i=1, j=1] = [(-oo, +oo) ]
    T[i=1, j=2] = [(30, 40) ]
    T[i=1, j=3] = [(-oo, +oo) ]
    T[i=1, j=4] = [(-oo, +oo) ]
    T[i=2, j=0] = [(-oo, +oo) ]
    T[i=2, j=1] = [(-oo, +oo) ]
    T[i=2, j=2] = [(-oo, +oo) ]
    T[i=2, j=3] = [(-oo, +oo) ]
    T[i=2, j=4] = [(-oo, +oo) ]
    T[i=3, j=0] = [(-oo, +oo) ]
    T[i=3, j=1] = [(-oo, +oo) ]
    T[i=3, j=2] = [(10, 20) ]
    T[i=3, j=3] = [(-oo, +oo) ]
    T[i=3, j=4] = [(20, 30) (40, 50) ]
    T[i=4, j=0] = [(60, 70) ]
    T[i=4, j=1] = [(70, 90) ]
    T[i=4, j=2] = [(100, 130) ]
    T[i=4, j=3] = [(-oo, +oo) ]
    T[i=4, j=4] = [(-oo, +oo) ]

Etape 1, k = 4, i = 2, j = 2.
Contraintes :



Reseau =

    T[i=0, j=0] = [(-oo, +oo) ]
    T[i=0, j=1] = [(10, 20) ]
    T[i=0, j=2] = [(40, 60) ]
    T[i=0, j=3] = [(-oo, +oo) ]
    T[i=0, j=4] = [(-oo, +oo) ]
    T[i=1, j=0] = [(-oo, +oo) ]
    T[i=1, j=1] = [(-oo, +oo) ]
    T[i=1, j=2] = [(30, 40) ]
    T[i=1, j=3] = [(-oo, +oo) ]
    T[i=1, j=4] = [(-oo, +oo) ]
    T[i=2, j=0] = [(-oo, +oo) ]
    T[i=2, j=1] = [(-oo, +oo) ]
    T[i=2, j=2] = [(-oo, +oo) ]
    T[i=2, j=3] = [(-oo, +oo) ]
    T[i=2, j=4] = [(-oo, +oo) ]
    T[i=3, j=0] = [(-oo, +oo) ]
    T[i=3, j=1] = [(-oo, +oo) ]
    T[i=3, j=2] = [(10, 20) ]
    T[i=3, j=3] = [(-oo, +oo) ]
    T[i=3, j=4] = [(20, 30) (40, 50) ]
    T[i=4, j=0] = [(60, 70) ]
    T[i=4, j=1] = [(70, 90) ]
    T[i=4, j=2] = [(100, 130) ]
    T[i=4, j=3] = [(-oo, +oo) ]
    T[i=4, j=4] = [(-oo, +oo) ]

Etape 1, k = 4, i = 2, j = 3.
Contraintes :



Reseau =

    T[i=0, j=0] = [(-oo, +oo) ]
    T[i=0, j=1] = [(10, 20) ]
    T[i=0, j=2] = [(40, 60) ]
    T[i=0, j=3] = [(-oo, +oo) ]
    T[i=0, j=4] = [(-oo, +oo) ]
    T[i=1, j=0] = [(-oo, +oo) ]
    T[i=1, j=1] = [(-oo, +oo) ]
    T[i=1, j=2] = [(30, 40) ]
    T[i=1, j=3] = [(-oo, +oo) ]
    T[i=1, j=4] = [(-oo, +oo) ]
    T[i=2, j=0] = [(-oo, +oo) ]
    T[i=2, j=1] = [(-oo, +oo) ]
    T[i=2, j=2] = [(-oo, +oo) ]
    T[i=2, j=3] = [(-oo, +oo) ]
    T[i=2, j=4] = [(-oo, +oo) ]
    T[i=3, j=0] = [(-oo, +oo) ]
    T[i=3, j=1] = [(-oo, +oo) ]
    T[i=3, j=2] = [(10, 20) ]
    T[i=3, j=3] = [(-oo, +oo) ]
    T[i=3, j=4] = [(20, 30) (40, 50) ]
    T[i=4, j=0] = [(60, 70) ]
    T[i=4, j=1] = [(70, 90) ]
    T[i=4, j=2] = [(100, 130) ]
    T[i=4, j=3] = [(-oo, +oo) ]
    T[i=4, j=4] = [(-oo, +oo) ]

Etape 1, k = 4, i = 2, j = 4.
Contraintes :



Reseau =

    T[i=0, j=0] = [(-oo, +oo) ]
    T[i=0, j=1] = [(10, 20) ]
    T[i=0, j=2] = [(40, 60) ]
    T[i=0, j=3] = [(-oo, +oo) ]
    T[i=0, j=4] = [(-oo, +oo) ]
    T[i=1, j=0] = [(-oo, +oo) ]
    T[i=1, j=1] = [(-oo, +oo) ]
    T[i=1, j=2] = [(30, 40) ]
    T[i=1, j=3] = [(-oo, +oo) ]
    T[i=1, j=4] = [(-oo, +oo) ]
    T[i=2, j=0] = [(-oo, +oo) ]
    T[i=2, j=1] = [(-oo, +oo) ]
    T[i=2, j=2] = [(-oo, +oo) ]
    T[i=2, j=3] = [(-oo, +oo) ]
    T[i=2, j=4] = [(-oo, +oo) ]
    T[i=3, j=0] = [(-oo, +oo) ]
    T[i=3, j=1] = [(-oo, +oo) ]
    T[i=3, j=2] = [(10, 20) ]
    T[i=3, j=3] = [(-oo, +oo) ]
    T[i=3, j=4] = [(20, 30) (40, 50) ]
    T[i=4, j=0] = [(60, 70) ]
    T[i=4, j=1] = [(70, 90) ]
    T[i=4, j=2] = [(100, 130) ]
    T[i=4, j=3] = [(-oo, +oo) ]
    T[i=4, j=4] = [(-oo, +oo) ]

Etape 1, k = 4, i = 3, j = 0.
Contraintes :



Reseau =

    T[i=0, j=0] = [(-oo, +oo) ]
    T[i=0, j=1] = [(10, 20) ]
    T[i=0, j=2] = [(40, 60) ]
    T[i=0, j=3] = [(-oo, +oo) ]
    T[i=0, j=4] = [(-oo, +oo) ]
    T[i=1, j=0] = [(-oo, +oo) ]
    T[i=1, j=1] = [(-oo, +oo) ]
    T[i=1, j=2] = [(30, 40) ]
    T[i=1, j=3] = [(-oo, +oo) ]
    T[i=1, j=4] = [(-oo, +oo) ]
    T[i=2, j=0] = [(-oo, +oo) ]
    T[i=2, j=1] = [(-oo, +oo) ]
    T[i=2, j=2] = [(-oo, +oo) ]
    T[i=2, j=3] = [(-oo, +oo) ]
    T[i=2, j=4] = [(-oo, +oo) ]
    T[i=3, j=0] = [(-oo, +oo) ]
    T[i=3, j=1] = [(-oo, +oo) ]
    T[i=3, j=2] = [(10, 20) ]
    T[i=3, j=3] = [(-oo, +oo) ]
    T[i=3, j=4] = [(20, 30) (40, 50) ]
    T[i=4, j=0] = [(60, 70) ]
    T[i=4, j=1] = [(70, 90) ]
    T[i=4, j=2] = [(100, 130) ]
    T[i=4, j=3] = [(-oo, +oo) ]
    T[i=4, j=4] = [(-oo, +oo) ]

Etape 1, k = 4, i = 3, j = 1.
Contraintes :



Reseau =

    T[i=0, j=0] = [(-oo, +oo) ]
    T[i=0, j=1] = [(10, 20) ]
    T[i=0, j=2] = [(40, 60) ]
    T[i=0, j=3] = [(-oo, +oo) ]
    T[i=0, j=4] = [(-oo, +oo) ]
    T[i=1, j=0] = [(-oo, +oo) ]
    T[i=1, j=1] = [(-oo, +oo) ]
    T[i=1, j=2] = [(30, 40) ]
    T[i=1, j=3] = [(-oo, +oo) ]
    T[i=1, j=4] = [(-oo, +oo) ]
    T[i=2, j=0] = [(-oo, +oo) ]
    T[i=2, j=1] = [(-oo, +oo) ]
    T[i=2, j=2] = [(-oo, +oo) ]
    T[i=2, j=3] = [(-oo, +oo) ]
    T[i=2, j=4] = [(-oo, +oo) ]
    T[i=3, j=0] = [(80, 100) (100, 120) ]
    T[i=3, j=1] = [(-oo, +oo) ]
    T[i=3, j=2] = [(10, 20) ]
    T[i=3, j=3] = [(-oo, +oo) ]
    T[i=3, j=4] = [(20, 30) (40, 50) ]
    T[i=4, j=0] = [(60, 70) ]
    T[i=4, j=1] = [(70, 90) ]
    T[i=4, j=2] = [(100, 130) ]
    T[i=4, j=3] = [(-oo, +oo) ]
    T[i=4, j=4] = [(-oo, +oo) ]

Etape 1, k = 4, i = 3, j = 2.
Contraintes :



Reseau =

    T[i=0, j=0] = [(-oo, +oo) ]
    T[i=0, j=1] = [(10, 20) ]
    T[i=0, j=2] = [(40, 60) ]
    T[i=0, j=3] = [(-oo, +oo) ]
    T[i=0, j=4] = [(-oo, +oo) ]
    T[i=1, j=0] = [(-oo, +oo) ]
    T[i=1, j=1] = [(-oo, +oo) ]
    T[i=1, j=2] = [(30, 40) ]
    T[i=1, j=3] = [(-oo, +oo) ]
    T[i=1, j=4] = [(-oo, +oo) ]
    T[i=2, j=0] = [(-oo, +oo) ]
    T[i=2, j=1] = [(-oo, +oo) ]
    T[i=2, j=2] = [(-oo, +oo) ]
    T[i=2, j=3] = [(-oo, +oo) ]
    T[i=2, j=4] = [(-oo, +oo) ]
    T[i=3, j=0] = [(80, 100) (100, 120) ]
    T[i=3, j=1] = [(90, 120) (110, 140) ]
    T[i=3, j=2] = [(10, 20) ]
    T[i=3, j=3] = [(-oo, +oo) ]
    T[i=3, j=4] = [(20, 30) (40, 50) ]
    T[i=4, j=0] = [(60, 70) ]
    T[i=4, j=1] = [(70, 90) ]
    T[i=4, j=2] = [(100, 130) ]
    T[i=4, j=3] = [(-oo, +oo) ]
</pre>
</div>
</div>

<div class="output_area">

    <div class="prompt output_prompt">Out[256]:</div>




<div class="output_text output_subarea output_execute_result">
<pre>- : reseauSTP * intervalles list =
([|[|[(MInf, PInf)]; [(E 10, E 20)]; [(E 40, E 60)]; [(MInf, PInf)];
     [(MInf, PInf)]|];
   [|[(MInf, PInf)]; [(MInf, PInf)]; [(E 30, E 40)]; [(MInf, PInf)];
     [(MInf, PInf)]|];
   [|[(MInf, PInf)]; [(MInf, PInf)]; [(MInf, PInf)]; [(MInf, PInf)];
     [(MInf, PInf)]|];
   [|[(E 80, E 100); (E 100, E 120)]; [(E 90, E 120); (E 110, E 140)]; 
     []; [(MInf, PInf)]; [(E 20, E 30); (E 40, E 50)]|];
   [|[(E 60, E 70)]; [(E 70, E 90)]; [(E 100, E 130)]; [(MInf, PInf)];
     [(MInf, PInf)]|]|],
 [[]; [(E 90, E 120); (E 110, E 140)]; [(E 80, E 100); (E 100, E 120)];
  [(MInf, PInf)]; [(MInf, PInf)]; [(MInf, PInf)]; [(MInf, PInf)];
  [(MInf, PInf)]; [(MInf, PInf)]; [(MInf, PInf)]; [(E 30, E 40)];
  [(MInf, PInf)]; [(MInf, PInf)]; [(MInf, PInf)]; [(MInf, PInf)];
  [(E ...); ...]; ...])
</pre>
</div>

</div>

</div>
</div>

</div>
<div class="cell border-box-sizing text_cell rendered"><div class="prompt input_prompt">
</div><div class="inner_cell">
<div class="text_cell_render border-box-sizing rendered_html">
<blockquote><p>Je ne suis pas sûr de comment interprêter ce résultat...</p>
<ul>
<li>soit j'ai fait une erreur dans l'implémentation,</li>
<li>soit l'algorithme PC devait ne rien modifier à $T$ sur cet exemple...</li>
</ul>
</blockquote>

</div>
</div>
</div>
<div class="cell border-box-sizing text_cell rendered"><div class="prompt input_prompt">
</div><div class="inner_cell">
<div class="text_cell_render border-box-sizing rendered_html">
<hr>
<h2 id="Conclusion">Conclusion<a class="anchor-link" href="#Conclusion">&#182;</a></h2><p>Voilà pour la question obligatoire de programmation :</p>
<ul>
<li>on a décomposé le problème en sous-fonctions,</li>
<li>on a essayé d'être fainéant, en réutilisant les sous-fonctions,</li>
<li>on a fait des exemples et <em>on les garde</em> dans ce qu'on présente au jury,</li>
<li>on a testé la fonction exigée sur de petits exemples et sur un exemple de taille réelle (venant du texte)</li>
</ul>
<p>Et on a essayé de faire <em>un peu plus</em>, en implémentant la vérification d'une contrainte de plus.</p>
<blockquote><p>Bien-sûr, ce petit notebook ne se prétend pas être une solution optimale, ni exhaustive.</p>
</blockquote>

</div>
</div>
</div>
 


    </div>
  </div>

  </div>


  
    <footer class="footer hidden-print">
      <div class="container">
        <div class="col-md-4">
          <p>
            This website does not host notebooks, it only renders notebooks
            available on other websites.
          </p>
        </div>

        <div class="col-md-4">
          <p>
            Delivered by <a href="https://www.fastly.com/">Fastly</a>,
            Rendered by <a href="https://developer.rackspace.com/?nbviewer=awesome">Rackspace</a>
          </p>
          <p>
            nbviewer GitHub <a href="https://github.com/jupyter/nbviewer">repository</a>.
          </p>
        </div>

        <div class="col-md-4">
          
  
            
              <p>
                nbviewer version:
                <a href="https://github.com/jupyter/nbviewer/commit/07b0e305b3254e2280b29f20ceb96c058db2f775">
                  07b0e30
                </a>
              </p>
            
          
  
  <p>
    nbconvert version: <a href="https://github.com/jupyter/nbconvert/releases/tag/5.6.0">
      5.6.0
    </a>
  </p>
  

          
  
  
  <p>
    Rendered
    <span class='date' data-date='Mon, 27 Jan 2020 13:30:55 UTC' title='Mon, 27 Jan 2020 13:30:55 UTC'>(Mon, 27 Jan 2020 13:30:55 UTC)</span>
  </p>
  

        </div>
      </div>
    </footer>
  

  <script src="/static/components/bootstrap/js/bootstrap.min.js?v=5869c96cc8f19086aee625d670d741f9"></script>
  <script src="/static/components/headroom.js/dist/headroom.min.js?v=b0a311ea668f8e768ea375f4a7abb81c"></script>
  <script src="/static/components/headroom.js/dist/jQuery.headroom.min.js?v=f3a1bae118315d0c234afc74dc6aab71"></script>

  
  
  <script>
    $(function(){ $("#menubar").headroom({
      tolerance: 5,
      offset: 205,
      classes: {
        initial: "animated",
        pinned: "slideInDown",
        unpinned: "slideOutUp"
      }
    })});
  </script>


  
  <script>
    (function(i,s,o,g,r,a,m){i['GoogleAnalyticsObject']=r;i[r]=i[r]||function(){
      (i[r].q=i[r].q||[]).push(arguments)},i[r].l=1*new Date();a=s.createElement(o),
      m=s.getElementsByTagName(o)[0];a.async=1;a.src=g;m.parentNode.insertBefore(a,m)
    })(window,document,'script','https://www.google-analytics.com/analytics.js','ga');
    ga('create', 'UA-52617120-5', 'auto',
       {'storage': 'none'});
    ga('set', 'anonymizeIp', true);
    ga('send', 'pageview');
  </script>
  
  <script>
    require({
        paths: {
          moment: "/static/components/moment/min/moment.min.js?v=89f87298ad94aa1e6b92f42eb66da043"
        }
      }, ["moment"], function(moment){
      var date = $("footer .date"),
        m = moment(new Date(date.data('date'))),
        update = function(){ date.text(m.fromNow()); };
      setInterval(update, 61*1000);
      update();
      var w = $(window).scroll(function(event){
        $("body").toggleClass("scrolled", w.scrollTop() > 0);
      });
    });
  </script>

  <!--NEW RELIC Stop Perf Measurement-->
  
  <!--NEW RELIC End-->
</body>
</html>