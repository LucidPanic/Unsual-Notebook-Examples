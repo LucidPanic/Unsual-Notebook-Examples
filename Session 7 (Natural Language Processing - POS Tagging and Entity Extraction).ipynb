{
 "metadata": {
  "name": "",
  "signature": "sha256:c167f8e007e7b07e315f10fb953533ca67e5926b1d52e3275d99a1ea38ce3694"
 },
 "nbformat": 3,
 "nbformat_minor": 0,
 "worksheets": [
  {
   "cells": [
    {
     "cell_type": "heading",
     "level": 2,
     "metadata": {},
     "source": [
      "Categorizing and Tagging Words"
     ]
    },
    {
     "cell_type": "markdown",
     "metadata": {},
     "source": [
      "Back in elementary school you learnt the difference between nouns, verbs, adjectives, and adverbs. These are  very useful categories for many language processing tasks. Our goals chapter is to answer the following questions:\n",
      "\n",
      "1. What are lexical categories and how are they used in natural language processing?\n",
      "2. What is a good Python data structure for storing words and their categories?\n",
      "3. How can we automatically tag each word of a text with its word class?\n",
      "\n",
      "The process of classifying words into their parts of speech and labeling them accordingly is known as part-of-speech tagging, POS-tagging, or simply tagging. \n"
     ]
    },
    {
     "cell_type": "heading",
     "level": 3,
     "metadata": {},
     "source": [
      "Using a POS tagger"
     ]
    },
    {
     "cell_type": "markdown",
     "metadata": {},
     "source": [
      "A part-of-speech tagger, or POS-tagger, processes a sequence of words, and attaches a part of speech tag to each word:"
     ]
    },
    {
     "cell_type": "code",
     "collapsed": false,
     "input": [
      "import nltk\n",
      "\n",
      "text = nltk.word_tokenize(\"And now for something completely different\")\n",
      "\n",
      "nltk.pos_tag(text)"
     ],
     "language": "python",
     "metadata": {},
     "outputs": [
      {
       "metadata": {},
       "output_type": "pyout",
       "prompt_number": 1,
       "text": [
        "[('And', 'CC'),\n",
        " ('now', 'RB'),\n",
        " ('for', 'IN'),\n",
        " ('something', 'NN'),\n",
        " ('completely', 'RB'),\n",
        " ('different', 'JJ')]"
       ]
      }
     ],
     "prompt_number": 1
    },
    {
     "cell_type": "markdown",
     "metadata": {},
     "source": [
      "Here we see that and is CC, a coordinating conjunction; now and completely are RB, or adverbs; for is IN, a preposition; something is NN, a noun; and different is JJ, an adjective.\n",
      "\n",
      "NLTK provides documentation for each tag, which can be queried using the tag, e.g. `nltk.help.upenn_tagset('RB')`, or a regular expression, e.g. `nltk.help.upenn_tagset('NN.*')`."
     ]
    },
    {
     "cell_type": "code",
     "collapsed": false,
     "input": [
      "nltk.help.upenn_tagset('RB')"
     ],
     "language": "python",
     "metadata": {},
     "outputs": [
      {
       "output_type": "stream",
       "stream": "stdout",
       "text": [
        "RB: adverb\n",
        "    occasionally unabatingly maddeningly adventurously professedly\n",
        "    stirringly prominently technologically magisterially predominately\n",
        "    swiftly fiscally pitilessly ...\n"
       ]
      }
     ],
     "prompt_number": 2
    },
    {
     "cell_type": "code",
     "collapsed": false,
     "input": [
      "nltk.help.upenn_tagset('JJ.*')"
     ],
     "language": "python",
     "metadata": {},
     "outputs": [
      {
       "output_type": "stream",
       "stream": "stdout",
       "text": [
        "JJ: adjective or numeral, ordinal\n",
        "    third ill-mannered pre-war regrettable oiled calamitous first separable\n",
        "    ectoplasmic battery-powered participatory fourth still-to-be-named\n",
        "    multilingual multi-disciplinary ...\n",
        "JJR: adjective, comparative\n",
        "    bleaker braver breezier briefer brighter brisker broader bumper busier\n",
        "    calmer cheaper choosier cleaner clearer closer colder commoner costlier\n",
        "    cozier creamier crunchier cuter ...\n",
        "JJS: adjective, superlative\n",
        "    calmest cheapest choicest classiest cleanest clearest closest commonest\n",
        "    corniest costliest crassest creepiest crudest cutest darkest deadliest\n",
        "    dearest deepest densest dinkiest ...\n"
       ]
      }
     ],
     "prompt_number": 3
    },
    {
     "cell_type": "markdown",
     "metadata": {},
     "source": [
      "Let's look at another example, this time including some **homonyms**:"
     ]
    },
    {
     "cell_type": "code",
     "collapsed": false,
     "input": [
      "text = nltk.word_tokenize(\"They refuse to permit us to obtain the refuse permit\")\n",
      "nltk.pos_tag(text)\n"
     ],
     "language": "python",
     "metadata": {},
     "outputs": [
      {
       "metadata": {},
       "output_type": "pyout",
       "prompt_number": 4,
       "text": [
        "[('They', 'PRP'),\n",
        " ('refuse', 'VBP'),\n",
        " ('to', 'TO'),\n",
        " ('permit', 'VB'),\n",
        " ('us', 'PRP'),\n",
        " ('to', 'TO'),\n",
        " ('obtain', 'VB'),\n",
        " ('the', 'DT'),\n",
        " ('refuse', 'NN'),\n",
        " ('permit', 'NN')]"
       ]
      }
     ],
     "prompt_number": 4
    },
    {
     "cell_type": "markdown",
     "metadata": {},
     "source": [
      "Notice that refuse and permit both appear as a present tense verb (VBP) and a noun (NN). E.g. refUSE is a verb meaning \"deny,\" while REFuse is a noun meaning \"trash\" (i.e. they are not homophones). Thus, we need to know which word is being used in order to pronounce the text correctly. (For this reason, text-to-speech systems usually perform POS-tagging.)\n",
      "\n",
      "See now how this information can be useful when trying to figure out the sense of a word in WordNet:"
     ]
    },
    {
     "cell_type": "code",
     "collapsed": false,
     "input": [
      "from nltk.corpus import wordnet as wn\n",
      "wn.synsets('refuse')"
     ],
     "language": "python",
     "metadata": {},
     "outputs": [
      {
       "metadata": {},
       "output_type": "pyout",
       "prompt_number": 5,
       "text": [
        "[Synset('garbage.n.01'),\n",
        " Synset('refuse.v.01'),\n",
        " Synset('refuse.v.02'),\n",
        " Synset('defy.v.02'),\n",
        " Synset('deny.v.04'),\n",
        " Synset('resist.v.05'),\n",
        " Synset('reject.v.06')]"
       ]
      }
     ],
     "prompt_number": 5
    },
    {
     "cell_type": "code",
     "collapsed": false,
     "input": [
      "senses = [(s.lemma_names(), s.definition(), s.examples()) for s in wn.synsets('refuse')]\n",
      "for s in senses:\n",
      "    print \"Lemma name:\", s[0]\n",
      "    print \"Definition:\", s[1]\n",
      "    print \"Examples  :\", s[2]\n",
      "    print \"=======================\""
     ],
     "language": "python",
     "metadata": {},
     "outputs": [
      {
       "output_type": "stream",
       "stream": "stdout",
       "text": [
        "Lemma name: [u'garbage', u'refuse', u'food_waste', u'scraps']\n",
        "Definition: food that is discarded (as from a kitchen)\n",
        "Examples  : []\n",
        "=======================\n",
        "Lemma name: [u'refuse', u'decline']\n",
        "Definition: show unwillingness towards\n",
        "Examples  : [u'he declined to join the group on a hike']\n",
        "=======================\n",
        "Lemma name: [u'refuse', u'reject', u'pass_up', u'turn_down', u'decline']\n",
        "Definition: refuse to accept\n",
        "Examples  : [u'He refused my offer of hospitality']\n",
        "=======================\n",
        "Lemma name: [u'defy', u'resist', u'refuse']\n",
        "Definition: elude, especially in a baffling way\n",
        "Examples  : [u'This behavior defies explanation']\n",
        "=======================\n",
        "Lemma name: [u'deny', u'refuse']\n",
        "Definition: refuse to let have\n",
        "Examples  : [u'She denies me every pleasure', u'he denies her her weekly allowance']\n",
        "=======================\n",
        "Lemma name: [u'resist', u'reject', u'refuse']\n",
        "Definition: resist immunologically the introduction of some foreign tissue or organ\n",
        "Examples  : [u'His body rejected the liver of the donor']\n",
        "=======================\n",
        "Lemma name: [u'reject', u'turn_down', u'turn_away', u'refuse']\n",
        "Definition: refuse entrance or membership\n",
        "Examples  : [u'They turned away hundreds of fans', u'Black people were often rejected by country clubs']\n",
        "=======================\n"
       ]
      }
     ],
     "prompt_number": 6
    },
    {
     "cell_type": "markdown",
     "metadata": {},
     "source": [
      "There is just one interpretation of _refuse_ that is a noun (garbage.n.01) and the most common interpretation of refuse as a verb means \"show unwillingness towards\" which is the correct interpretation in our context. "
     ]
    },
    {
     "cell_type": "markdown",
     "metadata": {},
     "source": [
      "#### Exercise\n",
      "\n",
      "Many words, like ski and race, can be used as nouns or verbs with no difference in pronunciation. Can you think of others? Now make up a sentence with both uses of this word, and run the POS-tagger on this sentence."
     ]
    },
    {
     "cell_type": "code",
     "collapsed": false,
     "input": [
      "# your code here\n",
      "raw = \"I plan on implementing my plan\"\n",
      "tokens = nltk.word_tokenize(raw)\n",
      "nltk.pos_tag(tokens)\n",
      "\n",
      "raw = \"You work now so that you can rest later\"\n",
      "tokens = nltk.word_tokenize(raw)\n",
      "nltk.pos_tag(tokens)\n",
      "\n",
      "raw = \"Buffalo buffalo Buffalo buffalo buffalo buffalo Buffalo buffalo\"\n",
      "tokens = nltk.word_tokenize(raw)\n",
      "nltk.pos_tag(tokens)"
     ],
     "language": "python",
     "metadata": {},
     "outputs": [
      {
       "metadata": {},
       "output_type": "pyout",
       "prompt_number": 8,
       "text": [
        "[('Buffalo', 'NNP'),\n",
        " ('buffalo', 'VBD'),\n",
        " ('Buffalo', 'NNP'),\n",
        " ('buffalo', 'NN'),\n",
        " ('buffalo', 'NN'),\n",
        " ('buffalo', 'NN'),\n",
        " ('Buffalo', 'NNP'),\n",
        " ('buffalo', 'NN')]"
       ]
      }
     ],
     "prompt_number": 8
    },
    {
     "cell_type": "heading",
     "level": 3,
     "metadata": {},
     "source": [
      "Representing Tagged Tokens"
     ]
    },
    {
     "cell_type": "markdown",
     "metadata": {},
     "source": [
      "By convention in NLTK, a tagged token is represented using a **tuple** consisting of the token and the tag. We can create one of these special tuples from the standard string representation of a tagged token, using the function str2tuple():"
     ]
    },
    {
     "cell_type": "code",
     "collapsed": false,
     "input": [
      "text = nltk.word_tokenize(\"They refuse to permit us to obtain the refuse permit\")\n",
      "tagged = nltk.pos_tag(text)\n",
      "tagged_token = tagged[0]\n",
      "\n",
      "print tagged_token\n",
      "print tagged_token[0]\n",
      "print tagged_token[1]"
     ],
     "language": "python",
     "metadata": {},
     "outputs": [
      {
       "output_type": "stream",
       "stream": "stdout",
       "text": [
        "('They', 'PRP')\n",
        "They\n",
        "PRP\n"
       ]
      }
     ],
     "prompt_number": 26
    },
    {
     "cell_type": "code",
     "collapsed": false,
     "input": [
      "print text\n",
      "tokens = [a for (a, b) in tagged]\n",
      "print tokens\n",
      "tags = [b for (a, b) in tagged]\n",
      "print tags\n",
      "fd = nltk.FreqDist(tags)\n",
      "print fd\n",
      "fd.tabulate()"
     ],
     "language": "python",
     "metadata": {},
     "outputs": [
      {
       "output_type": "stream",
       "stream": "stdout",
       "text": [
        "['They', 'refuse', 'to', 'permit', 'us', 'to', 'obtain', 'the', 'refuse', 'permit']\n",
        "['They', 'refuse', 'to', 'permit', 'us', 'to', 'obtain', 'the', 'refuse', 'permit']\n",
        "['PRP', 'VBP', 'TO', 'VB', 'PRP', 'TO', 'VB', 'DT', 'NN', 'NN']\n",
        "<FreqDist with 6 samples and 10 outcomes>\n",
        "  VB   NN   TO  PRP  VBP   DT \n",
        "   2    2    2    2    1    1 \n"
       ]
      }
     ],
     "prompt_number": 32
    },
    {
     "cell_type": "markdown",
     "metadata": {},
     "source": [
      "#### Exercise \n",
      "\n",
      "Load a text of your choice, tokenize it, and perform part of speech tagging on it. Then extract the nouns from the text, and perform a frequency anaysis, to identify the most common nouns in the text. (Warning: POS tagging takes a good amount of time when processing long texts, so try to select a text with less than 10K tokens, or simply perform POS tagging on the first 10K-20K tokens).\n",
      "\n",
      "Repeat the exercise for adjectives.\n",
      "\n",
      "PS: If you want to parse text from HTML without resorting to XPath expressions, you can use the \"BeautifulSoup\" library as follows:"
     ]
    },
    {
     "cell_type": "code",
     "collapsed": false,
     "input": [
      "from bs4 import BeautifulSoup\n",
      "import requests\n",
      "\n",
      "url = \"http://www.nytimes.com/2014/11/11/world/asia/obama-apec-china-hong-kong.html\"\n",
      "resp = requests.get(url)\n",
      "html = resp.text \n",
      "raw = BeautifulSoup(html).get_text()\n",
      "\n",
      "# The code below is to remove the junk that was extracted in addition to the article\n",
      "start = raw.index(u\"BEIJING  \u2014\")\n",
      "end = raw.index(u\"close story-body \")\n",
      "raw = raw[start:end]\n",
      "\n",
      "# Let's do the NLTK stuff\n",
      "tokens = nltk.word_tokenize(raw)\n",
      "tagged = nltk.pos_tag(text)"
     ],
     "language": "python",
     "metadata": {},
     "outputs": [],
     "prompt_number": 23
    },
    {
     "cell_type": "code",
     "collapsed": false,
     "input": [
      "# your code here"
     ],
     "language": "python",
     "metadata": {},
     "outputs": []
    },
    {
     "cell_type": "markdown",
     "metadata": {},
     "source": [
      "### Primitive sentiment analysis\n",
      "\n",
      "Adjectives are known to be the primary carriers of sentiment. So now let's pick a piece of text and identify the adjectives that appear in the text and their sentiment score. For that, we will use the  SentiWordNet, a lexical resource for opinion mining."
     ]
    },
    {
     "cell_type": "code",
     "collapsed": false,
     "input": [
      "# See http://www.nltk.org/_modules/nltk/corpus/reader/sentiwordnet.html for the documentation\n",
      "\n",
      "from nltk.corpus import sentiwordnet as swn\n",
      "print(swn.senti_synset('breakdown.n.03'))"
     ],
     "language": "python",
     "metadata": {},
     "outputs": [
      {
       "output_type": "stream",
       "stream": "stdout",
       "text": [
        "<breakdown.n.03: PosScore=0.0 NegScore=0.25>\n"
       ]
      }
     ],
     "prompt_number": 9
    },
    {
     "cell_type": "markdown",
     "metadata": {},
     "source": [
      "Now let's analyze a review text "
     ]
    },
    {
     "cell_type": "code",
     "collapsed": false,
     "input": [
      "# Amazon review for Samsung Galaxy S5, White 16GB\n",
      "# http://www.amazon.com/review/R3UULR1IWEUS4I/ref=cm_cr_dp_title?ie=UTF8&ASIN=B00IZ1X21K&nodeID=2335752011&store=wireless\n",
      "\n",
      "\n",
      "content = u'''\n",
      "First off, I am not a professional reviewer, nor am I employed or compensated by Samsung or any other company. Instead of boring you with facts - which you can find anywhere on the Net - I will just give you some real-world impressions on how it looks, feels, and runs. With that out of the way, let's get to the point and the nitty gritty, shall we?\n",
      "\n",
      "* THE SCREEN - that is the very first thing you will notice when you look at the S5. Samsung has found its niche with AMOLED screens, which are BRIGHT & SATURATED. Everything almost literally jumps out at you, and sometimes even too much so. I had to switch to the \"natural\" setting, as the \"vivid\" and even \"standard\" profiles are too saturated(and FAKE) for me. It's better as a demo unit to draw you in, but for everyday use, I recommend switching to the natural profile.\n",
      "FACTS: The Galaxy S5 has a 5.1-inch Super AMOLED capacitive touchscreen with Full HD resolution - 1080 x 1920 pixels or ~432 ppi pixel density, plus Gorilla Glass 3 to protect the screen from scratches.\n",
      "\n",
      "* The Look - the S5 has a more squared-off edges look than the S4, which is more squared off than the S3, but all three are not as angular as the S2. In terms of roundness-to square-ness, it goes from the S3 - S4 - S5 - S2 (the original S just looks like an iPhone 3GS). Check out my images for an easier comparison. The S5 is the tallest and widest, but not the thickest of the Galaxy S's. The best thing I can say about this is it's an evolution. Beauty is subjective, so judge for yourself. The front side is almost the same as any other Galaxy phone: You have the physical Home button, flanked by the \"back\" and \"menu\" capacitive buttons. Probably the most improved aspect of the design is in its functionality - it is now dust-proof, and water-proof up to 3 feet!\n",
      "FACTS: The dimensions are 5.59\" x 2.85\" x 0.32\"(142cm x 72.5cm x 8.1cm), and weighs 5.11oz(145g).\n",
      "\n",
      "* The Feel - Samsung has taken a lot of flack for making the Galaxy S line so cheap looking and feeling with its plastic bodies, for being the top Android phone maker. HTC has been known to have the best craftsmanship with their all-metal One phones. Perhaps Samsung feel they are so dominant that they don't have to spend more to mass-produce metal phones, but since they don't want to come off as too arrogant, so their compromise is a dimpled, faux-rubber backside like the Nexus 7(2012) and its very own Galaxy Note 3. It definitely gives a better feel - it doesn't slip and slide in your hands or pockets anymore - but it cannot compare to the feel and craftsmanship of the HTC One(both the m7 and m8). It is on the right track though, so let's hope that rumored luxury \"F\" line or next year's S6 will continue to get better.\n",
      "\n",
      "* How it Runs - This phone is fast, fast, FAST! With a 2.5gHz Snapdragon 801, it has the fastest processor out there right now. It terms of real speed, I cannot say if it is faster than the HTC One m8 or the Sony Xperia Z2, but it is definitely up there. When you touch an app icon to launch it, it launches nearly instantly. To really see how this phone flies, just open the gallery app and scroll through all your photos and you'll see what I mean. Usually the gallery is where most phones stutter as it tries to load all your photos and albums - but NOT the S5!\n",
      "\n",
      "* The Camera - FINALLY! Samsung has decided to make a decent camera, and not just as an afterthought. This 16mp camera is really awesome, so much better than the S4. I would always get washed out images with my S3/S4/Note 2, but with the S5, it actually looks like it's from a decent point-and-shoot dedicated camera with crisp, bright, and saturated images. Low-light shooting is also vastly improved, although not as good as the new HTC One m8. 16mp means 5312 x 2988 -resolution images, so you can actually blow them up or crop them down without fearing the dreaded pixelation monster. There are a myriad of other cool and useful camera features that I will save for you to find out(like macro and \"Google Street View\" modes :]). And lastly, the focus is quick, quick, QUICK! Nearly instantaneous focus allows you to capture those hard-to-capture moments easier. A definitely thumbs up to Samsung for paying attention to the camera and its functions.\n",
      "\n",
      "* Software - I'm still trying to figure out everything, as there is A LOT of stuff under the hood. Samsung's TouchWiz user interface this time around is A LOT less intrusive though, as much as can be without being totally stock Android, I guess. The layout and iconography are flatter and simpler, and for the better in my view. There is also a new sensor on the back, just beneath the camera lens. It is a heart-rate monitor/pedometer, and it comes with its own health app called S Health. There is a new battery-saving mode which can save you precious minutes when you're caught in a bind. All in all, I think this version is a lot nicer-looking, more responsive, and better than the precious S phones.\n",
      "\n",
      "The ultimate question is whether this phone is a worthy upgrade over the S4. As my review title suggests, it is an evolution, an incremental upgrade over the S4. So with that said I cannot whole-heartedly recommend it if you already have a good phone, or even over the S4. But I do feel this upgrade is more vast and much better than from the S3 to the S4, so in that sense Samsung has done a much better job this year. If you are switching from an older phone that was made at least 2 years ago, then I would tell you jump right in and try the S5 - it will not disappoint you. But for those with already a good phone, and/or say you just finished year one of your 2-year contract, then I would say think hard before you make the leap. For my money, I think the Note 4 and S6 will be the bigger upgrades more worth waiting for.\n",
      "'''"
     ],
     "language": "python",
     "metadata": {},
     "outputs": [],
     "prompt_number": 4
    },
    {
     "cell_type": "code",
     "collapsed": false,
     "input": [
      "tokens = nltk.word_tokenize(content)\n",
      "text = nltk.Text(tokens)\n",
      "tagged = nltk.pos_tag(tokens)\n",
      "print tagged"
     ],
     "language": "python",
     "metadata": {},
     "outputs": [
      {
       "output_type": "stream",
       "stream": "stdout",
       "text": [
        "[(u'First', 'NNP'), (u'off', 'IN'), (u',', ','), (u'I', 'PRP'), (u'am', 'VBP'), (u'not', 'RB'), (u'a', 'DT'), (u'professional', 'JJ'), (u'reviewer', 'NN'), (u',', ','), (u'nor', 'CC'), (u'am', 'VBP'), (u'I', 'PRP'), (u'employed', 'VBD'), (u'or', 'CC'), (u'compensated', 'VBN'), (u'by', 'IN'), (u'Samsung', 'NNP'), (u'or', 'CC'), (u'any', 'DT'), (u'other', 'JJ'), (u'company', 'NN'), (u'.', '.'), (u'Instead', 'NNP'), (u'of', 'IN'), (u'boring', 'VBG'), (u'you', 'PRP'), (u'with', 'IN'), (u'facts', 'NNS'), (u'-', ':'), (u'which', 'WDT'), (u'you', 'PRP'), (u'can', 'MD'), (u'find', 'VB'), (u'anywhere', 'RB'), (u'on', 'IN'), (u'the', 'DT'), (u'Net', 'NNP'), (u'-', ':'), (u'I', 'PRP'), (u'will', 'MD'), (u'just', 'RB'), (u'give', 'VB'), (u'you', 'PRP'), (u'some', 'DT'), (u'real-world', 'JJ'), (u'impressions', 'NNS'), (u'on', 'IN'), (u'how', 'WRB'), (u'it', 'PRP'), (u'looks', 'VBZ'), (u',', ','), (u'feels', 'VBZ'), (u',', ','), (u'and', 'CC'), (u'runs', 'VBZ'), (u'.', '.'), (u'With', 'IN'), (u'that', 'DT'), (u'out', 'IN'), (u'of', 'IN'), (u'the', 'DT'), (u'way', 'NN'), (u',', ','), (u'let', 'VB'), (u\"'s\", 'POS'), (u'get', 'NN'), (u'to', 'TO'), (u'the', 'DT'), (u'point', 'NN'), (u'and', 'CC'), (u'the', 'DT'), (u'nitty', 'NN'), (u'gritty', 'NN'), (u',', ','), (u'shall', 'MD'), (u'we', 'PRP'), (u'?', '.'), (u'*', '-NONE-'), (u'THE', 'DT'), (u'SCREEN', 'NNP'), (u'-', ':'), (u'that', 'IN'), (u'is', 'VBZ'), (u'the', 'DT'), (u'very', 'JJ'), (u'first', 'JJ'), (u'thing', 'NN'), (u'you', 'PRP'), (u'will', 'MD'), (u'notice', 'VB'), (u'when', 'WRB'), (u'you', 'PRP'), (u'look', 'VBP'), (u'at', 'IN'), (u'the', 'DT'), (u'S5', 'NNP'), (u'.', '.'), (u'Samsung', 'NNP'), (u'has', 'VBZ'), (u'found', 'VBN'), (u'its', 'PRP$'), (u'niche', 'NN'), (u'with', 'IN'), (u'AMOLED', 'NNP'), (u'screens', 'NNS'), (u',', ','), (u'which', 'WDT'), (u'are', 'VBP'), (u'BRIGHT', 'NNP'), (u'&', 'CC'), (u'SATURATED', 'NNP'), (u'.', '.'), (u'Everything', 'NNP'), (u'almost', 'RB'), (u'literally', 'RB'), (u'jumps', 'VBZ'), (u'out', 'RP'), (u'at', 'IN'), (u'you', 'PRP'), (u',', ','), (u'and', 'CC'), (u'sometimes', 'RB'), (u'even', 'RB'), (u'too', 'RB'), (u'much', 'RB'), (u'so', 'RB'), (u'.', '.'), (u'I', 'PRP'), (u'had', 'VBD'), (u'to', 'TO'), (u'switch', 'VB'), (u'to', 'TO'), (u'the', 'DT'), (u'``', '``'), (u'natural', 'JJ'), (u\"''\", \"''\"), (u'setting', 'VBG'), (u',', ','), (u'as', 'IN'), (u'the', 'DT'), (u'``', '``'), (u'vivid', 'JJ'), (u\"''\", \"''\"), (u'and', 'CC'), (u'even', 'RB'), (u'``', '``'), (u'standard', 'JJ'), (u\"''\", \"''\"), (u'profiles', 'NNS'), (u'are', 'VBP'), (u'too', 'RB'), (u'saturated', 'VBN'), (u'(', '-NONE-'), (u'and', 'CC'), (u'FAKE', 'NNP'), (u')', 'NNP'), (u'for', 'IN'), (u'me', 'PRP'), (u'.', '.'), (u'It', 'PRP'), (u\"'s\", 'VBZ'), (u'better', 'JJR'), (u'as', 'IN'), (u'a', 'DT'), (u'demo', 'NN'), (u'unit', 'NN'), (u'to', 'TO'), (u'draw', 'VB'), (u'you', 'PRP'), (u'in', 'IN'), (u',', ','), (u'but', 'CC'), (u'for', 'IN'), (u'everyday', 'NN'), (u'use', 'NN'), (u',', ','), (u'I', 'PRP'), (u'recommend', 'VBP'), (u'switching', 'VBG'), (u'to', 'TO'), (u'the', 'DT'), (u'natural', 'JJ'), (u'profile', 'NN'), (u'.', '.'), (u'FACTS', 'NNS'), (u':', ':'), (u'The', 'DT'), (u'Galaxy', 'NNP'), (u'S5', 'NNP'), (u'has', 'VBZ'), (u'a', 'DT'), (u'5.1-inch', 'JJ'), (u'Super', 'NNP'), (u'AMOLED', 'NNP'), (u'capacitive', 'JJ'), (u'touchscreen', 'NN'), (u'with', 'IN'), (u'Full', 'NNP'), (u'HD', 'NNP'), (u'resolution', 'NN'), (u'-', ':'), (u'1080', 'CD'), (u'x', 'NN'), (u'1920', 'CD'), (u'pixels', 'NNS'), (u'or', 'CC'), (u'~432', '-NONE-'), (u'ppi', 'NN'), (u'pixel', 'NN'), (u'density', 'NN'), (u',', ','), (u'plus', 'CC'), (u'Gorilla', 'NNP'), (u'Glass', 'NNP'), (u'3', 'CD'), (u'to', 'TO'), (u'protect', 'VB'), (u'the', 'DT'), (u'screen', 'NN'), (u'from', 'IN'), (u'scratches', 'NNS'), (u'.', '.'), (u'*', '-NONE-'), (u'The', 'DT'), (u'Look', 'NNP'), (u'-', ':'), (u'the', 'DT'), (u'S5', 'NNP'), (u'has', 'VBZ'), (u'a', 'DT'), (u'more', 'RBR'), (u'squared-off', 'JJ'), (u'edges', 'NNS'), (u'look', 'VBP'), (u'than', 'IN'), (u'the', 'DT'), (u'S4', 'NNP'), (u',', ','), (u'which', 'WDT'), (u'is', 'VBZ'), (u'more', 'RBR'), (u'squared', 'VBN'), (u'off', 'RP'), (u'than', 'IN'), (u'the', 'DT'), (u'S3', 'NNP'), (u',', ','), (u'but', 'CC'), (u'all', 'DT'), (u'three', 'CD'), (u'are', 'VBP'), (u'not', 'RB'), (u'as', 'IN'), (u'angular', 'JJ'), (u'as', 'IN'), (u'the', 'DT'), (u'S2', 'NNP'), (u'.', '.'), (u'In', 'NNP'), (u'terms', 'NNS'), (u'of', 'IN'), (u'roundness-to', 'JJ'), (u'square-ness', 'JJ'), (u',', ','), (u'it', 'PRP'), (u'goes', 'VBZ'), (u'from', 'IN'), (u'the', 'DT'), (u'S3', 'NNP'), (u'-', ':'), (u'S4', 'NNP'), (u'-', ':'), (u'S5', 'NNP'), (u'-', ':'), (u'S2', 'NNP'), (u'(', ':'), (u'the', 'DT'), (u'original', 'JJ'), (u'S', 'NNP'), (u'just', 'RB'), (u'looks', 'VBZ'), (u'like', 'IN'), (u'an', 'DT'), (u'iPhone', 'NNP'), (u'3GS', 'CD'), (u')', 'CD'), (u'.', '.'), (u'Check', 'NNP'), (u'out', 'IN'), (u'my', 'PRP$'), (u'images', 'NNS'), (u'for', 'IN'), (u'an', 'DT'), (u'easier', 'JJR'), (u'comparison', 'NN'), (u'.', '.'), (u'The', 'DT'), (u'S5', 'NNP'), (u'is', 'VBZ'), (u'the', 'DT'), (u'tallest', 'JJS'), (u'and', 'CC'), (u'widest', 'JJS'), (u',', ','), (u'but', 'CC'), (u'not', 'RB'), (u'the', 'DT'), (u'thickest', 'JJS'), (u'of', 'IN'), (u'the', 'DT'), (u'Galaxy', 'NNP'), (u'S', 'NNP'), (u\"'s\", 'POS'), (u'.', '.'), (u'The', 'DT'), (u'best', 'JJS'), (u'thing', 'NN'), (u'I', 'PRP'), (u'can', 'MD'), (u'say', 'VB'), (u'about', 'IN'), (u'this', 'DT'), (u'is', 'VBZ'), (u'it', 'PRP'), (u\"'s\", 'VBZ'), (u'an', 'DT'), (u'evolution', 'NN'), (u'.', '.'), (u'Beauty', 'NN'), (u'is', 'VBZ'), (u'subjective', 'JJ'), (u',', ','), (u'so', 'RB'), (u'judge', 'NN'), (u'for', 'IN'), (u'yourself', 'PRP'), (u'.', '.'), (u'The', 'DT'), (u'front', 'NN'), (u'side', 'NN'), (u'is', 'VBZ'), (u'almost', 'RB'), (u'the', 'DT'), (u'same', 'JJ'), (u'as', 'IN'), (u'any', 'DT'), (u'other', 'JJ'), (u'Galaxy', 'NNP'), (u'phone', 'NN'), (u':', ':'), (u'You', 'PRP'), (u'have', 'VBP'), (u'the', 'DT'), (u'physical', 'JJ'), (u'Home', 'NNP'), (u'button', 'NN'), (u',', ','), (u'flanked', 'VBD'), (u'by', 'IN'), (u'the', 'DT'), (u'``', '``'), (u'back', 'RB'), (u\"''\", \"''\"), (u'and', 'CC'), (u'``', '``'), (u'menu', 'NN'), (u\"''\", \"''\"), (u'capacitive', 'JJ'), (u'buttons', 'NNS'), (u'.', '.'), (u'Probably', 'RB'), (u'the', 'DT'), (u'most', 'RBS'), (u'improved', 'VBN'), (u'aspect', 'NN'), (u'of', 'IN'), (u'the', 'DT'), (u'design', 'NN'), (u'is', 'VBZ'), (u'in', 'IN'), (u'its', 'PRP$'), (u'functionality', 'NN'), (u'-', ':'), (u'it', 'PRP'), (u'is', 'VBZ'), (u'now', 'RB'), (u'dust-proof', 'JJ'), (u',', ','), (u'and', 'CC'), (u'water-proof', 'JJ'), (u'up', 'RP'), (u'to', 'TO'), (u'3', 'CD'), (u'feet', 'NNS'), (u'!', '.'), (u'FACTS', 'NNS'), (u':', ':'), (u'The', 'DT'), (u'dimensions', 'NNS'), (u'are', 'VBP'), (u'5.59', 'CD'), (u\"''\", \"''\"), (u'x', 'NN'), (u'2.85', 'CD'), (u\"''\", \"''\"), (u'x', 'NN'), (u'0.32', 'CD'), (u\"''\", \"''\"), (u'(', 'CD'), (u'142cm', 'CD'), (u'x', 'NN'), (u'72.5cm', 'CD'), (u'x', 'NN'), (u'8.1cm', 'CD'), (u')', 'CD'), (u',', ','), (u'and', 'CC'), (u'weighs', 'NNS'), (u'5.11oz', 'CD'), (u'(', 'CD'), (u'145g', 'CD'), (u')', 'CD'), (u'.', '.'), (u'*', '-NONE-'), (u'The', 'DT'), (u'Feel', 'NNP'), (u'-', ':'), (u'Samsung', 'NNP'), (u'has', 'VBZ'), (u'taken', 'VBN'), (u'a', 'DT'), (u'lot', 'NN'), (u'of', 'IN'), (u'flack', 'NN'), (u'for', 'IN'), (u'making', 'VBG'), (u'the', 'DT'), (u'Galaxy', 'NNP'), (u'S', 'NNP'), (u'line', 'NN'), (u'so', 'IN'), (u'cheap', 'NN'), (u'looking', 'VBG'), (u'and', 'CC'), (u'feeling', 'VBG'), (u'with', 'IN'), (u'its', 'PRP$'), (u'plastic', 'JJ'), (u'bodies', 'NNS'), (u',', ','), (u'for', 'IN'), (u'being', 'VBG'), (u'the', 'DT'), (u'top', 'JJ'), (u'Android', 'NNP'), (u'phone', 'NN'), (u'maker', 'NN'), (u'.', '.'), (u'HTC', 'NNP'), (u'has', 'VBZ'), (u'been', 'VBN'), (u'known', 'VBN'), (u'to', 'TO'), (u'have', 'VB'), (u'the', 'DT'), (u'best', 'JJS'), (u'craftsmanship', 'NN'), (u'with', 'IN'), (u'their', 'PRP$'), (u'all-metal', 'JJ'), (u'One', 'CD'), (u'phones', 'NNS'), (u'.', '.'), (u'Perhaps', 'RB'), (u'Samsung', 'NNP'), (u'feel', 'NN'), (u'they', 'PRP'), (u'are', 'VBP'), (u'so', 'RB'), (u'dominant', 'JJ'), (u'that', 'IN'), (u'they', 'PRP'), (u'do', 'VBP'), (u\"n't\", 'RB'), (u'have', 'VB'), (u'to', 'TO'), (u'spend', 'VB'), (u'more', 'JJR'), (u'to', 'TO'), (u'mass-produce', 'JJ'), (u'metal', 'NN'), (u'phones', 'NNS'), (u',', ','), (u'but', 'CC'), (u'since', 'IN'), (u'they', 'PRP'), (u'do', 'VBP'), (u\"n't\", 'RB'), (u'want', 'VB'), (u'to', 'TO'), (u'come', 'VB'), (u'off', 'RP'), (u'as', 'IN'), (u'too', 'RB'), (u'arrogant', 'JJ'), (u',', ','), (u'so', 'RB'), (u'their', 'PRP$'), (u'compromise', 'NN'), (u'is', 'VBZ'), (u'a', 'DT'), (u'dimpled', 'VBN'), (u',', ','), (u'faux-rubber', 'NNP'), (u'backside', 'NN'), (u'like', 'IN'), (u'the', 'DT'), (u'Nexus', 'NNP'), (u'7', 'CD'), (u'(', 'CD'), (u'2012', 'CD'), (u')', 'CD'), (u'and', 'CC'), (u'its', 'PRP$'), (u'very', 'JJ'), (u'own', 'JJ'), (u'Galaxy', 'NNP'), (u'Note', 'NNP'), (u'3', 'CD'), (u'.', '.'), (u'It', 'PRP'), (u'definitely', 'RB'), (u'gives', 'VBZ'), (u'a', 'DT'), (u'better', 'JJR'), (u'feel', 'NN'), (u'-', ':'), (u'it', 'PRP'), (u'does', 'VBZ'), (u\"n't\", 'RB'), (u'slip', 'VB'), (u'and', 'CC'), (u'slide', 'VB'), (u'in', 'IN'), (u'your', 'PRP$'), (u'hands', 'NNS'), (u'or', 'CC'), (u'pockets', 'NNS'), (u'anymore', 'VBP'), (u'-', ':'), (u'but', 'CC'), (u'it', 'PRP'), (u'can', 'MD'), (u'not', 'RB'), (u'compare', 'VB'), (u'to', 'TO'), (u'the', 'DT'), (u'feel', 'NN'), (u'and', 'CC'), (u'craftsmanship', 'NN'), (u'of', 'IN'), (u'the', 'DT'), (u'HTC', 'NNP'), (u'One', 'CD'), (u'(', 'CD'), (u'both', 'DT'), (u'the', 'DT'), (u'm7', 'NNP'), (u'and', 'CC'), (u'm8', 'NNP'), (u')', 'NNP'), (u'.', '.'), (u'It', 'PRP'), (u'is', 'VBZ'), (u'on', 'IN'), (u'the', 'DT'), (u'right', 'NN'), (u'track', 'NN'), (u'though', 'IN'), (u',', ','), (u'so', 'RB'), (u'let', 'VB'), (u\"'s\", 'POS'), (u'hope', 'NN'), (u'that', 'IN'), (u'rumored', 'VBN'), (u'luxury', 'NN'), (u'``', '``'), (u'F', 'NN'), (u\"''\", \"''\"), (u'line', 'NN'), (u'or', 'CC'), (u'next', 'JJ'), (u'year', 'NN'), (u\"'s\", 'POS'), (u'S6', 'NNP'), (u'will', 'MD'), (u'continue', 'VB'), (u'to', 'TO'), (u'get', 'VB'), (u'better', 'JJR'), (u'.', '.'), (u'*', '-NONE-'), (u'How', 'WRB'), (u'it', 'PRP'), (u'Runs', 'VBZ'), (u'-', ':'), (u'This', 'DT'), (u'phone', 'NN'), (u'is', 'VBZ'), (u'fast', 'VBN'), (u',', ','), (u'fast', 'RB'), (u',', ','), (u'FAST', 'NNP'), (u'!', '.'), (u'With', 'NNP'), (u'a', 'DT'), (u'2.5gHz', 'CD'), (u'Snapdragon', 'NNP'), (u'801', 'CD'), (u',', ','), (u'it', 'PRP'), (u'has', 'VBZ'), (u'the', 'DT'), (u'fastest', 'JJS'), (u'processor', 'NN'), (u'out', 'IN'), (u'there', 'EX'), (u'right', 'RB'), (u'now', 'RB'), (u'.', '.'), (u'It', 'PRP'), (u'terms', 'VBZ'), (u'of', 'IN'), (u'real', 'JJ'), (u'speed', 'NN'), (u',', ','), (u'I', 'PRP'), (u'can', 'MD'), (u'not', 'RB'), (u'say', 'VB'), (u'if', 'IN'), (u'it', 'PRP'), (u'is', 'VBZ'), (u'faster', 'JJR'), (u'than', 'IN'), (u'the', 'DT'), (u'HTC', 'NNP'), (u'One', 'CD'), (u'm8', 'NNP'), (u'or', 'CC'), (u'the', 'DT'), (u'Sony', 'NNP'), (u'Xperia', 'NNP'), (u'Z2', 'NNP'), (u',', ','), (u'but', 'CC'), (u'it', 'PRP'), (u'is', 'VBZ'), (u'definitely', 'RB'), (u'up', 'IN'), (u'there', 'EX'), (u'.', '.'), (u'When', 'WRB'), (u'you', 'PRP'), (u'touch', 'VBP'), (u'an', 'DT'), (u'app', 'NN'), (u'icon', 'NN'), (u'to', 'TO'), (u'launch', 'VB'), (u'it', 'PRP'), (u',', ','), (u'it', 'PRP'), (u'launches', 'VBZ'), (u'nearly', 'RB'), (u'instantly', 'RB'), (u'.', '.'), (u'To', 'TO'), (u'really', 'RB'), (u'see', 'VB'), (u'how', 'WRB'), (u'this', 'DT'), (u'phone', 'NN'), (u'flies', 'VBZ'), (u',', ','), (u'just', 'RB'), (u'open', 'JJ'), (u'the', 'DT'), (u'gallery', 'NN'), (u'app', 'NN'), (u'and', 'CC'), (u'scroll', 'NN'), (u'through', 'IN'), (u'all', 'DT'), (u'your', 'PRP$'), (u'photos', 'NNS'), (u'and', 'CC'), (u'you', 'PRP'), (u\"'ll\", 'MD'), (u'see', 'VB'), (u'what', 'WP'), (u'I', 'PRP'), (u'mean', 'VBP'), (u'.', '.'), (u'Usually', 'RB'), (u'the', 'DT'), (u'gallery', 'NN'), (u'is', 'VBZ'), (u'where', 'WRB'), (u'most', 'RBS'), (u'phones', 'NNS'), (u'stutter', 'NN'), (u'as', 'IN'), (u'it', 'PRP'), (u'tries', 'VBZ'), (u'to', 'TO'), (u'load', 'VB'), (u'all', 'DT'), (u'your', 'PRP$'), (u'photos', 'NNS'), (u'and', 'CC'), (u'albums', 'NNS'), (u'-', ':'), (u'but', 'CC'), (u'NOT', 'RB'), (u'the', 'DT'), (u'S5', 'NNP'), (u'!', '.'), (u'*', '-NONE-'), (u'The', 'DT'), (u'Camera', 'NNP'), (u'-', ':'), (u'FINALLY', 'NNP'), (u'!', '.'), (u'Samsung', 'NNP'), (u'has', 'VBZ'), (u'decided', 'VBN'), (u'to', 'TO'), (u'make', 'VB'), (u'a', 'DT'), (u'decent', 'NN'), (u'camera', 'NN'), (u',', ','), (u'and', 'CC'), (u'not', 'RB'), (u'just', 'RB'), (u'as', 'IN'), (u'an', 'DT'), (u'afterthought', 'NN'), (u'.', '.'), (u'This', 'DT'), (u'16mp', 'CD'), (u'camera', 'NN'), (u'is', 'VBZ'), (u'really', 'RB'), (u'awesome', 'VBN'), (u',', ','), (u'so', 'RB'), (u'much', 'RB'), (u'better', 'RBR'), (u'than', 'IN'), (u'the', 'DT'), (u'S4', 'NNP'), (u'.', '.'), (u'I', 'PRP'), (u'would', 'MD'), (u'always', 'RB'), (u'get', 'VB'), (u'washed', 'VBN'), (u'out', 'RP'), (u'images', 'NNS'), (u'with', 'IN'), (u'my', 'PRP$'), (u'S3/S4/Note', 'JJ'), (u'2', 'CD'), (u',', ','), (u'but', 'CC'), (u'with', 'IN'), (u'the', 'DT'), (u'S5', 'NNP'), (u',', ','), (u'it', 'PRP'), (u'actually', 'RB'), (u'looks', 'VBZ'), (u'like', 'IN'), (u'it', 'PRP'), (u\"'s\", 'VBZ'), (u'from', 'IN'), (u'a', 'DT'), (u'decent', 'NN'), (u'point-and-shoot', 'NN'), (u'dedicated', 'VBD'), (u'camera', 'NN'), (u'with', 'IN'), (u'crisp', 'NN'), (u',', ','), (u'bright', 'JJ'), (u',', ','), (u'and', 'CC'), (u'saturated', 'VBD'), (u'images', 'NNS'), (u'.', '.'), (u'Low-light', 'JJ'), (u'shooting', 'NN'), (u'is', 'VBZ'), (u'also', 'RB'), (u'vastly', 'RB'), (u'improved', 'VBN'), (u',', ','), (u'although', 'IN'), (u'not', 'RB'), (u'as', 'IN'), (u'good', 'JJ'), (u'as', 'IN'), (u'the', 'DT'), (u'new', 'JJ'), (u'HTC', 'NNP'), (u'One', 'CD'), (u'm8', 'NNP'), (u'.', '.'), (u'16mp', 'CD'), (u'means', 'NNS'), (u'5312', 'CD'), (u'x', 'NN'), (u'2988', 'CD'), (u'-resolution', 'NN'), (u'images', 'NNS'), (u',', ','), (u'so', 'RB'), (u'you', 'PRP'), (u'can', 'MD'), (u'actually', 'RB'), (u'blow', 'VB'), (u'them', 'PRP'), (u'up', 'RP'), (u'or', 'CC'), (u'crop', 'NN'), (u'them', 'PRP'), (u'down', 'IN'), (u'without', 'IN'), (u'fearing', 'VBG'), (u'the', 'DT'), (u'dreaded', 'JJ'), (u'pixelation', 'NN'), (u'monster', 'NN'), (u'.', '.'), (u'There', 'EX'), (u'are', 'VBP'), (u'a', 'DT'), (u'myriad', 'JJ'), (u'of', 'IN'), (u'other', 'JJ'), (u'cool', 'NN'), (u'and', 'CC'), (u'useful', 'JJ'), (u'camera', 'NN'), (u'features', 'NNS'), (u'that', 'WDT'), (u'I', 'PRP'), (u'will', 'MD'), (u'save', 'VB'), (u'for', 'IN'), (u'you', 'PRP'), (u'to', 'TO'), (u'find', 'VB'), (u'out', 'RP'), (u'(', ':'), (u'like', 'IN'), (u'macro', 'NN'), (u'and', 'CC'), (u'``', '``'), (u'Google', 'NNP'), (u'Street', 'NNP'), (u'View', 'NNP'), (u\"''\", \"''\"), (u'modes', 'VBZ'), (u':', ':'), (u']', ':'), (u')', ':'), (u'.', '.'), (u'And', 'CC'), (u'lastly', 'RB'), (u',', ','), (u'the', 'DT'), (u'focus', 'NN'), (u'is', 'VBZ'), (u'quick', 'JJ'), (u',', ','), (u'quick', 'JJ'), (u',', ','), (u'QUICK', 'NNP'), (u'!', '.'), (u'Nearly', 'NNP'), (u'instantaneous', 'NN'), (u'focus', 'NN'), (u'allows', 'VBZ'), (u'you', 'PRP'), (u'to', 'TO'), (u'capture', 'VB'), (u'those', 'DT'), (u'hard-to-capture', 'JJ'), (u'moments', 'NNS'), (u'easier', 'JJR'), (u'.', '.'), (u'A', 'DT'), (u'definitely', 'RB'), (u'thumbs', 'VBZ'), (u'up', 'RP'), (u'to', 'TO'), (u'Samsung', 'NNP'), (u'for', 'IN'), (u'paying', 'VBG'), (u'attention', 'NN'), (u'to', 'TO'), (u'the', 'DT'), (u'camera', 'NN'), (u'and', 'CC'), (u'its', 'PRP$'), (u'functions', 'NNS'), (u'.', '.'), (u'*', '-NONE-'), (u'Software', 'VB'), (u'-', ':'), (u'I', 'PRP'), (u\"'m\", 'VBP'), (u'still', 'RB'), (u'trying', 'VBG'), (u'to', 'TO'), (u'figure', 'VB'), (u'out', 'RP'), (u'everything', 'NN'), (u',', ','), (u'as', 'IN'), (u'there', 'EX'), (u'is', 'VBZ'), (u'A', 'DT'), (u'LOT', 'NN'), (u'of', 'IN'), (u'stuff', 'NN'), (u'under', 'IN'), (u'the', 'DT'), (u'hood', 'NN'), (u'.', '.'), (u'Samsung', 'NNP'), (u\"'s\", 'POS'), (u'TouchWiz', 'NNP'), (u'user', 'NN'), (u'interface', 'NN'), (u'this', 'DT'), (u'time', 'NN'), (u'around', 'RP'), (u'is', 'VBZ'), (u'A', 'DT'), (u'LOT', 'NN'), (u'less', 'RBR'), (u'intrusive', 'JJ'), (u'though', 'IN'), (u',', ','), (u'as', 'IN'), (u'much', 'JJ'), (u'as', 'IN'), (u'can', 'MD'), (u'be', 'VB'), (u'without', 'IN'), (u'being', 'VBG'), (u'totally', 'RB'), (u'stock', 'NN'), (u'Android', 'NNP'), (u',', ','), (u'I', 'PRP'), (u'guess', 'VBP'), (u'.', '.'), (u'The', 'DT'), (u'layout', 'NN'), (u'and', 'CC'), (u'iconography', 'NN'), (u'are', 'VBP'), (u'flatter', 'RBR'), (u'and', 'CC'), (u'simpler', 'NN'), (u',', ','), (u'and', 'CC'), (u'for', 'IN'), (u'the', 'DT'), (u'better', 'JJR'), (u'in', 'IN'), (u'my', 'PRP$'), (u'view', 'NN'), (u'.', '.'), (u'There', 'EX'), (u'is', 'VBZ'), (u'also', 'RB'), (u'a', 'DT'), (u'new', 'JJ'), (u'sensor', 'NN'), (u'on', 'IN'), (u'the', 'DT'), (u'back', 'NN'), (u',', ','), (u'just', 'RB'), (u'beneath', 'NN'), (u'the', 'DT'), (u'camera', 'NN'), (u'lens', 'NN'), (u'.', '.'), (u'It', 'PRP'), (u'is', 'VBZ'), (u'a', 'DT'), (u'heart-rate', 'JJ'), (u'monitor/pedometer', 'NN'), (u',', ','), (u'and', 'CC'), (u'it', 'PRP'), (u'comes', 'VBZ'), (u'with', 'IN'), (u'its', 'PRP$'), (u'own', 'JJ'), (u'health', 'NN'), (u'app', 'NN'), (u'called', 'VBN'), (u'S', 'NNP'), (u'Health', 'NNP'), (u'.', '.'), (u'There', 'EX'), (u'is', 'VBZ'), (u'a', 'DT'), (u'new', 'JJ'), (u'battery-saving', 'JJ'), (u'mode', 'NN'), (u'which', 'WDT'), (u'can', 'MD'), (u'save', 'VB'), (u'you', 'PRP'), (u'precious', 'JJ'), (u'minutes', 'NNS'), (u'when', 'WRB'), (u'you', 'PRP'), (u\"'re\", 'VBP'), (u'caught', 'VBN'), (u'in', 'IN'), (u'a', 'DT'), (u'bind', 'NN'), (u'.', '.'), (u'All', 'DT'), (u'in', 'IN'), (u'all', 'DT'), (u',', ','), (u'I', 'PRP'), (u'think', 'VBP'), (u'this', 'DT'), (u'version', 'NN'), (u'is', 'VBZ'), (u'a', 'DT'), (u'lot', 'NN'), (u'nicer-looking', 'NN'), (u',', ','), (u'more', 'RBR'), (u'responsive', 'JJ'), (u',', ','), (u'and', 'CC'), (u'better', 'JJR'), (u'than', 'IN'), (u'the', 'DT'), (u'precious', 'JJ'), (u'S', 'NNP'), (u'phones', 'NNS'), (u'.', '.'), (u'The', 'DT'), (u'ultimate', 'JJ'), (u'question', 'NN'), (u'is', 'VBZ'), (u'whether', 'IN'), (u'this', 'DT'), (u'phone', 'NN'), (u'is', 'VBZ'), (u'a', 'DT'), (u'worthy', 'JJ'), (u'upgrade', 'NN'), (u'over', 'IN'), (u'the', 'DT'), (u'S4', 'NNP'), (u'.', '.'), (u'As', 'NNP'), (u'my', 'PRP$'), (u'review', 'NN'), (u'title', 'NN'), (u'suggests', 'VBZ'), (u',', ','), (u'it', 'PRP'), (u'is', 'VBZ'), (u'an', 'DT'), (u'evolution', 'NN'), (u',', ','), (u'an', 'DT'), (u'incremental', 'JJ'), (u'upgrade', 'NN'), (u'over', 'IN'), (u'the', 'DT'), (u'S4', 'NNP'), (u'.', '.'), (u'So', 'RB'), (u'with', 'IN'), (u'that', 'DT'), (u'said', 'VBD'), (u'I', 'PRP'), (u'can', 'MD'), (u'not', 'RB'), (u'whole-heartedly', 'RB'), (u'recommend', 'VB'), (u'it', 'PRP'), (u'if', 'IN'), (u'you', 'PRP'), (u'already', 'RB'), (u'have', 'VBP'), (u'a', 'DT'), (u'good', 'JJ'), (u'phone', 'NN'), (u',', ','), (u'or', 'CC'), (u'even', 'RB'), (u'over', 'IN'), (u'the', 'DT'), (u'S4', 'NNP'), (u'.', '.'), (u'But', 'CC'), (u'I', 'PRP'), (u'do', 'VBP'), (u'feel', 'JJ'), (u'this', 'DT'), (u'upgrade', 'NN'), (u'is', 'VBZ'), (u'more', 'RBR'), (u'vast', 'JJ'), (u'and', 'CC'), (u'much', 'JJ'), (u'better', 'NN'), (u'than', 'IN'), (u'from', 'IN'), (u'the', 'DT'), (u'S3', 'NNP'), (u'to', 'TO'), (u'the', 'DT'), (u'S4', 'NNP'), (u',', ','), (u'so', 'RB'), (u'in', 'IN'), (u'that', 'DT'), (u'sense', 'NN'), (u'Samsung', 'NNP'), (u'has', 'VBZ'), (u'done', 'VBN'), (u'a', 'DT'), (u'much', 'RB'), (u'better', 'RBR'), (u'job', 'NN'), (u'this', 'DT'), (u'year', 'NN'), (u'.', '.'), (u'If', 'IN'), (u'you', 'PRP'), (u'are', 'VBP'), (u'switching', 'VBG'), (u'from', 'IN'), (u'an', 'DT'), (u'older', 'NN'), (u'phone', 'NN'), (u'that', 'WDT'), (u'was', 'VBD'), (u'made', 'VBN'), (u'at', 'IN'), (u'least', 'JJS'), (u'2', 'CD'), (u'years', 'NNS'), (u'ago', 'RB'), (u',', ','), (u'then', 'RB'), (u'I', 'PRP'), (u'would', 'MD'), (u'tell', 'VB'), (u'you', 'PRP'), (u'jump', 'VB'), (u'right', 'RB'), (u'in', 'IN'), (u'and', 'CC'), (u'try', 'NN'), (u'the', 'DT'), (u'S5', 'NNP'), (u'-', ':'), (u'it', 'PRP'), (u'will', 'MD'), (u'not', 'RB'), (u'disappoint', 'VB'), (u'you', 'PRP'), (u'.', '.'), (u'But', 'CC'), (u'for', 'IN'), (u'those', 'DT'), (u'with', 'IN'), (u'already', 'RB'), (u'a', 'DT'), (u'good', 'JJ'), (u'phone', 'NN'), (u',', ','), (u'and/or', 'JJ'), (u'say', 'NN'), (u'you', 'PRP'), (u'just', 'RB'), (u'finished', 'VBD'), (u'year', 'NN'), (u'one', 'CD'), (u'of', 'IN'), (u'your', 'PRP$'), (u'2-year', 'JJ'), (u'contract', 'NN'), (u',', ','), (u'then', 'RB'), (u'I', 'PRP'), (u'would', 'MD'), (u'say', 'VB'), (u'think', 'NN'), (u'hard', 'RB'), (u'before', 'IN'), (u'you', 'PRP'), (u'make', 'VBP'), (u'the', 'DT'), (u'leap', 'NN'), (u'.', '.'), (u'For', 'IN'), (u'my', 'PRP$'), (u'money', 'NN'), (u',', ','), (u'I', 'PRP'), (u'think', 'VBP'), (u'the', 'DT'), (u'Note', 'NNP'), (u'4', 'CD'), (u'and', 'CC'), (u'S6', 'NNP'), (u'will', 'MD'), (u'be', 'VB'), (u'the', 'DT'), (u'bigger', 'JJR'), (u'upgrades', 'NNS'), (u'more', 'JJR'), (u'worth', 'IN'), (u'waiting', 'VBG'), (u'for', 'IN'), (u'.', '.')]\n"
       ]
      }
     ],
     "prompt_number": 6
    },
    {
     "cell_type": "code",
     "collapsed": false,
     "input": [
      "# Let's keep the adjectives only\n",
      "adjectives = [w for (w,t) in tagged if t=='JJ' or t=='JJS' or t=='RB']\n",
      "print adjectives \n"
     ],
     "language": "python",
     "metadata": {},
     "outputs": [
      {
       "output_type": "stream",
       "stream": "stdout",
       "text": [
        "[u'not', u'professional', u'other', u'anywhere', u'just', u'real-world', u'very', u'first', u'almost', u'literally', u'sometimes', u'even', u'too', u'much', u'so', u'natural', u'vivid', u'even', u'standard', u'too', u'natural', u'5.1-inch', u'capacitive', u'squared-off', u'not', u'angular', u'roundness-to', u'square-ness', u'original', u'just', u'tallest', u'widest', u'not', u'thickest', u'best', u'subjective', u'so', u'almost', u'same', u'other', u'physical', u'back', u'capacitive', u'Probably', u'now', u'dust-proof', u'water-proof', u'plastic', u'top', u'best', u'all-metal', u'Perhaps', u'so', u'dominant', u\"n't\", u'mass-produce', u\"n't\", u'too', u'arrogant', u'so', u'very', u'own', u'definitely', u\"n't\", u'not', u'so', u'next', u'fast', u'fastest', u'right', u'now', u'real', u'not', u'definitely', u'nearly', u'instantly', u'really', u'just', u'open', u'Usually', u'NOT', u'not', u'just', u'really', u'so', u'much', u'always', u'S3/S4/Note', u'actually', u'bright', u'Low-light', u'also', u'vastly', u'not', u'good', u'new', u'so', u'actually', u'dreaded', u'myriad', u'other', u'useful', u'lastly', u'quick', u'quick', u'hard-to-capture', u'definitely', u'still', u'intrusive', u'much', u'totally', u'also', u'new', u'just', u'heart-rate', u'own', u'new', u'battery-saving', u'precious', u'responsive', u'precious', u'ultimate', u'worthy', u'incremental', u'So', u'not', u'whole-heartedly', u'already', u'good', u'even', u'feel', u'vast', u'much', u'so', u'much', u'least', u'ago', u'then', u'right', u'not', u'already', u'good', u'and/or', u'just', u'2-year', u'then', u'hard']\n"
       ]
      }
     ],
     "prompt_number": 7
    },
    {
     "cell_type": "code",
     "collapsed": false,
     "input": [
      "# Now we want to use WordNet and eliminate the words that do not appear in our lexicon\n",
      "# Since we do not have much of information for further disambiguation, we will keep only the \n",
      "# most popular interpretation (list element 0) if there are multiple ones\n",
      "resolved_adjectives = [(w, swn.senti_synsets(w, 'a')[0]) for w in adjectives if len(swn.senti_synsets(w, 'a'))>0]\n",
      "print resolved_adjectives"
     ],
     "language": "python",
     "metadata": {},
     "outputs": [
      {
       "output_type": "stream",
       "stream": "stdout",
       "text": [
        "[(u'professional', SentiSynset('professional.a.01')), (u'other', SentiSynset('other.a.01')), (u'first', SentiSynset('first.a.01')), (u'natural', SentiSynset('natural.a.01')), (u'standard', SentiSynset('standard.a.01')), (u'natural', SentiSynset('natural.a.01')), (u'capacitive', SentiSynset('capacitive.a.01')), (u'angular', SentiSynset('angular.a.01')), (u'original', SentiSynset('original.a.03')), (u'subjective', SentiSynset('subjective.a.01')), (u'same', SentiSynset('same.a.01')), (u'other', SentiSynset('other.a.01')), (u'physical', SentiSynset('physical.a.01')), (u'capacitive', SentiSynset('capacitive.a.01')), (u'top', SentiSynset('top.a.01')), (u'dominant', SentiSynset('dominant.a.01')), (u'real', SentiSynset('real.a.01')), (u'open', SentiSynset('open.a.01')), (u'bright', SentiSynset('bright.a.01')), (u'good', SentiSynset('good.a.01')), (u'new', SentiSynset('new.a.01')), (u'other', SentiSynset('other.a.01')), (u'useful', SentiSynset('useful.a.01')), (u'intrusive', SentiSynset('intrusive.a.01')), (u'much', SentiSynset('much.a.01')), (u'new', SentiSynset('new.a.01')), (u'new', SentiSynset('new.a.01')), (u'responsive', SentiSynset('responsive.a.01')), (u'ultimate', SentiSynset('ultimate.a.01')), (u'worthy', SentiSynset('worthy.a.01')), (u'good', SentiSynset('good.a.01')), (u'much', SentiSynset('much.a.01')), (u'good', SentiSynset('good.a.01'))]\n"
       ]
      }
     ],
     "prompt_number": 13
    },
    {
     "cell_type": "code",
     "collapsed": false,
     "input": [
      "# SentiWordNet assigns to each synset of WordNet three\n",
      "# sentiment scores: positivity, negativity, and objectivity.\n",
      "\n",
      "for (w,a) in resolved_adjectives:\n",
      "    print \"Word:\", w\n",
      "    print \"Synset:\", a\n",
      "    print \"Pos score:\",  a.pos_score()\n",
      "    print \"Neg score:\",  a.neg_score()\n",
      "    print \"Objectivity score:\",  a.obj_score()\n",
      "    print \"======================================\""
     ],
     "language": "python",
     "metadata": {},
     "outputs": [
      {
       "output_type": "stream",
       "stream": "stdout",
       "text": [
        "Word: professional\n",
        "Synset: <professional.a.01: PosScore=0.0 NegScore=0.0>\n",
        "Pos score: 0.0\n",
        "Neg score: 0.0\n",
        "Objectivity score: 1.0\n",
        "======================================\n",
        "Word: other\n",
        "Synset: <other.a.01: PosScore=0.0 NegScore=0.625>\n",
        "Pos score: 0.0\n",
        "Neg score: 0.625\n",
        "Objectivity score: 0.375\n",
        "======================================\n",
        "Word: first\n",
        "Synset: <first.a.01: PosScore=0.0 NegScore=0.0>\n",
        "Pos score: 0.0\n",
        "Neg score: 0.0\n",
        "Objectivity score: 1.0\n",
        "======================================\n",
        "Word: natural\n",
        "Synset: <natural.a.01: PosScore=0.25 NegScore=0.0>\n",
        "Pos score: 0.25\n",
        "Neg score: 0.0\n",
        "Objectivity score: 0.75\n",
        "======================================\n",
        "Word: standard\n",
        "Synset: <standard.a.01: PosScore=0.375 NegScore=0.375>\n",
        "Pos score: 0.375\n",
        "Neg score: 0.375\n",
        "Objectivity score: 0.25\n",
        "======================================\n",
        "Word: natural\n",
        "Synset: <natural.a.01: PosScore=0.25 NegScore=0.0>\n",
        "Pos score: 0.25\n",
        "Neg score: 0.0\n",
        "Objectivity score: 0.75\n",
        "======================================\n",
        "Word: capacitive\n",
        "Synset: <capacitive.a.01: PosScore=0.0 NegScore=0.0>\n",
        "Pos score: 0.0\n",
        "Neg score: 0.0\n",
        "Objectivity score: 1.0\n",
        "======================================\n",
        "Word: angular\n",
        "Synset: <angular.a.01: PosScore=0.0 NegScore=0.0>\n",
        "Pos score: 0.0\n",
        "Neg score: 0.0\n",
        "Objectivity score: 1.0\n",
        "======================================\n",
        "Word: original\n",
        "Synset: <original.a.03: PosScore=0.25 NegScore=0.0>\n",
        "Pos score: 0.25\n",
        "Neg score: 0.0\n",
        "Objectivity score: 0.75\n",
        "======================================\n",
        "Word: subjective\n",
        "Synset: <subjective.a.01: PosScore=0.0 NegScore=0.0>\n",
        "Pos score: 0.0\n",
        "Neg score: 0.0\n",
        "Objectivity score: 1.0\n",
        "======================================\n",
        "Word: same\n",
        "Synset: <same.a.01: PosScore=0.0 NegScore=0.0>\n",
        "Pos score: 0.0\n",
        "Neg score: 0.0\n",
        "Objectivity score: 1.0\n",
        "======================================\n",
        "Word: other\n",
        "Synset: <other.a.01: PosScore=0.0 NegScore=0.625>\n",
        "Pos score: 0.0\n",
        "Neg score: 0.625\n",
        "Objectivity score: 0.375\n",
        "======================================\n",
        "Word: physical\n",
        "Synset: <physical.a.01: PosScore=0.0 NegScore=0.0>\n",
        "Pos score: 0.0\n",
        "Neg score: 0.0\n",
        "Objectivity score: 1.0\n",
        "======================================\n",
        "Word: capacitive\n",
        "Synset: <capacitive.a.01: PosScore=0.0 NegScore=0.0>\n",
        "Pos score: 0.0\n",
        "Neg score: 0.0\n",
        "Objectivity score: 1.0\n",
        "======================================\n",
        "Word: top\n",
        "Synset: <top.a.01: PosScore=0.0 NegScore=0.0>\n",
        "Pos score: 0.0\n",
        "Neg score: 0.0\n",
        "Objectivity score: 1.0\n",
        "======================================\n",
        "Word: dominant\n",
        "Synset: <dominant.a.01: PosScore=0.0 NegScore=0.0>\n",
        "Pos score: 0.0\n",
        "Neg score: 0.0\n",
        "Objectivity score: 1.0\n",
        "======================================\n",
        "Word: real\n",
        "Synset: <real.a.01: PosScore=0.0 NegScore=0.0>\n",
        "Pos score: 0.0\n",
        "Neg score: 0.0\n",
        "Objectivity score: 1.0\n",
        "======================================\n",
        "Word: open\n",
        "Synset: <open.a.01: PosScore=0.0 NegScore=0.375>\n",
        "Pos score: 0.0\n",
        "Neg score: 0.375\n",
        "Objectivity score: 0.625\n",
        "======================================\n",
        "Word: bright\n",
        "Synset: <bright.a.01: PosScore=0.125 NegScore=0.0>\n",
        "Pos score: 0.125\n",
        "Neg score: 0.0\n",
        "Objectivity score: 0.875\n",
        "======================================\n",
        "Word: good\n",
        "Synset: <good.a.01: PosScore=0.75 NegScore=0.0>\n",
        "Pos score:"
       ]
      },
      {
       "output_type": "stream",
       "stream": "stdout",
       "text": [
        " 0.75\n",
        "Neg score: 0.0\n",
        "Objectivity score: 0.25\n",
        "======================================\n",
        "Word: new\n",
        "Synset: <new.a.01: PosScore=0.375 NegScore=0.0>\n",
        "Pos score: 0.375\n",
        "Neg score: 0.0\n",
        "Objectivity score: 0.625\n",
        "======================================\n",
        "Word: other\n",
        "Synset: <other.a.01: PosScore=0.0 NegScore=0.625>\n",
        "Pos score: 0.0\n",
        "Neg score: 0.625\n",
        "Objectivity score: 0.375\n",
        "======================================\n",
        "Word: useful\n",
        "Synset: <useful.a.01: PosScore=0.0 NegScore=0.0>\n",
        "Pos score: 0.0\n",
        "Neg score: 0.0\n",
        "Objectivity score: 1.0\n",
        "======================================\n",
        "Word: intrusive\n",
        "Synset: <intrusive.a.01: PosScore=0.125 NegScore=0.5>\n",
        "Pos score: 0.125\n",
        "Neg score: 0.5\n",
        "Objectivity score: 0.375\n",
        "======================================\n",
        "Word: much\n",
        "Synset: <much.a.01: PosScore=0.0 NegScore=0.0>\n",
        "Pos score: 0.0\n",
        "Neg score: 0.0\n",
        "Objectivity score: 1.0\n",
        "======================================\n",
        "Word: new\n",
        "Synset: <new.a.01: PosScore=0.375 NegScore=0.0>\n",
        "Pos score: 0.375\n",
        "Neg score: 0.0\n",
        "Objectivity score: 0.625\n",
        "======================================\n",
        "Word: new\n",
        "Synset: <new.a.01: PosScore=0.375 NegScore=0.0>\n",
        "Pos score: 0.375\n",
        "Neg score: 0.0\n",
        "Objectivity score: 0.625\n",
        "======================================\n",
        "Word: responsive\n",
        "Synset: <responsive.a.01: PosScore=0.0 NegScore=0.0>\n",
        "Pos score: 0.0\n",
        "Neg score: 0.0\n",
        "Objectivity score: 1.0\n",
        "======================================\n",
        "Word: ultimate\n",
        "Synset: <ultimate.a.01: PosScore=0.0 NegScore=0.125>\n",
        "Pos score: 0.0\n",
        "Neg score: 0.125\n",
        "Objectivity score: 0.875\n",
        "======================================\n",
        "Word: worthy\n",
        "Synset: <worthy.a.01: PosScore=0.875 NegScore=0.0>\n",
        "Pos score: 0.875\n",
        "Neg score: 0.0\n",
        "Objectivity score: 0.125\n",
        "======================================\n",
        "Word: good\n",
        "Synset: <good.a.01: PosScore=0.75 NegScore=0.0>\n",
        "Pos score: 0.75\n",
        "Neg score: 0.0\n",
        "Objectivity score: 0.25\n",
        "======================================\n",
        "Word: much\n",
        "Synset: <much.a.01: PosScore=0.0 NegScore=0.0>\n",
        "Pos score: 0.0\n",
        "Neg score: 0.0\n",
        "Objectivity score: 1.0\n",
        "======================================\n",
        "Word: good\n",
        "Synset: <good.a.01: PosScore=0.75 NegScore=0.0>\n",
        "Pos score: 0.75\n",
        "Neg score: 0.0\n",
        "Objectivity score: 0.25\n",
        "======================================\n"
       ]
      }
     ],
     "prompt_number": 14
    },
    {
     "cell_type": "code",
     "collapsed": false,
     "input": [
      "# But let's take a look at what we rejected\n",
      "rejected_adjectives = [w for w in adjectives if len(swn.senti_synsets(w, 'a'))==0]\n",
      "print rejected_adjectives\n"
     ],
     "language": "python",
     "metadata": {},
     "outputs": [
      {
       "output_type": "stream",
       "stream": "stdout",
       "text": [
        "[u'real-world', u'very', u'vivid', u'5.1-inch', u'squared-off', u'roundness-to', u'square-ness', u'dust-proof', u'water-proof', u'plastic', u'all-metal', u'mass-produce', u'arrogant', u'very', u'own', u'next', u'S3/S4/Note', u'Low-light', u'dreaded', u'myriad', u'quick', u'quick', u'hard-to-capture', u'heart-rate', u'own', u'battery-saving', u'precious', u'precious', u'incremental', u'feel', u'vast', u'and/or', u'2-year']\n"
       ]
      }
     ],
     "prompt_number": 15
    },
    {
     "cell_type": "markdown",
     "metadata": {},
     "source": [
      "Perhaps we would also like to figure out what the adjectives in the text refer to. "
     ]
    },
    {
     "cell_type": "code",
     "collapsed": false,
     "input": [
      "for i in range(0, len(tagged)):\n",
      "    current_word = tagged[i][0]\n",
      "    current_pos = tagged[i][1]\n",
      "    if current_pos == 'NN':\n",
      "        previous_word = tagged[i-1][0]\n",
      "        previous_pos = tagged[i-1][1]\n",
      "        if previous_pos == 'JJ':\n",
      "            print previous_word + \" \" + current_word"
     ],
     "language": "python",
     "metadata": {},
     "outputs": [
      {
       "output_type": "stream",
       "stream": "stdout",
       "text": [
        "professional reviewer\n",
        "other company\n",
        "first thing\n",
        "natural profile\n",
        "capacitive touchscreen\n",
        "mass-produce metal\n",
        "next year\n",
        "real speed\n",
        "Low-light shooting\n",
        "dreaded pixelation\n",
        "other cool\n",
        "useful camera\n",
        "new sensor\n",
        "heart-rate monitor/pedometer\n",
        "own health\n",
        "battery-saving mode\n",
        "ultimate question\n",
        "worthy upgrade\n",
        "incremental upgrade\n",
        "good phone\n",
        "much better\n",
        "good phone\n",
        "and/or say\n",
        "2-year contract\n"
       ]
      }
     ],
     "prompt_number": 16
    },
    {
     "cell_type": "markdown",
     "metadata": {},
     "source": [
      "#### Excercise 1\n",
      "\n",
      "Try a new text with this type of sentiment analysis. Let's figure out what works and what does not\n",
      "\n",
      "#### Exercise 2\n",
      "\n",
      "Instead of adjectives-nouns, we can instead use adverbs and verbs (e.g., \"works nicely\"). Let's modify the code above to extract patterns involving verbs and adverbs\n",
      "\n",
      "#### Exercise 3\n",
      "\n",
      "How can you modify the code to find more patterns, instead of just JJ-NN (adjective followed by noun)?"
     ]
    },
    {
     "cell_type": "markdown",
     "metadata": {},
     "source": [
      "### Named Entity Recognition\n",
      "\n",
      "Named entities are definite noun phrases that refer to specific types of individuals, such as organizations, persons, dates, and so on. Here is a list of some commonly used Named Entities:\n",
      " \n",
      "* ORGANIZATION\t(e.g., Georgia-Pacific Corp., WHO)\n",
      "* PERSON\t(e.g., Eddy Bonte, President Obama)\n",
      "* LOCATION\t(e.g., Murray River, Mount Everest)\n",
      "* DATE\t(e.g., June, 2008-06-29)\n",
      "* TIME\t(e.g., two fifty a m, 1:30 p.m.)\n",
      "* MONEY\t(e.g., 175 million Canadian Dollars, GBP 10.40)\n",
      "* PERCENT\t(e.g., twenty pct, 18.75 %)\n",
      "* FACILITY\t(e.g., Washington Monument, Stonehenge)\n",
      "* GPE\t(e.g., South East Asia, Midlothian)\n",
      "\n",
      "The goal of a named entity recognition (NER) system is to identify all textual mentions of the named entities. This can be broken down into two sub-tasks: identifying the boundaries of the NE, and identifying its type.\n",
      "\n",
      "NLTK provides a module that has already been trained to recognize named entities, accessed with the function nltk.ne_chunk(). If we set the parameter `binary=True`, then named entities are just tagged as NE; otherwise, the classifier adds category labels such as PERSON, ORGANIZATION, and GPE."
     ]
    },
    {
     "cell_type": "code",
     "collapsed": false,
     "input": [
      "raw = u'''\n",
      "BEIJING \u2014 President Obama appealed on Monday for official restraint in dealing with the pro-democracy demonstrations in Hong Kong, saying that while the United States did not necessarily agree with China about the dispute, it did not want to see the tensions in the city erupt into violence.\n",
      "\n",
      "Mr. Obama\u2019s carefully calibrated remarks were his first on the Hong Kong protests since arriving in Beijing earlier in the day. \u201cObviously, the situation between China and Hong Kong is historically complicated and is in the process of transition,\u201d Mr. Obama said.\n",
      "\n",
      "\u201cOur primary message has been to make sure violence is avoided,\u201d the president said, adding, \u201cWe don\u2019t expect China to follow an American model in every instance. But we\u2019re going to continue to have concerns about human rights.\u201d\n",
      "'''"
     ],
     "language": "python",
     "metadata": {},
     "outputs": [],
     "prompt_number": 54
    },
    {
     "cell_type": "code",
     "collapsed": false,
     "input": [
      "sentences = nltk.sent_tokenize(raw)\n",
      "sentences = [nltk.word_tokenize(sent) for sent in sentences]\n",
      "sentences = [nltk.pos_tag(sent) for sent in sentences]\n",
      "\n",
      "for sent in sentences:\n",
      "    named_entities = nltk.ne_chunk(sent, binary=False)\n",
      "    print named_entities"
     ],
     "language": "python",
     "metadata": {},
     "outputs": [
      {
       "output_type": "stream",
       "stream": "stdout",
       "text": [
        "(S\n",
        "  (GPE BEIJING/NNP)\n",
        "  \\u2014/:\n",
        "  President/NNP\n",
        "  (PERSON Obama/NNP)\n",
        "  appealed/VBD\n",
        "  on/IN\n",
        "  Monday/NNP\n",
        "  for/IN\n",
        "  official/NN\n",
        "  restraint/NN\n",
        "  in/IN\n",
        "  dealing/NN\n",
        "  with/IN\n",
        "  the/DT\n",
        "  pro-democracy/JJ\n",
        "  demonstrations/NNS\n",
        "  in/IN\n",
        "  (GPE Hong/NNP Kong/NNP)\n",
        "  ,/,\n",
        "  saying/VBG\n",
        "  that/IN\n",
        "  while/IN\n",
        "  the/DT\n",
        "  (GPE United/NNP States/NNPS)\n",
        "  did/VBD\n",
        "  not/RB\n",
        "  necessarily/RB\n",
        "  agree/VB\n",
        "  with/IN\n",
        "  (GPE China/NNP)\n",
        "  about/IN\n",
        "  the/DT\n",
        "  dispute/NN\n",
        "  ,/,\n",
        "  it/PRP\n",
        "  did/VBD\n",
        "  not/RB\n",
        "  want/VB\n",
        "  to/TO\n",
        "  see/VB\n",
        "  the/DT\n",
        "  tensions/NNS\n",
        "  in/IN\n",
        "  the/DT\n",
        "  city/NN\n",
        "  erupt/NN\n",
        "  into/IN\n",
        "  violence/NN\n",
        "  ./.)\n",
        "(S\n",
        "  (PERSON Mr./NNP)\n",
        "  Obama\\u2019s/NNP\n",
        "  carefully/RB\n",
        "  calibrated/VBD\n",
        "  remarks/NNS\n",
        "  were/VBD\n",
        "  his/PRP$\n",
        "  first/JJ\n",
        "  on/IN\n",
        "  the/DT\n",
        "  (GPE Hong/NNP Kong/NNP)\n",
        "  protests/NNS\n",
        "  since/IN\n",
        "  arriving/VBG\n",
        "  in/IN\n",
        "  (GPE Beijing/NNP)\n",
        "  earlier/RBR\n",
        "  in/IN\n",
        "  the/DT\n",
        "  day/NN\n",
        "  ./.)\n",
        "(S\n",
        "  \\u201cObviously/RB\n",
        "  ,/,\n",
        "  the/DT\n",
        "  situation/NN\n",
        "  between/IN\n",
        "  (GPE China/NNP)\n",
        "  and/CC\n",
        "  (GPE Hong/NNP Kong/NNP)\n",
        "  is/VBZ\n",
        "  historically/RB\n",
        "  complicated/VBN\n",
        "  and/CC\n",
        "  is/VBZ\n",
        "  in/IN\n",
        "  the/DT\n",
        "  process/NN\n",
        "  of/IN\n",
        "  transition/NN\n",
        "  ,/,\n",
        "  \\u201d/:\n",
        "  (PERSON Mr./NNP Obama/NNP)\n",
        "  said/VBD\n",
        "  ./.)"
       ]
      },
      {
       "output_type": "stream",
       "stream": "stdout",
       "text": [
        "\n",
        "(S\n",
        "  \\u201cOur/JJ\n",
        "  primary/JJ\n",
        "  message/NN\n",
        "  has/VBZ\n",
        "  been/VBN\n",
        "  to/TO\n",
        "  make/VB\n",
        "  sure/JJ\n",
        "  violence/NN\n",
        "  is/VBZ\n",
        "  avoided/VBN\n",
        "  ,/,\n",
        "  \\u201d/NNP\n",
        "  the/DT\n",
        "  president/NN\n",
        "  said/VBD\n",
        "  ,/,\n",
        "  adding/NN\n",
        "  ,/,\n",
        "  \\u201cWe/JJ\n",
        "  don\\u2019t/NN\n",
        "  expect/NN\n",
        "  (GPE China/NNP)\n",
        "  to/TO\n",
        "  follow/VB\n",
        "  an/DT\n",
        "  (GPE American/JJ)\n",
        "  model/NN\n",
        "  in/IN\n",
        "  every/DT\n",
        "  instance/NN\n",
        "  ./.)"
       ]
      },
      {
       "output_type": "stream",
       "stream": "stdout",
       "text": [
        "\n",
        "(S\n",
        "  But/CC\n",
        "  we\\u2019re/JJ\n",
        "  going/NN\n",
        "  to/TO\n",
        "  continue/VB\n",
        "  to/TO\n",
        "  have/VB\n",
        "  concerns/NNS\n",
        "  about/IN\n",
        "  human/JJ\n",
        "  rights.\\u201d/NN)\n"
       ]
      }
     ],
     "prompt_number": 55
    },
    {
     "cell_type": "code",
     "collapsed": false,
     "input": [],
     "language": "python",
     "metadata": {},
     "outputs": []
    }
   ],
   "metadata": {}
  }
 ]
}