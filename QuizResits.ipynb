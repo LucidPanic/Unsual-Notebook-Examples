{
 "cells": [
  {
   "cell_type": "markdown",
   "metadata": {},
   "source": [
    "# Quiz resits\n",
    "\n",
    "* For each quiz that you miss you do a resit.\n",
    "* A resit consists of making a notebook with model answers for a set of exercises from the NLTK book.\n",
    "\n",
    "## Form of the notebook\n",
    "\n",
    "* It starts with a markdown cell containing your name and studentid, and which NLTK exercises you make.\n",
    "* Then for each exercise (in the order given in the book), there is\n",
    "    * A Markdown cell containing \n",
    "        * A `###` header containing the Chapter number and the exercise number, like 3.11.\n",
    "        * the exact text of the question (you copied that from the HTML of the book).\n",
    "    * followed by a code cell in which you make the exercise\n",
    "    * folowed by an optional MarkDown cell in which you put comments.\n",
    "* Of course the complete notebook must run smoothly without any errors  and each cell produces the desired output.\n",
    "\n",
    "* You fail the resit if your notebook is not exactly of the above form.\n",
    "* You fail the resit if some of your answers are not helpful or understandable. Your answers should be so good that other students who are learning the material will find them a great help.\n",
    "\n",
    "### Possible Quiz resits\n",
    "\n",
    "1. NLTK Chap 1. Exercises 1-20\n",
    "1. NLTK Chap 1. Exercises 21-29\n",
    "1. NLTK Chap 3 exercises:\n",
    "    * 1-5: for slicing strings\n",
    "    * 6,7: for regex\n",
    "    * 8 (but use `requests` instead)\n",
    "    * 10\n",
    "    * 11\n",
    "    * 12\n",
    "1. NLTK chap 2: 1, 2, 4, 8, 17, 18, 21, 22\n"
   ]
  }
 ],
 "metadata": {
  "kernelspec": {
   "display_name": "Python 2",
   "language": "python",
   "name": "python2"
  },
  "language_info": {
   "codemirror_mode": {
    "name": "ipython",
    "version": 2
   },
   "file_extension": ".py",
   "mimetype": "text/x-python",
   "name": "python",
   "nbconvert_exporter": "python",
   "pygments_lexer": "ipython2",
   "version": "2.7.3"
  }
 },
 "nbformat": 4,
 "nbformat_minor": 0
}
