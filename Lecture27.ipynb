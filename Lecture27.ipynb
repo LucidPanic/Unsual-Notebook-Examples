{
 "cells": [
  {
   "cell_type": "markdown",
   "metadata": {},
   "source": [
    "# Lecture 27\n",
    "\n",
    "\n",
    "### More on eigenvalues --- Olver and Shakiban 8.3"
   ]
  },
  {
   "cell_type": "markdown",
   "metadata": {
    "slideshow": {
     "slide_type": "slide"
    }
   },
   "source": [
    "## Complex eigenvalues"
   ]
  },
  {
   "cell_type": "code",
   "execution_count": 1,
   "metadata": {},
   "outputs": [
    {
     "name": "stdout",
     "output_type": "stream",
     "text": [
      "\n",
      "ans =\n",
      "\n",
      "   0.0000 + 1.0000i\n",
      "   0.0000 - 1.0000i\n",
      "\n"
     ]
    }
   ],
   "source": [
    "A = [0, 1;-1,0];\n",
    "eig(A)"
   ]
  },
  {
   "cell_type": "code",
   "execution_count": 2,
   "metadata": {},
   "outputs": [
    {
     "name": "stdout",
     "output_type": "stream",
     "text": [
      "\n",
      "V =\n",
      "\n",
      "   0.7071 + 0.0000i   0.7071 + 0.0000i\n",
      "   0.0000 + 0.7071i   0.0000 - 0.7071i\n",
      "\n",
      "\n",
      "D =\n",
      "\n",
      "   0.0000 + 1.0000i   0.0000 + 0.0000i\n",
      "   0.0000 + 0.0000i   0.0000 - 1.0000i\n",
      "\n"
     ]
    }
   ],
   "source": [
    "[V,D] = eig(A)"
   ]
  },
  {
   "cell_type": "code",
   "execution_count": 3,
   "metadata": {},
   "outputs": [
    {
     "name": "stdout",
     "output_type": "stream",
     "text": [
      "\n",
      "ans =\n",
      "\n",
      "     0\n",
      "     0\n",
      "\n"
     ]
    }
   ],
   "source": [
    "A*V(:,1) - D(1,1)*V(:,1)"
   ]
  },
  {
   "cell_type": "code",
   "execution_count": 4,
   "metadata": {},
   "outputs": [
    {
     "name": "stdout",
     "output_type": "stream",
     "text": [
      "\n",
      "ans =\n",
      "\n",
      "     0\n",
      "     0\n",
      "\n"
     ]
    }
   ],
   "source": [
    "A*V(:,2) - D(2,2)*V(:,2)"
   ]
  },
  {
   "cell_type": "markdown",
   "metadata": {},
   "source": [
    "## Gershgorin Circle Theorem\n",
    "\n",
    "Let $A$ be an $n\\times n$ matrix and let $D_i$ denote the circle in the complex plane $\\mathbb C$ with center $a_{ii}$ and radius $\\sum_{j\\neq i} |a_{ij}|$:\n",
    "\n",
    "$$D_i = \\left\\{ z \\in \\mathbb C : |z-a_{ii}| \\leq \\sum_{j \\neq i} |a_{ij}| \\right\\}.$$\n",
    "\n",
    "Then all of the eigenvalues of $A$ are contained in the union $D_A = \\bigcup_i D_i$."
   ]
  },
  {
   "cell_type": "code",
   "execution_count": 7,
   "metadata": {},
   "outputs": [
    {
     "data": {
      "image/png": "[encoded data removed]",
      "text/plain": [
       "<IPython.core.display.Image object>"
      ]
     },
     "metadata": {},
     "output_type": "display_data"
    }
   ],
   "source": [
    "hold on\n",
    "%A = [10 2 3 1; 1 -3 1 -1; -1 -3 -1 4; 2 2 2 5];\n",
    "%A = rand(10)-1/2; A = A + 1j*(rand(10)-1/2);\n",
    "A = [4,.1,1;0,.2,1;-.1,0,9];\n",
    "for i = 1:length(A)\n",
    "    a = A(i,i); r = norm(A(i,:),1)-abs(a);\n",
    "    theta = linspace(0,2*pi,100);\n",
    "    x = r*cos(theta); y = r*sin(theta);\n",
    "    plot(x+real(a),y + imag(a),'k')\n",
    "end\n",
    "lambda = eigs(A);\n",
    "plot(real(lambda),imag(lambda),'*')"
   ]
  },
  {
   "cell_type": "code",
   "execution_count": null,
   "metadata": {},
   "outputs": [],
   "source": []
  }
 ],
 "metadata": {
  "kernelspec": {
   "display_name": "Matlab",
   "language": "matlab",
   "name": "matlab"
  },
  "language_info": {
   "codemirror_mode": "octave",
   "file_extension": ".m",
   "help_links": [
    {
     "text": "MetaKernel Magics",
     "url": "https://metakernel.readthedocs.io/en/latest/source/README.html"
    }
   ],
   "mimetype": "text/x-octave",
   "name": "matlab",
   "version": "0.16.7"
  }
 },
 "nbformat": 4,
 "nbformat_minor": 2
}
