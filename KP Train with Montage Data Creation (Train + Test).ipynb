{
 "cells": [
  {
   "cell_type": "code",
   "execution_count": 24,
   "metadata": {
    "collapsed": false,
    "deletable": true,
    "editable": true
   },
   "outputs": [],
   "source": [
    "import random\n",
    "import string\n",
    "\n",
    "with open(\"montage_data_test.json\", \"r\") as f:\n",
    "    import json\n",
    "    test_data = json.load(f)"
   ]
  },
  {
   "cell_type": "code",
   "execution_count": 25,
   "metadata": {
    "collapsed": false,
    "deletable": true,
    "editable": true
   },
   "outputs": [],
   "source": [
    "with open(\"montage_train_data.json\", \"r\") as f:\n",
    "    import json\n",
    "    train_data = json.load(f)"
   ]
  },
  {
   "cell_type": "code",
   "execution_count": 26,
   "metadata": {
    "collapsed": false
   },
   "outputs": [],
   "source": [
    "selected_questions = [\n",
    "\t'How many people are there?',\n",
    "\t'Is it raining?',\n",
    "\t'What are the people doing?',\n",
    "\t'What color is the umbrella?',\n",
    "\t'What kind of animal is this?',\n",
    "\t'What room is this?',\n",
    "\t'What time is it?',\n",
    "]\n",
    "\n",
    "final_data = []\n",
    "\n",
    "for question in selected_questions:\n",
    "    temp_train_data = []\n",
    "    temp_test_data = []\n",
    "\n",
    "    relevant_test_data = [x for x in test_data if x['question'] == question]\n",
    "\n",
    "    for k,v in train_data.iteritems():\n",
    "        if k == question:\n",
    "            answers = v['ansorder']\n",
    "            images = v['imorder']\n",
    "            for answer, image in zip(answers, images):\n",
    "                temp = {}\n",
    "                temp['question'] = k\n",
    "                temp['question_id'] = ''.join(random.choice(string.lowercase) for i in range(10))\n",
    "                temp['split'] = \"test\"\n",
    "                temp['image_id'] = image\n",
    "                temp['vicki_answer'] = answer\n",
    "                temp_train_data.append(temp)\n",
    "\n",
    "    final_data.extend(temp_train_data)\n",
    "\n",
    "    for i in test_data:\n",
    "        if i['datasplit'] == \"test\":\n",
    "            temp = {}\n",
    "            temp['question'] = i['question']\n",
    "            temp['question_id'] = i['question_id']\n",
    "            temp['split'] = \"test\"\n",
    "            temp['image_id'] = i['image_name']\n",
    "            temp['vicki_answer'] = i['answer']\n",
    "            temp_test_data.append(temp)\n",
    "\n",
    "    final_data.extend(temp_test_data)\n",
    "            "
   ]
  },
  {
   "cell_type": "code",
   "execution_count": 27,
   "metadata": {
    "collapsed": true
   },
   "outputs": [],
   "source": [
    "with open(\"montage_final_data.json\", \"w+\") as f:\n",
    "    json.dump(final_data, f)"
   ]
  },
  {
   "cell_type": "code",
   "execution_count": null,
   "metadata": {
    "collapsed": true
   },
   "outputs": [],
   "source": []
  }
 ],
 "metadata": {
  "kernelspec": {
   "display_name": "Python 2",
   "language": "python",
   "name": "python2"
  },
  "language_info": {
   "codemirror_mode": {
    "name": "ipython",
    "version": 2
   },
   "file_extension": ".py",
   "mimetype": "text/x-python",
   "name": "python",
   "nbconvert_exporter": "python",
   "pygments_lexer": "ipython2",
   "version": "2.7.10"
  }
 },
 "nbformat": 4,
 "nbformat_minor": 2
}
