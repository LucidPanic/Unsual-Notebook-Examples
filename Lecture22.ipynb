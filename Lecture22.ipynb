{
 "cells": [
  {
   "cell_type": "markdown",
   "metadata": {},
   "source": [
    "# Lecture 22\n",
    "\n",
    "\n",
    "### Olver and Shakiban 4.3 --- using a different method"
   ]
  },
  {
   "cell_type": "markdown",
   "metadata": {},
   "source": [
    "## Using Householder reflections to put A in upper-triangular form"
   ]
  },
  {
   "cell_type": "code",
   "execution_count": 78,
   "metadata": {},
   "outputs": [
    {
     "name": "stdout",
     "output_type": "stream",
     "text": [
      "\n",
      "R =\n",
      "\n",
      "   -2.0518    0.2820   -0.2991\n",
      "   -0.3538    0.0335    0.0229\n",
      "   -0.8236   -1.3337   -0.2620\n",
      "   -1.5771    1.1275   -1.7502\n",
      "    0.5080    0.3502   -0.2857\n",
      "\n"
     ]
    }
   ],
   "source": [
    "A = randn(5,3); R = A"
   ]
  },
  {
   "cell_type": "code",
   "execution_count": 79,
   "metadata": {},
   "outputs": [
    {
     "name": "stdout",
     "output_type": "stream",
     "text": [
      "\n",
      "R =\n",
      "\n",
      "    2.7854   -0.3921    1.2337\n",
      "    0.0000   -0.0158    0.1350\n",
      "         0   -1.4485   -0.0010\n",
      "   -0.0000    0.9077   -1.2505\n",
      "         0    0.4210   -0.4466\n",
      "\n"
     ]
    }
   ],
   "source": [
    "x = R(1:end,1);\n",
    "w = x; w(1) = x(1) + sign(x(1))*norm(x);\n",
    "w = w/norm(w);\n",
    "R(1:end,1:end) = R(1:end,1:end) - 2*w*(w'*R(1:end,1:end)) % using (1:end,1:end) is unnecessary\n",
    "% but it helps to see the pattern"
   ]
  },
  {
   "cell_type": "code",
   "execution_count": 80,
   "metadata": {},
   "outputs": [
    {
     "name": "stdout",
     "output_type": "stream",
     "text": [
      "\n",
      "R =\n",
      "\n",
      "    2.7854   -0.3921    1.2337\n",
      "    0.0000    1.7605   -0.7519\n",
      "         0    0.0000   -0.7242\n",
      "   -0.0000   -0.0000   -0.7973\n",
      "         0   -0.0000   -0.2364\n",
      "\n"
     ]
    }
   ],
   "source": [
    "x = R(2:end,2);\n",
    "w = x; w(1) = x(1) + sign(x(1))*norm(x);\n",
    "w = w/norm(w);\n",
    "R(2:end,2:end) = R(2:end,2:end) - 2*w*(w'*R(2:end,2:end))"
   ]
  },
  {
   "cell_type": "code",
   "execution_count": 81,
   "metadata": {},
   "outputs": [
    {
     "name": "stdout",
     "output_type": "stream",
     "text": [
      "\n",
      "R =\n",
      "\n",
      "    2.7854   -0.3921    1.2337\n",
      "    0.0000    1.7605   -0.7519\n",
      "         0    0.0000    1.1028\n",
      "   -0.0000   -0.0000    0.0000\n",
      "         0   -0.0000    0.0000\n",
      "\n"
     ]
    }
   ],
   "source": [
    "x = R(3:end,3);\n",
    "w = x; w(1) = x(1) + sign(x(1))*norm(x);\n",
    "w = w/norm(w);\n",
    "R(3:end,3:end) = R(3:end,3:end) - 2*w*(w'*R(3:end,3:end))"
   ]
  },
  {
   "cell_type": "markdown",
   "metadata": {},
   "source": [
    "At the end of this, $A$ is in upper-triangular form.  This is the $R$ in the $A = QR$ factorization.  That is, we've found a way to apply $Q^T = Q^{-1}$ to $A$ to get $Q^TA = R$.  To understand how to construct $Q$ we have think about what we are doing at each stage.\n",
    "\n",
    "Start with $Q_0 = I$ and $R_0 = A$.  Then\n",
    "\n",
    "$$A = Q_0 R_0 = Q_0 H_1^T H_1 R_0$$\n",
    "\n",
    "where $H_1$ is the Householder reflection constructed based on the first column of $R_0$.  And, we have used that $H_1$ is an orthogonal matrix, $H_1^T H_1 = I$.  But let's look at $H_1$ closer:"
   ]
  },
  {
   "cell_type": "code",
   "execution_count": 82,
   "metadata": {},
   "outputs": [
    {
     "name": "stdout",
     "output_type": "stream",
     "text": [
      "\n",
      "H1 =\n",
      "\n",
      "   -0.7366   -0.1270   -0.2957   -0.5662    0.1824\n",
      "   -0.1270    0.9907   -0.0216   -0.0414    0.0133\n",
      "   -0.2957   -0.0216    0.9497   -0.0964    0.0311\n",
      "   -0.5662   -0.0414   -0.0964    0.8154    0.0595\n",
      "    0.1824    0.0133    0.0311    0.0595    0.9808\n",
      "\n"
     ]
    }
   ],
   "source": [
    "R = A;\n",
    "x = R(1:end,1);\n",
    "w = x; w(1) = x(1) + sign(x(1))*norm(x);\n",
    "w = w/norm(w);\n",
    "H1 = eye(length(x)) - 2*w*w'"
   ]
  },
  {
   "cell_type": "code",
   "execution_count": 83,
   "metadata": {},
   "outputs": [
    {
     "name": "stdout",
     "output_type": "stream",
     "text": [
      "\n",
      "ans =\n",
      "\n",
      "     0     0     0     0     0\n",
      "     0     0     0     0     0\n",
      "     0     0     0     0     0\n",
      "     0     0     0     0     0\n",
      "     0     0     0     0     0\n",
      "\n"
     ]
    }
   ],
   "source": [
    "H1' - H1"
   ]
  },
  {
   "cell_type": "markdown",
   "metadata": {},
   "source": [
    "We see that $H_1 = H_1^T$ is symmetric, so that $H_1 = H_1^{-1}$.  This is why these are called reflections.  If you reflect, and reflect again, you should be back where you started.\n",
    "\n",
    "So, \n",
    "\n",
    "$$A = Q_0 R_0 = Q_0 H_1^T H_1 R_0 = (Q_0 H_1) (H_1 R_0)$$.\n",
    "\n",
    "As before, the following computes $H_1 R_0$ to get $R_1$:"
   ]
  },
  {
   "cell_type": "code",
   "execution_count": 84,
   "metadata": {},
   "outputs": [
    {
     "name": "stdout",
     "output_type": "stream",
     "text": [
      "\n",
      "R =\n",
      "\n",
      "    2.7854   -0.3921    1.2337\n",
      "    0.0000   -0.0158    0.1350\n",
      "         0   -1.4485   -0.0010\n",
      "   -0.0000    0.9077   -1.2505\n",
      "         0    0.4210   -0.4466\n",
      "\n"
     ]
    }
   ],
   "source": [
    "R = A;\n",
    "x = R(1:end,1);\n",
    "w = x; w(1) = x(1) + sign(x(1))*norm(x);\n",
    "w = w/norm(w);\n",
    "R(1:end,1:end) = R(1:end,1:end) - 2*w*(w'*R(1:end,1:end)) % Applies H1 to R"
   ]
  },
  {
   "cell_type": "markdown",
   "metadata": {},
   "source": [
    "To compute $Q_0 H_1$, we note that $Q_0$ is the identity matrix:"
   ]
  },
  {
   "cell_type": "code",
   "execution_count": 85,
   "metadata": {},
   "outputs": [
    {
     "name": "stdout",
     "output_type": "stream",
     "text": [
      "\n",
      "Q =\n",
      "\n",
      "   -0.7366   -0.1270   -0.2957   -0.5662    0.1824\n",
      "   -0.1270    0.9907   -0.0216   -0.0414    0.0133\n",
      "   -0.2957   -0.0216    0.9497   -0.0964    0.0311\n",
      "   -0.5662   -0.0414   -0.0964    0.8154    0.0595\n",
      "    0.1824    0.0133    0.0311    0.0595    0.9808\n",
      "\n"
     ]
    }
   ],
   "source": [
    "Q = eye(size(A,1));\n",
    "Q = Q(:,1:end) - 2*(Q(:,1:end)*w)*w' % Q appears on the left of w, w'\n",
    "% because Q0 appears to the left of H1"
   ]
  },
  {
   "cell_type": "markdown",
   "metadata": {},
   "source": [
    "And repeat:"
   ]
  },
  {
   "cell_type": "code",
   "execution_count": 86,
   "metadata": {},
   "outputs": [
    {
     "name": "stdout",
     "output_type": "stream",
     "text": [
      "\n",
      "R =\n",
      "\n",
      "    2.7854   -0.3921    1.2337\n",
      "    0.0000    1.7605   -0.7519\n",
      "         0    0.0000   -0.7242\n",
      "   -0.0000   -0.0000   -0.7973\n",
      "         0   -0.0000   -0.2364\n",
      "\n",
      "\n",
      "Q =\n",
      "\n",
      "   -0.7366   -0.0039   -0.1953   -0.6291    0.1532\n",
      "   -0.1270   -0.0093   -0.8370    0.4696    0.2503\n",
      "   -0.2957   -0.8234    0.2959    0.3133    0.2211\n",
      "   -0.5662    0.5143    0.3568    0.5314   -0.0722\n",
      "    0.1824    0.2395    0.2155   -0.0561    0.9272\n",
      "\n"
     ]
    }
   ],
   "source": [
    "x = R(2:end,2);\n",
    "w = x; w(1) = x(1) + sign(x(1))*norm(x);\n",
    "w = w/norm(w);\n",
    "R(2:end,2:end) = R(2:end,2:end) - 2*w*(w'*R(2:end,2:end))\n",
    "% You can do R(2:end,:) = R(2:end,:) - 2*w*(w'*R(2:end,:))\n",
    "% but we know that most of the first column of R(2:end,:) is zero\n",
    "% so it makes sense to exclude it from the computation\n",
    "% But we cannot do that with the rows of Q:\n",
    "Q(:,2:end) = Q(:,2:end) - 2*(Q(:,2:end)*w)*w'"
   ]
  },
  {
   "cell_type": "code",
   "execution_count": 87,
   "metadata": {},
   "outputs": [
    {
     "name": "stdout",
     "output_type": "stream",
     "text": [
      "\n",
      "R =\n",
      "\n",
      "    2.7854   -0.3921    1.2337\n",
      "    0.0000    1.7605   -0.7519\n",
      "         0    0.0000    1.1028\n",
      "   -0.0000   -0.0000    0.0000\n",
      "         0   -0.0000    0.0000\n",
      "\n",
      "\n",
      "Q =\n",
      "\n",
      "   -0.7366   -0.0039    0.5502   -0.3038    0.2497\n",
      "   -0.1270   -0.0093    0.1566    0.9032    0.3789\n",
      "   -0.2957   -0.8234   -0.4682   -0.0201    0.1222\n",
      "   -0.5662    0.5143   -0.6030    0.1126   -0.1964\n",
      "    0.1824    0.2395   -0.2997   -0.2810    0.8606\n",
      "\n"
     ]
    }
   ],
   "source": [
    "x = R(3:end,3);\n",
    "w = x; w(1) = x(1) + sign(x(1))*norm(x);\n",
    "w = w/norm(w);\n",
    "R(3:end,3:end) = R(3:end,3:end) - 2*w*(w'*R(3:end,3:end))\n",
    "Q(:,3:end) = Q(:,3:end) - 2*(Q(:,3:end)*w)*w'"
   ]
  },
  {
   "cell_type": "markdown",
   "metadata": {},
   "source": [
    "Verify the properties:"
   ]
  },
  {
   "cell_type": "code",
   "execution_count": 89,
   "metadata": {},
   "outputs": [
    {
     "name": "stdout",
     "output_type": "stream",
     "text": [
      "\n",
      "ans =\n",
      "\n",
      "   1.0e-15 *\n",
      "\n",
      "         0   -0.1110   -0.1665\n",
      "    0.1665    0.3192   -0.6245\n",
      "   -0.1110    0.4441    0.2220\n",
      "   -0.4441    0.4441    0.2220\n",
      "   -0.1110   -0.0555    0.2220\n",
      "\n"
     ]
    }
   ],
   "source": [
    "A - Q*R % good factorization"
   ]
  },
  {
   "cell_type": "code",
   "execution_count": 90,
   "metadata": {},
   "outputs": [
    {
     "name": "stdout",
     "output_type": "stream",
     "text": [
      "\n",
      "ans =\n",
      "\n",
      "    1.0000    0.0000    0.0000   -0.0000   -0.0000\n",
      "    0.0000    1.0000    0.0000   -0.0000   -0.0000\n",
      "    0.0000    0.0000    1.0000    0.0000   -0.0000\n",
      "   -0.0000   -0.0000    0.0000    1.0000    0.0000\n",
      "   -0.0000   -0.0000   -0.0000    0.0000    1.0000\n",
      "\n"
     ]
    }
   ],
   "source": [
    "Q'*Q % Q is indeed orthogonal"
   ]
  },
  {
   "cell_type": "code",
   "execution_count": 91,
   "metadata": {},
   "outputs": [
    {
     "name": "stdout",
     "output_type": "stream",
     "text": [
      "\n",
      "ans =\n",
      "\n",
      "    1.0000    0.0000   -0.0000   -0.0000   -0.0000\n",
      "    0.0000    1.0000    0.0000   -0.0000   -0.0000\n",
      "   -0.0000    0.0000    1.0000    0.0000    0.0000\n",
      "   -0.0000   -0.0000    0.0000    1.0000    0.0000\n",
      "   -0.0000   -0.0000    0.0000    0.0000    1.0000\n",
      "\n"
     ]
    }
   ],
   "source": [
    "Q*Q'"
   ]
  },
  {
   "cell_type": "markdown",
   "metadata": {},
   "source": [
    "## Solving a least-squares problem"
   ]
  },
  {
   "cell_type": "code",
   "execution_count": 100,
   "metadata": {},
   "outputs": [],
   "source": [
    "A = randn(5,3); R = A;  b = ones(5,1);"
   ]
  },
  {
   "cell_type": "markdown",
   "metadata": {},
   "source": [
    "### By normal equations:"
   ]
  },
  {
   "cell_type": "code",
   "execution_count": 101,
   "metadata": {},
   "outputs": [
    {
     "name": "stdout",
     "output_type": "stream",
     "text": [
      "\n",
      "bn =\n",
      "\n",
      "   -4.4961\n",
      "    1.2299\n",
      "   -1.3695\n",
      "\n"
     ]
    }
   ],
   "source": [
    "An = A'*A;\n",
    "bn = A'*b"
   ]
  },
  {
   "cell_type": "code",
   "execution_count": 102,
   "metadata": {},
   "outputs": [
    {
     "name": "stdout",
     "output_type": "stream",
     "text": [
      "\n",
      "x0 =\n",
      "\n",
      "   -0.4943\n",
      "    2.6440\n",
      "    0.4565\n",
      "\n",
      "\n",
      "ans =\n",
      "\n",
      "    0.3886\n",
      "\n"
     ]
    }
   ],
   "source": [
    "x0 = An\\bn  % Solves (A'*A)x = A'* b, the normal equations\n",
    "norm(A*x0-b)  % residual"
   ]
  },
  {
   "cell_type": "code",
   "execution_count": 103,
   "metadata": {},
   "outputs": [
    {
     "name": "stdout",
     "output_type": "stream",
     "text": [
      "\n",
      "R =\n",
      "\n",
      "    3.1559   -0.0993    0.8713   -1.4246\n",
      "    0.0000    0.4941    0.5420    1.5758\n",
      "   -0.0000    0.2787   -0.8231    0.0309\n",
      "   -0.0000   -0.4329    1.3971   -0.6952\n",
      "   -0.0000   -0.0045   -0.2628   -0.0543\n",
      "\n"
     ]
    }
   ],
   "source": [
    "R = [A,b];\n",
    "x = R(1:end,1);\n",
    "w = x; w(1) = x(1) + sign(x(1))*norm(x);\n",
    "w = w/norm(w);\n",
    "R(1:end,1:end) = R(1:end,1:end) - 2*w*(w'*R(1:end,1:end)) % R1"
   ]
  },
  {
   "cell_type": "code",
   "execution_count": 104,
   "metadata": {},
   "outputs": [
    {
     "name": "stdout",
     "output_type": "stream",
     "text": [
      "\n",
      "R =\n",
      "\n",
      "    3.1559   -0.0993    0.8713   -1.4246\n",
      "    0.0000   -0.7136    0.7919   -1.5253\n",
      "   -0.0000         0   -0.7654   -0.6847\n",
      "   -0.0000         0    1.3075    0.4163\n",
      "   -0.0000         0   -0.2637   -0.0427\n",
      "\n"
     ]
    }
   ],
   "source": [
    "x = R(2:end,2);\n",
    "w = x; w(1) = x(1) + sign(x(1))*norm(x);\n",
    "w = w/norm(w);\n",
    "R(2:end,2:end) = R(2:end,2:end) - 2*w*(w'*R(2:end,2:end)) % R1"
   ]
  },
  {
   "cell_type": "code",
   "execution_count": 105,
   "metadata": {},
   "outputs": [
    {
     "name": "stdout",
     "output_type": "stream",
     "text": [
      "\n",
      "R =\n",
      "\n",
      "    3.1559   -0.0993    0.8713   -1.4246\n",
      "    0.0000   -0.7136    0.7919   -1.5253\n",
      "   -0.0000         0    1.5379    0.7021\n",
      "   -0.0000         0         0   -0.3709\n",
      "   -0.0000         0         0    0.1160\n",
      "\n"
     ]
    }
   ],
   "source": [
    "x = R(3:end,3);\n",
    "w = x; w(1) = x(1) + sign(x(1))*norm(x);\n",
    "w = w/norm(w);\n",
    "R(3:end,3:end) = R(3:end,3:end) - 2*w*(w'*R(3:end,3:end))"
   ]
  },
  {
   "cell_type": "code",
   "execution_count": 106,
   "metadata": {},
   "outputs": [
    {
     "name": "stdout",
     "output_type": "stream",
     "text": [
      "\n",
      "R =\n",
      "\n",
      "    3.1559   -0.0993    0.8713   -1.4246\n",
      "    0.0000   -0.7136    0.7919   -1.5253\n",
      "   -0.0000         0    1.5379    0.7021\n",
      "   -0.0000         0         0    0.3886\n",
      "   -0.0000         0         0    0.0000\n",
      "\n"
     ]
    }
   ],
   "source": [
    "x = R(4:end,4);\n",
    "w = x; w(1) = x(1) + sign(x(1))*norm(x);\n",
    "w = w/norm(w);\n",
    "R(4:end,4:end) = R(4:end,4:end) - 2*w*(w'*R(4:end,4:end))"
   ]
  },
  {
   "cell_type": "code",
   "execution_count": 108,
   "metadata": {},
   "outputs": [
    {
     "name": "stdout",
     "output_type": "stream",
     "text": [
      "\n",
      "x =\n",
      "\n",
      "   -0.4943\n",
      "    2.6440\n",
      "    0.4565\n",
      "\n",
      "\n",
      "x0 =\n",
      "\n",
      "   -0.4943\n",
      "    2.6440\n",
      "    0.4565\n",
      "\n"
     ]
    }
   ],
   "source": [
    "x = Backsub(R(1:3,:))\n",
    "x0"
   ]
  },
  {
   "cell_type": "code",
   "execution_count": 110,
   "metadata": {},
   "outputs": [
    {
     "name": "stdout",
     "output_type": "stream",
     "text": [
      "\n",
      "ans =\n",
      "\n",
      "    0.3886\n",
      "\n",
      "\n",
      "ans =\n",
      "\n",
      "    0.3886\n",
      "\n"
     ]
    }
   ],
   "source": [
    "abs(R(4,4))\n",
    "norm(A*x0-b)"
   ]
  }
 ],
 "metadata": {
  "kernelspec": {
   "display_name": "Matlab",
   "language": "matlab",
   "name": "matlab"
  },
  "language_info": {
   "codemirror_mode": "octave",
   "file_extension": ".m",
   "help_links": [
    {
     "text": "MetaKernel Magics",
     "url": "https://metakernel.readthedocs.io/en/latest/source/README.html"
    }
   ],
   "mimetype": "text/x-octave",
   "name": "matlab",
   "version": "0.16.7"
  }
 },
 "nbformat": 4,
 "nbformat_minor": 2
}
