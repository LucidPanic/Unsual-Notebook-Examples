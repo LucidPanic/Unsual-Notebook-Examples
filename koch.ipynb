{
 "cells": [
  {
   "cell_type": "code",
   "execution_count": 9,
   "metadata": {
    "collapsed": true
   },
   "outputs": [],
   "source": [
    "import loopy as lp\n",
    "import numpy as np"
   ]
  },
  {
   "cell_type": "code",
   "execution_count": 13,
   "metadata": {},
   "outputs": [],
   "source": [
    "orig_knl = lp.make_kernel(\n",
    "    \"{[e,i]: 0<=e<=9 and 0<=i<=2}\",\n",
    "    \"\"\"\n",
    "    for e\n",
    "        for i\n",
    "           out[e, i] = out[e, i] + a[e]\n",
    "        end\n",
    "    end\n",
    "    \"\"\", target=lp.CTarget())"
   ]
  },
  {
   "cell_type": "code",
   "execution_count": 14,
   "metadata": {},
   "outputs": [
    {
     "name": "stdout",
     "output_type": "stream",
     "text": [
      "\n",
      "void loopy_kernel(float const *__restrict__ a, float *__restrict__ out)\n",
      "{\n",
      "  /* bulk slab for 'e' */\n",
      "  for (int e = 1; e <= 8; ++e)\n",
      "  {\n",
      "    out[3 * e] = out[3 * e] + a[e];\n",
      "    out[3 * e + 1] = out[3 * e + 1] + a[e];\n",
      "    out[3 * e + 2] = out[3 * e + 2] + a[e];\n",
      "  }\n",
      "  /* initial slab for 'e' */\n",
      "  {\n",
      "    int const e = 0;\n",
      "\n",
      "    out[0] = out[0] + a[0];\n",
      "    out[1] = out[1] + a[0];\n",
      "    out[2] = out[2] + a[0];\n",
      "  }\n",
      "  /* final slab for 'e' */\n",
      "  {\n",
      "    int const e = 9;\n",
      "\n",
      "    out[27] = out[27] + a[9];\n",
      "    out[27 + 1] = out[27 + 1] + a[9];\n",
      "    out[27 + 2] = out[27 + 2] + a[9];\n",
      "  }\n",
      "}\n"
     ]
    }
   ],
   "source": [
    "knl = orig_knl\n",
    "knl = lp.tag_inames(knl, \"i:unr\")\n",
    "knl = knl.copy(iname_slab_increments={\"e\": (1, 1)})\n",
    "knl = lp.prioritize_loops(knl, \"e,i\")\n",
    "\n",
    "knl = lp.add_and_infer_dtypes(knl, {\"out,a\":np.float32})\n",
    "\n",
    "print(lp.generate_code_v2(knl).device_code())"
   ]
  },
  {
   "cell_type": "code",
   "execution_count": null,
   "metadata": {
    "collapsed": true
   },
   "outputs": [],
   "source": []
  }
 ],
 "metadata": {
  "kernelspec": {
   "display_name": "Python 3",
   "language": "python",
   "name": "python3"
  },
  "language_info": {
   "codemirror_mode": {
    "name": "ipython",
    "version": 3
   },
   "file_extension": ".py",
   "mimetype": "text/x-python",
   "name": "python",
   "nbconvert_exporter": "python",
   "pygments_lexer": "ipython3",
   "version": "3.6.2"
  }
 },
 "nbformat": 4,
 "nbformat_minor": 2
}
