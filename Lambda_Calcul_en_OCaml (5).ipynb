








<!DOCTYPE html>
<html lang="en">

<head>
  <meta charset="utf-8">
  <title>Jupyter Notebook Viewer</title>
  <meta name="viewport" content="width=device-width, initial-scale=1.0">
  <meta name="description" content="">
  <meta name="author" content="">
  
  <meta name="robots" content="noindex,nofollow">
  

  <!--NEW RELIC Start Perf Measurement-->
  
  <!--NREND-->

  <!-- Le styles -->
  <link href="/static/build/styles.css?v=7fe30404aaeedb40bf592c91e1d25a26" rel="stylesheet">

  <!-- Le HTML5 shim, for IE6-8 support of HTML5 elements -->
  <!--[if lt IE 9]>
    <script src="http://html5shim.googlecode.com/svn/trunk/html5.js"></script>
  <![endif]-->

  <!-- Le fav and touch icons -->
  <link rel="shortcut icon" href="/static/ico/ipynb_icon_16x16.png">
  <link rel="apple-touch-icon-precomposed" sizes="144x144"
        href="/static/ico/apple-touch-icon-144-precomposed.png?v=5a3c9ede93e2a8b8ea9e3f8f3da1a905">
  <link rel="apple-touch-icon-precomposed" sizes="114x114"
        href="/static/ico/apple-touch-icon-114-precomposed.png?v=45d86fc8f24dc00638035e1dd7a6d898">
  <link rel="apple-touch-icon-precomposed" sizes="72x72"
        href="/static/ico/apple-touch-icon-72-precomposed.png?v=540b5eb0f3cfd25f1439d1c9bd30e15f">
  <link rel="apple-touch-icon-precomposed"
        href="/static/ico/apple-touch-icon-57-precomposed.png?v=225f0590e187e1458625654f10a28f56">
  
  

  

  
  <meta name="twitter:card" content="summary">
  <meta name="twitter:title" content="Notebook on nbviewer">
  <meta name="twitter:description" content="Check out this Jupyter notebook!">

  
  <meta name="twitter:domain" content="nbviewer.jupyter.org">
  <meta name="twitter:image:src" content="http://ipython.org/ipython-doc/dev/_images/ipynb_icon_128x128.png">

  
    <link href="/static/build/notebook.css?v=b71b4a780ae775fd48f0eead7512c5dd" rel="stylesheet">
  

  

  
    <script src="https://cdnjs.cloudflare.com/ajax/libs/mathjax/2.7.1/MathJax.js?config=TeX-AMS_HTML" type="text/javascript">
    </script>
    <script type="text/javascript">
      init_mathjax = function() {
        if (window.MathJax) {
          // MathJax loaded
          MathJax.Hub.Config({
            TeX: {
              equationNumbers: {
                autoNumber: "AMS",
                useLabelIds: true
              }
            },
            tex2jax: {
              inlineMath: [ ['$','$'], ["\\(","\\)"] ],
              displayMath: [ ['$$','$$'], ["\\[","\\]"] ],
              processEscapes: true,
              processEnvironments: true
            },
            displayAlign: 'center',
            "HTML-CSS": {
              styles: {'.MathJax_Display': {"margin": 0}},
              linebreaks: { automatic: true }
            }
          });
          MathJax.Hub.Queue(["Typeset", MathJax.Hub]);
        }
      }
      init_mathjax();
    </script>
  

  
    <script>
      (function() {
        function addWidgetsRenderer() {
          var mimeElement = document.querySelector('script[type="application/vnd.jupyter.widget-view+json"]');
          var scriptElement = document.createElement('script');
          var widgetRendererSrc = 'https://unpkg.com/@jupyter-widgets/html-manager@0.15/dist/embed-amd.js';
          var widgetState;

          try {
            widgetState = mimeElement && JSON.parse(mimeElement.innerHTML);

            if (widgetState && (widgetState.version_major < 2 || !widgetState.version_major)) {
              widgetRendererSrc = 'https://unpkg.com/jupyter-js-widgets@2.1/dist/embed.js';
            }
          } catch(e) {}

          scriptElement.src = widgetRendererSrc;
          document.body.appendChild(scriptElement);
        }

        document.addEventListener('DOMContentLoaded', addWidgetsRenderer);
      }());
    </script>
  

</head>

<body class="nbviewer">

  <!-- These are loaded at the top of the body so they are available to
       notebook cells when they are loaded below. -->
  <script src="/static/components/jquery/dist/jquery.min.js?v=220afd743d9e9643852e31a135a9f3ae"></script>
  <script src="/static/components/requirejs/require.js?v=6da8be361b9ee26c5e721e76c6d4afce"></script>
  <script src="/static/components/moment/min/moment.min.js?v=89f87298ad94aa1e6b92f42eb66da043"></script>
<!-- Navbar
================================================== -->
  <nav id="menubar" class="navbar navbar-default navbar-fixed-top" data-spy="affix">
    <div class="container">
      <div class="navbar-header">
        <button type="button" class="navbar-toggle collapsed" data-toggle="collapse" data-target=".navbar-collapse">
          <span class="sr-only">Toggle navigation</span>
          <i class="fa fa-bars"></i>
        </button>
        <a class="navbar-brand" href="/">
          <img src="/static/img/nav_logo.svg?v=479cefe8d932fb14a67b93911b97d70f" width="159"/>
        </a>
      </div>

      <div class="collapse navbar-collapse">
        <ul class="nav navbar-nav navbar-right">
          <li>
            <a class="active" href="https://jupyter.org">JUPYTER</a>
          </li>
          <li>
    <a href="/faq" title="FAQ" >
      
        <span>FAQ</span>
      
    </a>
  </li>

          
  
    
  
    
      
        <li>
    <a href="script/github/Naereen/notebooks/blob/master/agreg/Lambda_Calcul_en_OCaml.ipynb" title="View as Code" >
      <span class="fa fa-code fa-2x menu-icon"></span>
      <span class="menu-text">View as Code</span>
    </a>
  </li>
      
    
  

  
    <li>
    <a href="#" title="OCaml 4.04.2 Kernel" >
      <span class="fa fa-server fa-2x menu-icon"></span>
      <span class="menu-text">OCaml 4.04.2 Kernel</span>
    </a>
  </li>
  

  
    <li>
    <a href="https://github.com/Naereen/notebooks/blob/master/agreg/Lambda_Calcul_en_OCaml.ipynb" title="View on GitHub" >
      <span class="fa fa-github fa-2x menu-icon"></span>
      <span class="menu-text">View on GitHub</span>
    </a>
  </li>
  

  
    <li>
    <a href="https://mybinder.org/v2/gh/Naereen/notebooks/master?filepath=agreg/Lambda_Calcul_en_OCaml.ipynb" title="Execute on Binder" >
      <span class="fa fa-icon-binder fa-2x menu-icon"></span>
      <span class="menu-text">Execute on Binder</span>
    </a>
  </li>
  

  <li>
    <a href="https://raw.githubusercontent.com/Naereen/notebooks/master/agreg/Lambda_Calcul_en_OCaml.ipynb" title="Download Notebook" download>
      <span class="fa fa-download fa-2x menu-icon"></span>
      <span class="menu-text">Download Notebook</span>
    </a>
  </li>

        </ul>
      </div><!-- /.navbar-collapse -->
      
      
    </div>
  </nav>

  <div class="container container-main">
    
  
  <ol class="breadcrumb">
    
      <li>
        <a href="/github/Naereen/notebooks/tree/master">notebooks</a>
      </li>
    
      <li>
        <a href="/github/Naereen/notebooks/tree/master/agreg">agreg</a>
      </li>
    
  </ol>
  
  <div id="notebook">
    <div id="notebook-container">
      <div class="cell border-box-sizing text_cell rendered"><div class="prompt input_prompt">
</div><div class="inner_cell">
<div class="text_cell_render border-box-sizing rendered_html">
<h1 id="Table-of-Contents">Table of Contents<a class="anchor-link" href="#Table-of-Contents">&#182;</a></h1><p><p><div class="lev1 toc-item"><a href="#Lambda-calcul-implémenté-en-OCaml" data-toc-modified-id="Lambda-calcul-implémenté-en-OCaml-1"><span class="toc-item-num">1&nbsp;&nbsp;</span>Lambda-calcul implémenté en OCaml</a></div><div class="lev2 toc-item"><a href="#Expressions" data-toc-modified-id="Expressions-11"><span class="toc-item-num">1.1&nbsp;&nbsp;</span>Expressions</a></div><div class="lev2 toc-item"><a href="#But-?" data-toc-modified-id="But-?-12"><span class="toc-item-num">1.2&nbsp;&nbsp;</span>But ?</a></div><div class="lev2 toc-item"><a href="#Grammaire" data-toc-modified-id="Grammaire-13"><span class="toc-item-num">1.3&nbsp;&nbsp;</span>Grammaire</a></div><div class="lev2 toc-item"><a href="#L'identité" data-toc-modified-id="L'identité-14"><span class="toc-item-num">1.4&nbsp;&nbsp;</span>L'identité</a></div><div class="lev2 toc-item"><a href="#Conditionnelles" data-toc-modified-id="Conditionnelles-15"><span class="toc-item-num">1.5&nbsp;&nbsp;</span>Conditionnelles</a></div><div class="lev2 toc-item"><a href="#Nombres" data-toc-modified-id="Nombres-16"><span class="toc-item-num">1.6&nbsp;&nbsp;</span>Nombres</a></div><div class="lev2 toc-item"><a href="#Test-d'inégalité" data-toc-modified-id="Test-d'inégalité-17"><span class="toc-item-num">1.7&nbsp;&nbsp;</span>Test d'inégalité</a></div><div class="lev2 toc-item"><a href="#Successeurs" data-toc-modified-id="Successeurs-18"><span class="toc-item-num">1.8&nbsp;&nbsp;</span>Successeurs</a></div><div class="lev2 toc-item"><a href="#Prédecesseurs" data-toc-modified-id="Prédecesseurs-19"><span class="toc-item-num">1.9&nbsp;&nbsp;</span>Prédecesseurs</a></div><div class="lev2 toc-item"><a href="#Addition" data-toc-modified-id="Addition-110"><span class="toc-item-num">1.10&nbsp;&nbsp;</span>Addition</a></div><div class="lev2 toc-item"><a href="#Multiplication" data-toc-modified-id="Multiplication-111"><span class="toc-item-num">1.11&nbsp;&nbsp;</span>Multiplication</a></div><div class="lev2 toc-item"><a href="#Paires" data-toc-modified-id="Paires-112"><span class="toc-item-num">1.12&nbsp;&nbsp;</span>Paires</a></div><div class="lev2 toc-item"><a href="#Prédécesseurs,-deuxième-essai" data-toc-modified-id="Prédécesseurs,-deuxième-essai-113"><span class="toc-item-num">1.13&nbsp;&nbsp;</span>Prédécesseurs, deuxième essai</a></div><div class="lev2 toc-item"><a href="#Listes" data-toc-modified-id="Listes-114"><span class="toc-item-num">1.14&nbsp;&nbsp;</span>Listes</a></div><div class="lev2 toc-item"><a href="#La-fonction-U" data-toc-modified-id="La-fonction-U-115"><span class="toc-item-num">1.15&nbsp;&nbsp;</span>La fonction U</a></div><div class="lev2 toc-item"><a href="#La-récursion-via-la-fonction-Y" data-toc-modified-id="La-récursion-via-la-fonction-Y-116"><span class="toc-item-num">1.16&nbsp;&nbsp;</span>La récursion via la fonction Y</a></div><div class="lev2 toc-item"><a href="#Conclusion" data-toc-modified-id="Conclusion-117"><span class="toc-item-num">1.17&nbsp;&nbsp;</span>Conclusion</a></div></p>

</div>
</div>
</div>
<div class="cell border-box-sizing text_cell rendered"><div class="prompt input_prompt">
</div><div class="inner_cell">
<div class="text_cell_render border-box-sizing rendered_html">
<h1 id="Lambda-calcul-impl&#233;ment&#233;-en-OCaml">Lambda-calcul impl&#233;ment&#233; en OCaml<a class="anchor-link" href="#Lambda-calcul-impl&#233;ment&#233;-en-OCaml">&#182;</a></h1><p>Ce notebook est inspiré de <a href="http://matt.might.net/articles/python-church-y-combinator/">ce post de blog du Professeur Matt Might</a>, qui implémente un mini langage de programmation en $\lambda$-calcul, en Python.
Je vais faire la même chose en OCaml.</p>
<h2 id="Expressions">Expressions<a class="anchor-link" href="#Expressions">&#182;</a></h2><p>On rappelle que les expressions du <a href="https://fr.wikipedia.org/wiki/Lambda-calcul">Lambda calcul</a>, ou $\lambda$-calcul, sont les suivantes :
$$ \begin{cases}
x, y, z &amp; \text{(des variables)} \\
u v &amp; \text{(application de deux termes}\, u, v\; \text{)} \\
\lambda x. v &amp; \text{(lambda-function prenant la variable}\; x \;\text{et le terme}\; v \;\text{)}
\end{cases} $$</p>
<h2 id="But-?">But ?<a class="anchor-link" href="#But-?">&#182;</a></h2><p>Le but ne va pas être de les représenter comme ça avec des types formels en Caml, mais plutôt d'utiliser les constructions de Caml, respectivement <code>u(v)</code> et <code>fun x -&gt; v</code> pour l'application et les fonctions anonymes, et encoder des fonctionnalités de plus haut niveau dans ce langage réduit.</p>
<h2 id="Grammaire">Grammaire<a class="anchor-link" href="#Grammaire">&#182;</a></h2><p>Avec une grammaire BNF, si <code>&lt;var&gt;</code> désigne un nom d'expression valide (on se limitera à des noms en miniscules consistitués des 26 lettres <code>a,b,..,z</code>) :</p>

<pre><code>&lt;exp&gt; ::= &lt;var&gt;
| &lt;exp&gt;(&lt;exp&gt;)
| fun &lt;var&gt; -&gt; &lt;exp&gt;
| (&lt;exp&gt;)</code></pre>

</div>
</div>
</div>
<div class="cell border-box-sizing text_cell rendered"><div class="prompt input_prompt">
</div><div class="inner_cell">
<div class="text_cell_render border-box-sizing rendered_html">
<hr>
<h2 id="L'identit&#233;">L'identit&#233;<a class="anchor-link" href="#L'identit&#233;">&#182;</a></h2>
</div>
</div>
</div>
<div class="cell border-box-sizing code_cell rendered">
<div class="input">
<div class="prompt input_prompt">In&nbsp;[3]:</div>
<div class="inner_cell">
    <div class="input_area">
<div class=" highlight hl-OCaml"><pre><span></span><span class="k">let</span> <span class="n">identite</span> <span class="o">=</span> <span class="k">fun</span> <span class="n">x</span> <span class="o">-&gt;</span> <span class="n">x</span> <span class="o">;;</span>
</pre></div>

    </div>
</div>
</div>

<div class="output_wrapper">
<div class="output">


<div class="output_area">

    <div class="prompt output_prompt">Out[3]:</div>




<div class="output_text output_subarea output_execute_result">
<pre>val identite : &#39;a -&gt; &#39;a = &lt;fun&gt;
</pre>
</div>

</div>

</div>
</div>

</div>
<div class="cell border-box-sizing code_cell rendered">
<div class="input">
<div class="prompt input_prompt">In&nbsp;[4]:</div>
<div class="inner_cell">
    <div class="input_area">
<div class=" highlight hl-OCaml"><pre><span></span><span class="k">let</span> <span class="n">vide</span> <span class="o">=</span> <span class="k">fun</span> <span class="n">x</span> <span class="o">-&gt;</span> <span class="n">x</span> <span class="o">;;</span>
</pre></div>

    </div>
</div>
</div>

<div class="output_wrapper">
<div class="output">


<div class="output_area">

    <div class="prompt output_prompt">Out[4]:</div>




<div class="output_text output_subarea output_execute_result">
<pre>val vide : &#39;a -&gt; &#39;a = &lt;fun&gt;
</pre>
</div>

</div>

</div>
</div>

</div>
<div class="cell border-box-sizing text_cell rendered"><div class="prompt input_prompt">
</div><div class="inner_cell">
<div class="text_cell_render border-box-sizing rendered_html">
<h2 id="Conditionnelles">Conditionnelles<a class="anchor-link" href="#Conditionnelles">&#182;</a></h2><p>La conditionnelle est <code>si cond alors valeur_vraie sinon valeur_fausse</code>.</p>

</div>
</div>
</div>
<div class="cell border-box-sizing code_cell rendered">
<div class="input">
<div class="prompt input_prompt">In&nbsp;[13]:</div>
<div class="inner_cell">
    <div class="input_area">
<div class=" highlight hl-OCaml"><pre><span></span><span class="k">let</span> <span class="n">si</span> <span class="o">=</span> <span class="k">fun</span> <span class="n">cond</span> <span class="n">valeur_vraie</span> <span class="n">valeur_fausse</span> <span class="o">-&gt;</span> <span class="n">cond</span> <span class="n">valeur_vraie</span> <span class="n">valeur_fausse</span> <span class="o">;;</span>
</pre></div>

    </div>
</div>
</div>

<div class="output_wrapper">
<div class="output">


<div class="output_area">

    <div class="prompt output_prompt">Out[13]:</div>




<div class="output_text output_subarea output_execute_result">
<pre>val si : (&#39;a -&gt; &#39;b -&gt; &#39;c) -&gt; &#39;a -&gt; &#39;b -&gt; &#39;c = &lt;fun&gt;
</pre>
</div>

</div>

</div>
</div>

</div>
<div class="cell border-box-sizing text_cell rendered"><div class="prompt input_prompt">
</div><div class="inner_cell">
<div class="text_cell_render border-box-sizing rendered_html">
<p>C'est très simple, du moment qu'on s'assure que <code>cond</code> est soit <code>vrai</code> soit <code>faux</code> tels que définis par leur comportement :</p>

<pre><code>si vrai e1 e2 == e1
si faux e1 e2 == e2</code></pre>

</div>
</div>
</div>
<div class="cell border-box-sizing code_cell rendered">
<div class="input">
<div class="prompt input_prompt">In&nbsp;[14]:</div>
<div class="inner_cell">
    <div class="input_area">
<div class=" highlight hl-OCaml"><pre><span></span><span class="k">let</span> <span class="n">vrai</span> <span class="o">=</span> <span class="k">fun</span> <span class="n">valeur_vraie</span> <span class="n">valeur_fausse</span> <span class="o">-&gt;</span> <span class="n">valeur_vraie</span> <span class="o">;;</span>
<span class="k">let</span> <span class="n">faux</span> <span class="o">=</span> <span class="k">fun</span> <span class="n">valeur_vraie</span> <span class="n">valeur_fausse</span> <span class="o">-&gt;</span> <span class="n">valeur_fausse</span> <span class="o">;;</span>
</pre></div>

    </div>
</div>
</div>

<div class="output_wrapper">
<div class="output">


<div class="output_area">

    <div class="prompt"></div>


<div class="output_subarea output_stream output_stderr output_text">
<pre>File &#34;[14]&#34;, line 1, characters 28-41:
Warning 27: unused variable valeur_fausse.
</pre>
</div>
</div>

<div class="output_area">

    <div class="prompt output_prompt">Out[14]:</div>




<div class="output_text output_subarea output_execute_result">
<pre>val vrai : &#39;a -&gt; &#39;b -&gt; &#39;a = &lt;fun&gt;
</pre>
</div>

</div>

<div class="output_area">

    <div class="prompt"></div>


<div class="output_subarea output_stream output_stderr output_text">
<pre>File &#34;[14]&#34;, line 2, characters 15-27:
Warning 27: unused variable valeur_vraie.
</pre>
</div>
</div>

<div class="output_area">

    <div class="prompt output_prompt">Out[14]:</div>




<div class="output_text output_subarea output_execute_result">
<pre>val faux : &#39;a -&gt; &#39;b -&gt; &#39;b = &lt;fun&gt;
</pre>
</div>

</div>

</div>
</div>

</div>
<div class="cell border-box-sizing text_cell rendered"><div class="prompt input_prompt">
</div><div class="inner_cell">
<div class="text_cell_render border-box-sizing rendered_html">
<p>La négation est facile !</p>

</div>
</div>
</div>
<div class="cell border-box-sizing code_cell rendered">
<div class="input">
<div class="prompt input_prompt">In&nbsp;[15]:</div>
<div class="inner_cell">
    <div class="input_area">
<div class=" highlight hl-OCaml"><pre><span></span><span class="k">let</span> <span class="n">non</span> <span class="o">=</span> <span class="k">fun</span> <span class="n">v</span> <span class="n">x</span> <span class="n">y</span> <span class="o">-&gt;</span> <span class="n">v</span> <span class="n">y</span> <span class="n">x</span><span class="o">;;</span>
</pre></div>

    </div>
</div>
</div>

<div class="output_wrapper">
<div class="output">


<div class="output_area">

    <div class="prompt output_prompt">Out[15]:</div>




<div class="output_text output_subarea output_execute_result">
<pre>val non : (&#39;a -&gt; &#39;b -&gt; &#39;c) -&gt; &#39;b -&gt; &#39;a -&gt; &#39;c = &lt;fun&gt;
</pre>
</div>

</div>

</div>
</div>

</div>
<div class="cell border-box-sizing text_cell rendered"><div class="prompt input_prompt">
</div><div class="inner_cell">
<div class="text_cell_render border-box-sizing rendered_html">
<p>En fait, on va forcer une évaluation paresseuse, comme ça si l'une des deux expressions ne terminent pas, l'évaluation fonctionne quand même.</p>

</div>
</div>
</div>
<div class="cell border-box-sizing code_cell rendered">
<div class="input">
<div class="prompt input_prompt">In&nbsp;[16]:</div>
<div class="inner_cell">
    <div class="input_area">
<div class=" highlight hl-OCaml"><pre><span></span><span class="k">let</span> <span class="n">vrai_paresseux</span> <span class="o">=</span> <span class="k">fun</span> <span class="n">valeur_vraie</span> <span class="n">valeur_fausse</span> <span class="o">-&gt;</span> <span class="n">valeur_vraie</span> <span class="bp">()</span> <span class="o">;;</span>
<span class="k">let</span> <span class="n">faux_paresseux</span> <span class="o">=</span> <span class="k">fun</span> <span class="n">valeur_vraie</span> <span class="n">valeur_fausse</span> <span class="o">-&gt;</span> <span class="n">valeur_fausse</span> <span class="bp">()</span> <span class="o">;;</span>
</pre></div>

    </div>
</div>
</div>

<div class="output_wrapper">
<div class="output">


<div class="output_area">

    <div class="prompt"></div>


<div class="output_subarea output_stream output_stderr output_text">
<pre>File &#34;[16]&#34;, line 1, characters 38-51:
Warning 27: unused variable valeur_fausse.
</pre>
</div>
</div>

<div class="output_area">

    <div class="prompt output_prompt">Out[16]:</div>




<div class="output_text output_subarea output_execute_result">
<pre>val vrai_paresseux : (unit -&gt; &#39;a) -&gt; &#39;b -&gt; &#39;a = &lt;fun&gt;
</pre>
</div>

</div>

<div class="output_area">

    <div class="prompt"></div>


<div class="output_subarea output_stream output_stderr output_text">
<pre>File &#34;[16]&#34;, line 2, characters 25-37:
Warning 27: unused variable valeur_vraie.
</pre>
</div>
</div>

<div class="output_area">

    <div class="prompt output_prompt">Out[16]:</div>




<div class="output_text output_subarea output_execute_result">
<pre>val faux_paresseux : &#39;a -&gt; (unit -&gt; &#39;b) -&gt; &#39;b = &lt;fun&gt;
</pre>
</div>

</div>

</div>
</div>

</div>
<div class="cell border-box-sizing text_cell rendered"><div class="prompt input_prompt">
</div><div class="inner_cell">
<div class="text_cell_render border-box-sizing rendered_html">
<p>Pour rendre paresseux un terme, rien de plus simple !</p>

</div>
</div>
</div>
<div class="cell border-box-sizing code_cell rendered">
<div class="input">
<div class="prompt input_prompt">In&nbsp;[17]:</div>
<div class="inner_cell">
    <div class="input_area">
<div class=" highlight hl-OCaml"><pre><span></span><span class="k">let</span> <span class="n">paresseux</span> <span class="o">=</span> <span class="k">fun</span> <span class="n">f</span> <span class="o">-&gt;</span> <span class="k">fun</span> <span class="bp">()</span> <span class="o">-&gt;</span> <span class="n">f</span> <span class="o">;;</span>
</pre></div>

    </div>
</div>
</div>

<div class="output_wrapper">
<div class="output">


<div class="output_area">

    <div class="prompt output_prompt">Out[17]:</div>




<div class="output_text output_subarea output_execute_result">
<pre>val paresseux : &#39;a -&gt; unit -&gt; &#39;a = &lt;fun&gt;
</pre>
</div>

</div>

</div>
</div>

</div>
<div class="cell border-box-sizing text_cell rendered"><div class="prompt input_prompt">
</div><div class="inner_cell">
<div class="text_cell_render border-box-sizing rendered_html">
<h2 id="Nombres">Nombres<a class="anchor-link" href="#Nombres">&#182;</a></h2><p>La représentation de Church consiste a écrire $n$ comme $\lambda f. \lambda z. f^n z$.</p>

</div>
</div>
</div>
<div class="cell border-box-sizing code_cell rendered">
<div class="input">
<div class="prompt input_prompt">In&nbsp;[18]:</div>
<div class="inner_cell">
    <div class="input_area">
<div class=" highlight hl-OCaml"><pre><span></span><span class="k">type</span> <span class="k">&#39;</span><span class="n">a</span> <span class="n">nombres</span> <span class="o">=</span> <span class="o">(</span><span class="k">&#39;</span><span class="n">a</span> <span class="o">-&gt;</span> <span class="k">&#39;</span><span class="n">a</span><span class="o">)</span> <span class="o">-&gt;</span> <span class="k">&#39;</span><span class="n">a</span> <span class="o">-&gt;</span> <span class="k">&#39;</span><span class="n">a</span><span class="o">;;</span>  <span class="c">(* inutilisé *)</span>
<span class="k">type</span> <span class="n">entiers_church</span> <span class="o">=</span> <span class="o">(</span><span class="kt">int</span> <span class="o">-&gt;</span> <span class="kt">int</span><span class="o">)</span> <span class="o">-&gt;</span> <span class="kt">int</span> <span class="o">-&gt;</span> <span class="kt">int</span><span class="o">;;</span>
</pre></div>

    </div>
</div>
</div>

<div class="output_wrapper">
<div class="output">


<div class="output_area">

    <div class="prompt output_prompt">Out[18]:</div>




<div class="output_text output_subarea output_execute_result">
<pre>type &#39;a nombres = (&#39;a -&gt; &#39;a) -&gt; &#39;a -&gt; &#39;a
</pre>
</div>

</div>

<div class="output_area">

    <div class="prompt output_prompt">Out[18]:</div>




<div class="output_text output_subarea output_execute_result">
<pre>type entiers_church = (int -&gt; int) -&gt; int -&gt; int
</pre>
</div>

</div>

</div>
</div>

</div>
<div class="cell border-box-sizing text_cell rendered"><div class="prompt input_prompt">
</div><div class="inner_cell">
<div class="text_cell_render border-box-sizing rendered_html">
<p>$0$ est trivialement $\lambda f. \lambda z. z$ :</p>

</div>
</div>
</div>
<div class="cell border-box-sizing code_cell rendered">
<div class="input">
<div class="prompt input_prompt">In&nbsp;[34]:</div>
<div class="inner_cell">
    <div class="input_area">
<div class=" highlight hl-OCaml"><pre><span></span><span class="k">let</span> <span class="n">zero</span> <span class="o">=</span> <span class="k">fun</span> <span class="o">(</span><span class="n">f</span> <span class="o">:</span> <span class="o">(</span><span class="k">&#39;</span><span class="n">a</span> <span class="o">-&gt;</span> <span class="k">&#39;</span><span class="n">a</span><span class="o">))</span> <span class="o">(</span><span class="n">z</span> <span class="o">:</span> <span class="k">&#39;</span><span class="n">a</span><span class="o">)</span> <span class="o">-&gt;</span> <span class="n">z</span> <span class="o">;;</span>
</pre></div>

    </div>
</div>
</div>

<div class="output_wrapper">
<div class="output">


<div class="output_area">

    <div class="prompt"></div>


<div class="output_subarea output_stream output_stderr output_text">
<pre>File &#34;[34]&#34;, line 1, characters 16-17:
Warning 27: unused variable f.
</pre>
</div>
</div>

<div class="output_area">

    <div class="prompt output_prompt">Out[34]:</div>




<div class="output_text output_subarea output_execute_result">
<pre>val zero : (&#39;a -&gt; &#39;a) -&gt; &#39;a -&gt; &#39;a = &lt;fun&gt;
</pre>
</div>

</div>

</div>
</div>

</div>
<div class="cell border-box-sizing text_cell rendered"><div class="prompt input_prompt">
</div><div class="inner_cell">
<div class="text_cell_render border-box-sizing rendered_html">
<p>$1$ est $\lambda f. \lambda z. f z$ :</p>

</div>
</div>
</div>
<div class="cell border-box-sizing code_cell rendered">
<div class="input">
<div class="prompt input_prompt">In&nbsp;[35]:</div>
<div class="inner_cell">
    <div class="input_area">
<div class=" highlight hl-OCaml"><pre><span></span><span class="k">let</span> <span class="n">un</span> <span class="o">=</span> <span class="k">fun</span> <span class="o">(</span><span class="n">f</span> <span class="o">:</span> <span class="o">(</span><span class="k">&#39;</span><span class="n">a</span> <span class="o">-&gt;</span> <span class="k">&#39;</span><span class="n">a</span><span class="o">))</span> <span class="o">-&gt;</span> <span class="n">f</span> <span class="o">;;</span>
</pre></div>

    </div>
</div>
</div>

<div class="output_wrapper">
<div class="output">


<div class="output_area">

    <div class="prompt output_prompt">Out[35]:</div>




<div class="output_text output_subarea output_execute_result">
<pre>val un : (&#39;a -&gt; &#39;a) -&gt; &#39;a -&gt; &#39;a = &lt;fun&gt;
</pre>
</div>

</div>

</div>
</div>

</div>
<div class="cell border-box-sizing text_cell rendered"><div class="prompt input_prompt">
</div><div class="inner_cell">
<div class="text_cell_render border-box-sizing rendered_html">
<p>Avec l'opérateur de composition, l'écriture des entiers suivants est facile.</p>

</div>
</div>
</div>
<div class="cell border-box-sizing code_cell rendered">
<div class="input">
<div class="prompt input_prompt">In&nbsp;[36]:</div>
<div class="inner_cell">
    <div class="input_area">
<div class=" highlight hl-OCaml"><pre><span></span><span class="k">let</span> <span class="n">compose</span> <span class="o">=</span> <span class="k">fun</span> <span class="n">f</span> <span class="n">g</span> <span class="n">x</span> <span class="o">-&gt;</span> <span class="n">f</span> <span class="o">(</span><span class="n">g</span> <span class="n">x</span><span class="o">);;</span>
</pre></div>

    </div>
</div>
</div>

<div class="output_wrapper">
<div class="output">


<div class="output_area">

    <div class="prompt output_prompt">Out[36]:</div>




<div class="output_text output_subarea output_execute_result">
<pre>val compose : (&#39;a -&gt; &#39;b) -&gt; (&#39;c -&gt; &#39;a) -&gt; &#39;c -&gt; &#39;b = &lt;fun&gt;
</pre>
</div>

</div>

</div>
</div>

</div>
<div class="cell border-box-sizing code_cell rendered">
<div class="input">
<div class="prompt input_prompt">In&nbsp;[37]:</div>
<div class="inner_cell">
    <div class="input_area">
<div class=" highlight hl-OCaml"><pre><span></span><span class="k">let</span> <span class="n">deux</span> <span class="o">=</span> <span class="k">fun</span> <span class="n">f</span> <span class="o">-&gt;</span> <span class="n">compose</span> <span class="n">f</span> <span class="n">f</span><span class="o">;;</span>  <span class="c">(* == compose f (un f) *)</span>
<span class="k">let</span> <span class="n">trois</span> <span class="o">=</span> <span class="k">fun</span> <span class="n">f</span> <span class="o">-&gt;</span> <span class="n">compose</span> <span class="n">f</span> <span class="o">(</span><span class="n">deux</span> <span class="n">f</span><span class="o">)</span> <span class="o">;;</span>
<span class="k">let</span> <span class="n">quatre</span> <span class="o">=</span> <span class="k">fun</span> <span class="n">f</span> <span class="o">-&gt;</span> <span class="n">compose</span> <span class="n">f</span> <span class="o">(</span><span class="n">trois</span> <span class="n">f</span><span class="o">)</span> <span class="o">;;</span>
<span class="c">(* etc *)</span>
</pre></div>

    </div>
</div>
</div>

<div class="output_wrapper">
<div class="output">


<div class="output_area">

    <div class="prompt output_prompt">Out[37]:</div>




<div class="output_text output_subarea output_execute_result">
<pre>val deux : (&#39;a -&gt; &#39;a) -&gt; &#39;a -&gt; &#39;a = &lt;fun&gt;
</pre>
</div>

</div>

<div class="output_area">

    <div class="prompt output_prompt">Out[37]:</div>




<div class="output_text output_subarea output_execute_result">
<pre>val trois : (&#39;a -&gt; &#39;a) -&gt; &#39;a -&gt; &#39;a = &lt;fun&gt;
</pre>
</div>

</div>

<div class="output_area">

    <div class="prompt output_prompt">Out[37]:</div>




<div class="output_text output_subarea output_execute_result">
<pre>val quatre : (&#39;a -&gt; &#39;a) -&gt; &#39;a -&gt; &#39;a = &lt;fun&gt;
</pre>
</div>

</div>

</div>
</div>

</div>
<div class="cell border-box-sizing text_cell rendered"><div class="prompt input_prompt">
</div><div class="inner_cell">
<div class="text_cell_render border-box-sizing rendered_html">
<p>On peut généraliser ça, avec une fonction qui transforme un entier (<code>int</code>) de Caml en un entier de Church :</p>

</div>
</div>
</div>
<div class="cell border-box-sizing code_cell rendered">
<div class="input">
<div class="prompt input_prompt">In&nbsp;[38]:</div>
<div class="inner_cell">
    <div class="input_area">
<div class=" highlight hl-OCaml"><pre><span></span><span class="k">let</span> <span class="k">rec</span> <span class="n">entierChurch</span> <span class="o">(</span><span class="n">n</span> <span class="o">:</span> <span class="kt">int</span><span class="o">)</span> <span class="o">=</span>
    <span class="k">fun</span> <span class="n">f</span> <span class="n">z</span> <span class="o">-&gt;</span> <span class="k">if</span> <span class="n">n</span> <span class="o">=</span> <span class="mi">0</span> <span class="k">then</span> <span class="n">z</span> <span class="k">else</span> <span class="n">f</span> <span class="o">((</span><span class="n">entierChurch</span> <span class="o">(</span><span class="n">n</span><span class="o">-</span><span class="mi">1</span><span class="o">))</span> <span class="n">f</span> <span class="n">z</span><span class="o">)</span>
<span class="o">;;</span>
</pre></div>

    </div>
</div>
</div>

<div class="output_wrapper">
<div class="output">


<div class="output_area">

    <div class="prompt output_prompt">Out[38]:</div>




<div class="output_text output_subarea output_execute_result">
<pre>val entierChurch : int -&gt; (&#39;a -&gt; &#39;a) -&gt; &#39;a -&gt; &#39;a = &lt;fun&gt;
</pre>
</div>

</div>

</div>
</div>

</div>
<div class="cell border-box-sizing text_cell rendered"><div class="prompt input_prompt">
</div><div class="inner_cell">
<div class="text_cell_render border-box-sizing rendered_html">
<p>Par exemple :</p>

</div>
</div>
</div>
<div class="cell border-box-sizing code_cell rendered">
<div class="input">
<div class="prompt input_prompt">In&nbsp;[39]:</div>
<div class="inner_cell">
    <div class="input_area">
<div class=" highlight hl-OCaml"><pre><span></span><span class="o">(</span><span class="n">entierChurch</span> <span class="mi">0</span><span class="o">)</span> <span class="o">(</span><span class="k">fun</span> <span class="n">x</span> <span class="o">-&gt;</span> <span class="n">x</span> <span class="o">+</span> <span class="mi">1</span><span class="o">)</span> <span class="mi">0</span><span class="o">;;</span> <span class="c">(* 0 *)</span>
<span class="o">(</span><span class="n">entierChurch</span> <span class="mi">7</span><span class="o">)</span> <span class="o">(</span><span class="k">fun</span> <span class="n">x</span> <span class="o">-&gt;</span> <span class="n">x</span> <span class="o">+</span> <span class="mi">1</span><span class="o">)</span> <span class="mi">0</span><span class="o">;;</span> <span class="c">(* 7 *)</span>
<span class="o">(</span><span class="n">entierChurch</span> <span class="mi">3</span><span class="o">)</span> <span class="o">(</span><span class="k">fun</span> <span class="n">x</span> <span class="o">-&gt;</span> <span class="mi">2</span><span class="o">*</span><span class="n">x</span><span class="o">)</span> <span class="mi">1</span><span class="o">;;</span> <span class="c">(* 8 *)</span>
</pre></div>

    </div>
</div>
</div>

<div class="output_wrapper">
<div class="output">


<div class="output_area">

    <div class="prompt output_prompt">Out[39]:</div>




<div class="output_text output_subarea output_execute_result">
<pre>- : int = 0
</pre>
</div>

</div>

<div class="output_area">

    <div class="prompt output_prompt">Out[39]:</div>




<div class="output_text output_subarea output_execute_result">
<pre>- : int = 7
</pre>
</div>

</div>

<div class="output_area">

    <div class="prompt output_prompt">Out[39]:</div>




<div class="output_text output_subarea output_execute_result">
<pre>- : int = 8
</pre>
</div>

</div>

</div>
</div>

</div>
<div class="cell border-box-sizing text_cell rendered"><div class="prompt input_prompt">
</div><div class="inner_cell">
<div class="text_cell_render border-box-sizing rendered_html">
<p>Et une fonction qui fait l'inverse (note : cette fonction n'est <em>pas</em> un $\lambda$-terme) :</p>

</div>
</div>
</div>
<div class="cell border-box-sizing code_cell rendered">
<div class="input">
<div class="prompt input_prompt">In&nbsp;[40]:</div>
<div class="inner_cell">
    <div class="input_area">
<div class=" highlight hl-OCaml"><pre><span></span><span class="k">let</span> <span class="n">entierNatif</span> <span class="n">c</span> <span class="o">:</span> <span class="kt">int</span> <span class="o">=</span>
    <span class="n">c</span> <span class="o">(</span><span class="k">fun</span> <span class="n">x</span> <span class="o">-&gt;</span> <span class="n">x</span> <span class="o">+</span> <span class="mi">1</span><span class="o">)</span> <span class="mi">0</span>
<span class="o">;;</span>
</pre></div>

    </div>
</div>
</div>

<div class="output_wrapper">
<div class="output">


<div class="output_area">

    <div class="prompt output_prompt">Out[40]:</div>




<div class="output_text output_subarea output_execute_result">
<pre>val entierNatif : ((int -&gt; int) -&gt; int -&gt; int) -&gt; int = &lt;fun&gt;
</pre>
</div>

</div>

</div>
</div>

</div>
<div class="cell border-box-sizing text_cell rendered"><div class="prompt input_prompt">
</div><div class="inner_cell">
<div class="text_cell_render border-box-sizing rendered_html">
<p>Un petit test :</p>

</div>
</div>
</div>
<div class="cell border-box-sizing code_cell rendered">
<div class="input">
<div class="prompt input_prompt">In&nbsp;[41]:</div>
<div class="inner_cell">
    <div class="input_area">
<div class=" highlight hl-OCaml"><pre><span></span><span class="n">entierNatif</span> <span class="o">(</span><span class="n">si</span> <span class="n">vrai</span> <span class="n">zero</span> <span class="n">un</span><span class="o">);;</span> <span class="c">(* 0 *)</span>
<span class="n">entierNatif</span> <span class="o">(</span><span class="n">si</span> <span class="n">faux</span> <span class="n">zero</span> <span class="n">un</span><span class="o">);;</span> <span class="c">(* 1 *)</span>
</pre></div>

    </div>
</div>
</div>

<div class="output_wrapper">
<div class="output">


<div class="output_area">

    <div class="prompt output_prompt">Out[41]:</div>




<div class="output_text output_subarea output_execute_result">
<pre>- : int = 0
</pre>
</div>

</div>

<div class="output_area">

    <div class="prompt output_prompt">Out[41]:</div>




<div class="output_text output_subarea output_execute_result">
<pre>- : int = 1
</pre>
</div>

</div>

</div>
</div>

</div>
<div class="cell border-box-sizing code_cell rendered">
<div class="input">
<div class="prompt input_prompt">In&nbsp;[42]:</div>
<div class="inner_cell">
    <div class="input_area">
<div class=" highlight hl-OCaml"><pre><span></span><span class="n">entierNatif</span> <span class="o">(</span><span class="n">entierChurch</span> <span class="mi">100</span><span class="o">);;</span> <span class="c">(* 100 *)</span>
</pre></div>

    </div>
</div>
</div>

<div class="output_wrapper">
<div class="output">


<div class="output_area">

    <div class="prompt output_prompt">Out[42]:</div>




<div class="output_text output_subarea output_execute_result">
<pre>- : int = 100
</pre>
</div>

</div>

</div>
</div>

</div>
<div class="cell border-box-sizing text_cell rendered"><div class="prompt input_prompt">
</div><div class="inner_cell">
<div class="text_cell_render border-box-sizing rendered_html">
<h2 id="Test-d'in&#233;galit&#233;">Test d'in&#233;galit&#233;<a class="anchor-link" href="#Test-d'in&#233;galit&#233;">&#182;</a></h2><p>On a besoin de pouvoir tester si $n \leq 0$ (ou $n = 0$) en fait.</p>

</div>
</div>
</div>
<div class="cell border-box-sizing code_cell rendered">
<div class="input">
<div class="prompt input_prompt">In&nbsp;[43]:</div>
<div class="inner_cell">
    <div class="input_area">
<div class=" highlight hl-OCaml"><pre><span></span><span class="c">(* prend un lambda f lambda z. ... est donne vrai ssi n = 0 ou faux sinon *)</span>
<span class="k">let</span> <span class="n">estnul</span> <span class="o">=</span> <span class="k">fun</span> <span class="n">n</span> <span class="o">-&gt;</span> <span class="n">n</span> <span class="o">(</span><span class="k">fun</span> <span class="n">z</span> <span class="o">-&gt;</span> <span class="n">faux</span><span class="o">)</span> <span class="o">(</span><span class="n">vrai</span><span class="o">);;</span>
</pre></div>

    </div>
</div>
</div>

<div class="output_wrapper">
<div class="output">


<div class="output_area">

    <div class="prompt"></div>


<div class="output_subarea output_stream output_stderr output_text">
<pre>File &#34;[43]&#34;, line 2, characters 29-30:
Warning 27: unused variable z.
</pre>
</div>
</div>

<div class="output_area">

    <div class="prompt output_prompt">Out[43]:</div>




<div class="output_text output_subarea output_execute_result">
<pre>val estnul : ((&#39;a -&gt; &#39;b -&gt; &#39;c -&gt; &#39;c) -&gt; (&#39;d -&gt; &#39;e -&gt; &#39;d) -&gt; &#39;f) -&gt; &#39;f = &lt;fun&gt;
</pre>
</div>

</div>

</div>
</div>

</div>
<div class="cell border-box-sizing code_cell rendered">
<div class="input">
<div class="prompt input_prompt">In&nbsp;[44]:</div>
<div class="inner_cell">
    <div class="input_area">
<div class=" highlight hl-OCaml"><pre><span></span><span class="c">(* prend un lambda f lambda z. ... est donne vrai ssi n &gt; 0 ou faux sinon *)</span>
<span class="k">let</span> <span class="n">estnonnul</span> <span class="o">=</span> <span class="k">fun</span> <span class="n">n</span> <span class="o">-&gt;</span> <span class="n">n</span> <span class="o">(</span><span class="k">fun</span> <span class="n">z</span> <span class="o">-&gt;</span> <span class="n">vrai</span><span class="o">)</span> <span class="o">(</span><span class="n">faux</span><span class="o">);;</span>
</pre></div>

    </div>
</div>
</div>

<div class="output_wrapper">
<div class="output">


<div class="output_area">

    <div class="prompt"></div>


<div class="output_subarea output_stream output_stderr output_text">
<pre>File &#34;[44]&#34;, line 2, characters 32-33:
Warning 27: unused variable z.
</pre>
</div>
</div>

<div class="output_area">

    <div class="prompt output_prompt">Out[44]:</div>




<div class="output_text output_subarea output_execute_result">
<pre>val estnonnul : ((&#39;a -&gt; &#39;b -&gt; &#39;c -&gt; &#39;b) -&gt; (&#39;d -&gt; &#39;e -&gt; &#39;e) -&gt; &#39;f) -&gt; &#39;f =
  &lt;fun&gt;
</pre>
</div>

</div>

</div>
</div>

</div>
<div class="cell border-box-sizing text_cell rendered"><div class="prompt input_prompt">
</div><div class="inner_cell">
<div class="text_cell_render border-box-sizing rendered_html">
<p>On peut proposer cette autre implémentation, qui "fonctionne" pareil (au sens calcul des $\beta$-réductions) mais est plus compliquée :</p>

</div>
</div>
</div>
<div class="cell border-box-sizing code_cell rendered">
<div class="input">
<div class="prompt input_prompt">In&nbsp;[45]:</div>
<div class="inner_cell">
    <div class="input_area">
<div class=" highlight hl-OCaml"><pre><span></span><span class="k">let</span> <span class="n">estnonnul2</span> <span class="o">=</span> <span class="k">fun</span> <span class="n">n</span> <span class="o">-&gt;</span> <span class="n">non</span> <span class="o">(</span><span class="n">estnul</span> <span class="n">n</span><span class="o">);;</span>
</pre></div>

    </div>
</div>
</div>

<div class="output_wrapper">
<div class="output">


<div class="output_area">

    <div class="prompt output_prompt">Out[45]:</div>




<div class="output_text output_subarea output_execute_result">
<pre>val estnonnul2 :
  ((&#39;a -&gt; &#39;b -&gt; &#39;c -&gt; &#39;c) -&gt; (&#39;d -&gt; &#39;e -&gt; &#39;d) -&gt; &#39;f -&gt; &#39;g -&gt; &#39;h) -&gt;
  &#39;g -&gt; &#39;f -&gt; &#39;h = &lt;fun&gt;
</pre>
</div>

</div>

</div>
</div>

</div>
<div class="cell border-box-sizing code_cell rendered">
<div class="input">
<div class="prompt input_prompt">In&nbsp;[46]:</div>
<div class="inner_cell">
    <div class="input_area">
<div class=" highlight hl-OCaml"><pre><span></span><span class="n">entierNatif</span> <span class="o">(</span><span class="n">si</span> <span class="o">(</span><span class="n">estnul</span> <span class="n">zero</span><span class="o">)</span> <span class="n">zero</span> <span class="n">un</span><span class="o">);;</span> <span class="c">(* 0 *)</span>
<span class="n">entierNatif</span> <span class="o">(</span><span class="n">si</span> <span class="o">(</span><span class="n">estnul</span> <span class="n">un</span><span class="o">)</span>   <span class="n">zero</span> <span class="n">un</span><span class="o">);;</span> <span class="c">(* 1 *)</span>
<span class="n">entierNatif</span> <span class="o">(</span><span class="n">si</span> <span class="o">(</span><span class="n">estnul</span> <span class="n">deux</span><span class="o">)</span> <span class="n">zero</span> <span class="n">un</span><span class="o">);;</span> <span class="c">(* 1 *)</span>
</pre></div>

    </div>
</div>
</div>

<div class="output_wrapper">
<div class="output">


<div class="output_area">

    <div class="prompt output_prompt">Out[46]:</div>




<div class="output_text output_subarea output_execute_result">
<pre>- : int = 0
</pre>
</div>

</div>

<div class="output_area">

    <div class="prompt output_prompt">Out[46]:</div>




<div class="output_text output_subarea output_execute_result">
<pre>- : int = 1
</pre>
</div>

</div>

<div class="output_area">

    <div class="prompt output_prompt">Out[46]:</div>




<div class="output_text output_subarea output_execute_result">
<pre>- : int = 1
</pre>
</div>

</div>

</div>
</div>

</div>
<div class="cell border-box-sizing code_cell rendered">
<div class="input">
<div class="prompt input_prompt">In&nbsp;[47]:</div>
<div class="inner_cell">
    <div class="input_area">
<div class=" highlight hl-OCaml"><pre><span></span><span class="n">entierNatif</span> <span class="o">(</span><span class="n">si</span> <span class="o">(</span><span class="n">estnonnul</span> <span class="n">zero</span><span class="o">)</span> <span class="n">zero</span> <span class="n">un</span><span class="o">);;</span> <span class="c">(* 0 *)</span>
<span class="n">entierNatif</span> <span class="o">(</span><span class="n">si</span> <span class="o">(</span><span class="n">estnonnul</span> <span class="n">un</span><span class="o">)</span>   <span class="n">zero</span> <span class="n">un</span><span class="o">);;</span> <span class="c">(* 1 *)</span>
<span class="n">entierNatif</span> <span class="o">(</span><span class="n">si</span> <span class="o">(</span><span class="n">estnonnul</span> <span class="n">deux</span><span class="o">)</span> <span class="n">zero</span> <span class="n">un</span><span class="o">);;</span> <span class="c">(* 1 *)</span>
</pre></div>

    </div>
</div>
</div>

<div class="output_wrapper">
<div class="output">


<div class="output_area">

    <div class="prompt output_prompt">Out[47]:</div>




<div class="output_text output_subarea output_execute_result">
<pre>- : int = 1
</pre>
</div>

</div>

<div class="output_area">

    <div class="prompt output_prompt">Out[47]:</div>




<div class="output_text output_subarea output_execute_result">
<pre>- : int = 0
</pre>
</div>

</div>

<div class="output_area">

    <div class="prompt output_prompt">Out[47]:</div>




<div class="output_text output_subarea output_execute_result">
<pre>- : int = 0
</pre>
</div>

</div>

</div>
</div>

</div>
<div class="cell border-box-sizing code_cell rendered">
<div class="input">
<div class="prompt input_prompt">In&nbsp;[48]:</div>
<div class="inner_cell">
    <div class="input_area">
<div class=" highlight hl-OCaml"><pre><span></span><span class="n">entierNatif</span> <span class="o">(</span><span class="n">si</span> <span class="o">(</span><span class="n">non</span> <span class="o">(</span><span class="n">estnul</span> <span class="n">zero</span><span class="o">))</span> <span class="n">zero</span> <span class="n">un</span><span class="o">);;</span> <span class="c">(* 0 *)</span>
<span class="n">entierNatif</span> <span class="o">(</span><span class="n">si</span> <span class="o">(</span><span class="n">non</span> <span class="o">(</span><span class="n">estnul</span> <span class="n">un</span><span class="o">))</span>   <span class="n">zero</span> <span class="n">un</span><span class="o">);;</span> <span class="c">(* 1 *)</span>
<span class="n">entierNatif</span> <span class="o">(</span><span class="n">si</span> <span class="o">(</span><span class="n">non</span> <span class="o">(</span><span class="n">estnul</span> <span class="n">deux</span><span class="o">))</span> <span class="n">zero</span> <span class="n">un</span><span class="o">);;</span> <span class="c">(* 1 *)</span>
</pre></div>

    </div>
</div>
</div>

<div class="output_wrapper">
<div class="output">


<div class="output_area">

    <div class="prompt output_prompt">Out[48]:</div>




<div class="output_text output_subarea output_execute_result">
<pre>- : int = 1
</pre>
</div>

</div>

<div class="output_area">

    <div class="prompt output_prompt">Out[48]:</div>




<div class="output_text output_subarea output_execute_result">
<pre>- : int = 0
</pre>
</div>

</div>

<div class="output_area">

    <div class="prompt output_prompt">Out[48]:</div>




<div class="output_text output_subarea output_execute_result">
<pre>- : int = 0
</pre>
</div>

</div>

</div>
</div>

</div>
<div class="cell border-box-sizing text_cell rendered"><div class="prompt input_prompt">
</div><div class="inner_cell">
<div class="text_cell_render border-box-sizing rendered_html">
<h2 id="Successeurs">Successeurs<a class="anchor-link" href="#Successeurs">&#182;</a></h2><p>Vue la représentation de Churc, $n+1$ consiste a appliquer l'argument $f$ une fois de plus :
$f^{n+1}(z) = f (f^n(z))$.</p>

</div>
</div>
</div>
<div class="cell border-box-sizing code_cell rendered">
<div class="input">
<div class="prompt input_prompt">In&nbsp;[49]:</div>
<div class="inner_cell">
    <div class="input_area">
<div class=" highlight hl-OCaml"><pre><span></span><span class="k">let</span> <span class="n">succ</span> <span class="o">=</span> <span class="k">fun</span> <span class="n">n</span> <span class="n">f</span> <span class="n">z</span> <span class="o">-&gt;</span> <span class="n">f</span> <span class="o">((</span><span class="n">n</span> <span class="n">f</span><span class="o">)</span> <span class="n">z</span><span class="o">)</span> <span class="o">;;</span>
</pre></div>

    </div>
</div>
</div>

<div class="output_wrapper">
<div class="output">


<div class="output_area">

    <div class="prompt output_prompt">Out[49]:</div>




<div class="output_text output_subarea output_execute_result">
<pre>val succ : ((&#39;a -&gt; &#39;b) -&gt; &#39;c -&gt; &#39;a) -&gt; (&#39;a -&gt; &#39;b) -&gt; &#39;c -&gt; &#39;b = &lt;fun&gt;
</pre>
</div>

</div>

</div>
</div>

</div>
<div class="cell border-box-sizing code_cell rendered">
<div class="input">
<div class="prompt input_prompt">In&nbsp;[50]:</div>
<div class="inner_cell">
    <div class="input_area">
<div class=" highlight hl-OCaml"><pre><span></span><span class="n">entierNatif</span> <span class="o">(</span><span class="n">succ</span> <span class="n">un</span><span class="o">);;</span> <span class="c">(* 2 *)</span>
</pre></div>

    </div>
</div>
</div>

<div class="output_wrapper">
<div class="output">


<div class="output_area">

    <div class="prompt output_prompt">Out[50]:</div>




<div class="output_text output_subarea output_execute_result">
<pre>- : int = 2
</pre>
</div>

</div>

</div>
</div>

</div>
<div class="cell border-box-sizing code_cell rendered">
<div class="input">
<div class="prompt input_prompt">In&nbsp;[51]:</div>
<div class="inner_cell">
    <div class="input_area">
<div class=" highlight hl-OCaml"><pre><span></span><span class="n">deux</span><span class="o">;;</span>
<span class="n">succ</span> <span class="n">un</span><span class="o">;;</span>
</pre></div>

    </div>
</div>
</div>

<div class="output_wrapper">
<div class="output">


<div class="output_area">

    <div class="prompt output_prompt">Out[51]:</div>




<div class="output_text output_subarea output_execute_result">
<pre>- : (&#39;a -&gt; &#39;a) -&gt; &#39;a -&gt; &#39;a = &lt;fun&gt;
</pre>
</div>

</div>

<div class="output_area">

    <div class="prompt output_prompt">Out[51]:</div>




<div class="output_text output_subarea output_execute_result">
<pre>- : (&#39;_a -&gt; &#39;_a) -&gt; &#39;_a -&gt; &#39;_a = &lt;fun&gt;
</pre>
</div>

</div>

</div>
</div>

</div>
<div class="cell border-box-sizing text_cell rendered"><div class="prompt input_prompt">
</div><div class="inner_cell">
<div class="text_cell_render border-box-sizing rendered_html">
<p>On remarque qu'ils ont le même typage, mais OCaml indique qu'il a moins d'informations à propos du deuxième : ce <code>'_a</code> signifie que le type est <em>contraint</em>, il sera fixé dès la première utilisation de cette fonction.</p>
<p>C'est assez mystérieux, mais il faut retenir le point suivant : <code>deux</code> était écrit manuellement, donc le système a vu le terme en entier, il le connaît et saît que <code>deux = fun f -&gt; fun x -&gt; f (f x))</code>, pas de surprise. Par contre, <code>succ un</code> est le résultat d'une évaluation <em>partielle</em> et vaut <code>fun f z -&gt; f ((deux f) z)</code>. Sauf que le système ne calcule pas tout et laisse l'évaluation partielle ! (heureusement !)</p>

</div>
</div>
</div>
<div class="cell border-box-sizing text_cell rendered"><div class="prompt input_prompt">
</div><div class="inner_cell">
<div class="text_cell_render border-box-sizing rendered_html">
<p>Si on appelle <code>succ un</code> à une fonction, le <code>'_a</code> va être contraint, et on ne pourra pas s'en reservir :</p>

</div>
</div>
</div>
<div class="cell border-box-sizing code_cell rendered">
<div class="input">
<div class="prompt input_prompt">In&nbsp;[54]:</div>
<div class="inner_cell">
    <div class="input_area">
<div class=" highlight hl-OCaml"><pre><span></span><span class="k">let</span> <span class="n">succ_de_un</span> <span class="o">=</span> <span class="n">succ</span> <span class="n">un</span><span class="o">;;</span>
</pre></div>

    </div>
</div>
</div>

<div class="output_wrapper">
<div class="output">


<div class="output_area">

    <div class="prompt output_prompt">Out[54]:</div>




<div class="output_text output_subarea output_execute_result">
<pre>val succ_de_un : (&#39;_a -&gt; &#39;_a) -&gt; &#39;_a -&gt; &#39;_a = &lt;fun&gt;
</pre>
</div>

</div>

</div>
</div>

</div>
<div class="cell border-box-sizing code_cell rendered">
<div class="input">
<div class="prompt input_prompt">In&nbsp;[55]:</div>
<div class="inner_cell">
    <div class="input_area">
<div class=" highlight hl-OCaml"><pre><span></span><span class="o">(</span><span class="n">succ_de_un</span><span class="o">)</span> <span class="o">(</span><span class="k">fun</span> <span class="n">x</span> <span class="o">-&gt;</span> <span class="n">x</span> <span class="o">+</span> <span class="mi">1</span><span class="o">);;</span>
</pre></div>

    </div>
</div>
</div>

<div class="output_wrapper">
<div class="output">


<div class="output_area">

    <div class="prompt output_prompt">Out[55]:</div>




<div class="output_text output_subarea output_execute_result">
<pre>- : int -&gt; int = &lt;fun&gt;
</pre>
</div>

</div>

</div>
</div>

</div>
<div class="cell border-box-sizing code_cell rendered">
<div class="input">
<div class="prompt input_prompt">In&nbsp;[56]:</div>
<div class="inner_cell">
    <div class="input_area">
<div class=" highlight hl-OCaml"><pre><span></span><span class="o">(</span><span class="n">succ_de_un</span><span class="o">)</span> <span class="o">(</span><span class="k">fun</span> <span class="n">x</span> <span class="o">-&gt;</span> <span class="n">x</span> <span class="o">^</span> <span class="s2">&quot;0&quot;</span><span class="o">);;</span>
</pre></div>

    </div>
</div>
</div>

<div class="output_wrapper">
<div class="output">


<div class="output_area">

    <div class="prompt"></div>


<div class="output_subarea output_text output_error">
<pre><span class="ansi-green-fg">File &#34;[56]&#34;, line 1, characters 23-24:
</span><span class="ansi-red-fg">Error: This expression has type int but an expression was expected of type
         string
</span><span class="ansi-cyan-fg">   1: </span><span class="ansi-black-fg">(succ_de_un) (fun x -&gt; </span><span class="ansi-black-fg ansi-underline">x</span><span class="ansi-black-fg"> ^ &#34;0&#34;);;</span>
</pre>
</div>
</div>

</div>
</div>

</div>
<div class="cell border-box-sizing code_cell rendered">
<div class="input">
<div class="prompt input_prompt">In&nbsp;[57]:</div>
<div class="inner_cell">
    <div class="input_area">
<div class=" highlight hl-OCaml"><pre><span></span><span class="o">(</span><span class="n">succ</span> <span class="n">un</span><span class="o">)</span> <span class="o">(</span><span class="k">fun</span> <span class="n">x</span> <span class="o">-&gt;</span> <span class="n">x</span> <span class="o">^</span> <span class="s2">&quot;0&quot;</span><span class="o">);;</span>
<span class="c">(* une valeur fraîchement calculée, sans contrainte *)</span>
</pre></div>

    </div>
</div>
</div>

<div class="output_wrapper">
<div class="output">


<div class="output_area">

    <div class="prompt output_prompt">Out[57]:</div>




<div class="output_text output_subarea output_execute_result">
<pre>- : string -&gt; string = &lt;fun&gt;
</pre>
</div>

</div>

</div>
</div>

</div>
<div class="cell border-box-sizing text_cell rendered"><div class="prompt input_prompt">
</div><div class="inner_cell">
<div class="text_cell_render border-box-sizing rendered_html">
<h2 id="Pr&#233;decesseurs">Pr&#233;decesseurs<a class="anchor-link" href="#Pr&#233;decesseurs">&#182;</a></h2><p>Vue la représentation de Church, $\lambda n. n-1$ n'existe pas... mais on peut tricher.</p>

</div>
</div>
</div>
<div class="cell border-box-sizing code_cell rendered">
<div class="input">
<div class="prompt input_prompt">In&nbsp;[30]:</div>
<div class="inner_cell">
    <div class="input_area">
<div class=" highlight hl-OCaml"><pre><span></span><span class="k">let</span> <span class="n">pred</span> <span class="o">=</span> <span class="k">fun</span> <span class="n">n</span> <span class="o">-&gt;</span>
    <span class="k">if</span> <span class="o">(</span><span class="n">entierNatif</span> <span class="n">n</span><span class="o">)</span> <span class="o">&gt;</span> <span class="mi">0</span> <span class="k">then</span> <span class="n">entierChurch</span> <span class="o">((</span><span class="n">entierNatif</span> <span class="n">n</span><span class="o">)</span> <span class="o">-</span> <span class="mi">1</span><span class="o">)</span>
    <span class="k">else</span> <span class="n">zero</span>
<span class="o">;;</span>
</pre></div>

    </div>
</div>
</div>

<div class="output_wrapper">
<div class="output">


<div class="output_area">

    <div class="prompt output_prompt">Out[30]:</div>




<div class="output_text output_subarea output_execute_result">
<pre>val pred : ((int -&gt; int) -&gt; int -&gt; int) -&gt; (&#39;a -&gt; &#39;a) -&gt; &#39;a -&gt; &#39;a = &lt;fun&gt;
</pre>
</div>

</div>

</div>
</div>

</div>
<div class="cell border-box-sizing code_cell rendered">
<div class="input">
<div class="prompt input_prompt">In&nbsp;[31]:</div>
<div class="inner_cell">
    <div class="input_area">
<div class=" highlight hl-OCaml"><pre><span></span><span class="n">entierNatif</span> <span class="o">(</span><span class="n">pred</span> <span class="n">deux</span><span class="o">);;</span> <span class="c">(* 1 *)</span>
</pre></div>

    </div>
</div>
</div>

<div class="output_wrapper">
<div class="output">


<div class="output_area">

    <div class="prompt output_prompt">Out[31]:</div>




<div class="output_text output_subarea output_execute_result">
<pre>- : int = 1
</pre>
</div>

</div>

</div>
</div>

</div>
<div class="cell border-box-sizing code_cell rendered">
<div class="input">
<div class="prompt input_prompt">In&nbsp;[32]:</div>
<div class="inner_cell">
    <div class="input_area">
<div class=" highlight hl-OCaml"><pre><span></span><span class="n">entierNatif</span> <span class="o">(</span><span class="n">pred</span> <span class="n">trois</span><span class="o">);;</span> <span class="c">(* 2 *)</span>
</pre></div>

    </div>
</div>
</div>

<div class="output_wrapper">
<div class="output">


<div class="output_area">

    <div class="prompt output_prompt">Out[32]:</div>




<div class="output_text output_subarea output_execute_result">
<pre>- : int = 2
</pre>
</div>

</div>

</div>
</div>

</div>
<div class="cell border-box-sizing text_cell rendered"><div class="prompt input_prompt">
</div><div class="inner_cell">
<div class="text_cell_render border-box-sizing rendered_html">
<h2 id="Addition">Addition<a class="anchor-link" href="#Addition">&#182;</a></h2><p>Pour ajouter $n$ et $m$, il faut appliquer une fonction $f$ $n$ fois puis $m$ fois : $f^{n+m}(z) = f^n(f^m(z))$.</p>

</div>
</div>
</div>
<div class="cell border-box-sizing code_cell rendered">
<div class="input">
<div class="prompt input_prompt">In&nbsp;[33]:</div>
<div class="inner_cell">
    <div class="input_area">
<div class=" highlight hl-OCaml"><pre><span></span><span class="k">let</span> <span class="n">somme</span> <span class="o">=</span> <span class="k">fun</span> <span class="n">n</span> <span class="n">m</span> <span class="n">f</span> <span class="n">z</span> <span class="o">-&gt;</span> <span class="n">n</span><span class="o">(</span><span class="n">f</span><span class="o">)(</span> <span class="n">m</span><span class="o">(</span><span class="n">f</span><span class="o">)(</span><span class="n">z</span><span class="o">));;</span>
</pre></div>

    </div>
</div>
</div>

<div class="output_wrapper">
<div class="output">


<div class="output_area">

    <div class="prompt output_prompt">Out[33]:</div>




<div class="output_text output_subarea output_execute_result">
<pre>val somme : (&#39;a -&gt; &#39;b -&gt; &#39;c) -&gt; (&#39;a -&gt; &#39;d -&gt; &#39;b) -&gt; &#39;a -&gt; &#39;d -&gt; &#39;c = &lt;fun&gt;
</pre>
</div>

</div>

</div>
</div>

</div>
<div class="cell border-box-sizing code_cell rendered">
<div class="input">
<div class="prompt input_prompt">In&nbsp;[34]:</div>
<div class="inner_cell">
    <div class="input_area">
<div class=" highlight hl-OCaml"><pre><span></span><span class="k">let</span> <span class="n">cinq</span> <span class="o">=</span> <span class="n">somme</span> <span class="n">deux</span> <span class="n">trois</span> <span class="o">;;</span>
</pre></div>

    </div>
</div>
</div>

<div class="output_wrapper">
<div class="output">


<div class="output_area">

    <div class="prompt output_prompt">Out[34]:</div>




<div class="output_text output_subarea output_execute_result">
<pre>val cinq : (&#39;_a -&gt; &#39;_a) -&gt; &#39;_a -&gt; &#39;_a = &lt;fun&gt;
</pre>
</div>

</div>

</div>
</div>

</div>
<div class="cell border-box-sizing code_cell rendered">
<div class="input">
<div class="prompt input_prompt">In&nbsp;[35]:</div>
<div class="inner_cell">
    <div class="input_area">
<div class=" highlight hl-OCaml"><pre><span></span><span class="n">entierNatif</span> <span class="n">cinq</span><span class="o">;;</span>
</pre></div>

    </div>
</div>
</div>

<div class="output_wrapper">
<div class="output">


<div class="output_area">

    <div class="prompt output_prompt">Out[35]:</div>




<div class="output_text output_subarea output_execute_result">
<pre>- : int = 5
</pre>
</div>

</div>

</div>
</div>

</div>
<div class="cell border-box-sizing code_cell rendered">
<div class="input">
<div class="prompt input_prompt">In&nbsp;[36]:</div>
<div class="inner_cell">
    <div class="input_area">
<div class=" highlight hl-OCaml"><pre><span></span><span class="k">let</span> <span class="n">sept</span> <span class="o">=</span> <span class="n">somme</span> <span class="n">cinq</span> <span class="n">deux</span> <span class="o">;;</span>
</pre></div>

    </div>
</div>
</div>

<div class="output_wrapper">
<div class="output">


<div class="output_area">

    <div class="prompt output_prompt">Out[36]:</div>




<div class="output_text output_subarea output_execute_result">
<pre>val sept : (int -&gt; int) -&gt; int -&gt; int = &lt;fun&gt;
</pre>
</div>

</div>

</div>
</div>

</div>
<div class="cell border-box-sizing code_cell rendered">
<div class="input">
<div class="prompt input_prompt">In&nbsp;[37]:</div>
<div class="inner_cell">
    <div class="input_area">
<div class=" highlight hl-OCaml"><pre><span></span><span class="n">entierNatif</span> <span class="n">sept</span><span class="o">;;</span>
</pre></div>

    </div>
</div>
</div>

<div class="output_wrapper">
<div class="output">


<div class="output_area">

    <div class="prompt output_prompt">Out[37]:</div>




<div class="output_text output_subarea output_execute_result">
<pre>- : int = 7
</pre>
</div>

</div>

</div>
</div>

</div>
<div class="cell border-box-sizing text_cell rendered"><div class="prompt input_prompt">
</div><div class="inner_cell">
<div class="text_cell_render border-box-sizing rendered_html">
<h2 id="Multiplication">Multiplication<a class="anchor-link" href="#Multiplication">&#182;</a></h2><p>Pour multiplier $n$ et $m$, il faut appliquer le codage de $n$ exactement $m$ fois : $f^{nm}(z) = (f^n(f^n(...(f^n(z))...))$.</p>

</div>
</div>
</div>
<div class="cell border-box-sizing code_cell rendered">
<div class="input">
<div class="prompt input_prompt">In&nbsp;[38]:</div>
<div class="inner_cell">
    <div class="input_area">
<div class=" highlight hl-OCaml"><pre><span></span><span class="k">let</span> <span class="n">produit</span> <span class="o">=</span> <span class="k">fun</span> <span class="n">n</span> <span class="n">m</span> <span class="n">f</span> <span class="n">z</span> <span class="o">-&gt;</span> <span class="n">m</span><span class="o">(</span><span class="n">n</span><span class="o">(</span><span class="n">f</span><span class="o">))(</span><span class="n">z</span><span class="o">);;</span>
</pre></div>

    </div>
</div>
</div>

<div class="output_wrapper">
<div class="output">


<div class="output_area">

    <div class="prompt output_prompt">Out[38]:</div>




<div class="output_text output_subarea output_execute_result">
<pre>val produit : (&#39;a -&gt; &#39;b) -&gt; (&#39;b -&gt; &#39;c -&gt; &#39;d) -&gt; &#39;a -&gt; &#39;c -&gt; &#39;d = &lt;fun&gt;
</pre>
</div>

</div>

</div>
</div>

</div>
<div class="cell border-box-sizing text_cell rendered"><div class="prompt input_prompt">
</div><div class="inner_cell">
<div class="text_cell_render border-box-sizing rendered_html">
<p>On peut faire encore mieux avec l'opérateur de composition :</p>

</div>
</div>
</div>
<div class="cell border-box-sizing code_cell rendered">
<div class="input">
<div class="prompt input_prompt">In&nbsp;[39]:</div>
<div class="inner_cell">
    <div class="input_area">
<div class=" highlight hl-OCaml"><pre><span></span><span class="k">let</span> <span class="n">produit</span> <span class="o">=</span> <span class="k">fun</span> <span class="n">n</span> <span class="n">m</span> <span class="o">-&gt;</span> <span class="n">compose</span> <span class="n">m</span> <span class="n">n</span><span class="o">;;</span>
</pre></div>

    </div>
</div>
</div>

<div class="output_wrapper">
<div class="output">


<div class="output_area">

    <div class="prompt output_prompt">Out[39]:</div>




<div class="output_text output_subarea output_execute_result">
<pre>val produit : (&#39;a -&gt; &#39;b) -&gt; (&#39;b -&gt; &#39;c) -&gt; &#39;a -&gt; &#39;c = &lt;fun&gt;
</pre>
</div>

</div>

</div>
</div>

</div>
<div class="cell border-box-sizing code_cell rendered">
<div class="input">
<div class="prompt input_prompt">In&nbsp;[40]:</div>
<div class="inner_cell">
    <div class="input_area">
<div class=" highlight hl-OCaml"><pre><span></span><span class="k">let</span> <span class="n">six</span> <span class="o">=</span> <span class="n">produit</span> <span class="n">deux</span> <span class="n">trois</span> <span class="o">;;</span>
</pre></div>

    </div>
</div>
</div>

<div class="output_wrapper">
<div class="output">


<div class="output_area">

    <div class="prompt output_prompt">Out[40]:</div>




<div class="output_text output_subarea output_execute_result">
<pre>val six : (&#39;_a -&gt; &#39;_a) -&gt; &#39;_a -&gt; &#39;_a = &lt;fun&gt;
</pre>
</div>

</div>

</div>
</div>

</div>
<div class="cell border-box-sizing code_cell rendered">
<div class="input">
<div class="prompt input_prompt">In&nbsp;[41]:</div>
<div class="inner_cell">
    <div class="input_area">
<div class=" highlight hl-OCaml"><pre><span></span><span class="n">entierNatif</span> <span class="n">six</span><span class="o">;;</span>
</pre></div>

    </div>
</div>
</div>

<div class="output_wrapper">
<div class="output">


<div class="output_area">

    <div class="prompt output_prompt">Out[41]:</div>




<div class="output_text output_subarea output_execute_result">
<pre>- : int = 6
</pre>
</div>

</div>

</div>
</div>

</div>
<div class="cell border-box-sizing code_cell rendered">
<div class="input">
<div class="prompt input_prompt">In&nbsp;[42]:</div>
<div class="inner_cell">
    <div class="input_area">
<div class=" highlight hl-OCaml"><pre><span></span><span class="k">let</span> <span class="n">huit</span> <span class="o">=</span> <span class="n">produit</span> <span class="n">deux</span> <span class="n">quatre</span> <span class="o">;;</span>
</pre></div>

    </div>
</div>
</div>

<div class="output_wrapper">
<div class="output">


<div class="output_area">

    <div class="prompt output_prompt">Out[42]:</div>




<div class="output_text output_subarea output_execute_result">
<pre>val huit : (&#39;_a -&gt; &#39;_a) -&gt; &#39;_a -&gt; &#39;_a = &lt;fun&gt;
</pre>
</div>

</div>

</div>
</div>

</div>
<div class="cell border-box-sizing code_cell rendered">
<div class="input">
<div class="prompt input_prompt">In&nbsp;[43]:</div>
<div class="inner_cell">
    <div class="input_area">
<div class=" highlight hl-OCaml"><pre><span></span><span class="n">entierNatif</span> <span class="n">huit</span><span class="o">;;</span>
</pre></div>

    </div>
</div>
</div>

<div class="output_wrapper">
<div class="output">


<div class="output_area">

    <div class="prompt output_prompt">Out[43]:</div>




<div class="output_text output_subarea output_execute_result">
<pre>- : int = 8
</pre>
</div>

</div>

</div>
</div>

</div>
<div class="cell border-box-sizing text_cell rendered"><div class="prompt input_prompt">
</div><div class="inner_cell">
<div class="text_cell_render border-box-sizing rendered_html">
<h2 id="Paires">Paires<a class="anchor-link" href="#Paires">&#182;</a></h2><p>On va écrire un constructeur de paires, <code>paire a b</code> qui sera comme <code>(a, b)</code>, et deux destructeurs, <code>gauche</code> et <code>droite</code>, qui vérifient :</p>

<pre><code>gauche (paire a b) == a
droite (paire a b) == b</code></pre>

</div>
</div>
</div>
<div class="cell border-box-sizing code_cell rendered">
<div class="input">
<div class="prompt input_prompt">In&nbsp;[75]:</div>
<div class="inner_cell">
    <div class="input_area">
<div class=" highlight hl-OCaml"><pre><span></span><span class="k">let</span> <span class="n">paire</span> <span class="o">=</span> <span class="k">fun</span> <span class="n">a</span> <span class="n">b</span> <span class="o">-&gt;</span> <span class="k">fun</span> <span class="n">f</span> <span class="o">-&gt;</span> <span class="n">f</span><span class="o">(</span><span class="n">a</span><span class="o">)(</span><span class="n">b</span><span class="o">);;</span>
</pre></div>

    </div>
</div>
</div>

<div class="output_wrapper">
<div class="output">


<div class="output_area">

    <div class="prompt output_prompt">Out[75]:</div>




<div class="output_text output_subarea output_execute_result">
<pre>val paire : &#39;a -&gt; &#39;b -&gt; (&#39;a -&gt; &#39;b -&gt; &#39;c) -&gt; &#39;c = &lt;fun&gt;
</pre>
</div>

</div>

</div>
</div>

</div>
<div class="cell border-box-sizing code_cell rendered">
<div class="input">
<div class="prompt input_prompt">In&nbsp;[76]:</div>
<div class="inner_cell">
    <div class="input_area">
<div class=" highlight hl-OCaml"><pre><span></span><span class="k">let</span> <span class="n">gauche</span> <span class="o">=</span> <span class="k">fun</span> <span class="n">p</span> <span class="o">-&gt;</span> <span class="n">p</span><span class="o">(</span><span class="k">fun</span> <span class="n">a</span> <span class="n">b</span> <span class="o">-&gt;</span> <span class="n">a</span><span class="o">);;</span>
<span class="k">let</span> <span class="n">droite</span> <span class="o">=</span> <span class="k">fun</span> <span class="n">p</span> <span class="o">-&gt;</span> <span class="n">p</span><span class="o">(</span><span class="k">fun</span> <span class="n">a</span> <span class="n">b</span> <span class="o">-&gt;</span> <span class="n">b</span><span class="o">);;</span>
</pre></div>

    </div>
</div>
</div>

<div class="output_wrapper">
<div class="output">


<div class="output_area">

    <div class="prompt"></div>


<div class="output_subarea output_stream output_stderr output_text">
<pre>File &#34;[76]&#34;, line 1, characters 30-31:
Warning 27: unused variable b.
</pre>
</div>
</div>

<div class="output_area">

    <div class="prompt output_prompt">Out[76]:</div>




<div class="output_text output_subarea output_execute_result">
<pre>val gauche : ((&#39;a -&gt; &#39;b -&gt; &#39;a) -&gt; &#39;c) -&gt; &#39;c = &lt;fun&gt;
</pre>
</div>

</div>

<div class="output_area">

    <div class="prompt"></div>


<div class="output_subarea output_stream output_stderr output_text">
<pre>File &#34;[76]&#34;, line 2, characters 28-29:
Warning 27: unused variable a.
</pre>
</div>
</div>

<div class="output_area">

    <div class="prompt output_prompt">Out[76]:</div>




<div class="output_text output_subarea output_execute_result">
<pre>val droite : ((&#39;a -&gt; &#39;b -&gt; &#39;b) -&gt; &#39;c) -&gt; &#39;c = &lt;fun&gt;
</pre>
</div>

</div>

</div>
</div>

</div>
<div class="cell border-box-sizing code_cell rendered">
<div class="input">
<div class="prompt input_prompt">In&nbsp;[77]:</div>
<div class="inner_cell">
    <div class="input_area">
<div class=" highlight hl-OCaml"><pre><span></span><span class="n">entierNatif</span> <span class="o">(</span><span class="n">gauche</span> <span class="o">(</span><span class="n">paire</span> <span class="n">zero</span> <span class="n">un</span><span class="o">));;</span>
<span class="n">entierNatif</span> <span class="o">(</span><span class="n">droite</span> <span class="o">(</span><span class="n">paire</span> <span class="n">zero</span> <span class="n">un</span><span class="o">));;</span>
</pre></div>

    </div>
</div>
</div>

<div class="output_wrapper">
<div class="output">


<div class="output_area">

    <div class="prompt output_prompt">Out[77]:</div>




<div class="output_text output_subarea output_execute_result">
<pre>- : int = 0
</pre>
</div>

</div>

<div class="output_area">

    <div class="prompt output_prompt">Out[77]:</div>




<div class="output_text output_subarea output_execute_result">
<pre>- : int = 1
</pre>
</div>

</div>

</div>
</div>

</div>
<div class="cell border-box-sizing text_cell rendered"><div class="prompt input_prompt">
</div><div class="inner_cell">
<div class="text_cell_render border-box-sizing rendered_html">
<h2 id="Pr&#233;d&#233;cesseurs,-deuxi&#232;me-essai">Pr&#233;d&#233;cesseurs, deuxi&#232;me essai<a class="anchor-link" href="#Pr&#233;d&#233;cesseurs,-deuxi&#232;me-essai">&#182;</a></h2><p>Il y a une façon, longue et compliquée (<a href="http://gregfjohnson.com/pred/">source</a>) d'y arriver, avec des paires.</p>

</div>
</div>
</div>
<div class="cell border-box-sizing code_cell rendered">
<div class="input">
<div class="prompt input_prompt">In&nbsp;[78]:</div>
<div class="inner_cell">
    <div class="input_area">
<div class=" highlight hl-OCaml"><pre><span></span><span class="k">let</span> <span class="n">pred</span> <span class="n">n</span> <span class="n">suivant</span> <span class="n">premier</span> <span class="o">=</span>
    <span class="k">let</span> <span class="n">pred_suivant</span> <span class="o">=</span> <span class="n">paire</span> <span class="n">vrai</span> <span class="n">premier</span> <span class="k">in</span>
    <span class="k">let</span> <span class="n">pred_premier</span> <span class="o">=</span> <span class="k">fun</span> <span class="n">p</span> <span class="o">-&gt;</span>
        <span class="n">si</span> <span class="o">(</span><span class="n">gauche</span> <span class="n">p</span><span class="o">)</span>
        <span class="o">(</span><span class="n">paire</span> <span class="n">faux</span> <span class="n">premier</span><span class="o">)</span>
        <span class="o">(</span><span class="n">paire</span> <span class="n">faux</span> <span class="o">(</span><span class="n">suivant</span> <span class="o">(</span><span class="n">droite</span> <span class="n">p</span><span class="o">)))</span>
    <span class="k">in</span>
    <span class="k">let</span> <span class="n">paire_finale</span> <span class="o">=</span> <span class="n">n</span> <span class="n">pred_suivant</span> <span class="n">pred_premier</span> <span class="k">in</span>
    <span class="n">droite</span> <span class="n">paire_finale</span>
<span class="o">;;</span>
</pre></div>

    </div>
</div>
</div>

<div class="output_wrapper">
<div class="output">


<div class="output_area">

    <div class="prompt output_prompt">Out[78]:</div>




<div class="output_text output_subarea output_execute_result">
<pre>val pred :
  ((((&#39;a -&gt; &#39;b -&gt; &#39;a) -&gt; &#39;c -&gt; &#39;d) -&gt; &#39;d) -&gt;
   (((&#39;e -&gt; &#39;e -&gt; &#39;e) -&gt;
     (((&#39;f -&gt; &#39;g -&gt; &#39;g) -&gt; &#39;c -&gt; &#39;h) -&gt; &#39;h) -&gt;
     (((&#39;i -&gt; &#39;j -&gt; &#39;j) -&gt; &#39;k -&gt; &#39;l) -&gt; &#39;l) -&gt; &#39;m) -&gt;
    &#39;m) -&gt;
   (&#39;n -&gt; &#39;o -&gt; &#39;o) -&gt; &#39;p) -&gt;
  (((((&#39;f -&gt; &#39;g -&gt; &#39;g) -&gt; &#39;c -&gt; &#39;h) -&gt; &#39;h) -&gt;
    (((&#39;i -&gt; &#39;j -&gt; &#39;j) -&gt; &#39;k -&gt; &#39;l) -&gt; &#39;l) -&gt; &#39;m) -&gt;
   &#39;k) -&gt;
  &#39;c -&gt; &#39;p = &lt;fun&gt;
</pre>
</div>

</div>

</div>
</div>

</div>
<div class="cell border-box-sizing text_cell rendered"><div class="prompt input_prompt">
</div><div class="inner_cell">
<div class="text_cell_render border-box-sizing rendered_html">
<p>Malheureusement, ce n'est pas bien typé.</p>

</div>
</div>
</div>
<div class="cell border-box-sizing code_cell rendered">
<div class="input">
<div class="prompt input_prompt">In&nbsp;[79]:</div>
<div class="inner_cell">
    <div class="input_area">
<div class=" highlight hl-OCaml"><pre><span></span><span class="n">entierNatif</span> <span class="o">(</span><span class="n">pred</span> <span class="n">deux</span><span class="o">);;</span> <span class="c">(* 1 *)</span>
</pre></div>

    </div>
</div>
</div>

<div class="output_wrapper">
<div class="output">


<div class="output_area">

    <div class="prompt"></div>


<div class="output_subarea output_text output_error">
<pre><span class="ansi-green-fg">File &#34;[79]&#34;, line 1, characters 18-22:
</span><span class="ansi-red-fg">Error: This expression has type
         (((&#39;a -&gt; &#39;b -&gt; &#39;a) -&gt; &#39;c -&gt; &#39;d) -&gt; (&#39;a -&gt; &#39;b -&gt; &#39;a) -&gt; &#39;c -&gt; &#39;d) -&gt;
         ((&#39;a -&gt; &#39;b -&gt; &#39;a) -&gt; &#39;c -&gt; &#39;d) -&gt; (&#39;a -&gt; &#39;b -&gt; &#39;a) -&gt; &#39;c -&gt; &#39;d
       but an expression was expected of type
         (((&#39;a -&gt; &#39;b -&gt; &#39;a) -&gt; &#39;c -&gt; &#39;d) -&gt; &#39;d) -&gt;
         (((&#39;e -&gt; &#39;e -&gt; &#39;e) -&gt;
           (((&#39;f -&gt; &#39;g -&gt; &#39;g) -&gt; &#39;c -&gt; &#39;h) -&gt; &#39;h) -&gt;
           (((&#39;i -&gt; &#39;j -&gt; &#39;j) -&gt; &#39;k -&gt; &#39;l) -&gt; &#39;l) -&gt; &#39;m) -&gt;
          &#39;m) -&gt;
         (&#39;n -&gt; &#39;o -&gt; &#39;o) -&gt; &#39;p
       The type variable &#39;d occurs inside (&#39;a -&gt; &#39;b -&gt; &#39;a) -&gt; &#39;c -&gt; &#39;d
</span><span class="ansi-cyan-fg">   1: </span><span class="ansi-black-fg">entierNatif (pred </span><span class="ansi-black-fg ansi-underline">deux</span><span class="ansi-black-fg">);; (* 1 *)</span>
</pre>
</div>
</div>

</div>
</div>

</div>
<div class="cell border-box-sizing text_cell rendered"><div class="prompt input_prompt">
</div><div class="inner_cell">
<div class="text_cell_render border-box-sizing rendered_html">
<h2 id="Listes">Listes<a class="anchor-link" href="#Listes">&#182;</a></h2><p>Pour construire des listes (simplement chaînées), on a besoin d'une valeur pour la liste vide, <code>listevide</code>, d'un constructeur pour une liste <code>cons</code>, un prédicat pour la liste vide <code>estvide</code>, un accesseur <code>tete</code> et <code>queue</code>, et avec les contraintes suivantes (avec <code>vrai</code>, <code>faux</code> définis comme plus haut) :</p>

<pre><code>estvide (listevide) == vrai
estvide (cons tt qu) == faux

tete (cons tt qu) == tt
queue (cons tt qu) == qu

</code></pre>
<p>On va stocker tout ça avec des fonctions qui attendront deux arguments (deux fonctions - rappel tout est fonction en $\lambda$-calcul), l'une appellée si la liste est vide, l'autre si la liste n'est pas vide.</p>

</div>
</div>
</div>
<div class="cell border-box-sizing code_cell rendered">
<div class="input">
<div class="prompt input_prompt">In&nbsp;[58]:</div>
<div class="inner_cell">
    <div class="input_area">
<div class=" highlight hl-OCaml"><pre><span></span><span class="k">let</span> <span class="n">listevide</span> <span class="o">=</span> <span class="k">fun</span> <span class="n">survide</span> <span class="n">surpasvide</span> <span class="o">-&gt;</span> <span class="n">survide</span><span class="o">;;</span>
</pre></div>

    </div>
</div>
</div>

<div class="output_wrapper">
<div class="output">


<div class="output_area">

    <div class="prompt"></div>


<div class="output_subarea output_stream output_stderr output_text">
<pre>File &#34;[58]&#34;, line 1, characters 28-38:
Warning 27: unused variable surpasvide.
</pre>
</div>
</div>

<div class="output_area">

    <div class="prompt output_prompt">Out[58]:</div>




<div class="output_text output_subarea output_execute_result">
<pre>val listevide : &#39;a -&gt; &#39;b -&gt; &#39;a = &lt;fun&gt;
</pre>
</div>

</div>

</div>
</div>

</div>
<div class="cell border-box-sizing code_cell rendered">
<div class="input">
<div class="prompt input_prompt">In&nbsp;[59]:</div>
<div class="inner_cell">
    <div class="input_area">
<div class=" highlight hl-OCaml"><pre><span></span><span class="k">let</span> <span class="n">cons</span> <span class="o">=</span> <span class="k">fun</span> <span class="n">hd</span> <span class="n">tl</span> <span class="o">-&gt;</span> <span class="k">fun</span> <span class="n">survide</span> <span class="n">surpasvide</span> <span class="o">-&gt;</span> <span class="n">surpasvide</span> <span class="n">hd</span> <span class="n">tl</span><span class="o">;;</span>
</pre></div>

    </div>
</div>
</div>

<div class="output_wrapper">
<div class="output">


<div class="output_area">

    <div class="prompt output_prompt">Out[59]:</div>




<div class="output_text output_subarea output_execute_result">
<pre>val cons : &#39;a -&gt; &#39;b -&gt; &#39;c -&gt; (&#39;a -&gt; &#39;b -&gt; &#39;d) -&gt; &#39;d = &lt;fun&gt;
</pre>
</div>

</div>

<div class="output_area">

    <div class="prompt"></div>


<div class="output_subarea output_stream output_stderr output_text">
<pre>File &#34;[59]&#34;, line 1, characters 28-35:
Warning 27: unused variable survide.
</pre>
</div>
</div>

</div>
</div>

</div>
<div class="cell border-box-sizing text_cell rendered"><div class="prompt input_prompt">
</div><div class="inner_cell">
<div class="text_cell_render border-box-sizing rendered_html">
<p>Avec cette construction, <code>estvide</code> est assez simple : <code>survide</code> est <code>() -&gt; vrai</code> et <code>surpasvide</code> est <code>tt qu -&gt; faux</code>.</p>

</div>
</div>
</div>
<div class="cell border-box-sizing code_cell rendered">
<div class="input">
<div class="prompt input_prompt">In&nbsp;[60]:</div>
<div class="inner_cell">
    <div class="input_area">
<div class=" highlight hl-OCaml"><pre><span></span><span class="k">let</span> <span class="n">estvide</span> <span class="o">=</span> <span class="k">fun</span> <span class="n">liste</span> <span class="o">-&gt;</span> <span class="n">liste</span> <span class="o">(</span><span class="n">vrai</span><span class="o">)</span> <span class="o">(</span><span class="k">fun</span> <span class="n">tt</span> <span class="n">qu</span> <span class="o">-&gt;</span> <span class="n">faux</span><span class="o">);;</span>
</pre></div>

    </div>
</div>
</div>

<div class="output_wrapper">
<div class="output">


<div class="output_area">

    <div class="prompt"></div>


<div class="output_subarea output_stream output_stderr output_text">
<pre>File &#34;[60]&#34;, line 1, characters 45-47:
Warning 27: unused variable tt.
File &#34;[60]&#34;, line 1, characters 48-50:
Warning 27: unused variable qu.
</pre>
</div>
</div>

<div class="output_area">

    <div class="prompt output_prompt">Out[60]:</div>




<div class="output_text output_subarea output_execute_result">
<pre>val estvide : ((&#39;a -&gt; &#39;b -&gt; &#39;a) -&gt; (&#39;c -&gt; &#39;d -&gt; &#39;e -&gt; &#39;f -&gt; &#39;f) -&gt; &#39;g) -&gt; &#39;g =
  &lt;fun&gt;
</pre>
</div>

</div>

</div>
</div>

</div>
<div class="cell border-box-sizing text_cell rendered"><div class="prompt input_prompt">
</div><div class="inner_cell">
<div class="text_cell_render border-box-sizing rendered_html">
<p>Deux tests :</p>

</div>
</div>
</div>
<div class="cell border-box-sizing code_cell rendered">
<div class="input">
<div class="prompt input_prompt">In&nbsp;[61]:</div>
<div class="inner_cell">
    <div class="input_area">
<div class=" highlight hl-OCaml"><pre><span></span><span class="n">entierNatif</span> <span class="o">(</span><span class="n">si</span> <span class="o">(</span><span class="n">estvide</span> <span class="o">(</span><span class="n">listevide</span><span class="o">))</span> <span class="n">un</span> <span class="n">zero</span><span class="o">);;</span> <span class="c">(* estvide listevide == vrai *)</span>
<span class="n">entierNatif</span> <span class="o">(</span><span class="n">si</span> <span class="o">(</span><span class="n">estvide</span> <span class="o">(</span><span class="n">cons</span> <span class="n">un</span> <span class="n">listevide</span><span class="o">))</span> <span class="n">un</span> <span class="n">zero</span><span class="o">);;</span> <span class="c">(* estvide (cons un listevide) == faux *)</span>
</pre></div>

    </div>
</div>
</div>

<div class="output_wrapper">
<div class="output">


<div class="output_area">

    <div class="prompt output_prompt">Out[61]:</div>




<div class="output_text output_subarea output_execute_result">
<pre>- : int = 1
</pre>
</div>

</div>

<div class="output_area">

    <div class="prompt output_prompt">Out[61]:</div>




<div class="output_text output_subarea output_execute_result">
<pre>- : int = 0
</pre>
</div>

</div>

</div>
</div>

</div>
<div class="cell border-box-sizing text_cell rendered"><div class="prompt input_prompt">
</div><div class="inner_cell">
<div class="text_cell_render border-box-sizing rendered_html">
<p>Et pour les deux extracteurs, c'est très facile avec cet encodage.</p>

</div>
</div>
</div>
<div class="cell border-box-sizing code_cell rendered">
<div class="input">
<div class="prompt input_prompt">In&nbsp;[62]:</div>
<div class="inner_cell">
    <div class="input_area">
<div class=" highlight hl-OCaml"><pre><span></span><span class="k">let</span> <span class="n">tete</span> <span class="o">=</span> <span class="k">fun</span> <span class="n">liste</span> <span class="o">-&gt;</span> <span class="n">liste</span> <span class="o">(</span><span class="n">vide</span><span class="o">)</span> <span class="o">(</span><span class="k">fun</span> <span class="n">tt</span> <span class="n">qu</span> <span class="o">-&gt;</span> <span class="n">tt</span><span class="o">);;</span>
<span class="k">let</span> <span class="n">queue</span> <span class="o">=</span> <span class="k">fun</span> <span class="n">liste</span> <span class="o">-&gt;</span> <span class="n">liste</span> <span class="o">(</span><span class="n">vide</span><span class="o">)</span> <span class="o">(</span><span class="k">fun</span> <span class="n">tt</span> <span class="n">qu</span> <span class="o">-&gt;</span> <span class="n">qu</span><span class="o">);;</span>
</pre></div>

    </div>
</div>
</div>

<div class="output_wrapper">
<div class="output">


<div class="output_area">

    <div class="prompt"></div>


<div class="output_subarea output_stream output_stderr output_text">
<pre>File &#34;[62]&#34;, line 1, characters 45-47:
Warning 27: unused variable qu.
</pre>
</div>
</div>

<div class="output_area">

    <div class="prompt output_prompt">Out[62]:</div>




<div class="output_text output_subarea output_execute_result">
<pre>val tete : ((&#39;a -&gt; &#39;a) -&gt; (&#39;b -&gt; &#39;c -&gt; &#39;b) -&gt; &#39;d) -&gt; &#39;d = &lt;fun&gt;
</pre>
</div>

</div>

<div class="output_area">

    <div class="prompt"></div>


<div class="output_subarea output_stream output_stderr output_text">
<pre>File &#34;[62]&#34;, line 2, characters 43-45:
Warning 27: unused variable tt.
</pre>
</div>
</div>

<div class="output_area">

    <div class="prompt output_prompt">Out[62]:</div>




<div class="output_text output_subarea output_execute_result">
<pre>val queue : ((&#39;a -&gt; &#39;a) -&gt; (&#39;b -&gt; &#39;c -&gt; &#39;c) -&gt; &#39;d) -&gt; &#39;d = &lt;fun&gt;
</pre>
</div>

</div>

</div>
</div>

</div>
<div class="cell border-box-sizing code_cell rendered">
<div class="input">
<div class="prompt input_prompt">In&nbsp;[69]:</div>
<div class="inner_cell">
    <div class="input_area">
<div class=" highlight hl-OCaml"><pre><span></span><span class="n">entierNatif</span> <span class="o">(</span><span class="n">tete</span> <span class="o">(</span><span class="n">cons</span> <span class="n">un</span> <span class="n">listevide</span><span class="o">));;</span>
<span class="n">entierNatif</span> <span class="o">(</span><span class="n">tete</span> <span class="o">(</span><span class="n">queue</span> <span class="o">(</span><span class="n">cons</span> <span class="n">deux</span> <span class="o">(</span><span class="n">cons</span> <span class="n">un</span> <span class="n">listevide</span><span class="o">))));;</span>
<span class="n">entierNatif</span> <span class="o">(</span><span class="n">tete</span> <span class="o">(</span><span class="n">queue</span> <span class="o">(</span><span class="n">cons</span> <span class="n">trois</span> <span class="o">(</span><span class="n">cons</span> <span class="n">deux</span> <span class="o">(</span><span class="n">cons</span> <span class="n">un</span> <span class="n">listevide</span><span class="o">)))));;</span>
</pre></div>

    </div>
</div>
</div>

<div class="output_wrapper">
<div class="output">


<div class="output_area">

    <div class="prompt output_prompt">Out[69]:</div>




<div class="output_text output_subarea output_execute_result">
<pre>- : int = 1
</pre>
</div>

</div>

<div class="output_area">

    <div class="prompt output_prompt">Out[69]:</div>




<div class="output_text output_subarea output_execute_result">
<pre>- : int = 1
</pre>
</div>

</div>

<div class="output_area">

    <div class="prompt output_prompt">Out[69]:</div>




<div class="output_text output_subarea output_execute_result">
<pre>- : int = 2
</pre>
</div>

</div>

</div>
</div>

</div>
<div class="cell border-box-sizing text_cell rendered"><div class="prompt input_prompt">
</div><div class="inner_cell">
<div class="text_cell_render border-box-sizing rendered_html">
<p>Visualisons les types que Caml trouve a des listes de tailles croissantes :</p>

</div>
</div>
</div>
<div class="cell border-box-sizing code_cell rendered">
<div class="input">
<div class="prompt input_prompt">In&nbsp;[70]:</div>
<div class="inner_cell">
    <div class="input_area">
<div class=" highlight hl-OCaml"><pre><span></span><span class="n">cons</span> <span class="n">un</span> <span class="o">(</span><span class="n">cons</span> <span class="n">un</span> <span class="n">listevide</span><span class="o">);;</span>  <span class="c">(* 8 variables pour une liste de taille 2 *)</span>
</pre></div>

    </div>
</div>
</div>

<div class="output_wrapper">
<div class="output">


<div class="output_area">

    <div class="prompt output_prompt">Out[70]:</div>




<div class="output_text output_subarea output_execute_result">
<pre>- : &#39;_a -&gt;
    (((&#39;_b -&gt; &#39;_b) -&gt; &#39;_b -&gt; &#39;_b) -&gt;
     (&#39;_c -&gt;
      (((&#39;_d -&gt; &#39;_d) -&gt; &#39;_d -&gt; &#39;_d) -&gt; (&#39;_e -&gt; &#39;_f -&gt; &#39;_e) -&gt; &#39;_g) -&gt; &#39;_g) -&gt;
     &#39;_h) -&gt;
    &#39;_h
= &lt;fun&gt;
</pre>
</div>

</div>

</div>
</div>

</div>
<div class="cell border-box-sizing code_cell rendered">
<div class="input">
<div class="prompt input_prompt">In&nbsp;[71]:</div>
<div class="inner_cell">
    <div class="input_area">
<div class=" highlight hl-OCaml"><pre><span></span><span class="n">cons</span> <span class="n">un</span> <span class="o">(</span><span class="n">cons</span> <span class="n">un</span> <span class="o">(</span><span class="n">cons</span> <span class="n">un</span> <span class="o">(</span><span class="n">cons</span> <span class="n">un</span> <span class="n">listevide</span><span class="o">)));;</span>  <span class="c">(* 14 variables pour une liste de taille 4 *)</span>
</pre></div>

    </div>
</div>
</div>

<div class="output_wrapper">
<div class="output">


<div class="output_area">

    <div class="prompt output_prompt">Out[71]:</div>




<div class="output_text output_subarea output_execute_result">
<pre>- : &#39;_a -&gt;
    (((&#39;_b -&gt; &#39;_b) -&gt; &#39;_b -&gt; &#39;_b) -&gt;
     (&#39;_c -&gt;
      (((&#39;_d -&gt; &#39;_d) -&gt; &#39;_d -&gt; &#39;_d) -&gt;
       (&#39;_e -&gt;
        (((&#39;_f -&gt; &#39;_f) -&gt; &#39;_f -&gt; &#39;_f) -&gt;
         (&#39;_g -&gt;
          (((&#39;_h -&gt; &#39;_h) -&gt; &#39;_h -&gt; &#39;_h) -&gt; (&#39;_i -&gt; &#39;_j -&gt; &#39;_i) -&gt; &#39;_k) -&gt; &#39;_k) -&gt;
         &#39;_l) -&gt;
        &#39;_l) -&gt;
       &#39;_m) -&gt;
      &#39;_m) -&gt;
     &#39;_n) -&gt;
    &#39;_n
= &lt;fun&gt;
</pre>
</div>

</div>

</div>
</div>

</div>
<div class="cell border-box-sizing code_cell rendered">
<div class="input">
<div class="prompt input_prompt">In&nbsp;[72]:</div>
<div class="inner_cell">
    <div class="input_area">
<div class=" highlight hl-OCaml"><pre><span></span><span class="n">cons</span> <span class="n">un</span> <span class="o">(</span><span class="n">cons</span> <span class="n">un</span> <span class="o">(</span><span class="n">cons</span> <span class="n">un</span> <span class="o">(</span><span class="n">cons</span> <span class="n">un</span> <span class="o">(</span><span class="n">cons</span> <span class="n">un</span> <span class="o">(</span><span class="n">cons</span> <span class="n">un</span> <span class="o">(</span><span class="n">cons</span> <span class="n">un</span> <span class="o">(</span><span class="n">cons</span> <span class="n">un</span> <span class="n">listevide</span><span class="o">)))))));;</span>  <span class="c">(* 26 variables pour une liste de taille 7 *)</span>
</pre></div>

    </div>
</div>
</div>

<div class="output_wrapper">
<div class="output">


<div class="output_area">

    <div class="prompt output_prompt">Out[72]:</div>




<div class="output_text output_subarea output_execute_result">
<pre>- : &#39;_a -&gt;
    (((&#39;_b -&gt; &#39;_b) -&gt; &#39;_b -&gt; &#39;_b) -&gt;
     (&#39;_c -&gt;
      (((&#39;_d -&gt; &#39;_d) -&gt; &#39;_d -&gt; &#39;_d) -&gt;
       (&#39;_e -&gt;
        (((&#39;_f -&gt; &#39;_f) -&gt; &#39;_f -&gt; &#39;_f) -&gt;
         (&#39;_g -&gt;
          (((&#39;_h -&gt; &#39;_h) -&gt; &#39;_h -&gt; &#39;_h) -&gt;
           (&#39;_i -&gt;
            (((&#39;_j -&gt; &#39;_j) -&gt; &#39;_j -&gt; &#39;_j) -&gt;
             (&#39;_k -&gt;
              (((&#39;_l -&gt; &#39;_l) -&gt; &#39;_l -&gt; &#39;_l) -&gt;
               (&#39;_m -&gt;
                (((&#39;_n -&gt; &#39;_n) -&gt; &#39;_n -&gt; &#39;_n) -&gt;
                 (&#39;_o -&gt;
                  (((&#39;_p -&gt; &#39;_p) -&gt; &#39;_p -&gt; &#39;_p) -&gt; (&#39;_q -&gt; &#39;_r -&gt; &#39;_q) -&gt; &#39;_s) -&gt;
                  &#39;_s) -&gt;
                 &#39;_t) -&gt;
                &#39;_t) -&gt;
               &#39;_u) -&gt;
              &#39;_u) -&gt;
             &#39;_v) -&gt;
            &#39;_v) -&gt;
           &#39;_w) -&gt;
          &#39;_w) -&gt;
         &#39;_x) -&gt;
        &#39;_x) -&gt;
       &#39;_y) -&gt;
      &#39;_y) -&gt;
     &#39;_z) -&gt;
    &#39;_z
= &lt;fun&gt;
</pre>
</div>

</div>

</div>
</div>

</div>
<div class="cell border-box-sizing text_cell rendered"><div class="prompt input_prompt">
</div><div class="inner_cell">
<div class="text_cell_render border-box-sizing rendered_html">
<p>Pour ces raisons là, on se rend compte que le type donné par Caml à une liste de taille $k$ croît linéairement <em>en taille</em> en fonction de $k$ !</p>
<p>Aucun espoir donc (avec cet encodage) d'avoir un type générique pour les listes représentés en Caml.</p>
<p>Et donc nous ne sommes pas surpris de voir cet essai échouer :</p>

</div>
</div>
</div>
<div class="cell border-box-sizing code_cell rendered">
<div class="input">
<div class="prompt input_prompt">In&nbsp;[68]:</div>
<div class="inner_cell">
    <div class="input_area">
<div class=" highlight hl-OCaml"><pre><span></span><span class="k">let</span> <span class="k">rec</span> <span class="n">longueur</span> <span class="n">liste</span> <span class="o">=</span>
    <span class="n">liste</span> <span class="o">(</span><span class="n">zero</span><span class="o">)</span> <span class="o">(</span><span class="k">fun</span> <span class="n">t</span> <span class="n">q</span> <span class="o">-&gt;</span> <span class="n">succ</span> <span class="o">(</span><span class="n">longueur</span> <span class="n">q</span><span class="o">))</span>
<span class="o">;;</span>
</pre></div>

    </div>
</div>
</div>

<div class="output_wrapper">
<div class="output">


<div class="output_area">

    <div class="prompt"></div>


<div class="output_subarea output_text output_error">
<pre><span class="ansi-green-fg">File &#34;[68]&#34;, line 2, characters 44-45:
</span><span class="ansi-red-fg">Error: This expression has type &#39;a but an expression was expected of type
         ((&#39;b -&gt; &#39;b) -&gt; &#39;b -&gt; &#39;b) -&gt; (&#39;c -&gt; &#39;a -&gt; &#39;d) -&gt; &#39;e
       The type variable &#39;a occurs inside
       ((&#39;b -&gt; &#39;b) -&gt; &#39;b -&gt; &#39;b) -&gt; (&#39;c -&gt; &#39;a -&gt; &#39;d) -&gt; &#39;e
</span><span class="ansi-cyan-fg">   1: </span><span class="ansi-black-fg">let rec longueur liste =
</span><span class="ansi-cyan-fg">   2: </span><span class="ansi-black-fg">    liste (zero) (fun t q -&gt; succ (longueur </span><span class="ansi-black-fg ansi-underline">q</span><span class="ansi-black-fg">))
</span><span class="ansi-cyan-fg">   3: </span><span class="ansi-black-fg">;;</span>
</pre>
</div>
</div>

</div>
</div>

</div>
<div class="cell border-box-sizing text_cell rendered"><div class="prompt input_prompt">
</div><div class="inner_cell">
<div class="text_cell_render border-box-sizing rendered_html">
<p><span style="color:red;">En effet, `longueur` devrait être bien typée et `liste` et `q` devraient avoir le même type, or le type de `liste` est strictement plus grand que celui de `q`...</span></p>

</div>
</div>
</div>
<div class="cell border-box-sizing text_cell rendered"><div class="prompt input_prompt">
</div><div class="inner_cell">
<div class="text_cell_render border-box-sizing rendered_html">
<p>On peut essayer de faire une fonction <code>ieme</code>.
On veut que <code>ieme zero liste = tete</code> et <code>ieme n liste = ieme (pred n) (queue liste)</code>.</p>
<p>En écrivant en haut niveau, on aimerait pouvoir faire :</p>

</div>
</div>
</div>
<div class="cell border-box-sizing code_cell rendered">
<div class="input">
<div class="prompt input_prompt">In&nbsp;[87]:</div>
<div class="inner_cell">
    <div class="input_area">
<div class=" highlight hl-OCaml"><pre><span></span><span class="k">let</span> <span class="n">pop</span> <span class="n">liste</span> <span class="o">=</span>
    <span class="n">si</span> <span class="o">(</span><span class="n">estvide</span> <span class="n">liste</span><span class="o">)</span> <span class="o">(</span><span class="n">listevide</span><span class="o">)</span> <span class="o">(</span><span class="n">queue</span> <span class="n">liste</span><span class="o">)</span>
<span class="o">;;</span>
</pre></div>

    </div>
</div>
</div>

<div class="output_wrapper">
<div class="output">


<div class="output_area">

    <div class="prompt"></div>


<div class="output_subarea output_text output_error">
<pre><span class="ansi-green-fg">File &#34;[87]&#34;, line 2, characters 42-47:
</span><span class="ansi-red-fg">Error: This expression has type
         (&#39;a -&gt; &#39;b -&gt; &#39;a) -&gt;
         (&#39;c -&gt; &#39;d -&gt; &#39;e -&gt; &#39;f -&gt; &#39;f) -&gt; (&#39;g -&gt; &#39;h -&gt; &#39;g) -&gt; &#39;i -&gt; &#39;j
       but an expression was expected of type
         (&#39;a -&gt; &#39;a) -&gt; (&#39;k -&gt; &#39;l -&gt; &#39;l) -&gt; &#39;m
       The type variable &#39;a occurs inside &#39;b -&gt; &#39;a
</span><span class="ansi-cyan-fg">   1: </span><span class="ansi-black-fg">let pop liste =
</span><span class="ansi-cyan-fg">   2: </span><span class="ansi-black-fg">    si (estvide liste) (listevide) (queue </span><span class="ansi-black-fg ansi-underline">liste</span><span class="ansi-black-fg">)
</span><span class="ansi-cyan-fg">   3: </span><span class="ansi-black-fg">;;</span>
</pre>
</div>
</div>

</div>
</div>

</div>
<div class="cell border-box-sizing code_cell rendered">
<div class="input">
<div class="prompt input_prompt">In&nbsp;[86]:</div>
<div class="inner_cell">
    <div class="input_area">
<div class=" highlight hl-OCaml"><pre><span></span><span class="k">let</span> <span class="n">ieme</span> <span class="n">n</span> <span class="n">liste</span> <span class="o">=</span>
    <span class="n">tete</span> <span class="o">(</span><span class="n">n</span> <span class="n">pop</span> <span class="n">liste</span><span class="o">)</span>
<span class="o">;;</span>
</pre></div>

    </div>
</div>
</div>

<div class="output_wrapper">
<div class="output">


<div class="output_area">

    <div class="prompt"></div>


<div class="output_subarea output_text output_error">
<pre><span class="ansi-green-fg">File &#34;[86]&#34;, line 2, characters 12-15:
</span><span class="ansi-red-fg">Error: Unbound value pop
</span><span class="ansi-cyan-fg">   1: </span><span class="ansi-black-fg">let ieme n liste =
</span><span class="ansi-cyan-fg">   2: </span><span class="ansi-black-fg">    tete (n </span><span class="ansi-black-fg ansi-underline">pop</span><span class="ansi-black-fg"> liste)
</span><span class="ansi-cyan-fg">   3: </span><span class="ansi-black-fg">;;</span>
</pre>
</div>
</div>

</div>
</div>

</div>
<div class="cell border-box-sizing text_cell rendered"><div class="prompt input_prompt">
</div><div class="inner_cell">
<div class="text_cell_render border-box-sizing rendered_html">
<h2 id="La-fonction-U">La fonction U<a class="anchor-link" href="#La-fonction-U">&#182;</a></h2><p>C'est le premier indice que le $\lambda$-calcul peut être utilisé comme modèle de calcul : le terme $U : f \to f(f)$ ne termine pas si on l'applique à lui-même.</p>
<p>Mais ce sera la faiblesse de l'utilisation de Caml : ce terme ne peut être correctement typé !</p>

</div>
</div>
</div>
<div class="cell border-box-sizing code_cell rendered">
<div class="input">
<div class="prompt input_prompt">In&nbsp;[55]:</div>
<div class="inner_cell">
    <div class="input_area">
<div class=" highlight hl-OCaml"><pre><span></span><span class="k">let</span> <span class="n">u</span> <span class="o">=</span> <span class="k">fun</span> <span class="n">f</span> <span class="o">-&gt;</span> <span class="n">f</span> <span class="o">(</span><span class="n">f</span><span class="o">);;</span>
</pre></div>

    </div>
</div>
</div>

<div class="output_wrapper">
<div class="output">


<div class="output_area">

    <div class="prompt"></div>


<div class="output_subarea output_text output_error">
<pre><span class="ansi-green-fg">File &#34;[55]&#34;, line 1, characters 19-22:
</span><span class="ansi-red-fg">Error: This expression has type &#39;a -&gt; &#39;b
       but an expression was expected of type &#39;a
       The type variable &#39;a occurs inside &#39;a -&gt; &#39;b
</span><span class="ansi-cyan-fg">   1: </span><span class="ansi-black-fg">let u = fun f -&gt; f </span><span class="ansi-black-fg ansi-underline">(f)</span><span class="ansi-black-fg">;;</span>
</pre>
</div>
</div>

</div>
</div>

</div>
<div class="cell border-box-sizing text_cell rendered"><div class="prompt input_prompt">
</div><div class="inner_cell">
<div class="text_cell_render border-box-sizing rendered_html">
<p>A noter que même dans un langage non typé (par exemple Python), on peut définir $U$ mais son exécution échouera, soit à caude d'un dépassement de pile, soit parce qu'elle ne termine pas.</p>

</div>
</div>
</div>
<div class="cell border-box-sizing text_cell rendered"><div class="prompt input_prompt">
</div><div class="inner_cell">
<div class="text_cell_render border-box-sizing rendered_html">
<h2 id="La-r&#233;cursion-via-la-fonction-Y">La r&#233;cursion via la fonction Y<a class="anchor-link" href="#La-r&#233;cursion-via-la-fonction-Y">&#182;</a></h2><p>La fonction $Y$ trouve le point fixe d'une autre fonction.
C'est très utile pour définir des fonctions par récurrence.</p>
<p>Par exemple, la factorielle est le point fixe de la fonction suivante :
"$\lambda f. \lambda n. 1$ si $n \leq 0$ sinon $n * f(n-1)$" (écrite dans un langage plus haut niveau, pas en $\lambda$-calcul).</p>
<p>$Y$ satisfait ces contraintes : $Y(F) = f$ et $f = F(f)$.
Donc $Y(F) = F(Y(F))$ et donc $Y = \lambda F. F(Y(F))$. Mais ce premier essai ne marche pas.</p>

</div>
</div>
</div>
<div class="cell border-box-sizing code_cell rendered">
<div class="input">
<div class="prompt input_prompt">In&nbsp;[56]:</div>
<div class="inner_cell">
    <div class="input_area">
<div class=" highlight hl-OCaml"><pre><span></span><span class="k">let</span> <span class="k">rec</span> <span class="n">y</span> <span class="o">=</span> <span class="k">fun</span> <span class="n">f</span> <span class="o">-&gt;</span> <span class="n">f</span> <span class="o">(</span><span class="n">y</span><span class="o">(</span><span class="n">f</span><span class="o">));;</span>
</pre></div>

    </div>
</div>
</div>

<div class="output_wrapper">
<div class="output">


<div class="output_area">

    <div class="prompt output_prompt">Out[56]:</div>




<div class="output_text output_subarea output_execute_result">
<pre>val y : (&#39;a -&gt; &#39;a) -&gt; &#39;a = &lt;fun&gt;
</pre>
</div>

</div>

</div>
</div>

</div>
<div class="cell border-box-sizing code_cell rendered">
<div class="input">
<div class="prompt input_prompt">In&nbsp;[57]:</div>
<div class="inner_cell">
    <div class="input_area">
<div class=" highlight hl-OCaml"><pre><span></span><span class="k">let</span> <span class="n">fact</span> <span class="o">=</span> <span class="n">y</span><span class="o">(</span><span class="k">fun</span> <span class="n">f</span> <span class="n">n</span> <span class="o">-&gt;</span> <span class="n">si</span> <span class="o">(</span><span class="n">estnul</span> <span class="n">n</span><span class="o">)</span> <span class="o">(</span><span class="n">un</span><span class="o">)</span> <span class="o">(</span><span class="n">produit</span> <span class="n">n</span> <span class="o">(</span><span class="n">f</span> <span class="o">(</span><span class="n">pred</span> <span class="n">n</span><span class="o">))));;</span>
</pre></div>

    </div>
</div>
</div>

<div class="output_wrapper">
<div class="output">


<div class="output_area">

    <div class="prompt"></div>


<div class="output_subarea output_text output_error">
<pre><span class="ansi-green-fg">File &#34;[57]&#34;, line 1, characters 63-64:
</span><span class="ansi-red-fg">Error: This expression has type
         (((&#39;a -&gt; &#39;b -&gt; &#39;a) -&gt; &#39;c -&gt; &#39;d -&gt; &#39;e -&gt; &#39;e) -&gt; &#39;d -&gt; &#39;e -&gt; &#39;e) -&gt;
         (((&#39;f -&gt; &#39;f -&gt; &#39;f) -&gt;
           (((&#39;g -&gt; &#39;h -&gt; &#39;h) -&gt; &#39;c -&gt; &#39;i) -&gt; &#39;i) -&gt;
           (((&#39;j -&gt; &#39;k -&gt; &#39;k) -&gt; &#39;l -&gt; &#39;m) -&gt; &#39;m) -&gt; &#39;n) -&gt;
          &#39;o -&gt;
          (&#39;f -&gt; &#39;f -&gt; &#39;f) -&gt;
          (((&#39;g -&gt; &#39;h -&gt; &#39;h) -&gt; &#39;c -&gt; &#39;i) -&gt; &#39;i) -&gt;
          (((&#39;j -&gt; &#39;k -&gt; &#39;k) -&gt; &#39;l -&gt; &#39;m) -&gt; &#39;m) -&gt; &#39;n) -&gt;
         ((&#39;p -&gt; &#39;p) -&gt; &#39;p -&gt; &#39;p) -&gt; &#39;q -&gt; &#39;r
       but an expression was expected of type
         (((&#39;a -&gt; &#39;b -&gt; &#39;a) -&gt; &#39;c -&gt; &#39;d -&gt; &#39;e -&gt; &#39;e) -&gt; &#39;d -&gt; &#39;e -&gt; &#39;e) -&gt;
         (((&#39;f -&gt; &#39;f -&gt; &#39;f) -&gt;
           (((&#39;g -&gt; &#39;h -&gt; &#39;h) -&gt; &#39;c -&gt; &#39;i) -&gt; &#39;i) -&gt;
           (((&#39;j -&gt; &#39;k -&gt; &#39;k) -&gt; &#39;l -&gt; &#39;m) -&gt; &#39;m) -&gt; &#39;n) -&gt;
          &#39;n) -&gt;
         (&#39;s -&gt; &#39;t -&gt; &#39;t) -&gt; &#39;u
       The type variable &#39;n occurs inside
       &#39;o -&gt;
       (&#39;f -&gt; &#39;f -&gt; &#39;f) -&gt;
       (((&#39;g -&gt; &#39;h -&gt; &#39;h) -&gt; &#39;c -&gt; &#39;i) -&gt; &#39;i) -&gt;
       (((&#39;j -&gt; &#39;k -&gt; &#39;k) -&gt; &#39;l -&gt; &#39;m) -&gt; &#39;m) -&gt; &#39;n
</span><span class="ansi-cyan-fg">   1: </span><span class="ansi-black-fg">let fact = y(fun f n -&gt; si (estnul n) (un) (produit n (f (pred </span><span class="ansi-black-fg ansi-underline">n</span><span class="ansi-black-fg">))));;</span>
</pre>
</div>
</div>

</div>
</div>

</div>
<div class="cell border-box-sizing text_cell rendered"><div class="prompt input_prompt">
</div><div class="inner_cell">
<div class="text_cell_render border-box-sizing rendered_html">
<p>On utilise la $\eta$-expansion : si $e$ termine, $e$ est équivalent (ie tout calcul donne le même terme) à $\lambda x. e(x)$.</p>

</div>
</div>
</div>
<div class="cell border-box-sizing code_cell rendered">
<div class="input">
<div class="prompt input_prompt">In&nbsp;[58]:</div>
<div class="inner_cell">
    <div class="input_area">
<div class=" highlight hl-OCaml"><pre><span></span><span class="k">let</span> <span class="k">rec</span> <span class="n">y</span> <span class="o">=</span> <span class="k">fun</span> <span class="n">f</span> <span class="o">-&gt;</span> <span class="n">f</span> <span class="o">(</span><span class="k">fun</span> <span class="n">x</span> <span class="o">-&gt;</span> <span class="n">y</span><span class="o">(</span><span class="n">f</span><span class="o">)(</span><span class="n">x</span><span class="o">));;</span>
</pre></div>

    </div>
</div>
</div>

<div class="output_wrapper">
<div class="output">


<div class="output_area">

    <div class="prompt output_prompt">Out[58]:</div>




<div class="output_text output_subarea output_execute_result">
<pre>val y : ((&#39;a -&gt; &#39;b) -&gt; &#39;a -&gt; &#39;b) -&gt; &#39;a -&gt; &#39;b = &lt;fun&gt;
</pre>
</div>

</div>

</div>
</div>

</div>
<div class="cell border-box-sizing text_cell rendered"><div class="prompt input_prompt">
</div><div class="inner_cell">
<div class="text_cell_render border-box-sizing rendered_html">
<p>Par contre, le typage n'arrive toujours pas à trouver que l'expression suivante devrait être bien définie :</p>

</div>
</div>
</div>
<div class="cell border-box-sizing code_cell rendered">
<div class="input">
<div class="prompt input_prompt">In&nbsp;[59]:</div>
<div class="inner_cell">
    <div class="input_area">
<div class=" highlight hl-OCaml"><pre><span></span><span class="k">let</span> <span class="n">fact</span> <span class="o">=</span> <span class="n">y</span><span class="o">(</span><span class="k">fun</span> <span class="n">f</span> <span class="n">n</span> <span class="o">-&gt;</span> <span class="n">si</span> <span class="o">(</span><span class="n">estnul</span> <span class="n">n</span><span class="o">)</span> <span class="o">(</span><span class="n">un</span><span class="o">)</span> <span class="o">(</span><span class="n">produit</span> <span class="n">n</span> <span class="o">(</span><span class="n">f</span> <span class="o">(</span><span class="n">pred</span> <span class="n">n</span><span class="o">))));;</span>
</pre></div>

    </div>
</div>
</div>

<div class="output_wrapper">
<div class="output">


<div class="output_area">

    <div class="prompt"></div>


<div class="output_subarea output_text output_error">
<pre><span class="ansi-green-fg">File &#34;[59]&#34;, line 1, characters 63-64:
</span><span class="ansi-red-fg">Error: This expression has type
         (((&#39;a -&gt; &#39;b -&gt; &#39;a) -&gt; &#39;c -&gt; &#39;d -&gt; &#39;e -&gt; &#39;e) -&gt; &#39;d -&gt; &#39;e -&gt; &#39;e) -&gt;
         (((&#39;f -&gt; &#39;f -&gt; &#39;f) -&gt;
           (((&#39;g -&gt; &#39;h -&gt; &#39;h) -&gt; &#39;c -&gt; &#39;i) -&gt; &#39;i) -&gt;
           (((&#39;j -&gt; &#39;k -&gt; &#39;k) -&gt; &#39;l -&gt; &#39;m) -&gt; &#39;m) -&gt; &#39;n) -&gt;
          &#39;o -&gt;
          (&#39;f -&gt; &#39;f -&gt; &#39;f) -&gt;
          (((&#39;g -&gt; &#39;h -&gt; &#39;h) -&gt; &#39;c -&gt; &#39;i) -&gt; &#39;i) -&gt;
          (((&#39;j -&gt; &#39;k -&gt; &#39;k) -&gt; &#39;l -&gt; &#39;m) -&gt; &#39;m) -&gt; &#39;n) -&gt;
         ((&#39;p -&gt; &#39;p) -&gt; &#39;p -&gt; &#39;p) -&gt; &#39;q -&gt; &#39;r
       but an expression was expected of type
         (((&#39;a -&gt; &#39;b -&gt; &#39;a) -&gt; &#39;c -&gt; &#39;d -&gt; &#39;e -&gt; &#39;e) -&gt; &#39;d -&gt; &#39;e -&gt; &#39;e) -&gt;
         (((&#39;f -&gt; &#39;f -&gt; &#39;f) -&gt;
           (((&#39;g -&gt; &#39;h -&gt; &#39;h) -&gt; &#39;c -&gt; &#39;i) -&gt; &#39;i) -&gt;
           (((&#39;j -&gt; &#39;k -&gt; &#39;k) -&gt; &#39;l -&gt; &#39;m) -&gt; &#39;m) -&gt; &#39;n) -&gt;
          &#39;n) -&gt;
         (&#39;s -&gt; &#39;t -&gt; &#39;t) -&gt; &#39;u
       The type variable &#39;n occurs inside
       &#39;o -&gt;
       (&#39;f -&gt; &#39;f -&gt; &#39;f) -&gt;
       (((&#39;g -&gt; &#39;h -&gt; &#39;h) -&gt; &#39;c -&gt; &#39;i) -&gt; &#39;i) -&gt;
       (((&#39;j -&gt; &#39;k -&gt; &#39;k) -&gt; &#39;l -&gt; &#39;m) -&gt; &#39;m) -&gt; &#39;n
</span><span class="ansi-cyan-fg">   1: </span><span class="ansi-black-fg">let fact = y(fun f n -&gt; si (estnul n) (un) (produit n (f (pred </span><span class="ansi-black-fg ansi-underline">n</span><span class="ansi-black-fg">))));;</span>
</pre>
</div>
</div>

</div>
</div>

</div>
<div class="cell border-box-sizing text_cell rendered"><div class="prompt input_prompt">
</div><div class="inner_cell">
<div class="text_cell_render border-box-sizing rendered_html">
<h2 id="Conclusion">Conclusion<a class="anchor-link" href="#Conclusion">&#182;</a></h2><p>Je n'ai pas réussi à traduire intégralement la prouesse initiale, écrite en Python, par Matt Might.
Dommage, le typage de Caml est trop strict pour cet exercice.</p>

</div>
</div>
</div>
 


    </div>
  </div>

  </div>


  
    <footer class="footer hidden-print">
      <div class="container">
        <div class="col-md-4">
          <p>
            This website does not host notebooks, it only renders notebooks
            available on other websites.
          </p>
        </div>

        <div class="col-md-4">
          <p>
            Delivered by <a href="https://www.fastly.com/">Fastly</a>,
            Rendered by <a href="https://developer.rackspace.com/?nbviewer=awesome">Rackspace</a>
          </p>
          <p>
            nbviewer GitHub <a href="https://github.com/jupyter/nbviewer">repository</a>.
          </p>
        </div>

        <div class="col-md-4">
          
  
            
              <p>
                nbviewer version:
                <a href="https://github.com/jupyter/nbviewer/commit/8a8fd298b446096dddc874da57e99dd22a2d8d97">
                  8a8fd29
                </a>
              </p>
            
          
  
  <p>
    nbconvert version: <a href="https://github.com/jupyter/nbconvert/releases/tag/5.6.1">
      5.6.1
    </a>
  </p>
  

          
  
  
  <p>
    Rendered
    <span class='date' data-date='Mon, 27 Jan 2020 13:31:03 UTC' title='Mon, 27 Jan 2020 13:31:03 UTC'>(Mon, 27 Jan 2020 13:31:03 UTC)</span>
  </p>
  

        </div>
      </div>
    </footer>
  

  <script src="/static/components/bootstrap/js/bootstrap.min.js?v=5869c96cc8f19086aee625d670d741f9"></script>
  <script src="/static/components/headroom.js/dist/headroom.min.js?v=b0a311ea668f8e768ea375f4a7abb81c"></script>
  <script src="/static/components/headroom.js/dist/jQuery.headroom.min.js?v=f3a1bae118315d0c234afc74dc6aab71"></script>

  
  
  <script>
    $(function(){ $("#menubar").headroom({
      tolerance: 5,
      offset: 205,
      classes: {
        initial: "animated",
        pinned: "slideInDown",
        unpinned: "slideOutUp"
      }
    })});
  </script>


  
  <script>
    (function(i,s,o,g,r,a,m){i['GoogleAnalyticsObject']=r;i[r]=i[r]||function(){
      (i[r].q=i[r].q||[]).push(arguments)},i[r].l=1*new Date();a=s.createElement(o),
      m=s.getElementsByTagName(o)[0];a.async=1;a.src=g;m.parentNode.insertBefore(a,m)
    })(window,document,'script','https://www.google-analytics.com/analytics.js','ga');
    ga('create', 'UA-52617120-5', 'auto',
       {'storage': 'none'});
    ga('set', 'anonymizeIp', true);
    ga('send', 'pageview');
  </script>
  
  <script>
    require({
        paths: {
          moment: "/static/components/moment/min/moment.min.js?v=89f87298ad94aa1e6b92f42eb66da043"
        }
      }, ["moment"], function(moment){
      var date = $("footer .date"),
        m = moment(new Date(date.data('date'))),
        update = function(){ date.text(m.fromNow()); };
      setInterval(update, 61*1000);
      update();
      var w = $(window).scroll(function(event){
        $("body").toggleClass("scrolled", w.scrollTop() > 0);
      });
    });
  </script>

  <!--NEW RELIC Stop Perf Measurement-->
  
  <!--NEW RELIC End-->
</body>
</html>