{
 "cells": [
  {
   "cell_type": "markdown",
   "metadata": {
    "slideshow": {
     "slide_type": "slide"
    }
   },
   "source": [
    "# Quick Quiz\n",
    "\n",
    "1. Each answer is only one line long: \n",
    "    * Answer like this:\n",
    "        * Q1  $\\ldots$\n",
    "        * Q2 ...\n",
    "        * ....\n",
    "1. You have 15 minutes.\n",
    "1. The quiz is obligatory.\n",
    "1. You pass if you have at least 6 of the 10 questions correct.\n",
    "1. All code must be syntactically correct Python code."
   ]
  },
  {
   "cell_type": "markdown",
   "metadata": {
    "slideshow": {
     "slide_type": "slide"
    }
   },
   "source": [
    "## Questions"
   ]
  },
  {
   "cell_type": "markdown",
   "metadata": {},
   "source": [
    "Describe the class of strings matched by the following regular\n",
    "expressions. For each regex, indicate whether the class is finite or infinite and provide a couple of indicative examples.\n",
    "\n",
    "\n",
    "* **Q1**: `[a-zA-Z]+`\n",
    "* **Q2**: `(ab)*`\n",
    "* **Q3**: `(a|b)*`\n",
    "* **Q4**: `[a-z]?`\n",
    "* **Q5**: `\\d+(\\.\\d+)?`\n",
    "* **Q6**: `\\d` is a shorthand for _any digit_. Give at least 2 different ways of exprresing _any digit_ using regular expressions. Bonus for 3 or more.\n",
    "* **Q7**: `[^aeiou][aeiou][^aeiou]`\n",
    "* **Q8**: What is the difference between the expression in Q7 and this one: `([^aeiou])[aeiou]\\1`.\n",
    "* **Q9**: What is tokenization?  \n",
    "* **Q10**: What is the main difference in functionality between these two ways of \"search and replace\": `mystring.replace(old,replacement)` method and `re.sub(old, replacement, mystring)`?\n",
    "* **Q11**: Give a regular expression which captures prices, like '25', '99,98', etc. Bonus if you give an expression that also captures prices like _15.789,56_ and 3.528.785,78."
   ]
  },
  {
   "cell_type": "code",
   "execution_count": 54,
   "metadata": {
    "collapsed": false,
    "slideshow": {
     "slide_type": "slide"
    }
   },
   "outputs": [
    {
     "name": "stdout",
     "output_type": "stream",
     "text": [
      "[NbConvertApp] Using existing profile dir: u'/Users/admin/.ipython/profile_default'\n",
      "[NbConvertApp] Converting notebook Week2Quiz.ipynb to slides\n",
      "[NbConvertApp] Support files will be in Week2Quiz_files/\n",
      "[NbConvertApp] Loaded template slides_reveal.tpl\n",
      "/Users/admin/Library/Enthought/Canopy_64bit/User/lib/python2.7/site-packages/IPython/nbconvert/filters/markdown.py:78: UserWarning: Node.js 0.9.12 or later wasn't found.\n",
      "Nbconvert will try to use Pandoc instead.\n",
      "  \"Nbconvert will try to use Pandoc instead.\")\n",
      "[NbConvertApp] Writing 203880 bytes to Week2Quiz.slides.html\n",
      "total 1040\n",
      "-rwx------@ 1 admin  staff   11936 Mar 25 11:42 \u001b[31mWeek1PythonRecap.ipynb\u001b[m\u001b[m\n",
      "-rw-------@ 1 admin  staff    9251 Mar 25 13:11 Week1Quiz.ipynb\n",
      "-rw-------@ 1 admin  staff  198772 Mar 25 13:11 Week1Quiz.slides.html\n",
      "-rw-------@ 1 admin  staff   17202 Mar 25 10:21 Week2Assignment.ipynb\n",
      "-rw-------@ 1 admin  staff   12677 Mar 27 14:01 Week2Quiz.ipynb\n",
      "-rw-------@ 1 admin  staff  203880 Mar 27 14:02 Week2Quiz.slides.html\n",
      "-rw-------@ 1 admin  staff    4062 Mar 19 13:48 Week6Assignment.ipynb\n",
      "-rw-r--r--@ 1 admin  staff   58507 Mar 25 13:15 bungehuis-programma.html\n"
     ]
    }
   ],
   "source": [
    "!ipython nbconvert Week2Quiz.ipynb    --to slides --reveal-prefix \"http://maartenmarx.nl/reveal.js\" \n",
    "!chmod og-r Week2Quiz*\n",
    "!ls -l "
   ]
  },
  {
   "cell_type": "code",
   "execution_count": null,
   "metadata": {
    "collapsed": false
   },
   "outputs": [],
   "source": []
  }
 ],
 "metadata": {
  "celltoolbar": "Slideshow",
  "kernelspec": {
   "display_name": "Python 2",
   "language": "python",
   "name": "python2"
  },
  "language_info": {
   "codemirror_mode": {
    "name": "ipython",
    "version": 2
   },
   "file_extension": ".py",
   "mimetype": "text/x-python",
   "name": "python",
   "nbconvert_exporter": "python",
   "pygments_lexer": "ipython2",
   "version": "2.7.3"
  }
 },
 "nbformat": 4,
 "nbformat_minor": 0
}
