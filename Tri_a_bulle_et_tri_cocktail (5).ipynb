








<!DOCTYPE html>
<html lang="en">

<head>
  <meta charset="utf-8">
  <title>Jupyter Notebook Viewer</title>
  <meta name="viewport" content="width=device-width, initial-scale=1.0">
  <meta name="description" content="">
  <meta name="author" content="">
  
  <meta name="robots" content="noindex,nofollow">
  

  <!--NEW RELIC Start Perf Measurement-->
  
  <!--NREND-->

  <!-- Le styles -->
  <link href="/static/build/styles.css?v=7fe30404aaeedb40bf592c91e1d25a26" rel="stylesheet">

  <!-- Le HTML5 shim, for IE6-8 support of HTML5 elements -->
  <!--[if lt IE 9]>
    <script src="http://html5shim.googlecode.com/svn/trunk/html5.js"></script>
  <![endif]-->

  <!-- Le fav and touch icons -->
  <link rel="shortcut icon" href="/static/ico/ipynb_icon_16x16.png">
  <link rel="apple-touch-icon-precomposed" sizes="144x144"
        href="/static/ico/apple-touch-icon-144-precomposed.png?v=5a3c9ede93e2a8b8ea9e3f8f3da1a905">
  <link rel="apple-touch-icon-precomposed" sizes="114x114"
        href="/static/ico/apple-touch-icon-114-precomposed.png?v=45d86fc8f24dc00638035e1dd7a6d898">
  <link rel="apple-touch-icon-precomposed" sizes="72x72"
        href="/static/ico/apple-touch-icon-72-precomposed.png?v=540b5eb0f3cfd25f1439d1c9bd30e15f">
  <link rel="apple-touch-icon-precomposed"
        href="/static/ico/apple-touch-icon-57-precomposed.png?v=225f0590e187e1458625654f10a28f56">
  
  

  

  
  <meta name="twitter:card" content="summary">
  <meta name="twitter:title" content="Notebook on nbviewer">
  <meta name="twitter:description" content="Check out this Jupyter notebook!">

  
  <meta name="twitter:domain" content="nbviewer.jupyter.org">
  <meta name="twitter:image:src" content="http://ipython.org/ipython-doc/dev/_images/ipynb_icon_128x128.png">

  
    <link href="/static/build/notebook.css?v=b71b4a780ae775fd48f0eead7512c5dd" rel="stylesheet">
  

  

  
    <script src="https://cdnjs.cloudflare.com/ajax/libs/mathjax/2.7.1/MathJax.js?config=TeX-AMS_HTML" type="text/javascript">
    </script>
    <script type="text/javascript">
      init_mathjax = function() {
        if (window.MathJax) {
          // MathJax loaded
          MathJax.Hub.Config({
            TeX: {
              equationNumbers: {
                autoNumber: "AMS",
                useLabelIds: true
              }
            },
            tex2jax: {
              inlineMath: [ ['$','$'], ["\\(","\\)"] ],
              displayMath: [ ['$$','$$'], ["\\[","\\]"] ],
              processEscapes: true,
              processEnvironments: true
            },
            displayAlign: 'center',
            "HTML-CSS": {
              styles: {'.MathJax_Display': {"margin": 0}},
              linebreaks: { automatic: true }
            }
          });
          MathJax.Hub.Queue(["Typeset", MathJax.Hub]);
        }
      }
      init_mathjax();
    </script>
  

  
    <script>
      (function() {
        function addWidgetsRenderer() {
          var mimeElement = document.querySelector('script[type="application/vnd.jupyter.widget-view+json"]');
          var scriptElement = document.createElement('script');
          var widgetRendererSrc = 'https://unpkg.com/@jupyter-widgets/html-manager@0.15/dist/embed-amd.js';
          var widgetState;

          try {
            widgetState = mimeElement && JSON.parse(mimeElement.innerHTML);

            if (widgetState && (widgetState.version_major < 2 || !widgetState.version_major)) {
              widgetRendererSrc = 'https://unpkg.com/jupyter-js-widgets@2.1/dist/embed.js';
            }
          } catch(e) {}

          scriptElement.src = widgetRendererSrc;
          document.body.appendChild(scriptElement);
        }

        document.addEventListener('DOMContentLoaded', addWidgetsRenderer);
      }());
    </script>
  

</head>

<body class="nbviewer">

  <!-- These are loaded at the top of the body so they are available to
       notebook cells when they are loaded below. -->
  <script src="/static/components/jquery/dist/jquery.min.js?v=220afd743d9e9643852e31a135a9f3ae"></script>
  <script src="/static/components/requirejs/require.js?v=6da8be361b9ee26c5e721e76c6d4afce"></script>
  <script src="/static/components/moment/min/moment.min.js?v=89f87298ad94aa1e6b92f42eb66da043"></script>
<!-- Navbar
================================================== -->
  <nav id="menubar" class="navbar navbar-default navbar-fixed-top" data-spy="affix">
    <div class="container">
      <div class="navbar-header">
        <button type="button" class="navbar-toggle collapsed" data-toggle="collapse" data-target=".navbar-collapse">
          <span class="sr-only">Toggle navigation</span>
          <i class="fa fa-bars"></i>
        </button>
        <a class="navbar-brand" href="/">
          <img src="/static/img/nav_logo.svg?v=479cefe8d932fb14a67b93911b97d70f" width="159"/>
        </a>
      </div>

      <div class="collapse navbar-collapse">
        <ul class="nav navbar-nav navbar-right">
          <li>
            <a class="active" href="https://jupyter.org">JUPYTER</a>
          </li>
          <li>
    <a href="/faq" title="FAQ" >
      
        <span>FAQ</span>
      
    </a>
  </li>

          
  
    
  
    
      
        <li>
    <a href="script/github/Naereen/notebooks/blob/master/agreg/Tri_a_bulle_et_tri_cocktail.ipynb" title="View as Code" >
      <span class="fa fa-code fa-2x menu-icon"></span>
      <span class="menu-text">View as Code</span>
    </a>
  </li>
      
    
  

  
    <li>
    <a href="#" title="OCaml 4.04.2 Kernel" >
      <span class="fa fa-server fa-2x menu-icon"></span>
      <span class="menu-text">OCaml 4.04.2 Kernel</span>
    </a>
  </li>
  

  
    <li>
    <a href="https://github.com/Naereen/notebooks/blob/master/agreg/Tri_a_bulle_et_tri_cocktail.ipynb" title="View on GitHub" >
      <span class="fa fa-github fa-2x menu-icon"></span>
      <span class="menu-text">View on GitHub</span>
    </a>
  </li>
  

  
    <li>
    <a href="https://mybinder.org/v2/gh/Naereen/notebooks/master?filepath=agreg/Tri_a_bulle_et_tri_cocktail.ipynb" title="Execute on Binder" >
      <span class="fa fa-icon-binder fa-2x menu-icon"></span>
      <span class="menu-text">Execute on Binder</span>
    </a>
  </li>
  

  <li>
    <a href="https://raw.githubusercontent.com/Naereen/notebooks/master/agreg/Tri_a_bulle_et_tri_cocktail.ipynb" title="Download Notebook" download>
      <span class="fa fa-download fa-2x menu-icon"></span>
      <span class="menu-text">Download Notebook</span>
    </a>
  </li>

        </ul>
      </div><!-- /.navbar-collapse -->
      
      
    </div>
  </nav>

  <div class="container container-main">
    
  
  <ol class="breadcrumb">
    
      <li>
        <a href="/github/Naereen/notebooks/tree/master">notebooks</a>
      </li>
    
      <li>
        <a href="/github/Naereen/notebooks/tree/master/agreg">agreg</a>
      </li>
    
  </ol>
  
  <div id="notebook">
    <div id="notebook-container">
      <div class="cell border-box-sizing text_cell rendered"><div class="prompt input_prompt">
</div><div class="inner_cell">
<div class="text_cell_render border-box-sizing rendered_html">
<h1 id="Table-of-Contents">Table of Contents<a class="anchor-link" href="#Table-of-Contents">&#182;</a></h1><p><p><div class="lev1 toc-item"><a href="#Exercice-d'algorithmique---Agrégation-Option-Informatique" data-toc-modified-id="Exercice-d'algorithmique---Agrégation-Option-Informatique-1"><span class="toc-item-num">1&nbsp;&nbsp;</span>Exercice d'algorithmique - Agrégation Option Informatique</a></div><div class="lev2 toc-item"><a href="#Préparation-à-l'agrégation---ENS-de-Rennes,-2016-17" data-toc-modified-id="Préparation-à-l'agrégation---ENS-de-Rennes,-2016-17-11"><span class="toc-item-num">1.1&nbsp;&nbsp;</span>Préparation à l'agrégation - ENS de Rennes, 2016-17</a></div><div class="lev2 toc-item"><a href="#À-propos-de-ce-document" data-toc-modified-id="À-propos-de-ce-document-12"><span class="toc-item-num">1.2&nbsp;&nbsp;</span>À propos de ce document</a></div><div class="lev2 toc-item"><a href="#Le-problème-:-tri-à-bulles-et-tri-cocktail" data-toc-modified-id="Le-problème-:-tri-à-bulles-et-tri-cocktail-13"><span class="toc-item-num">1.3&nbsp;&nbsp;</span>Le problème : tri à bulles et tri cocktail</a></div><div class="lev2 toc-item"><a href="#Tri-à-bulles" data-toc-modified-id="Tri-à-bulles-14"><span class="toc-item-num">1.4&nbsp;&nbsp;</span>Tri à bulles</a></div><div class="lev2 toc-item"><a href="#Tests" data-toc-modified-id="Tests-15"><span class="toc-item-num">1.5&nbsp;&nbsp;</span>Tests</a></div><div class="lev3 toc-item"><a href="#Utilitaire-pour-des-tests" data-toc-modified-id="Utilitaire-pour-des-tests-151"><span class="toc-item-num">1.5.1&nbsp;&nbsp;</span>Utilitaire pour des tests</a></div><div class="lev3 toc-item"><a href="#Tests-du-tri-à-bulle" data-toc-modified-id="Tests-du-tri-à-bulle-152"><span class="toc-item-num">1.5.2&nbsp;&nbsp;</span>Tests du tri à bulle</a></div><div class="lev2 toc-item"><a href="#Tri-cocktail" data-toc-modified-id="Tri-cocktail-16"><span class="toc-item-num">1.6&nbsp;&nbsp;</span>Tri cocktail</a></div><div class="lev2 toc-item"><a href="#Tests" data-toc-modified-id="Tests-17"><span class="toc-item-num">1.7&nbsp;&nbsp;</span>Tests</a></div><div class="lev2 toc-item"><a href="#Comparaison" data-toc-modified-id="Comparaison-18"><span class="toc-item-num">1.8&nbsp;&nbsp;</span>Comparaison</a></div><div class="lev3 toc-item"><a href="#Première-comparaison-:-$n-=-100$" data-toc-modified-id="Première-comparaison-:-$n-=-100$-181"><span class="toc-item-num">1.8.1&nbsp;&nbsp;</span>Première comparaison : <span class="MathJax_Preview" style="color: inherit;"></span><span class="MathJax MathJax_Processing" id="MathJax-Element-3-Frame" tabindex="0"></span><script type="math/tex" id="MathJax-Element-3">n = 100</script></a></div><div class="lev3 toc-item"><a href="#Autre-comparaison-:-$n-=-1000$" data-toc-modified-id="Autre-comparaison-:-$n-=-1000$-182"><span class="toc-item-num">1.8.2&nbsp;&nbsp;</span>Autre comparaison : <span class="MathJax_Preview" style="color: inherit;"></span><span class="MathJax MathJax_Processing" id="MathJax-Element-4-Frame" tabindex="0"></span><script type="math/tex" id="MathJax-Element-4">n = 1000</script></a></div><div class="lev2 toc-item"><a href="#Conclusion" data-toc-modified-id="Conclusion-19"><span class="toc-item-num">1.9&nbsp;&nbsp;</span>Conclusion</a></div><div class="lev3 toc-item"><a href="#Question-/-exercice" data-toc-modified-id="Question-/-exercice-191"><span class="toc-item-num">1.9.1&nbsp;&nbsp;</span>Question / exercice</a></div><div class="lev3 toc-item"><a href="#Liens" data-toc-modified-id="Liens-192"><span class="toc-item-num">1.9.2&nbsp;&nbsp;</span>Liens</a></div></p>

</div>
</div>
</div>
<div class="cell border-box-sizing text_cell rendered"><div class="prompt input_prompt">
</div><div class="inner_cell">
<div class="text_cell_render border-box-sizing rendered_html">
<h1 id="Exercice-d'algorithmique---Agr&#233;gation-Option-Informatique">Exercice d'algorithmique - Agr&#233;gation Option Informatique<a class="anchor-link" href="#Exercice-d'algorithmique---Agr&#233;gation-Option-Informatique">&#182;</a></h1><h2 id="Pr&#233;paration-&#224;-l'agr&#233;gation---ENS-de-Rennes,-2016-17">Pr&#233;paration &#224; l'agr&#233;gation - ENS de Rennes, 2016-17<a class="anchor-link" href="#Pr&#233;paration-&#224;-l'agr&#233;gation---ENS-de-Rennes,-2016-17">&#182;</a></h2><ul>
<li><em>Date</em> : 29 août 2017</li>
<li><em>Auteur</em> : <a href="https://GitHub.com/Naereen/notebooks/">Lilian Besson</a></li>
</ul>

</div>
</div>
</div>
<div class="cell border-box-sizing text_cell rendered"><div class="prompt input_prompt">
</div><div class="inner_cell">
<div class="text_cell_render border-box-sizing rendered_html">
<h2 id="&#192;-propos-de-ce-document">&#192; propos de ce document<a class="anchor-link" href="#&#192;-propos-de-ce-document">&#182;</a></h2><ul>
<li>Ceci est une <em>proposition</em> de correction, pour un exercice (simple) d'algorithmique, pour la préparation à l'<a href="http://Agreg.org/Textes/">agrégation de mathématiques, option informatique</a>.</li>
<li>Ce document est un <a href="https://www.Jupyter.org/">notebook Jupyter</a>, et <a href="https://github.com/Naereen/notebooks/tree/master/agreg/">est open-source sous Licence MIT sur GitHub</a>, comme les autres solutions de textes de modélisation que <a href="https://GitHub.com/Naereen">j</a>'ai écrite cette année.</li>
<li>L'implémentation sera faite en OCaml, version 4+ :</li>
</ul>

</div>
</div>
</div>
<div class="cell border-box-sizing code_cell rendered">
<div class="input">
<div class="prompt input_prompt">In&nbsp;[1]:</div>
<div class="inner_cell">
    <div class="input_area">
<div class=" highlight hl-OCaml"><pre><span></span><span class="nn">Sys</span><span class="p">.</span><span class="n">command</span> <span class="s2">&quot;ocaml -version&quot;</span><span class="o">;;</span>
</pre></div>

    </div>
</div>
</div>

<div class="output_wrapper">
<div class="output">


<div class="output_area">

    <div class="prompt"></div>


<div class="output_subarea output_stream output_stdout output_text">
<pre>The OCaml toplevel, version 4.04.2
</pre>
</div>
</div>

<div class="output_area">

    <div class="prompt output_prompt">Out[1]:</div>




<div class="output_text output_subarea output_execute_result">
<pre>- : int = 0
</pre>
</div>

</div>

</div>
</div>

</div>
<div class="cell border-box-sizing text_cell rendered"><div class="prompt input_prompt">
</div><div class="inner_cell">
<div class="text_cell_render border-box-sizing rendered_html">
<hr>
<h2 id="Le-probl&#232;me-:-tri-&#224;-bulles-et-tri-cocktail">Le probl&#232;me : tri &#224; bulles et tri cocktail<a class="anchor-link" href="#Le-probl&#232;me-:-tri-&#224;-bulles-et-tri-cocktail">&#182;</a></h2><p>On s'intéresse à deux algorithmes de tris.
Pour plus de détails, voir les pages Wikipédia (ou le [Cormen] par exemple) :</p>
<ul>
<li><a href="https://fr.wikipedia.org/wiki/Tri_%C3%A0_bulles">Tri à bulle</a>,</li>
<li><a href="https://fr.wikipedia.org/wiki/Tri_cocktail">Tri cocktail</a>.</li>
</ul>
<p>On veut implémenter les deux et les comparer, sur plein d'entrées.</p>

</div>
</div>
</div>
<div class="cell border-box-sizing text_cell rendered"><div class="prompt input_prompt">
</div><div class="inner_cell">
<div class="text_cell_render border-box-sizing rendered_html">
<hr>
<h2 id="Tri-&#224;-bulles">Tri &#224; bulles<a class="anchor-link" href="#Tri-&#224;-bulles">&#182;</a></h2><p>Commençons par le plus classique.</p>

</div>
</div>
</div>
<div class="cell border-box-sizing code_cell rendered">
<div class="input">
<div class="prompt input_prompt">In&nbsp;[2]:</div>
<div class="inner_cell">
    <div class="input_area">
<div class=" highlight hl-OCaml"><pre><span></span><span class="c">(** Un échange T[i] &lt;-&gt; T[j]. Utilise une valeur temporaire *)</span>
<span class="k">let</span> <span class="n">swap</span> <span class="n">tab</span> <span class="n">i</span> <span class="n">j</span> <span class="o">=</span>
    <span class="k">let</span> <span class="n">tmp</span> <span class="o">=</span> <span class="n">tab</span><span class="o">.(</span><span class="n">i</span><span class="o">)</span> <span class="k">in</span>
    <span class="n">tab</span><span class="o">.(</span><span class="n">i</span><span class="o">)</span> <span class="o">&lt;-</span> <span class="n">tab</span><span class="o">.(</span><span class="n">j</span><span class="o">);</span>
    <span class="n">tab</span><span class="o">.(</span><span class="n">j</span><span class="o">)</span> <span class="o">&lt;-</span> <span class="n">tmp</span>
<span class="o">;;</span>
</pre></div>

    </div>
</div>
</div>

<div class="output_wrapper">
<div class="output">


<div class="output_area">

    <div class="prompt output_prompt">Out[2]:</div>




<div class="output_text output_subarea output_execute_result">
<pre>val swap : &#39;a array -&gt; int -&gt; int -&gt; unit = &lt;fun&gt;
</pre>
</div>

</div>

</div>
</div>

</div>
<div class="cell border-box-sizing text_cell rendered"><div class="prompt input_prompt">
</div><div class="inner_cell">
<div class="text_cell_render border-box-sizing rendered_html">
<p>Le tri à bulle a une complexité en $\mathcal{O}(n^2)$ dans le pire des cas et en moyenne.
Il a l'avantage d'être en place.</p>

</div>
</div>
</div>
<div class="cell border-box-sizing code_cell rendered">
<div class="input">
<div class="prompt input_prompt">In&nbsp;[3]:</div>
<div class="inner_cell">
    <div class="input_area">
<div class=" highlight hl-OCaml"><pre><span></span><span class="k">let</span> <span class="n">tri_bulle</span> <span class="n">cmp</span> <span class="n">tab</span> <span class="o">=</span>
    <span class="k">let</span> <span class="n">n</span> <span class="o">=</span> <span class="nn">Array</span><span class="p">.</span><span class="n">length</span> <span class="n">tab</span> <span class="k">in</span>
    <span class="k">for</span> <span class="n">i</span> <span class="o">=</span> <span class="n">n</span> <span class="o">-</span> <span class="mi">1</span> <span class="k">downto</span> <span class="mi">1</span> <span class="k">do</span>
        <span class="k">for</span> <span class="n">j</span> <span class="o">=</span> <span class="mi">0</span> <span class="k">to</span> <span class="n">i</span> <span class="o">-</span> <span class="mi">1</span> <span class="k">do</span>
            <span class="k">if</span> <span class="n">cmp</span> <span class="n">tab</span><span class="o">.(</span><span class="n">j</span> <span class="o">+</span> <span class="mi">1</span><span class="o">)</span> <span class="n">tab</span><span class="o">.(</span><span class="n">j</span><span class="o">)</span> <span class="o">&lt;</span> <span class="mi">0</span> <span class="k">then</span>
                <span class="n">swap</span> <span class="n">tab</span> <span class="o">(</span><span class="n">j</span> <span class="o">+</span> <span class="mi">1</span><span class="o">)</span> <span class="n">j</span><span class="o">;</span>
        <span class="k">done</span>
    <span class="k">done</span>
<span class="o">;;</span>
</pre></div>

    </div>
</div>
</div>

<div class="output_wrapper">
<div class="output">


<div class="output_area">

    <div class="prompt output_prompt">Out[3]:</div>




<div class="output_text output_subarea output_execute_result">
<pre>val tri_bulle : (&#39;a -&gt; &#39;a -&gt; int) -&gt; &#39;a array -&gt; unit = &lt;fun&gt;
</pre>
</div>

</div>

</div>
</div>

</div>
<div class="cell border-box-sizing text_cell rendered"><div class="prompt input_prompt">
</div><div class="inner_cell">
<div class="text_cell_render border-box-sizing rendered_html">
<p>On utilise une fonction de comparaison générique. La fonction <code>compare</code> (<a href="http://caml.inria.fr/pub/docs/manual-ocaml/libref/Pervasives.html#VALcompare"><code>Pervasives.compare</code></a>) fonctionne pour tous les types par défaut.</p>

</div>
</div>
</div>
<div class="cell border-box-sizing text_cell rendered"><div class="prompt input_prompt">
</div><div class="inner_cell">
<div class="text_cell_render border-box-sizing rendered_html">
<p>Une version plus efficace existe aussi (<a href="https://fr.wikipedia.org/wiki/Tri_%C3%A0_bulles#Principe_et_pseudo-code">voir ces explications</a>).</p>

</div>
</div>
</div>
<div class="cell border-box-sizing code_cell rendered">
<div class="input">
<div class="prompt input_prompt">In&nbsp;[4]:</div>
<div class="inner_cell">
    <div class="input_area">
<div class=" highlight hl-OCaml"><pre><span></span><span class="k">let</span> <span class="n">tri_bulle_opt</span> <span class="n">cmp</span> <span class="n">tab</span> <span class="o">=</span>
    <span class="k">let</span> <span class="n">n</span> <span class="o">=</span> <span class="nn">Array</span><span class="p">.</span><span class="n">length</span> <span class="n">tab</span> <span class="k">in</span>
    <span class="k">let</span> <span class="n">i</span> <span class="o">=</span> <span class="n">ref</span> <span class="mi">0</span> <span class="k">in</span>
    <span class="k">let</span> <span class="n">last_swap</span> <span class="o">=</span> <span class="n">ref</span> <span class="o">(-</span><span class="mi">1</span><span class="o">)</span> <span class="k">in</span>
    <span class="k">while</span> <span class="o">!</span><span class="n">i</span> <span class="o">&lt;</span> <span class="n">n</span> <span class="o">-</span> <span class="mi">1</span> <span class="k">do</span>
        <span class="c">(* séquence d&#39;échanges sur T[i..n]: *)</span>
        <span class="n">last_swap</span> <span class="o">:=</span> <span class="n">n</span> <span class="o">-</span> <span class="mi">1</span><span class="o">;</span>
        <span class="k">for</span> <span class="n">j</span> <span class="o">=</span> <span class="n">n</span><span class="o">-</span><span class="mi">1</span> <span class="k">downto</span> <span class="o">!</span><span class="n">i</span> <span class="o">+</span> <span class="mi">1</span> <span class="k">do</span>
            <span class="k">if</span> <span class="n">cmp</span> <span class="n">tab</span><span class="o">.(</span><span class="n">j</span><span class="o">)</span> <span class="n">tab</span><span class="o">.(</span><span class="n">j</span><span class="o">-</span><span class="mi">1</span><span class="o">)</span> <span class="o">&lt;</span> <span class="mi">0</span> <span class="k">then</span> <span class="k">begin</span>
                <span class="n">swap</span> <span class="n">tab</span> <span class="n">j</span> <span class="o">(</span><span class="n">j</span><span class="o">-</span><span class="mi">1</span><span class="o">);</span>
                <span class="n">last_swap</span> <span class="o">:=</span> <span class="n">j</span> <span class="o">-</span> <span class="mi">1</span>
            <span class="k">end</span><span class="o">;</span>
            <span class="c">(* i avance &quot;plus vite&quot; :*)</span>
            <span class="n">i</span> <span class="o">:=</span> <span class="o">!</span><span class="n">last_swap</span> <span class="o">+</span> <span class="mi">1</span><span class="o">;</span>
        <span class="k">done</span>
    <span class="k">done</span>
<span class="o">;;</span>
</pre></div>

    </div>
</div>
</div>

<div class="output_wrapper">
<div class="output">


<div class="output_area">

    <div class="prompt output_prompt">Out[4]:</div>




<div class="output_text output_subarea output_execute_result">
<pre>val tri_bulle_opt : (&#39;a -&gt; &#39;a -&gt; int) -&gt; &#39;a array -&gt; unit = &lt;fun&gt;
</pre>
</div>

</div>

</div>
</div>

</div>
<div class="cell border-box-sizing text_cell rendered"><div class="prompt input_prompt">
</div><div class="inner_cell">
<div class="text_cell_render border-box-sizing rendered_html">
<hr>
<h2 id="Tests">Tests<a class="anchor-link" href="#Tests">&#182;</a></h2><p>On fait quelques tests.</p>

</div>
</div>
</div>
<div class="cell border-box-sizing text_cell rendered"><div class="prompt input_prompt">
</div><div class="inner_cell">
<div class="text_cell_render border-box-sizing rendered_html">
<h3 id="Utilitaire-pour-des-tests">Utilitaire pour des tests<a class="anchor-link" href="#Utilitaire-pour-des-tests">&#182;</a></h3>
</div>
</div>
</div>
<div class="cell border-box-sizing code_cell rendered">
<div class="input">
<div class="prompt input_prompt">In&nbsp;[5]:</div>
<div class="inner_cell">
    <div class="input_area">
<div class=" highlight hl-OCaml"><pre><span></span><span class="c">(** Taille max des éléments dans les tableaux aléatoires *)</span>
<span class="k">let</span> <span class="n">maxint</span> <span class="o">=</span> <span class="n">int_of_float</span><span class="o">(</span><span class="mf">1e3</span><span class="o">);;</span>
</pre></div>

    </div>
</div>
</div>

<div class="output_wrapper">
<div class="output">


<div class="output_area">

    <div class="prompt output_prompt">Out[5]:</div>




<div class="output_text output_subarea output_execute_result">
<pre>val maxint : int = 1000
</pre>
</div>

</div>

</div>
</div>

</div>
<div class="cell border-box-sizing code_cell rendered">
<div class="input">
<div class="prompt input_prompt">In&nbsp;[9]:</div>
<div class="inner_cell">
    <div class="input_area">
<div class=" highlight hl-OCaml"><pre><span></span><span class="c">(** Créer un tableau aléatoire. En O(n). *)</span>
<span class="k">let</span> <span class="n">rand_array</span> <span class="n">length</span> <span class="o">=</span>
    <span class="nn">Array</span><span class="p">.</span><span class="n">init</span> <span class="n">length</span> <span class="o">(</span><span class="k">fun</span> <span class="o">_</span> <span class="o">-&gt;</span> <span class="nn">Random</span><span class="p">.</span><span class="n">int</span> <span class="n">maxint</span><span class="o">)</span>
<span class="o">;;</span>
</pre></div>

    </div>
</div>
</div>

<div class="output_wrapper">
<div class="output">


<div class="output_area">

    <div class="prompt output_prompt">Out[9]:</div>




<div class="output_text output_subarea output_execute_result">
<pre>val rand_array : int -&gt; int array = &lt;fun&gt;
</pre>
</div>

</div>

</div>
</div>

</div>
<div class="cell border-box-sizing code_cell rendered">
<div class="input">
<div class="prompt input_prompt">In&nbsp;[10]:</div>
<div class="inner_cell">
    <div class="input_area">
<div class=" highlight hl-OCaml"><pre><span></span><span class="c">(** Vérifie que chaque élément du tableau n&#39;y est qu&#39;une seule fois (test l&#39;égalité &lt;&gt; et pas !==).</span>
<span class="c">    Mal codé, en O(n^2). *)</span>
<span class="k">let</span> <span class="n">isInjArray</span> <span class="n">tab</span> <span class="o">=</span>
    <span class="k">try</span> <span class="k">begin</span>
        <span class="nn">Array</span><span class="p">.</span><span class="n">iteri</span> <span class="o">(</span><span class="k">fun</span> <span class="n">i</span> <span class="n">x</span> <span class="o">-&gt;</span> 
            <span class="o">(</span><span class="nn">Array</span><span class="p">.</span><span class="n">iteri</span> <span class="o">(</span><span class="k">fun</span> <span class="n">j</span> <span class="n">y</span> <span class="o">-&gt;</span> 
                <span class="k">assert</span><span class="o">(</span> <span class="o">(</span><span class="n">x</span><span class="o">&lt;&gt;</span><span class="n">y</span><span class="o">)</span> <span class="o">||</span> <span class="o">(</span><span class="n">i</span><span class="o">=</span><span class="n">j</span><span class="o">)</span> <span class="o">)</span> 
            <span class="o">)</span> <span class="n">tab</span><span class="o">)</span> 
        <span class="o">)</span> <span class="n">tab</span><span class="o">;</span>
        <span class="bp">true</span>
        <span class="k">end</span>
    <span class="k">with</span> <span class="o">_</span> <span class="o">-&gt;</span> <span class="bp">false</span>
<span class="o">;;</span>
</pre></div>

    </div>
</div>
</div>

<div class="output_wrapper">
<div class="output">


<div class="output_area">

    <div class="prompt output_prompt">Out[10]:</div>




<div class="output_text output_subarea output_execute_result">
<pre>val isInjArray : &#39;a array -&gt; bool = &lt;fun&gt;
</pre>
</div>

</div>

</div>
</div>

</div>
<div class="cell border-box-sizing code_cell rendered">
<div class="input">
<div class="prompt input_prompt">In&nbsp;[11]:</div>
<div class="inner_cell">
    <div class="input_area">
<div class=" highlight hl-OCaml"><pre><span></span><span class="c">(** En moyenne, est en O(n^2) si [maxint] est bien plus grand que [n]. *)</span>
<span class="k">let</span> <span class="n">rand_array_inj</span> <span class="o">=</span> <span class="k">function</span>
    <span class="o">|</span> <span class="mi">0</span> <span class="o">-&gt;</span> <span class="o">[||]</span>
    <span class="o">|</span> <span class="n">length</span> <span class="o">-&gt;</span>
        <span class="k">let</span> <span class="n">tab</span> <span class="o">=</span> <span class="n">ref</span> <span class="o">(</span><span class="n">rand_array</span> <span class="n">length</span><span class="o">)</span> <span class="k">in</span>
        <span class="k">while</span> <span class="n">not</span><span class="o">(</span><span class="n">isInjArray</span> <span class="o">(!</span><span class="n">tab</span><span class="o">))</span> <span class="k">do</span>
            <span class="n">tab</span> <span class="o">:=</span> <span class="n">rand_array</span> <span class="n">length</span><span class="o">;</span>
        <span class="k">done</span><span class="o">;</span>
        <span class="o">!</span><span class="n">tab</span>
<span class="o">;;</span>
</pre></div>

    </div>
</div>
</div>

<div class="output_wrapper">
<div class="output">


<div class="output_area">

    <div class="prompt output_prompt">Out[11]:</div>




<div class="output_text output_subarea output_execute_result">
<pre>val rand_array_inj : int -&gt; int array = &lt;fun&gt;
</pre>
</div>

</div>

</div>
</div>

</div>
<div class="cell border-box-sizing text_cell rendered"><div class="prompt input_prompt">
</div><div class="inner_cell">
<div class="text_cell_render border-box-sizing rendered_html">
<p>Cette fonction prend un seul argument, la taille du tableau :</p>

</div>
</div>
</div>
<div class="cell border-box-sizing code_cell rendered">
<div class="input">
<div class="prompt input_prompt">In&nbsp;[12]:</div>
<div class="inner_cell">
    <div class="input_area">
<div class=" highlight hl-OCaml"><pre><span></span><span class="n">rand_array_inj</span> <span class="mi">12</span><span class="o">;;</span>
</pre></div>

    </div>
</div>
</div>

<div class="output_wrapper">
<div class="output">


<div class="output_area">

    <div class="prompt output_prompt">Out[12]:</div>




<div class="output_text output_subarea output_execute_result">
<pre>- : int array = [|344; 685; 182; 641; 439; 500; 104; 20; 921; 370; 217; 885|]
</pre>
</div>

</div>

</div>
</div>

</div>
<div class="cell border-box-sizing code_cell rendered">
<div class="input">
<div class="prompt input_prompt">In&nbsp;[13]:</div>
<div class="inner_cell">
    <div class="input_area">
<div class=" highlight hl-OCaml"><pre><span></span><span class="n">rand_array_inj</span> <span class="mi">12</span><span class="o">;;</span>
</pre></div>

    </div>
</div>
</div>

<div class="output_wrapper">
<div class="output">


<div class="output_area">

    <div class="prompt output_prompt">Out[13]:</div>




<div class="output_text output_subarea output_execute_result">
<pre>- : int array = [|949; 678; 615; 412; 401; 606; 428; 869; 289; 393; 14; 423|]
</pre>
</div>

</div>

</div>
</div>

</div>
<div class="cell border-box-sizing code_cell rendered">
<div class="input">
<div class="prompt input_prompt">In&nbsp;[14]:</div>
<div class="inner_cell">
    <div class="input_area">
<div class=" highlight hl-OCaml"><pre><span></span><span class="n">rand_array_inj</span> <span class="mi">12</span><span class="o">;;</span>
</pre></div>

    </div>
</div>
</div>

<div class="output_wrapper">
<div class="output">


<div class="output_area">

    <div class="prompt output_prompt">Out[14]:</div>




<div class="output_text output_subarea output_execute_result">
<pre>- : int array = [|723; 544; 96; 803; 500; 570; 649; 212; 755; 211; 357; 197|]
</pre>
</div>

</div>

</div>
</div>

</div>
<div class="cell border-box-sizing text_cell rendered"><div class="prompt input_prompt">
</div><div class="inner_cell">
<div class="text_cell_render border-box-sizing rendered_html">
<p>Fonction de test :</p>

</div>
</div>
</div>
<div class="cell border-box-sizing code_cell rendered">
<div class="input">
<div class="prompt input_prompt">In&nbsp;[22]:</div>
<div class="inner_cell">
    <div class="input_area">
<div class=" highlight hl-OCaml"><pre><span></span><span class="k">let</span> <span class="n">print</span> <span class="o">=</span> <span class="nn">Printf</span><span class="p">.</span><span class="n">printf</span><span class="o">;;</span> 

<span class="k">let</span> <span class="n">testtri</span> <span class="n">mysort</span> <span class="n">cmp</span> <span class="n">length</span> <span class="n">nbrun</span> <span class="bp">()</span> <span class="o">=</span>
    <span class="n">print</span> <span class="s2">&quot;Test d&#39;un tri, %i simulations avec des tableaux de longueur %i.</span><span class="se">\n</span><span class="s2"> &quot;</span> <span class="n">nbrun</span> <span class="n">length</span><span class="o">;</span>
    <span class="k">for</span> <span class="n">i</span> <span class="o">=</span> <span class="mi">0</span> <span class="k">to</span> <span class="n">nbrun</span> <span class="o">-</span> <span class="mi">1</span> <span class="k">do</span>
        <span class="k">let</span> <span class="n">t1</span> <span class="o">=</span> <span class="n">rand_array</span> <span class="n">length</span> <span class="k">in</span>
        <span class="k">let</span> <span class="n">t2</span> <span class="o">=</span> <span class="nn">Array</span><span class="p">.</span><span class="n">copy</span> <span class="n">t1</span> <span class="k">in</span>
        <span class="n">mysort</span> <span class="n">cmp</span> <span class="n">t1</span><span class="o">;</span>
        <span class="nn">Array</span><span class="p">.</span><span class="n">fast_sort</span> <span class="n">cmp</span> <span class="n">t2</span><span class="o">;</span>
        <span class="k">try</span> <span class="k">assert</span><span class="o">(</span> <span class="n">t1</span> <span class="o">=</span> <span class="n">t2</span> <span class="o">)</span> <span class="k">with</span> <span class="o">_</span> <span class="o">-&gt;</span> <span class="k">begin</span>
            <span class="n">print</span> <span class="s2">&quot;Avec des tableaux de taille %i, le test numéro %i a échoué.&quot;</span> <span class="n">length</span> <span class="n">i</span><span class="o">;</span>
            <span class="nn">Format</span><span class="p">.</span><span class="n">printf</span> <span class="s2">&quot;@[t1=[|&quot;</span><span class="o">;</span> <span class="nn">Array</span><span class="p">.</span><span class="n">iter</span> <span class="o">(</span><span class="k">fun</span> <span class="n">i</span> <span class="o">-&gt;</span> <span class="nn">Format</span><span class="p">.</span><span class="n">printf</span> <span class="s2">&quot; %i;&quot;</span> <span class="n">i</span><span class="o">)</span> <span class="n">t1</span><span class="o">;</span> <span class="nn">Format</span><span class="p">.</span><span class="n">printf</span> <span class="s2">&quot;|]@]@ &quot;</span><span class="o">;</span>
            <span class="nn">Format</span><span class="p">.</span><span class="n">printf</span> <span class="s2">&quot;@[t2=[|&quot;</span><span class="o">;</span> <span class="nn">Array</span><span class="p">.</span><span class="n">iter</span> <span class="o">(</span><span class="k">fun</span> <span class="n">i</span> <span class="o">-&gt;</span> <span class="nn">Format</span><span class="p">.</span><span class="n">printf</span> <span class="s2">&quot; %i;&quot;</span> <span class="n">i</span><span class="o">)</span> <span class="n">t2</span><span class="o">;</span> <span class="nn">Format</span><span class="p">.</span><span class="n">printf</span> <span class="s2">&quot;|]@]@ &quot;</span><span class="o">;</span>
        <span class="k">end</span><span class="o">;</span>
    <span class="k">done</span><span class="o">;</span>
    <span class="n">flush_all</span> <span class="bp">()</span><span class="o">;</span>
<span class="o">;;</span>
</pre></div>

    </div>
</div>
</div>

<div class="output_wrapper">
<div class="output">


<div class="output_area">

    <div class="prompt output_prompt">Out[22]:</div>




<div class="output_text output_subarea output_execute_result">
<pre>val print : (&#39;a, out_channel, unit) format -&gt; &#39;a = &lt;fun&gt;
</pre>
</div>

</div>

<div class="output_area">

    <div class="prompt output_prompt">Out[22]:</div>




<div class="output_text output_subarea output_execute_result">
<pre>val testtri :
  ((int -&gt; int -&gt; int) -&gt; int array -&gt; &#39;a) -&gt;
  (int -&gt; int -&gt; int) -&gt; int -&gt; int -&gt; unit -&gt; unit = &lt;fun&gt;
</pre>
</div>

</div>

</div>
</div>

</div>
<div class="cell border-box-sizing text_cell rendered"><div class="prompt input_prompt">
</div><div class="inner_cell">
<div class="text_cell_render border-box-sizing rendered_html">
<h3 id="Tests-du-tri-&#224;-bulle">Tests du tri &#224; bulle<a class="anchor-link" href="#Tests-du-tri-&#224;-bulle">&#182;</a></h3>
</div>
</div>
</div>
<div class="cell border-box-sizing text_cell rendered"><div class="prompt input_prompt">
</div><div class="inner_cell">
<div class="text_cell_render border-box-sizing rendered_html">
<p>La fonction de tri par défaut marche bien, évidemment.</p>

</div>
</div>
</div>
<div class="cell border-box-sizing code_cell rendered">
<div class="input">
<div class="prompt input_prompt">In&nbsp;[23]:</div>
<div class="inner_cell">
    <div class="input_area">
<div class=" highlight hl-OCaml"><pre><span></span><span class="n">testtri</span> <span class="nn">Array</span><span class="p">.</span><span class="n">sort</span> <span class="n">compare</span> <span class="mi">10</span> <span class="mi">10</span> <span class="bp">()</span><span class="o">;;</span>
</pre></div>

    </div>
</div>
</div>

<div class="output_wrapper">
<div class="output">


<div class="output_area">

    <div class="prompt output_prompt">Out[23]:</div>




<div class="output_text output_subarea output_execute_result">
<pre>- : unit = ()
</pre>
</div>

</div>

<div class="output_area">

    <div class="prompt"></div>


<div class="output_subarea output_stream output_stdout output_text">
<pre> Test d&#39;un tri, 10 simulations avec des tableaux de longueur 10.
</pre>
</div>
</div>

</div>
</div>

</div>
<div class="cell border-box-sizing code_cell rendered">
<div class="input">
<div class="prompt input_prompt">In&nbsp;[24]:</div>
<div class="inner_cell">
    <div class="input_area">
<div class=" highlight hl-OCaml"><pre><span></span><span class="n">testtri</span> <span class="n">tri_bulle</span> <span class="n">compare</span> <span class="mi">10</span> <span class="mi">10</span> <span class="bp">()</span><span class="o">;;</span>
</pre></div>

    </div>
</div>
</div>

<div class="output_wrapper">
<div class="output">


<div class="output_area">

    <div class="prompt output_prompt">Out[24]:</div>




<div class="output_text output_subarea output_execute_result">
<pre>- : unit = ()
</pre>
</div>

</div>

<div class="output_area">

    <div class="prompt"></div>


<div class="output_subarea output_stream output_stdout output_text">
<pre> Test d&#39;un tri, 10 simulations avec des tableaux de longueur 10.
</pre>
</div>
</div>

</div>
</div>

</div>
<div class="cell border-box-sizing code_cell rendered">
<div class="input">
<div class="prompt input_prompt">In&nbsp;[25]:</div>
<div class="inner_cell">
    <div class="input_area">
<div class=" highlight hl-OCaml"><pre><span></span><span class="n">testtri</span> <span class="n">tri_bulle_opt</span> <span class="n">compare</span> <span class="mi">10</span> <span class="mi">10</span> <span class="bp">()</span><span class="o">;;</span>
</pre></div>

    </div>
</div>
</div>

<div class="output_wrapper">
<div class="output">


<div class="output_area">

    <div class="prompt"></div>


<div class="output_subarea output_stream output_stdout output_text">
<pre> Test d&#39;un tri, 10 simulations avec des tableaux de longueur 10.
</pre>
</div>
</div>

<div class="output_area">

    <div class="prompt output_prompt">Out[25]:</div>




<div class="output_text output_subarea output_execute_result">
<pre>- : unit = ()
</pre>
</div>

</div>

</div>
</div>

</div>
<div class="cell border-box-sizing text_cell rendered"><div class="prompt input_prompt">
</div><div class="inner_cell">
<div class="text_cell_render border-box-sizing rendered_html">
<p>Ça marche !</p>

</div>
</div>
</div>
<div class="cell border-box-sizing code_cell rendered">
<div class="input">
<div class="prompt input_prompt">In&nbsp;[26]:</div>
<div class="inner_cell">
    <div class="input_area">
<div class=" highlight hl-OCaml"><pre><span></span><span class="n">testtri</span> <span class="n">tri_bulle</span> <span class="n">compare</span> <span class="mi">100</span> <span class="mi">1000</span> <span class="bp">()</span><span class="o">;;</span>
</pre></div>

    </div>
</div>
</div>

<div class="output_wrapper">
<div class="output">


<div class="output_area">

    <div class="prompt"></div>


<div class="output_subarea output_stream output_stdout output_text">
<pre> Test d&#39;un tri, 1000 simulations avec des tableaux de longueur 100.
</pre>
</div>
</div>

<div class="output_area">

    <div class="prompt output_prompt">Out[26]:</div>




<div class="output_text output_subarea output_execute_result">
<pre>- : unit = ()
</pre>
</div>

</div>

</div>
</div>

</div>
<div class="cell border-box-sizing text_cell rendered"><div class="prompt input_prompt">
</div><div class="inner_cell">
<div class="text_cell_render border-box-sizing rendered_html">
<hr>
<h2 id="Tri-cocktail">Tri cocktail<a class="anchor-link" href="#Tri-cocktail">&#182;</a></h2>
</div>
</div>
</div>
<div class="cell border-box-sizing text_cell rendered"><div class="prompt input_prompt">
</div><div class="inner_cell">
<div class="text_cell_render border-box-sizing rendered_html">
<p>Il est très semblable au tri à bulle, sauf que le tableau sera parcouru alternativement dans les deux sens.</p>
<p>Le tri cocktail a une complexité en $\mathcal{O}(n^2)$ dans le pire des cas et en moyenne.
Il a l'avantage d'être en place.</p>

</div>
</div>
</div>
<div class="cell border-box-sizing code_cell rendered">
<div class="input">
<div class="prompt input_prompt">In&nbsp;[27]:</div>
<div class="inner_cell">
    <div class="input_area">
<div class=" highlight hl-OCaml"><pre><span></span><span class="k">let</span> <span class="n">tri_cocktail</span> <span class="n">cmp</span> <span class="n">tab</span> <span class="o">=</span>
    <span class="k">let</span> <span class="n">n</span> <span class="o">=</span> <span class="nn">Array</span><span class="p">.</span><span class="n">length</span> <span class="n">tab</span> <span class="k">in</span>
    <span class="k">let</span> <span class="n">echange</span> <span class="o">=</span> <span class="n">ref</span> <span class="bp">true</span> <span class="k">in</span>
    <span class="k">while</span> <span class="o">!</span><span class="n">echange</span> <span class="k">do</span>
        <span class="n">echange</span> <span class="o">:=</span> <span class="bp">false</span><span class="o">;</span>
        <span class="c">(* Parcours croissant *)</span>
        <span class="k">for</span> <span class="n">j</span> <span class="o">=</span> <span class="mi">0</span> <span class="k">to</span> <span class="n">n</span> <span class="o">-</span> <span class="mi">2</span> <span class="k">do</span>
            <span class="k">if</span> <span class="n">cmp</span> <span class="n">tab</span><span class="o">.(</span><span class="n">j</span> <span class="o">+</span> <span class="mi">1</span><span class="o">)</span> <span class="n">tab</span><span class="o">.(</span><span class="n">j</span><span class="o">)</span> <span class="o">&lt;</span> <span class="mi">0</span> <span class="k">then</span> <span class="k">begin</span>
                <span class="n">swap</span> <span class="n">tab</span> <span class="o">(</span><span class="n">j</span> <span class="o">+</span> <span class="mi">1</span><span class="o">)</span> <span class="n">j</span><span class="o">;</span>
                <span class="n">echange</span> <span class="o">:=</span> <span class="bp">true</span>
            <span class="k">end</span><span class="o">;</span>
        <span class="k">done</span><span class="o">;</span>
        <span class="c">(* Parcours decroissant *)</span>
        <span class="k">for</span> <span class="n">j</span> <span class="o">=</span> <span class="n">n</span> <span class="o">-</span> <span class="mi">2</span> <span class="k">downto</span> <span class="mi">0</span> <span class="k">do</span>
            <span class="k">if</span> <span class="n">cmp</span> <span class="n">tab</span><span class="o">.(</span><span class="n">j</span> <span class="o">+</span> <span class="mi">1</span><span class="o">)</span> <span class="n">tab</span><span class="o">.(</span><span class="n">j</span><span class="o">)</span> <span class="o">&lt;</span> <span class="mi">0</span> <span class="k">then</span> <span class="k">begin</span>
                <span class="n">swap</span> <span class="n">tab</span> <span class="o">(</span><span class="n">j</span> <span class="o">+</span> <span class="mi">1</span><span class="o">)</span> <span class="n">j</span><span class="o">;</span>
                <span class="n">echange</span> <span class="o">:=</span> <span class="bp">true</span>
            <span class="k">end</span><span class="o">;</span>
        <span class="k">done</span><span class="o">;</span>
    <span class="k">done</span><span class="o">;</span>
<span class="o">;;</span>
</pre></div>

    </div>
</div>
</div>

<div class="output_wrapper">
<div class="output">


<div class="output_area">

    <div class="prompt output_prompt">Out[27]:</div>




<div class="output_text output_subarea output_execute_result">
<pre>val tri_cocktail : (&#39;a -&gt; &#39;a -&gt; int) -&gt; &#39;a array -&gt; unit = &lt;fun&gt;
</pre>
</div>

</div>

</div>
</div>

</div>
<div class="cell border-box-sizing text_cell rendered"><div class="prompt input_prompt">
</div><div class="inner_cell">
<div class="text_cell_render border-box-sizing rendered_html">
<p>Il existe aussi une version plus efficace, qui diminue la taille des parcours au fur et à mesure.</p>

</div>
</div>
</div>
<div class="cell border-box-sizing code_cell rendered">
<div class="input">
<div class="prompt input_prompt">In&nbsp;[28]:</div>
<div class="inner_cell">
    <div class="input_area">
<div class=" highlight hl-OCaml"><pre><span></span><span class="k">let</span> <span class="n">tri_cocktail_opt</span> <span class="n">cmp</span> <span class="n">tab</span> <span class="o">=</span>
    <span class="k">let</span> <span class="n">n</span> <span class="o">=</span> <span class="nn">Array</span><span class="p">.</span><span class="n">length</span> <span class="n">tab</span> <span class="k">in</span>
    <span class="k">let</span> <span class="n">echange</span> <span class="o">=</span> <span class="n">ref</span> <span class="bp">true</span> <span class="k">in</span>
    <span class="k">let</span> <span class="n">debut</span> <span class="o">=</span> <span class="n">ref</span> <span class="mi">0</span> <span class="ow">and</span> <span class="n">fin</span> <span class="o">=</span> <span class="n">ref</span> <span class="o">(</span><span class="n">n</span> <span class="o">-</span> <span class="mi">2</span><span class="o">)</span> <span class="k">in</span>
    <span class="k">while</span> <span class="o">!</span><span class="n">echange</span> <span class="k">do</span>
        <span class="n">echange</span> <span class="o">:=</span> <span class="bp">false</span><span class="o">;</span>
        <span class="c">(* Parcours croissant *)</span>
        <span class="k">for</span> <span class="n">j</span> <span class="o">=</span> <span class="o">!</span><span class="n">debut</span> <span class="k">to</span> <span class="o">!</span><span class="n">fin</span> <span class="k">do</span>
            <span class="k">if</span> <span class="n">cmp</span> <span class="n">tab</span><span class="o">.(</span><span class="n">j</span> <span class="o">+</span> <span class="mi">1</span><span class="o">)</span> <span class="n">tab</span><span class="o">.(</span><span class="n">j</span><span class="o">)</span> <span class="o">&lt;</span> <span class="mi">0</span> <span class="k">then</span> <span class="k">begin</span>
                <span class="n">swap</span> <span class="n">tab</span> <span class="o">(</span><span class="n">j</span> <span class="o">+</span> <span class="mi">1</span><span class="o">)</span> <span class="n">j</span><span class="o">;</span>
                <span class="n">echange</span> <span class="o">:=</span> <span class="bp">true</span>
            <span class="k">end</span><span class="o">;</span>
        <span class="k">done</span><span class="o">;</span>
        <span class="n">fin</span> <span class="o">:=</span> <span class="o">!</span><span class="n">fin</span> <span class="o">-</span> <span class="mi">1</span><span class="o">;</span>
        <span class="c">(* Parcours decroissant *)</span>
        <span class="k">for</span> <span class="n">j</span> <span class="o">=</span> <span class="o">!</span><span class="n">fin</span> <span class="k">downto</span> <span class="o">!</span><span class="n">debut</span> <span class="k">do</span>
            <span class="k">if</span> <span class="n">cmp</span> <span class="n">tab</span><span class="o">.(</span><span class="n">j</span> <span class="o">+</span> <span class="mi">1</span><span class="o">)</span> <span class="n">tab</span><span class="o">.(</span><span class="n">j</span><span class="o">)</span> <span class="o">&lt;</span> <span class="mi">0</span> <span class="k">then</span> <span class="k">begin</span>
                <span class="n">swap</span> <span class="n">tab</span> <span class="o">(</span><span class="n">j</span> <span class="o">+</span> <span class="mi">1</span><span class="o">)</span> <span class="n">j</span><span class="o">;</span>
                <span class="n">echange</span> <span class="o">:=</span> <span class="bp">true</span>
            <span class="k">end</span><span class="o">;</span>
        <span class="k">done</span><span class="o">;</span>
        <span class="n">debut</span> <span class="o">:=</span> <span class="o">!</span><span class="n">debut</span> <span class="o">+</span> <span class="mi">1</span><span class="o">;</span>
    <span class="k">done</span><span class="o">;</span>
<span class="o">;;</span>
</pre></div>

    </div>
</div>
</div>

<div class="output_wrapper">
<div class="output">


<div class="output_area">

    <div class="prompt output_prompt">Out[28]:</div>




<div class="output_text output_subarea output_execute_result">
<pre>val tri_cocktail_opt : (&#39;a -&gt; &#39;a -&gt; int) -&gt; &#39;a array -&gt; unit = &lt;fun&gt;
</pre>
</div>

</div>

</div>
</div>

</div>
<div class="cell border-box-sizing text_cell rendered"><div class="prompt input_prompt">
</div><div class="inner_cell">
<div class="text_cell_render border-box-sizing rendered_html">
<hr>
<h2 id="Tests">Tests<a class="anchor-link" href="#Tests">&#182;</a></h2><p>Et d'autres tests.</p>

</div>
</div>
</div>
<div class="cell border-box-sizing code_cell rendered">
<div class="input">
<div class="prompt input_prompt">In&nbsp;[52]:</div>
<div class="inner_cell">
    <div class="input_area">
<div class=" highlight hl-OCaml"><pre><span></span><span class="n">testtri</span> <span class="n">tri_cocktail</span> <span class="n">compare</span> <span class="mi">10</span> <span class="mi">10</span> <span class="bp">()</span><span class="o">;;</span>
</pre></div>

    </div>
</div>
</div>

<div class="output_wrapper">
<div class="output">


<div class="output_area">

    <div class="prompt"></div>


<div class="output_subarea output_stream output_stdout output_text">
<pre> Test d&#39;un tri, 10 simulations avec des tableaux de longueur 10.
</pre>
</div>
</div>

<div class="output_area">

    <div class="prompt output_prompt">Out[52]:</div>




<div class="output_text output_subarea output_execute_result">
<pre>- : unit = ()
</pre>
</div>

</div>

</div>
</div>

</div>
<div class="cell border-box-sizing code_cell rendered">
<div class="input">
<div class="prompt input_prompt">In&nbsp;[53]:</div>
<div class="inner_cell">
    <div class="input_area">
<div class=" highlight hl-OCaml"><pre><span></span><span class="n">testtri</span> <span class="n">tri_cocktail_opt</span> <span class="n">compare</span> <span class="mi">10</span> <span class="mi">10</span> <span class="bp">()</span><span class="o">;;</span>
</pre></div>

    </div>
</div>
</div>

<div class="output_wrapper">
<div class="output">


<div class="output_area">

    <div class="prompt"></div>


<div class="output_subarea output_stream output_stdout output_text">
<pre> Test d&#39;un tri, 10 simulations avec des tableaux de longueur 10.
</pre>
</div>
</div>

<div class="output_area">

    <div class="prompt output_prompt">Out[53]:</div>




<div class="output_text output_subarea output_execute_result">
<pre>- : unit = ()
</pre>
</div>

</div>

</div>
</div>

</div>
<div class="cell border-box-sizing text_cell rendered"><div class="prompt input_prompt">
</div><div class="inner_cell">
<div class="text_cell_render border-box-sizing rendered_html">
<p>Ça marche !</p>

</div>
</div>
</div>
<div class="cell border-box-sizing code_cell rendered">
<div class="input">
<div class="prompt input_prompt">In&nbsp;[54]:</div>
<div class="inner_cell">
    <div class="input_area">
<div class=" highlight hl-OCaml"><pre><span></span><span class="n">testtri</span> <span class="n">tri_cocktail</span> <span class="n">compare</span> <span class="mi">100</span> <span class="mi">1000</span> <span class="bp">()</span><span class="o">;;</span>
</pre></div>

    </div>
</div>
</div>

<div class="output_wrapper">
<div class="output">


<div class="output_area">

    <div class="prompt"></div>


<div class="output_subarea output_stream output_stdout output_text">
<pre> Test d&#39;un tri, 1000 simulations avec des tableaux de longueur 100.
</pre>
</div>
</div>

<div class="output_area">

    <div class="prompt output_prompt">Out[54]:</div>




<div class="output_text output_subarea output_execute_result">
<pre>- : unit = ()
</pre>
</div>

</div>

</div>
</div>

</div>
<div class="cell border-box-sizing text_cell rendered"><div class="prompt input_prompt">
</div><div class="inner_cell">
<div class="text_cell_render border-box-sizing rendered_html">
<hr>
<h2 id="Comparaison">Comparaison<a class="anchor-link" href="#Comparaison">&#182;</a></h2>
</div>
</div>
</div>
<div class="cell border-box-sizing text_cell rendered"><div class="prompt input_prompt">
</div><div class="inner_cell">
<div class="text_cell_render border-box-sizing rendered_html">
<p>Avec <a href="https://stackoverflow.com/a/9061574/">ce morceau de code</a> on peut facilement mesurer le temps d'exécution :</p>

</div>
</div>
</div>
<div class="cell border-box-sizing code_cell rendered">
<div class="input">
<div class="prompt input_prompt">In&nbsp;[33]:</div>
<div class="inner_cell">
    <div class="input_area">
<div class=" highlight hl-OCaml"><pre><span></span><span class="k">let</span> <span class="n">time</span> <span class="n">f</span> <span class="o">=</span>
    <span class="k">let</span> <span class="n">t</span> <span class="o">=</span> <span class="nn">Sys</span><span class="p">.</span><span class="n">time</span><span class="bp">()</span> <span class="k">in</span>
    <span class="k">let</span> <span class="n">res</span> <span class="o">=</span> <span class="n">f</span> <span class="bp">()</span> <span class="k">in</span>
    <span class="nn">Printf</span><span class="p">.</span><span class="n">printf</span> <span class="s2">&quot;    Temps en secondes: %fs</span><span class="se">\n</span><span class="s2">&quot;</span> <span class="o">(</span><span class="nn">Sys</span><span class="p">.</span><span class="n">time</span><span class="bp">()</span> <span class="o">-.</span> <span class="n">t</span><span class="o">);</span>
    <span class="n">flush_all</span> <span class="bp">()</span><span class="o">;</span>
    <span class="n">res</span>
<span class="o">;;</span>
</pre></div>

    </div>
</div>
</div>

<div class="output_wrapper">
<div class="output">


<div class="output_area">

    <div class="prompt output_prompt">Out[33]:</div>




<div class="output_text output_subarea output_execute_result">
<pre>val time : (unit -&gt; &#39;a) -&gt; &#39;a = &lt;fun&gt;
</pre>
</div>

</div>

</div>
</div>

</div>
<div class="cell border-box-sizing text_cell rendered"><div class="prompt input_prompt">
</div><div class="inner_cell">
<div class="text_cell_render border-box-sizing rendered_html">
<h3 id="Premi&#232;re-comparaison-:-$n-=-100$">Premi&#232;re comparaison : $n = 100$<a class="anchor-link" href="#Premi&#232;re-comparaison-:-$n-=-100$">&#182;</a></h3>
</div>
</div>
</div>
<div class="cell border-box-sizing code_cell rendered">
<div class="input">
<div class="prompt input_prompt">In&nbsp;[75]:</div>
<div class="inner_cell">
    <div class="input_area">
<div class=" highlight hl-OCaml"><pre><span></span><span class="n">time</span> <span class="o">(</span><span class="n">testtri</span> <span class="nn">Array</span><span class="p">.</span><span class="n">sort</span> <span class="n">compare</span> <span class="mi">100</span> <span class="mi">10000</span><span class="o">);;</span>
</pre></div>

    </div>
</div>
</div>

<div class="output_wrapper">
<div class="output">


<div class="output_area">

    <div class="prompt"></div>


<div class="output_subarea output_stream output_stdout output_text">
<pre>Test d&#39;un tri, 10000 simulations avec des tableaux de longueur 100.
     Temps en secondes: 2.612000s
</pre>
</div>
</div>

<div class="output_area">

    <div class="prompt output_prompt">Out[75]:</div>




<div class="output_text output_subarea output_execute_result">
<pre>- : unit = ()
</pre>
</div>

</div>

</div>
</div>

</div>
<div class="cell border-box-sizing code_cell rendered">
<div class="input">
<div class="prompt input_prompt">In&nbsp;[76]:</div>
<div class="inner_cell">
    <div class="input_area">
<div class=" highlight hl-OCaml"><pre><span></span><span class="n">time</span> <span class="o">(</span><span class="n">testtri</span> <span class="n">tri_bulle</span> <span class="n">compare</span> <span class="mi">100</span> <span class="mi">10000</span><span class="o">);;</span>
</pre></div>

    </div>
</div>
</div>

<div class="output_wrapper">
<div class="output">


<div class="output_area">

    <div class="prompt"></div>


<div class="output_subarea output_stream output_stdout output_text">
<pre>Test d&#39;un tri, 10000 simulations avec des tableaux de longueur 100.
     Temps en secondes: 2.976000s
</pre>
</div>
</div>

<div class="output_area">

    <div class="prompt output_prompt">Out[76]:</div>




<div class="output_text output_subarea output_execute_result">
<pre>- : unit = ()
</pre>
</div>

</div>

</div>
</div>

</div>
<div class="cell border-box-sizing code_cell rendered">
<div class="input">
<div class="prompt input_prompt">In&nbsp;[79]:</div>
<div class="inner_cell">
    <div class="input_area">
<div class=" highlight hl-OCaml"><pre><span></span><span class="n">time</span> <span class="o">(</span><span class="n">testtri</span> <span class="n">tri_bulle_opt</span> <span class="n">compare</span> <span class="mi">100</span> <span class="mi">10000</span><span class="o">);;</span>
</pre></div>

    </div>
</div>
</div>

<div class="output_wrapper">
<div class="output">


<div class="output_area">

    <div class="prompt"></div>


<div class="output_subarea output_stream output_stdout output_text">
<pre>Test d&#39;un tri, 10000 simulations avec des tableaux de longueur 100.
     Temps en secondes: 3.144000s
</pre>
</div>
</div>

<div class="output_area">

    <div class="prompt output_prompt">Out[79]:</div>




<div class="output_text output_subarea output_execute_result">
<pre>- : unit = ()
</pre>
</div>

</div>

</div>
</div>

</div>
<div class="cell border-box-sizing code_cell rendered">
<div class="input">
<div class="prompt input_prompt">In&nbsp;[80]:</div>
<div class="inner_cell">
    <div class="input_area">
<div class=" highlight hl-OCaml"><pre><span></span><span class="n">time</span> <span class="o">(</span><span class="n">testtri</span> <span class="n">tri_cocktail</span> <span class="n">compare</span> <span class="mi">100</span> <span class="mi">10000</span><span class="o">);;</span>
</pre></div>

    </div>
</div>
</div>

<div class="output_wrapper">
<div class="output">


<div class="output_area">

    <div class="prompt"></div>


<div class="output_subarea output_stream output_stdout output_text">
<pre>Test d&#39;un tri, 10000 simulations avec des tableaux de longueur 100.
     Temps en secondes: 3.380000s
</pre>
</div>
</div>

<div class="output_area">

    <div class="prompt output_prompt">Out[80]:</div>




<div class="output_text output_subarea output_execute_result">
<pre>- : unit = ()
</pre>
</div>

</div>

</div>
</div>

</div>
<div class="cell border-box-sizing code_cell rendered">
<div class="input">
<div class="prompt input_prompt">In&nbsp;[41]:</div>
<div class="inner_cell">
    <div class="input_area">
<div class=" highlight hl-OCaml"><pre><span></span><span class="n">time</span> <span class="o">(</span><span class="n">testtri</span> <span class="n">tri_cocktail_opt</span> <span class="n">compare</span> <span class="mi">100</span> <span class="mi">10000</span><span class="o">);;</span>
</pre></div>

    </div>
</div>
</div>

<div class="output_wrapper">
<div class="output">


<div class="output_area">

    <div class="prompt"></div>


<div class="output_subarea output_stream output_stdout output_text">
<pre>Test d&#39;un tri, 10000 simulations avec des tableaux de longueur 100.
     Temps en secondes: 2.724000s
</pre>
</div>
</div>

<div class="output_area">

    <div class="prompt output_prompt">Out[41]:</div>




<div class="output_text output_subarea output_execute_result">
<pre>- : unit = ()
</pre>
</div>

</div>

</div>
</div>

</div>
<div class="cell border-box-sizing text_cell rendered"><div class="prompt input_prompt">
</div><div class="inner_cell">
<div class="text_cell_render border-box-sizing rendered_html">
<p>Sur de petits tableaux, les versions "optimisées" ne sont pas plus forcément plus rapides (comme toujours).</p>
<p>On vérifie quand même que sur des tableaux aléatoires, le tri cocktail optimisé semble le plus rapide des quatre implémentations.</p>

</div>
</div>
</div>
<div class="cell border-box-sizing text_cell rendered"><div class="prompt input_prompt">
</div><div class="inner_cell">
<div class="text_cell_render border-box-sizing rendered_html">
<h3 id="Autre-comparaison-:-$n-=-1000$">Autre comparaison : $n = 1000$<a class="anchor-link" href="#Autre-comparaison-:-$n-=-1000$">&#182;</a></h3><p>Ca suffit à voir que les quatre algorithmes implémentés ici ne sont pas en temps sous quadratique.</p>

</div>
</div>
</div>
<div class="cell border-box-sizing code_cell rendered">
<div class="input">
<div class="prompt input_prompt">In&nbsp;[81]:</div>
<div class="inner_cell">
    <div class="input_area">
<div class=" highlight hl-OCaml"><pre><span></span><span class="n">time</span> <span class="o">(</span><span class="n">testtri</span> <span class="nn">Array</span><span class="p">.</span><span class="n">sort</span> <span class="n">compare</span> <span class="mi">1000</span> <span class="mi">1000</span><span class="o">);;</span>
</pre></div>

    </div>
</div>
</div>

<div class="output_wrapper">
<div class="output">


<div class="output_area">

    <div class="prompt"></div>


<div class="output_subarea output_stream output_stdout output_text">
<pre>Test d&#39;un tri, 1000 simulations avec des tableaux de longueur 1000.
     Temps en secondes: 3.072000s
</pre>
</div>
</div>

<div class="output_area">

    <div class="prompt output_prompt">Out[81]:</div>




<div class="output_text output_subarea output_execute_result">
<pre>- : unit = ()
</pre>
</div>

</div>

</div>
</div>

</div>
<div class="cell border-box-sizing code_cell rendered">
<div class="input">
<div class="prompt input_prompt">In&nbsp;[82]:</div>
<div class="inner_cell">
    <div class="input_area">
<div class=" highlight hl-OCaml"><pre><span></span><span class="n">time</span> <span class="o">(</span><span class="n">testtri</span> <span class="n">tri_bulle</span> <span class="n">compare</span> <span class="mi">1000</span> <span class="mi">1000</span><span class="o">);;</span>
</pre></div>

    </div>
</div>
</div>

<div class="output_wrapper">
<div class="output">


<div class="output_area">

    <div class="prompt"></div>


<div class="output_subarea output_stream output_stdout output_text">
<pre>Test d&#39;un tri, 1000 simulations avec des tableaux de longueur 1000.
     Temps en secondes: 26.116000s
</pre>
</div>
</div>

<div class="output_area">

    <div class="prompt output_prompt">Out[82]:</div>




<div class="output_text output_subarea output_execute_result">
<pre>- : unit = ()
</pre>
</div>

</div>

</div>
</div>

</div>
<div class="cell border-box-sizing code_cell rendered">
<div class="input">
<div class="prompt input_prompt">In&nbsp;[83]:</div>
<div class="inner_cell">
    <div class="input_area">
<div class=" highlight hl-OCaml"><pre><span></span><span class="n">time</span> <span class="o">(</span><span class="n">testtri</span> <span class="n">tri_bulle_opt</span> <span class="n">compare</span> <span class="mi">1000</span> <span class="mi">1000</span><span class="o">);;</span>
</pre></div>

    </div>
</div>
</div>

<div class="output_wrapper">
<div class="output">


<div class="output_area">

    <div class="prompt"></div>


<div class="output_subarea output_stream output_stdout output_text">
<pre>Test d&#39;un tri, 1000 simulations avec des tableaux de longueur 1000.
     Temps en secondes: 29.944000s
</pre>
</div>
</div>

<div class="output_area">

    <div class="prompt output_prompt">Out[83]:</div>




<div class="output_text output_subarea output_execute_result">
<pre>- : unit = ()
</pre>
</div>

</div>

</div>
</div>

</div>
<div class="cell border-box-sizing code_cell rendered">
<div class="input">
<div class="prompt input_prompt">In&nbsp;[84]:</div>
<div class="inner_cell">
    <div class="input_area">
<div class=" highlight hl-OCaml"><pre><span></span><span class="n">time</span> <span class="o">(</span><span class="n">testtri</span> <span class="n">tri_cocktail</span> <span class="n">compare</span> <span class="mi">1000</span> <span class="mi">1000</span><span class="o">);;</span>
</pre></div>

    </div>
</div>
</div>

<div class="output_wrapper">
<div class="output">


<div class="output_area">

    <div class="prompt"></div>


<div class="output_subarea output_stream output_stdout output_text">
<pre>Test d&#39;un tri, 1000 simulations avec des tableaux de longueur 1000.
     Temps en secondes: 27.296000s
</pre>
</div>
</div>

<div class="output_area">

    <div class="prompt output_prompt">Out[84]:</div>




<div class="output_text output_subarea output_execute_result">
<pre>- : unit = ()
</pre>
</div>

</div>

</div>
</div>

</div>
<div class="cell border-box-sizing code_cell rendered">
<div class="input">
<div class="prompt input_prompt">In&nbsp;[85]:</div>
<div class="inner_cell">
    <div class="input_area">
<div class=" highlight hl-OCaml"><pre><span></span><span class="n">time</span> <span class="o">(</span><span class="n">testtri</span> <span class="n">tri_cocktail_opt</span> <span class="n">compare</span> <span class="mi">1000</span> <span class="mi">1000</span><span class="o">);;</span>
</pre></div>

    </div>
</div>
</div>

<div class="output_wrapper">
<div class="output">


<div class="output_area">

    <div class="prompt"></div>


<div class="output_subarea output_stream output_stdout output_text">
<pre>Test d&#39;un tri, 1000 simulations avec des tableaux de longueur 1000.
     Temps en secondes: 22.584000s
</pre>
</div>
</div>

<div class="output_area">

    <div class="prompt output_prompt">Out[85]:</div>




<div class="output_text output_subarea output_execute_result">
<pre>- : unit = ()
</pre>
</div>

</div>

</div>
</div>

</div>
<div class="cell border-box-sizing text_cell rendered"><div class="prompt input_prompt">
</div><div class="inner_cell">
<div class="text_cell_render border-box-sizing rendered_html">
<hr>
<h2 id="Conclusion">Conclusion<a class="anchor-link" href="#Conclusion">&#182;</a></h2><p>Les deux algorithmes ne sont pas trop difficiles à implémenter, et fonctionnent de façon très similaire.</p>
<h3 id="Question-/-exercice">Question / exercice<a class="anchor-link" href="#Question-/-exercice">&#182;</a></h3><ul>
<li>Prouver la correction de chaque algorithme, à l'aide d'invariants bien choisis.</li>
<li>Prouver la complexité en temps.</li>
<li>Pourquoi ces noms, à bulle et cocktail ?</li>
</ul>
<h3 id="Liens">Liens<a class="anchor-link" href="#Liens">&#182;</a></h3><p>Allez voir <a href="https://nbviewer.jupyter.org/github/Naereen/notebooks/tree/master/agreg/">d'autres notebooks</a> !</p>

</div>
</div>
</div>
 


    </div>
  </div>

  </div>


  
    <footer class="footer hidden-print">
      <div class="container">
        <div class="col-md-4">
          <p>
            This website does not host notebooks, it only renders notebooks
            available on other websites.
          </p>
        </div>

        <div class="col-md-4">
          <p>
            Delivered by <a href="https://www.fastly.com/">Fastly</a>,
            Rendered by <a href="https://developer.rackspace.com/?nbviewer=awesome">Rackspace</a>
          </p>
          <p>
            nbviewer GitHub <a href="https://github.com/jupyter/nbviewer">repository</a>.
          </p>
        </div>

        <div class="col-md-4">
          
  
            
              <p>
                nbviewer version:
                <a href="https://github.com/jupyter/nbviewer/commit/8a8fd298b446096dddc874da57e99dd22a2d8d97">
                  8a8fd29
                </a>
              </p>
            
          
  
  <p>
    nbconvert version: <a href="https://github.com/jupyter/nbconvert/releases/tag/5.6.1">
      5.6.1
    </a>
  </p>
  

          
  
  
  <p>
    Rendered
    <span class='date' data-date='Mon, 27 Jan 2020 13:31:04 UTC' title='Mon, 27 Jan 2020 13:31:04 UTC'>(Mon, 27 Jan 2020 13:31:04 UTC)</span>
  </p>
  

        </div>
      </div>
    </footer>
  

  <script src="/static/components/bootstrap/js/bootstrap.min.js?v=5869c96cc8f19086aee625d670d741f9"></script>
  <script src="/static/components/headroom.js/dist/headroom.min.js?v=b0a311ea668f8e768ea375f4a7abb81c"></script>
  <script src="/static/components/headroom.js/dist/jQuery.headroom.min.js?v=f3a1bae118315d0c234afc74dc6aab71"></script>

  
  
  <script>
    $(function(){ $("#menubar").headroom({
      tolerance: 5,
      offset: 205,
      classes: {
        initial: "animated",
        pinned: "slideInDown",
        unpinned: "slideOutUp"
      }
    })});
  </script>


  
  <script>
    (function(i,s,o,g,r,a,m){i['GoogleAnalyticsObject']=r;i[r]=i[r]||function(){
      (i[r].q=i[r].q||[]).push(arguments)},i[r].l=1*new Date();a=s.createElement(o),
      m=s.getElementsByTagName(o)[0];a.async=1;a.src=g;m.parentNode.insertBefore(a,m)
    })(window,document,'script','https://www.google-analytics.com/analytics.js','ga');
    ga('create', 'UA-52617120-5', 'auto',
       {'storage': 'none'});
    ga('set', 'anonymizeIp', true);
    ga('send', 'pageview');
  </script>
  
  <script>
    require({
        paths: {
          moment: "/static/components/moment/min/moment.min.js?v=89f87298ad94aa1e6b92f42eb66da043"
        }
      }, ["moment"], function(moment){
      var date = $("footer .date"),
        m = moment(new Date(date.data('date'))),
        update = function(){ date.text(m.fromNow()); };
      setInterval(update, 61*1000);
      update();
      var w = $(window).scroll(function(event){
        $("body").toggleClass("scrolled", w.scrollTop() > 0);
      });
    });
  </script>

  <!--NEW RELIC Stop Perf Measurement-->
  
  <!--NEW RELIC End-->
</body>
</html>