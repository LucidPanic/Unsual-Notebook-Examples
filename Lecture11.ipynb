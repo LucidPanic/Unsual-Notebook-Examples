{
 "cells": [
  {
   "cell_type": "markdown",
   "metadata": {},
   "source": [
    "# Lecture 11\n",
    "\n",
    "\n",
    "### Olver and Shakiban 1.8"
   ]
  },
  {
   "cell_type": "markdown",
   "metadata": {},
   "source": [
    "## Convergence\n",
    "\n",
    "A fundamental question is \"When does Jacobi's algorithm/the Gauss-Seidel algorithm work?\" A more mathematical way to phrase this is, under what conditions on $A$ does\n",
    "$$\n",
    "\\lim_{k \\to \\infty} \\vec x_k = \\vec x, \\quad A \\vec x = \\vec b.\n",
    "$$\n",
    "\n",
    "#### Definition\n",
    "\n",
    "An $n \\times n$ matrix $A$ is said to be __diagonally dominant__ if\n",
    "\n",
    "$$ |a_{ii}| > \\sum_{j=1,~~i\\neq j}^n |a_{ij}|, ~~\\text{for all}~~ 1 \\leq i \\leq n.$$\n",
    "\n",
    "#### Theorem\n",
    "\n",
    "Jacobi's method and the Gauss-Seidel method converge if $A$ is __diagonally dominant__."
   ]
  }
 ],
 "metadata": {
  "kernelspec": {
   "display_name": "Matlab",
   "language": "matlab",
   "name": "matlab"
  },
  "language_info": {
   "codemirror_mode": "octave",
   "file_extension": ".m",
   "help_links": [
    {
     "text": "MetaKernel Magics",
     "url": "https://metakernel.readthedocs.io/en/latest/source/README.html"
    }
   ],
   "mimetype": "text/x-octave",
   "name": "matlab",
   "version": "0.16.7"
  }
 },
 "nbformat": 4,
 "nbformat_minor": 2
}
