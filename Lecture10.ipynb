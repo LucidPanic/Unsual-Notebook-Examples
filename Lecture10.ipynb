{
 "cells": [
  {
   "cell_type": "markdown",
   "metadata": {},
   "source": [
    "# Lecture 10\n",
    "\n",
    "\n",
    "### More iterative methods"
   ]
  },
  {
   "cell_type": "markdown",
   "metadata": {},
   "source": [
    "## The Gauss-Seidel Algorithm\n",
    "\n",
    "Our goal is still to solve but now we include more in our inverse:\n",
    "$$ A\\vec x = \\vec b$$\n",
    "$$ (L + D + U) \\vec x = \\vec b$$\n",
    "$$ (L + D)^{-1}( L + D + U) \\vec x = (L + D)^{-1}\\vec b$$\n",
    "$$ \\vec x + (L + D)^{-1}U \\vec x = (L + D)^{-1}\\vec b$$\n",
    "\n",
    "So, we can now attempt to apply the Neuman series iteration with $M = - (L + D)^{-1}U$ and $\\vec b$ replaced with $(L + D)^{-1}\\vec b$.\n",
    "\n",
    "This is the Gauss-Seidel algorithm.  But some care should be taken on the implementation:\n",
    "\n",
    "```\n",
    "INPUT: An n x n matrix A, an n x 1 vector b, an error tolerance err, a maximum number of steps K\n",
    "OUPUT: An approximation of the solution of A*x = b\n",
    "\n",
    "STEP 1: Set y = zeros(n,1)\n",
    "STEP 2: Set L = tril(A,-1); U = triu(A,1); D = diag(A);\n",
    "STEP 3: Set c = (L+D)^{-1} b\n",
    "STEP 4: For i = 1 to T do STEPS 5-7\n",
    "    STEP 5: Set y = U*y\n",
    "    STEP 6: Set y = -(L+D)^{-1}y + c\n",
    "    STEP 7:If max(abs(A*y-b)) < err\n",
    "        OUTPUT(y)\n",
    "STEP 8: If i == T\n",
    "    PRINT(\"Error tolerance not acheived\")\n",
    "    OUTPUT(y)\n",
    "```"
   ]
  },
  {
   "cell_type": "code",
   "execution_count": 135,
   "metadata": {},
   "outputs": [],
   "source": [
    "A = diag([1,2,3,4,5]) + .1*randn(5);\n",
    "LpD = tril(A);\n",
    "U = triu(A,+1);\n",
    "b = [1,1,1,1,1]';\n",
    "y = zeros(5,1);\n",
    "c = Forsub([LpD,b]);"
   ]
  },
  {
   "cell_type": "code",
   "execution_count": 145,
   "metadata": {},
   "outputs": [
    {
     "name": "stdout",
     "output_type": "stream",
     "text": [
      "\n",
      "y =\n",
      "\n",
      "   0.973794596512889\n",
      "   0.422916809276048\n",
      "   0.342121401248073\n",
      "   0.270947814549081\n",
      "   0.203029717617549\n",
      "\n"
     ]
    }
   ],
   "source": [
    "% compute y = -(L+D)^{-1}Uy + (L+D)^{-1}b\n",
    "format long\n",
    "y = U*y;\n",
    "y = -Forsub([LpD,y]) + c"
   ]
  },
  {
   "cell_type": "code",
   "execution_count": 146,
   "metadata": {},
   "outputs": [
    {
     "name": "stdout",
     "output_type": "stream",
     "text": [
      "\n",
      "ans =\n",
      "\n",
      "   1.0e-15 *\n",
      "\n",
      "  -0.222044604925031\n",
      "                   0\n",
      "                   0\n",
      "  -0.111022302462516\n",
      "                   0\n",
      "\n"
     ]
    }
   ],
   "source": [
    "A*y-b"
   ]
  },
  {
   "cell_type": "markdown",
   "metadata": {},
   "source": [
    "## Compare the Jacobi and Gauss-Seidel algorithms"
   ]
  },
  {
   "cell_type": "code",
   "execution_count": 147,
   "metadata": {},
   "outputs": [],
   "source": [
    "A = diag([1,2,3,4,5]) + .1*randn(5);\n",
    "L = tril(A,-1);\n",
    "U = triu(A,+1);\n",
    "D = diag(A);\n",
    "LpD = tril(A); %L + D\n",
    "LpU = L + U; % L + U\n",
    "b = [1,1,1,1,1]';\n",
    "c_gs = Forsub([LpD,b]);\n",
    "c_j = b./D;\n",
    "\n",
    "y_gs = zeros(5,1);\n",
    "y_j = zeros(5,1);\n",
    "format long\n",
    "x = A\\b;  % solves Ax = b"
   ]
  },
  {
   "cell_type": "code",
   "execution_count": 152,
   "metadata": {},
   "outputs": [
    {
     "name": "stdout",
     "output_type": "stream",
     "text": [
      "\n",
      "ans =\n",
      "\n",
      "   1.154460131106625   1.154491610352473\n",
      "   0.436692808652272   0.436675819771856\n",
      "   0.294216814915991   0.294209771590310\n",
      "   0.278478713797363   0.278482731219680\n",
      "   0.153983527975131   0.153972237327408\n",
      "\n",
      "\n",
      "ans =\n",
      "\n",
      "   1.0e-04 *\n",
      "\n",
      "  -0.314778649070924   0.000013809409172\n",
      "   0.169887938217816  -0.000000865945649\n",
      "   0.070433580912077   0.000000324101301\n",
      "  -0.040173326334436   0.000000896829833\n",
      "   0.112905911367756  -0.000000565858194\n",
      "\n"
     ]
    }
   ],
   "source": [
    "y_j = -(LpU*y_j)./D + c_j;\n",
    "y_gs = U*y_gs;\n",
    "y_gs = -Forsub([LpD,y_gs]) + c_gs;\n",
    "[y_j,y_gs]\n",
    "[y_j-x,y_gs-x]"
   ]
  },
  {
   "cell_type": "code",
   "execution_count": 153,
   "metadata": {},
   "outputs": [],
   "source": [
    "A = diag([1,2,3,4,5]) + .1*randn(5);\n",
    "L = tril(A,-1);\n",
    "U = triu(A,+1);\n",
    "D = diag(A);\n",
    "LpD = tril(A); %L + D\n",
    "LpU = L + U; % L + U\n",
    "b = [1,1,1,1,1]';\n",
    "c_gs = Forsub([LpD,b]);\n",
    "c_j = b./D;\n",
    "\n",
    "y_gs = zeros(5,1);\n",
    "y_j = zeros(5,1);\n",
    "format long\n",
    "x = A\\b;"
   ]
  },
  {
   "cell_type": "code",
   "execution_count": 154,
   "metadata": {
    "scrolled": false
   },
   "outputs": [
    {
     "data": {
      "image/png": "[encoded data removed]",
      "text/plain": [
       "<IPython.core.display.Image object>"
      ]
     },
     "metadata": {},
     "output_type": "display_data"
    }
   ],
   "source": [
    "T = 10;\n",
    "err_gs = zeros(1,T);\n",
    "err_j = zeros(1,T);\n",
    "\n",
    "for i = 1:T\n",
    "    y_j = -(LpU*y_j)./D + c_j;\n",
    "    y_gs = U*y_gs;\n",
    "    y_gs = -Forsub([LpD,y_gs]) + c_gs;\n",
    "    err_gs(i) = max(abs(y_gs-x));\n",
    "    err_j(i) = max(abs(y_j-x));\n",
    "end\n",
    "semilogy(1:T,err_gs,'r')\n",
    "hold on\n",
    "grid on\n",
    "semilogy(1:T,err_j,'g')\n",
    "legend('Gauss-Seidel','Jacobi')\n",
    "xlabel('Iteration number')\n",
    "ylabel('Error')"
   ]
  },
  {
   "cell_type": "markdown",
   "metadata": {},
   "source": [
    "## A computational subtley \n",
    "\n",
    "When we multply by $U$ in the Gauss-Seidel algorithm, $U$ has a lot of zeros.  So, we should be tempted to make use of this structure so that we can do fewer multiplications and additions.  In theory this is a good idea and if you were developing low-level code in C++ or Fortran, you should probably be doing this.  But as we can see in the following example, coding it ourselves does not save time."
   ]
  },
  {
   "cell_type": "code",
   "execution_count": 155,
   "metadata": {},
   "outputs": [
    {
     "name": "stdout",
     "output_type": "stream",
     "text": [
      "Elapsed time is 0.002627 seconds.\n",
      "Elapsed time is 0.020808 seconds.\n"
     ]
    }
   ],
   "source": [
    "n = 2000; U = triu(randn(n,n),1); b = randn(n,1);\n",
    "tic();\n",
    "U*b;\n",
    "toc();\n",
    "tic();\n",
    "multU(U,b);\n",
    "toc();"
   ]
  },
  {
   "cell_type": "markdown",
   "metadata": {},
   "source": [
    "## Convergence\n",
    "\n",
    "A fundamental question is \"When does Jacobi's algorithm/the Gauss-Seidel algorithm work?\" A more mathematical way to phrase this is, under what conditions on $A$ does\n",
    "$$\n",
    "\\lim_{k \\to \\infty} \\vec x_k = \\vec x, \\quad A \\vec x = \\vec b.\n",
    "$$\n",
    "\n",
    "#### Definition\n",
    "\n",
    "An $n \\times n$ matrix $A$ is said to be __diagonally dominant__ if\n",
    "\n",
    "$$ |a_{ii}| > \\sum_{j=1,~~i\\neq j}^n |a_{ij}|, ~~\\text{for all}~~ 1 \\leq i \\leq n.$$\n",
    "\n",
    "#### Theorem\n",
    "\n",
    "Jacobi's method and the Gauss-Seidel method converge if $A$ is __diagonally dominant__."
   ]
  }
 ],
 "metadata": {
  "kernelspec": {
   "display_name": "Matlab",
   "language": "matlab",
   "name": "matlab"
  },
  "language_info": {
   "codemirror_mode": "octave",
   "file_extension": ".m",
   "help_links": [
    {
     "text": "MetaKernel Magics",
     "url": "https://metakernel.readthedocs.io/en/latest/source/README.html"
    }
   ],
   "mimetype": "text/x-octave",
   "name": "matlab",
   "version": "0.16.7"
  }
 },
 "nbformat": 4,
 "nbformat_minor": 2
}
