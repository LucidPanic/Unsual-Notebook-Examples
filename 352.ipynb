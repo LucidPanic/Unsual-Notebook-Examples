{
 "cells": [
  {
   "cell_type": "markdown",
   "metadata": {},
   "source": [
    "# Lectures\n",
    "\n",
    "* [Lecture 1](https://faculty.washington.edu/trogdon/352/Lecture01.html)\n",
    "* [Lecture 2](https://faculty.washington.edu/trogdon/352/Lecture02.html)\n",
    "* [Lecture 3](https://faculty.washington.edu/trogdon/352/Lecture03.html)\n",
    "* [Lecture 4](https://faculty.washington.edu/trogdon/352/Lecture04.html)\n",
    "* [Lecture 5](https://faculty.washington.edu/trogdon/352/Lecture05.html)\n",
    "* [Lecture 6](https://faculty.washington.edu/trogdon/352/Lecture06.html)\n",
    "* [Lecture 7](https://faculty.washington.edu/trogdon/352/Lecture07.html)\n",
    "* [Lecture 8](https://faculty.washington.edu/trogdon/352/Lecture08.html)\n",
    "* [Lecture 9](https://faculty.washington.edu/trogdon/352/Lecture09.html)\n",
    "* [Lecture 10](https://faculty.washington.edu/trogdon/352/Lecture10.html)\n",
    "* [Lecture 11](https://faculty.washington.edu/trogdon/352/Lecture11.html)\n",
    "* [Lecture 12](https://faculty.washington.edu/trogdon/352/Lecture12.html)\n",
    "* [Lecture 13](https://faculty.washington.edu/trogdon/352/Lecture13.html)\n",
    "* [Midterm exam](https://faculty.washington.edu/trogdon/352/solutions/midterm_352.pdf)\n",
    "* [Lecture 15](https://faculty.washington.edu/trogdon/352/Lecture15.html)\n",
    "* [Lecture 16](https://faculty.washington.edu/trogdon/352/Lecture16.html)\n",
    "* [Lecture 17](https://faculty.washington.edu/trogdon/352/Lecture17.html)\n",
    "* [Lecture 18](https://faculty.washington.edu/trogdon/352/Lecture18.html)\n",
    "* [Lecture 19](https://faculty.washington.edu/trogdon/352/Lecture19.html)\n",
    "* [Lecture 20](https://faculty.washington.edu/trogdon/352/Lecture20.html)\n",
    "* [Lecture 21](https://faculty.washington.edu/trogdon/352/Lecture21.html)\n",
    "* [Lecture 22](https://faculty.washington.edu/trogdon/352/Lecture22.html)\n",
    "* [Lecture 23](https://faculty.washington.edu/trogdon/352/Lecture23.html)\n",
    "* [Lecture 24](https://faculty.washington.edu/trogdon/352/Lecture24.html)\n",
    "* [Lecture 25](https://faculty.washington.edu/trogdon/352/Lecture25.html)\n",
    "* [Lecture 26](https://faculty.washington.edu/trogdon/352/Lecture26.html)\n",
    "* [Lecture 27](https://faculty.washington.edu/trogdon/352/Lecture27.html)\n",
    "* [Lecture 28](https://faculty.washington.edu/trogdon/352/Lecture28.html)\n",
    "* [Lecture 29](https://faculty.washington.edu/trogdon/352/Lecture29.html)\n",
    "* [Lecture 30](https://faculty.washington.edu/trogdon/352/Lecture30.html)"
   ]
  },
  {
   "cell_type": "markdown",
   "metadata": {},
   "source": [
    "# Lecture notes\n",
    "\n",
    "These are living documents and may temporarily have issues. \n",
    "\n",
    "* [Chapter 1](https://drive.google.com/file/d/1dUtaTtsAh-4_y8OfxWs86_pmE_526UmR/view?usp=sharing)\n",
    "* [Chapter 2](https://drive.google.com/file/d/1eTwLirvYThCY1I8VortiK-Term7TcaeE/view?usp=sharing)\n",
    "* [Chapters 3-5](https://drive.google.com/file/d/1uaZC-qxaY4GBhgm_jiLLi2Ql2WevgN0y/view?usp=sharing)\n",
    "* [Chapter 8](https://drive.google.com/file/d/1FD4hsT6G2XO8sqFU3s3rA8JZ2yW2aQxF/view?usp=sharing)\n"
   ]
  },
  {
   "cell_type": "markdown",
   "metadata": {},
   "source": [
    "# Coding Projects\n",
    "\n",
    "* [Coding Project 0](https://faculty.washington.edu/trogdon/352/CP0.html)  \n",
    "* [Coding Project 1](https://faculty.washington.edu/trogdon/352/CP1.html) (Due Oct. 11 at 11:59pm)\n",
    "* [Coding Project 2](https://faculty.washington.edu/trogdon/352/CP2.html) (Due Oct. 27 at 11:59pm)\n",
    "* [Coding Project 3](https://faculty.washington.edu/trogdon/352/CP3.html) (Due Nov. 8 at 11:59pm)\n",
    "* [Coding Project 4](https://faculty.washington.edu/trogdon/352/CP4.html) (Due Nov. 22 at 11:59pm)\n",
    "* [Coding Project 5](https://faculty.washington.edu/trogdon/352/CP5.html) (Due Dec. 6 at 11:59pm)"
   ]
  },
  {
   "cell_type": "markdown",
   "metadata": {},
   "source": [
    "# Homework\n",
    "\n",
    "* [Homework 1](https://faculty.washington.edu/trogdon/352/HW01.html) (due Oct. 2, in class)\n",
    "* [Homework 2](https://faculty.washington.edu/trogdon/352/HW02.html) (due Oct. 9, in class)\n",
    "* [Homework 3](https://faculty.washington.edu/trogdon/352/HW03.html) (due Oct. 16, in class)\n",
    "* [Homework 4](https://faculty.washington.edu/trogdon/352/HW04.html) (due Oct. 23, in class)\n",
    "* [Homework 5](https://faculty.washington.edu/trogdon/352/HW05.html) (due Oct. 30, in class)\n",
    "* [Homework 6](https://faculty.washington.edu/trogdon/352/HW06.html) (due Nov. 6, in class)\n",
    "* [Homework 7](https://faculty.washington.edu/trogdon/352/HW07.html) (due Nov. 13, in class)\n",
    "* [Homework 8](https://faculty.washington.edu/trogdon/352/HW08.html) (due Nov. 20, in class)\n",
    "* [Homework 9](https://faculty.washington.edu/trogdon/352/HW09.html) (due Nov. 27, in class)\n",
    "* [Homework 10](https://faculty.washington.edu/trogdon/352/HW10.html) (due Dec. 4, in class)"
   ]
  },
  {
   "cell_type": "markdown",
   "metadata": {},
   "source": [
    "# Solutions\n",
    "\n",
    "See https://faculty.washington.edu/trogdon/352/solutions"
   ]
  }
 ],
 "metadata": {
  "kernelspec": {
   "display_name": "Matlab",
   "language": "matlab",
   "name": "matlab"
  },
  "language_info": {
   "codemirror_mode": "octave",
   "file_extension": ".m",
   "help_links": [
    {
     "text": "MetaKernel Magics",
     "url": "https://metakernel.readthedocs.io/en/latest/source/README.html"
    }
   ],
   "mimetype": "text/x-octave",
   "name": "matlab",
   "version": "0.16.7"
  }
 },
 "nbformat": 4,
 "nbformat_minor": 2
}
