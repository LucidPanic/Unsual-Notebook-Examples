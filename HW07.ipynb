{
 "cells": [
  {
   "cell_type": "markdown",
   "metadata": {},
   "source": [
    "# Homework 7\n",
    "\n",
    "## Due Wednesday, Nov. 13 in class\n",
    "\n",
    "* Olver and Shakiban 3.1.12(b)\n",
    "\n",
    "* For $\\vec w \\in \\mathbb R^n$, $\\|\\vec w\\|_2 = 1$ show that\n",
    "$$ (I - 2 ww^T)(I - 2 w w^T) = I.$$\n",
    "\n",
    "## Suggested problems\n",
    "\n",
    "* Olver and Shakiban 3.1.12(a), 5.4.1, 5.4.3, 5.4.5"
   ]
  }
 ],
 "metadata": {
  "kernelspec": {
   "display_name": "Matlab",
   "language": "matlab",
   "name": "matlab"
  },
  "language_info": {
   "codemirror_mode": "octave",
   "file_extension": ".m",
   "help_links": [
    {
     "text": "MetaKernel Magics",
     "url": "https://metakernel.readthedocs.io/en/latest/source/README.html"
    }
   ],
   "mimetype": "text/x-octave",
   "name": "matlab",
   "version": "0.16.7"
  }
 },
 "nbformat": 4,
 "nbformat_minor": 2
}
