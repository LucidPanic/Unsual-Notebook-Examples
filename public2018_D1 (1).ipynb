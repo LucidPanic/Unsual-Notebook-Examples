








<!DOCTYPE html>
<html lang="en">

<head>
  <meta charset="utf-8">
  <title>Jupyter Notebook Viewer</title>
  <meta name="viewport" content="width=device-width, initial-scale=1.0">
  <meta name="description" content="">
  <meta name="author" content="">
  
  <meta name="robots" content="noindex,nofollow">
  

  <!--NEW RELIC Start Perf Measurement-->
  
  <!--NREND-->

  <!-- Le styles -->
  <link href="/static/build/styles.css?v=55ba354138253381d2c0ada9821cd4da" rel="stylesheet">

  <!-- Le HTML5 shim, for IE6-8 support of HTML5 elements -->
  <!--[if lt IE 9]>
    <script src="http://html5shim.googlecode.com/svn/trunk/html5.js"></script>
  <![endif]-->

  <!-- Le fav and touch icons -->
  <link rel="shortcut icon" href="/static/ico/ipynb_icon_16x16.png">
  <link rel="apple-touch-icon-precomposed" sizes="144x144"
        href="/static/ico/apple-touch-icon-144-precomposed.png?v=5a3c9ede93e2a8b8ea9e3f8f3da1a905">
  <link rel="apple-touch-icon-precomposed" sizes="114x114"
        href="/static/ico/apple-touch-icon-114-precomposed.png?v=45d86fc8f24dc00638035e1dd7a6d898">
  <link rel="apple-touch-icon-precomposed" sizes="72x72"
        href="/static/ico/apple-touch-icon-72-precomposed.png?v=540b5eb0f3cfd25f1439d1c9bd30e15f">
  <link rel="apple-touch-icon-precomposed"
        href="/static/ico/apple-touch-icon-57-precomposed.png?v=225f0590e187e1458625654f10a28f56">
  
  

  

  
  <meta name="twitter:card" content="summary">
  <meta name="twitter:title" content="Notebook on nbviewer">
  <meta name="twitter:description" content="Check out this Jupyter notebook!">

  
  <meta name="twitter:domain" content="nbviewer.jupyter.org">
  <meta name="twitter:image:src" content="http://ipython.org/ipython-doc/dev/_images/ipynb_icon_128x128.png">

  
    <link href="/static/build/notebook.css?v=aae8f92f7e80fc468ae446b9d852fe90" rel="stylesheet">
  

  

  
    <script src="https://cdnjs.cloudflare.com/ajax/libs/mathjax/2.7.1/MathJax.js?config=TeX-AMS_HTML" type="text/javascript">
    </script>
    <script type="text/javascript">
      init_mathjax = function() {
        if (window.MathJax) {
          // MathJax loaded
          MathJax.Hub.Config({
            TeX: {
              equationNumbers: {
                autoNumber: "AMS",
                useLabelIds: true
              }
            },
            tex2jax: {
              inlineMath: [ ['$','$'], ["\\(","\\)"] ],
              displayMath: [ ['$$','$$'], ["\\[","\\]"] ],
              processEscapes: true,
              processEnvironments: true
            },
            displayAlign: 'center',
            "HTML-CSS": {
              styles: {'.MathJax_Display': {"margin": 0}},
              linebreaks: { automatic: true }
            }
          });
          MathJax.Hub.Queue(["Typeset", MathJax.Hub]);
        }
      }
      init_mathjax();
    </script>
  

  
    <script>
      (function() {
        function addWidgetsRenderer() {
          var mimeElement = document.querySelector('script[type="application/vnd.jupyter.widget-view+json"]');
          var scriptElement = document.createElement('script');
          var widgetRendererSrc = 'https://unpkg.com/@jupyter-widgets/html-manager@0.15/dist/embed-amd.js';
          var widgetState;

          try {
            widgetState = mimeElement && JSON.parse(mimeElement.innerHTML);

            if (widgetState && (widgetState.version_major < 2 || !widgetState.version_major)) {
              widgetRendererSrc = 'https://unpkg.com/jupyter-js-widgets@2.1/dist/embed.js';
            }
          } catch(e) {}

          scriptElement.src = widgetRendererSrc;
          document.body.appendChild(scriptElement);
        }

        document.addEventListener('DOMContentLoaded', addWidgetsRenderer);
      }());
    </script>
  

</head>

<body class="nbviewer">

  <!-- These are loaded at the top of the body so they are available to
       notebook cells when they are loaded below. -->
  <script src="/static/components/jquery/dist/jquery.min.js?v=220afd743d9e9643852e31a135a9f3ae"></script>
  <script src="/static/components/requirejs/require.js?v=6da8be361b9ee26c5e721e76c6d4afce"></script>
  <script src="/static/components/moment/min/moment.min.js?v=89f87298ad94aa1e6b92f42eb66da043"></script>
<!-- Navbar
================================================== -->
  <nav id="menubar" class="navbar navbar-default navbar-fixed-top" data-spy="affix">
    <div class="container">
      <div class="navbar-header">
        <button type="button" class="navbar-toggle collapsed" data-toggle="collapse" data-target=".navbar-collapse">
          <span class="sr-only">Toggle navigation</span>
          <i class="fa fa-bars"></i>
        </button>
        <a class="navbar-brand" href="/">
          <img src="/static/img/nav_logo.svg?v=479cefe8d932fb14a67b93911b97d70f" width="159"/>
        </a>
      </div>

      <div class="collapse navbar-collapse">
        <ul class="nav navbar-nav navbar-right">
          <li>
            <a class="active" href="https://jupyter.org">JUPYTER</a>
          </li>
          <li>
    <a href="/faq" title="FAQ" >
      
        <span>FAQ</span>
      
    </a>
  </li>

          
  
    
  
    
      
        <li>
    <a href="/format/script/github/Naereen/notebooks/blob/master/agreg/public2018_D1.ipynb" title="View as Code" >
      <span class="fa fa-code fa-2x menu-icon"></span>
      <span class="menu-text">View as Code</span>
    </a>
  </li>
      
    
  

  
    <li>
    <a href="#" title="OCaml 4.04.2 Kernel" >
      <span class="fa fa-server fa-2x menu-icon"></span>
      <span class="menu-text">OCaml 4.04.2 Kernel</span>
    </a>
  </li>
  

  
    <li>
    <a href="https://github.com/Naereen/notebooks/blob/master/agreg/public2018_D1.ipynb" title="View on GitHub" >
      <span class="fa fa-github fa-2x menu-icon"></span>
      <span class="menu-text">View on GitHub</span>
    </a>
  </li>
  

  
    <li>
    <a href="https://mybinder.org/v2/gh/Naereen/notebooks/master?filepath=agreg/public2018_D1.ipynb" title="Execute on Binder" >
      <span class="fa fa-icon-binder fa-2x menu-icon"></span>
      <span class="menu-text">Execute on Binder</span>
    </a>
  </li>
  

  <li>
    <a href="https://raw.githubusercontent.com/Naereen/notebooks/master/agreg/public2018_D1.ipynb" title="Download Notebook" download>
      <span class="fa fa-download fa-2x menu-icon"></span>
      <span class="menu-text">Download Notebook</span>
    </a>
  </li>

        </ul>
      </div><!-- /.navbar-collapse -->
      
      
    </div>
  </nav>

  <div class="container container-main">
    
  
  <ol class="breadcrumb">
    
      <li>
        <a href="/github/Naereen/notebooks/tree/master">notebooks</a>
      </li>
    
      <li>
        <a href="/github/Naereen/notebooks/tree/master/agreg">agreg</a>
      </li>
    
  </ol>
  
  <div id="notebook">
    <div id="notebook-container">
      <div class="cell border-box-sizing text_cell rendered"><div class="prompt input_prompt">
</div><div class="inner_cell">
<div class="text_cell_render border-box-sizing rendered_html">
<h1 id="Table-of-Contents">Table of Contents<a class="anchor-link" href="#Table-of-Contents">&#182;</a></h1><p><p><div class="lev1 toc-item"><a href="#Texte-d'oral-de-modélisation---Agrégation-Option-Informatique" data-toc-modified-id="Texte-d'oral-de-modélisation---Agrégation-Option-Informatique-1"><span class="toc-item-num">1&nbsp;&nbsp;</span>Texte d'oral de modélisation - Agrégation Option Informatique</a></div><div class="lev2 toc-item"><a href="#Préparation-à-l'agrégation---ENS-de-Rennes,-2017-18" data-toc-modified-id="Préparation-à-l'agrégation---ENS-de-Rennes,-2017-18-11"><span class="toc-item-num">1.1&nbsp;&nbsp;</span>Préparation à l'agrégation - ENS de Rennes, 2017-18</a></div><div class="lev2 toc-item"><a href="#À-propos-de-ce-document" data-toc-modified-id="À-propos-de-ce-document-12"><span class="toc-item-num">1.2&nbsp;&nbsp;</span>À propos de ce document</a></div><div class="lev2 toc-item"><a href="#Question-de-programmation" data-toc-modified-id="Question-de-programmation-13"><span class="toc-item-num">1.3&nbsp;&nbsp;</span>Question de programmation</a></div><div class="lev3 toc-item"><a href="#Modélisation" data-toc-modified-id="Modélisation-131"><span class="toc-item-num">1.3.1&nbsp;&nbsp;</span>Modélisation</a></div><div class="lev3 toc-item"><a href="#Exercice" data-toc-modified-id="Exercice-132"><span class="toc-item-num">1.3.2&nbsp;&nbsp;</span>Exercice</a></div><div class="lev2 toc-item"><a href="#Solution" data-toc-modified-id="Solution-14"><span class="toc-item-num">1.4&nbsp;&nbsp;</span>Solution</a></div><div class="lev3 toc-item"><a href="#Types-et-représentations" data-toc-modified-id="Types-et-représentations-141"><span class="toc-item-num">1.4.1&nbsp;&nbsp;</span>Types et représentations</a></div><div class="lev3 toc-item"><a href="#Calcul-récursif-du-nombre-$\rho$" data-toc-modified-id="Calcul-récursif-du-nombre-$\rho$-142"><span class="toc-item-num">1.4.2&nbsp;&nbsp;</span>Calcul récursif du nombre <span class="MathJax_Preview" style="color: inherit;"></span><span class="MathJax" id="MathJax-Element-441-Frame" tabindex="0" style="position: relative;" data-mathml="<math xmlns=&quot;http://www.w3.org/1998/Math/MathML&quot;><mi>&amp;#x03C1;</mi></math>" role="presentation"><nobr aria-hidden="true"><span class="math" id="MathJax-Span-3069" role="math" style="width: 0.681em; display: inline-block;"><span style="display: inline-block; position: relative; width: 0.525em; height: 0px; font-size: 127%;"><span style="position: absolute; clip: rect(1.877em, 1000.49em, 2.786em, -1000em); top: -2.45em; left: 0em;"><span class="mrow" id="MathJax-Span-3070"><span class="mi" id="MathJax-Span-3071" style="font-family: STIXMathJax_Main; font-style: italic;">ρ</span></span><span style="display: inline-block; width: 0px; height: 2.45em;"></span></span></span><span style="display: inline-block; overflow: hidden; vertical-align: -0.316em; border-left: 0px solid; width: 0px; height: 0.932em;"></span></span></nobr><span class="MJX_Assistive_MathML" role="presentation"><math xmlns="http://www.w3.org/1998/Math/MathML"><mi>ρ</mi></math></span></span><script type="math/tex" id="MathJax-Element-441">\rho</script></a></div><div class="lev3 toc-item"><a href="#Algorithme-demandé-pour-décorer-l'arbre" data-toc-modified-id="Algorithme-demandé-pour-décorer-l'arbre-143"><span class="toc-item-num">1.4.3&nbsp;&nbsp;</span>Algorithme demandé pour décorer l'arbre</a></div><div class="lev2 toc-item"><a href="#Complexités" data-toc-modified-id="Complexités-15"><span class="toc-item-num">1.5&nbsp;&nbsp;</span>Complexités</a></div><div class="lev3 toc-item"><a href="#En-espace" data-toc-modified-id="En-espace-151"><span class="toc-item-num">1.5.1&nbsp;&nbsp;</span>En espace</a></div><div class="lev3 toc-item"><a href="#En-temps" data-toc-modified-id="En-temps-152"><span class="toc-item-num">1.5.2&nbsp;&nbsp;</span>En temps</a></div><div class="lev2 toc-item"><a href="#Implémentations-supplémentaires" data-toc-modified-id="Implémentations-supplémentaires-16"><span class="toc-item-num">1.6&nbsp;&nbsp;</span>Implémentations supplémentaires</a></div><div class="lev3 toc-item"><a href="#Évaluation-des-expressions" data-toc-modified-id="Évaluation-des-expressions-161"><span class="toc-item-num">1.6.1&nbsp;&nbsp;</span>Évaluation des expressions</a></div><div class="lev3 toc-item"><a href="#Evaluation-par-lecture-postfix-et-pile" data-toc-modified-id="Evaluation-par-lecture-postfix-et-pile-162"><span class="toc-item-num">1.6.2&nbsp;&nbsp;</span>Evaluation par lecture postfix et pile</a></div><div class="lev3 toc-item"><a href="#Affichage-dans-ce-langage-de-manipulation-de-registre" data-toc-modified-id="Affichage-dans-ce-langage-de-manipulation-de-registre-163"><span class="toc-item-num">1.6.3&nbsp;&nbsp;</span>Affichage dans ce langage de manipulation de registre</a></div><div class="lev3 toc-item"><a href="#Méthode-d'Ershov" data-toc-modified-id="Méthode-d'Ershov-164"><span class="toc-item-num">1.6.4&nbsp;&nbsp;</span>Méthode d'Ershov</a></div><div class="lev2 toc-item"><a href="#Conclusion" data-toc-modified-id="Conclusion-17"><span class="toc-item-num">1.7&nbsp;&nbsp;</span>Conclusion</a></div><div class="lev3 toc-item"><a href="#Qualités" data-toc-modified-id="Qualités-171"><span class="toc-item-num">1.7.1&nbsp;&nbsp;</span>Qualités</a></div><div class="lev3 toc-item"><a href="#Bonus" data-toc-modified-id="Bonus-172"><span class="toc-item-num">1.7.2&nbsp;&nbsp;</span>Bonus</a></div><div class="lev3 toc-item"><a href="#Défauts" data-toc-modified-id="Défauts-173"><span class="toc-item-num">1.7.3&nbsp;&nbsp;</span>Défauts</a></div></p>

</div>
</div>
</div>
<div class="cell border-box-sizing text_cell rendered"><div class="prompt input_prompt">
</div><div class="inner_cell">
<div class="text_cell_render border-box-sizing rendered_html">
<h1 id="Texte-d'oral-de-mod&#233;lisation---Agr&#233;gation-Option-Informatique">Texte d'oral de mod&#233;lisation - Agr&#233;gation Option Informatique<a class="anchor-link" href="#Texte-d'oral-de-mod&#233;lisation---Agr&#233;gation-Option-Informatique">&#182;</a></h1><h2 id="Pr&#233;paration-&#224;-l'agr&#233;gation---ENS-de-Rennes,-2017-18">Pr&#233;paration &#224; l'agr&#233;gation - ENS de Rennes, 2017-18<a class="anchor-link" href="#Pr&#233;paration-&#224;-l'agr&#233;gation---ENS-de-Rennes,-2017-18">&#182;</a></h2><ul>
<li><em>Date</em> : 6 décembre 2017</li>
<li><em>Auteur</em> : <a href="https://GitHub.com/Naereen/notebooks/">Lilian Besson</a></li>
<li><em>Texte</em>: Annale 2018, <a href="http://agreg.org/Textes/public2018-D1.pdf">"Expressions arithmétiques" (public2018-D1)</a></li>
</ul>

</div>
</div>
</div>
<div class="cell border-box-sizing text_cell rendered"><div class="prompt input_prompt">
</div><div class="inner_cell">
<div class="text_cell_render border-box-sizing rendered_html">
<h2 id="&#192;-propos-de-ce-document">&#192; propos de ce document<a class="anchor-link" href="#&#192;-propos-de-ce-document">&#182;</a></h2><ul>
<li>Ceci est une <em>proposition</em> de correction, partielle et probablement non-optimale, pour la partie implémentation d'un <a href="http://Agreg.org/Textes/">texte d'annale de l'agrégation de mathématiques, option informatique</a>.</li>
<li>Ce document est un <a href="https://www.Jupyter.org/">notebook Jupyter</a>, et <a href="https://github.com/Naereen/notebooks/tree/master/agreg/">est open-source sous Licence MIT sur GitHub</a>, comme les autres solutions de textes de modélisation que <a href="https://GitHub.com/Naereen">j</a>'ai écrite cette année.</li>
<li>L'implémentation sera faite en OCaml, version 4+ :</li>
</ul>

</div>
</div>
</div>
<div class="cell border-box-sizing code_cell rendered">
<div class="input">
<div class="prompt input_prompt">In&nbsp;[1]:</div>
<div class="inner_cell">
    <div class="input_area">
<div class=" highlight hl-OCaml"><pre><span></span><span class="nn">Sys</span><span class="p">.</span><span class="n">command</span> <span class="s2">&quot;ocaml -version&quot;</span><span class="o">;;</span>
<span class="n">print_endline</span> <span class="nn">Sys</span><span class="p">.</span><span class="n">ocaml_version</span><span class="o">;;</span>
</pre></div>

    </div>
</div>
</div>

<div class="output_wrapper">
<div class="output">


<div class="output_area">

    <div class="prompt"></div>


<div class="output_subarea output_stream output_stdout output_text">
<pre>The OCaml toplevel, version 4.04.2
</pre>
</div>
</div>

<div class="output_area">

    <div class="prompt output_prompt">Out[1]:</div>




<div class="output_text output_subarea output_execute_result">
<pre>- : int = 0
</pre>
</div>

</div>

<div class="output_area">

    <div class="prompt"></div>


<div class="output_subarea output_stream output_stdout output_text">
<pre>4.04.2
</pre>
</div>
</div>

<div class="output_area">

    <div class="prompt output_prompt">Out[1]:</div>




<div class="output_text output_subarea output_execute_result">
<pre>- : unit = ()
</pre>
</div>

</div>

</div>
</div>

</div>
<div class="cell border-box-sizing text_cell rendered"><div class="prompt input_prompt">
</div><div class="inner_cell">
<div class="text_cell_render border-box-sizing rendered_html">
<hr>
<h2 id="Question-de-programmation">Question de programmation<a class="anchor-link" href="#Question-de-programmation">&#182;</a></h2><p>La question de programmation pour ce texte était donnée en fin de page 6 :</p>
<h3 id="Mod&#233;lisation">Mod&#233;lisation<a class="anchor-link" href="#Mod&#233;lisation">&#182;</a></h3><p>On est libre de choisir l'implémentation qui nous convient pour les expressions arithmétiques sous forme arborescente.</p>
<p>Je choisis de ne considérer que les variables et pas les valeurs (on aura des expressions en OCaml comme <code>F("x")</code> pour la variable $x$), et uniquement des arbres binaires.
Les noeuds <code>N(t1, op, t2)</code> sont étiquetées par un opérateur binaire <code>op</code>, dont on fournit à l'avance une liste fixée et finie, et les feuilles <code>F(s)</code> sont étiquetées par une variable <code>s</code>.</p>
<h3 id="Exercice">Exercice<a class="anchor-link" href="#Exercice">&#182;</a></h3><blockquote><p>« Écrire une fonction qui reçoit en argument une expression algébrique donnée sous forme
arborescente et décore cette expression en calculant pour chaque nœud interne quelle est
la valeur du paramètre ρ et quelle branche doit être évaluée en premier selon l’algorithme
d’Ershov. »</p>
</blockquote>

</div>
</div>
</div>
<div class="cell border-box-sizing text_cell rendered"><div class="prompt input_prompt">
</div><div class="inner_cell">
<div class="text_cell_render border-box-sizing rendered_html">
<hr>
<h2 id="Solution">Solution<a class="anchor-link" href="#Solution">&#182;</a></h2><p>On va essayer d'être rapide et de faire simple, donc on choisit une algèbre de termes particulière, mais l'algorithme d'Ershov sera implémenté de façon générique (polymorphique, peu importe la valeur de <code>op</code>).</p>

</div>
</div>
</div>
<div class="cell border-box-sizing text_cell rendered"><div class="prompt input_prompt">
</div><div class="inner_cell">
<div class="text_cell_render border-box-sizing rendered_html">
<h3 id="Types-et-repr&#233;sentations">Types et repr&#233;sentations<a class="anchor-link" href="#Types-et-repr&#233;sentations">&#182;</a></h3>
</div>
</div>
</div>
<div class="cell border-box-sizing code_cell rendered">
<div class="input">
<div class="prompt input_prompt">In&nbsp;[2]:</div>
<div class="inner_cell">
    <div class="input_area">
<div class=" highlight hl-OCaml"><pre><span></span><span class="k">type</span> <span class="n">operateur</span> <span class="o">=</span> <span class="nc">Plus</span> <span class="o">|</span> <span class="nc">Moins</span> <span class="o">|</span> <span class="nc">MoinsDroite</span> <span class="o">|</span> <span class="nc">Mul</span> <span class="o">|</span> <span class="nc">Div</span> <span class="o">|</span> <span class="nc">DivDroite</span> <span class="o">|</span> <span class="nc">Modulo</span> <span class="o">|</span> <span class="nc">Expo</span> <span class="o">;;</span>
<span class="c">(* On utilisera MoinsDroite et DivDroite pour la compilation avec la méthode d&#39;Ershov *)</span>
</pre></div>

    </div>
</div>
</div>

<div class="output_wrapper">
<div class="output">


<div class="output_area">

    <div class="prompt output_prompt">Out[2]:</div>




<div class="output_text output_subarea output_execute_result">
<pre>type operateur =
    Plus
  | Moins
  | MoinsDroite
  | Mul
  | Div
  | DivDroite
  | Modulo
  | Expo
</pre>
</div>

</div>

</div>
</div>

</div>
<div class="cell border-box-sizing code_cell rendered">
<div class="input">
<div class="prompt input_prompt">In&nbsp;[3]:</div>
<div class="inner_cell">
    <div class="input_area">
<div class=" highlight hl-OCaml"><pre><span></span><span class="k">type</span> <span class="o">(</span><span class="k">&#39;</span><span class="n">a</span><span class="o">,</span> <span class="k">&#39;</span><span class="n">b</span><span class="o">)</span> <span class="n">arbre_binaire</span> <span class="o">=</span> <span class="nc">N</span> <span class="k">of</span> <span class="o">((</span><span class="k">&#39;</span><span class="n">a</span><span class="o">,</span><span class="k">&#39;</span><span class="n">b</span><span class="o">)</span> <span class="n">arbre_binaire</span><span class="o">)</span> <span class="o">*</span> <span class="k">&#39;</span><span class="n">b</span> <span class="o">*</span> <span class="o">((</span><span class="k">&#39;</span><span class="n">a</span><span class="o">,</span><span class="k">&#39;</span><span class="n">b</span><span class="o">)</span> <span class="n">arbre_binaire</span><span class="o">)</span> <span class="o">|</span> <span class="nc">F</span> <span class="k">of</span> <span class="k">&#39;</span><span class="n">a</span>
</pre></div>

    </div>
</div>
</div>

<div class="output_wrapper">
<div class="output">


<div class="output_area">

    <div class="prompt output_prompt">Out[3]:</div>




<div class="output_text output_subarea output_execute_result">
<pre>type (&#39;a, &#39;b) arbre_binaire =
    N of (&#39;a, &#39;b) arbre_binaire * &#39;b * (&#39;a, &#39;b) arbre_binaire
  | F of &#39;a
</pre>
</div>

</div>

</div>
</div>

</div>
<div class="cell border-box-sizing text_cell rendered"><div class="prompt input_prompt">
</div><div class="inner_cell">
<div class="text_cell_render border-box-sizing rendered_html">
<p>Par exemple pour l'expression $\frac{x - yz}{u - vw}$, c'est-à-dire <code>(x - y*z)/(u - v*w)</code> :</p>

</div>
</div>
</div>
<div class="cell border-box-sizing code_cell rendered">
<div class="input">
<div class="prompt input_prompt">In&nbsp;[4]:</div>
<div class="inner_cell">
    <div class="input_area">
<div class=" highlight hl-OCaml"><pre><span></span><span class="c">(* exp1 = (x - y*z) *)</span>
<span class="k">let</span> <span class="n">exp1</span> <span class="o">=</span>
<span class="nc">N</span><span class="o">(</span>
    <span class="nc">F</span><span class="o">(</span><span class="s2">&quot;x&quot;</span><span class="o">),</span>
    <span class="nc">Moins</span><span class="o">,</span>
    <span class="nc">N</span><span class="o">(</span>
        <span class="nc">F</span><span class="o">(</span><span class="s2">&quot;y&quot;</span><span class="o">),</span>
        <span class="nc">Mul</span><span class="o">,</span>
        <span class="nc">F</span><span class="o">(</span><span class="s2">&quot;z&quot;</span><span class="o">)</span>
    <span class="o">)</span>
<span class="o">)</span>
<span class="o">;;</span>
</pre></div>

    </div>
</div>
</div>

<div class="output_wrapper">
<div class="output">


<div class="output_area">

    <div class="prompt output_prompt">Out[4]:</div>




<div class="output_text output_subarea output_execute_result">
<pre>val exp1 : (string, operateur) arbre_binaire =
  N (F &#34;x&#34;, Moins, N (F &#34;y&#34;, Mul, F &#34;z&#34;))
</pre>
</div>

</div>

</div>
</div>

</div>
<div class="cell border-box-sizing code_cell rendered">
<div class="input">
<div class="prompt input_prompt">In&nbsp;[5]:</div>
<div class="inner_cell">
    <div class="input_area">
<div class=" highlight hl-OCaml"><pre><span></span><span class="c">(* exp2 = (u - v*w) *)</span>
<span class="k">let</span> <span class="n">exp2</span> <span class="o">=</span>
<span class="nc">N</span><span class="o">(</span>
    <span class="nc">F</span><span class="o">(</span><span class="s2">&quot;u&quot;</span><span class="o">),</span>
    <span class="nc">Moins</span><span class="o">,</span>
    <span class="nc">N</span><span class="o">(</span>
        <span class="nc">F</span><span class="o">(</span><span class="s2">&quot;v&quot;</span><span class="o">),</span>
        <span class="nc">Mul</span><span class="o">,</span>
        <span class="nc">F</span><span class="o">(</span><span class="s2">&quot;w&quot;</span><span class="o">)</span>
    <span class="o">)</span>
<span class="o">)</span>
<span class="o">;;</span>
</pre></div>

    </div>
</div>
</div>

<div class="output_wrapper">
<div class="output">


<div class="output_area">

    <div class="prompt output_prompt">Out[5]:</div>




<div class="output_text output_subarea output_execute_result">
<pre>val exp2 : (string, operateur) arbre_binaire =
  N (F &#34;u&#34;, Moins, N (F &#34;v&#34;, Mul, F &#34;w&#34;))
</pre>
</div>

</div>

</div>
</div>

</div>
<div class="cell border-box-sizing code_cell rendered">
<div class="input">
<div class="prompt input_prompt">In&nbsp;[6]:</div>
<div class="inner_cell">
    <div class="input_area">
<div class=" highlight hl-OCaml"><pre><span></span><span class="c">(* exp3 = (x - y*z)/(u - v*w) *)</span>
<span class="k">let</span> <span class="n">exp3</span> <span class="o">=</span>
<span class="nc">N</span><span class="o">(</span>
    <span class="n">exp1</span><span class="o">,</span>
    <span class="nc">Div</span><span class="o">,</span>
    <span class="n">exp2</span>
<span class="o">)</span>
</pre></div>

    </div>
</div>
</div>

<div class="output_wrapper">
<div class="output">


<div class="output_area">

    <div class="prompt output_prompt">Out[6]:</div>




<div class="output_text output_subarea output_execute_result">
<pre>val exp3 : (string, operateur) arbre_binaire =
  N (N (F &#34;x&#34;, Moins, N (F &#34;y&#34;, Mul, F &#34;z&#34;)), Div,
   N (F &#34;u&#34;, Moins, N (F &#34;v&#34;, Mul, F &#34;w&#34;)))
</pre>
</div>

</div>

</div>
</div>

</div>
<div class="cell border-box-sizing text_cell rendered"><div class="prompt input_prompt">
</div><div class="inner_cell">
<div class="text_cell_render border-box-sizing rendered_html">
<h3 id="Calcul-r&#233;cursif-du-nombre-$\rho$">Calcul r&#233;cursif du nombre $\rho$<a class="anchor-link" href="#Calcul-r&#233;cursif-du-nombre-$\rho$">&#182;</a></h3><p>C'est assez immédiat, en suivant la définition récursive :
$\rho(F) = 0$ et $\rho(N(t_1, t_2)) = \rho(t_1) + 1$ si $\rho(t_1) = \rho(t_2)$ et $\max(\rho(t_1), \rho(t_2))$ si $\rho(t_1) \neq \rho(t_2)$.</p>

</div>
</div>
</div>
<div class="cell border-box-sizing code_cell rendered">
<div class="input">
<div class="prompt input_prompt">In&nbsp;[7]:</div>
<div class="inner_cell">
    <div class="input_area">
<div class=" highlight hl-OCaml"><pre><span></span><span class="k">let</span> <span class="k">rec</span> <span class="n">nombre_rho</span> <span class="o">(</span><span class="n">expr</span> <span class="o">:</span> <span class="o">(</span><span class="k">&#39;</span><span class="n">a</span><span class="o">,</span> <span class="k">&#39;</span><span class="n">b</span><span class="o">)</span> <span class="n">arbre_binaire</span><span class="o">)</span> <span class="o">:</span> <span class="kt">int</span> <span class="o">=</span>
    <span class="k">match</span> <span class="n">expr</span> <span class="k">with</span>
    <span class="o">|</span> <span class="nc">F</span> <span class="o">_</span> <span class="o">-&gt;</span> <span class="mi">0</span>
    <span class="o">|</span> <span class="nc">N</span><span class="o">(</span><span class="n">t1</span><span class="o">,</span> <span class="o">_,</span> <span class="n">t2</span><span class="o">)</span> <span class="o">-&gt;</span>
        <span class="k">let</span> <span class="n">d1</span><span class="o">,</span> <span class="n">d2</span> <span class="o">=</span> <span class="n">nombre_rho</span> <span class="n">t1</span><span class="o">,</span> <span class="n">nombre_rho</span> <span class="n">t2</span> <span class="k">in</span>
        <span class="k">if</span> <span class="n">d1</span> <span class="o">=</span> <span class="n">d2</span> <span class="k">then</span>
            <span class="n">d1</span> <span class="o">+</span> <span class="mi">1</span>
        <span class="k">else</span>
            <span class="n">max</span> <span class="n">d1</span> <span class="n">d2</span>
<span class="o">;;</span>
</pre></div>

    </div>
</div>
</div>

<div class="output_wrapper">
<div class="output">


<div class="output_area">

    <div class="prompt output_prompt">Out[7]:</div>




<div class="output_text output_subarea output_execute_result">
<pre>val nombre_rho : (&#39;a, &#39;b) arbre_binaire -&gt; int = &lt;fun&gt;
</pre>
</div>

</div>

</div>
</div>

</div>
<div class="cell border-box-sizing text_cell rendered"><div class="prompt input_prompt">
</div><div class="inner_cell">
<div class="text_cell_render border-box-sizing rendered_html">
<p>Pour comparer avec le calcul, plus simple, de la hauteur de l'arbre :</p>

</div>
</div>
</div>
<div class="cell border-box-sizing code_cell rendered">
<div class="input">
<div class="prompt input_prompt">In&nbsp;[8]:</div>
<div class="inner_cell">
    <div class="input_area">
<div class=" highlight hl-OCaml"><pre><span></span><span class="k">let</span> <span class="k">rec</span> <span class="n">hauteur</span> <span class="o">(</span><span class="n">expr</span> <span class="o">:</span> <span class="o">(</span><span class="k">&#39;</span><span class="n">a</span><span class="o">,</span> <span class="k">&#39;</span><span class="n">b</span><span class="o">)</span> <span class="n">arbre_binaire</span><span class="o">)</span> <span class="o">:</span> <span class="kt">int</span> <span class="o">=</span>
    <span class="k">match</span> <span class="n">expr</span> <span class="k">with</span>
    <span class="o">|</span> <span class="nc">F</span> <span class="o">_</span> <span class="o">-&gt;</span> <span class="mi">0</span>
    <span class="o">|</span> <span class="nc">N</span><span class="o">(</span><span class="n">t1</span><span class="o">,</span> <span class="o">_,</span> <span class="n">t2</span><span class="o">)</span> <span class="o">-&gt;</span>
        <span class="k">let</span> <span class="n">d1</span><span class="o">,</span> <span class="n">d2</span> <span class="o">=</span> <span class="n">hauteur</span> <span class="n">t1</span><span class="o">,</span> <span class="n">hauteur</span> <span class="n">t2</span> <span class="k">in</span>
        <span class="mi">1</span> <span class="o">+</span> <span class="o">(</span><span class="n">max</span> <span class="n">d1</span> <span class="n">d2</span><span class="o">)</span>
<span class="o">;;</span>
</pre></div>

    </div>
</div>
</div>

<div class="output_wrapper">
<div class="output">


<div class="output_area">

    <div class="prompt output_prompt">Out[8]:</div>




<div class="output_text output_subarea output_execute_result">
<pre>val hauteur : (&#39;a, &#39;b) arbre_binaire -&gt; int = &lt;fun&gt;
</pre>
</div>

</div>

</div>
</div>

</div>
<div class="cell border-box-sizing text_cell rendered"><div class="prompt input_prompt">
</div><div class="inner_cell">
<div class="text_cell_render border-box-sizing rendered_html">
<p>Exemples qui concordent avec le texte :</p>

</div>
</div>
</div>
<div class="cell border-box-sizing code_cell rendered">
<div class="input">
<div class="prompt input_prompt">In&nbsp;[9]:</div>
<div class="inner_cell">
    <div class="input_area">
<div class=" highlight hl-OCaml"><pre><span></span><span class="k">let</span> <span class="o">_</span> <span class="o">=</span> <span class="n">hauteur</span> <span class="n">exp1</span><span class="o">;;</span>
<span class="k">let</span> <span class="o">_</span> <span class="o">=</span> <span class="n">nombre_rho</span> <span class="n">exp1</span><span class="o">;;</span>
</pre></div>

    </div>
</div>
</div>

<div class="output_wrapper">
<div class="output">


<div class="output_area">

    <div class="prompt output_prompt">Out[9]:</div>




<div class="output_text output_subarea output_execute_result">
<pre>- : int = 2
</pre>
</div>

</div>

<div class="output_area">

    <div class="prompt output_prompt">Out[9]:</div>




<div class="output_text output_subarea output_execute_result">
<pre>- : int = 1
</pre>
</div>

</div>

</div>
</div>

</div>
<div class="cell border-box-sizing code_cell rendered">
<div class="input">
<div class="prompt input_prompt">In&nbsp;[10]:</div>
<div class="inner_cell">
    <div class="input_area">
<div class=" highlight hl-OCaml"><pre><span></span><span class="k">let</span> <span class="o">_</span> <span class="o">=</span> <span class="n">hauteur</span> <span class="n">exp2</span><span class="o">;;</span>
<span class="k">let</span> <span class="o">_</span> <span class="o">=</span> <span class="n">nombre_rho</span> <span class="n">exp2</span><span class="o">;;</span>
</pre></div>

    </div>
</div>
</div>

<div class="output_wrapper">
<div class="output">


<div class="output_area">

    <div class="prompt output_prompt">Out[10]:</div>




<div class="output_text output_subarea output_execute_result">
<pre>- : int = 2
</pre>
</div>

</div>

<div class="output_area">

    <div class="prompt output_prompt">Out[10]:</div>




<div class="output_text output_subarea output_execute_result">
<pre>- : int = 1
</pre>
</div>

</div>

</div>
</div>

</div>
<div class="cell border-box-sizing code_cell rendered">
<div class="input">
<div class="prompt input_prompt">In&nbsp;[11]:</div>
<div class="inner_cell">
    <div class="input_area">
<div class=" highlight hl-OCaml"><pre><span></span><span class="k">let</span> <span class="o">_</span> <span class="o">=</span> <span class="n">hauteur</span> <span class="n">exp3</span><span class="o">;;</span>
<span class="k">let</span> <span class="o">_</span> <span class="o">=</span> <span class="n">nombre_rho</span> <span class="n">exp3</span><span class="o">;;</span>
</pre></div>

    </div>
</div>
</div>

<div class="output_wrapper">
<div class="output">


<div class="output_area">

    <div class="prompt output_prompt">Out[11]:</div>




<div class="output_text output_subarea output_execute_result">
<pre>- : int = 3
</pre>
</div>

</div>

<div class="output_area">

    <div class="prompt output_prompt">Out[11]:</div>




<div class="output_text output_subarea output_execute_result">
<pre>- : int = 2
</pre>
</div>

</div>

</div>
</div>

</div>
<div class="cell border-box-sizing text_cell rendered"><div class="prompt input_prompt">
</div><div class="inner_cell">
<div class="text_cell_render border-box-sizing rendered_html">
<h3 id="Algorithme-demand&#233;-pour-d&#233;corer-l'arbre">Algorithme demand&#233; pour d&#233;corer l'arbre<a class="anchor-link" href="#Algorithme-demand&#233;-pour-d&#233;corer-l'arbre">&#182;</a></h3>
</div>
</div>
</div>
<div class="cell border-box-sizing text_cell rendered"><div class="prompt input_prompt">
</div><div class="inner_cell">
<div class="text_cell_render border-box-sizing rendered_html">
<p>On choisit d'ajouter une <em>décoration</em> de type <code>'c</code> :</p>

</div>
</div>
</div>
<div class="cell border-box-sizing code_cell rendered">
<div class="input">
<div class="prompt input_prompt">In&nbsp;[12]:</div>
<div class="inner_cell">
    <div class="input_area">
<div class=" highlight hl-OCaml"><pre><span></span><span class="k">type</span> <span class="o">(</span><span class="k">&#39;</span><span class="n">a</span><span class="o">,</span> <span class="k">&#39;</span><span class="n">b</span><span class="o">,</span> <span class="k">&#39;</span><span class="n">c</span><span class="o">)</span> <span class="n">arbre_binaire_decore</span> <span class="o">=</span> <span class="nc">N2</span> <span class="k">of</span> <span class="o">(</span><span class="k">&#39;</span><span class="n">c</span> <span class="o">*</span> <span class="o">((</span><span class="k">&#39;</span><span class="n">a</span><span class="o">,</span> <span class="k">&#39;</span><span class="n">b</span><span class="o">,</span> <span class="k">&#39;</span><span class="n">c</span><span class="o">)</span> <span class="n">arbre_binaire_decore</span><span class="o">)</span> <span class="o">*</span> <span class="k">&#39;</span><span class="n">b</span> <span class="o">*</span> <span class="o">((</span><span class="k">&#39;</span><span class="n">a</span><span class="o">,</span> <span class="k">&#39;</span><span class="n">b</span><span class="o">,</span> <span class="k">&#39;</span><span class="n">c</span><span class="o">)</span> <span class="n">arbre_binaire_decore</span><span class="o">))</span> <span class="o">|</span> <span class="nc">F2</span> <span class="k">of</span> <span class="k">&#39;</span><span class="n">a</span>
</pre></div>

    </div>
</div>
</div>

<div class="output_wrapper">
<div class="output">


<div class="output_area">

    <div class="prompt output_prompt">Out[12]:</div>




<div class="output_text output_subarea output_execute_result">
<pre>type (&#39;a, &#39;b, &#39;c) arbre_binaire_decore =
    N2 of
      (&#39;c * (&#39;a, &#39;b, &#39;c) arbre_binaire_decore * &#39;b *
       (&#39;a, &#39;b, &#39;c) arbre_binaire_decore)
  | F2 of &#39;a
</pre>
</div>

</div>

</div>
</div>

</div>
<div class="cell border-box-sizing text_cell rendered"><div class="prompt input_prompt">
</div><div class="inner_cell">
<div class="text_cell_render border-box-sizing rendered_html">
<p>On a besoin d'attacher à chaque noeud son paramètre $\rho$ et un drapeau binaire permettant de savoir si l'algorithme d'Ershov indique d'évaluer en premier le sous-arbre gauche (<code>premier_gauche = true</code>) ou droite (<code>= false</code>).</p>

</div>
</div>
</div>
<div class="cell border-box-sizing code_cell rendered">
<div class="input">
<div class="prompt input_prompt">In&nbsp;[13]:</div>
<div class="inner_cell">
    <div class="input_area">
<div class=" highlight hl-OCaml"><pre><span></span><span class="k">type</span> <span class="n">decoration</span> <span class="o">=</span> <span class="o">{</span>
    <span class="n">rho</span> <span class="o">:</span> <span class="kt">int</span><span class="o">;</span>
    <span class="n">premier_gauche</span> <span class="o">:</span> <span class="kt">bool</span><span class="o">;</span>
<span class="o">};;</span>
</pre></div>

    </div>
</div>
</div>

<div class="output_wrapper">
<div class="output">


<div class="output_area">

    <div class="prompt output_prompt">Out[13]:</div>




<div class="output_text output_subarea output_execute_result">
<pre>type decoration = { rho : int; premier_gauche : bool; }
</pre>
</div>

</div>

</div>
</div>

</div>
<div class="cell border-box-sizing code_cell rendered">
<div class="input">
<div class="prompt input_prompt">In&nbsp;[14]:</div>
<div class="inner_cell">
    <div class="input_area">
<div class=" highlight hl-OCaml"><pre><span></span><span class="k">let</span> <span class="k">rec</span> <span class="n">decore</span> <span class="o">(</span><span class="n">expr</span> <span class="o">:</span> <span class="o">((</span><span class="k">&#39;</span><span class="n">a</span><span class="o">,</span> <span class="k">&#39;</span><span class="n">b</span><span class="o">)</span> <span class="n">arbre_binaire</span><span class="o">))</span> <span class="o">:</span> <span class="o">((</span><span class="k">&#39;</span><span class="n">a</span><span class="o">,</span> <span class="k">&#39;</span><span class="n">b</span><span class="o">,</span> <span class="n">decoration</span><span class="o">)</span> <span class="n">arbre_binaire_decore</span><span class="o">)</span> <span class="o">=</span>
    <span class="k">match</span> <span class="n">expr</span> <span class="k">with</span>
    <span class="o">|</span> <span class="nc">F</span> <span class="n">v</span> <span class="o">-&gt;</span> <span class="nc">F2</span> <span class="n">v</span>
    <span class="o">|</span> <span class="nc">N</span> <span class="o">(</span><span class="n">t1</span><span class="o">,</span> <span class="n">o</span><span class="o">,</span> <span class="n">t2</span><span class="o">)</span> <span class="o">-&gt;</span>
        <span class="k">let</span> <span class="n">d1</span><span class="o">,</span> <span class="n">d2</span> <span class="o">=</span> <span class="n">nombre_rho</span> <span class="n">t1</span><span class="o">,</span> <span class="n">nombre_rho</span> <span class="n">t2</span> <span class="k">in</span>
        <span class="k">let</span> <span class="n">d</span> <span class="o">=</span> <span class="k">if</span> <span class="n">d1</span> <span class="o">=</span> <span class="n">d2</span> <span class="k">then</span> <span class="n">d1</span> <span class="o">+</span> <span class="mi">1</span> <span class="k">else</span> <span class="n">max</span> <span class="n">d1</span> <span class="n">d2</span> <span class="k">in</span>
        <span class="nc">N2</span><span class="o">({</span><span class="n">rho</span> <span class="o">=</span> <span class="n">d</span><span class="o">;</span> <span class="n">premier_gauche</span> <span class="o">=</span> <span class="o">(</span><span class="n">d2</span><span class="o">&lt;=</span> <span class="n">d1</span><span class="o">)},</span> <span class="o">(</span><span class="n">decore</span> <span class="n">t1</span><span class="o">),</span> <span class="n">o</span><span class="o">,</span> <span class="o">(</span><span class="n">decore</span> <span class="n">t2</span><span class="o">))</span>
<span class="o">;;</span>
</pre></div>

    </div>
</div>
</div>

<div class="output_wrapper">
<div class="output">


<div class="output_area">

    <div class="prompt output_prompt">Out[14]:</div>




<div class="output_text output_subarea output_execute_result">
<pre>val decore :
  (&#39;a, &#39;b) arbre_binaire -&gt; (&#39;a, &#39;b, decoration) arbre_binaire_decore = &lt;fun&gt;
</pre>
</div>

</div>

</div>
</div>

</div>
<div class="cell border-box-sizing text_cell rendered"><div class="prompt input_prompt">
</div><div class="inner_cell">
<div class="text_cell_render border-box-sizing rendered_html">
<p>Dans nos exemples, on voit que l'évaluation favorise en premier (avec des <code>premier_gauche = false</code>) les expressions les plus profondes (à droite) au sens du paramètre $\rho$ :</p>

</div>
</div>
</div>
<div class="cell border-box-sizing code_cell rendered">
<div class="input">
<div class="prompt input_prompt">In&nbsp;[15]:</div>
<div class="inner_cell">
    <div class="input_area">
<div class=" highlight hl-OCaml"><pre><span></span><span class="n">decore</span> <span class="n">exp1</span><span class="o">;;</span>
</pre></div>

    </div>
</div>
</div>

<div class="output_wrapper">
<div class="output">


<div class="output_area">

    <div class="prompt output_prompt">Out[15]:</div>




<div class="output_text output_subarea output_execute_result">
<pre>- : (string, operateur, decoration) arbre_binaire_decore =
N2
 ({rho = 1; premier_gauche = false}, F2 &#34;x&#34;, Moins,
  N2 ({rho = 1; premier_gauche = true}, F2 &#34;y&#34;, Mul, F2 &#34;z&#34;))
</pre>
</div>

</div>

</div>
</div>

</div>
<div class="cell border-box-sizing code_cell rendered">
<div class="input">
<div class="prompt input_prompt">In&nbsp;[16]:</div>
<div class="inner_cell">
    <div class="input_area">
<div class=" highlight hl-OCaml"><pre><span></span><span class="n">decore</span> <span class="n">exp2</span><span class="o">;;</span>
</pre></div>

    </div>
</div>
</div>

<div class="output_wrapper">
<div class="output">


<div class="output_area">

    <div class="prompt output_prompt">Out[16]:</div>




<div class="output_text output_subarea output_execute_result">
<pre>- : (string, operateur, decoration) arbre_binaire_decore =
N2
 ({rho = 1; premier_gauche = false}, F2 &#34;u&#34;, Moins,
  N2 ({rho = 1; premier_gauche = true}, F2 &#34;v&#34;, Mul, F2 &#34;w&#34;))
</pre>
</div>

</div>

</div>
</div>

</div>
<div class="cell border-box-sizing code_cell rendered">
<div class="input">
<div class="prompt input_prompt">In&nbsp;[17]:</div>
<div class="inner_cell">
    <div class="input_area">
<div class=" highlight hl-OCaml"><pre><span></span><span class="n">decore</span> <span class="n">exp3</span><span class="o">;;</span>
</pre></div>

    </div>
</div>
</div>

<div class="output_wrapper">
<div class="output">


<div class="output_area">

    <div class="prompt output_prompt">Out[17]:</div>




<div class="output_text output_subarea output_execute_result">
<pre>- : (string, operateur, decoration) arbre_binaire_decore =
N2
 ({rho = 2; premier_gauche = true},
  N2
   ({rho = 1; premier_gauche = false}, F2 &#34;x&#34;, Moins,
    N2 ({rho = 1; premier_gauche = true}, F2 &#34;y&#34;, Mul, F2 &#34;z&#34;)),
  Div,
  N2
   ({rho = 1; premier_gauche = false}, F2 &#34;u&#34;, Moins,
    N2 ({rho = 1; premier_gauche = true}, F2 &#34;v&#34;, Mul, F2 &#34;w&#34;)))
</pre>
</div>

</div>

</div>
</div>

</div>
<div class="cell border-box-sizing text_cell rendered"><div class="prompt input_prompt">
</div><div class="inner_cell">
<div class="text_cell_render border-box-sizing rendered_html">
<h2 id="Complexit&#233;s">Complexit&#233;s<a class="anchor-link" href="#Complexit&#233;s">&#182;</a></h2>
</div>
</div>
</div>
<div class="cell border-box-sizing text_cell rendered"><div class="prompt input_prompt">
</div><div class="inner_cell">
<div class="text_cell_render border-box-sizing rendered_html">
<h3 id="En-espace">En espace<a class="anchor-link" href="#En-espace">&#182;</a></h3><p>Les deux fonctions présentées ci-dessus n'utilisent pas d'autre espace que l'arbre décoré, et la pile d'appel récursif.</p>
<ul>
<li>Le calcul récursif de $\rho(t)$ prend donc un espace proportionnel au nombre d'appel récursif imbriqué, qui est borné par la taille du terme $t$ (définie comme le nombre de noeuds et de feuilles), donc est <strong>linéaire</strong>,</li>
<li>Le calcul de la méthode d'Ershov est elle aussi <strong>linéaire</strong> puisque l'arbre décoré est de même taille que l'arbre initial.</li>
</ul>

</div>
</div>
</div>
<div class="cell border-box-sizing text_cell rendered"><div class="prompt input_prompt">
</div><div class="inner_cell">
<div class="text_cell_render border-box-sizing rendered_html">
<h3 id="En-temps">En temps<a class="anchor-link" href="#En-temps">&#182;</a></h3><p>Les deux fonctions présentées ci-dessus sont <strong>linéaires</strong> dans la taille de l'arbre.</p>

</div>
</div>
</div>
<div class="cell border-box-sizing text_cell rendered"><div class="prompt input_prompt">
</div><div class="inner_cell">
<div class="text_cell_render border-box-sizing rendered_html">
<h2 id="Impl&#233;mentations-suppl&#233;mentaires">Impl&#233;mentations suppl&#233;mentaires<a class="anchor-link" href="#Impl&#233;mentations-suppl&#233;mentaires">&#182;</a></h2><p>On peut essayer d'implémenter une fonction qui afficherait ceci pour la méthode d'évaluation naturelle :</p>
<p><img width="70%" alt="images/public2018-D1_ex1.png" src="images/public2018-D1_ex1.png"></p>
<p>Et ceci pour la méthode d'Ershov :</p>
<p><img width="70%" alt="images/public2018-D1_ex2.png" src="images/public2018-D1_ex2.png"></p>
<p>Ce n'est pas trop difficile, mais ça prend un peu de temps :</p>
<ul>
<li>on va d'abord montrer comment évaluer les expressions, en lisant l'arbre et en effectuant des appels récursifs,</li>
<li>puis on fera un parcours postfix de l'arbre afin d'utiliser l'évaluation avec une pile, avec la stratégie naïve,</li>
<li>et enfin la méthode d'Ershov permettra de réduire la hauteur maximale de la pile, en passant de $h(t)$ (hauteur de l'arbre) à $\rho(t)$,</li>
<li>en bonus, on affichera les instructions style "compilateur à registre", pour visualiser le gain apporté par la méthode d'Ershov.</li>
</ul>
<blockquote><p>Bien sûr, tout cela fait beaucoup trop pour être envisagé le jour de l'oral ! Mais un des points aurait pû être implémenté rapidement.</p>
</blockquote>

</div>
</div>
</div>
<div class="cell border-box-sizing text_cell rendered"><div class="prompt input_prompt">
</div><div class="inner_cell">
<div class="text_cell_render border-box-sizing rendered_html">
<h3 id="&#201;valuation-des-expressions">&#201;valuation des expressions<a class="anchor-link" href="#&#201;valuation-des-expressions">&#182;</a></h3><p>Un premier objectif plus simple est d'évaluer les expressions, en fournissant un <em>contexte</em> (table associant une valeur à chaque variable).</p>

</div>
</div>
</div>
<div class="cell border-box-sizing code_cell rendered">
<div class="input">
<div class="prompt input_prompt">In&nbsp;[18]:</div>
<div class="inner_cell">
    <div class="input_area">
<div class=" highlight hl-OCaml"><pre><span></span><span class="k">type</span> <span class="o">(</span><span class="k">&#39;</span><span class="n">a</span><span class="o">,</span> <span class="k">&#39;</span><span class="n">b</span><span class="o">)</span> <span class="n">contexte</span> <span class="o">=</span> <span class="o">(</span><span class="k">&#39;</span><span class="n">a</span> <span class="o">*</span> <span class="k">&#39;</span><span class="n">b</span><span class="o">)</span> <span class="kt">list</span><span class="o">;;</span>
<span class="k">let</span> <span class="n">valeur</span> <span class="o">(</span><span class="n">ctx</span> <span class="o">:</span> <span class="o">(</span><span class="k">&#39;</span><span class="n">a</span><span class="o">,</span> <span class="k">&#39;</span><span class="n">b</span><span class="o">)</span> <span class="n">contexte</span><span class="o">)</span> <span class="o">(</span><span class="n">var</span> <span class="o">:</span> <span class="k">&#39;</span><span class="n">a</span><span class="o">)</span> <span class="o">=</span> <span class="nn">List</span><span class="p">.</span><span class="n">assoc</span> <span class="n">var</span> <span class="n">ctx</span><span class="o">;;</span>
<span class="c">(* une Hashtbl peut etre utilisee si besoin de bonnes performances *)</span>
</pre></div>

    </div>
</div>
</div>

<div class="output_wrapper">
<div class="output">


<div class="output_area">

    <div class="prompt output_prompt">Out[18]:</div>




<div class="output_text output_subarea output_execute_result">
<pre>type (&#39;a, &#39;b) contexte = (&#39;a * &#39;b) list
</pre>
</div>

</div>

<div class="output_area">

    <div class="prompt output_prompt">Out[18]:</div>




<div class="output_text output_subarea output_execute_result">
<pre>val valeur : (&#39;a, &#39;b) contexte -&gt; &#39;a -&gt; &#39;b = &lt;fun&gt;
</pre>
</div>

</div>

</div>
</div>

</div>
<div class="cell border-box-sizing code_cell rendered">
<div class="input">
<div class="prompt input_prompt">In&nbsp;[19]:</div>
<div class="inner_cell">
    <div class="input_area">
<div class=" highlight hl-OCaml"><pre><span></span><span class="k">let</span> <span class="n">contexte1</span> <span class="o">:</span> <span class="o">(</span><span class="kt">string</span><span class="o">,</span> <span class="kt">int</span><span class="o">)</span> <span class="n">contexte</span> <span class="o">=</span> <span class="o">[</span>
    <span class="o">(</span><span class="s2">&quot;x&quot;</span><span class="o">,</span> <span class="mi">1</span><span class="o">);</span> <span class="o">(</span><span class="s2">&quot;y&quot;</span><span class="o">,</span> <span class="mi">2</span><span class="o">);</span> <span class="o">(</span><span class="s2">&quot;z&quot;</span><span class="o">,</span> <span class="mi">3</span><span class="o">);</span>
    <span class="o">(</span><span class="s2">&quot;u&quot;</span><span class="o">,</span> <span class="mi">4</span><span class="o">);</span> <span class="o">(</span><span class="s2">&quot;v&quot;</span><span class="o">,</span> <span class="mi">5</span><span class="o">);</span> <span class="o">(</span><span class="s2">&quot;w&quot;</span><span class="o">,</span> <span class="mi">6</span><span class="o">)</span>
<span class="o">];;</span>
</pre></div>

    </div>
</div>
</div>

<div class="output_wrapper">
<div class="output">


<div class="output_area">

    <div class="prompt output_prompt">Out[19]:</div>




<div class="output_text output_subarea output_execute_result">
<pre>val contexte1 : (string, int) contexte =
  [(&#34;x&#34;, 1); (&#34;y&#34;, 2); (&#34;z&#34;, 3); (&#34;u&#34;, 4); (&#34;v&#34;, 5); (&#34;w&#34;, 6)]
</pre>
</div>

</div>

</div>
</div>

</div>
<div class="cell border-box-sizing code_cell rendered">
<div class="input">
<div class="prompt input_prompt">In&nbsp;[20]:</div>
<div class="inner_cell">
    <div class="input_area">
<div class=" highlight hl-OCaml"><pre><span></span><span class="k">let</span> <span class="n">intop_of_op</span> <span class="o">(</span><span class="n">op</span> <span class="o">:</span> <span class="n">operateur</span><span class="o">)</span> <span class="o">:</span> <span class="o">(</span><span class="kt">int</span> <span class="o">-&gt;</span> <span class="kt">int</span> <span class="o">-&gt;</span> <span class="kt">int</span><span class="o">)</span> <span class="o">=</span>
    <span class="k">match</span> <span class="n">op</span> <span class="k">with</span>
    <span class="o">|</span> <span class="nc">Plus</span> <span class="o">-&gt;</span> <span class="o">(</span> <span class="o">+</span> <span class="o">)</span>
    <span class="o">|</span> <span class="nc">Moins</span> <span class="o">-&gt;</span> <span class="o">(</span> <span class="o">-</span> <span class="o">)</span>
    <span class="o">|</span> <span class="nc">MoinsDroite</span> <span class="o">-&gt;</span> <span class="o">(</span><span class="k">fun</span> <span class="n">v1</span> <span class="o">-&gt;</span> <span class="k">fun</span> <span class="n">v2</span> <span class="o">-&gt;</span> <span class="n">v2</span> <span class="o">-</span> <span class="n">v1</span><span class="o">)</span>
    <span class="o">|</span> <span class="nc">Mul</span> <span class="o">-&gt;</span> <span class="o">(</span> <span class="o">*</span> <span class="o">)</span>
    <span class="o">|</span> <span class="nc">Div</span> <span class="o">-&gt;</span> <span class="o">(</span> <span class="o">/</span> <span class="o">)</span>
    <span class="o">|</span> <span class="nc">DivDroite</span> <span class="o">-&gt;</span> <span class="o">(</span><span class="k">fun</span> <span class="n">v1</span> <span class="o">-&gt;</span> <span class="k">fun</span> <span class="n">v2</span> <span class="o">-&gt;</span> <span class="n">v2</span> <span class="o">/</span> <span class="n">v1</span><span class="o">)</span>
    <span class="o">|</span> <span class="nc">Modulo</span> <span class="o">-&gt;</span> <span class="o">(</span> <span class="ow">mod</span> <span class="o">)</span>
    <span class="o">|</span> <span class="nc">Expo</span> <span class="o">-&gt;</span>
        <span class="o">(</span><span class="k">fun</span> <span class="n">v1</span> <span class="o">-&gt;</span> <span class="k">fun</span> <span class="n">v2</span> <span class="o">-&gt;</span> <span class="n">int_of_float</span> <span class="o">((</span><span class="n">float_of_int</span> <span class="n">v1</span><span class="o">)</span> <span class="o">**</span> <span class="o">(</span><span class="n">float_of_int</span> <span class="n">v2</span><span class="o">)))</span>
<span class="o">;;</span>
</pre></div>

    </div>
</div>
</div>

<div class="output_wrapper">
<div class="output">


<div class="output_area">

    <div class="prompt output_prompt">Out[20]:</div>




<div class="output_text output_subarea output_execute_result">
<pre>val intop_of_op : operateur -&gt; int -&gt; int -&gt; int = &lt;fun&gt;
</pre>
</div>

</div>

</div>
</div>

</div>
<div class="cell border-box-sizing code_cell rendered">
<div class="input">
<div class="prompt input_prompt">In&nbsp;[21]:</div>
<div class="inner_cell">
    <div class="input_area">
<div class=" highlight hl-OCaml"><pre><span></span><span class="k">let</span> <span class="k">rec</span> <span class="n">eval_int</span> <span class="o">(</span><span class="n">ctx</span> <span class="o">:</span> <span class="o">(</span><span class="kt">string</span><span class="o">,</span> <span class="kt">int</span><span class="o">)</span> <span class="n">contexte</span><span class="o">)</span> <span class="o">(</span><span class="n">expr</span> <span class="o">:</span> <span class="o">(</span><span class="kt">string</span><span class="o">,</span> <span class="n">operateur</span><span class="o">)</span> <span class="n">arbre_binaire</span><span class="o">)</span> <span class="o">:</span> <span class="kt">int</span> <span class="o">=</span>
    <span class="k">match</span> <span class="n">expr</span> <span class="k">with</span>
    <span class="o">|</span> <span class="nc">F</span><span class="o">(</span><span class="n">s</span><span class="o">)</span> <span class="o">-&gt;</span> <span class="n">valeur</span> <span class="n">ctx</span> <span class="n">s</span>
    <span class="o">|</span> <span class="nc">N</span><span class="o">(</span><span class="n">t1</span><span class="o">,</span> <span class="n">op</span><span class="o">,</span> <span class="n">t2</span><span class="o">)</span> <span class="o">-&gt;</span>
        <span class="k">let</span> <span class="n">v1</span><span class="o">,</span> <span class="n">v2</span> <span class="o">=</span> <span class="n">eval_int</span> <span class="n">ctx</span> <span class="n">t1</span><span class="o">,</span> <span class="n">eval_int</span> <span class="n">ctx</span> <span class="n">t2</span> <span class="k">in</span>
        <span class="o">(</span><span class="n">intop_of_op</span> <span class="n">op</span><span class="o">)</span> <span class="n">v1</span> <span class="n">v2</span>
<span class="o">;;</span>
</pre></div>

    </div>
</div>
</div>

<div class="output_wrapper">
<div class="output">


<div class="output_area">

    <div class="prompt output_prompt">Out[21]:</div>




<div class="output_text output_subarea output_execute_result">
<pre>val eval_int :
  (string, int) contexte -&gt; (string, operateur) arbre_binaire -&gt; int = &lt;fun&gt;
</pre>
</div>

</div>

</div>
</div>

</div>
<div class="cell border-box-sizing text_cell rendered"><div class="prompt input_prompt">
</div><div class="inner_cell">
<div class="text_cell_render border-box-sizing rendered_html">
<p>Par exemple, $x$ vaut $1$ dans le contexte d'exemple, et $x + y$ vaut $1 + 2 = 3$ :</p>

</div>
</div>
</div>
<div class="cell border-box-sizing code_cell rendered">
<div class="input">
<div class="prompt input_prompt">In&nbsp;[22]:</div>
<div class="inner_cell">
    <div class="input_area">
<div class=" highlight hl-OCaml"><pre><span></span><span class="k">let</span> <span class="o">_</span> <span class="o">=</span> <span class="n">eval_int</span> <span class="n">contexte1</span> <span class="o">(</span><span class="nc">F</span><span class="o">(</span><span class="s2">&quot;x&quot;</span><span class="o">));;</span>
</pre></div>

    </div>
</div>
</div>

<div class="output_wrapper">
<div class="output">


<div class="output_area">

    <div class="prompt output_prompt">Out[22]:</div>




<div class="output_text output_subarea output_execute_result">
<pre>- : int = 1
</pre>
</div>

</div>

</div>
</div>

</div>
<div class="cell border-box-sizing code_cell rendered">
<div class="input">
<div class="prompt input_prompt">In&nbsp;[23]:</div>
<div class="inner_cell">
    <div class="input_area">
<div class=" highlight hl-OCaml"><pre><span></span><span class="k">let</span> <span class="o">_</span> <span class="o">=</span> <span class="n">eval_int</span> <span class="n">contexte1</span> <span class="o">(</span><span class="nc">N</span><span class="o">(</span><span class="nc">F</span><span class="o">(</span><span class="s2">&quot;x&quot;</span><span class="o">),</span> <span class="nc">Plus</span><span class="o">,</span> <span class="nc">F</span><span class="o">(</span><span class="s2">&quot;y&quot;</span><span class="o">)));;</span>
</pre></div>

    </div>
</div>
</div>

<div class="output_wrapper">
<div class="output">


<div class="output_area">

    <div class="prompt output_prompt">Out[23]:</div>




<div class="output_text output_subarea output_execute_result">
<pre>- : int = 3
</pre>
</div>

</div>

</div>
</div>

</div>
<div class="cell border-box-sizing code_cell rendered">
<div class="input">
<div class="prompt input_prompt">In&nbsp;[24]:</div>
<div class="inner_cell">
    <div class="input_area">
<div class=" highlight hl-OCaml"><pre><span></span><span class="k">let</span> <span class="o">_</span> <span class="o">=</span> <span class="n">eval_int</span> <span class="n">contexte1</span> <span class="n">exp1</span><span class="o">;;</span>
</pre></div>

    </div>
</div>
</div>

<div class="output_wrapper">
<div class="output">


<div class="output_area">

    <div class="prompt output_prompt">Out[24]:</div>




<div class="output_text output_subarea output_execute_result">
<pre>- : int = -5
</pre>
</div>

</div>

</div>
</div>

</div>
<div class="cell border-box-sizing code_cell rendered">
<div class="input">
<div class="prompt input_prompt">In&nbsp;[25]:</div>
<div class="inner_cell">
    <div class="input_area">
<div class=" highlight hl-OCaml"><pre><span></span><span class="k">let</span> <span class="o">_</span> <span class="o">=</span> <span class="n">eval_int</span> <span class="n">contexte1</span> <span class="n">exp2</span><span class="o">;;</span>
</pre></div>

    </div>
</div>
</div>

<div class="output_wrapper">
<div class="output">


<div class="output_area">

    <div class="prompt output_prompt">Out[25]:</div>




<div class="output_text output_subarea output_execute_result">
<pre>- : int = -26
</pre>
</div>

</div>

</div>
</div>

</div>
<div class="cell border-box-sizing code_cell rendered">
<div class="input">
<div class="prompt input_prompt">In&nbsp;[26]:</div>
<div class="inner_cell">
    <div class="input_area">
<div class=" highlight hl-OCaml"><pre><span></span><span class="k">let</span> <span class="o">_</span> <span class="o">=</span> <span class="n">eval_int</span> <span class="n">contexte1</span> <span class="n">exp3</span><span class="o">;;</span>
</pre></div>

    </div>
</div>
</div>

<div class="output_wrapper">
<div class="output">


<div class="output_area">

    <div class="prompt output_prompt">Out[26]:</div>




<div class="output_text output_subarea output_execute_result">
<pre>- : int = 0
</pre>
</div>

</div>

</div>
</div>

</div>
<div class="cell border-box-sizing text_cell rendered"><div class="prompt input_prompt">
</div><div class="inner_cell">
<div class="text_cell_render border-box-sizing rendered_html">
<p>On voit la faiblesse de l'interprétation avec des entiers, la division <code>/</code> est une division entière !</p>
<p>On peut aussi interpréter avec des flottants :</p>

</div>
</div>
</div>
<div class="cell border-box-sizing code_cell rendered">
<div class="input">
<div class="prompt input_prompt">In&nbsp;[27]:</div>
<div class="inner_cell">
    <div class="input_area">
<div class=" highlight hl-OCaml"><pre><span></span><span class="k">let</span> <span class="n">contexte2</span> <span class="o">:</span> <span class="o">(</span><span class="kt">string</span><span class="o">,</span> <span class="kt">float</span><span class="o">)</span> <span class="n">contexte</span> <span class="o">=</span> <span class="o">[</span>
    <span class="o">(</span><span class="s2">&quot;x&quot;</span><span class="o">,</span> <span class="mi">1</span><span class="o">.);</span> <span class="o">(</span><span class="s2">&quot;y&quot;</span><span class="o">,</span> <span class="mi">2</span><span class="o">.);</span> <span class="o">(</span><span class="s2">&quot;z&quot;</span><span class="o">,</span> <span class="mi">3</span><span class="o">.);</span>
    <span class="o">(</span><span class="s2">&quot;u&quot;</span><span class="o">,</span> <span class="mi">4</span><span class="o">.);</span> <span class="o">(</span><span class="s2">&quot;v&quot;</span><span class="o">,</span> <span class="mi">5</span><span class="o">.);</span> <span class="o">(</span><span class="s2">&quot;w&quot;</span><span class="o">,</span> <span class="mi">6</span><span class="o">.)</span>
<span class="o">];;</span>
</pre></div>

    </div>
</div>
</div>

<div class="output_wrapper">
<div class="output">


<div class="output_area">

    <div class="prompt output_prompt">Out[27]:</div>




<div class="output_text output_subarea output_execute_result">
<pre>val contexte2 : (string, float) contexte =
  [(&#34;x&#34;, 1.); (&#34;y&#34;, 2.); (&#34;z&#34;, 3.); (&#34;u&#34;, 4.); (&#34;v&#34;, 5.); (&#34;w&#34;, 6.)]
</pre>
</div>

</div>

</div>
</div>

</div>
<div class="cell border-box-sizing code_cell rendered">
<div class="input">
<div class="prompt input_prompt">In&nbsp;[28]:</div>
<div class="inner_cell">
    <div class="input_area">
<div class=" highlight hl-OCaml"><pre><span></span><span class="k">let</span> <span class="n">floatop_of_op</span> <span class="o">(</span><span class="n">op</span> <span class="o">:</span> <span class="n">operateur</span><span class="o">)</span> <span class="o">:</span> <span class="o">(</span><span class="kt">float</span> <span class="o">-&gt;</span> <span class="kt">float</span> <span class="o">-&gt;</span> <span class="kt">float</span><span class="o">)</span> <span class="o">=</span>
    <span class="k">match</span> <span class="n">op</span> <span class="k">with</span>
    <span class="o">|</span> <span class="nc">Plus</span> <span class="o">-&gt;</span> <span class="o">(</span> <span class="o">+.</span> <span class="o">)</span>
    <span class="o">|</span> <span class="nc">Moins</span> <span class="o">-&gt;</span> <span class="o">(</span> <span class="o">-.</span> <span class="o">)</span>
    <span class="o">|</span> <span class="nc">MoinsDroite</span> <span class="o">-&gt;</span> <span class="o">(</span><span class="k">fun</span> <span class="n">v1</span> <span class="o">-&gt;</span> <span class="k">fun</span> <span class="n">v2</span> <span class="o">-&gt;</span> <span class="n">v2</span> <span class="o">-.</span> <span class="n">v1</span><span class="o">)</span>
    <span class="o">|</span> <span class="nc">Mul</span> <span class="o">-&gt;</span> <span class="o">(</span> <span class="o">*.</span> <span class="o">)</span>
    <span class="o">|</span> <span class="nc">Div</span> <span class="o">-&gt;</span> <span class="o">(</span> <span class="o">/.</span> <span class="o">)</span>
    <span class="o">|</span> <span class="nc">DivDroite</span> <span class="o">-&gt;</span> <span class="o">(</span><span class="k">fun</span> <span class="n">v1</span> <span class="o">-&gt;</span> <span class="k">fun</span> <span class="n">v2</span> <span class="o">-&gt;</span> <span class="n">v2</span> <span class="o">/.</span> <span class="n">v1</span><span class="o">)</span>
    <span class="o">|</span> <span class="nc">Modulo</span> <span class="o">-&gt;</span>
        <span class="o">(</span><span class="k">fun</span> <span class="n">v1</span> <span class="o">-&gt;</span> <span class="k">fun</span> <span class="n">v2</span> <span class="o">-&gt;</span> <span class="n">float_of_int</span> <span class="o">((</span><span class="n">int_of_float</span> <span class="n">v1</span><span class="o">)</span> <span class="ow">mod</span> <span class="o">(</span><span class="n">int_of_float</span> <span class="n">v2</span><span class="o">)))</span>
    <span class="o">|</span> <span class="nc">Expo</span> <span class="o">-&gt;</span> <span class="o">(</span> <span class="o">**</span> <span class="o">)</span>
<span class="o">;;</span>
</pre></div>

    </div>
</div>
</div>

<div class="output_wrapper">
<div class="output">


<div class="output_area">

    <div class="prompt output_prompt">Out[28]:</div>




<div class="output_text output_subarea output_execute_result">
<pre>val floatop_of_op : operateur -&gt; float -&gt; float -&gt; float = &lt;fun&gt;
</pre>
</div>

</div>

</div>
</div>

</div>
<div class="cell border-box-sizing code_cell rendered">
<div class="input">
<div class="prompt input_prompt">In&nbsp;[29]:</div>
<div class="inner_cell">
    <div class="input_area">
<div class=" highlight hl-OCaml"><pre><span></span><span class="k">let</span> <span class="k">rec</span> <span class="n">eval_float</span> <span class="o">(</span><span class="n">ctx</span> <span class="o">:</span> <span class="o">(</span><span class="kt">string</span><span class="o">,</span> <span class="kt">float</span><span class="o">)</span> <span class="n">contexte</span><span class="o">)</span> <span class="o">(</span><span class="n">expr</span> <span class="o">:</span> <span class="o">(</span><span class="kt">string</span><span class="o">,</span> <span class="n">operateur</span><span class="o">)</span> <span class="n">arbre_binaire</span><span class="o">)</span> <span class="o">:</span> <span class="kt">float</span> <span class="o">=</span>
    <span class="k">match</span> <span class="n">expr</span> <span class="k">with</span>
    <span class="o">|</span> <span class="nc">F</span><span class="o">(</span><span class="n">s</span><span class="o">)</span> <span class="o">-&gt;</span> <span class="n">valeur</span> <span class="n">ctx</span> <span class="n">s</span>
    <span class="o">|</span> <span class="nc">N</span><span class="o">(</span><span class="n">t1</span><span class="o">,</span> <span class="n">op</span><span class="o">,</span> <span class="n">t2</span><span class="o">)</span> <span class="o">-&gt;</span>
        <span class="k">let</span> <span class="n">v1</span><span class="o">,</span> <span class="n">v2</span> <span class="o">=</span> <span class="n">eval_float</span> <span class="n">ctx</span> <span class="n">t1</span><span class="o">,</span> <span class="n">eval_float</span> <span class="n">ctx</span> <span class="n">t2</span> <span class="k">in</span>
        <span class="o">(</span><span class="n">floatop_of_op</span> <span class="n">op</span><span class="o">)</span> <span class="n">v1</span> <span class="n">v2</span>
<span class="o">;;</span>
</pre></div>

    </div>
</div>
</div>

<div class="output_wrapper">
<div class="output">


<div class="output_area">

    <div class="prompt output_prompt">Out[29]:</div>




<div class="output_text output_subarea output_execute_result">
<pre>val eval_float :
  (string, float) contexte -&gt; (string, operateur) arbre_binaire -&gt; float =
  &lt;fun&gt;
</pre>
</div>

</div>

</div>
</div>

</div>
<div class="cell border-box-sizing text_cell rendered"><div class="prompt input_prompt">
</div><div class="inner_cell">
<div class="text_cell_render border-box-sizing rendered_html">
<p>Par exemple, $x$ vaut $1$ dans le contexte d'exemple, et $x + y$ vaut $1 + 2 = 3$ :</p>

</div>
</div>
</div>
<div class="cell border-box-sizing code_cell rendered">
<div class="input">
<div class="prompt input_prompt">In&nbsp;[30]:</div>
<div class="inner_cell">
    <div class="input_area">
<div class=" highlight hl-OCaml"><pre><span></span><span class="k">let</span> <span class="o">_</span> <span class="o">=</span> <span class="n">eval_float</span> <span class="n">contexte2</span> <span class="o">(</span><span class="nc">F</span><span class="o">(</span><span class="s2">&quot;x&quot;</span><span class="o">));;</span>
</pre></div>

    </div>
</div>
</div>

<div class="output_wrapper">
<div class="output">


<div class="output_area">

    <div class="prompt output_prompt">Out[30]:</div>




<div class="output_text output_subarea output_execute_result">
<pre>- : float = 1.
</pre>
</div>

</div>

</div>
</div>

</div>
<div class="cell border-box-sizing code_cell rendered">
<div class="input">
<div class="prompt input_prompt">In&nbsp;[31]:</div>
<div class="inner_cell">
    <div class="input_area">
<div class=" highlight hl-OCaml"><pre><span></span><span class="k">let</span> <span class="o">_</span> <span class="o">=</span> <span class="n">eval_float</span> <span class="n">contexte2</span> <span class="o">(</span><span class="nc">N</span><span class="o">(</span><span class="nc">F</span><span class="o">(</span><span class="s2">&quot;x&quot;</span><span class="o">),</span> <span class="nc">Plus</span><span class="o">,</span> <span class="nc">F</span><span class="o">(</span><span class="s2">&quot;y&quot;</span><span class="o">)));;</span>
</pre></div>

    </div>
</div>
</div>

<div class="output_wrapper">
<div class="output">


<div class="output_area">

    <div class="prompt output_prompt">Out[31]:</div>




<div class="output_text output_subarea output_execute_result">
<pre>- : float = 3.
</pre>
</div>

</div>

</div>
</div>

</div>
<div class="cell border-box-sizing code_cell rendered">
<div class="input">
<div class="prompt input_prompt">In&nbsp;[32]:</div>
<div class="inner_cell">
    <div class="input_area">
<div class=" highlight hl-OCaml"><pre><span></span><span class="k">let</span> <span class="o">_</span> <span class="o">=</span> <span class="n">eval_float</span> <span class="n">contexte2</span> <span class="n">exp1</span><span class="o">;;</span>
</pre></div>

    </div>
</div>
</div>

<div class="output_wrapper">
<div class="output">


<div class="output_area">

    <div class="prompt output_prompt">Out[32]:</div>




<div class="output_text output_subarea output_execute_result">
<pre>- : float = -5.
</pre>
</div>

</div>

</div>
</div>

</div>
<div class="cell border-box-sizing code_cell rendered">
<div class="input">
<div class="prompt input_prompt">In&nbsp;[33]:</div>
<div class="inner_cell">
    <div class="input_area">
<div class=" highlight hl-OCaml"><pre><span></span><span class="k">let</span> <span class="o">_</span> <span class="o">=</span> <span class="n">eval_float</span> <span class="n">contexte2</span> <span class="n">exp2</span><span class="o">;;</span>
</pre></div>

    </div>
</div>
</div>

<div class="output_wrapper">
<div class="output">


<div class="output_area">

    <div class="prompt output_prompt">Out[33]:</div>




<div class="output_text output_subarea output_execute_result">
<pre>- : float = -26.
</pre>
</div>

</div>

</div>
</div>

</div>
<div class="cell border-box-sizing code_cell rendered">
<div class="input">
<div class="prompt input_prompt">In&nbsp;[34]:</div>
<div class="inner_cell">
    <div class="input_area">
<div class=" highlight hl-OCaml"><pre><span></span><span class="k">let</span> <span class="o">_</span> <span class="o">=</span> <span class="n">eval_float</span> <span class="n">contexte2</span> <span class="n">exp3</span><span class="o">;;</span>
</pre></div>

    </div>
</div>
</div>

<div class="output_wrapper">
<div class="output">


<div class="output_area">

    <div class="prompt output_prompt">Out[34]:</div>




<div class="output_text output_subarea output_execute_result">
<pre>- : float = 0.192307692307692318
</pre>
</div>

</div>

</div>
</div>

</div>
<div class="cell border-box-sizing text_cell rendered"><div class="prompt input_prompt">
</div><div class="inner_cell">
<div class="text_cell_render border-box-sizing rendered_html">
<h3 id="Evaluation-par-lecture-postfix-et-pile">Evaluation par lecture postfix et pile<a class="anchor-link" href="#Evaluation-par-lecture-postfix-et-pile">&#182;</a></h3><p>On va commencer par lire l'arbre en parcours postfix (cf. <a href="https://nbviewer.jupyter.org/github/Naereen/notebooks/tree/master/agreg/TP_Programmation_2017-18/TP2__OCaml.ipynb">TP2 @ ENS Rennes 2017/18</a>) et ensuite l'évaluer grâce à une pile.</p>

</div>
</div>
</div>
<div class="cell border-box-sizing code_cell rendered">
<div class="input">
<div class="prompt input_prompt">In&nbsp;[35]:</div>
<div class="inner_cell">
    <div class="input_area">
<div class=" highlight hl-OCaml"><pre><span></span><span class="k">type</span> <span class="o">(</span><span class="k">&#39;</span><span class="n">a</span><span class="o">,</span> <span class="k">&#39;</span><span class="n">b</span><span class="o">)</span> <span class="n">lexem</span> <span class="o">=</span> <span class="nc">O</span> <span class="k">of</span> <span class="k">&#39;</span><span class="n">b</span> <span class="o">|</span> <span class="nc">V</span> <span class="k">of</span> <span class="k">&#39;</span><span class="n">a</span><span class="o">;;</span>
<span class="k">type</span> <span class="o">(</span><span class="k">&#39;</span><span class="n">a</span><span class="o">,</span> <span class="k">&#39;</span><span class="n">b</span><span class="o">)</span> <span class="n">parcours</span> <span class="o">=</span> <span class="o">((</span><span class="k">&#39;</span><span class="n">a</span><span class="o">,</span> <span class="k">&#39;</span><span class="n">b</span><span class="o">)</span> <span class="n">lexem</span><span class="o">)</span> <span class="kt">list</span><span class="o">;;</span>
</pre></div>

    </div>
</div>
</div>

<div class="output_wrapper">
<div class="output">


<div class="output_area">

    <div class="prompt output_prompt">Out[35]:</div>




<div class="output_text output_subarea output_execute_result">
<pre>type (&#39;a, &#39;b) lexem = O of &#39;b | V of &#39;a
</pre>
</div>

</div>

<div class="output_area">

    <div class="prompt output_prompt">Out[35]:</div>




<div class="output_text output_subarea output_execute_result">
<pre>type (&#39;a, &#39;b) parcours = (&#39;a, &#39;b) lexem list
</pre>
</div>

</div>

</div>
</div>

</div>
<div class="cell border-box-sizing code_cell rendered">
<div class="input">
<div class="prompt input_prompt">In&nbsp;[36]:</div>
<div class="inner_cell">
    <div class="input_area">
<div class=" highlight hl-OCaml"><pre><span></span><span class="k">let</span> <span class="n">parcours_postfix</span> <span class="o">(</span><span class="n">expr</span> <span class="o">:</span> <span class="o">(</span><span class="k">&#39;</span><span class="n">a</span><span class="o">,</span> <span class="k">&#39;</span><span class="n">b</span><span class="o">)</span> <span class="n">arbre_binaire</span><span class="o">)</span> <span class="o">:</span> <span class="o">((</span><span class="k">&#39;</span><span class="n">a</span><span class="o">,</span> <span class="k">&#39;</span><span class="n">b</span><span class="o">)</span> <span class="n">parcours</span><span class="o">)</span> <span class="o">=</span>
    <span class="k">let</span> <span class="k">rec</span> <span class="n">parcours</span> <span class="n">vus</span> <span class="n">expr</span> <span class="o">=</span>
        <span class="k">match</span> <span class="n">expr</span> <span class="k">with</span>
        <span class="o">|</span> <span class="nc">F</span><span class="o">(</span><span class="n">s</span><span class="o">)</span> <span class="o">-&gt;</span> <span class="nc">V</span><span class="o">(</span><span class="n">s</span><span class="o">)</span> <span class="o">::</span> <span class="n">vus</span>
        <span class="o">|</span> <span class="nc">N</span><span class="o">(</span><span class="n">t1</span><span class="o">,</span> <span class="n">op</span><span class="o">,</span> <span class="n">t2</span><span class="o">)</span> <span class="o">-&gt;</span> <span class="nc">O</span><span class="o">(</span><span class="n">op</span><span class="o">)</span> <span class="o">::</span> <span class="o">(</span><span class="n">parcours</span> <span class="o">(</span><span class="n">parcours</span> <span class="n">vus</span> <span class="n">t1</span><span class="o">)</span> <span class="n">t2</span><span class="o">)</span>
    <span class="k">in</span>
    <span class="nn">List</span><span class="p">.</span><span class="n">rev</span> <span class="o">(</span><span class="n">parcours</span> <span class="bp">[]</span> <span class="n">expr</span><span class="o">)</span>
<span class="o">;;</span>
</pre></div>

    </div>
</div>
</div>

<div class="output_wrapper">
<div class="output">


<div class="output_area">

    <div class="prompt output_prompt">Out[36]:</div>




<div class="output_text output_subarea output_execute_result">
<pre>val parcours_postfix : (&#39;a, &#39;b) arbre_binaire -&gt; (&#39;a, &#39;b) parcours = &lt;fun&gt;
</pre>
</div>

</div>

</div>
</div>

</div>
<div class="cell border-box-sizing text_cell rendered"><div class="prompt input_prompt">
</div><div class="inner_cell">
<div class="text_cell_render border-box-sizing rendered_html">
<p>On le teste :</p>

</div>
</div>
</div>
<div class="cell border-box-sizing code_cell rendered">
<div class="input">
<div class="prompt input_prompt">In&nbsp;[37]:</div>
<div class="inner_cell">
    <div class="input_area">
<div class=" highlight hl-OCaml"><pre><span></span><span class="n">parcours_postfix</span> <span class="n">exp1</span><span class="o">;;</span>
</pre></div>

    </div>
</div>
</div>

<div class="output_wrapper">
<div class="output">


<div class="output_area">

    <div class="prompt output_prompt">Out[37]:</div>




<div class="output_text output_subarea output_execute_result">
<pre>- : (string, operateur) parcours = [V &#34;x&#34;; V &#34;y&#34;; V &#34;z&#34;; O Mul; O Moins]
</pre>
</div>

</div>

</div>
</div>

</div>
<div class="cell border-box-sizing code_cell rendered">
<div class="input">
<div class="prompt input_prompt">In&nbsp;[38]:</div>
<div class="inner_cell">
    <div class="input_area">
<div class=" highlight hl-OCaml"><pre><span></span><span class="n">parcours_postfix</span> <span class="n">exp3</span><span class="o">;;</span>
</pre></div>

    </div>
</div>
</div>

<div class="output_wrapper">
<div class="output">


<div class="output_area">

    <div class="prompt output_prompt">Out[38]:</div>




<div class="output_text output_subarea output_execute_result">
<pre>- : (string, operateur) parcours =
[V &#34;x&#34;; V &#34;y&#34;; V &#34;z&#34;; O Mul; O Moins; V &#34;u&#34;; V &#34;v&#34;; V &#34;w&#34;; O Mul; O Moins;
 O Div]
</pre>
</div>

</div>

</div>
</div>

</div>
<div class="cell border-box-sizing code_cell rendered">
<div class="input">
<div class="prompt input_prompt">In&nbsp;[39]:</div>
<div class="inner_cell">
    <div class="input_area">
<div class=" highlight hl-OCaml"><pre><span></span><span class="k">let</span> <span class="n">eval_int_2</span> <span class="o">(</span><span class="n">ctx</span> <span class="o">:</span> <span class="o">(</span><span class="kt">string</span><span class="o">,</span> <span class="kt">int</span><span class="o">)</span> <span class="n">contexte</span><span class="o">)</span> <span class="o">(</span><span class="n">expr</span> <span class="o">:</span> <span class="o">(</span><span class="kt">string</span><span class="o">,</span> <span class="n">operateur</span><span class="o">)</span> <span class="n">arbre_binaire</span><span class="o">)</span> <span class="o">:</span> <span class="kt">int</span> <span class="o">=</span>
    <span class="k">let</span> <span class="n">vus</span> <span class="o">=</span> <span class="n">parcours_postfix</span> <span class="n">expr</span> <span class="k">in</span>
    <span class="k">let</span> <span class="n">pile</span> <span class="o">=</span> <span class="nn">Stack</span><span class="p">.</span><span class="n">create</span> <span class="bp">()</span> <span class="k">in</span>
    <span class="k">let</span> <span class="n">aux</span> <span class="n">lex</span> <span class="o">=</span>
        <span class="k">match</span> <span class="n">lex</span> <span class="k">with</span>
        <span class="o">|</span> <span class="nc">V</span><span class="o">(</span><span class="n">s</span><span class="o">)</span> <span class="o">-&gt;</span> <span class="nn">Stack</span><span class="p">.</span><span class="n">push</span> <span class="o">(</span><span class="n">valeur</span> <span class="n">ctx</span> <span class="n">s</span><span class="o">)</span> <span class="n">pile</span><span class="o">;</span>
        <span class="o">|</span> <span class="nc">O</span><span class="o">(</span><span class="n">op</span><span class="o">)</span> <span class="o">-&gt;</span>
            <span class="k">let</span> <span class="n">v1</span><span class="o">,</span> <span class="n">v2</span> <span class="o">=</span> <span class="nn">Stack</span><span class="p">.</span><span class="n">pop</span> <span class="n">pile</span><span class="o">,</span> <span class="nn">Stack</span><span class="p">.</span><span class="n">pop</span> <span class="n">pile</span> <span class="k">in</span>
            <span class="nn">Stack</span><span class="p">.</span><span class="n">push</span> <span class="o">((</span><span class="n">intop_of_op</span> <span class="n">op</span><span class="o">)</span> <span class="n">v1</span> <span class="n">v2</span><span class="o">)</span> <span class="n">pile</span><span class="o">;</span>
    <span class="k">in</span>
    <span class="nn">List</span><span class="p">.</span><span class="n">iter</span> <span class="n">aux</span> <span class="n">vus</span><span class="o">;</span>
    <span class="nn">Stack</span><span class="p">.</span><span class="n">pop</span> <span class="n">pile</span>
<span class="o">;;</span>
</pre></div>

    </div>
</div>
</div>

<div class="output_wrapper">
<div class="output">


<div class="output_area">

    <div class="prompt output_prompt">Out[39]:</div>




<div class="output_text output_subarea output_execute_result">
<pre>val eval_int_2 :
  (string, int) contexte -&gt; (string, operateur) arbre_binaire -&gt; int = &lt;fun&gt;
</pre>
</div>

</div>

</div>
</div>

</div>
<div class="cell border-box-sizing text_cell rendered"><div class="prompt input_prompt">
</div><div class="inner_cell">
<div class="text_cell_render border-box-sizing rendered_html">
<p>Par exemple, $x - y*z$ avec $x = 1, y = 2, z = 3$ vaut $1 - 2 * 3 = -5$ :</p>

</div>
</div>
</div>
<div class="cell border-box-sizing code_cell rendered">
<div class="input">
<div class="prompt input_prompt">In&nbsp;[40]:</div>
<div class="inner_cell">
    <div class="input_area">
<div class=" highlight hl-OCaml"><pre><span></span><span class="k">let</span> <span class="o">_</span> <span class="o">=</span> <span class="n">exp1</span> <span class="o">;;</span>
<span class="k">let</span> <span class="o">_</span> <span class="o">=</span> <span class="n">eval_int_2</span> <span class="n">contexte1</span> <span class="n">exp1</span><span class="o">;;</span>
</pre></div>

    </div>
</div>
</div>

<div class="output_wrapper">
<div class="output">


<div class="output_area">

    <div class="prompt output_prompt">Out[40]:</div>




<div class="output_text output_subarea output_execute_result">
<pre>- : (string, operateur) arbre_binaire =
N (F &#34;x&#34;, Moins, N (F &#34;y&#34;, Mul, F &#34;z&#34;))
</pre>
</div>

</div>

<div class="output_area">

    <div class="prompt output_prompt">Out[40]:</div>




<div class="output_text output_subarea output_execute_result">
<pre>- : int = -5
</pre>
</div>

</div>

</div>
</div>

</div>
<div class="cell border-box-sizing code_cell rendered">
<div class="input">
<div class="prompt input_prompt">In&nbsp;[41]:</div>
<div class="inner_cell">
    <div class="input_area">
<div class=" highlight hl-OCaml"><pre><span></span><span class="k">let</span> <span class="o">_</span> <span class="o">=</span> <span class="n">exp2</span><span class="o">;;</span>
<span class="k">let</span> <span class="o">_</span> <span class="o">=</span> <span class="n">eval_int_2</span> <span class="n">contexte1</span> <span class="n">exp2</span><span class="o">;;</span>
</pre></div>

    </div>
</div>
</div>

<div class="output_wrapper">
<div class="output">


<div class="output_area">

    <div class="prompt output_prompt">Out[41]:</div>




<div class="output_text output_subarea output_execute_result">
<pre>- : (string, operateur) arbre_binaire =
N (F &#34;u&#34;, Moins, N (F &#34;v&#34;, Mul, F &#34;w&#34;))
</pre>
</div>

</div>

<div class="output_area">

    <div class="prompt output_prompt">Out[41]:</div>




<div class="output_text output_subarea output_execute_result">
<pre>- : int = -26
</pre>
</div>

</div>

</div>
</div>

</div>
<div class="cell border-box-sizing text_cell rendered"><div class="prompt input_prompt">
</div><div class="inner_cell">
<div class="text_cell_render border-box-sizing rendered_html">
<p>On peut maintenant faire la même fonction mais qui va en plus afficher l'état successif de la pile (avec des valeurs uniquement).</p>

</div>
</div>
</div>
<div class="cell border-box-sizing code_cell rendered">
<div class="input">
<div class="prompt input_prompt">In&nbsp;[42]:</div>
<div class="inner_cell">
    <div class="input_area">
<div class=" highlight hl-OCaml"><pre><span></span><span class="k">let</span> <span class="n">print</span> <span class="n">f</span> <span class="o">=</span>
    <span class="k">let</span> <span class="n">r</span> <span class="o">=</span> <span class="nn">Printf</span><span class="p">.</span><span class="n">printf</span> <span class="n">f</span> <span class="k">in</span>
    <span class="n">flush_all</span><span class="bp">()</span><span class="o">;</span>
    <span class="n">r</span>
<span class="o">;;</span>
</pre></div>

    </div>
</div>
</div>

<div class="output_wrapper">
<div class="output">


<div class="output_area">

    <div class="prompt output_prompt">Out[42]:</div>




<div class="output_text output_subarea output_execute_result">
<pre>val print : (&#39;a, out_channel, unit) format -&gt; &#39;a = &lt;fun&gt;
</pre>
</div>

</div>

</div>
</div>

</div>
<div class="cell border-box-sizing code_cell rendered">
<div class="input">
<div class="prompt input_prompt">In&nbsp;[43]:</div>
<div class="inner_cell">
    <div class="input_area">
<div class=" highlight hl-OCaml"><pre><span></span><span class="k">let</span> <span class="n">print_pile</span> <span class="n">pile</span> <span class="o">=</span>
    <span class="n">print</span> <span class="s2">&quot;</span><span class="se">\n</span><span class="s2">Pile : &quot;</span><span class="o">;</span>
    <span class="nn">Stack</span><span class="p">.</span><span class="n">iter</span> <span class="o">(</span><span class="n">print</span> <span class="s2">&quot;%i; &quot;</span><span class="o">)</span> <span class="n">pile</span><span class="o">;</span>
    <span class="n">print</span> <span class="s2">&quot;.&quot;</span>
<span class="o">;;</span>
</pre></div>

    </div>
</div>
</div>

<div class="output_wrapper">
<div class="output">


<div class="output_area">

    <div class="prompt output_prompt">Out[43]:</div>




<div class="output_text output_subarea output_execute_result">
<pre>val print_pile : int Stack.t -&gt; unit = &lt;fun&gt;
</pre>
</div>

</div>

</div>
</div>

</div>
<div class="cell border-box-sizing code_cell rendered">
<div class="input">
<div class="prompt input_prompt">In&nbsp;[44]:</div>
<div class="inner_cell">
    <div class="input_area">
<div class=" highlight hl-OCaml"><pre><span></span><span class="k">let</span> <span class="n">eval_int_3</span> <span class="o">(</span><span class="n">ctx</span> <span class="o">:</span> <span class="o">(</span><span class="kt">string</span><span class="o">,</span> <span class="kt">int</span><span class="o">)</span> <span class="n">contexte</span><span class="o">)</span> <span class="o">(</span><span class="n">expr</span> <span class="o">:</span> <span class="o">(</span><span class="kt">string</span><span class="o">,</span> <span class="n">operateur</span><span class="o">)</span> <span class="n">arbre_binaire</span><span class="o">)</span> <span class="o">:</span> <span class="kt">int</span> <span class="o">=</span>
    <span class="k">let</span> <span class="n">vus</span> <span class="o">=</span> <span class="n">parcours_postfix</span> <span class="n">expr</span> <span class="k">in</span>
    <span class="k">let</span> <span class="n">pile</span> <span class="o">=</span> <span class="nn">Stack</span><span class="p">.</span><span class="n">create</span> <span class="bp">()</span> <span class="k">in</span>
    <span class="k">let</span> <span class="n">aux</span> <span class="n">lex</span> <span class="o">=</span>
        <span class="n">print_pile</span> <span class="n">pile</span><span class="o">;</span>
        <span class="k">match</span> <span class="n">lex</span> <span class="k">with</span>
        <span class="o">|</span> <span class="nc">V</span><span class="o">(</span><span class="n">s</span><span class="o">)</span> <span class="o">-&gt;</span> <span class="nn">Stack</span><span class="p">.</span><span class="n">push</span> <span class="o">(</span><span class="n">valeur</span> <span class="n">ctx</span> <span class="n">s</span><span class="o">)</span> <span class="n">pile</span><span class="o">;</span>
        <span class="o">|</span> <span class="nc">O</span><span class="o">(</span><span class="n">op</span><span class="o">)</span> <span class="o">-&gt;</span>
            <span class="k">let</span> <span class="n">v1</span><span class="o">,</span> <span class="n">v2</span> <span class="o">=</span> <span class="nn">Stack</span><span class="p">.</span><span class="n">pop</span> <span class="n">pile</span><span class="o">,</span> <span class="nn">Stack</span><span class="p">.</span><span class="n">pop</span> <span class="n">pile</span> <span class="k">in</span>
            <span class="nn">Stack</span><span class="p">.</span><span class="n">push</span> <span class="o">((</span><span class="n">intop_of_op</span> <span class="n">op</span><span class="o">)</span> <span class="n">v1</span> <span class="n">v2</span><span class="o">)</span> <span class="n">pile</span><span class="o">;</span>
    <span class="k">in</span>
    <span class="nn">List</span><span class="p">.</span><span class="n">iter</span> <span class="n">aux</span> <span class="n">vus</span><span class="o">;</span>
    <span class="nn">Stack</span><span class="p">.</span><span class="n">pop</span> <span class="n">pile</span>
<span class="o">;;</span>
</pre></div>

    </div>
</div>
</div>

<div class="output_wrapper">
<div class="output">


<div class="output_area">

    <div class="prompt output_prompt">Out[44]:</div>




<div class="output_text output_subarea output_execute_result">
<pre>val eval_int_3 :
  (string, int) contexte -&gt; (string, operateur) arbre_binaire -&gt; int = &lt;fun&gt;
</pre>
</div>

</div>

</div>
</div>

</div>
<div class="cell border-box-sizing code_cell rendered">
<div class="input">
<div class="prompt input_prompt">In&nbsp;[45]:</div>
<div class="inner_cell">
    <div class="input_area">
<div class=" highlight hl-OCaml"><pre><span></span><span class="k">let</span> <span class="o">_</span> <span class="o">=</span> <span class="n">exp1</span> <span class="o">;;</span>
<span class="k">let</span> <span class="o">_</span> <span class="o">=</span> <span class="n">eval_int_3</span> <span class="n">contexte1</span> <span class="n">exp1</span><span class="o">;;</span>
</pre></div>

    </div>
</div>
</div>

<div class="output_wrapper">
<div class="output">


<div class="output_area">

    <div class="prompt output_prompt">Out[45]:</div>




<div class="output_text output_subarea output_execute_result">
<pre>- : (string, operateur) arbre_binaire =
N (F &#34;x&#34;, Moins, N (F &#34;y&#34;, Mul, F &#34;z&#34;))
</pre>
</div>

</div>

<div class="output_area">

    <div class="prompt"></div>


<div class="output_subarea output_stream output_stdout output_text">
<pre>Pile : .
Pile : 1; .
Pile : 2; 1; .
Pile : 3; 2; 1; .
</pre>
</div>
</div>

<div class="output_area">

    <div class="prompt output_prompt">Out[45]:</div>




<div class="output_text output_subarea output_execute_result">
<pre>- : int = -5
</pre>
</div>

</div>

</div>
</div>

</div>
<div class="cell border-box-sizing code_cell rendered">
<div class="input">
<div class="prompt input_prompt">In&nbsp;[46]:</div>
<div class="inner_cell">
    <div class="input_area">
<div class=" highlight hl-OCaml"><pre><span></span><span class="k">let</span> <span class="o">_</span> <span class="o">=</span> <span class="n">exp3</span><span class="o">;;</span>
<span class="k">let</span> <span class="o">_</span> <span class="o">=</span> <span class="n">eval_int_3</span> <span class="n">contexte1</span> <span class="n">exp3</span><span class="o">;;</span>
</pre></div>

    </div>
</div>
</div>

<div class="output_wrapper">
<div class="output">


<div class="output_area">

    <div class="prompt output_prompt">Out[46]:</div>




<div class="output_text output_subarea output_execute_result">
<pre>- : (string, operateur) arbre_binaire =
N (N (F &#34;x&#34;, Moins, N (F &#34;y&#34;, Mul, F &#34;z&#34;)), Div,
 N (F &#34;u&#34;, Moins, N (F &#34;v&#34;, Mul, F &#34;w&#34;)))
</pre>
</div>

</div>

<div class="output_area">

    <div class="prompt"></div>


<div class="output_subarea output_stream output_stdout output_text">
<pre>Pile : 6; 1; .
Pile : .
Pile : 1; .
Pile : 2; 1; .
Pile : 3; 2; 1; .
Pile : 6; 1; .
Pile : -5; .
Pile : 4; -5; .
Pile : 5; 4; -5; .
Pile : 6; 5; 4; -5; .
Pile : 30; 4; -5; .
</pre>
</div>
</div>

<div class="output_area">

    <div class="prompt output_prompt">Out[46]:</div>




<div class="output_text output_subarea output_execute_result">
<pre>- : int = 0
</pre>
</div>

</div>

</div>
</div>

</div>
<div class="cell border-box-sizing text_cell rendered"><div class="prompt input_prompt">
</div><div class="inner_cell">
<div class="text_cell_render border-box-sizing rendered_html">
<blockquote><p>Il y a un soucis dans l'ordre d'affichage des lignes, dû à Jupyter et pas à notre fonction.</p>
</blockquote>

</div>
</div>
</div>
<div class="cell border-box-sizing text_cell rendered"><div class="prompt input_prompt">
</div><div class="inner_cell">
<div class="text_cell_render border-box-sizing rendered_html">
<p>On vérifie qu'on utilise au plus 4 valeurs sur la pile, comme représenté dans la figure de l'énoncé :</p>
<p><img width="70%" alt="images/public2018-D1_ex3.png" src="images/public2018-D1_ex3.png"></p>

</div>
</div>
</div>
<div class="cell border-box-sizing text_cell rendered"><div class="prompt input_prompt">
</div><div class="inner_cell">
<div class="text_cell_render border-box-sizing rendered_html">
<h3 id="Affichage-dans-ce-langage-de-manipulation-de-registre">Affichage dans ce langage de manipulation de registre<a class="anchor-link" href="#Affichage-dans-ce-langage-de-manipulation-de-registre">&#182;</a></h3><p>On ne va pas trop formaliser ça, mais juste les afficher...</p>

</div>
</div>
</div>
<div class="cell border-box-sizing code_cell rendered">
<div class="input">
<div class="prompt input_prompt">In&nbsp;[47]:</div>
<div class="inner_cell">
    <div class="input_area">
<div class=" highlight hl-OCaml"><pre><span></span><span class="k">let</span> <span class="n">print_aff</span> <span class="o">(</span><span class="n">line</span> <span class="o">:</span> <span class="kt">int</span><span class="o">)</span> <span class="o">(</span><span class="n">i</span> <span class="o">:</span> <span class="kt">int</span><span class="o">)</span> <span class="o">(</span><span class="n">s</span> <span class="o">:</span> <span class="kt">string</span><span class="o">)</span> <span class="o">:</span> <span class="kt">unit</span> <span class="o">=</span>
    <span class="n">print</span> <span class="s2">&quot;</span><span class="se">\n</span><span class="s2">%02i: R[%d] := %s ;&quot;</span> <span class="n">line</span> <span class="n">i</span> <span class="n">s</span><span class="o">;</span>
<span class="o">;;</span>
</pre></div>

    </div>
</div>
</div>

<div class="output_wrapper">
<div class="output">


<div class="output_area">

    <div class="prompt output_prompt">Out[47]:</div>




<div class="output_text output_subarea output_execute_result">
<pre>val print_aff : int -&gt; int -&gt; string -&gt; unit = &lt;fun&gt;
</pre>
</div>

</div>

</div>
</div>

</div>
<div class="cell border-box-sizing code_cell rendered">
<div class="input">
<div class="prompt input_prompt">In&nbsp;[48]:</div>
<div class="inner_cell">
    <div class="input_area">
<div class=" highlight hl-OCaml"><pre><span></span><span class="k">let</span> <span class="n">string_of_op</span> <span class="o">(</span><span class="n">op</span> <span class="o">:</span> <span class="n">operateur</span><span class="o">)</span> <span class="o">:</span> <span class="kt">string</span> <span class="o">=</span>
    <span class="k">match</span> <span class="n">op</span> <span class="k">with</span>
    <span class="o">|</span> <span class="nc">Plus</span> <span class="o">-&gt;</span> <span class="s2">&quot;+&quot;</span>
    <span class="o">|</span> <span class="nc">Moins</span> <span class="o">|</span> <span class="nc">MoinsDroite</span> <span class="o">-&gt;</span> <span class="s2">&quot;-&quot;</span>
    <span class="o">|</span> <span class="nc">Mul</span> <span class="o">-&gt;</span> <span class="s2">&quot;*&quot;</span>
    <span class="o">|</span> <span class="nc">Div</span> <span class="o">|</span> <span class="nc">DivDroite</span> <span class="o">-&gt;</span> <span class="s2">&quot;/&quot;</span>
    <span class="o">|</span> <span class="nc">Modulo</span> <span class="o">-&gt;</span> <span class="s2">&quot;%&quot;</span>
    <span class="o">|</span> <span class="nc">Expo</span> <span class="o">-&gt;</span> <span class="s2">&quot;^&quot;</span>
<span class="o">;;</span>
</pre></div>

    </div>
</div>
</div>

<div class="output_wrapper">
<div class="output">


<div class="output_area">

    <div class="prompt output_prompt">Out[48]:</div>




<div class="output_text output_subarea output_execute_result">
<pre>val string_of_op : operateur -&gt; string = &lt;fun&gt;
</pre>
</div>

</div>

</div>
</div>

</div>
<div class="cell border-box-sizing code_cell rendered">
<div class="input">
<div class="prompt input_prompt">In&nbsp;[49]:</div>
<div class="inner_cell">
    <div class="input_area">
<div class=" highlight hl-OCaml"><pre><span></span><span class="k">let</span> <span class="n">print_op</span> <span class="o">(</span><span class="n">line</span> <span class="o">:</span> <span class="kt">int</span><span class="o">)</span> <span class="o">(</span><span class="n">i</span> <span class="o">:</span> <span class="kt">int</span><span class="o">)</span> <span class="o">(</span><span class="n">j</span> <span class="o">:</span> <span class="kt">int</span><span class="o">)</span> <span class="o">(</span><span class="n">k</span> <span class="o">:</span> <span class="kt">int</span><span class="o">)</span> <span class="o">(</span><span class="n">op</span> <span class="o">:</span> <span class="n">operateur</span><span class="o">)</span> <span class="o">:</span> <span class="kt">unit</span> <span class="o">=</span>
    <span class="k">match</span> <span class="n">op</span> <span class="k">with</span>
    <span class="o">|</span> <span class="nc">MoinsDroite</span> <span class="o">|</span> <span class="nc">DivDroite</span> <span class="o">-&gt;</span> <span class="c">(* on gère ici les opérateurs &quot;inverses&quot; *)</span>
        <span class="n">print</span> <span class="s2">&quot;</span><span class="se">\n</span><span class="s2">%02i: R[%d] := R[%d] %s R[%d] ;&quot;</span> <span class="n">line</span> <span class="n">i</span> <span class="n">k</span> <span class="o">(</span><span class="n">string_of_op</span> <span class="n">op</span><span class="o">)</span> <span class="n">j</span><span class="o">;</span>
    <span class="o">|</span> <span class="o">_</span> <span class="o">-&gt;</span>
        <span class="n">print</span> <span class="s2">&quot;</span><span class="se">\n</span><span class="s2">%02i: R[%d] := R[%d] %s R[%d] ;&quot;</span> <span class="n">line</span> <span class="n">i</span> <span class="n">j</span> <span class="o">(</span><span class="n">string_of_op</span> <span class="n">op</span><span class="o">)</span> <span class="n">k</span><span class="o">;</span>
<span class="o">;;</span>
</pre></div>

    </div>
</div>
</div>

<div class="output_wrapper">
<div class="output">


<div class="output_area">

    <div class="prompt output_prompt">Out[49]:</div>




<div class="output_text output_subarea output_execute_result">
<pre>val print_op : int -&gt; int -&gt; int -&gt; int -&gt; operateur -&gt; unit = &lt;fun&gt;
</pre>
</div>

</div>

</div>
</div>

</div>
<div class="cell border-box-sizing code_cell rendered">
<div class="input">
<div class="prompt input_prompt">In&nbsp;[50]:</div>
<div class="inner_cell">
    <div class="input_area">
<div class=" highlight hl-OCaml"><pre><span></span><span class="k">let</span> <span class="n">eval_int_4</span> <span class="o">(</span><span class="n">ctx</span> <span class="o">:</span> <span class="o">(</span><span class="kt">string</span><span class="o">,</span> <span class="kt">int</span><span class="o">)</span> <span class="n">contexte</span><span class="o">)</span> <span class="o">(</span><span class="n">expr</span> <span class="o">:</span> <span class="o">(</span><span class="kt">string</span><span class="o">,</span> <span class="n">operateur</span><span class="o">)</span> <span class="n">arbre_binaire</span><span class="o">)</span> <span class="o">:</span> <span class="kt">int</span> <span class="o">=</span>
    <span class="k">let</span> <span class="n">vus</span> <span class="o">=</span> <span class="n">parcours_postfix</span> <span class="n">expr</span> <span class="k">in</span>
    <span class="k">let</span> <span class="n">pile</span> <span class="o">=</span> <span class="nn">Stack</span><span class="p">.</span><span class="n">create</span> <span class="bp">()</span> <span class="k">in</span>
    <span class="k">let</span> <span class="n">ligne</span> <span class="o">=</span> <span class="n">ref</span> <span class="mi">0</span> <span class="k">in</span>
    <span class="k">let</span> <span class="n">aux</span> <span class="n">lex</span> <span class="o">=</span>
        <span class="n">incr</span> <span class="n">ligne</span><span class="o">;</span>
        <span class="k">match</span> <span class="n">lex</span> <span class="k">with</span>
        <span class="o">|</span> <span class="nc">V</span><span class="o">(</span><span class="n">s</span><span class="o">)</span> <span class="o">-&gt;</span>
            <span class="nn">Stack</span><span class="p">.</span><span class="n">push</span> <span class="o">(</span><span class="n">valeur</span> <span class="n">ctx</span> <span class="n">s</span><span class="o">)</span> <span class="n">pile</span><span class="o">;</span>
            <span class="n">print_aff</span> <span class="o">!</span><span class="n">ligne</span> <span class="o">((</span><span class="nn">Stack</span><span class="p">.</span><span class="n">length</span> <span class="n">pile</span><span class="o">)</span> <span class="o">-</span> <span class="mi">1</span><span class="o">)</span> <span class="n">s</span><span class="o">;</span>
        <span class="o">|</span> <span class="nc">O</span><span class="o">(</span><span class="n">op</span><span class="o">)</span> <span class="o">-&gt;</span>
            <span class="k">let</span> <span class="n">v1</span><span class="o">,</span> <span class="n">v2</span> <span class="o">=</span> <span class="nn">Stack</span><span class="p">.</span><span class="n">pop</span> <span class="n">pile</span><span class="o">,</span> <span class="nn">Stack</span><span class="p">.</span><span class="n">pop</span> <span class="n">pile</span> <span class="k">in</span>
            <span class="nn">Stack</span><span class="p">.</span><span class="n">push</span> <span class="o">((</span><span class="n">intop_of_op</span> <span class="n">op</span><span class="o">)</span> <span class="n">v1</span> <span class="n">v2</span><span class="o">)</span> <span class="n">pile</span><span class="o">;</span>
            <span class="n">print_op</span> <span class="o">!</span><span class="n">ligne</span> <span class="o">((</span><span class="nn">Stack</span><span class="p">.</span><span class="n">length</span> <span class="n">pile</span><span class="o">)</span> <span class="o">-</span> <span class="mi">1</span><span class="o">)</span> <span class="o">((</span><span class="nn">Stack</span><span class="p">.</span><span class="n">length</span> <span class="n">pile</span><span class="o">)</span> <span class="o">-</span> <span class="mi">1</span><span class="o">)</span> <span class="o">(</span><span class="nn">Stack</span><span class="p">.</span><span class="n">length</span> <span class="n">pile</span><span class="o">)</span> <span class="n">op</span><span class="o">;</span>
    <span class="k">in</span>
    <span class="nn">List</span><span class="p">.</span><span class="n">iter</span> <span class="n">aux</span> <span class="n">vus</span><span class="o">;</span>
    <span class="nn">Stack</span><span class="p">.</span><span class="n">pop</span> <span class="n">pile</span>
<span class="o">;;</span>
</pre></div>

    </div>
</div>
</div>

<div class="output_wrapper">
<div class="output">


<div class="output_area">

    <div class="prompt output_prompt">Out[50]:</div>




<div class="output_text output_subarea output_execute_result">
<pre>val eval_int_4 :
  (string, int) contexte -&gt; (string, operateur) arbre_binaire -&gt; int = &lt;fun&gt;
</pre>
</div>

</div>

</div>
</div>

</div>
<div class="cell border-box-sizing text_cell rendered"><div class="prompt input_prompt">
</div><div class="inner_cell">
<div class="text_cell_render border-box-sizing rendered_html">
<p>Essayons ça :</p>

</div>
</div>
</div>
<div class="cell border-box-sizing code_cell rendered">
<div class="input">
<div class="prompt input_prompt">In&nbsp;[62]:</div>
<div class="inner_cell">
    <div class="input_area">
<div class=" highlight hl-OCaml"><pre><span></span><span class="k">let</span> <span class="o">_</span> <span class="o">=</span> <span class="n">exp1</span> <span class="o">;;</span>
<span class="k">let</span> <span class="o">_</span> <span class="o">=</span> <span class="n">eval_int_4</span> <span class="n">contexte1</span> <span class="n">exp1</span><span class="o">;;</span>
</pre></div>

    </div>
</div>
</div>

<div class="output_wrapper">
<div class="output">


<div class="output_area">

    <div class="prompt output_prompt">Out[62]:</div>




<div class="output_text output_subarea output_execute_result">
<pre>- : (string, operateur) arbre_binaire =
N (F &#34;x&#34;, Moins, N (F &#34;y&#34;, Mul, F &#34;z&#34;))
</pre>
</div>

</div>

<div class="output_area">

    <div class="prompt"></div>


<div class="output_subarea output_stream output_stdout output_text">
<pre>04: R[1] := R[1] * R[2] ;
05: R[0] := R[0] - R[1] ;
01: R[0] := x ;
02: R[1] := y ;
03: R[2] := z ;
</pre>
</div>
</div>

<div class="output_area">

    <div class="prompt output_prompt">Out[62]:</div>




<div class="output_text output_subarea output_execute_result">
<pre>- : int = -5
</pre>
</div>

</div>

</div>
</div>

</div>
<div class="cell border-box-sizing code_cell rendered">
<div class="input">
<div class="prompt input_prompt">In&nbsp;[66]:</div>
<div class="inner_cell">
    <div class="input_area">
<div class=" highlight hl-OCaml"><pre><span></span><span class="k">let</span> <span class="o">_</span> <span class="o">=</span> <span class="n">exp3</span><span class="o">;;</span>
<span class="k">let</span> <span class="o">_</span> <span class="o">=</span> <span class="n">eval_int_4</span> <span class="n">contexte1</span> <span class="n">exp3</span><span class="o">;;</span>
</pre></div>

    </div>
</div>
</div>

<div class="output_wrapper">
<div class="output">


<div class="output_area">

    <div class="prompt output_prompt">Out[66]:</div>




<div class="output_text output_subarea output_execute_result">
<pre>- : (string, operateur) arbre_binaire =
N (N (F &#34;x&#34;, Moins, N (F &#34;y&#34;, Mul, F &#34;z&#34;)), Div,
 N (F &#34;u&#34;, Moins, N (F &#34;v&#34;, Mul, F &#34;w&#34;)))
</pre>
</div>

</div>

<div class="output_area">

    <div class="prompt"></div>


<div class="output_subarea output_stream output_stdout output_text">
<pre>10: R[1] := R[1] - R[2] ;
11: R[0] := R[0] / R[1] ;
01: R[0] := x ;
02: R[1] := y ;
03: R[2] := z ;
04: R[1] := R[1] * R[2] ;
05: R[0] := R[0] - R[1] ;
06: R[1] := u ;
07: R[2] := v ;
08: R[3] := w ;
09: R[2] := R[2] * R[3] ;
</pre>
</div>
</div>

<div class="output_area">

    <div class="prompt output_prompt">Out[66]:</div>




<div class="output_text output_subarea output_execute_result">
<pre>- : int = 0
</pre>
</div>

</div>

</div>
</div>

</div>
<div class="cell border-box-sizing text_cell rendered"><div class="prompt input_prompt">
</div><div class="inner_cell">
<div class="text_cell_render border-box-sizing rendered_html">
<h3 id="M&#233;thode-d'Ershov">M&#233;thode d'Ershov<a class="anchor-link" href="#M&#233;thode-d'Ershov">&#182;</a></h3><p>Enfin, on va générer, en plus de l'évaluation, un affichage comme celui qu'on voulait, qui montre les affectations dans les registres, et permettra de visualiser que la méthode d'Ershov utilise un registre de moins sur le terme exemple qui calcule $(x - y*z)/(u - v*w)$.</p>

</div>
</div>
</div>
<div class="cell border-box-sizing text_cell rendered"><div class="prompt input_prompt">
</div><div class="inner_cell">
<div class="text_cell_render border-box-sizing rendered_html">
<p>On rappelle qu'on a obtenu un arbre binaire décoré, représenté comme tel :</p>

</div>
</div>
</div>
<div class="cell border-box-sizing code_cell rendered">
<div class="input">
<div class="prompt input_prompt">In&nbsp;[53]:</div>
<div class="inner_cell">
    <div class="input_area">
<div class=" highlight hl-OCaml"><pre><span></span><span class="n">decore</span> <span class="n">exp1</span><span class="o">;;</span>
</pre></div>

    </div>
</div>
</div>

<div class="output_wrapper">
<div class="output">


<div class="output_area">

    <div class="prompt output_prompt">Out[53]:</div>




<div class="output_text output_subarea output_execute_result">
<pre>- : (string, operateur, decoration) arbre_binaire_decore =
N2
 ({rho = 1; premier_gauche = false}, F2 &#34;x&#34;, Moins,
  N2 ({rho = 1; premier_gauche = true}, F2 &#34;y&#34;, Mul, F2 &#34;z&#34;))
</pre>
</div>

</div>

</div>
</div>

</div>
<div class="cell border-box-sizing text_cell rendered"><div class="prompt input_prompt">
</div><div class="inner_cell">
<div class="text_cell_render border-box-sizing rendered_html">
<p>On modifie notre parcours postfix pour prendre en compte la décoration et savoir si on calcul d'abord le sous-arbre gauche ou droit.</p>

</div>
</div>
</div>
<div class="cell border-box-sizing code_cell rendered">
<div class="input">
<div class="prompt input_prompt">In&nbsp;[54]:</div>
<div class="inner_cell">
    <div class="input_area">
<div class=" highlight hl-OCaml"><pre><span></span><span class="k">let</span> <span class="n">parcours_postfix_decore</span> <span class="o">(</span><span class="n">expr</span> <span class="o">:</span> <span class="o">(</span><span class="k">&#39;</span><span class="n">a</span><span class="o">,</span> <span class="k">&#39;</span><span class="n">b</span><span class="o">,</span> <span class="n">decoration</span><span class="o">)</span> <span class="n">arbre_binaire_decore</span><span class="o">)</span> <span class="o">:</span> <span class="o">((</span><span class="k">&#39;</span><span class="n">a</span><span class="o">,</span> <span class="k">&#39;</span><span class="n">b</span><span class="o">)</span> <span class="n">parcours</span><span class="o">)</span> <span class="o">=</span>
    <span class="k">let</span> <span class="k">rec</span> <span class="n">parcours</span> <span class="n">vus</span> <span class="n">expr</span> <span class="o">=</span>
        <span class="k">match</span> <span class="n">expr</span> <span class="k">with</span>
        <span class="o">|</span> <span class="nc">F2</span><span class="o">(</span><span class="n">s</span><span class="o">)</span> <span class="o">-&gt;</span> <span class="nc">V</span><span class="o">(</span><span class="n">s</span><span class="o">)</span> <span class="o">::</span> <span class="n">vus</span>
        <span class="o">|</span> <span class="nc">N2</span><span class="o">(</span><span class="n">dec</span><span class="o">,</span> <span class="n">t1</span><span class="o">,</span> <span class="nc">Moins</span><span class="o">,</span> <span class="n">t2</span><span class="o">)</span> <span class="k">when</span> <span class="n">dec</span><span class="o">.</span><span class="n">premier_gauche</span> <span class="o">=</span> <span class="bp">false</span> <span class="o">-&gt;</span>
            <span class="nc">O</span><span class="o">(</span><span class="nc">MoinsDroite</span><span class="o">)</span> <span class="o">::</span> <span class="o">(</span><span class="n">parcours</span> <span class="o">(</span><span class="n">parcours</span> <span class="n">vus</span> <span class="n">t2</span><span class="o">)</span> <span class="n">t1</span><span class="o">)</span>
        <span class="o">|</span> <span class="nc">N2</span><span class="o">(</span><span class="n">dec</span><span class="o">,</span> <span class="n">t1</span><span class="o">,</span> <span class="nc">MoinsDroite</span><span class="o">,</span> <span class="n">t2</span><span class="o">)</span> <span class="k">when</span> <span class="n">dec</span><span class="o">.</span><span class="n">premier_gauche</span> <span class="o">=</span> <span class="bp">false</span> <span class="o">-&gt;</span>
            <span class="nc">O</span><span class="o">(</span><span class="nc">Moins</span><span class="o">)</span> <span class="o">::</span> <span class="o">(</span><span class="n">parcours</span> <span class="o">(</span><span class="n">parcours</span> <span class="n">vus</span> <span class="n">t2</span><span class="o">)</span> <span class="n">t1</span><span class="o">)</span>
        <span class="o">|</span> <span class="nc">N2</span><span class="o">(</span><span class="n">dec</span><span class="o">,</span> <span class="n">t1</span><span class="o">,</span> <span class="nc">Div</span><span class="o">,</span> <span class="n">t2</span><span class="o">)</span> <span class="k">when</span> <span class="n">dec</span><span class="o">.</span><span class="n">premier_gauche</span> <span class="o">=</span> <span class="bp">false</span> <span class="o">-&gt;</span>
            <span class="nc">O</span><span class="o">(</span><span class="nc">DivDroite</span><span class="o">)</span> <span class="o">::</span> <span class="o">(</span><span class="n">parcours</span> <span class="o">(</span><span class="n">parcours</span> <span class="n">vus</span> <span class="n">t2</span><span class="o">)</span> <span class="n">t1</span><span class="o">)</span>
        <span class="o">|</span> <span class="nc">N2</span><span class="o">(</span><span class="n">dec</span><span class="o">,</span> <span class="n">t1</span><span class="o">,</span> <span class="nc">DivDroite</span><span class="o">,</span> <span class="n">t2</span><span class="o">)</span> <span class="k">when</span> <span class="n">dec</span><span class="o">.</span><span class="n">premier_gauche</span> <span class="o">=</span> <span class="bp">false</span> <span class="o">-&gt;</span>
            <span class="nc">O</span><span class="o">(</span><span class="nc">Div</span><span class="o">)</span> <span class="o">::</span> <span class="o">(</span><span class="n">parcours</span> <span class="o">(</span><span class="n">parcours</span> <span class="n">vus</span> <span class="n">t2</span><span class="o">)</span> <span class="n">t1</span><span class="o">)</span>
        <span class="o">|</span> <span class="nc">N2</span><span class="o">(</span><span class="n">dec</span><span class="o">,</span> <span class="n">t1</span><span class="o">,</span> <span class="n">op</span><span class="o">,</span> <span class="n">t2</span><span class="o">)</span> <span class="k">when</span> <span class="n">dec</span><span class="o">.</span><span class="n">premier_gauche</span> <span class="o">=</span> <span class="bp">false</span> <span class="o">-&gt;</span>
            <span class="nc">O</span><span class="o">(</span><span class="n">op</span><span class="o">)</span> <span class="o">::</span> <span class="o">(</span><span class="n">parcours</span> <span class="o">(</span><span class="n">parcours</span> <span class="n">vus</span> <span class="n">t2</span><span class="o">)</span> <span class="n">t1</span><span class="o">)</span>
        <span class="o">|</span> <span class="nc">N2</span><span class="o">(_,</span> <span class="n">t1</span><span class="o">,</span> <span class="n">op</span><span class="o">,</span> <span class="n">t2</span><span class="o">)</span> <span class="o">-&gt;</span>
            <span class="nc">O</span><span class="o">(</span><span class="n">op</span><span class="o">)</span> <span class="o">::</span> <span class="o">(</span><span class="n">parcours</span> <span class="o">(</span><span class="n">parcours</span> <span class="n">vus</span> <span class="n">t1</span><span class="o">)</span> <span class="n">t2</span><span class="o">)</span>
    <span class="k">in</span>
    <span class="nn">List</span><span class="p">.</span><span class="n">rev</span> <span class="o">(</span><span class="n">parcours</span> <span class="bp">[]</span> <span class="n">expr</span><span class="o">)</span>
<span class="o">;;</span>
</pre></div>

    </div>
</div>
</div>

<div class="output_wrapper">
<div class="output">


<div class="output_area">

    <div class="prompt output_prompt">Out[54]:</div>




<div class="output_text output_subarea output_execute_result">
<pre>val parcours_postfix_decore :
  (&#39;a, operateur, decoration) arbre_binaire_decore -&gt;
  (&#39;a, operateur) parcours = &lt;fun&gt;
</pre>
</div>

</div>

</div>
</div>

</div>
<div class="cell border-box-sizing code_cell rendered">
<div class="input">
<div class="prompt input_prompt">In&nbsp;[55]:</div>
<div class="inner_cell">
    <div class="input_area">
<div class=" highlight hl-OCaml"><pre><span></span><span class="k">let</span> <span class="n">eval_int_ershov</span> <span class="o">(</span><span class="n">ctx</span> <span class="o">:</span> <span class="o">(</span><span class="kt">string</span><span class="o">,</span> <span class="kt">int</span><span class="o">)</span> <span class="n">contexte</span><span class="o">)</span> <span class="o">(</span><span class="n">expr</span> <span class="o">:</span> <span class="o">(</span><span class="kt">string</span><span class="o">,</span> <span class="n">operateur</span><span class="o">)</span> <span class="n">arbre_binaire</span><span class="o">)</span> <span class="o">:</span> <span class="kt">int</span> <span class="o">=</span>
    <span class="k">let</span> <span class="n">vus</span> <span class="o">=</span> <span class="n">parcours_postfix_decore</span> <span class="o">(</span><span class="n">decore</span> <span class="n">expr</span><span class="o">)</span> <span class="k">in</span>
    <span class="k">let</span> <span class="n">pile</span> <span class="o">=</span> <span class="nn">Stack</span><span class="p">.</span><span class="n">create</span> <span class="bp">()</span> <span class="k">in</span>
    <span class="k">let</span> <span class="n">ligne</span> <span class="o">=</span> <span class="n">ref</span> <span class="mi">0</span> <span class="k">in</span>
    <span class="k">let</span> <span class="n">aux</span> <span class="n">lex</span> <span class="o">=</span>
        <span class="n">incr</span> <span class="n">ligne</span><span class="o">;</span>
        <span class="k">match</span> <span class="n">lex</span> <span class="k">with</span>
        <span class="o">|</span> <span class="nc">V</span><span class="o">(</span><span class="n">s</span><span class="o">)</span> <span class="o">-&gt;</span>
            <span class="nn">Stack</span><span class="p">.</span><span class="n">push</span> <span class="o">(</span><span class="n">valeur</span> <span class="n">ctx</span> <span class="n">s</span><span class="o">)</span> <span class="n">pile</span><span class="o">;</span>
            <span class="n">print_aff</span> <span class="o">!</span><span class="n">ligne</span> <span class="o">((</span><span class="nn">Stack</span><span class="p">.</span><span class="n">length</span> <span class="n">pile</span><span class="o">)</span> <span class="o">-</span> <span class="mi">1</span><span class="o">)</span> <span class="n">s</span><span class="o">;</span>
        <span class="o">|</span> <span class="nc">O</span><span class="o">(</span><span class="n">op</span><span class="o">)</span> <span class="o">-&gt;</span>
            <span class="k">let</span> <span class="n">v1</span><span class="o">,</span> <span class="n">v2</span> <span class="o">=</span> <span class="nn">Stack</span><span class="p">.</span><span class="n">pop</span> <span class="n">pile</span><span class="o">,</span> <span class="nn">Stack</span><span class="p">.</span><span class="n">pop</span> <span class="n">pile</span> <span class="k">in</span>
            <span class="nn">Stack</span><span class="p">.</span><span class="n">push</span> <span class="o">((</span><span class="n">intop_of_op</span> <span class="n">op</span><span class="o">)</span> <span class="n">v1</span> <span class="n">v2</span><span class="o">)</span> <span class="n">pile</span><span class="o">;</span>
            <span class="n">print_op</span> <span class="o">!</span><span class="n">ligne</span> <span class="o">((</span><span class="nn">Stack</span><span class="p">.</span><span class="n">length</span> <span class="n">pile</span><span class="o">)</span> <span class="o">-</span> <span class="mi">1</span><span class="o">)</span> <span class="o">((</span><span class="nn">Stack</span><span class="p">.</span><span class="n">length</span> <span class="n">pile</span><span class="o">)</span> <span class="o">-</span> <span class="mi">1</span><span class="o">)</span> <span class="o">(</span><span class="nn">Stack</span><span class="p">.</span><span class="n">length</span> <span class="n">pile</span><span class="o">)</span> <span class="n">op</span><span class="o">;</span>
    <span class="k">in</span>
    <span class="nn">List</span><span class="p">.</span><span class="n">iter</span> <span class="n">aux</span> <span class="n">vus</span><span class="o">;</span>
    <span class="nn">Stack</span><span class="p">.</span><span class="n">pop</span> <span class="n">pile</span>
<span class="o">;;</span>
</pre></div>

    </div>
</div>
</div>

<div class="output_wrapper">
<div class="output">


<div class="output_area">

    <div class="prompt output_prompt">Out[55]:</div>




<div class="output_text output_subarea output_execute_result">
<pre>val eval_int_ershov :
  (string, int) contexte -&gt; (string, operateur) arbre_binaire -&gt; int = &lt;fun&gt;
</pre>
</div>

</div>

</div>
</div>

</div>
<div class="cell border-box-sizing text_cell rendered"><div class="prompt input_prompt">
</div><div class="inner_cell">
<div class="text_cell_render border-box-sizing rendered_html">
<p>Essayons ça :</p>

</div>
</div>
</div>
<div class="cell border-box-sizing code_cell rendered">
<div class="input">
<div class="prompt input_prompt">In&nbsp;[56]:</div>
<div class="inner_cell">
    <div class="input_area">
<div class=" highlight hl-OCaml"><pre><span></span><span class="k">let</span> <span class="o">_</span> <span class="o">=</span> <span class="n">exp1</span> <span class="o">;;</span>
<span class="k">let</span> <span class="o">_</span> <span class="o">=</span> <span class="n">eval_int_ershov</span> <span class="n">contexte1</span> <span class="n">exp1</span><span class="o">;;</span>
</pre></div>

    </div>
</div>
</div>

<div class="output_wrapper">
<div class="output">


<div class="output_area">

    <div class="prompt output_prompt">Out[56]:</div>




<div class="output_text output_subarea output_execute_result">
<pre>- : (string, operateur) arbre_binaire =
N (F &#34;x&#34;, Moins, N (F &#34;y&#34;, Mul, F &#34;z&#34;))
</pre>
</div>

</div>

<div class="output_area">

    <div class="prompt"></div>


<div class="output_subarea output_stream output_stdout output_text">
<pre>10: R[1] := R[1] - R[2] ;
11: R[0] := R[0] / R[1] ;
01: R[0] := y ;
02: R[1] := z ;
03: R[0] := R[0] * R[1] ;
</pre>
</div>
</div>

<div class="output_area">

    <div class="prompt output_prompt">Out[56]:</div>




<div class="output_text output_subarea output_execute_result">
<pre>- : int = -5
</pre>
</div>

</div>

</div>
</div>

</div>
<div class="cell border-box-sizing code_cell rendered">
<div class="input">
<div class="prompt input_prompt">In&nbsp;[68]:</div>
<div class="inner_cell">
    <div class="input_area">
<div class=" highlight hl-OCaml"><pre><span></span><span class="k">let</span> <span class="o">_</span> <span class="o">=</span> <span class="n">exp3</span><span class="o">;;</span>
<span class="k">let</span> <span class="o">_</span> <span class="o">=</span> <span class="n">eval_int_ershov</span> <span class="n">contexte1</span> <span class="n">exp3</span><span class="o">;;</span>
</pre></div>

    </div>
</div>
</div>

<div class="output_wrapper">
<div class="output">


<div class="output_area">

    <div class="prompt output_prompt">Out[68]:</div>




<div class="output_text output_subarea output_execute_result">
<pre>- : (string, operateur) arbre_binaire =
N (N (F &#34;x&#34;, Moins, N (F &#34;y&#34;, Mul, F &#34;z&#34;)), Div,
 N (F &#34;u&#34;, Moins, N (F &#34;v&#34;, Mul, F &#34;w&#34;)))
</pre>
</div>

</div>

<div class="output_area">

    <div class="prompt"></div>


<div class="output_subarea output_stream output_stdout output_text">
<pre>10: R[1] := R[2] - R[1] ;
11: R[0] := R[0] / R[1] ;
01: R[0] := y ;
02: R[1] := z ;
03: R[0] := R[0] * R[1] ;
04: R[1] := x ;
05: R[0] := R[1] - R[0] ;
06: R[1] := v ;
07: R[2] := w ;
08: R[1] := R[1] * R[2] ;
09: R[2] := u ;
</pre>
</div>
</div>

<div class="output_area">

    <div class="prompt output_prompt">Out[68]:</div>




<div class="output_text output_subarea output_execute_result">
<pre>- : int = 0
</pre>
</div>

</div>

</div>
</div>

</div>
<div class="cell border-box-sizing text_cell rendered"><div class="prompt input_prompt">
</div><div class="inner_cell">
<div class="text_cell_render border-box-sizing rendered_html">
<p>Et voilà, ce n'était pas trop dur !</p>

</div>
</div>
</div>
<div class="cell border-box-sizing text_cell rendered"><div class="prompt input_prompt">
</div><div class="inner_cell">
<div class="text_cell_render border-box-sizing rendered_html">
<hr>
<h2 id="Conclusion">Conclusion<a class="anchor-link" href="#Conclusion">&#182;</a></h2><p>Voilà pour la question obligatoire de programmation, et un petit bonus.</p>
<h3 id="Qualit&#233;s">Qualit&#233;s<a class="anchor-link" href="#Qualit&#233;s">&#182;</a></h3><ul>
<li>On a décomposé le problème en sous-fonctions (d'abord le calcul de $\rho$ puis la méthode d'Ershov),</li>
<li>On a fait des exemples et <em>on les garde</em> dans ce qu'on présente au jury,</li>
<li>On a testé la fonction exigée sur de petits exemples et sur un exemple de taille réelle (venant du texte).</li>
</ul>
<h3 id="Bonus">Bonus<a class="anchor-link" href="#Bonus">&#182;</a></h3><p>On a fait pas mal de bonus, en interprétant les termes, d'abord via l'arbre et des appels récursifs, ensuite par une lecture postfix et une pile, qui nous a permis de vérifier l'évolution de la pile et de sa hauteur (avec le même exemple que dans le texte), et ensuite avec une espèce de "compilation" en visualisant les affectations dans ces registres. La "compilation" n'est pas réelle, on a uniquement affiché des choses, mais elle permet de vérifier que la méthode de Ershov aide effectivement à réduire le nombre de registre requis.</p>
<h3 id="D&#233;fauts">D&#233;fauts<a class="anchor-link" href="#D&#233;fauts">&#182;</a></h3><ul>
<li>?</li>
</ul>
<blockquote><p>Bien-sûr, ce petit notebook ne se prétend pas être une solution optimale, ni exhaustive.</p>
<p>Vous auriez pu choisir de modéliser le problème avec une autre approche, n'hésitez pas <a href="http://perso.crans.org/besson/callme.html">à me contacter svp</a>.</p>
</blockquote>

</div>
</div>
</div>
<div class="cell border-box-sizing text_cell rendered"><div class="prompt input_prompt">
</div><div class="inner_cell">
<div class="text_cell_render border-box-sizing rendered_html">
<blockquote><p>C'est tout pour aujourd'hui les amis, allez voir <a href="https://github.com/Naereen/notebooks/tree/master/agreg">ici pour d'autres corrections</a>, et que la force soit avec vous !</p>
</blockquote>

</div>
</div>
</div>
 


    </div>
  </div>

  </div>


  
    <footer class="footer hidden-print">
      <div class="container">
        <div class="col-md-4">
          <p>
            This website does not host notebooks, it only renders notebooks
            available on other websites.
          </p>
        </div>

        <div class="col-md-4">
          <p>
            Delivered by <a href="https://www.fastly.com/">Fastly</a>,
            Rendered by <a href="https://developer.rackspace.com/?nbviewer=awesome">Rackspace</a>
          </p>
          <p>
            nbviewer GitHub <a href="https://github.com/jupyter/nbviewer">repository</a>.
          </p>
        </div>

        <div class="col-md-4">
          
  
            
              <p>
                nbviewer version:
                <a href="https://github.com/jupyter/nbviewer/commit/07b0e305b3254e2280b29f20ceb96c058db2f775">
                  07b0e30
                </a>
              </p>
            
          
  
  <p>
    nbconvert version: <a href="https://github.com/jupyter/nbconvert/releases/tag/5.6.0">
      5.6.0
    </a>
  </p>
  

          
  
  
  <p>
    Rendered
    <span class='date' data-date='Mon, 27 Jan 2020 13:30:59 UTC' title='Mon, 27 Jan 2020 13:30:59 UTC'>(Mon, 27 Jan 2020 13:30:59 UTC)</span>
  </p>
  

        </div>
      </div>
    </footer>
  

  <script src="/static/components/bootstrap/js/bootstrap.min.js?v=5869c96cc8f19086aee625d670d741f9"></script>
  <script src="/static/components/headroom.js/dist/headroom.min.js?v=b0a311ea668f8e768ea375f4a7abb81c"></script>
  <script src="/static/components/headroom.js/dist/jQuery.headroom.min.js?v=f3a1bae118315d0c234afc74dc6aab71"></script>

  
  
  <script>
    $(function(){ $("#menubar").headroom({
      tolerance: 5,
      offset: 205,
      classes: {
        initial: "animated",
        pinned: "slideInDown",
        unpinned: "slideOutUp"
      }
    })});
  </script>


  
  <script>
    (function(i,s,o,g,r,a,m){i['GoogleAnalyticsObject']=r;i[r]=i[r]||function(){
      (i[r].q=i[r].q||[]).push(arguments)},i[r].l=1*new Date();a=s.createElement(o),
      m=s.getElementsByTagName(o)[0];a.async=1;a.src=g;m.parentNode.insertBefore(a,m)
    })(window,document,'script','https://www.google-analytics.com/analytics.js','ga');
    ga('create', 'UA-52617120-5', 'auto',
       {'storage': 'none'});
    ga('set', 'anonymizeIp', true);
    ga('send', 'pageview');
  </script>
  
  <script>
    require({
        paths: {
          moment: "/static/components/moment/min/moment.min.js?v=89f87298ad94aa1e6b92f42eb66da043"
        }
      }, ["moment"], function(moment){
      var date = $("footer .date"),
        m = moment(new Date(date.data('date'))),
        update = function(){ date.text(m.fromNow()); };
      setInterval(update, 61*1000);
      update();
      var w = $(window).scroll(function(event){
        $("body").toggleClass("scrolled", w.scrollTop() > 0);
      });
    });
  </script>

  <!--NEW RELIC Stop Perf Measurement-->
  
  <!--NEW RELIC End-->
</body>
</html>