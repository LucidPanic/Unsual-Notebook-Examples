








<!DOCTYPE html>
<html lang="en">

<head>
  <meta charset="utf-8">
  <title>Jupyter Notebook Viewer</title>
  <meta name="viewport" content="width=device-width, initial-scale=1.0">
  <meta name="description" content="">
  <meta name="author" content="">
  
  <meta name="robots" content="noindex,nofollow">
  

  <!--NEW RELIC Start Perf Measurement-->
  
  <!--NREND-->

  <!-- Le styles -->
  <link href="/static/build/styles.css?v=55ba354138253381d2c0ada9821cd4da" rel="stylesheet">

  <!-- Le HTML5 shim, for IE6-8 support of HTML5 elements -->
  <!--[if lt IE 9]>
    <script src="http://html5shim.googlecode.com/svn/trunk/html5.js"></script>
  <![endif]-->

  <!-- Le fav and touch icons -->
  <link rel="shortcut icon" href="/static/ico/ipynb_icon_16x16.png">
  <link rel="apple-touch-icon-precomposed" sizes="144x144"
        href="/static/ico/apple-touch-icon-144-precomposed.png?v=5a3c9ede93e2a8b8ea9e3f8f3da1a905">
  <link rel="apple-touch-icon-precomposed" sizes="114x114"
        href="/static/ico/apple-touch-icon-114-precomposed.png?v=45d86fc8f24dc00638035e1dd7a6d898">
  <link rel="apple-touch-icon-precomposed" sizes="72x72"
        href="/static/ico/apple-touch-icon-72-precomposed.png?v=540b5eb0f3cfd25f1439d1c9bd30e15f">
  <link rel="apple-touch-icon-precomposed"
        href="/static/ico/apple-touch-icon-57-precomposed.png?v=225f0590e187e1458625654f10a28f56">
  
  

  

  
  <meta name="twitter:card" content="summary">
  <meta name="twitter:title" content="Notebook on nbviewer">
  <meta name="twitter:description" content="Check out this Jupyter notebook!">

  
  <meta name="twitter:domain" content="nbviewer.jupyter.org">
  <meta name="twitter:image:src" content="http://ipython.org/ipython-doc/dev/_images/ipynb_icon_128x128.png">

  
    <link href="/static/build/notebook.css?v=aae8f92f7e80fc468ae446b9d852fe90" rel="stylesheet">
  

  

  
    <script src="https://cdnjs.cloudflare.com/ajax/libs/mathjax/2.7.1/MathJax.js?config=TeX-AMS_HTML" type="text/javascript">
    </script>
    <script type="text/javascript">
      init_mathjax = function() {
        if (window.MathJax) {
          // MathJax loaded
          MathJax.Hub.Config({
            TeX: {
              equationNumbers: {
                autoNumber: "AMS",
                useLabelIds: true
              }
            },
            tex2jax: {
              inlineMath: [ ['$','$'], ["\\(","\\)"] ],
              displayMath: [ ['$$','$$'], ["\\[","\\]"] ],
              processEscapes: true,
              processEnvironments: true
            },
            displayAlign: 'center',
            "HTML-CSS": {
              styles: {'.MathJax_Display': {"margin": 0}},
              linebreaks: { automatic: true }
            }
          });
          MathJax.Hub.Queue(["Typeset", MathJax.Hub]);
        }
      }
      init_mathjax();
    </script>
  

  
    <script>
      (function() {
        function addWidgetsRenderer() {
          var mimeElement = document.querySelector('script[type="application/vnd.jupyter.widget-view+json"]');
          var scriptElement = document.createElement('script');
          var widgetRendererSrc = 'https://unpkg.com/@jupyter-widgets/html-manager@0.15/dist/embed-amd.js';
          var widgetState;

          try {
            widgetState = mimeElement && JSON.parse(mimeElement.innerHTML);

            if (widgetState && (widgetState.version_major < 2 || !widgetState.version_major)) {
              widgetRendererSrc = 'https://unpkg.com/jupyter-js-widgets@2.1/dist/embed.js';
            }
          } catch(e) {}

          scriptElement.src = widgetRendererSrc;
          document.body.appendChild(scriptElement);
        }

        document.addEventListener('DOMContentLoaded', addWidgetsRenderer);
      }());
    </script>
  

</head>

<body class="nbviewer">

  <!-- These are loaded at the top of the body so they are available to
       notebook cells when they are loaded below. -->
  <script src="/static/components/jquery/dist/jquery.min.js?v=220afd743d9e9643852e31a135a9f3ae"></script>
  <script src="/static/components/requirejs/require.js?v=6da8be361b9ee26c5e721e76c6d4afce"></script>
  <script src="/static/components/moment/min/moment.min.js?v=89f87298ad94aa1e6b92f42eb66da043"></script>
<!-- Navbar
================================================== -->
  <nav id="menubar" class="navbar navbar-default navbar-fixed-top" data-spy="affix">
    <div class="container">
      <div class="navbar-header">
        <button type="button" class="navbar-toggle collapsed" data-toggle="collapse" data-target=".navbar-collapse">
          <span class="sr-only">Toggle navigation</span>
          <i class="fa fa-bars"></i>
        </button>
        <a class="navbar-brand" href="/">
          <img src="/static/img/nav_logo.svg?v=479cefe8d932fb14a67b93911b97d70f" width="159"/>
        </a>
      </div>

      <div class="collapse navbar-collapse">
        <ul class="nav navbar-nav navbar-right">
          <li>
            <a class="active" href="https://jupyter.org">JUPYTER</a>
          </li>
          <li>
    <a href="/faq" title="FAQ" >
      
        <span>FAQ</span>
      
    </a>
  </li>

          
  
    
  
    
      
        <li>
    <a href="/format/script/github/Naereen/notebooks/blob/master/Short_study_of_the_Lempel-Ziv_complexity.ipynb" title="View as Code" >
      <span class="fa fa-code fa-2x menu-icon"></span>
      <span class="menu-text">View as Code</span>
    </a>
  </li>
      
    
  

  
    <li>
    <a href="#" title="Python 3 Kernel" >
      <span class="fa fa-server fa-2x menu-icon"></span>
      <span class="menu-text">Python 3 Kernel</span>
    </a>
  </li>
  

  
    <li>
    <a href="https://github.com/Naereen/notebooks/blob/master/Short_study_of_the_Lempel-Ziv_complexity.ipynb" title="View on GitHub" >
      <span class="fa fa-github fa-2x menu-icon"></span>
      <span class="menu-text">View on GitHub</span>
    </a>
  </li>
  

  
    <li>
    <a href="https://mybinder.org/v2/gh/Naereen/notebooks/master?filepath=Short_study_of_the_Lempel-Ziv_complexity.ipynb" title="Execute on Binder" >
      <span class="fa fa-icon-binder fa-2x menu-icon"></span>
      <span class="menu-text">Execute on Binder</span>
    </a>
  </li>
  

  <li>
    <a href="https://raw.githubusercontent.com/Naereen/notebooks/master/Short_study_of_the_Lempel-Ziv_complexity.ipynb" title="Download Notebook" download>
      <span class="fa fa-download fa-2x menu-icon"></span>
      <span class="menu-text">Download Notebook</span>
    </a>
  </li>

        </ul>
      </div><!-- /.navbar-collapse -->
      
      
    </div>
  </nav>

  <div class="container container-main">
    
  
  <ol class="breadcrumb">
    
      <li>
        <a href="/github/Naereen/notebooks/tree/master">notebooks</a>
      </li>
    
      <li>
        <a href="/github/Naereen/notebooks/tree/master/Short_study_of_the_Lempel-Ziv_complexity.ipynb">Short_study_of_the_Lempel-Ziv_complexity.ipynb</a>
      </li>
    
  </ol>
  
  <div id="notebook">
    <div id="notebook-container">
      <div class="cell border-box-sizing text_cell rendered"><div class="prompt input_prompt">
</div><div class="inner_cell">
<div class="text_cell_render border-box-sizing rendered_html">
<h1 id="Table-of-Contents">Table of Contents<a class="anchor-link" href="#Table-of-Contents">&#182;</a></h1><p><p><div class="lev1 toc-item"><a href="#Short-study-of-the-Lempel-Ziv-complexity" data-toc-modified-id="Short-study-of-the-Lempel-Ziv-complexity-1"><span class="toc-item-num">1&nbsp;&nbsp;</span>Short study of the Lempel-Ziv complexity</a></div><div class="lev2 toc-item"><a href="#Short-definition" data-toc-modified-id="Short-definition-11"><span class="toc-item-num">1.1&nbsp;&nbsp;</span>Short definition</a></div><div class="lev2 toc-item"><a href="#Python-implementation" data-toc-modified-id="Python-implementation-12"><span class="toc-item-num">1.2&nbsp;&nbsp;</span>Python implementation</a></div><div class="lev2 toc-item"><a href="#Tests-(1/2)" data-toc-modified-id="Tests-(1/2)-13"><span class="toc-item-num">1.3&nbsp;&nbsp;</span>Tests (1/2)</a></div><div class="lev2 toc-item"><a href="#Cython-implementation" data-toc-modified-id="Cython-implementation-14"><span class="toc-item-num">1.4&nbsp;&nbsp;</span>Cython implementation</a></div><div class="lev2 toc-item"><a href="#Numba-implementation" data-toc-modified-id="Numba-implementation-15"><span class="toc-item-num">1.5&nbsp;&nbsp;</span>Numba implementation</a></div><div class="lev2 toc-item"><a href="#Tests-(2/2)" data-toc-modified-id="Tests-(2/2)-16"><span class="toc-item-num">1.6&nbsp;&nbsp;</span>Tests (2/2)</a></div><div class="lev2 toc-item"><a href="#Benchmarks" data-toc-modified-id="Benchmarks-17"><span class="toc-item-num">1.7&nbsp;&nbsp;</span>Benchmarks</a></div><div class="lev2 toc-item"><a href="#Complexity-?" data-toc-modified-id="Complexity-?-18"><span class="toc-item-num">1.8&nbsp;&nbsp;</span>Complexity ?</a></div><div class="lev2 toc-item"><a href="#Conclusion" data-toc-modified-id="Conclusion-19"><span class="toc-item-num">1.9&nbsp;&nbsp;</span>Conclusion</a></div><div class="lev2 toc-item"><a href="#(Experimental)-Julia-implementation" data-toc-modified-id="(Experimental)-Julia-implementation-110"><span class="toc-item-num">1.10&nbsp;&nbsp;</span>(Experimental) <a href="http://julialang.org" target="_blank">Julia</a> implementation</a></div><div class="lev2 toc-item"><a href="#Ending-notes" data-toc-modified-id="Ending-notes-111"><span class="toc-item-num">1.11&nbsp;&nbsp;</span>Ending notes</a></div></p>

</div>
</div>
</div>
<div class="cell border-box-sizing text_cell rendered"><div class="prompt input_prompt">
</div><div class="inner_cell">
<div class="text_cell_render border-box-sizing rendered_html">
<h1 id="Short-study-of-the-Lempel-Ziv-complexity">Short study of the Lempel-Ziv complexity<a class="anchor-link" href="#Short-study-of-the-Lempel-Ziv-complexity">&#182;</a></h1><p>In this short <a href="https://www.Jupyter.org/">Jupyter notebook</a> aims at defining and explaining the <a href="https://en.wikipedia.org/wiki/Lempel-Ziv_complexity">Lempel-Ziv complexity</a>.</p>
<p><a href="http://perso.crans.org/besson/">I</a> will give examples, and benchmarks of different implementations.</p>
<ul>
<li><strong>Reference:</strong> Abraham Lempel and Jacob Ziv, <em>« On the Complexity of Finite Sequences »</em>, IEEE Trans. on Information Theory, January 1976, p. 75–81, vol. 22, n°1.</li>
</ul>

</div>
</div>
</div>
<div class="cell border-box-sizing text_cell rendered"><div class="prompt input_prompt">
</div><div class="inner_cell">
<div class="text_cell_render border-box-sizing rendered_html">
<hr>
<h2 id="Short-definition">Short definition<a class="anchor-link" href="#Short-definition">&#182;</a></h2><p>The Lempel-Ziv complexity is defined as the number of different substrings encountered as the stream is viewed from begining to the end.</p>
<p>As an example:</p>
<div class="highlight"><pre><span></span><span class="o">&gt;&gt;&gt;</span> <span class="n">s</span> <span class="o">=</span> <span class="s1">&#39;1001111011000010&#39;</span>
<span class="o">&gt;&gt;&gt;</span> <span class="n">lempel_ziv_complexity</span><span class="p">(</span><span class="n">s</span><span class="p">)</span>  <span class="c1"># 1 / 0 / 01 / 1110 / 1100 / 0010</span>
<span class="mi">6</span>
</pre></div>
<p>Marking in the different substrings, this sequence $s$ has complexity $\mathrm{Lempel}$-$\mathrm{Ziv}(s) = 6$ because $s = 1001111011000010 = 1 / 0 / 01 / 1110 / 1100 / 0010$.</p>
<ul>
<li>See the page <a href="https://en.wikipedia.org/wiki/Lempel-Ziv_complexity">https://en.wikipedia.org/wiki/Lempel-Ziv_complexity</a> for more details.</li>
</ul>

</div>
</div>
</div>
<div class="cell border-box-sizing text_cell rendered"><div class="prompt input_prompt">
</div><div class="inner_cell">
<div class="text_cell_render border-box-sizing rendered_html">
<p>Other examples:</p>
<div class="highlight"><pre><span></span><span class="o">&gt;&gt;&gt;</span> <span class="n">lempel_ziv_complexity</span><span class="p">(</span><span class="s1">&#39;1010101010101010&#39;</span><span class="p">)</span>  <span class="c1"># 1 / 0 / 10</span>
<span class="mi">3</span>
<span class="o">&gt;&gt;&gt;</span> <span class="n">lempel_ziv_complexity</span><span class="p">(</span><span class="s1">&#39;1001111011000010000010&#39;</span><span class="p">)</span>  <span class="c1"># 1 / 0 / 01 / 1110 / 1100 / 0010 / 000 / 010</span>
<span class="mi">7</span>
<span class="o">&gt;&gt;&gt;</span> <span class="n">lempel_ziv_complexity</span><span class="p">(</span><span class="s1">&#39;100111101100001000001010&#39;</span><span class="p">)</span>  <span class="c1"># 1 / 0 / 01 / 1110 / 1100 / 0010 / 000 / 010 / 10</span>
<span class="mi">8</span>
</pre></div>

</div>
</div>
</div>
<div class="cell border-box-sizing text_cell rendered"><div class="prompt input_prompt">
</div><div class="inner_cell">
<div class="text_cell_render border-box-sizing rendered_html">
<hr>
<h2 id="Python-implementation">Python implementation<a class="anchor-link" href="#Python-implementation">&#182;</a></h2>
</div>
</div>
</div>
<div class="cell border-box-sizing code_cell rendered">
<div class="input">
<div class="prompt input_prompt">In&nbsp;[1]:</div>
<div class="inner_cell">
    <div class="input_area">
<div class=" highlight hl-ipython3"><pre><span></span><span class="k">def</span> <span class="nf">lempel_ziv_complexity</span><span class="p">(</span><span class="n">binary_sequence</span><span class="p">):</span>
    <span class="sd">&quot;&quot;&quot;Lempel-Ziv complexity for a binary sequence, in simple Python code.&quot;&quot;&quot;</span>
    <span class="n">u</span><span class="p">,</span> <span class="n">v</span><span class="p">,</span> <span class="n">w</span> <span class="o">=</span> <span class="mi">0</span><span class="p">,</span> <span class="mi">1</span><span class="p">,</span> <span class="mi">1</span>
    <span class="n">v_max</span> <span class="o">=</span> <span class="mi">1</span>
    <span class="n">length</span> <span class="o">=</span> <span class="nb">len</span><span class="p">(</span><span class="n">binary_sequence</span><span class="p">)</span>
    <span class="n">complexity</span> <span class="o">=</span> <span class="mi">1</span>
    <span class="k">while</span> <span class="kc">True</span><span class="p">:</span>
        <span class="k">if</span> <span class="n">binary_sequence</span><span class="p">[</span><span class="n">u</span> <span class="o">+</span> <span class="n">v</span> <span class="o">-</span> <span class="mi">1</span><span class="p">]</span> <span class="o">==</span> <span class="n">binary_sequence</span><span class="p">[</span><span class="n">w</span> <span class="o">+</span> <span class="n">v</span> <span class="o">-</span> <span class="mi">1</span><span class="p">]:</span>
            <span class="n">v</span> <span class="o">+=</span> <span class="mi">1</span>
            <span class="k">if</span> <span class="n">w</span> <span class="o">+</span> <span class="n">v</span> <span class="o">&gt;=</span> <span class="n">length</span><span class="p">:</span>
                <span class="n">complexity</span> <span class="o">+=</span> <span class="mi">1</span>
                <span class="k">break</span>
        <span class="k">else</span><span class="p">:</span>
            <span class="k">if</span> <span class="n">v</span> <span class="o">&gt;</span> <span class="n">v_max</span><span class="p">:</span>
                <span class="n">v_max</span> <span class="o">=</span> <span class="n">v</span>
            <span class="n">u</span> <span class="o">+=</span> <span class="mi">1</span>
            <span class="k">if</span> <span class="n">u</span> <span class="o">==</span> <span class="n">w</span><span class="p">:</span>
                <span class="n">complexity</span> <span class="o">+=</span> <span class="mi">1</span>
                <span class="n">w</span> <span class="o">+=</span> <span class="n">v_max</span>
                <span class="k">if</span> <span class="n">w</span> <span class="o">&gt;</span> <span class="n">length</span><span class="p">:</span>
                    <span class="k">break</span>
                <span class="k">else</span><span class="p">:</span>
                    <span class="n">u</span> <span class="o">=</span> <span class="mi">0</span>
                    <span class="n">v</span> <span class="o">=</span> <span class="mi">1</span>
                    <span class="n">v_max</span> <span class="o">=</span> <span class="mi">1</span>
            <span class="k">else</span><span class="p">:</span>
                <span class="n">v</span> <span class="o">=</span> <span class="mi">1</span>
    <span class="k">return</span> <span class="n">complexity</span>
</pre></div>

    </div>
</div>
</div>

</div>
<div class="cell border-box-sizing text_cell rendered"><div class="prompt input_prompt">
</div><div class="inner_cell">
<div class="text_cell_render border-box-sizing rendered_html">
<hr>
<h2 id="Tests-(1/2)">Tests (1/2)<a class="anchor-link" href="#Tests-(1/2)">&#182;</a></h2>
</div>
</div>
</div>
<div class="cell border-box-sizing code_cell rendered">
<div class="input">
<div class="prompt input_prompt">In&nbsp;[2]:</div>
<div class="inner_cell">
    <div class="input_area">
<div class=" highlight hl-ipython3"><pre><span></span><span class="n">s</span> <span class="o">=</span> <span class="s1">&#39;1001111011000010&#39;</span>
<span class="n">lempel_ziv_complexity</span><span class="p">(</span><span class="n">s</span><span class="p">)</span>  <span class="c1"># 1 / 0 / 01 / 1110 / 1100 / 0010</span>
</pre></div>

    </div>
</div>
</div>

<div class="output_wrapper">
<div class="output">


<div class="output_area">

    <div class="prompt output_prompt">Out[2]:</div>




<div class="output_text output_subarea output_execute_result">
<pre>6</pre>
</div>

</div>

</div>
</div>

</div>
<div class="cell border-box-sizing code_cell rendered">
<div class="input">
<div class="prompt input_prompt">In&nbsp;[3]:</div>
<div class="inner_cell">
    <div class="input_area">
<div class=" highlight hl-ipython3"><pre><span></span><span class="o">%</span><span class="k">timeit</span> lempel_ziv_complexity(s)
</pre></div>

    </div>
</div>
</div>

<div class="output_wrapper">
<div class="output">


<div class="output_area">

    <div class="prompt"></div>


<div class="output_subarea output_stream output_stdout output_text">
<pre>6.1 µs ± 173 ns per loop (mean ± std. dev. of 7 runs, 100000 loops each)
</pre>
</div>
</div>

</div>
</div>

</div>
<div class="cell border-box-sizing code_cell rendered">
<div class="input">
<div class="prompt input_prompt">In&nbsp;[4]:</div>
<div class="inner_cell">
    <div class="input_area">
<div class=" highlight hl-ipython3"><pre><span></span><span class="n">lempel_ziv_complexity</span><span class="p">(</span><span class="s1">&#39;1010101010101010&#39;</span><span class="p">)</span>  <span class="c1"># 1 / 0 / 10</span>
</pre></div>

    </div>
</div>
</div>

<div class="output_wrapper">
<div class="output">


<div class="output_area">

    <div class="prompt output_prompt">Out[4]:</div>




<div class="output_text output_subarea output_execute_result">
<pre>3</pre>
</div>

</div>

</div>
</div>

</div>
<div class="cell border-box-sizing code_cell rendered">
<div class="input">
<div class="prompt input_prompt">In&nbsp;[5]:</div>
<div class="inner_cell">
    <div class="input_area">
<div class=" highlight hl-ipython3"><pre><span></span><span class="n">lempel_ziv_complexity</span><span class="p">(</span><span class="s1">&#39;1001111011000010000010&#39;</span><span class="p">)</span>  <span class="c1"># 1 / 0 / 01 / 1110</span>
</pre></div>

    </div>
</div>
</div>

<div class="output_wrapper">
<div class="output">


<div class="output_area">

    <div class="prompt output_prompt">Out[5]:</div>




<div class="output_text output_subarea output_execute_result">
<pre>7</pre>
</div>

</div>

</div>
</div>

</div>
<div class="cell border-box-sizing code_cell rendered">
<div class="input">
<div class="prompt input_prompt">In&nbsp;[6]:</div>
<div class="inner_cell">
    <div class="input_area">
<div class=" highlight hl-ipython3"><pre><span></span><span class="n">lempel_ziv_complexity</span><span class="p">(</span><span class="s1">&#39;100111101100001000001010&#39;</span><span class="p">)</span>  <span class="c1"># 1 / 0 / 01 / 1110 / 1100 / 0010 / 000 / 010 / 10</span>
</pre></div>

    </div>
</div>
</div>

<div class="output_wrapper">
<div class="output">


<div class="output_area">

    <div class="prompt output_prompt">Out[6]:</div>




<div class="output_text output_subarea output_execute_result">
<pre>8</pre>
</div>

</div>

</div>
</div>

</div>
<div class="cell border-box-sizing code_cell rendered">
<div class="input">
<div class="prompt input_prompt">In&nbsp;[7]:</div>
<div class="inner_cell">
    <div class="input_area">
<div class=" highlight hl-ipython3"><pre><span></span><span class="o">%</span><span class="k">timeit</span> lempel_ziv_complexity(&#39;100111101100001000001010&#39;)
</pre></div>

    </div>
</div>
</div>

<div class="output_wrapper">
<div class="output">


<div class="output_area">

    <div class="prompt"></div>


<div class="output_subarea output_stream output_stdout output_text">
<pre>19.4 µs ± 2.31 µs per loop (mean ± std. dev. of 7 runs, 10000 loops each)
</pre>
</div>
</div>

</div>
</div>

</div>
<div class="cell border-box-sizing text_cell rendered"><div class="prompt input_prompt">
</div><div class="inner_cell">
<div class="text_cell_render border-box-sizing rendered_html">
<p>We can start to see that the time complexity of this function seems to grow exponentially as the complexity grows.</p>

</div>
</div>
</div>
<div class="cell border-box-sizing text_cell rendered"><div class="prompt input_prompt">
</div><div class="inner_cell">
<div class="text_cell_render border-box-sizing rendered_html">
<hr>
<h2 id="Cython-implementation">Cython implementation<a class="anchor-link" href="#Cython-implementation">&#182;</a></h2><p>As <a href="https://jakevdp.github.io/blog/2013/06/15/numba-vs-cython-take-2/">this blog post</a> explains it, we can easily try to use <a href="http://Cython.org/">Cython</a> in a notebook cell.</p>
<blockquote><p>See <a href="http://docs.cython.org/en/latest/src/quickstart/build.html#using-the-jupyter-notebook">the Cython documentation</a> for more information.</p>
</blockquote>

</div>
</div>
</div>
<div class="cell border-box-sizing code_cell rendered">
<div class="input">
<div class="prompt input_prompt">In&nbsp;[7]:</div>
<div class="inner_cell">
    <div class="input_area">
<div class=" highlight hl-ipython3"><pre><span></span><span class="o">%</span><span class="k">load_ext</span> cython
</pre></div>

    </div>
</div>
</div>

</div>
<div class="cell border-box-sizing code_cell rendered">
<div class="input">
<div class="prompt input_prompt">In&nbsp;[8]:</div>
<div class="inner_cell">
    <div class="input_area">
<div class=" highlight hl-ipython3"><pre><span></span><span class="o">%%</span><span class="n">cython</span>
<span class="k">from</span> <span class="nn">__future__</span> <span class="k">import</span> <span class="n">division</span>
<span class="k">import</span> <span class="nn">cython</span>

<span class="k">ctypedef</span> <span class="nb">unsigned</span> <span class="nb">int</span> <span class="n">DTYPE_t</span>

<span class="nd">@cython</span><span class="o">.</span><span class="n">boundscheck</span><span class="p">(</span><span class="bp">False</span><span class="p">)</span> <span class="c"># turn off bounds-checking for entire function, quicker but less safe</span>
<span class="k">def</span> <span class="nf">lempel_ziv_complexity_cython</span><span class="p">(</span><span class="nb">str</span> <span class="n">binary_sequence</span> <span class="ow">not</span> <span class="bp">None</span><span class="p">):</span>
    <span class="sd">&quot;&quot;&quot;Lempel-Ziv complexity for a binary sequence, in simple Cython code (C extension).&quot;&quot;&quot;</span>
    <span class="k">cdef</span> <span class="kt">DTYPE_t</span> <span class="nf">u</span> <span class="o">=</span> <span class="mf">0</span>
    <span class="k">cdef</span> <span class="kt">DTYPE_t</span> <span class="nf">v</span> <span class="o">=</span> <span class="mf">1</span>
    <span class="k">cdef</span> <span class="kt">DTYPE_t</span> <span class="nf">w</span> <span class="o">=</span> <span class="mf">1</span>
    <span class="k">cdef</span> <span class="kt">DTYPE_t</span> <span class="nf">v_max</span> <span class="o">=</span> <span class="mf">1</span>
    <span class="k">cdef</span> <span class="kt">DTYPE_t</span> <span class="nf">length</span> <span class="o">=</span> <span class="nb">len</span><span class="p">(</span><span class="n">binary_sequence</span><span class="p">)</span>
    <span class="k">cdef</span> <span class="kt">DTYPE_t</span> <span class="nf">complexity</span> <span class="o">=</span> <span class="mf">1</span>
    <span class="c"># that was the only needed part, typing statically all the variables</span>
    <span class="k">while</span> <span class="bp">True</span><span class="p">:</span>
        <span class="k">if</span> <span class="n">binary_sequence</span><span class="p">[</span><span class="n">u</span> <span class="o">+</span> <span class="n">v</span> <span class="o">-</span> <span class="mf">1</span><span class="p">]</span> <span class="o">==</span> <span class="n">binary_sequence</span><span class="p">[</span><span class="n">w</span> <span class="o">+</span> <span class="n">v</span> <span class="o">-</span> <span class="mf">1</span><span class="p">]:</span>
            <span class="n">v</span> <span class="o">+=</span> <span class="mf">1</span>
            <span class="k">if</span> <span class="n">w</span> <span class="o">+</span> <span class="n">v</span> <span class="o">&gt;=</span> <span class="n">length</span><span class="p">:</span>
                <span class="n">complexity</span> <span class="o">+=</span> <span class="mf">1</span>
                <span class="k">break</span>
        <span class="k">else</span><span class="p">:</span>
            <span class="k">if</span> <span class="n">v</span> <span class="o">&gt;</span> <span class="n">v_max</span><span class="p">:</span>
                <span class="n">v_max</span> <span class="o">=</span> <span class="n">v</span>
            <span class="n">u</span> <span class="o">+=</span> <span class="mf">1</span>
            <span class="k">if</span> <span class="n">u</span> <span class="o">==</span> <span class="n">w</span><span class="p">:</span>
                <span class="n">complexity</span> <span class="o">+=</span> <span class="mf">1</span>
                <span class="n">w</span> <span class="o">+=</span> <span class="n">v_max</span>
                <span class="k">if</span> <span class="n">w</span> <span class="o">&gt;</span> <span class="n">length</span><span class="p">:</span>
                    <span class="k">break</span>
                <span class="k">else</span><span class="p">:</span>
                    <span class="n">u</span> <span class="o">=</span> <span class="mf">0</span>
                    <span class="n">v</span> <span class="o">=</span> <span class="mf">1</span>
                    <span class="n">v_max</span> <span class="o">=</span> <span class="mf">1</span>
            <span class="k">else</span><span class="p">:</span>
                <span class="n">v</span> <span class="o">=</span> <span class="mf">1</span>
    <span class="k">return</span> <span class="n">complexity</span>
</pre></div>

    </div>
</div>
</div>

</div>
<div class="cell border-box-sizing text_cell rendered"><div class="prompt input_prompt">
</div><div class="inner_cell">
<div class="text_cell_render border-box-sizing rendered_html">
<p>Let try it!</p>

</div>
</div>
</div>
<div class="cell border-box-sizing code_cell rendered">
<div class="input">
<div class="prompt input_prompt">In&nbsp;[9]:</div>
<div class="inner_cell">
    <div class="input_area">
<div class=" highlight hl-ipython3"><pre><span></span><span class="n">s</span> <span class="o">=</span> <span class="s1">&#39;1001111011000010&#39;</span>
<span class="n">lempel_ziv_complexity_cython</span><span class="p">(</span><span class="n">s</span><span class="p">)</span>  <span class="c1"># 1 / 0 / 01 / 1110 / 1100 / 0010</span>
</pre></div>

    </div>
</div>
</div>

<div class="output_wrapper">
<div class="output">


<div class="output_area">

    <div class="prompt output_prompt">Out[9]:</div>




<div class="output_text output_subarea output_execute_result">
<pre>6</pre>
</div>

</div>

</div>
</div>

</div>
<div class="cell border-box-sizing code_cell rendered">
<div class="input">
<div class="prompt input_prompt">In&nbsp;[10]:</div>
<div class="inner_cell">
    <div class="input_area">
<div class=" highlight hl-ipython3"><pre><span></span><span class="o">%</span><span class="k">timeit</span> lempel_ziv_complexity_cython(s)
</pre></div>

    </div>
</div>
</div>

<div class="output_wrapper">
<div class="output">


<div class="output_area">

    <div class="prompt"></div>


<div class="output_subarea output_stream output_stdout output_text">
<pre>131 ns ± 5.22 ns per loop (mean ± std. dev. of 7 runs, 10000000 loops each)
</pre>
</div>
</div>

</div>
</div>

</div>
<div class="cell border-box-sizing code_cell rendered">
<div class="input">
<div class="prompt input_prompt">In&nbsp;[12]:</div>
<div class="inner_cell">
    <div class="input_area">
<div class=" highlight hl-ipython3"><pre><span></span><span class="n">lempel_ziv_complexity_cython</span><span class="p">(</span><span class="s1">&#39;1010101010101010&#39;</span><span class="p">)</span>  <span class="c1"># 1 / 0 / 10</span>
</pre></div>

    </div>
</div>
</div>

<div class="output_wrapper">
<div class="output">


<div class="output_area">

    <div class="prompt output_prompt">Out[12]:</div>




<div class="output_text output_subarea output_execute_result">
<pre>3</pre>
</div>

</div>

</div>
</div>

</div>
<div class="cell border-box-sizing code_cell rendered">
<div class="input">
<div class="prompt input_prompt">In&nbsp;[13]:</div>
<div class="inner_cell">
    <div class="input_area">
<div class=" highlight hl-ipython3"><pre><span></span><span class="n">lempel_ziv_complexity_cython</span><span class="p">(</span><span class="s1">&#39;1001111011000010000010&#39;</span><span class="p">)</span>  <span class="c1"># 1 / 0 / 01 / 1110</span>
</pre></div>

    </div>
</div>
</div>

<div class="output_wrapper">
<div class="output">


<div class="output_area">

    <div class="prompt output_prompt">Out[13]:</div>




<div class="output_text output_subarea output_execute_result">
<pre>7</pre>
</div>

</div>

</div>
</div>

</div>
<div class="cell border-box-sizing code_cell rendered">
<div class="input">
<div class="prompt input_prompt">In&nbsp;[14]:</div>
<div class="inner_cell">
    <div class="input_area">
<div class=" highlight hl-ipython3"><pre><span></span><span class="n">lempel_ziv_complexity_cython</span><span class="p">(</span><span class="s1">&#39;100111101100001000001010&#39;</span><span class="p">)</span>  <span class="c1"># 1 / 0 / 01 / 1110 / 1100 / 0010 / 000 / 010 / 10</span>
</pre></div>

    </div>
</div>
</div>

<div class="output_wrapper">
<div class="output">


<div class="output_area">

    <div class="prompt output_prompt">Out[14]:</div>




<div class="output_text output_subarea output_execute_result">
<pre>8</pre>
</div>

</div>

</div>
</div>

</div>
<div class="cell border-box-sizing code_cell rendered">
<div class="input">
<div class="prompt input_prompt">In&nbsp;[15]:</div>
<div class="inner_cell">
    <div class="input_area">
<div class=" highlight hl-ipython3"><pre><span></span><span class="o">%</span><span class="k">timeit</span> lempel_ziv_complexity_cython(&#39;100111101100001000001010&#39;)
</pre></div>

    </div>
</div>
</div>

<div class="output_wrapper">
<div class="output">


<div class="output_area">

    <div class="prompt"></div>


<div class="output_subarea output_stream output_stdout output_text">
<pre>259 ns ± 13.9 ns per loop (mean ± std. dev. of 7 runs, 1000000 loops each)
</pre>
</div>
</div>

</div>
</div>

</div>
<div class="cell border-box-sizing text_cell rendered"><div class="prompt input_prompt">
</div><div class="inner_cell">
<div class="text_cell_render border-box-sizing rendered_html">
<blockquote><p>$\implies$ Yay! It seems faster indeed!</p>
</blockquote>

</div>
</div>
</div>
<div class="cell border-box-sizing text_cell rendered"><div class="prompt input_prompt">
</div><div class="inner_cell">
<div class="text_cell_render border-box-sizing rendered_html">
<hr>
<h2 id="Numba-implementation">Numba implementation<a class="anchor-link" href="#Numba-implementation">&#182;</a></h2><p>As <a href="https://jakevdp.github.io/blog/2013/06/15/numba-vs-cython-take-2/">this blog post</a> explains it, we can also try to use <a href="http://Numba.PyData.org/">Numba</a> in a notebook cell.</p>

</div>
</div>
</div>
<div class="cell border-box-sizing code_cell rendered">
<div class="input">
<div class="prompt input_prompt">In&nbsp;[87]:</div>
<div class="inner_cell">
    <div class="input_area">
<div class=" highlight hl-ipython3"><pre><span></span><span class="kn">from</span> <span class="nn">numba</span> <span class="k">import</span> <span class="n">jit</span>
</pre></div>

    </div>
</div>
</div>

</div>
<div class="cell border-box-sizing code_cell rendered">
<div class="input">
<div class="prompt input_prompt">In&nbsp;[94]:</div>
<div class="inner_cell">
    <div class="input_area">
<div class=" highlight hl-ipython3"><pre><span></span><span class="nd">@jit</span><span class="p">(</span><span class="s2">&quot;int32(boolean[:])&quot;</span><span class="p">)</span>
<span class="k">def</span> <span class="nf">lempel_ziv_complexity_numba_x</span><span class="p">(</span><span class="n">binary_sequence</span><span class="p">):</span>
    <span class="sd">&quot;&quot;&quot;Lempel-Ziv complexity for a binary sequence, in Python code using numba.jit() for automatic speedup (hopefully).&quot;&quot;&quot;</span>
    <span class="n">u</span><span class="p">,</span> <span class="n">v</span><span class="p">,</span> <span class="n">w</span> <span class="o">=</span> <span class="mi">0</span><span class="p">,</span> <span class="mi">1</span><span class="p">,</span> <span class="mi">1</span>
    <span class="n">v_max</span> <span class="o">=</span> <span class="mi">1</span>
    <span class="n">length</span> <span class="o">=</span> <span class="nb">len</span><span class="p">(</span><span class="n">binary_sequence</span><span class="p">)</span>
    <span class="n">complexity</span> <span class="o">=</span> <span class="mi">1</span>
    <span class="k">while</span> <span class="kc">True</span><span class="p">:</span>
        <span class="k">if</span> <span class="n">binary_sequence</span><span class="p">[</span><span class="n">u</span> <span class="o">+</span> <span class="n">v</span> <span class="o">-</span> <span class="mi">1</span><span class="p">]</span> <span class="o">==</span> <span class="n">binary_sequence</span><span class="p">[</span><span class="n">w</span> <span class="o">+</span> <span class="n">v</span> <span class="o">-</span> <span class="mi">1</span><span class="p">]:</span>
            <span class="n">v</span> <span class="o">+=</span> <span class="mi">1</span>
            <span class="k">if</span> <span class="n">w</span> <span class="o">+</span> <span class="n">v</span> <span class="o">&gt;=</span> <span class="n">length</span><span class="p">:</span>
                <span class="n">complexity</span> <span class="o">+=</span> <span class="mi">1</span>
                <span class="k">break</span>
        <span class="k">else</span><span class="p">:</span>
            <span class="k">if</span> <span class="n">v</span> <span class="o">&gt;</span> <span class="n">v_max</span><span class="p">:</span>
                <span class="n">v_max</span> <span class="o">=</span> <span class="n">v</span>
            <span class="n">u</span> <span class="o">+=</span> <span class="mi">1</span>
            <span class="k">if</span> <span class="n">u</span> <span class="o">==</span> <span class="n">w</span><span class="p">:</span>
                <span class="n">complexity</span> <span class="o">+=</span> <span class="mi">1</span>
                <span class="n">w</span> <span class="o">+=</span> <span class="n">v_max</span>
                <span class="k">if</span> <span class="n">w</span> <span class="o">&gt;</span> <span class="n">length</span><span class="p">:</span>
                    <span class="k">break</span>
                <span class="k">else</span><span class="p">:</span>
                    <span class="n">u</span> <span class="o">=</span> <span class="mi">0</span>
                    <span class="n">v</span> <span class="o">=</span> <span class="mi">1</span>
                    <span class="n">v_max</span> <span class="o">=</span> <span class="mi">1</span>
            <span class="k">else</span><span class="p">:</span>
                <span class="n">v</span> <span class="o">=</span> <span class="mi">1</span>
    <span class="k">return</span> <span class="n">complexity</span>

<span class="k">def</span> <span class="nf">str_to_numpy</span><span class="p">(</span><span class="n">s</span><span class="p">):</span>
    <span class="sd">&quot;&quot;&quot;str to np.array of bool&quot;&quot;&quot;</span>
    <span class="k">return</span> <span class="n">np</span><span class="o">.</span><span class="n">array</span><span class="p">([</span><span class="nb">int</span><span class="p">(</span><span class="n">i</span><span class="p">)</span> <span class="k">for</span> <span class="n">i</span> <span class="ow">in</span> <span class="n">s</span><span class="p">],</span> <span class="n">dtype</span><span class="o">=</span><span class="n">np</span><span class="o">.</span><span class="n">bool</span><span class="p">)</span>

<span class="k">def</span> <span class="nf">lempel_ziv_complexity_numba</span><span class="p">(</span><span class="n">s</span><span class="p">):</span>
    <span class="k">return</span> <span class="n">lempel_ziv_complexity_numba_x</span><span class="p">(</span><span class="n">str_to_numpy</span><span class="p">(</span><span class="n">s</span><span class="p">))</span>
</pre></div>

    </div>
</div>
</div>

</div>
<div class="cell border-box-sizing text_cell rendered"><div class="prompt input_prompt">
</div><div class="inner_cell">
<div class="text_cell_render border-box-sizing rendered_html">
<p>Let try it!</p>

</div>
</div>
</div>
<div class="cell border-box-sizing code_cell rendered">
<div class="input">
<div class="prompt input_prompt">In&nbsp;[95]:</div>
<div class="inner_cell">
    <div class="input_area">
<div class=" highlight hl-ipython3"><pre><span></span><span class="n">str_to_numpy</span><span class="p">(</span><span class="n">s</span><span class="p">)</span>
</pre></div>

    </div>
</div>
</div>

<div class="output_wrapper">
<div class="output">


<div class="output_area">

    <div class="prompt output_prompt">Out[95]:</div>




<div class="output_text output_subarea output_execute_result">
<pre>array([ True, False, False,  True,  True,  True,  True, False,  True,
        True, False, False, False, False,  True, False], dtype=bool)</pre>
</div>

</div>

</div>
</div>

</div>
<div class="cell border-box-sizing code_cell rendered">
<div class="input">
<div class="prompt input_prompt">In&nbsp;[96]:</div>
<div class="inner_cell">
    <div class="input_area">
<div class=" highlight hl-ipython3"><pre><span></span><span class="n">s</span> <span class="o">=</span> <span class="s1">&#39;1001111011000010&#39;</span>
<span class="n">lempel_ziv_complexity_numba</span><span class="p">(</span><span class="n">s</span><span class="p">)</span>  <span class="c1"># 1 / 0 / 01 / 1110 / 1100 / 0010</span>
</pre></div>

    </div>
</div>
</div>

<div class="output_wrapper">
<div class="output">


<div class="output_area">

    <div class="prompt output_prompt">Out[96]:</div>




<div class="output_text output_subarea output_execute_result">
<pre>6</pre>
</div>

</div>

</div>
</div>

</div>
<div class="cell border-box-sizing code_cell rendered">
<div class="input">
<div class="prompt input_prompt">In&nbsp;[97]:</div>
<div class="inner_cell">
    <div class="input_area">
<div class=" highlight hl-ipython3"><pre><span></span><span class="o">%</span><span class="k">timeit</span> lempel_ziv_complexity_numba(s)
</pre></div>

    </div>
</div>
</div>

<div class="output_wrapper">
<div class="output">


<div class="output_area">

    <div class="prompt"></div>


<div class="output_subarea output_stream output_stdout output_text">
<pre>6.16 µs ± 228 ns per loop (mean ± std. dev. of 7 runs, 100000 loops each)
</pre>
</div>
</div>

</div>
</div>

</div>
<div class="cell border-box-sizing code_cell rendered">
<div class="input">
<div class="prompt input_prompt">In&nbsp;[98]:</div>
<div class="inner_cell">
    <div class="input_area">
<div class=" highlight hl-ipython3"><pre><span></span><span class="n">lempel_ziv_complexity_numba</span><span class="p">(</span><span class="s1">&#39;1010101010101010&#39;</span><span class="p">)</span>  <span class="c1"># 1 / 0 / 10</span>
</pre></div>

    </div>
</div>
</div>

<div class="output_wrapper">
<div class="output">


<div class="output_area">

    <div class="prompt output_prompt">Out[98]:</div>




<div class="output_text output_subarea output_execute_result">
<pre>3</pre>
</div>

</div>

</div>
</div>

</div>
<div class="cell border-box-sizing code_cell rendered">
<div class="input">
<div class="prompt input_prompt">In&nbsp;[99]:</div>
<div class="inner_cell">
    <div class="input_area">
<div class=" highlight hl-ipython3"><pre><span></span><span class="n">lempel_ziv_complexity_numba</span><span class="p">(</span><span class="s1">&#39;1001111011000010000010&#39;</span><span class="p">)</span>  <span class="c1"># 1 / 0 / 01 / 1110</span>
</pre></div>

    </div>
</div>
</div>

<div class="output_wrapper">
<div class="output">


<div class="output_area">

    <div class="prompt output_prompt">Out[99]:</div>




<div class="output_text output_subarea output_execute_result">
<pre>7</pre>
</div>

</div>

</div>
</div>

</div>
<div class="cell border-box-sizing code_cell rendered">
<div class="input">
<div class="prompt input_prompt">In&nbsp;[100]:</div>
<div class="inner_cell">
    <div class="input_area">
<div class=" highlight hl-ipython3"><pre><span></span><span class="n">lempel_ziv_complexity_numba</span><span class="p">(</span><span class="s1">&#39;100111101100001000001010&#39;</span><span class="p">)</span>  <span class="c1"># 1 / 0 / 01 / 1110 / 1100 / 0010 / 000 / 010 / 10</span>
</pre></div>

    </div>
</div>
</div>

<div class="output_wrapper">
<div class="output">


<div class="output_area">

    <div class="prompt output_prompt">Out[100]:</div>




<div class="output_text output_subarea output_execute_result">
<pre>8</pre>
</div>

</div>

</div>
</div>

</div>
<div class="cell border-box-sizing code_cell rendered">
<div class="input">
<div class="prompt input_prompt">In&nbsp;[101]:</div>
<div class="inner_cell">
    <div class="input_area">
<div class=" highlight hl-ipython3"><pre><span></span><span class="o">%</span><span class="k">timeit</span> lempel_ziv_complexity_numba(&#39;100111101100001000001010&#39;)
</pre></div>

    </div>
</div>
</div>

<div class="output_wrapper">
<div class="output">


<div class="output_area">

    <div class="prompt"></div>


<div class="output_subarea output_stream output_stdout output_text">
<pre>9.35 µs ± 1.22 µs per loop (mean ± std. dev. of 7 runs, 100000 loops each)
</pre>
</div>
</div>

</div>
</div>

</div>
<div class="cell border-box-sizing text_cell rendered"><div class="prompt input_prompt">
</div><div class="inner_cell">
<div class="text_cell_render border-box-sizing rendered_html">
<blockquote><p>$\implies$ Well... It doesn't seem that much faster from the naive Python code.
We specified the signature when calling <a href="https://numba.pydata.org/numba-doc/latest/user/jit.html"><code>@numba.jit</code></a>, and used the more appropriate data structure (string is probably the smaller, numpy array are probably faster).
But even these tricks didn't help that much.</p>
<p>I tested, and without specifying the signature, the fastest approach is using string, compared to using lists or numpy arrays.
Note that the <a href="https://numba.pydata.org/numba-doc/latest/user/jit.html"><code>@jit</code></a>-powered function is compiled at runtime when first being called, so the signature used for the <em>first</em> call is determining the signature used by the compile function</p>
</blockquote>

</div>
</div>
</div>
<div class="cell border-box-sizing text_cell rendered"><div class="prompt input_prompt">
</div><div class="inner_cell">
<div class="text_cell_render border-box-sizing rendered_html">
<hr>
<h2 id="Tests-(2/2)">Tests (2/2)<a class="anchor-link" href="#Tests-(2/2)">&#182;</a></h2><p>To test more robustly, let us generate some (uniformly) random binary sequences.</p>

</div>
</div>
</div>
<div class="cell border-box-sizing code_cell rendered">
<div class="input">
<div class="prompt input_prompt">In&nbsp;[57]:</div>
<div class="inner_cell">
    <div class="input_area">
<div class=" highlight hl-ipython3"><pre><span></span><span class="kn">from</span> <span class="nn">numpy.random</span> <span class="k">import</span> <span class="n">binomial</span>

<span class="k">def</span> <span class="nf">bernoulli</span><span class="p">(</span><span class="n">p</span><span class="p">,</span> <span class="n">size</span><span class="o">=</span><span class="mi">1</span><span class="p">):</span>
    <span class="sd">&quot;&quot;&quot;One or more samples from a Bernoulli of probability p.&quot;&quot;&quot;</span>
    <span class="k">return</span> <span class="n">binomial</span><span class="p">(</span><span class="mi">1</span><span class="p">,</span> <span class="n">p</span><span class="p">,</span> <span class="n">size</span><span class="p">)</span>
</pre></div>

    </div>
</div>
</div>

</div>
<div class="cell border-box-sizing code_cell rendered">
<div class="input">
<div class="prompt input_prompt">In&nbsp;[25]:</div>
<div class="inner_cell">
    <div class="input_area">
<div class=" highlight hl-ipython3"><pre><span></span><span class="n">bernoulli</span><span class="p">(</span><span class="mf">0.5</span><span class="p">,</span> <span class="mi">20</span><span class="p">)</span>
</pre></div>

    </div>
</div>
</div>

<div class="output_wrapper">
<div class="output">


<div class="output_area">

    <div class="prompt output_prompt">Out[25]:</div>




<div class="output_text output_subarea output_execute_result">
<pre>array([0, 0, 1, 0, 1, 1, 0, 1, 0, 0, 0, 0, 0, 0, 0, 0, 1, 1, 1, 1])</pre>
</div>

</div>

</div>
</div>

</div>
<div class="cell border-box-sizing text_cell rendered"><div class="prompt input_prompt">
</div><div class="inner_cell">
<div class="text_cell_render border-box-sizing rendered_html">
<p>That's probably not optimal, but we can generate a string with:</p>

</div>
</div>
</div>
<div class="cell border-box-sizing code_cell rendered">
<div class="input">
<div class="prompt input_prompt">In&nbsp;[26]:</div>
<div class="inner_cell">
    <div class="input_area">
<div class=" highlight hl-ipython3"><pre><span></span><span class="s1">&#39;&#39;</span><span class="o">.</span><span class="n">join</span><span class="p">(</span><span class="nb">str</span><span class="p">(</span><span class="n">i</span><span class="p">)</span> <span class="k">for</span> <span class="n">i</span> <span class="ow">in</span> <span class="n">bernoulli</span><span class="p">(</span><span class="mf">0.5</span><span class="p">,</span> <span class="mi">20</span><span class="p">))</span>
</pre></div>

    </div>
</div>
</div>

<div class="output_wrapper">
<div class="output">


<div class="output_area">

    <div class="prompt output_prompt">Out[26]:</div>




<div class="output_text output_subarea output_execute_result">
<pre>&#39;10011100011111111011&#39;</pre>
</div>

</div>

</div>
</div>

</div>
<div class="cell border-box-sizing code_cell rendered">
<div class="input">
<div class="prompt input_prompt">In&nbsp;[58]:</div>
<div class="inner_cell">
    <div class="input_area">
<div class=" highlight hl-ipython3"><pre><span></span><span class="k">def</span> <span class="nf">random_binary_sequence</span><span class="p">(</span><span class="n">n</span><span class="p">,</span> <span class="n">p</span><span class="o">=</span><span class="mf">0.5</span><span class="p">):</span>
    <span class="sd">&quot;&quot;&quot;Uniform random binary sequence of size n, with rate of 0/1 being p.&quot;&quot;&quot;</span>
    <span class="k">return</span> <span class="s1">&#39;&#39;</span><span class="o">.</span><span class="n">join</span><span class="p">(</span><span class="nb">str</span><span class="p">(</span><span class="n">i</span><span class="p">)</span> <span class="k">for</span> <span class="n">i</span> <span class="ow">in</span> <span class="n">bernoulli</span><span class="p">(</span><span class="n">p</span><span class="p">,</span> <span class="n">n</span><span class="p">))</span>
</pre></div>

    </div>
</div>
</div>

</div>
<div class="cell border-box-sizing code_cell rendered">
<div class="input">
<div class="prompt input_prompt">In&nbsp;[60]:</div>
<div class="inner_cell">
    <div class="input_area">
<div class=" highlight hl-ipython3"><pre><span></span><span class="n">random_binary_sequence</span><span class="p">(</span><span class="mi">50</span><span class="p">)</span>
<span class="n">random_binary_sequence</span><span class="p">(</span><span class="mi">50</span><span class="p">,</span> <span class="n">p</span><span class="o">=</span><span class="mf">0.1</span><span class="p">)</span>
<span class="n">random_binary_sequence</span><span class="p">(</span><span class="mi">50</span><span class="p">,</span> <span class="n">p</span><span class="o">=</span><span class="mf">0.25</span><span class="p">)</span>
<span class="n">random_binary_sequence</span><span class="p">(</span><span class="mi">50</span><span class="p">,</span> <span class="n">p</span><span class="o">=</span><span class="mf">0.5</span><span class="p">)</span>
<span class="n">random_binary_sequence</span><span class="p">(</span><span class="mi">50</span><span class="p">,</span> <span class="n">p</span><span class="o">=</span><span class="mf">0.75</span><span class="p">)</span>
<span class="n">random_binary_sequence</span><span class="p">(</span><span class="mi">50</span><span class="p">,</span> <span class="n">p</span><span class="o">=</span><span class="mf">0.9</span><span class="p">)</span>
</pre></div>

    </div>
</div>
</div>

<div class="output_wrapper">
<div class="output">


<div class="output_area">

    <div class="prompt output_prompt">Out[60]:</div>




<div class="output_text output_subarea output_execute_result">
<pre>&#39;11100011000111010111000110001110001110010010010010&#39;</pre>
</div>

</div>

<div class="output_area">

    <div class="prompt output_prompt">Out[60]:</div>




<div class="output_text output_subarea output_execute_result">
<pre>&#39;00000100100000100000000000000000000100000000000000&#39;</pre>
</div>

</div>

<div class="output_area">

    <div class="prompt output_prompt">Out[60]:</div>




<div class="output_text output_subarea output_execute_result">
<pre>&#39;00000010000010011100111010010000000000000010100010&#39;</pre>
</div>

</div>

<div class="output_area">

    <div class="prompt output_prompt">Out[60]:</div>




<div class="output_text output_subarea output_execute_result">
<pre>&#39;11000111100001111001100000101011011011011010110110&#39;</pre>
</div>

</div>

<div class="output_area">

    <div class="prompt output_prompt">Out[60]:</div>




<div class="output_text output_subarea output_execute_result">
<pre>&#39;11111001110101111111111101111111010111111111110111&#39;</pre>
</div>

</div>

<div class="output_area">

    <div class="prompt output_prompt">Out[60]:</div>




<div class="output_text output_subarea output_execute_result">
<pre>&#39;11111111111111101111101111110111111001111110111111&#39;</pre>
</div>

</div>

</div>
</div>

</div>
<div class="cell border-box-sizing text_cell rendered"><div class="prompt input_prompt">
</div><div class="inner_cell">
<div class="text_cell_render border-box-sizing rendered_html">
<p>And so, this function can test to check that the three implementations (naive, Cython-powered, Numba-powered) always give the same result.</p>

</div>
</div>
</div>
<div class="cell border-box-sizing code_cell rendered">
<div class="input">
<div class="prompt input_prompt">In&nbsp;[29]:</div>
<div class="inner_cell">
    <div class="input_area">
<div class=" highlight hl-ipython3"><pre><span></span><span class="k">def</span> <span class="nf">tests_3_functions</span><span class="p">(</span><span class="n">n</span><span class="p">,</span> <span class="n">p</span><span class="o">=</span><span class="mf">0.5</span><span class="p">,</span> <span class="n">debug</span><span class="o">=</span><span class="kc">True</span><span class="p">):</span>
    <span class="n">s</span> <span class="o">=</span> <span class="n">random_binary_sequence</span><span class="p">(</span><span class="n">n</span><span class="p">,</span> <span class="n">p</span><span class="o">=</span><span class="n">p</span><span class="p">)</span>
    <span class="n">c1</span> <span class="o">=</span> <span class="n">lempel_ziv_complexity</span><span class="p">(</span><span class="n">s</span><span class="p">)</span>
    <span class="k">if</span> <span class="n">debug</span><span class="p">:</span>
        <span class="nb">print</span><span class="p">(</span><span class="s2">&quot;Sequence s = </span><span class="si">{}</span><span class="s2"> ==&gt; complexity C = </span><span class="si">{}</span><span class="s2">&quot;</span><span class="o">.</span><span class="n">format</span><span class="p">(</span><span class="n">s</span><span class="p">,</span> <span class="n">c1</span><span class="p">))</span>
    <span class="n">c2</span> <span class="o">=</span> <span class="n">lempel_ziv_complexity_cython</span><span class="p">(</span><span class="n">s</span><span class="p">)</span>
    <span class="n">c3</span> <span class="o">=</span> <span class="n">lempel_ziv_complexity_numba</span><span class="p">(</span><span class="n">s</span><span class="p">)</span>
    <span class="k">assert</span> <span class="n">c1</span> <span class="o">==</span> <span class="n">c2</span> <span class="o">==</span> <span class="n">c3</span><span class="p">,</span> <span class="s2">&quot;Error: the sequence </span><span class="si">{}</span><span class="s2"> gave different values of the Lempel-Ziv complexity from 3 functions (</span><span class="si">{}</span><span class="s2">, </span><span class="si">{}</span><span class="s2">, </span><span class="si">{}</span><span class="s2">)...&quot;</span><span class="o">.</span><span class="n">format</span><span class="p">(</span><span class="n">s</span><span class="p">,</span> <span class="n">c1</span><span class="p">,</span> <span class="n">c2</span><span class="p">,</span> <span class="n">c3</span><span class="p">)</span>
    <span class="k">return</span> <span class="n">c1</span>
</pre></div>

    </div>
</div>
</div>

</div>
<div class="cell border-box-sizing code_cell rendered">
<div class="input">
<div class="prompt input_prompt">In&nbsp;[30]:</div>
<div class="inner_cell">
    <div class="input_area">
<div class=" highlight hl-ipython3"><pre><span></span><span class="n">tests_3_functions</span><span class="p">(</span><span class="mi">5</span><span class="p">)</span>
</pre></div>

    </div>
</div>
</div>

<div class="output_wrapper">
<div class="output">


<div class="output_area">

    <div class="prompt"></div>


<div class="output_subarea output_stream output_stdout output_text">
<pre>Sequence s = 11010 ==&gt; complexity C = 3
</pre>
</div>
</div>

<div class="output_area">

    <div class="prompt output_prompt">Out[30]:</div>




<div class="output_text output_subarea output_execute_result">
<pre>3</pre>
</div>

</div>

</div>
</div>

</div>
<div class="cell border-box-sizing code_cell rendered">
<div class="input">
<div class="prompt input_prompt">In&nbsp;[31]:</div>
<div class="inner_cell">
    <div class="input_area">
<div class=" highlight hl-ipython3"><pre><span></span><span class="n">tests_3_functions</span><span class="p">(</span><span class="mi">20</span><span class="p">)</span>
</pre></div>

    </div>
</div>
</div>

<div class="output_wrapper">
<div class="output">


<div class="output_area">

    <div class="prompt"></div>


<div class="output_subarea output_stream output_stdout output_text">
<pre>Sequence s = 00011000000010010111 ==&gt; complexity C = 6
</pre>
</div>
</div>

<div class="output_area">

    <div class="prompt output_prompt">Out[31]:</div>




<div class="output_text output_subarea output_execute_result">
<pre>6</pre>
</div>

</div>

</div>
</div>

</div>
<div class="cell border-box-sizing code_cell rendered">
<div class="input">
<div class="prompt input_prompt">In&nbsp;[32]:</div>
<div class="inner_cell">
    <div class="input_area">
<div class=" highlight hl-ipython3"><pre><span></span><span class="n">tests_3_functions</span><span class="p">(</span><span class="mi">50</span><span class="p">)</span>
</pre></div>

    </div>
</div>
</div>

<div class="output_wrapper">
<div class="output">


<div class="output_area">

    <div class="prompt"></div>


<div class="output_subarea output_stream output_stdout output_text">
<pre>Sequence s = 00111111110000010000100011000010001100110001001101 ==&gt; complexity C = 8
</pre>
</div>
</div>

<div class="output_area">

    <div class="prompt output_prompt">Out[32]:</div>




<div class="output_text output_subarea output_execute_result">
<pre>8</pre>
</div>

</div>

</div>
</div>

</div>
<div class="cell border-box-sizing code_cell rendered">
<div class="input">
<div class="prompt input_prompt">In&nbsp;[33]:</div>
<div class="inner_cell">
    <div class="input_area">
<div class=" highlight hl-ipython3"><pre><span></span><span class="n">tests_3_functions</span><span class="p">(</span><span class="mi">500</span><span class="p">)</span>
</pre></div>

    </div>
</div>
</div>

<div class="output_wrapper">
<div class="output">


<div class="output_area">

    <div class="prompt"></div>


<div class="output_subarea output_stream output_stdout output_text">
<pre>Sequence s = 01011110110110010010101101110000101110100011011101100101001000001100111000011000101000000010010010010100101101101010111010001100011000100111111101101111000010001111001110010000001100011011111001001011101110001000111101100110100111011010101000010100011000010001101101000101111101001011111001100111001010100010010001111000101100110000100000010100111111000110110011110101000100110101000011001010111010101111101100111010101011110001100001111111000100100000001000100100101011010111011001101110110111111110 ==&gt; complexity C = 60
</pre>
</div>
</div>

<div class="output_area">

    <div class="prompt output_prompt">Out[33]:</div>




<div class="output_text output_subarea output_execute_result">
<pre>60</pre>
</div>

</div>

</div>
</div>

</div>
<div class="cell border-box-sizing code_cell rendered">
<div class="input">
<div class="prompt input_prompt">In&nbsp;[34]:</div>
<div class="inner_cell">
    <div class="input_area">
<div class=" highlight hl-ipython3"><pre><span></span><span class="n">tests_3_functions</span><span class="p">(</span><span class="mi">5000</span><span class="p">)</span>
</pre></div>

    </div>
</div>
</div>

<div class="output_wrapper">
<div class="output">


<div class="output_area">

    <div class="prompt"></div>


<div class="output_subarea output_stream output_stdout output_text">
<pre>Sequence s = 00001100000110000110100011111111010111110000010110100111111000000111011011000001011101101101011100101110010001010000011011110100001011001011000101100001000000110100110011111100010111000101000011100010010100011110011110011101011101110011110001110110100100111110010010110010100100100101001010110100111111000010011110101011110001010010000110101000000111001010101000101001101000111100001100101111010010001011111111110001111001100011010011101011001111110110011101100011001000001000110101001010000000101011111101010110111110000000001000111000000011110101001110101011111100000101011111000100000000110110011011011111001111101000110001011111011010011100100110010001011011001001100111000001100111101011000010100010111100010000111001111001100001010001010010100110101111001010011010110001100001100011110011101101000110000010010010111110101011000000101110110011100110110011111111010011001101011101010001110001000001000000001111010000000010000101011001111001101110100110000100110000010010011110111001001111110100101000010101001101011111111010010110011000011001101001110010100010111100001011001000011000001000011111001000011110001010111111111100000000110101110110001100010111100101100010001001101010101000110010100101010100001111010001001001111010100010101101101110010110011001010110101111010011000100011110001110011000001000010010000000000001000001011010100010111001001000101000001101100100011100011110011010010010110011000101110011110000010000100110100100000011011100110111101110110101110010111000011110100110001011010111000111001110101110001100000111011100011100000010000101010110010011000000001111100101010101110100111111101011001100101111000011101111010101001000111001110100100011110000110001110100010101001100101010000101101000010110010000011100000111001111101110100010011010111101000010100011011100111001110000001000011110111001110100110010110000010011111101000011101010000001011101011111100110111010111000101110010011110110110000000110110000110010000011110000111000101001001101011101101101010011010100101000011101010110011100000110100010001101110101001011111110100101010011111110100111000110010111010100000100101001010100000000000000101001111111001010010111011000000001100111111011011100100011011100010101000111000000100101100000110111100101100100110010001000000111000010011100001010111010001011111111011101010101101101000100010110101110001110100101001111101111101100110100101100110111001011011110011110100010100010110101110110000111000100000010101011100101010101100001011100101000100110100110010100101100010010010100010100110001010101001011001100001001111110000101000000111110001101010110001000000111111111101100001101011011000110000010111111101111010001100111011100111001100010110111010110011011100111101110010100011011011000001011111111001000001010001010001100011010101011100010000101111111101000100110110110001110111100011011101010100101010100111011111111001001000000001010001100100111111000111010110111100101001101100001100101101000001111010110000010101000010101000110110001100101010110111110111110110110101101000010101000001111101100001100010111111111001101111000111110100111001010111111110000111111100100110010000101011111010100001001101010101010111111110100010010010101000100011100101011101100001010011100011101111111100000100100111101011011000110010011111110000011010011000111110110110110000111010101101100101101100010100101011010001110111011111100010011011100110000000011111011010001101110110000110001101011111110011011110001111100111011001100011111010010000111000000110001101010101011010000110110011111010101111101001100000000110001111010110110001111111010100001100101000011011101010111000010110110010100001010011010010101011011100001010101011100111011110001100110101000011001000010100111000100110001000110111100010100110111011111101110011000100000011100010011001010001110010011011111110111100000111001010110000011011010011010011000000111100011101101110110101010010001111100100011100001101011001010101001100101101101011010011001011001100100011010001011000101011000011000101010110000110000011111111101000001100011100111110110001000111000111111011111110101000001100001100010111001101011100001010011000001110100010011001001101101111010100100001010011110100110001000001010010110111110001011101000000110011111001110011011011100111000101010101010011100100001000011001100001101100011100110101010010011110101110000111000001111010100011111100011101000010101111010001101100010111111110110000101010111000000101111001001111110011110001110111101000010010001101000001011100010000011000000011101010100000101001001100101001001001001001111111101100111001110110001000001100001010011001001110111111101111100011100011101001000000100000010111101001101001100010101001110100101000010110101011100011111100001100110111010111111110010001000011000101110111110010100011111111001001011110010101111101110111101000000001111010000010001100011011010001101110010110111011000110110111100111111011001000101101011000101110010011010010111001000101000111010101000000010111111010011001110010110001010001111011110001101001100000110000001 ==&gt; complexity C = 420
</pre>
</div>
</div>

<div class="output_area">

    <div class="prompt output_prompt">Out[34]:</div>




<div class="output_text output_subarea output_execute_result">
<pre>420</pre>
</div>

</div>

</div>
</div>

</div>
<div class="cell border-box-sizing text_cell rendered"><div class="prompt input_prompt">
</div><div class="inner_cell">
<div class="text_cell_render border-box-sizing rendered_html">
<hr>
<h2 id="Benchmarks">Benchmarks<a class="anchor-link" href="#Benchmarks">&#182;</a></h2><p>On two example of strings (binary sequences), we can compare our three implementation.</p>

</div>
</div>
</div>
<div class="cell border-box-sizing code_cell rendered">
<div class="input">
<div class="prompt input_prompt">In&nbsp;[102]:</div>
<div class="inner_cell">
    <div class="input_area">
<div class=" highlight hl-ipython3"><pre><span></span><span class="o">%</span><span class="k">timeit</span> lempel_ziv_complexity(&#39;100111101100001000001010&#39;)
<span class="o">%</span><span class="k">timeit</span> lempel_ziv_complexity_cython(&#39;100111101100001000001010&#39;)
<span class="o">%</span><span class="k">timeit</span> lempel_ziv_complexity_numba(&#39;100111101100001000001010&#39;)
</pre></div>

    </div>
</div>
</div>

<div class="output_wrapper">
<div class="output">


<div class="output_area">

    <div class="prompt"></div>


<div class="output_subarea output_stream output_stdout output_text">
<pre>16.7 µs ± 471 ns per loop (mean ± std. dev. of 7 runs, 100000 loops each)
249 ns ± 6.71 ns per loop (mean ± std. dev. of 7 runs, 1000000 loops each)
7.98 µs ± 236 ns per loop (mean ± std. dev. of 7 runs, 100000 loops each)
</pre>
</div>
</div>

</div>
</div>

</div>
<div class="cell border-box-sizing code_cell rendered">
<div class="input">
<div class="prompt input_prompt">In&nbsp;[103]:</div>
<div class="inner_cell">
    <div class="input_area">
<div class=" highlight hl-ipython3"><pre><span></span><span class="o">%</span><span class="k">timeit</span> lempel_ziv_complexity(&#39;10011110110000100000101000100100101010010111111011001111111110101001010110101010&#39;)
<span class="o">%</span><span class="k">timeit</span> lempel_ziv_complexity_cython(&#39;10011110110000100000101000100100101010010111111011001111111110101001010110101010&#39;)
<span class="o">%</span><span class="k">timeit</span> lempel_ziv_complexity_numba(&#39;10011110110000100000101000100100101010010111111011001111111110101001010110101010&#39;)
</pre></div>

    </div>
</div>
</div>

<div class="output_wrapper">
<div class="output">


<div class="output_area">

    <div class="prompt"></div>


<div class="output_subarea output_stream output_stdout output_text">
<pre>139 µs ± 4.33 µs per loop (mean ± std. dev. of 7 runs, 10000 loops each)
1.94 µs ± 83.4 ns per loop (mean ± std. dev. of 7 runs, 1000000 loops each)
22 µs ± 364 ns per loop (mean ± std. dev. of 7 runs, 10000 loops each)
</pre>
</div>
</div>

</div>
</div>

</div>
<div class="cell border-box-sizing text_cell rendered"><div class="prompt input_prompt">
</div><div class="inner_cell">
<div class="text_cell_render border-box-sizing rendered_html">
<p>Let check the time used by all the three functions, for longer and longer sequences:</p>

</div>
</div>
</div>
<div class="cell border-box-sizing code_cell rendered">
<div class="input">
<div class="prompt input_prompt">In&nbsp;[104]:</div>
<div class="inner_cell">
    <div class="input_area">
<div class=" highlight hl-ipython3"><pre><span></span><span class="o">%</span><span class="k">timeit</span> tests_3_functions(10, debug=False)
<span class="o">%</span><span class="k">timeit</span> tests_3_functions(20, debug=False)
<span class="o">%</span><span class="k">timeit</span> tests_3_functions(40, debug=False)
<span class="o">%</span><span class="k">timeit</span> tests_3_functions(80, debug=False)
<span class="o">%</span><span class="k">timeit</span> tests_3_functions(160, debug=False)
<span class="o">%</span><span class="k">timeit</span> tests_3_functions(320, debug=False)
</pre></div>

    </div>
</div>
</div>

<div class="output_wrapper">
<div class="output">


<div class="output_area">

    <div class="prompt"></div>


<div class="output_subarea output_stream output_stdout output_text">
<pre>28.2 µs ± 2 µs per loop (mean ± std. dev. of 7 runs, 10000 loops each)
52.3 µs ± 2.75 µs per loop (mean ± std. dev. of 7 runs, 10000 loops each)
108 µs ± 1.42 µs per loop (mean ± std. dev. of 7 runs, 10000 loops each)
359 µs ± 91.7 µs per loop (mean ± std. dev. of 7 runs, 1000 loops each)
862 µs ± 64.2 µs per loop (mean ± std. dev. of 7 runs, 1000 loops each)
3.16 ms ± 299 µs per loop (mean ± std. dev. of 7 runs, 100 loops each)
</pre>
</div>
</div>

</div>
</div>

</div>
<div class="cell border-box-sizing code_cell rendered">
<div class="input">
<div class="prompt input_prompt">In&nbsp;[105]:</div>
<div class="inner_cell">
    <div class="input_area">
<div class=" highlight hl-ipython3"><pre><span></span><span class="k">def</span> <span class="nf">test_cython</span><span class="p">(</span><span class="n">n</span><span class="p">):</span>
    <span class="n">s</span> <span class="o">=</span> <span class="n">random_binary_sequence</span><span class="p">(</span><span class="n">n</span><span class="p">)</span>
    <span class="n">c</span> <span class="o">=</span> <span class="n">lempel_ziv_complexity_cython</span><span class="p">(</span><span class="n">s</span><span class="p">)</span>
    <span class="k">return</span> <span class="n">c</span>
</pre></div>

    </div>
</div>
</div>

</div>
<div class="cell border-box-sizing code_cell rendered">
<div class="input">
<div class="prompt input_prompt">In&nbsp;[39]:</div>
<div class="inner_cell">
    <div class="input_area">
<div class=" highlight hl-ipython3"><pre><span></span><span class="o">%</span><span class="k">timeit</span> test_cython(10)
<span class="o">%</span><span class="k">timeit</span> test_cython(20)
<span class="o">%</span><span class="k">timeit</span> test_cython(40)
<span class="o">%</span><span class="k">timeit</span> test_cython(80)
<span class="o">%</span><span class="k">timeit</span> test_cython(160)
<span class="o">%</span><span class="k">timeit</span> test_cython(320)
</pre></div>

    </div>
</div>
</div>

<div class="output_wrapper">
<div class="output">


<div class="output_area">

    <div class="prompt"></div>


<div class="output_subarea output_stream output_stdout output_text">
<pre>17.1 µs ± 490 ns per loop (mean ± std. dev. of 7 runs, 10000 loops each)
28.8 µs ± 959 ns per loop (mean ± std. dev. of 7 runs, 10000 loops each)
62.4 µs ± 6.77 µs per loop (mean ± std. dev. of 7 runs, 10000 loops each)
125 µs ± 7.15 µs per loop (mean ± std. dev. of 7 runs, 10000 loops each)
216 µs ± 13.8 µs per loop (mean ± std. dev. of 7 runs, 1000 loops each)
459 µs ± 16.7 µs per loop (mean ± std. dev. of 7 runs, 1000 loops each)
</pre>
</div>
</div>

</div>
</div>

</div>
<div class="cell border-box-sizing code_cell rendered">
<div class="input">
<div class="prompt input_prompt">In&nbsp;[40]:</div>
<div class="inner_cell">
    <div class="input_area">
<div class=" highlight hl-ipython3"><pre><span></span><span class="o">%</span><span class="k">timeit</span> test_cython(640)
<span class="o">%</span><span class="k">timeit</span> test_cython(1280)
<span class="o">%</span><span class="k">timeit</span> test_cython(2560)
<span class="o">%</span><span class="k">timeit</span> test_cython(5120)
</pre></div>

    </div>
</div>
</div>

<div class="output_wrapper">
<div class="output">


<div class="output_area">

    <div class="prompt"></div>


<div class="output_subarea output_stream output_stdout output_text">
<pre>1.18 ms ± 214 µs per loop (mean ± std. dev. of 7 runs, 1000 loops each)
2.38 ms ± 144 µs per loop (mean ± std. dev. of 7 runs, 100 loops each)
5.93 ms ± 71.1 µs per loop (mean ± std. dev. of 7 runs, 100 loops each)
17.1 ms ± 168 µs per loop (mean ± std. dev. of 7 runs, 100 loops each)
</pre>
</div>
</div>

</div>
</div>

</div>
<div class="cell border-box-sizing code_cell rendered">
<div class="input">
<div class="prompt input_prompt">In&nbsp;[41]:</div>
<div class="inner_cell">
    <div class="input_area">
<div class=" highlight hl-ipython3"><pre><span></span><span class="o">%</span><span class="k">timeit</span> test_cython(10240)
<span class="o">%</span><span class="k">timeit</span> test_cython(20480)
</pre></div>

    </div>
</div>
</div>

<div class="output_wrapper">
<div class="output">


<div class="output_area">

    <div class="prompt"></div>


<div class="output_subarea output_stream output_stdout output_text">
<pre>52.1 ms ± 584 µs per loop (mean ± std. dev. of 7 runs, 10 loops each)
178 ms ± 6.03 ms per loop (mean ± std. dev. of 7 runs, 10 loops each)
</pre>
</div>
</div>

</div>
</div>

</div>
<div class="cell border-box-sizing text_cell rendered"><div class="prompt input_prompt">
</div><div class="inner_cell">
<div class="text_cell_render border-box-sizing rendered_html">
<hr>
<h2 id="Complexity-?">Complexity ?<a class="anchor-link" href="#Complexity-?">&#182;</a></h2><p>$\implies$ The function <code>lempel_ziv_complexity_cython</code> seems to be indeed (almost) linear in $n$, the length of the binary sequence $S$.</p>
<p>But let check more precisely, as it could also have a complexity of $\mathcal{O}(n \log n)$.</p>

</div>
</div>
</div>
<div class="cell border-box-sizing code_cell rendered">
<div class="input">
<div class="prompt input_prompt">In&nbsp;[42]:</div>
<div class="inner_cell">
    <div class="input_area">
<div class=" highlight hl-ipython3"><pre><span></span><span class="kn">import</span> <span class="nn">matplotlib.pyplot</span> <span class="k">as</span> <span class="nn">plt</span>
<span class="kn">import</span> <span class="nn">seaborn</span> <span class="k">as</span> <span class="nn">sns</span>
<span class="o">%</span><span class="k">matplotlib</span> inline
<span class="n">sns</span><span class="o">.</span><span class="n">set</span><span class="p">(</span><span class="n">context</span><span class="o">=</span><span class="s2">&quot;notebook&quot;</span><span class="p">,</span> <span class="n">style</span><span class="o">=</span><span class="s2">&quot;darkgrid&quot;</span><span class="p">,</span> <span class="n">palette</span><span class="o">=</span><span class="s2">&quot;hls&quot;</span><span class="p">,</span> <span class="n">font</span><span class="o">=</span><span class="s2">&quot;sans-serif&quot;</span><span class="p">,</span> <span class="n">font_scale</span><span class="o">=</span><span class="mf">1.4</span><span class="p">)</span>
</pre></div>

    </div>
</div>
</div>

</div>
<div class="cell border-box-sizing text_cell rendered"><div class="prompt input_prompt">
</div><div class="inner_cell">
<div class="text_cell_render border-box-sizing rendered_html">
<p>It's durty, but let us capture manually the times given by the experiments above.</p>

</div>
</div>
</div>
<div class="cell border-box-sizing code_cell rendered">
<div class="input">
<div class="prompt input_prompt">In&nbsp;[43]:</div>
<div class="inner_cell">
    <div class="input_area">
<div class=" highlight hl-ipython3"><pre><span></span><span class="n">x</span> <span class="o">=</span> <span class="p">[</span><span class="mi">10</span><span class="p">,</span> <span class="mi">20</span><span class="p">,</span> <span class="mi">40</span><span class="p">,</span> <span class="mi">80</span><span class="p">,</span> <span class="mi">160</span><span class="p">,</span> <span class="mi">320</span><span class="p">,</span> <span class="mi">640</span><span class="p">,</span> <span class="mi">1280</span><span class="p">,</span> <span class="mi">2560</span><span class="p">,</span> <span class="mi">5120</span><span class="p">,</span> <span class="mi">10240</span><span class="p">,</span> <span class="mi">20480</span><span class="p">]</span>
<span class="n">y</span> <span class="o">=</span> <span class="p">[</span><span class="mi">18</span><span class="p">,</span> <span class="mi">30</span><span class="p">,</span> <span class="mi">55</span><span class="p">,</span> <span class="mi">107</span><span class="p">,</span> <span class="mi">205</span><span class="p">,</span> <span class="mi">471</span><span class="p">,</span> <span class="mi">977</span><span class="p">,</span> <span class="mi">2270</span><span class="p">,</span> <span class="mi">5970</span><span class="p">,</span> <span class="mi">17300</span><span class="p">,</span> <span class="mi">56600</span><span class="p">,</span> <span class="mi">185000</span><span class="p">]</span>
</pre></div>

    </div>
</div>
</div>

</div>
<div class="cell border-box-sizing code_cell rendered">
<div class="input">
<div class="prompt input_prompt">In&nbsp;[44]:</div>
<div class="inner_cell">
    <div class="input_area">
<div class=" highlight hl-ipython3"><pre><span></span><span class="n">plt</span><span class="o">.</span><span class="n">figure</span><span class="p">()</span>
<span class="n">plt</span><span class="o">.</span><span class="n">plot</span><span class="p">(</span><span class="n">x</span><span class="p">,</span> <span class="n">y</span><span class="p">,</span> <span class="s1">&#39;o-&#39;</span><span class="p">)</span>
<span class="n">plt</span><span class="o">.</span><span class="n">xlabel</span><span class="p">(</span><span class="s2">&quot;Length $n$ of the binary sequence $S$&quot;</span><span class="p">)</span>
<span class="n">plt</span><span class="o">.</span><span class="n">ylabel</span><span class="p">(</span><span class="sa">r</span><span class="s2">&quot;Time in $\mu\;\mathrm</span><span class="si">{s}</span><span class="s2">$&quot;</span><span class="p">)</span>
<span class="n">plt</span><span class="o">.</span><span class="n">title</span><span class="p">(</span><span class="s2">&quot;Time complexity of Lempel-Ziv complexity&quot;</span><span class="p">)</span>
<span class="n">plt</span><span class="o">.</span><span class="n">show</span><span class="p">()</span>
</pre></div>

    </div>
</div>
</div>

<div class="output_wrapper">
<div class="output">


<div class="output_area">

    <div class="prompt output_prompt">Out[44]:</div>




<div class="output_text output_subarea output_execute_result">
<pre>&lt;matplotlib.figure.Figure at 0x7f54a1380f60&gt;</pre>
</div>

</div>

<div class="output_area">

    <div class="prompt output_prompt">Out[44]:</div>




<div class="output_text output_subarea output_execute_result">
<pre>[&lt;matplotlib.lines.Line2D at 0x7f54a0e2b550&gt;]</pre>
</div>

</div>

<div class="output_area">

    <div class="prompt output_prompt">Out[44]:</div>




<div class="output_text output_subarea output_execute_result">
<pre>&lt;matplotlib.text.Text at 0x7f54a0ec7240&gt;</pre>
</div>

</div>

<div class="output_area">

    <div class="prompt output_prompt">Out[44]:</div>




<div class="output_text output_subarea output_execute_result">
<pre>&lt;matplotlib.text.Text at 0x7f54a0e5f0b8&gt;</pre>
</div>

</div>

<div class="output_area">

    <div class="prompt output_prompt">Out[44]:</div>




<div class="output_text output_subarea output_execute_result">
<pre>&lt;matplotlib.text.Text at 0x7f54a0e82f60&gt;</pre>
</div>

</div>

<div class="output_area">

    <div class="prompt"></div>




<div class="output_png output_subarea ">
<img src="data:image/png;base64,iVBORw0KGgoAAAANSUhEUgAAAhgAAAF3CAYAAADnzjICAAAABHNCSVQICAgIfAhkiAAAAAlwSFlz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"
>
</div>

</div>

</div>
</div>

</div>
<div class="cell border-box-sizing code_cell rendered">
<div class="input">
<div class="prompt input_prompt">In&nbsp;[45]:</div>
<div class="inner_cell">
    <div class="input_area">
<div class=" highlight hl-ipython3"><pre><span></span><span class="n">plt</span><span class="o">.</span><span class="n">figure</span><span class="p">()</span>
<span class="n">plt</span><span class="o">.</span><span class="n">semilogx</span><span class="p">(</span><span class="n">x</span><span class="p">,</span> <span class="n">y</span><span class="p">,</span> <span class="s1">&#39;o-&#39;</span><span class="p">)</span>
<span class="n">plt</span><span class="o">.</span><span class="n">xlabel</span><span class="p">(</span><span class="s2">&quot;Length $n$ of the binary sequence $S$&quot;</span><span class="p">)</span>
<span class="n">plt</span><span class="o">.</span><span class="n">ylabel</span><span class="p">(</span><span class="sa">r</span><span class="s2">&quot;Time in $\mu\;\mathrm</span><span class="si">{s}</span><span class="s2">$&quot;</span><span class="p">)</span>
<span class="n">plt</span><span class="o">.</span><span class="n">title</span><span class="p">(</span><span class="s2">&quot;Time complexity of Lempel-Ziv complexity, semilogx scale&quot;</span><span class="p">)</span>
<span class="n">plt</span><span class="o">.</span><span class="n">show</span><span class="p">()</span>
</pre></div>

    </div>
</div>
</div>

<div class="output_wrapper">
<div class="output">


<div class="output_area">

    <div class="prompt output_prompt">Out[45]:</div>




<div class="output_text output_subarea output_execute_result">
<pre>&lt;matplotlib.figure.Figure at 0x7f549d598400&gt;</pre>
</div>

</div>

<div class="output_area">

    <div class="prompt output_prompt">Out[45]:</div>




<div class="output_text output_subarea output_execute_result">
<pre>[&lt;matplotlib.lines.Line2D at 0x7f549d539470&gt;]</pre>
</div>

</div>

<div class="output_area">

    <div class="prompt output_prompt">Out[45]:</div>




<div class="output_text output_subarea output_execute_result">
<pre>&lt;matplotlib.text.Text at 0x7f549d5741d0&gt;</pre>
</div>

</div>

<div class="output_area">

    <div class="prompt output_prompt">Out[45]:</div>




<div class="output_text output_subarea output_execute_result">
<pre>&lt;matplotlib.text.Text at 0x7f54a0dfc860&gt;</pre>
</div>

</div>

<div class="output_area">

    <div class="prompt output_prompt">Out[45]:</div>




<div class="output_text output_subarea output_execute_result">
<pre>&lt;matplotlib.text.Text at 0x7f549d54a358&gt;</pre>
</div>

</div>

<div class="output_area">

    <div class="prompt"></div>




<div class="output_png output_subarea ">
<img src="data:image/png;base64,iVBORw0KGgoAAAANSUhEUgAAAhgAAAF7CAYAAACQDPJ5AAAABHNCSVQICAgIfAhkiAAAAAlwSFlz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"
>
</div>

</div>

</div>
</div>

</div>
<div class="cell border-box-sizing code_cell rendered">
<div class="input">
<div class="prompt input_prompt">In&nbsp;[46]:</div>
<div class="inner_cell">
    <div class="input_area">
<div class=" highlight hl-ipython3"><pre><span></span><span class="n">plt</span><span class="o">.</span><span class="n">figure</span><span class="p">()</span>
<span class="n">plt</span><span class="o">.</span><span class="n">semilogy</span><span class="p">(</span><span class="n">x</span><span class="p">,</span> <span class="n">y</span><span class="p">,</span> <span class="s1">&#39;o-&#39;</span><span class="p">)</span>
<span class="n">plt</span><span class="o">.</span><span class="n">xlabel</span><span class="p">(</span><span class="s2">&quot;Length $n$ of the binary sequence $S$&quot;</span><span class="p">)</span>
<span class="n">plt</span><span class="o">.</span><span class="n">ylabel</span><span class="p">(</span><span class="sa">r</span><span class="s2">&quot;Time in $\mu\;\mathrm</span><span class="si">{s}</span><span class="s2">$&quot;</span><span class="p">)</span>
<span class="n">plt</span><span class="o">.</span><span class="n">title</span><span class="p">(</span><span class="s2">&quot;Time complexity of Lempel-Ziv complexity, semilogy scale&quot;</span><span class="p">)</span>
<span class="n">plt</span><span class="o">.</span><span class="n">show</span><span class="p">()</span>
</pre></div>

    </div>
</div>
</div>

<div class="output_wrapper">
<div class="output">


<div class="output_area">

    <div class="prompt output_prompt">Out[46]:</div>




<div class="output_text output_subarea output_execute_result">
<pre>&lt;matplotlib.figure.Figure at 0x7f549d4b7198&gt;</pre>
</div>

</div>

<div class="output_area">

    <div class="prompt output_prompt">Out[46]:</div>




<div class="output_text output_subarea output_execute_result">
<pre>[&lt;matplotlib.lines.Line2D at 0x7f549d552470&gt;]</pre>
</div>

</div>

<div class="output_area">

    <div class="prompt output_prompt">Out[46]:</div>




<div class="output_text output_subarea output_execute_result">
<pre>&lt;matplotlib.text.Text at 0x7f549d4cf240&gt;</pre>
</div>

</div>

<div class="output_area">

    <div class="prompt output_prompt">Out[46]:</div>




<div class="output_text output_subarea output_execute_result">
<pre>&lt;matplotlib.text.Text at 0x7f549d4ab160&gt;</pre>
</div>

</div>

<div class="output_area">

    <div class="prompt output_prompt">Out[46]:</div>




<div class="output_text output_subarea output_execute_result">
<pre>&lt;matplotlib.text.Text at 0x7f549d552278&gt;</pre>
</div>

</div>

<div class="output_area">

    <div class="prompt"></div>




<div class="output_png output_subarea ">
<img src="data:image/png;base64,iVBORw0KGgoAAAANSUhEUgAAAgAAAAF3CAYAAADTt/MeAAAABHNCSVQICAgIfAhkiAAAAAlwSFlz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"
>
</div>

</div>

</div>
</div>

</div>
<div class="cell border-box-sizing code_cell rendered">
<div class="input">
<div class="prompt input_prompt">In&nbsp;[47]:</div>
<div class="inner_cell">
    <div class="input_area">
<div class=" highlight hl-ipython3"><pre><span></span><span class="n">plt</span><span class="o">.</span><span class="n">figure</span><span class="p">()</span>
<span class="n">plt</span><span class="o">.</span><span class="n">loglog</span><span class="p">(</span><span class="n">x</span><span class="p">,</span> <span class="n">y</span><span class="p">,</span> <span class="s1">&#39;o-&#39;</span><span class="p">)</span>
<span class="n">plt</span><span class="o">.</span><span class="n">xlabel</span><span class="p">(</span><span class="s2">&quot;Length $n$ of the binary sequence $S$&quot;</span><span class="p">)</span>
<span class="n">plt</span><span class="o">.</span><span class="n">ylabel</span><span class="p">(</span><span class="sa">r</span><span class="s2">&quot;Time in $\mu\;\mathrm</span><span class="si">{s}</span><span class="s2">$&quot;</span><span class="p">)</span>
<span class="n">plt</span><span class="o">.</span><span class="n">title</span><span class="p">(</span><span class="s2">&quot;Time complexity of Lempel-Ziv complexity, loglog scale&quot;</span><span class="p">)</span>
<span class="n">plt</span><span class="o">.</span><span class="n">show</span><span class="p">()</span>
</pre></div>

    </div>
</div>
</div>

<div class="output_wrapper">
<div class="output">


<div class="output_area">

    <div class="prompt output_prompt">Out[47]:</div>




<div class="output_text output_subarea output_execute_result">
<pre>&lt;matplotlib.figure.Figure at 0x7f549d53f358&gt;</pre>
</div>

</div>

<div class="output_area">

    <div class="prompt output_prompt">Out[47]:</div>




<div class="output_text output_subarea output_execute_result">
<pre>[&lt;matplotlib.lines.Line2D at 0x7f549d29bcf8&gt;]</pre>
</div>

</div>

<div class="output_area">

    <div class="prompt output_prompt">Out[47]:</div>




<div class="output_text output_subarea output_execute_result">
<pre>&lt;matplotlib.text.Text at 0x7f549d326e10&gt;</pre>
</div>

</div>

<div class="output_area">

    <div class="prompt output_prompt">Out[47]:</div>




<div class="output_text output_subarea output_execute_result">
<pre>&lt;matplotlib.text.Text at 0x7f549d3180b8&gt;</pre>
</div>

</div>

<div class="output_area">

    <div class="prompt output_prompt">Out[47]:</div>




<div class="output_text output_subarea output_execute_result">
<pre>&lt;matplotlib.text.Text at 0x7f549d2abac8&gt;</pre>
</div>

</div>

<div class="output_area">

    <div class="prompt"></div>




<div class="output_png output_subarea ">
<img src="data:image/png;base64,iVBORw0KGgoAAAANSUhEUgAAAgAAAAF7CAYAAACkdTNlAAAABHNCSVQICAgIfAhkiAAAAAlwSFlz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"
>
</div>

</div>

</div>
</div>

</div>
<div class="cell border-box-sizing text_cell rendered"><div class="prompt input_prompt">
</div><div class="inner_cell">
<div class="text_cell_render border-box-sizing rendered_html">
<p>It is linear in $\log\log$ scale, so indeed the algorithm seems to have a linear complexity.</p>
<p>To sum-up, for a sequence $S$ of length $n$, it takes $\mathcal{O}(n)$ basic operations to compute its Lempel-Ziv complexity $\mathrm{Lempel}-\mathrm{Ziv}(S)$.</p>

</div>
</div>
</div>
<div class="cell border-box-sizing text_cell rendered"><div class="prompt input_prompt">
</div><div class="inner_cell">
<div class="text_cell_render border-box-sizing rendered_html">
<hr>
<h2 id="Conclusion">Conclusion<a class="anchor-link" href="#Conclusion">&#182;</a></h2><ul>
<li><p>The Lempel-Ziv complexity is not too hard to implement, and it indeed represents a certain complexity of a binary sequence, capturing the regularity and reproducibility of the sequence.</p>
</li>
<li><p>Using the <a href="http://Cython.org/">Cython</a> was quite useful to have a $\simeq \times 100$ speed up on our manual naive implementation !</p>
</li>
<li><p>The algorithm is not easy to analyze, we have a trivial $\mathcal{O}(n^2)$ bound but experiments showed it is more likely to be $\mathcal{O}(n \log n)$ in the worst case, and $\mathcal{O}(n)$ in practice for "not too complicated sequences" (or in average, for random sequences).</p>
</li>
</ul>

</div>
</div>
</div>
<div class="cell border-box-sizing text_cell rendered"><div class="prompt input_prompt">
</div><div class="inner_cell">
<div class="text_cell_render border-box-sizing rendered_html">
<hr>
<h2 id="(Experimental)-Julia-implementation">(Experimental) <a href="http://julialang.org">Julia</a> implementation<a class="anchor-link" href="#(Experimental)-Julia-implementation">&#182;</a></h2><p>I want to (quickly) try to see if I can use <a href="http://julialang.org">Julia</a> to write a faster version of this function.
See <a href="https://github.com/Naereen/Lempel-Ziv_Complexity/issues/1">issue #1</a>.</p>
<p><strong>Disclaimer:</strong> I am still learning Julia!</p>

</div>
</div>
</div>
<div class="cell border-box-sizing code_cell rendered">
<div class="input">
<div class="prompt input_prompt">In&nbsp;[16]:</div>
<div class="inner_cell">
    <div class="input_area">
<div class=" highlight hl-ipython3"><pre><span></span><span class="o">%%time</span>
<span class="o">%%</span><span class="n">script</span> <span class="n">julia</span>

<span class="sd">&quot;&quot;&quot;Lempel-Ziv complexity for a binary sequence, in simple Julia code.&quot;&quot;&quot;</span>
<span class="n">function</span> <span class="n">lempel_ziv_complexity</span><span class="p">(</span><span class="n">binary_sequence</span><span class="p">)</span>
    <span class="n">u</span><span class="p">,</span> <span class="n">v</span><span class="p">,</span> <span class="n">w</span> <span class="o">=</span> <span class="mi">0</span><span class="p">,</span> <span class="mi">1</span><span class="p">,</span> <span class="mi">1</span>
    <span class="n">v_max</span> <span class="o">=</span> <span class="mi">1</span>
    <span class="n">size</span> <span class="o">=</span> <span class="n">length</span><span class="p">(</span><span class="n">binary_sequence</span><span class="p">)</span>
    <span class="n">complexity</span> <span class="o">=</span> <span class="mi">1</span>
    <span class="k">while</span> <span class="n">true</span>
        <span class="k">if</span> <span class="n">binary_sequence</span><span class="p">[</span><span class="n">u</span> <span class="o">+</span> <span class="n">v</span><span class="p">]</span> <span class="o">==</span> <span class="n">binary_sequence</span><span class="p">[</span><span class="n">w</span> <span class="o">+</span> <span class="n">v</span><span class="p">]</span>
            <span class="n">v</span> <span class="o">+=</span> <span class="mi">1</span>
            <span class="k">if</span> <span class="n">w</span> <span class="o">+</span> <span class="n">v</span> <span class="o">&gt;=</span> <span class="n">size</span>
                <span class="n">complexity</span> <span class="o">+=</span> <span class="mi">1</span>
                <span class="k">break</span>
            <span class="n">end</span>
        <span class="k">else</span>
            <span class="k">if</span> <span class="n">v</span> <span class="o">&gt;</span> <span class="n">v_max</span>
                <span class="n">v_max</span> <span class="o">=</span> <span class="n">v</span>
            <span class="n">end</span>
            <span class="n">u</span> <span class="o">+=</span> <span class="mi">1</span>
            <span class="k">if</span> <span class="n">u</span> <span class="o">==</span> <span class="n">w</span>
                <span class="n">complexity</span> <span class="o">+=</span> <span class="mi">1</span>
                <span class="n">w</span> <span class="o">+=</span> <span class="n">v_max</span>
                <span class="k">if</span> <span class="n">w</span> <span class="o">&gt;</span> <span class="n">size</span>
                    <span class="k">break</span>
                <span class="k">else</span>
                    <span class="n">u</span> <span class="o">=</span> <span class="mi">0</span>
                    <span class="n">v</span> <span class="o">=</span> <span class="mi">1</span>
                    <span class="n">v_max</span> <span class="o">=</span> <span class="mi">1</span>
                <span class="n">end</span>
            <span class="k">else</span>
                <span class="n">v</span> <span class="o">=</span> <span class="mi">1</span>
            <span class="n">end</span>
        <span class="n">end</span>
    <span class="n">end</span>
    <span class="k">return</span> <span class="n">complexity</span>
<span class="n">end</span>

<span class="n">s</span> <span class="o">=</span> <span class="s2">&quot;1001111011000010&quot;</span>
<span class="n">lempel_ziv_complexity</span><span class="p">(</span><span class="n">s</span><span class="p">)</span>  <span class="c1"># 1 / 0 / 01 / 1110 / 1100 / 0010</span>

<span class="n">M</span> <span class="o">=</span> <span class="mi">100</span><span class="p">;</span>
<span class="n">N</span> <span class="o">=</span> <span class="mi">10000</span><span class="p">;</span>
<span class="k">for</span> <span class="n">_</span> <span class="ow">in</span> <span class="mi">1</span><span class="p">:</span><span class="n">M</span>
    <span class="n">s</span> <span class="o">=</span> <span class="n">join</span><span class="p">(</span><span class="n">rand</span><span class="p">(</span><span class="mi">0</span><span class="p">:</span><span class="mi">1</span><span class="p">,</span> <span class="n">N</span><span class="p">));</span>
    <span class="n">lempel_ziv_complexity</span><span class="p">(</span><span class="n">s</span><span class="p">);</span>
<span class="n">end</span>
<span class="n">lempel_ziv_complexity</span><span class="p">(</span><span class="n">s</span><span class="p">)</span>  <span class="c1"># 1 / 0 / 01 / 1110 / 1100 / 0010</span>
</pre></div>

    </div>
</div>
</div>

<div class="output_wrapper">
<div class="output">


<div class="output_area">

    <div class="prompt"></div>


<div class="output_subarea output_stream output_stdout output_text">
<pre>&#34;Lempel-Ziv complexity for a binary sequence, in simple Julia code.&#34;
lempel_ziv_complexity (generic function with 1 method)
&#34;1001111011000010&#34;
6
100
10000
778
CPU times: user 0 ns, sys: 4 ms, total: 4 ms
Wall time: 4.86 s
</pre>
</div>
</div>

</div>
</div>

</div>
<div class="cell border-box-sizing text_cell rendered"><div class="prompt input_prompt">
</div><div class="inner_cell">
<div class="text_cell_render border-box-sizing rendered_html">
<p>And to compare it fairly, let us use <a href="https://pypy.org">Pypy</a> for comparison.</p>

</div>
</div>
</div>
<div class="cell border-box-sizing code_cell rendered">
<div class="input">
<div class="prompt input_prompt">In&nbsp;[17]:</div>
<div class="inner_cell">
    <div class="input_area">
<div class=" highlight hl-ipython3"><pre><span></span><span class="o">%%time</span>
<span class="o">%%</span><span class="n">pypy</span>

<span class="k">def</span> <span class="nf">lempel_ziv_complexity</span><span class="p">(</span><span class="n">binary_sequence</span><span class="p">):</span>
    <span class="sd">&quot;&quot;&quot;Lempel-Ziv complexity for a binary sequence, in simple Python code.&quot;&quot;&quot;</span>
    <span class="n">u</span><span class="p">,</span> <span class="n">v</span><span class="p">,</span> <span class="n">w</span> <span class="o">=</span> <span class="mi">0</span><span class="p">,</span> <span class="mi">1</span><span class="p">,</span> <span class="mi">1</span>
    <span class="n">v_max</span> <span class="o">=</span> <span class="mi">1</span>
    <span class="n">length</span> <span class="o">=</span> <span class="nb">len</span><span class="p">(</span><span class="n">binary_sequence</span><span class="p">)</span>
    <span class="n">complexity</span> <span class="o">=</span> <span class="mi">1</span>
    <span class="k">while</span> <span class="kc">True</span><span class="p">:</span>
        <span class="k">if</span> <span class="n">binary_sequence</span><span class="p">[</span><span class="n">u</span> <span class="o">+</span> <span class="n">v</span> <span class="o">-</span> <span class="mi">1</span><span class="p">]</span> <span class="o">==</span> <span class="n">binary_sequence</span><span class="p">[</span><span class="n">w</span> <span class="o">+</span> <span class="n">v</span> <span class="o">-</span> <span class="mi">1</span><span class="p">]:</span>
            <span class="n">v</span> <span class="o">+=</span> <span class="mi">1</span>
            <span class="k">if</span> <span class="n">w</span> <span class="o">+</span> <span class="n">v</span> <span class="o">&gt;=</span> <span class="n">length</span><span class="p">:</span>
                <span class="n">complexity</span> <span class="o">+=</span> <span class="mi">1</span>
                <span class="k">break</span>
        <span class="k">else</span><span class="p">:</span>
            <span class="k">if</span> <span class="n">v</span> <span class="o">&gt;</span> <span class="n">v_max</span><span class="p">:</span>
                <span class="n">v_max</span> <span class="o">=</span> <span class="n">v</span>
            <span class="n">u</span> <span class="o">+=</span> <span class="mi">1</span>
            <span class="k">if</span> <span class="n">u</span> <span class="o">==</span> <span class="n">w</span><span class="p">:</span>
                <span class="n">complexity</span> <span class="o">+=</span> <span class="mi">1</span>
                <span class="n">w</span> <span class="o">+=</span> <span class="n">v_max</span>
                <span class="k">if</span> <span class="n">w</span> <span class="o">&gt;</span> <span class="n">length</span><span class="p">:</span>
                    <span class="k">break</span>
                <span class="k">else</span><span class="p">:</span>
                    <span class="n">u</span> <span class="o">=</span> <span class="mi">0</span>
                    <span class="n">v</span> <span class="o">=</span> <span class="mi">1</span>
                    <span class="n">v_max</span> <span class="o">=</span> <span class="mi">1</span>
            <span class="k">else</span><span class="p">:</span>
                <span class="n">v</span> <span class="o">=</span> <span class="mi">1</span>
    <span class="k">return</span> <span class="n">complexity</span>

<span class="n">s</span> <span class="o">=</span> <span class="s2">&quot;1001111011000010&quot;</span>
<span class="n">lempel_ziv_complexity</span><span class="p">(</span><span class="n">s</span><span class="p">)</span>  <span class="c1"># 1 / 0 / 01 / 1110 / 1100 / 0010</span>

<span class="kn">from</span> <span class="nn">random</span> <span class="k">import</span> <span class="n">random</span>

<span class="n">M</span> <span class="o">=</span> <span class="mi">100</span>
<span class="n">N</span> <span class="o">=</span> <span class="mi">10000</span>
<span class="k">for</span> <span class="n">_</span> <span class="ow">in</span> <span class="nb">range</span><span class="p">(</span><span class="n">M</span><span class="p">):</span>
    <span class="n">s</span> <span class="o">=</span> <span class="s1">&#39;&#39;</span><span class="o">.</span><span class="n">join</span><span class="p">(</span><span class="nb">str</span><span class="p">(</span><span class="nb">int</span><span class="p">(</span><span class="n">random</span><span class="p">()</span> <span class="o">&lt;</span> <span class="mf">0.5</span><span class="p">))</span> <span class="k">for</span> <span class="n">_</span> <span class="ow">in</span> <span class="nb">range</span><span class="p">(</span><span class="n">N</span><span class="p">))</span>
    <span class="n">lempel_ziv_complexity</span><span class="p">(</span><span class="n">s</span><span class="p">)</span>
</pre></div>

    </div>
</div>
</div>

<div class="output_wrapper">
<div class="output">


<div class="output_area">

    <div class="prompt"></div>


<div class="output_subarea output_stream output_stdout output_text">
<pre>CPU times: user 4 ms, sys: 0 ns, total: 4 ms
Wall time: 7.89 s
</pre>
</div>
</div>

</div>
</div>

</div>
<div class="cell border-box-sizing text_cell rendered"><div class="prompt input_prompt">
</div><div class="inner_cell">
<div class="text_cell_render border-box-sizing rendered_html">
<p>So we can check that on these 100 random trials on strings of size 10000, the naive Julia version is about twice as fast as the naive Python version (executed by Pypy for speedup).</p>
<p>That's good, but it's not much...</p>

</div>
</div>
</div>
<div class="cell border-box-sizing text_cell rendered"><div class="prompt input_prompt">
</div><div class="inner_cell">
<div class="text_cell_render border-box-sizing rendered_html">
<hr>
<h2 id="Ending-notes">Ending notes<a class="anchor-link" href="#Ending-notes">&#182;</a></h2><blockquote><p>Thanks for reading!
My implementation is <a href="https://github.com/Naereen/Lempel-Ziv_Complexity">now open-source and available on GitHub</a>, on <a href="https://github.com/Naereen/Lempel-Ziv_Complexity">https://github.com/Naereen/Lempel-Ziv_Complexity</a>.</p>
<p>It will be available from PyPi very soon, see <a href="https://pypi.python.org/pypi/lempel_ziv_complexity">https://pypi.python.org/pypi/lempel_ziv_complexity</a>.</p>
<p>See <a href="https://github.com/Naereen/notebooks/">this repo on GitHub</a> for more notebooks, or <a href="https://nbviewer.jupyter.org/github/Naereen/notebooks/">on nbviewer.jupyter.org</a>.</p>
<p>That's it for this demo! See you, folks!</p>
</blockquote>

</div>
</div>
</div>
 


    </div>
  </div>

  </div>


  
    <footer class="footer hidden-print">
      <div class="container">
        <div class="col-md-4">
          <p>
            This website does not host notebooks, it only renders notebooks
            available on other websites.
          </p>
        </div>

        <div class="col-md-4">
          <p>
            Delivered by <a href="https://www.fastly.com/">Fastly</a>,
            Rendered by <a href="https://developer.rackspace.com/?nbviewer=awesome">Rackspace</a>
          </p>
          <p>
            nbviewer GitHub <a href="https://github.com/jupyter/nbviewer">repository</a>.
          </p>
        </div>

        <div class="col-md-4">
          
  
            
              <p>
                nbviewer version:
                <a href="https://github.com/jupyter/nbviewer/commit/07b0e305b3254e2280b29f20ceb96c058db2f775">
                  07b0e30
                </a>
              </p>
            
          
  
  <p>
    nbconvert version: <a href="https://github.com/jupyter/nbconvert/releases/tag/5.6.0">
      5.6.0
    </a>
  </p>
  

          
  
  
  <p>
    Rendered
    <span class='date' data-date='Mon, 27 Jan 2020 13:28:16 UTC' title='Mon, 27 Jan 2020 13:28:16 UTC'>(Mon, 27 Jan 2020 13:28:16 UTC)</span>
  </p>
  

        </div>
      </div>
    </footer>
  

  <script src="/static/components/bootstrap/js/bootstrap.min.js?v=5869c96cc8f19086aee625d670d741f9"></script>
  <script src="/static/components/headroom.js/dist/headroom.min.js?v=b0a311ea668f8e768ea375f4a7abb81c"></script>
  <script src="/static/components/headroom.js/dist/jQuery.headroom.min.js?v=f3a1bae118315d0c234afc74dc6aab71"></script>

  
  
  <script>
    $(function(){ $("#menubar").headroom({
      tolerance: 5,
      offset: 205,
      classes: {
        initial: "animated",
        pinned: "slideInDown",
        unpinned: "slideOutUp"
      }
    })});
  </script>


  
  <script>
    (function(i,s,o,g,r,a,m){i['GoogleAnalyticsObject']=r;i[r]=i[r]||function(){
      (i[r].q=i[r].q||[]).push(arguments)},i[r].l=1*new Date();a=s.createElement(o),
      m=s.getElementsByTagName(o)[0];a.async=1;a.src=g;m.parentNode.insertBefore(a,m)
    })(window,document,'script','https://www.google-analytics.com/analytics.js','ga');
    ga('create', 'UA-52617120-5', 'auto',
       {'storage': 'none'});
    ga('set', 'anonymizeIp', true);
    ga('send', 'pageview');
  </script>
  
  <script>
    require({
        paths: {
          moment: "/static/components/moment/min/moment.min.js?v=89f87298ad94aa1e6b92f42eb66da043"
        }
      }, ["moment"], function(moment){
      var date = $("footer .date"),
        m = moment(new Date(date.data('date'))),
        update = function(){ date.text(m.fromNow()); };
      setInterval(update, 61*1000);
      update();
      var w = $(window).scroll(function(event){
        $("body").toggleClass("scrolled", w.scrollTop() > 0);
      });
    });
  </script>

  <!--NEW RELIC Stop Perf Measurement-->
  
  <!--NEW RELIC End-->
</body>
</html>