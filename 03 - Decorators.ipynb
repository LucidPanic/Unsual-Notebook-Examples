{
 "cells": [
  {
   "cell_type": "markdown",
   "metadata": {},
   "source": [
    "# Functional Programming in Python\n",
    "## David Mertz\n",
    "### dmertz@continuum.io\n",
    "### 2016-04-22"
   ]
  },
  {
   "cell_type": "markdown",
   "metadata": {},
   "source": [
    "<hr/>\n",
    "This tutorial, and Python in general, run more smoothly under Python 3.x.\n",
    "\n",
    "Whether you're running on Python 2 or Python 3, please install [Python-Future](http://python-future.org/futurize.html):\n",
    "```bash\n",
    "conda install future\n",
    "```"
   ]
  },
  {
   "cell_type": "code",
   "execution_count": null,
   "metadata": {
    "collapsed": true
   },
   "outputs": [],
   "source": [
    "from __future__ import (absolute_import, division,\n",
    "                        print_function, unicode_literals)\n",
    "from future import standard_library\n",
    "standard_library.install_aliases()\n",
    "from future.builtins import (\n",
    "         bytes, dict, int, list, object, range, str,\n",
    "         ascii, chr, hex, input, next, oct, open,\n",
    "         pow, round, super, filter, map, zip)"
   ]
  },
  {
   "cell_type": "markdown",
   "metadata": {},
   "source": [
    "# Table of Contents\n",
    "* [Decorator Functions](#Decorator-Functions)\n",
    "\t* [Decorator classes](#Decorator-classes)\n",
    "\t* [Memoization](#Memoization)"
   ]
  },
  {
   "cell_type": "markdown",
   "metadata": {},
   "source": [
    "# Decorator Functions"
   ]
  },
  {
   "cell_type": "markdown",
   "metadata": {},
   "source": [
    "Decorators are a very powerful functionality of Python.\n",
    "A very simple decorator (the identity decorator)"
   ]
  },
  {
   "cell_type": "code",
   "execution_count": null,
   "metadata": {
    "collapsed": true
   },
   "outputs": [],
   "source": [
    "def decorate(func):\n",
    "    def new_func(arg):\n",
    "        return func(arg)\n",
    "    return new_func"
   ]
  },
  {
   "cell_type": "code",
   "execution_count": null,
   "metadata": {
    "collapsed": false
   },
   "outputs": [],
   "source": [
    "@decorate\n",
    "def a(b):\n",
    "    return b+1"
   ]
  },
  {
   "cell_type": "markdown",
   "metadata": {},
   "source": [
    "<img src=\"img/decorator.png\" width=\"300px\" height=\"300px\" />"
   ]
  },
  {
   "cell_type": "markdown",
   "metadata": {},
   "source": [
    "Understanding decorators is straight forward.  A decorator is a function that accepts a function as input and returns another function.  This function that is returned from the decorator replaces the original, decorated function.  In the example above, ```new_func``` becomes the new implementation of ```a```.  The decorator doesn't do anything special right now.  However, decorators are extremely handy for wrapping a function."
   ]
  },
  {
   "cell_type": "markdown",
   "metadata": {},
   "source": [
    "Let's imagine that we want to allow ```a``` to operate on sequences of numbers."
   ]
  },
  {
   "cell_type": "code",
   "execution_count": null,
   "metadata": {
    "collapsed": true
   },
   "outputs": [],
   "source": [
    "def map_scalar(func):\n",
    "    def map_to_seq(*args):\n",
    "        return map(func, args)\n",
    "    return map_to_seq"
   ]
  },
  {
   "cell_type": "code",
   "execution_count": null,
   "metadata": {
    "collapsed": false
   },
   "outputs": [],
   "source": [
    "@map_scalar\n",
    "def add_one(x):\n",
    "    return x + 1\n",
    "\n",
    "print(list(add_one(3)))\n",
    "print(list(add_one(10, 20, 30, 40)))"
   ]
  },
  {
   "cell_type": "markdown",
   "metadata": {},
   "source": [
    "We can also pass arguments to decorators.  In order to accept these parameters, we have to wrap our decorator in another function that will accept these.  Let's write a decorator that will write the output of a function to a file."
   ]
  },
  {
   "cell_type": "code",
   "execution_count": null,
   "metadata": {
    "collapsed": true
   },
   "outputs": [],
   "source": [
    "def function_log(fn):\n",
    "    def wrapped(func):\n",
    "        def new_func(*args, **kwargs):\n",
    "            out = func(*args, **kwargs)\n",
    "            with open(fn, 'w') as fo:\n",
    "                fo.write(out)\n",
    "            return out\n",
    "        return new_func\n",
    "    return wrapped"
   ]
  },
  {
   "cell_type": "code",
   "execution_count": null,
   "metadata": {
    "collapsed": false
   },
   "outputs": [],
   "source": [
    "logfile=\"tmp/myfunc.log\"\n",
    "@function_log(logfile)\n",
    "def myfunc(a, b, c=None):\n",
    "    outstr = \"{} is the value of a\\n{} is the value of b\\n\\n{}\".format(a, b, c)\n",
    "    return outstr"
   ]
  },
  {
   "cell_type": "markdown",
   "metadata": {},
   "source": [
    "<img src=\"img/decorator_args.png\" width=800px height=800px/>"
   ]
  },
  {
   "cell_type": "code",
   "execution_count": null,
   "metadata": {
    "collapsed": false
   },
   "outputs": [],
   "source": [
    "print(myfunc(3, 6, \"None\"))"
   ]
  },
  {
   "cell_type": "code",
   "execution_count": null,
   "metadata": {
    "collapsed": false
   },
   "outputs": [],
   "source": [
    "# Lets read the log\n",
    "with open(logfile, 'r') as fi:\n",
    "    print(''.join(fi.readlines()))"
   ]
  },
  {
   "cell_type": "code",
   "execution_count": null,
   "metadata": {
    "collapsed": true
   },
   "outputs": [],
   "source": [
    "def add_two(func):\n",
    "    def _(arg):\n",
    "        return func(arg) + 2\n",
    "    return _"
   ]
  },
  {
   "cell_type": "code",
   "execution_count": null,
   "metadata": {
    "collapsed": false
   },
   "outputs": [],
   "source": [
    "# We can apply more than one decorator by stacking them\n",
    "# add_one is replaced by add_two and then replaced by map_scalar\n",
    "@map_scalar\n",
    "@add_two\n",
    "def add_one(x):\n",
    "    return x + 1\n",
    "\n",
    "print(list(add_one(*([1]*3))))"
   ]
  },
  {
   "cell_type": "markdown",
   "metadata": {},
   "source": [
    "## Decorator classes"
   ]
  },
  {
   "cell_type": "markdown",
   "metadata": {},
   "source": [
    "We can even use a class to define a decorator.  We need to define the ```__call__()``` dunder method.  It works exactly the same as the function decorator."
   ]
  },
  {
   "cell_type": "code",
   "execution_count": null,
   "metadata": {
    "collapsed": true
   },
   "outputs": [],
   "source": [
    "class logfile(object):\n",
    "    def __init__(self, fn):\n",
    "        # These are the arguments accepted \n",
    "        self.fn = fn\n",
    "        \n",
    "    def __call__(self, func):\n",
    "        def _(*args, **kwargs):\n",
    "            out = func(*args, **kwargs)\n",
    "            with open(self.fn, 'w') as fo:\n",
    "                fo.write(out)\n",
    "            return out\n",
    "        return _\n",
    "\n",
    "@logfile('tmp/myfunc2.log')\n",
    "def g():\n",
    "    return 'hello from function g'\n",
    "g()\n"
   ]
  },
  {
   "cell_type": "markdown",
   "metadata": {
    "collapsed": true
   },
   "source": [
    "## Memoization"
   ]
  },
  {
   "cell_type": "markdown",
   "metadata": {},
   "source": [
    "Suppose we have a computationally intensive method, ```f()```, that calculates some result (in this case, a number).\n",
    "We have to call this function many times, but do not wait forever to recalculate our result."
   ]
  },
  {
   "cell_type": "code",
   "execution_count": null,
   "metadata": {
    "collapsed": true
   },
   "outputs": [],
   "source": [
    "import time\n",
    "\n",
    "def f(a, b):\n",
    "    # <expensive number crunching here>\n",
    "    out = a + b\n",
    "    time.sleep(1.5)\n",
    "    return out"
   ]
  },
  {
   "cell_type": "code",
   "execution_count": null,
   "metadata": {
    "collapsed": false
   },
   "outputs": [],
   "source": [
    "%timeit f(3, 5)"
   ]
  },
  {
   "cell_type": "markdown",
   "metadata": {},
   "source": [
    "Wouldn't it be nice to be able to cache the results of our previous calls so when we call ```f()``` again with the same arguments we could simply return the cached result instead of recalculating the answer?  Of course, it would be very nice!\n",
    "\n",
    "This sort of caching is called _memoization_.  Lets define a class decorator that will memoize any function that we decorate"
   ]
  },
  {
   "cell_type": "code",
   "execution_count": null,
   "metadata": {
    "collapsed": false
   },
   "outputs": [],
   "source": [
    "class Memoizer(object):\n",
    "    def __init__(self, func):\n",
    "        self.cache = {}\n",
    "        self.func = func\n",
    "        \n",
    "    def __call__(self, *args, **kwargs):\n",
    "        # We use sorted tuples because they are much smaller in memory than frozensets\n",
    "        # Even though frozensets are slightly faster to construct.\n",
    "        # We sort so that we can compare the keyword args.\n",
    "        # We use strings because our args or kwargs may not be hashable.\n",
    "        # Repr should return a unique string for its object\n",
    "        key = (repr(args), repr(tuple(sorted(kwargs.items()))))\n",
    "        if key in self.cache:\n",
    "            return self.cache[key]\n",
    "        self.cache[key] = self.func(*args, **kwargs)\n",
    "        return self.cache[key]"
   ]
  },
  {
   "cell_type": "code",
   "execution_count": null,
   "metadata": {
    "collapsed": false
   },
   "outputs": [],
   "source": [
    "@Memoizer\n",
    "def f(a, b):\n",
    "    # <expensive number crunching here>\n",
    "    out = a + b\n",
    "    time.sleep(1.5)\n",
    "    return out"
   ]
  },
  {
   "cell_type": "code",
   "execution_count": null,
   "metadata": {
    "collapsed": false
   },
   "outputs": [],
   "source": [
    "f([3], [5, 5])"
   ]
  },
  {
   "cell_type": "code",
   "execution_count": null,
   "metadata": {
    "collapsed": false
   },
   "outputs": [],
   "source": [
    "f.cache"
   ]
  },
  {
   "cell_type": "code",
   "execution_count": null,
   "metadata": {
    "collapsed": false
   },
   "outputs": [],
   "source": [
    "import continuum_style; continuum_style.style()"
   ]
  }
 ],
 "metadata": {
  "continuum": {
   "depends": [
    "ip_essentials",
    "ip_functions",
    "ip_specialfuncs",
    "ip_files"
   ],
   "requires": [
    "img/decorator.png",
    "img/decorator_args.png"
   ],
   "tag": "adv_decorator_func"
  },
  "kernelspec": {
   "display_name": "Python 3",
   "language": "python",
   "name": "python3"
  },
  "language_info": {
   "codemirror_mode": {
    "name": "ipython",
    "version": 3
   },
   "file_extension": ".py",
   "mimetype": "text/x-python",
   "name": "python",
   "nbconvert_exporter": "python",
   "pygments_lexer": "ipython3",
   "version": "3.5.1"
  }
 },
 "nbformat": 4,
 "nbformat_minor": 0
}
