{
 "cells": [
  {
   "cell_type": "markdown",
   "metadata": {},
   "source": [
    "# Homework 4\n",
    "\n",
    "## Due Wednesday, Oct. 23 in class\n",
    "\n",
    "* Olver and Shakiban 1.8.7(g), 1.9.21(a), 1.9.21(c,iii)\n",
    "\n",
    "## Suggested problems\n",
    "\n",
    "* Olver and Shakiban 1.8.1, 1.8.7, 1.9.4, 1.9.21(b)"
   ]
  }
 ],
 "metadata": {
  "kernelspec": {
   "display_name": "Matlab",
   "language": "matlab",
   "name": "matlab"
  },
  "language_info": {
   "codemirror_mode": "octave",
   "file_extension": ".m",
   "help_links": [
    {
     "text": "MetaKernel Magics",
     "url": "https://metakernel.readthedocs.io/en/latest/source/README.html"
    }
   ],
   "mimetype": "text/x-octave",
   "name": "matlab",
   "version": "0.16.7"
  }
 },
 "nbformat": 4,
 "nbformat_minor": 2
}
