{
 "cells": [
  {
   "cell_type": "markdown",
   "metadata": {},
   "source": [
    "# Homework 9\n",
    "\n",
    "## Due Wednesday, Nov. 27 in class (or before)\n",
    "\n",
    "* For\n",
    "$$ A = \\begin{pmatrix} 1 & 1 & 2 \\end{pmatrix}, \\quad \\vec b = \\begin{pmatrix} 1 \\end{pmatrix} $$\n",
    "find the vector $\\vec x$ that minimizes\n",
    "$$F(\\vec y) = \\|A \\vec y - \\vec b \\|_2^2 + \\|\\vec y\\|_2^2.$$\n",
    "In other words, $F(\\vec x) = \\min_{\\vec y \\in \\mathbb R^3} F(\\vec y)$.\n",
    "* 8.2.1(f)\n",
    "\n",
    "## Suggested problems\n",
    "\n",
    "* Olver and Shakiban 8.2.1, 8.2.5, 8.2.12, 8.2.24, 8.2.26, 8.2.39, "
   ]
  }
 ],
 "metadata": {
  "kernelspec": {
   "display_name": "Matlab",
   "language": "matlab",
   "name": "matlab"
  },
  "language_info": {
   "codemirror_mode": "octave",
   "file_extension": ".m",
   "help_links": [
    {
     "text": "MetaKernel Magics",
     "url": "https://metakernel.readthedocs.io/en/latest/source/README.html"
    }
   ],
   "mimetype": "text/x-octave",
   "name": "matlab",
   "version": "0.16.7"
  }
 },
 "nbformat": 4,
 "nbformat_minor": 2
}
