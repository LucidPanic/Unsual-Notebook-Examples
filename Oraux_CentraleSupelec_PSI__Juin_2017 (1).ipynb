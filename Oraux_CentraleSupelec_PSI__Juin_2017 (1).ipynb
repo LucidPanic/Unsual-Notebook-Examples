








<!DOCTYPE html>
<html lang="en">

<head>
  <meta charset="utf-8">
  <title>Jupyter Notebook Viewer</title>
  <meta name="viewport" content="width=device-width, initial-scale=1.0">
  <meta name="description" content="">
  <meta name="author" content="">
  
  <meta name="robots" content="noindex,nofollow">
  

  <!--NEW RELIC Start Perf Measurement-->
  
  <!--NREND-->

  <!-- Le styles -->
  <link href="/static/build/styles.css?v=7fe30404aaeedb40bf592c91e1d25a26" rel="stylesheet">

  <!-- Le HTML5 shim, for IE6-8 support of HTML5 elements -->
  <!--[if lt IE 9]>
    <script src="http://html5shim.googlecode.com/svn/trunk/html5.js"></script>
  <![endif]-->

  <!-- Le fav and touch icons -->
  <link rel="shortcut icon" href="/static/ico/ipynb_icon_16x16.png">
  <link rel="apple-touch-icon-precomposed" sizes="144x144"
        href="/static/ico/apple-touch-icon-144-precomposed.png?v=5a3c9ede93e2a8b8ea9e3f8f3da1a905">
  <link rel="apple-touch-icon-precomposed" sizes="114x114"
        href="/static/ico/apple-touch-icon-114-precomposed.png?v=45d86fc8f24dc00638035e1dd7a6d898">
  <link rel="apple-touch-icon-precomposed" sizes="72x72"
        href="/static/ico/apple-touch-icon-72-precomposed.png?v=540b5eb0f3cfd25f1439d1c9bd30e15f">
  <link rel="apple-touch-icon-precomposed"
        href="/static/ico/apple-touch-icon-57-precomposed.png?v=225f0590e187e1458625654f10a28f56">
  
  

  

  
  <meta name="twitter:card" content="summary">
  <meta name="twitter:title" content="Notebook on nbviewer">
  <meta name="twitter:description" content="Check out this Jupyter notebook!">

  
  <meta name="twitter:domain" content="nbviewer.jupyter.org">
  <meta name="twitter:image:src" content="http://ipython.org/ipython-doc/dev/_images/ipynb_icon_128x128.png">

  
    <link href="/static/build/notebook.css?v=b71b4a780ae775fd48f0eead7512c5dd" rel="stylesheet">
  

  

  
    <script src="https://cdnjs.cloudflare.com/ajax/libs/mathjax/2.7.1/MathJax.js?config=TeX-AMS_HTML" type="text/javascript">
    </script>
    <script type="text/javascript">
      init_mathjax = function() {
        if (window.MathJax) {
          // MathJax loaded
          MathJax.Hub.Config({
            TeX: {
              equationNumbers: {
                autoNumber: "AMS",
                useLabelIds: true
              }
            },
            tex2jax: {
              inlineMath: [ ['$','$'], ["\\(","\\)"] ],
              displayMath: [ ['$$','$$'], ["\\[","\\]"] ],
              processEscapes: true,
              processEnvironments: true
            },
            displayAlign: 'center',
            "HTML-CSS": {
              styles: {'.MathJax_Display': {"margin": 0}},
              linebreaks: { automatic: true }
            }
          });
          MathJax.Hub.Queue(["Typeset", MathJax.Hub]);
        }
      }
      init_mathjax();
    </script>
  

  
    <script>
      (function() {
        function addWidgetsRenderer() {
          var mimeElement = document.querySelector('script[type="application/vnd.jupyter.widget-view+json"]');
          var scriptElement = document.createElement('script');
          var widgetRendererSrc = 'https://unpkg.com/@jupyter-widgets/html-manager@0.15/dist/embed-amd.js';
          var widgetState;

          try {
            widgetState = mimeElement && JSON.parse(mimeElement.innerHTML);

            if (widgetState && (widgetState.version_major < 2 || !widgetState.version_major)) {
              widgetRendererSrc = 'https://unpkg.com/jupyter-js-widgets@2.1/dist/embed.js';
            }
          } catch(e) {}

          scriptElement.src = widgetRendererSrc;
          document.body.appendChild(scriptElement);
        }

        document.addEventListener('DOMContentLoaded', addWidgetsRenderer);
      }());
    </script>
  

</head>

<body class="nbviewer">

  <!-- These are loaded at the top of the body so they are available to
       notebook cells when they are loaded below. -->
  <script src="/static/components/jquery/dist/jquery.min.js?v=220afd743d9e9643852e31a135a9f3ae"></script>
  <script src="/static/components/requirejs/require.js?v=6da8be361b9ee26c5e721e76c6d4afce"></script>
  <script src="/static/components/moment/min/moment.min.js?v=89f87298ad94aa1e6b92f42eb66da043"></script>
<!-- Navbar
================================================== -->
  <nav id="menubar" class="navbar navbar-default navbar-fixed-top" data-spy="affix">
    <div class="container">
      <div class="navbar-header">
        <button type="button" class="navbar-toggle collapsed" data-toggle="collapse" data-target=".navbar-collapse">
          <span class="sr-only">Toggle navigation</span>
          <i class="fa fa-bars"></i>
        </button>
        <a class="navbar-brand" href="/">
          <img src="/static/img/nav_logo.svg?v=479cefe8d932fb14a67b93911b97d70f" width="159"/>
        </a>
      </div>

      <div class="collapse navbar-collapse">
        <ul class="nav navbar-nav navbar-right">
          <li>
            <a class="active" href="https://jupyter.org">JUPYTER</a>
          </li>
          <li>
    <a href="/faq" title="FAQ" >
      
        <span>FAQ</span>
      
    </a>
  </li>

          
  
    
  
    
      
        <li>
    <a href="script/github/Naereen/notebooks/blob/master/Oraux_CentraleSupelec_PSI__Juin_2017.ipynb" title="View as Code" >
      <span class="fa fa-code fa-2x menu-icon"></span>
      <span class="menu-text">View as Code</span>
    </a>
  </li>
      
    
  

  
    <li>
    <a href="#" title="Python 3 Kernel" >
      <span class="fa fa-server fa-2x menu-icon"></span>
      <span class="menu-text">Python 3 Kernel</span>
    </a>
  </li>
  

  
    <li>
    <a href="https://github.com/Naereen/notebooks/blob/master/Oraux_CentraleSupelec_PSI__Juin_2017.ipynb" title="View on GitHub" >
      <span class="fa fa-github fa-2x menu-icon"></span>
      <span class="menu-text">View on GitHub</span>
    </a>
  </li>
  

  
    <li>
    <a href="https://mybinder.org/v2/gh/Naereen/notebooks/master?filepath=Oraux_CentraleSupelec_PSI__Juin_2017.ipynb" title="Execute on Binder" >
      <span class="fa fa-icon-binder fa-2x menu-icon"></span>
      <span class="menu-text">Execute on Binder</span>
    </a>
  </li>
  

  <li>
    <a href="https://raw.githubusercontent.com/Naereen/notebooks/master/Oraux_CentraleSupelec_PSI__Juin_2017.ipynb" title="Download Notebook" download>
      <span class="fa fa-download fa-2x menu-icon"></span>
      <span class="menu-text">Download Notebook</span>
    </a>
  </li>

        </ul>
      </div><!-- /.navbar-collapse -->
      
      
    </div>
  </nav>

  <div class="container container-main">
    
  
  <ol class="breadcrumb">
    
      <li>
        <a href="/github/Naereen/notebooks/tree/master">notebooks</a>
      </li>
    
      <li>
        <a href="/github/Naereen/notebooks/tree/master/Oraux_CentraleSupelec_PSI__Juin_2017.ipynb">Oraux_CentraleSupelec_PSI__Juin_2017.ipynb</a>
      </li>
    
  </ol>
  
  <div id="notebook">
    <div id="notebook-container">
      <div class="cell border-box-sizing text_cell rendered"><div class="prompt input_prompt">
</div><div class="inner_cell">
<div class="text_cell_render border-box-sizing rendered_html">
<h1 id="Table-of-Contents">Table of Contents<a class="anchor-link" href="#Table-of-Contents">&#182;</a></h1><p><p><div class="lev1 toc-item"><a href="#Oraux-CentraleSupélec-PSI---Juin-2017" data-toc-modified-id="Oraux-CentraleSupélec-PSI---Juin-2017-1"><span class="toc-item-num">1&nbsp;&nbsp;</span>Oraux CentraleSupélec PSI - Juin 2017</a></div><div class="lev2 toc-item"><a href="#Remarques-préliminaires" data-toc-modified-id="Remarques-préliminaires-11"><span class="toc-item-num">1.1&nbsp;&nbsp;</span>Remarques préliminaires</a></div><div class="lev2 toc-item"><a href="#Planche-158" data-toc-modified-id="Planche-158-12"><span class="toc-item-num">1.2&nbsp;&nbsp;</span>Planche 158</a></div><div class="lev2 toc-item"><a href="#Planche-162" data-toc-modified-id="Planche-162-13"><span class="toc-item-num">1.3&nbsp;&nbsp;</span>Planche 162</a></div><div class="lev2 toc-item"><a href="#Planche-170" data-toc-modified-id="Planche-170-14"><span class="toc-item-num">1.4&nbsp;&nbsp;</span>Planche 170</a></div><div class="lev1 toc-item"><a href="#À-voir-aussi" data-toc-modified-id="À-voir-aussi-2"><span class="toc-item-num">2&nbsp;&nbsp;</span>À voir aussi</a></div><div class="lev2 toc-item"><a href="#Les-oraux---(exercices-de-maths-avec-Python)" data-toc-modified-id="Les-oraux---(exercices-de-maths-avec-Python)-21"><span class="toc-item-num">2.1&nbsp;&nbsp;</span><a href="http://perso.crans.org/besson/infoMP/oraux/solutions/" target="_blank">Les oraux</a>   <em>(exercices de maths avec Python)</em></a></div><div class="lev2 toc-item"><a href="#Fiches-de-révisions-pour-les-oraux" data-toc-modified-id="Fiches-de-révisions-pour-les-oraux-22"><span class="toc-item-num">2.2&nbsp;&nbsp;</span>Fiches de révisions <em>pour les oraux</em></a></div><div class="lev2 toc-item"><a href="#Quelques-exemples-de-sujets-d'oraux-corrigés" data-toc-modified-id="Quelques-exemples-de-sujets-d'oraux-corrigés-23"><span class="toc-item-num">2.3&nbsp;&nbsp;</span>Quelques exemples de sujets <em>d'oraux</em> corrigés</a></div><div class="lev2 toc-item"><a href="#D'autres-notebooks-?" data-toc-modified-id="D'autres-notebooks-?-24"><span class="toc-item-num">2.4&nbsp;&nbsp;</span>D'autres notebooks ?</a></div></p>

</div>
</div>
</div>
<div class="cell border-box-sizing text_cell rendered"><div class="prompt input_prompt">
</div><div class="inner_cell">
<div class="text_cell_render border-box-sizing rendered_html">
<h1 id="Oraux-CentraleSup&#233;lec-PSI---Juin-2017">Oraux CentraleSup&#233;lec PSI - Juin 2017<a class="anchor-link" href="#Oraux-CentraleSup&#233;lec-PSI---Juin-2017">&#182;</a></h1><ul>
<li>Ce <a href="https://www.jupyter.org">notebook Jupyter</a> est une proposition de correction, en <a href="https://www.python.org/">Python 3</a>, d'exercices d'annales de l'épreuve "maths-info" du <a href="http://www.concours-centrale-supelec.fr/">concours CentraleSupélec</a>, filière PSI.</li>
<li>Les exercices viennent de l'<a href="http://odlt.fr/">Officiel de la Taupe</a>, <a href="http://www.odlt.fr/Oraux_2016.pdf">2016</a> (planches 157 à 173, page 23).</li>
<li>Ce document a été écrit par <a href="http://perso.crans.org/besson/">Lilian Besson</a>, et est disponible en ligne <a href="http://perso.crans.org/besson/infoMP/Oraux_CentraleSupélec_PSI__Juin_2017.html">sur mon site</a>.</li>
</ul>

</div>
</div>
</div>
<div class="cell border-box-sizing text_cell rendered"><div class="prompt input_prompt">
</div><div class="inner_cell">
<div class="text_cell_render border-box-sizing rendered_html">
<h2 id="Remarques-pr&#233;liminaires">Remarques pr&#233;liminaires<a class="anchor-link" href="#Remarques-pr&#233;liminaires">&#182;</a></h2><ul>
<li>Les exercices sans Python ne sont pas traités.</li>
<li>Les exercices avec Python utilisent Python 3, <a href="https://numpy.org">numpy</a>, <a href="https://matplotlib.org">matplotlib</a>, <a href="https://scipy.org">scipy</a> et <a href="http://sympy.org">sympy</a>, et essaient d'être résolus le plus simplement et le plus rapidement possible. L'efficacité (algorithmique, en terme de mémoire et de temps de calcul), n'est <em>pas</em> une priorité. La concision et simplicité de la solution proposée est prioritaire.</li>
<li>Les modules Python utilisés sont aux <a href="https://github.com/rasbt/watermark">versions suivantes</a> :</li>
</ul>

</div>
</div>
</div>
<div class="cell border-box-sizing code_cell rendered">
<div class="input">
<div class="prompt input_prompt">In&nbsp;[1]:</div>
<div class="inner_cell">
    <div class="input_area">
<div class=" highlight hl-ipython3"><pre><span></span><span class="o">%</span><span class="k">load_ext</span> watermark
<span class="o">%</span><span class="k">watermark</span> -v -m -p scipy,numpy,matplotlib,sympy,seaborn -g
</pre></div>

    </div>
</div>
</div>

<div class="output_wrapper">
<div class="output">


<div class="output_area">

    <div class="prompt"></div>


<div class="output_subarea output_stream output_stdout output_text">
<pre>CPython 3.5.3
IPython 6.1.0

scipy 0.19.0
numpy 1.12.1
matplotlib 2.0.2
sympy 1.0
seaborn 0.7.1

compiler   : GCC 6.3.0 20170118
system     : Linux
release    : 4.10.0-21-generic
machine    : x86_64
processor  : x86_64
CPU cores  : 4
interpreter: 64bit
Git hash   : c4118c39f038f15e7dcde2fa4d6a8df0060ae9e4
</pre>
</div>
</div>

</div>
</div>

</div>
<div class="cell border-box-sizing code_cell rendered">
<div class="input">
<div class="prompt input_prompt">In&nbsp;[2]:</div>
<div class="inner_cell">
    <div class="input_area">
<div class=" highlight hl-ipython3"><pre><span></span><span class="kn">import</span> <span class="nn">numpy</span> <span class="k">as</span> <span class="nn">np</span>
<span class="kn">import</span> <span class="nn">numpy.linalg</span> <span class="k">as</span> <span class="nn">LA</span>
<span class="kn">import</span> <span class="nn">matplotlib</span> <span class="k">as</span> <span class="nn">mpl</span>  <span class="c1"># inutile</span>
<span class="kn">import</span> <span class="nn">matplotlib.pyplot</span> <span class="k">as</span> <span class="nn">plt</span>
<span class="kn">import</span> <span class="nn">scipy</span> <span class="k">as</span> <span class="nn">sc</span>        <span class="c1"># pas très utile</span>
</pre></div>

    </div>
</div>
</div>

</div>
<div class="cell border-box-sizing text_cell rendered"><div class="prompt input_prompt">
</div><div class="inner_cell">
<div class="text_cell_render border-box-sizing rendered_html">
<p>Pour avoir de belles figures :</p>

</div>
</div>
</div>
<div class="cell border-box-sizing code_cell rendered">
<div class="input">
<div class="prompt input_prompt">In&nbsp;[3]:</div>
<div class="inner_cell">
    <div class="input_area">
<div class=" highlight hl-ipython3"><pre><span></span><span class="kn">import</span> <span class="nn">seaborn</span> <span class="k">as</span> <span class="nn">sns</span>
<span class="n">sns</span><span class="o">.</span><span class="n">set</span><span class="p">(</span><span class="n">context</span><span class="o">=</span><span class="s2">&quot;notebook&quot;</span><span class="p">,</span> <span class="n">style</span><span class="o">=</span><span class="s2">&quot;darkgrid&quot;</span><span class="p">,</span> <span class="n">palette</span><span class="o">=</span><span class="s2">&quot;hls&quot;</span><span class="p">,</span> <span class="n">font</span><span class="o">=</span><span class="s2">&quot;sans-serif&quot;</span><span class="p">,</span> <span class="n">font_scale</span><span class="o">=</span><span class="mf">1.4</span><span class="p">)</span>
<span class="n">mpl</span><span class="o">.</span><span class="n">rcParams</span><span class="p">[</span><span class="s1">&#39;figure.figsize&#39;</span><span class="p">]</span> <span class="o">=</span> <span class="p">(</span><span class="mf">19.80</span><span class="p">,</span> <span class="mf">10.80</span><span class="p">)</span>
</pre></div>

    </div>
</div>
</div>

</div>
<div class="cell border-box-sizing text_cell rendered"><div class="prompt input_prompt">
</div><div class="inner_cell">
<div class="text_cell_render border-box-sizing rendered_html">
<hr>
<h2 id="Planche-158">Planche 158<a class="anchor-link" href="#Planche-158">&#182;</a></h2><p>On donne $f_n(t) = \frac{1 - \cos\left(\frac{t}{n}\right)}{t^2(1+t^2)}$.</p>
<ul>
<li>Tracer avec Python les courbes de $f_n$ pour $n \in \{1, \dots, 10\}$, ainsi que la fonction constante $y = \frac{1}{2}$, sur $]0, \pi[$.</li>
</ul>

</div>
</div>
</div>
<div class="cell border-box-sizing code_cell rendered">
<div class="input">
<div class="prompt input_prompt">In&nbsp;[4]:</div>
<div class="inner_cell">
    <div class="input_area">
<div class=" highlight hl-ipython3"><pre><span></span><span class="k">def</span> <span class="nf">f</span><span class="p">(</span><span class="n">n</span><span class="p">,</span> <span class="n">t</span><span class="p">):</span>
    <span class="k">return</span> <span class="p">(</span><span class="mi">1</span> <span class="o">-</span> <span class="n">np</span><span class="o">.</span><span class="n">cos</span><span class="p">(</span><span class="n">t</span> <span class="o">/</span> <span class="n">n</span><span class="p">))</span> <span class="o">/</span> <span class="p">(</span><span class="n">t</span><span class="o">**</span><span class="mi">2</span> <span class="o">*</span>  <span class="p">(</span><span class="mi">1</span> <span class="o">+</span> <span class="n">t</span><span class="o">**</span><span class="mi">2</span><span class="p">))</span>

<span class="k">def</span> <span class="nf">y</span><span class="p">(</span><span class="n">t</span><span class="p">):</span>
    <span class="k">return</span> <span class="mf">0.5</span> <span class="o">*</span> <span class="n">np</span><span class="o">.</span><span class="n">ones_like</span><span class="p">(</span><span class="n">t</span><span class="p">)</span>

<span class="n">eps</span> <span class="o">=</span> <span class="mf">1e-5</span>
<span class="n">t</span> <span class="o">=</span> <span class="n">np</span><span class="o">.</span><span class="n">linspace</span><span class="p">(</span><span class="mi">0</span> <span class="o">+</span> <span class="n">eps</span><span class="p">,</span> <span class="n">np</span><span class="o">.</span><span class="n">pi</span> <span class="o">-</span> <span class="n">eps</span><span class="p">,</span> <span class="mi">1000</span><span class="p">)</span>
<span class="n">plt</span><span class="o">.</span><span class="n">figure</span><span class="p">()</span>
<span class="k">for</span> <span class="n">n</span> <span class="ow">in</span> <span class="nb">range</span><span class="p">(</span><span class="mi">1</span><span class="p">,</span> <span class="mi">1</span> <span class="o">+</span> <span class="mi">10</span><span class="p">):</span>
    <span class="n">plt</span><span class="o">.</span><span class="n">plot</span><span class="p">(</span><span class="n">t</span><span class="p">,</span> <span class="n">f</span><span class="p">(</span><span class="n">n</span><span class="p">,</span> <span class="n">t</span><span class="p">),</span> <span class="n">label</span><span class="o">=</span><span class="sa">r</span><span class="s1">&#39;$f_{</span><span class="si">%i</span><span class="s1">}(t)$&#39;</span> <span class="o">%</span> <span class="n">n</span><span class="p">)</span>
<span class="n">plt</span><span class="o">.</span><span class="n">plot</span><span class="p">(</span><span class="n">t</span><span class="p">,</span> <span class="n">y</span><span class="p">(</span><span class="n">t</span><span class="p">),</span> <span class="n">label</span><span class="o">=</span><span class="sa">r</span><span class="s1">&#39;$\frac</span><span class="si">{1}{2}</span><span class="s1">$&#39;</span><span class="p">)</span>
<span class="n">plt</span><span class="o">.</span><span class="n">legend</span><span class="p">()</span>
<span class="n">plt</span><span class="o">.</span><span class="n">title</span><span class="p">(</span><span class="s2">&quot;Courbe demandée&quot;</span><span class="p">)</span>
<span class="n">plt</span><span class="o">.</span><span class="n">xlabel</span><span class="p">(</span><span class="sa">r</span><span class="s2">&quot;$]0, \pi[$&quot;</span><span class="p">)</span>
<span class="n">plt</span><span class="o">.</span><span class="n">show</span><span class="p">()</span>
</pre></div>

    </div>
</div>
</div>

<div class="output_wrapper">
<div class="output">


<div class="output_area">

    <div class="prompt output_prompt">Out[4]:</div>




<div class="output_text output_subarea output_execute_result">
<pre>&lt;matplotlib.figure.Figure at 0x7fcd47ffefd0&gt;</pre>
</div>

</div>

<div class="output_area">

    <div class="prompt output_prompt">Out[4]:</div>




<div class="output_text output_subarea output_execute_result">
<pre>[&lt;matplotlib.lines.Line2D at 0x7fcd47f68748&gt;]</pre>
</div>

</div>

<div class="output_area">

    <div class="prompt output_prompt">Out[4]:</div>




<div class="output_text output_subarea output_execute_result">
<pre>[&lt;matplotlib.lines.Line2D at 0x7fcd47f689e8&gt;]</pre>
</div>

</div>

<div class="output_area">

    <div class="prompt output_prompt">Out[4]:</div>




<div class="output_text output_subarea output_execute_result">
<pre>[&lt;matplotlib.lines.Line2D at 0x7fcd47f73be0&gt;]</pre>
</div>

</div>

<div class="output_area">

    <div class="prompt output_prompt">Out[4]:</div>




<div class="output_text output_subarea output_execute_result">
<pre>[&lt;matplotlib.lines.Line2D at 0x7fcd47f73fd0&gt;]</pre>
</div>

</div>

<div class="output_area">

    <div class="prompt output_prompt">Out[4]:</div>




<div class="output_text output_subarea output_execute_result">
<pre>[&lt;matplotlib.lines.Line2D at 0x7fcd47f818d0&gt;]</pre>
</div>

</div>

<div class="output_area">

    <div class="prompt output_prompt">Out[4]:</div>




<div class="output_text output_subarea output_execute_result">
<pre>[&lt;matplotlib.lines.Line2D at 0x7fcd47f842e8&gt;]</pre>
</div>

</div>

<div class="output_area">

    <div class="prompt output_prompt">Out[4]:</div>




<div class="output_text output_subarea output_execute_result">
<pre>[&lt;matplotlib.lines.Line2D at 0x7fcd47f84cc0&gt;]</pre>
</div>

</div>

<div class="output_area">

    <div class="prompt output_prompt">Out[4]:</div>




<div class="output_text output_subarea output_execute_result">
<pre>[&lt;matplotlib.lines.Line2D at 0x7fcd47f8c6d8&gt;]</pre>
</div>

</div>

<div class="output_area">

    <div class="prompt output_prompt">Out[4]:</div>




<div class="output_text output_subarea output_execute_result">
<pre>[&lt;matplotlib.lines.Line2D at 0x7fcd47f920f0&gt;]</pre>
</div>

</div>

<div class="output_area">

    <div class="prompt output_prompt">Out[4]:</div>




<div class="output_text output_subarea output_execute_result">
<pre>[&lt;matplotlib.lines.Line2D at 0x7fcd47f92ac8&gt;]</pre>
</div>

</div>

<div class="output_area">

    <div class="prompt output_prompt">Out[4]:</div>




<div class="output_text output_subarea output_execute_result">
<pre>[&lt;matplotlib.lines.Line2D at 0x7fcd47f8ebe0&gt;]</pre>
</div>

</div>

<div class="output_area">

    <div class="prompt output_prompt">Out[4]:</div>




<div class="output_text output_subarea output_execute_result">
<pre>&lt;matplotlib.legend.Legend at 0x7fcd47f8ec18&gt;</pre>
</div>

</div>

<div class="output_area">

    <div class="prompt output_prompt">Out[4]:</div>




<div class="output_text output_subarea output_execute_result">
<pre>&lt;matplotlib.text.Text at 0x7fcd47fc35f8&gt;</pre>
</div>

</div>

<div class="output_area">

    <div class="prompt output_prompt">Out[4]:</div>




<div class="output_text output_subarea output_execute_result">
<pre>&lt;matplotlib.text.Text at 0x7fcd4800d0f0&gt;</pre>
</div>

</div>

<div class="output_area">

    <div class="prompt"></div>




<div class="output_png output_subarea ">
<img src="data:image/png;base64,iVBORw0KGgoAAAANSUhEUgAABHkAAAKVCAYAAABbOjcbAAAABHNCSVQICAgIfAhkiAAAAAlwSFlz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=
"
>
</div>

</div>

</div>
</div>

</div>
<div class="cell border-box-sizing text_cell rendered"><div class="prompt input_prompt">
</div><div class="inner_cell">
<div class="text_cell_render border-box-sizing rendered_html">
<p>$f_n(t)$ est bien sûr intégrable sur $[1, +\infty]$, mais c'est moins évident sur $]0, 1]$.
La courbe précédente laisse suggérer qu'elle l'est, il faudrait le prouver.</p>
<p>(un développement limité montre qu'en $0$, $f_n(t)$ est prolongeable par continuité en fait)</p>

</div>
</div>
</div>
<div class="cell border-box-sizing text_cell rendered"><div class="prompt input_prompt">
</div><div class="inner_cell">
<div class="text_cell_render border-box-sizing rendered_html">
<ul>
<li>Calculer les $30$ premiers termes de la suite de terme général $u_n = \int_0^{+\infty} f_n(t) \mathrm{d}t$.</li>
</ul>

</div>
</div>
</div>
<div class="cell border-box-sizing code_cell rendered">
<div class="input">
<div class="prompt input_prompt">In&nbsp;[6]:</div>
<div class="inner_cell">
    <div class="input_area">
<div class=" highlight hl-ipython3"><pre><span></span><span class="kn">from</span> <span class="nn">scipy.integrate</span> <span class="k">import</span> <span class="n">quad</span> <span class="k">as</span> <span class="n">integral</span>

<span class="k">def</span> <span class="nf">u_n</span><span class="p">(</span><span class="n">n</span><span class="p">):</span>
    <span class="k">def</span> <span class="nf">f_n</span><span class="p">(</span><span class="n">t</span><span class="p">):</span>
        <span class="k">return</span> <span class="n">f</span><span class="p">(</span><span class="n">n</span><span class="p">,</span> <span class="n">t</span><span class="p">)</span>
    <span class="k">return</span> <span class="n">integral</span><span class="p">(</span><span class="n">f_n</span><span class="p">,</span> <span class="mi">0</span><span class="p">,</span> <span class="n">np</span><span class="o">.</span><span class="n">inf</span><span class="p">)[</span><span class="mi">0</span><span class="p">]</span>

<span class="k">for</span> <span class="n">n</span> <span class="ow">in</span> <span class="nb">range</span><span class="p">(</span><span class="mi">1</span><span class="p">,</span> <span class="mi">1</span> <span class="o">+</span> <span class="mi">30</span><span class="p">):</span>
    <span class="nb">print</span><span class="p">(</span><span class="s2">&quot;- Pour n =&quot;</span><span class="p">,</span> <span class="n">n</span><span class="p">,</span> <span class="s2">&quot;</span><span class="se">\t</span><span class="s2"> u_n =&quot;</span><span class="p">,</span> <span class="n">u_n</span><span class="p">(</span><span class="n">n</span><span class="p">))</span>
</pre></div>

    </div>
</div>
</div>

<div class="output_wrapper">
<div class="output">


<div class="output_area">

    <div class="prompt"></div>


<div class="output_subarea output_stream output_stdout output_text">
<pre>- Pour n = 1 	 u_n = 0.5778636758673165
- Pour n = 2 	 u_n = 0.1673379686913233
- Pour n = 3 	 u_n = 0.07832719999247961
- Pour n = 4 	 u_n = 0.04524016647527334
- Pour n = 5 	 u_n = 0.0294221986520279
- Pour n = 6 	 u_n = 0.02065344571531756
- Pour n = 7 	 u_n = 0.015291770261272906
- Pour n = 8 	 u_n = 0.011776107184161803
- Pour n = 9 	 u_n = 0.009346910316513675
- Pour n = 10 	 u_n = 0.007598599569591147
- Pour n = 11 	 u_n = 0.006298591120713312
- Pour n = 12 	 u_n = 0.005305713621776519
- Pour n = 13 	 u_n = 0.004530420616071271
- Pour n = 14 	 u_n = 0.003913403332067795
- Pour n = 15 	 u_n = 0.0034143635712630925
- Pour n = 16 	 u_n = 0.00300503233562181
- Pour n = 17 	 u_n = 0.002665127564756733
- Pour n = 18 	 u_n = 0.0023797953460884366
- Pour n = 19 	 u_n = 0.002137946272152306
- Pour n = 20 	 u_n = 0.0019311752431841328
- Pour n = 21 	 u_n = 0.0017530128954453457
- Pour n = 22 	 u_n = 0.0015984135117823957
- Pour n = 23 	 u_n = 0.001463398620721792
- Pour n = 24 	 u_n = 0.001344791379603347
- Pour n = 25 	 u_n = 0.0012400485222443885
- Pour n = 26 	 u_n = 0.0011470784838279937
- Pour n = 27 	 u_n = 0.001064184893274427
- Pour n = 28 	 u_n = 0.000989962863081455
- Pour n = 29 	 u_n = 0.0009232437583422769
- Pour n = 30 	 u_n = 0.0008630488183994005
</pre>
</div>
</div>

</div>
</div>

</div>
<div class="cell border-box-sizing text_cell rendered"><div class="prompt input_prompt">
</div><div class="inner_cell">
<div class="text_cell_render border-box-sizing rendered_html">
<p>Le terme $u_n$ semble tendre vers $0$ pour $n\to +\infty$.
On le prouverait avec le théorème de convergence dominée (à faire).</p>

</div>
</div>
</div>
<div class="cell border-box-sizing text_cell rendered"><div class="prompt input_prompt">
</div><div class="inner_cell">
<div class="text_cell_render border-box-sizing rendered_html">
<p>Soit $F(x) = \int_0^{+\infty} \frac{1 - \cos(xt)}{t^2 (1+t^2)} \mathrm{d}t$.</p>
<ul>
<li>L'intégrande est évidemment intégrable sur $[1,+\infty[$ par comparaison (et comme $t\mapsto \frac{1}{t^4}$ l'est).</li>
<li>Sur $]0,1]$, $1-\cos(xt) \sim_{x\to 0} \frac{(xt)^2}{2} $, donc l'intégrande est $\sim \frac{x^2}{2(1+t^2)}$ qui est bien intégrable (la constante $\frac{x^2}{2}$ sort de l'intégrale).
Donc $F$ est bien définie sur $R_+^*$.</li>
</ul>
<p>Elle est continue par application directe du théorème de continuité sous le signe intégrale.</p>
<p>Elle est prolongeable par continuité en $0$, par $F(0) := 0$ grâce à l'observation précédente : $F(x) \sim \frac{x^2}{2} \int_0^{+\infty} \frac{1}{1+t^2} \mathrm{d}t \to 0$ quand $x\to 0$.</p>

</div>
</div>
</div>
<div class="cell border-box-sizing code_cell rendered">
<div class="input">
<div class="prompt input_prompt">In&nbsp;[7]:</div>
<div class="inner_cell">
    <div class="input_area">
<div class=" highlight hl-ipython3"><pre><span></span><span class="k">def</span> <span class="nf">F</span><span class="p">(</span><span class="n">x</span><span class="p">):</span>
    <span class="k">def</span> <span class="nf">f_inf</span><span class="p">(</span><span class="n">t</span><span class="p">):</span>
        <span class="k">return</span> <span class="p">(</span><span class="mi">1</span> <span class="o">-</span> <span class="n">np</span><span class="o">.</span><span class="n">cos</span><span class="p">(</span><span class="n">x</span> <span class="o">*</span> <span class="n">t</span><span class="p">))</span> <span class="o">/</span> <span class="p">(</span><span class="n">t</span><span class="o">**</span><span class="mi">2</span> <span class="o">*</span> <span class="p">(</span><span class="mi">1</span> <span class="o">+</span> <span class="n">t</span><span class="o">**</span><span class="mi">2</span><span class="p">))</span>
    <span class="k">return</span> <span class="n">integral</span><span class="p">(</span><span class="n">f_inf</span><span class="p">,</span> <span class="mi">0</span><span class="p">,</span> <span class="n">np</span><span class="o">.</span><span class="n">inf</span><span class="p">)[</span><span class="mi">0</span><span class="p">]</span>

<span class="n">eps</span> <span class="o">=</span> <span class="mf">1e-4</span>
<span class="n">x</span> <span class="o">=</span> <span class="n">np</span><span class="o">.</span><span class="n">linspace</span><span class="p">(</span><span class="mi">0</span> <span class="o">+</span> <span class="n">eps</span><span class="p">,</span> <span class="mi">10</span><span class="p">,</span> <span class="mi">1000</span><span class="p">)</span>
<span class="n">plt</span><span class="o">.</span><span class="n">figure</span><span class="p">()</span>
<span class="n">plt</span><span class="o">.</span><span class="n">plot</span><span class="p">(</span><span class="n">x</span><span class="p">,</span> <span class="n">np</span><span class="o">.</span><span class="n">vectorize</span><span class="p">(</span><span class="n">F</span><span class="p">)(</span><span class="n">x</span><span class="p">))</span>
<span class="n">plt</span><span class="o">.</span><span class="n">title</span><span class="p">(</span><span class="s2">&quot;$F(x)$ pour $x = 0 .. 10$&quot;</span><span class="p">)</span>
<span class="n">plt</span><span class="o">.</span><span class="n">show</span><span class="p">()</span>
</pre></div>

    </div>
</div>
</div>

<div class="output_wrapper">
<div class="output">


<div class="output_area">

    <div class="prompt output_prompt">Out[7]:</div>




<div class="output_text output_subarea output_execute_result">
<pre>&lt;matplotlib.figure.Figure at 0x7fcd4243d6d8&gt;</pre>
</div>

</div>

<div class="output_area">

    <div class="prompt"></div>


<div class="output_subarea output_stream output_stderr output_text">
<pre>/usr/local/lib/python3.5/dist-packages/scipy/integrate/quadpack.py:364: IntegrationWarning: The maximum number of subdivisions (50) has been achieved.
  If increasing the limit yields no improvement it is advised to analyze 
  the integrand in order to determine the difficulties.  If the position of a 
  local difficulty can be determined (singularity, discontinuity) one will 
  probably gain from splitting up the interval and calling the integrator 
  on the subranges.  Perhaps a special-purpose integrator should be used.
  warnings.warn(msg, IntegrationWarning)
</pre>
</div>
</div>

<div class="output_area">

    <div class="prompt output_prompt">Out[7]:</div>




<div class="output_text output_subarea output_execute_result">
<pre>[&lt;matplotlib.lines.Line2D at 0x7fcd2ccf3a90&gt;]</pre>
</div>

</div>

<div class="output_area">

    <div class="prompt output_prompt">Out[7]:</div>




<div class="output_text output_subarea output_execute_result">
<pre>&lt;matplotlib.text.Text at 0x7fcd2ccd7470&gt;</pre>
</div>

</div>

<div class="output_area">

    <div class="prompt"></div>




<div class="output_png output_subarea ">
<img src="data:image/png;base64,iVBORw0KGgoAAAANSUhEUgAABHUAAAKECAYAAACJjAarAAAABHNCSVQICAgIfAhkiAAAAAlwSFlz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"
>
</div>

</div>

</div>
</div>

</div>
<div class="cell border-box-sizing text_cell rendered"><div class="prompt input_prompt">
</div><div class="inner_cell">
<div class="text_cell_render border-box-sizing rendered_html">
<p>On constate sur la figure que $F$ est bien prolongeable par continuité en $0$.</p>
<p>On montrerait aussi que $F$ est de classe $\mathcal{C}^1$ facilement, par application directe du théorème de dérivation généralisée sous le signe intégral.</p>

</div>
</div>
</div>
<div class="cell border-box-sizing text_cell rendered"><div class="prompt input_prompt">
</div><div class="inner_cell">
<div class="text_cell_render border-box-sizing rendered_html">
<hr>
<h2 id="Planche-162">Planche 162<a class="anchor-link" href="#Planche-162">&#182;</a></h2><p>Soit $(P_n)_{n\geq 0}$ une suite de polynômes définis par $P_0 = 1$, $P_1 = 2X$ et $P_{n+1} = 2 X P_n - P_{n-1}$. Calculons $P_2,\dots,P_8$.</p>
<p>On pourrait tout faire avec des listes gérées manuellement, mais c'est assez compliqué.</p>
<p>Il vaut mieux aller vite, en utilisant le module <a href="https://docs.scipy.org/doc/numpy/reference/routines.polynomials.classes.html">numpy.polynomial</a>.</p>

</div>
</div>
</div>
<div class="cell border-box-sizing code_cell rendered">
<div class="input">
<div class="prompt input_prompt">In&nbsp;[8]:</div>
<div class="inner_cell">
    <div class="input_area">
<div class=" highlight hl-ipython3"><pre><span></span><span class="c1"># Ce morceau est juste là pour avoir un joli rendu</span>
<span class="k">def</span> <span class="nf">Polynomial_to_LaTeX</span><span class="p">(</span><span class="n">p</span><span class="p">):</span>
    <span class="sd">&quot;&quot;&quot; Small function to print nicely the polynomial p as we write it in maths, in LaTeX code.</span>
<span class="sd">    </span>
<span class="sd">    - Source: https://nbviewer.jupyter.org/github/Naereen/notebooks/blob/master/Demonstration%20of%20numpy.polynomial.Polynomial%20and%20nice%20display%20with%20LaTeX%20and%20MathJax%20%28python3%29.ipynb</span>
<span class="sd">    &quot;&quot;&quot;</span>
    <span class="n">coefs</span> <span class="o">=</span> <span class="n">p</span><span class="o">.</span><span class="n">coef</span>  <span class="c1"># List of coefficient, sorted by increasing degrees</span>
    <span class="n">res</span> <span class="o">=</span> <span class="s2">&quot;&quot;</span>  <span class="c1"># The resulting string</span>
    <span class="k">for</span> <span class="n">i</span><span class="p">,</span> <span class="n">a</span> <span class="ow">in</span> <span class="nb">enumerate</span><span class="p">(</span><span class="n">coefs</span><span class="p">):</span>
        <span class="k">if</span> <span class="nb">int</span><span class="p">(</span><span class="n">a</span><span class="p">)</span> <span class="o">==</span> <span class="n">a</span><span class="p">:</span>  <span class="c1"># Remove the trailing .0</span>
            <span class="n">a</span> <span class="o">=</span> <span class="nb">int</span><span class="p">(</span><span class="n">a</span><span class="p">)</span>
        <span class="k">if</span> <span class="n">i</span> <span class="o">==</span> <span class="mi">0</span><span class="p">:</span>  <span class="c1"># First coefficient, no need for X</span>
            <span class="k">if</span> <span class="n">a</span> <span class="o">&gt;</span> <span class="mi">0</span><span class="p">:</span>
                <span class="n">res</span> <span class="o">+=</span> <span class="s2">&quot;</span><span class="si">{a}</span><span class="s2"> + &quot;</span><span class="o">.</span><span class="n">format</span><span class="p">(</span><span class="n">a</span><span class="o">=</span><span class="n">a</span><span class="p">)</span>
            <span class="k">elif</span> <span class="n">a</span> <span class="o">&lt;</span> <span class="mi">0</span><span class="p">:</span>  <span class="c1"># Negative a is printed like (a)</span>
                <span class="n">res</span> <span class="o">+=</span> <span class="s2">&quot;(</span><span class="si">{a}</span><span class="s2">) + &quot;</span><span class="o">.</span><span class="n">format</span><span class="p">(</span><span class="n">a</span><span class="o">=</span><span class="n">a</span><span class="p">)</span>
            <span class="c1"># a = 0 is not displayed </span>
        <span class="k">elif</span> <span class="n">i</span> <span class="o">==</span> <span class="mi">1</span><span class="p">:</span>  <span class="c1"># Second coefficient, only X and not X**i</span>
            <span class="k">if</span> <span class="n">a</span> <span class="o">==</span> <span class="mi">1</span><span class="p">:</span>  <span class="c1"># a = 1 does not need to be displayed</span>
                <span class="n">res</span> <span class="o">+=</span> <span class="s2">&quot;X + &quot;</span>
            <span class="k">elif</span> <span class="n">a</span> <span class="o">&gt;</span> <span class="mi">0</span><span class="p">:</span>
                <span class="n">res</span> <span class="o">+=</span> <span class="s2">&quot;</span><span class="si">{a}</span><span class="s2"> \;X + &quot;</span><span class="o">.</span><span class="n">format</span><span class="p">(</span><span class="n">a</span><span class="o">=</span><span class="n">a</span><span class="p">)</span>
            <span class="k">elif</span> <span class="n">a</span> <span class="o">&lt;</span> <span class="mi">0</span><span class="p">:</span>
                <span class="n">res</span> <span class="o">+=</span> <span class="s2">&quot;(</span><span class="si">{a}</span><span class="s2">) \;X + &quot;</span><span class="o">.</span><span class="n">format</span><span class="p">(</span><span class="n">a</span><span class="o">=</span><span class="n">a</span><span class="p">)</span>
        <span class="k">else</span><span class="p">:</span>
            <span class="k">if</span> <span class="n">a</span> <span class="o">==</span> <span class="mi">1</span><span class="p">:</span>
                <span class="c1"># A special care needs to be addressed to put the exponent in {..} in LaTeX</span>
                <span class="n">res</span> <span class="o">+=</span> <span class="s2">&quot;X^</span><span class="si">{i}</span><span class="s2"> + &quot;</span><span class="o">.</span><span class="n">format</span><span class="p">(</span><span class="n">i</span><span class="o">=</span><span class="s2">&quot;{</span><span class="si">%d</span><span class="s2">}&quot;</span> <span class="o">%</span> <span class="n">i</span><span class="p">)</span>
            <span class="k">elif</span> <span class="n">a</span> <span class="o">&gt;</span> <span class="mi">0</span><span class="p">:</span>
                <span class="n">res</span> <span class="o">+=</span> <span class="s2">&quot;</span><span class="si">{a}</span><span class="s2"> \;X^</span><span class="si">{i}</span><span class="s2"> + &quot;</span><span class="o">.</span><span class="n">format</span><span class="p">(</span><span class="n">a</span><span class="o">=</span><span class="n">a</span><span class="p">,</span> <span class="n">i</span><span class="o">=</span><span class="s2">&quot;{</span><span class="si">%d</span><span class="s2">}&quot;</span> <span class="o">%</span> <span class="n">i</span><span class="p">)</span>
            <span class="k">elif</span> <span class="n">a</span> <span class="o">&lt;</span> <span class="mi">0</span><span class="p">:</span>
                <span class="n">res</span> <span class="o">+=</span> <span class="s2">&quot;(</span><span class="si">{a}</span><span class="s2">) \;X^</span><span class="si">{i}</span><span class="s2"> + &quot;</span><span class="o">.</span><span class="n">format</span><span class="p">(</span><span class="n">a</span><span class="o">=</span><span class="n">a</span><span class="p">,</span> <span class="n">i</span><span class="o">=</span><span class="s2">&quot;{</span><span class="si">%d</span><span class="s2">}&quot;</span> <span class="o">%</span> <span class="n">i</span><span class="p">)</span>
    <span class="k">if</span> <span class="n">res</span> <span class="o">==</span> <span class="s2">&quot;&quot;</span><span class="p">:</span>
        <span class="n">res</span> <span class="o">=</span> <span class="s2">&quot;0000&quot;</span>
    <span class="k">return</span> <span class="s2">&quot;$&quot;</span> <span class="o">+</span> <span class="n">res</span><span class="p">[:</span><span class="o">-</span><span class="mi">3</span><span class="p">]</span> <span class="o">+</span> <span class="s2">&quot;$&quot;</span>

<span class="k">def</span> <span class="nf">setup_prrint</span><span class="p">():</span>
    <span class="n">ip</span> <span class="o">=</span> <span class="n">get_ipython</span><span class="p">()</span>
    <span class="n">latex_formatter</span> <span class="o">=</span> <span class="n">ip</span><span class="o">.</span><span class="n">display_formatter</span><span class="o">.</span><span class="n">formatters</span><span class="p">[</span><span class="s1">&#39;text/latex&#39;</span><span class="p">]</span>
    <span class="n">latex_formatter</span><span class="o">.</span><span class="n">for_type_by_name</span><span class="p">(</span><span class="s1">&#39;numpy.polynomial.polynomial&#39;</span><span class="p">,</span>
                                     <span class="s1">&#39;Polynomial&#39;</span><span class="p">,</span> <span class="n">Polynomial_to_LaTeX</span><span class="p">)</span>

<span class="n">setup_prrint</span><span class="p">()</span>
</pre></div>

    </div>
</div>
</div>

</div>
<div class="cell border-box-sizing text_cell rendered"><div class="prompt input_prompt">
</div><div class="inner_cell">
<div class="text_cell_render border-box-sizing rendered_html">
<p>Je recommande d'importer <code>numpy.polynomial.Polynomial</code> et de l'appeller <code>P</code>.
Définir directement le monôme $X$ comme <code>P([0, 1])</code>, donné par la liste de ses coefficients $[a_k]_{0 \leq k \leq \delta(X)} = [0, 1]$.</p>

</div>
</div>
</div>
<div class="cell border-box-sizing code_cell rendered">
<div class="input">
<div class="prompt input_prompt">In&nbsp;[9]:</div>
<div class="inner_cell">
    <div class="input_area">
<div class=" highlight hl-ipython3"><pre><span></span><span class="kn">from</span> <span class="nn">numpy.polynomial</span> <span class="k">import</span> <span class="n">Polynomial</span> <span class="k">as</span> <span class="n">P</span>
<span class="n">X</span> <span class="o">=</span> <span class="n">P</span><span class="p">([</span><span class="mi">0</span><span class="p">,</span> <span class="mi">1</span><span class="p">])</span>
<span class="n">X</span>
</pre></div>

    </div>
</div>
</div>

<div class="output_wrapper">
<div class="output">


<div class="output_area">

    <div class="prompt output_prompt">Out[9]:</div>




<div class="output_latex output_subarea output_execute_result">
$X$
</div>

</div>

</div>
</div>

</div>
<div class="cell border-box-sizing text_cell rendered"><div class="prompt input_prompt">
</div><div class="inner_cell">
<div class="text_cell_render border-box-sizing rendered_html">
<p>Ensuite, on peut rapidement écrire une fonction, qui donne $P_n$ pour un $n \geq 0$.
Pas besoin d'être malin, on recalcule tout dans la fonction.</p>
<ul>
<li><code>Pnm1</code> signifie $P_{n - 1}$</li>
<li><code>Pnext</code> signifie $P_{n + 1}$</li>
</ul>

</div>
</div>
</div>
<div class="cell border-box-sizing code_cell rendered">
<div class="input">
<div class="prompt input_prompt">In&nbsp;[10]:</div>
<div class="inner_cell">
    <div class="input_area">
<div class=" highlight hl-ipython3"><pre><span></span><span class="k">def</span> <span class="nf">P_n</span><span class="p">(</span><span class="n">n</span><span class="p">):</span>
    <span class="n">P0</span> <span class="o">=</span> <span class="n">P</span><span class="p">([</span><span class="mi">1</span><span class="p">])</span>
    <span class="n">P1</span> <span class="o">=</span> <span class="n">P</span><span class="p">([</span><span class="mi">0</span><span class="p">,</span> <span class="mi">2</span><span class="p">])</span>
    <span class="n">Pnm1</span><span class="p">,</span> <span class="n">Pn</span> <span class="o">=</span> <span class="n">P0</span><span class="p">,</span> <span class="n">P1</span>
    <span class="k">for</span> <span class="n">i</span> <span class="ow">in</span> <span class="nb">range</span><span class="p">(</span><span class="n">n</span><span class="p">):</span>
        <span class="n">Pnext</span> <span class="o">=</span> <span class="p">(</span><span class="mi">2</span> <span class="o">*</span> <span class="n">X</span> <span class="o">*</span> <span class="n">Pn</span><span class="p">)</span> <span class="o">-</span> <span class="n">Pnm1</span>
        <span class="n">Pnm1</span><span class="p">,</span> <span class="n">Pn</span> <span class="o">=</span> <span class="n">Pn</span><span class="p">,</span> <span class="n">Pnext</span>
    <span class="k">return</span> <span class="n">Pnm1</span>

<span class="k">for</span> <span class="n">n</span> <span class="ow">in</span> <span class="nb">range</span><span class="p">(</span><span class="mi">0</span><span class="p">,</span> <span class="mi">1</span> <span class="o">+</span> <span class="mi">8</span><span class="p">):</span>
    <span class="nb">print</span><span class="p">(</span><span class="s2">&quot;Pour n =&quot;</span><span class="p">,</span> <span class="n">n</span><span class="p">,</span> <span class="s2">&quot;P_n =&quot;</span><span class="p">)</span>
    <span class="n">P_n</span><span class="p">(</span><span class="n">n</span><span class="p">)</span>
</pre></div>

    </div>
</div>
</div>

<div class="output_wrapper">
<div class="output">


<div class="output_area">

    <div class="prompt"></div>


<div class="output_subarea output_stream output_stdout output_text">
<pre>Pour n = 0 P_n =
</pre>
</div>
</div>

<div class="output_area">

    <div class="prompt output_prompt">Out[10]:</div>




<div class="output_latex output_subarea output_execute_result">
$1$
</div>

</div>

<div class="output_area">

    <div class="prompt"></div>


<div class="output_subarea output_stream output_stdout output_text">
<pre>Pour n = 1 P_n =
</pre>
</div>
</div>

<div class="output_area">

    <div class="prompt output_prompt">Out[10]:</div>




<div class="output_latex output_subarea output_execute_result">
$2 \;X$
</div>

</div>

<div class="output_area">

    <div class="prompt"></div>


<div class="output_subarea output_stream output_stdout output_text">
<pre>Pour n = 2 P_n =
</pre>
</div>
</div>

<div class="output_area">

    <div class="prompt output_prompt">Out[10]:</div>




<div class="output_latex output_subarea output_execute_result">
$(-1) + 4 \;X^{2}$
</div>

</div>

<div class="output_area">

    <div class="prompt"></div>


<div class="output_subarea output_stream output_stdout output_text">
<pre>Pour n = 3 P_n =
</pre>
</div>
</div>

<div class="output_area">

    <div class="prompt output_prompt">Out[10]:</div>




<div class="output_latex output_subarea output_execute_result">
$(-4) \;X + 8 \;X^{3}$
</div>

</div>

<div class="output_area">

    <div class="prompt"></div>


<div class="output_subarea output_stream output_stdout output_text">
<pre>Pour n = 4 P_n =
</pre>
</div>
</div>

<div class="output_area">

    <div class="prompt output_prompt">Out[10]:</div>




<div class="output_latex output_subarea output_execute_result">
$1 + (-12) \;X^{2} + 16 \;X^{4}$
</div>

</div>

<div class="output_area">

    <div class="prompt"></div>


<div class="output_subarea output_stream output_stdout output_text">
<pre>Pour n = 5 P_n =
</pre>
</div>
</div>

<div class="output_area">

    <div class="prompt output_prompt">Out[10]:</div>




<div class="output_latex output_subarea output_execute_result">
$6 \;X + (-32) \;X^{3} + 32 \;X^{5}$
</div>

</div>

<div class="output_area">

    <div class="prompt"></div>


<div class="output_subarea output_stream output_stdout output_text">
<pre>Pour n = 6 P_n =
</pre>
</div>
</div>

<div class="output_area">

    <div class="prompt output_prompt">Out[10]:</div>




<div class="output_latex output_subarea output_execute_result">
$(-1) + 24 \;X^{2} + (-80) \;X^{4} + 64 \;X^{6}$
</div>

</div>

<div class="output_area">

    <div class="prompt"></div>


<div class="output_subarea output_stream output_stdout output_text">
<pre>Pour n = 7 P_n =
</pre>
</div>
</div>

<div class="output_area">

    <div class="prompt output_prompt">Out[10]:</div>




<div class="output_latex output_subarea output_execute_result">
$(-8) \;X + 80 \;X^{3} + (-192) \;X^{5} + 128 \;X^{7}$
</div>

</div>

<div class="output_area">

    <div class="prompt"></div>


<div class="output_subarea output_stream output_stdout output_text">
<pre>Pour n = 8 P_n =
</pre>
</div>
</div>

<div class="output_area">

    <div class="prompt output_prompt">Out[10]:</div>




<div class="output_latex output_subarea output_execute_result">
$1 + (-40) \;X^{2} + 240 \;X^{4} + (-448) \;X^{6} + 256 \;X^{8}$
</div>

</div>

</div>
</div>

</div>
<div class="cell border-box-sizing text_cell rendered"><div class="prompt input_prompt">
</div><div class="inner_cell">
<div class="text_cell_render border-box-sizing rendered_html">
<p>Premières observations :</p>
<ul>
<li>Le dégré de $P_n$ est $n$,</li>
<li>Son coefficient dominant est $2^{n-1}$ si $n&gt;0$,</li>
<li>Sa parité est impaire si $n$ est pair, paire si $n$ est impair.</li>
</ul>
<p>Ces trois points se montrent assez rapidement par récurrence simple, à partir de $P_0,P_1$ et la relation de récurrence définissant $P_n$.</p>

</div>
</div>
</div>
<div class="cell border-box-sizing text_cell rendered"><div class="prompt input_prompt">
</div><div class="inner_cell">
<div class="text_cell_render border-box-sizing rendered_html">
<p>On vérifie mathématiquement que $\langle P, Q \rangle := \frac{2}{\pi} \int_{-1}^{1} \sqrt{1-t^2} P(t) Q(t) \mathrm{d}t$ est un produit scalaire pour les polynômes réels.
(il est évidemment bien défini puisque la racine carrée existe, et que les fonctions intégrées sont de continues sur $[-1,1]$, symétrique, positif si $P=Q$, et il est défini parce que $P^2(t) \geq 0$).</p>
<p>Calculons $\langle P_i, P_j \rangle$ pour $0 \leq i,j \leq 8$.
L'intégration est faite <em>numériquement</em>, avec <a href="https://docs.scipy.org/doc/scipy/reference/generated/scipy.integrate.quad.html"><code>scipy.integrate.quad</code></a>.</p>

</div>
</div>
</div>
<div class="cell border-box-sizing code_cell rendered">
<div class="input">
<div class="prompt input_prompt">In&nbsp;[11]:</div>
<div class="inner_cell">
    <div class="input_area">
<div class=" highlight hl-ipython3"><pre><span></span><span class="kn">from</span> <span class="nn">scipy.integrate</span> <span class="k">import</span> <span class="n">quad</span>

<span class="k">def</span> <span class="nf">produit_scalaire</span><span class="p">(</span><span class="n">P</span><span class="p">,</span> <span class="n">Q</span><span class="p">):</span>
    <span class="k">def</span> <span class="nf">f</span><span class="p">(</span><span class="n">t</span><span class="p">):</span>
        <span class="k">return</span> <span class="n">np</span><span class="o">.</span><span class="n">sqrt</span><span class="p">(</span><span class="mi">1</span> <span class="o">-</span> <span class="n">t</span><span class="o">**</span><span class="mi">2</span><span class="p">)</span> <span class="o">*</span> <span class="n">P</span><span class="p">(</span><span class="n">t</span><span class="p">)</span> <span class="o">*</span> <span class="n">Q</span><span class="p">(</span><span class="n">t</span><span class="p">)</span>
    <span class="k">return</span> <span class="p">(</span><span class="mi">2</span> <span class="o">/</span> <span class="n">np</span><span class="o">.</span><span class="n">pi</span><span class="p">)</span> <span class="o">*</span> <span class="n">quad</span><span class="p">(</span><span class="n">f</span><span class="p">,</span> <span class="o">-</span><span class="mi">1</span><span class="p">,</span> <span class="mi">1</span><span class="p">)[</span><span class="mi">0</span><span class="p">]</span>
</pre></div>

    </div>
</div>
</div>

</div>
<div class="cell border-box-sizing code_cell rendered">
<div class="input">
<div class="prompt input_prompt">In&nbsp;[12]:</div>
<div class="inner_cell">
    <div class="input_area">
<div class=" highlight hl-ipython3"><pre><span></span><span class="c1"># on calcule qu&#39;une seule fois</span>
<span class="n">P_n_s</span> <span class="o">=</span> <span class="p">[</span><span class="n">P_n</span><span class="p">(</span><span class="n">n</span><span class="p">)</span> <span class="k">for</span> <span class="n">n</span> <span class="ow">in</span> <span class="nb">range</span><span class="p">(</span><span class="mi">0</span><span class="p">,</span> <span class="mi">1</span> <span class="o">+</span> <span class="mi">8</span><span class="p">)]</span>

<span class="k">for</span> <span class="n">i</span> <span class="ow">in</span> <span class="nb">range</span><span class="p">(</span><span class="mi">1</span><span class="p">,</span> <span class="mi">1</span> <span class="o">+</span> <span class="mi">8</span><span class="p">):</span>
    <span class="k">for</span> <span class="n">j</span> <span class="ow">in</span> <span class="nb">range</span><span class="p">(</span><span class="n">i</span><span class="p">,</span> <span class="mi">1</span> <span class="o">+</span> <span class="mi">8</span><span class="p">):</span>
        <span class="n">Pi</span><span class="p">,</span> <span class="n">Pj</span> <span class="o">=</span> <span class="n">P_n_s</span><span class="p">[</span><span class="n">i</span><span class="p">],</span> <span class="n">P_n_s</span><span class="p">[</span><span class="n">j</span><span class="p">]</span>
        <span class="n">ps</span> <span class="o">=</span> <span class="n">np</span><span class="o">.</span><span class="n">round</span><span class="p">(</span><span class="n">produit_scalaire</span><span class="p">(</span><span class="n">Pi</span><span class="p">,</span> <span class="n">Pj</span><span class="p">),</span> <span class="mi">8</span><span class="p">)</span>
        <span class="nb">print</span><span class="p">(</span><span class="s2">&quot;&lt; P_</span><span class="si">{}</span><span class="s2">, P_</span><span class="si">{}</span><span class="s2"> &gt; = </span><span class="si">{:.3g}</span><span class="s2">&quot;</span><span class="o">.</span><span class="n">format</span><span class="p">(</span><span class="n">i</span><span class="p">,</span> <span class="n">j</span><span class="p">,</span> <span class="n">ps</span><span class="p">))</span>
</pre></div>

    </div>
</div>
</div>

<div class="output_wrapper">
<div class="output">


<div class="output_area">

    <div class="prompt"></div>


<div class="output_subarea output_stream output_stdout output_text">
<pre>&lt; P_1, P_1 &gt; = 1
&lt; P_1, P_2 &gt; = 0
&lt; P_1, P_3 &gt; = -0
&lt; P_1, P_4 &gt; = 0
&lt; P_1, P_5 &gt; = -0
&lt; P_1, P_6 &gt; = 0
&lt; P_1, P_7 &gt; = -0
&lt; P_1, P_8 &gt; = 0
&lt; P_2, P_2 &gt; = 1
&lt; P_2, P_3 &gt; = 0
&lt; P_2, P_4 &gt; = -0
&lt; P_2, P_5 &gt; = 0
&lt; P_2, P_6 &gt; = -0
&lt; P_2, P_7 &gt; = 0
&lt; P_2, P_8 &gt; = -0
&lt; P_3, P_3 &gt; = 1
&lt; P_3, P_4 &gt; = 0
&lt; P_3, P_5 &gt; = -0
&lt; P_3, P_6 &gt; = 0
&lt; P_3, P_7 &gt; = -0
&lt; P_3, P_8 &gt; = 0
&lt; P_4, P_4 &gt; = 1
&lt; P_4, P_5 &gt; = 0
&lt; P_4, P_6 &gt; = -0
&lt; P_4, P_7 &gt; = 0
&lt; P_4, P_8 &gt; = -0
&lt; P_5, P_5 &gt; = 1
&lt; P_5, P_6 &gt; = 0
&lt; P_5, P_7 &gt; = -0
&lt; P_5, P_8 &gt; = 0
&lt; P_6, P_6 &gt; = 1
&lt; P_6, P_7 &gt; = 0
&lt; P_6, P_8 &gt; = -0
&lt; P_7, P_7 &gt; = 1
&lt; P_7, P_8 &gt; = 0
&lt; P_8, P_8 &gt; = 1
</pre>
</div>
</div>

</div>
</div>

</div>
<div class="cell border-box-sizing code_cell rendered">
<div class="input">
<div class="prompt input_prompt">In&nbsp;[15]:</div>
<div class="inner_cell">
    <div class="input_area">
<div class=" highlight hl-ipython3"><pre><span></span><span class="n">produits_scalaires</span> <span class="o">=</span> <span class="n">np</span><span class="o">.</span><span class="n">zeros</span><span class="p">((</span><span class="mi">8</span><span class="p">,</span> <span class="mi">8</span><span class="p">))</span>

<span class="k">for</span> <span class="n">i</span> <span class="ow">in</span> <span class="nb">range</span><span class="p">(</span><span class="mi">1</span><span class="p">,</span> <span class="mi">1</span> <span class="o">+</span> <span class="mi">8</span><span class="p">):</span>
    <span class="k">for</span> <span class="n">j</span> <span class="ow">in</span> <span class="nb">range</span><span class="p">(</span><span class="n">i</span><span class="p">,</span> <span class="mi">1</span> <span class="o">+</span> <span class="mi">8</span><span class="p">):</span>
        <span class="n">Pi</span><span class="p">,</span> <span class="n">Pj</span> <span class="o">=</span> <span class="n">P_n_s</span><span class="p">[</span><span class="n">i</span><span class="p">],</span> <span class="n">P_n_s</span><span class="p">[</span><span class="n">j</span><span class="p">]</span>
        <span class="n">produits_scalaires</span><span class="p">[</span><span class="n">i</span> <span class="o">-</span> <span class="mi">1</span><span class="p">,</span> <span class="n">j</span> <span class="o">-</span> <span class="mi">1</span><span class="p">]</span> <span class="o">=</span> <span class="n">np</span><span class="o">.</span><span class="n">round</span><span class="p">(</span><span class="n">produit_scalaire</span><span class="p">(</span><span class="n">Pi</span><span class="p">,</span> <span class="n">Pj</span><span class="p">),</span> <span class="mi">8</span><span class="p">)</span>

<span class="n">produits_scalaires</span><span class="o">.</span><span class="n">astype</span><span class="p">(</span><span class="nb">int</span><span class="p">)</span>
</pre></div>

    </div>
</div>
</div>

<div class="output_wrapper">
<div class="output">


<div class="output_area">

    <div class="prompt output_prompt">Out[15]:</div>




<div class="output_text output_subarea output_execute_result">
<pre>array([[1, 0, 0, 0, 0, 0, 0, 0],
       [0, 1, 0, 0, 0, 0, 0, 0],
       [0, 0, 1, 0, 0, 0, 0, 0],
       [0, 0, 0, 1, 0, 0, 0, 0],
       [0, 0, 0, 0, 1, 0, 0, 0],
       [0, 0, 0, 0, 0, 1, 0, 0],
       [0, 0, 0, 0, 0, 0, 1, 0],
       [0, 0, 0, 0, 0, 0, 0, 1]])</pre>
</div>

</div>

</div>
</div>

</div>
<div class="cell border-box-sizing text_cell rendered"><div class="prompt input_prompt">
</div><div class="inner_cell">
<div class="text_cell_render border-box-sizing rendered_html">
<p>La famille $(P_i)_{0 \leq i \leq 8}\;$  est <em>orthogonale</em>.
(les <code>-0</code> sont des <code>0</code>, la différence vient des erreurs d'arrondis).</p>

</div>
</div>
</div>
<div class="cell border-box-sizing text_cell rendered"><div class="prompt input_prompt">
</div><div class="inner_cell">
<div class="text_cell_render border-box-sizing rendered_html">
<p>Soit $\Phi(P) = 3XP' - (1-X^2)P''$ (erreur dans l'énoncé, le deuxième terme est évidemment $P''$ et non $P'$).
Elle conserve (ou diminue) le degré de $P$.</p>

</div>
</div>
</div>
<div class="cell border-box-sizing code_cell rendered">
<div class="input">
<div class="prompt input_prompt">In&nbsp;[16]:</div>
<div class="inner_cell">
    <div class="input_area">
<div class=" highlight hl-ipython3"><pre><span></span><span class="k">def</span> <span class="nf">Phi</span><span class="p">(</span><span class="n">P</span><span class="p">):</span>
    <span class="k">return</span> <span class="mi">3</span> <span class="o">*</span> <span class="n">X</span> <span class="o">*</span> <span class="n">P</span><span class="o">.</span><span class="n">deriv</span><span class="p">()</span> <span class="o">-</span> <span class="p">(</span><span class="mi">1</span> <span class="o">-</span> <span class="n">X</span><span class="o">**</span><span class="mi">2</span><span class="p">)</span> <span class="o">*</span> <span class="n">P</span><span class="o">.</span><span class="n">deriv</span><span class="p">(</span><span class="mi">2</span><span class="p">)</span>
</pre></div>

    </div>
</div>
</div>

</div>
<div class="cell border-box-sizing text_cell rendered"><div class="prompt input_prompt">
</div><div class="inner_cell">
<div class="text_cell_render border-box-sizing rendered_html">
<p>On calcule sa matrice de passage, dans la base $(P_i)_{1\leq i \leq 8}$ :</p>

</div>
</div>
</div>
<div class="cell border-box-sizing code_cell rendered">
<div class="input">
<div class="prompt input_prompt">In&nbsp;[17]:</div>
<div class="inner_cell">
    <div class="input_area">
<div class=" highlight hl-ipython3"><pre><span></span><span class="c1"># on calcule qu&#39;une seule fois</span>
<span class="n">P_n_s</span> <span class="o">=</span> <span class="p">[</span><span class="n">P_n</span><span class="p">(</span><span class="n">n</span><span class="p">)</span> <span class="k">for</span> <span class="n">n</span> <span class="ow">in</span> <span class="nb">range</span><span class="p">(</span><span class="mi">0</span><span class="p">,</span> <span class="mi">1</span> <span class="o">+</span> <span class="mi">8</span><span class="p">)]</span>

<span class="n">matrice_Phi</span> <span class="o">=</span> <span class="p">[</span>
    <span class="p">[</span>
        <span class="n">np</span><span class="o">.</span><span class="n">round</span><span class="p">(</span><span class="n">produit_scalaire</span><span class="p">(</span><span class="n">Phi</span><span class="p">(</span><span class="n">P_n_s</span><span class="p">[</span><span class="n">i</span><span class="p">]),</span> <span class="n">P_n_s</span><span class="p">[</span><span class="n">j</span><span class="p">]),</span> <span class="mi">8</span><span class="p">)</span>
        <span class="k">for</span> <span class="n">i</span> <span class="ow">in</span> <span class="nb">range</span><span class="p">(</span><span class="mi">1</span><span class="p">,</span> <span class="mi">1</span> <span class="o">+</span> <span class="mi">8</span><span class="p">)</span>
    <span class="p">]</span> <span class="k">for</span> <span class="n">j</span> <span class="ow">in</span> <span class="nb">range</span><span class="p">(</span><span class="mi">1</span><span class="p">,</span> <span class="mi">1</span> <span class="o">+</span> <span class="mi">8</span><span class="p">)</span>
<span class="p">]</span>
<span class="n">matrice_Phi</span> <span class="o">=</span> <span class="n">np</span><span class="o">.</span><span class="n">array</span><span class="p">(</span><span class="n">matrice_Phi</span><span class="p">,</span> <span class="n">dtype</span><span class="o">=</span><span class="nb">int</span><span class="p">)</span>
</pre></div>

    </div>
</div>
</div>

</div>
<div class="cell border-box-sizing code_cell rendered">
<div class="input">
<div class="prompt input_prompt">In&nbsp;[18]:</div>
<div class="inner_cell">
    <div class="input_area">
<div class=" highlight hl-ipython3"><pre><span></span><span class="n">matrice_Phi</span><span class="o">.</span><span class="n">shape</span>
<span class="n">matrice_Phi</span>
</pre></div>

    </div>
</div>
</div>

<div class="output_wrapper">
<div class="output">


<div class="output_area">

    <div class="prompt output_prompt">Out[18]:</div>




<div class="output_text output_subarea output_execute_result">
<pre>(8, 8)</pre>
</div>

</div>

<div class="output_area">

    <div class="prompt output_prompt">Out[18]:</div>




<div class="output_text output_subarea output_execute_result">
<pre>array([[ 3,  0,  0,  0,  0,  0,  0,  0],
       [ 0,  8,  0,  0,  0,  0,  0,  0],
       [ 0,  0, 15,  0,  0,  0,  0,  0],
       [ 0,  0,  0, 24,  0,  0,  0,  0],
       [ 0,  0,  0,  0, 35,  0,  0,  0],
       [ 0,  0,  0,  0,  0, 48,  0,  0],
       [ 0,  0,  0,  0,  0,  0, 63,  0],
       [ 0,  0,  0,  0,  0,  0,  0, 80]])</pre>
</div>

</div>

</div>
</div>

</div>
<div class="cell border-box-sizing text_cell rendered"><div class="prompt input_prompt">
</div><div class="inner_cell">
<div class="text_cell_render border-box-sizing rendered_html">
<p>Elle est diagonale ! Et trivialement inversible !</p>

</div>
</div>
</div>
<div class="cell border-box-sizing code_cell rendered">
<div class="input">
<div class="prompt input_prompt">In&nbsp;[19]:</div>
<div class="inner_cell">
    <div class="input_area">
<div class=" highlight hl-ipython3"><pre><span></span><span class="kn">from</span> <span class="nn">scipy.linalg</span> <span class="k">import</span> <span class="n">det</span>
<span class="n">det</span><span class="p">(</span><span class="n">matrice_Phi</span><span class="p">)</span>
</pre></div>

    </div>
</div>
</div>

<div class="output_wrapper">
<div class="output">


<div class="output_area">

    <div class="prompt output_prompt">Out[19]:</div>




<div class="output_text output_subarea output_execute_result">
<pre>73156608000.0</pre>
</div>

</div>

</div>
</div>

</div>
<div class="cell border-box-sizing text_cell rendered"><div class="prompt input_prompt">
</div><div class="inner_cell">
<div class="text_cell_render border-box-sizing rendered_html">
<p>Cette matrice est inversible, donc dans la base $(P_i)_{1\leq i \leq 8}$, l'application linéaire $\Phi$ est une bijection.</p>
<p>On peut même dire plus : en renormalisant les $P_i$, on peut faire de $\Phi$ l'identité...</p>

</div>
</div>
</div>
<div class="cell border-box-sizing code_cell rendered">
<div class="input">
<div class="prompt input_prompt">In&nbsp;[30]:</div>
<div class="inner_cell">
    <div class="input_area">
<div class=" highlight hl-ipython3"><pre><span></span><span class="n">P_n_s_normalises</span> <span class="o">=</span> <span class="n">np</span><span class="o">.</span><span class="n">asarray</span><span class="p">(</span><span class="n">P_n_s</span><span class="p">[</span><span class="mi">1</span><span class="p">:])</span> <span class="o">/</span> <span class="n">np</span><span class="o">.</span><span class="n">sqrt</span><span class="p">(</span><span class="n">matrice_Phi</span><span class="o">.</span><span class="n">diagonal</span><span class="p">())</span>

<span class="n">matrice_Phi_normalise</span> <span class="o">=</span> <span class="p">[</span>
    <span class="p">[</span>
        <span class="n">np</span><span class="o">.</span><span class="n">round</span><span class="p">(</span><span class="n">produit_scalaire</span><span class="p">(</span><span class="n">Phi</span><span class="p">(</span><span class="n">P_n_s_normalises</span><span class="p">[</span><span class="n">i</span> <span class="o">-</span> <span class="mi">1</span><span class="p">]),</span> <span class="n">P_n_s_normalises</span><span class="p">[</span><span class="n">j</span> <span class="o">-</span> <span class="mi">1</span><span class="p">]),</span> <span class="mi">8</span><span class="p">)</span>
        <span class="k">for</span> <span class="n">i</span> <span class="ow">in</span> <span class="nb">range</span><span class="p">(</span><span class="mi">1</span><span class="p">,</span> <span class="mi">1</span> <span class="o">+</span> <span class="mi">8</span><span class="p">)</span>
    <span class="p">]</span> <span class="k">for</span> <span class="n">j</span> <span class="ow">in</span> <span class="nb">range</span><span class="p">(</span><span class="mi">1</span><span class="p">,</span> <span class="mi">1</span> <span class="o">+</span> <span class="mi">8</span><span class="p">)</span>
<span class="p">]</span>
<span class="n">matrice_Phi_normalise</span> <span class="o">=</span> <span class="n">np</span><span class="o">.</span><span class="n">array</span><span class="p">(</span><span class="n">matrice_Phi_normalise</span><span class="p">)</span>

<span class="n">matrice_Phi_normalise</span><span class="o">.</span><span class="n">astype</span><span class="p">(</span><span class="nb">int</span><span class="p">)</span>
</pre></div>

    </div>
</div>
</div>

<div class="output_wrapper">
<div class="output">


<div class="output_area">

    <div class="prompt output_prompt">Out[30]:</div>




<div class="output_text output_subarea output_execute_result">
<pre>array([[1, 0, 0, 0, 0, 0, 0, 0],
       [0, 1, 0, 0, 0, 0, 0, 0],
       [0, 0, 1, 0, 0, 0, 0, 0],
       [0, 0, 0, 1, 0, 0, 0, 0],
       [0, 0, 0, 0, 1, 0, 0, 0],
       [0, 0, 0, 0, 0, 1, 0, 0],
       [0, 0, 0, 0, 0, 0, 1, 0],
       [0, 0, 0, 0, 0, 0, 0, 1]])</pre>
</div>

</div>

</div>
</div>

</div>
<div class="cell border-box-sizing text_cell rendered"><div class="prompt input_prompt">
</div><div class="inner_cell">
<div class="text_cell_render border-box-sizing rendered_html">
<p>On peut utiliser ce fait pour montrer, par deux intégrations par parties, le résultat annoncé sur l'orthogonalité de la famille $(P_i)_{1\leq i \leq 8}\;$.</p>

</div>
</div>
</div>
<div class="cell border-box-sizing text_cell rendered"><div class="prompt input_prompt">
</div><div class="inner_cell">
<div class="text_cell_render border-box-sizing rendered_html">
<hr>
<h2 id="Planche-170">Planche 170<a class="anchor-link" href="#Planche-170">&#182;</a></h2><p>On étudie le comportement d'une particule évoluant sur 4 états, avec certaines probabilités :</p>
<p><img src="centrale2017002_planche170.png" alt="centrale2017002_planche170.png"></p>

</div>
</div>
</div>
<div class="cell border-box-sizing text_cell rendered"><div class="prompt input_prompt">
</div><div class="inner_cell">
<div class="text_cell_render border-box-sizing rendered_html">
<p>On fixe la constante $p = \frac12$ dès maintenant, on définit la matrice de transition $A$, telle que définie un peu après dans l'exercice.</p>
<p>Les états sont représentés par <code>[0, 1, 2, 3]</code> plutôt que $A_0, A_1, A_2, A_3$.</p>

</div>
</div>
</div>
<div class="cell border-box-sizing code_cell rendered">
<div class="input">
<div class="prompt input_prompt">In&nbsp;[35]:</div>
<div class="inner_cell">
    <div class="input_area">
<div class=" highlight hl-ipython3"><pre><span></span><span class="n">p</span> <span class="o">=</span> <span class="mf">0.5</span>

<span class="n">A</span> <span class="o">=</span> <span class="n">np</span><span class="o">.</span><span class="n">array</span><span class="p">([</span>
    <span class="p">[</span><span class="mi">1</span><span class="p">,</span> <span class="mi">0</span><span class="p">,</span> <span class="mi">0</span><span class="p">,</span> <span class="mi">0</span><span class="p">],</span>
    <span class="p">[</span><span class="n">p</span><span class="p">,</span> <span class="mi">0</span><span class="p">,</span> <span class="mi">1</span><span class="o">-</span><span class="n">p</span><span class="p">,</span> <span class="mi">0</span><span class="p">],</span>
    <span class="p">[</span><span class="mi">0</span><span class="p">,</span> <span class="n">p</span><span class="p">,</span> <span class="mi">0</span><span class="p">,</span> <span class="mi">1</span><span class="o">-</span><span class="n">p</span><span class="p">],</span>
    <span class="p">[</span><span class="mi">0</span><span class="p">,</span> <span class="mi">0</span><span class="p">,</span> <span class="mi">0</span><span class="p">,</span> <span class="mi">1</span><span class="p">]</span>
<span class="p">])</span>
<span class="n">etats</span> <span class="o">=</span> <span class="p">[</span><span class="mi">0</span><span class="p">,</span> <span class="mi">1</span><span class="p">,</span> <span class="mi">2</span><span class="p">,</span> <span class="mi">3</span><span class="p">]</span>
</pre></div>

    </div>
</div>
</div>

</div>
<div class="cell border-box-sizing code_cell rendered">
<div class="input">
<div class="prompt input_prompt">In&nbsp;[36]:</div>
<div class="inner_cell">
    <div class="input_area">
<div class=" highlight hl-ipython3"><pre><span></span><span class="kn">import</span> <span class="nn">numpy.random</span> <span class="k">as</span> <span class="nn">rd</span>
</pre></div>

    </div>
</div>
</div>

</div>
<div class="cell border-box-sizing text_cell rendered"><div class="prompt input_prompt">
</div><div class="inner_cell">
<div class="text_cell_render border-box-sizing rendered_html">
<p>Une transition se fait en choisissant un état $x_{n+1}$ parmi $\{0, 1, 2, 3\}$, avec probabilité $\mathbb{P}(x_{n+1} = k) = A_{x_n, k}$.
La fonction <a href="https://docs.scipy.org/doc/numpy/reference/generated/numpy.random.choice.html"><code>numpy.random.choice</code></a> fait ça directement.</p>

</div>
</div>
</div>
<div class="cell border-box-sizing code_cell rendered">
<div class="input">
<div class="prompt input_prompt">In&nbsp;[37]:</div>
<div class="inner_cell">
    <div class="input_area">
<div class=" highlight hl-ipython3"><pre><span></span><span class="k">def</span> <span class="nf">une_transition</span><span class="p">(</span><span class="n">xn</span><span class="p">):</span>
    <span class="k">return</span> <span class="n">rd</span><span class="o">.</span><span class="n">choice</span><span class="p">(</span><span class="n">etats</span><span class="p">,</span> <span class="n">p</span> <span class="o">=</span> <span class="n">A</span><span class="p">[</span><span class="n">xn</span><span class="p">])</span>
</pre></div>

    </div>
</div>
</div>

</div>
<div class="cell border-box-sizing code_cell rendered">
<div class="input">
<div class="prompt input_prompt">In&nbsp;[44]:</div>
<div class="inner_cell">
    <div class="input_area">
<div class=" highlight hl-ipython3"><pre><span></span><span class="n">une_transition</span><span class="p">(</span><span class="mi">0</span><span class="p">)</span>
<span class="n">une_transition</span><span class="p">(</span><span class="mi">1</span><span class="p">)</span>
<span class="n">une_transition</span><span class="p">(</span><span class="mi">2</span><span class="p">)</span>
<span class="n">une_transition</span><span class="p">(</span><span class="mi">3</span><span class="p">)</span>
</pre></div>

    </div>
</div>
</div>

<div class="output_wrapper">
<div class="output">


<div class="output_area">

    <div class="prompt output_prompt">Out[44]:</div>




<div class="output_text output_subarea output_execute_result">
<pre>0</pre>
</div>

</div>

<div class="output_area">

    <div class="prompt output_prompt">Out[44]:</div>




<div class="output_text output_subarea output_execute_result">
<pre>0</pre>
</div>

</div>

<div class="output_area">

    <div class="prompt output_prompt">Out[44]:</div>




<div class="output_text output_subarea output_execute_result">
<pre>3</pre>
</div>

</div>

<div class="output_area">

    <div class="prompt output_prompt">Out[44]:</div>




<div class="output_text output_subarea output_execute_result">
<pre>3</pre>
</div>

</div>

</div>
</div>

</div>
<div class="cell border-box-sizing text_cell rendered"><div class="prompt input_prompt">
</div><div class="inner_cell">
<div class="text_cell_render border-box-sizing rendered_html">
<p>On peut écrire la fonction à la main, comme :</p>

</div>
</div>
</div>
<div class="cell border-box-sizing code_cell rendered">
<div class="input">
<div class="prompt input_prompt">In&nbsp;[45]:</div>
<div class="inner_cell">
    <div class="input_area">
<div class=" highlight hl-ipython3"><pre><span></span><span class="k">def</span> <span class="nf">une_transition_longue</span><span class="p">(</span><span class="n">xn</span><span class="p">):</span>
    <span class="k">if</span> <span class="n">xn</span> <span class="o">==</span> <span class="mi">0</span> <span class="ow">or</span> <span class="n">xn</span> <span class="o">==</span> <span class="mi">3</span><span class="p">:</span>
        <span class="k">return</span> <span class="n">xn</span>
    <span class="k">elif</span> <span class="n">xn</span> <span class="o">==</span> <span class="mi">1</span><span class="p">:</span>
        <span class="k">if</span> <span class="n">rd</span><span class="o">.</span><span class="n">random</span><span class="p">()</span> <span class="o">&lt;</span> <span class="n">p</span><span class="p">:</span>
            <span class="k">return</span> <span class="mi">0</span>  <span class="c1"># avec probabilité p</span>
        <span class="k">else</span><span class="p">:</span>
            <span class="k">return</span> <span class="mi">2</span>  <span class="c1"># avec probabilité 1-p</span>
    <span class="k">elif</span> <span class="n">xn</span> <span class="o">==</span> <span class="mi">2</span><span class="p">:</span>
        <span class="k">if</span> <span class="n">rd</span><span class="o">.</span><span class="n">random</span><span class="p">()</span> <span class="o">&lt;</span> <span class="n">p</span><span class="p">:</span>
            <span class="k">return</span> <span class="mi">1</span>
        <span class="k">else</span><span class="p">:</span>
            <span class="k">return</span> <span class="mi">3</span>
</pre></div>

    </div>
</div>
</div>

</div>
<div class="cell border-box-sizing code_cell rendered">
<div class="input">
<div class="prompt input_prompt">In&nbsp;[46]:</div>
<div class="inner_cell">
    <div class="input_area">
<div class=" highlight hl-ipython3"><pre><span></span><span class="n">une_transition_longue</span><span class="p">(</span><span class="mi">0</span><span class="p">)</span>
<span class="n">une_transition_longue</span><span class="p">(</span><span class="mi">1</span><span class="p">)</span>
<span class="n">une_transition_longue</span><span class="p">(</span><span class="mi">2</span><span class="p">)</span>
<span class="n">une_transition_longue</span><span class="p">(</span><span class="mi">3</span><span class="p">)</span>
</pre></div>

    </div>
</div>
</div>

<div class="output_wrapper">
<div class="output">


<div class="output_area">

    <div class="prompt output_prompt">Out[46]:</div>




<div class="output_text output_subarea output_execute_result">
<pre>0</pre>
</div>

</div>

<div class="output_area">

    <div class="prompt output_prompt">Out[46]:</div>




<div class="output_text output_subarea output_execute_result">
<pre>2</pre>
</div>

</div>

<div class="output_area">

    <div class="prompt output_prompt">Out[46]:</div>




<div class="output_text output_subarea output_execute_result">
<pre>1</pre>
</div>

</div>

<div class="output_area">

    <div class="prompt output_prompt">Out[46]:</div>




<div class="output_text output_subarea output_execute_result">
<pre>3</pre>
</div>

</div>

</div>
</div>

</div>
<div class="cell border-box-sizing text_cell rendered"><div class="prompt input_prompt">
</div><div class="inner_cell">
<div class="text_cell_render border-box-sizing rendered_html">
<p>Faire plusieurs transitions se fait juste en appliquant la même fonction $n$ fois.</p>

</div>
</div>
</div>
<div class="cell border-box-sizing code_cell rendered">
<div class="input">
<div class="prompt input_prompt">In&nbsp;[50]:</div>
<div class="inner_cell">
    <div class="input_area">
<div class=" highlight hl-ipython3"><pre><span></span><span class="k">def</span> <span class="nf">n_transitions</span><span class="p">(</span><span class="n">n</span><span class="p">,</span> <span class="n">x0</span><span class="p">):</span>
    <span class="n">x</span> <span class="o">=</span> <span class="n">x0</span>
    <span class="k">for</span> <span class="n">i</span> <span class="ow">in</span> <span class="nb">range</span><span class="p">(</span><span class="n">n</span><span class="p">):</span>
        <span class="n">x</span> <span class="o">=</span> <span class="n">une_transition</span><span class="p">(</span><span class="n">x</span><span class="p">)</span>
    <span class="k">return</span> <span class="n">x</span>
</pre></div>

    </div>
</div>
</div>

</div>
<div class="cell border-box-sizing code_cell rendered">
<div class="input">
<div class="prompt input_prompt">In&nbsp;[51]:</div>
<div class="inner_cell">
    <div class="input_area">
<div class=" highlight hl-ipython3"><pre><span></span><span class="n">n_transitions</span><span class="p">(</span><span class="mi">10</span><span class="p">,</span> <span class="mi">0</span><span class="p">)</span>
<span class="n">n_transitions</span><span class="p">(</span><span class="mi">10</span><span class="p">,</span> <span class="mi">1</span><span class="p">)</span>
<span class="n">n_transitions</span><span class="p">(</span><span class="mi">10</span><span class="p">,</span> <span class="mi">2</span><span class="p">)</span>
<span class="n">n_transitions</span><span class="p">(</span><span class="mi">10</span><span class="p">,</span> <span class="mi">3</span><span class="p">)</span>
</pre></div>

    </div>
</div>
</div>

<div class="output_wrapper">
<div class="output">


<div class="output_area">

    <div class="prompt output_prompt">Out[51]:</div>




<div class="output_text output_subarea output_execute_result">
<pre>0</pre>
</div>

</div>

<div class="output_area">

    <div class="prompt output_prompt">Out[51]:</div>




<div class="output_text output_subarea output_execute_result">
<pre>0</pre>
</div>

</div>

<div class="output_area">

    <div class="prompt output_prompt">Out[51]:</div>




<div class="output_text output_subarea output_execute_result">
<pre>0</pre>
</div>

</div>

<div class="output_area">

    <div class="prompt output_prompt">Out[51]:</div>




<div class="output_text output_subarea output_execute_result">
<pre>3</pre>
</div>

</div>

</div>
</div>

</div>
<div class="cell border-box-sizing text_cell rendered"><div class="prompt input_prompt">
</div><div class="inner_cell">
<div class="text_cell_render border-box-sizing rendered_html">
<p>Faisons $N=1000$ répétitions de cette expérience, à l'horizon disons $n=100$.</p>

</div>
</div>
</div>
<div class="cell border-box-sizing code_cell rendered">
<div class="input">
<div class="prompt input_prompt">In&nbsp;[52]:</div>
<div class="inner_cell">
    <div class="input_area">
<div class=" highlight hl-ipython3"><pre><span></span><span class="n">n</span> <span class="o">=</span> <span class="mi">100</span>
<span class="n">N</span> <span class="o">=</span> <span class="mi">1000</span>

<span class="k">def</span> <span class="nf">histogramme</span><span class="p">(</span><span class="n">n</span><span class="p">,</span> <span class="n">N</span><span class="p">,</span> <span class="n">x0</span><span class="p">):</span>
    <span class="n">observations</span> <span class="o">=</span> <span class="n">np</span><span class="o">.</span><span class="n">zeros</span><span class="p">(</span><span class="nb">len</span><span class="p">(</span><span class="n">etats</span><span class="p">))</span>
    <span class="k">for</span> <span class="n">experience</span> <span class="ow">in</span> <span class="nb">range</span><span class="p">(</span><span class="n">N</span><span class="p">):</span>
        <span class="n">obs</span> <span class="o">=</span> <span class="n">n_transitions</span><span class="p">(</span><span class="n">n</span><span class="p">,</span> <span class="n">x0</span><span class="p">)</span>
        <span class="n">observations</span><span class="p">[</span><span class="n">obs</span><span class="p">]</span> <span class="o">+=</span> <span class="mi">1</span>
    <span class="n">plt</span><span class="o">.</span><span class="n">bar</span><span class="p">(</span><span class="n">etats</span><span class="p">,</span> <span class="n">observations</span><span class="p">)</span>
    <span class="n">plt</span><span class="o">.</span><span class="n">show</span><span class="p">()</span>
</pre></div>

    </div>
</div>
</div>

</div>
<div class="cell border-box-sizing code_cell rendered">
<div class="input">
<div class="prompt input_prompt">In&nbsp;[54]:</div>
<div class="inner_cell">
    <div class="input_area">
<div class=" highlight hl-ipython3"><pre><span></span><span class="n">histogramme</span><span class="p">(</span><span class="n">n</span><span class="p">,</span> <span class="n">N</span><span class="p">,</span> <span class="mi">0</span><span class="p">)</span>
<span class="n">histogramme</span><span class="p">(</span><span class="n">n</span><span class="p">,</span> <span class="n">N</span><span class="p">,</span> <span class="mi">1</span><span class="p">)</span>
<span class="n">histogramme</span><span class="p">(</span><span class="n">n</span><span class="p">,</span> <span class="n">N</span><span class="p">,</span> <span class="mi">2</span><span class="p">)</span>
<span class="n">histogramme</span><span class="p">(</span><span class="n">n</span><span class="p">,</span> <span class="n">N</span><span class="p">,</span> <span class="mi">3</span><span class="p">)</span>
</pre></div>

    </div>
</div>
</div>

<div class="output_wrapper">
<div class="output">


<div class="output_area">

    <div class="prompt"></div>




<div class="output_png output_subarea ">
<img src="data:image/png;base64,iVBORw0KGgoAAAANSUhEUgAABIUAAAJuCAYAAAAuH7LWAAAABHNCSVQICAgIfAhkiAAAAAlwSFlz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"
>
</div>

</div>

<div class="output_area">

    <div class="prompt"></div>




<div class="output_png output_subarea ">
<img src="data:image/png;base64,iVBORw0KGgoAAAANSUhEUgAABH0AAAJuCAYAAAAthH67AAAABHNCSVQICAgIfAhkiAAAAAlwSFlz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"
>
</div>

</div>

<div class="output_area">

    <div class="prompt"></div>




<div class="output_png output_subarea ">
<img src="data:image/png;base64,iVBORw0KGgoAAAANSUhEUgAABH0AAAJuCAYAAAAthH67AAAABHNCSVQICAgIfAhkiAAAAAlwSFlz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"
>
</div>

</div>

<div class="output_area">

    <div class="prompt"></div>




<div class="output_png output_subarea ">
<img src="data:image/png;base64,iVBORw0KGgoAAAANSUhEUgAABIUAAAJuCAYAAAAuH7LWAAAABHNCSVQICAgIfAhkiAAAAAlwSFlz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"
>
</div>

</div>

</div>
</div>

</div>
<div class="cell border-box-sizing text_cell rendered"><div class="prompt input_prompt">
</div><div class="inner_cell">
<div class="text_cell_render border-box-sizing rendered_html">
<p>Mathématiquement, sur papier on calcule le polynôme caractéristique de $A$, et on vérifie qu'il est scindé ssi $p \neq 0, 1$ (mais pas à racine simple).</p>

</div>
</div>
</div>
<div class="cell border-box-sizing text_cell rendered"><div class="prompt input_prompt">
</div><div class="inner_cell">
<div class="text_cell_render border-box-sizing rendered_html">
<p>Pour diagonaliser, on utile le module <code>numpy.linalg</code>, et la fonction <a href="https://docs.scipy.org/doc/numpy/reference/generated/numpy.linalg.eig.html"><code>numpy.linalg.eig</code></a>.</p>

</div>
</div>
</div>
<div class="cell border-box-sizing code_cell rendered">
<div class="input">
<div class="prompt input_prompt">In&nbsp;[56]:</div>
<div class="inner_cell">
    <div class="input_area">
<div class=" highlight hl-ipython3"><pre><span></span><span class="kn">from</span> <span class="nn">numpy</span> <span class="k">import</span> <span class="n">linalg</span> <span class="k">as</span> <span class="n">LA</span>
</pre></div>

    </div>
</div>
</div>

</div>
<div class="cell border-box-sizing code_cell rendered">
<div class="input">
<div class="prompt input_prompt">In&nbsp;[87]:</div>
<div class="inner_cell">
    <div class="input_area">
<div class=" highlight hl-ipython3"><pre><span></span><span class="n">A</span> <span class="o">=</span> <span class="n">A</span><span class="o">.</span><span class="n">T</span>
<span class="n">A</span>
</pre></div>

    </div>
</div>
</div>

<div class="output_wrapper">
<div class="output">


<div class="output_area">

    <div class="prompt output_prompt">Out[87]:</div>




<div class="output_text output_subarea output_execute_result">
<pre>array([[ 1. ,  0.5,  0. ,  0. ],
       [ 0. ,  0. ,  0.5,  0. ],
       [ 0. ,  0.5,  0. ,  0. ],
       [ 0. ,  0. ,  0.5,  1. ]])</pre>
</div>

</div>

</div>
</div>

</div>
<div class="cell border-box-sizing code_cell rendered">
<div class="input">
<div class="prompt input_prompt">In&nbsp;[88]:</div>
<div class="inner_cell">
    <div class="input_area">
<div class=" highlight hl-ipython3"><pre><span></span><span class="n">spectre</span><span class="p">,</span> <span class="n">matricePassage</span> <span class="o">=</span> <span class="n">LA</span><span class="o">.</span><span class="n">eig</span><span class="p">(</span><span class="n">A</span><span class="p">)</span>
<span class="n">spectre</span>
<span class="n">matricePassage</span>
</pre></div>

    </div>
</div>
</div>

<div class="output_wrapper">
<div class="output">


<div class="output_area">

    <div class="prompt output_prompt">Out[88]:</div>




<div class="output_text output_subarea output_execute_result">
<pre>array([ 1. ,  1. ,  0.5, -0.5])</pre>
</div>

</div>

<div class="output_area">

    <div class="prompt output_prompt">Out[88]:</div>




<div class="output_text output_subarea output_execute_result">
<pre>array([[ 1.        ,  0.        , -0.5       , -0.2236068 ],
       [ 0.        ,  0.        ,  0.5       ,  0.67082039],
       [ 0.        ,  0.        ,  0.5       , -0.67082039],
       [ 0.        ,  1.        , -0.5       ,  0.2236068 ]])</pre>
</div>

</div>

</div>
</div>

</div>
<div class="cell border-box-sizing text_cell rendered"><div class="prompt input_prompt">
</div><div class="inner_cell">
<div class="text_cell_render border-box-sizing rendered_html">
<p>Ici, on vérifie que le spectre contient deux fois la valeur propre $1$, qui vient des deux puits $A_0,A_3$, et deux valeurs symétriques.</p>
<p>On peut vérifier que $A = P \Lambda P^{-1}$</p>

</div>
</div>
</div>
<div class="cell border-box-sizing code_cell rendered">
<div class="input">
<div class="prompt input_prompt">In&nbsp;[89]:</div>
<div class="inner_cell">
    <div class="input_area">
<div class=" highlight hl-ipython3"><pre><span></span><span class="n">Lambda</span> <span class="o">=</span> <span class="n">np</span><span class="o">.</span><span class="n">diag</span><span class="p">(</span><span class="n">spectre</span><span class="p">)</span>
<span class="n">matricePassageinv</span> <span class="o">=</span> <span class="n">LA</span><span class="o">.</span><span class="n">inv</span><span class="p">(</span><span class="n">matricePassage</span><span class="p">)</span>

<span class="c1"># avec Python &gt;= 3.6</span>
<span class="n">matricePassage</span> <span class="o">@</span> <span class="n">Lambda</span> <span class="o">@</span> <span class="n">matricePassageinv</span>
<span class="c1"># avant 3.6</span>
<span class="n">matricePassage</span><span class="o">.</span><span class="n">dot</span><span class="p">(</span><span class="n">Lambda</span><span class="o">.</span><span class="n">dot</span><span class="p">(</span><span class="n">matricePassageinv</span><span class="p">))</span>
</pre></div>

    </div>
</div>
</div>

<div class="output_wrapper">
<div class="output">


<div class="output_area">

    <div class="prompt output_prompt">Out[89]:</div>




<div class="output_text output_subarea output_execute_result">
<pre>array([[  1.00000000e+00,   5.00000000e-01,  -6.14248029e-17,
          0.00000000e+00],
       [  0.00000000e+00,  -4.08433854e-17,   5.00000000e-01,
          0.00000000e+00],
       [  0.00000000e+00,   5.00000000e-01,   1.34656917e-16,
          0.00000000e+00],
       [  0.00000000e+00,   5.78726134e-17,   5.00000000e-01,
          1.00000000e+00]])</pre>
</div>

</div>

<div class="output_area">

    <div class="prompt output_prompt">Out[89]:</div>




<div class="output_text output_subarea output_execute_result">
<pre>array([[  1.00000000e+00,   5.00000000e-01,  -9.74554924e-17,
          0.00000000e+00],
       [  0.00000000e+00,  -4.49809423e-17,   5.00000000e-01,
          0.00000000e+00],
       [  0.00000000e+00,   5.00000000e-01,   1.30519360e-16,
          0.00000000e+00],
       [  0.00000000e+00,   4.95974995e-17,   5.00000000e-01,
          1.00000000e+00]])</pre>
</div>

</div>

</div>
</div>

</div>
<div class="cell border-box-sizing text_cell rendered"><div class="prompt input_prompt">
</div><div class="inner_cell">
<div class="text_cell_render border-box-sizing rendered_html">
<p>Sans erreur d'arrondis, ça donne :</p>

</div>
</div>
</div>
<div class="cell border-box-sizing code_cell rendered">
<div class="input">
<div class="prompt input_prompt">In&nbsp;[90]:</div>
<div class="inner_cell">
    <div class="input_area">
<div class=" highlight hl-ipython3"><pre><span></span><span class="n">np</span><span class="o">.</span><span class="n">round</span><span class="p">(</span><span class="n">matricePassage</span> <span class="o">@</span> <span class="n">Lambda</span> <span class="o">@</span> <span class="n">matricePassageinv</span><span class="p">,</span> <span class="mi">3</span><span class="p">)</span>
<span class="n">np</span><span class="o">.</span><span class="n">round</span><span class="p">(</span><span class="n">matricePassage</span><span class="o">.</span><span class="n">dot</span><span class="p">(</span><span class="n">Lambda</span><span class="o">.</span><span class="n">dot</span><span class="p">(</span><span class="n">matricePassageinv</span><span class="p">)),</span> <span class="mi">3</span><span class="p">)</span>

<span class="n">np</span><span class="o">.</span><span class="n">all</span><span class="p">(</span><span class="n">np</span><span class="o">.</span><span class="n">round</span><span class="p">(</span><span class="n">matricePassage</span> <span class="o">@</span> <span class="n">Lambda</span> <span class="o">@</span> <span class="n">matricePassageinv</span><span class="p">,</span> <span class="mi">3</span><span class="p">)</span> <span class="o">==</span> <span class="n">A</span><span class="p">)</span>
</pre></div>

    </div>
</div>
</div>

<div class="output_wrapper">
<div class="output">


<div class="output_area">

    <div class="prompt output_prompt">Out[90]:</div>




<div class="output_text output_subarea output_execute_result">
<pre>array([[ 1. ,  0.5, -0. ,  0. ],
       [ 0. , -0. ,  0.5,  0. ],
       [ 0. ,  0.5,  0. ,  0. ],
       [ 0. ,  0. ,  0.5,  1. ]])</pre>
</div>

</div>

<div class="output_area">

    <div class="prompt output_prompt">Out[90]:</div>




<div class="output_text output_subarea output_execute_result">
<pre>array([[ 1. ,  0.5, -0. ,  0. ],
       [ 0. , -0. ,  0.5,  0. ],
       [ 0. ,  0.5,  0. ,  0. ],
       [ 0. ,  0. ,  0.5,  1. ]])</pre>
</div>

</div>

<div class="output_area">

    <div class="prompt output_prompt">Out[90]:</div>




<div class="output_text output_subarea output_execute_result">
<pre>True</pre>
</div>

</div>

</div>
</div>

</div>
<div class="cell border-box-sizing text_cell rendered"><div class="prompt input_prompt">
</div><div class="inner_cell">
<div class="text_cell_render border-box-sizing rendered_html">
<p>On peut ensuite calculer $\lim_{n\to\infty} X_n$ en calculant
$P \Lambda' P^{-1} X_0$ si $\Lambda' := \lim_{n\to\infty} \Lambda^n = \mathrm{Diag}(\lim_{n\to\infty} \lambda_i^n)$ qui existe bien puisque $\mathrm{Sp}(A) = \{1, \pm\sqrt{p(1-p)}\} \subset [-1,1]$.</p>

</div>
</div>
</div>
<div class="cell border-box-sizing code_cell rendered">
<div class="input">
<div class="prompt input_prompt">In&nbsp;[91]:</div>
<div class="inner_cell">
    <div class="input_area">
<div class=" highlight hl-ipython3"><pre><span></span><span class="k">def</span> <span class="nf">limite_inf</span><span class="p">(</span><span class="n">t</span><span class="p">):</span>
    <span class="k">if</span> <span class="n">t</span> <span class="o">&lt;=</span> <span class="o">-</span><span class="mi">1</span><span class="p">:</span>
        <span class="k">raise</span> <span class="ne">ValueError</span><span class="p">(</span><span class="s2">&quot;Pas de limite&quot;</span><span class="p">)</span>
    <span class="k">elif</span> <span class="o">-</span><span class="mi">1</span> <span class="o">&lt;</span> <span class="n">t</span> <span class="o">&lt;</span> <span class="mi">1</span><span class="p">:</span>
        <span class="k">return</span> <span class="mi">0</span>
    <span class="k">elif</span> <span class="n">t</span> <span class="o">==</span> <span class="mi">1</span><span class="p">:</span>
        <span class="k">return</span> <span class="mi">1</span>
    <span class="k">else</span><span class="p">:</span>
        <span class="k">return</span> <span class="n">np</span><span class="o">.</span><span class="n">inf</span>

<span class="n">LambdaInf</span> <span class="o">=</span> <span class="n">np</span><span class="o">.</span><span class="n">diag</span><span class="p">([</span><span class="n">limite_inf</span><span class="p">(</span><span class="n">lmbda</span><span class="p">)</span> <span class="k">for</span> <span class="n">lmbda</span> <span class="ow">in</span> <span class="n">spectre</span><span class="p">])</span>
<span class="n">LambdaInf</span>
</pre></div>

    </div>
</div>
</div>

<div class="output_wrapper">
<div class="output">


<div class="output_area">

    <div class="prompt output_prompt">Out[91]:</div>




<div class="output_text output_subarea output_execute_result">
<pre>array([[1, 0, 0, 0],
       [0, 1, 0, 0],
       [0, 0, 0, 0],
       [0, 0, 0, 0]])</pre>
</div>

</div>

</div>
</div>

</div>
<div class="cell border-box-sizing code_cell rendered">
<div class="input">
<div class="prompt input_prompt">In&nbsp;[93]:</div>
<div class="inner_cell">
    <div class="input_area">
<div class=" highlight hl-ipython3"><pre><span></span><span class="k">for</span> <span class="n">x0</span> <span class="ow">in</span> <span class="n">etats</span><span class="p">:</span>
    <span class="n">X0</span> <span class="o">=</span> <span class="n">np</span><span class="o">.</span><span class="n">zeros</span><span class="p">(</span><span class="nb">len</span><span class="p">(</span><span class="n">etats</span><span class="p">))</span>
    <span class="n">X0</span><span class="p">[</span><span class="n">x0</span><span class="p">]</span> <span class="o">=</span> <span class="mi">1</span>
    <span class="nb">print</span><span class="p">(</span><span class="s2">&quot;Pour X0 =&quot;</span><span class="p">,</span> <span class="n">X0</span><span class="p">)</span>
    <span class="n">Xinf</span> <span class="o">=</span> <span class="p">(</span><span class="n">matricePassage</span> <span class="o">@</span> <span class="n">LambdaInf</span> <span class="o">@</span> <span class="n">matricePassageinv</span><span class="p">)</span> <span class="o">@</span> <span class="n">X0</span>
    <span class="nb">print</span><span class="p">(</span><span class="s2">&quot;    =&gt; limite Xn pour n -&gt; oo =&quot;</span><span class="p">,</span> <span class="n">Xinf</span><span class="p">)</span>
</pre></div>

    </div>
</div>
</div>

<div class="output_wrapper">
<div class="output">


<div class="output_area">

    <div class="prompt"></div>


<div class="output_subarea output_stream output_stdout output_text">
<pre>Pour X0 = [ 1.  0.  0.  0.]
    =&gt; limite Xn pour n -&gt; oo = [ 1.  0.  0.  0.]
Pour X0 = [ 0.  1.  0.  0.]
    =&gt; limite Xn pour n -&gt; oo = [ 0.66666667  0.          0.          0.33333333]
Pour X0 = [ 0.  0.  1.  0.]
    =&gt; limite Xn pour n -&gt; oo = [ 0.33333333  0.          0.          0.66666667]
Pour X0 = [ 0.  0.  0.  1.]
    =&gt; limite Xn pour n -&gt; oo = [ 0.  0.  0.  1.]
</pre>
</div>
</div>

</div>
</div>

</div>
<div class="cell border-box-sizing text_cell rendered"><div class="prompt input_prompt">
</div><div class="inner_cell">
<div class="text_cell_render border-box-sizing rendered_html">
<p>Ça correspond exactement aux histogrammes obtenus plus haut.
Peu importe l'état initial, la particule finira dans un des deux puits.
(C'est ce qu'on appelle des états absorbants)</p>

</div>
</div>
</div>
<div class="cell border-box-sizing text_cell rendered"><div class="prompt input_prompt">
</div><div class="inner_cell">
<div class="text_cell_render border-box-sizing rendered_html">
<hr>
<h1 id="&#192;-voir-aussi">&#192; voir aussi<a class="anchor-link" href="#&#192;-voir-aussi">&#182;</a></h1><h2 id="Les-oraux---(exercices-de-maths-avec-Python)"><a href="http://perso.crans.org/besson/infoMP/oraux/solutions/">Les oraux</a>   <em>(exercices de maths avec Python)</em><a class="anchor-link" href="#Les-oraux---(exercices-de-maths-avec-Python)">&#182;</a></h2><p>Se préparer aux oraux de <a href="http://www.concours-centrale-supelec.fr/CentraleSupelec/MultiY/C2015/#oMat2">"maths avec Python" (maths 2)</a> du concours Centrale Supélec peut être utile.</p>
<p>Après les écrits et la fin de l'année, pour ceux qui seront admissibles à Centrale-Supélec, ils vous restera <b>les oraux</b> (le concours Centrale-Supélec a un <a title="Quelques exemples d'exercices sur le site du concours Centrale-Supélec" href="http://www.concours-centrale-supelec.fr/CentraleSupelec/MultiY/C2015/#oMat2">oral d'informatique</a>, et un peu d'algorithmique et de Python peuvent en théorie être demandés à chaque oral de maths et de SI).</p>
<p>Je vous invite à lire <a href="http://www.concours-centrale-supelec.fr/CentraleSupelec/MultiY/C2015/#oMat2">cette page avec attention</a>, et à jeter un œil aux documents mis à disposition :</p>
<h2 id="Fiches-de-r&#233;visions-pour-les-oraux">Fiches de r&#233;visions <em>pour les oraux</em><a class="anchor-link" href="#Fiches-de-r&#233;visions-pour-les-oraux">&#182;</a></h2><ol>
<li><a href="http://www.concours-centrale-supelec.fr/CentraleSupelec/MultiY/C2015/Python-matrices.pdf">Calcul matriciel</a>, avec <a href="https://docs.scipy.org/doc/numpy/">numpy</a> et <a href="https://docs.scipy.org/doc/numpy/reference/routines.linalg.html">numpy.linalg</a>,</li>
<li><a href="http://www.concours-centrale-supelec.fr/CentraleSupelec/MultiY/C2015/Python-plot.pdf">Réalisation de tracés</a>, avec <a href="https://matplotlib.org/users/beginner.html">matplotlib</a>,</li>
<li><a href="http://www.concours-centrale-supelec.fr/CentraleSupelec/MultiY/C2015/Python-AN.pdf">Analyse numérique</a>, avec <a href="https://docs.scipy.org/doc/numpy/">numpy</a> et <a href="https://docs.scipy.org/doc/scipy/reference/tutorial/index.html">scipy</a>. Voir par exemple <a href="https://docs.scipy.org/doc/scipy/reference/tutorial/integrate.html">scipy.integrate</a> avec les fonctions <a href="https://docs.scipy.org/doc/scipy/reference/generated/scipy.integrate.quad.html">scipy.integrate.quad</a> (intégrale numérique) et <a href="https://docs.scipy.org/doc/scipy/reference/generated/scipy.integrate.odeint.html">scipy.integrate.odeint</a> (résolution numérique d'une équation différentielle),</li>
<li><a href="http://www.concours-centrale-supelec.fr/CentraleSupelec/MultiY/C2015/Python-polynomes.pdf">Polynômes</a> : avec <a href="https://docs.scipy.org/doc/numpy/reference/routines.polynomials.package.html">numpy.polynomials</a>, <a href="https://docs.scipy.org/doc/numpy/reference/routines.polynomials.classes.html">ce tutoriel peut aider</a>,</li>
<li><a href="http://www.concours-centrale-supelec.fr/CentraleSupelec/MultiY/C2015/Python-random.pdf">Probabilités</a>, avec <a href="https://docs.scipy.org/doc/numpy/">numpy</a> et <a href="https://docs.python.org/3/library/random.html">random</a>.</li>
</ol>
<p>Pour réviser : voir <a href="http://www.labri.fr/perso/nrougier/teaching/matplotlib/">ce tutoriel Matplotlib (en anglais)</a>, <a href="http://www.labri.fr/perso/nrougier/teaching/numpy/numpy.html">ce tutoriel Numpy (en anglais)</a>.
Ainsi que tous les <a href="http://perso.crans.org/besson/infoMP/TPs/solutions/">TP</a>, <a href="http://perso.crans.org/besson/infoMP/TDs/solutions/">TD</a> et <a href="http://perso.crans.org/besson/infoMP/DSs/solutions/">DS</a> en Python que j'ai donné et corrigé au Lycée Lakanal (Sceaux, 92) en 2015-2016 !</p>
<h2 id="Quelques-exemples-de-sujets-d'oraux-corrig&#233;s">Quelques exemples de sujets <em>d'oraux</em> corrig&#233;s<a class="anchor-link" href="#Quelques-exemples-de-sujets-d'oraux-corrig&#233;s">&#182;</a></h2><blockquote><p>Ces 5 sujets sont corrigés, et nous les avons tous traité en classe durant les deux TP de révisions pour les oraux (10 et 11 juin).</p>
</blockquote>
<ul>
<li>PC : <a href="http://www.concours-centrale-supelec.fr/CentraleSupelec/MultiY/C2015/PC-Mat2-2015-27.pdf">sujet #1</a> (<a href="http://perso.crans.org/besson/infoMP/oraux/solutions/PC_Mat2_2015_27.html">correction PC #1</a>), <a href="http://www.concours-centrale-supelec.fr/CentraleSupelec/MultiY/C2015/PC-Mat2-2015-28.pdf">sujet #2</a> (<a href="http://perso.crans.org/besson/infoMP/oraux/solutions/PC_Mat2_2015_28.html">correction PC #2</a>).</li>
<li>PSI : <a href="http://www.concours-centrale-supelec.fr/CentraleSupelec/MultiY/C2015/PSI-Mat2-2015-24.pdf">sujet #1</a> (<a href="http://perso.crans.org/besson/infoMP/oraux/solutions/PSI_Mat2_2015_24.html">correction PSI #1</a>), <a href="http://www.concours-centrale-supelec.fr/CentraleSupelec/MultiY/C2015/PSI-Mat2-2015-25.pdf">sujet #2</a> (<a href="http://perso.crans.org/besson/infoMP/oraux/solutions/PSI_Mat2_2015_25.html">correction PSI #2</a>), <a href="http://www.concours-centrale-supelec.fr/CentraleSupelec/MultiY/C2015/PSI-Mat2-2015-26.pdf">sujet #3</a> (<a href="http://perso.crans.org/besson/infoMP/oraux/solutions/PSI_Mat2_2015_26.html">correction PSI #3</a>).</li>
<li>MP : pas de sujet mis à disposition, mais le programme est le même que pour les PC et PSI (pour cette épreuve).</li>
</ul>

</div>
</div>
</div>
<div class="cell border-box-sizing text_cell rendered"><div class="prompt input_prompt">
</div><div class="inner_cell">
<div class="text_cell_render border-box-sizing rendered_html">
<hr>
<h2 id="D'autres-notebooks-?">D'autres notebooks ?<a class="anchor-link" href="#D'autres-notebooks-?">&#182;</a></h2><blockquote><p>Ce document est distribué <a href="https://lbesson.mit-license.org/">sous licence libre (MIT)</a>, comme <a href="https://GitHub.com/Naereen/notebooks/">les autres notebooks</a> que j'ai écrit depuis 2015.</p>
</blockquote>

</div>
</div>
</div>
 


    </div>
  </div>

  </div>


  
    <footer class="footer hidden-print">
      <div class="container">
        <div class="col-md-4">
          <p>
            This website does not host notebooks, it only renders notebooks
            available on other websites.
          </p>
        </div>

        <div class="col-md-4">
          <p>
            Delivered by <a href="https://www.fastly.com/">Fastly</a>,
            Rendered by <a href="https://developer.rackspace.com/?nbviewer=awesome">Rackspace</a>
          </p>
          <p>
            nbviewer GitHub <a href="https://github.com/jupyter/nbviewer">repository</a>.
          </p>
        </div>

        <div class="col-md-4">
          
  
            
              <p>
                nbviewer version:
                <a href="https://github.com/jupyter/nbviewer/commit/8a8fd298b446096dddc874da57e99dd22a2d8d97">
                  8a8fd29
                </a>
              </p>
            
          
  
  <p>
    nbconvert version: <a href="https://github.com/jupyter/nbconvert/releases/tag/5.6.1">
      5.6.1
    </a>
  </p>
  

          
  
  
  <p>
    Rendered
    <span class='date' data-date='Mon, 27 Jan 2020 13:28:05 UTC' title='Mon, 27 Jan 2020 13:28:05 UTC'>(Mon, 27 Jan 2020 13:28:05 UTC)</span>
  </p>
  

        </div>
      </div>
    </footer>
  

  <script src="/static/components/bootstrap/js/bootstrap.min.js?v=5869c96cc8f19086aee625d670d741f9"></script>
  <script src="/static/components/headroom.js/dist/headroom.min.js?v=b0a311ea668f8e768ea375f4a7abb81c"></script>
  <script src="/static/components/headroom.js/dist/jQuery.headroom.min.js?v=f3a1bae118315d0c234afc74dc6aab71"></script>

  
  
  <script>
    $(function(){ $("#menubar").headroom({
      tolerance: 5,
      offset: 205,
      classes: {
        initial: "animated",
        pinned: "slideInDown",
        unpinned: "slideOutUp"
      }
    })});
  </script>


  
  <script>
    (function(i,s,o,g,r,a,m){i['GoogleAnalyticsObject']=r;i[r]=i[r]||function(){
      (i[r].q=i[r].q||[]).push(arguments)},i[r].l=1*new Date();a=s.createElement(o),
      m=s.getElementsByTagName(o)[0];a.async=1;a.src=g;m.parentNode.insertBefore(a,m)
    })(window,document,'script','https://www.google-analytics.com/analytics.js','ga');
    ga('create', 'UA-52617120-5', 'auto',
       {'storage': 'none'});
    ga('set', 'anonymizeIp', true);
    ga('send', 'pageview');
  </script>
  
  <script>
    require({
        paths: {
          moment: "/static/components/moment/min/moment.min.js?v=89f87298ad94aa1e6b92f42eb66da043"
        }
      }, ["moment"], function(moment){
      var date = $("footer .date"),
        m = moment(new Date(date.data('date'))),
        update = function(){ date.text(m.fromNow()); };
      setInterval(update, 61*1000);
      update();
      var w = $(window).scroll(function(event){
        $("body").toggleClass("scrolled", w.scrollTop() > 0);
      });
    });
  </script>

  <!--NEW RELIC Stop Perf Measurement-->
  
  <!--NEW RELIC End-->
</body>
</html>