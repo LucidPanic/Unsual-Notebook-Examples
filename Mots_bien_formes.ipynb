








<!DOCTYPE html>
<html lang="en">

<head>
  <meta charset="utf-8">
  <title>Jupyter Notebook Viewer</title>
  <meta name="viewport" content="width=device-width, initial-scale=1.0">
  <meta name="description" content="">
  <meta name="author" content="">
  
  <meta name="robots" content="noindex,nofollow">
  

  <!--NEW RELIC Start Perf Measurement-->
  
  <!--NREND-->

  <!-- Le styles -->
  <link href="/static/build/styles.css?v=7fe30404aaeedb40bf592c91e1d25a26" rel="stylesheet">

  <!-- Le HTML5 shim, for IE6-8 support of HTML5 elements -->
  <!--[if lt IE 9]>
    <script src="http://html5shim.googlecode.com/svn/trunk/html5.js"></script>
  <![endif]-->

  <!-- Le fav and touch icons -->
  <link rel="shortcut icon" href="/static/ico/ipynb_icon_16x16.png">
  <link rel="apple-touch-icon-precomposed" sizes="144x144"
        href="/static/ico/apple-touch-icon-144-precomposed.png?v=5a3c9ede93e2a8b8ea9e3f8f3da1a905">
  <link rel="apple-touch-icon-precomposed" sizes="114x114"
        href="/static/ico/apple-touch-icon-114-precomposed.png?v=45d86fc8f24dc00638035e1dd7a6d898">
  <link rel="apple-touch-icon-precomposed" sizes="72x72"
        href="/static/ico/apple-touch-icon-72-precomposed.png?v=540b5eb0f3cfd25f1439d1c9bd30e15f">
  <link rel="apple-touch-icon-precomposed"
        href="/static/ico/apple-touch-icon-57-precomposed.png?v=225f0590e187e1458625654f10a28f56">
  
  

  

  
  <meta name="twitter:card" content="summary">
  <meta name="twitter:title" content="Notebook on nbviewer">
  <meta name="twitter:description" content="Check out this Jupyter notebook!">

  
  <meta name="twitter:domain" content="nbviewer.jupyter.org">
  <meta name="twitter:image:src" content="http://ipython.org/ipython-doc/dev/_images/ipynb_icon_128x128.png">

  
    <link href="/static/build/notebook.css?v=b71b4a780ae775fd48f0eead7512c5dd" rel="stylesheet">
  

  

  
    <script src="https://cdnjs.cloudflare.com/ajax/libs/mathjax/2.7.1/MathJax.js?config=TeX-AMS_HTML" type="text/javascript">
    </script>
    <script type="text/javascript">
      init_mathjax = function() {
        if (window.MathJax) {
          // MathJax loaded
          MathJax.Hub.Config({
            TeX: {
              equationNumbers: {
                autoNumber: "AMS",
                useLabelIds: true
              }
            },
            tex2jax: {
              inlineMath: [ ['$','$'], ["\\(","\\)"] ],
              displayMath: [ ['$$','$$'], ["\\[","\\]"] ],
              processEscapes: true,
              processEnvironments: true
            },
            displayAlign: 'center',
            "HTML-CSS": {
              styles: {'.MathJax_Display': {"margin": 0}},
              linebreaks: { automatic: true }
            }
          });
          MathJax.Hub.Queue(["Typeset", MathJax.Hub]);
        }
      }
      init_mathjax();
    </script>
  

  
    <script>
      (function() {
        function addWidgetsRenderer() {
          var mimeElement = document.querySelector('script[type="application/vnd.jupyter.widget-view+json"]');
          var scriptElement = document.createElement('script');
          var widgetRendererSrc = 'https://unpkg.com/@jupyter-widgets/html-manager@0.15/dist/embed-amd.js';
          var widgetState;

          try {
            widgetState = mimeElement && JSON.parse(mimeElement.innerHTML);

            if (widgetState && (widgetState.version_major < 2 || !widgetState.version_major)) {
              widgetRendererSrc = 'https://unpkg.com/jupyter-js-widgets@2.1/dist/embed.js';
            }
          } catch(e) {}

          scriptElement.src = widgetRendererSrc;
          document.body.appendChild(scriptElement);
        }

        document.addEventListener('DOMContentLoaded', addWidgetsRenderer);
      }());
    </script>
  

</head>

<body class="nbviewer">

  <!-- These are loaded at the top of the body so they are available to
       notebook cells when they are loaded below. -->
  <script src="/static/components/jquery/dist/jquery.min.js?v=220afd743d9e9643852e31a135a9f3ae"></script>
  <script src="/static/components/requirejs/require.js?v=6da8be361b9ee26c5e721e76c6d4afce"></script>
  <script src="/static/components/moment/min/moment.min.js?v=89f87298ad94aa1e6b92f42eb66da043"></script>
<!-- Navbar
================================================== -->
  <nav id="menubar" class="navbar navbar-default navbar-fixed-top" data-spy="affix">
    <div class="container">
      <div class="navbar-header">
        <button type="button" class="navbar-toggle collapsed" data-toggle="collapse" data-target=".navbar-collapse">
          <span class="sr-only">Toggle navigation</span>
          <i class="fa fa-bars"></i>
        </button>
        <a class="navbar-brand" href="/">
          <img src="/static/img/nav_logo.svg?v=479cefe8d932fb14a67b93911b97d70f" width="159"/>
        </a>
      </div>

      <div class="collapse navbar-collapse">
        <ul class="nav navbar-nav navbar-right">
          <li>
            <a class="active" href="https://jupyter.org">JUPYTER</a>
          </li>
          <li>
    <a href="/faq" title="FAQ" >
      
        <span>FAQ</span>
      
    </a>
  </li>

          
  
    
  
    
      
        <li>
    <a href="script/github/Naereen/notebooks/blob/master/agreg/Mots_bien_formes.ipynb" title="View as Code" >
      <span class="fa fa-code fa-2x menu-icon"></span>
      <span class="menu-text">View as Code</span>
    </a>
  </li>
      
    
  

  
    <li>
    <a href="#" title="OCaml 4.04.2 Kernel" >
      <span class="fa fa-server fa-2x menu-icon"></span>
      <span class="menu-text">OCaml 4.04.2 Kernel</span>
    </a>
  </li>
  

  
    <li>
    <a href="https://github.com/Naereen/notebooks/blob/master/agreg/Mots_bien_formes.ipynb" title="View on GitHub" >
      <span class="fa fa-github fa-2x menu-icon"></span>
      <span class="menu-text">View on GitHub</span>
    </a>
  </li>
  

  
    <li>
    <a href="https://mybinder.org/v2/gh/Naereen/notebooks/master?filepath=agreg/Mots_bien_formes.ipynb" title="Execute on Binder" >
      <span class="fa fa-icon-binder fa-2x menu-icon"></span>
      <span class="menu-text">Execute on Binder</span>
    </a>
  </li>
  

  <li>
    <a href="https://raw.githubusercontent.com/Naereen/notebooks/master/agreg/Mots_bien_formes.ipynb" title="Download Notebook" download>
      <span class="fa fa-download fa-2x menu-icon"></span>
      <span class="menu-text">Download Notebook</span>
    </a>
  </li>

        </ul>
      </div><!-- /.navbar-collapse -->
      
      
    </div>
  </nav>

  <div class="container container-main">
    
  
  <ol class="breadcrumb">
    
      <li>
        <a href="/github/Naereen/notebooks/tree/master">notebooks</a>
      </li>
    
      <li>
        <a href="/github/Naereen/notebooks/tree/master/agreg">agreg</a>
      </li>
    
  </ol>
  
  <div id="notebook">
    <div id="notebook-container">
      <div class="cell border-box-sizing text_cell rendered"><div class="prompt input_prompt">
</div><div class="inner_cell">
<div class="text_cell_render border-box-sizing rendered_html">
<h1 id="Table-of-Contents">Table of Contents<a class="anchor-link" href="#Table-of-Contents">&#182;</a></h1><p><p><div class="lev1 toc-item"><a href="#Texte-d'oral-de-modélisation---Agrégation-Option-Informatique" data-toc-modified-id="Texte-d'oral-de-modélisation---Agrégation-Option-Informatique-1"><span class="toc-item-num">1&nbsp;&nbsp;</span>Texte d'oral de modélisation - Agrégation Option Informatique</a></div><div class="lev2 toc-item"><a href="#Préparation-à-l'agrégation---ENS-de-Rennes,-2016-17" data-toc-modified-id="Préparation-à-l'agrégation---ENS-de-Rennes,-2016-17-11"><span class="toc-item-num">1.1&nbsp;&nbsp;</span>Préparation à l'agrégation - ENS de Rennes, 2016-17</a></div><div class="lev2 toc-item"><a href="#À-propos-de-ce-document" data-toc-modified-id="À-propos-de-ce-document-12"><span class="toc-item-num">1.2&nbsp;&nbsp;</span>À propos de ce document</a></div><div class="lev2 toc-item"><a href="#Question-de-programmation" data-toc-modified-id="Question-de-programmation-13"><span class="toc-item-num">1.3&nbsp;&nbsp;</span>Question de programmation</a></div><div class="lev3 toc-item"><a href="#Théorème-3" data-toc-modified-id="Théorème-3-131"><span class="toc-item-num">1.3.1&nbsp;&nbsp;</span>Théorème 3</a></div><div class="lev3 toc-item"><a href="#Choix-d'implémentation" data-toc-modified-id="Choix-d'implémentation-132"><span class="toc-item-num">1.3.2&nbsp;&nbsp;</span>Choix d'implémentation</a></div><div class="lev2 toc-item"><a href="#Réponse-à-l'exercice-requis" data-toc-modified-id="Réponse-à-l'exercice-requis-14"><span class="toc-item-num">1.4&nbsp;&nbsp;</span>Réponse à l'exercice requis</a></div><div class="lev3 toc-item"><a href="#Symboles-et-arités" data-toc-modified-id="Symboles-et-arités-141"><span class="toc-item-num">1.4.1&nbsp;&nbsp;</span>Symboles et arités</a></div><div class="lev3 toc-item"><a href="#Vérification-de-l'écriture-préfixe" data-toc-modified-id="Vérification-de-l'écriture-préfixe-142"><span class="toc-item-num">1.4.2&nbsp;&nbsp;</span>Vérification de l'écriture préfixe</a></div><div class="lev3 toc-item"><a href="#Vérification-et-localisation-de-la-première-erreur" data-toc-modified-id="Vérification-et-localisation-de-la-première-erreur-143"><span class="toc-item-num">1.4.3&nbsp;&nbsp;</span>Vérification et localisation de la première erreur</a></div><div class="lev3 toc-item"><a href="#Exemples" data-toc-modified-id="Exemples-144"><span class="toc-item-num">1.4.4&nbsp;&nbsp;</span>Exemples</a></div><div class="lev2 toc-item"><a href="#Bonus-:-évaluation-d'un-terme" data-toc-modified-id="Bonus-:-évaluation-d'un-terme-15"><span class="toc-item-num">1.5&nbsp;&nbsp;</span>Bonus : évaluation d'un terme</a></div><div class="lev3 toc-item"><a href="#Manipulation-basique-sur-une-pile" data-toc-modified-id="Manipulation-basique-sur-une-pile-151"><span class="toc-item-num">1.5.1&nbsp;&nbsp;</span>Manipulation basique sur une pile</a></div><div class="lev3 toc-item"><a href="#Interprétation-des-symboles" data-toc-modified-id="Interprétation-des-symboles-152"><span class="toc-item-num">1.5.2&nbsp;&nbsp;</span>Interprétation des symboles</a></div><div class="lev3 toc-item"><a href="#Évaluation-d'un-terme" data-toc-modified-id="Évaluation-d'un-terme-153"><span class="toc-item-num">1.5.3&nbsp;&nbsp;</span>Évaluation d'un terme</a></div><div class="lev3 toc-item"><a href="#Un-exemple-d'évaluation-d'un-terme-du-calcul-propositionnel" data-toc-modified-id="Un-exemple-d'évaluation-d'un-terme-du-calcul-propositionnel-154"><span class="toc-item-num">1.5.4&nbsp;&nbsp;</span>Un exemple d'évaluation d'un terme du calcul propositionnel</a></div><div class="lev3 toc-item"><a href="#Avec-une-autre-interprétation" data-toc-modified-id="Avec-une-autre-interprétation-155"><span class="toc-item-num">1.5.5&nbsp;&nbsp;</span>Avec une autre interprétation</a></div><div class="lev2 toc-item"><a href="#Bonus-:-un-autre-exemple" data-toc-modified-id="Bonus-:-un-autre-exemple-16"><span class="toc-item-num">1.6&nbsp;&nbsp;</span>Bonus : un autre exemple</a></div><div class="lev3 toc-item"><a href="#Symboles-et-arités" data-toc-modified-id="Symboles-et-arités-161"><span class="toc-item-num">1.6.1&nbsp;&nbsp;</span>Symboles et arités</a></div><div class="lev3 toc-item"><a href="#Formules-de-l'arithmétique-de-Presburger" data-toc-modified-id="Formules-de-l'arithmétique-de-Presburger-162"><span class="toc-item-num">1.6.2&nbsp;&nbsp;</span>Formules de l'arithmétique de Presburger</a></div><div class="lev3 toc-item"><a href="#Quelques-exemples-de-formules-de-Presburger" data-toc-modified-id="Quelques-exemples-de-formules-de-Presburger-163"><span class="toc-item-num">1.6.3&nbsp;&nbsp;</span>Quelques exemples de formules de Presburger</a></div><div class="lev3 toc-item"><a href="#Vérification-de-l'écriture-préfixe-pour-des-formules-de-Presburger" data-toc-modified-id="Vérification-de-l'écriture-préfixe-pour-des-formules-de-Presburger-164"><span class="toc-item-num">1.6.4&nbsp;&nbsp;</span>Vérification de l'écriture préfixe pour des formules de Presburger</a></div><div class="lev2 toc-item"><a href="#Conclusion" data-toc-modified-id="Conclusion-17"><span class="toc-item-num">1.7&nbsp;&nbsp;</span>Conclusion</a></div></p>

</div>
</div>
</div>
<div class="cell border-box-sizing text_cell rendered"><div class="prompt input_prompt">
</div><div class="inner_cell">
<div class="text_cell_render border-box-sizing rendered_html">
<h1 id="Texte-d'oral-de-mod&#233;lisation---Agr&#233;gation-Option-Informatique">Texte d'oral de mod&#233;lisation - Agr&#233;gation Option Informatique<a class="anchor-link" href="#Texte-d'oral-de-mod&#233;lisation---Agr&#233;gation-Option-Informatique">&#182;</a></h1><h2 id="Pr&#233;paration-&#224;-l'agr&#233;gation---ENS-de-Rennes,-2016-17">Pr&#233;paration &#224; l'agr&#233;gation - ENS de Rennes, 2016-17<a class="anchor-link" href="#Pr&#233;paration-&#224;-l'agr&#233;gation---ENS-de-Rennes,-2016-17">&#182;</a></h2><ul>
<li><em>Date</em> : 09 mai 2017</li>
<li><em>Auteur</em> : <a href="https://GitHub.com/Naereen/notebooks/">Lilian Besson</a></li>
<li><em>Texte</em>: Annale 2012, <a href="http://agreg.org/Textes/public2012-D6.pdf">"Mots bien formés"</a></li>
</ul>

</div>
</div>
</div>
<div class="cell border-box-sizing text_cell rendered"><div class="prompt input_prompt">
</div><div class="inner_cell">
<div class="text_cell_render border-box-sizing rendered_html">
<h2 id="&#192;-propos-de-ce-document">&#192; propos de ce document<a class="anchor-link" href="#&#192;-propos-de-ce-document">&#182;</a></h2><ul>
<li>Ceci est une <em>proposition</em> de correction, partielle et probablement non-optimale, pour la partie implémentation d'un <a href="http://Agreg.org/Textes/">texte d'annale de l'agrégation de mathématiques, option informatique</a>.</li>
<li>Ce document est un <a href="https://www.Jupyter.org/">notebook Jupyter</a>, et <a href="https://github.com/Naereen/notebooks/tree/master/agreg/">est open-source sous Licence MIT sur GitHub</a>, comme les autres solutions de textes de modélisation que <a href="https://GitHub.com/Naereen">j</a>'ai écrite cette année.</li>
<li>L'implémentation sera faite en OCaml, version 4+ :</li>
</ul>

</div>
</div>
</div>
<div class="cell border-box-sizing code_cell rendered">
<div class="input">
<div class="prompt input_prompt">In&nbsp;[1]:</div>
<div class="inner_cell">
    <div class="input_area">
<div class=" highlight hl-OCaml"><pre><span></span><span class="nn">Sys</span><span class="p">.</span><span class="n">command</span> <span class="s2">&quot;ocaml -version&quot;</span><span class="o">;;</span>
</pre></div>

    </div>
</div>
</div>

<div class="output_wrapper">
<div class="output">


<div class="output_area">

    <div class="prompt"></div>


<div class="output_subarea output_stream output_stdout output_text">
<pre>The OCaml toplevel, version 4.04.2
</pre>
</div>
</div>

<div class="output_area">

    <div class="prompt output_prompt">Out[1]:</div>




<div class="output_text output_subarea output_execute_result">
<pre>- : int = 0
</pre>
</div>

</div>

</div>
</div>

</div>
<div class="cell border-box-sizing text_cell rendered"><div class="prompt input_prompt">
</div><div class="inner_cell">
<div class="text_cell_render border-box-sizing rendered_html">
<hr>
<h2 id="Question-de-programmation">Question de programmation<a class="anchor-link" href="#Question-de-programmation">&#182;</a></h2><p>La question de programmation pour ce texte était donnée à la fin, en page 7 :</p>
<blockquote><p>« Programmer la reconnaissance des mots bien formés en écriture préfixe sur la signature de
l’exemple du texte à l’aide du critère fourni par le théorème 3 page 5. Il est conseillé de représenter le mot à valider sous forme d’un tableau ou d’une liste de caractères. »</p>
</blockquote>
<p>Mathématiquement, l'énoncé à implémenter sous forme d'un critère est le suivant :</p>
<h3 id="Th&#233;or&#232;me-3">Th&#233;or&#232;me 3<a class="anchor-link" href="#Th&#233;or&#232;me-3">&#182;</a></h3><blockquote><p>Pour que la suite de symboles $s_1,\dots,s_n \in \Omega$ soit l'écriture <em>préfixe</em> d'un terme, il faut et il suffit que les $h_p := \sum_{i=1}^{p} (1 - \alpha(s_i))$ vérifient :
$$ h_1,\dots,h_{n-1} \leq 0 \; \text{et} \; h_n = 1. $$</p>
</blockquote>
<h3 id="Choix-d'impl&#233;mentation">Choix d'impl&#233;mentation<a class="anchor-link" href="#Choix-d'impl&#233;mentation">&#182;</a></h3><ul>
<li><p>Ce critère numérique va être très simple à implémenter.</p>
</li>
<li><p>Le choix des structures de données à utiliser n'est cependant pas évident.</p>
<ul>
<li>Le sujet suggérait d'utiliser un tableau ou une liste de caractères pour représenter la "suite de symboles" $s_1,\dots,s_n \in \Omega$</li>
<li>On va définir un type formel pour l'alphabet $\Omega$, avec l'exemple du texte, $\Omega = \{V, F, \mathrm{Non}, \mathrm{Ou}, \mathrm{Et}, \mathrm{ITE}\}$.</li>
<li>On doit ensuite représenter l'arité, sous forme de tableau, table d'association ou de hashage, ou une fonction, qui permette d'associer un entier $\alpha(s)$ à chaque symbole $s$. Par simplicité, on choisit d'utiliser une fonction : $\alpha : \Omega \to \mathbb{N}, s \mapsto \alpha(s)$.</li>
<li>Enfin, la fonction demandée sera récursive, et très rapide à écrire.</li>
</ul>
</li>
</ul>

</div>
</div>
</div>
<div class="cell border-box-sizing text_cell rendered"><div class="prompt input_prompt">
</div><div class="inner_cell">
<div class="text_cell_render border-box-sizing rendered_html">
<hr>
<h2 id="R&#233;ponse-&#224;-l'exercice-requis">R&#233;ponse &#224; l'exercice requis<a class="anchor-link" href="#R&#233;ponse-&#224;-l'exercice-requis">&#182;</a></h2>
</div>
</div>
</div>
<div class="cell border-box-sizing text_cell rendered"><div class="prompt input_prompt">
</div><div class="inner_cell">
<div class="text_cell_render border-box-sizing rendered_html">
<h3 id="Symboles-et-arit&#233;s">Symboles et arit&#233;s<a class="anchor-link" href="#Symboles-et-arit&#233;s">&#182;</a></h3><p>On définit :</p>
<ul>
<li>les symboles du calcul propositionnel par un type énumération (abstrait) :
$$ \Omega = \{V, F, \mathrm{Non}, \mathrm{Ou}, \mathrm{Et}, \mathrm{ITE}\} $$
$\mathrm{ITE}$ correspond au "If then else" ternaire (<code>a ? b : c</code> en C, <code>if a then b else c</code> en OCaml, ou <code>b if a else c</code> en Python).</li>
<li>Et les formules du calcul propositionnel comme une <em>liste</em> de symboles.</li>
</ul>

</div>
</div>
</div>
<div class="cell border-box-sizing code_cell rendered">
<div class="input">
<div class="prompt input_prompt">In&nbsp;[2]:</div>
<div class="inner_cell">
    <div class="input_area">
<div class=" highlight hl-OCaml"><pre><span></span><span class="k">type</span> <span class="n">symbole_calcul_prop</span> <span class="o">=</span> <span class="nc">F</span> <span class="o">|</span> <span class="nc">V</span> <span class="o">|</span> <span class="nc">Ou</span> <span class="o">|</span> <span class="nc">Et</span> <span class="o">|</span> <span class="nc">Non</span> <span class="o">|</span> <span class="nc">ITE</span> <span class="o">;;</span>

<span class="k">type</span> <span class="n">formule_calcul_prop</span> <span class="o">=</span> <span class="n">symbole_calcul_prop</span> <span class="kt">list</span> <span class="o">;;</span>
</pre></div>

    </div>
</div>
</div>

<div class="output_wrapper">
<div class="output">


<div class="output_area">

    <div class="prompt output_prompt">Out[2]:</div>




<div class="output_text output_subarea output_execute_result">
<pre>type symbole_calcul_prop = F | V | Ou | Et | Non | ITE
</pre>
</div>

</div>

<div class="output_area">

    <div class="prompt output_prompt">Out[2]:</div>




<div class="output_text output_subarea output_execute_result">
<pre>type formule_calcul_prop = symbole_calcul_prop list
</pre>
</div>

</div>

</div>
</div>

</div>
<div class="cell border-box-sizing text_cell rendered"><div class="prompt input_prompt">
</div><div class="inner_cell">
<div class="text_cell_render border-box-sizing rendered_html">
<p>Quelques exemples de formules du calcul propositionnel, écrites sous forme préfixes, bien formées ou non :</p>
<ul>
<li>"$\mathrm{Ou} \; \mathrm{Non} \; \mathrm{Ou} \; F \; V \; \mathrm{Ou} \; \mathrm{Non} \; V \; F"$ $\equiv (\neg(F \vee V)) \vee ((\neg V) \vee F)$ est bien formé,</li>
<li>"$\mathrm{Ou} \; \mathrm{Non} \; F \; \mathrm{Non}$" est mal formé,</li>
<li>"$\mathrm{ITE} \; V \; F \; V$" un exemple de "If then else" bien formé,</li>
<li>"$\;$" la formule vide.</li>
</ul>

</div>
</div>
</div>
<div class="cell border-box-sizing code_cell rendered">
<div class="input">
<div class="prompt input_prompt">In&nbsp;[3]:</div>
<div class="inner_cell">
    <div class="input_area">
<div class=" highlight hl-OCaml"><pre><span></span><span class="k">let</span> <span class="n">ex_correct</span> <span class="o">=</span> <span class="o">[</span><span class="nc">Ou</span><span class="o">;</span> <span class="nc">Non</span><span class="o">;</span> <span class="nc">Ou</span><span class="o">;</span> <span class="nc">F</span><span class="o">;</span> <span class="nc">V</span><span class="o">;</span> <span class="nc">Ou</span><span class="o">;</span> <span class="nc">Non</span><span class="o">;</span> <span class="nc">V</span><span class="o">;</span> <span class="nc">F</span><span class="o">];;</span>
<span class="k">let</span> <span class="n">ex_incorrect</span> <span class="o">=</span> <span class="o">[</span><span class="nc">Ou</span><span class="o">;</span> <span class="nc">Non</span><span class="o">;</span> <span class="nc">F</span><span class="o">;</span> <span class="nc">Non</span><span class="o">];;</span>
<span class="k">let</span> <span class="n">ex_ite</span> <span class="o">=</span> <span class="o">[</span><span class="nc">ITE</span><span class="o">;</span> <span class="nc">V</span><span class="o">;</span> <span class="nc">F</span><span class="o">;</span> <span class="nc">V</span><span class="o">];;</span>
<span class="k">let</span> <span class="n">ex_vide</span> <span class="o">=</span> <span class="bp">[]</span><span class="o">;;</span>
</pre></div>

    </div>
</div>
</div>

<div class="output_wrapper">
<div class="output">


<div class="output_area">

    <div class="prompt output_prompt">Out[3]:</div>




<div class="output_text output_subarea output_execute_result">
<pre>val ex_correct : symbole_calcul_prop list =
  [Ou; Non; Ou; F; V; Ou; Non; V; F]
</pre>
</div>

</div>

<div class="output_area">

    <div class="prompt output_prompt">Out[3]:</div>




<div class="output_text output_subarea output_execute_result">
<pre>val ex_incorrect : symbole_calcul_prop list = [Ou; Non; F; Non]
</pre>
</div>

</div>

<div class="output_area">

    <div class="prompt output_prompt">Out[3]:</div>




<div class="output_text output_subarea output_execute_result">
<pre>val ex_ite : symbole_calcul_prop list = [ITE; V; F; V]
</pre>
</div>

</div>

<div class="output_area">

    <div class="prompt output_prompt">Out[3]:</div>




<div class="output_text output_subarea output_execute_result">
<pre>val ex_vide : &#39;a list = []
</pre>
</div>

</div>

</div>
</div>

</div>
<div class="cell border-box-sizing text_cell rendered"><div class="prompt input_prompt">
</div><div class="inner_cell">
<div class="text_cell_render border-box-sizing rendered_html">
<p>Cette fonction donne l'arité du symbole du calcul propositionnel pris en argument.</p>
<ul>
<li>$V$ et $F$ ont arités $\alpha = 0$,</li>
<li>$\mathrm{Non}$ a arité $\alpha = 1$,</li>
<li>$\mathrm{Et}$ et $\mathrm{Ou}$ ont arités $\alpha = 2$,</li>
<li>$\mathrm{ITE}$ a arité $\alpha = 3$.</li>
</ul>
<p>Autrement dit, avec les notations du texte :
$$ S = \Omega = S_0 \sqcup S_1 \sqcup S_2 \sqcup S_3 \\
\begin{cases}
    S_0 &amp;= \{ V, F \}, \\
    S_1 &amp;= \{ \mathrm{Non} \}, \\
    S_2 &amp;= \{ \mathrm{Et}, \mathrm{Ou} \}, \\
    S_3 &amp;= \{ \mathrm{ITE} \}.
\end{cases}
$$</p>
<blockquote><p>Notez qu'on peut supposer que l'appel à cette fonction d'arité se fait en $\mathcal{O}(1)$ dans les calculs de complexité, puisqu'après compilation, cette fonction sera une simple lecture d'un tableau.</p>
</blockquote>

</div>
</div>
</div>
<div class="cell border-box-sizing code_cell rendered">
<div class="input">
<div class="prompt input_prompt">In&nbsp;[4]:</div>
<div class="inner_cell">
    <div class="input_area">
<div class=" highlight hl-OCaml"><pre><span></span><span class="k">let</span> <span class="n">arite_calcul_prop</span> <span class="o">(</span><span class="n">s</span> <span class="o">:</span> <span class="n">symbole_calcul_prop</span><span class="o">)</span> <span class="o">:</span> <span class="kt">int</span> <span class="o">=</span>
    <span class="k">match</span> <span class="n">s</span> <span class="k">with</span>
    <span class="o">|</span> <span class="nc">F</span> <span class="o">-&gt;</span> <span class="mi">0</span>
    <span class="o">|</span> <span class="nc">V</span> <span class="o">-&gt;</span> <span class="mi">0</span>
    <span class="o">|</span> <span class="nc">Non</span> <span class="o">-&gt;</span> <span class="mi">1</span>
    <span class="o">|</span> <span class="nc">Ou</span> <span class="o">-&gt;</span> <span class="mi">2</span>
    <span class="o">|</span> <span class="nc">Et</span> <span class="o">-&gt;</span> <span class="mi">2</span>
    <span class="o">|</span> <span class="nc">ITE</span> <span class="o">-&gt;</span> <span class="mi">3</span>
<span class="o">;;</span>
</pre></div>

    </div>
</div>
</div>

<div class="output_wrapper">
<div class="output">


<div class="output_area">

    <div class="prompt output_prompt">Out[4]:</div>




<div class="output_text output_subarea output_execute_result">
<pre>val arite_calcul_prop : symbole_calcul_prop -&gt; int = &lt;fun&gt;
</pre>
</div>

</div>

</div>
</div>

</div>
<div class="cell border-box-sizing text_cell rendered"><div class="prompt input_prompt">
</div><div class="inner_cell">
<div class="text_cell_render border-box-sizing rendered_html">
<h3 id="V&#233;rification-de-l'&#233;criture-pr&#233;fixe">V&#233;rification de l'&#233;criture pr&#233;fixe<a class="anchor-link" href="#V&#233;rification-de-l'&#233;criture-pr&#233;fixe">&#182;</a></h3><p>Cette fonction prend en argument une liste de symboles <code>l</code> et une fonction d'arité sur ces symboles et renvoie "vrai" (<code>true</code>) si <code>l</code> est l'écriture préfixe d'un terme et "faux" sinon (<code>false</code>).</p>
<p>Notez que le "et" en Caml est paresseux, i.e., <code>x &amp;&amp; y</code> n'évalue pas <code>y</code> si <code>x</code> est <code>false</code>.
Donc cette fonction peut s'arrêter avant d'avoir parcouru tous les symboles, dès qu'elle trouve un symbole qui contredit le critère sur les hauteurs $h_p$.</p>
<p>Et cela permet aussi d'obtenir une indication sur le premier symbole à contredire le critère, comme implémenté ensuite.</p>

</div>
</div>
</div>
<div class="cell border-box-sizing code_cell rendered">
<div class="input">
<div class="prompt input_prompt">In&nbsp;[5]:</div>
<div class="inner_cell">
    <div class="input_area">
<div class=" highlight hl-OCaml"><pre><span></span><span class="k">let</span> <span class="n">ecriture_prefixe_valide</span> <span class="o">(</span><span class="n">l</span> <span class="o">:</span> <span class="k">&#39;</span><span class="n">a</span> <span class="kt">list</span><span class="o">)</span> <span class="o">(</span><span class="n">arite</span> <span class="o">:</span> <span class="k">&#39;</span><span class="n">a</span> <span class="o">-&gt;</span> <span class="kt">int</span><span class="o">)</span> <span class="o">:</span> <span class="kt">bool</span> <span class="o">=</span>
    <span class="k">let</span> <span class="k">rec</span> <span class="n">aux</span> <span class="o">(</span><span class="n">l</span> <span class="o">:</span> <span class="k">&#39;</span><span class="n">a</span> <span class="kt">list</span><span class="o">)</span> <span class="o">(</span><span class="n">h</span> <span class="o">:</span> <span class="kt">int</span><span class="o">)</span> <span class="o">:</span> <span class="kt">bool</span> <span class="o">=</span>
    <span class="k">match</span> <span class="n">l</span> <span class="k">with</span>
    <span class="o">|</span> <span class="bp">[]</span> <span class="o">-&gt;</span> <span class="bp">false</span>
    <span class="o">|</span> <span class="o">[</span><span class="n">t</span><span class="o">]</span> <span class="o">-&gt;</span> <span class="o">((</span><span class="n">h</span> <span class="o">+</span> <span class="mi">1</span> <span class="o">-</span> <span class="o">(</span><span class="n">arite</span> <span class="n">t</span><span class="o">))</span> <span class="o">=</span> <span class="mi">1</span><span class="o">)</span>
    <span class="o">|</span> <span class="n">t</span> <span class="o">::</span> <span class="n">q</span>  <span class="o">-&gt;</span>
        <span class="k">let</span> <span class="n">h_suivant</span> <span class="o">=</span> <span class="o">(</span><span class="n">h</span> <span class="o">+</span> <span class="mi">1</span> <span class="o">-</span> <span class="o">(</span><span class="n">arite</span> <span class="n">t</span><span class="o">))</span> <span class="k">in</span>
        <span class="o">(</span><span class="n">h_suivant</span> <span class="o">&lt;=</span> <span class="mi">0</span><span class="o">)</span> <span class="o">&amp;&amp;</span> <span class="o">(</span><span class="n">aux</span> <span class="n">q</span> <span class="n">h_suivant</span><span class="o">)</span>
    <span class="k">in</span> <span class="n">aux</span> <span class="n">l</span> <span class="mi">0</span>
<span class="o">;;</span>
</pre></div>

    </div>
</div>
</div>

<div class="output_wrapper">
<div class="output">


<div class="output_area">

    <div class="prompt output_prompt">Out[5]:</div>




<div class="output_text output_subarea output_execute_result">
<pre>val ecriture_prefixe_valide : &#39;a list -&gt; (&#39;a -&gt; int) -&gt; bool = &lt;fun&gt;
</pre>
</div>

</div>

</div>
</div>

</div>
<div class="cell border-box-sizing text_cell rendered"><div class="prompt input_prompt">
</div><div class="inner_cell">
<div class="text_cell_render border-box-sizing rendered_html">
<p>On vérifie tout de suite sur les 4 exemples définis ci-dessus :</p>

</div>
</div>
</div>
<div class="cell border-box-sizing code_cell rendered">
<div class="input">
<div class="prompt input_prompt">In&nbsp;[6]:</div>
<div class="inner_cell">
    <div class="input_area">
<div class=" highlight hl-OCaml"><pre><span></span><span class="k">let</span> <span class="o">_</span> <span class="o">=</span> <span class="n">ecriture_prefixe_valide</span> <span class="n">ex_correct</span>   <span class="n">arite_calcul_prop</span><span class="o">;;</span> <span class="c">(* true *)</span>
<span class="k">let</span> <span class="o">_</span> <span class="o">=</span> <span class="n">ecriture_prefixe_valide</span> <span class="n">ex_incorrect</span> <span class="n">arite_calcul_prop</span><span class="o">;;</span> <span class="c">(* false *)</span>
<span class="k">let</span> <span class="o">_</span> <span class="o">=</span> <span class="n">ecriture_prefixe_valide</span> <span class="n">ex_ite</span>       <span class="n">arite_calcul_prop</span><span class="o">;;</span> <span class="c">(* true *)</span>
<span class="k">let</span> <span class="o">_</span> <span class="o">=</span> <span class="n">ecriture_prefixe_valide</span> <span class="n">ex_vide</span>      <span class="n">arite_calcul_prop</span><span class="o">;;</span> <span class="c">(* false *)</span>
</pre></div>

    </div>
</div>
</div>

<div class="output_wrapper">
<div class="output">


<div class="output_area">

    <div class="prompt output_prompt">Out[6]:</div>




<div class="output_text output_subarea output_execute_result">
<pre>- : bool = true
</pre>
</div>

</div>

<div class="output_area">

    <div class="prompt output_prompt">Out[6]:</div>




<div class="output_text output_subarea output_execute_result">
<pre>- : bool = false
</pre>
</div>

</div>

<div class="output_area">

    <div class="prompt output_prompt">Out[6]:</div>




<div class="output_text output_subarea output_execute_result">
<pre>- : bool = true
</pre>
</div>

</div>

<div class="output_area">

    <div class="prompt output_prompt">Out[6]:</div>




<div class="output_text output_subarea output_execute_result">
<pre>- : bool = false
</pre>
</div>

</div>

</div>
</div>

</div>
<div class="cell border-box-sizing text_cell rendered"><div class="prompt input_prompt">
</div><div class="inner_cell">
<div class="text_cell_render border-box-sizing rendered_html">
<h3 id="V&#233;rification-et-localisation-de-la-premi&#232;re-erreur">V&#233;rification et localisation de la premi&#232;re erreur<a class="anchor-link" href="#V&#233;rification-et-localisation-de-la-premi&#232;re-erreur">&#182;</a></h3><p>Avec la remarque précédente, on peut écrire une fonction très similaire, mais qui donnera une indication sur la position (i.e., l'indice) du premier symbole qui fait que le mot n'est pas bien équilibré, si le mot n'est pas bien formé. Si le mot est bien formé, <code>None</code> est renvoyé.</p>

</div>
</div>
</div>
<div class="cell border-box-sizing code_cell rendered">
<div class="input">
<div class="prompt input_prompt">In&nbsp;[7]:</div>
<div class="inner_cell">
    <div class="input_area">
<div class=" highlight hl-OCaml"><pre><span></span><span class="k">let</span> <span class="n">ecriture_prefixe_valide_info</span> <span class="o">(</span><span class="n">l</span> <span class="o">:</span> <span class="k">&#39;</span><span class="n">a</span> <span class="kt">list</span><span class="o">)</span> <span class="o">(</span><span class="n">arite</span> <span class="o">:</span> <span class="k">&#39;</span><span class="n">a</span> <span class="o">-&gt;</span> <span class="kt">int</span><span class="o">)</span> <span class="o">:</span> <span class="kt">int</span> <span class="n">option</span> <span class="o">=</span>
    <span class="k">let</span> <span class="k">rec</span> <span class="n">aux</span> <span class="o">(</span><span class="n">l</span> <span class="o">:</span> <span class="k">&#39;</span><span class="n">a</span> <span class="kt">list</span><span class="o">)</span> <span class="o">(</span><span class="n">compteur</span> <span class="o">:</span> <span class="kt">int</span><span class="o">)</span> <span class="o">(</span><span class="n">h</span> <span class="o">:</span> <span class="kt">int</span><span class="o">)</span> <span class="o">:</span> <span class="kt">int</span> <span class="n">option</span> <span class="o">=</span>
    <span class="k">match</span> <span class="n">l</span> <span class="k">with</span>
    <span class="o">|</span> <span class="bp">[]</span> <span class="o">-&gt;</span> <span class="nc">Some</span> <span class="n">compteur</span>
    <span class="o">|</span> <span class="o">[</span><span class="n">t</span><span class="o">]</span> <span class="o">-&gt;</span>
        <span class="k">if</span> <span class="o">(</span><span class="n">h</span> <span class="o">+</span> <span class="mi">1</span> <span class="o">-</span> <span class="o">(</span><span class="n">arite</span> <span class="n">t</span><span class="o">))</span> <span class="o">=</span> <span class="mi">1</span> <span class="c">(* h = arite(t) *)</span>
        <span class="k">then</span> <span class="nc">None</span>
        <span class="k">else</span> <span class="nc">Some</span> <span class="n">compteur</span>
    <span class="o">|</span> <span class="n">t</span> <span class="o">::</span> <span class="n">q</span>  <span class="o">-&gt;</span>
        <span class="c">(* h est l&#39;accumulateur qui contient la somme des 1 - arite(t) *)</span>
        <span class="k">let</span> <span class="n">h_suivant</span> <span class="o">=</span> <span class="o">(</span><span class="n">h</span> <span class="o">+</span> <span class="mi">1</span> <span class="o">-</span> <span class="o">(</span><span class="n">arite</span> <span class="n">t</span><span class="o">))</span> <span class="k">in</span>
        <span class="k">if</span> <span class="n">h_suivant</span> <span class="o">&gt;</span> <span class="mi">0</span> <span class="k">then</span>
            <span class="nc">Some</span> <span class="n">compteur</span>
        <span class="k">else</span>
            <span class="n">aux</span> <span class="n">q</span> <span class="o">(</span><span class="n">compteur</span> <span class="o">+</span> <span class="mi">1</span><span class="o">)</span> <span class="n">h_suivant</span>
    <span class="k">in</span>
    <span class="n">aux</span> <span class="n">l</span> <span class="mi">0</span> <span class="mi">0</span>
<span class="o">;;</span>
</pre></div>

    </div>
</div>
</div>

<div class="output_wrapper">
<div class="output">


<div class="output_area">

    <div class="prompt output_prompt">Out[7]:</div>




<div class="output_text output_subarea output_execute_result">
<pre>val ecriture_prefixe_valide_info : &#39;a list -&gt; (&#39;a -&gt; int) -&gt; int option =
  &lt;fun&gt;
</pre>
</div>

</div>

</div>
</div>

</div>
<div class="cell border-box-sizing text_cell rendered"><div class="prompt input_prompt">
</div><div class="inner_cell">
<div class="text_cell_render border-box-sizing rendered_html">
<p>On vérifie tout de suite sur les 4 exemples définis ci-dessus :</p>

</div>
</div>
</div>
<div class="cell border-box-sizing code_cell rendered">
<div class="input">
<div class="prompt input_prompt">In&nbsp;[8]:</div>
<div class="inner_cell">
    <div class="input_area">
<div class=" highlight hl-OCaml"><pre><span></span><span class="k">let</span> <span class="o">_</span> <span class="o">=</span> <span class="n">ecriture_prefixe_valide_info</span> <span class="n">ex_correct</span>   <span class="n">arite_calcul_prop</span><span class="o">;;</span> <span class="c">(* None *)</span>
<span class="k">let</span> <span class="o">_</span> <span class="o">=</span> <span class="n">ecriture_prefixe_valide_info</span> <span class="n">ex_incorrect</span> <span class="n">arite_calcul_prop</span><span class="o">;;</span> <span class="c">(* Some 3 *)</span>
<span class="k">let</span> <span class="o">_</span> <span class="o">=</span> <span class="n">ecriture_prefixe_valide_info</span> <span class="n">ex_ite</span>       <span class="n">arite_calcul_prop</span><span class="o">;;</span> <span class="c">(* None *)</span>
<span class="k">let</span> <span class="o">_</span> <span class="o">=</span> <span class="n">ecriture_prefixe_valide_info</span> <span class="n">ex_vide</span>      <span class="n">arite_calcul_prop</span><span class="o">;;</span> <span class="c">(* Some 0 *)</span>
</pre></div>

    </div>
</div>
</div>

<div class="output_wrapper">
<div class="output">


<div class="output_area">

    <div class="prompt output_prompt">Out[8]:</div>




<div class="output_text output_subarea output_execute_result">
<pre>- : int option = None
</pre>
</div>

</div>

<div class="output_area">

    <div class="prompt output_prompt">Out[8]:</div>




<div class="output_text output_subarea output_execute_result">
<pre>- : int option = Some 3
</pre>
</div>

</div>

<div class="output_area">

    <div class="prompt output_prompt">Out[8]:</div>




<div class="output_text output_subarea output_execute_result">
<pre>- : int option = None
</pre>
</div>

</div>

<div class="output_area">

    <div class="prompt output_prompt">Out[8]:</div>




<div class="output_text output_subarea output_execute_result">
<pre>- : int option = Some 0
</pre>
</div>

</div>

</div>
</div>

</div>
<div class="cell border-box-sizing text_cell rendered"><div class="prompt input_prompt">
</div><div class="inner_cell">
<div class="text_cell_render border-box-sizing rendered_html">
<p>Cela permet de voir que sur la formule "$\mathrm{Ou} \; \mathrm{Non} \; F \; \mathrm{Non}$", le premier symbole à poser problème est le dernier symbole.
Et effectivement, le critère est vérifié jusqu'au dernier symbole $\mathrm{Non}$.</p>

</div>
</div>
</div>
<div class="cell border-box-sizing text_cell rendered"><div class="prompt input_prompt">
</div><div class="inner_cell">
<div class="text_cell_render border-box-sizing rendered_html">
<h3 id="Exemples">Exemples<a class="anchor-link" href="#Exemples">&#182;</a></h3><p>Avec les mêmes exemples :</p>

</div>
</div>
</div>
<div class="cell border-box-sizing code_cell rendered">
<div class="input">
<div class="prompt input_prompt">In&nbsp;[9]:</div>
<div class="inner_cell">
    <div class="input_area">
<div class=" highlight hl-OCaml"><pre><span></span><span class="k">let</span> <span class="o">_</span> <span class="o">=</span> <span class="n">ecriture_prefixe_valide</span> <span class="n">ex_correct</span>   <span class="n">arite_calcul_prop</span><span class="o">;;</span> <span class="c">(* true *)</span>
<span class="k">let</span> <span class="o">_</span> <span class="o">=</span> <span class="n">ecriture_prefixe_valide</span> <span class="n">ex_incorrect</span> <span class="n">arite_calcul_prop</span><span class="o">;;</span> <span class="c">(* false *)</span>
<span class="k">let</span> <span class="o">_</span> <span class="o">=</span> <span class="n">ecriture_prefixe_valide</span> <span class="n">ex_ite</span>       <span class="n">arite_calcul_prop</span><span class="o">;;</span> <span class="c">(* true *)</span>
<span class="k">let</span> <span class="o">_</span> <span class="o">=</span> <span class="n">ecriture_prefixe_valide</span> <span class="n">ex_vide</span>      <span class="n">arite_calcul_prop</span><span class="o">;;</span> <span class="c">(* false *)</span>
</pre></div>

    </div>
</div>
</div>

<div class="output_wrapper">
<div class="output">


<div class="output_area">

    <div class="prompt output_prompt">Out[9]:</div>




<div class="output_text output_subarea output_execute_result">
<pre>- : bool = true
</pre>
</div>

</div>

<div class="output_area">

    <div class="prompt output_prompt">Out[9]:</div>




<div class="output_text output_subarea output_execute_result">
<pre>- : bool = false
</pre>
</div>

</div>

<div class="output_area">

    <div class="prompt output_prompt">Out[9]:</div>




<div class="output_text output_subarea output_execute_result">
<pre>- : bool = true
</pre>
</div>

</div>

<div class="output_area">

    <div class="prompt output_prompt">Out[9]:</div>




<div class="output_text output_subarea output_execute_result">
<pre>- : bool = false
</pre>
</div>

</div>

</div>
</div>

</div>
<div class="cell border-box-sizing text_cell rendered"><div class="prompt input_prompt">
</div><div class="inner_cell">
<div class="text_cell_render border-box-sizing rendered_html">
<p>On peut aussi transformer un peu la deuxième formule pour la rendre valide.</p>

</div>
</div>
</div>
<div class="cell border-box-sizing code_cell rendered">
<div class="input">
<div class="prompt input_prompt">In&nbsp;[10]:</div>
<div class="inner_cell">
    <div class="input_area">
<div class=" highlight hl-OCaml"><pre><span></span><span class="k">let</span> <span class="n">ex_correct_2</span> <span class="o">=</span> <span class="o">[</span><span class="nc">Ou</span><span class="o">;</span> <span class="nc">Non</span><span class="o">;</span> <span class="nc">F</span><span class="o">;</span> <span class="nc">V</span><span class="o">];;</span>
<span class="k">let</span> <span class="o">_</span> <span class="o">=</span> <span class="n">ecriture_prefixe_valide</span> <span class="n">ex_correct_2</span>   <span class="n">arite_calcul_prop</span><span class="o">;;</span> <span class="c">(* true *)</span>
</pre></div>

    </div>
</div>
</div>

<div class="output_wrapper">
<div class="output">


<div class="output_area">

    <div class="prompt output_prompt">Out[10]:</div>




<div class="output_text output_subarea output_execute_result">
<pre>val ex_correct_2 : symbole_calcul_prop list = [Ou; Non; F; V]
</pre>
</div>

</div>

<div class="output_area">

    <div class="prompt output_prompt">Out[10]:</div>




<div class="output_text output_subarea output_execute_result">
<pre>- : bool = true
</pre>
</div>

</div>

</div>
</div>

</div>
<div class="cell border-box-sizing text_cell rendered"><div class="prompt input_prompt">
</div><div class="inner_cell">
<div class="text_cell_render border-box-sizing rendered_html">
<h2 id="Bonus-:-&#233;valuation-d'un-terme">Bonus : &#233;valuation d'un terme<a class="anchor-link" href="#Bonus-:-&#233;valuation-d'un-terme">&#182;</a></h2><p>L'objectif est de construire la fonction d'évaluation d'un terme en écriture postfixe présentée dans le texte (Algorithme 2, page 4) :</p>
<p><img src="images/algorithme_evaluation_terme.png" alt="images/algorithme_evaluation_terme.png"></p>
<ul>
<li><p>La pile utilisée dans l'algorithme sera implémentée par une simple liste.</p>
</li>
<li><p>Ce que le texte appelle "valeur" et "omegabarre" sont regroupés dans une liste de couples tels que le premier élément du couple est un symbole <code>s</code> et le deuxième la fonction <code>f_s</code> permettant d'interpréter ce symbole ; on considère que les constante sont des fonctions d'arité 0. Cette fonction <code>f_s</code> prend en arguments une liste d'éléments du domaine et renvoie un élément du domaine.</p>
</li>
</ul>

</div>
</div>
</div>
<div class="cell border-box-sizing text_cell rendered"><div class="prompt input_prompt">
</div><div class="inner_cell">
<div class="text_cell_render border-box-sizing rendered_html">
<h3 id="Manipulation-basique-sur-une-pile">Manipulation basique sur une pile<a class="anchor-link" href="#Manipulation-basique-sur-une-pile">&#182;</a></h3><p>On a besoin de savoir dépiler plus d'une valeur, pour récupérer les $k$ valeurs successives à donner à l'interprétation d'un symbole d'arité $k \geq 1$.</p>
<p>Cette fonction renvoie un couple de listes :</p>
<ul>
<li>la liste des <code>k</code> éléments en sommet de la pile <code>p</code> de sorte que le sommet de la pile <code>p</code> se trouve en dernière position dans cette liste,</li>
<li>et la pile <code>p</code> une fois qu'on a dépilé ses <code>k</code> éléments du sommet.</li>
</ul>

</div>
</div>
</div>
<div class="cell border-box-sizing code_cell rendered">
<div class="input">
<div class="prompt input_prompt">In&nbsp;[11]:</div>
<div class="inner_cell">
    <div class="input_area">
<div class=" highlight hl-OCaml"><pre><span></span><span class="k">let</span> <span class="n">depile</span> <span class="o">(</span><span class="n">k</span> <span class="o">:</span> <span class="kt">int</span><span class="o">)</span> <span class="o">(</span><span class="n">p</span> <span class="o">:</span> <span class="k">&#39;</span><span class="n">a</span> <span class="kt">list</span><span class="o">)</span> <span class="o">:</span> <span class="o">(</span><span class="k">&#39;</span><span class="n">a</span> <span class="kt">list</span> <span class="o">*</span> <span class="k">&#39;</span><span class="n">a</span> <span class="kt">list</span><span class="o">)</span> <span class="o">=</span>
    <span class="k">let</span> <span class="k">rec</span> <span class="n">aux</span> <span class="o">(</span><span class="n">k</span> <span class="o">:</span> <span class="kt">int</span><span class="o">)</span> <span class="o">(</span><span class="n">p</span> <span class="o">:</span> <span class="k">&#39;</span><span class="n">a</span> <span class="kt">list</span><span class="o">)</span>  <span class="o">(</span><span class="n">sommet_pile</span> <span class="o">:</span> <span class="k">&#39;</span><span class="n">a</span> <span class="kt">list</span><span class="o">)</span> <span class="o">:</span> <span class="o">(</span><span class="k">&#39;</span><span class="n">a</span> <span class="kt">list</span> <span class="o">*</span> <span class="k">&#39;</span><span class="n">a</span> <span class="kt">list</span><span class="o">)</span> <span class="o">=</span>
    <span class="k">match</span> <span class="n">k</span> <span class="k">with</span>
    <span class="o">|</span> <span class="mi">0</span> <span class="o">-&gt;</span> <span class="o">(</span><span class="n">sommet_pile</span><span class="o">,</span> <span class="n">p</span><span class="o">)</span>
    <span class="o">|</span> <span class="o">_</span> <span class="k">when</span> <span class="n">p</span> <span class="o">=</span> <span class="bp">[]</span> <span class="o">-&gt;</span>
        <span class="n">failwith</span> <span class="s2">&quot;Liste vide&quot;</span>
    <span class="o">|</span> <span class="n">i</span> <span class="o">-&gt;</span>
        <span class="k">let</span> <span class="n">sommet_modif</span> <span class="o">=</span> <span class="o">(</span><span class="nn">List</span><span class="p">.</span><span class="n">hd</span> <span class="n">p</span><span class="o">)</span> <span class="o">::</span> <span class="n">sommet_pile</span> <span class="k">in</span>
        <span class="k">let</span> <span class="n">p_modif</span> <span class="o">=</span> <span class="nn">List</span><span class="p">.</span><span class="n">tl</span> <span class="n">p</span> <span class="k">in</span>
        <span class="n">aux</span> <span class="o">(</span><span class="n">i</span> <span class="o">-</span> <span class="mi">1</span><span class="o">)</span> <span class="n">p_modif</span> <span class="n">sommet_modif</span>
    <span class="k">in</span>
    <span class="n">aux</span> <span class="n">k</span> <span class="n">p</span> <span class="bp">[]</span>
<span class="o">;;</span>
</pre></div>

    </div>
</div>
</div>

<div class="output_wrapper">
<div class="output">


<div class="output_area">

    <div class="prompt output_prompt">Out[11]:</div>




<div class="output_text output_subarea output_execute_result">
<pre>val depile : int -&gt; &#39;a list -&gt; &#39;a list * &#39;a list = &lt;fun&gt;
</pre>
</div>

</div>

</div>
</div>

</div>
<div class="cell border-box-sizing text_cell rendered"><div class="prompt input_prompt">
</div><div class="inner_cell">
<div class="text_cell_render border-box-sizing rendered_html">
<p>Il est absolument crucial de faire <em>au moins un test</em> à ce moment là :</p>

</div>
</div>
</div>
<div class="cell border-box-sizing code_cell rendered">
<div class="input">
<div class="prompt input_prompt">In&nbsp;[12]:</div>
<div class="inner_cell">
    <div class="input_area">
<div class=" highlight hl-OCaml"><pre><span></span><span class="n">depile</span> <span class="mi">0</span> <span class="o">[</span><span class="mi">0</span><span class="o">;</span> <span class="mi">1</span><span class="o">;</span> <span class="mi">2</span><span class="o">;</span> <span class="mi">3</span><span class="o">;</span> <span class="mi">4</span><span class="o">;</span> <span class="mi">5</span><span class="o">;</span> <span class="mi">6</span><span class="o">;</span> <span class="mi">7</span><span class="o">];;</span>
<span class="n">depile</span> <span class="mi">1</span> <span class="o">[</span><span class="mi">0</span><span class="o">;</span> <span class="mi">1</span><span class="o">;</span> <span class="mi">2</span><span class="o">;</span> <span class="mi">3</span><span class="o">;</span> <span class="mi">4</span><span class="o">;</span> <span class="mi">5</span><span class="o">;</span> <span class="mi">6</span><span class="o">;</span> <span class="mi">7</span><span class="o">];;</span>
<span class="n">depile</span> <span class="mi">3</span> <span class="o">[</span><span class="mi">0</span><span class="o">;</span> <span class="mi">1</span><span class="o">;</span> <span class="mi">2</span><span class="o">;</span> <span class="mi">3</span><span class="o">;</span> <span class="mi">4</span><span class="o">;</span> <span class="mi">5</span><span class="o">;</span> <span class="mi">6</span><span class="o">;</span> <span class="mi">7</span><span class="o">];;</span>
<span class="n">depile</span> <span class="mi">8</span> <span class="o">[</span><span class="mi">0</span><span class="o">;</span> <span class="mi">1</span><span class="o">;</span> <span class="mi">2</span><span class="o">;</span> <span class="mi">3</span><span class="o">;</span> <span class="mi">4</span><span class="o">;</span> <span class="mi">5</span><span class="o">;</span> <span class="mi">6</span><span class="o">;</span> <span class="mi">7</span><span class="o">];;</span>
</pre></div>

    </div>
</div>
</div>

<div class="output_wrapper">
<div class="output">


<div class="output_area">

    <div class="prompt output_prompt">Out[12]:</div>




<div class="output_text output_subarea output_execute_result">
<pre>- : int list * int list = ([], [0; 1; 2; 3; 4; 5; 6; 7])
</pre>
</div>

</div>

<div class="output_area">

    <div class="prompt output_prompt">Out[12]:</div>




<div class="output_text output_subarea output_execute_result">
<pre>- : int list * int list = ([0], [1; 2; 3; 4; 5; 6; 7])
</pre>
</div>

</div>

<div class="output_area">

    <div class="prompt output_prompt">Out[12]:</div>




<div class="output_text output_subarea output_execute_result">
<pre>- : int list * int list = ([2; 1; 0], [3; 4; 5; 6; 7])
</pre>
</div>

</div>

<div class="output_area">

    <div class="prompt output_prompt">Out[12]:</div>




<div class="output_text output_subarea output_execute_result">
<pre>- : int list * int list = ([7; 6; 5; 4; 3; 2; 1; 0], [])
</pre>
</div>

</div>

</div>
</div>

</div>
<div class="cell border-box-sizing text_cell rendered"><div class="prompt input_prompt">
</div><div class="inner_cell">
<div class="text_cell_render border-box-sizing rendered_html">
<p>Ça semble bien fonctionner.
Notez que la première liste a été retournée ("renversée"), puisque les valeurs ont été empilées dans le sens inverse lors de leurs lectures.</p>
<p>On peut aussi proposer une implémentation alternative, moins élégante mais plus rapide à écrire, avec des tableaux, et deux appels à <code>Array.sub</code> pour découper le tableau, et <code>Array.of_list</code> et <code>Array.to_list</code> pour passer d'une liste à un tableau puis de deux tableaux à deux listes.</p>

</div>
</div>
</div>
<div class="cell border-box-sizing code_cell rendered">
<div class="input">
<div class="prompt input_prompt">In&nbsp;[13]:</div>
<div class="inner_cell">
    <div class="input_area">
<div class=" highlight hl-OCaml"><pre><span></span><span class="k">let</span> <span class="n">depile_2</span> <span class="o">(</span><span class="n">k</span> <span class="o">:</span> <span class="kt">int</span><span class="o">)</span> <span class="o">(</span><span class="n">p</span> <span class="o">:</span> <span class="k">&#39;</span><span class="n">a</span> <span class="kt">list</span><span class="o">)</span> <span class="o">:</span> <span class="o">(</span><span class="k">&#39;</span><span class="n">a</span> <span class="kt">list</span> <span class="o">*</span> <span class="k">&#39;</span><span class="n">a</span> <span class="kt">list</span><span class="o">)</span> <span class="o">=</span>
    <span class="k">let</span> <span class="n">pa</span> <span class="o">=</span> <span class="nn">Array</span><span class="p">.</span><span class="n">of_list</span> <span class="n">p</span> <span class="k">in</span>
    <span class="k">let</span> <span class="n">debut</span> <span class="o">=</span> <span class="nn">Array</span><span class="p">.</span><span class="n">sub</span> <span class="n">pa</span> <span class="mi">0</span> <span class="n">k</span> <span class="k">in</span>
    <span class="k">let</span> <span class="n">fin</span>   <span class="o">=</span> <span class="nn">Array</span><span class="p">.</span><span class="n">sub</span> <span class="n">pa</span> <span class="n">k</span> <span class="o">((</span><span class="nn">Array</span><span class="p">.</span><span class="n">length</span> <span class="n">pa</span><span class="o">)</span> <span class="o">-</span> <span class="n">k</span><span class="o">)</span> <span class="k">in</span>
    <span class="o">(</span><span class="nn">List</span><span class="p">.</span><span class="n">rev</span> <span class="o">(</span><span class="nn">Array</span><span class="p">.</span><span class="n">to_list</span> <span class="n">debut</span><span class="o">)),</span> <span class="o">(</span><span class="nn">Array</span><span class="p">.</span><span class="n">to_list</span> <span class="n">fin</span><span class="o">)</span>
<span class="o">;;</span>
</pre></div>

    </div>
</div>
</div>

<div class="output_wrapper">
<div class="output">


<div class="output_area">

    <div class="prompt output_prompt">Out[13]:</div>




<div class="output_text output_subarea output_execute_result">
<pre>val depile_2 : int -&gt; &#39;a list -&gt; &#39;a list * &#39;a list = &lt;fun&gt;
</pre>
</div>

</div>

</div>
</div>

</div>
<div class="cell border-box-sizing code_cell rendered">
<div class="input">
<div class="prompt input_prompt">In&nbsp;[14]:</div>
<div class="inner_cell">
    <div class="input_area">
<div class=" highlight hl-OCaml"><pre><span></span><span class="n">depile_2</span> <span class="mi">0</span> <span class="o">[</span><span class="mi">0</span><span class="o">;</span> <span class="mi">1</span><span class="o">;</span> <span class="mi">2</span><span class="o">;</span> <span class="mi">3</span><span class="o">;</span> <span class="mi">4</span><span class="o">;</span> <span class="mi">5</span><span class="o">;</span> <span class="mi">6</span><span class="o">;</span> <span class="mi">7</span><span class="o">];;</span>
<span class="n">depile_2</span> <span class="mi">1</span> <span class="o">[</span><span class="mi">0</span><span class="o">;</span> <span class="mi">1</span><span class="o">;</span> <span class="mi">2</span><span class="o">;</span> <span class="mi">3</span><span class="o">;</span> <span class="mi">4</span><span class="o">;</span> <span class="mi">5</span><span class="o">;</span> <span class="mi">6</span><span class="o">;</span> <span class="mi">7</span><span class="o">];;</span>
<span class="n">depile_2</span> <span class="mi">3</span> <span class="o">[</span><span class="mi">0</span><span class="o">;</span> <span class="mi">1</span><span class="o">;</span> <span class="mi">2</span><span class="o">;</span> <span class="mi">3</span><span class="o">;</span> <span class="mi">4</span><span class="o">;</span> <span class="mi">5</span><span class="o">;</span> <span class="mi">6</span><span class="o">;</span> <span class="mi">7</span><span class="o">];;</span>
<span class="n">depile_2</span> <span class="mi">8</span> <span class="o">[</span><span class="mi">0</span><span class="o">;</span> <span class="mi">1</span><span class="o">;</span> <span class="mi">2</span><span class="o">;</span> <span class="mi">3</span><span class="o">;</span> <span class="mi">4</span><span class="o">;</span> <span class="mi">5</span><span class="o">;</span> <span class="mi">6</span><span class="o">;</span> <span class="mi">7</span><span class="o">];;</span>
</pre></div>

    </div>
</div>
</div>

<div class="output_wrapper">
<div class="output">


<div class="output_area">

    <div class="prompt output_prompt">Out[14]:</div>




<div class="output_text output_subarea output_execute_result">
<pre>- : int list * int list = ([], [0; 1; 2; 3; 4; 5; 6; 7])
</pre>
</div>

</div>

<div class="output_area">

    <div class="prompt output_prompt">Out[14]:</div>




<div class="output_text output_subarea output_execute_result">
<pre>- : int list * int list = ([0], [1; 2; 3; 4; 5; 6; 7])
</pre>
</div>

</div>

<div class="output_area">

    <div class="prompt output_prompt">Out[14]:</div>




<div class="output_text output_subarea output_execute_result">
<pre>- : int list * int list = ([2; 1; 0], [3; 4; 5; 6; 7])
</pre>
</div>

</div>

<div class="output_area">

    <div class="prompt output_prompt">Out[14]:</div>




<div class="output_text output_subarea output_execute_result">
<pre>- : int list * int list = ([7; 6; 5; 4; 3; 2; 1; 0], [])
</pre>
</div>

</div>

</div>
</div>

</div>
<div class="cell border-box-sizing text_cell rendered"><div class="prompt input_prompt">
</div><div class="inner_cell">
<div class="text_cell_render border-box-sizing rendered_html">
<h3 id="Interpr&#233;tation-des-symboles">Interpr&#233;tation des symboles<a class="anchor-link" href="#Interpr&#233;tation-des-symboles">&#182;</a></h3><p>Cette fonction prend en entrée une liste <code>interpretation</code> de couples (symbole, fonction interprétant ce symbole), un symbole <code>t</code> et une liste d'arguments <code>arg</code> et renvoie <code>f_t(arg)</code>, où <code>f_t</code> est la fonction associée au sympole <code>t</code> via <code>interpretation</code>.</p>
<p>Avec les notations mathématiques du texte, le symbole <code>t</code> est $\omega$ et <code>f_t</code> est $\overline{\omega}$ ("omegabarre" dans l'algorithme).</p>

</div>
</div>
</div>
<div class="cell border-box-sizing code_cell rendered">
<div class="input">
<div class="prompt input_prompt">In&nbsp;[15]:</div>
<div class="inner_cell">
    <div class="input_area">
<div class=" highlight hl-OCaml"><pre><span></span><span class="k">let</span> <span class="n">interprete</span> <span class="o">(</span><span class="n">interpretation</span> <span class="o">:</span> <span class="o">(</span><span class="k">&#39;</span><span class="n">a</span> <span class="o">*</span> <span class="o">(</span><span class="k">&#39;</span><span class="n">d</span> <span class="kt">list</span> <span class="o">-&gt;</span> <span class="k">&#39;</span><span class="n">d</span><span class="o">))</span> <span class="kt">list</span><span class="o">)</span> <span class="o">(</span><span class="n">t</span> <span class="o">:</span> <span class="k">&#39;</span><span class="n">a</span><span class="o">)</span> <span class="o">(</span><span class="n">arg</span> <span class="o">:</span> <span class="k">&#39;</span><span class="n">d</span> <span class="kt">list</span><span class="o">)</span> <span class="o">:</span> <span class="k">&#39;</span><span class="n">d</span> <span class="o">=</span>
    <span class="o">(</span><span class="nn">List</span><span class="p">.</span><span class="n">assoc</span> <span class="n">t</span> <span class="n">interpretation</span><span class="o">)</span> <span class="n">arg</span><span class="o">;;</span>
</pre></div>

    </div>
</div>
</div>

<div class="output_wrapper">
<div class="output">


<div class="output_area">

    <div class="prompt output_prompt">Out[15]:</div>




<div class="output_text output_subarea output_execute_result">
<pre>val interprete : (&#39;a * (&#39;d list -&gt; &#39;d)) list -&gt; &#39;a -&gt; &#39;d list -&gt; &#39;d = &lt;fun&gt;
</pre>
</div>

</div>

</div>
</div>

</div>
<div class="cell border-box-sizing text_cell rendered"><div class="prompt input_prompt">
</div><div class="inner_cell">
<div class="text_cell_render border-box-sizing rendered_html">
<p>L'interprétation choisie consiste à évaluer la valeur de vérité d'une formule du calcul propositionnel, avec l'interprétation classique.</p>
<p>Notez que pour faciliter le typage, ces fonctions recoivent la pile, i.e., une <em>liste</em> d'arguments (de taille arbitraire) et s'occupent elles-mêmes de récupérer le sommet de pile et les valeurs suivantes.</p>
<blockquote><p>Les fonctions échouent si la pile donnée n'est pas assez profonde, bien évidemment.</p>
</blockquote>

</div>
</div>
</div>
<div class="cell border-box-sizing code_cell rendered">
<div class="input">
<div class="prompt input_prompt">In&nbsp;[16]:</div>
<div class="inner_cell">
    <div class="input_area">
<div class=" highlight hl-OCaml"><pre><span></span><span class="k">let</span> <span class="n">interp_V</span>   <span class="o">_</span>  <span class="o">=</span> <span class="bp">true</span><span class="o">;;</span>
<span class="k">let</span> <span class="n">interp_F</span>   <span class="o">_</span>  <span class="o">=</span> <span class="bp">false</span><span class="o">;;</span>
<span class="k">let</span> <span class="n">interp_Non</span> <span class="n">l</span>  <span class="o">=</span> <span class="n">not</span> <span class="o">(</span><span class="nn">List</span><span class="p">.</span><span class="n">hd</span> <span class="n">l</span><span class="o">);;</span>
<span class="k">let</span> <span class="n">interp_Ou</span>  <span class="n">l</span>  <span class="o">=</span> <span class="o">(</span><span class="nn">List</span><span class="p">.</span><span class="n">hd</span> <span class="n">l</span><span class="o">)</span> <span class="o">||</span> <span class="o">(</span><span class="nn">List</span><span class="p">.</span><span class="n">hd</span> <span class="o">(</span><span class="nn">List</span><span class="p">.</span><span class="n">tl</span> <span class="n">l</span><span class="o">));;</span>
<span class="k">let</span> <span class="n">interp_Et</span>  <span class="n">l</span>  <span class="o">=</span> <span class="o">(</span><span class="nn">List</span><span class="p">.</span><span class="n">hd</span> <span class="n">l</span><span class="o">)</span> <span class="o">&amp;&amp;</span> <span class="o">(</span><span class="nn">List</span><span class="p">.</span><span class="n">hd</span> <span class="o">(</span><span class="nn">List</span><span class="p">.</span><span class="n">tl</span> <span class="n">l</span><span class="o">));;</span>
<span class="k">let</span> <span class="n">interp_ITE</span> <span class="n">l</span>  <span class="o">=</span> <span class="k">if</span> <span class="o">(</span><span class="nn">List</span><span class="p">.</span><span class="n">hd</span> <span class="n">l</span><span class="o">)</span> <span class="k">then</span> <span class="o">(</span><span class="nn">List</span><span class="p">.</span><span class="n">hd</span> <span class="o">(</span><span class="nn">List</span><span class="p">.</span><span class="n">tl</span> <span class="n">l</span><span class="o">))</span> <span class="k">else</span> <span class="o">(</span><span class="nn">List</span><span class="p">.</span><span class="n">hd</span> <span class="o">(</span><span class="nn">List</span><span class="p">.</span><span class="n">tl</span> <span class="o">(</span><span class="nn">List</span><span class="p">.</span><span class="n">tl</span> <span class="n">l</span><span class="o">)));;</span>
</pre></div>

    </div>
</div>
</div>

<div class="output_wrapper">
<div class="output">


<div class="output_area">

    <div class="prompt output_prompt">Out[16]:</div>




<div class="output_text output_subarea output_execute_result">
<pre>val interp_V : &#39;a -&gt; bool = &lt;fun&gt;
</pre>
</div>

</div>

<div class="output_area">

    <div class="prompt output_prompt">Out[16]:</div>




<div class="output_text output_subarea output_execute_result">
<pre>val interp_F : &#39;a -&gt; bool = &lt;fun&gt;
</pre>
</div>

</div>

<div class="output_area">

    <div class="prompt output_prompt">Out[16]:</div>




<div class="output_text output_subarea output_execute_result">
<pre>val interp_Non : bool list -&gt; bool = &lt;fun&gt;
</pre>
</div>

</div>

<div class="output_area">

    <div class="prompt output_prompt">Out[16]:</div>




<div class="output_text output_subarea output_execute_result">
<pre>val interp_Ou : bool list -&gt; bool = &lt;fun&gt;
</pre>
</div>

</div>

<div class="output_area">

    <div class="prompt output_prompt">Out[16]:</div>




<div class="output_text output_subarea output_execute_result">
<pre>val interp_Et : bool list -&gt; bool = &lt;fun&gt;
</pre>
</div>

</div>

<div class="output_area">

    <div class="prompt output_prompt">Out[16]:</div>




<div class="output_text output_subarea output_execute_result">
<pre>val interp_ITE : bool list -&gt; bool = &lt;fun&gt;
</pre>
</div>

</div>

</div>
</div>

</div>
<div class="cell border-box-sizing text_cell rendered"><div class="prompt input_prompt">
</div><div class="inner_cell">
<div class="text_cell_render border-box-sizing rendered_html">
<p>Ensuite, on crée cette liste d'association, qui permet d'associer à un symbole $\omega$ sa fonction $\overline{\omega}$ :</p>

</div>
</div>
</div>
<div class="cell border-box-sizing code_cell rendered">
<div class="input">
<div class="prompt input_prompt">In&nbsp;[17]:</div>
<div class="inner_cell">
    <div class="input_area">
<div class=" highlight hl-OCaml"><pre><span></span><span class="k">let</span> <span class="n">interp_calcul_prop</span> <span class="o">=</span> <span class="o">[</span>
    <span class="o">(</span><span class="nc">V</span><span class="o">,</span> <span class="n">interp_V</span><span class="o">);</span> <span class="o">(</span><span class="nc">F</span><span class="o">,</span> <span class="n">interp_F</span><span class="o">);</span>      <span class="c">(* Arité 0 *)</span>
    <span class="o">(</span><span class="nc">Non</span><span class="o">,</span> <span class="n">interp_Non</span><span class="o">);</span>                 <span class="c">(* Arité 1 *)</span>
    <span class="o">(</span><span class="nc">Ou</span><span class="o">,</span> <span class="n">interp_Ou</span><span class="o">);</span> <span class="o">(</span><span class="nc">Et</span><span class="o">,</span> <span class="n">interp_Et</span><span class="o">);</span>  <span class="c">(* Arité 2 *)</span>
    <span class="o">(</span><span class="nc">ITE</span><span class="o">,</span> <span class="n">interp_ITE</span><span class="o">)</span>                  <span class="c">(* Arité 3 *)</span>
<span class="o">];;</span>
</pre></div>

    </div>
</div>
</div>

<div class="output_wrapper">
<div class="output">


<div class="output_area">

    <div class="prompt output_prompt">Out[17]:</div>




<div class="output_text output_subarea output_execute_result">
<pre>val interp_calcul_prop : (symbole_calcul_prop * (bool list -&gt; bool)) list =
  [(V, &lt;fun&gt;); (F, &lt;fun&gt;); (Non, &lt;fun&gt;); (Ou, &lt;fun&gt;); (Et, &lt;fun&gt;);
   (ITE, &lt;fun&gt;)]
</pre>
</div>

</div>

</div>
</div>

</div>
<div class="cell border-box-sizing text_cell rendered"><div class="prompt input_prompt">
</div><div class="inner_cell">
<div class="text_cell_render border-box-sizing rendered_html">
<h3 id="&#201;valuation-d'un-terme">&#201;valuation d'un terme<a class="anchor-link" href="#&#201;valuation-d'un-terme">&#182;</a></h3><p>Cette fonction prend une liste <code>l</code>, de symboles que l'on suppose correspondre à l'écriture postfixe <em>correcte</em> d'un terme, une fonction <code>arite : symbole -&gt; entier</code> et une liste <code>interpretation</code> d'interprétation des symboles.</p>
<p>Elle renvoie le résultat de l'évaluation du terme <code>l</code> pour l'interpretation <code>interpretation</code>.</p>
<p>L'algorithme est annoncé correct par le théorème 2, non prouvé dans le texte (ça peut être une idée de développement à faire au tableau).</p>

</div>
</div>
</div>
<div class="cell border-box-sizing code_cell rendered">
<div class="input">
<div class="prompt input_prompt">In&nbsp;[18]:</div>
<div class="inner_cell">
    <div class="input_area">
<div class=" highlight hl-OCaml"><pre><span></span><span class="k">let</span> <span class="n">evalue</span> <span class="o">(</span><span class="n">l</span> <span class="o">:</span> <span class="k">&#39;</span><span class="n">a</span> <span class="kt">list</span><span class="o">)</span> <span class="o">(</span><span class="n">arite</span> <span class="o">:</span> <span class="k">&#39;</span><span class="n">a</span> <span class="o">-&gt;</span> <span class="kt">int</span><span class="o">)</span> <span class="o">(</span><span class="n">interpretation</span> <span class="o">:</span> <span class="o">(</span><span class="k">&#39;</span><span class="n">a</span> <span class="o">*</span> <span class="o">(</span><span class="k">&#39;</span><span class="n">d</span> <span class="kt">list</span> <span class="o">-&gt;</span> <span class="k">&#39;</span><span class="n">d</span><span class="o">))</span> <span class="kt">list</span><span class="o">)</span> <span class="o">:</span> <span class="k">&#39;</span><span class="n">d</span> <span class="o">=</span>
    <span class="k">let</span> <span class="k">rec</span> <span class="n">aux</span> <span class="o">(</span><span class="n">l</span> <span class="o">:</span> <span class="k">&#39;</span><span class="n">a</span> <span class="kt">list</span><span class="o">)</span> <span class="o">(</span><span class="n">p</span> <span class="o">:</span> <span class="k">&#39;</span><span class="n">d</span> <span class="kt">list</span><span class="o">)</span> <span class="o">:</span> <span class="k">&#39;</span><span class="n">d</span>  <span class="o">=</span>
        <span class="k">match</span> <span class="n">l</span> <span class="k">with</span>
        <span class="o">|</span> <span class="bp">[]</span> <span class="o">-&gt;</span> <span class="nn">List</span><span class="p">.</span><span class="n">hd</span> <span class="n">p</span>
        <span class="o">|</span> <span class="n">t</span> <span class="o">::</span> <span class="n">q</span>  <span class="o">-&gt;</span>
            <span class="k">let</span> <span class="n">k</span> <span class="o">=</span> <span class="n">arite</span> <span class="n">t</span> <span class="k">in</span>
            <span class="k">let</span> <span class="o">(</span><span class="n">arguments</span><span class="o">,</span> <span class="n">p_temp</span><span class="o">)</span> <span class="o">=</span> <span class="n">depile</span> <span class="n">k</span> <span class="n">p</span> <span class="k">in</span>
            <span class="k">let</span> <span class="n">valeur</span> <span class="o">=</span> <span class="n">interprete</span> <span class="n">interpretation</span> <span class="n">t</span> <span class="n">arguments</span> <span class="k">in</span>
            <span class="k">let</span> <span class="n">p_fin</span> <span class="o">=</span> <span class="n">valeur</span> <span class="o">::</span> <span class="n">p_temp</span>
        <span class="k">in</span> <span class="o">(</span><span class="n">aux</span> <span class="n">q</span> <span class="n">p_fin</span><span class="o">)</span>
    <span class="k">in</span>
    <span class="n">aux</span> <span class="n">l</span> <span class="bp">[]</span><span class="o">;;</span>
</pre></div>

    </div>
</div>
</div>

<div class="output_wrapper">
<div class="output">


<div class="output_area">

    <div class="prompt output_prompt">Out[18]:</div>




<div class="output_text output_subarea output_execute_result">
<pre>val evalue : &#39;a list -&gt; (&#39;a -&gt; int) -&gt; (&#39;a * (&#39;d list -&gt; &#39;d)) list -&gt; &#39;d =
  &lt;fun&gt;
</pre>
</div>

</div>

</div>
</div>

</div>
<div class="cell border-box-sizing text_cell rendered"><div class="prompt input_prompt">
</div><div class="inner_cell">
<div class="text_cell_render border-box-sizing rendered_html">
<p>Si la lecture de l'arité d'un symbole <code>t</code>, <code>k = arite t</code>, est en $\mathcal{O}(1)$, alors l'algorithme <code>evalue</code> a une complexité en $\mathcal{O}(n)$ où $n$ est le nombre de symbole du terme donné en entrée.</p>
<p>En d'autres termes, l'évaluation d'un terme postfixe par la méthode naïve, utilisée pour la <a href="https://en.wikipedia.org/wiki/Polish_notation">notation polonaise inversée</a>, est <em>linéaire</em> dans la taille du terme. Chouette !</p>

</div>
</div>
</div>
<div class="cell border-box-sizing text_cell rendered"><div class="prompt input_prompt">
</div><div class="inner_cell">
<div class="text_cell_render border-box-sizing rendered_html">
<h3 id="Un-exemple-d'&#233;valuation-d'un-terme-du-calcul-propositionnel">Un exemple d'&#233;valuation d'un terme du calcul propositionnel<a class="anchor-link" href="#Un-exemple-d'&#233;valuation-d'un-terme-du-calcul-propositionnel">&#182;</a></h3>
</div>
</div>
</div>
<div class="cell border-box-sizing text_cell rendered"><div class="prompt input_prompt">
</div><div class="inner_cell">
<div class="text_cell_render border-box-sizing rendered_html">
<p>On considère le terme "$\mathrm{Ou} \; \mathrm{Non} \; V \; \mathrm{Ou} \; V \; F$" $= \vee \neg V \vee V F \equiv (\neg V) \vee (V \vee F)$ suivant :</p>
<p><img src="images/exemple_terme.png" alt="images/exemple_terme.png"></p>

</div>
</div>
</div>
<div class="cell border-box-sizing code_cell rendered">
<div class="input">
<div class="prompt input_prompt">In&nbsp;[19]:</div>
<div class="inner_cell">
    <div class="input_area">
<div class=" highlight hl-OCaml"><pre><span></span><span class="k">let</span> <span class="n">ex1</span> <span class="o">=</span> <span class="nn">List</span><span class="p">.</span><span class="n">rev</span> <span class="o">[</span> <span class="nc">Ou</span><span class="o">;</span> <span class="nc">Non</span><span class="o">;</span> <span class="nc">V</span><span class="o">;</span> <span class="nc">Ou</span><span class="o">;</span> <span class="nc">V</span><span class="o">;</span> <span class="nc">F</span> <span class="o">];;</span> <span class="c">(* écriture préfixe *)</span>
<span class="k">let</span> <span class="o">_</span> <span class="o">=</span> <span class="n">evalue</span> <span class="n">ex1</span> <span class="n">arite_calcul_prop</span> <span class="n">interp_calcul_prop</span><span class="o">;;</span>
</pre></div>

    </div>
</div>
</div>

<div class="output_wrapper">
<div class="output">


<div class="output_area">

    <div class="prompt output_prompt">Out[19]:</div>




<div class="output_text output_subarea output_execute_result">
<pre>val ex1 : symbole_calcul_prop list = [F; V; Ou; V; Non; Ou]
</pre>
</div>

</div>

<div class="output_area">

    <div class="prompt output_prompt">Out[19]:</div>




<div class="output_text output_subarea output_execute_result">
<pre>- : bool = true
</pre>
</div>

</div>

</div>
</div>

</div>
<div class="cell border-box-sizing text_cell rendered"><div class="prompt input_prompt">
</div><div class="inner_cell">
<div class="text_cell_render border-box-sizing rendered_html">
<p>On vient de passer de l'écriture préfixe à postfixe, simplement en inversant l'ordre des termes (<code>List.rev</code>).</p>
<blockquote><p><span style="color:red;"><bold>Attention, cela ne fonctionne que si tous les symboles sont symmétriques !</bold></span></p>
</blockquote>

</div>
</div>
</div>
<div class="cell border-box-sizing text_cell rendered"><div class="prompt input_prompt">
</div><div class="inner_cell">
<div class="text_cell_render border-box-sizing rendered_html">
<p>Avec un autre exemple, directement écrit en postfixe, correspondant au terme suivant, qui s'interprête à "faux" (<code>F = false</code>) :</p>
$$ (F \vee \neg V) \vee (\neg (V \vee F)) \;\; \;\; \underset{\text{Interpretation}}{\longrightarrow} \;\; \;\; F $$
</div>
</div>
</div>
<div class="cell border-box-sizing code_cell rendered">
<div class="input">
<div class="prompt input_prompt">In&nbsp;[20]:</div>
<div class="inner_cell">
    <div class="input_area">
<div class=" highlight hl-OCaml"><pre><span></span><span class="k">let</span> <span class="n">ex2</span> <span class="o">=</span> <span class="o">[</span><span class="nc">F</span><span class="o">;</span> <span class="nc">V</span><span class="o">;</span> <span class="nc">Ou</span><span class="o">;</span> <span class="nc">Non</span><span class="o">;</span> <span class="nc">V</span><span class="o">;</span> <span class="nc">Non</span><span class="o">;</span> <span class="nc">F</span><span class="o">;</span> <span class="nc">Ou</span><span class="o">;</span> <span class="nc">Ou</span><span class="o">];;</span>
<span class="k">let</span> <span class="o">_</span> <span class="o">=</span> <span class="n">evalue</span> <span class="n">ex2</span> <span class="n">arite_calcul_prop</span> <span class="n">interp_calcul_prop</span><span class="o">;;</span>
</pre></div>

    </div>
</div>
</div>

<div class="output_wrapper">
<div class="output">


<div class="output_area">

    <div class="prompt output_prompt">Out[20]:</div>




<div class="output_text output_subarea output_execute_result">
<pre>val ex2 : symbole_calcul_prop list = [F; V; Ou; Non; V; Non; F; Ou; Ou]
</pre>
</div>

</div>

<div class="output_area">

    <div class="prompt output_prompt">Out[20]:</div>




<div class="output_text output_subarea output_execute_result">
<pre>- : bool = false
</pre>
</div>

</div>

</div>
</div>

</div>
<div class="cell border-box-sizing text_cell rendered"><div class="prompt input_prompt">
</div><div class="inner_cell">
<div class="text_cell_render border-box-sizing rendered_html">
<h3 id="Avec-une-autre-interpr&#233;tation">Avec une autre interpr&#233;tation<a class="anchor-link" href="#Avec-une-autre-interpr&#233;tation">&#182;</a></h3><p>On considère un second exemple : l'interprétation choisie consiste à construire <strong>l'arbre syntaxique</strong> d'une formule du calcul propositionnel.</p>

</div>
</div>
</div>
<div class="cell border-box-sizing code_cell rendered">
<div class="input">
<div class="prompt input_prompt">In&nbsp;[21]:</div>
<div class="inner_cell">
    <div class="input_area">
<div class=" highlight hl-OCaml"><pre><span></span><span class="k">type</span> <span class="n">arbre</span> <span class="o">=</span>
    <span class="o">|</span> <span class="nc">FeuilleV</span> <span class="o">|</span> <span class="nc">FeuilleF</span>                          <span class="c">(* Arité 0 *)</span>
    <span class="o">|</span> <span class="nc">NNon</span> <span class="k">of</span> <span class="n">arbre</span>                                <span class="c">(* Arité 1 *)</span>
    <span class="o">|</span> <span class="nc">NEt</span> <span class="k">of</span> <span class="n">arbre</span> <span class="o">*</span> <span class="n">arbre</span> <span class="o">|</span> <span class="nc">NOu</span> <span class="k">of</span> <span class="n">arbre</span> <span class="o">*</span> <span class="n">arbre</span>  <span class="c">(* Arité 2 *)</span>
    <span class="o">|</span> <span class="nc">NITE</span> <span class="k">of</span> <span class="n">arbre</span> <span class="o">*</span> <span class="n">arbre</span> <span class="o">*</span> <span class="n">arbre</span>                <span class="c">(* Arité 3 *)</span>
<span class="o">;;</span>
</pre></div>

    </div>
</div>
</div>

<div class="output_wrapper">
<div class="output">


<div class="output_area">

    <div class="prompt output_prompt">Out[21]:</div>




<div class="output_text output_subarea output_execute_result">
<pre>type arbre =
    FeuilleV
  | FeuilleF
  | NNon of arbre
  | NEt of arbre * arbre
  | NOu of arbre * arbre
  | NITE of arbre * arbre * arbre
</pre>
</div>

</div>

</div>
</div>

</div>
<div class="cell border-box-sizing code_cell rendered">
<div class="input">
<div class="prompt input_prompt">In&nbsp;[22]:</div>
<div class="inner_cell">
    <div class="input_area">
<div class=" highlight hl-OCaml"><pre><span></span><span class="k">let</span> <span class="n">interp_V_a</span> <span class="o">_</span>    <span class="o">=</span> <span class="nc">FeuilleV</span><span class="o">;;</span>
<span class="k">let</span> <span class="n">interp_F_a</span> <span class="o">_</span>    <span class="o">=</span> <span class="nc">FeuilleF</span><span class="o">;;</span>
<span class="k">let</span> <span class="n">interp_Non_a</span> <span class="n">l</span>  <span class="o">=</span> <span class="nc">NNon</span> <span class="o">(</span><span class="nn">List</span><span class="p">.</span><span class="n">hd</span> <span class="n">l</span><span class="o">);;</span>
<span class="k">let</span> <span class="n">interp_Ou_a</span> <span class="n">l</span>   <span class="o">=</span> <span class="nc">NOu</span> <span class="o">(</span> <span class="o">(</span><span class="nn">List</span><span class="p">.</span><span class="n">hd</span> <span class="n">l</span><span class="o">),</span> <span class="o">(</span><span class="nn">List</span><span class="p">.</span><span class="n">hd</span> <span class="o">(</span><span class="nn">List</span><span class="p">.</span><span class="n">tl</span> <span class="n">l</span><span class="o">)</span> <span class="o">)</span> <span class="o">);;</span>
<span class="k">let</span> <span class="n">interp_Et_a</span> <span class="n">l</span>   <span class="o">=</span> <span class="nc">NEt</span> <span class="o">(</span> <span class="o">(</span><span class="nn">List</span><span class="p">.</span><span class="n">hd</span> <span class="n">l</span><span class="o">),</span> <span class="o">(</span><span class="nn">List</span><span class="p">.</span><span class="n">hd</span> <span class="o">(</span><span class="nn">List</span><span class="p">.</span><span class="n">tl</span> <span class="n">l</span><span class="o">)</span> <span class="o">)</span> <span class="o">);;</span>
<span class="k">let</span> <span class="n">interp_ITE_a</span> <span class="n">l</span>  <span class="o">=</span> <span class="nc">NITE</span> <span class="o">(</span> <span class="o">(</span><span class="nn">List</span><span class="p">.</span><span class="n">hd</span> <span class="n">l</span><span class="o">),</span> <span class="o">(</span><span class="nn">List</span><span class="p">.</span><span class="n">hd</span> <span class="o">(</span><span class="nn">List</span><span class="p">.</span><span class="n">tl</span> <span class="n">l</span><span class="o">)</span> <span class="o">),</span> <span class="o">(</span><span class="nn">List</span><span class="p">.</span><span class="n">hd</span> <span class="o">(</span><span class="nn">List</span><span class="p">.</span><span class="n">tl</span> <span class="o">(</span><span class="nn">List</span><span class="p">.</span><span class="n">tl</span> <span class="n">l</span><span class="o">)</span> <span class="o">)</span> <span class="o">)</span> <span class="o">);;</span>
</pre></div>

    </div>
</div>
</div>

<div class="output_wrapper">
<div class="output">


<div class="output_area">

    <div class="prompt output_prompt">Out[22]:</div>




<div class="output_text output_subarea output_execute_result">
<pre>val interp_V_a : &#39;a -&gt; arbre = &lt;fun&gt;
</pre>
</div>

</div>

<div class="output_area">

    <div class="prompt output_prompt">Out[22]:</div>




<div class="output_text output_subarea output_execute_result">
<pre>val interp_F_a : &#39;a -&gt; arbre = &lt;fun&gt;
</pre>
</div>

</div>

<div class="output_area">

    <div class="prompt output_prompt">Out[22]:</div>




<div class="output_text output_subarea output_execute_result">
<pre>val interp_Non_a : arbre list -&gt; arbre = &lt;fun&gt;
</pre>
</div>

</div>

<div class="output_area">

    <div class="prompt output_prompt">Out[22]:</div>




<div class="output_text output_subarea output_execute_result">
<pre>val interp_Ou_a : arbre list -&gt; arbre = &lt;fun&gt;
</pre>
</div>

</div>

<div class="output_area">

    <div class="prompt output_prompt">Out[22]:</div>




<div class="output_text output_subarea output_execute_result">
<pre>val interp_Et_a : arbre list -&gt; arbre = &lt;fun&gt;
</pre>
</div>

</div>

<div class="output_area">

    <div class="prompt output_prompt">Out[22]:</div>




<div class="output_text output_subarea output_execute_result">
<pre>val interp_ITE_a : arbre list -&gt; arbre = &lt;fun&gt;
</pre>
</div>

</div>

</div>
</div>

</div>
<div class="cell border-box-sizing code_cell rendered">
<div class="input">
<div class="prompt input_prompt">In&nbsp;[23]:</div>
<div class="inner_cell">
    <div class="input_area">
<div class=" highlight hl-OCaml"><pre><span></span><span class="k">let</span> <span class="n">interp_calcul_prop_a</span> <span class="o">=</span> <span class="o">[</span>
    <span class="o">(</span><span class="nc">V</span><span class="o">,</span> <span class="n">interp_V_a</span><span class="o">);</span> <span class="o">(</span><span class="nc">F</span><span class="o">,</span> <span class="n">interp_F_a</span><span class="o">);</span>      <span class="c">(* Arité 0 *)</span>
    <span class="o">(</span><span class="nc">Non</span><span class="o">,</span> <span class="n">interp_Non_a</span><span class="o">);</span>                   <span class="c">(* Arité 1 *)</span>
    <span class="o">(</span><span class="nc">Ou</span><span class="o">,</span> <span class="n">interp_Ou_a</span><span class="o">);</span> <span class="o">(</span><span class="nc">Et</span><span class="o">,</span> <span class="n">interp_Et_a</span><span class="o">);</span>  <span class="c">(* Arité 2 *)</span>
    <span class="o">(</span><span class="nc">ITE</span><span class="o">,</span> <span class="n">interp_ITE_a</span><span class="o">);</span>                   <span class="c">(* Arité 3 *)</span>
<span class="o">];;</span>
</pre></div>

    </div>
</div>
</div>

<div class="output_wrapper">
<div class="output">


<div class="output_area">

    <div class="prompt output_prompt">Out[23]:</div>




<div class="output_text output_subarea output_execute_result">
<pre>val interp_calcul_prop_a : (symbole_calcul_prop * (arbre list -&gt; arbre)) list =
  [(V, &lt;fun&gt;); (F, &lt;fun&gt;); (Non, &lt;fun&gt;); (Ou, &lt;fun&gt;); (Et, &lt;fun&gt;);
   (ITE, &lt;fun&gt;)]
</pre>
</div>

</div>

</div>
</div>

</div>
<div class="cell border-box-sizing code_cell rendered">
<div class="input">
<div class="prompt input_prompt">In&nbsp;[24]:</div>
<div class="inner_cell">
    <div class="input_area">
<div class=" highlight hl-OCaml"><pre><span></span><span class="k">let</span> <span class="o">_</span> <span class="o">=</span> <span class="n">ex2</span><span class="o">;;</span>
<span class="k">let</span> <span class="o">_</span> <span class="o">=</span> <span class="n">evalue</span> <span class="n">ex2</span> <span class="n">arite_calcul_prop</span> <span class="n">interp_calcul_prop_a</span><span class="o">;;</span>
</pre></div>

    </div>
</div>
</div>

<div class="output_wrapper">
<div class="output">


<div class="output_area">

    <div class="prompt output_prompt">Out[24]:</div>




<div class="output_text output_subarea output_execute_result">
<pre>- : symbole_calcul_prop list = [F; V; Ou; Non; V; Non; F; Ou; Ou]
</pre>
</div>

</div>

<div class="output_area">

    <div class="prompt output_prompt">Out[24]:</div>




<div class="output_text output_subarea output_execute_result">
<pre>- : arbre =
NOu (NNon (NOu (FeuilleF, FeuilleV)), NOu (NNon FeuilleV, FeuilleF))
</pre>
</div>

</div>

</div>
</div>

</div>
<div class="cell border-box-sizing text_cell rendered"><div class="prompt input_prompt">
</div><div class="inner_cell">
<div class="text_cell_render border-box-sizing rendered_html">
<blockquote><p>Un bonus rapide va être de jouer avec l'API du notebook Jupyter, <a href="https://github.com/akabe/ocaml-jupyter/">accessible depuis OCaml via le kernel OCaml-Jupyter</a>, pour afficher joliment le terme en $\LaTeX{}$.</p>
</blockquote>

</div>
</div>
</div>
<div class="cell border-box-sizing code_cell rendered">
<div class="input">
<div class="prompt input_prompt">In&nbsp;[25]:</div>
<div class="inner_cell">
    <div class="input_area">
<div class=" highlight hl-OCaml"><pre><span></span><span class="o">#</span><span class="n">thread</span><span class="o">;;</span>
</pre></div>

    </div>
</div>
</div>

<div class="output_wrapper">
<div class="output">


<div class="output_area">

    <div class="prompt"></div>


<div class="output_subarea output_stream output_stderr output_text">
<pre>/home/lilian/.opam/4.04.2/lib/ocaml/threads: added to search path
/home/lilian/.opam/4.04.2/lib/ocaml/unix.cma: loaded
/home/lilian/.opam/4.04.2/lib/ocaml/threads/threads.cma: loaded
</pre>
</div>
</div>

</div>
</div>

</div>
<div class="cell border-box-sizing code_cell rendered">
<div class="input">
<div class="prompt input_prompt">In&nbsp;[26]:</div>
<div class="inner_cell">
    <div class="input_area">
<div class=" highlight hl-OCaml"><pre><span></span><span class="o">#</span><span class="n">require</span> <span class="s2">&quot;jupyter&quot;</span><span class="o">;;</span>
<span class="o">#</span><span class="n">require</span> <span class="s2">&quot;jupyter.notebook&quot;</span><span class="o">;;</span>
</pre></div>

    </div>
</div>
</div>

<div class="output_wrapper">
<div class="output">


<div class="output_area">

    <div class="prompt"></div>


<div class="output_subarea output_stream output_stderr output_text">
<pre>/home/lilian/.opam/4.04.2/lib/easy-format: added to search path
/home/lilian/.opam/4.04.2/lib/easy-format/easy_format.cma: loaded
/home/lilian/.opam/4.04.2/lib/biniou: added to search path
/home/lilian/.opam/4.04.2/lib/biniou/biniou.cma: loaded
/home/lilian/.opam/4.04.2/lib/bytes: added to search path
/home/lilian/.opam/4.04.2/lib/result: added to search path
/home/lilian/.opam/4.04.2/lib/result/result.cma: loaded
/home/lilian/.opam/4.04.2/lib/ppx_deriving: added to search path
/home/lilian/.opam/4.04.2/lib/ppx_deriving/ppx_deriving_runtime.cma: loaded
/home/lilian/.opam/4.04.2/lib/yojson: added to search path
/home/lilian/.opam/4.04.2/lib/yojson/yojson.cma: loaded
/home/lilian/.opam/4.04.2/lib/ppx_deriving_yojson: added to search path
/home/lilian/.opam/4.04.2/lib/ppx_deriving_yojson/ppx_deriving_yojson_runtime.cma: loaded
/home/lilian/.opam/4.04.2/lib/uuidm: added to search path
/home/lilian/.opam/4.04.2/lib/uuidm/uuidm.cma: loaded
/home/lilian/.opam/4.04.2/lib/jupyter: added to search path
/home/lilian/.opam/4.04.2/lib/jupyter/jupyter.cma: loaded
/home/lilian/.opam/4.04.2/lib/base64: added to search path
/home/lilian/.opam/4.04.2/lib/base64/base64.cma: loaded
/home/lilian/.opam/4.04.2/lib/ocaml/compiler-libs: added to search path
/home/lilian/.opam/4.04.2/lib/ocaml/compiler-libs/ocamlcommon.cma: loaded
/home/lilian/.opam/4.04.2/lib/jupyter/notebook: added to search path
/home/lilian/.opam/4.04.2/lib/jupyter/notebook/jupyter_notebook.cma: loaded
</pre>
</div>
</div>

</div>
</div>

</div>
<div class="cell border-box-sizing code_cell rendered">
<div class="input">
<div class="prompt input_prompt">In&nbsp;[27]:</div>
<div class="inner_cell">
    <div class="input_area">
<div class=" highlight hl-OCaml"><pre><span></span><span class="k">let</span> <span class="n">print_latex</span> <span class="o">(</span><span class="n">s</span> <span class="o">:</span> <span class="kt">string</span><span class="o">)</span> <span class="o">=</span> <span class="nn">Jupyter_notebook</span><span class="p">.</span><span class="n">display</span> <span class="s2">&quot;text/html&quot;</span> <span class="o">(</span><span class="s2">&quot;$$&quot;</span> <span class="o">^</span> <span class="n">s</span> <span class="o">^</span> <span class="s2">&quot;$$&quot;</span><span class="o">);;</span>
</pre></div>

    </div>
</div>
</div>

<div class="output_wrapper">
<div class="output">


<div class="output_area">

    <div class="prompt output_prompt">Out[27]:</div>




<div class="output_text output_subarea output_execute_result">
<pre>val print_latex : string -&gt; Jupyter_notebook.display_id = &lt;fun&gt;
</pre>
</div>

</div>

</div>
</div>

</div>
<div class="cell border-box-sizing code_cell rendered">
<div class="input">
<div class="prompt input_prompt">In&nbsp;[28]:</div>
<div class="inner_cell">
    <div class="input_area">
<div class=" highlight hl-OCaml"><pre><span></span><span class="n">print_latex</span> <span class="s2">&quot;</span><span class="se">\\</span><span class="s2">cos(x)&quot;</span><span class="o">;;</span>
</pre></div>

    </div>
</div>
</div>

<div class="output_wrapper">
<div class="output">


<div class="output_area">

    <div class="prompt"></div>



<div class="output_html rendered_html output_subarea ">
$$\cos(x)$$
</div>

</div>

<div class="output_area">

    <div class="prompt output_prompt">Out[28]:</div>




<div class="output_text output_subarea output_execute_result">
<pre>- : Jupyter_notebook.display_id = &lt;abstr&gt;
</pre>
</div>

</div>

</div>
</div>

</div>
<div class="cell border-box-sizing code_cell rendered">
<div class="input">
<div class="prompt input_prompt">In&nbsp;[29]:</div>
<div class="inner_cell">
    <div class="input_area">
<div class=" highlight hl-OCaml"><pre><span></span><span class="k">let</span> <span class="n">symbole_to_latex</span> <span class="o">(</span><span class="n">sym</span> <span class="o">:</span> <span class="n">symbole_calcul_prop</span><span class="o">)</span> <span class="o">=</span>
    <span class="k">match</span> <span class="n">sym</span> <span class="k">with</span>
    <span class="o">|</span> <span class="nc">ITE</span> <span class="o">-&gt;</span> <span class="s2">&quot;</span><span class="se">\\</span><span class="s2">implies&quot;</span>
    <span class="o">|</span> <span class="nc">Ou</span> <span class="o">-&gt;</span> <span class="s2">&quot;</span><span class="se">\\</span><span class="s2">vee&quot;</span>
    <span class="o">|</span> <span class="nc">Et</span> <span class="o">-&gt;</span> <span class="s2">&quot;</span><span class="se">\\</span><span class="s2">wedge&quot;</span>
    <span class="o">|</span> <span class="nc">Non</span> <span class="o">-&gt;</span> <span class="s2">&quot;</span><span class="se">\\</span><span class="s2">neg&quot;</span>
    <span class="o">|</span> <span class="nc">V</span> <span class="o">-&gt;</span> <span class="s2">&quot;V&quot;</span> <span class="o">|</span> <span class="nc">F</span> <span class="o">-&gt;</span> <span class="s2">&quot;F&quot;</span>
<span class="o">;;</span>
</pre></div>

    </div>
</div>
</div>

<div class="output_wrapper">
<div class="output">


<div class="output_area">

    <div class="prompt output_prompt">Out[29]:</div>




<div class="output_text output_subarea output_execute_result">
<pre>val symbole_to_latex : symbole_calcul_prop -&gt; string = &lt;fun&gt;
</pre>
</div>

</div>

</div>
</div>

</div>
<div class="cell border-box-sizing code_cell rendered">
<div class="input">
<div class="prompt input_prompt">In&nbsp;[30]:</div>
<div class="inner_cell">
    <div class="input_area">
<div class=" highlight hl-OCaml"><pre><span></span><span class="k">let</span> <span class="n">formule_to_latex</span> <span class="o">(</span><span class="n">form</span> <span class="o">:</span> <span class="n">symbole_calcul_prop</span> <span class="kt">list</span><span class="o">)</span> <span class="o">=</span>
    <span class="nn">String</span><span class="p">.</span><span class="n">concat</span> <span class="s2">&quot; &quot;</span> <span class="o">(</span><span class="nn">List</span><span class="p">.</span><span class="n">map</span> <span class="n">symbole_to_latex</span> <span class="n">form</span><span class="o">)</span>
<span class="o">;;</span>
</pre></div>

    </div>
</div>
</div>

<div class="output_wrapper">
<div class="output">


<div class="output_area">

    <div class="prompt output_prompt">Out[30]:</div>




<div class="output_text output_subarea output_execute_result">
<pre>val formule_to_latex : symbole_calcul_prop list -&gt; string = &lt;fun&gt;
</pre>
</div>

</div>

</div>
</div>

</div>
<div class="cell border-box-sizing code_cell rendered">
<div class="input">
<div class="prompt input_prompt">In&nbsp;[31]:</div>
<div class="inner_cell">
    <div class="input_area">
<div class=" highlight hl-OCaml"><pre><span></span><span class="n">print_latex</span> <span class="o">(</span><span class="n">formule_to_latex</span> <span class="n">ex2</span><span class="o">);;</span>
</pre></div>

    </div>
</div>
</div>

<div class="output_wrapper">
<div class="output">


<div class="output_area">

    <div class="prompt"></div>



<div class="output_html rendered_html output_subarea ">
$$F V \vee \neg V \neg F \vee \vee$$
</div>

</div>

<div class="output_area">

    <div class="prompt output_prompt">Out[31]:</div>




<div class="output_text output_subarea output_execute_result">
<pre>- : Jupyter_notebook.display_id = &lt;abstr&gt;
</pre>
</div>

</div>

</div>
</div>

</div>
<div class="cell border-box-sizing text_cell rendered"><div class="prompt input_prompt">
</div><div class="inner_cell">
<div class="text_cell_render border-box-sizing rendered_html">
<p>Sans prendre en compte la structure d'arbre, c'est très moche !</p>

</div>
</div>
</div>
<div class="cell border-box-sizing code_cell rendered">
<div class="input">
<div class="prompt input_prompt">In&nbsp;[32]:</div>
<div class="inner_cell">
    <div class="input_area">
<div class=" highlight hl-OCaml"><pre><span></span><span class="k">let</span> <span class="k">rec</span> <span class="n">arbre_to_latex</span> <span class="o">(</span><span class="n">arb</span> <span class="o">:</span> <span class="n">arbre</span><span class="o">)</span> <span class="o">=</span>
    <span class="k">match</span> <span class="n">arb</span> <span class="k">with</span>
    <span class="o">|</span> <span class="nc">FeuilleV</span> <span class="o">-&gt;</span> <span class="s2">&quot;V&quot;</span>
    <span class="o">|</span> <span class="nc">FeuilleF</span> <span class="o">-&gt;</span> <span class="s2">&quot;F&quot;</span>
    <span class="o">|</span> <span class="nc">NNon</span><span class="o">(</span><span class="n">a</span><span class="o">)</span> <span class="o">-&gt;</span> <span class="s2">&quot;(</span><span class="se">\\</span><span class="s2">neg &quot;</span> <span class="o">^</span> <span class="o">(</span><span class="n">arbre_to_latex</span> <span class="n">a</span><span class="o">)</span> <span class="o">^</span> <span class="s2">&quot;)&quot;</span>
    <span class="o">|</span> <span class="nc">NEt</span><span class="o">(</span><span class="n">a</span><span class="o">,</span> <span class="n">b</span><span class="o">)</span> <span class="o">-&gt;</span> <span class="s2">&quot;(&quot;</span> <span class="o">^</span> <span class="o">(</span><span class="n">arbre_to_latex</span> <span class="n">a</span><span class="o">)</span> <span class="o">^</span> <span class="s2">&quot; </span><span class="se">\\</span><span class="s2">wedge &quot;</span> <span class="o">^</span> <span class="o">(</span><span class="n">arbre_to_latex</span> <span class="n">b</span><span class="o">)</span> <span class="o">^</span> <span class="s2">&quot;)&quot;</span>
    <span class="o">|</span> <span class="nc">NOu</span><span class="o">(</span><span class="n">a</span><span class="o">,</span> <span class="n">b</span><span class="o">)</span> <span class="o">-&gt;</span> <span class="s2">&quot;(&quot;</span> <span class="o">^</span> <span class="o">(</span><span class="n">arbre_to_latex</span> <span class="n">a</span><span class="o">)</span> <span class="o">^</span> <span class="s2">&quot; </span><span class="se">\\</span><span class="s2">vee &quot;</span> <span class="o">^</span> <span class="o">(</span><span class="n">arbre_to_latex</span> <span class="n">b</span><span class="o">)</span> <span class="o">^</span> <span class="s2">&quot;)&quot;</span>
    <span class="o">|</span> <span class="nc">NITE</span><span class="o">(</span><span class="n">a</span><span class="o">,</span> <span class="n">b</span><span class="o">,</span> <span class="n">c</span><span class="o">)</span> <span class="o">-&gt;</span> <span class="s2">&quot;(&quot;</span> <span class="o">^</span> <span class="o">(</span><span class="n">arbre_to_latex</span> <span class="n">a</span><span class="o">)</span> <span class="o">^</span> <span class="s2">&quot; ? &quot;</span> <span class="o">^</span> <span class="o">(</span><span class="n">arbre_to_latex</span> <span class="n">b</span><span class="o">)</span> <span class="o">^</span> <span class="s2">&quot; : &quot;</span> <span class="o">^</span> <span class="o">(</span><span class="n">arbre_to_latex</span> <span class="n">c</span><span class="o">)</span> <span class="o">^</span> <span class="s2">&quot;)&quot;</span>
<span class="o">;;</span>

<span class="k">let</span> <span class="n">formule_to_latex2</span> <span class="o">(</span><span class="n">form</span> <span class="o">:</span> <span class="n">symbole_calcul_prop</span> <span class="kt">list</span><span class="o">)</span> <span class="o">=</span>
    <span class="k">let</span> <span class="n">arb</span> <span class="o">=</span> <span class="n">evalue</span> <span class="n">form</span> <span class="n">arite_calcul_prop</span> <span class="n">interp_calcul_prop_a</span> <span class="k">in</span>
    <span class="n">arbre_to_latex</span> <span class="n">arb</span>
<span class="o">;;</span>
</pre></div>

    </div>
</div>
</div>

<div class="output_wrapper">
<div class="output">


<div class="output_area">

    <div class="prompt output_prompt">Out[32]:</div>




<div class="output_text output_subarea output_execute_result">
<pre>val arbre_to_latex : arbre -&gt; string = &lt;fun&gt;
</pre>
</div>

</div>

<div class="output_area">

    <div class="prompt output_prompt">Out[32]:</div>




<div class="output_text output_subarea output_execute_result">
<pre>val formule_to_latex2 : symbole_calcul_prop list -&gt; string = &lt;fun&gt;
</pre>
</div>

</div>

</div>
</div>

</div>
<div class="cell border-box-sizing code_cell rendered">
<div class="input">
<div class="prompt input_prompt">In&nbsp;[33]:</div>
<div class="inner_cell">
    <div class="input_area">
<div class=" highlight hl-OCaml"><pre><span></span><span class="k">let</span> <span class="o">_</span> <span class="o">=</span> <span class="n">evalue</span> <span class="n">ex2</span> <span class="n">arite_calcul_prop</span> <span class="n">interp_calcul_prop_a</span>
</pre></div>

    </div>
</div>
</div>

<div class="output_wrapper">
<div class="output">


<div class="output_area">

    <div class="prompt output_prompt">Out[33]:</div>




<div class="output_text output_subarea output_execute_result">
<pre>- : arbre =
NOu (NNon (NOu (FeuilleF, FeuilleV)), NOu (NNon FeuilleV, FeuilleF))
</pre>
</div>

</div>

</div>
</div>

</div>
<div class="cell border-box-sizing code_cell rendered">
<div class="input">
<div class="prompt input_prompt">In&nbsp;[34]:</div>
<div class="inner_cell">
    <div class="input_area">
<div class=" highlight hl-OCaml"><pre><span></span><span class="n">print_latex</span> <span class="o">(</span><span class="n">formule_to_latex2</span> <span class="n">ex2</span><span class="o">);;</span>
</pre></div>

    </div>
</div>
</div>

<div class="output_wrapper">
<div class="output">


<div class="output_area">

    <div class="prompt"></div>



<div class="output_html rendered_html output_subarea ">
$$((\neg (F \vee V)) \vee ((\neg V) \vee F))$$
</div>

</div>

<div class="output_area">

    <div class="prompt output_prompt">Out[34]:</div>




<div class="output_text output_subarea output_execute_result">
<pre>- : Jupyter_notebook.display_id = &lt;abstr&gt;
</pre>
</div>

</div>

</div>
</div>

</div>
<div class="cell border-box-sizing text_cell rendered"><div class="prompt input_prompt">
</div><div class="inner_cell">
<div class="text_cell_render border-box-sizing rendered_html">
<hr>
<h2 id="Bonus-:-un-autre-exemple">Bonus : un autre exemple<a class="anchor-link" href="#Bonus-:-un-autre-exemple">&#182;</a></h2><p>On va considérer ici un second exemple, celui de l'<a href="http://minerve.bretagne.ens-cachan.fr/images/Presburger.pdf">arithmétique de Presburger</a>.</p>
<p>En gros, c'est l'arithmétique avec :</p>
<ul>
<li>des constantes (<code>Cst</code>), dans les entiers positifs $\mathbb{N}$,</li>
<li>des variables (<code>Let</code>), sous formes de lettres ici (un seul <code>char</code>),</li>
<li>le test d'<em>égalité binaire</em> entre variables et constantes (<code>Eq</code>), de la forme $x = y$, où $x$ et $y$ sont des constantes ou des variables,</li>
<li>le test d'<em>égalité sur des sommes</em>, de la forme $x + y = z$, où $x$, $y$ et $z$ sont des constantes ou des variables,</li>
<li>le <em>ou binaire</em> sur des formules, de la forme $\phi \vee \phi'$,</li>
<li>le <em>et binaire</em> sur des formules, de la forme $\phi \wedge \phi'$,</li>
<li>le <em>non unaire</em> sur une formule, de la forme $\neg \phi$,</li>
<li>et le <em>test existenciel</em>, de la forme $\exists x, \phi$.</li>
</ul>

</div>
</div>
</div>
<div class="cell border-box-sizing text_cell rendered"><div class="prompt input_prompt">
</div><div class="inner_cell">
<div class="text_cell_render border-box-sizing rendered_html">
<h3 id="Symboles-et-arit&#233;s">Symboles et arit&#233;s<a class="anchor-link" href="#Symboles-et-arit&#233;s">&#182;</a></h3>
</div>
</div>
</div>
<div class="cell border-box-sizing code_cell rendered">
<div class="input">
<div class="prompt input_prompt">In&nbsp;[35]:</div>
<div class="inner_cell">
    <div class="input_area">
<div class=" highlight hl-OCaml"><pre><span></span><span class="k">type</span> <span class="n">symbole_presburger</span> <span class="o">=</span>
    <span class="nc">Cst</span> <span class="o">|</span> <span class="nc">Let</span> <span class="o">|</span> <span class="nc">Eq</span> <span class="o">|</span> <span class="nc">PEq</span> <span class="o">|</span> <span class="nc">O</span> <span class="o">|</span> <span class="nc">A</span> <span class="o">|</span> <span class="nc">N</span> <span class="o">|</span> <span class="nc">Ex</span>
<span class="o">;;</span>
</pre></div>

    </div>
</div>
</div>

<div class="output_wrapper">
<div class="output">


<div class="output_area">

    <div class="prompt output_prompt">Out[35]:</div>




<div class="output_text output_subarea output_execute_result">
<pre>type symbole_presburger = Cst | Let | Eq | PEq | O | A | N | Ex
</pre>
</div>

</div>

</div>
</div>

</div>
<div class="cell border-box-sizing text_cell rendered"><div class="prompt input_prompt">
</div><div class="inner_cell">
<div class="text_cell_render border-box-sizing rendered_html">
<p>Avec ces symboles, on définit facilement leur arités.</p>

</div>
</div>
</div>
<div class="cell border-box-sizing code_cell rendered">
<div class="input">
<div class="prompt input_prompt">In&nbsp;[36]:</div>
<div class="inner_cell">
    <div class="input_area">
<div class=" highlight hl-OCaml"><pre><span></span><span class="k">let</span> <span class="n">arite_presburger</span> <span class="o">(</span><span class="n">s</span> <span class="o">:</span> <span class="n">symbole_presburger</span><span class="o">)</span> <span class="o">:</span> <span class="kt">int</span> <span class="o">=</span>
    <span class="k">match</span> <span class="n">s</span> <span class="k">with</span>
    <span class="o">|</span> <span class="nc">Cst</span> <span class="o">|</span> <span class="nc">Let</span>       <span class="o">-&gt;</span> <span class="mi">0</span>
    <span class="o">|</span> <span class="nc">N</span>               <span class="o">-&gt;</span> <span class="mi">1</span>
    <span class="o">|</span> <span class="nc">Eq</span> <span class="o">|</span> <span class="nc">O</span> <span class="o">|</span> <span class="nc">A</span> <span class="o">|</span> <span class="nc">Ex</span> <span class="o">-&gt;</span> <span class="mi">2</span>
    <span class="o">|</span> <span class="nc">PEq</span>             <span class="o">-&gt;</span> <span class="mi">3</span>
<span class="o">;;</span>
</pre></div>

    </div>
</div>
</div>

<div class="output_wrapper">
<div class="output">


<div class="output_area">

    <div class="prompt output_prompt">Out[36]:</div>




<div class="output_text output_subarea output_execute_result">
<pre>val arite_presburger : symbole_presburger -&gt; int = &lt;fun&gt;
</pre>
</div>

</div>

</div>
</div>

</div>
<div class="cell border-box-sizing text_cell rendered"><div class="prompt input_prompt">
</div><div class="inner_cell">
<div class="text_cell_render border-box-sizing rendered_html">
<h3 id="Formules-de-l'arithm&#233;tique-de-Presburger">Formules de l'arithm&#233;tique de Presburger<a class="anchor-link" href="#Formules-de-l'arithm&#233;tique-de-Presburger">&#182;</a></h3><p>Les formules suivent cette grammaire :
$$\phi,\phi' := (x=y)|(x+y=z)|\phi\vee\phi'|\phi\wedge\phi'|\neg\phi|\exists x, \phi$$</p>
<p>Les symboles sont donc :</p>
<ul>
<li>tous les entiers, et toutes les lettres d'arités 0,</li>
<li>$\neg$, noté <code>Not</code>, d'arité 1,</li>
<li>$\vee$, noté <code>Or</code>, $\wedge$, noté <code>And</code>, $=$, noté <code>Equal</code>, et $\exists$, noté <code>Exists</code>, d'arités 2,</li>
<li>"$+=$", noté <code>PlusEqual</code>.</li>
</ul>
<p>A noter que cet exemple nécessite des signatures non homogènes :</p>
<ul>
<li>$=$ et $+ =$ exigent deux arguments qui soient des entiers ou des lettres,</li>
<li>$\exists$ exige un premier argument qui soit une lettre, un second qui soit une formule,</li>
<li>$\vee$ et $\neg$ n'acceptent que des arguments qui soient des formules.</li>
</ul>

</div>
</div>
</div>
<div class="cell border-box-sizing text_cell rendered"><div class="prompt input_prompt">
</div><div class="inner_cell">
<div class="text_cell_render border-box-sizing rendered_html">
<p>Plutôt que de travailler avec des listes de symboles, on définit une structure arborescente pour les formules de l'arithmétique de Presburger.</p>

</div>
</div>
</div>
<div class="cell border-box-sizing code_cell rendered">
<div class="input">
<div class="prompt input_prompt">In&nbsp;[37]:</div>
<div class="inner_cell">
    <div class="input_area">
<div class=" highlight hl-OCaml"><pre><span></span><span class="k">type</span> <span class="n">entier</span> <span class="o">=</span> <span class="kt">int</span> <span class="o">;;</span>
<span class="k">type</span> <span class="n">lettre</span> <span class="o">=</span> <span class="kt">char</span> <span class="o">;;</span>
<span class="k">type</span> <span class="n">cst</span> <span class="o">=</span> <span class="nc">I</span> <span class="k">of</span> <span class="n">entier</span> <span class="o">|</span> <span class="nc">L</span> <span class="k">of</span> <span class="n">lettre</span> <span class="o">;;</span>
</pre></div>

    </div>
</div>
</div>

<div class="output_wrapper">
<div class="output">


<div class="output_area">

    <div class="prompt output_prompt">Out[37]:</div>




<div class="output_text output_subarea output_execute_result">
<pre>type entier = int
</pre>
</div>

</div>

<div class="output_area">

    <div class="prompt output_prompt">Out[37]:</div>




<div class="output_text output_subarea output_execute_result">
<pre>type lettre = char
</pre>
</div>

</div>

<div class="output_area">

    <div class="prompt output_prompt">Out[37]:</div>




<div class="output_text output_subarea output_execute_result">
<pre>type cst = I of entier | L of lettre
</pre>
</div>

</div>

</div>
</div>

</div>
<div class="cell border-box-sizing code_cell rendered">
<div class="input">
<div class="prompt input_prompt">In&nbsp;[38]:</div>
<div class="inner_cell">
    <div class="input_area">
<div class=" highlight hl-OCaml"><pre><span></span><span class="k">type</span> <span class="n">formule_presburger</span> <span class="o">=</span>
    <span class="o">|</span> <span class="nc">Equal</span> <span class="k">of</span> <span class="n">cst</span> <span class="o">*</span> <span class="n">cst</span>
    <span class="o">|</span> <span class="nc">PlusEqual</span> <span class="k">of</span> <span class="n">cst</span> <span class="o">*</span> <span class="n">cst</span> <span class="o">*</span> <span class="n">cst</span>
    <span class="o">|</span> <span class="nc">Or</span> <span class="k">of</span> <span class="n">formule_presburger</span> <span class="o">*</span> <span class="n">formule_presburger</span>
    <span class="o">|</span> <span class="nc">And</span> <span class="k">of</span> <span class="n">formule_presburger</span> <span class="o">*</span> <span class="n">formule_presburger</span>
    <span class="o">|</span> <span class="nc">Not</span> <span class="k">of</span> <span class="n">formule_presburger</span>
    <span class="o">|</span> <span class="nc">Exists</span> <span class="k">of</span> <span class="n">cst</span> <span class="o">*</span> <span class="n">formule_presburger</span>
</pre></div>

    </div>
</div>
</div>

<div class="output_wrapper">
<div class="output">


<div class="output_area">

    <div class="prompt output_prompt">Out[38]:</div>




<div class="output_text output_subarea output_execute_result">
<pre>type formule_presburger =
    Equal of cst * cst
  | PlusEqual of cst * cst * cst
  | Or of formule_presburger * formule_presburger
  | And of formule_presburger * formule_presburger
  | Not of formule_presburger
  | Exists of cst * formule_presburger
</pre>
</div>

</div>

</div>
</div>

</div>
<div class="cell border-box-sizing text_cell rendered"><div class="prompt input_prompt">
</div><div class="inner_cell">
<div class="text_cell_render border-box-sizing rendered_html">
<p>Ces formules peuvent facilement s'écrire comme un terme en notation préfixes :</p>

</div>
</div>
</div>
<div class="cell border-box-sizing code_cell rendered">
<div class="input">
<div class="prompt input_prompt">In&nbsp;[39]:</div>
<div class="inner_cell">
    <div class="input_area">
<div class=" highlight hl-OCaml"><pre><span></span><span class="k">let</span> <span class="k">rec</span> <span class="n">formule_vers_symboles</span> <span class="n">form</span> <span class="o">=</span>
    <span class="k">match</span> <span class="n">form</span> <span class="k">with</span>
    <span class="o">|</span> <span class="nc">Equal</span><span class="o">(</span><span class="nc">L</span><span class="o">(_),</span> <span class="nc">L</span><span class="o">(_))</span> <span class="o">-&gt;</span> <span class="o">[</span><span class="nc">Eq</span><span class="o">;</span> <span class="nc">Let</span><span class="o">;</span> <span class="nc">Let</span><span class="o">]</span>
    <span class="o">|</span> <span class="nc">Equal</span><span class="o">(</span><span class="nc">I</span><span class="o">(_),</span> <span class="nc">L</span><span class="o">(_))</span> <span class="o">-&gt;</span> <span class="o">[</span><span class="nc">Eq</span><span class="o">;</span> <span class="nc">Cst</span><span class="o">;</span> <span class="nc">Let</span><span class="o">]</span>
    <span class="o">|</span> <span class="nc">Equal</span><span class="o">(</span><span class="nc">L</span><span class="o">(_),</span> <span class="nc">I</span><span class="o">(_))</span> <span class="o">-&gt;</span> <span class="o">[</span><span class="nc">Eq</span><span class="o">;</span> <span class="nc">Let</span><span class="o">;</span> <span class="nc">Cst</span><span class="o">]</span>
    <span class="o">|</span> <span class="nc">Equal</span><span class="o">(</span><span class="nc">I</span><span class="o">(_),</span> <span class="nc">I</span><span class="o">(_))</span> <span class="o">-&gt;</span> <span class="o">[</span><span class="nc">Eq</span><span class="o">;</span> <span class="nc">Cst</span><span class="o">;</span> <span class="nc">Cst</span><span class="o">]</span>
    <span class="o">|</span> <span class="nc">PlusEqual</span><span class="o">(</span><span class="nc">L</span><span class="o">(_),</span> <span class="nc">L</span><span class="o">(_),</span> <span class="nc">L</span><span class="o">(_))</span> <span class="o">-&gt;</span> <span class="o">[</span><span class="nc">PEq</span><span class="o">;</span> <span class="nc">Let</span><span class="o">;</span> <span class="nc">Let</span><span class="o">;</span> <span class="nc">Let</span><span class="o">]</span>
    <span class="o">|</span> <span class="nc">PlusEqual</span><span class="o">(</span><span class="nc">I</span><span class="o">(_),</span> <span class="nc">L</span><span class="o">(_),</span> <span class="nc">L</span><span class="o">(_))</span> <span class="o">-&gt;</span> <span class="o">[</span><span class="nc">PEq</span><span class="o">;</span> <span class="nc">Cst</span><span class="o">;</span> <span class="nc">Let</span><span class="o">;</span> <span class="nc">Let</span><span class="o">]</span>
    <span class="o">|</span> <span class="nc">PlusEqual</span><span class="o">(</span><span class="nc">L</span><span class="o">(_),</span> <span class="nc">I</span><span class="o">(_),</span> <span class="nc">L</span><span class="o">(_))</span> <span class="o">-&gt;</span> <span class="o">[</span><span class="nc">PEq</span><span class="o">;</span> <span class="nc">Let</span><span class="o">;</span> <span class="nc">Cst</span><span class="o">;</span> <span class="nc">Let</span><span class="o">]</span>
    <span class="o">|</span> <span class="nc">PlusEqual</span><span class="o">(</span><span class="nc">I</span><span class="o">(_),</span> <span class="nc">I</span><span class="o">(_),</span> <span class="nc">L</span><span class="o">(_))</span> <span class="o">-&gt;</span> <span class="o">[</span><span class="nc">PEq</span><span class="o">;</span> <span class="nc">Cst</span><span class="o">;</span> <span class="nc">Cst</span><span class="o">;</span> <span class="nc">Let</span><span class="o">]</span>
    <span class="o">|</span> <span class="nc">PlusEqual</span><span class="o">(</span><span class="nc">L</span><span class="o">(_),</span> <span class="nc">L</span><span class="o">(_),</span> <span class="nc">I</span><span class="o">(_))</span> <span class="o">-&gt;</span> <span class="o">[</span><span class="nc">PEq</span><span class="o">;</span> <span class="nc">Let</span><span class="o">;</span> <span class="nc">Let</span><span class="o">;</span> <span class="nc">Cst</span><span class="o">]</span>
    <span class="o">|</span> <span class="nc">PlusEqual</span><span class="o">(</span><span class="nc">I</span><span class="o">(_),</span> <span class="nc">L</span><span class="o">(_),</span> <span class="nc">I</span><span class="o">(_))</span> <span class="o">-&gt;</span> <span class="o">[</span><span class="nc">PEq</span><span class="o">;</span> <span class="nc">Cst</span><span class="o">;</span> <span class="nc">Let</span><span class="o">;</span> <span class="nc">Cst</span><span class="o">]</span>
    <span class="o">|</span> <span class="nc">PlusEqual</span><span class="o">(</span><span class="nc">L</span><span class="o">(_),</span> <span class="nc">I</span><span class="o">(_),</span> <span class="nc">I</span><span class="o">(_))</span> <span class="o">-&gt;</span> <span class="o">[</span><span class="nc">PEq</span><span class="o">;</span> <span class="nc">Let</span><span class="o">;</span> <span class="nc">Cst</span><span class="o">;</span> <span class="nc">Cst</span><span class="o">]</span>
    <span class="o">|</span> <span class="nc">PlusEqual</span><span class="o">(</span><span class="nc">I</span><span class="o">(_),</span> <span class="nc">I</span><span class="o">(_),</span> <span class="nc">I</span><span class="o">(_))</span> <span class="o">-&gt;</span> <span class="o">[</span><span class="nc">PEq</span><span class="o">;</span> <span class="nc">Cst</span><span class="o">;</span> <span class="nc">Cst</span><span class="o">;</span> <span class="nc">Cst</span><span class="o">]</span>
    <span class="o">|</span> <span class="nc">Or</span><span class="o">(</span><span class="n">a</span><span class="o">,</span> <span class="n">b</span><span class="o">)</span> <span class="o">-&gt;</span> <span class="nc">O</span> <span class="o">::</span> <span class="o">(</span><span class="n">formule_vers_symboles</span> <span class="n">a</span><span class="o">)</span> <span class="o">@</span> <span class="o">(</span><span class="n">formule_vers_symboles</span> <span class="n">b</span><span class="o">)</span>
    <span class="o">|</span> <span class="nc">And</span><span class="o">(</span><span class="n">a</span><span class="o">,</span> <span class="n">b</span><span class="o">)</span> <span class="o">-&gt;</span> <span class="nc">A</span> <span class="o">::</span> <span class="o">(</span><span class="n">formule_vers_symboles</span> <span class="n">a</span><span class="o">)</span> <span class="o">@</span> <span class="o">(</span><span class="n">formule_vers_symboles</span> <span class="n">b</span><span class="o">)</span>
    <span class="o">|</span> <span class="nc">Not</span><span class="o">(</span><span class="n">a</span><span class="o">)</span> <span class="o">-&gt;</span> <span class="nc">N</span> <span class="o">::</span> <span class="o">(</span><span class="n">formule_vers_symboles</span> <span class="n">a</span><span class="o">)</span>
    <span class="o">|</span> <span class="nc">Exists</span><span class="o">(</span><span class="nc">L</span><span class="o">(_),</span> <span class="n">a</span><span class="o">)</span> <span class="o">-&gt;</span> <span class="o">[</span><span class="nc">Ex</span><span class="o">;</span> <span class="nc">Let</span><span class="o">]</span> <span class="o">@</span> <span class="o">(</span><span class="n">formule_vers_symboles</span> <span class="n">a</span><span class="o">)</span>
<span class="o">;;</span>
</pre></div>

    </div>
</div>
</div>

<div class="output_wrapper">
<div class="output">


<div class="output_area">

    <div class="prompt"></div>


<div class="output_subarea output_stream output_stderr output_text">
<pre>File &#34;[39]&#34;, line 2, characters 4-916:
Warning 8: this pattern-matching is not exhaustive.
Here is an example of a case that is not matched:
Exists (I _, _)
</pre>
</div>
</div>

<div class="output_area">

    <div class="prompt output_prompt">Out[39]:</div>




<div class="output_text output_subarea output_execute_result">
<pre>val formule_vers_symboles : formule_presburger -&gt; symbole_presburger list =
  &lt;fun&gt;
</pre>
</div>

</div>

</div>
</div>

</div>
<div class="cell border-box-sizing text_cell rendered"><div class="prompt input_prompt">
</div><div class="inner_cell">
<div class="text_cell_render border-box-sizing rendered_html">
<blockquote><p><em>Cet avertissement est normal</em>, ici on impose que dans <code>Exists(u, a)</code>, <code>u</code> soit nécessairement de la forme <code>L(x)</code>, i.e., une variable et non une constante.</p>
</blockquote>

</div>
</div>
</div>
<div class="cell border-box-sizing text_cell rendered"><div class="prompt input_prompt">
</div><div class="inner_cell">
<div class="text_cell_render border-box-sizing rendered_html">
<p>On peut aussi afficher une formule, en la convertissant vers une chaîne de caractère :</p>

</div>
</div>
</div>
<div class="cell border-box-sizing code_cell rendered">
<div class="input">
<div class="prompt input_prompt">In&nbsp;[40]:</div>
<div class="inner_cell">
    <div class="input_area">
<div class=" highlight hl-OCaml"><pre><span></span><span class="k">let</span> <span class="n">i</span> <span class="o">=</span> <span class="n">string_of_int</span> <span class="o">;;</span>
<span class="k">let</span> <span class="n">c</span> <span class="n">car</span> <span class="o">=</span> <span class="nn">String</span><span class="p">.</span><span class="n">make</span> <span class="mi">1</span> <span class="n">car</span> <span class="o">;;</span>
</pre></div>

    </div>
</div>
</div>

<div class="output_wrapper">
<div class="output">


<div class="output_area">

    <div class="prompt output_prompt">Out[40]:</div>




<div class="output_text output_subarea output_execute_result">
<pre>val i : int -&gt; string = &lt;fun&gt;
</pre>
</div>

</div>

<div class="output_area">

    <div class="prompt output_prompt">Out[40]:</div>




<div class="output_text output_subarea output_execute_result">
<pre>val c : char -&gt; string = &lt;fun&gt;
</pre>
</div>

</div>

</div>
</div>

</div>
<div class="cell border-box-sizing code_cell rendered">
<div class="input">
<div class="prompt input_prompt">In&nbsp;[41]:</div>
<div class="inner_cell">
    <div class="input_area">
<div class=" highlight hl-OCaml"><pre><span></span><span class="k">let</span> <span class="k">rec</span> <span class="n">formule_vers_chaine</span> <span class="n">form</span> <span class="o">=</span>
    <span class="k">match</span> <span class="n">form</span> <span class="k">with</span>
    <span class="o">|</span> <span class="nc">Equal</span><span class="o">(</span><span class="nc">L</span><span class="o">(</span><span class="n">x</span><span class="o">),</span> <span class="nc">L</span><span class="o">(</span><span class="n">y</span><span class="o">))</span> <span class="o">-&gt;</span> <span class="o">(</span><span class="n">c</span> <span class="n">x</span><span class="o">)</span> <span class="o">^</span> <span class="s2">&quot;=&quot;</span> <span class="o">^</span> <span class="o">(</span><span class="n">c</span> <span class="n">y</span><span class="o">)</span>
    <span class="o">|</span> <span class="nc">Equal</span><span class="o">(</span><span class="nc">I</span><span class="o">(</span><span class="n">x</span><span class="o">),</span> <span class="nc">L</span><span class="o">(</span><span class="n">y</span><span class="o">))</span> <span class="o">-&gt;</span> <span class="o">(</span><span class="n">i</span> <span class="n">x</span><span class="o">)</span> <span class="o">^</span> <span class="s2">&quot;=&quot;</span> <span class="o">^</span> <span class="o">(</span><span class="n">c</span> <span class="n">y</span><span class="o">)</span>
    <span class="o">|</span> <span class="nc">Equal</span><span class="o">(</span><span class="nc">L</span><span class="o">(</span><span class="n">x</span><span class="o">),</span> <span class="nc">I</span><span class="o">(</span><span class="n">y</span><span class="o">))</span> <span class="o">-&gt;</span> <span class="o">(</span><span class="n">c</span> <span class="n">x</span><span class="o">)</span> <span class="o">^</span> <span class="s2">&quot;=&quot;</span> <span class="o">^</span> <span class="o">(</span><span class="n">i</span> <span class="n">y</span><span class="o">)</span>
    <span class="o">|</span> <span class="nc">Equal</span><span class="o">(</span><span class="nc">I</span><span class="o">(</span><span class="n">x</span><span class="o">),</span> <span class="nc">I</span><span class="o">(</span><span class="n">y</span><span class="o">))</span> <span class="o">-&gt;</span> <span class="o">(</span><span class="n">i</span> <span class="n">x</span><span class="o">)</span> <span class="o">^</span> <span class="s2">&quot;=&quot;</span> <span class="o">^</span> <span class="o">(</span><span class="n">i</span> <span class="n">y</span><span class="o">)</span>
    <span class="o">|</span> <span class="nc">PlusEqual</span><span class="o">(</span><span class="nc">L</span><span class="o">(</span><span class="n">x</span><span class="o">),</span> <span class="nc">L</span><span class="o">(</span><span class="n">y</span><span class="o">),</span> <span class="nc">L</span><span class="o">(</span><span class="n">z</span><span class="o">))</span> <span class="o">-&gt;</span> <span class="o">(</span><span class="n">c</span> <span class="n">x</span><span class="o">)</span> <span class="o">^</span> <span class="s2">&quot;+&quot;</span> <span class="o">^</span> <span class="o">(</span><span class="n">c</span> <span class="n">y</span><span class="o">)</span> <span class="o">^</span> <span class="s2">&quot;=&quot;</span> <span class="o">^</span> <span class="o">(</span><span class="n">c</span> <span class="n">z</span><span class="o">)</span>
    <span class="o">|</span> <span class="nc">PlusEqual</span><span class="o">(</span><span class="nc">I</span><span class="o">(</span><span class="n">x</span><span class="o">),</span> <span class="nc">L</span><span class="o">(</span><span class="n">y</span><span class="o">),</span> <span class="nc">L</span><span class="o">(</span><span class="n">z</span><span class="o">))</span> <span class="o">-&gt;</span> <span class="o">(</span><span class="n">i</span> <span class="n">x</span><span class="o">)</span> <span class="o">^</span> <span class="s2">&quot;+&quot;</span> <span class="o">^</span> <span class="o">(</span><span class="n">c</span> <span class="n">y</span><span class="o">)</span> <span class="o">^</span> <span class="s2">&quot;=&quot;</span> <span class="o">^</span> <span class="o">(</span><span class="n">c</span> <span class="n">z</span><span class="o">)</span>
    <span class="o">|</span> <span class="nc">PlusEqual</span><span class="o">(</span><span class="nc">L</span><span class="o">(</span><span class="n">x</span><span class="o">),</span> <span class="nc">I</span><span class="o">(</span><span class="n">y</span><span class="o">),</span> <span class="nc">L</span><span class="o">(</span><span class="n">z</span><span class="o">))</span> <span class="o">-&gt;</span> <span class="o">(</span><span class="n">c</span> <span class="n">x</span><span class="o">)</span> <span class="o">^</span> <span class="s2">&quot;+&quot;</span> <span class="o">^</span> <span class="o">(</span><span class="n">i</span> <span class="n">y</span><span class="o">)</span> <span class="o">^</span> <span class="s2">&quot;=&quot;</span> <span class="o">^</span> <span class="o">(</span><span class="n">c</span> <span class="n">z</span><span class="o">)</span>
    <span class="o">|</span> <span class="nc">PlusEqual</span><span class="o">(</span><span class="nc">I</span><span class="o">(</span><span class="n">x</span><span class="o">),</span> <span class="nc">I</span><span class="o">(</span><span class="n">y</span><span class="o">),</span> <span class="nc">L</span><span class="o">(</span><span class="n">z</span><span class="o">))</span> <span class="o">-&gt;</span> <span class="o">(</span><span class="n">i</span> <span class="n">x</span><span class="o">)</span> <span class="o">^</span> <span class="s2">&quot;+&quot;</span> <span class="o">^</span> <span class="o">(</span><span class="n">i</span> <span class="n">y</span><span class="o">)</span> <span class="o">^</span> <span class="s2">&quot;=&quot;</span> <span class="o">^</span> <span class="o">(</span><span class="n">c</span> <span class="n">z</span><span class="o">)</span>
    <span class="o">|</span> <span class="nc">PlusEqual</span><span class="o">(</span><span class="nc">L</span><span class="o">(</span><span class="n">x</span><span class="o">),</span> <span class="nc">L</span><span class="o">(</span><span class="n">y</span><span class="o">),</span> <span class="nc">I</span><span class="o">(</span><span class="n">z</span><span class="o">))</span> <span class="o">-&gt;</span> <span class="o">(</span><span class="n">c</span> <span class="n">x</span><span class="o">)</span> <span class="o">^</span> <span class="s2">&quot;+&quot;</span> <span class="o">^</span> <span class="o">(</span><span class="n">c</span> <span class="n">y</span><span class="o">)</span> <span class="o">^</span> <span class="s2">&quot;=&quot;</span> <span class="o">^</span> <span class="o">(</span><span class="n">i</span> <span class="n">z</span><span class="o">)</span>
    <span class="o">|</span> <span class="nc">PlusEqual</span><span class="o">(</span><span class="nc">I</span><span class="o">(</span><span class="n">x</span><span class="o">),</span> <span class="nc">L</span><span class="o">(</span><span class="n">y</span><span class="o">),</span> <span class="nc">I</span><span class="o">(</span><span class="n">z</span><span class="o">))</span> <span class="o">-&gt;</span> <span class="o">(</span><span class="n">i</span> <span class="n">x</span><span class="o">)</span> <span class="o">^</span> <span class="s2">&quot;+&quot;</span> <span class="o">^</span> <span class="o">(</span><span class="n">c</span> <span class="n">y</span><span class="o">)</span> <span class="o">^</span> <span class="s2">&quot;=&quot;</span> <span class="o">^</span> <span class="o">(</span><span class="n">i</span> <span class="n">z</span><span class="o">)</span>
    <span class="o">|</span> <span class="nc">PlusEqual</span><span class="o">(</span><span class="nc">L</span><span class="o">(</span><span class="n">x</span><span class="o">),</span> <span class="nc">I</span><span class="o">(</span><span class="n">y</span><span class="o">),</span> <span class="nc">I</span><span class="o">(</span><span class="n">z</span><span class="o">))</span> <span class="o">-&gt;</span> <span class="o">(</span><span class="n">c</span> <span class="n">x</span><span class="o">)</span> <span class="o">^</span> <span class="s2">&quot;+&quot;</span> <span class="o">^</span> <span class="o">(</span><span class="n">i</span> <span class="n">y</span><span class="o">)</span> <span class="o">^</span> <span class="s2">&quot;=&quot;</span> <span class="o">^</span> <span class="o">(</span><span class="n">i</span> <span class="n">z</span><span class="o">)</span>
    <span class="o">|</span> <span class="nc">PlusEqual</span><span class="o">(</span><span class="nc">I</span><span class="o">(</span><span class="n">x</span><span class="o">),</span> <span class="nc">I</span><span class="o">(</span><span class="n">y</span><span class="o">),</span> <span class="nc">I</span><span class="o">(</span><span class="n">z</span><span class="o">))</span> <span class="o">-&gt;</span> <span class="o">(</span><span class="n">i</span> <span class="n">x</span><span class="o">)</span> <span class="o">^</span> <span class="s2">&quot;+&quot;</span> <span class="o">^</span> <span class="o">(</span><span class="n">i</span> <span class="n">y</span><span class="o">)</span> <span class="o">^</span> <span class="s2">&quot;=&quot;</span> <span class="o">^</span> <span class="o">(</span><span class="n">i</span> <span class="n">z</span><span class="o">)</span>
    <span class="o">|</span> <span class="nc">Or</span><span class="o">(</span><span class="n">a</span><span class="o">,</span> <span class="n">b</span><span class="o">)</span> <span class="o">-&gt;</span> <span class="o">(</span><span class="n">formule_vers_chaine</span> <span class="n">a</span><span class="o">)</span> <span class="o">^</span> <span class="s2">&quot;v&quot;</span> <span class="o">^</span> <span class="o">(</span><span class="n">formule_vers_chaine</span> <span class="n">b</span><span class="o">)</span>
    <span class="o">|</span> <span class="nc">And</span><span class="o">(</span><span class="n">a</span><span class="o">,</span> <span class="n">b</span><span class="o">)</span> <span class="o">-&gt;</span> <span class="o">(</span><span class="n">formule_vers_chaine</span> <span class="n">a</span><span class="o">)</span> <span class="o">^</span> <span class="s2">&quot;^&quot;</span> <span class="o">^</span> <span class="o">(</span><span class="n">formule_vers_chaine</span> <span class="n">b</span><span class="o">)</span>
    <span class="o">|</span> <span class="nc">Not</span><span class="o">(</span><span class="n">a</span><span class="o">)</span> <span class="o">-&gt;</span> <span class="s2">&quot;~&quot;</span> <span class="o">^</span> <span class="o">(</span><span class="n">formule_vers_chaine</span> <span class="n">a</span><span class="o">)</span>
    <span class="o">|</span> <span class="nc">Exists</span><span class="o">(</span><span class="nc">L</span><span class="o">(</span><span class="n">x</span><span class="o">),</span> <span class="n">a</span><span class="o">)</span> <span class="o">-&gt;</span> <span class="s2">&quot;E&quot;</span> <span class="o">^</span> <span class="o">(</span><span class="n">c</span> <span class="n">x</span><span class="o">)</span> <span class="o">^</span> <span class="s2">&quot;, &quot;</span> <span class="o">^</span> <span class="o">(</span><span class="n">formule_vers_chaine</span> <span class="n">a</span><span class="o">)</span>
<span class="o">;;</span>
</pre></div>

    </div>
</div>
</div>

<div class="output_wrapper">
<div class="output">


<div class="output_area">

    <div class="prompt"></div>


<div class="output_subarea output_stream output_stderr output_text">
<pre>File &#34;[41]&#34;, line 2, characters 4-1040:
Warning 8: this pattern-matching is not exhaustive.
Here is an example of a case that is not matched:
Exists (I _, _)
</pre>
</div>
</div>

<div class="output_area">

    <div class="prompt output_prompt">Out[41]:</div>




<div class="output_text output_subarea output_execute_result">
<pre>val formule_vers_chaine : formule_presburger -&gt; string = &lt;fun&gt;
</pre>
</div>

</div>

</div>
</div>

</div>
<div class="cell border-box-sizing text_cell rendered"><div class="prompt input_prompt">
</div><div class="inner_cell">
<div class="text_cell_render border-box-sizing rendered_html">
<p>Et en bonus, on affiche aussi avec une chaîne en $\LaTeX$ :</p>

</div>
</div>
</div>
<div class="cell border-box-sizing code_cell rendered">
<div class="input">
<div class="prompt input_prompt">In&nbsp;[42]:</div>
<div class="inner_cell">
    <div class="input_area">
<div class=" highlight hl-OCaml"><pre><span></span><span class="k">let</span> <span class="k">rec</span> <span class="n">formule_vers_latex</span> <span class="n">form</span> <span class="o">=</span>
    <span class="k">match</span> <span class="n">form</span> <span class="k">with</span>
    <span class="o">|</span> <span class="nc">Equal</span><span class="o">(</span><span class="nc">L</span><span class="o">(</span><span class="n">x</span><span class="o">),</span> <span class="nc">L</span><span class="o">(</span><span class="n">y</span><span class="o">))</span> <span class="o">-&gt;</span> <span class="o">(</span><span class="n">c</span> <span class="n">x</span><span class="o">)</span> <span class="o">^</span> <span class="s2">&quot;=&quot;</span> <span class="o">^</span> <span class="o">(</span><span class="n">c</span> <span class="n">y</span><span class="o">)</span>
    <span class="o">|</span> <span class="nc">Equal</span><span class="o">(</span><span class="nc">I</span><span class="o">(</span><span class="n">x</span><span class="o">),</span> <span class="nc">L</span><span class="o">(</span><span class="n">y</span><span class="o">))</span> <span class="o">-&gt;</span> <span class="o">(</span><span class="n">i</span> <span class="n">x</span><span class="o">)</span> <span class="o">^</span> <span class="s2">&quot;=&quot;</span> <span class="o">^</span> <span class="o">(</span><span class="n">c</span> <span class="n">y</span><span class="o">)</span>
    <span class="o">|</span> <span class="nc">Equal</span><span class="o">(</span><span class="nc">L</span><span class="o">(</span><span class="n">x</span><span class="o">),</span> <span class="nc">I</span><span class="o">(</span><span class="n">y</span><span class="o">))</span> <span class="o">-&gt;</span> <span class="o">(</span><span class="n">c</span> <span class="n">x</span><span class="o">)</span> <span class="o">^</span> <span class="s2">&quot;=&quot;</span> <span class="o">^</span> <span class="o">(</span><span class="n">i</span> <span class="n">y</span><span class="o">)</span>
    <span class="o">|</span> <span class="nc">Equal</span><span class="o">(</span><span class="nc">I</span><span class="o">(</span><span class="n">x</span><span class="o">),</span> <span class="nc">I</span><span class="o">(</span><span class="n">y</span><span class="o">))</span> <span class="o">-&gt;</span> <span class="o">(</span><span class="n">i</span> <span class="n">x</span><span class="o">)</span> <span class="o">^</span> <span class="s2">&quot;=&quot;</span> <span class="o">^</span> <span class="o">(</span><span class="n">i</span> <span class="n">y</span><span class="o">)</span>
    <span class="o">|</span> <span class="nc">PlusEqual</span><span class="o">(</span><span class="nc">L</span><span class="o">(</span><span class="n">x</span><span class="o">),</span> <span class="nc">L</span><span class="o">(</span><span class="n">y</span><span class="o">),</span> <span class="nc">L</span><span class="o">(</span><span class="n">z</span><span class="o">))</span> <span class="o">-&gt;</span> <span class="o">(</span><span class="n">c</span> <span class="n">x</span><span class="o">)</span> <span class="o">^</span> <span class="s2">&quot;+&quot;</span> <span class="o">^</span> <span class="o">(</span><span class="n">c</span> <span class="n">y</span><span class="o">)</span> <span class="o">^</span> <span class="s2">&quot;=&quot;</span> <span class="o">^</span> <span class="o">(</span><span class="n">c</span> <span class="n">z</span><span class="o">)</span>
    <span class="o">|</span> <span class="nc">PlusEqual</span><span class="o">(</span><span class="nc">I</span><span class="o">(</span><span class="n">x</span><span class="o">),</span> <span class="nc">L</span><span class="o">(</span><span class="n">y</span><span class="o">),</span> <span class="nc">L</span><span class="o">(</span><span class="n">z</span><span class="o">))</span> <span class="o">-&gt;</span> <span class="o">(</span><span class="n">i</span> <span class="n">x</span><span class="o">)</span> <span class="o">^</span> <span class="s2">&quot;+&quot;</span> <span class="o">^</span> <span class="o">(</span><span class="n">c</span> <span class="n">y</span><span class="o">)</span> <span class="o">^</span> <span class="s2">&quot;=&quot;</span> <span class="o">^</span> <span class="o">(</span><span class="n">c</span> <span class="n">z</span><span class="o">)</span>
    <span class="o">|</span> <span class="nc">PlusEqual</span><span class="o">(</span><span class="nc">L</span><span class="o">(</span><span class="n">x</span><span class="o">),</span> <span class="nc">I</span><span class="o">(</span><span class="n">y</span><span class="o">),</span> <span class="nc">L</span><span class="o">(</span><span class="n">z</span><span class="o">))</span> <span class="o">-&gt;</span> <span class="o">(</span><span class="n">c</span> <span class="n">x</span><span class="o">)</span> <span class="o">^</span> <span class="s2">&quot;+&quot;</span> <span class="o">^</span> <span class="o">(</span><span class="n">i</span> <span class="n">y</span><span class="o">)</span> <span class="o">^</span> <span class="s2">&quot;=&quot;</span> <span class="o">^</span> <span class="o">(</span><span class="n">c</span> <span class="n">z</span><span class="o">)</span>
    <span class="o">|</span> <span class="nc">PlusEqual</span><span class="o">(</span><span class="nc">I</span><span class="o">(</span><span class="n">x</span><span class="o">),</span> <span class="nc">I</span><span class="o">(</span><span class="n">y</span><span class="o">),</span> <span class="nc">L</span><span class="o">(</span><span class="n">z</span><span class="o">))</span> <span class="o">-&gt;</span> <span class="o">(</span><span class="n">i</span> <span class="n">x</span><span class="o">)</span> <span class="o">^</span> <span class="s2">&quot;+&quot;</span> <span class="o">^</span> <span class="o">(</span><span class="n">i</span> <span class="n">y</span><span class="o">)</span> <span class="o">^</span> <span class="s2">&quot;=&quot;</span> <span class="o">^</span> <span class="o">(</span><span class="n">c</span> <span class="n">z</span><span class="o">)</span>
    <span class="o">|</span> <span class="nc">PlusEqual</span><span class="o">(</span><span class="nc">L</span><span class="o">(</span><span class="n">x</span><span class="o">),</span> <span class="nc">L</span><span class="o">(</span><span class="n">y</span><span class="o">),</span> <span class="nc">I</span><span class="o">(</span><span class="n">z</span><span class="o">))</span> <span class="o">-&gt;</span> <span class="o">(</span><span class="n">c</span> <span class="n">x</span><span class="o">)</span> <span class="o">^</span> <span class="s2">&quot;+&quot;</span> <span class="o">^</span> <span class="o">(</span><span class="n">c</span> <span class="n">y</span><span class="o">)</span> <span class="o">^</span> <span class="s2">&quot;=&quot;</span> <span class="o">^</span> <span class="o">(</span><span class="n">i</span> <span class="n">z</span><span class="o">)</span>
    <span class="o">|</span> <span class="nc">PlusEqual</span><span class="o">(</span><span class="nc">I</span><span class="o">(</span><span class="n">x</span><span class="o">),</span> <span class="nc">L</span><span class="o">(</span><span class="n">y</span><span class="o">),</span> <span class="nc">I</span><span class="o">(</span><span class="n">z</span><span class="o">))</span> <span class="o">-&gt;</span> <span class="o">(</span><span class="n">i</span> <span class="n">x</span><span class="o">)</span> <span class="o">^</span> <span class="s2">&quot;+&quot;</span> <span class="o">^</span> <span class="o">(</span><span class="n">c</span> <span class="n">y</span><span class="o">)</span> <span class="o">^</span> <span class="s2">&quot;=&quot;</span> <span class="o">^</span> <span class="o">(</span><span class="n">i</span> <span class="n">z</span><span class="o">)</span>
    <span class="o">|</span> <span class="nc">PlusEqual</span><span class="o">(</span><span class="nc">L</span><span class="o">(</span><span class="n">x</span><span class="o">),</span> <span class="nc">I</span><span class="o">(</span><span class="n">y</span><span class="o">),</span> <span class="nc">I</span><span class="o">(</span><span class="n">z</span><span class="o">))</span> <span class="o">-&gt;</span> <span class="o">(</span><span class="n">c</span> <span class="n">x</span><span class="o">)</span> <span class="o">^</span> <span class="s2">&quot;+&quot;</span> <span class="o">^</span> <span class="o">(</span><span class="n">i</span> <span class="n">y</span><span class="o">)</span> <span class="o">^</span> <span class="s2">&quot;=&quot;</span> <span class="o">^</span> <span class="o">(</span><span class="n">i</span> <span class="n">z</span><span class="o">)</span>
    <span class="o">|</span> <span class="nc">PlusEqual</span><span class="o">(</span><span class="nc">I</span><span class="o">(</span><span class="n">x</span><span class="o">),</span> <span class="nc">I</span><span class="o">(</span><span class="n">y</span><span class="o">),</span> <span class="nc">I</span><span class="o">(</span><span class="n">z</span><span class="o">))</span> <span class="o">-&gt;</span> <span class="o">(</span><span class="n">i</span> <span class="n">x</span><span class="o">)</span> <span class="o">^</span> <span class="s2">&quot;+&quot;</span> <span class="o">^</span> <span class="o">(</span><span class="n">i</span> <span class="n">y</span><span class="o">)</span> <span class="o">^</span> <span class="s2">&quot;=&quot;</span> <span class="o">^</span> <span class="o">(</span><span class="n">i</span> <span class="n">z</span><span class="o">)</span>
    <span class="o">|</span> <span class="nc">Or</span><span class="o">(</span><span class="n">a</span><span class="o">,</span> <span class="n">b</span><span class="o">)</span> <span class="o">-&gt;</span> <span class="o">(</span><span class="n">formule_vers_latex</span> <span class="n">a</span><span class="o">)</span> <span class="o">^</span> <span class="s2">&quot;</span><span class="se">\\</span><span class="s2">vee&quot;</span> <span class="o">^</span> <span class="o">(</span><span class="n">formule_vers_latex</span> <span class="n">b</span><span class="o">)</span>
    <span class="o">|</span> <span class="nc">And</span><span class="o">(</span><span class="n">a</span><span class="o">,</span> <span class="n">b</span><span class="o">)</span> <span class="o">-&gt;</span> <span class="o">(</span><span class="n">formule_vers_latex</span> <span class="n">a</span><span class="o">)</span> <span class="o">^</span> <span class="s2">&quot;</span><span class="se">\\</span><span class="s2">wedge&quot;</span> <span class="o">^</span> <span class="o">(</span><span class="n">formule_vers_latex</span> <span class="n">b</span><span class="o">)</span>
    <span class="o">|</span> <span class="nc">Not</span><span class="o">(</span><span class="n">a</span><span class="o">)</span> <span class="o">-&gt;</span> <span class="s2">&quot;</span><span class="se">\\</span><span class="s2">neg&quot;</span> <span class="o">^</span> <span class="o">(</span><span class="n">formule_vers_latex</span> <span class="n">a</span><span class="o">)</span>
    <span class="o">|</span> <span class="nc">Exists</span><span class="o">(</span><span class="nc">L</span><span class="o">(</span><span class="n">x</span><span class="o">),</span> <span class="n">a</span><span class="o">)</span> <span class="o">-&gt;</span> <span class="s2">&quot;</span><span class="se">\\</span><span class="s2">exists &quot;</span> <span class="o">^</span> <span class="o">(</span><span class="n">c</span> <span class="n">x</span><span class="o">)</span> <span class="o">^</span> <span class="s2">&quot;, &quot;</span> <span class="o">^</span> <span class="o">(</span><span class="n">formule_vers_latex</span> <span class="n">a</span><span class="o">)</span>
<span class="o">;;</span>
</pre></div>

    </div>
</div>
</div>

<div class="output_wrapper">
<div class="output">


<div class="output_area">

    <div class="prompt"></div>


<div class="output_subarea output_stream output_stderr output_text">
<pre>File &#34;[42]&#34;, line 2, characters 4-1056:
Warning 8: this pattern-matching is not exhaustive.
Here is an example of a case that is not matched:
Exists (I _, _)
</pre>
</div>
</div>

<div class="output_area">

    <div class="prompt output_prompt">Out[42]:</div>




<div class="output_text output_subarea output_execute_result">
<pre>val formule_vers_latex : formule_presburger -&gt; string = &lt;fun&gt;
</pre>
</div>

</div>

</div>
</div>

</div>
<div class="cell border-box-sizing text_cell rendered"><div class="prompt input_prompt">
</div><div class="inner_cell">
<div class="text_cell_render border-box-sizing rendered_html">
<h3 id="Quelques-exemples-de-formules-de-Presburger">Quelques exemples de formules de Presburger<a class="anchor-link" href="#Quelques-exemples-de-formules-de-Presburger">&#182;</a></h3><p>On peut prendre quelques exemples de formules, et les convertir en liste de symboles.
Notez qu'on perd l'information des constantes et des lettres !</p>
<p>Des formules bien formées :</p>
<ul>
<li>$\phi_1 = \exists x, x = 3$, (vraie).</li>
<li>$\phi_2 = \exists x, \exists y, x + y = 10$, (vraie).</li>
<li>$\phi_3 = \exists x, x + 1 = 0$ (fausse).</li>
</ul>

</div>
</div>
</div>
<div class="cell border-box-sizing code_cell rendered">
<div class="input">
<div class="prompt input_prompt">In&nbsp;[43]:</div>
<div class="inner_cell">
    <div class="input_area">
<div class=" highlight hl-OCaml"><pre><span></span><span class="k">let</span> <span class="n">formule_1</span> <span class="o">=</span> <span class="nc">Exists</span><span class="o">(</span><span class="nc">L</span><span class="o">(</span><span class="sc">&#39;x&#39;</span><span class="o">),</span> <span class="nc">Equal</span><span class="o">(</span><span class="nc">L</span><span class="o">(</span><span class="sc">&#39;x&#39;</span><span class="o">),</span> <span class="nc">I</span><span class="o">(</span><span class="mi">3</span><span class="o">)));;</span>
<span class="k">let</span> <span class="n">formule_2</span> <span class="o">=</span> <span class="nc">Exists</span><span class="o">(</span><span class="nc">L</span><span class="o">(</span><span class="sc">&#39;x&#39;</span><span class="o">),</span> <span class="nc">Exists</span><span class="o">(</span><span class="nc">L</span><span class="o">(</span><span class="sc">&#39;y&#39;</span><span class="o">),</span> <span class="nc">PlusEqual</span><span class="o">(</span><span class="nc">L</span><span class="o">(</span><span class="sc">&#39;x&#39;</span><span class="o">),</span> <span class="nc">L</span><span class="o">(</span><span class="sc">&#39;y&#39;</span><span class="o">),</span> <span class="nc">I</span><span class="o">(</span><span class="mi">10</span><span class="o">))));;</span>
<span class="k">let</span> <span class="n">formule_3</span> <span class="o">=</span> <span class="nc">Exists</span><span class="o">(</span><span class="nc">L</span><span class="o">(</span><span class="sc">&#39;x&#39;</span><span class="o">),</span> <span class="nc">PlusEqual</span><span class="o">(</span><span class="nc">L</span><span class="o">(</span><span class="sc">&#39;x&#39;</span><span class="o">),</span> <span class="nc">I</span><span class="o">(</span><span class="mi">1</span><span class="o">),</span> <span class="nc">I</span><span class="o">(</span><span class="mi">0</span><span class="o">)));;</span>
</pre></div>

    </div>
</div>
</div>

<div class="output_wrapper">
<div class="output">


<div class="output_area">

    <div class="prompt output_prompt">Out[43]:</div>




<div class="output_text output_subarea output_execute_result">
<pre>val formule_1 : formule_presburger = Exists (L &#39;x&#39;, Equal (L &#39;x&#39;, I 3))
</pre>
</div>

</div>

<div class="output_area">

    <div class="prompt output_prompt">Out[43]:</div>




<div class="output_text output_subarea output_execute_result">
<pre>val formule_2 : formule_presburger =
  Exists (L &#39;x&#39;, Exists (L &#39;y&#39;, PlusEqual (L &#39;x&#39;, L &#39;y&#39;, I 10)))
</pre>
</div>

</div>

<div class="output_area">

    <div class="prompt output_prompt">Out[43]:</div>




<div class="output_text output_subarea output_execute_result">
<pre>val formule_3 : formule_presburger =
  Exists (L &#39;x&#39;, PlusEqual (L &#39;x&#39;, I 1, I 0))
</pre>
</div>

</div>

</div>
</div>

</div>
<div class="cell border-box-sizing code_cell rendered">
<div class="input">
<div class="prompt input_prompt">In&nbsp;[44]:</div>
<div class="inner_cell">
    <div class="input_area">
<div class=" highlight hl-OCaml"><pre><span></span><span class="n">print_endline</span> <span class="o">(</span><span class="n">formule_vers_chaine</span> <span class="n">formule_1</span><span class="o">);;</span>
<span class="n">print_endline</span> <span class="o">(</span><span class="n">formule_vers_chaine</span> <span class="n">formule_2</span><span class="o">);;</span>
<span class="n">print_endline</span> <span class="o">(</span><span class="n">formule_vers_chaine</span> <span class="n">formule_3</span><span class="o">);;</span>
</pre></div>

    </div>
</div>
</div>

<div class="output_wrapper">
<div class="output">


<div class="output_area">

    <div class="prompt"></div>


<div class="output_subarea output_stream output_stdout output_text">
<pre>Ex, x=3
</pre>
</div>
</div>

<div class="output_area">

    <div class="prompt output_prompt">Out[44]:</div>




<div class="output_text output_subarea output_execute_result">
<pre>- : unit = ()
</pre>
</div>

</div>

<div class="output_area">

    <div class="prompt"></div>


<div class="output_subarea output_stream output_stdout output_text">
<pre>Ex, Ey, x+y=10
</pre>
</div>
</div>

<div class="output_area">

    <div class="prompt output_prompt">Out[44]:</div>




<div class="output_text output_subarea output_execute_result">
<pre>- : unit = ()
</pre>
</div>

</div>

<div class="output_area">

    <div class="prompt"></div>


<div class="output_subarea output_stream output_stdout output_text">
<pre>Ex, x+1=0
</pre>
</div>
</div>

<div class="output_area">

    <div class="prompt output_prompt">Out[44]:</div>




<div class="output_text output_subarea output_execute_result">
<pre>- : unit = ()
</pre>
</div>

</div>

</div>
</div>

</div>
<div class="cell border-box-sizing code_cell rendered">
<div class="input">
<div class="prompt input_prompt">In&nbsp;[45]:</div>
<div class="inner_cell">
    <div class="input_area">
<div class=" highlight hl-OCaml"><pre><span></span><span class="n">print_latex</span> <span class="o">(</span><span class="n">formule_vers_latex</span> <span class="n">formule_1</span><span class="o">);;</span>
<span class="n">print_latex</span> <span class="o">(</span><span class="n">formule_vers_latex</span> <span class="n">formule_2</span><span class="o">);;</span>
<span class="n">print_latex</span> <span class="o">(</span><span class="n">formule_vers_latex</span> <span class="n">formule_3</span><span class="o">);;</span>
</pre></div>

    </div>
</div>
</div>

<div class="output_wrapper">
<div class="output">


<div class="output_area">

    <div class="prompt"></div>



<div class="output_html rendered_html output_subarea ">
$$\exists x, x=3$$
</div>

</div>

<div class="output_area">

    <div class="prompt output_prompt">Out[45]:</div>




<div class="output_text output_subarea output_execute_result">
<pre>- : Jupyter_notebook.display_id = &lt;abstr&gt;
</pre>
</div>

</div>

<div class="output_area">

    <div class="prompt"></div>



<div class="output_html rendered_html output_subarea ">
$$\exists x, \exists y, x+y=10$$
</div>

</div>

<div class="output_area">

    <div class="prompt output_prompt">Out[45]:</div>




<div class="output_text output_subarea output_execute_result">
<pre>- : Jupyter_notebook.display_id = &lt;abstr&gt;
</pre>
</div>

</div>

<div class="output_area">

    <div class="prompt"></div>



<div class="output_html rendered_html output_subarea ">
$$\exists x, x+1=0$$
</div>

</div>

<div class="output_area">

    <div class="prompt output_prompt">Out[45]:</div>




<div class="output_text output_subarea output_execute_result">
<pre>- : Jupyter_notebook.display_id = &lt;abstr&gt;
</pre>
</div>

</div>

</div>
</div>

</div>
<div class="cell border-box-sizing text_cell rendered"><div class="prompt input_prompt">
</div><div class="inner_cell">
<div class="text_cell_render border-box-sizing rendered_html">
<h3 id="V&#233;rification-de-l'&#233;criture-pr&#233;fixe-pour-des-formules-de-Presburger">V&#233;rification de l'&#233;criture pr&#233;fixe pour des formules de Presburger<a class="anchor-link" href="#V&#233;rification-de-l'&#233;criture-pr&#233;fixe-pour-des-formules-de-Presburger">&#182;</a></h3>
</div>
</div>
</div>
<div class="cell border-box-sizing code_cell rendered">
<div class="input">
<div class="prompt input_prompt">In&nbsp;[46]:</div>
<div class="inner_cell">
    <div class="input_area">
<div class=" highlight hl-OCaml"><pre><span></span><span class="k">let</span> <span class="n">sy1</span> <span class="o">=</span> <span class="n">formule_vers_symboles</span> <span class="n">formule_1</span><span class="o">;;</span>
<span class="k">let</span> <span class="n">sy2</span> <span class="o">=</span> <span class="n">formule_vers_symboles</span> <span class="n">formule_2</span><span class="o">;;</span>
<span class="k">let</span> <span class="n">sy3</span> <span class="o">=</span> <span class="n">formule_vers_symboles</span> <span class="n">formule_3</span><span class="o">;;</span>
</pre></div>

    </div>
</div>
</div>

<div class="output_wrapper">
<div class="output">


<div class="output_area">

    <div class="prompt output_prompt">Out[46]:</div>




<div class="output_text output_subarea output_execute_result">
<pre>val sy1 : symbole_presburger list = [Ex; Let; Eq; Let; Cst]
</pre>
</div>

</div>

<div class="output_area">

    <div class="prompt output_prompt">Out[46]:</div>




<div class="output_text output_subarea output_execute_result">
<pre>val sy2 : symbole_presburger list = [Ex; Let; Ex; Let; PEq; Let; Let; Cst]
</pre>
</div>

</div>

<div class="output_area">

    <div class="prompt output_prompt">Out[46]:</div>




<div class="output_text output_subarea output_execute_result">
<pre>val sy3 : symbole_presburger list = [Ex; Let; PEq; Let; Cst; Cst]
</pre>
</div>

</div>

</div>
</div>

</div>
<div class="cell border-box-sizing text_cell rendered"><div class="prompt input_prompt">
</div><div class="inner_cell">
<div class="text_cell_render border-box-sizing rendered_html">
<p>Elles sont évidemment bien formées.</p>

</div>
</div>
</div>
<div class="cell border-box-sizing code_cell rendered">
<div class="input">
<div class="prompt input_prompt">In&nbsp;[47]:</div>
<div class="inner_cell">
    <div class="input_area">
<div class=" highlight hl-OCaml"><pre><span></span><span class="k">let</span> <span class="o">_</span> <span class="o">=</span> <span class="n">ecriture_prefixe_valide</span> <span class="n">sy1</span> <span class="n">arite_presburger</span><span class="o">;;</span> <span class="c">(* true *)</span>
<span class="k">let</span> <span class="o">_</span> <span class="o">=</span> <span class="n">ecriture_prefixe_valide</span> <span class="n">sy2</span> <span class="n">arite_presburger</span><span class="o">;;</span> <span class="c">(* true *)</span>
<span class="k">let</span> <span class="o">_</span> <span class="o">=</span> <span class="n">ecriture_prefixe_valide</span> <span class="n">sy3</span> <span class="n">arite_presburger</span><span class="o">;;</span> <span class="c">(* true *)</span>
</pre></div>

    </div>
</div>
</div>

<div class="output_wrapper">
<div class="output">


<div class="output_area">

    <div class="prompt output_prompt">Out[47]:</div>




<div class="output_text output_subarea output_execute_result">
<pre>- : bool = true
</pre>
</div>

</div>

<div class="output_area">

    <div class="prompt output_prompt">Out[47]:</div>




<div class="output_text output_subarea output_execute_result">
<pre>- : bool = true
</pre>
</div>

</div>

<div class="output_area">

    <div class="prompt output_prompt">Out[47]:</div>




<div class="output_text output_subarea output_execute_result">
<pre>- : bool = true
</pre>
</div>

</div>

</div>
</div>

</div>
<div class="cell border-box-sizing text_cell rendered"><div class="prompt input_prompt">
</div><div class="inner_cell">
<div class="text_cell_render border-box-sizing rendered_html">
<p>On peut regarder d'autres suites de symboles qui ne sont pas valides.</p>

</div>
</div>
</div>
<div class="cell border-box-sizing code_cell rendered">
<div class="input">
<div class="prompt input_prompt">In&nbsp;[48]:</div>
<div class="inner_cell">
    <div class="input_area">
<div class=" highlight hl-OCaml"><pre><span></span><span class="k">let</span> <span class="n">sy4</span> <span class="o">=</span> <span class="o">[</span><span class="nc">Ex</span><span class="o">;</span> <span class="nc">Let</span><span class="o">;</span> <span class="nc">Eq</span><span class="o">;</span> <span class="nc">Let</span><span class="o">;</span> <span class="nc">Eq</span><span class="o">];;</span>
<span class="k">let</span> <span class="n">sy5</span> <span class="o">=</span> <span class="o">[</span><span class="nc">Ex</span><span class="o">;</span> <span class="nc">Let</span><span class="o">;</span> <span class="nc">Ex</span><span class="o">;</span> <span class="nc">Let</span><span class="o">;</span> <span class="nc">Eq</span><span class="o">;</span> <span class="nc">Let</span><span class="o">;</span> <span class="nc">Let</span><span class="o">;</span> <span class="nc">Cst</span><span class="o">];;</span>
<span class="k">let</span> <span class="n">sy6</span> <span class="o">=</span> <span class="o">[</span><span class="nc">Ex</span><span class="o">;</span> <span class="nc">Let</span><span class="o">;</span> <span class="nc">PEq</span><span class="o">;</span> <span class="nc">Let</span><span class="o">;</span> <span class="nc">Eq</span><span class="o">;</span> <span class="nc">Cst</span><span class="o">];;</span>
</pre></div>

    </div>
</div>
</div>

<div class="output_wrapper">
<div class="output">


<div class="output_area">

    <div class="prompt output_prompt">Out[48]:</div>




<div class="output_text output_subarea output_execute_result">
<pre>val sy4 : symbole_presburger list = [Ex; Let; Eq; Let; Eq]
</pre>
</div>

</div>

<div class="output_area">

    <div class="prompt output_prompt">Out[48]:</div>




<div class="output_text output_subarea output_execute_result">
<pre>val sy5 : symbole_presburger list = [Ex; Let; Ex; Let; Eq; Let; Let; Cst]
</pre>
</div>

</div>

<div class="output_area">

    <div class="prompt output_prompt">Out[48]:</div>




<div class="output_text output_subarea output_execute_result">
<pre>val sy6 : symbole_presburger list = [Ex; Let; PEq; Let; Eq; Cst]
</pre>
</div>

</div>

</div>
</div>

</div>
<div class="cell border-box-sizing code_cell rendered">
<div class="input">
<div class="prompt input_prompt">In&nbsp;[49]:</div>
<div class="inner_cell">
    <div class="input_area">
<div class=" highlight hl-OCaml"><pre><span></span><span class="k">let</span> <span class="o">_</span> <span class="o">=</span> <span class="n">ecriture_prefixe_valide_info</span> <span class="n">sy4</span> <span class="n">arite_presburger</span><span class="o">;;</span> <span class="c">(* Some 4 *)</span>
<span class="k">let</span> <span class="o">_</span> <span class="o">=</span> <span class="n">ecriture_prefixe_valide_info</span> <span class="n">sy5</span> <span class="n">arite_presburger</span><span class="o">;;</span> <span class="c">(* Some 6 *)</span>
<span class="k">let</span> <span class="o">_</span> <span class="o">=</span> <span class="n">ecriture_prefixe_valide_info</span> <span class="n">sy6</span> <span class="n">arite_presburger</span><span class="o">;;</span> <span class="c">(* Some 5 *)</span>
</pre></div>

    </div>
</div>
</div>

<div class="output_wrapper">
<div class="output">


<div class="output_area">

    <div class="prompt output_prompt">Out[49]:</div>




<div class="output_text output_subarea output_execute_result">
<pre>- : int option = Some 4
</pre>
</div>

</div>

<div class="output_area">

    <div class="prompt output_prompt">Out[49]:</div>




<div class="output_text output_subarea output_execute_result">
<pre>- : int option = Some 6
</pre>
</div>

</div>

<div class="output_area">

    <div class="prompt output_prompt">Out[49]:</div>




<div class="output_text output_subarea output_execute_result">
<pre>- : int option = Some 5
</pre>
</div>

</div>

</div>
</div>

</div>
<div class="cell border-box-sizing text_cell rendered"><div class="prompt input_prompt">
</div><div class="inner_cell">
<div class="text_cell_render border-box-sizing rendered_html">
<p>Ça suffit pour cet exemple, on voulait juste montrer une autre utilisation de cette fonction <code>ecriture_prefixe_valide</code>.</p>
<blockquote><p>Il serait difficile d'interpréter ces termes, par contre, à cause du prédicat $\exists$...</p>
<p>Je n'ai pas essayé d'en faire plus ici, inutile.</p>
</blockquote>

</div>
</div>
</div>
<div class="cell border-box-sizing text_cell rendered"><div class="prompt input_prompt">
</div><div class="inner_cell">
<div class="text_cell_render border-box-sizing rendered_html">
<hr>
<h2 id="Conclusion">Conclusion<a class="anchor-link" href="#Conclusion">&#182;</a></h2><p>Voilà pour la question obligatoire de programmation :</p>
<ul>
<li>on a préféré être prudent, en testant avec l'exemple du texte (calcul propositionnel) mais on a essayé un autre exemple,</li>
<li>on a fait des exemples et <em>on les garde</em> dans ce qu'on présente au jury.</li>
</ul>
<p>Et on a essayé de faire <em>un peu plus</em>, en implémentant l'algorithme d'évaluation des termes.</p>
<blockquote><p>Bien-sûr, ce petit notebook ne se prétend pas être une solution optimale, ni exhaustive.</p>
<p>Merci à Aude et Vlad pour leur implémentation, sur laquelle ce document est principalement basé.</p>
</blockquote>

</div>
</div>
</div>
 


    </div>
  </div>

  </div>


  
    <footer class="footer hidden-print">
      <div class="container">
        <div class="col-md-4">
          <p>
            This website does not host notebooks, it only renders notebooks
            available on other websites.
          </p>
        </div>

        <div class="col-md-4">
          <p>
            Delivered by <a href="https://www.fastly.com/">Fastly</a>,
            Rendered by <a href="https://developer.rackspace.com/?nbviewer=awesome">Rackspace</a>
          </p>
          <p>
            nbviewer GitHub <a href="https://github.com/jupyter/nbviewer">repository</a>.
          </p>
        </div>

        <div class="col-md-4">
          
  
            
              <p>
                nbviewer version:
                <a href="https://github.com/jupyter/nbviewer/commit/8a8fd298b446096dddc874da57e99dd22a2d8d97">
                  8a8fd29
                </a>
              </p>
            
          
  
  <p>
    nbconvert version: <a href="https://github.com/jupyter/nbconvert/releases/tag/5.6.1">
      5.6.1
    </a>
  </p>
  

          
  
  
  <p>
    Rendered
    <span class='date' data-date='Mon, 27 Jan 2020 13:30:54 UTC' title='Mon, 27 Jan 2020 13:30:54 UTC'>(Mon, 27 Jan 2020 13:30:54 UTC)</span>
  </p>
  

        </div>
      </div>
    </footer>
  

  <script src="/static/components/bootstrap/js/bootstrap.min.js?v=5869c96cc8f19086aee625d670d741f9"></script>
  <script src="/static/components/headroom.js/dist/headroom.min.js?v=b0a311ea668f8e768ea375f4a7abb81c"></script>
  <script src="/static/components/headroom.js/dist/jQuery.headroom.min.js?v=f3a1bae118315d0c234afc74dc6aab71"></script>

  
  
  <script>
    $(function(){ $("#menubar").headroom({
      tolerance: 5,
      offset: 205,
      classes: {
        initial: "animated",
        pinned: "slideInDown",
        unpinned: "slideOutUp"
      }
    })});
  </script>


  
  <script>
    (function(i,s,o,g,r,a,m){i['GoogleAnalyticsObject']=r;i[r]=i[r]||function(){
      (i[r].q=i[r].q||[]).push(arguments)},i[r].l=1*new Date();a=s.createElement(o),
      m=s.getElementsByTagName(o)[0];a.async=1;a.src=g;m.parentNode.insertBefore(a,m)
    })(window,document,'script','https://www.google-analytics.com/analytics.js','ga');
    ga('create', 'UA-52617120-5', 'auto',
       {'storage': 'none'});
    ga('set', 'anonymizeIp', true);
    ga('send', 'pageview');
  </script>
  
  <script>
    require({
        paths: {
          moment: "/static/components/moment/min/moment.min.js?v=89f87298ad94aa1e6b92f42eb66da043"
        }
      }, ["moment"], function(moment){
      var date = $("footer .date"),
        m = moment(new Date(date.data('date'))),
        update = function(){ date.text(m.fromNow()); };
      setInterval(update, 61*1000);
      update();
      var w = $(window).scroll(function(event){
        $("body").toggleClass("scrolled", w.scrollTop() > 0);
      });
    });
  </script>

  <!--NEW RELIC Stop Perf Measurement-->
  
  <!--NEW RELIC End-->
</body>
</html>