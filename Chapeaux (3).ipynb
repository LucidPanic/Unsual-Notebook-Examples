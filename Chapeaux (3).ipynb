








<!DOCTYPE html>
<html lang="en">

<head>
  <meta charset="utf-8">
  <title>Jupyter Notebook Viewer</title>
  <meta name="viewport" content="width=device-width, initial-scale=1.0">
  <meta name="description" content="">
  <meta name="author" content="">
  
  <meta name="robots" content="noindex,nofollow">
  

  <!--NEW RELIC Start Perf Measurement-->
  
  <!--NREND-->

  <!-- Le styles -->
  <link href="/static/build/styles.css?v=7fe30404aaeedb40bf592c91e1d25a26" rel="stylesheet">

  <!-- Le HTML5 shim, for IE6-8 support of HTML5 elements -->
  <!--[if lt IE 9]>
    <script src="http://html5shim.googlecode.com/svn/trunk/html5.js"></script>
  <![endif]-->

  <!-- Le fav and touch icons -->
  <link rel="shortcut icon" href="/static/ico/ipynb_icon_16x16.png">
  <link rel="apple-touch-icon-precomposed" sizes="144x144"
        href="/static/ico/apple-touch-icon-144-precomposed.png?v=5a3c9ede93e2a8b8ea9e3f8f3da1a905">
  <link rel="apple-touch-icon-precomposed" sizes="114x114"
        href="/static/ico/apple-touch-icon-114-precomposed.png?v=45d86fc8f24dc00638035e1dd7a6d898">
  <link rel="apple-touch-icon-precomposed" sizes="72x72"
        href="/static/ico/apple-touch-icon-72-precomposed.png?v=540b5eb0f3cfd25f1439d1c9bd30e15f">
  <link rel="apple-touch-icon-precomposed"
        href="/static/ico/apple-touch-icon-57-precomposed.png?v=225f0590e187e1458625654f10a28f56">
  
  

  

  
  <meta name="twitter:card" content="summary">
  <meta name="twitter:title" content="Notebook on nbviewer">
  <meta name="twitter:description" content="Check out this Jupyter notebook!">

  
  <meta name="twitter:domain" content="nbviewer.jupyter.org">
  <meta name="twitter:image:src" content="http://ipython.org/ipython-doc/dev/_images/ipynb_icon_128x128.png">

  
    <link href="/static/build/notebook.css?v=b71b4a780ae775fd48f0eead7512c5dd" rel="stylesheet">
  

  

  
    <script src="https://cdnjs.cloudflare.com/ajax/libs/mathjax/2.7.1/MathJax.js?config=TeX-AMS_HTML" type="text/javascript">
    </script>
    <script type="text/javascript">
      init_mathjax = function() {
        if (window.MathJax) {
          // MathJax loaded
          MathJax.Hub.Config({
            TeX: {
              equationNumbers: {
                autoNumber: "AMS",
                useLabelIds: true
              }
            },
            tex2jax: {
              inlineMath: [ ['$','$'], ["\\(","\\)"] ],
              displayMath: [ ['$$','$$'], ["\\[","\\]"] ],
              processEscapes: true,
              processEnvironments: true
            },
            displayAlign: 'center',
            "HTML-CSS": {
              styles: {'.MathJax_Display': {"margin": 0}},
              linebreaks: { automatic: true }
            }
          });
          MathJax.Hub.Queue(["Typeset", MathJax.Hub]);
        }
      }
      init_mathjax();
    </script>
  

  
    <script>
      (function() {
        function addWidgetsRenderer() {
          var mimeElement = document.querySelector('script[type="application/vnd.jupyter.widget-view+json"]');
          var scriptElement = document.createElement('script');
          var widgetRendererSrc = 'https://unpkg.com/@jupyter-widgets/html-manager@0.15/dist/embed-amd.js';
          var widgetState;

          try {
            widgetState = mimeElement && JSON.parse(mimeElement.innerHTML);

            if (widgetState && (widgetState.version_major < 2 || !widgetState.version_major)) {
              widgetRendererSrc = 'https://unpkg.com/jupyter-js-widgets@2.1/dist/embed.js';
            }
          } catch(e) {}

          scriptElement.src = widgetRendererSrc;
          document.body.appendChild(scriptElement);
        }

        document.addEventListener('DOMContentLoaded', addWidgetsRenderer);
      }());
    </script>
  

</head>

<body class="nbviewer">

  <!-- These are loaded at the top of the body so they are available to
       notebook cells when they are loaded below. -->
  <script src="/static/components/jquery/dist/jquery.min.js?v=220afd743d9e9643852e31a135a9f3ae"></script>
  <script src="/static/components/requirejs/require.js?v=6da8be361b9ee26c5e721e76c6d4afce"></script>
  <script src="/static/components/moment/min/moment.min.js?v=89f87298ad94aa1e6b92f42eb66da043"></script>
<!-- Navbar
================================================== -->
  <nav id="menubar" class="navbar navbar-default navbar-fixed-top" data-spy="affix">
    <div class="container">
      <div class="navbar-header">
        <button type="button" class="navbar-toggle collapsed" data-toggle="collapse" data-target=".navbar-collapse">
          <span class="sr-only">Toggle navigation</span>
          <i class="fa fa-bars"></i>
        </button>
        <a class="navbar-brand" href="/">
          <img src="/static/img/nav_logo.svg?v=479cefe8d932fb14a67b93911b97d70f" width="159"/>
        </a>
      </div>

      <div class="collapse navbar-collapse">
        <ul class="nav navbar-nav navbar-right">
          <li>
            <a class="active" href="https://jupyter.org">JUPYTER</a>
          </li>
          <li>
    <a href="/faq" title="FAQ" >
      
        <span>FAQ</span>
      
    </a>
  </li>

          
  
    
  
    
      
        <li>
    <a href="script/github/Naereen/notebooks/blob/master/agreg/Chapeaux.ipynb" title="View as Code" >
      <span class="fa fa-code fa-2x menu-icon"></span>
      <span class="menu-text">View as Code</span>
    </a>
  </li>
      
    
  

  
    <li>
    <a href="#" title="OCaml 4.04.2 Kernel" >
      <span class="fa fa-server fa-2x menu-icon"></span>
      <span class="menu-text">OCaml 4.04.2 Kernel</span>
    </a>
  </li>
  

  
    <li>
    <a href="https://github.com/Naereen/notebooks/blob/master/agreg/Chapeaux.ipynb" title="View on GitHub" >
      <span class="fa fa-github fa-2x menu-icon"></span>
      <span class="menu-text">View on GitHub</span>
    </a>
  </li>
  

  
    <li>
    <a href="https://mybinder.org/v2/gh/Naereen/notebooks/master?filepath=agreg/Chapeaux.ipynb" title="Execute on Binder" >
      <span class="fa fa-icon-binder fa-2x menu-icon"></span>
      <span class="menu-text">Execute on Binder</span>
    </a>
  </li>
  

  <li>
    <a href="https://raw.githubusercontent.com/Naereen/notebooks/master/agreg/Chapeaux.ipynb" title="Download Notebook" download>
      <span class="fa fa-download fa-2x menu-icon"></span>
      <span class="menu-text">Download Notebook</span>
    </a>
  </li>

        </ul>
      </div><!-- /.navbar-collapse -->
      
      
    </div>
  </nav>

  <div class="container container-main">
    
  
  <ol class="breadcrumb">
    
      <li>
        <a href="/github/Naereen/notebooks/tree/master">notebooks</a>
      </li>
    
      <li>
        <a href="/github/Naereen/notebooks/tree/master/agreg">agreg</a>
      </li>
    
  </ol>
  
  <div id="notebook">
    <div id="notebook-container">
      <div class="cell border-box-sizing text_cell rendered"><div class="prompt input_prompt">
</div><div class="inner_cell">
<div class="text_cell_render border-box-sizing rendered_html">
<h1 id="Table-of-Contents">Table of Contents<a class="anchor-link" href="#Table-of-Contents">&#182;</a></h1><p><p><div class="lev1 toc-item"><a href="#Texte-d'oral-de-modélisation---Agrégation-Option-Informatique" data-toc-modified-id="Texte-d'oral-de-modélisation---Agrégation-Option-Informatique-1"><span class="toc-item-num">1&nbsp;&nbsp;</span>Texte d'oral de modélisation - Agrégation Option Informatique</a></div><div class="lev2 toc-item"><a href="#Préparation-à-l'agrégation---ENS-de-Rennes,-2016-17" data-toc-modified-id="Préparation-à-l'agrégation---ENS-de-Rennes,-2016-17-11"><span class="toc-item-num">1.1&nbsp;&nbsp;</span>Préparation à l'agrégation - ENS de Rennes, 2016-17</a></div><div class="lev2 toc-item"><a href="#À-propos-de-ce-document" data-toc-modified-id="À-propos-de-ce-document-12"><span class="toc-item-num">1.2&nbsp;&nbsp;</span>À propos de ce document</a></div><div class="lev2 toc-item"><a href="#Question-de-programmation" data-toc-modified-id="Question-de-programmation-13"><span class="toc-item-num">1.3&nbsp;&nbsp;</span>Question de programmation</a></div><div class="lev2 toc-item"><a href="#Réponse-à-l'exercice-requis" data-toc-modified-id="Réponse-à-l'exercice-requis-14"><span class="toc-item-num">1.4&nbsp;&nbsp;</span>Réponse à l'exercice requis</a></div><div class="lev3 toc-item"><a href="#Rapide-vérification-du-dénombrement-annoncé" data-toc-modified-id="Rapide-vérification-du-dénombrement-annoncé-141"><span class="toc-item-num">1.4.1&nbsp;&nbsp;</span>Rapide vérification du dénombrement annoncé</a></div><div class="lev3 toc-item"><a href="#Q.II.1)-Décodage-d'un-symbole" data-toc-modified-id="Q.II.1)-Décodage-d'un-symbole-142"><span class="toc-item-num">1.4.2&nbsp;&nbsp;</span>Q.II.1) Décodage d'un symbole</a></div><div class="lev4 toc-item"><a href="#Structures-et-types-de-données" data-toc-modified-id="Structures-et-types-de-données-1421"><span class="toc-item-num">1.4.2.1&nbsp;&nbsp;</span>Structures et types de données</a></div><div class="lev4 toc-item"><a href="#Exemples" data-toc-modified-id="Exemples-1422"><span class="toc-item-num">1.4.2.2&nbsp;&nbsp;</span>Exemples</a></div><div class="lev4 toc-item"><a href="#Algorithme-de-décodage-d'une-séquence-de-caractères" data-toc-modified-id="Algorithme-de-décodage-d'une-séquence-de-caractères-1423"><span class="toc-item-num">1.4.2.3&nbsp;&nbsp;</span>Algorithme de décodage d'une séquence de caractères</a></div><div class="lev4 toc-item"><a href="#Terminaison" data-toc-modified-id="Terminaison-1424"><span class="toc-item-num">1.4.2.4&nbsp;&nbsp;</span>Terminaison</a></div><div class="lev4 toc-item"><a href="#Correction-?" data-toc-modified-id="Correction-?-1425"><span class="toc-item-num">1.4.2.5&nbsp;&nbsp;</span>Correction ?</a></div><div class="lev4 toc-item"><a href="#Complexité-en-temps-(et-espace)" data-toc-modified-id="Complexité-en-temps-(et-espace)-1426"><span class="toc-item-num">1.4.2.6&nbsp;&nbsp;</span>Complexité en temps (et espace)</a></div><div class="lev4 toc-item"><a href="#La-sous-fonction-est_issue_de" data-toc-modified-id="La-sous-fonction-est_issue_de-1427"><span class="toc-item-num">1.4.2.7&nbsp;&nbsp;</span>La sous-fonction <code>est_issue_de</code></a></div><div class="lev4 toc-item"><a href="#Fonction-finale-decodage_une_sequence" data-toc-modified-id="Fonction-finale-decodage_une_sequence-1428"><span class="toc-item-num">1.4.2.8&nbsp;&nbsp;</span>Fonction finale <code>decodage_une_sequence</code></a></div><div class="lev3 toc-item"><a href="#Q.II.2)-Décodage-d'une-suite-de-symboles" data-toc-modified-id="Q.II.2)-Décodage-d'une-suite-de-symboles-143"><span class="toc-item-num">1.4.3&nbsp;&nbsp;</span>Q.II.2) Décodage d'une suite de symboles</a></div><div class="lev4 toc-item"><a href="#1.-Extraire-la-taille-des-séquence-du-codage-de-Hamming" data-toc-modified-id="1.-Extraire-la-taille-des-séquence-du-codage-de-Hamming-1431"><span class="toc-item-num">1.4.3.1&nbsp;&nbsp;</span>1. Extraire la taille des séquence du codage de Hamming</a></div><div class="lev4 toc-item"><a href="#2.-Extraire-les-sous-séquences" data-toc-modified-id="2.-Extraire-les-sous-séquences-1432"><span class="toc-item-num">1.4.3.2&nbsp;&nbsp;</span>2. Extraire les sous-séquences</a></div><div class="lev4 toc-item"><a href="#3.-et-4.-Rassembler-les-morceaux" data-toc-modified-id="3.-et-4.-Rassembler-les-morceaux-1433"><span class="toc-item-num">1.4.3.3&nbsp;&nbsp;</span>3. et 4. Rassembler les morceaux</a></div><div class="lev4 toc-item"><a href="#Exemple" data-toc-modified-id="Exemple-1434"><span class="toc-item-num">1.4.3.4&nbsp;&nbsp;</span>Exemple</a></div><div class="lev2 toc-item"><a href="#Conclusion" data-toc-modified-id="Conclusion-15"><span class="toc-item-num">1.5&nbsp;&nbsp;</span>Conclusion</a></div></p>

</div>
</div>
</div>
<div class="cell border-box-sizing text_cell rendered"><div class="prompt input_prompt">
</div><div class="inner_cell">
<div class="text_cell_render border-box-sizing rendered_html">
<h1 id="Texte-d'oral-de-mod&#233;lisation---Agr&#233;gation-Option-Informatique">Texte d'oral de mod&#233;lisation - Agr&#233;gation Option Informatique<a class="anchor-link" href="#Texte-d'oral-de-mod&#233;lisation---Agr&#233;gation-Option-Informatique">&#182;</a></h1>
</div>
</div>
</div>
<div class="cell border-box-sizing text_cell rendered"><div class="prompt input_prompt">
</div><div class="inner_cell">
<div class="text_cell_render border-box-sizing rendered_html">
<h2 id="Pr&#233;paration-&#224;-l'agr&#233;gation---ENS-de-Rennes,-2016-17">Pr&#233;paration &#224; l'agr&#233;gation - ENS de Rennes, 2016-17<a class="anchor-link" href="#Pr&#233;paration-&#224;-l'agr&#233;gation---ENS-de-Rennes,-2016-17">&#182;</a></h2>
</div>
</div>
</div>
<div class="cell border-box-sizing text_cell rendered"><div class="prompt input_prompt">
</div><div class="inner_cell">
<div class="text_cell_render border-box-sizing rendered_html">
<ul>
<li><em>Date</em> : 7 avril 2017</li>
<li><em>Auteur</em> : <a href="https://GitHub.com/Naereen/notebooks/">Lilian Besson</a></li>
<li><em>Texte</em>: Pour la Science, N°=319 mai 2014, par Jean-Paul Delahaye, "Couleurs des chapeaux et codes correcteurs d'erreurs"</li>
</ul>

</div>
</div>
</div>
<div class="cell border-box-sizing text_cell rendered"><div class="prompt input_prompt">
</div><div class="inner_cell">
<div class="text_cell_render border-box-sizing rendered_html">
<h2 id="&#192;-propos-de-ce-document">&#192; propos de ce document<a class="anchor-link" href="#&#192;-propos-de-ce-document">&#182;</a></h2>
</div>
</div>
</div>
<div class="cell border-box-sizing text_cell rendered"><div class="prompt input_prompt">
</div><div class="inner_cell">
<div class="text_cell_render border-box-sizing rendered_html">
<ul>
<li>Ceci est une <em>proposition</em> de correction, partielle et probablement non-optimale, pour la partie implémentation d'un <a href="http://Agreg.org/Textes/">texte d'annale de l'agrégation de mathématiques, option informatique</a>.</li>
<li>Ce document est un <a href="https://www.Jupyter.org/">notebook Jupyter</a>, et <a href="https://github.com/Naereen/notebooks/tree/master/agreg/">est open-source sous Licence MIT sur GitHub</a>, comme les autres solutions de textes de modélisation que <a href="https://GitHub.com/Naereen">j</a>'ai écrite cette année.</li>
<li>L'implémentation sera faite en OCaml, version 4+ :</li>
</ul>

</div>
</div>
</div>
<div class="cell border-box-sizing code_cell rendered">
<div class="input">
<div class="prompt input_prompt">In&nbsp;[1]:</div>
<div class="inner_cell">
    <div class="input_area">
<div class=" highlight hl-OCaml"><pre><span></span><span class="nn">Sys</span><span class="p">.</span><span class="n">command</span> <span class="s2">&quot;ocaml -version&quot;</span><span class="o">;;</span>
</pre></div>

    </div>
</div>
</div>

<div class="output_wrapper">
<div class="output">


<div class="output_area">

    <div class="prompt"></div>


<div class="output_subarea output_stream output_stdout output_text">
<pre>The OCaml toplevel, version 4.04.2
</pre>
</div>
</div>

<div class="output_area">

    <div class="prompt output_prompt">Out[1]:</div>




<div class="output_text output_subarea output_execute_result">
<pre>- : int = 0
</pre>
</div>

</div>

</div>
</div>

</div>
<div class="cell border-box-sizing text_cell rendered"><div class="prompt input_prompt">
</div><div class="inner_cell">
<div class="text_cell_render border-box-sizing rendered_html">
<blockquote><p>Notez que certaines fonctions des modules usuels <a href="http://caml.inria.fr/pub/docs/manual-ocaml/libref/List.html"><code>List</code></a> et <a href="http://caml.inria.fr/pub/docs/manual-ocaml/libref/List.html"><code>Array</code></a> ne sont pas disponibles en OCaml 3.12.
J'essaie autant que possible de ne pas les utiliser, ou alors de les redéfinir si je m'en sers.</p>
</blockquote>

</div>
</div>
</div>
<div class="cell border-box-sizing text_cell rendered"><div class="prompt input_prompt">
</div><div class="inner_cell">
<div class="text_cell_render border-box-sizing rendered_html">
<hr>

</div>
</div>
</div>
<div class="cell border-box-sizing text_cell rendered"><div class="prompt input_prompt">
</div><div class="inner_cell">
<div class="text_cell_render border-box-sizing rendered_html">
<h2 id="Question-de-programmation">Question de programmation<a class="anchor-link" href="#Question-de-programmation">&#182;</a></h2>
</div>
</div>
</div>
<div class="cell border-box-sizing text_cell rendered"><div class="prompt input_prompt">
</div><div class="inner_cell">
<div class="text_cell_render border-box-sizing rendered_html">
<p>La question de programmation pour ce texte était donnée en question II.1 et II.2 en page 7 :</p>
<blockquote><ul>
<li><p>"II.1) Écrire un programme de décodage, qui prend en entrée une suite de caractère codant un symbole (avec une erreur possible), et qui renvoie ce symbole."</p>
</li>
<li><p>"II.2) Écrire un programme qui décode une suite de symboles."</p>
</li>
</ul>
</blockquote>

</div>
</div>
</div>
<div class="cell border-box-sizing text_cell rendered"><div class="prompt input_prompt">
</div><div class="inner_cell">
<div class="text_cell_render border-box-sizing rendered_html">
<hr>

</div>
</div>
</div>
<div class="cell border-box-sizing text_cell rendered"><div class="prompt input_prompt">
</div><div class="inner_cell">
<div class="text_cell_render border-box-sizing rendered_html">
<h2 id="R&#233;ponse-&#224;-l'exercice-requis">R&#233;ponse &#224; l'exercice requis<a class="anchor-link" href="#R&#233;ponse-&#224;-l'exercice-requis">&#182;</a></h2>
</div>
</div>
</div>
<div class="cell border-box-sizing text_cell rendered"><div class="prompt input_prompt">
</div><div class="inner_cell">
<div class="text_cell_render border-box-sizing rendered_html">
<h3 id="Rapide-v&#233;rification-du-d&#233;nombrement-annonc&#233;">Rapide v&#233;rification du d&#233;nombrement annonc&#233;<a class="anchor-link" href="#Rapide-v&#233;rification-du-d&#233;nombrement-annonc&#233;">&#182;</a></h3><p>On veut vérifier, numériquement, que le nombre de stratégies pour le jeu à $n$ joueurs, annoncé à $3^{(n 2^{n-1})}$, vaut bien $531441$ pour $n=3$, et de l'ordre de $1.853 \; 10^{15}$ pour $n=4$.</p>

</div>
</div>
</div>
<div class="cell border-box-sizing code_cell rendered">
<div class="input">
<div class="prompt input_prompt">In&nbsp;[2]:</div>
<div class="inner_cell">
    <div class="input_area">
<div class=" highlight hl-OCaml"><pre><span></span><span class="k">let</span> <span class="n">denombrement_regles</span> <span class="n">n</span> <span class="o">=</span>
    <span class="mi">3</span><span class="o">.</span> <span class="o">**</span> <span class="o">(</span><span class="n">n</span> <span class="o">*.</span> <span class="o">(</span><span class="mi">2</span><span class="o">.</span> <span class="o">**</span> <span class="o">(</span><span class="n">n</span> <span class="o">-.</span> <span class="mi">1</span><span class="o">.)));;</span>
</pre></div>

    </div>
</div>
</div>

<div class="output_wrapper">
<div class="output">


<div class="output_area">

    <div class="prompt output_prompt">Out[2]:</div>




<div class="output_text output_subarea output_execute_result">
<pre>val denombrement_regles : float -&gt; float = &lt;fun&gt;
</pre>
</div>

</div>

</div>
</div>

</div>
<div class="cell border-box-sizing code_cell rendered">
<div class="input">
<div class="prompt input_prompt">In&nbsp;[3]:</div>
<div class="inner_cell">
    <div class="input_area">
<div class=" highlight hl-OCaml"><pre><span></span><span class="n">denombrement_regles</span> <span class="mi">3</span><span class="o">.;;</span>
</pre></div>

    </div>
</div>
</div>

<div class="output_wrapper">
<div class="output">


<div class="output_area">

    <div class="prompt output_prompt">Out[3]:</div>




<div class="output_text output_subarea output_execute_result">
<pre>- : float = 531441.
</pre>
</div>

</div>

</div>
</div>

</div>
<div class="cell border-box-sizing code_cell rendered">
<div class="input">
<div class="prompt input_prompt">In&nbsp;[4]:</div>
<div class="inner_cell">
    <div class="input_area">
<div class=" highlight hl-OCaml"><pre><span></span><span class="n">denombrement_regles</span> <span class="mi">4</span><span class="o">.;;</span>
</pre></div>

    </div>
</div>
</div>

<div class="output_wrapper">
<div class="output">


<div class="output_area">

    <div class="prompt output_prompt">Out[4]:</div>




<div class="output_text output_subarea output_execute_result">
<pre>- : float = 1853020188851841.
</pre>
</div>

</div>

</div>
</div>

</div>
<div class="cell border-box-sizing text_cell rendered"><div class="prompt input_prompt">
</div><div class="inner_cell">
<div class="text_cell_render border-box-sizing rendered_html">
<p>C'est bon. C'était inutile, mais autant s'échauffer sur un petit truc rapide et facile.</p>

</div>
</div>
</div>
<div class="cell border-box-sizing text_cell rendered"><div class="prompt input_prompt">
</div><div class="inner_cell">
<div class="text_cell_render border-box-sizing rendered_html">
<hr>
<h3 id="Q.II.1)-D&#233;codage-d'un-symbole">Q.II.1) D&#233;codage d'un symbole<a class="anchor-link" href="#Q.II.1)-D&#233;codage-d'un-symbole">&#182;</a></h3>
</div>
</div>
</div>
<div class="cell border-box-sizing text_cell rendered"><div class="prompt input_prompt">
</div><div class="inner_cell">
<div class="text_cell_render border-box-sizing rendered_html">
<h4 id="Structures-et-types-de-donn&#233;es">Structures et types de donn&#233;es<a class="anchor-link" href="#Structures-et-types-de-donn&#233;es">&#182;</a></h4><p>Comme toujours, on commence par proposer des structures de données (et déclarer des types) adaptés au problème.</p>
<p>Ici, il nous faut un type de donnée pour les caractères (<code>0</code> ou <code>1</code>), les suites de caractères (e.g., <code>0011</code>), et les symboles (e.g., <code>'A'</code>).</p>

</div>
</div>
</div>
<div class="cell border-box-sizing code_cell rendered">
<div class="input">
<div class="prompt input_prompt">In&nbsp;[5]:</div>
<div class="inner_cell">
    <div class="input_area">
<div class=" highlight hl-OCaml"><pre><span></span><span class="k">type</span> <span class="n">caractere</span> <span class="o">=</span> <span class="kt">int</span><span class="o">;;</span>

<span class="k">type</span> <span class="n">suite_caracteres</span> <span class="o">=</span> <span class="n">caractere</span> <span class="kt">array</span><span class="o">;;</span>

<span class="k">type</span> <span class="n">symbole</span> <span class="o">=</span> <span class="kt">string</span><span class="o">;;</span>
</pre></div>

    </div>
</div>
</div>

<div class="output_wrapper">
<div class="output">


<div class="output_area">

    <div class="prompt output_prompt">Out[5]:</div>




<div class="output_text output_subarea output_execute_result">
<pre>type caractere = int
</pre>
</div>

</div>

<div class="output_area">

    <div class="prompt output_prompt">Out[5]:</div>




<div class="output_text output_subarea output_execute_result">
<pre>type suite_caracteres = caractere array
</pre>
</div>

</div>

<div class="output_area">

    <div class="prompt output_prompt">Out[5]:</div>




<div class="output_text output_subarea output_execute_result">
<pre>type symbole = string
</pre>
</div>

</div>

</div>
</div>

</div>
<div class="cell border-box-sizing text_cell rendered"><div class="prompt input_prompt">
</div><div class="inner_cell">
<div class="text_cell_render border-box-sizing rendered_html">
<p>On préfère utiliser des <em>tableaux</em> plutôt que des listes puisque leur taille sera fixe, et qu'aucune récursion ne semble utile ici.</p>
<p>Plutôt que de restreindre les symboles à être des <code>char</code> (une seule lettre), on autorise directement des chaînes entières.</p>

</div>
</div>
</div>
<div class="cell border-box-sizing text_cell rendered"><div class="prompt input_prompt">
</div><div class="inner_cell">
<div class="text_cell_render border-box-sizing rendered_html">
<p>Ensuite, il faut une structure de données qui représente le <em>codage de Hamming</em>, c'est-à-dire la liste des suites de caractère associé à un symbole.</p>
<ul>
<li>Une façon élégante serait d'utiliser des tables d'associations (avec le module <code>Map</code>), mais c'est un peu trop compliqué pour l'utilisation simple qu'on va en faire.</li>
<li>On choisit donc d'utiliser de simples listes de paires <code>(suite, symbole)</code>, et l'association d'une suite de caractère à son symbole utilisera <code>List.assoc</code>.</li>
</ul>

</div>
</div>
</div>
<div class="cell border-box-sizing code_cell rendered">
<div class="input">
<div class="prompt input_prompt">In&nbsp;[6]:</div>
<div class="inner_cell">
    <div class="input_area">
<div class=" highlight hl-OCaml"><pre><span></span><span class="k">type</span> <span class="n">codage</span> <span class="o">=</span> <span class="o">(</span><span class="n">suite_caracteres</span> <span class="o">*</span> <span class="n">symbole</span><span class="o">);;</span>

<span class="k">type</span> <span class="n">codage_hamming</span> <span class="o">=</span> <span class="n">codage</span> <span class="kt">list</span><span class="o">;;</span>
</pre></div>

    </div>
</div>
</div>

<div class="output_wrapper">
<div class="output">


<div class="output_area">

    <div class="prompt output_prompt">Out[6]:</div>




<div class="output_text output_subarea output_execute_result">
<pre>type codage = suite_caracteres * symbole
</pre>
</div>

</div>

<div class="output_area">

    <div class="prompt output_prompt">Out[6]:</div>




<div class="output_text output_subarea output_execute_result">
<pre>type codage_hamming = codage list
</pre>
</div>

</div>

</div>
</div>

</div>
<div class="cell border-box-sizing text_cell rendered"><div class="prompt input_prompt">
</div><div class="inner_cell">
<div class="text_cell_render border-box-sizing rendered_html">
<h4 id="Exemples">Exemples<a class="anchor-link" href="#Exemples">&#182;</a></h4><p>On peut commencer par définir les exemples du textes (page 5).</p>

</div>
</div>
</div>
<div class="cell border-box-sizing code_cell rendered">
<div class="input">
<div class="prompt input_prompt">In&nbsp;[7]:</div>
<div class="inner_cell">
    <div class="input_area">
<div class=" highlight hl-OCaml"><pre><span></span><span class="k">let</span> <span class="n">n</span> <span class="o">=</span> <span class="mi">7</span> <span class="o">;;</span>

<span class="k">let</span> <span class="n">suite1</span> <span class="o">:</span> <span class="n">suite_caracteres</span> <span class="o">=</span> <span class="o">[|</span> <span class="mi">0</span><span class="o">;</span><span class="mi">0</span><span class="o">;</span><span class="mi">0</span><span class="o">;</span><span class="mi">0</span><span class="o">;</span><span class="mi">0</span><span class="o">;</span><span class="mi">0</span><span class="o">;</span><span class="mi">0</span> <span class="o">|];;</span>
<span class="k">let</span> <span class="n">suite2</span> <span class="o">:</span> <span class="n">suite_caracteres</span> <span class="o">=</span> <span class="o">[|</span> <span class="mi">1</span><span class="o">;</span><span class="mi">1</span><span class="o">;</span><span class="mi">1</span><span class="o">;</span><span class="mi">1</span><span class="o">;</span><span class="mi">1</span><span class="o">;</span><span class="mi">1</span><span class="o">;</span><span class="mi">1</span> <span class="o">|];;</span>
<span class="k">let</span> <span class="n">suite3</span> <span class="o">:</span> <span class="n">suite_caracteres</span> <span class="o">=</span> <span class="o">[|</span> <span class="mi">0</span><span class="o">;</span><span class="mi">1</span><span class="o">;</span><span class="mi">0</span><span class="o">;</span><span class="mi">1</span><span class="o">;</span><span class="mi">0</span><span class="o">;</span><span class="mi">1</span><span class="o">;</span><span class="mi">0</span> <span class="o">|];;</span>
<span class="k">let</span> <span class="n">suite4</span> <span class="o">:</span> <span class="n">suite_caracteres</span> <span class="o">=</span> <span class="o">[|</span> <span class="mi">1</span><span class="o">;</span><span class="mi">0</span><span class="o">;</span><span class="mi">1</span><span class="o">;</span><span class="mi">0</span><span class="o">;</span><span class="mi">1</span><span class="o">;</span><span class="mi">0</span><span class="o">;</span><span class="mi">1</span> <span class="o">|];;</span>
</pre></div>

    </div>
</div>
</div>

<div class="output_wrapper">
<div class="output">


<div class="output_area">

    <div class="prompt output_prompt">Out[7]:</div>




<div class="output_text output_subarea output_execute_result">
<pre>val n : int = 7
</pre>
</div>

</div>

<div class="output_area">

    <div class="prompt output_prompt">Out[7]:</div>




<div class="output_text output_subarea output_execute_result">
<pre>val suite1 : suite_caracteres = [|0; 0; 0; 0; 0; 0; 0|]
</pre>
</div>

</div>

<div class="output_area">

    <div class="prompt output_prompt">Out[7]:</div>




<div class="output_text output_subarea output_execute_result">
<pre>val suite2 : suite_caracteres = [|1; 1; 1; 1; 1; 1; 1|]
</pre>
</div>

</div>

<div class="output_area">

    <div class="prompt output_prompt">Out[7]:</div>




<div class="output_text output_subarea output_execute_result">
<pre>val suite3 : suite_caracteres = [|0; 1; 0; 1; 0; 1; 0|]
</pre>
</div>

</div>

<div class="output_area">

    <div class="prompt output_prompt">Out[7]:</div>




<div class="output_text output_subarea output_execute_result">
<pre>val suite4 : suite_caracteres = [|1; 0; 1; 0; 1; 0; 1|]
</pre>
</div>

</div>

</div>
</div>

</div>
<div class="cell border-box-sizing code_cell rendered">
<div class="input">
<div class="prompt input_prompt">In&nbsp;[8]:</div>
<div class="inner_cell">
    <div class="input_area">
<div class=" highlight hl-OCaml"><pre><span></span><span class="k">let</span> <span class="n">codage_ex1</span> <span class="o">:</span> <span class="n">codage_hamming</span> <span class="o">=</span> <span class="o">[</span>
    <span class="o">(</span><span class="n">suite1</span><span class="o">,</span> <span class="s2">&quot;A&quot;</span><span class="o">);</span>
    <span class="o">(</span><span class="n">suite2</span><span class="o">,</span> <span class="s2">&quot;B&quot;</span><span class="o">);</span>
    <span class="o">(</span><span class="n">suite3</span><span class="o">,</span> <span class="s2">&quot;C&quot;</span><span class="o">);</span>
    <span class="o">(</span><span class="n">suite4</span><span class="o">,</span> <span class="s2">&quot;D&quot;</span><span class="o">)</span>
<span class="o">];;</span>
</pre></div>

    </div>
</div>
</div>

<div class="output_wrapper">
<div class="output">


<div class="output_area">

    <div class="prompt output_prompt">Out[8]:</div>




<div class="output_text output_subarea output_execute_result">
<pre>val codage_ex1 : codage_hamming =
  [([|0; 0; 0; 0; 0; 0; 0|], &#34;A&#34;); ([|1; 1; 1; 1; 1; 1; 1|], &#34;B&#34;);
   ([|0; 1; 0; 1; 0; 1; 0|], &#34;C&#34;); ([|1; 0; 1; 0; 1; 0; 1|], &#34;D&#34;)]
</pre>
</div>

</div>

</div>
</div>

</div>
<div class="cell border-box-sizing text_cell rendered"><div class="prompt input_prompt">
</div><div class="inner_cell">
<div class="text_cell_render border-box-sizing rendered_html">
<p>L'association se fait facilement :</p>

</div>
</div>
</div>
<div class="cell border-box-sizing code_cell rendered">
<div class="input">
<div class="prompt input_prompt">In&nbsp;[9]:</div>
<div class="inner_cell">
    <div class="input_area">
<div class=" highlight hl-OCaml"><pre><span></span><span class="k">let</span> <span class="n">quel_symbole</span> <span class="o">(</span><span class="n">code</span> <span class="o">:</span> <span class="n">codage_hamming</span><span class="o">)</span> <span class="o">(</span><span class="n">suite</span> <span class="o">:</span> <span class="n">suite_caracteres</span><span class="o">)</span> <span class="o">:</span> <span class="n">symbole</span> <span class="o">=</span>
    <span class="nn">List</span><span class="p">.</span><span class="n">assoc</span> <span class="n">suite</span> <span class="n">code</span>
<span class="o">;;</span>
</pre></div>

    </div>
</div>
</div>

<div class="output_wrapper">
<div class="output">


<div class="output_area">

    <div class="prompt output_prompt">Out[9]:</div>




<div class="output_text output_subarea output_execute_result">
<pre>val quel_symbole : codage_hamming -&gt; suite_caracteres -&gt; symbole = &lt;fun&gt;
</pre>
</div>

</div>

</div>
</div>

</div>
<div class="cell border-box-sizing code_cell rendered">
<div class="input">
<div class="prompt input_prompt">In&nbsp;[10]:</div>
<div class="inner_cell">
    <div class="input_area">
<div class=" highlight hl-OCaml"><pre><span></span><span class="n">quel_symbole</span> <span class="n">codage_ex1</span> <span class="n">suite3</span><span class="o">;;</span> <span class="c">(* = &quot;C&quot; *)</span>
</pre></div>

    </div>
</div>
</div>

<div class="output_wrapper">
<div class="output">


<div class="output_area">

    <div class="prompt output_prompt">Out[10]:</div>




<div class="output_text output_subarea output_execute_result">
<pre>- : symbole = &#34;C&#34;
</pre>
</div>

</div>

</div>
</div>

</div>
<div class="cell border-box-sizing text_cell rendered"><div class="prompt input_prompt">
</div><div class="inner_cell">
<div class="text_cell_render border-box-sizing rendered_html">
<h4 id="Algorithme-de-d&#233;codage-d'une-s&#233;quence-de-caract&#232;res">Algorithme de d&#233;codage d'une s&#233;quence de caract&#232;res<a class="anchor-link" href="#Algorithme-de-d&#233;codage-d'une-s&#233;quence-de-caract&#232;res">&#182;</a></h4><p>Pourquoi a-t-on besoin de définir un codage (liste des séquences et de leur symbole associé) ?</p>
<p>Et bien tout simplement parce que l'algorithme de décodage demandé en Q.II.2) nécessite de connaître le codage, pour savoir quelle séquence doit être associé à une séquence donnée (quelle erreur a été commise).</p>
<p>L'algorithme en question est assez simple à concevoir :</p>
<ul>
<li>Il prendra en entrée : un codage <code>code</code> (supposé de Hamming), et une séquence de caractère <code>seq</code>.</li>
<li>Il devra renvoyer un et un seul symbole, associé à la séquence <code>seq</code> par le codage de Hamming <code>code</code>.</li>
</ul>
<p>Il fonctionnera comme ça :</p>
<ul>
<li>Pour chaque séquence <code>seq_i</code> du codage, vérifie si <code>seq</code> a été obtenue depuis <code>seq_i</code> par <em>une et une seule</em> modification d'un caractère (fonction <code>est_issue</code>),</li>
<li>si une unique séquence <code>seq_i</code> valide a été trouvée, alors le symbole associé par <code>code</code> à <code>seq_i</code> est celui associé à <code>seq</code>,</li>
<li>par contre, si aucune séquence ou si au moins deux séquences ont été trouvées, alors l'algorithme échouée (avec <code>Assert_failure</code>).</li>
</ul>

</div>
</div>
</div>
<div class="cell border-box-sizing text_cell rendered"><div class="prompt input_prompt">
</div><div class="inner_cell">
<div class="text_cell_render border-box-sizing rendered_html">
<h4 id="Terminaison">Terminaison<a class="anchor-link" href="#Terminaison">&#182;</a></h4><p>L'algorithme décrit ci-dessus ne fait que des boucles <code>for</code> sur l'ensemble des séquences du codage de Hamming, et sur les caractères, donc termine (évidemment).</p>

</div>
</div>
</div>
<div class="cell border-box-sizing text_cell rendered"><div class="prompt input_prompt">
</div><div class="inner_cell">
<div class="text_cell_render border-box-sizing rendered_html">
<h4 id="Correction-?">Correction ?<a class="anchor-link" href="#Correction-?">&#182;</a></h4><p>Si la séquence d'entrée a effectivement été obtenue par une modification d'un <em>seul</em> caractère d'une des séquence du codage d'entrée, l'hypothèse de Hamming impose que l'algorithme va la trouver, et qu'il n'en existe qu'une.
Donc le symbole renvoyé par l'algorithme décrit ci-dessus est correct.</p>

</div>
</div>
</div>
<div class="cell border-box-sizing text_cell rendered"><div class="prompt input_prompt">
</div><div class="inner_cell">
<div class="text_cell_render border-box-sizing rendered_html">
<h4 id="Complexit&#233;-en-temps-(et-espace)">Complexit&#233; en temps (et espace)<a class="anchor-link" href="#Complexit&#233;-en-temps-(et-espace)">&#182;</a></h4><ul>
<li><p>En mémoire, il n'utilise qu'au maximum une mémoire égale à celle de son entrée, donc l'algorithme de décodage d'<em>une</em> séquence est linéaire en mémoire.</p>
</li>
<li><p>En temps, les deux boucles <code>for</code> imbriquées sont en $\mathcal{O}(N)$ pour la boucle sur les <code>N</code> séquences de caractères du codage, et en $\mathcal{O}(n)$ pour chaque caractère des séquences, soit en $\mathcal{O}(N n)$ finalement, ce qui est de l'ordre de la taille du codage, donc l'algorithme de décodage d'<em>une</em> séquence est aussi linéaire en temps.</p>
</li>
</ul>

</div>
</div>
</div>
<div class="cell border-box-sizing text_cell rendered"><div class="prompt input_prompt">
</div><div class="inner_cell">
<div class="text_cell_render border-box-sizing rendered_html">
<h4 id="La-sous-fonction-est_issue_de">La sous-fonction <code>est_issue_de</code><a class="anchor-link" href="#La-sous-fonction-est_issue_de">&#182;</a></h4><p>On écrit chaque morceau, un par un.</p>

</div>
</div>
</div>
<div class="cell border-box-sizing text_cell rendered"><div class="prompt input_prompt">
</div><div class="inner_cell">
<div class="text_cell_render border-box-sizing rendered_html">
<p>On a besoin de pouvoir extraire un sous-tableau en enlevant juste une case.</p>

</div>
</div>
</div>
<div class="cell border-box-sizing code_cell rendered">
<div class="input">
<div class="prompt input_prompt">In&nbsp;[11]:</div>
<div class="inner_cell">
    <div class="input_area">
<div class=" highlight hl-OCaml"><pre><span></span><span class="k">let</span> <span class="n">sans_j</span> <span class="n">tab</span> <span class="n">j</span> <span class="o">=</span>
    <span class="k">let</span> <span class="n">n</span> <span class="o">=</span> <span class="nn">Array</span><span class="p">.</span><span class="n">length</span> <span class="n">tab</span> <span class="k">in</span>
    <span class="k">let</span> <span class="n">indice</span> <span class="n">i</span> <span class="o">=</span>
        <span class="k">if</span> <span class="n">i</span> <span class="o">&lt;</span> <span class="n">j</span> <span class="k">then</span> <span class="n">i</span> <span class="k">else</span> <span class="n">i</span> <span class="o">+</span> <span class="mi">1</span>
    <span class="k">in</span> <span class="nn">Array</span><span class="p">.</span><span class="n">init</span> <span class="o">(</span><span class="n">n</span> <span class="o">-</span> <span class="mi">1</span><span class="o">)</span> <span class="o">(</span><span class="k">fun</span> <span class="n">i</span> <span class="o">-&gt;</span> <span class="n">tab</span><span class="o">.(</span><span class="n">indice</span> <span class="n">i</span><span class="o">))</span>
    <span class="c">(* Autre approche :</span>
<span class="c">    let gauche = j</span>
<span class="c">    and droite = n - j - 1</span>
<span class="c">    in</span>
<span class="c">    Array.append</span>
<span class="c">        (Array.init gauche (fun i -&gt; tab.(i)))</span>
<span class="c">        (Array.init droite (fun i -&gt; tab.(j + i + 1)))</span>
<span class="c">    *)</span>

<span class="o">;;</span>
</pre></div>

    </div>
</div>
</div>

<div class="output_wrapper">
<div class="output">


<div class="output_area">

    <div class="prompt output_prompt">Out[11]:</div>




<div class="output_text output_subarea output_execute_result">
<pre>val sans_j : &#39;a array -&gt; int -&gt; &#39;a array = &lt;fun&gt;
</pre>
</div>

</div>

</div>
</div>

</div>
<div class="cell border-box-sizing text_cell rendered"><div class="prompt input_prompt">
</div><div class="inner_cell">
<div class="text_cell_render border-box-sizing rendered_html">
<blockquote><p><em>Note</em> : Ici, j'ai préféré utiliser une fonction qui renvoie <code>tab.(i)</code> ou bien <code>tab.(i + 1)</code> selon que <code>i &lt; j</code> ou <code>j &lt; i</code>, mais on pourrait aussi faire deux tableaux, et les concaténer avec <code>Array.append</code>.</p>
</blockquote>

</div>
</div>
</div>
<div class="cell border-box-sizing code_cell rendered">
<div class="input">
<div class="prompt input_prompt">In&nbsp;[12]:</div>
<div class="inner_cell">
    <div class="input_area">
<div class=" highlight hl-OCaml"><pre><span></span><span class="n">sans_j</span> <span class="o">[|</span><span class="mi">0</span><span class="o">;</span><span class="mi">1</span><span class="o">;</span><span class="mi">2</span><span class="o">;</span><span class="mi">3</span><span class="o">|]</span> <span class="mi">0</span><span class="o">;;</span>
<span class="n">sans_j</span> <span class="o">[|</span><span class="mi">0</span><span class="o">;</span><span class="mi">1</span><span class="o">;</span><span class="mi">2</span><span class="o">;</span><span class="mi">3</span><span class="o">|]</span> <span class="mi">1</span><span class="o">;;</span>
<span class="n">sans_j</span> <span class="o">[|</span><span class="mi">0</span><span class="o">;</span><span class="mi">1</span><span class="o">;</span><span class="mi">2</span><span class="o">;</span><span class="mi">3</span><span class="o">|]</span> <span class="mi">2</span><span class="o">;;</span>
<span class="n">sans_j</span> <span class="o">[|</span><span class="mi">0</span><span class="o">;</span><span class="mi">1</span><span class="o">;</span><span class="mi">2</span><span class="o">;</span><span class="mi">3</span><span class="o">|]</span> <span class="mi">3</span><span class="o">;;</span>
</pre></div>

    </div>
</div>
</div>

<div class="output_wrapper">
<div class="output">


<div class="output_area">

    <div class="prompt output_prompt">Out[12]:</div>




<div class="output_text output_subarea output_execute_result">
<pre>- : int array = [|1; 2; 3|]
</pre>
</div>

</div>

<div class="output_area">

    <div class="prompt output_prompt">Out[12]:</div>




<div class="output_text output_subarea output_execute_result">
<pre>- : int array = [|0; 2; 3|]
</pre>
</div>

</div>

<div class="output_area">

    <div class="prompt output_prompt">Out[12]:</div>




<div class="output_text output_subarea output_execute_result">
<pre>- : int array = [|0; 1; 3|]
</pre>
</div>

</div>

<div class="output_area">

    <div class="prompt output_prompt">Out[12]:</div>




<div class="output_text output_subarea output_execute_result">
<pre>- : int array = [|0; 1; 2|]
</pre>
</div>

</div>

</div>
</div>

</div>
<div class="cell border-box-sizing text_cell rendered"><div class="prompt input_prompt">
</div><div class="inner_cell">
<div class="text_cell_render border-box-sizing rendered_html">
<p>Ensuite, il nous faut pouvoir établir que deux tableaux sont égaux (case par case).
C'est déjà le cas, via le test <code>=</code> en Caml :</p>

</div>
</div>
</div>
<div class="cell border-box-sizing code_cell rendered">
<div class="input">
<div class="prompt input_prompt">In&nbsp;[13]:</div>
<div class="inner_cell">
    <div class="input_area">
<div class=" highlight hl-OCaml"><pre><span></span><span class="o">[|</span><span class="mi">1</span><span class="o">;</span><span class="mi">2</span><span class="o">;</span><span class="mi">3</span><span class="o">|]</span> <span class="o">=</span> <span class="o">[|</span><span class="mi">3</span><span class="o">;</span><span class="mi">4</span><span class="o">;</span><span class="mi">1</span><span class="o">|];;</span>
<span class="o">[|</span><span class="mi">1</span><span class="o">;</span><span class="mi">2</span><span class="o">;</span><span class="mi">3</span><span class="o">|]</span> <span class="o">=</span> <span class="o">[|</span><span class="mi">1</span><span class="o">;</span><span class="mi">2</span><span class="o">;</span><span class="mi">3</span><span class="o">|]</span>
</pre></div>

    </div>
</div>
</div>

<div class="output_wrapper">
<div class="output">


<div class="output_area">

    <div class="prompt output_prompt">Out[13]:</div>




<div class="output_text output_subarea output_execute_result">
<pre>- : bool = false
</pre>
</div>

</div>

<div class="output_area">

    <div class="prompt output_prompt">Out[13]:</div>




<div class="output_text output_subarea output_execute_result">
<pre>- : bool = true
</pre>
</div>

</div>

</div>
</div>

</div>
<div class="cell border-box-sizing text_cell rendered"><div class="prompt input_prompt">
</div><div class="inner_cell">
<div class="text_cell_render border-box-sizing rendered_html">
<p>Donc on peut facilement vérifier si une séquence <code>seq</code> a été issue depuis <code>seq_i</code> par une modification de la case numéro <code>j</code> :</p>

</div>
</div>
</div>
<div class="cell border-box-sizing code_cell rendered">
<div class="input">
<div class="prompt input_prompt">In&nbsp;[14]:</div>
<div class="inner_cell">
    <div class="input_area">
<div class=" highlight hl-OCaml"><pre><span></span><span class="k">let</span> <span class="n">est_issue_de_en_j</span> <span class="o">(</span><span class="n">seq_i</span> <span class="o">:</span> <span class="n">suite_caracteres</span><span class="o">)</span> <span class="o">(</span><span class="n">seq</span> <span class="o">:</span> <span class="n">suite_caracteres</span><span class="o">)</span> <span class="o">(</span><span class="n">j</span> <span class="o">:</span> <span class="kt">int</span><span class="o">)</span> <span class="o">=</span>
   <span class="k">let</span> <span class="n">seq_i_sansj</span> <span class="o">=</span> <span class="n">sans_j</span> <span class="n">seq_i</span> <span class="n">j</span> <span class="k">in</span>
   <span class="k">let</span> <span class="n">seq_sansj</span> <span class="o">=</span> <span class="n">sans_j</span> <span class="n">seq</span> <span class="n">j</span> <span class="k">in</span>
   <span class="n">seq_i_sansj</span> <span class="o">=</span> <span class="n">seq_sansj</span>
<span class="o">;;</span>
</pre></div>

    </div>
</div>
</div>

<div class="output_wrapper">
<div class="output">


<div class="output_area">

    <div class="prompt output_prompt">Out[14]:</div>




<div class="output_text output_subarea output_execute_result">
<pre>val est_issue_de_en_j : suite_caracteres -&gt; suite_caracteres -&gt; int -&gt; bool =
  &lt;fun&gt;
</pre>
</div>

</div>

</div>
</div>

</div>
<div class="cell border-box-sizing code_cell rendered">
<div class="input">
<div class="prompt input_prompt">In&nbsp;[15]:</div>
<div class="inner_cell">
    <div class="input_area">
<div class=" highlight hl-OCaml"><pre><span></span><span class="n">suite1</span><span class="o">;;</span>
<span class="n">est_issue_de_en_j</span> <span class="n">suite1</span> <span class="n">suite1</span> <span class="mi">0</span><span class="o">;;</span>

<span class="k">let</span> <span class="n">suite1_delta0</span> <span class="o">=</span> <span class="o">[|</span><span class="mi">1</span><span class="o">;</span> <span class="mi">0</span><span class="o">;</span> <span class="mi">0</span><span class="o">;</span> <span class="mi">0</span><span class="o">;</span> <span class="mi">0</span><span class="o">;</span> <span class="mi">0</span><span class="o">;</span> <span class="mi">0</span><span class="o">|];;</span>

<span class="n">est_issue_de_en_j</span> <span class="n">suite1</span> <span class="n">suite1_delta0</span> <span class="mi">0</span><span class="o">;;</span>
<span class="n">est_issue_de_en_j</span> <span class="n">suite1</span> <span class="n">suite1_delta0</span> <span class="mi">1</span><span class="o">;;</span>
<span class="n">est_issue_de_en_j</span> <span class="n">suite1</span> <span class="n">suite1_delta0</span> <span class="mi">4</span><span class="o">;;</span>
<span class="n">est_issue_de_en_j</span> <span class="n">suite1</span> <span class="n">suite1_delta0</span> <span class="mi">6</span><span class="o">;;</span>

<span class="k">let</span> <span class="n">suite1_delta5</span> <span class="o">=</span> <span class="o">[|</span><span class="mi">0</span><span class="o">;</span> <span class="mi">0</span><span class="o">;</span> <span class="mi">0</span><span class="o">;</span> <span class="mi">0</span><span class="o">;</span> <span class="mi">0</span><span class="o">;</span> <span class="mi">1</span><span class="o">;</span> <span class="mi">0</span><span class="o">|];;</span>

<span class="n">est_issue_de_en_j</span> <span class="n">suite1</span> <span class="n">suite1_delta5</span> <span class="mi">3</span><span class="o">;;</span>
<span class="n">est_issue_de_en_j</span> <span class="n">suite1</span> <span class="n">suite1_delta5</span> <span class="mi">4</span><span class="o">;;</span>
<span class="n">est_issue_de_en_j</span> <span class="n">suite1</span> <span class="n">suite1_delta5</span> <span class="mi">5</span><span class="o">;;</span>
<span class="n">est_issue_de_en_j</span> <span class="n">suite1</span> <span class="n">suite1_delta5</span> <span class="mi">6</span><span class="o">;;</span>
</pre></div>

    </div>
</div>
</div>

<div class="output_wrapper">
<div class="output">


<div class="output_area">

    <div class="prompt output_prompt">Out[15]:</div>




<div class="output_text output_subarea output_execute_result">
<pre>- : suite_caracteres = [|0; 0; 0; 0; 0; 0; 0|]
</pre>
</div>

</div>

<div class="output_area">

    <div class="prompt output_prompt">Out[15]:</div>




<div class="output_text output_subarea output_execute_result">
<pre>- : bool = true
</pre>
</div>

</div>

<div class="output_area">

    <div class="prompt output_prompt">Out[15]:</div>




<div class="output_text output_subarea output_execute_result">
<pre>val suite1_delta0 : int array = [|1; 0; 0; 0; 0; 0; 0|]
</pre>
</div>

</div>

<div class="output_area">

    <div class="prompt output_prompt">Out[15]:</div>




<div class="output_text output_subarea output_execute_result">
<pre>- : bool = true
</pre>
</div>

</div>

<div class="output_area">

    <div class="prompt output_prompt">Out[15]:</div>




<div class="output_text output_subarea output_execute_result">
<pre>- : bool = false
</pre>
</div>

</div>

<div class="output_area">

    <div class="prompt output_prompt">Out[15]:</div>




<div class="output_text output_subarea output_execute_result">
<pre>- : bool = false
</pre>
</div>

</div>

<div class="output_area">

    <div class="prompt output_prompt">Out[15]:</div>




<div class="output_text output_subarea output_execute_result">
<pre>- : bool = false
</pre>
</div>

</div>

<div class="output_area">

    <div class="prompt output_prompt">Out[15]:</div>




<div class="output_text output_subarea output_execute_result">
<pre>val suite1_delta5 : int array = [|0; 0; 0; 0; 0; 1; 0|]
</pre>
</div>

</div>

<div class="output_area">

    <div class="prompt output_prompt">Out[15]:</div>




<div class="output_text output_subarea output_execute_result">
<pre>- : bool = false
</pre>
</div>

</div>

<div class="output_area">

    <div class="prompt output_prompt">Out[15]:</div>




<div class="output_text output_subarea output_execute_result">
<pre>- : bool = false
</pre>
</div>

</div>

<div class="output_area">

    <div class="prompt output_prompt">Out[15]:</div>




<div class="output_text output_subarea output_execute_result">
<pre>- : bool = true
</pre>
</div>

</div>

<div class="output_area">

    <div class="prompt output_prompt">Out[15]:</div>




<div class="output_text output_subarea output_execute_result">
<pre>- : bool = false
</pre>
</div>

</div>

</div>
</div>

</div>
<div class="cell border-box-sizing text_cell rendered"><div class="prompt input_prompt">
</div><div class="inner_cell">
<div class="text_cell_render border-box-sizing rendered_html">
<p>Pour finir, il faut vérifier qu'<em>un et un seul</em> indice <code>j</code> est valide.</p>

</div>
</div>
</div>
<div class="cell border-box-sizing code_cell rendered">
<div class="input">
<div class="prompt input_prompt">In&nbsp;[16]:</div>
<div class="inner_cell">
    <div class="input_area">
<div class=" highlight hl-OCaml"><pre><span></span><span class="k">let</span> <span class="n">est_issue_de</span> <span class="o">(</span><span class="n">seq_i</span> <span class="o">:</span> <span class="n">suite_caracteres</span><span class="o">)</span> <span class="o">(</span><span class="n">seq</span> <span class="o">:</span> <span class="n">suite_caracteres</span><span class="o">)</span> <span class="o">=</span>
    <span class="k">let</span> <span class="n">taille</span> <span class="o">=</span> <span class="nn">Array</span><span class="p">.</span><span class="n">length</span> <span class="n">seq_i</span> <span class="k">in</span>
    <span class="k">let</span> <span class="n">bon_j</span> <span class="o">=</span> <span class="n">ref</span> <span class="o">(-</span><span class="mi">1</span><span class="o">)</span> <span class="k">in</span>
    <span class="k">let</span> <span class="n">nb_bon_j</span> <span class="o">=</span> <span class="n">ref</span> <span class="mi">0</span> <span class="k">in</span>
    <span class="c">(* Pour chaque *)</span>
    <span class="k">for</span> <span class="n">j</span> <span class="o">=</span> <span class="mi">0</span> <span class="k">to</span> <span class="n">taille</span> <span class="o">-</span> <span class="mi">1</span> <span class="k">do</span>
        <span class="k">if</span> <span class="n">est_issue_de_en_j</span> <span class="n">seq_i</span> <span class="n">seq</span> <span class="n">j</span>
        <span class="k">then</span> <span class="k">begin</span>
            <span class="n">bon_j</span> <span class="o">:=</span> <span class="n">j</span><span class="o">;</span>
            <span class="c">(* s&#39;ils diffèrent en cette case, ie si une vraie modification était nécessaire *)</span>
            <span class="k">if</span> <span class="n">seq_i</span><span class="o">.(</span><span class="n">j</span><span class="o">)</span> <span class="o">!=</span> <span class="n">seq</span><span class="o">.(</span><span class="n">j</span><span class="o">)</span> <span class="k">then</span>
                <span class="n">incr</span> <span class="n">nb_bon_j</span><span class="o">;</span>
        <span class="k">end</span><span class="o">;</span>
    <span class="k">done</span><span class="o">;</span>
    <span class="c">(* Vérifie qu&#39;au maximum une vraie modification a été utilisée *)</span>
    <span class="k">assert</span> <span class="o">(!</span><span class="n">nb_bon_j</span> <span class="o">&lt;=</span> <span class="mi">1</span><span class="o">);</span>
    <span class="c">(* 0 &lt;= !bon_j, !bon_j, !nb_bon_j *)</span> <span class="c">(* pour tester *)</span>
    <span class="mi">0</span> <span class="o">&lt;=</span> <span class="o">!</span><span class="n">bon_j</span>
<span class="o">;;</span>
</pre></div>

    </div>
</div>
</div>

<div class="output_wrapper">
<div class="output">


<div class="output_area">

    <div class="prompt output_prompt">Out[16]:</div>




<div class="output_text output_subarea output_execute_result">
<pre>val est_issue_de : suite_caracteres -&gt; suite_caracteres -&gt; bool = &lt;fun&gt;
</pre>
</div>

</div>

</div>
</div>

</div>
<div class="cell border-box-sizing code_cell rendered">
<div class="input">
<div class="prompt input_prompt">In&nbsp;[17]:</div>
<div class="inner_cell">
    <div class="input_area">
<div class=" highlight hl-OCaml"><pre><span></span><span class="n">est_issue_de</span> <span class="n">suite1</span> <span class="n">suite1</span><span class="o">;;</span>
<span class="n">est_issue_de</span> <span class="n">suite1</span> <span class="n">suite1_delta0</span><span class="o">;;</span>
<span class="n">est_issue_de</span> <span class="n">suite1</span> <span class="n">suite1_delta5</span><span class="o">;;</span>

<span class="k">let</span> <span class="n">suite1_4delta</span> <span class="o">=</span> <span class="o">[|</span><span class="mi">1</span><span class="o">;</span> <span class="mi">1</span><span class="o">;</span> <span class="mi">0</span><span class="o">;</span> <span class="mi">1</span><span class="o">;</span> <span class="mi">0</span><span class="o">;</span> <span class="mi">1</span><span class="o">;</span> <span class="mi">0</span><span class="o">|];;</span>
<span class="n">est_issue_de</span> <span class="n">suite1</span> <span class="n">suite1_4delta</span><span class="o">;;</span> <span class="c">(* false *)</span>
</pre></div>

    </div>
</div>
</div>

<div class="output_wrapper">
<div class="output">


<div class="output_area">

    <div class="prompt output_prompt">Out[17]:</div>




<div class="output_text output_subarea output_execute_result">
<pre>- : bool = true
</pre>
</div>

</div>

<div class="output_area">

    <div class="prompt output_prompt">Out[17]:</div>




<div class="output_text output_subarea output_execute_result">
<pre>- : bool = true
</pre>
</div>

</div>

<div class="output_area">

    <div class="prompt output_prompt">Out[17]:</div>




<div class="output_text output_subarea output_execute_result">
<pre>- : bool = true
</pre>
</div>

</div>

<div class="output_area">

    <div class="prompt output_prompt">Out[17]:</div>




<div class="output_text output_subarea output_execute_result">
<pre>val suite1_4delta : int array = [|1; 1; 0; 1; 0; 1; 0|]
</pre>
</div>

</div>

<div class="output_area">

    <div class="prompt output_prompt">Out[17]:</div>




<div class="output_text output_subarea output_execute_result">
<pre>- : bool = false
</pre>
</div>

</div>

</div>
</div>

</div>
<div class="cell border-box-sizing text_cell rendered"><div class="prompt input_prompt">
</div><div class="inner_cell">
<div class="text_cell_render border-box-sizing rendered_html">
<h4 id="Fonction-finale-decodage_une_sequence">Fonction finale <code>decodage_une_sequence</code><a class="anchor-link" href="#Fonction-finale-decodage_une_sequence">&#182;</a></h4><p>La même architecture peut-être utilisée :</p>

</div>
</div>
</div>
<div class="cell border-box-sizing code_cell rendered">
<div class="input">
<div class="prompt input_prompt">In&nbsp;[19]:</div>
<div class="inner_cell">
    <div class="input_area">
<div class=" highlight hl-OCaml"><pre><span></span><span class="k">let</span> <span class="n">decodage_une_sequence</span> <span class="o">(</span><span class="n">code</span> <span class="o">:</span> <span class="n">codage_hamming</span><span class="o">)</span> <span class="o">(</span><span class="n">seq</span> <span class="o">:</span> <span class="n">suite_caracteres</span><span class="o">)</span> <span class="o">:</span> <span class="n">symbole</span> <span class="o">=</span>
    <span class="k">let</span> <span class="n">bon_indice</span> <span class="o">=</span> <span class="n">ref</span> <span class="o">(-</span><span class="mi">1</span><span class="o">)</span> <span class="k">in</span>
    <span class="k">let</span> <span class="n">nb_bonne_seqi</span> <span class="o">=</span> <span class="n">ref</span> <span class="mi">0</span> <span class="k">in</span>
    <span class="c">(* Pour chaque seq_i du codage de Hamming *)</span>
    <span class="nn">List</span><span class="p">.</span><span class="n">iteri</span> <span class="o">(</span>
        <span class="k">fun</span> <span class="n">i</span> <span class="o">(</span><span class="n">seq_i</span><span class="o">,</span> <span class="o">_)</span> <span class="o">-&gt;</span> <span class="o">(</span>
            <span class="k">if</span> <span class="n">est_issue_de</span> <span class="n">seq_i</span> <span class="n">seq</span>
            <span class="k">then</span> <span class="k">begin</span>
                <span class="n">bon_indice</span> <span class="o">:=</span> <span class="n">i</span><span class="o">;</span>
                <span class="n">incr</span> <span class="n">nb_bonne_seqi</span><span class="o">;</span>
            <span class="k">end</span><span class="o">;</span>
        <span class="o">)</span>
    <span class="o">)</span> <span class="n">code</span><span class="o">;</span>
    <span class="c">(* Vérifie qu&#39;une seule séquence du codage soit valide *)</span>
    <span class="k">assert</span> <span class="o">(!</span><span class="n">nb_bonne_seqi</span> <span class="o">=</span> <span class="mi">1</span><span class="o">);</span>
    <span class="c">(* Associe le symbole de la seule séquence du codage qui soit valide *)</span>
    <span class="k">let</span> <span class="n">bonne_seqi</span> <span class="o">=</span> <span class="n">fst</span> <span class="o">(</span><span class="nn">List</span><span class="p">.</span><span class="n">nth</span> <span class="n">code</span> <span class="o">!</span><span class="n">bon_indice</span><span class="o">)</span> <span class="k">in</span>
    <span class="n">quel_symbole</span> <span class="n">code</span> <span class="n">bonne_seqi</span>
<span class="o">;;</span>
</pre></div>

    </div>
</div>
</div>

<div class="output_wrapper">
<div class="output">


<div class="output_area">

    <div class="prompt output_prompt">Out[19]:</div>




<div class="output_text output_subarea output_execute_result">
<pre>val decodage_une_sequence : codage_hamming -&gt; suite_caracteres -&gt; symbole =
  &lt;fun&gt;
</pre>
</div>

</div>

</div>
</div>

</div>
<div class="cell border-box-sizing text_cell rendered"><div class="prompt input_prompt">
</div><div class="inner_cell">
<div class="text_cell_render border-box-sizing rendered_html">
<p>On va faire quelques essais, avec le codage de Hamming suivant, défini plus haut :</p>

</div>
</div>
</div>
<div class="cell border-box-sizing code_cell rendered">
<div class="input">
<div class="prompt input_prompt">In&nbsp;[20]:</div>
<div class="inner_cell">
    <div class="input_area">
<div class=" highlight hl-OCaml"><pre><span></span><span class="n">codage_ex1</span><span class="o">;;</span>
</pre></div>

    </div>
</div>
</div>

<div class="output_wrapper">
<div class="output">


<div class="output_area">

    <div class="prompt output_prompt">Out[20]:</div>




<div class="output_text output_subarea output_execute_result">
<pre>- : codage_hamming =
[([|0; 0; 0; 0; 0; 0; 0|], &#34;A&#34;); ([|1; 1; 1; 1; 1; 1; 1|], &#34;B&#34;);
 ([|0; 1; 0; 1; 0; 1; 0|], &#34;C&#34;); ([|1; 0; 1; 0; 1; 0; 1|], &#34;D&#34;)]
</pre>
</div>

</div>

</div>
</div>

</div>
<div class="cell border-box-sizing text_cell rendered"><div class="prompt input_prompt">
</div><div class="inner_cell">
<div class="text_cell_render border-box-sizing rendered_html">
<p>On va vérifier que pour chacun des 4 séquences, elles sont bien décodées si aucune ou si exactement une case a été changée, mais que le décodage échoue si plus de deux changements ont eu lieu :</p>

</div>
</div>
</div>
<div class="cell border-box-sizing code_cell rendered">
<div class="input">
<div class="prompt input_prompt">In&nbsp;[21]:</div>
<div class="inner_cell">
    <div class="input_area">
<div class=" highlight hl-OCaml"><pre><span></span><span class="n">suite1</span><span class="o">;;</span>
<span class="n">decodage_une_sequence</span> <span class="n">codage_ex1</span> <span class="n">suite1</span><span class="o">;;</span>

<span class="n">suite1_delta0</span><span class="o">;;</span>
<span class="n">decodage_une_sequence</span> <span class="n">codage_ex1</span> <span class="n">suite1_delta0</span><span class="o">;;</span>

<span class="n">suite1_delta5</span><span class="o">;;</span>
<span class="n">decodage_une_sequence</span> <span class="n">codage_ex1</span> <span class="n">suite1_delta5</span><span class="o">;;</span>
</pre></div>

    </div>
</div>
</div>

<div class="output_wrapper">
<div class="output">


<div class="output_area">

    <div class="prompt output_prompt">Out[21]:</div>




<div class="output_text output_subarea output_execute_result">
<pre>- : suite_caracteres = [|0; 0; 0; 0; 0; 0; 0|]
</pre>
</div>

</div>

<div class="output_area">

    <div class="prompt output_prompt">Out[21]:</div>




<div class="output_text output_subarea output_execute_result">
<pre>- : symbole = &#34;A&#34;
</pre>
</div>

</div>

<div class="output_area">

    <div class="prompt output_prompt">Out[21]:</div>




<div class="output_text output_subarea output_execute_result">
<pre>- : int array = [|1; 0; 0; 0; 0; 0; 0|]
</pre>
</div>

</div>

<div class="output_area">

    <div class="prompt output_prompt">Out[21]:</div>




<div class="output_text output_subarea output_execute_result">
<pre>- : symbole = &#34;A&#34;
</pre>
</div>

</div>

<div class="output_area">

    <div class="prompt output_prompt">Out[21]:</div>




<div class="output_text output_subarea output_execute_result">
<pre>- : int array = [|0; 0; 0; 0; 0; 1; 0|]
</pre>
</div>

</div>

<div class="output_area">

    <div class="prompt output_prompt">Out[21]:</div>




<div class="output_text output_subarea output_execute_result">
<pre>- : symbole = &#34;A&#34;
</pre>
</div>

</div>

</div>
</div>

</div>
<div class="cell border-box-sizing text_cell rendered"><div class="prompt input_prompt">
</div><div class="inner_cell">
<div class="text_cell_render border-box-sizing rendered_html">
<p>Jusqu'ici tout va bien, et sur un exemple avec quatre modifications, la séquence a été trop modifiée pour être encore identifiée comme <code>"A"</code> :</p>

</div>
</div>
</div>
<div class="cell border-box-sizing code_cell rendered">
<div class="input">
<div class="prompt input_prompt">In&nbsp;[22]:</div>
<div class="inner_cell">
    <div class="input_area">
<div class=" highlight hl-OCaml"><pre><span></span><span class="n">suite1_4delta</span><span class="o">;;</span>
<span class="n">decodage_une_sequence</span> <span class="n">codage_ex1</span> <span class="n">suite1_4delta</span><span class="o">;;</span> <span class="c">(* va trouver &quot;C&quot; *)</span>
</pre></div>

    </div>
</div>
</div>

<div class="output_wrapper">
<div class="output">


<div class="output_area">

    <div class="prompt output_prompt">Out[22]:</div>




<div class="output_text output_subarea output_execute_result">
<pre>- : int array = [|1; 1; 0; 1; 0; 1; 0|]
</pre>
</div>

</div>

<div class="output_area">

    <div class="prompt output_prompt">Out[22]:</div>




<div class="output_text output_subarea output_execute_result">
<pre>- : symbole = &#34;C&#34;
</pre>
</div>

</div>

</div>
</div>

</div>
<div class="cell border-box-sizing code_cell rendered">
<div class="input">
<div class="prompt input_prompt">In&nbsp;[23]:</div>
<div class="inner_cell">
    <div class="input_area">
<div class=" highlight hl-OCaml"><pre><span></span><span class="n">suite2</span><span class="o">;;</span>
<span class="n">decodage_une_sequence</span> <span class="n">codage_ex1</span> <span class="n">suite2</span><span class="o">;;</span>

<span class="k">let</span> <span class="n">suite2_delta6</span> <span class="o">=</span> <span class="o">[|</span><span class="mi">1</span><span class="o">;</span> <span class="mi">1</span><span class="o">;</span> <span class="mi">1</span><span class="o">;</span> <span class="mi">1</span><span class="o">;</span> <span class="mi">1</span><span class="o">;</span> <span class="mi">1</span><span class="o">;</span> <span class="mi">0</span><span class="o">|];;</span>
<span class="n">decodage_une_sequence</span> <span class="n">codage_ex1</span> <span class="n">suite2_delta6</span><span class="o">;;</span>
</pre></div>

    </div>
</div>
</div>

<div class="output_wrapper">
<div class="output">


<div class="output_area">

    <div class="prompt output_prompt">Out[23]:</div>




<div class="output_text output_subarea output_execute_result">
<pre>- : suite_caracteres = [|1; 1; 1; 1; 1; 1; 1|]
</pre>
</div>

</div>

<div class="output_area">

    <div class="prompt output_prompt">Out[23]:</div>




<div class="output_text output_subarea output_execute_result">
<pre>- : symbole = &#34;B&#34;
</pre>
</div>

</div>

<div class="output_area">

    <div class="prompt output_prompt">Out[23]:</div>




<div class="output_text output_subarea output_execute_result">
<pre>val suite2_delta6 : int array = [|1; 1; 1; 1; 1; 1; 0|]
</pre>
</div>

</div>

<div class="output_area">

    <div class="prompt output_prompt">Out[23]:</div>




<div class="output_text output_subarea output_execute_result">
<pre>- : symbole = &#34;B&#34;
</pre>
</div>

</div>

</div>
</div>

</div>
<div class="cell border-box-sizing code_cell rendered">
<div class="input">
<div class="prompt input_prompt">In&nbsp;[24]:</div>
<div class="inner_cell">
    <div class="input_area">
<div class=" highlight hl-OCaml"><pre><span></span><span class="n">suite3</span><span class="o">;;</span>
<span class="n">decodage_une_sequence</span> <span class="n">codage_ex1</span> <span class="n">suite3</span><span class="o">;;</span>

<span class="k">let</span> <span class="n">suite3_delta3</span> <span class="o">=</span> <span class="o">[|</span><span class="mi">0</span><span class="o">;</span> <span class="mi">1</span><span class="o">;</span> <span class="mi">0</span><span class="o">;</span> <span class="mi">0</span><span class="o">;</span> <span class="mi">0</span><span class="o">;</span> <span class="mi">1</span><span class="o">;</span> <span class="mi">0</span><span class="o">|];;</span>
<span class="n">decodage_une_sequence</span> <span class="n">codage_ex1</span> <span class="n">suite3_delta3</span><span class="o">;;</span>
</pre></div>

    </div>
</div>
</div>

<div class="output_wrapper">
<div class="output">


<div class="output_area">

    <div class="prompt output_prompt">Out[24]:</div>




<div class="output_text output_subarea output_execute_result">
<pre>- : suite_caracteres = [|0; 1; 0; 1; 0; 1; 0|]
</pre>
</div>

</div>

<div class="output_area">

    <div class="prompt output_prompt">Out[24]:</div>




<div class="output_text output_subarea output_execute_result">
<pre>- : symbole = &#34;C&#34;
</pre>
</div>

</div>

<div class="output_area">

    <div class="prompt output_prompt">Out[24]:</div>




<div class="output_text output_subarea output_execute_result">
<pre>val suite3_delta3 : int array = [|0; 1; 0; 0; 0; 1; 0|]
</pre>
</div>

</div>

<div class="output_area">

    <div class="prompt output_prompt">Out[24]:</div>




<div class="output_text output_subarea output_execute_result">
<pre>- : symbole = &#34;C&#34;
</pre>
</div>

</div>

</div>
</div>

</div>
<div class="cell border-box-sizing code_cell rendered">
<div class="input">
<div class="prompt input_prompt">In&nbsp;[25]:</div>
<div class="inner_cell">
    <div class="input_area">
<div class=" highlight hl-OCaml"><pre><span></span><span class="n">suite4</span><span class="o">;;</span>
<span class="n">decodage_une_sequence</span> <span class="n">codage_ex1</span> <span class="n">suite4</span><span class="o">;;</span>

<span class="k">let</span> <span class="n">suite4_delta1</span> <span class="o">=</span> <span class="o">[|</span><span class="mi">1</span><span class="o">;</span> <span class="mi">1</span><span class="o">;</span> <span class="mi">1</span><span class="o">;</span> <span class="mi">0</span><span class="o">;</span> <span class="mi">1</span><span class="o">;</span> <span class="mi">0</span><span class="o">;</span> <span class="mi">1</span><span class="o">|];;</span>
<span class="n">decodage_une_sequence</span> <span class="n">codage_ex1</span> <span class="n">suite4_delta1</span><span class="o">;;</span>
</pre></div>

    </div>
</div>
</div>

<div class="output_wrapper">
<div class="output">


<div class="output_area">

    <div class="prompt output_prompt">Out[25]:</div>




<div class="output_text output_subarea output_execute_result">
<pre>- : suite_caracteres = [|1; 0; 1; 0; 1; 0; 1|]
</pre>
</div>

</div>

<div class="output_area">

    <div class="prompt output_prompt">Out[25]:</div>




<div class="output_text output_subarea output_execute_result">
<pre>- : symbole = &#34;D&#34;
</pre>
</div>

</div>

<div class="output_area">

    <div class="prompt output_prompt">Out[25]:</div>




<div class="output_text output_subarea output_execute_result">
<pre>val suite4_delta1 : int array = [|1; 1; 1; 0; 1; 0; 1|]
</pre>
</div>

</div>

<div class="output_area">

    <div class="prompt output_prompt">Out[25]:</div>




<div class="output_text output_subarea output_execute_result">
<pre>- : symbole = &#34;D&#34;
</pre>
</div>

</div>

</div>
</div>

</div>
<div class="cell border-box-sizing text_cell rendered"><div class="prompt input_prompt">
</div><div class="inner_cell">
<div class="text_cell_render border-box-sizing rendered_html">
<p>Tout ça semble bien marcher !</p>
<p>On va rapidement réussir à décoder le message bruité donné en exemple dans le texte.</p>

</div>
</div>
</div>
<div class="cell border-box-sizing text_cell rendered"><div class="prompt input_prompt">
</div><div class="inner_cell">
<div class="text_cell_render border-box-sizing rendered_html">
<hr>
<h3 id="Q.II.2)-D&#233;codage-d'une-suite-de-symboles">Q.II.2) D&#233;codage d'une suite de symboles<a class="anchor-link" href="#Q.II.2)-D&#233;codage-d'une-suite-de-symboles">&#182;</a></h3>
</div>
</div>
</div>
<div class="cell border-box-sizing text_cell rendered"><div class="prompt input_prompt">
</div><div class="inner_cell">
<div class="text_cell_render border-box-sizing rendered_html">
<p>Cette deuxième étape ne va pas être très compliquée, il s'agit essentiellement d'appliquer l'algorithme précédent à chaque sous-séquence de la séquence donnée.</p>
<p>Ces sous-séquences sont faciles à extraire depuis la séquence entière, puisque le texte supposait (implicitement) que toutes les séquences d'un codage de Hamming ont la même taille !</p>
<ol>
<li>on commence par extraire la taille <code>n</code> ($n \geq 1$) des séquences du codage de Hamming,</li>
<li>et ensuite on découpe la séquence d'entrée, de taille $n \times k$, en une <em>liste</em> de $k \geq 1$ sous-séquences, toutes de taille <code>n</code>,</li>
<li>pour chaque sous-séquence on utilise la fonction <code>decodage_une_sequence</code> précédente,</li>
<li>on reconstruit une liste de symboles, qu'on renvoie.</li>
</ol>

</div>
</div>
</div>
<div class="cell border-box-sizing text_cell rendered"><div class="prompt input_prompt">
</div><div class="inner_cell">
<div class="text_cell_render border-box-sizing rendered_html">
<h4 id="1.-Extraire-la-taille-des-s&#233;quence-du-codage-de-Hamming">1. Extraire la taille des s&#233;quence du codage de Hamming<a class="anchor-link" href="#1.-Extraire-la-taille-des-s&#233;quence-du-codage-de-Hamming">&#182;</a></h4>
</div>
</div>
</div>
<div class="cell border-box-sizing code_cell rendered">
<div class="input">
<div class="prompt input_prompt">In&nbsp;[30]:</div>
<div class="inner_cell">
    <div class="input_area">
<div class=" highlight hl-OCaml"><pre><span></span><span class="k">let</span> <span class="n">taille_sequences_codage</span> <span class="o">(</span><span class="n">code</span> <span class="o">:</span> <span class="n">codage_hamming</span><span class="o">)</span> <span class="o">=</span>
    <span class="k">let</span> <span class="n">tailles</span> <span class="o">=</span> <span class="nn">List</span><span class="p">.</span><span class="n">map</span> <span class="o">(</span><span class="k">fun</span> <span class="o">(</span><span class="n">seq</span><span class="o">,</span> <span class="o">_)</span> <span class="o">-&gt;</span> <span class="nn">Array</span><span class="p">.</span><span class="n">length</span> <span class="n">seq</span><span class="o">)</span> <span class="n">code</span> <span class="k">in</span>
    <span class="k">let</span> <span class="n">taille</span> <span class="o">=</span> <span class="nn">List</span><span class="p">.</span><span class="n">hd</span> <span class="n">tailles</span> <span class="k">in</span>
    <span class="c">(* On vérifie que toutes les séquence du codage aient cette même taille ! *)</span>
    <span class="k">assert</span> <span class="o">(</span><span class="nn">List</span><span class="p">.</span><span class="n">for_all</span> <span class="o">((</span> <span class="o">=</span> <span class="o">)</span> <span class="n">taille</span><span class="o">)</span> <span class="n">tailles</span><span class="o">);</span>
    <span class="n">taille</span>
<span class="o">;;</span>
</pre></div>

    </div>
</div>
</div>

<div class="output_wrapper">
<div class="output">


<div class="output_area">

    <div class="prompt output_prompt">Out[30]:</div>




<div class="output_text output_subarea output_execute_result">
<pre>val taille_sequences_codage : codage_hamming -&gt; int = &lt;fun&gt;
</pre>
</div>

</div>

</div>
</div>

</div>
<div class="cell border-box-sizing code_cell rendered">
<div class="input">
<div class="prompt input_prompt">In&nbsp;[31]:</div>
<div class="inner_cell">
    <div class="input_area">
<div class=" highlight hl-OCaml"><pre><span></span><span class="k">let</span> <span class="n">n1</span> <span class="o">=</span> <span class="n">taille_sequences_codage</span> <span class="n">codage_ex1</span> <span class="o">;;</span>
</pre></div>

    </div>
</div>
</div>

<div class="output_wrapper">
<div class="output">


<div class="output_area">

    <div class="prompt output_prompt">Out[31]:</div>




<div class="output_text output_subarea output_execute_result">
<pre>val n1 : int = 7
</pre>
</div>

</div>

</div>
</div>

</div>
<div class="cell border-box-sizing text_cell rendered"><div class="prompt input_prompt">
</div><div class="inner_cell">
<div class="text_cell_render border-box-sizing rendered_html">
<p>Ça marche comme voulu !</p>

</div>
</div>
</div>
<div class="cell border-box-sizing text_cell rendered"><div class="prompt input_prompt">
</div><div class="inner_cell">
<div class="text_cell_render border-box-sizing rendered_html">
<h4 id="2.-Extraire-les-sous-s&#233;quences">2. Extraire les sous-s&#233;quences<a class="anchor-link" href="#2.-Extraire-les-sous-s&#233;quences">&#182;</a></h4><p>On commence par définir l'exemple d'une séquence longue de 4 sous-séquences de tailles $n = 7$, venant de la page 5.</p>

</div>
</div>
</div>
<div class="cell border-box-sizing code_cell rendered">
<div class="input">
<div class="prompt input_prompt">In&nbsp;[32]:</div>
<div class="inner_cell">
    <div class="input_area">
<div class=" highlight hl-OCaml"><pre><span></span><span class="k">let</span> <span class="n">seq_ex1</span> <span class="o">:</span> <span class="n">suite_caracteres</span> <span class="o">=</span> <span class="o">[|</span>
   <span class="mi">1</span><span class="o">;</span><span class="mi">1</span><span class="o">;</span><span class="mi">0</span><span class="o">;</span><span class="mi">1</span><span class="o">;</span><span class="mi">0</span><span class="o">;</span><span class="mi">1</span><span class="o">;</span><span class="mi">0</span><span class="o">;</span>
   <span class="mi">1</span><span class="o">;</span><span class="mi">0</span><span class="o">;</span><span class="mi">1</span><span class="o">;</span><span class="mi">1</span><span class="o">;</span><span class="mi">1</span><span class="o">;</span><span class="mi">0</span><span class="o">;</span><span class="mi">1</span><span class="o">;</span>
   <span class="mi">1</span><span class="o">;</span><span class="mi">0</span><span class="o">;</span><span class="mi">0</span><span class="o">;</span><span class="mi">0</span><span class="o">;</span><span class="mi">0</span><span class="o">;</span><span class="mi">0</span><span class="o">;</span><span class="mi">0</span><span class="o">;</span>
   <span class="mi">0</span><span class="o">;</span><span class="mi">1</span><span class="o">;</span><span class="mi">1</span><span class="o">;</span><span class="mi">1</span><span class="o">;</span><span class="mi">1</span><span class="o">;</span><span class="mi">1</span><span class="o">;</span><span class="mi">1</span>
<span class="o">|];;</span>
</pre></div>

    </div>
</div>
</div>

<div class="output_wrapper">
<div class="output">


<div class="output_area">

    <div class="prompt output_prompt">Out[32]:</div>




<div class="output_text output_subarea output_execute_result">
<pre>val seq_ex1 : suite_caracteres =
  [|1; 1; 0; 1; 0; 1; 0; 1; 0; 1; 1; 1; 0; 1; 1; 0; 0; 0; 0; 0; 0; 0; 1; 1;
    1; 1; 1; 1|]
</pre>
</div>

</div>

</div>
</div>

</div>
<div class="cell border-box-sizing text_cell rendered"><div class="prompt input_prompt">
</div><div class="inner_cell">
<div class="text_cell_render border-box-sizing rendered_html">
<p>On va être malin, et découper en utilisant une combinaison des deux fonctions <code>Array.init</code> et <code>Array.sub</code>.</p>
<blockquote><p><em>Note</em> : Le second argument de <code>Array.sub</code> est la longueur, pas l'indice de fin.</p>
</blockquote>

</div>
</div>
</div>
<div class="cell border-box-sizing code_cell rendered">
<div class="input">
<div class="prompt input_prompt">In&nbsp;[33]:</div>
<div class="inner_cell">
    <div class="input_area">
<div class=" highlight hl-OCaml"><pre><span></span><span class="nn">Array</span><span class="p">.</span><span class="n">sub</span><span class="o">;;</span>
<span class="nn">Array</span><span class="p">.</span><span class="n">init</span><span class="o">;;</span>
</pre></div>

    </div>
</div>
</div>

<div class="output_wrapper">
<div class="output">


<div class="output_area">

    <div class="prompt output_prompt">Out[33]:</div>




<div class="output_text output_subarea output_execute_result">
<pre>- : &#39;a array -&gt; int -&gt; int -&gt; &#39;a array = &lt;fun&gt;
</pre>
</div>

</div>

<div class="output_area">

    <div class="prompt output_prompt">Out[33]:</div>




<div class="output_text output_subarea output_execute_result">
<pre>- : int -&gt; (int -&gt; &#39;a) -&gt; &#39;a array = &lt;fun&gt;
</pre>
</div>

</div>

</div>
</div>

</div>
<div class="cell border-box-sizing text_cell rendered"><div class="prompt input_prompt">
</div><div class="inner_cell">
<div class="text_cell_render border-box-sizing rendered_html">
<blockquote><p><em>Astuce</em> : Si vous êtes en galère le jour de l'oral, rappelez vous qu'il existe deux modules <a href="http://caml.inria.fr/pub/docs/manual-ocaml/libref/ListLabels.html"><code>ListLabels</code></a> et <a href="http://caml.inria.fr/pub/docs/manual-ocaml/libref/ArrayLabels.html"><code>ArrayLabels</code></a> dans la bibliothèque standard, qui sont comme <a href="http://caml.inria.fr/pub/docs/manual-ocaml/libref/List.html"><code>List</code></a> et <a href="http://caml.inria.fr/pub/docs/manual-ocaml/libref/Array.html"><code>Array</code></a>, sauf que les signatures de chaque fonction contiennent des arguments <em>nommés</em> :</p>
</blockquote>

</div>
</div>
</div>
<div class="cell border-box-sizing code_cell rendered">
<div class="input">
<div class="prompt input_prompt">In&nbsp;[34]:</div>
<div class="inner_cell">
    <div class="input_area">
<div class=" highlight hl-OCaml"><pre><span></span><span class="nn">ArrayLabels</span><span class="p">.</span><span class="n">sub</span><span class="o">;;</span>
<span class="nn">ArrayLabels</span><span class="p">.</span><span class="n">init</span><span class="o">;;</span>
</pre></div>

    </div>
</div>
</div>

<div class="output_wrapper">
<div class="output">


<div class="output_area">

    <div class="prompt output_prompt">Out[34]:</div>




<div class="output_text output_subarea output_execute_result">
<pre>- : &#39;a array -&gt; pos:int -&gt; len:int -&gt; &#39;a array = &lt;fun&gt;
</pre>
</div>

</div>

<div class="output_area">

    <div class="prompt output_prompt">Out[34]:</div>




<div class="output_text output_subarea output_execute_result">
<pre>- : int -&gt; f:(int -&gt; &#39;a) -&gt; &#39;a array = &lt;fun&gt;
</pre>
</div>

</div>

</div>
</div>

</div>
<div class="cell border-box-sizing text_cell rendered"><div class="prompt input_prompt">
</div><div class="inner_cell">
<div class="text_cell_render border-box-sizing rendered_html">
<p><code>Array.sub tab i n</code> revient à extraire <code>tab[i],...,tab[i+n-1]</code>.
Par exemple, la deuxième sous-séquence de taille <code>n = 7</code> du tableau défini ci-dessus est extraite comme ça :</p>

</div>
</div>
</div>
<div class="cell border-box-sizing code_cell rendered">
<div class="input">
<div class="prompt input_prompt">In&nbsp;[35]:</div>
<div class="inner_cell">
    <div class="input_area">
<div class=" highlight hl-OCaml"><pre><span></span><span class="nn">Array</span><span class="p">.</span><span class="n">sub</span> <span class="n">seq_ex1</span> <span class="o">((</span><span class="mi">2</span> <span class="o">-</span> <span class="mi">1</span><span class="o">)</span> <span class="o">*</span> <span class="mi">7</span><span class="o">)</span> <span class="mi">7</span><span class="o">;;</span>

<span class="nn">ArrayLabels</span><span class="p">.</span><span class="n">sub</span> <span class="n">seq_ex1</span> <span class="o">~</span><span class="n">pos</span><span class="o">:((</span><span class="mi">2</span> <span class="o">-</span> <span class="mi">1</span><span class="o">)</span> <span class="o">*</span> <span class="mi">7</span><span class="o">)</span> <span class="o">~</span><span class="n">len</span><span class="o">:</span><span class="mi">7</span><span class="o">;;</span>
</pre></div>

    </div>
</div>
</div>

<div class="output_wrapper">
<div class="output">


<div class="output_area">

    <div class="prompt output_prompt">Out[35]:</div>




<div class="output_text output_subarea output_execute_result">
<pre>- : caractere array = [|1; 0; 1; 1; 1; 0; 1|]
</pre>
</div>

</div>

<div class="output_area">

    <div class="prompt output_prompt">Out[35]:</div>




<div class="output_text output_subarea output_execute_result">
<pre>- : caractere array = [|1; 0; 1; 1; 1; 0; 1|]
</pre>
</div>

</div>

</div>
</div>

</div>
<div class="cell border-box-sizing text_cell rendered"><div class="prompt input_prompt">
</div><div class="inner_cell">
<div class="text_cell_render border-box-sizing rendered_html">
<p>C'est ensuite assez facile. On rajoute un test pour être sûr de ne pas rater des caractères.</p>

</div>
</div>
</div>
<div class="cell border-box-sizing code_cell rendered">
<div class="input">
<div class="prompt input_prompt">In&nbsp;[36]:</div>
<div class="inner_cell">
    <div class="input_area">
<div class=" highlight hl-OCaml"><pre><span></span><span class="k">let</span> <span class="n">decoupe_sequence</span> <span class="o">(</span><span class="n">seq</span> <span class="o">:</span> <span class="n">suite_caracteres</span><span class="o">)</span> <span class="o">(</span><span class="n">n</span> <span class="o">:</span> <span class="kt">int</span><span class="o">)</span> <span class="o">:</span> <span class="n">suite_caracteres</span> <span class="kt">list</span> <span class="o">=</span>
    <span class="k">let</span> <span class="n">len</span> <span class="o">=</span> <span class="nn">Array</span><span class="p">.</span><span class="n">length</span> <span class="n">seq</span> <span class="k">in</span>
    <span class="k">let</span> <span class="n">k</span> <span class="o">=</span> <span class="n">len</span> <span class="o">/</span> <span class="n">n</span> <span class="k">in</span>
    <span class="k">assert</span> <span class="o">(</span><span class="n">len</span> <span class="o">=</span> <span class="o">(</span><span class="n">k</span> <span class="o">*</span> <span class="n">n</span><span class="o">));</span> <span class="c">(* Test, bonus *)</span>
    <span class="nn">Array</span><span class="p">.</span><span class="n">to_list</span> <span class="o">(</span>
        <span class="nn">Array</span><span class="p">.</span><span class="n">init</span> <span class="n">k</span> <span class="o">(</span><span class="k">fun</span> <span class="n">i</span> <span class="o">-&gt;</span>
            <span class="nn">Array</span><span class="p">.</span><span class="n">sub</span> <span class="n">seq</span> <span class="o">(</span><span class="n">i</span> <span class="o">*</span> <span class="n">n</span><span class="o">)</span> <span class="n">n</span>
        <span class="o">)</span>
    <span class="o">)</span>
<span class="o">;;</span>
</pre></div>

    </div>
</div>
</div>

<div class="output_wrapper">
<div class="output">


<div class="output_area">

    <div class="prompt output_prompt">Out[36]:</div>




<div class="output_text output_subarea output_execute_result">
<pre>val decoupe_sequence : suite_caracteres -&gt; int -&gt; suite_caracteres list =
  &lt;fun&gt;
</pre>
</div>

</div>

</div>
</div>

</div>
<div class="cell border-box-sizing code_cell rendered">
<div class="input">
<div class="prompt input_prompt">In&nbsp;[37]:</div>
<div class="inner_cell">
    <div class="input_area">
<div class=" highlight hl-OCaml"><pre><span></span><span class="n">decoupe_sequence</span> <span class="n">seq_ex1</span> <span class="n">n1</span><span class="o">;;</span>
</pre></div>

    </div>
</div>
</div>

<div class="output_wrapper">
<div class="output">


<div class="output_area">

    <div class="prompt output_prompt">Out[37]:</div>




<div class="output_text output_subarea output_execute_result">
<pre>- : suite_caracteres list =
[[|1; 1; 0; 1; 0; 1; 0|]; [|1; 0; 1; 1; 1; 0; 1|]; [|1; 0; 0; 0; 0; 0; 0|];
 [|0; 1; 1; 1; 1; 1; 1|]]
</pre>
</div>

</div>

</div>
</div>

</div>
<div class="cell border-box-sizing text_cell rendered"><div class="prompt input_prompt">
</div><div class="inner_cell">
<div class="text_cell_render border-box-sizing rendered_html">
<p>Ça marche comme voulu.</p>

</div>
</div>
</div>
<div class="cell border-box-sizing text_cell rendered"><div class="prompt input_prompt">
</div><div class="inner_cell">
<div class="text_cell_render border-box-sizing rendered_html">
<h4 id="3.-et-4.-Rassembler-les-morceaux">3. et 4. Rassembler les morceaux<a class="anchor-link" href="#3.-et-4.-Rassembler-les-morceaux">&#182;</a></h4>
</div>
</div>
</div>
<div class="cell border-box-sizing code_cell rendered">
<div class="input">
<div class="prompt input_prompt">In&nbsp;[38]:</div>
<div class="inner_cell">
    <div class="input_area">
<div class=" highlight hl-OCaml"><pre><span></span><span class="k">let</span> <span class="n">decodage_sequences</span> <span class="o">(</span><span class="n">code</span> <span class="o">:</span> <span class="n">codage_hamming</span><span class="o">)</span> <span class="o">(</span><span class="n">seq</span> <span class="o">:</span> <span class="n">suite_caracteres</span><span class="o">)</span> <span class="o">:</span> <span class="n">symbole</span> <span class="kt">list</span> <span class="o">=</span>
    <span class="k">let</span> <span class="n">n</span> <span class="o">=</span> <span class="n">taille_sequences_codage</span> <span class="n">code</span> <span class="k">in</span>
    <span class="k">let</span> <span class="n">seqs</span> <span class="o">=</span> <span class="n">decoupe_sequence</span> <span class="n">seq</span> <span class="n">n</span> <span class="k">in</span>
    <span class="nn">List</span><span class="p">.</span><span class="n">map</span> <span class="o">(</span><span class="n">decodage_une_sequence</span> <span class="n">code</span><span class="o">)</span> <span class="n">seqs</span>
<span class="o">;;</span>
</pre></div>

    </div>
</div>
</div>

<div class="output_wrapper">
<div class="output">


<div class="output_area">

    <div class="prompt output_prompt">Out[38]:</div>




<div class="output_text output_subarea output_execute_result">
<pre>val decodage_sequences : codage_hamming -&gt; suite_caracteres -&gt; symbole list =
  &lt;fun&gt;
</pre>
</div>

</div>

</div>
</div>

</div>
<div class="cell border-box-sizing text_cell rendered"><div class="prompt input_prompt">
</div><div class="inner_cell">
<div class="text_cell_render border-box-sizing rendered_html">
<h4 id="Exemple">Exemple<a class="anchor-link" href="#Exemple">&#182;</a></h4>
</div>
</div>
</div>
<div class="cell border-box-sizing code_cell rendered">
<div class="input">
<div class="prompt input_prompt">In&nbsp;[39]:</div>
<div class="inner_cell">
    <div class="input_area">
<div class=" highlight hl-OCaml"><pre><span></span><span class="n">decodage_sequences</span> <span class="n">codage_ex1</span> <span class="n">seq_ex1</span><span class="o">;;</span>
</pre></div>

    </div>
</div>
</div>

<div class="output_wrapper">
<div class="output">


<div class="output_area">

    <div class="prompt output_prompt">Out[39]:</div>




<div class="output_text output_subarea output_execute_result">
<pre>- : symbole list = [&#34;C&#34;; &#34;D&#34;; &#34;A&#34;; &#34;B&#34;]
</pre>
</div>

</div>

</div>
</div>

</div>
<div class="cell border-box-sizing text_cell rendered"><div class="prompt input_prompt">
</div><div class="inner_cell">
<div class="text_cell_render border-box-sizing rendered_html">
<p>On a bien retrouvé l'exemple de l'énoncé. Et voilà.</p>

</div>
</div>
</div>
<div class="cell border-box-sizing text_cell rendered"><div class="prompt input_prompt">
</div><div class="inner_cell">
<div class="text_cell_render border-box-sizing rendered_html">
<hr>

</div>
</div>
</div>
<div class="cell border-box-sizing text_cell rendered"><div class="prompt input_prompt">
</div><div class="inner_cell">
<div class="text_cell_render border-box-sizing rendered_html">
<h2 id="Conclusion">Conclusion<a class="anchor-link" href="#Conclusion">&#182;</a></h2>
</div>
</div>
</div>
<div class="cell border-box-sizing text_cell rendered"><div class="prompt input_prompt">
</div><div class="inner_cell">
<div class="text_cell_render border-box-sizing rendered_html">
<p>Voilà pour les deux questions obligatoires de programmation :</p>
<ul>
<li>on a décomposé le problème en sous-fonctions,</li>
<li>on a essayé d'être fainéant, en réutilisant les sous-fonctions,</li>
<li>on a fait des exemples et <em>on les garde</em> dans ce qu'on présente au jury,</li>
<li>on a testé la fonction exigée sur un exemple venant du texte,</li>
<li>mais on a pas vraiment essayé d'en faire plus (à part le calcul au début).</li>
</ul>
<blockquote><p>Bien-sûr, ce petit notebook ne se prétend pas être une solution optimale, ni exhaustive.</p>
</blockquote>

</div>
</div>
</div>
 


    </div>
  </div>

  </div>


  
    <footer class="footer hidden-print">
      <div class="container">
        <div class="col-md-4">
          <p>
            This website does not host notebooks, it only renders notebooks
            available on other websites.
          </p>
        </div>

        <div class="col-md-4">
          <p>
            Delivered by <a href="https://www.fastly.com/">Fastly</a>,
            Rendered by <a href="https://developer.rackspace.com/?nbviewer=awesome">Rackspace</a>
          </p>
          <p>
            nbviewer GitHub <a href="https://github.com/jupyter/nbviewer">repository</a>.
          </p>
        </div>

        <div class="col-md-4">
          
  
            
              <p>
                nbviewer version:
                <a href="https://github.com/jupyter/nbviewer/commit/8a8fd298b446096dddc874da57e99dd22a2d8d97">
                  8a8fd29
                </a>
              </p>
            
          
  
  <p>
    nbconvert version: <a href="https://github.com/jupyter/nbconvert/releases/tag/5.6.1">
      5.6.1
    </a>
  </p>
  

          
  
  
  <p>
    Rendered
    <span class='date' data-date='Mon, 27 Jan 2020 13:30:55 UTC' title='Mon, 27 Jan 2020 13:30:55 UTC'>(Mon, 27 Jan 2020 13:30:55 UTC)</span>
  </p>
  

        </div>
      </div>
    </footer>
  

  <script src="/static/components/bootstrap/js/bootstrap.min.js?v=5869c96cc8f19086aee625d670d741f9"></script>
  <script src="/static/components/headroom.js/dist/headroom.min.js?v=b0a311ea668f8e768ea375f4a7abb81c"></script>
  <script src="/static/components/headroom.js/dist/jQuery.headroom.min.js?v=f3a1bae118315d0c234afc74dc6aab71"></script>

  
  
  <script>
    $(function(){ $("#menubar").headroom({
      tolerance: 5,
      offset: 205,
      classes: {
        initial: "animated",
        pinned: "slideInDown",
        unpinned: "slideOutUp"
      }
    })});
  </script>


  
  <script>
    (function(i,s,o,g,r,a,m){i['GoogleAnalyticsObject']=r;i[r]=i[r]||function(){
      (i[r].q=i[r].q||[]).push(arguments)},i[r].l=1*new Date();a=s.createElement(o),
      m=s.getElementsByTagName(o)[0];a.async=1;a.src=g;m.parentNode.insertBefore(a,m)
    })(window,document,'script','https://www.google-analytics.com/analytics.js','ga');
    ga('create', 'UA-52617120-5', 'auto',
       {'storage': 'none'});
    ga('set', 'anonymizeIp', true);
    ga('send', 'pageview');
  </script>
  
  <script>
    require({
        paths: {
          moment: "/static/components/moment/min/moment.min.js?v=89f87298ad94aa1e6b92f42eb66da043"
        }
      }, ["moment"], function(moment){
      var date = $("footer .date"),
        m = moment(new Date(date.data('date'))),
        update = function(){ date.text(m.fromNow()); };
      setInterval(update, 61*1000);
      update();
      var w = $(window).scroll(function(event){
        $("body").toggleClass("scrolled", w.scrollTop() > 0);
      });
    });
  </script>

  <!--NEW RELIC Stop Perf Measurement-->
  
  <!--NEW RELIC End-->
</body>
</html>