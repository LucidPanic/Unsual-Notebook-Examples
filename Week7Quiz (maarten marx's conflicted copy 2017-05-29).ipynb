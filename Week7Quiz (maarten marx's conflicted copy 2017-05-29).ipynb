{
 "cells": [
  {
   "cell_type": "markdown",
   "metadata": {},
   "source": [
    "## Quiz 7 Questions\n",
    "\n",
    "**Q1** Compute the euclidean length of $\\langle 3,4,5\\rangle$, rounded to an integer.\n",
    "\n",
    "**Q2** Compute the cosine similarity of $\\langle 3,4,5\\rangle$ and $\\langle 6,3,2\\rangle$.\n",
    "\n",
    "**Q3** Adomovicius 2005 gives in formula 10b a definition of $r_{c,s}$ (the estimated rating of item $s$ for user $c$), in which the rating's of the neighbours of $c$ (which are collected in the set $C$), weighted by their similarity to $c$.  Give the exact formula. Do not forget to normalize.\n",
    "\n",
    "**Q4**  Write a function `shorten(text, n)` to process a text, omitting the n most frequently occurring words of the text. How readable is it?\n",
    "\n",
    "**Q5** Write a function that takes a list of words (containing duplicates) and returns a list of words (with no duplicates) sorted by decreasing frequency. E.g. if the input list contained 10 instances of the word table and 9 instances of the word chair, then table would appear before chair in the output list.\n",
    "\n",
    "**Q6** The following code from the CI book actually programs the function from **Q3**. Refactor this code into much more readable declarative code. You may assum you have a function `sim(p1,p2)` which computes the similarity between two persons, and a function `neighbours(p)` which picks out the closest neighbours of `p`.  You may also assume that `prefs` is a global variable. \n",
    "\n",
    "\n",
    "```\n",
    "# Gets recommendations for a person by using a weighted average\n",
    "# of every other user's rankings\n",
    "def getRecommendations(prefs,person,similarity=sim_pearson):\n",
    "  totals={}\n",
    "  simSums={}\n",
    "  for other in prefs:\n",
    "    # don't compare me to myself\n",
    "    if other==person: continue\n",
    "    sim=similarity(prefs,person,other)\n",
    "\n",
    "    # ignore scores of zero or lower\n",
    "    if sim<=0: continue\n",
    "    for item in prefs[other]:\n",
    "\t    \n",
    "      # only score movies I haven't seen yet\n",
    "      if item not in prefs[person] or prefs[person][item]==0:\n",
    "        # Similarity * Score\n",
    "        totals.setdefault(item,0)\n",
    "        totals[item]+=prefs[other][item]*sim\n",
    "        # Sum of similarities\n",
    "        simSums.setdefault(item,0)\n",
    "        simSums[item]+=sim\n",
    "\n",
    "  # Create the normalized list\n",
    "  rankings=[(total/simSums[item],item) for item,total in totals.items()]\n",
    "\n",
    "  # Return the sorted list\n",
    "  rankings.sort()\n",
    "  rankings.reverse()\n",
    "  return rankings\n",
    "```\n",
    "\n",
    "**Q7** Here we test your recursive thinking. Consider the following code\n",
    "\n",
    "```\n",
    "def boom(n):  # n must be an integer\n",
    "    if n==0:\n",
    "        return []\n",
    "    else:\n",
    "        return [boom(n-1),boom(n-1)]\n",
    "```\n",
    "\n",
    "1. Give the exact output produced by \n",
    "```\n",
    "for n in range(4):\n",
    "    print boom(n)\n",
    "```\n",
    "2. You see that each output of `boom(n)` contains a number of empty lists. Eg. `[]` contains 1 empty list and `[[], []]` contains 2 empty lists. How many empty lists contains `boom(10)`.\n",
    "3. Rewrite the defnition of `boom(n)` in such a way that it does not use recursion?\n",
    "\n",
    "\n",
    "**Q8** Give examples of both intrinsic and extrinsic evidence that search engines use to rank their results.\n",
    "\n"
   ]
  },
  {
   "cell_type": "code",
   "execution_count": 17,
   "metadata": {
    "collapsed": false
   },
   "outputs": [
    {
     "data": {
      "text/plain": [
       "(5670.956521739131, 35.26741903827281)"
      ]
     },
     "execution_count": 17,
     "metadata": {},
     "output_type": "execute_result"
    }
   ],
   "source": [
    "pmrate=(36*5339 + 5.4*7884)/41.4\n",
    "pmrate,(200000)/pmrate"
   ]
  },
  {
   "cell_type": "code",
   "execution_count": 19,
   "metadata": {
    "collapsed": false
   },
   "outputs": [
    {
     "data": {
      "text/plain": [
       "5.142857142857143"
      ]
     },
     "execution_count": 19,
     "metadata": {},
     "output_type": "execute_result"
    }
   ],
   "source": [
    "36/7.0"
   ]
  },
  {
   "cell_type": "code",
   "execution_count": null,
   "metadata": {
    "collapsed": true
   },
   "outputs": [],
   "source": []
  }
 ],
 "metadata": {
  "anaconda-cloud": {},
  "kernelspec": {
   "display_name": "Python [default]",
   "language": "python",
   "name": "python2"
  },
  "language_info": {
   "codemirror_mode": {
    "name": "ipython",
    "version": 2
   },
   "file_extension": ".py",
   "mimetype": "text/x-python",
   "name": "python",
   "nbconvert_exporter": "python",
   "pygments_lexer": "ipython2",
   "version": "2.7.12"
  }
 },
 "nbformat": 4,
 "nbformat_minor": 0
}
