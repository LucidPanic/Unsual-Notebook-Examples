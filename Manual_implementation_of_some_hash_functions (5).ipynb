








<!DOCTYPE html>
<html lang="en">

<head>
  <meta charset="utf-8">
  <title>Jupyter Notebook Viewer</title>
  <meta name="viewport" content="width=device-width, initial-scale=1.0">
  <meta name="description" content="">
  <meta name="author" content="">
  
  <meta name="robots" content="noindex,nofollow">
  

  <!--NEW RELIC Start Perf Measurement-->
  
  <!--NREND-->

  <!-- Le styles -->
  <link href="/static/build/styles.css?v=7fe30404aaeedb40bf592c91e1d25a26" rel="stylesheet">

  <!-- Le HTML5 shim, for IE6-8 support of HTML5 elements -->
  <!--[if lt IE 9]>
    <script src="http://html5shim.googlecode.com/svn/trunk/html5.js"></script>
  <![endif]-->

  <!-- Le fav and touch icons -->
  <link rel="shortcut icon" href="/static/ico/ipynb_icon_16x16.png">
  <link rel="apple-touch-icon-precomposed" sizes="144x144"
        href="/static/ico/apple-touch-icon-144-precomposed.png?v=5a3c9ede93e2a8b8ea9e3f8f3da1a905">
  <link rel="apple-touch-icon-precomposed" sizes="114x114"
        href="/static/ico/apple-touch-icon-114-precomposed.png?v=45d86fc8f24dc00638035e1dd7a6d898">
  <link rel="apple-touch-icon-precomposed" sizes="72x72"
        href="/static/ico/apple-touch-icon-72-precomposed.png?v=540b5eb0f3cfd25f1439d1c9bd30e15f">
  <link rel="apple-touch-icon-precomposed"
        href="/static/ico/apple-touch-icon-57-precomposed.png?v=225f0590e187e1458625654f10a28f56">
  
  

  

  
  <meta name="twitter:card" content="summary">
  <meta name="twitter:title" content="Notebook on nbviewer">
  <meta name="twitter:description" content="Check out this Jupyter notebook!">

  
  <meta name="twitter:domain" content="nbviewer.jupyter.org">
  <meta name="twitter:image:src" content="http://ipython.org/ipython-doc/dev/_images/ipynb_icon_128x128.png">

  
    <link href="/static/build/notebook.css?v=b71b4a780ae775fd48f0eead7512c5dd" rel="stylesheet">
  

  

  
    <script src="https://cdnjs.cloudflare.com/ajax/libs/mathjax/2.7.1/MathJax.js?config=TeX-AMS_HTML" type="text/javascript">
    </script>
    <script type="text/javascript">
      init_mathjax = function() {
        if (window.MathJax) {
          // MathJax loaded
          MathJax.Hub.Config({
            TeX: {
              equationNumbers: {
                autoNumber: "AMS",
                useLabelIds: true
              }
            },
            tex2jax: {
              inlineMath: [ ['$','$'], ["\\(","\\)"] ],
              displayMath: [ ['$$','$$'], ["\\[","\\]"] ],
              processEscapes: true,
              processEnvironments: true
            },
            displayAlign: 'center',
            "HTML-CSS": {
              styles: {'.MathJax_Display': {"margin": 0}},
              linebreaks: { automatic: true }
            }
          });
          MathJax.Hub.Queue(["Typeset", MathJax.Hub]);
        }
      }
      init_mathjax();
    </script>
  

  
    <script>
      (function() {
        function addWidgetsRenderer() {
          var mimeElement = document.querySelector('script[type="application/vnd.jupyter.widget-view+json"]');
          var scriptElement = document.createElement('script');
          var widgetRendererSrc = 'https://unpkg.com/@jupyter-widgets/html-manager@0.15/dist/embed-amd.js';
          var widgetState;

          try {
            widgetState = mimeElement && JSON.parse(mimeElement.innerHTML);

            if (widgetState && (widgetState.version_major < 2 || !widgetState.version_major)) {
              widgetRendererSrc = 'https://unpkg.com/jupyter-js-widgets@2.1/dist/embed.js';
            }
          } catch(e) {}

          scriptElement.src = widgetRendererSrc;
          document.body.appendChild(scriptElement);
        }

        document.addEventListener('DOMContentLoaded', addWidgetsRenderer);
      }());
    </script>
  

</head>

<body class="nbviewer">

  <!-- These are loaded at the top of the body so they are available to
       notebook cells when they are loaded below. -->
  <script src="/static/components/jquery/dist/jquery.min.js?v=220afd743d9e9643852e31a135a9f3ae"></script>
  <script src="/static/components/requirejs/require.js?v=6da8be361b9ee26c5e721e76c6d4afce"></script>
  <script src="/static/components/moment/min/moment.min.js?v=89f87298ad94aa1e6b92f42eb66da043"></script>
<!-- Navbar
================================================== -->
  <nav id="menubar" class="navbar navbar-default navbar-fixed-top" data-spy="affix">
    <div class="container">
      <div class="navbar-header">
        <button type="button" class="navbar-toggle collapsed" data-toggle="collapse" data-target=".navbar-collapse">
          <span class="sr-only">Toggle navigation</span>
          <i class="fa fa-bars"></i>
        </button>
        <a class="navbar-brand" href="/">
          <img src="/static/img/nav_logo.svg?v=479cefe8d932fb14a67b93911b97d70f" width="159"/>
        </a>
      </div>

      <div class="collapse navbar-collapse">
        <ul class="nav navbar-nav navbar-right">
          <li>
            <a class="active" href="https://jupyter.org">JUPYTER</a>
          </li>
          <li>
    <a href="/faq" title="FAQ" >
      
        <span>FAQ</span>
      
    </a>
  </li>

          
  
    
  
    
      
        <li>
    <a href="script/github/Naereen/notebooks/blob/master/Manual_implementation_of_some_hash_functions.ipynb" title="View as Code" >
      <span class="fa fa-code fa-2x menu-icon"></span>
      <span class="menu-text">View as Code</span>
    </a>
  </li>
      
    
  

  
    <li>
    <a href="#" title="Python 3 Kernel" >
      <span class="fa fa-server fa-2x menu-icon"></span>
      <span class="menu-text">Python 3 Kernel</span>
    </a>
  </li>
  

  
    <li>
    <a href="https://github.com/Naereen/notebooks/blob/master/Manual_implementation_of_some_hash_functions.ipynb" title="View on GitHub" >
      <span class="fa fa-github fa-2x menu-icon"></span>
      <span class="menu-text">View on GitHub</span>
    </a>
  </li>
  

  
    <li>
    <a href="https://mybinder.org/v2/gh/Naereen/notebooks/master?filepath=Manual_implementation_of_some_hash_functions.ipynb" title="Execute on Binder" >
      <span class="fa fa-icon-binder fa-2x menu-icon"></span>
      <span class="menu-text">Execute on Binder</span>
    </a>
  </li>
  

  <li>
    <a href="https://raw.githubusercontent.com/Naereen/notebooks/master/Manual_implementation_of_some_hash_functions.ipynb" title="Download Notebook" download>
      <span class="fa fa-download fa-2x menu-icon"></span>
      <span class="menu-text">Download Notebook</span>
    </a>
  </li>

        </ul>
      </div><!-- /.navbar-collapse -->
      
      
    </div>
  </nav>

  <div class="container container-main">
    
  
  <ol class="breadcrumb">
    
      <li>
        <a href="/github/Naereen/notebooks/tree/master">notebooks</a>
      </li>
    
      <li>
        <a href="/github/Naereen/notebooks/tree/master/Manual_implementation_of_some_hash_functions.ipynb">Manual_implementation_of_some_hash_functions.ipynb</a>
      </li>
    
  </ol>
  
  <div id="notebook">
    <div id="notebook-container">
      <div class="cell border-box-sizing text_cell rendered"><div class="prompt input_prompt">
</div><div class="inner_cell">
<div class="text_cell_render border-box-sizing rendered_html">
<h1 id="Table-of-Contents">Table of Contents<a class="anchor-link" href="#Table-of-Contents">&#182;</a></h1><p><p><div class="lev1 toc-item"><a href="#Manual-implementation-of-some-hash-functions" data-toc-modified-id="Manual-implementation-of-some-hash-functions-1"><span class="toc-item-num">1&nbsp;&nbsp;</span>Manual implementation of some hash functions</a></div><div class="lev2 toc-item"><a href="#What-is-a-hash-function?" data-toc-modified-id="What-is-a-hash-function?-11"><span class="toc-item-num">1.1&nbsp;&nbsp;</span>What is a hash function?</a></div><div class="lev2 toc-item"><a href="#Common-API-for-the-different-classes" data-toc-modified-id="Common-API-for-the-different-classes-12"><span class="toc-item-num">1.2&nbsp;&nbsp;</span>Common API for the different classes</a></div><div class="lev2 toc-item"><a href="#Checking-the-the-hashlib-module-in-Python-standard-library" data-toc-modified-id="Checking-the-the-hashlib-module-in-Python-standard-library-13"><span class="toc-item-num">1.3&nbsp;&nbsp;</span>Checking the <a href="https://docs.python.org/3/library/hashlib.html" target="_blank">the <code>hashlib</code> module in Python standard library</a></a></div><div class="lev2 toc-item"><a href="#First-stupid-example:-a-stupid-hashing-function" data-toc-modified-id="First-stupid-example:-a-stupid-hashing-function-14"><span class="toc-item-num">1.4&nbsp;&nbsp;</span>First stupid example: a stupid hashing function</a></div><div class="lev2 toc-item"><a href="#First-real-example:-the-MD5-hashing-function" data-toc-modified-id="First-real-example:-the-MD5-hashing-function-15"><span class="toc-item-num">1.5&nbsp;&nbsp;</span>First real example: the MD5 hashing function</a></div><div class="lev3 toc-item"><a href="#Useful-functions-for-the-MD5-algorithm" data-toc-modified-id="Useful-functions-for-the-MD5-algorithm-151"><span class="toc-item-num">1.5.1&nbsp;&nbsp;</span>Useful functions for the MD5 algorithm</a></div><div class="lev3 toc-item"><a href="#The-MD5-class" data-toc-modified-id="The-MD5-class-152"><span class="toc-item-num">1.5.2&nbsp;&nbsp;</span>The <code>MD5</code> class</a></div><div class="lev3 toc-item"><a href="#First-check-on-MD5" data-toc-modified-id="First-check-on-MD5-153"><span class="toc-item-num">1.5.3&nbsp;&nbsp;</span>First check on MD5</a></div><div class="lev3 toc-item"><a href="#A-less-stupid-check-on-MD5" data-toc-modified-id="A-less-stupid-check-on-MD5-154"><span class="toc-item-num">1.5.4&nbsp;&nbsp;</span>A less stupid check on MD5</a></div><div class="lev3 toc-item"><a href="#Trying-1000-random-examples" data-toc-modified-id="Trying-1000-random-examples-155"><span class="toc-item-num">1.5.5&nbsp;&nbsp;</span>Trying 1000 random examples</a></div><div class="lev2 toc-item"><a href="#Second-real-example:-the-SHA-1-hashing-function" data-toc-modified-id="Second-real-example:-the-SHA-1-hashing-function-16"><span class="toc-item-num">1.6&nbsp;&nbsp;</span>Second real example: the SHA-1 hashing function</a></div><div class="lev3 toc-item"><a href="#Useful-functions-the-SHA-1-algorithm" data-toc-modified-id="Useful-functions-the-SHA-1-algorithm-161"><span class="toc-item-num">1.6.1&nbsp;&nbsp;</span>Useful functions the SHA-1 algorithm</a></div><div class="lev3 toc-item"><a href="#The-SHA1-class" data-toc-modified-id="The-SHA1-class-162"><span class="toc-item-num">1.6.2&nbsp;&nbsp;</span>The <code>SHA1</code> class</a></div><div class="lev3 toc-item"><a href="#First-check-on-SHA-1" data-toc-modified-id="First-check-on-SHA-1-163"><span class="toc-item-num">1.6.3&nbsp;&nbsp;</span>First check on SHA-1</a></div><div class="lev3 toc-item"><a href="#A-less-stupid-check-on-SHA-1" data-toc-modified-id="A-less-stupid-check-on-SHA-1-164"><span class="toc-item-num">1.6.4&nbsp;&nbsp;</span>A less stupid check on SHA-1</a></div><div class="lev3 toc-item"><a href="#Trying-1000-random-examples" data-toc-modified-id="Trying-1000-random-examples-165"><span class="toc-item-num">1.6.5&nbsp;&nbsp;</span>Trying 1000 random examples</a></div><div class="lev2 toc-item"><a href="#Third-real-example:-the-SHA-2-hashing-function" data-toc-modified-id="Third-real-example:-the-SHA-2-hashing-function-17"><span class="toc-item-num">1.7&nbsp;&nbsp;</span>Third real example: the SHA-2 hashing function</a></div><div class="lev3 toc-item"><a href="#Useful-functions-the-SHA-2-algorithm" data-toc-modified-id="Useful-functions-the-SHA-2-algorithm-171"><span class="toc-item-num">1.7.1&nbsp;&nbsp;</span>Useful functions the SHA-2 algorithm</a></div><div class="lev3 toc-item"><a href="#The-SHA2-class" data-toc-modified-id="The-SHA2-class-172"><span class="toc-item-num">1.7.2&nbsp;&nbsp;</span>The <code>SHA2</code> class</a></div><div class="lev3 toc-item"><a href="#First-check-on-SHA-2" data-toc-modified-id="First-check-on-SHA-2-173"><span class="toc-item-num">1.7.3&nbsp;&nbsp;</span>First check on SHA-2</a></div><div class="lev3 toc-item"><a href="#Check-on-SHA-2" data-toc-modified-id="Check-on-SHA-2-174"><span class="toc-item-num">1.7.4&nbsp;&nbsp;</span>Check on SHA-2</a></div><div class="lev3 toc-item"><a href="#Trying-1000-random-examples" data-toc-modified-id="Trying-1000-random-examples-175"><span class="toc-item-num">1.7.5&nbsp;&nbsp;</span>Trying 1000 random examples</a></div><div class="lev2 toc-item"><a href="#Comparison-:-MD5-vs-SHA-1-vs-SHA-2" data-toc-modified-id="Comparison-:-MD5-vs-SHA-1-vs-SHA-2-18"><span class="toc-item-num">1.8&nbsp;&nbsp;</span>Comparison : MD5 vs SHA-1 vs SHA-2</a></div><div class="lev2 toc-item"><a href="#Bonus-:-SHA-2-variants" data-toc-modified-id="Bonus-:-SHA-2-variants-19"><span class="toc-item-num">1.9&nbsp;&nbsp;</span>Bonus : SHA-2 variants</a></div><div class="lev3 toc-item"><a href="#SHA-224" data-toc-modified-id="SHA-224-191"><span class="toc-item-num">1.9.1&nbsp;&nbsp;</span>SHA-224</a></div><div class="lev4 toc-item"><a href="#The-SHA224-class" data-toc-modified-id="The-SHA224-class-1911"><span class="toc-item-num">1.9.1.1&nbsp;&nbsp;</span>The <code>SHA224</code> class</a></div><div class="lev4 toc-item"><a href="#Checks-on-SHA-224" data-toc-modified-id="Checks-on-SHA-224-1912"><span class="toc-item-num">1.9.1.2&nbsp;&nbsp;</span>Checks on SHA-224</a></div><div class="lev3 toc-item"><a href="#SHA-512" data-toc-modified-id="SHA-512-192"><span class="toc-item-num">1.9.2&nbsp;&nbsp;</span>SHA-512</a></div><div class="lev4 toc-item"><a href="#Useful-functions-the-SHA-512-algorithm" data-toc-modified-id="Useful-functions-the-SHA-512-algorithm-1921"><span class="toc-item-num">1.9.2.1&nbsp;&nbsp;</span>Useful functions the SHA-512 algorithm</a></div><div class="lev4 toc-item"><a href="#The-SHA512-class" data-toc-modified-id="The-SHA512-class-1922"><span class="toc-item-num">1.9.2.2&nbsp;&nbsp;</span>The <code>SHA512</code> class</a></div><div class="lev4 toc-item"><a href="#Checks-on-SHA-512" data-toc-modified-id="Checks-on-SHA-512-1923"><span class="toc-item-num">1.9.2.3&nbsp;&nbsp;</span>Checks on SHA-512</a></div><div class="lev3 toc-item"><a href="#SHA-384" data-toc-modified-id="SHA-384-193"><span class="toc-item-num">1.9.3&nbsp;&nbsp;</span>SHA-384</a></div><div class="lev4 toc-item"><a href="#The-SHA384-class" data-toc-modified-id="The-SHA384-class-1931"><span class="toc-item-num">1.9.3.1&nbsp;&nbsp;</span>The <code>SHA384</code> class</a></div><div class="lev4 toc-item"><a href="#Checks-on-SHA-384" data-toc-modified-id="Checks-on-SHA-384-1932"><span class="toc-item-num">1.9.3.2&nbsp;&nbsp;</span>Checks on SHA-384</a></div><div class="lev3 toc-item"><a href="#More-comparison" data-toc-modified-id="More-comparison-194"><span class="toc-item-num">1.9.4&nbsp;&nbsp;</span>More comparison</a></div><div class="lev2 toc-item"><a href="#Conclusion" data-toc-modified-id="Conclusion-110"><span class="toc-item-num">1.10&nbsp;&nbsp;</span>Conclusion</a></div><div class="lev3 toc-item"><a href="#Bonus" data-toc-modified-id="Bonus-1101"><span class="toc-item-num">1.10.1&nbsp;&nbsp;</span>Bonus</a></div></p>

</div>
</div>
</div>
<div class="cell border-box-sizing text_cell rendered"><div class="prompt input_prompt">
</div><div class="inner_cell">
<div class="text_cell_render border-box-sizing rendered_html">
<h1 id="Manual-implementation-of-some-hash-functions">Manual implementation of some hash functions<a class="anchor-link" href="#Manual-implementation-of-some-hash-functions">&#182;</a></h1><p>This small <a href="https://www.Jupyter.org/">Jupyter notebook</a> is a short experiment, to see if I can implement the some basic <a href="https://en.wikipedia.org/wiki/Hash_function">Hashing functions</a>, more specifically <a href="https://en.wikipedia.org/wiki/Cryptographic_hash_function">cryptographic hashing functions</a>, like <code>MD5</code>, <code>SHA1</code>, <code>SHA256</code>, <code>SHA512</code> etc</p>
<p>And then I want compare my manual implementations with the functions implemented in <a href="https://docs.python.org/3/library/hashlib.html">the <code>hashlib</code> module in Python standard library</a>.
Ideally, my implementation should work exactly like the reference one, only slower!</p>
<ul>
<li><em>Reference</em>: Wikipedia pages on <a href="https://en.wikipedia.org/wiki/Hash_function">Hash functions</a>, <a href="https://en.wikipedia.org/wiki/MD5">MD5</a>, <a href="https://en.wikipedia.org/wiki/SHA1">SHA-1</a> and <a href="https://en.wikipedia.org/wiki/SHA-2">SHA-2</a>, as well as <a href="https://docs.python.org/3/library/hashlib.html">the <code>hashlib</code> module in Python standard library</a>.</li>
<li><em>Date</em>: 13 May 2017 (first part about MD5), 19 June 2017 (second part about SHA-1), 19 June 2017 (last part about SHA-2).</li>
<li><em>Author</em>: <a href="https://GitHub.com/Naereen/notebooks">Lilian Besson</a>.</li>
<li><em>License</em>: <a href="https://LBesson.MIT-License.org/">MIT Licensed</a>.</li>
</ul>

</div>
</div>
</div>
<div class="cell border-box-sizing text_cell rendered"><div class="prompt input_prompt">
</div><div class="inner_cell">
<div class="text_cell_render border-box-sizing rendered_html">
<hr>
<h2 id="What-is-a-hash-function?">What is a hash function?<a class="anchor-link" href="#What-is-a-hash-function?">&#182;</a></h2><blockquote><p>TL;DR : <a href="https://en.wikipedia.org/wiki/Hash_function">Hash functions</a> and <a href="https://en.wikipedia.org/wiki/Cryptographic_hash_function">cryptographic hashing functions</a> on Wikipedia.</p>
</blockquote>

</div>
</div>
</div>
<div class="cell border-box-sizing text_cell rendered"><div class="prompt input_prompt">
</div><div class="inner_cell">
<div class="text_cell_render border-box-sizing rendered_html">
<hr>
<h2 id="Common-API-for-the-different-classes">Common API for the different classes<a class="anchor-link" href="#Common-API-for-the-different-classes">&#182;</a></h2><p>I will copy the API proposed by <a href="https://docs.python.org/3/library/hashlib.html">the <code>hashlib</code> module in Python standard library</a>, so it will be very easy to compare my implementations with the one provided with your default <a href="https://www.Python.org/">Python</a> installation.</p>

</div>
</div>
</div>
<div class="cell border-box-sizing code_cell rendered">
<div class="input">
<div class="prompt input_prompt">In&nbsp;[1]:</div>
<div class="inner_cell">
    <div class="input_area">
<div class=" highlight hl-ipython3"><pre><span></span><span class="k">class</span> <span class="nc">Hash</span><span class="p">(</span><span class="nb">object</span><span class="p">):</span>
    <span class="sd">&quot;&quot;&quot; Common class for all hash methods.</span>
<span class="sd">    </span>
<span class="sd">    It copies the one of the hashlib module (https://docs.python.org/3.5/library/hashlib.html).</span>
<span class="sd">    &quot;&quot;&quot;</span>
    
    <span class="k">def</span> <span class="nf">__init__</span><span class="p">(</span><span class="bp">self</span><span class="p">,</span> <span class="o">*</span><span class="n">args</span><span class="p">,</span> <span class="o">**</span><span class="n">kwargs</span><span class="p">):</span>
        <span class="sd">&quot;&quot;&quot; Create the Hash object.&quot;&quot;&quot;</span>
        <span class="bp">self</span><span class="o">.</span><span class="n">name</span> <span class="o">=</span> <span class="bp">self</span><span class="o">.</span><span class="vm">__class__</span><span class="o">.</span><span class="vm">__name__</span>  <span class="c1"># https://docs.python.org/3.5/library/hashlib.html#hashlib.hash.name</span>
        <span class="bp">self</span><span class="o">.</span><span class="n">byteorder</span>   <span class="o">=</span> <span class="s1">&#39;little&#39;</span>
        <span class="bp">self</span><span class="o">.</span><span class="n">digest_size</span> <span class="o">=</span> <span class="mi">0</span>                <span class="c1"># https://docs.python.org/3.5/library/hashlib.html#hashlib.hash.digest_size</span>
        <span class="bp">self</span><span class="o">.</span><span class="n">block_size</span>  <span class="o">=</span> <span class="mi">0</span>                <span class="c1"># https://docs.python.org/3.5/library/hashlib.html#hashlib.hash.block_size</span>

    <span class="k">def</span> <span class="nf">__str__</span><span class="p">(</span><span class="bp">self</span><span class="p">):</span>
        <span class="k">return</span> <span class="bp">self</span><span class="o">.</span><span class="n">name</span>
        
    <span class="k">def</span> <span class="nf">update</span><span class="p">(</span><span class="bp">self</span><span class="p">,</span> <span class="n">arg</span><span class="p">):</span>
        <span class="sd">&quot;&quot;&quot; Update the hash object with the object arg, which must be interpretable as a buffer of bytes.&quot;&quot;&quot;</span>
        <span class="k">pass</span>

    <span class="k">def</span> <span class="nf">digest</span><span class="p">(</span><span class="bp">self</span><span class="p">):</span>
        <span class="sd">&quot;&quot;&quot; Return the digest of the data passed to the update() method so far. This is a bytes object of size digest_size which may contain bytes in the whole range from 0 to 255.&quot;&quot;&quot;</span>
        <span class="k">return</span> <span class="sa">b</span><span class="s2">&quot;&quot;</span>

    <span class="k">def</span> <span class="nf">hexdigest</span><span class="p">(</span><span class="bp">self</span><span class="p">):</span>
        <span class="sd">&quot;&quot;&quot; Like digest() except the digest is returned as a string object of double length, containing only hexadecimal digits. This may be used to exchange the value safely in email or other non-binary environments.&quot;&quot;&quot;</span>
        <span class="n">digest</span> <span class="o">=</span> <span class="bp">self</span><span class="o">.</span><span class="n">digest</span><span class="p">()</span>
        <span class="n">raw</span> <span class="o">=</span> <span class="n">digest</span><span class="o">.</span><span class="n">to_bytes</span><span class="p">(</span><span class="bp">self</span><span class="o">.</span><span class="n">digest_size</span><span class="p">,</span> <span class="n">byteorder</span><span class="o">=</span><span class="bp">self</span><span class="o">.</span><span class="n">byteorder</span><span class="p">)</span>
        <span class="n">format_str</span> <span class="o">=</span> <span class="s1">&#39;{:0&#39;</span> <span class="o">+</span> <span class="nb">str</span><span class="p">(</span><span class="mi">2</span> <span class="o">*</span> <span class="bp">self</span><span class="o">.</span><span class="n">digest_size</span><span class="p">)</span> <span class="o">+</span> <span class="s1">&#39;x}&#39;</span>
        <span class="k">return</span> <span class="n">format_str</span><span class="o">.</span><span class="n">format</span><span class="p">(</span><span class="nb">int</span><span class="o">.</span><span class="n">from_bytes</span><span class="p">(</span><span class="n">raw</span><span class="p">,</span> <span class="n">byteorder</span><span class="o">=</span><span class="s1">&#39;big&#39;</span><span class="p">))</span>
</pre></div>

    </div>
</div>
</div>

</div>
<div class="cell border-box-sizing text_cell rendered"><div class="prompt input_prompt">
</div><div class="inner_cell">
<div class="text_cell_render border-box-sizing rendered_html">
<hr>
<h2 id="Checking-the-the-hashlib-module-in-Python-standard-library">Checking the <a href="https://docs.python.org/3/library/hashlib.html">the <code>hashlib</code> module in Python standard library</a><a class="anchor-link" href="#Checking-the-the-hashlib-module-in-Python-standard-library">&#182;</a></h2>
</div>
</div>
</div>
<div class="cell border-box-sizing code_cell rendered">
<div class="input">
<div class="prompt input_prompt">In&nbsp;[2]:</div>
<div class="inner_cell">
    <div class="input_area">
<div class=" highlight hl-ipython3"><pre><span></span><span class="kn">import</span> <span class="nn">hashlib</span>
</pre></div>

    </div>
</div>
</div>

</div>
<div class="cell border-box-sizing text_cell rendered"><div class="prompt input_prompt">
</div><div class="inner_cell">
<div class="text_cell_render border-box-sizing rendered_html">
<p>We can check <a href="https://docs.python.org/3.5/library/hashlib.html#hashlib.algorithms_available">the available algorithms</a>, some of them being <a href="https://docs.python.org/3.5/library/hashlib.html#hashlib.algorithms_guaranteed">guaranteed to be on any platform</a>, some are not.</p>

</div>
</div>
</div>
<div class="cell border-box-sizing code_cell rendered">
<div class="input">
<div class="prompt input_prompt">In&nbsp;[3]:</div>
<div class="inner_cell">
    <div class="input_area">
<div class=" highlight hl-ipython3"><pre><span></span><span class="nb">list</span><span class="p">(</span><span class="n">hashlib</span><span class="o">.</span><span class="n">algorithms_available</span><span class="p">)</span>
</pre></div>

    </div>
</div>
</div>

<div class="output_wrapper">
<div class="output">


<div class="output_area">

    <div class="prompt output_prompt">Out[3]:</div>




<div class="output_text output_subarea output_execute_result">
<pre>[&#39;ripemd160&#39;,
 &#39;MD4&#39;,
 &#39;SHA224&#39;,
 &#39;sha384&#39;,
 &#39;md4&#39;,
 &#39;DSA-SHA&#39;,
 &#39;SHA256&#39;,
 &#39;SHA384&#39;,
 &#39;MD5&#39;,
 &#39;whirlpool&#39;,
 &#39;sha&#39;,
 &#39;sha1&#39;,
 &#39;RIPEMD160&#39;,
 &#39;DSA&#39;,
 &#39;dsaWithSHA&#39;,
 &#39;dsaEncryption&#39;,
 &#39;sha224&#39;,
 &#39;SHA&#39;,
 &#39;sha512&#39;,
 &#39;md5&#39;,
 &#39;SHA512&#39;,
 &#39;ecdsa-with-SHA1&#39;,
 &#39;SHA1&#39;,
 &#39;sha256&#39;]</pre>
</div>

</div>

</div>
</div>

</div>
<div class="cell border-box-sizing text_cell rendered"><div class="prompt input_prompt">
</div><div class="inner_cell">
<div class="text_cell_render border-box-sizing rendered_html">
<p>I will need at least these ones:</p>

</div>
</div>
</div>
<div class="cell border-box-sizing code_cell rendered">
<div class="input">
<div class="prompt input_prompt">In&nbsp;[4]:</div>
<div class="inner_cell">
    <div class="input_area">
<div class=" highlight hl-ipython3"><pre><span></span><span class="k">assert</span> <span class="s1">&#39;MD5&#39;</span> <span class="ow">in</span> <span class="n">hashlib</span><span class="o">.</span><span class="n">algorithms_available</span>
<span class="k">assert</span> <span class="s1">&#39;SHA1&#39;</span> <span class="ow">in</span> <span class="n">hashlib</span><span class="o">.</span><span class="n">algorithms_available</span>
<span class="k">assert</span> <span class="s1">&#39;SHA256&#39;</span> <span class="ow">in</span> <span class="n">hashlib</span><span class="o">.</span><span class="n">algorithms_available</span>
<span class="k">assert</span> <span class="s1">&#39;SHA224&#39;</span> <span class="ow">in</span> <span class="n">hashlib</span><span class="o">.</span><span class="n">algorithms_available</span>
<span class="k">assert</span> <span class="s1">&#39;SHA512&#39;</span> <span class="ow">in</span> <span class="n">hashlib</span><span class="o">.</span><span class="n">algorithms_available</span>
<span class="k">assert</span> <span class="s1">&#39;SHA384&#39;</span> <span class="ow">in</span> <span class="n">hashlib</span><span class="o">.</span><span class="n">algorithms_available</span>
</pre></div>

    </div>
</div>
</div>

</div>
<div class="cell border-box-sizing text_cell rendered"><div class="prompt input_prompt">
</div><div class="inner_cell">
<div class="text_cell_render border-box-sizing rendered_html">
<p>Lets check that they have the block size and digest size announced:</p>

</div>
</div>
</div>
<div class="cell border-box-sizing code_cell rendered">
<div class="input">
<div class="prompt input_prompt">In&nbsp;[5]:</div>
<div class="inner_cell">
    <div class="input_area">
<div class=" highlight hl-ipython3"><pre><span></span><span class="k">for</span> <span class="n">name</span><span class="p">,</span> <span class="n">s</span> <span class="ow">in</span> <span class="nb">zip</span><span class="p">(</span>
        <span class="p">(</span><span class="s1">&#39;MD5&#39;</span><span class="p">,</span> <span class="s1">&#39;SHA1&#39;</span><span class="p">,</span> <span class="s1">&#39;SHA256&#39;</span><span class="p">,</span> <span class="s1">&#39;SHA224&#39;</span><span class="p">,</span> <span class="s1">&#39;SHA512&#39;</span><span class="p">,</span> <span class="s1">&#39;SHA384&#39;</span><span class="p">),</span>
        <span class="p">(</span><span class="n">hashlib</span><span class="o">.</span><span class="n">md5</span><span class="p">(),</span> <span class="n">hashlib</span><span class="o">.</span><span class="n">sha1</span><span class="p">(),</span> <span class="n">hashlib</span><span class="o">.</span><span class="n">sha256</span><span class="p">(),</span> <span class="n">hashlib</span><span class="o">.</span><span class="n">sha224</span><span class="p">(),</span> <span class="n">hashlib</span><span class="o">.</span><span class="n">sha512</span><span class="p">(),</span> <span class="n">hashlib</span><span class="o">.</span><span class="n">sha384</span><span class="p">())</span>
    <span class="p">):</span>
    <span class="nb">print</span><span class="p">(</span><span class="s2">&quot;For </span><span class="si">{:&lt;8}</span><span class="s2"> : the block size is </span><span class="si">{:&lt;3}</span><span class="s2"> and the digest size is </span><span class="si">{:&lt;2}</span><span class="s2">.&quot;</span><span class="o">.</span><span class="n">format</span><span class="p">(</span><span class="n">name</span><span class="p">,</span> <span class="n">s</span><span class="o">.</span><span class="n">block_size</span><span class="p">,</span> <span class="n">s</span><span class="o">.</span><span class="n">digest_size</span><span class="p">))</span>
</pre></div>

    </div>
</div>
</div>

<div class="output_wrapper">
<div class="output">


<div class="output_area">

    <div class="prompt"></div>


<div class="output_subarea output_stream output_stdout output_text">
<pre>For MD5      : the block size is 64  and the digest size is 16.
For SHA1     : the block size is 64  and the digest size is 20.
For SHA256   : the block size is 64  and the digest size is 32.
For SHA224   : the block size is 64  and the digest size is 28.
For SHA512   : the block size is 128 and the digest size is 64.
For SHA384   : the block size is 128 and the digest size is 48.
</pre>
</div>
</div>

</div>
</div>

</div>
<div class="cell border-box-sizing text_cell rendered"><div class="prompt input_prompt">
</div><div class="inner_cell">
<div class="text_cell_render border-box-sizing rendered_html">
<hr>
<h2 id="First-stupid-example:-a-stupid-hashing-function">First stupid example: a stupid hashing function<a class="anchor-link" href="#First-stupid-example:-a-stupid-hashing-function">&#182;</a></h2><p>This "stupid" hashing function will use <code>digest_size</code> of 128 bytes (= 16 bits), and compute it by ... just looking at the first 128 bytes of the input data.</p>
<p>This is just to check the API and how to read from a bytes buffer.</p>

</div>
</div>
</div>
<div class="cell border-box-sizing code_cell rendered">
<div class="input">
<div class="prompt input_prompt">In&nbsp;[6]:</div>
<div class="inner_cell">
    <div class="input_area">
<div class=" highlight hl-ipython3"><pre><span></span><span class="k">class</span> <span class="nc">HeaderHash</span><span class="p">(</span><span class="n">Hash</span><span class="p">):</span>
    <span class="sd">&quot;&quot;&quot; This &quot;stupid&quot; hashing function will use `digest_size` of 128 bytes, and compute it by ... just looking at the first 128 bytes of the input data.</span>
<span class="sd">    &quot;&quot;&quot;</span>
    
    <span class="k">def</span> <span class="nf">__init__</span><span class="p">(</span><span class="bp">self</span><span class="p">):</span>
        <span class="c1"># Common part</span>
        <span class="bp">self</span><span class="o">.</span><span class="n">digest_size</span> <span class="o">=</span> <span class="mi">16</span>
        <span class="bp">self</span><span class="o">.</span><span class="n">block_size</span>  <span class="o">=</span> <span class="mi">16</span>
        <span class="bp">self</span><span class="o">.</span><span class="n">name</span> <span class="o">=</span> <span class="s2">&quot;Header&quot;</span>
        <span class="c1"># Specific part</span>
        <span class="bp">self</span><span class="o">.</span><span class="n">_data</span> <span class="o">=</span> <span class="sa">b</span><span class="s2">&quot;&quot;</span>

    <span class="k">def</span> <span class="nf">update</span><span class="p">(</span><span class="bp">self</span><span class="p">,</span> <span class="n">arg</span><span class="p">):</span>
        <span class="sd">&quot;&quot;&quot; Update the hash object with the object arg, which must be interpretable as a buffer of bytes.&quot;&quot;&quot;</span>
        <span class="k">if</span> <span class="nb">len</span><span class="p">(</span><span class="bp">self</span><span class="o">.</span><span class="n">_data</span><span class="p">)</span> <span class="o">==</span> <span class="mi">0</span><span class="p">:</span>
            <span class="bp">self</span><span class="o">.</span><span class="n">_data</span> <span class="o">=</span> <span class="n">arg</span><span class="p">[:</span><span class="bp">self</span><span class="o">.</span><span class="n">block_size</span><span class="p">]</span>

    <span class="k">def</span> <span class="nf">digest</span><span class="p">(</span><span class="bp">self</span><span class="p">):</span>
        <span class="sd">&quot;&quot;&quot; Return the digest of the data passed to the update() method so far. This is a bytes object of size digest_size which may contain bytes in the whole range from 0 to 255.&quot;&quot;&quot;</span>
        <span class="k">return</span> <span class="bp">self</span><span class="o">.</span><span class="n">_data</span>
</pre></div>

    </div>
</div>
</div>

</div>
<div class="cell border-box-sizing text_cell rendered"><div class="prompt input_prompt">
</div><div class="inner_cell">
<div class="text_cell_render border-box-sizing rendered_html">
<p>Let us try it:</p>

</div>
</div>
</div>
<div class="cell border-box-sizing code_cell rendered">
<div class="input">
<div class="prompt input_prompt">In&nbsp;[7]:</div>
<div class="inner_cell">
    <div class="input_area">
<div class=" highlight hl-ipython3"><pre><span></span><span class="n">h1</span> <span class="o">=</span> <span class="n">HeaderHash</span><span class="p">()</span>
</pre></div>

    </div>
</div>
</div>

</div>
<div class="cell border-box-sizing code_cell rendered">
<div class="input">
<div class="prompt input_prompt">In&nbsp;[8]:</div>
<div class="inner_cell">
    <div class="input_area">
<div class=" highlight hl-ipython3"><pre><span></span><span class="n">h1</span>
<span class="nb">print</span><span class="p">(</span><span class="n">h1</span><span class="p">)</span>
</pre></div>

    </div>
</div>
</div>

<div class="output_wrapper">
<div class="output">


<div class="output_area">

    <div class="prompt output_prompt">Out[8]:</div>




<div class="output_text output_subarea output_execute_result">
<pre>&lt;__main__.HeaderHash at 0x7fc84c200630&gt;</pre>
</div>

</div>

<div class="output_area">

    <div class="prompt"></div>


<div class="output_subarea output_stream output_stdout output_text">
<pre>Header
</pre>
</div>
</div>

</div>
</div>

</div>
<div class="cell border-box-sizing text_cell rendered"><div class="prompt input_prompt">
</div><div class="inner_cell">
<div class="text_cell_render border-box-sizing rendered_html">
<p>Let us use some toy data, to test here and after.</p>

</div>
</div>
</div>
<div class="cell border-box-sizing code_cell rendered">
<div class="input">
<div class="prompt input_prompt">In&nbsp;[9]:</div>
<div class="inner_cell">
    <div class="input_area">
<div class=" highlight hl-ipython3"><pre><span></span><span class="n">data</span> <span class="o">=</span> <span class="sa">b</span><span class="s2">&quot;0123456789ABCDEFGHIJKLMNOPQRSTUVWXYZ&quot;</span> <span class="o">*</span> <span class="mi">100</span>
</pre></div>

    </div>
</div>
</div>

</div>
<div class="cell border-box-sizing code_cell rendered">
<div class="input">
<div class="prompt input_prompt">In&nbsp;[10]:</div>
<div class="inner_cell">
    <div class="input_area">
<div class=" highlight hl-ipython3"><pre><span></span><span class="n">h1</span><span class="o">.</span><span class="n">update</span><span class="p">(</span><span class="n">data</span><span class="p">)</span>
<span class="n">h1</span><span class="o">.</span><span class="n">digest</span><span class="p">()</span>
</pre></div>

    </div>
</div>
</div>

<div class="output_wrapper">
<div class="output">


<div class="output_area">

    <div class="prompt output_prompt">Out[10]:</div>




<div class="output_text output_subarea output_execute_result">
<pre>b&#39;0123456789ABCDEF&#39;</pre>
</div>

</div>

</div>
</div>

</div>
<div class="cell border-box-sizing text_cell rendered"><div class="prompt input_prompt">
</div><div class="inner_cell">
<div class="text_cell_render border-box-sizing rendered_html">
<blockquote><p>Well... It seems to work, even if this first example is stupid.</p>
</blockquote>

</div>
</div>
</div>
<div class="cell border-box-sizing text_cell rendered"><div class="prompt input_prompt">
</div><div class="inner_cell">
<div class="text_cell_render border-box-sizing rendered_html">
<hr>
<h2 id="First-real-example:-the-MD5-hashing-function">First real example: the MD5 hashing function<a class="anchor-link" href="#First-real-example:-the-MD5-hashing-function">&#182;</a></h2><p>Let start with a simple one: <a href="https://en.wikipedia.org/wiki/MD5">the MD5 hashing function</a>, from Rivest in 1992.</p>
<center><span style="font-size: large; color: red;"><b>Warning</b>: it is considered broken since at least 2012, never use it for security purposes.</span></center>
</div>
</div>
</div>
<div class="cell border-box-sizing text_cell rendered"><div class="prompt input_prompt">
</div><div class="inner_cell">
<div class="text_cell_render border-box-sizing rendered_html">
<h3 id="Useful-functions-for-the-MD5-algorithm">Useful functions for the MD5 algorithm<a class="anchor-link" href="#Useful-functions-for-the-MD5-algorithm">&#182;</a></h3><p>Instead of writing the complete MD5 algorithm in the class below, I preferred to define here some useful functions, using <a href="https://wiki.python.org/moin/BitwiseOperators">Bitwise operators</a>.</p>

</div>
</div>
</div>
<div class="cell border-box-sizing code_cell rendered">
<div class="input">
<div class="prompt input_prompt">In&nbsp;[11]:</div>
<div class="inner_cell">
    <div class="input_area">
<div class=" highlight hl-ipython3"><pre><span></span><span class="k">def</span> <span class="nf">MD5_f1</span><span class="p">(</span><span class="n">b</span><span class="p">,</span> <span class="n">c</span><span class="p">,</span> <span class="n">d</span><span class="p">):</span>
    <span class="sd">&quot;&quot;&quot; First ternary bitwise operation.&quot;&quot;&quot;</span>
    <span class="k">return</span> <span class="p">((</span><span class="n">b</span> <span class="o">&amp;</span> <span class="n">c</span><span class="p">)</span> <span class="o">|</span> <span class="p">((</span><span class="o">~</span><span class="n">b</span><span class="p">)</span> <span class="o">&amp;</span> <span class="n">d</span><span class="p">))</span> <span class="o">&amp;</span> <span class="mh">0xFFFFFFFF</span>

<span class="k">def</span> <span class="nf">MD5_f2</span><span class="p">(</span><span class="n">b</span><span class="p">,</span> <span class="n">c</span><span class="p">,</span> <span class="n">d</span><span class="p">):</span>
    <span class="sd">&quot;&quot;&quot; Second ternary bitwise operation.&quot;&quot;&quot;</span>
    <span class="k">return</span> <span class="p">((</span><span class="n">b</span> <span class="o">&amp;</span> <span class="n">d</span><span class="p">)</span> <span class="o">|</span> <span class="p">(</span><span class="n">c</span> <span class="o">&amp;</span> <span class="p">(</span><span class="o">~</span><span class="n">d</span><span class="p">)))</span> <span class="o">&amp;</span> <span class="mh">0xFFFFFFFF</span>

<span class="k">def</span> <span class="nf">MD5_f3</span><span class="p">(</span><span class="n">b</span><span class="p">,</span> <span class="n">c</span><span class="p">,</span> <span class="n">d</span><span class="p">):</span>
    <span class="sd">&quot;&quot;&quot; Third ternary bitwise operation.&quot;&quot;&quot;</span>
    <span class="k">return</span> <span class="p">(</span><span class="n">b</span> <span class="o">^</span> <span class="n">c</span> <span class="o">^</span> <span class="n">d</span><span class="p">)</span> <span class="o">&amp;</span> <span class="mh">0xFFFFFFFF</span>

<span class="k">def</span> <span class="nf">MD5_f4</span><span class="p">(</span><span class="n">b</span><span class="p">,</span> <span class="n">c</span><span class="p">,</span> <span class="n">d</span><span class="p">):</span>
    <span class="sd">&quot;&quot;&quot; Forth ternary bitwise operation.&quot;&quot;&quot;</span>
    <span class="k">return</span> <span class="p">(</span><span class="n">c</span> <span class="o">^</span> <span class="p">(</span><span class="n">b</span> <span class="o">|</span> <span class="p">(</span><span class="o">~</span><span class="n">d</span><span class="p">)))</span> <span class="o">&amp;</span> <span class="mh">0xFFFFFFFF</span>
</pre></div>

    </div>
</div>
</div>

</div>
<div class="cell border-box-sizing code_cell rendered">
<div class="input">
<div class="prompt input_prompt">In&nbsp;[12]:</div>
<div class="inner_cell">
    <div class="input_area">
<div class=" highlight hl-ipython3"><pre><span></span><span class="k">def</span> <span class="nf">leftrotate</span><span class="p">(</span><span class="n">x</span><span class="p">,</span> <span class="n">c</span><span class="p">):</span>
    <span class="sd">&quot;&quot;&quot; Left rotate the number x by c bytes.&quot;&quot;&quot;</span>
    <span class="n">x</span> <span class="o">&amp;=</span> <span class="mh">0xFFFFFFFF</span>
    <span class="k">return</span> <span class="p">((</span><span class="n">x</span> <span class="o">&lt;&lt;</span> <span class="n">c</span><span class="p">)</span> <span class="o">|</span> <span class="p">(</span><span class="n">x</span> <span class="o">&gt;&gt;</span> <span class="p">(</span><span class="mi">32</span> <span class="o">-</span> <span class="n">c</span><span class="p">)))</span> <span class="o">&amp;</span> <span class="mh">0xFFFFFFFF</span>
</pre></div>

    </div>
</div>
</div>

</div>
<div class="cell border-box-sizing code_cell rendered">
<div class="input">
<div class="prompt input_prompt">In&nbsp;[13]:</div>
<div class="inner_cell">
    <div class="input_area">
<div class=" highlight hl-ipython3"><pre><span></span><span class="k">def</span> <span class="nf">leftshift</span><span class="p">(</span><span class="n">x</span><span class="p">,</span> <span class="n">c</span><span class="p">):</span>
    <span class="sd">&quot;&quot;&quot; Left shift the number x by c bytes.&quot;&quot;&quot;</span>
    <span class="k">return</span> <span class="n">x</span> <span class="o">&lt;&lt;</span> <span class="n">c</span>
</pre></div>

    </div>
</div>
</div>

</div>
<div class="cell border-box-sizing code_cell rendered">
<div class="input">
<div class="prompt input_prompt">In&nbsp;[14]:</div>
<div class="inner_cell">
    <div class="input_area">
<div class=" highlight hl-ipython3"><pre><span></span><span class="kn">from</span> <span class="nn">math</span> <span class="k">import</span> <span class="n">floor</span><span class="p">,</span> <span class="n">sin</span>
</pre></div>

    </div>
</div>
</div>

</div>
<div class="cell border-box-sizing text_cell rendered"><div class="prompt input_prompt">
</div><div class="inner_cell">
<div class="text_cell_render border-box-sizing rendered_html">
<h3 id="The-MD5-class">The <code>MD5</code> class<a class="anchor-link" href="#The-MD5-class">&#182;</a></h3>
</div>
</div>
</div>
<div class="cell border-box-sizing text_cell rendered"><div class="prompt input_prompt">
</div><div class="inner_cell">
<div class="text_cell_render border-box-sizing rendered_html">
<p>It is a direct implementation of the pseudo-code, as given for instance on the Wikipedia page, or the original research article by Rivest.</p>

</div>
</div>
</div>
<div class="cell border-box-sizing code_cell rendered">
<div class="input">
<div class="prompt input_prompt">In&nbsp;[15]:</div>
<div class="inner_cell">
    <div class="input_area">
<div class=" highlight hl-ipython3"><pre><span></span><span class="k">class</span> <span class="nc">MD5</span><span class="p">(</span><span class="n">Hash</span><span class="p">):</span>
    <span class="sd">&quot;&quot;&quot;MD5 hashing, see https://en.wikipedia.org/wiki/MD5#Algorithm.&quot;&quot;&quot;</span>
    
    <span class="k">def</span> <span class="nf">__init__</span><span class="p">(</span><span class="bp">self</span><span class="p">):</span>
        <span class="bp">self</span><span class="o">.</span><span class="n">name</span>        <span class="o">=</span> <span class="s2">&quot;MD5&quot;</span>
        <span class="bp">self</span><span class="o">.</span><span class="n">byteorder</span>   <span class="o">=</span> <span class="s1">&#39;little&#39;</span>
        <span class="bp">self</span><span class="o">.</span><span class="n">block_size</span>  <span class="o">=</span> <span class="mi">64</span>
        <span class="bp">self</span><span class="o">.</span><span class="n">digest_size</span> <span class="o">=</span> <span class="mi">16</span>
        <span class="c1"># Internal data</span>
        <span class="n">s</span> <span class="o">=</span> <span class="p">[</span><span class="mi">0</span><span class="p">]</span> <span class="o">*</span> <span class="mi">64</span>
        <span class="n">K</span> <span class="o">=</span> <span class="p">[</span><span class="mi">0</span><span class="p">]</span> <span class="o">*</span> <span class="mi">64</span>
        <span class="c1"># Initialize s, s specifies the per-round shift amounts</span>
        <span class="n">s</span><span class="p">[</span> <span class="mi">0</span><span class="p">:</span><span class="mi">16</span><span class="p">]</span> <span class="o">=</span> <span class="p">[</span><span class="mi">7</span><span class="p">,</span> <span class="mi">12</span><span class="p">,</span> <span class="mi">17</span><span class="p">,</span> <span class="mi">22</span><span class="p">,</span>  <span class="mi">7</span><span class="p">,</span> <span class="mi">12</span><span class="p">,</span> <span class="mi">17</span><span class="p">,</span> <span class="mi">22</span><span class="p">,</span>  <span class="mi">7</span><span class="p">,</span> <span class="mi">12</span><span class="p">,</span> <span class="mi">17</span><span class="p">,</span> <span class="mi">22</span><span class="p">,</span>  <span class="mi">7</span><span class="p">,</span> <span class="mi">12</span><span class="p">,</span> <span class="mi">17</span><span class="p">,</span> <span class="mi">22</span><span class="p">]</span>
        <span class="n">s</span><span class="p">[</span><span class="mi">16</span><span class="p">:</span><span class="mi">32</span><span class="p">]</span> <span class="o">=</span> <span class="p">[</span><span class="mi">5</span><span class="p">,</span>  <span class="mi">9</span><span class="p">,</span> <span class="mi">14</span><span class="p">,</span> <span class="mi">20</span><span class="p">,</span>  <span class="mi">5</span><span class="p">,</span>  <span class="mi">9</span><span class="p">,</span> <span class="mi">14</span><span class="p">,</span> <span class="mi">20</span><span class="p">,</span>  <span class="mi">5</span><span class="p">,</span>  <span class="mi">9</span><span class="p">,</span> <span class="mi">14</span><span class="p">,</span> <span class="mi">20</span><span class="p">,</span>  <span class="mi">5</span><span class="p">,</span>  <span class="mi">9</span><span class="p">,</span> <span class="mi">14</span><span class="p">,</span> <span class="mi">20</span><span class="p">]</span>
        <span class="n">s</span><span class="p">[</span><span class="mi">32</span><span class="p">:</span><span class="mi">48</span><span class="p">]</span> <span class="o">=</span> <span class="p">[</span><span class="mi">4</span><span class="p">,</span> <span class="mi">11</span><span class="p">,</span> <span class="mi">16</span><span class="p">,</span> <span class="mi">23</span><span class="p">,</span>  <span class="mi">4</span><span class="p">,</span> <span class="mi">11</span><span class="p">,</span> <span class="mi">16</span><span class="p">,</span> <span class="mi">23</span><span class="p">,</span>  <span class="mi">4</span><span class="p">,</span> <span class="mi">11</span><span class="p">,</span> <span class="mi">16</span><span class="p">,</span> <span class="mi">23</span><span class="p">,</span>  <span class="mi">4</span><span class="p">,</span> <span class="mi">11</span><span class="p">,</span> <span class="mi">16</span><span class="p">,</span> <span class="mi">23</span><span class="p">]</span>
        <span class="n">s</span><span class="p">[</span><span class="mi">48</span><span class="p">:</span><span class="mi">64</span><span class="p">]</span> <span class="o">=</span> <span class="p">[</span><span class="mi">6</span><span class="p">,</span> <span class="mi">10</span><span class="p">,</span> <span class="mi">15</span><span class="p">,</span> <span class="mi">21</span><span class="p">,</span>  <span class="mi">6</span><span class="p">,</span> <span class="mi">10</span><span class="p">,</span> <span class="mi">15</span><span class="p">,</span> <span class="mi">21</span><span class="p">,</span>  <span class="mi">6</span><span class="p">,</span> <span class="mi">10</span><span class="p">,</span> <span class="mi">15</span><span class="p">,</span> <span class="mi">21</span><span class="p">,</span>  <span class="mi">6</span><span class="p">,</span> <span class="mi">10</span><span class="p">,</span> <span class="mi">15</span><span class="p">,</span> <span class="mi">21</span><span class="p">]</span>
        <span class="c1"># Store it</span>
        <span class="bp">self</span><span class="o">.</span><span class="n">_s</span> <span class="o">=</span> <span class="n">s</span>
        <span class="c1"># Use binary integer part of the sines of integers (Radians) as constants:</span>
        <span class="k">for</span> <span class="n">i</span> <span class="ow">in</span> <span class="nb">range</span><span class="p">(</span><span class="mi">64</span><span class="p">):</span>
            <span class="n">K</span><span class="p">[</span><span class="n">i</span><span class="p">]</span> <span class="o">=</span> <span class="n">floor</span><span class="p">(</span><span class="mi">2</span><span class="o">**</span><span class="mi">32</span> <span class="o">*</span> <span class="nb">abs</span><span class="p">(</span><span class="n">sin</span><span class="p">(</span><span class="n">i</span> <span class="o">+</span> <span class="mi">1</span><span class="p">)))</span> <span class="o">&amp;</span> <span class="mh">0xFFFFFFFF</span>
        <span class="c1"># Store it</span>
        <span class="bp">self</span><span class="o">.</span><span class="n">_K</span> <span class="o">=</span> <span class="n">K</span>
        <span class="c1"># Initialize variables:</span>
        <span class="n">a0</span> <span class="o">=</span> <span class="mh">0x67452301</span>   <span class="c1"># A</span>
        <span class="n">b0</span> <span class="o">=</span> <span class="mh">0xefcdab89</span>   <span class="c1"># B</span>
        <span class="n">c0</span> <span class="o">=</span> <span class="mh">0x98badcfe</span>   <span class="c1"># C</span>
        <span class="n">d0</span> <span class="o">=</span> <span class="mh">0x10325476</span>   <span class="c1"># D</span>
        <span class="bp">self</span><span class="o">.</span><span class="n">hash_pieces</span> <span class="o">=</span> <span class="p">[</span><span class="n">a0</span><span class="p">,</span> <span class="n">b0</span><span class="p">,</span> <span class="n">c0</span><span class="p">,</span> <span class="n">d0</span><span class="p">]</span>
    
    <span class="k">def</span> <span class="nf">update</span><span class="p">(</span><span class="bp">self</span><span class="p">,</span> <span class="n">arg</span><span class="p">):</span>
        <span class="n">s</span><span class="p">,</span> <span class="n">K</span> <span class="o">=</span> <span class="bp">self</span><span class="o">.</span><span class="n">_s</span><span class="p">,</span> <span class="bp">self</span><span class="o">.</span><span class="n">_K</span>
        <span class="n">a0</span><span class="p">,</span> <span class="n">b0</span><span class="p">,</span> <span class="n">c0</span><span class="p">,</span> <span class="n">d0</span> <span class="o">=</span> <span class="bp">self</span><span class="o">.</span><span class="n">hash_pieces</span>
        <span class="c1"># 1. Pre-processing</span>
        <span class="n">data</span> <span class="o">=</span> <span class="nb">bytearray</span><span class="p">(</span><span class="n">arg</span><span class="p">)</span>
        <span class="n">orig_len_in_bits</span> <span class="o">=</span> <span class="p">(</span><span class="mi">8</span> <span class="o">*</span> <span class="nb">len</span><span class="p">(</span><span class="n">data</span><span class="p">))</span> <span class="o">&amp;</span> <span class="mh">0xFFFFFFFFFFFFFFFF</span>
        <span class="c1"># 1.a. Add a single &#39;1&#39; bit at the end of the input bits</span>
        <span class="n">data</span><span class="o">.</span><span class="n">append</span><span class="p">(</span><span class="mh">0x80</span><span class="p">)</span>
        <span class="c1"># 1.b. Padding with zeros as long as the input bits length ≡ 448 (mod 512)</span>
        <span class="k">while</span> <span class="nb">len</span><span class="p">(</span><span class="n">data</span><span class="p">)</span> <span class="o">%</span> <span class="mi">64</span> <span class="o">!=</span> <span class="mi">56</span><span class="p">:</span>
            <span class="n">data</span><span class="o">.</span><span class="n">append</span><span class="p">(</span><span class="mi">0</span><span class="p">)</span>
        <span class="c1"># 1.c. append original length in bits mod (2 pow 64) to message</span>
        <span class="n">data</span> <span class="o">+=</span> <span class="n">orig_len_in_bits</span><span class="o">.</span><span class="n">to_bytes</span><span class="p">(</span><span class="mi">8</span><span class="p">,</span> <span class="n">byteorder</span><span class="o">=</span><span class="s1">&#39;little&#39;</span><span class="p">)</span>
        <span class="k">assert</span> <span class="nb">len</span><span class="p">(</span><span class="n">data</span><span class="p">)</span> <span class="o">%</span> <span class="mi">64</span> <span class="o">==</span> <span class="mi">0</span><span class="p">,</span> <span class="s2">&quot;Error in padding&quot;</span>
        <span class="c1"># 2. Computations</span>
        <span class="c1"># Process the message in successive 512-bit = 64-bytes chunks:</span>
        <span class="k">for</span> <span class="n">offset</span> <span class="ow">in</span> <span class="nb">range</span><span class="p">(</span><span class="mi">0</span><span class="p">,</span> <span class="nb">len</span><span class="p">(</span><span class="n">data</span><span class="p">),</span> <span class="mi">64</span><span class="p">):</span>
            <span class="c1"># 2.a. 512-bits = 64-bytes chunks</span>
            <span class="n">chunks</span> <span class="o">=</span> <span class="n">data</span><span class="p">[</span><span class="n">offset</span> <span class="p">:</span> <span class="n">offset</span> <span class="o">+</span> <span class="mi">64</span><span class="p">]</span>
            <span class="c1"># 2.b. Break chunk into sixteen 32-bit = 4-bytes words M[j], 0 ≤ j ≤ 15</span>
            <span class="n">A</span><span class="p">,</span> <span class="n">B</span><span class="p">,</span> <span class="n">C</span><span class="p">,</span> <span class="n">D</span> <span class="o">=</span> <span class="n">a0</span><span class="p">,</span> <span class="n">b0</span><span class="p">,</span> <span class="n">c0</span><span class="p">,</span> <span class="n">d0</span>
            <span class="c1"># 2.c. Main loop</span>
            <span class="k">for</span> <span class="n">i</span> <span class="ow">in</span> <span class="nb">range</span><span class="p">(</span><span class="mi">64</span><span class="p">):</span>
                <span class="k">if</span> <span class="mi">0</span> <span class="o">&lt;=</span> <span class="n">i</span> <span class="o">&lt;=</span> <span class="mi">15</span><span class="p">:</span>
                    <span class="n">F</span> <span class="o">=</span> <span class="n">MD5_f1</span><span class="p">(</span><span class="n">B</span><span class="p">,</span> <span class="n">C</span><span class="p">,</span> <span class="n">D</span><span class="p">)</span>
                    <span class="n">g</span> <span class="o">=</span> <span class="n">i</span>
                <span class="k">elif</span> <span class="mi">16</span> <span class="o">&lt;=</span> <span class="n">i</span> <span class="o">&lt;=</span> <span class="mi">31</span><span class="p">:</span>
                    <span class="n">F</span> <span class="o">=</span> <span class="n">MD5_f2</span><span class="p">(</span><span class="n">B</span><span class="p">,</span> <span class="n">C</span><span class="p">,</span> <span class="n">D</span><span class="p">)</span>
                    <span class="n">g</span> <span class="o">=</span> <span class="p">(</span><span class="mi">5</span> <span class="o">*</span> <span class="n">i</span> <span class="o">+</span> <span class="mi">1</span><span class="p">)</span> <span class="o">%</span> <span class="mi">16</span>
                <span class="k">elif</span> <span class="mi">32</span> <span class="o">&lt;=</span> <span class="n">i</span> <span class="o">&lt;=</span> <span class="mi">47</span><span class="p">:</span>
                    <span class="n">F</span> <span class="o">=</span> <span class="n">MD5_f3</span><span class="p">(</span><span class="n">B</span><span class="p">,</span> <span class="n">C</span><span class="p">,</span> <span class="n">D</span><span class="p">)</span>
                    <span class="n">g</span> <span class="o">=</span> <span class="p">(</span><span class="mi">3</span> <span class="o">*</span> <span class="n">i</span> <span class="o">+</span> <span class="mi">5</span><span class="p">)</span> <span class="o">%</span> <span class="mi">16</span>
                <span class="k">elif</span> <span class="mi">48</span> <span class="o">&lt;=</span> <span class="n">i</span> <span class="o">&lt;=</span> <span class="mi">63</span><span class="p">:</span>
                    <span class="n">F</span> <span class="o">=</span> <span class="n">MD5_f4</span><span class="p">(</span><span class="n">B</span><span class="p">,</span> <span class="n">C</span><span class="p">,</span> <span class="n">D</span><span class="p">)</span>
                    <span class="n">g</span> <span class="o">=</span> <span class="p">(</span><span class="mi">7</span> <span class="o">*</span> <span class="n">i</span><span class="p">)</span> <span class="o">%</span> <span class="mi">16</span>
                <span class="c1"># Be wary of the below definitions of A, B, C, D</span>
                <span class="n">to_rotate</span> <span class="o">=</span> <span class="p">(</span><span class="n">A</span> <span class="o">+</span> <span class="n">F</span> <span class="o">+</span> <span class="n">K</span><span class="p">[</span><span class="n">i</span><span class="p">]</span> <span class="o">+</span> <span class="nb">int</span><span class="o">.</span><span class="n">from_bytes</span><span class="p">(</span><span class="n">chunks</span><span class="p">[</span><span class="mi">4</span><span class="o">*</span><span class="n">g</span> <span class="p">:</span> <span class="mi">4</span><span class="o">*</span><span class="n">g</span><span class="o">+</span><span class="mi">4</span><span class="p">],</span> <span class="n">byteorder</span><span class="o">=</span><span class="s1">&#39;little&#39;</span><span class="p">))</span> <span class="o">&amp;</span> <span class="mh">0xFFFFFFFF</span>
                <span class="n">new_B</span> <span class="o">=</span> <span class="p">(</span><span class="n">B</span> <span class="o">+</span> <span class="n">leftrotate</span><span class="p">(</span><span class="n">to_rotate</span><span class="p">,</span> <span class="n">s</span><span class="p">[</span><span class="n">i</span><span class="p">]))</span> <span class="o">&amp;</span> <span class="mh">0xFFFFFFFF</span>
                <span class="n">A</span><span class="p">,</span> <span class="n">B</span><span class="p">,</span> <span class="n">C</span><span class="p">,</span> <span class="n">D</span> <span class="o">=</span> <span class="n">D</span><span class="p">,</span> <span class="n">new_B</span><span class="p">,</span> <span class="n">B</span><span class="p">,</span> <span class="n">C</span>
            <span class="c1"># Add this chunk&#39;s hash to result so far:</span>
            <span class="n">a0</span> <span class="o">=</span> <span class="p">(</span><span class="n">a0</span> <span class="o">+</span> <span class="n">A</span><span class="p">)</span> <span class="o">&amp;</span> <span class="mh">0xFFFFFFFF</span>
            <span class="n">b0</span> <span class="o">=</span> <span class="p">(</span><span class="n">b0</span> <span class="o">+</span> <span class="n">B</span><span class="p">)</span> <span class="o">&amp;</span> <span class="mh">0xFFFFFFFF</span>
            <span class="n">c0</span> <span class="o">=</span> <span class="p">(</span><span class="n">c0</span> <span class="o">+</span> <span class="n">C</span><span class="p">)</span> <span class="o">&amp;</span> <span class="mh">0xFFFFFFFF</span>
            <span class="n">d0</span> <span class="o">=</span> <span class="p">(</span><span class="n">d0</span> <span class="o">+</span> <span class="n">D</span><span class="p">)</span> <span class="o">&amp;</span> <span class="mh">0xFFFFFFFF</span>
        <span class="c1"># 3. Conclusion</span>
        <span class="bp">self</span><span class="o">.</span><span class="n">hash_pieces</span> <span class="o">=</span> <span class="p">[</span><span class="n">a0</span><span class="p">,</span> <span class="n">b0</span><span class="p">,</span> <span class="n">c0</span><span class="p">,</span> <span class="n">d0</span><span class="p">]</span>

    <span class="k">def</span> <span class="nf">digest</span><span class="p">(</span><span class="bp">self</span><span class="p">):</span>
        <span class="k">return</span> <span class="nb">sum</span><span class="p">(</span><span class="n">leftshift</span><span class="p">(</span><span class="n">x</span><span class="p">,</span> <span class="p">(</span><span class="mi">32</span> <span class="o">*</span> <span class="n">i</span><span class="p">))</span> <span class="k">for</span> <span class="n">i</span><span class="p">,</span> <span class="n">x</span> <span class="ow">in</span> <span class="nb">enumerate</span><span class="p">(</span><span class="bp">self</span><span class="o">.</span><span class="n">hash_pieces</span><span class="p">))</span>
</pre></div>

    </div>
</div>
</div>

</div>
<div class="cell border-box-sizing text_cell rendered"><div class="prompt input_prompt">
</div><div class="inner_cell">
<div class="text_cell_render border-box-sizing rendered_html">
<p>We can also write a function to directly compute the hex digest from some bytes data.</p>

</div>
</div>
</div>
<div class="cell border-box-sizing code_cell rendered">
<div class="input">
<div class="prompt input_prompt">In&nbsp;[16]:</div>
<div class="inner_cell">
    <div class="input_area">
<div class=" highlight hl-ipython3"><pre><span></span><span class="k">def</span> <span class="nf">hash_MD5</span><span class="p">(</span><span class="n">data</span><span class="p">):</span>
    <span class="sd">&quot;&quot;&quot; Shortcut function to directly receive the hex digest from MD5(data).&quot;&quot;&quot;</span>
    <span class="n">h</span> <span class="o">=</span> <span class="n">MD5</span><span class="p">()</span>
    <span class="k">if</span> <span class="nb">isinstance</span><span class="p">(</span><span class="n">data</span><span class="p">,</span> <span class="nb">str</span><span class="p">):</span>
        <span class="n">data</span> <span class="o">=</span> <span class="nb">bytes</span><span class="p">(</span><span class="n">data</span><span class="p">,</span> <span class="n">encoding</span><span class="o">=</span><span class="s1">&#39;utf8&#39;</span><span class="p">)</span>
    <span class="n">h</span><span class="o">.</span><span class="n">update</span><span class="p">(</span><span class="n">data</span><span class="p">)</span>
    <span class="k">return</span> <span class="n">h</span><span class="o">.</span><span class="n">hexdigest</span><span class="p">()</span>
</pre></div>

    </div>
</div>
</div>

</div>
<div class="cell border-box-sizing text_cell rendered"><div class="prompt input_prompt">
</div><div class="inner_cell">
<div class="text_cell_render border-box-sizing rendered_html">
<div style="text-align:right;"><blockquote> *Note:* [This page helped for debugging](https://rosettacode.org/wiki/MD5/Implementation#Python).</blockquote></div>
</div>
</div>
</div>
<div class="cell border-box-sizing text_cell rendered"><div class="prompt input_prompt">
</div><div class="inner_cell">
<div class="text_cell_render border-box-sizing rendered_html">
<h3 id="First-check-on-MD5">First check on MD5<a class="anchor-link" href="#First-check-on-MD5">&#182;</a></h3><p>Let us try it:</p>

</div>
</div>
</div>
<div class="cell border-box-sizing code_cell rendered">
<div class="input">
<div class="prompt input_prompt">In&nbsp;[17]:</div>
<div class="inner_cell">
    <div class="input_area">
<div class=" highlight hl-ipython3"><pre><span></span><span class="n">h2</span> <span class="o">=</span> <span class="n">MD5</span><span class="p">()</span>
<span class="n">h2</span>
<span class="nb">print</span><span class="p">(</span><span class="n">h2</span><span class="p">)</span>
</pre></div>

    </div>
</div>
</div>

<div class="output_wrapper">
<div class="output">


<div class="output_area">

    <div class="prompt output_prompt">Out[17]:</div>




<div class="output_text output_subarea output_execute_result">
<pre>&lt;__main__.MD5 at 0x7fc84c46b668&gt;</pre>
</div>

</div>

<div class="output_area">

    <div class="prompt"></div>


<div class="output_subarea output_stream output_stdout output_text">
<pre>MD5
</pre>
</div>
</div>

</div>
</div>

</div>
<div class="cell border-box-sizing code_cell rendered">
<div class="input">
<div class="prompt input_prompt">In&nbsp;[18]:</div>
<div class="inner_cell">
    <div class="input_area">
<div class=" highlight hl-ipython3"><pre><span></span><span class="n">h2</span><span class="o">.</span><span class="n">update</span><span class="p">(</span><span class="n">data</span><span class="p">)</span>
<span class="n">h2</span><span class="o">.</span><span class="n">digest</span><span class="p">()</span>
</pre></div>

    </div>
</div>
</div>

<div class="output_wrapper">
<div class="output">


<div class="output_area">

    <div class="prompt output_prompt">Out[18]:</div>




<div class="output_text output_subarea output_execute_result">
<pre>52666558089014014065978771967570616878</pre>
</div>

</div>

</div>
</div>

</div>
<div class="cell border-box-sizing code_cell rendered">
<div class="input">
<div class="prompt input_prompt">In&nbsp;[19]:</div>
<div class="inner_cell">
    <div class="input_area">
<div class=" highlight hl-ipython3"><pre><span></span><span class="n">h2</span><span class="o">.</span><span class="n">hexdigest</span><span class="p">()</span>
</pre></div>

    </div>
</div>
</div>

<div class="output_wrapper">
<div class="output">


<div class="output_area">

    <div class="prompt output_prompt">Out[19]:</div>




<div class="output_text output_subarea output_execute_result">
<pre>&#39;2e224cd661b6b83e0f3a0a06cb359f27&#39;</pre>
</div>

</div>

</div>
</div>

</div>
<div class="cell border-box-sizing text_cell rendered"><div class="prompt input_prompt">
</div><div class="inner_cell">
<div class="text_cell_render border-box-sizing rendered_html">
<h3 id="A-less-stupid-check-on-MD5">A less stupid check on MD5<a class="anchor-link" href="#A-less-stupid-check-on-MD5">&#182;</a></h3><p>Let try the example from <a href="https://en.wikipedia.org/wiki/MD5#MD5_hashes">MD5 Wikipedia page</a> :</p>

</div>
</div>
</div>
<div class="cell border-box-sizing code_cell rendered">
<div class="input">
<div class="prompt input_prompt">In&nbsp;[20]:</div>
<div class="inner_cell">
    <div class="input_area">
<div class=" highlight hl-ipython3"><pre><span></span><span class="n">hash_MD5</span><span class="p">(</span><span class="s2">&quot;The quick brown fox jumps over the lazy dog&quot;</span><span class="p">)</span>
<span class="k">assert</span> <span class="n">hash_MD5</span><span class="p">(</span><span class="s2">&quot;The quick brown fox jumps over the lazy dog&quot;</span><span class="p">)</span> <span class="o">==</span> <span class="s1">&#39;9e107d9d372bb6826bd81d3542a419d6&#39;</span>
</pre></div>

    </div>
</div>
</div>

<div class="output_wrapper">
<div class="output">


<div class="output_area">

    <div class="prompt output_prompt">Out[20]:</div>




<div class="output_text output_subarea output_execute_result">
<pre>&#39;9e107d9d372bb6826bd81d3542a419d6&#39;</pre>
</div>

</div>

</div>
</div>

</div>
<div class="cell border-box-sizing text_cell rendered"><div class="prompt input_prompt">
</div><div class="inner_cell">
<div class="text_cell_render border-box-sizing rendered_html">
<p>Even a small change in the message will (with overwhelming probability) result in a mostly different hash, due to the <a href="https://en.wikipedia.org/wiki/Avalanche_effect"><strong>avalanche effect</strong></a>. For example, adding a period to the end of the sentence:</p>

</div>
</div>
</div>
<div class="cell border-box-sizing code_cell rendered">
<div class="input">
<div class="prompt input_prompt">In&nbsp;[21]:</div>
<div class="inner_cell">
    <div class="input_area">
<div class=" highlight hl-ipython3"><pre><span></span><span class="n">hash_MD5</span><span class="p">(</span><span class="s2">&quot;The quick brown fox jumps over the lazy dog.&quot;</span><span class="p">)</span>
<span class="k">assert</span> <span class="n">hash_MD5</span><span class="p">(</span><span class="s2">&quot;The quick brown fox jumps over the lazy dog.&quot;</span><span class="p">)</span> <span class="o">==</span> <span class="s1">&#39;e4d909c290d0fb1ca068ffaddf22cbd0&#39;</span>
</pre></div>

    </div>
</div>
</div>

<div class="output_wrapper">
<div class="output">


<div class="output_area">

    <div class="prompt output_prompt">Out[21]:</div>




<div class="output_text output_subarea output_execute_result">
<pre>&#39;e4d909c290d0fb1ca068ffaddf22cbd0&#39;</pre>
</div>

</div>

</div>
</div>

</div>
<div class="cell border-box-sizing text_cell rendered"><div class="prompt input_prompt">
</div><div class="inner_cell">
<div class="text_cell_render border-box-sizing rendered_html">
<p>The hash of the zero-length string is:</p>

</div>
</div>
</div>
<div class="cell border-box-sizing code_cell rendered">
<div class="input">
<div class="prompt input_prompt">In&nbsp;[22]:</div>
<div class="inner_cell">
    <div class="input_area">
<div class=" highlight hl-ipython3"><pre><span></span><span class="n">hash_MD5</span><span class="p">(</span><span class="s2">&quot;&quot;</span><span class="p">)</span>
<span class="k">assert</span> <span class="n">hash_MD5</span><span class="p">(</span><span class="s2">&quot;&quot;</span><span class="p">)</span> <span class="o">==</span> <span class="s1">&#39;d41d8cd98f00b204e9800998ecf8427e&#39;</span>
</pre></div>

    </div>
</div>
</div>

<div class="output_wrapper">
<div class="output">


<div class="output_area">

    <div class="prompt output_prompt">Out[22]:</div>




<div class="output_text output_subarea output_execute_result">
<pre>&#39;d41d8cd98f00b204e9800998ecf8427e&#39;</pre>
</div>

</div>

</div>
</div>

</div>
<div class="cell border-box-sizing text_cell rendered"><div class="prompt input_prompt">
</div><div class="inner_cell">
<div class="text_cell_render border-box-sizing rendered_html">
<p>$\implies$ We obtained the same result, OK our function works!</p>

</div>
</div>
</div>
<div class="cell border-box-sizing text_cell rendered"><div class="prompt input_prompt">
</div><div class="inner_cell">
<div class="text_cell_render border-box-sizing rendered_html">
<h3 id="Trying-1000-random-examples">Trying 1000 random examples<a class="anchor-link" href="#Trying-1000-random-examples">&#182;</a></h3><p>On a small sentence:</p>

</div>
</div>
</div>
<div class="cell border-box-sizing code_cell rendered">
<div class="input">
<div class="prompt input_prompt">In&nbsp;[23]:</div>
<div class="inner_cell">
    <div class="input_area">
<div class=" highlight hl-ipython3"><pre><span></span><span class="n">hash_MD5</span><span class="p">(</span><span class="s2">&quot;My name is Zorro !&quot;</span><span class="p">)</span>
</pre></div>

    </div>
</div>
</div>

<div class="output_wrapper">
<div class="output">


<div class="output_area">

    <div class="prompt output_prompt">Out[23]:</div>




<div class="output_text output_subarea output_execute_result">
<pre>&#39;0ad8cb82874690906cf732223adeebbe&#39;</pre>
</div>

</div>

</div>
</div>

</div>
<div class="cell border-box-sizing code_cell rendered">
<div class="input">
<div class="prompt input_prompt">In&nbsp;[24]:</div>
<div class="inner_cell">
    <div class="input_area">
<div class=" highlight hl-ipython3"><pre><span></span><span class="n">h</span> <span class="o">=</span> <span class="n">hashlib</span><span class="o">.</span><span class="n">md5</span><span class="p">()</span>
<span class="n">h</span><span class="o">.</span><span class="n">update</span><span class="p">(</span><span class="sa">b</span><span class="s2">&quot;My name is Zorro !&quot;</span><span class="p">)</span>
<span class="n">h</span><span class="o">.</span><span class="n">hexdigest</span><span class="p">()</span>
</pre></div>

    </div>
</div>
</div>

<div class="output_wrapper">
<div class="output">


<div class="output_area">

    <div class="prompt output_prompt">Out[24]:</div>




<div class="output_text output_subarea output_execute_result">
<pre>&#39;0ad8cb82874690906cf732223adeebbe&#39;</pre>
</div>

</div>

</div>
</div>

</div>
<div class="cell border-box-sizing text_cell rendered"><div class="prompt input_prompt">
</div><div class="inner_cell">
<div class="text_cell_render border-box-sizing rendered_html">
<p>It starts to look good.</p>

</div>
</div>
</div>
<div class="cell border-box-sizing code_cell rendered">
<div class="input">
<div class="prompt input_prompt">In&nbsp;[25]:</div>
<div class="inner_cell">
    <div class="input_area">
<div class=" highlight hl-ipython3"><pre><span></span><span class="k">def</span> <span class="nf">true_hash_MD5</span><span class="p">(</span><span class="n">data</span><span class="p">):</span>
    <span class="n">h</span> <span class="o">=</span> <span class="n">hashlib</span><span class="o">.</span><span class="n">md5</span><span class="p">()</span>
    <span class="k">if</span> <span class="nb">isinstance</span><span class="p">(</span><span class="n">data</span><span class="p">,</span> <span class="nb">str</span><span class="p">):</span>
        <span class="n">data</span> <span class="o">=</span> <span class="nb">bytes</span><span class="p">(</span><span class="n">data</span><span class="p">,</span> <span class="n">encoding</span><span class="o">=</span><span class="s1">&#39;utf8&#39;</span><span class="p">)</span>
    <span class="n">h</span><span class="o">.</span><span class="n">update</span><span class="p">(</span><span class="n">data</span><span class="p">)</span>
    <span class="k">return</span> <span class="n">h</span><span class="o">.</span><span class="n">hexdigest</span><span class="p">()</span>
</pre></div>

    </div>
</div>
</div>

</div>
<div class="cell border-box-sizing text_cell rendered"><div class="prompt input_prompt">
</div><div class="inner_cell">
<div class="text_cell_render border-box-sizing rendered_html">
<p>On some random data:</p>

</div>
</div>
</div>
<div class="cell border-box-sizing code_cell rendered">
<div class="input">
<div class="prompt input_prompt">In&nbsp;[26]:</div>
<div class="inner_cell">
    <div class="input_area">
<div class=" highlight hl-ipython3"><pre><span></span><span class="kn">import</span> <span class="nn">numpy.random</span> <span class="k">as</span> <span class="nn">nr</span>
<span class="n">alphabets</span> <span class="o">=</span> <span class="s2">&quot;0123456789ABCDEFGHIJKLMNOPQRSTUVWXYZabcdefghijklmnopqrstuvwxyz&quot;</span>

<span class="k">def</span> <span class="nf">random_string</span><span class="p">(</span><span class="n">size</span><span class="o">=</span><span class="mi">10000</span><span class="p">):</span>
    <span class="k">return</span> <span class="s1">&#39;&#39;</span><span class="o">.</span><span class="n">join</span><span class="p">(</span><span class="n">alphabets</span><span class="p">[</span><span class="n">nr</span><span class="o">.</span><span class="n">randint</span><span class="p">(</span><span class="nb">len</span><span class="p">(</span><span class="n">alphabets</span><span class="p">))]</span> <span class="k">for</span> <span class="n">_</span> <span class="ow">in</span> <span class="nb">range</span><span class="p">(</span><span class="n">size</span><span class="p">))</span>
</pre></div>

    </div>
</div>
</div>

</div>
<div class="cell border-box-sizing code_cell rendered">
<div class="input">
<div class="prompt input_prompt">In&nbsp;[27]:</div>
<div class="inner_cell">
    <div class="input_area">
<div class=" highlight hl-ipython3"><pre><span></span><span class="n">random_string</span><span class="p">(</span><span class="mi">10</span><span class="p">)</span>
</pre></div>

    </div>
</div>
</div>

<div class="output_wrapper">
<div class="output">


<div class="output_area">

    <div class="prompt output_prompt">Out[27]:</div>




<div class="output_text output_subarea output_execute_result">
<pre>&#39;3rsYqmZDxE&#39;</pre>
</div>

</div>

</div>
</div>

</div>
<div class="cell border-box-sizing code_cell rendered">
<div class="input">
<div class="prompt input_prompt">In&nbsp;[28]:</div>
<div class="inner_cell">
    <div class="input_area">
<div class=" highlight hl-ipython3"><pre><span></span><span class="kn">from</span> <span class="nn">tqdm</span> <span class="k">import</span> <span class="n">tqdm_notebook</span> <span class="k">as</span> <span class="n">tqdm</span>
</pre></div>

    </div>
</div>
</div>

</div>
<div class="cell border-box-sizing code_cell rendered">
<div class="input">
<div class="prompt input_prompt">In&nbsp;[29]:</div>
<div class="inner_cell">
    <div class="input_area">
<div class=" highlight hl-ipython3"><pre><span></span><span class="o">%%time</span>
<span class="k">for</span> <span class="n">_</span> <span class="ow">in</span> <span class="n">tqdm</span><span class="p">(</span><span class="nb">range</span><span class="p">(</span><span class="mi">1000</span><span class="p">)):</span>
    <span class="n">x</span> <span class="o">=</span> <span class="n">random_string</span><span class="p">()</span>
    <span class="k">assert</span> <span class="n">hash_MD5</span><span class="p">(</span><span class="n">x</span><span class="p">)</span> <span class="o">==</span> <span class="n">true_hash_MD5</span><span class="p">(</span><span class="n">x</span><span class="p">),</span> <span class="s2">&quot;Error: x = </span><span class="si">{}</span><span class="s2"> gave two different MD5 hashes: my implementation = </span><span class="si">{}</span><span class="s2"> != hashlib implementation = </span><span class="si">{}</span><span class="s2">...&quot;</span><span class="o">.</span><span class="n">format</span><span class="p">(</span><span class="n">x</span><span class="p">,</span> <span class="n">hash_MD5</span><span class="p">(</span><span class="n">x</span><span class="p">),</span> <span class="n">true_hash_MD5</span><span class="p">(</span><span class="n">x</span><span class="p">))</span>
</pre></div>

    </div>
</div>
</div>

<div class="output_wrapper">
<div class="output">


<div class="output_area">

    <div class="prompt"></div>





 
 
<div id="1498f214-bab9-4224-900b-840fe7d4606c"></div>
<div class="output_subarea output_widget_view ">
<script type="text/javascript">
var element = $('#1498f214-bab9-4224-900b-840fe7d4606c');
</script>
<script type="application/vnd.jupyter.widget-view+json">
{"model_id": "543521e9ef89409c94620250e345c1d7"}
</script>
</div>

</div>

<div class="output_area">

    <div class="prompt"></div>


<div class="output_subarea output_stream output_stdout output_text">
<pre>CPU times: user 33.1 s, sys: 12 ms, total: 33.1 s
Wall time: 33.1 s
</pre>
</div>
</div>

</div>
</div>

</div>
<div class="cell border-box-sizing text_cell rendered"><div class="prompt input_prompt">
</div><div class="inner_cell">
<div class="text_cell_render border-box-sizing rendered_html">
<hr>
<h2 id="Second-real-example:-the-SHA-1-hashing-function">Second real example: the SHA-1 hashing function<a class="anchor-link" href="#Second-real-example:-the-SHA-1-hashing-function">&#182;</a></h2>
</div>
</div>
</div>
<div class="cell border-box-sizing text_cell rendered"><div class="prompt input_prompt">
</div><div class="inner_cell">
<div class="text_cell_render border-box-sizing rendered_html">
<p>Let now study and implement another hashing function, slightly harder to write but more secure: SHA1, "Secure Hash Algorithm, version 1".
See <a href="https://en.wikipedia.org/wiki/SHA-1">the SHA1 hashing function</a> on Wikipedia, if needed.</p>
<center><span style="font-size: large; color: red;"><b>Warning</b>: it is considered broken since at least 2011, it is not advised to use it for real security purposes. SHA-2 or SHA-3 is better advised.</span></center><p>For instance, see <a href="https://konklone.com/post/why-google-is-hurrying-the-web-to-kill-sha-1">this nice blog post</a>.</p>

</div>
</div>
</div>
<div class="cell border-box-sizing text_cell rendered"><div class="prompt input_prompt">
</div><div class="inner_cell">
<div class="text_cell_render border-box-sizing rendered_html">
<h3 id="Useful-functions-the-SHA-1-algorithm">Useful functions the SHA-1 algorithm<a class="anchor-link" href="#Useful-functions-the-SHA-1-algorithm">&#182;</a></h3>
</div>
</div>
</div>
<div class="cell border-box-sizing text_cell rendered"><div class="prompt input_prompt">
</div><div class="inner_cell">
<div class="text_cell_render border-box-sizing rendered_html">
<p>Pretty similar to the ones used for the MD5 algorithm.</p>

</div>
</div>
</div>
<div class="cell border-box-sizing code_cell rendered">
<div class="input">
<div class="prompt input_prompt">In&nbsp;[30]:</div>
<div class="inner_cell">
    <div class="input_area">
<div class=" highlight hl-ipython3"><pre><span></span><span class="k">def</span> <span class="nf">SHA1_f1</span><span class="p">(</span><span class="n">b</span><span class="p">,</span> <span class="n">c</span><span class="p">,</span> <span class="n">d</span><span class="p">):</span>
    <span class="sd">&quot;&quot;&quot; First ternary bitwise operation.&quot;&quot;&quot;</span>
    <span class="k">return</span> <span class="p">((</span><span class="n">b</span> <span class="o">&amp;</span> <span class="n">c</span><span class="p">)</span> <span class="o">|</span> <span class="p">((</span><span class="o">~</span><span class="n">b</span><span class="p">)</span> <span class="o">&amp;</span> <span class="n">d</span><span class="p">))</span> <span class="o">&amp;</span> <span class="mh">0xFFFFFFFF</span>

<span class="k">def</span> <span class="nf">SHA1_f2</span><span class="p">(</span><span class="n">b</span><span class="p">,</span> <span class="n">c</span><span class="p">,</span> <span class="n">d</span><span class="p">):</span>
    <span class="sd">&quot;&quot;&quot; Second ternary bitwise operation.&quot;&quot;&quot;</span>
    <span class="k">return</span> <span class="p">(</span><span class="n">b</span> <span class="o">^</span> <span class="n">c</span> <span class="o">^</span> <span class="n">d</span><span class="p">)</span> <span class="o">&amp;</span> <span class="mh">0xFFFFFFFF</span>

<span class="k">def</span> <span class="nf">SHA1_f3</span><span class="p">(</span><span class="n">b</span><span class="p">,</span> <span class="n">c</span><span class="p">,</span> <span class="n">d</span><span class="p">):</span>
    <span class="sd">&quot;&quot;&quot; Third ternary bitwise operation.&quot;&quot;&quot;</span>
    <span class="k">return</span> <span class="p">((</span><span class="n">b</span> <span class="o">&amp;</span> <span class="n">c</span><span class="p">)</span> <span class="o">|</span> <span class="p">(</span><span class="n">b</span> <span class="o">&amp;</span> <span class="n">d</span><span class="p">)</span> <span class="o">|</span> <span class="p">(</span><span class="n">c</span> <span class="o">&amp;</span> <span class="n">d</span><span class="p">)</span> <span class="p">)</span> <span class="o">&amp;</span> <span class="mh">0xFFFFFFFF</span>

<span class="k">def</span> <span class="nf">SHA1_f4</span><span class="p">(</span><span class="n">b</span><span class="p">,</span> <span class="n">c</span><span class="p">,</span> <span class="n">d</span><span class="p">):</span>
    <span class="sd">&quot;&quot;&quot; Forth ternary bitwise operation, = SHA1_f1.&quot;&quot;&quot;</span>
    <span class="k">return</span> <span class="p">(</span><span class="n">b</span> <span class="o">^</span> <span class="n">c</span> <span class="o">^</span> <span class="n">d</span><span class="p">)</span> <span class="o">&amp;</span> <span class="mh">0xFFFFFFFF</span>
</pre></div>

    </div>
</div>
</div>

</div>
<div class="cell border-box-sizing text_cell rendered"><div class="prompt input_prompt">
</div><div class="inner_cell">
<div class="text_cell_render border-box-sizing rendered_html">
<p>This is exactly like for MD5.</p>

</div>
</div>
</div>
<div class="cell border-box-sizing code_cell rendered">
<div class="input">
<div class="prompt input_prompt">In&nbsp;[31]:</div>
<div class="inner_cell">
    <div class="input_area">
<div class=" highlight hl-ipython3"><pre><span></span><span class="k">def</span> <span class="nf">leftrotate</span><span class="p">(</span><span class="n">x</span><span class="p">,</span> <span class="n">c</span><span class="p">):</span>
    <span class="sd">&quot;&quot;&quot; Left rotate the number x by c bytes.&quot;&quot;&quot;</span>
    <span class="n">x</span> <span class="o">&amp;=</span> <span class="mh">0xFFFFFFFF</span>
    <span class="k">return</span> <span class="p">((</span><span class="n">x</span> <span class="o">&lt;&lt;</span> <span class="n">c</span><span class="p">)</span> <span class="o">|</span> <span class="p">(</span><span class="n">x</span> <span class="o">&gt;&gt;</span> <span class="p">(</span><span class="mi">32</span> <span class="o">-</span> <span class="n">c</span><span class="p">)))</span> <span class="o">&amp;</span> <span class="mh">0xFFFFFFFF</span>
</pre></div>

    </div>
</div>
</div>

</div>
<div class="cell border-box-sizing text_cell rendered"><div class="prompt input_prompt">
</div><div class="inner_cell">
<div class="text_cell_render border-box-sizing rendered_html">
<p>As SHA-1 plays with big-endian and little-endian integers, and at the end it requires a leftshift to combine the 5 hash pieces into one.</p>

</div>
</div>
</div>
<div class="cell border-box-sizing code_cell rendered">
<div class="input">
<div class="prompt input_prompt">In&nbsp;[32]:</div>
<div class="inner_cell">
    <div class="input_area">
<div class=" highlight hl-ipython3"><pre><span></span><span class="k">def</span> <span class="nf">leftshift</span><span class="p">(</span><span class="n">x</span><span class="p">,</span> <span class="n">c</span><span class="p">):</span>
    <span class="sd">&quot;&quot;&quot; Left shift the number x by c bytes.&quot;&quot;&quot;</span>
    <span class="k">return</span> <span class="n">x</span> <span class="o">&lt;&lt;</span> <span class="n">c</span>
</pre></div>

    </div>
</div>
</div>

</div>
<div class="cell border-box-sizing text_cell rendered"><div class="prompt input_prompt">
</div><div class="inner_cell">
<div class="text_cell_render border-box-sizing rendered_html">
<h3 id="The-SHA1-class">The <code>SHA1</code> class<a class="anchor-link" href="#The-SHA1-class">&#182;</a></h3><p>I will use a simple class, very similar to the class used for the MD5 algorithm (see above).
It is a direct implementation of the pseudo-code, as given for instance on the Wikipedia page.</p>

</div>
</div>
</div>
<div class="cell border-box-sizing code_cell rendered">
<div class="input">
<div class="prompt input_prompt">In&nbsp;[33]:</div>
<div class="inner_cell">
    <div class="input_area">
<div class=" highlight hl-ipython3"><pre><span></span><span class="k">class</span> <span class="nc">SHA1</span><span class="p">(</span><span class="n">Hash</span><span class="p">):</span>
    <span class="sd">&quot;&quot;&quot;SHA1 hashing, see https://en.wikipedia.org/wiki/SHA-1#Algorithm.&quot;&quot;&quot;</span>
    
    <span class="k">def</span> <span class="nf">__init__</span><span class="p">(</span><span class="bp">self</span><span class="p">):</span>
        <span class="bp">self</span><span class="o">.</span><span class="n">name</span>        <span class="o">=</span> <span class="s2">&quot;SHA1&quot;</span>
        <span class="bp">self</span><span class="o">.</span><span class="n">byteorder</span>   <span class="o">=</span> <span class="s1">&#39;big&#39;</span>
        <span class="bp">self</span><span class="o">.</span><span class="n">block_size</span>  <span class="o">=</span> <span class="mi">64</span>
        <span class="bp">self</span><span class="o">.</span><span class="n">digest_size</span> <span class="o">=</span> <span class="mi">20</span>
        <span class="c1"># Initialize variables</span>
        <span class="n">h0</span> <span class="o">=</span> <span class="mh">0x67452301</span>
        <span class="n">h1</span> <span class="o">=</span> <span class="mh">0xEFCDAB89</span>
        <span class="n">h2</span> <span class="o">=</span> <span class="mh">0x98BADCFE</span>
        <span class="n">h3</span> <span class="o">=</span> <span class="mh">0x10325476</span>
        <span class="n">h4</span> <span class="o">=</span> <span class="mh">0xC3D2E1F0</span>
        <span class="c1"># Store them</span>
        <span class="bp">self</span><span class="o">.</span><span class="n">hash_pieces</span> <span class="o">=</span> <span class="p">[</span><span class="n">h0</span><span class="p">,</span> <span class="n">h1</span><span class="p">,</span> <span class="n">h2</span><span class="p">,</span> <span class="n">h3</span><span class="p">,</span> <span class="n">h4</span><span class="p">]</span>
    
    <span class="k">def</span> <span class="nf">update</span><span class="p">(</span><span class="bp">self</span><span class="p">,</span> <span class="n">arg</span><span class="p">):</span>
        <span class="n">h0</span><span class="p">,</span> <span class="n">h1</span><span class="p">,</span> <span class="n">h2</span><span class="p">,</span> <span class="n">h3</span><span class="p">,</span> <span class="n">h4</span> <span class="o">=</span> <span class="bp">self</span><span class="o">.</span><span class="n">hash_pieces</span>
        <span class="c1"># 1. Pre-processing, exactly like MD5</span>
        <span class="n">data</span> <span class="o">=</span> <span class="nb">bytearray</span><span class="p">(</span><span class="n">arg</span><span class="p">)</span>
        <span class="n">orig_len_in_bits</span> <span class="o">=</span> <span class="p">(</span><span class="mi">8</span> <span class="o">*</span> <span class="nb">len</span><span class="p">(</span><span class="n">data</span><span class="p">))</span> <span class="o">&amp;</span> <span class="mh">0xFFFFFFFFFFFFFFFF</span>
        <span class="c1"># 1.a. Add a single &#39;1&#39; bit at the end of the input bits</span>
        <span class="n">data</span><span class="o">.</span><span class="n">append</span><span class="p">(</span><span class="mh">0x80</span><span class="p">)</span>
        <span class="c1"># 1.b. Padding with zeros as long as the input bits length ≡ 448 (mod 512)</span>
        <span class="k">while</span> <span class="nb">len</span><span class="p">(</span><span class="n">data</span><span class="p">)</span> <span class="o">%</span> <span class="mi">64</span> <span class="o">!=</span> <span class="mi">56</span><span class="p">:</span>
            <span class="n">data</span><span class="o">.</span><span class="n">append</span><span class="p">(</span><span class="mi">0</span><span class="p">)</span>
        <span class="c1"># 1.c. append original length in bits mod (2 pow 64) to message</span>
        <span class="n">data</span> <span class="o">+=</span> <span class="n">orig_len_in_bits</span><span class="o">.</span><span class="n">to_bytes</span><span class="p">(</span><span class="mi">8</span><span class="p">,</span> <span class="n">byteorder</span><span class="o">=</span><span class="s1">&#39;big&#39;</span><span class="p">)</span>
        <span class="k">assert</span> <span class="nb">len</span><span class="p">(</span><span class="n">data</span><span class="p">)</span> <span class="o">%</span> <span class="mi">64</span> <span class="o">==</span> <span class="mi">0</span><span class="p">,</span> <span class="s2">&quot;Error in padding&quot;</span>
        <span class="c1"># 2. Computations</span>
        <span class="c1"># Process the message in successive 512-bit = 64-bytes chunks:</span>
        <span class="k">for</span> <span class="n">offset</span> <span class="ow">in</span> <span class="nb">range</span><span class="p">(</span><span class="mi">0</span><span class="p">,</span> <span class="nb">len</span><span class="p">(</span><span class="n">data</span><span class="p">),</span> <span class="mi">64</span><span class="p">):</span>
            <span class="c1"># 2.a. 512-bits = 64-bytes chunks</span>
            <span class="n">chunks</span> <span class="o">=</span> <span class="n">data</span><span class="p">[</span><span class="n">offset</span> <span class="p">:</span> <span class="n">offset</span> <span class="o">+</span> <span class="mi">64</span><span class="p">]</span>
            <span class="n">w</span> <span class="o">=</span> <span class="p">[</span><span class="mi">0</span> <span class="k">for</span> <span class="n">i</span> <span class="ow">in</span> <span class="nb">range</span><span class="p">(</span><span class="mi">80</span><span class="p">)]</span>
            <span class="c1"># 2.b. Break chunk into sixteen 32-bit = 4-bytes words w[i], 0 ≤ i ≤ 15</span>
            <span class="k">for</span> <span class="n">i</span> <span class="ow">in</span> <span class="nb">range</span><span class="p">(</span><span class="mi">16</span><span class="p">):</span>
                <span class="n">w</span><span class="p">[</span><span class="n">i</span><span class="p">]</span> <span class="o">=</span> <span class="nb">int</span><span class="o">.</span><span class="n">from_bytes</span><span class="p">(</span><span class="n">chunks</span><span class="p">[</span><span class="mi">4</span><span class="o">*</span><span class="n">i</span> <span class="p">:</span> <span class="mi">4</span><span class="o">*</span><span class="n">i</span> <span class="o">+</span> <span class="mi">4</span><span class="p">],</span> <span class="n">byteorder</span><span class="o">=</span><span class="s1">&#39;big&#39;</span><span class="p">)</span>
            <span class="c1"># 2.c. Extend the sixteen 32-bit words into eighty 32-bit words</span>
            <span class="k">for</span> <span class="n">i</span> <span class="ow">in</span> <span class="nb">range</span><span class="p">(</span><span class="mi">16</span><span class="p">,</span> <span class="mi">80</span><span class="p">):</span>
                <span class="n">w</span><span class="p">[</span><span class="n">i</span><span class="p">]</span> <span class="o">=</span> <span class="n">leftrotate</span><span class="p">(</span><span class="n">w</span><span class="p">[</span><span class="n">i</span><span class="o">-</span><span class="mi">3</span><span class="p">]</span> <span class="o">^</span> <span class="n">w</span><span class="p">[</span><span class="n">i</span><span class="o">-</span><span class="mi">8</span><span class="p">]</span> <span class="o">^</span> <span class="n">w</span><span class="p">[</span><span class="n">i</span><span class="o">-</span><span class="mi">14</span><span class="p">]</span> <span class="o">^</span> <span class="n">w</span><span class="p">[</span><span class="n">i</span><span class="o">-</span><span class="mi">16</span><span class="p">],</span> <span class="mi">1</span><span class="p">)</span>
            <span class="c1"># 2.d. Initialize hash value for this chunk</span>
            <span class="n">a</span><span class="p">,</span> <span class="n">b</span><span class="p">,</span> <span class="n">c</span><span class="p">,</span> <span class="n">d</span><span class="p">,</span> <span class="n">e</span> <span class="o">=</span> <span class="n">h0</span><span class="p">,</span> <span class="n">h1</span><span class="p">,</span> <span class="n">h2</span><span class="p">,</span> <span class="n">h3</span><span class="p">,</span> <span class="n">h4</span>
            <span class="c1"># 2.e. Main loop, cf. http://www.faqs.org/rfcs/rfc3174.html</span>
            <span class="k">for</span> <span class="n">i</span> <span class="ow">in</span> <span class="nb">range</span><span class="p">(</span><span class="mi">80</span><span class="p">):</span>
                <span class="k">if</span> <span class="mi">0</span> <span class="o">&lt;=</span> <span class="n">i</span> <span class="o">&lt;=</span> <span class="mi">19</span> <span class="p">:</span>
                    <span class="n">f</span> <span class="o">=</span> <span class="n">SHA1_f1</span><span class="p">(</span><span class="n">b</span><span class="p">,</span> <span class="n">c</span><span class="p">,</span> <span class="n">d</span><span class="p">)</span>
                    <span class="n">k</span> <span class="o">=</span> <span class="mh">0x5A827999</span>
                <span class="k">elif</span> <span class="mi">20</span> <span class="o">&lt;=</span> <span class="n">i</span> <span class="o">&lt;=</span> <span class="mi">39</span> <span class="p">:</span>
                    <span class="n">f</span> <span class="o">=</span> <span class="n">SHA1_f2</span><span class="p">(</span><span class="n">b</span><span class="p">,</span> <span class="n">c</span><span class="p">,</span> <span class="n">d</span><span class="p">)</span>
                    <span class="n">k</span> <span class="o">=</span> <span class="mh">0x6ED9EBA1</span>
                <span class="k">elif</span> <span class="mi">40</span> <span class="o">&lt;=</span> <span class="n">i</span> <span class="o">&lt;=</span> <span class="mi">59</span> <span class="p">:</span>
                    <span class="n">f</span> <span class="o">=</span> <span class="n">SHA1_f3</span><span class="p">(</span><span class="n">b</span><span class="p">,</span> <span class="n">c</span><span class="p">,</span> <span class="n">d</span><span class="p">)</span>
                    <span class="n">k</span> <span class="o">=</span> <span class="mh">0x8F1BBCDC</span>
                <span class="k">elif</span> <span class="mi">60</span> <span class="o">&lt;=</span> <span class="n">i</span> <span class="o">&lt;=</span> <span class="mi">79</span> <span class="p">:</span>
                    <span class="n">f</span> <span class="o">=</span> <span class="n">SHA1_f4</span><span class="p">(</span><span class="n">b</span><span class="p">,</span> <span class="n">c</span><span class="p">,</span> <span class="n">d</span><span class="p">)</span>
                    <span class="n">k</span> <span class="o">=</span> <span class="mh">0xCA62C1D6</span>

                <span class="n">new_a</span> <span class="o">=</span> <span class="n">leftrotate</span><span class="p">(</span><span class="n">a</span><span class="p">,</span> <span class="mi">5</span><span class="p">)</span> <span class="o">+</span> <span class="n">f</span> <span class="o">+</span> <span class="n">e</span> <span class="o">+</span> <span class="n">k</span> <span class="o">+</span> <span class="n">w</span><span class="p">[</span><span class="n">i</span><span class="p">]</span> <span class="o">&amp;</span> <span class="mh">0xFFFFFFFF</span>
                <span class="n">new_c</span> <span class="o">=</span> <span class="n">leftrotate</span><span class="p">(</span><span class="n">b</span><span class="p">,</span> <span class="mi">30</span><span class="p">)</span>
                <span class="c1"># Rotate the 5 variables</span>
                <span class="n">a</span><span class="p">,</span> <span class="n">b</span><span class="p">,</span> <span class="n">c</span><span class="p">,</span> <span class="n">d</span><span class="p">,</span> <span class="n">e</span> <span class="o">=</span> <span class="n">new_a</span><span class="p">,</span> <span class="n">a</span><span class="p">,</span> <span class="n">new_c</span><span class="p">,</span> <span class="n">c</span><span class="p">,</span> <span class="n">d</span>

            <span class="c1"># Add this chunk&#39;s hash to result so far:</span>
            <span class="n">h0</span> <span class="o">=</span> <span class="p">(</span><span class="n">h0</span> <span class="o">+</span> <span class="n">a</span><span class="p">)</span> <span class="o">&amp;</span> <span class="mh">0xFFFFFFFF</span>
            <span class="n">h1</span> <span class="o">=</span> <span class="p">(</span><span class="n">h1</span> <span class="o">+</span> <span class="n">b</span><span class="p">)</span> <span class="o">&amp;</span> <span class="mh">0xFFFFFFFF</span>
            <span class="n">h2</span> <span class="o">=</span> <span class="p">(</span><span class="n">h2</span> <span class="o">+</span> <span class="n">c</span><span class="p">)</span> <span class="o">&amp;</span> <span class="mh">0xFFFFFFFF</span>
            <span class="n">h3</span> <span class="o">=</span> <span class="p">(</span><span class="n">h3</span> <span class="o">+</span> <span class="n">d</span><span class="p">)</span> <span class="o">&amp;</span> <span class="mh">0xFFFFFFFF</span>
            <span class="n">h4</span> <span class="o">=</span> <span class="p">(</span><span class="n">h4</span> <span class="o">+</span> <span class="n">e</span><span class="p">)</span> <span class="o">&amp;</span> <span class="mh">0xFFFFFFFF</span>
        <span class="c1"># 3. Conclusion</span>
        <span class="bp">self</span><span class="o">.</span><span class="n">hash_pieces</span> <span class="o">=</span> <span class="p">[</span><span class="n">h0</span><span class="p">,</span> <span class="n">h1</span><span class="p">,</span> <span class="n">h2</span><span class="p">,</span> <span class="n">h3</span><span class="p">,</span> <span class="n">h4</span><span class="p">]</span>

    <span class="k">def</span> <span class="nf">digest</span><span class="p">(</span><span class="bp">self</span><span class="p">):</span>
        <span class="k">return</span> <span class="nb">sum</span><span class="p">(</span><span class="n">leftshift</span><span class="p">(</span><span class="n">x</span><span class="p">,</span> <span class="mi">32</span> <span class="o">*</span> <span class="n">i</span><span class="p">)</span> <span class="k">for</span> <span class="n">i</span><span class="p">,</span> <span class="n">x</span> <span class="ow">in</span> <span class="nb">enumerate</span><span class="p">(</span><span class="bp">self</span><span class="o">.</span><span class="n">hash_pieces</span><span class="p">[::</span><span class="o">-</span><span class="mi">1</span><span class="p">]))</span>
</pre></div>

    </div>
</div>
</div>

</div>
<div class="cell border-box-sizing text_cell rendered"><div class="prompt input_prompt">
</div><div class="inner_cell">
<div class="text_cell_render border-box-sizing rendered_html">
<p>We can also write a function to directly compute the hex digest from some bytes data.</p>

</div>
</div>
</div>
<div class="cell border-box-sizing code_cell rendered">
<div class="input">
<div class="prompt input_prompt">In&nbsp;[34]:</div>
<div class="inner_cell">
    <div class="input_area">
<div class=" highlight hl-ipython3"><pre><span></span><span class="k">def</span> <span class="nf">hash_SHA1</span><span class="p">(</span><span class="n">data</span><span class="p">):</span>
    <span class="sd">&quot;&quot;&quot; Shortcut function to directly receive the hex digest from SHA1(data).&quot;&quot;&quot;</span>
    <span class="n">h</span> <span class="o">=</span> <span class="n">SHA1</span><span class="p">()</span>
    <span class="k">if</span> <span class="nb">isinstance</span><span class="p">(</span><span class="n">data</span><span class="p">,</span> <span class="nb">str</span><span class="p">):</span>
        <span class="n">data</span> <span class="o">=</span> <span class="nb">bytes</span><span class="p">(</span><span class="n">data</span><span class="p">,</span> <span class="n">encoding</span><span class="o">=</span><span class="s1">&#39;utf8&#39;</span><span class="p">)</span>
    <span class="n">h</span><span class="o">.</span><span class="n">update</span><span class="p">(</span><span class="n">data</span><span class="p">)</span>
    <span class="k">return</span> <span class="n">h</span><span class="o">.</span><span class="n">hexdigest</span><span class="p">()</span>
</pre></div>

    </div>
</div>
</div>

</div>
<div class="cell border-box-sizing text_cell rendered"><div class="prompt input_prompt">
</div><div class="inner_cell">
<div class="text_cell_render border-box-sizing rendered_html">
<h3 id="First-check-on-SHA-1">First check on SHA-1<a class="anchor-link" href="#First-check-on-SHA-1">&#182;</a></h3><p>Let us try it:</p>

</div>
</div>
</div>
<div class="cell border-box-sizing code_cell rendered">
<div class="input">
<div class="prompt input_prompt">In&nbsp;[35]:</div>
<div class="inner_cell">
    <div class="input_area">
<div class=" highlight hl-ipython3"><pre><span></span><span class="n">h3</span> <span class="o">=</span> <span class="n">SHA1</span><span class="p">()</span>
<span class="n">h3</span>
<span class="nb">print</span><span class="p">(</span><span class="n">h3</span><span class="p">)</span>
</pre></div>

    </div>
</div>
</div>

<div class="output_wrapper">
<div class="output">


<div class="output_area">

    <div class="prompt output_prompt">Out[35]:</div>




<div class="output_text output_subarea output_execute_result">
<pre>&lt;__main__.SHA1 at 0x7fc82832f6a0&gt;</pre>
</div>

</div>

<div class="output_area">

    <div class="prompt"></div>


<div class="output_subarea output_stream output_stdout output_text">
<pre>SHA1
</pre>
</div>
</div>

</div>
</div>

</div>
<div class="cell border-box-sizing code_cell rendered">
<div class="input">
<div class="prompt input_prompt">In&nbsp;[36]:</div>
<div class="inner_cell">
    <div class="input_area">
<div class=" highlight hl-ipython3"><pre><span></span><span class="n">h3</span><span class="o">.</span><span class="n">update</span><span class="p">(</span><span class="n">data</span><span class="p">)</span>
<span class="n">h3</span><span class="o">.</span><span class="n">digest</span><span class="p">()</span>
</pre></div>

    </div>
</div>
</div>

<div class="output_wrapper">
<div class="output">


<div class="output_area">

    <div class="prompt output_prompt">Out[36]:</div>




<div class="output_text output_subarea output_execute_result">
<pre>144539618284518333681008855956641116845695054279</pre>
</div>

</div>

</div>
</div>

</div>
<div class="cell border-box-sizing code_cell rendered">
<div class="input">
<div class="prompt input_prompt">In&nbsp;[37]:</div>
<div class="inner_cell">
    <div class="input_area">
<div class=" highlight hl-ipython3"><pre><span></span><span class="n">digest</span> <span class="o">=</span> <span class="n">h3</span><span class="o">.</span><span class="n">digest</span><span class="p">()</span>
<span class="nb">bin</span><span class="p">(</span><span class="n">digest</span><span class="p">)</span>
<span class="nb">len</span><span class="p">(</span><span class="nb">bin</span><span class="p">(</span><span class="n">digest</span><span class="p">))</span>
</pre></div>

    </div>
</div>
</div>

<div class="output_wrapper">
<div class="output">


<div class="output_area">

    <div class="prompt output_prompt">Out[37]:</div>




<div class="output_text output_subarea output_execute_result">
<pre>&#39;0b1100101010001011000010111000111101000100111010111100000100010111111110001010100111110000001000110111111011010111001110100001011101000111111000011000111000111&#39;</pre>
</div>

</div>

<div class="output_area">

    <div class="prompt output_prompt">Out[37]:</div>




<div class="output_text output_subarea output_execute_result">
<pre>159</pre>
</div>

</div>

</div>
</div>

</div>
<div class="cell border-box-sizing code_cell rendered">
<div class="input">
<div class="prompt input_prompt">In&nbsp;[38]:</div>
<div class="inner_cell">
    <div class="input_area">
<div class=" highlight hl-ipython3"><pre><span></span><span class="n">h3</span><span class="o">.</span><span class="n">hexdigest</span><span class="p">()</span>
</pre></div>

    </div>
</div>
</div>

<div class="output_wrapper">
<div class="output">


<div class="output_area">

    <div class="prompt output_prompt">Out[38]:</div>




<div class="output_text output_subarea output_execute_result">
<pre>&#39;19516171e89d7822ff153e046fdae742e8fc31c7&#39;</pre>
</div>

</div>

</div>
</div>

</div>
<div class="cell border-box-sizing text_cell rendered"><div class="prompt input_prompt">
</div><div class="inner_cell">
<div class="text_cell_render border-box-sizing rendered_html">
<h3 id="A-less-stupid-check-on-SHA-1">A less stupid check on SHA-1<a class="anchor-link" href="#A-less-stupid-check-on-SHA-1">&#182;</a></h3><p>Let try the example from <a href="https://en.wikipedia.org/wiki/SHA-1#SHA-1_hashes">SHA-1 Wikipedia page</a> :</p>

</div>
</div>
</div>
<div class="cell border-box-sizing code_cell rendered">
<div class="input">
<div class="prompt input_prompt">In&nbsp;[39]:</div>
<div class="inner_cell">
    <div class="input_area">
<div class=" highlight hl-ipython3"><pre><span></span><span class="n">hash_SHA1</span><span class="p">(</span><span class="s2">&quot;The quick brown fox jumps over the lazy dog&quot;</span><span class="p">)</span>
<span class="k">assert</span> <span class="n">hash_SHA1</span><span class="p">(</span><span class="s2">&quot;The quick brown fox jumps over the lazy dog&quot;</span><span class="p">)</span> <span class="o">==</span> <span class="s1">&#39;2fd4e1c67a2d28fced849ee1bb76e7391b93eb12&#39;</span>
</pre></div>

    </div>
</div>
</div>

<div class="output_wrapper">
<div class="output">


<div class="output_area">

    <div class="prompt output_prompt">Out[39]:</div>




<div class="output_text output_subarea output_execute_result">
<pre>&#39;2fd4e1c67a2d28fced849ee1bb76e7391b93eb12&#39;</pre>
</div>

</div>

</div>
</div>

</div>
<div class="cell border-box-sizing text_cell rendered"><div class="prompt input_prompt">
</div><div class="inner_cell">
<div class="text_cell_render border-box-sizing rendered_html">
<p>Even a small change in the message will (with overwhelming probability) result in a mostly different hash, due to the <a href="https://en.wikipedia.org/wiki/Avalanche_effect"><strong>avalanche effect</strong></a>. For example, changing one letter in the sentence:</p>

</div>
</div>
</div>
<div class="cell border-box-sizing code_cell rendered">
<div class="input">
<div class="prompt input_prompt">In&nbsp;[40]:</div>
<div class="inner_cell">
    <div class="input_area">
<div class=" highlight hl-ipython3"><pre><span></span><span class="n">hash_SHA1</span><span class="p">(</span><span class="s2">&quot;The quick brown fox jumps over the lazy cog&quot;</span><span class="p">)</span>
<span class="k">assert</span> <span class="n">hash_SHA1</span><span class="p">(</span><span class="s2">&quot;The quick brown fox jumps over the lazy cog&quot;</span><span class="p">)</span> <span class="o">==</span> <span class="s1">&#39;de9f2c7fd25e1b3afad3e85a0bd17d9b100db4b3&#39;</span>
</pre></div>

    </div>
</div>
</div>

<div class="output_wrapper">
<div class="output">


<div class="output_area">

    <div class="prompt output_prompt">Out[40]:</div>




<div class="output_text output_subarea output_execute_result">
<pre>&#39;de9f2c7fd25e1b3afad3e85a0bd17d9b100db4b3&#39;</pre>
</div>

</div>

</div>
</div>

</div>
<div class="cell border-box-sizing text_cell rendered"><div class="prompt input_prompt">
</div><div class="inner_cell">
<div class="text_cell_render border-box-sizing rendered_html">
<p>The hash of the zero-length string is:</p>

</div>
</div>
</div>
<div class="cell border-box-sizing code_cell rendered">
<div class="input">
<div class="prompt input_prompt">In&nbsp;[41]:</div>
<div class="inner_cell">
    <div class="input_area">
<div class=" highlight hl-ipython3"><pre><span></span><span class="n">hash_SHA1</span><span class="p">(</span><span class="s2">&quot;&quot;</span><span class="p">)</span>
<span class="k">assert</span> <span class="n">hash_SHA1</span><span class="p">(</span><span class="s2">&quot;&quot;</span><span class="p">)</span> <span class="o">==</span> <span class="s1">&#39;da39a3ee5e6b4b0d3255bfef95601890afd80709&#39;</span>
</pre></div>

    </div>
</div>
</div>

<div class="output_wrapper">
<div class="output">


<div class="output_area">

    <div class="prompt output_prompt">Out[41]:</div>




<div class="output_text output_subarea output_execute_result">
<pre>&#39;da39a3ee5e6b4b0d3255bfef95601890afd80709&#39;</pre>
</div>

</div>

</div>
</div>

</div>
<div class="cell border-box-sizing text_cell rendered"><div class="prompt input_prompt">
</div><div class="inner_cell">
<div class="text_cell_render border-box-sizing rendered_html">
<p>$\implies$ We obtained the same result, OK our function works!</p>

</div>
</div>
</div>
<div class="cell border-box-sizing text_cell rendered"><div class="prompt input_prompt">
</div><div class="inner_cell">
<div class="text_cell_render border-box-sizing rendered_html">
<h3 id="Trying-1000-random-examples">Trying 1000 random examples<a class="anchor-link" href="#Trying-1000-random-examples">&#182;</a></h3><p>On a small sentence:</p>

</div>
</div>
</div>
<div class="cell border-box-sizing code_cell rendered">
<div class="input">
<div class="prompt input_prompt">In&nbsp;[42]:</div>
<div class="inner_cell">
    <div class="input_area">
<div class=" highlight hl-ipython3"><pre><span></span><span class="n">hash_SHA1</span><span class="p">(</span><span class="s2">&quot;My name is Zorro !&quot;</span><span class="p">)</span>
</pre></div>

    </div>
</div>
</div>

<div class="output_wrapper">
<div class="output">


<div class="output_area">

    <div class="prompt output_prompt">Out[42]:</div>




<div class="output_text output_subarea output_execute_result">
<pre>&#39;1f475bf19d9e7dd6b3714164116392ee1e477ec5&#39;</pre>
</div>

</div>

</div>
</div>

</div>
<div class="cell border-box-sizing code_cell rendered">
<div class="input">
<div class="prompt input_prompt">In&nbsp;[43]:</div>
<div class="inner_cell">
    <div class="input_area">
<div class=" highlight hl-ipython3"><pre><span></span><span class="n">h</span> <span class="o">=</span> <span class="n">hashlib</span><span class="o">.</span><span class="n">sha1</span><span class="p">()</span>
<span class="n">h</span><span class="o">.</span><span class="n">update</span><span class="p">(</span><span class="sa">b</span><span class="s2">&quot;My name is Zorro !&quot;</span><span class="p">)</span>
<span class="n">h</span><span class="o">.</span><span class="n">hexdigest</span><span class="p">()</span>
</pre></div>

    </div>
</div>
</div>

<div class="output_wrapper">
<div class="output">


<div class="output_area">

    <div class="prompt output_prompt">Out[43]:</div>




<div class="output_text output_subarea output_execute_result">
<pre>&#39;1f475bf19d9e7dd6b3714164116392ee1e477ec5&#39;</pre>
</div>

</div>

</div>
</div>

</div>
<div class="cell border-box-sizing text_cell rendered"><div class="prompt input_prompt">
</div><div class="inner_cell">
<div class="text_cell_render border-box-sizing rendered_html">
<p>It starts to look good.</p>

</div>
</div>
</div>
<div class="cell border-box-sizing code_cell rendered">
<div class="input">
<div class="prompt input_prompt">In&nbsp;[44]:</div>
<div class="inner_cell">
    <div class="input_area">
<div class=" highlight hl-ipython3"><pre><span></span><span class="k">def</span> <span class="nf">true_hash_SHA1</span><span class="p">(</span><span class="n">data</span><span class="p">):</span>
    <span class="n">h</span> <span class="o">=</span> <span class="n">hashlib</span><span class="o">.</span><span class="n">sha1</span><span class="p">()</span>
    <span class="k">if</span> <span class="nb">isinstance</span><span class="p">(</span><span class="n">data</span><span class="p">,</span> <span class="nb">str</span><span class="p">):</span>
        <span class="n">data</span> <span class="o">=</span> <span class="nb">bytes</span><span class="p">(</span><span class="n">data</span><span class="p">,</span> <span class="n">encoding</span><span class="o">=</span><span class="s1">&#39;utf8&#39;</span><span class="p">)</span>
    <span class="n">h</span><span class="o">.</span><span class="n">update</span><span class="p">(</span><span class="n">data</span><span class="p">)</span>
    <span class="k">return</span> <span class="n">h</span><span class="o">.</span><span class="n">hexdigest</span><span class="p">()</span>
</pre></div>

    </div>
</div>
</div>

</div>
<div class="cell border-box-sizing text_cell rendered"><div class="prompt input_prompt">
</div><div class="inner_cell">
<div class="text_cell_render border-box-sizing rendered_html">
<p>On some random data:</p>

</div>
</div>
</div>
<div class="cell border-box-sizing code_cell rendered">
<div class="input">
<div class="prompt input_prompt">In&nbsp;[45]:</div>
<div class="inner_cell">
    <div class="input_area">
<div class=" highlight hl-ipython3"><pre><span></span><span class="n">random_string</span><span class="p">(</span><span class="mi">10</span><span class="p">)</span>
</pre></div>

    </div>
</div>
</div>

<div class="output_wrapper">
<div class="output">


<div class="output_area">

    <div class="prompt output_prompt">Out[45]:</div>




<div class="output_text output_subarea output_execute_result">
<pre>&#39;lzqCyNkHUQ&#39;</pre>
</div>

</div>

</div>
</div>

</div>
<div class="cell border-box-sizing code_cell rendered">
<div class="input">
<div class="prompt input_prompt">In&nbsp;[46]:</div>
<div class="inner_cell">
    <div class="input_area">
<div class=" highlight hl-ipython3"><pre><span></span><span class="kn">from</span> <span class="nn">tqdm</span> <span class="k">import</span> <span class="n">tqdm_notebook</span> <span class="k">as</span> <span class="n">tqdm</span>
</pre></div>

    </div>
</div>
</div>

</div>
<div class="cell border-box-sizing code_cell rendered">
<div class="input">
<div class="prompt input_prompt">In&nbsp;[47]:</div>
<div class="inner_cell">
    <div class="input_area">
<div class=" highlight hl-ipython3"><pre><span></span><span class="o">%%time</span>
<span class="k">for</span> <span class="n">_</span> <span class="ow">in</span> <span class="n">tqdm</span><span class="p">(</span><span class="nb">range</span><span class="p">(</span><span class="mi">1000</span><span class="p">)):</span>
    <span class="n">x</span> <span class="o">=</span> <span class="n">random_string</span><span class="p">()</span>
    <span class="k">assert</span> <span class="n">hash_SHA1</span><span class="p">(</span><span class="n">x</span><span class="p">)</span> <span class="o">==</span> <span class="n">true_hash_SHA1</span><span class="p">(</span><span class="n">x</span><span class="p">),</span> <span class="s2">&quot;Error: x = </span><span class="si">{}</span><span class="s2"> gave two different SHA1 hashes: my implementation = </span><span class="si">{}</span><span class="s2"> != hashlib implementation = </span><span class="si">{}</span><span class="s2">...&quot;</span><span class="o">.</span><span class="n">format</span><span class="p">(</span><span class="n">x</span><span class="p">,</span> <span class="n">hash_SHA1</span><span class="p">(</span><span class="n">x</span><span class="p">),</span> <span class="n">true_hash_SHA1</span><span class="p">(</span><span class="n">x</span><span class="p">))</span>
</pre></div>

    </div>
</div>
</div>

<div class="output_wrapper">
<div class="output">


<div class="output_area">

    <div class="prompt"></div>





 
 
<div id="1c09b752-1293-48ab-ba94-7a7894bcdc83"></div>
<div class="output_subarea output_widget_view ">
<script type="text/javascript">
var element = $('#1c09b752-1293-48ab-ba94-7a7894bcdc83');
</script>
<script type="application/vnd.jupyter.widget-view+json">
{"model_id": "15b0ae19b01744b591ef9a86f4ceafa4"}
</script>
</div>

</div>

<div class="output_area">

    <div class="prompt"></div>


<div class="output_subarea output_stream output_stdout output_text">
<pre>CPU times: user 38.4 s, sys: 72 ms, total: 38.4 s
Wall time: 38.5 s
</pre>
</div>
</div>

</div>
</div>

</div>
<div class="cell border-box-sizing text_cell rendered"><div class="prompt input_prompt">
</div><div class="inner_cell">
<div class="text_cell_render border-box-sizing rendered_html">
<hr>
<h2 id="Third-real-example:-the-SHA-2-hashing-function">Third real example: the SHA-2 hashing function<a class="anchor-link" href="#Third-real-example:-the-SHA-2-hashing-function">&#182;</a></h2>
</div>
</div>
</div>
<div class="cell border-box-sizing text_cell rendered"><div class="prompt input_prompt">
</div><div class="inner_cell">
<div class="text_cell_render border-box-sizing rendered_html">
<p>Let now study and implement a last hashing function, again slightly harder to write but more secure: SHA-2, "Secure Hash Algorithm, version 2".
See <a href="https://en.wikipedia.org/wiki/SHA-2">the SHA-2 hashing function</a> on Wikipedia, if needed.</p>
<center><span style="font-size: large; color: green;"><i>Remark</i>: it is not (yet) considered broken, and it is the military standard for security and cryptographic hashing. SHA-3 is preferred for security purposes.</span></center>
</div>
</div>
</div>
<div class="cell border-box-sizing text_cell rendered"><div class="prompt input_prompt">
</div><div class="inner_cell">
<div class="text_cell_render border-box-sizing rendered_html">
<h3 id="Useful-functions-the-SHA-2-algorithm">Useful functions the SHA-2 algorithm<a class="anchor-link" href="#Useful-functions-the-SHA-2-algorithm">&#182;</a></h3>
</div>
</div>
</div>
<div class="cell border-box-sizing text_cell rendered"><div class="prompt input_prompt">
</div><div class="inner_cell">
<div class="text_cell_render border-box-sizing rendered_html">
<p>This is exactly like for MD5. But SHA-2 requires right-rotate as well.</p>

</div>
</div>
</div>
<div class="cell border-box-sizing code_cell rendered">
<div class="input">
<div class="prompt input_prompt">In&nbsp;[48]:</div>
<div class="inner_cell">
    <div class="input_area">
<div class=" highlight hl-ipython3"><pre><span></span><span class="k">def</span> <span class="nf">leftrotate</span><span class="p">(</span><span class="n">x</span><span class="p">,</span> <span class="n">c</span><span class="p">):</span>
    <span class="sd">&quot;&quot;&quot; Left rotate the number x by c bytes.&quot;&quot;&quot;</span>
    <span class="n">x</span> <span class="o">&amp;=</span> <span class="mh">0xFFFFFFFF</span>
    <span class="k">return</span> <span class="p">((</span><span class="n">x</span> <span class="o">&lt;&lt;</span> <span class="n">c</span><span class="p">)</span> <span class="o">|</span> <span class="p">(</span><span class="n">x</span> <span class="o">&gt;&gt;</span> <span class="p">(</span><span class="mi">32</span> <span class="o">-</span> <span class="n">c</span><span class="p">)))</span> <span class="o">&amp;</span> <span class="mh">0xFFFFFFFF</span>

<span class="k">def</span> <span class="nf">rightrotate</span><span class="p">(</span><span class="n">x</span><span class="p">,</span> <span class="n">c</span><span class="p">):</span>
    <span class="sd">&quot;&quot;&quot; Right rotate the number x by c bytes.&quot;&quot;&quot;</span>
    <span class="n">x</span> <span class="o">&amp;=</span> <span class="mh">0xFFFFFFFF</span>
    <span class="k">return</span> <span class="p">((</span><span class="n">x</span> <span class="o">&gt;&gt;</span> <span class="n">c</span><span class="p">)</span> <span class="o">|</span> <span class="p">(</span><span class="n">x</span> <span class="o">&lt;&lt;</span> <span class="p">(</span><span class="mi">32</span> <span class="o">-</span> <span class="n">c</span><span class="p">)))</span> <span class="o">&amp;</span> <span class="mh">0xFFFFFFFF</span>
</pre></div>

    </div>
</div>
</div>

</div>
<div class="cell border-box-sizing text_cell rendered"><div class="prompt input_prompt">
</div><div class="inner_cell">
<div class="text_cell_render border-box-sizing rendered_html">
<p>As SHA-2 plays with big-endian and little-endian integers, and at the end it requires a leftshift to combine the 5 hash pieces into one.</p>

</div>
</div>
</div>
<div class="cell border-box-sizing code_cell rendered">
<div class="input">
<div class="prompt input_prompt">In&nbsp;[49]:</div>
<div class="inner_cell">
    <div class="input_area">
<div class=" highlight hl-ipython3"><pre><span></span><span class="k">def</span> <span class="nf">leftshift</span><span class="p">(</span><span class="n">x</span><span class="p">,</span> <span class="n">c</span><span class="p">):</span>
    <span class="sd">&quot;&quot;&quot; Left shift the number x by c bytes.&quot;&quot;&quot;</span>
    <span class="k">return</span> <span class="n">x</span> <span class="o">&lt;&lt;</span> <span class="n">c</span>

<span class="k">def</span> <span class="nf">rightshift</span><span class="p">(</span><span class="n">x</span><span class="p">,</span> <span class="n">c</span><span class="p">):</span>
    <span class="sd">&quot;&quot;&quot; Right shift the number x by c bytes.&quot;&quot;&quot;</span>
    <span class="k">return</span> <span class="n">x</span> <span class="o">&gt;&gt;</span> <span class="n">c</span>
</pre></div>

    </div>
</div>
</div>

</div>
<div class="cell border-box-sizing text_cell rendered"><div class="prompt input_prompt">
</div><div class="inner_cell">
<div class="text_cell_render border-box-sizing rendered_html">
<h3 id="The-SHA2-class">The <code>SHA2</code> class<a class="anchor-link" href="#The-SHA2-class">&#182;</a></h3><p>I will use a simple class, very similar to the class used for the SHA-1 algorithm (see above).
It is a direct implementation of the pseudo-code, as given for instance on the Wikipedia page.</p>
<p>I will only implement the simpler one, SHA-256, of digest size of 256 bits. Other variants are SHA-224, SHA-384, SHA-512 (and others include SHA-512/224, SHA-512/256).</p>

</div>
</div>
</div>
<div class="cell border-box-sizing code_cell rendered">
<div class="input">
<div class="prompt input_prompt">In&nbsp;[50]:</div>
<div class="inner_cell">
    <div class="input_area">
<div class=" highlight hl-ipython3"><pre><span></span><span class="k">class</span> <span class="nc">SHA2</span><span class="p">(</span><span class="n">Hash</span><span class="p">):</span>
    <span class="sd">&quot;&quot;&quot;SHA256 hashing, see https://en.wikipedia.org/wiki/SHA-2#Pseudocode.&quot;&quot;&quot;</span>
    
    <span class="k">def</span> <span class="nf">__init__</span><span class="p">(</span><span class="bp">self</span><span class="p">):</span>
        <span class="bp">self</span><span class="o">.</span><span class="n">name</span>        <span class="o">=</span> <span class="s2">&quot;SHA256&quot;</span>
        <span class="bp">self</span><span class="o">.</span><span class="n">byteorder</span>   <span class="o">=</span> <span class="s1">&#39;big&#39;</span>
        <span class="bp">self</span><span class="o">.</span><span class="n">block_size</span>  <span class="o">=</span> <span class="mi">64</span>
        <span class="bp">self</span><span class="o">.</span><span class="n">digest_size</span> <span class="o">=</span> <span class="mi">32</span>
        <span class="c1"># Note 2: For each round, there is one round constant k[i] and one entry in the message schedule array w[i], 0 ≤ i ≤ 63</span>
        <span class="c1"># Note 3: The compression function uses 8 working variables, a through h</span>
        <span class="c1"># Note 4: Big-endian convention is used when expressing the constants in this pseudocode,</span>
        <span class="c1">#         and when parsing message block data from bytes to words, for example,</span>
        <span class="c1">#         the first word of the input message &quot;abc&quot; after padding is 0x61626380</span>

        <span class="c1"># Initialize hash values:</span>
        <span class="c1"># (first 32 bits of the fractional parts of the square roots of the first 8 primes 2..19):</span>
        <span class="n">h0</span> <span class="o">=</span> <span class="mh">0x6a09e667</span>
        <span class="n">h1</span> <span class="o">=</span> <span class="mh">0xbb67ae85</span>
        <span class="n">h2</span> <span class="o">=</span> <span class="mh">0x3c6ef372</span>
        <span class="n">h3</span> <span class="o">=</span> <span class="mh">0xa54ff53a</span>
        <span class="n">h4</span> <span class="o">=</span> <span class="mh">0x510e527f</span>
        <span class="n">h5</span> <span class="o">=</span> <span class="mh">0x9b05688c</span>
        <span class="n">h6</span> <span class="o">=</span> <span class="mh">0x1f83d9ab</span>
        <span class="n">h7</span> <span class="o">=</span> <span class="mh">0x5be0cd19</span>
        
        <span class="c1"># Initialize array of round constants:</span>
        <span class="c1"># (first 32 bits of the fractional parts of the cube roots of the first 64 primes 2..311):</span>
        <span class="bp">self</span><span class="o">.</span><span class="n">k</span> <span class="o">=</span> <span class="p">[</span>
            <span class="mh">0x428a2f98</span><span class="p">,</span> <span class="mh">0x71374491</span><span class="p">,</span> <span class="mh">0xb5c0fbcf</span><span class="p">,</span> <span class="mh">0xe9b5dba5</span><span class="p">,</span> <span class="mh">0x3956c25b</span><span class="p">,</span> <span class="mh">0x59f111f1</span><span class="p">,</span> <span class="mh">0x923f82a4</span><span class="p">,</span> <span class="mh">0xab1c5ed5</span><span class="p">,</span>
            <span class="mh">0xd807aa98</span><span class="p">,</span> <span class="mh">0x12835b01</span><span class="p">,</span> <span class="mh">0x243185be</span><span class="p">,</span> <span class="mh">0x550c7dc3</span><span class="p">,</span> <span class="mh">0x72be5d74</span><span class="p">,</span> <span class="mh">0x80deb1fe</span><span class="p">,</span> <span class="mh">0x9bdc06a7</span><span class="p">,</span> <span class="mh">0xc19bf174</span><span class="p">,</span>
            <span class="mh">0xe49b69c1</span><span class="p">,</span> <span class="mh">0xefbe4786</span><span class="p">,</span> <span class="mh">0x0fc19dc6</span><span class="p">,</span> <span class="mh">0x240ca1cc</span><span class="p">,</span> <span class="mh">0x2de92c6f</span><span class="p">,</span> <span class="mh">0x4a7484aa</span><span class="p">,</span> <span class="mh">0x5cb0a9dc</span><span class="p">,</span> <span class="mh">0x76f988da</span><span class="p">,</span>
            <span class="mh">0x983e5152</span><span class="p">,</span> <span class="mh">0xa831c66d</span><span class="p">,</span> <span class="mh">0xb00327c8</span><span class="p">,</span> <span class="mh">0xbf597fc7</span><span class="p">,</span> <span class="mh">0xc6e00bf3</span><span class="p">,</span> <span class="mh">0xd5a79147</span><span class="p">,</span> <span class="mh">0x06ca6351</span><span class="p">,</span> <span class="mh">0x14292967</span><span class="p">,</span>
            <span class="mh">0x27b70a85</span><span class="p">,</span> <span class="mh">0x2e1b2138</span><span class="p">,</span> <span class="mh">0x4d2c6dfc</span><span class="p">,</span> <span class="mh">0x53380d13</span><span class="p">,</span> <span class="mh">0x650a7354</span><span class="p">,</span> <span class="mh">0x766a0abb</span><span class="p">,</span> <span class="mh">0x81c2c92e</span><span class="p">,</span> <span class="mh">0x92722c85</span><span class="p">,</span>
            <span class="mh">0xa2bfe8a1</span><span class="p">,</span> <span class="mh">0xa81a664b</span><span class="p">,</span> <span class="mh">0xc24b8b70</span><span class="p">,</span> <span class="mh">0xc76c51a3</span><span class="p">,</span> <span class="mh">0xd192e819</span><span class="p">,</span> <span class="mh">0xd6990624</span><span class="p">,</span> <span class="mh">0xf40e3585</span><span class="p">,</span> <span class="mh">0x106aa070</span><span class="p">,</span>
            <span class="mh">0x19a4c116</span><span class="p">,</span> <span class="mh">0x1e376c08</span><span class="p">,</span> <span class="mh">0x2748774c</span><span class="p">,</span> <span class="mh">0x34b0bcb5</span><span class="p">,</span> <span class="mh">0x391c0cb3</span><span class="p">,</span> <span class="mh">0x4ed8aa4a</span><span class="p">,</span> <span class="mh">0x5b9cca4f</span><span class="p">,</span> <span class="mh">0x682e6ff3</span><span class="p">,</span>
            <span class="mh">0x748f82ee</span><span class="p">,</span> <span class="mh">0x78a5636f</span><span class="p">,</span> <span class="mh">0x84c87814</span><span class="p">,</span> <span class="mh">0x8cc70208</span><span class="p">,</span> <span class="mh">0x90befffa</span><span class="p">,</span> <span class="mh">0xa4506ceb</span><span class="p">,</span> <span class="mh">0xbef9a3f7</span><span class="p">,</span> <span class="mh">0xc67178f2</span>
        <span class="p">]</span>

        <span class="c1"># Store them</span>
        <span class="bp">self</span><span class="o">.</span><span class="n">hash_pieces</span> <span class="o">=</span> <span class="p">[</span><span class="n">h0</span><span class="p">,</span> <span class="n">h1</span><span class="p">,</span> <span class="n">h2</span><span class="p">,</span> <span class="n">h3</span><span class="p">,</span> <span class="n">h4</span><span class="p">,</span> <span class="n">h5</span><span class="p">,</span> <span class="n">h6</span><span class="p">,</span> <span class="n">h7</span><span class="p">]</span>
    
    <span class="k">def</span> <span class="nf">update</span><span class="p">(</span><span class="bp">self</span><span class="p">,</span> <span class="n">arg</span><span class="p">):</span>
        <span class="n">h0</span><span class="p">,</span> <span class="n">h1</span><span class="p">,</span> <span class="n">h2</span><span class="p">,</span> <span class="n">h3</span><span class="p">,</span> <span class="n">h4</span><span class="p">,</span> <span class="n">h5</span><span class="p">,</span> <span class="n">h6</span><span class="p">,</span> <span class="n">h7</span> <span class="o">=</span> <span class="bp">self</span><span class="o">.</span><span class="n">hash_pieces</span>
        <span class="c1"># 1. Pre-processing, exactly like MD5</span>
        <span class="n">data</span> <span class="o">=</span> <span class="nb">bytearray</span><span class="p">(</span><span class="n">arg</span><span class="p">)</span>
        <span class="n">orig_len_in_bits</span> <span class="o">=</span> <span class="p">(</span><span class="mi">8</span> <span class="o">*</span> <span class="nb">len</span><span class="p">(</span><span class="n">data</span><span class="p">))</span> <span class="o">&amp;</span> <span class="mh">0xFFFFFFFFFFFFFFFF</span>
        <span class="c1"># 1.a. Add a single &#39;1&#39; bit at the end of the input bits</span>
        <span class="n">data</span><span class="o">.</span><span class="n">append</span><span class="p">(</span><span class="mh">0x80</span><span class="p">)</span>
        <span class="c1"># 1.b. Padding with zeros as long as the input bits length ≡ 448 (mod 512)</span>
        <span class="k">while</span> <span class="nb">len</span><span class="p">(</span><span class="n">data</span><span class="p">)</span> <span class="o">%</span> <span class="mi">64</span> <span class="o">!=</span> <span class="mi">56</span><span class="p">:</span>
            <span class="n">data</span><span class="o">.</span><span class="n">append</span><span class="p">(</span><span class="mi">0</span><span class="p">)</span>
        <span class="c1"># 1.c. append original length in bits mod (2 pow 64) to message</span>
        <span class="n">data</span> <span class="o">+=</span> <span class="n">orig_len_in_bits</span><span class="o">.</span><span class="n">to_bytes</span><span class="p">(</span><span class="mi">8</span><span class="p">,</span> <span class="n">byteorder</span><span class="o">=</span><span class="s1">&#39;big&#39;</span><span class="p">)</span>
        <span class="k">assert</span> <span class="nb">len</span><span class="p">(</span><span class="n">data</span><span class="p">)</span> <span class="o">%</span> <span class="mi">64</span> <span class="o">==</span> <span class="mi">0</span><span class="p">,</span> <span class="s2">&quot;Error in padding&quot;</span>
        <span class="c1"># 2. Computations</span>
        <span class="c1"># Process the message in successive 512-bit = 64-bytes chunks:</span>
        <span class="k">for</span> <span class="n">offset</span> <span class="ow">in</span> <span class="nb">range</span><span class="p">(</span><span class="mi">0</span><span class="p">,</span> <span class="nb">len</span><span class="p">(</span><span class="n">data</span><span class="p">),</span> <span class="mi">64</span><span class="p">):</span>
            <span class="c1"># 2.a. 512-bits = 64-bytes chunks</span>
            <span class="n">chunks</span> <span class="o">=</span> <span class="n">data</span><span class="p">[</span><span class="n">offset</span> <span class="p">:</span> <span class="n">offset</span> <span class="o">+</span> <span class="mi">64</span><span class="p">]</span>
            <span class="n">w</span> <span class="o">=</span> <span class="p">[</span><span class="mi">0</span> <span class="k">for</span> <span class="n">i</span> <span class="ow">in</span> <span class="nb">range</span><span class="p">(</span><span class="mi">64</span><span class="p">)]</span>
            <span class="c1"># 2.b. Break chunk into sixteen 32-bit = 4-bytes words w[i], 0 ≤ i ≤ 15</span>
            <span class="k">for</span> <span class="n">i</span> <span class="ow">in</span> <span class="nb">range</span><span class="p">(</span><span class="mi">16</span><span class="p">):</span>
                <span class="n">w</span><span class="p">[</span><span class="n">i</span><span class="p">]</span> <span class="o">=</span> <span class="nb">int</span><span class="o">.</span><span class="n">from_bytes</span><span class="p">(</span><span class="n">chunks</span><span class="p">[</span><span class="mi">4</span><span class="o">*</span><span class="n">i</span> <span class="p">:</span> <span class="mi">4</span><span class="o">*</span><span class="n">i</span> <span class="o">+</span> <span class="mi">4</span><span class="p">],</span> <span class="n">byteorder</span><span class="o">=</span><span class="s1">&#39;big&#39;</span><span class="p">)</span>
            <span class="c1"># 2.c.  Extend the first 16 words into the remaining 48</span>
            <span class="c1">#       words w[16..63] of the message schedule array:</span>
            <span class="k">for</span> <span class="n">i</span> <span class="ow">in</span> <span class="nb">range</span><span class="p">(</span><span class="mi">16</span><span class="p">,</span> <span class="mi">64</span><span class="p">):</span>
                <span class="n">s0</span> <span class="o">=</span> <span class="p">(</span><span class="n">rightrotate</span><span class="p">(</span><span class="n">w</span><span class="p">[</span><span class="n">i</span><span class="o">-</span><span class="mi">15</span><span class="p">],</span> <span class="mi">7</span><span class="p">)</span> <span class="o">^</span> <span class="n">rightrotate</span><span class="p">(</span><span class="n">w</span><span class="p">[</span><span class="n">i</span><span class="o">-</span><span class="mi">15</span><span class="p">],</span> <span class="mi">18</span><span class="p">)</span> <span class="o">^</span> <span class="n">rightshift</span><span class="p">(</span><span class="n">w</span><span class="p">[</span><span class="n">i</span><span class="o">-</span><span class="mi">15</span><span class="p">],</span> <span class="mi">3</span><span class="p">))</span> <span class="o">&amp;</span> <span class="mh">0xFFFFFFFF</span>
                <span class="n">s1</span> <span class="o">=</span> <span class="p">(</span><span class="n">rightrotate</span><span class="p">(</span><span class="n">w</span><span class="p">[</span><span class="n">i</span><span class="o">-</span><span class="mi">2</span><span class="p">],</span> <span class="mi">17</span><span class="p">)</span> <span class="o">^</span> <span class="n">rightrotate</span><span class="p">(</span><span class="n">w</span><span class="p">[</span><span class="n">i</span><span class="o">-</span><span class="mi">2</span><span class="p">],</span> <span class="mi">19</span><span class="p">)</span> <span class="o">^</span> <span class="n">rightshift</span><span class="p">(</span><span class="n">w</span><span class="p">[</span><span class="n">i</span><span class="o">-</span><span class="mi">2</span><span class="p">],</span> <span class="mi">10</span><span class="p">))</span> <span class="o">&amp;</span> <span class="mh">0xFFFFFFFF</span>
                <span class="n">w</span><span class="p">[</span><span class="n">i</span><span class="p">]</span> <span class="o">=</span> <span class="p">(</span><span class="n">w</span><span class="p">[</span><span class="n">i</span><span class="o">-</span><span class="mi">16</span><span class="p">]</span> <span class="o">+</span> <span class="n">s0</span> <span class="o">+</span> <span class="n">w</span><span class="p">[</span><span class="n">i</span><span class="o">-</span><span class="mi">7</span><span class="p">]</span> <span class="o">+</span> <span class="n">s1</span><span class="p">)</span> <span class="o">&amp;</span> <span class="mh">0xFFFFFFFF</span>
            <span class="c1"># 2.d. Initialize hash value for this chunk</span>
            <span class="n">a</span><span class="p">,</span> <span class="n">b</span><span class="p">,</span> <span class="n">c</span><span class="p">,</span> <span class="n">d</span><span class="p">,</span> <span class="n">e</span><span class="p">,</span> <span class="n">f</span><span class="p">,</span> <span class="n">g</span><span class="p">,</span> <span class="n">h</span> <span class="o">=</span> <span class="n">h0</span><span class="p">,</span> <span class="n">h1</span><span class="p">,</span> <span class="n">h2</span><span class="p">,</span> <span class="n">h3</span><span class="p">,</span> <span class="n">h4</span><span class="p">,</span> <span class="n">h5</span><span class="p">,</span> <span class="n">h6</span><span class="p">,</span> <span class="n">h7</span>
            <span class="c1"># 2.e. Main loop, cf. https://tools.ietf.org/html/rfc6234</span>
            <span class="k">for</span> <span class="n">i</span> <span class="ow">in</span> <span class="nb">range</span><span class="p">(</span><span class="mi">64</span><span class="p">):</span>
                <span class="n">S1</span> <span class="o">=</span> <span class="p">(</span><span class="n">rightrotate</span><span class="p">(</span><span class="n">e</span><span class="p">,</span> <span class="mi">6</span><span class="p">)</span> <span class="o">^</span> <span class="n">rightrotate</span><span class="p">(</span><span class="n">e</span><span class="p">,</span> <span class="mi">11</span><span class="p">)</span> <span class="o">^</span> <span class="n">rightrotate</span><span class="p">(</span><span class="n">e</span><span class="p">,</span> <span class="mi">25</span><span class="p">))</span> <span class="o">&amp;</span> <span class="mh">0xFFFFFFFF</span>
                <span class="n">ch</span> <span class="o">=</span> <span class="p">((</span><span class="n">e</span> <span class="o">&amp;</span> <span class="n">f</span><span class="p">)</span> <span class="o">^</span> <span class="p">((</span><span class="o">~</span><span class="n">e</span><span class="p">)</span> <span class="o">&amp;</span> <span class="n">g</span><span class="p">))</span> <span class="o">&amp;</span> <span class="mh">0xFFFFFFFF</span>
                <span class="n">temp1</span> <span class="o">=</span> <span class="p">(</span><span class="n">h</span> <span class="o">+</span> <span class="n">S1</span> <span class="o">+</span> <span class="n">ch</span> <span class="o">+</span> <span class="bp">self</span><span class="o">.</span><span class="n">k</span><span class="p">[</span><span class="n">i</span><span class="p">]</span> <span class="o">+</span> <span class="n">w</span><span class="p">[</span><span class="n">i</span><span class="p">])</span> <span class="o">&amp;</span> <span class="mh">0xFFFFFFFF</span>
                <span class="n">S0</span> <span class="o">=</span> <span class="p">(</span><span class="n">rightrotate</span><span class="p">(</span><span class="n">a</span><span class="p">,</span> <span class="mi">2</span><span class="p">)</span> <span class="o">^</span> <span class="n">rightrotate</span><span class="p">(</span><span class="n">a</span><span class="p">,</span> <span class="mi">13</span><span class="p">)</span> <span class="o">^</span> <span class="n">rightrotate</span><span class="p">(</span><span class="n">a</span><span class="p">,</span> <span class="mi">22</span><span class="p">))</span> <span class="o">&amp;</span> <span class="mh">0xFFFFFFFF</span>
                <span class="n">maj</span> <span class="o">=</span> <span class="p">((</span><span class="n">a</span> <span class="o">&amp;</span> <span class="n">b</span><span class="p">)</span> <span class="o">^</span> <span class="p">(</span><span class="n">a</span> <span class="o">&amp;</span> <span class="n">c</span><span class="p">)</span> <span class="o">^</span> <span class="p">(</span><span class="n">b</span> <span class="o">&amp;</span> <span class="n">c</span><span class="p">))</span> <span class="o">&amp;</span> <span class="mh">0xFFFFFFFF</span>
                <span class="n">temp2</span> <span class="o">=</span> <span class="p">(</span><span class="n">S0</span> <span class="o">+</span> <span class="n">maj</span><span class="p">)</span> <span class="o">&amp;</span> <span class="mh">0xFFFFFFFF</span>

                <span class="n">new_a</span> <span class="o">=</span> <span class="p">(</span><span class="n">temp1</span> <span class="o">+</span> <span class="n">temp2</span><span class="p">)</span> <span class="o">&amp;</span> <span class="mh">0xFFFFFFFF</span>
                <span class="n">new_e</span> <span class="o">=</span> <span class="p">(</span><span class="n">d</span> <span class="o">+</span> <span class="n">temp1</span><span class="p">)</span> <span class="o">&amp;</span> <span class="mh">0xFFFFFFFF</span>
                <span class="c1"># Rotate the 8 variables</span>
                <span class="n">a</span><span class="p">,</span> <span class="n">b</span><span class="p">,</span> <span class="n">c</span><span class="p">,</span> <span class="n">d</span><span class="p">,</span> <span class="n">e</span><span class="p">,</span> <span class="n">f</span><span class="p">,</span> <span class="n">g</span><span class="p">,</span> <span class="n">h</span> <span class="o">=</span> <span class="n">new_a</span><span class="p">,</span> <span class="n">a</span><span class="p">,</span> <span class="n">b</span><span class="p">,</span> <span class="n">c</span><span class="p">,</span> <span class="n">new_e</span><span class="p">,</span> <span class="n">e</span><span class="p">,</span> <span class="n">f</span><span class="p">,</span> <span class="n">g</span>

            <span class="c1"># Add this chunk&#39;s hash to result so far:</span>
            <span class="n">h0</span> <span class="o">=</span> <span class="p">(</span><span class="n">h0</span> <span class="o">+</span> <span class="n">a</span><span class="p">)</span> <span class="o">&amp;</span> <span class="mh">0xFFFFFFFF</span>
            <span class="n">h1</span> <span class="o">=</span> <span class="p">(</span><span class="n">h1</span> <span class="o">+</span> <span class="n">b</span><span class="p">)</span> <span class="o">&amp;</span> <span class="mh">0xFFFFFFFF</span>
            <span class="n">h2</span> <span class="o">=</span> <span class="p">(</span><span class="n">h2</span> <span class="o">+</span> <span class="n">c</span><span class="p">)</span> <span class="o">&amp;</span> <span class="mh">0xFFFFFFFF</span>
            <span class="n">h3</span> <span class="o">=</span> <span class="p">(</span><span class="n">h3</span> <span class="o">+</span> <span class="n">d</span><span class="p">)</span> <span class="o">&amp;</span> <span class="mh">0xFFFFFFFF</span>
            <span class="n">h4</span> <span class="o">=</span> <span class="p">(</span><span class="n">h4</span> <span class="o">+</span> <span class="n">e</span><span class="p">)</span> <span class="o">&amp;</span> <span class="mh">0xFFFFFFFF</span>
            <span class="n">h5</span> <span class="o">=</span> <span class="p">(</span><span class="n">h5</span> <span class="o">+</span> <span class="n">f</span><span class="p">)</span> <span class="o">&amp;</span> <span class="mh">0xFFFFFFFF</span>
            <span class="n">h6</span> <span class="o">=</span> <span class="p">(</span><span class="n">h6</span> <span class="o">+</span> <span class="n">g</span><span class="p">)</span> <span class="o">&amp;</span> <span class="mh">0xFFFFFFFF</span>
            <span class="n">h7</span> <span class="o">=</span> <span class="p">(</span><span class="n">h7</span> <span class="o">+</span> <span class="n">h</span><span class="p">)</span> <span class="o">&amp;</span> <span class="mh">0xFFFFFFFF</span>
        <span class="c1"># 3. Conclusion</span>
        <span class="bp">self</span><span class="o">.</span><span class="n">hash_pieces</span> <span class="o">=</span> <span class="p">[</span><span class="n">h0</span><span class="p">,</span> <span class="n">h1</span><span class="p">,</span> <span class="n">h2</span><span class="p">,</span> <span class="n">h3</span><span class="p">,</span> <span class="n">h4</span><span class="p">,</span> <span class="n">h5</span><span class="p">,</span> <span class="n">h6</span><span class="p">,</span> <span class="n">h7</span><span class="p">]</span>

    <span class="k">def</span> <span class="nf">digest</span><span class="p">(</span><span class="bp">self</span><span class="p">):</span>
        <span class="c1"># h0 append h1 append h2 append h3 append h4 append h5 append h6 append h7</span>
        <span class="k">return</span> <span class="nb">sum</span><span class="p">(</span><span class="n">leftshift</span><span class="p">(</span><span class="n">x</span><span class="p">,</span> <span class="mi">32</span> <span class="o">*</span> <span class="n">i</span><span class="p">)</span> <span class="k">for</span> <span class="n">i</span><span class="p">,</span> <span class="n">x</span> <span class="ow">in</span> <span class="nb">enumerate</span><span class="p">(</span><span class="bp">self</span><span class="o">.</span><span class="n">hash_pieces</span><span class="p">[::</span><span class="o">-</span><span class="mi">1</span><span class="p">]))</span>
</pre></div>

    </div>
</div>
</div>

</div>
<div class="cell border-box-sizing text_cell rendered"><div class="prompt input_prompt">
</div><div class="inner_cell">
<div class="text_cell_render border-box-sizing rendered_html">
<p>We can also write a function to directly compute the hex digest from some bytes data.</p>

</div>
</div>
</div>
<div class="cell border-box-sizing code_cell rendered">
<div class="input">
<div class="prompt input_prompt">In&nbsp;[51]:</div>
<div class="inner_cell">
    <div class="input_area">
<div class=" highlight hl-ipython3"><pre><span></span><span class="k">def</span> <span class="nf">hash_SHA2</span><span class="p">(</span><span class="n">data</span><span class="p">):</span>
    <span class="sd">&quot;&quot;&quot; Shortcut function to directly receive the hex digest from SHA2(data).&quot;&quot;&quot;</span>
    <span class="n">h</span> <span class="o">=</span> <span class="n">SHA2</span><span class="p">()</span>
    <span class="k">if</span> <span class="nb">isinstance</span><span class="p">(</span><span class="n">data</span><span class="p">,</span> <span class="nb">str</span><span class="p">):</span>
        <span class="n">data</span> <span class="o">=</span> <span class="nb">bytes</span><span class="p">(</span><span class="n">data</span><span class="p">,</span> <span class="n">encoding</span><span class="o">=</span><span class="s1">&#39;utf8&#39;</span><span class="p">)</span>
    <span class="n">h</span><span class="o">.</span><span class="n">update</span><span class="p">(</span><span class="n">data</span><span class="p">)</span>
    <span class="k">return</span> <span class="n">h</span><span class="o">.</span><span class="n">hexdigest</span><span class="p">()</span>
</pre></div>

    </div>
</div>
</div>

</div>
<div class="cell border-box-sizing text_cell rendered"><div class="prompt input_prompt">
</div><div class="inner_cell">
<div class="text_cell_render border-box-sizing rendered_html">
<h3 id="First-check-on-SHA-2">First check on SHA-2<a class="anchor-link" href="#First-check-on-SHA-2">&#182;</a></h3><p>Let us try it:</p>

</div>
</div>
</div>
<div class="cell border-box-sizing code_cell rendered">
<div class="input">
<div class="prompt input_prompt">In&nbsp;[52]:</div>
<div class="inner_cell">
    <div class="input_area">
<div class=" highlight hl-ipython3"><pre><span></span><span class="n">h4</span> <span class="o">=</span> <span class="n">SHA2</span><span class="p">()</span>
<span class="n">h4</span>
<span class="nb">print</span><span class="p">(</span><span class="n">h4</span><span class="p">)</span>
</pre></div>

    </div>
</div>
</div>

<div class="output_wrapper">
<div class="output">


<div class="output_area">

    <div class="prompt output_prompt">Out[52]:</div>




<div class="output_text output_subarea output_execute_result">
<pre>&lt;__main__.SHA2 at 0x7fc82727f470&gt;</pre>
</div>

</div>

<div class="output_area">

    <div class="prompt"></div>


<div class="output_subarea output_stream output_stdout output_text">
<pre>SHA256
</pre>
</div>
</div>

</div>
</div>

</div>
<div class="cell border-box-sizing code_cell rendered">
<div class="input">
<div class="prompt input_prompt">In&nbsp;[53]:</div>
<div class="inner_cell">
    <div class="input_area">
<div class=" highlight hl-ipython3"><pre><span></span><span class="n">h4</span><span class="o">.</span><span class="n">update</span><span class="p">(</span><span class="n">data</span><span class="p">)</span>
<span class="n">h4</span><span class="o">.</span><span class="n">digest</span><span class="p">()</span>
</pre></div>

    </div>
</div>
</div>

<div class="output_wrapper">
<div class="output">


<div class="output_area">

    <div class="prompt output_prompt">Out[53]:</div>




<div class="output_text output_subarea output_execute_result">
<pre>72202089257263067108821672097406107534247682087137282803352466770222342186230</pre>
</div>

</div>

</div>
</div>

</div>
<div class="cell border-box-sizing code_cell rendered">
<div class="input">
<div class="prompt input_prompt">In&nbsp;[54]:</div>
<div class="inner_cell">
    <div class="input_area">
<div class=" highlight hl-ipython3"><pre><span></span><span class="n">digest</span> <span class="o">=</span> <span class="n">h4</span><span class="o">.</span><span class="n">digest</span><span class="p">()</span>
<span class="nb">bin</span><span class="p">(</span><span class="n">digest</span><span class="p">)</span>
<span class="nb">len</span><span class="p">(</span><span class="nb">bin</span><span class="p">(</span><span class="n">digest</span><span class="p">))</span>
</pre></div>

    </div>
</div>
</div>

<div class="output_wrapper">
<div class="output">


<div class="output_area">

    <div class="prompt output_prompt">Out[54]:</div>




<div class="output_text output_subarea output_execute_result">
<pre>&#39;0b1001111110100000111011110010111110100111101111001011110000000101110110010001110010001110000100110000100010010011011010011010001000100000100010011100101100000010000011011001000001010000011011101110100010000011010011001100011000001001110011111010010011110110&#39;</pre>
</div>

</div>

<div class="output_area">

    <div class="prompt output_prompt">Out[54]:</div>




<div class="output_text output_subarea output_execute_result">
<pre>258</pre>
</div>

</div>

</div>
</div>

</div>
<div class="cell border-box-sizing code_cell rendered">
<div class="input">
<div class="prompt input_prompt">In&nbsp;[55]:</div>
<div class="inner_cell">
    <div class="input_area">
<div class=" highlight hl-ipython3"><pre><span></span><span class="n">h4</span><span class="o">.</span><span class="n">hexdigest</span><span class="p">()</span>
</pre></div>

    </div>
</div>
</div>

<div class="output_wrapper">
<div class="output">


<div class="output_area">

    <div class="prompt output_prompt">Out[55]:</div>




<div class="output_text output_subarea output_execute_result">
<pre>&#39;9fa0ef2fa7bcbc05d91c8e13089369a22089cb020d90506ee8834cc609cfa4f6&#39;</pre>
</div>

</div>

</div>
</div>

</div>
<div class="cell border-box-sizing text_cell rendered"><div class="prompt input_prompt">
</div><div class="inner_cell">
<div class="text_cell_render border-box-sizing rendered_html">
<h3 id="Check-on-SHA-2">Check on SHA-2<a class="anchor-link" href="#Check-on-SHA-2">&#182;</a></h3><p>Let try the example from <a href="https://en.wikipedia.org/wiki/SHA-2#Test_vectors">SHA-2 Wikipedia page</a> :</p>

</div>
</div>
</div>
<div class="cell border-box-sizing code_cell rendered">
<div class="input">
<div class="prompt input_prompt">In&nbsp;[56]:</div>
<div class="inner_cell">
    <div class="input_area">
<div class=" highlight hl-ipython3"><pre><span></span><span class="n">hash_SHA2</span><span class="p">(</span><span class="s2">&quot;The quick brown fox jumps over the lazy dog&quot;</span><span class="p">)</span>
<span class="k">assert</span> <span class="n">hash_SHA2</span><span class="p">(</span><span class="s2">&quot;The quick brown fox jumps over the lazy dog&quot;</span><span class="p">)</span> <span class="o">==</span> <span class="s1">&#39;d7a8fbb307d7809469ca9abcb0082e4f8d5651e46d3cdb762d02d0bf37c9e592&#39;</span>
</pre></div>

    </div>
</div>
</div>

<div class="output_wrapper">
<div class="output">


<div class="output_area">

    <div class="prompt output_prompt">Out[56]:</div>




<div class="output_text output_subarea output_execute_result">
<pre>&#39;d7a8fbb307d7809469ca9abcb0082e4f8d5651e46d3cdb762d02d0bf37c9e592&#39;</pre>
</div>

</div>

</div>
</div>

</div>
<div class="cell border-box-sizing text_cell rendered"><div class="prompt input_prompt">
</div><div class="inner_cell">
<div class="text_cell_render border-box-sizing rendered_html">
<p>Even a small change in the message will (with overwhelming probability) result in a mostly different hash, due to the <a href="https://en.wikipedia.org/wiki/Avalanche_effect"><strong>avalanche effect</strong></a>. For example, adding a period at the end of the sentence:</p>

</div>
</div>
</div>
<div class="cell border-box-sizing code_cell rendered">
<div class="input">
<div class="prompt input_prompt">In&nbsp;[57]:</div>
<div class="inner_cell">
    <div class="input_area">
<div class=" highlight hl-ipython3"><pre><span></span><span class="n">hash_SHA2</span><span class="p">(</span><span class="s2">&quot;The quick brown fox jumps over the lazy dog.&quot;</span><span class="p">)</span>
<span class="k">assert</span> <span class="n">hash_SHA2</span><span class="p">(</span><span class="s2">&quot;The quick brown fox jumps over the lazy dog.&quot;</span><span class="p">)</span> <span class="o">==</span> <span class="s1">&#39;ef537f25c895bfa782526529a9b63d97aa631564d5d789c2b765448c8635fb6c&#39;</span>
</pre></div>

    </div>
</div>
</div>

<div class="output_wrapper">
<div class="output">


<div class="output_area">

    <div class="prompt output_prompt">Out[57]:</div>




<div class="output_text output_subarea output_execute_result">
<pre>&#39;ef537f25c895bfa782526529a9b63d97aa631564d5d789c2b765448c8635fb6c&#39;</pre>
</div>

</div>

</div>
</div>

</div>
<div class="cell border-box-sizing text_cell rendered"><div class="prompt input_prompt">
</div><div class="inner_cell">
<div class="text_cell_render border-box-sizing rendered_html">
<p>The hash of the zero-length string is:</p>

</div>
</div>
</div>
<div class="cell border-box-sizing code_cell rendered">
<div class="input">
<div class="prompt input_prompt">In&nbsp;[58]:</div>
<div class="inner_cell">
    <div class="input_area">
<div class=" highlight hl-ipython3"><pre><span></span><span class="n">hash_SHA2</span><span class="p">(</span><span class="s2">&quot;&quot;</span><span class="p">)</span>
<span class="k">assert</span> <span class="n">hash_SHA2</span><span class="p">(</span><span class="s2">&quot;&quot;</span><span class="p">)</span> <span class="o">==</span> <span class="s1">&#39;e3b0c44298fc1c149afbf4c8996fb92427ae41e4649b934ca495991b7852b855&#39;</span>
</pre></div>

    </div>
</div>
</div>

<div class="output_wrapper">
<div class="output">


<div class="output_area">

    <div class="prompt output_prompt">Out[58]:</div>




<div class="output_text output_subarea output_execute_result">
<pre>&#39;e3b0c44298fc1c149afbf4c8996fb92427ae41e4649b934ca495991b7852b855&#39;</pre>
</div>

</div>

</div>
</div>

</div>
<div class="cell border-box-sizing text_cell rendered"><div class="prompt input_prompt">
</div><div class="inner_cell">
<div class="text_cell_render border-box-sizing rendered_html">
<p>$\implies$ We obtained the same result, OK our function works!</p>

</div>
</div>
</div>
<div class="cell border-box-sizing text_cell rendered"><div class="prompt input_prompt">
</div><div class="inner_cell">
<div class="text_cell_render border-box-sizing rendered_html">
<h3 id="Trying-1000-random-examples">Trying 1000 random examples<a class="anchor-link" href="#Trying-1000-random-examples">&#182;</a></h3><p>On a small sentence:</p>

</div>
</div>
</div>
<div class="cell border-box-sizing code_cell rendered">
<div class="input">
<div class="prompt input_prompt">In&nbsp;[59]:</div>
<div class="inner_cell">
    <div class="input_area">
<div class=" highlight hl-ipython3"><pre><span></span><span class="n">hash_SHA2</span><span class="p">(</span><span class="s2">&quot;My name is Zorro !&quot;</span><span class="p">)</span>
</pre></div>

    </div>
</div>
</div>

<div class="output_wrapper">
<div class="output">


<div class="output_area">

    <div class="prompt output_prompt">Out[59]:</div>




<div class="output_text output_subarea output_execute_result">
<pre>&#39;10a6dec377c28d2d34001c103760339f8d6ab02660d200d6014329b86253552c&#39;</pre>
</div>

</div>

</div>
</div>

</div>
<div class="cell border-box-sizing code_cell rendered">
<div class="input">
<div class="prompt input_prompt">In&nbsp;[60]:</div>
<div class="inner_cell">
    <div class="input_area">
<div class=" highlight hl-ipython3"><pre><span></span><span class="n">h</span> <span class="o">=</span> <span class="n">hashlib</span><span class="o">.</span><span class="n">sha256</span><span class="p">()</span>
<span class="n">h</span><span class="o">.</span><span class="n">update</span><span class="p">(</span><span class="sa">b</span><span class="s2">&quot;My name is Zorro !&quot;</span><span class="p">)</span>
<span class="n">h</span><span class="o">.</span><span class="n">hexdigest</span><span class="p">()</span>
</pre></div>

    </div>
</div>
</div>

<div class="output_wrapper">
<div class="output">


<div class="output_area">

    <div class="prompt output_prompt">Out[60]:</div>




<div class="output_text output_subarea output_execute_result">
<pre>&#39;10a6dec377c28d2d34001c103760339f8d6ab02660d200d6014329b86253552c&#39;</pre>
</div>

</div>

</div>
</div>

</div>
<div class="cell border-box-sizing text_cell rendered"><div class="prompt input_prompt">
</div><div class="inner_cell">
<div class="text_cell_render border-box-sizing rendered_html">
<p>It starts to look good.</p>

</div>
</div>
</div>
<div class="cell border-box-sizing code_cell rendered">
<div class="input">
<div class="prompt input_prompt">In&nbsp;[61]:</div>
<div class="inner_cell">
    <div class="input_area">
<div class=" highlight hl-ipython3"><pre><span></span><span class="k">def</span> <span class="nf">true_hash_SHA2</span><span class="p">(</span><span class="n">data</span><span class="p">):</span>
    <span class="n">h</span> <span class="o">=</span> <span class="n">hashlib</span><span class="o">.</span><span class="n">sha256</span><span class="p">()</span>
    <span class="k">if</span> <span class="nb">isinstance</span><span class="p">(</span><span class="n">data</span><span class="p">,</span> <span class="nb">str</span><span class="p">):</span>
        <span class="n">data</span> <span class="o">=</span> <span class="nb">bytes</span><span class="p">(</span><span class="n">data</span><span class="p">,</span> <span class="n">encoding</span><span class="o">=</span><span class="s1">&#39;utf8&#39;</span><span class="p">)</span>
    <span class="n">h</span><span class="o">.</span><span class="n">update</span><span class="p">(</span><span class="n">data</span><span class="p">)</span>
    <span class="k">return</span> <span class="n">h</span><span class="o">.</span><span class="n">hexdigest</span><span class="p">()</span>
</pre></div>

    </div>
</div>
</div>

</div>
<div class="cell border-box-sizing text_cell rendered"><div class="prompt input_prompt">
</div><div class="inner_cell">
<div class="text_cell_render border-box-sizing rendered_html">
<p>On some random data:</p>

</div>
</div>
</div>
<div class="cell border-box-sizing code_cell rendered">
<div class="input">
<div class="prompt input_prompt">In&nbsp;[62]:</div>
<div class="inner_cell">
    <div class="input_area">
<div class=" highlight hl-ipython3"><pre><span></span><span class="n">random_string</span><span class="p">(</span><span class="mi">10</span><span class="p">)</span>
</pre></div>

    </div>
</div>
</div>

<div class="output_wrapper">
<div class="output">


<div class="output_area">

    <div class="prompt output_prompt">Out[62]:</div>




<div class="output_text output_subarea output_execute_result">
<pre>&#39;CpGQBPn3dP&#39;</pre>
</div>

</div>

</div>
</div>

</div>
<div class="cell border-box-sizing code_cell rendered">
<div class="input">
<div class="prompt input_prompt">In&nbsp;[63]:</div>
<div class="inner_cell">
    <div class="input_area">
<div class=" highlight hl-ipython3"><pre><span></span><span class="kn">from</span> <span class="nn">tqdm</span> <span class="k">import</span> <span class="n">tqdm_notebook</span> <span class="k">as</span> <span class="n">tqdm</span>
</pre></div>

    </div>
</div>
</div>

</div>
<div class="cell border-box-sizing code_cell rendered">
<div class="input">
<div class="prompt input_prompt">In&nbsp;[64]:</div>
<div class="inner_cell">
    <div class="input_area">
<div class=" highlight hl-ipython3"><pre><span></span><span class="o">%%time</span>
<span class="k">for</span> <span class="n">_</span> <span class="ow">in</span> <span class="n">tqdm</span><span class="p">(</span><span class="nb">range</span><span class="p">(</span><span class="mi">1000</span><span class="p">)):</span>
    <span class="n">x</span> <span class="o">=</span> <span class="n">random_string</span><span class="p">()</span>
    <span class="k">assert</span> <span class="n">hash_SHA2</span><span class="p">(</span><span class="n">x</span><span class="p">)</span> <span class="o">==</span> <span class="n">true_hash_SHA2</span><span class="p">(</span><span class="n">x</span><span class="p">),</span> <span class="s2">&quot;Error: x = </span><span class="si">{}</span><span class="s2"> gave two different SHA2 hashes: my implementation = </span><span class="si">{}</span><span class="s2"> != hashlib implementation = </span><span class="si">{}</span><span class="s2">...&quot;</span><span class="o">.</span><span class="n">format</span><span class="p">(</span><span class="n">x</span><span class="p">,</span> <span class="n">hash_SHA2</span><span class="p">(</span><span class="n">x</span><span class="p">),</span> <span class="n">true_hash_SHA2</span><span class="p">(</span><span class="n">x</span><span class="p">))</span>
</pre></div>

    </div>
</div>
</div>

<div class="output_wrapper">
<div class="output">


<div class="output_area">

    <div class="prompt"></div>





 
 
<div id="64c387fd-34bd-4cae-ad39-ea403ab6386c"></div>
<div class="output_subarea output_widget_view ">
<script type="text/javascript">
var element = $('#64c387fd-34bd-4cae-ad39-ea403ab6386c');
</script>
<script type="application/vnd.jupyter.widget-view+json">
{"model_id": "dd08b930c4f04376a0827792342e12df"}
</script>
</div>

</div>

<div class="output_area">

    <div class="prompt"></div>


<div class="output_subarea output_stream output_stdout output_text">
<pre>CPU times: user 1min 1s, sys: 52 ms, total: 1min 1s
Wall time: 1min 1s
</pre>
</div>
</div>

</div>
</div>

</div>
<div class="cell border-box-sizing text_cell rendered"><div class="prompt input_prompt">
</div><div class="inner_cell">
<div class="text_cell_render border-box-sizing rendered_html">
<hr>
<h2 id="Comparison-:-MD5-vs-SHA-1-vs-SHA-2">Comparison : MD5 vs SHA-1 vs SHA-2<a class="anchor-link" href="#Comparison-:-MD5-vs-SHA-1-vs-SHA-2">&#182;</a></h2><p>It can be interesting to compare each hash functions, with respect to its time complexity.</p>

</div>
</div>
</div>
<div class="cell border-box-sizing code_cell rendered">
<div class="input">
<div class="prompt input_prompt">In&nbsp;[65]:</div>
<div class="inner_cell">
    <div class="input_area">
<div class=" highlight hl-ipython3"><pre><span></span><span class="k">def</span> <span class="nf">test_MD5</span><span class="p">():</span>
    <span class="n">x</span> <span class="o">=</span> <span class="n">random_string</span><span class="p">()</span>
    <span class="k">return</span> <span class="n">hash_MD5</span><span class="p">(</span><span class="n">x</span><span class="p">)</span> <span class="o">==</span> <span class="n">true_hash_MD5</span><span class="p">(</span><span class="n">x</span><span class="p">)</span>

<span class="o">%</span><span class="k">timeit</span> test_MD5()
</pre></div>

    </div>
</div>
</div>

<div class="output_wrapper">
<div class="output">


<div class="output_area">

    <div class="prompt"></div>


<div class="output_subarea output_stream output_stdout output_text">
<pre>36 ms ± 4.58 ms per loop (mean ± std. dev. of 7 runs, 10 loops each)
</pre>
</div>
</div>

</div>
</div>

</div>
<div class="cell border-box-sizing code_cell rendered">
<div class="input">
<div class="prompt input_prompt">In&nbsp;[66]:</div>
<div class="inner_cell">
    <div class="input_area">
<div class=" highlight hl-ipython3"><pre><span></span><span class="k">def</span> <span class="nf">test_SHA1</span><span class="p">():</span>
    <span class="n">x</span> <span class="o">=</span> <span class="n">random_string</span><span class="p">()</span>
    <span class="k">return</span> <span class="n">hash_SHA1</span><span class="p">(</span><span class="n">x</span><span class="p">)</span> <span class="o">==</span> <span class="n">true_hash_SHA1</span><span class="p">(</span><span class="n">x</span><span class="p">)</span>

<span class="o">%</span><span class="k">timeit</span> test_SHA1()
</pre></div>

    </div>
</div>
</div>

<div class="output_wrapper">
<div class="output">


<div class="output_area">

    <div class="prompt"></div>


<div class="output_subarea output_stream output_stdout output_text">
<pre>40.2 ms ± 2.22 ms per loop (mean ± std. dev. of 7 runs, 10 loops each)
</pre>
</div>
</div>

</div>
</div>

</div>
<div class="cell border-box-sizing code_cell rendered">
<div class="input">
<div class="prompt input_prompt">In&nbsp;[67]:</div>
<div class="inner_cell">
    <div class="input_area">
<div class=" highlight hl-ipython3"><pre><span></span><span class="k">def</span> <span class="nf">test_SHA2</span><span class="p">():</span>
    <span class="n">x</span> <span class="o">=</span> <span class="n">random_string</span><span class="p">()</span>
    <span class="k">return</span> <span class="n">hash_SHA2</span><span class="p">(</span><span class="n">x</span><span class="p">)</span> <span class="o">==</span> <span class="n">true_hash_SHA2</span><span class="p">(</span><span class="n">x</span><span class="p">)</span>

<span class="o">%</span><span class="k">timeit</span> test_SHA2()
</pre></div>

    </div>
</div>
</div>

<div class="output_wrapper">
<div class="output">


<div class="output_area">

    <div class="prompt"></div>


<div class="output_subarea output_stream output_stdout output_text">
<pre>61.4 ms ± 2.65 ms per loop (mean ± std. dev. of 7 runs, 10 loops each)
</pre>
</div>
</div>

</div>
</div>

</div>
<div class="cell border-box-sizing text_cell rendered"><div class="prompt input_prompt">
</div><div class="inner_cell">
<div class="text_cell_render border-box-sizing rendered_html">
<p>As expected, the MD5 hash is the fastest, and SHA-2 is slower than SHA-1.</p>
<p>$\implies$ The more secure, the slowest. Of course.</p>

</div>
</div>
</div>
<div class="cell border-box-sizing text_cell rendered"><div class="prompt input_prompt">
</div><div class="inner_cell">
<div class="text_cell_render border-box-sizing rendered_html">
<hr>
<h2 id="Bonus-:-SHA-2-variants">Bonus : SHA-2 variants<a class="anchor-link" href="#Bonus-:-SHA-2-variants">&#182;</a></h2><p>Now that we have implemented SHA-256, it should be quick to add the SHA-224 variant, which is simply the SHA-256 with different initial values and a shorter digest.</p>
<p>The SHA-512 variant is working with 64-bits words and 1024-bits chunks, instead of 32-bits words and 512-bits chunks, and the SHA-384 is very similar to SHA-512 with different initial values and a shorter digest.</p>
<blockquote><p>Sorry about the length of this part, I know all these variants are very similar, but I wanted to write them all.</p>
</blockquote>

</div>
</div>
</div>
<div class="cell border-box-sizing text_cell rendered"><div class="prompt input_prompt">
</div><div class="inner_cell">
<div class="text_cell_render border-box-sizing rendered_html">
<h3 id="SHA-224">SHA-224<a class="anchor-link" href="#SHA-224">&#182;</a></h3><p>As said on the Wikipedia page:</p>
<blockquote><p>SHA-224 is identical to SHA-256, except that:</p>
<ul>
<li>the initial hash values <code>h0</code> through <code>h7</code> are different, and</li>
<li>the output is constructed by omitting <code>h7</code>.</li>
</ul>
</blockquote>

</div>
</div>
</div>
<div class="cell border-box-sizing text_cell rendered"><div class="prompt input_prompt">
</div><div class="inner_cell">
<div class="text_cell_render border-box-sizing rendered_html">
<h4 id="The-SHA224-class">The <code>SHA224</code> class<a class="anchor-link" href="#The-SHA224-class">&#182;</a></h4>
</div>
</div>
</div>
<div class="cell border-box-sizing code_cell rendered">
<div class="input">
<div class="prompt input_prompt">In&nbsp;[68]:</div>
<div class="inner_cell">
    <div class="input_area">
<div class=" highlight hl-ipython3"><pre><span></span><span class="k">class</span> <span class="nc">SHA224</span><span class="p">(</span><span class="n">Hash</span><span class="p">):</span>
    <span class="sd">&quot;&quot;&quot;SHA224 hashing, see https://en.wikipedia.org/wiki/SHA-2#Pseudocode.&quot;&quot;&quot;</span>
    
    <span class="k">def</span> <span class="nf">__init__</span><span class="p">(</span><span class="bp">self</span><span class="p">):</span>
        <span class="bp">self</span><span class="o">.</span><span class="n">name</span>        <span class="o">=</span> <span class="s2">&quot;SHA224&quot;</span>
        <span class="bp">self</span><span class="o">.</span><span class="n">byteorder</span>   <span class="o">=</span> <span class="s1">&#39;big&#39;</span>
        <span class="bp">self</span><span class="o">.</span><span class="n">block_size</span>  <span class="o">=</span> <span class="mi">64</span>
        <span class="bp">self</span><span class="o">.</span><span class="n">digest_size</span> <span class="o">=</span> <span class="mi">28</span>
        <span class="c1"># Note 2: For each round, there is one round constant k[i] and one entry in the message schedule array w[i], 0 ≤ i ≤ 63</span>
        <span class="c1"># Note 3: The compression function uses 8 working variables, a through h</span>
        <span class="c1"># Note 4: Big-endian convention is used when expressing the constants in this pseudocode,</span>
        <span class="c1">#         and when parsing message block data from bytes to words, for example,</span>
        <span class="c1">#         the first word of the input message &quot;abc&quot; after padding is 0x61626380</span>

        <span class="c1"># Initialize hash values:</span>
        <span class="c1"># (The second 32 bits of the fractional parts of the square roots of the 9th through 16th primes 23..53)</span>
        <span class="n">h0</span> <span class="o">=</span> <span class="mh">0xc1059ed8</span>
        <span class="n">h1</span> <span class="o">=</span> <span class="mh">0x367cd507</span>
        <span class="n">h2</span> <span class="o">=</span> <span class="mh">0x3070dd17</span>
        <span class="n">h3</span> <span class="o">=</span> <span class="mh">0xf70e5939</span>
        <span class="n">h4</span> <span class="o">=</span> <span class="mh">0xffc00b31</span>
        <span class="n">h5</span> <span class="o">=</span> <span class="mh">0x68581511</span>
        <span class="n">h6</span> <span class="o">=</span> <span class="mh">0x64f98fa7</span>
        <span class="n">h7</span> <span class="o">=</span> <span class="mh">0xbefa4fa4</span>
        
        <span class="c1"># Initialize array of round constants:</span>
        <span class="c1"># (first 32 bits of the fractional parts of the cube roots of the first 64 primes 2..311):</span>
        <span class="bp">self</span><span class="o">.</span><span class="n">k</span> <span class="o">=</span> <span class="p">[</span>
            <span class="mh">0x428a2f98</span><span class="p">,</span> <span class="mh">0x71374491</span><span class="p">,</span> <span class="mh">0xb5c0fbcf</span><span class="p">,</span> <span class="mh">0xe9b5dba5</span><span class="p">,</span> <span class="mh">0x3956c25b</span><span class="p">,</span> <span class="mh">0x59f111f1</span><span class="p">,</span> <span class="mh">0x923f82a4</span><span class="p">,</span> <span class="mh">0xab1c5ed5</span><span class="p">,</span>
            <span class="mh">0xd807aa98</span><span class="p">,</span> <span class="mh">0x12835b01</span><span class="p">,</span> <span class="mh">0x243185be</span><span class="p">,</span> <span class="mh">0x550c7dc3</span><span class="p">,</span> <span class="mh">0x72be5d74</span><span class="p">,</span> <span class="mh">0x80deb1fe</span><span class="p">,</span> <span class="mh">0x9bdc06a7</span><span class="p">,</span> <span class="mh">0xc19bf174</span><span class="p">,</span>
            <span class="mh">0xe49b69c1</span><span class="p">,</span> <span class="mh">0xefbe4786</span><span class="p">,</span> <span class="mh">0x0fc19dc6</span><span class="p">,</span> <span class="mh">0x240ca1cc</span><span class="p">,</span> <span class="mh">0x2de92c6f</span><span class="p">,</span> <span class="mh">0x4a7484aa</span><span class="p">,</span> <span class="mh">0x5cb0a9dc</span><span class="p">,</span> <span class="mh">0x76f988da</span><span class="p">,</span>
            <span class="mh">0x983e5152</span><span class="p">,</span> <span class="mh">0xa831c66d</span><span class="p">,</span> <span class="mh">0xb00327c8</span><span class="p">,</span> <span class="mh">0xbf597fc7</span><span class="p">,</span> <span class="mh">0xc6e00bf3</span><span class="p">,</span> <span class="mh">0xd5a79147</span><span class="p">,</span> <span class="mh">0x06ca6351</span><span class="p">,</span> <span class="mh">0x14292967</span><span class="p">,</span>
            <span class="mh">0x27b70a85</span><span class="p">,</span> <span class="mh">0x2e1b2138</span><span class="p">,</span> <span class="mh">0x4d2c6dfc</span><span class="p">,</span> <span class="mh">0x53380d13</span><span class="p">,</span> <span class="mh">0x650a7354</span><span class="p">,</span> <span class="mh">0x766a0abb</span><span class="p">,</span> <span class="mh">0x81c2c92e</span><span class="p">,</span> <span class="mh">0x92722c85</span><span class="p">,</span>
            <span class="mh">0xa2bfe8a1</span><span class="p">,</span> <span class="mh">0xa81a664b</span><span class="p">,</span> <span class="mh">0xc24b8b70</span><span class="p">,</span> <span class="mh">0xc76c51a3</span><span class="p">,</span> <span class="mh">0xd192e819</span><span class="p">,</span> <span class="mh">0xd6990624</span><span class="p">,</span> <span class="mh">0xf40e3585</span><span class="p">,</span> <span class="mh">0x106aa070</span><span class="p">,</span>
            <span class="mh">0x19a4c116</span><span class="p">,</span> <span class="mh">0x1e376c08</span><span class="p">,</span> <span class="mh">0x2748774c</span><span class="p">,</span> <span class="mh">0x34b0bcb5</span><span class="p">,</span> <span class="mh">0x391c0cb3</span><span class="p">,</span> <span class="mh">0x4ed8aa4a</span><span class="p">,</span> <span class="mh">0x5b9cca4f</span><span class="p">,</span> <span class="mh">0x682e6ff3</span><span class="p">,</span>
            <span class="mh">0x748f82ee</span><span class="p">,</span> <span class="mh">0x78a5636f</span><span class="p">,</span> <span class="mh">0x84c87814</span><span class="p">,</span> <span class="mh">0x8cc70208</span><span class="p">,</span> <span class="mh">0x90befffa</span><span class="p">,</span> <span class="mh">0xa4506ceb</span><span class="p">,</span> <span class="mh">0xbef9a3f7</span><span class="p">,</span> <span class="mh">0xc67178f2</span>
        <span class="p">]</span>

        <span class="c1"># Store them</span>
        <span class="bp">self</span><span class="o">.</span><span class="n">hash_pieces</span> <span class="o">=</span> <span class="p">[</span><span class="n">h0</span><span class="p">,</span> <span class="n">h1</span><span class="p">,</span> <span class="n">h2</span><span class="p">,</span> <span class="n">h3</span><span class="p">,</span> <span class="n">h4</span><span class="p">,</span> <span class="n">h5</span><span class="p">,</span> <span class="n">h6</span><span class="p">,</span> <span class="n">h7</span><span class="p">]</span>
    
    <span class="k">def</span> <span class="nf">update</span><span class="p">(</span><span class="bp">self</span><span class="p">,</span> <span class="n">arg</span><span class="p">):</span>
        <span class="n">h0</span><span class="p">,</span> <span class="n">h1</span><span class="p">,</span> <span class="n">h2</span><span class="p">,</span> <span class="n">h3</span><span class="p">,</span> <span class="n">h4</span><span class="p">,</span> <span class="n">h5</span><span class="p">,</span> <span class="n">h6</span><span class="p">,</span> <span class="n">h7</span> <span class="o">=</span> <span class="bp">self</span><span class="o">.</span><span class="n">hash_pieces</span>
        <span class="c1"># 1. Pre-processing, exactly like MD5</span>
        <span class="n">data</span> <span class="o">=</span> <span class="nb">bytearray</span><span class="p">(</span><span class="n">arg</span><span class="p">)</span>
        <span class="n">orig_len_in_bits</span> <span class="o">=</span> <span class="p">(</span><span class="mi">8</span> <span class="o">*</span> <span class="nb">len</span><span class="p">(</span><span class="n">data</span><span class="p">))</span> <span class="o">&amp;</span> <span class="mh">0xFFFFFFFFFFFFFFFF</span>
        <span class="c1"># 1.a. Add a single &#39;1&#39; bit at the end of the input bits</span>
        <span class="n">data</span><span class="o">.</span><span class="n">append</span><span class="p">(</span><span class="mh">0x80</span><span class="p">)</span>
        <span class="c1"># 1.b. Padding with zeros as long as the input bits length ≡ 448 (mod 512)</span>
        <span class="k">while</span> <span class="nb">len</span><span class="p">(</span><span class="n">data</span><span class="p">)</span> <span class="o">%</span> <span class="mi">64</span> <span class="o">!=</span> <span class="mi">56</span><span class="p">:</span>
            <span class="n">data</span><span class="o">.</span><span class="n">append</span><span class="p">(</span><span class="mi">0</span><span class="p">)</span>
        <span class="c1"># 1.c. append original length in bits mod (2 pow 64) to message</span>
        <span class="n">data</span> <span class="o">+=</span> <span class="n">orig_len_in_bits</span><span class="o">.</span><span class="n">to_bytes</span><span class="p">(</span><span class="mi">8</span><span class="p">,</span> <span class="n">byteorder</span><span class="o">=</span><span class="s1">&#39;big&#39;</span><span class="p">)</span>
        <span class="k">assert</span> <span class="nb">len</span><span class="p">(</span><span class="n">data</span><span class="p">)</span> <span class="o">%</span> <span class="mi">64</span> <span class="o">==</span> <span class="mi">0</span><span class="p">,</span> <span class="s2">&quot;Error in padding&quot;</span>
        <span class="c1"># 2. Computations</span>
        <span class="c1"># Process the message in successive 512-bit = 64-bytes chunks:</span>
        <span class="k">for</span> <span class="n">offset</span> <span class="ow">in</span> <span class="nb">range</span><span class="p">(</span><span class="mi">0</span><span class="p">,</span> <span class="nb">len</span><span class="p">(</span><span class="n">data</span><span class="p">),</span> <span class="mi">64</span><span class="p">):</span>
            <span class="c1"># 2.a. 512-bits = 64-bytes chunks</span>
            <span class="n">chunks</span> <span class="o">=</span> <span class="n">data</span><span class="p">[</span><span class="n">offset</span> <span class="p">:</span> <span class="n">offset</span> <span class="o">+</span> <span class="mi">64</span><span class="p">]</span>
            <span class="n">w</span> <span class="o">=</span> <span class="p">[</span><span class="mi">0</span> <span class="k">for</span> <span class="n">i</span> <span class="ow">in</span> <span class="nb">range</span><span class="p">(</span><span class="mi">64</span><span class="p">)]</span>
            <span class="c1"># 2.b. Break chunk into sixteen 32-bit = 4-bytes words w[i], 0 ≤ i ≤ 15</span>
            <span class="k">for</span> <span class="n">i</span> <span class="ow">in</span> <span class="nb">range</span><span class="p">(</span><span class="mi">16</span><span class="p">):</span>
                <span class="n">w</span><span class="p">[</span><span class="n">i</span><span class="p">]</span> <span class="o">=</span> <span class="nb">int</span><span class="o">.</span><span class="n">from_bytes</span><span class="p">(</span><span class="n">chunks</span><span class="p">[</span><span class="mi">4</span><span class="o">*</span><span class="n">i</span> <span class="p">:</span> <span class="mi">4</span><span class="o">*</span><span class="n">i</span> <span class="o">+</span> <span class="mi">4</span><span class="p">],</span> <span class="n">byteorder</span><span class="o">=</span><span class="s1">&#39;big&#39;</span><span class="p">)</span>
            <span class="c1"># 2.c.  Extend the first 16 words into the remaining 48</span>
            <span class="c1">#       words w[16..63] of the message schedule array:</span>
            <span class="k">for</span> <span class="n">i</span> <span class="ow">in</span> <span class="nb">range</span><span class="p">(</span><span class="mi">16</span><span class="p">,</span> <span class="mi">64</span><span class="p">):</span>
                <span class="n">s0</span> <span class="o">=</span> <span class="p">(</span><span class="n">rightrotate</span><span class="p">(</span><span class="n">w</span><span class="p">[</span><span class="n">i</span><span class="o">-</span><span class="mi">15</span><span class="p">],</span> <span class="mi">7</span><span class="p">)</span> <span class="o">^</span> <span class="n">rightrotate</span><span class="p">(</span><span class="n">w</span><span class="p">[</span><span class="n">i</span><span class="o">-</span><span class="mi">15</span><span class="p">],</span> <span class="mi">18</span><span class="p">)</span> <span class="o">^</span> <span class="n">rightshift</span><span class="p">(</span><span class="n">w</span><span class="p">[</span><span class="n">i</span><span class="o">-</span><span class="mi">15</span><span class="p">],</span> <span class="mi">3</span><span class="p">))</span> <span class="o">&amp;</span> <span class="mh">0xFFFFFFFF</span>
                <span class="n">s1</span> <span class="o">=</span> <span class="p">(</span><span class="n">rightrotate</span><span class="p">(</span><span class="n">w</span><span class="p">[</span><span class="n">i</span><span class="o">-</span><span class="mi">2</span><span class="p">],</span> <span class="mi">17</span><span class="p">)</span> <span class="o">^</span> <span class="n">rightrotate</span><span class="p">(</span><span class="n">w</span><span class="p">[</span><span class="n">i</span><span class="o">-</span><span class="mi">2</span><span class="p">],</span> <span class="mi">19</span><span class="p">)</span> <span class="o">^</span> <span class="n">rightshift</span><span class="p">(</span><span class="n">w</span><span class="p">[</span><span class="n">i</span><span class="o">-</span><span class="mi">2</span><span class="p">],</span> <span class="mi">10</span><span class="p">))</span> <span class="o">&amp;</span> <span class="mh">0xFFFFFFFF</span>
                <span class="n">w</span><span class="p">[</span><span class="n">i</span><span class="p">]</span> <span class="o">=</span> <span class="p">(</span><span class="n">w</span><span class="p">[</span><span class="n">i</span><span class="o">-</span><span class="mi">16</span><span class="p">]</span> <span class="o">+</span> <span class="n">s0</span> <span class="o">+</span> <span class="n">w</span><span class="p">[</span><span class="n">i</span><span class="o">-</span><span class="mi">7</span><span class="p">]</span> <span class="o">+</span> <span class="n">s1</span><span class="p">)</span> <span class="o">&amp;</span> <span class="mh">0xFFFFFFFF</span>
            <span class="c1"># 2.d. Initialize hash value for this chunk</span>
            <span class="n">a</span><span class="p">,</span> <span class="n">b</span><span class="p">,</span> <span class="n">c</span><span class="p">,</span> <span class="n">d</span><span class="p">,</span> <span class="n">e</span><span class="p">,</span> <span class="n">f</span><span class="p">,</span> <span class="n">g</span><span class="p">,</span> <span class="n">h</span> <span class="o">=</span> <span class="n">h0</span><span class="p">,</span> <span class="n">h1</span><span class="p">,</span> <span class="n">h2</span><span class="p">,</span> <span class="n">h3</span><span class="p">,</span> <span class="n">h4</span><span class="p">,</span> <span class="n">h5</span><span class="p">,</span> <span class="n">h6</span><span class="p">,</span> <span class="n">h7</span>
            <span class="c1"># 2.e. Main loop, cf. https://tools.ietf.org/html/rfc6234</span>
            <span class="k">for</span> <span class="n">i</span> <span class="ow">in</span> <span class="nb">range</span><span class="p">(</span><span class="mi">64</span><span class="p">):</span>
                <span class="n">S1</span> <span class="o">=</span> <span class="p">(</span><span class="n">rightrotate</span><span class="p">(</span><span class="n">e</span><span class="p">,</span> <span class="mi">6</span><span class="p">)</span> <span class="o">^</span> <span class="n">rightrotate</span><span class="p">(</span><span class="n">e</span><span class="p">,</span> <span class="mi">11</span><span class="p">)</span> <span class="o">^</span> <span class="n">rightrotate</span><span class="p">(</span><span class="n">e</span><span class="p">,</span> <span class="mi">25</span><span class="p">))</span> <span class="o">&amp;</span> <span class="mh">0xFFFFFFFF</span>
                <span class="n">ch</span> <span class="o">=</span> <span class="p">((</span><span class="n">e</span> <span class="o">&amp;</span> <span class="n">f</span><span class="p">)</span> <span class="o">^</span> <span class="p">((</span><span class="o">~</span><span class="n">e</span><span class="p">)</span> <span class="o">&amp;</span> <span class="n">g</span><span class="p">))</span> <span class="o">&amp;</span> <span class="mh">0xFFFFFFFF</span>
                <span class="n">temp1</span> <span class="o">=</span> <span class="p">(</span><span class="n">h</span> <span class="o">+</span> <span class="n">S1</span> <span class="o">+</span> <span class="n">ch</span> <span class="o">+</span> <span class="bp">self</span><span class="o">.</span><span class="n">k</span><span class="p">[</span><span class="n">i</span><span class="p">]</span> <span class="o">+</span> <span class="n">w</span><span class="p">[</span><span class="n">i</span><span class="p">])</span> <span class="o">&amp;</span> <span class="mh">0xFFFFFFFF</span>
                <span class="n">S0</span> <span class="o">=</span> <span class="p">(</span><span class="n">rightrotate</span><span class="p">(</span><span class="n">a</span><span class="p">,</span> <span class="mi">2</span><span class="p">)</span> <span class="o">^</span> <span class="n">rightrotate</span><span class="p">(</span><span class="n">a</span><span class="p">,</span> <span class="mi">13</span><span class="p">)</span> <span class="o">^</span> <span class="n">rightrotate</span><span class="p">(</span><span class="n">a</span><span class="p">,</span> <span class="mi">22</span><span class="p">))</span> <span class="o">&amp;</span> <span class="mh">0xFFFFFFFF</span>
                <span class="n">maj</span> <span class="o">=</span> <span class="p">((</span><span class="n">a</span> <span class="o">&amp;</span> <span class="n">b</span><span class="p">)</span> <span class="o">^</span> <span class="p">(</span><span class="n">a</span> <span class="o">&amp;</span> <span class="n">c</span><span class="p">)</span> <span class="o">^</span> <span class="p">(</span><span class="n">b</span> <span class="o">&amp;</span> <span class="n">c</span><span class="p">))</span> <span class="o">&amp;</span> <span class="mh">0xFFFFFFFF</span>
                <span class="n">temp2</span> <span class="o">=</span> <span class="p">(</span><span class="n">S0</span> <span class="o">+</span> <span class="n">maj</span><span class="p">)</span> <span class="o">&amp;</span> <span class="mh">0xFFFFFFFF</span>

                <span class="n">new_a</span> <span class="o">=</span> <span class="p">(</span><span class="n">temp1</span> <span class="o">+</span> <span class="n">temp2</span><span class="p">)</span> <span class="o">&amp;</span> <span class="mh">0xFFFFFFFF</span>
                <span class="n">new_e</span> <span class="o">=</span> <span class="p">(</span><span class="n">d</span> <span class="o">+</span> <span class="n">temp1</span><span class="p">)</span> <span class="o">&amp;</span> <span class="mh">0xFFFFFFFF</span>
                <span class="c1"># Rotate the 8 variables</span>
                <span class="n">a</span><span class="p">,</span> <span class="n">b</span><span class="p">,</span> <span class="n">c</span><span class="p">,</span> <span class="n">d</span><span class="p">,</span> <span class="n">e</span><span class="p">,</span> <span class="n">f</span><span class="p">,</span> <span class="n">g</span><span class="p">,</span> <span class="n">h</span> <span class="o">=</span> <span class="n">new_a</span><span class="p">,</span> <span class="n">a</span><span class="p">,</span> <span class="n">b</span><span class="p">,</span> <span class="n">c</span><span class="p">,</span> <span class="n">new_e</span><span class="p">,</span> <span class="n">e</span><span class="p">,</span> <span class="n">f</span><span class="p">,</span> <span class="n">g</span>

            <span class="c1"># Add this chunk&#39;s hash to result so far:</span>
            <span class="n">h0</span> <span class="o">=</span> <span class="p">(</span><span class="n">h0</span> <span class="o">+</span> <span class="n">a</span><span class="p">)</span> <span class="o">&amp;</span> <span class="mh">0xFFFFFFFF</span>
            <span class="n">h1</span> <span class="o">=</span> <span class="p">(</span><span class="n">h1</span> <span class="o">+</span> <span class="n">b</span><span class="p">)</span> <span class="o">&amp;</span> <span class="mh">0xFFFFFFFF</span>
            <span class="n">h2</span> <span class="o">=</span> <span class="p">(</span><span class="n">h2</span> <span class="o">+</span> <span class="n">c</span><span class="p">)</span> <span class="o">&amp;</span> <span class="mh">0xFFFFFFFF</span>
            <span class="n">h3</span> <span class="o">=</span> <span class="p">(</span><span class="n">h3</span> <span class="o">+</span> <span class="n">d</span><span class="p">)</span> <span class="o">&amp;</span> <span class="mh">0xFFFFFFFF</span>
            <span class="n">h4</span> <span class="o">=</span> <span class="p">(</span><span class="n">h4</span> <span class="o">+</span> <span class="n">e</span><span class="p">)</span> <span class="o">&amp;</span> <span class="mh">0xFFFFFFFF</span>
            <span class="n">h5</span> <span class="o">=</span> <span class="p">(</span><span class="n">h5</span> <span class="o">+</span> <span class="n">f</span><span class="p">)</span> <span class="o">&amp;</span> <span class="mh">0xFFFFFFFF</span>
            <span class="n">h6</span> <span class="o">=</span> <span class="p">(</span><span class="n">h6</span> <span class="o">+</span> <span class="n">g</span><span class="p">)</span> <span class="o">&amp;</span> <span class="mh">0xFFFFFFFF</span>
            <span class="n">h7</span> <span class="o">=</span> <span class="p">(</span><span class="n">h7</span> <span class="o">+</span> <span class="n">h</span><span class="p">)</span> <span class="o">&amp;</span> <span class="mh">0xFFFFFFFF</span>
        <span class="c1"># 3. Conclusion</span>
        <span class="bp">self</span><span class="o">.</span><span class="n">hash_pieces</span> <span class="o">=</span> <span class="p">[</span><span class="n">h0</span><span class="p">,</span> <span class="n">h1</span><span class="p">,</span> <span class="n">h2</span><span class="p">,</span> <span class="n">h3</span><span class="p">,</span> <span class="n">h4</span><span class="p">,</span> <span class="n">h5</span><span class="p">,</span> <span class="n">h6</span><span class="p">,</span> <span class="n">h7</span><span class="p">]</span>

    <span class="k">def</span> <span class="nf">digest</span><span class="p">(</span><span class="bp">self</span><span class="p">):</span>
        <span class="c1"># h0 append h1 append h2 append h3 append h4 append h5 append h6</span>
        <span class="n">pieces_without_h7</span> <span class="o">=</span> <span class="bp">self</span><span class="o">.</span><span class="n">hash_pieces</span><span class="p">[:</span><span class="o">-</span><span class="mi">1</span><span class="p">]</span>
        <span class="k">return</span> <span class="nb">sum</span><span class="p">(</span><span class="n">leftshift</span><span class="p">(</span><span class="n">x</span><span class="p">,</span> <span class="mi">32</span> <span class="o">*</span> <span class="n">i</span><span class="p">)</span> <span class="k">for</span> <span class="n">i</span><span class="p">,</span> <span class="n">x</span> <span class="ow">in</span> <span class="nb">enumerate</span><span class="p">(</span><span class="n">pieces_without_h7</span><span class="p">[::</span><span class="o">-</span><span class="mi">1</span><span class="p">]))</span>
</pre></div>

    </div>
</div>
</div>

</div>
<div class="cell border-box-sizing text_cell rendered"><div class="prompt input_prompt">
</div><div class="inner_cell">
<div class="text_cell_render border-box-sizing rendered_html">
<p>We can also write a function to directly compute the hex digest from some bytes data.</p>

</div>
</div>
</div>
<div class="cell border-box-sizing code_cell rendered">
<div class="input">
<div class="prompt input_prompt">In&nbsp;[69]:</div>
<div class="inner_cell">
    <div class="input_area">
<div class=" highlight hl-ipython3"><pre><span></span><span class="k">def</span> <span class="nf">hash_SHA224</span><span class="p">(</span><span class="n">data</span><span class="p">):</span>
    <span class="sd">&quot;&quot;&quot; Shortcut function to directly receive the hex digest from SHA224(data).&quot;&quot;&quot;</span>
    <span class="n">h</span> <span class="o">=</span> <span class="n">SHA224</span><span class="p">()</span>
    <span class="k">if</span> <span class="nb">isinstance</span><span class="p">(</span><span class="n">data</span><span class="p">,</span> <span class="nb">str</span><span class="p">):</span>
        <span class="n">data</span> <span class="o">=</span> <span class="nb">bytes</span><span class="p">(</span><span class="n">data</span><span class="p">,</span> <span class="n">encoding</span><span class="o">=</span><span class="s1">&#39;utf8&#39;</span><span class="p">)</span>
    <span class="n">h</span><span class="o">.</span><span class="n">update</span><span class="p">(</span><span class="n">data</span><span class="p">)</span>
    <span class="k">return</span> <span class="n">h</span><span class="o">.</span><span class="n">hexdigest</span><span class="p">()</span>
</pre></div>

    </div>
</div>
</div>

</div>
<div class="cell border-box-sizing text_cell rendered"><div class="prompt input_prompt">
</div><div class="inner_cell">
<div class="text_cell_render border-box-sizing rendered_html">
<h4 id="Checks-on-SHA-224">Checks on SHA-224<a class="anchor-link" href="#Checks-on-SHA-224">&#182;</a></h4><p>Let try the example from <a href="https://en.wikipedia.org/wiki/SHA-2#Test_vectors">SHA-2 Wikipedia page</a> :</p>

</div>
</div>
</div>
<div class="cell border-box-sizing code_cell rendered">
<div class="input">
<div class="prompt input_prompt">In&nbsp;[70]:</div>
<div class="inner_cell">
    <div class="input_area">
<div class=" highlight hl-ipython3"><pre><span></span><span class="k">def</span> <span class="nf">true_hash_SHA224</span><span class="p">(</span><span class="n">data</span><span class="p">):</span>
    <span class="n">h</span> <span class="o">=</span> <span class="n">hashlib</span><span class="o">.</span><span class="n">sha224</span><span class="p">()</span>
    <span class="k">if</span> <span class="nb">isinstance</span><span class="p">(</span><span class="n">data</span><span class="p">,</span> <span class="nb">str</span><span class="p">):</span>
        <span class="n">data</span> <span class="o">=</span> <span class="nb">bytes</span><span class="p">(</span><span class="n">data</span><span class="p">,</span> <span class="n">encoding</span><span class="o">=</span><span class="s1">&#39;utf8&#39;</span><span class="p">)</span>
    <span class="n">h</span><span class="o">.</span><span class="n">update</span><span class="p">(</span><span class="n">data</span><span class="p">)</span>
    <span class="k">return</span> <span class="n">h</span><span class="o">.</span><span class="n">hexdigest</span><span class="p">()</span>
</pre></div>

    </div>
</div>
</div>

</div>
<div class="cell border-box-sizing code_cell rendered">
<div class="input">
<div class="prompt input_prompt">In&nbsp;[71]:</div>
<div class="inner_cell">
    <div class="input_area">
<div class=" highlight hl-ipython3"><pre><span></span><span class="n">hash_SHA224</span><span class="p">(</span><span class="s2">&quot;The quick brown fox jumps over the lazy dog&quot;</span><span class="p">)</span>
<span class="k">assert</span> <span class="n">hash_SHA224</span><span class="p">(</span><span class="s2">&quot;The quick brown fox jumps over the lazy dog&quot;</span><span class="p">)</span> <span class="o">==</span> <span class="s1">&#39;730e109bd7a8a32b1cb9d9a09aa2325d2430587ddbc0c38bad911525&#39;</span>
<span class="k">assert</span> <span class="n">hash_SHA224</span><span class="p">(</span><span class="s2">&quot;The quick brown fox jumps over the lazy dog&quot;</span><span class="p">)</span> <span class="o">==</span> <span class="n">true_hash_SHA224</span><span class="p">(</span><span class="s2">&quot;The quick brown fox jumps over the lazy dog&quot;</span><span class="p">)</span>
</pre></div>

    </div>
</div>
</div>

<div class="output_wrapper">
<div class="output">


<div class="output_area">

    <div class="prompt output_prompt">Out[71]:</div>




<div class="output_text output_subarea output_execute_result">
<pre>&#39;730e109bd7a8a32b1cb9d9a09aa2325d2430587ddbc0c38bad911525&#39;</pre>
</div>

</div>

</div>
</div>

</div>
<div class="cell border-box-sizing text_cell rendered"><div class="prompt input_prompt">
</div><div class="inner_cell">
<div class="text_cell_render border-box-sizing rendered_html">
<p>Even a small change in the message will (with overwhelming probability) result in a mostly different hash, due to the <a href="https://en.wikipedia.org/wiki/Avalanche_effect"><strong>avalanche effect</strong></a>. For example, adding a period at the end of the sentence:</p>

</div>
</div>
</div>
<div class="cell border-box-sizing code_cell rendered">
<div class="input">
<div class="prompt input_prompt">In&nbsp;[72]:</div>
<div class="inner_cell">
    <div class="input_area">
<div class=" highlight hl-ipython3"><pre><span></span><span class="n">hash_SHA224</span><span class="p">(</span><span class="s2">&quot;The quick brown fox jumps over the lazy dog.&quot;</span><span class="p">)</span>
<span class="k">assert</span> <span class="n">hash_SHA224</span><span class="p">(</span><span class="s2">&quot;The quick brown fox jumps over the lazy dog.&quot;</span><span class="p">)</span> <span class="o">==</span> <span class="s1">&#39;619cba8e8e05826e9b8c519c0a5c68f4fb653e8a3d8aa04bb2c8cd4c&#39;</span>
<span class="k">assert</span> <span class="n">hash_SHA224</span><span class="p">(</span><span class="s2">&quot;The quick brown fox jumps over the lazy dog.&quot;</span><span class="p">)</span> <span class="o">==</span> <span class="n">true_hash_SHA224</span><span class="p">(</span><span class="s2">&quot;The quick brown fox jumps over the lazy dog.&quot;</span><span class="p">)</span>
</pre></div>

    </div>
</div>
</div>

<div class="output_wrapper">
<div class="output">


<div class="output_area">

    <div class="prompt output_prompt">Out[72]:</div>




<div class="output_text output_subarea output_execute_result">
<pre>&#39;619cba8e8e05826e9b8c519c0a5c68f4fb653e8a3d8aa04bb2c8cd4c&#39;</pre>
</div>

</div>

</div>
</div>

</div>
<div class="cell border-box-sizing text_cell rendered"><div class="prompt input_prompt">
</div><div class="inner_cell">
<div class="text_cell_render border-box-sizing rendered_html">
<p>The hash of the zero-length string is:</p>

</div>
</div>
</div>
<div class="cell border-box-sizing code_cell rendered">
<div class="input">
<div class="prompt input_prompt">In&nbsp;[73]:</div>
<div class="inner_cell">
    <div class="input_area">
<div class=" highlight hl-ipython3"><pre><span></span><span class="n">hash_SHA224</span><span class="p">(</span><span class="s2">&quot;&quot;</span><span class="p">)</span>
<span class="k">assert</span> <span class="n">hash_SHA224</span><span class="p">(</span><span class="s2">&quot;&quot;</span><span class="p">)</span> <span class="o">==</span> <span class="s1">&#39;d14a028c2a3a2bc9476102bb288234c415a2b01f828ea62ac5b3e42f&#39;</span>
<span class="k">assert</span> <span class="n">hash_SHA224</span><span class="p">(</span><span class="s2">&quot;&quot;</span><span class="p">)</span> <span class="o">==</span> <span class="n">true_hash_SHA224</span><span class="p">(</span><span class="s2">&quot;&quot;</span><span class="p">)</span>
</pre></div>

    </div>
</div>
</div>

<div class="output_wrapper">
<div class="output">


<div class="output_area">

    <div class="prompt output_prompt">Out[73]:</div>




<div class="output_text output_subarea output_execute_result">
<pre>&#39;d14a028c2a3a2bc9476102bb288234c415a2b01f828ea62ac5b3e42f&#39;</pre>
</div>

</div>

</div>
</div>

</div>
<div class="cell border-box-sizing text_cell rendered"><div class="prompt input_prompt">
</div><div class="inner_cell">
<div class="text_cell_render border-box-sizing rendered_html">
<p>$\implies$ We obtained the same result, OK our function works!</p>

</div>
</div>
</div>
<div class="cell border-box-sizing text_cell rendered"><div class="prompt input_prompt">
</div><div class="inner_cell">
<div class="text_cell_render border-box-sizing rendered_html">
<h3 id="SHA-512">SHA-512<a class="anchor-link" href="#SHA-512">&#182;</a></h3><p>As said on the Wikipedia page:</p>
<blockquote><p>SHA-512 is identical in structure to SHA-256, but:</p>
<ul>
<li>the message is broken into 1024-bit chunks,</li>
<li>the initial hash values and round constants are extended to 64 bits,</li>
<li>there are 80 rounds instead of 64,</li>
<li>the message schedule array w has 80 64-bit words instead of 64 32-bit words,</li>
<li>to extend the message schedule array w, the loop is from 16 to 79 instead of from 16 to 63,</li>
<li>the round constants are based on the first 80 primes 2..409,</li>
<li>the word size used for calculations is 64 bits long,</li>
<li>the appended length of the message (before pre-processing), in bits, is a 128-bit big-endian integer, and</li>
<li>the shift and rotate amounts used are different.</li>
</ul>
</blockquote>

</div>
</div>
</div>
<div class="cell border-box-sizing text_cell rendered"><div class="prompt input_prompt">
</div><div class="inner_cell">
<div class="text_cell_render border-box-sizing rendered_html">
<h4 id="Useful-functions-the-SHA-512-algorithm">Useful functions the SHA-512 algorithm<a class="anchor-link" href="#Useful-functions-the-SHA-512-algorithm">&#182;</a></h4>
</div>
</div>
</div>
<div class="cell border-box-sizing text_cell rendered"><div class="prompt input_prompt">
</div><div class="inner_cell">
<div class="text_cell_render border-box-sizing rendered_html">
<p>This is exactly like for SHA-256, except we work with 64-bits words instead of 32-bits.</p>

</div>
</div>
</div>
<div class="cell border-box-sizing code_cell rendered">
<div class="input">
<div class="prompt input_prompt">In&nbsp;[74]:</div>
<div class="inner_cell">
    <div class="input_area">
<div class=" highlight hl-ipython3"><pre><span></span><span class="k">def</span> <span class="nf">leftrotate_64</span><span class="p">(</span><span class="n">x</span><span class="p">,</span> <span class="n">c</span><span class="p">):</span>
    <span class="sd">&quot;&quot;&quot; Left rotate the number x by c bytes, for 64-bits numbers.&quot;&quot;&quot;</span>
    <span class="n">x</span> <span class="o">&amp;=</span> <span class="mh">0xFFFFFFFFFFFFFFFF</span>
    <span class="k">return</span> <span class="p">((</span><span class="n">x</span> <span class="o">&lt;&lt;</span> <span class="n">c</span><span class="p">)</span> <span class="o">|</span> <span class="p">(</span><span class="n">x</span> <span class="o">&gt;&gt;</span> <span class="p">(</span><span class="mi">64</span> <span class="o">-</span> <span class="n">c</span><span class="p">)))</span> <span class="o">&amp;</span> <span class="mh">0xFFFFFFFFFFFFFFFF</span>

<span class="k">def</span> <span class="nf">rightrotate_64</span><span class="p">(</span><span class="n">x</span><span class="p">,</span> <span class="n">c</span><span class="p">):</span>
    <span class="sd">&quot;&quot;&quot; Right rotate the number x by c bytes, for 64-bits numbers.&quot;&quot;&quot;</span>
    <span class="n">x</span> <span class="o">&amp;=</span> <span class="mh">0xFFFFFFFFFFFFFFFF</span>
    <span class="k">return</span> <span class="p">((</span><span class="n">x</span> <span class="o">&gt;&gt;</span> <span class="n">c</span><span class="p">)</span> <span class="o">|</span> <span class="p">(</span><span class="n">x</span> <span class="o">&lt;&lt;</span> <span class="p">(</span><span class="mi">64</span> <span class="o">-</span> <span class="n">c</span><span class="p">)))</span> <span class="o">&amp;</span> <span class="mh">0xFFFFFFFFFFFFFFFF</span>
</pre></div>

    </div>
</div>
</div>

</div>
<div class="cell border-box-sizing text_cell rendered"><div class="prompt input_prompt">
</div><div class="inner_cell">
<div class="text_cell_render border-box-sizing rendered_html">
<h4 id="The-SHA512-class">The <code>SHA512</code> class<a class="anchor-link" href="#The-SHA512-class">&#182;</a></h4>
</div>
</div>
</div>
<div class="cell border-box-sizing code_cell rendered">
<div class="input">
<div class="prompt input_prompt">In&nbsp;[75]:</div>
<div class="inner_cell">
    <div class="input_area">
<div class=" highlight hl-ipython3"><pre><span></span><span class="k">class</span> <span class="nc">SHA512</span><span class="p">(</span><span class="n">Hash</span><span class="p">):</span>
    <span class="sd">&quot;&quot;&quot;SHA384 hashing, see https://en.wikipedia.org/wiki/SHA-2#Pseudocode.&quot;&quot;&quot;</span>
    
    <span class="k">def</span> <span class="nf">__init__</span><span class="p">(</span><span class="bp">self</span><span class="p">):</span>
        <span class="bp">self</span><span class="o">.</span><span class="n">name</span>        <span class="o">=</span> <span class="s2">&quot;SHA512&quot;</span>
        <span class="bp">self</span><span class="o">.</span><span class="n">byteorder</span>   <span class="o">=</span> <span class="s1">&#39;big&#39;</span>
        <span class="bp">self</span><span class="o">.</span><span class="n">block_size</span>  <span class="o">=</span> <span class="mi">128</span>
        <span class="bp">self</span><span class="o">.</span><span class="n">digest_size</span> <span class="o">=</span> <span class="mi">64</span>
        <span class="c1"># Note 2: For each round, there is one round constant k[i] and one entry in the message schedule array w[i], 0 ≤ i ≤ 79</span>
        <span class="c1"># Note 3: The compression function uses 8 working variables, a through h</span>
        <span class="c1"># Note 4: Big-endian convention is used when expressing the constants in this pseudocode</span>

        <span class="c1"># Initialize hash values:</span>
        <span class="c1"># (The second 64 bits of the fractional parts of the square roots of the first 8 primes 2..19)</span>
        <span class="n">h0</span> <span class="o">=</span> <span class="mh">0x6a09e667f3bcc908</span>
        <span class="n">h1</span> <span class="o">=</span> <span class="mh">0xbb67ae8584caa73b</span>
        <span class="n">h2</span> <span class="o">=</span> <span class="mh">0x3c6ef372fe94f82b</span>
        <span class="n">h3</span> <span class="o">=</span> <span class="mh">0xa54ff53a5f1d36f1</span>
        <span class="n">h4</span> <span class="o">=</span> <span class="mh">0x510e527fade682d1</span>
        <span class="n">h5</span> <span class="o">=</span> <span class="mh">0x9b05688c2b3e6c1f</span>
        <span class="n">h6</span> <span class="o">=</span> <span class="mh">0x1f83d9abfb41bd6b</span>
        <span class="n">h7</span> <span class="o">=</span> <span class="mh">0x5be0cd19137e2179</span>

        <span class="c1"># Initialize array of round constants:</span>
        <span class="c1"># (first 64 bits of the fractional parts of the cube roots of the first 80 primes 2..409):</span>
        <span class="bp">self</span><span class="o">.</span><span class="n">k</span> <span class="o">=</span> <span class="p">[</span>
            <span class="mh">0x428a2f98d728ae22</span><span class="p">,</span> <span class="mh">0x7137449123ef65cd</span><span class="p">,</span> <span class="mh">0xb5c0fbcfec4d3b2f</span><span class="p">,</span> <span class="mh">0xe9b5dba58189dbbc</span><span class="p">,</span> <span class="mh">0x3956c25bf348b538</span><span class="p">,</span> 
            <span class="mh">0x59f111f1b605d019</span><span class="p">,</span> <span class="mh">0x923f82a4af194f9b</span><span class="p">,</span> <span class="mh">0xab1c5ed5da6d8118</span><span class="p">,</span> <span class="mh">0xd807aa98a3030242</span><span class="p">,</span> <span class="mh">0x12835b0145706fbe</span><span class="p">,</span> 
            <span class="mh">0x243185be4ee4b28c</span><span class="p">,</span> <span class="mh">0x550c7dc3d5ffb4e2</span><span class="p">,</span> <span class="mh">0x72be5d74f27b896f</span><span class="p">,</span> <span class="mh">0x80deb1fe3b1696b1</span><span class="p">,</span> <span class="mh">0x9bdc06a725c71235</span><span class="p">,</span> 
            <span class="mh">0xc19bf174cf692694</span><span class="p">,</span> <span class="mh">0xe49b69c19ef14ad2</span><span class="p">,</span> <span class="mh">0xefbe4786384f25e3</span><span class="p">,</span> <span class="mh">0x0fc19dc68b8cd5b5</span><span class="p">,</span> <span class="mh">0x240ca1cc77ac9c65</span><span class="p">,</span> 
            <span class="mh">0x2de92c6f592b0275</span><span class="p">,</span> <span class="mh">0x4a7484aa6ea6e483</span><span class="p">,</span> <span class="mh">0x5cb0a9dcbd41fbd4</span><span class="p">,</span> <span class="mh">0x76f988da831153b5</span><span class="p">,</span> <span class="mh">0x983e5152ee66dfab</span><span class="p">,</span> 
            <span class="mh">0xa831c66d2db43210</span><span class="p">,</span> <span class="mh">0xb00327c898fb213f</span><span class="p">,</span> <span class="mh">0xbf597fc7beef0ee4</span><span class="p">,</span> <span class="mh">0xc6e00bf33da88fc2</span><span class="p">,</span> <span class="mh">0xd5a79147930aa725</span><span class="p">,</span> 
            <span class="mh">0x06ca6351e003826f</span><span class="p">,</span> <span class="mh">0x142929670a0e6e70</span><span class="p">,</span> <span class="mh">0x27b70a8546d22ffc</span><span class="p">,</span> <span class="mh">0x2e1b21385c26c926</span><span class="p">,</span> <span class="mh">0x4d2c6dfc5ac42aed</span><span class="p">,</span> 
            <span class="mh">0x53380d139d95b3df</span><span class="p">,</span> <span class="mh">0x650a73548baf63de</span><span class="p">,</span> <span class="mh">0x766a0abb3c77b2a8</span><span class="p">,</span> <span class="mh">0x81c2c92e47edaee6</span><span class="p">,</span> <span class="mh">0x92722c851482353b</span><span class="p">,</span> 
            <span class="mh">0xa2bfe8a14cf10364</span><span class="p">,</span> <span class="mh">0xa81a664bbc423001</span><span class="p">,</span> <span class="mh">0xc24b8b70d0f89791</span><span class="p">,</span> <span class="mh">0xc76c51a30654be30</span><span class="p">,</span> <span class="mh">0xd192e819d6ef5218</span><span class="p">,</span> 
            <span class="mh">0xd69906245565a910</span><span class="p">,</span> <span class="mh">0xf40e35855771202a</span><span class="p">,</span> <span class="mh">0x106aa07032bbd1b8</span><span class="p">,</span> <span class="mh">0x19a4c116b8d2d0c8</span><span class="p">,</span> <span class="mh">0x1e376c085141ab53</span><span class="p">,</span> 
            <span class="mh">0x2748774cdf8eeb99</span><span class="p">,</span> <span class="mh">0x34b0bcb5e19b48a8</span><span class="p">,</span> <span class="mh">0x391c0cb3c5c95a63</span><span class="p">,</span> <span class="mh">0x4ed8aa4ae3418acb</span><span class="p">,</span> <span class="mh">0x5b9cca4f7763e373</span><span class="p">,</span> 
            <span class="mh">0x682e6ff3d6b2b8a3</span><span class="p">,</span> <span class="mh">0x748f82ee5defb2fc</span><span class="p">,</span> <span class="mh">0x78a5636f43172f60</span><span class="p">,</span> <span class="mh">0x84c87814a1f0ab72</span><span class="p">,</span> <span class="mh">0x8cc702081a6439ec</span><span class="p">,</span> 
            <span class="mh">0x90befffa23631e28</span><span class="p">,</span> <span class="mh">0xa4506cebde82bde9</span><span class="p">,</span> <span class="mh">0xbef9a3f7b2c67915</span><span class="p">,</span> <span class="mh">0xc67178f2e372532b</span><span class="p">,</span> <span class="mh">0xca273eceea26619c</span><span class="p">,</span> 
            <span class="mh">0xd186b8c721c0c207</span><span class="p">,</span> <span class="mh">0xeada7dd6cde0eb1e</span><span class="p">,</span> <span class="mh">0xf57d4f7fee6ed178</span><span class="p">,</span> <span class="mh">0x06f067aa72176fba</span><span class="p">,</span> <span class="mh">0x0a637dc5a2c898a6</span><span class="p">,</span> 
            <span class="mh">0x113f9804bef90dae</span><span class="p">,</span> <span class="mh">0x1b710b35131c471b</span><span class="p">,</span> <span class="mh">0x28db77f523047d84</span><span class="p">,</span> <span class="mh">0x32caab7b40c72493</span><span class="p">,</span> <span class="mh">0x3c9ebe0a15c9bebc</span><span class="p">,</span> 
            <span class="mh">0x431d67c49c100d4c</span><span class="p">,</span> <span class="mh">0x4cc5d4becb3e42b6</span><span class="p">,</span> <span class="mh">0x597f299cfc657e2a</span><span class="p">,</span> <span class="mh">0x5fcb6fab3ad6faec</span><span class="p">,</span> <span class="mh">0x6c44198c4a475817</span>
        <span class="p">]</span>

        <span class="c1"># Store them</span>
        <span class="bp">self</span><span class="o">.</span><span class="n">hash_pieces</span> <span class="o">=</span> <span class="p">[</span><span class="n">h0</span><span class="p">,</span> <span class="n">h1</span><span class="p">,</span> <span class="n">h2</span><span class="p">,</span> <span class="n">h3</span><span class="p">,</span> <span class="n">h4</span><span class="p">,</span> <span class="n">h5</span><span class="p">,</span> <span class="n">h6</span><span class="p">,</span> <span class="n">h7</span><span class="p">]</span>
    
    <span class="k">def</span> <span class="nf">update</span><span class="p">(</span><span class="bp">self</span><span class="p">,</span> <span class="n">arg</span><span class="p">):</span>
        <span class="n">h0</span><span class="p">,</span> <span class="n">h1</span><span class="p">,</span> <span class="n">h2</span><span class="p">,</span> <span class="n">h3</span><span class="p">,</span> <span class="n">h4</span><span class="p">,</span> <span class="n">h5</span><span class="p">,</span> <span class="n">h6</span><span class="p">,</span> <span class="n">h7</span> <span class="o">=</span> <span class="bp">self</span><span class="o">.</span><span class="n">hash_pieces</span>
        <span class="c1"># 1. Pre-processing, exactly like MD5</span>
        <span class="n">data</span> <span class="o">=</span> <span class="nb">bytearray</span><span class="p">(</span><span class="n">arg</span><span class="p">)</span>
        <span class="n">orig_len_in_bits</span> <span class="o">=</span> <span class="p">(</span><span class="mi">8</span> <span class="o">*</span> <span class="nb">len</span><span class="p">(</span><span class="n">data</span><span class="p">))</span> <span class="o">&amp;</span> <span class="mh">0xFFFFFFFFFFFFFFFFFFFFFFFFFFFFFFFF</span>
        <span class="c1"># 1.a. Add a single &#39;1&#39; bit at the end of the input bits</span>
        <span class="n">data</span><span class="o">.</span><span class="n">append</span><span class="p">(</span><span class="mh">0x80</span><span class="p">)</span>
        <span class="c1"># 1.b. Padding with zeros as long as the input bits length ≡ 896 (mod 1024)</span>
        <span class="k">while</span> <span class="nb">len</span><span class="p">(</span><span class="n">data</span><span class="p">)</span> <span class="o">%</span> <span class="mi">128</span> <span class="o">!=</span> <span class="mi">112</span><span class="p">:</span>
            <span class="n">data</span><span class="o">.</span><span class="n">append</span><span class="p">(</span><span class="mi">0</span><span class="p">)</span>
        <span class="c1"># 1.c. append original length in bits mod (2 pow 128) to message</span>
        <span class="n">data</span> <span class="o">+=</span> <span class="n">orig_len_in_bits</span><span class="o">.</span><span class="n">to_bytes</span><span class="p">(</span><span class="mi">16</span><span class="p">,</span> <span class="n">byteorder</span><span class="o">=</span><span class="s1">&#39;big&#39;</span><span class="p">)</span>
        <span class="k">assert</span> <span class="nb">len</span><span class="p">(</span><span class="n">data</span><span class="p">)</span> <span class="o">%</span> <span class="mi">128</span> <span class="o">==</span> <span class="mi">0</span><span class="p">,</span> <span class="s2">&quot;Error in padding&quot;</span>
        <span class="c1"># 2. Computations</span>
        <span class="c1"># Process the message in successive 1024-bit = 128-bytes chunks:</span>
        <span class="k">for</span> <span class="n">offset</span> <span class="ow">in</span> <span class="nb">range</span><span class="p">(</span><span class="mi">0</span><span class="p">,</span> <span class="nb">len</span><span class="p">(</span><span class="n">data</span><span class="p">),</span> <span class="mi">128</span><span class="p">):</span>
            <span class="c1"># 2.a. 1024-bits = 128-bytes chunks</span>
            <span class="n">chunks</span> <span class="o">=</span> <span class="n">data</span><span class="p">[</span><span class="n">offset</span> <span class="p">:</span> <span class="n">offset</span> <span class="o">+</span> <span class="mi">128</span><span class="p">]</span>
            <span class="n">w</span> <span class="o">=</span> <span class="p">[</span><span class="mi">0</span> <span class="k">for</span> <span class="n">i</span> <span class="ow">in</span> <span class="nb">range</span><span class="p">(</span><span class="mi">80</span><span class="p">)]</span>
            <span class="c1"># 2.b. Break chunk into sixteen 128-bit = 8-bytes words w[i], 0 ≤ i ≤ 15</span>
            <span class="k">for</span> <span class="n">i</span> <span class="ow">in</span> <span class="nb">range</span><span class="p">(</span><span class="mi">16</span><span class="p">):</span>
                <span class="n">w</span><span class="p">[</span><span class="n">i</span><span class="p">]</span> <span class="o">=</span> <span class="nb">int</span><span class="o">.</span><span class="n">from_bytes</span><span class="p">(</span><span class="n">chunks</span><span class="p">[</span><span class="mi">8</span><span class="o">*</span><span class="n">i</span> <span class="p">:</span> <span class="mi">8</span><span class="o">*</span><span class="n">i</span> <span class="o">+</span> <span class="mi">8</span><span class="p">],</span> <span class="n">byteorder</span><span class="o">=</span><span class="s1">&#39;big&#39;</span><span class="p">)</span>
            <span class="c1"># 2.c.  Extend the first 16 words into the remaining 64</span>
            <span class="c1">#       words w[16..79] of the message schedule array:</span>
            <span class="k">for</span> <span class="n">i</span> <span class="ow">in</span> <span class="nb">range</span><span class="p">(</span><span class="mi">16</span><span class="p">,</span> <span class="mi">80</span><span class="p">):</span>
                <span class="n">s0</span> <span class="o">=</span> <span class="p">(</span><span class="n">rightrotate_64</span><span class="p">(</span><span class="n">w</span><span class="p">[</span><span class="n">i</span><span class="o">-</span><span class="mi">15</span><span class="p">],</span> <span class="mi">1</span><span class="p">)</span> <span class="o">^</span> <span class="n">rightrotate_64</span><span class="p">(</span><span class="n">w</span><span class="p">[</span><span class="n">i</span><span class="o">-</span><span class="mi">15</span><span class="p">],</span> <span class="mi">8</span><span class="p">)</span> <span class="o">^</span> <span class="n">rightshift</span><span class="p">(</span><span class="n">w</span><span class="p">[</span><span class="n">i</span><span class="o">-</span><span class="mi">15</span><span class="p">],</span> <span class="mi">7</span><span class="p">))</span> <span class="o">&amp;</span> <span class="mh">0xFFFFFFFFFFFFFFFF</span>
                <span class="n">s1</span> <span class="o">=</span> <span class="p">(</span><span class="n">rightrotate_64</span><span class="p">(</span><span class="n">w</span><span class="p">[</span><span class="n">i</span><span class="o">-</span><span class="mi">2</span><span class="p">],</span> <span class="mi">19</span><span class="p">)</span> <span class="o">^</span> <span class="n">rightrotate_64</span><span class="p">(</span><span class="n">w</span><span class="p">[</span><span class="n">i</span><span class="o">-</span><span class="mi">2</span><span class="p">],</span> <span class="mi">61</span><span class="p">)</span> <span class="o">^</span> <span class="n">rightshift</span><span class="p">(</span><span class="n">w</span><span class="p">[</span><span class="n">i</span><span class="o">-</span><span class="mi">2</span><span class="p">],</span> <span class="mi">6</span><span class="p">))</span> <span class="o">&amp;</span> <span class="mh">0xFFFFFFFFFFFFFFFF</span>
                <span class="n">w</span><span class="p">[</span><span class="n">i</span><span class="p">]</span> <span class="o">=</span> <span class="p">(</span><span class="n">w</span><span class="p">[</span><span class="n">i</span><span class="o">-</span><span class="mi">16</span><span class="p">]</span> <span class="o">+</span> <span class="n">s0</span> <span class="o">+</span> <span class="n">w</span><span class="p">[</span><span class="n">i</span><span class="o">-</span><span class="mi">7</span><span class="p">]</span> <span class="o">+</span> <span class="n">s1</span><span class="p">)</span> <span class="o">&amp;</span> <span class="mh">0xFFFFFFFFFFFFFFFF</span>
            <span class="c1"># 2.d. Initialize hash value for this chunk</span>
            <span class="n">a</span><span class="p">,</span> <span class="n">b</span><span class="p">,</span> <span class="n">c</span><span class="p">,</span> <span class="n">d</span><span class="p">,</span> <span class="n">e</span><span class="p">,</span> <span class="n">f</span><span class="p">,</span> <span class="n">g</span><span class="p">,</span> <span class="n">h</span> <span class="o">=</span> <span class="n">h0</span><span class="p">,</span> <span class="n">h1</span><span class="p">,</span> <span class="n">h2</span><span class="p">,</span> <span class="n">h3</span><span class="p">,</span> <span class="n">h4</span><span class="p">,</span> <span class="n">h5</span><span class="p">,</span> <span class="n">h6</span><span class="p">,</span> <span class="n">h7</span>
            <span class="c1"># 2.e. Main loop, cf. https://tools.ietf.org/html/rfc6234</span>
            <span class="k">for</span> <span class="n">i</span> <span class="ow">in</span> <span class="nb">range</span><span class="p">(</span><span class="mi">80</span><span class="p">):</span>
                <span class="n">S1</span> <span class="o">=</span> <span class="p">(</span><span class="n">rightrotate_64</span><span class="p">(</span><span class="n">e</span><span class="p">,</span> <span class="mi">14</span><span class="p">)</span> <span class="o">^</span> <span class="n">rightrotate_64</span><span class="p">(</span><span class="n">e</span><span class="p">,</span> <span class="mi">18</span><span class="p">)</span> <span class="o">^</span> <span class="n">rightrotate_64</span><span class="p">(</span><span class="n">e</span><span class="p">,</span> <span class="mi">41</span><span class="p">))</span> <span class="o">&amp;</span> <span class="mh">0xFFFFFFFFFFFFFFFF</span>
                <span class="n">ch</span> <span class="o">=</span> <span class="p">((</span><span class="n">e</span> <span class="o">&amp;</span> <span class="n">f</span><span class="p">)</span> <span class="o">^</span> <span class="p">((</span><span class="o">~</span><span class="n">e</span><span class="p">)</span> <span class="o">&amp;</span> <span class="n">g</span><span class="p">))</span> <span class="o">&amp;</span> <span class="mh">0xFFFFFFFFFFFFFFFF</span>
                <span class="n">temp1</span> <span class="o">=</span> <span class="p">(</span><span class="n">h</span> <span class="o">+</span> <span class="n">S1</span> <span class="o">+</span> <span class="n">ch</span> <span class="o">+</span> <span class="bp">self</span><span class="o">.</span><span class="n">k</span><span class="p">[</span><span class="n">i</span><span class="p">]</span> <span class="o">+</span> <span class="n">w</span><span class="p">[</span><span class="n">i</span><span class="p">])</span> <span class="o">&amp;</span> <span class="mh">0xFFFFFFFFFFFFFFFF</span>
                <span class="n">S0</span> <span class="o">=</span> <span class="p">(</span><span class="n">rightrotate_64</span><span class="p">(</span><span class="n">a</span><span class="p">,</span> <span class="mi">28</span><span class="p">)</span> <span class="o">^</span> <span class="n">rightrotate_64</span><span class="p">(</span><span class="n">a</span><span class="p">,</span> <span class="mi">34</span><span class="p">)</span> <span class="o">^</span> <span class="n">rightrotate_64</span><span class="p">(</span><span class="n">a</span><span class="p">,</span> <span class="mi">39</span><span class="p">))</span> <span class="o">&amp;</span> <span class="mh">0xFFFFFFFFFFFFFFFF</span>
                <span class="n">maj</span> <span class="o">=</span> <span class="p">((</span><span class="n">a</span> <span class="o">&amp;</span> <span class="n">b</span><span class="p">)</span> <span class="o">^</span> <span class="p">(</span><span class="n">a</span> <span class="o">&amp;</span> <span class="n">c</span><span class="p">)</span> <span class="o">^</span> <span class="p">(</span><span class="n">b</span> <span class="o">&amp;</span> <span class="n">c</span><span class="p">))</span> <span class="o">&amp;</span> <span class="mh">0xFFFFFFFFFFFFFFFF</span>
                <span class="n">temp2</span> <span class="o">=</span> <span class="p">(</span><span class="n">S0</span> <span class="o">+</span> <span class="n">maj</span><span class="p">)</span> <span class="o">&amp;</span> <span class="mh">0xFFFFFFFFFFFFFFFF</span>

                <span class="n">new_a</span> <span class="o">=</span> <span class="p">(</span><span class="n">temp1</span> <span class="o">+</span> <span class="n">temp2</span><span class="p">)</span> <span class="o">&amp;</span> <span class="mh">0xFFFFFFFFFFFFFFFF</span>
                <span class="n">new_e</span> <span class="o">=</span> <span class="p">(</span><span class="n">d</span> <span class="o">+</span> <span class="n">temp1</span><span class="p">)</span> <span class="o">&amp;</span> <span class="mh">0xFFFFFFFFFFFFFFFF</span>
                <span class="c1"># Rotate the 8 variables</span>
                <span class="n">a</span><span class="p">,</span> <span class="n">b</span><span class="p">,</span> <span class="n">c</span><span class="p">,</span> <span class="n">d</span><span class="p">,</span> <span class="n">e</span><span class="p">,</span> <span class="n">f</span><span class="p">,</span> <span class="n">g</span><span class="p">,</span> <span class="n">h</span> <span class="o">=</span> <span class="n">new_a</span><span class="p">,</span> <span class="n">a</span><span class="p">,</span> <span class="n">b</span><span class="p">,</span> <span class="n">c</span><span class="p">,</span> <span class="n">new_e</span><span class="p">,</span> <span class="n">e</span><span class="p">,</span> <span class="n">f</span><span class="p">,</span> <span class="n">g</span>

            <span class="c1"># Add this chunk&#39;s hash to result so far:</span>
            <span class="n">h0</span> <span class="o">=</span> <span class="p">(</span><span class="n">h0</span> <span class="o">+</span> <span class="n">a</span><span class="p">)</span> <span class="o">&amp;</span> <span class="mh">0xFFFFFFFFFFFFFFFF</span>
            <span class="n">h1</span> <span class="o">=</span> <span class="p">(</span><span class="n">h1</span> <span class="o">+</span> <span class="n">b</span><span class="p">)</span> <span class="o">&amp;</span> <span class="mh">0xFFFFFFFFFFFFFFFF</span>
            <span class="n">h2</span> <span class="o">=</span> <span class="p">(</span><span class="n">h2</span> <span class="o">+</span> <span class="n">c</span><span class="p">)</span> <span class="o">&amp;</span> <span class="mh">0xFFFFFFFFFFFFFFFF</span>
            <span class="n">h3</span> <span class="o">=</span> <span class="p">(</span><span class="n">h3</span> <span class="o">+</span> <span class="n">d</span><span class="p">)</span> <span class="o">&amp;</span> <span class="mh">0xFFFFFFFFFFFFFFFF</span>
            <span class="n">h4</span> <span class="o">=</span> <span class="p">(</span><span class="n">h4</span> <span class="o">+</span> <span class="n">e</span><span class="p">)</span> <span class="o">&amp;</span> <span class="mh">0xFFFFFFFFFFFFFFFF</span>
            <span class="n">h5</span> <span class="o">=</span> <span class="p">(</span><span class="n">h5</span> <span class="o">+</span> <span class="n">f</span><span class="p">)</span> <span class="o">&amp;</span> <span class="mh">0xFFFFFFFFFFFFFFFF</span>
            <span class="n">h6</span> <span class="o">=</span> <span class="p">(</span><span class="n">h6</span> <span class="o">+</span> <span class="n">g</span><span class="p">)</span> <span class="o">&amp;</span> <span class="mh">0xFFFFFFFFFFFFFFFF</span>
            <span class="n">h7</span> <span class="o">=</span> <span class="p">(</span><span class="n">h7</span> <span class="o">+</span> <span class="n">h</span><span class="p">)</span> <span class="o">&amp;</span> <span class="mh">0xFFFFFFFFFFFFFFFF</span>
        <span class="c1"># 3. Conclusion</span>
        <span class="bp">self</span><span class="o">.</span><span class="n">hash_pieces</span> <span class="o">=</span> <span class="p">[</span><span class="n">h0</span><span class="p">,</span> <span class="n">h1</span><span class="p">,</span> <span class="n">h2</span><span class="p">,</span> <span class="n">h3</span><span class="p">,</span> <span class="n">h4</span><span class="p">,</span> <span class="n">h5</span><span class="p">,</span> <span class="n">h6</span><span class="p">,</span> <span class="n">h7</span><span class="p">]</span>

    <span class="k">def</span> <span class="nf">digest</span><span class="p">(</span><span class="bp">self</span><span class="p">):</span>
        <span class="c1"># h0 append h1 append h2 append h3 append h4 append h5 append h6 append h7</span>
        <span class="k">return</span> <span class="nb">sum</span><span class="p">(</span><span class="n">leftshift</span><span class="p">(</span><span class="n">x</span><span class="p">,</span> <span class="mi">64</span> <span class="o">*</span> <span class="n">i</span><span class="p">)</span> <span class="k">for</span> <span class="n">i</span><span class="p">,</span> <span class="n">x</span> <span class="ow">in</span> <span class="nb">enumerate</span><span class="p">(</span><span class="bp">self</span><span class="o">.</span><span class="n">hash_pieces</span><span class="p">[::</span><span class="o">-</span><span class="mi">1</span><span class="p">]))</span>
</pre></div>

    </div>
</div>
</div>

</div>
<div class="cell border-box-sizing text_cell rendered"><div class="prompt input_prompt">
</div><div class="inner_cell">
<div class="text_cell_render border-box-sizing rendered_html">
<p>We can also write a function to directly compute the hex digest from some bytes data.</p>

</div>
</div>
</div>
<div class="cell border-box-sizing code_cell rendered">
<div class="input">
<div class="prompt input_prompt">In&nbsp;[76]:</div>
<div class="inner_cell">
    <div class="input_area">
<div class=" highlight hl-ipython3"><pre><span></span><span class="k">def</span> <span class="nf">hash_SHA512</span><span class="p">(</span><span class="n">data</span><span class="p">):</span>
    <span class="sd">&quot;&quot;&quot; Shortcut function to directly receive the hex digest from SHA512(data).&quot;&quot;&quot;</span>
    <span class="n">h</span> <span class="o">=</span> <span class="n">SHA512</span><span class="p">()</span>
    <span class="k">if</span> <span class="nb">isinstance</span><span class="p">(</span><span class="n">data</span><span class="p">,</span> <span class="nb">str</span><span class="p">):</span>
        <span class="n">data</span> <span class="o">=</span> <span class="nb">bytes</span><span class="p">(</span><span class="n">data</span><span class="p">,</span> <span class="n">encoding</span><span class="o">=</span><span class="s1">&#39;utf8&#39;</span><span class="p">)</span>
    <span class="n">h</span><span class="o">.</span><span class="n">update</span><span class="p">(</span><span class="n">data</span><span class="p">)</span>
    <span class="k">return</span> <span class="n">h</span><span class="o">.</span><span class="n">hexdigest</span><span class="p">()</span>
</pre></div>

    </div>
</div>
</div>

</div>
<div class="cell border-box-sizing text_cell rendered"><div class="prompt input_prompt">
</div><div class="inner_cell">
<div class="text_cell_render border-box-sizing rendered_html">
<h4 id="Checks-on-SHA-512">Checks on SHA-512<a class="anchor-link" href="#Checks-on-SHA-512">&#182;</a></h4><p>Let try the example from <a href="https://en.wikipedia.org/wiki/SHA-2#Test_vectors">SHA-2 Wikipedia page</a> :</p>

</div>
</div>
</div>
<div class="cell border-box-sizing code_cell rendered">
<div class="input">
<div class="prompt input_prompt">In&nbsp;[77]:</div>
<div class="inner_cell">
    <div class="input_area">
<div class=" highlight hl-ipython3"><pre><span></span><span class="k">def</span> <span class="nf">true_hash_SHA512</span><span class="p">(</span><span class="n">data</span><span class="p">):</span>
    <span class="n">h</span> <span class="o">=</span> <span class="n">hashlib</span><span class="o">.</span><span class="n">sha512</span><span class="p">()</span>
    <span class="k">if</span> <span class="nb">isinstance</span><span class="p">(</span><span class="n">data</span><span class="p">,</span> <span class="nb">str</span><span class="p">):</span>
        <span class="n">data</span> <span class="o">=</span> <span class="nb">bytes</span><span class="p">(</span><span class="n">data</span><span class="p">,</span> <span class="n">encoding</span><span class="o">=</span><span class="s1">&#39;utf8&#39;</span><span class="p">)</span>
    <span class="n">h</span><span class="o">.</span><span class="n">update</span><span class="p">(</span><span class="n">data</span><span class="p">)</span>
    <span class="k">return</span> <span class="n">h</span><span class="o">.</span><span class="n">hexdigest</span><span class="p">()</span>
</pre></div>

    </div>
</div>
</div>

</div>
<div class="cell border-box-sizing code_cell rendered">
<div class="input">
<div class="prompt input_prompt">In&nbsp;[78]:</div>
<div class="inner_cell">
    <div class="input_area">
<div class=" highlight hl-ipython3"><pre><span></span><span class="n">hash_SHA512</span><span class="p">(</span><span class="s2">&quot;The quick brown fox jumps over the lazy dog&quot;</span><span class="p">)</span>
<span class="k">assert</span> <span class="n">hash_SHA512</span><span class="p">(</span><span class="s2">&quot;The quick brown fox jumps over the lazy dog&quot;</span><span class="p">)</span> <span class="o">==</span> <span class="n">true_hash_SHA512</span><span class="p">(</span><span class="s2">&quot;The quick brown fox jumps over the lazy dog&quot;</span><span class="p">)</span>
</pre></div>

    </div>
</div>
</div>

<div class="output_wrapper">
<div class="output">


<div class="output_area">

    <div class="prompt output_prompt">Out[78]:</div>




<div class="output_text output_subarea output_execute_result">
<pre>&#39;07e547d9586f6a73f73fbac0435ed76951218fb7d0c8d788a309d785436bbb642e93a252a954f23912547d1e8a3b5ed6e1bfd7097821233fa0538f3db854fee6&#39;</pre>
</div>

</div>

</div>
</div>

</div>
<div class="cell border-box-sizing text_cell rendered"><div class="prompt input_prompt">
</div><div class="inner_cell">
<div class="text_cell_render border-box-sizing rendered_html">
<p>Even a small change in the message will (with overwhelming probability) result in a mostly different hash, due to the <a href="https://en.wikipedia.org/wiki/Avalanche_effect"><strong>avalanche effect</strong></a>. For example, adding a period at the end of the sentence:</p>

</div>
</div>
</div>
<div class="cell border-box-sizing code_cell rendered">
<div class="input">
<div class="prompt input_prompt">In&nbsp;[79]:</div>
<div class="inner_cell">
    <div class="input_area">
<div class=" highlight hl-ipython3"><pre><span></span><span class="n">hash_SHA512</span><span class="p">(</span><span class="s2">&quot;The quick brown fox jumps over the lazy dog.&quot;</span><span class="p">)</span>
<span class="k">assert</span> <span class="n">hash_SHA512</span><span class="p">(</span><span class="s2">&quot;The quick brown fox jumps over the lazy dog.&quot;</span><span class="p">)</span> <span class="o">==</span> <span class="n">true_hash_SHA512</span><span class="p">(</span><span class="s2">&quot;The quick brown fox jumps over the lazy dog.&quot;</span><span class="p">)</span>
</pre></div>

    </div>
</div>
</div>

<div class="output_wrapper">
<div class="output">


<div class="output_area">

    <div class="prompt output_prompt">Out[79]:</div>




<div class="output_text output_subarea output_execute_result">
<pre>&#39;91ea1245f20d46ae9a037a989f54f1f790f0a47607eeb8a14d12890cea77a1bbc6c7ed9cf205e67b7f2b8fd4c7dfd3a7a8617e45f3c463d481c7e586c39ac1ed&#39;</pre>
</div>

</div>

</div>
</div>

</div>
<div class="cell border-box-sizing text_cell rendered"><div class="prompt input_prompt">
</div><div class="inner_cell">
<div class="text_cell_render border-box-sizing rendered_html">
<p>The hash of the zero-length string is:</p>

</div>
</div>
</div>
<div class="cell border-box-sizing code_cell rendered">
<div class="input">
<div class="prompt input_prompt">In&nbsp;[80]:</div>
<div class="inner_cell">
    <div class="input_area">
<div class=" highlight hl-ipython3"><pre><span></span><span class="n">hash_SHA512</span><span class="p">(</span><span class="s2">&quot;&quot;</span><span class="p">)</span>
<span class="k">assert</span> <span class="n">hash_SHA512</span><span class="p">(</span><span class="s2">&quot;&quot;</span><span class="p">)</span> <span class="o">==</span> <span class="s1">&#39;cf83e1357eefb8bdf1542850d66d8007d620e4050b5715dc83f4a921d36ce9ce47d0d13c5d85f2b0ff8318d2877eec2f63b931bd47417a81a538327af927da3e&#39;</span>
<span class="k">assert</span> <span class="n">hash_SHA512</span><span class="p">(</span><span class="s2">&quot;&quot;</span><span class="p">)</span> <span class="o">==</span> <span class="n">true_hash_SHA512</span><span class="p">(</span><span class="s2">&quot;&quot;</span><span class="p">)</span>
</pre></div>

    </div>
</div>
</div>

<div class="output_wrapper">
<div class="output">


<div class="output_area">

    <div class="prompt output_prompt">Out[80]:</div>




<div class="output_text output_subarea output_execute_result">
<pre>&#39;cf83e1357eefb8bdf1542850d66d8007d620e4050b5715dc83f4a921d36ce9ce47d0d13c5d85f2b0ff8318d2877eec2f63b931bd47417a81a538327af927da3e&#39;</pre>
</div>

</div>

</div>
</div>

</div>
<div class="cell border-box-sizing text_cell rendered"><div class="prompt input_prompt">
</div><div class="inner_cell">
<div class="text_cell_render border-box-sizing rendered_html">
<p>$\implies$ We obtained the same result, OK our function works!</p>

</div>
</div>
</div>
<div class="cell border-box-sizing text_cell rendered"><div class="prompt input_prompt">
</div><div class="inner_cell">
<div class="text_cell_render border-box-sizing rendered_html">
<h3 id="SHA-384">SHA-384<a class="anchor-link" href="#SHA-384">&#182;</a></h3><p>As said on the Wikipedia page:</p>
<blockquote><p>SHA-384 is identical to SHA-512, except that:</p>
<ul>
<li>the initial hash values h0 through h7 are different (taken from the 9th through 16th primes), and</li>
<li>the output is constructed by omitting h6 and h7.</li>
</ul>
</blockquote>

</div>
</div>
</div>
<div class="cell border-box-sizing text_cell rendered"><div class="prompt input_prompt">
</div><div class="inner_cell">
<div class="text_cell_render border-box-sizing rendered_html">
<h4 id="The-SHA384-class">The <code>SHA384</code> class<a class="anchor-link" href="#The-SHA384-class">&#182;</a></h4>
</div>
</div>
</div>
<div class="cell border-box-sizing code_cell rendered">
<div class="input">
<div class="prompt input_prompt">In&nbsp;[81]:</div>
<div class="inner_cell">
    <div class="input_area">
<div class=" highlight hl-ipython3"><pre><span></span><span class="k">class</span> <span class="nc">SHA384</span><span class="p">(</span><span class="n">Hash</span><span class="p">):</span>
    <span class="sd">&quot;&quot;&quot;SHA384 hashing, see https://en.wikipedia.org/wiki/SHA-2#Pseudocode.&quot;&quot;&quot;</span>
    
    <span class="k">def</span> <span class="nf">__init__</span><span class="p">(</span><span class="bp">self</span><span class="p">):</span>
        <span class="bp">self</span><span class="o">.</span><span class="n">name</span>        <span class="o">=</span> <span class="s2">&quot;SHA384&quot;</span>
        <span class="bp">self</span><span class="o">.</span><span class="n">byteorder</span>   <span class="o">=</span> <span class="s1">&#39;big&#39;</span>
        <span class="bp">self</span><span class="o">.</span><span class="n">block_size</span>  <span class="o">=</span> <span class="mi">96</span>
        <span class="bp">self</span><span class="o">.</span><span class="n">digest_size</span> <span class="o">=</span> <span class="mi">48</span>
        <span class="c1"># Note 2: For each round, there is one round constant k[i] and one entry in the message schedule array w[i], 0 ≤ i ≤ 79</span>
        <span class="c1"># Note 3: The compression function uses 8 working variables, a through h</span>
        <span class="c1"># Note 4: Big-endian convention is used when expressing the constants in this pseudocode</span>

        <span class="c1"># Initialize hash values:</span>
        <span class="c1"># (The second 64 bits of the fractional parts of the square roots of the first 9th through 16th primes 23..53)</span>
        <span class="n">h0</span> <span class="o">=</span> <span class="mh">0xcbbb9d5dc1059ed8</span>
        <span class="n">h1</span> <span class="o">=</span> <span class="mh">0x629a292a367cd507</span>
        <span class="n">h2</span> <span class="o">=</span> <span class="mh">0x9159015a3070dd17</span>
        <span class="n">h3</span> <span class="o">=</span> <span class="mh">0x152fecd8f70e5939</span>
        <span class="n">h4</span> <span class="o">=</span> <span class="mh">0x67332667ffc00b31</span>
        <span class="n">h5</span> <span class="o">=</span> <span class="mh">0x8eb44a8768581511</span>
        <span class="n">h6</span> <span class="o">=</span> <span class="mh">0xdb0c2e0d64f98fa7</span>
        <span class="n">h7</span> <span class="o">=</span> <span class="mh">0x47b5481dbefa4fa4</span>
 

        <span class="c1"># Initialize array of round constants:</span>
        <span class="c1"># (first 64 bits of the fractional parts of the cube roots of the first 80 primes 2..409):</span>
        <span class="bp">self</span><span class="o">.</span><span class="n">k</span> <span class="o">=</span> <span class="p">[</span>
            <span class="mh">0x428a2f98d728ae22</span><span class="p">,</span> <span class="mh">0x7137449123ef65cd</span><span class="p">,</span> <span class="mh">0xb5c0fbcfec4d3b2f</span><span class="p">,</span> <span class="mh">0xe9b5dba58189dbbc</span><span class="p">,</span> <span class="mh">0x3956c25bf348b538</span><span class="p">,</span> 
            <span class="mh">0x59f111f1b605d019</span><span class="p">,</span> <span class="mh">0x923f82a4af194f9b</span><span class="p">,</span> <span class="mh">0xab1c5ed5da6d8118</span><span class="p">,</span> <span class="mh">0xd807aa98a3030242</span><span class="p">,</span> <span class="mh">0x12835b0145706fbe</span><span class="p">,</span> 
            <span class="mh">0x243185be4ee4b28c</span><span class="p">,</span> <span class="mh">0x550c7dc3d5ffb4e2</span><span class="p">,</span> <span class="mh">0x72be5d74f27b896f</span><span class="p">,</span> <span class="mh">0x80deb1fe3b1696b1</span><span class="p">,</span> <span class="mh">0x9bdc06a725c71235</span><span class="p">,</span> 
            <span class="mh">0xc19bf174cf692694</span><span class="p">,</span> <span class="mh">0xe49b69c19ef14ad2</span><span class="p">,</span> <span class="mh">0xefbe4786384f25e3</span><span class="p">,</span> <span class="mh">0x0fc19dc68b8cd5b5</span><span class="p">,</span> <span class="mh">0x240ca1cc77ac9c65</span><span class="p">,</span> 
            <span class="mh">0x2de92c6f592b0275</span><span class="p">,</span> <span class="mh">0x4a7484aa6ea6e483</span><span class="p">,</span> <span class="mh">0x5cb0a9dcbd41fbd4</span><span class="p">,</span> <span class="mh">0x76f988da831153b5</span><span class="p">,</span> <span class="mh">0x983e5152ee66dfab</span><span class="p">,</span> 
            <span class="mh">0xa831c66d2db43210</span><span class="p">,</span> <span class="mh">0xb00327c898fb213f</span><span class="p">,</span> <span class="mh">0xbf597fc7beef0ee4</span><span class="p">,</span> <span class="mh">0xc6e00bf33da88fc2</span><span class="p">,</span> <span class="mh">0xd5a79147930aa725</span><span class="p">,</span> 
            <span class="mh">0x06ca6351e003826f</span><span class="p">,</span> <span class="mh">0x142929670a0e6e70</span><span class="p">,</span> <span class="mh">0x27b70a8546d22ffc</span><span class="p">,</span> <span class="mh">0x2e1b21385c26c926</span><span class="p">,</span> <span class="mh">0x4d2c6dfc5ac42aed</span><span class="p">,</span> 
            <span class="mh">0x53380d139d95b3df</span><span class="p">,</span> <span class="mh">0x650a73548baf63de</span><span class="p">,</span> <span class="mh">0x766a0abb3c77b2a8</span><span class="p">,</span> <span class="mh">0x81c2c92e47edaee6</span><span class="p">,</span> <span class="mh">0x92722c851482353b</span><span class="p">,</span> 
            <span class="mh">0xa2bfe8a14cf10364</span><span class="p">,</span> <span class="mh">0xa81a664bbc423001</span><span class="p">,</span> <span class="mh">0xc24b8b70d0f89791</span><span class="p">,</span> <span class="mh">0xc76c51a30654be30</span><span class="p">,</span> <span class="mh">0xd192e819d6ef5218</span><span class="p">,</span> 
            <span class="mh">0xd69906245565a910</span><span class="p">,</span> <span class="mh">0xf40e35855771202a</span><span class="p">,</span> <span class="mh">0x106aa07032bbd1b8</span><span class="p">,</span> <span class="mh">0x19a4c116b8d2d0c8</span><span class="p">,</span> <span class="mh">0x1e376c085141ab53</span><span class="p">,</span> 
            <span class="mh">0x2748774cdf8eeb99</span><span class="p">,</span> <span class="mh">0x34b0bcb5e19b48a8</span><span class="p">,</span> <span class="mh">0x391c0cb3c5c95a63</span><span class="p">,</span> <span class="mh">0x4ed8aa4ae3418acb</span><span class="p">,</span> <span class="mh">0x5b9cca4f7763e373</span><span class="p">,</span> 
            <span class="mh">0x682e6ff3d6b2b8a3</span><span class="p">,</span> <span class="mh">0x748f82ee5defb2fc</span><span class="p">,</span> <span class="mh">0x78a5636f43172f60</span><span class="p">,</span> <span class="mh">0x84c87814a1f0ab72</span><span class="p">,</span> <span class="mh">0x8cc702081a6439ec</span><span class="p">,</span> 
            <span class="mh">0x90befffa23631e28</span><span class="p">,</span> <span class="mh">0xa4506cebde82bde9</span><span class="p">,</span> <span class="mh">0xbef9a3f7b2c67915</span><span class="p">,</span> <span class="mh">0xc67178f2e372532b</span><span class="p">,</span> <span class="mh">0xca273eceea26619c</span><span class="p">,</span> 
            <span class="mh">0xd186b8c721c0c207</span><span class="p">,</span> <span class="mh">0xeada7dd6cde0eb1e</span><span class="p">,</span> <span class="mh">0xf57d4f7fee6ed178</span><span class="p">,</span> <span class="mh">0x06f067aa72176fba</span><span class="p">,</span> <span class="mh">0x0a637dc5a2c898a6</span><span class="p">,</span> 
            <span class="mh">0x113f9804bef90dae</span><span class="p">,</span> <span class="mh">0x1b710b35131c471b</span><span class="p">,</span> <span class="mh">0x28db77f523047d84</span><span class="p">,</span> <span class="mh">0x32caab7b40c72493</span><span class="p">,</span> <span class="mh">0x3c9ebe0a15c9bebc</span><span class="p">,</span> 
            <span class="mh">0x431d67c49c100d4c</span><span class="p">,</span> <span class="mh">0x4cc5d4becb3e42b6</span><span class="p">,</span> <span class="mh">0x597f299cfc657e2a</span><span class="p">,</span> <span class="mh">0x5fcb6fab3ad6faec</span><span class="p">,</span> <span class="mh">0x6c44198c4a475817</span>
        <span class="p">]</span>

        <span class="c1"># Store them</span>
        <span class="bp">self</span><span class="o">.</span><span class="n">hash_pieces</span> <span class="o">=</span> <span class="p">[</span><span class="n">h0</span><span class="p">,</span> <span class="n">h1</span><span class="p">,</span> <span class="n">h2</span><span class="p">,</span> <span class="n">h3</span><span class="p">,</span> <span class="n">h4</span><span class="p">,</span> <span class="n">h5</span><span class="p">,</span> <span class="n">h6</span><span class="p">,</span> <span class="n">h7</span><span class="p">]</span>
    
    <span class="k">def</span> <span class="nf">update</span><span class="p">(</span><span class="bp">self</span><span class="p">,</span> <span class="n">arg</span><span class="p">):</span>
        <span class="n">h0</span><span class="p">,</span> <span class="n">h1</span><span class="p">,</span> <span class="n">h2</span><span class="p">,</span> <span class="n">h3</span><span class="p">,</span> <span class="n">h4</span><span class="p">,</span> <span class="n">h5</span><span class="p">,</span> <span class="n">h6</span><span class="p">,</span> <span class="n">h7</span> <span class="o">=</span> <span class="bp">self</span><span class="o">.</span><span class="n">hash_pieces</span>
        <span class="c1"># 1. Pre-processing, exactly like MD5</span>
        <span class="n">data</span> <span class="o">=</span> <span class="nb">bytearray</span><span class="p">(</span><span class="n">arg</span><span class="p">)</span>
        <span class="n">orig_len_in_bits</span> <span class="o">=</span> <span class="p">(</span><span class="mi">8</span> <span class="o">*</span> <span class="nb">len</span><span class="p">(</span><span class="n">data</span><span class="p">))</span> <span class="o">&amp;</span> <span class="mh">0xFFFFFFFFFFFFFFFFFFFFFFFFFFFFFFFF</span>
        <span class="c1"># 1.a. Add a single &#39;1&#39; bit at the end of the input bits</span>
        <span class="n">data</span><span class="o">.</span><span class="n">append</span><span class="p">(</span><span class="mh">0x80</span><span class="p">)</span>
        <span class="c1"># 1.b. Padding with zeros as long as the input bits length ≡ 896 (mod 1024)</span>
        <span class="k">while</span> <span class="nb">len</span><span class="p">(</span><span class="n">data</span><span class="p">)</span> <span class="o">%</span> <span class="mi">128</span> <span class="o">!=</span> <span class="mi">112</span><span class="p">:</span>
            <span class="n">data</span><span class="o">.</span><span class="n">append</span><span class="p">(</span><span class="mi">0</span><span class="p">)</span>
        <span class="c1"># 1.c. append original length in bits mod (2 pow 128) to message</span>
        <span class="n">data</span> <span class="o">+=</span> <span class="n">orig_len_in_bits</span><span class="o">.</span><span class="n">to_bytes</span><span class="p">(</span><span class="mi">16</span><span class="p">,</span> <span class="n">byteorder</span><span class="o">=</span><span class="s1">&#39;big&#39;</span><span class="p">)</span>
        <span class="k">assert</span> <span class="nb">len</span><span class="p">(</span><span class="n">data</span><span class="p">)</span> <span class="o">%</span> <span class="mi">128</span> <span class="o">==</span> <span class="mi">0</span><span class="p">,</span> <span class="s2">&quot;Error in padding&quot;</span>
        <span class="c1"># 2. Computations</span>
        <span class="c1"># Process the message in successive 1024-bit = 128-bytes chunks:</span>
        <span class="k">for</span> <span class="n">offset</span> <span class="ow">in</span> <span class="nb">range</span><span class="p">(</span><span class="mi">0</span><span class="p">,</span> <span class="nb">len</span><span class="p">(</span><span class="n">data</span><span class="p">),</span> <span class="mi">128</span><span class="p">):</span>
            <span class="c1"># 2.a. 1024-bits = 128-bytes chunks</span>
            <span class="n">chunks</span> <span class="o">=</span> <span class="n">data</span><span class="p">[</span><span class="n">offset</span> <span class="p">:</span> <span class="n">offset</span> <span class="o">+</span> <span class="mi">128</span><span class="p">]</span>
            <span class="n">w</span> <span class="o">=</span> <span class="p">[</span><span class="mi">0</span> <span class="k">for</span> <span class="n">i</span> <span class="ow">in</span> <span class="nb">range</span><span class="p">(</span><span class="mi">80</span><span class="p">)]</span>
            <span class="c1"># 2.b. Break chunk into sixteen 128-bit = 8-bytes words w[i], 0 ≤ i ≤ 15</span>
            <span class="k">for</span> <span class="n">i</span> <span class="ow">in</span> <span class="nb">range</span><span class="p">(</span><span class="mi">16</span><span class="p">):</span>
                <span class="n">w</span><span class="p">[</span><span class="n">i</span><span class="p">]</span> <span class="o">=</span> <span class="nb">int</span><span class="o">.</span><span class="n">from_bytes</span><span class="p">(</span><span class="n">chunks</span><span class="p">[</span><span class="mi">8</span><span class="o">*</span><span class="n">i</span> <span class="p">:</span> <span class="mi">8</span><span class="o">*</span><span class="n">i</span> <span class="o">+</span> <span class="mi">8</span><span class="p">],</span> <span class="n">byteorder</span><span class="o">=</span><span class="s1">&#39;big&#39;</span><span class="p">)</span>
            <span class="c1"># 2.c.  Extend the first 16 words into the remaining 64</span>
            <span class="c1">#       words w[16..79] of the message schedule array:</span>
            <span class="k">for</span> <span class="n">i</span> <span class="ow">in</span> <span class="nb">range</span><span class="p">(</span><span class="mi">16</span><span class="p">,</span> <span class="mi">80</span><span class="p">):</span>
                <span class="n">s0</span> <span class="o">=</span> <span class="p">(</span><span class="n">rightrotate_64</span><span class="p">(</span><span class="n">w</span><span class="p">[</span><span class="n">i</span><span class="o">-</span><span class="mi">15</span><span class="p">],</span> <span class="mi">1</span><span class="p">)</span> <span class="o">^</span> <span class="n">rightrotate_64</span><span class="p">(</span><span class="n">w</span><span class="p">[</span><span class="n">i</span><span class="o">-</span><span class="mi">15</span><span class="p">],</span> <span class="mi">8</span><span class="p">)</span> <span class="o">^</span> <span class="n">rightshift</span><span class="p">(</span><span class="n">w</span><span class="p">[</span><span class="n">i</span><span class="o">-</span><span class="mi">15</span><span class="p">],</span> <span class="mi">7</span><span class="p">))</span> <span class="o">&amp;</span> <span class="mh">0xFFFFFFFFFFFFFFFF</span>
                <span class="n">s1</span> <span class="o">=</span> <span class="p">(</span><span class="n">rightrotate_64</span><span class="p">(</span><span class="n">w</span><span class="p">[</span><span class="n">i</span><span class="o">-</span><span class="mi">2</span><span class="p">],</span> <span class="mi">19</span><span class="p">)</span> <span class="o">^</span> <span class="n">rightrotate_64</span><span class="p">(</span><span class="n">w</span><span class="p">[</span><span class="n">i</span><span class="o">-</span><span class="mi">2</span><span class="p">],</span> <span class="mi">61</span><span class="p">)</span> <span class="o">^</span> <span class="n">rightshift</span><span class="p">(</span><span class="n">w</span><span class="p">[</span><span class="n">i</span><span class="o">-</span><span class="mi">2</span><span class="p">],</span> <span class="mi">6</span><span class="p">))</span> <span class="o">&amp;</span> <span class="mh">0xFFFFFFFFFFFFFFFF</span>
                <span class="n">w</span><span class="p">[</span><span class="n">i</span><span class="p">]</span> <span class="o">=</span> <span class="p">(</span><span class="n">w</span><span class="p">[</span><span class="n">i</span><span class="o">-</span><span class="mi">16</span><span class="p">]</span> <span class="o">+</span> <span class="n">s0</span> <span class="o">+</span> <span class="n">w</span><span class="p">[</span><span class="n">i</span><span class="o">-</span><span class="mi">7</span><span class="p">]</span> <span class="o">+</span> <span class="n">s1</span><span class="p">)</span> <span class="o">&amp;</span> <span class="mh">0xFFFFFFFFFFFFFFFF</span>
            <span class="c1"># 2.d. Initialize hash value for this chunk</span>
            <span class="n">a</span><span class="p">,</span> <span class="n">b</span><span class="p">,</span> <span class="n">c</span><span class="p">,</span> <span class="n">d</span><span class="p">,</span> <span class="n">e</span><span class="p">,</span> <span class="n">f</span><span class="p">,</span> <span class="n">g</span><span class="p">,</span> <span class="n">h</span> <span class="o">=</span> <span class="n">h0</span><span class="p">,</span> <span class="n">h1</span><span class="p">,</span> <span class="n">h2</span><span class="p">,</span> <span class="n">h3</span><span class="p">,</span> <span class="n">h4</span><span class="p">,</span> <span class="n">h5</span><span class="p">,</span> <span class="n">h6</span><span class="p">,</span> <span class="n">h7</span>
            <span class="c1"># 2.e. Main loop, cf. https://tools.ietf.org/html/rfc6234</span>
            <span class="k">for</span> <span class="n">i</span> <span class="ow">in</span> <span class="nb">range</span><span class="p">(</span><span class="mi">80</span><span class="p">):</span>
                <span class="n">S1</span> <span class="o">=</span> <span class="p">(</span><span class="n">rightrotate_64</span><span class="p">(</span><span class="n">e</span><span class="p">,</span> <span class="mi">14</span><span class="p">)</span> <span class="o">^</span> <span class="n">rightrotate_64</span><span class="p">(</span><span class="n">e</span><span class="p">,</span> <span class="mi">18</span><span class="p">)</span> <span class="o">^</span> <span class="n">rightrotate_64</span><span class="p">(</span><span class="n">e</span><span class="p">,</span> <span class="mi">41</span><span class="p">))</span> <span class="o">&amp;</span> <span class="mh">0xFFFFFFFFFFFFFFFF</span>
                <span class="n">ch</span> <span class="o">=</span> <span class="p">((</span><span class="n">e</span> <span class="o">&amp;</span> <span class="n">f</span><span class="p">)</span> <span class="o">^</span> <span class="p">((</span><span class="o">~</span><span class="n">e</span><span class="p">)</span> <span class="o">&amp;</span> <span class="n">g</span><span class="p">))</span> <span class="o">&amp;</span> <span class="mh">0xFFFFFFFFFFFFFFFF</span>
                <span class="n">temp1</span> <span class="o">=</span> <span class="p">(</span><span class="n">h</span> <span class="o">+</span> <span class="n">S1</span> <span class="o">+</span> <span class="n">ch</span> <span class="o">+</span> <span class="bp">self</span><span class="o">.</span><span class="n">k</span><span class="p">[</span><span class="n">i</span><span class="p">]</span> <span class="o">+</span> <span class="n">w</span><span class="p">[</span><span class="n">i</span><span class="p">])</span> <span class="o">&amp;</span> <span class="mh">0xFFFFFFFFFFFFFFFF</span>
                <span class="n">S0</span> <span class="o">=</span> <span class="p">(</span><span class="n">rightrotate_64</span><span class="p">(</span><span class="n">a</span><span class="p">,</span> <span class="mi">28</span><span class="p">)</span> <span class="o">^</span> <span class="n">rightrotate_64</span><span class="p">(</span><span class="n">a</span><span class="p">,</span> <span class="mi">34</span><span class="p">)</span> <span class="o">^</span> <span class="n">rightrotate_64</span><span class="p">(</span><span class="n">a</span><span class="p">,</span> <span class="mi">39</span><span class="p">))</span> <span class="o">&amp;</span> <span class="mh">0xFFFFFFFFFFFFFFFF</span>
                <span class="n">maj</span> <span class="o">=</span> <span class="p">((</span><span class="n">a</span> <span class="o">&amp;</span> <span class="n">b</span><span class="p">)</span> <span class="o">^</span> <span class="p">(</span><span class="n">a</span> <span class="o">&amp;</span> <span class="n">c</span><span class="p">)</span> <span class="o">^</span> <span class="p">(</span><span class="n">b</span> <span class="o">&amp;</span> <span class="n">c</span><span class="p">))</span> <span class="o">&amp;</span> <span class="mh">0xFFFFFFFFFFFFFFFF</span>
                <span class="n">temp2</span> <span class="o">=</span> <span class="p">(</span><span class="n">S0</span> <span class="o">+</span> <span class="n">maj</span><span class="p">)</span> <span class="o">&amp;</span> <span class="mh">0xFFFFFFFFFFFFFFFF</span>

                <span class="n">new_a</span> <span class="o">=</span> <span class="p">(</span><span class="n">temp1</span> <span class="o">+</span> <span class="n">temp2</span><span class="p">)</span> <span class="o">&amp;</span> <span class="mh">0xFFFFFFFFFFFFFFFF</span>
                <span class="n">new_e</span> <span class="o">=</span> <span class="p">(</span><span class="n">d</span> <span class="o">+</span> <span class="n">temp1</span><span class="p">)</span> <span class="o">&amp;</span> <span class="mh">0xFFFFFFFFFFFFFFFF</span>
                <span class="c1"># Rotate the 8 variables</span>
                <span class="n">a</span><span class="p">,</span> <span class="n">b</span><span class="p">,</span> <span class="n">c</span><span class="p">,</span> <span class="n">d</span><span class="p">,</span> <span class="n">e</span><span class="p">,</span> <span class="n">f</span><span class="p">,</span> <span class="n">g</span><span class="p">,</span> <span class="n">h</span> <span class="o">=</span> <span class="n">new_a</span><span class="p">,</span> <span class="n">a</span><span class="p">,</span> <span class="n">b</span><span class="p">,</span> <span class="n">c</span><span class="p">,</span> <span class="n">new_e</span><span class="p">,</span> <span class="n">e</span><span class="p">,</span> <span class="n">f</span><span class="p">,</span> <span class="n">g</span>

            <span class="c1"># Add this chunk&#39;s hash to result so far:</span>
            <span class="n">h0</span> <span class="o">=</span> <span class="p">(</span><span class="n">h0</span> <span class="o">+</span> <span class="n">a</span><span class="p">)</span> <span class="o">&amp;</span> <span class="mh">0xFFFFFFFFFFFFFFFF</span>
            <span class="n">h1</span> <span class="o">=</span> <span class="p">(</span><span class="n">h1</span> <span class="o">+</span> <span class="n">b</span><span class="p">)</span> <span class="o">&amp;</span> <span class="mh">0xFFFFFFFFFFFFFFFF</span>
            <span class="n">h2</span> <span class="o">=</span> <span class="p">(</span><span class="n">h2</span> <span class="o">+</span> <span class="n">c</span><span class="p">)</span> <span class="o">&amp;</span> <span class="mh">0xFFFFFFFFFFFFFFFF</span>
            <span class="n">h3</span> <span class="o">=</span> <span class="p">(</span><span class="n">h3</span> <span class="o">+</span> <span class="n">d</span><span class="p">)</span> <span class="o">&amp;</span> <span class="mh">0xFFFFFFFFFFFFFFFF</span>
            <span class="n">h4</span> <span class="o">=</span> <span class="p">(</span><span class="n">h4</span> <span class="o">+</span> <span class="n">e</span><span class="p">)</span> <span class="o">&amp;</span> <span class="mh">0xFFFFFFFFFFFFFFFF</span>
            <span class="n">h5</span> <span class="o">=</span> <span class="p">(</span><span class="n">h5</span> <span class="o">+</span> <span class="n">f</span><span class="p">)</span> <span class="o">&amp;</span> <span class="mh">0xFFFFFFFFFFFFFFFF</span>
            <span class="n">h6</span> <span class="o">=</span> <span class="p">(</span><span class="n">h6</span> <span class="o">+</span> <span class="n">g</span><span class="p">)</span> <span class="o">&amp;</span> <span class="mh">0xFFFFFFFFFFFFFFFF</span>
            <span class="n">h7</span> <span class="o">=</span> <span class="p">(</span><span class="n">h7</span> <span class="o">+</span> <span class="n">h</span><span class="p">)</span> <span class="o">&amp;</span> <span class="mh">0xFFFFFFFFFFFFFFFF</span>
        <span class="c1"># 3. Conclusion</span>
        <span class="bp">self</span><span class="o">.</span><span class="n">hash_pieces</span> <span class="o">=</span> <span class="p">[</span><span class="n">h0</span><span class="p">,</span> <span class="n">h1</span><span class="p">,</span> <span class="n">h2</span><span class="p">,</span> <span class="n">h3</span><span class="p">,</span> <span class="n">h4</span><span class="p">,</span> <span class="n">h5</span><span class="p">,</span> <span class="n">h6</span><span class="p">,</span> <span class="n">h7</span><span class="p">]</span>

    <span class="k">def</span> <span class="nf">digest</span><span class="p">(</span><span class="bp">self</span><span class="p">):</span>
        <span class="c1"># h0 append h1 append h2 append h3 append h4 append h5</span>
        <span class="n">hash_pieces_without_67</span> <span class="o">=</span> <span class="bp">self</span><span class="o">.</span><span class="n">hash_pieces</span><span class="p">[:</span><span class="o">-</span><span class="mi">2</span><span class="p">]</span>
        <span class="k">return</span> <span class="nb">sum</span><span class="p">(</span><span class="n">leftshift</span><span class="p">(</span><span class="n">x</span><span class="p">,</span> <span class="mi">64</span> <span class="o">*</span> <span class="n">i</span><span class="p">)</span> <span class="k">for</span> <span class="n">i</span><span class="p">,</span> <span class="n">x</span> <span class="ow">in</span> <span class="nb">enumerate</span><span class="p">(</span><span class="n">hash_pieces_without_67</span><span class="p">[::</span><span class="o">-</span><span class="mi">1</span><span class="p">]))</span>
</pre></div>

    </div>
</div>
</div>

</div>
<div class="cell border-box-sizing text_cell rendered"><div class="prompt input_prompt">
</div><div class="inner_cell">
<div class="text_cell_render border-box-sizing rendered_html">
<p>We can also write a function to directly compute the hex digest from some bytes data.</p>

</div>
</div>
</div>
<div class="cell border-box-sizing code_cell rendered">
<div class="input">
<div class="prompt input_prompt">In&nbsp;[82]:</div>
<div class="inner_cell">
    <div class="input_area">
<div class=" highlight hl-ipython3"><pre><span></span><span class="k">def</span> <span class="nf">hash_SHA384</span><span class="p">(</span><span class="n">data</span><span class="p">):</span>
    <span class="sd">&quot;&quot;&quot; Shortcut function to directly receive the hex digest from SHA384(data).&quot;&quot;&quot;</span>
    <span class="n">h</span> <span class="o">=</span> <span class="n">SHA384</span><span class="p">()</span>
    <span class="k">if</span> <span class="nb">isinstance</span><span class="p">(</span><span class="n">data</span><span class="p">,</span> <span class="nb">str</span><span class="p">):</span>
        <span class="n">data</span> <span class="o">=</span> <span class="nb">bytes</span><span class="p">(</span><span class="n">data</span><span class="p">,</span> <span class="n">encoding</span><span class="o">=</span><span class="s1">&#39;utf8&#39;</span><span class="p">)</span>
    <span class="n">h</span><span class="o">.</span><span class="n">update</span><span class="p">(</span><span class="n">data</span><span class="p">)</span>
    <span class="k">return</span> <span class="n">h</span><span class="o">.</span><span class="n">hexdigest</span><span class="p">()</span>
</pre></div>

    </div>
</div>
</div>

</div>
<div class="cell border-box-sizing text_cell rendered"><div class="prompt input_prompt">
</div><div class="inner_cell">
<div class="text_cell_render border-box-sizing rendered_html">
<h4 id="Checks-on-SHA-384">Checks on SHA-384<a class="anchor-link" href="#Checks-on-SHA-384">&#182;</a></h4><p>Let try the example from <a href="https://en.wikipedia.org/wiki/SHA-2#Test_vectors">SHA-2 Wikipedia page</a> :</p>

</div>
</div>
</div>
<div class="cell border-box-sizing code_cell rendered">
<div class="input">
<div class="prompt input_prompt">In&nbsp;[83]:</div>
<div class="inner_cell">
    <div class="input_area">
<div class=" highlight hl-ipython3"><pre><span></span><span class="k">def</span> <span class="nf">true_hash_SHA384</span><span class="p">(</span><span class="n">data</span><span class="p">):</span>
    <span class="n">h</span> <span class="o">=</span> <span class="n">hashlib</span><span class="o">.</span><span class="n">sha384</span><span class="p">()</span>
    <span class="k">if</span> <span class="nb">isinstance</span><span class="p">(</span><span class="n">data</span><span class="p">,</span> <span class="nb">str</span><span class="p">):</span>
        <span class="n">data</span> <span class="o">=</span> <span class="nb">bytes</span><span class="p">(</span><span class="n">data</span><span class="p">,</span> <span class="n">encoding</span><span class="o">=</span><span class="s1">&#39;utf8&#39;</span><span class="p">)</span>
    <span class="n">h</span><span class="o">.</span><span class="n">update</span><span class="p">(</span><span class="n">data</span><span class="p">)</span>
    <span class="k">return</span> <span class="n">h</span><span class="o">.</span><span class="n">hexdigest</span><span class="p">()</span>
</pre></div>

    </div>
</div>
</div>

</div>
<div class="cell border-box-sizing code_cell rendered">
<div class="input">
<div class="prompt input_prompt">In&nbsp;[84]:</div>
<div class="inner_cell">
    <div class="input_area">
<div class=" highlight hl-ipython3"><pre><span></span><span class="n">hash_SHA384</span><span class="p">(</span><span class="s2">&quot;The quick brown fox jumps over the lazy dog&quot;</span><span class="p">)</span>
<span class="k">assert</span> <span class="n">hash_SHA384</span><span class="p">(</span><span class="s2">&quot;The quick brown fox jumps over the lazy dog&quot;</span><span class="p">)</span> <span class="o">==</span> <span class="n">true_hash_SHA384</span><span class="p">(</span><span class="s2">&quot;The quick brown fox jumps over the lazy dog&quot;</span><span class="p">)</span>
</pre></div>

    </div>
</div>
</div>

<div class="output_wrapper">
<div class="output">


<div class="output_area">

    <div class="prompt output_prompt">Out[84]:</div>




<div class="output_text output_subarea output_execute_result">
<pre>&#39;ca737f1014a48f4c0b6dd43cb177b0afd9e5169367544c494011e3317dbf9a509cb1e5dc1e85a941bbee3d7f2afbc9b1&#39;</pre>
</div>

</div>

</div>
</div>

</div>
<div class="cell border-box-sizing text_cell rendered"><div class="prompt input_prompt">
</div><div class="inner_cell">
<div class="text_cell_render border-box-sizing rendered_html">
<p>Even a small change in the message will (with overwhelming probability) result in a mostly different hash, due to the <a href="https://en.wikipedia.org/wiki/Avalanche_effect"><strong>avalanche effect</strong></a>. For example, adding a period at the end of the sentence:</p>

</div>
</div>
</div>
<div class="cell border-box-sizing code_cell rendered">
<div class="input">
<div class="prompt input_prompt">In&nbsp;[85]:</div>
<div class="inner_cell">
    <div class="input_area">
<div class=" highlight hl-ipython3"><pre><span></span><span class="n">hash_SHA384</span><span class="p">(</span><span class="s2">&quot;The quick brown fox jumps over the lazy dog.&quot;</span><span class="p">)</span>
<span class="k">assert</span> <span class="n">hash_SHA384</span><span class="p">(</span><span class="s2">&quot;The quick brown fox jumps over the lazy dog.&quot;</span><span class="p">)</span> <span class="o">==</span> <span class="n">true_hash_SHA384</span><span class="p">(</span><span class="s2">&quot;The quick brown fox jumps over the lazy dog.&quot;</span><span class="p">)</span>
</pre></div>

    </div>
</div>
</div>

<div class="output_wrapper">
<div class="output">


<div class="output_area">

    <div class="prompt output_prompt">Out[85]:</div>




<div class="output_text output_subarea output_execute_result">
<pre>&#39;ed892481d8272ca6df370bf706e4d7bc1b5739fa2177aae6c50e946678718fc67a7af2819a021c2fc34e91bdb63409d7&#39;</pre>
</div>

</div>

</div>
</div>

</div>
<div class="cell border-box-sizing text_cell rendered"><div class="prompt input_prompt">
</div><div class="inner_cell">
<div class="text_cell_render border-box-sizing rendered_html">
<p>The hash of the zero-length string is:</p>

</div>
</div>
</div>
<div class="cell border-box-sizing code_cell rendered">
<div class="input">
<div class="prompt input_prompt">In&nbsp;[86]:</div>
<div class="inner_cell">
    <div class="input_area">
<div class=" highlight hl-ipython3"><pre><span></span><span class="n">hash_SHA384</span><span class="p">(</span><span class="s2">&quot;&quot;</span><span class="p">)</span>
<span class="k">assert</span> <span class="n">hash_SHA384</span><span class="p">(</span><span class="s2">&quot;&quot;</span><span class="p">)</span> <span class="o">==</span> <span class="s1">&#39;38b060a751ac96384cd9327eb1b1e36a21fdb71114be07434c0cc7bf63f6e1da274edebfe76f65fbd51ad2f14898b95b&#39;</span>
<span class="k">assert</span> <span class="n">hash_SHA384</span><span class="p">(</span><span class="s2">&quot;&quot;</span><span class="p">)</span> <span class="o">==</span> <span class="n">true_hash_SHA384</span><span class="p">(</span><span class="s2">&quot;&quot;</span><span class="p">)</span>
</pre></div>

    </div>
</div>
</div>

<div class="output_wrapper">
<div class="output">


<div class="output_area">

    <div class="prompt output_prompt">Out[86]:</div>




<div class="output_text output_subarea output_execute_result">
<pre>&#39;38b060a751ac96384cd9327eb1b1e36a21fdb71114be07434c0cc7bf63f6e1da274edebfe76f65fbd51ad2f14898b95b&#39;</pre>
</div>

</div>

</div>
</div>

</div>
<div class="cell border-box-sizing text_cell rendered"><div class="prompt input_prompt">
</div><div class="inner_cell">
<div class="text_cell_render border-box-sizing rendered_html">
<p>$\implies$ We obtained the same result, OK our function works!</p>

</div>
</div>
</div>
<div class="cell border-box-sizing text_cell rendered"><div class="prompt input_prompt">
</div><div class="inner_cell">
<div class="text_cell_render border-box-sizing rendered_html">
<h3 id="More-comparison">More comparison<a class="anchor-link" href="#More-comparison">&#182;</a></h3>
</div>
</div>
</div>
<div class="cell border-box-sizing code_cell rendered">
<div class="input">
<div class="prompt input_prompt">In&nbsp;[87]:</div>
<div class="inner_cell">
    <div class="input_area">
<div class=" highlight hl-ipython3"><pre><span></span><span class="k">def</span> <span class="nf">test_SHA224</span><span class="p">():</span>
    <span class="n">x</span> <span class="o">=</span> <span class="n">random_string</span><span class="p">()</span>
    <span class="k">return</span> <span class="n">hash_SHA224</span><span class="p">(</span><span class="n">x</span><span class="p">)</span> <span class="o">==</span> <span class="n">true_hash_SHA224</span><span class="p">(</span><span class="n">x</span><span class="p">)</span>

<span class="o">%</span><span class="k">timeit</span> test_SHA224()
</pre></div>

    </div>
</div>
</div>

<div class="output_wrapper">
<div class="output">


<div class="output_area">

    <div class="prompt"></div>


<div class="output_subarea output_stream output_stdout output_text">
<pre>63.2 ms ± 3.52 ms per loop (mean ± std. dev. of 7 runs, 10 loops each)
</pre>
</div>
</div>

</div>
</div>

</div>
<div class="cell border-box-sizing code_cell rendered">
<div class="input">
<div class="prompt input_prompt">In&nbsp;[88]:</div>
<div class="inner_cell">
    <div class="input_area">
<div class=" highlight hl-ipython3"><pre><span></span><span class="k">def</span> <span class="nf">test_SHA512</span><span class="p">():</span>
    <span class="n">x</span> <span class="o">=</span> <span class="n">random_string</span><span class="p">()</span>
    <span class="k">return</span> <span class="n">hash_SHA512</span><span class="p">(</span><span class="n">x</span><span class="p">)</span> <span class="o">==</span> <span class="n">true_hash_SHA512</span><span class="p">(</span><span class="n">x</span><span class="p">)</span>

<span class="o">%</span><span class="k">timeit</span> test_SHA512()
</pre></div>

    </div>
</div>
</div>

<div class="output_wrapper">
<div class="output">


<div class="output_area">

    <div class="prompt"></div>


<div class="output_subarea output_stream output_stdout output_text">
<pre>42.7 ms ± 465 µs per loop (mean ± std. dev. of 7 runs, 10 loops each)
</pre>
</div>
</div>

</div>
</div>

</div>
<div class="cell border-box-sizing code_cell rendered">
<div class="input">
<div class="prompt input_prompt">In&nbsp;[89]:</div>
<div class="inner_cell">
    <div class="input_area">
<div class=" highlight hl-ipython3"><pre><span></span><span class="k">def</span> <span class="nf">test_SHA384</span><span class="p">():</span>
    <span class="n">x</span> <span class="o">=</span> <span class="n">random_string</span><span class="p">()</span>
    <span class="k">return</span> <span class="n">hash_SHA384</span><span class="p">(</span><span class="n">x</span><span class="p">)</span> <span class="o">==</span> <span class="n">true_hash_SHA384</span><span class="p">(</span><span class="n">x</span><span class="p">)</span>

<span class="o">%</span><span class="k">timeit</span> test_SHA384()
</pre></div>

    </div>
</div>
</div>

<div class="output_wrapper">
<div class="output">


<div class="output_area">

    <div class="prompt"></div>


<div class="output_subarea output_stream output_stdout output_text">
<pre>42.8 ms ± 474 µs per loop (mean ± std. dev. of 7 runs, 10 loops each)
</pre>
</div>
</div>

</div>
</div>

</div>
<div class="cell border-box-sizing text_cell rendered"><div class="prompt input_prompt">
</div><div class="inner_cell">
<div class="text_cell_render border-box-sizing rendered_html">
<p><code>SHA512</code> and <code>SHA384</code> are slower than <code>SHA256</code> obviously, but it's weird that <code>SHA224</code> is slower than the 64-bits versions...</p>

</div>
</div>
</div>
<div class="cell border-box-sizing text_cell rendered"><div class="prompt input_prompt">
</div><div class="inner_cell">
<div class="text_cell_render border-box-sizing rendered_html">
<hr>
<h2 id="Conclusion">Conclusion<a class="anchor-link" href="#Conclusion">&#182;</a></h2>
</div>
</div>
</div>
<div class="cell border-box-sizing text_cell rendered"><div class="prompt input_prompt">
</div><div class="inner_cell">
<div class="text_cell_render border-box-sizing rendered_html">
<p>Well, it was fun and interesting to implement these hashing functions, manually.
Using <a href="https://www.Python.org">Python</a> made it easy!</p>
<blockquote><p>Note that a Python 2 library implementing manually all these hashing functions already exist: <a href="https://github.com/thomdixon/pysha2"><code>pysha2</code></a>, by <a href="https://github.com/thomdixon">@thomdixon</a>.
(I discovered it <em>after</em> writing this notebook!)</p>
</blockquote>
<p><a href="https://www.jupyter.org/"><img src="https://img.shields.io/badge/Made%20for-Jupyter%20notebook-1f425f.svg" alt="made-with-jupyter"></a>
<a href="https://github.com/Naereen/notebooks/blob/master/LICENSE.txt"><img src="https://img.shields.io/github/license/Naereen/notebooks.svg" alt="GitHub license"></a>
<a href="https://www.python.org/"><img src="http://ForTheBadge.com/images/badges/made-with-python.svg" alt="forthebadge made-with-python"></a> 
<a href="https://GitHub.com/Naereen/"><img src="http://ForTheBadge.com/images/badges/built-with-science.svg" alt="ForTheBadge built-with-science"></a>
<a href="http://ForTheBadge.com"><img src="http://ForTheBadge.com/images/badges/powered-by-electricity.svg" alt="ForTheBadge powered-by-electricity"></a></p>

</div>
</div>
</div>
<div class="cell border-box-sizing text_cell rendered"><div class="prompt input_prompt">
</div><div class="inner_cell">
<div class="text_cell_render border-box-sizing rendered_html">
<h3 id="Bonus">Bonus<a class="anchor-link" href="#Bonus">&#182;</a></h3><p>"SHA" is pronouced like the French word "chat", which means <em>cat</em>.</p>
<p><img src="https://media.giphy.com/media/JIX9t2j0ZTN9S/giphy.gif" alt="a cat playing on a computer"></p>

</div>
</div>
</div>
<div class="cell border-box-sizing text_cell rendered"><div class="prompt input_prompt">
</div><div class="inner_cell">
<div class="text_cell_render border-box-sizing rendered_html">
<blockquote><p>See <a href="https://GitHub.com/Naereen/notebooks/">my GitHub <code>notebooks</code> project</a> for others notebooks.</p>
</blockquote>

</div>
</div>
</div>
 


    </div>
  </div>

  </div>


  
    <footer class="footer hidden-print">
      <div class="container">
        <div class="col-md-4">
          <p>
            This website does not host notebooks, it only renders notebooks
            available on other websites.
          </p>
        </div>

        <div class="col-md-4">
          <p>
            Delivered by <a href="https://www.fastly.com/">Fastly</a>,
            Rendered by <a href="https://developer.rackspace.com/?nbviewer=awesome">Rackspace</a>
          </p>
          <p>
            nbviewer GitHub <a href="https://github.com/jupyter/nbviewer">repository</a>.
          </p>
        </div>

        <div class="col-md-4">
          
  
            
              <p>
                nbviewer version:
                <a href="https://github.com/jupyter/nbviewer/commit/8a8fd298b446096dddc874da57e99dd22a2d8d97">
                  8a8fd29
                </a>
              </p>
            
          
  
  <p>
    nbconvert version: <a href="https://github.com/jupyter/nbconvert/releases/tag/5.6.1">
      5.6.1
    </a>
  </p>
  

          
  
  
  <p>
    Rendered
    <span class='date' data-date='Mon, 27 Jan 2020 13:28:18 UTC' title='Mon, 27 Jan 2020 13:28:18 UTC'>(Mon, 27 Jan 2020 13:28:18 UTC)</span>
  </p>
  

        </div>
      </div>
    </footer>
  

  <script src="/static/components/bootstrap/js/bootstrap.min.js?v=5869c96cc8f19086aee625d670d741f9"></script>
  <script src="/static/components/headroom.js/dist/headroom.min.js?v=b0a311ea668f8e768ea375f4a7abb81c"></script>
  <script src="/static/components/headroom.js/dist/jQuery.headroom.min.js?v=f3a1bae118315d0c234afc74dc6aab71"></script>

  
  
  <script>
    $(function(){ $("#menubar").headroom({
      tolerance: 5,
      offset: 205,
      classes: {
        initial: "animated",
        pinned: "slideInDown",
        unpinned: "slideOutUp"
      }
    })});
  </script>


  
  <script>
    (function(i,s,o,g,r,a,m){i['GoogleAnalyticsObject']=r;i[r]=i[r]||function(){
      (i[r].q=i[r].q||[]).push(arguments)},i[r].l=1*new Date();a=s.createElement(o),
      m=s.getElementsByTagName(o)[0];a.async=1;a.src=g;m.parentNode.insertBefore(a,m)
    })(window,document,'script','https://www.google-analytics.com/analytics.js','ga');
    ga('create', 'UA-52617120-5', 'auto',
       {'storage': 'none'});
    ga('set', 'anonymizeIp', true);
    ga('send', 'pageview');
  </script>
  
  <script>
    require({
        paths: {
          moment: "/static/components/moment/min/moment.min.js?v=89f87298ad94aa1e6b92f42eb66da043"
        }
      }, ["moment"], function(moment){
      var date = $("footer .date"),
        m = moment(new Date(date.data('date'))),
        update = function(){ date.text(m.fromNow()); };
      setInterval(update, 61*1000);
      update();
      var w = $(window).scroll(function(event){
        $("body").toggleClass("scrolled", w.scrollTop() > 0);
      });
    });
  </script>

  <!--NEW RELIC Stop Perf Measurement-->
  
  <!--NEW RELIC End-->
</body>
</html>