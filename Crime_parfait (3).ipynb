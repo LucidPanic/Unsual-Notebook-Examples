








<!DOCTYPE html>
<html lang="en">

<head>
  <meta charset="utf-8">
  <title>Jupyter Notebook Viewer</title>
  <meta name="viewport" content="width=device-width, initial-scale=1.0">
  <meta name="description" content="">
  <meta name="author" content="">
  
  <meta name="robots" content="noindex,nofollow">
  

  <!--NEW RELIC Start Perf Measurement-->
  
  <!--NREND-->

  <!-- Le styles -->
  <link href="/static/build/styles.css?v=55ba354138253381d2c0ada9821cd4da" rel="stylesheet">

  <!-- Le HTML5 shim, for IE6-8 support of HTML5 elements -->
  <!--[if lt IE 9]>
    <script src="http://html5shim.googlecode.com/svn/trunk/html5.js"></script>
  <![endif]-->

  <!-- Le fav and touch icons -->
  <link rel="shortcut icon" href="/static/ico/ipynb_icon_16x16.png">
  <link rel="apple-touch-icon-precomposed" sizes="144x144"
        href="/static/ico/apple-touch-icon-144-precomposed.png?v=5a3c9ede93e2a8b8ea9e3f8f3da1a905">
  <link rel="apple-touch-icon-precomposed" sizes="114x114"
        href="/static/ico/apple-touch-icon-114-precomposed.png?v=45d86fc8f24dc00638035e1dd7a6d898">
  <link rel="apple-touch-icon-precomposed" sizes="72x72"
        href="/static/ico/apple-touch-icon-72-precomposed.png?v=540b5eb0f3cfd25f1439d1c9bd30e15f">
  <link rel="apple-touch-icon-precomposed"
        href="/static/ico/apple-touch-icon-57-precomposed.png?v=225f0590e187e1458625654f10a28f56">
  
  

  

  
  <meta name="twitter:card" content="summary">
  <meta name="twitter:title" content="Notebook on nbviewer">
  <meta name="twitter:description" content="Check out this Jupyter notebook!">

  
  <meta name="twitter:domain" content="nbviewer.jupyter.org">
  <meta name="twitter:image:src" content="http://ipython.org/ipython-doc/dev/_images/ipynb_icon_128x128.png">

  
    <link href="/static/build/notebook.css?v=aae8f92f7e80fc468ae446b9d852fe90" rel="stylesheet">
  

  

  
    <script src="https://cdnjs.cloudflare.com/ajax/libs/mathjax/2.7.1/MathJax.js?config=TeX-AMS_HTML" type="text/javascript">
    </script>
    <script type="text/javascript">
      init_mathjax = function() {
        if (window.MathJax) {
          // MathJax loaded
          MathJax.Hub.Config({
            TeX: {
              equationNumbers: {
                autoNumber: "AMS",
                useLabelIds: true
              }
            },
            tex2jax: {
              inlineMath: [ ['$','$'], ["\\(","\\)"] ],
              displayMath: [ ['$$','$$'], ["\\[","\\]"] ],
              processEscapes: true,
              processEnvironments: true
            },
            displayAlign: 'center',
            "HTML-CSS": {
              styles: {'.MathJax_Display': {"margin": 0}},
              linebreaks: { automatic: true }
            }
          });
          MathJax.Hub.Queue(["Typeset", MathJax.Hub]);
        }
      }
      init_mathjax();
    </script>
  

  
    <script>
      (function() {
        function addWidgetsRenderer() {
          var mimeElement = document.querySelector('script[type="application/vnd.jupyter.widget-view+json"]');
          var scriptElement = document.createElement('script');
          var widgetRendererSrc = 'https://unpkg.com/@jupyter-widgets/html-manager@0.15/dist/embed-amd.js';
          var widgetState;

          try {
            widgetState = mimeElement && JSON.parse(mimeElement.innerHTML);

            if (widgetState && (widgetState.version_major < 2 || !widgetState.version_major)) {
              widgetRendererSrc = 'https://unpkg.com/jupyter-js-widgets@2.1/dist/embed.js';
            }
          } catch(e) {}

          scriptElement.src = widgetRendererSrc;
          document.body.appendChild(scriptElement);
        }

        document.addEventListener('DOMContentLoaded', addWidgetsRenderer);
      }());
    </script>
  

</head>

<body class="nbviewer">

  <!-- These are loaded at the top of the body so they are available to
       notebook cells when they are loaded below. -->
  <script src="/static/components/jquery/dist/jquery.min.js?v=220afd743d9e9643852e31a135a9f3ae"></script>
  <script src="/static/components/requirejs/require.js?v=6da8be361b9ee26c5e721e76c6d4afce"></script>
  <script src="/static/components/moment/min/moment.min.js?v=89f87298ad94aa1e6b92f42eb66da043"></script>
<!-- Navbar
================================================== -->
  <nav id="menubar" class="navbar navbar-default navbar-fixed-top" data-spy="affix">
    <div class="container">
      <div class="navbar-header">
        <button type="button" class="navbar-toggle collapsed" data-toggle="collapse" data-target=".navbar-collapse">
          <span class="sr-only">Toggle navigation</span>
          <i class="fa fa-bars"></i>
        </button>
        <a class="navbar-brand" href="/">
          <img src="/static/img/nav_logo.svg?v=479cefe8d932fb14a67b93911b97d70f" width="159"/>
        </a>
      </div>

      <div class="collapse navbar-collapse">
        <ul class="nav navbar-nav navbar-right">
          <li>
            <a class="active" href="https://jupyter.org">JUPYTER</a>
          </li>
          <li>
    <a href="/faq" title="FAQ" >
      
        <span>FAQ</span>
      
    </a>
  </li>

          
  
    
  
    
      
        <li>
    <a href="/format/script/github/Naereen/notebooks/blob/master/agreg/Crime_parfait.ipynb" title="View as Code" >
      <span class="fa fa-code fa-2x menu-icon"></span>
      <span class="menu-text">View as Code</span>
    </a>
  </li>
      
    
  

  
    <li>
    <a href="#" title="OCaml 4.04.2 Kernel" >
      <span class="fa fa-server fa-2x menu-icon"></span>
      <span class="menu-text">OCaml 4.04.2 Kernel</span>
    </a>
  </li>
  

  
    <li>
    <a href="https://github.com/Naereen/notebooks/blob/master/agreg/Crime_parfait.ipynb" title="View on GitHub" >
      <span class="fa fa-github fa-2x menu-icon"></span>
      <span class="menu-text">View on GitHub</span>
    </a>
  </li>
  

  
    <li>
    <a href="https://mybinder.org/v2/gh/Naereen/notebooks/master?filepath=agreg/Crime_parfait.ipynb" title="Execute on Binder" >
      <span class="fa fa-icon-binder fa-2x menu-icon"></span>
      <span class="menu-text">Execute on Binder</span>
    </a>
  </li>
  

  <li>
    <a href="https://raw.githubusercontent.com/Naereen/notebooks/master/agreg/Crime_parfait.ipynb" title="Download Notebook" download>
      <span class="fa fa-download fa-2x menu-icon"></span>
      <span class="menu-text">Download Notebook</span>
    </a>
  </li>

        </ul>
      </div><!-- /.navbar-collapse -->
      
      
    </div>
  </nav>

  <div class="container container-main">
    
  
  <ol class="breadcrumb">
    
      <li>
        <a href="/github/Naereen/notebooks/tree/master">notebooks</a>
      </li>
    
      <li>
        <a href="/github/Naereen/notebooks/tree/master/agreg">agreg</a>
      </li>
    
  </ol>
  
  <div id="notebook">
    <div id="notebook-container">
      <div class="cell border-box-sizing text_cell rendered"><div class="prompt input_prompt">
</div><div class="inner_cell">
<div class="text_cell_render border-box-sizing rendered_html">
<h1 id="Table-of-Contents">Table of Contents<a class="anchor-link" href="#Table-of-Contents">&#182;</a></h1><p><p><div class="lev1 toc-item"><a href="#Texte-d'oral-de-modélisation---Agrégation-Option-Informatique" data-toc-modified-id="Texte-d'oral-de-modélisation---Agrégation-Option-Informatique-1"><span class="toc-item-num">1&nbsp;&nbsp;</span>Texte d'oral de modélisation - Agrégation Option Informatique</a></div><div class="lev2 toc-item"><a href="#Préparation-à-l'agrégation---ENS-de-Rennes,-2016-17" data-toc-modified-id="Préparation-à-l'agrégation---ENS-de-Rennes,-2016-17-11"><span class="toc-item-num">1.1&nbsp;&nbsp;</span>Préparation à l'agrégation - ENS de Rennes, 2016-17</a></div><div class="lev2 toc-item"><a href="#À-propos-de-ce-document" data-toc-modified-id="À-propos-de-ce-document-12"><span class="toc-item-num">1.2&nbsp;&nbsp;</span>À propos de ce document</a></div><div class="lev2 toc-item"><a href="#Implémentation" data-toc-modified-id="Implémentation-13"><span class="toc-item-num">1.3&nbsp;&nbsp;</span>Implémentation</a></div><div class="lev3 toc-item"><a href="#Une-bonne-structure-de-donnée-pour-des-intervalles-et-des-graphes-d'intervales" data-toc-modified-id="Une-bonne-structure-de-donnée-pour-des-intervalles-et-des-graphes-d'intervales-131"><span class="toc-item-num">1.3.1&nbsp;&nbsp;</span>Une bonne structure de donnée pour des intervalles et des graphes d'intervales</a></div><div class="lev3 toc-item"><a href="#Algorithme-de-coloriage-de-graphe-d'intervalles" data-toc-modified-id="Algorithme-de-coloriage-de-graphe-d'intervalles-132"><span class="toc-item-num">1.3.2&nbsp;&nbsp;</span>Algorithme de coloriage de graphe d'intervalles</a></div><div class="lev3 toc-item"><a href="#Algorithme-pour-calculer-le-stable-maximum-d'un-graphe-d'intervalles" data-toc-modified-id="Algorithme-pour-calculer-le-stable-maximum-d'un-graphe-d'intervalles-133"><span class="toc-item-num">1.3.3&nbsp;&nbsp;</span>Algorithme pour calculer le <em>stable maximum</em> d'un graphe d'intervalles</a></div><div class="lev2 toc-item"><a href="#Exemples" data-toc-modified-id="Exemples-14"><span class="toc-item-num">1.4&nbsp;&nbsp;</span>Exemples</a></div><div class="lev3 toc-item"><a href="#Qui-a-tué-le-Duc-de-Densmore-?" data-toc-modified-id="Qui-a-tué-le-Duc-de-Densmore-?-141"><span class="toc-item-num">1.4.1&nbsp;&nbsp;</span>Qui a tué le Duc de Densmore ?</a></div><div class="lev4 toc-item"><a href="#Comment-résoudre-ce-problème-?" data-toc-modified-id="Comment-résoudre-ce-problème-?-1411"><span class="toc-item-num">1.4.1.1&nbsp;&nbsp;</span>Comment résoudre ce problème ?</a></div><div class="lev4 toc-item"><a href="#Solution" data-toc-modified-id="Solution-1412"><span class="toc-item-num">1.4.1.2&nbsp;&nbsp;</span>Solution</a></div><div class="lev3 toc-item"><a href="#Le-problème-des-frigos" data-toc-modified-id="Le-problème-des-frigos-142"><span class="toc-item-num">1.4.2&nbsp;&nbsp;</span>Le problème des frigos</a></div><div class="lev3 toc-item"><a href="#Le-problème-du-CSA" data-toc-modified-id="Le-problème-du-CSA-143"><span class="toc-item-num">1.4.3&nbsp;&nbsp;</span>Le problème du CSA</a></div><div class="lev3 toc-item"><a href="#Le-problème-du-wagon-restaurant" data-toc-modified-id="Le-problème-du-wagon-restaurant-144"><span class="toc-item-num">1.4.4&nbsp;&nbsp;</span>Le problème du wagon restaurant</a></div><div class="lev4 toc-item"><a href="#Solution-via-l'algorithme-de-coloriage-de-graphe-d'intervalles" data-toc-modified-id="Solution-via-l'algorithme-de-coloriage-de-graphe-d'intervalles-1441"><span class="toc-item-num">1.4.4.1&nbsp;&nbsp;</span>Solution via l'algorithme de coloriage de graphe d'intervalles</a></div><div class="lev2 toc-item"><a href="#Bonus-?" data-toc-modified-id="Bonus-?-15"><span class="toc-item-num">1.5&nbsp;&nbsp;</span>Bonus ?</a></div><div class="lev3 toc-item"><a href="#Visualisation-des-graphes-définis-dans-les-exemples" data-toc-modified-id="Visualisation-des-graphes-définis-dans-les-exemples-151"><span class="toc-item-num">1.5.1&nbsp;&nbsp;</span>Visualisation des graphes définis dans les exemples</a></div><div class="lev2 toc-item"><a href="#Conclusion" data-toc-modified-id="Conclusion-16"><span class="toc-item-num">1.6&nbsp;&nbsp;</span>Conclusion</a></div></p>

</div>
</div>
</div>
<div class="cell border-box-sizing text_cell rendered"><div class="prompt input_prompt">
</div><div class="inner_cell">
<div class="text_cell_render border-box-sizing rendered_html">
<h1 id="Texte-d'oral-de-mod&#233;lisation---Agr&#233;gation-Option-Informatique">Texte d'oral de mod&#233;lisation - Agr&#233;gation Option Informatique<a class="anchor-link" href="#Texte-d'oral-de-mod&#233;lisation---Agr&#233;gation-Option-Informatique">&#182;</a></h1><h2 id="Pr&#233;paration-&#224;-l'agr&#233;gation---ENS-de-Rennes,-2016-17">Pr&#233;paration &#224; l'agr&#233;gation - ENS de Rennes, 2016-17<a class="anchor-link" href="#Pr&#233;paration-&#224;-l'agr&#233;gation---ENS-de-Rennes,-2016-17">&#182;</a></h2><ul>
<li><em>Date</em> : 3 avril 2017</li>
<li><em>Auteur</em> : <a href="https://GitHub.com/Naereen/notebooks/">Lilian Besson</a></li>
<li><em>Texte</em>: Annale 2006, "Crime Parfait"</li>
</ul>

</div>
</div>
</div>
<div class="cell border-box-sizing text_cell rendered"><div class="prompt input_prompt">
</div><div class="inner_cell">
<div class="text_cell_render border-box-sizing rendered_html">
<h2 id="&#192;-propos-de-ce-document">&#192; propos de ce document<a class="anchor-link" href="#&#192;-propos-de-ce-document">&#182;</a></h2><ul>
<li>Ceci est une <em>proposition</em> de correction, partielle et probablement non-optimale, pour la partie implémentation d'un <a href="http://Agreg.org/Textes/">texte d'annale de l'agrégation de mathématiques, option informatique</a>.</li>
<li>Ce document est un <a href="https://www.Jupyter.org/">notebook Jupyter</a>, et <a href="https://github.com/Naereen/notebooks/tree/master/agreg/">est open-source sous Licence MIT sur GitHub</a>, comme les autres solutions de textes de modélisation que <a href="https://GitHub.com/Naereen">j</a>'ai écrite cette année.</li>
<li>L'implémentation sera faite en OCaml, version 4+ :</li>
</ul>

</div>
</div>
</div>
<div class="cell border-box-sizing code_cell rendered">
<div class="input">
<div class="prompt input_prompt">In&nbsp;[1]:</div>
<div class="inner_cell">
    <div class="input_area">
<div class=" highlight hl-OCaml"><pre><span></span><span class="nn">Sys</span><span class="p">.</span><span class="n">command</span> <span class="s2">&quot;ocaml -version&quot;</span><span class="o">;;</span>
</pre></div>

    </div>
</div>
</div>

<div class="output_wrapper">
<div class="output">


<div class="output_area">

    <div class="prompt"></div>


<div class="output_subarea output_stream output_stdout output_text">
<pre>The OCaml toplevel, version 4.04.2
</pre>
</div>
</div>

<div class="output_area">

    <div class="prompt output_prompt">Out[1]:</div>




<div class="output_text output_subarea output_execute_result">
<pre>- : int = 0
</pre>
</div>

</div>

</div>
</div>

</div>
<div class="cell border-box-sizing text_cell rendered"><div class="prompt input_prompt">
</div><div class="inner_cell">
<div class="text_cell_render border-box-sizing rendered_html">
<hr>
<h2 id="Impl&#233;mentation">Impl&#233;mentation<a class="anchor-link" href="#Impl&#233;mentation">&#182;</a></h2><p>La question d'implémentation était la question 2) en page 7.</p>
<blockquote><p>« Proposer une structure de donnée adaptée pour représenter un graphe d'intervalles dont une représentation sous forme de famille d’intervalles est connue.
Implémenter de manière efficace l’algorithme de coloriage de graphes d'intervalles et illustrer cet algorithme sur une application bien choisie citée dans le texte. »</p>
</blockquote>
<p>Nous allons donc d'abord définir une structure de donnée pour une famille d'intervalles ainsi que pour un graphe d'intervalle, ainsi qu'une fonction convertissant l'un en l'autre.</p>
<p>Cela permettra de facilement définr les différents exemples du texte, et de les résoudre.</p>

</div>
</div>
</div>
<div class="cell border-box-sizing text_cell rendered"><div class="prompt input_prompt">
</div><div class="inner_cell">
<div class="text_cell_render border-box-sizing rendered_html">
<h3 id="Une-bonne-structure-de-donn&#233;e-pour-des-intervalles-et-des-graphes-d'intervales">Une bonne structure de donn&#233;e pour des intervalles et des graphes d'intervales<a class="anchor-link" href="#Une-bonne-structure-de-donn&#233;e-pour-des-intervalles-et-des-graphes-d'intervales">&#182;</a></h3><ul>
<li>Pour des <strong>intervalles</strong> à valeurs réelles, on se restreint par convénience à des valeurs entières.</li>
</ul>

</div>
</div>
</div>
<div class="cell border-box-sizing code_cell rendered">
<div class="input">
<div class="prompt input_prompt">In&nbsp;[2]:</div>
<div class="inner_cell">
    <div class="input_area">
<div class=" highlight hl-OCaml"><pre><span></span><span class="k">type</span> <span class="n">intervalle</span> <span class="o">=</span> <span class="o">(</span><span class="kt">int</span> <span class="o">*</span> <span class="kt">int</span><span class="o">);;</span>
<span class="k">type</span> <span class="n">intervalles</span> <span class="o">=</span> <span class="n">intervalle</span> <span class="kt">list</span><span class="o">;;</span>
</pre></div>

    </div>
</div>
</div>

<div class="output_wrapper">
<div class="output">


<div class="output_area">

    <div class="prompt output_prompt">Out[2]:</div>




<div class="output_text output_subarea output_execute_result">
<pre>type intervalle = int * int
</pre>
</div>

</div>

<div class="output_area">

    <div class="prompt output_prompt">Out[2]:</div>




<div class="output_text output_subarea output_execute_result">
<pre>type intervalles = intervalle list
</pre>
</div>

</div>

</div>
</div>

</div>
<div class="cell border-box-sizing text_cell rendered"><div class="prompt input_prompt">
</div><div class="inner_cell">
<div class="text_cell_render border-box-sizing rendered_html">
<ul>
<li>Pour des <strong>graphes d'intervalles</strong>, on utilise une simple représentation sous forme de liste d'adjacence, plus facile à mettre en place en OCaml qu'une représentation sous forme de matrice. Ici, tous nos graphes ont pour sommets $0 \dots n - 1$.</li>
</ul>

</div>
</div>
</div>
<div class="cell border-box-sizing code_cell rendered">
<div class="input">
<div class="prompt input_prompt">In&nbsp;[3]:</div>
<div class="inner_cell">
    <div class="input_area">
<div class=" highlight hl-OCaml"><pre><span></span><span class="k">type</span> <span class="n">sommet</span> <span class="o">=</span> <span class="kt">int</span><span class="o">;;</span>
<span class="k">type</span> <span class="n">voisins</span> <span class="o">=</span> <span class="n">sommet</span> <span class="kt">list</span><span class="o">;;</span>
<span class="k">type</span> <span class="n">graphe_intervalle</span> <span class="o">=</span> <span class="n">voisins</span> <span class="kt">list</span><span class="o">;;</span>
</pre></div>

    </div>
</div>
</div>

<div class="output_wrapper">
<div class="output">


<div class="output_area">

    <div class="prompt output_prompt">Out[3]:</div>




<div class="output_text output_subarea output_execute_result">
<pre>type sommet = int
</pre>
</div>

</div>

<div class="output_area">

    <div class="prompt output_prompt">Out[3]:</div>




<div class="output_text output_subarea output_execute_result">
<pre>type voisins = sommet list
</pre>
</div>

</div>

<div class="output_area">

    <div class="prompt output_prompt">Out[3]:</div>




<div class="output_text output_subarea output_execute_result">
<pre>type graphe_intervalle = voisins list
</pre>
</div>

</div>

</div>
</div>

</div>
<div class="cell border-box-sizing text_cell rendered"><div class="prompt input_prompt">
</div><div class="inner_cell">
<div class="text_cell_render border-box-sizing rendered_html">
<blockquote><p><em>Note:</em> j'ai préféré garder une structure très simple, pour les intervalles, les graphes d'intervalles et les coloriages, mais on perd un peu en lisibilité dans la fonction coloriage.</p>
<p>Implicitement, dès qu'une liste d'intervalles est fixée, de taille $n$, ils sont numérotés de $0$ à $n-1$. Le graphe <code>g</code> aura pour sommet $0 \dots n-1$, et le coloriage sera un simple tableau de couleurs <code>c</code> (i.e., d'entiers), donnant en <code>c[i]</code> la couleur de l'intervalle numéro <code>i</code>.</p>
<p>Une solution plus intelligente aurait été d'utiliser des tables d'association, cf. le module <a href="http://caml.inria.fr/pub/docs/manual-ocaml/libref/Map.html">Map</a> de OCaml, et le code proposé par Julien durant son oral.</p>
</blockquote>

</div>
</div>
</div>
<div class="cell border-box-sizing text_cell rendered"><div class="prompt input_prompt">
</div><div class="inner_cell">
<div class="text_cell_render border-box-sizing rendered_html">
<ul>
<li><p>On peut rapidement écrire une fonction qui va convertir une liste d'intervalle (<code>intervalles</code>) en un graphe d'intervalle. On crée les sommets du graphes, via <code>index_intvls</code> qui associe un intervalle à son indice, et ensuite on ajoute les arêtes au graphe selon les contraintes définissant un graphe d'intervalle :</p>
<p>$$ \forall I, I' \in V, (I,I') \in E \Leftrightarrow I \neq I' \;\text{and}\; I \cap I' \neq \emptyset $$</p>
<p>Donc avec des intervales $I = [x,y]$ et $I' = [a,b]$, cela donne :</p>
<p>$$ \forall I = [x,y], I' = [a,b] \in V, (I,I') \in E \Leftrightarrow (x,y) \neq (a,b) \;\text{and}\; \neg (b &lt; x \;\text{or}\; y &lt; a) $$</p>
</li>
</ul>

</div>
</div>
</div>
<div class="cell border-box-sizing code_cell rendered">
<div class="input">
<div class="prompt input_prompt">In&nbsp;[4]:</div>
<div class="inner_cell">
    <div class="input_area">
<div class=" highlight hl-OCaml"><pre><span></span><span class="k">let</span> <span class="n">graphe_depuis_intervalles</span> <span class="o">(</span><span class="n">intvls</span> <span class="o">:</span> <span class="n">intervalles</span><span class="o">)</span> <span class="o">:</span> <span class="n">graphe_intervalle</span> <span class="o">=</span>
    <span class="k">let</span> <span class="n">n</span> <span class="o">=</span> <span class="nn">List</span><span class="p">.</span><span class="n">length</span> <span class="n">intvls</span> <span class="k">in</span>                   <span class="c">(* Nomber de sommet *)</span>
    <span class="k">let</span> <span class="n">array_intvls</span> <span class="o">=</span> <span class="nn">Array</span><span class="p">.</span><span class="n">of_list</span> <span class="n">intvls</span> <span class="k">in</span>      <span class="c">(* Tableau des intervalles *)</span>
    <span class="k">let</span> <span class="n">index_intvls</span> <span class="o">=</span> <span class="nn">Array</span><span class="p">.</span><span class="n">to_list</span> <span class="o">(</span>
        <span class="nn">Array</span><span class="p">.</span><span class="n">init</span> <span class="n">n</span> <span class="o">(</span><span class="k">fun</span> <span class="n">i</span> <span class="o">-&gt;</span> <span class="o">(</span>
            <span class="n">array_intvls</span><span class="o">.(</span><span class="n">i</span><span class="o">),</span> <span class="n">i</span><span class="o">)</span>                    <span class="c">(* Associe un intervalle à son indice *)</span>
        <span class="o">)</span>
    <span class="o">)</span> <span class="k">in</span>
    <span class="k">let</span> <span class="n">gr</span> <span class="o">=</span> <span class="nn">List</span><span class="p">.</span><span class="n">map</span> <span class="o">(</span><span class="k">fun</span> <span class="o">(</span><span class="n">a</span><span class="o">,</span> <span class="n">b</span><span class="o">)</span> <span class="o">-&gt;</span>                <span class="c">(* Pour chaque intervalle [a, b] *)</span>
        <span class="nn">List</span><span class="p">.</span><span class="n">filter</span> <span class="o">(</span><span class="k">fun</span> <span class="o">(</span><span class="n">x</span><span class="o">,</span> <span class="n">y</span><span class="o">)</span> <span class="o">-&gt;</span>                  <span class="c">(* On ajoute [x, y] s&#39;il intersecte [a, b] *)</span>
            <span class="o">(</span><span class="n">x</span><span class="o">,</span> <span class="n">y</span><span class="o">)</span> <span class="o">&lt;&gt;</span> <span class="o">(</span><span class="n">a</span><span class="o">,</span> <span class="n">b</span><span class="o">)</span>                        <span class="c">(* Intervalle différent *)</span>
            <span class="o">&amp;&amp;</span> <span class="n">not</span> <span class="o">(</span> <span class="o">(</span><span class="n">b</span> <span class="o">&lt;</span> <span class="n">x</span><span class="o">)</span> <span class="o">||</span> <span class="o">(</span><span class="n">y</span> <span class="o">&lt;</span> <span class="n">a</span><span class="o">)</span> <span class="o">)</span>           <span class="c">(* pas x---y a---b ni a---b x---y *)</span>
        <span class="o">)</span> <span class="n">intvls</span>
    <span class="o">)</span> <span class="n">intvls</span> <span class="k">in</span>
    <span class="c">(* On transforme la liste de liste d&#39;intervalles en une liste de liste d&#39;entiers *)</span>
    <span class="nn">List</span><span class="p">.</span><span class="n">map</span> <span class="o">(</span><span class="k">fun</span> <span class="n">voisins</span> <span class="o">-&gt;</span>
        <span class="nn">List</span><span class="p">.</span><span class="n">map</span> <span class="o">(</span><span class="k">fun</span> <span class="n">sommet</span> <span class="o">-&gt;</span>                     <span class="c">(* Grace au tableau index_intvls *)</span>
            <span class="nn">List</span><span class="p">.</span><span class="n">assoc</span> <span class="n">sommet</span> <span class="n">index_intvls</span>
        <span class="o">)</span> <span class="n">voisins</span>
    <span class="o">)</span> <span class="n">gr</span>
<span class="o">;;</span>
</pre></div>

    </div>
</div>
</div>

<div class="output_wrapper">
<div class="output">


<div class="output_area">

    <div class="prompt output_prompt">Out[4]:</div>




<div class="output_text output_subarea output_execute_result">
<pre>val graphe_depuis_intervalles : intervalles -&gt; graphe_intervalle = &lt;fun&gt;
</pre>
</div>

</div>

</div>
</div>

</div>
<div class="cell border-box-sizing text_cell rendered"><div class="prompt input_prompt">
</div><div class="inner_cell">
<div class="text_cell_render border-box-sizing rendered_html">
<h3 id="Algorithme-de-coloriage-de-graphe-d'intervalles">Algorithme de coloriage de graphe d'intervalles<a class="anchor-link" href="#Algorithme-de-coloriage-de-graphe-d'intervalles">&#182;</a></h3><blockquote><p>Étant donné un graphe $G = (V, E)$, on cherche un entier $n$ minimal et une fonction $c : V \to \{1, \cdots, n\}$ telle que si $(v_1 , v_2) \in E$, alors $c(v_1) \neq c(v_2)$.</p>
</blockquote>
<p>On suit les indications de l'énoncé pour implémenter facilement cet algorithme.</p>
<blockquote><p>Une <em>heuristique</em> simple pour résoudre ce problème consiste à appliquer l’algorithme glouton suivant :</p>
<ul>
<li>tant qu'il reste reste des sommets non coloriés,<ul>
<li>en choisir un</li>
<li>et le colorier avec le plus petit entier qui n’apparait pas dans les voisins déjà coloriés.</li>
</ul>
</li>
</ul>
<p>En choisissant bien le nouveau sommet à colorier à chaque fois, cette heuristique se révelle optimale pour les graphes d’intervalles.</p>
</blockquote>
<p>On peut d'abord définir un type de donnée pour un coloriage, sous la forme d'une liste de couple d'intervalle et de couleur.
Ainsi, <code>List.assoc</code> peut être utilisée pour donner le coloriage de chaque intervalle.</p>

</div>
</div>
</div>
<div class="cell border-box-sizing code_cell rendered">
<div class="input">
<div class="prompt input_prompt">In&nbsp;[5]:</div>
<div class="inner_cell">
    <div class="input_area">
<div class=" highlight hl-OCaml"><pre><span></span><span class="k">type</span> <span class="n">couleur</span> <span class="o">=</span> <span class="kt">int</span><span class="o">;;</span>
<span class="k">type</span> <span class="n">coloriage</span> <span class="o">=</span> <span class="o">(</span><span class="n">intervalle</span> <span class="o">*</span> <span class="n">couleur</span><span class="o">)</span> <span class="kt">list</span><span class="o">;;</span>

<span class="k">let</span> <span class="n">coloriage_depuis_couleurs</span> <span class="o">(</span><span class="n">intvl</span> <span class="o">:</span> <span class="n">intervalles</span><span class="o">)</span> <span class="o">(</span><span class="n">c</span> <span class="o">:</span> <span class="n">couleur</span> <span class="kt">array</span><span class="o">)</span> <span class="o">:</span> <span class="n">coloriage</span> <span class="o">=</span>
    <span class="nn">Array</span><span class="p">.</span><span class="n">to_list</span> <span class="o">(</span><span class="nn">Array</span><span class="p">.</span><span class="n">init</span> <span class="o">(</span><span class="nn">Array</span><span class="p">.</span><span class="n">length</span> <span class="n">c</span><span class="o">)</span> <span class="o">(</span><span class="k">fun</span> <span class="n">i</span> <span class="o">-&gt;</span> <span class="o">(</span><span class="nn">List</span><span class="p">.</span><span class="n">nth</span> <span class="n">intvl</span> <span class="n">i</span><span class="o">),</span> <span class="n">c</span><span class="o">.(</span><span class="n">i</span><span class="o">)));;</span>

<span class="k">let</span> <span class="n">quelle_couleur</span> <span class="o">(</span><span class="n">intvl</span> <span class="o">:</span> <span class="n">intervalle</span><span class="o">)</span> <span class="o">(</span><span class="n">colors</span> <span class="o">:</span> <span class="n">coloriage</span><span class="o">)</span> <span class="o">=</span> 
    <span class="nn">List</span><span class="p">.</span><span class="n">assoc</span> <span class="n">intvl</span> <span class="n">colors</span>
<span class="o">;;</span>
</pre></div>

    </div>
</div>
</div>

<div class="output_wrapper">
<div class="output">


<div class="output_area">

    <div class="prompt output_prompt">Out[5]:</div>




<div class="output_text output_subarea output_execute_result">
<pre>type couleur = int
</pre>
</div>

</div>

<div class="output_area">

    <div class="prompt output_prompt">Out[5]:</div>




<div class="output_text output_subarea output_execute_result">
<pre>type coloriage = (intervalle * couleur) list
</pre>
</div>

</div>

<div class="output_area">

    <div class="prompt output_prompt">Out[5]:</div>




<div class="output_text output_subarea output_execute_result">
<pre>val coloriage_depuis_couleurs : intervalles -&gt; couleur array -&gt; coloriage =
  &lt;fun&gt;
</pre>
</div>

</div>

<div class="output_area">

    <div class="prompt output_prompt">Out[5]:</div>




<div class="output_text output_subarea output_execute_result">
<pre>val quelle_couleur : intervalle -&gt; coloriage -&gt; couleur = &lt;fun&gt;
</pre>
</div>

</div>

</div>
</div>

</div>
<div class="cell border-box-sizing text_cell rendered"><div class="prompt input_prompt">
</div><div class="inner_cell">
<div class="text_cell_render border-box-sizing rendered_html">
<p>Ensuite, l'ordre partiel $\prec_i$ sur les intervalles est défini comme ça :</p>
$$ I = (a,b) \prec_i J=(x, y) \Longleftrightarrow a &lt; x $$
</div>
</div>
</div>
<div class="cell border-box-sizing code_cell rendered">
<div class="input">
<div class="prompt input_prompt">In&nbsp;[8]:</div>
<div class="inner_cell">
    <div class="input_area">
<div class=" highlight hl-OCaml"><pre><span></span><span class="k">let</span> <span class="n">ordre_partiel</span> <span class="o">((</span><span class="n">a</span><span class="o">,</span> <span class="o">_)</span> <span class="o">:</span> <span class="n">intervalle</span><span class="o">)</span> <span class="o">((</span><span class="n">x</span><span class="o">,</span> <span class="o">_)</span> <span class="o">:</span> <span class="n">intervalle</span><span class="o">)</span> <span class="o">=</span>
    <span class="n">a</span> <span class="o">&lt;</span> <span class="n">x</span>
<span class="o">;;</span>
</pre></div>

    </div>
</div>
</div>

<div class="output_wrapper">
<div class="output">


<div class="output_area">

    <div class="prompt output_prompt">Out[8]:</div>




<div class="output_text output_subarea output_execute_result">
<pre>val ordre_partiel : intervalle -&gt; intervalle -&gt; bool = &lt;fun&gt;
</pre>
</div>

</div>

</div>
</div>

</div>
<div class="cell border-box-sizing text_cell rendered"><div class="prompt input_prompt">
</div><div class="inner_cell">
<div class="text_cell_render border-box-sizing rendered_html">
<p>On a ensuite besoin d'une fonction qui va calculer l'inf de $\mathbb{N} \setminus \{x : x \in \mathrm{valeurs} \}$:</p>

</div>
</div>
</div>
<div class="cell border-box-sizing code_cell rendered">
<div class="input">
<div class="prompt input_prompt">In&nbsp;[9]:</div>
<div class="inner_cell">
    <div class="input_area">
<div class=" highlight hl-OCaml"><pre><span></span><span class="k">let</span> <span class="n">inf_N_minus</span> <span class="n">valeurs</span> <span class="o">=</span>
    <span class="k">let</span> <span class="n">res</span> <span class="o">=</span> <span class="n">ref</span> <span class="mi">0</span> <span class="k">in</span>  <span class="c">(* Très important d&#39;utiliser une référence ! *)</span>
    <span class="k">while</span> <span class="nn">List</span><span class="p">.</span><span class="n">mem</span> <span class="o">!</span><span class="n">res</span> <span class="n">valeurs</span> <span class="k">do</span>
        <span class="n">incr</span> <span class="n">res</span><span class="o">;</span>
    <span class="k">done</span><span class="o">;</span>
    <span class="o">!</span><span class="n">res</span>
<span class="o">;;</span>
</pre></div>

    </div>
</div>
</div>

<div class="output_wrapper">
<div class="output">


<div class="output_area">

    <div class="prompt output_prompt">Out[9]:</div>




<div class="output_text output_subarea output_execute_result">
<pre>val inf_N_minus : int list -&gt; int = &lt;fun&gt;
</pre>
</div>

</div>

</div>
</div>

</div>
<div class="cell border-box-sizing text_cell rendered"><div class="prompt input_prompt">
</div><div class="inner_cell">
<div class="text_cell_render border-box-sizing rendered_html">
<p>On vérifie rapidement sur deux exemples :</p>

</div>
</div>
</div>
<div class="cell border-box-sizing code_cell rendered">
<div class="input">
<div class="prompt input_prompt">In&nbsp;[10]:</div>
<div class="inner_cell">
    <div class="input_area">
<div class=" highlight hl-OCaml"><pre><span></span><span class="n">inf_N_minus</span> <span class="o">[</span><span class="mi">0</span><span class="o">;</span> <span class="mi">1</span><span class="o">;</span> <span class="mi">3</span><span class="o">];;</span>  <span class="c">(* 2 *)</span>
<span class="n">inf_N_minus</span> <span class="o">[</span><span class="mi">0</span><span class="o">;</span> <span class="mi">1</span><span class="o">;</span> <span class="mi">2</span><span class="o">;</span> <span class="mi">3</span><span class="o">;</span> <span class="mi">4</span><span class="o">;</span> <span class="mi">5</span><span class="o">;</span> <span class="mi">6</span><span class="o">;</span> <span class="mi">10</span><span class="o">];;</span> <span class="c">(* 7 *)</span>
</pre></div>

    </div>
</div>
</div>

<div class="output_wrapper">
<div class="output">


<div class="output_area">

    <div class="prompt output_prompt">Out[10]:</div>




<div class="output_text output_subarea output_execute_result">
<pre>- : int = 2
</pre>
</div>

</div>

<div class="output_area">

    <div class="prompt output_prompt">Out[10]:</div>




<div class="output_text output_subarea output_execute_result">
<pre>- : int = 7
</pre>
</div>

</div>

</div>
</div>

</div>
<div class="cell border-box-sizing text_cell rendered"><div class="prompt input_prompt">
</div><div class="inner_cell">
<div class="text_cell_render border-box-sizing rendered_html">
<p>Enfin, on a besoin d'une fonction pour trouver l'intervalle $I \in V$, minimal pour $\prec_i$, tel que $c(I) = +\infty$.</p>

</div>
</div>
</div>
<div class="cell border-box-sizing code_cell rendered">
<div class="input">
<div class="prompt input_prompt">In&nbsp;[11]:</div>
<div class="inner_cell">
    <div class="input_area">
<div class=" highlight hl-OCaml"><pre><span></span><span class="k">let</span> <span class="n">trouve_min_interval</span> <span class="n">intvl</span> <span class="o">(</span><span class="n">c</span> <span class="o">:</span> <span class="n">coloriage</span><span class="o">)</span> <span class="o">(</span><span class="n">inf</span> <span class="o">:</span> <span class="n">couleur</span><span class="o">)</span> <span class="o">=</span>
    <span class="k">let</span> <span class="n">colorie</span> <span class="n">inter</span> <span class="o">=</span> <span class="n">quelle_couleur</span> <span class="n">inter</span> <span class="n">c</span> <span class="k">in</span>
    <span class="c">(* D&#39;abord on extraie {I : c(I) = +oo} *)</span>
    <span class="k">let</span> <span class="n">intvl2</span> <span class="o">=</span> <span class="nn">List</span><span class="p">.</span><span class="n">filter</span> <span class="o">(</span><span class="k">fun</span> <span class="n">i</span> <span class="o">-&gt;</span> <span class="o">(</span><span class="n">colorie</span> <span class="n">i</span><span class="o">)</span> <span class="o">=</span> <span class="n">inf</span><span class="o">)</span> <span class="n">intvl</span> <span class="k">in</span>
    <span class="c">(* Puis on parcourt la liste et on garde le plus petit pour l&#39;ordre *)</span>
    <span class="k">let</span> <span class="n">i0</span> <span class="o">=</span> <span class="n">ref</span> <span class="mi">0</span> <span class="k">in</span>
    <span class="k">for</span> <span class="n">j</span> <span class="o">=</span> <span class="mi">1</span> <span class="k">to</span> <span class="o">(</span><span class="nn">List</span><span class="p">.</span><span class="n">length</span> <span class="n">intvl2</span><span class="o">)</span> <span class="o">-</span> <span class="mi">1</span> <span class="k">do</span>
        <span class="k">if</span> <span class="n">ordre_partiel</span> <span class="o">(</span><span class="nn">List</span><span class="p">.</span><span class="n">nth</span> <span class="n">intvl2</span> <span class="n">j</span><span class="o">)</span> <span class="o">(</span><span class="nn">List</span><span class="p">.</span><span class="n">nth</span> <span class="n">intvl2</span> <span class="o">!</span><span class="n">i0</span><span class="o">)</span> <span class="k">then</span>
            <span class="n">i0</span> <span class="o">:=</span> <span class="n">j</span><span class="o">;</span>
    <span class="k">done</span><span class="o">;</span>
    <span class="nn">List</span><span class="p">.</span><span class="n">nth</span> <span class="n">intvl2</span> <span class="o">!</span><span class="n">i0</span><span class="o">;</span>
<span class="o">;;</span>
</pre></div>

    </div>
</div>
</div>

<div class="output_wrapper">
<div class="output">


<div class="output_area">

    <div class="prompt output_prompt">Out[11]:</div>




<div class="output_text output_subarea output_execute_result">
<pre>val trouve_min_interval :
  intervalle list -&gt; coloriage -&gt; couleur -&gt; intervalle = &lt;fun&gt;
</pre>
</div>

</div>

</div>
</div>

</div>
<div class="cell border-box-sizing text_cell rendered"><div class="prompt input_prompt">
</div><div class="inner_cell">
<div class="text_cell_render border-box-sizing rendered_html">
<p>Et donc tout cela permet de finir l'algorithme, tel que décrit dans le texte :</p>
<p><img style="width:65%;" alt="images/algorithme_coloriage.png" src="images/algorithme_coloriage.png"></p>

</div>
</div>
</div>
<div class="cell border-box-sizing code_cell rendered">
<div class="input">
<div class="prompt input_prompt">In&nbsp;[12]:</div>
<div class="inner_cell">
    <div class="input_area">
<div class=" highlight hl-OCaml"><pre><span></span><span class="k">let</span> <span class="n">coloriage_intervalles</span> <span class="o">(</span><span class="n">intvl</span> <span class="o">:</span> <span class="n">intervalles</span><span class="o">)</span> <span class="o">:</span> <span class="n">coloriage</span> <span class="o">=</span>
    <span class="k">let</span> <span class="n">n</span> <span class="o">=</span> <span class="nn">List</span><span class="p">.</span><span class="n">length</span> <span class="n">intvl</span> <span class="k">in</span>   <span class="c">(* Nombre d&#39;intervalles *)</span>
    <span class="k">let</span> <span class="n">array_intvls</span> <span class="o">=</span> <span class="nn">Array</span><span class="p">.</span><span class="n">of_list</span> <span class="n">intvl</span> <span class="k">in</span>      <span class="c">(* Tableau des intervalles *)</span>
    <span class="k">let</span> <span class="n">index_intvls</span> <span class="o">=</span> <span class="nn">Array</span><span class="p">.</span><span class="n">to_list</span> <span class="o">(</span>
        <span class="nn">Array</span><span class="p">.</span><span class="n">init</span> <span class="n">n</span> <span class="o">(</span><span class="k">fun</span> <span class="n">i</span> <span class="o">-&gt;</span> <span class="o">(</span>
            <span class="n">array_intvls</span><span class="o">.(</span><span class="n">i</span><span class="o">),</span> <span class="n">i</span><span class="o">)</span>                    <span class="c">(* Associe un intervalle à son indice *)</span>
        <span class="o">)</span>
    <span class="o">)</span> <span class="k">in</span>
    <span class="k">let</span> <span class="n">gr</span> <span class="o">=</span> <span class="n">graphe_depuis_intervalles</span> <span class="n">intvl</span> <span class="k">in</span>
    <span class="k">let</span> <span class="n">inf</span> <span class="o">=</span> <span class="n">n</span> <span class="o">+</span> <span class="mi">10000</span> <span class="k">in</span>           <span class="c">(* Grande valeur, pour +oo *)</span>
    <span class="k">let</span> <span class="n">c</span> <span class="o">=</span> <span class="nn">Array</span><span class="p">.</span><span class="n">make</span> <span class="n">n</span> <span class="n">inf</span> <span class="k">in</span>      <span class="c">(* Liste des couleurs, c(I) = +oo pour tout I *)</span>
    <span class="k">let</span> <span class="n">maxarray</span> <span class="o">=</span> <span class="nn">Array</span><span class="p">.</span><span class="n">fold_left</span> <span class="n">max</span> <span class="o">(-</span><span class="n">inf</span> <span class="o">-</span> <span class="mi">10000</span><span class="o">)</span> <span class="k">in</span>  <span class="c">(* Initialisé à -oo *)</span>
    <span class="k">while</span> <span class="n">maxarray</span> <span class="n">c</span> <span class="o">=</span> <span class="n">inf</span> <span class="k">do</span>      <span class="c">(* Il reste un I in V tel que c(I) = +oo *)</span>
        <span class="k">begin</span> <span class="c">(* C&#39;est la partie pas élégante *)</span>
            <span class="c">(* On récupère le coloriage depuis la liste de couleurs actuelle *)</span>
            <span class="k">let</span> <span class="n">coloriage</span> <span class="o">=</span> <span class="o">(</span><span class="n">coloriage_depuis_couleurs</span> <span class="n">intvl</span> <span class="n">c</span><span class="o">)</span> <span class="k">in</span>
            <span class="c">(* Puis la fonction [colorie] pour associer une couleur à un intervalle *)</span>
            <span class="k">let</span> <span class="n">colorie</span> <span class="n">inter</span> <span class="o">=</span> <span class="n">quelle_couleur</span> <span class="n">inter</span> <span class="n">coloriage</span> <span class="k">in</span>
            <span class="c">(* On choisit un I, minimal pour ordre_partiel, tel que c(I) = +oo *)</span>
            <span class="k">let</span> <span class="n">inter</span> <span class="o">=</span> <span class="n">trouve_min_interval</span> <span class="n">intvl</span> <span class="n">coloriage</span> <span class="n">inf</span> <span class="k">in</span>
            <span class="c">(* On trouve son indice *)</span>
            <span class="k">let</span> <span class="n">i</span> <span class="o">=</span> <span class="nn">List</span><span class="p">.</span><span class="n">assoc</span> <span class="n">inter</span> <span class="n">index_intvls</span> <span class="k">in</span>
            <span class="c">(* On trouve les voisins de i dans le graphe *)</span>
            <span class="k">let</span> <span class="n">adj_de_i</span> <span class="o">=</span> <span class="nn">List</span><span class="p">.</span><span class="n">nth</span> <span class="n">gr</span> <span class="n">i</span> <span class="k">in</span>
            <span class="c">(* Puis les voisins de I en tant qu&#39;intervalles *)</span>
            <span class="k">let</span> <span class="n">adj_de_I</span> <span class="o">=</span> <span class="nn">List</span><span class="p">.</span><span class="n">map</span> <span class="o">(</span><span class="k">fun</span> <span class="n">j</span> <span class="o">-&gt;</span> <span class="nn">List</span><span class="p">.</span><span class="n">nth</span> <span class="n">intvl</span> <span class="n">j</span><span class="o">)</span> <span class="n">adj_de_i</span> <span class="k">in</span>
            <span class="c">(* Puis on récupère leurs couleurs *)</span>
            <span class="k">let</span> <span class="n">valeurs</span> <span class="o">=</span> <span class="nn">List</span><span class="p">.</span><span class="n">map</span> <span class="n">colorie</span> <span class="n">adj_de_I</span> <span class="k">in</span>
            <span class="c">(* c(I) = inf(N - {c(J) : J adjacent a I} ) *)</span>
            <span class="n">c</span><span class="o">.(</span><span class="n">i</span><span class="o">)</span> <span class="o">&lt;-</span> <span class="n">inf_N_minus</span> <span class="n">valeurs</span><span class="o">;</span>
        <span class="k">end</span><span class="o">;</span>
    <span class="k">done</span><span class="o">;</span>
    <span class="n">coloriage_depuis_couleurs</span> <span class="n">intvl</span> <span class="n">c</span><span class="o">;</span>
<span class="o">;;</span>
</pre></div>

    </div>
</div>
</div>

<div class="output_wrapper">
<div class="output">


<div class="output_area">

    <div class="prompt output_prompt">Out[12]:</div>




<div class="output_text output_subarea output_execute_result">
<pre>val coloriage_intervalles : intervalles -&gt; coloriage = &lt;fun&gt;
</pre>
</div>

</div>

</div>
</div>

</div>
<div class="cell border-box-sizing text_cell rendered"><div class="prompt input_prompt">
</div><div class="inner_cell">
<div class="text_cell_render border-box-sizing rendered_html">
<p>Une fois qu'on a un coloriage, à valeurs dans $0,\dots,k$ on récupère le nombre de couleurs comme $1 + \max c$, i.e., $k+1$.</p>

</div>
</div>
</div>
<div class="cell border-box-sizing code_cell rendered">
<div class="input">
<div class="prompt input_prompt">In&nbsp;[13]:</div>
<div class="inner_cell">
    <div class="input_area">
<div class=" highlight hl-OCaml"><pre><span></span><span class="k">let</span> <span class="n">max_valeurs</span> <span class="o">=</span> <span class="nn">List</span><span class="p">.</span><span class="n">fold_left</span> <span class="n">max</span> <span class="mi">0</span><span class="o">;;</span>
</pre></div>

    </div>
</div>
</div>

<div class="output_wrapper">
<div class="output">


<div class="output_area">

    <div class="prompt output_prompt">Out[13]:</div>




<div class="output_text output_subarea output_execute_result">
<pre>val max_valeurs : int list -&gt; int = &lt;fun&gt;
</pre>
</div>

</div>

</div>
</div>

</div>
<div class="cell border-box-sizing code_cell rendered">
<div class="input">
<div class="prompt input_prompt">In&nbsp;[14]:</div>
<div class="inner_cell">
    <div class="input_area">
<div class=" highlight hl-OCaml"><pre><span></span><span class="k">let</span> <span class="n">nombre_chromatique</span> <span class="o">(</span><span class="n">colorg</span> <span class="o">:</span> <span class="n">coloriage</span><span class="o">)</span> <span class="o">:</span> <span class="kt">int</span> <span class="o">=</span>
     <span class="mi">1</span> <span class="o">+</span> <span class="n">max_valeurs</span> <span class="o">(</span><span class="nn">List</span><span class="p">.</span><span class="n">map</span> <span class="n">snd</span> <span class="n">colorg</span><span class="o">)</span>
<span class="o">;;</span>
</pre></div>

    </div>
</div>
</div>

<div class="output_wrapper">
<div class="output">


<div class="output_area">

    <div class="prompt output_prompt">Out[14]:</div>




<div class="output_text output_subarea output_execute_result">
<pre>val nombre_chromatique : coloriage -&gt; int = &lt;fun&gt;
</pre>
</div>

</div>

</div>
</div>

</div>
<div class="cell border-box-sizing text_cell rendered"><div class="prompt input_prompt">
</div><div class="inner_cell">
<div class="text_cell_render border-box-sizing rendered_html">
<h3 id="Algorithme-pour-calculer-le-stable-maximum-d'un-graphe-d'intervalles">Algorithme pour calculer le <em>stable maximum</em> d'un graphe d'intervalles<a class="anchor-link" href="#Algorithme-pour-calculer-le-stable-maximum-d'un-graphe-d'intervalles">&#182;</a></h3><p>On répond ici à la question 7.</p>
<blockquote><p>« Proposer un algorithme efficace pour construire un stable maximum (i.e., un ensemble de sommets indépendants) d'un graphe d’intervalles dont on connaı̂t une représentation sous forme d'intervalles.
On pourra chercher à quelle condition l'intervalle dont l'extrémité droite est la plus à gauche appartient à un stable maximum. »</p>
</blockquote>

</div>
</div>
</div>
<div class="cell border-box-sizing text_cell rendered"><div class="prompt input_prompt">
</div><div class="inner_cell">
<div class="text_cell_render border-box-sizing rendered_html">
<p><strong>FIXME, je ne l'ai pas encore fait.</strong></p>

</div>
</div>
</div>
<div class="cell border-box-sizing text_cell rendered"><div class="prompt input_prompt">
</div><div class="inner_cell">
<div class="text_cell_render border-box-sizing rendered_html">
<hr>
<h2 id="Exemples">Exemples<a class="anchor-link" href="#Exemples">&#182;</a></h2><p>On traite ici l'exemple introductif, ainsi que les trois autres exemples proposés.</p>

</div>
</div>
</div>
<div class="cell border-box-sizing text_cell rendered"><div class="prompt input_prompt">
</div><div class="inner_cell">
<div class="text_cell_render border-box-sizing rendered_html">
<h3 id="Qui-a-tu&#233;-le-Duc-de-Densmore-?">Qui a tu&#233; le Duc de Densmore ?<a class="anchor-link" href="#Qui-a-tu&#233;-le-Duc-de-Densmore-?">&#182;</a></h3><blockquote><p>On ne rappelle pas le problème, mais les données :</p>
<ul>
<li>Ann dit avoir vu Betty, Cynthia, Emily, Felicia et Georgia.</li>
<li>Betty dit avoir vu Ann, Cynthia et Helen.</li>
<li>Cynthia dit avoir vu Ann, Betty, Diana, Emily et Helen.</li>
<li>Diana dit avoir vu Cynthia et Emily.</li>
<li>Emily dit avoir vu Ann, Cynthia, Diana et Felicia.</li>
<li>Felicia dit avoir vu Ann et Emily.</li>
<li>Georgia dit avoir vu Ann et Helen.</li>
<li>Helen dit avoir vu Betty, Cynthia et Georgia.</li>
</ul>
</blockquote>
<p>Transcrit sous forme de graphe, cela donne :</p>

</div>
</div>
</div>
<div class="cell border-box-sizing code_cell rendered">
<div class="input">
<div class="prompt input_prompt">In&nbsp;[15]:</div>
<div class="inner_cell">
    <div class="input_area">
<div class=" highlight hl-OCaml"><pre><span></span><span class="c">(* On définit des entiers, c&#39;est plus simple *)</span>
<span class="k">let</span> <span class="n">ann</span> <span class="o">=</span> <span class="mi">0</span>
<span class="ow">and</span> <span class="n">betty</span> <span class="o">=</span> <span class="mi">1</span>
<span class="ow">and</span> <span class="n">cynthia</span> <span class="o">=</span> <span class="mi">2</span>
<span class="ow">and</span> <span class="n">diana</span> <span class="o">=</span> <span class="mi">3</span>
<span class="ow">and</span> <span class="n">emily</span> <span class="o">=</span> <span class="mi">4</span>
<span class="ow">and</span> <span class="n">felicia</span> <span class="o">=</span> <span class="mi">5</span>
<span class="ow">and</span> <span class="n">georgia</span> <span class="o">=</span> <span class="mi">6</span>
<span class="ow">and</span> <span class="n">helen</span> <span class="o">=</span> <span class="mi">7</span><span class="o">;;</span>

<span class="k">let</span> <span class="n">graphe_densmore</span> <span class="o">=</span> <span class="o">[</span>
    <span class="o">[</span><span class="n">betty</span><span class="o">;</span> <span class="n">cynthia</span><span class="o">;</span> <span class="n">emily</span><span class="o">;</span> <span class="n">felicia</span><span class="o">;</span> <span class="n">georgia</span><span class="o">];</span>  <span class="c">(* Ann *)</span>
    <span class="o">[</span><span class="n">ann</span><span class="o">;</span> <span class="n">cynthia</span><span class="o">;</span> <span class="n">helen</span><span class="o">];</span> <span class="c">(* Betty *)</span>
    <span class="o">[</span><span class="n">ann</span><span class="o">;</span> <span class="n">betty</span><span class="o">;</span> <span class="n">diana</span><span class="o">;</span> <span class="n">emily</span><span class="o">;</span> <span class="n">helen</span><span class="o">];</span> <span class="c">(* Cynthia *)</span>
    <span class="o">[</span><span class="n">cynthia</span><span class="o">;</span> <span class="n">emily</span><span class="o">];</span> <span class="c">(* Diana *)</span>
    <span class="o">[</span><span class="n">ann</span><span class="o">;</span> <span class="n">cynthia</span><span class="o">;</span> <span class="n">diana</span><span class="o">;</span> <span class="n">felicia</span><span class="o">];</span> <span class="c">(* Emily *)</span>
    <span class="o">[</span><span class="n">ann</span><span class="o">;</span> <span class="n">emily</span><span class="o">];</span> <span class="c">(* Felicia *)</span>
    <span class="o">[</span><span class="n">ann</span><span class="o">;</span> <span class="n">helen</span><span class="o">];</span> <span class="c">(* Georgia *)</span>
    <span class="o">[</span><span class="n">betty</span><span class="o">;</span> <span class="n">cynthia</span><span class="o">;</span> <span class="n">georgia</span><span class="o">]</span> <span class="c">(* Helen *)</span>
<span class="o">];;</span>
</pre></div>

    </div>
</div>
</div>

<div class="output_wrapper">
<div class="output">


<div class="output_area">

    <div class="prompt output_prompt">Out[15]:</div>




<div class="output_text output_subarea output_execute_result">
<pre>val ann : int = 0
val betty : int = 1
val cynthia : int = 2
val diana : int = 3
val emily : int = 4
val felicia : int = 5
val georgia : int = 6
val helen : int = 7
</pre>
</div>

</div>

<div class="output_area">

    <div class="prompt output_prompt">Out[15]:</div>




<div class="output_text output_subarea output_execute_result">
<pre>val graphe_densmore : int list list =
  [[1; 2; 4; 5; 6]; [0; 2; 7]; [0; 1; 3; 4; 7]; [2; 4]; [0; 2; 3; 5]; 
   [0; 4]; [0; 7]; [1; 2; 6]]
</pre>
</div>

</div>

</div>
</div>

</div>
<div class="cell border-box-sizing text_cell rendered"><div class="prompt input_prompt">
</div><div class="inner_cell">
<div class="text_cell_render border-box-sizing rendered_html">
<p><img src="images/densmore.png" alt="images/densmore.png"></p>
<blockquote><p>Figure 1. Graphe d'intervalle pour le problème de l'assassinat du duc de Densmore.</p>
</blockquote>

</div>
</div>
</div>
<div class="cell border-box-sizing text_cell rendered"><div class="prompt input_prompt">
</div><div class="inner_cell">
<div class="text_cell_render border-box-sizing rendered_html">
<p>Avec les prénoms plutôt que des numéros, cela donne :</p>

</div>
</div>
</div>
<div class="cell border-box-sizing text_cell rendered"><div class="prompt input_prompt">
</div><div class="inner_cell">
<div class="text_cell_render border-box-sizing rendered_html">
<p><img src="images/densmore2.png" alt="images/densmore2.png"></p>
<blockquote><p>Figure 2. Graphe d'intervalle pour le problème de l'assassinat du duc de Densmore.</p>
</blockquote>

</div>
</div>
</div>
<div class="cell border-box-sizing text_cell rendered"><div class="prompt input_prompt">
</div><div class="inner_cell">
<div class="text_cell_render border-box-sizing rendered_html">
<h4 id="Comment-r&#233;soudre-ce-probl&#232;me-?">Comment r&#233;soudre ce probl&#232;me ?<a class="anchor-link" href="#Comment-r&#233;soudre-ce-probl&#232;me-?">&#182;</a></h4><blockquote><p>Il faut utiliser la caractérisation du théorème 2 du texte, et la définition des graphes parfaits.</p>
</blockquote>
<ul>
<li>Définition + Théorème 2 (point 1) :</li>
</ul>
<p>On sait qu'un graphe d'intervalle est parfait, et donc tous ses graphes induits le sont aussi.
La caractérisation via les cordes sur les cycles de taille $\geq 4$ permet de dire qu'un quadrilatère (cycle de taille $4$) n'est pas un graphe d'intervalle.
Donc un graphe qui contient un graphe induit étant un quadrilatère ne peut être un graphe d'intervalle.</p>
<p>Ainsi, sur cet exemple, comme on a deux quadrilatères $A B H G$ et $A G H C$, on en déduit que $A$, $G$, ou $H$ ont menti.</p>
<ul>
<li>Théorème 2 (point 2) :</li>
</ul>
<p>Ensuite, si on enlève $G$ ou $H$, le graphe ne devient pas un graphe d'intervalle, par les considérations suivantes, parce que son complémentaire n'est pas un graphe de comparaison.</p>
<p>En effet, par exemple si on enlève $G$, $A$ et $H$ et $D$ forment une clique dans le complémentaire $\overline{G}$ de $G$, et l'irréflexivité d'une éventuelle relation $R$ rend cela impossible. Pareil si on enlève $H$, avec $G$ et $B$ et $D$ qui formet une clique dans $\overline{G}$.</p>
<p>Par contre, si on enlève $A$, le graphe devient triangulé (et de comparaison, mais c'est plus dur à voir !).</p>
<p>Donc seule $A$ reste comme potentielle menteuse.</p>

</div>
</div>
</div>
<div class="cell border-box-sizing text_cell rendered"><div class="prompt input_prompt">
</div><div class="inner_cell">
<div class="text_cell_render border-box-sizing rendered_html">
<blockquote><p>« Mais... Ça semble difficile de programmer une résolution automatique de ce problème ? »</p>
</blockquote>
<p>En fait, il suffit d'écrire une fonction de vérification qu'un graphe est un graphe d'intervalle, puis on essaie d'enlever chaque sommet, tant que le graphe n'est pas un graphe d'intervalle.</p>
<p>Si le graphe devient valide en enlevant un seul sommet, et qu'il n'y en a qu'un seul qui fonctionne, alors il y a un(e) seul(e) menteur(se) dans le graphe, et donc un(e) seul(e) coupable !</p>

</div>
</div>
</div>
<div class="cell border-box-sizing text_cell rendered"><div class="prompt input_prompt">
</div><div class="inner_cell">
<div class="text_cell_render border-box-sizing rendered_html">
<h4 id="Solution">Solution<a class="anchor-link" href="#Solution">&#182;</a></h4><p>C'est donc $A$, i.e., Ann l'unique menteuse et donc la coupable.</p>
<blockquote><p>Ce n'est pas grave de ne pas avoir réussi à répondre durant l'oral !
Au contraire, vous avez le droit de vous détacher du problème initial du texte !</p>
</blockquote>

</div>
</div>
</div>
<div class="cell border-box-sizing text_cell rendered"><div class="prompt input_prompt">
</div><div class="inner_cell">
<div class="text_cell_render border-box-sizing rendered_html">
<blockquote><p>Une solution bien expliquée peut être trouvée dans <a href="https://youtu.be/ZGhSyVvOelg">cette vidéo</a> :</p>
</blockquote>

</div>
</div>
</div>
<div class="cell border-box-sizing text_cell rendered"><div class="prompt input_prompt">
</div><div class="inner_cell">
<div class="text_cell_render border-box-sizing rendered_html">
<iframe width="640" height="360" src="https://www.youtube.com/embed/ZGhSyVvOelg" frameborder="1" allowfullscreen></iframe>
</div>
</div>
</div>
<div class="cell border-box-sizing text_cell rendered"><div class="prompt input_prompt">
</div><div class="inner_cell">
<div class="text_cell_render border-box-sizing rendered_html">
<h3 id="Le-probl&#232;me-des-frigos">Le probl&#232;me des frigos<a class="anchor-link" href="#Le-probl&#232;me-des-frigos">&#182;</a></h3><blockquote><p>Dans un grand hopital, les réductions de financement public poussent le gestionnaire du service d'immunologie à faire des économies sur le nombre de frigos à acheter pour stocker les vaccins. A peu de chose près, il lui faut stocker les vaccins suivants :</p>
<table>
<thead><tr>
<th style="text-align:center">Numéro</th>
<th style="text-align:left">Nom du vaccin</th>
<th style="text-align:right">Température de conservation</th>
</tr>
</thead>
<tbody>
<tr>
<td style="text-align:center">0</td>
<td style="text-align:left">Rougeole-Rubéole-Oreillons (RRO)</td>
<td style="text-align:right">$4 \cdots 12$ °C</td>
</tr>
<tr>
<td style="text-align:center">1</td>
<td style="text-align:left">BCG</td>
<td style="text-align:right">$8 \cdots 15$ °C</td>
</tr>
<tr>
<td style="text-align:center">2</td>
<td style="text-align:left">Di-Te-Per</td>
<td style="text-align:right">$0 \cdots 20$ °C</td>
</tr>
<tr>
<td style="text-align:center">3</td>
<td style="text-align:left">Anti-polio</td>
<td style="text-align:right">$2 \cdots 3$ °C</td>
</tr>
<tr>
<td style="text-align:center">4</td>
<td style="text-align:left">Anti-hépatite B</td>
<td style="text-align:right">$-3 \cdots 6$ °C</td>
</tr>
<tr>
<td style="text-align:center">5</td>
<td style="text-align:left">Anti-amarile</td>
<td style="text-align:right">$-10 \cdots 10$ °C</td>
</tr>
<tr>
<td style="text-align:center">6</td>
<td style="text-align:left">Variole</td>
<td style="text-align:right">$6 \cdots 20$ °C</td>
</tr>
<tr>
<td style="text-align:center">7</td>
<td style="text-align:left">Varicelle</td>
<td style="text-align:right">$-5 \cdots 2$ °C</td>
</tr>
<tr>
<td style="text-align:center">8</td>
<td style="text-align:left">Antihaemophilus</td>
<td style="text-align:right">$-2 \cdots 8$ °C</td>
</tr>
</tbody>
</table>
<p>Combien le gestionaire doit-il acheter de frigos, et sur quelles températures doit-il les régler ?</p>
</blockquote>

</div>
</div>
</div>
<div class="cell border-box-sizing code_cell rendered">
<div class="input">
<div class="prompt input_prompt">In&nbsp;[16]:</div>
<div class="inner_cell">
    <div class="input_area">
<div class=" highlight hl-OCaml"><pre><span></span><span class="k">let</span> <span class="n">vaccins</span> <span class="o">:</span> <span class="n">intervalles</span> <span class="o">=</span> <span class="o">[</span>
    <span class="o">(</span><span class="mi">4</span><span class="o">,</span> <span class="mi">12</span><span class="o">);</span>
    <span class="o">(</span><span class="mi">8</span><span class="o">,</span> <span class="mi">15</span><span class="o">);</span>
    <span class="o">(</span><span class="mi">0</span><span class="o">,</span> <span class="mi">20</span><span class="o">);</span>
    <span class="o">(</span><span class="mi">2</span><span class="o">,</span> <span class="mi">3</span><span class="o">);</span>
    <span class="o">(-</span><span class="mi">3</span><span class="o">,</span> <span class="mi">6</span><span class="o">);</span>
    <span class="o">(-</span><span class="mi">10</span><span class="o">,</span> <span class="mi">10</span><span class="o">);</span>
    <span class="o">(</span><span class="mi">6</span><span class="o">,</span> <span class="mi">20</span><span class="o">);</span>
    <span class="o">(-</span><span class="mi">5</span><span class="o">,</span> <span class="mi">2</span><span class="o">);</span>
    <span class="o">(-</span><span class="mi">2</span><span class="o">,</span> <span class="mi">8</span><span class="o">)</span>
<span class="o">]</span>
</pre></div>

    </div>
</div>
</div>

<div class="output_wrapper">
<div class="output">


<div class="output_area">

    <div class="prompt output_prompt">Out[16]:</div>




<div class="output_text output_subarea output_execute_result">
<pre>val vaccins : intervalles =
  [(4, 12); (8, 15); (0, 20); (2, 3); (-3, 6); (-10, 10); (6, 20); (-5, 2);
   (-2, 8)]
</pre>
</div>

</div>

</div>
</div>

</div>
<div class="cell border-box-sizing text_cell rendered"><div class="prompt input_prompt">
</div><div class="inner_cell">
<div class="text_cell_render border-box-sizing rendered_html">
<p>Qu'on peut visualiser sous forme de graphe facilement :</p>

</div>
</div>
</div>
<div class="cell border-box-sizing code_cell rendered">
<div class="input">
<div class="prompt input_prompt">In&nbsp;[17]:</div>
<div class="inner_cell">
    <div class="input_area">
<div class=" highlight hl-OCaml"><pre><span></span><span class="k">let</span> <span class="n">graphe_vaccins</span> <span class="o">=</span> <span class="n">graphe_depuis_intervalles</span> <span class="n">vaccins</span><span class="o">;;</span>
</pre></div>

    </div>
</div>
</div>

<div class="output_wrapper">
<div class="output">


<div class="output_area">

    <div class="prompt output_prompt">Out[17]:</div>




<div class="output_text output_subarea output_execute_result">
<pre>val graphe_vaccins : graphe_intervalle =
  [[1; 2; 4; 5; 6; 8]; [0; 2; 5; 6; 8]; [0; 1; 3; 4; 5; 6; 7; 8];
   [2; 4; 5; 7; 8]; [0; 2; 3; 5; 6; 7; 8]; [0; 1; 2; 3; 4; 6; 7; 8];
   [0; 1; 2; 4; 5; 8]; [2; 3; 4; 5; 8]; [0; 1; 2; 3; 4; 5; 6; 7]]
</pre>
</div>

</div>

</div>
</div>

</div>
<div class="cell border-box-sizing text_cell rendered"><div class="prompt input_prompt">
</div><div class="inner_cell">
<div class="text_cell_render border-box-sizing rendered_html">
<p><img src="images/vaccins.png" alt="images/vaccins.png"></p>
<blockquote><p>Figure 3. Graphe d'intervalle pour le problème des frigos et des vaccins.</p>
</blockquote>

</div>
</div>
</div>
<div class="cell border-box-sizing text_cell rendered"><div class="prompt input_prompt">
</div><div class="inner_cell">
<div class="text_cell_render border-box-sizing rendered_html">
<p>Avec des intervalles au lieu de numéro :</p>

</div>
</div>
</div>
<div class="cell border-box-sizing text_cell rendered"><div class="prompt input_prompt">
</div><div class="inner_cell">
<div class="text_cell_render border-box-sizing rendered_html">
<p><img src="images/vaccins2.png" alt="images/vaccins2.png"></p>
<blockquote><p>Figure 4. Graphe d'intervalle pour le problème des frigos et des vaccins.</p>
</blockquote>

</div>
</div>
</div>
<div class="cell border-box-sizing text_cell rendered"><div class="prompt input_prompt">
</div><div class="inner_cell">
<div class="text_cell_render border-box-sizing rendered_html">
<p>On peut récupérer une coloriage minimal pour ce graphe :</p>

</div>
</div>
</div>
<div class="cell border-box-sizing code_cell rendered">
<div class="input">
<div class="prompt input_prompt">In&nbsp;[18]:</div>
<div class="inner_cell">
    <div class="input_area">
<div class=" highlight hl-OCaml"><pre><span></span><span class="n">coloriage_intervalles</span> <span class="n">vaccins</span><span class="o">;;</span>
</pre></div>

    </div>
</div>
</div>

<div class="output_wrapper">
<div class="output">


<div class="output_area">

    <div class="prompt output_prompt">Out[18]:</div>




<div class="output_text output_subarea output_execute_result">
<pre>- : coloriage =
[((4, 12), 1); ((8, 15), 2); ((0, 20), 4); ((2, 3), 5); ((-3, 6), 2);
 ((-10, 10), 0); ((6, 20), 5); ((-5, 2), 1); ((-2, 8), 3)]
</pre>
</div>

</div>

</div>
</div>

</div>
<div class="cell border-box-sizing text_cell rendered"><div class="prompt input_prompt">
</div><div class="inner_cell">
<div class="text_cell_render border-box-sizing rendered_html">
<p>La couleur la plus grande est <code>5</code>, donc le nombre chromatique de ce graphe est <code>6</code>.</p>

</div>
</div>
</div>
<div class="cell border-box-sizing code_cell rendered">
<div class="input">
<div class="prompt input_prompt">In&nbsp;[19]:</div>
<div class="inner_cell">
    <div class="input_area">
<div class=" highlight hl-OCaml"><pre><span></span><span class="n">nombre_chromatique</span> <span class="o">(</span><span class="n">coloriage_intervalles</span> <span class="n">vaccins</span><span class="o">);;</span>
</pre></div>

    </div>
</div>
</div>

<div class="output_wrapper">
<div class="output">


<div class="output_area">

    <div class="prompt output_prompt">Out[19]:</div>




<div class="output_text output_subarea output_execute_result">
<pre>- : int = 6
</pre>
</div>

</div>

</div>
</div>

</div>
<div class="cell border-box-sizing text_cell rendered"><div class="prompt input_prompt">
</div><div class="inner_cell">
<div class="text_cell_render border-box-sizing rendered_html">
<p>Par contre, la solution au problème des frigos et des vaccins réside dans le nombre de couverture de cliques, $k(G)$, pas dans le nombre chromatique $\chi(G)$.</p>
<p>On peut le résoudre en répondant à la question 7, qui demandait de mettre au point un algorithme pour construire un <em>stable maximum</em> pour un graphe d'intervalle.</p>

</div>
</div>
</div>
<div class="cell border-box-sizing text_cell rendered"><div class="prompt input_prompt">
</div><div class="inner_cell">
<div class="text_cell_render border-box-sizing rendered_html">
<h3 id="Le-probl&#232;me-du-CSA">Le probl&#232;me du CSA<a class="anchor-link" href="#Le-probl&#232;me-du-CSA">&#182;</a></h3><blockquote><p>Le Conseil Supérieur de l’Audiovisuel doit attribuer de nouvelles bandes de fréquences d’émission pour la stéréophonie numérique sous-terraine (SNS).
Cette technologie de pointe étant encore à l'état expérimental, les appareils capables d'émettre ne peuvent utiliser que les bandes de fréquences FM suivantes :</p>
<table>
<thead><tr>
<th style="text-align:center">Bandes de fréquence</th>
<th style="text-align:right">Intervalle (kHz)</th>
</tr>
</thead>
<tbody>
<tr>
<td style="text-align:center">0</td>
<td style="text-align:right">$32 \cdots 36$</td>
</tr>
<tr>
<td style="text-align:center">1</td>
<td style="text-align:right">$24 \cdots 30$</td>
</tr>
<tr>
<td style="text-align:center">2</td>
<td style="text-align:right">$28 \cdots 33$</td>
</tr>
<tr>
<td style="text-align:center">3</td>
<td style="text-align:right">$22 \cdots 26$</td>
</tr>
<tr>
<td style="text-align:center">4</td>
<td style="text-align:right">$20 \cdots 25$</td>
</tr>
<tr>
<td style="text-align:center">5</td>
<td style="text-align:right">$30 \cdots 33$</td>
</tr>
<tr>
<td style="text-align:center">6</td>
<td style="text-align:right">$31 \cdots 34$</td>
</tr>
<tr>
<td style="text-align:center">7</td>
<td style="text-align:right">$27 \cdots 31$</td>
</tr>
</tbody>
</table>
<p>Quelles bandes de fréquences doit-on retenir pour permettre à le plus d'appareils possibles d'être utilisés, sachant que deux appareils dont les bandes de fréquences s'intersectent pleinement (pas juste sur les extrémités) sont incompatibles.</p>
</blockquote>

</div>
</div>
</div>
<div class="cell border-box-sizing code_cell rendered">
<div class="input">
<div class="prompt input_prompt">In&nbsp;[20]:</div>
<div class="inner_cell">
    <div class="input_area">
<div class=" highlight hl-OCaml"><pre><span></span><span class="k">let</span> <span class="n">csa</span> <span class="o">:</span> <span class="n">intervalles</span> <span class="o">=</span> <span class="o">[</span>
    <span class="o">(</span><span class="mi">32</span><span class="o">,</span> <span class="mi">36</span><span class="o">);</span>
    <span class="o">(</span><span class="mi">24</span><span class="o">,</span> <span class="mi">30</span><span class="o">);</span>
    <span class="o">(</span><span class="mi">28</span><span class="o">,</span> <span class="mi">33</span><span class="o">);</span>
    <span class="o">(</span><span class="mi">22</span><span class="o">,</span> <span class="mi">26</span><span class="o">);</span>
    <span class="o">(</span><span class="mi">20</span><span class="o">,</span> <span class="mi">25</span><span class="o">);</span>
    <span class="o">(</span><span class="mi">30</span><span class="o">,</span> <span class="mi">33</span><span class="o">);</span>
    <span class="o">(</span><span class="mi">31</span><span class="o">,</span> <span class="mi">34</span><span class="o">);</span>
    <span class="o">(</span><span class="mi">27</span><span class="o">,</span> <span class="mi">31</span><span class="o">)</span>
<span class="o">];;</span>
</pre></div>

    </div>
</div>
</div>

<div class="output_wrapper">
<div class="output">


<div class="output_area">

    <div class="prompt output_prompt">Out[20]:</div>




<div class="output_text output_subarea output_execute_result">
<pre>val csa : intervalles =
  [(32, 36); (24, 30); (28, 33); (22, 26); (20, 25); (30, 33); (31, 34);
   (27, 31)]
</pre>
</div>

</div>

</div>
</div>

</div>
<div class="cell border-box-sizing code_cell rendered">
<div class="input">
<div class="prompt input_prompt">In&nbsp;[21]:</div>
<div class="inner_cell">
    <div class="input_area">
<div class=" highlight hl-OCaml"><pre><span></span><span class="k">let</span> <span class="n">graphe_csa</span> <span class="o">=</span> <span class="n">graphe_depuis_intervalles</span> <span class="n">csa</span><span class="o">;;</span>
</pre></div>

    </div>
</div>
</div>

<div class="output_wrapper">
<div class="output">


<div class="output_area">

    <div class="prompt output_prompt">Out[21]:</div>




<div class="output_text output_subarea output_execute_result">
<pre>val graphe_csa : graphe_intervalle =
  [[2; 5; 6]; [2; 3; 4; 5; 7]; [0; 1; 5; 6; 7]; [1; 4]; [1; 3];
   [0; 1; 2; 6; 7]; [0; 2; 5; 7]; [1; 2; 5; 6]]
</pre>
</div>

</div>

</div>
</div>

</div>
<div class="cell border-box-sizing text_cell rendered"><div class="prompt input_prompt">
</div><div class="inner_cell">
<div class="text_cell_render border-box-sizing rendered_html">
<p><img src="images/csa.png" alt="images/csa.png"></p>
<blockquote><p>Figure 5. Graphe d'intervalle pour le problème du CSA.</p>
</blockquote>

</div>
</div>
</div>
<div class="cell border-box-sizing text_cell rendered"><div class="prompt input_prompt">
</div><div class="inner_cell">
<div class="text_cell_render border-box-sizing rendered_html">
<p>Avec des intervalles au lieu de numéro :</p>

</div>
</div>
</div>
<div class="cell border-box-sizing text_cell rendered"><div class="prompt input_prompt">
</div><div class="inner_cell">
<div class="text_cell_render border-box-sizing rendered_html">
<p><img src="images/csa2.png" alt="images/csa2.png"></p>
<blockquote><p>Figure 6. Graphe d'intervalle pour le problème du CSA.</p>
</blockquote>

</div>
</div>
</div>
<div class="cell border-box-sizing text_cell rendered"><div class="prompt input_prompt">
</div><div class="inner_cell">
<div class="text_cell_render border-box-sizing rendered_html">
<p>On peut récupérer une coloriage minimal pour ce graphe :</p>

</div>
</div>
</div>
<div class="cell border-box-sizing code_cell rendered">
<div class="input">
<div class="prompt input_prompt">In&nbsp;[22]:</div>
<div class="inner_cell">
    <div class="input_area">
<div class=" highlight hl-OCaml"><pre><span></span><span class="n">coloriage_intervalles</span> <span class="n">csa</span><span class="o">;;</span>
</pre></div>

    </div>
</div>
</div>

<div class="output_wrapper">
<div class="output">


<div class="output_area">

    <div class="prompt output_prompt">Out[22]:</div>




<div class="output_text output_subarea output_execute_result">
<pre>- : coloriage =
[((32, 36), 0); ((24, 30), 2); ((28, 33), 1); ((22, 26), 1); ((20, 25), 0);
 ((30, 33), 3); ((31, 34), 2); ((27, 31), 0)]
</pre>
</div>

</div>

</div>
</div>

</div>
<div class="cell border-box-sizing text_cell rendered"><div class="prompt input_prompt">
</div><div class="inner_cell">
<div class="text_cell_render border-box-sizing rendered_html">
<p>La couleur la plus grande est <code>3</code>, donc le nombre chromatique de ce graphe est <code>4</code>.</p>

</div>
</div>
</div>
<div class="cell border-box-sizing code_cell rendered">
<div class="input">
<div class="prompt input_prompt">In&nbsp;[23]:</div>
<div class="inner_cell">
    <div class="input_area">
<div class=" highlight hl-OCaml"><pre><span></span><span class="n">nombre_chromatique</span> <span class="o">(</span><span class="n">coloriage_intervalles</span> <span class="n">csa</span><span class="o">);;</span>
</pre></div>

    </div>
</div>
</div>

<div class="output_wrapper">
<div class="output">


<div class="output_area">

    <div class="prompt output_prompt">Out[23]:</div>




<div class="output_text output_subarea output_execute_result">
<pre>- : int = 4
</pre>
</div>

</div>

</div>
</div>

</div>
<div class="cell border-box-sizing text_cell rendered"><div class="prompt input_prompt">
</div><div class="inner_cell">
<div class="text_cell_render border-box-sizing rendered_html">
<p>Par contre, la solution au problème CSA réside dans le nombre de couverture de cliques, $k(G)$, pas dans le nombre chromatique $\chi(G)$.</p>
<p>On peut le résoudre en répondant à la question 7, qui demandait de mettre au point un algorithme pour construire un <em>stable maximum</em> pour un graphe d'intervalle.</p>

</div>
</div>
</div>
<div class="cell border-box-sizing text_cell rendered"><div class="prompt input_prompt">
</div><div class="inner_cell">
<div class="text_cell_render border-box-sizing rendered_html">
<h3 id="Le-probl&#232;me-du-wagon-restaurant">Le probl&#232;me du wagon restaurant<a class="anchor-link" href="#Le-probl&#232;me-du-wagon-restaurant">&#182;</a></h3><blockquote><p>Le chef de train de l'Orient Express doit aménager le wagon restaurant avant le départ du train. Ce wagon est assez petit et doit être le moins encombré de tables possibles, mais il faut prévoir suffisemment de tables pour accueillir toutes personnes qui ont réservé :</p>
<table>
<thead><tr>
<th style="text-align:left">Numéro</th>
<th>Personnage(s)</th>
<th style="text-align:center">Heures de dîner</th>
<th style="text-align:center">En secondes</th>
</tr>
</thead>
<tbody>
<tr>
<td style="text-align:left">0</td>
<td>Le baron et la baronne Von Haussplatz</td>
<td style="text-align:center">19h30 .. 20h14</td>
<td style="text-align:center">$1170 \cdots 1214$</td>
</tr>
<tr>
<td style="text-align:left">1</td>
<td>Le général Cook</td>
<td style="text-align:center">20h30 .. 21h59</td>
<td style="text-align:center">$1230 \cdots 1319$</td>
</tr>
<tr>
<td style="text-align:left">2</td>
<td>Les époux Steinberg</td>
<td style="text-align:center">19h .. 19h59</td>
<td style="text-align:center">$1140 \cdots 1199$</td>
</tr>
<tr>
<td style="text-align:left">3</td>
<td>La duchesse de Colombart</td>
<td style="text-align:center">20h15 .. 20h59</td>
<td style="text-align:center">$1215 \cdots 1259$</td>
</tr>
<tr>
<td style="text-align:left">4</td>
<td>Le marquis de Carquamba</td>
<td style="text-align:center">21h .. 21h59</td>
<td style="text-align:center">$1260 \cdots 1319$</td>
</tr>
<tr>
<td style="text-align:left">5</td>
<td>La Vociafiore</td>
<td style="text-align:center">19h15 .. 20h29</td>
<td style="text-align:center">$1155 \cdots 1229$</td>
</tr>
<tr>
<td style="text-align:left">6</td>
<td>Le colonel Ferdinand</td>
<td style="text-align:center">20h .. 20h59</td>
<td style="text-align:center">$1200 \cdots 1259$</td>
</tr>
</tbody>
</table>
<p>Combien de tables le chef de train doit-il prévoir ?</p>
</blockquote>

</div>
</div>
</div>
<div class="cell border-box-sizing code_cell rendered">
<div class="input">
<div class="prompt input_prompt">In&nbsp;[24]:</div>
<div class="inner_cell">
    <div class="input_area">
<div class=" highlight hl-OCaml"><pre><span></span><span class="k">let</span> <span class="n">restaurant</span> <span class="o">=</span> <span class="o">[</span>
    <span class="o">(</span><span class="mi">1170</span><span class="o">,</span> <span class="mi">1214</span><span class="o">);</span>
    <span class="o">(</span><span class="mi">1230</span><span class="o">,</span> <span class="mi">1319</span><span class="o">);</span>
    <span class="o">(</span><span class="mi">1140</span><span class="o">,</span> <span class="mi">1199</span><span class="o">);</span>
    <span class="o">(</span><span class="mi">1215</span><span class="o">,</span> <span class="mi">1259</span><span class="o">);</span>
    <span class="o">(</span><span class="mi">1260</span><span class="o">,</span> <span class="mi">1319</span><span class="o">);</span>
    <span class="o">(</span><span class="mi">1155</span><span class="o">,</span> <span class="mi">1229</span><span class="o">);</span>
    <span class="o">(</span><span class="mi">1200</span><span class="o">,</span> <span class="mi">1259</span><span class="o">)</span>
<span class="o">];;</span>
</pre></div>

    </div>
</div>
</div>

<div class="output_wrapper">
<div class="output">


<div class="output_area">

    <div class="prompt output_prompt">Out[24]:</div>




<div class="output_text output_subarea output_execute_result">
<pre>val restaurant : (int * int) list =
  [(1170, 1214); (1230, 1319); (1140, 1199); (1215, 1259); (1260, 1319);
   (1155, 1229); (1200, 1259)]
</pre>
</div>

</div>

</div>
</div>

</div>
<div class="cell border-box-sizing code_cell rendered">
<div class="input">
<div class="prompt input_prompt">In&nbsp;[25]:</div>
<div class="inner_cell">
    <div class="input_area">
<div class=" highlight hl-OCaml"><pre><span></span><span class="k">let</span> <span class="n">graphe_restaurant</span> <span class="o">=</span> <span class="n">graphe_depuis_intervalles</span> <span class="n">restaurant</span><span class="o">;;</span>
</pre></div>

    </div>
</div>
</div>

<div class="output_wrapper">
<div class="output">


<div class="output_area">

    <div class="prompt output_prompt">Out[25]:</div>




<div class="output_text output_subarea output_execute_result">
<pre>val graphe_restaurant : graphe_intervalle =
  [[2; 5; 6]; [3; 4; 6]; [0; 5]; [1; 5; 6]; [1]; [0; 2; 3; 6]; [0; 1; 3; 5]]
</pre>
</div>

</div>

</div>
</div>

</div>
<div class="cell border-box-sizing text_cell rendered"><div class="prompt input_prompt">
</div><div class="inner_cell">
<div class="text_cell_render border-box-sizing rendered_html">
<p><img src="images/restaurant.png" alt="images/restaurant.png"></p>
<blockquote><p>Figure 7. Graphe d'intervalle pour le problème du wagon restaurant.</p>
</blockquote>

</div>
</div>
</div>
<div class="cell border-box-sizing text_cell rendered"><div class="prompt input_prompt">
</div><div class="inner_cell">
<div class="text_cell_render border-box-sizing rendered_html">
<p>Avec des intervalles au lieu de numéro :</p>

</div>
</div>
</div>
<div class="cell border-box-sizing text_cell rendered"><div class="prompt input_prompt">
</div><div class="inner_cell">
<div class="text_cell_render border-box-sizing rendered_html">
<p><img src="images/restaurant2.png" alt="images/restaurant2.png"></p>
<blockquote><p>Figure 8. Graphe d'intervalle pour le problème du wagon restaurant.</p>
</blockquote>

</div>
</div>
</div>
<div class="cell border-box-sizing code_cell rendered">
<div class="input">
<div class="prompt input_prompt">In&nbsp;[26]:</div>
<div class="inner_cell">
    <div class="input_area">
<div class=" highlight hl-OCaml"><pre><span></span><span class="n">coloriage_intervalles</span> <span class="n">restaurant</span><span class="o">;;</span>
</pre></div>

    </div>
</div>
</div>

<div class="output_wrapper">
<div class="output">


<div class="output_area">

    <div class="prompt output_prompt">Out[26]:</div>




<div class="output_text output_subarea output_execute_result">
<pre>- : coloriage =
[((1170, 1214), 2); ((1230, 1319), 1); ((1140, 1199), 0); ((1215, 1259), 2);
 ((1260, 1319), 0); ((1155, 1229), 1); ((1200, 1259), 0)]
</pre>
</div>

</div>

</div>
</div>

</div>
<div class="cell border-box-sizing text_cell rendered"><div class="prompt input_prompt">
</div><div class="inner_cell">
<div class="text_cell_render border-box-sizing rendered_html">
<p>La couleur la plus grande est <code>2</code>, donc le nombre chromatique de ce graphe est <code>3</code>.</p>

</div>
</div>
</div>
<div class="cell border-box-sizing code_cell rendered">
<div class="input">
<div class="prompt input_prompt">In&nbsp;[27]:</div>
<div class="inner_cell">
    <div class="input_area">
<div class=" highlight hl-OCaml"><pre><span></span><span class="n">nombre_chromatique</span> <span class="o">(</span><span class="n">coloriage_intervalles</span> <span class="n">restaurant</span><span class="o">);;</span>
</pre></div>

    </div>
</div>
</div>

<div class="output_wrapper">
<div class="output">


<div class="output_area">

    <div class="prompt output_prompt">Out[27]:</div>




<div class="output_text output_subarea output_execute_result">
<pre>- : int = 3
</pre>
</div>

</div>

</div>
</div>

</div>
<div class="cell border-box-sizing text_cell rendered"><div class="prompt input_prompt">
</div><div class="inner_cell">
<div class="text_cell_render border-box-sizing rendered_html">
<h4 id="Solution-via-l'algorithme-de-coloriage-de-graphe-d'intervalles">Solution via l'algorithme de coloriage de graphe d'intervalles<a class="anchor-link" href="#Solution-via-l'algorithme-de-coloriage-de-graphe-d'intervalles">&#182;</a></h4><p>Pour ce problème là, la solution est effectivement donnée par le nombre chromatique.</p>
<p>La couleur sera le numéro de table pour chaque passagers (ou couple de passagers), et donc le nombre minimal de table à installer dans le wagon restaurant est exactement le nombre chromatique.</p>
<p>Une solution peut être la suivante, avec <strong>3 tables</strong> :</p>
<table>
<thead><tr>
<th style="text-align:left">Numéro</th>
<th>Personnage(s)</th>
<th style="text-align:center">Heures de dîner</th>
<th style="text-align:center">Numéro de table</th>
</tr>
</thead>
<tbody>
<tr>
<td style="text-align:left">0</td>
<td>Le baron et la baronne Von Haussplatz</td>
<td style="text-align:center">19h30 .. 20h14</td>
<td style="text-align:center">2</td>
</tr>
<tr>
<td style="text-align:left">1</td>
<td>Le général Cook</td>
<td style="text-align:center">20h30 .. 21h59</td>
<td style="text-align:center">1</td>
</tr>
<tr>
<td style="text-align:left">2</td>
<td>Les époux Steinberg</td>
<td style="text-align:center">19h .. 19h59</td>
<td style="text-align:center">0</td>
</tr>
<tr>
<td style="text-align:left">3</td>
<td>La duchesse de Colombart</td>
<td style="text-align:center">20h15 .. 20h59</td>
<td style="text-align:center">2</td>
</tr>
<tr>
<td style="text-align:left">4</td>
<td>Le marquis de Carquamba</td>
<td style="text-align:center">21h .. 21h59</td>
<td style="text-align:center">0</td>
</tr>
<tr>
<td style="text-align:left">5</td>
<td>La Vociafiore</td>
<td style="text-align:center">19h15 .. 20h29</td>
<td style="text-align:center">1</td>
</tr>
<tr>
<td style="text-align:left">6</td>
<td>Le colonel Ferdinand</td>
<td style="text-align:center">20h .. 20h59</td>
<td style="text-align:center">0</td>
</tr>
</tbody>
</table>
<p>On vérifie manuellement que la solution convient.
Chaque passager devra quitter sa tableau à la minute près par contre !</p>

</div>
</div>
</div>
<div class="cell border-box-sizing text_cell rendered"><div class="prompt input_prompt">
</div><div class="inner_cell">
<div class="text_cell_render border-box-sizing rendered_html">
<p>On peut afficher la solution avec un graphe colorié.
La table <code>0</code> sera <span style="color:red;">rouge</span>, <code>1</code> sera <span style="color:blue;">bleu</span> et <code>2</code> sera <span style="color:yellow;">jaune</span> :</p>

</div>
</div>
</div>
<div class="cell border-box-sizing text_cell rendered"><div class="prompt input_prompt">
</div><div class="inner_cell">
<div class="text_cell_render border-box-sizing rendered_html">
<p><img src="images/restaurant3.png" alt="images/restaurant3.png"></p>
<blockquote><p>Figure 9. Solution pour le problème du wagon restaurant.</p>
</blockquote>

</div>
</div>
</div>
<div class="cell border-box-sizing text_cell rendered"><div class="prompt input_prompt">
</div><div class="inner_cell">
<div class="text_cell_render border-box-sizing rendered_html">
<hr>
<h2 id="Bonus-?">Bonus ?<a class="anchor-link" href="#Bonus-?">&#182;</a></h2>
</div>
</div>
</div>
<div class="cell border-box-sizing text_cell rendered"><div class="prompt input_prompt">
</div><div class="inner_cell">
<div class="text_cell_render border-box-sizing rendered_html">
<h3 id="Visualisation-des-graphes-d&#233;finis-dans-les-exemples">Visualisation des graphes d&#233;finis dans les exemples<a class="anchor-link" href="#Visualisation-des-graphes-d&#233;finis-dans-les-exemples">&#182;</a></h3><ul>
<li>J'utilise une petite fonction facile à écrire, qui convertit un graphe (<code>int list list</code>) en une chaîne de caractère au format <a href="https://www.graphviz.org/doc/info/lang.html">DOT Graph</a>.</li>
<li>Ensuite, un appel <code>dot -Tpng ...</code> en ligne de commande convertit ce graphe en une image, que j'inclus ensuite manuellement.</li>
</ul>

</div>
</div>
</div>
<div class="cell border-box-sizing code_cell rendered">
<div class="input">
<div class="prompt input_prompt">In&nbsp;[30]:</div>
<div class="inner_cell">
    <div class="input_area">
<div class=" highlight hl-OCaml"><pre><span></span><span class="c">(** Transforme un [graph] en une chaîne représentant un graphe décrit par le langage DOT,</span>
<span class="c">    voir http://en.wikipedia.org/wiki/DOT_language pour plus de détails sur ce langage.</span>

<span class="c">    @param graphname Donne le nom du graphe tel que précisé pour DOT</span>
<span class="c">    @param directed Vrai si le graphe doit être dirigé (c&#39;est le cas ici) faux sinon. Change le style des arêtes ([-&gt;] ou [--])</span>
<span class="c">    @param verb Affiche tout dans le terminal.</span>
<span class="c">    @param onetoone Si on veut afficher le graphe en mode carré (échelle 1:1). Parfois bizarre, parfois génial.</span>
<span class="c">*)</span>
<span class="k">let</span> <span class="n">graph_to_dotgraph</span> <span class="o">?(</span><span class="n">graphname</span> <span class="o">=</span> <span class="s2">&quot;graphname&quot;</span><span class="o">)</span> <span class="o">?(</span><span class="n">directed</span> <span class="o">=</span> <span class="bp">false</span><span class="o">)</span> <span class="o">?(</span><span class="n">verb</span> <span class="o">=</span> <span class="bp">false</span><span class="o">)</span> <span class="o">?(</span><span class="n">onetoone</span> <span class="o">=</span> <span class="bp">false</span><span class="o">)</span> <span class="o">(</span><span class="n">glist</span> <span class="o">:</span> <span class="kt">int</span> <span class="kt">list</span> <span class="kt">list</span><span class="o">)</span> <span class="o">=</span>
    <span class="k">let</span> <span class="n">res</span> <span class="o">=</span> <span class="n">ref</span> <span class="s2">&quot;&quot;</span> <span class="k">in</span>
    <span class="k">let</span> <span class="n">log</span> <span class="n">s</span> <span class="o">=</span>
        <span class="k">if</span> <span class="n">verb</span> <span class="k">then</span> <span class="n">print_string</span> <span class="n">s</span><span class="o">;</span> <span class="c">(* Si [verb] affiche dans le terminal le résultat du graphe. *)</span>
        <span class="n">res</span> <span class="o">:=</span> <span class="o">!</span><span class="n">res</span> <span class="o">^</span> <span class="n">s</span>
    <span class="k">in</span>
    <span class="n">log</span> <span class="o">(</span><span class="k">if</span> <span class="n">directed</span> <span class="k">then</span> <span class="s2">&quot;digraph &quot;</span> <span class="k">else</span> <span class="s2">&quot;graph &quot;</span><span class="o">);</span>
    <span class="n">log</span> <span class="n">graphname</span><span class="o">;</span> <span class="n">log</span> <span class="s2">&quot; {&quot;</span><span class="o">;</span>
    <span class="k">if</span> <span class="n">onetoone</span> <span class="k">then</span>
        <span class="n">log</span> <span class="s2">&quot;</span><span class="se">\n</span><span class="s2">   size=</span><span class="se">\&quot;</span><span class="s2">1,1</span><span class="se">\&quot;</span><span class="s2">;&quot;</span><span class="o">;</span>
    <span class="k">let</span> <span class="n">g</span> <span class="o">=</span> <span class="nn">Array</span><span class="p">.</span><span class="n">of_list</span> <span class="o">(</span><span class="nn">List</span><span class="p">.</span><span class="n">map</span> <span class="nn">Array</span><span class="p">.</span><span class="n">of_list</span> <span class="n">glist</span><span class="o">)</span> <span class="k">in</span>
    <span class="c">(* On affiche directement les arc, un à un. *)</span>
    <span class="k">for</span> <span class="n">i</span> <span class="o">=</span> <span class="mi">0</span> <span class="k">to</span> <span class="o">(</span><span class="nn">Array</span><span class="p">.</span><span class="n">length</span> <span class="n">g</span><span class="o">)</span> <span class="o">-</span> <span class="mi">1</span> <span class="k">do</span>
        <span class="k">for</span> <span class="n">j</span> <span class="o">=</span> <span class="mi">0</span> <span class="k">to</span> <span class="o">(</span><span class="nn">Array</span><span class="p">.</span><span class="n">length</span> <span class="n">g</span><span class="o">.(</span><span class="n">i</span><span class="o">))</span> <span class="o">-</span> <span class="mi">1</span> <span class="k">do</span>
            <span class="k">if</span> <span class="n">i</span> <span class="o">&lt;</span> <span class="n">g</span><span class="o">.(</span><span class="n">i</span><span class="o">).(</span><span class="n">j</span><span class="o">)</span> <span class="k">then</span>
                <span class="n">log</span> <span class="o">(</span><span class="s2">&quot;</span><span class="se">\n</span><span class="s2">   </span><span class="se">\&quot;</span><span class="s2">&quot;</span>
                <span class="o">^</span> <span class="o">(</span><span class="n">string_of_int</span> <span class="n">i</span><span class="o">)</span> <span class="o">^</span> <span class="s2">&quot;</span><span class="se">\&quot;</span><span class="s2"> &quot;</span>
                <span class="o">^</span> <span class="o">(</span><span class="k">if</span> <span class="n">directed</span> <span class="k">then</span> <span class="s2">&quot;-&gt;&quot;</span> <span class="k">else</span> <span class="s2">&quot;--&quot;</span><span class="o">)</span>
                <span class="o">^</span> <span class="s2">&quot; </span><span class="se">\&quot;</span><span class="s2">&quot;</span> <span class="o">^</span> <span class="o">(</span><span class="n">string_of_int</span> <span class="n">g</span><span class="o">.(</span><span class="n">i</span><span class="o">).(</span><span class="n">j</span><span class="o">))</span> <span class="o">^</span> <span class="s2">&quot;</span><span class="se">\&quot;</span><span class="s2">&quot;</span>
                <span class="o">);</span>
        <span class="k">done</span><span class="o">;</span>
    <span class="k">done</span><span class="o">;</span>
    <span class="n">log</span> <span class="s2">&quot;</span><span class="se">\n</span><span class="s2">}</span><span class="se">\n</span><span class="s2">// generated by OCaml with the function graphe_to_dotgraph.&quot;</span><span class="o">;</span>
<span class="o">!</span><span class="n">res</span><span class="o">;;</span>
</pre></div>

    </div>
</div>
</div>

<div class="output_wrapper">
<div class="output">


<div class="output_area">

    <div class="prompt output_prompt">Out[30]:</div>




<div class="output_text output_subarea output_execute_result">
<pre>val graph_to_dotgraph :
  ?graphname:string -&gt;
  ?directed:bool -&gt; ?verb:bool -&gt; ?onetoone:bool -&gt; int list list -&gt; string =
  &lt;fun&gt;
</pre>
</div>

</div>

</div>
</div>

</div>
<div class="cell border-box-sizing code_cell rendered">
<div class="input">
<div class="prompt input_prompt">In&nbsp;[29]:</div>
<div class="inner_cell">
    <div class="input_area">
<div class=" highlight hl-OCaml"><pre><span></span><span class="c">(** Fonction ecrire_sortie : plus pratique que output. *)</span>
<span class="k">let</span> <span class="n">ecrire_sortie</span> <span class="n">monoutchanel</span> <span class="n">machaine</span> <span class="o">=</span>
    <span class="n">output</span> <span class="n">monoutchanel</span> <span class="n">machaine</span> <span class="mi">0</span> <span class="o">(</span><span class="nn">String</span><span class="p">.</span><span class="n">length</span> <span class="n">machaine</span><span class="o">);</span>
    <span class="n">flush</span> <span class="n">monoutchanel</span><span class="o">;;</span>

<span class="c">(** Fonction ecrire_dans_fichier : pour écrire la chaine dans le fichier à l&#39;adresse renseignée. *)</span>
<span class="k">let</span> <span class="n">ecrire_dans_fichier</span> <span class="o">~</span><span class="n">chaine</span> <span class="o">~</span><span class="n">adresse</span> <span class="o">=</span>
    <span class="k">let</span> <span class="n">mon_out_channel</span> <span class="o">=</span> <span class="n">open_out</span> <span class="n">adresse</span> <span class="k">in</span>
    <span class="n">ecrire_sortie</span> <span class="n">mon_out_channel</span> <span class="n">chaine</span><span class="o">;</span>
    <span class="n">close_out</span> <span class="n">mon_out_channel</span><span class="o">;;</span>
</pre></div>

    </div>
</div>
</div>

<div class="output_wrapper">
<div class="output">


<div class="output_area">

    <div class="prompt output_prompt">Out[29]:</div>




<div class="output_text output_subarea output_execute_result">
<pre>val ecrire_sortie : out_channel -&gt; bytes -&gt; unit = &lt;fun&gt;
</pre>
</div>

</div>

<div class="output_area">

    <div class="prompt output_prompt">Out[29]:</div>




<div class="output_text output_subarea output_execute_result">
<pre>val ecrire_dans_fichier : chaine:bytes -&gt; adresse:string -&gt; unit = &lt;fun&gt;
</pre>
</div>

</div>

</div>
</div>

</div>
<div class="cell border-box-sizing code_cell rendered">
<div class="input">
<div class="prompt input_prompt">In&nbsp;[31]:</div>
<div class="inner_cell">
    <div class="input_area">
<div class=" highlight hl-OCaml"><pre><span></span><span class="k">let</span> <span class="n">s_graphe_densmore</span> <span class="o">=</span> <span class="n">graph_to_dotgraph</span> <span class="o">~</span><span class="n">graphname</span><span class="o">:</span><span class="s2">&quot;densmore&quot;</span> <span class="o">~</span><span class="n">directed</span><span class="o">:</span><span class="bp">false</span> <span class="o">~</span><span class="n">verb</span><span class="o">:</span><span class="bp">false</span> <span class="n">graphe_densmore</span><span class="o">;;</span>
<span class="k">let</span> <span class="n">s_graphe_vaccins</span> <span class="o">=</span> <span class="n">graph_to_dotgraph</span> <span class="o">~</span><span class="n">graphname</span><span class="o">:</span><span class="s2">&quot;vaccins&quot;</span> <span class="o">~</span><span class="n">directed</span><span class="o">:</span><span class="bp">false</span> <span class="o">~</span><span class="n">verb</span><span class="o">:</span><span class="bp">false</span> <span class="n">graphe_vaccins</span><span class="o">;;</span>
<span class="k">let</span> <span class="n">s_graphe_csa</span> <span class="o">=</span> <span class="n">graph_to_dotgraph</span> <span class="o">~</span><span class="n">graphname</span><span class="o">:</span><span class="s2">&quot;csa&quot;</span> <span class="o">~</span><span class="n">directed</span><span class="o">:</span><span class="bp">false</span> <span class="o">~</span><span class="n">verb</span><span class="o">:</span><span class="bp">false</span> <span class="n">graphe_csa</span><span class="o">;;</span>
<span class="k">let</span> <span class="n">s_graphe_restaurant</span> <span class="o">=</span> <span class="n">graph_to_dotgraph</span> <span class="o">~</span><span class="n">graphname</span><span class="o">:</span><span class="s2">&quot;restaurant&quot;</span> <span class="o">~</span><span class="n">directed</span><span class="o">:</span><span class="bp">false</span> <span class="o">~</span><span class="n">verb</span><span class="o">:</span><span class="bp">false</span> <span class="n">graphe_restaurant</span><span class="o">;;</span>
</pre></div>

    </div>
</div>
</div>

<div class="output_wrapper">
<div class="output">


<div class="output_area">

    <div class="prompt output_prompt">Out[31]:</div>




<div class="output_text output_subarea output_execute_result">
<pre>val s_graphe_densmore : string =
  &#34;graph densmore {\n   \&#34;0\&#34; -- \&#34;1\&#34;\n   \&#34;0\&#34; -- \&#34;2\&#34;\n   \&#34;0\&#34; -- \&#34;4\&#34;\n   \&#34;0\&#34; -- \&#34;5\&#34;\n   \&#34;0\&#34; -- \&#34;6\&#34;\n   \&#34;1\&#34; -- \&#34;2\&#34;\n   \&#34;1\&#34; -- \&#34;7\&#34;\n   \&#34;2\&#34; -- \&#34;3\&#34;\n   \&#34;2\&#34; -- \&#34;4\&#34;\n   \&#34;2\&#34; -- \&#34;7\&#34;\n   \&#34;3\&#34; -- \&#34;4\&#34;\n   \&#34;4\&#34; -- \&#34;5\&#34;\n   \&#34;6\&#34; -- \&#34;7\&#34;\n}\n// generated by OCaml with the function graphe_to_dotgraph.&#34;
</pre>
</div>

</div>

<div class="output_area">

    <div class="prompt output_prompt">Out[31]:</div>




<div class="output_text output_subarea output_execute_result">
<pre>val s_graphe_vaccins : string =
  &#34;graph vaccins {\n   \&#34;0\&#34; -- \&#34;1\&#34;\n   \&#34;0\&#34; -- \&#34;2\&#34;\n   \&#34;0\&#34; -- \&#34;4\&#34;\n   \&#34;0\&#34; -- \&#34;5\&#34;\n   \&#34;0\&#34; -- \&#34;6\&#34;\n   \&#34;0\&#34; -- \&#34;8\&#34;\n   \&#34;1\&#34; -- \&#34;2\&#34;\n   \&#34;1\&#34; -- \&#34;5\&#34;\n   \&#34;1\&#34; -- \&#34;6\&#34;\n   \&#34;1\&#34; -- \&#34;8\&#34;\n   \&#34;2\&#34; -- \&#34;3\&#34;\n   \&#34;2\&#34; -- \&#34;4\&#34;\n   \&#34;2\&#34; -- \&#34;5\&#34;\n   \&#34;2\&#34; -- \&#34;6\&#34;\n   \&#34;2\&#34; -- \&#34;7\&#34;\n   \&#34;2\&#34; -- \&#34;8\&#34;\n   \&#34;3\&#34; -- \&#34;4\&#34;\n   \&#34;3\&#34; -- \&#34;5\&#34;\n   \&#34;3\&#34; -- \&#34;7\&#34;\n   \&#34;3\&#34; -- \&#34;8\&#34;\n   \&#34;4\&#34; -- \&#34;5\&#34;\n   \&#34;4\&#34; -- \&#34;6\&#34;\n   \&#34;4\&#34; -- \&#34;7\&#34;\n   \&#34;4\&#34; -- \&#34;8\&#34;\n   \&#34;5\&#34; -- \&#34;6\&#34;\n   \&#34;5\&#34; -- \&#34;7\&#34;\n   \&#34;5\&#34; -- \&#34;8\&#34;\n   \&#34;6\&#34; -- \&#34;8\&#34;\n   \&#34;7\&#34; -- \&#34;8\&#34;\n}\n// generated by OCaml with the function graphe_to_dotgraph.&#34;
</pre>
</div>

</div>

<div class="output_area">

    <div class="prompt output_prompt">Out[31]:</div>




<div class="output_text output_subarea output_execute_result">
<pre>val s_graphe_csa : string =
  &#34;graph csa {\n   \&#34;0\&#34; -- \&#34;2\&#34;\n   \&#34;0\&#34; -- \&#34;5\&#34;\n   \&#34;0\&#34; -- \&#34;6\&#34;\n   \&#34;1\&#34; -- \&#34;2\&#34;\n   \&#34;1\&#34; -- \&#34;3\&#34;\n   \&#34;1\&#34; -- \&#34;4\&#34;\n   \&#34;1\&#34; -- \&#34;5\&#34;\n   \&#34;1\&#34; -- \&#34;7\&#34;\n   \&#34;2\&#34; -- \&#34;5\&#34;\n   \&#34;2\&#34; -- \&#34;6\&#34;\n   \&#34;2\&#34; -- \&#34;7\&#34;\n   \&#34;3\&#34; -- \&#34;4\&#34;\n   \&#34;5\&#34; -- \&#34;6\&#34;\n   \&#34;5\&#34; -- \&#34;7\&#34;\n   \&#34;6\&#34; -- \&#34;7\&#34;\n}\n// generated by OCaml with the function graphe_to_dotgraph.&#34;
</pre>
</div>

</div>

<div class="output_area">

    <div class="prompt output_prompt">Out[31]:</div>




<div class="output_text output_subarea output_execute_result">
<pre>val s_graphe_restaurant : string =
  &#34;graph restaurant {\n   \&#34;0\&#34; -- \&#34;2\&#34;\n   \&#34;0\&#34; -- \&#34;5\&#34;\n   \&#34;0\&#34; -- \&#34;6\&#34;\n   \&#34;1\&#34; -- \&#34;3\&#34;\n   \&#34;1\&#34; -- \&#34;4\&#34;\n   \&#34;1\&#34; -- \&#34;6\&#34;\n   \&#34;2\&#34; -- \&#34;5\&#34;\n   \&#34;3\&#34; -- \&#34;5\&#34;\n   \&#34;3\&#34; -- \&#34;6\&#34;\n   \&#34;5\&#34; -- \&#34;6\&#34;\n}\n// generated by OCaml with the function graphe_to_dotgraph.&#34;
</pre>
</div>

</div>

</div>
</div>

</div>
<div class="cell border-box-sizing code_cell rendered">
<div class="input">
<div class="prompt input_prompt">In&nbsp;[32]:</div>
<div class="inner_cell">
    <div class="input_area">
<div class=" highlight hl-OCaml"><pre><span></span><span class="n">ecrire_dans_fichier</span> <span class="o">~</span><span class="n">chaine</span><span class="o">:</span><span class="n">s_graphe_densmore</span> <span class="o">~</span><span class="n">adresse</span><span class="o">:</span><span class="s2">&quot;/tmp/densmore.dot&quot;</span> <span class="o">;;</span>
<span class="c">(* Sys.command &quot;fdp -Tpng /tmp/densmore.dot &gt; images/densmore.png&quot;;; *)</span>

<span class="n">ecrire_dans_fichier</span> <span class="o">~</span><span class="n">chaine</span><span class="o">:</span><span class="n">s_graphe_vaccins</span> <span class="o">~</span><span class="n">adresse</span><span class="o">:</span><span class="s2">&quot;/tmp/vaccins.dot&quot;</span> <span class="o">;;</span>
<span class="c">(* Sys.command &quot;fdp -Tpng /tmp/vaccins.dot &gt; images/vaccins.png&quot;;; *)</span>

<span class="n">ecrire_dans_fichier</span> <span class="o">~</span><span class="n">chaine</span><span class="o">:</span><span class="n">s_graphe_csa</span> <span class="o">~</span><span class="n">adresse</span><span class="o">:</span><span class="s2">&quot;/tmp/csa.dot&quot;</span> <span class="o">;;</span>
<span class="c">(* Sys.command &quot;fdp -Tpng /tmp/csa.dot &gt; images/csa.png&quot;;; *)</span>

<span class="n">ecrire_dans_fichier</span> <span class="o">~</span><span class="n">chaine</span><span class="o">:</span><span class="n">s_graphe_restaurant</span> <span class="o">~</span><span class="n">adresse</span><span class="o">:</span><span class="s2">&quot;/tmp/restaurant.dot&quot;</span> <span class="o">;;</span>
<span class="c">(* Sys.command &quot;fdp -Tpng /tmp/restaurant.dot &gt; images/restaurant.png&quot;;; *)</span>
</pre></div>

    </div>
</div>
</div>

<div class="output_wrapper">
<div class="output">


<div class="output_area">

    <div class="prompt output_prompt">Out[32]:</div>




<div class="output_text output_subarea output_execute_result">
<pre>- : unit = ()
</pre>
</div>

</div>

<div class="output_area">

    <div class="prompt output_prompt">Out[32]:</div>




<div class="output_text output_subarea output_execute_result">
<pre>- : unit = ()
</pre>
</div>

</div>

<div class="output_area">

    <div class="prompt output_prompt">Out[32]:</div>




<div class="output_text output_subarea output_execute_result">
<pre>- : unit = ()
</pre>
</div>

</div>

<div class="output_area">

    <div class="prompt output_prompt">Out[32]:</div>




<div class="output_text output_subarea output_execute_result">
<pre>- : unit = ()
</pre>
</div>

</div>

</div>
</div>

</div>
<div class="cell border-box-sizing text_cell rendered"><div class="prompt input_prompt">
</div><div class="inner_cell">
<div class="text_cell_render border-box-sizing rendered_html">
<p>On pourrait étendre cette fonction pour qu'elle prenne les intervalles initiaux, pour afficher des bonnes étiquettes et pas des entiers, et un coloriage pour colorer directement les noeuds, mais ça prend du temps pour pas grand chose.</p>

</div>
</div>
</div>
<div class="cell border-box-sizing text_cell rendered"><div class="prompt input_prompt">
</div><div class="inner_cell">
<div class="text_cell_render border-box-sizing rendered_html">
<hr>
<h2 id="Conclusion">Conclusion<a class="anchor-link" href="#Conclusion">&#182;</a></h2><p>Voilà pour la question obligatoire de programmation, sur l'algorithme de coloriage.</p>
<ul>
<li>on a décomposé le problème en sous-fonctions,</li>
<li>on a fait des exemples et <em>on les garde</em> dans ce qu'on présente au jury,</li>
<li>on a testé la fonction exigée sur de petits exemples et sur un exemple de taille réelle (venant du texte)</li>
</ul>
<p>Et on a pas essayé de faire <em>un peu plus</em>.
Avec plus de temps, on aurait aussi pu écrire un algorithme pour calculer le stable maximum (ensemble de sommets indépendants de taille maximale).</p>
<blockquote><p>Bien-sûr, ce petit notebook ne se prétend pas être une solution optimale, ni exhaustive.</p>
</blockquote>

</div>
</div>
</div>
 


    </div>
  </div>

  </div>


  
    <footer class="footer hidden-print">
      <div class="container">
        <div class="col-md-4">
          <p>
            This website does not host notebooks, it only renders notebooks
            available on other websites.
          </p>
        </div>

        <div class="col-md-4">
          <p>
            Delivered by <a href="https://www.fastly.com/">Fastly</a>,
            Rendered by <a href="https://developer.rackspace.com/?nbviewer=awesome">Rackspace</a>
          </p>
          <p>
            nbviewer GitHub <a href="https://github.com/jupyter/nbviewer">repository</a>.
          </p>
        </div>

        <div class="col-md-4">
          
  
            
              <p>
                nbviewer version:
                <a href="https://github.com/jupyter/nbviewer/commit/07b0e305b3254e2280b29f20ceb96c058db2f775">
                  07b0e30
                </a>
              </p>
            
          
  
  <p>
    nbconvert version: <a href="https://github.com/jupyter/nbconvert/releases/tag/5.6.0">
      5.6.0
    </a>
  </p>
  

          
  
  
  <p>
    Rendered
    <span class='date' data-date='Mon, 27 Jan 2020 13:30:56 UTC' title='Mon, 27 Jan 2020 13:30:56 UTC'>(Mon, 27 Jan 2020 13:30:56 UTC)</span>
  </p>
  

        </div>
      </div>
    </footer>
  

  <script src="/static/components/bootstrap/js/bootstrap.min.js?v=5869c96cc8f19086aee625d670d741f9"></script>
  <script src="/static/components/headroom.js/dist/headroom.min.js?v=b0a311ea668f8e768ea375f4a7abb81c"></script>
  <script src="/static/components/headroom.js/dist/jQuery.headroom.min.js?v=f3a1bae118315d0c234afc74dc6aab71"></script>

  
  
  <script>
    $(function(){ $("#menubar").headroom({
      tolerance: 5,
      offset: 205,
      classes: {
        initial: "animated",
        pinned: "slideInDown",
        unpinned: "slideOutUp"
      }
    })});
  </script>


  
  <script>
    (function(i,s,o,g,r,a,m){i['GoogleAnalyticsObject']=r;i[r]=i[r]||function(){
      (i[r].q=i[r].q||[]).push(arguments)},i[r].l=1*new Date();a=s.createElement(o),
      m=s.getElementsByTagName(o)[0];a.async=1;a.src=g;m.parentNode.insertBefore(a,m)
    })(window,document,'script','https://www.google-analytics.com/analytics.js','ga');
    ga('create', 'UA-52617120-5', 'auto',
       {'storage': 'none'});
    ga('set', 'anonymizeIp', true);
    ga('send', 'pageview');
  </script>
  
  <script>
    require({
        paths: {
          moment: "/static/components/moment/min/moment.min.js?v=89f87298ad94aa1e6b92f42eb66da043"
        }
      }, ["moment"], function(moment){
      var date = $("footer .date"),
        m = moment(new Date(date.data('date'))),
        update = function(){ date.text(m.fromNow()); };
      setInterval(update, 61*1000);
      update();
      var w = $(window).scroll(function(event){
        $("body").toggleClass("scrolled", w.scrollTop() > 0);
      });
    });
  </script>

  <!--NEW RELIC Stop Perf Measurement-->
  
  <!--NEW RELIC End-->
</body>
</html>