{
 "cells": [
  {
   "cell_type": "markdown",
   "metadata": {},
   "source": [
    "# Functional Programming in Python\n",
    "## David Mertz\n",
    "### dmertz@continuum.io\n",
    "### 2016-04-22"
   ]
  },
  {
   "cell_type": "markdown",
   "metadata": {},
   "source": [
    "# Table of Contents\n",
    "* [Functional Programming](#Functional-Programming)\n",
    "\t* [Comprehensions](#Comprehensions)\n",
    "\t* [Alternate Control Structures](#Alternate-Control-Structures)\n",
    "\t\t* [Mappings](#Mappings)\n",
    "\t\t* [Reductions](#Reductions)\n",
    "\t\t* [Recursion](#Recursion)\n",
    "\t* [Callables](#Callables)\n",
    "\t\t* [Functions/Generators](#Functions/Generators)\n",
    "* [Higher Order Functions](#Higher-Order-Functions)\n",
    "\t* [Operator module](#Operator-module)\n",
    "\t* [Decorators . . . again](#Decorators-.-.-.-again)"
   ]
  },
  {
   "cell_type": "markdown",
   "metadata": {},
   "source": [
    "# Functional Programming"
   ]
  },
  {
   "cell_type": "markdown",
   "metadata": {},
   "source": [
    "> Much of the content in this section is from \"Functional Programming in Python\" by David Mertz. \n",
    "\n",
    "> *&copy; 2015 O’Reilly Media, Inc; [CC BY-SA 4.0](http://creativecommons.org/licenses/by-sa/4.0)*. Available from http://www.oreilly.com/programming/free/functional-programming-python.csp\n",
    "\n",
    "Functional programming is a paradigm that relies on the evaluation of functions to perform work and eschews the use of mutable data structures.  While Python is not a functional programming language, we can use several of the concepts of this paradigm to produce beautiful, easy-to-read code.  The output of a function should only depend on its calling arguments.\n",
    "\n",
    "A functional programming language is a language that is designed to make a certain set of programming practices \"easy\" at the expense of other practices.\n",
    "\n",
    "* Functions are first class (objects). That is, everything you can do with \"data\" can be done with functions themselves (such as passing a function to another function).\n",
    "* Recursion is used as a primary control structure. In some languages, no other \"loop\" construct exists.\n",
    "* There is a focus on LISt Processing (for example, the name Lisp). Lists are often used with recursion on sub-lists as a substitute for loops.\n",
    "* \"Pure\" functional languages eschew side-effects. This excludes the almost ubiquitous pattern in imperative languages of assigning first one, then another value to the same variable to track the program state.\n",
    "* Functional programming either discourages or outright disallows statements, and instead works with the evaluation of expressions (in other words, functions plus arguments). In the pure case, one program is one expression (plus supporting definitions).\n",
    "* Functional programming worries about *what* is to be computed rather than *how* it is to be computed.\n",
    "* Much functional programming utilizes \"higher order\" functions (in other words, functions that operate on functions that operate on functions).\n",
    "\n",
    "Python is most definitely not a “*pure* functional programming language”; side-effects are widespread in most Python programs.  That is, variables are frequently rebound, mutable data collections often change contents, and I/O is freely interleaved with computation.  It is also not even a “functional programming language” more generally.  However, Python *is* a multi-paradigm language that makes functional programming easy to do when desired, and easy to mix with other programming styles.\n",
    "\n",
    "In short, functional programming focuses on the \"what\" rather than on the \"how\" of an algorithm."
   ]
  },
  {
   "cell_type": "markdown",
   "metadata": {},
   "source": [
    "## Comprehensions"
   ]
  },
  {
   "cell_type": "markdown",
   "metadata": {},
   "source": [
    "One of the ways we can use the functional paradigm in Python is through the use of comprehensions.  Comprehensions shift the focus away from modifying the state of a data structure to a focus of doing something with the data in a data structure.  Moreover, these comprehensions can sometimes be a more efficient way to construct the container than by repeated calling its `.add()` or `.append()` methods."
   ]
  },
  {
   "cell_type": "markdown",
   "metadata": {},
   "source": [
    "List comprehensions have been in Python for a long while (since Python 2.0).  List comprehensions are a very compact way for constructing lists.  Far more important than simply saving a few characters and lines is the mental shift enacted by thinking of what the collection is, and by avoiding needing to think about or debug “what is the state of the collection at this point in the loop”"
   ]
  },
  {
   "cell_type": "code",
   "execution_count": 1,
   "metadata": {
    "collapsed": false
   },
   "outputs": [
    {
     "data": {
      "text/plain": [
       "[0, 1, 2, 3, 0, 0, 2, 2, 0, 4, 2, 1, 0, 3, 2, 0, 0, 2, 2, 4]"
      ]
     },
     "execution_count": 1,
     "metadata": {},
     "output_type": "execute_result"
    }
   ],
   "source": [
    "# Focusing on the \"how\"\n",
    "my_how = []\n",
    "for x in range(20):\n",
    "    if x % 2 == 0:\n",
    "        my_how.append(x % 4)\n",
    "    else:\n",
    "        my_how.append(x % 5)\n",
    "my_how"
   ]
  },
  {
   "cell_type": "code",
   "execution_count": 2,
   "metadata": {
    "collapsed": false
   },
   "outputs": [
    {
     "data": {
      "text/plain": [
       "[0, 1, 2, 3, 0, 0, 2, 2, 0, 4, 2, 1, 0, 3, 2, 0, 0, 2, 2, 4]"
      ]
     },
     "execution_count": 2,
     "metadata": {},
     "output_type": "execute_result"
    }
   ],
   "source": [
    "# Focusing on the \"what\"\n",
    "my_what = [x % 5 if x % 2 else x % 4 for x in range(20)]\n",
    "my_what"
   ]
  },
  {
   "cell_type": "code",
   "execution_count": 3,
   "metadata": {
    "collapsed": false
   },
   "outputs": [
    {
     "data": {
      "text/plain": [
       "True"
      ]
     },
     "execution_count": 3,
     "metadata": {},
     "output_type": "execute_result"
    }
   ],
   "source": [
    "my_what == my_how"
   ]
  },
  {
   "cell_type": "markdown",
   "metadata": {},
   "source": [
    "We can also have dictionary comprehensions, set comprehensions, and generator comprehensions."
   ]
  },
  {
   "cell_type": "code",
   "execution_count": 4,
   "metadata": {
    "collapsed": false
   },
   "outputs": [
    {
     "data": {
      "text/plain": [
       "{'0': 48,\n",
       " '1': 49,\n",
       " '2': 50,\n",
       " '3': 51,\n",
       " '4': 52,\n",
       " '5': 53,\n",
       " '6': 54,\n",
       " '7': 55,\n",
       " '8': 56,\n",
       " '9': 57}"
      ]
     },
     "execution_count": 4,
     "metadata": {},
     "output_type": "execute_result"
    }
   ],
   "source": [
    "# Dictionary comprehension that maps digits to their ordinal values\n",
    "# Notice how the focus is on \"what\" data and not \"how\" to use a dictionary.\n",
    "from string import digits\n",
    "{L:ord(L) for L in digits}"
   ]
  },
  {
   "cell_type": "code",
   "execution_count": 5,
   "metadata": {
    "collapsed": true
   },
   "outputs": [],
   "source": [
    "# Set comprehension\n",
    "evens = {x for x in range(20) if not x%2}"
   ]
  },
  {
   "cell_type": "code",
   "execution_count": 6,
   "metadata": {
    "collapsed": false
   },
   "outputs": [
    {
     "data": {
      "text/plain": [
       "{0, 2, 4, 6, 8, 10, 12, 14, 16, 18}"
      ]
     },
     "execution_count": 6,
     "metadata": {},
     "output_type": "execute_result"
    }
   ],
   "source": [
    "evens"
   ]
  },
  {
   "cell_type": "markdown",
   "metadata": {},
   "source": [
    "Generator comprehensions are functionally equivalent to list comprehensions.  However, just like generators, generator comprehensions are lazily evaluated.  When using a list comprehension, memory is allocated and the list is built immediately.  Generator comprehensions delay their computation until you iterate over them, often with another function.  Memory is only allocated for the final resulting computation of the generator comprehension."
   ]
  },
  {
   "cell_type": "code",
   "execution_count": 7,
   "metadata": {
    "collapsed": false
   },
   "outputs": [
    {
     "data": {
      "text/plain": [
       "(499999500000, 499999500000)"
      ]
     },
     "execution_count": 7,
     "metadata": {},
     "output_type": "execute_result"
    }
   ],
   "source": [
    "# Generator comprehensions are equivalent to list expressions\n",
    "# They return a generator rather than a list\n",
    "# In the first expression, a list is constructed, then summed.\n",
    "# In the second expression, no list is constructed,\n",
    "# hence the generator comprehension is more memory efficient\n",
    "sum([a for a in range(1000000)]), sum(a for a in range(1000000)) "
   ]
  },
  {
   "cell_type": "code",
   "execution_count": 8,
   "metadata": {
    "collapsed": false
   },
   "outputs": [
    {
     "name": "stdout",
     "output_type": "stream",
     "text": [
      "100 loops, best of 3: 3.09 ms per loop\n"
     ]
    }
   ],
   "source": [
    "# Probably don't want to run this unless we have time free...\n",
    "%timeit sum(a for a in range(50000))\n",
    "# 1 loops, best of 3: 34.7 s per loop"
   ]
  },
  {
   "cell_type": "code",
   "execution_count": null,
   "metadata": {
    "collapsed": false
   },
   "outputs": [],
   "source": [
    "# Probably don't want to run this unless we have time free...\n",
    "# %timeit sum([a for a in range(500000000)])\n",
    "# 1 loops, best of 3: 2min 29s per loop"
   ]
  },
  {
   "cell_type": "code",
   "execution_count": 9,
   "metadata": {
    "collapsed": false
   },
   "outputs": [
    {
     "name": "stdout",
     "output_type": "stream",
     "text": [
      "<generator object <genexpr> at 0x107043db0>\n"
     ]
    },
    {
     "data": {
      "text/plain": [
       "50"
      ]
     },
     "execution_count": 9,
     "metadata": {},
     "output_type": "execute_result"
    }
   ],
   "source": [
    "# Sometimes parenthesis are required for generator comprehensions\n",
    "evens = (a % 2 for a in range(100))\n",
    "print(evens)\n",
    "sum(evens)"
   ]
  },
  {
   "cell_type": "markdown",
   "metadata": {},
   "source": [
    "## Alternate Control Structures"
   ]
  },
  {
   "cell_type": "markdown",
   "metadata": {},
   "source": [
    "Functional programming techniques replace common programming control flow statements with different ideas"
   ]
  },
  {
   "cell_type": "markdown",
   "metadata": {},
   "source": [
    "### Mappings"
   ]
  },
  {
   "cell_type": "markdown",
   "metadata": {},
   "source": [
    "One control structure that is often used in functional programming is the idea of _mapping_ a function onto a sequence.  This is accomplished using the `map()` function."
   ]
  },
  {
   "cell_type": "code",
   "execution_count": 15,
   "metadata": {
    "collapsed": false
   },
   "outputs": [
    {
     "name": "stdout",
     "output_type": "stream",
     "text": [
      "<map object at 0x105a57780>\n"
     ]
    }
   ],
   "source": [
    "def poly(n):\n",
    "    return 3*(n**2) - 17*n + 4\n",
    "poly = lambda n: 3*(n**2) - 17*n + 4\n",
    "computed = map(poly, range(10))\n",
    "print(computed)"
   ]
  },
  {
   "cell_type": "code",
   "execution_count": 12,
   "metadata": {
    "collapsed": false
   },
   "outputs": [
    {
     "name": "stdout",
     "output_type": "stream",
     "text": [
      "4\n",
      "-10\n",
      "-18\n",
      "-20\n",
      "-16\n",
      "-6\n",
      "10\n",
      "32\n",
      "60\n",
      "94\n"
     ]
    }
   ],
   "source": [
    "for x in computed:\n",
    "    print(x)"
   ]
  },
  {
   "cell_type": "code",
   "execution_count": 13,
   "metadata": {
    "collapsed": false
   },
   "outputs": [
    {
     "name": "stdout",
     "output_type": "stream",
     "text": [
      "4 -10 -18 -20 -16 -6 10 32 60 94 "
     ]
    }
   ],
   "source": [
    "for x in map(lambda n: 3*(n**2) - 17*n + 4, range(10)):\n",
    "    print(x, end=' ')"
   ]
  },
  {
   "cell_type": "code",
   "execution_count": 16,
   "metadata": {
    "collapsed": false,
    "py3_only": true
   },
   "outputs": [
    {
     "name": "stdout",
     "output_type": "stream",
     "text": [
      "4\n",
      "-10\n"
     ]
    },
    {
     "data": {
      "text/plain": [
       "[-18, -20, -16, -6, 10, 32, 60, 94]"
      ]
     },
     "execution_count": 16,
     "metadata": {},
     "output_type": "execute_result"
    }
   ],
   "source": [
    "print(next(computed))\n",
    "print(next(computed))\n",
    "list(computed)"
   ]
  },
  {
   "cell_type": "markdown",
   "metadata": {},
   "source": [
    "### Reductions"
   ]
  },
  {
   "cell_type": "markdown",
   "metadata": {},
   "source": [
    "We can accumulate results using `functools.reduce`.\n",
    "It will apply the function to the first element of the iterable, apply the function to the result and the next element of the iterable, and so on."
   ]
  },
  {
   "cell_type": "code",
   "execution_count": 18,
   "metadata": {
    "collapsed": false
   },
   "outputs": [
    {
     "data": {
      "text/plain": [
       "93326215443944152681699238856266700490715968264381621468592963895217599993229915608941463976156518286253697920827223758251185210916864000000000000000000000000"
      ]
     },
     "execution_count": 18,
     "metadata": {},
     "output_type": "execute_result"
    }
   ],
   "source": [
    "def reduction(acc, item):\n",
    "    # do something\n",
    "    return newthing\n",
    "from operator import add, mul\n",
    "from functools import reduce\n",
    "reduce(reduction, range(1, 101))"
   ]
  },
  {
   "cell_type": "markdown",
   "metadata": {},
   "source": [
    "### Recursion"
   ]
  },
  {
   "cell_type": "markdown",
   "metadata": {},
   "source": [
    "Functional programmers often put weight in expressing flow control through recursion rather than through loops.  Done this way, we can avoid altering the state of any variables or data structures within an algorithm, and more importantly get more at the \"what\" than the \"how\" of a computation.  However, in considering using recursive styles we should distinguish between the cases where recursion is just “iteration by another name” and those where a problem can readily be partitioned into smaller problems, each approached in a similar way.\n",
    "\n",
    "There are two reasons why we should make the distinction mentioned.  On the one hand, using recursion effectively as a way of marching through a sequence of elements is, while possible, really not “Pythonic.”  It matches the style of other languages like Lisp, definitely, but it feels contrived in Python often.  On the other hand, Python is simply comparatively slow at recursion, and has a limited stack depth limit.  Yes, you can change this with `sys.setrecursionlimit()` to more than the default 1000; but if you find yourself doing so, it is probably a mistake.  Python lacks an internal feature called *tail call elimination* that makes deep recursion computationally efficient in some languages.\n",
    "\n",
    "As general advice, it is good practice to look for possibilities of recursive expression—and especially for versions that avoid the need for state variables or mutable data collections—whenever a problem looks partitionable into smaller problems.  It is not a good idea in Python—most of the time—to use recursion merely for \"iteration by other means.\""
   ]
  },
  {
   "cell_type": "code",
   "execution_count": 20,
   "metadata": {
    "collapsed": false
   },
   "outputs": [],
   "source": [
    "# An example of 'iteration by other means'\n",
    "def running_sum(arr, total=0):\n",
    "    if len(arr) == 0:\n",
    "        return\n",
    "    total += arr[0]\n",
    "    print(total, end=\" \")\n",
    "    return running_sum(arr[1:], total)"
   ]
  },
  {
   "cell_type": "code",
   "execution_count": 21,
   "metadata": {
    "collapsed": false
   },
   "outputs": [],
   "source": [
    "# An example of a truly recursive algorithm\n",
    "# One that we can split into significantly smaller parts\n",
    "def quicksort(lst):\n",
    "    \"Quicksort over a list-like sequence\"\n",
    "    if len(lst) == 0:\n",
    "        return lst\n",
    "    pivot = lst[0]\n",
    "    pivots = [x for x in lst if x == pivot]\n",
    "    small = quicksort([x for x in lst if x < pivot])\n",
    "    large = quicksort([x for x in lst if x > pivot])\n",
    "    return small + pivots + large"
   ]
  },
  {
   "cell_type": "code",
   "execution_count": 22,
   "metadata": {
    "collapsed": false
   },
   "outputs": [
    {
     "data": {
      "text/plain": [
       "[-1, 0, 1, 2, 5, 19, 19]"
      ]
     },
     "execution_count": 22,
     "metadata": {},
     "output_type": "execute_result"
    }
   ],
   "source": [
    "quicksort([2, 19, 19, 5, 1, 0, -1])"
   ]
  },
  {
   "cell_type": "markdown",
   "metadata": {},
   "source": [
    "## Callables"
   ]
  },
  {
   "cell_type": "markdown",
   "metadata": {},
   "source": [
    "As the name functional programming implies, the entire paradigm is built on top of calling functions.  To effectively work in this paradigm, we need to know what sorts of things we can call in Python."
   ]
  },
  {
   "cell_type": "markdown",
   "metadata": {},
   "source": [
    "### Functions/Generators"
   ]
  },
  {
   "cell_type": "markdown",
   "metadata": {},
   "source": [
    "Functions are the most obvious things we can call.  We do it all the time in Python."
   ]
  },
  {
   "cell_type": "code",
   "execution_count": 23,
   "metadata": {
    "collapsed": false
   },
   "outputs": [],
   "source": [
    "def a_function():\n",
    "    return 1\n",
    "\n",
    "def a_decorator(func):\n",
    "    def _(args):\n",
    "        return func(*args)\n",
    "    return _\n",
    "\n",
    "def a_generator():\n",
    "    yield 0\n",
    "    \n",
    "a_lambda = lambda x: x\n",
    "\n",
    "class A_Class(object):\n",
    "    def __call__(self, a, b):\n",
    "        return a + b"
   ]
  },
  {
   "cell_type": "code",
   "execution_count": 24,
   "metadata": {
    "collapsed": false
   },
   "outputs": [
    {
     "data": {
      "text/plain": [
       "9"
      ]
     },
     "execution_count": 24,
     "metadata": {},
     "output_type": "execute_result"
    }
   ],
   "source": [
    "my_instance = A_Class()\n",
    "my_instance(5, 4)"
   ]
  },
  {
   "cell_type": "code",
   "execution_count": 25,
   "metadata": {
    "collapsed": true
   },
   "outputs": [],
   "source": [
    "@a_decorator\n",
    "def some_new_func(a, b, c):\n",
    "    return a+b*c\n"
   ]
  },
  {
   "cell_type": "code",
   "execution_count": 26,
   "metadata": {
    "collapsed": false
   },
   "outputs": [
    {
     "name": "stdout",
     "output_type": "stream",
     "text": [
      "a_function is callable\n",
      "a_decorator is callable\n",
      "a_generator is callable\n",
      "<lambda> is callable\n",
      "A_Class is callable\n"
     ]
    }
   ],
   "source": [
    "for c in (a_function, a_decorator, a_generator, a_lambda, A_Class):\n",
    "    # check of object is callable (implements __call__)\n",
    "    if callable(c):\n",
    "        print(\"%s is callable\" % c.__name__)"
   ]
  },
  {
   "cell_type": "markdown",
   "metadata": {},
   "source": [
    "# Higher Order Functions"
   ]
  },
  {
   "cell_type": "markdown",
   "metadata": {},
   "source": [
    "A higher order function (or 'HOF') is a function that accepts one or more functions as input and possibly also returns a function.\n",
    "\n",
    "The utility higher-order functions shown here are just a small selection for illustration.  Look at a longer text on functional programming—or, for example, read the [Haskell prelude](https://hackage.haskell.org/package/base-4.8.0.0/docs/Prelude.html)—for many other ideas on useful utility higher-order-functions.\n",
    "\n",
    "A few useful higher-order functions are contained in the `functools` module, and a few others are built-ins.  It is common the think of `map()`, `filter()`, and `functools.reduce()` as the most basic building blocks of higher-order functions, and most functional programming languages use these functions as their primitives (occasionally under other names).  Almost as basic as map/filter/reduce as a building block is currying.  In Python, this is spelled as `functools.partial()`—this is a function that will take another function, along with zero or more arguments to fix, and return a function of fewer arguments that operates as the input function would when those arguments are passed to it.\n",
    "\n",
    "The built-in functions `map()` and `filter()` are equivalent to comprehensions—especially now that generator comprehensions are available—and most Python programmers find the comprehension versions more readable.  For example, here are some (almost) equivalent pairs:\n",
    "\n",
    "```\n",
    "transformed = map(tranformation, iterator)      # Classic \"FP-style\"\n",
    "transformed = (transformation(x) for x in iterator) # Comprehension \n",
    "\n",
    "filtered = filter(predicate, iterator)          # Classic \"FP-style\"\n",
    "filtered = (x for x in iterator if predicate(x))    # Comprehension\n",
    "```"
   ]
  },
  {
   "cell_type": "code",
   "execution_count": 27,
   "metadata": {
    "collapsed": false
   },
   "outputs": [
    {
     "name": "stdout",
     "output_type": "stream",
     "text": [
      "Help on built-in function reduce in module _functools:\n",
      "\n",
      "reduce(...)\n",
      "    reduce(function, sequence[, initial]) -> value\n",
      "    \n",
      "    Apply a function of two arguments cumulatively to the items of a sequence,\n",
      "    from left to right, so as to reduce the sequence to a single value.\n",
      "    For example, reduce(lambda x, y: x+y, [1, 2, 3, 4, 5]) calculates\n",
      "    ((((1+2)+3)+4)+5).  If initial is present, it is placed before the items\n",
      "    of the sequence in the calculation, and serves as a default when the\n",
      "    sequence is empty.\n",
      "\n"
     ]
    }
   ],
   "source": [
    "from functools import reduce, partial\n",
    "help(reduce)"
   ]
  },
  {
   "cell_type": "code",
   "execution_count": 28,
   "metadata": {
    "collapsed": false
   },
   "outputs": [
    {
     "name": "stdout",
     "output_type": "stream",
     "text": [
      "hi, this is Jim.\n"
     ]
    }
   ],
   "source": [
    "# Example of function currying or 'partial functions'\n",
    "def many_args(a, b, c, d):\n",
    "    return \" \".join(map(str, (a, b, c, d)))\n",
    "\n",
    "greeting = partial(many_args, \"hi,\", \"this\", \"is\")\n",
    "print(greeting(\"Jim.\"))"
   ]
  },
  {
   "cell_type": "code",
   "execution_count": 30,
   "metadata": {
    "collapsed": false
   },
   "outputs": [
    {
     "data": {
      "text/plain": [
       "'hi, this is Olemis'"
      ]
     },
     "execution_count": 30,
     "metadata": {},
     "output_type": "execute_result"
    }
   ],
   "source": [
    "greeting(\"Olemis\")"
   ]
  },
  {
   "cell_type": "code",
   "execution_count": 29,
   "metadata": {
    "collapsed": false
   },
   "outputs": [
    {
     "data": {
      "text/plain": [
       "'Python in Cuba wins'"
      ]
     },
     "execution_count": 29,
     "metadata": {},
     "output_type": "execute_result"
    }
   ],
   "source": [
    "many_args(\"Python\", \"in\", \"Cuba\", \"wins\")"
   ]
  },
  {
   "cell_type": "markdown",
   "metadata": {
    "collapsed": true
   },
   "source": [
    "Another useful functional programming concept is function composition.  A common thing in mathematics, often we want to define a function as a compostion of other functions."
   ]
  },
  {
   "cell_type": "code",
   "execution_count": 31,
   "metadata": {
    "collapsed": false
   },
   "outputs": [],
   "source": [
    "def compose(*funcs):\n",
    "    \"Return a new function s.t. compose(f,g,...)(x) == f(g(...(x)))\"\n",
    "    def inner(data, funcs=funcs):\n",
    "        result = data\n",
    "        for f in reversed(funcs):\n",
    "            result = f(result)\n",
    "        return result\n",
    "    return inner"
   ]
  },
  {
   "cell_type": "code",
   "execution_count": 32,
   "metadata": {
    "collapsed": true
   },
   "outputs": [],
   "source": [
    "one = lambda x: x+1\n",
    "two = lambda x: x*2\n",
    "three = lambda x: x/3"
   ]
  },
  {
   "cell_type": "code",
   "execution_count": 33,
   "metadata": {
    "collapsed": false
   },
   "outputs": [
    {
     "data": {
      "text/plain": [
       "True"
      ]
     },
     "execution_count": 33,
     "metadata": {},
     "output_type": "execute_result"
    }
   ],
   "source": [
    "# One, two, three is as easy as three, two, one\n",
    "composed_func = compose(one, two, three)\n",
    "composed_func(1) == (((1/3)*2)+1)"
   ]
  },
  {
   "cell_type": "markdown",
   "metadata": {
    "collapsed": true
   },
   "source": [
    "We can also test a sequence of conditions for truthiness.  Enter `any()` and `all()`.\n",
    "$$\\text{all}(0, 1, 2, \\dots, n) = \\text{bool}(0) \\land \\text{bool}(1) \\land \\text{bool}(2) \\land \\dots \\land \\text{bool}(n)$$\n",
    "$$\\text{any}(0, 1, 2, \\dots, n) = \\text{bool}(0) \\lor \\text{bool}(1) \\lor \\text{bool}(2) \\lor \\dots \\lor \\text{bool}(n)$$"
   ]
  },
  {
   "cell_type": "code",
   "execution_count": 34,
   "metadata": {
    "collapsed": false
   },
   "outputs": [
    {
     "name": "stdout",
     "output_type": "stream",
     "text": [
      "All: False\n",
      "Any: True\n"
     ]
    }
   ],
   "source": [
    "print(\"All:\", all(t > 0 for t in range(10)))\n",
    "print(\"Any:\", any(t > 0 for t in range(10)))"
   ]
  },
  {
   "cell_type": "markdown",
   "metadata": {
    "collapsed": true
   },
   "source": [
    "Sometimes is it useful to test if an iterable satifies multiple conditions.  I want to see if `range(10)` contains a multiple of 2, 3, 5, and/or 13"
   ]
  },
  {
   "cell_type": "code",
   "execution_count": 35,
   "metadata": {
    "collapsed": false
   },
   "outputs": [],
   "source": [
    "all_pred = lambda item, *tests: all(p(item) for p in tests)\n",
    "any_pred = lambda item, *tests: any(p(item) for p in tests)"
   ]
  },
  {
   "cell_type": "code",
   "execution_count": 37,
   "metadata": {
    "collapsed": false
   },
   "outputs": [],
   "source": [
    "# Note: We use `not` because 0 evaluated to False\n",
    "# but we want 0 to evaluate to True and non-zero values to evaluate to False\n",
    "mod2 = lambda x: not x%2\n",
    "mod3 = lambda x: not x%3\n",
    "mod5 = lambda x: not x%5\n",
    "mod13 = lambda x: not x%13\n",
    "tests = (mod2, mod3, mod5, mod13)"
   ]
  },
  {
   "cell_type": "code",
   "execution_count": 38,
   "metadata": {
    "collapsed": false
   },
   "outputs": [
    {
     "name": "stdout",
     "output_type": "stream",
     "text": [
      "False\n",
      "True\n"
     ]
    }
   ],
   "source": [
    "print(all_pred(10, *tests))\n",
    "print(all_pred(2*3*5*13, *tests))"
   ]
  },
  {
   "cell_type": "markdown",
   "metadata": {},
   "source": [
    "## Operator module"
   ]
  },
  {
   "cell_type": "markdown",
   "metadata": {},
   "source": [
    "The operator module has a corresponding function for every infix operator in Python.  For places where you want to be able to pass a function performing the equivalent of some syntactic operation to some higher-order function, using the name from `operator` is faster and looks nicer than the obvious alternatives."
   ]
  },
  {
   "cell_type": "code",
   "execution_count": null,
   "metadata": {
    "collapsed": false
   },
   "outputs": [],
   "source": [
    "# So instead of (no, no, no!)\n",
    "reduce(int.__mul__, range(1,10))\n",
    "\n",
    "# or\n",
    "reduce(lambda x, y: x*y, range(1, 10))"
   ]
  },
  {
   "cell_type": "code",
   "execution_count": null,
   "metadata": {
    "collapsed": false
   },
   "outputs": [],
   "source": [
    "# We can do the following... which is often faster, and much prettier\n",
    "import operator as op\n",
    "reduce(op.mul, range(1,10))"
   ]
  },
  {
   "cell_type": "code",
   "execution_count": null,
   "metadata": {
    "collapsed": false
   },
   "outputs": [],
   "source": [
    "print(', '.join(op.__dict__.keys()))"
   ]
  },
  {
   "cell_type": "code",
   "execution_count": 41,
   "metadata": {
    "collapsed": false
   },
   "outputs": [],
   "source": [
    "import sys\n",
    "sys.setrecursionlimit(2000)"
   ]
  },
  {
   "cell_type": "markdown",
   "metadata": {},
   "source": [
    "## Decorators . . . again"
   ]
  },
  {
   "cell_type": "markdown",
   "metadata": {},
   "source": [
    "Although it is—by design—easy to forget it, probably the most common use of higher-order functions in Python is as decorators.  A decorator is just syntax sugar that takes a function as an argument, and if it is programmed correctly, returns a new function that is in some way an *enhancement* of the original function (or method, or class).  \n",
    "\n",
    "Decorators are used in many places in the standard library and in common third-party libraries.  In some ways they tie in with an idea that used to be called \"aspect oriented programming.\"  For example, the decorator function `asyncio.coroutine` is used to mark a function as a coroutine.  Within `functools` the three important decorator functions are `functools.lru_cache`, `functools.total_ordering`, and `functools.wraps`.  The first \"memoizes\" a function (i.e. it caches the arguments passed and returns stored values rather than performing new computation or I/O).  The second makes it easier to write custom classes that want to use inequality operators.  The last makes it easier to write new decorators.  All of these are important and worthwhile purposes, but they are also more in the spirit of making the plumbing of Python programming easier in a general—almost syntactic—way rather than the composable higher-order functions this section focuses on.\n",
    "\n",
    "Decorators in general are more useful when you want to poke into the guts of a function than when you want to treat it as a pluggable component in a flow or composition of functions, often done to mark the purpose or capabilities of a particular function."
   ]
  },
  {
   "cell_type": "markdown",
   "metadata": {},
   "source": [
    "Just to remind readers, these two snippets of code defining `some_func` and `other_func` are equivalent:\n",
    "\n",
    "```python\n",
    "@enhanced\n",
    "def some_func(*args):\n",
    "    pass\n",
    "    \n",
    "def other_func(*args):\n",
    "    pass\n",
    "other_func = enhanced(other_func)\n",
    "```"
   ]
  },
  {
   "cell_type": "markdown",
   "metadata": {},
   "source": [
    "Used with the decorator syntax, of course, the higher-order function is necessarily used at definition time for a function.  For their intended purpose, this is usually when they are best applied.  But the same decorator function can always, in principle, be used elsewhere in a program; for example in a more dynamic way (e.g. mapping a decorator function across a runtime-generated collection of otehr functions).  That would be an unusual use-case, however."
   ]
  },
  {
   "cell_type": "code",
   "execution_count": null,
   "metadata": {
    "collapsed": false
   },
   "outputs": [],
   "source": [
    "import continuum_style; continuum_style.style()"
   ]
  }
 ],
 "metadata": {
  "continuum": {
   "depends": [
    "ip_functions"
   ],
   "tag": "adv_functional"
  },
  "kernelspec": {
   "display_name": "Python 3",
   "language": "python",
   "name": "python3"
  },
  "language_info": {
   "codemirror_mode": {
    "name": "ipython",
    "version": 3
   },
   "file_extension": ".py",
   "mimetype": "text/x-python",
   "name": "python",
   "nbconvert_exporter": "python",
   "pygments_lexer": "ipython3",
   "version": "3.5.1"
  }
 },
 "nbformat": 4,
 "nbformat_minor": 0
}
