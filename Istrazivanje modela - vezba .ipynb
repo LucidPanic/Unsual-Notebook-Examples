{
 "cells": [
  {
   "cell_type": "code",
   "execution_count": 59,
   "metadata": {},
   "outputs": [],
   "source": [
    "import numpy as np\n",
    "import pandas as pd\n",
    "from matplotlib import pyplot as plt"
   ]
  },
  {
   "cell_type": "code",
   "execution_count": 60,
   "metadata": {},
   "outputs": [],
   "source": [
    "from sklearn.model_selection import train_test_split"
   ]
  },
  {
   "cell_type": "code",
   "execution_count": 61,
   "metadata": {},
   "outputs": [],
   "source": [
    "from keras.models import Sequential\n",
    "from keras.layers import Dense, Activation\n",
    "from keras.optimizers import SGD, Adam, Adagrad, RMSprop\n",
    "import keras.backend as K"
   ]
  },
  {
   "cell_type": "code",
   "execution_count": 62,
   "metadata": {},
   "outputs": [],
   "source": [
    "data = pd.read_csv('banknotes.csv')"
   ]
  },
  {
   "cell_type": "code",
   "execution_count": 63,
   "metadata": {},
   "outputs": [
    {
     "data": {
      "text/html": [
       "<div>\n",
       "<style scoped>\n",
       "    .dataframe tbody tr th:only-of-type {\n",
       "        vertical-align: middle;\n",
       "    }\n",
       "\n",
       "    .dataframe tbody tr th {\n",
       "        vertical-align: top;\n",
       "    }\n",
       "\n",
       "    .dataframe thead th {\n",
       "        text-align: right;\n",
       "    }\n",
       "</style>\n",
       "<table border=\"1\" class=\"dataframe\">\n",
       "  <thead>\n",
       "    <tr style=\"text-align: right;\">\n",
       "      <th></th>\n",
       "      <th>variance</th>\n",
       "      <th>skewness</th>\n",
       "      <th>kurtosis</th>\n",
       "      <th>entropy</th>\n",
       "      <th>class</th>\n",
       "    </tr>\n",
       "  </thead>\n",
       "  <tbody>\n",
       "    <tr>\n",
       "      <th>0</th>\n",
       "      <td>3.62160</td>\n",
       "      <td>8.6661</td>\n",
       "      <td>-2.8073</td>\n",
       "      <td>-0.44699</td>\n",
       "      <td>0</td>\n",
       "    </tr>\n",
       "    <tr>\n",
       "      <th>1</th>\n",
       "      <td>4.54590</td>\n",
       "      <td>8.1674</td>\n",
       "      <td>-2.4586</td>\n",
       "      <td>-1.46210</td>\n",
       "      <td>0</td>\n",
       "    </tr>\n",
       "    <tr>\n",
       "      <th>2</th>\n",
       "      <td>3.86600</td>\n",
       "      <td>-2.6383</td>\n",
       "      <td>1.9242</td>\n",
       "      <td>0.10645</td>\n",
       "      <td>0</td>\n",
       "    </tr>\n",
       "    <tr>\n",
       "      <th>3</th>\n",
       "      <td>3.45660</td>\n",
       "      <td>9.5228</td>\n",
       "      <td>-4.0112</td>\n",
       "      <td>-3.59440</td>\n",
       "      <td>0</td>\n",
       "    </tr>\n",
       "    <tr>\n",
       "      <th>4</th>\n",
       "      <td>0.32924</td>\n",
       "      <td>-4.4552</td>\n",
       "      <td>4.5718</td>\n",
       "      <td>-0.98880</td>\n",
       "      <td>0</td>\n",
       "    </tr>\n",
       "  </tbody>\n",
       "</table>\n",
       "</div>"
      ],
      "text/plain": [
       "   variance  skewness  kurtosis  entropy  class\n",
       "0   3.62160    8.6661   -2.8073 -0.44699      0\n",
       "1   4.54590    8.1674   -2.4586 -1.46210      0\n",
       "2   3.86600   -2.6383    1.9242  0.10645      0\n",
       "3   3.45660    9.5228   -4.0112 -3.59440      0\n",
       "4   0.32924   -4.4552    4.5718 -0.98880      0"
      ]
     },
     "execution_count": 63,
     "metadata": {},
     "output_type": "execute_result"
    }
   ],
   "source": [
    "data.head()"
   ]
  },
  {
   "cell_type": "code",
   "execution_count": 64,
   "metadata": {},
   "outputs": [
    {
     "data": {
      "text/plain": [
       "0    762\n",
       "1    610\n",
       "Name: class, dtype: int64"
      ]
     },
     "execution_count": 64,
     "metadata": {},
     "output_type": "execute_result"
    }
   ],
   "source": [
    "data['class'].value_counts()"
   ]
  },
  {
   "cell_type": "code",
   "execution_count": null,
   "metadata": {},
   "outputs": [],
   "source": []
  },
  {
   "cell_type": "code",
   "execution_count": 65,
   "metadata": {},
   "outputs": [],
   "source": [
    "x = data.drop('class', axis=1).values\n",
    "y = data['class'].values"
   ]
  },
  {
   "cell_type": "code",
   "execution_count": 66,
   "metadata": {},
   "outputs": [],
   "source": [
    "x_train, x_test, y_train, y_test = train_test_split(x, y, test_size=0.3, random_state=42)"
   ]
  },
  {
   "cell_type": "code",
   "execution_count": 67,
   "metadata": {},
   "outputs": [],
   "source": [
    "model = Sequential()\n",
    "model.add(Dense(1, kernel_initializer='ones', input_shape=(4,), activation='sigmoid'))"
   ]
  },
  {
   "cell_type": "code",
   "execution_count": 68,
   "metadata": {},
   "outputs": [],
   "source": [
    "model.compile(optimizer='sgd', loss='binary_crossentropy', metrics=['acc'])"
   ]
  },
  {
   "cell_type": "code",
   "execution_count": 69,
   "metadata": {},
   "outputs": [],
   "source": [
    "weights = model.get_weights()"
   ]
  },
  {
   "cell_type": "code",
   "execution_count": 70,
   "metadata": {},
   "outputs": [
    {
     "name": "stdout",
     "output_type": "stream",
     "text": [
      "Epoch 1/20\n",
      "960/960 [==============================] - 0s 237us/step - loss: 2.6478 - acc: 0.2562\n",
      "Epoch 2/20\n",
      "960/960 [==============================] - 0s 282us/step - loss: 0.9721 - acc: 0.5708\n",
      "Epoch 3/20\n",
      "960/960 [==============================] - 0s 133us/step - loss: 0.4820 - acc: 0.7958\n",
      "Epoch 4/20\n",
      "960/960 [==============================] - 0s 129us/step - loss: 0.3285 - acc: 0.8833\n",
      "Epoch 5/20\n",
      "960/960 [==============================] - 0s 138us/step - loss: 0.2575 - acc: 0.9083\n",
      "Epoch 6/20\n",
      "960/960 [==============================] - 0s 153us/step - loss: 0.2171 - acc: 0.9302\n",
      "Epoch 7/20\n",
      "960/960 [==============================] - 0s 141us/step - loss: 0.1900 - acc: 0.9375\n",
      "Epoch 8/20\n",
      "960/960 [==============================] - 0s 136us/step - loss: 0.1711 - acc: 0.9479\n",
      "Epoch 9/20\n",
      "960/960 [==============================] - 0s 130us/step - loss: 0.1570 - acc: 0.9510\n",
      "Epoch 10/20\n",
      "960/960 [==============================] - 0s 135us/step - loss: 0.1460 - acc: 0.9552\n",
      "Epoch 11/20\n",
      "960/960 [==============================] - 0s 133us/step - loss: 0.1370 - acc: 0.9635\n",
      "Epoch 12/20\n",
      "960/960 [==============================] - 0s 127us/step - loss: 0.1298 - acc: 0.9677\n",
      "Epoch 13/20\n",
      "960/960 [==============================] - 0s 154us/step - loss: 0.1235 - acc: 0.9677\n",
      "Epoch 14/20\n",
      "960/960 [==============================] - 0s 130us/step - loss: 0.1182 - acc: 0.9708\n",
      "Epoch 15/20\n",
      "960/960 [==============================] - 0s 140us/step - loss: 0.1137 - acc: 0.9740\n",
      "Epoch 16/20\n",
      "960/960 [==============================] - 0s 131us/step - loss: 0.1096 - acc: 0.9750\n",
      "Epoch 17/20\n",
      "960/960 [==============================] - 0s 133us/step - loss: 0.1061 - acc: 0.9792\n",
      "Epoch 18/20\n",
      "960/960 [==============================] - 0s 129us/step - loss: 0.1028 - acc: 0.9802\n",
      "Epoch 19/20\n",
      "960/960 [==============================] - 0s 128us/step - loss: 0.0998 - acc: 0.9792\n",
      "Epoch 20/20\n",
      "960/960 [==============================] - 0s 142us/step - loss: 0.0971 - acc: 0.9760\n"
     ]
    }
   ],
   "source": [
    "history = model.fit(x_train, y_train, batch_size=16, epochs=20)"
   ]
  },
  {
   "cell_type": "code",
   "execution_count": 71,
   "metadata": {},
   "outputs": [
    {
     "name": "stdout",
     "output_type": "stream",
     "text": [
      "412/412 [==============================] - 0s 128us/step\n",
      "Test accuracy: 97.82 %\n"
     ]
    }
   ],
   "source": [
    "result = model.evaluate(x_test, y_test)\n",
    "print(\"Test accuracy: {:0.2f} %\".format(result[1]*100))"
   ]
  },
  {
   "cell_type": "code",
   "execution_count": null,
   "metadata": {},
   "outputs": [],
   "source": []
  },
  {
   "cell_type": "markdown",
   "metadata": {},
   "source": [
    "1) Koristeci polazne tezine, prikazati grafik zavisnosti \n",
    "- funkcije gubitka\n",
    "- tacnosti klasifikatora\n",
    "\n",
    "za razlicite vrednosti koraka ucenja stohastickog gradijentnog optimizatora. Za broj epoha uzeti vrednost 20, a za velicinu skupa ucenja 16."
   ]
  },
  {
   "cell_type": "code",
   "execution_count": 88,
   "metadata": {},
   "outputs": [],
   "source": [
    "learning_rates = [0.01, 0.05, 0.1, 0.5]"
   ]
  },
  {
   "cell_type": "code",
   "execution_count": null,
   "metadata": {},
   "outputs": [],
   "source": []
  },
  {
   "cell_type": "code",
   "execution_count": null,
   "metadata": {},
   "outputs": [],
   "source": []
  },
  {
   "cell_type": "code",
   "execution_count": null,
   "metadata": {},
   "outputs": [],
   "source": []
  },
  {
   "cell_type": "markdown",
   "metadata": {},
   "source": [
    "2) Koristeci polazne tezine, prikazati grafik zavisnosti \n",
    "- funkcije gubitka\n",
    "- tacnosti klasifikatora\n",
    "\n",
    "za razlicite vrednosti batch_size parametra. "
   ]
  },
  {
   "cell_type": "code",
   "execution_count": 73,
   "metadata": {},
   "outputs": [],
   "source": [
    "batch_sizes = [1, 4, 16, 32, 64, 128]"
   ]
  },
  {
   "cell_type": "code",
   "execution_count": null,
   "metadata": {},
   "outputs": [],
   "source": []
  },
  {
   "cell_type": "code",
   "execution_count": null,
   "metadata": {},
   "outputs": [],
   "source": []
  },
  {
   "cell_type": "code",
   "execution_count": null,
   "metadata": {},
   "outputs": [],
   "source": []
  },
  {
   "cell_type": "code",
   "execution_count": null,
   "metadata": {},
   "outputs": [],
   "source": []
  },
  {
   "cell_type": "markdown",
   "metadata": {},
   "source": [
    "3) Koristeci polazne tezine, prikazati grafik zavisnosti \n",
    "* funkcije gubitka\n",
    "* tacnosti klasifikatora\n",
    "\n",
    "za razlicite izbore optimizatora. Za broj epoha uzeti vrednost 5, a za velicinu skupa treniranja 16. "
   ]
  },
  {
   "cell_type": "code",
   "execution_count": null,
   "metadata": {},
   "outputs": [],
   "source": []
  },
  {
   "cell_type": "code",
   "execution_count": 84,
   "metadata": {},
   "outputs": [],
   "source": [
    "optimizers = ['SGD(lr=0.01)',\n",
    "              'SGD(lr=0.01, momentum=0.3)',\n",
    "              'SGD(lr=0.01, momentum=0.3, nesterov=True)',  \n",
    "              'Adam(lr=0.01)',\n",
    "              'Adagrad(lr=0.01)',\n",
    "              'RMSprop(lr=0.01)']"
   ]
  },
  {
   "cell_type": "code",
   "execution_count": 85,
   "metadata": {},
   "outputs": [],
   "source": [
    "for optimizer_name in optimizers: \n",
    "    \n",
    "    #....\n",
    "    \n",
    "    model.compile(loss='binary_crossentropy', optimizer=eval(optimizer_name), metrics=['acc'])\n",
    "    \n",
    "    #...."
   ]
  },
  {
   "cell_type": "code",
   "execution_count": null,
   "metadata": {},
   "outputs": [],
   "source": []
  },
  {
   "cell_type": "code",
   "execution_count": null,
   "metadata": {},
   "outputs": [],
   "source": []
  },
  {
   "cell_type": "markdown",
   "metadata": {},
   "source": [
    "4) Nacrtati grafik zavisnosti \n",
    "* funkcije gubitka\n",
    "* tacnosti klasifikatora \n",
    "\n",
    "modela zadate specifikacije za razlicite vrednosti inicijalizacije koeficijenata. "
   ]
  },
  {
   "cell_type": "markdown",
   "metadata": {},
   "source": [
    "Za vise informacija: https://keras.io/initializers/"
   ]
  },
  {
   "cell_type": "code",
   "execution_count": 86,
   "metadata": {},
   "outputs": [],
   "source": [
    "initializers = ['zeros', 'ones', 'uniform', 'lecun_uniform', 'normal', 'he_normal', 'glorot_normal']"
   ]
  },
  {
   "cell_type": "code",
   "execution_count": 87,
   "metadata": {},
   "outputs": [
    {
     "name": "stdout",
     "output_type": "stream",
     "text": [
      "Completed with:  zeros\n",
      "Completed with:  ones\n",
      "Completed with:  uniform\n",
      "Completed with:  lecun_uniform\n",
      "Completed with:  normal\n",
      "Completed with:  he_normal\n",
      "Completed with:  glorot_normal\n"
     ]
    }
   ],
   "source": [
    "history_list = []\n",
    "\n",
    "for initializer in initializers: \n",
    "    K.clear_session()\n",
    "\n",
    "    model = Sequential()\n",
    "    model.add(Dense(10, input_shape=(4,),\n",
    "                    kernel_initializer=initializer,\n",
    "                    activation='tanh'))\n",
    "    model.add(Dense(10, kernel_initializer=initializer,\n",
    "                    activation='tanh'))\n",
    "    model.add(Dense(10, kernel_initializer=initializer,\n",
    "                    activation='tanh'))\n",
    "    model.add(Dense(1, kernel_initializer=initializer,\n",
    "                    activation='sigmoid'))\n",
    "\n",
    "    model.compile(loss='binary_crossentropy',\n",
    "                  optimizer='sgd',\n",
    "                  metrics=['acc'])\n",
    "\n",
    "    history = model.fit(x_train, y_train, batch_size=16, epochs=10, verbose=0)\n",
    "    \n",
    "    history_list.append(pd.DataFrame(history.history, index=history.epoch))\n",
    "    print(\"Completed with: \", initializer)"
   ]
  },
  {
   "cell_type": "code",
   "execution_count": null,
   "metadata": {},
   "outputs": [],
   "source": []
  }
 ],
 "metadata": {
  "kernelspec": {
   "display_name": "Python 3",
   "language": "python",
   "name": "python3"
  },
  "language_info": {
   "codemirror_mode": {
    "name": "ipython",
    "version": 3
   },
   "file_extension": ".py",
   "mimetype": "text/x-python",
   "name": "python",
   "nbconvert_exporter": "python",
   "pygments_lexer": "ipython3",
   "version": "3.6.4"
  }
 },
 "nbformat": 4,
 "nbformat_minor": 2
}
