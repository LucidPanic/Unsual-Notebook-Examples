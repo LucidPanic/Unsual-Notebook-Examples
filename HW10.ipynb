{
 "cells": [
  {
   "cell_type": "markdown",
   "metadata": {},
   "source": [
    "# Homework 10\n",
    "\n",
    "## Due Wednesday, Dec. 4 in class\n",
    "\n",
    "* 8.7.1(d)\n",
    "\n",
    "If true give full reasoning, if false give a counter example:\n",
    "\n",
    "* (True or false):  The only matrices with no singular values are matrices with zeros for every entry.\n",
    "* (True or false):  The only matrices with only zeros for eigenvalues are matrices with zeros for every entry.\n",
    "\n",
    "## Suggested problems\n",
    "\n",
    "* Olver and Shakiban 8.7.1, 8.5.13, 8.5.19, 8.7.13, 8.7.15-8.7.17"
   ]
  },
  {
   "cell_type": "code",
   "execution_count": null,
   "metadata": {},
   "outputs": [],
   "source": []
  }
 ],
 "metadata": {
  "kernelspec": {
   "display_name": "Matlab",
   "language": "matlab",
   "name": "matlab"
  },
  "language_info": {
   "codemirror_mode": "octave",
   "file_extension": ".m",
   "help_links": [
    {
     "text": "MetaKernel Magics",
     "url": "https://metakernel.readthedocs.io/en/latest/source/README.html"
    }
   ],
   "mimetype": "text/x-octave",
   "name": "matlab",
   "version": "0.16.7"
  }
 },
 "nbformat": 4,
 "nbformat_minor": 2
}
