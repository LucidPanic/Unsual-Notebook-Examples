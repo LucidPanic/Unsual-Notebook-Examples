








<!DOCTYPE html>
<html lang="en">

<head>
  <meta charset="utf-8">
  <title>Jupyter Notebook Viewer</title>
  <meta name="viewport" content="width=device-width, initial-scale=1.0">
  <meta name="description" content="">
  <meta name="author" content="">
  
  <meta name="robots" content="noindex,nofollow">
  

  <!--NEW RELIC Start Perf Measurement-->
  
  <!--NREND-->

  <!-- Le styles -->
  <link href="/static/build/styles.css?v=55ba354138253381d2c0ada9821cd4da" rel="stylesheet">

  <!-- Le HTML5 shim, for IE6-8 support of HTML5 elements -->
  <!--[if lt IE 9]>
    <script src="http://html5shim.googlecode.com/svn/trunk/html5.js"></script>
  <![endif]-->

  <!-- Le fav and touch icons -->
  <link rel="shortcut icon" href="/static/ico/ipynb_icon_16x16.png">
  <link rel="apple-touch-icon-precomposed" sizes="144x144"
        href="/static/ico/apple-touch-icon-144-precomposed.png?v=5a3c9ede93e2a8b8ea9e3f8f3da1a905">
  <link rel="apple-touch-icon-precomposed" sizes="114x114"
        href="/static/ico/apple-touch-icon-114-precomposed.png?v=45d86fc8f24dc00638035e1dd7a6d898">
  <link rel="apple-touch-icon-precomposed" sizes="72x72"
        href="/static/ico/apple-touch-icon-72-precomposed.png?v=540b5eb0f3cfd25f1439d1c9bd30e15f">
  <link rel="apple-touch-icon-precomposed"
        href="/static/ico/apple-touch-icon-57-precomposed.png?v=225f0590e187e1458625654f10a28f56">
  
  

  

  
  <meta name="twitter:card" content="summary">
  <meta name="twitter:title" content="Notebook on nbviewer">
  <meta name="twitter:description" content="Check out this Jupyter notebook!">

  
  <meta name="twitter:domain" content="nbviewer.jupyter.org">
  <meta name="twitter:image:src" content="http://ipython.org/ipython-doc/dev/_images/ipynb_icon_128x128.png">

  
    <link href="/static/build/notebook.css?v=aae8f92f7e80fc468ae446b9d852fe90" rel="stylesheet">
  

  

  
    <script src="https://cdnjs.cloudflare.com/ajax/libs/mathjax/2.7.1/MathJax.js?config=TeX-AMS_HTML" type="text/javascript">
    </script>
    <script type="text/javascript">
      init_mathjax = function() {
        if (window.MathJax) {
          // MathJax loaded
          MathJax.Hub.Config({
            TeX: {
              equationNumbers: {
                autoNumber: "AMS",
                useLabelIds: true
              }
            },
            tex2jax: {
              inlineMath: [ ['$','$'], ["\\(","\\)"] ],
              displayMath: [ ['$$','$$'], ["\\[","\\]"] ],
              processEscapes: true,
              processEnvironments: true
            },
            displayAlign: 'center',
            "HTML-CSS": {
              styles: {'.MathJax_Display': {"margin": 0}},
              linebreaks: { automatic: true }
            }
          });
          MathJax.Hub.Queue(["Typeset", MathJax.Hub]);
        }
      }
      init_mathjax();
    </script>
  

  
    <script>
      (function() {
        function addWidgetsRenderer() {
          var mimeElement = document.querySelector('script[type="application/vnd.jupyter.widget-view+json"]');
          var scriptElement = document.createElement('script');
          var widgetRendererSrc = 'https://unpkg.com/@jupyter-widgets/html-manager@0.15/dist/embed-amd.js';
          var widgetState;

          try {
            widgetState = mimeElement && JSON.parse(mimeElement.innerHTML);

            if (widgetState && (widgetState.version_major < 2 || !widgetState.version_major)) {
              widgetRendererSrc = 'https://unpkg.com/jupyter-js-widgets@2.1/dist/embed.js';
            }
          } catch(e) {}

          scriptElement.src = widgetRendererSrc;
          document.body.appendChild(scriptElement);
        }

        document.addEventListener('DOMContentLoaded', addWidgetsRenderer);
      }());
    </script>
  

</head>

<body class="nbviewer">

  <!-- These are loaded at the top of the body so they are available to
       notebook cells when they are loaded below. -->
  <script src="/static/components/jquery/dist/jquery.min.js?v=220afd743d9e9643852e31a135a9f3ae"></script>
  <script src="/static/components/requirejs/require.js?v=6da8be361b9ee26c5e721e76c6d4afce"></script>
  <script src="/static/components/moment/min/moment.min.js?v=89f87298ad94aa1e6b92f42eb66da043"></script>
<!-- Navbar
================================================== -->
  <nav id="menubar" class="navbar navbar-default navbar-fixed-top" data-spy="affix">
    <div class="container">
      <div class="navbar-header">
        <button type="button" class="navbar-toggle collapsed" data-toggle="collapse" data-target=".navbar-collapse">
          <span class="sr-only">Toggle navigation</span>
          <i class="fa fa-bars"></i>
        </button>
        <a class="navbar-brand" href="/">
          <img src="/static/img/nav_logo.svg?v=479cefe8d932fb14a67b93911b97d70f" width="159"/>
        </a>
      </div>

      <div class="collapse navbar-collapse">
        <ul class="nav navbar-nav navbar-right">
          <li>
            <a class="active" href="https://jupyter.org">JUPYTER</a>
          </li>
          <li>
    <a href="/faq" title="FAQ" >
      
        <span>FAQ</span>
      
    </a>
  </li>

          
  
    
  
    
      
        <li>
    <a href="/format/script/github/Naereen/notebooks/blob/master/agreg/Sudoku.ipynb" title="View as Code" >
      <span class="fa fa-code fa-2x menu-icon"></span>
      <span class="menu-text">View as Code</span>
    </a>
  </li>
      
    
  

  
    <li>
    <a href="#" title="OCaml 4.04.2 Kernel" >
      <span class="fa fa-server fa-2x menu-icon"></span>
      <span class="menu-text">OCaml 4.04.2 Kernel</span>
    </a>
  </li>
  

  
    <li>
    <a href="https://github.com/Naereen/notebooks/blob/master/agreg/Sudoku.ipynb" title="View on GitHub" >
      <span class="fa fa-github fa-2x menu-icon"></span>
      <span class="menu-text">View on GitHub</span>
    </a>
  </li>
  

  
    <li>
    <a href="https://mybinder.org/v2/gh/Naereen/notebooks/master?filepath=agreg/Sudoku.ipynb" title="Execute on Binder" >
      <span class="fa fa-icon-binder fa-2x menu-icon"></span>
      <span class="menu-text">Execute on Binder</span>
    </a>
  </li>
  

  <li>
    <a href="https://raw.githubusercontent.com/Naereen/notebooks/master/agreg/Sudoku.ipynb" title="Download Notebook" download>
      <span class="fa fa-download fa-2x menu-icon"></span>
      <span class="menu-text">Download Notebook</span>
    </a>
  </li>

        </ul>
      </div><!-- /.navbar-collapse -->
      
      
    </div>
  </nav>

  <div class="container container-main">
    
  
  <ol class="breadcrumb">
    
      <li>
        <a href="/github/Naereen/notebooks/tree/master">notebooks</a>
      </li>
    
      <li>
        <a href="/github/Naereen/notebooks/tree/master/agreg">agreg</a>
      </li>
    
  </ol>
  
  <div id="notebook">
    <div id="notebook-container">
      <div class="cell border-box-sizing text_cell rendered"><div class="prompt input_prompt">
</div><div class="inner_cell">
<div class="text_cell_render border-box-sizing rendered_html">
<h1 id="Table-of-Contents">Table of Contents<a class="anchor-link" href="#Table-of-Contents">&#182;</a></h1><p><p><div class="lev1 toc-item"><a href="#Texte-d'oral-de-modélisation---Agrégation-Option-Informatique" data-toc-modified-id="Texte-d'oral-de-modélisation---Agrégation-Option-Informatique-1"><span class="toc-item-num">1&nbsp;&nbsp;</span>Texte d'oral de modélisation - Agrégation Option Informatique</a></div><div class="lev2 toc-item"><a href="#Préparation-à-l'agrégation---ENS-de-Rennes,-2016-17" data-toc-modified-id="Préparation-à-l'agrégation---ENS-de-Rennes,-2016-17-11"><span class="toc-item-num">1.1&nbsp;&nbsp;</span>Préparation à l'agrégation - ENS de Rennes, 2016-17</a></div><div class="lev2 toc-item"><a href="#À-propos-de-ce-document" data-toc-modified-id="À-propos-de-ce-document-12"><span class="toc-item-num">1.2&nbsp;&nbsp;</span>À propos de ce document</a></div><div class="lev2 toc-item"><a href="#Question-de-programmation" data-toc-modified-id="Question-de-programmation-13"><span class="toc-item-num">1.3&nbsp;&nbsp;</span>Question de programmation</a></div><div class="lev2 toc-item"><a href="#Réponse-à-l'exercice-requis" data-toc-modified-id="Réponse-à-l'exercice-requis-14"><span class="toc-item-num">1.4&nbsp;&nbsp;</span>Réponse à l'exercice requis</a></div><div class="lev3 toc-item"><a href="#Une-autre-approche" data-toc-modified-id="Une-autre-approche-141"><span class="toc-item-num">1.4.1&nbsp;&nbsp;</span>Une autre approche</a></div><div class="lev3 toc-item"><a href="#Un-mauvais-exemple" data-toc-modified-id="Un-mauvais-exemple-142"><span class="toc-item-num">1.4.2&nbsp;&nbsp;</span>Un mauvais exemple</a></div><div class="lev3 toc-item"><a href="#Un-bon-exemple" data-toc-modified-id="Un-bon-exemple-143"><span class="toc-item-num">1.4.3&nbsp;&nbsp;</span>Un bon exemple</a></div><div class="lev3 toc-item"><a href="#Un-exemple-de-Su-Doku-de-taille-$9-\times-9$-au-compte-juste" data-toc-modified-id="Un-exemple-de-Su-Doku-de-taille-$9-\times-9$-au-compte-juste-144"><span class="toc-item-num">1.4.4&nbsp;&nbsp;</span>Un exemple de Su Doku de taille <span class="MathJax_Preview" style="color: inherit;"><span class="MJXp-math" id="MJXp-Span-274"><span class="MJXp-mn" id="MJXp-Span-275">9</span><span class="MJXp-mo" id="MJXp-Span-276" style="margin-left: 0.267em; margin-right: 0.267em;">×</span><span class="MJXp-mn" id="MJXp-Span-277">9</span></span></span><script type="math/tex" id="MathJax-Element-41">9 \times 9</script> au compte juste</a></div><div class="lev3 toc-item"><a href="#Un-exemple-de-Su-Doku-au-comte-faux" data-toc-modified-id="Un-exemple-de-Su-Doku-au-comte-faux-145"><span class="toc-item-num">1.4.5&nbsp;&nbsp;</span>Un exemple de Su Doku au <em>comte</em> faux</a></div><div class="lev3 toc-item"><a href="#Un-exemple-de-comte...-Dooku-?" data-toc-modified-id="Un-exemple-de-comte...-Dooku-?-146"><span class="toc-item-num">1.4.6&nbsp;&nbsp;</span>Un exemple de comte... Dooku ?</a></div><div class="lev2 toc-item"><a href="#Vérifier-les-autres-contraintes" data-toc-modified-id="Vérifier-les-autres-contraintes-15"><span class="toc-item-num">1.5&nbsp;&nbsp;</span>Vérifier les autres contraintes</a></div><div class="lev2 toc-item"><a href="#Conclusion" data-toc-modified-id="Conclusion-16"><span class="toc-item-num">1.6&nbsp;&nbsp;</span>Conclusion</a></div></p>

</div>
</div>
</div>
<div class="cell border-box-sizing text_cell rendered"><div class="prompt input_prompt">
</div><div class="inner_cell">
<div class="text_cell_render border-box-sizing rendered_html">
<h1 id="Texte-d'oral-de-mod&#233;lisation---Agr&#233;gation-Option-Informatique">Texte d'oral de mod&#233;lisation - Agr&#233;gation Option Informatique<a class="anchor-link" href="#Texte-d'oral-de-mod&#233;lisation---Agr&#233;gation-Option-Informatique">&#182;</a></h1><h2 id="Pr&#233;paration-&#224;-l'agr&#233;gation---ENS-de-Rennes,-2016-17">Pr&#233;paration &#224; l'agr&#233;gation - ENS de Rennes, 2016-17<a class="anchor-link" href="#Pr&#233;paration-&#224;-l'agr&#233;gation---ENS-de-Rennes,-2016-17">&#182;</a></h2><ul>
<li><em>Date</em> : 3 avril 2017</li>
<li><em>Auteur</em> : <a href="https://GitHub.com/Naereen/notebooks/">Lilian Besson</a></li>
<li><em>Texte</em>: Annale 2006, "Sudoku"</li>
</ul>

</div>
</div>
</div>
<div class="cell border-box-sizing text_cell rendered"><div class="prompt input_prompt">
</div><div class="inner_cell">
<div class="text_cell_render border-box-sizing rendered_html">
<h2 id="&#192;-propos-de-ce-document">&#192; propos de ce document<a class="anchor-link" href="#&#192;-propos-de-ce-document">&#182;</a></h2><ul>
<li>Ceci est une <em>proposition</em> de correction, partielle et probablement non-optimale, pour la partie implémentation d'un <a href="http://Agreg.org/Textes/">texte d'annale de l'agrégation de mathématiques, option informatique</a>.</li>
<li>Ce document est un <a href="https://www.Jupyter.org/">notebook Jupyter</a>, et <a href="https://github.com/Naereen/notebooks/tree/master/agreg/">est open-source sous Licence MIT sur GitHub</a>, comme les autres solutions de textes de modélisation que <a href="https://GitHub.com/Naereen">j</a>'ai écrite cette année.</li>
<li>L'implémentation sera faite en OCaml, version 4+ :</li>
</ul>

</div>
</div>
</div>
<div class="cell border-box-sizing code_cell rendered">
<div class="input">
<div class="prompt input_prompt">In&nbsp;[1]:</div>
<div class="inner_cell">
    <div class="input_area">
<div class=" highlight hl-OCaml"><pre><span></span><span class="nn">Sys</span><span class="p">.</span><span class="n">command</span> <span class="s2">&quot;ocaml -version&quot;</span><span class="o">;;</span>
</pre></div>

    </div>
</div>
</div>

<div class="output_wrapper">
<div class="output">


<div class="output_area">

    <div class="prompt"></div>


<div class="output_subarea output_stream output_stdout output_text">
<pre>The OCaml toplevel, version 4.02.3
</pre>
</div>
</div>

<div class="output_area">

    <div class="prompt output_prompt">Out[1]:</div>



<div class="output_html rendered_html output_subarea output_execute_result">
<pre style="color:slategray;max-height:100px;overflow:hidden" 
onclick="
if (this.style.maxHeight === 'none') 
    this.style.maxHeight = '100px';
else
    this.style.maxHeight = 'none'; 
">- : int = 0
</pre>
</div>

</div>

</div>
</div>

</div>
<div class="cell border-box-sizing text_cell rendered"><div class="prompt input_prompt">
</div><div class="inner_cell">
<div class="text_cell_render border-box-sizing rendered_html">
<hr>
<h2 id="Question-de-programmation">Question de programmation<a class="anchor-link" href="#Question-de-programmation">&#182;</a></h2><p>La question de programmation pour ce texte était donnée au tout début, en page 2 :</p>
<blockquote><p>« Écrire une fonction prenant pour paramètres un entier, $p \geq 1$, et un tableau carré de côté $p$ (donc de taille $p^2$) d'entiers, $T$, et renvoyant un booléen disant si ce tableau est un carré latin, c'est-à-dire contenant dans chaque ligne et chaque colonne une et une seule fois chaque entier de $1$ à $p$.</p>
</blockquote>
<p>Mathématiquement, si $N_p := \{1,\dots,p\}$, cela donne un prédicat $\mathrm{estCarreLatin}_p(T)$ sur un tableau $T$ :
$$
\mathrm{estCarreLatin}_p(T) \Longleftrightarrow
\forall i \in N_p, \left\{ T_{i,j} : j \in N_p \right\} = N_p
\;\text{and}\;
\forall j \in N_p, \left\{ T_{i,j} : i \in N_p \right\} = N_p
$$</p>
<blockquote><p>« En prenant $p = n^2$ on obtient une partie des contraintes d'admissibilité d'une grille complète de Su Doku, mais il reste encore à vérifier la contrainte sur les petits carrés. »</p>
</blockquote>
<p>Pour l'annecdote historique, cette idée de carré latin date vraiment de l'époque romaine antique. On a trouvé à Pompeï des carrés latins de taille $4$ ou $5$ !</p>

</div>
</div>
</div>
<div class="cell border-box-sizing text_cell rendered"><div class="prompt input_prompt">
</div><div class="inner_cell">
<div class="text_cell_render border-box-sizing rendered_html">
<hr>
<h2 id="R&#233;ponse-&#224;-l'exercice-requis">R&#233;ponse &#224; l'exercice requis<a class="anchor-link" href="#R&#233;ponse-&#224;-l'exercice-requis">&#182;</a></h2><p>C'est assez rapide :</p>
<ol>
<li>On écrit une fonction qui permet d'extraire une ligne ou une colonne d'un tableau $T$,</li>
<li>On écrit ensuite une fonction qui permet de vérifier si un tableau de $p$ entiers contient exactement $N_p = \{1, \dots, p\}$,</li>
<li>Enfin, on vérifie toutes les contraintes.</li>
</ol>

</div>
</div>
</div>
<div class="cell border-box-sizing text_cell rendered"><div class="prompt input_prompt">
</div><div class="inner_cell">
<div class="text_cell_render border-box-sizing rendered_html">
<blockquote><p><em>Remarque:</em> On suppose que tous les tableaux considérés sont :</p>
<ul>
<li><strong>non vides</strong></li>
<li>et <strong>carrés</strong>
On ne vérifie pas ces deux points.</li>
</ul>
</blockquote>

</div>
</div>
</div>
<div class="cell border-box-sizing code_cell rendered">
<div class="input">
<div class="prompt input_prompt">In&nbsp;[2]:</div>
<div class="inner_cell">
    <div class="input_area">
<div class=" highlight hl-OCaml"><pre><span></span><span class="k">let</span> <span class="n">ligne</span> <span class="n">p</span> <span class="n">t</span> <span class="n">i</span> <span class="o">=</span> <span class="nn">Array</span><span class="p">.</span><span class="n">init</span> <span class="n">p</span> <span class="o">(</span><span class="k">fun</span> <span class="n">j</span> <span class="o">-&gt;</span> <span class="n">t</span><span class="o">.(</span><span class="n">i</span><span class="o">).(</span><span class="n">j</span><span class="o">))</span> <span class="o">;;</span>
<span class="c">(* t.(i) marche aussi bien ! *)</span>

<span class="k">let</span> <span class="n">colonne</span> <span class="n">p</span> <span class="n">t</span> <span class="n">j</span> <span class="o">=</span> <span class="nn">Array</span><span class="p">.</span><span class="n">init</span> <span class="n">p</span> <span class="o">(</span><span class="k">fun</span> <span class="n">i</span> <span class="o">-&gt;</span> <span class="n">t</span><span class="o">.(</span><span class="n">i</span><span class="o">).(</span><span class="n">j</span><span class="o">))</span> <span class="o">;;</span>
</pre></div>

    </div>
</div>
</div>

<div class="output_wrapper">
<div class="output">


<div class="output_area">

    <div class="prompt output_prompt">Out[2]:</div>



<div class="output_html rendered_html output_subarea output_execute_result">
<pre style="color:slategray;max-height:100px;overflow:hidden" 
onclick="
if (this.style.maxHeight === 'none') 
    this.style.maxHeight = '100px';
else
    this.style.maxHeight = 'none'; 
">val ligne : int -&gt; 'a array array -&gt; int -&gt; 'a array = &lt;fun&gt;
</pre>
</div>

</div>

<div class="output_area">

    <div class="prompt output_prompt">Out[2]:</div>



<div class="output_html rendered_html output_subarea output_execute_result">
<pre style="color:slategray;max-height:100px;overflow:hidden" 
onclick="
if (this.style.maxHeight === 'none') 
    this.style.maxHeight = '100px';
else
    this.style.maxHeight = 'none'; 
">val colonne : int -&gt; 'a array array -&gt; int -&gt; 'a array = &lt;fun&gt;
</pre>
</div>

</div>

</div>
</div>

</div>
<div class="cell border-box-sizing text_cell rendered"><div class="prompt input_prompt">
</div><div class="inner_cell">
<div class="text_cell_render border-box-sizing rendered_html">
<p>On a besoin de savoir si un tableau de booléens sont tous vrais ou pas.
On peut utiliser la fonction déjà existante, <code>Array.for_all</code>, ou bien un <code>Array.fold_left</code>, ou une implémentation manuelle.</p>

</div>
</div>
</div>
<div class="cell border-box-sizing code_cell rendered">
<div class="input">
<div class="prompt input_prompt">In&nbsp;[1]:</div>
<div class="inner_cell">
    <div class="input_area">
<div class=" highlight hl-OCaml"><pre><span></span><span class="k">let</span> <span class="n">tousVrai</span> <span class="n">tab</span> <span class="o">=</span>
    <span class="k">let</span> <span class="n">res</span> <span class="o">=</span> <span class="n">ref</span> <span class="bp">true</span> <span class="k">in</span>
    <span class="k">for</span> <span class="n">i</span> <span class="o">=</span> <span class="mi">0</span> <span class="k">to</span> <span class="o">(</span><span class="nn">Array</span><span class="p">.</span><span class="n">length</span> <span class="n">tab</span><span class="o">)</span> <span class="o">-</span> <span class="mi">1</span> <span class="k">do</span>
        <span class="n">res</span> <span class="o">:=</span> <span class="o">!</span><span class="n">res</span> <span class="o">&amp;&amp;</span> <span class="n">tab</span><span class="o">.(</span><span class="n">i</span><span class="o">)</span>
    <span class="k">done</span><span class="o">;</span>
    <span class="o">!</span><span class="n">res</span>
<span class="o">;;</span>
</pre></div>

    </div>
</div>
</div>

<div class="output_wrapper">
<div class="output">


<div class="output_area">

    <div class="prompt output_prompt">Out[1]:</div>




<div class="output_text output_subarea output_execute_result">
<pre>val tousVrai : bool array -&gt; bool = &lt;fun&gt;
</pre>
</div>

</div>

</div>
</div>

</div>
<div class="cell border-box-sizing code_cell rendered">
<div class="input">
<div class="prompt input_prompt">In&nbsp;[2]:</div>
<div class="inner_cell">
    <div class="input_area">
<div class=" highlight hl-OCaml"><pre><span></span><span class="k">let</span> <span class="n">tousVrai</span> <span class="o">=</span> <span class="nn">Array</span><span class="p">.</span><span class="n">fold_left</span> <span class="o">(&amp;&amp;)</span> <span class="bp">true</span><span class="o">;;</span>
<span class="c">(* Array.for_all marche aussi bien ! *)</span>
</pre></div>

    </div>
</div>
</div>

<div class="output_wrapper">
<div class="output">


<div class="output_area">

    <div class="prompt output_prompt">Out[2]:</div>




<div class="output_text output_subarea output_execute_result">
<pre>val tousVrai : bool array -&gt; bool = &lt;fun&gt;
</pre>
</div>

</div>

</div>
</div>

</div>
<div class="cell border-box-sizing text_cell rendered"><div class="prompt input_prompt">
</div><div class="inner_cell">
<div class="text_cell_render border-box-sizing rendered_html">
<p>Ca permet de facilement vérifier si un tableau <code>tab</code> de taille $p$ est exactement $N_p = \{1,\dots,p\}$, en temps linéaire (c'est optimal) en $p$.</p>
<ol>
<li>On ajoute un test que tous les entiers soient bien entre $1$ et $p$,</li>
<li>puis on fait ce test en $\mathcal{O}(\# tab)$, en créant est un tableau <code>estLa</code> de taille $p$, remplis de <code>false</code>. En bouclant sur $t$, on remplit $\texttt{tab}[i]$ à <code>true</code> dans <code>estLa</code> (en fait, <code>tab(i) - 1</code> car les indices sont entre $0$ et $p-1$). A la fin, si le tableau <code>estLa</code> est rempli de <code>true</code>, alors on a vu tous les entiers de $N_p$ une et une seule fois.</li>
</ol>

</div>
</div>
</div>
<div class="cell border-box-sizing code_cell rendered">
<div class="input">
<div class="prompt input_prompt">In&nbsp;[3]:</div>
<div class="inner_cell">
    <div class="input_area">
<div class=" highlight hl-OCaml"><pre><span></span><span class="k">let</span> <span class="n">estNp</span> <span class="n">p</span> <span class="n">tab</span> <span class="o">=</span>
    <span class="k">if</span> <span class="n">tousVrai</span> <span class="o">(</span><span class="nn">Array</span><span class="p">.</span><span class="n">map</span> <span class="o">(</span><span class="k">fun</span> <span class="n">x</span> <span class="o">-&gt;</span> <span class="o">(</span><span class="mi">1</span> <span class="o">&lt;=</span> <span class="n">x</span><span class="o">)</span> <span class="o">&amp;&amp;</span> <span class="o">(</span><span class="n">x</span> <span class="o">&lt;=</span> <span class="n">p</span><span class="o">))</span> <span class="n">tab</span><span class="o">)</span> <span class="k">then</span> <span class="k">begin</span> 
        <span class="k">let</span> <span class="n">estLa</span> <span class="o">=</span> <span class="nn">Array</span><span class="p">.</span><span class="n">make</span> <span class="n">p</span> <span class="bp">false</span> <span class="k">in</span>
        <span class="k">for</span> <span class="n">i</span> <span class="o">=</span> <span class="mi">0</span> <span class="k">to</span> <span class="n">p</span> <span class="o">-</span> <span class="mi">1</span> <span class="k">do</span>
            <span class="n">estLa</span><span class="o">.(</span><span class="n">tab</span><span class="o">.(</span><span class="n">i</span><span class="o">)</span> <span class="o">-</span> <span class="mi">1</span><span class="o">)</span> <span class="o">&lt;-</span> <span class="bp">true</span>
        <span class="k">done</span><span class="o">;</span>
        <span class="n">tousVrai</span> <span class="n">estLa</span>
    <span class="k">end</span>
    <span class="k">else</span>
        <span class="bp">false</span>
<span class="o">;;</span>
</pre></div>

    </div>
</div>
</div>

<div class="output_wrapper">
<div class="output">


<div class="output_area">

    <div class="prompt output_prompt">Out[3]:</div>




<div class="output_text output_subarea output_execute_result">
<pre>val estNp : int -&gt; int array -&gt; bool = &lt;fun&gt;
</pre>
</div>

</div>

</div>
</div>

</div>
<div class="cell border-box-sizing text_cell rendered"><div class="prompt input_prompt">
</div><div class="inner_cell">
<div class="text_cell_render border-box-sizing rendered_html">
<p>On va adopter une méthode naïve mais simple à écrire :</p>
<ul>
<li>on construit deux tableaux de $p$ booléens,</li>
<li>on les remplit des contraintes pour les $p$ lignes et les $p$ colonnes,</li>
<li>et on les vérifie avec <code>tousVrai</code>.</li>
</ul>

</div>
</div>
</div>
<div class="cell border-box-sizing code_cell rendered">
<div class="input">
<div class="prompt input_prompt">In&nbsp;[32]:</div>
<div class="inner_cell">
    <div class="input_area">
<div class=" highlight hl-OCaml"><pre><span></span><span class="k">let</span> <span class="n">contraintes_lignes</span> <span class="n">p</span> <span class="n">t</span> <span class="o">=</span>
    <span class="n">tousVrai</span> <span class="o">(</span><span class="nn">Array</span><span class="p">.</span><span class="n">init</span> <span class="n">p</span> <span class="o">(</span><span class="k">fun</span> <span class="n">i</span> <span class="o">-&gt;</span>
            <span class="n">estNp</span> <span class="n">p</span> <span class="o">(</span><span class="n">ligne</span> <span class="n">p</span> <span class="n">t</span> <span class="n">i</span><span class="o">)</span>
        <span class="o">))</span>
<span class="o">;;</span>
</pre></div>

    </div>
</div>
</div>

<div class="output_wrapper">
<div class="output">


<div class="output_area">

    <div class="prompt output_prompt">Out[32]:</div>



<div class="output_html rendered_html output_subarea output_execute_result">
<pre style="color:slategray;max-height:100px;overflow:hidden" 
onclick="
if (this.style.maxHeight === 'none') 
    this.style.maxHeight = '100px';
else
    this.style.maxHeight = 'none'; 
">val contraintes_lignes : int -&gt; int array array -&gt; bool = &lt;fun&gt;
</pre>
</div>

</div>

</div>
</div>

</div>
<div class="cell border-box-sizing code_cell rendered">
<div class="input">
<div class="prompt input_prompt">In&nbsp;[31]:</div>
<div class="inner_cell">
    <div class="input_area">
<div class=" highlight hl-OCaml"><pre><span></span><span class="k">let</span> <span class="n">contraintes_colonnes</span> <span class="n">p</span> <span class="n">t</span> <span class="o">=</span>
    <span class="n">tousVrai</span> <span class="o">(</span><span class="nn">Array</span><span class="p">.</span><span class="n">init</span> <span class="n">p</span> <span class="o">(</span><span class="k">fun</span> <span class="n">j</span> <span class="o">-&gt;</span>
            <span class="n">estNp</span> <span class="n">p</span> <span class="o">(</span><span class="n">colonne</span> <span class="n">p</span> <span class="n">t</span> <span class="n">j</span><span class="o">)</span>
        <span class="o">))</span>
<span class="o">;;</span>
</pre></div>

    </div>
</div>
</div>

<div class="output_wrapper">
<div class="output">


<div class="output_area">

    <div class="prompt output_prompt">Out[31]:</div>



<div class="output_html rendered_html output_subarea output_execute_result">
<pre style="color:slategray;max-height:100px;overflow:hidden" 
onclick="
if (this.style.maxHeight === 'none') 
    this.style.maxHeight = '100px';
else
    this.style.maxHeight = 'none'; 
">val contraintes_colonnes : int -&gt; int array array -&gt; bool = &lt;fun&gt;
</pre>
</div>

</div>

</div>
</div>

</div>
<div class="cell border-box-sizing code_cell rendered">
<div class="input">
<div class="prompt input_prompt">In&nbsp;[7]:</div>
<div class="inner_cell">
    <div class="input_area">
<div class=" highlight hl-OCaml"><pre><span></span><span class="k">let</span> <span class="n">carre_latin</span> <span class="n">p</span> <span class="n">t</span> <span class="o">=</span>
    <span class="o">(</span><span class="n">contraintes_lignes</span> <span class="n">p</span> <span class="n">t</span><span class="o">)</span> <span class="o">&amp;&amp;</span> <span class="o">(</span><span class="n">contraintes_colonnes</span> <span class="n">p</span> <span class="n">t</span><span class="o">)</span>
<span class="o">;;</span>
</pre></div>

    </div>
</div>
</div>

<div class="output_wrapper">
<div class="output">


<div class="output_area">

    <div class="prompt output_prompt">Out[7]:</div>



<div class="output_html rendered_html output_subarea output_execute_result">
<pre style="color:slategray;max-height:100px;overflow:hidden" 
onclick="
if (this.style.maxHeight === 'none') 
    this.style.maxHeight = '100px';
else
    this.style.maxHeight = 'none'; 
">val carre_latin : int -&gt; int array array -&gt; bool = &lt;fun&gt;
</pre>
</div>

</div>

</div>
</div>

</div>
<div class="cell border-box-sizing text_cell rendered"><div class="prompt input_prompt">
</div><div class="inner_cell">
<div class="text_cell_render border-box-sizing rendered_html">
<h3 id="Une-autre-approche">Une autre approche<a class="anchor-link" href="#Une-autre-approche">&#182;</a></h3><p>Plutôt que d'écrire une fonction pour extraire une colonne, et deux fonction qui vérifies les contraintes sur les lignes et les colonnes, on remarque le fait suivant :</p>
<blockquote><p>« Les colonnes de $t$ sont les lignes de $t^T$, la matrice transposée de $t$ ».</p>
</blockquote>
<p>Donc pas besoin de savoir extraire les colonnes, dès qu'on a écrit <code>contraintes_lignes</code>, on peut avoir les contraintes sur les colonnes facilement.</p>
<p>Pour calculer la transposée, une approche simple utilise deux boucles <code>for</code> :</p>

</div>
</div>
</div>
<div class="cell border-box-sizing code_cell rendered">
<div class="input">
<div class="prompt input_prompt">In&nbsp;[8]:</div>
<div class="inner_cell">
    <div class="input_area">
<div class=" highlight hl-OCaml"><pre><span></span><span class="k">let</span> <span class="n">transpose_for</span> <span class="n">p</span> <span class="n">tab</span> <span class="o">=</span>
    <span class="k">let</span> <span class="n">tab2</span> <span class="o">=</span> <span class="nn">Array</span><span class="p">.</span><span class="n">make_matrix</span> <span class="n">p</span> <span class="n">p</span> <span class="mi">0</span> <span class="k">in</span>
    <span class="k">for</span> <span class="n">i</span> <span class="o">=</span> <span class="mi">0</span> <span class="k">to</span> <span class="n">p</span> <span class="o">-</span> <span class="mi">1</span> <span class="k">do</span>
        <span class="k">for</span> <span class="n">j</span> <span class="o">=</span> <span class="mi">0</span> <span class="k">to</span> <span class="n">p</span> <span class="o">-</span> <span class="mi">1</span> <span class="k">do</span>
            <span class="n">tab2</span><span class="o">.(</span><span class="n">i</span><span class="o">).(</span><span class="n">j</span><span class="o">)</span> <span class="o">&lt;-</span> <span class="n">tab</span><span class="o">.(</span><span class="n">j</span><span class="o">).(</span><span class="n">i</span><span class="o">);</span>
        <span class="k">done</span><span class="o">;</span>
    <span class="k">done</span><span class="o">;</span>
    <span class="n">tab2</span>
<span class="o">;;</span>
</pre></div>

    </div>
</div>
</div>

<div class="output_wrapper">
<div class="output">


<div class="output_area">

    <div class="prompt output_prompt">Out[8]:</div>



<div class="output_html rendered_html output_subarea output_execute_result">
<pre style="color:slategray;max-height:100px;overflow:hidden" 
onclick="
if (this.style.maxHeight === 'none') 
    this.style.maxHeight = '100px';
else
    this.style.maxHeight = 'none'; 
">val transpose_for : int -&gt; int array array -&gt; int array array = &lt;fun&gt;
</pre>
</div>

</div>

</div>
</div>

</div>
<div class="cell border-box-sizing text_cell rendered"><div class="prompt input_prompt">
</div><div class="inner_cell">
<div class="text_cell_render border-box-sizing rendered_html">
<p>On peut rapidement vérifier sur un exemple,
$$ \begin{bmatrix} 1 &amp; 2 \\ 3 &amp; 4 \end{bmatrix}^{T} = \begin{bmatrix} 1 &amp; 3 \\ 2 &amp; 4 \end{bmatrix}. $$</p>

</div>
</div>
</div>
<div class="cell border-box-sizing code_cell rendered">
<div class="input">
<div class="prompt input_prompt">In&nbsp;[9]:</div>
<div class="inner_cell">
    <div class="input_area">
<div class=" highlight hl-OCaml"><pre><span></span><span class="n">transpose_for</span> <span class="mi">2</span> <span class="o">[|</span> <span class="o">[|</span><span class="mi">1</span><span class="o">;</span> <span class="mi">2</span><span class="o">|];</span> <span class="o">[|</span><span class="mi">3</span><span class="o">;</span> <span class="mi">4</span><span class="o">|]</span> <span class="o">|];;</span>
</pre></div>

    </div>
</div>
</div>

<div class="output_wrapper">
<div class="output">


<div class="output_area">

    <div class="prompt output_prompt">Out[9]:</div>



<div class="output_html rendered_html output_subarea output_execute_result">
<pre style="color:slategray;max-height:100px;overflow:hidden" 
onclick="
if (this.style.maxHeight === 'none') 
    this.style.maxHeight = '100px';
else
    this.style.maxHeight = 'none'; 
">- : int array array = [|[|1; 3|]; [|2; 4|]|]
</pre>
</div>

</div>

</div>
</div>

</div>
<div class="cell border-box-sizing text_cell rendered"><div class="prompt input_prompt">
</div><div class="inner_cell">
<div class="text_cell_render border-box-sizing rendered_html">
<p>Notez qu'on peut faire mieux, sans boucles <code>for</code>, avec deux <code>Array.init</code> imbriqués :</p>

</div>
</div>
</div>
<div class="cell border-box-sizing code_cell rendered">
<div class="input">
<div class="prompt input_prompt">In&nbsp;[10]:</div>
<div class="inner_cell">
    <div class="input_area">
<div class=" highlight hl-OCaml"><pre><span></span><span class="k">let</span> <span class="n">transpose</span> <span class="n">p</span> <span class="n">tab</span> <span class="o">=</span>
    <span class="nn">Array</span><span class="p">.</span><span class="n">init</span> <span class="n">p</span> <span class="o">(</span><span class="k">fun</span> <span class="n">i</span> <span class="o">-&gt;</span> <span class="o">(</span><span class="nn">Array</span><span class="p">.</span><span class="n">init</span> <span class="n">p</span> <span class="o">(</span><span class="k">fun</span> <span class="n">j</span> <span class="o">-&gt;</span> <span class="n">tab</span><span class="o">.(</span><span class="n">j</span><span class="o">).(</span><span class="n">i</span><span class="o">))));;</span>
</pre></div>

    </div>
</div>
</div>

<div class="output_wrapper">
<div class="output">


<div class="output_area">

    <div class="prompt output_prompt">Out[10]:</div>



<div class="output_html rendered_html output_subarea output_execute_result">
<pre style="color:slategray;max-height:100px;overflow:hidden" 
onclick="
if (this.style.maxHeight === 'none') 
    this.style.maxHeight = '100px';
else
    this.style.maxHeight = 'none'; 
">val transpose : int -&gt; 'a array array -&gt; 'a array array = &lt;fun&gt;
</pre>
</div>

</div>

</div>
</div>

</div>
<div class="cell border-box-sizing code_cell rendered">
<div class="input">
<div class="prompt input_prompt">In&nbsp;[11]:</div>
<div class="inner_cell">
    <div class="input_area">
<div class=" highlight hl-OCaml"><pre><span></span><span class="n">transpose</span> <span class="mi">2</span> <span class="o">[|</span> <span class="o">[|</span><span class="mi">1</span><span class="o">;</span> <span class="mi">2</span><span class="o">|];</span> <span class="o">[|</span><span class="mi">3</span><span class="o">;</span> <span class="mi">4</span><span class="o">|]</span> <span class="o">|];;</span>
</pre></div>

    </div>
</div>
</div>

<div class="output_wrapper">
<div class="output">


<div class="output_area">

    <div class="prompt output_prompt">Out[11]:</div>



<div class="output_html rendered_html output_subarea output_execute_result">
<pre style="color:slategray;max-height:100px;overflow:hidden" 
onclick="
if (this.style.maxHeight === 'none') 
    this.style.maxHeight = '100px';
else
    this.style.maxHeight = 'none'; 
">- : int array array = [|[|1; 3|]; [|2; 4|]|]
</pre>
</div>

</div>

</div>
</div>

</div>
<div class="cell border-box-sizing text_cell rendered"><div class="prompt input_prompt">
</div><div class="inner_cell">
<div class="text_cell_render border-box-sizing rendered_html">
<p>Et donc :</p>

</div>
</div>
</div>
<div class="cell border-box-sizing code_cell rendered">
<div class="input">
<div class="prompt input_prompt">In&nbsp;[12]:</div>
<div class="inner_cell">
    <div class="input_area">
<div class=" highlight hl-OCaml"><pre><span></span><span class="k">let</span> <span class="n">carre_latin2</span> <span class="n">p</span> <span class="n">t</span> <span class="o">=</span>
    <span class="o">(</span><span class="n">contraintes_lignes</span> <span class="n">p</span> <span class="n">t</span><span class="o">)</span> <span class="o">&amp;&amp;</span> <span class="o">(</span><span class="n">contraintes_lignes</span> <span class="n">p</span> <span class="o">(</span><span class="n">transpose</span> <span class="n">p</span> <span class="n">t</span><span class="o">))</span>
<span class="o">;;</span>
</pre></div>

    </div>
</div>
</div>

<div class="output_wrapper">
<div class="output">


<div class="output_area">

    <div class="prompt output_prompt">Out[12]:</div>



<div class="output_html rendered_html output_subarea output_execute_result">
<pre style="color:slategray;max-height:100px;overflow:hidden" 
onclick="
if (this.style.maxHeight === 'none') 
    this.style.maxHeight = '100px';
else
    this.style.maxHeight = 'none'; 
">val carre_latin2 : int -&gt; int array array -&gt; bool = &lt;fun&gt;
</pre>
</div>

</div>

</div>
</div>

</div>
<div class="cell border-box-sizing text_cell rendered"><div class="prompt input_prompt">
</div><div class="inner_cell">
<div class="text_cell_render border-box-sizing rendered_html">
<h3 id="Un-mauvais-exemple">Un mauvais exemple<a class="anchor-link" href="#Un-mauvais-exemple">&#182;</a></h3><p>On va prendre le premier carré de taille $p = 3$ dans le problème de Su Doku donné en figure 1 de l'énoncé.</p>
<p><img width="40%;" alt="images/sudoku.png" src="images/sudoku.png" ></p>

</div>
</div>
</div>
<div class="cell border-box-sizing code_cell rendered">
<div class="input">
<div class="prompt input_prompt">In&nbsp;[13]:</div>
<div class="inner_cell">
    <div class="input_area">
<div class=" highlight hl-OCaml"><pre><span></span><span class="k">let</span> <span class="n">p1</span> <span class="o">=</span> <span class="mi">3</span><span class="o">;;</span>
<span class="k">let</span> <span class="n">t1</span> <span class="o">=</span> <span class="o">[|</span>
    <span class="o">[|</span> <span class="mi">1</span><span class="o">;</span> <span class="mi">2</span><span class="o">;</span> <span class="mi">7</span><span class="o">;</span> <span class="o">|];</span>
    <span class="o">[|</span> <span class="mi">3</span><span class="o">;</span> <span class="mi">4</span><span class="o">;</span> <span class="mi">9</span><span class="o">;</span> <span class="o">|];</span>
    <span class="o">[|</span> <span class="mi">5</span><span class="o">;</span> <span class="mi">8</span><span class="o">;</span> <span class="mi">6</span><span class="o">;</span> <span class="o">|];</span>
<span class="o">|];;</span>
</pre></div>

    </div>
</div>
</div>

<div class="output_wrapper">
<div class="output">


<div class="output_area">

    <div class="prompt output_prompt">Out[13]:</div>



<div class="output_html rendered_html output_subarea output_execute_result">
<pre style="color:slategray;max-height:100px;overflow:hidden" 
onclick="
if (this.style.maxHeight === 'none') 
    this.style.maxHeight = '100px';
else
    this.style.maxHeight = 'none'; 
">val p1 : int = 3
</pre>
</div>

</div>

<div class="output_area">

    <div class="prompt output_prompt">Out[13]:</div>



<div class="output_html rendered_html output_subarea output_execute_result">
<pre style="color:slategray;max-height:100px;overflow:hidden" 
onclick="
if (this.style.maxHeight === 'none') 
    this.style.maxHeight = '100px';
else
    this.style.maxHeight = 'none'; 
">val t1 : int array array = [|[|1; 2; 7|]; [|3; 4; 9|]; [|5; 8; 6|]|]
</pre>
</div>

</div>

</div>
</div>

</div>
<div class="cell border-box-sizing code_cell rendered">
<div class="input">
<div class="prompt input_prompt">In&nbsp;[14]:</div>
<div class="inner_cell">
    <div class="input_area">
<div class=" highlight hl-OCaml"><pre><span></span><span class="n">carre_latin</span> <span class="n">p1</span> <span class="n">t1</span><span class="o">;;</span>
</pre></div>

    </div>
</div>
</div>

<div class="output_wrapper">
<div class="output">


<div class="output_area">

    <div class="prompt output_prompt">Out[14]:</div>



<div class="output_html rendered_html output_subarea output_execute_result">
<pre style="color:slategray;max-height:100px;overflow:hidden" 
onclick="
if (this.style.maxHeight === 'none') 
    this.style.maxHeight = '100px';
else
    this.style.maxHeight = 'none'; 
">- : bool = false
</pre>
</div>

</div>

</div>
</div>

</div>
<div class="cell border-box-sizing text_cell rendered"><div class="prompt input_prompt">
</div><div class="inner_cell">
<div class="text_cell_render border-box-sizing rendered_html">
<p>$\implies$ Ce sous-carré de taille $p = 3$ n'est évidemment pas un "carré latin" : il contient des chiffres hors de $\{ 1, 2, 3 \}$ !</p>

</div>
</div>
</div>
<div class="cell border-box-sizing text_cell rendered"><div class="prompt input_prompt">
</div><div class="inner_cell">
<div class="text_cell_render border-box-sizing rendered_html">
<h3 id="Un-bon-exemple">Un bon exemple<a class="anchor-link" href="#Un-bon-exemple">&#182;</a></h3>
</div>
</div>
</div>
<div class="cell border-box-sizing text_cell rendered"><div class="prompt input_prompt">
</div><div class="inner_cell">
<div class="text_cell_render border-box-sizing rendered_html">
<p>On peut prendre un vrai exemple de taille $p = 3$, qui sera un carré latin.</p>

</div>
</div>
</div>
<div class="cell border-box-sizing code_cell rendered">
<div class="input">
<div class="prompt input_prompt">In&nbsp;[15]:</div>
<div class="inner_cell">
    <div class="input_area">
<div class=" highlight hl-OCaml"><pre><span></span><span class="k">let</span> <span class="n">p2</span> <span class="o">=</span> <span class="mi">3</span><span class="o">;;</span>
<span class="k">let</span> <span class="n">t2</span> <span class="o">=</span> <span class="o">[|</span>
    <span class="o">[|</span> <span class="mi">1</span><span class="o">;</span> <span class="mi">2</span><span class="o">;</span> <span class="mi">3</span> <span class="o">|];</span>
    <span class="o">[|</span> <span class="mi">2</span><span class="o">;</span> <span class="mi">3</span><span class="o">;</span> <span class="mi">1</span> <span class="o">|];</span>
    <span class="o">[|</span> <span class="mi">3</span><span class="o">;</span> <span class="mi">1</span><span class="o">;</span> <span class="mi">2</span> <span class="o">|];</span>
<span class="o">|];;</span>
</pre></div>

    </div>
</div>
</div>

<div class="output_wrapper">
<div class="output">


<div class="output_area">

    <div class="prompt output_prompt">Out[15]:</div>



<div class="output_html rendered_html output_subarea output_execute_result">
<pre style="color:slategray;max-height:100px;overflow:hidden" 
onclick="
if (this.style.maxHeight === 'none') 
    this.style.maxHeight = '100px';
else
    this.style.maxHeight = 'none'; 
">val p2 : int = 3
</pre>
</div>

</div>

<div class="output_area">

    <div class="prompt output_prompt">Out[15]:</div>



<div class="output_html rendered_html output_subarea output_execute_result">
<pre style="color:slategray;max-height:100px;overflow:hidden" 
onclick="
if (this.style.maxHeight === 'none') 
    this.style.maxHeight = '100px';
else
    this.style.maxHeight = 'none'; 
">val t2 : int array array = [|[|1; 2; 3|]; [|2; 3; 1|]; [|3; 1; 2|]|]
</pre>
</div>

</div>

</div>
</div>

</div>
<div class="cell border-box-sizing code_cell rendered">
<div class="input">
<div class="prompt input_prompt">In&nbsp;[16]:</div>
<div class="inner_cell">
    <div class="input_area">
<div class=" highlight hl-OCaml"><pre><span></span><span class="n">carre_latin</span> <span class="n">p2</span> <span class="n">t2</span><span class="o">;;</span>
</pre></div>

    </div>
</div>
</div>

<div class="output_wrapper">
<div class="output">


<div class="output_area">

    <div class="prompt output_prompt">Out[16]:</div>



<div class="output_html rendered_html output_subarea output_execute_result">
<pre style="color:slategray;max-height:100px;overflow:hidden" 
onclick="
if (this.style.maxHeight === 'none') 
    this.style.maxHeight = '100px';
else
    this.style.maxHeight = 'none'; 
">- : bool = true
</pre>
</div>

</div>

</div>
</div>

</div>
<div class="cell border-box-sizing text_cell rendered"><div class="prompt input_prompt">
</div><div class="inner_cell">
<div class="text_cell_render border-box-sizing rendered_html">
<p>Les deux implémentations, la 1ère à base d'extraction de colonnes, la 2ème à base de transposée, donnent bien-sûr le même résultat !</p>

</div>
</div>
</div>
<div class="cell border-box-sizing code_cell rendered">
<div class="input">
<div class="prompt input_prompt">In&nbsp;[17]:</div>
<div class="inner_cell">
    <div class="input_area">
<div class=" highlight hl-OCaml"><pre><span></span><span class="n">carre_latin2</span> <span class="n">p2</span> <span class="n">t2</span><span class="o">;;</span>
</pre></div>

    </div>
</div>
</div>

<div class="output_wrapper">
<div class="output">


<div class="output_area">

    <div class="prompt output_prompt">Out[17]:</div>



<div class="output_html rendered_html output_subarea output_execute_result">
<pre style="color:slategray;max-height:100px;overflow:hidden" 
onclick="
if (this.style.maxHeight === 'none') 
    this.style.maxHeight = '100px';
else
    this.style.maxHeight = 'none'; 
">- : bool = true
</pre>
</div>

</div>

</div>
</div>

</div>
<div class="cell border-box-sizing text_cell rendered"><div class="prompt input_prompt">
</div><div class="inner_cell">
<div class="text_cell_render border-box-sizing rendered_html">
<h3 id="Un-exemple-de-Su-Doku-de-taille-$9-\times-9$-au-compte-juste">Un exemple de Su Doku de taille $9 \times 9$ au compte juste<a class="anchor-link" href="#Un-exemple-de-Su-Doku-de-taille-$9-\times-9$-au-compte-juste">&#182;</a></h3><p>Avec $p = n^2 = 9$, on reprend l'exemple du texte :
<img width="40%;" alt="images/sudoku.png" src="images/sudoku.png" ></p>
<p>Ça va être long un peu à écrire, mais au moins on vérifiera notre fonction sur un vrai exemple.</p>

</div>
</div>
</div>
<div class="cell border-box-sizing code_cell rendered">
<div class="input">
<div class="prompt input_prompt">In&nbsp;[18]:</div>
<div class="inner_cell">
    <div class="input_area">
<div class=" highlight hl-OCaml"><pre><span></span><span class="k">let</span> <span class="n">p3</span> <span class="o">=</span> <span class="mi">9</span> <span class="o">;;</span>
<span class="k">let</span> <span class="n">t3</span> <span class="o">=</span> <span class="o">[|</span>
    <span class="o">[|</span> <span class="mi">1</span><span class="o">;</span> <span class="mi">2</span><span class="o">;</span> <span class="mi">7</span><span class="o">;</span> <span class="mi">4</span><span class="o">;</span> <span class="mi">6</span><span class="o">;</span> <span class="mi">3</span><span class="o">;</span> <span class="mi">9</span><span class="o">;</span> <span class="mi">8</span><span class="o">;</span> <span class="mi">5</span> <span class="o">|];</span>
    <span class="o">[|</span> <span class="mi">3</span><span class="o">;</span> <span class="mi">4</span><span class="o">;</span> <span class="mi">9</span><span class="o">;</span> <span class="mi">8</span><span class="o">;</span> <span class="mi">7</span><span class="o">;</span> <span class="mi">5</span><span class="o">;</span> <span class="mi">2</span><span class="o">;</span> <span class="mi">6</span><span class="o">;</span> <span class="mi">1</span> <span class="o">|];</span>
    <span class="o">[|</span> <span class="mi">5</span><span class="o">;</span> <span class="mi">8</span><span class="o">;</span> <span class="mi">6</span><span class="o">;</span> <span class="mi">2</span><span class="o">;</span> <span class="mi">9</span><span class="o">;</span> <span class="mi">1</span><span class="o">;</span> <span class="mi">4</span><span class="o">;</span> <span class="mi">3</span><span class="o">;</span> <span class="mi">7</span> <span class="o">|];</span>
    <span class="o">[|</span> <span class="mi">7</span><span class="o">;</span> <span class="mi">6</span><span class="o">;</span> <span class="mi">5</span><span class="o">;</span> <span class="mi">9</span><span class="o">;</span> <span class="mi">4</span><span class="o">;</span> <span class="mi">2</span><span class="o">;</span> <span class="mi">3</span><span class="o">;</span> <span class="mi">1</span><span class="o">;</span> <span class="mi">8</span> <span class="o">|];</span>
    <span class="o">[|</span> <span class="mi">8</span><span class="o">;</span> <span class="mi">3</span><span class="o">;</span> <span class="mi">4</span><span class="o">;</span> <span class="mi">7</span><span class="o">;</span> <span class="mi">1</span><span class="o">;</span> <span class="mi">6</span><span class="o">;</span> <span class="mi">5</span><span class="o">;</span> <span class="mi">2</span><span class="o">;</span> <span class="mi">9</span> <span class="o">|];</span>
    <span class="o">[|</span> <span class="mi">9</span><span class="o">;</span> <span class="mi">1</span><span class="o">;</span> <span class="mi">2</span><span class="o">;</span> <span class="mi">5</span><span class="o">;</span> <span class="mi">3</span><span class="o">;</span> <span class="mi">8</span><span class="o">;</span> <span class="mi">7</span><span class="o">;</span> <span class="mi">4</span><span class="o">;</span> <span class="mi">6</span> <span class="o">|];</span>
    <span class="o">[|</span> <span class="mi">2</span><span class="o">;</span> <span class="mi">7</span><span class="o">;</span> <span class="mi">8</span><span class="o">;</span> <span class="mi">6</span><span class="o">;</span> <span class="mi">5</span><span class="o">;</span> <span class="mi">4</span><span class="o">;</span> <span class="mi">1</span><span class="o">;</span> <span class="mi">9</span><span class="o">;</span> <span class="mi">3</span> <span class="o">|];</span>
    <span class="o">[|</span> <span class="mi">4</span><span class="o">;</span> <span class="mi">5</span><span class="o">;</span> <span class="mi">3</span><span class="o">;</span> <span class="mi">1</span><span class="o">;</span> <span class="mi">8</span><span class="o">;</span> <span class="mi">9</span><span class="o">;</span> <span class="mi">6</span><span class="o">;</span> <span class="mi">7</span><span class="o">;</span> <span class="mi">2</span> <span class="o">|];</span>
    <span class="o">[|</span> <span class="mi">6</span><span class="o">;</span> <span class="mi">9</span><span class="o">;</span> <span class="mi">1</span><span class="o">;</span> <span class="mi">3</span><span class="o">;</span> <span class="mi">2</span><span class="o">;</span> <span class="mi">7</span><span class="o">;</span> <span class="mi">8</span><span class="o">;</span> <span class="mi">5</span><span class="o">;</span> <span class="mi">4</span> <span class="o">|];</span>
<span class="o">|];</span>
</pre></div>

    </div>
</div>
</div>

<div class="output_wrapper">
<div class="output">


<div class="output_area">

    <div class="prompt output_prompt">Out[18]:</div>



<div class="output_html rendered_html output_subarea output_execute_result">
<pre style="color:slategray;max-height:100px;overflow:hidden" 
onclick="
if (this.style.maxHeight === 'none') 
    this.style.maxHeight = '100px';
else
    this.style.maxHeight = 'none'; 
">val p3 : int = 9
</pre>
</div>

</div>

<div class="output_area">

    <div class="prompt output_prompt">Out[18]:</div>



<div class="output_html rendered_html output_subarea output_execute_result">
<pre style="color:slategray;max-height:100px;overflow:hidden" 
onclick="
if (this.style.maxHeight === 'none') 
    this.style.maxHeight = '100px';
else
    this.style.maxHeight = 'none'; 
">val t3 : int array array =
  [|[|1; 2; 7; 4; 6; 3; 9; 8; 5|]; [|3; 4; 9; 8; 7; 5; 2; 6; 1|];
    [|5; 8; 6; 2; 9; 1; 4; 3; 7|]; [|7; 6; 5; 9; 4; 2; 3; 1; 8|];
    [|8; 3; 4; 7; 1; 6; 5; 2; 9|]; [|9; 1; 2; 5; 3; 8; 7; 4; 6|];
    [|2; 7; 8; 6; 5; 4; 1; 9; 3|]; [|4; 5; 3; 1; 8; 9; 6; 7; 2|];
    [|6; 9; 1; 3; 2; 7; 8; 5; 4|]|]
</pre>
</div>

</div>

</div>
</div>

</div>
<div class="cell border-box-sizing code_cell rendered">
<div class="input">
<div class="prompt input_prompt">In&nbsp;[19]:</div>
<div class="inner_cell">
    <div class="input_area">
<div class=" highlight hl-OCaml"><pre><span></span><span class="n">carre_latin</span> <span class="n">p3</span> <span class="n">t3</span><span class="o">;;</span>
</pre></div>

    </div>
</div>
</div>

<div class="output_wrapper">
<div class="output">


<div class="output_area">

    <div class="prompt output_prompt">Out[19]:</div>



<div class="output_html rendered_html output_subarea output_execute_result">
<pre style="color:slategray;max-height:100px;overflow:hidden" 
onclick="
if (this.style.maxHeight === 'none') 
    this.style.maxHeight = '100px';
else
    this.style.maxHeight = 'none'; 
">- : bool = true
</pre>
</div>

</div>

</div>
</div>

</div>
<div class="cell border-box-sizing code_cell rendered">
<div class="input">
<div class="prompt input_prompt">In&nbsp;[20]:</div>
<div class="inner_cell">
    <div class="input_area">
<div class=" highlight hl-OCaml"><pre><span></span><span class="n">carre_latin2</span> <span class="n">p3</span> <span class="n">t3</span><span class="o">;;</span>
</pre></div>

    </div>
</div>
</div>

<div class="output_wrapper">
<div class="output">


<div class="output_area">

    <div class="prompt output_prompt">Out[20]:</div>



<div class="output_html rendered_html output_subarea output_execute_result">
<pre style="color:slategray;max-height:100px;overflow:hidden" 
onclick="
if (this.style.maxHeight === 'none') 
    this.style.maxHeight = '100px';
else
    this.style.maxHeight = 'none'; 
">- : bool = true
</pre>
</div>

</div>

</div>
</div>

</div>
<div class="cell border-box-sizing text_cell rendered"><div class="prompt input_prompt">
</div><div class="inner_cell">
<div class="text_cell_render border-box-sizing rendered_html">
<h3 id="Un-exemple-de-Su-Doku-au-comte-faux">Un exemple de Su Doku au <em>comte</em> faux<a class="anchor-link" href="#Un-exemple-de-Su-Doku-au-comte-faux">&#182;</a></h3><p>Avec $p = n^2 = 9$, en modifiant seulement une case du tableau $T$ précédent.</p>

</div>
</div>
</div>
<div class="cell border-box-sizing code_cell rendered">
<div class="input">
<div class="prompt input_prompt">In&nbsp;[21]:</div>
<div class="inner_cell">
    <div class="input_area">
<div class=" highlight hl-OCaml"><pre><span></span><span class="k">let</span> <span class="n">p4</span> <span class="o">=</span> <span class="mi">9</span> <span class="o">;;</span>
<span class="k">let</span> <span class="n">t4</span> <span class="o">=</span> <span class="o">[|</span>
    <span class="o">[|</span> <span class="mi">1</span><span class="o">;</span> <span class="mi">2</span><span class="o">;</span> <span class="mi">7</span><span class="o">;</span> <span class="mi">4</span><span class="o">;</span> <span class="mi">6</span><span class="o">;</span> <span class="mi">3</span><span class="o">;</span> <span class="mi">9</span><span class="o">;</span> <span class="mi">8</span><span class="o">;</span> <span class="mi">5</span> <span class="o">|];</span>
    <span class="o">[|</span> <span class="mi">3</span><span class="o">;</span> <span class="mi">4</span><span class="o">;</span> <span class="mi">9</span><span class="o">;</span> <span class="mi">8</span><span class="o">;</span> <span class="mi">7</span><span class="o">;</span> <span class="mi">5</span><span class="o">;</span> <span class="mi">2</span><span class="o">;</span> <span class="mi">6</span><span class="o">;</span> <span class="mi">1</span> <span class="o">|];</span>
    <span class="o">[|</span> <span class="mi">5</span><span class="o">;</span> <span class="mi">8</span><span class="o">;</span> <span class="mi">6</span><span class="o">;</span> <span class="mi">2</span><span class="o">;</span> <span class="mi">9</span><span class="o">;</span> <span class="mi">1</span><span class="o">;</span> <span class="mi">4</span><span class="o">;</span> <span class="mi">3</span><span class="o">;</span> <span class="mi">7</span> <span class="o">|];</span>
    <span class="o">[|</span> <span class="mi">7</span><span class="o">;</span> <span class="mi">6</span><span class="o">;</span> <span class="mi">5</span><span class="o">;</span> <span class="mi">9</span><span class="o">;</span> <span class="mi">4</span><span class="o">;</span> <span class="mi">2</span><span class="o">;</span> <span class="mi">3</span><span class="o">;</span> <span class="mi">1</span><span class="o">;</span> <span class="mi">8</span> <span class="o">|];</span>
    <span class="o">[|</span> <span class="mi">8</span><span class="o">;</span> <span class="mi">2</span><span class="o">;</span> <span class="mi">4</span><span class="o">;</span> <span class="mi">7</span><span class="o">;</span> <span class="mi">1</span><span class="o">;</span> <span class="mi">6</span><span class="o">;</span> <span class="mi">5</span><span class="o">;</span> <span class="mi">2</span><span class="o">;</span> <span class="mi">9</span> <span class="o">|];</span> <span class="c">(* Ligne non valable, 2 est là deux fois !*)</span>
    <span class="o">[|</span> <span class="mi">9</span><span class="o">;</span> <span class="mi">1</span><span class="o">;</span> <span class="mi">2</span><span class="o">;</span> <span class="mi">5</span><span class="o">;</span> <span class="mi">3</span><span class="o">;</span> <span class="mi">8</span><span class="o">;</span> <span class="mi">7</span><span class="o">;</span> <span class="mi">4</span><span class="o">;</span> <span class="mi">6</span> <span class="o">|];</span>
    <span class="o">[|</span> <span class="mi">2</span><span class="o">;</span> <span class="mi">7</span><span class="o">;</span> <span class="mi">8</span><span class="o">;</span> <span class="mi">6</span><span class="o">;</span> <span class="mi">5</span><span class="o">;</span> <span class="mi">4</span><span class="o">;</span> <span class="mi">1</span><span class="o">;</span> <span class="mi">9</span><span class="o">;</span> <span class="mi">3</span> <span class="o">|];</span>
    <span class="o">[|</span> <span class="mi">4</span><span class="o">;</span> <span class="mi">5</span><span class="o">;</span> <span class="mi">3</span><span class="o">;</span> <span class="mi">1</span><span class="o">;</span> <span class="mi">8</span><span class="o">;</span> <span class="mi">9</span><span class="o">;</span> <span class="mi">6</span><span class="o">;</span> <span class="mi">7</span><span class="o">;</span> <span class="mi">2</span> <span class="o">|];</span>
    <span class="o">[|</span> <span class="mi">6</span><span class="o">;</span> <span class="mi">9</span><span class="o">;</span> <span class="mi">1</span><span class="o">;</span> <span class="mi">3</span><span class="o">;</span> <span class="mi">2</span><span class="o">;</span> <span class="mi">7</span><span class="o">;</span> <span class="mi">8</span><span class="o">;</span> <span class="mi">5</span><span class="o">;</span> <span class="mi">4</span> <span class="o">|];</span>
<span class="o">|];</span>
</pre></div>

    </div>
</div>
</div>

<div class="output_wrapper">
<div class="output">


<div class="output_area">

    <div class="prompt output_prompt">Out[21]:</div>



<div class="output_html rendered_html output_subarea output_execute_result">
<pre style="color:slategray;max-height:100px;overflow:hidden" 
onclick="
if (this.style.maxHeight === 'none') 
    this.style.maxHeight = '100px';
else
    this.style.maxHeight = 'none'; 
">val p4 : int = 9
</pre>
</div>

</div>

<div class="output_area">

    <div class="prompt output_prompt">Out[21]:</div>



<div class="output_html rendered_html output_subarea output_execute_result">
<pre style="color:slategray;max-height:100px;overflow:hidden" 
onclick="
if (this.style.maxHeight === 'none') 
    this.style.maxHeight = '100px';
else
    this.style.maxHeight = 'none'; 
">val t4 : int array array =
  [|[|1; 2; 7; 4; 6; 3; 9; 8; 5|]; [|3; 4; 9; 8; 7; 5; 2; 6; 1|];
    [|5; 8; 6; 2; 9; 1; 4; 3; 7|]; [|7; 6; 5; 9; 4; 2; 3; 1; 8|];
    [|8; 2; 4; 7; 1; 6; 5; 2; 9|]; [|9; 1; 2; 5; 3; 8; 7; 4; 6|];
    [|2; 7; 8; 6; 5; 4; 1; 9; 3|]; [|4; 5; 3; 1; 8; 9; 6; 7; 2|];
    [|6; 9; 1; 3; 2; 7; 8; 5; 4|]|]
</pre>
</div>

</div>

</div>
</div>

</div>
<div class="cell border-box-sizing code_cell rendered">
<div class="input">
<div class="prompt input_prompt">In&nbsp;[22]:</div>
<div class="inner_cell">
    <div class="input_area">
<div class=" highlight hl-OCaml"><pre><span></span><span class="n">carre_latin</span> <span class="n">p4</span> <span class="n">t4</span><span class="o">;;</span>
</pre></div>

    </div>
</div>
</div>

<div class="output_wrapper">
<div class="output">


<div class="output_area">

    <div class="prompt output_prompt">Out[22]:</div>



<div class="output_html rendered_html output_subarea output_execute_result">
<pre style="color:slategray;max-height:100px;overflow:hidden" 
onclick="
if (this.style.maxHeight === 'none') 
    this.style.maxHeight = '100px';
else
    this.style.maxHeight = 'none'; 
">- : bool = false
</pre>
</div>

</div>

</div>
</div>

</div>
<div class="cell border-box-sizing code_cell rendered">
<div class="input">
<div class="prompt input_prompt">In&nbsp;[23]:</div>
<div class="inner_cell">
    <div class="input_area">
<div class=" highlight hl-OCaml"><pre><span></span><span class="n">carre_latin2</span> <span class="n">p4</span> <span class="n">t4</span><span class="o">;;</span>
</pre></div>

    </div>
</div>
</div>

<div class="output_wrapper">
<div class="output">


<div class="output_area">

    <div class="prompt output_prompt">Out[23]:</div>



<div class="output_html rendered_html output_subarea output_execute_result">
<pre style="color:slategray;max-height:100px;overflow:hidden" 
onclick="
if (this.style.maxHeight === 'none') 
    this.style.maxHeight = '100px';
else
    this.style.maxHeight = 'none'; 
">- : bool = false
</pre>
</div>

</div>

</div>
</div>

</div>
<div class="cell border-box-sizing text_cell rendered"><div class="prompt input_prompt">
</div><div class="inner_cell">
<div class="text_cell_render border-box-sizing rendered_html">
<p>$\implies$ Notre fonction <code>carre_latin</code> semble bien marcher.</p>

</div>
</div>
</div>
<div class="cell border-box-sizing text_cell rendered"><div class="prompt input_prompt">
</div><div class="inner_cell">
<div class="text_cell_render border-box-sizing rendered_html">
<h3 id="Un-exemple-de-comte...-Dooku-?">Un exemple de comte... Dooku ?<a class="anchor-link" href="#Un-exemple-de-comte...-Dooku-?">&#182;</a></h3><p><a href="http://fr.starwars.wikia.com/wiki/Dooku"><img src="images/dooku.jpg" alt="http://fr.starwars.wikia.com/wiki/Dooku ?"></a></p>
<blockquote><p><em>Nan, je déconne</em>.
... Bien-sûr, évitez les blagues pourries le jour de l'oral !
Mais une bonne blague peut être bien reçue...</p>
</blockquote>

</div>
</div>
</div>
<div class="cell border-box-sizing text_cell rendered"><div class="prompt input_prompt">
</div><div class="inner_cell">
<div class="text_cell_render border-box-sizing rendered_html">
<h2 id="V&#233;rifier-les-autres-contraintes">V&#233;rifier les autres contraintes<a class="anchor-link" href="#V&#233;rifier-les-autres-contraintes">&#182;</a></h2><p>En bonus, on peut écrire une fonction qui vérifie les contraintes sur les petits carrés en plus des contraintes sur les lignes et les colonnes.</p>
<p>On a déjà tout ce qu'il faut, il suffit d'écrire une fonction qui extraie un petit carré de taille $n \times n$ ($n = \sqrt{p}$).</p>

</div>
</div>
</div>
<div class="cell border-box-sizing code_cell rendered">
<div class="input">
<div class="prompt input_prompt">In&nbsp;[24]:</div>
<div class="inner_cell">
    <div class="input_area">
<div class=" highlight hl-OCaml"><pre><span></span><span class="k">let</span> <span class="n">racine_carree</span> <span class="n">i</span> <span class="o">=</span> <span class="n">int_of_float</span> <span class="o">(</span><span class="n">sqrt</span> <span class="o">(</span><span class="n">float_of_int</span> <span class="n">i</span><span class="o">));;</span>
</pre></div>

    </div>
</div>
</div>

<div class="output_wrapper">
<div class="output">


<div class="output_area">

    <div class="prompt output_prompt">Out[24]:</div>



<div class="output_html rendered_html output_subarea output_execute_result">
<pre style="color:slategray;max-height:100px;overflow:hidden" 
onclick="
if (this.style.maxHeight === 'none') 
    this.style.maxHeight = '100px';
else
    this.style.maxHeight = 'none'; 
">val racine_carree : int -&gt; int = &lt;fun&gt;
</pre>
</div>

</div>

</div>
</div>

</div>
<div class="cell border-box-sizing text_cell rendered"><div class="prompt input_prompt">
</div><div class="inner_cell">
<div class="text_cell_render border-box-sizing rendered_html">
<p>C'est moins facile à écrire, mais on peut extraire un "petit carré" de taille $n \times n$, pour $t$ de taille $p \times p$, si $p = n^2$.
Ici, on extraie le $i$ème petit carré en ligne, et le $j$ème petit carré en colonne,</p>
<ul>
<li>en jouant avec des modulos et des divisions entières sur $k$ qui sera de $0$ à $p-1$ (<code>k / n</code> et <code>k mod n</code> font parcourir $0 \dots n-1$),</li>
<li>et en jouant avec des multiplications sur <code>i</code> et <code>j</code>.</li>
</ul>

</div>
</div>
</div>
<div class="cell border-box-sizing code_cell rendered">
<div class="input">
<div class="prompt input_prompt">In&nbsp;[25]:</div>
<div class="inner_cell">
    <div class="input_area">
<div class=" highlight hl-OCaml"><pre><span></span><span class="k">let</span> <span class="n">petit_carre</span> <span class="n">p</span> <span class="n">n</span> <span class="n">t</span> <span class="n">i</span> <span class="n">j</span> <span class="o">=</span>
    <span class="nn">Array</span><span class="p">.</span><span class="n">init</span> <span class="n">p</span> <span class="o">(</span><span class="k">fun</span> <span class="n">k</span> <span class="o">-&gt;</span>
        <span class="n">t</span><span class="o">.(</span><span class="n">n</span><span class="o">*</span><span class="n">i</span> <span class="o">+</span> <span class="o">(</span><span class="n">k</span> <span class="o">/</span> <span class="n">n</span><span class="o">)).(</span><span class="n">n</span><span class="o">*</span><span class="n">j</span> <span class="o">+</span> <span class="o">(</span><span class="n">k</span> <span class="ow">mod</span> <span class="n">n</span><span class="o">))</span>
    <span class="o">)</span>
<span class="o">;;</span>
</pre></div>

    </div>
</div>
</div>

<div class="output_wrapper">
<div class="output">


<div class="output_area">

    <div class="prompt output_prompt">Out[25]:</div>



<div class="output_html rendered_html output_subarea output_execute_result">
<pre style="color:slategray;max-height:100px;overflow:hidden" 
onclick="
if (this.style.maxHeight === 'none') 
    this.style.maxHeight = '100px';
else
    this.style.maxHeight = 'none'; 
">val petit_carre : int -&gt; int -&gt; 'a array array -&gt; int -&gt; int -&gt; 'a array =
  &lt;fun&gt;
</pre>
</div>

</div>

</div>
</div>

</div>
<div class="cell border-box-sizing text_cell rendered"><div class="prompt input_prompt">
</div><div class="inner_cell">
<div class="text_cell_render border-box-sizing rendered_html">
<blockquote><p>Bien-sûr, <code>p</code> et <code>n</code> pourraient ne pas être donnés à la fonction, mais autant se simplifier la vie !</p>
</blockquote>

</div>
</div>
</div>
<div class="cell border-box-sizing text_cell rendered"><div class="prompt input_prompt">
</div><div class="inner_cell">
<div class="text_cell_render border-box-sizing rendered_html">
<p>Par exemple, avec le tableau <code>t3</code> défini plus haut, et $p = 9 = n^2$ pour $n = 3$, on vérifie que les $9$ petits carrés arrivent dans l'ordre :</p>

</div>
</div>
</div>
<div class="cell border-box-sizing code_cell rendered">
<div class="input">
<div class="prompt input_prompt">In&nbsp;[26]:</div>
<div class="inner_cell">
    <div class="input_area">
<div class=" highlight hl-OCaml"><pre><span></span><span class="k">let</span> <span class="n">n3</span> <span class="o">=</span> <span class="n">racine_carree</span> <span class="n">p3</span><span class="o">;;</span>
</pre></div>

    </div>
</div>
</div>

<div class="output_wrapper">
<div class="output">


<div class="output_area">

    <div class="prompt output_prompt">Out[26]:</div>



<div class="output_html rendered_html output_subarea output_execute_result">
<pre style="color:slategray;max-height:100px;overflow:hidden" 
onclick="
if (this.style.maxHeight === 'none') 
    this.style.maxHeight = '100px';
else
    this.style.maxHeight = 'none'; 
">val n3 : int = 3
</pre>
</div>

</div>

</div>
</div>

</div>
<div class="cell border-box-sizing code_cell rendered">
<div class="input">
<div class="prompt input_prompt">In&nbsp;[27]:</div>
<div class="inner_cell">
    <div class="input_area">
<div class=" highlight hl-OCaml"><pre><span></span><span class="n">petit_carre</span> <span class="n">p3</span> <span class="n">n3</span> <span class="n">t3</span> <span class="mi">0</span> <span class="mi">0</span><span class="o">;;</span>
<span class="n">petit_carre</span> <span class="n">p3</span> <span class="n">n3</span> <span class="n">t3</span> <span class="mi">0</span> <span class="mi">1</span><span class="o">;;</span>
<span class="n">petit_carre</span> <span class="n">p3</span> <span class="n">n3</span> <span class="n">t3</span> <span class="mi">0</span> <span class="mi">2</span><span class="o">;;</span>
<span class="n">petit_carre</span> <span class="n">p3</span> <span class="n">n3</span> <span class="n">t3</span> <span class="mi">1</span> <span class="mi">0</span><span class="o">;;</span>
<span class="n">petit_carre</span> <span class="n">p3</span> <span class="n">n3</span> <span class="n">t3</span> <span class="mi">1</span> <span class="mi">1</span><span class="o">;;</span>
<span class="n">petit_carre</span> <span class="n">p3</span> <span class="n">n3</span> <span class="n">t3</span> <span class="mi">1</span> <span class="mi">2</span><span class="o">;;</span>
<span class="n">petit_carre</span> <span class="n">p3</span> <span class="n">n3</span> <span class="n">t3</span> <span class="mi">2</span> <span class="mi">0</span><span class="o">;;</span>
<span class="n">petit_carre</span> <span class="n">p3</span> <span class="n">n3</span> <span class="n">t3</span> <span class="mi">2</span> <span class="mi">1</span><span class="o">;;</span>
<span class="n">petit_carre</span> <span class="n">p3</span> <span class="n">n3</span> <span class="n">t3</span> <span class="mi">2</span> <span class="mi">2</span><span class="o">;;</span>
</pre></div>

    </div>
</div>
</div>

<div class="output_wrapper">
<div class="output">


<div class="output_area">

    <div class="prompt output_prompt">Out[27]:</div>



<div class="output_html rendered_html output_subarea output_execute_result">
<pre style="color:slategray;max-height:100px;overflow:hidden" 
onclick="
if (this.style.maxHeight === 'none') 
    this.style.maxHeight = '100px';
else
    this.style.maxHeight = 'none'; 
">- : int array = [|1; 2; 7; 3; 4; 9; 5; 8; 6|]
</pre>
</div>

</div>

<div class="output_area">

    <div class="prompt output_prompt">Out[27]:</div>



<div class="output_html rendered_html output_subarea output_execute_result">
<pre style="color:slategray;max-height:100px;overflow:hidden" 
onclick="
if (this.style.maxHeight === 'none') 
    this.style.maxHeight = '100px';
else
    this.style.maxHeight = 'none'; 
">- : int array = [|4; 6; 3; 8; 7; 5; 2; 9; 1|]
</pre>
</div>

</div>

<div class="output_area">

    <div class="prompt output_prompt">Out[27]:</div>



<div class="output_html rendered_html output_subarea output_execute_result">
<pre style="color:slategray;max-height:100px;overflow:hidden" 
onclick="
if (this.style.maxHeight === 'none') 
    this.style.maxHeight = '100px';
else
    this.style.maxHeight = 'none'; 
">- : int array = [|9; 8; 5; 2; 6; 1; 4; 3; 7|]
</pre>
</div>

</div>

<div class="output_area">

    <div class="prompt output_prompt">Out[27]:</div>



<div class="output_html rendered_html output_subarea output_execute_result">
<pre style="color:slategray;max-height:100px;overflow:hidden" 
onclick="
if (this.style.maxHeight === 'none') 
    this.style.maxHeight = '100px';
else
    this.style.maxHeight = 'none'; 
">- : int array = [|7; 6; 5; 8; 3; 4; 9; 1; 2|]
</pre>
</div>

</div>

<div class="output_area">

    <div class="prompt output_prompt">Out[27]:</div>



<div class="output_html rendered_html output_subarea output_execute_result">
<pre style="color:slategray;max-height:100px;overflow:hidden" 
onclick="
if (this.style.maxHeight === 'none') 
    this.style.maxHeight = '100px';
else
    this.style.maxHeight = 'none'; 
">- : int array = [|9; 4; 2; 7; 1; 6; 5; 3; 8|]
</pre>
</div>

</div>

<div class="output_area">

    <div class="prompt output_prompt">Out[27]:</div>



<div class="output_html rendered_html output_subarea output_execute_result">
<pre style="color:slategray;max-height:100px;overflow:hidden" 
onclick="
if (this.style.maxHeight === 'none') 
    this.style.maxHeight = '100px';
else
    this.style.maxHeight = 'none'; 
">- : int array = [|3; 1; 8; 5; 2; 9; 7; 4; 6|]
</pre>
</div>

</div>

<div class="output_area">

    <div class="prompt output_prompt">Out[27]:</div>



<div class="output_html rendered_html output_subarea output_execute_result">
<pre style="color:slategray;max-height:100px;overflow:hidden" 
onclick="
if (this.style.maxHeight === 'none') 
    this.style.maxHeight = '100px';
else
    this.style.maxHeight = 'none'; 
">- : int array = [|2; 7; 8; 4; 5; 3; 6; 9; 1|]
</pre>
</div>

</div>

<div class="output_area">

    <div class="prompt output_prompt">Out[27]:</div>



<div class="output_html rendered_html output_subarea output_execute_result">
<pre style="color:slategray;max-height:100px;overflow:hidden" 
onclick="
if (this.style.maxHeight === 'none') 
    this.style.maxHeight = '100px';
else
    this.style.maxHeight = 'none'; 
">- : int array = [|6; 5; 4; 1; 8; 9; 3; 2; 7|]
</pre>
</div>

</div>

<div class="output_area">

    <div class="prompt output_prompt">Out[27]:</div>



<div class="output_html rendered_html output_subarea output_execute_result">
<pre style="color:slategray;max-height:100px;overflow:hidden" 
onclick="
if (this.style.maxHeight === 'none') 
    this.style.maxHeight = '100px';
else
    this.style.maxHeight = 'none'; 
">- : int array = [|1; 9; 3; 6; 7; 2; 8; 5; 4|]
</pre>
</div>

</div>

</div>
</div>

</div>
<div class="cell border-box-sizing text_cell rendered"><div class="prompt input_prompt">
</div><div class="inner_cell">
<div class="text_cell_render border-box-sizing rendered_html">
<p>Enfin, la contrainte supplémentaire s'écrit exactement comme les deux autres :</p>

</div>
</div>
</div>
<div class="cell border-box-sizing code_cell rendered">
<div class="input">
<div class="prompt input_prompt">In&nbsp;[28]:</div>
<div class="inner_cell">
    <div class="input_area">
<div class=" highlight hl-OCaml"><pre><span></span><span class="k">let</span> <span class="n">petits_carres_sont_latins</span> <span class="n">p</span> <span class="n">t</span> <span class="o">=</span>
    <span class="k">let</span> <span class="n">n</span> <span class="o">=</span> <span class="n">racine_carree</span> <span class="n">p</span> <span class="k">in</span>
    <span class="c">(* Par flemme, on créé le tableau entier, qu&#39;on vérifie après *)</span>
    <span class="k">let</span> <span class="n">contraintes_petits_carres</span> <span class="o">=</span>
        <span class="nn">Array</span><span class="p">.</span><span class="n">init</span> <span class="n">p</span> <span class="o">(</span><span class="k">fun</span> <span class="n">i</span> <span class="o">-&gt;</span>
            <span class="n">estNp</span> <span class="n">p</span> <span class="o">(</span><span class="n">petit_carre</span> <span class="n">p</span> <span class="n">n</span> <span class="n">t</span> <span class="o">(</span><span class="n">i</span> <span class="o">/</span> <span class="n">n</span><span class="o">)</span> <span class="o">(</span><span class="n">i</span> <span class="ow">mod</span> <span class="n">n</span><span class="o">)</span> <span class="o">)</span>
        <span class="o">)</span>
    <span class="k">in</span>
    <span class="c">(* Mais on peut mieux faire, avec une boucle while par exemple, on sort dès qu&#39;une contrainte est fausse *)</span>
    <span class="n">tousVrai</span> <span class="n">contraintes_petits_carres</span>
<span class="o">;;</span>
</pre></div>

    </div>
</div>
</div>

<div class="output_wrapper">
<div class="output">


<div class="output_area">

    <div class="prompt output_prompt">Out[28]:</div>



<div class="output_html rendered_html output_subarea output_execute_result">
<pre style="color:slategray;max-height:100px;overflow:hidden" 
onclick="
if (this.style.maxHeight === 'none') 
    this.style.maxHeight = '100px';
else
    this.style.maxHeight = 'none'; 
">val petits_carres_sont_latins : int -&gt; int array array -&gt; bool = &lt;fun&gt;
</pre>
</div>

</div>

</div>
</div>

</div>
<div class="cell border-box-sizing text_cell rendered"><div class="prompt input_prompt">
</div><div class="inner_cell">
<div class="text_cell_render border-box-sizing rendered_html">
<p>$\implies$ Et on peut vérifier que le tableau <code>t3</code> satisfait bien cette contrainte :</p>

</div>
</div>
</div>
<div class="cell border-box-sizing code_cell rendered">
<div class="input">
<div class="prompt input_prompt">In&nbsp;[29]:</div>
<div class="inner_cell">
    <div class="input_area">
<div class=" highlight hl-OCaml"><pre><span></span><span class="n">petits_carres_sont_latins</span> <span class="n">p3</span> <span class="n">t3</span><span class="o">;;</span>
</pre></div>

    </div>
</div>
</div>

<div class="output_wrapper">
<div class="output">


<div class="output_area">

    <div class="prompt output_prompt">Out[29]:</div>



<div class="output_html rendered_html output_subarea output_execute_result">
<pre style="color:slategray;max-height:100px;overflow:hidden" 
onclick="
if (this.style.maxHeight === 'none') 
    this.style.maxHeight = '100px';
else
    this.style.maxHeight = 'none'; 
">- : bool = true
</pre>
</div>

</div>

</div>
</div>

</div>
<div class="cell border-box-sizing text_cell rendered"><div class="prompt input_prompt">
</div><div class="inner_cell">
<div class="text_cell_render border-box-sizing rendered_html">
<p>$\implies$ Et on peut vérifier que le tableau <code>t4</code> ne satisfait pas cette contrainte :</p>

</div>
</div>
</div>
<div class="cell border-box-sizing code_cell rendered">
<div class="input">
<div class="prompt input_prompt">In&nbsp;[30]:</div>
<div class="inner_cell">
    <div class="input_area">
<div class=" highlight hl-OCaml"><pre><span></span><span class="n">petits_carres_sont_latins</span> <span class="n">p4</span> <span class="n">t4</span><span class="o">;;</span>
</pre></div>

    </div>
</div>
</div>

<div class="output_wrapper">
<div class="output">


<div class="output_area">

    <div class="prompt output_prompt">Out[30]:</div>



<div class="output_html rendered_html output_subarea output_execute_result">
<pre style="color:slategray;max-height:100px;overflow:hidden" 
onclick="
if (this.style.maxHeight === 'none') 
    this.style.maxHeight = '100px';
else
    this.style.maxHeight = 'none'; 
">- : bool = false
</pre>
</div>

</div>

</div>
</div>

</div>
<div class="cell border-box-sizing text_cell rendered"><div class="prompt input_prompt">
</div><div class="inner_cell">
<div class="text_cell_render border-box-sizing rendered_html">
<hr>
<h2 id="Conclusion">Conclusion<a class="anchor-link" href="#Conclusion">&#182;</a></h2><p>Voilà pour la question obligatoire de programmation :</p>
<ul>
<li>on a décomposé le problème en sous-fonctions,</li>
<li>on a essayé d'être fainéant, en réutilisant les sous-fonctions,</li>
<li>on a fait des exemples et <em>on les garde</em> dans ce qu'on présente au jury,</li>
<li>on a testé la fonction exigée sur de petits exemples et sur un exemple de taille réelle (venant du texte)</li>
</ul>
<p>Et on a essayé de faire <em>un peu plus</em>, en implémentant la vérification d'une contrainte de plus.</p>
<blockquote><p>Bien-sûr, ce petit notebook ne se prétend pas être une solution optimale, ni exhaustive.</p>
</blockquote>

</div>
</div>
</div>
 


    </div>
  </div>

  </div>


  
    <footer class="footer hidden-print">
      <div class="container">
        <div class="col-md-4">
          <p>
            This website does not host notebooks, it only renders notebooks
            available on other websites.
          </p>
        </div>

        <div class="col-md-4">
          <p>
            Delivered by <a href="https://www.fastly.com/">Fastly</a>,
            Rendered by <a href="https://developer.rackspace.com/?nbviewer=awesome">Rackspace</a>
          </p>
          <p>
            nbviewer GitHub <a href="https://github.com/jupyter/nbviewer">repository</a>.
          </p>
        </div>

        <div class="col-md-4">
          
  
            
              <p>
                nbviewer version:
                <a href="https://github.com/jupyter/nbviewer/commit/07b0e305b3254e2280b29f20ceb96c058db2f775">
                  07b0e30
                </a>
              </p>
            
          
  
  <p>
    nbconvert version: <a href="https://github.com/jupyter/nbconvert/releases/tag/5.6.0">
      5.6.0
    </a>
  </p>
  

          
  
  
  <p>
    Rendered
    <span class='date' data-date='Mon, 27 Jan 2020 13:30:56 UTC' title='Mon, 27 Jan 2020 13:30:56 UTC'>(Mon, 27 Jan 2020 13:30:56 UTC)</span>
  </p>
  

        </div>
      </div>
    </footer>
  

  <script src="/static/components/bootstrap/js/bootstrap.min.js?v=5869c96cc8f19086aee625d670d741f9"></script>
  <script src="/static/components/headroom.js/dist/headroom.min.js?v=b0a311ea668f8e768ea375f4a7abb81c"></script>
  <script src="/static/components/headroom.js/dist/jQuery.headroom.min.js?v=f3a1bae118315d0c234afc74dc6aab71"></script>

  
  
  <script>
    $(function(){ $("#menubar").headroom({
      tolerance: 5,
      offset: 205,
      classes: {
        initial: "animated",
        pinned: "slideInDown",
        unpinned: "slideOutUp"
      }
    })});
  </script>


  
  <script>
    (function(i,s,o,g,r,a,m){i['GoogleAnalyticsObject']=r;i[r]=i[r]||function(){
      (i[r].q=i[r].q||[]).push(arguments)},i[r].l=1*new Date();a=s.createElement(o),
      m=s.getElementsByTagName(o)[0];a.async=1;a.src=g;m.parentNode.insertBefore(a,m)
    })(window,document,'script','https://www.google-analytics.com/analytics.js','ga');
    ga('create', 'UA-52617120-5', 'auto',
       {'storage': 'none'});
    ga('set', 'anonymizeIp', true);
    ga('send', 'pageview');
  </script>
  
  <script>
    require({
        paths: {
          moment: "/static/components/moment/min/moment.min.js?v=89f87298ad94aa1e6b92f42eb66da043"
        }
      }, ["moment"], function(moment){
      var date = $("footer .date"),
        m = moment(new Date(date.data('date'))),
        update = function(){ date.text(m.fromNow()); };
      setInterval(update, 61*1000);
      update();
      var w = $(window).scroll(function(event){
        $("body").toggleClass("scrolled", w.scrollTop() > 0);
      });
    });
  </script>

  <!--NEW RELIC Stop Perf Measurement-->
  
  <!--NEW RELIC End-->
</body>
</html>