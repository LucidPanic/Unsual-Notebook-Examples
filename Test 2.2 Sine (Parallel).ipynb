{
 "cells": [
  {
   "cell_type": "markdown",
   "metadata": {},
   "source": [
    "# Test 2: Sine\n",
    "\n",
    "$ f(\\theta) = a \\sin (b \\theta_1 ) - c \\theta_2 $"
   ]
  },
  {
   "cell_type": "code",
   "execution_count": 1,
   "metadata": {
    "collapsed": false
   },
   "outputs": [
    {
     "name": "stderr",
     "output_type": "stream",
     "text": [
      "WARNING: rmprocs: process 1 not removed\n"
     ]
    }
   ],
   "source": [
    "rmprocs(procs())\n",
    "workspace()"
   ]
  },
  {
   "cell_type": "markdown",
   "metadata": {},
   "source": [
    "### Parallel RTO"
   ]
  },
  {
   "cell_type": "code",
   "execution_count": 2,
   "metadata": {
    "collapsed": false
   },
   "outputs": [],
   "source": [
    "nsamps = 10000;"
   ]
  },
  {
   "cell_type": "code",
   "execution_count": 3,
   "metadata": {
    "collapsed": false
   },
   "outputs": [
    {
     "name": "stderr",
     "output_type": "stream",
     "text": [
      "WARNING: Method definition isnull(Any) in module Compat at /home/zheng_w/.julia/v0.5/Compat/src/Compat.jl:1678 overwritten in module Compat at /home/zheng_w/.julia/v0.5/Compat/src/Compat.jl:1678.\n",
      "WARNING: Method definition redirect_stdin(Function, Any) in module Compat at /home/zheng_w/.julia/v0.5/Compat/src/Compat.jl:1600 overwritten in module Compat at /home/zheng_w/.julia/v0.5/Compat/src/Compat.jl:1600.\n",
      "WARNING: Method definition take!(Main.Base.AbstractIOBuffer) in module Compat at /home/zheng_w/.julia/v0.5/Compat/src/Compat.jl:1698 overwritten in module Compat at /home/zheng_w/.julia/v0.5/Compat/src/Compat.jl:1698.\n",
      "WARNING: Method definition redirect_stderr(Function, Any) in module Compat at /home/zheng_w/.julia/v0.5/Compat/src/Compat.jl:1600 overwritten in module Compat at /home/zheng_w/.julia/v0.5/Compat/src/Compat.jl:1600.\n",
      "WARNING: Method definition redirect_stdout(Function, Any) in module Compat at /home/zheng_w/.julia/v0.5/Compat/src/Compat.jl:1600 overwritten in module Compat at /home/zheng_w/.julia/v0.5/Compat/src/Compat.jl:1600.\n",
      "WARNING: replacing module NLopt.\n"
     ]
    }
   ],
   "source": [
    "# 1 worker\n",
    "addprocs(1)\n",
    "@everywhere include(\"../RandomizeThenOptimize.jl\")\n",
    "@everywhere using RandomizeThenOptimize\n",
    "@everywhere function ff!(x::AbstractVector, jac::AbstractMatrix)\n",
    "    a = 3 \n",
    "    b = 6 \n",
    "    c = 20\n",
    "    if length(jac) > 0\n",
    "        jac[:] = c .*[cos(a*x[1])*a/b; -1]';\n",
    "    end\n",
    "\n",
    "    return c *(sin(a*x[1])/b - x[2])\n",
    "end \n",
    "\n",
    "p = Problem(2,1)\n",
    "forward_model!(p,ff!)\n",
    "rto_mcmc(p,100);"
   ]
  },
  {
   "cell_type": "code",
   "execution_count": 4,
   "metadata": {
    "collapsed": false
   },
   "outputs": [
    {
     "name": "stdout",
     "output_type": "stream",
     "text": [
      "  3.614009 seconds (5.77 k allocations: 1.282 MB)\n"
     ]
    }
   ],
   "source": [
    "@time rto_mcmc(p,nsamps);"
   ]
  },
  {
   "cell_type": "code",
   "execution_count": 5,
   "metadata": {
    "collapsed": false
   },
   "outputs": [
    {
     "name": "stderr",
     "output_type": "stream",
     "text": [
      "WARNING: replacing module RandomizeThenOptimize\n",
      "WARNING: replacing module RandomizeThenOptimize\n",
      "WARNING: using RandomizeThenOptimize.forward_model! in module Main conflicts with an existing identifier.\n",
      "WARNING: using RandomizeThenOptimize.Problem in module Main conflicts with an existing identifier.\n",
      "WARNING: using RandomizeThenOptimize.rto_mcmc in module Main conflicts with an existing identifier.\n",
      "WARNING: Method definition ff!(AbstractArray{T<:Any, 1}, AbstractArray{T<:Any, 2}) in module Main at In[3]:6 overwritten at In[5]:6.\n",
      "WARNING: Method definition ff!(AbstractArray{T<:Any, 1}, AbstractArray{T<:Any, 2}) in module Main at In[3]:6 overwritten at In[5]:6.\n"
     ]
    }
   ],
   "source": [
    "# 2 workers\n",
    "addprocs(1)\n",
    "@everywhere include(\"../RandomizeThenOptimize.jl\")\n",
    "@everywhere using RandomizeThenOptimize\n",
    "@everywhere function ff!(x::AbstractVector, jac::AbstractMatrix)\n",
    "    a = 3 \n",
    "    b = 6 \n",
    "    c = 20\n",
    "    if length(jac) > 0\n",
    "        jac[:] = c .*[cos(a*x[1])*a/b; -1]';\n",
    "    end\n",
    "\n",
    "    return c *(sin(a*x[1])/b - x[2])\n",
    "end \n",
    "\n",
    "p = Problem(2,1)\n",
    "forward_model!(p,ff!)\n",
    "rto_mcmc(p,100);"
   ]
  },
  {
   "cell_type": "code",
   "execution_count": 6,
   "metadata": {
    "collapsed": false
   },
   "outputs": [
    {
     "name": "stdout",
     "output_type": "stream",
     "text": [
      "  2.125129 seconds (6.46 k allocations: 1.286 MB)\n"
     ]
    }
   ],
   "source": [
    "@time rto_mcmc(p,nsamps);"
   ]
  },
  {
   "cell_type": "code",
   "execution_count": 7,
   "metadata": {
    "collapsed": false
   },
   "outputs": [
    {
     "name": "stderr",
     "output_type": "stream",
     "text": [
      "WARNING: replacing module RandomizeThenOptimize\n",
      "WARNING: replacing module RandomizeThenOptimize\n",
      "WARNING: replacing module RandomizeThenOptimize\n",
      "WARNING: using RandomizeThenOptimize.forward_model! in module Main conflicts with an existing identifier.\n",
      "WARNING: using RandomizeThenOptimize.Problem in module Main conflicts with an existing identifier.\n",
      "WARNING: using RandomizeThenOptimize.rto_mcmc in module Main conflicts with an existing identifier.\n",
      "WARNING: Method definition ff!(AbstractArray{T<:Any, 1}, AbstractArray{T<:Any, 2}) in module Main at In[5]:6 overwritten at In[7]:6.\n",
      "WARNING: Method definition ff!(AbstractArray{T<:Any, 1}, AbstractArray{T<:Any, 2}) in module Main at In[5]:6 overwritten at In[7]:6.\n",
      "WARNING: Method definition ff!(AbstractArray{T<:Any, 1}, AbstractArray{T<:Any, 2}) in module Main at In[5]:6 overwritten at In[7]:6.\n"
     ]
    }
   ],
   "source": [
    "# 3 workers\n",
    "addprocs(1)\n",
    "@everywhere include(\"../RandomizeThenOptimize.jl\")\n",
    "@everywhere using RandomizeThenOptimize\n",
    "@everywhere function ff!(x::AbstractVector, jac::AbstractMatrix)\n",
    "    a = 3 \n",
    "    b = 6 \n",
    "    c = 20\n",
    "    if length(jac) > 0\n",
    "        jac[:] = c .*[cos(a*x[1])*a/b; -1]';\n",
    "    end\n",
    "\n",
    "    return c *(sin(a*x[1])/b - x[2])\n",
    "end \n",
    "\n",
    "p = Problem(2,1)\n",
    "forward_model!(p,ff!)\n",
    "rto_mcmc(p,100);"
   ]
  },
  {
   "cell_type": "code",
   "execution_count": 8,
   "metadata": {
    "collapsed": false
   },
   "outputs": [
    {
     "name": "stdout",
     "output_type": "stream",
     "text": [
      "  2.380387 seconds (6.22 k allocations: 1.437 MB)\n"
     ]
    }
   ],
   "source": [
    "@time rto_mcmc(p,nsamps);"
   ]
  },
  {
   "cell_type": "code",
   "execution_count": 9,
   "metadata": {
    "collapsed": false
   },
   "outputs": [
    {
     "name": "stderr",
     "output_type": "stream",
     "text": [
      "WARNING: replacing module RandomizeThenOptimize\n",
      "WARNING: replacing module RandomizeThenOptimize\n",
      "WARNING: replacing module RandomizeThenOptimize\n",
      "WARNING: replacing module RandomizeThenOptimize\n",
      "WARNING: using RandomizeThenOptimize.forward_model! in module Main conflicts with an existing identifier.\n",
      "WARNING: using RandomizeThenOptimize.Problem in module Main conflicts with an existing identifier.\n",
      "WARNING: using RandomizeThenOptimize.rto_mcmc in module Main conflicts with an existing identifier.\n",
      "WARNING: Method definition ff!(AbstractArray{T<:Any, 1}, AbstractArray{T<:Any, 2}) in module Main at In[7]:6 overwritten at In[9]:6.\n",
      "WARNING: Method definition ff!WARNING: Method definition (AbstractArrayff!{(T<:AbstractArrayAny{, T<:1Any}, , 1AbstractArray}{, T<:AbstractArrayAny{, T<:2})Any in module Main, 2 at In[7]:6} overwritten) at In[9]:6 in module Main.\n",
      " at In[7]:6 overwritten at In[9]:6.\n",
      "WARNING: Method definition ff!(AbstractArray{T<:Any, 1}, AbstractArray{T<:Any, 2}) in module Main at In[7]:6 overwritten at In[9]:6.\n"
     ]
    }
   ],
   "source": [
    "# 4 workers\n",
    "addprocs(1)\n",
    "@everywhere include(\"../RandomizeThenOptimize.jl\")\n",
    "@everywhere using RandomizeThenOptimize\n",
    "@everywhere function ff!(x::AbstractVector, jac::AbstractMatrix)\n",
    "    a = 3 \n",
    "    b = 6 \n",
    "    c = 20\n",
    "    if length(jac) > 0\n",
    "        jac[:] = c .*[cos(a*x[1])*a/b; -1]';\n",
    "    end\n",
    "\n",
    "    return c *(sin(a*x[1])/b - x[2])\n",
    "end \n",
    "\n",
    "p = Problem(2,1)\n",
    "forward_model!(p,ff!)\n",
    "rto_mcmc(p,100);"
   ]
  },
  {
   "cell_type": "code",
   "execution_count": 10,
   "metadata": {
    "collapsed": false
   },
   "outputs": [
    {
     "name": "stdout",
     "output_type": "stream",
     "text": [
      "  1.021246 seconds (6.59 k allocations: 1.467 MB)\n"
     ]
    }
   ],
   "source": [
    "@time rto_mcmc(p,nsamps);"
   ]
  },
  {
   "cell_type": "code",
   "execution_count": 11,
   "metadata": {
    "collapsed": false
   },
   "outputs": [
    {
     "name": "stderr",
     "output_type": "stream",
     "text": [
      "WARNING: replacing module RandomizeThenOptimize\n",
      "WARNING: replacing module RandomizeThenOptimize\n",
      "WARNING: replacing module RandomizeThenOptimize\n",
      "WARNING: replacing module RandomizeThenOptimize\n",
      "WARNING: replacing module RandomizeThenOptimize\n",
      "WARNING: using RandomizeThenOptimize.forward_model! in module Main conflicts with an existing identifier.\n",
      "WARNING: using RandomizeThenOptimize.Problem in module Main conflicts with an existing identifier.\n",
      "WARNING: using RandomizeThenOptimize.rto_mcmc in module Main conflicts with an existing identifier.\n",
      "WARNING: Method definition ff!(AbstractArray{T<:Any, 1}, AbstractArray{T<:Any, 2}) in module Main at In[9]:6 overwritten at In[11]:6.\n",
      "WARNING: Method definition ff!(AbstractArray{T<:Any, 1}, AbstractArray{T<:Any, 2}) in module Main at In[9]:6 overwritten at In[11]:6.\n",
      "WARNING: Method definition ff!(AbstractArray{T<:Any, 1}, AbstractArray{T<:Any, 2}) in module Main at In[9]:6 overwritten at In[11]:6.\n",
      "WARNING: Method definition ff!(AbstractArray{T<:Any, 1}, AbstractArray{T<:Any, 2}) in module Main at In[9]:6 overwritten at In[11]:6.\n",
      "WARNING: Method definition ff!(AbstractArray{T<:Any, 1}, AbstractArray{T<:Any, 2}) in module Main at In[9]:6 overwritten at In[11]:6.\n"
     ]
    }
   ],
   "source": [
    "# 5 workers\n",
    "addprocs(1)\n",
    "@everywhere include(\"../RandomizeThenOptimize.jl\")\n",
    "@everywhere using RandomizeThenOptimize\n",
    "@everywhere function ff!(x::AbstractVector, jac::AbstractMatrix)\n",
    "    a = 3 \n",
    "    b = 6 \n",
    "    c = 20\n",
    "    if length(jac) > 0\n",
    "        jac[:] = c .*[cos(a*x[1])*a/b; -1]';\n",
    "    end\n",
    "\n",
    "    return c *(sin(a*x[1])/b - x[2])\n",
    "end \n",
    "\n",
    "p = Problem(2,1)\n",
    "forward_model!(p,ff!)\n",
    "rto_mcmc(p,100);"
   ]
  },
  {
   "cell_type": "code",
   "execution_count": 12,
   "metadata": {
    "collapsed": false
   },
   "outputs": [
    {
     "name": "stdout",
     "output_type": "stream",
     "text": [
      "  1.386445 seconds (6.99 k allocations: 1.610 MB)\n"
     ]
    }
   ],
   "source": [
    "@time rto_mcmc(p,nsamps);"
   ]
  },
  {
   "cell_type": "code",
   "execution_count": 13,
   "metadata": {
    "collapsed": false
   },
   "outputs": [
    {
     "name": "stderr",
     "output_type": "stream",
     "text": [
      "WARNING: replacing module RandomizeThenOptimize\n",
      "WARNING: replacing module RandomizeThenOptimize\n",
      "WARNING: replacing module RandomizeThenOptimize\n",
      "WARNING: replacing module RandomizeThenOptimize\n",
      "WARNING: replacing module RandomizeThenOptimize\n",
      "WARNING: replacing module RandomizeThenOptimize\n",
      "WARNING: using RandomizeThenOptimize.forward_model! in module Main conflicts with an existing identifier.\n",
      "WARNING: using RandomizeThenOptimize.Problem in module Main conflicts with an existing identifier.\n",
      "WARNING: using RandomizeThenOptimize.rto_mcmc in module Main conflicts with an existing identifier.\n",
      "WARNING: Method definition ff!(AbstractArray{T<:Any, 1}, AbstractArray{T<:Any, 2}) in module Main at In[11]:6 overwritten at In[13]:6.\n",
      "WARNING: Method definition ff!(AbstractArray{T<:Any, 1}, AbstractArray{T<:Any, 2}) in module Main at In[11]:6 overwritten at In[13]:6.\n",
      "WARNING: Method definition ff!(AbstractArray{T<:Any, 1}, AbstractArray{T<:Any, 2}) in module Main at In[11]:6 overwritten at In[13]:6.\n",
      "WARNING: Method definition ff!(AbstractArray{T<:Any, 1}, AbstractArray{T<:Any, 2}) in module Main at In[11]:6 overwritten at In[13]:6.\n",
      "WARNING: Method definition WARNING: Method definition ff!ff!((AbstractArray{T<:Any, AbstractArray{T<:1Any}, , AbstractArray{1T<:}Any, , AbstractArray2}){ in module MainT<: at In[11]:6Any overwritten,  at In[13]:62.\n",
      "}) in module Main at In[11]:6 overwritten at In[13]:6.\n"
     ]
    }
   ],
   "source": [
    "# 6 workers\n",
    "addprocs(1)\n",
    "@everywhere include(\"../RandomizeThenOptimize.jl\")\n",
    "@everywhere using RandomizeThenOptimize\n",
    "@everywhere function ff!(x::AbstractVector, jac::AbstractMatrix)\n",
    "    a = 3 \n",
    "    b = 6 \n",
    "    c = 20\n",
    "    if length(jac) > 0\n",
    "        jac[:] = c .*[cos(a*x[1])*a/b; -1]';\n",
    "    end\n",
    "\n",
    "    return c *(sin(a*x[1])/b - x[2])\n",
    "end \n",
    "\n",
    "p = Problem(2,1)\n",
    "forward_model!(p,ff!)\n",
    "rto_mcmc(p,100);"
   ]
  },
  {
   "cell_type": "code",
   "execution_count": 14,
   "metadata": {
    "collapsed": false
   },
   "outputs": [
    {
     "name": "stdout",
     "output_type": "stream",
     "text": [
      "  1.227752 seconds (7.08 k allocations: 1.745 MB)\n"
     ]
    }
   ],
   "source": [
    "@time rto_mcmc(p,nsamps);"
   ]
  },
  {
   "cell_type": "code",
   "execution_count": null,
   "metadata": {
    "collapsed": true
   },
   "outputs": [],
   "source": []
  }
 ],
 "metadata": {
  "anaconda-cloud": {},
  "kernelspec": {
   "display_name": "Julia 0.5.0",
   "language": "julia",
   "name": "julia-0.5"
  },
  "language_info": {
   "file_extension": ".jl",
   "mimetype": "application/julia",
   "name": "julia",
   "version": "0.5.0"
  }
 },
 "nbformat": 4,
 "nbformat_minor": 1
}
