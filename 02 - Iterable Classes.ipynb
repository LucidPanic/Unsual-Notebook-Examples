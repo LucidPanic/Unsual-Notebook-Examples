{
 "cells": [
  {
   "cell_type": "markdown",
   "metadata": {},
   "source": [
    "# Functional Programming in Python\n",
    "## David Mertz\n",
    "### dmertz@continuum.io\n",
    "### 2016-04-22"
   ]
  },
  {
   "cell_type": "markdown",
   "metadata": {},
   "source": [
    "<hr/>\n",
    "This tutorial, and Python in general, run more smoothly under Python 3.x.\n",
    "\n",
    "Whether you're running on Python 2 or Python 3, please install [Python-Future](http://python-future.org/futurize.html):\n",
    "```bash\n",
    "conda install future\n",
    "```"
   ]
  },
  {
   "cell_type": "code",
   "execution_count": null,
   "metadata": {
    "collapsed": true
   },
   "outputs": [],
   "source": [
    "from __future__ import (absolute_import, division,\n",
    "                        print_function, unicode_literals)\n",
    "from future import standard_library\n",
    "standard_library.install_aliases()\n",
    "from future.builtins import (\n",
    "         bytes, dict, int, list, object, range, str,\n",
    "         ascii, chr, hex, input, next, oct, open,\n",
    "         pow, round, super, filter, map, zip)"
   ]
  },
  {
   "cell_type": "markdown",
   "metadata": {},
   "source": [
    "# Table of Contents\n",
    "* [Container classes](#Container-classes)\n",
    "* [Class-based iterables](#Class-based-iterables)"
   ]
  },
  {
   "cell_type": "markdown",
   "metadata": {},
   "source": [
    "# Container classes"
   ]
  },
  {
   "cell_type": "markdown",
   "metadata": {},
   "source": [
    "If `my_list` is a list, then the expression `my_list[2]` is actually *a call to the method `.__getitem__()` from the `list` class*;  in particualr, `my_list.__getitem__(2) is my_list[2]`. The same is true for other classes of objects that support indexing with brackets (e.g., `tuple`, `dict`, etc.)."
   ]
  },
  {
   "cell_type": "code",
   "execution_count": null,
   "metadata": {
    "collapsed": false
   },
   "outputs": [],
   "source": [
    "my_list = [0,2,3,4,5,6]\n",
    "my_list[2] is my_list.__getitem__(2)"
   ]
  },
  {
   "cell_type": "code",
   "execution_count": null,
   "metadata": {
    "collapsed": false
   },
   "outputs": [],
   "source": [
    "dct = {'David':'Mertz', 'James':'Lowden'}\n",
    "dct['David'] is dct.__getitem__('David')"
   ]
  },
  {
   "cell_type": "code",
   "execution_count": null,
   "metadata": {
    "collapsed": false
   },
   "outputs": [],
   "source": [
    "dct.__getitem__('James')"
   ]
  },
  {
   "cell_type": "markdown",
   "metadata": {},
   "source": [
    "Thus, we can customize the `__getitem__` any way we like to construct unusual classes with arbitrary indexing behavior. For instance, the `Capitalizer` class defined below (as a *subclass* of `dict`) can accept arbitrary strings as indices, even if they are not stored in the underlying dictionary."
   ]
  },
  {
   "cell_type": "code",
   "execution_count": null,
   "metadata": {
    "collapsed": true
   },
   "outputs": [],
   "source": [
    "class Capitalizer(dict):\n",
    "    def __getitem__(self, word):\n",
    "        return word.upper()"
   ]
  },
  {
   "cell_type": "code",
   "execution_count": null,
   "metadata": {
    "collapsed": false
   },
   "outputs": [],
   "source": [
    "capitalizer = Capitalizer()\n",
    "print(capitalizer['Ivan'])"
   ]
  },
  {
   "cell_type": "code",
   "execution_count": null,
   "metadata": {
    "collapsed": false
   },
   "outputs": [],
   "source": [
    "capitalizer['David'] = 'Mertz' # The assignment of key-value pairs inherits from dict\n",
    "print(capitalizer['David'])    # However, __getitem__() does not do what a dict does!"
   ]
  },
  {
   "cell_type": "code",
   "execution_count": null,
   "metadata": {
    "collapsed": false
   },
   "outputs": [],
   "source": [
    "capitalizer['Moise'] = \"Smith\"\n",
    "print(capitalizer.keys())\n",
    "print(capitalizer.items()) # We can examine the key-value pairs as for a dict"
   ]
  },
  {
   "cell_type": "markdown",
   "metadata": {},
   "source": [
    "As a nifty example, let's define an `ExpandingSequence` class with customized `__getitem__` and `__len__` methods as well as attributes `iteration` and `_cache`. This class is a subclass of the `Sequence` class in the `collections.abc` module."
   ]
  },
  {
   "cell_type": "code",
   "execution_count": null,
   "metadata": {
    "collapsed": true,
    "py3_only": true
   },
   "outputs": [],
   "source": [
    "# A bit of cleverness to create a new sequence for infinite iterators\n",
    "from collections.abc import Sequence\n",
    "class ExpandingSequence(Sequence):\n",
    "    def __init__(self, iterator):\n",
    "        self.iterator = iterator\n",
    "        self._cache = []\n",
    "    def __getitem__(self, index):\n",
    "        while len(self._cache) <= index:\n",
    "            self._cache.append(next(self.iterator))\n",
    "        return self._cache[index]\n",
    "    def __len__(self):\n",
    "        return len(self._cache)"
   ]
  },
  {
   "cell_type": "markdown",
   "metadata": {},
   "source": [
    "We can build a generator function to build a sequence of arbitrary length using lazy evaluation. For instance, the function below builds a list of primes using the Sieve of Eratosthenes."
   ]
  },
  {
   "cell_type": "code",
   "execution_count": null,
   "metadata": {
    "collapsed": true,
    "py3_only": true
   },
   "outputs": [],
   "source": [
    "# A generator function to build up a list of prime numbers\n",
    "def get_primes():\n",
    "    \"Simple lazy Sieve of Eratosthenes\"\n",
    "    candidate = 2\n",
    "    primes = [] # The list of primes is accumulated \n",
    "    while True:\n",
    "        if all(candidate % prime != 0 for prime in primes):\n",
    "            yield candidate\n",
    "            primes.append(candidate)\n",
    "        candidate += 1"
   ]
  },
  {
   "cell_type": "code",
   "execution_count": null,
   "metadata": {
    "collapsed": true,
    "py3_only": true
   },
   "outputs": [],
   "source": [
    "def fib_generator():\n",
    "    prev, curr = 0, 1\n",
    "    while True:\n",
    "        yield curr\n",
    "        prev, curr = curr, prev + curr"
   ]
  },
  {
   "cell_type": "markdown",
   "metadata": {
    "py3_only": true
   },
   "source": [
    "We can instantiate the class `ExpandingSequence` defined above to generate a sequence of primes that can be accessed as if it were a list that grows on demand."
   ]
  },
  {
   "cell_type": "code",
   "execution_count": null,
   "metadata": {
    "collapsed": false,
    "py3_only": true
   },
   "outputs": [],
   "source": [
    "primes = ExpandingSequence(get_primes())\n",
    "for _, p in zip(range(10), primes):\n",
    "    print(p, end=\" \")"
   ]
  },
  {
   "cell_type": "code",
   "execution_count": null,
   "metadata": {
    "collapsed": false,
    "py3_only": true
   },
   "outputs": [],
   "source": [
    "print(primes)"
   ]
  },
  {
   "cell_type": "code",
   "execution_count": null,
   "metadata": {
    "collapsed": false,
    "py3_only": true
   },
   "outputs": [],
   "source": [
    "primes[10] # What is the 11th prime number?"
   ]
  },
  {
   "cell_type": "code",
   "execution_count": null,
   "metadata": {
    "collapsed": false,
    "py3_only": true
   },
   "outputs": [],
   "source": [
    "primes[5] # What is the 6th prime number?"
   ]
  },
  {
   "cell_type": "code",
   "execution_count": null,
   "metadata": {
    "collapsed": false,
    "py3_only": true
   },
   "outputs": [],
   "source": [
    "len(primes) # Up to now, only 11 primes hove been generated"
   ]
  },
  {
   "cell_type": "code",
   "execution_count": null,
   "metadata": {
    "collapsed": false,
    "py3_only": true
   },
   "outputs": [],
   "source": [
    "primes[100] # The ExpandingSequence object now built up to 101 entries"
   ]
  },
  {
   "cell_type": "code",
   "execution_count": null,
   "metadata": {
    "collapsed": false,
    "py3_only": true
   },
   "outputs": [],
   "source": [
    "len(primes)"
   ]
  },
  {
   "cell_type": "code",
   "execution_count": null,
   "metadata": {
    "collapsed": false,
    "py3_only": true
   },
   "outputs": [],
   "source": [
    "print(primes._cache)"
   ]
  },
  {
   "cell_type": "code",
   "execution_count": null,
   "metadata": {
    "collapsed": false,
    "py3_only": true
   },
   "outputs": [],
   "source": [
    "257 in primes._cache"
   ]
  },
  {
   "cell_type": "code",
   "execution_count": null,
   "metadata": {
    "collapsed": false,
    "py3_only": true
   },
   "outputs": [],
   "source": [
    "257 in primes   # Why does this work?"
   ]
  },
  {
   "cell_type": "markdown",
   "metadata": {
    "py3_only": true
   },
   "source": [
    "This last code sample is interesting.  The `in` operator has several fallbacks in how it operates.  The first thing the operator tries is using the `.__contains__()` method.  But if that is not available, it will try calling `.__getitem__()` with sequential indices: 0, 1, 2, $...$; this works great when the number is found after a finite number of checks, but for a composite number, it will keep looking infinitely far.\n",
    "\n",
    "In other words, DO NOT do this with current implementation (it will run forever):\n",
    "\n",
    "```python\n",
    "if 258 in primes: \n",
    "    print(\"A composite number was found in primes\")\n",
    "```"
   ]
  },
  {
   "cell_type": "markdown",
   "metadata": {
    "py3_only": true
   },
   "source": [
    "We can improve our class though if we want, for this purpose."
   ]
  },
  {
   "cell_type": "code",
   "execution_count": null,
   "metadata": {
    "collapsed": false,
    "py3_only": true
   },
   "outputs": [],
   "source": [
    "class MonotonicExpandingSequence(ExpandingSequence):\n",
    "    def __contains__(self, num):\n",
    "        i = 0\n",
    "        while True:\n",
    "            if self[i] == num:\n",
    "                return True\n",
    "            elif self[i] > num:\n",
    "                return False\n",
    "            else:\n",
    "                i += 1\n",
    "                \n",
    "primes = MonotonicExpandingSequence(get_primes())\n",
    "257 in primes, 258 in primes"
   ]
  },
  {
   "cell_type": "code",
   "execution_count": null,
   "metadata": {
    "collapsed": false,
    "py3_only": true
   },
   "outputs": [],
   "source": [
    "len(primes), primes"
   ]
  },
  {
   "cell_type": "markdown",
   "metadata": {},
   "source": [
    "# Class-based iterables"
   ]
  },
  {
   "cell_type": "markdown",
   "metadata": {},
   "source": [
    "Defining generator functions is almost always more readable and more concise than using a class definition.  However, there may be cases where a custom class is necessary or more clear in defining complex behaviors.  Below is a simple class defining an iterator (and hence an iterable)."
   ]
  },
  {
   "cell_type": "code",
   "execution_count": null,
   "metadata": {
    "collapsed": true,
    "py3_only": true
   },
   "outputs": [],
   "source": [
    "class Letters(object):\n",
    "    def __init__(self, s):\n",
    "        self.s = s\n",
    "        self.pos = -1\n",
    "        \n",
    "    def __iter__(self):\n",
    "        return self\n",
    "    \n",
    "    def __next__(self):\n",
    "        try:\n",
    "            self.pos += 1\n",
    "            return self.s[self.pos]\n",
    "        except IndexError:\n",
    "            raise StopIteration\n",
    "            \n",
    "for letter in Letters(\"Class Based\"):\n",
    "    print(letter, end=\"_\")"
   ]
  },
  {
   "cell_type": "markdown",
   "metadata": {
    "py3_only": true
   },
   "source": [
    "A generator function the returns a sequence of all the primes was presented in the *Introduction to Python* notebook.  While we cannot loop over infinitely many elements, we can still either break within a loop or otherwise limit the looping."
   ]
  },
  {
   "cell_type": "code",
   "execution_count": null,
   "metadata": {
    "collapsed": true
   },
   "outputs": [],
   "source": []
  },
  {
   "cell_type": "code",
   "execution_count": null,
   "metadata": {
    "collapsed": false
   },
   "outputs": [],
   "source": [
    "import continuum_style; continuum_style.style()"
   ]
  }
 ],
 "metadata": {
  "continuum": {
   "depends": [
    "adv_exceptions",
    "ip_essentials",
    "ip_containers",
    "ip_flowcontrol",
    "adv_classes",
    "adv_generators",
    "adv_magic"
   ],
   "tag": "adv_classes_itr"
  },
  "kernelspec": {
   "display_name": "Python 3",
   "language": "python",
   "name": "python3"
  },
  "language_info": {
   "codemirror_mode": {
    "name": "ipython",
    "version": 3
   },
   "file_extension": ".py",
   "mimetype": "text/x-python",
   "name": "python",
   "nbconvert_exporter": "python",
   "pygments_lexer": "ipython3",
   "version": "3.5.1"
  }
 },
 "nbformat": 4,
 "nbformat_minor": 0
}
