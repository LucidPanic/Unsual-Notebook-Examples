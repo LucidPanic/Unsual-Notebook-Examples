{
 "cells": [
  {
   "cell_type": "markdown",
   "metadata": {},
   "source": [
    "# Test 1: Parameter Estimation\n",
    "\n",
    "$ g(x;\\theta) = \\theta_1 + \\theta_2 \\sin(\\theta_3\\pi x) $\n",
    "\n",
    "$f(\\theta) = \\big[ g(x_1,\\theta), g(x_2,\\theta) \\big]^T $\n"
   ]
  },
  {
   "cell_type": "code",
   "execution_count": 1,
   "metadata": {
    "collapsed": false
   },
   "outputs": [
    {
     "name": "stderr",
     "output_type": "stream",
     "text": [
      "WARNING: rmprocs: process 1 not removed\n"
     ]
    }
   ],
   "source": [
    "rmprocs(procs())\n",
    "workspace()"
   ]
  },
  {
   "cell_type": "markdown",
   "metadata": {},
   "source": [
    "### Parallel RTO"
   ]
  },
  {
   "cell_type": "code",
   "execution_count": 2,
   "metadata": {
    "collapsed": false
   },
   "outputs": [],
   "source": [
    "nsamps = 10000;"
   ]
  },
  {
   "cell_type": "code",
   "execution_count": 3,
   "metadata": {
    "collapsed": false
   },
   "outputs": [
    {
     "name": "stderr",
     "output_type": "stream",
     "text": [
      "WARNING: Method definition isnull(Any) in module Compat at /home/zheng_w/.julia/v0.5/Compat/src/Compat.jl:1678 overwritten in module Compat at /home/zheng_w/.julia/v0.5/Compat/src/Compat.jl:1678.\n",
      "WARNING: Method definition redirect_stdin(Function, Any) in module Compat at /home/zheng_w/.julia/v0.5/Compat/src/Compat.jl:1600 overwritten in module Compat at /home/zheng_w/.julia/v0.5/Compat/src/Compat.jl:1600.\n",
      "WARNING: Method definition take!(Main.Base.AbstractIOBuffer) in module Compat at /home/zheng_w/.julia/v0.5/Compat/src/Compat.jl:1698 overwritten in module Compat at /home/zheng_w/.julia/v0.5/Compat/src/Compat.jl:1698.\n",
      "WARNING: Method definition redirect_stderr(Function, Any) in module Compat at /home/zheng_w/.julia/v0.5/Compat/src/Compat.jl:1600 overwritten in module Compat at /home/zheng_w/.julia/v0.5/Compat/src/Compat.jl:1600.\n",
      "WARNING: Method definition redirect_stdout(Function, Any) in module Compat at /home/zheng_w/.julia/v0.5/Compat/src/Compat.jl:1600 overwritten in module Compat at /home/zheng_w/.julia/v0.5/Compat/src/Compat.jl:1600.\n",
      "WARNING: replacing module NLopt.\n"
     ]
    }
   ],
   "source": [
    "# 1 worker\n",
    "addprocs(1)\n",
    "@everywhere include(\"../RandomizeThenOptimize.jl\")\n",
    "@everywhere using RandomizeThenOptimize\n",
    "@everywhere g = (x,θ) -> θ[1] + θ[2]*exp(θ[3]*x)\n",
    "@everywhere x = [-0.5; 0.5]\n",
    "@everywhere y = [-1; 2]\n",
    "@everywhere dgdθ = (x,θ) -> [1; exp(θ[3]*x); θ[2]*exp(θ[3]*x)*x ]'\n",
    "@everywhere function ff!(θ::AbstractVector, jac::AbstractMatrix)\n",
    "    if length(jac) > 0\n",
    "        # fill up the Jacobian matrix\n",
    "        jac[1,:] = dgdθ(x[1],θ)\n",
    "        jac[2,:] = dgdθ(x[2],θ)\n",
    "    end\n",
    "    \n",
    "    return [g(x[1],θ); g(x[2],θ)]\n",
    "end\n",
    "\n",
    "n = 3\n",
    "p = Problem(n,2)\n",
    "forward_model!(p,ff!)\n",
    "obs_σ!(p,[0.3,0.3]);\n",
    "obs_data!(p,y);\n",
    "\n",
    "rto_mcmc(p,100);"
   ]
  },
  {
   "cell_type": "code",
   "execution_count": 4,
   "metadata": {
    "collapsed": false
   },
   "outputs": [
    {
     "name": "stdout",
     "output_type": "stream",
     "text": [
      "  2.316310 seconds (12.50 k allocations: 2.385 MB)\n"
     ]
    }
   ],
   "source": [
    "@time rto_mcmc(p,nsamps);"
   ]
  },
  {
   "cell_type": "code",
   "execution_count": 5,
   "metadata": {
    "collapsed": false
   },
   "outputs": [
    {
     "name": "stderr",
     "output_type": "stream",
     "text": [
      "WARNING: replacing module RandomizeThenOptimize\n",
      "WARNING: replacing module RandomizeThenOptimize\n",
      "WARNING: using RandomizeThenOptimize.obs_σ! in module Main conflicts with an existing identifier.\n",
      "WARNING: using RandomizeThenOptimize.rto_mcmc in module Main conflicts with an existing identifier.\n",
      "WARNING: using RandomizeThenOptimize.Problem in module Main conflicts with an existing identifier.\n",
      "WARNING: using RandomizeThenOptimize.obs_data! in module Main conflicts with an existing identifier.\n",
      "WARNING: using RandomizeThenOptimize.forward_model! in module Main conflicts with an existing identifier.\n",
      "WARNING: Method definition ff!(AbstractArray{T<:Any, 1}, AbstractArray{T<:Any, 2}) in module Main at In[3]:10 overwritten at In[5]:10.\n",
      "WARNING: Method definition ff!(AbstractArray{T<:Any, 1}, AbstractArray{T<:Any, 2}) in module Main at In[3]:10 overwritten at In[5]:10.\n"
     ]
    }
   ],
   "source": [
    "# 2 workers\n",
    "addprocs(1)\n",
    "@everywhere include(\"../RandomizeThenOptimize.jl\")\n",
    "@everywhere using RandomizeThenOptimize\n",
    "@everywhere g = (x,θ) -> θ[1] + θ[2]*exp(θ[3]*x)\n",
    "@everywhere x = [-0.5; 0.5]\n",
    "@everywhere y = [-1; 2]\n",
    "@everywhere dgdθ = (x,θ) -> [1; exp(θ[3]*x); θ[2]*exp(θ[3]*x)*x ]'\n",
    "@everywhere function ff!(θ::AbstractVector, jac::AbstractMatrix)\n",
    "    if length(jac) > 0\n",
    "        # fill up the Jacobian matrix\n",
    "        jac[1,:] = dgdθ(x[1],θ)\n",
    "        jac[2,:] = dgdθ(x[2],θ)\n",
    "    end\n",
    "    \n",
    "    return [g(x[1],θ); g(x[2],θ)]\n",
    "end\n",
    "\n",
    "n = 3\n",
    "p = Problem(n,2)\n",
    "forward_model!(p,ff!)\n",
    "obs_σ!(p,[0.3,0.3]);\n",
    "obs_data!(p,y);\n",
    "\n",
    "rto_mcmc(p,100);"
   ]
  },
  {
   "cell_type": "code",
   "execution_count": 6,
   "metadata": {
    "collapsed": false
   },
   "outputs": [
    {
     "name": "stdout",
     "output_type": "stream",
     "text": [
      "  1.135954 seconds (12.51 k allocations: 2.192 MB)\n"
     ]
    }
   ],
   "source": [
    "@time rto_mcmc(p,nsamps);"
   ]
  },
  {
   "cell_type": "code",
   "execution_count": 7,
   "metadata": {
    "collapsed": false
   },
   "outputs": [
    {
     "name": "stderr",
     "output_type": "stream",
     "text": [
      "WARNING: replacing module RandomizeThenOptimize\n",
      "WARNING: replacing module RandomizeThenOptimize\n",
      "WARNING: replacing module RandomizeThenOptimize\n",
      "WARNING: using RandomizeThenOptimize.obs_σ! in module Main conflicts with an existing identifier.\n",
      "WARNING: using RandomizeThenOptimize.rto_mcmc in module Main conflicts with an existing identifier.\n",
      "WARNING: using RandomizeThenOptimize.Problem in module Main conflicts with an existing identifier.\n",
      "WARNING: using RandomizeThenOptimize.obs_data! in module Main conflicts with an existing identifier.\n",
      "WARNING: using RandomizeThenOptimize.forward_model! in module Main conflicts with an existing identifier.\n",
      "WARNING: Method definition ff!(AbstractArray{T<:Any, 1}, AbstractArray{T<:Any, 2}) in module Main at In[5]:10 overwritten at In[7]:10.\n",
      "WARNING: Method definition ff!(AbstractArray{T<:Any, 1}, AbstractArray{T<:Any, 2}) in module Main at In[5]:10 overwritten at In[7]:10.\n",
      "WARNING: Method definition ff!(AbstractArray{T<:Any, 1}, AbstractArray{T<:Any, 2}) in module Main at In[5]:10 overwritten at In[7]:10.\n"
     ]
    }
   ],
   "source": [
    "# 3 workers\n",
    "addprocs(1)\n",
    "@everywhere include(\"../RandomizeThenOptimize.jl\")\n",
    "@everywhere using RandomizeThenOptimize\n",
    "@everywhere g = (x,θ) -> θ[1] + θ[2]*exp(θ[3]*x)\n",
    "@everywhere x = [-0.5; 0.5]\n",
    "@everywhere y = [-1; 2]\n",
    "@everywhere dgdθ = (x,θ) -> [1; exp(θ[3]*x); θ[2]*exp(θ[3]*x)*x ]'\n",
    "@everywhere function ff!(θ::AbstractVector, jac::AbstractMatrix)\n",
    "    if length(jac) > 0\n",
    "        # fill up the Jacobian matrix\n",
    "        jac[1,:] = dgdθ(x[1],θ)\n",
    "        jac[2,:] = dgdθ(x[2],θ)\n",
    "    end\n",
    "    \n",
    "    return [g(x[1],θ); g(x[2],θ)]\n",
    "end\n",
    "\n",
    "n = 3\n",
    "p = Problem(n,2)\n",
    "forward_model!(p,ff!)\n",
    "obs_σ!(p,[0.3,0.3]);\n",
    "obs_data!(p,y);\n",
    "\n",
    "rto_mcmc(p,100);"
   ]
  },
  {
   "cell_type": "code",
   "execution_count": 8,
   "metadata": {
    "collapsed": false
   },
   "outputs": [
    {
     "name": "stdout",
     "output_type": "stream",
     "text": [
      "  0.789860 seconds (13.04 k allocations: 2.420 MB)\n"
     ]
    }
   ],
   "source": [
    "@time rto_mcmc(p,nsamps);"
   ]
  },
  {
   "cell_type": "code",
   "execution_count": 9,
   "metadata": {
    "collapsed": false
   },
   "outputs": [
    {
     "name": "stderr",
     "output_type": "stream",
     "text": [
      "WARNING: replacing module RandomizeThenOptimize\n",
      "WARNING: replacing module RandomizeThenOptimize\n",
      "WARNING: replacing module RandomizeThenOptimize\n",
      "WARNING: replacing module RandomizeThenOptimize\n",
      "WARNING: using RandomizeThenOptimize.obs_σ! in module Main conflicts with an existing identifier.\n",
      "WARNING: using RandomizeThenOptimize.rto_mcmc in module Main conflicts with an existing identifier.\n",
      "WARNING: using RandomizeThenOptimize.Problem in module Main conflicts with an existing identifier.\n",
      "WARNING: using RandomizeThenOptimize.obs_data! in module Main conflicts with an existing identifier.\n",
      "WARNING: using RandomizeThenOptimize.forward_model! in module Main conflicts with an existing identifier.\n",
      "WARNING: Method definition ff!(AbstractArray{T<:Any, 1}, AbstractArray{T<:Any, 2}) in module Main at In[7]:10 overwritten at In[9]:10.\n",
      "WARNING: Method definition ff!(AbstractArray{T<:Any, 1}, AbstractArray{T<:Any, 2}) in module Main at In[7]:10 overwritten at In[9]:10.\n",
      "WARNING: Method definition ff!(AbstractArray{T<:Any, 1}, AbstractArray{T<:Any, 2}) in module Main at In[7]:10 overwritten at In[9]:10.\n",
      "WARNING: Method definition ff!(AbstractArray{T<:Any, 1}, AbstractArray{T<:Any, 2}) in module Main at In[7]:10 overwritten at In[9]:10.\n"
     ]
    }
   ],
   "source": [
    "# 4 workers\n",
    "addprocs(1)\n",
    "@everywhere include(\"../RandomizeThenOptimize.jl\")\n",
    "@everywhere using RandomizeThenOptimize\n",
    "@everywhere g = (x,θ) -> θ[1] + θ[2]*exp(θ[3]*x)\n",
    "@everywhere x = [-0.5; 0.5]\n",
    "@everywhere y = [-1; 2]\n",
    "@everywhere dgdθ = (x,θ) -> [1; exp(θ[3]*x); θ[2]*exp(θ[3]*x)*x ]'\n",
    "@everywhere function ff!(θ::AbstractVector, jac::AbstractMatrix)\n",
    "    if length(jac) > 0\n",
    "        # fill up the Jacobian matrix\n",
    "        jac[1,:] = dgdθ(x[1],θ)\n",
    "        jac[2,:] = dgdθ(x[2],θ)\n",
    "    end\n",
    "    \n",
    "    return [g(x[1],θ); g(x[2],θ)]\n",
    "end\n",
    "\n",
    "n = 3\n",
    "p = Problem(n,2)\n",
    "forward_model!(p,ff!)\n",
    "obs_σ!(p,[0.3,0.3]);\n",
    "obs_data!(p,y);\n",
    "\n",
    "rto_mcmc(p,100);"
   ]
  },
  {
   "cell_type": "code",
   "execution_count": 10,
   "metadata": {
    "collapsed": false
   },
   "outputs": [
    {
     "name": "stdout",
     "output_type": "stream",
     "text": [
      "  0.586540 seconds (13.60 k allocations: 2.375 MB)\n"
     ]
    }
   ],
   "source": [
    "@time rto_mcmc(p,nsamps);"
   ]
  },
  {
   "cell_type": "code",
   "execution_count": 11,
   "metadata": {
    "collapsed": false
   },
   "outputs": [
    {
     "name": "stderr",
     "output_type": "stream",
     "text": [
      "WARNING: replacing module RandomizeThenOptimize\n",
      "WARNING: replacing module RandomizeThenOptimize\n",
      "WARNING: replacing module RandomizeThenOptimize\n",
      "WARNING: replacing module RandomizeThenOptimize\n",
      "WARNING: replacing module RandomizeThenOptimize\n",
      "WARNING: using RandomizeThenOptimize.obs_σ! in module Main conflicts with an existing identifier.\n",
      "WARNING: using RandomizeThenOptimize.rto_mcmc in module Main conflicts with an existing identifier.\n",
      "WARNING: using RandomizeThenOptimize.Problem in module Main conflicts with an existing identifier.\n",
      "WARNING: using RandomizeThenOptimize.obs_data! in module Main conflicts with an existing identifier.\n",
      "WARNING: using RandomizeThenOptimize.forward_model! in module Main conflicts with an existing identifier.\n",
      "WARNING: Method definition ff!(AbstractArray{T<:Any, 1}, AbstractArray{T<:Any, 2}) in module Main at In[9]:10 overwritten at In[11]:10.\n",
      "WARNING: Method definition ff!(AbstractArray{T<:Any, 1}, AbstractArray{T<:Any, 2}) in module Main at In[9]:10 overwritten at In[11]:10.\n",
      "WARNING: Method definition ff!(AbstractArray{T<:Any, 1}, AbstractArray{T<:Any, 2}) in module Main at In[9]:10 overwritten at In[11]:10.\n",
      "WARNING: Method definition ff!(AbstractArray{T<:Any, 1}, AbstractArray{T<:Any, 2}) in module Main at In[9]:10 overwritten at In[11]:10.\n",
      "WARNING: Method definition ff!(AbstractArray{T<:Any, 1}, AbstractArray{T<:Any, 2}) in module Main at In[9]:10 overwritten at In[11]:10.\n"
     ]
    }
   ],
   "source": [
    "# 5 workers\n",
    "addprocs(1)\n",
    "@everywhere include(\"../RandomizeThenOptimize.jl\")\n",
    "@everywhere using RandomizeThenOptimize\n",
    "@everywhere g = (x,θ) -> θ[1] + θ[2]*exp(θ[3]*x)\n",
    "@everywhere x = [-0.5; 0.5]\n",
    "@everywhere y = [-1; 2]\n",
    "@everywhere dgdθ = (x,θ) -> [1; exp(θ[3]*x); θ[2]*exp(θ[3]*x)*x ]'\n",
    "@everywhere function ff!(θ::AbstractVector, jac::AbstractMatrix)\n",
    "    if length(jac) > 0\n",
    "        # fill up the Jacobian matrix\n",
    "        jac[1,:] = dgdθ(x[1],θ)\n",
    "        jac[2,:] = dgdθ(x[2],θ)\n",
    "    end\n",
    "    \n",
    "    return [g(x[1],θ); g(x[2],θ)]\n",
    "end\n",
    "\n",
    "n = 3\n",
    "p = Problem(n,2)\n",
    "forward_model!(p,ff!)\n",
    "obs_σ!(p,[0.3,0.3]);\n",
    "obs_data!(p,y);\n",
    "\n",
    "rto_mcmc(p,100);"
   ]
  },
  {
   "cell_type": "code",
   "execution_count": 12,
   "metadata": {
    "collapsed": false
   },
   "outputs": [
    {
     "name": "stdout",
     "output_type": "stream",
     "text": [
      "  0.603187 seconds (13.91 k allocations: 2.437 MB, 0.85% gc time)\n"
     ]
    }
   ],
   "source": [
    "@time rto_mcmc(p,nsamps);"
   ]
  },
  {
   "cell_type": "code",
   "execution_count": 13,
   "metadata": {
    "collapsed": false
   },
   "outputs": [
    {
     "name": "stderr",
     "output_type": "stream",
     "text": [
      "WARNING: replacing module RandomizeThenOptimize\n",
      "WARNING: replacing module RandomizeThenOptimize\n",
      "WARNING: replacing module RandomizeThenOptimize\n",
      "WARNING: replacing module RandomizeThenOptimize\n",
      "WARNING: replacing module RandomizeThenOptimize\n",
      "WARNING: replacing module RandomizeThenOptimize\n",
      "WARNING: using RandomizeThenOptimize.obs_σ! in module Main conflicts with an existing identifier.\n",
      "WARNING: using RandomizeThenOptimize.rto_mcmc in module Main conflicts with an existing identifier.\n",
      "WARNING: using RandomizeThenOptimize.Problem in module Main conflicts with an existing identifier.\n",
      "WARNING: using RandomizeThenOptimize.obs_data! in module Main conflicts with an existing identifier.\n",
      "WARNING: using RandomizeThenOptimize.forward_model! in module Main conflicts with an existing identifier.\n",
      "WARNING: Method definition ff!(AbstractArray{T<:Any, 1}, AbstractArray{T<:Any, 2}) in module Main at In[11]:10 overwritten at In[13]:10.\n",
      "WARNING: Method definition ff!(AbstractArray{T<:Any, 1}, AbstractArray{T<:Any, 2}) in module Main at In[11]:10 overwritten at In[13]:10.\n",
      "WARNING: Method definition ff!(AbstractArray{T<:Any, 1}, AbstractArray{T<:Any, 2}) in module Main at In[11]:10 overwritten at In[13]:10.\n",
      "WARNING: Method definition ff!(AbstractArray{T<:Any, 1}, AbstractArray{T<:Any, 2}) in module Main at In[11]:10 overwritten at In[13]:10.\n",
      "WARNING: Method definition WARNING: Method definition ff!ff!((AbstractArray{T<:Any, AbstractArray{1T<:}Any, , AbstractArray{T<:Any1, }2, })AbstractArray{ in module Main at In[11]:10T<: overwrittenAny at In[13]:10, .\n",
      "2}) in module Main at In[11]:10 overwritten at In[13]:10.\n"
     ]
    }
   ],
   "source": [
    "# 6 workers\n",
    "addprocs(1)\n",
    "@everywhere include(\"../RandomizeThenOptimize.jl\")\n",
    "@everywhere using RandomizeThenOptimize\n",
    "@everywhere g = (x,θ) -> θ[1] + θ[2]*exp(θ[3]*x)\n",
    "@everywhere x = [-0.5; 0.5]\n",
    "@everywhere y = [-1; 2]\n",
    "@everywhere dgdθ = (x,θ) -> [1; exp(θ[3]*x); θ[2]*exp(θ[3]*x)*x ]'\n",
    "@everywhere function ff!(θ::AbstractVector, jac::AbstractMatrix)\n",
    "    if length(jac) > 0\n",
    "        # fill up the Jacobian matrix\n",
    "        jac[1,:] = dgdθ(x[1],θ)\n",
    "        jac[2,:] = dgdθ(x[2],θ)\n",
    "    end\n",
    "    \n",
    "    return [g(x[1],θ); g(x[2],θ)]\n",
    "end\n",
    "\n",
    "n = 3\n",
    "p = Problem(n,2)\n",
    "forward_model!(p,ff!)\n",
    "obs_σ!(p,[0.3,0.3]);\n",
    "obs_data!(p,y);\n",
    "\n",
    "rto_mcmc(p,100);"
   ]
  },
  {
   "cell_type": "code",
   "execution_count": 14,
   "metadata": {
    "collapsed": false
   },
   "outputs": [
    {
     "name": "stdout",
     "output_type": "stream",
     "text": [
      "  0.704327 seconds (14.01 k allocations: 2.609 MB)\n"
     ]
    }
   ],
   "source": [
    "@time rto_mcmc(p,nsamps);"
   ]
  }
 ],
 "metadata": {
  "anaconda-cloud": {},
  "kernelspec": {
   "display_name": "Julia 0.5.0",
   "language": "julia",
   "name": "julia-0.5"
  },
  "language_info": {
   "file_extension": ".jl",
   "mimetype": "application/julia",
   "name": "julia",
   "version": "0.5.0"
  }
 },
 "nbformat": 4,
 "nbformat_minor": 1
}
