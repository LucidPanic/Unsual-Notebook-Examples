








<!DOCTYPE html>
<html lang="en">

<head>
  <meta charset="utf-8">
  <title>Jupyter Notebook Viewer</title>
  <meta name="viewport" content="width=device-width, initial-scale=1.0">
  <meta name="description" content="">
  <meta name="author" content="">
  
  <meta name="robots" content="noindex,nofollow">
  

  <!--NEW RELIC Start Perf Measurement-->
  
  <!--NREND-->

  <!-- Le styles -->
  <link href="/static/build/styles.css?v=55ba354138253381d2c0ada9821cd4da" rel="stylesheet">

  <!-- Le HTML5 shim, for IE6-8 support of HTML5 elements -->
  <!--[if lt IE 9]>
    <script src="http://html5shim.googlecode.com/svn/trunk/html5.js"></script>
  <![endif]-->

  <!-- Le fav and touch icons -->
  <link rel="shortcut icon" href="/static/ico/ipynb_icon_16x16.png">
  <link rel="apple-touch-icon-precomposed" sizes="144x144"
        href="/static/ico/apple-touch-icon-144-precomposed.png?v=5a3c9ede93e2a8b8ea9e3f8f3da1a905">
  <link rel="apple-touch-icon-precomposed" sizes="114x114"
        href="/static/ico/apple-touch-icon-114-precomposed.png?v=45d86fc8f24dc00638035e1dd7a6d898">
  <link rel="apple-touch-icon-precomposed" sizes="72x72"
        href="/static/ico/apple-touch-icon-72-precomposed.png?v=540b5eb0f3cfd25f1439d1c9bd30e15f">
  <link rel="apple-touch-icon-precomposed"
        href="/static/ico/apple-touch-icon-57-precomposed.png?v=225f0590e187e1458625654f10a28f56">
  
  

  

  
  <meta name="twitter:card" content="summary">
  <meta name="twitter:title" content="Notebook on nbviewer">
  <meta name="twitter:description" content="Check out this Jupyter notebook!">

  
  <meta name="twitter:domain" content="nbviewer.jupyter.org">
  <meta name="twitter:image:src" content="http://ipython.org/ipython-doc/dev/_images/ipynb_icon_128x128.png">

  
    <link href="/static/build/notebook.css?v=aae8f92f7e80fc468ae446b9d852fe90" rel="stylesheet">
  

  

  
    <script src="https://cdnjs.cloudflare.com/ajax/libs/mathjax/2.7.1/MathJax.js?config=TeX-AMS_HTML" type="text/javascript">
    </script>
    <script type="text/javascript">
      init_mathjax = function() {
        if (window.MathJax) {
          // MathJax loaded
          MathJax.Hub.Config({
            TeX: {
              equationNumbers: {
                autoNumber: "AMS",
                useLabelIds: true
              }
            },
            tex2jax: {
              inlineMath: [ ['$','$'], ["\\(","\\)"] ],
              displayMath: [ ['$$','$$'], ["\\[","\\]"] ],
              processEscapes: true,
              processEnvironments: true
            },
            displayAlign: 'center',
            "HTML-CSS": {
              styles: {'.MathJax_Display': {"margin": 0}},
              linebreaks: { automatic: true }
            }
          });
          MathJax.Hub.Queue(["Typeset", MathJax.Hub]);
        }
      }
      init_mathjax();
    </script>
  

  
    <script>
      (function() {
        function addWidgetsRenderer() {
          var mimeElement = document.querySelector('script[type="application/vnd.jupyter.widget-view+json"]');
          var scriptElement = document.createElement('script');
          var widgetRendererSrc = 'https://unpkg.com/@jupyter-widgets/html-manager@0.15/dist/embed-amd.js';
          var widgetState;

          try {
            widgetState = mimeElement && JSON.parse(mimeElement.innerHTML);

            if (widgetState && (widgetState.version_major < 2 || !widgetState.version_major)) {
              widgetRendererSrc = 'https://unpkg.com/jupyter-js-widgets@2.1/dist/embed.js';
            }
          } catch(e) {}

          scriptElement.src = widgetRendererSrc;
          document.body.appendChild(scriptElement);
        }

        document.addEventListener('DOMContentLoaded', addWidgetsRenderer);
      }());
    </script>
  

</head>

<body class="nbviewer">

  <!-- These are loaded at the top of the body so they are available to
       notebook cells when they are loaded below. -->
  <script src="/static/components/jquery/dist/jquery.min.js?v=220afd743d9e9643852e31a135a9f3ae"></script>
  <script src="/static/components/requirejs/require.js?v=6da8be361b9ee26c5e721e76c6d4afce"></script>
  <script src="/static/components/moment/min/moment.min.js?v=89f87298ad94aa1e6b92f42eb66da043"></script>
<!-- Navbar
================================================== -->
  <nav id="menubar" class="navbar navbar-default navbar-fixed-top" data-spy="affix">
    <div class="container">
      <div class="navbar-header">
        <button type="button" class="navbar-toggle collapsed" data-toggle="collapse" data-target=".navbar-collapse">
          <span class="sr-only">Toggle navigation</span>
          <i class="fa fa-bars"></i>
        </button>
        <a class="navbar-brand" href="/">
          <img src="/static/img/nav_logo.svg?v=479cefe8d932fb14a67b93911b97d70f" width="159"/>
        </a>
      </div>

      <div class="collapse navbar-collapse">
        <ul class="nav navbar-nav navbar-right">
          <li>
            <a class="active" href="https://jupyter.org">JUPYTER</a>
          </li>
          <li>
    <a href="/faq" title="FAQ" >
      
        <span>FAQ</span>
      
    </a>
  </li>

          
  
    
  
    
      
        <li>
    <a href="/format/script/github/Naereen/notebooks/blob/master/agreg/Robots.ipynb" title="View as Code" >
      <span class="fa fa-code fa-2x menu-icon"></span>
      <span class="menu-text">View as Code</span>
    </a>
  </li>
      
    
  

  
    <li>
    <a href="#" title="OCaml 4.04.2 Kernel" >
      <span class="fa fa-server fa-2x menu-icon"></span>
      <span class="menu-text">OCaml 4.04.2 Kernel</span>
    </a>
  </li>
  

  
    <li>
    <a href="https://github.com/Naereen/notebooks/blob/master/agreg/Robots.ipynb" title="View on GitHub" >
      <span class="fa fa-github fa-2x menu-icon"></span>
      <span class="menu-text">View on GitHub</span>
    </a>
  </li>
  

  
    <li>
    <a href="https://mybinder.org/v2/gh/Naereen/notebooks/master?filepath=agreg/Robots.ipynb" title="Execute on Binder" >
      <span class="fa fa-icon-binder fa-2x menu-icon"></span>
      <span class="menu-text">Execute on Binder</span>
    </a>
  </li>
  

  <li>
    <a href="https://raw.githubusercontent.com/Naereen/notebooks/master/agreg/Robots.ipynb" title="Download Notebook" download>
      <span class="fa fa-download fa-2x menu-icon"></span>
      <span class="menu-text">Download Notebook</span>
    </a>
  </li>

        </ul>
      </div><!-- /.navbar-collapse -->
      
      
    </div>
  </nav>

  <div class="container container-main">
    
  
  <ol class="breadcrumb">
    
      <li>
        <a href="/github/Naereen/notebooks/tree/master">notebooks</a>
      </li>
    
      <li>
        <a href="/github/Naereen/notebooks/tree/master/agreg">agreg</a>
      </li>
    
  </ol>
  
  <div id="notebook">
    <div id="notebook-container">
      <div class="cell border-box-sizing text_cell rendered"><div class="prompt input_prompt">
</div><div class="inner_cell">
<div class="text_cell_render border-box-sizing rendered_html">
<h1 id="Table-of-Contents">Table of Contents<a class="anchor-link" href="#Table-of-Contents">&#182;</a></h1><p><p><div class="lev1 toc-item"><a href="#Texte-d'oral-de-modélisation---Agrégation-Option-Informatique" data-toc-modified-id="Texte-d'oral-de-modélisation---Agrégation-Option-Informatique-1"><span class="toc-item-num">1&nbsp;&nbsp;</span>Texte d'oral de modélisation - Agrégation Option Informatique</a></div><div class="lev2 toc-item"><a href="#Préparation-à-l'agrégation---ENS-de-Rennes,-2017-18" data-toc-modified-id="Préparation-à-l'agrégation---ENS-de-Rennes,-2017-18-11"><span class="toc-item-num">1.1&nbsp;&nbsp;</span>Préparation à l'agrégation - ENS de Rennes, 2017-18</a></div><div class="lev2 toc-item"><a href="#À-propos-de-ce-document" data-toc-modified-id="À-propos-de-ce-document-12"><span class="toc-item-num">1.2&nbsp;&nbsp;</span>À propos de ce document</a></div><div class="lev2 toc-item"><a href="#Question-de-programmation" data-toc-modified-id="Question-de-programmation-13"><span class="toc-item-num">1.3&nbsp;&nbsp;</span>Question de programmation</a></div><div class="lev3 toc-item"><a href="#Plus-ou-moins-de-liberté-dans-le-choix-de-modélisation-?" data-toc-modified-id="Plus-ou-moins-de-liberté-dans-le-choix-de-modélisation-?-131"><span class="toc-item-num">1.3.1&nbsp;&nbsp;</span>Plus ou moins de liberté dans le choix de modélisation ?</a></div><div class="lev2 toc-item"><a href="#Réponse-à-l'exercice-requis,-première-approche" data-toc-modified-id="Réponse-à-l'exercice-requis,-première-approche-14"><span class="toc-item-num">1.4&nbsp;&nbsp;</span>Réponse à l'exercice requis, première approche</a></div><div class="lev3 toc-item"><a href="#Choix-des-structures-de-données" data-toc-modified-id="Choix-des-structures-de-données-141"><span class="toc-item-num">1.4.1&nbsp;&nbsp;</span>Choix des structures de données</a></div><div class="lev3 toc-item"><a href="#Fonction-transition" data-toc-modified-id="Fonction-transition-142"><span class="toc-item-num">1.4.2&nbsp;&nbsp;</span>Fonction <code>transition</code></a></div><div class="lev3 toc-item"><a href="#Exemple" data-toc-modified-id="Exemple-143"><span class="toc-item-num">1.4.3&nbsp;&nbsp;</span>Exemple</a></div><div class="lev2 toc-item"><a href="#Une-autre-approche-avec-des-chaînes-de-Markov" data-toc-modified-id="Une-autre-approche-avec-des-chaînes-de-Markov-15"><span class="toc-item-num">1.5&nbsp;&nbsp;</span>Une autre approche avec des chaînes de Markov</a></div><div class="lev3 toc-item"><a href="#Échantillonage-pondéré" data-toc-modified-id="Échantillonage-pondéré-151"><span class="toc-item-num">1.5.1&nbsp;&nbsp;</span>Échantillonage pondéré</a></div><div class="lev3 toc-item"><a href="#Simuler-une-étape-d'une-chaîne-de-Markov-?" data-toc-modified-id="Simuler-une-étape-d'une-chaîne-de-Markov-?-152"><span class="toc-item-num">1.5.2&nbsp;&nbsp;</span>Simuler une étape d'une chaîne de Markov ?</a></div><div class="lev3 toc-item"><a href="#Modéliser-nos-robots-avec-des-chaînes-de-Markov" data-toc-modified-id="Modéliser-nos-robots-avec-des-chaînes-de-Markov-153"><span class="toc-item-num">1.5.3&nbsp;&nbsp;</span>Modéliser nos robots avec des chaînes de Markov</a></div><div class="lev3 toc-item"><a href="#Exemple-1" data-toc-modified-id="Exemple-1-154"><span class="toc-item-num">1.5.4&nbsp;&nbsp;</span>Exemple 1</a></div><div class="lev3 toc-item"><a href="#Exemple-2" data-toc-modified-id="Exemple-2-155"><span class="toc-item-num">1.5.5&nbsp;&nbsp;</span>Exemple 2</a></div><div class="lev3 toc-item"><a href="#Conclusion-de-cette-approche-par-des-chaînes-de-Markov" data-toc-modified-id="Conclusion-de-cette-approche-par-des-chaînes-de-Markov-156"><span class="toc-item-num">1.5.6&nbsp;&nbsp;</span>Conclusion de cette approche par des chaînes de Markov</a></div><div class="lev2 toc-item"><a href="#Conclusion" data-toc-modified-id="Conclusion-16"><span class="toc-item-num">1.6&nbsp;&nbsp;</span>Conclusion</a></div></p>

</div>
</div>
</div>
<div class="cell border-box-sizing text_cell rendered"><div class="prompt input_prompt">
</div><div class="inner_cell">
<div class="text_cell_render border-box-sizing rendered_html">
<h1 id="Texte-d'oral-de-mod&#233;lisation---Agr&#233;gation-Option-Informatique">Texte d'oral de mod&#233;lisation - Agr&#233;gation Option Informatique<a class="anchor-link" href="#Texte-d'oral-de-mod&#233;lisation---Agr&#233;gation-Option-Informatique">&#182;</a></h1><h2 id="Pr&#233;paration-&#224;-l'agr&#233;gation---ENS-de-Rennes,-2017-18">Pr&#233;paration &#224; l'agr&#233;gation - ENS de Rennes, 2017-18<a class="anchor-link" href="#Pr&#233;paration-&#224;-l'agr&#233;gation---ENS-de-Rennes,-2017-18">&#182;</a></h2><ul>
<li><em>Date</em> : 12 janvier 2018, démonstration d'un oral d'agrégation.</li>
<li><em>Auteur</em> : <a href="https://GitHub.com/Naereen/notebooks/">Lilian Besson</a></li>
<li><em>Texte</em>: Annale 2008, <a href="http://agreg.org/Textes/pub2008-D1.pdf">"Robots"</a></li>
</ul>

</div>
</div>
</div>
<div class="cell border-box-sizing text_cell rendered"><div class="prompt input_prompt">
</div><div class="inner_cell">
<div class="text_cell_render border-box-sizing rendered_html">
<h2 id="&#192;-propos-de-ce-document">&#192; propos de ce document<a class="anchor-link" href="#&#192;-propos-de-ce-document">&#182;</a></h2><ul>
<li>Ceci est une <em>proposition</em> de correction, partielle et probablement non-optimale, pour la partie implémentation d'un <a href="http://Agreg.org/Textes/">texte d'annale de l'agrégation de mathématiques, option informatique</a>.</li>
<li>Ce document est un <a href="https://www.Jupyter.org/">notebook Jupyter</a>, et <a href="https://github.com/Naereen/notebooks/tree/master/agreg/">est open-source sous Licence MIT sur GitHub</a>, comme les autres solutions de textes de modélisation que <a href="https://GitHub.com/Naereen">j</a>'ai écrite cette année.</li>
<li>L'implémentation sera faite en OCaml, version 4+ :</li>
</ul>

</div>
</div>
</div>
<div class="cell border-box-sizing code_cell rendered">
<div class="input">
<div class="prompt input_prompt">In&nbsp;[1]:</div>
<div class="inner_cell">
    <div class="input_area">
<div class=" highlight hl-OCaml"><pre><span></span><span class="n">print_endline</span> <span class="nn">Sys</span><span class="p">.</span><span class="n">ocaml_version</span><span class="o">;;</span>
<span class="nn">Sys</span><span class="p">.</span><span class="n">command</span> <span class="s2">&quot;ocaml -version&quot;</span><span class="o">;;</span>
</pre></div>

    </div>
</div>
</div>

<div class="output_wrapper">
<div class="output">


<div class="output_area">

    <div class="prompt"></div>


<div class="output_subarea output_stream output_stdout output_text">
<pre>4.04.2
</pre>
</div>
</div>

<div class="output_area">

    <div class="prompt output_prompt">Out[1]:</div>




<div class="output_text output_subarea output_execute_result">
<pre>- : unit = ()
</pre>
</div>

</div>

<div class="output_area">

    <div class="prompt"></div>


<div class="output_subarea output_stream output_stdout output_text">
<pre>The OCaml toplevel, version 4.04.2
</pre>
</div>
</div>

<div class="output_area">

    <div class="prompt output_prompt">Out[1]:</div>




<div class="output_text output_subarea output_execute_result">
<pre>- : int = 0
</pre>
</div>

</div>

</div>
</div>

</div>
<div class="cell border-box-sizing code_cell rendered">
<div class="input">
<div class="prompt input_prompt">In&nbsp;[2]:</div>
<div class="inner_cell">
    <div class="input_area">
<div class=" highlight hl-OCaml"><pre><span></span><span class="k">let</span> <span class="n">print</span> <span class="o">=</span> <span class="nn">Printf</span><span class="p">.</span><span class="n">printf</span><span class="o">;;</span>
</pre></div>

    </div>
</div>
</div>

<div class="output_wrapper">
<div class="output">


<div class="output_area">

    <div class="prompt output_prompt">Out[2]:</div>




<div class="output_text output_subarea output_execute_result">
<pre>val print : (&#39;a, out_channel, unit) format -&gt; &#39;a = &lt;fun&gt;
</pre>
</div>

</div>

</div>
</div>

</div>
<div class="cell border-box-sizing text_cell rendered"><div class="prompt input_prompt">
</div><div class="inner_cell">
<div class="text_cell_render border-box-sizing rendered_html">
<hr>
<h2 id="Question-de-programmation">Question de programmation<a class="anchor-link" href="#Question-de-programmation">&#182;</a></h2><p>La question de programmation pour ce texte était donnée au milieu, en page 3 :</p>
<blockquote><p>« On suppose donnés les tableaux $T_i$. Un état du système est représenté par un vecteur $U$ de longueur $n$, dont la $i$-ème composante contient la position du robot $R_i$ (sous forme du numéro $j$ du lieu $L_j$ où il se trouve). »</p>
<p>« Écrire une fonction/procédure/méthode transition qui transforme $U$ en un état suivant du système (on admettra que les données sont telles qu’il existe un état suivant).
Simuler le système de robots pendant $n$ unités de temps. On prendra comme état initial du robot $R_i$ le premier élément du tableau $T_i$ . »</p>
</blockquote>

</div>
</div>
</div>
<div class="cell border-box-sizing text_cell rendered"><div class="prompt input_prompt">
</div><div class="inner_cell">
<div class="text_cell_render border-box-sizing rendered_html">
<h3 id="Plus-ou-moins-de-libert&#233;-dans-le-choix-de-mod&#233;lisation-?">Plus ou moins de libert&#233; dans le choix de mod&#233;lisation ?<a class="anchor-link" href="#Plus-ou-moins-de-libert&#233;-dans-le-choix-de-mod&#233;lisation-?">&#182;</a></h3><p>Vous remarquez que même avec une question bien précise comme celle-là, on dispose d'une relative liberté : la question n'impose pas le choix de modélisation !</p>
<p>Elle pourrait être traitée avec un automate ou graphe produit non simplifié, ou un graphe produit plus réduit (1ère solution), mais on aurait tout aussi pu utiliser une approche probabiliste, avec des chaînes de Markov par exemple (2ème solution).</p>

</div>
</div>
</div>
<div class="cell border-box-sizing text_cell rendered"><div class="prompt input_prompt">
</div><div class="inner_cell">
<div class="text_cell_render border-box-sizing rendered_html">
<hr>
<h2 id="R&#233;ponse-&#224;-l'exercice-requis,-premi&#232;re-approche">R&#233;ponse &#224; l'exercice requis, premi&#232;re approche<a class="anchor-link" href="#R&#233;ponse-&#224;-l'exercice-requis,-premi&#232;re-approche">&#182;</a></h2><blockquote><p>Merci à Romain Dubourg (2017) pour son code.
Cette deuxième solution est bien plus concise que l'approche avec un graphe produit non simplifié, en utilisant une approche plus directe.</p>
</blockquote>

</div>
</div>
</div>
<div class="cell border-box-sizing text_cell rendered"><div class="prompt input_prompt">
</div><div class="inner_cell">
<div class="text_cell_render border-box-sizing rendered_html">
<h3 id="Choix-des-structures-de-donn&#233;es">Choix des structures de donn&#233;es<a class="anchor-link" href="#Choix-des-structures-de-donn&#233;es">&#182;</a></h3><p>En utilisant des tableaux, <code>int array</code>, au lieu de listes, pour représenter les états $u$ on peut modifier l'état <em>en place</em> !</p>

</div>
</div>
</div>
<div class="cell border-box-sizing code_cell rendered">
<div class="input">
<div class="prompt input_prompt">In&nbsp;[4]:</div>
<div class="inner_cell">
    <div class="input_area">
<div class=" highlight hl-OCaml"><pre><span></span><span class="k">type</span> <span class="n">etat</span> <span class="o">=</span> <span class="kt">int</span> <span class="kt">array</span><span class="o">;;</span>
<span class="k">type</span> <span class="n">liste_rdv</span> <span class="o">=</span> <span class="o">(</span><span class="kt">int</span> <span class="kt">array</span><span class="o">)</span> <span class="kt">array</span><span class="o">;;</span>
</pre></div>

    </div>
</div>
</div>

<div class="output_wrapper">
<div class="output">


<div class="output_area">

    <div class="prompt output_prompt">Out[4]:</div>




<div class="output_text output_subarea output_execute_result">
<pre>type etat = int array
</pre>
</div>

</div>

<div class="output_area">

    <div class="prompt output_prompt">Out[4]:</div>




<div class="output_text output_subarea output_execute_result">
<pre>type liste_rdv = int array array
</pre>
</div>

</div>

</div>
</div>

</div>
<div class="cell border-box-sizing text_cell rendered"><div class="prompt input_prompt">
</div><div class="inner_cell">
<div class="text_cell_render border-box-sizing rendered_html">
<p>Avec l'exemple du texte.</p>
<p><img src="images/robots_exemple1.png" alt="Premier exemple de robots"></p>

</div>
</div>
</div>
<div class="cell border-box-sizing code_cell rendered">
<div class="input">
<div class="prompt input_prompt">In&nbsp;[5]:</div>
<div class="inner_cell">
    <div class="input_area">
<div class=" highlight hl-OCaml"><pre><span></span><span class="k">let</span> <span class="n">ex1_1</span> <span class="o">:</span> <span class="n">etat</span> <span class="o">=</span> <span class="o">[|</span> <span class="mi">1</span><span class="o">;</span> <span class="mi">1</span><span class="o">;</span> <span class="mi">2</span> <span class="o">|];;</span>
<span class="k">let</span> <span class="n">ex1</span> <span class="o">:</span> <span class="n">liste_rdv</span> <span class="o">=</span> <span class="o">[|</span>
    <span class="o">[|</span> <span class="mi">1</span><span class="o">;</span> <span class="mi">3</span> <span class="o">|];</span>
    <span class="o">[|</span> <span class="mi">1</span><span class="o">;</span> <span class="mi">2</span> <span class="o">|];</span>
    <span class="o">[|</span> <span class="mi">2</span><span class="o">;</span> <span class="mi">3</span> <span class="o">|]</span>
<span class="o">|];;</span>
</pre></div>

    </div>
</div>
</div>

<div class="output_wrapper">
<div class="output">


<div class="output_area">

    <div class="prompt output_prompt">Out[5]:</div>




<div class="output_text output_subarea output_execute_result">
<pre>val ex1_1 : etat = [|1; 1; 2|]
</pre>
</div>

</div>

<div class="output_area">

    <div class="prompt output_prompt">Out[5]:</div>




<div class="output_text output_subarea output_execute_result">
<pre>val ex1 : liste_rdv = [|[|1; 3|]; [|1; 2|]; [|2; 3|]|]
</pre>
</div>

</div>

</div>
</div>

</div>
<div class="cell border-box-sizing text_cell rendered"><div class="prompt input_prompt">
</div><div class="inner_cell">
<div class="text_cell_render border-box-sizing rendered_html">
<p>On peut facilement trouver la première position de <code>x</code> dans une liste et dans un tableau et <code>-1</code> sinon.</p>

</div>
</div>
</div>
<div class="cell border-box-sizing code_cell rendered">
<div class="input">
<div class="prompt input_prompt">In&nbsp;[6]:</div>
<div class="inner_cell">
    <div class="input_area">
<div class=" highlight hl-OCaml"><pre><span></span><span class="k">let</span> <span class="n">trouve</span> <span class="o">(</span><span class="n">x</span><span class="o">:</span><span class="kt">int</span><span class="o">)</span> <span class="o">(</span><span class="n">a</span><span class="o">:</span><span class="kt">int</span> <span class="kt">list</span><span class="o">)</span> <span class="o">:</span> <span class="kt">int</span> <span class="o">=</span>
    <span class="k">let</span> <span class="k">rec</span> <span class="n">aux</span> <span class="o">(</span><span class="n">x</span><span class="o">:</span><span class="kt">int</span><span class="o">)</span> <span class="o">(</span><span class="n">a</span><span class="o">:</span><span class="kt">int</span> <span class="kt">list</span><span class="o">)</span> <span class="o">(</span><span class="n">i</span> <span class="o">:</span> <span class="kt">int</span><span class="o">)</span> <span class="o">:</span> <span class="kt">int</span> <span class="o">=</span>
        <span class="k">match</span> <span class="n">a</span> <span class="k">with</span>
        <span class="o">|</span> <span class="bp">[]</span> <span class="o">-&gt;</span> <span class="o">-</span><span class="mi">1</span>
        <span class="o">|</span> <span class="n">t</span> <span class="o">::</span> <span class="o">_</span> <span class="k">when</span> <span class="o">(</span><span class="n">t</span> <span class="o">=</span> <span class="n">x</span><span class="o">)</span> <span class="o">-&gt;</span> <span class="n">i</span>
        <span class="o">|</span> <span class="o">_</span> <span class="o">::</span> <span class="n">q</span> <span class="o">-&gt;</span> <span class="n">aux</span> <span class="n">x</span> <span class="n">q</span> <span class="o">(</span><span class="n">i</span><span class="o">+</span><span class="mi">1</span><span class="o">)</span>
    <span class="k">in</span>
    <span class="n">aux</span> <span class="n">x</span> <span class="n">a</span> <span class="mi">0</span>
<span class="o">;;</span>
</pre></div>

    </div>
</div>
</div>

<div class="output_wrapper">
<div class="output">


<div class="output_area">

    <div class="prompt output_prompt">Out[6]:</div>




<div class="output_text output_subarea output_execute_result">
<pre>val trouve : int -&gt; int list -&gt; int = &lt;fun&gt;
</pre>
</div>

</div>

</div>
</div>

</div>
<div class="cell border-box-sizing code_cell rendered">
<div class="input">
<div class="prompt input_prompt">In&nbsp;[7]:</div>
<div class="inner_cell">
    <div class="input_area">
<div class=" highlight hl-OCaml"><pre><span></span><span class="k">let</span> <span class="n">trouve_array</span> <span class="o">(</span><span class="n">x</span> <span class="o">:</span> <span class="kt">int</span><span class="o">)</span> <span class="o">(</span><span class="n">a</span> <span class="o">:</span> <span class="kt">int</span> <span class="kt">array</span><span class="o">)</span> <span class="o">:</span> <span class="kt">int</span> <span class="o">=</span>
    <span class="n">trouve</span> <span class="n">x</span> <span class="o">(</span><span class="nn">Array</span><span class="p">.</span><span class="n">to_list</span> <span class="n">a</span><span class="o">)</span>
<span class="o">;;</span>
</pre></div>

    </div>
</div>
</div>

<div class="output_wrapper">
<div class="output">


<div class="output_area">

    <div class="prompt output_prompt">Out[7]:</div>




<div class="output_text output_subarea output_execute_result">
<pre>val trouve_array : int -&gt; int array -&gt; int = &lt;fun&gt;
</pre>
</div>

</div>

</div>
</div>

</div>
<div class="cell border-box-sizing code_cell rendered">
<div class="input">
<div class="prompt input_prompt">In&nbsp;[8]:</div>
<div class="inner_cell">
    <div class="input_area">
<div class=" highlight hl-OCaml"><pre><span></span><span class="k">let</span> <span class="o">_</span> <span class="o">=</span> <span class="n">trouve_array</span> <span class="mi">2</span> <span class="n">ex1_1</span><span class="o">;;</span> <span class="c">(* 2 *)</span>
</pre></div>

    </div>
</div>
</div>

<div class="output_wrapper">
<div class="output">


<div class="output_area">

    <div class="prompt output_prompt">Out[8]:</div>




<div class="output_text output_subarea output_execute_result">
<pre>- : int = 2
</pre>
</div>

</div>

</div>
</div>

</div>
<div class="cell border-box-sizing text_cell rendered"><div class="prompt input_prompt">
</div><div class="inner_cell">
<div class="text_cell_render border-box-sizing rendered_html">
<p>On a besoin de pouvoir obtenir la liste des paires de robots pouvant réaliser un rendez-vous.</p>

</div>
</div>
</div>
<div class="cell border-box-sizing code_cell rendered">
<div class="input">
<div class="prompt input_prompt">In&nbsp;[9]:</div>
<div class="inner_cell">
    <div class="input_area">
<div class=" highlight hl-OCaml"><pre><span></span><span class="k">let</span> <span class="n">rdv</span> <span class="o">(</span><span class="n">u</span> <span class="o">:</span> <span class="n">etat</span><span class="o">)</span> <span class="o">:</span> <span class="o">((</span><span class="kt">int</span> <span class="o">*</span> <span class="kt">int</span><span class="o">)</span> <span class="kt">list</span><span class="o">)</span> <span class="o">=</span> 
    <span class="k">let</span> <span class="n">n</span> <span class="o">=</span> <span class="nn">Array</span><span class="p">.</span><span class="n">length</span> <span class="n">u</span> <span class="k">in</span>
    <span class="k">let</span> <span class="n">ls</span> <span class="o">=</span> <span class="n">ref</span> <span class="bp">[]</span> <span class="k">in</span> <span class="c">(* plus simple que d&#39;imbriquer les List.filter et List.map... *)</span>
    <span class="k">for</span> <span class="n">k</span> <span class="o">=</span> <span class="mi">0</span> <span class="k">to</span> <span class="n">n</span> <span class="o">-</span> <span class="mi">1</span> <span class="k">do</span>
        <span class="k">let</span> <span class="n">i</span> <span class="o">=</span> <span class="n">trouve_array</span> <span class="n">u</span><span class="o">.(</span><span class="n">k</span><span class="o">)</span>
            <span class="o">(</span><span class="nn">Array</span><span class="p">.</span><span class="n">sub</span> <span class="n">u</span> <span class="o">(</span><span class="n">k</span> <span class="o">+</span> <span class="mi">1</span><span class="o">)</span> <span class="o">(</span><span class="n">n</span> <span class="o">-</span> <span class="o">(</span><span class="n">k</span> <span class="o">+</span> <span class="mi">1</span><span class="o">)))</span>
        <span class="k">in</span>
        <span class="k">if</span> <span class="n">i</span> <span class="o">&gt;=</span> <span class="mi">0</span> <span class="k">then</span>
            <span class="n">ls</span> <span class="o">:=</span> <span class="o">(</span><span class="n">k</span><span class="o">,</span> <span class="n">i</span> <span class="o">+</span> <span class="n">k</span> <span class="o">+</span> <span class="mi">1</span><span class="o">)</span> <span class="o">::</span> <span class="o">!</span><span class="n">ls</span><span class="o">;</span>
    <span class="k">done</span><span class="o">;</span>
    <span class="o">!</span><span class="n">ls</span>
<span class="o">;;</span>
</pre></div>

    </div>
</div>
</div>

<div class="output_wrapper">
<div class="output">


<div class="output_area">

    <div class="prompt output_prompt">Out[9]:</div>




<div class="output_text output_subarea output_execute_result">
<pre>val rdv : etat -&gt; (int * int) list = &lt;fun&gt;
</pre>
</div>

</div>

</div>
</div>

</div>
<div class="cell border-box-sizing text_cell rendered"><div class="prompt input_prompt">
</div><div class="inner_cell">
<div class="text_cell_render border-box-sizing rendered_html">
<p>Un rapide, pour visualiser le fonctionnement de la fonction <code>rdv</code>.</p>

</div>
</div>
</div>
<div class="cell border-box-sizing code_cell rendered">
<div class="input">
<div class="prompt input_prompt">In&nbsp;[10]:</div>
<div class="inner_cell">
    <div class="input_area">
<div class=" highlight hl-OCaml"><pre><span></span><span class="k">let</span> <span class="o">_</span> <span class="o">=</span> <span class="n">rdv</span> <span class="n">ex1_1</span> <span class="o">;;</span>
</pre></div>

    </div>
</div>
</div>

<div class="output_wrapper">
<div class="output">


<div class="output_area">

    <div class="prompt output_prompt">Out[10]:</div>




<div class="output_text output_subarea output_execute_result">
<pre>- : (int * int) list = [(0, 1)]
</pre>
</div>

</div>

</div>
</div>

</div>
<div class="cell border-box-sizing code_cell rendered">
<div class="input">
<div class="prompt input_prompt">In&nbsp;[11]:</div>
<div class="inner_cell">
    <div class="input_area">
<div class=" highlight hl-OCaml"><pre><span></span><span class="k">let</span> <span class="n">ex3_1</span> <span class="o">=</span> <span class="o">[|</span> <span class="mi">1</span><span class="o">;</span> <span class="mi">2</span><span class="o">;</span> <span class="mi">1</span><span class="o">;</span> <span class="mi">4</span><span class="o">;</span> <span class="mi">4</span> <span class="o">|];;</span>
<span class="k">let</span> <span class="o">_</span> <span class="o">=</span> <span class="n">rdv</span> <span class="n">ex3_1</span> <span class="o">;;</span>
</pre></div>

    </div>
</div>
</div>

<div class="output_wrapper">
<div class="output">


<div class="output_area">

    <div class="prompt output_prompt">Out[11]:</div>




<div class="output_text output_subarea output_execute_result">
<pre>val ex3_1 : int array = [|1; 2; 1; 4; 4|]
</pre>
</div>

</div>

<div class="output_area">

    <div class="prompt output_prompt">Out[11]:</div>




<div class="output_text output_subarea output_execute_result">
<pre>- : (int * int) list = [(3, 4); (0, 2)]
</pre>
</div>

</div>

</div>
</div>

</div>
<div class="cell border-box-sizing text_cell rendered"><div class="prompt input_prompt">
</div><div class="inner_cell">
<div class="text_cell_render border-box-sizing rendered_html">
<p>Étant donné un état et une paire de robots pouvant réaliser un rendez-vous, la fonction suivante le réalise, en modifiant <em>en place</em> l'état $u$.</p>
<p>C'est bien plus simple que de traiter avec une approche fonctionnelle.</p>
<p>Pour une fonction comme ça, il faut absolument :</p>
<ul>
<li>utiliser des variables intermédiaires,</li>
<li>et des noms de variables un peu explicites (attention aux <code>1</code>, <code>i</code>, <code>I</code> et <code>l</code> qui se ressemblent beaucoup une fois projetés au tableau !).</li>
</ul>

</div>
</div>
</div>
<div class="cell border-box-sizing code_cell rendered">
<div class="input">
<div class="prompt input_prompt">In&nbsp;[12]:</div>
<div class="inner_cell">
    <div class="input_area">
<div class=" highlight hl-OCaml"><pre><span></span><span class="k">let</span> <span class="n">realise_rdv</span> <span class="o">(</span><span class="n">u</span> <span class="o">:</span> <span class="n">etat</span><span class="o">)</span> <span class="o">(</span><span class="n">lr</span> <span class="o">:</span> <span class="n">liste_rdv</span><span class="o">)</span> <span class="o">(</span><span class="n">xy</span> <span class="o">:</span> <span class="kt">int</span> <span class="o">*</span> <span class="kt">int</span><span class="o">)</span> <span class="o">:</span> <span class="n">etat</span> <span class="o">=</span>
    <span class="k">let</span> <span class="n">x</span><span class="o">,</span> <span class="n">y</span> <span class="o">=</span> <span class="n">xy</span> <span class="k">in</span>
    <span class="k">let</span> <span class="n">ux</span> <span class="o">=</span> <span class="n">u</span><span class="o">.(</span><span class="n">x</span><span class="o">)</span> <span class="ow">and</span> <span class="n">uy</span> <span class="o">=</span> <span class="n">u</span><span class="o">.(</span><span class="n">y</span><span class="o">)</span> <span class="k">in</span>
    <span class="k">let</span> <span class="n">rx</span><span class="o">,</span> <span class="n">ry</span> <span class="o">=</span> <span class="n">lr</span><span class="o">.(</span><span class="n">x</span><span class="o">),</span> <span class="n">lr</span><span class="o">.(</span><span class="n">y</span><span class="o">)</span> <span class="k">in</span>
    <span class="n">u</span><span class="o">.(</span><span class="n">x</span><span class="o">)</span> <span class="o">&lt;-</span> <span class="n">rx</span><span class="o">.(((</span><span class="n">trouve_array</span> <span class="n">ux</span> <span class="n">rx</span><span class="o">)</span> <span class="o">+</span> <span class="mi">1</span><span class="o">)</span> <span class="ow">mod</span> <span class="o">(</span><span class="nn">Array</span><span class="p">.</span><span class="n">length</span> <span class="n">rx</span><span class="o">));</span>
    <span class="n">u</span><span class="o">.(</span><span class="n">y</span><span class="o">)</span> <span class="o">&lt;-</span> <span class="n">ry</span><span class="o">.(((</span><span class="n">trouve_array</span> <span class="n">uy</span> <span class="n">ry</span><span class="o">)</span> <span class="o">+</span> <span class="mi">1</span><span class="o">)</span> <span class="ow">mod</span> <span class="o">(</span><span class="nn">Array</span><span class="p">.</span><span class="n">length</span> <span class="n">ry</span><span class="o">));</span>
    <span class="n">u</span>
<span class="o">;;</span>
</pre></div>

    </div>
</div>
</div>

<div class="output_wrapper">
<div class="output">


<div class="output_area">

    <div class="prompt output_prompt">Out[12]:</div>




<div class="output_text output_subarea output_execute_result">
<pre>val realise_rdv : etat -&gt; liste_rdv -&gt; int * int -&gt; etat = &lt;fun&gt;
</pre>
</div>

</div>

</div>
</div>

</div>
<div class="cell border-box-sizing text_cell rendered"><div class="prompt input_prompt">
</div><div class="inner_cell">
<div class="text_cell_render border-box-sizing rendered_html">
<p>Un rapide, pour visualiser le fonctionnement de la fonction <code>realise_rdv</code>.</p>

</div>
</div>
</div>
<div class="cell border-box-sizing code_cell rendered">
<div class="input">
<div class="prompt input_prompt">In&nbsp;[13]:</div>
<div class="inner_cell">
    <div class="input_area">
<div class=" highlight hl-OCaml"><pre><span></span><span class="k">let</span> <span class="n">u</span> <span class="o">=</span> <span class="o">[|</span> <span class="mi">0</span><span class="o">;</span> <span class="mi">0</span><span class="o">;</span> <span class="mi">1</span> <span class="o">|];;</span>
<span class="k">let</span> <span class="n">l</span> <span class="o">=</span> <span class="o">[|</span> <span class="o">[|</span><span class="mi">0</span><span class="o">;</span> <span class="mi">2</span><span class="o">|];</span> <span class="o">[|</span><span class="mi">1</span><span class="o">;</span> <span class="mi">2</span><span class="o">|];</span> <span class="o">[|</span><span class="mi">2</span><span class="o">;</span> <span class="mi">0</span><span class="o">|]</span> <span class="o">|];;</span>
<span class="k">let</span> <span class="o">_</span> <span class="o">=</span> <span class="n">realise_rdv</span> <span class="n">u</span> <span class="n">l</span> <span class="o">(</span><span class="mi">0</span><span class="o">,</span> <span class="mi">1</span><span class="o">)</span> <span class="o">;;</span>
</pre></div>

    </div>
</div>
</div>

<div class="output_wrapper">
<div class="output">


<div class="output_area">

    <div class="prompt output_prompt">Out[13]:</div>




<div class="output_text output_subarea output_execute_result">
<pre>val u : int array = [|0; 0; 1|]
</pre>
</div>

</div>

<div class="output_area">

    <div class="prompt output_prompt">Out[13]:</div>




<div class="output_text output_subarea output_execute_result">
<pre>val l : int array array = [|[|0; 2|]; [|1; 2|]; [|2; 0|]|]
</pre>
</div>

</div>

<div class="output_area">

    <div class="prompt output_prompt">Out[13]:</div>




<div class="output_text output_subarea output_execute_result">
<pre>- : etat = [|2; 1; 1|]
</pre>
</div>

</div>

</div>
</div>

</div>
<div class="cell border-box-sizing text_cell rendered"><div class="prompt input_prompt">
</div><div class="inner_cell">
<div class="text_cell_render border-box-sizing rendered_html">
<p>On vérifie que l'état <code>u</code> a bien été modifié en place :</p>

</div>
</div>
</div>
<div class="cell border-box-sizing code_cell rendered">
<div class="input">
<div class="prompt input_prompt">In&nbsp;[14]:</div>
<div class="inner_cell">
    <div class="input_area">
<div class=" highlight hl-OCaml"><pre><span></span><span class="n">u</span><span class="o">;;</span>
</pre></div>

    </div>
</div>
</div>

<div class="output_wrapper">
<div class="output">


<div class="output_area">

    <div class="prompt output_prompt">Out[14]:</div>




<div class="output_text output_subarea output_execute_result">
<pre>- : int array = [|2; 1; 1|]
</pre>
</div>

</div>

</div>
</div>

</div>
<div class="cell border-box-sizing text_cell rendered"><div class="prompt input_prompt">
</div><div class="inner_cell">
<div class="text_cell_render border-box-sizing rendered_html">
<h3 id="Fonction-transition">Fonction <code>transition</code><a class="anchor-link" href="#Fonction-transition">&#182;</a></h3><p>Et enfin, on calcule l'état suivant $u_1$ à partir de l'état $u_0$, en appliquant la fonction <code>realise_rdv</code> à chaque état qui peut être modifié.</p>

</div>
</div>
</div>
<div class="cell border-box-sizing code_cell rendered">
<div class="input">
<div class="prompt input_prompt">In&nbsp;[15]:</div>
<div class="inner_cell">
    <div class="input_area">
<div class=" highlight hl-OCaml"><pre><span></span><span class="k">let</span> <span class="n">transition</span> <span class="o">(</span><span class="n">u0</span> <span class="o">:</span> <span class="n">etat</span><span class="o">)</span> <span class="o">(</span><span class="n">l0</span> <span class="o">:</span> <span class="n">liste_rdv</span><span class="o">)</span> <span class="o">:</span> <span class="n">etat</span> <span class="o">=</span>
    <span class="nn">List</span><span class="p">.</span><span class="n">iter</span> <span class="o">(</span><span class="k">fun</span> <span class="n">u</span> <span class="o">-&gt;</span> <span class="n">ignore</span> <span class="o">(</span><span class="n">realise_rdv</span> <span class="n">u0</span> <span class="n">l0</span> <span class="n">u</span><span class="o">))</span> <span class="o">(</span><span class="n">rdv</span> <span class="n">u0</span><span class="o">);</span>
    <span class="n">u0</span>
<span class="o">;;</span>
</pre></div>

    </div>
</div>
</div>

<div class="output_wrapper">
<div class="output">


<div class="output_area">

    <div class="prompt output_prompt">Out[15]:</div>




<div class="output_text output_subarea output_execute_result">
<pre>val transition : etat -&gt; liste_rdv -&gt; etat = &lt;fun&gt;
</pre>
</div>

</div>

</div>
</div>

</div>
<div class="cell border-box-sizing text_cell rendered"><div class="prompt input_prompt">
</div><div class="inner_cell">
<div class="text_cell_render border-box-sizing rendered_html">
<p>On effectue <code>n</code> transitions successives, <span style="color:red;">non pas avec une approche récursive (qui ne serait pas récursive terminale, et donc avec une mémoire de pile d'appel linéaire en $\mathcal{O}(n)$), mais avec une simple boucle `for`</span>.</p>

</div>
</div>
</div>
<div class="cell border-box-sizing code_cell rendered">
<div class="input">
<div class="prompt input_prompt">In&nbsp;[16]:</div>
<div class="inner_cell">
    <div class="input_area">
<div class=" highlight hl-OCaml"><pre><span></span><span class="k">let</span> <span class="k">rec</span> <span class="n">n_transitions_trop_couteux</span> <span class="o">(</span><span class="n">u</span> <span class="o">:</span> <span class="n">etat</span><span class="o">)</span> <span class="o">(</span><span class="n">l</span> <span class="o">:</span> <span class="n">liste_rdv</span><span class="o">)</span> <span class="o">(</span><span class="n">n</span> <span class="o">:</span> <span class="kt">int</span><span class="o">)</span> <span class="o">:</span> <span class="n">etat</span> <span class="o">=</span>
    <span class="k">if</span> <span class="o">(</span><span class="n">n</span> <span class="o">=</span> <span class="mi">0</span><span class="o">)</span> <span class="k">then</span>
        <span class="n">u</span>
    <span class="k">else</span>
        <span class="n">n_transitions_trop_couteux</span> <span class="o">(</span><span class="n">transition</span> <span class="n">u</span> <span class="n">l</span><span class="o">)</span> <span class="n">l</span> <span class="o">(</span><span class="n">n</span><span class="o">-</span><span class="mi">1</span><span class="o">)</span>
<span class="o">;;</span>
</pre></div>

    </div>
</div>
</div>

<div class="output_wrapper">
<div class="output">


<div class="output_area">

    <div class="prompt output_prompt">Out[16]:</div>




<div class="output_text output_subarea output_execute_result">
<pre>val n_transitions_trop_couteux : etat -&gt; liste_rdv -&gt; int -&gt; etat = &lt;fun&gt;
</pre>
</div>

</div>

</div>
</div>

</div>
<div class="cell border-box-sizing code_cell rendered">
<div class="input">
<div class="prompt input_prompt">In&nbsp;[17]:</div>
<div class="inner_cell">
    <div class="input_area">
<div class=" highlight hl-OCaml"><pre><span></span><span class="k">let</span> <span class="n">n_transitions</span> <span class="o">(</span><span class="n">u</span> <span class="o">:</span> <span class="n">etat</span><span class="o">)</span> <span class="o">(</span><span class="n">l</span> <span class="o">:</span> <span class="n">liste_rdv</span><span class="o">)</span> <span class="o">(</span><span class="n">n</span> <span class="o">:</span> <span class="kt">int</span><span class="o">)</span> <span class="o">:</span> <span class="n">etat</span> <span class="o">=</span>
    <span class="k">for</span> <span class="o">_</span> <span class="o">=</span> <span class="mi">1</span> <span class="k">to</span> <span class="n">n</span> <span class="k">do</span>
        <span class="n">ignore</span> <span class="o">(</span><span class="n">transition</span> <span class="n">u</span> <span class="n">l</span><span class="o">)</span>  <span class="c">(* u est changé en place *)</span>
    <span class="k">done</span><span class="o">;</span>
    <span class="n">u</span>
<span class="o">;;</span>
</pre></div>

    </div>
</div>
</div>

<div class="output_wrapper">
<div class="output">


<div class="output_area">

    <div class="prompt output_prompt">Out[17]:</div>




<div class="output_text output_subarea output_execute_result">
<pre>val n_transitions : etat -&gt; liste_rdv -&gt; int -&gt; etat = &lt;fun&gt;
</pre>
</div>

</div>

</div>
</div>

</div>
<div class="cell border-box-sizing text_cell rendered"><div class="prompt input_prompt">
</div><div class="inner_cell">
<div class="text_cell_render border-box-sizing rendered_html">
<h3 id="Exemple">Exemple<a class="anchor-link" href="#Exemple">&#182;</a></h3><p>Avec l'exemple du texte :</p>

</div>
</div>
</div>
<div class="cell border-box-sizing code_cell rendered">
<div class="input">
<div class="prompt input_prompt">In&nbsp;[18]:</div>
<div class="inner_cell">
    <div class="input_area">
<div class=" highlight hl-OCaml"><pre><span></span><span class="k">let</span> <span class="o">_</span> <span class="o">=</span> <span class="n">ex1</span><span class="o">;;</span>
<span class="k">let</span> <span class="o">_</span> <span class="o">=</span> <span class="n">ex1_1</span><span class="o">;;</span>
</pre></div>

    </div>
</div>
</div>

<div class="output_wrapper">
<div class="output">


<div class="output_area">

    <div class="prompt output_prompt">Out[18]:</div>




<div class="output_text output_subarea output_execute_result">
<pre>- : liste_rdv = [|[|1; 3|]; [|1; 2|]; [|2; 3|]|]
</pre>
</div>

</div>

<div class="output_area">

    <div class="prompt output_prompt">Out[18]:</div>




<div class="output_text output_subarea output_execute_result">
<pre>- : etat = [|1; 1; 2|]
</pre>
</div>

</div>

</div>
</div>

</div>
<div class="cell border-box-sizing code_cell rendered">
<div class="input">
<div class="prompt input_prompt">In&nbsp;[19]:</div>
<div class="inner_cell">
    <div class="input_area">
<div class=" highlight hl-OCaml"><pre><span></span><span class="k">let</span> <span class="o">_</span> <span class="o">=</span> <span class="n">transition</span> <span class="n">ex1_1</span> <span class="n">ex1</span><span class="o">;;</span>
<span class="k">let</span> <span class="o">_</span> <span class="o">=</span> <span class="n">transition</span> <span class="n">ex1_1</span> <span class="n">ex1</span><span class="o">;;</span>
<span class="k">let</span> <span class="o">_</span> <span class="o">=</span> <span class="n">transition</span> <span class="n">ex1_1</span> <span class="n">ex1</span><span class="o">;;</span>
<span class="k">let</span> <span class="o">_</span> <span class="o">=</span> <span class="n">transition</span> <span class="n">ex1_1</span> <span class="n">ex1</span><span class="o">;;</span>
</pre></div>

    </div>
</div>
</div>

<div class="output_wrapper">
<div class="output">


<div class="output_area">

    <div class="prompt output_prompt">Out[19]:</div>




<div class="output_text output_subarea output_execute_result">
<pre>- : etat = [|3; 2; 2|]
</pre>
</div>

</div>

<div class="output_area">

    <div class="prompt output_prompt">Out[19]:</div>




<div class="output_text output_subarea output_execute_result">
<pre>- : etat = [|3; 1; 3|]
</pre>
</div>

</div>

<div class="output_area">

    <div class="prompt output_prompt">Out[19]:</div>




<div class="output_text output_subarea output_execute_result">
<pre>- : etat = [|1; 1; 2|]
</pre>
</div>

</div>

<div class="output_area">

    <div class="prompt output_prompt">Out[19]:</div>




<div class="output_text output_subarea output_execute_result">
<pre>- : etat = [|3; 2; 2|]
</pre>
</div>

</div>

</div>
</div>

</div>
<div class="cell border-box-sizing text_cell rendered"><div class="prompt input_prompt">
</div><div class="inner_cell">
<div class="text_cell_render border-box-sizing rendered_html">
<p>Avec l'autre exemple donné à l'oral, qui est un peu différent de celui du texte.</p>
<p>Quatre robots, $R_0$, $R_1$, $R_2$, $R_3$, ont comme liste de rendez-vous successifs, $T_0 = [0, 1, 2]$, $T_1 = [0]$, $T_2 = [1, 3]$ et $T_3 = [2, 3]$.</p>

</div>
</div>
</div>
<div class="cell border-box-sizing code_cell rendered">
<div class="input">
<div class="prompt input_prompt">In&nbsp;[20]:</div>
<div class="inner_cell">
    <div class="input_area">
<div class=" highlight hl-OCaml"><pre><span></span><span class="k">let</span> <span class="n">ex2</span> <span class="o">=</span> <span class="o">[|</span> <span class="o">[|</span><span class="mi">0</span><span class="o">;</span> <span class="mi">1</span><span class="o">;</span> <span class="mi">2</span><span class="o">|];</span> <span class="o">[|</span><span class="mi">0</span><span class="o">|];</span> <span class="o">[|</span><span class="mi">1</span><span class="o">;</span> <span class="mi">3</span><span class="o">|];</span> <span class="o">[|</span><span class="mi">2</span><span class="o">;</span> <span class="mi">3</span><span class="o">|]</span> <span class="o">|];;</span>

<span class="k">let</span> <span class="n">ex2_1</span> <span class="o">=</span> <span class="o">[|</span> <span class="mi">0</span><span class="o">;</span> <span class="mi">0</span><span class="o">;</span> <span class="mi">1</span><span class="o">;</span> <span class="mi">2</span> <span class="o">|];;</span>
<span class="k">let</span> <span class="o">_</span> <span class="o">=</span> <span class="n">n_transitions</span> <span class="n">ex2_1</span> <span class="n">ex2</span> <span class="mi">3</span><span class="o">;;</span>
</pre></div>

    </div>
</div>
</div>

<div class="output_wrapper">
<div class="output">


<div class="output_area">

    <div class="prompt output_prompt">Out[20]:</div>




<div class="output_text output_subarea output_execute_result">
<pre>val ex2 : int array array = [|[|0; 1; 2|]; [|0|]; [|1; 3|]; [|2; 3|]|]
</pre>
</div>

</div>

<div class="output_area">

    <div class="prompt output_prompt">Out[20]:</div>




<div class="output_text output_subarea output_execute_result">
<pre>val ex2_1 : int array = [|0; 0; 1; 2|]
</pre>
</div>

</div>

<div class="output_area">

    <div class="prompt output_prompt">Out[20]:</div>




<div class="output_text output_subarea output_execute_result">
<pre>- : etat = [|0; 0; 3; 3|]
</pre>
</div>

</div>

</div>
</div>

</div>
<div class="cell border-box-sizing text_cell rendered"><div class="prompt input_prompt">
</div><div class="inner_cell">
<div class="text_cell_render border-box-sizing rendered_html">
<p>C'est trivial, mais il peut être utile de vérifier que <code>n_transitions 3</code> fait pareil que trois appels à <code>transition</code> :</p>

</div>
</div>
</div>
<div class="cell border-box-sizing code_cell rendered">
<div class="input">
<div class="prompt input_prompt">In&nbsp;[21]:</div>
<div class="inner_cell">
    <div class="input_area">
<div class=" highlight hl-OCaml"><pre><span></span><span class="k">let</span> <span class="n">ex2_1</span> <span class="o">=</span> <span class="o">[|</span> <span class="mi">0</span><span class="o">;</span> <span class="mi">0</span><span class="o">;</span> <span class="mi">1</span><span class="o">;</span> <span class="mi">2</span> <span class="o">|];;</span> <span class="c">(* il faut l&#39;écrire, il a été modifié *)</span>
<span class="k">let</span> <span class="o">_</span> <span class="o">=</span> <span class="n">transition</span> <span class="n">ex2_1</span> <span class="n">ex2</span><span class="o">;;</span>
<span class="k">let</span> <span class="o">_</span> <span class="o">=</span> <span class="n">transition</span> <span class="n">ex2_1</span> <span class="n">ex2</span><span class="o">;;</span>
<span class="k">let</span> <span class="o">_</span> <span class="o">=</span> <span class="n">transition</span> <span class="n">ex2_1</span> <span class="n">ex2</span><span class="o">;;</span>
<span class="k">let</span> <span class="o">_</span> <span class="o">=</span> <span class="n">transition</span> <span class="n">ex2_1</span> <span class="n">ex2</span><span class="o">;;</span>
</pre></div>

    </div>
</div>
</div>

<div class="output_wrapper">
<div class="output">


<div class="output_area">

    <div class="prompt output_prompt">Out[21]:</div>




<div class="output_text output_subarea output_execute_result">
<pre>val ex2_1 : int array = [|0; 0; 1; 2|]
</pre>
</div>

</div>

<div class="output_area">

    <div class="prompt output_prompt">Out[21]:</div>




<div class="output_text output_subarea output_execute_result">
<pre>- : etat = [|1; 0; 1; 2|]
</pre>
</div>

</div>

<div class="output_area">

    <div class="prompt output_prompt">Out[21]:</div>




<div class="output_text output_subarea output_execute_result">
<pre>- : etat = [|2; 0; 3; 2|]
</pre>
</div>

</div>

<div class="output_area">

    <div class="prompt output_prompt">Out[21]:</div>




<div class="output_text output_subarea output_execute_result">
<pre>- : etat = [|0; 0; 3; 3|]
</pre>
</div>

</div>

<div class="output_area">

    <div class="prompt output_prompt">Out[21]:</div>




<div class="output_text output_subarea output_execute_result">
<pre>- : etat = [|1; 0; 1; 2|]
</pre>
</div>

</div>

</div>
</div>

</div>
<div class="cell border-box-sizing text_cell rendered"><div class="prompt input_prompt">
</div><div class="inner_cell">
<div class="text_cell_render border-box-sizing rendered_html">
<p>Avec un autre état initial :</p>

</div>
</div>
</div>
<div class="cell border-box-sizing code_cell rendered">
<div class="input">
<div class="prompt input_prompt">In&nbsp;[22]:</div>
<div class="inner_cell">
    <div class="input_area">
<div class=" highlight hl-OCaml"><pre><span></span><span class="k">let</span> <span class="n">ex2_2</span> <span class="o">=</span> <span class="o">[|</span> <span class="mi">0</span><span class="o">;</span> <span class="mi">0</span><span class="o">;</span> <span class="mi">3</span><span class="o">;</span> <span class="mi">2</span> <span class="o">|];;</span>

<span class="k">let</span> <span class="o">_</span> <span class="o">=</span> <span class="n">transition</span> <span class="n">ex2_2</span> <span class="n">ex2</span><span class="o">;;</span>
<span class="k">let</span> <span class="o">_</span> <span class="o">=</span> <span class="n">transition</span> <span class="n">ex2_2</span> <span class="n">ex2</span><span class="o">;;</span> <span class="c">(* On bloque !*)</span>
<span class="k">let</span> <span class="o">_</span> <span class="o">=</span> <span class="n">transition</span> <span class="n">ex2_2</span> <span class="n">ex2</span><span class="o">;;</span> <span class="c">(* On bloque !*)</span>
</pre></div>

    </div>
</div>
</div>

<div class="output_wrapper">
<div class="output">


<div class="output_area">

    <div class="prompt output_prompt">Out[22]:</div>




<div class="output_text output_subarea output_execute_result">
<pre>val ex2_2 : int array = [|0; 0; 3; 2|]
</pre>
</div>

</div>

<div class="output_area">

    <div class="prompt output_prompt">Out[22]:</div>




<div class="output_text output_subarea output_execute_result">
<pre>- : etat = [|1; 0; 3; 2|]
</pre>
</div>

</div>

<div class="output_area">

    <div class="prompt output_prompt">Out[22]:</div>




<div class="output_text output_subarea output_execute_result">
<pre>- : etat = [|1; 0; 3; 2|]
</pre>
</div>

</div>

<div class="output_area">

    <div class="prompt output_prompt">Out[22]:</div>




<div class="output_text output_subarea output_execute_result">
<pre>- : etat = [|1; 0; 3; 2|]
</pre>
</div>

</div>

</div>
</div>

</div>
<div class="cell border-box-sizing text_cell rendered"><div class="prompt input_prompt">
</div><div class="inner_cell">
<div class="text_cell_render border-box-sizing rendered_html">
<p>Et avec encore un autre état initial :</p>

</div>
</div>
</div>
<div class="cell border-box-sizing code_cell rendered">
<div class="input">
<div class="prompt input_prompt">In&nbsp;[23]:</div>
<div class="inner_cell">
    <div class="input_area">
<div class=" highlight hl-OCaml"><pre><span></span><span class="k">let</span> <span class="n">ex2_3</span> <span class="o">=</span> <span class="o">[|</span> <span class="mi">0</span><span class="o">;</span> <span class="mi">0</span><span class="o">;</span> <span class="mi">3</span><span class="o">;</span> <span class="mi">3</span> <span class="o">|];;</span>

<span class="k">let</span> <span class="o">_</span> <span class="o">=</span> <span class="n">transition</span> <span class="n">ex2_3</span> <span class="n">ex2</span><span class="o">;;</span>
<span class="k">let</span> <span class="o">_</span> <span class="o">=</span> <span class="n">transition</span> <span class="n">ex2_3</span> <span class="n">ex2</span><span class="o">;;</span>
<span class="k">let</span> <span class="o">_</span> <span class="o">=</span> <span class="n">transition</span> <span class="n">ex2_3</span> <span class="n">ex2</span><span class="o">;;</span> <span class="c">(* On a un cycle de taille 3 *)</span>
<span class="k">let</span> <span class="o">_</span> <span class="o">=</span> <span class="n">transition</span> <span class="n">ex2_3</span> <span class="n">ex2</span><span class="o">;;</span>
</pre></div>

    </div>
</div>
</div>

<div class="output_wrapper">
<div class="output">


<div class="output_area">

    <div class="prompt output_prompt">Out[23]:</div>




<div class="output_text output_subarea output_execute_result">
<pre>val ex2_3 : int array = [|0; 0; 3; 3|]
</pre>
</div>

</div>

<div class="output_area">

    <div class="prompt output_prompt">Out[23]:</div>




<div class="output_text output_subarea output_execute_result">
<pre>- : etat = [|1; 0; 1; 2|]
</pre>
</div>

</div>

<div class="output_area">

    <div class="prompt output_prompt">Out[23]:</div>




<div class="output_text output_subarea output_execute_result">
<pre>- : etat = [|2; 0; 3; 2|]
</pre>
</div>

</div>

<div class="output_area">

    <div class="prompt output_prompt">Out[23]:</div>




<div class="output_text output_subarea output_execute_result">
<pre>- : etat = [|0; 0; 3; 3|]
</pre>
</div>

</div>

<div class="output_area">

    <div class="prompt output_prompt">Out[23]:</div>




<div class="output_text output_subarea output_execute_result">
<pre>- : etat = [|1; 0; 1; 2|]
</pre>
</div>

</div>

</div>
</div>

</div>
<div class="cell border-box-sizing text_cell rendered"><div class="prompt input_prompt">
</div><div class="inner_cell">
<div class="text_cell_render border-box-sizing rendered_html">
<hr>
<h2 id="Une-autre-approche-avec-des-cha&#238;nes-de-Markov">Une autre approche avec des cha&#238;nes de Markov<a class="anchor-link" href="#Une-autre-approche-avec-des-cha&#238;nes-de-Markov">&#182;</a></h2><p>Voici une troisième modélisation, avec des matrices et des <a href="https://fr.wikipedia.org/wiki/Cha%C3%AEne_de_Markov">chaînes de Markov</a>.</p>
<p>L'idée de base vient de l'observation suivante : <strong>ajouter de l'aléa dans les déplacements des robots devraient permettre de s'assurer (avec une certaine probabilité) que tous les rendez-vous sont bien effectués.</strong></p>

</div>
</div>
</div>
<div class="cell border-box-sizing text_cell rendered"><div class="prompt input_prompt">
</div><div class="inner_cell">
<div class="text_cell_render border-box-sizing rendered_html">
<h3 id="&#201;chantillonage-pond&#233;r&#233;">&#201;chantillonage pond&#233;r&#233;<a class="anchor-link" href="#&#201;chantillonage-pond&#233;r&#233;">&#182;</a></h3><p>Le module <a href="http://caml.inria.fr/pub/docs/manual-ocaml/libref/Random.html"><code>Random</code></a> va être utile.</p>
<p>En Python, on a <code>numpy.random.choice</code> pour faire cet échantillonage pondéré, pas en Caml, donc on va l'écrire manuellement.</p>

</div>
</div>
</div>
<div class="cell border-box-sizing code_cell rendered">
<div class="input">
<div class="prompt input_prompt">In&nbsp;[24]:</div>
<div class="inner_cell">
    <div class="input_area">
<div class=" highlight hl-OCaml"><pre><span></span><span class="nn">Random</span><span class="p">.</span><span class="n">init</span> <span class="mi">0</span><span class="o">;;</span>
</pre></div>

    </div>
</div>
</div>

<div class="output_wrapper">
<div class="output">


<div class="output_area">

    <div class="prompt output_prompt">Out[24]:</div>




<div class="output_text output_subarea output_execute_result">
<pre>- : unit = ()
</pre>
</div>

</div>

</div>
</div>

</div>
<div class="cell border-box-sizing text_cell rendered"><div class="prompt input_prompt">
</div><div class="inner_cell">
<div class="text_cell_render border-box-sizing rendered_html">
<p>Etant donné une distribution discrète $\pi = (\pi_1,\dots,\pi_N)$ sur $\{1,\dots,N\}$, la fonction suivante permet de générer un indice $i$ tel que
$$ \mathbb{P}(i = k) = \pi_k, \forall k \in \{1,\dots,N\}.$$</p>

</div>
</div>
</div>
<div class="cell border-box-sizing code_cell rendered">
<div class="input">
<div class="prompt input_prompt">In&nbsp;[25]:</div>
<div class="inner_cell">
    <div class="input_area">
<div class=" highlight hl-OCaml"><pre><span></span><span class="k">let</span> <span class="n">weight_sampling</span> <span class="o">(</span><span class="n">pi</span> <span class="o">:</span> <span class="kt">float</span> <span class="kt">array</span><span class="o">)</span> <span class="bp">()</span> <span class="o">=</span>
    <span class="k">let</span> <span class="n">p</span> <span class="o">=</span> <span class="nn">Random</span><span class="p">.</span><span class="n">float</span> <span class="mi">1</span><span class="o">.</span> <span class="k">in</span>
    <span class="k">let</span> <span class="n">i</span> <span class="o">=</span> <span class="n">ref</span> <span class="o">(-</span><span class="mi">1</span><span class="o">)</span> <span class="k">in</span>
    <span class="k">let</span> <span class="n">acc</span> <span class="o">=</span> <span class="n">ref</span> <span class="mi">0</span><span class="o">.</span> <span class="k">in</span>
    <span class="k">while</span> <span class="o">!</span><span class="n">acc</span> <span class="o">&lt;</span> <span class="n">p</span> <span class="k">do</span>
        <span class="n">incr</span> <span class="n">i</span><span class="o">;</span>
        <span class="n">acc</span> <span class="o">:=</span> <span class="o">(!</span><span class="n">acc</span><span class="o">)</span> <span class="o">+.</span> <span class="n">pi</span><span class="o">.(!</span><span class="n">i</span><span class="o">);</span>
    <span class="k">done</span><span class="o">;</span>
    <span class="o">!</span><span class="n">i</span>
<span class="o">;;</span>
</pre></div>

    </div>
</div>
</div>

<div class="output_wrapper">
<div class="output">


<div class="output_area">

    <div class="prompt output_prompt">Out[25]:</div>




<div class="output_text output_subarea output_execute_result">
<pre>val weight_sampling : float array -&gt; unit -&gt; int = &lt;fun&gt;
</pre>
</div>

</div>

</div>
</div>

</div>
<div class="cell border-box-sizing text_cell rendered"><div class="prompt input_prompt">
</div><div class="inner_cell">
<div class="text_cell_render border-box-sizing rendered_html">
<p>Par exemple, tirer 100 échantillons suivant la distribution $\pi = [0.5, 0.1, 0.4]$ devrait donner environ $50$ fois $0$, $10$ fois $1$ et $40$ fois $2$ :</p>

</div>
</div>
</div>
<div class="cell border-box-sizing code_cell rendered">
<div class="input">
<div class="prompt input_prompt">In&nbsp;[26]:</div>
<div class="inner_cell">
    <div class="input_area">
<div class=" highlight hl-OCaml"><pre><span></span><span class="k">let</span> <span class="n">compte</span> <span class="o">(</span><span class="n">a</span> <span class="o">:</span> <span class="k">&#39;</span><span class="n">a</span> <span class="kt">array</span><span class="o">)</span> <span class="o">(</span><span class="n">x</span> <span class="o">:</span> <span class="k">&#39;</span><span class="n">a</span><span class="o">)</span> <span class="o">:</span> <span class="kt">int</span> <span class="o">=</span>
    <span class="nn">Array</span><span class="p">.</span><span class="n">fold_left</span> <span class="o">(</span><span class="k">fun</span> <span class="n">i</span> <span class="n">y</span> <span class="o">-&gt;</span> <span class="k">if</span> <span class="n">y</span> <span class="o">=</span> <span class="n">x</span> <span class="k">then</span> <span class="n">i</span> <span class="o">+</span> <span class="mi">1</span> <span class="k">else</span> <span class="n">i</span><span class="o">)</span> <span class="mi">0</span> <span class="n">a</span>
<span class="o">;;</span>
    
<span class="k">let</span> <span class="n">echantillons</span> <span class="o">=</span> <span class="nn">Array</span><span class="p">.</span><span class="n">init</span> <span class="mi">100</span>
    <span class="o">(</span><span class="k">fun</span> <span class="o">_</span> <span class="o">-&gt;</span> <span class="n">weight_sampling</span> <span class="o">[|</span> <span class="mi">0</span><span class="o">.</span><span class="mi">5</span><span class="o">;</span> <span class="mi">0</span><span class="o">.</span><span class="mi">1</span><span class="o">;</span> <span class="mi">0</span><span class="o">.</span><span class="mi">4</span> <span class="o">|]</span> <span class="bp">()</span><span class="o">)</span>
<span class="o">;;</span>

<span class="n">compte</span> <span class="n">echantillons</span> <span class="mi">0</span><span class="o">;;</span>
<span class="n">compte</span> <span class="n">echantillons</span> <span class="mi">1</span><span class="o">;;</span>
<span class="n">compte</span> <span class="n">echantillons</span> <span class="mi">2</span><span class="o">;;</span>
</pre></div>

    </div>
</div>
</div>

<div class="output_wrapper">
<div class="output">


<div class="output_area">

    <div class="prompt output_prompt">Out[26]:</div>




<div class="output_text output_subarea output_execute_result">
<pre>val compte : &#39;a array -&gt; &#39;a -&gt; int = &lt;fun&gt;
</pre>
</div>

</div>

<div class="output_area">

    <div class="prompt output_prompt">Out[26]:</div>




<div class="output_text output_subarea output_execute_result">
<pre>val echantillons : int array =
  [|0; 0; 2; 2; 0; 0; 0; 0; 0; 0; 0; 2; 1; 2; 0; 2; 1; 2; 1; 2; 2; 1; 2; 0;
    1; 2; 2; 0; 2; 0; 2; 0; 0; 0; 2; 2; 2; 2; 2; 0; 2; 0; 2; 0; 0; 2; 2; 2;
    1; 0; 1; 2; 0; 2; 2; 2; 0; 0; 2; 0; 2; 0; 0; 0; 0; 0; 1; 0; 1; 0; 0; 2;
    2; 2; 2; 2; 2; 1; 0; 0; 2; 2; 2; 2; 0; 0; 0; 0; 1; 2; 0; 1; 0; 0; 0; 0;
    1; 0; 0; 2|]
</pre>
</div>

</div>

<div class="output_area">

    <div class="prompt output_prompt">Out[26]:</div>




<div class="output_text output_subarea output_execute_result">
<pre>- : int = 46
</pre>
</div>

</div>

<div class="output_area">

    <div class="prompt output_prompt">Out[26]:</div>




<div class="output_text output_subarea output_execute_result">
<pre>- : int = 13
</pre>
</div>

</div>

<div class="output_area">

    <div class="prompt output_prompt">Out[26]:</div>




<div class="output_text output_subarea output_execute_result">
<pre>- : int = 41
</pre>
</div>

</div>

</div>
</div>

</div>
<div class="cell border-box-sizing text_cell rendered"><div class="prompt input_prompt">
</div><div class="inner_cell">
<div class="text_cell_render border-box-sizing rendered_html">
<p>$46/100$, $13/100$ et $41/100$, c'est pas trop loin de $0.5, 0.1, 0.4$.</p>

</div>
</div>
</div>
<div class="cell border-box-sizing text_cell rendered"><div class="prompt input_prompt">
</div><div class="inner_cell">
<div class="text_cell_render border-box-sizing rendered_html">
<h3 id="Simuler-une-&#233;tape-d'une-cha&#238;ne-de-Markov-?">Simuler une &#233;tape d'une cha&#238;ne de Markov ?<a class="anchor-link" href="#Simuler-une-&#233;tape-d'une-cha&#238;ne-de-Markov-?">&#182;</a></h3><p>On peut utiliser cette fonction pour suivre une transition, aléatoire, sur une chaîne de Markov.</p>

</div>
</div>
</div>
<div class="cell border-box-sizing code_cell rendered">
<div class="input">
<div class="prompt input_prompt">In&nbsp;[27]:</div>
<div class="inner_cell">
    <div class="input_area">
<div class=" highlight hl-OCaml"><pre><span></span><span class="k">let</span> <span class="n">markov_1</span> <span class="o">(</span><span class="n">a</span> <span class="o">:</span> <span class="kt">float</span> <span class="kt">array</span> <span class="kt">array</span><span class="o">)</span> <span class="o">(</span><span class="n">i</span> <span class="o">:</span> <span class="kt">int</span><span class="o">)</span> <span class="o">:</span> <span class="kt">int</span> <span class="o">=</span>
    <span class="k">let</span> <span class="n">pi</span> <span class="o">=</span> <span class="n">a</span><span class="o">.(</span><span class="n">i</span><span class="o">)</span> <span class="k">in</span>
    <span class="n">weight_sampling</span> <span class="n">pi</span> <span class="bp">()</span>
<span class="o">;;</span>
</pre></div>

    </div>
</div>
</div>

<div class="output_wrapper">
<div class="output">


<div class="output_area">

    <div class="prompt output_prompt">Out[27]:</div>




<div class="output_text output_subarea output_execute_result">
<pre>val markov_1 : float array array -&gt; int -&gt; int = &lt;fun&gt;
</pre>
</div>

</div>

</div>
</div>

</div>
<div class="cell border-box-sizing text_cell rendered"><div class="prompt input_prompt">
</div><div class="inner_cell">
<div class="text_cell_render border-box-sizing rendered_html">
<p>Avec un petit exemple définit, on peut voir le résultat de $100$ transitions différentes depuis l'état $0$ :</p>

</div>
</div>
</div>
<div class="cell border-box-sizing code_cell rendered">
<div class="input">
<div class="prompt input_prompt">In&nbsp;[28]:</div>
<div class="inner_cell">
    <div class="input_area">
<div class=" highlight hl-OCaml"><pre><span></span><span class="k">let</span> <span class="n">a</span> <span class="o">=</span> <span class="o">[|</span>
            <span class="o">[|</span> <span class="mi">0</span><span class="o">.</span><span class="mi">4</span><span class="o">;</span> <span class="mi">0</span><span class="o">.</span><span class="mi">3</span><span class="o">;</span> <span class="mi">0</span><span class="o">.</span><span class="mi">3</span> <span class="o">|];</span>
            <span class="o">[|</span> <span class="mi">0</span><span class="o">.</span><span class="mi">3</span><span class="o">;</span> <span class="mi">0</span><span class="o">.</span><span class="mi">4</span><span class="o">;</span> <span class="mi">0</span><span class="o">.</span><span class="mi">3</span> <span class="o">|];</span>
            <span class="o">[|</span> <span class="mi">0</span><span class="o">.</span><span class="mi">3</span><span class="o">;</span> <span class="mi">0</span><span class="o">.</span><span class="mi">3</span><span class="o">;</span> <span class="mi">0</span><span class="o">.</span><span class="mi">4</span> <span class="o">|]</span>
    <span class="o">|]</span>
<span class="o">;;</span>
</pre></div>

    </div>
</div>
</div>

<div class="output_wrapper">
<div class="output">


<div class="output_area">

    <div class="prompt output_prompt">Out[28]:</div>




<div class="output_text output_subarea output_execute_result">
<pre>val a : float array array =
  [|[|0.4; 0.3; 0.3|]; [|0.3; 0.4; 0.3|]; [|0.3; 0.3; 0.4|]|]
</pre>
</div>

</div>

</div>
</div>

</div>
<div class="cell border-box-sizing code_cell rendered">
<div class="input">
<div class="prompt input_prompt">In&nbsp;[29]:</div>
<div class="inner_cell">
    <div class="input_area">
<div class=" highlight hl-OCaml"><pre><span></span><span class="n">print</span> <span class="s2">&quot;</span><span class="se">\n</span><span class="s2">&quot;</span><span class="o">;;</span>
<span class="k">for</span> <span class="o">_</span> <span class="o">=</span> <span class="mi">0</span> <span class="k">to</span> <span class="mi">100</span> <span class="k">do</span>
    <span class="n">print</span> <span class="s2">&quot;%i&quot;</span> <span class="o">(</span><span class="n">markov_1</span> <span class="n">a</span> <span class="mi">0</span><span class="o">);</span>
<span class="k">done</span><span class="o">;;</span>
<span class="n">flush_all</span> <span class="bp">()</span><span class="o">;;</span>
</pre></div>

    </div>
</div>
</div>

<div class="output_wrapper">
<div class="output">


<div class="output_area">

    <div class="prompt output_prompt">Out[29]:</div>




<div class="output_text output_subarea output_execute_result">
<pre>- : unit = ()
</pre>
</div>

</div>

<div class="output_area">

    <div class="prompt output_prompt">Out[29]:</div>




<div class="output_text output_subarea output_execute_result">
<pre>- : unit = ()
</pre>
</div>

</div>

<div class="output_area">

    <div class="prompt"></div>


<div class="output_subarea output_stream output_stdout output_text">
<pre></pre>
</div>
</div>

<div class="output_area">

    <div class="prompt output_prompt">Out[29]:</div>




<div class="output_text output_subarea output_execute_result">
<pre>- : unit = ()
</pre>
</div>

</div>

</div>
</div>

</div>
<div class="cell border-box-sizing text_cell rendered"><div class="prompt input_prompt">
</div><div class="inner_cell">
<div class="text_cell_render border-box-sizing rendered_html">
<p>On peut suivre plusieurs transitions :</p>

</div>
</div>
</div>
<div class="cell border-box-sizing code_cell rendered">
<div class="input">
<div class="prompt input_prompt">In&nbsp;[30]:</div>
<div class="inner_cell">
    <div class="input_area">
<div class=" highlight hl-OCaml"><pre><span></span><span class="k">let</span> <span class="n">markov_n</span> <span class="o">(</span><span class="n">a</span> <span class="o">:</span> <span class="kt">float</span> <span class="kt">array</span> <span class="kt">array</span><span class="o">)</span> <span class="o">(</span><span class="n">etat</span> <span class="o">:</span> <span class="kt">int</span><span class="o">)</span> <span class="o">(</span><span class="n">n</span> <span class="o">:</span> <span class="kt">int</span><span class="o">)</span> <span class="o">:</span> <span class="kt">int</span> <span class="o">=</span>
    <span class="k">let</span> <span class="n">u</span> <span class="o">=</span> <span class="n">ref</span> <span class="n">etat</span> <span class="k">in</span>
    <span class="k">for</span> <span class="o">_</span> <span class="o">=</span> <span class="mi">0</span> <span class="k">to</span> <span class="n">n</span><span class="o">-</span><span class="mi">1</span> <span class="k">do</span>
        <span class="n">u</span> <span class="o">:=</span> <span class="n">markov_1</span> <span class="n">a</span> <span class="o">!</span><span class="n">u</span><span class="o">;</span>
    <span class="k">done</span><span class="o">;</span>
    <span class="o">!</span><span class="n">u</span>
<span class="o">;;</span>
</pre></div>

    </div>
</div>
</div>

<div class="output_wrapper">
<div class="output">


<div class="output_area">

    <div class="prompt output_prompt">Out[30]:</div>




<div class="output_text output_subarea output_execute_result">
<pre>val markov_n : float array array -&gt; int -&gt; int -&gt; int = &lt;fun&gt;
</pre>
</div>

</div>

</div>
</div>

</div>
<div class="cell border-box-sizing code_cell rendered">
<div class="input">
<div class="prompt input_prompt">In&nbsp;[31]:</div>
<div class="inner_cell">
    <div class="input_area">
<div class=" highlight hl-OCaml"><pre><span></span><span class="n">markov_n</span> <span class="n">a</span> <span class="mi">0</span> <span class="mi">10</span><span class="o">;;</span>
</pre></div>

    </div>
</div>
</div>

<div class="output_wrapper">
<div class="output">


<div class="output_area">

    <div class="prompt output_prompt">Out[31]:</div>




<div class="output_text output_subarea output_execute_result">
<pre>- : int = 2
</pre>
</div>

</div>

</div>
</div>

</div>
<div class="cell border-box-sizing text_cell rendered"><div class="prompt input_prompt">
</div><div class="inner_cell">
<div class="text_cell_render border-box-sizing rendered_html">
<p>Et pour plusieurs robots, c'est pareil : chaque robots a un état (<code>robots.(i)</code>) et une matrice de transition (<code>a.(i)</code>) :</p>

</div>
</div>
</div>
<div class="cell border-box-sizing code_cell rendered">
<div class="input">
<div class="prompt input_prompt">In&nbsp;[32]:</div>
<div class="inner_cell">
    <div class="input_area">
<div class=" highlight hl-OCaml"><pre><span></span><span class="k">let</span> <span class="n">markovs_n</span> <span class="o">(</span><span class="n">a</span> <span class="o">:</span> <span class="kt">float</span> <span class="kt">array</span> <span class="kt">array</span> <span class="kt">array</span><span class="o">)</span> <span class="o">(</span><span class="n">robots</span> <span class="o">:</span> <span class="kt">int</span> <span class="kt">array</span><span class="o">)</span> <span class="o">(</span><span class="n">n</span> <span class="o">:</span> <span class="kt">int</span><span class="o">)</span> <span class="o">:</span> <span class="kt">int</span> <span class="kt">array</span> <span class="o">=</span>
    <span class="nn">Array</span><span class="p">.</span><span class="n">mapi</span> <span class="o">(</span><span class="k">fun</span> <span class="n">i</span> <span class="n">u</span> <span class="o">-&gt;</span> <span class="n">markov_n</span> <span class="n">a</span><span class="o">.(</span><span class="n">i</span><span class="o">)</span> <span class="n">u</span> <span class="n">n</span><span class="o">)</span> <span class="n">robots</span>
<span class="o">;;</span>
</pre></div>

    </div>
</div>
</div>

<div class="output_wrapper">
<div class="output">


<div class="output_area">

    <div class="prompt output_prompt">Out[32]:</div>




<div class="output_text output_subarea output_execute_result">
<pre>val markovs_n : float array array array -&gt; int array -&gt; int -&gt; int array =
  &lt;fun&gt;
</pre>
</div>

</div>

</div>
</div>

</div>
<div class="cell border-box-sizing text_cell rendered"><div class="prompt input_prompt">
</div><div class="inner_cell">
<div class="text_cell_render border-box-sizing rendered_html">
<p>Si par exemple chaque état a la même matrice de transition :</p>

</div>
</div>
</div>
<div class="cell border-box-sizing code_cell rendered">
<div class="input">
<div class="prompt input_prompt">In&nbsp;[33]:</div>
<div class="inner_cell">
    <div class="input_area">
<div class=" highlight hl-OCaml"><pre><span></span><span class="n">markovs_n</span> <span class="o">[|</span><span class="n">a</span><span class="o">;</span> <span class="n">a</span><span class="o">;</span> <span class="n">a</span><span class="o">|]</span> <span class="o">[|</span><span class="mi">0</span><span class="o">;</span> <span class="mi">1</span><span class="o">;</span> <span class="mi">2</span><span class="o">|]</span> <span class="mi">10</span><span class="o">;;</span>
</pre></div>

    </div>
</div>
</div>

<div class="output_wrapper">
<div class="output">


<div class="output_area">

    <div class="prompt output_prompt">Out[33]:</div>




<div class="output_text output_subarea output_execute_result">
<pre>- : int array = [|1; 1; 0|]
</pre>
</div>

</div>

</div>
</div>

</div>
<div class="cell border-box-sizing text_cell rendered"><div class="prompt input_prompt">
</div><div class="inner_cell">
<div class="text_cell_render border-box-sizing rendered_html">
<h3 id="Mod&#233;liser-nos-robots-avec-des-cha&#238;nes-de-Markov">Mod&#233;liser nos robots avec des cha&#238;nes de Markov<a class="anchor-link" href="#Mod&#233;liser-nos-robots-avec-des-cha&#238;nes-de-Markov">&#182;</a></h3><p>Plutôt que d'imposer à chaque robot un ordre fixe de ses rendez-vous, on va leur donner une probabilité uniforme d'aller, après un rendez-vous, à n'importe lequel de leur rendez-vous.</p>
<ul>
<li>Cela demande de transformer la liste $T_1,\dots,T_n$ de rendez-vous en $n$ matrices de transition de chaînes de Markov, une par robot.</li>
<li>Et ensuite de simuler chaque chaîne de Markov, parant d'un état initial $T_i[0]$.</li>
</ul>

</div>
</div>
</div>
<div class="cell border-box-sizing code_cell rendered">
<div class="input">
<div class="prompt input_prompt">In&nbsp;[34]:</div>
<div class="inner_cell">
    <div class="input_area">
<div class=" highlight hl-OCaml"><pre><span></span><span class="c">(* Fonctions utiles *)</span>
<span class="nn">Array</span><span class="p">.</span><span class="n">init</span><span class="o">;;</span>
<span class="nn">Array</span><span class="p">.</span><span class="n">make_matrix</span><span class="o">;;</span>
<span class="nn">Array</span><span class="p">.</span><span class="n">iter</span><span class="o">;;</span>
</pre></div>

    </div>
</div>
</div>

<div class="output_wrapper">
<div class="output">


<div class="output_area">

    <div class="prompt output_prompt">Out[34]:</div>




<div class="output_text output_subarea output_execute_result">
<pre>- : int -&gt; (int -&gt; &#39;a) -&gt; &#39;a array = &lt;fun&gt;
</pre>
</div>

</div>

<div class="output_area">

    <div class="prompt output_prompt">Out[34]:</div>




<div class="output_text output_subarea output_execute_result">
<pre>- : int -&gt; int -&gt; &#39;a -&gt; &#39;a array array = &lt;fun&gt;
</pre>
</div>

</div>

<div class="output_area">

    <div class="prompt output_prompt">Out[34]:</div>




<div class="output_text output_subarea output_execute_result">
<pre>- : (&#39;a -&gt; unit) -&gt; &#39;a array -&gt; unit = &lt;fun&gt;
</pre>
</div>

</div>

</div>
</div>

</div>
<div class="cell border-box-sizing code_cell rendered">
<div class="input">
<div class="prompt input_prompt">In&nbsp;[35]:</div>
<div class="inner_cell">
    <div class="input_area">
<div class=" highlight hl-OCaml"><pre><span></span><span class="k">let</span> <span class="n">mat_proba_depuis_rdv</span> <span class="o">(</span><span class="n">ts</span> <span class="o">:</span> <span class="kt">int</span> <span class="kt">array</span> <span class="kt">array</span><span class="o">)</span> <span class="o">:</span> <span class="o">(</span><span class="kt">float</span> <span class="kt">array</span> <span class="kt">array</span><span class="o">)</span> <span class="kt">array</span> <span class="o">=</span>
    <span class="k">let</span> <span class="n">n</span> <span class="o">=</span> <span class="nn">Array</span><span class="p">.</span><span class="n">length</span> <span class="n">ts</span> <span class="k">in</span>
    <span class="k">let</span> <span class="n">a</span> <span class="o">=</span> <span class="nn">Array</span><span class="p">.</span><span class="n">init</span> <span class="n">n</span> <span class="o">(</span><span class="k">fun</span> <span class="o">_</span> <span class="o">-&gt;</span> <span class="nn">Array</span><span class="p">.</span><span class="n">make_matrix</span> <span class="n">n</span> <span class="n">n</span> <span class="mi">0</span><span class="o">.)</span> <span class="k">in</span>
    <span class="k">for</span> <span class="n">i</span> <span class="o">=</span> <span class="mi">0</span> <span class="k">to</span> <span class="n">n</span><span class="o">-</span><span class="mi">1</span> <span class="k">do</span>
        <span class="c">(* Pour le robot R_i, ses rendez-vous T_i sont ts.(i) *)</span>
        <span class="k">let</span> <span class="n">r</span> <span class="o">=</span> <span class="n">ts</span><span class="o">.(</span><span class="n">i</span><span class="o">)</span> <span class="k">in</span>
        <span class="k">let</span> <span class="n">m</span> <span class="o">=</span> <span class="nn">Array</span><span class="p">.</span><span class="n">length</span> <span class="n">r</span> <span class="k">in</span>
        <span class="k">let</span> <span class="n">p_i</span> <span class="o">=</span> <span class="mi">1</span><span class="o">.</span> <span class="o">/.</span> <span class="o">(</span><span class="n">float_of_int</span> <span class="n">m</span><span class="o">)</span> <span class="k">in</span>
        <span class="c">(* Pour chaque rendez-vous L_j dans T_i,</span>
<span class="c">           remplir a.(j).(k) par 1/m,</span>
<span class="c">           et aussi a.(k).(j) par 1/m</span>
<span class="c">           pour chaque autre k dans L_j</span>
<span class="c">        *)</span>
        <span class="k">for</span> <span class="n">j</span> <span class="o">=</span> <span class="mi">0</span> <span class="k">to</span> <span class="n">m</span><span class="o">-</span><span class="mi">1</span> <span class="k">do</span>
            <span class="k">for</span> <span class="n">k</span> <span class="o">=</span> <span class="mi">0</span> <span class="k">to</span> <span class="n">m</span><span class="o">-</span><span class="mi">1</span> <span class="k">do</span>
                <span class="n">a</span><span class="o">.(</span><span class="n">i</span><span class="o">).(</span><span class="n">r</span><span class="o">.(</span><span class="n">j</span><span class="o">)).(</span><span class="n">r</span><span class="o">.(</span><span class="n">k</span><span class="o">))</span> <span class="o">&lt;-</span> <span class="n">p_i</span><span class="o">;</span>
                <span class="n">a</span><span class="o">.(</span><span class="n">i</span><span class="o">).(</span><span class="n">r</span><span class="o">.(</span><span class="n">k</span><span class="o">)).(</span><span class="n">r</span><span class="o">.(</span><span class="n">j</span><span class="o">))</span> <span class="o">&lt;-</span> <span class="n">p_i</span><span class="o">;</span>
            <span class="k">done</span><span class="o">;</span>
        <span class="k">done</span><span class="o">;</span>
    <span class="k">done</span><span class="o">;</span>
    <span class="n">a</span>
<span class="o">;;</span>
</pre></div>

    </div>
</div>
</div>

<div class="output_wrapper">
<div class="output">


<div class="output_area">

    <div class="prompt output_prompt">Out[35]:</div>




<div class="output_text output_subarea output_execute_result">
<pre>val mat_proba_depuis_rdv : int array array -&gt; float array array array = &lt;fun&gt;
</pre>
</div>

</div>

</div>
</div>

</div>
<div class="cell border-box-sizing text_cell rendered"><div class="prompt input_prompt">
</div><div class="inner_cell">
<div class="text_cell_render border-box-sizing rendered_html">
<p>Avec les fonctions précédentes, on peut faire évoluer le système.</p>

</div>
</div>
</div>
<div class="cell border-box-sizing code_cell rendered">
<div class="input">
<div class="prompt input_prompt">In&nbsp;[36]:</div>
<div class="inner_cell">
    <div class="input_area">
<div class=" highlight hl-OCaml"><pre><span></span><span class="k">let</span> <span class="n">simule_markov_robots</span> <span class="o">(</span><span class="n">ts</span> <span class="o">:</span> <span class="kt">int</span> <span class="kt">array</span> <span class="kt">array</span><span class="o">)</span>
    <span class="o">(</span><span class="n">etats</span> <span class="o">:</span> <span class="kt">int</span> <span class="kt">array</span><span class="o">)</span> <span class="o">(</span><span class="n">n</span> <span class="o">:</span> <span class="kt">int</span><span class="o">)</span>
    <span class="o">:</span> <span class="kt">int</span> <span class="kt">array</span> <span class="o">=</span>
    <span class="k">let</span> <span class="n">a</span> <span class="o">=</span> <span class="n">mat_proba_depuis_rdv</span> <span class="n">ts</span> <span class="k">in</span>
    <span class="n">markovs_n</span> <span class="n">a</span> <span class="n">etats</span> <span class="n">n</span>
<span class="o">;;</span>
</pre></div>

    </div>
</div>
</div>

<div class="output_wrapper">
<div class="output">


<div class="output_area">

    <div class="prompt output_prompt">Out[36]:</div>




<div class="output_text output_subarea output_execute_result">
<pre>val simule_markov_robots : int array array -&gt; int array -&gt; int -&gt; int array =
  &lt;fun&gt;
</pre>
</div>

</div>

</div>
</div>

</div>
<div class="cell border-box-sizing text_cell rendered"><div class="prompt input_prompt">
</div><div class="inner_cell">
<div class="text_cell_render border-box-sizing rendered_html">
<h3 id="Exemple-1">Exemple 1<a class="anchor-link" href="#Exemple-1">&#182;</a></h3><p>On commence avec le premier exemple du texte, avec trois robots $R_1, R_2, R_3$, qui ont comme tableaux de rendez-vous $T_1 = [1, 3]$, $T_2 = [2, 1]$ et $T_3 = [3, 2]$.</p>
<p>Ce système n'est pas bloqué, mais aucun rendez-vous n'est réalisé avec l'approche statique.
L'approche probabiliste permettra, espérons, de résoudre ce problème.</p>
<p><img src="images/robots_exemple1.png" alt="Premier exemple de robots"></p>

</div>
</div>
</div>
<div class="cell border-box-sizing code_cell rendered">
<div class="input">
<div class="prompt input_prompt">In&nbsp;[37]:</div>
<div class="inner_cell">
    <div class="input_area">
<div class=" highlight hl-OCaml"><pre><span></span><span class="k">let</span> <span class="n">ex3</span> <span class="o">=</span> <span class="o">[|</span> <span class="o">[|</span><span class="mi">0</span><span class="o">;</span> <span class="mi">2</span><span class="o">|];</span> <span class="o">[|</span><span class="mi">1</span><span class="o">;</span> <span class="mi">0</span><span class="o">|];</span> <span class="o">[|</span><span class="mi">2</span><span class="o">;</span> <span class="mi">1</span><span class="o">|]|]</span> <span class="o">;;</span>
</pre></div>

    </div>
</div>
</div>

<div class="output_wrapper">
<div class="output">


<div class="output_area">

    <div class="prompt output_prompt">Out[37]:</div>




<div class="output_text output_subarea output_execute_result">
<pre>val ex3 : int array array = [|[|0; 2|]; [|1; 0|]; [|2; 1|]|]
</pre>
</div>

</div>

</div>
</div>

</div>
<div class="cell border-box-sizing text_cell rendered"><div class="prompt input_prompt">
</div><div class="inner_cell">
<div class="text_cell_render border-box-sizing rendered_html">
<p>On peut écrire une fonction qui récupère l'état initial dans lequel se trouve chaque robot (le texte donnait comme convention d'utiliser le premier de chaque liste).</p>

</div>
</div>
</div>
<div class="cell border-box-sizing code_cell rendered">
<div class="input">
<div class="prompt input_prompt">In&nbsp;[38]:</div>
<div class="inner_cell">
    <div class="input_area">
<div class=" highlight hl-OCaml"><pre><span></span><span class="k">let</span> <span class="n">premier_etat</span> <span class="o">(</span><span class="n">rdvs</span> <span class="o">:</span> <span class="kt">int</span> <span class="kt">array</span> <span class="kt">array</span><span class="o">)</span> <span class="o">:</span> <span class="kt">int</span> <span class="kt">array</span> <span class="o">=</span>
    <span class="nn">Array</span><span class="p">.</span><span class="n">init</span> <span class="o">(</span><span class="nn">Array</span><span class="p">.</span><span class="n">length</span> <span class="n">rdvs</span><span class="o">)</span> <span class="o">(</span><span class="k">fun</span> <span class="n">i</span> <span class="o">-&gt;</span> <span class="n">rdvs</span><span class="o">.(</span><span class="n">i</span><span class="o">).(</span><span class="mi">0</span><span class="o">))</span>
<span class="o">;;</span>
</pre></div>

    </div>
</div>
</div>

<div class="output_wrapper">
<div class="output">


<div class="output_area">

    <div class="prompt output_prompt">Out[38]:</div>




<div class="output_text output_subarea output_execute_result">
<pre>val premier_etat : int array array -&gt; int array = &lt;fun&gt;
</pre>
</div>

</div>

</div>
</div>

</div>
<div class="cell border-box-sizing code_cell rendered">
<div class="input">
<div class="prompt input_prompt">In&nbsp;[39]:</div>
<div class="inner_cell">
    <div class="input_area">
<div class=" highlight hl-OCaml"><pre><span></span><span class="k">let</span> <span class="n">ex3_1</span> <span class="o">=</span> <span class="n">premier_etat</span> <span class="n">ex3</span><span class="o">;;</span>
</pre></div>

    </div>
</div>
</div>

<div class="output_wrapper">
<div class="output">


<div class="output_area">

    <div class="prompt output_prompt">Out[39]:</div>




<div class="output_text output_subarea output_execute_result">
<pre>val ex3_1 : int array = [|0; 1; 2|]
</pre>
</div>

</div>

</div>
</div>

</div>
<div class="cell border-box-sizing text_cell rendered"><div class="prompt input_prompt">
</div><div class="inner_cell">
<div class="text_cell_render border-box-sizing rendered_html">
<p>On vérifie la matrice de transition produite par <code>mat_proba_depuis_rdv</code> :</p>

</div>
</div>
</div>
<div class="cell border-box-sizing code_cell rendered">
<div class="input">
<div class="prompt input_prompt">In&nbsp;[40]:</div>
<div class="inner_cell">
    <div class="input_area">
<div class=" highlight hl-OCaml"><pre><span></span><span class="n">mat_proba_depuis_rdv</span> <span class="n">ex3</span><span class="o">;;</span>
</pre></div>

    </div>
</div>
</div>

<div class="output_wrapper">
<div class="output">


<div class="output_area">

    <div class="prompt output_prompt">Out[40]:</div>




<div class="output_text output_subarea output_execute_result">
<pre>- : float array array array =
[|[|[|0.5; 0.; 0.5|]; [|0.; 0.; 0.|]; [|0.5; 0.; 0.5|]|];
  [|[|0.5; 0.5; 0.|]; [|0.5; 0.5; 0.|]; [|0.; 0.; 0.|]|];
  [|[|0.; 0.; 0.|]; [|0.; 0.5; 0.5|]; [|0.; 0.5; 0.5|]|]|]
</pre>
</div>

</div>

</div>
</div>

</div>
<div class="cell border-box-sizing text_cell rendered"><div class="prompt input_prompt">
</div><div class="inner_cell">
<div class="text_cell_render border-box-sizing rendered_html">
<p>On peut vérifier que ces chaînes de Markov représentent bien le comportement des robots, par exemple le premier robot $R_1$ a $T_1 = [1, 3]$, donc il alterne entre l'état $0$ et $2$, avec la matrice de transition
$$ \mathbf{A}_i := \begin{bmatrix}
    1/2 &amp; 0 &amp; 1/2 \\
    0 &amp; 0 &amp; 0 \\
    1/2 &amp; 0 &amp; 1/2
\end{bmatrix}. $$</p>

</div>
</div>
</div>
<div class="cell border-box-sizing text_cell rendered"><div class="prompt input_prompt">
</div><div class="inner_cell">
<div class="text_cell_render border-box-sizing rendered_html">
<p>Et enfin on peut simuler le système, par exemple pour juste une étape, plusieurs fois (pour bien visualiser).</p>

</div>
</div>
</div>
<div class="cell border-box-sizing code_cell rendered">
<div class="input">
<div class="prompt input_prompt">In&nbsp;[41]:</div>
<div class="inner_cell">
    <div class="input_area">
<div class=" highlight hl-OCaml"><pre><span></span><span class="n">simule_markov_robots</span> <span class="n">ex3</span> <span class="n">ex3_1</span> <span class="mi">0</span><span class="o">;;</span>  <span class="c">(* rien à faire ! *)</span>
</pre></div>

    </div>
</div>
</div>

<div class="output_wrapper">
<div class="output">


<div class="output_area">

    <div class="prompt output_prompt">Out[41]:</div>




<div class="output_text output_subarea output_execute_result">
<pre>- : int array = [|0; 1; 2|]
</pre>
</div>

</div>

</div>
</div>

</div>
<div class="cell border-box-sizing code_cell rendered">
<div class="input">
<div class="prompt input_prompt">In&nbsp;[42]:</div>
<div class="inner_cell">
    <div class="input_area">
<div class=" highlight hl-OCaml"><pre><span></span><span class="n">simule_markov_robots</span> <span class="n">ex3</span> <span class="n">ex3_1</span> <span class="mi">1</span><span class="o">;;</span>
</pre></div>

    </div>
</div>
</div>

<div class="output_wrapper">
<div class="output">


<div class="output_area">

    <div class="prompt output_prompt">Out[42]:</div>




<div class="output_text output_subarea output_execute_result">
<pre>- : int array = [|0; 0; 1|]
</pre>
</div>

</div>

</div>
</div>

</div>
<div class="cell border-box-sizing text_cell rendered"><div class="prompt input_prompt">
</div><div class="inner_cell">
<div class="text_cell_render border-box-sizing rendered_html">
<p>Pour mieux comprendre le fonctionnement, on va afficher les états intermédiaires.</p>

</div>
</div>
</div>
<div class="cell border-box-sizing code_cell rendered">
<div class="input">
<div class="prompt input_prompt">In&nbsp;[43]:</div>
<div class="inner_cell">
    <div class="input_area">
<div class=" highlight hl-OCaml"><pre><span></span><span class="k">let</span> <span class="n">print</span> <span class="o">=</span> <span class="nn">Printf</span><span class="p">.</span><span class="n">printf</span><span class="o">;;</span>
</pre></div>

    </div>
</div>
</div>

<div class="output_wrapper">
<div class="output">


<div class="output_area">

    <div class="prompt output_prompt">Out[43]:</div>




<div class="output_text output_subarea output_execute_result">
<pre>val print : (&#39;a, out_channel, unit) format -&gt; &#39;a = &lt;fun&gt;
</pre>
</div>

</div>

</div>
</div>

</div>
<div class="cell border-box-sizing code_cell rendered">
<div class="input">
<div class="prompt input_prompt">In&nbsp;[44]:</div>
<div class="inner_cell">
    <div class="input_area">
<div class=" highlight hl-OCaml"><pre><span></span><span class="k">let</span> <span class="n">affiche_etat</span> <span class="o">(</span><span class="n">etat</span> <span class="o">:</span> <span class="kt">int</span> <span class="kt">array</span><span class="o">)</span> <span class="o">=</span>
    <span class="nn">Array</span><span class="p">.</span><span class="n">iter</span> <span class="o">(</span><span class="k">fun</span> <span class="n">u</span> <span class="o">-&gt;</span> <span class="n">print</span> <span class="s2">&quot;%i &quot;</span> <span class="n">u</span><span class="o">)</span> <span class="n">etat</span><span class="o">;</span>
    <span class="n">print</span> <span class="s2">&quot;</span><span class="se">\n</span><span class="s2">&quot;</span><span class="o">;</span>
    <span class="n">flush_all</span> <span class="bp">()</span><span class="o">;</span>
<span class="o">;;</span>
</pre></div>

    </div>
</div>
</div>

<div class="output_wrapper">
<div class="output">


<div class="output_area">

    <div class="prompt output_prompt">Out[44]:</div>




<div class="output_text output_subarea output_execute_result">
<pre>val affiche_etat : int array -&gt; unit = &lt;fun&gt;
</pre>
</div>

</div>

</div>
</div>

</div>
<div class="cell border-box-sizing code_cell rendered">
<div class="input">
<div class="prompt input_prompt">In&nbsp;[45]:</div>
<div class="inner_cell">
    <div class="input_area">
<div class=" highlight hl-OCaml"><pre><span></span><span class="n">affiche_etat</span> <span class="n">ex3_1</span><span class="o">;;</span>
</pre></div>

    </div>
</div>
</div>

<div class="output_wrapper">
<div class="output">


<div class="output_area">

    <div class="prompt output_prompt">Out[45]:</div>




<div class="output_text output_subarea output_execute_result">
<pre>- : unit = ()
</pre>
</div>

</div>

<div class="output_area">

    <div class="prompt"></div>


<div class="output_subarea output_stream output_stdout output_text">
<pre>212211100011001111122012001220121202021210112221021002120120002102200202210112002021002012110120102010 1 2 
</pre>
</div>
</div>

</div>
</div>

</div>
<div class="cell border-box-sizing code_cell rendered">
<div class="input">
<div class="prompt input_prompt">In&nbsp;[46]:</div>
<div class="inner_cell">
    <div class="input_area">
<div class=" highlight hl-OCaml"><pre><span></span><span class="k">let</span> <span class="n">u</span> <span class="o">=</span> <span class="n">ref</span> <span class="n">ex3_1</span> <span class="k">in</span>
<span class="k">for</span> <span class="o">_</span> <span class="o">=</span> <span class="mi">0</span> <span class="k">to</span> <span class="mi">10</span> <span class="k">do</span>
    <span class="n">affiche_etat</span> <span class="o">!</span><span class="n">u</span><span class="o">;</span>
    <span class="n">u</span> <span class="o">:=</span> <span class="n">simule_markov_robots</span> <span class="n">ex3</span> <span class="o">!</span><span class="n">u</span> <span class="mi">1</span><span class="o">;</span>
<span class="k">done</span><span class="o">;;</span>
</pre></div>

    </div>
</div>
</div>

<div class="output_wrapper">
<div class="output">


<div class="output_area">

    <div class="prompt"></div>


<div class="output_subarea output_stream output_stdout output_text">
<pre>0 1 2 
2 1 2 
0 1 1 
0 0 2 
0 1 1 
0 0 1 
0 1 1 
0 1 1 
2 1 1 
2 0 1 
0 1 1 
</pre>
</div>
</div>

<div class="output_area">

    <div class="prompt output_prompt">Out[46]:</div>




<div class="output_text output_subarea output_execute_result">
<pre>- : unit = ()
</pre>
</div>

</div>

</div>
</div>

</div>
<div class="cell border-box-sizing text_cell rendered"><div class="prompt input_prompt">
</div><div class="inner_cell">
<div class="text_cell_render border-box-sizing rendered_html">
<p>On constate que des rendez-vous ont bien été effectués !
Pas à chaque fois, mais presque.</p>
<p>En tout cas, ça fonctionne mieux que l'approche naïve, peu importe l'état initial.</p>

</div>
</div>
</div>
<div class="cell border-box-sizing code_cell rendered">
<div class="input">
<div class="prompt input_prompt">In&nbsp;[47]:</div>
<div class="inner_cell">
    <div class="input_area">
<div class=" highlight hl-OCaml"><pre><span></span><span class="k">let</span> <span class="n">u</span> <span class="o">=</span> <span class="n">ref</span> <span class="o">[|</span> <span class="mi">0</span><span class="o">;</span> <span class="mi">1</span><span class="o">;</span> <span class="mi">1</span> <span class="o">|]</span> <span class="k">in</span>
<span class="k">for</span> <span class="o">_</span> <span class="o">=</span> <span class="mi">0</span> <span class="k">to</span> <span class="mi">10</span> <span class="k">do</span>
    <span class="n">affiche_etat</span> <span class="o">!</span><span class="n">u</span><span class="o">;</span>
    <span class="n">u</span> <span class="o">:=</span> <span class="n">simule_markov_robots</span> <span class="n">ex3</span> <span class="o">!</span><span class="n">u</span> <span class="mi">1</span><span class="o">;</span>
<span class="k">done</span><span class="o">;;</span>
</pre></div>

    </div>
</div>
</div>

<div class="output_wrapper">
<div class="output">


<div class="output_area">

    <div class="prompt"></div>


<div class="output_subarea output_stream output_stdout output_text">
<pre>0 1 1 
0 1 2 
0 0 1 
0 0 2 
2 1 2 
0 0 1 
2 1 2 
2 0 1 
2 1 1 
0 1 1 
0 0 1 
</pre>
</div>
</div>

<div class="output_area">

    <div class="prompt output_prompt">Out[47]:</div>




<div class="output_text output_subarea output_execute_result">
<pre>- : unit = ()
</pre>
</div>

</div>

</div>
</div>

</div>
<div class="cell border-box-sizing text_cell rendered"><div class="prompt input_prompt">
</div><div class="inner_cell">
<div class="text_cell_render border-box-sizing rendered_html">
<p>Sur 11 états, le rendez-vous 0 a été fait 1 fois, le 1 a été fait 4 fois, et le 2 a été fait 4 fois aussi. Soit 9 sur 11 étapes utiles ! Pas mal !</p>
<blockquote><p><span style="color:gray;">(ce texte n'est pas valide à chaque exécution à cause de l'aléa...)</span></p>
</blockquote>

</div>
</div>
</div>
<div class="cell border-box-sizing text_cell rendered"><div class="prompt input_prompt">
</div><div class="inner_cell">
<div class="text_cell_render border-box-sizing rendered_html">
<h3 id="Exemple-2">Exemple 2<a class="anchor-link" href="#Exemple-2">&#182;</a></h3><p>Puis le second exemple :</p>
<p><img src="images/robots_exemple2.png" alt="Premier exemple de robots"></p>

</div>
</div>
</div>
<div class="cell border-box-sizing code_cell rendered">
<div class="input">
<div class="prompt input_prompt">In&nbsp;[48]:</div>
<div class="inner_cell">
    <div class="input_area">
<div class=" highlight hl-OCaml"><pre><span></span><span class="k">let</span> <span class="n">ex4</span> <span class="o">=</span> <span class="o">[|</span> <span class="o">[|</span><span class="mi">0</span><span class="o">;</span> <span class="mi">3</span><span class="o">|];</span> <span class="o">[|</span><span class="mi">0</span><span class="o">;</span> <span class="mi">1</span><span class="o">|];</span> <span class="o">[|</span><span class="mi">1</span><span class="o">;</span> <span class="mi">2</span><span class="o">|];</span> <span class="o">[|</span><span class="mi">2</span><span class="o">;</span> <span class="mi">3</span><span class="o">|]</span> <span class="o">|];;</span>
</pre></div>

    </div>
</div>
</div>

<div class="output_wrapper">
<div class="output">


<div class="output_area">

    <div class="prompt output_prompt">Out[48]:</div>




<div class="output_text output_subarea output_execute_result">
<pre>val ex4 : int array array = [|[|0; 3|]; [|0; 1|]; [|1; 2|]; [|2; 3|]|]
</pre>
</div>

</div>

</div>
</div>

</div>
<div class="cell border-box-sizing code_cell rendered">
<div class="input">
<div class="prompt input_prompt">In&nbsp;[49]:</div>
<div class="inner_cell">
    <div class="input_area">
<div class=" highlight hl-OCaml"><pre><span></span><span class="k">let</span> <span class="n">ex4_1</span> <span class="o">=</span> <span class="n">premier_etat</span> <span class="n">ex4</span><span class="o">;;</span>
</pre></div>

    </div>
</div>
</div>

<div class="output_wrapper">
<div class="output">


<div class="output_area">

    <div class="prompt output_prompt">Out[49]:</div>




<div class="output_text output_subarea output_execute_result">
<pre>val ex4_1 : int array = [|0; 0; 1; 2|]
</pre>
</div>

</div>

</div>
</div>

</div>
<div class="cell border-box-sizing text_cell rendered"><div class="prompt input_prompt">
</div><div class="inner_cell">
<div class="text_cell_render border-box-sizing rendered_html">
<p>On vérifie la matrice de transition produite par <code>mat_proba_depuis_rdv</code> :</p>

</div>
</div>
</div>
<div class="cell border-box-sizing code_cell rendered">
<div class="input">
<div class="prompt input_prompt">In&nbsp;[50]:</div>
<div class="inner_cell">
    <div class="input_area">
<div class=" highlight hl-OCaml"><pre><span></span><span class="n">mat_proba_depuis_rdv</span> <span class="n">ex4</span><span class="o">;;</span>
</pre></div>

    </div>
</div>
</div>

<div class="output_wrapper">
<div class="output">


<div class="output_area">

    <div class="prompt output_prompt">Out[50]:</div>




<div class="output_text output_subarea output_execute_result">
<pre>- : float array array array =
[|[|[|0.5; 0.; 0.; 0.5|]; [|0.; 0.; 0.; 0.|]; [|0.; 0.; 0.; 0.|];
    [|0.5; 0.; 0.; 0.5|]|];
  [|[|0.5; 0.5; 0.; 0.|]; [|0.5; 0.5; 0.; 0.|]; [|0.; 0.; 0.; 0.|];
    [|0.; 0.; 0.; 0.|]|];
  [|[|0.; 0.; 0.; 0.|]; [|0.; 0.5; 0.5; 0.|]; [|0.; 0.5; 0.5; 0.|];
    [|0.; 0.; 0.; 0.|]|];
  [|[|0.; 0.; 0.; 0.|]; [|0.; 0.; 0.; 0.|]; [|0.; 0.; 0.5; 0.5|];
    [|0.; 0.; 0.5; 0.5|]|]|]
</pre>
</div>

</div>

</div>
</div>

</div>
<div class="cell border-box-sizing text_cell rendered"><div class="prompt input_prompt">
</div><div class="inner_cell">
<div class="text_cell_render border-box-sizing rendered_html">
<p>Et enfin on peut simuler le système, par exemple pour juste une étape, plusieurs fois (pour bien visualiser).</p>

</div>
</div>
</div>
<div class="cell border-box-sizing code_cell rendered">
<div class="input">
<div class="prompt input_prompt">In&nbsp;[51]:</div>
<div class="inner_cell">
    <div class="input_area">
<div class=" highlight hl-OCaml"><pre><span></span><span class="n">simule_markov_robots</span> <span class="n">ex4</span> <span class="n">ex4_1</span> <span class="mi">0</span><span class="o">;;</span>  <span class="c">(* rien à faire ! *)</span>
</pre></div>

    </div>
</div>
</div>

<div class="output_wrapper">
<div class="output">


<div class="output_area">

    <div class="prompt output_prompt">Out[51]:</div>




<div class="output_text output_subarea output_execute_result">
<pre>- : int array = [|0; 0; 1; 2|]
</pre>
</div>

</div>

</div>
</div>

</div>
<div class="cell border-box-sizing code_cell rendered">
<div class="input">
<div class="prompt input_prompt">In&nbsp;[52]:</div>
<div class="inner_cell">
    <div class="input_area">
<div class=" highlight hl-OCaml"><pre><span></span><span class="n">simule_markov_robots</span> <span class="n">ex4</span> <span class="n">ex4_1</span> <span class="mi">1</span><span class="o">;;</span>
</pre></div>

    </div>
</div>
</div>

<div class="output_wrapper">
<div class="output">


<div class="output_area">

    <div class="prompt output_prompt">Out[52]:</div>




<div class="output_text output_subarea output_execute_result">
<pre>- : int array = [|3; 1; 1; 2|]
</pre>
</div>

</div>

</div>
</div>

</div>
<div class="cell border-box-sizing code_cell rendered">
<div class="input">
<div class="prompt input_prompt">In&nbsp;[53]:</div>
<div class="inner_cell">
    <div class="input_area">
<div class=" highlight hl-OCaml"><pre><span></span><span class="k">let</span> <span class="n">u</span> <span class="o">=</span> <span class="n">ref</span> <span class="n">ex4_1</span> <span class="k">in</span>
<span class="k">for</span> <span class="o">_</span> <span class="o">=</span> <span class="mi">0</span> <span class="k">to</span> <span class="mi">10</span> <span class="k">do</span>
    <span class="n">affiche_etat</span> <span class="o">!</span><span class="n">u</span><span class="o">;</span>
    <span class="n">u</span> <span class="o">:=</span> <span class="n">simule_markov_robots</span> <span class="n">ex4</span> <span class="o">!</span><span class="n">u</span> <span class="mi">1</span><span class="o">;</span>
<span class="k">done</span><span class="o">;;</span>
</pre></div>

    </div>
</div>
</div>

<div class="output_wrapper">
<div class="output">


<div class="output_area">

    <div class="prompt"></div>


<div class="output_subarea output_stream output_stdout output_text">
<pre>0 0 1 2 
0 0 1 2 
0 0 1 3 
3 0 1 3 
0 0 1 3 
0 1 1 2 
0 1 2 3 
3 0 2 3 
0 1 2 3 
0 0 2 2 
3 0 1 2 
</pre>
</div>
</div>

<div class="output_area">

    <div class="prompt output_prompt">Out[53]:</div>




<div class="output_text output_subarea output_execute_result">
<pre>- : unit = ()
</pre>
</div>

</div>

</div>
</div>

</div>
<div class="cell border-box-sizing text_cell rendered"><div class="prompt input_prompt">
</div><div class="inner_cell">
<div class="text_cell_render border-box-sizing rendered_html">
<p>Sur 11 états, le rendez-vous 0 a été fait 5 fois, le 1 a été fait 2 fois, le 2 a été fait 3 fois, et le 3 a été fait 3 fois aussi.
Soit plus d'un rendez-vous par étape réussi en moyenne, et tous les rendez-vous ont été vus.</p>
<blockquote><p><span style="color:gray;">(ce texte n'est pas valide à chaque exécution à cause de l'aléa...)</span></p>
</blockquote>

</div>
</div>
</div>
<div class="cell border-box-sizing text_cell rendered"><div class="prompt input_prompt">
</div><div class="inner_cell">
<div class="text_cell_render border-box-sizing rendered_html">
<h3 id="Conclusion-de-cette-approche-par-des-cha&#238;nes-de-Markov">Conclusion de cette approche par des cha&#238;nes de Markov<a class="anchor-link" href="#Conclusion-de-cette-approche-par-des-cha&#238;nes-de-Markov">&#182;</a></h3><p>On ne va pas en faire plus, mais cela suffit de montrer la pertinence de cette autre approche.</p>
<blockquote><p>Merci d'avoir lu jusque là !</p>
</blockquote>

</div>
</div>
</div>
<div class="cell border-box-sizing text_cell rendered"><div class="prompt input_prompt">
</div><div class="inner_cell">
<div class="text_cell_render border-box-sizing rendered_html">
<hr>
<h2 id="Conclusion">Conclusion<a class="anchor-link" href="#Conclusion">&#182;</a></h2><p>Voilà pour la question obligatoire de programmation :</p>
<ul>
<li>on a adopté la modélisation du texte (dans la 1ère approche) et aussi une autre modélisation (2ème approche),</li>
<li>on a traité l'exemple du texte, et deux exemples assez proches.</li>
<li>on a fait des exemples et <em>on les garde</em> dans ce qu'on présente au jury.</li>
<li>on a essayé de faire <em>un peu plus</em>, en suivant une des directions suggérées par le texte.</li>
</ul>
<blockquote><p>Bien-sûr, ce petit notebook ne se prétend pas être une solution optimale, ni exhaustive.</p>
</blockquote>
<hr>
<p>N'hésitez pas à aller voir <a href="https://GitHub.com/Naereen/notebooks/">ce dépôt GitHub</a> pour d'autres notebooks, notamment <a href="https://nbviewer.jupyter.org/github/Naereen/notebooks/tree/master/agreg/">cette page</a> pour d'autres notebooks corrigeant des textes de modélisation (option D, informatique théorique) pour l'agrégation de mathématiques.</p>

</div>
</div>
</div>
 


    </div>
  </div>

  </div>


  
    <footer class="footer hidden-print">
      <div class="container">
        <div class="col-md-4">
          <p>
            This website does not host notebooks, it only renders notebooks
            available on other websites.
          </p>
        </div>

        <div class="col-md-4">
          <p>
            Delivered by <a href="https://www.fastly.com/">Fastly</a>,
            Rendered by <a href="https://developer.rackspace.com/?nbviewer=awesome">Rackspace</a>
          </p>
          <p>
            nbviewer GitHub <a href="https://github.com/jupyter/nbviewer">repository</a>.
          </p>
        </div>

        <div class="col-md-4">
          
  
            
              <p>
                nbviewer version:
                <a href="https://github.com/jupyter/nbviewer/commit/07b0e305b3254e2280b29f20ceb96c058db2f775">
                  07b0e30
                </a>
              </p>
            
          
  
  <p>
    nbconvert version: <a href="https://github.com/jupyter/nbconvert/releases/tag/5.6.0">
      5.6.0
    </a>
  </p>
  

          
  
  
  <p>
    Rendered
    <span class='date' data-date='Mon, 27 Jan 2020 13:30:53 UTC' title='Mon, 27 Jan 2020 13:30:53 UTC'>(Mon, 27 Jan 2020 13:30:53 UTC)</span>
  </p>
  

        </div>
      </div>
    </footer>
  

  <script src="/static/components/bootstrap/js/bootstrap.min.js?v=5869c96cc8f19086aee625d670d741f9"></script>
  <script src="/static/components/headroom.js/dist/headroom.min.js?v=b0a311ea668f8e768ea375f4a7abb81c"></script>
  <script src="/static/components/headroom.js/dist/jQuery.headroom.min.js?v=f3a1bae118315d0c234afc74dc6aab71"></script>

  
  
  <script>
    $(function(){ $("#menubar").headroom({
      tolerance: 5,
      offset: 205,
      classes: {
        initial: "animated",
        pinned: "slideInDown",
        unpinned: "slideOutUp"
      }
    })});
  </script>


  
  <script>
    (function(i,s,o,g,r,a,m){i['GoogleAnalyticsObject']=r;i[r]=i[r]||function(){
      (i[r].q=i[r].q||[]).push(arguments)},i[r].l=1*new Date();a=s.createElement(o),
      m=s.getElementsByTagName(o)[0];a.async=1;a.src=g;m.parentNode.insertBefore(a,m)
    })(window,document,'script','https://www.google-analytics.com/analytics.js','ga');
    ga('create', 'UA-52617120-5', 'auto',
       {'storage': 'none'});
    ga('set', 'anonymizeIp', true);
    ga('send', 'pageview');
  </script>
  
  <script>
    require({
        paths: {
          moment: "/static/components/moment/min/moment.min.js?v=89f87298ad94aa1e6b92f42eb66da043"
        }
      }, ["moment"], function(moment){
      var date = $("footer .date"),
        m = moment(new Date(date.data('date'))),
        update = function(){ date.text(m.fromNow()); };
      setInterval(update, 61*1000);
      update();
      var w = $(window).scroll(function(event){
        $("body").toggleClass("scrolled", w.scrollTop() > 0);
      });
    });
  </script>

  <!--NEW RELIC Stop Perf Measurement-->
  
  <!--NEW RELIC End-->
</body>
</html>